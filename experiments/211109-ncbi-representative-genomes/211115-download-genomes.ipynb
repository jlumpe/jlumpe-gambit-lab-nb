{
 "cells": [
  {
   "cell_type": "code",
   "execution_count": 1,
   "id": "b37549d2-5996-420f-a862-77af60118387",
   "metadata": {},
   "outputs": [],
   "source": [
    "from pathlib import Path\n",
    "import json\n",
    "from urllib.request import urlopen, urlretrieve\n",
    "from urllib.error import URLError\n",
    "import tarfile\n",
    "from concurrent.futures import ThreadPoolExecutor, as_completed\n",
    "import time"
   ]
  },
  {
   "cell_type": "code",
   "execution_count": 2,
   "id": "7a64defc-8c1f-446a-b533-528f9ef6928e",
   "metadata": {},
   "outputs": [],
   "source": [
    "from tqdm import tqdm"
   ]
  },
  {
   "cell_type": "code",
   "execution_count": 3,
   "id": "28de431b-d47e-4f41-8c0d-3dd232b1126d",
   "metadata": {},
   "outputs": [],
   "source": [
    "from entrez_tools.db.assembly import seq_url_from_ftppath"
   ]
  },
  {
   "cell_type": "markdown",
   "id": "b98771fb-6cdd-4f07-a3b6-ef7e0584d08f",
   "metadata": {},
   "source": [
    "## Setup"
   ]
  },
  {
   "cell_type": "code",
   "execution_count": 4,
   "id": "3d7dfdb5-af68-4e70-bb6c-7781fbd7c100",
   "metadata": {},
   "outputs": [],
   "source": [
    "DATESTR = '211115'\n",
    "NBNAME = DATESTR + '-download-genomes'"
   ]
  },
  {
   "cell_type": "code",
   "execution_count": 5,
   "id": "3dd0acff-d175-4667-8af2-c3f31882eef2",
   "metadata": {},
   "outputs": [],
   "source": [
    "tmpdir = Path('tmp')\n",
    "\n",
    "genomes_dir = tmpdir / 'genomes'\n",
    "genomes_dir.mkdir(exist_ok=True)"
   ]
  },
  {
   "cell_type": "code",
   "execution_count": 6,
   "id": "4598a967-1e4d-41fc-82d3-042070a0c9fe",
   "metadata": {},
   "outputs": [],
   "source": [
    "infiles = dict(\n",
    "    esummaries_archive=Path('data-intermediate/211111-find-genomes/assembly-summaries.tar.gz'),\n",
    ")"
   ]
  },
  {
   "cell_type": "code",
   "execution_count": 20,
   "id": "bc1d102a-0d93-43c3-95aa-d9c8889afec7",
   "metadata": {},
   "outputs": [],
   "source": [
    "archive_dir = Path('archive')\n",
    "archive_dir.mkdir(exist_ok=True)"
   ]
  },
  {
   "cell_type": "code",
   "execution_count": 22,
   "id": "7b2f32e2-5626-4813-974f-315657079751",
   "metadata": {},
   "outputs": [],
   "source": [
    "outfiles = dict(\n",
    "    genomes=archive_dir / '211109-ncbi-representative-genomes.tar.gz',\n",
    ")"
   ]
  },
  {
   "cell_type": "markdown",
   "id": "e36c5c24-6304-4f60-867d-e1f6be340b80",
   "metadata": {},
   "source": [
    "## Load summary data"
   ]
  },
  {
   "cell_type": "code",
   "execution_count": 7,
   "id": "46179021-20c6-464b-b706-a3f992152b9d",
   "metadata": {},
   "outputs": [
    {
     "name": "stderr",
     "output_type": "stream",
     "text": [
      "100%|██████████| 14388/14388 [00:00<00:00, 15231.38it/s]\n"
     ]
    }
   ],
   "source": [
    "summaries = dict()\n",
    "\n",
    "with tarfile.open(infiles['esummaries_archive']) as archive:\n",
    "    for member in tqdm(archive.getmembers()):\n",
    "        with archive.extractfile(member) as f:\n",
    "            summary = json.load(f)\n",
    "            \n",
    "        uid = summary['uid']\n",
    "        assert member.name == uid + '.json'\n",
    "        assert uid not in summaries\n",
    "        \n",
    "        summaries[uid] = summary"
   ]
  },
  {
   "cell_type": "code",
   "execution_count": 8,
   "id": "55e3cc5b-3cc3-4be0-8776-f362d6cb322f",
   "metadata": {},
   "outputs": [
    {
     "data": {
      "text/plain": [
       "14388"
      ]
     },
     "execution_count": 8,
     "metadata": {},
     "output_type": "execute_result"
    }
   ],
   "source": [
    "len(summaries)"
   ]
  },
  {
   "cell_type": "markdown",
   "id": "c01b32af-64bd-4606-ac4f-b2c6bfe8f5ac",
   "metadata": {},
   "source": [
    "## Find URLs"
   ]
  },
  {
   "cell_type": "code",
   "execution_count": 9,
   "id": "c1fddcc4-a099-4d24-8626-81944aa9736b",
   "metadata": {},
   "outputs": [],
   "source": [
    "assembly_info = dict()\n",
    "skipped = []\n",
    "\n",
    "for uid, summary in summaries.items():\n",
    "    ftppath = summary['ftppath_refseq']\n",
    "    \n",
    "    if not ftppath:\n",
    "        skipped.append(uid)\n",
    "        continue\n",
    "    \n",
    "    info = dict(\n",
    "        acc=summary['assemblyaccession'],\n",
    "        ftppath=ftppath,\n",
    "        url=seq_url_from_ftppath(ftppath),\n",
    "    )\n",
    "    assembly_info[uid] = info"
   ]
  },
  {
   "cell_type": "code",
   "execution_count": 10,
   "id": "f0835fdc-dc1e-4e1d-86c8-b919c647489d",
   "metadata": {},
   "outputs": [
    {
     "data": {
      "text/plain": [
       "[('10898551', 'GCA_003114835.2'),\n",
       " ('11011431', 'GCF_017493175.2'),\n",
       " ('11411721', 'GCA_003382565.3'),\n",
       " ('11411751', 'GCA_016765655.2'),\n",
       " ('11411881', 'GCA_016806835.2')]"
      ]
     },
     "execution_count": 10,
     "metadata": {},
     "output_type": "execute_result"
    }
   ],
   "source": [
    "[(uid, summaries[uid]['assemblyaccession']) for uid in skipped]"
   ]
  },
  {
   "cell_type": "markdown",
   "id": "83ff6668-6313-4d58-9938-6daccac8a8df",
   "metadata": {},
   "source": [
    "## Download"
   ]
  },
  {
   "cell_type": "code",
   "execution_count": 11,
   "id": "96fa5e56-523d-4829-a27c-856031d91573",
   "metadata": {},
   "outputs": [],
   "source": [
    "files = {uid: genomes_dir / (info['acc'] + '.fasta.gz') for uid, info in assembly_info.items()}"
   ]
  },
  {
   "cell_type": "code",
   "execution_count": 12,
   "id": "2987acdc-809b-48f8-b988-bc4189dbd957",
   "metadata": {},
   "outputs": [
    {
     "name": "stderr",
     "output_type": "stream",
     "text": [
      "0it [00:00, ?it/s]\n"
     ]
    }
   ],
   "source": [
    "to_download = [uid for uid, f in files.items() if not f.is_file()]\n",
    "\n",
    "with ThreadPoolExecutor(max_workers=10) as executor:\n",
    "    futures = []\n",
    "    \n",
    "    for uid in to_download:\n",
    "        futures.append(executor.submit(urlretrieve, assembly_info[uid]['url'], files[uid]))\n",
    "        \n",
    "    for f in tqdm(as_completed(futures), total=len(futures)):\n",
    "        pass"
   ]
  },
  {
   "cell_type": "markdown",
   "id": "542c3d2c-1a28-4052-9015-1ff0f78706dd",
   "metadata": {},
   "source": [
    "## Validate checksums"
   ]
  },
  {
   "cell_type": "markdown",
   "id": "337e4442-5286-4a36-94d0-2ab9197eb0e7",
   "metadata": {},
   "source": [
    "### Get checksums"
   ]
  },
  {
   "cell_type": "code",
   "execution_count": 13,
   "id": "180ed900-b19c-479f-b05f-a4d29383586c",
   "metadata": {},
   "outputs": [],
   "source": [
    "def checksum_from_response(data: str, seq_fname: str):\n",
    "    for line in data.splitlines():\n",
    "        checksum, file = line.split(maxsplit=1)\n",
    "        if file == './' + seq_fname:\n",
    "            return checksum\n",
    "        \n",
    "    raise RuntimeError('not found')\n",
    "\n",
    "def get_checksum(ftppath: str):\n",
    "    with urlopen(ftppath + '/md5checksums.txt') as f:\n",
    "        data = f.read().decode()\n",
    "        \n",
    "    seq_url = seq_url_from_ftppath(ftppath)\n",
    "    seq_fname = seq_url.rsplit('/', 1)[1]\n",
    "        \n",
    "    return checksum_from_response(data, seq_fname)"
   ]
  },
  {
   "cell_type": "code",
   "execution_count": 14,
   "id": "7c72b968-0362-4709-adbd-09cbc99ee01b",
   "metadata": {},
   "outputs": [],
   "source": [
    "checksums_file = tmpdir / 'checksums.json'\n",
    "\n",
    "if checksums_file.is_file():\n",
    "    with open(checksums_file) as f:\n",
    "        checksums = json.load(f)\n",
    "        \n",
    "else:\n",
    "    checksums = dict()"
   ]
  },
  {
   "cell_type": "code",
   "execution_count": 15,
   "id": "57f3fcde-11b4-4769-92a0-9ec43db2d95b",
   "metadata": {},
   "outputs": [
    {
     "name": "stderr",
     "output_type": "stream",
     "text": [
      "0it [00:00, ?it/s]\n"
     ]
    }
   ],
   "source": [
    "def worker(ftppath):\n",
    "    errs = []\n",
    "    max_tries = 5\n",
    "    \n",
    "    for i in range(max_tries):\n",
    "        try:\n",
    "            return get_checksum(ftppath)\n",
    "        except URLError as e:\n",
    "            errs.append(e)\n",
    "            if i == max_tries - 1:\n",
    "                print(errs)\n",
    "                raise\n",
    "            time.sleep(.125 * 2**i)\n",
    "            \n",
    "    assert 0\n",
    "    \n",
    "\n",
    "with ThreadPoolExecutor(max_workers=20) as executor:\n",
    "    future_to_uid = dict()\n",
    "    \n",
    "    for uid, info in assembly_info.items():\n",
    "        if uid not in checksums:\n",
    "            future = executor.submit(worker, info['ftppath'])\n",
    "            future_to_uid[future] = uid\n",
    "        \n",
    "    for future in tqdm(as_completed(list(future_to_uid)), total=len(future_to_uid)):\n",
    "        uid = future_to_uid[future]\n",
    "        checksum = future.result()\n",
    "        checksums[uid] = checksum"
   ]
  },
  {
   "cell_type": "code",
   "execution_count": 16,
   "id": "d10ed966-5537-41ea-8fbc-79fe9c8f36fd",
   "metadata": {},
   "outputs": [],
   "source": [
    "with open(checksums_file, 'w') as f:\n",
    "    json.dump(checksums, f)"
   ]
  },
  {
   "cell_type": "markdown",
   "id": "c9a5db78-4767-49f7-b9c4-a76e005598d2",
   "metadata": {},
   "source": [
    "### Check"
   ]
  },
  {
   "cell_type": "code",
   "execution_count": 17,
   "id": "65bb1022-c30a-4bc9-af28-dc4331158bb6",
   "metadata": {},
   "outputs": [
    {
     "name": "stderr",
     "output_type": "stream",
     "text": [
      "100%|██████████| 14383/14383 [02:50<00:00, 84.36it/s]\n"
     ]
    }
   ],
   "source": [
    "failed = []\n",
    "\n",
    "for uid, file in tqdm(files.items()):\n",
    "    s = !md5sum -b {file}\n",
    "    s = s[0].split()[0]\n",
    "    if s != checksums[uid]:\n",
    "        failed.append(uid)"
   ]
  },
  {
   "cell_type": "code",
   "execution_count": 18,
   "id": "a3e1dedc-0c94-4059-b0a8-ded090020662",
   "metadata": {},
   "outputs": [],
   "source": [
    "for uid in failed:\n",
    "    files[uid].unlink()"
   ]
  },
  {
   "cell_type": "code",
   "execution_count": 19,
   "id": "4f703075-5133-4ad6-a215-f629eccaa469",
   "metadata": {},
   "outputs": [],
   "source": [
    "assert not failed\n",
    "# Or return to download section..."
   ]
  }
 ],
 "metadata": {
  "kernelspec": {
   "display_name": "GAMBIT",
   "language": "python",
   "name": "gambit"
  },
  "language_info": {
   "codemirror_mode": {
    "name": "ipython",
    "version": 3
   },
   "file_extension": ".py",
   "mimetype": "text/x-python",
   "name": "python",
   "nbconvert_exporter": "python",
   "pygments_lexer": "ipython3",
   "version": "3.9.7"
  }
 },
 "nbformat": 4,
 "nbformat_minor": 5
}
