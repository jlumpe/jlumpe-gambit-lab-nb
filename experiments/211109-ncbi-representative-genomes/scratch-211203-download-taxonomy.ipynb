{
 "cells": [
  {
   "cell_type": "markdown",
   "id": "4ab2b184-ff58-4f94-852e-da7d5212f2b4",
   "metadata": {},
   "source": [
    "# 211203 Download taxonomy"
   ]
  },
  {
   "cell_type": "code",
   "execution_count": 1,
   "id": "b37549d2-5996-420f-a862-77af60118387",
   "metadata": {},
   "outputs": [],
   "source": [
    "from pathlib import Path\n",
    "import json"
   ]
  },
  {
   "cell_type": "code",
   "execution_count": 2,
   "id": "7a64defc-8c1f-446a-b533-528f9ef6928e",
   "metadata": {},
   "outputs": [],
   "source": [
    "import pandas as pd\n",
    "from Bio import Entrez\n",
    "from tqdm import tqdm"
   ]
  },
  {
   "cell_type": "markdown",
   "id": "b98771fb-6cdd-4f07-a3b6-ef7e0584d08f",
   "metadata": {},
   "source": [
    "## Setup"
   ]
  },
  {
   "cell_type": "code",
   "execution_count": 3,
   "id": "3d7dfdb5-af68-4e70-bb6c-7781fbd7c100",
   "metadata": {},
   "outputs": [],
   "source": [
    "DATESTR = '212103'\n",
    "NBNAME = DATESTR + '-download-genomes'"
   ]
  },
  {
   "cell_type": "code",
   "execution_count": 4,
   "id": "3544b771-b750-4728-a375-ff58b1819a72",
   "metadata": {},
   "outputs": [],
   "source": [
    "Entrez.email = 'mjlumpe@gmail.com'\n",
    "Entrez.api_key = 'adea2a53e6e44c3cc42c932f9ba4bdffa809'"
   ]
  },
  {
   "cell_type": "code",
   "execution_count": 5,
   "id": "a4f28e90-0bcd-40eb-9e77-a6df4771352e",
   "metadata": {},
   "outputs": [],
   "source": [
    "tmpdir = Path('tmp')"
   ]
  },
  {
   "cell_type": "code",
   "execution_count": 6,
   "id": "4598a967-1e4d-41fc-82d3-042070a0c9fe",
   "metadata": {},
   "outputs": [],
   "source": [
    "infiles = dict(\n",
    "    genomes_table=Path('data-processed/211111-inspect-genomes/genomes.csv'),\n",
    ")"
   ]
  },
  {
   "cell_type": "markdown",
   "id": "a9ca9290-412a-40e3-a97b-af908aac677a",
   "metadata": {},
   "source": [
    "archive_dir = Path('archive')\n",
    "archive_dir.mkdir(exist_ok=True)"
   ]
  },
  {
   "cell_type": "markdown",
   "id": "a7d4a18a-2143-4392-a29c-3073405a5bd3",
   "metadata": {},
   "source": [
    "outfiles = dict(\n",
    "    genomes=archive_dir / '211109-ncbi-representative-genomes.tar.gz',\n",
    ")"
   ]
  },
  {
   "cell_type": "markdown",
   "id": "e36c5c24-6304-4f60-867d-e1f6be340b80",
   "metadata": {},
   "source": [
    "## Load data"
   ]
  },
  {
   "cell_type": "code",
   "execution_count": 7,
   "id": "90690c0d-0c25-41b9-ab10-d649b0994c8e",
   "metadata": {},
   "outputs": [],
   "source": [
    "genomes_df = pd.read_csv(infiles['genomes_table'], dtype=dict(taxid=str))"
   ]
  },
  {
   "cell_type": "markdown",
   "id": "2b1f9045-5f93-4aea-b444-152cb10f78ce",
   "metadata": {
    "tags": []
   },
   "source": [
    "## Download taxonomy tree"
   ]
  },
  {
   "cell_type": "code",
   "execution_count": null,
   "id": "b935c960-59fe-478d-a86a-796cca7c91f1",
   "metadata": {},
   "outputs": [],
   "source": []
  },
  {
   "cell_type": "code",
   "execution_count": 8,
   "id": "36edbd07-d818-494b-9cc2-8d71a404c8a9",
   "metadata": {},
   "outputs": [],
   "source": [
    "%load_ext autoreload\n",
    "%autoreload 1"
   ]
  },
  {
   "cell_type": "code",
   "execution_count": 25,
   "id": "003a0787-7670-4f0a-87ba-81e6742049e0",
   "metadata": {},
   "outputs": [],
   "source": [
    "%aimport entrez_tools.db.taxonomy\n",
    "from entrez_tools.db.taxonomy import fetch_taxa, fetch_taxonomy_tree, get_aka_taxids"
   ]
  },
  {
   "cell_type": "code",
   "execution_count": 10,
   "id": "eff87867-150d-41cf-903b-fe2b4ee59b19",
   "metadata": {},
   "outputs": [],
   "source": [
    "taxa_file = tmpdir / 'taxa.json'\n",
    "\n",
    "if taxa_file.is_file():\n",
    "    with open(taxa_file) as f:\n",
    "        taxon_data = json.load(f)\n",
    "        \n",
    "else:\n",
    "    taxon_data = dict()"
   ]
  },
  {
   "cell_type": "code",
   "execution_count": 18,
   "id": "8b441973-8a69-411b-9a1e-e024104ce5de",
   "metadata": {},
   "outputs": [
    {
     "ename": "AssertionError",
     "evalue": "",
     "output_type": "error",
     "traceback": [
      "\u001b[0;31m---------------------------------------------------------------------------\u001b[0m",
      "\u001b[0;31mAssertionError\u001b[0m                            Traceback (most recent call last)",
      "\u001b[0;32m<ipython-input-18-c465e36efecf>\u001b[0m in \u001b[0;36m<module>\u001b[0;34m\u001b[0m\n\u001b[0;32m----> 1\u001b[0;31m \u001b[0mfetch_taxonomy_tree\u001b[0m\u001b[0;34m(\u001b[0m\u001b[0mgenomes_df\u001b[0m\u001b[0;34m[\u001b[0m\u001b[0;34m'taxid'\u001b[0m\u001b[0;34m]\u001b[0m\u001b[0;34m,\u001b[0m \u001b[0mtaxon_data\u001b[0m\u001b[0;34m)\u001b[0m\u001b[0;34m;\u001b[0m\u001b[0;34m\u001b[0m\u001b[0;34m\u001b[0m\u001b[0m\n\u001b[0m",
      "\u001b[0;32m~/code/misc/entrez-tools/entrez_tools/db/taxonomy.py\u001b[0m in \u001b[0;36mfetch_taxonomy_tree\u001b[0;34m(taxids, taxa, chunksize)\u001b[0m\n\u001b[1;32m    132\u001b[0m                         \u001b[0mids\u001b[0m \u001b[0;34m=\u001b[0m \u001b[0mall_taxids\u001b[0m\u001b[0;34m(\u001b[0m\u001b[0mtaxon\u001b[0m\u001b[0;34m)\u001b[0m\u001b[0;34m\u001b[0m\u001b[0;34m\u001b[0m\u001b[0m\n\u001b[1;32m    133\u001b[0m \u001b[0;34m\u001b[0m\u001b[0m\n\u001b[0;32m--> 134\u001b[0;31m                         \u001b[0;32massert\u001b[0m \u001b[0mtaxid\u001b[0m \u001b[0;32mnot\u001b[0m \u001b[0;32min\u001b[0m \u001b[0mtaxa\u001b[0m\u001b[0;34m\u001b[0m\u001b[0;34m\u001b[0m\u001b[0m\n\u001b[0m\u001b[1;32m    135\u001b[0m                         \u001b[0mtaxa\u001b[0m\u001b[0;34m[\u001b[0m\u001b[0mtaxid\u001b[0m\u001b[0;34m]\u001b[0m \u001b[0;34m=\u001b[0m \u001b[0mtaxon\u001b[0m\u001b[0;34m\u001b[0m\u001b[0;34m\u001b[0m\u001b[0m\n\u001b[1;32m    136\u001b[0m \u001b[0;34m\u001b[0m\u001b[0m\n",
      "\u001b[0;31mAssertionError\u001b[0m: "
     ]
    }
   ],
   "source": [
    "fetch_taxonomy_tree(genomes_df['taxid'], taxon_data);"
   ]
  },
  {
   "cell_type": "code",
   "execution_count": null,
   "id": "1e19fb0c-853f-4db8-81cf-96e7d0dd8809",
   "metadata": {},
   "outputs": [],
   "source": [
    "debug"
   ]
  },
  {
   "cell_type": "code",
   "execution_count": 22,
   "id": "280dfc8e-4916-425b-a0c7-e650e885513a",
   "metadata": {},
   "outputs": [],
   "source": [
    "taxids = ['1648870', '202772']"
   ]
  },
  {
   "cell_type": "code",
   "execution_count": 27,
   "id": "c71dc90c-2fd7-4b2f-b158-bb54353e066f",
   "metadata": {},
   "outputs": [
    {
     "data": {
      "text/plain": [
       "{'2071625': '2042995', '1278819': '1114873', '519423': '2016499'}"
      ]
     },
     "execution_count": 27,
     "metadata": {},
     "output_type": "execute_result"
    }
   ],
   "source": [
    "get_aka_taxids(taxon_data.values())"
   ]
  },
  {
   "cell_type": "code",
   "execution_count": null,
   "id": "fb5a5223-3495-4482-a619-96835bbf185d",
   "metadata": {},
   "outputs": [],
   "source": []
  },
  {
   "cell_type": "code",
   "execution_count": 23,
   "id": "5eba0e58-be97-48a1-a91d-081ed073e196",
   "metadata": {},
   "outputs": [
    {
     "data": {
      "text/plain": [
       "{'1648870': {'TaxId': '202772',\n",
       "  'ScientificName': 'Zooshikella ganghwensis',\n",
       "  'OtherNames': {'Synonym': ['Zooshikella marina'],\n",
       "   'Teleomorph': [],\n",
       "   'Misspelling': [],\n",
       "   'GenbankAnamorph': [],\n",
       "   'CommonName': [],\n",
       "   'Acronym': [],\n",
       "   'Inpart': [],\n",
       "   'Anamorph': [],\n",
       "   'Includes': ['Zooshikella sp. JC333'],\n",
       "   'EquivalentName': [],\n",
       "   'Name': [{'ClassCDE': 'authority', 'DispName': 'Zooshikella ganghwensis Yi et al. 2003'},\n",
       "    {'ClassCDE': 'authority', 'DispName': 'Zooshikella ganghwensis Yi et al. 2003 emend. Huang et al. 2021'},\n",
       "    {'ClassCDE': 'authority', 'DispName': 'Zooshikella marina Ramaprasad et al. 2015'},\n",
       "    {'ClassCDE': 'type material', 'DispName': 'BCCM/LMG:28823'},\n",
       "    {'ClassCDE': 'type material', 'DispName': 'DSM 15267'},\n",
       "    {'ClassCDE': 'type material', 'DispName': 'DSM:15267'},\n",
       "    {'ClassCDE': 'type material', 'DispName': 'IMSNU 14003'},\n",
       "    {'ClassCDE': 'type material', 'DispName': 'IMSNU:14003'},\n",
       "    {'ClassCDE': 'type material', 'DispName': 'KCTC 12044'},\n",
       "    {'ClassCDE': 'type material', 'DispName': 'KCTC 42659'},\n",
       "    {'ClassCDE': 'type material', 'DispName': 'KCTC:12044'},\n",
       "    {'ClassCDE': 'type material', 'DispName': 'KCTC:42659'},\n",
       "    {'ClassCDE': 'type material', 'DispName': 'LMG 28823'},\n",
       "    {'ClassCDE': 'type material', 'DispName': 'LMG:28823'},\n",
       "    {'ClassCDE': 'type material', 'DispName': 'personal::JC2044'},\n",
       "    {'ClassCDE': 'type material', 'DispName': 'personal::JC333'},\n",
       "    {'ClassCDE': 'type material', 'DispName': 'strain JC2044'},\n",
       "    {'ClassCDE': 'type material', 'DispName': 'strain JC333'},\n",
       "    {'ClassCDE': 'misspelling', 'DispName': 'Leella ganghwensis'}],\n",
       "   'GenbankSynonym': [],\n",
       "   'Misnomer': []},\n",
       "  'ParentTaxId': '202771',\n",
       "  'Rank': 'species',\n",
       "  'Division': 'Bacteria',\n",
       "  'GeneticCode': {'GCId': '11',\n",
       "   'GCName': 'Bacterial, Archaeal and Plant Plastid'},\n",
       "  'MitoGeneticCode': {'MGCId': '0', 'MGCName': 'Unspecified'},\n",
       "  'Lineage': 'cellular organisms; Bacteria; Proteobacteria; Gammaproteobacteria; Oceanospirillales; Zooshikellaceae; Zooshikella',\n",
       "  'LineageEx': [{'TaxId': '131567',\n",
       "    'ScientificName': 'cellular organisms',\n",
       "    'Rank': 'no rank'},\n",
       "   {'TaxId': '2', 'ScientificName': 'Bacteria', 'Rank': 'superkingdom'},\n",
       "   {'TaxId': '1224', 'ScientificName': 'Proteobacteria', 'Rank': 'phylum'},\n",
       "   {'TaxId': '1236', 'ScientificName': 'Gammaproteobacteria', 'Rank': 'class'},\n",
       "   {'TaxId': '135619', 'ScientificName': 'Oceanospirillales', 'Rank': 'order'},\n",
       "   {'TaxId': '2898533', 'ScientificName': 'Zooshikellaceae', 'Rank': 'family'},\n",
       "   {'TaxId': '202771', 'ScientificName': 'Zooshikella', 'Rank': 'genus'}],\n",
       "  'CreateDate': '2002/05/08 12:00:00',\n",
       "  'UpdateDate': '2021/11/26 13:50:46',\n",
       "  'PubDate': '2002/08/01 19:03:00',\n",
       "  'AkaTaxIds': ['1648870']}}"
      ]
     },
     "execution_count": 23,
     "metadata": {},
     "output_type": "execute_result"
    }
   ],
   "source": [
    "fetch_taxa(taxids[0])"
   ]
  },
  {
   "cell_type": "code",
   "execution_count": 24,
   "id": "750784d7-34ae-4685-a0bc-9d461ca9fbd5",
   "metadata": {},
   "outputs": [
    {
     "data": {
      "text/plain": [
       "{'202772': {'TaxId': '202772',\n",
       "  'ScientificName': 'Zooshikella ganghwensis',\n",
       "  'OtherNames': {'Synonym': ['Zooshikella marina'],\n",
       "   'Teleomorph': [],\n",
       "   'Misspelling': [],\n",
       "   'GenbankAnamorph': [],\n",
       "   'CommonName': [],\n",
       "   'Acronym': [],\n",
       "   'Inpart': [],\n",
       "   'Anamorph': [],\n",
       "   'Includes': ['Zooshikella sp. JC333'],\n",
       "   'EquivalentName': [],\n",
       "   'Name': [{'ClassCDE': 'authority', 'DispName': 'Zooshikella ganghwensis Yi et al. 2003'},\n",
       "    {'ClassCDE': 'authority', 'DispName': 'Zooshikella ganghwensis Yi et al. 2003 emend. Huang et al. 2021'},\n",
       "    {'ClassCDE': 'authority', 'DispName': 'Zooshikella marina Ramaprasad et al. 2015'},\n",
       "    {'ClassCDE': 'type material', 'DispName': 'BCCM/LMG:28823'},\n",
       "    {'ClassCDE': 'type material', 'DispName': 'DSM 15267'},\n",
       "    {'ClassCDE': 'type material', 'DispName': 'DSM:15267'},\n",
       "    {'ClassCDE': 'type material', 'DispName': 'IMSNU 14003'},\n",
       "    {'ClassCDE': 'type material', 'DispName': 'IMSNU:14003'},\n",
       "    {'ClassCDE': 'type material', 'DispName': 'KCTC 12044'},\n",
       "    {'ClassCDE': 'type material', 'DispName': 'KCTC 42659'},\n",
       "    {'ClassCDE': 'type material', 'DispName': 'KCTC:12044'},\n",
       "    {'ClassCDE': 'type material', 'DispName': 'KCTC:42659'},\n",
       "    {'ClassCDE': 'type material', 'DispName': 'LMG 28823'},\n",
       "    {'ClassCDE': 'type material', 'DispName': 'LMG:28823'},\n",
       "    {'ClassCDE': 'type material', 'DispName': 'personal::JC2044'},\n",
       "    {'ClassCDE': 'type material', 'DispName': 'personal::JC333'},\n",
       "    {'ClassCDE': 'type material', 'DispName': 'strain JC2044'},\n",
       "    {'ClassCDE': 'type material', 'DispName': 'strain JC333'},\n",
       "    {'ClassCDE': 'misspelling', 'DispName': 'Leella ganghwensis'}],\n",
       "   'GenbankSynonym': [],\n",
       "   'Misnomer': []},\n",
       "  'ParentTaxId': '202771',\n",
       "  'Rank': 'species',\n",
       "  'Division': 'Bacteria',\n",
       "  'GeneticCode': {'GCId': '11',\n",
       "   'GCName': 'Bacterial, Archaeal and Plant Plastid'},\n",
       "  'MitoGeneticCode': {'MGCId': '0', 'MGCName': 'Unspecified'},\n",
       "  'Lineage': 'cellular organisms; Bacteria; Proteobacteria; Gammaproteobacteria; Oceanospirillales; Zooshikellaceae; Zooshikella',\n",
       "  'LineageEx': [{'TaxId': '131567',\n",
       "    'ScientificName': 'cellular organisms',\n",
       "    'Rank': 'no rank'},\n",
       "   {'TaxId': '2', 'ScientificName': 'Bacteria', 'Rank': 'superkingdom'},\n",
       "   {'TaxId': '1224', 'ScientificName': 'Proteobacteria', 'Rank': 'phylum'},\n",
       "   {'TaxId': '1236', 'ScientificName': 'Gammaproteobacteria', 'Rank': 'class'},\n",
       "   {'TaxId': '135619', 'ScientificName': 'Oceanospirillales', 'Rank': 'order'},\n",
       "   {'TaxId': '2898533', 'ScientificName': 'Zooshikellaceae', 'Rank': 'family'},\n",
       "   {'TaxId': '202771', 'ScientificName': 'Zooshikella', 'Rank': 'genus'}],\n",
       "  'CreateDate': '2002/05/08 12:00:00',\n",
       "  'UpdateDate': '2021/11/26 13:50:46',\n",
       "  'PubDate': '2002/08/01 19:03:00'}}"
      ]
     },
     "execution_count": 24,
     "metadata": {},
     "output_type": "execute_result"
    }
   ],
   "source": [
    "fetch_taxa(taxids[1])"
   ]
  },
  {
   "cell_type": "code",
   "execution_count": null,
   "id": "207f9c31-6e54-4ae4-be14-9535e22cbb9c",
   "metadata": {},
   "outputs": [],
   "source": [
    "taxon_data"
   ]
  },
  {
   "cell_type": "code",
   "execution_count": null,
   "id": "01c2af1d-952e-4ba5-b6a3-4e393668f353",
   "metadata": {},
   "outputs": [],
   "source": [
    "taxon_data['2555902']"
   ]
  },
  {
   "cell_type": "code",
   "execution_count": null,
   "id": "cf31589f-d2ff-460f-a203-bd88f355adb1",
   "metadata": {},
   "outputs": [],
   "source": [
    "_['AkaTaxIds']"
   ]
  },
  {
   "cell_type": "code",
   "execution_count": null,
   "id": "87a390b7-205d-4a78-a0b6-8cdb328f2ba3",
   "metadata": {},
   "outputs": [],
   "source": [
    "debug"
   ]
  },
  {
   "cell_type": "code",
   "execution_count": null,
   "id": "654d1567-4a83-464b-bac3-46c1cc427e16",
   "metadata": {},
   "outputs": [],
   "source": [
    "with open(taxa_file, 'w') as f:\n",
    "    json.dump(taxon_data, f)"
   ]
  },
  {
   "cell_type": "code",
   "execution_count": null,
   "id": "c7baa0eb-9f22-43c6-bf78-6416dd9f3c00",
   "metadata": {},
   "outputs": [],
   "source": [
    "len(taxon_data)"
   ]
  },
  {
   "cell_type": "markdown",
   "id": "4b95aaed-3402-4df0-8987-25630177e190",
   "metadata": {},
   "source": [
    "### Archive"
   ]
  },
  {
   "cell_type": "code",
   "execution_count": null,
   "id": "2bbe2d4f-f908-412e-8962-93394531068a",
   "metadata": {},
   "outputs": [],
   "source": [
    "! gzip -c {taxa_file} > {outfiles['taxon_data']}"
   ]
  },
  {
   "cell_type": "markdown",
   "id": "ccfc8956-872b-4933-b646-d9cbc77bd40e",
   "metadata": {},
   "source": [
    "## Taxonomy Table"
   ]
  },
  {
   "cell_type": "code",
   "execution_count": null,
   "id": "46ec0e37-b0bc-4cb4-bef9-c495fe7be755",
   "metadata": {},
   "outputs": [],
   "source": [
    "taxa_df = pd.DataFrame.from_records(\n",
    "    [\n",
    "        dict(\n",
    "            taxid=t['TaxId'],\n",
    "            parent_taxid=t['ParentTaxId'],\n",
    "            name=t['ScientificName'],\n",
    "            rank=t['Rank'],\n",
    "        )\n",
    "        for t in taxon_data.values()\n",
    "    ],\n",
    "    index='taxid',\n",
    ")"
   ]
  },
  {
   "cell_type": "code",
   "execution_count": null,
   "id": "639ba934-2e53-4d58-b395-420d8ef27170",
   "metadata": {},
   "outputs": [],
   "source": [
    "taxa_df.to_csv(outfiles['taxon_table'])"
   ]
  }
 ],
 "metadata": {
  "kernelspec": {
   "display_name": "GAMBIT",
   "language": "python",
   "name": "gambit"
  },
  "language_info": {
   "codemirror_mode": {
    "name": "ipython",
    "version": 3
   },
   "file_extension": ".py",
   "mimetype": "text/x-python",
   "name": "python",
   "nbconvert_exporter": "python",
   "pygments_lexer": "ipython3",
   "version": "3.9.7"
  }
 },
 "nbformat": 4,
 "nbformat_minor": 5
}
