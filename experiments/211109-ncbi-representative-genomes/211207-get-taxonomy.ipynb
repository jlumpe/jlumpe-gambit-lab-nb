{
 "cells": [
  {
   "cell_type": "markdown",
   "id": "4ab2b184-ff58-4f94-852e-da7d5212f2b4",
   "metadata": {},
   "source": [
    "# 211207 Get taxonomy"
   ]
  },
  {
   "cell_type": "code",
   "execution_count": 1,
   "id": "b37549d2-5996-420f-a862-77af60118387",
   "metadata": {},
   "outputs": [],
   "source": [
    "from pathlib import Path\n",
    "import json"
   ]
  },
  {
   "cell_type": "code",
   "execution_count": 2,
   "id": "7a64defc-8c1f-446a-b533-528f9ef6928e",
   "metadata": {},
   "outputs": [],
   "source": [
    "import pandas as pd\n",
    "from tqdm import tqdm"
   ]
  },
  {
   "cell_type": "code",
   "execution_count": 3,
   "id": "f33b9f99-aff0-49a9-8205-b9b92c4ab9f2",
   "metadata": {},
   "outputs": [
    {
     "name": "stderr",
     "output_type": "stream",
     "text": [
      "/home/jared/opt/anaconda3/envs/gambit/lib/python3.9/site-packages/ete3-3.1.2-py3.7.egg/ete3/evol/parser/codemlparser.py:221: SyntaxWarning: \"is\" with a literal. Did you mean \"==\"?\n",
      "/home/jared/opt/anaconda3/envs/gambit/lib/python3.9/site-packages/ete3-3.1.2-py3.7.egg/ete3/evol/parser/codemlparser.py:221: SyntaxWarning: \"is\" with a literal. Did you mean \"==\"?\n"
     ]
    }
   ],
   "source": [
    "from ete3 import NCBITaxa"
   ]
  },
  {
   "cell_type": "markdown",
   "id": "b98771fb-6cdd-4f07-a3b6-ef7e0584d08f",
   "metadata": {},
   "source": [
    "## Setup"
   ]
  },
  {
   "cell_type": "code",
   "execution_count": 4,
   "id": "3d7dfdb5-af68-4e70-bb6c-7781fbd7c100",
   "metadata": {},
   "outputs": [],
   "source": [
    "DATESTR = '211207'\n",
    "NBNAME = DATESTR + '-get-taxonomy'"
   ]
  },
  {
   "cell_type": "code",
   "execution_count": 5,
   "id": "4598a967-1e4d-41fc-82d3-042070a0c9fe",
   "metadata": {},
   "outputs": [],
   "source": [
    "infiles = dict(\n",
    "    genomes_table=Path('data-processed/211111-inspect-genomes/genomes.csv'),\n",
    "    taxdump_archive=Path('/home/jared/projects/gambit/data/ncbi/taxonomy/taxdumps/taxdump-211204.tar.gz'),\n",
    "    taxdump_db=Path('/home/jared/projects/gambit/data/ncbi/taxonomy/taxdumps/taxdump-211204.db'),\n",
    ")"
   ]
  },
  {
   "cell_type": "code",
   "execution_count": 6,
   "id": "76b790c5-b326-4118-91e1-4a48846a1b50",
   "metadata": {},
   "outputs": [],
   "source": [
    "intermediate_out = Path('data-intermediate') / NBNAME\n",
    "intermediate_out.mkdir(exist_ok=True)\n",
    "\n",
    "outfiles = dict(\n",
    "    taxa=intermediate_out / 'taxa.csv',\n",
    "    genomes=intermediate_out / 'genome-taxonomy.csv',\n",
    ")"
   ]
  },
  {
   "cell_type": "markdown",
   "id": "e36c5c24-6304-4f60-867d-e1f6be340b80",
   "metadata": {},
   "source": [
    "## Load data"
   ]
  },
  {
   "cell_type": "markdown",
   "id": "10da979c-de95-4c88-8369-82f8bf357b74",
   "metadata": {},
   "source": [
    "### Genomes table"
   ]
  },
  {
   "cell_type": "code",
   "execution_count": 7,
   "id": "90690c0d-0c25-41b9-ab10-d649b0994c8e",
   "metadata": {},
   "outputs": [],
   "source": [
    "genomes_df = pd.read_csv(infiles['genomes_table'], index_col=0)\n",
    "ngenomes = genomes_df.shape[0]"
   ]
  },
  {
   "cell_type": "markdown",
   "id": "2b1f9045-5f93-4aea-b444-152cb10f78ce",
   "metadata": {
    "tags": []
   },
   "source": [
    "### NCBI taxonomy dump"
   ]
  },
  {
   "cell_type": "code",
   "execution_count": 8,
   "id": "85d2ab7f-275d-4c2e-ad99-067cd658c9d6",
   "metadata": {},
   "outputs": [],
   "source": [
    "# Create SQLite dump if it doesn't already exist\n",
    "if not infiles['taxdump_db'].is_file():\n",
    "    NCBITaxa(str(infiles['taxdump_db']), str(infiles['taxdump_archive']))"
   ]
  },
  {
   "cell_type": "code",
   "execution_count": 9,
   "id": "829b6f9f-aaac-4020-921c-fe52710867aa",
   "metadata": {},
   "outputs": [],
   "source": [
    "ncbi = NCBITaxa(str(infiles['taxdump_db']))"
   ]
  },
  {
   "cell_type": "markdown",
   "id": "6d24001d-87d2-4e92-bb33-0a8ba21ebc5c",
   "metadata": {},
   "source": [
    "### Updated taxids"
   ]
  },
  {
   "cell_type": "code",
   "execution_count": 10,
   "id": "611f10ad-6815-4afa-b356-08ec7a8f3643",
   "metadata": {},
   "outputs": [],
   "source": [
    "merge_map = dict(ncbi.db.execute('select taxid_old, taxid_new from merged'))"
   ]
  },
  {
   "cell_type": "code",
   "execution_count": 11,
   "id": "7937c327-2bb1-4337-9b78-d3807639643d",
   "metadata": {},
   "outputs": [],
   "source": [
    "genomes_df['primary_taxid'] = [merge_map.get(taxid, taxid) for taxid in genomes_df['taxid']]"
   ]
  },
  {
   "cell_type": "code",
   "execution_count": 12,
   "id": "f477540e-4569-4fd7-bb00-1e52ce8bcee4",
   "metadata": {
    "tags": []
   },
   "outputs": [
    {
     "name": "stderr",
     "output_type": "stream",
     "text": [
      "100%|██████████| 14388/14388 [00:00<00:00, 14953.33it/s]\n"
     ]
    }
   ],
   "source": [
    "_sp_taxids = []\n",
    "\n",
    "for taxid in tqdm(genomes_df['primary_taxid']):\n",
    "    ancestors = reversed(ncbi.get_lineage(taxid))\n",
    "    for ancestor in ancestors:\n",
    "        rank = ncbi.get_rank([ancestor])[ancestor]\n",
    "        if rank == 'species':\n",
    "            _sp_taxids.append(ancestor)\n",
    "            break\n",
    "            \n",
    "    else:\n",
    "        assert 0\n",
    "\n",
    "genomes_df['species_taxid'] = _sp_taxids"
   ]
  },
  {
   "cell_type": "markdown",
   "id": "7f5de401-32cf-4f9c-8e49-a14922a6854d",
   "metadata": {},
   "source": [
    "## Filter genomes for tree"
   ]
  },
  {
   "cell_type": "code",
   "execution_count": 13,
   "id": "170f4b6d-d490-4667-ba1e-ad04a094e45d",
   "metadata": {},
   "outputs": [],
   "source": [
    "genomes_df['use'] = genomes_df['taxonomy_check_status'] == 'OK'"
   ]
  },
  {
   "cell_type": "code",
   "execution_count": 14,
   "id": "82289dc4-53c8-436f-957f-44039acf5bbf",
   "metadata": {},
   "outputs": [],
   "source": [
    "# Five genomes for which sequence data could not be obtained\n",
    "_noseq = [10898551, 11011431, 11411721, 11411751, 11411881]\n",
    "genomes_df.loc[_noseq, 'use'] = False"
   ]
  },
  {
   "cell_type": "code",
   "execution_count": 15,
   "id": "88a93cf3-cdc0-4be7-a912-1389fcd66090",
   "metadata": {},
   "outputs": [],
   "source": [
    "genomes_filtered = genomes_df[genomes_df['use']]\n",
    "nfiltered = genomes_filtered.shape[0]"
   ]
  },
  {
   "cell_type": "code",
   "execution_count": 16,
   "id": "5188f8ba-12c2-43d7-923f-5d63ae31127d",
   "metadata": {},
   "outputs": [
    {
     "data": {
      "text/plain": [
       "(14388, 11844)"
      ]
     },
     "execution_count": 16,
     "metadata": {},
     "output_type": "execute_result"
    }
   ],
   "source": [
    "ngenomes, nfiltered"
   ]
  },
  {
   "cell_type": "markdown",
   "id": "10974d9c-54f3-43a5-95c7-c4b5d73288f5",
   "metadata": {},
   "source": [
    "## Build taxonomy tree"
   ]
  },
  {
   "cell_type": "markdown",
   "id": "aab8be37-004e-4b27-a836-e52db08f919b",
   "metadata": {},
   "source": [
    "### Full tree"
   ]
  },
  {
   "cell_type": "code",
   "execution_count": 17,
   "id": "5a9edcde-d783-48fe-a943-1513faa4a651",
   "metadata": {},
   "outputs": [
    {
     "name": "stdout",
     "output_type": "stream",
     "text": [
      "Number of leaf nodes:\t11836\n",
      "Total number of nodes:\t15435\n",
      "Rooted:\tNo children\n",
      "Most distant node:\t35793\n",
      "Max. distance:\t10.000000\n"
     ]
    }
   ],
   "source": [
    "full_tree = ncbi.get_topology(genomes_filtered['species_taxid'], intermediate_nodes=True, )\n",
    "\n",
    "full_tree.describe()"
   ]
  },
  {
   "cell_type": "markdown",
   "id": "1231b4d8-cb7f-418a-9b38-a1800a580a23",
   "metadata": {},
   "source": [
    "### Remove nodes with non-standard rank"
   ]
  },
  {
   "cell_type": "code",
   "execution_count": 18,
   "id": "fc449e48-9cf8-4f5c-b2ce-8967685b8db4",
   "metadata": {},
   "outputs": [],
   "source": [
    "RANKS = ['phylum', 'class', 'order', 'family', 'genus', 'species']"
   ]
  },
  {
   "cell_type": "code",
   "execution_count": 19,
   "id": "af2ff516-9259-4577-85f9-6960610e0d54",
   "metadata": {},
   "outputs": [],
   "source": [
    "tree = (full_tree & 2).copy()"
   ]
  },
  {
   "cell_type": "code",
   "execution_count": 20,
   "id": "9c6b7398-b0d3-40f0-9188-47ecd749bfc8",
   "metadata": {},
   "outputs": [
    {
     "data": {
      "text/plain": [
       "131"
      ]
     },
     "execution_count": 20,
     "metadata": {},
     "output_type": "execute_result"
    }
   ],
   "source": [
    "to_delete = {node for node in tree.traverse() if not node.is_root() and node.rank not in RANKS}\n",
    "len(to_delete)"
   ]
  },
  {
   "cell_type": "code",
   "execution_count": 21,
   "id": "d4f367d7-f8a8-4596-9a91-5e2764e52a6f",
   "metadata": {},
   "outputs": [],
   "source": [
    "for node in to_delete:\n",
    "    node.delete(prevent_nondicotomic=False)"
   ]
  },
  {
   "cell_type": "code",
   "execution_count": 22,
   "id": "e951f7de-b8b5-4e9d-bbf4-0ac44537c4f6",
   "metadata": {},
   "outputs": [
    {
     "name": "stdout",
     "output_type": "stream",
     "text": [
      "Number of leaf nodes:\t11836\n",
      "Total number of nodes:\t15303\n",
      "Rooted:\tNo\n",
      "Most distant node:\t7\n",
      "Max. distance:\t6.000000\n"
     ]
    }
   ],
   "source": [
    "tree.describe()"
   ]
  },
  {
   "cell_type": "code",
   "execution_count": 23,
   "id": "89195faf-3aaf-49f5-8be8-7b2de2b5719d",
   "metadata": {},
   "outputs": [
    {
     "data": {
      "text/plain": [
       "Counter({('genus',\n",
       "          'family',\n",
       "          'order',\n",
       "          'class',\n",
       "          'phylum',\n",
       "          'superkingdom'): 11640,\n",
       "         ('genus', 'order', 'class', 'phylum', 'superkingdom'): 93,\n",
       "         ('genus', 'family', 'class', 'phylum', 'superkingdom'): 6,\n",
       "         ('genus', 'class', 'phylum', 'superkingdom'): 40,\n",
       "         ('genus', 'phylum', 'superkingdom'): 6,\n",
       "         ('genus', 'family', 'order', 'phylum', 'superkingdom'): 51})"
      ]
     },
     "execution_count": 23,
     "metadata": {},
     "output_type": "execute_result"
    }
   ],
   "source": [
    "from collections import Counter\n",
    "\n",
    "Counter(tuple(a.rank for a in node.get_ancestors()) for node in tree)"
   ]
  },
  {
   "cell_type": "markdown",
   "id": "6af77904-8add-4d4a-8182-edbf8301b5ea",
   "metadata": {},
   "source": [
    "## Add extra attributes"
   ]
  },
  {
   "cell_type": "markdown",
   "id": "19fe7372-67dc-4d70-a00e-efe5aa350cf9",
   "metadata": {},
   "source": [
    "### Genome counts"
   ]
  },
  {
   "cell_type": "code",
   "execution_count": 24,
   "id": "7ff71be1-74c8-4780-8b19-b13f2a030e03",
   "metadata": {},
   "outputs": [],
   "source": [
    "node_attrs = {node.taxid: dict() for node in tree.traverse()}"
   ]
  },
  {
   "cell_type": "code",
   "execution_count": 25,
   "id": "b74b1918-7743-43a5-bf98-6d44be51d392",
   "metadata": {},
   "outputs": [],
   "source": [
    "for node in tree.traverse('postorder'):\n",
    "    a = node_attrs[node.taxid]\n",
    "    \n",
    "    n = sum(genomes_filtered['species_taxid'] == node.taxid)\n",
    "    for child in node.children:\n",
    "        n += node_attrs[child.taxid]['ngenomes']\n",
    "    \n",
    "    a['ngenomes'] = n\n",
    "\n",
    "assert node_attrs[tree.taxid]['ngenomes'] == nfiltered"
   ]
  },
  {
   "cell_type": "markdown",
   "id": "48779e29-702b-47e9-9766-a947316cfff4",
   "metadata": {},
   "source": [
    "## To table"
   ]
  },
  {
   "cell_type": "code",
   "execution_count": 26,
   "id": "20d93fde-3515-48e9-8ad7-3ffea5cd7bd3",
   "metadata": {},
   "outputs": [],
   "source": [
    "_rows = []\n",
    "\n",
    "for node in tree.traverse():\n",
    "    lineage = list(node.iter_ancestors())\n",
    "    lineage.reverse()\n",
    "    lineage.append(node)\n",
    "    \n",
    "    _row = dict(\n",
    "        taxid=node.taxid,\n",
    "        parent_taxid=0 if node.up is None else node.up.taxid,\n",
    "        name=node.sci_name,\n",
    "        rank=node.rank,\n",
    "        sort_key=tuple(a.taxid for a in lineage),\n",
    "        lineage_taxids=', '.join(str(a.taxid) for a in lineage),\n",
    "        lineage=' '.join(a.sci_name for a in lineage),\n",
    "        nchildren=len(node.children),\n",
    "        **node_attrs[node.taxid],\n",
    "    )\n",
    "    \n",
    "    _rows.append(_row)\n",
    "\n",
    "taxonomy_df = pd.DataFrame.from_records(_rows)\n",
    "taxonomy_df.set_index('taxid', inplace=True)\n",
    "taxonomy_df.sort_values('sort_key', inplace=True)\n",
    "del taxonomy_df['sort_key']"
   ]
  },
  {
   "cell_type": "code",
   "execution_count": 27,
   "id": "a6d0ab61-e4d6-419e-a96c-7c37a67dc195",
   "metadata": {},
   "outputs": [
    {
     "data": {
      "text/html": [
       "<div>\n",
       "<style scoped>\n",
       "    .dataframe tbody tr th:only-of-type {\n",
       "        vertical-align: middle;\n",
       "    }\n",
       "\n",
       "    .dataframe tbody tr th {\n",
       "        vertical-align: top;\n",
       "    }\n",
       "\n",
       "    .dataframe thead tr th {\n",
       "        text-align: left;\n",
       "    }\n",
       "\n",
       "    .dataframe thead tr:last-of-type th {\n",
       "        text-align: right;\n",
       "    }\n",
       "</style>\n",
       "<table border=\"1\" class=\"dataframe\">\n",
       "  <thead>\n",
       "    <tr>\n",
       "      <th></th>\n",
       "      <th colspan=\"8\" halign=\"left\">nchildren</th>\n",
       "      <th colspan=\"8\" halign=\"left\">ngenomes</th>\n",
       "    </tr>\n",
       "    <tr>\n",
       "      <th></th>\n",
       "      <th>count</th>\n",
       "      <th>mean</th>\n",
       "      <th>std</th>\n",
       "      <th>min</th>\n",
       "      <th>25%</th>\n",
       "      <th>50%</th>\n",
       "      <th>75%</th>\n",
       "      <th>max</th>\n",
       "      <th>count</th>\n",
       "      <th>mean</th>\n",
       "      <th>std</th>\n",
       "      <th>min</th>\n",
       "      <th>25%</th>\n",
       "      <th>50%</th>\n",
       "      <th>75%</th>\n",
       "      <th>max</th>\n",
       "    </tr>\n",
       "    <tr>\n",
       "      <th>rank</th>\n",
       "      <th></th>\n",
       "      <th></th>\n",
       "      <th></th>\n",
       "      <th></th>\n",
       "      <th></th>\n",
       "      <th></th>\n",
       "      <th></th>\n",
       "      <th></th>\n",
       "      <th></th>\n",
       "      <th></th>\n",
       "      <th></th>\n",
       "      <th></th>\n",
       "      <th></th>\n",
       "      <th></th>\n",
       "      <th></th>\n",
       "      <th></th>\n",
       "    </tr>\n",
       "  </thead>\n",
       "  <tbody>\n",
       "    <tr>\n",
       "      <th>phylum</th>\n",
       "      <td>38.0</td>\n",
       "      <td>2.684211</td>\n",
       "      <td>3.032306</td>\n",
       "      <td>1.0</td>\n",
       "      <td>1.0</td>\n",
       "      <td>1.0</td>\n",
       "      <td>2.0</td>\n",
       "      <td>11.0</td>\n",
       "      <td>38.0</td>\n",
       "      <td>311.684211</td>\n",
       "      <td>934.815666</td>\n",
       "      <td>1.0</td>\n",
       "      <td>3.0</td>\n",
       "      <td>12.0</td>\n",
       "      <td>46.75</td>\n",
       "      <td>4701.0</td>\n",
       "    </tr>\n",
       "    <tr>\n",
       "      <th>class</th>\n",
       "      <td>83.0</td>\n",
       "      <td>2.771084</td>\n",
       "      <td>4.899789</td>\n",
       "      <td>1.0</td>\n",
       "      <td>1.0</td>\n",
       "      <td>1.0</td>\n",
       "      <td>2.0</td>\n",
       "      <td>35.0</td>\n",
       "      <td>83.0</td>\n",
       "      <td>142.012048</td>\n",
       "      <td>427.495357</td>\n",
       "      <td>1.0</td>\n",
       "      <td>2.0</td>\n",
       "      <td>7.0</td>\n",
       "      <td>42.00</td>\n",
       "      <td>2452.0</td>\n",
       "    </tr>\n",
       "    <tr>\n",
       "      <th>order</th>\n",
       "      <td>215.0</td>\n",
       "      <td>2.655814</td>\n",
       "      <td>4.510906</td>\n",
       "      <td>1.0</td>\n",
       "      <td>1.0</td>\n",
       "      <td>1.0</td>\n",
       "      <td>2.0</td>\n",
       "      <td>41.0</td>\n",
       "      <td>215.0</td>\n",
       "      <td>54.846512</td>\n",
       "      <td>131.570597</td>\n",
       "      <td>1.0</td>\n",
       "      <td>2.0</td>\n",
       "      <td>6.0</td>\n",
       "      <td>37.50</td>\n",
       "      <td>969.0</td>\n",
       "    </tr>\n",
       "    <tr>\n",
       "      <th>family</th>\n",
       "      <td>529.0</td>\n",
       "      <td>4.773157</td>\n",
       "      <td>8.820042</td>\n",
       "      <td>1.0</td>\n",
       "      <td>1.0</td>\n",
       "      <td>2.0</td>\n",
       "      <td>5.0</td>\n",
       "      <td>91.0</td>\n",
       "      <td>529.0</td>\n",
       "      <td>22.126654</td>\n",
       "      <td>52.230160</td>\n",
       "      <td>1.0</td>\n",
       "      <td>1.0</td>\n",
       "      <td>4.0</td>\n",
       "      <td>18.00</td>\n",
       "      <td>547.0</td>\n",
       "    </tr>\n",
       "    <tr>\n",
       "      <th>genus</th>\n",
       "      <td>2601.0</td>\n",
       "      <td>4.550557</td>\n",
       "      <td>13.583355</td>\n",
       "      <td>1.0</td>\n",
       "      <td>1.0</td>\n",
       "      <td>1.0</td>\n",
       "      <td>3.0</td>\n",
       "      <td>387.0</td>\n",
       "      <td>2601.0</td>\n",
       "      <td>4.553633</td>\n",
       "      <td>13.589515</td>\n",
       "      <td>1.0</td>\n",
       "      <td>1.0</td>\n",
       "      <td>1.0</td>\n",
       "      <td>3.00</td>\n",
       "      <td>387.0</td>\n",
       "    </tr>\n",
       "    <tr>\n",
       "      <th>species</th>\n",
       "      <td>11836.0</td>\n",
       "      <td>0.000000</td>\n",
       "      <td>0.000000</td>\n",
       "      <td>0.0</td>\n",
       "      <td>0.0</td>\n",
       "      <td>0.0</td>\n",
       "      <td>0.0</td>\n",
       "      <td>0.0</td>\n",
       "      <td>11836.0</td>\n",
       "      <td>1.000676</td>\n",
       "      <td>0.029060</td>\n",
       "      <td>1.0</td>\n",
       "      <td>1.0</td>\n",
       "      <td>1.0</td>\n",
       "      <td>1.00</td>\n",
       "      <td>3.0</td>\n",
       "    </tr>\n",
       "  </tbody>\n",
       "</table>\n",
       "</div>"
      ],
      "text/plain": [
       "        nchildren                                                 ngenomes  \\\n",
       "            count      mean        std  min  25%  50%  75%    max    count   \n",
       "rank                                                                         \n",
       "phylum       38.0  2.684211   3.032306  1.0  1.0  1.0  2.0   11.0     38.0   \n",
       "class        83.0  2.771084   4.899789  1.0  1.0  1.0  2.0   35.0     83.0   \n",
       "order       215.0  2.655814   4.510906  1.0  1.0  1.0  2.0   41.0    215.0   \n",
       "family      529.0  4.773157   8.820042  1.0  1.0  2.0  5.0   91.0    529.0   \n",
       "genus      2601.0  4.550557  13.583355  1.0  1.0  1.0  3.0  387.0   2601.0   \n",
       "species   11836.0  0.000000   0.000000  0.0  0.0  0.0  0.0    0.0  11836.0   \n",
       "\n",
       "                                                                \n",
       "               mean         std  min  25%   50%    75%     max  \n",
       "rank                                                            \n",
       "phylum   311.684211  934.815666  1.0  3.0  12.0  46.75  4701.0  \n",
       "class    142.012048  427.495357  1.0  2.0   7.0  42.00  2452.0  \n",
       "order     54.846512  131.570597  1.0  2.0   6.0  37.50   969.0  \n",
       "family    22.126654   52.230160  1.0  1.0   4.0  18.00   547.0  \n",
       "genus      4.553633   13.589515  1.0  1.0   1.0   3.00   387.0  \n",
       "species    1.000676    0.029060  1.0  1.0   1.0   1.00     3.0  "
      ]
     },
     "execution_count": 27,
     "metadata": {},
     "output_type": "execute_result"
    }
   ],
   "source": [
    "taxonomy_df.groupby('rank')[['nchildren', 'ngenomes']].describe().loc[RANKS]"
   ]
  },
  {
   "cell_type": "markdown",
   "id": "5d6eecc9-dcc2-4512-b594-0b21f49fda35",
   "metadata": {},
   "source": [
    "## Write output"
   ]
  },
  {
   "cell_type": "code",
   "execution_count": 29,
   "id": "2adc43b0-9b47-40f5-8ea6-687ec36e2c1c",
   "metadata": {},
   "outputs": [],
   "source": [
    "taxonomy_df.to_csv(outfiles['taxa'])"
   ]
  },
  {
   "cell_type": "code",
   "execution_count": 30,
   "id": "231cf4d0-4d95-49ce-ae39-537d0c9bffd3",
   "metadata": {},
   "outputs": [],
   "source": [
    "_cols = ['refseq_acc', 'primary_taxid', 'species_taxid', 'use']\n",
    "genomes_df[_cols].to_csv(outfiles['genomes'])"
   ]
  }
 ],
 "metadata": {
  "kernelspec": {
   "display_name": "GAMBIT",
   "language": "python",
   "name": "gambit"
  },
  "language_info": {
   "codemirror_mode": {
    "name": "ipython",
    "version": 3
   },
   "file_extension": ".py",
   "mimetype": "text/x-python",
   "name": "python",
   "nbconvert_exporter": "python",
   "pygments_lexer": "ipython3",
   "version": "3.9.7"
  }
 },
 "nbformat": 4,
 "nbformat_minor": 5
}
