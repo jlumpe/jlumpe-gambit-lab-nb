{
 "cells": [
  {
   "cell_type": "code",
   "execution_count": 1,
   "id": "dea7c3d0-b374-4818-b4e5-f892ef70b1e2",
   "metadata": {},
   "outputs": [],
   "source": [
    "import sys\n",
    "import json\n",
    "from pathlib import Path\n",
    "from collections import Counter"
   ]
  },
  {
   "cell_type": "code",
   "execution_count": 2,
   "id": "7a64defc-8c1f-446a-b533-528f9ef6928e",
   "metadata": {},
   "outputs": [],
   "source": [
    "import numpy as np\n",
    "import pandas as pd\n",
    "from tqdm import tqdm\n",
    "from Bio import Entrez"
   ]
  },
  {
   "cell_type": "code",
   "execution_count": 3,
   "id": "5832ace5-0b9f-4ad1-bf16-e4dde2a5bc7a",
   "metadata": {},
   "outputs": [],
   "source": [
    "import matplotlib.pyplot as plt\n",
    "import seaborn as sns"
   ]
  },
  {
   "cell_type": "code",
   "execution_count": 4,
   "id": "28de431b-d47e-4f41-8c0d-3dd232b1126d",
   "metadata": {},
   "outputs": [],
   "source": [
    "from entrez_tools.db.assembly import format_summary_meta"
   ]
  },
  {
   "cell_type": "code",
   "execution_count": 5,
   "id": "bf497d47-4256-4d78-82a1-0a0f9a5c0f46",
   "metadata": {},
   "outputs": [],
   "source": [
    "%matplotlib inline"
   ]
  },
  {
   "cell_type": "markdown",
   "id": "8b219cc2-4b0f-4486-8790-1d236b2a7f76",
   "metadata": {},
   "source": [
    "## Code"
   ]
  },
  {
   "cell_type": "code",
   "execution_count": 6,
   "id": "a77f0a5c-1cdc-4ad6-a7a4-4e49f16350bb",
   "metadata": {},
   "outputs": [],
   "source": [
    "sys.path.insert(0, './src')\n",
    "\n",
    "from basic_esummary_store import BasicEsummaryStore"
   ]
  },
  {
   "cell_type": "code",
   "execution_count": 7,
   "id": "990041e8-fff2-4779-b28c-a987f594dae3",
   "metadata": {},
   "outputs": [],
   "source": [
    "def chunk(l, chunksize: int):\n",
    "    for start in range(0, len(l), chunksize):\n",
    "        yield l[start:start + chunksize]"
   ]
  },
  {
   "cell_type": "markdown",
   "id": "b98771fb-6cdd-4f07-a3b6-ef7e0584d08f",
   "metadata": {},
   "source": [
    "## Setup"
   ]
  },
  {
   "cell_type": "code",
   "execution_count": 8,
   "id": "3d7dfdb5-af68-4e70-bb6c-7781fbd7c100",
   "metadata": {},
   "outputs": [],
   "source": [
    "DATESTR = '211109'\n",
    "NBNAME = DATESTR + '-find-genomes'"
   ]
  },
  {
   "cell_type": "code",
   "execution_count": 9,
   "id": "62e0fe7c-3093-4ceb-83e2-76cb1c60e1e0",
   "metadata": {},
   "outputs": [],
   "source": [
    "Entrez.email = 'mjlumpe@gmail.com'\n",
    "Entrez.api_key = 'adea2a53e6e44c3cc42c932f9ba4bdffa809'"
   ]
  },
  {
   "cell_type": "code",
   "execution_count": 10,
   "id": "3dd0acff-d175-4667-8af2-c3f31882eef2",
   "metadata": {},
   "outputs": [],
   "source": [
    "processed_out = Path('data-processed') / NBNAME\n",
    "processed_out.mkdir(exist_ok=True)\n",
    "\n",
    "tmpdir = Path('tmp')\n",
    "tmpdir.mkdir(exist_ok=True)"
   ]
  },
  {
   "cell_type": "code",
   "execution_count": 11,
   "id": "1560c9ca-bb27-4c26-b004-a4e45a619f7a",
   "metadata": {},
   "outputs": [],
   "source": [
    "infiles = dict(\n",
    "    esummary=Path('/home/jared/projects/gambit/data/ncbi/assembly/esummary/')\n",
    ")"
   ]
  },
  {
   "cell_type": "code",
   "execution_count": 12,
   "id": "1854f55d-e8c1-439b-8cb2-cc506ee18877",
   "metadata": {},
   "outputs": [],
   "source": [
    "outfiles = dict(\n",
    "    genomes=processed_out / 'genomes.csv',\n",
    "    assembly_stats=processed_out / 'assembly-stats.csv',\n",
    ")"
   ]
  },
  {
   "cell_type": "markdown",
   "id": "7791e5c5-e67f-452a-ac69-9a753cb5f34c",
   "metadata": {},
   "source": [
    "## Search"
   ]
  },
  {
   "cell_type": "code",
   "execution_count": 13,
   "id": "37358708-8c6b-4b53-bc41-4c334ce82af1",
   "metadata": {},
   "outputs": [],
   "source": [
    "TERM = '''\\\n",
    "\"bacteria\"[Organism] \\\n",
    "AND (\"representative genome\"[RefSeq Category] OR \"reference genome\"[RefSeq Category]) \\\n",
    "'''\n",
    "# Not needed?\n",
    "# AND \"all\"[Filter] NOT \"anomalous\"[Filter] \\\n",
    "# AND \"latest\"[Filter] \\\n",
    "# '''"
   ]
  },
  {
   "cell_type": "code",
   "execution_count": 14,
   "id": "7664552c-9489-4dd5-90bb-91f420bb982c",
   "metadata": {},
   "outputs": [],
   "source": [
    "response = Entrez.read(Entrez.esearch('assembly', TERM, retmax='99999'))"
   ]
  },
  {
   "cell_type": "code",
   "execution_count": 15,
   "id": "35fb39d4-e745-472f-ad69-d4ea2c805adf",
   "metadata": {},
   "outputs": [
    {
     "data": {
      "text/plain": [
       "14388"
      ]
     },
     "execution_count": 15,
     "metadata": {},
     "output_type": "execute_result"
    }
   ],
   "source": [
    "count = int(response['Count'])\n",
    "assert response['RetStart'] == '0'\n",
    "assert response['RetMax'] == str(count)\n",
    "count"
   ]
  },
  {
   "cell_type": "code",
   "execution_count": 16,
   "id": "8d4a92e7-f48a-4bfd-92fc-feceb226f10e",
   "metadata": {},
   "outputs": [],
   "source": [
    "ids = list(response['IdList'])\n",
    "assert len(ids) == count"
   ]
  },
  {
   "cell_type": "markdown",
   "id": "5d710693-a1a1-4d24-8fe3-b9293c2e702d",
   "metadata": {},
   "source": [
    "## Assemblies"
   ]
  },
  {
   "cell_type": "code",
   "execution_count": 17,
   "id": "32b12c19-4eec-4893-b58f-e4ad5de09369",
   "metadata": {},
   "outputs": [],
   "source": [
    "summary_store = BasicEsummaryStore('assembly', infiles['esummary'])"
   ]
  },
  {
   "cell_type": "markdown",
   "id": "78ad5f75-a112-48f2-b8c9-656e498bf10d",
   "metadata": {},
   "source": [
    "### Download"
   ]
  },
  {
   "cell_type": "code",
   "execution_count": 18,
   "id": "4b8a562e-e06b-4230-a4ec-1f13e49118fa",
   "metadata": {},
   "outputs": [
    {
     "name": "stderr",
     "output_type": "stream",
     "text": [
      "0it [00:00, ?it/s]\n"
     ]
    }
   ],
   "source": [
    "to_download = set(ids) - summary_store.keys()\n",
    "\n",
    "for uids in tqdm(list(chunk(list(to_download), 100))):\n",
    "    with Entrez.esummary(db='assembly', id=','.join(uids), retmode='json') as response:\n",
    "        data = json.load(response)\n",
    "\n",
    "    assert set(data['result']['uids']) == set(uids)\n",
    "    \n",
    "    for uid in uids:\n",
    "        summary = data['result'][uid]\n",
    "        summary_store.add(summary)"
   ]
  },
  {
   "cell_type": "markdown",
   "id": "e36c5c24-6304-4f60-867d-e1f6be340b80",
   "metadata": {},
   "source": [
    "### Extract data"
   ]
  },
  {
   "cell_type": "code",
   "execution_count": 19,
   "id": "e12cdf28-81a5-49f1-84f1-eec684ff588d",
   "metadata": {},
   "outputs": [
    {
     "name": "stderr",
     "output_type": "stream",
     "text": [
      "100%|██████████| 14388/14388 [00:01<00:00, 12658.40it/s]\n"
     ]
    }
   ],
   "source": [
    "summaries = {uid: summary_store[uid] for uid in tqdm(ids)}"
   ]
  },
  {
   "cell_type": "code",
   "execution_count": 20,
   "id": "f900a12e-37f5-4c50-a41d-e2558539960c",
   "metadata": {},
   "outputs": [],
   "source": [
    "_rows = []\n",
    "\n",
    "_VALS = dict(\n",
    "    uid='uid',\n",
    "    refseq_acc='assemblyaccession',\n",
    "    refseq_category='refseq_category',\n",
    "    taxid='taxid',\n",
    "    organism='organism',\n",
    ")\n",
    "\n",
    "for summary in summaries.values():\n",
    "    _row = {k1: summary[k2] for k1, k2 in _VALS.items()}\n",
    "    _rows.append(_row)\n",
    "\n",
    "genomes_df = pd.DataFrame.from_records(_rows)\n",
    "genomes_df.set_index('uid', inplace=True)"
   ]
  },
  {
   "cell_type": "code",
   "execution_count": 21,
   "id": "0dea3ace-db43-481f-8a18-b78e8151dc41",
   "metadata": {},
   "outputs": [],
   "source": [
    "_rows = []\n",
    "\n",
    "_SUMMARY_KEYS = [\n",
    "    ('uid', str),\n",
    "    ('coverage', str),\n",
    "]\n",
    "\n",
    "_META_KEYS = [\n",
    "    'assembly-level',\n",
    "    'assembly-status',\n",
    "    'total_length',\n",
    "    'contig_count',\n",
    "    'scaffold_count',\n",
    "    'chromosome_count',\n",
    "    'contig_n50',\n",
    "    'scaffold_n50',\n",
    "    'contig_l50',\n",
    "    'scaffold_l50',\n",
    "]\n",
    "\n",
    "for summary in summaries.values():\n",
    "    meta = format_summary_meta(summary['meta'])\n",
    "    _row = {key: t(summary[key]) for key, t in _SUMMARY_KEYS}\n",
    "    _row.update({key.replace('-', '_'): meta[key] for key in _META_KEYS})\n",
    "    _row['coverage_num'] = float(_row['coverage'].lstrip('>'))\n",
    "    _rows.append(_row)\n",
    "\n",
    "assembly_stats = pd.DataFrame.from_records(_rows)\n",
    "assembly_stats.set_index('uid', inplace=True)"
   ]
  },
  {
   "cell_type": "markdown",
   "id": "e775af7d-0b10-4be2-9f2a-9aef230f45b6",
   "metadata": {},
   "source": [
    "## Inspect assembly data"
   ]
  },
  {
   "cell_type": "code",
   "execution_count": 22,
   "id": "a19b5919-2325-4ed3-9292-281ef22f4e44",
   "metadata": {},
   "outputs": [
    {
     "data": {
      "text/plain": [
       "Counter({'representative genome': 14373, 'reference genome': 15})"
      ]
     },
     "execution_count": 22,
     "metadata": {},
     "output_type": "execute_result"
    }
   ],
   "source": [
    "Counter(s['refseq_category'] for s in summaries.values())"
   ]
  },
  {
   "cell_type": "code",
   "execution_count": 23,
   "id": "9a47c95c-4804-4816-a32f-97f093c81068",
   "metadata": {},
   "outputs": [
    {
     "data": {
      "text/html": [
       "<div>\n",
       "<style scoped>\n",
       "    .dataframe tbody tr th:only-of-type {\n",
       "        vertical-align: middle;\n",
       "    }\n",
       "\n",
       "    .dataframe tbody tr th {\n",
       "        vertical-align: top;\n",
       "    }\n",
       "\n",
       "    .dataframe thead th {\n",
       "        text-align: right;\n",
       "    }\n",
       "</style>\n",
       "<table border=\"1\" class=\"dataframe\">\n",
       "  <thead>\n",
       "    <tr style=\"text-align: right;\">\n",
       "      <th></th>\n",
       "      <th>refseq_acc</th>\n",
       "      <th>refseq_category</th>\n",
       "      <th>taxid</th>\n",
       "      <th>organism</th>\n",
       "    </tr>\n",
       "    <tr>\n",
       "      <th>uid</th>\n",
       "      <th></th>\n",
       "      <th></th>\n",
       "      <th></th>\n",
       "      <th></th>\n",
       "    </tr>\n",
       "  </thead>\n",
       "  <tbody>\n",
       "    <tr>\n",
       "      <th>10898551</th>\n",
       "      <td>GCA_003114835.2</td>\n",
       "      <td>representative genome</td>\n",
       "      <td>1917830</td>\n",
       "      <td>Leptospira kobayashii (bacteria)</td>\n",
       "    </tr>\n",
       "  </tbody>\n",
       "</table>\n",
       "</div>"
      ],
      "text/plain": [
       "               refseq_acc        refseq_category    taxid  \\\n",
       "uid                                                         \n",
       "10898551  GCA_003114835.2  representative genome  1917830   \n",
       "\n",
       "                                  organism  \n",
       "uid                                         \n",
       "10898551  Leptospira kobayashii (bacteria)  "
      ]
     },
     "execution_count": 23,
     "metadata": {},
     "output_type": "execute_result"
    }
   ],
   "source": [
    "genomes_df[[not acc.startswith('GCF_') for acc in genomes_df['refseq_acc']]]"
   ]
  },
  {
   "cell_type": "code",
   "execution_count": 24,
   "id": "f856255e-071f-4318-b7d8-cea2e9c0db9b",
   "metadata": {},
   "outputs": [
    {
     "data": {
      "text/plain": [
       "Counter({'full-genome-representation': 14388,\n",
       "         'genbank_has_annotation': 11266,\n",
       "         'has_annotation': 14388,\n",
       "         'latest': 14388,\n",
       "         'latest_genbank': 14388,\n",
       "         'latest_refseq': 14387,\n",
       "         'refseq_has_annotation': 14386,\n",
       "         'representative': 14388,\n",
       "         'wgs': 10694,\n",
       "         'from-type': 11050,\n",
       "         'has-chromosome': 3751,\n",
       "         'has-plasmid': 1218,\n",
       "         'reference-guided': 101,\n",
       "         'partial-genome-representation': 216,\n",
       "         'has-extrachromosomal-element': 1})"
      ]
     },
     "execution_count": 24,
     "metadata": {},
     "output_type": "execute_result"
    }
   ],
   "source": [
    "property_counts = Counter()\n",
    "\n",
    "for summary in summaries.values():\n",
    "    property_counts.update(summary['propertylist'])\n",
    "    \n",
    "property_counts"
   ]
  },
  {
   "cell_type": "code",
   "execution_count": 25,
   "id": "a55eb79f-d1f3-4a02-b73e-9998a5b5c7a7",
   "metadata": {},
   "outputs": [
    {
     "data": {
      "text/plain": [
       "Counter({'haploid': 14388})"
      ]
     },
     "execution_count": 25,
     "metadata": {},
     "output_type": "execute_result"
    }
   ],
   "source": [
    "Counter(s['assemblytype'] for s in summaries.values())"
   ]
  },
  {
   "cell_type": "code",
   "execution_count": 26,
   "id": "2b5d1b84-b9dc-4208-b0b1-265345b19ebd",
   "metadata": {},
   "outputs": [
    {
     "data": {
      "text/plain": [
       "Counter({'': 3338,\n",
       "         'assembly from type material': 10974,\n",
       "         'assembly from synonym type material': 55,\n",
       "         'assembly from pathotype material': 4,\n",
       "         'assembly designated as neotype': 3,\n",
       "         'assembly designated as reftype': 14})"
      ]
     },
     "execution_count": 26,
     "metadata": {},
     "output_type": "execute_result"
    }
   ],
   "source": [
    "Counter(s['fromtype'] for s in summaries.values())"
   ]
  },
  {
   "cell_type": "code",
   "execution_count": 27,
   "id": "a1c7bccd-5ac2-446e-9827-d680e29fa4ba",
   "metadata": {},
   "outputs": [
    {
     "data": {
      "text/plain": [
       "[]"
      ]
     },
     "execution_count": 27,
     "metadata": {},
     "output_type": "execute_result"
    }
   ],
   "source": [
    "[(uid, summary['anomalouslist']) for uid, summary in summaries.items() if summary['anomalouslist']]"
   ]
  },
  {
   "cell_type": "markdown",
   "id": "9442c945-b9ae-4892-b1cb-7fddfca7a71f",
   "metadata": {},
   "source": [
    "### Metadata assembly stats"
   ]
  },
  {
   "cell_type": "code",
   "execution_count": 28,
   "id": "288b3420-fe86-4014-9a2c-165bb019f28b",
   "metadata": {},
   "outputs": [
    {
     "data": {
      "text/plain": [
       "assembly_level  assembly_status\n",
       "1               Contig             6176\n",
       "2               Scaffold           1156\n",
       "3               Chromosome           55\n",
       "4               Chromosome          319\n",
       "6               Scaffold              6\n",
       "8               Scaffold           3306\n",
       "90              Complete Genome    3370\n",
       "dtype: int64"
      ]
     },
     "execution_count": 28,
     "metadata": {},
     "output_type": "execute_result"
    }
   ],
   "source": [
    "assembly_stats.groupby(['assembly_level', 'assembly_status']).size()"
   ]
  },
  {
   "cell_type": "code",
   "execution_count": 29,
   "id": "2cf55968-ceb3-45f0-8e2e-553870536521",
   "metadata": {},
   "outputs": [
    {
     "data": {
      "text/plain": [
       "<seaborn.axisgrid.FacetGrid at 0x7fc14d22c910>"
      ]
     },
     "execution_count": 29,
     "metadata": {},
     "output_type": "execute_result"
    },
    {
     "data": {
      "image/png": "[encoded data removed]",
      "text/plain": [
       "<Figure size 1775.58x1080 with 9 Axes>"
      ]
     },
     "metadata": {
      "needs_background": "light"
     },
     "output_type": "display_data"
    }
   ],
   "source": [
    "_data = assembly_stats.melt(\n",
    "    id_vars=['assembly_level', 'assembly_status'],\n",
    "    value_vars=[name for name, dt in assembly_stats.dtypes.iteritems() if dt.kind != 'O'],\n",
    "    var_name='stat',\n",
    ")\n",
    "\n",
    "sns.displot(\n",
    "    data=_data[_data['value'] > 0],\n",
    "    kind='hist',\n",
    "    x='value',\n",
    "    col='stat',\n",
    "    hue='assembly_status',\n",
    "    element='step',\n",
    "    stat='density',\n",
    "    col_wrap=3,\n",
    "    aspect=1.5,\n",
    "    log_scale=True,\n",
    "    common_bins=False,\n",
    "    common_norm=False,\n",
    "    facet_kws=dict(sharex=False, sharey=False),\n",
    ")"
   ]
  },
  {
   "cell_type": "markdown",
   "id": "b317404a-5115-4e56-85d0-1b03e623c625",
   "metadata": {},
   "source": [
    "## Write output"
   ]
  },
  {
   "cell_type": "code",
   "execution_count": 30,
   "id": "fe66c583-8599-4d80-a661-f3f1e80c6318",
   "metadata": {},
   "outputs": [],
   "source": [
    "genomes_df.to_csv(outfiles['genomes'])"
   ]
  },
  {
   "cell_type": "code",
   "execution_count": 31,
   "id": "fef9de20-0d5b-44db-8f63-7555758e7677",
   "metadata": {},
   "outputs": [],
   "source": [
    "assembly_stats.to_csv(outfiles['assembly_stats'])"
   ]
  }
 ],
 "metadata": {
  "kernelspec": {
   "display_name": "GAMBIT",
   "language": "python",
   "name": "gambit"
  },
  "language_info": {
   "codemirror_mode": {
    "name": "ipython",
    "version": 3
   },
   "file_extension": ".py",
   "mimetype": "text/x-python",
   "name": "python",
   "nbconvert_exporter": "python",
   "pygments_lexer": "ipython3",
   "version": "3.9.7"
  }
 },
 "nbformat": 4,
 "nbformat_minor": 5
}
