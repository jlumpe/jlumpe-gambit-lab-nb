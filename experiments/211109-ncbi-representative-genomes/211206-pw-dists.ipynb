{
 "cells": [
  {
   "cell_type": "markdown",
   "id": "65ec6c3c-f64f-47aa-9645-fc4c68f17e15",
   "metadata": {},
   "source": [
    "# 211206 Pairwise dists"
   ]
  },
  {
   "cell_type": "code",
   "execution_count": 1,
   "id": "b37549d2-5996-420f-a862-77af60118387",
   "metadata": {},
   "outputs": [],
   "source": [
    "from pathlib import Path\n",
    "import json"
   ]
  },
  {
   "cell_type": "code",
   "execution_count": 7,
   "id": "7a64defc-8c1f-446a-b533-528f9ef6928e",
   "metadata": {},
   "outputs": [],
   "source": [
    "import pandas as pd\n",
    "from tqdm import tqdm\n",
    "import h5py as h5"
   ]
  },
  {
   "cell_type": "code",
   "execution_count": 19,
   "id": "cb0b06a0-2843-4489-98aa-243c8c03a79d",
   "metadata": {},
   "outputs": [],
   "source": [
    "from gambit.kmers import KmerSpec\n",
    "from gambit.io.seq import SequenceFile\n",
    "from gambit.metric import jaccarddist_matrix\n",
    "from gambit.sigs import SignatureArray, SignaturesMeta\n",
    "from gambit.sigs.calc import calc_file_signatures\n",
    "from gambit.sigs.hdf5 import HDF5Signatures"
   ]
  },
  {
   "cell_type": "markdown",
   "id": "b98771fb-6cdd-4f07-a3b6-ef7e0584d08f",
   "metadata": {},
   "source": [
    "## Setup"
   ]
  },
  {
   "cell_type": "code",
   "execution_count": 20,
   "id": "08f9930f-abb4-4b2e-b1bc-850a3a1cd78d",
   "metadata": {},
   "outputs": [],
   "source": [
    "DATESTR = '211206'\n",
    "DATESTR_LONG = '2021-12-06'\n",
    "NBNAME = DATESTR + '-pw-dists'"
   ]
  },
  {
   "cell_type": "code",
   "execution_count": 14,
   "id": "acd4e504-0586-46b9-96ef-467241114a9d",
   "metadata": {},
   "outputs": [],
   "source": [
    "tmpdir = Path('tmp')\n",
    "\n",
    "genomes_dir = tmpdir / 'genomes'\n",
    "genomes_dir.mkdir(exist_ok=True)\n",
    "\n",
    "archive_dir = Path('archive')"
   ]
  },
  {
   "cell_type": "code",
   "execution_count": 8,
   "id": "2f783461-8935-457c-9029-a319afd6cb3f",
   "metadata": {},
   "outputs": [],
   "source": [
    "infiles = dict(\n",
    "    genomes_table=Path('data-processed/211111-inspect-genomes/genomes.csv'),\n",
    ")"
   ]
  },
  {
   "cell_type": "code",
   "execution_count": 11,
   "id": "02fa6673-a735-4afd-87fb-8379a3200f5b",
   "metadata": {},
   "outputs": [],
   "source": [
    "intermediate_out = Path('data-intermediate') / NBNAME\n",
    "intermediate_out.mkdir(exist_ok=True)\n",
    "\n",
    "outfiles = dict(\n",
    "    signatures=archive / f'211109-ncbi-representative-genomes-ATGAC_11-{DATESTR}.h5',\n",
    "    pw_dists=intermediate_out / 'pw-dists.h5',\n",
    ")"
   ]
  },
  {
   "cell_type": "markdown",
   "id": "e36c5c24-6304-4f60-867d-e1f6be340b80",
   "metadata": {},
   "source": [
    "## Load data"
   ]
  },
  {
   "cell_type": "code",
   "execution_count": 12,
   "id": "ed2aa9a5-4679-4df2-bf6c-8ac9fc00e5fb",
   "metadata": {},
   "outputs": [
    {
     "data": {
      "text/plain": [
       "14388"
      ]
     },
     "execution_count": 12,
     "metadata": {},
     "output_type": "execute_result"
    }
   ],
   "source": [
    "genomes_df = pd.read_csv(infiles['genomes_table'], index_col=0)\n",
    "ngenomes = genomes_df.shape[0]\n",
    "ngenomes"
   ]
  },
  {
   "cell_type": "markdown",
   "id": "24862891-782e-47ea-9fe4-3ab6513625ac",
   "metadata": {},
   "source": [
    "## Find genome files"
   ]
  },
  {
   "cell_type": "code",
   "execution_count": 13,
   "id": "bf11d6c6-0caf-4577-90b9-33cc9d82246b",
   "metadata": {},
   "outputs": [
    {
     "data": {
      "text/plain": [
       "[10898551, 11011431, 11411721, 11411751, 11411881]"
      ]
     },
     "execution_count": 13,
     "metadata": {},
     "output_type": "execute_result"
    }
   ],
   "source": [
    "seq_files = []\n",
    "seq_uids = []\n",
    "missing_uids = []\n",
    "\n",
    "for uid, acc in genomes_df['refseq_acc'].iteritems():\n",
    "    f = genomes_dir / f'{acc}.fasta.gz'\n",
    "    \n",
    "    if f.is_file():\n",
    "        seq_files.append(f)\n",
    "        seq_uids.append(uid)\n",
    "    else:\n",
    "        missing_uids.append(uid)\n",
    "        \n",
    "seq_files = SequenceFile.from_paths(seq_files, 'fasta', 'gzip')\n",
    "\n",
    "missing_uids"
   ]
  },
  {
   "cell_type": "markdown",
   "id": "8fa8a1e7-4ef0-47fc-9b6c-0433a585ef4e",
   "metadata": {},
   "source": [
    "These were the ones that couldn't be found in the 211115 notebook."
   ]
  },
  {
   "cell_type": "markdown",
   "id": "68811ef7-192e-49f7-842f-6c12e741b2d4",
   "metadata": {},
   "source": [
    "## Calculate signatures"
   ]
  },
  {
   "cell_type": "code",
   "execution_count": 21,
   "id": "8f62b8e0-9dc4-49a7-82f8-fd5f3ade424c",
   "metadata": {},
   "outputs": [
    {
     "name": "stderr",
     "output_type": "stream",
     "text": [
      "100%|██████████| 14383/14383 [21:29<00:00, 11.15it/s]\n"
     ]
    }
   ],
   "source": [
    "if not outfiles['signatures'].is_file():\n",
    "    kspec = KmerSpec(11, 'ATGAC')\n",
    "    \n",
    "    _sigs = calc_file_signatures(kspec, seq_files, progress=True, concurrency='processes')\n",
    "    \n",
    "    _ids = genomes_df.loc[seq_uids, 'refseq_acc']\n",
    "    _meta = SignaturesMeta(\n",
    "        name='211109-ncbi-representative-genomes-ATGAC_11',\n",
    "        extra=dict(\n",
    "            author='Jared Lumpe',\n",
    "            date_created=DATESTR_LONG,\n",
    "        )\n",
    "    )\n",
    "    \n",
    "    with h5.File(outfiles['signatures'], 'w') as f:\n",
    "        HDF5Signatures.create(f, _sigs, _ids, _meta)\n",
    "        \n",
    "    del _sigs  # Reclaim memory"
   ]
  },
  {
   "cell_type": "code",
   "execution_count": 22,
   "id": "1885bc59-8ad4-4ee2-a020-08a6b26edf45",
   "metadata": {},
   "outputs": [],
   "source": [
    "sigs = HDF5Signatures.open(outfiles['signatures'])"
   ]
  },
  {
   "cell_type": "markdown",
   "id": "99b3915e-32ba-437a-bb86-07154d073581",
   "metadata": {},
   "source": [
    "## Pairwise distances"
   ]
  },
  {
   "cell_type": "code",
   "execution_count": 24,
   "id": "362b3db4-2432-4d0c-bb5b-12ce782a326a",
   "metadata": {},
   "outputs": [
    {
     "name": "stderr",
     "output_type": "stream",
     "text": [
      "100%|██████████| 206870689/206870689 [35:12<00:00, 97948.03it/s] \n"
     ]
    }
   ],
   "source": [
    "dmat = jaccarddist_matrix(sigs, sigs, progress=True)"
   ]
  },
  {
   "cell_type": "code",
   "execution_count": 33,
   "id": "534b59aa-c7f9-4e76-bd70-edd241a08dac",
   "metadata": {},
   "outputs": [],
   "source": [
    "with h5.File(outfiles['pw_dists'], 'w') as f:\n",
    "    f.create_dataset('uid', data=seq_uids)\n",
    "    f.create_dataset('accession', data=list(genomes_df.loc[seq_uids, 'refseq_acc']))\n",
    "    f.create_dataset('pw_dists', data=dmat)"
   ]
  }
 ],
 "metadata": {
  "kernelspec": {
   "display_name": "GAMBIT",
   "language": "python",
   "name": "gambit"
  },
  "language_info": {
   "codemirror_mode": {
    "name": "ipython",
    "version": 3
   },
   "file_extension": ".py",
   "mimetype": "text/x-python",
   "name": "python",
   "nbconvert_exporter": "python",
   "pygments_lexer": "ipython3",
   "version": "3.9.7"
  }
 },
 "nbformat": 4,
 "nbformat_minor": 5
}
