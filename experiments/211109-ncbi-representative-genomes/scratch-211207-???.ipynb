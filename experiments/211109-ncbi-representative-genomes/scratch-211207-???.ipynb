{
 "cells": [
  {
   "cell_type": "markdown",
   "id": "65ec6c3c-f64f-47aa-9645-fc4c68f17e15",
   "metadata": {
    "tags": []
   },
   "source": [
    "# 211207 ???"
   ]
  },
  {
   "cell_type": "code",
   "execution_count": 1,
   "id": "b37549d2-5996-420f-a862-77af60118387",
   "metadata": {},
   "outputs": [],
   "source": [
    "from pathlib import Path\n",
    "import json"
   ]
  },
  {
   "cell_type": "code",
   "execution_count": 2,
   "id": "7a64defc-8c1f-446a-b533-528f9ef6928e",
   "metadata": {},
   "outputs": [],
   "source": [
    "import numpy as np\n",
    "import pandas as pd\n",
    "from tqdm import tqdm\n",
    "import h5py as h5"
   ]
  },
  {
   "cell_type": "code",
   "execution_count": 3,
   "id": "c55c3707-eef1-4b65-8a01-8b91eb324916",
   "metadata": {},
   "outputs": [],
   "source": [
    "import matplotlib.pyplot as plt\n",
    "import seaborn as sns"
   ]
  },
  {
   "cell_type": "code",
   "execution_count": 4,
   "id": "3e9e91be-4309-4618-bfc0-9cd9708214e3",
   "metadata": {},
   "outputs": [],
   "source": [
    "%matplotlib inline"
   ]
  },
  {
   "cell_type": "markdown",
   "id": "b98771fb-6cdd-4f07-a3b6-ef7e0584d08f",
   "metadata": {},
   "source": [
    "## Setup"
   ]
  },
  {
   "cell_type": "raw",
   "id": "9c036324-085e-4330-b4f9-39830f48c92a",
   "metadata": {},
   "source": [
    "DATESTR = '211207'\n",
    "NBNAME = DATESTR + '-pw-dists'"
   ]
  },
  {
   "cell_type": "raw",
   "id": "8e9c3d6c-d7cd-4f01-85ae-e5133ee5cd56",
   "metadata": {},
   "source": [
    "tmpdir = Path('tmp')\n",
    "\n",
    "genomes_dir = tmpdir / 'genomes'\n",
    "genomes_dir.mkdir(exist_ok=True)\n",
    "\n",
    "archive_dir = Path('archive')"
   ]
  },
  {
   "cell_type": "code",
   "execution_count": 5,
   "id": "2f783461-8935-457c-9029-a319afd6cb3f",
   "metadata": {},
   "outputs": [],
   "source": [
    "infiles = dict(\n",
    "    # genomes=Path('data-processed/211111-inspect-genomes/genomes.csv'),\n",
    "    genomes=Path('data-intermediate/211207-get-taxonomy/genome-taxonomy.csv'),\n",
    "    pw_dists=Path('data-intermediate/211206-pw-dists/pw-dists.h5'),\n",
    "    taxa=Path('data-intermediate/211207-get-taxonomy/taxa.csv'),\n",
    ")"
   ]
  },
  {
   "cell_type": "raw",
   "id": "5245ede0-def5-4983-acd8-ab8341c67bd4",
   "metadata": {},
   "source": [
    "intermediate_out = Path('data-intermediate') / NBNAME\n",
    "intermediate_out.mkdir(exist_ok=True)\n",
    "\n",
    "outfiles = dict(\n",
    "    signatures=archive / f'211109-ncbi-representative-genomes-ATGAC_11-{DATESTR}.h5',\n",
    "    pw_dists=intermediate_out / 'pw-dists.h5',\n",
    ")"
   ]
  },
  {
   "cell_type": "markdown",
   "id": "e36c5c24-6304-4f60-867d-e1f6be340b80",
   "metadata": {},
   "source": [
    "## Load data"
   ]
  },
  {
   "cell_type": "markdown",
   "id": "93cd563b-1fd4-426c-97ad-968b3b55d7ea",
   "metadata": {},
   "source": [
    "### Genomes"
   ]
  },
  {
   "cell_type": "code",
   "execution_count": 6,
   "id": "0b020149-3888-4d47-946d-749f4e0a5fe0",
   "metadata": {},
   "outputs": [
    {
     "data": {
      "text/plain": [
       "14388"
      ]
     },
     "execution_count": 6,
     "metadata": {},
     "output_type": "execute_result"
    }
   ],
   "source": [
    "genomes_df = pd.read_csv(infiles['genomes'], index_col=0)\n",
    "ngenomes = genomes_df.shape[0]\n",
    "ngenomes"
   ]
  },
  {
   "cell_type": "markdown",
   "id": "fa5a6075-2d40-4f7a-8f1e-2ea008be21d8",
   "metadata": {},
   "source": [
    "### Taxonomy"
   ]
  },
  {
   "cell_type": "code",
   "execution_count": 7,
   "id": "a2f13093-0722-4a01-b58d-db02c819f458",
   "metadata": {},
   "outputs": [
    {
     "data": {
      "text/plain": [
       "15303"
      ]
     },
     "execution_count": 7,
     "metadata": {},
     "output_type": "execute_result"
    }
   ],
   "source": [
    "taxa_df = pd.read_csv(infiles['taxa'], index_col=0)\n",
    "ntaxa = taxa_df.shape[0]\n",
    "ntaxa"
   ]
  },
  {
   "cell_type": "code",
   "execution_count": 8,
   "id": "77d1a9a9-ec98-4990-bac1-5f38fd559477",
   "metadata": {},
   "outputs": [],
   "source": [
    "RANKS = ['phylum', 'class', 'order', 'family', 'genus', 'species']"
   ]
  },
  {
   "cell_type": "markdown",
   "id": "b038f26a-f991-4929-a5dd-61d98f1b2340",
   "metadata": {},
   "source": [
    "### Distance matrix"
   ]
  },
  {
   "cell_type": "code",
   "execution_count": 9,
   "id": "439890d4-38e6-4c3f-b069-dfed71b714e6",
   "metadata": {},
   "outputs": [],
   "source": [
    "with h5.File(infiles['pw_dists']) as f:\n",
    "    dmat_uids = f['uid'][:]\n",
    "    dmat = f['pw_dists'][:]"
   ]
  },
  {
   "cell_type": "markdown",
   "id": "2df9b95c-0462-4327-b4d2-a84f2f37dc52",
   "metadata": {},
   "source": [
    "## Build tree"
   ]
  },
  {
   "cell_type": "code",
   "execution_count": 10,
   "id": "d7585952-80bc-489b-81dd-5c7b8cea18ea",
   "metadata": {},
   "outputs": [
    {
     "name": "stderr",
     "output_type": "stream",
     "text": [
      "/home/jared/opt/anaconda3/envs/gambit/lib/python3.9/site-packages/ete3-3.1.2-py3.7.egg/ete3/evol/parser/codemlparser.py:221: SyntaxWarning: \"is\" with a literal. Did you mean \"==\"?\n",
      "/home/jared/opt/anaconda3/envs/gambit/lib/python3.9/site-packages/ete3-3.1.2-py3.7.egg/ete3/evol/parser/codemlparser.py:221: SyntaxWarning: \"is\" with a literal. Did you mean \"==\"?\n"
     ]
    }
   ],
   "source": [
    "from ete3 import Tree"
   ]
  },
  {
   "cell_type": "code",
   "execution_count": 11,
   "id": "8e79a23b-fe04-4d66-ac68-9818a802ef14",
   "metadata": {},
   "outputs": [],
   "source": [
    "nodes = dict()\n",
    "\n",
    "for taxid, row in taxa_df.iterrows():\n",
    "    if row.parent_taxid == 0:\n",
    "        node = Tree(name=taxid)\n",
    "    else:\n",
    "        node = nodes[row.parent_taxid].add_child(name=taxid)\n",
    "        \n",
    "    node.add_features(\n",
    "        taxid=taxid,\n",
    "        tname=row['name'],\n",
    "        rank=row['rank'],\n",
    "        genome_idxs=[],\n",
    "    )\n",
    "    \n",
    "    nodes[taxid] = node\n",
    "\n",
    "root = nodes[2]"
   ]
  },
  {
   "cell_type": "code",
   "execution_count": 12,
   "id": "693cb9b4-f9e0-4247-a895-8d68c0aaf99d",
   "metadata": {},
   "outputs": [
    {
     "name": "stdout",
     "output_type": "stream",
     "text": [
      "Number of leaf nodes:\t11836\n",
      "Total number of nodes:\t15303\n",
      "Rooted:\tNo\n",
      "Most distant node:\t245\n",
      "Max. distance:\t6.000000\n"
     ]
    }
   ],
   "source": [
    "root.describe()"
   ]
  },
  {
   "cell_type": "code",
   "execution_count": 13,
   "id": "d1cf101f-ff05-40de-a72a-8a55a7973295",
   "metadata": {},
   "outputs": [],
   "source": [
    "for idx, uid in enumerate(dmat_uids):\n",
    "    if not genomes_df.loc[uid, 'use']:\n",
    "        continue\n",
    "        \n",
    "    taxid = genomes_df.loc[uid, 'species_taxid']\n",
    "    nodes[taxid].genome_idxs.append(idx)"
   ]
  },
  {
   "cell_type": "code",
   "execution_count": 14,
   "id": "318ec9c1-ae1f-4e12-89dd-6b2f99424642",
   "metadata": {},
   "outputs": [],
   "source": [
    "for node in root.traverse('postorder'):\n",
    "    for child in node.children:\n",
    "        node.genome_idxs.extend(child.genome_idxs)\n",
    "        \n",
    "    node.genome_idxs = np.asarray(sorted(node.genome_idxs))\n",
    "    assert len(node.genome_idxs) == taxa_df.loc[node.taxid, 'ngenomes']"
   ]
  },
  {
   "cell_type": "markdown",
   "id": "7a9163b0-6d0e-4820-a4e2-30b5bfd995c5",
   "metadata": {},
   "source": [
    "## ?"
   ]
  },
  {
   "cell_type": "markdown",
   "id": "8f12d666-ade4-40d6-9f23-c93dd06f7874",
   "metadata": {},
   "source": [
    "### Diameters"
   ]
  },
  {
   "cell_type": "code",
   "execution_count": 15,
   "id": "eb376160-db4a-4aa0-b0ca-76862b6b94eb",
   "metadata": {},
   "outputs": [
    {
     "name": "stderr",
     "output_type": "stream",
     "text": [
      "100%|██████████| 15303/15303 [00:00<00:00, 18899.81it/s]\n"
     ]
    }
   ],
   "source": [
    "for node in tqdm(nodes.values()):\n",
    "    diam = dmat[np.ix_(node.genome_idxs, node.genome_idxs)].max()\n",
    "    node.add_feature('diameter', diam)"
   ]
  },
  {
   "cell_type": "code",
   "execution_count": 16,
   "id": "8c000a93-b08f-4668-8e26-3274c1a13bb6",
   "metadata": {},
   "outputs": [],
   "source": [
    "taxa_df['diameter'] = [nodes[taxid].diameter for taxid in taxa_df.index]"
   ]
  },
  {
   "cell_type": "code",
   "execution_count": 21,
   "id": "d7a21ee5-0b8c-4813-b97f-eb785c882e4b",
   "metadata": {},
   "outputs": [],
   "source": [
    "taxa_df['diam2'] = 1 - taxa_df['diameter'] + 1e-8"
   ]
  },
  {
   "cell_type": "code",
   "execution_count": 24,
   "id": "30428005-e253-48d5-912c-23760f94ca8a",
   "metadata": {},
   "outputs": [
    {
     "data": {
      "text/plain": [
       "<seaborn.axisgrid.FacetGrid at 0x7fa35dbb50a0>"
      ]
     },
     "execution_count": 24,
     "metadata": {},
     "output_type": "execute_result"
    },
    {
     "data": {
      "image/png": "[encoded data removed]",
      "text/plain": [
       "<Figure size 489.45x360 with 1 Axes>"
      ]
     },
     "metadata": {
      "needs_background": "light"
     },
     "output_type": "display_data"
    }
   ],
   "source": [
    "sns.displot(\n",
    "    taxa_df[taxa_df['ngenomes'] > 1],\n",
    "    x='diam2',\n",
    "    log_scale=True,\n",
    "    # col='rank',\n",
    "    hue='rank',\n",
    "    # facet_kws=dict(sharey=False),\n",
    "    # col_wrap=4,\n",
    ")"
   ]
  },
  {
   "cell_type": "code",
   "execution_count": null,
   "id": "442f812c-6c87-4f65-a936-8bf2c463034e",
   "metadata": {},
   "outputs": [],
   "source": [
    "taxa_df.loc[(taxa_df['rank'] == 'genus') & (taxa_df['ngenomes'] > 1), 'diameter']"
   ]
  },
  {
   "cell_type": "code",
   "execution_count": null,
   "id": "a53dbafc-deb9-44e4-8faa-b2e78f48cfcb",
   "metadata": {},
   "outputs": [],
   "source": [
    "plt.hist(_)\n",
    "plt.gca().set_yscale('log')"
   ]
  },
  {
   "cell_type": "code",
   "execution_count": null,
   "id": "5f128d00-4983-4c12-ac45-2a8f825a5e33",
   "metadata": {},
   "outputs": [],
   "source": [
    "sns.displot(\n",
    "    data=taxa_df[taxa_df['ngenomes'] > 1],\n",
    "    x='ngenomes',\n",
    "    col='rank',\n",
    "    facet_kws=dict(sharey=False, sharex=False),\n",
    "    col_wrap=4,\n",
    ")"
   ]
  },
  {
   "cell_type": "code",
   "execution_count": null,
   "id": "8de08cb2-a422-401e-bb5d-c0e2a0f09dad",
   "metadata": {},
   "outputs": [],
   "source": [
    "sns.relplot(\n",
    "    data=taxa_df[taxa_df['ngenomes'] > 1],\n",
    "    x='ngenomes',\n",
    "    y='diameter',\n",
    "    col='rank',\n",
    "    facet_kws=dict(sharey=False, sharex=False),\n",
    "    col_wrap=4,\n",
    ")"
   ]
  },
  {
   "cell_type": "markdown",
   "id": "4aa9da19-dc38-49d4-9067-22431cd725f9",
   "metadata": {},
   "source": [
    "## ?"
   ]
  },
  {
   "cell_type": "code",
   "execution_count": null,
   "id": "3d806263-5b90-47bc-9969-0b1b43387cfb",
   "metadata": {},
   "outputs": [],
   "source": [
    "from gambit.db import file_sessionmaker, Taxon, AnnotatedGenome\n",
    "\n",
    "Session = file_sessionmaker('/home/jared/projects/gambit/data/databases/refseq-curated/1.0-beta2/gambit-genomes-1.0b2-211111.db')\n",
    "session = Session()"
   ]
  },
  {
   "cell_type": "code",
   "execution_count": null,
   "id": "f5188977-78fa-4707-9231-d2b15038f3ae",
   "metadata": {},
   "outputs": [],
   "source": [
    "db_genomes = {g.ncbi_id: g for g in session.query(AnnotatedGenome).all()}"
   ]
  },
  {
   "cell_type": "code",
   "execution_count": null,
   "id": "4444bb1c-98b7-4305-9ed1-40b10c0a71b1",
   "metadata": {},
   "outputs": [],
   "source": [
    "intersect_genomes = db_genomes.keys() & set(genomes_df.index[genomes_df['use']])\n",
    "len(intersect_genomes)"
   ]
  },
  {
   "cell_type": "code",
   "execution_count": null,
   "id": "e91df6fc-4ddc-448d-a430-638b70f839c4",
   "metadata": {},
   "outputs": [],
   "source": [
    "db_genera = {taxon.ncbi_id: taxon for taxon in session.query(Taxon).filter_by(rank='genus')}"
   ]
  },
  {
   "cell_type": "code",
   "execution_count": null,
   "id": "f52ebd71-1951-401e-8f93-c4ca64c71b9d",
   "metadata": {},
   "outputs": [],
   "source": [
    "intersect_genera = db_genera.keys() & set(taxa_df.index)\n",
    "len(intersect_genera)"
   ]
  },
  {
   "cell_type": "code",
   "execution_count": null,
   "id": "b6c13b40-7c40-4b21-8180-46b2b42cc06f",
   "metadata": {},
   "outputs": [],
   "source": [
    "gid in db_genomes"
   ]
  },
  {
   "cell_type": "code",
   "execution_count": null,
   "id": "e3df9c45-9fc1-4a2c-8544-dfb0e40bb911",
   "metadata": {},
   "outputs": [],
   "source": [
    "intersect_map = dict()\n",
    "taxid_mismatch = []\n",
    "\n",
    "for gid in intersect_genomes:\n",
    "    sp_node = nodes[genomes_df.loc[gid, 'species_taxid']]\n",
    "    genus_node = sp_node.up\n",
    "    assert genus_node.rank == 'genus'\n",
    "\n",
    "    genome = db_genomes[gid]\n",
    "    taxon = genome.taxon\n",
    "    while taxon.rank != 'genus':\n",
    "        taxon = taxon.parent\n",
    "        \n",
    "    if taxon.ncbi_id == genus_node.taxid:\n",
    "        intersect_map.setdefault(genus_node.taxid, []).append(gid)\n",
    "    else:\n",
    "        taxid_mismatch.append((gid, genus_node.taxid, taxon.ncbi_id))"
   ]
  },
  {
   "cell_type": "code",
   "execution_count": null,
   "id": "9a583d65-2bb7-48c6-ba31-898565f46efb",
   "metadata": {},
   "outputs": [],
   "source": [
    "len(taxid_mismatch), len(intersect_map), sum(map(len, intersect_map.values()))"
   ]
  },
  {
   "cell_type": "code",
   "execution_count": null,
   "id": "959b5e86-909a-44f2-a9d6-8d232286d8fc",
   "metadata": {},
   "outputs": [],
   "source": [
    "from collections import Counter\n",
    "Counter(map(len, intersect_map.values()))"
   ]
  },
  {
   "cell_type": "code",
   "execution_count": null,
   "id": "076438f5-7606-45ab-8ae1-7ded830bac00",
   "metadata": {},
   "outputs": [],
   "source": []
  },
  {
   "cell_type": "code",
   "execution_count": null,
   "id": "ec3aedbd-fce2-4309-b55a-28a2df44f129",
   "metadata": {},
   "outputs": [],
   "source": [
    "taxid, gids = max(intersect_map.items(), key=lambda item: (len(item[1]) > 1, -nodes[item[0]].diameter))"
   ]
  },
  {
   "cell_type": "code",
   "execution_count": null,
   "id": "51cb9931-dea0-408e-b889-f5d945d112c8",
   "metadata": {},
   "outputs": [],
   "source": []
  },
  {
   "cell_type": "code",
   "execution_count": null,
   "id": "da04bd12-cf16-4819-b044-dbe1102ff502",
   "metadata": {},
   "outputs": [],
   "source": [
    "df = pd.DataFrame.from_records([\n",
    "    dict(\n",
    "        taxid=taxid,\n",
    "        db_thresh=db_genera[taxid].distance_threshold,\n",
    "        diameter=nodes[taxid].diameter,\n",
    "        ngenomes=len(gids)\n",
    "    )\n",
    "    for taxid, gids in intersect_map.items()\n",
    "])\n",
    "df.sort_values('diameter', ascending=True, inplace=True)"
   ]
  },
  {
   "cell_type": "code",
   "execution_count": null,
   "id": "d1deb116-812b-4484-964a-25fd3800e0a5",
   "metadata": {},
   "outputs": [],
   "source": [
    "df[df['ngenomes'] > 1]"
   ]
  },
  {
   "cell_type": "code",
   "execution_count": null,
   "id": "59027828-e8c0-4804-8f8f-1d667d5517e0",
   "metadata": {},
   "outputs": [],
   "source": [
    "db_genera[taxid].distance_threshold"
   ]
  },
  {
   "cell_type": "code",
   "execution_count": null,
   "id": "9a19874f-d02e-4431-819b-8edbb2886093",
   "metadata": {},
   "outputs": [],
   "source": [
    "nodes[taxid].diameter"
   ]
  },
  {
   "cell_type": "code",
   "execution_count": null,
   "id": "91fcc84c-8e7f-40ad-808e-d089bb15d389",
   "metadata": {},
   "outputs": [],
   "source": [
    "genomes_df.loc[gids]"
   ]
  },
  {
   "cell_type": "code",
   "execution_count": null,
   "id": "5baddea1-9945-4f89-b4c8-e4bdf7ec3e80",
   "metadata": {},
   "outputs": [],
   "source": [
    "taxon.ncbi_id"
   ]
  },
  {
   "cell_type": "code",
   "execution_count": null,
   "id": "4cc457fc-195b-49c9-baf3-a58a63df1361",
   "metadata": {},
   "outputs": [],
   "source": [
    "genus_node.taxid"
   ]
  },
  {
   "cell_type": "code",
   "execution_count": null,
   "id": "716af0a4-b414-4985-b3fb-221185ff2ed4",
   "metadata": {},
   "outputs": [],
   "source": [
    "genus_node.tname"
   ]
  },
  {
   "cell_type": "code",
   "execution_count": null,
   "id": "a55bd013-b0d3-403d-928f-b6b98881fffa",
   "metadata": {},
   "outputs": [],
   "source": [
    "genome.taxon.rank"
   ]
  },
  {
   "cell_type": "markdown",
   "id": "1f1e96e1-4445-49a2-9116-9bdf8e82f410",
   "metadata": {},
   "source": [
    "### ?"
   ]
  },
  {
   "cell_type": "code",
   "execution_count": null,
   "id": "f22073a4-5123-4bdd-ad87-63640b2ed46c",
   "metadata": {},
   "outputs": [],
   "source": [
    "taxids_by_rank = dict(iter(taxa_df.reset_index().groupby('rank')['taxid']))"
   ]
  },
  {
   "cell_type": "code",
   "execution_count": null,
   "id": "8cd8f385-cd2f-4fd8-a6a6-1938a48945d4",
   "metadata": {},
   "outputs": [],
   "source": [
    "taxa_df[taxa_df['rank'] == 'phylum']"
   ]
  }
 ],
 "metadata": {
  "kernelspec": {
   "display_name": "GAMBIT",
   "language": "python",
   "name": "gambit"
  },
  "language_info": {
   "codemirror_mode": {
    "name": "ipython",
    "version": 3
   },
   "file_extension": ".py",
   "mimetype": "text/x-python",
   "name": "python",
   "nbconvert_exporter": "python",
   "pygments_lexer": "ipython3",
   "version": "3.9.7"
  }
 },
 "nbformat": 4,
 "nbformat_minor": 5
}
