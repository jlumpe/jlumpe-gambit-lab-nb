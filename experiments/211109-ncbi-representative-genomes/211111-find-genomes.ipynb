{
 "cells": [
  {
   "cell_type": "code",
   "execution_count": 1,
   "id": "dea7c3d0-b374-4818-b4e5-f892ef70b1e2",
   "metadata": {},
   "outputs": [],
   "source": [
    "import json\n",
    "from pathlib import Path"
   ]
  },
  {
   "cell_type": "code",
   "execution_count": 2,
   "id": "7a64defc-8c1f-446a-b533-528f9ef6928e",
   "metadata": {},
   "outputs": [],
   "source": [
    "from tqdm import tqdm\n",
    "from Bio import Entrez"
   ]
  },
  {
   "cell_type": "markdown",
   "id": "b98771fb-6cdd-4f07-a3b6-ef7e0584d08f",
   "metadata": {},
   "source": [
    "## Setup"
   ]
  },
  {
   "cell_type": "code",
   "execution_count": 3,
   "id": "3d7dfdb5-af68-4e70-bb6c-7781fbd7c100",
   "metadata": {},
   "outputs": [],
   "source": [
    "DATESTR = '211111'\n",
    "NBNAME = DATESTR + '-find-genomes'"
   ]
  },
  {
   "cell_type": "code",
   "execution_count": 4,
   "id": "62e0fe7c-3093-4ceb-83e2-76cb1c60e1e0",
   "metadata": {},
   "outputs": [],
   "source": [
    "Entrez.email = 'mjlumpe@gmail.com'\n",
    "Entrez.api_key = 'adea2a53e6e44c3cc42c932f9ba4bdffa809'"
   ]
  },
  {
   "cell_type": "code",
   "execution_count": 5,
   "id": "3dd0acff-d175-4667-8af2-c3f31882eef2",
   "metadata": {},
   "outputs": [],
   "source": [
    "tmpdir = Path('tmp')\n",
    "tmpdir.mkdir(exist_ok=True)\n",
    "\n",
    "summaries_dir = tmpdir / 'assembly-summaries'\n",
    "summaries_dir.mkdir(exist_ok=True)\n",
    "\n",
    "intermediate_out = Path('data-intermediate') / NBNAME\n",
    "intermediate_out.mkdir(exist_ok=True)"
   ]
  },
  {
   "cell_type": "code",
   "execution_count": 6,
   "id": "63b25940-7d86-441f-9e4c-ccd9ca8a93e6",
   "metadata": {},
   "outputs": [],
   "source": [
    "outfiles = dict(\n",
    "    summaries=intermediate_out / 'assembly-summaries.tar.gz',\n",
    ")"
   ]
  },
  {
   "cell_type": "markdown",
   "id": "4cba5c8c-e5b5-481e-9feb-afe9de89d46a",
   "metadata": {},
   "source": [
    "## Code"
   ]
  },
  {
   "cell_type": "code",
   "execution_count": 7,
   "id": "990041e8-fff2-4779-b28c-a987f594dae3",
   "metadata": {},
   "outputs": [],
   "source": [
    "def chunk(l, chunksize: int):\n",
    "    for start in range(0, len(l), chunksize):\n",
    "        yield l[start:start + chunksize]"
   ]
  },
  {
   "cell_type": "markdown",
   "id": "7791e5c5-e67f-452a-ac69-9a753cb5f34c",
   "metadata": {},
   "source": [
    "## Search"
   ]
  },
  {
   "cell_type": "code",
   "execution_count": 8,
   "id": "37358708-8c6b-4b53-bc41-4c334ce82af1",
   "metadata": {},
   "outputs": [],
   "source": [
    "TERM = '''\\\n",
    "\"bacteria\"[Organism] \\\n",
    "AND (\"representative genome\"[RefSeq Category] OR \"reference genome\"[RefSeq Category]) \\\n",
    "'''\n",
    "# Not needed?\n",
    "# AND \"all\"[Filter] NOT \"anomalous\"[Filter] \\\n",
    "# AND \"latest\"[Filter] \\\n",
    "# '''"
   ]
  },
  {
   "cell_type": "code",
   "execution_count": 9,
   "id": "7664552c-9489-4dd5-90bb-91f420bb982c",
   "metadata": {},
   "outputs": [],
   "source": [
    "response = Entrez.read(Entrez.esearch('assembly', TERM, retmax='99999'))"
   ]
  },
  {
   "cell_type": "code",
   "execution_count": 10,
   "id": "35fb39d4-e745-472f-ad69-d4ea2c805adf",
   "metadata": {},
   "outputs": [
    {
     "data": {
      "text/plain": [
       "14388"
      ]
     },
     "execution_count": 10,
     "metadata": {},
     "output_type": "execute_result"
    }
   ],
   "source": [
    "count = int(response['Count'])\n",
    "assert response['RetStart'] == '0'\n",
    "assert response['RetMax'] == str(count)\n",
    "count"
   ]
  },
  {
   "cell_type": "code",
   "execution_count": 11,
   "id": "8d4a92e7-f48a-4bfd-92fc-feceb226f10e",
   "metadata": {},
   "outputs": [],
   "source": [
    "uids = list(response['IdList'])\n",
    "assert len(uids) == count"
   ]
  },
  {
   "cell_type": "markdown",
   "id": "5d710693-a1a1-4d24-8fe3-b9293c2e702d",
   "metadata": {},
   "source": [
    "## Download assemblies"
   ]
  },
  {
   "cell_type": "code",
   "execution_count": 12,
   "id": "99de539a-7ba2-4b35-b150-94dca1300383",
   "metadata": {},
   "outputs": [],
   "source": [
    "summary_files = {uid: summaries_dir / f'{uid}.json' for uid in uids}"
   ]
  },
  {
   "cell_type": "code",
   "execution_count": 13,
   "id": "4b8a562e-e06b-4230-a4ec-1f13e49118fa",
   "metadata": {},
   "outputs": [
    {
     "name": "stderr",
     "output_type": "stream",
     "text": [
      "0it [00:00, ?it/s]\n"
     ]
    }
   ],
   "source": [
    "to_download = {uid for uid, f in summary_files.items() if not f.is_file()}\n",
    "\n",
    "for chunk_uids in tqdm(list(chunk(list(to_download), 100))):\n",
    "    with Entrez.esummary(db='assembly', id=','.join(chunk_uids), retmode='json') as response:\n",
    "        data = json.load(response)\n",
    "\n",
    "    assert set(data['result']['uids']) == set(chunk_uids)\n",
    "    \n",
    "    for uid in chunk_uids:\n",
    "        summary = data['result'][uid]\n",
    "        with open(summary_files[uid], 'w') as f:\n",
    "            json.dump(summary, f)"
   ]
  },
  {
   "cell_type": "markdown",
   "id": "a336b335-3d3b-4cfc-9375-5a036868e4f9",
   "metadata": {},
   "source": [
    "## Save as archive"
   ]
  },
  {
   "cell_type": "code",
   "execution_count": 14,
   "id": "a646ae2a-28fd-4c0d-b4ba-59349a4e5ae8",
   "metadata": {},
   "outputs": [],
   "source": [
    "! cd {str(summaries_dir)}; tar -czf \"{str(outfiles['summaries'].absolute())}\" *"
   ]
  }
 ],
 "metadata": {
  "kernelspec": {
   "display_name": "GAMBIT",
   "language": "python",
   "name": "gambit"
  },
  "language_info": {
   "codemirror_mode": {
    "name": "ipython",
    "version": 3
   },
   "file_extension": ".py",
   "mimetype": "text/x-python",
   "name": "python",
   "nbconvert_exporter": "python",
   "pygments_lexer": "ipython3",
   "version": "3.9.7"
  }
 },
 "nbformat": 4,
 "nbformat_minor": 5
}
