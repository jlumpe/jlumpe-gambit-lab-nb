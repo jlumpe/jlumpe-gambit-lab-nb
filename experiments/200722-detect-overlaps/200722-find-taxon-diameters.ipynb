{
 "cells": [
  {
   "cell_type": "code",
   "execution_count": 1,
   "metadata": {},
   "outputs": [],
   "source": [
    "using GZip\n",
    "using ProgressMeter\n",
    "using StatsBase\n",
    "using DataFrames\n",
    "using CSV\n",
    "using CategoricalArrays\n",
    "using JSON\n",
    "using Serialization"
   ]
  },
  {
   "cell_type": "code",
   "execution_count": 2,
   "metadata": {},
   "outputs": [],
   "source": [
    "using Midas\n",
    "using Midas.Pairwise\n",
    "using Midas.Distances\n",
    "using Midas.SignatureFiles"
   ]
  },
  {
   "cell_type": "code",
   "execution_count": 3,
   "metadata": {},
   "outputs": [
    {
     "data": {
      "text/plain": [
       "jaccard_dist_sorted (generic function with 1 method)"
      ]
     },
     "execution_count": 3,
     "metadata": {},
     "output_type": "execute_result"
    }
   ],
   "source": [
    "const metric = jaccard_dist_sorted"
   ]
  },
  {
   "cell_type": "markdown",
   "metadata": {},
   "source": [
    "## Func defs"
   ]
  },
  {
   "cell_type": "code",
   "execution_count": 4,
   "metadata": {},
   "outputs": [
    {
     "data": {
      "text/plain": [
       "findclass (generic function with 2 methods)"
      ]
     },
     "execution_count": 4,
     "metadata": {},
     "output_type": "execute_result"
    }
   ],
   "source": [
    "findclass(a::CategoricalArray, cls::CategoricalValue) = findall(==(cls), a)\n",
    "findclass(a::CategoricalArray, i::Integer) = findclass(a, a.pool[i])"
   ]
  },
  {
   "cell_type": "code",
   "execution_count": 5,
   "metadata": {},
   "outputs": [
    {
     "data": {
      "text/plain": [
       "find_diameter"
      ]
     },
     "execution_count": 5,
     "metadata": {},
     "output_type": "execute_result"
    }
   ],
   "source": [
    "\"\"\"\n",
    "Find the diameter of a set under the given metric.\n",
    "\"\"\"\n",
    "function find_diameter(data, metric; progress::Bool=length(data) > 100, msg::String=\"Finding diameter\")\n",
    "    n = length(data)\n",
    "    best = (-Inf, 0, 0)\n",
    "    dt = progress ? .5 : Inf\n",
    "    @showprogress dt msg for (i, j) in iterpairs(n)\n",
    "        d = metric(data[i], data[j])\n",
    "        d > best[1] && (best = (d, i, j))\n",
    "    end\n",
    "    return best\n",
    "end"
   ]
  },
  {
   "cell_type": "markdown",
   "metadata": {},
   "source": [
    "## File paths"
   ]
  },
  {
   "cell_type": "code",
   "execution_count": 6,
   "metadata": {},
   "outputs": [],
   "source": [
    "taxonomy_file = \"/Users/student/notebooks/midas/midas-notebooks-2019/build-v1-database/out/3-curated-taxonomy-assignments.csv\"\n",
    "signature_file_name = \"/Users/student/projects/midas/data/2019_20/refseq_curated_1.1beta_200604.midas-signatures.gz\"\n",
    ";"
   ]
  },
  {
   "cell_type": "code",
   "execution_count": 7,
   "metadata": {},
   "outputs": [],
   "source": [
    "tmpdir = \"tmp/\"\n",
    "!isdir(tmpdir) && mkdir(tmpdir);"
   ]
  },
  {
   "cell_type": "code",
   "execution_count": 8,
   "metadata": {},
   "outputs": [],
   "source": [
    "outdir = \"../../data/processed/200722-detect-overlaps/\"\n",
    "isdir(outdir) || mkdir(outdir);"
   ]
  },
  {
   "cell_type": "code",
   "execution_count": 9,
   "metadata": {},
   "outputs": [],
   "source": [
    "out_files = Dict(\n",
    "    :species_diameters => joinpath(outdir, \"200722-species-diameters.csv\"),\n",
    "    :genus_diameters => joinpath(outdir, \"200722-genus-diameters.csv\"),\n",
    ");"
   ]
  },
  {
   "cell_type": "markdown",
   "metadata": {},
   "source": [
    "## Load taxonomy"
   ]
  },
  {
   "cell_type": "code",
   "execution_count": 10,
   "metadata": {},
   "outputs": [],
   "source": [
    "taxdf = DataFrame(CSV.File(taxonomy_file));"
   ]
  },
  {
   "cell_type": "code",
   "execution_count": 11,
   "metadata": {},
   "outputs": [
    {
     "data": {
      "text/plain": [
       "(419, 1438)"
      ]
     },
     "execution_count": 11,
     "metadata": {},
     "output_type": "execute_result"
    }
   ],
   "source": [
    "sig_genera = categorical(taxdf[!, :genus])\n",
    "genera = levels(sig_genera)\n",
    "ngenera = length(genera)\n",
    "\n",
    "sig_species = categorical([(row[:genus], row[:species]) for row in eachrow(taxdf)])\n",
    "species = levels(sig_species)\n",
    "nspecies = length(species)\n",
    "\n",
    "ngenera, nspecies"
   ]
  },
  {
   "cell_type": "code",
   "execution_count": 12,
   "metadata": {},
   "outputs": [],
   "source": [
    "genus_counts = counts(sig_genera.refs)\n",
    "species_counts = counts(sig_species.refs)\n",
    ";"
   ]
  },
  {
   "cell_type": "code",
   "execution_count": 13,
   "metadata": {},
   "outputs": [],
   "source": [
    "genome_accs = [last(split(k, \"/\")) for k in taxdf[!, :key]];"
   ]
  },
  {
   "cell_type": "markdown",
   "metadata": {},
   "source": [
    "## Load signatures"
   ]
  },
  {
   "cell_type": "code",
   "execution_count": 14,
   "metadata": {},
   "outputs": [
    {
     "data": {
      "text/plain": [
       "SignatureFile{UInt32,GZipStream} with 50752 elements"
      ]
     },
     "execution_count": 14,
     "metadata": {},
     "output_type": "execute_result"
    }
   ],
   "source": [
    "sigfile = SignatureFile(GZip.open(signature_file_name))"
   ]
  },
  {
   "cell_type": "code",
   "execution_count": 15,
   "metadata": {},
   "outputs": [
    {
     "name": "stdout",
     "output_type": "stream",
     "text": [
      "{\n",
      "  \"date_created\": \"2020-06-04\",\n",
      "  \"genome_set\": {\n",
      "    \"key\": \"midas/assembly/curated\",\n",
      "    \"name\": \"refseq_curated_2020\",\n",
      "    \"meta\": {\n",
      "      \"date_created\": \"2020-05-26\",\n",
      "      \"parent\": {\n",
      "        \"key\": \"midas/assembly/curated\",\n",
      "        \"key_version\": \"0.9\"\n",
      "      }\n",
      "    },\n",
      "    \"description\": \"Created 2020-05-26 by filtering version 0.9 by inclusion in refseq/assembly/all 1.1\",\n",
      "    \"key_version\": \"1.1\"\n",
      "  },\n",
      "  \"kmer_spec\": {\n",
      "    \"k\": 11,\n",
      "    \"prefix\": \"ATGAC\"\n",
      "  },\n",
      "  \"description\": \"Signatures for version 1.1 of curated genome set\"\n",
      "}\n"
     ]
    }
   ],
   "source": [
    "metadata = SignatureFiles._read_metadata(sigfile.stream, sigfile.header.o_metadata...)\n",
    "JSON.print(metadata, 2)"
   ]
  },
  {
   "cell_type": "code",
   "execution_count": 16,
   "metadata": {},
   "outputs": [],
   "source": [
    "# Should both be sorted:\n",
    "@assert sigfile.ids == taxdf[:, :key]"
   ]
  },
  {
   "cell_type": "code",
   "execution_count": 17,
   "metadata": {},
   "outputs": [
    {
     "name": "stdout",
     "output_type": "stream",
     "text": [
      " 58.624861 seconds (53.71 k allocations: 1.355 GiB, 0.03% gc time)\n"
     ]
    }
   ],
   "source": [
    "@time sigs = SignatureArray(sigfile);"
   ]
  },
  {
   "cell_type": "markdown",
   "metadata": {},
   "source": [
    "## Genus diameters"
   ]
  },
  {
   "cell_type": "code",
   "execution_count": 18,
   "metadata": {},
   "outputs": [
    {
     "data": {
      "text/plain": [
       "\"tmp/genus-diameters.jld\""
      ]
     },
     "execution_count": 18,
     "metadata": {},
     "output_type": "execute_result"
    }
   ],
   "source": [
    "genus_tmpfile = joinpath(tmpdir, \"genus-diameters.jld\")"
   ]
  },
  {
   "cell_type": "code",
   "execution_count": 19,
   "metadata": {},
   "outputs": [
    {
     "data": {
      "text/plain": [
       "(419, 419)"
      ]
     },
     "execution_count": 19,
     "metadata": {},
     "output_type": "execute_result"
    }
   ],
   "source": [
    "# Load saved in-progress dict if it exists\n",
    "if isfile(genus_tmpfile)\n",
    "    genus_diameters = deserialize(genus_tmpfile)\n",
    "else\n",
    "    genus_diameters = Dict{Int, Tuple{Float64, Int, Int}}()\n",
    "end\n",
    "length(genus_diameters), ngenera"
   ]
  },
  {
   "cell_type": "markdown",
   "metadata": {},
   "source": [
    "Can abort the following mid-loop and save partial progress in the cell after it:"
   ]
  },
  {
   "cell_type": "code",
   "execution_count": 20,
   "metadata": {},
   "outputs": [],
   "source": [
    "for gi in 1:ngenera\n",
    "    haskey(genus_diameters, gi) && continue\n",
    "    n = genus_counts[gi]\n",
    "    msg = \"$(genera[gi]) ($n) \"\n",
    "    gsigs = sigs[findclass(sig_genera, gi)]\n",
    "    genus_diameters[gi] = find_diameter(gsigs, metric, progress=n>200, msg=msg)\n",
    "end"
   ]
  },
  {
   "cell_type": "code",
   "execution_count": 21,
   "metadata": {},
   "outputs": [],
   "source": [
    "# Save (partial) progress\n",
    "serialize(genus_tmpfile, genus_diameters)"
   ]
  },
  {
   "cell_type": "markdown",
   "metadata": {},
   "source": [
    "## Species diameters"
   ]
  },
  {
   "cell_type": "code",
   "execution_count": 22,
   "metadata": {},
   "outputs": [
    {
     "data": {
      "text/plain": [
       "\"tmp/species-diameters.jld\""
      ]
     },
     "execution_count": 22,
     "metadata": {},
     "output_type": "execute_result"
    }
   ],
   "source": [
    "species_tmpfile = joinpath(tmpdir, \"species-diameters.jld\")"
   ]
  },
  {
   "cell_type": "code",
   "execution_count": 23,
   "metadata": {},
   "outputs": [
    {
     "data": {
      "text/plain": [
       "(1438, 1438)"
      ]
     },
     "execution_count": 23,
     "metadata": {},
     "output_type": "execute_result"
    }
   ],
   "source": [
    "# Load saved in-progress dict if it exists\n",
    "if isfile(species_tmpfile)\n",
    "    species_diameters = deserialize(species_tmpfile)\n",
    "else\n",
    "    species_diameters = Dict{Int, Tuple{Float64, Int, Int}}()\n",
    "end\n",
    "length(species_diameters), nspecies"
   ]
  },
  {
   "cell_type": "markdown",
   "metadata": {},
   "source": [
    "Can abort the following mid-loop and save partial progress in the cell after it:"
   ]
  },
  {
   "cell_type": "code",
   "execution_count": 24,
   "metadata": {},
   "outputs": [],
   "source": [
    "for si in 1:nspecies\n",
    "    haskey(species_diameters, si) && continue\n",
    "    n = species_counts[si]\n",
    "    msg = \"$(species[si]) ($n) \"\n",
    "    ssigs = sigs[findclass(sig_species, si)]\n",
    "    species_diameters[si] = find_diameter(ssigs, metric, progress=n>200, msg=msg)\n",
    "end"
   ]
  },
  {
   "cell_type": "code",
   "execution_count": 25,
   "metadata": {},
   "outputs": [],
   "source": [
    "# Save (partial) progress\n",
    "serialize(species_tmpfile, species_diameters)"
   ]
  },
  {
   "cell_type": "markdown",
   "metadata": {},
   "source": [
    "## Save dataframes"
   ]
  },
  {
   "cell_type": "code",
   "execution_count": 26,
   "metadata": {},
   "outputs": [],
   "source": [
    "genus_df = map(1:ngenera) do gi\n",
    "    d, i, j = genus_diameters[gi]\n",
    "    \n",
    "    gindices = findclass(sig_genera, gi)\n",
    "    i2 = gindices[i]\n",
    "    j2 = gindices[j]\n",
    "    \n",
    "    return (genus_index=gi, genus=genera[gi], diameter=d, index1=i2, acc1=genome_accs[i2], index2=j2, acc2=genome_accs[j2])\n",
    "end |> DataFrame;"
   ]
  },
  {
   "cell_type": "code",
   "execution_count": 27,
   "metadata": {},
   "outputs": [],
   "source": [
    "species_df = map(1:nspecies) do si\n",
    "    d, i, j = species_diameters[si]\n",
    "    \n",
    "    sindices = findclass(sig_species, si)\n",
    "    i2 = sindices[i]\n",
    "    j2 = sindices[j]\n",
    "    \n",
    "    gname, spname = species[si]\n",
    "    \n",
    "    return (species_index=si, genus=gname, species=spname, diameter=d, index1=i2, acc1=genome_accs[i2], index2=j2, acc2=genome_accs[j2])\n",
    "end |> DataFrame;"
   ]
  },
  {
   "cell_type": "code",
   "execution_count": 28,
   "metadata": {},
   "outputs": [
    {
     "data": {
      "text/plain": [
       "\"../../data/processed/200722-detect-overlaps/200722-species-diameters.csv\""
      ]
     },
     "execution_count": 28,
     "metadata": {},
     "output_type": "execute_result"
    }
   ],
   "source": [
    "CSV.write(out_files[:genus_diameters], genus_df)\n",
    "CSV.write(out_files[:species_diameters], species_df)"
   ]
  }
 ],
 "metadata": {
  "kernelspec": {
   "display_name": "Julia 1.4.0",
   "language": "julia",
   "name": "julia-1.4"
  },
  "language_info": {
   "file_extension": ".jl",
   "mimetype": "application/julia",
   "name": "julia",
   "version": "1.4.0"
  }
 },
 "nbformat": 4,
 "nbformat_minor": 4
}
