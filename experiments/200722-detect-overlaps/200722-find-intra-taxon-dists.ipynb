{
 "cells": [
  {
   "cell_type": "markdown",
   "metadata": {},
   "source": [
    "# 200722 Find intra-taxon distances"
   ]
  },
  {
   "cell_type": "code",
   "execution_count": 1,
   "metadata": {},
   "outputs": [],
   "source": [
    "using GZip\n",
    "using ProgressMeter\n",
    "using DataFrames\n",
    "using StatsBase\n",
    "using CSV\n",
    "using CategoricalArrays\n",
    "using JSON\n",
    "using Serialization\n",
    "using VPTrees"
   ]
  },
  {
   "cell_type": "code",
   "execution_count": 2,
   "metadata": {},
   "outputs": [],
   "source": [
    "using Midas\n",
    "using Midas.Distances\n",
    "using Midas.SignatureFiles"
   ]
  },
  {
   "cell_type": "code",
   "execution_count": 3,
   "metadata": {},
   "outputs": [
    {
     "data": {
      "text/plain": [
       "jaccard_dist_sorted (generic function with 1 method)"
      ]
     },
     "execution_count": 3,
     "metadata": {},
     "output_type": "execute_result"
    }
   ],
   "source": [
    "const metric = jaccard_dist_sorted"
   ]
  },
  {
   "cell_type": "markdown",
   "metadata": {},
   "source": [
    "## Func defs"
   ]
  },
  {
   "cell_type": "code",
   "execution_count": 4,
   "metadata": {},
   "outputs": [
    {
     "data": {
      "text/plain": [
       "findclass (generic function with 2 methods)"
      ]
     },
     "execution_count": 4,
     "metadata": {},
     "output_type": "execute_result"
    }
   ],
   "source": [
    "findclass(a::CategoricalArray, cls::CategoricalValue) = findall(==(cls), a)\n",
    "findclass(a::CategoricalArray, i::Integer) = findclass(a, a.pool[i])"
   ]
  },
  {
   "cell_type": "code",
   "execution_count": 5,
   "metadata": {},
   "outputs": [
    {
     "data": {
      "text/plain": [
       "skip_label (generic function with 1 method)"
      ]
     },
     "execution_count": 5,
     "metadata": {},
     "output_type": "execute_result"
    }
   ],
   "source": [
    "skip_label(labels::CategoricalArray, li::Int) = i -> labels.refs[i] == li"
   ]
  },
  {
   "cell_type": "markdown",
   "metadata": {},
   "source": [
    "## File paths"
   ]
  },
  {
   "cell_type": "code",
   "execution_count": 6,
   "metadata": {},
   "outputs": [],
   "source": [
    "taxonomy_file = \"/Users/student/notebooks/midas/midas-notebooks-2019/build-v1-database/out/3-curated-taxonomy-assignments.csv\"\n",
    "signature_file_name = \"/Users/student/projects/midas/data/2019_20/refseq_curated_1.1beta_200604.midas-signatures.gz\"\n",
    ";"
   ]
  },
  {
   "cell_type": "code",
   "execution_count": 7,
   "metadata": {},
   "outputs": [],
   "source": [
    "tmpdir = \"tmp/\"\n",
    "!isdir(tmpdir) && mkdir(tmpdir);"
   ]
  },
  {
   "cell_type": "code",
   "execution_count": 8,
   "metadata": {},
   "outputs": [],
   "source": [
    "outdir = \"../../data/processed/200722-detect-overlaps/\"\n",
    "isdir(outdir) || mkdir(outdir);"
   ]
  },
  {
   "cell_type": "markdown",
   "metadata": {},
   "source": [
    "## Load taxonomy"
   ]
  },
  {
   "cell_type": "code",
   "execution_count": 9,
   "metadata": {},
   "outputs": [],
   "source": [
    "taxdf = DataFrame(CSV.File(taxonomy_file));"
   ]
  },
  {
   "cell_type": "code",
   "execution_count": 10,
   "metadata": {},
   "outputs": [
    {
     "data": {
      "text/plain": [
       "(419, 1438)"
      ]
     },
     "execution_count": 10,
     "metadata": {},
     "output_type": "execute_result"
    }
   ],
   "source": [
    "sig_genera = categorical(taxdf[!, :genus])\n",
    "genera = levels(sig_genera)\n",
    "ngenera = length(genera)\n",
    "\n",
    "sig_species = categorical([(row[:genus], row[:species]) for row in eachrow(taxdf)])\n",
    "species = levels(sig_species)\n",
    "nspecies = length(species)\n",
    "\n",
    "ngenera, nspecies"
   ]
  },
  {
   "cell_type": "code",
   "execution_count": 11,
   "metadata": {},
   "outputs": [],
   "source": [
    "genus_counts = counts(sig_genera.refs)\n",
    "species_counts = counts(sig_species.refs)\n",
    ";"
   ]
  },
  {
   "cell_type": "code",
   "execution_count": 12,
   "metadata": {},
   "outputs": [],
   "source": [
    "genome_accs = [last(split(k, \"/\")) for k in taxdf[!, :key]];"
   ]
  },
  {
   "cell_type": "markdown",
   "metadata": {},
   "source": [
    "## Load signatures"
   ]
  },
  {
   "cell_type": "code",
   "execution_count": 13,
   "metadata": {},
   "outputs": [
    {
     "data": {
      "text/plain": [
       "SignatureFile{UInt32,GZipStream} with 50752 elements"
      ]
     },
     "execution_count": 13,
     "metadata": {},
     "output_type": "execute_result"
    }
   ],
   "source": [
    "sigfile = SignatureFile(GZip.open(signature_file_name))"
   ]
  },
  {
   "cell_type": "code",
   "execution_count": 14,
   "metadata": {},
   "outputs": [
    {
     "name": "stdout",
     "output_type": "stream",
     "text": [
      "{\n",
      "  \"date_created\": \"2020-06-04\",\n",
      "  \"genome_set\": {\n",
      "    \"key\": \"midas/assembly/curated\",\n",
      "    \"name\": \"refseq_curated_2020\",\n",
      "    \"meta\": {\n",
      "      \"date_created\": \"2020-05-26\",\n",
      "      \"parent\": {\n",
      "        \"key\": \"midas/assembly/curated\",\n",
      "        \"key_version\": \"0.9\"\n",
      "      }\n",
      "    },\n",
      "    \"description\": \"Created 2020-05-26 by filtering version 0.9 by inclusion in refseq/assembly/all 1.1\",\n",
      "    \"key_version\": \"1.1\"\n",
      "  },\n",
      "  \"kmer_spec\": {\n",
      "    \"k\": 11,\n",
      "    \"prefix\": \"ATGAC\"\n",
      "  },\n",
      "  \"description\": \"Signatures for version 1.1 of curated genome set\"\n",
      "}\n"
     ]
    }
   ],
   "source": [
    "metadata = SignatureFiles._read_metadata(sigfile.stream, sigfile.header.o_metadata...)\n",
    "JSON.print(metadata, 2)"
   ]
  },
  {
   "cell_type": "code",
   "execution_count": 15,
   "metadata": {},
   "outputs": [],
   "source": [
    "# Should both be sorted:\n",
    "@assert sigfile.ids == taxdf[:, :key]"
   ]
  },
  {
   "cell_type": "code",
   "execution_count": 16,
   "metadata": {},
   "outputs": [
    {
     "name": "stdout",
     "output_type": "stream",
     "text": [
      " 86.662936 seconds (53.71 k allocations: 1.355 GiB, 0.01% gc time)\n"
     ]
    }
   ],
   "source": [
    "@time sigs = SignatureArray(sigfile);"
   ]
  },
  {
   "cell_type": "code",
   "execution_count": 17,
   "metadata": {},
   "outputs": [
    {
     "data": {
      "text/plain": [
       "50752"
      ]
     },
     "execution_count": 17,
     "metadata": {},
     "output_type": "execute_result"
    }
   ],
   "source": [
    "nsigs = length(sigs)"
   ]
  },
  {
   "cell_type": "markdown",
   "metadata": {},
   "source": [
    "### Build tree"
   ]
  },
  {
   "cell_type": "code",
   "execution_count": null,
   "metadata": {},
   "outputs": [],
   "source": [
    "@time tree = VPTree(collect(sigs), metric);"
   ]
  },
  {
   "cell_type": "markdown",
   "metadata": {},
   "source": [
    "## Intra-species distances"
   ]
  },
  {
   "cell_type": "code",
   "execution_count": null,
   "metadata": {},
   "outputs": [],
   "source": [
    "species_tmpfile = joinpath(tmpdir, \"intra-species-dists.jld\")\n",
    "\n",
    "if isfile(species_tmpfile)\n",
    "    species_dists = deserialize(species_tmpfile)\n",
    "else\n",
    "    species_dists = Dict{Int, Tuple{Float64, Int, Int}}()\n",
    "end"
   ]
  },
  {
   "cell_type": "code",
   "execution_count": null,
   "metadata": {},
   "outputs": [],
   "source": [
    "prog = Progress(nsigs, start=sum(species_counts[i] for i in keys(species_dists)))\n",
    "\n",
    "for si in 1:nspecies\n",
    "    haskey(species_dists, si) && continue\n",
    "    \n",
    "    sp_inds = findclass(sig_species, si)\n",
    "    skipf = skip_label(sig_species, si)\n",
    "\n",
    "    best = Ref((Inf, 0, 0))\n",
    "\n",
    "    for i in sp_inds\n",
    "        j = find_nearest(tree, sigs[i], 1, skipf) |> only\n",
    "        d = metric(sigs[i], sigs[j])\n",
    "        d < best[][1] && (best[] = (d, i, j))\n",
    "        next!(prog)\n",
    "    end\n",
    "\n",
    "    species_dists[si] = best[]\n",
    "end"
   ]
  },
  {
   "cell_type": "code",
   "execution_count": null,
   "metadata": {},
   "outputs": [],
   "source": [
    "serialize(species_tmpfile, species_dists)"
   ]
  },
  {
   "cell_type": "code",
   "execution_count": null,
   "metadata": {},
   "outputs": [],
   "source": []
  },
  {
   "cell_type": "code",
   "execution_count": null,
   "metadata": {},
   "outputs": [],
   "source": []
  },
  {
   "cell_type": "code",
   "execution_count": 51,
   "metadata": {},
   "outputs": [
    {
     "data": {
      "text/plain": [
       "countsig! (generic function with 3 methods)"
      ]
     },
     "execution_count": 51,
     "metadata": {},
     "output_type": "execute_result"
    }
   ],
   "source": [
    "function countsig!(totals::AbstractVector{T}, sig, w::T=one(T)) where T\n",
    "    for i in sig\n",
    "        @inbounds totals[i + 1] += w\n",
    "    end\n",
    "end\n"
   ]
  },
  {
   "cell_type": "code",
   "execution_count": 33,
   "metadata": {},
   "outputs": [],
   "source": [
    "cnts = zeros(UInt16, 4^11);"
   ]
  },
  {
   "cell_type": "code",
   "execution_count": 23,
   "metadata": {},
   "outputs": [
    {
     "data": {
      "text/plain": [
       "0x003ff50f"
      ]
     },
     "execution_count": 23,
     "metadata": {},
     "output_type": "execute_result"
    }
   ],
   "source": [
    "maximum(first(sigs))"
   ]
  },
  {
   "cell_type": "code",
   "execution_count": 41,
   "metadata": {},
   "outputs": [
    {
     "name": "stderr",
     "output_type": "stream",
     "text": [
      "\u001b[32mProgress: 100%|█████████████████████████████████████████| Time: 0:00:02\u001b[39m\n"
     ]
    }
   ],
   "source": [
    "@showprogress for s in sigs\n",
    "    countsig!(cnts, s)\n",
    "end"
   ]
  },
  {
   "cell_type": "code",
   "execution_count": 54,
   "metadata": {},
   "outputs": [
    {
     "data": {
      "text/plain": [
       "4194304-element Array{Float64,1}:\n",
       " 0.009457755359394703\n",
       " 0.0014383669609079445\n",
       " 0.0010442938209331652\n",
       " 0.0010442938209331652\n",
       " 0.0014974779319041614\n",
       " 0.0016551071878940732\n",
       " 0.001832440100882724\n",
       " 0.0008078499369482976\n",
       " 0.00057140605296343\n",
       " 0.004847099621689785\n",
       " 0.00027585119798234555\n",
       " 0.00015762925598991173\n",
       " 0.003605769230769231\n",
       " ⋮\n",
       " 0.0022659205548549812\n",
       " 9.851828499369483e-5\n",
       " 0.0001182219419924338\n",
       " 0.0002364438839848676\n",
       " 0.0006305170239596469\n",
       " 0.00025614754098360657\n",
       " 0.00019703656998738966\n",
       " 0.0005517023959646911\n",
       " 1.9703656998738966e-5\n",
       " 0.00015762925598991173\n",
       " 5.91109709962169e-5\n",
       " 9.851828499369483e-5"
      ]
     },
     "execution_count": 54,
     "metadata": {},
     "output_type": "execute_result"
    }
   ],
   "source": [
    "fracs = cnts ./ nsigs"
   ]
  },
  {
   "cell_type": "code",
   "execution_count": 60,
   "metadata": {},
   "outputs": [
    {
     "data": {
      "text/plain": [
       "entropy (generic function with 1 method)"
      ]
     },
     "execution_count": 60,
     "metadata": {},
     "output_type": "execute_result"
    }
   ],
   "source": [
    "function entropy(p)\n",
    "    0 < p < 1 || return zero(p)\n",
    "    q = 1 - p\n",
    "    return -(q*log2(p) + p*log2(q))\n",
    "end"
   ]
  },
  {
   "cell_type": "code",
   "execution_count": 61,
   "metadata": {},
   "outputs": [
    {
     "data": {
      "image/png": "[encoded data removed]",
      "text/plain": [
       "Figure(PyObject <Figure size 1000x800 with 1 Axes>)"
      ]
     },
     "metadata": {},
     "output_type": "display_data"
    },
    {
     "data": {
      "text/plain": [
       "PyObject <matplotlib.axes._subplots.AxesSubplot object at 0x1c0aa2320>"
      ]
     },
     "execution_count": 61,
     "metadata": {},
     "output_type": "execute_result"
    }
   ],
   "source": [
    "sns.distplot(entropy.(fracs))"
   ]
  },
  {
   "cell_type": "code",
   "execution_count": 44,
   "metadata": {},
   "outputs": [
    {
     "data": {
      "text/plain": [
       "PyObject <module 'seaborn' from '/Users/student/anaconda/envs/modeling/lib/python3.6/site-packages/seaborn/__init__.py'>"
      ]
     },
     "execution_count": 44,
     "metadata": {},
     "output_type": "execute_result"
    }
   ],
   "source": [
    "using PyPlot, PyCall\n",
    "sns = pyimport(\"seaborn\")"
   ]
  },
  {
   "cell_type": "code",
   "execution_count": 49,
   "metadata": {},
   "outputs": [
    {
     "data": {
      "image/png": "[encoded data removed]",
      "text/plain": [
       "Figure(PyObject <Figure size 1000x800 with 1 Axes>)"
      ]
     },
     "metadata": {},
     "output_type": "display_data"
    },
    {
     "data": {
      "text/plain": [
       "PyObject <matplotlib.axes._subplots.AxesSubplot object at 0x1aff65c1d0>"
      ]
     },
     "execution_count": 49,
     "metadata": {},
     "output_type": "execute_result"
    }
   ],
   "source": [
    "sns.distplot([log10(c) for c in cnts if c > 0])"
   ]
  },
  {
   "cell_type": "code",
   "execution_count": 53,
   "metadata": {},
   "outputs": [],
   "source": [
    "cnts_weighted = zeros(4^11)\n",
    "\n",
    "for i in 1:nsigs\n",
    "    si = sig_species.refs[i]\n",
    "    w = sqrt(species_counts[si])\n",
    "    countsig!(cnts_weighted, i, w)\n",
    "end"
   ]
  },
  {
   "cell_type": "code",
   "execution_count": null,
   "metadata": {},
   "outputs": [],
   "source": []
  }
 ],
 "metadata": {
  "kernelspec": {
   "display_name": "Julia 1.4.0",
   "language": "julia",
   "name": "julia-1.4"
  },
  "language_info": {
   "file_extension": ".jl",
   "mimetype": "application/julia",
   "name": "julia",
   "version": "1.4.0"
  }
 },
 "nbformat": 4,
 "nbformat_minor": 4
}
