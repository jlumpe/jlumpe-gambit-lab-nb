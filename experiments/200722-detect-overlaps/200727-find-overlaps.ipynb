{
 "cells": [
  {
   "cell_type": "markdown",
   "metadata": {},
   "source": [
    "# 200727 Find overlaps"
   ]
  },
  {
   "cell_type": "code",
   "execution_count": 1,
   "metadata": {},
   "outputs": [
    {
     "name": "stderr",
     "output_type": "stream",
     "text": [
      "┌ Info: Precompiling JLD [4138dd39-2aa7-5051-a626-17a0bb65d9c8]\n",
      "└ @ Base loading.jl:1260\n"
     ]
    }
   ],
   "source": [
    "using GZip\n",
    "using ProgressMeter\n",
    "using DataFrames\n",
    "using CSV\n",
    "using StatsBase\n",
    "using CategoricalArrays\n",
    "using JLD\n",
    "using Serialization\n",
    "using JSON"
   ]
  },
  {
   "cell_type": "code",
   "execution_count": 2,
   "metadata": {},
   "outputs": [],
   "source": [
    "using Midas\n",
    "using Midas.Distances\n",
    "using Midas.SignatureFiles\n",
    "using TriMatrices"
   ]
  },
  {
   "cell_type": "code",
   "execution_count": 3,
   "metadata": {},
   "outputs": [
    {
     "data": {
      "text/plain": [
       "jaccard_dist_sorted (generic function with 1 method)"
      ]
     },
     "execution_count": 3,
     "metadata": {},
     "output_type": "execute_result"
    }
   ],
   "source": [
    "metric = jaccard_dist_sorted"
   ]
  },
  {
   "cell_type": "markdown",
   "metadata": {},
   "source": [
    "## Func defs"
   ]
  },
  {
   "cell_type": "code",
   "execution_count": 4,
   "metadata": {},
   "outputs": [
    {
     "data": {
      "text/plain": [
       "selectclass (generic function with 1 method)"
      ]
     },
     "execution_count": 4,
     "metadata": {},
     "output_type": "execute_result"
    }
   ],
   "source": [
    "findclass(a::CategoricalArray, cls::CategoricalValue) = findall(==(cls), a)\n",
    "findclass(a::CategoricalArray, i::Integer) = findclass(a, a.pool[i])\n",
    "selectclass(a::AbstractVector, c::CategoricalArray, cls) = a[findclass(c, cls)]"
   ]
  },
  {
   "cell_type": "markdown",
   "metadata": {},
   "source": [
    "## File paths"
   ]
  },
  {
   "cell_type": "code",
   "execution_count": 5,
   "metadata": {},
   "outputs": [
    {
     "data": {
      "text/plain": [
       "\"../../data/processed/200722-detect-overlaps/\""
      ]
     },
     "execution_count": 5,
     "metadata": {},
     "output_type": "execute_result"
    }
   ],
   "source": [
    "outdir = \"../../data/processed/200722-detect-overlaps/\""
   ]
  },
  {
   "cell_type": "code",
   "execution_count": 6,
   "metadata": {},
   "outputs": [],
   "source": [
    "infiles = Dict(\n",
    "    :taxonomy => \"/Users/student/notebooks/midas/midas-notebooks-2019/build-v1-database/out/3-curated-taxonomy-assignments.csv\",\n",
    "    :signatures => \"/Users/student/projects/midas/data/2019_20/refseq_curated_1.1beta_200604.midas-signatures.gz\",\n",
    "    :species_min_dists => joinpath(outdir, \"200726-species-min-dists.jld\"),\n",
    "    :genus_min_dists => joinpath(outdir, \"200726-genus-min-dists.jld\"),\n",
    ");"
   ]
  },
  {
   "cell_type": "code",
   "execution_count": 7,
   "metadata": {},
   "outputs": [],
   "source": [
    "tmpdir = \"tmp/\"\n",
    "!isdir(tmpdir) && mkdir(tmpdir);"
   ]
  },
  {
   "cell_type": "markdown",
   "metadata": {},
   "source": [
    "## Load taxonomy"
   ]
  },
  {
   "cell_type": "code",
   "execution_count": 8,
   "metadata": {},
   "outputs": [],
   "source": [
    "taxdf = DataFrame(CSV.File(infiles[:taxonomy]));"
   ]
  },
  {
   "cell_type": "code",
   "execution_count": 9,
   "metadata": {},
   "outputs": [
    {
     "data": {
      "text/plain": [
       "(419, 1438)"
      ]
     },
     "execution_count": 9,
     "metadata": {},
     "output_type": "execute_result"
    }
   ],
   "source": [
    "sig_genera = categorical(taxdf[!, :genus])\n",
    "genera = levels(sig_genera)\n",
    "ngenera = length(genera)\n",
    "\n",
    "sig_species = categorical([(row[:genus], row[:species]) for row in eachrow(taxdf)])\n",
    "species = levels(sig_species)\n",
    "nspecies = length(species)\n",
    "\n",
    "ngenera, nspecies"
   ]
  },
  {
   "cell_type": "code",
   "execution_count": 10,
   "metadata": {},
   "outputs": [],
   "source": [
    "genus_counts = counts(sig_genera.refs)\n",
    "species_counts = counts(sig_species.refs)\n",
    ";"
   ]
  },
  {
   "cell_type": "code",
   "execution_count": 11,
   "metadata": {},
   "outputs": [],
   "source": [
    "genome_accs = [last(split(k, \"/\")) for k in taxdf[!, :key]];"
   ]
  },
  {
   "cell_type": "code",
   "execution_count": 12,
   "metadata": {},
   "outputs": [],
   "source": [
    "species_to_genus = [findfirst(==(genus), genera) for (genus, spname) in species];"
   ]
  },
  {
   "cell_type": "markdown",
   "metadata": {},
   "source": [
    "## Load signatures"
   ]
  },
  {
   "cell_type": "code",
   "execution_count": 13,
   "metadata": {},
   "outputs": [
    {
     "data": {
      "text/plain": [
       "SignatureFile{UInt32,GZipStream} with 50752 elements"
      ]
     },
     "execution_count": 13,
     "metadata": {},
     "output_type": "execute_result"
    }
   ],
   "source": [
    "sigfile = SignatureFile(GZip.open(infiles[:signatures]))"
   ]
  },
  {
   "cell_type": "code",
   "execution_count": 14,
   "metadata": {},
   "outputs": [
    {
     "name": "stdout",
     "output_type": "stream",
     "text": [
      "{\n",
      "  \"date_created\": \"2020-06-04\",\n",
      "  \"genome_set\": {\n",
      "    \"key\": \"midas/assembly/curated\",\n",
      "    \"name\": \"refseq_curated_2020\",\n",
      "    \"meta\": {\n",
      "      \"date_created\": \"2020-05-26\",\n",
      "      \"parent\": {\n",
      "        \"key\": \"midas/assembly/curated\",\n",
      "        \"key_version\": \"0.9\"\n",
      "      }\n",
      "    },\n",
      "    \"description\": \"Created 2020-05-26 by filtering version 0.9 by inclusion in refseq/assembly/all 1.1\",\n",
      "    \"key_version\": \"1.1\"\n",
      "  },\n",
      "  \"kmer_spec\": {\n",
      "    \"k\": 11,\n",
      "    \"prefix\": \"ATGAC\"\n",
      "  },\n",
      "  \"description\": \"Signatures for version 1.1 of curated genome set\"\n",
      "}\n"
     ]
    }
   ],
   "source": [
    "metadata = SignatureFiles.read_metadata(sigfile)\n",
    "JSON.print(metadata, 2)"
   ]
  },
  {
   "cell_type": "code",
   "execution_count": 15,
   "metadata": {},
   "outputs": [],
   "source": [
    "# Should both be sorted:\n",
    "@assert sigfile.ids == taxdf[:, :key]"
   ]
  },
  {
   "cell_type": "code",
   "execution_count": 16,
   "metadata": {},
   "outputs": [
    {
     "name": "stdout",
     "output_type": "stream",
     "text": [
      " 98.139548 seconds (53.71 k allocations: 1.355 GiB, 0.03% gc time)\n"
     ]
    }
   ],
   "source": [
    "@time sigs = SignatureArray(sigfile);"
   ]
  },
  {
   "cell_type": "code",
   "execution_count": 17,
   "metadata": {},
   "outputs": [
    {
     "data": {
      "text/plain": [
       "50752"
      ]
     },
     "execution_count": 17,
     "metadata": {},
     "output_type": "execute_result"
    }
   ],
   "source": [
    "nsigs = length(sigs)"
   ]
  },
  {
   "cell_type": "markdown",
   "metadata": {},
   "source": [
    "## Load distance lower bounds and taxon diameters"
   ]
  },
  {
   "cell_type": "code",
   "execution_count": 19,
   "metadata": {},
   "outputs": [],
   "source": [
    "species_diameters = deserialize(\"tmp/species-diameters.jld\")\n",
    "genus_diameters = deserialize(\"tmp/genus-diameters.jld\");"
   ]
  },
  {
   "cell_type": "code",
   "execution_count": 20,
   "metadata": {},
   "outputs": [],
   "source": [
    "species_pw_mindists = let\n",
    "    data = load(infiles[:species_min_dists], \"data\")\n",
    "    TriMatrix(TriSymmetric(), nspecies, data)\n",
    "end;"
   ]
  },
  {
   "cell_type": "code",
   "execution_count": 21,
   "metadata": {},
   "outputs": [],
   "source": [
    "genus_pw_mindists = let\n",
    "    data = load(infiles[:genus_min_dists], \"data\")\n",
    "    TriMatrix(TriSymmetric(), ngenera, data)\n",
    "end;"
   ]
  },
  {
   "cell_type": "markdown",
   "metadata": {},
   "source": [
    "## Find species overlaps"
   ]
  },
  {
   "cell_type": "code",
   "execution_count": 22,
   "metadata": {},
   "outputs": [
    {
     "data": {
      "text/plain": [
       "(13344, 2066406)"
      ]
     },
     "execution_count": 22,
     "metadata": {},
     "output_type": "execute_result"
    }
   ],
   "source": [
    "species_possible_overlaps = [\n",
    "    (i, j) for i in 1:nspecies for j in 1:(i-1)\n",
    "    if species_pw_mindists[i, j] <= max(species_diameters[i][1], species_diameters[j][1])\n",
    "];\n",
    "length(species_possible_overlaps), nspecies*(nspecies-1)"
   ]
  },
  {
   "cell_type": "code",
   "execution_count": 23,
   "metadata": {},
   "outputs": [
    {
     "data": {
      "text/plain": [
       "Dict{Tuple{Int64,Int64},Bool} with 0 entries"
      ]
     },
     "execution_count": 23,
     "metadata": {},
     "output_type": "execute_result"
    }
   ],
   "source": [
    "species_tmpfile = joinpath(tmpdir, \"species-has-overlaps.jls\")\n",
    "\n",
    "# Load partial result if they exist\n",
    "species_has_overlaps = if isfile(species_tmpfile)\n",
    "    deserialize(species_tmpfile)\n",
    "else\n",
    "    Dict{Tuple{Int, Int}, Bool}()\n",
    "end"
   ]
  },
  {
   "cell_type": "markdown",
   "metadata": {},
   "source": [
    "The following can be aborted mid-loop and partial progress can be saved in the following cell, to be resumed later."
   ]
  },
  {
   "cell_type": "code",
   "execution_count": 29,
   "metadata": {},
   "outputs": [
    {
     "name": "stderr",
     "output_type": "stream",
     "text": [
      "\u001b[32mProgress:   4%|█▌                                       |  ETA: 2 days, 2:32:00\u001b[39mm"
     ]
    },
    {
     "ename": "InterruptException",
     "evalue": "InterruptException:",
     "output_type": "error",
     "traceback": [
      "InterruptException:",
      "",
      "Stacktrace:",
      " [1] top-level scope at In[29]:6",
      " [2] top-level scope at /Users/student/.julia/packages/ProgressMeter/N86Uo/src/ProgressMeter.jl:732",
      " [3] top-level scope at In[29]:1"
     ]
    }
   ],
   "source": [
    "@showprogress for (si, sj) in filter(k -> !haskey(species_has_overlaps, k), species_possible_overlaps)\n",
    "    thresh = min(species_diameters[si][1], species_diameters[sj][1])\n",
    "    has_overlap = false\n",
    "    \n",
    "    for i in findclass(sig_species, si), j in findclass(sig_species, sj)\n",
    "        metric(sigs[i], sigs[j]) <= thresh && (has_overlap = true; break)\n",
    "    end\n",
    "    \n",
    "    species_has_overlaps[(si, sj)] = has_overlap\n",
    "end"
   ]
  },
  {
   "cell_type": "code",
   "execution_count": 30,
   "metadata": {},
   "outputs": [],
   "source": [
    "# Save (partial) progress\n",
    "serialize(species_tmpfile, species_has_overlaps)"
   ]
  },
  {
   "cell_type": "code",
   "execution_count": 28,
   "metadata": {},
   "outputs": [
    {
     "data": {
      "text/plain": [
       "18-element Array{Tuple{Tuple{String,String},Tuple{String,String}},1}:\n",
       " ((\"Bacillus\", \"velezensis\"), (\"Bacillus\", \"amyloliquefaciens\"))\n",
       " ((\"Lactobacillus\", \"paracasei\"), (\"Lactobacillus\", \"casei\"))\n",
       " ((\"Bacillus\", \"mycoides\"), (\"Bacillus\", \"cereus\"))\n",
       " ((\"Brucella\", \"suis\"), (\"Brucella\", \"ceti\"))\n",
       " ((\"Enterobacter\", \"hormaechei\"), (\"Enterobacter\", \"cloacae\"))\n",
       " ((\"Pseudomonas\", \"savastanoi\"), (\"Pseudomonas\", \"amygdali\"))\n",
       " ((\"Neisseria\", \"meningitidis\"), (\"Neisseria\", \"lactamica\"))\n",
       " ((\"Clostridium\", \"sporogenes\"), (\"Clostridium\", \"botulinum\"))\n",
       " ((\"Bacillus\", \"thuringiensis\"), (\"Bacillus\", \"cereus\"))\n",
       " ((\"Pseudomonas\", \"syringae\"), (\"Pseudomonas\", \"savastanoi\"))\n",
       " ((\"Corynebacterium\", \"jeikeium\"), (\"Corynebacterium\", \"aurimucosum\"))\n",
       " ((\"Mycobacterium\", \"tuberculosis\"), (\"Mycobacterium\", \"bovis\"))\n",
       " ((\"Brucella\", \"pinnipedialis\"), (\"Brucella\", \"ceti\"))\n",
       " ((\"Pseudomonas\", \"syringae\"), (\"Pseudomonas\", \"amygdali\"))\n",
       " ((\"Prochlorococcus\", \"marinus\"), (\"Gardnerella\", \"vaginalis\"))\n",
       " ((\"Burkholderia\", \"multivorans\"), (\"Burkholderia\", \"cenocepacia\"))\n",
       " ((\"Brucella\", \"suis\"), (\"Brucella\", \"pinnipedialis\"))\n",
       " ((\"Pseudomonas\", \"denitrificans\"), (\"Pseudomonas\", \"aeruginosa\"))"
      ]
     },
     "execution_count": 28,
     "metadata": {},
     "output_type": "execute_result"
    }
   ],
   "source": [
    "[\n",
    "    (species[si], species[sj])\n",
    "    for ((si, sj), o) in pairs(species_has_overlaps)\n",
    "    if o\n",
    "]"
   ]
  },
  {
   "cell_type": "markdown",
   "metadata": {},
   "source": [
    "## Find genus overlaps"
   ]
  },
  {
   "cell_type": "code",
   "execution_count": null,
   "metadata": {},
   "outputs": [],
   "source": [
    "genus_possible_overlaps = [\n",
    "    (i, j) for i in 1:ngenera for j in 1:(i-1)\n",
    "    if genus_pw_mindists[i, j] <= max(genus_diameters[i][1], genus_diameters[j][1])\n",
    "];\n",
    "length(genus_possible_overlaps), ngenera*(ngenera-1)"
   ]
  },
  {
   "cell_type": "code",
   "execution_count": null,
   "metadata": {},
   "outputs": [],
   "source": [
    "genus_tmpfile = joinpath(tmpdir, \"genus-overlaps.jls\")\n",
    "\n",
    "# Load partial result if they exist\n",
    "genus_overlaps = if isfile(genus_tmpfile)\n",
    "    deserialize(genus_tmpfile)\n",
    "else\n",
    "    Dict{Tuple{Int, Int}, Vector{Tuple{Int, Int}}}()\n",
    "end"
   ]
  },
  {
   "cell_type": "markdown",
   "metadata": {},
   "source": [
    "The following can be aborted mid-loop and partial progress can be saved in the following cell, to be resumed later."
   ]
  },
  {
   "cell_type": "code",
   "execution_count": null,
   "metadata": {},
   "outputs": [],
   "source": [
    "@showprogress for (gi, gj) in genus_posgible_overlaps\n",
    "    haskey(genus_overlaps, (gi, gj)) && continue\n",
    "    pair_overlaps = Tuple{Int, Int}[]\n",
    "    thresh = min(genus_diameters[gi][1], genus_diameters[gj][1])\n",
    "    \n",
    "    for i in findclass(gig_genera, gi), j in findclass(gig_genera, gj)\n",
    "        metric(gigs[i], gigs[j]) <= thresh && push!(pair_overlaps, (i, j))\n",
    "    end\n",
    "    \n",
    "    genus_overlaps[(gi, gj)] = pair_overlaps\n",
    "end"
   ]
  },
  {
   "cell_type": "code",
   "execution_count": null,
   "metadata": {},
   "outputs": [],
   "source": [
    "# Save (partial) progress\n",
    "serialize(genus_tmpfile, genus_overlaps)"
   ]
  }
 ],
 "metadata": {
  "kernelspec": {
   "display_name": "Julia 1.4.0",
   "language": "julia",
   "name": "julia-1.4"
  },
  "language_info": {
   "file_extension": ".jl",
   "mimetype": "application/julia",
   "name": "julia",
   "version": "1.4.0"
  }
 },
 "nbformat": 4,
 "nbformat_minor": 4
}
