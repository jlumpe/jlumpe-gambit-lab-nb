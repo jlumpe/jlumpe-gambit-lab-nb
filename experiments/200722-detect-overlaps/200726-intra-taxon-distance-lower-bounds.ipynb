{
 "cells": [
  {
   "cell_type": "markdown",
   "metadata": {},
   "source": [
    "# 200726 Intra-taxon distance lower bounds"
   ]
  },
  {
   "cell_type": "markdown",
   "metadata": {},
   "source": [
    "Let $ \\pmb{A} = \\{ A_i \\}_{i \\in 1..n} $ be all the signatures in species A and $ \\pmb{B} = \\{ B_j \\}_{j \\in 1..m} $ be all signatures in species B.\n",
    "\n",
    "Pre-calculate:\n",
    "$$\n",
    "\\bigcup \\pmb{A} \\\\\n",
    "\\bigcup \\pmb{B} \\\\\n",
    "a = \\min_i \\left| A_i \\right| \\\\\n",
    "b = \\min_j \\left| B_j \\right|\n",
    "$$\n",
    "\n",
    "For all species. Then $ \\forall i \\forall j$:\n",
    "\n",
    "$$\n",
    "A_i \\cap B_j \\subseteq \\left(\\bigcup \\pmb{A}\\right) \\cap \\left(\\bigcup \\pmb{B}\\right) \\\\\n",
    "\\Rightarrow \\left| A_i \\cap B_j \\right| \\leq \\left| \\left(\\bigcup \\pmb{A}\\right) \\cap \\left(\\bigcup \\pmb{B}\\right) \\right| \\\\\n",
    "$$\n",
    "\n",
    "and\n",
    "\n",
    "$$ \\left| A_i \\cup A_j \\right| \\;\\geq\\; \\max(\\left| A_i \\right|, \\left| B_j \\right|) \\;\\geq\\; \\max(a, b) $$\n",
    "\n",
    "so\n",
    "\n",
    "$$\n",
    "\\frac{\\left| A_i \\cap A_j \\right|}{\\left| A_i \\cup A_j \\right|}\n",
    "\\;\\leq\\;\n",
    "\\frac{\\left| \\left(\\bigcup \\pmb{A}\\right) \\cap \\left(\\bigcup \\pmb{B}\\right) \\right|}{\\max(a, b)}\n",
    "$$\n",
    "\n",
    "gives us an upper bound on the similarity between any two genomes in species A and B without having to look at all pairwise combinations."
   ]
  },
  {
   "cell_type": "code",
   "execution_count": 25,
   "metadata": {},
   "outputs": [],
   "source": [
    "using GZip\n",
    "using ProgressMeter\n",
    "using DataFrames\n",
    "using CSV\n",
    "using StatsBase\n",
    "using CategoricalArrays\n",
    "using JLD\n",
    "using Serialization\n",
    "using JSON"
   ]
  },
  {
   "cell_type": "code",
   "execution_count": 2,
   "metadata": {},
   "outputs": [],
   "source": [
    "using Midas\n",
    "using Midas.Distances\n",
    "using Midas.SignatureFiles\n",
    "using TriMatrices"
   ]
  },
  {
   "cell_type": "markdown",
   "metadata": {},
   "source": [
    "## Func defs"
   ]
  },
  {
   "cell_type": "code",
   "execution_count": 3,
   "metadata": {},
   "outputs": [
    {
     "data": {
      "text/plain": [
       "selectclass (generic function with 1 method)"
      ]
     },
     "execution_count": 3,
     "metadata": {},
     "output_type": "execute_result"
    }
   ],
   "source": [
    "findclass(a::CategoricalArray, cls::CategoricalValue) = findall(==(cls), a)\n",
    "findclass(a::CategoricalArray, i::Integer) = findclass(a, a.pool[i])\n",
    "selectclass(a::AbstractVector, c::CategoricalArray, cls) = a[findclass(c, cls)]"
   ]
  },
  {
   "cell_type": "markdown",
   "metadata": {},
   "source": [
    "## File paths"
   ]
  },
  {
   "cell_type": "code",
   "execution_count": 4,
   "metadata": {},
   "outputs": [],
   "source": [
    "taxonomy_file = \"/Users/student/notebooks/midas/midas-notebooks-2019/build-v1-database/out/3-curated-taxonomy-assignments.csv\"\n",
    "signature_file_name = \"/Users/student/projects/midas/data/2019_20/refseq_curated_1.1beta_200604.midas-signatures.gz\"\n",
    ";"
   ]
  },
  {
   "cell_type": "code",
   "execution_count": 5,
   "metadata": {},
   "outputs": [],
   "source": [
    "tmpdir = \"tmp/\"\n",
    "!isdir(tmpdir) && mkdir(tmpdir);"
   ]
  },
  {
   "cell_type": "code",
   "execution_count": 86,
   "metadata": {},
   "outputs": [
    {
     "data": {
      "text/plain": [
       "Dict{Symbol,String} with 2 entries:\n",
       "  :species_min_dists => \"../../data/processed/200722-detect-overlaps/200726-spe…\n",
       "  :genus_min_dists   => \"../../data/processed/200722-detect-overlaps/200726-gen…"
      ]
     },
     "execution_count": 86,
     "metadata": {},
     "output_type": "execute_result"
    }
   ],
   "source": [
    "outdir = \"../../data/processed/200722-detect-overlaps/\"\n",
    "\n",
    "outfiles = Dict(\n",
    "    :species_min_dists => joinpath(outdir, \"200726-species-min-dists.jld\"),\n",
    "    :genus_min_dists => joinpath(outdir, \"200726-genus-min-dists.jld\"),\n",
    ")"
   ]
  },
  {
   "cell_type": "markdown",
   "metadata": {},
   "source": [
    "## Load taxonomy"
   ]
  },
  {
   "cell_type": "code",
   "execution_count": 6,
   "metadata": {},
   "outputs": [],
   "source": [
    "taxdf = DataFrame(CSV.File(taxonomy_file));"
   ]
  },
  {
   "cell_type": "code",
   "execution_count": 7,
   "metadata": {},
   "outputs": [
    {
     "data": {
      "text/plain": [
       "(419, 1438)"
      ]
     },
     "execution_count": 7,
     "metadata": {},
     "output_type": "execute_result"
    }
   ],
   "source": [
    "sig_genera = categorical(taxdf[!, :genus])\n",
    "genera = levels(sig_genera)\n",
    "ngenera = length(genera)\n",
    "\n",
    "sig_species = categorical([(row[:genus], row[:species]) for row in eachrow(taxdf)])\n",
    "species = levels(sig_species)\n",
    "nspecies = length(species)\n",
    "\n",
    "ngenera, nspecies"
   ]
  },
  {
   "cell_type": "code",
   "execution_count": 17,
   "metadata": {},
   "outputs": [],
   "source": [
    "genus_counts = counts(sig_genera.refs)\n",
    "species_counts = counts(sig_species.refs)\n",
    ";"
   ]
  },
  {
   "cell_type": "code",
   "execution_count": 9,
   "metadata": {},
   "outputs": [],
   "source": [
    "genome_accs = [last(split(k, \"/\")) for k in taxdf[!, :key]];"
   ]
  },
  {
   "cell_type": "code",
   "execution_count": 81,
   "metadata": {},
   "outputs": [],
   "source": [
    "species_to_genus = [findfirst(==(genus), genera) for (genus, spname) in species];"
   ]
  },
  {
   "cell_type": "markdown",
   "metadata": {},
   "source": [
    "## Load signatures"
   ]
  },
  {
   "cell_type": "code",
   "execution_count": 10,
   "metadata": {},
   "outputs": [
    {
     "data": {
      "text/plain": [
       "SignatureFile{UInt32,GZipStream} with 50752 elements"
      ]
     },
     "execution_count": 10,
     "metadata": {},
     "output_type": "execute_result"
    }
   ],
   "source": [
    "sigfile = SignatureFile(GZip.open(signature_file_name))"
   ]
  },
  {
   "cell_type": "code",
   "execution_count": 26,
   "metadata": {},
   "outputs": [
    {
     "name": "stdout",
     "output_type": "stream",
     "text": [
      "{\n",
      "  \"date_created\": \"2020-06-04\",\n",
      "  \"genome_set\": {\n",
      "    \"key\": \"midas/assembly/curated\",\n",
      "    \"name\": \"refseq_curated_2020\",\n",
      "    \"meta\": {\n",
      "      \"date_created\": \"2020-05-26\",\n",
      "      \"parent\": {\n",
      "        \"key\": \"midas/assembly/curated\",\n",
      "        \"key_version\": \"0.9\"\n",
      "      }\n",
      "    },\n",
      "    \"description\": \"Created 2020-05-26 by filtering version 0.9 by inclusion in refseq/assembly/all 1.1\",\n",
      "    \"key_version\": \"1.1\"\n",
      "  },\n",
      "  \"kmer_spec\": {\n",
      "    \"k\": 11,\n",
      "    \"prefix\": \"ATGAC\"\n",
      "  },\n",
      "  \"description\": \"Signatures for version 1.1 of curated genome set\"\n",
      "}\n"
     ]
    }
   ],
   "source": [
    "metadata = SignatureFiles.read_metadata(sigfile)\n",
    "JSON.print(metadata, 2)"
   ]
  },
  {
   "cell_type": "code",
   "execution_count": 12,
   "metadata": {},
   "outputs": [],
   "source": [
    "# Should both be sorted:\n",
    "@assert sigfile.ids == taxdf[:, :key]"
   ]
  },
  {
   "cell_type": "code",
   "execution_count": 20,
   "metadata": {},
   "outputs": [
    {
     "name": "stdout",
     "output_type": "stream",
     "text": [
      " 97.200928 seconds (5 allocations: 1.352 GiB, 0.12% gc time)\n"
     ]
    }
   ],
   "source": [
    "@time sigs = SignatureArray(sigfile);"
   ]
  },
  {
   "cell_type": "code",
   "execution_count": 21,
   "metadata": {},
   "outputs": [
    {
     "data": {
      "text/plain": [
       "50752"
      ]
     },
     "execution_count": 21,
     "metadata": {},
     "output_type": "execute_result"
    }
   ],
   "source": [
    "nsigs = length(sigs)"
   ]
  },
  {
   "cell_type": "code",
   "execution_count": 22,
   "metadata": {},
   "outputs": [
    {
     "data": {
      "text/plain": [
       "4194304"
      ]
     },
     "execution_count": 22,
     "metadata": {},
     "output_type": "execute_result"
    }
   ],
   "source": [
    "nkmers = 4^11"
   ]
  },
  {
   "cell_type": "markdown",
   "metadata": {},
   "source": [
    "## Inter-species distance lower bounds"
   ]
  },
  {
   "cell_type": "markdown",
   "metadata": {},
   "source": [
    "Minimum number of kmers for genome in each species:"
   ]
  },
  {
   "cell_type": "code",
   "execution_count": 44,
   "metadata": {},
   "outputs": [],
   "source": [
    "species_minkmers = [minimum(length(sigs[i]) for i in findclass(sig_species, si)) for si in 1:nspecies];"
   ]
  },
  {
   "cell_type": "markdown",
   "metadata": {},
   "source": [
    "Find union of all kmers in all signatures of each species:"
   ]
  },
  {
   "cell_type": "code",
   "execution_count": 23,
   "metadata": {},
   "outputs": [
    {
     "name": "stderr",
     "output_type": "stream",
     "text": [
      "\u001b[32mProgress: 100%|█████████████████████████████████████████| Time: 0:01:46\u001b[39m\n"
     ]
    }
   ],
   "source": [
    "species_kmer_unions = let\n",
    "    tmpfile = joinpath(tmpdir, \"species-kmer-unions.jls\")\n",
    "    \n",
    "    if isfile(tmpfile)\n",
    "        deserialize(tmpfile)\n",
    "        \n",
    "    else\n",
    "        kmers_bufs = [falses(nkmers) for _ in 1:Threads.nthreads()];\n",
    "\n",
    "        progress_pmap(1:nspecies) do si\n",
    "            buf = kmers_bufs[Threads.threadid()]\n",
    "            buf[:] .= 0\n",
    "\n",
    "            for i in findclass(sig_species, si)\n",
    "                for k in sigs[i]\n",
    "                    @inbounds buf[k + 1] = true\n",
    "                end\n",
    "            end\n",
    "\n",
    "            findall(buf)\n",
    "        end\n",
    "    end\n",
    "end;"
   ]
  },
  {
   "cell_type": "markdown",
   "metadata": {},
   "source": [
    "Calculate distance lower bounds:"
   ]
  },
  {
   "cell_type": "code",
   "execution_count": null,
   "metadata": {},
   "outputs": [],
   "source": [
    "species_pw_mindists = zeros(Float32, TriSymmetric(), nspecies);"
   ]
  },
  {
   "cell_type": "code",
   "execution_count": 46,
   "metadata": {},
   "outputs": [
    {
     "name": "stderr",
     "output_type": "stream",
     "text": [
      "\u001b[32mProgress: 100%|█████████████████████████████████████████| Time: 0:38:31\u001b[39m\n"
     ]
    }
   ],
   "source": [
    "@showprogress for i in 1:nspecies\n",
    "    kmers_i = species_kmer_unions[i]\n",
    "    minsize_i = species_minkmers[i]\n",
    "    for j in 1:(i-1)\n",
    "        kmers_j = species_kmer_unions[j]\n",
    "        minsize_j = species_minkmers[j]\n",
    "        isize = length(intersect(kmers_i, kmers_j))\n",
    "        species_pw_mindists[i, j] = 1 - isize / max(minsize_i, minsize_j)\n",
    "    end\n",
    "end"
   ]
  },
  {
   "cell_type": "code",
   "execution_count": 87,
   "metadata": {},
   "outputs": [],
   "source": [
    "save(outfiles[:species_min_dists], Dict(\n",
    "    \"data\" => species_pw_mindists.data,\n",
    "    \"species\" => species,\n",
    "))"
   ]
  },
  {
   "cell_type": "markdown",
   "metadata": {},
   "source": [
    "## Intra-genus distance lower bounds"
   ]
  },
  {
   "cell_type": "code",
   "execution_count": 69,
   "metadata": {},
   "outputs": [],
   "source": [
    "genus_pw_mindists = zeros(Float32, TriSymmetric(), ngenera);"
   ]
  },
  {
   "cell_type": "code",
   "execution_count": 83,
   "metadata": {},
   "outputs": [
    {
     "name": "stderr",
     "output_type": "stream",
     "text": [
      "\u001b[32mProgress: 100%|█████████████████████████████████████████| Time: 0:00:00\u001b[39m\n"
     ]
    }
   ],
   "source": [
    "for i in 1:ngenera\n",
    "    idxs1 = searchsorted(species_to_genus, i)\n",
    "    for j in 1:(i-1)\n",
    "        idxs2 = searchsorted(species_to_genus, j)\n",
    "        genus_pw_mindists[i, j] = minimum(species_pw_mindists[idxs1, idxs2])\n",
    "    end\n",
    "end"
   ]
  },
  {
   "cell_type": "code",
   "execution_count": 88,
   "metadata": {},
   "outputs": [],
   "source": [
    "save(outfiles[:genus_min_dists], Dict(\n",
    "    \"data\" => genus_pw_mindists.data,\n",
    "    \"genera\" => genera,\n",
    "))"
   ]
  }
 ],
 "metadata": {
  "kernelspec": {
   "display_name": "Julia 1.4.0",
   "language": "julia",
   "name": "julia-1.4"
  },
  "language_info": {
   "file_extension": ".jl",
   "mimetype": "application/julia",
   "name": "julia",
   "version": "1.4.0"
  }
 },
 "nbformat": 4,
 "nbformat_minor": 4
}
