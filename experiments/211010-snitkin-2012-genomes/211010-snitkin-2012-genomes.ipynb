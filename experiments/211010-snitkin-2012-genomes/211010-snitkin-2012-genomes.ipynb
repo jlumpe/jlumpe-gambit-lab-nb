{
 "cells": [
  {
   "cell_type": "markdown",
   "id": "ae13e28c-8529-4e3d-94bc-62ba48136710",
   "metadata": {},
   "source": [
    "# 211010 Snitkin-2012 genomes"
   ]
  },
  {
   "cell_type": "code",
   "execution_count": 1,
   "id": "5ecf73b8-395f-48a5-9efb-cc02844adf42",
   "metadata": {},
   "outputs": [],
   "source": [
    "from pathlib import Path\n",
    "import json"
   ]
  },
  {
   "cell_type": "code",
   "execution_count": 2,
   "id": "1a103a46-2543-4aba-8cd4-4ebda668e391",
   "metadata": {},
   "outputs": [],
   "source": [
    "import pandas as pd\n",
    "from Bio import Entrez\n",
    "from tqdm.notebook import tqdm"
   ]
  },
  {
   "cell_type": "code",
   "execution_count": 3,
   "id": "756a3957-46c4-4f6a-9765-70190fc48d17",
   "metadata": {},
   "outputs": [],
   "source": [
    "import entrez_tools as ez"
   ]
  },
  {
   "cell_type": "code",
   "execution_count": 4,
   "id": "ec252586-0fb0-4dfc-aac8-5b2298ab6590",
   "metadata": {},
   "outputs": [],
   "source": [
    "Entrez.email = 'mjlumpe@gmail.com'\n",
    "Entrez.api_key = 'adea2a53e6e44c3cc42c932f9ba4bdffa809'"
   ]
  },
  {
   "cell_type": "markdown",
   "id": "4ad0ce24-b824-4b7c-a5c1-9de58bbceecd",
   "metadata": {},
   "source": [
    "## Setup"
   ]
  },
  {
   "cell_type": "code",
   "execution_count": 5,
   "id": "0d88a6db-e4f8-4cb3-b56b-6b41f5db668d",
   "metadata": {},
   "outputs": [],
   "source": [
    "DATESTR = '211010'\n",
    "NBNAME = DATESTR + '-snitkin-2012-genomes'"
   ]
  },
  {
   "cell_type": "code",
   "execution_count": 6,
   "id": "77e57657-6302-4cda-a542-82a03bb709e9",
   "metadata": {},
   "outputs": [],
   "source": [
    "infiles = dict(\n",
    "    nuccore_accs=Path('/home/jared/projects/gambit/data/external/snitkin-2012/nuccore-accs.txt'),\n",
    ")"
   ]
  },
  {
   "cell_type": "code",
   "execution_count": 7,
   "id": "53ebd409-03fd-4fde-b723-3794d087e5bb",
   "metadata": {},
   "outputs": [],
   "source": [
    "esummary_dirs = dict(\n",
    "    nuccore=Path('/home/jared/projects/gambit/data/ncbi/nuccore/esummary'),\n",
    "    assembly=Path('/home/jared/projects/gambit/data/ncbi/assembly/esummary'),\n",
    ")\n",
    "\n",
    "def esummary_file(db, acc_or_uid): return esummary_dirs[db] / (acc_or_uid + '.json')"
   ]
  },
  {
   "cell_type": "code",
   "execution_count": 8,
   "id": "00be2eab-7237-43f2-acb5-a51733af8eec",
   "metadata": {},
   "outputs": [],
   "source": [
    "data_processed = Path('data-processed') / NBNAME\n",
    "data_processed.mkdir(exist_ok=True)"
   ]
  },
  {
   "cell_type": "code",
   "execution_count": 9,
   "id": "d1f2a6aa-8575-45ff-9aa1-611b0e1af4d8",
   "metadata": {},
   "outputs": [],
   "source": [
    "outfiles = dict(\n",
    "    genomes_table=data_processed / f'{DATESTR}-snitkin-2012-genomes.csv',\n",
    "    nuccore_table=data_processed / f'{DATESTR}-snitkin-2012-nuccore-esummary-data.csv',\n",
    ")"
   ]
  },
  {
   "cell_type": "markdown",
   "id": "7e44b747-100e-4fd0-bb3e-82772a1cbc12",
   "metadata": {},
   "source": [
    "## Read data"
   ]
  },
  {
   "cell_type": "code",
   "execution_count": 10,
   "id": "f92cfa5f-13e5-4070-9ac1-afc40b42b867",
   "metadata": {},
   "outputs": [],
   "source": [
    "with open(infiles['nuccore_accs']) as f:\n",
    "    genome_accs_noversion = [line.strip() for line in f.readlines()]"
   ]
  },
  {
   "cell_type": "markdown",
   "id": "8321b9cc-a753-4e21-80d6-b2c82a1a5c1c",
   "metadata": {},
   "source": [
    "## Entrez queries"
   ]
  },
  {
   "cell_type": "markdown",
   "id": "6c040b87-db37-453b-a46b-98a9d3fbb1ef",
   "metadata": {},
   "source": [
    "### Nuccore esummaries"
   ]
  },
  {
   "cell_type": "code",
   "execution_count": 11,
   "id": "d15b912f-4935-4a14-98e9-662b18994222",
   "metadata": {},
   "outputs": [
    {
     "data": {
      "application/vnd.jupyter.widget-view+json": {
       "model_id": "a4b538700f1f4cdfbf548e02c3b5e3cc",
       "version_major": 2,
       "version_minor": 0
      },
      "text/plain": [
       "  0%|          | 0/20 [00:00<?, ?it/s]"
      ]
     },
     "metadata": {},
     "output_type": "display_data"
    }
   ],
   "source": [
    "for acc in tqdm(genome_accs_noversion):\n",
    "    acc_file = esummary_file('nuccore', acc)\n",
    "    if acc_file.is_file():\n",
    "        continue\n",
    "\n",
    "    data = json.load(Entrez.esummary(db='nuccore', id=acc, retmode='json'))\n",
    "    summary = ez.get_esummary_result_json(data)\n",
    "\n",
    "    uid = summary['uid']\n",
    "    uid_file = esummary_file('nuccore', uid)\n",
    "    \n",
    "    with uid_file.open('w') as f:\n",
    "        json.dump(summary, f)\n",
    "    \n",
    "    acc_file.symlink_to(uid_file.name)\n",
    "    \n",
    "    accv = summary['accessionversion']\n",
    "    accv_file = esummary_file('nuccore', accv)\n",
    "    accv_file.symlink_to(uid_file.name)"
   ]
  },
  {
   "cell_type": "code",
   "execution_count": 12,
   "id": "beb00d9c-d1d4-4da4-9bdd-5430731b50af",
   "metadata": {},
   "outputs": [],
   "source": [
    "nuccore_esummaries = []\n",
    "\n",
    "for acc in genome_accs_noversion:\n",
    "    with open(esummary_file('nuccore', acc)) as f:\n",
    "        nuccore_esummaries.append(json.load(f))"
   ]
  },
  {
   "cell_type": "markdown",
   "id": "3f502b0b-c248-4ac9-89f5-6fffa0e9fcd4",
   "metadata": {},
   "source": [
    "### Nuccore summaries to table"
   ]
  },
  {
   "cell_type": "code",
   "execution_count": 13,
   "id": "1f51c914-9838-415f-b522-6a4dd6333279",
   "metadata": {},
   "outputs": [],
   "source": [
    "nuccore_summary_df = pd.DataFrame.from_records(\n",
    "    nuccore_esummaries,\n",
    "    columns=['uid', 'accessionversion', 'title', 'organism', 'createdate', 'updatedate', 'projectid', 'biosample', 'status', 'comment']\n",
    ")"
   ]
  },
  {
   "cell_type": "code",
   "execution_count": 14,
   "id": "06505e5b-2721-4125-9f48-b40064333870",
   "metadata": {},
   "outputs": [],
   "source": [
    "genomes_df = nuccore_summary_df[['organism', 'uid', 'accessionversion']].copy()\n",
    "genomes_df.columns = ['description', 'nuccore_uid', 'nuccore_accession']"
   ]
  },
  {
   "cell_type": "code",
   "execution_count": 15,
   "id": "5a3a225f-8846-4bde-bc31-bf745865f885",
   "metadata": {},
   "outputs": [],
   "source": [
    "genomes_df['nuccore_dead'] = nuccore_summary_df['status'] == 'dead'"
   ]
  },
  {
   "cell_type": "markdown",
   "id": "56fc7e99-7f0a-4f37-8d2a-b85794b6297f",
   "metadata": {},
   "source": [
    "### Link nuccore to assembly"
   ]
  },
  {
   "cell_type": "code",
   "execution_count": 16,
   "id": "b294864f-f039-425b-9f31-b52ec855144d",
   "metadata": {},
   "outputs": [],
   "source": [
    "nuccore2assembly_result = Entrez.read(Entrez.elink(db='assembly', dbfrom='nuccore', id=genomes_df['nuccore_uid']))\n",
    "nuccore2assembly = ez.get_elink_map_single(nuccore2assembly_result)"
   ]
  },
  {
   "cell_type": "code",
   "execution_count": 17,
   "id": "74231f27-f4eb-4dcb-aed8-90f55163f2ec",
   "metadata": {},
   "outputs": [
    {
     "data": {
      "text/plain": [
       "['397353112', '397390985']"
      ]
     },
     "execution_count": 17,
     "metadata": {},
     "output_type": "execute_result"
    }
   ],
   "source": [
    "[k for k, v in nuccore2assembly.items() if v is None]"
   ]
  },
  {
   "cell_type": "markdown",
   "id": "2ee53f4c-04c5-4a3d-9185-2120213640a9",
   "metadata": {},
   "source": [
    "### Link samples to assembly\n",
    "\n",
    "Couldn't link the two \"dead\" nuccore entries to assembly, try using biosamples."
   ]
  },
  {
   "cell_type": "code",
   "execution_count": 18,
   "id": "76328d1e-7521-4356-8a06-af3009cc0dbf",
   "metadata": {},
   "outputs": [
    {
     "data": {
      "application/vnd.jupyter.widget-view+json": {
       "model_id": "480d32149bce43ad9e12346e451d9ed6",
       "version_major": 2,
       "version_minor": 0
      },
      "text/plain": [
       "  0%|          | 0/20 [00:00<?, ?it/s]"
      ]
     },
     "metadata": {},
     "output_type": "display_data"
    }
   ],
   "source": [
    "biosample_uids = dict()\n",
    "\n",
    "for sample in tqdm(nuccore_summary_df['biosample']):\n",
    "    id = ez.esearch_unique('biosample', 'Accession', sample)\n",
    "    biosample_uids[sample] = id"
   ]
  },
  {
   "cell_type": "code",
   "execution_count": 19,
   "id": "4df1adfd-1b71-43f0-b3dd-8b143a42c939",
   "metadata": {},
   "outputs": [],
   "source": [
    "biosample2assembly_result = Entrez.read(Entrez.elink(db='assembly', dbfrom='biosample', id=list(biosample_uids.values())))\n",
    "biosample2assembly = ez.get_elink_map_single(biosample2assembly_result)"
   ]
  },
  {
   "cell_type": "code",
   "execution_count": 20,
   "id": "94e522e2-609c-47ac-b676-1f439ab6087e",
   "metadata": {},
   "outputs": [
    {
     "data": {
      "text/plain": [
       "[]"
      ]
     },
     "execution_count": 20,
     "metadata": {},
     "output_type": "execute_result"
    }
   ],
   "source": [
    "[k for k, v in biosample2assembly.items() if v is None]"
   ]
  },
  {
   "cell_type": "markdown",
   "id": "f986b940-a645-4920-bc50-0f57d06b6f6a",
   "metadata": {},
   "source": [
    "### Combine assembly links"
   ]
  },
  {
   "cell_type": "code",
   "execution_count": 21,
   "id": "e8f2325d-dbcc-4472-ad94-4989ba72b24e",
   "metadata": {},
   "outputs": [],
   "source": [
    "genomes_df.loc[:, 'assembly_uid'] = None"
   ]
  },
  {
   "cell_type": "code",
   "execution_count": 22,
   "id": "39140107-43d5-4bce-bfca-2778a943f588",
   "metadata": {},
   "outputs": [],
   "source": [
    "for i, row in nuccore_summary_df.iterrows():\n",
    "    from_nuccore_id = nuccore2assembly[row.uid]\n",
    "    from_biosample_id = biosample2assembly[biosample_uids[row.biosample]]\n",
    "    \n",
    "    assert from_nuccore_id is None or from_nuccore_id == from_biosample_id\n",
    "    \n",
    "    genomes_df.loc[i, 'assembly_uid'] = from_biosample_id"
   ]
  },
  {
   "cell_type": "markdown",
   "id": "3f661050-2b72-4e70-aee7-559ef74d39d1",
   "metadata": {},
   "source": [
    "### Get assembly summaries"
   ]
  },
  {
   "cell_type": "code",
   "execution_count": 23,
   "id": "ca05c55e-7919-481c-b0f9-1a68b0a4e2ec",
   "metadata": {},
   "outputs": [
    {
     "data": {
      "application/vnd.jupyter.widget-view+json": {
       "model_id": "731bcf40870a4545be65d011c4a89124",
       "version_major": 2,
       "version_minor": 0
      },
      "text/plain": [
       "  0%|          | 0/20 [00:00<?, ?it/s]"
      ]
     },
     "metadata": {},
     "output_type": "display_data"
    }
   ],
   "source": [
    "for uid in tqdm(genomes_df['assembly_uid']):\n",
    "    uid_file = esummary_file('assembly', uid)\n",
    "    if uid_file.is_file():\n",
    "        continue\n",
    "\n",
    "    data = json.load(Entrez.esummary(db='assembly', id=uid, retmode='json'))\n",
    "    summary = ez.get_esummary_result_json(data)\n",
    "\n",
    "    with uid_file.open('w') as f:\n",
    "        json.dump(summary, f)\n",
    "    \n",
    "    acc = summary['assemblyaccession']\n",
    "    acc_file = esummary_file('assembly', acc)\n",
    "    acc_file.symlink_to(uid_file.name)"
   ]
  },
  {
   "cell_type": "code",
   "execution_count": 24,
   "id": "7cc04757-08cb-484b-b259-54b5534d5426",
   "metadata": {},
   "outputs": [],
   "source": [
    "assembly_esummaries = []\n",
    "\n",
    "for uid in genomes_df['assembly_uid']:\n",
    "    with open(esummary_file('assembly', uid)) as f:\n",
    "        assembly_esummaries.append(json.load(f))"
   ]
  },
  {
   "cell_type": "code",
   "execution_count": 25,
   "id": "7bd4f11d-4398-493e-915a-a595d31cd5cc",
   "metadata": {},
   "outputs": [],
   "source": [
    "genomes_df['assembly_acc'] = [summary['assemblyaccession'] for summary in assembly_esummaries]"
   ]
  },
  {
   "cell_type": "markdown",
   "id": "458669c0-b1d7-4ccc-a6a3-0b779bebd64b",
   "metadata": {},
   "source": [
    "## Write output"
   ]
  },
  {
   "cell_type": "code",
   "execution_count": 26,
   "id": "71e9c3b9-4288-4935-984a-2c26f64c0a92",
   "metadata": {},
   "outputs": [],
   "source": [
    "genomes_df.to_csv(outfiles['genomes_table'], index=False)"
   ]
  },
  {
   "cell_type": "code",
   "execution_count": 27,
   "id": "ec6e399a-fb10-4e78-b579-1a94362c4b25",
   "metadata": {},
   "outputs": [],
   "source": [
    "nuccore_summary_df.to_csv(outfiles['nuccore_table'], index=False)"
   ]
  }
 ],
 "metadata": {
  "kernelspec": {
   "display_name": "GAMBIT",
   "language": "python",
   "name": "gambit"
  },
  "language_info": {
   "codemirror_mode": {
    "name": "ipython",
    "version": 3
   },
   "file_extension": ".py",
   "mimetype": "text/x-python",
   "name": "python",
   "nbconvert_exporter": "python",
   "pygments_lexer": "ipython3",
   "version": "3.9.7"
  }
 },
 "nbformat": 4,
 "nbformat_minor": 5
}
