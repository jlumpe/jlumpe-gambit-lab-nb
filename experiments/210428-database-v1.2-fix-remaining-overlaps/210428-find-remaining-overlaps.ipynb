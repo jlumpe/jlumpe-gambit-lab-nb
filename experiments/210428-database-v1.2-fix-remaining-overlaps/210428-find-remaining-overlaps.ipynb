{
 "cells": [
  {
   "cell_type": "markdown",
   "id": "large-annotation",
   "metadata": {},
   "source": [
    "# 210428 Find remaining overlaps"
   ]
  },
  {
   "cell_type": "code",
   "execution_count": 1,
   "id": "documented-boring",
   "metadata": {},
   "outputs": [],
   "source": [
    "using Mmap\n",
    "using LinearAlgebra"
   ]
  },
  {
   "cell_type": "code",
   "execution_count": 2,
   "id": "local-collect",
   "metadata": {},
   "outputs": [],
   "source": [
    "using JSON\n",
    "using CSV\n",
    "using DataFrames\n",
    "using FilePathsBase\n",
    "using FilePathsBase: /\n",
    "using ProgressMeter"
   ]
  },
  {
   "cell_type": "code",
   "execution_count": 3,
   "id": "congressional-cleaning",
   "metadata": {},
   "outputs": [],
   "source": [
    "using Midas.Pairwise: npairs, iterpairs\n",
    "using TriMatrices"
   ]
  },
  {
   "cell_type": "markdown",
   "id": "refined-fifteen",
   "metadata": {},
   "source": [
    "## Setup"
   ]
  },
  {
   "cell_type": "code",
   "execution_count": 4,
   "id": "matched-eating",
   "metadata": {},
   "outputs": [
    {
     "data": {
      "text/plain": [
       "400"
      ]
     },
     "execution_count": 4,
     "metadata": {},
     "output_type": "execute_result"
    }
   ],
   "source": [
    "ENV[\"COLUMNS\"] = 400"
   ]
  },
  {
   "cell_type": "code",
   "execution_count": 5,
   "id": "after-cause",
   "metadata": {},
   "outputs": [
    {
     "data": {
      "text/plain": [
       "\"210428-find-remaining-overlaps\""
      ]
     },
     "execution_count": 5,
     "metadata": {},
     "output_type": "execute_result"
    }
   ],
   "source": [
    "DATESTR = \"210428\"\n",
    "NBNAME = \"$DATESTR-find-remaining-overlaps\""
   ]
  },
  {
   "cell_type": "code",
   "execution_count": 6,
   "id": "twenty-architecture",
   "metadata": {},
   "outputs": [],
   "source": [
    "infiles = Dict(\n",
    "    :distances => p\"../../data/intermediate/200727-find-overlaps/genome-pw-distances.raw-float32\",\n",
    "    :db => p\"../../data/intermediate/210401-database-v2-fix-species-overlaps/210424-compile-fixes/\",\n",
    ");"
   ]
  },
  {
   "cell_type": "code",
   "execution_count": 7,
   "id": "protective-vault",
   "metadata": {},
   "outputs": [],
   "source": [
    "intermediate_out = p\"data-intermediate\" / NBNAME\n",
    "isdir(intermediate_out) || mkdir(intermediate_out)\n",
    "\n",
    "processed_out = p\"data-processed\" / NBNAME\n",
    "isdir(processed_out) || mkdir(processed_out);"
   ]
  },
  {
   "cell_type": "markdown",
   "id": "varying-measure",
   "metadata": {},
   "source": [
    "## Load data"
   ]
  },
  {
   "cell_type": "markdown",
   "id": "accomplished-flash",
   "metadata": {},
   "source": [
    "### Database"
   ]
  },
  {
   "cell_type": "code",
   "execution_count": 8,
   "id": "velvet-farmer",
   "metadata": {},
   "outputs": [],
   "source": [
    "taxa = DataFrame(CSV.File(infiles[:db] / \"taxa.csv\"));"
   ]
  },
  {
   "cell_type": "code",
   "execution_count": 9,
   "id": "continuous-pursuit",
   "metadata": {},
   "outputs": [
    {
     "data": {
      "text/plain": [
       "50752"
      ]
     },
     "execution_count": 9,
     "metadata": {},
     "output_type": "execute_result"
    }
   ],
   "source": [
    "genome_assignments = Vector{Int}(open(JSON.parse, infiles[:db] / \"genome-taxon-assignments.json\"))\n",
    "ngenomes = length(genome_assignments)"
   ]
  },
  {
   "cell_type": "code",
   "execution_count": 10,
   "id": "fatal-israel",
   "metadata": {},
   "outputs": [
    {
     "data": {
      "text/plain": [
       "lookup_tid (generic function with 2 methods)"
      ]
     },
     "execution_count": 10,
     "metadata": {},
     "output_type": "execute_result"
    }
   ],
   "source": [
    "tid_to_tidx = Dict(id => i for (i, id) in enumerate(taxa[!, :id]))\n",
    "\n",
    "taxon_index(tid::Integer) = tid_to_tidx[tid]\n",
    "\n",
    "lookup_tid(tid, cols=:) = taxa[taxon_index.(tid), cols]"
   ]
  },
  {
   "cell_type": "markdown",
   "id": "approximate-visitor",
   "metadata": {},
   "source": [
    "### Distances"
   ]
  },
  {
   "cell_type": "code",
   "execution_count": 11,
   "id": "hybrid-contrary",
   "metadata": {},
   "outputs": [],
   "source": [
    "pw_data = Mmap.mmap(open(infiles[:distances]), Vector{Float32}, (npairs(ngenomes),));\n",
    "\n",
    "pw_dists = TriMatrix(TriSymmetric{false}(), ngenomes, pw_data);"
   ]
  },
  {
   "cell_type": "markdown",
   "id": "lonely-arlington",
   "metadata": {},
   "source": [
    "## Setup"
   ]
  },
  {
   "cell_type": "markdown",
   "id": "recorded-portland",
   "metadata": {},
   "source": [
    "### Taxonomy forest"
   ]
  },
  {
   "cell_type": "code",
   "execution_count": 12,
   "id": "interim-enemy",
   "metadata": {},
   "outputs": [
    {
     "data": {
      "text/plain": [
       "rootnode (generic function with 1 method)"
      ]
     },
     "execution_count": 12,
     "metadata": {},
     "output_type": "execute_result"
    }
   ],
   "source": [
    "using AbstractTrees\n",
    "\n",
    "\n",
    "struct SimpleForest{N}\n",
    "    root_ids::Vector{Int}\n",
    "    nodes::Dict{Int, N}\n",
    "end\n",
    "\n",
    "SimpleForest{N}() where N = SimpleForest{N}(Int[], Dict{Int, N}())\n",
    "\n",
    "\n",
    "struct SimpleNode\n",
    "    forest::SimpleForest\n",
    "    id::Int\n",
    "    parent_id::Int\n",
    "    child_ids::Vector{Int}\n",
    "end\n",
    "\n",
    "AbstractTrees.children(node::SimpleNode) = [node.forest.nodes[id] for id in node.child_ids]\n",
    "AbstractTrees.childcount(node::SimpleNode) = length(node.child_ids)\n",
    "\n",
    "Base.show(io::IO, node::SimpleNode) = print(io, \"SimpleNode with ID $(node.id)\")\n",
    "\n",
    "AbstractTrees.printnode(io::IO, node::SimpleNode) = print(io, \"#\", node.id)\n",
    "\n",
    "function rootnode(node::SimpleNode)\n",
    "    while node.parent_id != 0\n",
    "        node = node.forest.nodes[node.parent_id]\n",
    "    end\n",
    "    return node\n",
    "end"
   ]
  },
  {
   "cell_type": "code",
   "execution_count": 13,
   "id": "precious-honor",
   "metadata": {},
   "outputs": [],
   "source": [
    "forest = SimpleForest{SimpleNode}()\n",
    "\n",
    "for row in eachrow(taxa)\n",
    "    parent_id = coalesce(row[:parent_id], 0)\n",
    "    node = SimpleNode(forest, row[:id], parent_id, Int[])\n",
    "    forest.nodes[node.id] = node\n",
    "end\n",
    "\n",
    "for node in values(forest.nodes)\n",
    "    if node.parent_id == 0\n",
    "        push!(forest.root_ids, node.id)\n",
    "    else\n",
    "        push!(forest.nodes[node.parent_id].child_ids, node.id)\n",
    "    end\n",
    "end"
   ]
  },
  {
   "cell_type": "markdown",
   "id": "latin-store",
   "metadata": {},
   "source": [
    "### Additional calculated taxon properties"
   ]
  },
  {
   "cell_type": "code",
   "execution_count": 14,
   "id": "surgical-services",
   "metadata": {},
   "outputs": [],
   "source": [
    "taxa[!, :is_root] = ismissing.(taxa.parent_id);"
   ]
  },
  {
   "cell_type": "code",
   "execution_count": 15,
   "id": "iraqi-generation",
   "metadata": {},
   "outputs": [],
   "source": [
    "taxa[!, :leaves] = [[leaf.id for leaf in Leaves(forest.nodes[id])] for id in taxa.id];"
   ]
  },
  {
   "cell_type": "code",
   "execution_count": 16,
   "id": "outside-florence",
   "metadata": {},
   "outputs": [],
   "source": [
    "taxa[!, :genomes] = [findall(∈(leaves), genome_assignments) for leaves in taxa.leaves];"
   ]
  },
  {
   "cell_type": "markdown",
   "id": "under-coaching",
   "metadata": {},
   "source": [
    "### Leaf data"
   ]
  },
  {
   "cell_type": "code",
   "execution_count": 17,
   "id": "affected-excellence",
   "metadata": {},
   "outputs": [
    {
     "data": {
      "text/plain": [
       "1445"
      ]
     },
     "execution_count": 17,
     "metadata": {},
     "output_type": "execute_result"
    }
   ],
   "source": [
    "leaf_tidxs = findall(taxa[!, :is_leaf])\n",
    "leaf_tids = taxa[leaf_tidxs, :id]\n",
    "nleaves = length(leaf_tidxs)\n",
    "\n",
    "@assert issetequal(leaf_tids, setdiff(Set(genome_assignments), 0))\n",
    "\n",
    "leaf_id_to_index = Dict(tid => i for (i, tid) in enumerate(leaf_tids))\n",
    "leaf_gidxs = taxa[leaf_tidxs, :genomes]\n",
    "\n",
    "taxa[!, :leaf_idxs] = [[leaf_id_to_index[id] for id in leaves] for leaves in taxa.leaves]\n",
    "\n",
    "length(leaf_tids)"
   ]
  },
  {
   "cell_type": "code",
   "execution_count": 18,
   "id": "refined-lodging",
   "metadata": {},
   "outputs": [
    {
     "name": "stderr",
     "output_type": "stream",
     "text": [
      "\u001b[32mProgress: 100%|█████████████████████████████████████████| Time: 0:00:46\u001b[39m5:59\u001b[39m\n"
     ]
    }
   ],
   "source": [
    "leaf_pw_min_dists = zeros(eltype(pw_dists), nleaves, nleaves)\n",
    "leaf_pw_max_dists = zeros(eltype(pw_dists), nleaves, nleaves)\n",
    "\n",
    "@showprogress for (i, j) in iterpairs(nleaves, true)\n",
    "    dmat = view(pw_dists, leaf_gidxs[i], leaf_gidxs[j])\n",
    "    leaf_pw_min_dists[i, j] = leaf_pw_min_dists[j, i] = minimum(dmat)\n",
    "    leaf_pw_max_dists[i, j] = leaf_pw_max_dists[j, i] = maximum(dmat)\n",
    "end"
   ]
  },
  {
   "cell_type": "markdown",
   "id": "essential-wyoming",
   "metadata": {},
   "source": [
    "### Diameters and thresholds"
   ]
  },
  {
   "cell_type": "code",
   "execution_count": 19,
   "id": "japanese-accommodation",
   "metadata": {},
   "outputs": [],
   "source": [
    "taxa[!, :diameter] = [\n",
    "    maximum(view(leaf_pw_max_dists, leaf_idxs, leaf_idxs))\n",
    "    for leaf_idxs in taxa.leaf_idxs\n",
    "];"
   ]
  },
  {
   "cell_type": "code",
   "execution_count": 20,
   "id": "understanding-envelope",
   "metadata": {},
   "outputs": [],
   "source": [
    "taxa[!, :threshold] = [\n",
    "    isnan(row[:manual_threshold]) ? row[:diameter] : row[:manual_threshold]\n",
    "    for row in eachrow(taxa)\n",
    "];"
   ]
  },
  {
   "cell_type": "code",
   "execution_count": 21,
   "id": "confidential-smile",
   "metadata": {},
   "outputs": [],
   "source": [
    "taxa[!, :max_leaf_threshold] = [\n",
    "    maximum(taxa.threshold[leaf_tidxs[i]] for i in lidxs)\n",
    "    for lidxs in taxa.leaf_idxs\n",
    "];"
   ]
  },
  {
   "cell_type": "markdown",
   "id": "simple-toner",
   "metadata": {},
   "source": [
    "## Overlaps"
   ]
  },
  {
   "cell_type": "code",
   "execution_count": 22,
   "id": "funky-bachelor",
   "metadata": {},
   "outputs": [
    {
     "data": {
      "text/plain": [
       "119"
      ]
     },
     "execution_count": 22,
     "metadata": {},
     "output_type": "execute_result"
    }
   ],
   "source": [
    "const OverlapTuple = Tuple{Int, Int, Float32}\n",
    "overlaps = Dict{Int, Vector{OverlapTuple}}()\n",
    "min_inters = OverlapTuple[]\n",
    "\n",
    "for row in eachrow(taxa)\n",
    "    taxon_overlaps = OverlapTuple[]\n",
    "    mi = (0, 0, Inf)\n",
    "    \n",
    "    for src_idx in row.leaf_idxs\n",
    "        for dst_idx in 1:nleaves\n",
    "            dst_idx ∈ row.leaf_idxs && continue\n",
    "            \n",
    "            dst_id = leaf_tids[dst_idx]\n",
    "            d = leaf_pw_min_dists[src_idx, dst_idx]\n",
    "            \n",
    "            item = (leaf_tids[src_idx], leaf_tids[dst_idx], d)\n",
    "            d <= row.threshold && push!(taxon_overlaps, item)\n",
    "            d < mi[3] && (mi = item)\n",
    "        end\n",
    "    end\n",
    "    \n",
    "    !isempty(taxon_overlaps) && (overlaps[row.id] = taxon_overlaps)\n",
    "    push!(min_inters, mi)\n",
    "end\n",
    "\n",
    "length(overlaps)"
   ]
  },
  {
   "cell_type": "code",
   "execution_count": 23,
   "id": "eleven-pointer",
   "metadata": {},
   "outputs": [],
   "source": [
    "# Check no overlaps were from leaf taxa\n",
    "@assert all(!lookup_tid(tid, :is_leaf) for tid in keys(overlaps))"
   ]
  },
  {
   "cell_type": "code",
   "execution_count": 24,
   "id": "prescribed-license",
   "metadata": {},
   "outputs": [],
   "source": [
    "for (i, col) in enumerate([:min_inter_src, :min_inter_dst, :min_inter_dist])\n",
    "    taxa[!, col] = [mi[i] for mi in min_inters]\n",
    "end"
   ]
  },
  {
   "cell_type": "markdown",
   "id": "acquired-lending",
   "metadata": {},
   "source": [
    "## Summary"
   ]
  },
  {
   "cell_type": "code",
   "execution_count": 25,
   "id": "documentary-flush",
   "metadata": {},
   "outputs": [],
   "source": [
    "internal_tidxs = findall(!, taxa.is_leaf);"
   ]
  },
  {
   "cell_type": "code",
   "execution_count": 26,
   "id": "unsigned-confusion",
   "metadata": {},
   "outputs": [],
   "source": [
    "summary_df = taxa[internal_tidxs, [:id, :name, :is_root, :diameter, :threshold, :max_leaf_threshold]];"
   ]
  },
  {
   "cell_type": "code",
   "execution_count": 27,
   "id": "conscious-lebanon",
   "metadata": {},
   "outputs": [],
   "source": [
    "insertcols!(\n",
    "    summary_df,\n",
    "    :diameter,\n",
    "    :ngenomes => length.(taxa.genomes[internal_tidxs]),\n",
    "    :nleaves => length.(taxa.leaves[internal_tidxs]),\n",
    ")\n",
    "\n",
    "\n",
    "summary_df[!, :min_inter_src_id] = taxa[internal_tidxs, :min_inter_src]\n",
    "summary_df[!, :min_inter_src_name] = [lookup_tid(id, :name) for id in summary_df.min_inter_src_id]\n",
    "summary_df[!, :min_inter_dst_id] = taxa[internal_tidxs, :min_inter_dst]\n",
    "summary_df[!, :min_inter_dst_name] = [lookup_tid(id, :name) for id in summary_df.min_inter_dst_id]\n",
    "summary_df[!, :min_inter_dist] = taxa[internal_tidxs, :min_inter_dist]\n",
    ";"
   ]
  },
  {
   "cell_type": "code",
   "execution_count": 28,
   "id": "critical-surge",
   "metadata": {},
   "outputs": [],
   "source": [
    "summary_df[:, :noverlaps] .= 0\n",
    "summary_df[:, :dst_taxa] .= 0\n",
    "summary_df[:, :dst_genera] .= 0\n",
    "\n",
    "for (i, tid) in enumerate(summary_df.id)\n",
    "    haskey(overlaps, tid) || continue\n",
    "    leaf_overlaps = overlaps[tid]\n",
    "    \n",
    "    dst_taxa = unique(dst for (src, dst, d) in leaf_overlaps)\n",
    "    dst_genera = unique(rootnode(forest.nodes[id]).id for id in dst_taxa)\n",
    "    \n",
    "    summary_df[i, :noverlaps] = length(leaf_overlaps)\n",
    "    summary_df[i, :dst_taxa] = length(dst_taxa)\n",
    "    summary_df[i, :dst_genera] = length(dst_genera)\n",
    "end"
   ]
  },
  {
   "cell_type": "code",
   "execution_count": 29,
   "id": "dated-adjustment",
   "metadata": {},
   "outputs": [
    {
     "data": {
      "text/html": [
       "<table class=\"data-frame\"><thead><tr><th></th><th>id</th><th>name</th><th>is_root</th><th>ngenomes</th><th>nleaves</th><th>diameter</th><th>threshold</th><th>max_leaf_threshold</th><th>min_inter_src_id</th><th>min_inter_src_name</th><th>min_inter_dst_id</th><th>min_inter_dst_name</th><th>min_inter_dist</th><th>noverlaps</th><th>dst_taxa</th><th>dst_genera</th></tr><tr><th></th><th>Int64</th><th>String</th><th>Bool</th><th>Int64</th><th>Int64</th><th>Float32</th><th>Abstrac…</th><th>Abstrac…</th><th>Int64</th><th>String</th><th>Int64</th><th>String</th><th>Float32</th><th>Int64</th><th>Int64</th><th>Int64</th></tr></thead><tbody><p>471 rows × 16 columns</p><tr><th>1</th><td>1</td><td>Mobiluncus</td><td>1</td><td>7</td><td>2</td><td>0.991801</td><td>0.991801</td><td>0.58688</td><td>1106</td><td>Mobiluncus mulieris</td><td>1688</td><td>Actinobaculum massiliense</td><td>0.987895</td><td>3</td><td>2</td><td>2</td></tr><tr><th>2</th><td>2</td><td>Gordonia</td><td>1</td><td>12</td><td>5</td><td>0.978936</td><td>0.978936</td><td>0.443014</td><td>1794</td><td>Gordonia amicalis</td><td>1478</td><td>Nocardia farcinica</td><td>0.974594</td><td>72</td><td>29</td><td>9</td></tr><tr><th>3</th><td>3</td><td>Meiothermus</td><td>1</td><td>4</td><td>1</td><td>0.207928</td><td>0.207928</td><td>0.207928</td><td>540</td><td>Meiothermus ruber</td><td>1868</td><td>Thermus oshimai</td><td>0.985355</td><td>0</td><td>0</td><td>0</td></tr><tr><th>4</th><td>4</td><td>Kitasatospora</td><td>1</td><td>6</td><td>2</td><td>0.947083</td><td>0.947083</td><td>0.479394</td><td>1079</td><td>Kitasatospora aureofaciens</td><td>1206</td><td>Streptomyces pyridomyceticus</td><td>0.861725</td><td>4</td><td>2</td><td>1</td></tr><tr><th>5</th><td>5</td><td>Shewanella</td><td>1</td><td>18</td><td>4</td><td>0.995506</td><td>0.995506</td><td>0.593445</td><td>467</td><td>Shewanella putrefaciens</td><td>1460</td><td>Salmonella enterica</td><td>0.99323</td><td>77</td><td>72</td><td>24</td></tr><tr><th>6</th><td>6</td><td>Sporolactobacillus</td><td>1</td><td>4</td><td>2</td><td>0.995221</td><td>0.995221</td><td>0.332251</td><td>1118</td><td>Sporolactobacillus vineae</td><td>577</td><td>Neorhizobium galegae</td><td>0.995424</td><td>0</td><td>0</td><td>0</td></tr><tr><th>7</th><td>7</td><td>Dyella</td><td>1</td><td>2</td><td>1</td><td>0.00625489</td><td>0.00625489</td><td>0.00625489</td><td>1110</td><td>Dyella japonica</td><td>1276</td><td>Rhodanobacter denitrificans</td><td>0.982042</td><td>0</td><td>0</td><td>0</td></tr><tr><th>8</th><td>8</td><td>Myxococcus</td><td>1</td><td>3</td><td>1</td><td>0.0126297</td><td>0.0126297</td><td>0.0126297</td><td>470</td><td>Myxococcus xanthus</td><td>471</td><td>Stigmatella aurantiaca</td><td>0.963857</td><td>0</td><td>0</td><td>0</td></tr><tr><th>9</th><td>9</td><td>Stigmatella</td><td>1</td><td>2</td><td>1</td><td>0.0125714</td><td>0.0125714</td><td>0.0125714</td><td>471</td><td>Stigmatella aurantiaca</td><td>470</td><td>Myxococcus xanthus</td><td>0.963857</td><td>0</td><td>0</td><td>0</td></tr><tr><th>10</th><td>10</td><td>Mycoplasma</td><td>1</td><td>161</td><td>23</td><td>1.0</td><td>1.0</td><td>0.679269</td><td>1111</td><td>Mycoplasma arginini</td><td>722</td><td>Chlamydia trachomatis</td><td>0.788957</td><td>32706</td><td>1422</td><td>453</td></tr><tr><th>11</th><td>11</td><td>Candidatus Portiera</td><td>1</td><td>5</td><td>1</td><td>0.0410959</td><td>0.0410959</td><td>0.0410959</td><td>1030</td><td>Candidatus Portiera aleyrodidarum</td><td>464</td><td>Buchnera aphidicola</td><td>0.995471</td><td>0</td><td>0</td><td>0</td></tr><tr><th>12</th><td>12</td><td>Thalassobius</td><td>1</td><td>2</td><td>1</td><td>0.0232801</td><td>0.0232801</td><td>0.0232801</td><td>1438</td><td>Thalassobius mediterraneus</td><td>1700</td><td>Phaeobacter italicus</td><td>0.984341</td><td>0</td><td>0</td><td>0</td></tr><tr><th>13</th><td>13</td><td>Flavonifractor</td><td>1</td><td>2</td><td>1</td><td>0.477056</td><td>0.477056</td><td>0.477056</td><td>1683</td><td>Flavonifractor plautii</td><td>1294</td><td>Intestinimonas butyriciproducens</td><td>0.962998</td><td>0</td><td>0</td><td>0</td></tr><tr><th>14</th><td>14</td><td>Lysobacter</td><td>1</td><td>7</td><td>3</td><td>0.983625</td><td>0.983625</td><td>0.480067</td><td>1733</td><td>Lysobacter defluvii</td><td>1309</td><td>Pseudoxanthomonas suwonensis</td><td>0.973654</td><td>21</td><td>8</td><td>4</td></tr><tr><th>15</th><td>15</td><td>Fructobacillus</td><td>1</td><td>3</td><td>1</td><td>0.0112964</td><td>0.0112964</td><td>0.0112964</td><td>988</td><td>Fructobacillus fructosus</td><td>800</td><td>Leuconostoc pseudomesenteroides</td><td>0.994692</td><td>0</td><td>0</td><td>0</td></tr><tr><th>16</th><td>16</td><td>Caulobacter</td><td>1</td><td>4</td><td>2</td><td>0.956016</td><td>0.956016</td><td>0.216275</td><td>1398</td><td>Caulobacter henricii</td><td>550</td><td>Brevundimonas diminuta</td><td>0.976768</td><td>0</td><td>0</td><td>0</td></tr><tr><th>17</th><td>17</td><td>Jeotgalibaca</td><td>1</td><td>2</td><td>1</td><td>0.24566</td><td>0.24566</td><td>0.24566</td><td>1370</td><td>Jeotgalibaca dankookensis</td><td>1259</td><td>Enterococcus dispar</td><td>0.994287</td><td>0</td><td>0</td><td>0</td></tr><tr><th>18</th><td>18</td><td>Ureaplasma</td><td>1</td><td>20</td><td>2</td><td>0.889714</td><td>0.889714</td><td>0.308252</td><td>1134</td><td>Ureaplasma urealyticum</td><td>528</td><td>Anaerococcus hydrogenalis</td><td>0.975844</td><td>0</td><td>0</td><td>0</td></tr><tr><th>19</th><td>19</td><td>Spiroplasma</td><td>1</td><td>4</td><td>2</td><td>0.986293</td><td>0.986293</td><td>0.13624</td><td>1136</td><td>Spiroplasma melliferum</td><td>598</td><td>Neisseria gonorrhoeae</td><td>0.986811</td><td>0</td><td>0</td><td>0</td></tr><tr><th>20</th><td>20</td><td>Pantoea</td><td>1</td><td>50</td><td>5</td><td>0.999228</td><td>0.999228</td><td>0.597647</td><td>1175</td><td>Pantoea dispersa</td><td>1525</td><td>Enterobacter ludwigii</td><td>0.942451</td><td>6034</td><td>1436</td><td>453</td></tr><tr><th>21</th><td>21</td><td>Cupriavidus</td><td>1</td><td>12</td><td>3</td><td>0.971282</td><td>0.971282</td><td>0.606995</td><td>1474</td><td>Cupriavidus metallidurans</td><td>1387</td><td>Achromobacter xylosoxidans</td><td>0.975152</td><td>0</td><td>0</td><td>0</td></tr><tr><th>22</th><td>22</td><td>Nitratireductor</td><td>1</td><td>2</td><td>1</td><td>0.409326</td><td>0.409326</td><td>0.409326</td><td>1900</td><td>Nitratireductor aquibiodomus</td><td>1761</td><td>Mesorhizobium ciceri</td><td>0.98131</td><td>0</td><td>0</td><td>0</td></tr><tr><th>23</th><td>23</td><td>Schaalia</td><td>1</td><td>4</td><td>2</td><td>0.971825</td><td>0.971825</td><td>0.466452</td><td>1003</td><td>Schaalia odontolytica</td><td>829</td><td>Kytococcus sedentarius</td><td>0.92734</td><td>2</td><td>1</td><td>1</td></tr><tr><th>24</th><td>24</td><td>Oligella</td><td>1</td><td>2</td><td>1</td><td>0.41331</td><td>0.41331</td><td>0.41331</td><td>480</td><td>Oligella urethralis</td><td>1197</td><td>Taylorella asinigenitalis</td><td>0.996656</td><td>0</td><td>0</td><td>0</td></tr><tr><th>25</th><td>25</td><td>Borrelia</td><td>1</td><td>18</td><td>6</td><td>0.978277</td><td>0.978277</td><td>0.702368</td><td>482</td><td>Borrelia hermsii</td><td>1564</td><td>Borreliella garinii</td><td>0.986411</td><td>0</td><td>0</td><td>0</td></tr><tr><th>26</th><td>26</td><td>Richelia</td><td>1</td><td>2</td><td>1</td><td>0.647725</td><td>0.647725</td><td>0.647725</td><td>1029</td><td>Richelia intracellularis</td><td>1213</td><td>Dolichospermum circinale</td><td>0.994851</td><td>0</td><td>0</td><td>0</td></tr><tr><th>27</th><td>27</td><td>Eggerthella</td><td>1</td><td>2</td><td>1</td><td>0.269617</td><td>0.269617</td><td>0.269617</td><td>1146</td><td>Eggerthella lenta</td><td>1376</td><td>Amycolatopsis vancoresmycina</td><td>0.984047</td><td>0</td><td>0</td><td>0</td></tr><tr><th>28</th><td>28</td><td>Paenarthrobacter</td><td>1</td><td>2</td><td>1</td><td>0.317711</td><td>0.317711</td><td>0.317711</td><td>1507</td><td>Paenarthrobacter nicotinovorans</td><td>1086</td><td>Streptomyces hygroscopicus</td><td>0.987777</td><td>0</td><td>0</td><td>0</td></tr><tr><th>29</th><td>29</td><td>Spirochaeta</td><td>1</td><td>2</td><td>1</td><td>0.65223</td><td>0.65223</td><td>0.65223</td><td>489</td><td>Spirochaeta thermophila</td><td>1094</td><td>Nocardiopsis dassonvillei</td><td>0.995665</td><td>0</td><td>0</td><td>0</td></tr><tr><th>30</th><td>30</td><td>Rodentibacter</td><td>1</td><td>2</td><td>1</td><td>0.00769231</td><td>0.00769231</td><td>0.00769231</td><td>706</td><td>Rodentibacter pneumotropicus</td><td>693</td><td>Haemophilus influenzae</td><td>0.976516</td><td>0</td><td>0</td><td>0</td></tr><tr><th>&vellip;</th><td>&vellip;</td><td>&vellip;</td><td>&vellip;</td><td>&vellip;</td><td>&vellip;</td><td>&vellip;</td><td>&vellip;</td><td>&vellip;</td><td>&vellip;</td><td>&vellip;</td><td>&vellip;</td><td>&vellip;</td><td>&vellip;</td><td>&vellip;</td><td>&vellip;</td><td>&vellip;</td></tr></tbody></table>"
      ],
      "text/latex": [
       "\\begin{tabular}{r|cccccccccccccccc}\n",
       "\t& id & name & is\\_root & ngenomes & nleaves & diameter & threshold & max\\_leaf\\_threshold & min\\_inter\\_src\\_id & min\\_inter\\_src\\_name & min\\_inter\\_dst\\_id & min\\_inter\\_dst\\_name & min\\_inter\\_dist & noverlaps & dst\\_taxa & dst\\_genera\\\\\n",
       "\t\\hline\n",
       "\t& Int64 & String & Bool & Int64 & Int64 & Float32 & Abstrac… & Abstrac… & Int64 & String & Int64 & String & Float32 & Int64 & Int64 & Int64\\\\\n",
       "\t\\hline\n",
       "\t1 & 1 & Mobiluncus & 1 & 7 & 2 & 0.991801 & 0.991801 & 0.58688 & 1106 & Mobiluncus mulieris & 1688 & Actinobaculum massiliense & 0.987895 & 3 & 2 & 2 \\\\\n",
       "\t2 & 2 & Gordonia & 1 & 12 & 5 & 0.978936 & 0.978936 & 0.443014 & 1794 & Gordonia amicalis & 1478 & Nocardia farcinica & 0.974594 & 72 & 29 & 9 \\\\\n",
       "\t3 & 3 & Meiothermus & 1 & 4 & 1 & 0.207928 & 0.207928 & 0.207928 & 540 & Meiothermus ruber & 1868 & Thermus oshimai & 0.985355 & 0 & 0 & 0 \\\\\n",
       "\t4 & 4 & Kitasatospora & 1 & 6 & 2 & 0.947083 & 0.947083 & 0.479394 & 1079 & Kitasatospora aureofaciens & 1206 & Streptomyces pyridomyceticus & 0.861725 & 4 & 2 & 1 \\\\\n",
       "\t5 & 5 & Shewanella & 1 & 18 & 4 & 0.995506 & 0.995506 & 0.593445 & 467 & Shewanella putrefaciens & 1460 & Salmonella enterica & 0.99323 & 77 & 72 & 24 \\\\\n",
       "\t6 & 6 & Sporolactobacillus & 1 & 4 & 2 & 0.995221 & 0.995221 & 0.332251 & 1118 & Sporolactobacillus vineae & 577 & Neorhizobium galegae & 0.995424 & 0 & 0 & 0 \\\\\n",
       "\t7 & 7 & Dyella & 1 & 2 & 1 & 0.00625489 & 0.00625489 & 0.00625489 & 1110 & Dyella japonica & 1276 & Rhodanobacter denitrificans & 0.982042 & 0 & 0 & 0 \\\\\n",
       "\t8 & 8 & Myxococcus & 1 & 3 & 1 & 0.0126297 & 0.0126297 & 0.0126297 & 470 & Myxococcus xanthus & 471 & Stigmatella aurantiaca & 0.963857 & 0 & 0 & 0 \\\\\n",
       "\t9 & 9 & Stigmatella & 1 & 2 & 1 & 0.0125714 & 0.0125714 & 0.0125714 & 471 & Stigmatella aurantiaca & 470 & Myxococcus xanthus & 0.963857 & 0 & 0 & 0 \\\\\n",
       "\t10 & 10 & Mycoplasma & 1 & 161 & 23 & 1.0 & 1.0 & 0.679269 & 1111 & Mycoplasma arginini & 722 & Chlamydia trachomatis & 0.788957 & 32706 & 1422 & 453 \\\\\n",
       "\t11 & 11 & Candidatus Portiera & 1 & 5 & 1 & 0.0410959 & 0.0410959 & 0.0410959 & 1030 & Candidatus Portiera aleyrodidarum & 464 & Buchnera aphidicola & 0.995471 & 0 & 0 & 0 \\\\\n",
       "\t12 & 12 & Thalassobius & 1 & 2 & 1 & 0.0232801 & 0.0232801 & 0.0232801 & 1438 & Thalassobius mediterraneus & 1700 & Phaeobacter italicus & 0.984341 & 0 & 0 & 0 \\\\\n",
       "\t13 & 13 & Flavonifractor & 1 & 2 & 1 & 0.477056 & 0.477056 & 0.477056 & 1683 & Flavonifractor plautii & 1294 & Intestinimonas butyriciproducens & 0.962998 & 0 & 0 & 0 \\\\\n",
       "\t14 & 14 & Lysobacter & 1 & 7 & 3 & 0.983625 & 0.983625 & 0.480067 & 1733 & Lysobacter defluvii & 1309 & Pseudoxanthomonas suwonensis & 0.973654 & 21 & 8 & 4 \\\\\n",
       "\t15 & 15 & Fructobacillus & 1 & 3 & 1 & 0.0112964 & 0.0112964 & 0.0112964 & 988 & Fructobacillus fructosus & 800 & Leuconostoc pseudomesenteroides & 0.994692 & 0 & 0 & 0 \\\\\n",
       "\t16 & 16 & Caulobacter & 1 & 4 & 2 & 0.956016 & 0.956016 & 0.216275 & 1398 & Caulobacter henricii & 550 & Brevundimonas diminuta & 0.976768 & 0 & 0 & 0 \\\\\n",
       "\t17 & 17 & Jeotgalibaca & 1 & 2 & 1 & 0.24566 & 0.24566 & 0.24566 & 1370 & Jeotgalibaca dankookensis & 1259 & Enterococcus dispar & 0.994287 & 0 & 0 & 0 \\\\\n",
       "\t18 & 18 & Ureaplasma & 1 & 20 & 2 & 0.889714 & 0.889714 & 0.308252 & 1134 & Ureaplasma urealyticum & 528 & Anaerococcus hydrogenalis & 0.975844 & 0 & 0 & 0 \\\\\n",
       "\t19 & 19 & Spiroplasma & 1 & 4 & 2 & 0.986293 & 0.986293 & 0.13624 & 1136 & Spiroplasma melliferum & 598 & Neisseria gonorrhoeae & 0.986811 & 0 & 0 & 0 \\\\\n",
       "\t20 & 20 & Pantoea & 1 & 50 & 5 & 0.999228 & 0.999228 & 0.597647 & 1175 & Pantoea dispersa & 1525 & Enterobacter ludwigii & 0.942451 & 6034 & 1436 & 453 \\\\\n",
       "\t21 & 21 & Cupriavidus & 1 & 12 & 3 & 0.971282 & 0.971282 & 0.606995 & 1474 & Cupriavidus metallidurans & 1387 & Achromobacter xylosoxidans & 0.975152 & 0 & 0 & 0 \\\\\n",
       "\t22 & 22 & Nitratireductor & 1 & 2 & 1 & 0.409326 & 0.409326 & 0.409326 & 1900 & Nitratireductor aquibiodomus & 1761 & Mesorhizobium ciceri & 0.98131 & 0 & 0 & 0 \\\\\n",
       "\t23 & 23 & Schaalia & 1 & 4 & 2 & 0.971825 & 0.971825 & 0.466452 & 1003 & Schaalia odontolytica & 829 & Kytococcus sedentarius & 0.92734 & 2 & 1 & 1 \\\\\n",
       "\t24 & 24 & Oligella & 1 & 2 & 1 & 0.41331 & 0.41331 & 0.41331 & 480 & Oligella urethralis & 1197 & Taylorella asinigenitalis & 0.996656 & 0 & 0 & 0 \\\\\n",
       "\t25 & 25 & Borrelia & 1 & 18 & 6 & 0.978277 & 0.978277 & 0.702368 & 482 & Borrelia hermsii & 1564 & Borreliella garinii & 0.986411 & 0 & 0 & 0 \\\\\n",
       "\t26 & 26 & Richelia & 1 & 2 & 1 & 0.647725 & 0.647725 & 0.647725 & 1029 & Richelia intracellularis & 1213 & Dolichospermum circinale & 0.994851 & 0 & 0 & 0 \\\\\n",
       "\t27 & 27 & Eggerthella & 1 & 2 & 1 & 0.269617 & 0.269617 & 0.269617 & 1146 & Eggerthella lenta & 1376 & Amycolatopsis vancoresmycina & 0.984047 & 0 & 0 & 0 \\\\\n",
       "\t28 & 28 & Paenarthrobacter & 1 & 2 & 1 & 0.317711 & 0.317711 & 0.317711 & 1507 & Paenarthrobacter nicotinovorans & 1086 & Streptomyces hygroscopicus & 0.987777 & 0 & 0 & 0 \\\\\n",
       "\t29 & 29 & Spirochaeta & 1 & 2 & 1 & 0.65223 & 0.65223 & 0.65223 & 489 & Spirochaeta thermophila & 1094 & Nocardiopsis dassonvillei & 0.995665 & 0 & 0 & 0 \\\\\n",
       "\t30 & 30 & Rodentibacter & 1 & 2 & 1 & 0.00769231 & 0.00769231 & 0.00769231 & 706 & Rodentibacter pneumotropicus & 693 & Haemophilus influenzae & 0.976516 & 0 & 0 & 0 \\\\\n",
       "\t$\\dots$ & $\\dots$ & $\\dots$ & $\\dots$ & $\\dots$ & $\\dots$ & $\\dots$ & $\\dots$ & $\\dots$ & $\\dots$ & $\\dots$ & $\\dots$ & $\\dots$ & $\\dots$ & $\\dots$ & $\\dots$ & $\\dots$ \\\\\n",
       "\\end{tabular}\n"
      ],
      "text/plain": [
       "\u001b[1m471×16 DataFrame\u001b[0m\n",
       "\u001b[1m Row \u001b[0m│\u001b[1m id    \u001b[0m\u001b[1m name                              \u001b[0m\u001b[1m is_root \u001b[0m\u001b[1m ngenomes \u001b[0m\u001b[1m nleaves \u001b[0m\u001b[1m diameter   \u001b[0m\u001b[1m threshold  \u001b[0m\u001b[1m max_leaf_threshold \u001b[0m\u001b[1m min_inter_src_id \u001b[0m\u001b[1m min_inter_src_name                \u001b[0m\u001b[1m min_inter_dst_id \u001b[0m\u001b[1m min_inter_dst_name                \u001b[0m\u001b[1m min_inter_dist \u001b[0m\u001b[1m noverlaps \u001b[0m\u001b[1m dst_taxa \u001b[0m\u001b[1m dst_genera \u001b[0m\n",
       "\u001b[1m     \u001b[0m│\u001b[90m Int64 \u001b[0m\u001b[90m String                            \u001b[0m\u001b[90m Bool    \u001b[0m\u001b[90m Int64    \u001b[0m\u001b[90m Int64   \u001b[0m\u001b[90m Float32    \u001b[0m\u001b[90m Abstract…  \u001b[0m\u001b[90m AbstractFloat      \u001b[0m\u001b[90m Int64            \u001b[0m\u001b[90m String                            \u001b[0m\u001b[90m Int64            \u001b[0m\u001b[90m String                            \u001b[0m\u001b[90m Float32        \u001b[0m\u001b[90m Int64     \u001b[0m\u001b[90m Int64    \u001b[0m\u001b[90m Int64      \u001b[0m\n",
       "─────┼─────────────────────────────────────────────────────────────────────────────────────────────────────────────────────────────────────────────────────────────────────────────────────────────────────────────────────────────────────────────────────────────────────────────\n",
       "   1 │     1  Mobiluncus                            true         7        2  0.991801    0.991801            0.58688                 1106  Mobiluncus mulieris                            1688  Actinobaculum massiliense                0.987895          3         2           2\n",
       "   2 │     2  Gordonia                              true        12        5  0.978936    0.978936            0.443014                1794  Gordonia amicalis                              1478  Nocardia farcinica                       0.974594         72        29           9\n",
       "   3 │     3  Meiothermus                           true         4        1  0.207928    0.207928            0.207928                 540  Meiothermus ruber                              1868  Thermus oshimai                          0.985355          0         0           0\n",
       "   4 │     4  Kitasatospora                         true         6        2  0.947083    0.947083            0.479394                1079  Kitasatospora aureofaciens                     1206  Streptomyces pyridomyceticus             0.861725          4         2           1\n",
       "   5 │     5  Shewanella                            true        18        4  0.995506    0.995506            0.593445                 467  Shewanella putrefaciens                        1460  Salmonella enterica                      0.99323          77        72          24\n",
       "   6 │     6  Sporolactobacillus                    true         4        2  0.995221    0.995221            0.332251                1118  Sporolactobacillus vineae                       577  Neorhizobium galegae                     0.995424          0         0           0\n",
       "   7 │     7  Dyella                                true         2        1  0.00625489  0.00625489          0.00625489              1110  Dyella japonica                                1276  Rhodanobacter denitrificans              0.982042          0         0           0\n",
       "   8 │     8  Myxococcus                            true         3        1  0.0126297   0.0126297           0.0126297                470  Myxococcus xanthus                              471  Stigmatella aurantiaca                   0.963857          0         0           0\n",
       "   9 │     9  Stigmatella                           true         2        1  0.0125714   0.0125714           0.0125714                471  Stigmatella aurantiaca                          470  Myxococcus xanthus                       0.963857          0         0           0\n",
       "  10 │    10  Mycoplasma                            true       161       23  1.0         1.0                 0.679269                1111  Mycoplasma arginini                             722  Chlamydia trachomatis                    0.788957      32706      1422         453\n",
       "  11 │    11  Candidatus Portiera                   true         5        1  0.0410959   0.0410959           0.0410959               1030  Candidatus Portiera aleyrodidarum               464  Buchnera aphidicola                      0.995471          0         0           0\n",
       "  ⋮  │   ⋮                    ⋮                     ⋮        ⋮         ⋮         ⋮           ⋮               ⋮                  ⋮                          ⋮                         ⋮                          ⋮                        ⋮             ⋮         ⋮          ⋮\n",
       " 462 │   644  Shigella boydii                      false        13        2  0.296933    0.0                 0.158879                1922  Shigella boydii subgroup 1                     1925  Shigella dysenteriae subgroup 2          0.204837          0         0           0\n",
       " 463 │   645  Shigella dysenteriae                 false         6        2  0.56022     0.0                 0.1487                  1925  Shigella dysenteriae subgroup 2                1922  Shigella boydii subgroup 1               0.204837          0         0           0\n",
       " 464 │  1792  Salinispora pacifica                 false        25        3  0.804802    0.0                 0.640455                1946  Salinispora pacifica subgroup 2                 986  Salinispora oceanensis                   0.526638          0         0           0\n",
       " 465 │   803  Prochlorococcus marinus              false        29        4  0.998967    0.0                 0.97468                 1901  Prochlorococcus marinus subgroup…              1372  Arcobacter butzleri                      0.994065          0         0           0\n",
       " 466 │  1391  Streptococcus pseudopneumoniae       false        11        2  0.846564    0.0                 0.5                     1940  Streptococcus pseudopneumoniae s…              1321  Streptococcus mitis                      0.580635          0         0           0\n",
       " 467 │   895  Bacillus amyloliquefaciens           false        20        2  0.456449    0.0                 0.317015                1913  Bacillus amyloliquefaciens subgr…               790  Bacillus velezensis                      0.347348          0         0           0\n",
       " 468 │   899  Bacillus cereus                      false       150        4  0.902063    0.0                 0.785307                1909  Bacillus cereus subgroup 2                      914  Bacillus thuringiensis                   0.568251          0         0           0\n",
       " 469 │   908  Bacillus pumilus                     false        18        2  0.878503    0.0                 0.662848                1935  Bacillus pumilus subgroup 2                    1521  Bacillus safensis                        0.794526          0         0           0\n",
       " 470 │   929  Clostridium botulinum                false       112        3  0.994353    0.0                 0.700335                1905  Clostridium botulinum subgroup 1                936  Clostridium sporogenes                   0.822058          0         0           0\n",
       " 471 │  1948  Lacticaseibacillus casei/paracas…    false        48        2  0.474511    0.474511            0.0                      966  Lacticaseibacillus paracasei                   1879  Lactobacillus zeae                       0.96215           0         0           0\n",
       "\u001b[31m                                                                                                                                                                                                                                                                   450 rows omitted\u001b[0m"
      ]
     },
     "execution_count": 29,
     "metadata": {},
     "output_type": "execute_result"
    }
   ],
   "source": [
    "summary_df"
   ]
  },
  {
   "cell_type": "markdown",
   "id": "ranging-letter",
   "metadata": {},
   "source": [
    "## Write output"
   ]
  },
  {
   "cell_type": "code",
   "execution_count": 30,
   "id": "deadly-carolina",
   "metadata": {},
   "outputs": [
    {
     "data": {
      "text/plain": [
       "p\"data-processed/210428-find-remaining-overlaps/210428-internal-taxa-overlaps-summary.csv\""
      ]
     },
     "execution_count": 30,
     "metadata": {},
     "output_type": "execute_result"
    }
   ],
   "source": [
    "CSV.write(processed_out / \"$DATESTR-internal-taxa-overlaps-summary.csv\", summary_df)"
   ]
  },
  {
   "cell_type": "code",
   "execution_count": 31,
   "id": "unexpected-toilet",
   "metadata": {},
   "outputs": [],
   "source": [
    "let\n",
    "    data = map(collect(overlaps)) do (tid, leaf_overlaps)\n",
    "        (\n",
    "            src_taxid=tid,\n",
    "            src_leaf_taxids=[src for (src, dst, d) in leaf_overlaps],\n",
    "            dst_leaf_taxids=[dst for (src, dst, d) in leaf_overlaps],\n",
    "            distances=[d for (src, dst, d) in leaf_overlaps],\n",
    "        )\n",
    "    end\n",
    "    \n",
    "    open(intermediate_out / \"overlaps.json\", \"w\") do f\n",
    "        JSON.print(f, data)\n",
    "    end\n",
    "end"
   ]
  },
  {
   "cell_type": "code",
   "execution_count": 32,
   "id": "analyzed-construction",
   "metadata": {},
   "outputs": [],
   "source": [
    "let\n",
    "    cols = [:id, :is_leaf, :is_root, :leaves, :genomes, :diameter, :threshold, :max_leaf_threshold,\n",
    "            :min_inter_src, :min_inter_dst, :min_inter_dist]\n",
    "    \n",
    "    data = [Dict(pairs(row)) for row in  eachrow(taxa[!, cols])]\n",
    "    \n",
    "    open(intermediate_out / \"calculated.json\", \"w\") do f\n",
    "        JSON.print(f, data)\n",
    "    end\n",
    "end"
   ]
  }
 ],
 "metadata": {
  "kernelspec": {
   "display_name": "Julia 1.5.1",
   "language": "julia",
   "name": "julia-1.5"
  },
  "language_info": {
   "file_extension": ".jl",
   "mimetype": "application/julia",
   "name": "julia",
   "version": "1.5.1"
  }
 },
 "nbformat": 4,
 "nbformat_minor": 5
}
