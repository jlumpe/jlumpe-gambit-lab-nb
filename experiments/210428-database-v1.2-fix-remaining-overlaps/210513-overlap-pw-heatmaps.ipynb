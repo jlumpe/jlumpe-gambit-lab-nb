{
 "cells": [
  {
   "cell_type": "markdown",
   "id": "639801d0",
   "metadata": {},
   "source": [
    "# 210511 Overlap PW heatmaps"
   ]
  },
  {
   "cell_type": "code",
   "execution_count": 1,
   "id": "8122831c",
   "metadata": {},
   "outputs": [],
   "source": [
    "# using Mmap"
   ]
  },
  {
   "cell_type": "code",
   "execution_count": 2,
   "id": "ed937b02",
   "metadata": {},
   "outputs": [
    {
     "data": {
      "text/html": [
       "<script>\n",
       "// Immediately-invoked-function-expression to avoid global variables.\n",
       "(function() {\n",
       "    var warning_div = document.getElementById(\"webio-warning-15253766893387570218\");\n",
       "    var hide = function () {\n",
       "        var script = document.getElementById(\"webio-setup-2894131550771522670\");\n",
       "        var parent = script && script.parentElement;\n",
       "        var grandparent = parent && parent.parentElement;\n",
       "        if (grandparent) {\n",
       "            grandparent.style.display = \"none\";\n",
       "        }\n",
       "        warning_div.style.display = \"none\";\n",
       "    };\n",
       "    if (typeof Jupyter !== \"undefined\") {\n",
       "        console.log(\"WebIO detected Jupyter notebook environment.\");\n",
       "        // Jupyter notebook.\n",
       "        var extensions = (\n",
       "            Jupyter\n",
       "            && Jupyter.notebook.config.data\n",
       "            && Jupyter.notebook.config.data.load_extensions\n",
       "        );\n",
       "        if (extensions && extensions[\"webio-jupyter-notebook\"]) {\n",
       "            // Extension already loaded.\n",
       "            console.log(\"Jupyter WebIO nbextension detected; not loading ad-hoc.\");\n",
       "            hide();\n",
       "            return;\n",
       "        }\n",
       "    } else if (window.location.pathname.includes(\"/lab\")) {\n",
       "        // Guessing JupyterLa\n",
       "        console.log(\"Jupyter Lab detected; make sure the @webio/jupyter-lab-provider labextension is installed.\");\n",
       "        hide();\n",
       "        return;\n",
       "    }\n",
       "})();\n",
       "\n",
       "</script>\n",
       "<p\n",
       "    id=\"webio-warning-15253766893387570218\"\n",
       "    class=\"output_text output_stderr\"\n",
       "    style=\"padding: 1em; font-weight: bold;\"\n",
       ">\n",
       "    Unable to load WebIO. Please make sure WebIO works for your Jupyter client.\n",
       "    For troubleshooting, please see <a href=\"https://juliagizmos.github.io/WebIO.jl/latest/providers/ijulia/\">\n",
       "    the WebIO/IJulia documentation</a>.\n",
       "    <!-- TODO: link to installation docs. -->\n",
       "</p>\n"
      ],
      "text/plain": [
       "HTML{String}(\"<script>\\n// Immediately-invoked-function-expression to avoid global variables.\\n(function() {\\n    var warning_div = document.getElementById(\\\"webio-warning-15253766893387570218\\\");\\n    var hide = function () {\\n        var script = document.getElementById(\\\"webio-setup-2894131550771522670\\\");\\n        var parent = script && script.parentElement;\\n        var grandparent = parent && parent.parentElement;\\n        if (grandparent) {\\n            grandparent.style.display = \\\"none\\\";\\n        }\\n        warning_div.style.display = \\\"none\\\";\\n    };\\n    if (typeof Jupyter !== \\\"undefined\\\") {\\n        console.log(\\\"WebIO detected Jupyter notebook environment.\\\");\\n        // Jupyter notebook.\\n        var extensions = (\\n            Jupyter\\n            && Jupyter.notebook.config.data\\n            && Jupyter.notebook.config.data.load_extensions\\n        );\\n        if (extensions && extensions[\\\"webio-jupyter-notebook\\\"]) {\\n            // Extension already loaded.\\n            console.log(\\\"Jupyter WebIO nbextension detected; not loading ad-hoc.\\\");\\n            hide();\\n            return;\\n        }\\n    } else if (window.location.pathname.includes(\\\"/lab\\\")) {\\n        // Guessing JupyterLa\\n        console.log(\\\"Jupyter Lab detected; make sure the @webio/jupyter-lab-provider labextension is installed.\\\");\\n        hide();\\n        return;\\n    }\\n})();\\n\\n</script>\\n<p\\n    id=\\\"webio-warning-15253766893387570218\\\"\\n    class=\\\"output_text output_stderr\\\"\\n    style=\\\"padding: 1em; font-weight: bold;\\\"\\n>\\n    Unable to load WebIO. Please make sure WebIO works for your Jupyter client.\\n    For troubleshooting, please see <a href=\\\"https://juliagizmos.github.io/WebIO.jl/latest/providers/ijulia/\\\">\\n    the WebIO/IJulia documentation</a>.\\n    <!-- TODO: link to installation docs. -->\\n</p>\\n\")"
      ]
     },
     "metadata": {},
     "output_type": "display_data"
    }
   ],
   "source": [
    "using JSON\n",
    "using DataFrames\n",
    "using FilePathsBase\n",
    "using FilePathsBase: /\n",
    "# using ProgressMeter\n",
    "using Arrow\n",
    "using HDF5\n",
    "import Clustering\n",
    "using PlotlyJS"
   ]
  },
  {
   "cell_type": "code",
   "execution_count": 3,
   "id": "5b2b3bc5",
   "metadata": {},
   "outputs": [],
   "source": [
    "using Midas.Pairwise: npairs, iterpairs\n",
    "# using TriMatrices\n",
    "using MidasPlots.Plotly: vector_attrs!, axisname, setaxes!"
   ]
  },
  {
   "cell_type": "code",
   "execution_count": 4,
   "id": "28d6937d",
   "metadata": {},
   "outputs": [],
   "source": [
    "include(\"src/GridAxes.jl\")\n",
    "using .GridAxesModule"
   ]
  },
  {
   "cell_type": "markdown",
   "id": "fe060371",
   "metadata": {},
   "source": [
    "## Setup"
   ]
  },
  {
   "cell_type": "code",
   "execution_count": 5,
   "id": "32461630",
   "metadata": {},
   "outputs": [
    {
     "data": {
      "text/plain": [
       "400"
      ]
     },
     "execution_count": 5,
     "metadata": {},
     "output_type": "execute_result"
    }
   ],
   "source": [
    "ENV[\"COLUMNS\"] = 400"
   ]
  },
  {
   "cell_type": "code",
   "execution_count": 6,
   "id": "630f27f6",
   "metadata": {},
   "outputs": [
    {
     "data": {
      "text/plain": [
       "\"210513-overlap-pw-heatmaps\""
      ]
     },
     "execution_count": 6,
     "metadata": {},
     "output_type": "execute_result"
    }
   ],
   "source": [
    "DATESTR = \"210513\"\n",
    "NBNAME = \"$DATESTR-overlap-pw-heatmaps\""
   ]
  },
  {
   "cell_type": "code",
   "execution_count": 7,
   "id": "53dc868a",
   "metadata": {},
   "outputs": [],
   "source": [
    "infiles = Dict(\n",
    "    :distances => p\"../../data/intermediate/200727-find-overlaps/genome-pw-distances.raw-float32\",\n",
    "    :db => p\"../../data/intermediate/210401-database-v2-fix-species-overlaps/210424-compile-fixes/\",\n",
    "    :overlaps => p\"data-intermediate/210428-find-remaining-overlaps/\",\n",
    "    :data => p\"data-intermediate/210511-extra-overlap-data/\",\n",
    ");"
   ]
  },
  {
   "cell_type": "code",
   "execution_count": 8,
   "id": "c60b8b13",
   "metadata": {},
   "outputs": [],
   "source": [
    "reports_out = p\"reports\" / NBNAME\n",
    "isdir(reports_out) || mkdir(reports_out);"
   ]
  },
  {
   "cell_type": "markdown",
   "id": "35ed789e",
   "metadata": {},
   "source": [
    "## Load data"
   ]
  },
  {
   "cell_type": "markdown",
   "id": "6b14eafd",
   "metadata": {},
   "source": [
    "### Database"
   ]
  },
  {
   "cell_type": "code",
   "execution_count": 9,
   "id": "b986607d",
   "metadata": {},
   "outputs": [],
   "source": [
    "taxa = DataFrame(Arrow.Table(string(infiles[:data] / \"taxa.arrow\")));"
   ]
  },
  {
   "cell_type": "code",
   "execution_count": 10,
   "id": "ebdc736f",
   "metadata": {},
   "outputs": [
    {
     "data": {
      "text/plain": [
       "50752"
      ]
     },
     "execution_count": 10,
     "metadata": {},
     "output_type": "execute_result"
    }
   ],
   "source": [
    "genome_assignments = Vector{Int}(open(JSON.parse, infiles[:db] / \"genome-taxon-assignments.json\"))\n",
    "ngenomes = length(genome_assignments)"
   ]
  },
  {
   "cell_type": "code",
   "execution_count": 11,
   "id": "9b117458",
   "metadata": {},
   "outputs": [
    {
     "data": {
      "text/plain": [
       "lookup_tid (generic function with 2 methods)"
      ]
     },
     "execution_count": 11,
     "metadata": {},
     "output_type": "execute_result"
    }
   ],
   "source": [
    "tid_to_tidx = Dict(id => i for (i, id) in enumerate(taxa[!, :id]))\n",
    "\n",
    "taxon_index(tid::Integer) = tid_to_tidx[tid]\n",
    "taxon_index(tids::AbstractVector{<:Integer}) = taxon_index.(tids)\n",
    "\n",
    "lookup_tid(tid, cols=:) = taxa[taxon_index(tid), cols]"
   ]
  },
  {
   "cell_type": "markdown",
   "id": "45e9f95f",
   "metadata": {},
   "source": [
    "### Distances"
   ]
  },
  {
   "cell_type": "raw",
   "id": "8ee8214a",
   "metadata": {},
   "source": [
    "pw_data = Mmap.mmap(open(infiles[:distances]), Vector{Float32}, (npairs(ngenomes),));\n",
    "\n",
    "pw_dists = TriMatrix(TriSymmetric{false}(), ngenomes, pw_data);"
   ]
  },
  {
   "cell_type": "markdown",
   "id": "f0b78f61",
   "metadata": {},
   "source": [
    "### Overlaps"
   ]
  },
  {
   "cell_type": "code",
   "execution_count": 12,
   "id": "3b70dd60",
   "metadata": {},
   "outputs": [],
   "source": [
    "overlaps = let\n",
    "    data = open(JSON.parse, infiles[:overlaps] / \"overlaps.json\")\n",
    "    \n",
    "    map(data) do item\n",
    "        item[\"src_taxid\"] => collect(zip(item[\"src_leaf_taxids\"], item[\"dst_leaf_taxids\"], item[\"distances\"]))\n",
    "    end |> Dict\n",
    "end\n",
    "\n",
    "taxa[!, :noverlaps] = [haskey(overlaps, id) ? length(overlaps[id]) : 0 for id in taxa[!, :id]]\n",
    "taxa[!, :has_overlaps] = map(>(0), taxa.noverlaps)\n",
    ";"
   ]
  },
  {
   "cell_type": "markdown",
   "id": "29325bdb",
   "metadata": {},
   "source": [
    "### Leaf data"
   ]
  },
  {
   "cell_type": "code",
   "execution_count": 13,
   "id": "1181bae6",
   "metadata": {},
   "outputs": [],
   "source": [
    "h5open(string(infiles[:data] / \"leaf-data.h5\"), \"r\") do f\n",
    "    global leaf_tidxs = read(f, \"idxs\")\n",
    "    global leaf_pw_min_dists = read(f, \"pw_min_dists\")\n",
    "    global leaf_pw_max_dists = read(f, \"pw_max_dists\")\n",
    "    global leaf_pw_mean_dists = read(f, \"pw_mean_dists\")\n",
    "end;"
   ]
  },
  {
   "cell_type": "code",
   "execution_count": 14,
   "id": "200af727",
   "metadata": {},
   "outputs": [],
   "source": [
    "leaf_tids = taxa[leaf_tidxs, :id]\n",
    "leaf_id_to_index = Dict(id => i for (i, id) in enumerate(leaf_tids))\n",
    "nleaves = length(leaf_tidxs)\n",
    ";"
   ]
  },
  {
   "cell_type": "markdown",
   "id": "2a745140",
   "metadata": {},
   "source": [
    "# Plots"
   ]
  },
  {
   "cell_type": "code",
   "execution_count": 15,
   "id": "23f30e69",
   "metadata": {},
   "outputs": [
    {
     "data": {
      "text/plain": [
       "subplot_title (generic function with 1 method)"
      ]
     },
     "execution_count": 15,
     "metadata": {},
     "output_type": "execute_result"
    }
   ],
   "source": [
    "function subplot_title(text, xaxis, yaxis; kw...)\n",
    "    left, right = xaxis[:domain]\n",
    "    bottom, top = yaxis[:domain]\n",
    "        \n",
    "    annotation = attr(\n",
    "        text=text,\n",
    "        xref=:paper,\n",
    "        x=(right + left) / 2,\n",
    "        xanchor=:center,\n",
    "        yref=:paper,\n",
    "        y=top,\n",
    "        yanchor=:bottom,\n",
    "        showarrow=false,\n",
    "    )\n",
    "    \n",
    "    !isempty(kw) && merge!(annotation, attr(; kw...))\n",
    "    \n",
    "    return annotation\n",
    "end"
   ]
  },
  {
   "cell_type": "code",
   "execution_count": 16,
   "id": "8766fe46",
   "metadata": {},
   "outputs": [],
   "source": [
    "let\n",
    "    to_plot = [taxon.id for taxon in eachrow(taxa) if taxon.has_overlaps && taxon.nleaves > 2]\n",
    "    \n",
    "    ncells = length(to_plot)\n",
    "    ncol = 6\n",
    "    nrow = round(Int, ncells//ncol, RoundUp)\n",
    "    \n",
    "    cellsize = (250, 250)\n",
    "    \n",
    "    ga = GridAxes(\n",
    "        nrow,\n",
    "        ncol,\n",
    "        xbase=attr(\n",
    "            visible=false,\n",
    "        ),\n",
    "        ybase=attr(\n",
    "            visible=false,\n",
    "        ),\n",
    "#         xsep=.1 / ncol,\n",
    "        xsep=0,\n",
    "        ysep=.2 / nrow,\n",
    "    )\n",
    "    \n",
    "    traces = GenericTrace[]\n",
    "    annotations = Any[]\n",
    "    \n",
    "    for (tid, gi) in zip(to_plot, CartesianIndices((nrow, ncol)))\n",
    "        taxon = lookup_tid(tid)\n",
    "\n",
    "        # Distance matrix\n",
    "        dmat = leaf_pw_max_dists[taxon.leaf_idxs, taxon.leaf_idxs]\n",
    "        \n",
    "        zmin, zmax = extrema(v for (idx, v) in pairs(IndexCartesian(), dmat) if idx[1] != idx[2])\n",
    "        \n",
    "        leaf_perm = Clustering.hclust(dmat, linkage=:complete).order\n",
    "        leaf_labels = [lookup_tid(id, :plot_label) for id in taxon.leaves]\n",
    "\n",
    "        # Heatmap\n",
    "        hm = heatmap(\n",
    "            z=dmat[leaf_perm, leaf_perm],\n",
    "            x=leaf_labels[leaf_perm],\n",
    "            y=leaf_labels[leaf_perm],\n",
    "            colorscale=\"Viridis\",\n",
    "            showscale=false,\n",
    "            zmin=zmin,\n",
    "            zmax=zmax,\n",
    "        )\n",
    "        setaxes!(hm, ga, gi)\n",
    "        push!(traces, hm)\n",
    "        \n",
    "        # Dots\n",
    "        dots = scatter(\n",
    "            mode=:markers,\n",
    "            marker_color=:red,\n",
    "            marker_size=max(1, round(Int, 6 * min(1, 5 / taxon.nleaves))),\n",
    "            hoverinfo=:skip,\n",
    "        )\n",
    "        vector_attrs!(dots, findall(>=(taxon.min_inter_dist), dmat)) do idx\n",
    "            Dict(\n",
    "                :x => leaf_labels[idx[1]],\n",
    "                :y => leaf_labels[idx[2]],\n",
    "            )\n",
    "        end\n",
    "        setaxes!(dots, ga, gi)\n",
    "        push!(traces, dots)\n",
    "        \n",
    "        # X axis\n",
    "        xax = ga.xaxes_grid[gi]\n",
    "        xax[:scaleanchor] = axisname(:y, ga.yindices[gi])\n",
    "        \n",
    "        # Y axis\n",
    "        yax = ga.yaxes_grid[gi]\n",
    "        \n",
    "        # Title\n",
    "        push!(annotations, subplot_title(taxon.plot_label, xax, yax))\n",
    "    end\n",
    "    \n",
    "    layout = Layout(\n",
    "        annotations=annotations,\n",
    "        width=ncol * cellsize[1],\n",
    "        height=nrow * cellsize[2],\n",
    "        showlegend=false,\n",
    "    )\n",
    "    setaxes!(layout, ga)\n",
    "    \n",
    "    plt = plot(traces, layout)\n",
    "    \n",
    "    savehtml(plt, string(reports_out / \"$DATESTR-overlap-pw-heatmaps.html\"), :remote)\n",
    "end"
   ]
  }
 ],
 "metadata": {
  "kernelspec": {
   "display_name": "Julia 1.5.1",
   "language": "julia",
   "name": "julia-1.5"
  },
  "language_info": {
   "file_extension": ".jl",
   "mimetype": "application/julia",
   "name": "julia",
   "version": "1.5.1"
  }
 },
 "nbformat": 4,
 "nbformat_minor": 5
}
