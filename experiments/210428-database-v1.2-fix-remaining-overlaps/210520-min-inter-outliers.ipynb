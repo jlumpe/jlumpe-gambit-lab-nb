{
 "cells": [
  {
   "cell_type": "markdown",
   "id": "4e15c383",
   "metadata": {},
   "source": [
    "# 210520 Min inter outliers"
   ]
  },
  {
   "cell_type": "code",
   "execution_count": 1,
   "id": "9486e2d1",
   "metadata": {},
   "outputs": [],
   "source": [
    "using Mmap\n",
    "using Statistics"
   ]
  },
  {
   "cell_type": "code",
   "execution_count": 2,
   "id": "069ce496",
   "metadata": {},
   "outputs": [
    {
     "data": {
      "text/html": [
       "<script>\n",
       "// Immediately-invoked-function-expression to avoid global variables.\n",
       "(function() {\n",
       "    var warning_div = document.getElementById(\"webio-warning-18096987105253360060\");\n",
       "    var hide = function () {\n",
       "        var script = document.getElementById(\"webio-setup-2483372020769028995\");\n",
       "        var parent = script && script.parentElement;\n",
       "        var grandparent = parent && parent.parentElement;\n",
       "        if (grandparent) {\n",
       "            grandparent.style.display = \"none\";\n",
       "        }\n",
       "        warning_div.style.display = \"none\";\n",
       "    };\n",
       "    if (typeof Jupyter !== \"undefined\") {\n",
       "        console.log(\"WebIO detected Jupyter notebook environment.\");\n",
       "        // Jupyter notebook.\n",
       "        var extensions = (\n",
       "            Jupyter\n",
       "            && Jupyter.notebook.config.data\n",
       "            && Jupyter.notebook.config.data.load_extensions\n",
       "        );\n",
       "        if (extensions && extensions[\"webio-jupyter-notebook\"]) {\n",
       "            // Extension already loaded.\n",
       "            console.log(\"Jupyter WebIO nbextension detected; not loading ad-hoc.\");\n",
       "            hide();\n",
       "            return;\n",
       "        }\n",
       "    } else if (window.location.pathname.includes(\"/lab\")) {\n",
       "        // Guessing JupyterLa\n",
       "        console.log(\"Jupyter Lab detected; make sure the @webio/jupyter-lab-provider labextension is installed.\");\n",
       "        hide();\n",
       "        return;\n",
       "    }\n",
       "})();\n",
       "\n",
       "</script>\n",
       "<p\n",
       "    id=\"webio-warning-18096987105253360060\"\n",
       "    class=\"output_text output_stderr\"\n",
       "    style=\"padding: 1em; font-weight: bold;\"\n",
       ">\n",
       "    Unable to load WebIO. Please make sure WebIO works for your Jupyter client.\n",
       "    For troubleshooting, please see <a href=\"https://juliagizmos.github.io/WebIO.jl/latest/providers/ijulia/\">\n",
       "    the WebIO/IJulia documentation</a>.\n",
       "    <!-- TODO: link to installation docs. -->\n",
       "</p>\n"
      ],
      "text/plain": [
       "HTML{String}(\"<script>\\n// Immediately-invoked-function-expression to avoid global variables.\\n(function() {\\n    var warning_div = document.getElementById(\\\"webio-warning-18096987105253360060\\\");\\n    var hide = function () {\\n        var script = document.getElementById(\\\"webio-setup-2483372020769028995\\\");\\n        var parent = script && script.parentElement;\\n        var grandparent = parent && parent.parentElement;\\n        if (grandparent) {\\n            grandparent.style.display = \\\"none\\\";\\n        }\\n        warning_div.style.display = \\\"none\\\";\\n    };\\n    if (typeof Jupyter !== \\\"undefined\\\") {\\n        console.log(\\\"WebIO detected Jupyter notebook environment.\\\");\\n        // Jupyter notebook.\\n        var extensions = (\\n            Jupyter\\n            && Jupyter.notebook.config.data\\n            && Jupyter.notebook.config.data.load_extensions\\n        );\\n        if (extensions && extensions[\\\"webio-jupyter-notebook\\\"]) {\\n            // Extension already loaded.\\n            console.log(\\\"Jupyter WebIO nbextension detected; not loading ad-hoc.\\\");\\n            hide();\\n            return;\\n        }\\n    } else if (window.location.pathname.includes(\\\"/lab\\\")) {\\n        // Guessing JupyterLa\\n        console.log(\\\"Jupyter Lab detected; make sure the @webio/jupyter-lab-provider labextension is installed.\\\");\\n        hide();\\n        return;\\n    }\\n})();\\n\\n</script>\\n<p\\n    id=\\\"webio-warning-18096987105253360060\\\"\\n    class=\\\"output_text output_stderr\\\"\\n    style=\\\"padding: 1em; font-weight: bold;\\\"\\n>\\n    Unable to load WebIO. Please make sure WebIO works for your Jupyter client.\\n    For troubleshooting, please see <a href=\\\"https://juliagizmos.github.io/WebIO.jl/latest/providers/ijulia/\\\">\\n    the WebIO/IJulia documentation</a>.\\n    <!-- TODO: link to installation docs. -->\\n</p>\\n\")"
      ]
     },
     "metadata": {},
     "output_type": "display_data"
    }
   ],
   "source": [
    "using JSON\n",
    "using DataFrames\n",
    "using FilePathsBase\n",
    "using FilePathsBase: /\n",
    "using ProgressMeter\n",
    "using Arrow\n",
    "using HDF5\n",
    "using PlotlyJS"
   ]
  },
  {
   "cell_type": "code",
   "execution_count": 3,
   "id": "1af4d0d2",
   "metadata": {},
   "outputs": [],
   "source": [
    "using Midas.Pairwise: npairs, iterpairs\n",
    "using TriMatrices\n",
    "using MidasPlots.Plotly: vector_attrs!, axisname, setaxes!"
   ]
  },
  {
   "cell_type": "markdown",
   "id": "35363549",
   "metadata": {},
   "source": [
    "## Plotting code"
   ]
  },
  {
   "cell_type": "code",
   "execution_count": 4,
   "id": "78079602",
   "metadata": {},
   "outputs": [],
   "source": [
    "include(\"src/GridAxes.jl\")\n",
    "using .GridAxesModule"
   ]
  },
  {
   "cell_type": "code",
   "execution_count": 5,
   "id": "5dac6f20",
   "metadata": {},
   "outputs": [
    {
     "data": {
      "text/plain": [
       "itercells (generic function with 1 method)"
      ]
     },
     "execution_count": 5,
     "metadata": {},
     "output_type": "execute_result"
    }
   ],
   "source": [
    "itercells(ga::GridAxes) = ((r, c) for r in ga.nrow:-1:1 for c in 1:ga.ncol)"
   ]
  },
  {
   "cell_type": "code",
   "execution_count": 6,
   "id": "0379aeb8",
   "metadata": {},
   "outputs": [
    {
     "data": {
      "text/plain": [
       "subplot_title (generic function with 1 method)"
      ]
     },
     "execution_count": 6,
     "metadata": {},
     "output_type": "execute_result"
    }
   ],
   "source": [
    "function subplot_title(text, xaxis, yaxis; kw...)\n",
    "    left, right = xaxis[:domain]\n",
    "    bottom, top = yaxis[:domain]\n",
    "        \n",
    "    annotation = attr(\n",
    "        text=text,\n",
    "        xref=:paper,\n",
    "        x=(right + left) / 2,\n",
    "        xanchor=:center,\n",
    "        yref=:paper,\n",
    "        y=top,\n",
    "        yanchor=:bottom,\n",
    "        showarrow=false,\n",
    "    )\n",
    "    \n",
    "    !isempty(kw) && merge!(annotation, attr(; kw...))\n",
    "    \n",
    "    return annotation\n",
    "end"
   ]
  },
  {
   "cell_type": "code",
   "execution_count": 7,
   "id": "aec4a518",
   "metadata": {},
   "outputs": [
    {
     "data": {
      "text/plain": [
       "groupby (generic function with 1 method)"
      ]
     },
     "execution_count": 7,
     "metadata": {},
     "output_type": "execute_result"
    }
   ],
   "source": [
    "function groupby(by::Function, itr)\n",
    "    values = itr isa AbstractArray ? itr : collect(itr)\n",
    "    keys = [by(v) for v in values]\n",
    "    \n",
    "    V = eltype(values)\n",
    "    d = Dict{eltype(keys), Vector{V}}()\n",
    "    \n",
    "    for (k, v) in zip(keys, values)\n",
    "        a = get!(() -> V[], d, k)\n",
    "        push!(a, v)\n",
    "    end\n",
    "    \n",
    "    return d\n",
    "end"
   ]
  },
  {
   "cell_type": "markdown",
   "id": "62c79eac",
   "metadata": {},
   "source": [
    "## Setup"
   ]
  },
  {
   "cell_type": "code",
   "execution_count": 8,
   "id": "f2423af8",
   "metadata": {},
   "outputs": [
    {
     "data": {
      "text/plain": [
       "400"
      ]
     },
     "execution_count": 8,
     "metadata": {},
     "output_type": "execute_result"
    }
   ],
   "source": [
    "ENV[\"COLUMNS\"] = 400"
   ]
  },
  {
   "cell_type": "code",
   "execution_count": 9,
   "id": "21666282",
   "metadata": {},
   "outputs": [
    {
     "data": {
      "text/plain": [
       "\"210520-min-inter-outliers\""
      ]
     },
     "execution_count": 9,
     "metadata": {},
     "output_type": "execute_result"
    }
   ],
   "source": [
    "DATESTR = \"210520\"\n",
    "NBNAME = \"$DATESTR-min-inter-outliers\""
   ]
  },
  {
   "cell_type": "code",
   "execution_count": 10,
   "id": "1804a083",
   "metadata": {},
   "outputs": [],
   "source": [
    "infiles = Dict(\n",
    "    :distances => p\"../../data/intermediate/200727-find-overlaps/genome-pw-distances.raw-float32\",\n",
    "    :db => p\"../../data/intermediate/210401-database-v2-fix-species-overlaps/210424-compile-fixes/\",\n",
    "    :overlaps => p\"data-intermediate/210428-find-remaining-overlaps/\",\n",
    "    :data => p\"data-intermediate/210511-extra-overlap-data/\",\n",
    ");"
   ]
  },
  {
   "cell_type": "code",
   "execution_count": 11,
   "id": "ac024e55",
   "metadata": {},
   "outputs": [],
   "source": [
    "reports_out = p\"reports\" / NBNAME\n",
    "isdir(reports_out) || mkdir(reports_out);"
   ]
  },
  {
   "cell_type": "markdown",
   "id": "a89e7f5f",
   "metadata": {},
   "source": [
    "## Load data"
   ]
  },
  {
   "cell_type": "markdown",
   "id": "19af7714",
   "metadata": {},
   "source": [
    "### Database"
   ]
  },
  {
   "cell_type": "code",
   "execution_count": 12,
   "id": "83278d11",
   "metadata": {},
   "outputs": [],
   "source": [
    "taxa = DataFrame(Arrow.Table(string(infiles[:data] / \"taxa.arrow\")));"
   ]
  },
  {
   "cell_type": "code",
   "execution_count": 13,
   "id": "702ebac3",
   "metadata": {},
   "outputs": [
    {
     "data": {
      "text/plain": [
       "50752"
      ]
     },
     "execution_count": 13,
     "metadata": {},
     "output_type": "execute_result"
    }
   ],
   "source": [
    "genome_assignments = Vector{Int}(open(JSON.parse, infiles[:db] / \"genome-taxon-assignments.json\"))\n",
    "ngenomes = length(genome_assignments)"
   ]
  },
  {
   "cell_type": "code",
   "execution_count": 14,
   "id": "fc9e8b7b",
   "metadata": {},
   "outputs": [
    {
     "data": {
      "text/plain": [
       "lookup_tid (generic function with 2 methods)"
      ]
     },
     "execution_count": 14,
     "metadata": {},
     "output_type": "execute_result"
    }
   ],
   "source": [
    "tid_to_tidx = Dict(id => i for (i, id) in enumerate(taxa[!, :id]))\n",
    "\n",
    "taxon_index(tid::Integer) = tid_to_tidx[tid]\n",
    "taxon_index(tids::AbstractVector{<:Integer}) = taxon_index.(tids)\n",
    "\n",
    "lookup_tid(tid, cols=:) = taxa[taxon_index(tid), cols]"
   ]
  },
  {
   "cell_type": "markdown",
   "id": "f041f702",
   "metadata": {},
   "source": [
    "### Distances"
   ]
  },
  {
   "cell_type": "code",
   "execution_count": 15,
   "id": "84063d09",
   "metadata": {},
   "outputs": [],
   "source": [
    "pw_data = Mmap.mmap(open(infiles[:distances]), Vector{Float32}, (npairs(ngenomes),));\n",
    "\n",
    "pw_dists = TriMatrix(TriSymmetric{false}(), ngenomes, pw_data);"
   ]
  },
  {
   "cell_type": "markdown",
   "id": "3ba6e87e",
   "metadata": {},
   "source": [
    "### Overlaps"
   ]
  },
  {
   "cell_type": "code",
   "execution_count": 16,
   "id": "b6b4abad",
   "metadata": {},
   "outputs": [],
   "source": [
    "overlaps = let\n",
    "    data = open(JSON.parse, infiles[:overlaps] / \"overlaps.json\")\n",
    "    \n",
    "    map(data) do item\n",
    "        item[\"src_taxid\"] => collect(zip(item[\"src_leaf_taxids\"], item[\"dst_leaf_taxids\"], item[\"distances\"]))\n",
    "    end |> Dict\n",
    "end\n",
    "\n",
    "taxa[!, :noverlaps] = [haskey(overlaps, id) ? length(overlaps[id]) : 0 for id in taxa[!, :id]]\n",
    "taxa[!, :has_overlaps] = map(>(0), taxa.noverlaps)\n",
    ";"
   ]
  },
  {
   "cell_type": "markdown",
   "id": "811aa7ba",
   "metadata": {},
   "source": [
    "### Leaf data"
   ]
  },
  {
   "cell_type": "code",
   "execution_count": 17,
   "id": "fd9714f9",
   "metadata": {},
   "outputs": [],
   "source": [
    "h5open(string(infiles[:data] / \"leaf-data.h5\"), \"r\") do f\n",
    "    global leaf_tidxs = read(f, \"idxs\")\n",
    "    global leaf_pw_min_dists = read(f, \"pw_min_dists\")\n",
    "    global leaf_pw_max_dists = read(f, \"pw_max_dists\")\n",
    "    global leaf_pw_mean_dists = read(f, \"pw_mean_dists\")\n",
    "end;"
   ]
  },
  {
   "cell_type": "code",
   "execution_count": 18,
   "id": "37d31b7d",
   "metadata": {},
   "outputs": [],
   "source": [
    "leaf_tids = taxa[leaf_tidxs, :id]\n",
    "leaf_id_to_index = Dict(id => i for (i, id) in enumerate(leaf_tids))\n",
    "nleaves = length(leaf_tidxs)\n",
    ";"
   ]
  },
  {
   "cell_type": "markdown",
   "id": "59c52064",
   "metadata": {},
   "source": [
    "## Calculations"
   ]
  },
  {
   "cell_type": "code",
   "execution_count": 19,
   "id": "bfe86d99",
   "metadata": {},
   "outputs": [
    {
     "name": "stderr",
     "output_type": "stream",
     "text": [
      "\u001b[32mProgress: 100%|█████████████████████████████████████████| Time: 0:00:22\u001b[39m\n"
     ]
    }
   ],
   "source": [
    "quantiles = let\n",
    "    p_base = LinRange(0., 1., 101)\n",
    "\n",
    "    @showprogress map(collect(keys(overlaps))) do id\n",
    "        taxon = lookup_tid(id)\n",
    "        vals = reshape(view(pw_dists, taxon.genomes, taxon.genomes), :)\n",
    "        q = quantile(vals, p_base)\n",
    "        i = searchsortedlast(q, taxon.min_inter_dist)\n",
    "        id => (p_base[i:end], q[i:end])\n",
    "    end |> Dict\n",
    "end;"
   ]
  },
  {
   "cell_type": "code",
   "execution_count": 20,
   "id": "d12b3554",
   "metadata": {},
   "outputs": [],
   "source": [
    "overlap_groups_by_src = map(collect(overlaps)) do (id, triplets)\n",
    "    dict1 = Dict{Int, Dict{Int, Float32}}()\n",
    "    \n",
    "    for (src, dst, d) in triplets\n",
    "        dict2 = get!(dict1, src, Dict{Int, Float32}())\n",
    "        dict2[dst] = d\n",
    "    end\n",
    "\n",
    "    id => dict1\n",
    "end |> Dict;"
   ]
  },
  {
   "cell_type": "code",
   "execution_count": 21,
   "id": "d257d0a4",
   "metadata": {},
   "outputs": [],
   "source": [
    "overlap_groups_by_dst = map(collect(overlaps)) do (id, triplets)\n",
    "    dict1 = Dict{Int, Dict{Int, Float32}}()\n",
    "    \n",
    "    for (src, dst, d) in triplets\n",
    "        dict2 = get!(dict1, dst, Dict{Int, Float32}())\n",
    "        dict2[src] = d\n",
    "    end\n",
    "\n",
    "    id => dict1\n",
    "end |> Dict;"
   ]
  },
  {
   "cell_type": "markdown",
   "id": "a11d836c",
   "metadata": {},
   "source": [
    "## Plots"
   ]
  },
  {
   "cell_type": "markdown",
   "id": "1548494b",
   "metadata": {},
   "source": [
    "### By src"
   ]
  },
  {
   "cell_type": "code",
   "execution_count": 22,
   "id": "628525c5",
   "metadata": {},
   "outputs": [],
   "source": [
    "by_src_data = let\n",
    "    max_genomes = 30\n",
    "    \n",
    "    map(collect(overlap_groups_by_src)) do (id, group)\n",
    "        \n",
    "        items = Tuple{Int, Int, Float32}[]\n",
    "        \n",
    "        for (src_id, dict) in group\n",
    "            dst_genomes = collect(Iterators.flatten(lookup_tid(dst, :genomes) for dst in keys(dict)))\n",
    "            for g in lookup_tid(src_id, :genomes)\n",
    "                d = minimum(view(pw_dists, g, dst_genomes))\n",
    "                push!(items, (src_id, g, d))\n",
    "            end\n",
    "        end\n",
    "        \n",
    "        sort!(items, by=last)\n",
    "        length(items) > max_genomes && resize!(items, max_genomes)\n",
    "\n",
    "        id => items\n",
    "    end |> Dict\n",
    "end;"
   ]
  },
  {
   "cell_type": "code",
   "execution_count": 23,
   "id": "76f1d07e",
   "metadata": {},
   "outputs": [],
   "source": [
    "let\n",
    "    # Taxa to plot\n",
    "    to_plot = collect(keys(overlaps))\n",
    "    sort!(to_plot)\n",
    "    \n",
    "    # Grid\n",
    "    ncells = length(to_plot)\n",
    "    ncol = 4\n",
    "    nrow = round(Int, ncells//ncol, RoundUp)\n",
    "    cellwidth = 400\n",
    "    cellheight = 300\n",
    "    \n",
    "    ga = GridAxes(\n",
    "        nrow,\n",
    "        ncol,\n",
    "        sharex=true,\n",
    "        xbase=attr(\n",
    "            visible=false,\n",
    "        ),\n",
    "        ybase=attr(\n",
    "            zeroline=false,\n",
    "            showspikes=true,\n",
    "            spikethickness=1,\n",
    "            spikemode=\"taxis+across\",\n",
    "        ),\n",
    "        xsep=.25 / ncol,\n",
    "        ysep=.1 / nrow,\n",
    "    )\n",
    "    \n",
    "    # Traces\n",
    "    traces = GenericTrace[]\n",
    "    annotations = []\n",
    "    \n",
    "    for (id, (gr, gc)) in zip(to_plot, itercells(ga))\n",
    "        taxon = lookup_tid(id)\n",
    "        data = by_src_data[id]\n",
    "        \n",
    "        data_gb = collect(groupby(first, data))\n",
    "        sort!(data_gb, by=p -> minimum(last.(p[2])))\n",
    "        \n",
    "        # Quantile trace\n",
    "        let (p, q) = quantiles[id]\n",
    "            trace = scatter(\n",
    "                x=p,\n",
    "                y=q,\n",
    "                mode=:lines,\n",
    "                line_color=\"lightgray\",\n",
    "                fill=:tozerox,\n",
    "                hoverinfo=\"x+y\",\n",
    "            )\n",
    "            setaxes!(trace, ga, gr, gc)\n",
    "            push!(traces, trace)\n",
    "        end\n",
    "        \n",
    "        # Diameter trace\n",
    "        let\n",
    "            trace = scatter(\n",
    "                x=[0, 1],\n",
    "                y=[taxon.diameter, taxon.diameter],\n",
    "                mode=:lines,\n",
    "                line_dash=:dash,\n",
    "                line_color=:red,\n",
    "                hoverinfo=:skip,\n",
    "            )\n",
    "            setaxes!(trace, ga, gr, gc)\n",
    "            push!(traces, trace)\n",
    "        end\n",
    "        \n",
    "        # Distance traces\n",
    "        x0 = 0\n",
    "        for (src_id, items) in data_gb\n",
    "            src_ng = lookup_tid(src_id, :ngenomes)\n",
    "            ii = 1:length(items)\n",
    "            \n",
    "            trace = scatter(\n",
    "                name=lookup_tid(src_id, :plot_label),\n",
    "                x=(x0 .+ ii) ./ (length(data) + 1),\n",
    "                y=last.(items),\n",
    "                text=[g for (src, g, d) in items],\n",
    "                marker_symbol=[src_ng - i >= 2 ? :circle : :x for i in ii],\n",
    "                mode=\"lines+markers\",\n",
    "                hoverinfo=\"y+text+name\",\n",
    "            )\n",
    "            setaxes!(trace, ga, gr, gc)\n",
    "            push!(traces, trace)\n",
    "            x0 += length(items)\n",
    "        end\n",
    "\n",
    "        # Title\n",
    "        push!(annotations, subplot_title(\n",
    "            taxon.plot_label,\n",
    "            ga.xaxes_grid[gr, gc],\n",
    "            ga.yaxes_grid[gr, gc],\n",
    "        ))\n",
    "    end\n",
    "    \n",
    "    # Layout\n",
    "    layout = Layout(\n",
    "        annotations=annotations,\n",
    "        showlegend=false,\n",
    "        width=cellwidth * ncol,\n",
    "        height=cellheight * nrow,\n",
    "        hovermode=:closest,\n",
    "    )\n",
    "    setaxes!(layout, ga)\n",
    "    \n",
    "    # Save\n",
    "    plt = plot(traces, layout)\n",
    "    \n",
    "    savehtml(plt, string(reports_out / \"$DATESTR-min-inter-outliers-by-src.html\"), :remote)\n",
    "end"
   ]
  },
  {
   "cell_type": "markdown",
   "id": "ad645ecc",
   "metadata": {},
   "source": [
    "### By dst"
   ]
  },
  {
   "cell_type": "code",
   "execution_count": 24,
   "id": "3b843600",
   "metadata": {},
   "outputs": [],
   "source": [
    "by_dst_data = let\n",
    "    max_genomes = 30\n",
    "    \n",
    "    map(collect(overlap_groups_by_dst)) do (id, group)\n",
    "        taxon = lookup_tid(id)\n",
    "        \n",
    "        items = Tuple{Int, Int, Float32}[]\n",
    "        \n",
    "        for (dst_id, dict) in group\n",
    "            for g in lookup_tid(dst_id, :genomes)\n",
    "                d = minimum(view(pw_dists, g, taxon.genomes))\n",
    "                push!(items, (dst_id, g, d))\n",
    "            end\n",
    "        end\n",
    "        \n",
    "        sort!(items, by=last)\n",
    "        length(items) > max_genomes && resize!(items, max_genomes)\n",
    "\n",
    "        id => items\n",
    "    end |> Dict\n",
    "end;"
   ]
  },
  {
   "cell_type": "code",
   "execution_count": 25,
   "id": "e5aed647",
   "metadata": {},
   "outputs": [],
   "source": [
    "let\n",
    "    # Taxa to plot\n",
    "    to_plot = collect(keys(overlaps))\n",
    "    sort!(to_plot)\n",
    "    \n",
    "    # Grid\n",
    "    ncells = length(to_plot)\n",
    "    ncol = 4\n",
    "    nrow = round(Int, ncells//ncol, RoundUp)\n",
    "    cellwidth = 400\n",
    "    cellheight = 300\n",
    "    \n",
    "    ga = GridAxes(\n",
    "        nrow,\n",
    "        ncol,\n",
    "        sharex=true,\n",
    "        xbase=attr(\n",
    "            visible=false,\n",
    "        ),\n",
    "        ybase=attr(\n",
    "            zeroline=false,\n",
    "            showspikes=true,\n",
    "            spikethickness=1,\n",
    "            spikemode=\"taxis+across\",\n",
    "        ),\n",
    "        xsep=.25 / ncol,\n",
    "        ysep=.1 / nrow,\n",
    "    )\n",
    "    \n",
    "    # Traces\n",
    "    traces = GenericTrace[]\n",
    "    annotations = []\n",
    "    \n",
    "    for (id, (gr, gc)) in zip(to_plot, itercells(ga))\n",
    "        taxon = lookup_tid(id)\n",
    "        data = by_dst_data[id]\n",
    "        \n",
    "        data_gb = collect(groupby(first, data))\n",
    "        sort!(data_gb, by=p -> minimum(last.(p[2])))\n",
    "        \n",
    "        # Quantile trace\n",
    "        let (p, q) = quantiles[id]\n",
    "            trace = scatter(\n",
    "                x=p,\n",
    "                y=q,\n",
    "                mode=:lines,\n",
    "                line_color=\"lightgray\",\n",
    "                fill=:tozerox,\n",
    "                hoverinfo=\"x+y\",\n",
    "            )\n",
    "            setaxes!(trace, ga, gr, gc)\n",
    "            push!(traces, trace)\n",
    "        end\n",
    "        \n",
    "        # Diameter trace\n",
    "        let\n",
    "            trace = scatter(\n",
    "                x=[0, 1],\n",
    "                y=[taxon.diameter, taxon.diameter],\n",
    "                mode=:lines,\n",
    "                line_dash=:dash,\n",
    "                line_color=:red,\n",
    "                hoverinfo=:skip,\n",
    "            )\n",
    "            setaxes!(trace, ga, gr, gc)\n",
    "            push!(traces, trace)\n",
    "        end\n",
    "        \n",
    "        # Distance traces\n",
    "        x0 = 0\n",
    "        for (dst_id, items) in data_gb\n",
    "            dst_ng = lookup_tid(dst_id, :ngenomes)\n",
    "            ii = 1:length(items)\n",
    "            \n",
    "            trace = scatter(\n",
    "                name=lookup_tid(dst_id, :plot_label),\n",
    "                x=(x0 .+ ii) ./ (length(data) + 1),\n",
    "                y=last.(items),\n",
    "                text=[g for (dst, g, d) in items],\n",
    "                marker_symbol=[dst_ng - i >= 2 ? :circle : :x for i in ii],\n",
    "                mode=\"lines+markers\",\n",
    "                hoverinfo=\"y+text+name\",\n",
    "            )\n",
    "            setaxes!(trace, ga, gr, gc)\n",
    "            push!(traces, trace)\n",
    "            x0 += length(items)\n",
    "        end\n",
    "\n",
    "        # Title\n",
    "        push!(annotations, subplot_title(\n",
    "            taxon.plot_label,\n",
    "            ga.xaxes_grid[gr, gc],\n",
    "            ga.yaxes_grid[gr, gc],\n",
    "        ))\n",
    "    end\n",
    "    \n",
    "    # Layout\n",
    "    layout = Layout(\n",
    "        annotations=annotations,\n",
    "        showlegend=false,\n",
    "        width=cellwidth * ncol,\n",
    "        height=cellheight * nrow,\n",
    "        hovermode=:closest,\n",
    "    )\n",
    "    setaxes!(layout, ga)\n",
    "    \n",
    "    # Save\n",
    "    plt = plot(traces, layout)\n",
    "    \n",
    "    savehtml(plt, string(reports_out / \"$DATESTR-min-inter-outliers-by-dst.html\"), :remote)\n",
    "end"
   ]
  }
 ],
 "metadata": {
  "kernelspec": {
   "display_name": "Julia 1.5.1",
   "language": "julia",
   "name": "julia-1.5"
  },
  "language_info": {
   "file_extension": ".jl",
   "mimetype": "application/julia",
   "name": "julia",
   "version": "1.5.1"
  }
 },
 "nbformat": 4,
 "nbformat_minor": 5
}
