{
 "cells": [
  {
   "cell_type": "markdown",
   "id": "d3a72a0c",
   "metadata": {},
   "source": [
    "# 210511 Extra overlap data"
   ]
  },
  {
   "cell_type": "code",
   "execution_count": 1,
   "id": "ea16fff5",
   "metadata": {},
   "outputs": [],
   "source": [
    "using Mmap\n",
    "using Printf\n",
    "using Statistics"
   ]
  },
  {
   "cell_type": "code",
   "execution_count": 2,
   "id": "c56d7985",
   "metadata": {},
   "outputs": [],
   "source": [
    "using JSON\n",
    "using CSV\n",
    "using DataFrames\n",
    "using FilePathsBase\n",
    "using FilePathsBase: /\n",
    "using ProgressMeter\n",
    "using Clustering\n",
    "using Arrow\n",
    "using HDF5"
   ]
  },
  {
   "cell_type": "code",
   "execution_count": 3,
   "id": "722e6f39",
   "metadata": {},
   "outputs": [],
   "source": [
    "using Midas.Pairwise: npairs, iterpairs\n",
    "using TriMatrices"
   ]
  },
  {
   "cell_type": "markdown",
   "id": "d80bed13",
   "metadata": {},
   "source": [
    "## Setup"
   ]
  },
  {
   "cell_type": "code",
   "execution_count": 4,
   "id": "3ec584fe",
   "metadata": {},
   "outputs": [
    {
     "data": {
      "text/plain": [
       "400"
      ]
     },
     "execution_count": 4,
     "metadata": {},
     "output_type": "execute_result"
    }
   ],
   "source": [
    "ENV[\"COLUMNS\"] = 400"
   ]
  },
  {
   "cell_type": "code",
   "execution_count": 5,
   "id": "c5cbd53d",
   "metadata": {},
   "outputs": [
    {
     "data": {
      "text/plain": [
       "\"210511-extra-overlap-data\""
      ]
     },
     "execution_count": 5,
     "metadata": {},
     "output_type": "execute_result"
    }
   ],
   "source": [
    "DATESTR = \"210511\"\n",
    "NBNAME = \"$DATESTR-extra-overlap-data\""
   ]
  },
  {
   "cell_type": "code",
   "execution_count": 6,
   "id": "6806a06c",
   "metadata": {},
   "outputs": [],
   "source": [
    "infiles = Dict(\n",
    "    :distances => p\"../../data/intermediate/200727-find-overlaps/genome-pw-distances.raw-float32\",\n",
    "    :db => p\"../../data/intermediate/210401-database-v2-fix-species-overlaps/210424-compile-fixes/\",\n",
    "    :overlaps => p\"data-intermediate/210428-find-remaining-overlaps/\",\n",
    ");"
   ]
  },
  {
   "cell_type": "code",
   "execution_count": 7,
   "id": "607914a4",
   "metadata": {},
   "outputs": [],
   "source": [
    "intermediate_out = p\"data-intermediate\" / NBNAME\n",
    "isdir(intermediate_out) || mkdir(intermediate_out);"
   ]
  },
  {
   "cell_type": "markdown",
   "id": "438a4213",
   "metadata": {},
   "source": [
    "## Load data"
   ]
  },
  {
   "cell_type": "markdown",
   "id": "8906b1ac",
   "metadata": {},
   "source": [
    "### Database"
   ]
  },
  {
   "cell_type": "code",
   "execution_count": 8,
   "id": "5882cd08",
   "metadata": {},
   "outputs": [],
   "source": [
    "taxa = DataFrame(CSV.File(infiles[:db] / \"taxa.csv\"));"
   ]
  },
  {
   "cell_type": "code",
   "execution_count": 9,
   "id": "94d1dc3d",
   "metadata": {},
   "outputs": [
    {
     "data": {
      "text/plain": [
       "50752"
      ]
     },
     "execution_count": 9,
     "metadata": {},
     "output_type": "execute_result"
    }
   ],
   "source": [
    "genome_assignments = Vector{Int}(open(JSON.parse, infiles[:db] / \"genome-taxon-assignments.json\"))\n",
    "ngenomes = length(genome_assignments)"
   ]
  },
  {
   "cell_type": "code",
   "execution_count": 10,
   "id": "99161f86",
   "metadata": {},
   "outputs": [
    {
     "data": {
      "text/plain": [
       "lookup_tid (generic function with 2 methods)"
      ]
     },
     "execution_count": 10,
     "metadata": {},
     "output_type": "execute_result"
    }
   ],
   "source": [
    "tid_to_tidx = Dict(id => i for (i, id) in enumerate(taxa[!, :id]))\n",
    "\n",
    "taxon_index(tid::Integer) = tid_to_tidx[tid]\n",
    "taxon_index(tids::AbstractVector{<:Integer}) = taxon_index.(tids)\n",
    "\n",
    "lookup_tid(tid, cols=:) = taxa[taxon_index(tid), cols]"
   ]
  },
  {
   "cell_type": "markdown",
   "id": "0581a8a9",
   "metadata": {},
   "source": [
    "### Distances"
   ]
  },
  {
   "cell_type": "code",
   "execution_count": 11,
   "id": "ee2eeb2c",
   "metadata": {},
   "outputs": [],
   "source": [
    "pw_data = Mmap.mmap(open(infiles[:distances]), Vector{Float32}, (npairs(ngenomes),));\n",
    "\n",
    "pw_dists = TriMatrix(TriSymmetric{false}(), ngenomes, pw_data);"
   ]
  },
  {
   "cell_type": "markdown",
   "id": "2b862f9f",
   "metadata": {},
   "source": [
    "### Overlaps"
   ]
  },
  {
   "cell_type": "code",
   "execution_count": 12,
   "id": "d186f583",
   "metadata": {},
   "outputs": [],
   "source": [
    "overlaps = let\n",
    "    data = open(JSON.parse, infiles[:overlaps] / \"overlaps.json\")\n",
    "    \n",
    "    map(data) do item\n",
    "        item[\"src_taxid\"] => collect(zip(item[\"src_leaf_taxids\"], item[\"dst_leaf_taxids\"], item[\"distances\"]))\n",
    "    end |> Dict\n",
    "end\n",
    "\n",
    "taxa[!, :noverlaps] = [haskey(overlaps, id) ? length(overlaps[id]) : 0 for id in taxa[!, :id]]\n",
    "taxa[!, :has_overlaps] = map(>(0), taxa.noverlaps)\n",
    ";"
   ]
  },
  {
   "cell_type": "code",
   "execution_count": 13,
   "id": "5b8ad33b",
   "metadata": {},
   "outputs": [],
   "source": [
    "let\n",
    "    data = open(JSON.parse, infiles[:overlaps] / \"calculated.json\")\n",
    "    data2 = Dict(item[\"id\"] => item for item in data)\n",
    "    \n",
    "    cols = [\n",
    "        (:is_root, Bool),\n",
    "        (:leaves, Vector{Int}),\n",
    "        (:genomes, Vector{Int}),\n",
    "        (:diameter, Float32),\n",
    "        (:threshold, Float32),\n",
    "        (:max_leaf_threshold, Float32),\n",
    "        (:min_inter_src, Int),\n",
    "        (:min_inter_dst, Int),\n",
    "        (:min_inter_dist, Float32),\n",
    "    ]\n",
    "    \n",
    "    for (col, T) in cols\n",
    "        taxa[!, col] = collect(T, data2[id][string(col)] for id in taxa[!, :id])\n",
    "    end\n",
    "end"
   ]
  },
  {
   "cell_type": "markdown",
   "id": "b2f10b0a",
   "metadata": {},
   "source": [
    "## Calculated"
   ]
  },
  {
   "cell_type": "code",
   "execution_count": 14,
   "id": "f7cece98",
   "metadata": {},
   "outputs": [],
   "source": [
    "taxa[!, :nleaves] = length.(taxa.leaves)\n",
    "taxa[!, :ngenomes] = length.(taxa.genomes)\n",
    "taxa[!, :plot_label] = [string(row[:id], \" \", row[:name]) for row in eachrow(taxa)];\n",
    ";"
   ]
  },
  {
   "cell_type": "markdown",
   "id": "ca846eba",
   "metadata": {},
   "source": [
    "### Leaf data"
   ]
  },
  {
   "cell_type": "code",
   "execution_count": 15,
   "id": "32fa6b54",
   "metadata": {},
   "outputs": [
    {
     "data": {
      "text/plain": [
       "1445"
      ]
     },
     "execution_count": 15,
     "metadata": {},
     "output_type": "execute_result"
    }
   ],
   "source": [
    "leaf_tidxs = findall(taxa[!, :is_leaf])\n",
    "leaf_tids = taxa[leaf_tidxs, :id]\n",
    "nleaves = length(leaf_tidxs)\n",
    "\n",
    "@assert issetequal(leaf_tids, setdiff(Set(genome_assignments), 0))\n",
    "\n",
    "leaf_id_to_index = Dict(tid => i for (i, tid) in enumerate(leaf_tids))\n",
    "taxa[!, :leaf_idxs] = [[leaf_id_to_index[id] for id in leaves] for leaves in taxa.leaves]\n",
    "leaf_gidxs = taxa[leaf_tidxs, :genomes]\n",
    "\n",
    "length(leaf_tids)"
   ]
  },
  {
   "cell_type": "code",
   "execution_count": 16,
   "id": "f5134a7b",
   "metadata": {},
   "outputs": [
    {
     "name": "stderr",
     "output_type": "stream",
     "text": [
      "\u001b[32mProgress: 100%|█████████████████████████████████████████| Time: 0:00:35\u001b[39m3:02\u001b[39m\n"
     ]
    }
   ],
   "source": [
    "leaf_pw_min_dists = zeros(eltype(pw_dists), nleaves, nleaves)\n",
    "leaf_pw_max_dists = zeros(eltype(pw_dists), nleaves, nleaves)\n",
    "leaf_pw_mean_dists = zeros(eltype(pw_dists), nleaves, nleaves)\n",
    "\n",
    "@showprogress for (i, j) in iterpairs(nleaves, true)\n",
    "    dmat = view(pw_dists, leaf_gidxs[i], leaf_gidxs[j])\n",
    "    \n",
    "    leaf_pw_min_dists[i, j] = leaf_pw_min_dists[j, i] = minimum(dmat)\n",
    "    leaf_pw_max_dists[i, j] = leaf_pw_max_dists[j, i] = maximum(dmat)\n",
    "    leaf_pw_mean_dists[i, j] = leaf_pw_mean_dists[j, i] = mean(dmat)\n",
    "end"
   ]
  },
  {
   "cell_type": "code",
   "execution_count": 17,
   "id": "ca1e52b5",
   "metadata": {},
   "outputs": [],
   "source": [
    "# Permute leaves based on dendrogram, to keep similar leaves near each other when plotting\n",
    "for taxon in eachrow(taxa)\n",
    "    length(taxon.leaves) > 1 || continue\n",
    "    \n",
    "    dmat = leaf_pw_mean_dists[taxon.leaf_idxs, taxon.leaf_idxs]\n",
    "    perm = hclust(dmat, linkage=:average).order\n",
    "    permute!(taxon.leaves, perm)\n",
    "    permute!(taxon.leaf_idxs, perm)\n",
    "end"
   ]
  },
  {
   "cell_type": "markdown",
   "id": "dcc783da",
   "metadata": {},
   "source": [
    "# Write output"
   ]
  },
  {
   "cell_type": "code",
   "execution_count": 18,
   "id": "4d1a8b9f",
   "metadata": {},
   "outputs": [
    {
     "data": {
      "text/plain": [
       "\"data-intermediate/210511-extra-overlap-data/taxa.arrow\""
      ]
     },
     "execution_count": 18,
     "metadata": {},
     "output_type": "execute_result"
    }
   ],
   "source": [
    "Arrow.write(string(intermediate_out / \"taxa.arrow\"), taxa)"
   ]
  },
  {
   "cell_type": "code",
   "execution_count": 19,
   "id": "08383ece",
   "metadata": {},
   "outputs": [],
   "source": [
    "h5open(string(intermediate_out / \"leaf-data.h5\"), \"w\") do f\n",
    "    f[\"idxs\"] = leaf_tidxs\n",
    "    f[\"pw_min_dists\"] = leaf_pw_min_dists\n",
    "    f[\"pw_max_dists\"] = leaf_pw_max_dists\n",
    "    f[\"pw_mean_dists\"] = leaf_pw_mean_dists\n",
    "end;"
   ]
  }
 ],
 "metadata": {
  "kernelspec": {
   "display_name": "Julia 1.5.1",
   "language": "julia",
   "name": "julia-1.5"
  },
  "language_info": {
   "file_extension": ".jl",
   "mimetype": "application/julia",
   "name": "julia",
   "version": "1.5.1"
  }
 },
 "nbformat": 4,
 "nbformat_minor": 5
}
