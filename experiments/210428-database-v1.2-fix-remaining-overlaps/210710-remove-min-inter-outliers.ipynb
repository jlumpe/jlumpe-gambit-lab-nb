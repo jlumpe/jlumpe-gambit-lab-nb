{
 "cells": [
  {
   "cell_type": "markdown",
   "id": "210f6518",
   "metadata": {},
   "source": [
    "# 210710 Remove min inter outliers"
   ]
  },
  {
   "cell_type": "code",
   "execution_count": 1,
   "id": "7f478680",
   "metadata": {},
   "outputs": [],
   "source": [
    "using Mmap\n",
    "using Statistics"
   ]
  },
  {
   "cell_type": "code",
   "execution_count": 2,
   "id": "4c6b22d0",
   "metadata": {},
   "outputs": [],
   "source": [
    "using JSON\n",
    "using DataFrames\n",
    "using FilePathsBase\n",
    "using FilePathsBase: /\n",
    "import CSV\n",
    "using Arrow\n",
    "using HDF5\n",
    "using DataStructures: Accumulator"
   ]
  },
  {
   "cell_type": "code",
   "execution_count": 3,
   "id": "43270654",
   "metadata": {},
   "outputs": [],
   "source": [
    "using Midas.Pairwise: npairs, iterpairs\n",
    "using TriMatrices"
   ]
  },
  {
   "cell_type": "markdown",
   "id": "2c12f514",
   "metadata": {},
   "source": [
    "## Setup"
   ]
  },
  {
   "cell_type": "code",
   "execution_count": 4,
   "id": "95b485f9",
   "metadata": {},
   "outputs": [
    {
     "data": {
      "text/plain": [
       "100"
      ]
     },
     "execution_count": 4,
     "metadata": {},
     "output_type": "execute_result"
    }
   ],
   "source": [
    "ENV[\"COLUMNS\"] = 400\n",
    "ENV[\"LINES\"] = 100"
   ]
  },
  {
   "cell_type": "code",
   "execution_count": 5,
   "id": "a7c39f87",
   "metadata": {},
   "outputs": [
    {
     "data": {
      "text/plain": [
       "\"210710-remove-min-inter-outliers\""
      ]
     },
     "execution_count": 5,
     "metadata": {},
     "output_type": "execute_result"
    }
   ],
   "source": [
    "DATESTR = \"210710\"\n",
    "NBNAME = \"$DATESTR-remove-min-inter-outliers\""
   ]
  },
  {
   "cell_type": "code",
   "execution_count": 6,
   "id": "ef9f5d98",
   "metadata": {},
   "outputs": [],
   "source": [
    "infiles = Dict(\n",
    "    :distances => p\"../../data/intermediate/200727-find-overlaps/genome-pw-distances.raw-float32\",\n",
    "    :db => p\"../../data/intermediate/210401-database-v2-fix-species-overlaps/210424-compile-fixes/\",\n",
    "    :overlaps => p\"data-intermediate/210428-find-remaining-overlaps/\",\n",
    "    :data => p\"data-intermediate/210511-extra-overlap-data/\",\n",
    ");"
   ]
  },
  {
   "cell_type": "code",
   "execution_count": 7,
   "id": "4142b318",
   "metadata": {},
   "outputs": [],
   "source": [
    "processed_out = p\"data-processed\" / NBNAME\n",
    "isdir(processed_out) || mkdir(processed_out);"
   ]
  },
  {
   "cell_type": "markdown",
   "id": "af41d8d6",
   "metadata": {},
   "source": [
    "## Load data"
   ]
  },
  {
   "cell_type": "markdown",
   "id": "2cdebd8f",
   "metadata": {},
   "source": [
    "### Database"
   ]
  },
  {
   "cell_type": "code",
   "execution_count": 8,
   "id": "75e1a59a",
   "metadata": {},
   "outputs": [],
   "source": [
    "taxa = DataFrame(Arrow.Table(string(infiles[:data] / \"taxa.arrow\")));"
   ]
  },
  {
   "cell_type": "code",
   "execution_count": 9,
   "id": "0993e3d5",
   "metadata": {},
   "outputs": [
    {
     "data": {
      "text/plain": [
       "50752"
      ]
     },
     "execution_count": 9,
     "metadata": {},
     "output_type": "execute_result"
    }
   ],
   "source": [
    "genome_assignments = Vector{Int}(open(JSON.parse, infiles[:db] / \"genome-taxon-assignments.json\"))\n",
    "ngenomes = length(genome_assignments)"
   ]
  },
  {
   "cell_type": "code",
   "execution_count": 10,
   "id": "79e2d173",
   "metadata": {},
   "outputs": [
    {
     "data": {
      "text/plain": [
       "lookup_tid (generic function with 2 methods)"
      ]
     },
     "execution_count": 10,
     "metadata": {},
     "output_type": "execute_result"
    }
   ],
   "source": [
    "tid_to_tidx = Dict(id => i for (i, id) in enumerate(taxa[!, :id]))\n",
    "\n",
    "taxon_index(tid::Integer) = tid_to_tidx[tid]\n",
    "taxon_index(tids::AbstractVector{<:Integer}) = taxon_index.(tids)\n",
    "\n",
    "lookup_tid(tid, cols=:) = taxa[taxon_index(tid), cols]"
   ]
  },
  {
   "cell_type": "markdown",
   "id": "72713ea8",
   "metadata": {},
   "source": [
    "### Distances"
   ]
  },
  {
   "cell_type": "code",
   "execution_count": 11,
   "id": "8a64e52a",
   "metadata": {},
   "outputs": [],
   "source": [
    "pw_data = Mmap.mmap(open(infiles[:distances]), Vector{Float32}, (npairs(ngenomes),));\n",
    "\n",
    "pw_dists = TriMatrix(TriSymmetric{false}(), ngenomes, pw_data);"
   ]
  },
  {
   "cell_type": "markdown",
   "id": "8b3ca662",
   "metadata": {},
   "source": [
    "### Overlaps"
   ]
  },
  {
   "cell_type": "code",
   "execution_count": 12,
   "id": "2ab1c3db",
   "metadata": {},
   "outputs": [],
   "source": [
    "overlaps = let\n",
    "    data = open(JSON.parse, infiles[:overlaps] / \"overlaps.json\")\n",
    "    \n",
    "    map(data) do item\n",
    "        item[\"src_taxid\"] => collect(zip(item[\"src_leaf_taxids\"], item[\"dst_leaf_taxids\"], item[\"distances\"]))\n",
    "    end |> Dict\n",
    "end\n",
    "\n",
    "taxa[!, :noverlaps] = [haskey(overlaps, id) ? length(overlaps[id]) : 0 for id in taxa[!, :id]]\n",
    "taxa[!, :has_overlaps] = map(>(0), taxa.noverlaps)\n",
    ";"
   ]
  },
  {
   "cell_type": "markdown",
   "id": "d74365fa",
   "metadata": {},
   "source": [
    "### Leaf data"
   ]
  },
  {
   "cell_type": "code",
   "execution_count": 13,
   "id": "62ac402f",
   "metadata": {},
   "outputs": [],
   "source": [
    "h5open(string(infiles[:data] / \"leaf-data.h5\"), \"r\") do f\n",
    "    global leaf_tidxs = read(f, \"idxs\")\n",
    "    global leaf_pw_min_dists = read(f, \"pw_min_dists\")\n",
    "    global leaf_pw_max_dists = read(f, \"pw_max_dists\")\n",
    "    global leaf_pw_mean_dists = read(f, \"pw_mean_dists\")\n",
    "end;"
   ]
  },
  {
   "cell_type": "code",
   "execution_count": 14,
   "id": "2cb6e048",
   "metadata": {},
   "outputs": [],
   "source": [
    "leaf_tids = taxa[leaf_tidxs, :id]\n",
    "leaf_id_to_index = Dict(id => i for (i, id) in enumerate(leaf_tids))\n",
    "nleaves = length(leaf_tidxs)\n",
    ";"
   ]
  },
  {
   "cell_type": "markdown",
   "id": "3cafb704",
   "metadata": {},
   "source": [
    "## Candidates for removal"
   ]
  },
  {
   "cell_type": "markdown",
   "id": "9877cb91",
   "metadata": {},
   "source": [
    "### src"
   ]
  },
  {
   "cell_type": "code",
   "execution_count": 15,
   "id": "089287f5",
   "metadata": {},
   "outputs": [],
   "source": [
    "# Src internal taxid => n closest src genomes to consider\n",
    "src_candidates = Dict([\n",
    "    38 => 1,\n",
    "    45 => 2,\n",
    "    47 => 6,\n",
    "    48 => 5,\n",
    "    52 => 1,\n",
    "    54 => 1,\n",
    "    75 => 2,\n",
    "    80 => 4,\n",
    "    152 => 7,\n",
    "    165 => 1,\n",
    "    172 => 5,\n",
    "    188 => 8,\n",
    "    197 => 1,\n",
    "    205 => 1,\n",
    "    209 => 3,\n",
    "    213 => 1,\n",
    "    305 => 1,\n",
    "    315 => 1,\n",
    "    341 => 1,\n",
    "    342 => 4,\n",
    "    398 => 2,\n",
    "    431 => 1,\n",
    "    439 => 1,\n",
    "]);"
   ]
  },
  {
   "cell_type": "code",
   "execution_count": 16,
   "id": "be566ca4",
   "metadata": {},
   "outputs": [],
   "source": [
    "# Src internal taxid => n closest dst genomes to check\n",
    "dst_candidates = Dict([\n",
    "    10 => 4,\n",
    "    47 => 1,\n",
    "    152 => 4,\n",
    "    156 => 1,\n",
    "    247 => 1,\n",
    "    262 => 2,\n",
    "    267 => 4,\n",
    "    319 => 1,\n",
    "    350 => 18,\n",
    "    431 => 7,\n",
    "    434 => 1,\n",
    "]);"
   ]
  },
  {
   "cell_type": "markdown",
   "id": "9f225db2",
   "metadata": {},
   "source": [
    "## Evaluate"
   ]
  },
  {
   "cell_type": "code",
   "execution_count": 17,
   "id": "151a80ac",
   "metadata": {},
   "outputs": [
    {
     "data": {
      "text/html": [
       "<table class=\"data-frame\"><thead><tr><th></th><th>id</th><th>name</th><th>diameter</th><th>min_inter</th><th>i</th><th>new_min_inter</th><th>leaf_id</th><th>leaf_name</th><th>leaf_ngenomes</th><th>genome</th></tr><tr><th></th><th>Int64</th><th>String</th><th>Float32</th><th>Float32</th><th>Int64</th><th>Float32</th><th>Int64</th><th>String</th><th>Int64</th><th>Int64</th></tr></thead><tbody><p>60 rows × 10 columns</p><tr><th>1</th><td>38</td><td>Leptospira</td><td>0.998561</td><td>0.989358</td><td>1</td><td>0.995792</td><td>1365</td><td>Leptospira noguchii</td><td>15</td><td>35369</td></tr><tr><th>2</th><td>45</td><td>Campylobacter</td><td>0.999048</td><td>0.984083</td><td>1</td><td>0.985537</td><td>505</td><td>Campylobacter coli</td><td>252</td><td>41117</td></tr><tr><th>3</th><td>45</td><td>Campylobacter</td><td>0.999048</td><td>0.984083</td><td>2</td><td>0.99083</td><td>505</td><td>Campylobacter coli</td><td>252</td><td>41115</td></tr><tr><th>4</th><td>47</td><td>Mannheimia</td><td>0.961796</td><td>0.960099</td><td>1</td><td>0.962002</td><td>1153</td><td>Mannheimia haemolytica</td><td>30</td><td>45103</td></tr><tr><th>5</th><td>47</td><td>Mannheimia</td><td>0.961796</td><td>0.960099</td><td>2</td><td>0.963155</td><td>1153</td><td>Mannheimia haemolytica</td><td>30</td><td>45104</td></tr><tr><th>6</th><td>47</td><td>Mannheimia</td><td>0.961796</td><td>0.960099</td><td>3</td><td>0.964066</td><td>1153</td><td>Mannheimia haemolytica</td><td>30</td><td>7182</td></tr><tr><th>7</th><td>47</td><td>Mannheimia</td><td>0.961796</td><td>0.960099</td><td>4</td><td>0.964141</td><td>1153</td><td>Mannheimia haemolytica</td><td>30</td><td>8644</td></tr><tr><th>8</th><td>47</td><td>Mannheimia</td><td>0.961796</td><td>0.960099</td><td>5</td><td>0.966769</td><td>1153</td><td>Mannheimia haemolytica</td><td>30</td><td>8642</td></tr><tr><th>9</th><td>47</td><td>Mannheimia</td><td>0.961796</td><td>0.960099</td><td>6</td><td>0.972554</td><td>1153</td><td>Mannheimia haemolytica</td><td>30</td><td>45101</td></tr><tr><th>10</th><td>48</td><td>Helicobacter</td><td>0.999056</td><td>0.979619</td><td>1</td><td>0.984083</td><td>511</td><td>Helicobacter pylori</td><td>467</td><td>31677</td></tr><tr><th>11</th><td>48</td><td>Helicobacter</td><td>0.999056</td><td>0.979619</td><td>2</td><td>0.987952</td><td>1261</td><td>Helicobacter pullorum</td><td>5</td><td>36122</td></tr><tr><th>12</th><td>48</td><td>Helicobacter</td><td>0.999056</td><td>0.979619</td><td>3</td><td>0.989842</td><td>1261</td><td>Helicobacter pullorum</td><td>5</td><td>856</td></tr><tr><th>13</th><td>48</td><td>Helicobacter</td><td>0.999056</td><td>0.979619</td><td>4</td><td>0.99083</td><td>1261</td><td>Helicobacter pullorum</td><td>5</td><td>36121</td></tr><tr><th>14</th><td>48</td><td>Helicobacter</td><td>0.999056</td><td>0.979619</td><td>5</td><td>0.990834</td><td>512</td><td>Helicobacter cinaedi</td><td>3</td><td>6220</td></tr><tr><th>15</th><td>52</td><td>Alteromonas</td><td>0.989723</td><td>0.986653</td><td>1</td><td>0.990194</td><td>1238</td><td>Alteromonas mediterranea</td><td>8</td><td>8513</td></tr><tr><th>16</th><td>54</td><td>Flavobacterium</td><td>0.997262</td><td>0.985557</td><td>1</td><td>0.994205</td><td>1694</td><td>Flavobacterium psychrophilum</td><td>23</td><td>42519</td></tr><tr><th>17</th><td>75</td><td>Limosilactobacillus</td><td>0.998008</td><td>0.980729</td><td>1</td><td>0.988286</td><td>976</td><td>Limosilactobacillus fermentum</td><td>18</td><td>9671</td></tr><tr><th>18</th><td>75</td><td>Limosilactobacillus</td><td>0.998008</td><td>0.980729</td><td>2</td><td>0.990877</td><td>976</td><td>Limosilactobacillus fermentum</td><td>18</td><td>9373</td></tr><tr><th>19</th><td>80</td><td>Phocaeicola</td><td>0.992732</td><td>0.960268</td><td>1</td><td>0.960342</td><td>1581</td><td>Phocaeicola dorei</td><td>5</td><td>3834</td></tr><tr><th>20</th><td>80</td><td>Phocaeicola</td><td>0.992732</td><td>0.960268</td><td>2</td><td>0.965117</td><td>1581</td><td>Phocaeicola dorei</td><td>5</td><td>3835</td></tr><tr><th>21</th><td>80</td><td>Phocaeicola</td><td>0.992732</td><td>0.960268</td><td>3</td><td>0.965239</td><td>726</td><td>Phocaeicola vulgatus</td><td>8</td><td>18428</td></tr><tr><th>22</th><td>80</td><td>Phocaeicola</td><td>0.992732</td><td>0.960268</td><td>4</td><td>0.969613</td><td>726</td><td>Phocaeicola vulgatus</td><td>8</td><td>18421</td></tr><tr><th>23</th><td>152</td><td>Klebsiella</td><td>0.955573</td><td>0.928217</td><td>1</td><td>0.932194</td><td>631</td><td>Klebsiella pneumoniae</td><td>877</td><td>41775</td></tr><tr><th>24</th><td>152</td><td>Klebsiella</td><td>0.955573</td><td>0.928217</td><td>2</td><td>0.933367</td><td>631</td><td>Klebsiella pneumoniae</td><td>877</td><td>42343</td></tr><tr><th>25</th><td>152</td><td>Klebsiella</td><td>0.955573</td><td>0.928217</td><td>3</td><td>0.933631</td><td>630</td><td>Klebsiella oxytoca</td><td>30</td><td>25488</td></tr><tr><th>26</th><td>152</td><td>Klebsiella</td><td>0.955573</td><td>0.928217</td><td>4</td><td>0.935562</td><td>630</td><td>Klebsiella oxytoca</td><td>30</td><td>18900</td></tr><tr><th>27</th><td>152</td><td>Klebsiella</td><td>0.955573</td><td>0.928217</td><td>5</td><td>0.936102</td><td>630</td><td>Klebsiella oxytoca</td><td>30</td><td>24588</td></tr><tr><th>28</th><td>152</td><td>Klebsiella</td><td>0.955573</td><td>0.928217</td><td>6</td><td>0.936341</td><td>631</td><td>Klebsiella pneumoniae</td><td>877</td><td>22110</td></tr><tr><th>29</th><td>152</td><td>Klebsiella</td><td>0.955573</td><td>0.928217</td><td>7</td><td>0.938186</td><td>630</td><td>Klebsiella oxytoca</td><td>30</td><td>25766</td></tr><tr><th>30</th><td>165</td><td>Yersinia</td><td>0.980927</td><td>0.972337</td><td>1</td><td>0.981281</td><td>653</td><td>Yersinia pestis</td><td>263</td><td>1202</td></tr><tr><th>31</th><td>172</td><td>Vibrio</td><td>0.995045</td><td>0.959669</td><td>1</td><td>0.973716</td><td>672</td><td>Vibrio parahaemolyticus</td><td>474</td><td>10390</td></tr><tr><th>32</th><td>172</td><td>Vibrio</td><td>0.995045</td><td>0.959669</td><td>2</td><td>0.975313</td><td>669</td><td>Vibrio cholerae</td><td>431</td><td>35951</td></tr><tr><th>33</th><td>172</td><td>Vibrio</td><td>0.995045</td><td>0.959669</td><td>3</td><td>0.975487</td><td>669</td><td>Vibrio cholerae</td><td>431</td><td>34593</td></tr><tr><th>34</th><td>172</td><td>Vibrio</td><td>0.995045</td><td>0.959669</td><td>4</td><td>0.975832</td><td>669</td><td>Vibrio cholerae</td><td>431</td><td>20178</td></tr><tr><th>35</th><td>172</td><td>Vibrio</td><td>0.995045</td><td>0.959669</td><td>5</td><td>0.983365</td><td>669</td><td>Vibrio cholerae</td><td>431</td><td>1390</td></tr><tr><th>36</th><td>188</td><td>Haemophilus</td><td>0.991115</td><td>0.970732</td><td>1</td><td>0.970975</td><td>695</td><td>Haemophilus parainfluenzae</td><td>16</td><td>25595</td></tr><tr><th>37</th><td>188</td><td>Haemophilus</td><td>0.991115</td><td>0.970732</td><td>2</td><td>0.973062</td><td>695</td><td>Haemophilus parainfluenzae</td><td>16</td><td>25529</td></tr><tr><th>38</th><td>188</td><td>Haemophilus</td><td>0.991115</td><td>0.970732</td><td>3</td><td>0.97378</td><td>693</td><td>Haemophilus influenzae</td><td>104</td><td>46351</td></tr><tr><th>39</th><td>188</td><td>Haemophilus</td><td>0.991115</td><td>0.970732</td><td>4</td><td>0.974406</td><td>695</td><td>Haemophilus parainfluenzae</td><td>16</td><td>25646</td></tr><tr><th>40</th><td>188</td><td>Haemophilus</td><td>0.991115</td><td>0.970732</td><td>5</td><td>0.974757</td><td>695</td><td>Haemophilus parainfluenzae</td><td>16</td><td>3370</td></tr><tr><th>41</th><td>188</td><td>Haemophilus</td><td>0.991115</td><td>0.970732</td><td>6</td><td>0.974757</td><td>695</td><td>Haemophilus parainfluenzae</td><td>16</td><td>1807</td></tr><tr><th>42</th><td>188</td><td>Haemophilus</td><td>0.991115</td><td>0.970732</td><td>7</td><td>0.975553</td><td>695</td><td>Haemophilus parainfluenzae</td><td>16</td><td>19611</td></tr><tr><th>43</th><td>188</td><td>Haemophilus</td><td>0.991115</td><td>0.970732</td><td>8</td><td>0.976314</td><td>695</td><td>Haemophilus parainfluenzae</td><td>16</td><td>3412</td></tr><tr><th>44</th><td>197</td><td>Anaplasma</td><td>0.998178</td><td>0.997329</td><td>1</td><td>0.997547</td><td>749</td><td>Anaplasma phagocytophilum</td><td>19</td><td>18103</td></tr><tr><th>45</th><td>205</td><td>Veillonella</td><td>0.995047</td><td>0.993536</td><td>1</td><td>0.997221</td><td>1773</td><td>Veillonella atypica</td><td>4</td><td>43760</td></tr><tr><th>46</th><td>209</td><td>Chlamydia</td><td>0.998077</td><td>0.788957</td><td>1</td><td>0.8266</td><td>722</td><td>Chlamydia trachomatis</td><td>95</td><td>36486</td></tr><tr><th>47</th><td>209</td><td>Chlamydia</td><td>0.998077</td><td>0.788957</td><td>2</td><td>0.918298</td><td>722</td><td>Chlamydia trachomatis</td><td>95</td><td>36484</td></tr><tr><th>48</th><td>209</td><td>Chlamydia</td><td>0.998077</td><td>0.788957</td><td>3</td><td>0.983753</td><td>722</td><td>Chlamydia trachomatis</td><td>95</td><td>40173</td></tr><tr><th>49</th><td>213</td><td>Mycobacteroides</td><td>0.929199</td><td>0.830563</td><td>1</td><td>0.999291</td><td>1424</td><td>Mycobacteroides abscessus</td><td>221</td><td>32825</td></tr><tr><th>50</th><td>305</td><td>Weissella</td><td>0.996488</td><td>0.867943</td><td>1</td><td>0.990481</td><td>978</td><td>Weissella halotolerans</td><td>3</td><td>45582</td></tr><tr><th>51</th><td>315</td><td>Leuconostoc</td><td>0.992315</td><td>0.990481</td><td>1</td><td>0.9932</td><td>812</td><td>Leuconostoc mesenteroides</td><td>16</td><td>2611</td></tr><tr><th>52</th><td>341</td><td>Enterococcus</td><td>0.996376</td><td>0.916719</td><td>1</td><td>0.983002</td><td>878</td><td>Enterococcus faecium</td><td>411</td><td>44077</td></tr><tr><th>53</th><td>342</td><td>Lactococcus</td><td>0.992666</td><td>0.987414</td><td>1</td><td>0.987484</td><td>887</td><td>Lactococcus garvieae</td><td>13</td><td>3714</td></tr><tr><th>54</th><td>342</td><td>Lactococcus</td><td>0.992666</td><td>0.987414</td><td>2</td><td>0.988377</td><td>887</td><td>Lactococcus garvieae</td><td>13</td><td>22020</td></tr><tr><th>55</th><td>342</td><td>Lactococcus</td><td>0.992666</td><td>0.987414</td><td>3</td><td>0.98839</td><td>887</td><td>Lactococcus garvieae</td><td>13</td><td>4925</td></tr><tr><th>56</th><td>342</td><td>Lactococcus</td><td>0.992666</td><td>0.987414</td><td>4</td><td>0.990133</td><td>885</td><td>Lactococcus lactis</td><td>77</td><td>8806</td></tr><tr><th>57</th><td>398</td><td>Listeria</td><td>0.994244</td><td>0.966109</td><td>1</td><td>0.982286</td><td>999</td><td>Listeria monocytogenes</td><td>522</td><td>47760</td></tr><tr><th>58</th><td>398</td><td>Listeria</td><td>0.994244</td><td>0.966109</td><td>2</td><td>0.986778</td><td>999</td><td>Listeria monocytogenes</td><td>522</td><td>44726</td></tr><tr><th>59</th><td>431</td><td>Rhodococcus</td><td>0.983668</td><td>0.963883</td><td>1</td><td>0.975164</td><td>1757</td><td>Rhodococcus qingshengii</td><td>3</td><td>18381</td></tr><tr><th>60</th><td>439</td><td>Sphingobium</td><td>0.969075</td><td>0.966988</td><td>1</td><td>0.972071</td><td>1625</td><td>Sphingobium yanoikuyae</td><td>6</td><td>26409</td></tr></tbody></table>"
      ],
      "text/latex": [
       "\\begin{tabular}{r|cccccccccc}\n",
       "\t& id & name & diameter & min\\_inter & i & new\\_min\\_inter & leaf\\_id & leaf\\_name & leaf\\_ngenomes & genome\\\\\n",
       "\t\\hline\n",
       "\t& Int64 & String & Float32 & Float32 & Int64 & Float32 & Int64 & String & Int64 & Int64\\\\\n",
       "\t\\hline\n",
       "\t1 & 38 & Leptospira & 0.998561 & 0.989358 & 1 & 0.995792 & 1365 & Leptospira noguchii & 15 & 35369 \\\\\n",
       "\t2 & 45 & Campylobacter & 0.999048 & 0.984083 & 1 & 0.985537 & 505 & Campylobacter coli & 252 & 41117 \\\\\n",
       "\t3 & 45 & Campylobacter & 0.999048 & 0.984083 & 2 & 0.99083 & 505 & Campylobacter coli & 252 & 41115 \\\\\n",
       "\t4 & 47 & Mannheimia & 0.961796 & 0.960099 & 1 & 0.962002 & 1153 & Mannheimia haemolytica & 30 & 45103 \\\\\n",
       "\t5 & 47 & Mannheimia & 0.961796 & 0.960099 & 2 & 0.963155 & 1153 & Mannheimia haemolytica & 30 & 45104 \\\\\n",
       "\t6 & 47 & Mannheimia & 0.961796 & 0.960099 & 3 & 0.964066 & 1153 & Mannheimia haemolytica & 30 & 7182 \\\\\n",
       "\t7 & 47 & Mannheimia & 0.961796 & 0.960099 & 4 & 0.964141 & 1153 & Mannheimia haemolytica & 30 & 8644 \\\\\n",
       "\t8 & 47 & Mannheimia & 0.961796 & 0.960099 & 5 & 0.966769 & 1153 & Mannheimia haemolytica & 30 & 8642 \\\\\n",
       "\t9 & 47 & Mannheimia & 0.961796 & 0.960099 & 6 & 0.972554 & 1153 & Mannheimia haemolytica & 30 & 45101 \\\\\n",
       "\t10 & 48 & Helicobacter & 0.999056 & 0.979619 & 1 & 0.984083 & 511 & Helicobacter pylori & 467 & 31677 \\\\\n",
       "\t11 & 48 & Helicobacter & 0.999056 & 0.979619 & 2 & 0.987952 & 1261 & Helicobacter pullorum & 5 & 36122 \\\\\n",
       "\t12 & 48 & Helicobacter & 0.999056 & 0.979619 & 3 & 0.989842 & 1261 & Helicobacter pullorum & 5 & 856 \\\\\n",
       "\t13 & 48 & Helicobacter & 0.999056 & 0.979619 & 4 & 0.99083 & 1261 & Helicobacter pullorum & 5 & 36121 \\\\\n",
       "\t14 & 48 & Helicobacter & 0.999056 & 0.979619 & 5 & 0.990834 & 512 & Helicobacter cinaedi & 3 & 6220 \\\\\n",
       "\t15 & 52 & Alteromonas & 0.989723 & 0.986653 & 1 & 0.990194 & 1238 & Alteromonas mediterranea & 8 & 8513 \\\\\n",
       "\t16 & 54 & Flavobacterium & 0.997262 & 0.985557 & 1 & 0.994205 & 1694 & Flavobacterium psychrophilum & 23 & 42519 \\\\\n",
       "\t17 & 75 & Limosilactobacillus & 0.998008 & 0.980729 & 1 & 0.988286 & 976 & Limosilactobacillus fermentum & 18 & 9671 \\\\\n",
       "\t18 & 75 & Limosilactobacillus & 0.998008 & 0.980729 & 2 & 0.990877 & 976 & Limosilactobacillus fermentum & 18 & 9373 \\\\\n",
       "\t19 & 80 & Phocaeicola & 0.992732 & 0.960268 & 1 & 0.960342 & 1581 & Phocaeicola dorei & 5 & 3834 \\\\\n",
       "\t20 & 80 & Phocaeicola & 0.992732 & 0.960268 & 2 & 0.965117 & 1581 & Phocaeicola dorei & 5 & 3835 \\\\\n",
       "\t21 & 80 & Phocaeicola & 0.992732 & 0.960268 & 3 & 0.965239 & 726 & Phocaeicola vulgatus & 8 & 18428 \\\\\n",
       "\t22 & 80 & Phocaeicola & 0.992732 & 0.960268 & 4 & 0.969613 & 726 & Phocaeicola vulgatus & 8 & 18421 \\\\\n",
       "\t23 & 152 & Klebsiella & 0.955573 & 0.928217 & 1 & 0.932194 & 631 & Klebsiella pneumoniae & 877 & 41775 \\\\\n",
       "\t24 & 152 & Klebsiella & 0.955573 & 0.928217 & 2 & 0.933367 & 631 & Klebsiella pneumoniae & 877 & 42343 \\\\\n",
       "\t25 & 152 & Klebsiella & 0.955573 & 0.928217 & 3 & 0.933631 & 630 & Klebsiella oxytoca & 30 & 25488 \\\\\n",
       "\t26 & 152 & Klebsiella & 0.955573 & 0.928217 & 4 & 0.935562 & 630 & Klebsiella oxytoca & 30 & 18900 \\\\\n",
       "\t27 & 152 & Klebsiella & 0.955573 & 0.928217 & 5 & 0.936102 & 630 & Klebsiella oxytoca & 30 & 24588 \\\\\n",
       "\t28 & 152 & Klebsiella & 0.955573 & 0.928217 & 6 & 0.936341 & 631 & Klebsiella pneumoniae & 877 & 22110 \\\\\n",
       "\t29 & 152 & Klebsiella & 0.955573 & 0.928217 & 7 & 0.938186 & 630 & Klebsiella oxytoca & 30 & 25766 \\\\\n",
       "\t30 & 165 & Yersinia & 0.980927 & 0.972337 & 1 & 0.981281 & 653 & Yersinia pestis & 263 & 1202 \\\\\n",
       "\t31 & 172 & Vibrio & 0.995045 & 0.959669 & 1 & 0.973716 & 672 & Vibrio parahaemolyticus & 474 & 10390 \\\\\n",
       "\t32 & 172 & Vibrio & 0.995045 & 0.959669 & 2 & 0.975313 & 669 & Vibrio cholerae & 431 & 35951 \\\\\n",
       "\t33 & 172 & Vibrio & 0.995045 & 0.959669 & 3 & 0.975487 & 669 & Vibrio cholerae & 431 & 34593 \\\\\n",
       "\t34 & 172 & Vibrio & 0.995045 & 0.959669 & 4 & 0.975832 & 669 & Vibrio cholerae & 431 & 20178 \\\\\n",
       "\t35 & 172 & Vibrio & 0.995045 & 0.959669 & 5 & 0.983365 & 669 & Vibrio cholerae & 431 & 1390 \\\\\n",
       "\t36 & 188 & Haemophilus & 0.991115 & 0.970732 & 1 & 0.970975 & 695 & Haemophilus parainfluenzae & 16 & 25595 \\\\\n",
       "\t37 & 188 & Haemophilus & 0.991115 & 0.970732 & 2 & 0.973062 & 695 & Haemophilus parainfluenzae & 16 & 25529 \\\\\n",
       "\t38 & 188 & Haemophilus & 0.991115 & 0.970732 & 3 & 0.97378 & 693 & Haemophilus influenzae & 104 & 46351 \\\\\n",
       "\t39 & 188 & Haemophilus & 0.991115 & 0.970732 & 4 & 0.974406 & 695 & Haemophilus parainfluenzae & 16 & 25646 \\\\\n",
       "\t40 & 188 & Haemophilus & 0.991115 & 0.970732 & 5 & 0.974757 & 695 & Haemophilus parainfluenzae & 16 & 3370 \\\\\n",
       "\t41 & 188 & Haemophilus & 0.991115 & 0.970732 & 6 & 0.974757 & 695 & Haemophilus parainfluenzae & 16 & 1807 \\\\\n",
       "\t42 & 188 & Haemophilus & 0.991115 & 0.970732 & 7 & 0.975553 & 695 & Haemophilus parainfluenzae & 16 & 19611 \\\\\n",
       "\t43 & 188 & Haemophilus & 0.991115 & 0.970732 & 8 & 0.976314 & 695 & Haemophilus parainfluenzae & 16 & 3412 \\\\\n",
       "\t44 & 197 & Anaplasma & 0.998178 & 0.997329 & 1 & 0.997547 & 749 & Anaplasma phagocytophilum & 19 & 18103 \\\\\n",
       "\t45 & 205 & Veillonella & 0.995047 & 0.993536 & 1 & 0.997221 & 1773 & Veillonella atypica & 4 & 43760 \\\\\n",
       "\t46 & 209 & Chlamydia & 0.998077 & 0.788957 & 1 & 0.8266 & 722 & Chlamydia trachomatis & 95 & 36486 \\\\\n",
       "\t47 & 209 & Chlamydia & 0.998077 & 0.788957 & 2 & 0.918298 & 722 & Chlamydia trachomatis & 95 & 36484 \\\\\n",
       "\t48 & 209 & Chlamydia & 0.998077 & 0.788957 & 3 & 0.983753 & 722 & Chlamydia trachomatis & 95 & 40173 \\\\\n",
       "\t49 & 213 & Mycobacteroides & 0.929199 & 0.830563 & 1 & 0.999291 & 1424 & Mycobacteroides abscessus & 221 & 32825 \\\\\n",
       "\t50 & 305 & Weissella & 0.996488 & 0.867943 & 1 & 0.990481 & 978 & Weissella halotolerans & 3 & 45582 \\\\\n",
       "\t51 & 315 & Leuconostoc & 0.992315 & 0.990481 & 1 & 0.9932 & 812 & Leuconostoc mesenteroides & 16 & 2611 \\\\\n",
       "\t52 & 341 & Enterococcus & 0.996376 & 0.916719 & 1 & 0.983002 & 878 & Enterococcus faecium & 411 & 44077 \\\\\n",
       "\t53 & 342 & Lactococcus & 0.992666 & 0.987414 & 1 & 0.987484 & 887 & Lactococcus garvieae & 13 & 3714 \\\\\n",
       "\t54 & 342 & Lactococcus & 0.992666 & 0.987414 & 2 & 0.988377 & 887 & Lactococcus garvieae & 13 & 22020 \\\\\n",
       "\t55 & 342 & Lactococcus & 0.992666 & 0.987414 & 3 & 0.98839 & 887 & Lactococcus garvieae & 13 & 4925 \\\\\n",
       "\t56 & 342 & Lactococcus & 0.992666 & 0.987414 & 4 & 0.990133 & 885 & Lactococcus lactis & 77 & 8806 \\\\\n",
       "\t57 & 398 & Listeria & 0.994244 & 0.966109 & 1 & 0.982286 & 999 & Listeria monocytogenes & 522 & 47760 \\\\\n",
       "\t58 & 398 & Listeria & 0.994244 & 0.966109 & 2 & 0.986778 & 999 & Listeria monocytogenes & 522 & 44726 \\\\\n",
       "\t59 & 431 & Rhodococcus & 0.983668 & 0.963883 & 1 & 0.975164 & 1757 & Rhodococcus qingshengii & 3 & 18381 \\\\\n",
       "\t60 & 439 & Sphingobium & 0.969075 & 0.966988 & 1 & 0.972071 & 1625 & Sphingobium yanoikuyae & 6 & 26409 \\\\\n",
       "\\end{tabular}\n"
      ],
      "text/plain": [
       "\u001b[1m60×10 DataFrame\u001b[0m\n",
       "\u001b[1m Row \u001b[0m│\u001b[1m id    \u001b[0m\u001b[1m name                \u001b[0m\u001b[1m diameter \u001b[0m\u001b[1m min_inter \u001b[0m\u001b[1m i     \u001b[0m\u001b[1m new_min_inter \u001b[0m\u001b[1m leaf_id \u001b[0m\u001b[1m leaf_name                     \u001b[0m\u001b[1m leaf_ngenomes \u001b[0m\u001b[1m genome \u001b[0m\n",
       "\u001b[1m     \u001b[0m│\u001b[90m Int64 \u001b[0m\u001b[90m String              \u001b[0m\u001b[90m Float32  \u001b[0m\u001b[90m Float32   \u001b[0m\u001b[90m Int64 \u001b[0m\u001b[90m Float32       \u001b[0m\u001b[90m Int64   \u001b[0m\u001b[90m String                        \u001b[0m\u001b[90m Int64         \u001b[0m\u001b[90m Int64  \u001b[0m\n",
       "─────┼──────────────────────────────────────────────────────────────────────────────────────────────────────────────────────────────────────\n",
       "   1 │    38  Leptospira           0.998561   0.989358      1       0.995792     1365  Leptospira noguchii                       15   35369\n",
       "   2 │    45  Campylobacter        0.999048   0.984083      1       0.985537      505  Campylobacter coli                       252   41117\n",
       "   3 │    45  Campylobacter        0.999048   0.984083      2       0.99083       505  Campylobacter coli                       252   41115\n",
       "   4 │    47  Mannheimia           0.961796   0.960099      1       0.962002     1153  Mannheimia haemolytica                    30   45103\n",
       "   5 │    47  Mannheimia           0.961796   0.960099      2       0.963155     1153  Mannheimia haemolytica                    30   45104\n",
       "   6 │    47  Mannheimia           0.961796   0.960099      3       0.964066     1153  Mannheimia haemolytica                    30    7182\n",
       "   7 │    47  Mannheimia           0.961796   0.960099      4       0.964141     1153  Mannheimia haemolytica                    30    8644\n",
       "   8 │    47  Mannheimia           0.961796   0.960099      5       0.966769     1153  Mannheimia haemolytica                    30    8642\n",
       "   9 │    47  Mannheimia           0.961796   0.960099      6       0.972554     1153  Mannheimia haemolytica                    30   45101\n",
       "  10 │    48  Helicobacter         0.999056   0.979619      1       0.984083      511  Helicobacter pylori                      467   31677\n",
       "  11 │    48  Helicobacter         0.999056   0.979619      2       0.987952     1261  Helicobacter pullorum                      5   36122\n",
       "  12 │    48  Helicobacter         0.999056   0.979619      3       0.989842     1261  Helicobacter pullorum                      5     856\n",
       "  13 │    48  Helicobacter         0.999056   0.979619      4       0.99083      1261  Helicobacter pullorum                      5   36121\n",
       "  14 │    48  Helicobacter         0.999056   0.979619      5       0.990834      512  Helicobacter cinaedi                       3    6220\n",
       "  15 │    52  Alteromonas          0.989723   0.986653      1       0.990194     1238  Alteromonas mediterranea                   8    8513\n",
       "  16 │    54  Flavobacterium       0.997262   0.985557      1       0.994205     1694  Flavobacterium psychrophilum              23   42519\n",
       "  17 │    75  Limosilactobacillus  0.998008   0.980729      1       0.988286      976  Limosilactobacillus fermentum             18    9671\n",
       "  18 │    75  Limosilactobacillus  0.998008   0.980729      2       0.990877      976  Limosilactobacillus fermentum             18    9373\n",
       "  19 │    80  Phocaeicola          0.992732   0.960268      1       0.960342     1581  Phocaeicola dorei                          5    3834\n",
       "  20 │    80  Phocaeicola          0.992732   0.960268      2       0.965117     1581  Phocaeicola dorei                          5    3835\n",
       "  21 │    80  Phocaeicola          0.992732   0.960268      3       0.965239      726  Phocaeicola vulgatus                       8   18428\n",
       "  22 │    80  Phocaeicola          0.992732   0.960268      4       0.969613      726  Phocaeicola vulgatus                       8   18421\n",
       "  23 │   152  Klebsiella           0.955573   0.928217      1       0.932194      631  Klebsiella pneumoniae                    877   41775\n",
       "  24 │   152  Klebsiella           0.955573   0.928217      2       0.933367      631  Klebsiella pneumoniae                    877   42343\n",
       "  25 │   152  Klebsiella           0.955573   0.928217      3       0.933631      630  Klebsiella oxytoca                        30   25488\n",
       "  26 │   152  Klebsiella           0.955573   0.928217      4       0.935562      630  Klebsiella oxytoca                        30   18900\n",
       "  27 │   152  Klebsiella           0.955573   0.928217      5       0.936102      630  Klebsiella oxytoca                        30   24588\n",
       "  28 │   152  Klebsiella           0.955573   0.928217      6       0.936341      631  Klebsiella pneumoniae                    877   22110\n",
       "  29 │   152  Klebsiella           0.955573   0.928217      7       0.938186      630  Klebsiella oxytoca                        30   25766\n",
       "  30 │   165  Yersinia             0.980927   0.972337      1       0.981281      653  Yersinia pestis                          263    1202\n",
       "  31 │   172  Vibrio               0.995045   0.959669      1       0.973716      672  Vibrio parahaemolyticus                  474   10390\n",
       "  32 │   172  Vibrio               0.995045   0.959669      2       0.975313      669  Vibrio cholerae                          431   35951\n",
       "  33 │   172  Vibrio               0.995045   0.959669      3       0.975487      669  Vibrio cholerae                          431   34593\n",
       "  34 │   172  Vibrio               0.995045   0.959669      4       0.975832      669  Vibrio cholerae                          431   20178\n",
       "  35 │   172  Vibrio               0.995045   0.959669      5       0.983365      669  Vibrio cholerae                          431    1390\n",
       "  36 │   188  Haemophilus          0.991115   0.970732      1       0.970975      695  Haemophilus parainfluenzae                16   25595\n",
       "  37 │   188  Haemophilus          0.991115   0.970732      2       0.973062      695  Haemophilus parainfluenzae                16   25529\n",
       "  38 │   188  Haemophilus          0.991115   0.970732      3       0.97378       693  Haemophilus influenzae                   104   46351\n",
       "  39 │   188  Haemophilus          0.991115   0.970732      4       0.974406      695  Haemophilus parainfluenzae                16   25646\n",
       "  40 │   188  Haemophilus          0.991115   0.970732      5       0.974757      695  Haemophilus parainfluenzae                16    3370\n",
       "  41 │   188  Haemophilus          0.991115   0.970732      6       0.974757      695  Haemophilus parainfluenzae                16    1807\n",
       "  42 │   188  Haemophilus          0.991115   0.970732      7       0.975553      695  Haemophilus parainfluenzae                16   19611\n",
       "  43 │   188  Haemophilus          0.991115   0.970732      8       0.976314      695  Haemophilus parainfluenzae                16    3412\n",
       "  44 │   197  Anaplasma            0.998178   0.997329      1       0.997547      749  Anaplasma phagocytophilum                 19   18103\n",
       "  45 │   205  Veillonella          0.995047   0.993536      1       0.997221     1773  Veillonella atypica                        4   43760\n",
       "  46 │   209  Chlamydia            0.998077   0.788957      1       0.8266        722  Chlamydia trachomatis                     95   36486\n",
       "  47 │   209  Chlamydia            0.998077   0.788957      2       0.918298      722  Chlamydia trachomatis                     95   36484\n",
       "  48 │   209  Chlamydia            0.998077   0.788957      3       0.983753      722  Chlamydia trachomatis                     95   40173\n",
       "  49 │   213  Mycobacteroides      0.929199   0.830563      1       0.999291     1424  Mycobacteroides abscessus                221   32825\n",
       "  50 │   305  Weissella            0.996488   0.867943      1       0.990481      978  Weissella halotolerans                     3   45582\n",
       "  51 │   315  Leuconostoc          0.992315   0.990481      1       0.9932        812  Leuconostoc mesenteroides                 16    2611\n",
       "  52 │   341  Enterococcus         0.996376   0.916719      1       0.983002      878  Enterococcus faecium                     411   44077\n",
       "  53 │   342  Lactococcus          0.992666   0.987414      1       0.987484      887  Lactococcus garvieae                      13    3714\n",
       "  54 │   342  Lactococcus          0.992666   0.987414      2       0.988377      887  Lactococcus garvieae                      13   22020\n",
       "  55 │   342  Lactococcus          0.992666   0.987414      3       0.98839       887  Lactococcus garvieae                      13    4925\n",
       "  56 │   342  Lactococcus          0.992666   0.987414      4       0.990133      885  Lactococcus lactis                        77    8806\n",
       "  57 │   398  Listeria             0.994244   0.966109      1       0.982286      999  Listeria monocytogenes                   522   47760\n",
       "  58 │   398  Listeria             0.994244   0.966109      2       0.986778      999  Listeria monocytogenes                   522   44726\n",
       "  59 │   431  Rhodococcus          0.983668   0.963883      1       0.975164     1757  Rhodococcus qingshengii                    3   18381\n",
       "  60 │   439  Sphingobium          0.969075   0.966988      1       0.972071     1625  Sphingobium yanoikuyae                     6   26409"
      ]
     },
     "execution_count": 17,
     "metadata": {},
     "output_type": "execute_result"
    }
   ],
   "source": [
    "src_stats = let\n",
    "    rows = []\n",
    "    \n",
    "    for (tid, n) in src_candidates\n",
    "        taxon = lookup_tid(tid)\n",
    "        \n",
    "        # Group overlaps by src\n",
    "        dsts_by_src = Dict{Int, Vector{Int}}()\n",
    "        for (src, dst, d) in overlaps[tid]\n",
    "            push!(get!(dsts_by_src, src, Int[]), dst)\n",
    "        end\n",
    "        \n",
    "        # Min inters by overlapping src genomes\n",
    "        items = Pair{Int, Float32}[]\n",
    "        \n",
    "        for (src, dsts) in dsts_by_src\n",
    "            src_genomes = lookup_tid(src, :genomes)\n",
    "            dst_genomes = vcat([lookup_tid(dst, :genomes) for dst in dsts]...)\n",
    "            append!(items, [\n",
    "                gi => minimum(view(pw_dists, gi, dst_genomes))\n",
    "                for gi in src_genomes\n",
    "            ])\n",
    "        end\n",
    "        \n",
    "        sort!(items, by=last)\n",
    "        @assert items[1][2] == taxon.min_inter_dist\n",
    "        \n",
    "        for i in 1:n\n",
    "            gi = items[i][1]\n",
    "            new_min_inter = items[i + 1][2]\n",
    "            leaf = lookup_tid(genome_assignments[gi])\n",
    "            \n",
    "            push!(rows, (\n",
    "                id=taxon.id,\n",
    "                name=taxon.name,\n",
    "                diameter=taxon.diameter,\n",
    "                min_inter=taxon.min_inter_dist,\n",
    "                i=i,\n",
    "                new_min_inter=new_min_inter,\n",
    "                leaf_id=leaf.id,\n",
    "                leaf_name=leaf.name,\n",
    "                leaf_ngenomes=leaf.ngenomes,\n",
    "                genome=gi,\n",
    "            ))\n",
    "        end\n",
    "    end\n",
    "    \n",
    "    df = DataFrame(rows)\n",
    "    sort!(df, :id)\n",
    "end"
   ]
  },
  {
   "cell_type": "code",
   "execution_count": 18,
   "id": "09bf7014",
   "metadata": {},
   "outputs": [
    {
     "data": {
      "text/html": [
       "<table class=\"data-frame\"><thead><tr><th></th><th>id</th><th>name</th><th>diameter</th><th>min_inter</th><th>i</th><th>new_min_inter</th><th>leaf_id</th><th>leaf_name</th><th>leaf_ngenomes</th><th>genome</th></tr><tr><th></th><th>Int64</th><th>String</th><th>Float32</th><th>Float32</th><th>Int64</th><th>Float32</th><th>Int64</th><th>String</th><th>Int64</th><th>Int64</th></tr></thead><tbody><p>44 rows × 10 columns</p><tr><th>1</th><td>10</td><td>Mycoplasma</td><td>1.0</td><td>0.788957</td><td>1</td><td>0.8266</td><td>722</td><td>Chlamydia trachomatis</td><td>95</td><td>36486</td></tr><tr><th>2</th><td>10</td><td>Mycoplasma</td><td>1.0</td><td>0.788957</td><td>2</td><td>0.918298</td><td>722</td><td>Chlamydia trachomatis</td><td>95</td><td>36484</td></tr><tr><th>3</th><td>10</td><td>Mycoplasma</td><td>1.0</td><td>0.788957</td><td>3</td><td>0.954319</td><td>722</td><td>Chlamydia trachomatis</td><td>95</td><td>40173</td></tr><tr><th>4</th><td>10</td><td>Mycoplasma</td><td>1.0</td><td>0.788957</td><td>4</td><td>0.98396</td><td>1460</td><td>Salmonella enterica</td><td>4049</td><td>29617</td></tr><tr><th>5</th><td>47</td><td>Mannheimia</td><td>0.961796</td><td>0.960099</td><td>1</td><td>0.976871</td><td>1748</td><td>Bibersteinia trehalosi</td><td>4</td><td>10875</td></tr><tr><th>6</th><td>152</td><td>Klebsiella</td><td>0.955573</td><td>0.928217</td><td>1</td><td>0.928614</td><td>1914</td><td>Enterobacter hormaechei subgroup 1</td><td>115</td><td>41910</td></tr><tr><th>7</th><td>152</td><td>Klebsiella</td><td>0.955573</td><td>0.928217</td><td>2</td><td>0.928661</td><td>1914</td><td>Enterobacter hormaechei subgroup 1</td><td>115</td><td>42039</td></tr><tr><th>8</th><td>152</td><td>Klebsiella</td><td>0.955573</td><td>0.928217</td><td>3</td><td>0.928965</td><td>1914</td><td>Enterobacter hormaechei subgroup 1</td><td>115</td><td>41873</td></tr><tr><th>9</th><td>152</td><td>Klebsiella</td><td>0.955573</td><td>0.928217</td><td>4</td><td>0.932194</td><td>1914</td><td>Enterobacter hormaechei subgroup 1</td><td>115</td><td>41920</td></tr><tr><th>10</th><td>156</td><td>Providencia</td><td>0.983623</td><td>0.960965</td><td>1</td><td>0.975101</td><td>635</td><td>Proteus mirabilis</td><td>48</td><td>41753</td></tr><tr><th>11</th><td>247</td><td>Lactiplantibacillus</td><td>0.986148</td><td>0.933174</td><td>1</td><td>0.980729</td><td>1742</td><td>Lactobacillus rhamnosus</td><td>54</td><td>8165</td></tr><tr><th>12</th><td>262</td><td>Ligilactobacillus</td><td>0.997708</td><td>0.98544</td><td>1</td><td>0.989273</td><td>1318</td><td>Lactobacillus curvatus</td><td>3</td><td>21553</td></tr><tr><th>13</th><td>262</td><td>Ligilactobacillus</td><td>0.997708</td><td>0.98544</td><td>2</td><td>0.99145</td><td>595</td><td>Acinetobacter baumannii</td><td>1276</td><td>40900</td></tr><tr><th>14</th><td>267</td><td>Secundilactobacillus</td><td>0.995359</td><td>0.981632</td><td>1</td><td>0.984011</td><td>1181</td><td>Pediococcus damnosus</td><td>7</td><td>45504</td></tr><tr><th>15</th><td>267</td><td>Secundilactobacillus</td><td>0.995359</td><td>0.981632</td><td>2</td><td>0.984137</td><td>1181</td><td>Pediococcus damnosus</td><td>7</td><td>45507</td></tr><tr><th>16</th><td>267</td><td>Secundilactobacillus</td><td>0.995359</td><td>0.981632</td><td>3</td><td>0.988408</td><td>1181</td><td>Pediococcus damnosus</td><td>7</td><td>41048</td></tr><tr><th>17</th><td>267</td><td>Secundilactobacillus</td><td>0.995359</td><td>0.981632</td><td>4</td><td>0.989202</td><td>1181</td><td>Pediococcus damnosus</td><td>7</td><td>23499</td></tr><tr><th>18</th><td>319</td><td>Pediococcus</td><td>0.997678</td><td>0.867943</td><td>1</td><td>0.943174</td><td>978</td><td>Weissella halotolerans</td><td>3</td><td>45582</td></tr><tr><th>19</th><td>350</td><td>Bacillus</td><td>0.998517</td><td>0.891198</td><td>1</td><td>0.894649</td><td>859</td><td>Streptococcus pneumoniae</td><td>6809</td><td>37545</td></tr><tr><th>20</th><td>350</td><td>Bacillus</td><td>0.998517</td><td>0.891198</td><td>2</td><td>0.924666</td><td>859</td><td>Streptococcus pneumoniae</td><td>6809</td><td>27378</td></tr><tr><th>21</th><td>350</td><td>Bacillus</td><td>0.998517</td><td>0.891198</td><td>3</td><td>0.926076</td><td>859</td><td>Streptococcus pneumoniae</td><td>6809</td><td>26646</td></tr><tr><th>22</th><td>350</td><td>Bacillus</td><td>0.998517</td><td>0.891198</td><td>4</td><td>0.926579</td><td>859</td><td>Streptococcus pneumoniae</td><td>6809</td><td>29488</td></tr><tr><th>23</th><td>350</td><td>Bacillus</td><td>0.998517</td><td>0.891198</td><td>5</td><td>0.931435</td><td>859</td><td>Streptococcus pneumoniae</td><td>6809</td><td>37442</td></tr><tr><th>24</th><td>350</td><td>Bacillus</td><td>0.998517</td><td>0.891198</td><td>6</td><td>0.934001</td><td>859</td><td>Streptococcus pneumoniae</td><td>6809</td><td>32353</td></tr><tr><th>25</th><td>350</td><td>Bacillus</td><td>0.998517</td><td>0.891198</td><td>7</td><td>0.936612</td><td>859</td><td>Streptococcus pneumoniae</td><td>6809</td><td>37508</td></tr><tr><th>26</th><td>350</td><td>Bacillus</td><td>0.998517</td><td>0.891198</td><td>8</td><td>0.943174</td><td>859</td><td>Streptococcus pneumoniae</td><td>6809</td><td>23876</td></tr><tr><th>27</th><td>350</td><td>Bacillus</td><td>0.998517</td><td>0.891198</td><td>9</td><td>0.943699</td><td>817</td><td>Pediococcus pentosaceus</td><td>8</td><td>43611</td></tr><tr><th>28</th><td>350</td><td>Bacillus</td><td>0.998517</td><td>0.891198</td><td>10</td><td>0.944642</td><td>859</td><td>Streptococcus pneumoniae</td><td>6809</td><td>37715</td></tr><tr><th>29</th><td>350</td><td>Bacillus</td><td>0.998517</td><td>0.891198</td><td>11</td><td>0.945872</td><td>859</td><td>Streptococcus pneumoniae</td><td>6809</td><td>28194</td></tr><tr><th>30</th><td>350</td><td>Bacillus</td><td>0.998517</td><td>0.891198</td><td>12</td><td>0.951051</td><td>859</td><td>Streptococcus pneumoniae</td><td>6809</td><td>27763</td></tr><tr><th>31</th><td>350</td><td>Bacillus</td><td>0.998517</td><td>0.891198</td><td>13</td><td>0.955307</td><td>859</td><td>Streptococcus pneumoniae</td><td>6809</td><td>37451</td></tr><tr><th>32</th><td>350</td><td>Bacillus</td><td>0.998517</td><td>0.891198</td><td>14</td><td>0.957242</td><td>859</td><td>Streptococcus pneumoniae</td><td>6809</td><td>27193</td></tr><tr><th>33</th><td>350</td><td>Bacillus</td><td>0.998517</td><td>0.891198</td><td>15</td><td>0.970011</td><td>859</td><td>Streptococcus pneumoniae</td><td>6809</td><td>37487</td></tr><tr><th>34</th><td>350</td><td>Bacillus</td><td>0.998517</td><td>0.891198</td><td>16</td><td>0.970072</td><td>859</td><td>Streptococcus pneumoniae</td><td>6809</td><td>37805</td></tr><tr><th>35</th><td>350</td><td>Bacillus</td><td>0.998517</td><td>0.891198</td><td>17</td><td>0.971041</td><td>859</td><td>Streptococcus pneumoniae</td><td>6809</td><td>29123</td></tr><tr><th>36</th><td>350</td><td>Bacillus</td><td>0.998517</td><td>0.891198</td><td>18</td><td>0.977493</td><td>859</td><td>Streptococcus pneumoniae</td><td>6809</td><td>37456</td></tr><tr><th>37</th><td>431</td><td>Rhodococcus</td><td>0.983668</td><td>0.963883</td><td>1</td><td>0.96391</td><td>1932</td><td>Escherichia coli subgroup 2</td><td>2204</td><td>43999</td></tr><tr><th>38</th><td>431</td><td>Rhodococcus</td><td>0.983668</td><td>0.963883</td><td>2</td><td>0.963947</td><td>1932</td><td>Escherichia coli subgroup 2</td><td>2204</td><td>35896</td></tr><tr><th>39</th><td>431</td><td>Rhodococcus</td><td>0.983668</td><td>0.963883</td><td>3</td><td>0.964065</td><td>1932</td><td>Escherichia coli subgroup 2</td><td>2204</td><td>19049</td></tr><tr><th>40</th><td>431</td><td>Rhodococcus</td><td>0.983668</td><td>0.963883</td><td>4</td><td>0.965278</td><td>1932</td><td>Escherichia coli subgroup 2</td><td>2204</td><td>44000</td></tr><tr><th>41</th><td>431</td><td>Rhodococcus</td><td>0.983668</td><td>0.963883</td><td>5</td><td>0.965756</td><td>1932</td><td>Escherichia coli subgroup 2</td><td>2204</td><td>25246</td></tr><tr><th>42</th><td>431</td><td>Rhodococcus</td><td>0.983668</td><td>0.963883</td><td>6</td><td>0.965952</td><td>1932</td><td>Escherichia coli subgroup 2</td><td>2204</td><td>23787</td></tr><tr><th>43</th><td>431</td><td>Rhodococcus</td><td>0.983668</td><td>0.963883</td><td>7</td><td>0.968958</td><td>1932</td><td>Escherichia coli subgroup 2</td><td>2204</td><td>23783</td></tr><tr><th>44</th><td>434</td><td>Brevibacillus</td><td>0.997535</td><td>0.987334</td><td>1</td><td>0.990598</td><td>617</td><td>Citrobacter freundii</td><td>44</td><td>5110</td></tr></tbody></table>"
      ],
      "text/latex": [
       "\\begin{tabular}{r|cccccccccc}\n",
       "\t& id & name & diameter & min\\_inter & i & new\\_min\\_inter & leaf\\_id & leaf\\_name & leaf\\_ngenomes & genome\\\\\n",
       "\t\\hline\n",
       "\t& Int64 & String & Float32 & Float32 & Int64 & Float32 & Int64 & String & Int64 & Int64\\\\\n",
       "\t\\hline\n",
       "\t1 & 10 & Mycoplasma & 1.0 & 0.788957 & 1 & 0.8266 & 722 & Chlamydia trachomatis & 95 & 36486 \\\\\n",
       "\t2 & 10 & Mycoplasma & 1.0 & 0.788957 & 2 & 0.918298 & 722 & Chlamydia trachomatis & 95 & 36484 \\\\\n",
       "\t3 & 10 & Mycoplasma & 1.0 & 0.788957 & 3 & 0.954319 & 722 & Chlamydia trachomatis & 95 & 40173 \\\\\n",
       "\t4 & 10 & Mycoplasma & 1.0 & 0.788957 & 4 & 0.98396 & 1460 & Salmonella enterica & 4049 & 29617 \\\\\n",
       "\t5 & 47 & Mannheimia & 0.961796 & 0.960099 & 1 & 0.976871 & 1748 & Bibersteinia trehalosi & 4 & 10875 \\\\\n",
       "\t6 & 152 & Klebsiella & 0.955573 & 0.928217 & 1 & 0.928614 & 1914 & Enterobacter hormaechei subgroup 1 & 115 & 41910 \\\\\n",
       "\t7 & 152 & Klebsiella & 0.955573 & 0.928217 & 2 & 0.928661 & 1914 & Enterobacter hormaechei subgroup 1 & 115 & 42039 \\\\\n",
       "\t8 & 152 & Klebsiella & 0.955573 & 0.928217 & 3 & 0.928965 & 1914 & Enterobacter hormaechei subgroup 1 & 115 & 41873 \\\\\n",
       "\t9 & 152 & Klebsiella & 0.955573 & 0.928217 & 4 & 0.932194 & 1914 & Enterobacter hormaechei subgroup 1 & 115 & 41920 \\\\\n",
       "\t10 & 156 & Providencia & 0.983623 & 0.960965 & 1 & 0.975101 & 635 & Proteus mirabilis & 48 & 41753 \\\\\n",
       "\t11 & 247 & Lactiplantibacillus & 0.986148 & 0.933174 & 1 & 0.980729 & 1742 & Lactobacillus rhamnosus & 54 & 8165 \\\\\n",
       "\t12 & 262 & Ligilactobacillus & 0.997708 & 0.98544 & 1 & 0.989273 & 1318 & Lactobacillus curvatus & 3 & 21553 \\\\\n",
       "\t13 & 262 & Ligilactobacillus & 0.997708 & 0.98544 & 2 & 0.99145 & 595 & Acinetobacter baumannii & 1276 & 40900 \\\\\n",
       "\t14 & 267 & Secundilactobacillus & 0.995359 & 0.981632 & 1 & 0.984011 & 1181 & Pediococcus damnosus & 7 & 45504 \\\\\n",
       "\t15 & 267 & Secundilactobacillus & 0.995359 & 0.981632 & 2 & 0.984137 & 1181 & Pediococcus damnosus & 7 & 45507 \\\\\n",
       "\t16 & 267 & Secundilactobacillus & 0.995359 & 0.981632 & 3 & 0.988408 & 1181 & Pediococcus damnosus & 7 & 41048 \\\\\n",
       "\t17 & 267 & Secundilactobacillus & 0.995359 & 0.981632 & 4 & 0.989202 & 1181 & Pediococcus damnosus & 7 & 23499 \\\\\n",
       "\t18 & 319 & Pediococcus & 0.997678 & 0.867943 & 1 & 0.943174 & 978 & Weissella halotolerans & 3 & 45582 \\\\\n",
       "\t19 & 350 & Bacillus & 0.998517 & 0.891198 & 1 & 0.894649 & 859 & Streptococcus pneumoniae & 6809 & 37545 \\\\\n",
       "\t20 & 350 & Bacillus & 0.998517 & 0.891198 & 2 & 0.924666 & 859 & Streptococcus pneumoniae & 6809 & 27378 \\\\\n",
       "\t21 & 350 & Bacillus & 0.998517 & 0.891198 & 3 & 0.926076 & 859 & Streptococcus pneumoniae & 6809 & 26646 \\\\\n",
       "\t22 & 350 & Bacillus & 0.998517 & 0.891198 & 4 & 0.926579 & 859 & Streptococcus pneumoniae & 6809 & 29488 \\\\\n",
       "\t23 & 350 & Bacillus & 0.998517 & 0.891198 & 5 & 0.931435 & 859 & Streptococcus pneumoniae & 6809 & 37442 \\\\\n",
       "\t24 & 350 & Bacillus & 0.998517 & 0.891198 & 6 & 0.934001 & 859 & Streptococcus pneumoniae & 6809 & 32353 \\\\\n",
       "\t25 & 350 & Bacillus & 0.998517 & 0.891198 & 7 & 0.936612 & 859 & Streptococcus pneumoniae & 6809 & 37508 \\\\\n",
       "\t26 & 350 & Bacillus & 0.998517 & 0.891198 & 8 & 0.943174 & 859 & Streptococcus pneumoniae & 6809 & 23876 \\\\\n",
       "\t27 & 350 & Bacillus & 0.998517 & 0.891198 & 9 & 0.943699 & 817 & Pediococcus pentosaceus & 8 & 43611 \\\\\n",
       "\t28 & 350 & Bacillus & 0.998517 & 0.891198 & 10 & 0.944642 & 859 & Streptococcus pneumoniae & 6809 & 37715 \\\\\n",
       "\t29 & 350 & Bacillus & 0.998517 & 0.891198 & 11 & 0.945872 & 859 & Streptococcus pneumoniae & 6809 & 28194 \\\\\n",
       "\t30 & 350 & Bacillus & 0.998517 & 0.891198 & 12 & 0.951051 & 859 & Streptococcus pneumoniae & 6809 & 27763 \\\\\n",
       "\t31 & 350 & Bacillus & 0.998517 & 0.891198 & 13 & 0.955307 & 859 & Streptococcus pneumoniae & 6809 & 37451 \\\\\n",
       "\t32 & 350 & Bacillus & 0.998517 & 0.891198 & 14 & 0.957242 & 859 & Streptococcus pneumoniae & 6809 & 27193 \\\\\n",
       "\t33 & 350 & Bacillus & 0.998517 & 0.891198 & 15 & 0.970011 & 859 & Streptococcus pneumoniae & 6809 & 37487 \\\\\n",
       "\t34 & 350 & Bacillus & 0.998517 & 0.891198 & 16 & 0.970072 & 859 & Streptococcus pneumoniae & 6809 & 37805 \\\\\n",
       "\t35 & 350 & Bacillus & 0.998517 & 0.891198 & 17 & 0.971041 & 859 & Streptococcus pneumoniae & 6809 & 29123 \\\\\n",
       "\t36 & 350 & Bacillus & 0.998517 & 0.891198 & 18 & 0.977493 & 859 & Streptococcus pneumoniae & 6809 & 37456 \\\\\n",
       "\t37 & 431 & Rhodococcus & 0.983668 & 0.963883 & 1 & 0.96391 & 1932 & Escherichia coli subgroup 2 & 2204 & 43999 \\\\\n",
       "\t38 & 431 & Rhodococcus & 0.983668 & 0.963883 & 2 & 0.963947 & 1932 & Escherichia coli subgroup 2 & 2204 & 35896 \\\\\n",
       "\t39 & 431 & Rhodococcus & 0.983668 & 0.963883 & 3 & 0.964065 & 1932 & Escherichia coli subgroup 2 & 2204 & 19049 \\\\\n",
       "\t40 & 431 & Rhodococcus & 0.983668 & 0.963883 & 4 & 0.965278 & 1932 & Escherichia coli subgroup 2 & 2204 & 44000 \\\\\n",
       "\t41 & 431 & Rhodococcus & 0.983668 & 0.963883 & 5 & 0.965756 & 1932 & Escherichia coli subgroup 2 & 2204 & 25246 \\\\\n",
       "\t42 & 431 & Rhodococcus & 0.983668 & 0.963883 & 6 & 0.965952 & 1932 & Escherichia coli subgroup 2 & 2204 & 23787 \\\\\n",
       "\t43 & 431 & Rhodococcus & 0.983668 & 0.963883 & 7 & 0.968958 & 1932 & Escherichia coli subgroup 2 & 2204 & 23783 \\\\\n",
       "\t44 & 434 & Brevibacillus & 0.997535 & 0.987334 & 1 & 0.990598 & 617 & Citrobacter freundii & 44 & 5110 \\\\\n",
       "\\end{tabular}\n"
      ],
      "text/plain": [
       "\u001b[1m44×10 DataFrame\u001b[0m\n",
       "\u001b[1m Row \u001b[0m│\u001b[1m id    \u001b[0m\u001b[1m name                 \u001b[0m\u001b[1m diameter \u001b[0m\u001b[1m min_inter \u001b[0m\u001b[1m i     \u001b[0m\u001b[1m new_min_inter \u001b[0m\u001b[1m leaf_id \u001b[0m\u001b[1m leaf_name                         \u001b[0m\u001b[1m leaf_ngenomes \u001b[0m\u001b[1m genome \u001b[0m\n",
       "\u001b[1m     \u001b[0m│\u001b[90m Int64 \u001b[0m\u001b[90m String               \u001b[0m\u001b[90m Float32  \u001b[0m\u001b[90m Float32   \u001b[0m\u001b[90m Int64 \u001b[0m\u001b[90m Float32       \u001b[0m\u001b[90m Int64   \u001b[0m\u001b[90m String                            \u001b[0m\u001b[90m Int64         \u001b[0m\u001b[90m Int64  \u001b[0m\n",
       "─────┼───────────────────────────────────────────────────────────────────────────────────────────────────────────────────────────────────────────\n",
       "   1 │    10  Mycoplasma            1.0        0.788957      1       0.8266        722  Chlamydia trachomatis                         95   36486\n",
       "   2 │    10  Mycoplasma            1.0        0.788957      2       0.918298      722  Chlamydia trachomatis                         95   36484\n",
       "   3 │    10  Mycoplasma            1.0        0.788957      3       0.954319      722  Chlamydia trachomatis                         95   40173\n",
       "   4 │    10  Mycoplasma            1.0        0.788957      4       0.98396      1460  Salmonella enterica                         4049   29617\n",
       "   5 │    47  Mannheimia            0.961796   0.960099      1       0.976871     1748  Bibersteinia trehalosi                         4   10875\n",
       "   6 │   152  Klebsiella            0.955573   0.928217      1       0.928614     1914  Enterobacter hormaechei subgroup…            115   41910\n",
       "   7 │   152  Klebsiella            0.955573   0.928217      2       0.928661     1914  Enterobacter hormaechei subgroup…            115   42039\n",
       "   8 │   152  Klebsiella            0.955573   0.928217      3       0.928965     1914  Enterobacter hormaechei subgroup…            115   41873\n",
       "   9 │   152  Klebsiella            0.955573   0.928217      4       0.932194     1914  Enterobacter hormaechei subgroup…            115   41920\n",
       "  10 │   156  Providencia           0.983623   0.960965      1       0.975101      635  Proteus mirabilis                             48   41753\n",
       "  11 │   247  Lactiplantibacillus   0.986148   0.933174      1       0.980729     1742  Lactobacillus rhamnosus                       54    8165\n",
       "  12 │   262  Ligilactobacillus     0.997708   0.98544       1       0.989273     1318  Lactobacillus curvatus                         3   21553\n",
       "  13 │   262  Ligilactobacillus     0.997708   0.98544       2       0.99145       595  Acinetobacter baumannii                     1276   40900\n",
       "  14 │   267  Secundilactobacillus  0.995359   0.981632      1       0.984011     1181  Pediococcus damnosus                           7   45504\n",
       "  15 │   267  Secundilactobacillus  0.995359   0.981632      2       0.984137     1181  Pediococcus damnosus                           7   45507\n",
       "  16 │   267  Secundilactobacillus  0.995359   0.981632      3       0.988408     1181  Pediococcus damnosus                           7   41048\n",
       "  17 │   267  Secundilactobacillus  0.995359   0.981632      4       0.989202     1181  Pediococcus damnosus                           7   23499\n",
       "  18 │   319  Pediococcus           0.997678   0.867943      1       0.943174      978  Weissella halotolerans                         3   45582\n",
       "  19 │   350  Bacillus              0.998517   0.891198      1       0.894649      859  Streptococcus pneumoniae                    6809   37545\n",
       "  20 │   350  Bacillus              0.998517   0.891198      2       0.924666      859  Streptococcus pneumoniae                    6809   27378\n",
       "  21 │   350  Bacillus              0.998517   0.891198      3       0.926076      859  Streptococcus pneumoniae                    6809   26646\n",
       "  22 │   350  Bacillus              0.998517   0.891198      4       0.926579      859  Streptococcus pneumoniae                    6809   29488\n",
       "  23 │   350  Bacillus              0.998517   0.891198      5       0.931435      859  Streptococcus pneumoniae                    6809   37442\n",
       "  24 │   350  Bacillus              0.998517   0.891198      6       0.934001      859  Streptococcus pneumoniae                    6809   32353\n",
       "  25 │   350  Bacillus              0.998517   0.891198      7       0.936612      859  Streptococcus pneumoniae                    6809   37508\n",
       "  26 │   350  Bacillus              0.998517   0.891198      8       0.943174      859  Streptococcus pneumoniae                    6809   23876\n",
       "  27 │   350  Bacillus              0.998517   0.891198      9       0.943699      817  Pediococcus pentosaceus                        8   43611\n",
       "  28 │   350  Bacillus              0.998517   0.891198     10       0.944642      859  Streptococcus pneumoniae                    6809   37715\n",
       "  29 │   350  Bacillus              0.998517   0.891198     11       0.945872      859  Streptococcus pneumoniae                    6809   28194\n",
       "  30 │   350  Bacillus              0.998517   0.891198     12       0.951051      859  Streptococcus pneumoniae                    6809   27763\n",
       "  31 │   350  Bacillus              0.998517   0.891198     13       0.955307      859  Streptococcus pneumoniae                    6809   37451\n",
       "  32 │   350  Bacillus              0.998517   0.891198     14       0.957242      859  Streptococcus pneumoniae                    6809   27193\n",
       "  33 │   350  Bacillus              0.998517   0.891198     15       0.970011      859  Streptococcus pneumoniae                    6809   37487\n",
       "  34 │   350  Bacillus              0.998517   0.891198     16       0.970072      859  Streptococcus pneumoniae                    6809   37805\n",
       "  35 │   350  Bacillus              0.998517   0.891198     17       0.971041      859  Streptococcus pneumoniae                    6809   29123\n",
       "  36 │   350  Bacillus              0.998517   0.891198     18       0.977493      859  Streptococcus pneumoniae                    6809   37456\n",
       "  37 │   431  Rhodococcus           0.983668   0.963883      1       0.96391      1932  Escherichia coli subgroup 2                 2204   43999\n",
       "  38 │   431  Rhodococcus           0.983668   0.963883      2       0.963947     1932  Escherichia coli subgroup 2                 2204   35896\n",
       "  39 │   431  Rhodococcus           0.983668   0.963883      3       0.964065     1932  Escherichia coli subgroup 2                 2204   19049\n",
       "  40 │   431  Rhodococcus           0.983668   0.963883      4       0.965278     1932  Escherichia coli subgroup 2                 2204   44000\n",
       "  41 │   431  Rhodococcus           0.983668   0.963883      5       0.965756     1932  Escherichia coli subgroup 2                 2204   25246\n",
       "  42 │   431  Rhodococcus           0.983668   0.963883      6       0.965952     1932  Escherichia coli subgroup 2                 2204   23787\n",
       "  43 │   431  Rhodococcus           0.983668   0.963883      7       0.968958     1932  Escherichia coli subgroup 2                 2204   23783\n",
       "  44 │   434  Brevibacillus         0.997535   0.987334      1       0.990598      617  Citrobacter freundii                          44    5110"
      ]
     },
     "execution_count": 18,
     "metadata": {},
     "output_type": "execute_result"
    }
   ],
   "source": [
    "dst_stats = let\n",
    "    rows = []\n",
    "    \n",
    "    for (tid, n) in dst_candidates\n",
    "        taxon = lookup_tid(tid)\n",
    "        \n",
    "        # Group overlaps by dst\n",
    "        srcs_by_dst = Dict{Int, Vector{Int}}()\n",
    "        for (src, dst, d) in overlaps[tid]\n",
    "            push!(get!(srcs_by_dst, dst, Int[]), src)\n",
    "        end\n",
    "        \n",
    "        # Min inters by overlapping dst genomes\n",
    "        items = Pair{Int, Float32}[]\n",
    "        \n",
    "        for (dst, srcs) in srcs_by_dst\n",
    "            dst_genomes = lookup_tid(dst, :genomes)\n",
    "            src_genomes = vcat([lookup_tid(src, :genomes) for src in srcs]...)\n",
    "            append!(items, [\n",
    "                gi => minimum(view(pw_dists, gi, src_genomes))\n",
    "                for gi in dst_genomes\n",
    "            ])\n",
    "        end\n",
    "        \n",
    "        sort!(items, by=last)\n",
    "        @assert items[1][2] == taxon.min_inter_dist\n",
    "        \n",
    "        for i in 1:n\n",
    "            gi = items[i][1]\n",
    "            new_min_inter = items[i + 1][2]\n",
    "            leaf = lookup_tid(genome_assignments[gi])\n",
    "            \n",
    "            push!(rows, (\n",
    "                id=taxon.id,\n",
    "                name=taxon.name,\n",
    "                diameter=taxon.diameter,\n",
    "                min_inter=taxon.min_inter_dist,\n",
    "                i=i,\n",
    "                new_min_inter=new_min_inter,\n",
    "                leaf_id=leaf.id,\n",
    "                leaf_name=leaf.name,\n",
    "                leaf_ngenomes=leaf.ngenomes,\n",
    "                genome=gi,\n",
    "            ))\n",
    "        end\n",
    "    end\n",
    "    \n",
    "    df = DataFrame(rows)\n",
    "    sort!(df, :id)\n",
    "end"
   ]
  },
  {
   "cell_type": "markdown",
   "id": "a55023d7",
   "metadata": {},
   "source": [
    "## Remove outliers"
   ]
  },
  {
   "cell_type": "markdown",
   "id": "b565e87e",
   "metadata": {},
   "source": [
    "### Pick"
   ]
  },
  {
   "cell_type": "code",
   "execution_count": 19,
   "id": "54ccc93b",
   "metadata": {},
   "outputs": [
    {
     "data": {
      "text/plain": [
       "Dict{Int64,Int64} with 4 entries:\n",
       "  213 => 1\n",
       "  341 => 1\n",
       "  398 => 2\n",
       "  209 => 3"
      ]
     },
     "execution_count": 19,
     "metadata": {},
     "output_type": "execute_result"
    }
   ],
   "source": [
    "# Src internal taxid => num genomes to remove\n",
    "toremove_src = Dict(\n",
    "    209 => 3,\n",
    "    213 => 1,\n",
    "    341 => 1,\n",
    "    398 => 2\n",
    ")"
   ]
  },
  {
   "cell_type": "code",
   "execution_count": 20,
   "id": "0fe56019",
   "metadata": {},
   "outputs": [
    {
     "data": {
      "text/plain": [
       "Dict{Int64,Int64} with 3 entries:\n",
       "  10  => 4\n",
       "  247 => 1\n",
       "  350 => 8"
      ]
     },
     "execution_count": 20,
     "metadata": {},
     "output_type": "execute_result"
    }
   ],
   "source": [
    "# Src internal taxid => num genomes to remove\n",
    "toremove_dst = Dict(\n",
    "    10 => 4,\n",
    "    247 => 1,\n",
    "    350 => 8,\n",
    ")"
   ]
  },
  {
   "cell_type": "markdown",
   "id": "2e7c3134",
   "metadata": {},
   "source": [
    "### Summarize"
   ]
  },
  {
   "cell_type": "code",
   "execution_count": 21,
   "id": "d0b6952e",
   "metadata": {},
   "outputs": [],
   "source": [
    "# Assumption in next cell\n",
    "@assert isempty(intersect(keys(toremove_src), keys(toremove_dst)))"
   ]
  },
  {
   "cell_type": "code",
   "execution_count": 22,
   "id": "37b33655",
   "metadata": {},
   "outputs": [
    {
     "data": {
      "text/html": [
       "<table class=\"data-frame\"><thead><tr><th></th><th>genome_index</th><th>taxon_id</th><th>taxon_name</th><th>reason</th></tr><tr><th></th><th>Int64</th><th>Int64</th><th>String</th><th>String</th></tr></thead><tbody><p>20 rows × 4 columns</p><tr><th>1</th><td>32825</td><td>1424</td><td>Mycobacteroides abscessus</td><td>min_inter outlier for 213 Mycobacteroides on src side</td></tr><tr><th>2</th><td>44077</td><td>878</td><td>Enterococcus faecium</td><td>min_inter outlier for 341 Enterococcus on src side</td></tr><tr><th>3</th><td>47760</td><td>999</td><td>Listeria monocytogenes</td><td>min_inter outlier for 398 Listeria on src side</td></tr><tr><th>4</th><td>44726</td><td>999</td><td>Listeria monocytogenes</td><td>min_inter outlier for 398 Listeria on src side</td></tr><tr><th>5</th><td>36486</td><td>722</td><td>Chlamydia trachomatis</td><td>min_inter outlier for 209 Chlamydia on src side</td></tr><tr><th>6</th><td>36484</td><td>722</td><td>Chlamydia trachomatis</td><td>min_inter outlier for 209 Chlamydia on src side</td></tr><tr><th>7</th><td>40173</td><td>722</td><td>Chlamydia trachomatis</td><td>min_inter outlier for 209 Chlamydia on src side</td></tr><tr><th>8</th><td>36486</td><td>722</td><td>Chlamydia trachomatis</td><td>min_inter outlier for 10 Mycoplasma on dst side</td></tr><tr><th>9</th><td>36484</td><td>722</td><td>Chlamydia trachomatis</td><td>min_inter outlier for 10 Mycoplasma on dst side</td></tr><tr><th>10</th><td>40173</td><td>722</td><td>Chlamydia trachomatis</td><td>min_inter outlier for 10 Mycoplasma on dst side</td></tr><tr><th>11</th><td>29617</td><td>1460</td><td>Salmonella enterica</td><td>min_inter outlier for 10 Mycoplasma on dst side</td></tr><tr><th>12</th><td>8165</td><td>1742</td><td>Lactobacillus rhamnosus</td><td>min_inter outlier for 247 Lactiplantibacillus on dst side</td></tr><tr><th>13</th><td>37545</td><td>859</td><td>Streptococcus pneumoniae</td><td>min_inter outlier for 350 Bacillus on dst side</td></tr><tr><th>14</th><td>27378</td><td>859</td><td>Streptococcus pneumoniae</td><td>min_inter outlier for 350 Bacillus on dst side</td></tr><tr><th>15</th><td>26646</td><td>859</td><td>Streptococcus pneumoniae</td><td>min_inter outlier for 350 Bacillus on dst side</td></tr><tr><th>16</th><td>29488</td><td>859</td><td>Streptococcus pneumoniae</td><td>min_inter outlier for 350 Bacillus on dst side</td></tr><tr><th>17</th><td>37442</td><td>859</td><td>Streptococcus pneumoniae</td><td>min_inter outlier for 350 Bacillus on dst side</td></tr><tr><th>18</th><td>32353</td><td>859</td><td>Streptococcus pneumoniae</td><td>min_inter outlier for 350 Bacillus on dst side</td></tr><tr><th>19</th><td>37508</td><td>859</td><td>Streptococcus pneumoniae</td><td>min_inter outlier for 350 Bacillus on dst side</td></tr><tr><th>20</th><td>23876</td><td>859</td><td>Streptococcus pneumoniae</td><td>min_inter outlier for 350 Bacillus on dst side</td></tr></tbody></table>"
      ],
      "text/latex": [
       "\\begin{tabular}{r|cccc}\n",
       "\t& genome\\_index & taxon\\_id & taxon\\_name & reason\\\\\n",
       "\t\\hline\n",
       "\t& Int64 & Int64 & String & String\\\\\n",
       "\t\\hline\n",
       "\t1 & 32825 & 1424 & Mycobacteroides abscessus & min\\_inter outlier for 213 Mycobacteroides on src side \\\\\n",
       "\t2 & 44077 & 878 & Enterococcus faecium & min\\_inter outlier for 341 Enterococcus on src side \\\\\n",
       "\t3 & 47760 & 999 & Listeria monocytogenes & min\\_inter outlier for 398 Listeria on src side \\\\\n",
       "\t4 & 44726 & 999 & Listeria monocytogenes & min\\_inter outlier for 398 Listeria on src side \\\\\n",
       "\t5 & 36486 & 722 & Chlamydia trachomatis & min\\_inter outlier for 209 Chlamydia on src side \\\\\n",
       "\t6 & 36484 & 722 & Chlamydia trachomatis & min\\_inter outlier for 209 Chlamydia on src side \\\\\n",
       "\t7 & 40173 & 722 & Chlamydia trachomatis & min\\_inter outlier for 209 Chlamydia on src side \\\\\n",
       "\t8 & 36486 & 722 & Chlamydia trachomatis & min\\_inter outlier for 10 Mycoplasma on dst side \\\\\n",
       "\t9 & 36484 & 722 & Chlamydia trachomatis & min\\_inter outlier for 10 Mycoplasma on dst side \\\\\n",
       "\t10 & 40173 & 722 & Chlamydia trachomatis & min\\_inter outlier for 10 Mycoplasma on dst side \\\\\n",
       "\t11 & 29617 & 1460 & Salmonella enterica & min\\_inter outlier for 10 Mycoplasma on dst side \\\\\n",
       "\t12 & 8165 & 1742 & Lactobacillus rhamnosus & min\\_inter outlier for 247 Lactiplantibacillus on dst side \\\\\n",
       "\t13 & 37545 & 859 & Streptococcus pneumoniae & min\\_inter outlier for 350 Bacillus on dst side \\\\\n",
       "\t14 & 27378 & 859 & Streptococcus pneumoniae & min\\_inter outlier for 350 Bacillus on dst side \\\\\n",
       "\t15 & 26646 & 859 & Streptococcus pneumoniae & min\\_inter outlier for 350 Bacillus on dst side \\\\\n",
       "\t16 & 29488 & 859 & Streptococcus pneumoniae & min\\_inter outlier for 350 Bacillus on dst side \\\\\n",
       "\t17 & 37442 & 859 & Streptococcus pneumoniae & min\\_inter outlier for 350 Bacillus on dst side \\\\\n",
       "\t18 & 32353 & 859 & Streptococcus pneumoniae & min\\_inter outlier for 350 Bacillus on dst side \\\\\n",
       "\t19 & 37508 & 859 & Streptococcus pneumoniae & min\\_inter outlier for 350 Bacillus on dst side \\\\\n",
       "\t20 & 23876 & 859 & Streptococcus pneumoniae & min\\_inter outlier for 350 Bacillus on dst side \\\\\n",
       "\\end{tabular}\n"
      ],
      "text/plain": [
       "\u001b[1m20×4 DataFrame\u001b[0m\n",
       "\u001b[1m Row \u001b[0m│\u001b[1m genome_index \u001b[0m\u001b[1m taxon_id \u001b[0m\u001b[1m taxon_name                \u001b[0m\u001b[1m reason                            \u001b[0m\n",
       "\u001b[1m     \u001b[0m│\u001b[90m Int64        \u001b[0m\u001b[90m Int64    \u001b[0m\u001b[90m String                    \u001b[0m\u001b[90m String                            \u001b[0m\n",
       "─────┼──────────────────────────────────────────────────────────────────────────────────────\n",
       "   1 │        32825      1424  Mycobacteroides abscessus  min_inter outlier for 213 Mycoba…\n",
       "   2 │        44077       878  Enterococcus faecium       min_inter outlier for 341 Entero…\n",
       "   3 │        47760       999  Listeria monocytogenes     min_inter outlier for 398 Lister…\n",
       "   4 │        44726       999  Listeria monocytogenes     min_inter outlier for 398 Lister…\n",
       "   5 │        36486       722  Chlamydia trachomatis      min_inter outlier for 209 Chlamy…\n",
       "   6 │        36484       722  Chlamydia trachomatis      min_inter outlier for 209 Chlamy…\n",
       "   7 │        40173       722  Chlamydia trachomatis      min_inter outlier for 209 Chlamy…\n",
       "   8 │        36486       722  Chlamydia trachomatis      min_inter outlier for 10 Mycopla…\n",
       "   9 │        36484       722  Chlamydia trachomatis      min_inter outlier for 10 Mycopla…\n",
       "  10 │        40173       722  Chlamydia trachomatis      min_inter outlier for 10 Mycopla…\n",
       "  11 │        29617      1460  Salmonella enterica        min_inter outlier for 10 Mycopla…\n",
       "  12 │         8165      1742  Lactobacillus rhamnosus    min_inter outlier for 247 Lactip…\n",
       "  13 │        37545       859  Streptococcus pneumoniae   min_inter outlier for 350 Bacill…\n",
       "  14 │        27378       859  Streptococcus pneumoniae   min_inter outlier for 350 Bacill…\n",
       "  15 │        26646       859  Streptococcus pneumoniae   min_inter outlier for 350 Bacill…\n",
       "  16 │        29488       859  Streptococcus pneumoniae   min_inter outlier for 350 Bacill…\n",
       "  17 │        37442       859  Streptococcus pneumoniae   min_inter outlier for 350 Bacill…\n",
       "  18 │        32353       859  Streptococcus pneumoniae   min_inter outlier for 350 Bacill…\n",
       "  19 │        37508       859  Streptococcus pneumoniae   min_inter outlier for 350 Bacill…\n",
       "  20 │        23876       859  Streptococcus pneumoniae   min_inter outlier for 350 Bacill…"
      ]
     },
     "execution_count": 22,
     "metadata": {},
     "output_type": "execute_result"
    }
   ],
   "source": [
    "nremoved_by_leaf = Accumulator{Int, Int}()\n",
    "new_min_inters = Dict{Int, Float32}()\n",
    "\n",
    "removed_summary = let\n",
    "    rows = []\n",
    "\n",
    "    for (side, stats, toremove) in [(:src, src_stats, toremove_src), (:dst, dst_stats, toremove_dst)]\n",
    "        for (tid, n) in toremove\n",
    "            taxon = lookup_tid(tid)\n",
    "            sdf = stats[stats.id .== tid, :]\n",
    "            @assert sdf.i == 1:nrow(sdf)\n",
    "\n",
    "            for i in 1:n\n",
    "                row = sdf[i, :]\n",
    "                nremoved_by_leaf[row.leaf_id] += 1\n",
    "\n",
    "                push!(rows, (\n",
    "                    genome_index=row.genome,\n",
    "                    taxon_id=row.leaf_id,\n",
    "                    taxon_name=row.leaf_name,\n",
    "                    reason=\"min_inter outlier for $(taxon.id) $(taxon.name) on $side side\",\n",
    "                ))\n",
    "            end\n",
    "            \n",
    "            new_min_inters[tid] = sdf[n, :new_min_inter]\n",
    "        end\n",
    "    end\n",
    "    \n",
    "    DataFrame(rows)\n",
    "end"
   ]
  },
  {
   "cell_type": "code",
   "execution_count": 23,
   "id": "a61b8c8f",
   "metadata": {},
   "outputs": [
    {
     "data": {
      "text/html": [
       "<table class=\"data-frame\"><thead><tr><th></th><th>id</th><th>name</th><th>ngenomes</th><th>nremoved</th></tr><tr><th></th><th>Int64</th><th>String</th><th>Int64</th><th>Int64</th></tr></thead><tbody><p>7 rows × 4 columns</p><tr><th>1</th><td>1424</td><td>Mycobacteroides abscessus</td><td>221</td><td>1</td></tr><tr><th>2</th><td>878</td><td>Enterococcus faecium</td><td>411</td><td>1</td></tr><tr><th>3</th><td>722</td><td>Chlamydia trachomatis</td><td>95</td><td>6</td></tr><tr><th>4</th><td>1742</td><td>Lactobacillus rhamnosus</td><td>54</td><td>1</td></tr><tr><th>5</th><td>999</td><td>Listeria monocytogenes</td><td>522</td><td>2</td></tr><tr><th>6</th><td>859</td><td>Streptococcus pneumoniae</td><td>6809</td><td>8</td></tr><tr><th>7</th><td>1460</td><td>Salmonella enterica</td><td>4049</td><td>1</td></tr></tbody></table>"
      ],
      "text/latex": [
       "\\begin{tabular}{r|cccc}\n",
       "\t& id & name & ngenomes & nremoved\\\\\n",
       "\t\\hline\n",
       "\t& Int64 & String & Int64 & Int64\\\\\n",
       "\t\\hline\n",
       "\t1 & 1424 & Mycobacteroides abscessus & 221 & 1 \\\\\n",
       "\t2 & 878 & Enterococcus faecium & 411 & 1 \\\\\n",
       "\t3 & 722 & Chlamydia trachomatis & 95 & 6 \\\\\n",
       "\t4 & 1742 & Lactobacillus rhamnosus & 54 & 1 \\\\\n",
       "\t5 & 999 & Listeria monocytogenes & 522 & 2 \\\\\n",
       "\t6 & 859 & Streptococcus pneumoniae & 6809 & 8 \\\\\n",
       "\t7 & 1460 & Salmonella enterica & 4049 & 1 \\\\\n",
       "\\end{tabular}\n"
      ],
      "text/plain": [
       "\u001b[1m7×4 DataFrame\u001b[0m\n",
       "\u001b[1m Row \u001b[0m│\u001b[1m id    \u001b[0m\u001b[1m name                      \u001b[0m\u001b[1m ngenomes \u001b[0m\u001b[1m nremoved \u001b[0m\n",
       "\u001b[1m     \u001b[0m│\u001b[90m Int64 \u001b[0m\u001b[90m String                    \u001b[0m\u001b[90m Int64    \u001b[0m\u001b[90m Int64    \u001b[0m\n",
       "─────┼──────────────────────────────────────────────────────\n",
       "   1 │  1424  Mycobacteroides abscessus       221         1\n",
       "   2 │   878  Enterococcus faecium            411         1\n",
       "   3 │   722  Chlamydia trachomatis            95         6\n",
       "   4 │  1742  Lactobacillus rhamnosus          54         1\n",
       "   5 │   999  Listeria monocytogenes          522         2\n",
       "   6 │   859  Streptococcus pneumoniae       6809         8\n",
       "   7 │  1460  Salmonella enterica            4049         1"
      ]
     },
     "execution_count": 23,
     "metadata": {},
     "output_type": "execute_result"
    }
   ],
   "source": [
    "removed_by_leaf_summary = map(collect(nremoved_by_leaf)) do (leaf_id, nremoved)\n",
    "    leaf = lookup_tid(leaf_id)\n",
    "    return (\n",
    "        id=leaf.id,\n",
    "        name=leaf.name,\n",
    "        ngenomes=leaf.ngenomes,\n",
    "        nremoved=nremoved,\n",
    "    )\n",
    "end |> DataFrame"
   ]
  },
  {
   "cell_type": "code",
   "execution_count": 24,
   "id": "ada219bd",
   "metadata": {},
   "outputs": [
    {
     "data": {
      "text/html": [
       "<table class=\"data-frame\"><thead><tr><th></th><th>id</th><th>name</th><th>diameter</th><th>old_min_inter</th><th>new_min_inter</th></tr><tr><th></th><th>Int64</th><th>String</th><th>Float32</th><th>Float32</th><th>Float32</th></tr></thead><tbody><p>7 rows × 5 columns</p><tr><th>1</th><td>213</td><td>Mycobacteroides</td><td>0.929199</td><td>0.830563</td><td>0.999291</td></tr><tr><th>2</th><td>10</td><td>Mycoplasma</td><td>1.0</td><td>0.788957</td><td>0.98396</td></tr><tr><th>3</th><td>341</td><td>Enterococcus</td><td>0.996376</td><td>0.916719</td><td>0.983002</td></tr><tr><th>4</th><td>398</td><td>Listeria</td><td>0.994244</td><td>0.966109</td><td>0.986778</td></tr><tr><th>5</th><td>247</td><td>Lactiplantibacillus</td><td>0.986148</td><td>0.933174</td><td>0.980729</td></tr><tr><th>6</th><td>350</td><td>Bacillus</td><td>0.998517</td><td>0.891198</td><td>0.943174</td></tr><tr><th>7</th><td>209</td><td>Chlamydia</td><td>0.998077</td><td>0.788957</td><td>0.983753</td></tr></tbody></table>"
      ],
      "text/latex": [
       "\\begin{tabular}{r|ccccc}\n",
       "\t& id & name & diameter & old\\_min\\_inter & new\\_min\\_inter\\\\\n",
       "\t\\hline\n",
       "\t& Int64 & String & Float32 & Float32 & Float32\\\\\n",
       "\t\\hline\n",
       "\t1 & 213 & Mycobacteroides & 0.929199 & 0.830563 & 0.999291 \\\\\n",
       "\t2 & 10 & Mycoplasma & 1.0 & 0.788957 & 0.98396 \\\\\n",
       "\t3 & 341 & Enterococcus & 0.996376 & 0.916719 & 0.983002 \\\\\n",
       "\t4 & 398 & Listeria & 0.994244 & 0.966109 & 0.986778 \\\\\n",
       "\t5 & 247 & Lactiplantibacillus & 0.986148 & 0.933174 & 0.980729 \\\\\n",
       "\t6 & 350 & Bacillus & 0.998517 & 0.891198 & 0.943174 \\\\\n",
       "\t7 & 209 & Chlamydia & 0.998077 & 0.788957 & 0.983753 \\\\\n",
       "\\end{tabular}\n"
      ],
      "text/plain": [
       "\u001b[1m7×5 DataFrame\u001b[0m\n",
       "\u001b[1m Row \u001b[0m│\u001b[1m id    \u001b[0m\u001b[1m name                \u001b[0m\u001b[1m diameter \u001b[0m\u001b[1m old_min_inter \u001b[0m\u001b[1m new_min_inter \u001b[0m\n",
       "\u001b[1m     \u001b[0m│\u001b[90m Int64 \u001b[0m\u001b[90m String              \u001b[0m\u001b[90m Float32  \u001b[0m\u001b[90m Float32       \u001b[0m\u001b[90m Float32       \u001b[0m\n",
       "─────┼────────────────────────────────────────────────────────────────────\n",
       "   1 │   213  Mycobacteroides      0.929199       0.830563       0.999291\n",
       "   2 │    10  Mycoplasma           1.0            0.788957       0.98396\n",
       "   3 │   341  Enterococcus         0.996376       0.916719       0.983002\n",
       "   4 │   398  Listeria             0.994244       0.966109       0.986778\n",
       "   5 │   247  Lactiplantibacillus  0.986148       0.933174       0.980729\n",
       "   6 │   350  Bacillus             0.998517       0.891198       0.943174\n",
       "   7 │   209  Chlamydia            0.998077       0.788957       0.983753"
      ]
     },
     "execution_count": 24,
     "metadata": {},
     "output_type": "execute_result"
    }
   ],
   "source": [
    "min_inter_summary = map(collect(new_min_inters)) do (tid, new_min_inter)\n",
    "    taxon = lookup_tid(tid)\n",
    "    (\n",
    "        id=taxon.id,\n",
    "        name=taxon.name,\n",
    "        diameter=taxon.diameter,\n",
    "        old_min_inter=taxon.min_inter_dist,\n",
    "        new_min_inter=new_min_inter,\n",
    "    )\n",
    "end |> DataFrame"
   ]
  },
  {
   "cell_type": "markdown",
   "id": "93d6742d",
   "metadata": {},
   "source": [
    "## Write output"
   ]
  },
  {
   "cell_type": "code",
   "execution_count": 25,
   "id": "61d179af",
   "metadata": {},
   "outputs": [
    {
     "data": {
      "text/plain": [
       "p\"data-processed/210710-remove-min-inter-outliers/210710-removed-genomes.csv\""
      ]
     },
     "execution_count": 25,
     "metadata": {},
     "output_type": "execute_result"
    }
   ],
   "source": [
    "CSV.write(processed_out / \"$DATESTR-removed-genomes.csv\", removed_summary)"
   ]
  },
  {
   "cell_type": "code",
   "execution_count": 26,
   "id": "9c00e509",
   "metadata": {},
   "outputs": [
    {
     "data": {
      "text/plain": [
       "p\"data-processed/210710-remove-min-inter-outliers/210710-removed-genomes-by-taxon.csv\""
      ]
     },
     "execution_count": 26,
     "metadata": {},
     "output_type": "execute_result"
    }
   ],
   "source": [
    "CSV.write(processed_out / \"$DATESTR-removed-genomes-by-taxon.csv\", removed_by_leaf_summary)"
   ]
  },
  {
   "cell_type": "code",
   "execution_count": 27,
   "id": "82fd1dc1",
   "metadata": {},
   "outputs": [
    {
     "data": {
      "text/plain": [
       "p\"data-processed/210710-remove-min-inter-outliers/210710-min-inter-updates.csv\""
      ]
     },
     "execution_count": 27,
     "metadata": {},
     "output_type": "execute_result"
    }
   ],
   "source": [
    "CSV.write(processed_out / \"$DATESTR-min-inter-updates.csv\", min_inter_summary)"
   ]
  }
 ],
 "metadata": {
  "kernelspec": {
   "display_name": "Julia 1.5.1",
   "language": "julia",
   "name": "julia-1.5"
  },
  "language_info": {
   "file_extension": ".jl",
   "mimetype": "application/julia",
   "name": "julia",
   "version": "1.5.1"
  }
 },
 "nbformat": 4,
 "nbformat_minor": 5
}
