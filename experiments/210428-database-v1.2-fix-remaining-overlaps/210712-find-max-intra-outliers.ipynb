{
 "cells": [
  {
   "cell_type": "markdown",
   "id": "9ae1c00f",
   "metadata": {},
   "source": [
    "# 210712 Find max intra outliers"
   ]
  },
  {
   "cell_type": "code",
   "execution_count": 1,
   "id": "6fdaad1e",
   "metadata": {},
   "outputs": [],
   "source": [
    "using Mmap"
   ]
  },
  {
   "cell_type": "code",
   "execution_count": 2,
   "id": "586fb1f5",
   "metadata": {},
   "outputs": [
    {
     "data": {
      "text/html": [
       "<script>\n",
       "// Immediately-invoked-function-expression to avoid global variables.\n",
       "(function() {\n",
       "    var warning_div = document.getElementById(\"webio-warning-17181846018850762299\");\n",
       "    var hide = function () {\n",
       "        var script = document.getElementById(\"webio-setup-3552274902589377243\");\n",
       "        var parent = script && script.parentElement;\n",
       "        var grandparent = parent && parent.parentElement;\n",
       "        if (grandparent) {\n",
       "            grandparent.style.display = \"none\";\n",
       "        }\n",
       "        warning_div.style.display = \"none\";\n",
       "    };\n",
       "    if (typeof Jupyter !== \"undefined\") {\n",
       "        console.log(\"WebIO detected Jupyter notebook environment.\");\n",
       "        // Jupyter notebook.\n",
       "        var extensions = (\n",
       "            Jupyter\n",
       "            && Jupyter.notebook.config.data\n",
       "            && Jupyter.notebook.config.data.load_extensions\n",
       "        );\n",
       "        if (extensions && extensions[\"webio-jupyter-notebook\"]) {\n",
       "            // Extension already loaded.\n",
       "            console.log(\"Jupyter WebIO nbextension detected; not loading ad-hoc.\");\n",
       "            hide();\n",
       "            return;\n",
       "        }\n",
       "    } else if (window.location.pathname.includes(\"/lab\")) {\n",
       "        // Guessing JupyterLa\n",
       "        console.log(\"Jupyter Lab detected; make sure the @webio/jupyter-lab-provider labextension is installed.\");\n",
       "        hide();\n",
       "        return;\n",
       "    }\n",
       "})();\n",
       "\n",
       "</script>\n",
       "<p\n",
       "    id=\"webio-warning-17181846018850762299\"\n",
       "    class=\"output_text output_stderr\"\n",
       "    style=\"padding: 1em; font-weight: bold;\"\n",
       ">\n",
       "    Unable to load WebIO. Please make sure WebIO works for your Jupyter client.\n",
       "    For troubleshooting, please see <a href=\"https://juliagizmos.github.io/WebIO.jl/latest/providers/ijulia/\">\n",
       "    the WebIO/IJulia documentation</a>.\n",
       "    <!-- TODO: link to installation docs. -->\n",
       "</p>\n"
      ],
      "text/plain": [
       "HTML{String}(\"<script>\\n// Immediately-invoked-function-expression to avoid global variables.\\n(function() {\\n    var warning_div = document.getElementById(\\\"webio-warning-17181846018850762299\\\");\\n    var hide = function () {\\n        var script = document.getElementById(\\\"webio-setup-3552274902589377243\\\");\\n        var parent = script && script.parentElement;\\n        var grandparent = parent && parent.parentElement;\\n        if (grandparent) {\\n            grandparent.style.display = \\\"none\\\";\\n        }\\n        warning_div.style.display = \\\"none\\\";\\n    };\\n    if (typeof Jupyter !== \\\"undefined\\\") {\\n        console.log(\\\"WebIO detected Jupyter notebook environment.\\\");\\n        // Jupyter notebook.\\n        var extensions = (\\n            Jupyter\\n            && Jupyter.notebook.config.data\\n            && Jupyter.notebook.config.data.load_extensions\\n        );\\n        if (extensions && extensions[\\\"webio-jupyter-notebook\\\"]) {\\n            // Extension already loaded.\\n            console.log(\\\"Jupyter WebIO nbextension detected; not loading ad-hoc.\\\");\\n            hide();\\n            return;\\n        }\\n    } else if (window.location.pathname.includes(\\\"/lab\\\")) {\\n        // Guessing JupyterLa\\n        console.log(\\\"Jupyter Lab detected; make sure the @webio/jupyter-lab-provider labextension is installed.\\\");\\n        hide();\\n        return;\\n    }\\n})();\\n\\n</script>\\n<p\\n    id=\\\"webio-warning-17181846018850762299\\\"\\n    class=\\\"output_text output_stderr\\\"\\n    style=\\\"padding: 1em; font-weight: bold;\\\"\\n>\\n    Unable to load WebIO. Please make sure WebIO works for your Jupyter client.\\n    For troubleshooting, please see <a href=\\\"https://juliagizmos.github.io/WebIO.jl/latest/providers/ijulia/\\\">\\n    the WebIO/IJulia documentation</a>.\\n    <!-- TODO: link to installation docs. -->\\n</p>\\n\")"
      ]
     },
     "metadata": {},
     "output_type": "display_data"
    }
   ],
   "source": [
    "using JSON\n",
    "using DataFrames\n",
    "using FilePathsBase\n",
    "using FilePathsBase: /\n",
    "using Arrow\n",
    "using HDF5\n",
    "using PlotlyJS"
   ]
  },
  {
   "cell_type": "code",
   "execution_count": 3,
   "id": "08d8c415",
   "metadata": {},
   "outputs": [],
   "source": [
    "using Midas.Pairwise: npairs, iterpairs\n",
    "using TriMatrices\n",
    "using ClusterAnalysis\n",
    "using MidasPlots\n",
    "using MidasPlots.Plotly\n",
    "using MidasPlots.Plotly: subplot_axes!"
   ]
  },
  {
   "cell_type": "code",
   "execution_count": 4,
   "id": "e8bacd0a",
   "metadata": {},
   "outputs": [],
   "source": [
    "include(\"src/GridAxes.jl\")\n",
    "using .GridAxesModule"
   ]
  },
  {
   "cell_type": "markdown",
   "id": "3b76ef1e",
   "metadata": {},
   "source": [
    "## Setup"
   ]
  },
  {
   "cell_type": "code",
   "execution_count": 5,
   "id": "61301052",
   "metadata": {},
   "outputs": [
    {
     "data": {
      "text/plain": [
       "400"
      ]
     },
     "execution_count": 5,
     "metadata": {},
     "output_type": "execute_result"
    }
   ],
   "source": [
    "ENV[\"COLUMNS\"] = 400"
   ]
  },
  {
   "cell_type": "code",
   "execution_count": 6,
   "id": "c4aa26f1",
   "metadata": {},
   "outputs": [
    {
     "data": {
      "text/plain": [
       "\"210712-find-max-intra-outliers\""
      ]
     },
     "execution_count": 6,
     "metadata": {},
     "output_type": "execute_result"
    }
   ],
   "source": [
    "DATESTR = \"210712\"\n",
    "NBNAME = \"$DATESTR-find-max-intra-outliers\""
   ]
  },
  {
   "cell_type": "code",
   "execution_count": 7,
   "id": "2f0a5e49",
   "metadata": {},
   "outputs": [],
   "source": [
    "infiles = Dict(\n",
    "    :distances => p\"../../data/intermediate/200727-find-overlaps/genome-pw-distances.raw-float32\",\n",
    "    :db => p\"../../data/intermediate/210401-database-v2-fix-species-overlaps/210424-compile-fixes/\",\n",
    "    :overlaps => p\"data-intermediate/210428-find-remaining-overlaps/\",\n",
    "    :data => p\"data-intermediate/210511-extra-overlap-data/\",\n",
    ");"
   ]
  },
  {
   "cell_type": "code",
   "execution_count": 8,
   "id": "55282a61",
   "metadata": {},
   "outputs": [],
   "source": [
    "SUMMARY_COLS = [:id, :name, :rank, :is_leaf, :is_root, :nleaves, :ngenomes, :noverlaps, :threshold, :max_leaf_threshold, :min_inter_dist];"
   ]
  },
  {
   "cell_type": "markdown",
   "id": "4041fe86",
   "metadata": {},
   "source": [
    "## Load data"
   ]
  },
  {
   "cell_type": "markdown",
   "id": "a0ede9da",
   "metadata": {},
   "source": [
    "### Database"
   ]
  },
  {
   "cell_type": "code",
   "execution_count": 9,
   "id": "5b26f807",
   "metadata": {},
   "outputs": [],
   "source": [
    "taxa = DataFrame(Arrow.Table(string(infiles[:data] / \"taxa.arrow\")));"
   ]
  },
  {
   "cell_type": "code",
   "execution_count": 10,
   "id": "0cc41239",
   "metadata": {},
   "outputs": [
    {
     "data": {
      "text/plain": [
       "50752"
      ]
     },
     "execution_count": 10,
     "metadata": {},
     "output_type": "execute_result"
    }
   ],
   "source": [
    "genome_assignments = Vector{Int}(open(JSON.parse, infiles[:db] / \"genome-taxon-assignments.json\"))\n",
    "ngenomes = length(genome_assignments)"
   ]
  },
  {
   "cell_type": "code",
   "execution_count": 11,
   "id": "af95ee7a",
   "metadata": {},
   "outputs": [
    {
     "data": {
      "text/plain": [
       "lookup_tid (generic function with 2 methods)"
      ]
     },
     "execution_count": 11,
     "metadata": {},
     "output_type": "execute_result"
    }
   ],
   "source": [
    "tid_to_tidx = Dict(id => i for (i, id) in enumerate(taxa[!, :id]))\n",
    "\n",
    "taxon_index(tid::Integer) = tid_to_tidx[tid]\n",
    "taxon_index(tids::AbstractVector{<:Integer}) = taxon_index.(tids)\n",
    "\n",
    "lookup_tid(tid, cols=:) = taxa[taxon_index(tid), cols]"
   ]
  },
  {
   "cell_type": "markdown",
   "id": "a2342eb8",
   "metadata": {},
   "source": [
    "### Distances"
   ]
  },
  {
   "cell_type": "code",
   "execution_count": 12,
   "id": "face9b49",
   "metadata": {},
   "outputs": [],
   "source": [
    "pw_data = Mmap.mmap(open(infiles[:distances]), Vector{Float32}, (npairs(ngenomes),));\n",
    "\n",
    "pw_dists = TriMatrix(TriSymmetric{false}(), ngenomes, pw_data);"
   ]
  },
  {
   "cell_type": "markdown",
   "id": "19631991",
   "metadata": {},
   "source": [
    "### Overlaps"
   ]
  },
  {
   "cell_type": "code",
   "execution_count": 13,
   "id": "5f40579a",
   "metadata": {},
   "outputs": [],
   "source": [
    "overlaps = let\n",
    "    data = open(JSON.parse, infiles[:overlaps] / \"overlaps.json\")\n",
    "    \n",
    "    map(data) do item\n",
    "        item[\"src_taxid\"] => collect(zip(item[\"src_leaf_taxids\"], item[\"dst_leaf_taxids\"], item[\"distances\"]))\n",
    "    end |> Dict\n",
    "end\n",
    "\n",
    "taxa[!, :noverlaps] = [haskey(overlaps, id) ? length(overlaps[id]) : 0 for id in taxa[!, :id]]\n",
    "taxa[!, :has_overlaps] = map(>(0), taxa.noverlaps)\n",
    ";"
   ]
  },
  {
   "cell_type": "markdown",
   "id": "0aabc007",
   "metadata": {},
   "source": [
    "### Leaf data"
   ]
  },
  {
   "cell_type": "code",
   "execution_count": 14,
   "id": "854ec843",
   "metadata": {},
   "outputs": [],
   "source": [
    "h5open(string(infiles[:data] / \"leaf-data.h5\"), \"r\") do f\n",
    "    global leaf_tidxs = read(f, \"idxs\")\n",
    "    global leaf_pw_min_dists = read(f, \"pw_min_dists\")\n",
    "    global leaf_pw_max_dists = read(f, \"pw_max_dists\")\n",
    "    global leaf_pw_mean_dists = read(f, \"pw_mean_dists\")\n",
    "end;"
   ]
  },
  {
   "cell_type": "code",
   "execution_count": 15,
   "id": "cee36708",
   "metadata": {},
   "outputs": [],
   "source": [
    "leaf_tids = taxa[leaf_tidxs, :id]\n",
    "leaf_id_to_index = Dict(id => i for (i, id) in enumerate(leaf_tids))\n",
    "nleaves = length(leaf_tidxs)\n",
    ";"
   ]
  },
  {
   "cell_type": "markdown",
   "id": "51790cf1",
   "metadata": {},
   "source": [
    "## Candidate taxa"
   ]
  },
  {
   "cell_type": "code",
   "execution_count": 16,
   "id": "2e9296f8",
   "metadata": {},
   "outputs": [],
   "source": [
    "candidates = [\n",
    "#     244 => [1420],\n",
    "#     315 => [812],\n",
    "    403 => [1712],\n",
    "    309 => [950],\n",
    "#     462 => [1374],\n",
    "#     451 => [528, 530],\n",
    "    53 => [1470],  # !!\n",
    "    145 => [1525],\n",
    "#     302 => [548],\n",
    "#     363 => [522],\n",
    "#     440 => [1021],\n",
    "#     355 => [1590],\n",
    "#     439 => [1286, 1740],\n",
    "    205 => [1786],\n",
    "    437 => [1405],\n",
    "#     200 => [1576],\n",
    "#     263 => [1234],\n",
    "#     329 => [1337],\n",
    "    20 => [1803],\n",
    "#     429 => [1060],\n",
    "    14 => [1733],\n",
    "    110 => [1326],\n",
    "    326 => [1678],\n",
    "    97 => [1826],\n",
    "    164 => [1597],\n",
    "    252 => [763],\n",
    "    2 => [947],\n",
    "    90 => [1732],\n",
    "];"
   ]
  },
  {
   "cell_type": "code",
   "execution_count": 17,
   "id": "05658b99",
   "metadata": {},
   "outputs": [
    {
     "data": {
      "text/html": [
       "<div class=\"data-frame\"><p>15 rows × 11 columns</p><table class=\"data-frame\"><thead><tr><th></th><th>id</th><th>name</th><th>rank</th><th>is_leaf</th><th>is_root</th><th>nleaves</th><th>ngenomes</th><th>noverlaps</th><th>threshold</th><th>max_leaf_threshold</th><th>min_inter_dist</th></tr><tr><th></th><th title=\"Int64\">Int64</th><th title=\"String\">String</th><th title=\"Union{Missing, String}\">String?</th><th title=\"Bool\">Bool</th><th title=\"Bool\">Bool</th><th title=\"Int64\">Int64</th><th title=\"Int64\">Int64</th><th title=\"Int64\">Int64</th><th title=\"Float32\">Float32</th><th title=\"Float32\">Float32</th><th title=\"Float32\">Float32</th></tr></thead><tbody><tr><th>1</th><td>403</td><td>Actinomyces</td><td>genus</td><td>0</td><td>1</td><td>5</td><td>10</td><td>1495</td><td>0.994288</td><td>0.601804</td><td>0.981125</td></tr><tr><th>2</th><td>309</td><td>Exiguobacterium</td><td>genus</td><td>0</td><td>1</td><td>3</td><td>6</td><td>1</td><td>0.991162</td><td>0.438699</td><td>0.99111</td></tr><tr><th>3</th><td>53</td><td>Brucella</td><td>genus</td><td>0</td><td>1</td><td>10</td><td>276</td><td>8</td><td>0.959696</td><td>0.496397</td><td>0.887919</td></tr><tr><th>4</th><td>145</td><td>Enterobacter</td><td>genus</td><td>0</td><td>1</td><td>9</td><td>260</td><td>544</td><td>0.988478</td><td>0.792222</td><td>0.924833</td></tr><tr><th>5</th><td>205</td><td>Veillonella</td><td>genus</td><td>0</td><td>1</td><td>3</td><td>11</td><td>1</td><td>0.995047</td><td>0.669333</td><td>0.993536</td></tr><tr><th>6</th><td>437</td><td>Cronobacter</td><td>genus</td><td>0</td><td>1</td><td>7</td><td>70</td><td>97</td><td>0.97345</td><td>0.6</td><td>0.95314</td></tr><tr><th>7</th><td>20</td><td>Pantoea</td><td>genus</td><td>0</td><td>1</td><td>5</td><td>50</td><td>6034</td><td>0.999228</td><td>0.597647</td><td>0.942451</td></tr><tr><th>8</th><td>14</td><td>Lysobacter</td><td>genus</td><td>0</td><td>1</td><td>3</td><td>7</td><td>21</td><td>0.983625</td><td>0.480067</td><td>0.973654</td></tr><tr><th>9</th><td>110</td><td>Gluconobacter</td><td>genus</td><td>0</td><td>1</td><td>3</td><td>14</td><td>1</td><td>0.980024</td><td>0.642851</td><td>0.976356</td></tr><tr><th>10</th><td>326</td><td>Lysinibacillus</td><td>genus</td><td>0</td><td>1</td><td>3</td><td>15</td><td>1</td><td>0.992058</td><td>0.7</td><td>0.989381</td></tr><tr><th>11</th><td>97</td><td>Methylobacterium</td><td>genus</td><td>0</td><td>1</td><td>3</td><td>10</td><td>1</td><td>0.965922</td><td>0.408749</td><td>0.962474</td></tr><tr><th>12</th><td>164</td><td>Acidovorax</td><td>genus</td><td>0</td><td>1</td><td>3</td><td>8</td><td>5</td><td>0.97618</td><td>0.498023</td><td>0.966814</td></tr><tr><th>13</th><td>252</td><td>Capnocytophaga</td><td>genus</td><td>0</td><td>1</td><td>4</td><td>15</td><td>74</td><td>0.996836</td><td>0.608908</td><td>0.990865</td></tr><tr><th>14</th><td>2</td><td>Gordonia</td><td>genus</td><td>0</td><td>1</td><td>5</td><td>12</td><td>72</td><td>0.978936</td><td>0.443014</td><td>0.974594</td></tr><tr><th>15</th><td>90</td><td>Rhizobium</td><td>genus</td><td>0</td><td>1</td><td>4</td><td>33</td><td>11</td><td>0.97136</td><td>0.866327</td><td>0.962386</td></tr></tbody></table></div>"
      ],
      "text/latex": [
       "\\begin{tabular}{r|ccccccccccc}\n",
       "\t& id & name & rank & is\\_leaf & is\\_root & nleaves & ngenomes & noverlaps & threshold & max\\_leaf\\_threshold & min\\_inter\\_dist\\\\\n",
       "\t\\hline\n",
       "\t& Int64 & String & String? & Bool & Bool & Int64 & Int64 & Int64 & Float32 & Float32 & Float32\\\\\n",
       "\t\\hline\n",
       "\t1 & 403 & Actinomyces & genus & 0 & 1 & 5 & 10 & 1495 & 0.994288 & 0.601804 & 0.981125 \\\\\n",
       "\t2 & 309 & Exiguobacterium & genus & 0 & 1 & 3 & 6 & 1 & 0.991162 & 0.438699 & 0.99111 \\\\\n",
       "\t3 & 53 & Brucella & genus & 0 & 1 & 10 & 276 & 8 & 0.959696 & 0.496397 & 0.887919 \\\\\n",
       "\t4 & 145 & Enterobacter & genus & 0 & 1 & 9 & 260 & 544 & 0.988478 & 0.792222 & 0.924833 \\\\\n",
       "\t5 & 205 & Veillonella & genus & 0 & 1 & 3 & 11 & 1 & 0.995047 & 0.669333 & 0.993536 \\\\\n",
       "\t6 & 437 & Cronobacter & genus & 0 & 1 & 7 & 70 & 97 & 0.97345 & 0.6 & 0.95314 \\\\\n",
       "\t7 & 20 & Pantoea & genus & 0 & 1 & 5 & 50 & 6034 & 0.999228 & 0.597647 & 0.942451 \\\\\n",
       "\t8 & 14 & Lysobacter & genus & 0 & 1 & 3 & 7 & 21 & 0.983625 & 0.480067 & 0.973654 \\\\\n",
       "\t9 & 110 & Gluconobacter & genus & 0 & 1 & 3 & 14 & 1 & 0.980024 & 0.642851 & 0.976356 \\\\\n",
       "\t10 & 326 & Lysinibacillus & genus & 0 & 1 & 3 & 15 & 1 & 0.992058 & 0.7 & 0.989381 \\\\\n",
       "\t11 & 97 & Methylobacterium & genus & 0 & 1 & 3 & 10 & 1 & 0.965922 & 0.408749 & 0.962474 \\\\\n",
       "\t12 & 164 & Acidovorax & genus & 0 & 1 & 3 & 8 & 5 & 0.97618 & 0.498023 & 0.966814 \\\\\n",
       "\t13 & 252 & Capnocytophaga & genus & 0 & 1 & 4 & 15 & 74 & 0.996836 & 0.608908 & 0.990865 \\\\\n",
       "\t14 & 2 & Gordonia & genus & 0 & 1 & 5 & 12 & 72 & 0.978936 & 0.443014 & 0.974594 \\\\\n",
       "\t15 & 90 & Rhizobium & genus & 0 & 1 & 4 & 33 & 11 & 0.97136 & 0.866327 & 0.962386 \\\\\n",
       "\\end{tabular}\n"
      ],
      "text/plain": [
       "\u001b[1m15×11 DataFrame\u001b[0m\n",
       "\u001b[1m Row \u001b[0m│\u001b[1m id    \u001b[0m\u001b[1m name             \u001b[0m\u001b[1m rank    \u001b[0m\u001b[1m is_leaf \u001b[0m\u001b[1m is_root \u001b[0m\u001b[1m nleaves \u001b[0m\u001b[1m ngenomes \u001b[0m\u001b[1m noverlaps \u001b[0m\u001b[1m threshold \u001b[0m\u001b[1m max_leaf_threshold \u001b[0m\u001b[1m min_inter_dist \u001b[0m\n",
       "\u001b[1m     \u001b[0m│\u001b[90m Int64 \u001b[0m\u001b[90m String           \u001b[0m\u001b[90m String? \u001b[0m\u001b[90m Bool    \u001b[0m\u001b[90m Bool    \u001b[0m\u001b[90m Int64   \u001b[0m\u001b[90m Int64    \u001b[0m\u001b[90m Int64     \u001b[0m\u001b[90m Float32   \u001b[0m\u001b[90m Float32            \u001b[0m\u001b[90m Float32        \u001b[0m\n",
       "─────┼─────────────────────────────────────────────────────────────────────────────────────────────────────────────────────────────────\n",
       "   1 │   403  Actinomyces       genus      false     true        5        10       1495   0.994288            0.601804        0.981125\n",
       "   2 │   309  Exiguobacterium   genus      false     true        3         6          1   0.991162            0.438699        0.99111\n",
       "   3 │    53  Brucella          genus      false     true       10       276          8   0.959696            0.496397        0.887919\n",
       "   4 │   145  Enterobacter      genus      false     true        9       260        544   0.988478            0.792222        0.924833\n",
       "   5 │   205  Veillonella       genus      false     true        3        11          1   0.995047            0.669333        0.993536\n",
       "   6 │   437  Cronobacter       genus      false     true        7        70         97   0.97345             0.6             0.95314\n",
       "   7 │    20  Pantoea           genus      false     true        5        50       6034   0.999228            0.597647        0.942451\n",
       "   8 │    14  Lysobacter        genus      false     true        3         7         21   0.983625            0.480067        0.973654\n",
       "   9 │   110  Gluconobacter     genus      false     true        3        14          1   0.980024            0.642851        0.976356\n",
       "  10 │   326  Lysinibacillus    genus      false     true        3        15          1   0.992058            0.7             0.989381\n",
       "  11 │    97  Methylobacterium  genus      false     true        3        10          1   0.965922            0.408749        0.962474\n",
       "  12 │   164  Acidovorax        genus      false     true        3         8          5   0.97618             0.498023        0.966814\n",
       "  13 │   252  Capnocytophaga    genus      false     true        4        15         74   0.996836            0.608908        0.990865\n",
       "  14 │     2  Gordonia          genus      false     true        5        12         72   0.978936            0.443014        0.974594\n",
       "  15 │    90  Rhizobium         genus      false     true        4        33         11   0.97136             0.866327        0.962386"
      ]
     },
     "execution_count": 17,
     "metadata": {},
     "output_type": "execute_result"
    }
   ],
   "source": [
    "lookup_tid(first.(candidates), SUMMARY_COLS)"
   ]
  },
  {
   "cell_type": "markdown",
   "id": "a686c6ee",
   "metadata": {},
   "source": [
    "## Plots"
   ]
  },
  {
   "cell_type": "code",
   "execution_count": 18,
   "id": "a7553c8b",
   "metadata": {},
   "outputs": [
    {
     "data": {
      "text/plain": [
       "leaf_pw_grid (generic function with 2 methods)"
      ]
     },
     "execution_count": 18,
     "metadata": {},
     "output_type": "execute_result"
    }
   ],
   "source": [
    "function leaf_pw_grid(row_leaves::AbstractVector{Int}, col_leaves::AbstractVector{Int}, mark_threshold=nothing; kw...)\n",
    "    row_leaves = lookup_tid.(row_leaves)\n",
    "    col_leaves = lookup_tid.(col_leaves)\n",
    "    \n",
    "    ga = GridAxes(\n",
    "        [leaf.ngenomes for leaf in row_leaves],\n",
    "        [leaf.ngenomes for leaf in col_leaves];\n",
    "        sharex=true,\n",
    "        sharey=true,\n",
    "        kw...\n",
    "    )\n",
    "    for (leaf, ax) in zip(row_leaves, ga.yaxes)\n",
    "        ax[:title_text] = leaf.plot_label\n",
    "    end\n",
    "    for (leaf, ax) in zip(col_leaves, ga.xaxes)\n",
    "        ax[:title_text] = leaf.plot_label\n",
    "    end\n",
    "    \n",
    "    traces = GenericTrace[]\n",
    "    \n",
    "    for (r, row_leaf) in enumerate(row_leaves)\n",
    "        for (c, col_leaf) in enumerate(col_leaves)\n",
    "            dmat = view(pw_dists, row_leaf.genomes, col_leaf.genomes)\n",
    "            \n",
    "            hm = heatmap(\n",
    "                z=dmat',\n",
    "                coloraxis=\"coloraxis\",\n",
    "                name=\"$(row_leaf.name)<br>$(col_leaf.name)\",\n",
    "                hoverlabel=attr(namelength=-1)\n",
    "            )\n",
    "            setaxes!(hm, ga, r, c)\n",
    "            push!(traces, hm)\n",
    "            \n",
    "            # Dots\n",
    "            if mark_threshold !== nothing\n",
    "                dots = scatter(\n",
    "                    mode=:markers,\n",
    "                    marker_color=:red,\n",
    "#                     marker_size=max(1, round(Int, 6 * min(1, 5 / taxon.nleaves))),\n",
    "                    hoverinfo=:skip,\n",
    "                )\n",
    "                vector_attrs!(dots, findall(>=(mark_threshold), dmat)) do idx\n",
    "                    Dict(\n",
    "                        :x => idx[2] - 1,\n",
    "                        :y => idx[1] - 1,\n",
    "                    )\n",
    "                end\n",
    "                setaxes!(dots, ga, r, c)\n",
    "                push!(traces, dots)\n",
    "            end\n",
    "        end\n",
    "    end\n",
    "    \n",
    "    layout = Layout(\n",
    "        coloraxis=attr(\n",
    "            colorscale=\"Viridis\",\n",
    "        ),\n",
    "        showlegend=false,\n",
    "    )\n",
    "    setaxes!(layout, ga)\n",
    "    \n",
    "    return Plot(traces, layout)\n",
    "end"
   ]
  },
  {
   "cell_type": "code",
   "execution_count": 19,
   "id": "0a257634",
   "metadata": {},
   "outputs": [
    {
     "data": {
      "application/vnd.plotly.v1+json": {
       "data": [
        {
         "coloraxis": "coloraxis",
         "hoverlabel": {
          "namelength": -1
         },
         "name": "Actinomyces graevenitzii<br>Actinomyces urogenitalis",
         "type": "heatmap",
         "xaxis": "x",
         "yaxis": "y",
         "z": [
          [
           0.99186736,
           0.9902615
          ],
          [
           0.9916354,
           0.99122906
          ]
         ]
        },
        {
         "coloraxis": "coloraxis",
         "hoverlabel": {
          "namelength": -1
         },
         "name": "Actinomyces graevenitzii<br>Actinomyces massiliensis",
         "type": "heatmap",
         "xaxis": "x2",
         "yaxis": "y",
         "z": [
          [
           0.9936965,
           0.99418193
          ],
          [
           0.9940737,
           0.9942877
          ]
         ]
        },
        {
         "coloraxis": "coloraxis",
         "hoverlabel": {
          "namelength": -1
         },
         "name": "Actinomyces graevenitzii<br>Actinomyces johnsonii",
         "type": "heatmap",
         "xaxis": "x3",
         "yaxis": "y",
         "z": [
          [
           0.9926668,
           0.99308735
          ],
          [
           0.99248123,
           0.99318117
          ]
         ]
        },
        {
         "coloraxis": "coloraxis",
         "hoverlabel": {
          "namelength": -1
         },
         "name": "Actinomyces graevenitzii<br>Actinomyces oris",
         "type": "heatmap",
         "xaxis": "x4",
         "yaxis": "y",
         "z": [
          [
           0.9939741,
           0.9928599
          ],
          [
           0.99348503,
           0.99285924
          ]
         ]
        }
       ],
       "frames": [],
       "layout": {
        "autosize": true,
        "coloraxis": {
         "colorscale": "Viridis"
        },
        "margin": {
         "b": 50,
         "l": 50,
         "r": 50,
         "t": 60
        },
        "showlegend": false,
        "title": {
         "text": "403 Actinomyces"
        },
        "xaxis": {
         "autorange": true,
         "domain": [
          0,
          0.2325581395348837
         ],
         "range": [
          -0.5,
          1.5
         ],
         "title": {
          "text": "1612 Actinomyces urogenitalis"
         }
        },
        "xaxis2": {
         "autorange": true,
         "domain": [
          0.25581395348837205,
          0.48837209302325574
         ],
         "range": [
          -0.5,
          1.5
         ],
         "title": {
          "text": "1196 Actinomyces massiliensis"
         }
        },
        "xaxis3": {
         "autorange": true,
         "domain": [
          0.5116279069767441,
          0.7441860465116278
         ],
         "range": [
          -0.5,
          1.5
         ],
         "title": {
          "text": "1409 Actinomyces johnsonii"
         }
        },
        "xaxis4": {
         "autorange": true,
         "domain": [
          0.7674418604651162,
          1
         ],
         "range": [
          -0.5,
          1.5
         ],
         "title": {
          "text": "1408 Actinomyces oris"
         }
        },
        "yaxis": {
         "autorange": true,
         "domain": [
          0,
          1
         ],
         "range": [
          -0.5,
          1.5
         ],
         "title": {
          "text": "1712 Actinomyces graevenitzii"
         }
        }
       }
      },
      "text/plain": [
       "data: [\n",
       "  \"heatmap with fields coloraxis, hoverlabel, name, type, xaxis, yaxis, and z\",\n",
       "  \"heatmap with fields coloraxis, hoverlabel, name, type, xaxis, yaxis, and z\",\n",
       "  \"heatmap with fields coloraxis, hoverlabel, name, type, xaxis, yaxis, and z\",\n",
       "  \"heatmap with fields coloraxis, hoverlabel, name, type, xaxis, yaxis, and z\"\n",
       "]\n",
       "\n",
       "layout: \"layout with fields coloraxis, margin, showlegend, title, xaxis, xaxis2, xaxis3, xaxis4, and yaxis\"\n",
       "\n"
      ]
     },
     "metadata": {},
     "output_type": "display_data"
    },
    {
     "data": {
      "application/vnd.plotly.v1+json": {
       "data": [
        {
         "coloraxis": "coloraxis",
         "hoverlabel": {
          "namelength": -1
         },
         "name": "Exiguobacterium chiriqhucha<br>Exiguobacterium antarcticum",
         "type": "heatmap",
         "xaxis": "x",
         "yaxis": "y",
         "z": [
          [
           0.9908896,
           0.99079025
          ],
          [
           0.99116164,
           0.9910006
          ]
         ]
        }
       ],
       "frames": [],
       "layout": {
        "autosize": true,
        "coloraxis": {
         "colorscale": "Viridis"
        },
        "margin": {
         "b": 50,
         "l": 50,
         "r": 50,
         "t": 60
        },
        "showlegend": false,
        "title": {
         "text": "309 Exiguobacterium"
        },
        "xaxis": {
         "autorange": true,
         "domain": [
          0,
          1
         ],
         "range": [
          -0.5,
          1.5
         ],
         "title": {
          "text": "1070 Exiguobacterium antarcticum"
         }
        },
        "yaxis": {
         "autorange": true,
         "domain": [
          0,
          1
         ],
         "range": [
          -0.5,
          1.5
         ],
         "title": {
          "text": "950 Exiguobacterium chiriqhucha"
         }
        }
       }
      },
      "text/plain": [
       "data: [\n",
       "  \"heatmap with fields coloraxis, hoverlabel, name, type, xaxis, yaxis, and z\"\n",
       "]\n",
       "\n",
       "layout: \"layout with fields coloraxis, margin, showlegend, title, xaxis, and yaxis\"\n",
       "\n"
      ]
     },
     "metadata": {},
     "output_type": "display_data"
    },
    {
     "data": {
      "application/vnd.plotly.v1+json": {
       "data": [
        {
         "coloraxis": "coloraxis",
         "hoverlabel": {
          "namelength": -1
         },
         "name": "Brucella intermedia<br>Brucella ovis",
         "type": "heatmap",
         "xaxis": "x",
         "yaxis": "y",
         "z": [
          [
           0.95574427,
           0.9557905,
           0.9557881,
           0.955793,
           0.9557905,
           0.9557905,
           0.9557856,
           0.9557881,
           0.95578057,
           0.9557905,
           0.95574176,
           0.95574176,
           0.955798,
           0.95573926,
           0.9557881,
           0.95594686
          ],
          [
           0.95819813,
           0.9582425,
           0.9582402,
           0.9582447,
           0.9582425,
           0.9582425,
           0.958238,
           0.9582402,
           0.9582336,
           0.9582425,
           0.9581959,
           0.9581959,
           0.95824915,
           0.9581937,
           0.9582402,
           0.95839095
          ],
          [
           0.95539016,
           0.9554361,
           0.9554336,
           0.9554386,
           0.9554361,
           0.9554361,
           0.9554311,
           0.9554336,
           0.95542616,
           0.9554361,
           0.95538765,
           0.95538765,
           0.9554436,
           0.95538515,
           0.9554336,
           0.9555916
          ]
         ]
        },
        {
         "coloraxis": "coloraxis",
         "hoverlabel": {
          "namelength": -1
         },
         "name": "Brucella intermedia<br>Brucella neotomae",
         "type": "heatmap",
         "xaxis": "x2",
         "yaxis": "y",
         "z": [
          [
           0.9565532,
           0.9564588
          ],
          [
           0.9590514,
           0.9589611
          ],
          [
           0.95579344,
           0.9556997
          ]
         ]
        },
        {
         "coloraxis": "coloraxis",
         "hoverlabel": {
          "namelength": -1
         },
         "name": "Brucella intermedia<br>Brucella pinnipedialis",
         "type": "heatmap",
         "xaxis": "x3",
         "yaxis": "y",
         "z": [
          [
           0.9561777,
           0.95605856,
           0.9561899,
           0.9559906
          ],
          [
           0.9586803,
           0.958574,
           0.9586911,
           0.9584675
          ],
          [
           0.95565474,
           0.9555924,
           0.9556669,
           0.95546424
          ]
         ]
        },
        {
         "coloraxis": "coloraxis",
         "hoverlabel": {
          "namelength": -1
         },
         "name": "Brucella intermedia<br>Brucella ceti",
         "type": "heatmap",
         "xaxis": "x4",
         "yaxis": "y",
         "z": [
          [
           0.9566066,
           0.95661145,
           0.95629114,
           0.95625,
           0.95657533
          ],
          [
           0.9590501,
           0.95905447,
           0.95875365,
           0.9587139,
           0.95903116
          ],
          [
           0.9560195,
           0.9560244,
           0.95564693,
           0.95560616,
           0.95604396
          ]
         ]
        },
        {
         "coloraxis": "coloraxis",
         "hoverlabel": {
          "namelength": -1
         },
         "name": "Brucella intermedia<br>Brucella suis subgroup 2",
         "type": "heatmap",
         "xaxis": "x5",
         "yaxis": "y",
         "z": [
          [
           0.9563348,
           0.9563175,
           0.95620847,
           0.95621336,
           0.9563324,
           0.9561795,
           0.9562549,
           0.956279,
           0.95643187,
           0.9561844,
           0.95618194,
           0.95628875,
           0.956228,
           0.9561869,
           0.95618933,
           0.95618933,
           0.956206,
           0.9563324,
           0.95621824,
           0.9562207,
           0.9562109,
           0.95624757,
           0.9562451,
           0.95621824,
           0.9563372
          ],
          [
           0.95874053,
           0.95872796,
           0.9586218,
           0.95862615,
           0.9587384,
           0.958593,
           0.9586633,
           0.9586877,
           0.95883316,
           0.95859736,
           0.9585952,
           0.9586965,
           0.95863926,
           0.95859957,
           0.9586018,
           0.9586018,
           0.9586196,
           0.9587384,
           0.9586305,
           0.9586327,
           0.95862395,
           0.9586567,
           0.9586546,
           0.9586305,
           0.95874274
          ],
          [
           0.9558063,
           0.9557882,
           0.9556804,
           0.9556853,
           0.9558039,
           0.95570993,
           0.95572716,
           0.95575076,
           0.95596087,
           0.9556568,
           0.9557124,
           0.9557606,
           0.9557581,
           0.9556593,
           0.9556617,
           0.9556617,
           0.955736,
           0.9558039,
           0.9556902,
           0.9556927,
           0.9556828,
           0.95571977,
           0.9557173,
           0.9556902,
           0.95580876
          ]
         ]
        },
        {
         "coloraxis": "coloraxis",
         "hoverlabel": {
          "namelength": -1
         },
         "name": "Brucella intermedia<br>Brucella suis subgroup 1",
         "type": "heatmap",
         "xaxis": "x6",
         "yaxis": "y",
         "z": [
          [
           0.9561942,
           0.9562158,
           0.9561942,
           0.95618933,
           0.95617706,
           0.95618933,
           0.95617706,
           0.95619667,
           0.95618933,
           0.95619625
          ],
          [
           0.9586611,
           0.9586834,
           0.9586611,
           0.9586567,
           0.9586458,
           0.9586567,
           0.9586458,
           0.9586633,
           0.9586567,
           0.9586659
          ],
          [
           0.95560867,
           0.9556297,
           0.95560867,
           0.9556037,
           0.9555914,
           0.9556037,
           0.9555914,
           0.9556111,
           0.9556037,
           0.95572615
          ]
         ]
        },
        {
         "coloraxis": "coloraxis",
         "hoverlabel": {
          "namelength": -1
         },
         "name": "Brucella intermedia<br>Brucella canis",
         "type": "heatmap",
         "xaxis": "x7",
         "yaxis": "y",
         "z": [
          [
           0.9561697,
           0.95615363,
           0.95614624,
           0.9563216,
           0.95608693,
           0.9561844,
           0.95614624,
           0.9561795,
           0.95622313,
           0.95630336,
           0.95618933,
           0.9561697,
           0.95617217,
           0.9563906
          ],
          [
           0.95863926,
           0.95863384,
           0.9586273,
           0.9587957,
           0.9585624,
           0.9586524,
           0.9586273,
           0.958648,
           0.9586899,
           0.9587645,
           0.9586567,
           0.95863926,
           0.95864147,
           0.9588484
          ],
          [
           0.955584,
           0.9556238,
           0.95567465,
           0.95584863,
           0.95573354,
           0.9555988,
           0.95567465,
           0.9555938,
           0.9556371,
           0.9556012,
           0.9556037,
           0.955584,
           0.95558643,
           0.9558039
          ]
         ]
        },
        {
         "coloraxis": "coloraxis",
         "hoverlabel": {
          "namelength": -1
         },
         "name": "Brucella intermedia<br>Brucella melitensis",
         "type": "heatmap",
         "xaxis": "x8",
         "yaxis": "y",
         "z": [
          [
           0.9566894,
           0.9567085,
           0.9566238,
           0.9568249,
           0.95661896,
           0.9567133,
           0.9566575,
           0.95666724,
           0.9566771,
           0.9566261,
           0.95668435,
           0.9566214,
           0.9566527,
           0.9566503,
           0.9566455,
           0.95669425,
           0.9566287,
           0.9567061,
           0.95678425,
           0.95673776,
           0.9566845,
           0.95669883,
           0.9567278,
           0.9566456,
           0.9567343,
           0.95663595,
           0.95665514,
           0.9567133,
           0.9567501,
           0.9566966,
           0.9566335,
           0.9566527,
           0.95663834,
           0.95673025,
           0.9567278,
           0.9566795,
           0.9566479,
           0.956796,
           0.95665514,
           0.95665514,
           0.9566503,
           0.95674497,
           0.9566626,
           0.956796,
           0.9566819,
           0.9567133,
           0.9565921,
           0.9567836,
           0.9566479,
           0.9566527,
           0.9567133,
           0.9566358,
           0.95684177,
           0.95671093,
           0.95663106,
           0.95673746,
           0.9566916,
           0.9567061,
           0.95675707,
           0.9566455,
           0.9566455,
           0.95670366,
           0.95671576,
           0.95677876,
           0.95678115
          ],
          [
           0.959243,
           0.95931184,
           0.9591815,
           0.95936674,
           0.9591772,
           0.95931613,
           0.9592634,
           0.95927197,
           0.9592839,
           0.95923537,
           0.9592903,
           0.9592344,
           0.9592591,
           0.9592569,
           0.9592526,
           0.9593023,
           0.95918584,
           0.9593097,
           0.95938873,
           0.959341,
           0.9592937,
           0.95930326,
           0.9592741,
           0.9591459,
           0.9593539,
           0.9591923,
           0.95926124,
           0.95931613,
           0.95930016,
           0.9592495,
           0.9591351,
           0.9592591,
           0.95913947,
           0.95927626,
           0.9592741,
           0.9591761,
           0.95925474,
           0.95928603,
           0.95926124,
           0.95926124,
           0.9592569,
           0.9592376,
           0.95916104,
           0.95928603,
           0.9592332,
           0.95931613,
           0.959202,
           0.95932686,
           0.9593097,
           0.9592591,
           0.95931613,
           0.959244,
           0.95938176,
           0.959314,
           0.959188,
           0.9592827,
           0.9592968,
           0.9593097,
           0.95935816,
           0.9592526,
           0.9592526,
           0.95930755,
           0.9593183,
           0.9593226,
           0.9593247
          ],
          [
           0.95592654,
           0.9560049,
           0.9559192,
           0.95617884,
           0.95591426,
           0.9560098,
           0.95595425,
           0.955964,
           0.9559731,
           0.9559224,
           0.9559804,
           0.9559167,
           0.95594937,
           0.9560049,
           0.955942,
           0.95598954,
           0.955866,
           0.9560025,
           0.9560788,
           0.9560336,
           0.95597976,
           0.9559951,
           0.9560824,
           0.95588315,
           0.9561423,
           0.95587337,
           0.9559518,
           0.9560098,
           0.955929,
           0.9559339,
           0.95587087,
           0.95594937,
           0.9558758,
           0.95608485,
           0.9560824,
           0.95597553,
           0.9560025,
           0.9560916,
           0.9559518,
           0.9559518,
           0.95594686,
           0.95598286,
           0.9559584,
           0.9560336,
           0.955978,
           0.9560098,
           0.95588887,
           0.9561379,
           0.9560025,
           0.95594937,
           0.9560098,
           0.9559902,
           0.9561959,
           0.95600736,
           0.9558684,
           0.9560921,
           0.95598775,
           0.9560025,
           0.95605314,
           0.955942,
           0.955942,
           0.956,
           0.9560122,
           0.95613307,
           0.95613545
          ]
         ]
        },
        {
         "coloraxis": "coloraxis",
         "hoverlabel": {
          "namelength": -1
         },
         "name": "Brucella intermedia<br>Brucella abortus",
         "type": "heatmap",
         "xaxis": "x9",
         "yaxis": "y",
         "z": [
          [
           0.9568744,
           0.9569814,
           0.9570573,
           0.9568261,
           0.95678943,
           0.9567066,
           0.95692307,
           0.9568188,
           0.9569279,
           0.95671576,
           0.95703495,
           0.9569423,
           0.95686954,
           0.956884,
           0.956872,
           0.956872,
           0.95687675,
           0.95686954,
           0.9569351,
           0.95694476,
           0.9569496,
           0.95695496,
           0.95686716,
           0.9569362,
           0.9568233,
           0.9568792,
           0.956884,
           0.95700306,
           0.9568792,
           0.9566506,
           0.9568281,
           0.9568816,
           0.9568816,
           0.95671624,
           0.95699584,
           0.95687675,
           0.95693755,
           0.956843,
           0.9568792,
           0.95691055,
           0.9569014,
           0.9568792,
           0.9567919,
           0.9568233,
           0.9570007,
           0.956884,
           0.9568864,
           0.9568864,
           0.9568816,
           0.956884,
           0.956884,
           0.9570007,
           0.9568257,
           0.95686233,
           0.9568792,
           0.95689654,
           0.9567798,
           0.9567846,
           0.9568353,
           0.95688885,
           0.9568744,
           0.9569062,
           0.9569694,
           0.956899,
           0.95670897,
           0.95691293,
           0.9569664,
           0.95664334,
           0.95680875,
           0.9568845,
           0.9567114,
           0.9567846,
           0.95713246,
           0.9567114,
           0.95691824,
           0.95676553,
           0.9569038,
           0.9567114,
           0.95671386,
           0.95677215,
           0.9568869,
           0.9568333,
           0.9568792,
           0.95682085,
           0.95681846,
           0.9568816,
           0.956884,
           0.9568792,
           0.95688885,
           0.95697904,
           0.9568792,
           0.956884,
           0.9568816,
           0.9568792,
           0.9569351,
           0.9568816,
           0.956884,
           0.956872,
           0.9569814,
           0.9568816,
           0.9569814,
           0.95692116,
           0.95693564,
           0.9572736,
           0.95681846,
           0.9569038,
           0.9570765,
           0.95695734,
           0.9570566,
           0.9569989,
           0.95681363,
           0.95672107,
           0.95684785,
           0.9568406,
           0.9567919,
           0.9567187,
           0.9568864,
           0.956798,
           0.9568112,
           0.95689416,
           0.95688885,
           0.956964,
           0.9567919,
           0.9569038,
           0.9568917,
           0.956899,
           0.95699346,
           0.9567919,
           0.956899,
           0.9569086,
           0.9568869,
           0.9570007
          ],
          [
           0.95931,
           0.9593565,
           0.95948523,
           0.95915663,
           0.9592312,
           0.9590962,
           0.9593565,
           0.95920527,
           0.9593057,
           0.9590986,
           0.95940727,
           0.95931864,
           0.9593057,
           0.95931864,
           0.95930785,
           0.95930785,
           0.95931214,
           0.9593057,
           0.9593672,
           0.9593758,
           0.95938015,
           0.9593879,
           0.95930356,
           0.959319,
           0.9592614,
           0.95931435,
           0.95931864,
           0.9594309,
           0.95931435,
           0.95904326,
           0.9592657,
           0.9593165,
           0.9592614,
           0.95910484,
           0.95942444,
           0.95931214,
           0.95936936,
           0.9592269,
           0.95931435,
           0.9592322,
           0.9593371,
           0.95931435,
           0.95917827,
           0.9592614,
           0.9594287,
           0.95931864,
           0.9593208,
           0.9593208,
           0.9593165,
           0.95931864,
           0.95931864,
           0.9594287,
           0.95926356,
           0.9592442,
           0.95931435,
           0.9593328,
           0.9591675,
           0.9591718,
           0.9592722,
           0.9593229,
           0.9592549,
           0.95928633,
           0.9593457,
           0.95927984,
           0.95909834,
           0.9592344,
           0.9592851,
           0.95903677,
           0.9592485,
           0.9592669,
           0.95910054,
           0.9591718,
           0.9595553,
           0.95910054,
           0.95940727,
           0.9591577,
           0.95933926,
           0.95910054,
           0.9591027,
           0.95915776,
           0.95926905,
           0.95921826,
           0.95931435,
           0.9592593,
           0.9592571,
           0.9593165,
           0.95931864,
           0.95931435,
           0.9593229,
           0.95935434,
           0.95931435,
           0.95931864,
           0.9593165,
           0.95931435,
           0.9593672,
           0.9593165,
           0.95931864,
           0.95930785,
           0.9593565,
           0.9592614,
           0.9593565,
           0.9593578,
           0.9593156,
           0.95969623,
           0.9592571,
           0.95933926,
           0.9594473,
           0.95933497,
           0.9594816,
           0.959375,
           0.9592528,
           0.9591092,
           0.9591761,
           0.95922476,
           0.95917827,
           0.95910704,
           0.9593208,
           0.95917505,
           0.9592506,
           0.95927554,
           0.9593229,
           0.959393,
           0.95917827,
           0.9592842,
           0.9593285,
           0.95933497,
           0.9594223,
           0.95917827,
           0.95933497,
           0.95934355,
           0.9593242,
           0.9594287
          ],
          [
           0.9560519,
           0.9562166,
           0.95623326,
           0.9558865,
           0.9559668,
           0.9558848,
           0.95615846,
           0.95599556,
           0.9561052,
           0.95595425,
           0.9562117,
           0.95611984,
           0.956047,
           0.9560617,
           0.95604944,
           0.95604944,
           0.9560544,
           0.956047,
           0.9561125,
           0.95606416,
           0.95606905,
           0.95607334,
           0.95604455,
           0.95605314,
           0.9560011,
           0.95605683,
           0.9560617,
           0.9561223,
           0.95611495,
           0.9558291,
           0.95606416,
           0.9560593,
           0.9560593,
           0.95589465,
           0.95617306,
           0.9560544,
           0.95611495,
           0.95602006,
           0.95605683,
           0.9560305,
           0.95602006,
           0.95605683,
           0.9559692,
           0.9560011,
           0.95611984,
           0.9560617,
           0.95606416,
           0.95606416,
           0.9560593,
           0.9560617,
           0.9560617,
           0.9560617,
           0.95594543,
           0.95603967,
           0.95605683,
           0.95601517,
           0.95595694,
           0.9559619,
           0.9560134,
           0.9560666,
           0.9560519,
           0.95602494,
           0.95614624,
           0.9560176,
           0.95588726,
           0.95603293,
           0.95608616,
           0.95587987,
           0.9559864,
           0.9560029,
           0.9558897,
           0.9559619,
           0.956134,
           0.9559479,
           0.9560954,
           0.95588315,
           0.9560225,
           0.9558897,
           0.9558922,
           0.9559503,
           0.95600533,
           0.95595205,
           0.95605683,
           0.95599866,
           0.9559962,
           0.9560593,
           0.9560617,
           0.95605683,
           0.9560666,
           0.956156,
           0.95605683,
           0.9560617,
           0.9560593,
           0.95605683,
           0.9561125,
           0.9560593,
           0.9560617,
           0.95604944,
           0.95615846,
           0.9560593,
           0.95615846,
           0.9560973,
           0.95605373,
           0.9562713,
           0.9559962,
           0.9560225,
           0.9562528,
           0.9560758,
           0.9561755,
           0.9561751,
           0.9559913,
           0.95589954,
           0.9559086,
           0.9560176,
           0.9559692,
           0.9558971,
           0.9561223,
           0.95609456,
           0.9559889,
           0.9560127,
           0.9560666,
           0.9561418,
           0.95591104,
           0.9560225,
           0.9560103,
           0.9560176,
           0.9561125,
           0.95591104,
           0.9560176,
           0.95602745,
           0.95600533,
           0.95611984
          ]
         ]
        }
       ],
       "frames": [],
       "layout": {
        "autosize": true,
        "coloraxis": {
         "colorscale": "Viridis"
        },
        "margin": {
         "b": 50,
         "l": 50,
         "r": 50,
         "t": 60
        },
        "showlegend": false,
        "title": {
         "text": "53 Brucella"
        },
        "xaxis": {
         "autorange": true,
         "domain": [
          0,
          0.0582665695557174
         ],
         "range": [
          -0.5,
          15.5
         ],
         "title": {
          "text": "516 Brucella ovis"
         }
        },
        "xaxis2": {
         "autorange": true,
         "domain": [
          0.058994901675163865,
          0.06627822286962855
         ],
         "range": [
          -0.5,
          1.5
         ],
         "title": {
          "text": "1541 Brucella neotomae"
         }
        },
        "xaxis3": {
         "autorange": true,
         "domain": [
          0.06700655498907501,
          0.08157319737800436
         ],
         "range": [
          -0.5,
          3.5
         ],
         "title": {
          "text": "1664 Brucella pinnipedialis"
         }
        },
        "xaxis4": {
         "autorange": true,
         "domain": [
          0.08230152949745083,
          0.1005098324836125
         ],
         "range": [
          -0.5,
          4.5
         ],
         "title": {
          "text": "1665 Brucella ceti"
         }
        },
        "xaxis5": {
         "autorange": true,
         "domain": [
          0.10123816460305897,
          0.1922796795338674
         ],
         "range": [
          -0.5,
          24.5
         ],
         "title": {
          "text": "1917 Brucella suis subgroup 2"
         }
        },
        "xaxis6": {
         "autorange": true,
         "domain": [
          0.19300801165331388,
          0.22942461762563726
         ],
         "range": [
          -0.5,
          9.5
         ],
         "title": {
          "text": "1916 Brucella suis subgroup 1"
         }
        },
        "xaxis7": {
         "autorange": true,
         "domain": [
          0.23015294974508374,
          0.2811361981063365
         ],
         "range": [
          -0.5,
          13.5
         ],
         "title": {
          "text": "1427 Brucella canis"
         }
        },
        "xaxis8": {
         "autorange": true,
         "domain": [
          0.28186453022578295,
          0.5185724690458849
         ],
         "range": [
          -0.5,
          64.5
         ],
         "title": {
          "text": "1540 Brucella melitensis"
         }
        },
        "xaxis9": {
         "autorange": true,
         "domain": [
          0.5193008011653314,
          1
         ],
         "range": [
          -0.5,
          131.5
         ],
         "title": {
          "text": "515 Brucella abortus"
         }
        },
        "yaxis": {
         "autorange": true,
         "domain": [
          0,
          1
         ],
         "range": [
          -0.5,
          2.5
         ],
         "title": {
          "text": "1470 Brucella intermedia"
         }
        }
       }
      },
      "text/plain": [
       "data: [\n",
       "  \"heatmap with fields coloraxis, hoverlabel, name, type, xaxis, yaxis, and z\",\n",
       "  \"heatmap with fields coloraxis, hoverlabel, name, type, xaxis, yaxis, and z\",\n",
       "  \"heatmap with fields coloraxis, hoverlabel, name, type, xaxis, yaxis, and z\",\n",
       "  \"heatmap with fields coloraxis, hoverlabel, name, type, xaxis, yaxis, and z\",\n",
       "  \"heatmap with fields coloraxis, hoverlabel, name, type, xaxis, yaxis, and z\",\n",
       "  \"heatmap with fields coloraxis, hoverlabel, name, type, xaxis, yaxis, and z\",\n",
       "  \"heatmap with fields coloraxis, hoverlabel, name, type, xaxis, yaxis, and z\",\n",
       "  \"heatmap with fields coloraxis, hoverlabel, name, type, xaxis, yaxis, and z\",\n",
       "  \"heatmap with fields coloraxis, hoverlabel, name, type, xaxis, yaxis, and z\"\n",
       "]\n",
       "\n",
       "layout: \"layout with fields coloraxis, margin, showlegend, title, xaxis, xaxis2, xaxis3, xaxis4, xaxis5, xaxis6, xaxis7, xaxis8, xaxis9, and yaxis\"\n",
       "\n"
      ]
     },
     "metadata": {},
     "output_type": "display_data"
    },
    {
     "data": {
      "application/vnd.plotly.v1+json": {
       "data": [
        {
         "coloraxis": "coloraxis",
         "hoverlabel": {
          "namelength": -1
         },
         "name": "Enterobacter ludwigii<br>Enterobacter cancerogenus",
         "type": "heatmap",
         "xaxis": "x",
         "yaxis": "y",
         "z": [
          [
           0.98720825,
           0.98715436,
           0.98716277,
           0.9871495,
           0.9871523
          ],
          [
           0.9871952,
           0.9871421,
           0.98715043,
           0.9871372,
           0.98714
          ]
         ]
        },
        {
         "coloraxis": "coloraxis",
         "hoverlabel": {
          "namelength": -1
         },
         "name": "Enterobacter ludwigii<br>Enterobacter asburiae",
         "type": "heatmap",
         "xaxis": "x2",
         "yaxis": "y",
         "z": [
          [
           0.98741966,
           0.98741484,
           0.9873795,
           0.9876857,
           0.9877772,
           0.9871907,
           0.98842007,
           0.9872445,
           0.9876312,
           0.987321,
           0.9871266,
           0.98687005,
           0.9868776,
           0.98724365,
           0.9875324,
           0.98705983,
           0.98723704,
           0.9876923,
           0.98706055,
           0.987637,
           0.98722893,
           0.98716646,
           0.9872262,
           0.9873277,
           0.9876197,
           0.98830056,
           0.98726285,
           0.98759294,
           0.98705876,
           0.98700064,
           0.98847836
          ],
          [
           0.9874608,
           0.9829902,
           0.98736584,
           0.9876695,
           0.9877595,
           0.9871231,
           0.98845255,
           0.9872872,
           0.9876147,
           0.987361,
           0.9870599,
           0.9868596,
           0.9868132,
           0.9871768,
           0.9874632,
           0.9869901,
           0.98716986,
           0.9876231,
           0.98699087,
           0.987567,
           0.9872161,
           0.98710054,
           0.9872134,
           0.98725796,
           0.9875512,
           0.9882306,
           0.98714286,
           0.9875776,
           0.9869917,
           0.98698926,
           0.98845637
          ]
         ]
        },
        {
         "coloraxis": "coloraxis",
         "hoverlabel": {
          "namelength": -1
         },
         "name": "Enterobacter ludwigii<br>Enterobacter cloacae subgroup 2",
         "type": "heatmap",
         "xaxis": "x3",
         "yaxis": "y",
         "z": [
          [
           0.986014,
           0.9862474,
           0.9870256,
           0.98606217,
           0.98659027,
           0.98659515,
           0.98653126,
           0.9866191,
           0.9868572,
           0.98673266,
           0.9867625,
           0.9865217,
           0.9863596,
           0.9866681,
           0.98654807,
           0.9865091,
           0.9862962,
           0.9864681
          ],
          [
           0.981426,
           0.986242,
           0.98701435,
           0.98605794,
           0.9817182,
           0.98658735,
           0.9865236,
           0.9866106,
           0.9868476,
           0.98672384,
           0.9867527,
           0.9865142,
           0.98635316,
           0.98660445,
           0.9865403,
           0.9864474,
           0.9862903,
           0.98646086
          ]
         ]
        },
        {
         "coloraxis": "coloraxis",
         "hoverlabel": {
          "namelength": -1
         },
         "name": "Enterobacter ludwigii<br>Enterobacter hormaechei subgroup 1",
         "type": "heatmap",
         "xaxis": "x4",
         "yaxis": "y",
         "z": [
          [
           0.9866192,
           0.98664224,
           0.98673695,
           0.9866159,
           0.98666453,
           0.9867596,
           0.98714733,
           0.9866602,
           0.9866631,
           0.98660326,
           0.98676807,
           0.9866156,
           0.98668915,
           0.9867131,
           0.9866667,
           0.9866149,
           0.98658806,
           0.98673034,
           0.9866221,
           0.9866617,
           0.9867458,
           0.98659897,
           0.9866004,
           0.9866681,
           0.9867133,
           0.9867521,
           0.98666596,
           0.9866602,
           0.98672783,
           0.9867136,
           0.9868858,
           0.98659897,
           0.9866674,
           0.9866566,
           0.9866617,
           0.98666096,
           0.9866667,
           0.98665375,
           0.9866437,
           0.98666596,
           0.9867987,
           0.9867257,
           0.9868001,
           0.986933,
           0.98679656,
           0.98680276,
           0.9870937,
           0.9868498,
           0.9867546,
           0.9869509,
           0.98691183,
           0.98671615,
           0.9867712,
           0.9868344,
           0.98673457,
           0.9867126,
           0.9867318,
           0.9866802,
           0.98673326,
           0.98663145,
           0.9867311,
           0.9873128,
           0.9867316,
           0.9869985,
           0.98666525,
           0.98659533,
           0.98662245,
           0.9868159,
           0.9867345,
           0.98679245,
           0.9866096,
           0.98671365,
           0.9865859,
           0.98726386,
           0.9866674,
           0.9865456,
           0.9873864,
           0.9876603,
           0.98677796,
           0.986694,
           0.98778754,
           0.98782617,
           0.9877075,
           0.9873136,
           0.9877628,
           0.98772746,
           0.98719805,
           0.987897,
           0.9875366,
           0.9878143,
           0.9877352,
           0.98736876,
           0.9877233,
           0.98788947,
           0.98731726,
           0.9877304,
           0.9868529,
           0.9877897,
           0.98778886,
           0.9876699,
           0.9868986,
           0.98724824,
           0.987157,
           0.987013,
           0.98666525,
           0.9873775,
           0.9875601,
           0.9875601,
           0.9875614,
           0.98798585,
           0.9875594,
           0.9869693,
           0.9877151,
           0.98755807,
           0.9870961
          ],
          [
           0.9865567,
           0.9865797,
           0.9866731,
           0.9865529,
           0.9866019,
           0.986696,
           0.9870281,
           0.9865976,
           0.98660046,
           0.98654085,
           0.98670495,
           0.9865531,
           0.9866257,
           0.98665035,
           0.9866038,
           0.98655236,
           0.98652565,
           0.98253965,
           0.98655957,
           0.986599,
           0.98668295,
           0.9865365,
           0.98653793,
           0.98660547,
           0.9866503,
           0.9866888,
           0.9866033,
           0.9865976,
           0.98666453,
           0.9866521,
           0.98682076,
           0.9865365,
           0.98660475,
           0.9865937,
           0.986599,
           0.9865983,
           0.98660403,
           0.98659116,
           0.98658115,
           0.9866033,
           0.9829735,
           0.9866624,
           0.98297536,
           0.9868687,
           0.9867336,
           0.9867395,
           0.9870282,
           0.98237604,
           0.98669153,
           0.9868854,
           0.98684704,
           0.98665315,
           0.98293823,
           0.9830195,
           0.9825452,
           0.9866496,
           0.9866688,
           0.9866178,
           0.9866702,
           0.9865689,
           0.9866681,
           0.98724765,
           0.98666877,
           0.986931,
           0.9866026,
           0.98653287,
           0.98655945,
           0.98675215,
           0.986671,
           0.98678297,
           0.9865468,
           0.98665017,
           0.9865235,
           0.9871972,
           0.9866045,
           0.9863706,
           0.98731685,
           0.98759025,
           0.986714,
           0.98663104,
           0.9877182,
           0.9877562,
           0.9876389,
           0.98724574,
           0.9872734,
           0.9876576,
           0.98258734,
           0.9878281,
           0.9874683,
           0.9833677,
           0.98761386,
           0.98278064,
           0.9872305,
           0.98782057,
           0.98714185,
           0.982822,
           0.986788,
           0.9877212,
           0.9877195,
           0.983152,
           0.9868881,
           0.9871802,
           0.9870894,
           0.9869485,
           0.9866021,
           0.9873103,
           0.98749137,
           0.98749137,
           0.98749274,
           0.9835637,
           0.9874907,
           0.9822966,
           0.98315555,
           0.9874894,
           0.9870286
          ]
         ]
        },
        {
         "coloraxis": "coloraxis",
         "hoverlabel": {
          "namelength": -1
         },
         "name": "Enterobacter ludwigii<br>Enterobacter cloacae subgroup 1",
         "type": "heatmap",
         "xaxis": "x5",
         "yaxis": "y",
         "z": [
          [
           0.9865457,
           0.98611945,
           0.9863983,
           0.9870336,
           0.986401,
           0.986704,
           0.98649013,
           0.98670685,
           0.9861698,
           0.98638666,
           0.98630583,
           0.987052,
           0.98625576,
           0.9863597,
           0.9861036,
           0.98635554,
           0.9861802,
           0.9870322,
           0.9864988,
           0.9869903,
           0.9862984,
           0.98689425,
           0.9864544
          ],
          [
           0.9865382,
           0.9860601,
           0.9863916,
           0.98696715,
           0.98634154,
           0.986641,
           0.9864829,
           0.98664385,
           0.9861648,
           0.98632723,
           0.9862999,
           0.9869855,
           0.981419,
           0.98629916,
           0.98604476,
           0.9863492,
           0.9861751,
           0.9869657,
           0.9864915,
           0.98692423,
           0.98623806,
           0.98682845,
           0.9863946
          ]
         ]
        },
        {
         "coloraxis": "coloraxis",
         "hoverlabel": {
          "namelength": -1
         },
         "name": "Enterobacter ludwigii<br>Enterobacter hormaechei subgroup 2",
         "type": "heatmap",
         "xaxis": "x6",
         "yaxis": "y",
         "z": [
          [
           0.9870123,
           0.9867425,
           0.9863051,
           0.98676914,
           0.9869874,
           0.9869315,
           0.98705316,
           0.9868188,
           0.98673433,
           0.9868661,
           0.98686475,
           0.98690706,
           0.98688525,
           0.9868366,
           0.9867389,
           0.9867385,
           0.986317,
           0.9866193,
           0.9867688,
           0.98659617,
           0.98655283,
           0.98677236,
           0.9868225,
           0.98663837,
           0.9867942,
           0.9864356,
           0.9866293,
           0.98672545,
           0.98688996,
           0.98682374,
           0.9868558,
           0.98730564,
           0.98672074,
           0.9868071,
           0.98637325,
           0.98682344,
           0.98739386,
           0.9866246,
           0.986939,
           0.9866109,
           0.9876052,
           0.98686767,
           0.98624957,
           0.9866582
          ],
          [
           0.9869496,
           0.9867337,
           0.98629916,
           0.98676014,
           0.98692477,
           0.9868692,
           0.9829271,
           0.98675704,
           0.98672545,
           0.98680395,
           0.98680264,
           0.98684484,
           0.9868231,
           0.98677456,
           0.98673004,
           0.9867296,
           0.98631096,
           0.9866113,
           0.9867598,
           0.98658836,
           0.9865452,
           0.9867634,
           0.9868132,
           0.9866302,
           0.9867317,
           0.98185915,
           0.98213536,
           0.9867167,
           0.9825341,
           0.98681444,
           0.9867937,
           0.9872394,
           0.986712,
           0.9867978,
           0.9863668,
           0.98681396,
           0.9873272,
           0.98656255,
           0.98692876,
           0.98660296,
           0.98748654,
           0.9868579,
           0.986244,
           0.98664993
          ]
         ]
        },
        {
         "coloraxis": "coloraxis",
         "hoverlabel": {
          "namelength": -1
         },
         "name": "Enterobacter ludwigii<br>Enterobacter cloacae subgroup 4",
         "type": "heatmap",
         "xaxis": "x7",
         "yaxis": "y",
         "z": [
          [
           0.9866748,
           0.9866659,
           0.9864403,
           0.9864339,
           0.98681426,
           0.9867474,
           0.9867257,
           0.9868682,
           0.98671937
          ],
          [
           0.9867215,
           0.9867126,
           0.9864879,
           0.9864814,
           0.9868591,
           0.986793,
           0.9867709,
           0.98691213,
           0.98676544
          ]
         ]
        },
        {
         "coloraxis": "coloraxis",
         "hoverlabel": {
          "namelength": -1
         },
         "name": "Enterobacter ludwigii<br>Enterobacter cloacae subgroup 3",
         "type": "heatmap",
         "xaxis": "x8",
         "yaxis": "y",
         "z": [
          [
           0.98575544,
           0.9861104,
           0.98609245,
           0.9857886,
           0.986046,
           0.98590964,
           0.9859596,
           0.9859104,
           0.985692,
           0.98586386,
           0.98581827,
           0.98580414,
           0.9857259
          ],
          [
           0.98575366,
           0.98610604,
           0.9860883,
           0.98578656,
           0.986042,
           0.9859068,
           0.9812578,
           0.9859075,
           0.98569065,
           0.9858613,
           0.985816,
           0.985802,
           0.9857243
          ]
         ]
        }
       ],
       "frames": [],
       "layout": {
        "autosize": true,
        "coloraxis": {
         "colorscale": "Viridis"
        },
        "margin": {
         "b": 50,
         "l": 50,
         "r": 50,
         "t": 60
        },
        "showlegend": false,
        "title": {
         "text": "145 Enterobacter"
        },
        "xaxis": {
         "autorange": true,
         "domain": [
          0,
          0.01927525057825752
         ],
         "range": [
          -0.5,
          4.5
         ],
         "title": {
          "text": "1382 Enterobacter cancerogenus"
         }
        },
        "xaxis2": {
         "autorange": true,
         "domain": [
          0.02004626060138782,
          0.13955281418658444
         ],
         "range": [
          -0.5,
          30.5
         ],
         "title": {
          "text": "1456 Enterobacter asburiae"
         }
        },
        "xaxis3": {
         "autorange": true,
         "domain": [
          0.14032382420971473,
          0.2097147262914418
         ],
         "range": [
          -0.5,
          17.5
         ],
         "title": {
          "text": "1919 Enterobacter cloacae subgroup 2"
         }
        },
        "xaxis4": {
         "autorange": true,
         "domain": [
          0.2104857363145721,
          0.6538164996144951
         ],
         "range": [
          -0.5,
          114.5
         ],
         "title": {
          "text": "1914 Enterobacter hormaechei subgroup 1"
         }
        },
        "xaxis5": {
         "autorange": true,
         "domain": [
          0.6545875096376254,
          0.74325366229761
         ],
         "range": [
          -0.5,
          22.5
         ],
         "title": {
          "text": "1918 Enterobacter cloacae subgroup 1"
         }
        },
        "xaxis6": {
         "autorange": true,
         "domain": [
          0.7440246723207402,
          0.9136468774094064
         ],
         "range": [
          -0.5,
          43.5
         ],
         "title": {
          "text": "1915 Enterobacter hormaechei subgroup 2"
         }
        },
        "xaxis7": {
         "autorange": true,
         "domain": [
          0.9144178874325367,
          0.9491133384734002
         ],
         "range": [
          -0.5,
          8.5
         ],
         "title": {
          "text": "1921 Enterobacter cloacae subgroup 4"
         }
        },
        "xaxis8": {
         "autorange": true,
         "domain": [
          0.9498843484965305,
          1
         ],
         "range": [
          -0.5,
          12.5
         ],
         "title": {
          "text": "1920 Enterobacter cloacae subgroup 3"
         }
        },
        "yaxis": {
         "autorange": true,
         "domain": [
          0,
          1
         ],
         "range": [
          -0.5,
          1.5
         ],
         "title": {
          "text": "1525 Enterobacter ludwigii"
         }
        }
       }
      },
      "text/plain": [
       "data: [\n",
       "  \"heatmap with fields coloraxis, hoverlabel, name, type, xaxis, yaxis, and z\",\n",
       "  \"heatmap with fields coloraxis, hoverlabel, name, type, xaxis, yaxis, and z\",\n",
       "  \"heatmap with fields coloraxis, hoverlabel, name, type, xaxis, yaxis, and z\",\n",
       "  \"heatmap with fields coloraxis, hoverlabel, name, type, xaxis, yaxis, and z\",\n",
       "  \"heatmap with fields coloraxis, hoverlabel, name, type, xaxis, yaxis, and z\",\n",
       "  \"heatmap with fields coloraxis, hoverlabel, name, type, xaxis, yaxis, and z\",\n",
       "  \"heatmap with fields coloraxis, hoverlabel, name, type, xaxis, yaxis, and z\",\n",
       "  \"heatmap with fields coloraxis, hoverlabel, name, type, xaxis, yaxis, and z\"\n",
       "]\n",
       "\n",
       "layout: \"layout with fields coloraxis, margin, showlegend, title, xaxis, xaxis2, xaxis3, xaxis4, xaxis5, xaxis6, xaxis7, xaxis8, and yaxis\"\n",
       "\n"
      ]
     },
     "metadata": {},
     "output_type": "display_data"
    },
    {
     "data": {
      "application/vnd.plotly.v1+json": {
       "data": [
        {
         "coloraxis": "coloraxis",
         "hoverlabel": {
          "namelength": -1
         },
         "name": "Veillonella montpellierensis<br>Veillonella parvula",
         "type": "heatmap",
         "xaxis": "x",
         "yaxis": "y",
         "z": [
          [
           0.99428076,
           0.99319726,
           0.99343,
           0.99314386,
           0.9930327
          ],
          [
           0.9950471,
           0.9941113,
           0.9943394,
           0.9944317,
           0.9942204
          ]
         ]
        },
        {
         "coloraxis": "coloraxis",
         "hoverlabel": {
          "namelength": -1
         },
         "name": "Veillonella montpellierensis<br>Veillonella atypica",
         "type": "heatmap",
         "xaxis": "x2",
         "yaxis": "y",
         "z": [
          [
           0.993137,
           0.9938957,
           0.99419487,
           0.99419254
          ],
          [
           0.99332845,
           0.99418193,
           0.9942353,
           0.994353
          ]
         ]
        }
       ],
       "frames": [],
       "layout": {
        "autosize": true,
        "coloraxis": {
         "colorscale": "Viridis"
        },
        "margin": {
         "b": 50,
         "l": 50,
         "r": 50,
         "t": 60
        },
        "showlegend": false,
        "title": {
         "text": "205 Veillonella"
        },
        "xaxis": {
         "autorange": true,
         "domain": [
          0,
          0.5434782608695653
         ],
         "range": [
          -0.5,
          4.5
         ],
         "title": {
          "text": "1543 Veillonella parvula"
         }
        },
        "xaxis2": {
         "autorange": true,
         "domain": [
          0.5652173913043479,
          1
         ],
         "range": [
          -0.5,
          3.5
         ],
         "title": {
          "text": "1773 Veillonella atypica"
         }
        },
        "yaxis": {
         "autorange": true,
         "domain": [
          0,
          1
         ],
         "range": [
          -0.5,
          1.5
         ],
         "title": {
          "text": "1786 Veillonella montpellierensis"
         }
        }
       }
      },
      "text/plain": [
       "data: [\n",
       "  \"heatmap with fields coloraxis, hoverlabel, name, type, xaxis, yaxis, and z\",\n",
       "  \"heatmap with fields coloraxis, hoverlabel, name, type, xaxis, yaxis, and z\"\n",
       "]\n",
       "\n",
       "layout: \"layout with fields coloraxis, margin, showlegend, title, xaxis, xaxis2, and yaxis\"\n",
       "\n"
      ]
     },
     "metadata": {},
     "output_type": "display_data"
    },
    {
     "data": {
      "application/vnd.plotly.v1+json": {
       "data": [
        {
         "coloraxis": "coloraxis",
         "hoverlabel": {
          "namelength": -1
         },
         "name": "Cronobacter turicensis<br>Cronobacter turicensis",
         "type": "heatmap",
         "xaxis": "x",
         "yaxis": "y",
         "z": [
          [
           0,
           0.5108106,
           0.9641688,
           0.9641887
          ],
          [
           0.5108106,
           0,
           0.9710054,
           0.9710218
          ],
          [
           0.9641688,
           0.9710054,
           0,
           0.004814574
          ],
          [
           0.9641887,
           0.9710218,
           0.004814574,
           0
          ]
         ]
        },
        {
         "coloraxis": "coloraxis",
         "hoverlabel": {
          "namelength": -1
         },
         "name": "Cronobacter turicensis<br>Cronobacter universalis",
         "type": "heatmap",
         "xaxis": "x2",
         "yaxis": "y",
         "z": [
          [
           0.74671173,
           0.74451977,
           0.7428428
          ],
          [
           0.74172384,
           0.7416925,
           0.74017483
          ],
          [
           0.96912664,
           0.96907485,
           0.96883017
          ],
          [
           0.9691445,
           0.9690928,
           0.96884817
          ]
         ]
        },
        {
         "coloraxis": "coloraxis",
         "hoverlabel": {
          "namelength": -1
         },
         "name": "Cronobacter turicensis<br>Cronobacter sakazakii",
         "type": "heatmap",
         "xaxis": "x3",
         "yaxis": "y",
         "z": [
          [
           0.8048092,
           0.8074027,
           0.8096515,
           0.81485736,
           0.8193727,
           0.80855095,
           0.81254566,
           0.8145091,
           0.8137499,
           0.81017935,
           0.80381864,
           0.8127545,
           0.81534475,
           0.8077406,
           0.80936724,
           0.8118871,
           0.8077508,
           0.81247944,
           0.81268984,
           0.81221884,
           0.8132036,
           0.81282574,
           0.8127682,
           0.8127022,
           0.8129164,
           0.8127887,
           0.8097876,
           0.8058812,
           0.8127558,
           0.80990875,
           0.8037383,
           0.8037383,
           0.81268984,
           0.81461537,
           0.81267744,
           0.8037253,
           0.80971,
           0.80854553,
           0.8096324,
           0.81330615,
           0.8127022,
           0.81017613
          ],
          [
           0.80933505,
           0.80437,
           0.8042481,
           0.82176614,
           0.81908023,
           0.8112934,
           0.8100802,
           0.8100186,
           0.8065052,
           0.8095206,
           0.80980104,
           0.8105603,
           0.8140258,
           0.8110475,
           0.8082727,
           0.81070095,
           0.8110565,
           0.8102764,
           0.8120869,
           0.81167674,
           0.8122082,
           0.8122262,
           0.812167,
           0.8120996,
           0.81231886,
           0.8121882,
           0.8165344,
           0.8131561,
           0.81215435,
           0.81650347,
           0.8109108,
           0.8109108,
           0.8120869,
           0.8180158,
           0.8120742,
           0.81089807,
           0.81645614,
           0.8150863,
           0.8163778,
           0.81271845,
           0.8120996,
           0.80505365
          ],
          [
           0.9666309,
           0.96638596,
           0.9696202,
           0.96669686,
           0.9687921,
           0.96485275,
           0.96767306,
           0.9704893,
           0.9705302,
           0.96727043,
           0.96449476,
           0.967858,
           0.96816456,
           0.9649101,
           0.96580386,
           0.96704674,
           0.9649254,
           0.96782607,
           0.9681203,
           0.9677276,
           0.96806514,
           0.96814215,
           0.96818465,
           0.96812224,
           0.9681441,
           0.9681362,
           0.9656275,
           0.9660057,
           0.9681183,
           0.9656085,
           0.96567833,
           0.96567833,
           0.9681203,
           0.96754074,
           0.9681183,
           0.9656762,
           0.9656275,
           0.9654532,
           0.9656275,
           0.96815526,
           0.96812224,
           0.9704274
          ],
          [
           0.96664983,
           0.96640635,
           0.969638,
           0.9667149,
           0.96880925,
           0.964873,
           0.96769136,
           0.97050613,
           0.9705471,
           0.96728885,
           0.9645153,
           0.96787596,
           0.9681821,
           0.9649298,
           0.96582335,
           0.96706533,
           0.96494514,
           0.96784407,
           0.96813816,
           0.967746,
           0.9680831,
           0.96816003,
           0.96820253,
           0.9681402,
           0.968162,
           0.9681541,
           0.9656465,
           0.9660245,
           0.9681362,
           0.9656275,
           0.9656976,
           0.9656976,
           0.96813816,
           0.9675584,
           0.9681362,
           0.96569544,
           0.9656465,
           0.96547246,
           0.9656465,
           0.9681731,
           0.9681402,
           0.97044426
          ]
         ]
        },
        {
         "coloraxis": "coloraxis",
         "hoverlabel": {
          "namelength": -1
         },
         "name": "Cronobacter turicensis<br>Cronobacter malonaticus",
         "type": "heatmap",
         "xaxis": "x4",
         "yaxis": "y",
         "z": [
          [
           0.79512924,
           0.80360425,
           0.7924861,
           0.7908527,
           0.80223155,
           0.7903037,
           0.7924707,
           0.79107934,
           0.7981132,
           0.7981404,
           0.7921531
          ],
          [
           0.80110306,
           0.7992749,
           0.7989943,
           0.7995903,
           0.7975342,
           0.7929098,
           0.7972312,
           0.79509217,
           0.7944364,
           0.794548,
           0.798828
          ],
          [
           0.9648566,
           0.97179604,
           0.96449816,
           0.96501565,
           0.97020054,
           0.96581143,
           0.9646264,
           0.9645102,
           0.96652377,
           0.96646285,
           0.9645368
          ],
          [
           0.9648767,
           0.9718122,
           0.96451837,
           0.9650354,
           0.9702173,
           0.96583116,
           0.96464646,
           0.96453047,
           0.9665428,
           0.96648186,
           0.96455693
          ]
         ]
        },
        {
         "coloraxis": "coloraxis",
         "hoverlabel": {
          "namelength": -1
         },
         "name": "Cronobacter turicensis<br>Cronobacter condimenti",
         "type": "heatmap",
         "xaxis": "x5",
         "yaxis": "y",
         "z": [
          [
           0.9025959,
           0.90239584
          ],
          [
           0.9011453,
           0.90087426
          ],
          [
           0.97343546,
           0.973311
          ],
          [
           0.97344977,
           0.9733254
          ]
         ]
        },
        {
         "coloraxis": "coloraxis",
         "hoverlabel": {
          "namelength": -1
         },
         "name": "Cronobacter turicensis<br>Cronobacter dublinensis",
         "type": "heatmap",
         "xaxis": "x6",
         "yaxis": "y",
         "z": [
          [
           0.87789905,
           0.8784411,
           0.8777385,
           0.8760608,
           0.8767507,
           0.8778067
          ],
          [
           0.87294924,
           0.8746594,
           0.87270874,
           0.8743198,
           0.8744826,
           0.87278163
          ],
          [
           0.9698095,
           0.9710181,
           0.9697232,
           0.96875393,
           0.96977973,
           0.9697401
          ],
          [
           0.9698263,
           0.97103417,
           0.9697401,
           0.96877176,
           0.9697966,
           0.96975696
          ]
         ]
        },
        {
         "coloraxis": "coloraxis",
         "hoverlabel": {
          "namelength": -1
         },
         "name": "Cronobacter turicensis<br>Cronobacter muytjensii",
         "type": "heatmap",
         "xaxis": "x7",
         "yaxis": "y",
         "z": [
          [
           0.88177556,
           0.8817946
          ],
          [
           0.87696505,
           0.876988
          ],
          [
           0.9687758,
           0.9687341
          ],
          [
           0.9687281,
           0.96868646
          ]
         ]
        }
       ],
       "frames": [],
       "layout": {
        "autosize": true,
        "coloraxis": {
         "colorscale": "Viridis"
        },
        "margin": {
         "b": 50,
         "l": 50,
         "r": 50,
         "t": 60
        },
        "showlegend": false,
        "title": {
         "text": "437 Cronobacter"
        },
        "xaxis": {
         "autorange": true,
         "domain": [
          0,
          0.056179775280898875
         ],
         "range": [
          -0.5,
          3.5
         ],
         "title": {
          "text": "1405 Cronobacter turicensis"
         }
        },
        "xaxis2": {
         "autorange": true,
         "domain": [
          0.05898876404494382,
          0.10112359550561797
         ],
         "range": [
          -0.5,
          2.5
         ],
         "title": {
          "text": "1289 Cronobacter universalis"
         }
        },
        "xaxis3": {
         "autorange": true,
         "domain": [
          0.10393258426966293,
          0.6938202247191011
         ],
         "range": [
          -0.5,
          41.5
         ],
         "title": {
          "text": "1360 Cronobacter sakazakii"
         }
        },
        "xaxis4": {
         "autorange": true,
         "domain": [
          0.6966292134831461,
          0.851123595505618
         ],
         "range": [
          -0.5,
          10.5
         ],
         "title": {
          "text": "1406 Cronobacter malonaticus"
         }
        },
        "xaxis5": {
         "autorange": true,
         "domain": [
          0.8539325842696629,
          0.8820224719101123
         ],
         "range": [
          -0.5,
          1.5
         ],
         "title": {
          "text": "586 Cronobacter condimenti"
         }
        },
        "xaxis6": {
         "autorange": true,
         "domain": [
          0.8848314606741573,
          0.9691011235955056
         ],
         "range": [
          -0.5,
          5.5
         ],
         "title": {
          "text": "1403 Cronobacter dublinensis"
         }
        },
        "xaxis7": {
         "autorange": true,
         "domain": [
          0.9719101123595506,
          1
         ],
         "range": [
          -0.5,
          1.5
         ],
         "title": {
          "text": "1404 Cronobacter muytjensii"
         }
        },
        "yaxis": {
         "autorange": true,
         "domain": [
          0,
          1
         ],
         "range": [
          -0.5,
          3.5
         ],
         "title": {
          "text": "1405 Cronobacter turicensis"
         }
        }
       }
      },
      "text/plain": [
       "data: [\n",
       "  \"heatmap with fields coloraxis, hoverlabel, name, type, xaxis, yaxis, and z\",\n",
       "  \"heatmap with fields coloraxis, hoverlabel, name, type, xaxis, yaxis, and z\",\n",
       "  \"heatmap with fields coloraxis, hoverlabel, name, type, xaxis, yaxis, and z\",\n",
       "  \"heatmap with fields coloraxis, hoverlabel, name, type, xaxis, yaxis, and z\",\n",
       "  \"heatmap with fields coloraxis, hoverlabel, name, type, xaxis, yaxis, and z\",\n",
       "  \"heatmap with fields coloraxis, hoverlabel, name, type, xaxis, yaxis, and z\",\n",
       "  \"heatmap with fields coloraxis, hoverlabel, name, type, xaxis, yaxis, and z\"\n",
       "]\n",
       "\n",
       "layout: \"layout with fields coloraxis, margin, showlegend, title, xaxis, xaxis2, xaxis3, xaxis4, xaxis5, xaxis6, xaxis7, and yaxis\"\n",
       "\n"
      ]
     },
     "metadata": {},
     "output_type": "display_data"
    },
    {
     "data": {
      "application/vnd.plotly.v1+json": {
       "data": [
        {
         "coloraxis": "coloraxis",
         "hoverlabel": {
          "namelength": -1
         },
         "name": "Candidatus Pantoea carbekii<br>Pantoea stewartii",
         "type": "heatmap",
         "xaxis": "x",
         "yaxis": "y",
         "z": [
          [
           0.99888384,
           0.99897003,
           0.999075,
           0.9990745,
           0.9989494,
           0.99909383,
           0.99897146,
           0.99922514,
           0.9992221,
           0.9992227
          ],
          [
           0.9988882,
           0.998974,
           0.9990785,
           0.999078,
           0.9989536,
           0.99909747,
           0.9989754,
           0.9992281,
           0.999225,
           0.9992257
          ]
         ]
        },
        {
         "coloraxis": "coloraxis",
         "hoverlabel": {
          "namelength": -1
         },
         "name": "Candidatus Pantoea carbekii<br>Pantoea ananatis",
         "type": "heatmap",
         "xaxis": "x2",
         "yaxis": "y",
         "z": [
          [
           0.99878395,
           0.9987443,
           0.9988277,
           0.999106,
           0.99903274,
           0.99874294,
           0.9989859,
           0.9989214,
           0.9989008,
           0.99895936,
           0.99892026,
           0.99896175,
           0.99879915,
           0.9987948,
           0.9987992,
           0.99879897
          ],
          [
           0.9987079,
           0.9986708,
           0.9987542,
           0.99903494,
           0.99896204,
           0.9986694,
           0.9989119,
           0.9988486,
           0.9988267,
           0.99888897,
           0.99884737,
           0.99888617,
           0.998724,
           0.9987194,
           0.9987241,
           0.9987238
          ]
         ]
        },
        {
         "coloraxis": "coloraxis",
         "hoverlabel": {
          "namelength": -1
         },
         "name": "Candidatus Pantoea carbekii<br>Pantoea agglomerans",
         "type": "heatmap",
         "xaxis": "x3",
         "yaxis": "y",
         "z": [
          [
           0.9990545,
           0.99887395,
           0.9986016,
           0.9986624,
           0.9986604,
           0.99890804,
           0.9986951,
           0.9988536,
           0.99881345,
           0.9989445,
           0.99869996,
           0.9987475
          ],
          [
           0.9990585,
           0.9988787,
           0.99852043,
           0.9986679,
           0.9986655,
           0.9989125,
           0.9987006,
           0.9988586,
           0.99881834,
           0.99894905,
           0.99870545,
           0.998753
          ]
         ]
        },
        {
         "coloraxis": "coloraxis",
         "hoverlabel": {
          "namelength": -1
         },
         "name": "Candidatus Pantoea carbekii<br>Pantoea dispersa",
         "type": "heatmap",
         "xaxis": "x4",
         "yaxis": "y",
         "z": [
          [
           0.9988211,
           0.9987478,
           0.9990434,
           0.9988287,
           0.99882674,
           0.9990439,
           0.9990422,
           0.99882275,
           0.9988486,
           0.9990438
          ],
          [
           0.99882674,
           0.9987537,
           0.9990479,
           0.99883425,
           0.99883235,
           0.99904835,
           0.9990467,
           0.99882835,
           0.998854,
           0.99904823
          ]
         ]
        }
       ],
       "frames": [],
       "layout": {
        "autosize": true,
        "coloraxis": {
         "colorscale": "Viridis"
        },
        "margin": {
         "b": 50,
         "l": 50,
         "r": 50,
         "t": 60
        },
        "showlegend": false,
        "title": {
         "text": "20 Pantoea"
        },
        "xaxis": {
         "autorange": true,
         "domain": [
          0,
          0.20576131687242802
         ],
         "range": [
          -0.5,
          9.5
         ],
         "title": {
          "text": "700 Pantoea stewartii"
         }
        },
        "xaxis2": {
         "autorange": true,
         "domain": [
          0.20987654320987656,
          0.5390946502057614
         ],
         "range": [
          -0.5,
          15.5
         ],
         "title": {
          "text": "623 Pantoea ananatis"
         }
        },
        "xaxis3": {
         "autorange": true,
         "domain": [
          0.54320987654321,
          0.7901234567901235
         ],
         "range": [
          -0.5,
          11.5
         ],
         "title": {
          "text": "619 Pantoea agglomerans"
         }
        },
        "xaxis4": {
         "autorange": true,
         "domain": [
          0.794238683127572,
          1
         ],
         "range": [
          -0.5,
          9.5
         ],
         "title": {
          "text": "1175 Pantoea dispersa"
         }
        },
        "yaxis": {
         "autorange": true,
         "domain": [
          0,
          1
         ],
         "range": [
          -0.5,
          1.5
         ],
         "title": {
          "text": "1803 Candidatus Pantoea carbekii"
         }
        }
       }
      },
      "text/plain": [
       "data: [\n",
       "  \"heatmap with fields coloraxis, hoverlabel, name, type, xaxis, yaxis, and z\",\n",
       "  \"heatmap with fields coloraxis, hoverlabel, name, type, xaxis, yaxis, and z\",\n",
       "  \"heatmap with fields coloraxis, hoverlabel, name, type, xaxis, yaxis, and z\",\n",
       "  \"heatmap with fields coloraxis, hoverlabel, name, type, xaxis, yaxis, and z\"\n",
       "]\n",
       "\n",
       "layout: \"layout with fields coloraxis, margin, showlegend, title, xaxis, xaxis2, xaxis3, xaxis4, and yaxis\"\n",
       "\n"
      ]
     },
     "metadata": {},
     "output_type": "display_data"
    },
    {
     "data": {
      "application/vnd.plotly.v1+json": {
       "data": [
        {
         "coloraxis": "coloraxis",
         "hoverlabel": {
          "namelength": -1
         },
         "name": "Lysobacter defluvii<br>Lysobacter antibioticus",
         "type": "heatmap",
         "xaxis": "x",
         "yaxis": "y",
         "z": [
          [
           0.98272675,
           0.983232
          ],
          [
           0.9828652,
           0.9833647
          ]
         ]
        },
        {
         "coloraxis": "coloraxis",
         "hoverlabel": {
          "namelength": -1
         },
         "name": "Lysobacter defluvii<br>Lysobacter capsici",
         "type": "heatmap",
         "xaxis": "x2",
         "yaxis": "y",
         "z": [
          [
           0.98249066,
           0.98316747,
           0.9835999
          ],
          [
           0.98251784,
           0.9831942,
           0.9836249
          ]
         ]
        }
       ],
       "frames": [],
       "layout": {
        "autosize": true,
        "coloraxis": {
         "colorscale": "Viridis"
        },
        "margin": {
         "b": 50,
         "l": 50,
         "r": 50,
         "t": 60
        },
        "showlegend": false,
        "title": {
         "text": "14 Lysobacter"
        },
        "xaxis": {
         "autorange": true,
         "domain": [
          0,
          0.3846153846153846
         ],
         "range": [
          -0.5,
          1.5
         ],
         "title": {
          "text": "1191 Lysobacter antibioticus"
         }
        },
        "xaxis2": {
         "autorange": true,
         "domain": [
          0.4230769230769231,
          1
         ],
         "range": [
          -0.5,
          2.5
         ],
         "title": {
          "text": "1027 Lysobacter capsici"
         }
        },
        "yaxis": {
         "autorange": true,
         "domain": [
          0,
          1
         ],
         "range": [
          -0.5,
          1.5
         ],
         "title": {
          "text": "1733 Lysobacter defluvii"
         }
        }
       }
      },
      "text/plain": [
       "data: [\n",
       "  \"heatmap with fields coloraxis, hoverlabel, name, type, xaxis, yaxis, and z\",\n",
       "  \"heatmap with fields coloraxis, hoverlabel, name, type, xaxis, yaxis, and z\"\n",
       "]\n",
       "\n",
       "layout: \"layout with fields coloraxis, margin, showlegend, title, xaxis, xaxis2, and yaxis\"\n",
       "\n"
      ]
     },
     "metadata": {},
     "output_type": "display_data"
    },
    {
     "data": {
      "application/vnd.plotly.v1+json": {
       "data": [
        {
         "coloraxis": "coloraxis",
         "hoverlabel": {
          "namelength": -1
         },
         "name": "Gluconobacter thailandicus<br>Gluconobacter albidus",
         "type": "heatmap",
         "xaxis": "x",
         "yaxis": "y",
         "z": [
          [
           0.9782463,
           0.97853065
          ],
          [
           0.9782871,
           0.97861624
          ],
          [
           0.9782859,
           0.9786151
          ],
          [
           0.9784303,
           0.9785931
          ]
         ]
        },
        {
         "coloraxis": "coloraxis",
         "hoverlabel": {
          "namelength": -1
         },
         "name": "Gluconobacter thailandicus<br>Gluconobacter oxydans",
         "type": "heatmap",
         "xaxis": "x2",
         "yaxis": "y",
         "z": [
          [
           0.97977716,
           0.97595763,
           0.9781935,
           0.9781884,
           0.97436357,
           0.9784825,
           0.9788136,
           0.97912604
          ],
          [
           0.9800242,
           0.9762801,
           0.9785297,
           0.9785248,
           0.97478795,
           0.9786394,
           0.9790839,
           0.979265
          ],
          [
           0.9799642,
           0.97622037,
           0.9785285,
           0.97852355,
           0.9747265,
           0.9786382,
           0.97902304,
           0.97926384
          ],
          [
           0.98,
           0.97625166,
           0.9786795,
           0.9786746,
           0.97475696,
           0.9786727,
           0.9790582,
           0.97941273
          ]
         ]
        }
       ],
       "frames": [],
       "layout": {
        "autosize": true,
        "coloraxis": {
         "colorscale": "Viridis"
        },
        "margin": {
         "b": 50,
         "l": 50,
         "r": 50,
         "t": 60
        },
        "showlegend": false,
        "title": {
         "text": "110 Gluconobacter"
        },
        "xaxis": {
         "autorange": true,
         "domain": [
          0,
          0.19607843137254904
         ],
         "range": [
          -0.5,
          1.5
         ],
         "title": {
          "text": "1821 Gluconobacter albidus"
         }
        },
        "xaxis2": {
         "autorange": true,
         "domain": [
          0.21568627450980396,
          1
         ],
         "range": [
          -0.5,
          7.5
         ],
         "title": {
          "text": "585 Gluconobacter oxydans"
         }
        },
        "yaxis": {
         "autorange": true,
         "domain": [
          0,
          1
         ],
         "range": [
          -0.5,
          3.5
         ],
         "title": {
          "text": "1326 Gluconobacter thailandicus"
         }
        }
       }
      },
      "text/plain": [
       "data: [\n",
       "  \"heatmap with fields coloraxis, hoverlabel, name, type, xaxis, yaxis, and z\",\n",
       "  \"heatmap with fields coloraxis, hoverlabel, name, type, xaxis, yaxis, and z\"\n",
       "]\n",
       "\n",
       "layout: \"layout with fields coloraxis, margin, showlegend, title, xaxis, xaxis2, and yaxis\"\n",
       "\n"
      ]
     },
     "metadata": {},
     "output_type": "display_data"
    },
    {
     "data": {
      "application/vnd.plotly.v1+json": {
       "data": [
        {
         "coloraxis": "coloraxis",
         "hoverlabel": {
          "namelength": -1
         },
         "name": "Lysinibacillus odysseyi<br>Lysinibacillus fusiformis",
         "type": "heatmap",
         "xaxis": "x",
         "yaxis": "y",
         "z": [
          [
           0.9920577,
           0.9918331,
           0.9916434,
           0.99103415,
           0.991332
          ],
          [
           0.99179685,
           0.99157006,
           0.99139065,
           0.9907799,
           0.991076
          ]
         ]
        },
        {
         "coloraxis": "coloraxis",
         "hoverlabel": {
          "namelength": -1
         },
         "name": "Lysinibacillus odysseyi<br>Lysinibacillus sphaericus",
         "type": "heatmap",
         "xaxis": "x2",
         "yaxis": "y",
         "z": [
          [
           0.99172336,
           0.99186003,
           0.9917532,
           0.99183565,
           0.9918212,
           0.9918212,
           0.9916896,
           0.9917268
          ],
          [
           0.9914602,
           0.9915962,
           0.9914927,
           0.99157274,
           0.9915612,
           0.9915612,
           0.9914254,
           0.9914638
          ]
         ]
        }
       ],
       "frames": [],
       "layout": {
        "autosize": true,
        "coloraxis": {
         "colorscale": "Viridis"
        },
        "margin": {
         "b": 50,
         "l": 50,
         "r": 50,
         "t": 60
        },
        "showlegend": false,
        "title": {
         "text": "326 Lysinibacillus"
        },
        "xaxis": {
         "autorange": true,
         "domain": [
          0,
          0.3787878787878788
         ],
         "range": [
          -0.5,
          4.5
         ],
         "title": {
          "text": "1313 Lysinibacillus fusiformis"
         }
        },
        "xaxis2": {
         "autorange": true,
         "domain": [
          0.393939393939394,
          1
         ],
         "range": [
          -0.5,
          7.5
         ],
         "title": {
          "text": "910 Lysinibacillus sphaericus"
         }
        },
        "yaxis": {
         "autorange": true,
         "domain": [
          0,
          1
         ],
         "range": [
          -0.5,
          1.5
         ],
         "title": {
          "text": "1678 Lysinibacillus odysseyi"
         }
        }
       }
      },
      "text/plain": [
       "data: [\n",
       "  \"heatmap with fields coloraxis, hoverlabel, name, type, xaxis, yaxis, and z\",\n",
       "  \"heatmap with fields coloraxis, hoverlabel, name, type, xaxis, yaxis, and z\"\n",
       "]\n",
       "\n",
       "layout: \"layout with fields coloraxis, margin, showlegend, title, xaxis, xaxis2, and yaxis\"\n",
       "\n"
      ]
     },
     "metadata": {},
     "output_type": "display_data"
    },
    {
     "data": {
      "application/vnd.plotly.v1+json": {
       "data": [
        {
         "coloraxis": "coloraxis",
         "hoverlabel": {
          "namelength": -1
         },
         "name": "Methylobacterium radiotolerans<br>Methylobacterium platani",
         "type": "heatmap",
         "xaxis": "x",
         "yaxis": "y",
         "z": [
          [
           0.96558976,
           0.96588445
          ],
          [
           0.9651996,
           0.96516395
          ],
          [
           0.96589065,
           0.96592236
          ],
          [
           0.965424,
           0.965455
          ],
          [
           0.9657599,
           0.9659205
          ]
         ]
        },
        {
         "coloraxis": "coloraxis",
         "hoverlabel": {
          "namelength": -1
         },
         "name": "Methylobacterium radiotolerans<br>Methylobacterium aquaticum",
         "type": "heatmap",
         "xaxis": "x2",
         "yaxis": "y",
         "z": [
          [
           0.9649111,
           0.96492654,
           0.9645624
          ],
          [
           0.9649159,
           0.96507204,
           0.9645659
          ],
          [
           0.96500415,
           0.9651628,
           0.96479064
          ],
          [
           0.96451527,
           0.96460116,
           0.96423465
          ],
          [
           0.9651705,
           0.9652551,
           0.9648261
          ]
         ]
        }
       ],
       "frames": [],
       "layout": {
        "autosize": true,
        "coloraxis": {
         "colorscale": "Viridis"
        },
        "margin": {
         "b": 50,
         "l": 50,
         "r": 50,
         "t": 60
        },
        "showlegend": false,
        "title": {
         "text": "97 Methylobacterium"
        },
        "xaxis": {
         "autorange": true,
         "domain": [
          0,
          0.3846153846153846
         ],
         "range": [
          -0.5,
          1.5
         ],
         "title": {
          "text": "1019 Methylobacterium platani"
         }
        },
        "xaxis2": {
         "autorange": true,
         "domain": [
          0.4230769230769231,
          1
         ],
         "range": [
          -0.5,
          2.5
         ],
         "title": {
          "text": "466 Methylobacterium aquaticum"
         }
        },
        "yaxis": {
         "autorange": true,
         "domain": [
          0,
          1
         ],
         "range": [
          -0.5,
          4.5
         ],
         "title": {
          "text": "1826 Methylobacterium radiotolerans"
         }
        }
       }
      },
      "text/plain": [
       "data: [\n",
       "  \"heatmap with fields coloraxis, hoverlabel, name, type, xaxis, yaxis, and z\",\n",
       "  \"heatmap with fields coloraxis, hoverlabel, name, type, xaxis, yaxis, and z\"\n",
       "]\n",
       "\n",
       "layout: \"layout with fields coloraxis, margin, showlegend, title, xaxis, xaxis2, and yaxis\"\n",
       "\n"
      ]
     },
     "metadata": {},
     "output_type": "display_data"
    },
    {
     "data": {
      "application/vnd.plotly.v1+json": {
       "data": [
        {
         "coloraxis": "coloraxis",
         "hoverlabel": {
          "namelength": -1
         },
         "name": "Acidovorax radicis<br>Acidovorax avenae",
         "type": "heatmap",
         "xaxis": "x",
         "yaxis": "y",
         "z": [
          [
           0.9746873,
           0.9752299
          ],
          [
           0.974759,
           0.9753022
          ]
         ]
        },
        {
         "coloraxis": "coloraxis",
         "hoverlabel": {
          "namelength": -1
         },
         "name": "Acidovorax radicis<br>Acidovorax citrulli",
         "type": "heatmap",
         "xaxis": "x2",
         "yaxis": "y",
         "z": [
          [
           0.9761799,
           0.9756229,
           0.9759247,
           0.97543967
          ],
          [
           0.9761763,
           0.97561914,
           0.975921,
           0.97543585
          ]
         ]
        }
       ],
       "frames": [],
       "layout": {
        "autosize": true,
        "coloraxis": {
         "colorscale": "Viridis"
        },
        "margin": {
         "b": 50,
         "l": 50,
         "r": 50,
         "t": 60
        },
        "showlegend": false,
        "title": {
         "text": "164 Acidovorax"
        },
        "xaxis": {
         "autorange": true,
         "domain": [
          0,
          0.3225806451612903
         ],
         "range": [
          -0.5,
          1.5
         ],
         "title": {
          "text": "1795 Acidovorax avenae"
         }
        },
        "xaxis2": {
         "autorange": true,
         "domain": [
          0.3548387096774194,
          1
         ],
         "range": [
          -0.5,
          3.5
         ],
         "title": {
          "text": "1797 Acidovorax citrulli"
         }
        },
        "yaxis": {
         "autorange": true,
         "domain": [
          0,
          1
         ],
         "range": [
          -0.5,
          1.5
         ],
         "title": {
          "text": "1597 Acidovorax radicis"
         }
        }
       }
      },
      "text/plain": [
       "data: [\n",
       "  \"heatmap with fields coloraxis, hoverlabel, name, type, xaxis, yaxis, and z\",\n",
       "  \"heatmap with fields coloraxis, hoverlabel, name, type, xaxis, yaxis, and z\"\n",
       "]\n",
       "\n",
       "layout: \"layout with fields coloraxis, margin, showlegend, title, xaxis, xaxis2, and yaxis\"\n",
       "\n"
      ]
     },
     "metadata": {},
     "output_type": "display_data"
    },
    {
     "data": {
      "application/vnd.plotly.v1+json": {
       "data": [
        {
         "coloraxis": "coloraxis",
         "hoverlabel": {
          "namelength": -1
         },
         "name": "Capnocytophaga ochracea<br>Capnocytophaga canis",
         "type": "heatmap",
         "xaxis": "x",
         "yaxis": "y",
         "z": [
          [
           0.9957751,
           0.9954383,
           0.9958763
          ],
          [
           0.99626565,
           0.99609375,
           0.99603677
          ],
          [
           0.9962644,
           0.9960925,
           0.9960355
          ],
          [
           0.9958671,
           0.9955246,
           0.99596775
          ]
         ]
        },
        {
         "coloraxis": "coloraxis",
         "hoverlabel": {
          "namelength": -1
         },
         "name": "Capnocytophaga ochracea<br>Capnocytophaga canimorsus",
         "type": "heatmap",
         "xaxis": "x2",
         "yaxis": "y",
         "z": [
          [
           0.99534017,
           0.99539876,
           0.99580073,
           0.99533844
          ],
          [
           0.9966505,
           0.9965544,
           0.99618536,
           0.996836
          ],
          [
           0.99664927,
           0.99655306,
           0.99618393,
           0.9968349
          ],
          [
           0.99524623,
           0.99530333,
           0.9953225,
           0.9958175
          ]
         ]
        },
        {
         "coloraxis": "coloraxis",
         "hoverlabel": {
          "namelength": -1
         },
         "name": "Capnocytophaga ochracea<br>Capnocytophaga cynodegmi",
         "type": "heatmap",
         "xaxis": "x3",
         "yaxis": "y",
         "z": [
          [
           0.9952856,
           0.99533045,
           0.99530095,
           0.99530435
          ],
          [
           0.9960152,
           0.9964132,
           0.99566555,
           0.99584985
          ],
          [
           0.99601376,
           0.9964119,
           0.99602675,
           0.9960296
          ],
          [
           0.99593574,
           0.9965259,
           0.9959492,
           0.99613684
          ]
         ]
        }
       ],
       "frames": [],
       "layout": {
        "autosize": true,
        "coloraxis": {
         "colorscale": "Viridis"
        },
        "margin": {
         "b": 50,
         "l": 50,
         "r": 50,
         "t": 60
        },
        "showlegend": false,
        "title": {
         "text": "252 Capnocytophaga"
        },
        "xaxis": {
         "autorange": true,
         "domain": [
          0,
          0.2631578947368421
         ],
         "range": [
          -0.5,
          2.5
         ],
         "title": {
          "text": "1650 Capnocytophaga canis"
         }
        },
        "xaxis2": {
         "autorange": true,
         "domain": [
          0.2807017543859649,
          0.631578947368421
         ],
         "range": [
          -0.5,
          3.5
         ],
         "title": {
          "text": "1368 Capnocytophaga canimorsus"
         }
        },
        "xaxis3": {
         "autorange": true,
         "domain": [
          0.6491228070175439,
          1
         ],
         "range": [
          -0.5,
          3.5
         ],
         "title": {
          "text": "1369 Capnocytophaga cynodegmi"
         }
        },
        "yaxis": {
         "autorange": true,
         "domain": [
          0,
          1
         ],
         "range": [
          -0.5,
          3.5
         ],
         "title": {
          "text": "763 Capnocytophaga ochracea"
         }
        }
       }
      },
      "text/plain": [
       "data: [\n",
       "  \"heatmap with fields coloraxis, hoverlabel, name, type, xaxis, yaxis, and z\",\n",
       "  \"heatmap with fields coloraxis, hoverlabel, name, type, xaxis, yaxis, and z\",\n",
       "  \"heatmap with fields coloraxis, hoverlabel, name, type, xaxis, yaxis, and z\"\n",
       "]\n",
       "\n",
       "layout: \"layout with fields coloraxis, margin, showlegend, title, xaxis, xaxis2, xaxis3, and yaxis\"\n",
       "\n"
      ]
     },
     "metadata": {},
     "output_type": "display_data"
    },
    {
     "data": {
      "application/vnd.plotly.v1+json": {
       "data": [
        {
         "coloraxis": "coloraxis",
         "hoverlabel": {
          "namelength": -1
         },
         "name": "Gordonia sihwensis<br>Gordonia polyisoprenivorans",
         "type": "heatmap",
         "xaxis": "x",
         "yaxis": "y",
         "z": [
          [
           0.9789365,
           0.9774648,
           0.9729636
          ],
          [
           0.9754728,
           0.9770297,
           0.9738268
          ]
         ]
        },
        {
         "coloraxis": "coloraxis",
         "hoverlabel": {
          "namelength": -1
         },
         "name": "Gordonia sihwensis<br>Gordonia terrae",
         "type": "heatmap",
         "xaxis": "x2",
         "yaxis": "y",
         "z": [
          [
           0.9779071,
           0.97790295
          ],
          [
           0.97803015,
           0.9780261
          ]
         ]
        },
        {
         "coloraxis": "coloraxis",
         "hoverlabel": {
          "namelength": -1
         },
         "name": "Gordonia sihwensis<br>Gordonia amicalis",
         "type": "heatmap",
         "xaxis": "x3",
         "yaxis": "y",
         "z": [
          [
           0.9758516,
           0.97566736
          ],
          [
           0.97538626,
           0.9741486
          ]
         ]
        },
        {
         "coloraxis": "coloraxis",
         "hoverlabel": {
          "namelength": -1
         },
         "name": "Gordonia sihwensis<br>Gordonia alkanivorans",
         "type": "heatmap",
         "xaxis": "x4",
         "yaxis": "y",
         "z": [
          [
           0.97562605,
           0.9758677,
           0.97680396
          ],
          [
           0.97665805,
           0.97670674,
           0.9769432
          ]
         ]
        }
       ],
       "frames": [],
       "layout": {
        "autosize": true,
        "coloraxis": {
         "colorscale": "Viridis"
        },
        "margin": {
         "b": 50,
         "l": 50,
         "r": 50,
         "t": 60
        },
        "showlegend": false,
        "title": {
         "text": "2 Gordonia"
        },
        "xaxis": {
         "autorange": true,
         "domain": [
          0,
          0.28301886792452824
         ],
         "range": [
          -0.5,
          2.5
         ],
         "title": {
          "text": "1199 Gordonia polyisoprenivorans"
         }
        },
        "xaxis2": {
         "autorange": true,
         "domain": [
          0.3018867924528302,
          0.490566037735849
         ],
         "range": [
          -0.5,
          1.5
         ],
         "title": {
          "text": "1107 Gordonia terrae"
         }
        },
        "xaxis3": {
         "autorange": true,
         "domain": [
          0.5094339622641509,
          0.6981132075471698
         ],
         "range": [
          -0.5,
          1.5
         ],
         "title": {
          "text": "1794 Gordonia amicalis"
         }
        },
        "xaxis4": {
         "autorange": true,
         "domain": [
          0.7169811320754716,
          1
         ],
         "range": [
          -0.5,
          2.5
         ],
         "title": {
          "text": "1145 Gordonia alkanivorans"
         }
        },
        "yaxis": {
         "autorange": true,
         "domain": [
          0,
          1
         ],
         "range": [
          -0.5,
          1.5
         ],
         "title": {
          "text": "947 Gordonia sihwensis"
         }
        }
       }
      },
      "text/plain": [
       "data: [\n",
       "  \"heatmap with fields coloraxis, hoverlabel, name, type, xaxis, yaxis, and z\",\n",
       "  \"heatmap with fields coloraxis, hoverlabel, name, type, xaxis, yaxis, and z\",\n",
       "  \"heatmap with fields coloraxis, hoverlabel, name, type, xaxis, yaxis, and z\",\n",
       "  \"heatmap with fields coloraxis, hoverlabel, name, type, xaxis, yaxis, and z\"\n",
       "]\n",
       "\n",
       "layout: \"layout with fields coloraxis, margin, showlegend, title, xaxis, xaxis2, xaxis3, xaxis4, and yaxis\"\n",
       "\n"
      ]
     },
     "metadata": {},
     "output_type": "display_data"
    },
    {
     "data": {
      "application/vnd.plotly.v1+json": {
       "data": [
        {
         "coloraxis": "coloraxis",
         "hoverlabel": {
          "namelength": -1
         },
         "name": "Rhizobium mesoamericanum<br>Rhizobium alamii",
         "type": "heatmap",
         "xaxis": "x",
         "yaxis": "y",
         "z": [
          [
           0.97133064,
           0.9713598
          ],
          [
           0.970683,
           0.97043884
          ]
         ]
        },
        {
         "coloraxis": "coloraxis",
         "hoverlabel": {
          "namelength": -1
         },
         "name": "Rhizobium mesoamericanum<br>Rhizobium leguminosarum",
         "type": "heatmap",
         "xaxis": "x2",
         "yaxis": "y",
         "z": [
          [
           0.9700545,
           0.9700597,
           0.96954775,
           0.970928,
           0.9693074,
           0.9699828,
           0.9695006,
           0.9704818,
           0.97036487,
           0.96998537,
           0.9690166,
           0.9693312,
           0.97011334,
           0.96957856,
           0.96963805,
           0.96943504,
           0.9693353,
           0.9698348,
           0.96954143,
           0.96925354,
           0.96974736,
           0.9693758,
           0.9693619
          ],
          [
           0.97036237,
           0.97018504,
           0.9701538,
           0.9707455,
           0.96980363,
           0.9703906,
           0.96846455,
           0.9697679,
           0.97044885,
           0.9691743,
           0.9692977,
           0.96938145,
           0.9696094,
           0.96855384,
           0.969431,
           0.9697288,
           0.9695455,
           0.97029877,
           0.9690933,
           0.96934044,
           0.9691771,
           0.9695201,
           0.9696578
          ]
         ]
        },
        {
         "coloraxis": "coloraxis",
         "hoverlabel": {
          "namelength": -1
         },
         "name": "Rhizobium mesoamericanum<br>Rhizobium etli",
         "type": "heatmap",
         "xaxis": "x3",
         "yaxis": "y",
         "z": [
          [
           0.96827245,
           0.96865416,
           0.96778065,
           0.9659982,
           0.9694145,
           0.9699375
          ],
          [
           0.9680479,
           0.96937525,
           0.96770954,
           0.9662072,
           0.9689718,
           0.9690778
          ]
         ]
        }
       ],
       "frames": [],
       "layout": {
        "autosize": true,
        "coloraxis": {
         "colorscale": "Viridis"
        },
        "margin": {
         "b": 50,
         "l": 50,
         "r": 50,
         "t": 60
        },
        "showlegend": false,
        "title": {
         "text": "90 Rhizobium"
        },
        "xaxis": {
         "autorange": true,
         "domain": [
          0,
          0.06369426751592357
         ],
         "range": [
          -0.5,
          1.5
         ],
         "title": {
          "text": "818 Rhizobium alamii"
         }
        },
        "xaxis2": {
         "autorange": true,
         "domain": [
          0.07006369426751594,
          0.802547770700637
         ],
         "range": [
          -0.5,
          22.5
         ],
         "title": {
          "text": "575 Rhizobium leguminosarum"
         }
        },
        "xaxis3": {
         "autorange": true,
         "domain": [
          0.8089171974522293,
          1
         ],
         "range": [
          -0.5,
          5.5
         ],
         "title": {
          "text": "1537 Rhizobium etli"
         }
        },
        "yaxis": {
         "autorange": true,
         "domain": [
          0,
          1
         ],
         "range": [
          -0.5,
          1.5
         ],
         "title": {
          "text": "1732 Rhizobium mesoamericanum"
         }
        }
       }
      },
      "text/plain": [
       "data: [\n",
       "  \"heatmap with fields coloraxis, hoverlabel, name, type, xaxis, yaxis, and z\",\n",
       "  \"heatmap with fields coloraxis, hoverlabel, name, type, xaxis, yaxis, and z\",\n",
       "  \"heatmap with fields coloraxis, hoverlabel, name, type, xaxis, yaxis, and z\"\n",
       "]\n",
       "\n",
       "layout: \"layout with fields coloraxis, margin, showlegend, title, xaxis, xaxis2, xaxis3, and yaxis\"\n",
       "\n"
      ]
     },
     "metadata": {},
     "output_type": "display_data"
    }
   ],
   "source": [
    "for (tid, row_leaf_ids) in candidates\n",
    "    taxon = lookup_tid(tid)\n",
    "    row_leaf_idxs = [leaf_id_to_index[lid] for lid in row_leaf_ids]\n",
    "    \n",
    "    col_leaf_idxs = filter(idx -> maximum(leaf_pw_max_dists[row_leaf_idxs, idx]) > taxon.min_inter_dist, taxon.leaf_idxs)\n",
    "    col_leaves = [lookup_tid(leaf_tids[i]) for i in col_leaf_idxs]\n",
    "    \n",
    "    plt = leaf_pw_grid(\n",
    "        row_leaf_ids,\n",
    "        [l.id for l in col_leaves],\n",
    "#         taxon.min_inter_dist,\n",
    "        xsep=.2,\n",
    "        ysep=.2,\n",
    "    )\n",
    "    relayout!(\n",
    "        plt,\n",
    "        title=taxon.plot_label,\n",
    "#         coloraxis=attr(\n",
    "#             cmin=taxon.min_inter_dist,\n",
    "#             cmax=taxon.diameter,\n",
    "#         )\n",
    "    )\n",
    "    \n",
    "    display(plt)\n",
    "end"
   ]
  }
 ],
 "metadata": {
  "kernelspec": {
   "display_name": "Julia 1.5.1",
   "language": "julia",
   "name": "julia-1.5"
  },
  "language_info": {
   "file_extension": ".jl",
   "mimetype": "application/julia",
   "name": "julia",
   "version": "1.5.1"
  }
 },
 "nbformat": 4,
 "nbformat_minor": 5
}
