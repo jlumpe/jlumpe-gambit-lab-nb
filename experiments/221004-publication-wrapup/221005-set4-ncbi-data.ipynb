{
 "cells": [
  {
   "cell_type": "markdown",
   "id": "4b975880-11ed-46ad-b715-d489e1c99212",
   "metadata": {},
   "source": [
    "# 221005 Set4 NCBI Data"
   ]
  },
  {
   "cell_type": "code",
   "execution_count": 1,
   "id": "faeef8ed-d2a9-4ccf-9a9e-82352116ab0e",
   "metadata": {},
   "outputs": [],
   "source": [
    "from pathlib import Path\n",
    "import re\n",
    "import json"
   ]
  },
  {
   "cell_type": "code",
   "execution_count": 2,
   "id": "23258757-06c5-428b-8ddd-50fb41d7b55e",
   "metadata": {},
   "outputs": [],
   "source": [
    "import pandas as pd\n",
    "\n",
    "from Bio import Entrez"
   ]
  },
  {
   "cell_type": "markdown",
   "id": "26191935-b40d-444b-9eeb-f49f30e5a708",
   "metadata": {},
   "source": [
    "## Setup"
   ]
  },
  {
   "cell_type": "code",
   "execution_count": 3,
   "id": "e54d7716-69f5-472e-a555-924b714ad3bd",
   "metadata": {},
   "outputs": [],
   "source": [
    "DATESTR = '221005'\n",
    "NBNAME = f'{DATESTR}-set4-ncbi-data'"
   ]
  },
  {
   "cell_type": "code",
   "execution_count": 4,
   "id": "7acfe849-20fc-4956-9daf-666a631778ac",
   "metadata": {},
   "outputs": [],
   "source": [
    "infiles = dict(\n",
    "    table='src/221005-ag-data_v2.csv',\n",
    ")"
   ]
  },
  {
   "cell_type": "code",
   "execution_count": 5,
   "id": "ea5d3d40-aba4-4fcc-b883-64f6b07b9b90",
   "metadata": {},
   "outputs": [],
   "source": [
    "data_processed = Path('data-processed') / NBNAME\n",
    "data_processed.mkdir(exist_ok=True)\n",
    "\n",
    "outfiles = dict(\n",
    "    biosamples=data_processed / f'{DATESTR}-set4-biosamples.csv',\n",
    "    bioprojects=data_processed / f'{DATESTR}-set4-bioprojects.csv',\n",
    ")"
   ]
  },
  {
   "cell_type": "code",
   "execution_count": 6,
   "id": "27d90afd-b2fb-4b45-8977-a8bd7aee21fb",
   "metadata": {},
   "outputs": [],
   "source": [
    "Entrez.email = 'mjlumpe@gmail.com'"
   ]
  },
  {
   "cell_type": "code",
   "execution_count": 7,
   "id": "54c34993-94e0-44bf-bc90-92b19a5cb1bb",
   "metadata": {},
   "outputs": [],
   "source": [
    "tmpdir = Path('tmp')\n",
    "\n",
    "esummary_dirs = dict()\n",
    "\n",
    "for db in ['biosample', 'bioproject']:\n",
    "    d = esummary_dirs[db] = tmpdir / db\n",
    "    d.mkdir(exist_ok=True)"
   ]
  },
  {
   "cell_type": "markdown",
   "id": "6250ed90-a72a-4617-9082-866a9c4f0ab3",
   "metadata": {},
   "source": [
    "## Code"
   ]
  },
  {
   "cell_type": "code",
   "execution_count": 8,
   "id": "7c573e6a-d783-4521-b2bd-be01a40820cb",
   "metadata": {},
   "outputs": [],
   "source": [
    "def read_json_dir(directory, pattern: str = None, d: dict = None):\n",
    "    \"\"\"Read all JSON files in directory, return keyed by file name minus ext\"\"\"\n",
    "    if d is None:\n",
    "        d = dict()\n",
    "        \n",
    "    for f in directory.glob('*.json'):\n",
    "        if pattern and not re.fullmatch(pattern, f.stem):\n",
    "            continue\n",
    "\n",
    "        with open(f) as fobj:\n",
    "            d[f.stem] = json.load(fobj)\n",
    "        \n",
    "    return d"
   ]
  },
  {
   "cell_type": "code",
   "execution_count": 9,
   "id": "d445c58a-3a7d-430f-a2c7-9e0f15d084ec",
   "metadata": {},
   "outputs": [],
   "source": [
    "def fetch_esummaries(db: str, uids, directory: Path, overwrite=False):\n",
    "    \"\"\"Fetch esummaries, save to JSON files in path named by UID.\"\"\"\n",
    "    uids = set(uids)\n",
    "    files = {uid: directory / f'{uid}.json' for uid in uids}\n",
    "    result = Entrez.read(Entrez.esummary(db=db, id=','.join(uids), post=True))\n",
    "\n",
    "    for summary in result['DocumentSummarySet']['DocumentSummary']:\n",
    "        assert not summary.keys() & summary.attributes.keys()\n",
    "        summary_dict = {**summary, **summary.attributes}  # UID in attributes\n",
    "        \n",
    "        uid = summary_dict['uid']\n",
    "        file = files[uid]\n",
    "\n",
    "        if file.is_file():\n",
    "            if overwrite:\n",
    "                print('Overwriting UID', uid)\n",
    "            else:\n",
    "                print('Skipping existing UID', uid)\n",
    "                continue\n",
    "            \n",
    "        with open(file, 'w') as f:\n",
    "            json.dump(summary_dict, f)"
   ]
  },
  {
   "cell_type": "code",
   "execution_count": 10,
   "id": "d6b9d3a6-eb7a-4e14-b533-1a2177f3ddd7",
   "metadata": {},
   "outputs": [],
   "source": [
    "def parse_elink_result(result, unique: bool, by_name: bool):\n",
    "    id_map = dict()\n",
    "\n",
    "    for linkset in result:\n",
    "        (from_uid,) = linkset['IdList']\n",
    "        \n",
    "        for linksetdb in linkset['LinkSetDb']:\n",
    "            linkname = linksetdb['LinkName']\n",
    "            \n",
    "            for link in linksetdb['Link']:\n",
    "                to_uid = link['Id']\n",
    "                \n",
    "                if by_name:\n",
    "                    d = id_map.setdefault(from_uid, {})\n",
    "                    if unique:\n",
    "                        assert linkname not in d\n",
    "                        d[linkname] = to_uid\n",
    "                    else:\n",
    "                        d.setdefault(linkname, []).append(to_uid)\n",
    "                        \n",
    "                elif unique:\n",
    "                    assert from_uid not in id_map\n",
    "                    id_map[from_uid] = to_uid\n",
    "                \n",
    "                else:\n",
    "                    id_map.setdefault(from_uid, []).append(to_uid)\n",
    "    \n",
    "    return id_map"
   ]
  },
  {
   "cell_type": "markdown",
   "id": "a9e538de-c61e-4ec0-9df5-78d00a4653d2",
   "metadata": {},
   "source": [
    "## Load data"
   ]
  },
  {
   "cell_type": "code",
   "execution_count": 11,
   "id": "c5af7589-2bc3-4b91-9b07-45df19f1d7ab",
   "metadata": {},
   "outputs": [],
   "source": [
    "set4_df = pd.read_csv(infiles['table'], index_col=0)"
   ]
  },
  {
   "cell_type": "code",
   "execution_count": 12,
   "id": "42515690-af4f-4686-8e40-77a913fd5b40",
   "metadata": {},
   "outputs": [],
   "source": [
    "cols = ['entity:miniseq_id', 'biosample_accession', 'submission_id']\n",
    "bs_df = set4_df.loc[~set4_df.biosample_accession.isnull(), cols]\n",
    "bs_df = bs_df.reset_index().set_index('biosample_accession')"
   ]
  },
  {
   "cell_type": "code",
   "execution_count": 13,
   "id": "edc2c700-4a4c-47f8-8256-5f5881e5f1b2",
   "metadata": {},
   "outputs": [
    {
     "data": {
      "text/plain": [
       "572"
      ]
     },
     "execution_count": 13,
     "metadata": {},
     "output_type": "execute_result"
    }
   ],
   "source": [
    "bs_accs = bs_df.index\n",
    "assert bs_accs.is_unique\n",
    "num_bs = len(bs_accs)\n",
    "num_bs"
   ]
  },
  {
   "cell_type": "markdown",
   "id": "63667536-3714-4b69-a44f-9c32d9f02917",
   "metadata": {},
   "source": [
    "## Get biosamples"
   ]
  },
  {
   "cell_type": "markdown",
   "id": "704d3f77-da09-44dd-89fd-91ce856dc0e4",
   "metadata": {},
   "source": [
    "### Fetch summaries"
   ]
  },
  {
   "cell_type": "code",
   "execution_count": 14,
   "id": "867d4196-1590-4978-89d9-51b5550dfdab",
   "metadata": {},
   "outputs": [
    {
     "data": {
      "text/plain": [
       "572"
      ]
     },
     "execution_count": 14,
     "metadata": {},
     "output_type": "execute_result"
    }
   ],
   "source": [
    "bs_summaries_by_uid = read_json_dir(esummary_dirs['biosample'], r'\\d+')\n",
    "len(bs_summaries_by_uid)"
   ]
  },
  {
   "cell_type": "code",
   "execution_count": 15,
   "id": "eb94f82a-b4dd-4294-8e70-72ef643785ef",
   "metadata": {},
   "outputs": [
    {
     "name": "stdout",
     "output_type": "stream",
     "text": [
      "0 to fetch\n"
     ]
    }
   ],
   "source": [
    "bs_to_fetch = set(bs_accs) - {summary['Accession'] for summary in bs_summaries_by_uid.values()}\n",
    "print(len(bs_to_fetch), 'to fetch')\n",
    "\n",
    "if bs_to_fetch:\n",
    "    # Find uids\n",
    "    result = Entrez.read(Entrez.esearch(db='biosample', term=' OR '.join(bs_to_fetch), field='ACCN', post=True, retmax=len(bs_to_fetch)))\n",
    "    print('Got %s results of expected %d' % (result['Count'], len(bs_to_fetch)))\n",
    "\n",
    "    fetch_esummaries('biosample', result['IdList'], esummary_dirs['biosample'])"
   ]
  },
  {
   "cell_type": "code",
   "execution_count": 16,
   "id": "0e03daae-a67f-4d8f-a20b-2f2db1f94b3a",
   "metadata": {},
   "outputs": [],
   "source": [
    "read_json_dir(esummary_dirs['biosample'], r'\\d+', bs_summaries_by_uid)\n",
    "assert len(bs_summaries_by_uid) == num_bs"
   ]
  },
  {
   "cell_type": "markdown",
   "id": "662ea41a-b8bd-468c-b218-9c7b7d612abe",
   "metadata": {},
   "source": [
    "### Extract summary info"
   ]
  },
  {
   "cell_type": "code",
   "execution_count": 17,
   "id": "17390d8f-b6d0-47a8-b9a1-42008b057cf1",
   "metadata": {},
   "outputs": [],
   "source": [
    "bs_summaries = dict()\n",
    "bs_uid_to_acc = dict()\n",
    "bs_acc_to_uid = dict()\n",
    "\n",
    "for uid, summary in bs_summaries_by_uid.items():\n",
    "    acc = summary['Accession']\n",
    "    bs_summaries[acc] = summary\n",
    "    bs_uid_to_acc[uid] = acc\n",
    "    bs_acc_to_uid[acc] = uid\n",
    "\n",
    "assert len(bs_summaries) == num_bs\n",
    "assert len(bs_uid_to_acc) == num_bs\n",
    "assert len(bs_acc_to_uid) == num_bs\n",
    "\n",
    "bs_uids = set(bs_uid_to_acc)"
   ]
  },
  {
   "cell_type": "code",
   "execution_count": 18,
   "id": "e0fd0bae-e30d-49c6-95b8-8806bd9fded9",
   "metadata": {},
   "outputs": [],
   "source": [
    "bs_df['biosample_uid'] = pd.Series(bs_acc_to_uid)\n",
    "assert not bs_df.biosample_uid.isnull().any()"
   ]
  },
  {
   "cell_type": "markdown",
   "id": "a263899e-0657-487c-8129-fe9468298b8b",
   "metadata": {},
   "source": [
    "## Inspect \"Identifiers\" field"
   ]
  },
  {
   "cell_type": "code",
   "execution_count": 19,
   "id": "a22b04e6-375c-4d2b-ba31-156a04e0d5fe",
   "metadata": {},
   "outputs": [],
   "source": [
    "def parse_identifiers(identifiers: str):\n",
    "    ids = dict()\n",
    "    for s in identifiers.split('; '):\n",
    "        (k, v) = s.split(': ')\n",
    "        ids[k] = v\n",
    "    return ids"
   ]
  },
  {
   "cell_type": "code",
   "execution_count": 20,
   "id": "b9159fc1-c221-4fb2-8ecc-cb2df4c9f2f0",
   "metadata": {},
   "outputs": [],
   "source": [
    "identifiers = pd.DataFrame([\n",
    "    parse_identifiers(summary['Identifiers'])\n",
    "    for summary in bs_summaries.values()\n",
    "]).set_index('BioSample')\n",
    "\n",
    "assert set(identifiers.index) == set(bs_accs)"
   ]
  },
  {
   "cell_type": "code",
   "execution_count": 21,
   "id": "d39b7dfd-162c-460a-a6e2-fb6a0055b382",
   "metadata": {},
   "outputs": [
    {
     "data": {
      "text/plain": [
       "SRA         493\n",
       "EDLB-CDC    159\n",
       "NSPHL       413\n",
       "dtype: int64"
      ]
     },
     "execution_count": 21,
     "metadata": {},
     "output_type": "execute_result"
    }
   ],
   "source": [
    "identifiers.count()"
   ]
  },
  {
   "cell_type": "markdown",
   "id": "bb1dffc7-d1d9-4a00-ab44-0a2cd83e377b",
   "metadata": {},
   "source": [
    "### Add SRA links"
   ]
  },
  {
   "cell_type": "code",
   "execution_count": 22,
   "id": "efc5a7ee-7d56-4068-afda-80b69d1f1734",
   "metadata": {},
   "outputs": [],
   "source": [
    "bs_df['sra'] = identifiers.SRA"
   ]
  },
  {
   "cell_type": "markdown",
   "id": "0047cce5-62b9-422d-a602-22ebd91da241",
   "metadata": {},
   "source": [
    "## Link biosample to bioproject"
   ]
  },
  {
   "cell_type": "code",
   "execution_count": 23,
   "id": "0bc483dc-4a15-493e-ae10-fc4c77758a68",
   "metadata": {},
   "outputs": [],
   "source": [
    "result = Entrez.read(Entrez.elink(db='bioproject', dbfrom='biosample', id=bs_uids))\n",
    "# result = parse.read(Entrez.elink(db='bioproject', dbfrom='biosample', linkname='biosample_bioproject', id=bs_uids))"
   ]
  },
  {
   "cell_type": "code",
   "execution_count": 24,
   "id": "f27b81c2-f966-4144-bcb0-368fd5f90918",
   "metadata": {},
   "outputs": [],
   "source": [
    "link_bs_to_bp = parse_elink_result(result, False, True)\n",
    "assert link_bs_to_bp.keys() == bs_uids"
   ]
  },
  {
   "cell_type": "markdown",
   "id": "65386e2d-b302-454a-98ba-85eb9e6773eb",
   "metadata": {},
   "source": [
    "### Inspect and organize"
   ]
  },
  {
   "cell_type": "code",
   "execution_count": 25,
   "id": "8183fbd0-aa6e-4bc7-bb90-25c8cc0891f8",
   "metadata": {},
   "outputs": [
    {
     "data": {
      "text/plain": [
       "Counter({('biosample_bioproject_sp', 1): 572,\n",
       "         ('biosample_bioproject', 1): 572,\n",
       "         ('biosample_bioproject_all', 1): 535,\n",
       "         ('biosample_bioproject_all', 2): 37})"
      ]
     },
     "execution_count": 25,
     "metadata": {},
     "output_type": "execute_result"
    }
   ],
   "source": [
    "from collections import Counter\n",
    "Counter((name, len(ids)) for links in link_bs_to_bp.values() for name, ids in links.items())"
   ]
  },
  {
   "cell_type": "code",
   "execution_count": 26,
   "id": "c506b345-0599-4e0e-9c83-03eda81d005e",
   "metadata": {},
   "outputs": [],
   "source": [
    "bs_to_bp = dict()\n",
    "bs_extra_bps = dict()\n",
    "all_bp_uids = set()\n",
    "\n",
    "for bs_uid, links in link_bs_to_bp.items():\n",
    "    (main_bp,) = links['biosample_bioproject']\n",
    "    assert links['biosample_bioproject'] == links['biosample_bioproject_sp']\n",
    "    \n",
    "    bs_to_bp[bs_uid] = main_bp\n",
    "    \n",
    "    bps_all = links['biosample_bioproject_all']\n",
    "    assert main_bp in bps_all\n",
    "    if len(bps_all) > 1:\n",
    "        bs_extra_bps[bs_uid] = [uid for uid in bps_all if uid != main_bp]\n",
    "        \n",
    "    all_bp_uids |= set(bps_all)"
   ]
  },
  {
   "cell_type": "code",
   "execution_count": 27,
   "id": "3e448921-4b81-42ab-9daa-33443458d069",
   "metadata": {},
   "outputs": [
    {
     "data": {
      "text/plain": [
       "8"
      ]
     },
     "execution_count": 27,
     "metadata": {},
     "output_type": "execute_result"
    }
   ],
   "source": [
    "len(all_bp_uids)"
   ]
  },
  {
   "cell_type": "code",
   "execution_count": 28,
   "id": "06c91277-fe5d-47c6-b0c2-ce5105077d13",
   "metadata": {},
   "outputs": [
    {
     "data": {
      "text/plain": [
       "Counter({'857686': 413,\n",
       "         '218110': 89,\n",
       "         '230403': 35,\n",
       "         '239251': 24,\n",
       "         '266293': 9,\n",
       "         '212117': 2})"
      ]
     },
     "execution_count": 28,
     "metadata": {},
     "output_type": "execute_result"
    }
   ],
   "source": [
    "bp_counts_main = Counter(bs_to_bp.values())\n",
    "bp_counts_main"
   ]
  },
  {
   "cell_type": "code",
   "execution_count": 29,
   "id": "b1ca5672-29e3-4e56-b0ae-9ef3633a989d",
   "metadata": {},
   "outputs": [
    {
     "data": {
      "text/plain": [
       "Counter({'290730': 35, '211456': 2})"
      ]
     },
     "execution_count": 29,
     "metadata": {},
     "output_type": "execute_result"
    }
   ],
   "source": [
    "bp_counts_extra = Counter(e for extra in bs_extra_bps.values() for e in extra)\n",
    "bp_counts_extra"
   ]
  },
  {
   "cell_type": "code",
   "execution_count": 30,
   "id": "4cd19fcc-48ae-4317-a4f4-299c1d38dd4d",
   "metadata": {},
   "outputs": [],
   "source": [
    "bs_df['bioproject_uid'] = [bs_to_bp[bs] for bs in bs_df.biosample_uid]"
   ]
  },
  {
   "cell_type": "markdown",
   "id": "290ac63b-8fbe-47c6-a5a3-b10691f5ae62",
   "metadata": {},
   "source": [
    "### Fetch bioproject summaries"
   ]
  },
  {
   "cell_type": "code",
   "execution_count": 31,
   "id": "8f5b600a-4eb9-4dc8-a7ce-ad43b8e45a61",
   "metadata": {},
   "outputs": [
    {
     "name": "stdout",
     "output_type": "stream",
     "text": [
      "Skipping existing UID 212117\n",
      "Skipping existing UID 230403\n",
      "Skipping existing UID 290730\n",
      "Skipping existing UID 857686\n",
      "Skipping existing UID 218110\n",
      "Skipping existing UID 239251\n",
      "Skipping existing UID 266293\n",
      "Skipping existing UID 211456\n"
     ]
    }
   ],
   "source": [
    "fetch_esummaries('bioproject', all_bp_uids, esummary_dirs['bioproject'])"
   ]
  },
  {
   "cell_type": "code",
   "execution_count": 32,
   "id": "1ccaa424-e99c-4ea3-8950-eb1ad1f3c1f0",
   "metadata": {},
   "outputs": [],
   "source": [
    "bioprojects = read_json_dir(esummary_dirs['bioproject'])"
   ]
  },
  {
   "cell_type": "code",
   "execution_count": 33,
   "id": "96c0b8ed-87b8-423f-99d9-6d7c891bcbad",
   "metadata": {},
   "outputs": [],
   "source": [
    "bioproj_df = pd.DataFrame(list(bioprojects.values())).set_index('uid')\n",
    "bioproj_df.sort_index(axis=1, inplace=True)\n",
    "\n",
    "bioproj_df.insert(0, 'biosample_count', [bp_counts_main[uid] for uid in bioproj_df.index])\n",
    "bioproj_df.insert(1, 'biosample_count_extra', [bp_counts_extra[uid] for uid in bioproj_df.index])\n",
    "\n",
    "bioproj_df.sort_values('biosample_count', axis='index', inplace=True, ascending=False)"
   ]
  },
  {
   "cell_type": "code",
   "execution_count": 34,
   "id": "08d1b7fb-e72f-41c2-b45a-ef5807952326",
   "metadata": {},
   "outputs": [
    {
     "data": {
      "text/html": [
       "<div>\n",
       "<style scoped>\n",
       "    .dataframe tbody tr th:only-of-type {\n",
       "        vertical-align: middle;\n",
       "    }\n",
       "\n",
       "    .dataframe tbody tr th {\n",
       "        vertical-align: top;\n",
       "    }\n",
       "\n",
       "    .dataframe thead th {\n",
       "        text-align: right;\n",
       "    }\n",
       "</style>\n",
       "<table border=\"1\" class=\"dataframe\">\n",
       "  <thead>\n",
       "    <tr style=\"text-align: right;\">\n",
       "      <th></th>\n",
       "      <th>Project_Acc</th>\n",
       "      <th>Project_Name</th>\n",
       "      <th>Project_Title</th>\n",
       "      <th>Project_Description</th>\n",
       "      <th>Submitter_Organization</th>\n",
       "      <th>biosample_count</th>\n",
       "      <th>biosample_count_extra</th>\n",
       "    </tr>\n",
       "    <tr>\n",
       "      <th>uid</th>\n",
       "      <th></th>\n",
       "      <th></th>\n",
       "      <th></th>\n",
       "      <th></th>\n",
       "      <th></th>\n",
       "      <th></th>\n",
       "      <th></th>\n",
       "    </tr>\n",
       "  </thead>\n",
       "  <tbody>\n",
       "    <tr>\n",
       "      <th>857686</th>\n",
       "      <td>PRJNA857686</td>\n",
       "      <td>hospital metagenome</td>\n",
       "      <td>hospital metagenome Raw sequence reads</td>\n",
       "      <td>Fastq files for HAI bacteria sequenced at the ...</td>\n",
       "      <td>Nevada State Public Health Laboratory submissi...</td>\n",
       "      <td>413</td>\n",
       "      <td>0</td>\n",
       "    </tr>\n",
       "    <tr>\n",
       "      <th>218110</th>\n",
       "      <td>PRJNA218110</td>\n",
       "      <td>Enterobacteriaceae</td>\n",
       "      <td>PulseNet Escherichia coli and Shigella genome ...</td>\n",
       "      <td>PulseNet STEC genome reference library</td>\n",
       "      <td>CDC</td>\n",
       "      <td>89</td>\n",
       "      <td>0</td>\n",
       "    </tr>\n",
       "    <tr>\n",
       "      <th>230403</th>\n",
       "      <td>PRJNA230403</td>\n",
       "      <td>Salmonella enterica</td>\n",
       "      <td>PulseNet Salmonella enterica Genome sequencing</td>\n",
       "      <td>Salmonella enterica genomes sequenced as part ...</td>\n",
       "      <td>CDC</td>\n",
       "      <td>35</td>\n",
       "      <td>0</td>\n",
       "    </tr>\n",
       "    <tr>\n",
       "      <th>239251</th>\n",
       "      <td>PRJNA239251</td>\n",
       "      <td>Campylobacter</td>\n",
       "      <td>Campylobacter Genome sequencing and assembly</td>\n",
       "      <td>Campylobacter genome sequencing</td>\n",
       "      <td>Centers for Disease Control and Prevention</td>\n",
       "      <td>24</td>\n",
       "      <td>0</td>\n",
       "    </tr>\n",
       "    <tr>\n",
       "      <th>266293</th>\n",
       "      <td>PRJNA266293</td>\n",
       "      <td>Bacteria</td>\n",
       "      <td>PulseNet Vibrio spp. Genome sequencing</td>\n",
       "      <td>Vibrio spp. genomes sequenced for PulseNet sur...</td>\n",
       "      <td>CDC</td>\n",
       "      <td>9</td>\n",
       "      <td>0</td>\n",
       "    </tr>\n",
       "    <tr>\n",
       "      <th>212117</th>\n",
       "      <td>PRJNA212117</td>\n",
       "      <td>Listeria monocytogenes</td>\n",
       "      <td>Listeria monocytogenes Genome sequencing and a...</td>\n",
       "      <td>Genome sequencing of Listeria monocytogenes</td>\n",
       "      <td>Enteric Diseases Laboratory Branch, Centers fo...</td>\n",
       "      <td>2</td>\n",
       "      <td>0</td>\n",
       "    </tr>\n",
       "    <tr>\n",
       "      <th>290730</th>\n",
       "      <td>PRJNA290730</td>\n",
       "      <td>Salmonella enterica</td>\n",
       "      <td>EDLB's sequencing of Salmonella enterica</td>\n",
       "      <td>Genome sequencing of Salmonella enterica</td>\n",
       "      <td>Centers for Disease Control and Prevention</td>\n",
       "      <td>0</td>\n",
       "      <td>35</td>\n",
       "    </tr>\n",
       "    <tr>\n",
       "      <th>211456</th>\n",
       "      <td>PRJNA211456</td>\n",
       "      <td>Listeria monocytogenes</td>\n",
       "      <td>Listeria monocytogenes</td>\n",
       "      <td></td>\n",
       "      <td>CDC</td>\n",
       "      <td>0</td>\n",
       "      <td>2</td>\n",
       "    </tr>\n",
       "  </tbody>\n",
       "</table>\n",
       "</div>"
      ],
      "text/plain": [
       "        Project_Acc            Project_Name  \\\n",
       "uid                                           \n",
       "857686  PRJNA857686     hospital metagenome   \n",
       "218110  PRJNA218110      Enterobacteriaceae   \n",
       "230403  PRJNA230403     Salmonella enterica   \n",
       "239251  PRJNA239251           Campylobacter   \n",
       "266293  PRJNA266293                Bacteria   \n",
       "212117  PRJNA212117  Listeria monocytogenes   \n",
       "290730  PRJNA290730     Salmonella enterica   \n",
       "211456  PRJNA211456  Listeria monocytogenes   \n",
       "\n",
       "                                            Project_Title  \\\n",
       "uid                                                         \n",
       "857686             hospital metagenome Raw sequence reads   \n",
       "218110  PulseNet Escherichia coli and Shigella genome ...   \n",
       "230403     PulseNet Salmonella enterica Genome sequencing   \n",
       "239251       Campylobacter Genome sequencing and assembly   \n",
       "266293             PulseNet Vibrio spp. Genome sequencing   \n",
       "212117  Listeria monocytogenes Genome sequencing and a...   \n",
       "290730           EDLB's sequencing of Salmonella enterica   \n",
       "211456                             Listeria monocytogenes   \n",
       "\n",
       "                                      Project_Description  \\\n",
       "uid                                                         \n",
       "857686  Fastq files for HAI bacteria sequenced at the ...   \n",
       "218110             PulseNet STEC genome reference library   \n",
       "230403  Salmonella enterica genomes sequenced as part ...   \n",
       "239251                    Campylobacter genome sequencing   \n",
       "266293  Vibrio spp. genomes sequenced for PulseNet sur...   \n",
       "212117        Genome sequencing of Listeria monocytogenes   \n",
       "290730           Genome sequencing of Salmonella enterica   \n",
       "211456                                                      \n",
       "\n",
       "                                   Submitter_Organization  biosample_count  \\\n",
       "uid                                                                          \n",
       "857686  Nevada State Public Health Laboratory submissi...              413   \n",
       "218110                                                CDC               89   \n",
       "230403                                                CDC               35   \n",
       "239251         Centers for Disease Control and Prevention               24   \n",
       "266293                                                CDC                9   \n",
       "212117  Enteric Diseases Laboratory Branch, Centers fo...                2   \n",
       "290730         Centers for Disease Control and Prevention                0   \n",
       "211456                                                CDC                0   \n",
       "\n",
       "        biosample_count_extra  \n",
       "uid                            \n",
       "857686                      0  \n",
       "218110                      0  \n",
       "230403                      0  \n",
       "239251                      0  \n",
       "266293                      0  \n",
       "212117                      0  \n",
       "290730                     35  \n",
       "211456                      2  "
      ]
     },
     "execution_count": 34,
     "metadata": {},
     "output_type": "execute_result"
    }
   ],
   "source": [
    "cols = ['Project_Acc', 'Project_Name', 'Project_Title', 'Project_Description', 'Submitter_Organization', 'biosample_count', 'biosample_count_extra']\n",
    "bioproj_df[cols]"
   ]
  },
  {
   "cell_type": "code",
   "execution_count": 35,
   "id": "21b121a3-c07a-46d0-bf9b-9de958ae34cf",
   "metadata": {},
   "outputs": [],
   "source": [
    "bs_df['bioproject_accession'] = [bioprojects[uid]['Project_Acc'] for uid in bs_df.bioproject_uid]"
   ]
  },
  {
   "cell_type": "markdown",
   "id": "6e10c171-8a69-4238-ba4f-d21c380aaeef",
   "metadata": {},
   "source": [
    "## Check"
   ]
  },
  {
   "cell_type": "code",
   "execution_count": 36,
   "id": "1c73548a-8387-4e23-87dd-23f31f103c38",
   "metadata": {},
   "outputs": [
    {
     "data": {
      "text/html": [
       "<div>\n",
       "<style scoped>\n",
       "    .dataframe tbody tr th:only-of-type {\n",
       "        vertical-align: middle;\n",
       "    }\n",
       "\n",
       "    .dataframe tbody tr th {\n",
       "        vertical-align: top;\n",
       "    }\n",
       "\n",
       "    .dataframe thead th {\n",
       "        text-align: right;\n",
       "    }\n",
       "</style>\n",
       "<table border=\"1\" class=\"dataframe\">\n",
       "  <thead>\n",
       "    <tr style=\"text-align: right;\">\n",
       "      <th></th>\n",
       "      <th>count</th>\n",
       "      <th>has_sra</th>\n",
       "    </tr>\n",
       "    <tr>\n",
       "      <th>bioproject_accession</th>\n",
       "      <th></th>\n",
       "      <th></th>\n",
       "    </tr>\n",
       "  </thead>\n",
       "  <tbody>\n",
       "    <tr>\n",
       "      <th>PRJNA212117</th>\n",
       "      <td>2</td>\n",
       "      <td>2</td>\n",
       "    </tr>\n",
       "    <tr>\n",
       "      <th>PRJNA218110</th>\n",
       "      <td>89</td>\n",
       "      <td>89</td>\n",
       "    </tr>\n",
       "    <tr>\n",
       "      <th>PRJNA230403</th>\n",
       "      <td>35</td>\n",
       "      <td>35</td>\n",
       "    </tr>\n",
       "    <tr>\n",
       "      <th>PRJNA239251</th>\n",
       "      <td>24</td>\n",
       "      <td>24</td>\n",
       "    </tr>\n",
       "    <tr>\n",
       "      <th>PRJNA266293</th>\n",
       "      <td>9</td>\n",
       "      <td>9</td>\n",
       "    </tr>\n",
       "    <tr>\n",
       "      <th>PRJNA857686</th>\n",
       "      <td>413</td>\n",
       "      <td>334</td>\n",
       "    </tr>\n",
       "  </tbody>\n",
       "</table>\n",
       "</div>"
      ],
      "text/plain": [
       "                      count  has_sra\n",
       "bioproject_accession                \n",
       "PRJNA212117               2        2\n",
       "PRJNA218110              89       89\n",
       "PRJNA230403              35       35\n",
       "PRJNA239251              24       24\n",
       "PRJNA266293               9        9\n",
       "PRJNA857686             413      334"
      ]
     },
     "execution_count": 36,
     "metadata": {},
     "output_type": "execute_result"
    }
   ],
   "source": [
    "gb = bs_df.groupby('bioproject_accession')\n",
    "\n",
    "pd.DataFrame(dict(\n",
    "    count=gb.size(),\n",
    "    has_sra=gb['sra'].count(),\n",
    "))"
   ]
  },
  {
   "cell_type": "markdown",
   "id": "f53f7886-5e3a-446c-af9a-ff42f85c03e0",
   "metadata": {},
   "source": [
    "## Output"
   ]
  },
  {
   "cell_type": "code",
   "execution_count": 37,
   "id": "dd1783d9-35e0-4eb9-bbd1-f93b6eaaeec9",
   "metadata": {},
   "outputs": [],
   "source": [
    "bs_df.to_csv(outfiles['biosamples'])"
   ]
  },
  {
   "cell_type": "code",
   "execution_count": 38,
   "id": "e4129fa1-93e6-44c8-beaa-c46f423eb92c",
   "metadata": {},
   "outputs": [],
   "source": [
    "bioproj_df.to_csv(outfiles['bioprojects'])"
   ]
  }
 ],
 "metadata": {
  "kernelspec": {
   "display_name": "GAMBIT",
   "language": "python",
   "name": "gambit"
  },
  "language_info": {
   "codemirror_mode": {
    "name": "ipython",
    "version": 3
   },
   "file_extension": ".py",
   "mimetype": "text/x-python",
   "name": "python",
   "nbconvert_exporter": "python",
   "pygments_lexer": "ipython3",
   "version": "3.9.13"
  }
 },
 "nbformat": 4,
 "nbformat_minor": 5
}
