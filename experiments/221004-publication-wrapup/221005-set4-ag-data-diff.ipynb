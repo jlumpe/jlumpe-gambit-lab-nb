{
 "cells": [
  {
   "cell_type": "markdown",
   "id": "4b975880-11ed-46ad-b715-d489e1c99212",
   "metadata": {},
   "source": [
    "# 221005 Set4 AG Data Diff"
   ]
  },
  {
   "cell_type": "code",
   "execution_count": 1,
   "id": "faeef8ed-d2a9-4ccf-9a9e-82352116ab0e",
   "metadata": {},
   "outputs": [],
   "source": [
    "from pathlib import Path"
   ]
  },
  {
   "cell_type": "code",
   "execution_count": 2,
   "id": "102c4b4e-bf21-460d-aad9-804d5551bb05",
   "metadata": {},
   "outputs": [],
   "source": [
    "import pandas as pd\n",
    "import numpy as np"
   ]
  },
  {
   "cell_type": "markdown",
   "id": "26191935-b40d-444b-9eeb-f49f30e5a708",
   "metadata": {},
   "source": [
    "## Setup"
   ]
  },
  {
   "cell_type": "code",
   "execution_count": 3,
   "id": "a44d8075-fe7e-4aba-a450-6e722e3ed8c5",
   "metadata": {},
   "outputs": [],
   "source": [
    "DATESTR = '221005'\n",
    "NBNAME = f'{DATESTR}-set4-ag-data-diff'"
   ]
  },
  {
   "cell_type": "code",
   "execution_count": 4,
   "id": "7acfe849-20fc-4956-9daf-666a631778ac",
   "metadata": {},
   "outputs": [],
   "source": [
    "infiles = dict(\n",
    "    old='data-processed/221004-set4-ag-data/221004-ag-data.csv',\n",
    "    new='src/221005-ag-data_v2.csv',\n",
    ")"
   ]
  },
  {
   "cell_type": "markdown",
   "id": "a9e538de-c61e-4ec0-9df5-78d00a4653d2",
   "metadata": {},
   "source": [
    "## Load data"
   ]
  },
  {
   "cell_type": "code",
   "execution_count": 5,
   "id": "640992e6-c8c5-431c-8c54-06254ae09885",
   "metadata": {},
   "outputs": [],
   "source": [
    "old = pd.read_csv(infiles['old'], index_col=0)\n",
    "new = pd.read_csv(infiles['new'], index_col=0)"
   ]
  },
  {
   "cell_type": "markdown",
   "id": "5fda2061-2b95-4077-9050-cefa8e1f3bda",
   "metadata": {},
   "source": [
    "## Compare"
   ]
  },
  {
   "cell_type": "code",
   "execution_count": 7,
   "id": "ab9bcfa6-e139-49fd-a1fd-bfeb472ddbb3",
   "metadata": {},
   "outputs": [],
   "source": [
    "assert set(new.index) == set(old.index)\n",
    "new = new.loc[old.index]"
   ]
  },
  {
   "cell_type": "code",
   "execution_count": 8,
   "id": "a3a15dd4-363a-47d9-b8d3-641b83490250",
   "metadata": {},
   "outputs": [
    {
     "data": {
      "text/html": [
       "<div>\n",
       "<style scoped>\n",
       "    .dataframe tbody tr th:only-of-type {\n",
       "        vertical-align: middle;\n",
       "    }\n",
       "\n",
       "    .dataframe tbody tr th {\n",
       "        vertical-align: top;\n",
       "    }\n",
       "\n",
       "    .dataframe thead tr th {\n",
       "        text-align: left;\n",
       "    }\n",
       "\n",
       "    .dataframe thead tr:last-of-type th {\n",
       "        text-align: right;\n",
       "    }\n",
       "</style>\n",
       "<table border=\"1\" class=\"dataframe\">\n",
       "  <thead>\n",
       "    <tr>\n",
       "      <th></th>\n",
       "      <th colspan=\"2\" halign=\"left\">biosample_accession</th>\n",
       "      <th colspan=\"2\" halign=\"left\">est_coverage</th>\n",
       "    </tr>\n",
       "    <tr>\n",
       "      <th></th>\n",
       "      <th>self</th>\n",
       "      <th>other</th>\n",
       "      <th>self</th>\n",
       "      <th>other</th>\n",
       "    </tr>\n",
       "    <tr>\n",
       "      <th>id</th>\n",
       "      <th></th>\n",
       "      <th></th>\n",
       "      <th></th>\n",
       "      <th></th>\n",
       "    </tr>\n",
       "  </thead>\n",
       "  <tbody>\n",
       "    <tr>\n",
       "      <th>1658-pos</th>\n",
       "      <td>NaN</td>\n",
       "      <td>NaN</td>\n",
       "      <td>64.79</td>\n",
       "      <td>64.79</td>\n",
       "    </tr>\n",
       "    <tr>\n",
       "      <th>18-00016595</th>\n",
       "      <td>NaN</td>\n",
       "      <td>NaN</td>\n",
       "      <td>174.52</td>\n",
       "      <td>174.52</td>\n",
       "    </tr>\n",
       "    <tr>\n",
       "      <th>18-00022236</th>\n",
       "      <td>NaN</td>\n",
       "      <td>NaN</td>\n",
       "      <td>185.02</td>\n",
       "      <td>185.02</td>\n",
       "    </tr>\n",
       "    <tr>\n",
       "      <th>18-00023041</th>\n",
       "      <td>NaN</td>\n",
       "      <td>NaN</td>\n",
       "      <td>135.21</td>\n",
       "      <td>135.21</td>\n",
       "    </tr>\n",
       "    <tr>\n",
       "      <th>19-00001699</th>\n",
       "      <td>NaN</td>\n",
       "      <td>NaN</td>\n",
       "      <td>148.02</td>\n",
       "      <td>148.02</td>\n",
       "    </tr>\n",
       "  </tbody>\n",
       "</table>\n",
       "</div>"
      ],
      "text/plain": [
       "            biosample_accession       est_coverage        \n",
       "                           self other         self   other\n",
       "id                                                        \n",
       "1658-pos                    NaN   NaN        64.79   64.79\n",
       "18-00016595                 NaN   NaN       174.52  174.52\n",
       "18-00022236                 NaN   NaN       185.02  185.02\n",
       "18-00023041                 NaN   NaN       135.21  135.21\n",
       "19-00001699                 NaN   NaN       148.02  148.02"
      ]
     },
     "execution_count": 8,
     "metadata": {},
     "output_type": "execute_result"
    }
   ],
   "source": [
    "comp = new.compare(old)\n",
    "comp.head()"
   ]
  },
  {
   "cell_type": "code",
   "execution_count": 9,
   "id": "768566f2-5880-4853-9a8f-a6334c7d76ab",
   "metadata": {},
   "outputs": [],
   "source": [
    "assert np.allclose(comp['est_coverage', 'self'], comp['est_coverage', 'other'], equal_nan=True)"
   ]
  },
  {
   "cell_type": "code",
   "execution_count": 10,
   "id": "396215fa-8762-46bc-b30f-3477c8147526",
   "metadata": {},
   "outputs": [
    {
     "data": {
      "text/html": [
       "<div>\n",
       "<style scoped>\n",
       "    .dataframe tbody tr th:only-of-type {\n",
       "        vertical-align: middle;\n",
       "    }\n",
       "\n",
       "    .dataframe tbody tr th {\n",
       "        vertical-align: top;\n",
       "    }\n",
       "\n",
       "    .dataframe thead th {\n",
       "        text-align: right;\n",
       "    }\n",
       "</style>\n",
       "<table border=\"1\" class=\"dataframe\">\n",
       "  <thead>\n",
       "    <tr style=\"text-align: right;\">\n",
       "      <th></th>\n",
       "      <th>self</th>\n",
       "      <th>other</th>\n",
       "    </tr>\n",
       "    <tr>\n",
       "      <th>id</th>\n",
       "      <th></th>\n",
       "      <th></th>\n",
       "    </tr>\n",
       "  </thead>\n",
       "  <tbody>\n",
       "    <tr>\n",
       "      <th>22-00044713</th>\n",
       "      <td>SAMN30965595</td>\n",
       "      <td></td>\n",
       "    </tr>\n",
       "    <tr>\n",
       "      <th>PNUSAE020883</th>\n",
       "      <td>SAMN10619240</td>\n",
       "      <td>SAMN10182651</td>\n",
       "    </tr>\n",
       "  </tbody>\n",
       "</table>\n",
       "</div>"
      ],
      "text/plain": [
       "                      self         other\n",
       "id                                      \n",
       "22-00044713   SAMN30965595              \n",
       "PNUSAE020883  SAMN10619240  SAMN10182651"
      ]
     },
     "execution_count": 10,
     "metadata": {},
     "output_type": "execute_result"
    }
   ],
   "source": [
    "bs_comp = comp['biosample_accession'].fillna('')\n",
    "\n",
    "bs_comp[bs_comp['self'] != bs_comp['other']]"
   ]
  }
 ],
 "metadata": {
  "kernelspec": {
   "display_name": "Gambit Publication",
   "language": "python",
   "name": "gambit-pub"
  },
  "language_info": {
   "codemirror_mode": {
    "name": "ipython",
    "version": 3
   },
   "file_extension": ".py",
   "mimetype": "text/x-python",
   "name": "python",
   "nbconvert_exporter": "python",
   "pygments_lexer": "ipython3",
   "version": "3.9.13"
  }
 },
 "nbformat": 4,
 "nbformat_minor": 5
}
