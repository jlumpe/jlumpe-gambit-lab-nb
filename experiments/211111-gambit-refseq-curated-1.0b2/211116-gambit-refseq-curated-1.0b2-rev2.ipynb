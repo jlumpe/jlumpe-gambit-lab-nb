{
 "cells": [
  {
   "cell_type": "markdown",
   "id": "e557df4d-27e4-48cf-b688-df7d7a2d3ed3",
   "metadata": {},
   "source": [
    "# 211116 gambit-refseq-curated-1.0b2-rev2"
   ]
  },
  {
   "cell_type": "code",
   "execution_count": 1,
   "id": "63d6aa58-4c53-4f3e-bb0b-eb812651a2ae",
   "metadata": {},
   "outputs": [],
   "source": [
    "from pathlib import Path\n",
    "import shutil\n",
    "from collections import Counter"
   ]
  },
  {
   "cell_type": "code",
   "execution_count": 2,
   "id": "afb88860-e7c5-4319-90ef-f8c28d941807",
   "metadata": {},
   "outputs": [],
   "source": [
    "from sqlalchemy import create_engine\n",
    "from sqlalchemy.orm import sessionmaker"
   ]
  },
  {
   "cell_type": "code",
   "execution_count": 3,
   "id": "98a22da8-f1e7-4df6-9a40-260d0a72f15f",
   "metadata": {},
   "outputs": [],
   "source": [
    "from gambit.db.models import *\n",
    "from gambit.db.models import reportable_taxon\n",
    "import gambit.io.json as gjson"
   ]
  },
  {
   "cell_type": "markdown",
   "id": "818cda32-c004-4ffa-a04e-f8698ded1d1b",
   "metadata": {},
   "source": [
    "## Setup"
   ]
  },
  {
   "cell_type": "code",
   "execution_count": 4,
   "id": "267f8ada-4b1d-4484-99de-9d1a456e60f2",
   "metadata": {},
   "outputs": [],
   "source": [
    "DATESTR = '211116'\n",
    "DATESTR_LONG = '2021-11-16'"
   ]
  },
  {
   "cell_type": "code",
   "execution_count": 5,
   "id": "7e98b5ee-4473-4e7a-b715-18beea6f4885",
   "metadata": {},
   "outputs": [],
   "source": [
    "archive_dir = Path('archive')\n",
    "archive_dir.mkdir(exist_ok=True)"
   ]
  },
  {
   "cell_type": "code",
   "execution_count": 6,
   "id": "8d698c60-c884-4619-b75a-801a1f32822f",
   "metadata": {},
   "outputs": [],
   "source": [
    "infiles = dict(\n",
    "    db_rev1=archive_dir / 'gambit-genomes-1.0b2-211111.db',\n",
    ")"
   ]
  },
  {
   "cell_type": "code",
   "execution_count": 7,
   "id": "f0712630-8684-4958-a5f3-4bf1ab406ae5",
   "metadata": {},
   "outputs": [],
   "source": [
    "outfiles = dict(\n",
    "    db_rev2=archive_dir / f'gambit-genomes-1.0b2-rev2-{DATESTR}.db',\n",
    ")"
   ]
  },
  {
   "cell_type": "markdown",
   "id": "93f29bbd-deed-4ed3-91ca-91c7262adf4e",
   "metadata": {},
   "source": [
    "## Copy DB and open"
   ]
  },
  {
   "cell_type": "code",
   "execution_count": 8,
   "id": "4a8d7c16-d907-4fd7-b3ff-14e5ebd4f447",
   "metadata": {},
   "outputs": [
    {
     "data": {
      "text/plain": [
       "PosixPath('archive/gambit-genomes-1.0b2-rev2-211116.db')"
      ]
     },
     "execution_count": 8,
     "metadata": {},
     "output_type": "execute_result"
    }
   ],
   "source": [
    "shutil.copy(infiles['db_rev1'], outfiles['db_rev2'])"
   ]
  },
  {
   "cell_type": "code",
   "execution_count": 9,
   "id": "b0c2688c-249a-44c2-91e7-55d92b888b28",
   "metadata": {},
   "outputs": [],
   "source": [
    "engine = create_engine(f\"sqlite:///{outfiles['db_rev2']}\")\n",
    "Session = sessionmaker(engine)"
   ]
  },
  {
   "cell_type": "code",
   "execution_count": 10,
   "id": "cd6598c1-baad-41f0-b321-8fc9a0a85f0b",
   "metadata": {},
   "outputs": [],
   "source": [
    "session = Session()"
   ]
  },
  {
   "cell_type": "code",
   "execution_count": 11,
   "id": "97d4e73d-469d-49c2-84a8-2306adf27b57",
   "metadata": {},
   "outputs": [],
   "source": [
    "gset = session.query(ReferenceGenomeSet).one()"
   ]
  },
  {
   "cell_type": "markdown",
   "id": "0d94e153-cfd3-496e-ac92-f7ffd97407f3",
   "metadata": {},
   "source": [
    "## Check for all mismatches"
   ]
  },
  {
   "cell_type": "code",
   "execution_count": 12,
   "id": "c67ae79e-b4c7-4fbb-a4e3-585339d2ccc6",
   "metadata": {},
   "outputs": [
    {
     "data": {
      "text/plain": [
       "Counter({(<Taxon:1893 'Escherichia coli subgroup 2'>,\n",
       "          'Escherichia coli/Shigella'): 2204,\n",
       "         (<Taxon:1894 'Escherichia coli subgroup 3'>,\n",
       "          'Escherichia coli/Shigella'): 508,\n",
       "         (<Taxon:1892 'Escherichia coli subgroup 1'>,\n",
       "          'Escherichia coli/Shigella'): 1487})"
      ]
     },
     "execution_count": 12,
     "metadata": {},
     "output_type": "execute_result"
    }
   ],
   "source": [
    "counts = Counter()\n",
    "\n",
    "for genome in session.query(AnnotatedGenome):\n",
    "    expected = reportable_taxon(genome.taxon)\n",
    "    if genome.organism != expected.name:\n",
    "        counts[(genome.taxon, genome.organism)] += 1\n",
    "\n",
    "counts"
   ]
  },
  {
   "cell_type": "markdown",
   "id": "8f11147a-1b63-41ba-a505-20747b207c7d",
   "metadata": {},
   "source": [
    "Looks like just the expected ones."
   ]
  },
  {
   "cell_type": "markdown",
   "id": "11109542-7646-4b6a-a5db-c60afb41f9f6",
   "metadata": {},
   "source": [
    "## Update"
   ]
  },
  {
   "cell_type": "markdown",
   "id": "9c094651-9d5d-4ca4-b031-fe4841bf87e0",
   "metadata": {},
   "source": [
    "### `genome.organism` column"
   ]
  },
  {
   "cell_type": "code",
   "execution_count": 13,
   "id": "d7f75a89-3026-455d-bb0a-21f612a40c97",
   "metadata": {},
   "outputs": [],
   "source": [
    "for tid in [1892, 1893, 1894]:\n",
    "    taxon = session.query(Taxon).get(tid)\n",
    "    for genome in taxon.genomes:\n",
    "        genome.organism = 'Escherichia coli'"
   ]
  },
  {
   "cell_type": "code",
   "execution_count": 14,
   "id": "31b7dc39-ed76-4f31-8f76-96e6b41ce0ed",
   "metadata": {},
   "outputs": [],
   "source": [
    "for genome in session.query(AnnotatedGenome):\n",
    "    expected = reportable_taxon(genome.taxon)\n",
    "    assert genome.organism == expected.name"
   ]
  },
  {
   "cell_type": "markdown",
   "id": "6c7e1a5e-e4e8-4b52-aa65-fb0606e1c191",
   "metadata": {},
   "source": [
    "### Update genome set"
   ]
  },
  {
   "cell_type": "code",
   "execution_count": 15,
   "id": "ab3b24ee-f0dd-4a80-b72b-cc211290b898",
   "metadata": {},
   "outputs": [
    {
     "data": {
      "text/plain": [
       "{'_sa_instance_state': <sqlalchemy.orm.state.InstanceState at 0x7f85a432bfa0>,\n",
       " 'version': '1.0b2',\n",
       " 'key': 'gambit/refseq-curated',\n",
       " 'description': 'Curated genome database derived from NCBI RefSeq. Beta version.',\n",
       " 'id': 1,\n",
       " 'name': 'GAMBIT curated RefSeq genomes version 1.0b2',\n",
       " 'extra': {'author': 'Jared Lumpe',\n",
       "  'revision': {'num': 1,\n",
       "   'date': '2021-11-11',\n",
       "   'description': 'Initial revision.'},\n",
       "  'notes': \"Changes from 1.0b1: created new E. coli taxon (id=1917), inserted in taxonomy tree between E. coli/Shigella (id=1862) and E. coli subgroup taxa (ids=1892,1893,1894). Changed rank of E. coli/Shigella from 'species' to None.\"}}"
      ]
     },
     "execution_count": 15,
     "metadata": {},
     "output_type": "execute_result"
    }
   ],
   "source": [
    "vars(gset)"
   ]
  },
  {
   "cell_type": "code",
   "execution_count": 18,
   "id": "21edf47e-6846-4ad3-a588-c2e7cd15b1f8",
   "metadata": {},
   "outputs": [],
   "source": [
    "extra = dict(gset.extra)\n",
    "\n",
    "extra['revision'] = dict(\n",
    "    num=2,\n",
    "    date=DATESTR_LONG,\n",
    "    description='Update organism column of genomes which have new E. Coli taxon (id=1917) as their reportable taxon.',\n",
    ")\n",
    "\n",
    "gset.extra = extra"
   ]
  },
  {
   "cell_type": "markdown",
   "id": "74851d93-60e5-4715-91d4-560fababc118",
   "metadata": {},
   "source": [
    "### Done"
   ]
  },
  {
   "cell_type": "code",
   "execution_count": 19,
   "id": "c7aba8e0-8728-4f29-9b1c-6c7009913e17",
   "metadata": {},
   "outputs": [],
   "source": [
    "session.commit()"
   ]
  }
 ],
 "metadata": {
  "kernelspec": {
   "display_name": "GAMBIT",
   "language": "python",
   "name": "gambit"
  },
  "language_info": {
   "codemirror_mode": {
    "name": "ipython",
    "version": 3
   },
   "file_extension": ".py",
   "mimetype": "text/x-python",
   "name": "python",
   "nbconvert_exporter": "python",
   "pygments_lexer": "ipython3",
   "version": "3.9.7"
  }
 },
 "nbformat": 4,
 "nbformat_minor": 5
}
