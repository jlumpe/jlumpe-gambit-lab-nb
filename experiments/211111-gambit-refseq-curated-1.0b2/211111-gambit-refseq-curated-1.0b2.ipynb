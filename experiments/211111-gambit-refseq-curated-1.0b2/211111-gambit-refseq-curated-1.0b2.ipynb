{
 "cells": [
  {
   "cell_type": "markdown",
   "id": "e557df4d-27e4-48cf-b688-df7d7a2d3ed3",
   "metadata": {},
   "source": [
    "# 211111 gambit-refseq-curated-1.0b2"
   ]
  },
  {
   "cell_type": "code",
   "execution_count": 1,
   "id": "fed0bd20-066e-4ce0-9985-ea7c2abc163b",
   "metadata": {},
   "outputs": [],
   "source": [
    "from pathlib import Path\n",
    "import shutil"
   ]
  },
  {
   "cell_type": "code",
   "execution_count": 2,
   "id": "afb88860-e7c5-4319-90ef-f8c28d941807",
   "metadata": {},
   "outputs": [],
   "source": [
    "from sqlalchemy import create_engine\n",
    "from sqlalchemy.orm import sessionmaker"
   ]
  },
  {
   "cell_type": "code",
   "execution_count": 3,
   "id": "98a22da8-f1e7-4df6-9a40-260d0a72f15f",
   "metadata": {},
   "outputs": [],
   "source": [
    "from gambit.db.fromfile import file_sessionmaker\n",
    "from gambit.db.models import *\n",
    "import gambit.io.json as gjson"
   ]
  },
  {
   "cell_type": "markdown",
   "id": "818cda32-c004-4ffa-a04e-f8698ded1d1b",
   "metadata": {},
   "source": [
    "## Setup"
   ]
  },
  {
   "cell_type": "code",
   "execution_count": 4,
   "id": "267f8ada-4b1d-4484-99de-9d1a456e60f2",
   "metadata": {},
   "outputs": [],
   "source": [
    "DATESTR = '211111'\n",
    "DATESTR_LONG = '2021-11-11'"
   ]
  },
  {
   "cell_type": "code",
   "execution_count": 5,
   "id": "e50d831f-ee6a-470d-bd33-03c406889390",
   "metadata": {},
   "outputs": [],
   "source": [
    "NEW_VERSION = '1.0b2'"
   ]
  },
  {
   "cell_type": "code",
   "execution_count": 6,
   "id": "7e98b5ee-4473-4e7a-b715-18beea6f4885",
   "metadata": {},
   "outputs": [],
   "source": [
    "archive_dir = Path('archive')\n",
    "archive_dir.mkdir(exist_ok=True)"
   ]
  },
  {
   "cell_type": "code",
   "execution_count": 7,
   "id": "8d698c60-c884-4619-b75a-801a1f32822f",
   "metadata": {},
   "outputs": [],
   "source": [
    "infiles = dict(\n",
    "    db_old=Path('/home/jared/s/gambit/data/databases/refseq-curated/1.0-beta1/gambit-genomes-1.0b1-210719.db'),\n",
    ")"
   ]
  },
  {
   "cell_type": "code",
   "execution_count": 8,
   "id": "f0712630-8684-4958-a5f3-4bf1ab406ae5",
   "metadata": {},
   "outputs": [],
   "source": [
    "outfiles = dict(\n",
    "    db_new=archive_dir / f'gambit-genomes-{NEW_VERSION}-{DATESTR}.db',\n",
    ")"
   ]
  },
  {
   "cell_type": "markdown",
   "id": "1b9a1294-1bb0-4c37-8971-a169ceef3cd4",
   "metadata": {},
   "source": [
    "## Code"
   ]
  },
  {
   "cell_type": "code",
   "execution_count": 9,
   "id": "371eea31-79e0-423a-ae72-99a139c72483",
   "metadata": {},
   "outputs": [],
   "source": [
    "def print_tax_tree(taxon, indent='  ', _indent=''):\n",
    "    print(_indent, taxon.id, ' ', taxon.name, sep='')\n",
    "    for child in taxon.children:\n",
    "        print_tax_tree(child, indent=indent, _indent=_indent + indent)"
   ]
  },
  {
   "cell_type": "markdown",
   "id": "93f29bbd-deed-4ed3-91ca-91c7262adf4e",
   "metadata": {},
   "source": [
    "## Copy DB and open"
   ]
  },
  {
   "cell_type": "code",
   "execution_count": 10,
   "id": "4a8d7c16-d907-4fd7-b3ff-14e5ebd4f447",
   "metadata": {},
   "outputs": [
    {
     "data": {
      "text/plain": [
       "PosixPath('archive/gambit-genomes-1.0b2-211111.db')"
      ]
     },
     "execution_count": 10,
     "metadata": {},
     "output_type": "execute_result"
    }
   ],
   "source": [
    "shutil.copy(infiles['db_old'], outfiles['db_new'])"
   ]
  },
  {
   "cell_type": "code",
   "execution_count": 11,
   "id": "b0c2688c-249a-44c2-91e7-55d92b888b28",
   "metadata": {},
   "outputs": [],
   "source": [
    "engine = create_engine(f\"sqlite:///{outfiles['db_new']}\")\n",
    "Session = sessionmaker(engine)"
   ]
  },
  {
   "cell_type": "code",
   "execution_count": 12,
   "id": "cd6598c1-baad-41f0-b321-8fc9a0a85f0b",
   "metadata": {},
   "outputs": [],
   "source": [
    "session = Session()"
   ]
  },
  {
   "cell_type": "code",
   "execution_count": 13,
   "id": "97d4e73d-469d-49c2-84a8-2306adf27b57",
   "metadata": {},
   "outputs": [],
   "source": [
    "gset = session.query(ReferenceGenomeSet).one()"
   ]
  },
  {
   "cell_type": "markdown",
   "id": "70804d34-dc23-4364-b64c-990c581ee42d",
   "metadata": {},
   "source": [
    "## Inspect"
   ]
  },
  {
   "cell_type": "code",
   "execution_count": 14,
   "id": "573f4fcc-65c4-4e97-9cd1-70bf76174209",
   "metadata": {},
   "outputs": [],
   "source": [
    "root = session.query(Taxon).filter_by(name='Escherichia coli/Shigella').one()"
   ]
  },
  {
   "cell_type": "code",
   "execution_count": 15,
   "id": "d7dc3bc5-4a1f-4dba-a288-ef942f7480b7",
   "metadata": {},
   "outputs": [
    {
     "data": {
      "text/plain": [
       "{'_sa_instance_state': <sqlalchemy.orm.state.InstanceState at 0x7f70100cc4f0>,\n",
       " 'key': 'gambit/refseq-curated/Escherichia_coli_Shigella',\n",
       " 'name': 'Escherichia coli/Shigella',\n",
       " 'description': None,\n",
       " 'report': True,\n",
       " 'parent_id': 453,\n",
       " 'id': 1862,\n",
       " 'rank': 'species',\n",
       " 'distance_threshold': 0.6825377941131592,\n",
       " 'genome_set_id': 1,\n",
       " 'ncbi_id': None}"
      ]
     },
     "execution_count": 15,
     "metadata": {},
     "output_type": "execute_result"
    }
   ],
   "source": [
    "root.__dict__"
   ]
  },
  {
   "cell_type": "code",
   "execution_count": 16,
   "id": "c4f466db-52ce-4826-86d6-361dbefcdd95",
   "metadata": {},
   "outputs": [
    {
     "name": "stdout",
     "output_type": "stream",
     "text": [
      "1862 Escherichia coli/Shigella\n",
      "  1863 Shigella\n",
      "    1909 Shigella boydii\n",
      "      1913 Shigella boydii subgroup 1\n",
      "      1914 Shigella boydii subgroup 2\n",
      "    1910 Shigella dysenteriae\n",
      "      1915 Shigella dysenteriae subgroup 1\n",
      "      1916 Shigella dysenteriae subgroup 2\n",
      "    1911 Shigella flexneri\n",
      "    1912 Shigella sonnei\n",
      "  1892 Escherichia coli subgroup 1\n",
      "  1893 Escherichia coli subgroup 2\n",
      "  1894 Escherichia coli subgroup 3\n"
     ]
    }
   ],
   "source": [
    "print_tax_tree(root)"
   ]
  },
  {
   "cell_type": "code",
   "execution_count": 17,
   "id": "a538327e-c199-4147-8278-bae954f42cde",
   "metadata": {},
   "outputs": [
    {
     "data": {
      "text/plain": [
       "[<Taxon:1892 'Escherichia coli subgroup 1'>,\n",
       " <Taxon:1893 'Escherichia coli subgroup 2'>,\n",
       " <Taxon:1894 'Escherichia coli subgroup 3'>]"
      ]
     },
     "execution_count": 17,
     "metadata": {},
     "output_type": "execute_result"
    }
   ],
   "source": [
    "ecoli_subgroups = [c for c in root.children if c.name.startswith('Escherichia coli')]\n",
    "ecoli_subgroups"
   ]
  },
  {
   "cell_type": "markdown",
   "id": "c1b19528-6547-46ac-9bac-dbb8142091d7",
   "metadata": {},
   "source": [
    "## Update database"
   ]
  },
  {
   "cell_type": "markdown",
   "id": "1f2478fe-460a-4363-9829-d3e119e074da",
   "metadata": {},
   "source": [
    "### Create E coli taxon"
   ]
  },
  {
   "cell_type": "code",
   "execution_count": 18,
   "id": "5954cdaf-434a-4d0e-9339-a61e87f3f508",
   "metadata": {},
   "outputs": [],
   "source": [
    "ecoli = Taxon(\n",
    "    genome_set=gset,\n",
    "    key='gambit/refseq-curated/Escherichia_coli',\n",
    "    name='Escherichia coli',\n",
    "    ncbi_id=562,\n",
    "    rank='species',\n",
    "    distance_threshold=0,\n",
    "    report=True,\n",
    ")"
   ]
  },
  {
   "cell_type": "code",
   "execution_count": 19,
   "id": "59a692cd-d512-4617-b986-e5dbdbc1c21b",
   "metadata": {},
   "outputs": [],
   "source": [
    "session.add(ecoli)\n",
    "session.commit()"
   ]
  },
  {
   "cell_type": "markdown",
   "id": "0df6112b-6398-4f99-a28f-babc287b16a7",
   "metadata": {},
   "source": [
    "### Insert into tree"
   ]
  },
  {
   "cell_type": "code",
   "execution_count": 20,
   "id": "11ec40da-e460-48b3-8946-970f64244a51",
   "metadata": {},
   "outputs": [],
   "source": [
    "ecoli.parent = root"
   ]
  },
  {
   "cell_type": "code",
   "execution_count": 21,
   "id": "896ea026-b700-4272-bb2f-73ecca8e9fc7",
   "metadata": {},
   "outputs": [],
   "source": [
    "for t in ecoli_subgroups:\n",
    "    t.parent = ecoli"
   ]
  },
  {
   "cell_type": "code",
   "execution_count": 22,
   "id": "17396b67-9f7d-446f-a052-f6e78a90c46b",
   "metadata": {},
   "outputs": [],
   "source": [
    "session.commit()"
   ]
  },
  {
   "cell_type": "code",
   "execution_count": 23,
   "id": "8983589a-bf42-410c-8bd8-e7a285972d2f",
   "metadata": {},
   "outputs": [
    {
     "name": "stdout",
     "output_type": "stream",
     "text": [
      "1862 Escherichia coli/Shigella\n",
      "  1863 Shigella\n",
      "    1909 Shigella boydii\n",
      "      1913 Shigella boydii subgroup 1\n",
      "      1914 Shigella boydii subgroup 2\n",
      "    1910 Shigella dysenteriae\n",
      "      1915 Shigella dysenteriae subgroup 1\n",
      "      1916 Shigella dysenteriae subgroup 2\n",
      "    1911 Shigella flexneri\n",
      "    1912 Shigella sonnei\n",
      "  1917 Escherichia coli\n",
      "    1892 Escherichia coli subgroup 1\n",
      "    1893 Escherichia coli subgroup 2\n",
      "    1894 Escherichia coli subgroup 3\n"
     ]
    }
   ],
   "source": [
    "print_tax_tree(root)"
   ]
  },
  {
   "cell_type": "markdown",
   "id": "d40162d3-9b1f-463c-a766-529f44a8196f",
   "metadata": {},
   "source": [
    "### Update E coli / Shigella taxon attributes"
   ]
  },
  {
   "cell_type": "code",
   "execution_count": 24,
   "id": "3a02a76a-8583-4df7-95c5-6a2ab1200946",
   "metadata": {},
   "outputs": [],
   "source": [
    "root.rank = None"
   ]
  },
  {
   "cell_type": "code",
   "execution_count": 25,
   "id": "29f04f6d-e9ce-4ae0-a2ce-71b1a1390632",
   "metadata": {},
   "outputs": [],
   "source": [
    "session.commit()"
   ]
  },
  {
   "cell_type": "markdown",
   "id": "6c7e1a5e-e4e8-4b52-aa65-fb0606e1c191",
   "metadata": {},
   "source": [
    "### Update genome set"
   ]
  },
  {
   "cell_type": "code",
   "execution_count": 26,
   "id": "19c3c641-f4d5-4642-aa23-bb24a6455195",
   "metadata": {},
   "outputs": [],
   "source": [
    "NOTES = f'''\n",
    "Changes from 1.0b1:\n",
    "created new E. coli taxon (id={ecoli.id}), inserted in taxonomy tree between E. coli/Shigella (id={root.id})\n",
    "and E. coli subgroup taxa (ids={\",\".join(str(t.id) for t in ecoli_subgroups)}).\n",
    "Changed rank of E. coli/Shigella from 'species' to None.\n",
    "'''\n",
    "\n",
    "NOTES = ' '.join(NOTES.split())"
   ]
  },
  {
   "cell_type": "code",
   "execution_count": 27,
   "id": "fc5ce07f-9c13-4e84-96ec-d90009b96322",
   "metadata": {},
   "outputs": [],
   "source": [
    "gset.version = NEW_VERSION\n",
    "gset.name = f'GAMBIT curated RefSeq genomes version {NEW_VERSION}'\n",
    "gset.extra = dict(\n",
    "    author='Jared Lumpe',\n",
    "    revision=dict(\n",
    "        num=1,\n",
    "        date=DATESTR_LONG,\n",
    "        description='Initial revision.',\n",
    "    ),\n",
    "    notes=NOTES,\n",
    ")"
   ]
  },
  {
   "cell_type": "code",
   "execution_count": 28,
   "id": "18bd22d2-f742-437e-bd73-97142feeb6d4",
   "metadata": {},
   "outputs": [
    {
     "data": {
      "text/plain": [
       "{'_sa_instance_state': <sqlalchemy.orm.state.InstanceState at 0x7f7010061400>,\n",
       " 'version': '1.0b2',\n",
       " 'name': 'GAMBIT curated RefSeq genomes version 1.0b2',\n",
       " 'extra': {'author': 'Jared Lumpe',\n",
       "  'revision': {'num': 1,\n",
       "   'date': '2021-11-11',\n",
       "   'description': 'Initial revision.'},\n",
       "  'notes': \"Changes from 1.0b1: created new E. coli taxon (id=1917), inserted in taxonomy tree between E. coli/Shigella (id=1862) and E. coli subgroup taxa (ids=1892,1893,1894). Changed rank of E. coli/Shigella from 'species' to None.\"}}"
      ]
     },
     "execution_count": 28,
     "metadata": {},
     "output_type": "execute_result"
    }
   ],
   "source": [
    "vars(gset)"
   ]
  },
  {
   "cell_type": "code",
   "execution_count": 29,
   "id": "08c91baa-782c-4ff4-b47e-2e1795ee6e66",
   "metadata": {},
   "outputs": [],
   "source": [
    "session.commit()"
   ]
  }
 ],
 "metadata": {
  "kernelspec": {
   "display_name": "GAMBIT",
   "language": "python",
   "name": "gambit"
  },
  "language_info": {
   "codemirror_mode": {
    "name": "ipython",
    "version": 3
   },
   "file_extension": ".py",
   "mimetype": "text/x-python",
   "name": "python",
   "nbconvert_exporter": "python",
   "pygments_lexer": "ipython3",
   "version": "3.9.7"
  }
 },
 "nbformat": 4,
 "nbformat_minor": 5
}
