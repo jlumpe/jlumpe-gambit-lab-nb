{
 "cells": [
  {
   "cell_type": "markdown",
   "id": "c5f89d48-2328-4429-ba12-49a889d91416",
   "metadata": {},
   "source": [
    "# 211003 xxx"
   ]
  },
  {
   "cell_type": "code",
   "execution_count": 1,
   "id": "5021bebc-7b87-4bcb-ae04-5cae97a54751",
   "metadata": {},
   "outputs": [],
   "source": [
    "from pathlib import Path\n",
    "import json"
   ]
  },
  {
   "cell_type": "code",
   "execution_count": 2,
   "id": "5c9525b9-e2be-41ff-99c0-dcc1563921b8",
   "metadata": {},
   "outputs": [],
   "source": [
    "import numpy as np\n",
    "import pandas as pd\n",
    "from tqdm.notebook import tqdm\n",
    "import h5py as h5"
   ]
  },
  {
   "cell_type": "code",
   "execution_count": 25,
   "id": "5aa56981-2890-4ad4-b7bc-c7c875981d97",
   "metadata": {},
   "outputs": [],
   "source": [
    "import matplotlib.pyplot as plt\n",
    "import seaborn as sns\n",
    "\n",
    "%matplotlib inline"
   ]
  },
  {
   "cell_type": "markdown",
   "id": "d878283d-6143-41a2-b43f-e5f014084490",
   "metadata": {},
   "source": [
    "## Setup"
   ]
  },
  {
   "cell_type": "raw",
   "id": "ce3fefe6-0476-425c-8154-32d1221ad0e7",
   "metadata": {},
   "source": [
    "DATESTR = '211003'\n",
    "NBNAME = DATESTR + '-find-kmers'"
   ]
  },
  {
   "cell_type": "code",
   "execution_count": 3,
   "id": "314e8081-c417-4224-8f5a-828a65656f63",
   "metadata": {},
   "outputs": [],
   "source": [
    "infiles = dict(\n",
    "    fastq_data=Path('data-intermediate/211003-find-kmers/fastq-data.h5'),\n",
    ")"
   ]
  },
  {
   "cell_type": "code",
   "execution_count": null,
   "id": "b024db5c-0af2-4d46-86b7-8c37578033da",
   "metadata": {},
   "outputs": [],
   "source": [
    "data_intermediate = Path('data-intermediate') / NBNAME\n",
    "data_intermediate.mkdir(exist_ok=True)\n",
    "\n",
    "outfiles = dict(\n",
    "    assembled_sigs=data_intermediate / 'assembled-signatures.h5',\n",
    "    fastq_data=data_intermediate / 'fastq-data.h5',\n",
    ")"
   ]
  },
  {
   "cell_type": "raw",
   "id": "da8f57a8-eb0a-4660-b524-3cf22481fb12",
   "metadata": {},
   "source": [
    "tmpdir = Path('tmp')\n",
    "tmpdir.mkdir(exist_ok=True)"
   ]
  },
  {
   "cell_type": "raw",
   "id": "40ea6e39-5499-4c29-b2ec-30ba07e337ef",
   "metadata": {},
   "source": [
    "KSPEC = KmerSpec(11, 'ATGAC')"
   ]
  },
  {
   "cell_type": "markdown",
   "id": "d7f6c551-f2bd-4cfa-8628-a5c06d88ce9f",
   "metadata": {},
   "source": [
    "## Load data"
   ]
  },
  {
   "cell_type": "code",
   "execution_count": 6,
   "id": "6393004f-9177-4890-9883-dabd6e15bcd9",
   "metadata": {},
   "outputs": [],
   "source": [
    "agg_methods = ['min', 'phredsum']"
   ]
  },
  {
   "cell_type": "code",
   "execution_count": 57,
   "id": "b8e51d00-1207-4422-a273-8d474a19ab29",
   "metadata": {},
   "outputs": [],
   "source": [
    "data = dict()\n",
    "\n",
    "with h5.File(infiles['fastq_data']) as f:\n",
    "    \n",
    "    for key, group in f.items():\n",
    "        item = data[key] = dict()\n",
    "\n",
    "        for m in agg_methods:\n",
    "            item[m] = {\n",
    "                k: group[f'{m}_{k}'][:]\n",
    "                for k in ['counts', 'in_assembly', 'indices']\n",
    "            }"
   ]
  },
  {
   "cell_type": "code",
   "execution_count": 58,
   "id": "35ab4f95-c0ed-4656-b6b6-f8a371f66d01",
   "metadata": {},
   "outputs": [],
   "source": [
    "genome_names = list(data)"
   ]
  },
  {
   "cell_type": "code",
   "execution_count": 73,
   "id": "bf7233f4-84ca-45ad-afd7-a317952f8083",
   "metadata": {},
   "outputs": [],
   "source": [
    "index = pd.MultiIndex.from_product([genome_names, agg_methods], names=['genome', 'agg'])\n",
    "index_pn = pd.MultiIndex.from_product([genome_names, agg_methods, [True, False]], names=['genome', 'agg', 'positive'])"
   ]
  },
  {
   "cell_type": "markdown",
   "id": "999e68a4-d92b-4908-a0cd-b03dbab9e4cc",
   "metadata": {},
   "source": [
    "## ?"
   ]
  },
  {
   "cell_type": "code",
   "execution_count": 72,
   "id": "0b5ebb42-ff1f-44af-afa7-499c88a783c4",
   "metadata": {},
   "outputs": [],
   "source": [
    "_rows = []\n",
    "\n",
    "for genome, agg in index:\n",
    "    d = data[genome][agg]\n",
    "    \n",
    "    ispos = d['in_assembly']\n",
    "    \n",
    "    d['npos'] = np.sum(ispos)\n",
    "    d['nneg'] = np.sum(~ispos)\n",
    "    \n",
    "    d['counts_pos'] = d['counts'][ispos, :]\n",
    "    d['counts_neg'] = d['counts'][~ispos, :]\n",
    "    \n",
    "    d['ccounts'] = np.cumsum(d['counts'][:, ::-1], axis=1)[:, ::-1]\n",
    "    d['ccounts_pos'] = d['ccounts'][ispos, :]\n",
    "    d['ccounts_neg'] = d['ccounts'][~ispos, :]"
   ]
  },
  {
   "cell_type": "code",
   "execution_count": 68,
   "id": "48592d66-f650-406e-bd0a-479d192409da",
   "metadata": {},
   "outputs": [],
   "source": [
    "_rows = []\n",
    "\n",
    "for genome, agg in index:\n",
    "    d = data[genome][agg]\n",
    "    \n",
    "    _rows.append(dict(\n",
    "        max_count=np.max(np.sum(d[''], axis=0))\n",
    "    ))\n",
    "    \n",
    "df = pd.DataFrame.from_records(_rows, index=index)"
   ]
  },
  {
   "cell_type": "code",
   "execution_count": 75,
   "id": "7d6c85f3-20cf-4f24-a045-b7e453741f19",
   "metadata": {},
   "outputs": [],
   "source": [
    "_rows = []\n",
    "\n",
    "for genome, agg in index:\n",
    "    d = data[genome][agg]\n",
    "    \n",
    "    _rows.append(dict(\n",
    "        count=d['nneg'],\n",
    "        max_kmer_ccount=np.max(np.sum(d['ccounts_neg'], axis=0))\n",
    "    ))\n",
    "    _rows.append(dict(\n",
    "        count=d['npos'],\n",
    "        max_kmer_ccount=np.max(np.sum(d['ccounts_pos'], axis=0))\n",
    "    ))\n",
    "    \n",
    "df2 = pd.DataFrame.from_records(_rows, index=index_pn)"
   ]
  },
  {
   "cell_type": "code",
   "execution_count": 76,
   "id": "2668677f-3a00-4fd5-a8ba-c0112b41aec2",
   "metadata": {},
   "outputs": [
    {
     "data": {
      "text/html": [
       "<div>\n",
       "<style scoped>\n",
       "    .dataframe tbody tr th:only-of-type {\n",
       "        vertical-align: middle;\n",
       "    }\n",
       "\n",
       "    .dataframe tbody tr th {\n",
       "        vertical-align: top;\n",
       "    }\n",
       "\n",
       "    .dataframe thead th {\n",
       "        text-align: right;\n",
       "    }\n",
       "</style>\n",
       "<table border=\"1\" class=\"dataframe\">\n",
       "  <thead>\n",
       "    <tr style=\"text-align: right;\">\n",
       "      <th></th>\n",
       "      <th></th>\n",
       "      <th></th>\n",
       "      <th>count</th>\n",
       "      <th>max_kmer_ccount</th>\n",
       "    </tr>\n",
       "    <tr>\n",
       "      <th>genome</th>\n",
       "      <th>agg</th>\n",
       "      <th>positive</th>\n",
       "      <th></th>\n",
       "      <th></th>\n",
       "    </tr>\n",
       "  </thead>\n",
       "  <tbody>\n",
       "    <tr>\n",
       "      <th rowspan=\"4\" valign=\"top\">16AC1611137-CAP_S12</th>\n",
       "      <th rowspan=\"2\" valign=\"top\">min</th>\n",
       "      <th>True</th>\n",
       "      <td>9825</td>\n",
       "      <td>13966</td>\n",
       "    </tr>\n",
       "    <tr>\n",
       "      <th>False</th>\n",
       "      <td>7341</td>\n",
       "      <td>401002</td>\n",
       "    </tr>\n",
       "    <tr>\n",
       "      <th rowspan=\"2\" valign=\"top\">phredsum</th>\n",
       "      <th>True</th>\n",
       "      <td>9825</td>\n",
       "      <td>13966</td>\n",
       "    </tr>\n",
       "    <tr>\n",
       "      <th>False</th>\n",
       "      <td>7341</td>\n",
       "      <td>401002</td>\n",
       "    </tr>\n",
       "    <tr>\n",
       "      <th>16AC1611138-CAP_S13</th>\n",
       "      <th>min</th>\n",
       "      <th>True</th>\n",
       "      <td>9001</td>\n",
       "      <td>12306</td>\n",
       "    </tr>\n",
       "    <tr>\n",
       "      <th>...</th>\n",
       "      <th>...</th>\n",
       "      <th>...</th>\n",
       "      <td>...</td>\n",
       "      <td>...</td>\n",
       "    </tr>\n",
       "    <tr>\n",
       "      <th>20AC0000922-C2ANO2_S9</th>\n",
       "      <th>phredsum</th>\n",
       "      <th>False</th>\n",
       "      <td>12276</td>\n",
       "      <td>355060</td>\n",
       "    </tr>\n",
       "    <tr>\n",
       "      <th rowspan=\"4\" valign=\"top\">20AC0000923-C_S11</th>\n",
       "      <th rowspan=\"2\" valign=\"top\">min</th>\n",
       "      <th>True</th>\n",
       "      <td>7412</td>\n",
       "      <td>30833</td>\n",
       "    </tr>\n",
       "    <tr>\n",
       "      <th>False</th>\n",
       "      <td>5787</td>\n",
       "      <td>459779</td>\n",
       "    </tr>\n",
       "    <tr>\n",
       "      <th rowspan=\"2\" valign=\"top\">phredsum</th>\n",
       "      <th>True</th>\n",
       "      <td>7412</td>\n",
       "      <td>30833</td>\n",
       "    </tr>\n",
       "    <tr>\n",
       "      <th>False</th>\n",
       "      <td>5787</td>\n",
       "      <td>459779</td>\n",
       "    </tr>\n",
       "  </tbody>\n",
       "</table>\n",
       "<p>320 rows × 2 columns</p>\n",
       "</div>"
      ],
      "text/plain": [
       "                                         count  max_kmer_ccount\n",
       "genome                agg      positive                        \n",
       "16AC1611137-CAP_S12   min      True       9825            13966\n",
       "                               False      7341           401002\n",
       "                      phredsum True       9825            13966\n",
       "                               False      7341           401002\n",
       "16AC1611138-CAP_S13   min      True       9001            12306\n",
       "...                                        ...              ...\n",
       "20AC0000922-C2ANO2_S9 phredsum False     12276           355060\n",
       "20AC0000923-C_S11     min      True       7412            30833\n",
       "                               False      5787           459779\n",
       "                      phredsum True       7412            30833\n",
       "                               False      5787           459779\n",
       "\n",
       "[320 rows x 2 columns]"
      ]
     },
     "execution_count": 76,
     "metadata": {},
     "output_type": "execute_result"
    }
   ],
   "source": [
    "df2"
   ]
  }
 ],
 "metadata": {
  "kernelspec": {
   "display_name": "GAMBIT",
   "language": "python",
   "name": "gambit"
  },
  "language_info": {
   "codemirror_mode": {
    "name": "ipython",
    "version": 3
   },
   "file_extension": ".py",
   "mimetype": "text/x-python",
   "name": "python",
   "nbconvert_exporter": "python",
   "pygments_lexer": "ipython3",
   "version": "3.9.7"
  }
 },
 "nbformat": 4,
 "nbformat_minor": 5
}
