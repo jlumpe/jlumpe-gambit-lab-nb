{
 "cells": [
  {
   "cell_type": "markdown",
   "id": "c5f89d48-2328-4429-ba12-49a889d91416",
   "metadata": {},
   "source": [
    "# 211003 Find kmers"
   ]
  },
  {
   "cell_type": "code",
   "execution_count": 1,
   "id": "5021bebc-7b87-4bcb-ae04-5cae97a54751",
   "metadata": {},
   "outputs": [],
   "source": [
    "from pathlib import Path\n",
    "import json"
   ]
  },
  {
   "cell_type": "code",
   "execution_count": 2,
   "id": "5c9525b9-e2be-41ff-99c0-dcc1563921b8",
   "metadata": {},
   "outputs": [],
   "source": [
    "import numpy as np\n",
    "import pandas as pd\n",
    "from tqdm.notebook import tqdm\n",
    "import h5py as h5"
   ]
  },
  {
   "cell_type": "code",
   "execution_count": 3,
   "id": "aee00c0b-c5ab-403f-87e4-38633489fbea",
   "metadata": {},
   "outputs": [],
   "source": [
    "from gambit.kmers import KmerSpec, find_kmers\n",
    "from gambit.io.seq import SequenceFile\n",
    "from gambit.signatures.calc import calc_file_signatures, calc_signature\n",
    "from gambit.signatures.hdf5 import HDF5Signatures"
   ]
  },
  {
   "cell_type": "markdown",
   "id": "d878283d-6143-41a2-b43f-e5f014084490",
   "metadata": {},
   "source": [
    "## Setup"
   ]
  },
  {
   "cell_type": "code",
   "execution_count": 4,
   "id": "c7bde044-3096-4723-a5a4-a54865a4865d",
   "metadata": {},
   "outputs": [],
   "source": [
    "DATESTR = '211003'\n",
    "NBNAME = DATESTR + '-find-kmers'"
   ]
  },
  {
   "cell_type": "code",
   "execution_count": 5,
   "id": "314e8081-c417-4224-8f5a-828a65656f63",
   "metadata": {},
   "outputs": [],
   "source": [
    "infiles = dict(\n",
    "    genomes=Path('/home/jared/projects/gambit/data/validation/200726-gold-standard-seqs/'),\n",
    ")"
   ]
  },
  {
   "cell_type": "code",
   "execution_count": 6,
   "id": "b024db5c-0af2-4d46-86b7-8c37578033da",
   "metadata": {},
   "outputs": [],
   "source": [
    "data_intermediate = Path('data-intermediate') / NBNAME\n",
    "data_intermediate.mkdir(exist_ok=True)\n",
    "\n",
    "outfiles = dict(\n",
    "    assembled_sigs=data_intermediate / 'assembled-signatures.h5',\n",
    "    fastq_data=data_intermediate / 'fastq-data.h5',\n",
    ")"
   ]
  },
  {
   "cell_type": "code",
   "execution_count": 7,
   "id": "5209f78a-2f1b-401b-aa4b-86716e1e20ad",
   "metadata": {},
   "outputs": [],
   "source": [
    "tmpdir = Path('tmp')\n",
    "tmpdir.mkdir(exist_ok=True)"
   ]
  },
  {
   "cell_type": "code",
   "execution_count": 8,
   "id": "15aa00c8-dc0b-411b-9ee3-67b9d71d90d7",
   "metadata": {},
   "outputs": [],
   "source": [
    "KSPEC = KmerSpec(11, 'ATGAC')"
   ]
  },
  {
   "cell_type": "markdown",
   "id": "66df08a2-073d-4eed-8137-5d1265c399f9",
   "metadata": {},
   "source": [
    "## Get genomes"
   ]
  },
  {
   "cell_type": "code",
   "execution_count": 9,
   "id": "50c0e7b0-9411-465b-bbd6-857f8a29f0e6",
   "metadata": {},
   "outputs": [],
   "source": [
    "genomes_df = pd.read_csv(infiles['genomes'] / 'files.csv')"
   ]
  },
  {
   "cell_type": "code",
   "execution_count": 10,
   "id": "14c6fffc-d1b2-4ee0-a35e-dbf071466422",
   "metadata": {},
   "outputs": [],
   "source": [
    "genomes_df = genomes_df.loc[genomes_df['set'] == 200726, ['name']]"
   ]
  },
  {
   "cell_type": "code",
   "execution_count": 11,
   "id": "9af20309-1679-4369-878b-c0c31c1cb289",
   "metadata": {},
   "outputs": [],
   "source": [
    "fasta_files = SequenceFile.from_paths([infiles['genomes'] / 'fasta' / (name + '.fasta') for name in genomes_df['name']], 'fasta')\n",
    "assert all(f.path.is_file() for f in fasta_files)\n",
    "\n",
    "fastq_files = SequenceFile.from_paths([infiles['genomes'] / 'fastq' / (name + '_L001_R1_001.fastq.gz') for name in genomes_df['name']], 'fastq', 'gzip')\n",
    "assert all(f.path.is_file() for f in fastq_files)"
   ]
  },
  {
   "cell_type": "code",
   "execution_count": 12,
   "id": "960bb848-b823-4a10-ae67-762da244382e",
   "metadata": {},
   "outputs": [],
   "source": [
    "genomes_df['fasta_file'] = [str(file.path) for file in fasta_files]\n",
    "genomes_df['fastq_file'] = [str(file.path) for file in fastq_files]\n",
    "ngenomes = genomes_df.shape[0]"
   ]
  },
  {
   "cell_type": "code",
   "execution_count": 13,
   "id": "c12a892a-45c7-4881-995c-b1b076d9c55c",
   "metadata": {},
   "outputs": [],
   "source": [
    "genomes_df.to_csv(tmpdir / 'genome_files.csv', index=False)"
   ]
  },
  {
   "cell_type": "markdown",
   "id": "0b0988b0-2f13-465d-81f3-41b41b8d94fd",
   "metadata": {},
   "source": [
    "## Assembled signatures"
   ]
  },
  {
   "cell_type": "code",
   "execution_count": 14,
   "id": "d7756faa-261e-4308-995c-4035ab2c8f7c",
   "metadata": {},
   "outputs": [
    {
     "name": "stderr",
     "output_type": "stream",
     "text": [
      "100%|██████████| 80/80 [00:01<00:00, 43.28it/s]\n"
     ]
    }
   ],
   "source": [
    "fasta_sigs = calc_file_signatures(KSPEC, fasta_files, progress=True, concurrency='processes')"
   ]
  },
  {
   "cell_type": "code",
   "execution_count": 15,
   "id": "6a041d12-efe1-4f36-8e82-a6b0532dd953",
   "metadata": {},
   "outputs": [],
   "source": [
    "with h5.File(outfiles['assembled_sigs'], 'w') as f:\n",
    "    HDF5Signatures.create(f, fasta_sigs, genomes_df['name'])"
   ]
  },
  {
   "cell_type": "markdown",
   "id": "7e843c8b-3d22-4eac-aa74-eeb0d1226eae",
   "metadata": {},
   "source": [
    "## Fastq k-mer search"
   ]
  },
  {
   "cell_type": "markdown",
   "id": "ce03bea0-3ce8-49b6-af12-2c276d747719",
   "metadata": {},
   "source": [
    "### Code"
   ]
  },
  {
   "cell_type": "code",
   "execution_count": 16,
   "id": "2f7372b5-abba-4933-b476-bdced05e6c33",
   "metadata": {},
   "outputs": [],
   "source": [
    "# Factor to convert exponent from PHRED (base 10 ** (1/10)) to natural (base e)\n",
    "PHRED_TO_NAT = -np.log(10) / 10\n",
    "\n",
    "def phredsum(q):\n",
    "    return np.logaddexp.reduce(np.asarray(q) * PHRED_TO_NAT) / PHRED_TO_NAT\n",
    "\n",
    "def get_phred(record):\n",
    "    return np.asarray(record.letter_annotations['phred_quality'])"
   ]
  },
  {
   "cell_type": "code",
   "execution_count": 17,
   "id": "d6e88716-f382-4e95-8cc6-08a472248d17",
   "metadata": {
    "tags": []
   },
   "outputs": [],
   "source": [
    "class PhredAccumulator:\n",
    "    def __init__(self, bin_edges, dtype=np.dtype('u2')):\n",
    "        self.bin_edges = np.asarray(bin_edges)\n",
    "        self.nbins = len(self.bin_edges) + 1\n",
    "        self.dtype = dtype\n",
    "        self.dict = dict()\n",
    "        \n",
    "    def get_bin(self, score):\n",
    "        return np.searchsorted(self.bin_edges, score, side='right')\n",
    "    \n",
    "    def add(self, index, score):\n",
    "        b = self.get_bin(score)\n",
    "\n",
    "        try:\n",
    "            arr = self.dict[index]\n",
    "        except KeyError:\n",
    "            arr = self.dict[index] = np.zeros(self.nbins, dtype=self.dtype)\n",
    "            \n",
    "        arr[b] += 1\n",
    "        assert arr[b] != 0  # catch overflow\n",
    "        \n",
    "    def to_arrays(self):\n",
    "        indices = np.fromiter(self.dict, dtype=int)\n",
    "        indices.sort()\n",
    "        \n",
    "        counts = np.empty((len(indices), self.nbins), dtype=self.dtype)\n",
    "        for row, index in enumerate(indices):\n",
    "            counts[row, :] = self.dict[index]\n",
    "            \n",
    "        return indices, counts"
   ]
  },
  {
   "cell_type": "code",
   "execution_count": 18,
   "id": "cb95273d-9c54-4ad5-94b8-57e32d29c958",
   "metadata": {},
   "outputs": [],
   "source": [
    "def accumulate_matches(kspec, record, accumulators):\n",
    "    phred = get_phred(record)\n",
    "    \n",
    "    for match in find_kmers(kspec, record.seq):\n",
    "        try:\n",
    "            index = match.kmer_index()\n",
    "        except ValueError:\n",
    "            continue\n",
    "            \n",
    "        p = phred[match.full_indices()]\n",
    "        \n",
    "        for agg_func, accum in accumulators:\n",
    "            accum.add(index, agg_func(p))"
   ]
  },
  {
   "cell_type": "markdown",
   "id": "49076d74-36ac-46f3-9996-babfdbfd9f74",
   "metadata": {},
   "source": [
    "### Run"
   ]
  },
  {
   "cell_type": "code",
   "execution_count": 19,
   "id": "40d9ae58-2614-48fd-b689-2c17ddafd3c1",
   "metadata": {},
   "outputs": [],
   "source": [
    "PHRED_BINS = range(1, 31)\n",
    "\n",
    "AGG_NAMES = ['phredsum', 'min']\n",
    "AGG_FUNCS = [phredsum, np.min]"
   ]
  },
  {
   "cell_type": "code",
   "execution_count": 20,
   "id": "60f8cc71-5cd9-459b-9e51-0f1e15cb4122",
   "metadata": {},
   "outputs": [],
   "source": [
    "if not outfiles['fastq_data'].is_file():\n",
    "    with h5.File(outfiles['fastq_data'], 'w') as h5file:\n",
    "        h5file.attrs['phred_bins'] = PHRED_BINS"
   ]
  },
  {
   "cell_type": "code",
   "execution_count": 21,
   "id": "8699e224-02a4-4ebb-a7ce-d526adb78566",
   "metadata": {},
   "outputs": [
    {
     "data": {
      "application/vnd.jupyter.widget-view+json": {
       "model_id": "597e60d0cdb644a695bbb202a0ec0943",
       "version_major": 2,
       "version_minor": 0
      },
      "text/plain": [
       "Files:   0%|          | 0/80 [00:00<?, ?it/s]"
      ]
     },
     "metadata": {},
     "output_type": "display_data"
    },
    {
     "data": {
      "application/vnd.jupyter.widget-view+json": {
       "model_id": "",
       "version_major": 2,
       "version_minor": 0
      },
      "text/plain": [
       "Reads: 0it [00:00, ?it/s]"
      ]
     },
     "metadata": {},
     "output_type": "display_data"
    },
    {
     "data": {
      "application/vnd.jupyter.widget-view+json": {
       "model_id": "",
       "version_major": 2,
       "version_minor": 0
      },
      "text/plain": [
       "Reads: 0it [00:00, ?it/s]"
      ]
     },
     "metadata": {},
     "output_type": "display_data"
    },
    {
     "data": {
      "application/vnd.jupyter.widget-view+json": {
       "model_id": "",
       "version_major": 2,
       "version_minor": 0
      },
      "text/plain": [
       "Reads: 0it [00:00, ?it/s]"
      ]
     },
     "metadata": {},
     "output_type": "display_data"
    },
    {
     "data": {
      "application/vnd.jupyter.widget-view+json": {
       "model_id": "",
       "version_major": 2,
       "version_minor": 0
      },
      "text/plain": [
       "Reads: 0it [00:00, ?it/s]"
      ]
     },
     "metadata": {},
     "output_type": "display_data"
    },
    {
     "data": {
      "application/vnd.jupyter.widget-view+json": {
       "model_id": "",
       "version_major": 2,
       "version_minor": 0
      },
      "text/plain": [
       "Reads: 0it [00:00, ?it/s]"
      ]
     },
     "metadata": {},
     "output_type": "display_data"
    },
    {
     "data": {
      "application/vnd.jupyter.widget-view+json": {
       "model_id": "",
       "version_major": 2,
       "version_minor": 0
      },
      "text/plain": [
       "Reads: 0it [00:00, ?it/s]"
      ]
     },
     "metadata": {},
     "output_type": "display_data"
    },
    {
     "data": {
      "application/vnd.jupyter.widget-view+json": {
       "model_id": "",
       "version_major": 2,
       "version_minor": 0
      },
      "text/plain": [
       "Reads: 0it [00:00, ?it/s]"
      ]
     },
     "metadata": {},
     "output_type": "display_data"
    },
    {
     "data": {
      "application/vnd.jupyter.widget-view+json": {
       "model_id": "",
       "version_major": 2,
       "version_minor": 0
      },
      "text/plain": [
       "Reads: 0it [00:00, ?it/s]"
      ]
     },
     "metadata": {},
     "output_type": "display_data"
    },
    {
     "data": {
      "application/vnd.jupyter.widget-view+json": {
       "model_id": "",
       "version_major": 2,
       "version_minor": 0
      },
      "text/plain": [
       "Reads: 0it [00:00, ?it/s]"
      ]
     },
     "metadata": {},
     "output_type": "display_data"
    },
    {
     "data": {
      "application/vnd.jupyter.widget-view+json": {
       "model_id": "",
       "version_major": 2,
       "version_minor": 0
      },
      "text/plain": [
       "Reads: 0it [00:00, ?it/s]"
      ]
     },
     "metadata": {},
     "output_type": "display_data"
    },
    {
     "data": {
      "application/vnd.jupyter.widget-view+json": {
       "model_id": "",
       "version_major": 2,
       "version_minor": 0
      },
      "text/plain": [
       "Reads: 0it [00:00, ?it/s]"
      ]
     },
     "metadata": {},
     "output_type": "display_data"
    },
    {
     "data": {
      "application/vnd.jupyter.widget-view+json": {
       "model_id": "",
       "version_major": 2,
       "version_minor": 0
      },
      "text/plain": [
       "Reads: 0it [00:00, ?it/s]"
      ]
     },
     "metadata": {},
     "output_type": "display_data"
    },
    {
     "data": {
      "application/vnd.jupyter.widget-view+json": {
       "model_id": "",
       "version_major": 2,
       "version_minor": 0
      },
      "text/plain": [
       "Reads: 0it [00:00, ?it/s]"
      ]
     },
     "metadata": {},
     "output_type": "display_data"
    },
    {
     "data": {
      "application/vnd.jupyter.widget-view+json": {
       "model_id": "",
       "version_major": 2,
       "version_minor": 0
      },
      "text/plain": [
       "Reads: 0it [00:00, ?it/s]"
      ]
     },
     "metadata": {},
     "output_type": "display_data"
    },
    {
     "data": {
      "application/vnd.jupyter.widget-view+json": {
       "model_id": "",
       "version_major": 2,
       "version_minor": 0
      },
      "text/plain": [
       "Reads: 0it [00:00, ?it/s]"
      ]
     },
     "metadata": {},
     "output_type": "display_data"
    },
    {
     "data": {
      "application/vnd.jupyter.widget-view+json": {
       "model_id": "",
       "version_major": 2,
       "version_minor": 0
      },
      "text/plain": [
       "Reads: 0it [00:00, ?it/s]"
      ]
     },
     "metadata": {},
     "output_type": "display_data"
    },
    {
     "data": {
      "application/vnd.jupyter.widget-view+json": {
       "model_id": "",
       "version_major": 2,
       "version_minor": 0
      },
      "text/plain": [
       "Reads: 0it [00:00, ?it/s]"
      ]
     },
     "metadata": {},
     "output_type": "display_data"
    },
    {
     "data": {
      "application/vnd.jupyter.widget-view+json": {
       "model_id": "",
       "version_major": 2,
       "version_minor": 0
      },
      "text/plain": [
       "Reads: 0it [00:00, ?it/s]"
      ]
     },
     "metadata": {},
     "output_type": "display_data"
    },
    {
     "data": {
      "application/vnd.jupyter.widget-view+json": {
       "model_id": "",
       "version_major": 2,
       "version_minor": 0
      },
      "text/plain": [
       "Reads: 0it [00:00, ?it/s]"
      ]
     },
     "metadata": {},
     "output_type": "display_data"
    },
    {
     "data": {
      "application/vnd.jupyter.widget-view+json": {
       "model_id": "",
       "version_major": 2,
       "version_minor": 0
      },
      "text/plain": [
       "Reads: 0it [00:00, ?it/s]"
      ]
     },
     "metadata": {},
     "output_type": "display_data"
    },
    {
     "data": {
      "application/vnd.jupyter.widget-view+json": {
       "model_id": "",
       "version_major": 2,
       "version_minor": 0
      },
      "text/plain": [
       "Reads: 0it [00:00, ?it/s]"
      ]
     },
     "metadata": {},
     "output_type": "display_data"
    },
    {
     "data": {
      "application/vnd.jupyter.widget-view+json": {
       "model_id": "",
       "version_major": 2,
       "version_minor": 0
      },
      "text/plain": [
       "Reads: 0it [00:00, ?it/s]"
      ]
     },
     "metadata": {},
     "output_type": "display_data"
    },
    {
     "data": {
      "application/vnd.jupyter.widget-view+json": {
       "model_id": "",
       "version_major": 2,
       "version_minor": 0
      },
      "text/plain": [
       "Reads: 0it [00:00, ?it/s]"
      ]
     },
     "metadata": {},
     "output_type": "display_data"
    },
    {
     "data": {
      "application/vnd.jupyter.widget-view+json": {
       "model_id": "",
       "version_major": 2,
       "version_minor": 0
      },
      "text/plain": [
       "Reads: 0it [00:00, ?it/s]"
      ]
     },
     "metadata": {},
     "output_type": "display_data"
    },
    {
     "data": {
      "application/vnd.jupyter.widget-view+json": {
       "model_id": "",
       "version_major": 2,
       "version_minor": 0
      },
      "text/plain": [
       "Reads: 0it [00:00, ?it/s]"
      ]
     },
     "metadata": {},
     "output_type": "display_data"
    },
    {
     "data": {
      "application/vnd.jupyter.widget-view+json": {
       "model_id": "",
       "version_major": 2,
       "version_minor": 0
      },
      "text/plain": [
       "Reads: 0it [00:00, ?it/s]"
      ]
     },
     "metadata": {},
     "output_type": "display_data"
    },
    {
     "data": {
      "application/vnd.jupyter.widget-view+json": {
       "model_id": "",
       "version_major": 2,
       "version_minor": 0
      },
      "text/plain": [
       "Reads: 0it [00:00, ?it/s]"
      ]
     },
     "metadata": {},
     "output_type": "display_data"
    },
    {
     "data": {
      "application/vnd.jupyter.widget-view+json": {
       "model_id": "",
       "version_major": 2,
       "version_minor": 0
      },
      "text/plain": [
       "Reads: 0it [00:00, ?it/s]"
      ]
     },
     "metadata": {},
     "output_type": "display_data"
    },
    {
     "data": {
      "application/vnd.jupyter.widget-view+json": {
       "model_id": "",
       "version_major": 2,
       "version_minor": 0
      },
      "text/plain": [
       "Reads: 0it [00:00, ?it/s]"
      ]
     },
     "metadata": {},
     "output_type": "display_data"
    },
    {
     "data": {
      "application/vnd.jupyter.widget-view+json": {
       "model_id": "",
       "version_major": 2,
       "version_minor": 0
      },
      "text/plain": [
       "Reads: 0it [00:00, ?it/s]"
      ]
     },
     "metadata": {},
     "output_type": "display_data"
    },
    {
     "data": {
      "application/vnd.jupyter.widget-view+json": {
       "model_id": "",
       "version_major": 2,
       "version_minor": 0
      },
      "text/plain": [
       "Reads: 0it [00:00, ?it/s]"
      ]
     },
     "metadata": {},
     "output_type": "display_data"
    },
    {
     "data": {
      "application/vnd.jupyter.widget-view+json": {
       "model_id": "",
       "version_major": 2,
       "version_minor": 0
      },
      "text/plain": [
       "Reads: 0it [00:00, ?it/s]"
      ]
     },
     "metadata": {},
     "output_type": "display_data"
    },
    {
     "data": {
      "application/vnd.jupyter.widget-view+json": {
       "model_id": "",
       "version_major": 2,
       "version_minor": 0
      },
      "text/plain": [
       "Reads: 0it [00:00, ?it/s]"
      ]
     },
     "metadata": {},
     "output_type": "display_data"
    },
    {
     "data": {
      "application/vnd.jupyter.widget-view+json": {
       "model_id": "",
       "version_major": 2,
       "version_minor": 0
      },
      "text/plain": [
       "Reads: 0it [00:00, ?it/s]"
      ]
     },
     "metadata": {},
     "output_type": "display_data"
    },
    {
     "data": {
      "application/vnd.jupyter.widget-view+json": {
       "model_id": "",
       "version_major": 2,
       "version_minor": 0
      },
      "text/plain": [
       "Reads: 0it [00:00, ?it/s]"
      ]
     },
     "metadata": {},
     "output_type": "display_data"
    },
    {
     "data": {
      "application/vnd.jupyter.widget-view+json": {
       "model_id": "",
       "version_major": 2,
       "version_minor": 0
      },
      "text/plain": [
       "Reads: 0it [00:00, ?it/s]"
      ]
     },
     "metadata": {},
     "output_type": "display_data"
    },
    {
     "data": {
      "application/vnd.jupyter.widget-view+json": {
       "model_id": "",
       "version_major": 2,
       "version_minor": 0
      },
      "text/plain": [
       "Reads: 0it [00:00, ?it/s]"
      ]
     },
     "metadata": {},
     "output_type": "display_data"
    },
    {
     "data": {
      "application/vnd.jupyter.widget-view+json": {
       "model_id": "",
       "version_major": 2,
       "version_minor": 0
      },
      "text/plain": [
       "Reads: 0it [00:00, ?it/s]"
      ]
     },
     "metadata": {},
     "output_type": "display_data"
    },
    {
     "data": {
      "application/vnd.jupyter.widget-view+json": {
       "model_id": "",
       "version_major": 2,
       "version_minor": 0
      },
      "text/plain": [
       "Reads: 0it [00:00, ?it/s]"
      ]
     },
     "metadata": {},
     "output_type": "display_data"
    },
    {
     "data": {
      "application/vnd.jupyter.widget-view+json": {
       "model_id": "",
       "version_major": 2,
       "version_minor": 0
      },
      "text/plain": [
       "Reads: 0it [00:00, ?it/s]"
      ]
     },
     "metadata": {},
     "output_type": "display_data"
    },
    {
     "data": {
      "application/vnd.jupyter.widget-view+json": {
       "model_id": "",
       "version_major": 2,
       "version_minor": 0
      },
      "text/plain": [
       "Reads: 0it [00:00, ?it/s]"
      ]
     },
     "metadata": {},
     "output_type": "display_data"
    },
    {
     "data": {
      "application/vnd.jupyter.widget-view+json": {
       "model_id": "",
       "version_major": 2,
       "version_minor": 0
      },
      "text/plain": [
       "Reads: 0it [00:00, ?it/s]"
      ]
     },
     "metadata": {},
     "output_type": "display_data"
    },
    {
     "data": {
      "application/vnd.jupyter.widget-view+json": {
       "model_id": "",
       "version_major": 2,
       "version_minor": 0
      },
      "text/plain": [
       "Reads: 0it [00:00, ?it/s]"
      ]
     },
     "metadata": {},
     "output_type": "display_data"
    },
    {
     "data": {
      "application/vnd.jupyter.widget-view+json": {
       "model_id": "",
       "version_major": 2,
       "version_minor": 0
      },
      "text/plain": [
       "Reads: 0it [00:00, ?it/s]"
      ]
     },
     "metadata": {},
     "output_type": "display_data"
    },
    {
     "data": {
      "application/vnd.jupyter.widget-view+json": {
       "model_id": "",
       "version_major": 2,
       "version_minor": 0
      },
      "text/plain": [
       "Reads: 0it [00:00, ?it/s]"
      ]
     },
     "metadata": {},
     "output_type": "display_data"
    },
    {
     "data": {
      "application/vnd.jupyter.widget-view+json": {
       "model_id": "",
       "version_major": 2,
       "version_minor": 0
      },
      "text/plain": [
       "Reads: 0it [00:00, ?it/s]"
      ]
     },
     "metadata": {},
     "output_type": "display_data"
    },
    {
     "data": {
      "application/vnd.jupyter.widget-view+json": {
       "model_id": "",
       "version_major": 2,
       "version_minor": 0
      },
      "text/plain": [
       "Reads: 0it [00:00, ?it/s]"
      ]
     },
     "metadata": {},
     "output_type": "display_data"
    },
    {
     "data": {
      "application/vnd.jupyter.widget-view+json": {
       "model_id": "",
       "version_major": 2,
       "version_minor": 0
      },
      "text/plain": [
       "Reads: 0it [00:00, ?it/s]"
      ]
     },
     "metadata": {},
     "output_type": "display_data"
    },
    {
     "data": {
      "application/vnd.jupyter.widget-view+json": {
       "model_id": "",
       "version_major": 2,
       "version_minor": 0
      },
      "text/plain": [
       "Reads: 0it [00:00, ?it/s]"
      ]
     },
     "metadata": {},
     "output_type": "display_data"
    },
    {
     "data": {
      "application/vnd.jupyter.widget-view+json": {
       "model_id": "",
       "version_major": 2,
       "version_minor": 0
      },
      "text/plain": [
       "Reads: 0it [00:00, ?it/s]"
      ]
     },
     "metadata": {},
     "output_type": "display_data"
    },
    {
     "data": {
      "application/vnd.jupyter.widget-view+json": {
       "model_id": "",
       "version_major": 2,
       "version_minor": 0
      },
      "text/plain": [
       "Reads: 0it [00:00, ?it/s]"
      ]
     },
     "metadata": {},
     "output_type": "display_data"
    },
    {
     "data": {
      "application/vnd.jupyter.widget-view+json": {
       "model_id": "",
       "version_major": 2,
       "version_minor": 0
      },
      "text/plain": [
       "Reads: 0it [00:00, ?it/s]"
      ]
     },
     "metadata": {},
     "output_type": "display_data"
    },
    {
     "data": {
      "application/vnd.jupyter.widget-view+json": {
       "model_id": "",
       "version_major": 2,
       "version_minor": 0
      },
      "text/plain": [
       "Reads: 0it [00:00, ?it/s]"
      ]
     },
     "metadata": {},
     "output_type": "display_data"
    },
    {
     "data": {
      "application/vnd.jupyter.widget-view+json": {
       "model_id": "",
       "version_major": 2,
       "version_minor": 0
      },
      "text/plain": [
       "Reads: 0it [00:00, ?it/s]"
      ]
     },
     "metadata": {},
     "output_type": "display_data"
    },
    {
     "data": {
      "application/vnd.jupyter.widget-view+json": {
       "model_id": "",
       "version_major": 2,
       "version_minor": 0
      },
      "text/plain": [
       "Reads: 0it [00:00, ?it/s]"
      ]
     },
     "metadata": {},
     "output_type": "display_data"
    },
    {
     "data": {
      "application/vnd.jupyter.widget-view+json": {
       "model_id": "",
       "version_major": 2,
       "version_minor": 0
      },
      "text/plain": [
       "Reads: 0it [00:00, ?it/s]"
      ]
     },
     "metadata": {},
     "output_type": "display_data"
    },
    {
     "data": {
      "application/vnd.jupyter.widget-view+json": {
       "model_id": "",
       "version_major": 2,
       "version_minor": 0
      },
      "text/plain": [
       "Reads: 0it [00:00, ?it/s]"
      ]
     },
     "metadata": {},
     "output_type": "display_data"
    },
    {
     "data": {
      "application/vnd.jupyter.widget-view+json": {
       "model_id": "",
       "version_major": 2,
       "version_minor": 0
      },
      "text/plain": [
       "Reads: 0it [00:00, ?it/s]"
      ]
     },
     "metadata": {},
     "output_type": "display_data"
    },
    {
     "data": {
      "application/vnd.jupyter.widget-view+json": {
       "model_id": "",
       "version_major": 2,
       "version_minor": 0
      },
      "text/plain": [
       "Reads: 0it [00:00, ?it/s]"
      ]
     },
     "metadata": {},
     "output_type": "display_data"
    },
    {
     "data": {
      "application/vnd.jupyter.widget-view+json": {
       "model_id": "",
       "version_major": 2,
       "version_minor": 0
      },
      "text/plain": [
       "Reads: 0it [00:00, ?it/s]"
      ]
     },
     "metadata": {},
     "output_type": "display_data"
    },
    {
     "data": {
      "application/vnd.jupyter.widget-view+json": {
       "model_id": "",
       "version_major": 2,
       "version_minor": 0
      },
      "text/plain": [
       "Reads: 0it [00:00, ?it/s]"
      ]
     },
     "metadata": {},
     "output_type": "display_data"
    },
    {
     "data": {
      "application/vnd.jupyter.widget-view+json": {
       "model_id": "",
       "version_major": 2,
       "version_minor": 0
      },
      "text/plain": [
       "Reads: 0it [00:00, ?it/s]"
      ]
     },
     "metadata": {},
     "output_type": "display_data"
    },
    {
     "data": {
      "application/vnd.jupyter.widget-view+json": {
       "model_id": "",
       "version_major": 2,
       "version_minor": 0
      },
      "text/plain": [
       "Reads: 0it [00:00, ?it/s]"
      ]
     },
     "metadata": {},
     "output_type": "display_data"
    },
    {
     "data": {
      "application/vnd.jupyter.widget-view+json": {
       "model_id": "",
       "version_major": 2,
       "version_minor": 0
      },
      "text/plain": [
       "Reads: 0it [00:00, ?it/s]"
      ]
     },
     "metadata": {},
     "output_type": "display_data"
    },
    {
     "data": {
      "application/vnd.jupyter.widget-view+json": {
       "model_id": "",
       "version_major": 2,
       "version_minor": 0
      },
      "text/plain": [
       "Reads: 0it [00:00, ?it/s]"
      ]
     },
     "metadata": {},
     "output_type": "display_data"
    },
    {
     "data": {
      "application/vnd.jupyter.widget-view+json": {
       "model_id": "",
       "version_major": 2,
       "version_minor": 0
      },
      "text/plain": [
       "Reads: 0it [00:00, ?it/s]"
      ]
     },
     "metadata": {},
     "output_type": "display_data"
    },
    {
     "data": {
      "application/vnd.jupyter.widget-view+json": {
       "model_id": "",
       "version_major": 2,
       "version_minor": 0
      },
      "text/plain": [
       "Reads: 0it [00:00, ?it/s]"
      ]
     },
     "metadata": {},
     "output_type": "display_data"
    },
    {
     "data": {
      "application/vnd.jupyter.widget-view+json": {
       "model_id": "",
       "version_major": 2,
       "version_minor": 0
      },
      "text/plain": [
       "Reads: 0it [00:00, ?it/s]"
      ]
     },
     "metadata": {},
     "output_type": "display_data"
    },
    {
     "data": {
      "application/vnd.jupyter.widget-view+json": {
       "model_id": "",
       "version_major": 2,
       "version_minor": 0
      },
      "text/plain": [
       "Reads: 0it [00:00, ?it/s]"
      ]
     },
     "metadata": {},
     "output_type": "display_data"
    },
    {
     "data": {
      "application/vnd.jupyter.widget-view+json": {
       "model_id": "",
       "version_major": 2,
       "version_minor": 0
      },
      "text/plain": [
       "Reads: 0it [00:00, ?it/s]"
      ]
     },
     "metadata": {},
     "output_type": "display_data"
    },
    {
     "data": {
      "application/vnd.jupyter.widget-view+json": {
       "model_id": "",
       "version_major": 2,
       "version_minor": 0
      },
      "text/plain": [
       "Reads: 0it [00:00, ?it/s]"
      ]
     },
     "metadata": {},
     "output_type": "display_data"
    },
    {
     "data": {
      "application/vnd.jupyter.widget-view+json": {
       "model_id": "",
       "version_major": 2,
       "version_minor": 0
      },
      "text/plain": [
       "Reads: 0it [00:00, ?it/s]"
      ]
     },
     "metadata": {},
     "output_type": "display_data"
    },
    {
     "data": {
      "application/vnd.jupyter.widget-view+json": {
       "model_id": "",
       "version_major": 2,
       "version_minor": 0
      },
      "text/plain": [
       "Reads: 0it [00:00, ?it/s]"
      ]
     },
     "metadata": {},
     "output_type": "display_data"
    },
    {
     "data": {
      "application/vnd.jupyter.widget-view+json": {
       "model_id": "",
       "version_major": 2,
       "version_minor": 0
      },
      "text/plain": [
       "Reads: 0it [00:00, ?it/s]"
      ]
     },
     "metadata": {},
     "output_type": "display_data"
    }
   ],
   "source": [
    "with h5.File(outfiles['fastq_data'], 'r+') as h5file:\n",
    "    for i, file in enumerate(tqdm(fastq_files, desc='Files')):\n",
    "        name = genomes_df['name'].iloc[i]\n",
    "        fasta_sig = fasta_sigs[i]\n",
    "        \n",
    "        if name in h5file:\n",
    "            continue\n",
    "        \n",
    "        accums = [PhredAccumulator(PHRED_BINS) for _ in AGG_FUNCS]\n",
    "\n",
    "        for record in tqdm(file.parse(), leave=False, desc='Reads'):\n",
    "            accumulate_matches(KSPEC, record, zip(AGG_FUNCS, accums))\n",
    "\n",
    "        group = h5file.create_group(name)\n",
    "        \n",
    "        for aname, accum in zip(AGG_NAMES, accums):\n",
    "            indices, counts = accum.to_arrays()\n",
    "            in_assembly = np.in1d(indices, fasta_sig)\n",
    "            \n",
    "            group.create_dataset(aname + '_indices', data=indices)\n",
    "            group.create_dataset(aname + '_counts', data=counts)\n",
    "            group.create_dataset(aname + '_in_assembly', data=in_assembly)"
   ]
  }
 ],
 "metadata": {
  "kernelspec": {
   "display_name": "GAMBIT",
   "language": "python",
   "name": "gambit"
  },
  "language_info": {
   "codemirror_mode": {
    "name": "ipython",
    "version": 3
   },
   "file_extension": ".py",
   "mimetype": "text/x-python",
   "name": "python",
   "nbconvert_exporter": "python",
   "pygments_lexer": "ipython3",
   "version": "3.9.7"
  }
 },
 "nbformat": 4,
 "nbformat_minor": 5
}
