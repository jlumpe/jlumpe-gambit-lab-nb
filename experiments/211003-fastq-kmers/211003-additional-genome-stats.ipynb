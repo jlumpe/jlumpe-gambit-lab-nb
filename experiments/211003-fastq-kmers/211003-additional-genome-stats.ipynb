{
 "cells": [
  {
   "cell_type": "markdown",
   "id": "c5f89d48-2328-4429-ba12-49a889d91416",
   "metadata": {},
   "source": [
    "# 211003 additional genome stats"
   ]
  },
  {
   "cell_type": "code",
   "execution_count": 1,
   "id": "5021bebc-7b87-4bcb-ae04-5cae97a54751",
   "metadata": {},
   "outputs": [],
   "source": [
    "from pathlib import Path\n",
    "import json"
   ]
  },
  {
   "cell_type": "code",
   "execution_count": 2,
   "id": "5c9525b9-e2be-41ff-99c0-dcc1563921b8",
   "metadata": {},
   "outputs": [],
   "source": [
    "import numpy as np\n",
    "import pandas as pd\n",
    "from tqdm.notebook import tqdm"
   ]
  },
  {
   "cell_type": "code",
   "execution_count": 3,
   "id": "aee00c0b-c5ab-403f-87e4-38633489fbea",
   "metadata": {},
   "outputs": [],
   "source": [
    "from gambit.kmers import KmerSpec\n",
    "from gambit.io.seq import SequenceFile"
   ]
  },
  {
   "cell_type": "markdown",
   "id": "d878283d-6143-41a2-b43f-e5f014084490",
   "metadata": {},
   "source": [
    "## Setup"
   ]
  },
  {
   "cell_type": "code",
   "execution_count": 4,
   "id": "c7bde044-3096-4723-a5a4-a54865a4865d",
   "metadata": {},
   "outputs": [],
   "source": [
    "DATESTR = '211003'\n",
    "NBNAME = DATESTR + '-additional-genome-stats'"
   ]
  },
  {
   "cell_type": "code",
   "execution_count": 5,
   "id": "3787527a-6bf1-4c32-bfc3-28aa7b41d70e",
   "metadata": {},
   "outputs": [],
   "source": [
    "tmpdir = Path('tmp')\n",
    "\n",
    "infiles = dict(\n",
    "    genomes=tmpdir / 'genome_files.csv',\n",
    ")"
   ]
  },
  {
   "cell_type": "code",
   "execution_count": 6,
   "id": "be967cba-3172-41ba-97d1-eb4bdfaf80e4",
   "metadata": {},
   "outputs": [],
   "source": [
    "nb_tmpdir = tmpdir / NBNAME\n",
    "nb_tmpdir.mkdir(exist_ok=True)\n",
    "\n",
    "tmpfiles = dict(\n",
    "    fasta_stats=nb_tmpdir / 'fasta_stats.json',\n",
    "    fastq_stats=nb_tmpdir / 'fastq-stats/',\n",
    ")"
   ]
  },
  {
   "cell_type": "code",
   "execution_count": 7,
   "id": "b3be64c2-0fae-4cdc-abae-3df8a0cfb84c",
   "metadata": {},
   "outputs": [],
   "source": [
    "data_processed = Path('data-processed') / NBNAME\n",
    "data_processed.mkdir(exist_ok=True)\n",
    "\n",
    "outfiles = dict(\n",
    "    genome_stats=data_processed / f'{DATESTR}-additional-genome-stats.csv'\n",
    ")"
   ]
  },
  {
   "cell_type": "markdown",
   "id": "66df08a2-073d-4eed-8137-5d1265c399f9",
   "metadata": {},
   "source": [
    "## Load data"
   ]
  },
  {
   "cell_type": "code",
   "execution_count": 8,
   "id": "50c0e7b0-9411-465b-bbd6-857f8a29f0e6",
   "metadata": {},
   "outputs": [],
   "source": [
    "genomes_df = pd.read_csv(infiles['genomes'])"
   ]
  },
  {
   "cell_type": "code",
   "execution_count": 9,
   "id": "cb3f7334-7afa-4aad-9b25-1f14a2b8d76f",
   "metadata": {},
   "outputs": [],
   "source": [
    "genome_names = genomes_df['name']\n",
    "fasta_files = SequenceFile.from_paths(genomes_df['fasta_file'], 'fasta')\n",
    "fastq_files = SequenceFile.from_paths(genomes_df['fastq_file'], 'fastq', compression='gzip')"
   ]
  },
  {
   "cell_type": "markdown",
   "id": "0b0988b0-2f13-465d-81f3-41b41b8d94fd",
   "metadata": {},
   "source": [
    "## FASTA"
   ]
  },
  {
   "cell_type": "code",
   "execution_count": 10,
   "id": "61578c2b-5fe3-45ef-b410-8de0082b51d7",
   "metadata": {},
   "outputs": [],
   "source": [
    "if not tmpfiles['fasta_stats'].is_file():\n",
    "    data = dict()\n",
    "\n",
    "    for name, file in tqdm(zip(genome_names, fasta_files)):\n",
    "        lens = [len(record.seq) for record in file.parse()]\n",
    "        data[name] = dict(contig_lengths=lens)\n",
    " \n",
    "    with tmpfiles['fasta_stats'].open('w') as f:\n",
    "        json.dump(data, f)"
   ]
  },
  {
   "cell_type": "markdown",
   "id": "7e843c8b-3d22-4eac-aa74-eeb0d1226eae",
   "metadata": {},
   "source": [
    "## FASTQ"
   ]
  },
  {
   "cell_type": "code",
   "execution_count": 11,
   "id": "6e7b823a-6551-46d3-b854-2c9bb52c0ee4",
   "metadata": {},
   "outputs": [],
   "source": [
    "tmpfiles['fastq_stats'].mkdir(exist_ok=True)"
   ]
  },
  {
   "cell_type": "code",
   "execution_count": 13,
   "id": "12e4ee56-e8ce-4396-a35a-7200e475899e",
   "metadata": {},
   "outputs": [
    {
     "data": {
      "application/vnd.jupyter.widget-view+json": {
       "model_id": "de75ce92b3ae49748010c4f5b2244ddc",
       "version_major": 2,
       "version_minor": 0
      },
      "text/plain": [
       "  0%|          | 0/80 [00:00<?, ?it/s]"
      ]
     },
     "metadata": {},
     "output_type": "display_data"
    }
   ],
   "source": [
    "for i, file in enumerate(tqdm(fastq_files)):\n",
    "    name = genomes_df['name'].iloc[i]\n",
    "    file = tmpfiles['fastq_stats'] / f'{name}.json'\n",
    "    if file.is_file():\n",
    "        continue\n",
    "\n",
    "    nreads = 0\n",
    "    total_len = 0\n",
    "\n",
    "    for record in file.parse():\n",
    "        nreads += 1\n",
    "        total_len += len(record.seq)\n",
    "\n",
    "    stats = dict(nreads=nreads, total_len=total_len)\n",
    "    with open(file, 'w') as f:\n",
    "        json.dump(stats, f)"
   ]
  },
  {
   "cell_type": "markdown",
   "id": "52de32b0-f3a6-49f1-852c-8e0c33bb411a",
   "metadata": {},
   "source": [
    "## Compile statistics into table"
   ]
  },
  {
   "cell_type": "code",
   "execution_count": 14,
   "id": "164e2aa9-2187-4f37-9f25-62077aed1593",
   "metadata": {},
   "outputs": [],
   "source": [
    "def calc_n50(lengths):\n",
    "    lengths = sorted(lengths)\n",
    "    mid = sum(lengths) / 2\n",
    "    total = 0\n",
    "    \n",
    "    for i, l in enumerate(lengths):\n",
    "        total += l\n",
    "        if total == mid:\n",
    "            return (l + lengths[i+1]) / 2\n",
    "        elif total > mid:\n",
    "            return l\n",
    "    \n",
    "    assert 0"
   ]
  },
  {
   "cell_type": "code",
   "execution_count": 15,
   "id": "dd7b03e4-e5c3-4f6a-b345-5534e21836df",
   "metadata": {},
   "outputs": [],
   "source": [
    "with open(tmpfiles['fasta_stats']) as f:\n",
    "    genome_stats = json.load(f)\n",
    "\n",
    "for name, stats in genome_stats.items():\n",
    "    with open(tmpfiles['fastq_stats'] / (name + '.json')) as f:\n",
    "        stats.update(json.load(f))"
   ]
  },
  {
   "cell_type": "code",
   "execution_count": 16,
   "id": "650f7c53-46cd-435d-a727-1084c5198483",
   "metadata": {},
   "outputs": [],
   "source": [
    "_rows = []\n",
    "\n",
    "for name, stats in genome_stats.items():\n",
    "    _rows.append(dict(\n",
    "        name=name,\n",
    "        assembly_size=sum(stats['contig_lengths']),\n",
    "        assembly_ncontigs=len(stats['contig_lengths']),\n",
    "        assembly_n50=calc_n50(stats['contig_lengths']),\n",
    "        fastq_nreads=stats['nreads'],\n",
    "        fastq_nnucs=stats['total_len'],\n",
    "    ))\n",
    "    \n",
    "stats_df = pd.DataFrame.from_records(_rows)"
   ]
  },
  {
   "cell_type": "code",
   "execution_count": 17,
   "id": "a144bd2d-41a9-4447-bcf2-4e0d3bf0b55e",
   "metadata": {},
   "outputs": [],
   "source": [
    "stats_df['est_coverage'] = stats_df['fastq_nnucs'] / stats_df['assembly_size']"
   ]
  },
  {
   "cell_type": "code",
   "execution_count": 18,
   "id": "eebee545-3d6c-47c9-a65a-9d8200cbc77e",
   "metadata": {},
   "outputs": [],
   "source": [
    "stats_df.to_csv(outfiles['genome_stats'], index=False)"
   ]
  }
 ],
 "metadata": {
  "kernelspec": {
   "display_name": "GAMBIT",
   "language": "python",
   "name": "gambit"
  },
  "language_info": {
   "codemirror_mode": {
    "name": "ipython",
    "version": 3
   },
   "file_extension": ".py",
   "mimetype": "text/x-python",
   "name": "python",
   "nbconvert_exporter": "python",
   "pygments_lexer": "ipython3",
   "version": "3.9.7"
  }
 },
 "nbformat": 4,
 "nbformat_minor": 5
}
