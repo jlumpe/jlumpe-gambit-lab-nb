{
 "cells": [
  {
   "cell_type": "markdown",
   "metadata": {},
   "source": [
    "# 210109 Patch 160906 installer FTP URLs"
   ]
  },
  {
   "cell_type": "code",
   "execution_count": 1,
   "metadata": {},
   "outputs": [],
   "source": [
    "from pathlib import Path\n",
    "import json\n",
    "from gzip import GzipFile\n",
    "from zipfile import ZipFile\n",
    "import random\n",
    "from ftplib import FTP"
   ]
  },
  {
   "cell_type": "code",
   "execution_count": 2,
   "metadata": {},
   "outputs": [],
   "source": [
    "from tqdm import tqdm"
   ]
  },
  {
   "cell_type": "code",
   "execution_count": 3,
   "metadata": {},
   "outputs": [],
   "source": [
    "from Bio import Entrez\n",
    "Entrez.email = 'mjlumpe@gmail.com'"
   ]
  },
  {
   "cell_type": "markdown",
   "metadata": {},
   "source": [
    "## File paths"
   ]
  },
  {
   "cell_type": "code",
   "execution_count": 4,
   "metadata": {},
   "outputs": [],
   "source": [
    "infiles = dict(\n",
    "    archive='/home/jared/projects/midas/data/v1/archives/refseq_curated_0.9_160906.midas-archive.gz',\n",
    ")"
   ]
  },
  {
   "cell_type": "code",
   "execution_count": 5,
   "metadata": {},
   "outputs": [],
   "source": [
    "outfiles = dict(\n",
    "    archive='/home/jared/projects/midas/data/v1/archives/refseq_curated_0.9_160906_patched_210109.midas-archive',\n",
    ")"
   ]
  },
  {
   "cell_type": "code",
   "execution_count": 6,
   "metadata": {},
   "outputs": [],
   "source": [
    "tmpdir = Path('tmp')\n",
    "tmpdir.mkdir(exist_ok=True)"
   ]
  },
  {
   "cell_type": "markdown",
   "metadata": {},
   "source": [
    "## Open archive file"
   ]
  },
  {
   "cell_type": "code",
   "execution_count": 7,
   "metadata": {},
   "outputs": [],
   "source": [
    "gz = GzipFile(infiles['archive'])\n",
    "archive = ZipFile(gz)"
   ]
  },
  {
   "cell_type": "code",
   "execution_count": 8,
   "metadata": {},
   "outputs": [],
   "source": [
    "genomes = dict()\n",
    "\n",
    "for name in archive.namelist():\n",
    "    if not name.startswith('genomes/'):\n",
    "        continue\n",
    "        \n",
    "    with archive.open(name) as f:\n",
    "        data = json.loads(f.read().decode())\n",
    "        \n",
    "    # Delete unneeded data\n",
    "    data['gb_summary'] = None\n",
    "    data['gb_tax_summary'] = None\n",
    "    data['meta']['gb_summary_meta'] = None\n",
    "    del data['meta']['refseq_ftp_dir_url']\n",
    "    del data['meta']['refseq_sequence_ftp_url']\n",
    "    \n",
    "    key = data['key']\n",
    "    assert key not in genomes\n",
    "    genomes[key] = data"
   ]
  },
  {
   "cell_type": "markdown",
   "metadata": {},
   "source": [
    "## Funcs"
   ]
  },
  {
   "cell_type": "code",
   "execution_count": 11,
   "metadata": {},
   "outputs": [],
   "source": [
    "def fetch_esummaries(ids):\n",
    "    idstr = ','.join(map(str, ids))\n",
    "    response = json.load(Entrez.esummary(db='assembly', id=idstr, retmode='json'))\n",
    "    return {id: response['result'][str(id)] for id in ids}"
   ]
  },
  {
   "cell_type": "code",
   "execution_count": 12,
   "metadata": {},
   "outputs": [],
   "source": [
    "def chunk(items, chunksize):\n",
    "    chunks = []\n",
    "    chunk = []\n",
    "    \n",
    "    for item in items:\n",
    "        chunk.append(item)\n",
    "        if len(chunk) >= chunksize:\n",
    "            chunks.append(chunk)\n",
    "            chunk = []\n",
    "            \n",
    "    chunks.append(chunk)\n",
    "    return chunks"
   ]
  },
  {
   "cell_type": "code",
   "execution_count": 13,
   "metadata": {},
   "outputs": [],
   "source": [
    "def get_genome_url(summary):\n",
    "    try:\n",
    "        dir_url = summary['ftppath_refseq']\n",
    "    except KeyError:\n",
    "        return None\n",
    "    \n",
    "    dir_name = dir_url.rsplit('/', 1)[1]\n",
    "    return f'{dir_url}/{dir_name}_genomic.fna.gz'"
   ]
  },
  {
   "cell_type": "markdown",
   "metadata": {},
   "source": [
    "## Get new URLs"
   ]
  },
  {
   "cell_type": "code",
   "execution_count": 14,
   "metadata": {},
   "outputs": [],
   "source": [
    "urls_file = tmpdir / 'urls.json'\n",
    "\n",
    "# Load partial results if they exist\n",
    "if urls_file.is_file():\n",
    "    with urls_file.open() as f:\n",
    "        new_urls = json.load(f)\n",
    "else:\n",
    "    new_urls = dict()"
   ]
  },
  {
   "cell_type": "code",
   "execution_count": 15,
   "metadata": {},
   "outputs": [
    {
     "name": "stderr",
     "output_type": "stream",
     "text": [
      "100%|██████████| 1/1 [00:00<00:00,  2.57it/s]\n"
     ]
    }
   ],
   "source": [
    "_to_download = set(genomes) - new_urls.keys()\n",
    "failed = dict()\n",
    "\n",
    "for keys in tqdm(chunk(_to_download, 100)):\n",
    "    id_to_key = {genomes[key]['gb_id']: key for key in keys}\n",
    "    summaries = fetch_esummaries(id_to_key)\n",
    "    \n",
    "    for id_, summary in summaries.items():\n",
    "        key = id_to_key[id_]\n",
    "        url = get_genome_url(summary)\n",
    "        \n",
    "        if url is None:\n",
    "            failed[key] = summary\n",
    "        else:\n",
    "            new_urls[key] = url"
   ]
  },
  {
   "cell_type": "code",
   "execution_count": 16,
   "metadata": {},
   "outputs": [],
   "source": [
    "# Save work\n",
    "with urls_file.open('wt') as f:\n",
    "    json.dump(new_urls, f)"
   ]
  },
  {
   "cell_type": "markdown",
   "metadata": {},
   "source": [
    "### Show results"
   ]
  },
  {
   "cell_type": "code",
   "execution_count": 17,
   "metadata": {},
   "outputs": [
    {
     "data": {
      "text/plain": [
       "{'refseq/assembly/GCF_000487935.1': {'uid': '75571',\n",
       "  'error': 'cannot get document summary'},\n",
       " 'refseq/assembly/GCF_000220025.2': {'uid': '604291',\n",
       "  'error': 'cannot get document summary'},\n",
       " 'refseq/assembly/GCF_000026325.1': {'uid': '45288',\n",
       "  'error': 'cannot get document summary'},\n",
       " 'refseq/assembly/GCF_000542635.1': {'uid': '103841',\n",
       "  'error': 'cannot get document summary'}}"
      ]
     },
     "execution_count": 17,
     "metadata": {},
     "output_type": "execute_result"
    }
   ],
   "source": [
    "failed"
   ]
  },
  {
   "cell_type": "code",
   "execution_count": 18,
   "metadata": {},
   "outputs": [],
   "source": [
    "assert set(new_urls).union(failed) == set(genomes)"
   ]
  },
  {
   "cell_type": "markdown",
   "metadata": {},
   "source": [
    "### Validity check on subset of URLs\n",
    "\n",
    "Check a random subset of the URLs are actually present on the NCBI FTP server."
   ]
  },
  {
   "cell_type": "code",
   "execution_count": 19,
   "metadata": {},
   "outputs": [
    {
     "name": "stderr",
     "output_type": "stream",
     "text": [
      "100%|██████████| 500/500 [00:58<00:00,  8.51it/s]\n"
     ]
    }
   ],
   "source": [
    "_URL_PREFIX = 'ftp://ftp.ncbi.nlm.nih.gov/'\n",
    "_test_urls = random.sample(list(new_urls.values()), 500)\n",
    "\n",
    "with FTP('ftp.ncbi.nlm.nih.gov', user='anonymous', passwd='mjlumpe@gmail.com', timeout=999) as ftp:\n",
    "    for url in tqdm(_test_urls):\n",
    "        assert url.startswith(_URL_PREFIX)\n",
    "        path = url[len(_URL_PREFIX):]\n",
    "        \n",
    "        size = ftp.size(path)\n",
    "        assert size is not None\n",
    "        assert size > 10000"
   ]
  },
  {
   "cell_type": "markdown",
   "metadata": {},
   "source": [
    "## Create new archive file"
   ]
  },
  {
   "cell_type": "markdown",
   "metadata": {},
   "source": [
    "### Update genome data with new URLS"
   ]
  },
  {
   "cell_type": "code",
   "execution_count": 20,
   "metadata": {},
   "outputs": [],
   "source": [
    "for key, data in genomes.items():\n",
    "    new_url = new_urls.get(key)\n",
    "    \n",
    "    if new_url is not None:\n",
    "        data['meta']['sequence_source']['url'] = new_url\n",
    "    else:\n",
    "        data['meta']['sequence_source'] = None\n",
    "        \n",
    "    data['key_version'] = '1.0.1'"
   ]
  },
  {
   "cell_type": "markdown",
   "metadata": {},
   "source": [
    "### Write archive"
   ]
  },
  {
   "cell_type": "code",
   "execution_count": 21,
   "metadata": {},
   "outputs": [],
   "source": [
    "with ZipFile(outfiles['archive'], 'w') as out_archive:\n",
    "    # Copy non-genome files\n",
    "    for path in ['info', 'genome_sets/midas/assembly/curated']:\n",
    "        with out_archive.open(path, 'w') as f:\n",
    "            f.write(archive.open(path).read())\n",
    "            \n",
    "    # Write genomes\n",
    "    for key, data in genomes.items():\n",
    "        with out_archive.open('genomes/' + key, 'w') as f:\n",
    "            f.write(json.dumps(data).encode('utf8'))"
   ]
  },
  {
   "cell_type": "code",
   "execution_count": 22,
   "metadata": {},
   "outputs": [],
   "source": [
    "assert out_archive.namelist() == archive.namelist()"
   ]
  }
 ],
 "metadata": {
  "kernelspec": {
   "display_name": "Python 3",
   "language": "python",
   "name": "python3"
  },
  "language_info": {
   "codemirror_mode": {
    "name": "ipython",
    "version": 3
   },
   "file_extension": ".py",
   "mimetype": "text/x-python",
   "name": "python",
   "nbconvert_exporter": "python",
   "pygments_lexer": "ipython3",
   "version": "3.8.5"
  }
 },
 "nbformat": 4,
 "nbformat_minor": 4
}
