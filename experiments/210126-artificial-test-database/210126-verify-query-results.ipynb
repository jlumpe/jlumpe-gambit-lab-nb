{
 "cells": [
  {
   "cell_type": "markdown",
   "metadata": {},
   "source": [
    "# 210125 Verify query results"
   ]
  },
  {
   "cell_type": "code",
   "execution_count": 1,
   "metadata": {},
   "outputs": [],
   "source": [
    "from pathlib import Path\n",
    "import logging"
   ]
  },
  {
   "cell_type": "code",
   "execution_count": 2,
   "metadata": {},
   "outputs": [],
   "source": [
    "import pandas as pd"
   ]
  },
  {
   "cell_type": "code",
   "execution_count": 3,
   "metadata": {},
   "outputs": [],
   "source": [
    "from midas.app.app import MidasAppDir, MidasApp\n",
    "from midas.app.data import ReferenceDatabase\n",
    "from midas.app.query import QueryRunner, QueryParams\n",
    "from midas.app.util import TqdmProgressMonitor\n",
    "from midas.io.seq import SeqFileInfo"
   ]
  },
  {
   "cell_type": "code",
   "execution_count": 4,
   "metadata": {},
   "outputs": [],
   "source": [
    "DATESTR = '210126'\n",
    "DBNAME = 'testdb_' + DATESTR"
   ]
  },
  {
   "cell_type": "markdown",
   "metadata": {},
   "source": [
    "## Files"
   ]
  },
  {
   "cell_type": "code",
   "execution_count": 5,
   "metadata": {},
   "outputs": [],
   "source": [
    "appdir_path = Path('tmp/appdir')\n",
    "sigfile = '%s.midas-signatures.gz' % DBNAME\n",
    "dbfile = '%s.db' % DBNAME"
   ]
  },
  {
   "cell_type": "code",
   "execution_count": 6,
   "metadata": {},
   "outputs": [],
   "source": [
    "queries_df = pd.read_csv('tmp/queries.csv')"
   ]
  },
  {
   "cell_type": "markdown",
   "metadata": {},
   "source": [
    "## Setup app dir"
   ]
  },
  {
   "cell_type": "code",
   "execution_count": 7,
   "metadata": {},
   "outputs": [],
   "source": [
    "logging.basicConfig()\n",
    "logging.getLogger('midas').setLevel(logging.INFO)"
   ]
  },
  {
   "cell_type": "code",
   "execution_count": 8,
   "metadata": {},
   "outputs": [],
   "source": [
    "if appdir_path.is_dir():\n",
    "    !rm -r {appdir_path}"
   ]
  },
  {
   "cell_type": "code",
   "execution_count": 9,
   "metadata": {},
   "outputs": [
    {
     "name": "stderr",
     "output_type": "stream",
     "text": [
      "INFO:midas.app.app:Creating new application directory at /home/jared/git/midas/jlumpe-midas-lab-nb/experiments/210126-artificial-test-database/tmp/appdir\n",
      "INFO:midas.app.app:Initializing application database\n",
      "INFO  [alembic.runtime.migration] Context impl SQLiteImpl.\n",
      "INFO  [alembic.runtime.migration] Will assume non-transactional DDL.\n",
      "INFO  [alembic.runtime.migration] Running upgrade  -> 955d795123c3, v2.0.0\n",
      "INFO  [alembic.runtime.migration] Running upgrade 955d795123c3 -> 68acf3fff58d, v2.0.1\n",
      "INFO  [alembic.runtime.migration] Running upgrade 68acf3fff58d -> 8e4286c25e33, Remove tables for Signature and SignatureSet models\n",
      "INFO  [alembic.runtime.migration] Running upgrade 8e4286c25e33 -> 4815cccfb01b, Add signature set columns to ReferenceGenomeSet table\n",
      "INFO  [alembic.runtime.migration] Running upgrade 4815cccfb01b -> d961d0698083, Remove unneeded columns\n"
     ]
    }
   ],
   "source": [
    "appdir = MidasAppDir.create(appdir_path)\n",
    "\n",
    "appdir.db_file.unlink()\n",
    "appdir.db_file.symlink_to('../../../output/%s' % dbfile)\n",
    "(appdir.signatures_dir / sigfile).symlink_to('../../../../output/%s' % sigfile)"
   ]
  },
  {
   "cell_type": "code",
   "execution_count": 10,
   "metadata": {},
   "outputs": [
    {
     "name": "stderr",
     "output_type": "stream",
     "text": [
      "INFO  [midas.app.data] Refreshing signature sets...\n",
      "INFO  [midas.app.data] 1 signature sets found\n",
      "INFO  [midas.app.data] Refreshing classifiers...\n",
      "INFO  [midas.app.data] No classifiers found\n",
      "INFO  [midas.app.data] Refreshing reference databases...\n",
      "INFO  [midas.app.data] No databases found\n"
     ]
    }
   ],
   "source": [
    "app = MidasApp(appdir)"
   ]
  },
  {
   "cell_type": "markdown",
   "metadata": {},
   "source": [
    "## Run query"
   ]
  },
  {
   "cell_type": "code",
   "execution_count": 11,
   "metadata": {},
   "outputs": [],
   "source": [
    "params = QueryParams(\n",
    "    signatures_ref='midas/test/%s' % DBNAME,\n",
    "    refset_ref='midas/test/%s' % DBNAME,\n",
    ")"
   ]
  },
  {
   "cell_type": "code",
   "execution_count": 12,
   "metadata": {},
   "outputs": [],
   "source": [
    "files = SeqFileInfo.from_paths(['tmp/query_sequences/%s.fa' % name for name in queries_df['name']], 'fasta')"
   ]
  },
  {
   "cell_type": "code",
   "execution_count": 13,
   "metadata": {},
   "outputs": [],
   "source": [
    "runner = QueryRunner(app, TqdmProgressMonitor())"
   ]
  },
  {
   "cell_type": "code",
   "execution_count": 14,
   "metadata": {},
   "outputs": [
    {
     "name": "stderr",
     "output_type": "stream",
     "text": [
      "INFO  [midas.app.query] Beginning query on 120 files\n",
      "INFO  [midas.app.query] Creating query context...\n",
      "INFO  [midas.app.query] Loading signature set IDs...\n",
      "INFO  [midas.app.query] Loading signature set (878 signatures)...\n",
      "Loading reference signatures: 100%|██████████| 878/878 [00:00<00:00, 51037.34it/s]\n",
      "INFO  [midas.app.query] Finished loading signature sets\n",
      "INFO  [midas.app.query] Running queries...\n",
      "Running query: 100%|██████████| 120/120 [00:02<00:00, 58.57it/s] \n",
      "INFO  [midas.app.query] Queries complete!\n"
     ]
    }
   ],
   "source": [
    "results = runner.run_query(params, files)"
   ]
  },
  {
   "cell_type": "markdown",
   "metadata": {},
   "source": [
    "## Check results"
   ]
  },
  {
   "cell_type": "code",
   "execution_count": 15,
   "metadata": {},
   "outputs": [],
   "source": [
    "items_by_name = {item.input.name.split('.')[0]: item for item in results.items}"
   ]
  },
  {
   "cell_type": "code",
   "execution_count": 16,
   "metadata": {},
   "outputs": [],
   "source": [
    "for _i, row in queries_df.iterrows():\n",
    "    item = items_by_name[row['name']]\n",
    "    expected = row['expected_taxon']\n",
    "    \n",
    "    if pd.isnull(expected):\n",
    "        assert item.call_taxon is None\n",
    "    else:\n",
    "        assert item.call_name == expected"
   ]
  }
 ],
 "metadata": {
  "kernelspec": {
   "display_name": "midas-app",
   "language": "python",
   "name": "midas-app"
  },
  "language_info": {
   "codemirror_mode": {
    "name": "ipython",
    "version": 3
   },
   "file_extension": ".py",
   "mimetype": "text/x-python",
   "name": "python",
   "nbconvert_exporter": "python",
   "pygments_lexer": "ipython3",
   "version": "3.6.12"
  }
 },
 "nbformat": 4,
 "nbformat_minor": 4
}
