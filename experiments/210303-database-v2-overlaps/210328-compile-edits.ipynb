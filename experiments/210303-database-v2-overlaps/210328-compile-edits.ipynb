{
 "cells": [
  {
   "cell_type": "markdown",
   "metadata": {},
   "source": [
    "# 210328 Compile edits"
   ]
  },
  {
   "cell_type": "code",
   "execution_count": 1,
   "metadata": {},
   "outputs": [],
   "source": [
    "using JSON\n",
    "using CSV"
   ]
  },
  {
   "cell_type": "code",
   "execution_count": 2,
   "metadata": {},
   "outputs": [],
   "source": [
    "using DataFrames\n",
    "using FilePathsBase\n",
    "using FilePathsBase: /\n",
    "using DataStructures"
   ]
  },
  {
   "cell_type": "markdown",
   "metadata": {},
   "source": [
    "## Setup"
   ]
  },
  {
   "cell_type": "code",
   "execution_count": 3,
   "metadata": {},
   "outputs": [
    {
     "data": {
      "text/plain": [
       "400"
      ]
     },
     "execution_count": 3,
     "metadata": {},
     "output_type": "execute_result"
    }
   ],
   "source": [
    "ENV[\"COLUMNS\"] = 400"
   ]
  },
  {
   "cell_type": "code",
   "execution_count": 4,
   "metadata": {},
   "outputs": [
    {
     "data": {
      "text/plain": [
       "\"210328-compile-edits\""
      ]
     },
     "execution_count": 4,
     "metadata": {},
     "output_type": "execute_result"
    }
   ],
   "source": [
    "DATESTR = \"210328\"\n",
    "NBNAME = \"$DATESTR-compile-edits\""
   ]
  },
  {
   "cell_type": "code",
   "execution_count": 5,
   "metadata": {},
   "outputs": [],
   "source": [
    "infiles = Dict(\n",
    "    :distances => p\"../../data/intermediate/200727-find-overlaps/genome-pw-distances.raw-float32\",\n",
    "    :formatted => p\"data-intermediate/210303-format-data/\",\n",
    "    :species_overlaps => p\"data-intermediate/210323-find-species-overlaps/\",\n",
    "    :problem_species => p\"data-intermediate/210327-fix-problem-species/\",\n",
    "    :identical_genomes => p\"data-intermediate/210317-find-identical-genomes/\",\n",
    ");"
   ]
  },
  {
   "cell_type": "code",
   "execution_count": 6,
   "metadata": {},
   "outputs": [
    {
     "data": {
      "text/plain": [
       "true"
      ]
     },
     "execution_count": 6,
     "metadata": {},
     "output_type": "execute_result"
    }
   ],
   "source": [
    "intermediate_out = p\"data-intermediate\" / NBNAME\n",
    "isdir(intermediate_out) || mkdir(intermediate_out)"
   ]
  },
  {
   "cell_type": "markdown",
   "metadata": {},
   "source": [
    "## Load data"
   ]
  },
  {
   "cell_type": "markdown",
   "metadata": {},
   "source": [
    "### Database"
   ]
  },
  {
   "cell_type": "code",
   "execution_count": 7,
   "metadata": {},
   "outputs": [
    {
     "data": {
      "text/plain": [
       "50752"
      ]
     },
     "execution_count": 7,
     "metadata": {},
     "output_type": "execute_result"
    }
   ],
   "source": [
    "genomes_df = hcat(\n",
    "    DataFrame(CSV.File(infiles[:formatted] / \"genomes-v1.1.csv\")),\n",
    "    DataFrame(CSV.File(infiles[:species_overlaps] / \"genomes-addendum.csv\")),\n",
    ")\n",
    "insertcols!(genomes_df, 1, :index => axes(genomes_df, 1))\n",
    "\n",
    "ngenomes = nrow(genomes_df)"
   ]
  },
  {
   "cell_type": "code",
   "execution_count": 8,
   "metadata": {},
   "outputs": [
    {
     "data": {
      "text/plain": [
       "1438"
      ]
     },
     "execution_count": 8,
     "metadata": {},
     "output_type": "execute_result"
    }
   ],
   "source": [
    "species_df = hcat(\n",
    "    DataFrame(CSV.File(infiles[:formatted] / \"species-v1.2.csv\")),\n",
    "    DataFrame(CSV.File(infiles[:species_overlaps] / \"species-addendum.csv\")),\n",
    ")\n",
    "insertcols!(species_df, 1, :index => axes(species_df, 1))\n",
    "\n",
    "nspecies = nrow(species_df)"
   ]
  },
  {
   "cell_type": "code",
   "execution_count": 9,
   "metadata": {},
   "outputs": [
    {
     "data": {
      "text/plain": [
       "462"
      ]
     },
     "execution_count": 9,
     "metadata": {},
     "output_type": "execute_result"
    }
   ],
   "source": [
    "genera_df = DataFrame(CSV.File(infiles[:formatted] / \"genera-v1.2.csv\"))\n",
    "\n",
    "ngenera = nrow(genera_df)"
   ]
  },
  {
   "cell_type": "code",
   "execution_count": 10,
   "metadata": {},
   "outputs": [],
   "source": [
    "gidxs_by_species = [Int[] for i in 1:nspecies]\n",
    "\n",
    "for (i, si) in enumerate(genomes_df[!, :species_v12_idx1])\n",
    "    si == 0 || push!(gidxs_by_species[si], i)\n",
    "end"
   ]
  },
  {
   "cell_type": "markdown",
   "metadata": {},
   "source": [
    "### Identical genome groups"
   ]
  },
  {
   "cell_type": "code",
   "execution_count": 11,
   "metadata": {},
   "outputs": [],
   "source": [
    "identical_genome_groups = open(JSON.parse, infiles[:identical_genomes] / \"identical-genome-groups.json\");"
   ]
  },
  {
   "cell_type": "markdown",
   "metadata": {},
   "source": [
    "### Problem species fixes"
   ]
  },
  {
   "cell_type": "code",
   "execution_count": 12,
   "metadata": {},
   "outputs": [],
   "source": [
    "problem_genome_fixes = open(JSON.parse, infiles[:problem_species] / \"fixes.json\");"
   ]
  },
  {
   "cell_type": "markdown",
   "metadata": {},
   "source": [
    "## Build master taxon table\n",
    "\n",
    "Table containing all current taxa from v1.2 DB"
   ]
  },
  {
   "cell_type": "code",
   "execution_count": 13,
   "metadata": {},
   "outputs": [
    {
     "data": {
      "text/plain": [
       "\"1900×9 DataFrame\""
      ]
     },
     "execution_count": 13,
     "metadata": {},
     "output_type": "execute_result"
    }
   ],
   "source": [
    "taxa_df = let\n",
    "    df = genera_df[:, [:db_id, :ncbi_id, :name]]\n",
    "    rename!(df, :db_id => :id)\n",
    "    df[:, :rank] .= \"genus\"\n",
    "    allowmissing!(df, [:ncbi_id, :rank])\n",
    "    \n",
    "    df[:, :parent_id] = Vector{Union{Int, Missing}}(undef, nrow(df))\n",
    "    df[:, :parent_id] .= missing\n",
    "    \n",
    "    let\n",
    "        df2 = species_df[:, [:db_id, :taxid, :name, :genus_id]]\n",
    "        rename!(df2, :db_id => :id, :taxid => :ncbi_id, :genus_id => :parent_id)\n",
    "        df2[:, :rank] .= \"species\"\n",
    "        append!(df, df2)\n",
    "    end\n",
    "    \n",
    "    \n",
    "    df[:, :in_v12] .= true\n",
    "    df[:, :manual_threshold] .= NaN\n",
    "    df[:, :report] .= true\n",
    "    df[:, :is_leaf] = df[:, :rank] .== \"species\"\n",
    "    \n",
    "    df\n",
    "end\n",
    "\n",
    "summary(taxa_df)"
   ]
  },
  {
   "cell_type": "code",
   "execution_count": 14,
   "metadata": {},
   "outputs": [
    {
     "data": {
      "text/plain": [
       "taxon_idx (generic function with 1 method)"
      ]
     },
     "execution_count": 14,
     "metadata": {},
     "output_type": "execute_result"
    }
   ],
   "source": [
    "taxon_idx(id::Int) = findfirst(==(id), taxa_df[!, :id])"
   ]
  },
  {
   "cell_type": "code",
   "execution_count": 15,
   "metadata": {},
   "outputs": [],
   "source": [
    "genome_assignments = [\n",
    "    i > 0 ? species_df[i, :db_id] : 0\n",
    "    for i in genomes_df[!, :species_v12_idx1]\n",
    "];"
   ]
  },
  {
   "cell_type": "markdown",
   "metadata": {},
   "source": [
    "## Apply edits"
   ]
  },
  {
   "cell_type": "markdown",
   "metadata": {},
   "source": [
    "### Identical genome groups"
   ]
  },
  {
   "cell_type": "code",
   "execution_count": 16,
   "metadata": {},
   "outputs": [],
   "source": [
    "for group in identical_genome_groups\n",
    "    sid = only(unique(genome_assignments[gi] for gi in group[\"genome_indices\"]))\n",
    "    genome_assignments[group[\"genome_indices\"]] .= 0\n",
    "    genome_assignments[group[\"exemplar\"]] = sid\n",
    "end"
   ]
  },
  {
   "cell_type": "markdown",
   "metadata": {},
   "source": [
    "### Problem species fixes"
   ]
  },
  {
   "cell_type": "markdown",
   "metadata": {},
   "source": [
    "#### Deleted genomes"
   ]
  },
  {
   "cell_type": "code",
   "execution_count": 17,
   "metadata": {},
   "outputs": [],
   "source": [
    "genome_assignments[problem_genome_fixes[\"deleted_genomes\"]] .= 0;"
   ]
  },
  {
   "cell_type": "markdown",
   "metadata": {},
   "source": [
    "#### Threshold assignments"
   ]
  },
  {
   "cell_type": "code",
   "execution_count": 18,
   "metadata": {},
   "outputs": [],
   "source": [
    "for item in problem_genome_fixes[\"threshold_assignments\"]\n",
    "    sid = species_df[item[\"species_index\"], :db_id]\n",
    "    taxa_df[taxon_idx(sid), :manual_threshold] = item[\"threshold\"]\n",
    "end"
   ]
  },
  {
   "cell_type": "markdown",
   "metadata": {},
   "source": [
    "#### Split species into subgroups"
   ]
  },
  {
   "cell_type": "code",
   "execution_count": 19,
   "metadata": {},
   "outputs": [
    {
     "name": "stdout",
     "output_type": "stream",
     "text": [
      "sid = 803\n",
      "sid = 929\n",
      "sid = 899\n"
     ]
    }
   ],
   "source": [
    "for item in problem_genome_fixes[\"species_splits\"]\n",
    "    sid = species_df[item[\"species_index\"], :db_id]\n",
    "    @show sid\n",
    "    \n",
    "    # Modifications to parent species taxon\n",
    "    parent_row = taxa_df[taxon_idx(sid), :]\n",
    "    parent_row[:manual_threshold] = 0.\n",
    "    parent_row[:is_leaf] = false\n",
    "    \n",
    "    # Unassign all genomes from species\n",
    "#     genome_assignments[gidxs] .= 0\n",
    "    \n",
    "    next_id = maximum(taxa_df[!, :id]) + 1\n",
    "    \n",
    "    for (i, gidxs) in enumerate(item[\"subgroup_genomes\"])\n",
    "        # Create child taxon\n",
    "        push!(taxa_df, (\n",
    "            id=next_id,\n",
    "            ncbi_id=missing,\n",
    "            name=string(parent_row[:name], \" subgroup \", i),\n",
    "            rank=missing,\n",
    "            parent_id=sid,\n",
    "            in_v12=false,\n",
    "            manual_threshold=NaN,\n",
    "            report=false,\n",
    "            is_leaf=true,\n",
    "        ))\n",
    "        \n",
    "        # Assign genomes\n",
    "        for gi in gidxs\n",
    "            # May have been deleted in previous steps\n",
    "            genome_assignments[gi] == 0 && continue\n",
    "            @assert genome_assignments[gi] == sid \"$(genome_assignments[gi]) != $sid\"\n",
    "            genome_assignments[gi] = next_id\n",
    "        end\n",
    "        \n",
    "        next_id += 1\n",
    "    end\n",
    "    \n",
    "    # Check no genomes still assigned to parent\n",
    "    # (Those not assigned to a subgroup should have been in list of deleted genomes)\n",
    "    @assert sid ∉ genome_assignments\n",
    "end"
   ]
  },
  {
   "cell_type": "markdown",
   "metadata": {},
   "source": [
    "### Remove taxa with <2 genomes remaining"
   ]
  },
  {
   "cell_type": "code",
   "execution_count": 20,
   "metadata": {},
   "outputs": [],
   "source": [
    "deleted_taxa = Int[]\n",
    "\n",
    "for (sid, cnt) in counter(genome_assignments)\n",
    "    sid == 0 && continue\n",
    "    if cnt <= 1\n",
    "        push!(deleted_taxa, sid)\n",
    "        delete!(taxa_df, taxon_idx(sid))\n",
    "        genome_assignments[genome_assignments .== sid] .= 0\n",
    "    end\n",
    "end"
   ]
  },
  {
   "cell_type": "code",
   "execution_count": 21,
   "metadata": {},
   "outputs": [
    {
     "data": {
      "text/html": [
       "<table class=\"data-frame\"><thead><tr><th></th><th>index</th><th>db_id</th><th>taxid</th><th>name</th><th>genus_id</th><th>ngenomes</th><th>migration_src_idxs1</th><th>migration_single_src</th><th>migration_identical</th><th>migration_1to1</th><th>diameter</th><th>outgoing_overlaps</th><th>incoming_overlaps</th></tr><tr><th></th><th>Int64</th><th>Int64</th><th>Int64</th><th>String</th><th>Int64</th><th>Int64</th><th>String</th><th>Bool</th><th>Bool</th><th>Bool</th><th>Float64</th><th>Int64</th><th>Int64</th></tr></thead><tbody><p>22 rows × 13 columns</p><tr><th>1</th><td>8</td><td>1451</td><td>53427</td><td>Gordonia hirsuta</td><td>2</td><td>2</td><td>540</td><td>1</td><td>1</td><td>1</td><td>0.0</td><td>0</td><td>1</td></tr><tr><th>2</th><td>1151</td><td>1475</td><td>78259</td><td>Scardovia inopinata</td><td>378</td><td>2</td><td>1155</td><td>1</td><td>1</td><td>1</td><td>0.0</td><td>0</td><td>2</td></tr><tr><th>3</th><td>313</td><td>1211</td><td>1034943</td><td>Legionella massiliensis</td><td>111</td><td>2</td><td>722</td><td>1</td><td>1</td><td>1</td><td>0.0</td><td>0</td><td>1</td></tr><tr><th>4</th><td>400</td><td>1655</td><td>308892</td><td>Mesobacillus boroniphilus</td><td>141</td><td>2</td><td>126</td><td>1</td><td>1</td><td>1</td><td>0.0</td><td>0</td><td>1</td></tr><tr><th>5</th><td>410</td><td>1580</td><td>127891</td><td>Alkalihalobacillus wakoensis</td><td>144</td><td>2</td><td>159</td><td>1</td><td>1</td><td>1</td><td>0.0</td><td>0</td><td>1</td></tr><tr><th>6</th><td>1021</td><td>882</td><td>1356</td><td>Enterococcus sulfureus</td><td>341</td><td>2</td><td>475</td><td>1</td><td>1</td><td>1</td><td>0.0</td><td>0</td><td>1</td></tr><tr><th>7</th><td>1029</td><td>1670</td><td>71451</td><td>Enterococcus malodoratus</td><td>341</td><td>2</td><td>468</td><td>1</td><td>1</td><td>1</td><td>0.0</td><td>0</td><td>1</td></tr><tr><th>8</th><td>407</td><td>909</td><td>1411</td><td>Alkalihalobacillus akibai</td><td>144</td><td>2</td><td>119</td><td>1</td><td>1</td><td>1</td><td>0.0</td><td>0</td><td>2</td></tr><tr><th>9</th><td>720</td><td>747</td><td>940</td><td>Hydrogenobacter thermophilus</td><td>238</td><td>2</td><td>573</td><td>1</td><td>1</td><td>1</td><td>0.0</td><td>0</td><td>1</td></tr><tr><th>10</th><td>211</td><td>547</td><td>33056</td><td>Candidatus Kinetoplastibacterium crithidii</td><td>62</td><td>2</td><td>585</td><td>1</td><td>1</td><td>1</td><td>0.0</td><td>0</td><td>1</td></tr><tr><th>11</th><td>164</td><td>1243</td><td>1608628</td><td>Candidatus Filomicrobium marinum</td><td>56</td><td>2</td><td>498</td><td>1</td><td>1</td><td>1</td><td>0.0</td><td>0</td><td>1</td></tr><tr><th>12</th><td>287</td><td>1468</td><td>135577</td><td>Idiomarina loihiensis</td><td>98</td><td>2</td><td>576</td><td>1</td><td>1</td><td>1</td><td>0.0</td><td>0</td><td>1</td></tr><tr><th>13</th><td>566</td><td>1568</td><td>29546</td><td>Lawsonia intracellularis</td><td>195</td><td>2</td><td>713</td><td>1</td><td>1</td><td>1</td><td>0.0</td><td>0</td><td>2</td></tr><tr><th>14</th><td>376</td><td>894</td><td>1383</td><td>Lancefieldella rimae</td><td>127</td><td>2</td><td>110</td><td>1</td><td>1</td><td>1</td><td>0.0</td><td>0</td><td>1</td></tr><tr><th>15</th><td>409</td><td>1578</td><td>127886</td><td>Alkalihalobacillus hemicellulosilyticus</td><td>144</td><td>2</td><td>138</td><td>1</td><td>1</td><td>1</td><td>0.0</td><td>0</td><td>1</td></tr><tr><th>16</th><td>607</td><td>1249</td><td>35794</td><td>Rickettsia slovaca</td><td>202</td><td>2</td><td>1121</td><td>1</td><td>1</td><td>1</td><td>0.0</td><td>0</td><td>1</td></tr><tr><th>17</th><td>597</td><td>717</td><td>785</td><td>Rickettsia typhi</td><td>202</td><td>3</td><td>1122</td><td>1</td><td>1</td><td>1</td><td>0.0</td><td>0</td><td>1</td></tr><tr><th>18</th><td>253</td><td>1290</td><td>421058</td><td>Chryseobacterium oranimense</td><td>78</td><td>2</td><td>344</td><td>1</td><td>1</td><td>1</td><td>0.0</td><td>0</td><td>1</td></tr><tr><th>19</th><td>894</td><td>1667</td><td>669461</td><td>Paenibacillus pini</td><td>314</td><td>2</td><td>913</td><td>1</td><td>1</td><td>1</td><td>0.0</td><td>0</td><td>1</td></tr><tr><th>20</th><td>935</td><td>1501</td><td>70255</td><td>Staphylococcus condimenti</td><td>327</td><td>2</td><td>1209</td><td>1</td><td>1</td><td>1</td><td>0.0</td><td>0</td><td>1</td></tr><tr><th>21</th><td>1193</td><td>1378</td><td>282199</td><td>Nereida ignava</td><td>393</td><td>2</td><td>874</td><td>1</td><td>1</td><td>1</td><td>0.0</td><td>0</td><td>1</td></tr><tr><th>22</th><td>212</td><td>1390</td><td>233181</td><td>Candidatus Kinetoplastibacterium blastocrithidii</td><td>62</td><td>2</td><td>584</td><td>1</td><td>1</td><td>1</td><td>0.0</td><td>0</td><td>1</td></tr></tbody></table>"
      ],
      "text/latex": [
       "\\begin{tabular}{r|ccccccccccccc}\n",
       "\t& index & db\\_id & taxid & name & genus\\_id & ngenomes & migration\\_src\\_idxs1 & migration\\_single\\_src & migration\\_identical & migration\\_1to1 & diameter & outgoing\\_overlaps & incoming\\_overlaps\\\\\n",
       "\t\\hline\n",
       "\t& Int64 & Int64 & Int64 & String & Int64 & Int64 & String & Bool & Bool & Bool & Float64 & Int64 & Int64\\\\\n",
       "\t\\hline\n",
       "\t1 & 8 & 1451 & 53427 & Gordonia hirsuta & 2 & 2 & 540 & 1 & 1 & 1 & 0.0 & 0 & 1 \\\\\n",
       "\t2 & 1151 & 1475 & 78259 & Scardovia inopinata & 378 & 2 & 1155 & 1 & 1 & 1 & 0.0 & 0 & 2 \\\\\n",
       "\t3 & 313 & 1211 & 1034943 & Legionella massiliensis & 111 & 2 & 722 & 1 & 1 & 1 & 0.0 & 0 & 1 \\\\\n",
       "\t4 & 400 & 1655 & 308892 & Mesobacillus boroniphilus & 141 & 2 & 126 & 1 & 1 & 1 & 0.0 & 0 & 1 \\\\\n",
       "\t5 & 410 & 1580 & 127891 & Alkalihalobacillus wakoensis & 144 & 2 & 159 & 1 & 1 & 1 & 0.0 & 0 & 1 \\\\\n",
       "\t6 & 1021 & 882 & 1356 & Enterococcus sulfureus & 341 & 2 & 475 & 1 & 1 & 1 & 0.0 & 0 & 1 \\\\\n",
       "\t7 & 1029 & 1670 & 71451 & Enterococcus malodoratus & 341 & 2 & 468 & 1 & 1 & 1 & 0.0 & 0 & 1 \\\\\n",
       "\t8 & 407 & 909 & 1411 & Alkalihalobacillus akibai & 144 & 2 & 119 & 1 & 1 & 1 & 0.0 & 0 & 2 \\\\\n",
       "\t9 & 720 & 747 & 940 & Hydrogenobacter thermophilus & 238 & 2 & 573 & 1 & 1 & 1 & 0.0 & 0 & 1 \\\\\n",
       "\t10 & 211 & 547 & 33056 & Candidatus Kinetoplastibacterium crithidii & 62 & 2 & 585 & 1 & 1 & 1 & 0.0 & 0 & 1 \\\\\n",
       "\t11 & 164 & 1243 & 1608628 & Candidatus Filomicrobium marinum & 56 & 2 & 498 & 1 & 1 & 1 & 0.0 & 0 & 1 \\\\\n",
       "\t12 & 287 & 1468 & 135577 & Idiomarina loihiensis & 98 & 2 & 576 & 1 & 1 & 1 & 0.0 & 0 & 1 \\\\\n",
       "\t13 & 566 & 1568 & 29546 & Lawsonia intracellularis & 195 & 2 & 713 & 1 & 1 & 1 & 0.0 & 0 & 2 \\\\\n",
       "\t14 & 376 & 894 & 1383 & Lancefieldella rimae & 127 & 2 & 110 & 1 & 1 & 1 & 0.0 & 0 & 1 \\\\\n",
       "\t15 & 409 & 1578 & 127886 & Alkalihalobacillus hemicellulosilyticus & 144 & 2 & 138 & 1 & 1 & 1 & 0.0 & 0 & 1 \\\\\n",
       "\t16 & 607 & 1249 & 35794 & Rickettsia slovaca & 202 & 2 & 1121 & 1 & 1 & 1 & 0.0 & 0 & 1 \\\\\n",
       "\t17 & 597 & 717 & 785 & Rickettsia typhi & 202 & 3 & 1122 & 1 & 1 & 1 & 0.0 & 0 & 1 \\\\\n",
       "\t18 & 253 & 1290 & 421058 & Chryseobacterium oranimense & 78 & 2 & 344 & 1 & 1 & 1 & 0.0 & 0 & 1 \\\\\n",
       "\t19 & 894 & 1667 & 669461 & Paenibacillus pini & 314 & 2 & 913 & 1 & 1 & 1 & 0.0 & 0 & 1 \\\\\n",
       "\t20 & 935 & 1501 & 70255 & Staphylococcus condimenti & 327 & 2 & 1209 & 1 & 1 & 1 & 0.0 & 0 & 1 \\\\\n",
       "\t21 & 1193 & 1378 & 282199 & Nereida ignava & 393 & 2 & 874 & 1 & 1 & 1 & 0.0 & 0 & 1 \\\\\n",
       "\t22 & 212 & 1390 & 233181 & Candidatus Kinetoplastibacterium blastocrithidii & 62 & 2 & 584 & 1 & 1 & 1 & 0.0 & 0 & 1 \\\\\n",
       "\\end{tabular}\n"
      ],
      "text/plain": [
       "\u001b[1m22×13 DataFrame\u001b[0m\n",
       "\u001b[1m Row \u001b[0m│\u001b[1m index \u001b[0m\u001b[1m db_id \u001b[0m\u001b[1m taxid   \u001b[0m\u001b[1m name                              \u001b[0m\u001b[1m genus_id \u001b[0m\u001b[1m ngenomes \u001b[0m\u001b[1m migration_src_idxs1 \u001b[0m\u001b[1m migration_single_src \u001b[0m\u001b[1m migration_identical \u001b[0m\u001b[1m migration_1to1 \u001b[0m\u001b[1m diameter \u001b[0m\u001b[1m outgoing_overlaps \u001b[0m\u001b[1m incoming_overlaps \u001b[0m\n",
       "\u001b[1m     \u001b[0m│\u001b[90m Int64 \u001b[0m\u001b[90m Int64 \u001b[0m\u001b[90m Int64   \u001b[0m\u001b[90m String                            \u001b[0m\u001b[90m Int64    \u001b[0m\u001b[90m Int64    \u001b[0m\u001b[90m String              \u001b[0m\u001b[90m Bool                 \u001b[0m\u001b[90m Bool                \u001b[0m\u001b[90m Bool           \u001b[0m\u001b[90m Float64  \u001b[0m\u001b[90m Int64             \u001b[0m\u001b[90m Int64             \u001b[0m\n",
       "─────┼──────────────────────────────────────────────────────────────────────────────────────────────────────────────────────────────────────────────────────────────────────────────────────────────────────────────\n",
       "   1 │     8   1451    53427  Gordonia hirsuta                          2         2  540                                  true                 true            true       0.0                  0                  1\n",
       "   2 │  1151   1475    78259  Scardovia inopinata                     378         2  1155                                 true                 true            true       0.0                  0                  2\n",
       "   3 │   313   1211  1034943  Legionella massiliensis                 111         2  722                                  true                 true            true       0.0                  0                  1\n",
       "   4 │   400   1655   308892  Mesobacillus boroniphilus               141         2  126                                  true                 true            true       0.0                  0                  1\n",
       "   5 │   410   1580   127891  Alkalihalobacillus wakoensis            144         2  159                                  true                 true            true       0.0                  0                  1\n",
       "   6 │  1021    882     1356  Enterococcus sulfureus                  341         2  475                                  true                 true            true       0.0                  0                  1\n",
       "   7 │  1029   1670    71451  Enterococcus malodoratus                341         2  468                                  true                 true            true       0.0                  0                  1\n",
       "   8 │   407    909     1411  Alkalihalobacillus akibai               144         2  119                                  true                 true            true       0.0                  0                  2\n",
       "   9 │   720    747      940  Hydrogenobacter thermophilus            238         2  573                                  true                 true            true       0.0                  0                  1\n",
       "  10 │   211    547    33056  Candidatus Kinetoplastibacterium…        62         2  585                                  true                 true            true       0.0                  0                  1\n",
       "  11 │   164   1243  1608628  Candidatus Filomicrobium marinum         56         2  498                                  true                 true            true       0.0                  0                  1\n",
       "  12 │   287   1468   135577  Idiomarina loihiensis                    98         2  576                                  true                 true            true       0.0                  0                  1\n",
       "  13 │   566   1568    29546  Lawsonia intracellularis                195         2  713                                  true                 true            true       0.0                  0                  2\n",
       "  14 │   376    894     1383  Lancefieldella rimae                    127         2  110                                  true                 true            true       0.0                  0                  1\n",
       "  15 │   409   1578   127886  Alkalihalobacillus hemicellulosi…       144         2  138                                  true                 true            true       0.0                  0                  1\n",
       "  16 │   607   1249    35794  Rickettsia slovaca                      202         2  1121                                 true                 true            true       0.0                  0                  1\n",
       "  17 │   597    717      785  Rickettsia typhi                        202         3  1122                                 true                 true            true       0.0                  0                  1\n",
       "  18 │   253   1290   421058  Chryseobacterium oranimense              78         2  344                                  true                 true            true       0.0                  0                  1\n",
       "  19 │   894   1667   669461  Paenibacillus pini                      314         2  913                                  true                 true            true       0.0                  0                  1\n",
       "  20 │   935   1501    70255  Staphylococcus condimenti               327         2  1209                                 true                 true            true       0.0                  0                  1\n",
       "  21 │  1193   1378   282199  Nereida ignava                          393         2  874                                  true                 true            true       0.0                  0                  1\n",
       "  22 │   212   1390   233181  Candidatus Kinetoplastibacterium…        62         2  584                                  true                 true            true       0.0                  0                  1"
      ]
     },
     "execution_count": 21,
     "metadata": {},
     "output_type": "execute_result"
    }
   ],
   "source": [
    "species_df[indexin(deleted_taxa, species_df[!, :db_id]), :]"
   ]
  },
  {
   "cell_type": "markdown",
   "metadata": {},
   "source": [
    "## Save data"
   ]
  },
  {
   "cell_type": "code",
   "execution_count": 22,
   "metadata": {},
   "outputs": [],
   "source": [
    "CSV.write(intermediate_out / \"taxa.csv\", taxa_df);"
   ]
  },
  {
   "cell_type": "code",
   "execution_count": 23,
   "metadata": {},
   "outputs": [],
   "source": [
    "open(intermediate_out / \"deleted-taxa-db-ids.json\", \"w\") do f\n",
    "    JSON.print(f, deleted_taxa)\n",
    "end"
   ]
  },
  {
   "cell_type": "code",
   "execution_count": 24,
   "metadata": {},
   "outputs": [],
   "source": [
    "open(intermediate_out / \"genome-taxon-assignments.json\", \"w\") do f\n",
    "    JSON.print(f, genome_assignments)\n",
    "end"
   ]
  }
 ],
 "metadata": {
  "@webio": {
   "lastCommId": "77e7703a-a954-4f9e-918d-70eb07321550",
   "lastKernelId": "e1f44057-d851-47b6-9871-ff9aaa4625da"
  },
  "kernelspec": {
   "display_name": "Julia 1.5.1",
   "language": "julia",
   "name": "julia-1.5"
  },
  "language_info": {
   "file_extension": ".jl",
   "mimetype": "application/julia",
   "name": "julia",
   "version": "1.5.1"
  }
 },
 "nbformat": 4,
 "nbformat_minor": 4
}
