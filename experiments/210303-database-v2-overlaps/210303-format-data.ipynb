{
 "cells": [
  {
   "cell_type": "code",
   "execution_count": null,
   "metadata": {},
   "outputs": [],
   "source": [
    "from pathlib import Path\n",
    "import json\n",
    "from gzip import GzipFile"
   ]
  },
  {
   "cell_type": "code",
   "execution_count": 2,
   "metadata": {},
   "outputs": [],
   "source": [
    "import numpy as np\n",
    "import pandas as pd\n",
    "import h5py\n",
    "from sqlalchemy import create_engine\n",
    "from sqlalchemy.orm import sessionmaker"
   ]
  },
  {
   "cell_type": "code",
   "execution_count": 3,
   "metadata": {},
   "outputs": [],
   "source": [
    "from midas.db.models import ReferenceGenomeSet, AnnotatedGenome, Taxon\n",
    "from midas.io.signaturefile import SignatureFile"
   ]
  },
  {
   "cell_type": "markdown",
   "metadata": {},
   "source": [
    "## Setup"
   ]
  },
  {
   "cell_type": "code",
   "execution_count": 4,
   "metadata": {},
   "outputs": [],
   "source": [
    "DATESTR = '210303'\n",
    "NBNAME = DATESTR + '-format-data'"
   ]
  },
  {
   "cell_type": "code",
   "execution_count": 5,
   "metadata": {},
   "outputs": [],
   "source": [
    "midas_root_dir = Path('/home/jared/projects/midas/')\n",
    "\n",
    "infiles = {\n",
    "    'signatures': midas_root_dir / 'data/2019_20/refseq_curated_1.1beta_200604.midas-signatures.gz',\n",
    "    'database': midas_root_dir / 'data/2019_20/refseq_curated_1.2a_201221.db',\n",
    "    'v11_genomes': midas_root_dir / 'notebooks/midas-notebooks-2019/build-v1-database/out/3-curated-taxonomy-assignments.csv',\n",
    "    'v11_overlaps': Path('../200727-find-overlaps/data-intermediate/200729-refseq-curated-1.1_beta-species-overlaps.h5'),\n",
    "    'migration': Path('../201031-database-v1.1-software-version-migration/data-processed/201218-final-taxonomy-assignments'),\n",
    "}"
   ]
  },
  {
   "cell_type": "code",
   "execution_count": 6,
   "metadata": {},
   "outputs": [],
   "source": [
    "intermediate_out = Path('data-intermediate') / NBNAME\n",
    "intermediate_out.mkdir(exist_ok=True)"
   ]
  },
  {
   "cell_type": "markdown",
   "metadata": {},
   "source": [
    "## Func defs"
   ]
  },
  {
   "cell_type": "code",
   "execution_count": 7,
   "metadata": {},
   "outputs": [],
   "source": [
    "def itertuples(df, columns):\n",
    "    \"\"\"Iterate over (index, colvals) pairs for selected columns of a DataFrame.\"\"\"\n",
    "    for i, row in df.iterrows():\n",
    "        yield i, tuple(row[columns])"
   ]
  },
  {
   "cell_type": "code",
   "execution_count": 8,
   "metadata": {},
   "outputs": [],
   "source": [
    "def to_1_indexed(df, check=True):\n",
    "    \"\"\"Change a dataframe's RangeIndex start from 0 to 1 for julia compatibility.\"\"\"\n",
    "    if check:\n",
    "        assert isinstance(df.index, pd.RangeIndex) and df.index.start == 0\n",
    "    df.index = pd.RangeIndex(1, df.shape[0] + 1)"
   ]
  },
  {
   "cell_type": "markdown",
   "metadata": {},
   "source": [
    "## v1.1 Genomes and taxonomy\n",
    "\n",
    "Overlap data refers to species by index, this is in the list of all `(genus, species)` tuples sorted lexicographically."
   ]
  },
  {
   "cell_type": "code",
   "execution_count": 9,
   "metadata": {},
   "outputs": [],
   "source": [
    "genomes_df = pd.read_csv(infiles['v11_genomes'])\n",
    "genomes_df.drop(columns='key', inplace=True)\n",
    "to_1_indexed(genomes_df)"
   ]
  },
  {
   "cell_type": "code",
   "execution_count": 10,
   "metadata": {},
   "outputs": [
    {
     "data": {
      "text/plain": [
       "50752"
      ]
     },
     "execution_count": 10,
     "metadata": {},
     "output_type": "execute_result"
    }
   ],
   "source": [
    "ngenomes = genomes_df.shape[0]\n",
    "ngenomes"
   ]
  },
  {
   "cell_type": "code",
   "execution_count": 11,
   "metadata": {},
   "outputs": [],
   "source": [
    "assert np.array_equal(genomes_df['accession'], sorted(genomes_df['accession']))"
   ]
  },
  {
   "cell_type": "code",
   "execution_count": 12,
   "metadata": {},
   "outputs": [],
   "source": [
    "genome_acc_to_index1 = {acc: i for i, acc in genomes_df['accession'].iteritems()}"
   ]
  },
  {
   "cell_type": "code",
   "execution_count": 13,
   "metadata": {},
   "outputs": [],
   "source": [
    "species_v11_df = genomes_df.groupby(['genus', 'species']).size().to_frame('ngenomes')\n",
    "species_v11_df.sort_index(inplace=True)\n",
    "species_v11_df.reset_index(inplace=True)\n",
    "to_1_indexed(species_v11_df, False)"
   ]
  },
  {
   "cell_type": "code",
   "execution_count": 14,
   "metadata": {},
   "outputs": [
    {
     "data": {
      "text/plain": [
       "1438"
      ]
     },
     "execution_count": 14,
     "metadata": {},
     "output_type": "execute_result"
    }
   ],
   "source": [
    "nspecies_v11 = species_v11_df.shape[0]\n",
    "nspecies_v11"
   ]
  },
  {
   "cell_type": "code",
   "execution_count": 15,
   "metadata": {},
   "outputs": [],
   "source": [
    "species_v11_to_index1 = {sp: i for i, sp in itertuples(species_v11_df, ['genus', 'species'])}"
   ]
  },
  {
   "cell_type": "code",
   "execution_count": 16,
   "metadata": {},
   "outputs": [],
   "source": [
    "genomes_df['species_v11_idx1'] = \\\n",
    "    [species_v11_to_index1[sp] for i, sp in itertuples(genomes_df, ['genus', 'species'])]\n",
    "genomes_df.drop(columns=['genus', 'species'], inplace=True)"
   ]
  },
  {
   "cell_type": "markdown",
   "metadata": {},
   "source": [
    "## Database 1.2"
   ]
  },
  {
   "cell_type": "markdown",
   "metadata": {},
   "source": [
    "### Open"
   ]
  },
  {
   "cell_type": "code",
   "execution_count": 17,
   "metadata": {},
   "outputs": [],
   "source": [
    "engine = create_engine('sqlite:///%s' % infiles['database'])\n",
    "Session = sessionmaker(engine)"
   ]
  },
  {
   "cell_type": "code",
   "execution_count": 18,
   "metadata": {},
   "outputs": [],
   "source": [
    "session = Session()"
   ]
  },
  {
   "cell_type": "code",
   "execution_count": 19,
   "metadata": {},
   "outputs": [
    {
     "name": "stdout",
     "output_type": "stream",
     "text": [
      "refseq_curated_1.2a1 midas/assembly/curated 1.2a1\n"
     ]
    }
   ],
   "source": [
    "gset = session.query(ReferenceGenomeSet).one()\n",
    "\n",
    "print(gset.name, gset.key, gset.version)"
   ]
  },
  {
   "cell_type": "markdown",
   "metadata": {},
   "source": [
    "### Taxa"
   ]
  },
  {
   "cell_type": "code",
   "execution_count": 20,
   "metadata": {},
   "outputs": [],
   "source": [
    "_rows = [\n",
    "    (taxon.id, taxon.ncbi_id, taxon.name, taxon.parent_id or 0)\n",
    "    for taxon in gset.taxa.filter_by(rank='species')\n",
    "]\n",
    "\n",
    "species_v12_df = pd.DataFrame.from_records(_rows, columns=['db_id', 'taxid', 'name', 'genus_id'])\n",
    "species_v12_df.sort_values(['genus_id', 'db_id'], inplace=True)\n",
    "to_1_indexed(species_v12_df, False)"
   ]
  },
  {
   "cell_type": "code",
   "execution_count": 21,
   "metadata": {},
   "outputs": [
    {
     "data": {
      "text/plain": [
       "1438"
      ]
     },
     "execution_count": 21,
     "metadata": {},
     "output_type": "execute_result"
    }
   ],
   "source": [
    "nspecies_v12 = species_v12_df.shape[0]\n",
    "nspecies_v12"
   ]
  },
  {
   "cell_type": "code",
   "execution_count": 22,
   "metadata": {},
   "outputs": [],
   "source": [
    "species_v12_id_to_index1 = {id_: i for i, id_ in species_v12_df['db_id'].iteritems()}\n",
    "species_v12_taxid_to_index1 = {id_: i for i, id_ in species_v12_df['taxid'].iteritems()}"
   ]
  },
  {
   "cell_type": "code",
   "execution_count": 23,
   "metadata": {},
   "outputs": [],
   "source": [
    "_rows = [\n",
    "    (taxon.id, taxon.ncbi_id, taxon.name)\n",
    "    for taxon in gset.taxa.filter_by(rank='genus')\n",
    "]\n",
    "\n",
    "genera_v12_df = pd.DataFrame.from_records(_rows, columns=['db_id', 'ncbi_id', 'name'])\n",
    "genera_v12_df.sort_values('db_id', inplace=True)\n",
    "to_1_indexed(genera_v12_df, False)"
   ]
  },
  {
   "cell_type": "code",
   "execution_count": 24,
   "metadata": {},
   "outputs": [],
   "source": [
    "genera_v12_df['nspecies'] = species_v12_df.groupby('genus_id').size().drop(index=0)"
   ]
  },
  {
   "cell_type": "markdown",
   "metadata": {},
   "source": [
    "### Genomes"
   ]
  },
  {
   "cell_type": "code",
   "execution_count": 25,
   "metadata": {},
   "outputs": [],
   "source": [
    "genomes_df['species_v12_idx1'] = 0\n",
    "\n",
    "for ag in gset.genomes:\n",
    "    idx1 = genome_acc_to_index1[ag.refseq_acc]\n",
    "    sp_idx1 = species_v12_id_to_index1[ag.primary_taxon_id]\n",
    "    genomes_df.loc[idx1, 'species_v12_idx1'] = sp_idx1"
   ]
  },
  {
   "cell_type": "code",
   "execution_count": 26,
   "metadata": {},
   "outputs": [],
   "source": [
    "species_v12_df['ngenomes'] = genomes_df.groupby('species_v12_idx1').size().drop(index=0)"
   ]
  },
  {
   "cell_type": "code",
   "execution_count": 27,
   "metadata": {},
   "outputs": [],
   "source": [
    "genera_v12_df['ngenomes'] = species_v12_df.groupby('genus_id')['ngenomes'].sum().drop(index=0)"
   ]
  },
  {
   "cell_type": "markdown",
   "metadata": {},
   "source": [
    "## Migration"
   ]
  },
  {
   "cell_type": "markdown",
   "metadata": {},
   "source": [
    "### Count genome transitions"
   ]
  },
  {
   "cell_type": "code",
   "execution_count": 28,
   "metadata": {},
   "outputs": [],
   "source": [
    "species_migration_counts = genomes_df.groupby(['species_v11_idx1', 'species_v12_idx1']).size()"
   ]
  },
  {
   "cell_type": "code",
   "execution_count": 29,
   "metadata": {},
   "outputs": [],
   "source": [
    "species_v11_dst_indices1 = species_migration_counts \\\n",
    "    .reset_index() \\\n",
    "    .groupby('species_v11_idx1')['species_v12_idx1'] \\\n",
    "    .unique()\n",
    "\n",
    "assert np.array_equal(species_v11_dst_indices1.index, species_v11_df.index)"
   ]
  },
  {
   "cell_type": "code",
   "execution_count": 30,
   "metadata": {},
   "outputs": [],
   "source": [
    "species_v12_src_indices1 = species_migration_counts \\\n",
    "    .reset_index() \\\n",
    "    .groupby('species_v12_idx1')['species_v11_idx1'] \\\n",
    "    .unique() \\\n",
    "    .drop(index=0)\n",
    "\n",
    "assert np.array_equal(species_v12_src_indices1.index, species_v12_df.index)"
   ]
  },
  {
   "cell_type": "markdown",
   "metadata": {},
   "source": [
    "### Annotate v1.1 species"
   ]
  },
  {
   "cell_type": "code",
   "execution_count": 31,
   "metadata": {},
   "outputs": [],
   "source": [
    "species_v11_df['migration_dst_idxs1'] = [', '.join(map(str, set(idxs).difference([0]))) for idxs in species_v11_dst_indices1]"
   ]
  },
  {
   "cell_type": "code",
   "execution_count": 32,
   "metadata": {},
   "outputs": [],
   "source": [
    "species_v11_df['migration_ndropped'] = 0\n",
    "\n",
    "for i, n in species_migration_counts.loc[:, 0].iteritems():\n",
    "    species_v11_df.loc[i, 'migration_ndropped'] = n"
   ]
  },
  {
   "cell_type": "code",
   "execution_count": 33,
   "metadata": {},
   "outputs": [],
   "source": [
    "species_v11_df['migration_single_dst'] = False\n",
    "species_v11_df['migration_1to1'] = False\n",
    "\n",
    "for i, idxs in species_v11_dst_indices1.iteritems():\n",
    "    idxs = set(idxs).difference([0])\n",
    "    \n",
    "    if len(idxs) == 1:\n",
    "        (idx,) = idxs\n",
    "        species_v11_df.loc[i,'migration_single_dst'] = True\n",
    "        species_v11_df.loc[i, 'migration_1to1'] = np.array_equal(species_v12_src_indices1.loc[idx], [i])\n",
    "    \n",
    "    else:\n",
    "        species_v11_df.loc[i, 'migration_single_dst'] = False\n",
    "        species_v11_df.loc[i, 'migration_1to1'] = False"
   ]
  },
  {
   "cell_type": "code",
   "execution_count": 34,
   "metadata": {},
   "outputs": [],
   "source": [
    "species_v11_df['migration_identical'] = species_v11_df['migration_1to1'] & (species_v11_df['migration_ndropped'] == 0)"
   ]
  },
  {
   "cell_type": "markdown",
   "metadata": {},
   "source": [
    "### Annotate v1.2 species"
   ]
  },
  {
   "cell_type": "code",
   "execution_count": 35,
   "metadata": {},
   "outputs": [],
   "source": [
    "species_v12_df['migration_src_idxs1'] = [', '.join(map(str, idxs)) for idxs in species_v12_src_indices1]\n",
    "\n",
    "species_v12_df['migration_single_src'] = [len(idxs) == 1 for i, idxs in species_v12_src_indices1.iteritems()]\n",
    "\n",
    "species_v12_df['migration_identical'] = [\n",
    "    len(idxs) == 1 and np.array_equal(species_v11_dst_indices1[idxs[0]], [i])\n",
    "    for i, idxs in species_v12_src_indices1.iteritems()\n",
    "]\n",
    "\n",
    "species_v12_df['migration_1to1'] = [\n",
    "    len(idxs) == 1 and set(species_v11_dst_indices1[idxs[0]]).issubset([i, 0])\n",
    "    for i, idxs in species_v12_src_indices1.iteritems()\n",
    "]"
   ]
  },
  {
   "cell_type": "markdown",
   "metadata": {},
   "source": [
    "## v1.1 Overlaps\n",
    "\n",
    "This was created in Julia so it is 1-indexed."
   ]
  },
  {
   "cell_type": "code",
   "execution_count": 36,
   "metadata": {},
   "outputs": [],
   "source": [
    "_f = h5py.File(infiles['v11_overlaps'], 'r')\n",
    "\n",
    "overlap_components_vec = _f['overlap_components'][:]"
   ]
  },
  {
   "cell_type": "code",
   "execution_count": 37,
   "metadata": {},
   "outputs": [
    {
     "data": {
      "text/plain": [
       "41"
      ]
     },
     "execution_count": 37,
     "metadata": {},
     "output_type": "execute_result"
    }
   ],
   "source": [
    "ncomps = overlap_components_vec.max()\n",
    "ncomps"
   ]
  },
  {
   "cell_type": "code",
   "execution_count": 38,
   "metadata": {},
   "outputs": [],
   "source": [
    "overlap_components_1 = [[] for i in range(ncomps)]\n",
    "\n",
    "for (i, c) in enumerate(overlap_components_vec):\n",
    "    if c > 0:\n",
    "        overlap_components_1[c-1].append(i + 1)"
   ]
  },
  {
   "cell_type": "markdown",
   "metadata": {},
   "source": [
    "## Save"
   ]
  },
  {
   "cell_type": "code",
   "execution_count": 39,
   "metadata": {},
   "outputs": [],
   "source": [
    "genomes_df.to_csv(intermediate_out / 'genomes-v1.1.csv', index=False)"
   ]
  },
  {
   "cell_type": "code",
   "execution_count": 40,
   "metadata": {},
   "outputs": [],
   "source": [
    "species_v11_df.to_csv(intermediate_out / 'species-v1.1.csv', index=False)"
   ]
  },
  {
   "cell_type": "code",
   "execution_count": 41,
   "metadata": {},
   "outputs": [],
   "source": [
    "species_v12_df.to_csv(intermediate_out / 'species-v1.2.csv', index=False)\n",
    "genera_v12_df.to_csv(intermediate_out / 'genera-v1.2.csv', index=False)"
   ]
  },
  {
   "cell_type": "code",
   "execution_count": 42,
   "metadata": {},
   "outputs": [],
   "source": [
    "with open(intermediate_out / 'overlap-components-v1.1.json', 'w') as f:\n",
    "    json.dump(overlap_components_1, f)"
   ]
  },
  {
   "cell_type": "code",
   "execution_count": 43,
   "metadata": {},
   "outputs": [],
   "source": [
    "species_migration_counts.to_frame('ngenomes').to_csv(intermediate_out / 'migration-genome-reassignment-counts.csv')"
   ]
  }
 ],
 "metadata": {
  "@webio": {
   "lastCommId": "aca99e49-04d4-474f-beba-683ea180258f",
   "lastKernelId": "4e7e1735-87aa-4766-a5c4-420daa284b80"
  },
  "kernelspec": {
   "display_name": "MIDAS 2",
   "language": "python",
   "name": "midas2"
  },
  "language_info": {
   "codemirror_mode": {
    "name": "ipython",
    "version": 3
   },
   "file_extension": ".py",
   "mimetype": "text/x-python",
   "name": "python",
   "nbconvert_exporter": "python",
   "pygments_lexer": "ipython3",
   "version": "3.6.10"
  }
 },
 "nbformat": 4,
 "nbformat_minor": 4
}
