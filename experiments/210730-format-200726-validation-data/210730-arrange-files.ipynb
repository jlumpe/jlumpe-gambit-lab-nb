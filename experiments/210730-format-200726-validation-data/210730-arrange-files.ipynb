{
 "cells": [
  {
   "cell_type": "markdown",
   "id": "0fea9e11",
   "metadata": {},
   "source": [
    "### 210730 Arrange files"
   ]
  },
  {
   "cell_type": "code",
   "execution_count": 1,
   "id": "6fd61937",
   "metadata": {},
   "outputs": [],
   "source": [
    "from pathlib import Path\n",
    "import re\n",
    "\n",
    "import pandas as pd"
   ]
  },
  {
   "cell_type": "markdown",
   "id": "d98e1101",
   "metadata": {},
   "source": [
    "## Setup"
   ]
  },
  {
   "cell_type": "code",
   "execution_count": 2,
   "id": "1a70998f",
   "metadata": {},
   "outputs": [],
   "source": [
    "data_dir = Path('/home/jared/projects/gambit/data/validation/200726-gold-standard-seqs/')"
   ]
  },
  {
   "cell_type": "code",
   "execution_count": 3,
   "id": "3804ce0b",
   "metadata": {},
   "outputs": [],
   "source": [
    "src_dir = data_dir / 'fasta-original'"
   ]
  },
  {
   "cell_type": "code",
   "execution_count": 4,
   "id": "15cfcceb",
   "metadata": {},
   "outputs": [],
   "source": [
    "dst_dir = data_dir / 'fasta'"
   ]
  },
  {
   "cell_type": "markdown",
   "id": "d47ce412",
   "metadata": {},
   "source": [
    "## Get list of files"
   ]
  },
  {
   "cell_type": "code",
   "execution_count": 5,
   "id": "a4db56f1",
   "metadata": {},
   "outputs": [],
   "source": [
    "_parts = []\n",
    "\n",
    "for date in ['200726', '200817']:\n",
    "    d = src_dir / date\n",
    "    _parts.append(pd.DataFrame.from_records(\n",
    "        [(date, f, f.name) for f in d.glob('*.fasta')],\n",
    "        columns=['set', 'original_path', 'original_filename'],\n",
    "    ))\n",
    "\n",
    "df = pd.concat(_parts, ignore_index=True)"
   ]
  },
  {
   "cell_type": "markdown",
   "id": "205b849c",
   "metadata": {},
   "source": [
    "### Parse old filenames"
   ]
  },
  {
   "cell_type": "code",
   "execution_count": 6,
   "id": "cacce6e6",
   "metadata": {},
   "outputs": [],
   "source": [
    "fname_pattern = r'([^-]+)(-([^_]+)|)(_(.+))_L001_R1_001 Assembly Contigs(Unpaired|)\\.fasta'\n",
    "\n",
    "_parts = pd.DataFrame.from_records(\n",
    "    [re.fullmatch(fname_pattern, fname).group(1, 3, 5, 6) for fname in df['original_filename']],\n",
    "    columns=['part1', 'part2', 'part3', 'unpaired'],\n",
    ")\n",
    "_parts['unpaired'] = _parts['unpaired'] != ''\n",
    "\n",
    "df = pd.concat([df, _parts], axis=1)"
   ]
  },
  {
   "cell_type": "markdown",
   "id": "c7efdd5e",
   "metadata": {},
   "source": [
    "## Check for duplicates\n",
    "\n",
    "There are two pairs of files with identical part 1/2/3, one file unpaired and one not. Check if the files are identical."
   ]
  },
  {
   "cell_type": "code",
   "execution_count": 7,
   "id": "62230646",
   "metadata": {},
   "outputs": [],
   "source": [
    "duplicates = {key: df.index for key, df in df.groupby(['part1', 'part2', 'part3'], dropna=False) if df.shape[0] > 1}"
   ]
  },
  {
   "cell_type": "code",
   "execution_count": 8,
   "id": "96550f48",
   "metadata": {},
   "outputs": [
    {
     "data": {
      "text/html": [
       "<div>\n",
       "<style scoped>\n",
       "    .dataframe tbody tr th:only-of-type {\n",
       "        vertical-align: middle;\n",
       "    }\n",
       "\n",
       "    .dataframe tbody tr th {\n",
       "        vertical-align: top;\n",
       "    }\n",
       "\n",
       "    .dataframe thead th {\n",
       "        text-align: right;\n",
       "    }\n",
       "</style>\n",
       "<table border=\"1\" class=\"dataframe\">\n",
       "  <thead>\n",
       "    <tr style=\"text-align: right;\">\n",
       "      <th></th>\n",
       "      <th>set</th>\n",
       "      <th>original_path</th>\n",
       "      <th>original_filename</th>\n",
       "      <th>part1</th>\n",
       "      <th>part2</th>\n",
       "      <th>part3</th>\n",
       "      <th>unpaired</th>\n",
       "    </tr>\n",
       "  </thead>\n",
       "  <tbody>\n",
       "    <tr>\n",
       "      <th>24</th>\n",
       "      <td>200726</td>\n",
       "      <td>/home/jared/projects/gambit/data/validation/20...</td>\n",
       "      <td>17AC0001411B_S10_L001_R1_001 Assembly Contigs....</td>\n",
       "      <td>17AC0001411B</td>\n",
       "      <td>None</td>\n",
       "      <td>S10</td>\n",
       "      <td>False</td>\n",
       "    </tr>\n",
       "    <tr>\n",
       "      <th>90</th>\n",
       "      <td>200817</td>\n",
       "      <td>/home/jared/projects/gambit/data/validation/20...</td>\n",
       "      <td>17AC0001411B_S10_L001_R1_001 Assembly ContigsU...</td>\n",
       "      <td>17AC0001411B</td>\n",
       "      <td>None</td>\n",
       "      <td>S10</td>\n",
       "      <td>True</td>\n",
       "    </tr>\n",
       "  </tbody>\n",
       "</table>\n",
       "</div>"
      ],
      "text/plain": [
       "       set                                      original_path  \\\n",
       "24  200726  /home/jared/projects/gambit/data/validation/20...   \n",
       "90  200817  /home/jared/projects/gambit/data/validation/20...   \n",
       "\n",
       "                                    original_filename         part1 part2  \\\n",
       "24  17AC0001411B_S10_L001_R1_001 Assembly Contigs....  17AC0001411B  None   \n",
       "90  17AC0001411B_S10_L001_R1_001 Assembly ContigsU...  17AC0001411B  None   \n",
       "\n",
       "   part3  unpaired  \n",
       "24   S10     False  \n",
       "90   S10      True  "
      ]
     },
     "metadata": {},
     "output_type": "display_data"
    },
    {
     "data": {
      "text/html": [
       "<div>\n",
       "<style scoped>\n",
       "    .dataframe tbody tr th:only-of-type {\n",
       "        vertical-align: middle;\n",
       "    }\n",
       "\n",
       "    .dataframe tbody tr th {\n",
       "        vertical-align: top;\n",
       "    }\n",
       "\n",
       "    .dataframe thead th {\n",
       "        text-align: right;\n",
       "    }\n",
       "</style>\n",
       "<table border=\"1\" class=\"dataframe\">\n",
       "  <thead>\n",
       "    <tr style=\"text-align: right;\">\n",
       "      <th></th>\n",
       "      <th>set</th>\n",
       "      <th>original_path</th>\n",
       "      <th>original_filename</th>\n",
       "      <th>part1</th>\n",
       "      <th>part2</th>\n",
       "      <th>part3</th>\n",
       "      <th>unpaired</th>\n",
       "    </tr>\n",
       "  </thead>\n",
       "  <tbody>\n",
       "    <tr>\n",
       "      <th>13</th>\n",
       "      <td>200726</td>\n",
       "      <td>/home/jared/projects/gambit/data/validation/20...</td>\n",
       "      <td>17AC0012455-1A_S1_L001_R1_001 Assembly Contigs...</td>\n",
       "      <td>17AC0012455</td>\n",
       "      <td>1A</td>\n",
       "      <td>S1</td>\n",
       "      <td>False</td>\n",
       "    </tr>\n",
       "    <tr>\n",
       "      <th>80</th>\n",
       "      <td>200817</td>\n",
       "      <td>/home/jared/projects/gambit/data/validation/20...</td>\n",
       "      <td>17AC0012455-1A_S1_L001_R1_001 Assembly Contigs...</td>\n",
       "      <td>17AC0012455</td>\n",
       "      <td>1A</td>\n",
       "      <td>S1</td>\n",
       "      <td>True</td>\n",
       "    </tr>\n",
       "  </tbody>\n",
       "</table>\n",
       "</div>"
      ],
      "text/plain": [
       "       set                                      original_path  \\\n",
       "13  200726  /home/jared/projects/gambit/data/validation/20...   \n",
       "80  200817  /home/jared/projects/gambit/data/validation/20...   \n",
       "\n",
       "                                    original_filename        part1 part2  \\\n",
       "13  17AC0012455-1A_S1_L001_R1_001 Assembly Contigs...  17AC0012455    1A   \n",
       "80  17AC0012455-1A_S1_L001_R1_001 Assembly Contigs...  17AC0012455    1A   \n",
       "\n",
       "   part3  unpaired  \n",
       "13    S1     False  \n",
       "80    S1      True  "
      ]
     },
     "metadata": {},
     "output_type": "display_data"
    }
   ],
   "source": [
    "for key, indices in duplicates.items():\n",
    "    display(df.loc[indices])"
   ]
  },
  {
   "cell_type": "code",
   "execution_count": 9,
   "id": "db50b9bd",
   "metadata": {},
   "outputs": [
    {
     "name": "stdout",
     "output_type": "stream",
     "text": [
      "('17AC0001411B', nan, 'S10') different\n",
      "('17AC0012455', '1A', 'S1') different\n"
     ]
    }
   ],
   "source": [
    "for key, indices in duplicates.items():\n",
    "    files = df.loc[indices, 'original_path']\n",
    "    msg = ! cmp --silent -- \"{files[0]}\" \"{files[1]}\" && echo identical || echo different\n",
    "    print(key, msg.n)"
   ]
  },
  {
   "cell_type": "markdown",
   "id": "88225f4a",
   "metadata": {},
   "source": [
    "## Rename/move files"
   ]
  },
  {
   "cell_type": "code",
   "execution_count": 10,
   "id": "77134b83",
   "metadata": {},
   "outputs": [],
   "source": [
    "_new_names = []\n",
    "\n",
    "for row in df.itertuples():\n",
    "    name = row.part1\n",
    "    if row.part2:\n",
    "        name += '-' + row.part2\n",
    "    if row.part3:\n",
    "        name += '_' + row.part3\n",
    "    if row.unpaired:\n",
    "        name += '_unpaired'\n",
    "    \n",
    "    _new_names.append(name)\n",
    "\n",
    "df.insert(1, 'name', _new_names)"
   ]
  },
  {
   "cell_type": "code",
   "execution_count": 11,
   "id": "a0225997",
   "metadata": {},
   "outputs": [],
   "source": [
    "assert not df['name'].duplicated().any()"
   ]
  },
  {
   "cell_type": "code",
   "execution_count": 12,
   "id": "377e3fca",
   "metadata": {},
   "outputs": [],
   "source": [
    "dst_dir.mkdir(exist_ok=True)"
   ]
  },
  {
   "cell_type": "code",
   "execution_count": 13,
   "id": "8f1cc58b",
   "metadata": {},
   "outputs": [],
   "source": [
    "for row in df.itertuples():\n",
    "    ! cp -f \"{row.original_path}\" \"{dst_dir}/{row.name}.fasta\""
   ]
  },
  {
   "cell_type": "markdown",
   "id": "437d1210",
   "metadata": {},
   "source": [
    "## Save table"
   ]
  },
  {
   "cell_type": "code",
   "execution_count": 14,
   "id": "bcd9f912",
   "metadata": {},
   "outputs": [],
   "source": [
    "del df['original_path']"
   ]
  },
  {
   "cell_type": "code",
   "execution_count": 15,
   "id": "56233a23",
   "metadata": {},
   "outputs": [],
   "source": [
    "df.sort_values(['set', 'name'], inplace=True)"
   ]
  },
  {
   "cell_type": "code",
   "execution_count": 16,
   "id": "74c60d19",
   "metadata": {},
   "outputs": [],
   "source": [
    "df.to_csv(data_dir / 'files.csv', index=False)"
   ]
  }
 ],
 "metadata": {
  "kernelspec": {
   "display_name": "GAMBIT",
   "language": "python",
   "name": "gambit"
  },
  "language_info": {
   "codemirror_mode": {
    "name": "ipython",
    "version": 3
   },
   "file_extension": ".py",
   "mimetype": "text/x-python",
   "name": "python",
   "nbconvert_exporter": "python",
   "pygments_lexer": "ipython3",
   "version": "3.9.5"
  }
 },
 "nbformat": 4,
 "nbformat_minor": 5
}
