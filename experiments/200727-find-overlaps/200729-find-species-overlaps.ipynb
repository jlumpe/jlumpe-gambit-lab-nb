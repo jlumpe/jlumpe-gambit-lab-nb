{
 "cells": [
  {
   "cell_type": "markdown",
   "metadata": {},
   "source": [
    "# 200729 Find species overlaps"
   ]
  },
  {
   "cell_type": "code",
   "execution_count": 1,
   "metadata": {},
   "outputs": [],
   "source": [
    "using ProgressMeter\n",
    "using GZip\n",
    "using JSON\n",
    "using Mmap\n",
    "using DataFrames\n",
    "using CSV\n",
    "using StatsBase\n",
    "using CategoricalArrays\n",
    "using HDF5"
   ]
  },
  {
   "cell_type": "code",
   "execution_count": 2,
   "metadata": {},
   "outputs": [],
   "source": [
    "using Midas\n",
    "using Midas.SignatureFiles\n",
    "using Midas.Pairwise: npairs\n",
    "using TriMatrices"
   ]
  },
  {
   "cell_type": "markdown",
   "metadata": {},
   "source": [
    "## Func defs"
   ]
  },
  {
   "cell_type": "code",
   "execution_count": 3,
   "metadata": {},
   "outputs": [
    {
     "data": {
      "text/plain": [
       "selectclass (generic function with 1 method)"
      ]
     },
     "execution_count": 3,
     "metadata": {},
     "output_type": "execute_result"
    }
   ],
   "source": [
    "findclass(a::CategoricalArray, cls::CategoricalValue) = findall(==(cls), a)\n",
    "findclass(a::CategoricalArray, i::Integer) = findclass(a, a.pool[i])\n",
    "selectclass(a::AbstractVector, c::CategoricalArray, cls) = a[findclass(c, cls)]"
   ]
  },
  {
   "cell_type": "markdown",
   "metadata": {},
   "source": [
    "## File paths"
   ]
  },
  {
   "cell_type": "code",
   "execution_count": 4,
   "metadata": {},
   "outputs": [],
   "source": [
    "infiles = Dict(\n",
    "    :taxonomy => \"/home/jared/notebooks/midas-notebooks-2019/build-v1-database/out/3-curated-taxonomy-assignments.csv\",\n",
    "#     :signatures => \"/home/jared/data/2019_20/refseq_curated_1.1beta_200604.midas-signatures.gz\",\n",
    "    :distances => \"../../data/intermediate/200727-find-overlaps/genome-pw-distances.raw-float32\",\n",
    ");"
   ]
  },
  {
   "cell_type": "code",
   "execution_count": 5,
   "metadata": {},
   "outputs": [
    {
     "data": {
      "text/plain": [
       "\"../../data/intermediate/200727-find-overlaps/\""
      ]
     },
     "execution_count": 5,
     "metadata": {},
     "output_type": "execute_result"
    }
   ],
   "source": [
    "outdir = \"../../data/intermediate/200727-find-overlaps/\""
   ]
  },
  {
   "cell_type": "code",
   "execution_count": 6,
   "metadata": {},
   "outputs": [],
   "source": [
    "outfiles = Dict(\n",
    "    :overlaps => joinpath(outdir, \"200729-refseq-curated-1.1_beta-species-overlaps.h5\"),\n",
    ");"
   ]
  },
  {
   "cell_type": "markdown",
   "metadata": {},
   "source": [
    "## Load taxonomy"
   ]
  },
  {
   "cell_type": "code",
   "execution_count": 7,
   "metadata": {},
   "outputs": [],
   "source": [
    "taxdf = DataFrame(CSV.File(infiles[:taxonomy]));"
   ]
  },
  {
   "cell_type": "code",
   "execution_count": 8,
   "metadata": {},
   "outputs": [
    {
     "data": {
      "text/plain": [
       "(419, 1438)"
      ]
     },
     "execution_count": 8,
     "metadata": {},
     "output_type": "execute_result"
    }
   ],
   "source": [
    "sig_genera = categorical(taxdf[!, :genus])\n",
    "genera = levels(sig_genera)\n",
    "ngenera = length(genera)\n",
    "\n",
    "sig_species = categorical([(row[:genus], row[:species]) for row in eachrow(taxdf)])\n",
    "species = levels(sig_species)\n",
    "nspecies = length(species)\n",
    "\n",
    "ngenera, nspecies"
   ]
  },
  {
   "cell_type": "code",
   "execution_count": 9,
   "metadata": {},
   "outputs": [],
   "source": [
    "genus_counts = counts(sig_genera.refs)\n",
    "species_counts = counts(sig_species.refs)\n",
    ";"
   ]
  },
  {
   "cell_type": "code",
   "execution_count": 10,
   "metadata": {},
   "outputs": [],
   "source": [
    "genome_accs = [last(split(k, \"/\")) for k in taxdf[!, :key]];"
   ]
  },
  {
   "cell_type": "code",
   "execution_count": 11,
   "metadata": {},
   "outputs": [],
   "source": [
    "species_to_genus = [findfirst(==(genus), genera) for (genus, spname) in species];"
   ]
  },
  {
   "cell_type": "code",
   "execution_count": 12,
   "metadata": {},
   "outputs": [
    {
     "data": {
      "text/plain": [
       "50752"
      ]
     },
     "execution_count": 12,
     "metadata": {},
     "output_type": "execute_result"
    }
   ],
   "source": [
    "nsigs = length(sig_genera)"
   ]
  },
  {
   "cell_type": "markdown",
   "metadata": {},
   "source": [
    "## Open distances"
   ]
  },
  {
   "cell_type": "code",
   "execution_count": 13,
   "metadata": {},
   "outputs": [],
   "source": [
    "pw_data = Mmap.mmap(open(infiles[:distances], \"r\"), Vector{Float32}, (npairs(nsigs),));\n",
    "\n",
    "pw_dists = TriMatrix(TriSymmetric{false}(), nsigs, pw_data);"
   ]
  },
  {
   "cell_type": "code",
   "execution_count": 14,
   "metadata": {},
   "outputs": [],
   "source": [
    "@assert !any(<(0), pw_data)"
   ]
  },
  {
   "cell_type": "markdown",
   "metadata": {},
   "source": [
    "## Find overlaps"
   ]
  },
  {
   "cell_type": "code",
   "execution_count": 15,
   "metadata": {},
   "outputs": [
    {
     "data": {
      "text/plain": [
       "intra_inter_extrema (generic function with 2 methods)"
      ]
     },
     "execution_count": 15,
     "metadata": {},
     "output_type": "execute_result"
    }
   ],
   "source": [
    "# Find min inter and max intra for genome with index i\n",
    "function intra_inter_extrema(dists::AbstractMatrix{T}, classes::AbstractVector, i::Int, ignore::Union{Nothing,Vector{Bool}}=nothing) where T\n",
    "    ci = classes[i]\n",
    "\n",
    "    min_inter = (typemax(T), 0)\n",
    "    max_intra = (zero(T), 0)\n",
    "\n",
    "    for j in 1:size(dists, 1)\n",
    "        !isnothing(ignore) && ignore(j) && continue\n",
    "        cj = classes[j]\n",
    "        d = dists[i, j]\n",
    "        if ci == cj\n",
    "            d > max_intra[1] && (max_intra = (d, j))\n",
    "        else\n",
    "            d < min_inter[1] && (min_inter = (d, j))\n",
    "        end\n",
    "    end\n",
    "    \n",
    "    return min_inter, max_intra\n",
    "end"
   ]
  },
  {
   "cell_type": "code",
   "execution_count": 16,
   "metadata": {},
   "outputs": [
    {
     "name": "stderr",
     "output_type": "stream",
     "text": [
      "\u001b[32mProgress: 100%|█████████████████████████████████████████| Time: 0:02:00\u001b[39m\n"
     ]
    }
   ],
   "source": [
    "min_inter = Tuple{Int, Float32}[]\n",
    "max_intra = Tuple{Int, Float32}[]\n",
    "\n",
    "@showprogress for i in 1:nsigs\n",
    "    (di, i), (dj, j) = intra_inter_extrema(pw_dists, sig_species, i)\n",
    "    push!(min_inter, (i, di))\n",
    "    push!(max_intra, (j, dj))\n",
    "end"
   ]
  },
  {
   "cell_type": "code",
   "execution_count": 17,
   "metadata": {},
   "outputs": [
    {
     "data": {
      "text/plain": [
       "23786"
      ]
     },
     "execution_count": 17,
     "metadata": {},
     "output_type": "execute_result"
    }
   ],
   "source": [
    "has_overlap = findall(i -> min_inter[i][2] <= max_intra[i][2], 1:nsigs)\n",
    "length(has_overlap)"
   ]
  },
  {
   "cell_type": "markdown",
   "metadata": {},
   "source": [
    "## Species components\n",
    "\n",
    "Find connected components of overlapping species"
   ]
  },
  {
   "cell_type": "code",
   "execution_count": 18,
   "metadata": {},
   "outputs": [],
   "source": [
    "overlap_pairs = [i => min_inter[i][1] for i in has_overlap];"
   ]
  },
  {
   "cell_type": "code",
   "execution_count": 19,
   "metadata": {},
   "outputs": [
    {
     "data": {
      "text/plain": [
       "(41, 147)"
      ]
     },
     "execution_count": 19,
     "metadata": {},
     "output_type": "execute_result"
    }
   ],
   "source": [
    "overlap_components = Set{Int}[]\n",
    "\n",
    "let\n",
    "    components_dict = Dict{Int, Set{Int}}() \n",
    "    \n",
    "    for (i, j) in overlap_pairs\n",
    "        si = Int(sig_species.refs[i])\n",
    "        sj = Int(sig_species.refs[j])\n",
    "        \n",
    "        ci = get(components_dict, si, nothing)\n",
    "        cj = get(components_dict, sj, nothing)\n",
    "        \n",
    "        if isnothing(ci) && isnothing(cj)\n",
    "            ci = Set([si, sj])\n",
    "            components_dict[si] = components_dict[sj] = ci\n",
    "            push!(overlap_components, ci)\n",
    "        elseif isnothing(ci)\n",
    "            push!(cj, si)\n",
    "            components_dict[si] = cj\n",
    "        elseif isnothing(cj)\n",
    "            push!(ci, sj)\n",
    "            components_dict[sj] = ci\n",
    "        elseif ci !== cj\n",
    "            union!(ci, cj)\n",
    "            deleteat!(overlap_components, findfirst(c -> c === cj, overlap_components))\n",
    "            \n",
    "            for k in cj\n",
    "                components_dict[k] = ci\n",
    "            end\n",
    "        end\n",
    "    end\n",
    "end\n",
    "\n",
    "length(overlap_components), sum(map(length, overlap_components))"
   ]
  },
  {
   "cell_type": "code",
   "execution_count": 20,
   "metadata": {},
   "outputs": [],
   "source": [
    "overlap_components_vec = zeros(Int, nspecies)\n",
    "for (i, c) in enumerate(overlap_components)\n",
    "    for j in c\n",
    "        overlap_components_vec[j] = i\n",
    "    end\n",
    "end"
   ]
  },
  {
   "cell_type": "markdown",
   "metadata": {},
   "source": [
    "## Save"
   ]
  },
  {
   "cell_type": "code",
   "execution_count": 22,
   "metadata": {},
   "outputs": [],
   "source": [
    "let h5 = h5open(outfiles[:overlaps], \"cw\")\n",
    "    h5[\"genome_keys\"] = taxdf[!, :key]\n",
    "    h5[\"min_inter_indices\"] = first.(min_inter)\n",
    "    h5[\"min_inter_dists\"] = last.(min_inter)\n",
    "    h5[\"max_intra_indices\"] = first.(max_intra)\n",
    "    h5[\"max_intra_dists\"] = last.(max_intra)\n",
    "    \n",
    "    h5[\"has_overlap\"] = has_overlap\n",
    "    h5[\"overlap_components\"] = overlap_components_vec\n",
    "    \n",
    "    close(h5)\n",
    "end;"
   ]
  }
 ],
 "metadata": {
  "@webio": {
   "lastCommId": "547ce2bb-c5be-412c-9d20-d88ab06ecbe0",
   "lastKernelId": "a513c47e-3dc2-4ccb-8f76-a1de8a3ac77b"
  },
  "kernelspec": {
   "display_name": "Julia 1.4.2",
   "language": "julia",
   "name": "julia-1.4"
  },
  "language_info": {
   "file_extension": ".jl",
   "mimetype": "application/julia",
   "name": "julia",
   "version": "1.4.2"
  }
 },
 "nbformat": 4,
 "nbformat_minor": 4
}
