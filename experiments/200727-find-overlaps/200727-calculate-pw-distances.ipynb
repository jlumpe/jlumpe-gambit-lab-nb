{
 "cells": [
  {
   "cell_type": "markdown",
   "metadata": {},
   "source": [
    "# 200727 Calculate pairwise distances"
   ]
  },
  {
   "cell_type": "code",
   "execution_count": 21,
   "metadata": {},
   "outputs": [],
   "source": [
    "using ProgressMeter\n",
    "using GZip\n",
    "using JSON\n",
    "using Mmap\n",
    "using Random"
   ]
  },
  {
   "cell_type": "code",
   "execution_count": 2,
   "metadata": {},
   "outputs": [],
   "source": [
    "using Midas\n",
    "using Midas.Distances\n",
    "using Midas.SignatureFiles\n",
    "using Midas.Pairwise: npairs, iterpairs\n",
    "using TriMatrices"
   ]
  },
  {
   "cell_type": "code",
   "execution_count": 3,
   "metadata": {},
   "outputs": [
    {
     "data": {
      "text/plain": [
       "jaccard_dist_sorted (generic function with 1 method)"
      ]
     },
     "execution_count": 3,
     "metadata": {},
     "output_type": "execute_result"
    }
   ],
   "source": [
    "const metric = jaccard_dist_sorted"
   ]
  },
  {
   "cell_type": "code",
   "execution_count": 4,
   "metadata": {},
   "outputs": [
    {
     "data": {
      "text/plain": [
       "4"
      ]
     },
     "execution_count": 4,
     "metadata": {},
     "output_type": "execute_result"
    }
   ],
   "source": [
    "Threads.nthreads()"
   ]
  },
  {
   "cell_type": "markdown",
   "metadata": {},
   "source": [
    "## File paths"
   ]
  },
  {
   "cell_type": "code",
   "execution_count": 5,
   "metadata": {},
   "outputs": [],
   "source": [
    "infiles = Dict(\n",
    "    :signatures => \"/home/jared/data/2019_20/refseq_curated_1.1beta_200604.midas-signatures.gz\"\n",
    ");"
   ]
  },
  {
   "cell_type": "code",
   "execution_count": 6,
   "metadata": {},
   "outputs": [
    {
     "data": {
      "text/plain": [
       "Dict{Symbol,String} with 1 entry:\n",
       "  :distances => \"../../data/intermediate/200727-find-overlaps/genome-pw-distanc…"
      ]
     },
     "execution_count": 6,
     "metadata": {},
     "output_type": "execute_result"
    }
   ],
   "source": [
    "outfiles = Dict(\n",
    "    :distances => \"../../data/intermediate/200727-find-overlaps/genome-pw-distances.raw-float32\"\n",
    ")"
   ]
  },
  {
   "cell_type": "markdown",
   "metadata": {},
   "source": [
    "## Load signatures"
   ]
  },
  {
   "cell_type": "code",
   "execution_count": 7,
   "metadata": {},
   "outputs": [
    {
     "data": {
      "text/plain": [
       "SignatureFile{UInt32,GZipStream} with 50752 elements"
      ]
     },
     "execution_count": 7,
     "metadata": {},
     "output_type": "execute_result"
    }
   ],
   "source": [
    "sigfile = SignatureFile(GZip.open(infiles[:signatures]))"
   ]
  },
  {
   "cell_type": "code",
   "execution_count": 8,
   "metadata": {},
   "outputs": [
    {
     "name": "stdout",
     "output_type": "stream",
     "text": [
      "{\n",
      "  \"date_created\": \"2020-06-04\",\n",
      "  \"genome_set\": {\n",
      "    \"key\": \"midas/assembly/curated\",\n",
      "    \"name\": \"refseq_curated_2020\",\n",
      "    \"meta\": {\n",
      "      \"date_created\": \"2020-05-26\",\n",
      "      \"parent\": {\n",
      "        \"key\": \"midas/assembly/curated\",\n",
      "        \"key_version\": \"0.9\"\n",
      "      }\n",
      "    },\n",
      "    \"description\": \"Created 2020-05-26 by filtering version 0.9 by inclusion in refseq/assembly/all 1.1\",\n",
      "    \"key_version\": \"1.1\"\n",
      "  },\n",
      "  \"kmer_spec\": {\n",
      "    \"k\": 11,\n",
      "    \"prefix\": \"ATGAC\"\n",
      "  },\n",
      "  \"description\": \"Signatures for version 1.1 of curated genome set\"\n",
      "}\n"
     ]
    }
   ],
   "source": [
    "metadata = SignatureFiles.read_metadata(sigfile)\n",
    "JSON.print(metadata, 2)"
   ]
  },
  {
   "cell_type": "code",
   "execution_count": 9,
   "metadata": {},
   "outputs": [
    {
     "name": "stdout",
     "output_type": "stream",
     "text": [
      " 64.270878 seconds (53.57 k allocations: 1.355 GiB, 0.01% gc time)\n"
     ]
    }
   ],
   "source": [
    "@time sigs = SignatureArray(sigfile);"
   ]
  },
  {
   "cell_type": "code",
   "execution_count": 10,
   "metadata": {},
   "outputs": [
    {
     "data": {
      "text/plain": [
       "50752"
      ]
     },
     "execution_count": 10,
     "metadata": {},
     "output_type": "execute_result"
    }
   ],
   "source": [
    "nsigs = length(sigs)"
   ]
  },
  {
   "cell_type": "markdown",
   "metadata": {},
   "source": [
    "## Open mmapped file"
   ]
  },
  {
   "cell_type": "code",
   "execution_count": 17,
   "metadata": {},
   "outputs": [],
   "source": [
    "pw_data = Mmap.mmap(open(outfiles[:distances], read=true, write=true, create=true), Vector{Float32}, (npairs(nsigs),));"
   ]
  },
  {
   "cell_type": "code",
   "execution_count": 18,
   "metadata": {},
   "outputs": [],
   "source": [
    "pw_dists = TriMatrix(TriSymmetric{false}(), nsigs, pw_data);"
   ]
  },
  {
   "cell_type": "code",
   "execution_count": 34,
   "metadata": {},
   "outputs": [
    {
     "data": {
      "text/plain": [
       "0.0"
      ]
     },
     "execution_count": 34,
     "metadata": {},
     "output_type": "execute_result"
    }
   ],
   "source": [
    "sum(<(0), pw_data) / length(pw_data)"
   ]
  },
  {
   "cell_type": "markdown",
   "metadata": {},
   "source": [
    "## Calculate distances"
   ]
  },
  {
   "cell_type": "code",
   "execution_count": 24,
   "metadata": {},
   "outputs": [
    {
     "data": {
      "text/plain": [
       "154511"
      ]
     },
     "execution_count": 24,
     "metadata": {},
     "output_type": "execute_result"
    }
   ],
   "source": [
    "chunksize = 10000\n",
    "chunks = Tuple{Int, UnitRange{Int}}[]\n",
    "\n",
    "for i in 2:nsigs\n",
    "    nchunks = ceil(Int, i / chunksize)\n",
    "    n = ceil(Int, (i-1) / nchunks)\n",
    "    \n",
    "    for j in 1:n:(i-1)\n",
    "        push!(chunks, (i, j:min(j+n-1, i-1)))\n",
    "    end\n",
    "end\n",
    "\n",
    "shuffle!(chunks)\n",
    "\n",
    "length(chunks)"
   ]
  },
  {
   "cell_type": "code",
   "execution_count": 31,
   "metadata": {},
   "outputs": [
    {
     "name": "stderr",
     "output_type": "stream",
     "text": [
      "\u001b[32mProgress: 100%|█████████████████████████████████████████| Time: 0:01:42\u001b[39m\n"
     ]
    }
   ],
   "source": [
    "let\n",
    "    pbar = Progress(length(chunks))\n",
    "    \n",
    "    Threads.@threads for (i, jrange) in chunks\n",
    "        si = sigs[i]\n",
    "        for j in jrange\n",
    "            pw_dists[i, j] <= 0 && (pw_dists[i, j] = metric(si, sigs[j]))\n",
    "        end\n",
    "        Threads.threadid() == 1 && Mmap.sync!(pw_data)\n",
    "        next!(pbar)\n",
    "    end\n",
    "end"
   ]
  },
  {
   "cell_type": "code",
   "execution_count": 26,
   "metadata": {},
   "outputs": [],
   "source": [
    "Mmap.sync!(pw_data)"
   ]
  },
  {
   "cell_type": "code",
   "execution_count": 32,
   "metadata": {},
   "outputs": [
    {
     "data": {
      "text/plain": [
       "false"
      ]
     },
     "execution_count": 32,
     "metadata": {},
     "output_type": "execute_result"
    }
   ],
   "source": [
    "any(<(0), pw_data)"
   ]
  }
 ],
 "metadata": {
  "kernelspec": {
   "display_name": "Julia 1.4.2",
   "language": "julia",
   "name": "julia-1.4"
  },
  "language_info": {
   "file_extension": ".jl",
   "mimetype": "application/julia",
   "name": "julia",
   "version": "1.4.2"
  }
 },
 "nbformat": 4,
 "nbformat_minor": 4
}
