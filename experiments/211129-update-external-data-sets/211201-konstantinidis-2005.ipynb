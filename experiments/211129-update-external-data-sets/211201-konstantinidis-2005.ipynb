{
 "cells": [
  {
   "cell_type": "markdown",
   "id": "60cb98d6-66e8-4ab2-8601-d7bb1ce6853b",
   "metadata": {},
   "source": [
    "# 211201 Konstantinidis-2005"
   ]
  },
  {
   "cell_type": "code",
   "execution_count": 1,
   "id": "20d58b3b-b04b-4dbc-b04c-f2f08cfa64f4",
   "metadata": {},
   "outputs": [],
   "source": [
    "from pathlib import Path\n",
    "import json"
   ]
  },
  {
   "cell_type": "code",
   "execution_count": 2,
   "id": "48b998d0-7692-437f-8ba7-73609df4516f",
   "metadata": {},
   "outputs": [],
   "source": [
    "import pandas as pd\n",
    "from Bio import Entrez"
   ]
  },
  {
   "cell_type": "code",
   "execution_count": 3,
   "id": "5487c8ca-66d3-433c-915b-6d5395b55288",
   "metadata": {},
   "outputs": [],
   "source": [
    "from entrez_tools.db.assembly import format_summary_meta\n",
    "from entrez_tools.db.taxonomy import fetch_taxonomy_tree"
   ]
  },
  {
   "cell_type": "markdown",
   "id": "22d6a229-0ca0-4d31-a520-71f150943870",
   "metadata": {},
   "source": [
    "## Setup"
   ]
  },
  {
   "cell_type": "code",
   "execution_count": 4,
   "id": "02c9f768-1277-4bd7-ae48-746eff35a563",
   "metadata": {},
   "outputs": [],
   "source": [
    "DATESTR = '211201'\n",
    "NBNAME = DATESTR + '-konstantinidis-2005'"
   ]
  },
  {
   "cell_type": "code",
   "execution_count": 5,
   "id": "05116a97-eb9f-4a8f-90c0-271df9d6fa2b",
   "metadata": {},
   "outputs": [],
   "source": [
    "Entrez.email = 'mjlumpe@gmail.com'\n",
    "Entrez.api_key = 'adea2a53e6e44c3cc42c932f9ba4bdffa809'"
   ]
  },
  {
   "cell_type": "code",
   "execution_count": 6,
   "id": "2dd7fba6-72dc-49a3-85e5-983425f050df",
   "metadata": {},
   "outputs": [],
   "source": [
    "infiles = dict(\n",
    "    genomes_table=Path('../../data/external/konstantinidis-2005/210910-genomes.csv'),\n",
    "    genome_summaries=Path('/home/jared/projects/gambit/data/ncbi/assembly/esummary/'),\n",
    ")"
   ]
  },
  {
   "cell_type": "code",
   "execution_count": 7,
   "id": "39309d3b-b9df-45d3-9bca-a47ebd41f706",
   "metadata": {},
   "outputs": [],
   "source": [
    "intermediate_out = Path('data-intermediate') / NBNAME\n",
    "intermediate_out.mkdir(exist_ok=True)\n",
    "\n",
    "processed_out = Path('data-processed') / NBNAME\n",
    "processed_out.mkdir(exist_ok=True)\n",
    "\n",
    "outfiles = dict(\n",
    "    genome_table=processed_out / f'{DATESTR}-konstantinidis-2005-genomes.csv',\n",
    "    taxon_data=intermediate_out / f'{DATESTR}-konstantinidis-2005-taxa.json.gz',\n",
    "    taxon_table=processed_out / f'{DATESTR}-konstantinidis-2005-taxa.csv',\n",
    ")"
   ]
  },
  {
   "cell_type": "code",
   "execution_count": 8,
   "id": "a30bd5db-dc35-4aa9-b1a3-542132005e05",
   "metadata": {},
   "outputs": [],
   "source": [
    "tmpdir = Path('tmp')\n",
    "tmpdir.mkdir(exist_ok=True)"
   ]
  },
  {
   "cell_type": "markdown",
   "id": "d0b9db63-58e4-46ec-a1be-62d1feb39d47",
   "metadata": {},
   "source": [
    "## Load assembly data"
   ]
  },
  {
   "cell_type": "code",
   "execution_count": 9,
   "id": "6e8d1486-935b-43d3-9bd7-119062f23ee0",
   "metadata": {},
   "outputs": [],
   "source": [
    "genomes_df = pd.read_csv(infiles['genomes_table'])"
   ]
  },
  {
   "cell_type": "code",
   "execution_count": 10,
   "id": "67e74b85-8be6-4d3f-9a10-3fbeb7be5355",
   "metadata": {},
   "outputs": [],
   "source": [
    "summaries = dict()\n",
    "\n",
    "for acc in genomes_df['assembly']:\n",
    "    with open(infiles['genome_summaries'] / f'{acc}.json') as f:\n",
    "        summaries[acc] = json.load(f)\n",
    "        assert summaries[acc]['assemblyaccession'] == acc"
   ]
  },
  {
   "cell_type": "markdown",
   "id": "68696286-46c5-41eb-8fb2-88122a5d6d82",
   "metadata": {},
   "source": [
    "## Format assembly data"
   ]
  },
  {
   "cell_type": "code",
   "execution_count": 11,
   "id": "fd16d0ac-b0f7-4e9c-9cf7-45994df68076",
   "metadata": {},
   "outputs": [],
   "source": [
    "_rows = []\n",
    "\n",
    "for i, row in genomes_df.iterrows():\n",
    "    summary = summaries[row.assembly]\n",
    "    meta = format_summary_meta(summary['meta'])\n",
    "    \n",
    "    _rows.append(dict(\n",
    "        group=row['group'],\n",
    "        strain=row['strain'],\n",
    "        description=row['description'],\n",
    "        assembly_acc=row['assembly'],\n",
    "        assembly_uid=summary['uid'],\n",
    "        taxid=summary['taxid'],\n",
    "        organism=summary['organism'],\n",
    "        refseq_category=summary['refseq_category'],\n",
    "        assembly_status=meta['assembly-status'],\n",
    "        taxonomy_check_status=meta['taxonomy-check-status'],\n",
    "        ftppath_refseq=summary['ftppath_refseq'],\n",
    "    ))\n",
    "        \n",
    "genomes_df2 = pd.DataFrame.from_records(_rows)"
   ]
  },
  {
   "cell_type": "markdown",
   "id": "1686290b-3cc0-4944-a0ba-24b4d705d07d",
   "metadata": {},
   "source": [
    "### Inspect"
   ]
  },
  {
   "cell_type": "code",
   "execution_count": 12,
   "id": "77cd1b4f-364c-412a-81b3-22125a9a94af",
   "metadata": {},
   "outputs": [
    {
     "data": {
      "text/plain": [
       "taxonomy_check_status\n",
       "OK              63\n",
       "Inconclusive     5\n",
       "Failed           2\n",
       "dtype: int64"
      ]
     },
     "execution_count": 12,
     "metadata": {},
     "output_type": "execute_result"
    }
   ],
   "source": [
    "genomes_df2.value_counts('taxonomy_check_status')"
   ]
  },
  {
   "cell_type": "code",
   "execution_count": 13,
   "id": "6d049c9b-a87a-47c7-a077-965ca09dd869",
   "metadata": {},
   "outputs": [
    {
     "data": {
      "text/plain": [
       "assembly_status\n",
       "Complete Genome    70\n",
       "dtype: int64"
      ]
     },
     "execution_count": 13,
     "metadata": {},
     "output_type": "execute_result"
    }
   ],
   "source": [
    "genomes_df2.value_counts('assembly_status')"
   ]
  },
  {
   "cell_type": "markdown",
   "id": "65963d53-b33b-4df8-a4c5-50c97bd4cae1",
   "metadata": {},
   "source": [
    "### Save"
   ]
  },
  {
   "cell_type": "code",
   "execution_count": 14,
   "id": "3899c1f4-19aa-433f-89f1-45c730c6314d",
   "metadata": {},
   "outputs": [],
   "source": [
    "genomes_df2.to_csv(outfiles['genome_table'], index=False)"
   ]
  },
  {
   "cell_type": "markdown",
   "id": "7fc9a543-bba5-4439-ae0d-ae967e2ada6d",
   "metadata": {},
   "source": [
    "## Download taxonomy tree"
   ]
  },
  {
   "cell_type": "code",
   "execution_count": 15,
   "id": "c29b2b53-29bf-4e87-8377-9921d590d9c8",
   "metadata": {},
   "outputs": [],
   "source": [
    "taxa_file = tmpdir / 'taxa.json'\n",
    "\n",
    "if taxa_file.is_file():\n",
    "    with open(taxa_file) as f:\n",
    "        taxon_data = json.load(f)\n",
    "        \n",
    "else:\n",
    "    taxon_data = dict()"
   ]
  },
  {
   "cell_type": "code",
   "execution_count": 17,
   "id": "a7f27792-2b96-4e1b-ad8a-a1b56f79aadb",
   "metadata": {},
   "outputs": [],
   "source": [
    "fetch_taxonomy_tree(genomes_df2['taxid'], taxon_data);"
   ]
  },
  {
   "cell_type": "code",
   "execution_count": 18,
   "id": "2d60f75d-08b8-479b-8257-305fa57896ce",
   "metadata": {},
   "outputs": [],
   "source": [
    "with open(taxa_file, 'w') as f:\n",
    "    json.dump(taxon_data, f)"
   ]
  },
  {
   "cell_type": "code",
   "execution_count": 19,
   "id": "88859f2e-2a24-4ed8-a6bf-50542d8390ab",
   "metadata": {},
   "outputs": [
    {
     "data": {
      "text/plain": [
       "201"
      ]
     },
     "execution_count": 19,
     "metadata": {},
     "output_type": "execute_result"
    }
   ],
   "source": [
    "len(taxon_data)"
   ]
  },
  {
   "cell_type": "markdown",
   "id": "cbdfe131-4f0e-44e8-ae6d-3ca9af4ac7e3",
   "metadata": {},
   "source": [
    "### Archive"
   ]
  },
  {
   "cell_type": "code",
   "execution_count": 20,
   "id": "0eb37da2-a7ee-46ee-a2bd-8546da266e71",
   "metadata": {},
   "outputs": [],
   "source": [
    "! gzip -c {taxa_file} > {outfiles['taxon_data']}"
   ]
  },
  {
   "cell_type": "markdown",
   "id": "47fe1202-3efd-4416-a376-8924a6d7c679",
   "metadata": {},
   "source": [
    "## Taxonomy Table"
   ]
  },
  {
   "cell_type": "code",
   "execution_count": 21,
   "id": "0fdd4423-1930-4bb5-8184-c3e6aa7c0263",
   "metadata": {},
   "outputs": [],
   "source": [
    "taxa_df = pd.DataFrame.from_records(\n",
    "    [\n",
    "        dict(\n",
    "            taxid=t['TaxId'],\n",
    "            parent_taxid=t['ParentTaxId'],\n",
    "            name=t['ScientificName'],\n",
    "            rank=t['Rank'],\n",
    "        )\n",
    "        for t in taxon_data.values()\n",
    "    ],\n",
    "    index='taxid',\n",
    ")"
   ]
  },
  {
   "cell_type": "code",
   "execution_count": 22,
   "id": "e1ec0271-0230-4772-a2e1-2c3aadfd06f8",
   "metadata": {},
   "outputs": [],
   "source": [
    "taxa_df.to_csv(outfiles['taxon_table'])"
   ]
  }
 ],
 "metadata": {
  "kernelspec": {
   "display_name": "GAMBIT",
   "language": "python",
   "name": "gambit"
  },
  "language_info": {
   "codemirror_mode": {
    "name": "ipython",
    "version": 3
   },
   "file_extension": ".py",
   "mimetype": "text/x-python",
   "name": "python",
   "nbconvert_exporter": "python",
   "pygments_lexer": "ipython3",
   "version": "3.9.7"
  }
 },
 "nbformat": 4,
 "nbformat_minor": 5
}
