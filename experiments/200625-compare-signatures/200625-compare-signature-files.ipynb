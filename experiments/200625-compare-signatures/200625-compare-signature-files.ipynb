{
 "cells": [
  {
   "cell_type": "markdown",
   "metadata": {},
   "source": [
    "# 200625 Compare old/new genome signatures"
   ]
  },
  {
   "cell_type": "code",
   "execution_count": 1,
   "metadata": {},
   "outputs": [],
   "source": [
    "from gzip import GzipFile\n",
    "\n",
    "import numpy as np\n",
    "import matplotlib.pyplot as plt\n",
    "import seaborn as sns\n",
    "from tqdm import tqdm\n",
    "from IPython.display import JSON"
   ]
  },
  {
   "cell_type": "code",
   "execution_count": 2,
   "metadata": {},
   "outputs": [],
   "source": [
    "from midas.backports.signaturefile import SignatureFile"
   ]
  },
  {
   "cell_type": "markdown",
   "metadata": {},
   "source": [
    "## Config"
   ]
  },
  {
   "cell_type": "code",
   "execution_count": 3,
   "metadata": {},
   "outputs": [],
   "source": [
    "files = dict(\n",
    "    oldsigs=\"/Users/student/projects/midas/data/reference-db-v2/refseq_assemblies_ATGAC11_2_0.midas-signatures.gz\",\n",
    "    newsigs=\"/Users/student/projects/midas/data/2019_20/refseq_curated_1.1beta_200604.midas-signatures.gz\",\n",
    ")"
   ]
  },
  {
   "cell_type": "markdown",
   "metadata": {},
   "source": [
    "## Load signatures"
   ]
  },
  {
   "cell_type": "code",
   "execution_count": 4,
   "metadata": {},
   "outputs": [
    {
     "data": {
      "application/json": {
       "datecreated": "2017-07-29",
       "id": "midas/refseq-bacterial-assemblies",
       "kmerspec": {
        "k": 11,
        "prefix": "ATGAC"
       },
       "metadata_version": "1.0",
       "name": "RefSeq bacterial assemblies ATGAC/11",
       "version": "2.0"
      },
      "text/plain": [
       "<IPython.core.display.JSON object>"
      ]
     },
     "execution_count": 4,
     "metadata": {
      "application/json": {
       "expanded": false,
       "root": "root"
      }
     },
     "output_type": "execute_result"
    }
   ],
   "source": [
    "oldfile = SignatureFile(GzipFile(files['oldsigs']))\n",
    "JSON(oldfile.get_metadata())"
   ]
  },
  {
   "cell_type": "code",
   "execution_count": 5,
   "metadata": {},
   "outputs": [
    {
     "data": {
      "application/json": {
       "date_created": "2020-06-04",
       "description": "Signatures for version 1.1 of curated genome set",
       "genome_set": {
        "description": "Created 2020-05-26 by filtering version 0.9 by inclusion in refseq/assembly/all 1.1",
        "key": "midas/assembly/curated",
        "key_version": "1.1",
        "meta": {
         "date_created": "2020-05-26",
         "parent": {
          "key": "midas/assembly/curated",
          "key_version": "0.9"
         }
        },
        "name": "refseq_curated_2020"
       },
       "kmer_spec": {
        "k": 11,
        "prefix": "ATGAC"
       }
      },
      "text/plain": [
       "<IPython.core.display.JSON object>"
      ]
     },
     "execution_count": 5,
     "metadata": {
      "application/json": {
       "expanded": false,
       "root": "root"
      }
     },
     "output_type": "execute_result"
    }
   ],
   "source": [
    "newfile = SignatureFile(GzipFile(files['newsigs']))\n",
    "JSON(newfile.get_metadata())"
   ]
  },
  {
   "cell_type": "markdown",
   "metadata": {},
   "source": [
    "## Find common genomes by accession no"
   ]
  },
  {
   "cell_type": "code",
   "execution_count": 6,
   "metadata": {},
   "outputs": [],
   "source": [
    "oldaccs = list(oldfile.ids)\n",
    "newaccs = [k.split('/')[-1] for k in newfile.ids]"
   ]
  },
  {
   "cell_type": "code",
   "execution_count": 7,
   "metadata": {},
   "outputs": [
    {
     "data": {
      "text/plain": [
       "(23596, 74160, 50564, 50752, 188)"
      ]
     },
     "execution_count": 7,
     "metadata": {},
     "output_type": "execute_result"
    }
   ],
   "source": [
    "common_accs = sorted(set(oldaccs) & set(newaccs))\n",
    "len(oldaccs)-len(common_accs), len(oldaccs), len(common_accs), len(newaccs), len(newaccs)-len(common_accs)"
   ]
  },
  {
   "cell_type": "code",
   "execution_count": 8,
   "metadata": {},
   "outputs": [],
   "source": [
    "common_idxs_old = [oldaccs.index(a) for a in common_accs]\n",
    "oldsigs = oldfile.get_coords_collection(common_idxs_old)"
   ]
  },
  {
   "cell_type": "code",
   "execution_count": 9,
   "metadata": {},
   "outputs": [],
   "source": [
    "common_idxs_new = [newaccs.index(a) for a in common_accs]\n",
    "newsigs = newfile.get_coords_collection(common_idxs_new)"
   ]
  },
  {
   "cell_type": "markdown",
   "metadata": {},
   "source": [
    "## Compare signatures for common genomes"
   ]
  },
  {
   "cell_type": "code",
   "execution_count": 10,
   "metadata": {},
   "outputs": [
    {
     "name": "stderr",
     "output_type": "stream",
     "text": [
      "100%|██████████| 50564/50564 [01:08<00:00, 733.79it/s] \n"
     ]
    },
    {
     "data": {
      "text/plain": [
       "1"
      ]
     },
     "execution_count": 10,
     "metadata": {},
     "output_type": "execute_result"
    }
   ],
   "source": [
    "diff_accs = set()\n",
    "\n",
    "for i, acc in enumerate(tqdm(common_accs)):\n",
    "    if not np.array_equal(oldsigs[i], newsigs[i]):\n",
    "        diff_accs.add(acc)\n",
    "        \n",
    "len(diff_accs)"
   ]
  },
  {
   "cell_type": "markdown",
   "metadata": {},
   "source": [
    "There is one common genome for which the signatures differ. Look into exactly how much:"
   ]
  },
  {
   "cell_type": "code",
   "execution_count": 11,
   "metadata": {},
   "outputs": [
    {
     "data": {
      "text/plain": [
       "'GCF_000230875.1'"
      ]
     },
     "execution_count": 11,
     "metadata": {},
     "output_type": "execute_result"
    }
   ],
   "source": [
    "acc, = diff_accs\n",
    "i = common_accs.index(acc)\n",
    "acc"
   ]
  },
  {
   "cell_type": "code",
   "execution_count": 12,
   "metadata": {},
   "outputs": [],
   "source": [
    "from midas.cython.metrics import jaccard_coords"
   ]
  },
  {
   "cell_type": "code",
   "execution_count": 13,
   "metadata": {},
   "outputs": [
    {
     "data": {
      "text/plain": [
       "0.00037616491317749023"
      ]
     },
     "execution_count": 13,
     "metadata": {},
     "output_type": "execute_result"
    }
   ],
   "source": [
    "1 - jaccard_coords(oldsigs[i], newsigs[i])"
   ]
  },
  {
   "cell_type": "code",
   "execution_count": 14,
   "metadata": {},
   "outputs": [
    {
     "data": {
      "text/plain": [
       "(0, 10629, 4)"
      ]
     },
     "execution_count": 14,
     "metadata": {},
     "output_type": "execute_result"
    }
   ],
   "source": [
    "ni = len(set(oldsigs[i]) & set(newsigs[i]))\n",
    "len(oldsigs[i]) - ni, ni, len(newsigs[i]) - ni"
   ]
  }
 ],
 "metadata": {
  "kernelspec": {
   "display_name": "MIDAS v1",
   "language": "python",
   "name": "midas1"
  },
  "language_info": {
   "codemirror_mode": {
    "name": "ipython",
    "version": 3
   },
   "file_extension": ".py",
   "mimetype": "text/x-python",
   "name": "python",
   "nbconvert_exporter": "python",
   "pygments_lexer": "ipython3",
   "version": "3.6.10"
  }
 },
 "nbformat": 4,
 "nbformat_minor": 4
}
