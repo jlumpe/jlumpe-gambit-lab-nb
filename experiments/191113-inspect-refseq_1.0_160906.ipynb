{
 "cells": [
  {
   "cell_type": "code",
   "execution_count": 1,
   "metadata": {},
   "outputs": [],
   "source": [
    "from pathlib import Path\n",
    "import json"
   ]
  },
  {
   "cell_type": "code",
   "execution_count": 2,
   "metadata": {},
   "outputs": [],
   "source": [
    "datadir = Path('/Users/student/projects/midas/data/refseq_1.0_160906/')"
   ]
  },
  {
   "cell_type": "markdown",
   "metadata": {},
   "source": [
    "## Genomes"
   ]
  },
  {
   "cell_type": "code",
   "execution_count": 4,
   "metadata": {},
   "outputs": [
    {
     "data": {
      "text/plain": [
       "65561"
      ]
     },
     "execution_count": 4,
     "metadata": {},
     "output_type": "execute_result"
    }
   ],
   "source": [
    "genomefiles = list(datadir.joinpath('genomes/refseq/assembly').iterdir())\n",
    "len(genomefiles)"
   ]
  },
  {
   "cell_type": "code",
   "execution_count": 6,
   "metadata": {},
   "outputs": [
    {
     "data": {
      "text/plain": [
       "{'gb_id': 201221,\n",
       " 'is_assembled': None,\n",
       " 'gb_summary': {'assemblyclass': 'haploid',\n",
       "  'organism': 'Mycobacterium tuberculosis (high GC Gram+)',\n",
       "  'propertylist': ['full-genome-representation',\n",
       "   'latest',\n",
       "   'latest_genbank',\n",
       "   'latest_refseq',\n",
       "   'wgs'],\n",
       "  'ensemblname': '',\n",
       "  'assemblytype': 'haploid',\n",
       "  'assemblyaccession': 'GCF_000735595.1',\n",
       "  'assemblydescription': '',\n",
       "  'meta': ' &lt;Stats&gt; &lt;Stat category=\"alt_loci_count\" sequence_tag=\"all\"&gt;0&lt;/Stat&gt; &lt;Stat category=\"chromosome_count\" sequence_tag=\"all\"&gt;0&lt;/Stat&gt; &lt;Stat category=\"contig_count\" sequence_tag=\"all\"&gt;190&lt;/Stat&gt; &lt;Stat category=\"contig_l50\" sequence_tag=\"all\"&gt;29&lt;/Stat&gt; &lt;Stat category=\"contig_n50\" sequence_tag=\"all\"&gt;47738&lt;/Stat&gt; &lt;Stat category=\"non_chromosome_replicon_count\" sequence_tag=\"all\"&gt;0&lt;/Stat&gt; &lt;Stat category=\"replicon_count\" sequence_tag=\"all\"&gt;0&lt;/Stat&gt; &lt;Stat category=\"scaffold_count\" sequence_tag=\"all\"&gt;190&lt;/Stat&gt; &lt;Stat category=\"scaffold_count\" sequence_tag=\"placed\"&gt;0&lt;/Stat&gt; &lt;Stat category=\"scaffold_count\" sequence_tag=\"unlocalized\"&gt;0&lt;/Stat&gt; &lt;Stat category=\"scaffold_count\" sequence_tag=\"unplaced\"&gt;190&lt;/Stat&gt; &lt;Stat category=\"scaffold_l50\" sequence_tag=\"all\"&gt;29&lt;/Stat&gt; &lt;Stat category=\"scaffold_n50\" sequence_tag=\"all\"&gt;47738&lt;/Stat&gt; &lt;Stat category=\"total_length\" sequence_tag=\"all\"&gt;4443031&lt;/Stat&gt; &lt;Stat category=\"ungapped_length\" sequence_tag=\"all\"&gt;4443031&lt;/Stat&gt; &lt;/Stats&gt; &lt;FtpSites&gt;   &lt;FtpPath type=\"GenBank\"&gt;ftp://ftp.ncbi.nlm.nih.gov/genomes/all/GCA_000735595.1_ASM73559v1&lt;/FtpPath&gt;   &lt;FtpPath type=\"RefSeq\"&gt;ftp://ftp.ncbi.nlm.nih.gov/genomes/all/GCF_000735595.1_ASM73559v1&lt;/FtpPath&gt; &lt;/FtpSites&gt; &lt;assembly-level&gt;1&lt;/assembly-level&gt; &lt;assembly-status&gt;Contig&lt;/assembly-status&gt; &lt;representative-status&gt;na&lt;/representative-status&gt; &lt;submitter-organization&gt;National Health Research Institutes&lt;/submitter-organization&gt;    ',\n",
       "  'lastupdatedate': '2015/03/02 00:00',\n",
       "  'refseq_category': 'na',\n",
       "  'rsuid': '1648218',\n",
       "  'lastmajorreleaseaccession': 'GCF_000735595.1',\n",
       "  'anomalouslist': [],\n",
       "  'coverage': '400',\n",
       "  'uid': '201221',\n",
       "  'taxid': '1773',\n",
       "  'gb_projects': ['248335'],\n",
       "  'exclfromrefseq': [],\n",
       "  'wgs': 'JNGF01',\n",
       "  'releaselevel': 'Major',\n",
       "  'submissiondate': '2014/07/28 00:00',\n",
       "  'rs_bioprojects': [{'bioprojectaccn': 'PRJNA224116',\n",
       "    'bioprojectid': 224116}],\n",
       "  'synonym': {'genbank': 'GCA_000735595.1',\n",
       "   'similarity': 'identical',\n",
       "   'refseq': 'GCF_000735595.1'},\n",
       "  'submitterorganization': 'National Health Research Institutes',\n",
       "  'sortorder': '5C70007355959898',\n",
       "  'assemblystatus': 'Contig',\n",
       "  'assemblyname': 'ASM73559v1',\n",
       "  'speciestaxid': '1773',\n",
       "  'rs_projects': ['224116'],\n",
       "  'gbuid': '1181078',\n",
       "  'gb_bioprojects': [{'bioprojectaccn': 'PRJNA248335',\n",
       "    'bioprojectid': 248335}],\n",
       "  'primary': '1648208',\n",
       "  'ucscname': '',\n",
       "  'speciesname': 'Mycobacterium tuberculosis',\n",
       "  'asmreleasedate': '2014/07/28 00:00',\n",
       "  'biosampleaccn': 'SAMN02797828',\n",
       "  'partialgenomerepresentation': 'false',\n",
       "  'biosampleid': '2797828',\n",
       "  'fromtype': '',\n",
       "  'seqreleasedate': '2014/07/28 00:00',\n",
       "  'chainid': '735595',\n",
       "  'ncbireleasedate': '2014/07/28 00:00',\n",
       "  'asmupdatedate': '2015/03/02 00:00',\n",
       "  'biosource': {'infraspecieslist': [{'sub_value': 'A2',\n",
       "     'sub_type': 'strain'}],\n",
       "   'isolate': '',\n",
       "   'sex': ''}},\n",
       " 'key': 'refseq/assembly/GCF_000735595.1',\n",
       " 'key_version': '1.0',\n",
       " 'gb_tax_summary': {'commonname': '',\n",
       "  'uid': '1773',\n",
       "  'akataxid': '',\n",
       "  'genbankdivision': 'Bacteria',\n",
       "  'status': 'active',\n",
       "  'modificationdate': '2015/09/16 00:00',\n",
       "  'rank': 'species',\n",
       "  'division': 'high GC Gram+',\n",
       "  'taxid': 1773,\n",
       "  'genus': 'Mycobacterium',\n",
       "  'subsp': '',\n",
       "  'species': 'tuberculosis',\n",
       "  'scientificname': 'Mycobacterium tuberculosis'},\n",
       " 'description': '[GCF_000735595.1] Mycobacterium tuberculosis (high GC Gram+)',\n",
       " 'meta': {'refseq_sequence_ftp_url': 'ftp://ftp.ncbi.nlm.nih.gov/genomes/all/GCF_000735595.1_ASM73559v1',\n",
       "  'gb_summary_meta': '<meta> <Stats> <Stat category=\"alt_loci_count\" sequence_tag=\"all\">0</Stat> <Stat category=\"chromosome_count\" sequence_tag=\"all\">0</Stat> <Stat category=\"contig_count\" sequence_tag=\"all\">190</Stat> <Stat category=\"contig_l50\" sequence_tag=\"all\">29</Stat> <Stat category=\"contig_n50\" sequence_tag=\"all\">47738</Stat> <Stat category=\"non_chromosome_replicon_count\" sequence_tag=\"all\">0</Stat> <Stat category=\"replicon_count\" sequence_tag=\"all\">0</Stat> <Stat category=\"scaffold_count\" sequence_tag=\"all\">190</Stat> <Stat category=\"scaffold_count\" sequence_tag=\"placed\">0</Stat> <Stat category=\"scaffold_count\" sequence_tag=\"unlocalized\">0</Stat> <Stat category=\"scaffold_count\" sequence_tag=\"unplaced\">190</Stat> <Stat category=\"scaffold_l50\" sequence_tag=\"all\">29</Stat> <Stat category=\"scaffold_n50\" sequence_tag=\"all\">47738</Stat> <Stat category=\"total_length\" sequence_tag=\"all\">4443031</Stat> <Stat category=\"ungapped_length\" sequence_tag=\"all\">4443031</Stat> </Stats> <FtpSites>   <FtpPath type=\"GenBank\">ftp://ftp.ncbi.nlm.nih.gov/genomes/all/GCA_000735595.1_ASM73559v1</FtpPath>   <FtpPath type=\"RefSeq\">ftp://ftp.ncbi.nlm.nih.gov/genomes/all/GCF_000735595.1_ASM73559v1</FtpPath> </FtpSites> <assembly-level>1</assembly-level> <assembly-status>Contig</assembly-status> <representative-status>na</representative-status> <submitter-organization>National Health Research Institutes</submitter-organization>    </meta>',\n",
       "  'sequence_source': {'url': 'ftp://ftp.ncbi.nlm.nih.gov/genomes/all/GCF_000735595.1_ASM73559v1/GCF_000735595.1_ASM73559v1_genomic.fna.gz',\n",
       "   'format': 'fasta',\n",
       "   'compression': 'gzip'},\n",
       "  'refseq_ftp_dir_url': 'ftp://ftp.ncbi.nlm.nih.gov/genomes/all/GCF_000735595.1_ASM73559v1'},\n",
       " 'gb_db': 'assembly',\n",
       " 'gb_acc': 'GCF_000735595.1',\n",
       " 'gb_taxid': 1773}"
      ]
     },
     "execution_count": 6,
     "metadata": {},
     "output_type": "execute_result"
    }
   ],
   "source": [
    "with genomefiles[0].open() as f:\n",
    "    genomedata = json.load(f)\n",
    "genomedata"
   ]
  },
  {
   "cell_type": "markdown",
   "metadata": {},
   "source": [
    "## Refseq"
   ]
  },
  {
   "cell_type": "code",
   "execution_count": null,
   "metadata": {},
   "outputs": [],
   "source": [
    "with open(datadir / 'genome_sets/refseq/assembly/all') as f:\n",
    "    refseqdata = json.load(f)"
   ]
  },
  {
   "cell_type": "code",
   "execution_count": null,
   "metadata": {},
   "outputs": [],
   "source": [
    "print(refseqdata['name'])\n",
    "print(refseqdata['key'], data['key_version'])\n",
    "print(refseqdata['description'])"
   ]
  },
  {
   "cell_type": "code",
   "execution_count": null,
   "metadata": {},
   "outputs": [],
   "source": [
    "len(refseqdata['annotations'].items())"
   ]
  },
  {
   "cell_type": "markdown",
   "metadata": {},
   "source": [
    "## MIDAS"
   ]
  },
  {
   "cell_type": "code",
   "execution_count": null,
   "metadata": {},
   "outputs": [],
   "source": [
    "with open(datadir / 'genome_sets/midas/assembly/curated') as f:\n",
    "    midasdata = json.load(f)"
   ]
  },
  {
   "cell_type": "code",
   "execution_count": null,
   "metadata": {},
   "outputs": [],
   "source": [
    "print(midasdata['name'])\n",
    "print(midasdata['key'], data['key_version'])\n",
    "print(midasdata['description'])"
   ]
  },
  {
   "cell_type": "code",
   "execution_count": null,
   "metadata": {},
   "outputs": [],
   "source": [
    "len(midasdata['annotations'].items())"
   ]
  },
  {
   "cell_type": "markdown",
   "metadata": {},
   "source": [
    "## Compare"
   ]
  },
  {
   "cell_type": "code",
   "execution_count": null,
   "metadata": {},
   "outputs": [],
   "source": [
    "refseqkeys = set(refseqdata['annotations'].keys())"
   ]
  },
  {
   "cell_type": "code",
   "execution_count": null,
   "metadata": {},
   "outputs": [],
   "source": [
    "midaskeys = set(midasdata['annotations'].keys())"
   ]
  },
  {
   "cell_type": "code",
   "execution_count": null,
   "metadata": {},
   "outputs": [],
   "source": [
    "midaskeys.issubset(refseqkeys)"
   ]
  },
  {
   "cell_type": "code",
   "execution_count": null,
   "metadata": {},
   "outputs": [],
   "source": [
    "diffkeys = [k for k in midaskeys if refseqdata['annotations'][k] != midasdata['annotations'][k]]\n",
    "len(diffkeys)"
   ]
  },
  {
   "cell_type": "code",
   "execution_count": null,
   "metadata": {},
   "outputs": [],
   "source": [
    "for k in sorted(diffkeys):\n",
    "    print(k)\n",
    "    d1 = dict(refseqdata['annotations'][k])\n",
    "    d2 = dict(midasdata['annotations'][k])\n",
    "    for k2 in sorted(d1):\n",
    "        if d1[k2] != d2[k2]:\n",
    "            print('  ' + k2)\n",
    "            print('    ' + d1[k2])\n",
    "            print('    ' + d2[k2])"
   ]
  }
 ],
 "metadata": {
  "kernelspec": {
   "display_name": "midas2019",
   "language": "python",
   "name": "midas2019"
  },
  "language_info": {
   "codemirror_mode": {
    "name": "ipython",
    "version": 3
   },
   "file_extension": ".py",
   "mimetype": "text/x-python",
   "name": "python",
   "nbconvert_exporter": "python",
   "pygments_lexer": "ipython3",
   "version": "3.6.0"
  }
 },
 "nbformat": 4,
 "nbformat_minor": 4
}
