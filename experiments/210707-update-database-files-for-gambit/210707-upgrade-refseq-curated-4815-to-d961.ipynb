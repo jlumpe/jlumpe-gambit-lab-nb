{
 "cells": [
  {
   "cell_type": "markdown",
   "id": "e2b9b836",
   "metadata": {},
   "source": [
    "# 210707 Upgrade refseq-curated 4815 to d961"
   ]
  },
  {
   "cell_type": "code",
   "execution_count": 1,
   "id": "fe7b50ce",
   "metadata": {},
   "outputs": [],
   "source": [
    "import sqlite3\n",
    "from pathlib import Path\n",
    "import json"
   ]
  },
  {
   "cell_type": "code",
   "execution_count": 2,
   "id": "40bcc135",
   "metadata": {},
   "outputs": [],
   "source": [
    "from sqlalchemy import create_engine\n",
    "from sqlalchemy.orm import sessionmaker\n",
    "import alembic.command as cmd\n",
    "\n",
    "import pandas as pd"
   ]
  },
  {
   "cell_type": "code",
   "execution_count": 3,
   "id": "e6c6a494",
   "metadata": {},
   "outputs": [],
   "source": [
    "from midas.db.migrate import get_alembic_config\n",
    "from midas.db.models import *\n",
    "from midas.db.migrate import get_alembic_config"
   ]
  },
  {
   "cell_type": "markdown",
   "id": "3f0549a8",
   "metadata": {},
   "source": [
    "## Setup"
   ]
  },
  {
   "cell_type": "code",
   "execution_count": 4,
   "id": "ba8fda42",
   "metadata": {},
   "outputs": [],
   "source": [
    "TODAY = '2021-07-07'\n",
    "DATESTR = '210707'"
   ]
  },
  {
   "cell_type": "code",
   "execution_count": 5,
   "id": "8b572bae",
   "metadata": {},
   "outputs": [],
   "source": [
    "db_dir = Path('/home/jared/projects/midas/data/databases/refseq-curated/2.0')\n",
    "\n",
    "src_file = db_dir / 'refseq-curated-2.0-r2.db'\n",
    "dst_file = db_dir / f'refseq-curated-2.0-r3-{DATESTR}.db'"
   ]
  },
  {
   "cell_type": "markdown",
   "id": "89ff39d1",
   "metadata": {},
   "source": [
    "## Read source database into memory"
   ]
  },
  {
   "cell_type": "code",
   "execution_count": 6,
   "id": "e5220720",
   "metadata": {},
   "outputs": [],
   "source": [
    "src_connection = sqlite3.connect(str(src_file))"
   ]
  },
  {
   "cell_type": "code",
   "execution_count": 7,
   "id": "07e5cb13",
   "metadata": {},
   "outputs": [],
   "source": [
    "memory_connection = sqlite3.connect(':memory:')"
   ]
  },
  {
   "cell_type": "code",
   "execution_count": 8,
   "id": "d08ae69f",
   "metadata": {},
   "outputs": [],
   "source": [
    "src_connection.backup(memory_connection)"
   ]
  },
  {
   "cell_type": "code",
   "execution_count": 9,
   "id": "1ef4e96f",
   "metadata": {},
   "outputs": [],
   "source": [
    "src_connection.close()"
   ]
  },
  {
   "cell_type": "markdown",
   "id": "882a29a6",
   "metadata": {},
   "source": [
    "## Perform migration in memory"
   ]
  },
  {
   "cell_type": "code",
   "execution_count": 10,
   "id": "e20830c4",
   "metadata": {},
   "outputs": [],
   "source": [
    "# https://stackoverflow.com/questions/61991050/connect-to-sqlite3-connection-using-sqlalchemy\n",
    "engine = create_engine('sqlite://', creator = lambda: memory_connection)"
   ]
  },
  {
   "cell_type": "code",
   "execution_count": 11,
   "id": "6d06fe70",
   "metadata": {},
   "outputs": [],
   "source": [
    "config = get_alembic_config(engine)"
   ]
  },
  {
   "cell_type": "code",
   "execution_count": 12,
   "id": "075f8be0",
   "metadata": {},
   "outputs": [
    {
     "name": "stderr",
     "output_type": "stream",
     "text": [
      "INFO  [alembic.runtime.migration] Context impl SQLiteImpl.\n",
      "INFO  [alembic.runtime.migration] Will assume non-transactional DDL.\n"
     ]
    },
    {
     "name": "stdout",
     "output_type": "stream",
     "text": [
      "4815cccfb01b\n"
     ]
    }
   ],
   "source": [
    "cmd.current(config)"
   ]
  },
  {
   "cell_type": "code",
   "execution_count": 13,
   "id": "101e14c9",
   "metadata": {},
   "outputs": [
    {
     "name": "stderr",
     "output_type": "stream",
     "text": [
      "INFO  [alembic.runtime.migration] Context impl SQLiteImpl.\n",
      "INFO  [alembic.runtime.migration] Will assume non-transactional DDL.\n",
      "INFO  [alembic.runtime.migration] Running upgrade 4815cccfb01b -> d961d0698083, Remove unneeded columns\n"
     ]
    }
   ],
   "source": [
    "cmd.upgrade(config, 'd961d0698083')"
   ]
  },
  {
   "cell_type": "markdown",
   "id": "32ead557",
   "metadata": {},
   "source": [
    "## Fix genome accession nos"
   ]
  },
  {
   "cell_type": "code",
   "execution_count": 14,
   "id": "8d717621",
   "metadata": {},
   "outputs": [
    {
     "data": {
      "text/plain": [
       "<sqlalchemy.engine.cursor.LegacyCursorResult at 0x7f5e8435b5b0>"
      ]
     },
     "execution_count": 14,
     "metadata": {},
     "output_type": "execute_result"
    }
   ],
   "source": [
    "engine.execute('UPDATE genomes SET refseq_acc = genbank_acc;')"
   ]
  },
  {
   "cell_type": "code",
   "execution_count": 15,
   "id": "2d8bc3cc",
   "metadata": {},
   "outputs": [
    {
     "data": {
      "text/plain": [
       "<sqlalchemy.engine.cursor.LegacyCursorResult at 0x7f5e5554afa0>"
      ]
     },
     "execution_count": 15,
     "metadata": {},
     "output_type": "execute_result"
    }
   ],
   "source": [
    "engine.execute('UPDATE genomes SET genbank_acc = NULL;')"
   ]
  },
  {
   "cell_type": "markdown",
   "id": "e8e12e5d",
   "metadata": {},
   "source": [
    "## Update metadata"
   ]
  },
  {
   "cell_type": "code",
   "execution_count": 16,
   "id": "e8ed81d9",
   "metadata": {},
   "outputs": [
    {
     "data": {
      "text/plain": [
       "{'key': 'midas/refseq-bacterial-assemblies/curated',\n",
       " 'version': '2.0',\n",
       " 'id': 3,\n",
       " 'name': 'MIDAS curated RefSeq bacterial WGS assemblies',\n",
       " 'description': 'Curated subset of RefSeq bacterial genomes in NCBI assembly database',\n",
       " 'extra': None}"
      ]
     },
     "execution_count": 16,
     "metadata": {},
     "output_type": "execute_result"
    }
   ],
   "source": [
    "dict(next(engine.execute('SELECT * FROM reference_genome_sets LIMIT 1')))"
   ]
  },
  {
   "cell_type": "code",
   "execution_count": 17,
   "id": "d5d7cfbf",
   "metadata": {},
   "outputs": [],
   "source": [
    "revision_data = dict(\n",
    "    num=3,\n",
    "    date_created=TODAY,\n",
    "    description='Updated to alembic revision d961d0698083. Removed Entrez ESummary data. Fixed refseq_acc values incorrectly stored in genbank_acc column.',\n",
    ")"
   ]
  },
  {
   "cell_type": "code",
   "execution_count": 18,
   "id": "259991e3",
   "metadata": {},
   "outputs": [
    {
     "data": {
      "text/plain": [
       "<sqlalchemy.engine.cursor.LegacyCursorResult at 0x7f5e5546a550>"
      ]
     },
     "execution_count": 18,
     "metadata": {},
     "output_type": "execute_result"
    }
   ],
   "source": [
    "extra = dict(revision=revision_data)\n",
    "extra_json = json.dumps(extra)\n",
    "\n",
    "engine.execute('UPDATE reference_genome_sets SET extra = :e', dict(e=extra_json))"
   ]
  },
  {
   "cell_type": "markdown",
   "id": "a58233f5",
   "metadata": {},
   "source": [
    "## Write output to file"
   ]
  },
  {
   "cell_type": "code",
   "execution_count": 19,
   "id": "55a38e1c",
   "metadata": {},
   "outputs": [],
   "source": [
    "if dst_file.is_file():\n",
    "    dst_file.unlink()"
   ]
  },
  {
   "cell_type": "code",
   "execution_count": 20,
   "id": "dc858663",
   "metadata": {},
   "outputs": [
    {
     "data": {
      "text/plain": [
       "<sqlite3.Cursor at 0x7f5e5547d880>"
      ]
     },
     "execution_count": 20,
     "metadata": {},
     "output_type": "execute_result"
    }
   ],
   "source": [
    "memory_connection.execute(f'VACUUM INTO \"{dst_file}\"')"
   ]
  }
 ],
 "metadata": {
  "kernelspec": {
   "display_name": "midas-2.4",
   "language": "python",
   "name": "midas-2.4"
  },
  "language_info": {
   "codemirror_mode": {
    "name": "ipython",
    "version": 3
   },
   "file_extension": ".py",
   "mimetype": "text/x-python",
   "name": "python",
   "nbconvert_exporter": "python",
   "pygments_lexer": "ipython3",
   "version": "3.9.5"
  }
 },
 "nbformat": 4,
 "nbformat_minor": 5
}
