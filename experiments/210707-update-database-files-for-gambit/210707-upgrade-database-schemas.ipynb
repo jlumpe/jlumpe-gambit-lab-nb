{
 "cells": [
  {
   "cell_type": "markdown",
   "id": "175ce0ed",
   "metadata": {},
   "source": [
    "# 210707 Upgrade-database-schemas"
   ]
  },
  {
   "cell_type": "code",
   "execution_count": null,
   "id": "09a54215",
   "metadata": {},
   "outputs": [],
   "source": [
    "from pathlib import Path\n",
    "from contextlib import redirect_stderr\n",
    "import sys"
   ]
  },
  {
   "cell_type": "code",
   "execution_count": 2,
   "id": "d7db731e",
   "metadata": {},
   "outputs": [],
   "source": [
    "from sqlalchemy import create_engine\n",
    "from sqlalchemy.orm import sessionmaker\n",
    "import alembic.command as cmd"
   ]
  },
  {
   "cell_type": "code",
   "execution_count": 3,
   "id": "36085aba",
   "metadata": {},
   "outputs": [],
   "source": [
    "from midas.db.migrate import get_alembic_config\n",
    "from midas.db.models import *\n",
    "from midas.db.migrate import get_alembic_config, current_revision"
   ]
  },
  {
   "cell_type": "markdown",
   "id": "1797d9da",
   "metadata": {},
   "source": [
    "## Setup"
   ]
  },
  {
   "cell_type": "code",
   "execution_count": 4,
   "id": "eecd5fd4",
   "metadata": {},
   "outputs": [],
   "source": [
    "TODAY = '2021-07-07'\n",
    "DATESTR = '210707'"
   ]
  },
  {
   "cell_type": "code",
   "execution_count": 5,
   "id": "5b10d91a",
   "metadata": {},
   "outputs": [],
   "source": [
    "testdb_dir = Path('/home/jared/projects/midas/data/databases/testdb_210126')\n",
    "refseq_dir = Path('/home/jared/projects/midas/data/databases/refseq-curated/2.0')\n",
    "\n",
    "src_files = dict(\n",
    "    testdb=testdb_dir / 'testdb_210126.db',\n",
    "    refseq=refseq_dir / 'refseq-curated-2.0-r3-210707.db',\n",
    ")\n",
    "\n",
    "dst_files = dict(\n",
    "    testdb=testdb_dir / f'testdb_210126-r2-{DATESTR}.db',\n",
    "    refseq=refseq_dir / f'refseq-curated-2.0-r4-{DATESTR}.db',\n",
    ")"
   ]
  },
  {
   "cell_type": "markdown",
   "id": "da8c1513",
   "metadata": {},
   "source": [
    "## Run upgrades"
   ]
  },
  {
   "cell_type": "code",
   "execution_count": 6,
   "id": "d16e237a",
   "metadata": {},
   "outputs": [
    {
     "name": "stdout",
     "output_type": "stream",
     "text": [
      "******\n",
      "testdb\n",
      "******\n",
      "\n",
      "Copying from src...\n",
      "Current revision: d961d0698083\n",
      "Upgrading...\n",
      "INFO  [alembic.runtime.migration] Context impl SQLiteImpl.\n",
      "INFO  [alembic.runtime.migration] Will assume non-transactional DDL.\n",
      "INFO  [alembic.runtime.migration] Running upgrade d961d0698083 -> 7c1a8837b74d, Rename Genome columns\n",
      "INFO  [alembic.runtime.migration] Running upgrade 7c1a8837b74d -> 1c060eb1fc83, AnnotatedGenome taxonomy relationship\n",
      "INFO  [alembic.runtime.migration] Running upgrade 1c060eb1fc83 -> b1c356705db2, Rename ReferenceGenomeSet table and relationships\n",
      "INFO  [alembic.runtime.migration] Running upgrade b1c356705db2 -> c43540b80d50, Update key version cols\n",
      "\n",
      "\n",
      "\n",
      "\n",
      "******\n",
      "refseq\n",
      "******\n",
      "\n",
      "Copying from src...\n",
      "INFO  [alembic.runtime.migration] Context impl SQLiteImpl.\n",
      "INFO  [alembic.runtime.migration] Will assume non-transactional DDL.\n",
      "Current revision: d961d0698083\n",
      "Upgrading...\n",
      "INFO  [alembic.runtime.migration] Context impl SQLiteImpl.\n",
      "INFO  [alembic.runtime.migration] Will assume non-transactional DDL.\n",
      "INFO  [alembic.runtime.migration] Running upgrade d961d0698083 -> 7c1a8837b74d, Rename Genome columns\n",
      "INFO  [alembic.runtime.migration] Running upgrade 7c1a8837b74d -> 1c060eb1fc83, AnnotatedGenome taxonomy relationship\n",
      "INFO  [alembic.runtime.migration] Running upgrade 1c060eb1fc83 -> b1c356705db2, Rename ReferenceGenomeSet table and relationships\n",
      "INFO  [alembic.runtime.migration] Running upgrade b1c356705db2 -> c43540b80d50, Update key version cols\n",
      "\n",
      "\n",
      "\n",
      "\n"
     ]
    }
   ],
   "source": [
    "with redirect_stderr(sys.stdout):\n",
    "    for key in ['testdb', 'refseq']:\n",
    "        src = src_files[key]\n",
    "        dst = dst_files[key]\n",
    "\n",
    "        print('*' * len(key))\n",
    "        print(key)\n",
    "        print('*' * len(key))\n",
    "        print()\n",
    "\n",
    "        print('Copying from src...')\n",
    "        !cp {src} {dst}\n",
    "        engine = create_engine(f'sqlite:///{dst}')\n",
    "\n",
    "        print('Current revision:', current_revision(engine))\n",
    "\n",
    "        print('Upgrading...')\n",
    "        config = get_alembic_config(engine)\n",
    "        cmd.upgrade(config, 'head')\n",
    "\n",
    "        print('\\n' * 3)"
   ]
  },
  {
   "cell_type": "markdown",
   "id": "b479eddf",
   "metadata": {},
   "source": [
    "## Update metadata"
   ]
  },
  {
   "cell_type": "markdown",
   "id": "f864c81a",
   "metadata": {},
   "source": [
    "### Testdb"
   ]
  },
  {
   "cell_type": "code",
   "execution_count": 7,
   "id": "6a58a48f",
   "metadata": {},
   "outputs": [],
   "source": [
    "testdb_engine = create_engine(f'sqlite:///{dst_files[\"testdb\"]}')"
   ]
  },
  {
   "cell_type": "code",
   "execution_count": 8,
   "id": "50453f80",
   "metadata": {},
   "outputs": [],
   "source": [
    "testdb_session = sessionmaker(testdb_engine)()"
   ]
  },
  {
   "cell_type": "markdown",
   "id": "e53a9ace",
   "metadata": {},
   "source": [
    "#### Genome set"
   ]
  },
  {
   "cell_type": "code",
   "execution_count": 9,
   "id": "39fbf937",
   "metadata": {},
   "outputs": [
    {
     "data": {
      "text/plain": [
       "{'_sa_instance_state': <sqlalchemy.orm.state.InstanceState at 0x7feeb543e130>,\n",
       " 'version': '1.0',\n",
       " 'key': 'midas/test/testdb_210126',\n",
       " 'description': 'Database containing artificial genomes, to be used for end-to-end testing',\n",
       " 'extra': {'date_created': '2021-01-26'},\n",
       " 'id': 1,\n",
       " 'name': 'testdb_210126'}"
      ]
     },
     "execution_count": 9,
     "metadata": {},
     "output_type": "execute_result"
    }
   ],
   "source": [
    "testdb_gset = testdb_session.query(ReferenceGenomeSet).one()\n",
    "testdb_gset.__dict__"
   ]
  },
  {
   "cell_type": "code",
   "execution_count": 10,
   "id": "236e8de1",
   "metadata": {},
   "outputs": [],
   "source": [
    "testdb_gset.key = 'gambit/testdb_210126'"
   ]
  },
  {
   "cell_type": "code",
   "execution_count": 11,
   "id": "d396a392",
   "metadata": {},
   "outputs": [],
   "source": [
    "testdb_extra = dict(testdb_gset.extra)\n",
    "testdb_extra['revision'] = dict(\n",
    "    num=2,\n",
    "    date_created=TODAY,\n",
    "    description='Upgraded schema to latest revision c43540b80d50, removed prefix from genome keys.'\n",
    ")\n",
    "\n",
    "testdb_gset.extra = testdb_extra"
   ]
  },
  {
   "cell_type": "code",
   "execution_count": 12,
   "id": "69fef218",
   "metadata": {},
   "outputs": [],
   "source": [
    "testdb_session.commit()"
   ]
  },
  {
   "cell_type": "markdown",
   "id": "bf498f4d",
   "metadata": {},
   "source": [
    "#### Genome keys"
   ]
  },
  {
   "cell_type": "code",
   "execution_count": 13,
   "id": "e015c68b",
   "metadata": {},
   "outputs": [],
   "source": [
    "for g in testdb_session.query(Genome):\n",
    "    assert g.key.startswith('midas/testdb_210126/')\n",
    "    g.key = g.key.split('/')[-1]"
   ]
  },
  {
   "cell_type": "code",
   "execution_count": 14,
   "id": "3069442d",
   "metadata": {},
   "outputs": [],
   "source": [
    "testdb_session.commit()"
   ]
  },
  {
   "cell_type": "markdown",
   "id": "5148e895",
   "metadata": {},
   "source": [
    "#### Finish"
   ]
  },
  {
   "cell_type": "code",
   "execution_count": 15,
   "id": "d50979b9",
   "metadata": {},
   "outputs": [
    {
     "data": {
      "text/plain": [
       "<sqlalchemy.engine.cursor.LegacyCursorResult at 0x7feeb52b71c0>"
      ]
     },
     "execution_count": 15,
     "metadata": {},
     "output_type": "execute_result"
    }
   ],
   "source": [
    "testdb_engine.execute('VACUUM;')"
   ]
  },
  {
   "cell_type": "markdown",
   "id": "d342db58",
   "metadata": {},
   "source": [
    "### Refseq"
   ]
  },
  {
   "cell_type": "code",
   "execution_count": 16,
   "id": "05073704",
   "metadata": {},
   "outputs": [],
   "source": [
    "refseq_engine = create_engine(f'sqlite:///{dst_files[\"refseq\"]}')"
   ]
  },
  {
   "cell_type": "code",
   "execution_count": 17,
   "id": "7f656a9b",
   "metadata": {},
   "outputs": [],
   "source": [
    "refseq_session = sessionmaker(refseq_engine)()"
   ]
  },
  {
   "cell_type": "markdown",
   "id": "210188e8",
   "metadata": {},
   "source": [
    "#### Genome set"
   ]
  },
  {
   "cell_type": "code",
   "execution_count": 18,
   "id": "d2fa6332",
   "metadata": {},
   "outputs": [
    {
     "data": {
      "text/plain": [
       "{'_sa_instance_state': <sqlalchemy.orm.state.InstanceState at 0x7feeb52c7b20>,\n",
       " 'version': '2.0',\n",
       " 'key': 'midas/refseq-bacterial-assemblies/curated',\n",
       " 'description': 'Curated subset of RefSeq bacterial genomes in NCBI assembly database',\n",
       " 'extra': {'revision': {'num': 3,\n",
       "   'date_created': '2021-07-07',\n",
       "   'description': 'Updated to alembic revision d961d0698083. Removed Entrez ESummary data. Fixed refseq_acc values incorrectly stored in genbank_acc column.'}},\n",
       " 'id': 3,\n",
       " 'name': 'MIDAS curated RefSeq bacterial WGS assemblies'}"
      ]
     },
     "execution_count": 18,
     "metadata": {},
     "output_type": "execute_result"
    }
   ],
   "source": [
    "refseq_gset = refseq_session.query(ReferenceGenomeSet).one()\n",
    "refseq_gset.__dict__"
   ]
  },
  {
   "cell_type": "code",
   "execution_count": 19,
   "id": "2ec4414a",
   "metadata": {},
   "outputs": [],
   "source": [
    "refseq_extra = dict(refseq_gset.extra)\n",
    "refseq_extra['revision'] = dict(\n",
    "    num=4,\n",
    "    date_created=TODAY,\n",
    "    description='Upgraded schema to latest revision c43540b80d50.'\n",
    ")\n",
    "\n",
    "refseq_gset.extra = refseq_extra"
   ]
  },
  {
   "cell_type": "code",
   "execution_count": 20,
   "id": "16b27dfd",
   "metadata": {},
   "outputs": [],
   "source": [
    "refseq_session.commit()"
   ]
  },
  {
   "cell_type": "markdown",
   "id": "3f718138",
   "metadata": {},
   "source": [
    "### Finish"
   ]
  },
  {
   "cell_type": "code",
   "execution_count": 21,
   "id": "9f200875",
   "metadata": {},
   "outputs": [
    {
     "data": {
      "text/plain": [
       "<sqlalchemy.engine.cursor.LegacyCursorResult at 0x7feeb52cfa30>"
      ]
     },
     "execution_count": 21,
     "metadata": {},
     "output_type": "execute_result"
    }
   ],
   "source": [
    "refseq_engine.execute('VACUUM;')"
   ]
  }
 ],
 "metadata": {
  "kernelspec": {
   "display_name": "midas-2.4",
   "language": "python",
   "name": "midas-2.4"
  },
  "language_info": {
   "codemirror_mode": {
    "name": "ipython",
    "version": 3
   },
   "file_extension": ".py",
   "mimetype": "text/x-python",
   "name": "python",
   "nbconvert_exporter": "python",
   "pygments_lexer": "ipython3",
   "version": "3.9.5"
  }
 },
 "nbformat": 4,
 "nbformat_minor": 5
}
