{
 "cells": [
  {
   "cell_type": "markdown",
   "id": "344b933d",
   "metadata": {},
   "source": [
    "# 210707 Convert signature files"
   ]
  },
  {
   "cell_type": "code",
   "execution_count": 1,
   "id": "a4e508ba",
   "metadata": {},
   "outputs": [],
   "source": [
    "from pathlib import Path\n",
    "import re"
   ]
  },
  {
   "cell_type": "code",
   "execution_count": 2,
   "id": "e7218a10",
   "metadata": {},
   "outputs": [],
   "source": [
    "import numpy as np\n",
    "import h5py as h5"
   ]
  },
  {
   "cell_type": "code",
   "execution_count": 3,
   "id": "2db21899",
   "metadata": {},
   "outputs": [],
   "source": [
    "from midas.signatures.hdf5 import HDF5Signatures\n",
    "from midas.signatures import SignaturesMeta\n",
    "from midas.kmers import KmerSpec\n",
    "import midas.io.json as mjson\n",
    "from gambit_legacy.io.signaturefile import SignatureFile"
   ]
  },
  {
   "cell_type": "markdown",
   "id": "57cf1a63",
   "metadata": {},
   "source": [
    "## Setup"
   ]
  },
  {
   "cell_type": "code",
   "execution_count": 4,
   "id": "c6f88476",
   "metadata": {},
   "outputs": [],
   "source": [
    "TODAY = '2021-07-07'\n",
    "DATESTR = '210707'"
   ]
  },
  {
   "cell_type": "code",
   "execution_count": 5,
   "id": "e67e4366",
   "metadata": {},
   "outputs": [],
   "source": [
    "testdb_dir = Path('/home/jared/projects/midas/data/databases/testdb_210126/')\n",
    "refseq_dir = Path('/home/jared/projects/midas/data/databases/refseq-curated/')\n",
    "\n",
    "src_files = {\n",
    "    'testdb': testdb_dir / 'testdb_210126.midas-signatures',\n",
    "    'refseq': refseq_dir / 'refseq_assemblies_ATGAC11_2_0.midas-signatures',\n",
    "}\n",
    "\n",
    "dst_files = {\n",
    "    'testdb': testdb_dir / f'testdb_210126-signatures-{DATESTR}.h5',\n",
    "    'refseq': refseq_dir / f'refseq_assemblies_ATGAC11-2.0-{DATESTR}.h5',\n",
    "}"
   ]
  },
  {
   "cell_type": "markdown",
   "id": "99cf3ebd",
   "metadata": {},
   "source": [
    "## Open old files"
   ]
  },
  {
   "cell_type": "code",
   "execution_count": 6,
   "id": "e7ae1c7f",
   "metadata": {},
   "outputs": [],
   "source": [
    "sigfiles = {key: SignatureFile(f.open('rb')) for key, f in src_files.items()}"
   ]
  },
  {
   "cell_type": "code",
   "execution_count": 7,
   "id": "3207631b",
   "metadata": {},
   "outputs": [],
   "source": [
    "src_metadata = {key: sf.get_metadata() for key, sf in sigfiles.items()}"
   ]
  },
  {
   "cell_type": "code",
   "execution_count": 8,
   "id": "c4a483d3",
   "metadata": {},
   "outputs": [],
   "source": [
    "kspecs = {key: mjson.from_json(md['kmerspec'], KmerSpec) for key, md in src_metadata.items()}"
   ]
  },
  {
   "cell_type": "markdown",
   "id": "e31a105c",
   "metadata": {},
   "source": [
    "## Metadata"
   ]
  },
  {
   "cell_type": "code",
   "execution_count": 9,
   "id": "7ecca99b",
   "metadata": {},
   "outputs": [],
   "source": [
    "dst_metadata = {}\n",
    "dst_ids = {}"
   ]
  },
  {
   "cell_type": "markdown",
   "id": "0e53c939",
   "metadata": {},
   "source": [
    "### testdb"
   ]
  },
  {
   "cell_type": "code",
   "execution_count": 10,
   "id": "718599fb",
   "metadata": {},
   "outputs": [
    {
     "data": {
      "text/plain": [
       "{'id': 'midas/test/testdb_210126',\n",
       " 'version': '1.0',\n",
       " 'name': 'testdb_210126',\n",
       " 'date_created': '2021-01-26',\n",
       " 'kmerspec': {'k': 8, 'prefix': 'ATG'},\n",
       " 'description': 'Signatures for artificial genomes in testdb_210126 database'}"
      ]
     },
     "execution_count": 10,
     "metadata": {},
     "output_type": "execute_result"
    }
   ],
   "source": [
    "src_metadata['testdb']"
   ]
  },
  {
   "cell_type": "code",
   "execution_count": 11,
   "id": "390e3bec",
   "metadata": {},
   "outputs": [],
   "source": [
    "_meta = src_metadata['testdb']\n",
    "\n",
    "dst_metadata['testdb'] = SignaturesMeta(\n",
    "    id='gambit/testdb_210126',\n",
    "    version='1.0',\n",
    "    name='testdb_210126',\n",
    "    id_attr='key',\n",
    "    description=_meta['description'],\n",
    "    extra=dict(\n",
    "        date_created=_meta['date_created'],\n",
    "        revision=dict(\n",
    "            num=1,\n",
    "            date_created=TODAY,\n",
    "            description='Converted old version to new HDF5 format, changed ID values.'\n",
    "        ),\n",
    "    ),\n",
    ")"
   ]
  },
  {
   "cell_type": "markdown",
   "id": "860c9104",
   "metadata": {},
   "source": [
    "Update IDs to remove the prefix part:"
   ]
  },
  {
   "cell_type": "code",
   "execution_count": 12,
   "id": "b6c738fe",
   "metadata": {},
   "outputs": [],
   "source": [
    "_ids = []\n",
    "\n",
    "for id_ in sigfiles['testdb'].ids:\n",
    "    m = re.fullmatch('^midas/testdb_210126/(.*)$', id_)\n",
    "    _ids.append(m.group(1))\n",
    "    \n",
    "dst_ids['testdb'] = np.asarray(_ids)"
   ]
  },
  {
   "cell_type": "markdown",
   "id": "8c92d80d",
   "metadata": {},
   "source": [
    "### refseq"
   ]
  },
  {
   "cell_type": "code",
   "execution_count": 13,
   "id": "841ff4cd",
   "metadata": {},
   "outputs": [
    {
     "data": {
      "text/plain": [
       "{'id': 'midas/refseq-bacterial-assemblies',\n",
       " 'version': '2.0',\n",
       " 'metadata_version': '1.0',\n",
       " 'kmerspec': {'k': 11, 'prefix': 'ATGAC'},\n",
       " 'name': 'RefSeq bacterial assemblies ATGAC/11',\n",
       " 'datecreated': '2017-07-29'}"
      ]
     },
     "execution_count": 13,
     "metadata": {},
     "output_type": "execute_result"
    }
   ],
   "source": [
    "src_metadata['refseq']"
   ]
  },
  {
   "cell_type": "code",
   "execution_count": 14,
   "id": "0798ad63",
   "metadata": {},
   "outputs": [],
   "source": [
    "_meta = src_metadata['refseq']\n",
    "\n",
    "dst_metadata['refseq'] = SignaturesMeta(\n",
    "    id=_meta['id'],\n",
    "    version=_meta['version'],\n",
    "    name=_meta['name'],\n",
    "    id_attr='refseq_acc',\n",
    "    extra=dict(\n",
    "        date_created=_meta['datecreated'],\n",
    "        revision=dict(\n",
    "            num=2,\n",
    "            date_created=TODAY,\n",
    "            description='Converted to new HDF5 format.'\n",
    "        ),\n",
    "    ),\n",
    ")"
   ]
  },
  {
   "cell_type": "code",
   "execution_count": 15,
   "id": "a4a3363f",
   "metadata": {},
   "outputs": [],
   "source": [
    "dst_ids['refseq'] = sigfiles['refseq'].ids"
   ]
  },
  {
   "cell_type": "markdown",
   "id": "9615bbdc",
   "metadata": {},
   "source": [
    "## Write new files"
   ]
  },
  {
   "cell_type": "code",
   "execution_count": 16,
   "id": "33d5e718",
   "metadata": {},
   "outputs": [
    {
     "name": "stdout",
     "output_type": "stream",
     "text": [
      "testdb\n",
      "refseq\n"
     ]
    }
   ],
   "source": [
    "for key, dst_file in dst_files.items():\n",
    "    print(key)\n",
    "    data = sigfiles[key].get_array()\n",
    "    with h5.File(dst_file, 'w') as h5file:\n",
    "        HDF5Signatures.create(h5file, kspecs[key], data, dst_ids[key], dst_metadata[key])"
   ]
  }
 ],
 "metadata": {
  "kernelspec": {
   "display_name": "midas-2.4",
   "language": "python",
   "name": "midas-2.4"
  },
  "language_info": {
   "codemirror_mode": {
    "name": "ipython",
    "version": 3
   },
   "file_extension": ".py",
   "mimetype": "text/x-python",
   "name": "python",
   "nbconvert_exporter": "python",
   "pygments_lexer": "ipython3",
   "version": "3.9.5"
  }
 },
 "nbformat": 4,
 "nbformat_minor": 5
}
