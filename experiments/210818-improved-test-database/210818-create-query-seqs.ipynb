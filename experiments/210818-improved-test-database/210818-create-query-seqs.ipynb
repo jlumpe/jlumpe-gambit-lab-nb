{
 "cells": [
  {
   "cell_type": "markdown",
   "metadata": {},
   "source": [
    "# 210818 Create query seqs"
   ]
  },
  {
   "cell_type": "code",
   "execution_count": 1,
   "metadata": {},
   "outputs": [],
   "source": [
    "from pathlib import Path\n",
    "import json\n",
    "from itertools import count"
   ]
  },
  {
   "cell_type": "code",
   "execution_count": 2,
   "metadata": {},
   "outputs": [],
   "source": [
    "from Bio.Seq import Seq\n",
    "from Bio.SeqRecord import SeqRecord\n",
    "from Bio import SeqIO\n",
    "import numpy as np\n",
    "import pandas as pd\n",
    "import h5py as h5\n",
    "from tqdm import tqdm"
   ]
  },
  {
   "cell_type": "code",
   "execution_count": 3,
   "metadata": {},
   "outputs": [],
   "source": [
    "import matplotlib.pyplot as plt\n",
    "import seaborn as sns"
   ]
  },
  {
   "cell_type": "code",
   "execution_count": 4,
   "metadata": {},
   "outputs": [],
   "source": [
    "from gambit.kmers import KmerSpec, find_kmers, dense_to_sparse\n",
    "from gambit.metric import jaccard_sparse_array\n",
    "from gambit.db import load_database\n",
    "from gambit.classify import classify\n",
    "from gambit.signatures import SignatureArray, SignaturesMeta\n",
    "from gambit.signatures.hdf5 import HDF5Signatures"
   ]
  },
  {
   "cell_type": "code",
   "execution_count": 5,
   "metadata": {},
   "outputs": [],
   "source": [
    "DATESTR = '210818'\n",
    "DATESTR_LONG = '2021-08-18'\n",
    "\n",
    "DBNAME = 'testdb_' + DATESTR"
   ]
  },
  {
   "cell_type": "markdown",
   "metadata": {},
   "source": [
    "## File paths"
   ]
  },
  {
   "cell_type": "code",
   "execution_count": 6,
   "metadata": {},
   "outputs": [],
   "source": [
    "outdir = Path('output')\n",
    "tmpdir = Path('tmp')"
   ]
  },
  {
   "cell_type": "code",
   "execution_count": 7,
   "metadata": {},
   "outputs": [],
   "source": [
    "infiles = dict(\n",
    "    params=tmpdir / 'params.json',\n",
    "    taxa=tmpdir / 'taxa.csv',\n",
    "    ref_genomes=outdir / 'testdb_210818-genomes.db',\n",
    "    ref_sigs=outdir / 'testdb_210818-signatures.h5',\n",
    "    taxon_centers=tmpdir / 'taxon-centers.fasta',\n",
    ")"
   ]
  },
  {
   "cell_type": "markdown",
   "metadata": {},
   "source": [
    "## Load data"
   ]
  },
  {
   "cell_type": "code",
   "execution_count": 8,
   "metadata": {},
   "outputs": [],
   "source": [
    "with open(infiles['params']) as f:\n",
    "    _params = json.load(f)\n",
    "\n",
    "MUTATION_COUNTS = _params['n_mutations']"
   ]
  },
  {
   "cell_type": "markdown",
   "metadata": {},
   "source": [
    "### Taxa"
   ]
  },
  {
   "cell_type": "code",
   "execution_count": 9,
   "metadata": {},
   "outputs": [],
   "source": [
    "taxa_df = pd.read_csv(infiles['taxa'])"
   ]
  },
  {
   "cell_type": "code",
   "execution_count": 10,
   "metadata": {},
   "outputs": [],
   "source": [
    "name_to_index = {name: i for i, name in enumerate(taxa_df['name'])}"
   ]
  },
  {
   "cell_type": "markdown",
   "metadata": {},
   "source": [
    "### Taxon centers"
   ]
  },
  {
   "cell_type": "code",
   "execution_count": 11,
   "metadata": {},
   "outputs": [],
   "source": [
    "taxon_centers = dict()\n",
    "\n",
    "for record in SeqIO.parse(str(infiles['taxon_centers']), 'fasta'):\n",
    "    taxon_centers[record.id] = bytes(record.seq)"
   ]
  },
  {
   "cell_type": "markdown",
   "metadata": {},
   "source": [
    "### Database"
   ]
  },
  {
   "cell_type": "code",
   "execution_count": 12,
   "metadata": {},
   "outputs": [],
   "source": [
    "db = load_database(infiles['ref_genomes'], infiles['ref_sigs'])"
   ]
  },
  {
   "cell_type": "code",
   "execution_count": 13,
   "metadata": {},
   "outputs": [],
   "source": [
    "ref_sigs = db.signatures[db.sig_indices]"
   ]
  },
  {
   "cell_type": "code",
   "execution_count": 14,
   "metadata": {},
   "outputs": [],
   "source": [
    "kspec = db.signatures.kmerspec"
   ]
  },
  {
   "cell_type": "markdown",
   "metadata": {},
   "source": [
    "## Funcs"
   ]
  },
  {
   "cell_type": "code",
   "execution_count": 15,
   "metadata": {},
   "outputs": [],
   "source": [
    "NUC_BYTES = np.fromiter(map(ord, 'ACGT'), dtype=np.uint8)"
   ]
  },
  {
   "cell_type": "code",
   "execution_count": 16,
   "metadata": {},
   "outputs": [],
   "source": [
    "def mutate_seq(a, n):\n",
    "    \"\"\"Randomly mutate sequence array in-place at n positions.\"\"\"\n",
    "    for i in np.random.choice(range(len(a)), n, replace=False):\n",
    "        a[i] = np.random.choice(NUC_BYTES)"
   ]
  },
  {
   "cell_type": "code",
   "execution_count": 17,
   "metadata": {},
   "outputs": [],
   "source": [
    "def make_mutations(a, m, n):\n",
    "    \"\"\"Make m mutated versions of an array a, each with n mutated positions.\"\"\"\n",
    "    for i in range(m):\n",
    "        ma = bytearray(a)\n",
    "        mutate_seq(ma, n)\n",
    "        yield ma"
   ]
  },
  {
   "cell_type": "code",
   "execution_count": 18,
   "metadata": {},
   "outputs": [],
   "source": [
    "def find_kmers_multi(kspec, arrs):\n",
    "    out = None\n",
    "    for arr in arrs:\n",
    "        out = find_kmers(kspec, arr, dense_out=out, sparse=False)\n",
    "    return dense_to_sparse(out)"
   ]
  },
  {
   "cell_type": "code",
   "execution_count": 19,
   "metadata": {},
   "outputs": [],
   "source": [
    "def split_seq(a, n, minlen):\n",
    "    total = len(a)\n",
    "    rem = total - n * minlen\n",
    "    assert rem > 0\n",
    "    \n",
    "    rem_split = np.sort(np.random.choice(rem + 1, n - 1))\n",
    "    rem_split = [0, *rem_split, rem]\n",
    "    lengths = np.diff(rem_split) + minlen\n",
    "    assert len(lengths) == n\n",
    "    assert all(lengths >= minlen)\n",
    "    assert sum(lengths) == total\n",
    "    \n",
    "    parts = []\n",
    "    start = 0\n",
    "    for l in lengths:\n",
    "        parts.append(a[start:start+l])\n",
    "        start += l\n",
    "        \n",
    "    assert start == total\n",
    "    return parts"
   ]
  },
  {
   "cell_type": "markdown",
   "metadata": {},
   "source": [
    "## Make query seqs"
   ]
  },
  {
   "cell_type": "markdown",
   "metadata": {},
   "source": [
    "### Standard"
   ]
  },
  {
   "cell_type": "code",
   "execution_count": 20,
   "metadata": {},
   "outputs": [],
   "source": [
    "N_PARTS_RANGE = (5, 11)\n",
    "MIN_PART_LEN = 100"
   ]
  },
  {
   "cell_type": "code",
   "execution_count": 21,
   "metadata": {},
   "outputs": [
    {
     "name": "stderr",
     "output_type": "stream",
     "text": [
      "49it [00:00, 82.28it/s]\n"
     ]
    }
   ],
   "source": [
    "query_seqs = []\n",
    "query_sigs = []\n",
    "_rows = []\n",
    "\n",
    "\n",
    "np.random.seed(123)\n",
    "\n",
    "for taxon in tqdm(taxa_df.itertuples()):\n",
    "    if pd.isnull(taxon.threshold):\n",
    "        continue\n",
    "\n",
    "    center = taxon_centers[taxon.name]\n",
    "    \n",
    "    while True:\n",
    "        seq = bytearray(center)\n",
    "        mutate_seq(seq, MUTATION_COUNTS[taxon.level])\n",
    "        \n",
    "        n_parts = np.random.randint(*N_PARTS_RANGE)\n",
    "        parts = split_seq(seq, n_parts, MIN_PART_LEN)\n",
    "        \n",
    "        sig = find_kmers_multi(kspec, parts)\n",
    "        dists = jaccard_sparse_array(sig, ref_sigs, distance=True)\n",
    "        result = classify(db.genomes, dists, strict=True)\n",
    "        \n",
    "        if result.warnings or result.error or not result.success:\n",
    "            continue\n",
    "            \n",
    "        # Closest is unique\n",
    "        ds = np.sort(dists)\n",
    "        if ds[0] == ds[1]:\n",
    "            continue\n",
    "        \n",
    "        if taxon.name == 'root':\n",
    "            if result.predicted_taxon is None:\n",
    "                break\n",
    "        else:\n",
    "            if result.predicted_taxon is not None and result.predicted_taxon.name == taxon.name:\n",
    "                break\n",
    "\n",
    "    query_seqs.append(parts)\n",
    "    query_sigs.append(sig)\n",
    "    \n",
    "    if taxon.name == 'root':\n",
    "        _rows.append((\n",
    "            'unclassifiable',\n",
    "            None,\n",
    "            None,\n",
    "            result.closest_match.genome.description,\n",
    "        ))\n",
    "    else:\n",
    "        _rows.append((\n",
    "            taxon.name,\n",
    "            taxon.name,\n",
    "            result.primary_match.genome.description,\n",
    "            result.closest_match.genome.description,\n",
    "        ))\n",
    "    \n",
    "    \n",
    "queries_df = pd.DataFrame.from_records(_rows, columns=['name', 'predicted', 'primary', 'closest'])"
   ]
  },
  {
   "cell_type": "code",
   "execution_count": 22,
   "metadata": {},
   "outputs": [],
   "source": [
    "queries_df['warnings'] = False"
   ]
  },
  {
   "cell_type": "markdown",
   "metadata": {},
   "source": [
    "### Inconsistent"
   ]
  },
  {
   "cell_type": "code",
   "execution_count": 23,
   "metadata": {},
   "outputs": [],
   "source": [
    "target1 = 'A2_B1'\n",
    "thresh1 = taxa_df.loc[name_to_index[target1], 'threshold']\n",
    "\n",
    "target2 = 'A2_B2'\n",
    "thresh2 = taxa_df.loc[name_to_index[target2], 'threshold']"
   ]
  },
  {
   "cell_type": "code",
   "execution_count": 24,
   "metadata": {},
   "outputs": [
    {
     "data": {
      "text/plain": [
       "23"
      ]
     },
     "execution_count": 24,
     "metadata": {},
     "output_type": "execute_result"
    }
   ],
   "source": [
    "in_target1 = [i for i, g in enumerate(db.genomes) if g.taxon is not None and g.taxon.name.startswith(target1)]\n",
    "target1_sigs = ref_sigs[in_target1]\n",
    "len(in_target1)"
   ]
  },
  {
   "cell_type": "code",
   "execution_count": 25,
   "metadata": {},
   "outputs": [
    {
     "data": {
      "text/plain": [
       "23"
      ]
     },
     "execution_count": 25,
     "metadata": {},
     "output_type": "execute_result"
    }
   ],
   "source": [
    "in_target2 = [i for i, g in enumerate(db.genomes) if g.taxon is not None and g.taxon.name.startswith(target2)]\n",
    "target2_sigs = ref_sigs[in_target2]\n",
    "len(in_target2)"
   ]
  },
  {
   "cell_type": "code",
   "execution_count": 26,
   "metadata": {},
   "outputs": [
    {
     "name": "stderr",
     "output_type": "stream",
     "text": [
      "354it [00:01, 282.34it/s]\n"
     ]
    }
   ],
   "source": [
    "np.random.seed(0)\n",
    "\n",
    "for i in tqdm(count()):\n",
    "    seq = bytearray(taxon_centers[target2])\n",
    "    mutate_seq(seq, MUTATION_COUNTS[3])\n",
    "    \n",
    "    n_parts = np.random.randint(*N_PARTS_RANGE)\n",
    "    parts = split_seq(seq, n_parts, MIN_PART_LEN)\n",
    "    \n",
    "    sig = find_kmers_multi(kspec, parts)\n",
    "    \n",
    "    d1 = jaccard_sparse_array(sig, target1_sigs, distance=True).min()\n",
    "    d2 = jaccard_sparse_array(sig, target2_sigs, distance=True).min()\n",
    "    \n",
    "    if d1 < thresh1 and d2 < thresh2:\n",
    "        break"
   ]
  },
  {
   "cell_type": "code",
   "execution_count": 27,
   "metadata": {},
   "outputs": [],
   "source": [
    "dists = jaccard_sparse_array(sig, ref_sigs, distance=True)\n",
    "result = classify(db.genomes, dists, strict=True)\n",
    "\n",
    "assert result.success\n",
    "assert result.predicted_taxon.name == 'A2'\n",
    "assert result.warnings"
   ]
  },
  {
   "cell_type": "code",
   "execution_count": 28,
   "metadata": {},
   "outputs": [],
   "source": [
    "query_seqs.append(parts)\n",
    "query_sigs.append(sig)\n",
    "\n",
    "row = dict(\n",
    "    name='inconsistent',\n",
    "    predicted='A2',\n",
    "    primary=result.primary_match.genome.description,\n",
    "    closest=result.closest_match.genome.description,\n",
    "    warnings=True,\n",
    ")\n",
    "\n",
    "queries_df = queries_df.append(row, ignore_index=True)"
   ]
  },
  {
   "cell_type": "markdown",
   "metadata": {},
   "source": [
    "### Primary match not closest"
   ]
  },
  {
   "cell_type": "code",
   "execution_count": 29,
   "metadata": {},
   "outputs": [
    {
     "name": "stderr",
     "output_type": "stream",
     "text": [
      "0it [00:00, ?it/s]\n"
     ]
    }
   ],
   "source": [
    "_base = taxon_centers[target1][:2000] + taxon_centers[target2][2000:]\n",
    "\n",
    "np.random.seed(0)\n",
    "\n",
    "for i in tqdm(count()):\n",
    "    seq = bytearray(_base)\n",
    "    mutate_seq(seq, 40)\n",
    "    \n",
    "    n_parts = np.random.randint(*N_PARTS_RANGE)\n",
    "    parts = split_seq(seq, n_parts, MIN_PART_LEN)\n",
    "    \n",
    "    sig = find_kmers_multi(kspec, parts)\n",
    "    \n",
    "    d1 = jaccard_sparse_array(sig, target1_sigs, distance=True).min()\n",
    "    d2 = jaccard_sparse_array(sig, target2_sigs, distance=True).min()\n",
    "    \n",
    "    if thresh2 < d2 < d1 < thresh1:\n",
    "        break"
   ]
  },
  {
   "cell_type": "code",
   "execution_count": 30,
   "metadata": {},
   "outputs": [],
   "source": [
    "dists = jaccard_sparse_array(sig, ref_sigs, distance=True)\n",
    "result = classify(db.genomes, dists, strict=True)\n",
    "\n",
    "assert result.success\n",
    "assert result.predicted_taxon.name == target1\n",
    "assert result.closest_match.genome.taxon.name.startswith(target2)\n",
    "assert result.warnings"
   ]
  },
  {
   "cell_type": "code",
   "execution_count": 31,
   "metadata": {},
   "outputs": [],
   "source": [
    "query_seqs.append(parts)\n",
    "query_sigs.append(sig)\n",
    "\n",
    "row = dict(\n",
    "    name='primary_not_closest',\n",
    "    predicted=target1,\n",
    "    primary=result.primary_match.genome.description,\n",
    "    closest=result.closest_match.genome.description,\n",
    "    warnings=True,\n",
    ")\n",
    "\n",
    "queries_df = queries_df.append(row, ignore_index=True)"
   ]
  },
  {
   "cell_type": "markdown",
   "metadata": {},
   "source": [
    "## Write output"
   ]
  },
  {
   "cell_type": "markdown",
   "metadata": {},
   "source": [
    "### Table"
   ]
  },
  {
   "cell_type": "code",
   "execution_count": 32,
   "metadata": {},
   "outputs": [],
   "source": [
    "queries_df.to_csv(tmpdir / 'query-seqs.csv', index=False)"
   ]
  },
  {
   "cell_type": "markdown",
   "metadata": {},
   "source": [
    "### Sequences"
   ]
  },
  {
   "cell_type": "code",
   "execution_count": 33,
   "metadata": {},
   "outputs": [],
   "source": [
    "seqs_dir = tmpdir / 'query-seqs'\n",
    "seqs_dir.mkdir(exist_ok=True)"
   ]
  },
  {
   "cell_type": "code",
   "execution_count": 34,
   "metadata": {},
   "outputs": [],
   "source": [
    "for parts, row in zip(query_seqs, queries_df.itertuples()):\n",
    "    records = [\n",
    "        SeqRecord(Seq(part), id=f'{row.name}-{i + 1}', description='')\n",
    "        for i, part in enumerate(parts)\n",
    "    ]\n",
    "    \n",
    "    SeqIO.write(records, str(seqs_dir / (row.name + '.fasta')), 'fasta')"
   ]
  },
  {
   "cell_type": "markdown",
   "metadata": {},
   "source": [
    "### Signatures"
   ]
  },
  {
   "cell_type": "code",
   "execution_count": 35,
   "metadata": {},
   "outputs": [],
   "source": [
    "meta = SignaturesMeta(\n",
    "    name=f'{DBNAME}-queries',\n",
    "    description=f'Signatures of {DBNAME} query sequences',\n",
    "    extra=dict(\n",
    "        date_created=DATESTR_LONG,\n",
    "        author='Jared Lumpe',\n",
    "    ),\n",
    ")"
   ]
  },
  {
   "cell_type": "code",
   "execution_count": 36,
   "metadata": {},
   "outputs": [],
   "source": [
    "sigarray = SignatureArray(query_sigs, dtype=kspec.coords_dtype)"
   ]
  },
  {
   "cell_type": "code",
   "execution_count": 37,
   "metadata": {},
   "outputs": [],
   "source": [
    "with h5.File(tmpdir / f'query-signatures.h5', 'w') as f:\n",
    "    HDF5Signatures.create(f, kspec, sigarray, queries_df['name'], meta)"
   ]
  }
 ],
 "metadata": {
  "kernelspec": {
   "display_name": "GAMBIT",
   "language": "python",
   "name": "gambit"
  },
  "language_info": {
   "codemirror_mode": {
    "name": "ipython",
    "version": 3
   },
   "file_extension": ".py",
   "mimetype": "text/x-python",
   "name": "python",
   "nbconvert_exporter": "python",
   "pygments_lexer": "ipython3",
   "version": "3.9.5"
  }
 },
 "nbformat": 4,
 "nbformat_minor": 4
}
