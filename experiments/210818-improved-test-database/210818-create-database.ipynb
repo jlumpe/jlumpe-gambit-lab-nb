{
 "cells": [
  {
   "cell_type": "markdown",
   "metadata": {},
   "source": [
    "# 210818 Create database"
   ]
  },
  {
   "cell_type": "code",
   "execution_count": 1,
   "metadata": {},
   "outputs": [],
   "source": [
    "from pathlib import Path\n",
    "import json\n",
    "from string import ascii_uppercase"
   ]
  },
  {
   "cell_type": "code",
   "execution_count": 2,
   "metadata": {},
   "outputs": [],
   "source": [
    "from Bio.Seq import Seq\n",
    "from Bio.SeqRecord import SeqRecord\n",
    "from Bio import SeqIO\n",
    "import numpy as np\n",
    "import pandas as pd\n",
    "from scipy.spatial.distance import squareform\n",
    "from sqlalchemy import create_engine\n",
    "from sqlalchemy.orm import sessionmaker\n",
    "import h5py as h5\n",
    "from tqdm import tqdm"
   ]
  },
  {
   "cell_type": "code",
   "execution_count": 3,
   "metadata": {},
   "outputs": [],
   "source": [
    "import matplotlib.pyplot as plt\n",
    "import seaborn as sns"
   ]
  },
  {
   "cell_type": "code",
   "execution_count": 4,
   "metadata": {},
   "outputs": [],
   "source": [
    "from gambit.kmers import KmerSpec, find_kmers\n",
    "from gambit.metric import jaccarddist_sparse\n",
    "from gambit.db.migrate import init_db\n",
    "from gambit.db.models import ReferenceGenomeSet, Taxon, Genome, AnnotatedGenome\n",
    "import gambit.io.json as gjson\n",
    "from gambit.signatures import SignatureArray, SignaturesMeta\n",
    "from gambit.signatures.hdf5 import HDF5Signatures"
   ]
  },
  {
   "cell_type": "code",
   "execution_count": 5,
   "metadata": {},
   "outputs": [],
   "source": [
    "DATESTR = '210818'\n",
    "DATESTR_LONG = '2021-08-18'\n",
    "\n",
    "DBNAME = 'testdb_' + DATESTR\n",
    "DBKEY = 'gambit/' + DBNAME"
   ]
  },
  {
   "cell_type": "markdown",
   "metadata": {},
   "source": [
    "## File paths"
   ]
  },
  {
   "cell_type": "code",
   "execution_count": 6,
   "metadata": {},
   "outputs": [],
   "source": [
    "outdir = Path('output')\n",
    "outdir.mkdir(exist_ok=True)"
   ]
  },
  {
   "cell_type": "code",
   "execution_count": 7,
   "metadata": {},
   "outputs": [],
   "source": [
    "tmpdir = Path('tmp')\n",
    "tmpdir.mkdir(exist_ok=True)"
   ]
  },
  {
   "cell_type": "markdown",
   "metadata": {},
   "source": [
    "## Funcs"
   ]
  },
  {
   "cell_type": "code",
   "execution_count": 8,
   "metadata": {},
   "outputs": [],
   "source": [
    "NUC_BYTES = np.fromiter(map(ord, 'ACGT'), dtype=np.uint8)"
   ]
  },
  {
   "cell_type": "code",
   "execution_count": 9,
   "metadata": {},
   "outputs": [],
   "source": [
    "def rand_seq(n):\n",
    "    return bytearray(np.random.choice(NUC_BYTES, n))"
   ]
  },
  {
   "cell_type": "code",
   "execution_count": 10,
   "metadata": {},
   "outputs": [],
   "source": [
    "def mutate_seq(a, n):\n",
    "    \"\"\"Randomly mutate sequence array in-place at n positions.\"\"\"\n",
    "    for i in np.random.choice(range(len(a)), n, replace=False):\n",
    "        a[i] = np.random.choice(NUC_BYTES)"
   ]
  },
  {
   "cell_type": "code",
   "execution_count": 11,
   "metadata": {},
   "outputs": [],
   "source": [
    "def make_mutations(a, m, n):\n",
    "    \"\"\"Make m mutated versions of an array a, each with n mutated positions.\"\"\"\n",
    "    for i in range(m):\n",
    "        ma = bytearray(a)\n",
    "        mutate_seq(ma, n)\n",
    "        yield ma"
   ]
  },
  {
   "cell_type": "code",
   "execution_count": 12,
   "metadata": {},
   "outputs": [],
   "source": [
    "def pw_dists(sigs):\n",
    "    n = len(sigs)\n",
    "    out = np.zeros((n, n))\n",
    "    \n",
    "    for i in range(n):\n",
    "        for j in range(i):\n",
    "            out[i, j] = out[j, i] = jaccarddist_sparse(sigs[i], sigs[j])\n",
    "    \n",
    "    return out"
   ]
  },
  {
   "cell_type": "markdown",
   "metadata": {},
   "source": [
    "## Parameter selection"
   ]
  },
  {
   "cell_type": "code",
   "execution_count": 13,
   "metadata": {},
   "outputs": [],
   "source": [
    "SEQLEN = 5_000\n",
    "kspec = KmerSpec(6, 'AT')"
   ]
  },
  {
   "cell_type": "markdown",
   "metadata": {},
   "source": [
    "### Distribution of K-mer count\n",
    "\n",
    "Verify this looks OK for choice of sequence length and k-mer spec."
   ]
  },
  {
   "cell_type": "code",
   "execution_count": 14,
   "metadata": {},
   "outputs": [],
   "source": [
    "counts = [len(find_kmers(kspec, rand_seq(SEQLEN))) for i in range(1000)]"
   ]
  },
  {
   "cell_type": "code",
   "execution_count": 15,
   "metadata": {},
   "outputs": [
    {
     "data": {
      "text/plain": [
       "<AxesSubplot:ylabel='Count'>"
      ]
     },
     "execution_count": 15,
     "metadata": {},
     "output_type": "execute_result"
    },
    {
     "data": {
      "image/png": "[encoded data removed]",
      "text/plain": [
       "<Figure size 576x432 with 1 Axes>"
      ]
     },
     "metadata": {
      "needs_background": "light"
     },
     "output_type": "display_data"
    }
   ],
   "source": [
    "sns.histplot(counts)"
   ]
  },
  {
   "cell_type": "markdown",
   "metadata": {},
   "source": [
    "### Choose mutation counts for clusters\n",
    "\n",
    "Choose so that pairwise distances are at separate scales for each level"
   ]
  },
  {
   "cell_type": "code",
   "execution_count": 16,
   "metadata": {},
   "outputs": [],
   "source": [
    "np.random.seed(0)\n",
    "root_center = rand_seq(SEQLEN)"
   ]
  },
  {
   "cell_type": "code",
   "execution_count": 17,
   "metadata": {},
   "outputs": [
    {
     "name": "stderr",
     "output_type": "stream",
     "text": [
      "100%|██████████| 9/9 [00:02<00:00,  4.41it/s]\n"
     ]
    }
   ],
   "source": [
    "_dfs = []\n",
    "\n",
    "for n in tqdm([5000, 2000, 1000, 500, 250, 100, 50, 25, 10]):\n",
    "    sigs = [\n",
    "        find_kmers(kspec, mut)\n",
    "        for mut in make_mutations(root_center, 20, n)\n",
    "    ]\n",
    "    d = squareform(pw_dists(sigs))\n",
    "    \n",
    "    _dfs.append(pd.DataFrame(dict(dist_log=np.log10(d), n=np.repeat(n, len(d)))))\n",
    "    \n",
    "test_df = pd.concat(_dfs)\n",
    "test_df.reset_index(inplace=True)"
   ]
  },
  {
   "cell_type": "code",
   "execution_count": 18,
   "metadata": {},
   "outputs": [
    {
     "data": {
      "text/plain": [
       "<AxesSubplot:xlabel='dist_log', ylabel='n'>"
      ]
     },
     "execution_count": 18,
     "metadata": {},
     "output_type": "execute_result"
    },
    {
     "data": {
      "image/png": "[encoded data removed]",
      "text/plain": [
       "<Figure size 1152x576 with 1 Axes>"
      ]
     },
     "metadata": {
      "needs_background": "light"
     },
     "output_type": "display_data"
    }
   ],
   "source": [
    "plt.figure(figsize=(16, 8))\n",
    "sns.violinplot(data=test_df, x='dist_log', y='n', orient='h', scale='width')"
   ]
  },
  {
   "cell_type": "code",
   "execution_count": 19,
   "metadata": {},
   "outputs": [],
   "source": [
    "N_VALS = [5000, 250, 100, 20]  # Number of mutations for each level\n",
    "DEPTH = len(N_VALS) - 1\n",
    "LEVEL_NAMES = list(ascii_uppercase[:DEPTH])"
   ]
  },
  {
   "cell_type": "markdown",
   "metadata": {},
   "source": [
    "## Reference sequences and taxa"
   ]
  },
  {
   "cell_type": "markdown",
   "metadata": {},
   "source": [
    "### Create taxon centers"
   ]
  },
  {
   "cell_type": "code",
   "execution_count": 20,
   "metadata": {},
   "outputs": [],
   "source": [
    "CHILD_COUNTS = [3, 3, 4]  # Number of child taxa at each level\n",
    "\n",
    "taxon_centers = {(): root_center}\n",
    "_prev_level = dict(taxon_centers)\n",
    "\n",
    "np.random.seed(0)\n",
    "\n",
    "for level, n_children in enumerate(CHILD_COUNTS):\n",
    "    _next_level = dict()\n",
    "    \n",
    "    for parent_key, parent_arr in _prev_level.items():\n",
    "        for i, mut in enumerate(make_mutations(parent_arr, n_children, N_VALS[level])):\n",
    "            key = (*parent_key, i)\n",
    "            _next_level[key] = mut\n",
    "    \n",
    "    \n",
    "    taxon_centers.update(_next_level)\n",
    "    _prev_level = _next_level"
   ]
  },
  {
   "cell_type": "markdown",
   "metadata": {},
   "source": [
    "### Enumerate taxa"
   ]
  },
  {
   "cell_type": "code",
   "execution_count": 21,
   "metadata": {},
   "outputs": [
    {
     "data": {
      "text/plain": [
       "49"
      ]
     },
     "execution_count": 21,
     "metadata": {},
     "output_type": "execute_result"
    }
   ],
   "source": [
    "taxon_keys = sorted(taxon_centers)\n",
    "len(taxon_keys)"
   ]
  },
  {
   "cell_type": "code",
   "execution_count": 22,
   "metadata": {},
   "outputs": [],
   "source": [
    "key_to_index = {key: i for i, key in enumerate(taxon_keys)}"
   ]
  },
  {
   "cell_type": "code",
   "execution_count": 23,
   "metadata": {},
   "outputs": [
    {
     "data": {
      "text/plain": [
       "[1, 3, 9, 36]"
      ]
     },
     "execution_count": 23,
     "metadata": {},
     "output_type": "execute_result"
    }
   ],
   "source": [
    "taxa_by_level = [[] for d in range(DEPTH + 1)]\n",
    "\n",
    "for k in taxon_keys:\n",
    "    taxa_by_level[len(k)].append(k)\n",
    "    \n",
    "list(map(len, taxa_by_level))"
   ]
  },
  {
   "cell_type": "markdown",
   "metadata": {},
   "source": [
    "### Taxa table"
   ]
  },
  {
   "cell_type": "code",
   "execution_count": 24,
   "metadata": {},
   "outputs": [],
   "source": [
    "_rows = [\n",
    "    (\n",
    "        '_'.join(f'{lname}{i + 1}' for lname, i in zip(LEVEL_NAMES, key)) if key else 'root',\n",
    "        len(key),\n",
    "    )\n",
    "    for key in taxon_keys\n",
    "]\n",
    "\n",
    "taxa_df = pd.DataFrame.from_records(_rows, columns=['name', 'level'])"
   ]
  },
  {
   "cell_type": "code",
   "execution_count": 25,
   "metadata": {},
   "outputs": [],
   "source": [
    "taxa_df['key'] = [f'{DBKEY}/{name}' for name in taxa_df['name']]"
   ]
  },
  {
   "cell_type": "code",
   "execution_count": 26,
   "metadata": {},
   "outputs": [],
   "source": [
    "taxa_df['parent'] = [taxa_df.loc[key_to_index[key[:-1]], 'name'] if key else None for key in taxon_keys]"
   ]
  },
  {
   "cell_type": "code",
   "execution_count": 27,
   "metadata": {},
   "outputs": [],
   "source": [
    "RANKS = ['genus', 'species', 'strain']\n",
    "\n",
    "taxa_df['rank'] = [RANKS[l - 1] if l > 0 else None for l in taxa_df['level']]"
   ]
  },
  {
   "cell_type": "code",
   "execution_count": 28,
   "metadata": {},
   "outputs": [],
   "source": [
    "taxa_df['report'] = True\n",
    "taxa_df['notes'] = None"
   ]
  },
  {
   "cell_type": "markdown",
   "metadata": {},
   "source": [
    "### Create sequences"
   ]
  },
  {
   "cell_type": "code",
   "execution_count": 29,
   "metadata": {},
   "outputs": [
    {
     "data": {
      "text/plain": [
       "216"
      ]
     },
     "execution_count": 29,
     "metadata": {},
     "output_type": "execute_result"
    }
   ],
   "source": [
    "SEQ_COUNTS = [0, 3, 3, 5]  # Number to create for taxa at each level\n",
    "\n",
    "ref_seqs = []\n",
    "ref_taxa = []\n",
    "ref_names = []\n",
    "\n",
    "np.random.seed(0)\n",
    "\n",
    "for key, taxon in zip(taxon_keys, taxa_df.itertuples()):\n",
    "    level = len(key)\n",
    "    center = taxon_centers[key]\n",
    "    n_seq = SEQ_COUNTS[level]\n",
    "    n_mut = N_VALS[level]\n",
    "    \n",
    "    for i, mut in enumerate(make_mutations(center, n_seq, n_mut)):\n",
    "        ref_seqs.append(mut)\n",
    "        ref_taxa.append(key)\n",
    "        ref_names.append(f'{taxon.name}-{i+1}')\n",
    "        \n",
    "len(ref_seqs)"
   ]
  },
  {
   "cell_type": "code",
   "execution_count": 30,
   "metadata": {},
   "outputs": [],
   "source": [
    "ref_sigs = [find_kmers(kspec, seq) for seq in ref_seqs]"
   ]
  },
  {
   "cell_type": "code",
   "execution_count": 31,
   "metadata": {},
   "outputs": [],
   "source": [
    "ref_indices_by_taxon = {\n",
    "    key: [\n",
    "        i for i, owner_key in enumerate(ref_taxa)\n",
    "        if owner_key[:len(key)] == key\n",
    "    ]\n",
    "    for key in taxon_keys\n",
    "}"
   ]
  },
  {
   "cell_type": "code",
   "execution_count": 32,
   "metadata": {},
   "outputs": [],
   "source": [
    "refs_df = pd.DataFrame.from_dict(dict(name=ref_names))\n",
    "refs_df['key'] = [f'{DBKEY}/{name}' for name in ref_names]\n",
    "refs_df['taxon'] = [taxa_df.loc[key_to_index[key], 'name'] for key in ref_taxa]\n",
    "refs_df['export'] = True"
   ]
  },
  {
   "cell_type": "markdown",
   "metadata": {},
   "source": [
    "### Pairwise distances"
   ]
  },
  {
   "cell_type": "code",
   "execution_count": 33,
   "metadata": {},
   "outputs": [],
   "source": [
    "ref_pw_dists = pw_dists(ref_sigs)"
   ]
  },
  {
   "cell_type": "code",
   "execution_count": 34,
   "metadata": {},
   "outputs": [],
   "source": [
    "assert not np.any(ref_pw_dists == 1)"
   ]
  },
  {
   "cell_type": "code",
   "execution_count": 35,
   "metadata": {},
   "outputs": [],
   "source": [
    "_diameters = []\n",
    "\n",
    "for key in taxon_keys:\n",
    "    indices = ref_indices_by_taxon[key]\n",
    "    d = ref_pw_dists[np.ix_(indices, indices)].max()\n",
    "    _diameters.append(d)\n",
    "\n",
    "taxa_df['diameter'] = _diameters"
   ]
  },
  {
   "cell_type": "code",
   "execution_count": 36,
   "metadata": {},
   "outputs": [],
   "source": [
    "taxa_min_dists_by_level = []\n",
    "\n",
    "for keys in taxa_by_level:\n",
    "    n = len(keys)\n",
    "    d = np.zeros((n, n))\n",
    "    \n",
    "    for i, k1 in enumerate(keys):\n",
    "        ii = ref_indices_by_taxon[k1]\n",
    "        for j, k2 in enumerate(keys):\n",
    "            jj = ref_indices_by_taxon[k2]\n",
    "            d[i, j] = ref_pw_dists[np.ix_(ii, jj)].min()\n",
    "    \n",
    "    taxa_min_dists_by_level.append(d)"
   ]
  },
  {
   "cell_type": "code",
   "execution_count": 37,
   "metadata": {},
   "outputs": [
    {
     "data": {
      "image/png": "[encoded data removed]",
      "text/plain": [
       "<Figure size 576x432 with 2 Axes>"
      ]
     },
     "metadata": {
      "needs_background": "light"
     },
     "output_type": "display_data"
    },
    {
     "data": {
      "image/png": "[encoded data removed]",
      "text/plain": [
       "<Figure size 576x432 with 2 Axes>"
      ]
     },
     "metadata": {
      "needs_background": "light"
     },
     "output_type": "display_data"
    },
    {
     "data": {
      "image/png": "[encoded data removed]",
      "text/plain": [
       "<Figure size 576x432 with 2 Axes>"
      ]
     },
     "metadata": {
      "needs_background": "light"
     },
     "output_type": "display_data"
    }
   ],
   "source": [
    "for d in taxa_min_dists_by_level[1:]:\n",
    "    plt.figure()\n",
    "    sns.heatmap(d)"
   ]
  },
  {
   "cell_type": "markdown",
   "metadata": {},
   "source": [
    "### Check for overlaps using diameter as threshold"
   ]
  },
  {
   "cell_type": "code",
   "execution_count": 38,
   "metadata": {},
   "outputs": [],
   "source": [
    "taxa_min_inter = dict()\n",
    "\n",
    "for keys, d in zip(taxa_by_level[1:], taxa_min_dists_by_level[1:]):\n",
    "    for i, key in enumerate(keys):\n",
    "        taxa_min_inter[key] = np.delete(d[i, :], i).min()\n",
    "        \n",
    "taxa_df['min_inter'] = [taxa_min_inter.get(key, float('nan')) for key in taxon_keys]"
   ]
  },
  {
   "cell_type": "code",
   "execution_count": 39,
   "metadata": {},
   "outputs": [],
   "source": [
    "for row in taxa_df.itertuples():\n",
    "    if row.name != 'root':\n",
    "        assert row.diameter < row.min_inter"
   ]
  },
  {
   "cell_type": "code",
   "execution_count": 40,
   "metadata": {},
   "outputs": [],
   "source": [
    "taxa_df['threshold'] = taxa_df['diameter']"
   ]
  },
  {
   "cell_type": "markdown",
   "metadata": {},
   "source": [
    "## Special cases"
   ]
  },
  {
   "cell_type": "markdown",
   "metadata": {},
   "source": [
    "### No-threshold taxon\n",
    "\n",
    "Set taxon A1_B1 to no threshold, classification only happens on genomes of child taxa."
   ]
  },
  {
   "cell_type": "code",
   "execution_count": 41,
   "metadata": {},
   "outputs": [],
   "source": [
    "_key = (0, 0)\n",
    "_index = key_to_index[_key]\n",
    "_name = taxa_df.loc[_index, 'name']\n",
    "\n",
    "taxa_df.loc[_index, 'threshold'] = float('nan')\n",
    "taxa_df.loc[_index, 'notes'] = 'No threshold'"
   ]
  },
  {
   "cell_type": "markdown",
   "metadata": {},
   "source": [
    "Also set children to `report=False`"
   ]
  },
  {
   "cell_type": "code",
   "execution_count": 42,
   "metadata": {},
   "outputs": [],
   "source": [
    "_childrows = taxa_df['parent'] == _name\n",
    "taxa_df.loc[_childrows, 'report'] = False\n",
    "taxa_df.loc[_childrows, 'notes'] = \"Don't report\""
   ]
  },
  {
   "cell_type": "markdown",
   "metadata": {},
   "source": [
    "Don't export genomes"
   ]
  },
  {
   "cell_type": "code",
   "execution_count": 43,
   "metadata": {},
   "outputs": [],
   "source": [
    "refs_df.loc[refs_df['taxon'] == _name, 'export'] = False"
   ]
  },
  {
   "cell_type": "markdown",
   "metadata": {},
   "source": [
    "### High threshold\n",
    "\n",
    "Raise threshold of taxon A2_B1 to higher value, this enables:\n",
    "* Inconsistent matches with this and another taxon in A2_B2/A2_B3\n",
    "* Match to only this taxon but closer to genome in A2_B2/A2_B3"
   ]
  },
  {
   "cell_type": "code",
   "execution_count": 44,
   "metadata": {},
   "outputs": [
    {
     "data": {
      "text/plain": [
       "name                              A2_B1\n",
       "level                                 2\n",
       "key          gambit/testdb_210818/A2_B1\n",
       "parent                               A2\n",
       "rank                            species\n",
       "report                             True\n",
       "notes                              None\n",
       "diameter                       0.411846\n",
       "min_inter                      0.668998\n",
       "threshold                      0.411846\n",
       "Name: 18, dtype: object"
      ]
     },
     "execution_count": 44,
     "metadata": {},
     "output_type": "execute_result"
    }
   ],
   "source": [
    "_key = (1, 0)\n",
    "_index = key_to_index[_key]\n",
    "\n",
    "taxa_df.loc[_index]"
   ]
  },
  {
   "cell_type": "code",
   "execution_count": 45,
   "metadata": {},
   "outputs": [],
   "source": [
    "taxa_df.loc[_index, 'threshold'] = taxa_df.loc[_index, 'min_inter'] * .95\n",
    "taxa_df.loc[_index, 'notes'] = 'High threshold'"
   ]
  },
  {
   "cell_type": "markdown",
   "metadata": {},
   "source": [
    "## Create genome database"
   ]
  },
  {
   "cell_type": "markdown",
   "metadata": {},
   "source": [
    "### Initialize"
   ]
  },
  {
   "cell_type": "code",
   "execution_count": 46,
   "metadata": {},
   "outputs": [],
   "source": [
    "dbfile = outdir / (DBNAME + '-genomes.db')\n",
    "if dbfile.is_file():\n",
    "    dbfile.unlink()"
   ]
  },
  {
   "cell_type": "code",
   "execution_count": 47,
   "metadata": {},
   "outputs": [],
   "source": [
    "engine = create_engine('sqlite:///%s' % dbfile)\n",
    "Session = sessionmaker(engine)"
   ]
  },
  {
   "cell_type": "code",
   "execution_count": 48,
   "metadata": {},
   "outputs": [],
   "source": [
    "init_db(engine)"
   ]
  },
  {
   "cell_type": "code",
   "execution_count": 49,
   "metadata": {},
   "outputs": [],
   "source": [
    "session = Session()"
   ]
  },
  {
   "cell_type": "markdown",
   "metadata": {},
   "source": [
    "### Genome set"
   ]
  },
  {
   "cell_type": "code",
   "execution_count": 50,
   "metadata": {},
   "outputs": [],
   "source": [
    "genome_set = ReferenceGenomeSet(\n",
    "    key=DBKEY,\n",
    "    version='1.0',\n",
    "    name=DBNAME,\n",
    "    description='Database containing artificial genomes, to be used for end-to-end testing',\n",
    "    extra=dict(\n",
    "        date_created=DATESTR_LONG,\n",
    "        author='Jared Lumpe',\n",
    "    ),\n",
    ")\n",
    "\n",
    "session.add(genome_set)"
   ]
  },
  {
   "cell_type": "markdown",
   "metadata": {},
   "source": [
    "### Taxa"
   ]
  },
  {
   "cell_type": "code",
   "execution_count": 51,
   "metadata": {},
   "outputs": [],
   "source": [
    "taxa = dict()\n",
    "\n",
    "for key, row in zip(taxon_keys, taxa_df.itertuples()):\n",
    "    if not key:\n",
    "        continue  # Don't include root taxon\n",
    "\n",
    "    taxon = Taxon(\n",
    "        key=row.key,\n",
    "        name=row.name,\n",
    "        rank=row.rank,\n",
    "        parent=taxa.get(key[:-1]),\n",
    "        genome_set=genome_set,\n",
    "        distance_threshold=row.threshold,\n",
    "        report=True,\n",
    "    )\n",
    "\n",
    "    taxa[key] = taxon\n",
    "    session.add(taxon)"
   ]
  },
  {
   "cell_type": "markdown",
   "metadata": {},
   "source": [
    "### Genomes "
   ]
  },
  {
   "cell_type": "code",
   "execution_count": 52,
   "metadata": {},
   "outputs": [],
   "source": [
    "for taxon_key, row in zip(ref_taxa, refs_df.itertuples()):\n",
    "    if not row.export:\n",
    "        continue\n",
    "\n",
    "    genome = Genome(\n",
    "        key=row.key,\n",
    "        description=row.name,\n",
    "    )\n",
    "    \n",
    "    a = AnnotatedGenome(\n",
    "        genome_set=genome_set,\n",
    "        genome=genome,\n",
    "        taxon=taxa[taxon_key],\n",
    "    )\n",
    "    \n",
    "    session.add(genome)\n",
    "    session.add(a)"
   ]
  },
  {
   "cell_type": "markdown",
   "metadata": {},
   "source": [
    "### Finish"
   ]
  },
  {
   "cell_type": "code",
   "execution_count": 53,
   "metadata": {},
   "outputs": [],
   "source": [
    "session.commit()"
   ]
  },
  {
   "cell_type": "markdown",
   "metadata": {},
   "source": [
    "## Save data"
   ]
  },
  {
   "cell_type": "markdown",
   "metadata": {},
   "source": [
    "### Tables"
   ]
  },
  {
   "cell_type": "code",
   "execution_count": 54,
   "metadata": {},
   "outputs": [],
   "source": [
    "_cols = ['name', 'key', 'parent', 'level', 'rank', 'report', 'diameter', 'min_inter', 'threshold', 'notes']\n",
    "taxa_df[_cols].to_csv(tmpdir / 'taxa.csv', index=False)"
   ]
  },
  {
   "cell_type": "code",
   "execution_count": 55,
   "metadata": {},
   "outputs": [],
   "source": [
    "refs_df.loc[refs_df['export'], ['name', 'key', 'taxon']].to_csv(tmpdir / 'ref-genomes.csv', index=False)"
   ]
  },
  {
   "cell_type": "markdown",
   "metadata": {},
   "source": [
    "### Genome sequences"
   ]
  },
  {
   "cell_type": "code",
   "execution_count": 56,
   "metadata": {},
   "outputs": [
    {
     "data": {
      "text/plain": [
       "49"
      ]
     },
     "execution_count": 56,
     "metadata": {},
     "output_type": "execute_result"
    }
   ],
   "source": [
    "center_records = [\n",
    "    SeqRecord(Seq(taxon_centers[key]), id=taxon.name, name='', description='')\n",
    "    for key, taxon in zip(taxon_keys, taxa_df.itertuples())\n",
    "]\n",
    "\n",
    "SeqIO.write(center_records, str(tmpdir / 'taxon-centers.fasta'), 'fasta')"
   ]
  },
  {
   "cell_type": "code",
   "execution_count": 57,
   "metadata": {},
   "outputs": [
    {
     "data": {
      "text/plain": [
       "213"
      ]
     },
     "execution_count": 57,
     "metadata": {},
     "output_type": "execute_result"
    }
   ],
   "source": [
    "ref_records = [\n",
    "    SeqRecord(Seq(seq), id=row.name, name='', description='')\n",
    "    for seq, row in zip(ref_seqs, refs_df.itertuples())\n",
    "    if row.export\n",
    "]\n",
    "\n",
    "SeqIO.write(ref_records, str(tmpdir / 'ref-genomes.fasta'), 'fasta')"
   ]
  },
  {
   "cell_type": "markdown",
   "metadata": {},
   "source": [
    "### Signatures"
   ]
  },
  {
   "cell_type": "code",
   "execution_count": 58,
   "metadata": {},
   "outputs": [],
   "source": [
    "meta = SignaturesMeta(\n",
    "    id=DBKEY,\n",
    "    name=DBNAME,\n",
    "    version='1.0',\n",
    "    description=genome_set.description,\n",
    "    id_attr='key',\n",
    "    extra=dict(\n",
    "        date_created=DATESTR_LONG,\n",
    "        author='Jared Lumpe',\n",
    "    ),\n",
    ")"
   ]
  },
  {
   "cell_type": "code",
   "execution_count": 59,
   "metadata": {},
   "outputs": [],
   "source": [
    "ref_sigarray = SignatureArray([s for s, row in zip(ref_sigs, refs_df.itertuples()) if row.export], dtype=kspec.coords_dtype)\n",
    "ref_keys = refs_df.loc[refs_df['export'], 'key']"
   ]
  },
  {
   "cell_type": "code",
   "execution_count": 60,
   "metadata": {},
   "outputs": [],
   "source": [
    "with h5.File(outdir / f'{DBNAME}-signatures.h5', 'w') as f:\n",
    "    HDF5Signatures.create(f, kspec, ref_sigarray, ref_keys, meta)"
   ]
  },
  {
   "cell_type": "markdown",
   "metadata": {},
   "source": [
    "### Other\n",
    "\n",
    "Stuff for other notebooks"
   ]
  },
  {
   "cell_type": "code",
   "execution_count": 61,
   "metadata": {},
   "outputs": [],
   "source": [
    "params = dict(\n",
    "    n_mutations=N_VALS,\n",
    "    kmerspec=kspec,\n",
    ")\n",
    "\n",
    "with open(tmpdir / 'params.json', 'wt') as f:\n",
    "    gjson.dump(params, f)"
   ]
  }
 ],
 "metadata": {
  "kernelspec": {
   "display_name": "GAMBIT",
   "language": "python",
   "name": "gambit"
  },
  "language_info": {
   "codemirror_mode": {
    "name": "ipython",
    "version": 3
   },
   "file_extension": ".py",
   "mimetype": "text/x-python",
   "name": "python",
   "nbconvert_exporter": "python",
   "pygments_lexer": "ipython3",
   "version": "3.9.5"
  }
 },
 "nbformat": 4,
 "nbformat_minor": 4
}
