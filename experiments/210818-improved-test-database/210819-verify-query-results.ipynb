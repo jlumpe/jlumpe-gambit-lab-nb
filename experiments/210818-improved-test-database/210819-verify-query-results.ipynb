{
 "cells": [
  {
   "cell_type": "markdown",
   "metadata": {},
   "source": [
    "# 210818 Verify query results"
   ]
  },
  {
   "cell_type": "code",
   "execution_count": 1,
   "metadata": {},
   "outputs": [],
   "source": [
    "from pathlib import Path"
   ]
  },
  {
   "cell_type": "code",
   "execution_count": 2,
   "metadata": {},
   "outputs": [],
   "source": [
    "import pandas as pd"
   ]
  },
  {
   "cell_type": "code",
   "execution_count": 3,
   "metadata": {},
   "outputs": [],
   "source": [
    "from gambit.db import load_database\n",
    "from gambit.query import query_parse, QueryParams\n",
    "from gambit.io.seq import SequenceFile"
   ]
  },
  {
   "cell_type": "markdown",
   "metadata": {},
   "source": [
    "## File paths"
   ]
  },
  {
   "cell_type": "code",
   "execution_count": 4,
   "metadata": {},
   "outputs": [],
   "source": [
    "outdir = Path('output')\n",
    "tmpdir = Path('tmp')"
   ]
  },
  {
   "cell_type": "code",
   "execution_count": 5,
   "metadata": {},
   "outputs": [],
   "source": [
    "infiles = dict(\n",
    "    ref_genomes=outdir / 'testdb_210818-genomes.db',\n",
    "    ref_sigs=outdir / 'testdb_210818-signatures.h5',\n",
    "    queries_table=tmpdir / 'query-seqs.csv',\n",
    ")"
   ]
  },
  {
   "cell_type": "markdown",
   "metadata": {},
   "source": [
    "## Load data"
   ]
  },
  {
   "cell_type": "code",
   "execution_count": 6,
   "metadata": {},
   "outputs": [],
   "source": [
    "db = load_database(infiles['ref_genomes'], infiles['ref_sigs'])"
   ]
  },
  {
   "cell_type": "code",
   "execution_count": 7,
   "metadata": {},
   "outputs": [],
   "source": [
    "queries_df = pd.read_csv(infiles['queries_table'])"
   ]
  },
  {
   "cell_type": "code",
   "execution_count": 10,
   "metadata": {},
   "outputs": [],
   "source": [
    "queries_dir = tmpdir / 'query-seqs'\n",
    "\n",
    "query_files = SequenceFile.from_paths([queries_dir / f'{name}.fasta' for name in queries_df['name']], 'fasta')"
   ]
  },
  {
   "cell_type": "markdown",
   "metadata": {},
   "source": [
    "## Query"
   ]
  },
  {
   "cell_type": "code",
   "execution_count": 11,
   "metadata": {},
   "outputs": [],
   "source": [
    "params = QueryParams(classify_strict=True)\n",
    "results = query_parse(db, query_files, params)"
   ]
  },
  {
   "cell_type": "code",
   "execution_count": 12,
   "metadata": {},
   "outputs": [],
   "source": [
    "for row, item in zip(queries_df.itertuples(), results.items):\n",
    "    assert item.input.file.path.stem == row.name\n",
    "    \n",
    "    cr = item.classifier_result\n",
    "    \n",
    "    if pd.isnull(row.predicted):\n",
    "        assert cr.predicted_taxon is None\n",
    "        assert cr.primary_match is None\n",
    "    else:\n",
    "        assert cr.predicted_taxon.name == row.predicted\n",
    "        assert cr.primary_match.genome.description == row.primary\n",
    "        \n",
    "    assert cr.closest_match.genome.description == row.closest\n",
    "    assert bool(cr.warnings) == row.warnings"
   ]
  }
 ],
 "metadata": {
  "kernelspec": {
   "display_name": "GAMBIT",
   "language": "python",
   "name": "gambit"
  },
  "language_info": {
   "codemirror_mode": {
    "name": "ipython",
    "version": 3
   },
   "file_extension": ".py",
   "mimetype": "text/x-python",
   "name": "python",
   "nbconvert_exporter": "python",
   "pygments_lexer": "ipython3",
   "version": "3.9.5"
  }
 },
 "nbformat": 4,
 "nbformat_minor": 4
}
