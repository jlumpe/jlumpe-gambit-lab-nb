{
 "cells": [
  {
   "cell_type": "markdown",
   "id": "ac3928a9-578a-44cf-81db-50d3dd6f3231",
   "metadata": {},
   "source": [
    "# 211001 Benchmarks"
   ]
  },
  {
   "cell_type": "code",
   "execution_count": 1,
   "id": "29b39bd4-217e-43fc-998e-a2fe6378a8c9",
   "metadata": {},
   "outputs": [],
   "source": [
    "from pathlib import Path\n",
    "from datetime import datetime"
   ]
  },
  {
   "cell_type": "code",
   "execution_count": 2,
   "id": "c1b9b60d-cf83-42a4-b2e2-fa9aa93361ae",
   "metadata": {},
   "outputs": [],
   "source": [
    "import numpy as np\n",
    "import pandas as pd\n",
    "import h5py as h5\n",
    "from tqdm import tqdm"
   ]
  },
  {
   "cell_type": "code",
   "execution_count": 4,
   "id": "d73b74fe-fc4b-44a7-a10e-1cf896759847",
   "metadata": {},
   "outputs": [],
   "source": [
    "from gambit.signatures.hdf5 import HDF5Signatures"
   ]
  },
  {
   "cell_type": "markdown",
   "id": "f5a6f56b-f706-4f2d-87be-349dd8f0667a",
   "metadata": {},
   "source": [
    "## Setup"
   ]
  },
  {
   "cell_type": "code",
   "execution_count": 39,
   "id": "726b186b-7bd5-485b-bb5b-ab1ada266f4b",
   "metadata": {},
   "outputs": [],
   "source": [
    "DATESTR = '211001'\n",
    "NBNAME = DATESTR + '-benchmarks'"
   ]
  },
  {
   "cell_type": "code",
   "execution_count": 5,
   "id": "ba257bf0-641a-4ff0-a7a8-b48d99b0e39a",
   "metadata": {},
   "outputs": [],
   "source": [
    "infiles = dict(\n",
    "    params=Path('../../data/intermediate/210902-mash-Escherichia-genomes/210917-gambit/params.csv'),\n",
    "    sigs=Path('labnb/experiments/210902-mash-Escherichia-genomes/tmp/gambit/signatures/'),\n",
    ")"
   ]
  },
  {
   "cell_type": "code",
   "execution_count": 42,
   "id": "8c5524d2-5469-4ffa-8f05-aafd84cb750f",
   "metadata": {},
   "outputs": [],
   "source": [
    "intermediate_out = Path('data-intermediate') / NBNAME\n",
    "intermediate_out.mkdir(exist_ok=True)"
   ]
  },
  {
   "cell_type": "code",
   "execution_count": 6,
   "id": "c86eb428-c979-4453-bc5b-093456f6cd1d",
   "metadata": {},
   "outputs": [],
   "source": [
    "tmpdir = Path('tmp')\n",
    "tmpdir.mkdir(exist_ok=True)"
   ]
  },
  {
   "cell_type": "markdown",
   "id": "b5394b37-616c-4716-9b2d-f0dfd12bfde0",
   "metadata": {},
   "source": [
    "## Load data"
   ]
  },
  {
   "cell_type": "markdown",
   "id": "cefa79eb-c350-4a13-a4cd-61781e50dc1a",
   "metadata": {},
   "source": [
    "### Original signatures"
   ]
  },
  {
   "cell_type": "code",
   "execution_count": 7,
   "id": "ce19ceb3-9c70-4ff5-b379-834c5a85ab05",
   "metadata": {},
   "outputs": [],
   "source": [
    "params_df = pd.read_csv(infiles['params'], index_col=['prefix_len', 'prefix_version', 'k'])\n",
    "nparams = params_df.shape[0]"
   ]
  },
  {
   "cell_type": "code",
   "execution_count": 8,
   "id": "dd149569-c954-40d2-b7dd-173dcc4055b0",
   "metadata": {},
   "outputs": [],
   "source": [
    "orig_dir = Path('../210902-mash-Escherichia-genomes/tmp/gambit/signatures/')"
   ]
  },
  {
   "cell_type": "code",
   "execution_count": 9,
   "id": "e2f124b3-d41a-4617-9173-638be214dc31",
   "metadata": {},
   "outputs": [],
   "source": [
    "orig_files = [orig_dir / f'{row.k}-{row.prefix}.h5' for i, row in params_df.reset_index().iterrows()]"
   ]
  },
  {
   "cell_type": "code",
   "execution_count": 69,
   "id": "c9f6be1e-41ec-4596-b99a-4453d03d8f93",
   "metadata": {},
   "outputs": [],
   "source": [
    "nkmers = []\n",
    "nsigs = []\n",
    "dtypes = []\n",
    "nbytes = []\n",
    "\n",
    "for orig_file in orig_files:\n",
    "    sigs = HDF5Signatures.open(orig_file)\n",
    "    nkmers.append(len(sigs.values))\n",
    "    nsigs.append(len(sigs))\n",
    "    dtypes.append(str(sigs.dtype))\n",
    "    nbytes.append(sigs.dtype.itemsize)\n",
    "\n",
    "params_df['nkmers'] = nkmers\n",
    "params_df['nsigs'] = nsigs\n",
    "params_df['dtype'] = dtypes\n",
    "params_df['dtype_bytes'] = nbytes"
   ]
  },
  {
   "cell_type": "markdown",
   "id": "744af390-0a67-4fe2-8139-22d75115602f",
   "metadata": {},
   "source": [
    "## Compress"
   ]
  },
  {
   "cell_type": "code",
   "execution_count": 20,
   "id": "688289c5-813b-433c-aea9-673f21a750c2",
   "metadata": {},
   "outputs": [],
   "source": [
    "methods = ['gzip', 'lzf']\n",
    "methods_all = ['none', *methods]"
   ]
  },
  {
   "cell_type": "code",
   "execution_count": 21,
   "id": "e1ec0299-f585-4c99-805b-c9ce2fec5296",
   "metadata": {},
   "outputs": [],
   "source": [
    "files=dict(\n",
    "    none=orig_files,\n",
    ")"
   ]
  },
  {
   "cell_type": "code",
   "execution_count": 22,
   "id": "4c42d633-89f7-4aed-85cf-8679a0989949",
   "metadata": {},
   "outputs": [],
   "source": [
    "for method in methods:\n",
    "    d = tmpdir / method\n",
    "    d.mkdir(exist_ok=True)\n",
    "    files[method] = [d / f.name for f in orig_files]"
   ]
  },
  {
   "cell_type": "code",
   "execution_count": 23,
   "id": "fb2eb0e5-7a21-4549-b945-2eeb3a6a3d8d",
   "metadata": {},
   "outputs": [
    {
     "name": "stderr",
     "output_type": "stream",
     "text": [
      "gzip: 192it [00:00, 735.12it/s]\n",
      "lzf: 192it [00:57,  3.31it/s]\n"
     ]
    }
   ],
   "source": [
    "for method in methods:\n",
    "    for orig_file, compressed_file in tqdm(zip(orig_files, files[method]), desc=method):\n",
    "        sigs = HDF5Signatures.open(orig_file)\n",
    "\n",
    "        if not compressed_file.is_file():\n",
    "            with h5.File(compressed_file, 'w') as f:\n",
    "                HDF5Signatures.create(f, sigs, compression=method)"
   ]
  },
  {
   "cell_type": "markdown",
   "id": "b2f591bb-afc0-4b38-b4b5-0d895b790fe1",
   "metadata": {},
   "source": [
    "## Measure performance"
   ]
  },
  {
   "cell_type": "code",
   "execution_count": 24,
   "id": "8867caf4-fa6b-4995-a059-04147fd21c49",
   "metadata": {},
   "outputs": [],
   "source": [
    "ntrials = 5"
   ]
  },
  {
   "cell_type": "code",
   "execution_count": 30,
   "id": "4f53f180-968f-4ce9-a2f8-dc71ac352d07",
   "metadata": {},
   "outputs": [],
   "source": [
    "trials_index = pd.MultiIndex.from_product((methods_all, range(1, ntrials+1)), names=['method', 'trial'])"
   ]
  },
  {
   "cell_type": "markdown",
   "id": "e29ce6e4-5fe2-4270-a7e9-4dd102deda87",
   "metadata": {},
   "source": [
    "### File sizes"
   ]
  },
  {
   "cell_type": "code",
   "execution_count": 25,
   "id": "9d6b5166-cc61-43f2-93a8-ffa6b58dc086",
   "metadata": {},
   "outputs": [],
   "source": [
    "sizes_df = pd.DataFrame(\n",
    "    {method: [f.stat().st_size for f in files] for method, files in files.items()},\n",
    "    index=params_df.index,\n",
    ")"
   ]
  },
  {
   "cell_type": "code",
   "execution_count": 27,
   "id": "2d5119ca-6721-42a3-9179-2c1c4b5459af",
   "metadata": {},
   "outputs": [],
   "source": [
    "for method in methods:\n",
    "    sizes_df[method + '_ratio'] = sizes_df[method] / sizes_df['none']"
   ]
  },
  {
   "cell_type": "markdown",
   "id": "b1ca1d31-2a9c-432b-9b60-e96b2f327a90",
   "metadata": {},
   "source": [
    "### Read all at once"
   ]
  },
  {
   "cell_type": "code",
   "execution_count": 33,
   "id": "770f2368-e462-4c6d-b4e4-ece2e44fd14c",
   "metadata": {},
   "outputs": [],
   "source": [
    "read_all = pd.DataFrame(np.full((nparams, len(trials_index)), -1), index=params_df.index, columns=trials_index)"
   ]
  },
  {
   "cell_type": "code",
   "execution_count": 36,
   "id": "5bcf5c05-a645-4979-9645-8060540be43f",
   "metadata": {},
   "outputs": [
    {
     "name": "stderr",
     "output_type": "stream",
     "text": [
      "100%|██████████| 192/192 [00:35<00:00,  5.41it/s]\n",
      "100%|██████████| 192/192 [00:36<00:00,  5.30it/s]\n",
      "100%|██████████| 192/192 [00:36<00:00,  5.29it/s]\n",
      "100%|██████████| 192/192 [00:37<00:00,  5.16it/s]\n",
      "100%|██████████| 192/192 [00:36<00:00,  5.26it/s]\n"
     ]
    }
   ],
   "source": [
    "for trial in range(ntrials):\n",
    "    for i in tqdm(range(nparams)):\n",
    "        for method in methods_all:\n",
    "            file = files[method][i]\n",
    "            \n",
    "            with HDF5Signatures.open(file) as sigs:\n",
    "                start = datetime.now()\n",
    "                sigs[:]\n",
    "                dt = datetime.now() - start\n",
    "\n",
    "            read_all.loc[:, (method, trial+1)].iloc[i] = dt.microseconds"
   ]
  },
  {
   "cell_type": "markdown",
   "id": "f7581624-50a1-4473-bc42-356dae07e46e",
   "metadata": {},
   "source": [
    "### Read one at a time"
   ]
  },
  {
   "cell_type": "code",
   "execution_count": 37,
   "id": "390c56f0-b030-4d9f-8f91-3ce3690b67b8",
   "metadata": {},
   "outputs": [],
   "source": [
    "read_single = pd.DataFrame(np.full((nparams, len(trials_index)), -1), index=params_df.index, columns=trials_index)"
   ]
  },
  {
   "cell_type": "code",
   "execution_count": 38,
   "id": "aba42394-bdc1-48f4-a046-0521dbde1d0c",
   "metadata": {},
   "outputs": [
    {
     "name": "stderr",
     "output_type": "stream",
     "text": [
      "100%|██████████| 192/192 [01:18<00:00,  2.45it/s]\n",
      "100%|██████████| 192/192 [01:18<00:00,  2.44it/s]\n",
      "100%|██████████| 192/192 [01:17<00:00,  2.49it/s]\n",
      "100%|██████████| 192/192 [01:20<00:00,  2.39it/s]\n",
      "100%|██████████| 192/192 [01:19<00:00,  2.42it/s]\n"
     ]
    }
   ],
   "source": [
    "for trial in range(ntrials):\n",
    "    for i in tqdm(range(nparams)):\n",
    "        for method in methods_all:\n",
    "            file = files[method][i]\n",
    "            \n",
    "            with HDF5Signatures.open(file) as sigs:\n",
    "                start = datetime.now()\n",
    "                for sig in sigs:\n",
    "                    pass\n",
    "                dt = datetime.now() - start\n",
    "\n",
    "            read_single.loc[:, (method, trial+1)].iloc[i] = dt.microseconds"
   ]
  },
  {
   "cell_type": "markdown",
   "id": "2a18e35e-b8cc-413c-a641-4efbbae6448c",
   "metadata": {},
   "source": [
    "## Save data"
   ]
  },
  {
   "cell_type": "code",
   "execution_count": 71,
   "id": "5ae3caee-62e9-4549-a34a-b1edc0e517ef",
   "metadata": {},
   "outputs": [],
   "source": [
    "params_df.to_csv(intermediate_out / 'signature-sets.csv')"
   ]
  },
  {
   "cell_type": "code",
   "execution_count": 55,
   "id": "d2973897-2610-40e4-9775-879e088a179f",
   "metadata": {},
   "outputs": [],
   "source": [
    "sizes_df.to_csv(intermediate_out / 'file-sizes.csv')"
   ]
  },
  {
   "cell_type": "code",
   "execution_count": 56,
   "id": "74659c7d-7457-4d52-b16a-6e95dac6bdbc",
   "metadata": {},
   "outputs": [],
   "source": [
    "reads_df = pd.concat([read_all, read_single], keys=['all', 'single'], names=['read_method']).stack('trial')\n",
    "\n",
    "reads_df.to_csv(intermediate_out / 'read-performance.csv')"
   ]
  }
 ],
 "metadata": {
  "kernelspec": {
   "display_name": "GAMBIT",
   "language": "python",
   "name": "gambit"
  },
  "language_info": {
   "codemirror_mode": {
    "name": "ipython",
    "version": 3
   },
   "file_extension": ".py",
   "mimetype": "text/x-python",
   "name": "python",
   "nbconvert_exporter": "python",
   "pygments_lexer": "ipython3",
   "version": "3.9.7"
  }
 },
 "nbformat": 4,
 "nbformat_minor": 5
}
