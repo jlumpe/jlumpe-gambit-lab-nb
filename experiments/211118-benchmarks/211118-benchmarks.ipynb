{
 "cells": [
  {
   "cell_type": "markdown",
   "id": "e3c2282b-d2d3-4955-a6f5-c5b5060b1bdd",
   "metadata": {},
   "source": [
    "# 211118 Simple benchmarks"
   ]
  },
  {
   "cell_type": "code",
   "execution_count": 34,
   "id": "60c796ce-e07d-4b28-8675-7157b40b4bc7",
   "metadata": {},
   "outputs": [],
   "source": [
    "from pathlib import Path\n",
    "from subprocess import run, CalledProcessError, PIPE\n",
    "from itertools import product"
   ]
  },
  {
   "cell_type": "code",
   "execution_count": 2,
   "id": "43a8ef3f-65dd-40ba-8284-fec3e2cfa297",
   "metadata": {},
   "outputs": [],
   "source": [
    "import numpy as np\n",
    "import pandas as pd\n",
    "from tqdm import tqdm"
   ]
  },
  {
   "cell_type": "code",
   "execution_count": 3,
   "id": "3d6a7e33-5ece-482e-9f9c-2de766748096",
   "metadata": {},
   "outputs": [],
   "source": [
    "# from gambit.db import load_database_from_dir\n",
    "# from gambit.db.fromfile import locate_db_files\n",
    "\n",
    "from gambit.sigs import SignatureArray\n",
    "from gambit.sigs.calc import calc_file_signatures\n",
    "from gambit.io.seq import SequenceFile\n",
    "from gambit.sigs.hdf5 import HDF5Signatures\n",
    "from gambit.kmers import KmerSpec\n",
    "from gambit.metric import jaccarddist_matrix"
   ]
  },
  {
   "cell_type": "markdown",
   "id": "098eb18a-16fb-483f-8c53-51236133affe",
   "metadata": {},
   "source": [
    "## Setup"
   ]
  },
  {
   "cell_type": "code",
   "execution_count": 4,
   "id": "a599a079-543c-4071-96c3-4b4045df0b6f",
   "metadata": {},
   "outputs": [],
   "source": [
    "DATESTR = '211118'"
   ]
  },
  {
   "cell_type": "code",
   "execution_count": 5,
   "id": "d1eae9dd-aeb9-454d-8a7d-dded1478853a",
   "metadata": {},
   "outputs": [],
   "source": [
    "infiles = dict(\n",
    "    ondov_table=Path('../210902-mash-Escherichia-genomes/data-processed/210902-get-genomes/210902-mash-genomes-filtered.csv'),\n",
    "    ondov_genomes_dir=Path('/home/jared/projects/gambit/data/external/ondov-2016/Escherichia/genomes/'),\n",
    "    konstantinidis_table=Path('../../data/external/konstantinidis-2005/210910-genomes.csv'),\n",
    "    konstantinidis_genomes_dir=Path('/home/jared/projects/gambit/data/external/konstantinidis-2005/genomes/'),\n",
    ")"
   ]
  },
  {
   "cell_type": "code",
   "execution_count": 6,
   "id": "b0ceba78-3d17-4c74-96a3-d1f884304852",
   "metadata": {},
   "outputs": [],
   "source": [
    "tmpdir = Path('tmp')\n",
    "tmpdir.mkdir(exist_ok=True)\n",
    "\n",
    "outputs_dir = tmpdir / 'outputs'\n",
    "outputs_dir.mkdir(exist_ok=True)"
   ]
  },
  {
   "cell_type": "markdown",
   "id": "f2db903a-9ec4-48aa-83c2-25b38552f0c7",
   "metadata": {},
   "source": [
    "## Prepare genome files"
   ]
  },
  {
   "cell_type": "markdown",
   "id": "27a4a177-2a3a-4c81-b02a-61164910f9d9",
   "metadata": {},
   "source": [
    "### Locate zipped files"
   ]
  },
  {
   "cell_type": "code",
   "execution_count": 7,
   "id": "19224beb-cd39-435a-889b-104d35cbcad3",
   "metadata": {},
   "outputs": [],
   "source": [
    "zipped_genome_files = dict()"
   ]
  },
  {
   "cell_type": "code",
   "execution_count": 8,
   "id": "3bb3bc5c-f395-4239-8f3e-7e5176c75649",
   "metadata": {},
   "outputs": [],
   "source": [
    "ondov_table = pd.read_csv(infiles['ondov_table'])\n",
    "ondov_table.sort_values('assembly_accession', inplace=True)\n",
    "\n",
    "zipped_genome_files['ondov_2016'] = [\n",
    "    infiles['ondov_genomes_dir'] / f'{acc}.fa.gz'\n",
    "    for acc in ondov_table['assembly_accession']\n",
    "]"
   ]
  },
  {
   "cell_type": "code",
   "execution_count": 9,
   "id": "e1eb4d15-e99c-479a-bca8-50764cd95519",
   "metadata": {},
   "outputs": [],
   "source": [
    "konst_table = pd.read_csv(infiles['konstantinidis_table'])\n",
    "konst_table.sort_values('assembly', inplace=True)\n",
    "\n",
    "zipped_genome_files['konstantinidis_2005'] = [\n",
    "    infiles['konstantinidis_genomes_dir'] / f'{acc}.fa.gz'\n",
    "    for acc in konst_table['assembly']\n",
    "]"
   ]
  },
  {
   "cell_type": "code",
   "execution_count": 10,
   "id": "adbaa5b5-9baa-4aa4-b922-e2a79518ae1b",
   "metadata": {},
   "outputs": [],
   "source": [
    "dsets = list(zipped_genome_files.keys())"
   ]
  },
  {
   "cell_type": "markdown",
   "id": "2ce8d402-b4e0-4341-ab1c-fbcc6693ceed",
   "metadata": {},
   "source": [
    "### Unzip"
   ]
  },
  {
   "cell_type": "code",
   "execution_count": 11,
   "id": "c7c95e56-cbd9-4d74-9519-a577be189cbf",
   "metadata": {},
   "outputs": [],
   "source": [
    "genomes_base_dir = tmpdir / 'genomes'\n",
    "genomes_base_dir.mkdir(exist_ok=True)\n",
    "\n",
    "genome_dirs = {dset: genomes_base_dir / dset for dset in dsets}\n",
    "\n",
    "for d in genome_dirs.values():\n",
    "    d.mkdir(exist_ok=True)"
   ]
  },
  {
   "cell_type": "code",
   "execution_count": 12,
   "id": "7bab9153-0e3d-44c1-ad37-8da7cd3a4846",
   "metadata": {},
   "outputs": [],
   "source": [
    "genome_files = {\n",
    "    dset: [genome_dirs[dset] / f.stem for f in files]\n",
    "    for dset, files in zipped_genome_files.items()\n",
    "}"
   ]
  },
  {
   "cell_type": "code",
   "execution_count": 13,
   "id": "283f22d7-f9b2-4da1-8b09-6af909f96bef",
   "metadata": {},
   "outputs": [
    {
     "name": "stderr",
     "output_type": "stream",
     "text": [
      "492it [00:00, 100840.38it/s]\n",
      "70it [00:00, 107862.34it/s]\n"
     ]
    }
   ],
   "source": [
    "for ds in dsets:\n",
    "    for src, dst in tqdm(zip(zipped_genome_files[ds], genome_files[ds])):\n",
    "        assert src.is_file()\n",
    "        if not dst.is_file():\n",
    "            run(f'gunzip -c {src} > {dst}', shell=True, check=True)"
   ]
  },
  {
   "cell_type": "markdown",
   "id": "85966a97-69bd-4d96-ae81-e9f5b7dc151c",
   "metadata": {},
   "source": [
    "## Select reference genomes"
   ]
  },
  {
   "cell_type": "code",
   "execution_count": 14,
   "id": "738f1fc1-0439-47df-902c-30b4b8312d73",
   "metadata": {},
   "outputs": [],
   "source": [
    "ref_files = dict()"
   ]
  },
  {
   "cell_type": "markdown",
   "id": "654712ee-a592-4ae2-bf46-8c7614755eb6",
   "metadata": {},
   "source": [
    "### Ondov\n",
    "\n",
    "Just select 25 random ones."
   ]
  },
  {
   "cell_type": "code",
   "execution_count": 15,
   "id": "e1620c5f-e753-461f-8dd0-d8a465080675",
   "metadata": {},
   "outputs": [],
   "source": [
    "np.random.seed(0)\n",
    "ref_files['ondov_2016'] = np.random.choice(genome_files['ondov_2016'], size=25, replace=False)"
   ]
  },
  {
   "cell_type": "markdown",
   "id": "4450f8f8-6c63-411b-83f8-af097a6c7831",
   "metadata": {},
   "source": [
    "### Konstantinidis\n",
    "\n",
    "Select one from each group."
   ]
  },
  {
   "cell_type": "code",
   "execution_count": 16,
   "id": "441f2e29-d215-4c43-80ce-e5720a548d95",
   "metadata": {},
   "outputs": [],
   "source": [
    "_ds = 'konstantinidis_2005'\n",
    "\n",
    "ref_files[_ds] = [\n",
    "    genome_dirs[_ds] / f'{acc}.fa'\n",
    "    for acc in konst_table.groupby('group')['assembly'].first()\n",
    "]"
   ]
  },
  {
   "cell_type": "markdown",
   "id": "c587857d-d034-49c0-b76f-8fa837551d81",
   "metadata": {},
   "source": [
    "## Configure tools"
   ]
  },
  {
   "cell_type": "code",
   "execution_count": 17,
   "id": "0367e6fc-7fdd-4062-a2b0-ab6bb485437f",
   "metadata": {},
   "outputs": [],
   "source": [
    "benchmark_items = []"
   ]
  },
  {
   "cell_type": "markdown",
   "id": "595e7cd4-b2a4-4e06-9aa1-f57e07369f08",
   "metadata": {},
   "source": [
    "### General"
   ]
  },
  {
   "cell_type": "code",
   "execution_count": 18,
   "id": "c58d7f15-f808-4bd5-a259-5cea78a2be2b",
   "metadata": {},
   "outputs": [],
   "source": [
    "NPROCS = 6\n",
    "NTHREADS = NPROCS * 2"
   ]
  },
  {
   "cell_type": "code",
   "execution_count": 19,
   "id": "765ef3d4-0865-48ed-8869-58611d835313",
   "metadata": {},
   "outputs": [],
   "source": [
    "QUERY_FILE_LISTS = {ds: d / 'queries.txt' for ds, d in genome_dirs.items()}\n",
    "REF_FILE_LISTS = {ds: d / 'refs.txt' for ds, d in genome_dirs.items()}\n",
    "\n",
    "for ds in dsets:\n",
    "    with open(QUERY_FILE_LISTS[ds], 'w') as f:\n",
    "        for p in genome_files[ds]:\n",
    "            f.write(f'{p}\\n')\n",
    "            \n",
    "    with open(REF_FILE_LISTS[ds], 'w') as f:\n",
    "        for p in ref_files[ds]:\n",
    "            f.write(f'{p}\\n')"
   ]
  },
  {
   "cell_type": "markdown",
   "id": "14e6d485-a312-4eca-ac03-b51234e533bc",
   "metadata": {},
   "source": [
    "### GAMBIT"
   ]
  },
  {
   "cell_type": "code",
   "execution_count": null,
   "id": "4fc33cf6-cf16-4987-991f-69b5d3791554",
   "metadata": {},
   "outputs": [],
   "source": [
    "gambit_sigs_out = outputs_dir / 'gambit-signatures.h5'\n",
    "# gambit_dists_out = outputs_dir / 'gambit-query-results.json'"
   ]
  },
  {
   "cell_type": "code",
   "execution_count": null,
   "id": "7dafc18c-5df7-4ae3-9fb7-967fb52fc224",
   "metadata": {},
   "outputs": [],
   "source": [
    "GAMBIT_K = [11]\n",
    "GAMBIT_PREFIX = ['ATGAC']\n",
    "\n",
    "GAMBIT_PARAMS = {f'{k}-{prefix}': dict(k=k, prefix=prefix) for k, prefix in product(GAMBIT_K, GAMBIT_PREFIX)}"
   ]
  },
  {
   "cell_type": "code",
   "execution_count": null,
   "id": "04f48155-0dbb-4229-a964-e7c7e095a824",
   "metadata": {},
   "outputs": [],
   "source": [
    "def calc_gambit_sigs(**kw):\n",
    "    return SignatureArray(calc_file_signatures(kspec, seqfiles, concurrency='processes', **kw))"
   ]
  },
  {
   "cell_type": "code",
   "execution_count": null,
   "id": "be9fd260-996d-4e6e-b2ac-e9d30772063d",
   "metadata": {},
   "outputs": [],
   "source": [
    "def benchmark_gambit_sigs(dset, params=None):\n",
    "    fff"
   ]
  },
  {
   "cell_type": "code",
   "execution_count": null,
   "id": "4a352007-e3da-4883-8196-be4fa6dad309",
   "metadata": {},
   "outputs": [],
   "source": [
    "sigs = calc_gambit_sigs(progress=True)"
   ]
  },
  {
   "cell_type": "code",
   "execution_count": null,
   "id": "a601b907-1753-4520-8927-5114add8f4a5",
   "metadata": {},
   "outputs": [],
   "source": [
    "def benchmark_gambit_dists(dset, params=None):\n",
    "    return jaccarddist_matrix(sigs, sigs)"
   ]
  },
  {
   "cell_type": "markdown",
   "id": "85c4ad2f-2445-4315-8fab-3c6487410635",
   "metadata": {},
   "source": [
    "### Mash"
   ]
  },
  {
   "cell_type": "code",
   "execution_count": 42,
   "id": "3e4ce2aa-86bc-4485-8161-275871e35d1c",
   "metadata": {},
   "outputs": [],
   "source": [
    "MASH_CMD = '/home/jared/opt/anaconda3/envs/gambit-bioconda/bin/mash'\n",
    "\n",
    "MASH_S = [500, 1_000, 5_000, 10_000]\n",
    "MASH_K = [16, 21]\n",
    "\n",
    "MASH_PARAMS = {f's{s}-k{k}': (s, k) for s, k in product(MASH_S, MASH_K)}\n",
    "\n",
    "MASH_SKETCH_OUT = outputs_dir / '.mash-sketch'"
   ]
  },
  {
   "cell_type": "code",
   "execution_count": 60,
   "id": "da71a563-2340-4c20-ad11-7ff90a3c690d",
   "metadata": {},
   "outputs": [
    {
     "data": {
      "text/plain": [
       "PosixPath('tmp/outputs')"
      ]
     },
     "execution_count": 60,
     "metadata": {},
     "output_type": "execute_result"
    }
   ],
   "source": [
    "outputs_dir"
   ]
  },
  {
   "cell_type": "code",
   "execution_count": 62,
   "id": "309d568a-c22e-4948-a02e-ed31be711427",
   "metadata": {},
   "outputs": [],
   "source": [
    "def benchmark_mash_sketch(dset, params):\n",
    "    queries = genome_files[dset]\n",
    "    s, k = params\n",
    "    \n",
    "    cmd = list(map(str, [\n",
    "        MASH_CMD,\n",
    "        'sketch',\n",
    "        '-p', NTHREADS,\n",
    "        '-l', QUERY_FILE_LISTS[ds],\n",
    "        '-k', k,\n",
    "        '-s', s,\n",
    "        '-o', MASH_SKETCH_OUT,\n",
    "    ]))\n",
    "    \n",
    "    return run(cmd, capture_output=True)"
   ]
  },
  {
   "cell_type": "code",
   "execution_count": 63,
   "id": "b7e407db-6001-41d8-8686-bef12f7a210c",
   "metadata": {},
   "outputs": [
    {
     "name": "stdout",
     "output_type": "stream",
     "text": [
      "CPU times: user 10.5 ms, sys: 8.8 ms, total: 19.3 ms\n",
      "Wall time: 1.24 s\n"
     ]
    }
   ],
   "source": [
    "%time r = benchmark_mash_sketch('ondov_2016', (500, 16))"
   ]
  },
  {
   "cell_type": "code",
   "execution_count": 58,
   "id": "bb90f6e9-0a2a-4715-9c13-e6fbb8758b51",
   "metadata": {},
   "outputs": [
    {
     "data": {
      "text/plain": [
       "71"
      ]
     },
     "execution_count": 58,
     "metadata": {},
     "output_type": "execute_result"
    }
   ],
   "source": [
    "len(list(r.stderr.decode().splitlines()))"
   ]
  },
  {
   "cell_type": "markdown",
   "id": "bef934f0-459f-42b3-9d56-be4f00e1d341",
   "metadata": {},
   "source": [
    "### FastANI"
   ]
  },
  {
   "cell_type": "markdown",
   "id": "2b781222-dc46-439a-80c2-4ba1cd6f0bf2",
   "metadata": {},
   "source": [
    "## Run benchmarks"
   ]
  }
 ],
 "metadata": {
  "kernelspec": {
   "display_name": "GAMBIT",
   "language": "python",
   "name": "gambit"
  },
  "language_info": {
   "codemirror_mode": {
    "name": "ipython",
    "version": 3
   },
   "file_extension": ".py",
   "mimetype": "text/x-python",
   "name": "python",
   "nbconvert_exporter": "python",
   "pygments_lexer": "ipython3",
   "version": "3.9.10"
  }
 },
 "nbformat": 4,
 "nbformat_minor": 5
}
