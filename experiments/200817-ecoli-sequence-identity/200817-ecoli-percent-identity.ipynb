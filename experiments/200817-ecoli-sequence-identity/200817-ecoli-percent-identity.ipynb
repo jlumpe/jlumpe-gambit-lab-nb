{
 "cells": [
  {
   "cell_type": "code",
   "execution_count": 1,
   "metadata": {},
   "outputs": [],
   "source": [
    "import re\n",
    "from pathlib import Path\n",
    "import numpy as np\n",
    "import pandas as pd\n",
    "from tqdm import tqdm\n",
    "import matplotlib.pyplot as plt\n",
    "import seaborn as sns\n",
    "import scipy.cluster.hierarchy as sch\n",
    "from scipy.spatial.distance import squareform"
   ]
  },
  {
   "cell_type": "code",
   "execution_count": 2,
   "metadata": {},
   "outputs": [],
   "source": [
    "from midas.kmers import KmerSpec, find_kmers_parse, vec_to_coords\n",
    "from midas.cython.metrics import jaccard_coords\n",
    "from midas.cython.seqs import coords_dtype"
   ]
  },
  {
   "cell_type": "code",
   "execution_count": 3,
   "metadata": {},
   "outputs": [],
   "source": [
    "outdir = Path('../../data/processed/200817-ecoli-sequence-identity')\n",
    "outdir.mkdir(exist_ok=True)"
   ]
  },
  {
   "cell_type": "markdown",
   "metadata": {},
   "source": [
    "## Load/find data"
   ]
  },
  {
   "cell_type": "markdown",
   "metadata": {},
   "source": [
    "### Sequences"
   ]
  },
  {
   "cell_type": "code",
   "execution_count": 4,
   "metadata": {},
   "outputs": [],
   "source": [
    "seqdir = Path('/Users/student/projects/midas/data2/200817-ecoli-genomes-for-identity/')"
   ]
  },
  {
   "cell_type": "code",
   "execution_count": 5,
   "metadata": {},
   "outputs": [],
   "source": [
    "seqfiles = sorted(seqdir.glob('*.fasta'))\n",
    "nseqs = len(seqfiles)"
   ]
  },
  {
   "cell_type": "code",
   "execution_count": 6,
   "metadata": {},
   "outputs": [
    {
     "data": {
      "text/plain": [
       "[101, 102, 103, 108, 484, 485]"
      ]
     },
     "execution_count": 6,
     "metadata": {},
     "output_type": "execute_result"
    }
   ],
   "source": [
    "keys = [int(re.match(r'^SCU-(\\d\\d\\d)', f.stem).group(1)) for f in seqfiles]\n",
    "keys"
   ]
  },
  {
   "cell_type": "markdown",
   "metadata": {},
   "source": [
    "### Alignment identity"
   ]
  },
  {
   "cell_type": "code",
   "execution_count": 7,
   "metadata": {},
   "outputs": [
    {
     "data": {
      "text/html": [
       "<div>\n",
       "<style scoped>\n",
       "    .dataframe tbody tr th:only-of-type {\n",
       "        vertical-align: middle;\n",
       "    }\n",
       "\n",
       "    .dataframe tbody tr th {\n",
       "        vertical-align: top;\n",
       "    }\n",
       "\n",
       "    .dataframe thead th {\n",
       "        text-align: right;\n",
       "    }\n",
       "</style>\n",
       "<table border=\"1\" class=\"dataframe\">\n",
       "  <thead>\n",
       "    <tr style=\"text-align: right;\">\n",
       "      <th></th>\n",
       "      <th></th>\n",
       "      <th>n_aligned</th>\n",
       "      <th>n_unaligned</th>\n",
       "      <th>pct_aligned</th>\n",
       "      <th>pct_identity</th>\n",
       "    </tr>\n",
       "    <tr>\n",
       "      <th>genome1</th>\n",
       "      <th>genome2</th>\n",
       "      <th></th>\n",
       "      <th></th>\n",
       "      <th></th>\n",
       "      <th></th>\n",
       "    </tr>\n",
       "  </thead>\n",
       "  <tbody>\n",
       "    <tr>\n",
       "      <th rowspan=\"5\" valign=\"top\">101</th>\n",
       "      <th>102</th>\n",
       "      <td>5731946</td>\n",
       "      <td>425061</td>\n",
       "      <td>93.1</td>\n",
       "      <td>68.1</td>\n",
       "    </tr>\n",
       "    <tr>\n",
       "      <th>103</th>\n",
       "      <td>5978705</td>\n",
       "      <td>451539</td>\n",
       "      <td>93.0</td>\n",
       "      <td>69.3</td>\n",
       "    </tr>\n",
       "    <tr>\n",
       "      <th>108</th>\n",
       "      <td>5502311</td>\n",
       "      <td>403277</td>\n",
       "      <td>93.2</td>\n",
       "      <td>80.9</td>\n",
       "    </tr>\n",
       "    <tr>\n",
       "      <th>484</th>\n",
       "      <td>5532599</td>\n",
       "      <td>325596</td>\n",
       "      <td>94.4</td>\n",
       "      <td>82.5</td>\n",
       "    </tr>\n",
       "    <tr>\n",
       "      <th>485</th>\n",
       "      <td>5625051</td>\n",
       "      <td>84460</td>\n",
       "      <td>98.5</td>\n",
       "      <td>76.4</td>\n",
       "    </tr>\n",
       "    <tr>\n",
       "      <th rowspan=\"4\" valign=\"top\">102</th>\n",
       "      <th>103</th>\n",
       "      <td>5791542</td>\n",
       "      <td>51356</td>\n",
       "      <td>99.1</td>\n",
       "      <td>70.2</td>\n",
       "    </tr>\n",
       "    <tr>\n",
       "      <th>108</th>\n",
       "      <td>5718209</td>\n",
       "      <td>133584</td>\n",
       "      <td>97.7</td>\n",
       "      <td>68.7</td>\n",
       "    </tr>\n",
       "    <tr>\n",
       "      <th>484</th>\n",
       "      <td>5555003</td>\n",
       "      <td>322909</td>\n",
       "      <td>94.5</td>\n",
       "      <td>71.5</td>\n",
       "    </tr>\n",
       "    <tr>\n",
       "      <th>485</th>\n",
       "      <td>5273299</td>\n",
       "      <td>53307</td>\n",
       "      <td>99.0</td>\n",
       "      <td>71.2</td>\n",
       "    </tr>\n",
       "    <tr>\n",
       "      <th rowspan=\"3\" valign=\"top\">103</th>\n",
       "      <th>108</th>\n",
       "      <td>5509195</td>\n",
       "      <td>586106</td>\n",
       "      <td>90.4</td>\n",
       "      <td>71.2</td>\n",
       "    </tr>\n",
       "    <tr>\n",
       "      <th>484</th>\n",
       "      <td>5675894</td>\n",
       "      <td>511245</td>\n",
       "      <td>91.7</td>\n",
       "      <td>69.2</td>\n",
       "    </tr>\n",
       "    <tr>\n",
       "      <th>485</th>\n",
       "      <td>5779862</td>\n",
       "      <td>93469</td>\n",
       "      <td>98.4</td>\n",
       "      <td>66.4</td>\n",
       "    </tr>\n",
       "    <tr>\n",
       "      <th rowspan=\"2\" valign=\"top\">108</th>\n",
       "      <th>484</th>\n",
       "      <td>5211565</td>\n",
       "      <td>360106</td>\n",
       "      <td>93.5</td>\n",
       "      <td>86.9</td>\n",
       "    </tr>\n",
       "    <tr>\n",
       "      <th>485</th>\n",
       "      <td>4633865</td>\n",
       "      <td>201748</td>\n",
       "      <td>95.8</td>\n",
       "      <td>85.1</td>\n",
       "    </tr>\n",
       "    <tr>\n",
       "      <th>484</th>\n",
       "      <th>485</th>\n",
       "      <td>4657117</td>\n",
       "      <td>83616</td>\n",
       "      <td>98.2</td>\n",
       "      <td>84.6</td>\n",
       "    </tr>\n",
       "  </tbody>\n",
       "</table>\n",
       "</div>"
      ],
      "text/plain": [
       "                 n_aligned  n_unaligned  pct_aligned  pct_identity\n",
       "genome1 genome2                                                   \n",
       "101     102        5731946       425061         93.1          68.1\n",
       "        103        5978705       451539         93.0          69.3\n",
       "        108        5502311       403277         93.2          80.9\n",
       "        484        5532599       325596         94.4          82.5\n",
       "        485        5625051        84460         98.5          76.4\n",
       "102     103        5791542        51356         99.1          70.2\n",
       "        108        5718209       133584         97.7          68.7\n",
       "        484        5555003       322909         94.5          71.5\n",
       "        485        5273299        53307         99.0          71.2\n",
       "103     108        5509195       586106         90.4          71.2\n",
       "        484        5675894       511245         91.7          69.2\n",
       "        485        5779862        93469         98.4          66.4\n",
       "108     484        5211565       360106         93.5          86.9\n",
       "        485        4633865       201748         95.8          85.1\n",
       "484     485        4657117        83616         98.2          84.6"
      ]
     },
     "execution_count": 7,
     "metadata": {},
     "output_type": "execute_result"
    }
   ],
   "source": [
    "df = pd.read_csv('../../data/external/200816-ecoli-alignment-identity.csv', index_col=[0, 1])\n",
    "df"
   ]
  },
  {
   "cell_type": "code",
   "execution_count": 8,
   "metadata": {},
   "outputs": [],
   "source": [
    "pct_identity = np.zeros((nseqs, nseqs))\n",
    "\n",
    "for i in range(nseqs):\n",
    "    pct_identity[i, i] = 100\n",
    "    for j in range(i):\n",
    "        pct_identity[i, j] = pct_identity[j, i] = df.loc[(keys[j], keys[i]), 'pct_identity']"
   ]
  },
  {
   "cell_type": "code",
   "execution_count": 9,
   "metadata": {},
   "outputs": [
    {
     "data": {
      "text/plain": [
       "Text(0.5, 1.05, 'Alignment Identity')"
      ]
     },
     "execution_count": 9,
     "metadata": {},
     "output_type": "execute_result"
    },
    {
     "data": {
      "image/png": "[encoded data removed]",
      "text/plain": [
       "<Figure size 720x720 with 4 Axes>"
      ]
     },
     "metadata": {
      "needs_background": "light"
     },
     "output_type": "display_data"
    }
   ],
   "source": [
    "identity_link = sch.linkage(squareform(100 - pct_identity), method='average')\n",
    "sns.clustermap(pct_identity, xticklabels=keys, yticklabels=keys, row_linkage=identity_link, col_linkage=identity_link)\n",
    "plt.suptitle('Alignment Identity', fontsize='xx-large', y=1.05)"
   ]
  },
  {
   "cell_type": "markdown",
   "metadata": {},
   "source": [
    "## Compute signatures and scores"
   ]
  },
  {
   "cell_type": "code",
   "execution_count": 10,
   "metadata": {},
   "outputs": [],
   "source": [
    "kspec = KmerSpec(11, 'ATGAC')"
   ]
  },
  {
   "cell_type": "code",
   "execution_count": 11,
   "metadata": {},
   "outputs": [
    {
     "name": "stderr",
     "output_type": "stream",
     "text": [
      "100%|██████████| 6/6 [00:02<00:00,  2.58it/s]\n"
     ]
    }
   ],
   "source": [
    "sigs = [\n",
    "    vec_to_coords(find_kmers_parse(kspec, f, 'fasta')).astype(coords_dtype)\n",
    "    for f in tqdm(seqfiles)\n",
    "]"
   ]
  },
  {
   "cell_type": "code",
   "execution_count": 12,
   "metadata": {},
   "outputs": [],
   "source": [
    "scores = np.ones((nseqs, nseqs))\n",
    "\n",
    "for i in range(nseqs):\n",
    "    for j in range(i):\n",
    "        scores[i, j] = scores[j, i] = jaccard_coords(sigs[i], sigs[j])"
   ]
  },
  {
   "cell_type": "code",
   "execution_count": 14,
   "metadata": {},
   "outputs": [
    {
     "data": {
      "text/plain": [
       "Text(0.5, 1.05, 'Jaccard Similarity')"
      ]
     },
     "execution_count": 14,
     "metadata": {},
     "output_type": "execute_result"
    },
    {
     "data": {
      "image/png": "[encoded data removed]",
      "text/plain": [
       "<Figure size 720x720 with 4 Axes>"
      ]
     },
     "metadata": {
      "needs_background": "light"
     },
     "output_type": "display_data"
    }
   ],
   "source": [
    "score_link = sch.linkage(squareform(1 - scores), method='average')\n",
    "sns.clustermap(scores, xticklabels=keys, yticklabels=keys, row_linkage=score_link, col_linkage=score_link)\n",
    "plt.suptitle('Jaccard Similarity', y=1.05)"
   ]
  },
  {
   "cell_type": "markdown",
   "metadata": {},
   "source": [
    "### Write table"
   ]
  },
  {
   "cell_type": "code",
   "execution_count": 15,
   "metadata": {},
   "outputs": [],
   "source": [
    "df['jaccard'] = [scores[keys.index(k1), keys.index(k2)] for k1, k2 in df.index]"
   ]
  },
  {
   "cell_type": "code",
   "execution_count": 16,
   "metadata": {},
   "outputs": [],
   "source": [
    "df.to_csv(outdir / '200817-ecoli-pairwise-identity-jaccard-comparison.csv')"
   ]
  },
  {
   "cell_type": "markdown",
   "metadata": {},
   "source": [
    "## Compare"
   ]
  },
  {
   "cell_type": "code",
   "execution_count": 17,
   "metadata": {},
   "outputs": [
    {
     "data": {
      "text/plain": [
       "Text(0, 0.5, 'Jaccard Similarity')"
      ]
     },
     "execution_count": 17,
     "metadata": {},
     "output_type": "execute_result"
    },
    {
     "data": {
      "image/png": "[encoded data removed]",
      "text/plain": [
       "<Figure size 864x864 with 1 Axes>"
      ]
     },
     "metadata": {
      "needs_background": "light"
     },
     "output_type": "display_data"
    }
   ],
   "source": [
    "plt.figure(figsize=(12, 12))\n",
    "plt.scatter(df['pct_identity'], df['jaccard'])\n",
    "plt.xlabel('% Identity')\n",
    "plt.ylabel('Jaccard Similarity')"
   ]
  },
  {
   "cell_type": "code",
   "execution_count": 18,
   "metadata": {},
   "outputs": [
    {
     "data": {
      "image/png": "[encoded data removed]",
      "text/plain": [
       "<Figure size 1080x720 with 6 Axes>"
      ]
     },
     "metadata": {
      "needs_background": "light"
     },
     "output_type": "display_data"
    }
   ],
   "source": [
    "fig, axs = plt.subplots(2, 3, figsize=(15, 10), sharex=True, sharey=True)\n",
    "\n",
    "for i, ax in enumerate(axs.flat):\n",
    "    ax.set_title(keys[i])\n",
    "    ax.scatter(np.delete(pct_identity[i, :], i), np.delete(scores[i, :], i))"
   ]
  }
 ],
 "metadata": {
  "kernelspec": {
   "display_name": "MIDAS v1",
   "language": "python",
   "name": "midas1"
  },
  "language_info": {
   "codemirror_mode": {
    "name": "ipython",
    "version": 3
   },
   "file_extension": ".py",
   "mimetype": "text/x-python",
   "name": "python",
   "nbconvert_exporter": "python",
   "pygments_lexer": "ipython3",
   "version": "3.6.10"
  }
 },
 "nbformat": 4,
 "nbformat_minor": 4
}
