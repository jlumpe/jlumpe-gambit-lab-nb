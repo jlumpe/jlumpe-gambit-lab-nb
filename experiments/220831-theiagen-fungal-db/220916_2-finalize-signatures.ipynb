{
 "cells": [
  {
   "cell_type": "markdown",
   "id": "8ff43b89-1811-4ab0-8449-3d888b614292",
   "metadata": {},
   "source": [
    "# 220916_2 Finalize signatures\n",
    "\n",
    "This adds metadata to the database signatures file."
   ]
  },
  {
   "cell_type": "code",
   "execution_count": 1,
   "id": "b0b524bc-c464-4d7b-9ab0-7bb6b3e8886f",
   "metadata": {},
   "outputs": [],
   "source": [
    "from pathlib import Path\n",
    "import json\n",
    "from datetime import date"
   ]
  },
  {
   "cell_type": "code",
   "execution_count": 2,
   "id": "e27e27bf-2bf1-4c12-ad3f-bac373639685",
   "metadata": {},
   "outputs": [],
   "source": [
    "from gambit.sigs import SignaturesMeta, load_signatures, dump_signatures, AnnotatedSignatures"
   ]
  },
  {
   "cell_type": "markdown",
   "id": "66a35325-b5a3-4b6d-a2e9-fcad47e59a1f",
   "metadata": {},
   "source": [
    "## Setup"
   ]
  },
  {
   "cell_type": "code",
   "execution_count": 3,
   "id": "9156f68c-96df-4f3f-83d8-7f566c7adcb6",
   "metadata": {},
   "outputs": [],
   "source": [
    "DATESTR = '220916'\n",
    "NBNAME = f'{DATESTR}_2-finalize-signatures'"
   ]
  },
  {
   "cell_type": "code",
   "execution_count": 4,
   "id": "3de1b05e-fbcf-4429-a4f0-2aac8f5a2905",
   "metadata": {},
   "outputs": [],
   "source": [
    "infiles = dict(\n",
    "    signatures=Path('data-intermediate/220831_2-signatures-and-dists/signatures.h5'),\n",
    ")"
   ]
  },
  {
   "cell_type": "code",
   "execution_count": 5,
   "id": "a6ac6f10-6204-4c31-aea1-45a8010aecb2",
   "metadata": {},
   "outputs": [],
   "source": [
    "processed_data = Path('data-processed') / NBNAME\n",
    "processed_data.mkdir(exist_ok=True, parents=True)\n",
    "\n",
    "outfiles = dict(\n",
    "    signatures=processed_data / f'{DATESTR}-theiagen-candida-test.h5',\n",
    ")"
   ]
  },
  {
   "cell_type": "markdown",
   "id": "e7bbe650-ec01-4cce-924e-6bdb18b712b6",
   "metadata": {},
   "source": [
    "## Assign metadata\n",
    "\n",
    "There are several `AbstractSignatureArray` subclasses which act as lists/arrays of GAMBIT signatures.\n",
    "That means they support `len()`, iteration, and item access like `signatures[i]`.\n",
    "These can be assigned an `ids` attribute which is an array of unique integer or string IDs for the signatures,\n",
    "as well as a `meta` attribute which is an instance of `SignaturesMeta`.\n",
    "\n",
    "The IDs are already fine because they came from the file names passed to the `signatures create` command,\n",
    "which were the accession numbers with `.fna.gz` extension. We need to set the metadata, though."
   ]
  },
  {
   "cell_type": "code",
   "execution_count": 6,
   "id": "3b342fcd-4d6f-482b-9e82-1de89f67de8e",
   "metadata": {},
   "outputs": [],
   "source": [
    "meta = SignaturesMeta(\n",
    "    id='theiagen/candida-test',\n",
    "    version='1.0.0',\n",
    "    name='Candida test database',\n",
    "    description='Signatures for theiagen/candida-test database.',\n",
    "    # This is which column of the \"genomes\" table the IDs in the signature file match to.\n",
    "    # I'm going to get rid of this in a future version and just make everything match to \"key\"\n",
    "    id_attr='key',\n",
    ")"
   ]
  },
  {
   "cell_type": "markdown",
   "id": "8d905547-f712-4857-aa48-61c71827a617",
   "metadata": {},
   "source": [
    "The `HDF5Signatures` class is an interface to an open HDF5 file which stores signatures in a effecient format.\n",
    "It is returned by `load_signatures()`. Currently there isn't a way to modify existing ones, so we need to create\n",
    "a new one from the old with `dump_signatures()`. It accepts an `AbstractSignatureArray` instance as its argument.\n",
    "To add the metadata we will use the `AnnotatedSignatures` class which wraps another signature array, but allows\n",
    "setting different IDs and metadata."
   ]
  },
  {
   "cell_type": "code",
   "execution_count": 7,
   "id": "a94a26c9-e0d6-46db-b15a-8e8d211022d3",
   "metadata": {},
   "outputs": [],
   "source": [
    "with load_signatures(infiles['signatures']) as src:\n",
    "    out_sigs = AnnotatedSignatures(src, src.ids, meta)\n",
    "    dump_signatures(outfiles['signatures'], out_sigs)"
   ]
  }
 ],
 "metadata": {
  "kernelspec": {
   "display_name": "GAMBIT",
   "language": "python",
   "name": "gambit"
  },
  "language_info": {
   "codemirror_mode": {
    "name": "ipython",
    "version": 3
   },
   "file_extension": ".py",
   "mimetype": "text/x-python",
   "name": "python",
   "nbconvert_exporter": "python",
   "pygments_lexer": "ipython3",
   "version": "3.9.13"
  }
 },
 "nbformat": 4,
 "nbformat_minor": 5
}
