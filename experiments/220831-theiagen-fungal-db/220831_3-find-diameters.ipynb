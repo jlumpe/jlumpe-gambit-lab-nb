{
 "cells": [
  {
   "cell_type": "markdown",
   "id": "ef91ac4d-3a94-4458-af51-d31c2ce6dc57",
   "metadata": {},
   "source": [
    "# 220831 find diameters\n",
    "\n",
    "Find species diameters and all min-inter dists."
   ]
  },
  {
   "cell_type": "code",
   "execution_count": 1,
   "id": "5b929b53-9b46-4af8-91c4-1b1ff4a2ab8d",
   "metadata": {},
   "outputs": [],
   "source": [
    "from pathlib import Path"
   ]
  },
  {
   "cell_type": "code",
   "execution_count": 2,
   "id": "b13558cd-db2f-4036-b1e8-b3070423bede",
   "metadata": {},
   "outputs": [],
   "source": [
    "import numpy as np\n",
    "import pandas as pd\n",
    "import seaborn as sns"
   ]
  },
  {
   "cell_type": "markdown",
   "id": "66a35325-b5a3-4b6d-a2e9-fcad47e59a1f",
   "metadata": {},
   "source": [
    "## Setup\n",
    "\n",
    "I like to put all the input/output file paths at the top so it's clear at a glance what they are:"
   ]
  },
  {
   "cell_type": "code",
   "execution_count": 3,
   "id": "6cf19b18-3c31-4ef9-82d2-493ff36f4e68",
   "metadata": {},
   "outputs": [],
   "source": [
    "DATESTR = '220831'\n",
    "NBNAME = f'{DATESTR}_3-find-diameters'"
   ]
  },
  {
   "cell_type": "code",
   "execution_count": 4,
   "id": "feb3a40e-9dd7-4c9a-a1cc-1440d36bd314",
   "metadata": {},
   "outputs": [],
   "source": [
    "infiles = dict(\n",
    "    genomes='data-src/genomes.csv',\n",
    "    species='data-src/taxa.csv',\n",
    "    pw_dists='data-intermediate/220831-signatures-and-dists/pw-dists.csv',\n",
    ")"
   ]
  },
  {
   "cell_type": "code",
   "execution_count": 5,
   "id": "347eb4b7-912b-4e65-adc5-d2edf0fd0b9f",
   "metadata": {},
   "outputs": [],
   "source": [
    "data_intermediate = Path('data-intermediate') / NBNAME\n",
    "data_intermediate.mkdir(exist_ok=True, parents=True)\n",
    "\n",
    "outfiles = dict(\n",
    "    species_data=data_intermediate / 'species-data.csv',\n",
    "    min_inter=data_intermediate / 'min-inter.csv',\n",
    ")"
   ]
  },
  {
   "cell_type": "markdown",
   "id": "e7bbe650-ec01-4cce-924e-6bdb18b712b6",
   "metadata": {},
   "source": [
    "## Load data"
   ]
  },
  {
   "cell_type": "code",
   "execution_count": 6,
   "id": "d677d91e-c093-424a-8304-d90bdf734235",
   "metadata": {},
   "outputs": [],
   "source": [
    "genomes = pd.read_csv(infiles['genomes'])\n",
    "ngenomes = genomes.shape[0]\n",
    "\n",
    "species = pd.read_csv(infiles['species']).set_index('ncbi_taxid')\n",
    "nspecies = species.shape[0]"
   ]
  },
  {
   "cell_type": "code",
   "execution_count": 7,
   "id": "fe179fb5-6beb-4ff6-8099-576ec37040a9",
   "metadata": {},
   "outputs": [],
   "source": [
    "dmat = pd.read_csv(infiles['pw_dists'], index_col=0)"
   ]
  },
  {
   "cell_type": "code",
   "execution_count": 8,
   "id": "251da8fb-e43f-4651-8c5a-ec9745454257",
   "metadata": {},
   "outputs": [],
   "source": [
    "# Reindex so that row/column order matches genomes table\n",
    "accs = genomes['genbank_acc']\n",
    "dmat = dmat.loc[accs, accs]"
   ]
  },
  {
   "cell_type": "code",
   "execution_count": 9,
   "id": "8b31fddf-4178-4c8b-83dc-451ae42b07ca",
   "metadata": {},
   "outputs": [
    {
     "data": {
      "text/plain": [
       "<AxesSubplot:>"
      ]
     },
     "execution_count": 9,
     "metadata": {},
     "output_type": "execute_result"
    },
    {
     "data": {
      "image/png": "[encoded data removed]",
      "text/plain": [
       "<Figure size 576x432 with 2 Axes>"
      ]
     },
     "metadata": {
      "needs_background": "light"
     },
     "output_type": "display_data"
    }
   ],
   "source": [
    "sns.heatmap(dmat.values)"
   ]
  },
  {
   "cell_type": "markdown",
   "id": "c89448cb-2dc0-4d35-8936-540ac29d3516",
   "metadata": {},
   "source": [
    "## Distance statistics"
   ]
  },
  {
   "cell_type": "code",
   "execution_count": 10,
   "id": "8200b3c7-8de1-4368-998e-0bfb136ac85b",
   "metadata": {},
   "outputs": [],
   "source": [
    "# Integer indices of genomes by species\n",
    "# (raw arrays correspond to order of species rows in table)\n",
    "gb = genomes.groupby('ncbi_taxid')\n",
    "species_inds = [gb.indices[taxid] for taxid in species.index]\n",
    "\n",
    "diameters = np.zeros(nspecies)\n",
    "min_inter = np.zeros((nspecies, nspecies))\n",
    "\n",
    "# 1st species\n",
    "for i, inds1 in enumerate(species_inds):\n",
    "    diameters[i] = dmat.values[np.ix_(inds1, inds1)].max()\n",
    "    \n",
    "    # 2nd species, avoiding double counting\n",
    "    for j, inds2 in enumerate(species_inds[:i]):\n",
    "        mi = dmat.values[np.ix_(inds1, inds2)].min()\n",
    "        min_inter[i, j] = min_inter[j, i] = mi"
   ]
  },
  {
   "cell_type": "markdown",
   "id": "921ca1d9-3c46-4308-8503-29b9c6454f66",
   "metadata": {},
   "source": [
    "## Check for overlaps"
   ]
  },
  {
   "cell_type": "markdown",
   "id": "1db5d105-7dd8-4f91-b981-768d02218d14",
   "metadata": {},
   "source": [
    "This is a list of `(A, B)` tuples representing $A \\to B$ edges in a directed graph.\n",
    "$A \\to B$ means the A-B min inter distance is $\\leq$ the diameter of A.\n",
    "\n",
    "If there were a very large number of species with many overlaps, you could decompose this graph into its connected components and fix each one independently.\n",
    "But in this case all species are fairly distantly related so we expect it to be empty."
   ]
  },
  {
   "cell_type": "code",
   "execution_count": 11,
   "id": "f13340a5-f3b3-49b5-92df-70865007e9b2",
   "metadata": {},
   "outputs": [
    {
     "data": {
      "text/plain": [
       "[]"
      ]
     },
     "execution_count": 11,
     "metadata": {},
     "output_type": "execute_result"
    }
   ],
   "source": [
    "# Species represented here by row index in species table\n",
    "overlaps = []\n",
    "\n",
    "# For all pairs\n",
    "for i in range(nspecies):\n",
    "    for j in range(i):\n",
    "        d = min_inter[i, j]\n",
    "        if d <= diameters[i]:\n",
    "            overlaps.append((i, j))\n",
    "        if d <= diameters[j]:\n",
    "            overlaps.append((j, i))\n",
    "            \n",
    "overlaps"
   ]
  },
  {
   "cell_type": "markdown",
   "id": "fe7e23e1-7ef8-4cd7-be20-f9482435bd5e",
   "metadata": {},
   "source": [
    "## Export data"
   ]
  },
  {
   "cell_type": "code",
   "execution_count": 12,
   "id": "1080c21a-7b65-46bb-9465-a1ee95f2f312",
   "metadata": {},
   "outputs": [],
   "source": [
    "# Add diameter and genome count to species table\n",
    "species['diameter'] = diameters\n",
    "species['ngenomes'] = genomes.groupby('ncbi_taxid').size()\n",
    "\n",
    "species.to_csv(outfiles['species_data'])"
   ]
  },
  {
   "cell_type": "code",
   "execution_count": 13,
   "id": "e5035883-425c-4c59-914a-a66a984fce20",
   "metadata": {},
   "outputs": [],
   "source": [
    "# Min inter\n",
    "\n",
    "mi_df = pd.DataFrame(min_inter, index=species.index, columns=species.index)\n",
    "mi_df.to_csv(outfiles['min_inter'])"
   ]
  }
 ],
 "metadata": {
  "kernelspec": {
   "display_name": "GAMBIT",
   "language": "python",
   "name": "gambit"
  },
  "language_info": {
   "codemirror_mode": {
    "name": "ipython",
    "version": 3
   },
   "file_extension": ".py",
   "mimetype": "text/x-python",
   "name": "python",
   "nbconvert_exporter": "python",
   "pygments_lexer": "ipython3",
   "version": "3.9.13"
  }
 },
 "nbformat": 4,
 "nbformat_minor": 5
}
