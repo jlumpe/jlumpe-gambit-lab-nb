{
 "cells": [
  {
   "cell_type": "markdown",
   "id": "8ff43b89-1811-4ab0-8449-3d888b614292",
   "metadata": {},
   "source": [
    "# 220912 Download taxa\n",
    "\n",
    "Download ESummary data for taxonomy tree."
   ]
  },
  {
   "cell_type": "code",
   "execution_count": 1,
   "id": "772845e4-272f-456a-8712-a4a2c78388e2",
   "metadata": {},
   "outputs": [],
   "source": [
    "from pathlib import Path\n",
    "import json"
   ]
  },
  {
   "cell_type": "code",
   "execution_count": 2,
   "id": "d41dda57-4797-4bf7-9c4f-6a5216ace8a2",
   "metadata": {},
   "outputs": [],
   "source": [
    "import pandas as pd\n",
    "from Bio import Entrez\n",
    "from tqdm import tqdm"
   ]
  },
  {
   "cell_type": "markdown",
   "id": "66a35325-b5a3-4b6d-a2e9-fcad47e59a1f",
   "metadata": {},
   "source": [
    "## Setup"
   ]
  },
  {
   "cell_type": "code",
   "execution_count": 3,
   "id": "c766f2c3-bea5-477f-8413-8c97fa852074",
   "metadata": {},
   "outputs": [],
   "source": [
    "Entrez.email = 'mjlumpe@gmail.com'"
   ]
  },
  {
   "cell_type": "code",
   "execution_count": 4,
   "id": "9156f68c-96df-4f3f-83d8-7f566c7adcb6",
   "metadata": {},
   "outputs": [],
   "source": [
    "DATESTR = '220912'\n",
    "NBNAME = f'{DATESTR}-download-taxa'"
   ]
  },
  {
   "cell_type": "code",
   "execution_count": 5,
   "id": "e346b826-f2c9-4b3b-a6c6-5dbef7abd1f5",
   "metadata": {},
   "outputs": [],
   "source": [
    "infiles = dict(\n",
    "    genomes='data-src/genomes.csv',\n",
    ")"
   ]
  },
  {
   "cell_type": "code",
   "execution_count": 6,
   "id": "8baa924c-d04b-4ac7-bc9a-62c825d114d3",
   "metadata": {},
   "outputs": [],
   "source": [
    "intermediate_data = Path('data-intermediate') / NBNAME\n",
    "intermediate_data.mkdir(exist_ok=True)\n",
    "\n",
    "outfiles = dict(\n",
    "    taxa=intermediate_data / 'taxa',\n",
    ")\n",
    "\n",
    "outfiles['taxa'].mkdir(exist_ok=True)"
   ]
  },
  {
   "cell_type": "markdown",
   "id": "e7bbe650-ec01-4cce-924e-6bdb18b712b6",
   "metadata": {},
   "source": [
    "## Load data\n"
   ]
  },
  {
   "cell_type": "code",
   "execution_count": 7,
   "id": "d677d91e-c093-424a-8304-d90bdf734235",
   "metadata": {},
   "outputs": [],
   "source": [
    "genomes = pd.read_csv(infiles['genomes'])"
   ]
  },
  {
   "cell_type": "markdown",
   "id": "4bac27ea-c3b7-4911-a440-4cca169d4123",
   "metadata": {},
   "source": [
    "## Download taxonomy data"
   ]
  },
  {
   "cell_type": "code",
   "execution_count": 8,
   "id": "15eb5a55-5ecb-44d1-912d-e7b78a7b5bb7",
   "metadata": {},
   "outputs": [
    {
     "name": "stdout",
     "output_type": "stream",
     "text": [
      "498019\n",
      "4932\n",
      "5478\n",
      "4909\n",
      "4911\n",
      "36911\n",
      "4952\n"
     ]
    }
   ],
   "source": [
    "to_download = set(genomes['ncbi_taxid'])\n",
    "taxa = dict()\n",
    "\n",
    "\n",
    "# Map taxids of genomes to their species-level ancestors\n",
    "# (taxon assigned to genome by NCBI may be subspecies or strain)\n",
    "species_map = dict()\n",
    "\n",
    "\n",
    "while to_download:\n",
    "    # Next to download\n",
    "    taxid = next(iter(to_download))\n",
    "    print(taxid)\n",
    "    file = outfiles['taxa'] / f'{taxid}.json'\n",
    "    \n",
    "    if not file.exists():\n",
    "        # Fetch data from NCBI\n",
    "        result = Entrez.read(Entrez.efetch(db='taxonomy', id=taxid))\n",
    "        (taxon,) = result\n",
    "\n",
    "        # Save to local file\n",
    "        with open(file, 'w') as f:\n",
    "            json.dump(taxon, f)\n",
    "    \n",
    "    else:\n",
    "        # Already downloaded, read from existing file\n",
    "        with open(file) as f:\n",
    "            taxon = json.load(f)\n",
    "            \n",
    "    taxa[taxid] = taxon\n",
    "    to_download.remove(taxid)\n",
    "            \n",
    "    # If not a species, find species ancestor and add to download list\n",
    "    if taxon['Rank'] != 'species':\n",
    "        for ancestor in taxon['LineageEx']:\n",
    "            if ancestor['Rank'] == 'species':\n",
    "                tid = int(ancestor['TaxId'])\n",
    "                if tid not in taxa:\n",
    "                    to_download.add(tid)\n",
    "                    \n",
    "                break\n",
    "            \n",
    "        else:\n",
    "            raise RuntimeError('No species ancestor found')"
   ]
  },
  {
   "cell_type": "code",
   "execution_count": 9,
   "id": "1a007574-81d0-494b-a2de-05c9e0b5e350",
   "metadata": {},
   "outputs": [
    {
     "data": {
      "text/plain": [
       "{}"
      ]
     },
     "execution_count": 9,
     "metadata": {},
     "output_type": "execute_result"
    }
   ],
   "source": [
    "species_map"
   ]
  },
  {
   "cell_type": "markdown",
   "id": "972e01db-4412-4eb0-b45a-0745c65de5f8",
   "metadata": {},
   "source": [
    "All of these were already at the species level, so no need to deal with that."
   ]
  }
 ],
 "metadata": {
  "kernelspec": {
   "display_name": "GAMBIT",
   "language": "python",
   "name": "gambit"
  },
  "language_info": {
   "codemirror_mode": {
    "name": "ipython",
    "version": 3
   },
   "file_extension": ".py",
   "mimetype": "text/x-python",
   "name": "python",
   "nbconvert_exporter": "python",
   "pygments_lexer": "ipython3",
   "version": "3.9.13"
  }
 },
 "nbformat": 4,
 "nbformat_minor": 5
}
