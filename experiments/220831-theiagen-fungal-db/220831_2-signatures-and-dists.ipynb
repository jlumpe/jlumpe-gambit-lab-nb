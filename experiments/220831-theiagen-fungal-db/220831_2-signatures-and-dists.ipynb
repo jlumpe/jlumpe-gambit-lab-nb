{
 "cells": [
  {
   "cell_type": "markdown",
   "id": "8ff43b89-1811-4ab0-8449-3d888b614292",
   "metadata": {},
   "source": [
    "# 220831 Signatures and dists\n",
    "\n",
    "Create GAMBIT signatures for all genomes and calculate pairwise distance table."
   ]
  },
  {
   "cell_type": "code",
   "execution_count": 1,
   "id": "772845e4-272f-456a-8712-a4a2c78388e2",
   "metadata": {},
   "outputs": [],
   "source": [
    "from pathlib import Path\n",
    "import json"
   ]
  },
  {
   "cell_type": "code",
   "execution_count": 2,
   "id": "d41dda57-4797-4bf7-9c4f-6a5216ace8a2",
   "metadata": {},
   "outputs": [],
   "source": [
    "import pandas as pd"
   ]
  },
  {
   "cell_type": "markdown",
   "id": "66a35325-b5a3-4b6d-a2e9-fcad47e59a1f",
   "metadata": {},
   "source": [
    "## Setup"
   ]
  },
  {
   "cell_type": "code",
   "execution_count": 3,
   "id": "9156f68c-96df-4f3f-83d8-7f566c7adcb6",
   "metadata": {},
   "outputs": [],
   "source": [
    "DATESTR = '220831'\n",
    "NBNAME = f'{DATESTR}_2-signatures-and-dists'"
   ]
  },
  {
   "cell_type": "code",
   "execution_count": 4,
   "id": "afb9fb80-2875-4c8f-980d-47e85e2cc42d",
   "metadata": {},
   "outputs": [],
   "source": [
    "fasta_dir = Path('/home/jared/gambit/data/genomes/220831-candida/fasta')"
   ]
  },
  {
   "cell_type": "code",
   "execution_count": 5,
   "id": "6dfb145e-e842-4d38-9f5f-8867b7f8fd8d",
   "metadata": {},
   "outputs": [],
   "source": [
    "infiles = dict(\n",
    "    fasta=Path('/home/jared/gambit/data/genomes/220831-candida/fasta'),\n",
    ")"
   ]
  },
  {
   "cell_type": "code",
   "execution_count": 6,
   "id": "a6ac6f10-6204-4c31-aea1-45a8010aecb2",
   "metadata": {},
   "outputs": [],
   "source": [
    "intermediate_data = Path('data-intermediate') / NBNAME\n",
    "intermediate_data.mkdir(exist_ok=True)\n",
    "\n",
    "outfiles = dict(\n",
    "    sigs=intermediate_data / 'signatures.h5',\n",
    "    pw_dists=intermediate_data / 'pw-dists.csv',\n",
    ")"
   ]
  },
  {
   "cell_type": "code",
   "execution_count": 7,
   "id": "db791877-008f-45e3-b201-1a1d0e53297b",
   "metadata": {},
   "outputs": [],
   "source": [
    "gambit_cmd = '/home/jared/opt/anaconda3/envs/gambit/bin/gambit'"
   ]
  },
  {
   "cell_type": "markdown",
   "id": "aa2f72d4-ccc7-4209-a39b-4979c0c0f0ed",
   "metadata": {},
   "source": [
    "## Commands"
   ]
  },
  {
   "cell_type": "code",
   "execution_count": 8,
   "id": "4fd4ab37-2d8b-4112-8475-595ba0252a8e",
   "metadata": {},
   "outputs": [
    {
     "name": "stdout",
     "output_type": "stream",
     "text": [
      "\u001b[?25l  [####################################]  100%          "
     ]
    }
   ],
   "source": [
    "! {gambit_cmd} signatures create -k 11 -p ATGAC -o {outfiles['sigs']} {fasta_dir}/*.fna.gz"
   ]
  },
  {
   "cell_type": "code",
   "execution_count": 9,
   "id": "4d97e51d-e020-4dec-8544-985027ca58d6",
   "metadata": {},
   "outputs": [
    {
     "name": "stdout",
     "output_type": "stream",
     "text": [
      "\u001b[?25lCalculating distances  [####################################]  100%"
     ]
    }
   ],
   "source": [
    "! {gambit_cmd} dist --qs {outfiles['sigs']} --square -o {outfiles['pw_dists']}"
   ]
  }
 ],
 "metadata": {
  "kernelspec": {
   "display_name": "GAMBIT",
   "language": "python",
   "name": "gambit"
  },
  "language_info": {
   "codemirror_mode": {
    "name": "ipython",
    "version": 3
   },
   "file_extension": ".py",
   "mimetype": "text/x-python",
   "name": "python",
   "nbconvert_exporter": "python",
   "pygments_lexer": "ipython3",
   "version": "3.9.13"
  }
 },
 "nbformat": 4,
 "nbformat_minor": 5
}
