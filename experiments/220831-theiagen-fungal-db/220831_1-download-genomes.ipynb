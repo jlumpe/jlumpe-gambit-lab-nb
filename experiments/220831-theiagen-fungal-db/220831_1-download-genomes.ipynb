{
 "cells": [
  {
   "cell_type": "markdown",
   "id": "8ff43b89-1811-4ab0-8449-3d888b614292",
   "metadata": {},
   "source": [
    "# 220831 Download genomes"
   ]
  },
  {
   "cell_type": "code",
   "execution_count": 2,
   "id": "772845e4-272f-456a-8712-a4a2c78388e2",
   "metadata": {},
   "outputs": [],
   "source": [
    "from pathlib import Path\n",
    "import json"
   ]
  },
  {
   "cell_type": "code",
   "execution_count": 3,
   "id": "d41dda57-4797-4bf7-9c4f-6a5216ace8a2",
   "metadata": {},
   "outputs": [],
   "source": [
    "import pandas as pd\n",
    "from Bio import Entrez\n",
    "from tqdm import tqdm"
   ]
  },
  {
   "cell_type": "code",
   "execution_count": 4,
   "id": "22a197c6-d6fb-4f2d-a65a-520319d8e531",
   "metadata": {},
   "outputs": [],
   "source": [
    "from entrez_tools.esummary import get_esummary_json\n",
    "from entrez_tools.db.assembly import seq_url_from_esummary"
   ]
  },
  {
   "cell_type": "markdown",
   "id": "66a35325-b5a3-4b6d-a2e9-fcad47e59a1f",
   "metadata": {},
   "source": [
    "## Setup"
   ]
  },
  {
   "cell_type": "code",
   "execution_count": 5,
   "id": "c766f2c3-bea5-477f-8413-8c97fa852074",
   "metadata": {},
   "outputs": [],
   "source": [
    "Entrez.email = 'mjlumpe@gmail.com'"
   ]
  },
  {
   "cell_type": "code",
   "execution_count": 6,
   "id": "afb9fb80-2875-4c8f-980d-47e85e2cc42d",
   "metadata": {},
   "outputs": [],
   "source": [
    "genomes_dir = Path('/home/jared/gambit/data/genomes/220831-candida/')\n",
    "\n",
    "fasta_dir = genomes_dir / 'fasta'\n",
    "fasta_dir.mkdir(exist_ok=True)\n",
    "\n",
    "esummary_dir = genomes_dir / 'esummary'\n",
    "esummary_dir.mkdir(exist_ok=True)"
   ]
  },
  {
   "cell_type": "code",
   "execution_count": 7,
   "id": "9156f68c-96df-4f3f-83d8-7f566c7adcb6",
   "metadata": {},
   "outputs": [],
   "source": [
    "DATESTR = '220831'\n",
    "NBNAME = f'{DATESTR}_1-download-genomes'"
   ]
  },
  {
   "cell_type": "code",
   "execution_count": 8,
   "id": "a6ac6f10-6204-4c31-aea1-45a8010aecb2",
   "metadata": {},
   "outputs": [],
   "source": [
    "intermediate_data = Path('data-intermediate') / NBNAME\n",
    "intermediate_data.mkdir(exist_ok=True)\n",
    "\n",
    "outfiles = dict(\n",
    "    urls=intermediate_data / 'genome-urls.json',\n",
    ")"
   ]
  },
  {
   "cell_type": "markdown",
   "id": "e7bbe650-ec01-4cce-924e-6bdb18b712b6",
   "metadata": {},
   "source": [
    "## Load data"
   ]
  },
  {
   "cell_type": "code",
   "execution_count": 9,
   "id": "d677d91e-c093-424a-8304-d90bdf734235",
   "metadata": {},
   "outputs": [],
   "source": [
    "genomes = pd.read_csv('data-src/genomes.csv')"
   ]
  },
  {
   "cell_type": "markdown",
   "id": "4bac27ea-c3b7-4911-a440-4cca169d4123",
   "metadata": {},
   "source": [
    "## Fetch esummary data"
   ]
  },
  {
   "cell_type": "code",
   "execution_count": 10,
   "id": "256b5110-8933-435b-a775-1b479a659ef8",
   "metadata": {},
   "outputs": [
    {
     "name": "stderr",
     "output_type": "stream",
     "text": [
      "100%|██████████| 71/71 [00:00<00:00, 44033.06it/s]\n"
     ]
    }
   ],
   "source": [
    "for uid in tqdm(genomes['ncbi_uid']):\n",
    "    file = esummary_dir / f'{uid}.xml'\n",
    "    if file.exists():\n",
    "        continue\n",
    "    \n",
    "    result = json.load(Entrez.esummary(db='assembly', id=uid, retmode='json'))\n",
    "    data = get_esummary_json(result)[str(uid)]\n",
    "    \n",
    "    with open(file, 'w') as f:\n",
    "        json.dump(data, f)"
   ]
  },
  {
   "cell_type": "markdown",
   "id": "8d6c3185-be3c-4abc-97e8-cf64ed6414d5",
   "metadata": {},
   "source": [
    "## Get FTP URLs"
   ]
  },
  {
   "cell_type": "code",
   "execution_count": 33,
   "id": "594c64a0-5e57-4cb7-8c5a-01ff9fbd1fed",
   "metadata": {},
   "outputs": [],
   "source": [
    "if outfiles['urls'].exists():\n",
    "    with open(outfiles['urls']) as f:\n",
    "        ftp_urls = json.load(f)\n",
    "        \n",
    "else:\n",
    "    ftp_urls = dict()\n",
    "\n",
    "    for uid in genomes['ncbi_uid']:\n",
    "        with open(esummary_dir / f'{uid}.xml') as f:\n",
    "            es = json.load(f)\n",
    "\n",
    "        ftp_urls[uid] = seq_url_from_esummary(es, False)\n",
    "\n",
    "    with open(outfiles['urls'], 'w') as f:\n",
    "        ftp_urls = json.dump(ftp_urls, f)"
   ]
  },
  {
   "cell_type": "markdown",
   "id": "cc91406c-c145-4af1-86fb-2256b6efd183",
   "metadata": {},
   "source": [
    "## Downloads"
   ]
  },
  {
   "cell_type": "code",
   "execution_count": 41,
   "id": "308388cf-1745-4fd8-80a2-1b206e59a991",
   "metadata": {},
   "outputs": [
    {
     "name": "stderr",
     "output_type": "stream",
     "text": [
      "71it [04:04,  3.45s/it]\n"
     ]
    }
   ],
   "source": [
    "for row in tqdm(genomes.itertuples()):\n",
    "    file = fasta_dir / (row.genbank_acc + '.fna.gz')\n",
    "    if file.exists():\n",
    "        continue\n",
    "        \n",
    "    url = ftp_urls[str(row.ncbi_uid)]\n",
    "    urlretrieve(url, file)"
   ]
  }
 ],
 "metadata": {
  "kernelspec": {
   "display_name": "GAMBIT",
   "language": "python",
   "name": "gambit"
  },
  "language_info": {
   "codemirror_mode": {
    "name": "ipython",
    "version": 3
   },
   "file_extension": ".py",
   "mimetype": "text/x-python",
   "name": "python",
   "nbconvert_exporter": "python",
   "pygments_lexer": "ipython3",
   "version": "3.9.13"
  }
 },
 "nbformat": 4,
 "nbformat_minor": 5
}
