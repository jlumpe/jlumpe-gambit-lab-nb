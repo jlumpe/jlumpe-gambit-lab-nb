{
 "cells": [
  {
   "cell_type": "markdown",
   "id": "8ff43b89-1811-4ab0-8449-3d888b614292",
   "metadata": {},
   "source": [
    "# 220916_1 Create DB\n",
    "\n",
    "This creates the sqlite database file for the Candida DB."
   ]
  },
  {
   "cell_type": "code",
   "execution_count": 1,
   "id": "b0b524bc-c464-4d7b-9ab0-7bb6b3e8886f",
   "metadata": {},
   "outputs": [],
   "source": [
    "from pathlib import Path\n",
    "import json\n",
    "from datetime import date"
   ]
  },
  {
   "cell_type": "code",
   "execution_count": 2,
   "id": "9b9e710e-5880-43b6-8c4a-f8e16f15acb1",
   "metadata": {},
   "outputs": [],
   "source": [
    "import pandas as pd\n",
    "from sqlalchemy import create_engine\n",
    "from sqlalchemy.orm import sessionmaker"
   ]
  },
  {
   "cell_type": "code",
   "execution_count": 3,
   "id": "e27e27bf-2bf1-4c12-ad3f-bac373639685",
   "metadata": {},
   "outputs": [],
   "source": [
    "from gambit.db import ReferenceGenomeSet, Genome, AnnotatedGenome, Taxon\n",
    "from gambit.db.migrate import init_db\n",
    "\n",
    "from entrez_tools.db.assembly import format_summary_meta"
   ]
  },
  {
   "cell_type": "markdown",
   "id": "66a35325-b5a3-4b6d-a2e9-fcad47e59a1f",
   "metadata": {},
   "source": [
    "## Setup"
   ]
  },
  {
   "cell_type": "code",
   "execution_count": 4,
   "id": "9156f68c-96df-4f3f-83d8-7f566c7adcb6",
   "metadata": {},
   "outputs": [],
   "source": [
    "DATESTR = '220916'\n",
    "NBNAME = f'{DATESTR}_1-create-db'"
   ]
  },
  {
   "cell_type": "code",
   "execution_count": 5,
   "id": "3de1b05e-fbcf-4429-a4f0-2aac8f5a2905",
   "metadata": {},
   "outputs": [],
   "source": [
    "infiles = dict(\n",
    "    genomes_table=Path('data-src/genomes.csv'),\n",
    "    taxa_table=Path('data-intermediate/220831_3-find-diameters/species-data.csv'),\n",
    "    fasta_dir=Path('/home/jared/gambit/data/genomes/220831-candida/fasta'),\n",
    "    genome_esummary_dir=Path('data-intermediate/220831_1-download-genomes/esummary'),\n",
    "    taxon_esummary_dir=Path('data-intermediate/220912-download-taxa/taxa'),\n",
    ")"
   ]
  },
  {
   "cell_type": "code",
   "execution_count": 6,
   "id": "a6ac6f10-6204-4c31-aea1-45a8010aecb2",
   "metadata": {},
   "outputs": [],
   "source": [
    "processed_data = Path('data-processed') / NBNAME\n",
    "processed_data.mkdir(exist_ok=True, parents=True)\n",
    "\n",
    "outfiles = dict(\n",
    "    db=processed_data / f'{DATESTR}-theiagen-candida-test.db',\n",
    ")"
   ]
  },
  {
   "cell_type": "markdown",
   "id": "e7bbe650-ec01-4cce-924e-6bdb18b712b6",
   "metadata": {},
   "source": [
    "## Load data"
   ]
  },
  {
   "cell_type": "code",
   "execution_count": 7,
   "id": "d677d91e-c093-424a-8304-d90bdf734235",
   "metadata": {},
   "outputs": [],
   "source": [
    "genomes_df = pd.read_csv(infiles['genomes_table'])\n",
    "taxa_df = pd.read_csv(infiles['taxa_table'])"
   ]
  },
  {
   "cell_type": "code",
   "execution_count": 8,
   "id": "28b73260-3702-4cab-bf8f-1c8b7d4fdb40",
   "metadata": {},
   "outputs": [],
   "source": [
    "genome_summaries = dict()\n",
    "\n",
    "for uid in genomes_df['ncbi_uid']:\n",
    "    with open(infiles['genome_esummary_dir'] / f'{uid}.json') as f:\n",
    "        genome_summaries[uid] = json.load(f)"
   ]
  },
  {
   "cell_type": "code",
   "execution_count": 9,
   "id": "0e9e39ec-f7d2-4249-9d58-0280d6b602fb",
   "metadata": {},
   "outputs": [],
   "source": [
    "taxon_summaries = dict()\n",
    "\n",
    "for taxid in set(genomes_df['ncbi_taxid']):\n",
    "    with open(infiles['taxon_esummary_dir'] / f'{taxid}.json') as f:\n",
    "        taxon_summaries[uid] = json.load(f)"
   ]
  },
  {
   "cell_type": "markdown",
   "id": "f3081cf5-a017-4420-9832-dbf6619f7bea",
   "metadata": {
    "tags": []
   },
   "source": [
    "## Create database\n",
    "\n",
    "The database schema has gone through a lot of updates but still has a lot of weird baggage from when it was first developed in 2016. Back then we hadn't settled on the one-sqlite-file-per-database format so it's set up to allow multiple \"GAMBIT databases\" in a single SQL database. I'd like to simplify things in a future version now that I have the time."
   ]
  },
  {
   "cell_type": "code",
   "execution_count": 10,
   "id": "e15e8f30-5788-49f4-8db9-c2147cc8d75c",
   "metadata": {},
   "outputs": [],
   "source": [
    "if outfiles['db'].is_file():\n",
    "    outfiles['db'].unlink()\n",
    "\n",
    "engine = create_engine('sqlite:///' + str(outfiles['db']))"
   ]
  },
  {
   "cell_type": "code",
   "execution_count": 11,
   "id": "30cce27f-b818-4e51-971a-935c43d885ee",
   "metadata": {},
   "outputs": [],
   "source": [
    "init_db(engine)"
   ]
  },
  {
   "cell_type": "code",
   "execution_count": 12,
   "id": "d05cd2dd-9bb4-4937-bf1f-e445d4293862",
   "metadata": {},
   "outputs": [],
   "source": [
    "Session = sessionmaker(engine)\n",
    "session = Session()"
   ]
  },
  {
   "cell_type": "markdown",
   "id": "f09dd416-2c69-460c-af6e-97c327e84658",
   "metadata": {},
   "source": [
    "### Genome set\n",
    "\n",
    "`ReferenceGenomeSet` basically encompasses the concept of a \"gambit database,\" but because it is just a row in a table you can technically have more than one. The CLI commands expect there to be just one per SQLite file, though."
   ]
  },
  {
   "cell_type": "code",
   "execution_count": 13,
   "id": "d17cd408-9f2f-4c67-a473-fa4dcf3247a8",
   "metadata": {},
   "outputs": [],
   "source": [
    "gset = ReferenceGenomeSet(\n",
    "    # This is supposed to be a unique string ID\n",
    "    # No other database file should have the same key and version\n",
    "    # I intended it to be in a sort of hierearchical format with the \"owner\" organization coming first,\n",
    "    # which keeps it distinct from anyone else's \"candida-test\" database.\n",
    "    key='theiagen/candida-test',\n",
    "    version='1.0.0',\n",
    "    name='Fungal test database',\n",
    "    description='Test database containing several Candida species.',\n",
    "    # This is arbitrary JSON data. There's no set schema for it currently.\n",
    "    extra=dict(\n",
    "        author='Jared Lumpe',\n",
    "        date=date.today().isoformat(),\n",
    "    ),\n",
    ")"
   ]
  },
  {
   "cell_type": "code",
   "execution_count": 14,
   "id": "42b0b4fd-c695-45e7-88fd-a9dd1a67dc56",
   "metadata": {},
   "outputs": [],
   "source": [
    "session.add(gset)\n",
    "session.commit()"
   ]
  },
  {
   "cell_type": "markdown",
   "id": "81c67b1c-e0b4-4469-aa34-b5ef6ec535d5",
   "metadata": {},
   "source": [
    "### Taxa"
   ]
  },
  {
   "cell_type": "code",
   "execution_count": 15,
   "id": "76a7bffd-2035-4793-8080-4b96081ce904",
   "metadata": {},
   "outputs": [],
   "source": [
    "taxa = dict()\n",
    "\n",
    "for row in taxa_df.itertuples():\n",
    "    taxon = Taxon(\n",
    "        genome_set=gset,\n",
    "        # Arbitrary unique string ID\n",
    "        # These are all regular NCBI taxa\n",
    "        key=f'ncbi/{row.ncbi_taxid}',\n",
    "        # Using names I got from you here, NCBI reassigned several to other genera\n",
    "        name=row.name,\n",
    "        rank='species',\n",
    "        distance_threshold=row.diameter,\n",
    "        ncbi_id=row.ncbi_taxid,\n",
    "        # Arbitrary JSON-formatted metadata\n",
    "        extra=dict(\n",
    "            # The actual name used by NCBI\n",
    "            ncbi_name=row.ncbi_name,\n",
    "        ),\n",
    "    )\n",
    "    \n",
    "    taxa[row.ncbi_taxid] = taxon\n",
    "    session.add(taxon)\n",
    "    \n",
    "session.commit()"
   ]
  },
  {
   "cell_type": "markdown",
   "id": "a45e7f49-51c1-4894-91e7-2ad242b995bd",
   "metadata": {},
   "source": [
    "### Genomes"
   ]
  },
  {
   "cell_type": "code",
   "execution_count": 16,
   "id": "00f6589b-c1de-463b-a557-8e755694178c",
   "metadata": {},
   "outputs": [],
   "source": [
    "for row in genomes_df.itertuples():\n",
    "    summary = genome_summaries[row.ncbi_uid]\n",
    "    assembly_stats = format_summary_meta(summary['meta'])\n",
    "    taxon = taxa[row.ncbi_taxid]\n",
    "    \n",
    "    genome = Genome(\n",
    "        key=row.genbank_acc,\n",
    "        description=f'[{row.genbank_acc}] {summary[\"organism\"]}',\n",
    "        ncbi_db='assembly',\n",
    "        ncbi_id=row.ncbi_uid,\n",
    "        genbank_acc=row.genbank_acc,\n",
    "        # More JSON metadata\n",
    "        extra=dict(\n",
    "            length=assembly_stats['total_length'],\n",
    "        )\n",
    "    )\n",
    "    session.add(genome)\n",
    "    \n",
    "    ag = AnnotatedGenome(\n",
    "        genome=genome,\n",
    "        genome_set=gset,\n",
    "        taxon=taxon,\n",
    "        organism=taxon.name,\n",
    "    )\n",
    "    session.add(ag)\n",
    "    \n",
    "session.commit()"
   ]
  }
 ],
 "metadata": {
  "kernelspec": {
   "display_name": "GAMBIT",
   "language": "python",
   "name": "gambit"
  },
  "language_info": {
   "codemirror_mode": {
    "name": "ipython",
    "version": 3
   },
   "file_extension": ".py",
   "mimetype": "text/x-python",
   "name": "python",
   "nbconvert_exporter": "python",
   "pygments_lexer": "ipython3",
   "version": "3.9.13"
  }
 },
 "nbformat": 4,
 "nbformat_minor": 5
}
