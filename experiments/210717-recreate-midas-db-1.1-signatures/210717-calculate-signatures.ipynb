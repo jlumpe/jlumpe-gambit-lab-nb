{
 "cells": [
  {
   "cell_type": "markdown",
   "id": "d59b60e1",
   "metadata": {},
   "source": [
    "# 210717 Calculate signatures"
   ]
  },
  {
   "cell_type": "code",
   "execution_count": null,
   "id": "1933568c",
   "metadata": {},
   "outputs": [],
   "source": [
    "from pathlib import Path\n",
    "import json"
   ]
  },
  {
   "cell_type": "code",
   "execution_count": 2,
   "id": "99bbd905",
   "metadata": {},
   "outputs": [],
   "source": [
    "import numpy as np\n",
    "from tqdm import tqdm"
   ]
  },
  {
   "cell_type": "code",
   "execution_count": 3,
   "id": "928d75d9",
   "metadata": {},
   "outputs": [],
   "source": [
    "from gambit.kmers import KmerSpec\n",
    "from gambit.io.seq import SequenceFile, find_kmers_in_file\n",
    "from subprocess import run, DEVNULL"
   ]
  },
  {
   "cell_type": "markdown",
   "id": "2f4ec8a3",
   "metadata": {},
   "source": [
    "## Setup"
   ]
  },
  {
   "cell_type": "code",
   "execution_count": 4,
   "id": "f14ddefb",
   "metadata": {},
   "outputs": [],
   "source": [
    "infiles = dict(\n",
    "    seq_urls=Path('data-intermediate/210717-find-sequence-urls/seq-urls.json'),\n",
    ")"
   ]
  },
  {
   "cell_type": "code",
   "execution_count": 5,
   "id": "2c2a26a2",
   "metadata": {},
   "outputs": [],
   "source": [
    "tmpdir = Path('tmp')\n",
    "\n",
    "downloads_dir = tmpdir / 'download'\n",
    "downloads_dir.mkdir(parents=True, exist_ok=True)\n",
    "\n",
    "sigs_dir = tmpdir / 'sigs'\n",
    "sigs_dir.mkdir(parents=True, exist_ok=True)"
   ]
  },
  {
   "cell_type": "markdown",
   "id": "f6454be3",
   "metadata": {},
   "source": [
    "## Load data"
   ]
  },
  {
   "cell_type": "markdown",
   "id": "0574f452",
   "metadata": {},
   "source": [
    "### Sequence URLs"
   ]
  },
  {
   "cell_type": "code",
   "execution_count": 6,
   "id": "b62ba446",
   "metadata": {},
   "outputs": [],
   "source": [
    "with open(infiles['seq_urls']) as f:\n",
    "    seq_info = json.load(f)"
   ]
  },
  {
   "cell_type": "code",
   "execution_count": 7,
   "id": "fb773410",
   "metadata": {},
   "outputs": [
    {
     "data": {
      "text/plain": [
       "50752"
      ]
     },
     "execution_count": 7,
     "metadata": {},
     "output_type": "execute_result"
    }
   ],
   "source": [
    "len(seq_info)"
   ]
  },
  {
   "cell_type": "markdown",
   "id": "ba4551dd",
   "metadata": {},
   "source": [
    "# ?"
   ]
  },
  {
   "cell_type": "code",
   "execution_count": 8,
   "id": "7bdbf743",
   "metadata": {},
   "outputs": [],
   "source": [
    "items_all = [\n",
    "    (\n",
    "        info['url'],\n",
    "        SequenceFile(downloads_dir / f'{i+1}.fa.gz', 'fasta', 'gzip'),\n",
    "        sigs_dir / f'{i+1}.npy',\n",
    "    )\n",
    "    for i, info in enumerate(seq_info)\n",
    "]"
   ]
  },
  {
   "cell_type": "code",
   "execution_count": 9,
   "id": "4f89e559",
   "metadata": {},
   "outputs": [],
   "source": [
    "kspec = KmerSpec(11, 'ATGAC')"
   ]
  },
  {
   "cell_type": "code",
   "execution_count": 10,
   "id": "17955063",
   "metadata": {},
   "outputs": [],
   "source": [
    "def get_signature(url, seqfile, sigfile):\n",
    "    if sigfile.is_file():\n",
    "        return\n",
    "    \n",
    "    run(['wget', url, '-O', str(seqfile.path)], check=True)\n",
    "    \n",
    "    sigs = find_kmers_in_file(kspec, seqfile)\n",
    "    np.save(sigfile, sigs)\n",
    "    \n",
    "    seqfile.path.unlink()"
   ]
  },
  {
   "cell_type": "markdown",
   "id": "2ee911ab",
   "metadata": {},
   "source": [
    "## Download"
   ]
  },
  {
   "cell_type": "code",
   "execution_count": 11,
   "id": "820ac4b8",
   "metadata": {},
   "outputs": [],
   "source": [
    "from concurrent.futures import ThreadPoolExecutor, as_completed"
   ]
  },
  {
   "cell_type": "code",
   "execution_count": 12,
   "id": "214fd561",
   "metadata": {},
   "outputs": [
    {
     "name": "stderr",
     "output_type": "stream",
     "text": [
      "100%|██████████| 50752/50752 [02:11<00:00, 385.36it/s]   \n"
     ]
    }
   ],
   "source": [
    "with ThreadPoolExecutor(max_workers=10) as pool:\n",
    "    futures = [pool.submit(get_signature, *item) for item in items_all]\n",
    "    \n",
    "    for f in tqdm(as_completed(futures), total=len(futures)):\n",
    "        pass"
   ]
  }
 ],
 "metadata": {
  "kernelspec": {
   "display_name": "GAMBIT",
   "language": "python",
   "name": "gambit"
  },
  "language_info": {
   "codemirror_mode": {
    "name": "ipython",
    "version": 3
   },
   "file_extension": ".py",
   "mimetype": "text/x-python",
   "name": "python",
   "nbconvert_exporter": "python",
   "pygments_lexer": "ipython3",
   "version": "3.9.5"
  }
 },
 "nbformat": 4,
 "nbformat_minor": 5
}
