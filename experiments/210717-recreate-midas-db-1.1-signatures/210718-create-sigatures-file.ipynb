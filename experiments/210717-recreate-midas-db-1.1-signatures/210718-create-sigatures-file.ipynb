{
 "cells": [
  {
   "cell_type": "markdown",
   "id": "c8c9f978",
   "metadata": {},
   "source": [
    "# 210718 Create signatures file"
   ]
  },
  {
   "cell_type": "code",
   "execution_count": null,
   "id": "ae029bb3",
   "metadata": {},
   "outputs": [],
   "source": [
    "from pathlib import Path\n",
    "import json"
   ]
  },
  {
   "cell_type": "code",
   "execution_count": 2,
   "id": "ec68b9cc",
   "metadata": {},
   "outputs": [],
   "source": [
    "import numpy as np\n",
    "from tqdm import tqdm"
   ]
  },
  {
   "cell_type": "code",
   "execution_count": 3,
   "id": "7827fcb7",
   "metadata": {},
   "outputs": [],
   "source": [
    "from gambit.kmers import KmerSpec\n",
    "from gambit.signatures import SignatureArray\n",
    "from gambit_legacy.io.signaturefile import SignatureFile"
   ]
  },
  {
   "cell_type": "markdown",
   "id": "49c5f1be",
   "metadata": {},
   "source": [
    "## Setup"
   ]
  },
  {
   "cell_type": "code",
   "execution_count": 4,
   "id": "b890ae08",
   "metadata": {},
   "outputs": [],
   "source": [
    "DATESTR = '210718'\n",
    "DATESTR_ISO = '2021-07-18'"
   ]
  },
  {
   "cell_type": "code",
   "execution_count": 5,
   "id": "abb4c06d",
   "metadata": {},
   "outputs": [],
   "source": [
    "infiles = dict(\n",
    "    seq_urls=Path('data-intermediate/210717-find-sequence-urls/seq-urls.json'),\n",
    ")"
   ]
  },
  {
   "cell_type": "code",
   "execution_count": 6,
   "id": "32160c5c",
   "metadata": {},
   "outputs": [],
   "source": [
    "sigs_dir = Path('tmp/sigs')"
   ]
  },
  {
   "cell_type": "code",
   "execution_count": 7,
   "id": "4e746d2e",
   "metadata": {},
   "outputs": [],
   "source": [
    "signatures_out = Path(f'/home/jared/projects/gambit/data/databases/refseq-curated/midas-1.1/refseq_curated-1.1beta-{DATESTR}.midas-signatures')"
   ]
  },
  {
   "cell_type": "markdown",
   "id": "e0978df7",
   "metadata": {},
   "source": [
    "## Load data"
   ]
  },
  {
   "cell_type": "markdown",
   "id": "9cc75c00",
   "metadata": {},
   "source": [
    "### Accession #s"
   ]
  },
  {
   "cell_type": "code",
   "execution_count": 8,
   "id": "824a6c7a",
   "metadata": {},
   "outputs": [],
   "source": [
    "with open(infiles['seq_urls']) as f:\n",
    "    _items = json.load(f)\n",
    "accs = [item['accession'] for item in _items]"
   ]
  },
  {
   "cell_type": "markdown",
   "id": "439a7ec9",
   "metadata": {},
   "source": [
    "### Signatures"
   ]
  },
  {
   "cell_type": "code",
   "execution_count": 9,
   "id": "76c6dcc5",
   "metadata": {},
   "outputs": [
    {
     "name": "stderr",
     "output_type": "stream",
     "text": [
      "100%|██████████| 50752/50752 [00:21<00:00, 2391.76it/s]\n"
     ]
    }
   ],
   "source": [
    "sigs = []\n",
    "\n",
    "for i, acc in enumerate(tqdm(accs)):\n",
    "    sigs.append(np.load(sigs_dir / f'{i+1}.npy'))"
   ]
  },
  {
   "cell_type": "code",
   "execution_count": 10,
   "id": "208e5971",
   "metadata": {},
   "outputs": [],
   "source": [
    "sigs = SignatureArray(sigs, dtype=np.dtype('u4'))"
   ]
  },
  {
   "cell_type": "markdown",
   "id": "682d0b78",
   "metadata": {},
   "source": [
    "## Write file"
   ]
  },
  {
   "cell_type": "code",
   "execution_count": 11,
   "id": "3cd2885a",
   "metadata": {},
   "outputs": [],
   "source": [
    "# Metadata of original file\n",
    "# Found in 200727-find-overlaps/200727-calculate-pw-distances\n",
    "metadata = {\n",
    "#     \"date_created\": \"2020-06-04\",\n",
    "    \"date_created\": DATESTR_ISO,\n",
    "    \"genome_set\": {\n",
    "        \"key\": \"midas/assembly/curated\",\n",
    "        \"name\": \"refseq_curated_2020\",\n",
    "        \"meta\": {\n",
    "            \"date_created\": \"2020-05-26\",\n",
    "            \"parent\": {\n",
    "                \"key\": \"midas/assembly/curated\",\n",
    "                \"key_version\": \"0.9\"\n",
    "            }\n",
    "        },\n",
    "        \"description\": \"Created 2020-05-26 by filtering version 0.9 by inclusion in refseq/assembly/all 1.1\",\n",
    "        \"key_version\": \"1.1\"\n",
    "    },\n",
    "    \"kmer_spec\": {\n",
    "        \"k\": 11,\n",
    "        \"prefix\": \"ATGAC\"\n",
    "    },\n",
    "    \"description\": \"Signatures for version 1.1 of curated genome set. Re-creation of original file created 200604\",\n",
    "    # New\n",
    "    \"id_attr\": \"refseq_acc\",\n",
    "}"
   ]
  },
  {
   "cell_type": "code",
   "execution_count": 12,
   "id": "8d0e1c47",
   "metadata": {},
   "outputs": [],
   "source": [
    "with open(signatures_out, 'wb') as f:\n",
    "    SignatureFile.write(f, sigs, ids=accs, metadata=metadata)"
   ]
  },
  {
   "cell_type": "code",
   "execution_count": 13,
   "id": "966d51b9",
   "metadata": {},
   "outputs": [],
   "source": [
    "!gzip -f {signatures_out}"
   ]
  }
 ],
 "metadata": {
  "kernelspec": {
   "display_name": "GAMBIT",
   "language": "python",
   "name": "gambit"
  },
  "language_info": {
   "codemirror_mode": {
    "name": "ipython",
    "version": 3
   },
   "file_extension": ".py",
   "mimetype": "text/x-python",
   "name": "python",
   "nbconvert_exporter": "python",
   "pygments_lexer": "ipython3",
   "version": "3.9.5"
  }
 },
 "nbformat": 4,
 "nbformat_minor": 5
}
