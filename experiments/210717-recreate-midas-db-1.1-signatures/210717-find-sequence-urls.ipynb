{
 "cells": [
  {
   "cell_type": "markdown",
   "id": "b448e066",
   "metadata": {},
   "source": [
    "# 210717 Find sequence URLs"
   ]
  },
  {
   "cell_type": "code",
   "execution_count": null,
   "id": "83230dbb",
   "metadata": {},
   "outputs": [],
   "source": [
    "from pathlib import Path\n",
    "import json"
   ]
  },
  {
   "cell_type": "code",
   "execution_count": 2,
   "id": "8ff8e944",
   "metadata": {},
   "outputs": [],
   "source": [
    "import pandas as pd\n",
    "from tqdm import tqdm\n",
    "from sqlalchemy import create_engine\n",
    "from sqlalchemy.orm import sessionmaker"
   ]
  },
  {
   "cell_type": "code",
   "execution_count": 3,
   "id": "766ffe65",
   "metadata": {},
   "outputs": [],
   "source": [
    "from midas.database.basicdatabase import GenomeSet, Genome"
   ]
  },
  {
   "cell_type": "markdown",
   "id": "9ec3e680",
   "metadata": {},
   "source": [
    "## Setup"
   ]
  },
  {
   "cell_type": "code",
   "execution_count": 4,
   "id": "7e6dfd86",
   "metadata": {},
   "outputs": [],
   "source": [
    "DATESTR = '210717'\n",
    "NBNAME = DATESTR + '-find-sequence-urls'"
   ]
  },
  {
   "cell_type": "code",
   "execution_count": 5,
   "id": "eed735f3",
   "metadata": {},
   "outputs": [],
   "source": [
    "infiles = dict(\n",
    "    db=Path('/home/jared/projects/gambit/data/databases/refseq-curated/midas-1.1/refseq-curated-1.1b-200525.db'),\n",
    "    genomes=Path('../../data/intermediate/210303-database-v2-overlaps/210303-format-data/genomes-v1.1.csv'),\n",
    ")"
   ]
  },
  {
   "cell_type": "code",
   "execution_count": 6,
   "id": "63c0f0cc",
   "metadata": {},
   "outputs": [],
   "source": [
    "data_intermediate = Path('data-intermediate') / NBNAME\n",
    "data_intermediate.mkdir(exist_ok=True)"
   ]
  },
  {
   "cell_type": "markdown",
   "id": "b85ebcaf",
   "metadata": {},
   "source": [
    "## Load data"
   ]
  },
  {
   "cell_type": "markdown",
   "id": "2008f2d9",
   "metadata": {},
   "source": [
    "### Genomes table"
   ]
  },
  {
   "cell_type": "code",
   "execution_count": 7,
   "id": "dcd2cd22",
   "metadata": {},
   "outputs": [],
   "source": [
    "genomes_df = pd.read_csv(infiles['genomes'])"
   ]
  },
  {
   "cell_type": "code",
   "execution_count": 8,
   "id": "f6712635",
   "metadata": {},
   "outputs": [],
   "source": [
    "accs = genomes_df['accession']"
   ]
  },
  {
   "cell_type": "markdown",
   "id": "2bdd2e4f",
   "metadata": {},
   "source": [
    "### Database"
   ]
  },
  {
   "cell_type": "code",
   "execution_count": 9,
   "id": "18c1503d",
   "metadata": {},
   "outputs": [],
   "source": [
    "engine = create_engine('sqlite:///' + str(infiles['db']))"
   ]
  },
  {
   "cell_type": "code",
   "execution_count": 10,
   "id": "70f85bf9",
   "metadata": {},
   "outputs": [],
   "source": [
    "Session = sessionmaker(engine)\n",
    "session = Session()"
   ]
  },
  {
   "cell_type": "code",
   "execution_count": 11,
   "id": "d7bc9ef7",
   "metadata": {},
   "outputs": [],
   "source": [
    "gset = session.query(GenomeSet).one()"
   ]
  },
  {
   "cell_type": "code",
   "execution_count": 12,
   "id": "1ed9c99b",
   "metadata": {},
   "outputs": [],
   "source": [
    "assert len(accs) == session.query(Genome).count()"
   ]
  },
  {
   "cell_type": "markdown",
   "id": "33adff30",
   "metadata": {},
   "source": [
    "### Sequence sources"
   ]
  },
  {
   "cell_type": "code",
   "execution_count": 13,
   "id": "b7548ad7",
   "metadata": {},
   "outputs": [
    {
     "name": "stderr",
     "output_type": "stream",
     "text": [
      "100%|██████████| 50752/50752 [00:42<00:00, 1183.55it/s]\n"
     ]
    }
   ],
   "source": [
    "sequence_sources = {\n",
    "    genome.gb_acc: genome.meta['sequence_source'].as_builtin()\n",
    "    for genome in tqdm(session.query(Genome), total=len(accs))\n",
    "}"
   ]
  },
  {
   "cell_type": "markdown",
   "id": "196951f6",
   "metadata": {},
   "source": [
    "## Write output"
   ]
  },
  {
   "cell_type": "code",
   "execution_count": 14,
   "id": "31692e52",
   "metadata": {},
   "outputs": [],
   "source": [
    "data_out = []\n",
    "\n",
    "for acc in accs:\n",
    "    item = dict(accession=acc)\n",
    "    item.update(sequence_sources[acc])\n",
    "    data_out.append(item)"
   ]
  },
  {
   "cell_type": "code",
   "execution_count": 15,
   "id": "d7ecc7b3",
   "metadata": {},
   "outputs": [],
   "source": [
    "with open(str(data_intermediate / 'seq-urls.json'), 'w') as f:\n",
    "    json.dump(data_out, f)"
   ]
  }
 ],
 "metadata": {
  "kernelspec": {
   "display_name": "midas1",
   "language": "python",
   "name": "midas1"
  },
  "language_info": {
   "codemirror_mode": {
    "name": "ipython",
    "version": 3
   },
   "file_extension": ".py",
   "mimetype": "text/x-python",
   "name": "python",
   "nbconvert_exporter": "python",
   "pygments_lexer": "ipython3",
   "version": "3.5.6"
  }
 },
 "nbformat": 4,
 "nbformat_minor": 5
}
