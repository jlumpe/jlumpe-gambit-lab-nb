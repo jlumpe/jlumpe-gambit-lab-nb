{
 "cells": [
  {
   "cell_type": "markdown",
   "id": "7fb9eb84",
   "metadata": {},
   "source": [
    "# 210718 Validate signatures"
   ]
  },
  {
   "cell_type": "code",
   "execution_count": 1,
   "id": "afa18de6",
   "metadata": {},
   "outputs": [],
   "source": [
    "using Mmap\n",
    "using Random"
   ]
  },
  {
   "cell_type": "code",
   "execution_count": 2,
   "id": "578d1e78",
   "metadata": {},
   "outputs": [],
   "source": [
    "using ProgressMeter\n",
    "using GZip\n",
    "using JSON"
   ]
  },
  {
   "cell_type": "code",
   "execution_count": 3,
   "id": "ceda7732",
   "metadata": {},
   "outputs": [],
   "source": [
    "using Midas\n",
    "using Midas.Distances\n",
    "using Midas.SignatureFiles\n",
    "using Midas.Pairwise: npairs\n",
    "using TriMatrices\n",
    "using TriMatrices.Indexing: lin2car"
   ]
  },
  {
   "cell_type": "code",
   "execution_count": 4,
   "id": "4f90267f",
   "metadata": {},
   "outputs": [
    {
     "data": {
      "text/plain": [
       "jaccard_dist_sorted (generic function with 1 method)"
      ]
     },
     "execution_count": 4,
     "metadata": {},
     "output_type": "execute_result"
    }
   ],
   "source": [
    "const metric = jaccard_dist_sorted"
   ]
  },
  {
   "cell_type": "markdown",
   "id": "9c82a285",
   "metadata": {},
   "source": [
    "## Setup"
   ]
  },
  {
   "cell_type": "code",
   "execution_count": 5,
   "id": "a0f7410b",
   "metadata": {},
   "outputs": [],
   "source": [
    "infiles = Dict(\n",
    "    :distances => \"../../data/intermediate/200727-find-overlaps/genome-pw-distances.raw-float32\",\n",
    "    :signatures => \"/home/jared/projects/midas/data/databases/refseq-curated/midas-1.1/refseq_curated-1.1beta-210718.midas-signatures.gz\",\n",
    ");"
   ]
  },
  {
   "cell_type": "markdown",
   "id": "b42aba9f",
   "metadata": {},
   "source": [
    "## Load data"
   ]
  },
  {
   "cell_type": "markdown",
   "id": "d8c0009d",
   "metadata": {},
   "source": [
    "### Signatures"
   ]
  },
  {
   "cell_type": "code",
   "execution_count": 6,
   "id": "3487ce2d",
   "metadata": {},
   "outputs": [
    {
     "data": {
      "text/plain": [
       "SignatureFile{UInt32,GZipStream} with 50752 elements"
      ]
     },
     "execution_count": 6,
     "metadata": {},
     "output_type": "execute_result"
    }
   ],
   "source": [
    "sigfile = SignatureFile(GZip.open(infiles[:signatures]))"
   ]
  },
  {
   "cell_type": "code",
   "execution_count": 7,
   "id": "dd1a9e75",
   "metadata": {},
   "outputs": [
    {
     "data": {
      "text/plain": [
       "50752"
      ]
     },
     "execution_count": 7,
     "metadata": {},
     "output_type": "execute_result"
    }
   ],
   "source": [
    "sigs = SignatureArray(sigfile)\n",
    "nsigs = length(sigs)"
   ]
  },
  {
   "cell_type": "markdown",
   "id": "b6e8591a",
   "metadata": {},
   "source": [
    "### Distances"
   ]
  },
  {
   "cell_type": "code",
   "execution_count": 8,
   "id": "f6ad4296",
   "metadata": {},
   "outputs": [],
   "source": [
    "pw_data = Mmap.mmap(infiles[:distances], Vector{Float32}, (npairs(nsigs),));"
   ]
  },
  {
   "cell_type": "code",
   "execution_count": 9,
   "id": "aac8113e",
   "metadata": {},
   "outputs": [
    {
     "data": {
      "text/plain": [
       "TriSymmetric{false}()"
      ]
     },
     "execution_count": 9,
     "metadata": {},
     "output_type": "execute_result"
    }
   ],
   "source": [
    "pw_layout = TriSymmetric{false}()"
   ]
  },
  {
   "cell_type": "code",
   "execution_count": 10,
   "id": "924b622b",
   "metadata": {},
   "outputs": [],
   "source": [
    "pw_dists = TriMatrix(pw_layout, nsigs, pw_data);"
   ]
  },
  {
   "cell_type": "markdown",
   "id": "a1206242",
   "metadata": {},
   "source": [
    "## Check distances"
   ]
  },
  {
   "cell_type": "code",
   "execution_count": 11,
   "id": "3dbbddaa",
   "metadata": {},
   "outputs": [],
   "source": [
    "# About 1 in 100\n",
    "indices = randsubseq(1:length(pw_data), .01);"
   ]
  },
  {
   "cell_type": "code",
   "execution_count": 12,
   "id": "395cdfef",
   "metadata": {},
   "outputs": [
    {
     "name": "stderr",
     "output_type": "stream",
     "text": [
      "\u001b[32mProgress: 100%|█████████████████████████████████████████| Time: 0:11:17\u001b[39m39m\n"
     ]
    }
   ],
   "source": [
    "@showprogress for idx in indices\n",
    "    i, j = lin2car(pw_layout, idx)\n",
    "    @assert metric(sigs[i], sigs[j]) ≈ pw_data[idx]\n",
    "end"
   ]
  }
 ],
 "metadata": {
  "kernelspec": {
   "display_name": "Julia 1.5.1",
   "language": "julia",
   "name": "julia-1.5"
  },
  "language_info": {
   "file_extension": ".jl",
   "mimetype": "application/julia",
   "name": "julia",
   "version": "1.5.1"
  }
 },
 "nbformat": 4,
 "nbformat_minor": 5
}
