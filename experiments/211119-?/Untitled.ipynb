{
 "cells": [
  {
   "cell_type": "code",
   "execution_count": 1,
   "id": "24665f24-f76e-41f9-ac8e-5dae8e79ce29",
   "metadata": {},
   "outputs": [],
   "source": [
    "import numpy as np\n",
    "import pandas as pd\n",
    "import matplotlib.pyplot as plt\n",
    "import seaborn as sns"
   ]
  },
  {
   "cell_type": "code",
   "execution_count": 2,
   "id": "01a0cb44-7fc7-4420-8389-4dd90394c560",
   "metadata": {},
   "outputs": [],
   "source": [
    "%matplotlib inline"
   ]
  },
  {
   "cell_type": "code",
   "execution_count": 4,
   "id": "422145b3-3570-4af3-b38c-96e228e00a60",
   "metadata": {},
   "outputs": [],
   "source": [
    "from gambit.db import load_db_from_dir\n",
    "from gambit.db.models import *\n",
    "from gambit.metric import jaccarddist_matrix"
   ]
  },
  {
   "cell_type": "markdown",
   "id": "e9e9f2d3-1236-4158-b3a2-98c6b969fc69",
   "metadata": {},
   "source": [
    "## DB"
   ]
  },
  {
   "cell_type": "code",
   "execution_count": 5,
   "id": "c27e470b-54db-49f5-ab05-008e2c238224",
   "metadata": {},
   "outputs": [],
   "source": [
    "db = load_db_from_dir('/home/jared/projects/gambit/data/databases/refseq-curated/1.0-beta2/')"
   ]
  },
  {
   "cell_type": "code",
   "execution_count": 6,
   "id": "14abcc98-12be-4e7d-a88a-70c0f6bd2967",
   "metadata": {},
   "outputs": [],
   "source": [
    "root = db.session.query(Taxon).get(1862)"
   ]
  },
  {
   "cell_type": "code",
   "execution_count": 7,
   "id": "c72195f2-015a-41d7-ae25-92b0541d4a5b",
   "metadata": {},
   "outputs": [],
   "source": [
    "leaves = list(root.leaves())"
   ]
  },
  {
   "cell_type": "code",
   "execution_count": 8,
   "id": "303f541e-0463-482e-872b-b28934598c7a",
   "metadata": {},
   "outputs": [],
   "source": [
    "_gid_to_index = {g.genome_id: i for i, g in enumerate(db.genomes)}\n",
    "\n",
    "_indices = []\n",
    "leaf_labels = []\n",
    "\n",
    "for i, leaf in enumerate(leaves):\n",
    "    for g in leaf.genomes:\n",
    "        _indices.append(_gid_to_index[g.genome_id])\n",
    "        leaf_labels.append(i)\n",
    "        \n",
    "leaf_labels = np.asarray(leaf_labels)\n",
    "sigs = db.signatures[_indices]"
   ]
  },
  {
   "cell_type": "code",
   "execution_count": 9,
   "id": "1a0a4b69-4331-4bb7-a197-0c3ba99f7a3e",
   "metadata": {},
   "outputs": [
    {
     "name": "stderr",
     "output_type": "stream",
     "text": [
      "  2%|▏         | 580000/23804641 [00:08<05:58, 64840.53it/s] \n"
     ]
    },
    {
     "ename": "KeyboardInterrupt",
     "evalue": "",
     "output_type": "error",
     "traceback": [
      "\u001b[0;31m---------------------------------------------------------------------------\u001b[0m",
      "\u001b[0;31mKeyboardInterrupt\u001b[0m                         Traceback (most recent call last)",
      "\u001b[0;32m<ipython-input-9-c69fcd466520>\u001b[0m in \u001b[0;36m<module>\u001b[0;34m\u001b[0m\n\u001b[0;32m----> 1\u001b[0;31m \u001b[0mdmat\u001b[0m \u001b[0;34m=\u001b[0m \u001b[0mjaccarddist_matrix\u001b[0m\u001b[0;34m(\u001b[0m\u001b[0msigs\u001b[0m\u001b[0;34m,\u001b[0m \u001b[0msigs\u001b[0m\u001b[0;34m,\u001b[0m \u001b[0mchunksize\u001b[0m\u001b[0;34m=\u001b[0m\u001b[0;36m500\u001b[0m\u001b[0;34m,\u001b[0m \u001b[0mprogress\u001b[0m\u001b[0;34m=\u001b[0m\u001b[0;32mTrue\u001b[0m\u001b[0;34m)\u001b[0m\u001b[0;34m\u001b[0m\u001b[0;34m\u001b[0m\u001b[0m\n\u001b[0m",
      "\u001b[0;32m~/code/gambit/gambit/gambit/metric.py\u001b[0m in \u001b[0;36mjaccarddist_matrix\u001b[0;34m(queries, refs, ref_indices, out, chunksize, progress)\u001b[0m\n\u001b[1;32m    155\u001b[0m \u001b[0;34m\u001b[0m\u001b[0m\n\u001b[1;32m    156\u001b[0m                         \u001b[0;32mfor\u001b[0m \u001b[0;34m(\u001b[0m\u001b[0mi\u001b[0m\u001b[0;34m,\u001b[0m \u001b[0mquery\u001b[0m\u001b[0;34m)\u001b[0m \u001b[0;32min\u001b[0m \u001b[0menumerate\u001b[0m\u001b[0;34m(\u001b[0m\u001b[0mqueries\u001b[0m\u001b[0;34m)\u001b[0m\u001b[0;34m:\u001b[0m\u001b[0;34m\u001b[0m\u001b[0;34m\u001b[0m\u001b[0m\n\u001b[0;32m--> 157\u001b[0;31m                                 \u001b[0mjaccarddist_array\u001b[0m\u001b[0;34m(\u001b[0m\u001b[0mquery\u001b[0m\u001b[0;34m,\u001b[0m \u001b[0mref_chunk\u001b[0m\u001b[0;34m,\u001b[0m \u001b[0mout\u001b[0m\u001b[0;34m=\u001b[0m\u001b[0mout\u001b[0m\u001b[0;34m[\u001b[0m\u001b[0mi\u001b[0m\u001b[0;34m,\u001b[0m \u001b[0mref_slice\u001b[0m\u001b[0;34m]\u001b[0m\u001b[0;34m)\u001b[0m\u001b[0;34m\u001b[0m\u001b[0;34m\u001b[0m\u001b[0m\n\u001b[0m\u001b[1;32m    158\u001b[0m                                 \u001b[0mmeter\u001b[0m\u001b[0;34m.\u001b[0m\u001b[0mincrement\u001b[0m\u001b[0;34m(\u001b[0m\u001b[0mlen\u001b[0m\u001b[0;34m(\u001b[0m\u001b[0mref_chunk\u001b[0m\u001b[0;34m)\u001b[0m\u001b[0;34m)\u001b[0m\u001b[0;34m\u001b[0m\u001b[0;34m\u001b[0m\u001b[0m\n\u001b[1;32m    159\u001b[0m \u001b[0;34m\u001b[0m\u001b[0m\n",
      "\u001b[0;32m~/code/gambit/gambit/gambit/metric.py\u001b[0m in \u001b[0;36mjaccarddist_array\u001b[0;34m(query, refs, out)\u001b[0m\n\u001b[1;32m     90\u001b[0m         \u001b[0mbounds\u001b[0m \u001b[0;34m=\u001b[0m \u001b[0mrefs\u001b[0m\u001b[0;34m.\u001b[0m\u001b[0mbounds\u001b[0m\u001b[0;34m.\u001b[0m\u001b[0mastype\u001b[0m\u001b[0;34m(\u001b[0m\u001b[0mBOUNDS_DTYPE\u001b[0m\u001b[0;34m,\u001b[0m \u001b[0mcopy\u001b[0m\u001b[0;34m=\u001b[0m\u001b[0;32mFalse\u001b[0m\u001b[0;34m)\u001b[0m\u001b[0;34m\u001b[0m\u001b[0;34m\u001b[0m\u001b[0m\n\u001b[1;32m     91\u001b[0m \u001b[0;34m\u001b[0m\u001b[0m\n\u001b[0;32m---> 92\u001b[0;31m         \u001b[0m_jaccarddist_parallel\u001b[0m\u001b[0;34m(\u001b[0m\u001b[0mquery\u001b[0m\u001b[0;34m,\u001b[0m \u001b[0mvalues\u001b[0m\u001b[0;34m,\u001b[0m \u001b[0mbounds\u001b[0m\u001b[0;34m,\u001b[0m \u001b[0mout\u001b[0m\u001b[0;34m)\u001b[0m\u001b[0;34m\u001b[0m\u001b[0;34m\u001b[0m\u001b[0m\n\u001b[0m\u001b[1;32m     93\u001b[0m \u001b[0;34m\u001b[0m\u001b[0m\n\u001b[1;32m     94\u001b[0m         \u001b[0;32mreturn\u001b[0m \u001b[0mout\u001b[0m\u001b[0;34m\u001b[0m\u001b[0;34m\u001b[0m\u001b[0m\n",
      "\u001b[0;31mKeyboardInterrupt\u001b[0m: "
     ]
    }
   ],
   "source": [
    "dmat = jaccarddist_matrix(sigs, sigs, chunksize=500, progress=True)"
   ]
  },
  {
   "cell_type": "code",
   "execution_count": null,
   "id": "be1d8f55-14be-48d4-83a8-574e4e1ea6c4",
   "metadata": {},
   "outputs": [],
   "source": [
    "leaf_genome_indices = [np.flatnonzero(leaf_labels==i) for i in range(len(leaves))]"
   ]
  },
  {
   "cell_type": "code",
   "execution_count": null,
   "id": "033d7c8f-6bee-426f-8442-06327d780c4d",
   "metadata": {},
   "outputs": [],
   "source": [
    "list(map(len, leaf_genome_indices))"
   ]
  },
  {
   "cell_type": "code",
   "execution_count": null,
   "id": "d275e9ec-d7d0-4d17-8a59-51bbbefa79d7",
   "metadata": {},
   "outputs": [],
   "source": [
    "ps = [(taxon.id, taxon.name, taxon.genomes.count()) for taxon in db.session.query(Taxon)]"
   ]
  },
  {
   "cell_type": "code",
   "execution_count": null,
   "id": "e9ab6134-11fc-4af7-bc87-d9a47d68443e",
   "metadata": {},
   "outputs": [],
   "source": [
    "ps.sort(key=lambda tup: tup[-1], reverse=True)"
   ]
  },
  {
   "cell_type": "code",
   "execution_count": null,
   "id": "e161c7e1-7c6d-4281-90d4-ed5d4af4d418",
   "metadata": {},
   "outputs": [],
   "source": [
    "ps[:20]"
   ]
  },
  {
   "cell_type": "code",
   "execution_count": null,
   "id": "d0e37e99-ef68-4c85-940e-09b5cf2bb954",
   "metadata": {},
   "outputs": [],
   "source": []
  },
  {
   "cell_type": "code",
   "execution_count": null,
   "id": "1c517610-0fb9-4efa-9f36-6aa8632b1060",
   "metadata": {},
   "outputs": [],
   "source": [
    "db.session.query(Taxon).filter_by(name='Mycobacterium').one().children"
   ]
  },
  {
   "cell_type": "code",
   "execution_count": null,
   "id": "45bcab2f-ca9f-4d8c-9aa3-f0844cdbc406",
   "metadata": {},
   "outputs": [],
   "source": [
    "sorted([(taxon.id, taxon.name, taxon.distance_threshold, taxon.genomes.count()) for taxon in _], key=lambda tup: tup[-1])"
   ]
  },
  {
   "cell_type": "markdown",
   "id": "48e0b01b-c3f8-453c-b22f-c3de2db25d61",
   "metadata": {},
   "source": [
    "## ?"
   ]
  },
  {
   "cell_type": "code",
   "execution_count": 10,
   "id": "7dd8a071-3228-41e7-84e3-2e6f9f2fc3bf",
   "metadata": {},
   "outputs": [],
   "source": [
    "leaves2 = [db.session.query(Taxon).get(id) for id in [1403, 1406, 1407]]"
   ]
  },
  {
   "cell_type": "code",
   "execution_count": 11,
   "id": "0cb3a24b-9132-44f2-9106-dcc9ab842813",
   "metadata": {},
   "outputs": [
    {
     "data": {
      "text/plain": [
       "[('Streptococcus suis', 0.9232066869735718),\n",
       " ('Streptococcus agalactiae', 0.468765377998352),\n",
       " ('Streptococcus mutans', 0.3813463747501373)]"
      ]
     },
     "execution_count": 11,
     "metadata": {},
     "output_type": "execute_result"
    }
   ],
   "source": [
    "[(t.name, t.distance_threshold) for t in leaves2]"
   ]
  },
  {
   "cell_type": "code",
   "execution_count": 12,
   "id": "a3941190-440b-45e5-a1a4-4833b7a9f781",
   "metadata": {},
   "outputs": [],
   "source": [
    "nleaves2 = len(leaves2)"
   ]
  },
  {
   "cell_type": "code",
   "execution_count": 13,
   "id": "4d42e5d1-08f6-46c7-bcc4-23a827e7114d",
   "metadata": {},
   "outputs": [],
   "source": [
    "_indices2 = []\n",
    "leaf_labels2 = []\n",
    "\n",
    "for i, leaf in enumerate(leaves2):\n",
    "    for g in leaf.genomes:\n",
    "        _indices2.append(_gid_to_index[g.genome_id])\n",
    "        leaf_labels2.append(i)\n",
    "        \n",
    "leaf_labels2 = np.asarray(leaf_labels2)\n",
    "sigs2 = db.signatures[_indices2]"
   ]
  },
  {
   "cell_type": "code",
   "execution_count": 14,
   "id": "d85e3350-c08c-4021-a4f9-344a028e5978",
   "metadata": {},
   "outputs": [
    {
     "name": "stderr",
     "output_type": "stream",
     "text": [
      "100%|██████████| 2509056/2509056 [00:29<00:00, 86404.44it/s] \n"
     ]
    }
   ],
   "source": [
    "dmat2 = jaccarddist_matrix(sigs2, sigs2, chunksize=500, progress=True)"
   ]
  },
  {
   "cell_type": "code",
   "execution_count": 16,
   "id": "aaee14ca-954b-48db-8f4d-ac03203625df",
   "metadata": {},
   "outputs": [
    {
     "data": {
      "image/png": "[encoded data removed]",
      "text/plain": [
       "<Figure size 864x864 with 9 Axes>"
      ]
     },
     "metadata": {
      "needs_background": "light"
     },
     "output_type": "display_data"
    }
   ],
   "source": [
    "fig, axes = plt.subplots(nleaves2, nleaves2, figsize=(12, 12), sharex=True)\n",
    "\n",
    "\n",
    "for i, l1 in enumerate(leaves2):\n",
    "    for j, l2 in enumerate(leaves2):\n",
    "        ax = axes[i, j]\n",
    "        \n",
    "        ds = dmat2[np.ix_(leaf_labels2==i, leaf_labels2==j)]\n",
    "        if i == j:\n",
    "            ds = ds[np.tril_indices_from(ds)]\n",
    "        else:\n",
    "            ds = ds.flatten()\n",
    "            \n",
    "        ax.yaxis.set_visible(False)\n",
    "        # ax.hist(ds)\n",
    "        sns.kdeplot(x=ds, ax=ax, fill=True)\n",
    "        \n",
    "        # for k in {i, j}:\n",
    "            # ax.axvline(leaves2[k].distance_threshold, ls='dashed', color='green')\n",
    "            \n",
    "        ax.set_xlabel('GAMBIT distance')\n",
    "        ax.grid(False)\n",
    "        ax.set_xscale('logit')\n",
    "        \n",
    "# for i, leaf in enumerate(leaves2):\n",
    "#     axes[i, 0].set_ylabel(leaf.name)\n",
    "#     axes[-1, j].set_xlabel(leaf.name)\n",
    "        \n",
    "fig.tight_layout()"
   ]
  },
  {
   "cell_type": "code",
   "execution_count": null,
   "id": "b60edc40-c56b-4b62-9c9e-2d4622597572",
   "metadata": {},
   "outputs": [],
   "source": []
  }
 ],
 "metadata": {
  "kernelspec": {
   "display_name": "GAMBIT",
   "language": "python",
   "name": "gambit"
  },
  "language_info": {
   "codemirror_mode": {
    "name": "ipython",
    "version": 3
   },
   "file_extension": ".py",
   "mimetype": "text/x-python",
   "name": "python",
   "nbconvert_exporter": "python",
   "pygments_lexer": "ipython3",
   "version": "3.9.10"
  }
 },
 "nbformat": 4,
 "nbformat_minor": 5
}
