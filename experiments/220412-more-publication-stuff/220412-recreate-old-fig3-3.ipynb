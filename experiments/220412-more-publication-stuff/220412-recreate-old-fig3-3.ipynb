{
 "cells": [
  {
   "cell_type": "markdown",
   "id": "02e475c1-6b94-4ae9-85c9-5cc5d270f546",
   "metadata": {},
   "source": [
    "# Recreation of \"200811 Fastq kmer counts basic comparison\" with 19AC0011209PEA_S8_L001_R1_001"
   ]
  },
  {
   "cell_type": "code",
   "execution_count": 1,
   "id": "360e4bc2-707a-4057-9925-ffa18af7ff06",
   "metadata": {},
   "outputs": [],
   "source": [
    "from pathlib import Path"
   ]
  },
  {
   "cell_type": "code",
   "execution_count": 2,
   "id": "b69793ad-8692-4c3b-8e21-22cfddbd16a9",
   "metadata": {},
   "outputs": [],
   "source": [
    "import numpy as np\n",
    "import pandas as pd\n",
    "import h5py as h5\n",
    "from tqdm import tqdm\n",
    "import matplotlib.pyplot as plt\n",
    "import seaborn as sns"
   ]
  },
  {
   "cell_type": "code",
   "execution_count": 3,
   "id": "bb4c2aaf-9d37-4cd3-829c-4bb27441e6ce",
   "metadata": {},
   "outputs": [],
   "source": [
    "%matplotlib inline"
   ]
  },
  {
   "cell_type": "code",
   "execution_count": 4,
   "id": "a0db7c99-f0c9-42e7-8ec7-12df0d35eccf",
   "metadata": {},
   "outputs": [],
   "source": [
    "from gambit.seq import SequenceFile\n",
    "from gambit.kmers import KmerSpec, find_kmers\n",
    "from gambit.sigs import load_signatures\n",
    "from gambit_pub.fastq import get_phred, phredsum"
   ]
  },
  {
   "cell_type": "markdown",
   "id": "f805d692-3590-4739-b8b5-2591a4e74f72",
   "metadata": {},
   "source": [
    "## Code"
   ]
  },
  {
   "cell_type": "code",
   "execution_count": 5,
   "id": "7619a0d8-ba96-4ae0-819e-60126420b773",
   "metadata": {},
   "outputs": [],
   "source": [
    "# Histogram with transparency fill\n",
    "def myhist(ax, x, color, alpha=.25, lw=2, **kw):\n",
    "    h1 = ax.hist(x, fc=color, alpha=alpha, **kw)\n",
    "    h2 = ax.hist(x, histtype='step', ec=color, lw=lw, **kw)\n",
    "    return (h1, h2)"
   ]
  },
  {
   "cell_type": "markdown",
   "id": "0ef191f8-cc78-4949-95ac-be49a0230d1a",
   "metadata": {},
   "source": [
    "## Setup"
   ]
  },
  {
   "cell_type": "markdown",
   "id": "3774c45b-7edb-442c-9f98-e52021697f92",
   "metadata": {},
   "source": [
    "### Parameters"
   ]
  },
  {
   "cell_type": "code",
   "execution_count": 6,
   "id": "7a9fe615-943f-4001-b24c-5a7b669e33af",
   "metadata": {},
   "outputs": [],
   "source": [
    "kspec = KmerSpec(11, 'ATGAC')"
   ]
  },
  {
   "cell_type": "code",
   "execution_count": 7,
   "id": "59fff934-01b1-4e5c-9021-c9e731bb9c23",
   "metadata": {},
   "outputs": [],
   "source": [
    "phred_thresholds = [10, 15, 20, 25]"
   ]
  },
  {
   "cell_type": "markdown",
   "id": "f2a28811-b7bb-4300-af3a-f305466a178b",
   "metadata": {},
   "source": [
    "### Input files"
   ]
  },
  {
   "cell_type": "code",
   "execution_count": 8,
   "id": "bd593a36-fe3a-4b9c-a091-a73687555d65",
   "metadata": {},
   "outputs": [],
   "source": [
    "wf_path = Path('/home/jared/code/gambit/gambit-publication/')"
   ]
  },
  {
   "cell_type": "code",
   "execution_count": 9,
   "id": "7e4aae05-ef64-4afc-a4ce-f3e155ea2f75",
   "metadata": {},
   "outputs": [],
   "source": [
    "filename = '19AC0011209PEA_S8_L001_R1_001'"
   ]
  },
  {
   "cell_type": "code",
   "execution_count": 10,
   "id": "836b7877-324c-44c5-a89f-aa50e36cf785",
   "metadata": {},
   "outputs": [],
   "source": [
    "fastq_path = wf_path / f'resources/genomes/set3/fastq/{filename}.fastq.gz'\n",
    "fastq_file = SequenceFile(fastq_path, 'fastq', 'gzip')\n",
    "\n",
    "fasta_path = wf_path / f'resources/genomes/set3/fasta/{filename}.fasta'\n",
    "fasta_file = SequenceFile(fasta_path, 'fasta', None)\n",
    "\n",
    "sigs_path = wf_path / f'intermediate-data/signatures/set3-{kspec.k}-{kspec.prefix_str}.h5'"
   ]
  },
  {
   "cell_type": "markdown",
   "id": "3abb20eb-ab13-410f-9033-f701a0bd4e18",
   "metadata": {},
   "source": [
    "### Signature"
   ]
  },
  {
   "cell_type": "code",
   "execution_count": 12,
   "id": "a2a5e0bd-6b50-4217-bf6e-565a0dbd0da1",
   "metadata": {},
   "outputs": [],
   "source": [
    "sigs = load_signatures(sigs_path)"
   ]
  },
  {
   "cell_type": "code",
   "execution_count": 13,
   "id": "b240034a-a632-47e0-9d43-e7512d59070d",
   "metadata": {},
   "outputs": [],
   "source": [
    "(sig_idx,) = np.flatnonzero(sigs.ids == (filename + '.fasta'))"
   ]
  },
  {
   "cell_type": "code",
   "execution_count": 14,
   "id": "b5184cb4-5e03-4574-9d6d-fe1a861406eb",
   "metadata": {},
   "outputs": [],
   "source": [
    "sig = sigs[sig_idx]"
   ]
  },
  {
   "cell_type": "markdown",
   "id": "7aac8d60-9a7a-4ff4-888d-00acf62f751b",
   "metadata": {
    "tags": []
   },
   "source": [
    "## Raw read counts"
   ]
  },
  {
   "cell_type": "code",
   "execution_count": 15,
   "id": "df259ba6-0143-4a9c-940f-2f528370f46c",
   "metadata": {},
   "outputs": [
    {
     "name": "stderr",
     "output_type": "stream",
     "text": [
      "1424390it [01:01, 23164.41it/s]\n"
     ]
    }
   ],
   "source": [
    "read_counts = np.zeros((kspec.nkmers, len(phred_thresholds)), dtype=np.int16)\n",
    "n_invalid = 0\n",
    "\n",
    "for record in tqdm(fastq_file.parse()):\n",
    "    phred = get_phred(record)\n",
    "    \n",
    "    for match in find_kmers(kspec, record.seq):\n",
    "        try:\n",
    "            idx = match.kmer_index()\n",
    "        except ValueError:\n",
    "            n_invalid += 1\n",
    "            continue\n",
    "            \n",
    "        phred_agg = phredsum(phred[match.full_indices()])\n",
    "        phred_bin = np.searchsorted(phred_thresholds, phred_agg, 'right') - 1\n",
    "        if phred_bin >= 0:\n",
    "            read_counts[idx, phred_bin] += 1"
   ]
  },
  {
   "cell_type": "code",
   "execution_count": 16,
   "id": "2dd945d3-419b-4063-8418-4879385dd36e",
   "metadata": {},
   "outputs": [],
   "source": [
    "read_counts_cum = np.cumsum(read_counts[:, ::-1], axis=1)[:, ::-1]"
   ]
  },
  {
   "cell_type": "code",
   "execution_count": 17,
   "id": "a8970e0c-862c-4459-b45e-6244df7b01c9",
   "metadata": {},
   "outputs": [],
   "source": [
    "in_fastq = [np.flatnonzero(read_counts_cum[:, i]) for i in range(4)]"
   ]
  },
  {
   "cell_type": "markdown",
   "id": "bed02faf-2028-4dfe-9cc8-437c609f31b9",
   "metadata": {},
   "source": [
    "## Assembly counts"
   ]
  },
  {
   "cell_type": "code",
   "execution_count": 18,
   "id": "060d15d9-00e2-4eb4-85a2-5f17f760b20a",
   "metadata": {},
   "outputs": [],
   "source": [
    "assembly_counts = np.zeros(kspec.nkmers, dtype=np.int16)"
   ]
  },
  {
   "cell_type": "code",
   "execution_count": 19,
   "id": "2328f303-6b28-480e-bf94-1b1f722b828a",
   "metadata": {},
   "outputs": [
    {
     "data": {
      "text/plain": [
       "4652"
      ]
     },
     "execution_count": 19,
     "metadata": {},
     "output_type": "execute_result"
    }
   ],
   "source": [
    "fasta_ncontigs = 0\n",
    "\n",
    "for record in fasta_file.parse():\n",
    "    fasta_ncontigs += 1\n",
    "\n",
    "    for match in find_kmers(kspec, record.seq):\n",
    "        assembly_counts[match.kmer_index()] += 1\n",
    "\n",
    "fasta_ncontigs"
   ]
  },
  {
   "cell_type": "code",
   "execution_count": 20,
   "id": "faec11ef-3b2d-4b44-8d20-3a8a2427fd12",
   "metadata": {},
   "outputs": [
    {
     "data": {
      "text/plain": [
       "7001"
      ]
     },
     "execution_count": 20,
     "metadata": {},
     "output_type": "execute_result"
    }
   ],
   "source": [
    "np.count_nonzero(assembly_counts)"
   ]
  },
  {
   "cell_type": "code",
   "execution_count": 21,
   "id": "df9ee5b0-aa39-44f9-9217-7035a2c710f9",
   "metadata": {},
   "outputs": [],
   "source": [
    "in_fasta = np.flatnonzero(assembly_counts)\n",
    "fastq_in_fasta = [np.in1d(in_fastq[i], in_fasta) for i in range(4)]"
   ]
  },
  {
   "cell_type": "markdown",
   "id": "5e619048-735c-4d01-8615-0ef582224746",
   "metadata": {},
   "source": [
    "## Plots"
   ]
  },
  {
   "cell_type": "code",
   "execution_count": 22,
   "id": "0798471a-caa0-4c73-9847-436e2130a84c",
   "metadata": {},
   "outputs": [
    {
     "data": {
      "text/plain": [
       "Text(0.5, 0.98, 'Kmer counts in assembly')"
      ]
     },
     "execution_count": 22,
     "metadata": {},
     "output_type": "execute_result"
    },
    {
     "data": {
      "image/png": "[encoded data removed]",
      "text/plain": [
       "<Figure size 576x432 with 1 Axes>"
      ]
     },
     "metadata": {
      "needs_background": "light"
     },
     "output_type": "display_data"
    }
   ],
   "source": [
    "plt.hist(assembly_counts[assembly_counts > 0], bins=10, log=True)\n",
    "plt.suptitle(\"Kmer counts in assembly\")"
   ]
  },
  {
   "cell_type": "code",
   "execution_count": 23,
   "id": "0ff00312-b23f-455b-9516-57b74b3438b2",
   "metadata": {},
   "outputs": [
    {
     "data": {
      "image/png": "[encoded data removed]",
      "text/plain": [
       "<Figure size 1152x720 with 8 Axes>"
      ]
     },
     "metadata": {
      "needs_background": "light"
     },
     "output_type": "display_data"
    }
   ],
   "source": [
    "fig, axs = plt.subplots(4, 2, sharex='col', sharey=True, figsize=(16, 10))\n",
    "pal = sns.color_palette(n_colors=len(phred_thresholds))\n",
    "\n",
    "bins1 = np.arange(1, 10)\n",
    "bins2 = 10 ** np.linspace(1, 3, 20)\n",
    "\n",
    "for (i, t) in enumerate(phred_thresholds):\n",
    "    ax1, ax2 = axs[i, :]\n",
    "\n",
    "    vals = read_counts_cum[:, i]\n",
    "    myhist(ax1, vals, pal[i], bins=bins1)\n",
    "    myhist(ax2, vals, pal[i], bins=bins2)\n",
    "\n",
    "    ax1.set_ylabel(f\"Score ≥ {t}\")\n",
    "\n",
    "    cnt = np.count_nonzero(read_counts_cum[:, i])\n",
    "    ax2.text(.98, .95, f\"{cnt} found\",\n",
    "        transform=ax2.transAxes, va='top', ha='right')\n",
    "\n",
    "axs[3, 1].set_xscale('log')\n",
    "axs[3, 0].set_xlabel(\"Kmer count\")\n",
    "axs[3, 1].set_xlabel(\"Kmer count\")\n",
    "plt.suptitle(f\"Kmer counts in raw reads: {filename}\")\n",
    "plt.tight_layout(pad=3, w_pad=.5, h_pad=1)"
   ]
  },
  {
   "cell_type": "code",
   "execution_count": 24,
   "id": "c1cd7488-65ee-4d6e-9157-c41ca756da47",
   "metadata": {},
   "outputs": [
    {
     "data": {
      "text/plain": [
       "Text(0.5, 0.98, 'Kmer counts in raw reads: 19AC0011209PEA_S8_L001_R1_001')"
      ]
     },
     "execution_count": 24,
     "metadata": {},
     "output_type": "execute_result"
    },
    {
     "data": {
      "image/png": "[encoded data removed]",
      "text/plain": [
       "<Figure size 1152x720 with 8 Axes>"
      ]
     },
     "metadata": {
      "needs_background": "light"
     },
     "output_type": "display_data"
    }
   ],
   "source": [
    "fig, axs = plt.subplots(len(phred_thresholds), 2, sharex='col', sharey=True, figsize=(16, 10))\n",
    "\n",
    "max_read = np.max(read_counts_cum)\n",
    "nbins = 25\n",
    "bins1 = np.arange(1, 10)\n",
    "bins2 = 10 ** np.linspace(1, np.log10(max_read+1), nbins+1)\n",
    "\n",
    "pal = sns.color_palette(n_colors=2)\n",
    "alpha = 0.25\n",
    "\n",
    "for i, thresh in enumerate(phred_thresholds):\n",
    "    ax1, ax2 = axs[i, :]\n",
    "    read_counts2 = read_counts_cum[in_fastq[i], i]\n",
    "    max_read = np.max(read_counts2)\n",
    "\n",
    "    ax2.set_xscale('log')\n",
    "    ax1.set_ylabel(f\"Score ≥ {thresh}\")\n",
    "\n",
    "    for (ax, bins) in zip([ax1, ax2], [bins1, bins2]):\n",
    "        h1 = myhist(ax, \n",
    "            read_counts2[fastq_in_fasta[i]],\n",
    "            pal[0],\n",
    "            bins=bins)\n",
    "        h2 = myhist(ax, \n",
    "            read_counts2[~fastq_in_fasta[i]],\n",
    "            pal[1],\n",
    "            bins=bins)\n",
    "    \n",
    "    ax2.legend([h1[0][2][0], h2[0][2][0]], [\"In assembly\", \"Not in assembly\"])\n",
    "\n",
    "axs[3, 0].set_xlabel(\"Kmer count\")\n",
    "axs[3, 1].set_xlabel(\"Kmer count\")\n",
    "\n",
    "fig.tight_layout(pad=3, w_pad=.5, h_pad=1)\n",
    "plt.suptitle(f\"Kmer counts in raw reads: {filename}\")"
   ]
  },
  {
   "cell_type": "markdown",
   "id": "a976b4ff-1ed0-4dc8-a8af-254dd090ed45",
   "metadata": {},
   "source": [
    "## Accuracy"
   ]
  },
  {
   "cell_type": "code",
   "execution_count": 25,
   "id": "b7a4ab20-8079-4a52-a229-d956218f104d",
   "metadata": {},
   "outputs": [],
   "source": [
    "count_thresholds = [*range(1, 6), 10]"
   ]
  },
  {
   "cell_type": "code",
   "execution_count": 26,
   "id": "17f71c12-84a2-45fa-92a1-9bfebbf99946",
   "metadata": {},
   "outputs": [],
   "source": [
    "rows = []\n",
    "\n",
    "for (i, score_thresh) in enumerate(phred_thresholds):\n",
    "    _fastq_counts = read_counts_cum[in_fastq[i], i]\n",
    "    for count_thresh in count_thresholds:\n",
    "        \n",
    "        _fastq_over = _fastq_counts >= count_thresh\n",
    "        _c_fastq_fasta = np.sum(_fastq_over[fastq_in_fasta[i]])\n",
    "        _c_fastq_only = np.sum(_fastq_over[~fastq_in_fasta[i]])\n",
    "        _c_fasta_only = len(in_fasta) - _c_fastq_fasta\n",
    "        _c_none = kspec.nkmers - _c_fastq_fasta - _c_fastq_only - _c_fasta_only\n",
    "        \n",
    "        rows.append((score_thresh, count_thresh, True, True, _c_fastq_fasta))\n",
    "        rows.append((score_thresh, count_thresh, True, False, _c_fastq_only))\n",
    "        rows.append((score_thresh, count_thresh, False, True, _c_fasta_only))\n",
    "        rows.append((score_thresh, count_thresh, False, False, _c_none))\n",
    "\n",
    "cols = ['score_threshold', 'count_threshold', 'in_reads', 'in_assembly', 'count']\n",
    "counts_df = pd.DataFrame.from_records(rows, columns=cols).set_index(cols[:-1])\n",
    "counts_df.sort_index(inplace=True)"
   ]
  },
  {
   "cell_type": "code",
   "execution_count": 27,
   "id": "e0df524e-8697-4736-ab38-fc9ad27ae3dc",
   "metadata": {},
   "outputs": [],
   "source": [
    "assert all(counts_df.groupby(['score_threshold', 'count_threshold'])['count'].sum() == kspec.nkmers)"
   ]
  },
  {
   "cell_type": "code",
   "execution_count": 28,
   "id": "46fc2d17-3b4b-47aa-9d85-b527f51df712",
   "metadata": {},
   "outputs": [
    {
     "data": {
      "text/html": [
       "<div>\n",
       "<style scoped>\n",
       "    .dataframe tbody tr th:only-of-type {\n",
       "        vertical-align: middle;\n",
       "    }\n",
       "\n",
       "    .dataframe tbody tr th {\n",
       "        vertical-align: top;\n",
       "    }\n",
       "\n",
       "    .dataframe thead th {\n",
       "        text-align: right;\n",
       "    }\n",
       "</style>\n",
       "<table border=\"1\" class=\"dataframe\">\n",
       "  <thead>\n",
       "    <tr style=\"text-align: right;\">\n",
       "      <th></th>\n",
       "      <th></th>\n",
       "      <th></th>\n",
       "      <th></th>\n",
       "      <th>count</th>\n",
       "    </tr>\n",
       "    <tr>\n",
       "      <th>score_threshold</th>\n",
       "      <th>count_threshold</th>\n",
       "      <th>in_reads</th>\n",
       "      <th>in_assembly</th>\n",
       "      <th></th>\n",
       "    </tr>\n",
       "  </thead>\n",
       "  <tbody>\n",
       "    <tr>\n",
       "      <th rowspan=\"5\" valign=\"top\">10</th>\n",
       "      <th rowspan=\"4\" valign=\"top\">1</th>\n",
       "      <th rowspan=\"2\" valign=\"top\">False</th>\n",
       "      <th>False</th>\n",
       "      <td>4178743</td>\n",
       "    </tr>\n",
       "    <tr>\n",
       "      <th>True</th>\n",
       "      <td>40</td>\n",
       "    </tr>\n",
       "    <tr>\n",
       "      <th rowspan=\"2\" valign=\"top\">True</th>\n",
       "      <th>False</th>\n",
       "      <td>8560</td>\n",
       "    </tr>\n",
       "    <tr>\n",
       "      <th>True</th>\n",
       "      <td>6961</td>\n",
       "    </tr>\n",
       "    <tr>\n",
       "      <th>2</th>\n",
       "      <th>False</th>\n",
       "      <th>False</th>\n",
       "      <td>4184979</td>\n",
       "    </tr>\n",
       "    <tr>\n",
       "      <th>...</th>\n",
       "      <th>...</th>\n",
       "      <th>...</th>\n",
       "      <th>...</th>\n",
       "      <td>...</td>\n",
       "    </tr>\n",
       "    <tr>\n",
       "      <th rowspan=\"5\" valign=\"top\">25</th>\n",
       "      <th>5</th>\n",
       "      <th>True</th>\n",
       "      <th>True</th>\n",
       "      <td>5156</td>\n",
       "    </tr>\n",
       "    <tr>\n",
       "      <th rowspan=\"4\" valign=\"top\">10</th>\n",
       "      <th rowspan=\"2\" valign=\"top\">False</th>\n",
       "      <th>False</th>\n",
       "      <td>4187272</td>\n",
       "    </tr>\n",
       "    <tr>\n",
       "      <th>True</th>\n",
       "      <td>2058</td>\n",
       "    </tr>\n",
       "    <tr>\n",
       "      <th rowspan=\"2\" valign=\"top\">True</th>\n",
       "      <th>False</th>\n",
       "      <td>31</td>\n",
       "    </tr>\n",
       "    <tr>\n",
       "      <th>True</th>\n",
       "      <td>4943</td>\n",
       "    </tr>\n",
       "  </tbody>\n",
       "</table>\n",
       "<p>96 rows × 1 columns</p>\n",
       "</div>"
      ],
      "text/plain": [
       "                                                        count\n",
       "score_threshold count_threshold in_reads in_assembly         \n",
       "10              1               False    False        4178743\n",
       "                                         True              40\n",
       "                                True     False           8560\n",
       "                                         True            6961\n",
       "                2               False    False        4184979\n",
       "...                                                       ...\n",
       "25              5               True     True            5156\n",
       "                10              False    False        4187272\n",
       "                                         True            2058\n",
       "                                True     False             31\n",
       "                                         True            4943\n",
       "\n",
       "[96 rows x 1 columns]"
      ]
     },
     "execution_count": 28,
     "metadata": {},
     "output_type": "execute_result"
    }
   ],
   "source": [
    "counts_df"
   ]
  },
  {
   "cell_type": "code",
   "execution_count": 29,
   "id": "bcaa426a-4ce9-4326-ae0e-c613b2eb4c4d",
   "metadata": {},
   "outputs": [],
   "source": [
    "rows = []\n",
    "kmer_in_assembly = assembly_counts >= 1\n",
    "\n",
    "for (i, score_thresh) in enumerate(phred_thresholds):\n",
    "    for count_thresh in count_thresholds:\n",
    "        kmer_in_read = read_counts[:, i] >= count_thresh\n",
    "        for in_read in [False, True]:\n",
    "            for in_assembly in [False, True]:\n",
    "                c = np.sum((kmer_in_read == in_read) & (kmer_in_assembly == in_assembly))\n",
    "                rows.append((score_thresh, count_thresh, in_read, in_assembly, c))\n",
    "\n",
    "cols = ['score_threshold', 'count_threshold', 'in_reads', 'in_assembly', 'count']\n",
    "counts_df2 = pd.DataFrame.from_records(rows, columns=cols).set_index(cols[:-1])\n",
    "counts_df2.sort_index(inplace=True)"
   ]
  },
  {
   "cell_type": "code",
   "execution_count": 30,
   "id": "b68ccd03-fc51-4dd1-8c9e-cec449120050",
   "metadata": {},
   "outputs": [],
   "source": [
    "assert all(counts_df2.groupby(['score_threshold', 'count_threshold'])['count'].sum() == kspec.nkmers)"
   ]
  },
  {
   "cell_type": "code",
   "execution_count": 31,
   "id": "e85fc45d-843d-4426-8a7a-fc8e384ef292",
   "metadata": {},
   "outputs": [],
   "source": [
    "rows = []\n",
    "keys = []\n",
    "\n",
    "for key, g in counts_df.groupby(['score_threshold', 'count_threshold']):\n",
    "    g = g['count'].reset_index(['score_threshold', 'count_threshold'], drop=True)\n",
    "    tp = g.loc[True, True]\n",
    "    fp = g.loc[True, False]\n",
    "    fn = g.loc[False, True]\n",
    "    rows.append([tp / (tp + fp), tp / (tp + fn), 1 - tp / (tp + fn + fp)])\n",
    "    keys.append(key)\n",
    "    \n",
    "pr_df = pd.DataFrame.from_records(\n",
    "    rows,\n",
    "    columns=['precision', 'recall', 'jaccard'],\n",
    "    index=pd.MultiIndex.from_tuples(keys, names=['score_threshold', 'count_threshold']),\n",
    ")"
   ]
  },
  {
   "cell_type": "code",
   "execution_count": 32,
   "id": "775e32ee-73b7-4b53-bc53-564982725212",
   "metadata": {},
   "outputs": [
    {
     "data": {
      "text/html": [
       "<div>\n",
       "<style scoped>\n",
       "    .dataframe tbody tr th:only-of-type {\n",
       "        vertical-align: middle;\n",
       "    }\n",
       "\n",
       "    .dataframe tbody tr th {\n",
       "        vertical-align: top;\n",
       "    }\n",
       "\n",
       "    .dataframe thead th {\n",
       "        text-align: right;\n",
       "    }\n",
       "</style>\n",
       "<table border=\"1\" class=\"dataframe\">\n",
       "  <thead>\n",
       "    <tr style=\"text-align: right;\">\n",
       "      <th></th>\n",
       "      <th></th>\n",
       "      <th>precision</th>\n",
       "      <th>recall</th>\n",
       "      <th>jaccard</th>\n",
       "    </tr>\n",
       "    <tr>\n",
       "      <th>score_threshold</th>\n",
       "      <th>count_threshold</th>\n",
       "      <th></th>\n",
       "      <th></th>\n",
       "      <th></th>\n",
       "    </tr>\n",
       "  </thead>\n",
       "  <tbody>\n",
       "    <tr>\n",
       "      <th rowspan=\"6\" valign=\"top\">10</th>\n",
       "      <th>1</th>\n",
       "      <td>0.448489</td>\n",
       "      <td>0.994287</td>\n",
       "      <td>0.552664</td>\n",
       "    </tr>\n",
       "    <tr>\n",
       "      <th>2</th>\n",
       "      <td>0.748675</td>\n",
       "      <td>0.988859</td>\n",
       "      <td>0.257587</td>\n",
       "    </tr>\n",
       "    <tr>\n",
       "      <th>3</th>\n",
       "      <td>0.882745</td>\n",
       "      <td>0.928010</td>\n",
       "      <td>0.173830</td>\n",
       "    </tr>\n",
       "    <tr>\n",
       "      <th>4</th>\n",
       "      <td>0.951145</td>\n",
       "      <td>0.848165</td>\n",
       "      <td>0.187243</td>\n",
       "    </tr>\n",
       "    <tr>\n",
       "      <th>5</th>\n",
       "      <td>0.978238</td>\n",
       "      <td>0.789744</td>\n",
       "      <td>0.223891</td>\n",
       "    </tr>\n",
       "    <tr>\n",
       "      <th>10</th>\n",
       "      <td>0.993439</td>\n",
       "      <td>0.713755</td>\n",
       "      <td>0.289593</td>\n",
       "    </tr>\n",
       "    <tr>\n",
       "      <th rowspan=\"6\" valign=\"top\">15</th>\n",
       "      <th>1</th>\n",
       "      <td>0.497712</td>\n",
       "      <td>0.994144</td>\n",
       "      <td>0.503743</td>\n",
       "    </tr>\n",
       "    <tr>\n",
       "      <th>2</th>\n",
       "      <td>0.757969</td>\n",
       "      <td>0.985002</td>\n",
       "      <td>0.250679</td>\n",
       "    </tr>\n",
       "    <tr>\n",
       "      <th>3</th>\n",
       "      <td>0.889823</td>\n",
       "      <td>0.921725</td>\n",
       "      <td>0.172692</td>\n",
       "    </tr>\n",
       "    <tr>\n",
       "      <th>4</th>\n",
       "      <td>0.953191</td>\n",
       "      <td>0.840594</td>\n",
       "      <td>0.192730</td>\n",
       "    </tr>\n",
       "    <tr>\n",
       "      <th>5</th>\n",
       "      <td>0.980189</td>\n",
       "      <td>0.784459</td>\n",
       "      <td>0.227784</td>\n",
       "    </tr>\n",
       "    <tr>\n",
       "      <th>10</th>\n",
       "      <td>0.993434</td>\n",
       "      <td>0.713184</td>\n",
       "      <td>0.290162</td>\n",
       "    </tr>\n",
       "    <tr>\n",
       "      <th rowspan=\"6\" valign=\"top\">20</th>\n",
       "      <th>1</th>\n",
       "      <td>0.517820</td>\n",
       "      <td>0.992001</td>\n",
       "      <td>0.484333</td>\n",
       "    </tr>\n",
       "    <tr>\n",
       "      <th>2</th>\n",
       "      <td>0.775269</td>\n",
       "      <td>0.976146</td>\n",
       "      <td>0.239145</td>\n",
       "    </tr>\n",
       "    <tr>\n",
       "      <th>3</th>\n",
       "      <td>0.903499</td>\n",
       "      <td>0.900014</td>\n",
       "      <td>0.178916</td>\n",
       "    </tr>\n",
       "    <tr>\n",
       "      <th>4</th>\n",
       "      <td>0.961871</td>\n",
       "      <td>0.825168</td>\n",
       "      <td>0.200968</td>\n",
       "    </tr>\n",
       "    <tr>\n",
       "      <th>5</th>\n",
       "      <td>0.983786</td>\n",
       "      <td>0.771318</td>\n",
       "      <td>0.238364</td>\n",
       "    </tr>\n",
       "    <tr>\n",
       "      <th>10</th>\n",
       "      <td>0.993432</td>\n",
       "      <td>0.712898</td>\n",
       "      <td>0.290446</td>\n",
       "    </tr>\n",
       "    <tr>\n",
       "      <th rowspan=\"6\" valign=\"top\">25</th>\n",
       "      <th>1</th>\n",
       "      <td>0.580711</td>\n",
       "      <td>0.980431</td>\n",
       "      <td>0.425943</td>\n",
       "    </tr>\n",
       "    <tr>\n",
       "      <th>2</th>\n",
       "      <td>0.836345</td>\n",
       "      <td>0.925582</td>\n",
       "      <td>0.216350</td>\n",
       "    </tr>\n",
       "    <tr>\n",
       "      <th>3</th>\n",
       "      <td>0.942687</td>\n",
       "      <td>0.838737</td>\n",
       "      <td>0.201957</td>\n",
       "    </tr>\n",
       "    <tr>\n",
       "      <th>4</th>\n",
       "      <td>0.980478</td>\n",
       "      <td>0.767605</td>\n",
       "      <td>0.243950</td>\n",
       "    </tr>\n",
       "    <tr>\n",
       "      <th>5</th>\n",
       "      <td>0.989825</td>\n",
       "      <td>0.736466</td>\n",
       "      <td>0.269067</td>\n",
       "    </tr>\n",
       "    <tr>\n",
       "      <th>10</th>\n",
       "      <td>0.993768</td>\n",
       "      <td>0.706042</td>\n",
       "      <td>0.297071</td>\n",
       "    </tr>\n",
       "  </tbody>\n",
       "</table>\n",
       "</div>"
      ],
      "text/plain": [
       "                                 precision    recall   jaccard\n",
       "score_threshold count_threshold                               \n",
       "10              1                 0.448489  0.994287  0.552664\n",
       "                2                 0.748675  0.988859  0.257587\n",
       "                3                 0.882745  0.928010  0.173830\n",
       "                4                 0.951145  0.848165  0.187243\n",
       "                5                 0.978238  0.789744  0.223891\n",
       "                10                0.993439  0.713755  0.289593\n",
       "15              1                 0.497712  0.994144  0.503743\n",
       "                2                 0.757969  0.985002  0.250679\n",
       "                3                 0.889823  0.921725  0.172692\n",
       "                4                 0.953191  0.840594  0.192730\n",
       "                5                 0.980189  0.784459  0.227784\n",
       "                10                0.993434  0.713184  0.290162\n",
       "20              1                 0.517820  0.992001  0.484333\n",
       "                2                 0.775269  0.976146  0.239145\n",
       "                3                 0.903499  0.900014  0.178916\n",
       "                4                 0.961871  0.825168  0.200968\n",
       "                5                 0.983786  0.771318  0.238364\n",
       "                10                0.993432  0.712898  0.290446\n",
       "25              1                 0.580711  0.980431  0.425943\n",
       "                2                 0.836345  0.925582  0.216350\n",
       "                3                 0.942687  0.838737  0.201957\n",
       "                4                 0.980478  0.767605  0.243950\n",
       "                5                 0.989825  0.736466  0.269067\n",
       "                10                0.993768  0.706042  0.297071"
      ]
     },
     "execution_count": 32,
     "metadata": {},
     "output_type": "execute_result"
    }
   ],
   "source": [
    "pr_df"
   ]
  },
  {
   "cell_type": "code",
   "execution_count": 33,
   "id": "ca383dc8-c5b8-49f3-9f6f-377ea312f73a",
   "metadata": {},
   "outputs": [
    {
     "data": {
      "text/plain": [
       "precision    0.889823\n",
       "recall       0.921725\n",
       "jaccard      0.172692\n",
       "Name: (15, 3), dtype: float64"
      ]
     },
     "execution_count": 33,
     "metadata": {},
     "output_type": "execute_result"
    }
   ],
   "source": [
    "pr_df.iloc[np.argmin(pr_df['jaccard'])]"
   ]
  }
 ],
 "metadata": {
  "kernelspec": {
   "display_name": "Gambit Publication",
   "language": "python",
   "name": "gambit-pub"
  },
  "language_info": {
   "codemirror_mode": {
    "name": "ipython",
    "version": 3
   },
   "file_extension": ".py",
   "mimetype": "text/x-python",
   "name": "python",
   "nbconvert_exporter": "python",
   "pygments_lexer": "ipython3",
   "version": "3.9.12"
  }
 },
 "nbformat": 4,
 "nbformat_minor": 5
}
