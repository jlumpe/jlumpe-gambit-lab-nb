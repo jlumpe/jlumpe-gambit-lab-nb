{
 "cells": [
  {
   "cell_type": "markdown",
   "id": "02e475c1-6b94-4ae9-85c9-5cc5d270f546",
   "metadata": {},
   "source": [
    "# Recreation of \"200811 Fastq kmer counts basic comparison\""
   ]
  },
  {
   "cell_type": "code",
   "execution_count": 2,
   "id": "360e4bc2-707a-4057-9925-ffa18af7ff06",
   "metadata": {},
   "outputs": [],
   "source": [
    "from pathlib import Path"
   ]
  },
  {
   "cell_type": "code",
   "execution_count": 3,
   "id": "b69793ad-8692-4c3b-8e21-22cfddbd16a9",
   "metadata": {},
   "outputs": [],
   "source": [
    "import numpy as np\n",
    "import pandas as pd\n",
    "import h5py as h5\n",
    "from tqdm import tqdm\n",
    "import matplotlib.pyplot as plt\n",
    "import seaborn as sns"
   ]
  },
  {
   "cell_type": "code",
   "execution_count": 4,
   "id": "bb4c2aaf-9d37-4cd3-829c-4bb27441e6ce",
   "metadata": {},
   "outputs": [],
   "source": [
    "%matplotlib inline"
   ]
  },
  {
   "cell_type": "code",
   "execution_count": 5,
   "id": "a0db7c99-f0c9-42e7-8ec7-12df0d35eccf",
   "metadata": {},
   "outputs": [],
   "source": [
    "from gambit.seq import SequenceFile\n",
    "from gambit.kmers import KmerSpec, find_kmers\n",
    "from gambit.sigs import load_signatures\n",
    "from gambit_pub.fastq import get_phred, phredsum"
   ]
  },
  {
   "cell_type": "markdown",
   "id": "f805d692-3590-4739-b8b5-2591a4e74f72",
   "metadata": {},
   "source": [
    "## Code"
   ]
  },
  {
   "cell_type": "code",
   "execution_count": 6,
   "id": "7619a0d8-ba96-4ae0-819e-60126420b773",
   "metadata": {},
   "outputs": [],
   "source": [
    "# Histogram with transparency fill\n",
    "def myhist(ax, x, color, alpha=.25, lw=2, **kw):\n",
    "    h1 = ax.hist(x, fc=color, alpha=alpha, **kw)\n",
    "    h2 = ax.hist(x, histtype='step', ec=color, lw=lw, **kw)\n",
    "    return (h1, h2)"
   ]
  },
  {
   "cell_type": "markdown",
   "id": "0ef191f8-cc78-4949-95ac-be49a0230d1a",
   "metadata": {},
   "source": [
    "## Setup"
   ]
  },
  {
   "cell_type": "markdown",
   "id": "3774c45b-7edb-442c-9f98-e52021697f92",
   "metadata": {},
   "source": [
    "### Parameters"
   ]
  },
  {
   "cell_type": "code",
   "execution_count": 7,
   "id": "7a9fe615-943f-4001-b24c-5a7b669e33af",
   "metadata": {},
   "outputs": [],
   "source": [
    "kspec = KmerSpec(11, 'ATGAC')"
   ]
  },
  {
   "cell_type": "code",
   "execution_count": 8,
   "id": "59fff934-01b1-4e5c-9021-c9e731bb9c23",
   "metadata": {},
   "outputs": [],
   "source": [
    "phred_thresholds = [10, 15, 20, 25]"
   ]
  },
  {
   "cell_type": "markdown",
   "id": "f2a28811-b7bb-4300-af3a-f305466a178b",
   "metadata": {},
   "source": [
    "### Input files"
   ]
  },
  {
   "cell_type": "code",
   "execution_count": 9,
   "id": "bd593a36-fe3a-4b9c-a091-a73687555d65",
   "metadata": {},
   "outputs": [],
   "source": [
    "wf_path = Path('/home/jared/code/gambit/gambit-publication/')"
   ]
  },
  {
   "cell_type": "code",
   "execution_count": 10,
   "id": "7e4aae05-ef64-4afc-a4ce-f3e155ea2f75",
   "metadata": {},
   "outputs": [],
   "source": [
    "filename = '16AC1611139-CAP_S14_L001_R1_001'"
   ]
  },
  {
   "cell_type": "code",
   "execution_count": 11,
   "id": "836b7877-324c-44c5-a89f-aa50e36cf785",
   "metadata": {},
   "outputs": [],
   "source": [
    "fastq_path = wf_path / f'resources/genomes/set3/fastq/{filename}.fastq.gz'\n",
    "fastq_file = SequenceFile(fastq_path, 'fastq', 'gzip')\n",
    "\n",
    "fasta_path = wf_path / f'resources/genomes/set3/fasta/{filename}.fasta'\n",
    "fasta_file = SequenceFile(fasta_path, 'fasta', None)\n",
    "\n",
    "sigs_path = wf_path / f'intermediate-data/signatures/set3-{kspec.k}-{kspec.prefix_str}.h5'"
   ]
  },
  {
   "cell_type": "markdown",
   "id": "3abb20eb-ab13-410f-9033-f701a0bd4e18",
   "metadata": {},
   "source": [
    "### Signature"
   ]
  },
  {
   "cell_type": "code",
   "execution_count": 12,
   "id": "a2a5e0bd-6b50-4217-bf6e-565a0dbd0da1",
   "metadata": {},
   "outputs": [],
   "source": [
    "sigs = load_signatures(sigs_path)"
   ]
  },
  {
   "cell_type": "code",
   "execution_count": 13,
   "id": "b240034a-a632-47e0-9d43-e7512d59070d",
   "metadata": {},
   "outputs": [],
   "source": [
    "(sig_idx,) = np.flatnonzero(sigs.ids == (filename + '.fasta'))"
   ]
  },
  {
   "cell_type": "code",
   "execution_count": 14,
   "id": "b5184cb4-5e03-4574-9d6d-fe1a861406eb",
   "metadata": {},
   "outputs": [],
   "source": [
    "sig = sigs[sig_idx]"
   ]
  },
  {
   "cell_type": "markdown",
   "id": "7aac8d60-9a7a-4ff4-888d-00acf62f751b",
   "metadata": {
    "tags": []
   },
   "source": [
    "## Raw read counts"
   ]
  },
  {
   "cell_type": "code",
   "execution_count": 15,
   "id": "df259ba6-0143-4a9c-940f-2f528370f46c",
   "metadata": {},
   "outputs": [
    {
     "name": "stderr",
     "output_type": "stream",
     "text": [
      "1054659it [00:43, 24246.86it/s]\n"
     ]
    }
   ],
   "source": [
    "read_counts = np.zeros((kspec.nkmers, len(phred_thresholds)), dtype=np.int16)\n",
    "n_invalid = 0\n",
    "\n",
    "for record in tqdm(fastq_file.parse()):\n",
    "    phred = get_phred(record)\n",
    "    \n",
    "    for match in find_kmers(kspec, record.seq):\n",
    "        try:\n",
    "            idx = match.kmer_index()\n",
    "        except ValueError:\n",
    "            n_invalid += 1\n",
    "            continue\n",
    "            \n",
    "        phred_agg = phredsum(phred[match.full_indices()])\n",
    "        phred_bin = np.searchsorted(phred_thresholds, phred_agg, 'right') - 1\n",
    "        if phred_bin >= 0:\n",
    "            read_counts[idx, phred_bin] += 1"
   ]
  },
  {
   "cell_type": "code",
   "execution_count": 16,
   "id": "2dd945d3-419b-4063-8418-4879385dd36e",
   "metadata": {},
   "outputs": [],
   "source": [
    "read_counts_cum = np.cumsum(read_counts[:, ::-1], axis=1)[:, ::-1]"
   ]
  },
  {
   "cell_type": "code",
   "execution_count": 17,
   "id": "a8970e0c-862c-4459-b45e-6244df7b01c9",
   "metadata": {},
   "outputs": [],
   "source": [
    "in_fastq = [np.flatnonzero(read_counts_cum[:, i]) for i in range(4)]"
   ]
  },
  {
   "cell_type": "markdown",
   "id": "bed02faf-2028-4dfe-9cc8-437c609f31b9",
   "metadata": {},
   "source": [
    "## Assembly counts"
   ]
  },
  {
   "cell_type": "code",
   "execution_count": 18,
   "id": "060d15d9-00e2-4eb4-85a2-5f17f760b20a",
   "metadata": {},
   "outputs": [],
   "source": [
    "assembly_counts = np.zeros(kspec.nkmers, dtype=np.int16)"
   ]
  },
  {
   "cell_type": "code",
   "execution_count": 19,
   "id": "2328f303-6b28-480e-bf94-1b1f722b828a",
   "metadata": {},
   "outputs": [
    {
     "data": {
      "text/plain": [
       "440"
      ]
     },
     "execution_count": 19,
     "metadata": {},
     "output_type": "execute_result"
    }
   ],
   "source": [
    "fasta_ncontigs = 0\n",
    "\n",
    "for record in fasta_file.parse():\n",
    "    fasta_ncontigs += 1\n",
    "\n",
    "    for match in find_kmers(kspec, record.seq):\n",
    "        assembly_counts[match.kmer_index()] += 1\n",
    "\n",
    "fasta_ncontigs"
   ]
  },
  {
   "cell_type": "code",
   "execution_count": 20,
   "id": "faec11ef-3b2d-4b44-8d20-3a8a2427fd12",
   "metadata": {},
   "outputs": [
    {
     "data": {
      "text/plain": [
       "7474"
      ]
     },
     "execution_count": 20,
     "metadata": {},
     "output_type": "execute_result"
    }
   ],
   "source": [
    "np.count_nonzero(assembly_counts)"
   ]
  },
  {
   "cell_type": "code",
   "execution_count": 21,
   "id": "df9ee5b0-aa39-44f9-9217-7035a2c710f9",
   "metadata": {},
   "outputs": [],
   "source": [
    "in_fasta = np.flatnonzero(assembly_counts)\n",
    "fastq_in_fasta = [np.in1d(in_fastq[i], in_fasta) for i in range(4)]"
   ]
  },
  {
   "cell_type": "markdown",
   "id": "5e619048-735c-4d01-8615-0ef582224746",
   "metadata": {},
   "source": [
    "## Plots"
   ]
  },
  {
   "cell_type": "code",
   "execution_count": 22,
   "id": "0798471a-caa0-4c73-9847-436e2130a84c",
   "metadata": {},
   "outputs": [
    {
     "data": {
      "text/plain": [
       "Text(0.5, 0.98, 'Kmer counts in assembly')"
      ]
     },
     "execution_count": 22,
     "metadata": {},
     "output_type": "execute_result"
    },
    {
     "data": {
      "image/png": "[encoded data removed]",
      "text/plain": [
       "<Figure size 576x432 with 1 Axes>"
      ]
     },
     "metadata": {
      "needs_background": "light"
     },
     "output_type": "display_data"
    }
   ],
   "source": [
    "plt.hist(assembly_counts[assembly_counts > 0], bins=10, log=True)\n",
    "plt.suptitle(\"Kmer counts in assembly\")"
   ]
  },
  {
   "cell_type": "code",
   "execution_count": 34,
   "id": "0ff00312-b23f-455b-9516-57b74b3438b2",
   "metadata": {},
   "outputs": [
    {
     "data": {
      "image/png": "[encoded data removed]",
      "text/plain": [
       "<Figure size 1152x720 with 8 Axes>"
      ]
     },
     "metadata": {
      "needs_background": "light"
     },
     "output_type": "display_data"
    }
   ],
   "source": [
    "fig, axs = plt.subplots(4, 2, sharex='col', sharey=True, figsize=(16, 10))\n",
    "pal = sns.color_palette(n_colors=len(phred_thresholds))\n",
    "\n",
    "bins1 = np.arange(1, 10)\n",
    "bins2 = 10 ** np.linspace(1, 3, 20)\n",
    "\n",
    "for (i, t) in enumerate(phred_thresholds):\n",
    "    ax1, ax2 = axs[i, :]\n",
    "\n",
    "    vals = read_counts_cum[:, i]\n",
    "    myhist(ax1, vals, pal[i], bins=bins1)\n",
    "    myhist(ax2, vals, pal[i], bins=bins2)\n",
    "\n",
    "    ax1.set_ylabel(f\"Score ≥ {t}\")\n",
    "\n",
    "    cnt = np.count_nonzero(read_counts_cum[:, i])\n",
    "    ax2.text(.98, .95, f\"{cnt} found\",\n",
    "        transform=ax2.transAxes, va='top', ha='right')\n",
    "\n",
    "axs[3, 1].set_xscale('log')\n",
    "axs[3, 0].set_xlabel(\"Kmer count\")\n",
    "axs[3, 1].set_xlabel(\"Kmer count\")\n",
    "plt.suptitle(f\"Kmer counts in raw reads: {filename}\")\n",
    "plt.tight_layout(pad=3, w_pad=.5, h_pad=1)"
   ]
  },
  {
   "cell_type": "code",
   "execution_count": 35,
   "id": "c1cd7488-65ee-4d6e-9157-c41ca756da47",
   "metadata": {},
   "outputs": [
    {
     "data": {
      "text/plain": [
       "Text(0.5, 0.98, 'Kmer counts in raw reads: 16AC1611139-CAP_S14_L001_R1_001')"
      ]
     },
     "execution_count": 35,
     "metadata": {},
     "output_type": "execute_result"
    },
    {
     "data": {
      "image/png": "[encoded data removed]",
      "text/plain": [
       "<Figure size 1152x720 with 8 Axes>"
      ]
     },
     "metadata": {
      "needs_background": "light"
     },
     "output_type": "display_data"
    }
   ],
   "source": [
    "fig, axs = plt.subplots(len(phred_thresholds), 2, sharex='col', sharey=True, figsize=(16, 10))\n",
    "\n",
    "max_read = np.max(read_counts_cum)\n",
    "nbins = 25\n",
    "bins1 = np.arange(1, 10)\n",
    "bins2 = 10 ** np.linspace(1, np.log10(max_read+1), nbins+1)\n",
    "\n",
    "pal = sns.color_palette(n_colors=2)\n",
    "alpha = 0.25\n",
    "\n",
    "for i, thresh in enumerate(phred_thresholds):\n",
    "    ax1, ax2 = axs[i, :]\n",
    "    read_counts2 = read_counts_cum[in_fastq[i], i]\n",
    "    max_read = np.max(read_counts2)\n",
    "\n",
    "    ax2.set_xscale('log')\n",
    "    ax1.set_ylabel(f\"Score ≥ {thresh}\")\n",
    "\n",
    "    for (ax, bins) in zip([ax1, ax2], [bins1, bins2]):\n",
    "        h1 = myhist(ax, \n",
    "            read_counts2[fastq_in_fasta[i]],\n",
    "            pal[0],\n",
    "            bins=bins)\n",
    "        h2 = myhist(ax, \n",
    "            read_counts2[~fastq_in_fasta[i]],\n",
    "            pal[1],\n",
    "            bins=bins)\n",
    "    \n",
    "    ax2.legend([h1[0][2][0], h2[0][2][0]], [\"In assembly\", \"Not in assembly\"])\n",
    "\n",
    "axs[3, 0].set_xlabel(\"Kmer count\")\n",
    "axs[3, 1].set_xlabel(\"Kmer count\")\n",
    "\n",
    "fig.tight_layout(pad=3, w_pad=.5, h_pad=1)\n",
    "plt.suptitle(f\"Kmer counts in raw reads: {filename}\")"
   ]
  },
  {
   "cell_type": "markdown",
   "id": "a976b4ff-1ed0-4dc8-a8af-254dd090ed45",
   "metadata": {},
   "source": [
    "## Accuracy"
   ]
  },
  {
   "cell_type": "code",
   "execution_count": 25,
   "id": "b7a4ab20-8079-4a52-a229-d956218f104d",
   "metadata": {},
   "outputs": [],
   "source": [
    "count_thresholds = [*range(1, 6), 10]"
   ]
  },
  {
   "cell_type": "code",
   "execution_count": 26,
   "id": "17f71c12-84a2-45fa-92a1-9bfebbf99946",
   "metadata": {},
   "outputs": [],
   "source": [
    "rows = []\n",
    "\n",
    "for (i, score_thresh) in enumerate(phred_thresholds):\n",
    "    _fastq_counts = read_counts_cum[in_fastq[i], i]\n",
    "    for count_thresh in count_thresholds:\n",
    "        \n",
    "        _fastq_over = _fastq_counts >= count_thresh\n",
    "        _c_fastq_fasta = np.sum(_fastq_over[fastq_in_fasta[i]])\n",
    "        _c_fastq_only = np.sum(_fastq_over[~fastq_in_fasta[i]])\n",
    "        _c_fasta_only = len(in_fasta) - _c_fastq_fasta\n",
    "        _c_none = kspec.nkmers - _c_fastq_fasta - _c_fastq_only - _c_fasta_only\n",
    "        \n",
    "        rows.append((score_thresh, count_thresh, True, True, _c_fastq_fasta))\n",
    "        rows.append((score_thresh, count_thresh, True, False, _c_fastq_only))\n",
    "        rows.append((score_thresh, count_thresh, False, True, _c_fasta_only))\n",
    "        rows.append((score_thresh, count_thresh, False, False, _c_none))\n",
    "\n",
    "cols = ['score_threshold', 'count_threshold', 'in_reads', 'in_assembly', 'count']\n",
    "counts_df = pd.DataFrame.from_records(rows, columns=cols).set_index(cols[:-1])\n",
    "counts_df.sort_index(inplace=True)"
   ]
  },
  {
   "cell_type": "code",
   "execution_count": 27,
   "id": "e0df524e-8697-4736-ab38-fc9ad27ae3dc",
   "metadata": {},
   "outputs": [],
   "source": [
    "assert all(counts_df.groupby(['score_threshold', 'count_threshold'])['count'].sum() == kspec.nkmers)"
   ]
  },
  {
   "cell_type": "code",
   "execution_count": 28,
   "id": "46fc2d17-3b4b-47aa-9d85-b527f51df712",
   "metadata": {},
   "outputs": [
    {
     "data": {
      "text/html": [
       "<div>\n",
       "<style scoped>\n",
       "    .dataframe tbody tr th:only-of-type {\n",
       "        vertical-align: middle;\n",
       "    }\n",
       "\n",
       "    .dataframe tbody tr th {\n",
       "        vertical-align: top;\n",
       "    }\n",
       "\n",
       "    .dataframe thead th {\n",
       "        text-align: right;\n",
       "    }\n",
       "</style>\n",
       "<table border=\"1\" class=\"dataframe\">\n",
       "  <thead>\n",
       "    <tr style=\"text-align: right;\">\n",
       "      <th></th>\n",
       "      <th></th>\n",
       "      <th></th>\n",
       "      <th></th>\n",
       "      <th>count</th>\n",
       "    </tr>\n",
       "    <tr>\n",
       "      <th>score_threshold</th>\n",
       "      <th>count_threshold</th>\n",
       "      <th>in_reads</th>\n",
       "      <th>in_assembly</th>\n",
       "      <th></th>\n",
       "    </tr>\n",
       "  </thead>\n",
       "  <tbody>\n",
       "    <tr>\n",
       "      <th rowspan=\"5\" valign=\"top\">10</th>\n",
       "      <th rowspan=\"4\" valign=\"top\">1</th>\n",
       "      <th rowspan=\"2\" valign=\"top\">False</th>\n",
       "      <th>False</th>\n",
       "      <td>4184979</td>\n",
       "    </tr>\n",
       "    <tr>\n",
       "      <th>True</th>\n",
       "      <td>0</td>\n",
       "    </tr>\n",
       "    <tr>\n",
       "      <th rowspan=\"2\" valign=\"top\">True</th>\n",
       "      <th>False</th>\n",
       "      <td>1851</td>\n",
       "    </tr>\n",
       "    <tr>\n",
       "      <th>True</th>\n",
       "      <td>7474</td>\n",
       "    </tr>\n",
       "    <tr>\n",
       "      <th>2</th>\n",
       "      <th>False</th>\n",
       "      <th>False</th>\n",
       "      <td>4186788</td>\n",
       "    </tr>\n",
       "    <tr>\n",
       "      <th>...</th>\n",
       "      <th>...</th>\n",
       "      <th>...</th>\n",
       "      <th>...</th>\n",
       "      <td>...</td>\n",
       "    </tr>\n",
       "    <tr>\n",
       "      <th rowspan=\"5\" valign=\"top\">25</th>\n",
       "      <th>5</th>\n",
       "      <th>True</th>\n",
       "      <th>True</th>\n",
       "      <td>7346</td>\n",
       "    </tr>\n",
       "    <tr>\n",
       "      <th rowspan=\"4\" valign=\"top\">10</th>\n",
       "      <th rowspan=\"2\" valign=\"top\">False</th>\n",
       "      <th>False</th>\n",
       "      <td>4186823</td>\n",
       "    </tr>\n",
       "    <tr>\n",
       "      <th>True</th>\n",
       "      <td>1056</td>\n",
       "    </tr>\n",
       "    <tr>\n",
       "      <th rowspan=\"2\" valign=\"top\">True</th>\n",
       "      <th>False</th>\n",
       "      <td>7</td>\n",
       "    </tr>\n",
       "    <tr>\n",
       "      <th>True</th>\n",
       "      <td>6418</td>\n",
       "    </tr>\n",
       "  </tbody>\n",
       "</table>\n",
       "<p>96 rows × 1 columns</p>\n",
       "</div>"
      ],
      "text/plain": [
       "                                                        count\n",
       "score_threshold count_threshold in_reads in_assembly         \n",
       "10              1               False    False        4184979\n",
       "                                         True               0\n",
       "                                True     False           1851\n",
       "                                         True            7474\n",
       "                2               False    False        4186788\n",
       "...                                                       ...\n",
       "25              5               True     True            7346\n",
       "                10              False    False        4186823\n",
       "                                         True            1056\n",
       "                                True     False              7\n",
       "                                         True            6418\n",
       "\n",
       "[96 rows x 1 columns]"
      ]
     },
     "execution_count": 28,
     "metadata": {},
     "output_type": "execute_result"
    }
   ],
   "source": [
    "counts_df"
   ]
  },
  {
   "cell_type": "code",
   "execution_count": 29,
   "id": "bcaa426a-4ce9-4326-ae0e-c613b2eb4c4d",
   "metadata": {},
   "outputs": [],
   "source": [
    "rows = []\n",
    "kmer_in_assembly = assembly_counts >= 1\n",
    "\n",
    "for (i, score_thresh) in enumerate(phred_thresholds):\n",
    "    for count_thresh in count_thresholds:\n",
    "        kmer_in_read = read_counts[:, i] >= count_thresh\n",
    "        for in_read in [False, True]:\n",
    "            for in_assembly in [False, True]:\n",
    "                c = np.sum((kmer_in_read == in_read) & (kmer_in_assembly == in_assembly))\n",
    "                rows.append((score_thresh, count_thresh, in_read, in_assembly, c))\n",
    "\n",
    "cols = ['score_threshold', 'count_threshold', 'in_reads', 'in_assembly', 'count']\n",
    "counts_df2 = pd.DataFrame.from_records(rows, columns=cols).set_index(cols[:-1])\n",
    "counts_df2.sort_index(inplace=True)"
   ]
  },
  {
   "cell_type": "code",
   "execution_count": 30,
   "id": "b68ccd03-fc51-4dd1-8c9e-cec449120050",
   "metadata": {},
   "outputs": [],
   "source": [
    "assert all(counts_df2.groupby(['score_threshold', 'count_threshold'])['count'].sum() == kspec.nkmers)"
   ]
  },
  {
   "cell_type": "code",
   "execution_count": 31,
   "id": "e85fc45d-843d-4426-8a7a-fc8e384ef292",
   "metadata": {},
   "outputs": [],
   "source": [
    "rows = []\n",
    "keys = []\n",
    "\n",
    "for key, g in counts_df.groupby(['score_threshold', 'count_threshold']):\n",
    "    g = g['count'].reset_index(['score_threshold', 'count_threshold'], drop=True)\n",
    "    tp = g.loc[True, True]\n",
    "    fp = g.loc[True, False]\n",
    "    fn = g.loc[False, True]\n",
    "    rows.append([tp / (tp + fp), tp / (tp + fn), 1 - tp / (tp + fn + fp)])\n",
    "    keys.append(key)\n",
    "    \n",
    "pr_df = pd.DataFrame.from_records(\n",
    "    rows,\n",
    "    columns=['precision', 'recall', 'jaccard'],\n",
    "    index=pd.MultiIndex.from_tuples(keys, names=['score_threshold', 'count_threshold']),\n",
    ")"
   ]
  },
  {
   "cell_type": "code",
   "execution_count": 32,
   "id": "775e32ee-73b7-4b53-bc53-564982725212",
   "metadata": {},
   "outputs": [
    {
     "data": {
      "text/html": [
       "<div>\n",
       "<style scoped>\n",
       "    .dataframe tbody tr th:only-of-type {\n",
       "        vertical-align: middle;\n",
       "    }\n",
       "\n",
       "    .dataframe tbody tr th {\n",
       "        vertical-align: top;\n",
       "    }\n",
       "\n",
       "    .dataframe thead th {\n",
       "        text-align: right;\n",
       "    }\n",
       "</style>\n",
       "<table border=\"1\" class=\"dataframe\">\n",
       "  <thead>\n",
       "    <tr style=\"text-align: right;\">\n",
       "      <th></th>\n",
       "      <th></th>\n",
       "      <th>precision</th>\n",
       "      <th>recall</th>\n",
       "      <th>jaccard</th>\n",
       "    </tr>\n",
       "    <tr>\n",
       "      <th>score_threshold</th>\n",
       "      <th>count_threshold</th>\n",
       "      <th></th>\n",
       "      <th></th>\n",
       "      <th></th>\n",
       "    </tr>\n",
       "  </thead>\n",
       "  <tbody>\n",
       "    <tr>\n",
       "      <th rowspan=\"6\" valign=\"top\">10</th>\n",
       "      <th>1</th>\n",
       "      <td>0.801501</td>\n",
       "      <td>1.000000</td>\n",
       "      <td>0.198499</td>\n",
       "    </tr>\n",
       "    <tr>\n",
       "      <th>2</th>\n",
       "      <td>0.994412</td>\n",
       "      <td>1.000000</td>\n",
       "      <td>0.005588</td>\n",
       "    </tr>\n",
       "    <tr>\n",
       "      <th>3</th>\n",
       "      <td>0.998396</td>\n",
       "      <td>0.999599</td>\n",
       "      <td>0.002004</td>\n",
       "    </tr>\n",
       "    <tr>\n",
       "      <th>4</th>\n",
       "      <td>0.998795</td>\n",
       "      <td>0.998127</td>\n",
       "      <td>0.003074</td>\n",
       "    </tr>\n",
       "    <tr>\n",
       "      <th>5</th>\n",
       "      <td>0.998927</td>\n",
       "      <td>0.996521</td>\n",
       "      <td>0.004544</td>\n",
       "    </tr>\n",
       "    <tr>\n",
       "      <th>10</th>\n",
       "      <td>0.999035</td>\n",
       "      <td>0.969494</td>\n",
       "      <td>0.031413</td>\n",
       "    </tr>\n",
       "    <tr>\n",
       "      <th rowspan=\"6\" valign=\"top\">15</th>\n",
       "      <th>1</th>\n",
       "      <td>0.850768</td>\n",
       "      <td>1.000000</td>\n",
       "      <td>0.149232</td>\n",
       "    </tr>\n",
       "    <tr>\n",
       "      <th>2</th>\n",
       "      <td>0.995471</td>\n",
       "      <td>1.000000</td>\n",
       "      <td>0.004529</td>\n",
       "    </tr>\n",
       "    <tr>\n",
       "      <th>3</th>\n",
       "      <td>0.998530</td>\n",
       "      <td>0.999465</td>\n",
       "      <td>0.002004</td>\n",
       "    </tr>\n",
       "    <tr>\n",
       "      <th>4</th>\n",
       "      <td>0.998794</td>\n",
       "      <td>0.997592</td>\n",
       "      <td>0.003608</td>\n",
       "    </tr>\n",
       "    <tr>\n",
       "      <th>5</th>\n",
       "      <td>0.998926</td>\n",
       "      <td>0.995986</td>\n",
       "      <td>0.005079</td>\n",
       "    </tr>\n",
       "    <tr>\n",
       "      <th>10</th>\n",
       "      <td>0.999030</td>\n",
       "      <td>0.964410</td>\n",
       "      <td>0.036492</td>\n",
       "    </tr>\n",
       "    <tr>\n",
       "      <th rowspan=\"6\" valign=\"top\">20</th>\n",
       "      <th>1</th>\n",
       "      <td>0.869070</td>\n",
       "      <td>1.000000</td>\n",
       "      <td>0.130930</td>\n",
       "    </tr>\n",
       "    <tr>\n",
       "      <th>2</th>\n",
       "      <td>0.996002</td>\n",
       "      <td>0.999866</td>\n",
       "      <td>0.004131</td>\n",
       "    </tr>\n",
       "    <tr>\n",
       "      <th>3</th>\n",
       "      <td>0.998663</td>\n",
       "      <td>0.999197</td>\n",
       "      <td>0.002138</td>\n",
       "    </tr>\n",
       "    <tr>\n",
       "      <th>4</th>\n",
       "      <td>0.998793</td>\n",
       "      <td>0.996655</td>\n",
       "      <td>0.004544</td>\n",
       "    </tr>\n",
       "    <tr>\n",
       "      <th>5</th>\n",
       "      <td>0.998925</td>\n",
       "      <td>0.994514</td>\n",
       "      <td>0.006549</td>\n",
       "    </tr>\n",
       "    <tr>\n",
       "      <th>10</th>\n",
       "      <td>0.999021</td>\n",
       "      <td>0.955847</td>\n",
       "      <td>0.045047</td>\n",
       "    </tr>\n",
       "    <tr>\n",
       "      <th rowspan=\"6\" valign=\"top\">25</th>\n",
       "      <th>1</th>\n",
       "      <td>0.913793</td>\n",
       "      <td>0.999866</td>\n",
       "      <td>0.086319</td>\n",
       "    </tr>\n",
       "    <tr>\n",
       "      <th>2</th>\n",
       "      <td>0.997328</td>\n",
       "      <td>0.998662</td>\n",
       "      <td>0.004003</td>\n",
       "    </tr>\n",
       "    <tr>\n",
       "      <th>3</th>\n",
       "      <td>0.998926</td>\n",
       "      <td>0.995451</td>\n",
       "      <td>0.005613</td>\n",
       "    </tr>\n",
       "    <tr>\n",
       "      <th>4</th>\n",
       "      <td>0.998919</td>\n",
       "      <td>0.989162</td>\n",
       "      <td>0.011895</td>\n",
       "    </tr>\n",
       "    <tr>\n",
       "      <th>5</th>\n",
       "      <td>0.998912</td>\n",
       "      <td>0.982874</td>\n",
       "      <td>0.018177</td>\n",
       "    </tr>\n",
       "    <tr>\n",
       "      <th>10</th>\n",
       "      <td>0.998911</td>\n",
       "      <td>0.858710</td>\n",
       "      <td>0.142093</td>\n",
       "    </tr>\n",
       "  </tbody>\n",
       "</table>\n",
       "</div>"
      ],
      "text/plain": [
       "                                 precision    recall   jaccard\n",
       "score_threshold count_threshold                               \n",
       "10              1                 0.801501  1.000000  0.198499\n",
       "                2                 0.994412  1.000000  0.005588\n",
       "                3                 0.998396  0.999599  0.002004\n",
       "                4                 0.998795  0.998127  0.003074\n",
       "                5                 0.998927  0.996521  0.004544\n",
       "                10                0.999035  0.969494  0.031413\n",
       "15              1                 0.850768  1.000000  0.149232\n",
       "                2                 0.995471  1.000000  0.004529\n",
       "                3                 0.998530  0.999465  0.002004\n",
       "                4                 0.998794  0.997592  0.003608\n",
       "                5                 0.998926  0.995986  0.005079\n",
       "                10                0.999030  0.964410  0.036492\n",
       "20              1                 0.869070  1.000000  0.130930\n",
       "                2                 0.996002  0.999866  0.004131\n",
       "                3                 0.998663  0.999197  0.002138\n",
       "                4                 0.998793  0.996655  0.004544\n",
       "                5                 0.998925  0.994514  0.006549\n",
       "                10                0.999021  0.955847  0.045047\n",
       "25              1                 0.913793  0.999866  0.086319\n",
       "                2                 0.997328  0.998662  0.004003\n",
       "                3                 0.998926  0.995451  0.005613\n",
       "                4                 0.998919  0.989162  0.011895\n",
       "                5                 0.998912  0.982874  0.018177\n",
       "                10                0.998911  0.858710  0.142093"
      ]
     },
     "execution_count": 32,
     "metadata": {},
     "output_type": "execute_result"
    }
   ],
   "source": [
    "pr_df"
   ]
  },
  {
   "cell_type": "code",
   "execution_count": 33,
   "id": "918b957f-4154-40ae-baed-fe2669c95281",
   "metadata": {},
   "outputs": [
    {
     "data": {
      "text/plain": [
       "precision    0.998396\n",
       "recall       0.999599\n",
       "jaccard      0.002004\n",
       "Name: (10, 3), dtype: float64"
      ]
     },
     "execution_count": 33,
     "metadata": {},
     "output_type": "execute_result"
    }
   ],
   "source": [
    "pr_df.iloc[np.argmin(pr_df['jaccard'])]"
   ]
  }
 ],
 "metadata": {
  "kernelspec": {
   "display_name": "Gambit Publication",
   "language": "python",
   "name": "gambit-pub"
  },
  "language_info": {
   "codemirror_mode": {
    "name": "ipython",
    "version": 3
   },
   "file_extension": ".py",
   "mimetype": "text/x-python",
   "name": "python",
   "nbconvert_exporter": "python",
   "pygments_lexer": "ipython3",
   "version": "3.9.12"
  }
 },
 "nbformat": 4,
 "nbformat_minor": 5
}
