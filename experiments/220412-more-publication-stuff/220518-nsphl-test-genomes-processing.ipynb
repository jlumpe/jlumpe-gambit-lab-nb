{
 "cells": [
  {
   "cell_type": "markdown",
   "id": "dc4dfd13-6e62-4e56-b6e0-1098e85f2f83",
   "metadata": {},
   "source": [
    "# 220518 NSPHL test genomes processing"
   ]
  },
  {
   "cell_type": "code",
   "execution_count": 1,
   "id": "a83c3ca0-bf4f-4339-82d9-e4b32329f59a",
   "metadata": {},
   "outputs": [],
   "source": [
    "from pathlib import Path\n",
    "import re"
   ]
  },
  {
   "cell_type": "code",
   "execution_count": 2,
   "id": "e539b6c4-9aa0-44b3-9c4a-99f5a104bfc9",
   "metadata": {},
   "outputs": [],
   "source": [
    "import numpy as np\n",
    "import pandas as pd\n",
    "from tqdm.notebook import tqdm\n",
    "from Bio import SeqIO"
   ]
  },
  {
   "cell_type": "markdown",
   "id": "b08bbe13-276b-4137-9b82-1bbd66d6d66d",
   "metadata": {
    "tags": []
   },
   "source": [
    "## Setup"
   ]
  },
  {
   "cell_type": "code",
   "execution_count": 3,
   "id": "ab4e22ad-cd71-4736-8d1d-e5c62651470d",
   "metadata": {},
   "outputs": [],
   "source": [
    "DATESTR = '220518'\n",
    "NBNAME = f'{DATESTR}-nsphl-test-genomes-processing'"
   ]
  },
  {
   "cell_type": "code",
   "execution_count": 4,
   "id": "c0d2a453-6760-41e2-9f69-b5c30aa57268",
   "metadata": {},
   "outputs": [],
   "source": [
    "infiles = dict(\n",
    "    fasta_dir=Path('/home/jared/projects/gambit/data/genomes/220422-nsphl-test-set/fasta'),\n",
    ")"
   ]
  },
  {
   "cell_type": "code",
   "execution_count": 5,
   "id": "643c782d-1e59-4534-80f0-d8a5675559da",
   "metadata": {},
   "outputs": [],
   "source": [
    "processed_out = Path('data-processed') / NBNAME\n",
    "processed_out.mkdir(exist_ok=True)"
   ]
  },
  {
   "cell_type": "code",
   "execution_count": 6,
   "id": "02bb96d5-783e-4ddb-8f7a-49a7f4d9e68d",
   "metadata": {},
   "outputs": [],
   "source": [
    "outfiles = dict(\n",
    "    md5=processed_out / f'{DATESTR}-nsphl-test-genomes-md5.csv',\n",
    ")"
   ]
  },
  {
   "cell_type": "markdown",
   "id": "40a0833d-b078-4255-bff6-3764516992e9",
   "metadata": {},
   "source": [
    "## Get file list"
   ]
  },
  {
   "cell_type": "code",
   "execution_count": 7,
   "id": "9694d173-7c97-4277-afe3-cc19c322591c",
   "metadata": {},
   "outputs": [
    {
     "data": {
      "text/plain": [
       "453"
      ]
     },
     "execution_count": 7,
     "metadata": {},
     "output_type": "execute_result"
    }
   ],
   "source": [
    "files = {file.stem: file for file in infiles['fasta_dir'].glob('*.fasta')}\n",
    "\n",
    "len(files)"
   ]
  },
  {
   "cell_type": "markdown",
   "id": "d53ac3da-dac3-41f3-9c78-70639566265f",
   "metadata": {},
   "source": [
    "## Check sequence data is valid"
   ]
  },
  {
   "cell_type": "code",
   "execution_count": 8,
   "id": "942328a7-536f-41a0-8841-e0f7469b6aeb",
   "metadata": {},
   "outputs": [],
   "source": [
    "invalid_nuc = re.compile('[^ATGCN]', flags=re.IGNORECASE)\n",
    "invalid_nuc_bytes = re.compile(b'[^ATGCN]', flags=re.IGNORECASE)"
   ]
  },
  {
   "cell_type": "code",
   "execution_count": 9,
   "id": "702835be-6071-4bad-ac56-d96fa0aca157",
   "metadata": {},
   "outputs": [],
   "source": [
    "valid = dict()"
   ]
  },
  {
   "cell_type": "code",
   "execution_count": 10,
   "id": "2f00d5cf-1cec-4ebb-9cb2-050c42ed2ae1",
   "metadata": {},
   "outputs": [
    {
     "data": {
      "application/vnd.jupyter.widget-view+json": {
       "model_id": "385ef7d1515f45f286340be8560a6230",
       "version_major": 2,
       "version_minor": 0
      },
      "text/plain": [
       "  0%|          | 0/453 [00:00<?, ?it/s]"
      ]
     },
     "metadata": {},
     "output_type": "display_data"
    }
   ],
   "source": [
    "for _id, file in tqdm(files.items()):\n",
    "    if valid.get(_id, False):\n",
    "        continue\n",
    "\n",
    "    for i, record in enumerate(SeqIO.parse(file, 'fasta')):\n",
    "        match = invalid_nuc_bytes.search(record.seq._data)\n",
    "        if match:\n",
    "            print(f'Invalid nucleotide {match.group(0)} in record {i} {record.id} of {_id}')\n",
    "            valid[_id] = False\n",
    "            break\n",
    "            \n",
    "    else:\n",
    "        valid[_id] = True"
   ]
  },
  {
   "cell_type": "code",
   "execution_count": 11,
   "id": "cd45d87e-12e3-46a2-8647-0c8b003118f8",
   "metadata": {},
   "outputs": [],
   "source": [
    "assert all(valid.values())"
   ]
  },
  {
   "cell_type": "markdown",
   "id": "3fb05a83-7769-489a-bd6a-6bf4147c4a74",
   "metadata": {},
   "source": [
    "## MD5 hashes"
   ]
  },
  {
   "cell_type": "code",
   "execution_count": 12,
   "id": "4e987c49-3529-4646-9aa4-b80203a69dbb",
   "metadata": {},
   "outputs": [],
   "source": [
    "lines = !md5sum {infiles['fasta_dir']}/*"
   ]
  },
  {
   "cell_type": "code",
   "execution_count": 13,
   "id": "1bc30fbf-4264-48c2-a8a9-41ea19457b18",
   "metadata": {},
   "outputs": [],
   "source": [
    "hashes = dict()\n",
    "\n",
    "for l in lines:\n",
    "    md5, fpath = l.split(maxsplit=1)\n",
    "    id_ = Path(fpath).stem\n",
    "    hashes[id_] = md5"
   ]
  },
  {
   "cell_type": "markdown",
   "id": "e77bba57-adc4-4827-bdad-a966d0e77b4c",
   "metadata": {},
   "source": [
    "## Write output"
   ]
  },
  {
   "cell_type": "code",
   "execution_count": 14,
   "id": "e329a3ce-a95d-493c-a4de-2b8c786d71f8",
   "metadata": {},
   "outputs": [],
   "source": [
    "df = pd.DataFrame(index=pd.Series(sorted(files), name='id'))"
   ]
  },
  {
   "cell_type": "code",
   "execution_count": 15,
   "id": "89839245-dc13-4fb9-9387-6e8e69f9e2f9",
   "metadata": {},
   "outputs": [],
   "source": [
    "df['md5'] = [hashes[id_] for id_ in df.index]"
   ]
  },
  {
   "cell_type": "code",
   "execution_count": 16,
   "id": "3662053c-210b-401c-b51e-2cd6e69860de",
   "metadata": {},
   "outputs": [],
   "source": [
    "df.to_csv(outfiles['md5'])"
   ]
  }
 ],
 "metadata": {
  "kernelspec": {
   "display_name": "Gambit Publication",
   "language": "python",
   "name": "gambit-pub"
  },
  "language_info": {
   "codemirror_mode": {
    "name": "ipython",
    "version": 3
   },
   "file_extension": ".py",
   "mimetype": "text/x-python",
   "name": "python",
   "nbconvert_exporter": "python",
   "pygments_lexer": "ipython3",
   "version": "3.9.12"
  }
 },
 "nbformat": 4,
 "nbformat_minor": 5
}
