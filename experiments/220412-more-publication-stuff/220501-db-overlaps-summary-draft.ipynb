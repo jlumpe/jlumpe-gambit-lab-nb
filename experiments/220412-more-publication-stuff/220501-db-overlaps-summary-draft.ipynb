{
 "cells": [
  {
   "cell_type": "markdown",
   "id": "4a046b10-7144-4986-9406-05f69cfc1260",
   "metadata": {},
   "source": [
    "# 220501 DB overlaps summary draft"
   ]
  },
  {
   "cell_type": "code",
   "execution_count": 2,
   "id": "cd04a4e2-11aa-40db-a027-03399bafeecc",
   "metadata": {},
   "outputs": [],
   "source": [
    "import os"
   ]
  },
  {
   "cell_type": "code",
   "execution_count": 3,
   "id": "b2a8c85f-2b27-48d0-92b9-6b429d1b6041",
   "metadata": {},
   "outputs": [],
   "source": [
    "import numpy as np\n",
    "import pandas as pd\n",
    "import h5py as h5\n",
    "from tqdm import tqdm"
   ]
  },
  {
   "cell_type": "code",
   "execution_count": 4,
   "id": "4a442680-5e6a-4797-8897-6d9e974d7be7",
   "metadata": {},
   "outputs": [],
   "source": [
    "from gambit.db import ReferenceDatabase, Taxon"
   ]
  },
  {
   "cell_type": "markdown",
   "id": "0f8f5319-87a7-40a9-b1cd-515c848c718d",
   "metadata": {},
   "source": [
    "## Code"
   ]
  },
  {
   "cell_type": "code",
   "execution_count": 5,
   "id": "1ca6a3b7-b422-4642-bd1d-ba936c8dffba",
   "metadata": {},
   "outputs": [],
   "source": [
    "def subtree_genomes(taxon):\n",
    "    return [genome for t in taxon.traverse() for genome in t.genomes]"
   ]
  },
  {
   "cell_type": "code",
   "execution_count": 6,
   "id": "9d54ee1d-ddda-4420-97de-f778a4acddba",
   "metadata": {},
   "outputs": [],
   "source": [
    "def ancestor_of_rank(taxon, rank: str):\n",
    "    for ancestor in taxon.ancestors(True):\n",
    "        if ancestor.rank == rank:\n",
    "            return ancestor\n",
    "    return None\n",
    "\n",
    "def lineage(taxon, ranks):\n",
    "    return [ancestor_of_rank(taxon, rank) for rank in ranks]\n"
   ]
  },
  {
   "cell_type": "code",
   "execution_count": 7,
   "id": "db9e566c-f49d-4854-b6ba-cc644899c8fe",
   "metadata": {},
   "outputs": [],
   "source": [
    "def indices_to_slice(indices):\n",
    "    \"\"\"Covert integer arrays of (n ... m) to slice(n, m+1).\"\"\"\n",
    "    if np.array_equal(indices, range(indices[0], indices[-1] + 1)):\n",
    "        return slice(indices[0], indices[-1] + 1)\n",
    "    else:\n",
    "        return indices"
   ]
  },
  {
   "cell_type": "code",
   "execution_count": 8,
   "id": "ec3e448c-07f5-4f77-ae27-afc66265e35e",
   "metadata": {},
   "outputs": [],
   "source": [
    "\n",
    "def fix_nullable_int_col(values):\n",
    "\t\"\"\"Fix column containing ints/Nones after Pandas coerces it to float data type.\"\"\"\n",
    "\treturn np.asarray([None if pd.isnull(v) else int(v) for v in values], dtype=object)"
   ]
  },
  {
   "cell_type": "markdown",
   "id": "04d611a9-ba4e-4753-be30-ae3e45ce5b3e",
   "metadata": {},
   "source": [
    "## Load database"
   ]
  },
  {
   "cell_type": "code",
   "execution_count": 9,
   "id": "b8c1b923-c6a1-4f23-9a2d-ef086b4a6edd",
   "metadata": {},
   "outputs": [],
   "source": [
    "refdb = ReferenceDatabase.load_from_dir('/home/jared/projects/gambit/data/databases/refseq-curated/1.0-beta2/')"
   ]
  },
  {
   "cell_type": "code",
   "execution_count": 10,
   "id": "a6dd9804-5a82-4ce6-8a30-e6827f34981d",
   "metadata": {},
   "outputs": [],
   "source": [
    "gset = refdb.genomeset"
   ]
  },
  {
   "cell_type": "code",
   "execution_count": 11,
   "id": "753f0e08-84bb-4770-9567-5a863460c8ea",
   "metadata": {},
   "outputs": [],
   "source": [
    "session = refdb.session"
   ]
  },
  {
   "cell_type": "markdown",
   "id": "71e95a40-92c4-4e96-abc3-8e7ac487559e",
   "metadata": {},
   "source": [
    "## Inspect"
   ]
  },
  {
   "cell_type": "code",
   "execution_count": 12,
   "id": "0c6633fe-8276-4d47-b154-dd61147e49f5",
   "metadata": {},
   "outputs": [
    {
     "data": {
      "text/plain": [
       "48224"
      ]
     },
     "execution_count": 12,
     "metadata": {},
     "output_type": "execute_result"
    }
   ],
   "source": [
    "len(refdb.signatures)"
   ]
  },
  {
   "cell_type": "code",
   "execution_count": 13,
   "id": "e7427109-bff9-46f7-8498-622bb5009be0",
   "metadata": {},
   "outputs": [
    {
     "data": {
      "text/plain": [
       "{None: 50, 'genus': 452, 'species': 1415}"
      ]
     },
     "execution_count": 13,
     "metadata": {},
     "output_type": "execute_result"
    }
   ],
   "source": [
    "{value: gset.taxa.filter_by(rank=value).count() for (value,) in refdb.session.query(Taxon.rank).distinct()}"
   ]
  },
  {
   "cell_type": "markdown",
   "id": "b219c7f6-ef68-4655-ab6a-b88e43d01e84",
   "metadata": {
    "tags": []
   },
   "source": [
    "## ?"
   ]
  },
  {
   "cell_type": "code",
   "execution_count": 14,
   "id": "3be98fbb-65bb-42e6-b767-d9c2e6c87310",
   "metadata": {},
   "outputs": [],
   "source": [
    "intermediate_dir = '/home/jared/code/gambit/gambit-publication/intermediate-data/db-pw-dists'"
   ]
  },
  {
   "cell_type": "markdown",
   "id": "ebedc546-1d06-4582-8a16-39427aadc1d2",
   "metadata": {},
   "source": [
    "## ?"
   ]
  },
  {
   "cell_type": "code",
   "execution_count": 15,
   "id": "77aece8b-211c-4da6-85c1-3918702505f5",
   "metadata": {},
   "outputs": [],
   "source": [
    "min_leaf_dists = pd.read_csv(f'{intermediate_dir}/taxa-min-dists.csv', index_col=0)\n",
    "max_leaf_dists = pd.read_csv(f'{intermediate_dir}/taxa-max-dists.csv', index_col=0)"
   ]
  },
  {
   "cell_type": "code",
   "execution_count": 16,
   "id": "ddda6341-0375-433c-855f-ca013041894f",
   "metadata": {},
   "outputs": [],
   "source": [
    "leaf_tids = min_leaf_dists.index\n",
    "\n",
    "assert np.array_equal(max_leaf_dists.index, leaf_tids)\n",
    "assert np.array_equal(min_leaf_dists.columns, leaf_tids.map(str))\n",
    "assert np.array_equal(max_leaf_dists.columns, leaf_tids.map(str))\n",
    "\n",
    "min_leaf_dists.columns = max_leaf_dists.columns = leaf_tids"
   ]
  },
  {
   "cell_type": "markdown",
   "id": "8a8d27ca-bca4-42d5-9d4d-7432378e40bc",
   "metadata": {},
   "source": [
    "## ??"
   ]
  },
  {
   "cell_type": "code",
   "execution_count": 17,
   "id": "6f0ea7e3-a775-4c5d-8c69-78626418eb47",
   "metadata": {},
   "outputs": [],
   "source": [
    "taxa_by_id = {taxon.id: taxon for taxon in gset.taxa}\n",
    "all_tids = sorted(taxa_by_id)"
   ]
  },
  {
   "cell_type": "code",
   "execution_count": 18,
   "id": "12775886-1136-4660-9f22-667cf26ce497",
   "metadata": {},
   "outputs": [],
   "source": [
    "rows = []\n",
    "\n",
    "for tid in all_tids:\n",
    "    taxon = taxa_by_id[tid]\n",
    "    \n",
    "    subtree_leaves = [l.id for l in taxon.leaves()]\n",
    "    in_subtree = np.in1d(leaf_tids, subtree_leaves)\n",
    "    \n",
    "    diam = max_leaf_dists.loc[subtree_leaves, subtree_leaves].values.max()\n",
    "    \n",
    "    inter_dists = min_leaf_dists.values[in_subtree, :]\n",
    "    inter_dists = np.ma.masked_array(inter_dists, np.broadcast_to(in_subtree[None, :], inter_dists.shape))\n",
    "    \n",
    "    am_row, am_col = np.unravel_index(inter_dists.argmin(), inter_dists.shape)\n",
    "    min_inter_dist = inter_dists[am_row, am_col]\n",
    "    min_inter_tid = leaf_tids[am_col]\n",
    "    \n",
    "    rows.append((\n",
    "        tid,\n",
    "        taxon.name,\n",
    "        'none' if taxon.rank is None else taxon.rank,\n",
    "        taxon.ncbi_id,\n",
    "        np.nan if taxon.distance_threshold == 0 else taxon.distance_threshold,\n",
    "        diam,\n",
    "        min_inter_dist,\n",
    "        min_inter_tid,\n",
    "        taxa_by_id[min_inter_tid].name,\n",
    "    ))\n",
    "\n",
    "df = pd.DataFrame(\n",
    "    rows,\n",
    "    columns=['id', 'name', 'rank', 'ncbi_id', 'threshold', 'diameter', 'min_inter_dist', 'min_inter_taxon_id', 'min_inter_taxon_name'],\n",
    ")\n",
    "\n",
    "df.set_index('id', inplace=True)\n",
    "df['ncbi_id'] = fix_nullable_int_col(df['ncbi_id'])"
   ]
  },
  {
   "cell_type": "code",
   "execution_count": 19,
   "id": "0b865a91-f46c-478c-895a-f6fc1b7dfd39",
   "metadata": {},
   "outputs": [],
   "source": [
    "assert not np.any(df['min_inter_dist'] < df['threshold'])"
   ]
  },
  {
   "cell_type": "code",
   "execution_count": 20,
   "id": "db9f361a-09b2-461a-b9ec-a4474b5d1ba7",
   "metadata": {},
   "outputs": [],
   "source": [
    "df['has_overlap'] = df['min_inter_dist'] < df['diameter']"
   ]
  },
  {
   "cell_type": "code",
   "execution_count": 21,
   "id": "ef0b4118-b3ff-4b43-8298-879668c6819e",
   "metadata": {},
   "outputs": [
    {
     "data": {
      "text/plain": [
       "171"
      ]
     },
     "execution_count": 21,
     "metadata": {},
     "output_type": "execute_result"
    }
   ],
   "source": [
    "df['has_overlap'].sum()"
   ]
  },
  {
   "cell_type": "code",
   "execution_count": 22,
   "id": "3576907c-b230-4c19-a3cf-67686f9e6670",
   "metadata": {},
   "outputs": [],
   "source": [
    "diameter_is_threshold = np.isclose(df['diameter'], df['threshold'], atol=1e-4)"
   ]
  },
  {
   "cell_type": "code",
   "execution_count": 23,
   "id": "d0f62952-fa65-4ed9-a6ad-2c8d6c78d11e",
   "metadata": {},
   "outputs": [
    {
     "data": {
      "text/plain": [
       "256"
      ]
     },
     "execution_count": 23,
     "metadata": {},
     "output_type": "execute_result"
    }
   ],
   "source": [
    "(~diameter_is_threshold).sum()"
   ]
  },
  {
   "cell_type": "code",
   "execution_count": 26,
   "id": "19dfabcb-8be6-4d2d-a874-ecb971feb276",
   "metadata": {},
   "outputs": [
    {
     "data": {
      "text/html": [
       "<div>\n",
       "<style scoped>\n",
       "    .dataframe tbody tr th:only-of-type {\n",
       "        vertical-align: middle;\n",
       "    }\n",
       "\n",
       "    .dataframe tbody tr th {\n",
       "        vertical-align: top;\n",
       "    }\n",
       "\n",
       "    .dataframe thead th {\n",
       "        text-align: right;\n",
       "    }\n",
       "</style>\n",
       "<table border=\"1\" class=\"dataframe\">\n",
       "  <thead>\n",
       "    <tr style=\"text-align: right;\">\n",
       "      <th></th>\n",
       "      <th>name</th>\n",
       "      <th>rank</th>\n",
       "      <th>ncbi_id</th>\n",
       "      <th>threshold</th>\n",
       "      <th>diameter</th>\n",
       "      <th>min_inter_dist</th>\n",
       "      <th>min_inter_taxon_id</th>\n",
       "      <th>min_inter_taxon_name</th>\n",
       "      <th>has_overlap</th>\n",
       "    </tr>\n",
       "    <tr>\n",
       "      <th>id</th>\n",
       "      <th></th>\n",
       "      <th></th>\n",
       "      <th></th>\n",
       "      <th></th>\n",
       "      <th></th>\n",
       "      <th></th>\n",
       "      <th></th>\n",
       "      <th></th>\n",
       "      <th></th>\n",
       "    </tr>\n",
       "  </thead>\n",
       "  <tbody>\n",
       "    <tr>\n",
       "      <th>1</th>\n",
       "      <td>Mobiluncus</td>\n",
       "      <td>genus</td>\n",
       "      <td>2050</td>\n",
       "      <td>0.938501</td>\n",
       "      <td>0.991801</td>\n",
       "      <td>0.987895</td>\n",
       "      <td>1241</td>\n",
       "      <td>Actinobaculum massiliense</td>\n",
       "      <td>True</td>\n",
       "    </tr>\n",
       "    <tr>\n",
       "      <th>2</th>\n",
       "      <td>Gordonia</td>\n",
       "      <td>genus</td>\n",
       "      <td>2053</td>\n",
       "      <td>0.925864</td>\n",
       "      <td>0.978936</td>\n",
       "      <td>0.974594</td>\n",
       "      <td>1754</td>\n",
       "      <td>Nocardia farcinica</td>\n",
       "      <td>True</td>\n",
       "    </tr>\n",
       "    <tr>\n",
       "      <th>4</th>\n",
       "      <td>Kitasatospora</td>\n",
       "      <td>genus</td>\n",
       "      <td>2063</td>\n",
       "      <td>0.818638</td>\n",
       "      <td>0.947083</td>\n",
       "      <td>0.861725</td>\n",
       "      <td>1820</td>\n",
       "      <td>Streptomyces pyridomyceticus</td>\n",
       "      <td>True</td>\n",
       "    </tr>\n",
       "    <tr>\n",
       "      <th>5</th>\n",
       "      <td>Shewanella</td>\n",
       "      <td>genus</td>\n",
       "      <td>22</td>\n",
       "      <td>0.943568</td>\n",
       "      <td>0.995506</td>\n",
       "      <td>0.993230</td>\n",
       "      <td>877</td>\n",
       "      <td>Salmonella enterica</td>\n",
       "      <td>True</td>\n",
       "    </tr>\n",
       "    <tr>\n",
       "      <th>10</th>\n",
       "      <td>Mycoplasma</td>\n",
       "      <td>genus</td>\n",
       "      <td>2093</td>\n",
       "      <td>0.934762</td>\n",
       "      <td>1.000000</td>\n",
       "      <td>0.983960</td>\n",
       "      <td>1289</td>\n",
       "      <td>Mesoplasma florum</td>\n",
       "      <td>True</td>\n",
       "    </tr>\n",
       "    <tr>\n",
       "      <th>...</th>\n",
       "      <td>...</td>\n",
       "      <td>...</td>\n",
       "      <td>...</td>\n",
       "      <td>...</td>\n",
       "      <td>...</td>\n",
       "      <td>...</td>\n",
       "      <td>...</td>\n",
       "      <td>...</td>\n",
       "      <td>...</td>\n",
       "    </tr>\n",
       "    <tr>\n",
       "      <th>1901</th>\n",
       "      <td>Streptococcus pseudopneumoniae subgroup 2</td>\n",
       "      <td>none</td>\n",
       "      <td>None</td>\n",
       "      <td>0.500000</td>\n",
       "      <td>0.666717</td>\n",
       "      <td>0.580635</td>\n",
       "      <td>1424</td>\n",
       "      <td>Streptococcus mitis</td>\n",
       "      <td>True</td>\n",
       "    </tr>\n",
       "    <tr>\n",
       "      <th>1905</th>\n",
       "      <td>Pseudomonas syringae subgroup 4</td>\n",
       "      <td>none</td>\n",
       "      <td>None</td>\n",
       "      <td>0.250000</td>\n",
       "      <td>0.388258</td>\n",
       "      <td>0.295101</td>\n",
       "      <td>1899</td>\n",
       "      <td>Pseudomonas amygdali subgroup 3</td>\n",
       "      <td>True</td>\n",
       "    </tr>\n",
       "    <tr>\n",
       "      <th>1909</th>\n",
       "      <td>Shigella boydii</td>\n",
       "      <td>species</td>\n",
       "      <td>621</td>\n",
       "      <td>NaN</td>\n",
       "      <td>0.296933</td>\n",
       "      <td>0.204837</td>\n",
       "      <td>1916</td>\n",
       "      <td>Shigella dysenteriae subgroup 2</td>\n",
       "      <td>True</td>\n",
       "    </tr>\n",
       "    <tr>\n",
       "      <th>1910</th>\n",
       "      <td>Shigella dysenteriae</td>\n",
       "      <td>species</td>\n",
       "      <td>622</td>\n",
       "      <td>NaN</td>\n",
       "      <td>0.560220</td>\n",
       "      <td>0.204837</td>\n",
       "      <td>1913</td>\n",
       "      <td>Shigella boydii subgroup 1</td>\n",
       "      <td>True</td>\n",
       "    </tr>\n",
       "    <tr>\n",
       "      <th>1917</th>\n",
       "      <td>Escherichia coli</td>\n",
       "      <td>species</td>\n",
       "      <td>562</td>\n",
       "      <td>NaN</td>\n",
       "      <td>0.682538</td>\n",
       "      <td>0.364887</td>\n",
       "      <td>1912</td>\n",
       "      <td>Shigella sonnei</td>\n",
       "      <td>True</td>\n",
       "    </tr>\n",
       "  </tbody>\n",
       "</table>\n",
       "<p>171 rows × 9 columns</p>\n",
       "</div>"
      ],
      "text/plain": [
       "                                           name     rank ncbi_id  threshold  \\\n",
       "id                                                                            \n",
       "1                                    Mobiluncus    genus    2050   0.938501   \n",
       "2                                      Gordonia    genus    2053   0.925864   \n",
       "4                                 Kitasatospora    genus    2063   0.818638   \n",
       "5                                    Shewanella    genus      22   0.943568   \n",
       "10                                   Mycoplasma    genus    2093   0.934762   \n",
       "...                                         ...      ...     ...        ...   \n",
       "1901  Streptococcus pseudopneumoniae subgroup 2     none    None   0.500000   \n",
       "1905            Pseudomonas syringae subgroup 4     none    None   0.250000   \n",
       "1909                            Shigella boydii  species     621        NaN   \n",
       "1910                       Shigella dysenteriae  species     622        NaN   \n",
       "1917                           Escherichia coli  species     562        NaN   \n",
       "\n",
       "      diameter  min_inter_dist  min_inter_taxon_id  \\\n",
       "id                                                   \n",
       "1     0.991801        0.987895                1241   \n",
       "2     0.978936        0.974594                1754   \n",
       "4     0.947083        0.861725                1820   \n",
       "5     0.995506        0.993230                 877   \n",
       "10    1.000000        0.983960                1289   \n",
       "...        ...             ...                 ...   \n",
       "1901  0.666717        0.580635                1424   \n",
       "1905  0.388258        0.295101                1899   \n",
       "1909  0.296933        0.204837                1916   \n",
       "1910  0.560220        0.204837                1913   \n",
       "1917  0.682538        0.364887                1912   \n",
       "\n",
       "                 min_inter_taxon_name  has_overlap  \n",
       "id                                                  \n",
       "1           Actinobaculum massiliense         True  \n",
       "2                  Nocardia farcinica         True  \n",
       "4        Streptomyces pyridomyceticus         True  \n",
       "5                 Salmonella enterica         True  \n",
       "10                  Mesoplasma florum         True  \n",
       "...                               ...          ...  \n",
       "1901              Streptococcus mitis         True  \n",
       "1905  Pseudomonas amygdali subgroup 3         True  \n",
       "1909  Shigella dysenteriae subgroup 2         True  \n",
       "1910       Shigella boydii subgroup 1         True  \n",
       "1917                  Shigella sonnei         True  \n",
       "\n",
       "[171 rows x 9 columns]"
      ]
     },
     "execution_count": 26,
     "metadata": {},
     "output_type": "execute_result"
    }
   ],
   "source": [
    "df[df['has_overlap']]"
   ]
  },
  {
   "cell_type": "code",
   "execution_count": 28,
   "id": "82b3cd56-e180-44c8-85bf-d34b14a34db9",
   "metadata": {},
   "outputs": [],
   "source": [
    "df.to_csv('/home/jared/projects/gambit/tmp/220501-db-overlaps-summary.csv')"
   ]
  },
  {
   "cell_type": "code",
   "execution_count": 27,
   "id": "f4016afa-92aa-4382-a181-4267124ee807",
   "metadata": {},
   "outputs": [
    {
     "data": {
      "text/plain": [
       "20"
      ]
     },
     "execution_count": 27,
     "metadata": {},
     "output_type": "execute_result"
    }
   ],
   "source": [
    "pd.isnull(df['threshold']).sum()"
   ]
  },
  {
   "cell_type": "code",
   "execution_count": null,
   "id": "96f09123-fa64-4019-9933-76cc2cf9df61",
   "metadata": {},
   "outputs": [],
   "source": [
    "import matplotlib.pyplot as plt\n",
    "import seaborn as sns\n",
    "\n",
    "%matplotlib inline"
   ]
  },
  {
   "cell_type": "code",
   "execution_count": null,
   "id": "beb25e76-0d4d-406b-ad35-8c1ed76aed0c",
   "metadata": {},
   "outputs": [],
   "source": [
    "plt.figure(figsize=(16, 8))\n",
    "sns.boxenplot(data=df, x='diameter', y='rank')\n",
    "plt.xscale('logit')"
   ]
  }
 ],
 "metadata": {
  "kernelspec": {
   "display_name": "Gambit Publication",
   "language": "python",
   "name": "gambit-pub"
  },
  "language_info": {
   "codemirror_mode": {
    "name": "ipython",
    "version": 3
   },
   "file_extension": ".py",
   "mimetype": "text/x-python",
   "name": "python",
   "nbconvert_exporter": "python",
   "pygments_lexer": "ipython3",
   "version": "3.9.12"
  }
 },
 "nbformat": 4,
 "nbformat_minor": 5
}
