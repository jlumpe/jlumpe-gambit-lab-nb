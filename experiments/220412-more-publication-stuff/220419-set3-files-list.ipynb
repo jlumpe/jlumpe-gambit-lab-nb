{
 "cells": [
  {
   "cell_type": "markdown",
   "id": "69e166c2-d41f-44e7-b192-fa9b8efe794d",
   "metadata": {},
   "source": [
    "# 220419 Set 3 files list"
   ]
  },
  {
   "cell_type": "code",
   "execution_count": 1,
   "id": "1f65798a-1892-448e-97be-156849fb22f2",
   "metadata": {},
   "outputs": [],
   "source": [
    "from pathlib import Path\n",
    "import re"
   ]
  },
  {
   "cell_type": "code",
   "execution_count": 2,
   "id": "061723b6-ed7f-4c79-8969-1f37be48ed04",
   "metadata": {},
   "outputs": [],
   "source": [
    "import pandas as pd"
   ]
  },
  {
   "cell_type": "markdown",
   "id": "9996e001-ba40-4957-8e14-f88928bf3f99",
   "metadata": {},
   "source": [
    "## Setup"
   ]
  },
  {
   "cell_type": "code",
   "execution_count": 3,
   "id": "2a5db916-465e-4a41-8e51-65411d871f21",
   "metadata": {},
   "outputs": [],
   "source": [
    "DATESTR = '220419'\n",
    "NBNAME = f'{DATESTR}-set3-files-list'"
   ]
  },
  {
   "cell_type": "code",
   "execution_count": 4,
   "id": "7f03bfba-a50f-4f87-b8b4-112a2694b979",
   "metadata": {},
   "outputs": [],
   "source": [
    "_root = Path('/home/jared/projects/gambit/data/genomes/200728-gold-standard')\n",
    "\n",
    "infiles = dict(\n",
    "    root=_root,\n",
    "    fasta1=_root / 'original/fasta-1',\n",
    "    fasta2=_root / 'original/fasta-2',\n",
    "    fastq=_root / 'fastq',\n",
    ")"
   ]
  },
  {
   "cell_type": "code",
   "execution_count": 5,
   "id": "ffd27dd1-1296-4755-b2af-d5a5f9730661",
   "metadata": {},
   "outputs": [],
   "source": [
    "processed_out = Path('data-processed') / NBNAME\n",
    "processed_out.mkdir(exist_ok=True)\n",
    "\n",
    "outfiles = dict(\n",
    "    table=processed_out / f'{DATESTR}-200726-gold-standard-files.csv',\n",
    ")"
   ]
  },
  {
   "cell_type": "markdown",
   "id": "676acbb9-3299-4d13-b88a-a32f5880d078",
   "metadata": {},
   "source": [
    "## Code"
   ]
  },
  {
   "cell_type": "code",
   "execution_count": 6,
   "id": "c1788a7a-7093-4688-8014-dcc2f2da7f72",
   "metadata": {
    "tags": []
   },
   "outputs": [],
   "source": [
    "def fasta_to_id(fname):\n",
    "    return re.fullmatch(r'(.*)_S\\d+_L001_R1_001 Assembly Contigs(Unpaired)?.fasta', fname).group(1)\n",
    "\n",
    "def md5sums(files):\n",
    "    files_str = files if isinstance(files, str) else ' '.join(files)\n",
    "    \n",
    "    lines = !md5sum {files_str}\n",
    "\n",
    "    sums = dict()\n",
    "\n",
    "    for line in lines:\n",
    "        md5, f = line.split(maxsplit=1)\n",
    "        sums[f] = md5\n",
    "\n",
    "    return sums"
   ]
  },
  {
   "cell_type": "markdown",
   "id": "77941a21-ee3c-40e9-86ba-56f7f19daa2b",
   "metadata": {},
   "source": [
    "## Genomes table from FASTA files"
   ]
  },
  {
   "cell_type": "code",
   "execution_count": 7,
   "id": "55a15423-7ed5-444f-a2d2-92e2456ddf53",
   "metadata": {},
   "outputs": [],
   "source": [
    "_rows = []\n",
    "\n",
    "for set_, dir_ in [('200726', infiles['fasta1']), ('200817', infiles['fasta2'])]:\n",
    "    for f in dir_.glob('*.fasta'):\n",
    "        _rows.append((set_, f.name))\n",
    "\n",
    "df = pd.DataFrame(_rows, columns=['set', 'fasta_file'])"
   ]
  },
  {
   "cell_type": "code",
   "execution_count": 8,
   "id": "0e521303-ccdc-4a78-b66c-15861fe3a36b",
   "metadata": {},
   "outputs": [],
   "source": [
    "df['id'] = list(map(fasta_to_id, df['fasta_file']))\n",
    "\n",
    "df = df.set_index(['set', 'id']).sort_index()"
   ]
  },
  {
   "cell_type": "code",
   "execution_count": 9,
   "id": "ba8fb7e3-2d64-408e-b53c-f736c2a89f36",
   "metadata": {},
   "outputs": [],
   "source": [
    "assert df.index.is_unique"
   ]
  },
  {
   "cell_type": "markdown",
   "id": "d10ce28d-3cf4-4a62-8c69-be7a3f9e1da9",
   "metadata": {},
   "source": [
    "### Checksums"
   ]
  },
  {
   "cell_type": "code",
   "execution_count": 10,
   "id": "d8ad8c82-023d-485f-ab1e-2ee5fc6d6a78",
   "metadata": {},
   "outputs": [],
   "source": [
    "df['fasta_md5'] = None"
   ]
  },
  {
   "cell_type": "code",
   "execution_count": 11,
   "id": "59445cdd-2779-4fb5-b0f9-4c178aece30d",
   "metadata": {},
   "outputs": [],
   "source": [
    "for f, md5 in md5sums(str(infiles['fasta1'] / '*.fasta')).items():\n",
    "    id_ = fasta_to_id(f.split('/')[-1])\n",
    "    df.loc[('200726', id_), 'fasta_md5'] = md5"
   ]
  },
  {
   "cell_type": "code",
   "execution_count": 12,
   "id": "38fbccd3-a3bd-4a15-90cb-922720bca069",
   "metadata": {},
   "outputs": [],
   "source": [
    "for f, md5 in md5sums(str(infiles['fasta2'] / '*.fasta')).items():\n",
    "    id_ = fasta_to_id(f.split('/')[-1])\n",
    "    df.loc[('200817', id_), 'fasta_md5'] = md5"
   ]
  },
  {
   "cell_type": "markdown",
   "id": "90121ef4-9de2-42b3-be33-00eec96bd58e",
   "metadata": {},
   "source": [
    "## FASTQ files"
   ]
  },
  {
   "cell_type": "code",
   "execution_count": 14,
   "id": "15082383-6cde-46ee-85b7-4df25c009d60",
   "metadata": {},
   "outputs": [],
   "source": [
    "df['fastq_md5'] = None\n",
    "\n",
    "for f, md5 in md5sums(str(infiles['fastq'] / '*.fastq.gz')).items():\n",
    "    id_ = f.split('/')[-1].split('.')[0]\n",
    "    df.loc[(slice(None), id_), 'fastq_md5'] = md5"
   ]
  },
  {
   "cell_type": "code",
   "execution_count": 15,
   "id": "0185734b-b199-478e-ba75-a62e640912e1",
   "metadata": {},
   "outputs": [
    {
     "data": {
      "text/html": [
       "<div>\n",
       "<style scoped>\n",
       "    .dataframe tbody tr th:only-of-type {\n",
       "        vertical-align: middle;\n",
       "    }\n",
       "\n",
       "    .dataframe tbody tr th {\n",
       "        vertical-align: top;\n",
       "    }\n",
       "\n",
       "    .dataframe thead th {\n",
       "        text-align: right;\n",
       "    }\n",
       "</style>\n",
       "<table border=\"1\" class=\"dataframe\">\n",
       "  <thead>\n",
       "    <tr style=\"text-align: right;\">\n",
       "      <th></th>\n",
       "      <th></th>\n",
       "      <th>fasta_file</th>\n",
       "      <th>fasta_md5</th>\n",
       "      <th>fastq_md5</th>\n",
       "    </tr>\n",
       "    <tr>\n",
       "      <th>set</th>\n",
       "      <th>id</th>\n",
       "      <th></th>\n",
       "      <th></th>\n",
       "      <th></th>\n",
       "    </tr>\n",
       "  </thead>\n",
       "  <tbody>\n",
       "    <tr>\n",
       "      <th>200817</th>\n",
       "      <th>18AC0012154-B</th>\n",
       "      <td>18AC0012154-B_S7_L001_R1_001 Assembly Contigs....</td>\n",
       "      <td>02cf1a38d2f48a4aca3a678021d9f7c5</td>\n",
       "      <td>None</td>\n",
       "    </tr>\n",
       "  </tbody>\n",
       "</table>\n",
       "</div>"
      ],
      "text/plain": [
       "                                                             fasta_file  \\\n",
       "set    id                                                                 \n",
       "200817 18AC0012154-B  18AC0012154-B_S7_L001_R1_001 Assembly Contigs....   \n",
       "\n",
       "                                             fasta_md5 fastq_md5  \n",
       "set    id                                                         \n",
       "200817 18AC0012154-B  02cf1a38d2f48a4aca3a678021d9f7c5      None  "
      ]
     },
     "execution_count": 15,
     "metadata": {},
     "output_type": "execute_result"
    }
   ],
   "source": [
    "df[df['fastq_md5'].isnull()]"
   ]
  },
  {
   "cell_type": "markdown",
   "id": "a326ab49-6134-4bd4-bc9e-651d2ef77104",
   "metadata": {},
   "source": [
    "## Output"
   ]
  },
  {
   "cell_type": "code",
   "execution_count": 16,
   "id": "d36c6419-902f-4679-8fb8-1dea19aadcb2",
   "metadata": {},
   "outputs": [],
   "source": [
    "df.to_csv(outfiles['table'])"
   ]
  }
 ],
 "metadata": {
  "kernelspec": {
   "display_name": "Gambit Publication",
   "language": "python",
   "name": "gambit-pub"
  },
  "language_info": {
   "codemirror_mode": {
    "name": "ipython",
    "version": 3
   },
   "file_extension": ".py",
   "mimetype": "text/x-python",
   "name": "python",
   "nbconvert_exporter": "python",
   "pygments_lexer": "ipython3",
   "version": "3.9.12"
  }
 },
 "nbformat": 4,
 "nbformat_minor": 5
}
