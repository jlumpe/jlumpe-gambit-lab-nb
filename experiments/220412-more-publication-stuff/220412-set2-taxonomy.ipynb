{
 "cells": [
  {
   "cell_type": "markdown",
   "id": "c0f2a4fe",
   "metadata": {},
   "source": [
    "# 220412 Genome Set 2 taxonomy"
   ]
  },
  {
   "cell_type": "code",
   "execution_count": 1,
   "id": "eb4afd2c-e15a-4223-9913-f674139ea6df",
   "metadata": {},
   "outputs": [],
   "source": [
    "from pathlib import Path\n",
    "\n",
    "import numpy as np\n",
    "import pandas as pd\n",
    "from ete3 import NCBITaxa"
   ]
  },
  {
   "cell_type": "markdown",
   "id": "3f2cd7b2-bc5c-4bff-8e4b-6e67a3eb4d2b",
   "metadata": {},
   "source": [
    "## Setup"
   ]
  },
  {
   "cell_type": "code",
   "execution_count": 2,
   "id": "90f1d3bd-036b-415d-8049-56c97b453f42",
   "metadata": {},
   "outputs": [],
   "source": [
    "DATESTR = '220412'\n",
    "NBNAME = f'{DATESTR}-set2-taxonomy'"
   ]
  },
  {
   "cell_type": "code",
   "execution_count": 3,
   "id": "d22927b5-da29-480e-9196-08f744f15bed",
   "metadata": {},
   "outputs": [],
   "source": [
    "infiles = dict(\n",
    "    workflow=Path('/home/jared/code/gambit/gambit-publication/'),\n",
    "    taxonomy_db=Path('/home/jared/projects/gambit/data/ncbi/taxonomy/taxdumps/taxdump-211204.db'),\n",
    ")"
   ]
  },
  {
   "cell_type": "code",
   "execution_count": 4,
   "id": "01cbb78c-c288-4fe0-af6b-1b962f18d89c",
   "metadata": {},
   "outputs": [],
   "source": [
    "processed_out = Path('data-processed') / NBNAME\n",
    "processed_out.mkdir(exist_ok=True)"
   ]
  },
  {
   "cell_type": "code",
   "execution_count": 5,
   "id": "6d9e76a6-2b6d-421f-aedf-0303af078921",
   "metadata": {},
   "outputs": [],
   "source": [
    "outfiles = dict(\n",
    "    taxa=processed_out / f'{DATESTR}-set2-taxa.csv',\n",
    "    lineages=processed_out / f'{DATESTR}-set2-lineages.csv',\n",
    ")"
   ]
  },
  {
   "cell_type": "markdown",
   "id": "8e2db890-82ef-4a00-8ff0-84a980437738",
   "metadata": {},
   "source": [
    "## Load data"
   ]
  },
  {
   "cell_type": "code",
   "execution_count": 6,
   "id": "41bea14b-c922-4318-84e3-cc43d31deda0",
   "metadata": {},
   "outputs": [],
   "source": [
    "taxa = NCBITaxa(infiles['taxonomy_db'])"
   ]
  },
  {
   "cell_type": "code",
   "execution_count": 7,
   "id": "ed579489-adc2-4932-806e-159b8677d59e",
   "metadata": {},
   "outputs": [],
   "source": [
    "genomes = pd.read_csv(infiles['workflow'] / 'resources/genomes/set2/genomes.csv')"
   ]
  },
  {
   "cell_type": "markdown",
   "id": "42eb9e78-8e69-470c-811d-1a2769309f7a",
   "metadata": {},
   "source": [
    "## Taxonomy tables"
   ]
  },
  {
   "cell_type": "code",
   "execution_count": 8,
   "id": "11a6caf3-e8c4-4132-b49f-6021cd04ef53",
   "metadata": {},
   "outputs": [],
   "source": [
    "ranks = ['superkingdom', 'phylum', 'class', 'order', 'family', 'genus', 'species']"
   ]
  },
  {
   "cell_type": "code",
   "execution_count": 9,
   "id": "f37e96b8-916b-4a55-a25d-78fccba5ebf6",
   "metadata": {},
   "outputs": [],
   "source": [
    "rows = []\n",
    "\n",
    "for taxid in genomes['taxid']:\n",
    "    lineage = [tid for tid in taxa.get_lineage(taxid) if taxa.get_rank([tid])[tid] in ranks]\n",
    "    assert len(lineage) == len(ranks)\n",
    "    rows.append(lineage)\n",
    "    \n",
    "lineages_taxid = pd.DataFrame(rows, columns=ranks)"
   ]
  },
  {
   "cell_type": "code",
   "execution_count": 10,
   "id": "66b7e94d-35d6-4f2a-b2e2-8fc9ca4cf623",
   "metadata": {},
   "outputs": [],
   "source": [
    "all_taxids = sorted(set(lineages_taxid.values.flat))\n",
    "name_map = dict(zip(all_taxids, taxa.translate_to_names(all_taxids)))\n",
    "rank_map = taxa.get_rank(all_taxids)\n",
    "\n",
    "assert len(set(name_map.values())) == len(all_taxids)"
   ]
  },
  {
   "cell_type": "code",
   "execution_count": 11,
   "id": "3613c462-7239-409d-9e11-cff031068e41",
   "metadata": {},
   "outputs": [],
   "source": [
    "lineages = lineages_taxid.applymap(name_map.__getitem__)"
   ]
  },
  {
   "cell_type": "code",
   "execution_count": 12,
   "id": "ae3d1217-938d-45d0-bc98-1ebdebb524d4",
   "metadata": {},
   "outputs": [],
   "source": [
    "taxa_df = pd.DataFrame(index=pd.Series(all_taxids, name='taxid'))\n",
    "taxa_df['name'] = [name_map[tid] for tid in all_taxids]\n",
    "taxa_df['rank'] = [rank_map[tid] for tid in all_taxids]"
   ]
  },
  {
   "cell_type": "markdown",
   "id": "e46b8143-5ef1-4ff8-bf22-fe511d09f0cc",
   "metadata": {},
   "source": [
    "## Save"
   ]
  },
  {
   "cell_type": "code",
   "execution_count": 13,
   "id": "0a26ad48-60a7-4d62-aba6-fce791476365",
   "metadata": {},
   "outputs": [],
   "source": [
    "lineages.to_csv(outfiles['lineages'], index=False)"
   ]
  },
  {
   "cell_type": "code",
   "execution_count": 14,
   "id": "c6b1d157-a6fb-44f4-a70b-3ecf9eb485bf",
   "metadata": {},
   "outputs": [],
   "source": [
    "taxa_df.to_csv(outfiles['taxa'])"
   ]
  }
 ],
 "metadata": {
  "kernelspec": {
   "display_name": "Gambit Publication",
   "language": "python",
   "name": "gambit-pub"
  },
  "language_info": {
   "codemirror_mode": {
    "name": "ipython",
    "version": 3
   },
   "file_extension": ".py",
   "mimetype": "text/x-python",
   "name": "python",
   "nbconvert_exporter": "python",
   "pygments_lexer": "ipython3",
   "version": "3.9.12"
  }
 },
 "nbformat": 4,
 "nbformat_minor": 5
}
