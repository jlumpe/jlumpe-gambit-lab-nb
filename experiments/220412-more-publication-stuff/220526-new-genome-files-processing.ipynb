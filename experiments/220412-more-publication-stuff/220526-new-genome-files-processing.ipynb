{
 "cells": [
  {
   "cell_type": "markdown",
   "id": "aab3f381-2dae-4a92-ae80-0c4d2a9809a9",
   "metadata": {},
   "source": [
    "# 220526 new genome files processing"
   ]
  },
  {
   "cell_type": "code",
   "execution_count": 1,
   "id": "5fe38996-309a-4b78-a981-e27eed2b75fc",
   "metadata": {},
   "outputs": [],
   "source": [
    "from pathlib import Path\n",
    "import shutil\n",
    "import re"
   ]
  },
  {
   "cell_type": "code",
   "execution_count": 2,
   "id": "c0568b7f-98d4-4070-b4cc-95154f829748",
   "metadata": {},
   "outputs": [],
   "source": [
    "import pandas as pd"
   ]
  },
  {
   "cell_type": "code",
   "execution_count": 3,
   "id": "9e866819-f7de-45a9-8121-012dc37d5b90",
   "metadata": {},
   "outputs": [],
   "source": [
    "from gambit.util.io import read_lines"
   ]
  },
  {
   "cell_type": "markdown",
   "id": "1ab2d727-0e60-4892-8788-098fcc8b9f85",
   "metadata": {},
   "source": [
    "## Setup"
   ]
  },
  {
   "cell_type": "code",
   "execution_count": 4,
   "id": "2dd697f6-f950-4b0c-90c5-06cd20103e4e",
   "metadata": {},
   "outputs": [],
   "source": [
    "DATESTR = '220526'\n",
    "NBNAME = f'{DATESTR}-new-genome-files-processing'"
   ]
  },
  {
   "cell_type": "code",
   "execution_count": 5,
   "id": "d242e025-4b35-4398-9691-a88732334f98",
   "metadata": {},
   "outputs": [],
   "source": [
    "infiles = dict(\n",
    "    david_table='data-src/220520-david-set4-genomes-table.xlsx',\n",
    "    src_dir=Path('/home/jared/projects/gambit/data/genomes/220422-nsphl-test-set/fasta-original'),\n",
    "    set3_orig_dirs = [Path('/home/jared/projects/gambit/data/genomes/200726-gold-standard/original') / d for d in ['fasta-1', 'fasta-2']],\n",
    "    set3_genomes='/home/jared/code/gambit/gambit-publication/resources/genomes/set3/genomes.txt',\n",
    ")"
   ]
  },
  {
   "cell_type": "code",
   "execution_count": 6,
   "id": "571a7691-8897-4502-bdc2-0da0ae6fb77b",
   "metadata": {},
   "outputs": [],
   "source": [
    "processed_out = Path('data-processed') / NBNAME\n",
    "processed_out.mkdir(exist_ok=True)"
   ]
  },
  {
   "cell_type": "code",
   "execution_count": 7,
   "id": "842224b2-8f52-48c6-af25-9fc423e29105",
   "metadata": {},
   "outputs": [],
   "source": [
    "outfiles = dict(\n",
    "    assignments=processed_out / f'{DATESTR}-new-genome-file-assignments.csv',\n",
    "    set4_table=processed_out / f'{DATESTR}-david-set4-table-files.csv',\n",
    "    set3_files=Path('/home/jared/projects/gambit/data/genomes/200726-gold-standard/fasta-improved'),\n",
    "    set4_files=Path('/home/jared/projects/gambit/data/genomes/220422-nsphl-test-set/fasta'),\n",
    ")"
   ]
  },
  {
   "cell_type": "markdown",
   "id": "28277367-ddb0-419e-bf51-a42a9a2ba14b",
   "metadata": {
    "jp-MarkdownHeadingCollapsed": true,
    "tags": []
   },
   "source": [
    "## Code"
   ]
  },
  {
   "cell_type": "code",
   "execution_count": 8,
   "id": "c83c12c4-3d6f-469e-8d7a-d5b44343b1a7",
   "metadata": {},
   "outputs": [],
   "source": [
    "identity = lambda x: x"
   ]
  },
  {
   "cell_type": "code",
   "execution_count": 9,
   "id": "326ab760-37d8-4818-92de-2b28bd57f4cc",
   "metadata": {},
   "outputs": [],
   "source": [
    "def groupby(items, key=identity, value=identity):\n",
    "    gb = dict()\n",
    "    for x in items:\n",
    "        k = key(x)\n",
    "        v = value(x)\n",
    "        gb.setdefault(k, []).append(v)\n",
    "    return gb"
   ]
  },
  {
   "cell_type": "code",
   "execution_count": 10,
   "id": "bc931fa3-63fb-4b56-8d45-2df3b90c8ab4",
   "metadata": {},
   "outputs": [],
   "source": [
    "def find_duplicates(items, key=identity, value=identity):\n",
    "    gb = groupby(items, key, value)\n",
    "    return {k: v for k, v in gb.items() if len(v) > 1}"
   ]
  },
  {
   "cell_type": "code",
   "execution_count": 11,
   "id": "4cfe12bf-e0c1-45f0-8293-976612478c41",
   "metadata": {},
   "outputs": [],
   "source": [
    "import operator as op\n",
    "\n",
    "get0 = op.itemgetter(0)\n",
    "get1 = op.itemgetter(1)"
   ]
  },
  {
   "cell_type": "code",
   "execution_count": 12,
   "id": "1f706429-2917-4de2-9575-19f03d1180aa",
   "metadata": {},
   "outputs": [],
   "source": [
    "def check_bijection(pairs):\n",
    "    left = set()\n",
    "    right = set()\n",
    "    for l, r in pairs:\n",
    "        assert l not in left, l\n",
    "        assert r not in right, r\n",
    "        left.add(l)\n",
    "        right.add(r)\n",
    "    return left, right"
   ]
  },
  {
   "cell_type": "markdown",
   "id": "bda928eb-cb7b-4793-8dd6-5bceb193cc93",
   "metadata": {},
   "source": [
    "## Files"
   ]
  },
  {
   "cell_type": "markdown",
   "id": "08ec58f5-4719-4650-9418-ee3d117f5940",
   "metadata": {},
   "source": [
    "### Src files"
   ]
  },
  {
   "cell_type": "code",
   "execution_count": 13,
   "id": "42ea9e6c-fb97-49f5-a573-2c1970f67010",
   "metadata": {},
   "outputs": [],
   "source": [
    "_files = list(infiles['src_dir'].glob('*.fasta'))\n",
    "_ids = [re.fullmatch(r'(.+?)(_contigs)?', f.stem).group(1) for f in _files]\n",
    "\n",
    "src_files = dict(zip(_ids, _files))\n",
    "src_ids = set(_ids)\n",
    "\n",
    "assert len(src_ids) == len(_ids)"
   ]
  },
  {
   "cell_type": "markdown",
   "id": "7a29307d-5914-47bc-bffc-d965773eb10f",
   "metadata": {},
   "source": [
    "### David's Spreadsheet"
   ]
  },
  {
   "cell_type": "code",
   "execution_count": 14,
   "id": "3503d970-89ac-45e5-a234-2d3c30c43436",
   "metadata": {},
   "outputs": [],
   "source": [
    "david_table = pd.read_excel(infiles['david_table'])\n",
    "david_table.rename(columns={'entity:miniseq_id': 'miniseq_id'}, inplace=True)\n",
    "david_table['miniseq_id'] = david_table['miniseq_id'].astype(str)"
   ]
  },
  {
   "cell_type": "code",
   "execution_count": 15,
   "id": "3a5d0d1c-4093-470b-98b0-1185881ffd60",
   "metadata": {},
   "outputs": [
    {
     "data": {
      "text/html": [
       "<div>\n",
       "<style scoped>\n",
       "    .dataframe tbody tr th:only-of-type {\n",
       "        vertical-align: middle;\n",
       "    }\n",
       "\n",
       "    .dataframe tbody tr th {\n",
       "        vertical-align: top;\n",
       "    }\n",
       "\n",
       "    .dataframe thead th {\n",
       "        text-align: right;\n",
       "    }\n",
       "</style>\n",
       "<table border=\"1\" class=\"dataframe\">\n",
       "  <thead>\n",
       "    <tr style=\"text-align: right;\">\n",
       "      <th></th>\n",
       "      <th>miniseq_id</th>\n",
       "      <th>gambit_predicted_taxon</th>\n",
       "      <th>Closest Predicted Taxon</th>\n",
       "      <th>Alternative Result</th>\n",
       "      <th>est_coverage</th>\n",
       "      <th>genome_length</th>\n",
       "      <th>r1_mean_q</th>\n",
       "      <th>run_id</th>\n",
       "    </tr>\n",
       "  </thead>\n",
       "  <tbody>\n",
       "    <tr>\n",
       "      <th>44</th>\n",
       "      <td>21-00368644</td>\n",
       "      <td>Campylobacter jejuni</td>\n",
       "      <td>NaN</td>\n",
       "      <td>Campylobacter jejuni</td>\n",
       "      <td>43.80</td>\n",
       "      <td>1660282</td>\n",
       "      <td>35.87</td>\n",
       "      <td>NV-MN01149-210701</td>\n",
       "    </tr>\n",
       "    <tr>\n",
       "      <th>80</th>\n",
       "      <td>21-00368644</td>\n",
       "      <td>Enterobacter</td>\n",
       "      <td>NaN</td>\n",
       "      <td>Enterobacter cloacae</td>\n",
       "      <td>424.87</td>\n",
       "      <td>5041048</td>\n",
       "      <td>35.91</td>\n",
       "      <td>NV-A01307-210721</td>\n",
       "    </tr>\n",
       "  </tbody>\n",
       "</table>\n",
       "</div>"
      ],
      "text/plain": [
       "     miniseq_id gambit_predicted_taxon Closest Predicted Taxon  \\\n",
       "44  21-00368644   Campylobacter jejuni                     NaN   \n",
       "80  21-00368644           Enterobacter                     NaN   \n",
       "\n",
       "      Alternative Result  est_coverage  genome_length  r1_mean_q  \\\n",
       "44  Campylobacter jejuni         43.80        1660282      35.87   \n",
       "80  Enterobacter cloacae        424.87        5041048      35.91   \n",
       "\n",
       "               run_id  \n",
       "44  NV-MN01149-210701  \n",
       "80   NV-A01307-210721  "
      ]
     },
     "execution_count": 15,
     "metadata": {},
     "output_type": "execute_result"
    }
   ],
   "source": [
    "_dup = david_table['miniseq_id'].duplicated(False)\n",
    "david_table[_dup]"
   ]
  },
  {
   "cell_type": "code",
   "execution_count": 16,
   "id": "2e6c944a-fbba-420c-9557-8b6ff8c962bb",
   "metadata": {},
   "outputs": [
    {
     "data": {
      "text/plain": [
       "('21-00368644', True)"
      ]
     },
     "execution_count": 16,
     "metadata": {},
     "output_type": "execute_result"
    }
   ],
   "source": [
    "(dup_miniseq_id,) = david_table.loc[_dup, 'miniseq_id'].unique()\n",
    "dup_miniseq_id, dup_miniseq_id in src_ids"
   ]
  },
  {
   "cell_type": "markdown",
   "id": "6b6b1f24-0e10-47e3-b2de-f3095db9199c",
   "metadata": {},
   "source": [
    "#### Reformat"
   ]
  },
  {
   "cell_type": "markdown",
   "id": "dbdfb490-b11d-48dc-8a7d-107e2654e8d2",
   "metadata": {},
   "source": [
    "Talked with David to decide on this numbering. The file labeled `21-00368644` in the set I just got is the \"A\" version."
   ]
  },
  {
   "cell_type": "code",
   "execution_count": 17,
   "id": "c8187a8f-23e0-4ff1-a786-f9a20dec9f1b",
   "metadata": {},
   "outputs": [],
   "source": [
    "set4_ids_override = {\n",
    "    ('21-00368644', 'NV-A01307-210721'): '21-00368644A',\n",
    "    ('21-00368644', 'NV-MN01149-210701'): '21-00368644B',\n",
    "}"
   ]
  },
  {
   "cell_type": "code",
   "execution_count": 18,
   "id": "7809ed28-6758-4c68-bf65-74bd7c35c9a3",
   "metadata": {},
   "outputs": [],
   "source": [
    "set4_table = david_table[['miniseq_id', 'run_id']].copy()"
   ]
  },
  {
   "cell_type": "code",
   "execution_count": 19,
   "id": "9f45d498-0c42-4747-831e-0473b507ba2e",
   "metadata": {},
   "outputs": [],
   "source": [
    "set4_table.index = pd.Series(\n",
    "    [set4_ids_override.get((row.miniseq_id, row.run_id), row.miniseq_id) for _, row in set4_table.iterrows()],\n",
    "    name='id',\n",
    ")"
   ]
  },
  {
   "cell_type": "code",
   "execution_count": 20,
   "id": "6e0e3803-e1db-426a-be05-ef5081cab02a",
   "metadata": {},
   "outputs": [],
   "source": [
    "assert set4_table.index.is_unique\n",
    "set4_table.sort_index(inplace=True)"
   ]
  },
  {
   "cell_type": "code",
   "execution_count": 21,
   "id": "9135c3bf-ed09-4f58-8acc-1f2a71bdb931",
   "metadata": {},
   "outputs": [],
   "source": [
    "set4_ids = set(set4_table.index)"
   ]
  },
  {
   "cell_type": "markdown",
   "id": "0377569e-088a-4cb7-aaf9-6133ed71631f",
   "metadata": {},
   "source": [
    "### Original Set 3 files"
   ]
  },
  {
   "cell_type": "code",
   "execution_count": 22,
   "id": "05aa7e99-be0d-41cf-afc9-37c9a3bd4680",
   "metadata": {},
   "outputs": [],
   "source": [
    "set3_orig_files = [f for d in infiles['set3_orig_dirs'] for f in d.glob('*.fasta')]"
   ]
  },
  {
   "cell_type": "code",
   "execution_count": 23,
   "id": "15281f79-9277-42fc-a81b-f68214e7d894",
   "metadata": {},
   "outputs": [],
   "source": [
    "set3_orig = {re.fullmatch(r'(.+?)_S\\d+_L001_R1_001.+', f.stem).group(1) for f in set3_orig_files}"
   ]
  },
  {
   "cell_type": "code",
   "execution_count": 24,
   "id": "9cc75e9e-7e5a-4eb1-be3c-4fc381cbd50c",
   "metadata": {},
   "outputs": [],
   "source": [
    "set3 = {fname.split('.')[0] for fname in read_lines(infiles['set3_genomes'])}\n",
    "assert set3 < set3_orig"
   ]
  },
  {
   "cell_type": "code",
   "execution_count": 25,
   "id": "cb13e238-c839-4c81-abdb-1295c819a46d",
   "metadata": {
    "tags": []
   },
   "outputs": [],
   "source": [
    "set3_removed = set3_orig - set3"
   ]
  },
  {
   "cell_type": "code",
   "execution_count": 26,
   "id": "94167f20-f2b4-4b4a-9f05-d4d3d1393e04",
   "metadata": {},
   "outputs": [
    {
     "data": {
      "text/plain": [
       "(88, 8)"
      ]
     },
     "execution_count": 26,
     "metadata": {},
     "output_type": "execute_result"
    }
   ],
   "source": [
    "len(set3), len(set3_removed)"
   ]
  },
  {
   "cell_type": "markdown",
   "id": "67159f76-028a-473b-b601-6a611b5f67f8",
   "metadata": {},
   "source": [
    "## Make assignments"
   ]
  },
  {
   "cell_type": "code",
   "execution_count": 27,
   "id": "9303a42e-e48b-4834-a2be-89e4f63cd05d",
   "metadata": {},
   "outputs": [],
   "source": [
    "assignments = pd.DataFrame([(sid, sf.name) for sid, sf in src_files.items()], columns=['src_id', 'src_file'])\n",
    "assignments.set_index('src_id', inplace=True)\n",
    "assignments.sort_index(inplace=True)\n",
    "assignments['dst_group'] = None\n",
    "assignments['dst_id'] = None\n",
    "assignments['notes'] = None"
   ]
  },
  {
   "cell_type": "code",
   "execution_count": 28,
   "id": "777830b0-902a-4405-b389-7d7be7031d0a",
   "metadata": {},
   "outputs": [],
   "source": [
    "def isassigned(group=None): return ~assignments['dst_group'].isnull() if group is None else assignments['dst_group'] == group\n",
    "def assigned_ids(group=None): return set(assignments.index[isassigned(group)])\n",
    "def unassigned_ids(): return set(assignments.index[~isassigned()])\n",
    "def assigned_to_ids(group=None): return set(assignments.loc[isassigned(group), 'dst_id'])"
   ]
  },
  {
   "cell_type": "code",
   "execution_count": 29,
   "id": "8c03d4ac-565c-49cd-a110-3bb2dc579ee0",
   "metadata": {},
   "outputs": [],
   "source": [
    "def assign(src_id, dst_group, dst_id, note=None):\n",
    "    assert pd.isnull(assignments.loc[src_id, 'dst_group'])\n",
    "    assignments.loc[src_id, ['dst_group', 'dst_id', 'notes']] = (dst_group, dst_id, note)"
   ]
  },
  {
   "cell_type": "markdown",
   "id": "4a04bc23-6138-4156-97c3-27b3cf82e8b1",
   "metadata": {},
   "source": [
    "### Set 3"
   ]
  },
  {
   "cell_type": "code",
   "execution_count": 30,
   "id": "77bd874c-7614-4506-9adc-77b881d018ef",
   "metadata": {},
   "outputs": [
    {
     "data": {
      "text/plain": [
       "39"
      ]
     },
     "execution_count": 30,
     "metadata": {},
     "output_type": "execute_result"
    }
   ],
   "source": [
    "# Exact matches\n",
    "\n",
    "for id_ in src_ids & set3:\n",
    "    assign(id_, 'set3', id_)\n",
    "    \n",
    "len(assigned_ids('set3'))"
   ]
  },
  {
   "cell_type": "code",
   "execution_count": 31,
   "id": "44b4815c-64fb-41d6-9f41-02e9963698f5",
   "metadata": {},
   "outputs": [
    {
     "data": {
      "text/plain": [
       "48"
      ]
     },
     "execution_count": 31,
     "metadata": {},
     "output_type": "execute_result"
    }
   ],
   "source": [
    "# With characters removed from start\n",
    "\n",
    "partial_set3_pairs = [(id2, id1) for id1 in unassigned_ids() for id2 in set3 if id2.endswith(id1)]\n",
    "check_bijection(partial_set3_pairs)\n",
    "\n",
    "for set3_id, src_id in partial_set3_pairs:\n",
    "    assign(src_id, 'set3', set3_id, 'Characters missing from start')\n",
    "\n",
    "len(partial_set3_pairs)"
   ]
  },
  {
   "cell_type": "code",
   "execution_count": 32,
   "id": "8f9d40f9-e39c-4fd5-be23-97f812758a98",
   "metadata": {},
   "outputs": [
    {
     "data": {
      "text/plain": [
       "7"
      ]
     },
     "execution_count": 32,
     "metadata": {},
     "output_type": "execute_result"
    }
   ],
   "source": [
    "# To removed genomes, possibly with characters removed from start\n",
    "\n",
    "set3_rm_pairs = [(id2, id1) for id1 in unassigned_ids() for id2 in set3_removed if id2.endswith(id1)]\n",
    "assert len({id2 for id1, id2 in set3_rm_pairs}) == len(set3_rm_pairs)\n",
    "\n",
    "for set3_id, src_id in set3_rm_pairs:\n",
    "    assign(src_id, 'set3 removed', set3_id)\n",
    "\n",
    "len(set3_rm_pairs)"
   ]
  },
  {
   "cell_type": "markdown",
   "id": "46def42c-22ab-4d5e-a768-438fb35f4d98",
   "metadata": {},
   "source": [
    "### Set 4"
   ]
  },
  {
   "cell_type": "code",
   "execution_count": 33,
   "id": "35f8022b-b6dc-4897-a483-a21a05300b21",
   "metadata": {},
   "outputs": [],
   "source": [
    "# Exact matches:\n",
    "\n",
    "for id_ in src_ids & set4_ids:\n",
    "    assign(id_, 'set4', id_)"
   ]
  },
  {
   "cell_type": "code",
   "execution_count": 34,
   "id": "b179b5fc-a3fc-4ba9-a9e7-54f16a4ec787",
   "metadata": {},
   "outputs": [],
   "source": [
    "# \"21\" prefix changed to \"20\":\n",
    "\n",
    "for src_id in unassigned_ids():\n",
    "    if src_id.startswith('20'):\n",
    "        id2 = '21' + src_id[2:]\n",
    "        if id2 in set4_ids:\n",
    "            assign(src_id, 'set4', id2, '2nd character incorrect')"
   ]
  },
  {
   "cell_type": "code",
   "execution_count": 35,
   "id": "735911f2-57c9-4d49-ae76-8bd463a59e26",
   "metadata": {},
   "outputs": [],
   "source": [
    "# Duplicated miniseq ID - the one in this set is the \"A\" version\n",
    "\n",
    "assign(dup_miniseq_id, 'set4', dup_miniseq_id + 'A')"
   ]
  },
  {
   "cell_type": "markdown",
   "id": "b65169c6-6360-4fbf-ae60-4b2d33ab9ed7",
   "metadata": {},
   "source": [
    "## Finish up"
   ]
  },
  {
   "cell_type": "code",
   "execution_count": 36,
   "id": "1a444afc-b055-432b-b4e1-b9e5635f1fc3",
   "metadata": {},
   "outputs": [],
   "source": [
    "assert not unassigned_ids()"
   ]
  },
  {
   "cell_type": "markdown",
   "id": "52571c28-1589-41d2-87aa-b083754e7387",
   "metadata": {},
   "source": [
    "### Check set 3"
   ]
  },
  {
   "cell_type": "code",
   "execution_count": 37,
   "id": "7ae3a282-0097-4cc1-b62e-260361e1e401",
   "metadata": {},
   "outputs": [
    {
     "data": {
      "text/plain": [
       "{'19AC0011213'}"
      ]
     },
     "execution_count": 37,
     "metadata": {},
     "output_type": "execute_result"
    }
   ],
   "source": [
    "set3 - assigned_to_ids('set3')"
   ]
  },
  {
   "cell_type": "markdown",
   "id": "03618255-b1a5-405f-b79c-4e6b0d9d27b5",
   "metadata": {},
   "source": [
    "This file was provided separately."
   ]
  },
  {
   "cell_type": "markdown",
   "id": "d789f68b-26b0-48a7-bfbf-993775ba6738",
   "metadata": {},
   "source": [
    "### Check set 4"
   ]
  },
  {
   "cell_type": "code",
   "execution_count": 38,
   "id": "e94e7b1d-f1ad-4571-b814-337d37f40810",
   "metadata": {},
   "outputs": [],
   "source": [
    "set4_table['src_file'] = None\n",
    "set4_table['notes'] = None"
   ]
  },
  {
   "cell_type": "code",
   "execution_count": 39,
   "id": "19afa1b9-f685-4727-8944-8637c096929c",
   "metadata": {},
   "outputs": [],
   "source": [
    "for src_id, row in assignments.iterrows():\n",
    "    if row.dst_group == 'set4':\n",
    "        assert set4_table.loc[row.dst_id, 'src_file'] is None\n",
    "        set4_table.loc[row.dst_id, 'src_file'] = src_files[src_id].name"
   ]
  },
  {
   "cell_type": "code",
   "execution_count": 40,
   "id": "2fdb86f9-c271-42ca-a676-b511e1281d0d",
   "metadata": {},
   "outputs": [],
   "source": [
    "# This file provided separately\n",
    "set4_table.loc['21-00368644B', 'notes'] = 'provided separately'"
   ]
  },
  {
   "cell_type": "code",
   "execution_count": 41,
   "id": "a5637ba5-fcf3-4fe9-8b9b-5e714d01fbde",
   "metadata": {},
   "outputs": [],
   "source": [
    "# These two are being left out, apparently\n",
    "set4_table.loc[['20-00249850', '21-00475253'], 'notes'] = 'Removed'"
   ]
  },
  {
   "cell_type": "code",
   "execution_count": 42,
   "id": "ab150566-284d-4c0c-a450-676d1411335b",
   "metadata": {},
   "outputs": [
    {
     "data": {
      "text/html": [
       "<div>\n",
       "<style scoped>\n",
       "    .dataframe tbody tr th:only-of-type {\n",
       "        vertical-align: middle;\n",
       "    }\n",
       "\n",
       "    .dataframe tbody tr th {\n",
       "        vertical-align: top;\n",
       "    }\n",
       "\n",
       "    .dataframe thead th {\n",
       "        text-align: right;\n",
       "    }\n",
       "</style>\n",
       "<table border=\"1\" class=\"dataframe\">\n",
       "  <thead>\n",
       "    <tr style=\"text-align: right;\">\n",
       "      <th></th>\n",
       "      <th>miniseq_id</th>\n",
       "      <th>run_id</th>\n",
       "      <th>src_file</th>\n",
       "      <th>notes</th>\n",
       "    </tr>\n",
       "    <tr>\n",
       "      <th>id</th>\n",
       "      <th></th>\n",
       "      <th></th>\n",
       "      <th></th>\n",
       "      <th></th>\n",
       "    </tr>\n",
       "  </thead>\n",
       "  <tbody>\n",
       "    <tr>\n",
       "      <th>20-00249850</th>\n",
       "      <td>20-00249850</td>\n",
       "      <td>NV-MN01149-210701</td>\n",
       "      <td>None</td>\n",
       "      <td>Removed</td>\n",
       "    </tr>\n",
       "    <tr>\n",
       "      <th>21-00368644B</th>\n",
       "      <td>21-00368644</td>\n",
       "      <td>NV-MN01149-210701</td>\n",
       "      <td>None</td>\n",
       "      <td>provided separately</td>\n",
       "    </tr>\n",
       "    <tr>\n",
       "      <th>21-00475253</th>\n",
       "      <td>21-00475253</td>\n",
       "      <td>NV-MN01149-211203</td>\n",
       "      <td>None</td>\n",
       "      <td>Removed</td>\n",
       "    </tr>\n",
       "  </tbody>\n",
       "</table>\n",
       "</div>"
      ],
      "text/plain": [
       "               miniseq_id             run_id src_file                notes\n",
       "id                                                                        \n",
       "20-00249850   20-00249850  NV-MN01149-210701     None              Removed\n",
       "21-00368644B  21-00368644  NV-MN01149-210701     None  provided separately\n",
       "21-00475253   21-00475253  NV-MN01149-211203     None              Removed"
      ]
     },
     "execution_count": 42,
     "metadata": {},
     "output_type": "execute_result"
    }
   ],
   "source": [
    "set4_table[set4_table['src_file'].isnull()]"
   ]
  },
  {
   "cell_type": "markdown",
   "id": "712d9a7b-7509-4afe-a83f-594e5fe30b7f",
   "metadata": {},
   "source": [
    "## Write output"
   ]
  },
  {
   "cell_type": "code",
   "execution_count": 43,
   "id": "18e95aa3-fa1d-421a-86bd-9877fdf76afd",
   "metadata": {},
   "outputs": [],
   "source": [
    "assignments.to_csv(outfiles['assignments'])"
   ]
  },
  {
   "cell_type": "code",
   "execution_count": 44,
   "id": "ef45e207-d485-4f7c-97ad-80d81ab54e39",
   "metadata": {},
   "outputs": [],
   "source": [
    "set4_table.to_csv(outfiles['set4_table'])"
   ]
  },
  {
   "cell_type": "markdown",
   "id": "1d0547e1-b25a-4732-820a-8912ba2720cd",
   "metadata": {},
   "source": [
    "## Copy files"
   ]
  },
  {
   "cell_type": "code",
   "execution_count": 45,
   "id": "793eb3fd-3727-41de-90a6-cd26ddf9e0a5",
   "metadata": {},
   "outputs": [],
   "source": [
    "for src_id, row in assignments.iterrows():\n",
    "    if row.dst_group == 'set3':\n",
    "        shutil.copyfile(src_files[src_id], outfiles['set3_files'] / f'{row.dst_id}.fasta')\n",
    "    if row.dst_group == 'set4':\n",
    "        shutil.copyfile(src_files[src_id], outfiles['set4_files'] / f'{row.dst_id}.fasta')"
   ]
  }
 ],
 "metadata": {
  "kernelspec": {
   "display_name": "Gambit Publication",
   "language": "python",
   "name": "gambit-pub"
  },
  "language_info": {
   "codemirror_mode": {
    "name": "ipython",
    "version": 3
   },
   "file_extension": ".py",
   "mimetype": "text/x-python",
   "name": "python",
   "nbconvert_exporter": "python",
   "pygments_lexer": "ipython3",
   "version": "3.9.12"
  }
 },
 "nbformat": 4,
 "nbformat_minor": 5
}
