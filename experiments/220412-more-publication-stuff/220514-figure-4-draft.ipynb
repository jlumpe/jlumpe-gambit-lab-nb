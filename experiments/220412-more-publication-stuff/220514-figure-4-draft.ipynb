{
 "cells": [
  {
   "cell_type": "markdown",
   "id": "0d07f5bd-9b05-4eda-997f-2b98e40d9bc6",
   "metadata": {},
   "source": [
    "# 220514 figure 4 draft"
   ]
  },
  {
   "cell_type": "code",
   "execution_count": 1,
   "id": "e01830c0-75ab-45fa-9340-5eb18cb2c022",
   "metadata": {},
   "outputs": [],
   "source": [
    "from pathlib import Path\n",
    "from types import SimpleNamespace"
   ]
  },
  {
   "cell_type": "code",
   "execution_count": 2,
   "id": "6d54a7c2-26f2-47ae-863f-730118d272d8",
   "metadata": {},
   "outputs": [],
   "source": [
    "import pandas as pd\n",
    "import numpy as np\n",
    "import h5py as h5\n",
    "from tqdm.notebook import tqdm\n",
    "import matplotlib.pyplot as plt\n",
    "import seaborn as sns"
   ]
  },
  {
   "cell_type": "code",
   "execution_count": 3,
   "id": "f65582d5-f1bd-4bc6-8a59-53373c087e3c",
   "metadata": {},
   "outputs": [],
   "source": [
    "from gambit.db import Taxon, load_genomeset"
   ]
  },
  {
   "cell_type": "code",
   "execution_count": 4,
   "id": "74673cea-5ef5-4ad8-af5c-e69ccab76007",
   "metadata": {},
   "outputs": [],
   "source": [
    "%matplotlib inline"
   ]
  },
  {
   "cell_type": "markdown",
   "id": "952e7b05-f0ae-4d36-a6e5-9f594d8f80e2",
   "metadata": {
    "tags": []
   },
   "source": [
    "## Setup"
   ]
  },
  {
   "cell_type": "code",
   "execution_count": 5,
   "id": "1bde50ee-363b-49b1-9902-a9e6235757a0",
   "metadata": {},
   "outputs": [],
   "source": [
    "DATESTR = '220514'\n",
    "NBNAME = DATESTR + '-figure-4-draft'"
   ]
  },
  {
   "cell_type": "code",
   "execution_count": 6,
   "id": "1a4005d7-2039-4e68-90d1-a4a52c766ecd",
   "metadata": {
    "tags": []
   },
   "outputs": [],
   "source": [
    "wf_tmp_dir = Path('/home/jared/code/gambit/gambit-publication/intermediate-data/db-pw-dists')\n",
    "\n",
    "infiles = dict(\n",
    "    genomes='/home/jared/projects/gambit/data/databases/refseq-curated/1.0-beta2/gambit-genomes-1.0b2-211111.db',\n",
    "    # chunks_summary=wf_tmp_dir / 'chunks.csv',\n",
    "    chunk_taxa=wf_tmp_dir / 'chunk-taxa.csv',\n",
    "    chunk_genomes_dir=wf_tmp_dir / 'chunks',\n",
    "    dists_dir=wf_tmp_dir / 'dists',\n",
    "    overlaps='data-processed/220507-db-pw-dists/220507-db-overlaps.csv',\n",
    "    dists_summary='data-processed/220507-db-pw-dists/220507-db-dists-summary.csv',\n",
    ")"
   ]
  },
  {
   "cell_type": "code",
   "execution_count": 7,
   "id": "be963c72-6507-4449-9545-c1a44a3d6650",
   "metadata": {},
   "outputs": [],
   "source": [
    "processed_out = Path('data-processed/') / NBNAME\n",
    "processed_out.mkdir(exist_ok=True)"
   ]
  },
  {
   "cell_type": "code",
   "execution_count": 8,
   "id": "27cd2cab-e6b5-4e34-a843-e766033fb383",
   "metadata": {},
   "outputs": [],
   "source": [
    "plot_tids = [801, 869]"
   ]
  },
  {
   "cell_type": "markdown",
   "id": "b06e24ae-b50d-4686-866d-48f4fcaad7b9",
   "metadata": {},
   "source": [
    "## Code"
   ]
  },
  {
   "cell_type": "code",
   "execution_count": 9,
   "id": "d134e10a-a48a-433d-8f04-eda8afd73fa7",
   "metadata": {},
   "outputs": [],
   "source": [
    "def fix_nullable_int_col(df, col):\n",
    "    \"\"\"Fix column containing ints/Nones after Pandas coerces it to float data type.\"\"\"\n",
    "    df[col] = np.asarray([None if pd.isnull(v) else int(v) for v in df[col]], dtype=object)"
   ]
  },
  {
   "cell_type": "markdown",
   "id": "fa712701-3afa-44f2-a791-35e77968de7a",
   "metadata": {},
   "source": [
    "## Load data"
   ]
  },
  {
   "cell_type": "markdown",
   "id": "0f213fcd-0bdf-4c34-81ad-a24fda3cf535",
   "metadata": {},
   "source": [
    "### Database"
   ]
  },
  {
   "cell_type": "code",
   "execution_count": 10,
   "id": "30d677b5-bdd2-4987-beb0-01810b0000ad",
   "metadata": {},
   "outputs": [],
   "source": [
    "session, gset = load_genomeset(infiles['genomes'])"
   ]
  },
  {
   "cell_type": "code",
   "execution_count": 11,
   "id": "3dd0e689-dddf-4199-a49d-57b7b113a6ca",
   "metadata": {},
   "outputs": [],
   "source": [
    "taxa_by_id = {t.id: t for t in gset.taxa}"
   ]
  },
  {
   "cell_type": "raw",
   "id": "e7d3c405-cbee-48a7-92a9-5fe22dddfad9",
   "metadata": {},
   "source": [
    "taxa_df = pd.read_csv('data-processed/220507-db-pw-dists/220507-db-dists-summary.csv', index_col=0)"
   ]
  },
  {
   "cell_type": "markdown",
   "id": "d8f394fc-12df-4526-8c59-89e2c5234e74",
   "metadata": {},
   "source": [
    "### Distance matrix chunks"
   ]
  },
  {
   "cell_type": "raw",
   "id": "59c7be76-862c-47ad-956d-b1d36ff67f21",
   "metadata": {},
   "source": [
    "chunks_summary = pd.read_csv(wf_dir / 'intermediate-data/db-pw-dists/chunks.csv', index_col=0)\n",
    "nchunks = chunks_summary.shape[0]"
   ]
  },
  {
   "cell_type": "code",
   "execution_count": 12,
   "id": "ac052ac8-99e8-4c79-b9e3-f76855a8310f",
   "metadata": {},
   "outputs": [],
   "source": [
    "chunk_taxa = pd.read_csv(infiles['chunk_taxa'], index_col=0)\n",
    "fix_nullable_int_col(chunk_taxa, 'ncbi_id')\n",
    "\n",
    "nchunks = chunk_taxa['chunk'].max() + 1"
   ]
  },
  {
   "cell_type": "code",
   "execution_count": 13,
   "id": "4d0639a7-44cb-4fc0-b973-4d2b320d497a",
   "metadata": {},
   "outputs": [],
   "source": [
    "chunk_genomes = pd.concat(\n",
    "    [\n",
    "        pd.read_csv(infiles['chunk_genomes_dir'] / f'{i}.csv', index_col=0)\n",
    "        for i in range(nchunks)\n",
    "    ],\n",
    "    keys=range(nchunks),\n",
    "    names=['chunk'],\n",
    ")"
   ]
  },
  {
   "cell_type": "code",
   "execution_count": 14,
   "id": "365604d4-3308-4209-ba07-a4e326fb6b2f",
   "metadata": {},
   "outputs": [],
   "source": [
    "chunk_pairs = [(i, j) for i in range(nchunks) for j in range(i, nchunks)]"
   ]
  },
  {
   "cell_type": "code",
   "execution_count": 15,
   "id": "40c68206-46f5-4617-a3ec-eaf0b3f12221",
   "metadata": {},
   "outputs": [],
   "source": [
    "dmat_files = {(i, j): infiles['dists_dir'] / f'{i}-{j}.h5' for i, j in chunk_pairs}"
   ]
  },
  {
   "cell_type": "markdown",
   "id": "30dc6c82-b590-48f5-993e-d96cb3b1fd15",
   "metadata": {},
   "source": [
    "### Last notebook"
   ]
  },
  {
   "cell_type": "code",
   "execution_count": 16,
   "id": "380ca947-36d9-47fe-ac4e-c3b43df6ca11",
   "metadata": {},
   "outputs": [],
   "source": [
    "dists_df = pd.read_csv(infiles['dists_summary'], index_col=0)\n",
    "dists_df.index.name = 'taxon_id'"
   ]
  },
  {
   "cell_type": "code",
   "execution_count": 17,
   "id": "2df0e2c0-e528-48d4-a464-c398976f4e83",
   "metadata": {},
   "outputs": [],
   "source": [
    "overlaps_df = pd.read_csv(infiles['overlaps'], index_col=[0, 1])"
   ]
  },
  {
   "cell_type": "markdown",
   "id": "366227cd-93dd-46bb-af9d-d8f31cc992b5",
   "metadata": {},
   "source": [
    "## More code"
   ]
  },
  {
   "cell_type": "code",
   "execution_count": 18,
   "id": "b3c28883-a498-474f-b24d-b48267d773f8",
   "metadata": {
    "tags": []
   },
   "outputs": [],
   "source": [
    "def _get_taxon(t):\n",
    "    return t if isinstance(t, Taxon) else taxa_by_id[t]\n",
    "\n",
    "def get_taxon_chunk(taxon):\n",
    "    return chunk_taxa.loc[_get_taxon(taxon).root().id, 'chunk']\n",
    "\n",
    "def get_genome_indices_direct(chunk, tids, asint=True):\n",
    "    bools = np.in1d(chunk_genomes.loc[chunk, 'taxon_id'], tids)\n",
    "    return np.flatnonzero(bools) if asint else bools\n",
    "\n",
    "def get_genome_indices_subtree(chunk, taxon, asint=True):\n",
    "    subtree_tids = [t.id for t in taxon.traverse()]\n",
    "    return get_genome_indices_direct(chunk, subtree_tids, asint)\n",
    "\n",
    "\n",
    "def load_matrix_subset(dataset, rows, cols):\n",
    "    assert dataset.ndim == 2\n",
    "    rows = np.asarray(rows)\n",
    "    cols = np.asarray(cols)\n",
    "    assert rows.ndim == 1\n",
    "    assert cols.ndim == 1\n",
    "    \n",
    "    if rows.dtype.kind == 'b':\n",
    "        rows = np.flatnonzero(rows)\n",
    "    elif rows.dtype.kind not in 'ui':\n",
    "        raise ValueError('Rows dtype')\n",
    "        \n",
    "    if cols.dtype.kind == 'b':\n",
    "        ncol = cols.sum()\n",
    "    elif cols.dtype.kind in 'ui':\n",
    "        ncol = len(cols)\n",
    "    else:\n",
    "        raise ValueError('Cols dtype')\n",
    "        \n",
    "    out = np.empty((len(rows), ncol), dtype=dataset.dtype)\n",
    "    for i, r in enumerate(rows):\n",
    "        out[i, :] = dataset[r, cols]\n",
    "        \n",
    "    return out\n",
    "\n",
    "\n",
    "def load_matrix_triu(dataset, indices):\n",
    "    assert dataset.ndim == 2\n",
    "    assert indices.ndim == 1\n",
    "    assert indices.dtype.kind in 'ui'\n",
    "    n = len(indices)\n",
    "    npairs = n * (n - 1) // 2\n",
    "    \n",
    "    out = np.empty(npairs, dtype=dataset.dtype)\n",
    "    \n",
    "    start = 0\n",
    "    for i, ix in enumerate(indices):\n",
    "        l = n - i - 1\n",
    "        out[start:start + l] = dataset[ix, indices[i+1:]]\n",
    "        start += l\n",
    "        \n",
    "    assert start == npairs\n",
    "    return out\n",
    "        \n",
    "\n",
    "def load_inter_dists(taxon1, taxon2, flat=False):\n",
    "    taxon1 = _get_taxon(taxon1)\n",
    "    taxon2 = _get_taxon(taxon2)\n",
    "    chunk1 = get_taxon_chunk(taxon1)\n",
    "    chunk2 = get_taxon_chunk(taxon2)\n",
    "    \n",
    "    if chunk1 > chunk2:\n",
    "        taxon1, taxon2 = taxon2, taxon1\n",
    "        chunk1, chunk2 = chunk2, chunk1\n",
    "        flipped = True\n",
    "    else:\n",
    "        flipped = False\n",
    "        \n",
    "    indices1 = get_genome_indices_subtree(chunk1, taxon1)\n",
    "    indices2 = get_genome_indices_subtree(chunk2, taxon2)\n",
    "    \n",
    "    with h5.File(dmat_files[chunk1, chunk2]) as file:\n",
    "        dmat = file['dmat']\n",
    "        dists = load_matrix_subset(dmat, indices1, indices2)\n",
    "        \n",
    "        if flat:\n",
    "            return dists.flatten()\n",
    "        return dists.t if flipped else dists\n",
    "    \n",
    "\n",
    "def load_intra_dists(taxon):\n",
    "    taxon = _get_taxon(taxon)\n",
    "    chunk = get_taxon_chunk(taxon)\n",
    "    indices = get_genome_indices_subtree(chunk, taxon)\n",
    "    \n",
    "    with h5.File(dmat_files[chunk, chunk]) as file:\n",
    "        dmat = file['dmat']\n",
    "        return load_matrix_triu(dmat, indices)"
   ]
  },
  {
   "cell_type": "markdown",
   "id": "22bd8208-7286-4d99-8287-df5dc88d9f1a",
   "metadata": {},
   "source": [
    "## Calculations"
   ]
  },
  {
   "cell_type": "code",
   "execution_count": 19,
   "id": "b87a3722-eba7-4404-8ef2-ce57e4e6eb30",
   "metadata": {},
   "outputs": [
    {
     "data": {
      "application/vnd.jupyter.widget-view+json": {
       "model_id": "663a0090a1c4478d9b3eb0c1a291485f",
       "version_major": 2,
       "version_minor": 0
      },
      "text/plain": [
       "  0%|          | 0/2 [00:00<?, ?it/s]"
      ]
     },
     "metadata": {},
     "output_type": "display_data"
    }
   ],
   "source": [
    "plot_data = []\n",
    "\n",
    "for tid in tqdm(plot_tids):\n",
    "    taxon = taxa_by_id[tid]\n",
    "    \n",
    "    data = SimpleNamespace(taxon=taxon)\n",
    "    plot_data.append(data)\n",
    "\n",
    "    data.subtree_tids = [leaf.id for leaf in taxon.traverse()]\n",
    "    data.taxon_chunk = get_taxon_chunk(taxon)\n",
    "\n",
    "    # Genome indices\n",
    "    genome_chunk_indices_bool = chunk_genomes.loc[data.taxon_chunk, 'taxon_id'].isin(data.subtree_tids)\n",
    "    genome_chunk_indices = np.flatnonzero(genome_chunk_indices_bool)\n",
    "    data.subtree_gids = genome_chunk_indices_bool.index[genome_chunk_indices_bool]\n",
    "    ngenomes = len(genome_chunk_indices)\n",
    "\n",
    "    # Find minimum distances\n",
    "    data.min_inter_dist = np.full(ngenomes, np.inf, dtype=np.float32)\n",
    "    data.min_inter_gid = np.full(ngenomes, -1, dtype=int)\n",
    "    data.min_inter_tid = np.full(ngenomes, -1, dtype=int)\n",
    "\n",
    "    data.closest_dist = np.full(ngenomes, np.inf, dtype=np.float32)\n",
    "    data.closest_gid = np.full(ngenomes, -1, dtype=int)\n",
    "    data.closest_tid = np.full(ngenomes, -1, dtype=int)\n",
    "\n",
    "    for chunk in range(nchunks):\n",
    "        this_chunk_genomes = chunk_genomes.loc[chunk]\n",
    "\n",
    "        flipped = chunk < data.taxon_chunk\n",
    "        pair = (chunk, data.taxon_chunk) if flipped else (data.taxon_chunk, chunk)\n",
    "\n",
    "        with h5.File(dmat_files[pair]) as file:\n",
    "            dmat = file['dmat']\n",
    "            for i, ix in enumerate(genome_chunk_indices):\n",
    "                row = dmat[:, ix] if flipped else dmat[ix, :]\n",
    "                inter_row = np.ma.masked_where(genome_chunk_indices_bool, row) if chunk == data.taxon_chunk else row\n",
    "                other_row = np.ma.masked_where(np.arange(this_chunk_genomes.shape[0]) == ix, row) if chunk == data.taxon_chunk else row\n",
    "\n",
    "                inter_min_idx = np.argmin(inter_row)\n",
    "                min_d = row[inter_min_idx]\n",
    "                if min_d < data.min_inter_dist[i]:\n",
    "                    data.min_inter_dist[i] = min_d\n",
    "                    data.min_inter_gid[i] = this_chunk_genomes.index[inter_min_idx]\n",
    "                    data.min_inter_tid[i] = this_chunk_genomes['taxon_id'].iloc[inter_min_idx]\n",
    "\n",
    "                min_idx = np.argmin(other_row)\n",
    "                min_d = row[min_idx]\n",
    "                if min_d < data.closest_dist[i]:\n",
    "                    data.closest_dist[i] = min_d\n",
    "                    data.closest_gid[i] = this_chunk_genomes.index[inter_min_idx]\n",
    "                    data.closest_tid[i] = this_chunk_genomes['taxon_id'].iloc[inter_min_idx]\n",
    "                    \n",
    "    # Inter taxa/distances\n",
    "    data.out_taxa = [taxa_by_id[tid] for tid in set(data.min_inter_tid)]\n",
    "    data.inter_dists = [load_inter_dists(taxon, out) for out in data.out_taxa]\n",
    "    \n",
    "    # Intra distances\n",
    "    data.intra_dists = load_intra_dists(taxon)"
   ]
  },
  {
   "cell_type": "markdown",
   "id": "5a77ad2d-66c1-496e-987b-d65d394e2eec",
   "metadata": {},
   "source": [
    "## Plot"
   ]
  },
  {
   "cell_type": "code",
   "execution_count": 20,
   "id": "11513cb7-2582-49b1-a199-cc2d448f22eb",
   "metadata": {},
   "outputs": [],
   "source": [
    "plt.style.use('default')\n",
    "\n",
    "plt.rcParams.update({\n",
    "    'axes.grid': True,\n",
    "})"
   ]
  },
  {
   "cell_type": "code",
   "execution_count": 21,
   "id": "7d203360-9d1a-4727-8e29-845c63fa55f3",
   "metadata": {},
   "outputs": [],
   "source": [
    "palette = sns.color_palette('Set1')"
   ]
  },
  {
   "cell_type": "code",
   "execution_count": 22,
   "id": "7c56b280-f55b-49e6-9984-3008d4f0062f",
   "metadata": {},
   "outputs": [],
   "source": [
    "def histogram(ax, x, **kw):\n",
    "    sns.histplot(x, ax=ax, element='step', **kw)"
   ]
  },
  {
   "cell_type": "code",
   "execution_count": 23,
   "id": "85595d42-3070-498c-adb3-bb8f557831a7",
   "metadata": {},
   "outputs": [
    {
     "data": {
      "image/png": "[encoded data removed]",
      "text/plain": [
       "<Figure size 1200x400 with 1 Axes>"
      ]
     },
     "metadata": {},
     "output_type": "display_data"
    },
    {
     "data": {
      "image/png": "[encoded data removed]",
      "text/plain": [
       "<Figure size 1200x400 with 1 Axes>"
      ]
     },
     "metadata": {},
     "output_type": "display_data"
    }
   ],
   "source": [
    "for data in plot_data:\n",
    "    fig = plt.figure(figsize=(12, 4))\n",
    "    ax = plt.gca()\n",
    "    ax.yaxis.set_visible(False)\n",
    "    \n",
    "    intra_names = ', '.join(taxa_by_id[tid].name for tid in set(data.min_inter_tid))\n",
    "    \n",
    "    values = [data.intra_dists, data.closest_dist, data.inter_dists[0].flatten()]\n",
    "    labels = ['All intra-species', 'Minimum', f'Minimum Intra-Species ({intra_names})']\n",
    "    xmax = max(v.max() for v in values)\n",
    "\n",
    "    for x, label, color in zip(values, labels, palette):\n",
    "        sns.histplot(\n",
    "            x=x,\n",
    "            element='step',\n",
    "            binrange=(0, xmax),\n",
    "            binwidth=0.01,\n",
    "            alpha=.3,\n",
    "            color=color,\n",
    "            stat='density',\n",
    "            label=label,\n",
    "        )\n",
    "        \n",
    "    ax.axvline(\n",
    "        data.taxon.distance_threshold,\n",
    "        lw=2,\n",
    "        linestyle='dashed',\n",
    "        color=palette[0],\n",
    "        label='Threshold',\n",
    "    )\n",
    "    \n",
    "    \n",
    "    ax.set_title(data.taxon.name)\n",
    "    ax.set_xlabel('GAMBIT Distance')\n",
    "    plt.tight_layout(rect=(0, 0.05, 1, 1))\n",
    "    ax.legend(\n",
    "        ncol=4,\n",
    "        # loc='lower center',\n",
    "        loc='upper right',\n",
    "    )\n",
    "    \n",
    "    name = data.taxon.name.replace(' ', '_')\n",
    "    plt.savefig(processed_out / f'{DATESTR}-fig4-{name}.png')"
   ]
  }
 ],
 "metadata": {
  "kernelspec": {
   "display_name": "Gambit Publication",
   "language": "python",
   "name": "gambit-pub"
  },
  "language_info": {
   "codemirror_mode": {
    "name": "ipython",
    "version": 3
   },
   "file_extension": ".py",
   "mimetype": "text/x-python",
   "name": "python",
   "nbconvert_exporter": "python",
   "pygments_lexer": "ipython3",
   "version": "3.9.12"
  }
 },
 "nbformat": 4,
 "nbformat_minor": 5
}
