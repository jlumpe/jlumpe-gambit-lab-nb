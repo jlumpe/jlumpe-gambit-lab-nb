{
 "cells": [
  {
   "cell_type": "code",
   "execution_count": 1,
   "id": "b8e7adc3-6c4c-4d38-8d63-77a87839cd29",
   "metadata": {},
   "outputs": [],
   "source": [
    "from pathlib import Path\n",
    "import json\n",
    "from urllib.request import urlopen"
   ]
  },
  {
   "cell_type": "code",
   "execution_count": 2,
   "id": "7ff5a35d-8f5f-4c03-a669-f8656e4e87e1",
   "metadata": {},
   "outputs": [],
   "source": [
    "import pandas as pd\n",
    "from tqdm import tqdm\n",
    "from Bio import Entrez"
   ]
  },
  {
   "cell_type": "code",
   "execution_count": 3,
   "id": "8f25abd6-39b2-4cc0-9b49-8a15aee70475",
   "metadata": {},
   "outputs": [],
   "source": [
    "from entrez_tools.esearch import esearch_accession\n",
    "from entrez_tools.esummary import esummary_json\n",
    "from entrez_tools.db.assembly import seq_url_from_esummary"
   ]
  },
  {
   "cell_type": "code",
   "execution_count": 4,
   "id": "27ce6ab5-bc9c-40f5-af79-319c492b9030",
   "metadata": {},
   "outputs": [],
   "source": [
    "Entrez.email = 'mjlumpe@gmail.com'"
   ]
  },
  {
   "cell_type": "markdown",
   "id": "6d06b29a-9b09-405f-b14d-bf4150652ce3",
   "metadata": {
    "tags": []
   },
   "source": [
    "## Setup"
   ]
  },
  {
   "cell_type": "code",
   "execution_count": 5,
   "id": "d51b3529-5366-44db-b22e-69cde0ff87cb",
   "metadata": {},
   "outputs": [],
   "source": [
    "DATESTR = '220220'\n",
    "NBNAME = DATESTR + '-konstantinidis-2005'"
   ]
  },
  {
   "cell_type": "code",
   "execution_count": 6,
   "id": "9511f064-429e-4e77-94ef-ba556d7681a8",
   "metadata": {},
   "outputs": [],
   "source": [
    "infiles = dict(\n",
    "    genomes=Path('../../data/external/konstantinidis-2005/210910-genomes.csv'),\n",
    ")"
   ]
  },
  {
   "cell_type": "code",
   "execution_count": 7,
   "id": "6594cd62-dca2-43e3-b731-e453ea4f65dd",
   "metadata": {},
   "outputs": [],
   "source": [
    "processed_out = Path('data-processed') / NBNAME\n",
    "processed_out.mkdir(exist_ok=True)\n",
    "\n",
    "outfiles = dict(\n",
    "    table=processed_out / f'{NBNAME}-genomes.csv',\n",
    "    esummaries=processed_out / f'{NBNAME}-genome-esummaries.tar.gz',\n",
    ")"
   ]
  },
  {
   "cell_type": "markdown",
   "id": "e49c44b8-4cd5-432a-8c9e-d4dfa6f4b252",
   "metadata": {
    "tags": []
   },
   "source": [
    "## Reformat existing table"
   ]
  },
  {
   "cell_type": "code",
   "execution_count": 8,
   "id": "fdce100b-66a6-402b-b1ae-67810721f673",
   "metadata": {},
   "outputs": [],
   "source": [
    "df = pd.read_csv(infiles['genomes'])"
   ]
  },
  {
   "cell_type": "code",
   "execution_count": 9,
   "id": "7ced2272-e0ac-4685-a8d7-ec7978581706",
   "metadata": {},
   "outputs": [],
   "source": [
    "del df['description']\n",
    "del df['former_name']"
   ]
  },
  {
   "cell_type": "code",
   "execution_count": 10,
   "id": "831a427b-bbf5-48ac-a3be-08e593554f97",
   "metadata": {},
   "outputs": [],
   "source": [
    "df.rename(columns=dict(assembly='assembly_accession'), inplace=True)"
   ]
  },
  {
   "cell_type": "markdown",
   "id": "69b88045-ec03-4500-9de8-6668d7e77e4d",
   "metadata": {},
   "source": [
    "## Get NCBI data"
   ]
  },
  {
   "cell_type": "code",
   "execution_count": 11,
   "id": "c63e03cb-7ac5-47c9-a741-f8f77c12060c",
   "metadata": {},
   "outputs": [],
   "source": [
    "df.insert(2, 'assembly_uid', None)"
   ]
  },
  {
   "cell_type": "code",
   "execution_count": 12,
   "id": "7e84318e-5424-49a0-9a2d-663b5ac76661",
   "metadata": {},
   "outputs": [
    {
     "name": "stderr",
     "output_type": "stream",
     "text": [
      "70it [00:27,  2.59it/s]\n"
     ]
    }
   ],
   "source": [
    "for i, row in tqdm(df.iterrows()):\n",
    "    if row['assembly_uid'] is None:\n",
    "        df.loc[i, 'assembly_uid'] = esearch_accession('assembly', row['assembly_accession'])"
   ]
  },
  {
   "cell_type": "code",
   "execution_count": 13,
   "id": "b2e78a72-5d38-4525-8716-ba41534bae45",
   "metadata": {},
   "outputs": [],
   "source": [
    "summaries = esummary_json('assembly', list(df['assembly_uid']))"
   ]
  },
  {
   "cell_type": "markdown",
   "id": "58795bcc-f33b-4298-8bef-2931a43388d2",
   "metadata": {},
   "source": [
    "## Add additional columns"
   ]
  },
  {
   "cell_type": "code",
   "execution_count": 14,
   "id": "5f36885a-ea85-4ee6-bc2d-4a53046e61bb",
   "metadata": {},
   "outputs": [],
   "source": [
    "extra = []\n",
    "\n",
    "for aid in df['assembly_uid']:\n",
    "    s = summaries[aid]\n",
    "    extra.append(dict(\n",
    "        organism=s['organism'],\n",
    "        taxid=s['taxid'],\n",
    "        filename=s['assemblyaccession'] + '.fasta.gz',\n",
    "        url=seq_url_from_esummary(s),\n",
    "    ))"
   ]
  },
  {
   "cell_type": "code",
   "execution_count": 15,
   "id": "0168592e-ed8f-48e8-8b85-859f74dfb600",
   "metadata": {},
   "outputs": [],
   "source": [
    "df = pd.concat([df, pd.DataFrame.from_records(extra)], axis=1)"
   ]
  },
  {
   "cell_type": "markdown",
   "id": "9f1c7cdc-8412-4a0e-8d91-674e94859477",
   "metadata": {
    "tags": []
   },
   "source": [
    "## Get sequence file checksums"
   ]
  },
  {
   "cell_type": "code",
   "execution_count": 16,
   "id": "6d4719ca-a3da-446d-962d-e5fc41645cb2",
   "metadata": {},
   "outputs": [],
   "source": [
    "def get_md5(ftp_url):\n",
    "    ftp_dir, filename = ftp_url.rsplit('/', 1)\n",
    "    data = urlopen(ftp_dir + '/md5checksums.txt').read().decode()\n",
    "    \n",
    "    for line in data.splitlines():\n",
    "        checksum, file = line.split()\n",
    "        if file == './' + filename:\n",
    "            return checksum\n",
    "        \n",
    "    assert 0"
   ]
  },
  {
   "cell_type": "code",
   "execution_count": 17,
   "id": "e810372c-207e-4af6-aa4d-94675340ceb9",
   "metadata": {},
   "outputs": [],
   "source": [
    "df['md5'] = None"
   ]
  },
  {
   "cell_type": "code",
   "execution_count": 18,
   "id": "878b582c-845f-4e49-aea1-092b02c74c3b",
   "metadata": {},
   "outputs": [
    {
     "name": "stderr",
     "output_type": "stream",
     "text": [
      "70it [00:54,  1.29it/s]\n"
     ]
    }
   ],
   "source": [
    "for i, row in tqdm(df.iterrows()):\n",
    "    if row['md5'] is None:\n",
    "        df.loc[i, 'md5'] = get_md5(row['url'])"
   ]
  },
  {
   "cell_type": "markdown",
   "id": "b480996d-c5ec-4e59-8752-4f60b5d730a7",
   "metadata": {},
   "source": [
    "## Write output"
   ]
  },
  {
   "cell_type": "code",
   "execution_count": 19,
   "id": "a386fb45-01fa-4a77-9afb-a3e2557e3575",
   "metadata": {},
   "outputs": [],
   "source": [
    "df.to_csv(outfiles['table'], index=False)"
   ]
  },
  {
   "cell_type": "code",
   "execution_count": 20,
   "id": "79f4b891-641e-46a8-ac32-7fa3d36a541a",
   "metadata": {},
   "outputs": [],
   "source": [
    "esummary_file = outfiles['esummaries']\n",
    "\n",
    "tmpdir = esummary_file.parent / esummary_file.name.split('.')[0]\n",
    "tmpdir.mkdir()\n",
    "\n",
    "fnames = []\n",
    "\n",
    "for i, row in df.iterrows():\n",
    "    fname = row.assembly_accession + '.json'\n",
    "    with open(tmpdir / fname, 'w') as f:\n",
    "        json.dump(summaries[row.assembly_uid], f)\n",
    "        \n",
    "    fnames.append(fname)\n",
    "    \n",
    "!tar -czf {esummary_file} -C {tmpdir} .\n",
    "!rm -rf {tmpdir}"
   ]
  }
 ],
 "metadata": {
  "kernelspec": {
   "display_name": "GAMBIT",
   "language": "python",
   "name": "gambit"
  },
  "language_info": {
   "codemirror_mode": {
    "name": "ipython",
    "version": 3
   },
   "file_extension": ".py",
   "mimetype": "text/x-python",
   "name": "python",
   "nbconvert_exporter": "python",
   "pygments_lexer": "ipython3",
   "version": "3.9.10"
  }
 },
 "nbformat": 4,
 "nbformat_minor": 5
}
