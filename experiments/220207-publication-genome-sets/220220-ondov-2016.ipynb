{
 "cells": [
  {
   "cell_type": "code",
   "execution_count": 1,
   "id": "b8e7adc3-6c4c-4d38-8d63-77a87839cd29",
   "metadata": {},
   "outputs": [],
   "source": [
    "from pathlib import Path\n",
    "import json\n",
    "from urllib.request import urlopen\n",
    "import tarfile"
   ]
  },
  {
   "cell_type": "code",
   "execution_count": 2,
   "id": "7ff5a35d-8f5f-4c03-a669-f8656e4e87e1",
   "metadata": {},
   "outputs": [],
   "source": [
    "import pandas as pd\n",
    "from tqdm import tqdm"
   ]
  },
  {
   "cell_type": "code",
   "execution_count": null,
   "id": "27ce6ab5-bc9c-40f5-af79-319c492b9030",
   "metadata": {},
   "outputs": [],
   "source": [
    "Entrez.email = 'mjlumpe@gmail.com'"
   ]
  },
  {
   "cell_type": "markdown",
   "id": "6d06b29a-9b09-405f-b14d-bf4150652ce3",
   "metadata": {
    "tags": []
   },
   "source": [
    "## Setup"
   ]
  },
  {
   "cell_type": "code",
   "execution_count": 4,
   "id": "d51b3529-5366-44db-b22e-69cde0ff87cb",
   "metadata": {},
   "outputs": [],
   "source": [
    "DATESTR = '220222'\n",
    "NBNAME = DATESTR + '-ondov-2016'"
   ]
  },
  {
   "cell_type": "code",
   "execution_count": 5,
   "id": "9511f064-429e-4e77-94ef-ba556d7681a8",
   "metadata": {},
   "outputs": [],
   "source": [
    "infiles = dict(\n",
    "    ids=Path('../../data/external/ondov-2016/Escherichia/ids.txt'),\n",
    "    esummaries=Path('../../data/external/ondov-2016/Escherichia/210902-Escherichia-genome-assembly-summaries.tar.gz'),\n",
    "    genomes=Path('../../data/processed/210902-mash-Escherichia-genomes/210902-get-genomes/210902-mash-genomes-filtered.csv'),\n",
    ")"
   ]
  },
  {
   "cell_type": "code",
   "execution_count": 6,
   "id": "6594cd62-dca2-43e3-b731-e453ea4f65dd",
   "metadata": {},
   "outputs": [],
   "source": [
    "processed_out = Path('data-processed') / NBNAME\n",
    "processed_out.mkdir(exist_ok=True)\n",
    "\n",
    "outfiles = dict(\n",
    "    table=processed_out / f'{NBNAME}-genomes.csv',\n",
    ")"
   ]
  },
  {
   "cell_type": "markdown",
   "id": "e49c44b8-4cd5-432a-8c9e-d4dfa6f4b252",
   "metadata": {
    "tags": []
   },
   "source": [
    "## Reformat existing table"
   ]
  },
  {
   "cell_type": "code",
   "execution_count": 7,
   "id": "d0873860-b8af-46e8-8271-105f24eb0dfc",
   "metadata": {},
   "outputs": [
    {
     "data": {
      "text/html": [
       "<div>\n",
       "<style scoped>\n",
       "    .dataframe tbody tr th:only-of-type {\n",
       "        vertical-align: middle;\n",
       "    }\n",
       "\n",
       "    .dataframe tbody tr th {\n",
       "        vertical-align: top;\n",
       "    }\n",
       "\n",
       "    .dataframe thead th {\n",
       "        text-align: right;\n",
       "    }\n",
       "</style>\n",
       "<table border=\"1\" class=\"dataframe\">\n",
       "  <thead>\n",
       "    <tr style=\"text-align: right;\">\n",
       "      <th></th>\n",
       "      <th>group</th>\n",
       "      <th>strain</th>\n",
       "      <th>assembly_uid</th>\n",
       "      <th>assembly_accession</th>\n",
       "      <th>organism</th>\n",
       "      <th>taxid</th>\n",
       "      <th>filename</th>\n",
       "      <th>url</th>\n",
       "      <th>md5</th>\n",
       "    </tr>\n",
       "  </thead>\n",
       "  <tbody>\n",
       "    <tr>\n",
       "      <th>0</th>\n",
       "      <td>Enterics</td>\n",
       "      <td>E. coli O157:H7 Sakai</td>\n",
       "      <td>1755381</td>\n",
       "      <td>GCF_000008865.2</td>\n",
       "      <td>Escherichia coli O157:H7 str. Sakai (E. coli)</td>\n",
       "      <td>386585</td>\n",
       "      <td>GCF_000008865.2.fasta.gz</td>\n",
       "      <td>ftp://ftp.ncbi.nlm.nih.gov/genomes/all/GCF/000...</td>\n",
       "      <td>e7bf4b6a0fa4cbd17a2cac69125311e0</td>\n",
       "    </tr>\n",
       "    <tr>\n",
       "      <th>1</th>\n",
       "      <td>Enterics</td>\n",
       "      <td>E. coli 0157:H7 EDL933</td>\n",
       "      <td>199821</td>\n",
       "      <td>GCF_000732965.1</td>\n",
       "      <td>Escherichia coli O157:H7 str. EDL933 (E. coli)</td>\n",
       "      <td>155864</td>\n",
       "      <td>GCF_000732965.1.fasta.gz</td>\n",
       "      <td>ftp://ftp.ncbi.nlm.nih.gov/genomes/all/GCF/000...</td>\n",
       "      <td>c16ebef14b4b9536207b545b80e0b2e5</td>\n",
       "    </tr>\n",
       "    <tr>\n",
       "      <th>2</th>\n",
       "      <td>Enterics</td>\n",
       "      <td>E. coli K12</td>\n",
       "      <td>79781</td>\n",
       "      <td>GCF_000005845.2</td>\n",
       "      <td>Escherichia coli str. K-12 substr. MG1655 (E. ...</td>\n",
       "      <td>511145</td>\n",
       "      <td>GCF_000005845.2.fasta.gz</td>\n",
       "      <td>ftp://ftp.ncbi.nlm.nih.gov/genomes/all/GCF/000...</td>\n",
       "      <td>c13d459b5caa702ff7e1f26fe44b8ad7</td>\n",
       "    </tr>\n",
       "  </tbody>\n",
       "</table>\n",
       "</div>"
      ],
      "text/plain": [
       "      group                  strain  assembly_uid assembly_accession  \\\n",
       "0  Enterics   E. coli O157:H7 Sakai       1755381    GCF_000008865.2   \n",
       "1  Enterics  E. coli 0157:H7 EDL933        199821    GCF_000732965.1   \n",
       "2  Enterics             E. coli K12         79781    GCF_000005845.2   \n",
       "\n",
       "                                            organism   taxid  \\\n",
       "0      Escherichia coli O157:H7 str. Sakai (E. coli)  386585   \n",
       "1     Escherichia coli O157:H7 str. EDL933 (E. coli)  155864   \n",
       "2  Escherichia coli str. K-12 substr. MG1655 (E. ...  511145   \n",
       "\n",
       "                   filename  \\\n",
       "0  GCF_000008865.2.fasta.gz   \n",
       "1  GCF_000732965.1.fasta.gz   \n",
       "2  GCF_000005845.2.fasta.gz   \n",
       "\n",
       "                                                 url  \\\n",
       "0  ftp://ftp.ncbi.nlm.nih.gov/genomes/all/GCF/000...   \n",
       "1  ftp://ftp.ncbi.nlm.nih.gov/genomes/all/GCF/000...   \n",
       "2  ftp://ftp.ncbi.nlm.nih.gov/genomes/all/GCF/000...   \n",
       "\n",
       "                                md5  \n",
       "0  e7bf4b6a0fa4cbd17a2cac69125311e0  \n",
       "1  c16ebef14b4b9536207b545b80e0b2e5  \n",
       "2  c13d459b5caa702ff7e1f26fe44b8ad7  "
      ]
     },
     "execution_count": 7,
     "metadata": {},
     "output_type": "execute_result"
    }
   ],
   "source": [
    "pd.read_csv('data-processed/220220-konstantinidis-2005/220220-konstantinidis-2005-genomes.csv').head(3)"
   ]
  },
  {
   "cell_type": "code",
   "execution_count": 11,
   "id": "0f73d37c-bb0e-49dd-92bc-2d956215b44d",
   "metadata": {},
   "outputs": [],
   "source": [
    "import dtale"
   ]
  },
  {
   "cell_type": "code",
   "execution_count": 8,
   "id": "ab5e4e0a-0c5e-4626-85e0-6ad654a69b36",
   "metadata": {},
   "outputs": [],
   "source": [
    "df = pd.read_csv(infiles['genomes'])"
   ]
  },
  {
   "cell_type": "code",
   "execution_count": 12,
   "id": "da86d91a-196a-4996-ad65-1e9fbc28ae23",
   "metadata": {},
   "outputs": [
    {
     "name": "stderr",
     "output_type": "stream",
     "text": [
      "2022-03-01 15:51:53,942 - INFO     - Note: NumExpr detected 12 cores but \"NUMEXPR_MAX_THREADS\" not set, so enforcing safe limit of 8.\n",
      "2022-03-01 15:51:53,942 - INFO     - NumExpr defaulting to 8 threads.\n"
     ]
    },
    {
     "data": {
      "text/html": [
       "\n",
       "        <iframe\n",
       "            width=\"100%\"\n",
       "            height=\"475\"\n",
       "            src=\"http://jl-laptop:40000/dtale/iframe/1\"\n",
       "            frameborder=\"0\"\n",
       "            allowfullscreen\n",
       "        ></iframe>\n",
       "        "
      ],
      "text/plain": [
       "<IPython.lib.display.IFrame at 0x7f741e72f490>"
      ]
     },
     "metadata": {},
     "output_type": "display_data"
    },
    {
     "data": {
      "text/plain": []
     },
     "execution_count": 12,
     "metadata": {},
     "output_type": "execute_result"
    },
    {
     "name": "stdout",
     "output_type": "stream",
     "text": [
      "Exception occurred while processing request: 'NoneType' object is not subscriptable\n",
      "Traceback (most recent call last):\n",
      "  File \"/home/jared/opt/anaconda3/envs/gambit/lib/python3.9/site-packages/dtale/views.py\", line 114, in _handle_exceptions\n",
      "    return func(*args, **kwargs)\n",
      "  File \"/home/jared/opt/anaconda3/envs/gambit/lib/python3.9/site-packages/dtale/views.py\", line 2923, in get_scatter\n",
      "    y_cols = [cols[1], idx_col]\n",
      "TypeError: 'NoneType' object is not subscriptable\n"
     ]
    },
    {
     "name": "stderr",
     "output_type": "stream",
     "text": [
      "2022-03-01 15:54:55,457 - ERROR    - Exception occurred while processing request: 'NoneType' object is not subscriptable\n",
      "Traceback (most recent call last):\n",
      "  File \"/home/jared/opt/anaconda3/envs/gambit/lib/python3.9/site-packages/dtale/views.py\", line 114, in _handle_exceptions\n",
      "    return func(*args, **kwargs)\n",
      "  File \"/home/jared/opt/anaconda3/envs/gambit/lib/python3.9/site-packages/dtale/views.py\", line 2923, in get_scatter\n",
      "    y_cols = [cols[1], idx_col]\n",
      "TypeError: 'NoneType' object is not subscriptable\n"
     ]
    }
   ],
   "source": [
    "dtale.show(df)"
   ]
  },
  {
   "cell_type": "code",
   "execution_count": null,
   "id": "a7cffd79-1dab-48c7-b324-2e83f09e0a8e",
   "metadata": {},
   "outputs": [],
   "source": [
    "del df['index']\n",
    "df.set_index('mash_index', inplace=True)\n",
    "df.index.name = 'index'"
   ]
  },
  {
   "cell_type": "markdown",
   "id": "6149cb04-c105-43a7-8a82-5852b889abdc",
   "metadata": {},
   "source": [
    "Add original MASH ID"
   ]
  },
  {
   "cell_type": "code",
   "execution_count": null,
   "id": "0d9ca659-c52f-4135-a8ac-13daea19bc65",
   "metadata": {},
   "outputs": [],
   "source": [
    "with open(infiles['ids']) as f:\n",
    "    ids = [line.strip().split('\\t')[1] for line in f.readlines()]\n",
    "    \n",
    "df.insert(0, 'id', [ids[i - 1] for i in df.index])"
   ]
  },
  {
   "cell_type": "markdown",
   "id": "6d9ff759-62f9-4167-85f4-f67c43cf945c",
   "metadata": {},
   "source": [
    "Additional cols"
   ]
  },
  {
   "cell_type": "code",
   "execution_count": null,
   "id": "27c587be-2cd7-4f02-9452-161c15bea885",
   "metadata": {},
   "outputs": [],
   "source": [
    "df['genus'] = ''\n",
    "df['species'] = ''\n",
    "df['taxid'] = 0\n",
    "df['filename'] = [f'{acc}.fasta.gz' for acc in df['assembly_accession']]\n",
    "df['md5'] = ''"
   ]
  },
  {
   "cell_type": "code",
   "execution_count": null,
   "id": "d76d6184-fdaa-410d-9ec1-1e20f3210420",
   "metadata": {},
   "outputs": [],
   "source": [
    "df"
   ]
  },
  {
   "cell_type": "markdown",
   "id": "69b88045-ec03-4500-9de8-6668d7e77e4d",
   "metadata": {},
   "source": [
    "## Add values from ESummary data"
   ]
  },
  {
   "cell_type": "code",
   "execution_count": null,
   "id": "4a03ef49-c8be-4717-b9e0-52ea11392efe",
   "metadata": {},
   "outputs": [],
   "source": [
    "with tarfile.open(infiles['esummaries'], 'r:gz') as tar:\n",
    "    m = tar.members\n",
    "    for i, row in df.iterrows():\n",
    "        with tar.extractfile(f'./{row.assembly_uid}.json') as f:\n",
    "            summary = json.load(f)\n",
    "            \n",
    "        df.loc[i, 'taxid'] = int(summary['taxid'])"
   ]
  },
  {
   "cell_type": "code",
   "execution_count": null,
   "id": "ed7e8a30-7852-4f8f-a692-c3815a539375",
   "metadata": {},
   "outputs": [],
   "source": [
    "summary"
   ]
  },
  {
   "cell_type": "code",
   "execution_count": null,
   "id": "d2538a26-59be-43e2-ba6b-ec148d629a0c",
   "metadata": {},
   "outputs": [],
   "source": [
    "tar.get"
   ]
  },
  {
   "cell_type": "code",
   "execution_count": null,
   "id": "68b1452c-de10-4af2-857b-6749aab5c5d9",
   "metadata": {},
   "outputs": [],
   "source": []
  },
  {
   "cell_type": "markdown",
   "id": "58795bcc-f33b-4298-8bef-2931a43388d2",
   "metadata": {},
   "source": [
    "## Add additional columns"
   ]
  },
  {
   "cell_type": "code",
   "execution_count": null,
   "id": "5f36885a-ea85-4ee6-bc2d-4a53046e61bb",
   "metadata": {},
   "outputs": [],
   "source": [
    "extra = []\n",
    "\n",
    "for aid in df['assembly_uid']:\n",
    "    s = summaries[aid]\n",
    "    extra.append(dict(\n",
    "        organism=s['organism'],\n",
    "        taxid=s['taxid'],\n",
    "        filename=s['assemblyaccession'] + '.fasta.gz',\n",
    "        url=seq_url_from_esummary(s),\n",
    "    ))"
   ]
  },
  {
   "cell_type": "code",
   "execution_count": null,
   "id": "0168592e-ed8f-48e8-8b85-859f74dfb600",
   "metadata": {},
   "outputs": [],
   "source": [
    "df = pd.concat([df, pd.DataFrame.from_records(extra)], axis=1)"
   ]
  },
  {
   "cell_type": "markdown",
   "id": "9f1c7cdc-8412-4a0e-8d91-674e94859477",
   "metadata": {
    "tags": []
   },
   "source": [
    "## Get sequence file checksums"
   ]
  },
  {
   "cell_type": "code",
   "execution_count": null,
   "id": "6d4719ca-a3da-446d-962d-e5fc41645cb2",
   "metadata": {},
   "outputs": [],
   "source": [
    "def get_md5(ftp_url):\n",
    "    ftp_dir, filename = ftp_url.rsplit('/', 1)\n",
    "    data = urlopen(ftp_dir + '/md5checksums.txt').read().decode()\n",
    "    \n",
    "    for line in data.splitlines():\n",
    "        checksum, file = line.split()\n",
    "        if file == './' + filename:\n",
    "            return checksum\n",
    "        \n",
    "    assert 0"
   ]
  },
  {
   "cell_type": "code",
   "execution_count": null,
   "id": "e810372c-207e-4af6-aa4d-94675340ceb9",
   "metadata": {},
   "outputs": [],
   "source": [
    "df['md5'] = None"
   ]
  },
  {
   "cell_type": "code",
   "execution_count": null,
   "id": "878b582c-845f-4e49-aea1-092b02c74c3b",
   "metadata": {},
   "outputs": [],
   "source": [
    "for i, row in tqdm(df.iterrows()):\n",
    "    if row['md5'] is None:\n",
    "        df.loc[i, 'md5'] = get_md5(row['url'])"
   ]
  },
  {
   "cell_type": "markdown",
   "id": "b480996d-c5ec-4e59-8752-4f60b5d730a7",
   "metadata": {},
   "source": [
    "## Write output"
   ]
  },
  {
   "cell_type": "code",
   "execution_count": null,
   "id": "a386fb45-01fa-4a77-9afb-a3e2557e3575",
   "metadata": {},
   "outputs": [],
   "source": [
    "df.to_csv(outfiles['table'], index=False)"
   ]
  },
  {
   "cell_type": "code",
   "execution_count": null,
   "id": "79f4b891-641e-46a8-ac32-7fa3d36a541a",
   "metadata": {},
   "outputs": [],
   "source": [
    "esummary_file = outfiles['esummaries']\n",
    "\n",
    "tmpdir = esummary_file.parent / esummary_file.name.split('.')[0]\n",
    "tmpdir.mkdir()\n",
    "\n",
    "fnames = []\n",
    "\n",
    "for i, row in df.iterrows():\n",
    "    fname = row.assembly_accession + '.json'\n",
    "    with open(tmpdir / fname, 'w') as f:\n",
    "        json.dump(summaries[row.assembly_uid], f)\n",
    "        \n",
    "    fnames.append(fname)\n",
    "    \n",
    "!tar -czf {esummary_file} -C {tmpdir} .\n",
    "!rm -rf {tmpdir}"
   ]
  }
 ],
 "metadata": {
  "kernelspec": {
   "display_name": "GAMBIT",
   "language": "python",
   "name": "gambit"
  },
  "language_info": {
   "codemirror_mode": {
    "name": "ipython",
    "version": 3
   },
   "file_extension": ".py",
   "mimetype": "text/x-python",
   "name": "python",
   "nbconvert_exporter": "python",
   "pygments_lexer": "ipython3",
   "version": "3.9.10"
  }
 },
 "nbformat": 4,
 "nbformat_minor": 5
}
