{
 "cells": [
  {
   "cell_type": "markdown",
   "id": "equal-union",
   "metadata": {},
   "source": [
    "# 210409 Fix Component 17"
   ]
  },
  {
   "cell_type": "code",
   "execution_count": 1,
   "id": "relevant-harvey",
   "metadata": {},
   "outputs": [],
   "source": [
    "const COMPONENT = 17;"
   ]
  },
  {
   "cell_type": "code",
   "execution_count": 2,
   "id": "hearing-machine",
   "metadata": {},
   "outputs": [
    {
     "data": {
      "text/html": [
       "<script>\n",
       "// Immediately-invoked-function-expression to avoid global variables.\n",
       "(function() {\n",
       "    var warning_div = document.getElementById(\"webio-warning-1357284947735752750\");\n",
       "    var hide = function () {\n",
       "        var script = document.getElementById(\"webio-setup-5230445877994453473\");\n",
       "        var parent = script && script.parentElement;\n",
       "        var grandparent = parent && parent.parentElement;\n",
       "        if (grandparent) {\n",
       "            grandparent.style.display = \"none\";\n",
       "        }\n",
       "        warning_div.style.display = \"none\";\n",
       "    };\n",
       "    if (typeof Jupyter !== \"undefined\") {\n",
       "        console.log(\"WebIO detected Jupyter notebook environment.\");\n",
       "        // Jupyter notebook.\n",
       "        var extensions = (\n",
       "            Jupyter\n",
       "            && Jupyter.notebook.config.data\n",
       "            && Jupyter.notebook.config.data.load_extensions\n",
       "        );\n",
       "        if (extensions && extensions[\"webio-jupyter-notebook\"]) {\n",
       "            // Extension already loaded.\n",
       "            console.log(\"Jupyter WebIO nbextension detected; not loading ad-hoc.\");\n",
       "            hide();\n",
       "            return;\n",
       "        }\n",
       "    } else if (window.location.pathname.includes(\"/lab\")) {\n",
       "        // Guessing JupyterLa\n",
       "        console.log(\"Jupyter Lab detected; make sure the @webio/jupyter-lab-provider labextension is installed.\");\n",
       "        hide();\n",
       "        return;\n",
       "    }\n",
       "})();\n",
       "\n",
       "</script>\n",
       "<p\n",
       "    id=\"webio-warning-1357284947735752750\"\n",
       "    class=\"output_text output_stderr\"\n",
       "    style=\"padding: 1em; font-weight: bold;\"\n",
       ">\n",
       "    Unable to load WebIO. Please make sure WebIO works for your Jupyter client.\n",
       "    For troubleshooting, please see <a href=\"https://juliagizmos.github.io/WebIO.jl/latest/providers/ijulia/\">\n",
       "    the WebIO/IJulia documentation</a>.\n",
       "    <!-- TODO: link to installation docs. -->\n",
       "</p>\n"
      ],
      "text/plain": [
       "HTML{String}(\"<script>\\n// Immediately-invoked-function-expression to avoid global variables.\\n(function() {\\n    var warning_div = document.getElementById(\\\"webio-warning-1357284947735752750\\\");\\n    var hide = function () {\\n        var script = document.getElementById(\\\"webio-setup-5230445877994453473\\\");\\n        var parent = script && script.parentElement;\\n        var grandparent = parent && parent.parentElement;\\n        if (grandparent) {\\n            grandparent.style.display = \\\"none\\\";\\n        }\\n        warning_div.style.display = \\\"none\\\";\\n    };\\n    if (typeof Jupyter !== \\\"undefined\\\") {\\n        console.log(\\\"WebIO detected Jupyter notebook environment.\\\");\\n        // Jupyter notebook.\\n        var extensions = (\\n            Jupyter\\n            && Jupyter.notebook.config.data\\n            && Jupyter.notebook.config.data.load_extensions\\n        );\\n        if (extensions && extensions[\\\"webio-jupyter-notebook\\\"]) {\\n            // Extension already loaded.\\n            console.log(\\\"Jupyter WebIO nbextension detected; not loading ad-hoc.\\\");\\n            hide();\\n            return;\\n        }\\n    } else if (window.location.pathname.includes(\\\"/lab\\\")) {\\n        // Guessing JupyterLa\\n        console.log(\\\"Jupyter Lab detected; make sure the @webio/jupyter-lab-provider labextension is installed.\\\");\\n        hide();\\n        return;\\n    }\\n})();\\n\\n</script>\\n<p\\n    id=\\\"webio-warning-1357284947735752750\\\"\\n    class=\\\"output_text output_stderr\\\"\\n    style=\\\"padding: 1em; font-weight: bold;\\\"\\n>\\n    Unable to load WebIO. Please make sure WebIO works for your Jupyter client.\\n    For troubleshooting, please see <a href=\\\"https://juliagizmos.github.io/WebIO.jl/latest/providers/ijulia/\\\">\\n    the WebIO/IJulia documentation</a>.\\n    <!-- TODO: link to installation docs. -->\\n</p>\\n\")"
      ]
     },
     "metadata": {},
     "output_type": "display_data"
    },
    {
     "data": {
      "text/html": [
       "<table class=\"data-frame\"><thead><tr><th></th><th>id</th><th>ncbi_id</th><th>name</th><th>rank</th><th>parent_id</th><th>in_v12</th><th>manual_threshold</th><th>report</th><th>ngenomes</th><th>comp_idx</th><th>diameter</th><th>outgoing</th><th>incoming</th><th>name_abbr</th></tr><tr><th></th><th>Int64</th><th>Int64?</th><th>String</th><th>String?</th><th>Int64?</th><th>Bool</th><th>Float64</th><th>Bool</th><th>Int64</th><th>Int64</th><th>Float32</th><th>Int64</th><th>Int64</th><th>SubStri…</th></tr></thead><tbody><p>2 rows × 14 columns</p><tr><th>1</th><td>1653</td><td>456327</td><td>Xanthomonas euvesicatoria</td><td>species</td><td>77</td><td>1</td><td>NaN</td><td>1</td><td>32</td><td>2</td><td>0.452832</td><td>1</td><td>0</td><td>euvesicatoria</td></tr><tr><th>2</th><td>558</td><td>442694</td><td>Xanthomonas perforans</td><td>species</td><td>77</td><td>1</td><td>NaN</td><td>1</td><td>33</td><td>1</td><td>0.2061</td><td>0</td><td>1</td><td>perforans</td></tr></tbody></table>"
      ],
      "text/latex": [
       "\\begin{tabular}{r|cccccccccccccc}\n",
       "\t& id & ncbi\\_id & name & rank & parent\\_id & in\\_v12 & manual\\_threshold & report & ngenomes & comp\\_idx & diameter & outgoing & incoming & name\\_abbr\\\\\n",
       "\t\\hline\n",
       "\t& Int64 & Int64? & String & String? & Int64? & Bool & Float64 & Bool & Int64 & Int64 & Float32 & Int64 & Int64 & SubStri…\\\\\n",
       "\t\\hline\n",
       "\t1 & 1653 & 456327 & Xanthomonas euvesicatoria & species & 77 & 1 & NaN & 1 & 32 & 2 & 0.452832 & 1 & 0 & euvesicatoria \\\\\n",
       "\t2 & 558 & 442694 & Xanthomonas perforans & species & 77 & 1 & NaN & 1 & 33 & 1 & 0.2061 & 0 & 1 & perforans \\\\\n",
       "\\end{tabular}\n"
      ],
      "text/plain": [
       "\u001b[1m2×14 DataFrame\u001b[0m\n",
       "\u001b[1m Row \u001b[0m│\u001b[1m id    \u001b[0m\u001b[1m ncbi_id \u001b[0m\u001b[1m name                      \u001b[0m\u001b[1m rank    \u001b[0m\u001b[1m parent_id \u001b[0m\u001b[1m in_v12 \u001b[0m\u001b[1m manual_threshold \u001b[0m\u001b[1m report \u001b[0m\u001b[1m ngenomes \u001b[0m\u001b[1m comp_idx \u001b[0m\u001b[1m diameter \u001b[0m\u001b[1m outgoing \u001b[0m\u001b[1m incoming \u001b[0m\u001b[1m name_abbr     \u001b[0m\n",
       "\u001b[1m     \u001b[0m│\u001b[90m Int64 \u001b[0m\u001b[90m Int64?  \u001b[0m\u001b[90m String                    \u001b[0m\u001b[90m String? \u001b[0m\u001b[90m Int64?    \u001b[0m\u001b[90m Bool   \u001b[0m\u001b[90m Float64          \u001b[0m\u001b[90m Bool   \u001b[0m\u001b[90m Int64    \u001b[0m\u001b[90m Int64    \u001b[0m\u001b[90m Float32  \u001b[0m\u001b[90m Int64    \u001b[0m\u001b[90m Int64    \u001b[0m\u001b[90m SubStrin…     \u001b[0m\n",
       "─────┼──────────────────────────────────────────────────────────────────────────────────────────────────────────────────────────────────────────────────────────────────\n",
       "   1 │  1653   456327  Xanthomonas euvesicatoria  species         77    true              NaN     true        32         2  0.452832         1         0  euvesicatoria\n",
       "   2 │   558   442694  Xanthomonas perforans      species         77    true              NaN     true        33         1  0.2061           0         1  perforans"
      ]
     },
     "metadata": {},
     "output_type": "display_data"
    }
   ],
   "source": [
    "include(\"fix-component-base.jl\");"
   ]
  },
  {
   "cell_type": "code",
   "execution_count": 3,
   "id": "yellow-thousand",
   "metadata": {},
   "outputs": [],
   "source": [
    "trees = Dict{String, Any}();"
   ]
  },
  {
   "cell_type": "markdown",
   "id": "certain-consent",
   "metadata": {},
   "source": [
    "## Edits"
   ]
  },
  {
   "cell_type": "code",
   "execution_count": 4,
   "id": "limited-resistance",
   "metadata": {},
   "outputs": [
    {
     "data": {
      "application/vnd.plotly.v1+json": {
       "data": [
        {
         "hoverinfo": "skip",
         "line": {
          "color": "#FFBB78"
         },
         "mode": "lines",
         "showlegend": false,
         "type": "scatter",
         "x": [
          6.5625,
          14.875,
          null,
          6.5625,
          6.5625,
          null,
          14.875,
          14.875,
          null
         ],
         "y": [
          0.16730572283267975,
          0.16730572283267975,
          null,
          0.16730572283267975,
          0.13829229772090912,
          null,
          0.16730572283267975,
          0.15539871156215668,
          null
         ],
         "yaxis": "y"
        },
        {
         "hoverinfo": "skip",
         "line": {
          "color": "#FFBB78"
         },
         "mode": "lines",
         "showlegend": false,
         "type": "scatter",
         "x": [
          3.25,
          9.875,
          null,
          3.25,
          3.25,
          null,
          9.875,
          9.875,
          null
         ],
         "y": [
          0.13829229772090912,
          0.13829229772090912,
          null,
          0.13829229772090912,
          0.06941715627908707,
          null,
          0.13829229772090912,
          0.07859344035387039,
          null
         ],
         "yaxis": "y"
        },
        {
         "hoverinfo": "skip",
         "line": {
          "color": "#AEC7E8"
         },
         "mode": "lines",
         "showlegend": false,
         "type": "scatter",
         "x": [
          22.016992952647332,
          24.162277660168378,
          null,
          22.016992952647332,
          22.016992952647332,
          null,
          24.162277660168378,
          24.162277660168378,
          null
         ],
         "y": [
          0.14456360042095184,
          0.14456360042095184,
          null,
          0.14456360042095184,
          0.13399001955986023,
          null,
          0.14456360042095184,
          0,
          null
         ],
         "yaxis": "y"
        },
        {
         "hoverinfo": "skip",
         "line": {
          "color": "#FFBB78"
         },
         "mode": "lines",
         "showlegend": false,
         "type": "scatter",
         "x": [
          8.5,
          11.25,
          null,
          8.5,
          8.5,
          null,
          11.25,
          11.25,
          null
         ],
         "y": [
          0.07859344035387039,
          0.07859344035387039,
          null,
          0.07859344035387039,
          0.010591098107397556,
          null,
          0.07859344035387039,
          0.07124499976634979,
          null
         ],
         "yaxis": "y"
        },
        {
         "fill": "toself",
         "hoverinfo": "skip",
         "line": {
          "color": "#FFBB78"
         },
         "mode": "lines",
         "showlegend": false,
         "type": "scatter",
         "x": [
          13,
          13,
          14,
          14
         ],
         "y": [
          0,
          0.05308804288506508,
          0.05308804288506508,
          0
         ],
         "yaxis": "y"
        },
        {
         "fill": "toself",
         "hoverinfo": "skip",
         "line": {
          "color": "#AEC7E8"
         },
         "mode": "lines",
         "showlegend": false,
         "type": "scatter",
         "x": [
          18,
          18,
          21.162277660168378,
          21.162277660168378
         ],
         "y": [
          0,
          0.012036108411848545,
          0.012036108411848545,
          0
         ],
         "yaxis": "y"
        },
        {
         "fill": "toself",
         "hoverinfo": "skip",
         "line": {
          "color": "#FFBB78"
         },
         "mode": "lines",
         "showlegend": false,
         "type": "scatter",
         "x": [
          1,
          1,
          2,
          2
         ],
         "y": [
          0,
          0.013871720992028713,
          0.013871720992028713,
          0
         ],
         "yaxis": "y"
        },
        {
         "hoverinfo": "skip",
         "line": {
          "color": "#666666"
         },
         "mode": "lines",
         "showlegend": false,
         "type": "scatter",
         "x": [
          26.889239062373782,
          38.740082580462406,
          null,
          26.889239062373782,
          26.889239062373782,
          null,
          38.740082580462406,
          38.740082580462406,
          null
         ],
         "y": [
          0.43022751808166504,
          0.43022751808166504,
          null,
          0.43022751808166504,
          0.20610027015209198,
          null,
          0.43022751808166504,
          0.33762016892433167,
          null
         ],
         "yaxis": "y"
        },
        {
         "fill": "toself",
         "hoverinfo": "skip",
         "line": {
          "color": "#FFBB78"
         },
         "mode": "lines",
         "showlegend": false,
         "type": "scatter",
         "x": [
          10,
          10,
          11,
          11
         ],
         "y": [
          0,
          0.03581227362155914,
          0.03581227362155914,
          0
         ],
         "yaxis": "y"
        },
        {
         "hoverinfo": "skip",
         "line": {
          "color": "#AEC7E8"
         },
         "mode": "lines",
         "showlegend": false,
         "type": "scatter",
         "x": [
          27.573688201540833,
          33.803997435138584,
          null,
          27.573688201540833,
          27.573688201540833,
          null,
          33.803997435138584,
          33.803997435138584,
          null
         ],
         "y": [
          0.1750958263874054,
          0.1750958263874054,
          null,
          0.1750958263874054,
          0.08516886830329895,
          null,
          0.1750958263874054,
          0.10644222050905228,
          null
         ],
         "yaxis": "y"
        },
        {
         "fill": "toself",
         "hoverinfo": "skip",
         "line": {
          "color": "#FFBB78"
         },
         "mode": "lines",
         "showlegend": false,
         "type": "scatter",
         "x": [
          15,
          15,
          16,
          16
         ],
         "y": [
          0,
          0.03944283723831177,
          0.03944283723831177,
          0
         ],
         "yaxis": "y"
        },
        {
         "fill": "toself",
         "hoverinfo": "skip",
         "line": {
          "color": "#FFBB78"
         },
         "mode": "lines",
         "showlegend": false,
         "type": "scatter",
         "x": [
          8,
          8,
          9,
          9
         ],
         "y": [
          0,
          0.010591098107397556,
          0.010591098107397556,
          0
         ],
         "yaxis": "y"
        },
        {
         "hoverinfo": "skip",
         "line": {
          "color": "#666666"
         },
         "mode": "lines",
         "showlegend": false,
         "type": "scatter",
         "x": [
          10.71875,
          32.814660821418094,
          null,
          10.71875,
          10.71875,
          null,
          32.814660821418094,
          32.814660821418094,
          null
         ],
         "y": [
          0.4645254611968994,
          0.4645254611968994,
          null,
          0.4645254611968994,
          0.16730572283267975,
          null,
          0.4645254611968994,
          0.43022751808166504,
          null
         ],
         "yaxis": "y"
        },
        {
         "hoverinfo": "skip",
         "line": {
          "color": "#AEC7E8"
         },
         "mode": "lines",
         "showlegend": false,
         "type": "scatter",
         "x": [
          32.050924991706985,
          35.55706987857019,
          null,
          32.050924991706985,
          32.050924991706985,
          null,
          35.55706987857019,
          35.55706987857019,
          null
         ],
         "y": [
          0.10644222050905228,
          0.10644222050905228,
          null,
          0.10644222050905228,
          0.05259765312075615,
          null,
          0.10644222050905228,
          0.0785183236002922,
          null
         ],
         "yaxis": "y"
        },
        {
         "hoverinfo": "skip",
         "line": {
          "color": "#FFBB78"
         },
         "mode": "lines",
         "showlegend": false,
         "type": "scatter",
         "x": [
          13.5,
          16.25,
          null,
          13.5,
          13.5,
          null,
          16.25,
          16.25,
          null
         ],
         "y": [
          0.15539871156215668,
          0.15539871156215668,
          null,
          0.15539871156215668,
          0.05308804288506508,
          null,
          0.15539871156215668,
          0.0797385647892952,
          null
         ],
         "yaxis": "y"
        },
        {
         "hoverinfo": "skip",
         "line": {
          "color": "#AEC7E8"
         },
         "mode": "lines",
         "showlegend": false,
         "type": "scatter",
         "x": [
          26.02830306395282,
          29.119073339128846,
          null,
          26.02830306395282,
          26.02830306395282,
          null,
          29.119073339128846,
          29.119073339128846,
          null
         ],
         "y": [
          0.08516886830329895,
          0.08516886830329895,
          null,
          0.08516886830329895,
          0.039135925471782684,
          null,
          0.08516886830329895,
          0.055009301751852036,
          null
         ],
         "yaxis": "y"
        },
        {
         "fill": "toself",
         "hoverinfo": "skip",
         "line": {
          "color": "#AEC7E8"
         },
         "mode": "lines",
         "showlegend": false,
         "type": "scatter",
         "x": [
          25.162277660168378,
          25.162277660168378,
          26.894328467737257,
          26.894328467737257
         ],
         "y": [
          0,
          0.039135925471782684,
          0.039135925471782684,
          0
         ],
         "yaxis": "y"
        },
        {
         "fill": "toself",
         "hoverinfo": "skip",
         "line": {
          "color": "#AEC7E8"
         },
         "mode": "lines",
         "showlegend": false,
         "type": "scatter",
         "x": [
          27.894328467737257,
          27.894328467737257,
          30.343818210520435,
          30.343818210520435
         ],
         "y": [
          0,
          0.055009301751852036,
          0.055009301751852036,
          0
         ],
         "yaxis": "y"
        },
        {
         "hoverinfo": "skip",
         "line": {
          "color": "#FFBB78"
         },
         "mode": "lines",
         "showlegend": false,
         "type": "scatter",
         "x": [
          37.490082580462406,
          38.490082580462406,
          null,
          37.490082580462406,
          37.490082580462406,
          null,
          38.490082580462406,
          38.490082580462406,
          null
         ],
         "y": [
          0.09163738787174225,
          0.09163738787174225,
          null,
          0.09163738787174225,
          0,
          null,
          0.09163738787174225,
          0,
          null
         ],
         "yaxis": "y"
        },
        {
         "hoverinfo": "skip",
         "line": {
          "color": "#FFBB78"
         },
         "mode": "lines",
         "showlegend": false,
         "type": "scatter",
         "x": [
          1.5,
          5,
          null,
          1.5,
          1.5,
          null,
          5,
          5,
          null
         ],
         "y": [
          0.06941715627908707,
          0.06941715627908707,
          null,
          0.06941715627908707,
          0.013871720992028713,
          null,
          0.06941715627908707,
          0.04771293327212334,
          null
         ],
         "yaxis": "y"
        },
        {
         "hoverinfo": "skip",
         "line": {
          "color": "#FFBB78"
         },
         "mode": "lines",
         "showlegend": false,
         "type": "scatter",
         "x": [
          37.990082580462406,
          39.490082580462406,
          null,
          37.990082580462406,
          37.990082580462406,
          null,
          39.490082580462406,
          39.490082580462406,
          null
         ],
         "y": [
          0.33762016892433167,
          0.33762016892433167,
          null,
          0.33762016892433167,
          0.09163738787174225,
          null,
          0.33762016892433167,
          0,
          null
         ],
         "yaxis": "y"
        },
        {
         "hoverinfo": "skip",
         "line": {
          "color": "#AEC7E8"
         },
         "mode": "lines",
         "showlegend": false,
         "type": "scatter",
         "x": [
          20.871708245126285,
          23.162277660168378,
          null,
          20.871708245126285,
          20.871708245126285,
          null,
          23.162277660168378,
          23.162277660168378,
          null
         ],
         "y": [
          0.13399001955986023,
          0.13399001955986023,
          null,
          0.13399001955986023,
          0.08803962916135788,
          null,
          0.13399001955986023,
          0,
          null
         ],
         "yaxis": "y"
        },
        {
         "hoverinfo": "skip",
         "line": {
          "color": "#AEC7E8"
         },
         "mode": "lines",
         "showlegend": false,
         "type": "scatter",
         "x": [
          23.089635306407857,
          30.688842818339708,
          null,
          23.089635306407857,
          23.089635306407857,
          null,
          30.688842818339708,
          30.688842818339708,
          null
         ],
         "y": [
          0.20610027015209198,
          0.20610027015209198,
          null,
          0.20610027015209198,
          0.14456360042095184,
          null,
          0.20610027015209198,
          0.1750958263874054,
          null
         ],
         "yaxis": "y"
        },
        {
         "hoverinfo": "skip",
         "line": {
          "color": "#FFBB78"
         },
         "mode": "lines",
         "showlegend": false,
         "type": "scatter",
         "x": [
          10.5,
          12,
          null,
          10.5,
          10.5,
          null,
          12,
          12,
          null
         ],
         "y": [
          0.07124499976634979,
          0.07124499976634979,
          null,
          0.07124499976634979,
          0.03581227362155914,
          null,
          0.07124499976634979,
          0,
          null
         ],
         "yaxis": "y"
        },
        {
         "hoverinfo": "skip",
         "line": {
          "color": "#AEC7E8"
         },
         "mode": "lines",
         "showlegend": false,
         "type": "scatter",
         "x": [
          19.58113883008419,
          22.162277660168378,
          null,
          19.58113883008419,
          19.58113883008419,
          null,
          22.162277660168378,
          22.162277660168378,
          null
         ],
         "y": [
          0.08803962916135788,
          0.08803962916135788,
          null,
          0.08803962916135788,
          0.012036108411848545,
          null,
          0.08803962916135788,
          0,
          null
         ],
         "yaxis": "y"
        },
        {
         "hoverinfo": "skip",
         "line": {
          "color": "#AEC7E8"
         },
         "mode": "lines",
         "showlegend": false,
         "type": "scatter",
         "x": [
          34.624057176677965,
          36.490082580462406,
          null,
          34.624057176677965,
          34.624057176677965,
          null,
          36.490082580462406,
          36.490082580462406,
          null
         ],
         "y": [
          0.0785183236002922,
          0.0785183236002922,
          null,
          0.0785183236002922,
          0.0496852807700634,
          null,
          0.0785183236002922,
          0,
          null
         ],
         "yaxis": "y"
        },
        {
         "fill": "toself",
         "hoverinfo": "skip",
         "line": {
          "color": "#AEC7E8"
         },
         "mode": "lines",
         "showlegend": false,
         "type": "scatter",
         "x": [
          31.343818210520435,
          31.343818210520435,
          32.75803177289353,
          32.75803177289353
         ],
         "y": [
          0,
          0.05259765312075615,
          0.05259765312075615,
          0
         ],
         "yaxis": "y"
        },
        {
         "fill": "toself",
         "hoverinfo": "skip",
         "line": {
          "color": "#AEC7E8"
         },
         "mode": "lines",
         "showlegend": false,
         "type": "scatter",
         "x": [
          33.75803177289353,
          33.75803177289353,
          35.490082580462406,
          35.490082580462406
         ],
         "y": [
          0,
          0.0496852807700634,
          0.0496852807700634,
          0
         ],
         "yaxis": "y"
        },
        {
         "fill": "toself",
         "hoverinfo": "skip",
         "line": {
          "color": "#FFBB78"
         },
         "mode": "lines",
         "showlegend": false,
         "type": "scatter",
         "x": [
          3,
          3,
          7,
          7
         ],
         "y": [
          0,
          0.04771293327212334,
          0.04771293327212334,
          0
         ],
         "yaxis": "y"
        },
        {
         "hoverinfo": "skip",
         "line": {
          "color": "#FFBB78"
         },
         "mode": "lines",
         "showlegend": false,
         "type": "scatter",
         "x": [
          15.5,
          17,
          null,
          15.5,
          15.5,
          null,
          17,
          17,
          null
         ],
         "y": [
          0.0797385647892952,
          0.0797385647892952,
          null,
          0.0797385647892952,
          0.03944283723831177,
          null,
          0.0797385647892952,
          0,
          null
         ],
         "yaxis": "y"
        },
        {
         "customdata": [
          [
           106,
           4,
           "perforans"
          ],
          [
           124,
           29,
           "euvesicatoria"
          ],
          [
           121,
           24,
           "euvesicatoria"
          ],
          [
           122,
           14,
           "perforans"
          ],
          [
           114,
           5,
           "euvesicatoria"
          ],
          [
           109,
           2,
           "euvesicatoria"
          ],
          [
           89,
           11,
           "perforans"
          ],
          [
           91,
           2,
           "euvesicatoria"
          ],
          [
           128,
           36,
           "(mixed)"
          ],
          [
           102,
           2,
           "euvesicatoria"
          ],
          [
           125,
           19,
           "perforans"
          ],
          [
           104,
           2,
           "euvesicatoria"
          ],
          [
           87,
           2,
           "euvesicatoria"
          ],
          [
           129,
           65,
           "(mixed)"
          ],
          [
           119,
           8,
           "perforans"
          ],
          [
           123,
           5,
           "euvesicatoria"
          ],
          [
           116,
           11,
           "perforans"
          ],
          [
           103,
           4,
           "perforans"
          ],
          [
           110,
           7,
           "perforans"
          ],
          [
           118,
           2,
           "euvesicatoria"
          ],
          [
           111,
           19,
           "euvesicatoria"
          ],
          [
           127,
           3,
           "euvesicatoria"
          ],
          [
           120,
           13,
           "perforans"
          ],
          [
           126,
           33,
           "perforans"
          ],
          [
           112,
           3,
           "euvesicatoria"
          ],
          [
           117,
           12,
           "perforans"
          ],
          [
           113,
           5,
           "perforans"
          ],
          [
           108,
           3,
           "perforans"
          ],
          [
           105,
           17,
           "euvesicatoria"
          ],
          [
           115,
           3,
           "euvesicatoria"
          ]
         ],
         "hovertemplate": "ID: %{customdata[0]}<br>\nHeight: %{y:.3f}<br>\nGenome count: %{customdata[1]}\n<br>\n%{customdata[2]}\n<extra></extra>",
         "marker": {
          "color": [
           "#AEC7E8",
           "#FFBB78",
           "#FFBB78",
           "#AEC7E8",
           "#FFBB78",
           "#FFBB78",
           "#AEC7E8",
           "#FFBB78",
           "#666666",
           "#FFBB78",
           "#AEC7E8",
           "#FFBB78",
           "#FFBB78",
           "#666666",
           "#AEC7E8",
           "#FFBB78",
           "#AEC7E8",
           "#AEC7E8",
           "#AEC7E8",
           "#FFBB78",
           "#FFBB78",
           "#FFBB78",
           "#AEC7E8",
           "#AEC7E8",
           "#FFBB78",
           "#AEC7E8",
           "#AEC7E8",
           "#AEC7E8",
           "#FFBB78",
           "#FFBB78"
          ],
          "size": [
           4,
           8,
           4,
           4,
           4,
           8,
           8,
           8,
           4,
           8,
           4,
           8,
           8,
           8,
           4,
           4,
           4,
           4,
           4,
           8,
           4,
           4,
           4,
           8,
           4,
           4,
           4,
           4,
           4,
           4
          ]
         },
         "mode": "markers",
         "showlegend": false,
         "type": "scatter",
         "x": [
          34.624057176677965,
          10.71875,
          6.5625,
          23.089635306407857,
          9.875,
          13.5,
          19.58113883008419,
          1.5,
          32.814660821418094,
          10.5,
          30.688842818339708,
          15.5,
          8.5,
          21.766705410709047,
          33.803997435138584,
          14.875,
          27.573688201540833,
          26.02830306395282,
          29.119073339128846,
          37.990082580462406,
          3.25,
          38.740082580462406,
          22.016992952647332,
          26.889239062373782,
          11.25,
          20.871708245126285,
          35.55706987857019,
          32.050924991706985,
          5,
          16.25
         ],
         "y": [
          0.0496852807700634,
          0.16730572283267975,
          0.13829229772090912,
          0.14456360042095184,
          0.07859344035387039,
          0.05308804288506508,
          0.012036108411848545,
          0.013871720992028713,
          0.43022751808166504,
          0.03581227362155914,
          0.1750958263874054,
          0.03944283723831177,
          0.010591098107397556,
          0.4645254611968994,
          0.10644222050905228,
          0.15539871156215668,
          0.08516886830329895,
          0.039135925471782684,
          0.055009301751852036,
          0.09163738787174225,
          0.06941715627908707,
          0.33762016892433167,
          0.13399001955986023,
          0.20610027015209198,
          0.07124499976634979,
          0.08803962916135788,
          0.0785183236002922,
          0.05259765312075615,
          0.04771293327212334,
          0.0797385647892952
         ],
         "yaxis": "y"
        },
        {
         "colorscale": [
          [
           0,
           "#666666"
          ],
          [
           0.1,
           "#AEC7E8"
          ],
          [
           0.2,
           "#FFBB78"
          ],
          [
           0.3,
           "#98DF8A"
          ],
          [
           0.4,
           "#FF9896"
          ],
          [
           0.5,
           "#C5B0D5"
          ],
          [
           0.6,
           "#C49C94"
          ],
          [
           0.7,
           "#F7B6D2"
          ],
          [
           0.8,
           "#C7C7C7"
          ],
          [
           0.9,
           "#DBDB8D"
          ],
          [
           1,
           "#9EDAE5"
          ]
         ],
         "customdata": [
          [
           [
            "ID 91",
            "euvesicatoria"
           ],
           [
            "ID 105",
            "euvesicatoria"
           ],
           [
            "ID 87",
            "euvesicatoria"
           ],
           [
            "ID 102",
            "euvesicatoria"
           ],
           [
            "Genome 64",
            "euvesicatoria"
           ],
           [
            "ID 109",
            "euvesicatoria"
           ],
           [
            "ID 104",
            "euvesicatoria"
           ],
           [
            "Genome 49",
            "euvesicatoria"
           ],
           [
            "ID 89",
            "perforans"
           ],
           [
            "Genome 1",
            "perforans"
           ],
           [
            "Genome 14",
            "perforans"
           ],
           [
            "Genome 15",
            "perforans"
           ],
           [
            "ID 103",
            "perforans"
           ],
           [
            "ID 110",
            "perforans"
           ],
           [
            "ID 108",
            "perforans"
           ],
           [
            "ID 106",
            "perforans"
           ],
           [
            "Genome 2",
            "perforans"
           ],
           [
            "Genome 36",
            "euvesicatoria"
           ],
           [
            "Genome 65",
            "euvesicatoria"
           ],
           [
            "Genome 35",
            "euvesicatoria"
           ]
          ]
         ],
         "hovertemplate": "%{customdata[0]} <br>\n%{customdata[1]}\n<extra></extra>\n",
         "showscale": false,
         "type": "heatmap",
         "x": [
          0.5,
          2.5,
          7.5,
          9.5,
          11.5,
          12.5,
          14.5,
          16.5,
          17.5,
          21.662277660168378,
          22.662277660168378,
          23.662277660168378,
          24.662277660168378,
          27.394328467737257,
          30.843818210520435,
          33.25803177289353,
          35.990082580462406,
          36.990082580462406,
          37.990082580462406,
          38.990082580462406,
          39.990082580462406
         ],
         "xgap": 1,
         "yaxis": "y2",
         "z": [
          [
           2,
           2,
           2,
           2,
           2,
           2,
           2,
           2,
           1,
           1,
           1,
           1,
           1,
           1,
           1,
           1,
           1,
           2,
           2,
           2
          ]
         ],
         "zmax": 10,
         "zmin": 0
        }
       ],
       "frames": [],
       "layout": {
        "autosize": true,
        "hovermode": "closest",
        "margin": {
         "b": 50,
         "l": 50,
         "r": 50,
         "t": 60
        },
        "xaxis": {
         "autorange": true,
         "range": [
          -0.7533807930853049,
          40.925692522627855
         ],
         "type": "linear",
         "visible": false
        },
        "yaxis": {
         "autorange": true,
         "range": [
          -0.026179903159940864,
          0.4974181600388764
         ],
         "type": "linear"
        },
        "yaxis2": {
         "autorange": true,
         "domain": [
          0,
          0.05
         ],
         "fixedrange": true,
         "range": [
          -0.5,
          0.5
         ],
         "visible": false
        }
       }
      },
      "application/vnd.webio.node+json": {
       "children": [
        {
         "children": [],
         "instanceArgs": {
          "namespace": "html",
          "tag": "div"
         },
         "nodeType": "DOM",
         "props": {
          "id": "plot-e97ecdb9-3a02-43ac-b9b2-6a0d11f4c7cb"
         },
         "type": "node"
        }
       ],
       "instanceArgs": {
        "handlers": {
         "__get_gd_contents": [
          "(function (prop){prop==\"data\" ? (WebIO.setval({\"name\":\"__gd_contents\",\"scope\":\"17506140971631828843\",\"id\":\"13520108885049226136\",\"type\":\"observable\"},this.plotElem.data)) : undefined; return prop==\"layout\" ? (WebIO.setval({\"name\":\"__gd_contents\",\"scope\":\"17506140971631828843\",\"id\":\"13520108885049226136\",\"type\":\"observable\"},this.plotElem.layout)) : undefined})"
         ],
         "_commands": [
          "(function (args){var fn=args.shift(); var elem=this.plotElem; var Plotly=this.Plotly; args.unshift(elem); return Plotly[fn].apply(this,args)})"
         ],
         "_downloadImage": [
          "(function (options){return this.Plotly.downloadImage(this.plotElem,options)})"
         ],
         "_toImage": [
          "(function (options){return this.Plotly.toImage(this.plotElem,options).then((function (data){return WebIO.setval({\"name\":\"image\",\"scope\":\"17506140971631828843\",\"id\":\"4266325546261946752\",\"type\":\"observable\"},data)}))})"
         ]
        },
        "id": "17506140971631828843",
        "imports": {
         "data": [
          {
           "name": "Plotly",
           "type": "js",
           "url": "/assetserver/e6903599031aaef8675931dfcd7df98a1aeffbfc-plotly-latest.min.js"
          },
          {
           "name": null,
           "type": "js",
           "url": "/assetserver/74a5dea81f21b0b802ef1ee92f1c8a504eac1a0c-plotly_webio.bundle.js"
          }
         ],
         "type": "async_block"
        },
        "mount_callbacks": [
         "function () {\n    var handler = ((function (Plotly,PlotlyWebIO){PlotlyWebIO.init(WebIO); var gd=this.dom.querySelector(\"#plot-e97ecdb9-3a02-43ac-b9b2-6a0d11f4c7cb\"); this.plotElem=gd; this.Plotly=Plotly; (window.Blink!==undefined) ? (gd.style.width=\"100%\", gd.style.height=\"100vh\", gd.style.marginLeft=\"0%\", gd.style.marginTop=\"0vh\") : undefined; window.onresize=(function (){return Plotly.Plots.resize(gd)}); Plotly.newPlot(gd,[{\"showlegend\":false,\"mode\":\"lines\",\"line\":{\"color\":\"#FFBB78\"},\"y\":[0.16730572283267975,0.16730572283267975,null,0.16730572283267975,0.13829229772090912,null,0.16730572283267975,0.15539871156215668,null],\"type\":\"scatter\",\"hoverinfo\":\"skip\",\"yaxis\":\"y1\",\"x\":[6.5625,14.875,null,6.5625,6.5625,null,14.875,14.875,null]},{\"showlegend\":false,\"mode\":\"lines\",\"line\":{\"color\":\"#FFBB78\"},\"y\":[0.13829229772090912,0.13829229772090912,null,0.13829229772090912,0.06941715627908707,null,0.13829229772090912,0.07859344035387039,null],\"type\":\"scatter\",\"hoverinfo\":\"skip\",\"yaxis\":\"y1\",\"x\":[3.25,9.875,null,3.25,3.25,null,9.875,9.875,null]},{\"showlegend\":false,\"mode\":\"lines\",\"line\":{\"color\":\"#AEC7E8\"},\"y\":[0.14456360042095184,0.14456360042095184,null,0.14456360042095184,0.13399001955986023,null,0.14456360042095184,0.0,null],\"type\":\"scatter\",\"hoverinfo\":\"skip\",\"yaxis\":\"y1\",\"x\":[22.016992952647332,24.162277660168378,null,22.016992952647332,22.016992952647332,null,24.162277660168378,24.162277660168378,null]},{\"showlegend\":false,\"mode\":\"lines\",\"line\":{\"color\":\"#FFBB78\"},\"y\":[0.07859344035387039,0.07859344035387039,null,0.07859344035387039,0.010591098107397556,null,0.07859344035387039,0.07124499976634979,null],\"type\":\"scatter\",\"hoverinfo\":\"skip\",\"yaxis\":\"y1\",\"x\":[8.5,11.25,null,8.5,8.5,null,11.25,11.25,null]},{\"showlegend\":false,\"mode\":\"lines\",\"line\":{\"color\":\"#FFBB78\"},\"y\":[0.0,0.05308804288506508,0.05308804288506508,0.0],\"type\":\"scatter\",\"fill\":\"toself\",\"hoverinfo\":\"skip\",\"yaxis\":\"y1\",\"x\":[13.0,13.0,14.0,14.0]},{\"showlegend\":false,\"mode\":\"lines\",\"line\":{\"color\":\"#AEC7E8\"},\"y\":[0.0,0.012036108411848545,0.012036108411848545,0.0],\"type\":\"scatter\",\"fill\":\"toself\",\"hoverinfo\":\"skip\",\"yaxis\":\"y1\",\"x\":[18.0,18.0,21.162277660168378,21.162277660168378]},{\"showlegend\":false,\"mode\":\"lines\",\"line\":{\"color\":\"#FFBB78\"},\"y\":[0.0,0.013871720992028713,0.013871720992028713,0.0],\"type\":\"scatter\",\"fill\":\"toself\",\"hoverinfo\":\"skip\",\"yaxis\":\"y1\",\"x\":[1.0,1.0,2.0,2.0]},{\"showlegend\":false,\"mode\":\"lines\",\"line\":{\"color\":\"#666666\"},\"y\":[0.43022751808166504,0.43022751808166504,null,0.43022751808166504,0.20610027015209198,null,0.43022751808166504,0.33762016892433167,null],\"type\":\"scatter\",\"hoverinfo\":\"skip\",\"yaxis\":\"y1\",\"x\":[26.889239062373782,38.740082580462406,null,26.889239062373782,26.889239062373782,null,38.740082580462406,38.740082580462406,null]},{\"showlegend\":false,\"mode\":\"lines\",\"line\":{\"color\":\"#FFBB78\"},\"y\":[0.0,0.03581227362155914,0.03581227362155914,0.0],\"type\":\"scatter\",\"fill\":\"toself\",\"hoverinfo\":\"skip\",\"yaxis\":\"y1\",\"x\":[10.0,10.0,11.0,11.0]},{\"showlegend\":false,\"mode\":\"lines\",\"line\":{\"color\":\"#AEC7E8\"},\"y\":[0.1750958263874054,0.1750958263874054,null,0.1750958263874054,0.08516886830329895,null,0.1750958263874054,0.10644222050905228,null],\"type\":\"scatter\",\"hoverinfo\":\"skip\",\"yaxis\":\"y1\",\"x\":[27.573688201540833,33.803997435138584,null,27.573688201540833,27.573688201540833,null,33.803997435138584,33.803997435138584,null]},{\"showlegend\":false,\"mode\":\"lines\",\"line\":{\"color\":\"#FFBB78\"},\"y\":[0.0,0.03944283723831177,0.03944283723831177,0.0],\"type\":\"scatter\",\"fill\":\"toself\",\"hoverinfo\":\"skip\",\"yaxis\":\"y1\",\"x\":[15.0,15.0,16.0,16.0]},{\"showlegend\":false,\"mode\":\"lines\",\"line\":{\"color\":\"#FFBB78\"},\"y\":[0.0,0.010591098107397556,0.010591098107397556,0.0],\"type\":\"scatter\",\"fill\":\"toself\",\"hoverinfo\":\"skip\",\"yaxis\":\"y1\",\"x\":[8.0,8.0,9.0,9.0]},{\"showlegend\":false,\"mode\":\"lines\",\"line\":{\"color\":\"#666666\"},\"y\":[0.4645254611968994,0.4645254611968994,null,0.4645254611968994,0.16730572283267975,null,0.4645254611968994,0.43022751808166504,null],\"type\":\"scatter\",\"hoverinfo\":\"skip\",\"yaxis\":\"y1\",\"x\":[10.71875,32.814660821418094,null,10.71875,10.71875,null,32.814660821418094,32.814660821418094,null]},{\"showlegend\":false,\"mode\":\"lines\",\"line\":{\"color\":\"#AEC7E8\"},\"y\":[0.10644222050905228,0.10644222050905228,null,0.10644222050905228,0.05259765312075615,null,0.10644222050905228,0.0785183236002922,null],\"type\":\"scatter\",\"hoverinfo\":\"skip\",\"yaxis\":\"y1\",\"x\":[32.050924991706985,35.55706987857019,null,32.050924991706985,32.050924991706985,null,35.55706987857019,35.55706987857019,null]},{\"showlegend\":false,\"mode\":\"lines\",\"line\":{\"color\":\"#FFBB78\"},\"y\":[0.15539871156215668,0.15539871156215668,null,0.15539871156215668,0.05308804288506508,null,0.15539871156215668,0.0797385647892952,null],\"type\":\"scatter\",\"hoverinfo\":\"skip\",\"yaxis\":\"y1\",\"x\":[13.5,16.25,null,13.5,13.5,null,16.25,16.25,null]},{\"showlegend\":false,\"mode\":\"lines\",\"line\":{\"color\":\"#AEC7E8\"},\"y\":[0.08516886830329895,0.08516886830329895,null,0.08516886830329895,0.039135925471782684,null,0.08516886830329895,0.055009301751852036,null],\"type\":\"scatter\",\"hoverinfo\":\"skip\",\"yaxis\":\"y1\",\"x\":[26.02830306395282,29.119073339128846,null,26.02830306395282,26.02830306395282,null,29.119073339128846,29.119073339128846,null]},{\"showlegend\":false,\"mode\":\"lines\",\"line\":{\"color\":\"#AEC7E8\"},\"y\":[0.0,0.039135925471782684,0.039135925471782684,0.0],\"type\":\"scatter\",\"fill\":\"toself\",\"hoverinfo\":\"skip\",\"yaxis\":\"y1\",\"x\":[25.162277660168378,25.162277660168378,26.894328467737257,26.894328467737257]},{\"showlegend\":false,\"mode\":\"lines\",\"line\":{\"color\":\"#AEC7E8\"},\"y\":[0.0,0.055009301751852036,0.055009301751852036,0.0],\"type\":\"scatter\",\"fill\":\"toself\",\"hoverinfo\":\"skip\",\"yaxis\":\"y1\",\"x\":[27.894328467737257,27.894328467737257,30.343818210520435,30.343818210520435]},{\"showlegend\":false,\"mode\":\"lines\",\"line\":{\"color\":\"#FFBB78\"},\"y\":[0.09163738787174225,0.09163738787174225,null,0.09163738787174225,0.0,null,0.09163738787174225,0.0,null],\"type\":\"scatter\",\"hoverinfo\":\"skip\",\"yaxis\":\"y1\",\"x\":[37.490082580462406,38.490082580462406,null,37.490082580462406,37.490082580462406,null,38.490082580462406,38.490082580462406,null]},{\"showlegend\":false,\"mode\":\"lines\",\"line\":{\"color\":\"#FFBB78\"},\"y\":[0.06941715627908707,0.06941715627908707,null,0.06941715627908707,0.013871720992028713,null,0.06941715627908707,0.04771293327212334,null],\"type\":\"scatter\",\"hoverinfo\":\"skip\",\"yaxis\":\"y1\",\"x\":[1.5,5.0,null,1.5,1.5,null,5.0,5.0,null]},{\"showlegend\":false,\"mode\":\"lines\",\"line\":{\"color\":\"#FFBB78\"},\"y\":[0.33762016892433167,0.33762016892433167,null,0.33762016892433167,0.09163738787174225,null,0.33762016892433167,0.0,null],\"type\":\"scatter\",\"hoverinfo\":\"skip\",\"yaxis\":\"y1\",\"x\":[37.990082580462406,39.490082580462406,null,37.990082580462406,37.990082580462406,null,39.490082580462406,39.490082580462406,null]},{\"showlegend\":false,\"mode\":\"lines\",\"line\":{\"color\":\"#AEC7E8\"},\"y\":[0.13399001955986023,0.13399001955986023,null,0.13399001955986023,0.08803962916135788,null,0.13399001955986023,0.0,null],\"type\":\"scatter\",\"hoverinfo\":\"skip\",\"yaxis\":\"y1\",\"x\":[20.871708245126285,23.162277660168378,null,20.871708245126285,20.871708245126285,null,23.162277660168378,23.162277660168378,null]},{\"showlegend\":false,\"mode\":\"lines\",\"line\":{\"color\":\"#AEC7E8\"},\"y\":[0.20610027015209198,0.20610027015209198,null,0.20610027015209198,0.14456360042095184,null,0.20610027015209198,0.1750958263874054,null],\"type\":\"scatter\",\"hoverinfo\":\"skip\",\"yaxis\":\"y1\",\"x\":[23.089635306407857,30.688842818339708,null,23.089635306407857,23.089635306407857,null,30.688842818339708,30.688842818339708,null]},{\"showlegend\":false,\"mode\":\"lines\",\"line\":{\"color\":\"#FFBB78\"},\"y\":[0.07124499976634979,0.07124499976634979,null,0.07124499976634979,0.03581227362155914,null,0.07124499976634979,0.0,null],\"type\":\"scatter\",\"hoverinfo\":\"skip\",\"yaxis\":\"y1\",\"x\":[10.5,12.0,null,10.5,10.5,null,12.0,12.0,null]},{\"showlegend\":false,\"mode\":\"lines\",\"line\":{\"color\":\"#AEC7E8\"},\"y\":[0.08803962916135788,0.08803962916135788,null,0.08803962916135788,0.012036108411848545,null,0.08803962916135788,0.0,null],\"type\":\"scatter\",\"hoverinfo\":\"skip\",\"yaxis\":\"y1\",\"x\":[19.58113883008419,22.162277660168378,null,19.58113883008419,19.58113883008419,null,22.162277660168378,22.162277660168378,null]},{\"showlegend\":false,\"mode\":\"lines\",\"line\":{\"color\":\"#AEC7E8\"},\"y\":[0.0785183236002922,0.0785183236002922,null,0.0785183236002922,0.0496852807700634,null,0.0785183236002922,0.0,null],\"type\":\"scatter\",\"hoverinfo\":\"skip\",\"yaxis\":\"y1\",\"x\":[34.624057176677965,36.490082580462406,null,34.624057176677965,34.624057176677965,null,36.490082580462406,36.490082580462406,null]},{\"showlegend\":false,\"mode\":\"lines\",\"line\":{\"color\":\"#AEC7E8\"},\"y\":[0.0,0.05259765312075615,0.05259765312075615,0.0],\"type\":\"scatter\",\"fill\":\"toself\",\"hoverinfo\":\"skip\",\"yaxis\":\"y1\",\"x\":[31.343818210520435,31.343818210520435,32.75803177289353,32.75803177289353]},{\"showlegend\":false,\"mode\":\"lines\",\"line\":{\"color\":\"#AEC7E8\"},\"y\":[0.0,0.0496852807700634,0.0496852807700634,0.0],\"type\":\"scatter\",\"fill\":\"toself\",\"hoverinfo\":\"skip\",\"yaxis\":\"y1\",\"x\":[33.75803177289353,33.75803177289353,35.490082580462406,35.490082580462406]},{\"showlegend\":false,\"mode\":\"lines\",\"line\":{\"color\":\"#FFBB78\"},\"y\":[0.0,0.04771293327212334,0.04771293327212334,0.0],\"type\":\"scatter\",\"fill\":\"toself\",\"hoverinfo\":\"skip\",\"yaxis\":\"y1\",\"x\":[3.0,3.0,7.0,7.0]},{\"showlegend\":false,\"mode\":\"lines\",\"line\":{\"color\":\"#FFBB78\"},\"y\":[0.0797385647892952,0.0797385647892952,null,0.0797385647892952,0.03944283723831177,null,0.0797385647892952,0.0,null],\"type\":\"scatter\",\"hoverinfo\":\"skip\",\"yaxis\":\"y1\",\"x\":[15.5,17.0,null,15.5,15.5,null,17.0,17.0,null]},{\"showlegend\":false,\"mode\":\"markers\",\"marker\":{\"color\":[\"#AEC7E8\",\"#FFBB78\",\"#FFBB78\",\"#AEC7E8\",\"#FFBB78\",\"#FFBB78\",\"#AEC7E8\",\"#FFBB78\",\"#666666\",\"#FFBB78\",\"#AEC7E8\",\"#FFBB78\",\"#FFBB78\",\"#666666\",\"#AEC7E8\",\"#FFBB78\",\"#AEC7E8\",\"#AEC7E8\",\"#AEC7E8\",\"#FFBB78\",\"#FFBB78\",\"#FFBB78\",\"#AEC7E8\",\"#AEC7E8\",\"#FFBB78\",\"#AEC7E8\",\"#AEC7E8\",\"#AEC7E8\",\"#FFBB78\",\"#FFBB78\"],\"size\":[4,8,4,4,4,8,8,8,4,8,4,8,8,8,4,4,4,4,4,8,4,4,4,8,4,4,4,4,4,4]},\"y\":[0.0496852807700634,0.16730572283267975,0.13829229772090912,0.14456360042095184,0.07859344035387039,0.05308804288506508,0.012036108411848545,0.013871720992028713,0.43022751808166504,0.03581227362155914,0.1750958263874054,0.03944283723831177,0.010591098107397556,0.4645254611968994,0.10644222050905228,0.15539871156215668,0.08516886830329895,0.039135925471782684,0.055009301751852036,0.09163738787174225,0.06941715627908707,0.33762016892433167,0.13399001955986023,0.20610027015209198,0.07124499976634979,0.08803962916135788,0.0785183236002922,0.05259765312075615,0.04771293327212334,0.0797385647892952],\"type\":\"scatter\",\"customdata\":[[106,4,\"perforans\"],[124,29,\"euvesicatoria\"],[121,24,\"euvesicatoria\"],[122,14,\"perforans\"],[114,5,\"euvesicatoria\"],[109,2,\"euvesicatoria\"],[89,11,\"perforans\"],[91,2,\"euvesicatoria\"],[128,36,\"(mixed)\"],[102,2,\"euvesicatoria\"],[125,19,\"perforans\"],[104,2,\"euvesicatoria\"],[87,2,\"euvesicatoria\"],[129,65,\"(mixed)\"],[119,8,\"perforans\"],[123,5,\"euvesicatoria\"],[116,11,\"perforans\"],[103,4,\"perforans\"],[110,7,\"perforans\"],[118,2,\"euvesicatoria\"],[111,19,\"euvesicatoria\"],[127,3,\"euvesicatoria\"],[120,13,\"perforans\"],[126,33,\"perforans\"],[112,3,\"euvesicatoria\"],[117,12,\"perforans\"],[113,5,\"perforans\"],[108,3,\"perforans\"],[105,17,\"euvesicatoria\"],[115,3,\"euvesicatoria\"]],\"yaxis\":\"y1\",\"hovertemplate\":\"ID: %{customdata[0]}<br>\\nHeight: %{y:.3f}<br>\\nGenome count: %{customdata[1]}\\n<br>\\n%{customdata[2]}\\n<extra></extra>\",\"x\":[34.624057176677965,10.71875,6.5625,23.089635306407857,9.875,13.5,19.58113883008419,1.5,32.814660821418094,10.5,30.688842818339708,15.5,8.5,21.766705410709047,33.803997435138584,14.875,27.573688201540833,26.02830306395282,29.119073339128846,37.990082580462406,3.25,38.740082580462406,22.016992952647332,26.889239062373782,11.25,20.871708245126285,35.55706987857019,32.050924991706985,5.0,16.25]},{\"colorscale\":[[0.0,\"#666666\"],[0.1,\"#AEC7E8\"],[0.2,\"#FFBB78\"],[0.3,\"#98DF8A\"],[0.4,\"#FF9896\"],[0.5,\"#C5B0D5\"],[0.6,\"#C49C94\"],[0.7,\"#F7B6D2\"],[0.8,\"#C7C7C7\"],[0.9,\"#DBDB8D\"],[1.0,\"#9EDAE5\"]],\"yaxis\":\"y2\",\"showscale\":false,\"x\":[0.5,2.5,7.5,9.5,11.5,12.5,14.5,16.5,17.5,21.662277660168378,22.662277660168378,23.662277660168378,24.662277660168378,27.394328467737257,30.843818210520435,33.25803177289353,35.990082580462406,36.990082580462406,37.990082580462406,38.990082580462406,39.990082580462406],\"customdata\":[[[\"ID 91\",\"euvesicatoria\"],[\"ID 105\",\"euvesicatoria\"],[\"ID 87\",\"euvesicatoria\"],[\"ID 102\",\"euvesicatoria\"],[\"Genome 64\",\"euvesicatoria\"],[\"ID 109\",\"euvesicatoria\"],[\"ID 104\",\"euvesicatoria\"],[\"Genome 49\",\"euvesicatoria\"],[\"ID 89\",\"perforans\"],[\"Genome 1\",\"perforans\"],[\"Genome 14\",\"perforans\"],[\"Genome 15\",\"perforans\"],[\"ID 103\",\"perforans\"],[\"ID 110\",\"perforans\"],[\"ID 108\",\"perforans\"],[\"ID 106\",\"perforans\"],[\"Genome 2\",\"perforans\"],[\"Genome 36\",\"euvesicatoria\"],[\"Genome 65\",\"euvesicatoria\"],[\"Genome 35\",\"euvesicatoria\"]]],\"zmin\":0,\"z\":[[2,2,2,2,2,2,2,2,1,1,1,1,1,1,1,1,1,2,2,2]],\"zmax\":10,\"type\":\"heatmap\",\"xgap\":1,\"hovertemplate\":\"%{customdata[0]} <br>\\n%{customdata[1]}\\n<extra></extra>\\n\"}],{\"xaxis\":{\"visible\":false},\"hovermode\":\"closest\",\"margin\":{\"l\":50,\"b\":50,\"r\":50,\"t\":60},\"yaxis2\":{\"visible\":false,\"domain\":[0.0,0.05],\"fixedrange\":true}},{}); gd.on(\"plotly_hover\",(function (data){var filtered_data=WebIO.PlotlyCommands.filterEventData(gd,data,\"hover\"); return !(filtered_data.isnil) ? (WebIO.setval({\"name\":\"hover\",\"scope\":\"17506140971631828843\",\"id\":\"502272094549164537\",\"type\":\"observable\"},filtered_data.out)) : undefined})); gd.on(\"plotly_unhover\",(function (){return WebIO.setval({\"name\":\"hover\",\"scope\":\"17506140971631828843\",\"id\":\"502272094549164537\",\"type\":\"observable\"},{})})); gd.on(\"plotly_selected\",(function (data){var filtered_data=WebIO.PlotlyCommands.filterEventData(gd,data,\"selected\"); return !(filtered_data.isnil) ? (WebIO.setval({\"name\":\"selected\",\"scope\":\"17506140971631828843\",\"id\":\"4526995372939616695\",\"type\":\"observable\"},filtered_data.out)) : undefined})); gd.on(\"plotly_deselect\",(function (){return WebIO.setval({\"name\":\"selected\",\"scope\":\"17506140971631828843\",\"id\":\"4526995372939616695\",\"type\":\"observable\"},{})})); gd.on(\"plotly_relayout\",(function (data){var filtered_data=WebIO.PlotlyCommands.filterEventData(gd,data,\"relayout\"); return !(filtered_data.isnil) ? (WebIO.setval({\"name\":\"relayout\",\"scope\":\"17506140971631828843\",\"id\":\"1173864519500881566\",\"type\":\"observable\"},filtered_data.out)) : undefined})); return gd.on(\"plotly_click\",(function (data){var filtered_data=WebIO.PlotlyCommands.filterEventData(gd,data,\"click\"); return !(filtered_data.isnil) ? (WebIO.setval({\"name\":\"click\",\"scope\":\"17506140971631828843\",\"id\":\"8784860868673815646\",\"type\":\"observable\"},filtered_data.out)) : undefined}))}));\n    (WebIO.importBlock({\"data\":[{\"name\":\"Plotly\",\"type\":\"js\",\"url\":\"/assetserver/e6903599031aaef8675931dfcd7df98a1aeffbfc-plotly-latest.min.js\"},{\"name\":null,\"type\":\"js\",\"url\":\"/assetserver/74a5dea81f21b0b802ef1ee92f1c8a504eac1a0c-plotly_webio.bundle.js\"}],\"type\":\"async_block\"})).then((imports) => handler.apply(this, imports));\n}\n"
        ],
        "observables": {
         "__gd_contents": {
          "id": "13520108885049226136",
          "sync": false,
          "value": {}
         },
         "__get_gd_contents": {
          "id": "11883295387492758988",
          "sync": false,
          "value": ""
         },
         "_commands": {
          "id": "15621347712766076925",
          "sync": false,
          "value": []
         },
         "_downloadImage": {
          "id": "13523252633607850010",
          "sync": false,
          "value": {}
         },
         "_toImage": {
          "id": "5505369664798414139",
          "sync": false,
          "value": {}
         },
         "click": {
          "id": "8784860868673815646",
          "sync": false,
          "value": {}
         },
         "hover": {
          "id": "502272094549164537",
          "sync": false,
          "value": {}
         },
         "image": {
          "id": "4266325546261946752",
          "sync": true,
          "value": ""
         },
         "relayout": {
          "id": "1173864519500881566",
          "sync": false,
          "value": {}
         },
         "selected": {
          "id": "4526995372939616695",
          "sync": false,
          "value": {}
         }
        },
        "systemjs_options": null
       },
       "nodeType": "Scope",
       "props": {},
       "type": "node"
      },
      "image/png": "[encoded data removed]",
      "image/svg+xml": [
       "<svg class=\"main-svg\" xmlns=\"http://www.w3.org/2000/svg\" xmlns:xlink=\"http://www.w3.org/1999/xlink\" width=\"700\" height=\"500\" style=\"\" viewBox=\"0 0 700 500\"><rect x=\"0\" y=\"0\" width=\"700\" height=\"500\" style=\"fill: rgb(255, 255, 255); fill-opacity: 1;\"/><defs id=\"defs-2df9b3\"><g class=\"clips\"><clipPath id=\"clip2df9b3xyplot\" class=\"plotclip\"><rect width=\"600\" height=\"390\"/></clipPath><clipPath id=\"clip2df9b3xy2plot\" class=\"plotclip\"><rect width=\"600\" height=\"19.5\"/></clipPath><clipPath class=\"axesclip\" id=\"clip2df9b3x\"><rect x=\"50\" y=\"0\" width=\"600\" height=\"500\"/></clipPath><clipPath class=\"axesclip\" id=\"clip2df9b3y\"><rect x=\"0\" y=\"60\" width=\"700\" height=\"390\"/></clipPath><clipPath class=\"axesclip\" id=\"clip2df9b3xy\"><rect x=\"50\" y=\"60\" width=\"600\" height=\"390\"/></clipPath><clipPath class=\"axesclip\" id=\"clip2df9b3y2\"><rect x=\"0\" y=\"430.5\" width=\"700\" height=\"19.5\"/></clipPath><clipPath class=\"axesclip\" id=\"clip2df9b3xy2\"><rect x=\"50\" y=\"430.5\" width=\"600\" height=\"19.5\"/></clipPath></g><g class=\"gradients\"/></defs><g class=\"bglayer\"/><g class=\"layer-below\"><g class=\"imagelayer\"/><g class=\"shapelayer\"/></g><g class=\"cartesianlayer\"><g class=\"subplot xy\"><g class=\"layer-subplot\"><g class=\"shapelayer\"/><g class=\"imagelayer\"/></g><g class=\"gridlayer\"><g class=\"x\"/><g class=\"y\"><path class=\"ygrid crisp\" transform=\"translate(0,356.02)\" d=\"M50,0h600\" style=\"stroke: rgb(238, 238, 238); stroke-opacity: 1; stroke-width: 1px;\"/><path class=\"ygrid crisp\" transform=\"translate(0,281.53)\" d=\"M50,0h600\" style=\"stroke: rgb(238, 238, 238); stroke-opacity: 1; stroke-width: 1px;\"/><path class=\"ygrid crisp\" transform=\"translate(0,207.05)\" d=\"M50,0h600\" style=\"stroke: rgb(238, 238, 238); stroke-opacity: 1; stroke-width: 1px;\"/><path class=\"ygrid crisp\" transform=\"translate(0,132.56)\" d=\"M50,0h600\" style=\"stroke: rgb(238, 238, 238); stroke-opacity: 1; stroke-width: 1px;\"/></g></g><g class=\"zerolinelayer\"><path class=\"yzl zl crisp\" transform=\"translate(0,430.5)\" d=\"M50,0h600\" style=\"stroke: rgb(68, 68, 68); stroke-opacity: 1; stroke-width: 1px;\"/></g><path class=\"xlines-below\"/><path class=\"ylines-below\"/><g class=\"overlines-below\"/><g class=\"xaxislayer-below\"/><g class=\"yaxislayer-below\"/><g class=\"overaxes-below\"/><g class=\"plot\" transform=\"translate(50,60)\" clip-path=\"url('#clip2df9b3xyplot')\"><g class=\"scatterlayer mlayer\"><g class=\"trace scatter trace48ef62\" style=\"stroke-miterlimit: 2; opacity: 1;\"><g class=\"fills\"/><g class=\"errorbars\"/><g class=\"lines\"><path class=\"js-line\" d=\"M107.32,245.88L226.07,245.88\" style=\"vector-effect: non-scaling-stroke; fill: none; stroke: rgb(255, 187, 120); stroke-opacity: 1; stroke-width: 2px; opacity: 1;\"/><path class=\"js-line\" d=\"M107.32,245.88L107.32,267.49\" style=\"vector-effect: non-scaling-stroke; fill: none; stroke: rgb(255, 187, 120); stroke-opacity: 1; stroke-width: 2px; opacity: 1;\"/><path class=\"js-line\" d=\"M226.07,245.88L226.07,254.75\" style=\"vector-effect: non-scaling-stroke; fill: none; stroke: rgb(255, 187, 120); stroke-opacity: 1; stroke-width: 2px; opacity: 1;\"/></g><g class=\"points\"/><g class=\"text\"/></g><g class=\"trace scatter trace3be8c0\" style=\"stroke-miterlimit: 2; opacity: 1;\"><g class=\"fills\"/><g class=\"errorbars\"/><g class=\"lines\"><path class=\"js-line\" d=\"M60,267.49L154.64,267.49\" style=\"vector-effect: non-scaling-stroke; fill: none; stroke: rgb(255, 187, 120); stroke-opacity: 1; stroke-width: 2px; opacity: 1;\"/><path class=\"js-line\" d=\"M60,267.49L60,318.79\" style=\"vector-effect: non-scaling-stroke; fill: none; stroke: rgb(255, 187, 120); stroke-opacity: 1; stroke-width: 2px; opacity: 1;\"/><path class=\"js-line\" d=\"M154.64,267.49L154.64,311.96\" style=\"vector-effect: non-scaling-stroke; fill: none; stroke: rgb(255, 187, 120); stroke-opacity: 1; stroke-width: 2px; opacity: 1;\"/></g><g class=\"points\"/><g class=\"text\"/></g><g class=\"trace scatter traceaad11c\" style=\"stroke-miterlimit: 2; opacity: 1;\"><g class=\"fills\"/><g class=\"errorbars\"/><g class=\"lines\"><path class=\"js-line\" d=\"M328.1,262.82L358.75,262.82\" style=\"vector-effect: non-scaling-stroke; fill: none; stroke: rgb(174, 199, 232); stroke-opacity: 1; stroke-width: 2px; opacity: 1;\"/><path class=\"js-line\" d=\"M328.1,262.82L328.1,270.7\" style=\"vector-effect: non-scaling-stroke; fill: none; stroke: rgb(174, 199, 232); stroke-opacity: 1; stroke-width: 2px; opacity: 1;\"/><path class=\"js-line\" d=\"M358.75,262.82L358.75,370.5\" style=\"vector-effect: non-scaling-stroke; fill: none; stroke: rgb(174, 199, 232); stroke-opacity: 1; stroke-width: 2px; opacity: 1;\"/></g><g class=\"points\"/><g class=\"text\"/></g><g class=\"trace scatter trace45101e\" style=\"stroke-miterlimit: 2; opacity: 1;\"><g class=\"fills\"/><g class=\"errorbars\"/><g class=\"lines\"><path class=\"js-line\" d=\"M135,311.96L174.29,311.96\" style=\"vector-effect: non-scaling-stroke; fill: none; stroke: rgb(255, 187, 120); stroke-opacity: 1; stroke-width: 2px; opacity: 1;\"/><path class=\"js-line\" d=\"M135,311.96L135,362.61\" style=\"vector-effect: non-scaling-stroke; fill: none; stroke: rgb(255, 187, 120); stroke-opacity: 1; stroke-width: 2px; opacity: 1;\"/><path class=\"js-line\" d=\"M174.29,311.96L174.29,317.43\" style=\"vector-effect: non-scaling-stroke; fill: none; stroke: rgb(255, 187, 120); stroke-opacity: 1; stroke-width: 2px; opacity: 1;\"/></g><g class=\"points\"/><g class=\"text\"/></g><g class=\"trace scatter trace3da969\" style=\"stroke-miterlimit: 2; opacity: 1;\"><g class=\"fills\"><g><path class=\"js-fill\" d=\"M199.29,370.5L199.29,330.96L213.57,330.96L213.57,370.5Z\" style=\"fill: rgb(255, 187, 120); fill-opacity: 0.5; stroke-width: 0;\"/></g></g><g class=\"errorbars\"/><g class=\"lines\"><path class=\"js-line\" d=\"M199.29,370.5L199.29,330.96L213.57,330.96L213.57,370.5\" style=\"vector-effect: non-scaling-stroke; fill: none; stroke: rgb(255, 187, 120); stroke-opacity: 1; stroke-width: 2px; opacity: 1;\"/></g><g class=\"points\"/><g class=\"text\"/></g><g class=\"trace scatter tracecb7621\" style=\"stroke-miterlimit: 2; opacity: 1;\"><g class=\"fills\"><g><path class=\"js-fill\" d=\"M270.71,370.5L270.71,361.53L315.89,361.53L315.89,370.5Z\" style=\"fill: rgb(174, 199, 232); fill-opacity: 0.5; stroke-width: 0;\"/></g></g><g class=\"errorbars\"/><g class=\"lines\"><path class=\"js-line\" d=\"M270.71,370.5L270.71,361.53L315.89,361.53L315.89,370.5\" style=\"vector-effect: non-scaling-stroke; fill: none; stroke: rgb(174, 199, 232); stroke-opacity: 1; stroke-width: 2px; opacity: 1;\"/></g><g class=\"points\"/><g class=\"text\"/></g><g class=\"trace scatter trace4ef4d0\" style=\"stroke-miterlimit: 2; opacity: 1;\"><g class=\"fills\"><g><path class=\"js-fill\" d=\"M27.86,370.5L27.86,360.17L42.14,360.17L42.14,370.5Z\" style=\"fill: rgb(255, 187, 120); fill-opacity: 0.5; stroke-width: 0;\"/></g></g><g class=\"errorbars\"/><g class=\"lines\"><path class=\"js-line\" d=\"M27.86,370.5L27.86,360.17L42.14,360.17L42.14,370.5\" style=\"vector-effect: non-scaling-stroke; fill: none; stroke: rgb(255, 187, 120); stroke-opacity: 1; stroke-width: 2px; opacity: 1;\"/></g><g class=\"points\"/><g class=\"text\"/></g><g class=\"trace scatter trace8a9b63\" style=\"stroke-miterlimit: 2; opacity: 1;\"><g class=\"fills\"/><g class=\"errorbars\"/><g class=\"lines\"><path class=\"js-line\" d=\"M397.7,50.05L567,50.05\" style=\"vector-effect: non-scaling-stroke; fill: none; stroke: rgb(102, 102, 102); stroke-opacity: 1; stroke-width: 2px; opacity: 1;\"/><path class=\"js-line\" d=\"M397.7,50.05L397.7,216.99\" style=\"vector-effect: non-scaling-stroke; fill: none; stroke: rgb(102, 102, 102); stroke-opacity: 1; stroke-width: 2px; opacity: 1;\"/><path class=\"js-line\" d=\"M567,50.05L567,119.02\" style=\"vector-effect: non-scaling-stroke; fill: none; stroke: rgb(102, 102, 102); stroke-opacity: 1; stroke-width: 2px; opacity: 1;\"/></g><g class=\"points\"/><g class=\"text\"/></g><g class=\"trace scatter trace193587\" style=\"stroke-miterlimit: 2; opacity: 1;\"><g class=\"fills\"><g><path class=\"js-fill\" d=\"M156.43,370.5L156.43,343.83L170.71,343.83L170.71,370.5Z\" style=\"fill: rgb(255, 187, 120); fill-opacity: 0.5; stroke-width: 0;\"/></g></g><g class=\"errorbars\"/><g class=\"lines\"><path class=\"js-line\" d=\"M156.43,370.5L156.43,343.83L170.71,343.83L170.71,370.5\" style=\"vector-effect: non-scaling-stroke; fill: none; stroke: rgb(255, 187, 120); stroke-opacity: 1; stroke-width: 2px; opacity: 1;\"/></g><g class=\"points\"/><g class=\"text\"/></g><g class=\"trace scatter trace4962c2\" style=\"stroke-miterlimit: 2; opacity: 1;\"><g class=\"fills\"/><g class=\"errorbars\"/><g class=\"lines\"><path class=\"js-line\" d=\"M407.48,240.08L496.48,240.08\" style=\"vector-effect: non-scaling-stroke; fill: none; stroke: rgb(174, 199, 232); stroke-opacity: 1; stroke-width: 2px; opacity: 1;\"/><path class=\"js-line\" d=\"M407.48,240.08L407.48,307.06\" style=\"vector-effect: non-scaling-stroke; fill: none; stroke: rgb(174, 199, 232); stroke-opacity: 1; stroke-width: 2px; opacity: 1;\"/><path class=\"js-line\" d=\"M496.48,240.08L496.48,291.22\" style=\"vector-effect: non-scaling-stroke; fill: none; stroke: rgb(174, 199, 232); stroke-opacity: 1; stroke-width: 2px; opacity: 1;\"/></g><g class=\"points\"/><g class=\"text\"/></g><g class=\"trace scatter trace1dd427\" style=\"stroke-miterlimit: 2; opacity: 1;\"><g class=\"fills\"><g><path class=\"js-fill\" d=\"M227.86,370.5L227.86,341.12L242.14,341.12L242.14,370.5Z\" style=\"fill: rgb(255, 187, 120); fill-opacity: 0.5; stroke-width: 0;\"/></g></g><g class=\"errorbars\"/><g class=\"lines\"><path class=\"js-line\" d=\"M227.86,370.5L227.86,341.12L242.14,341.12L242.14,370.5\" style=\"vector-effect: non-scaling-stroke; fill: none; stroke: rgb(255, 187, 120); stroke-opacity: 1; stroke-width: 2px; opacity: 1;\"/></g><g class=\"points\"/><g class=\"text\"/></g><g class=\"trace scatter tracefce9b8\" style=\"stroke-miterlimit: 2; opacity: 1;\"><g class=\"fills\"><g><path class=\"js-fill\" d=\"M127.86,370.5L127.86,362.61L142.14,362.61L142.14,370.5Z\" style=\"fill: rgb(255, 187, 120); fill-opacity: 0.5; stroke-width: 0;\"/></g></g><g class=\"errorbars\"/><g class=\"lines\"><path class=\"js-line\" d=\"M127.86,370.5L127.86,362.61L142.14,362.61L142.14,370.5\" style=\"vector-effect: non-scaling-stroke; fill: none; stroke: rgb(255, 187, 120); stroke-opacity: 1; stroke-width: 2px; opacity: 1;\"/></g><g class=\"points\"/><g class=\"text\"/></g><g class=\"trace scatter trace83cb5e\" style=\"stroke-miterlimit: 2; opacity: 1;\"><g class=\"fills\"/><g class=\"errorbars\"/><g class=\"lines\"><path class=\"js-line\" d=\"M166.7,24.5L482.35,24.5\" style=\"vector-effect: non-scaling-stroke; fill: none; stroke: rgb(102, 102, 102); stroke-opacity: 1; stroke-width: 2px; opacity: 1;\"/><path class=\"js-line\" d=\"M166.7,24.5L166.7,245.88\" style=\"vector-effect: non-scaling-stroke; fill: none; stroke: rgb(102, 102, 102); stroke-opacity: 1; stroke-width: 2px; opacity: 1;\"/><path class=\"js-line\" d=\"M482.35,24.5L482.35,50.05\" style=\"vector-effect: non-scaling-stroke; fill: none; stroke: rgb(102, 102, 102); stroke-opacity: 1; stroke-width: 2px; opacity: 1;\"/></g><g class=\"points\"/><g class=\"text\"/></g><g class=\"trace scatter trace787794\" style=\"stroke-miterlimit: 2; opacity: 1;\"><g class=\"fills\"/><g class=\"errorbars\"/><g class=\"lines\"><path class=\"js-line\" d=\"M471.44,291.22L521.53,291.22\" style=\"vector-effect: non-scaling-stroke; fill: none; stroke: rgb(174, 199, 232); stroke-opacity: 1; stroke-width: 2px; opacity: 1;\"/><path class=\"js-line\" d=\"M471.44,291.22L471.44,331.32\" style=\"vector-effect: non-scaling-stroke; fill: none; stroke: rgb(174, 199, 232); stroke-opacity: 1; stroke-width: 2px; opacity: 1;\"/><path class=\"js-line\" d=\"M521.53,291.22L521.53,312.02\" style=\"vector-effect: non-scaling-stroke; fill: none; stroke: rgb(174, 199, 232); stroke-opacity: 1; stroke-width: 2px; opacity: 1;\"/></g><g class=\"points\"/><g class=\"text\"/></g><g class=\"trace scatter trace7a3663\" style=\"stroke-miterlimit: 2; opacity: 1;\"><g class=\"fills\"/><g class=\"errorbars\"/><g class=\"lines\"><path class=\"js-line\" d=\"M206.43,254.75L245.71,254.75\" style=\"vector-effect: non-scaling-stroke; fill: none; stroke: rgb(255, 187, 120); stroke-opacity: 1; stroke-width: 2px; opacity: 1;\"/><path class=\"js-line\" d=\"M206.43,254.75L206.43,330.96\" style=\"vector-effect: non-scaling-stroke; fill: none; stroke: rgb(255, 187, 120); stroke-opacity: 1; stroke-width: 2px; opacity: 1;\"/><path class=\"js-line\" d=\"M245.71,254.75L245.71,311.11\" style=\"vector-effect: non-scaling-stroke; fill: none; stroke: rgb(255, 187, 120); stroke-opacity: 1; stroke-width: 2px; opacity: 1;\"/></g><g class=\"points\"/><g class=\"text\"/></g><g class=\"trace scatter tracedf7559\" style=\"stroke-miterlimit: 2; opacity: 1;\"><g class=\"fills\"/><g class=\"errorbars\"/><g class=\"lines\"><path class=\"js-line\" d=\"M385.4,307.06L429.56,307.06\" style=\"vector-effect: non-scaling-stroke; fill: none; stroke: rgb(174, 199, 232); stroke-opacity: 1; stroke-width: 2px; opacity: 1;\"/><path class=\"js-line\" d=\"M385.4,307.06L385.4,341.35\" style=\"vector-effect: non-scaling-stroke; fill: none; stroke: rgb(174, 199, 232); stroke-opacity: 1; stroke-width: 2px; opacity: 1;\"/><path class=\"js-line\" d=\"M429.56,307.06L429.56,329.53\" style=\"vector-effect: non-scaling-stroke; fill: none; stroke: rgb(174, 199, 232); stroke-opacity: 1; stroke-width: 2px; opacity: 1;\"/></g><g class=\"points\"/><g class=\"text\"/></g><g class=\"trace scatter trace710b7b\" style=\"stroke-miterlimit: 2; opacity: 1;\"><g class=\"fills\"><g><path class=\"js-fill\" d=\"M373.03,370.5L373.03,341.35L397.78,341.35L397.78,370.5Z\" style=\"fill: rgb(174, 199, 232); fill-opacity: 0.5; stroke-width: 0;\"/></g></g><g class=\"errorbars\"/><g class=\"lines\"><path class=\"js-line\" d=\"M373.03,370.5L373.03,341.35L397.78,341.35L397.78,370.5\" style=\"vector-effect: non-scaling-stroke; fill: none; stroke: rgb(174, 199, 232); stroke-opacity: 1; stroke-width: 2px; opacity: 1;\"/></g><g class=\"points\"/><g class=\"text\"/></g><g class=\"trace scatter tracecd0350\" style=\"stroke-miterlimit: 2; opacity: 1;\"><g class=\"fills\"><g><path class=\"js-fill\" d=\"M412.06,370.5L412.06,329.53L447.05,329.53L447.05,370.5Z\" style=\"fill: rgb(174, 199, 232); fill-opacity: 0.5; stroke-width: 0;\"/></g></g><g class=\"errorbars\"/><g class=\"lines\"><path class=\"js-line\" d=\"M412.06,370.5L412.06,329.53L447.05,329.53L447.05,370.5\" style=\"vector-effect: non-scaling-stroke; fill: none; stroke: rgb(174, 199, 232); stroke-opacity: 1; stroke-width: 2px; opacity: 1;\"/></g><g class=\"points\"/><g class=\"text\"/></g><g class=\"trace scatter trace5fb292\" style=\"stroke-miterlimit: 2; opacity: 1;\"><g class=\"fills\"/><g class=\"errorbars\"/><g class=\"lines\"><path class=\"js-line\" d=\"M549.14,302.24L563.43,302.24\" style=\"vector-effect: non-scaling-stroke; fill: none; stroke: rgb(255, 187, 120); stroke-opacity: 1; stroke-width: 2px; opacity: 1;\"/><path class=\"js-line\" d=\"M549.14,302.24L549.14,370.5\" style=\"vector-effect: non-scaling-stroke; fill: none; stroke: rgb(255, 187, 120); stroke-opacity: 1; stroke-width: 2px; opacity: 1;\"/><path class=\"js-line\" d=\"M563.43,302.24L563.43,370.5\" style=\"vector-effect: non-scaling-stroke; fill: none; stroke: rgb(255, 187, 120); stroke-opacity: 1; stroke-width: 2px; opacity: 1;\"/></g><g class=\"points\"/><g class=\"text\"/></g><g class=\"trace scatter trace2a69c7\" style=\"stroke-miterlimit: 2; opacity: 1;\"><g class=\"fills\"/><g class=\"errorbars\"/><g class=\"lines\"><path class=\"js-line\" d=\"M35,318.79L85,318.79\" style=\"vector-effect: non-scaling-stroke; fill: none; stroke: rgb(255, 187, 120); stroke-opacity: 1; stroke-width: 2px; opacity: 1;\"/><path class=\"js-line\" d=\"M35,318.79L35,360.17\" style=\"vector-effect: non-scaling-stroke; fill: none; stroke: rgb(255, 187, 120); stroke-opacity: 1; stroke-width: 2px; opacity: 1;\"/><path class=\"js-line\" d=\"M85,318.79L85,334.96\" style=\"vector-effect: non-scaling-stroke; fill: none; stroke: rgb(255, 187, 120); stroke-opacity: 1; stroke-width: 2px; opacity: 1;\"/></g><g class=\"points\"/><g class=\"text\"/></g><g class=\"trace scatter traceeff294\" style=\"stroke-miterlimit: 2; opacity: 1;\"><g class=\"fills\"/><g class=\"errorbars\"/><g class=\"lines\"><path class=\"js-line\" d=\"M556.29,119.02L577.71,119.02\" style=\"vector-effect: non-scaling-stroke; fill: none; stroke: rgb(255, 187, 120); stroke-opacity: 1; stroke-width: 2px; opacity: 1;\"/><path class=\"js-line\" d=\"M556.29,119.02L556.29,302.24\" style=\"vector-effect: non-scaling-stroke; fill: none; stroke: rgb(255, 187, 120); stroke-opacity: 1; stroke-width: 2px; opacity: 1;\"/><path class=\"js-line\" d=\"M577.71,119.02L577.71,370.5\" style=\"vector-effect: non-scaling-stroke; fill: none; stroke: rgb(255, 187, 120); stroke-opacity: 1; stroke-width: 2px; opacity: 1;\"/></g><g class=\"points\"/><g class=\"text\"/></g><g class=\"trace scatter traceacb3a0\" style=\"stroke-miterlimit: 2; opacity: 1;\"><g class=\"fills\"/><g class=\"errorbars\"/><g class=\"lines\"><path class=\"js-line\" d=\"M311.74,270.7L344.46,270.7\" style=\"vector-effect: non-scaling-stroke; fill: none; stroke: rgb(174, 199, 232); stroke-opacity: 1; stroke-width: 2px; opacity: 1;\"/><path class=\"js-line\" d=\"M311.74,270.7L311.74,304.92\" style=\"vector-effect: non-scaling-stroke; fill: none; stroke: rgb(174, 199, 232); stroke-opacity: 1; stroke-width: 2px; opacity: 1;\"/><path class=\"js-line\" d=\"M344.46,270.7L344.46,370.5\" style=\"vector-effect: non-scaling-stroke; fill: none; stroke: rgb(174, 199, 232); stroke-opacity: 1; stroke-width: 2px; opacity: 1;\"/></g><g class=\"points\"/><g class=\"text\"/></g><g class=\"trace scatter trace2f593b\" style=\"stroke-miterlimit: 2; opacity: 1;\"><g class=\"fills\"/><g class=\"errorbars\"/><g class=\"lines\"><path class=\"js-line\" d=\"M343.42,216.99L451.98,216.99\" style=\"vector-effect: non-scaling-stroke; fill: none; stroke: rgb(174, 199, 232); stroke-opacity: 1; stroke-width: 2px; opacity: 1;\"/><path class=\"js-line\" d=\"M343.42,216.99L343.42,262.82\" style=\"vector-effect: non-scaling-stroke; fill: none; stroke: rgb(174, 199, 232); stroke-opacity: 1; stroke-width: 2px; opacity: 1;\"/><path class=\"js-line\" d=\"M451.98,216.99L451.98,240.08\" style=\"vector-effect: non-scaling-stroke; fill: none; stroke: rgb(174, 199, 232); stroke-opacity: 1; stroke-width: 2px; opacity: 1;\"/></g><g class=\"points\"/><g class=\"text\"/></g><g class=\"trace scatter tracedf27e7\" style=\"stroke-miterlimit: 2; opacity: 1;\"><g class=\"fills\"/><g class=\"errorbars\"/><g class=\"lines\"><path class=\"js-line\" d=\"M163.57,317.43L185,317.43\" style=\"vector-effect: non-scaling-stroke; fill: none; stroke: rgb(255, 187, 120); stroke-opacity: 1; stroke-width: 2px; opacity: 1;\"/><path class=\"js-line\" d=\"M163.57,317.43L163.57,343.83\" style=\"vector-effect: non-scaling-stroke; fill: none; stroke: rgb(255, 187, 120); stroke-opacity: 1; stroke-width: 2px; opacity: 1;\"/><path class=\"js-line\" d=\"M185,317.43L185,370.5\" style=\"vector-effect: non-scaling-stroke; fill: none; stroke: rgb(255, 187, 120); stroke-opacity: 1; stroke-width: 2px; opacity: 1;\"/></g><g class=\"points\"/><g class=\"text\"/></g><g class=\"trace scatter trace5349e1\" style=\"stroke-miterlimit: 2; opacity: 1;\"><g class=\"fills\"/><g class=\"errorbars\"/><g class=\"lines\"><path class=\"js-line\" d=\"M293.3,304.92L330.17,304.92\" style=\"vector-effect: non-scaling-stroke; fill: none; stroke: rgb(174, 199, 232); stroke-opacity: 1; stroke-width: 2px; opacity: 1;\"/><path class=\"js-line\" d=\"M293.3,304.92L293.3,361.53\" style=\"vector-effect: non-scaling-stroke; fill: none; stroke: rgb(174, 199, 232); stroke-opacity: 1; stroke-width: 2px; opacity: 1;\"/><path class=\"js-line\" d=\"M330.17,304.92L330.17,370.5\" style=\"vector-effect: non-scaling-stroke; fill: none; stroke: rgb(174, 199, 232); stroke-opacity: 1; stroke-width: 2px; opacity: 1;\"/></g><g class=\"points\"/><g class=\"text\"/></g><g class=\"trace scatter traceb6a231\" style=\"stroke-miterlimit: 2; opacity: 1;\"><g class=\"fills\"/><g class=\"errorbars\"/><g class=\"lines\"><path class=\"js-line\" d=\"M508.2,312.02L534.86,312.02\" style=\"vector-effect: non-scaling-stroke; fill: none; stroke: rgb(174, 199, 232); stroke-opacity: 1; stroke-width: 2px; opacity: 1;\"/><path class=\"js-line\" d=\"M508.2,312.02L508.2,333.49\" style=\"vector-effect: non-scaling-stroke; fill: none; stroke: rgb(174, 199, 232); stroke-opacity: 1; stroke-width: 2px; opacity: 1;\"/><path class=\"js-line\" d=\"M534.86,312.02L534.86,370.5\" style=\"vector-effect: non-scaling-stroke; fill: none; stroke: rgb(174, 199, 232); stroke-opacity: 1; stroke-width: 2px; opacity: 1;\"/></g><g class=\"points\"/><g class=\"text\"/></g><g class=\"trace scatter trace81f603\" style=\"stroke-miterlimit: 2; opacity: 1;\"><g class=\"fills\"><g><path class=\"js-fill\" d=\"M461.34,370.5L461.34,331.32L481.54,331.32L481.54,370.5Z\" style=\"fill: rgb(174, 199, 232); fill-opacity: 0.5; stroke-width: 0;\"/></g></g><g class=\"errorbars\"/><g class=\"lines\"><path class=\"js-line\" d=\"M461.34,370.5L461.34,331.32L481.54,331.32L481.54,370.5\" style=\"vector-effect: non-scaling-stroke; fill: none; stroke: rgb(174, 199, 232); stroke-opacity: 1; stroke-width: 2px; opacity: 1;\"/></g><g class=\"points\"/><g class=\"text\"/></g><g class=\"trace scatter traceffcb98\" style=\"stroke-miterlimit: 2; opacity: 1;\"><g class=\"fills\"><g><path class=\"js-fill\" d=\"M495.83,370.5L495.83,333.49L520.57,333.49L520.57,370.5Z\" style=\"fill: rgb(174, 199, 232); fill-opacity: 0.5; stroke-width: 0;\"/></g></g><g class=\"errorbars\"/><g class=\"lines\"><path class=\"js-line\" d=\"M495.83,370.5L495.83,333.49L520.57,333.49L520.57,370.5\" style=\"vector-effect: non-scaling-stroke; fill: none; stroke: rgb(174, 199, 232); stroke-opacity: 1; stroke-width: 2px; opacity: 1;\"/></g><g class=\"points\"/><g class=\"text\"/></g><g class=\"trace scatter trace2b4dfd\" style=\"stroke-miterlimit: 2; opacity: 1;\"><g class=\"fills\"><g><path class=\"js-fill\" d=\"M56.43,370.5L56.43,334.96L113.57,334.96L113.57,370.5Z\" style=\"fill: rgb(255, 187, 120); fill-opacity: 0.5; stroke-width: 0;\"/></g></g><g class=\"errorbars\"/><g class=\"lines\"><path class=\"js-line\" d=\"M56.43,370.5L56.43,334.96L113.57,334.96L113.57,370.5\" style=\"vector-effect: non-scaling-stroke; fill: none; stroke: rgb(255, 187, 120); stroke-opacity: 1; stroke-width: 2px; opacity: 1;\"/></g><g class=\"points\"/><g class=\"text\"/></g><g class=\"trace scatter tracea0c960\" style=\"stroke-miterlimit: 2; opacity: 1;\"><g class=\"fills\"/><g class=\"errorbars\"/><g class=\"lines\"><path class=\"js-line\" d=\"M235,311.11L256.43,311.11\" style=\"vector-effect: non-scaling-stroke; fill: none; stroke: rgb(255, 187, 120); stroke-opacity: 1; stroke-width: 2px; opacity: 1;\"/><path class=\"js-line\" d=\"M235,311.11L235,341.12\" style=\"vector-effect: non-scaling-stroke; fill: none; stroke: rgb(255, 187, 120); stroke-opacity: 1; stroke-width: 2px; opacity: 1;\"/><path class=\"js-line\" d=\"M256.43,311.11L256.43,370.5\" style=\"vector-effect: non-scaling-stroke; fill: none; stroke: rgb(255, 187, 120); stroke-opacity: 1; stroke-width: 2px; opacity: 1;\"/></g><g class=\"points\"/><g class=\"text\"/></g><g class=\"trace scatter trace82ae03\" style=\"stroke-miterlimit: 2; opacity: 1;\"><g class=\"fills\"/><g class=\"errorbars\"/><g class=\"lines\"/><g class=\"points\"><path class=\"point plotly-customdata\" transform=\"translate(508.2,333.49)\" d=\"M2,0A2,2 0 1,1 0,-2A2,2 0 0,1 2,0Z\" style=\"opacity: 0.7; stroke-width: 1px; fill: rgb(174, 199, 232); fill-opacity: 1; stroke: rgb(255, 255, 255); stroke-opacity: 1;\"/><path class=\"point plotly-customdata\" transform=\"translate(166.7,245.88)\" d=\"M4,0A4,4 0 1,1 0,-4A4,4 0 0,1 4,0Z\" style=\"opacity: 0.7; stroke-width: 1px; fill: rgb(255, 187, 120); fill-opacity: 1; stroke: rgb(255, 255, 255); stroke-opacity: 1;\"/><path class=\"point plotly-customdata\" transform=\"translate(107.32,267.49)\" d=\"M2,0A2,2 0 1,1 0,-2A2,2 0 0,1 2,0Z\" style=\"opacity: 0.7; stroke-width: 1px; fill: rgb(255, 187, 120); fill-opacity: 1; stroke: rgb(255, 255, 255); stroke-opacity: 1;\"/><path class=\"point plotly-customdata\" transform=\"translate(343.42,262.82)\" d=\"M2,0A2,2 0 1,1 0,-2A2,2 0 0,1 2,0Z\" style=\"opacity: 0.7; stroke-width: 1px; fill: rgb(174, 199, 232); fill-opacity: 1; stroke: rgb(255, 255, 255); stroke-opacity: 1;\"/><path class=\"point plotly-customdata\" transform=\"translate(154.64,311.96)\" d=\"M2,0A2,2 0 1,1 0,-2A2,2 0 0,1 2,0Z\" style=\"opacity: 0.7; stroke-width: 1px; fill: rgb(255, 187, 120); fill-opacity: 1; stroke: rgb(255, 255, 255); stroke-opacity: 1;\"/><path class=\"point plotly-customdata\" transform=\"translate(206.43,330.96)\" d=\"M4,0A4,4 0 1,1 0,-4A4,4 0 0,1 4,0Z\" style=\"opacity: 0.7; stroke-width: 1px; fill: rgb(255, 187, 120); fill-opacity: 1; stroke: rgb(255, 255, 255); stroke-opacity: 1;\"/><path class=\"point plotly-customdata\" transform=\"translate(293.3,361.53)\" d=\"M4,0A4,4 0 1,1 0,-4A4,4 0 0,1 4,0Z\" style=\"opacity: 0.7; stroke-width: 1px; fill: rgb(174, 199, 232); fill-opacity: 1; stroke: rgb(255, 255, 255); stroke-opacity: 1;\"/><path class=\"point plotly-customdata\" transform=\"translate(35,360.17)\" d=\"M4,0A4,4 0 1,1 0,-4A4,4 0 0,1 4,0Z\" style=\"opacity: 0.7; stroke-width: 1px; fill: rgb(255, 187, 120); fill-opacity: 1; stroke: rgb(255, 255, 255); stroke-opacity: 1;\"/><path class=\"point plotly-customdata\" transform=\"translate(482.35,50.05)\" d=\"M2,0A2,2 0 1,1 0,-2A2,2 0 0,1 2,0Z\" style=\"opacity: 0.7; stroke-width: 1px; fill: rgb(102, 102, 102); fill-opacity: 1; stroke: rgb(255, 255, 255); stroke-opacity: 1;\"/><path class=\"point plotly-customdata\" transform=\"translate(163.57,343.83)\" d=\"M4,0A4,4 0 1,1 0,-4A4,4 0 0,1 4,0Z\" style=\"opacity: 0.7; stroke-width: 1px; fill: rgb(255, 187, 120); fill-opacity: 1; stroke: rgb(255, 255, 255); stroke-opacity: 1;\"/><path class=\"point plotly-customdata\" transform=\"translate(451.98,240.08)\" d=\"M2,0A2,2 0 1,1 0,-2A2,2 0 0,1 2,0Z\" style=\"opacity: 0.7; stroke-width: 1px; fill: rgb(174, 199, 232); fill-opacity: 1; stroke: rgb(255, 255, 255); stroke-opacity: 1;\"/><path class=\"point plotly-customdata\" transform=\"translate(235,341.12)\" d=\"M4,0A4,4 0 1,1 0,-4A4,4 0 0,1 4,0Z\" style=\"opacity: 0.7; stroke-width: 1px; fill: rgb(255, 187, 120); fill-opacity: 1; stroke: rgb(255, 255, 255); stroke-opacity: 1;\"/><path class=\"point plotly-customdata\" transform=\"translate(135,362.61)\" d=\"M4,0A4,4 0 1,1 0,-4A4,4 0 0,1 4,0Z\" style=\"opacity: 0.7; stroke-width: 1px; fill: rgb(255, 187, 120); fill-opacity: 1; stroke: rgb(255, 255, 255); stroke-opacity: 1;\"/><path class=\"point plotly-customdata\" transform=\"translate(324.52,24.5)\" d=\"M4,0A4,4 0 1,1 0,-4A4,4 0 0,1 4,0Z\" style=\"opacity: 0.7; stroke-width: 1px; fill: rgb(102, 102, 102); fill-opacity: 1; stroke: rgb(255, 255, 255); stroke-opacity: 1;\"/><path class=\"point plotly-customdata\" transform=\"translate(496.48,291.22)\" d=\"M2,0A2,2 0 1,1 0,-2A2,2 0 0,1 2,0Z\" style=\"opacity: 0.7; stroke-width: 1px; fill: rgb(174, 199, 232); fill-opacity: 1; stroke: rgb(255, 255, 255); stroke-opacity: 1;\"/><path class=\"point plotly-customdata\" transform=\"translate(226.07,254.75)\" d=\"M2,0A2,2 0 1,1 0,-2A2,2 0 0,1 2,0Z\" style=\"opacity: 0.7; stroke-width: 1px; fill: rgb(255, 187, 120); fill-opacity: 1; stroke: rgb(255, 255, 255); stroke-opacity: 1;\"/><path class=\"point plotly-customdata\" transform=\"translate(407.48,307.06)\" d=\"M2,0A2,2 0 1,1 0,-2A2,2 0 0,1 2,0Z\" style=\"opacity: 0.7; stroke-width: 1px; fill: rgb(174, 199, 232); fill-opacity: 1; stroke: rgb(255, 255, 255); stroke-opacity: 1;\"/><path class=\"point plotly-customdata\" transform=\"translate(385.4,341.35)\" d=\"M2,0A2,2 0 1,1 0,-2A2,2 0 0,1 2,0Z\" style=\"opacity: 0.7; stroke-width: 1px; fill: rgb(174, 199, 232); fill-opacity: 1; stroke: rgb(255, 255, 255); stroke-opacity: 1;\"/><path class=\"point plotly-customdata\" transform=\"translate(429.56,329.53)\" d=\"M2,0A2,2 0 1,1 0,-2A2,2 0 0,1 2,0Z\" style=\"opacity: 0.7; stroke-width: 1px; fill: rgb(174, 199, 232); fill-opacity: 1; stroke: rgb(255, 255, 255); stroke-opacity: 1;\"/><path class=\"point plotly-customdata\" transform=\"translate(556.29,302.24)\" d=\"M4,0A4,4 0 1,1 0,-4A4,4 0 0,1 4,0Z\" style=\"opacity: 0.7; stroke-width: 1px; fill: rgb(255, 187, 120); fill-opacity: 1; stroke: rgb(255, 255, 255); stroke-opacity: 1;\"/><path class=\"point plotly-customdata\" transform=\"translate(60,318.79)\" d=\"M2,0A2,2 0 1,1 0,-2A2,2 0 0,1 2,0Z\" style=\"opacity: 0.7; stroke-width: 1px; fill: rgb(255, 187, 120); fill-opacity: 1; stroke: rgb(255, 255, 255); stroke-opacity: 1;\"/><path class=\"point plotly-customdata\" transform=\"translate(567,119.02)\" d=\"M2,0A2,2 0 1,1 0,-2A2,2 0 0,1 2,0Z\" style=\"opacity: 0.7; stroke-width: 1px; fill: rgb(255, 187, 120); fill-opacity: 1; stroke: rgb(255, 255, 255); stroke-opacity: 1;\"/><path class=\"point plotly-customdata\" transform=\"translate(328.1,270.7)\" d=\"M2,0A2,2 0 1,1 0,-2A2,2 0 0,1 2,0Z\" style=\"opacity: 0.7; stroke-width: 1px; fill: rgb(174, 199, 232); fill-opacity: 1; stroke: rgb(255, 255, 255); stroke-opacity: 1;\"/><path class=\"point plotly-customdata\" transform=\"translate(397.7,216.99)\" d=\"M4,0A4,4 0 1,1 0,-4A4,4 0 0,1 4,0Z\" style=\"opacity: 0.7; stroke-width: 1px; fill: rgb(174, 199, 232); fill-opacity: 1; stroke: rgb(255, 255, 255); stroke-opacity: 1;\"/><path class=\"point plotly-customdata\" transform=\"translate(174.29,317.43)\" d=\"M2,0A2,2 0 1,1 0,-2A2,2 0 0,1 2,0Z\" style=\"opacity: 0.7; stroke-width: 1px; fill: rgb(255, 187, 120); fill-opacity: 1; stroke: rgb(255, 255, 255); stroke-opacity: 1;\"/><path class=\"point plotly-customdata\" transform=\"translate(311.74,304.92)\" d=\"M2,0A2,2 0 1,1 0,-2A2,2 0 0,1 2,0Z\" style=\"opacity: 0.7; stroke-width: 1px; fill: rgb(174, 199, 232); fill-opacity: 1; stroke: rgb(255, 255, 255); stroke-opacity: 1;\"/><path class=\"point plotly-customdata\" transform=\"translate(521.53,312.02)\" d=\"M2,0A2,2 0 1,1 0,-2A2,2 0 0,1 2,0Z\" style=\"opacity: 0.7; stroke-width: 1px; fill: rgb(174, 199, 232); fill-opacity: 1; stroke: rgb(255, 255, 255); stroke-opacity: 1;\"/><path class=\"point plotly-customdata\" transform=\"translate(471.44,331.32)\" d=\"M2,0A2,2 0 1,1 0,-2A2,2 0 0,1 2,0Z\" style=\"opacity: 0.7; stroke-width: 1px; fill: rgb(174, 199, 232); fill-opacity: 1; stroke: rgb(255, 255, 255); stroke-opacity: 1;\"/><path class=\"point plotly-customdata\" transform=\"translate(85,334.96)\" d=\"M2,0A2,2 0 1,1 0,-2A2,2 0 0,1 2,0Z\" style=\"opacity: 0.7; stroke-width: 1px; fill: rgb(255, 187, 120); fill-opacity: 1; stroke: rgb(255, 255, 255); stroke-opacity: 1;\"/><path class=\"point plotly-customdata\" transform=\"translate(245.71,311.11)\" d=\"M2,0A2,2 0 1,1 0,-2A2,2 0 0,1 2,0Z\" style=\"opacity: 0.7; stroke-width: 1px; fill: rgb(255, 187, 120); fill-opacity: 1; stroke: rgb(255, 255, 255); stroke-opacity: 1;\"/></g><g class=\"text\"/></g></g></g><g class=\"overplot\"/><path class=\"xlines-above crisp\" d=\"M0,0\" style=\"fill: none;\"/><path class=\"ylines-above crisp\" d=\"M0,0\" style=\"fill: none;\"/><g class=\"overlines-above\"/><g class=\"xaxislayer-above\"/><g class=\"yaxislayer-above\"><g class=\"ytick\"><text text-anchor=\"end\" x=\"49\" y=\"4.199999999999999\" transform=\"translate(0,430.5)\" style=\"font-family: 'Open Sans', verdana, arial, sans-serif; font-size: 12px; fill: rgb(68, 68, 68); fill-opacity: 1; white-space: pre;\">0</text></g><g class=\"ytick\"><text text-anchor=\"end\" x=\"49\" y=\"4.199999999999999\" transform=\"translate(0,356.02)\" style=\"font-family: 'Open Sans', verdana, arial, sans-serif; font-size: 12px; fill: rgb(68, 68, 68); fill-opacity: 1; white-space: pre;\">0.1</text></g><g class=\"ytick\"><text text-anchor=\"end\" x=\"49\" y=\"4.199999999999999\" transform=\"translate(0,281.53)\" style=\"font-family: 'Open Sans', verdana, arial, sans-serif; font-size: 12px; fill: rgb(68, 68, 68); fill-opacity: 1; white-space: pre;\">0.2</text></g><g class=\"ytick\"><text text-anchor=\"end\" x=\"49\" y=\"4.199999999999999\" transform=\"translate(0,207.05)\" style=\"font-family: 'Open Sans', verdana, arial, sans-serif; font-size: 12px; fill: rgb(68, 68, 68); fill-opacity: 1; white-space: pre;\">0.3</text></g><g class=\"ytick\"><text text-anchor=\"end\" x=\"49\" y=\"4.199999999999999\" transform=\"translate(0,132.56)\" style=\"font-family: 'Open Sans', verdana, arial, sans-serif; font-size: 12px; fill: rgb(68, 68, 68); fill-opacity: 1; white-space: pre;\">0.4</text></g></g><g class=\"overaxes-above\"/></g><g class=\"subplot xy2\"><rect class=\"bg\" x=\"50\" y=\"430.5\" width=\"600\" height=\"19.5\" style=\"fill: rgb(255, 255, 255); fill-opacity: 1; stroke-width: 0;\"/><g class=\"layer-subplot\"><g class=\"shapelayer\"/><g class=\"imagelayer\"/></g><g class=\"gridlayer\"><g class=\"x\"/><g class=\"y2\"/></g><g class=\"zerolinelayer\"/><path class=\"xlines-below\"/><path class=\"ylines-below\"/><g class=\"overlines-below\"/><g class=\"xaxislayer-below\"/><g class=\"yaxislayer-below\"/><g class=\"overaxes-below\"/><g class=\"plot\" transform=\"translate(50,430.5)\" clip-path=\"url('#clip2df9b3xy2plot')\"><g class=\"heatmaplayer mlayer\"><g class=\"hm\"><image xmlns=\"http://www.w3.org/2000/svg\" preserveAspectRatio=\"none\" height=\"20\" width=\"564\" x=\"20.71\" y=\"0\" xlink:href=\"data:image/png;base64,iVBORw0KGgoAAAANSUhEUgAAAjQAAAAUCAYAAACauKccAAAD50lEQVR4Xu2d0XEbQQxDpS7SSgpwA6kmJaSaNJAC3Iq7cOb8oRllkhh6oLjcOfh7cSBA+ohZy/b1/df390vj1/Xlx7Wbs1GeRbXCm25OykdxTkN24jxq/fn61vq97HjrYL99/YK1Umw3zvFHxVJN6vM7zk3SMKmWP72ntR04uq/p+9PB4WLpsNJiKd9OuBXedHNSPopz+r8TZwKN1mnnxU4CI+XT1HinJtemKpukYVItCTTqBJnnViwJs+Q2+ApvujkpH8U5zduJM4FG6zRdOt04TY13imryWGvRkzRMqiWBpnbO/vm0FUuiSZpNs8Kbbk7KR3FOU3biTKDROk2XTjdOU+Odopo81lr0JA2TakmgqZ2zBBrg504LFMj7gFCNFEfrdGpdwZlAo7lOl043TlPjnaKaPNZa9CQNk2pJoKmdswQa4OcZljbVSHGgDTfITpwJNFqn6dLpxmlqvFNUk8dai56kYVItCTS1c5ZAA/zcaYECebmhEUyjM5BAI5h7uVzo0unGaWq8U1STx1qLnqRhUi0JNLVzlkAD/KTLDFAtu4WgGiluJ2+OWqnOBBqt03TpdOM0Nd4pqsljrUVP0jCplgSa2jlLoAF+0mUGqBJoBNN26kcCjdDQ3NDcmTR5AWvd5Ddu6vMfOTfZT1rbgcvfofnPFKxYEo8M5cqzK7zp5qR8FOf0cyfOBBqt086LPX+HRvO48xTt5zNqnFRLbmie0eG/PHPFkmiSZtOs8Kabk/JRnNOUnTgTaLRO06XTjdPUeKeoJo+1Fj1Jw6RaEmhq5yw/cgJ+7rRAgbwPCNVIcbROp9YVnAk0mut06XTjNDXeKarJY61FT9IwqZYEmto5S6ABfp5haVONFAfacIPsxJlAo3WaLp1unKbGO0U1eay16EkaJtWSQFM7Zwk0wM+dFiiQlxsawTQ6Awk0grn5UPCdSZMXsNbNfCj42T7lQ8GfOExf2Grjdj63wptuTspHcc487MSZQKN1mi7xbpymxjtFNXmstehJGibVkhua2jnLDQ3wc6cFCuTlhkYwjc5AAo1gbm5ockOjjQk6lUBzb5vzLiO/Kn7w4d8xRx03PhRK+XbC0QFwNHZzUj6K28mbo1aqM4FG6zRdOt04TY13imryWGvRkzRMqiU3NLVzlhsa4CddZoDqBunmpHwUt5M3CTRat5zFQbHdOM0J7xTV5LHWoidpmFRLAk3tnCXQAD/PsLSpRooDbVgW9hJotG45i4Niu3GaE94pqsljrUVP0jCplgSa2jlLoAF+nmFpU40UB9qQQOOY1oB1FgfFduMabMT/qLOjNpWD9kV9/iPnJtVy1kDzG8FWQG/lQVS8AAAAAElFTkSuQmCC\" style=\"opacity: 1;\"/></g></g></g><g class=\"overplot\"/><path class=\"xlines-above crisp\" d=\"M0,0\" style=\"fill: none;\"/><path class=\"ylines-above crisp\" d=\"M0,0\" style=\"fill: none;\"/><g class=\"overlines-above\"/><g class=\"xaxislayer-above\"/><g class=\"yaxislayer-above\"/><g class=\"overaxes-above\"/></g></g><g class=\"polarlayer\"/><g class=\"ternarylayer\"/><g class=\"geolayer\"/><g class=\"funnelarealayer\"/><g class=\"pielayer\"/><g class=\"treemaplayer\"/><g class=\"sunburstlayer\"/><g class=\"glimages\"/><defs id=\"topdefs-2df9b3\"><g class=\"clips\"/></defs><g class=\"layer-above\"><g class=\"imagelayer\"/><g class=\"shapelayer\"/></g><g class=\"infolayer\"><g class=\"g-gtitle\"/><g class=\"g-ytitle\"/></g></svg>"
      ],
      "text/html": [
       "<div\n",
       "    class=\"webio-mountpoint\"\n",
       "    data-webio-mountpoint=\"8769188028812150731\"\n",
       ">\n",
       "    <script>\n",
       "    if (window.require && require.defined && require.defined(\"nbextensions/webio-jupyter-notebook\")) {\n",
       "        console.log(\"Jupyter WebIO extension detected, not mounting.\");\n",
       "    } else if (window.WebIO) {\n",
       "        WebIO.mount(\n",
       "            document.querySelector('[data-webio-mountpoint=\"8769188028812150731\"]'),\n",
       "            {\"props\":{},\"nodeType\":\"Scope\",\"type\":\"node\",\"instanceArgs\":{\"imports\":{\"data\":[{\"name\":\"Plotly\",\"type\":\"js\",\"url\":\"\\/assetserver\\/e6903599031aaef8675931dfcd7df98a1aeffbfc-plotly-latest.min.js\"},{\"name\":null,\"type\":\"js\",\"url\":\"\\/assetserver\\/74a5dea81f21b0b802ef1ee92f1c8a504eac1a0c-plotly_webio.bundle.js\"}],\"type\":\"async_block\"},\"id\":\"17506140971631828843\",\"handlers\":{\"_toImage\":[\"(function (options){return this.Plotly.toImage(this.plotElem,options).then((function (data){return WebIO.setval({\\\"name\\\":\\\"image\\\",\\\"scope\\\":\\\"17506140971631828843\\\",\\\"id\\\":\\\"4266325546261946752\\\",\\\"type\\\":\\\"observable\\\"},data)}))})\"],\"__get_gd_contents\":[\"(function (prop){prop==\\\"data\\\" ? (WebIO.setval({\\\"name\\\":\\\"__gd_contents\\\",\\\"scope\\\":\\\"17506140971631828843\\\",\\\"id\\\":\\\"13520108885049226136\\\",\\\"type\\\":\\\"observable\\\"},this.plotElem.data)) : undefined; return prop==\\\"layout\\\" ? (WebIO.setval({\\\"name\\\":\\\"__gd_contents\\\",\\\"scope\\\":\\\"17506140971631828843\\\",\\\"id\\\":\\\"13520108885049226136\\\",\\\"type\\\":\\\"observable\\\"},this.plotElem.layout)) : undefined})\"],\"_downloadImage\":[\"(function (options){return this.Plotly.downloadImage(this.plotElem,options)})\"],\"_commands\":[\"(function (args){var fn=args.shift(); var elem=this.plotElem; var Plotly=this.Plotly; args.unshift(elem); return Plotly[fn].apply(this,args)})\"]},\"systemjs_options\":null,\"mount_callbacks\":[\"function () {\\n    var handler = ((function (Plotly,PlotlyWebIO){PlotlyWebIO.init(WebIO); var gd=this.dom.querySelector(\\\"#plot-e97ecdb9-3a02-43ac-b9b2-6a0d11f4c7cb\\\"); this.plotElem=gd; this.Plotly=Plotly; (window.Blink!==undefined) ? (gd.style.width=\\\"100%\\\", gd.style.height=\\\"100vh\\\", gd.style.marginLeft=\\\"0%\\\", gd.style.marginTop=\\\"0vh\\\") : undefined; window.onresize=(function (){return Plotly.Plots.resize(gd)}); Plotly.newPlot(gd,[{\\\"showlegend\\\":false,\\\"mode\\\":\\\"lines\\\",\\\"line\\\":{\\\"color\\\":\\\"#FFBB78\\\"},\\\"y\\\":[0.16730572283267975,0.16730572283267975,null,0.16730572283267975,0.13829229772090912,null,0.16730572283267975,0.15539871156215668,null],\\\"type\\\":\\\"scatter\\\",\\\"hoverinfo\\\":\\\"skip\\\",\\\"yaxis\\\":\\\"y1\\\",\\\"x\\\":[6.5625,14.875,null,6.5625,6.5625,null,14.875,14.875,null]},{\\\"showlegend\\\":false,\\\"mode\\\":\\\"lines\\\",\\\"line\\\":{\\\"color\\\":\\\"#FFBB78\\\"},\\\"y\\\":[0.13829229772090912,0.13829229772090912,null,0.13829229772090912,0.06941715627908707,null,0.13829229772090912,0.07859344035387039,null],\\\"type\\\":\\\"scatter\\\",\\\"hoverinfo\\\":\\\"skip\\\",\\\"yaxis\\\":\\\"y1\\\",\\\"x\\\":[3.25,9.875,null,3.25,3.25,null,9.875,9.875,null]},{\\\"showlegend\\\":false,\\\"mode\\\":\\\"lines\\\",\\\"line\\\":{\\\"color\\\":\\\"#AEC7E8\\\"},\\\"y\\\":[0.14456360042095184,0.14456360042095184,null,0.14456360042095184,0.13399001955986023,null,0.14456360042095184,0.0,null],\\\"type\\\":\\\"scatter\\\",\\\"hoverinfo\\\":\\\"skip\\\",\\\"yaxis\\\":\\\"y1\\\",\\\"x\\\":[22.016992952647332,24.162277660168378,null,22.016992952647332,22.016992952647332,null,24.162277660168378,24.162277660168378,null]},{\\\"showlegend\\\":false,\\\"mode\\\":\\\"lines\\\",\\\"line\\\":{\\\"color\\\":\\\"#FFBB78\\\"},\\\"y\\\":[0.07859344035387039,0.07859344035387039,null,0.07859344035387039,0.010591098107397556,null,0.07859344035387039,0.07124499976634979,null],\\\"type\\\":\\\"scatter\\\",\\\"hoverinfo\\\":\\\"skip\\\",\\\"yaxis\\\":\\\"y1\\\",\\\"x\\\":[8.5,11.25,null,8.5,8.5,null,11.25,11.25,null]},{\\\"showlegend\\\":false,\\\"mode\\\":\\\"lines\\\",\\\"line\\\":{\\\"color\\\":\\\"#FFBB78\\\"},\\\"y\\\":[0.0,0.05308804288506508,0.05308804288506508,0.0],\\\"type\\\":\\\"scatter\\\",\\\"fill\\\":\\\"toself\\\",\\\"hoverinfo\\\":\\\"skip\\\",\\\"yaxis\\\":\\\"y1\\\",\\\"x\\\":[13.0,13.0,14.0,14.0]},{\\\"showlegend\\\":false,\\\"mode\\\":\\\"lines\\\",\\\"line\\\":{\\\"color\\\":\\\"#AEC7E8\\\"},\\\"y\\\":[0.0,0.012036108411848545,0.012036108411848545,0.0],\\\"type\\\":\\\"scatter\\\",\\\"fill\\\":\\\"toself\\\",\\\"hoverinfo\\\":\\\"skip\\\",\\\"yaxis\\\":\\\"y1\\\",\\\"x\\\":[18.0,18.0,21.162277660168378,21.162277660168378]},{\\\"showlegend\\\":false,\\\"mode\\\":\\\"lines\\\",\\\"line\\\":{\\\"color\\\":\\\"#FFBB78\\\"},\\\"y\\\":[0.0,0.013871720992028713,0.013871720992028713,0.0],\\\"type\\\":\\\"scatter\\\",\\\"fill\\\":\\\"toself\\\",\\\"hoverinfo\\\":\\\"skip\\\",\\\"yaxis\\\":\\\"y1\\\",\\\"x\\\":[1.0,1.0,2.0,2.0]},{\\\"showlegend\\\":false,\\\"mode\\\":\\\"lines\\\",\\\"line\\\":{\\\"color\\\":\\\"#666666\\\"},\\\"y\\\":[0.43022751808166504,0.43022751808166504,null,0.43022751808166504,0.20610027015209198,null,0.43022751808166504,0.33762016892433167,null],\\\"type\\\":\\\"scatter\\\",\\\"hoverinfo\\\":\\\"skip\\\",\\\"yaxis\\\":\\\"y1\\\",\\\"x\\\":[26.889239062373782,38.740082580462406,null,26.889239062373782,26.889239062373782,null,38.740082580462406,38.740082580462406,null]},{\\\"showlegend\\\":false,\\\"mode\\\":\\\"lines\\\",\\\"line\\\":{\\\"color\\\":\\\"#FFBB78\\\"},\\\"y\\\":[0.0,0.03581227362155914,0.03581227362155914,0.0],\\\"type\\\":\\\"scatter\\\",\\\"fill\\\":\\\"toself\\\",\\\"hoverinfo\\\":\\\"skip\\\",\\\"yaxis\\\":\\\"y1\\\",\\\"x\\\":[10.0,10.0,11.0,11.0]},{\\\"showlegend\\\":false,\\\"mode\\\":\\\"lines\\\",\\\"line\\\":{\\\"color\\\":\\\"#AEC7E8\\\"},\\\"y\\\":[0.1750958263874054,0.1750958263874054,null,0.1750958263874054,0.08516886830329895,null,0.1750958263874054,0.10644222050905228,null],\\\"type\\\":\\\"scatter\\\",\\\"hoverinfo\\\":\\\"skip\\\",\\\"yaxis\\\":\\\"y1\\\",\\\"x\\\":[27.573688201540833,33.803997435138584,null,27.573688201540833,27.573688201540833,null,33.803997435138584,33.803997435138584,null]},{\\\"showlegend\\\":false,\\\"mode\\\":\\\"lines\\\",\\\"line\\\":{\\\"color\\\":\\\"#FFBB78\\\"},\\\"y\\\":[0.0,0.03944283723831177,0.03944283723831177,0.0],\\\"type\\\":\\\"scatter\\\",\\\"fill\\\":\\\"toself\\\",\\\"hoverinfo\\\":\\\"skip\\\",\\\"yaxis\\\":\\\"y1\\\",\\\"x\\\":[15.0,15.0,16.0,16.0]},{\\\"showlegend\\\":false,\\\"mode\\\":\\\"lines\\\",\\\"line\\\":{\\\"color\\\":\\\"#FFBB78\\\"},\\\"y\\\":[0.0,0.010591098107397556,0.010591098107397556,0.0],\\\"type\\\":\\\"scatter\\\",\\\"fill\\\":\\\"toself\\\",\\\"hoverinfo\\\":\\\"skip\\\",\\\"yaxis\\\":\\\"y1\\\",\\\"x\\\":[8.0,8.0,9.0,9.0]},{\\\"showlegend\\\":false,\\\"mode\\\":\\\"lines\\\",\\\"line\\\":{\\\"color\\\":\\\"#666666\\\"},\\\"y\\\":[0.4645254611968994,0.4645254611968994,null,0.4645254611968994,0.16730572283267975,null,0.4645254611968994,0.43022751808166504,null],\\\"type\\\":\\\"scatter\\\",\\\"hoverinfo\\\":\\\"skip\\\",\\\"yaxis\\\":\\\"y1\\\",\\\"x\\\":[10.71875,32.814660821418094,null,10.71875,10.71875,null,32.814660821418094,32.814660821418094,null]},{\\\"showlegend\\\":false,\\\"mode\\\":\\\"lines\\\",\\\"line\\\":{\\\"color\\\":\\\"#AEC7E8\\\"},\\\"y\\\":[0.10644222050905228,0.10644222050905228,null,0.10644222050905228,0.05259765312075615,null,0.10644222050905228,0.0785183236002922,null],\\\"type\\\":\\\"scatter\\\",\\\"hoverinfo\\\":\\\"skip\\\",\\\"yaxis\\\":\\\"y1\\\",\\\"x\\\":[32.050924991706985,35.55706987857019,null,32.050924991706985,32.050924991706985,null,35.55706987857019,35.55706987857019,null]},{\\\"showlegend\\\":false,\\\"mode\\\":\\\"lines\\\",\\\"line\\\":{\\\"color\\\":\\\"#FFBB78\\\"},\\\"y\\\":[0.15539871156215668,0.15539871156215668,null,0.15539871156215668,0.05308804288506508,null,0.15539871156215668,0.0797385647892952,null],\\\"type\\\":\\\"scatter\\\",\\\"hoverinfo\\\":\\\"skip\\\",\\\"yaxis\\\":\\\"y1\\\",\\\"x\\\":[13.5,16.25,null,13.5,13.5,null,16.25,16.25,null]},{\\\"showlegend\\\":false,\\\"mode\\\":\\\"lines\\\",\\\"line\\\":{\\\"color\\\":\\\"#AEC7E8\\\"},\\\"y\\\":[0.08516886830329895,0.08516886830329895,null,0.08516886830329895,0.039135925471782684,null,0.08516886830329895,0.055009301751852036,null],\\\"type\\\":\\\"scatter\\\",\\\"hoverinfo\\\":\\\"skip\\\",\\\"yaxis\\\":\\\"y1\\\",\\\"x\\\":[26.02830306395282,29.119073339128846,null,26.02830306395282,26.02830306395282,null,29.119073339128846,29.119073339128846,null]},{\\\"showlegend\\\":false,\\\"mode\\\":\\\"lines\\\",\\\"line\\\":{\\\"color\\\":\\\"#AEC7E8\\\"},\\\"y\\\":[0.0,0.039135925471782684,0.039135925471782684,0.0],\\\"type\\\":\\\"scatter\\\",\\\"fill\\\":\\\"toself\\\",\\\"hoverinfo\\\":\\\"skip\\\",\\\"yaxis\\\":\\\"y1\\\",\\\"x\\\":[25.162277660168378,25.162277660168378,26.894328467737257,26.894328467737257]},{\\\"showlegend\\\":false,\\\"mode\\\":\\\"lines\\\",\\\"line\\\":{\\\"color\\\":\\\"#AEC7E8\\\"},\\\"y\\\":[0.0,0.055009301751852036,0.055009301751852036,0.0],\\\"type\\\":\\\"scatter\\\",\\\"fill\\\":\\\"toself\\\",\\\"hoverinfo\\\":\\\"skip\\\",\\\"yaxis\\\":\\\"y1\\\",\\\"x\\\":[27.894328467737257,27.894328467737257,30.343818210520435,30.343818210520435]},{\\\"showlegend\\\":false,\\\"mode\\\":\\\"lines\\\",\\\"line\\\":{\\\"color\\\":\\\"#FFBB78\\\"},\\\"y\\\":[0.09163738787174225,0.09163738787174225,null,0.09163738787174225,0.0,null,0.09163738787174225,0.0,null],\\\"type\\\":\\\"scatter\\\",\\\"hoverinfo\\\":\\\"skip\\\",\\\"yaxis\\\":\\\"y1\\\",\\\"x\\\":[37.490082580462406,38.490082580462406,null,37.490082580462406,37.490082580462406,null,38.490082580462406,38.490082580462406,null]},{\\\"showlegend\\\":false,\\\"mode\\\":\\\"lines\\\",\\\"line\\\":{\\\"color\\\":\\\"#FFBB78\\\"},\\\"y\\\":[0.06941715627908707,0.06941715627908707,null,0.06941715627908707,0.013871720992028713,null,0.06941715627908707,0.04771293327212334,null],\\\"type\\\":\\\"scatter\\\",\\\"hoverinfo\\\":\\\"skip\\\",\\\"yaxis\\\":\\\"y1\\\",\\\"x\\\":[1.5,5.0,null,1.5,1.5,null,5.0,5.0,null]},{\\\"showlegend\\\":false,\\\"mode\\\":\\\"lines\\\",\\\"line\\\":{\\\"color\\\":\\\"#FFBB78\\\"},\\\"y\\\":[0.33762016892433167,0.33762016892433167,null,0.33762016892433167,0.09163738787174225,null,0.33762016892433167,0.0,null],\\\"type\\\":\\\"scatter\\\",\\\"hoverinfo\\\":\\\"skip\\\",\\\"yaxis\\\":\\\"y1\\\",\\\"x\\\":[37.990082580462406,39.490082580462406,null,37.990082580462406,37.990082580462406,null,39.490082580462406,39.490082580462406,null]},{\\\"showlegend\\\":false,\\\"mode\\\":\\\"lines\\\",\\\"line\\\":{\\\"color\\\":\\\"#AEC7E8\\\"},\\\"y\\\":[0.13399001955986023,0.13399001955986023,null,0.13399001955986023,0.08803962916135788,null,0.13399001955986023,0.0,null],\\\"type\\\":\\\"scatter\\\",\\\"hoverinfo\\\":\\\"skip\\\",\\\"yaxis\\\":\\\"y1\\\",\\\"x\\\":[20.871708245126285,23.162277660168378,null,20.871708245126285,20.871708245126285,null,23.162277660168378,23.162277660168378,null]},{\\\"showlegend\\\":false,\\\"mode\\\":\\\"lines\\\",\\\"line\\\":{\\\"color\\\":\\\"#AEC7E8\\\"},\\\"y\\\":[0.20610027015209198,0.20610027015209198,null,0.20610027015209198,0.14456360042095184,null,0.20610027015209198,0.1750958263874054,null],\\\"type\\\":\\\"scatter\\\",\\\"hoverinfo\\\":\\\"skip\\\",\\\"yaxis\\\":\\\"y1\\\",\\\"x\\\":[23.089635306407857,30.688842818339708,null,23.089635306407857,23.089635306407857,null,30.688842818339708,30.688842818339708,null]},{\\\"showlegend\\\":false,\\\"mode\\\":\\\"lines\\\",\\\"line\\\":{\\\"color\\\":\\\"#FFBB78\\\"},\\\"y\\\":[0.07124499976634979,0.07124499976634979,null,0.07124499976634979,0.03581227362155914,null,0.07124499976634979,0.0,null],\\\"type\\\":\\\"scatter\\\",\\\"hoverinfo\\\":\\\"skip\\\",\\\"yaxis\\\":\\\"y1\\\",\\\"x\\\":[10.5,12.0,null,10.5,10.5,null,12.0,12.0,null]},{\\\"showlegend\\\":false,\\\"mode\\\":\\\"lines\\\",\\\"line\\\":{\\\"color\\\":\\\"#AEC7E8\\\"},\\\"y\\\":[0.08803962916135788,0.08803962916135788,null,0.08803962916135788,0.012036108411848545,null,0.08803962916135788,0.0,null],\\\"type\\\":\\\"scatter\\\",\\\"hoverinfo\\\":\\\"skip\\\",\\\"yaxis\\\":\\\"y1\\\",\\\"x\\\":[19.58113883008419,22.162277660168378,null,19.58113883008419,19.58113883008419,null,22.162277660168378,22.162277660168378,null]},{\\\"showlegend\\\":false,\\\"mode\\\":\\\"lines\\\",\\\"line\\\":{\\\"color\\\":\\\"#AEC7E8\\\"},\\\"y\\\":[0.0785183236002922,0.0785183236002922,null,0.0785183236002922,0.0496852807700634,null,0.0785183236002922,0.0,null],\\\"type\\\":\\\"scatter\\\",\\\"hoverinfo\\\":\\\"skip\\\",\\\"yaxis\\\":\\\"y1\\\",\\\"x\\\":[34.624057176677965,36.490082580462406,null,34.624057176677965,34.624057176677965,null,36.490082580462406,36.490082580462406,null]},{\\\"showlegend\\\":false,\\\"mode\\\":\\\"lines\\\",\\\"line\\\":{\\\"color\\\":\\\"#AEC7E8\\\"},\\\"y\\\":[0.0,0.05259765312075615,0.05259765312075615,0.0],\\\"type\\\":\\\"scatter\\\",\\\"fill\\\":\\\"toself\\\",\\\"hoverinfo\\\":\\\"skip\\\",\\\"yaxis\\\":\\\"y1\\\",\\\"x\\\":[31.343818210520435,31.343818210520435,32.75803177289353,32.75803177289353]},{\\\"showlegend\\\":false,\\\"mode\\\":\\\"lines\\\",\\\"line\\\":{\\\"color\\\":\\\"#AEC7E8\\\"},\\\"y\\\":[0.0,0.0496852807700634,0.0496852807700634,0.0],\\\"type\\\":\\\"scatter\\\",\\\"fill\\\":\\\"toself\\\",\\\"hoverinfo\\\":\\\"skip\\\",\\\"yaxis\\\":\\\"y1\\\",\\\"x\\\":[33.75803177289353,33.75803177289353,35.490082580462406,35.490082580462406]},{\\\"showlegend\\\":false,\\\"mode\\\":\\\"lines\\\",\\\"line\\\":{\\\"color\\\":\\\"#FFBB78\\\"},\\\"y\\\":[0.0,0.04771293327212334,0.04771293327212334,0.0],\\\"type\\\":\\\"scatter\\\",\\\"fill\\\":\\\"toself\\\",\\\"hoverinfo\\\":\\\"skip\\\",\\\"yaxis\\\":\\\"y1\\\",\\\"x\\\":[3.0,3.0,7.0,7.0]},{\\\"showlegend\\\":false,\\\"mode\\\":\\\"lines\\\",\\\"line\\\":{\\\"color\\\":\\\"#FFBB78\\\"},\\\"y\\\":[0.0797385647892952,0.0797385647892952,null,0.0797385647892952,0.03944283723831177,null,0.0797385647892952,0.0,null],\\\"type\\\":\\\"scatter\\\",\\\"hoverinfo\\\":\\\"skip\\\",\\\"yaxis\\\":\\\"y1\\\",\\\"x\\\":[15.5,17.0,null,15.5,15.5,null,17.0,17.0,null]},{\\\"showlegend\\\":false,\\\"mode\\\":\\\"markers\\\",\\\"marker\\\":{\\\"color\\\":[\\\"#AEC7E8\\\",\\\"#FFBB78\\\",\\\"#FFBB78\\\",\\\"#AEC7E8\\\",\\\"#FFBB78\\\",\\\"#FFBB78\\\",\\\"#AEC7E8\\\",\\\"#FFBB78\\\",\\\"#666666\\\",\\\"#FFBB78\\\",\\\"#AEC7E8\\\",\\\"#FFBB78\\\",\\\"#FFBB78\\\",\\\"#666666\\\",\\\"#AEC7E8\\\",\\\"#FFBB78\\\",\\\"#AEC7E8\\\",\\\"#AEC7E8\\\",\\\"#AEC7E8\\\",\\\"#FFBB78\\\",\\\"#FFBB78\\\",\\\"#FFBB78\\\",\\\"#AEC7E8\\\",\\\"#AEC7E8\\\",\\\"#FFBB78\\\",\\\"#AEC7E8\\\",\\\"#AEC7E8\\\",\\\"#AEC7E8\\\",\\\"#FFBB78\\\",\\\"#FFBB78\\\"],\\\"size\\\":[4,8,4,4,4,8,8,8,4,8,4,8,8,8,4,4,4,4,4,8,4,4,4,8,4,4,4,4,4,4]},\\\"y\\\":[0.0496852807700634,0.16730572283267975,0.13829229772090912,0.14456360042095184,0.07859344035387039,0.05308804288506508,0.012036108411848545,0.013871720992028713,0.43022751808166504,0.03581227362155914,0.1750958263874054,0.03944283723831177,0.010591098107397556,0.4645254611968994,0.10644222050905228,0.15539871156215668,0.08516886830329895,0.039135925471782684,0.055009301751852036,0.09163738787174225,0.06941715627908707,0.33762016892433167,0.13399001955986023,0.20610027015209198,0.07124499976634979,0.08803962916135788,0.0785183236002922,0.05259765312075615,0.04771293327212334,0.0797385647892952],\\\"type\\\":\\\"scatter\\\",\\\"customdata\\\":[[106,4,\\\"perforans\\\"],[124,29,\\\"euvesicatoria\\\"],[121,24,\\\"euvesicatoria\\\"],[122,14,\\\"perforans\\\"],[114,5,\\\"euvesicatoria\\\"],[109,2,\\\"euvesicatoria\\\"],[89,11,\\\"perforans\\\"],[91,2,\\\"euvesicatoria\\\"],[128,36,\\\"(mixed)\\\"],[102,2,\\\"euvesicatoria\\\"],[125,19,\\\"perforans\\\"],[104,2,\\\"euvesicatoria\\\"],[87,2,\\\"euvesicatoria\\\"],[129,65,\\\"(mixed)\\\"],[119,8,\\\"perforans\\\"],[123,5,\\\"euvesicatoria\\\"],[116,11,\\\"perforans\\\"],[103,4,\\\"perforans\\\"],[110,7,\\\"perforans\\\"],[118,2,\\\"euvesicatoria\\\"],[111,19,\\\"euvesicatoria\\\"],[127,3,\\\"euvesicatoria\\\"],[120,13,\\\"perforans\\\"],[126,33,\\\"perforans\\\"],[112,3,\\\"euvesicatoria\\\"],[117,12,\\\"perforans\\\"],[113,5,\\\"perforans\\\"],[108,3,\\\"perforans\\\"],[105,17,\\\"euvesicatoria\\\"],[115,3,\\\"euvesicatoria\\\"]],\\\"yaxis\\\":\\\"y1\\\",\\\"hovertemplate\\\":\\\"ID: %{customdata[0]}<br>\\\\nHeight: %{y:.3f}<br>\\\\nGenome count: %{customdata[1]}\\\\n<br>\\\\n%{customdata[2]}\\\\n<extra><\\/extra>\\\",\\\"x\\\":[34.624057176677965,10.71875,6.5625,23.089635306407857,9.875,13.5,19.58113883008419,1.5,32.814660821418094,10.5,30.688842818339708,15.5,8.5,21.766705410709047,33.803997435138584,14.875,27.573688201540833,26.02830306395282,29.119073339128846,37.990082580462406,3.25,38.740082580462406,22.016992952647332,26.889239062373782,11.25,20.871708245126285,35.55706987857019,32.050924991706985,5.0,16.25]},{\\\"colorscale\\\":[[0.0,\\\"#666666\\\"],[0.1,\\\"#AEC7E8\\\"],[0.2,\\\"#FFBB78\\\"],[0.3,\\\"#98DF8A\\\"],[0.4,\\\"#FF9896\\\"],[0.5,\\\"#C5B0D5\\\"],[0.6,\\\"#C49C94\\\"],[0.7,\\\"#F7B6D2\\\"],[0.8,\\\"#C7C7C7\\\"],[0.9,\\\"#DBDB8D\\\"],[1.0,\\\"#9EDAE5\\\"]],\\\"yaxis\\\":\\\"y2\\\",\\\"showscale\\\":false,\\\"x\\\":[0.5,2.5,7.5,9.5,11.5,12.5,14.5,16.5,17.5,21.662277660168378,22.662277660168378,23.662277660168378,24.662277660168378,27.394328467737257,30.843818210520435,33.25803177289353,35.990082580462406,36.990082580462406,37.990082580462406,38.990082580462406,39.990082580462406],\\\"customdata\\\":[[[\\\"ID 91\\\",\\\"euvesicatoria\\\"],[\\\"ID 105\\\",\\\"euvesicatoria\\\"],[\\\"ID 87\\\",\\\"euvesicatoria\\\"],[\\\"ID 102\\\",\\\"euvesicatoria\\\"],[\\\"Genome 64\\\",\\\"euvesicatoria\\\"],[\\\"ID 109\\\",\\\"euvesicatoria\\\"],[\\\"ID 104\\\",\\\"euvesicatoria\\\"],[\\\"Genome 49\\\",\\\"euvesicatoria\\\"],[\\\"ID 89\\\",\\\"perforans\\\"],[\\\"Genome 1\\\",\\\"perforans\\\"],[\\\"Genome 14\\\",\\\"perforans\\\"],[\\\"Genome 15\\\",\\\"perforans\\\"],[\\\"ID 103\\\",\\\"perforans\\\"],[\\\"ID 110\\\",\\\"perforans\\\"],[\\\"ID 108\\\",\\\"perforans\\\"],[\\\"ID 106\\\",\\\"perforans\\\"],[\\\"Genome 2\\\",\\\"perforans\\\"],[\\\"Genome 36\\\",\\\"euvesicatoria\\\"],[\\\"Genome 65\\\",\\\"euvesicatoria\\\"],[\\\"Genome 35\\\",\\\"euvesicatoria\\\"]]],\\\"zmin\\\":0,\\\"z\\\":[[2,2,2,2,2,2,2,2,1,1,1,1,1,1,1,1,1,2,2,2]],\\\"zmax\\\":10,\\\"type\\\":\\\"heatmap\\\",\\\"xgap\\\":1,\\\"hovertemplate\\\":\\\"%{customdata[0]} <br>\\\\n%{customdata[1]}\\\\n<extra><\\/extra>\\\\n\\\"}],{\\\"xaxis\\\":{\\\"visible\\\":false},\\\"hovermode\\\":\\\"closest\\\",\\\"margin\\\":{\\\"l\\\":50,\\\"b\\\":50,\\\"r\\\":50,\\\"t\\\":60},\\\"yaxis2\\\":{\\\"visible\\\":false,\\\"domain\\\":[0.0,0.05],\\\"fixedrange\\\":true}},{}); gd.on(\\\"plotly_hover\\\",(function (data){var filtered_data=WebIO.PlotlyCommands.filterEventData(gd,data,\\\"hover\\\"); return !(filtered_data.isnil) ? (WebIO.setval({\\\"name\\\":\\\"hover\\\",\\\"scope\\\":\\\"17506140971631828843\\\",\\\"id\\\":\\\"502272094549164537\\\",\\\"type\\\":\\\"observable\\\"},filtered_data.out)) : undefined})); gd.on(\\\"plotly_unhover\\\",(function (){return WebIO.setval({\\\"name\\\":\\\"hover\\\",\\\"scope\\\":\\\"17506140971631828843\\\",\\\"id\\\":\\\"502272094549164537\\\",\\\"type\\\":\\\"observable\\\"},{})})); gd.on(\\\"plotly_selected\\\",(function (data){var filtered_data=WebIO.PlotlyCommands.filterEventData(gd,data,\\\"selected\\\"); return !(filtered_data.isnil) ? (WebIO.setval({\\\"name\\\":\\\"selected\\\",\\\"scope\\\":\\\"17506140971631828843\\\",\\\"id\\\":\\\"4526995372939616695\\\",\\\"type\\\":\\\"observable\\\"},filtered_data.out)) : undefined})); gd.on(\\\"plotly_deselect\\\",(function (){return WebIO.setval({\\\"name\\\":\\\"selected\\\",\\\"scope\\\":\\\"17506140971631828843\\\",\\\"id\\\":\\\"4526995372939616695\\\",\\\"type\\\":\\\"observable\\\"},{})})); gd.on(\\\"plotly_relayout\\\",(function (data){var filtered_data=WebIO.PlotlyCommands.filterEventData(gd,data,\\\"relayout\\\"); return !(filtered_data.isnil) ? (WebIO.setval({\\\"name\\\":\\\"relayout\\\",\\\"scope\\\":\\\"17506140971631828843\\\",\\\"id\\\":\\\"1173864519500881566\\\",\\\"type\\\":\\\"observable\\\"},filtered_data.out)) : undefined})); return gd.on(\\\"plotly_click\\\",(function (data){var filtered_data=WebIO.PlotlyCommands.filterEventData(gd,data,\\\"click\\\"); return !(filtered_data.isnil) ? (WebIO.setval({\\\"name\\\":\\\"click\\\",\\\"scope\\\":\\\"17506140971631828843\\\",\\\"id\\\":\\\"8784860868673815646\\\",\\\"type\\\":\\\"observable\\\"},filtered_data.out)) : undefined}))}));\\n    (WebIO.importBlock({\\\"data\\\":[{\\\"name\\\":\\\"Plotly\\\",\\\"type\\\":\\\"js\\\",\\\"url\\\":\\\"\\/assetserver\\/e6903599031aaef8675931dfcd7df98a1aeffbfc-plotly-latest.min.js\\\"},{\\\"name\\\":null,\\\"type\\\":\\\"js\\\",\\\"url\\\":\\\"\\/assetserver\\/74a5dea81f21b0b802ef1ee92f1c8a504eac1a0c-plotly_webio.bundle.js\\\"}],\\\"type\\\":\\\"async_block\\\"})).then((imports) => handler.apply(this, imports));\\n}\\n\"],\"observables\":{\"_toImage\":{\"sync\":false,\"id\":\"5505369664798414139\",\"value\":{}},\"hover\":{\"sync\":false,\"id\":\"502272094549164537\",\"value\":{}},\"selected\":{\"sync\":false,\"id\":\"4526995372939616695\",\"value\":{}},\"__gd_contents\":{\"sync\":false,\"id\":\"13520108885049226136\",\"value\":{}},\"click\":{\"sync\":false,\"id\":\"8784860868673815646\",\"value\":{}},\"image\":{\"sync\":true,\"id\":\"4266325546261946752\",\"value\":\"\"},\"__get_gd_contents\":{\"sync\":false,\"id\":\"11883295387492758988\",\"value\":\"\"},\"_downloadImage\":{\"sync\":false,\"id\":\"13523252633607850010\",\"value\":{}},\"relayout\":{\"sync\":false,\"id\":\"1173864519500881566\",\"value\":{}},\"_commands\":{\"sync\":false,\"id\":\"15621347712766076925\",\"value\":[]}}},\"children\":[{\"props\":{\"id\":\"plot-e97ecdb9-3a02-43ac-b9b2-6a0d11f4c7cb\"},\"nodeType\":\"DOM\",\"type\":\"node\",\"instanceArgs\":{\"namespace\":\"html\",\"tag\":\"div\"},\"children\":[]}]},\n",
       "            window,\n",
       "        );\n",
       "    } else {\n",
       "        document\n",
       "            .querySelector('[data-webio-mountpoint=\"8769188028812150731\"]')\n",
       "            .innerHTML = (\n",
       "                '<div style=\"padding: 1em; background-color: #f8d6da; border: 1px solid #f5c6cb\">' +\n",
       "                '<p><strong>WebIO not detected.</strong></p>' +\n",
       "                '<p>Please read ' +\n",
       "                '<a href=\"https://juliagizmos.github.io/WebIO.jl/latest/troubleshooting/not-detected/\" target=\"_blank\">the troubleshooting guide</a> ' +\n",
       "                'for more information on how to resolve this issue.</p>' +\n",
       "                '<p><a href=\"https://juliagizmos.github.io/WebIO.jl/latest/troubleshooting/not-detected/\" target=\"_blank\">https://juliagizmos.github.io/WebIO.jl/latest/troubleshooting/not-detected/</a></p>' +\n",
       "                '</div>'\n",
       "            );\n",
       "    }\n",
       "    </script>\n",
       "</div>\n"
      ],
      "text/plain": [
       "data: [\n",
       "  \"scatter with fields hoverinfo, line, mode, showlegend, type, x, y, and yaxis\",\n",
       "  \"scatter with fields hoverinfo, line, mode, showlegend, type, x, y, and yaxis\",\n",
       "  \"scatter with fields hoverinfo, line, mode, showlegend, type, x, y, and yaxis\",\n",
       "  \"scatter with fields hoverinfo, line, mode, showlegend, type, x, y, and yaxis\",\n",
       "  \"scatter with fields fill, hoverinfo, line, mode, showlegend, type, x, y, and yaxis\",\n",
       "  \"scatter with fields fill, hoverinfo, line, mode, showlegend, type, x, y, and yaxis\",\n",
       "  \"scatter with fields fill, hoverinfo, line, mode, showlegend, type, x, y, and yaxis\",\n",
       "  \"scatter with fields hoverinfo, line, mode, showlegend, type, x, y, and yaxis\",\n",
       "  \"scatter with fields fill, hoverinfo, line, mode, showlegend, type, x, y, and yaxis\",\n",
       "  \"scatter with fields hoverinfo, line, mode, showlegend, type, x, y, and yaxis\",\n",
       "  \"scatter with fields fill, hoverinfo, line, mode, showlegend, type, x, y, and yaxis\",\n",
       "  \"scatter with fields fill, hoverinfo, line, mode, showlegend, type, x, y, and yaxis\",\n",
       "  \"scatter with fields hoverinfo, line, mode, showlegend, type, x, y, and yaxis\",\n",
       "  \"scatter with fields hoverinfo, line, mode, showlegend, type, x, y, and yaxis\",\n",
       "  \"scatter with fields hoverinfo, line, mode, showlegend, type, x, y, and yaxis\",\n",
       "  \"scatter with fields hoverinfo, line, mode, showlegend, type, x, y, and yaxis\",\n",
       "  \"scatter with fields fill, hoverinfo, line, mode, showlegend, type, x, y, and yaxis\",\n",
       "  \"scatter with fields fill, hoverinfo, line, mode, showlegend, type, x, y, and yaxis\",\n",
       "  \"scatter with fields hoverinfo, line, mode, showlegend, type, x, y, and yaxis\",\n",
       "  \"scatter with fields hoverinfo, line, mode, showlegend, type, x, y, and yaxis\",\n",
       "  \"scatter with fields hoverinfo, line, mode, showlegend, type, x, y, and yaxis\",\n",
       "  \"scatter with fields hoverinfo, line, mode, showlegend, type, x, y, and yaxis\",\n",
       "  \"scatter with fields hoverinfo, line, mode, showlegend, type, x, y, and yaxis\",\n",
       "  \"scatter with fields hoverinfo, line, mode, showlegend, type, x, y, and yaxis\",\n",
       "  \"scatter with fields hoverinfo, line, mode, showlegend, type, x, y, and yaxis\",\n",
       "  \"scatter with fields hoverinfo, line, mode, showlegend, type, x, y, and yaxis\",\n",
       "  \"scatter with fields fill, hoverinfo, line, mode, showlegend, type, x, y, and yaxis\",\n",
       "  \"scatter with fields fill, hoverinfo, line, mode, showlegend, type, x, y, and yaxis\",\n",
       "  \"scatter with fields fill, hoverinfo, line, mode, showlegend, type, x, y, and yaxis\",\n",
       "  \"scatter with fields hoverinfo, line, mode, showlegend, type, x, y, and yaxis\",\n",
       "  \"scatter with fields customdata, hovertemplate, marker, mode, showlegend, type, x, y, and yaxis\",\n",
       "  \"heatmap with fields colorscale, customdata, hovertemplate, showscale, type, x, xgap, yaxis, z, zmax, and zmin\"\n",
       "]\n",
       "\n",
       "layout: \"layout with fields hovermode, margin, xaxis, and yaxis2\"\n",
       "\n"
      ]
     },
     "execution_count": 4,
     "metadata": {},
     "output_type": "execute_result"
    }
   ],
   "source": [
    "trees[\"all\"] = cluster_annotate(cdata, 1:cdata.ntaxa)\n",
    "plot(dendrogram(cdata, trees[\"all\"]))"
   ]
  },
  {
   "cell_type": "code",
   "execution_count": 5,
   "id": "naked-banks",
   "metadata": {},
   "outputs": [
    {
     "name": "stdout",
     "output_type": "stream",
     "text": [
      "#2 euvesicatoria:\n",
      "\t3/32 removed\n",
      "\tDiameter 0.4528 => 0.1673\n"
     ]
    }
   ],
   "source": [
    "remove_subtrees!(edits, trees[\"all\"], 127)"
   ]
  },
  {
   "cell_type": "markdown",
   "id": "exterior-boulder",
   "metadata": {},
   "source": [
    "## Finish"
   ]
  },
  {
   "cell_type": "code",
   "execution_count": 6,
   "id": "neutral-bargain",
   "metadata": {},
   "outputs": [
    {
     "data": {
      "text/html": [
       "<table class=\"data-frame\"><thead><tr><th></th><th>index</th><th>name</th><th>ngenomes</th><th>initial_diameter</th><th>taxon_removed</th><th>removed_genomes</th><th>split</th><th>manual_threshold</th><th>final_diameter</th></tr><tr><th></th><th>Int64</th><th>SubStri…</th><th>Int64</th><th>Float32</th><th>Bool</th><th>Int64</th><th>String</th><th>Missing</th><th>String</th></tr></thead><tbody><p>1 rows × 9 columns</p><tr><th>1</th><td>2</td><td>euvesicatoria</td><td>32</td><td>0.452832</td><td>0</td><td>3</td><td></td><td><em>missing</em></td><td>0.1673</td></tr></tbody></table>"
      ],
      "text/latex": [
       "\\begin{tabular}{r|ccccccccc}\n",
       "\t& index & name & ngenomes & initial\\_diameter & taxon\\_removed & removed\\_genomes & split & manual\\_threshold & final\\_diameter\\\\\n",
       "\t\\hline\n",
       "\t& Int64 & SubStri… & Int64 & Float32 & Bool & Int64 & String & Missing & String\\\\\n",
       "\t\\hline\n",
       "\t1 & 2 & euvesicatoria & 32 & 0.452832 & 0 & 3 &  & \\emph{missing} & 0.1673 \\\\\n",
       "\\end{tabular}\n"
      ],
      "text/plain": [
       "\u001b[1m1×9 DataFrame\u001b[0m\n",
       "\u001b[1m Row \u001b[0m│\u001b[1m index \u001b[0m\u001b[1m name          \u001b[0m\u001b[1m ngenomes \u001b[0m\u001b[1m initial_diameter \u001b[0m\u001b[1m taxon_removed \u001b[0m\u001b[1m removed_genomes \u001b[0m\u001b[1m split  \u001b[0m\u001b[1m manual_threshold \u001b[0m\u001b[1m final_diameter \u001b[0m\n",
       "\u001b[1m     \u001b[0m│\u001b[90m Int64 \u001b[0m\u001b[90m SubStrin…     \u001b[0m\u001b[90m Int64    \u001b[0m\u001b[90m Float32          \u001b[0m\u001b[90m Bool          \u001b[0m\u001b[90m Int64           \u001b[0m\u001b[90m String \u001b[0m\u001b[90m Missing          \u001b[0m\u001b[90m String         \u001b[0m\n",
       "─────┼────────────────────────────────────────────────────────────────────────────────────────────────────────────────────────────\n",
       "   1 │     2  euvesicatoria        32          0.452832          false                3         \u001b[90m         missing  \u001b[0m 0.1673"
      ]
     },
     "execution_count": 6,
     "metadata": {},
     "output_type": "execute_result"
    }
   ],
   "source": [
    "complete_edits(edits)"
   ]
  }
 ],
 "metadata": {
  "@webio": {
   "lastCommId": "33667e0b-06d6-4432-bd39-6922c96fb2af",
   "lastKernelId": "2dfce4b9-11b7-4c9d-9989-bbdc0fb10af9"
  },
  "kernelspec": {
   "display_name": "Julia 1.5.1",
   "language": "julia",
   "name": "julia-1.5"
  },
  "language_info": {
   "file_extension": ".jl",
   "mimetype": "application/julia",
   "name": "julia",
   "version": "1.5.1"
  }
 },
 "nbformat": 4,
 "nbformat_minor": 5
}
