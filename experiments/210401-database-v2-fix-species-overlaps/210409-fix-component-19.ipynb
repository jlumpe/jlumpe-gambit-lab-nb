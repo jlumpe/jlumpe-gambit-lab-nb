{
 "cells": [
  {
   "cell_type": "markdown",
   "id": "electoral-poker",
   "metadata": {},
   "source": [
    "# 210409 Fix Component 19"
   ]
  },
  {
   "cell_type": "code",
   "execution_count": 1,
   "id": "prescription-fourth",
   "metadata": {},
   "outputs": [],
   "source": [
    "const COMPONENT = 19;"
   ]
  },
  {
   "cell_type": "code",
   "execution_count": 2,
   "id": "consolidated-patio",
   "metadata": {},
   "outputs": [
    {
     "data": {
      "text/html": [
       "<script>\n",
       "// Immediately-invoked-function-expression to avoid global variables.\n",
       "(function() {\n",
       "    var warning_div = document.getElementById(\"webio-warning-849811974427778865\");\n",
       "    var hide = function () {\n",
       "        var script = document.getElementById(\"webio-setup-11703078815777909910\");\n",
       "        var parent = script && script.parentElement;\n",
       "        var grandparent = parent && parent.parentElement;\n",
       "        if (grandparent) {\n",
       "            grandparent.style.display = \"none\";\n",
       "        }\n",
       "        warning_div.style.display = \"none\";\n",
       "    };\n",
       "    if (typeof Jupyter !== \"undefined\") {\n",
       "        console.log(\"WebIO detected Jupyter notebook environment.\");\n",
       "        // Jupyter notebook.\n",
       "        var extensions = (\n",
       "            Jupyter\n",
       "            && Jupyter.notebook.config.data\n",
       "            && Jupyter.notebook.config.data.load_extensions\n",
       "        );\n",
       "        if (extensions && extensions[\"webio-jupyter-notebook\"]) {\n",
       "            // Extension already loaded.\n",
       "            console.log(\"Jupyter WebIO nbextension detected; not loading ad-hoc.\");\n",
       "            hide();\n",
       "            return;\n",
       "        }\n",
       "    } else if (window.location.pathname.includes(\"/lab\")) {\n",
       "        // Guessing JupyterLa\n",
       "        console.log(\"Jupyter Lab detected; make sure the @webio/jupyter-lab-provider labextension is installed.\");\n",
       "        hide();\n",
       "        return;\n",
       "    }\n",
       "})();\n",
       "\n",
       "</script>\n",
       "<p\n",
       "    id=\"webio-warning-849811974427778865\"\n",
       "    class=\"output_text output_stderr\"\n",
       "    style=\"padding: 1em; font-weight: bold;\"\n",
       ">\n",
       "    Unable to load WebIO. Please make sure WebIO works for your Jupyter client.\n",
       "    For troubleshooting, please see <a href=\"https://juliagizmos.github.io/WebIO.jl/latest/providers/ijulia/\">\n",
       "    the WebIO/IJulia documentation</a>.\n",
       "    <!-- TODO: link to installation docs. -->\n",
       "</p>\n"
      ],
      "text/plain": [
       "HTML{String}(\"<script>\\n// Immediately-invoked-function-expression to avoid global variables.\\n(function() {\\n    var warning_div = document.getElementById(\\\"webio-warning-849811974427778865\\\");\\n    var hide = function () {\\n        var script = document.getElementById(\\\"webio-setup-11703078815777909910\\\");\\n        var parent = script && script.parentElement;\\n        var grandparent = parent && parent.parentElement;\\n        if (grandparent) {\\n            grandparent.style.display = \\\"none\\\";\\n        }\\n        warning_div.style.display = \\\"none\\\";\\n    };\\n    if (typeof Jupyter !== \\\"undefined\\\") {\\n        console.log(\\\"WebIO detected Jupyter notebook environment.\\\");\\n        // Jupyter notebook.\\n        var extensions = (\\n            Jupyter\\n            && Jupyter.notebook.config.data\\n            && Jupyter.notebook.config.data.load_extensions\\n        );\\n        if (extensions && extensions[\\\"webio-jupyter-notebook\\\"]) {\\n            // Extension already loaded.\\n            console.log(\\\"Jupyter WebIO nbextension detected; not loading ad-hoc.\\\");\\n            hide();\\n            return;\\n        }\\n    } else if (window.location.pathname.includes(\\\"/lab\\\")) {\\n        // Guessing JupyterLa\\n        console.log(\\\"Jupyter Lab detected; make sure the @webio/jupyter-lab-provider labextension is installed.\\\");\\n        hide();\\n        return;\\n    }\\n})();\\n\\n</script>\\n<p\\n    id=\\\"webio-warning-849811974427778865\\\"\\n    class=\\\"output_text output_stderr\\\"\\n    style=\\\"padding: 1em; font-weight: bold;\\\"\\n>\\n    Unable to load WebIO. Please make sure WebIO works for your Jupyter client.\\n    For troubleshooting, please see <a href=\\\"https://juliagizmos.github.io/WebIO.jl/latest/providers/ijulia/\\\">\\n    the WebIO/IJulia documentation</a>.\\n    <!-- TODO: link to installation docs. -->\\n</p>\\n\")"
      ]
     },
     "metadata": {},
     "output_type": "display_data"
    },
    {
     "data": {
      "text/html": [
       "<table class=\"data-frame\"><thead><tr><th></th><th>id</th><th>ncbi_id</th><th>name</th><th>rank</th><th>parent_id</th><th>in_v12</th><th>manual_threshold</th><th>report</th><th>ngenomes</th><th>comp_idx</th><th>diameter</th><th>outgoing</th><th>incoming</th><th>name_abbr</th></tr><tr><th></th><th>Int64</th><th>Int64?</th><th>String</th><th>String?</th><th>Int64?</th><th>Bool</th><th>Float64</th><th>Bool</th><th>Int64</th><th>Int64</th><th>Float32</th><th>Int64</th><th>Int64</th><th>SubStri…</th></tr></thead><tbody><p>2 rows × 14 columns</p><tr><th>1</th><td>606</td><td>518</td><td>Bordetella bronchiseptica</td><td>species</td><td>130</td><td>1</td><td>NaN</td><td>1</td><td>63</td><td>1</td><td>0.415677</td><td>1</td><td>0</td><td>bronchiseptica</td></tr><tr><th>2</th><td>607</td><td>520</td><td>Bordetella pertussis</td><td>species</td><td>130</td><td>1</td><td>NaN</td><td>1</td><td>300</td><td>2</td><td>0.170448</td><td>0</td><td>1</td><td>pertussis</td></tr></tbody></table>"
      ],
      "text/latex": [
       "\\begin{tabular}{r|cccccccccccccc}\n",
       "\t& id & ncbi\\_id & name & rank & parent\\_id & in\\_v12 & manual\\_threshold & report & ngenomes & comp\\_idx & diameter & outgoing & incoming & name\\_abbr\\\\\n",
       "\t\\hline\n",
       "\t& Int64 & Int64? & String & String? & Int64? & Bool & Float64 & Bool & Int64 & Int64 & Float32 & Int64 & Int64 & SubStri…\\\\\n",
       "\t\\hline\n",
       "\t1 & 606 & 518 & Bordetella bronchiseptica & species & 130 & 1 & NaN & 1 & 63 & 1 & 0.415677 & 1 & 0 & bronchiseptica \\\\\n",
       "\t2 & 607 & 520 & Bordetella pertussis & species & 130 & 1 & NaN & 1 & 300 & 2 & 0.170448 & 0 & 1 & pertussis \\\\\n",
       "\\end{tabular}\n"
      ],
      "text/plain": [
       "\u001b[1m2×14 DataFrame\u001b[0m\n",
       "\u001b[1m Row \u001b[0m│\u001b[1m id    \u001b[0m\u001b[1m ncbi_id \u001b[0m\u001b[1m name                      \u001b[0m\u001b[1m rank    \u001b[0m\u001b[1m parent_id \u001b[0m\u001b[1m in_v12 \u001b[0m\u001b[1m manual_threshold \u001b[0m\u001b[1m report \u001b[0m\u001b[1m ngenomes \u001b[0m\u001b[1m comp_idx \u001b[0m\u001b[1m diameter \u001b[0m\u001b[1m outgoing \u001b[0m\u001b[1m incoming \u001b[0m\u001b[1m name_abbr      \u001b[0m\n",
       "\u001b[1m     \u001b[0m│\u001b[90m Int64 \u001b[0m\u001b[90m Int64?  \u001b[0m\u001b[90m String                    \u001b[0m\u001b[90m String? \u001b[0m\u001b[90m Int64?    \u001b[0m\u001b[90m Bool   \u001b[0m\u001b[90m Float64          \u001b[0m\u001b[90m Bool   \u001b[0m\u001b[90m Int64    \u001b[0m\u001b[90m Int64    \u001b[0m\u001b[90m Float32  \u001b[0m\u001b[90m Int64    \u001b[0m\u001b[90m Int64    \u001b[0m\u001b[90m SubStrin…      \u001b[0m\n",
       "─────┼───────────────────────────────────────────────────────────────────────────────────────────────────────────────────────────────────────────────────────────────────\n",
       "   1 │   606      518  Bordetella bronchiseptica  species        130    true              NaN     true        63         1  0.415677         1         0  bronchiseptica\n",
       "   2 │   607      520  Bordetella pertussis       species        130    true              NaN     true       300         2  0.170448         0         1  pertussis"
      ]
     },
     "metadata": {},
     "output_type": "display_data"
    }
   ],
   "source": [
    "include(\"fix-component-base.jl\");"
   ]
  },
  {
   "cell_type": "code",
   "execution_count": 3,
   "id": "perfect-paintball",
   "metadata": {},
   "outputs": [],
   "source": [
    "trees = Dict{String, Any}();"
   ]
  },
  {
   "cell_type": "code",
   "execution_count": 4,
   "id": "fourth-blair",
   "metadata": {},
   "outputs": [
    {
     "data": {
      "application/vnd.plotly.v1+json": {
       "data": [
        {
         "hoverinfo": "skip",
         "line": {
          "color": "#AEC7E8"
         },
         "mode": "lines",
         "showlegend": false,
         "type": "scatter",
         "x": [
          42.83490131734392,
          47.27240131734392,
          null,
          42.83490131734392,
          42.83490131734392,
          null,
          47.27240131734392,
          47.27240131734392,
          null
         ],
         "y": [
          0.19043199717998505,
          0.19043199717998505,
          null,
          0.19043199717998505,
          0.004928806331008673,
          null,
          0.19043199717998505,
          0.1759122610092163,
          null
         ],
         "yaxis": "y"
        },
        {
         "hoverinfo": "skip",
         "line": {
          "color": "#AEC7E8"
         },
         "mode": "lines",
         "showlegend": false,
         "type": "scatter",
         "x": [
          48.08490131734392,
          51.33490131734392,
          null,
          48.08490131734392,
          48.08490131734392,
          null,
          51.33490131734392,
          51.33490131734392,
          null
         ],
         "y": [
          0.1660998910665512,
          0.1660998910665512,
          null,
          0.1660998910665512,
          0.15115052461624146,
          null,
          0.1660998910665512,
          0,
          null
         ],
         "yaxis": "y"
        },
        {
         "hoverinfo": "skip",
         "line": {
          "color": "#AEC7E8"
         },
         "mode": "lines",
         "showlegend": false,
         "type": "scatter",
         "x": [
          54.83490131734392,
          56.33490131734392,
          null,
          54.83490131734392,
          54.83490131734392,
          null,
          56.33490131734392,
          56.33490131734392,
          null
         ],
         "y": [
          0.20058049261569977,
          0.20058049261569977,
          null,
          0.20058049261569977,
          0.002945174463093281,
          null,
          0.20058049261569977,
          0,
          null
         ],
         "yaxis": "y"
        },
        {
         "fill": "toself",
         "hoverinfo": "skip",
         "line": {
          "color": "#AEC7E8"
         },
         "mode": "lines",
         "showlegend": false,
         "type": "scatter",
         "x": [
          54.33490131734392,
          54.33490131734392,
          55.33490131734392,
          55.33490131734392
         ],
         "y": [
          0,
          0.002945174463093281,
          0.002945174463093281,
          0
         ],
         "yaxis": "y"
        },
        {
         "fill": "toself",
         "hoverinfo": "skip",
         "line": {
          "color": "#AEC7E8"
         },
         "mode": "lines",
         "showlegend": false,
         "type": "scatter",
         "x": [
          39.92068775497083,
          39.92068775497083,
          41.33490131734392,
          41.33490131734392
         ],
         "y": [
          0,
          0.11219411343336105,
          0.11219411343336105,
          0
         ],
         "yaxis": "y"
        },
        {
         "hoverinfo": "skip",
         "line": {
          "color": "#AEC7E8"
         },
         "mode": "lines",
         "showlegend": false,
         "type": "scatter",
         "x": [
          23.676186401655777,
          25.99906205718807,
          null,
          23.676186401655777,
          23.676186401655777,
          null,
          25.99906205718807,
          25.99906205718807,
          null
         ],
         "y": [
          0.14826595783233643,
          0.14826595783233643,
          null,
          0.14826595783233643,
          0.09666447341442108,
          null,
          0.14826595783233643,
          0,
          null
         ],
         "yaxis": "y"
        },
        {
         "hoverinfo": "skip",
         "line": {
          "color": "#AEC7E8"
         },
         "mode": "lines",
         "showlegend": false,
         "type": "scatter",
         "x": [
          32.97119801218765,
          35.695942883579235,
          null,
          32.97119801218765,
          32.97119801218765,
          null,
          35.695942883579235,
          35.695942883579235,
          null
         ],
         "y": [
          0.1432751566171646,
          0.1432751566171646,
          null,
          0.1432751566171646,
          0.006055848207324743,
          null,
          0.1432751566171646,
          0.027423115447163582,
          null
         ],
         "yaxis": "y"
        },
        {
         "hoverinfo": "skip",
         "line": {
          "color": "#AEC7E8"
         },
         "mode": "lines",
         "showlegend": false,
         "type": "scatter",
         "x": [
          30.862113802985725,
          53.5394817196956,
          null,
          30.862113802985725,
          30.862113802985725,
          null,
          53.5394817196956,
          53.5394817196956,
          null
         ],
         "y": [
          0.4156765341758728,
          0.4156765341758728,
          null,
          0.4156765341758728,
          0.2738444209098816,
          null,
          0.4156765341758728,
          0.2889243960380554,
          null
         ],
         "yaxis": "y"
        },
        {
         "fill": "toself",
         "hoverinfo": "skip",
         "line": {
          "color": "#FFBB78"
         },
         "mode": "lines",
         "showlegend": false,
         "type": "scatter",
         "x": [
          4.23606797749979,
          4.23606797749979,
          21.35331074612348,
          21.35331074612348
         ],
         "y": [
          0,
          0.1166425496339798,
          0.1166425496339798,
          0
         ],
         "yaxis": "y"
        },
        {
         "hoverinfo": "skip",
         "line": {
          "color": "#AEC7E8"
         },
         "mode": "lines",
         "showlegend": false,
         "type": "scatter",
         "x": [
          31.78435024128565,
          37.92068775497083,
          null,
          31.78435024128565,
          31.78435024128565,
          null,
          37.92068775497083,
          37.92068775497083,
          null
         ],
         "y": [
          0.1682233214378357,
          0.1682233214378357,
          null,
          0.1682233214378357,
          0.14886529743671417,
          null,
          0.1682233214378357,
          0,
          null
         ],
         "yaxis": "y"
        },
        {
         "hoverinfo": "skip",
         "line": {
          "color": "#AEC7E8"
         },
         "mode": "lines",
         "showlegend": false,
         "type": "scatter",
         "x": [
          55.58490131734392,
          57.33490131734392,
          null,
          55.58490131734392,
          55.58490131734392,
          null,
          57.33490131734392,
          57.33490131734392,
          null
         ],
         "y": [
          0.21284879744052887,
          0.21284879744052887,
          null,
          0.21284879744052887,
          0.20058049261569977,
          null,
          0.21284879744052887,
          0,
          null
         ],
         "yaxis": "y"
        },
        {
         "hoverinfo": "skip",
         "line": {
          "color": "#666666"
         },
         "mode": "lines",
         "showlegend": false,
         "type": "scatter",
         "x": [
          7.456361675280765,
          42.20079776134067,
          null,
          7.456361675280765,
          7.456361675280765,
          null,
          42.20079776134067,
          42.20079776134067,
          null
         ],
         "y": [
          0.5131880640983582,
          0.5131880640983582,
          null,
          0.5131880640983582,
          0.1704481840133667,
          null,
          0.5131880640983582,
          0.4156765341758728,
          null
         ],
         "yaxis": "y"
        },
        {
         "hoverinfo": "skip",
         "line": {
          "color": "#AEC7E8"
         },
         "mode": "lines",
         "showlegend": false,
         "type": "scatter",
         "x": [
          29.23513003468786,
          34.333570447883446,
          null,
          29.23513003468786,
          29.23513003468786,
          null,
          34.333570447883446,
          34.333570447883446,
          null
         ],
         "y": [
          0.14886529743671417,
          0.14886529743671417,
          null,
          0.14886529743671417,
          0.14107495546340942,
          null,
          0.14886529743671417,
          0.1432751566171646,
          null
         ],
         "yaxis": "y"
        },
        {
         "fill": "toself",
         "hoverinfo": "skip",
         "line": {
          "color": "#AEC7E8"
         },
         "mode": "lines",
         "showlegend": false,
         "type": "scatter",
         "x": [
          26.99906205718807,
          26.99906205718807,
          31.47119801218765,
          31.47119801218765
         ],
         "y": [
          0,
          0.14107495546340942,
          0.14107495546340942,
          0
         ],
         "yaxis": "y"
        },
        {
         "hoverinfo": "skip",
         "line": {
          "color": "#AEC7E8"
         },
         "mode": "lines",
         "showlegend": false,
         "type": "scatter",
         "x": [
          24.837624229421923,
          36.88660337654953,
          null,
          24.837624229421923,
          24.837624229421923,
          null,
          36.88660337654953,
          36.88660337654953,
          null
         ],
         "y": [
          0.2738444209098816,
          0.2738444209098816,
          null,
          0.2738444209098816,
          0.14826595783233643,
          null,
          0.2738444209098816,
          0.20563814043998718,
          null
         ],
         "yaxis": "y"
        },
        {
         "fill": "toself",
         "hoverinfo": "skip",
         "line": {
          "color": "#AEC7E8"
         },
         "mode": "lines",
         "showlegend": false,
         "type": "scatter",
         "x": [
          22.35331074612348,
          22.35331074612348,
          24.99906205718807,
          24.99906205718807
         ],
         "y": [
          0,
          0.09666447341442108,
          0.09666447341442108,
          0
         ],
         "yaxis": "y"
        },
        {
         "fill": "toself",
         "hoverinfo": "skip",
         "line": {
          "color": "#AEC7E8"
         },
         "mode": "lines",
         "showlegend": false,
         "type": "scatter",
         "x": [
          44.33490131734392,
          44.33490131734392,
          45.33490131734392,
          45.33490131734392
         ],
         "y": [
          0,
          0.03024378977715969,
          0.03024378977715969,
          0
         ],
         "yaxis": "y"
        },
        {
         "fill": "toself",
         "hoverinfo": "skip",
         "line": {
          "color": "#AEC7E8"
         },
         "mode": "lines",
         "showlegend": false,
         "type": "scatter",
         "x": [
          52.33490131734392,
          52.33490131734392,
          53.33490131734392,
          53.33490131734392
         ],
         "y": [
          0,
          0.07080958038568497,
          0.07080958038568497,
          0
         ],
         "yaxis": "y"
        },
        {
         "hoverinfo": "skip",
         "line": {
          "color": "#AEC7E8"
         },
         "mode": "lines",
         "showlegend": false,
         "type": "scatter",
         "x": [
          44.83490131734392,
          49.70990131734392,
          null,
          44.83490131734392,
          44.83490131734392,
          null,
          49.70990131734392,
          49.70990131734392,
          null
         ],
         "y": [
          0.1759122610092163,
          0.1759122610092163,
          null,
          0.1759122610092163,
          0.03024378977715969,
          null,
          0.1759122610092163,
          0.1660998910665512,
          null
         ],
         "yaxis": "y"
        },
        {
         "fill": "toself",
         "hoverinfo": "skip",
         "line": {
          "color": "#AEC7E8"
         },
         "mode": "lines",
         "showlegend": false,
         "type": "scatter",
         "x": [
          42.33490131734392,
          42.33490131734392,
          43.33490131734392,
          43.33490131734392
         ],
         "y": [
          0,
          0.004928806331008673,
          0.004928806331008673,
          0
         ],
         "yaxis": "y"
        },
        {
         "hoverinfo": "skip",
         "line": {
          "color": "#AEC7E8"
         },
         "mode": "lines",
         "showlegend": false,
         "type": "scatter",
         "x": [
          46.83490131734392,
          49.33490131734392,
          null,
          46.83490131734392,
          46.83490131734392,
          null,
          49.33490131734392,
          49.33490131734392,
          null
         ],
         "y": [
          0.15115052461624146,
          0.15115052461624146,
          null,
          0.15115052461624146,
          0.06525612622499466,
          null,
          0.15115052461624146,
          0.13571736216545105,
          null
         ],
         "yaxis": "y"
        },
        {
         "fill": "toself",
         "hoverinfo": "skip",
         "line": {
          "color": "#AEC7E8"
         },
         "mode": "lines",
         "showlegend": false,
         "type": "scatter",
         "x": [
          46.33490131734392,
          46.33490131734392,
          47.33490131734392,
          47.33490131734392
         ],
         "y": [
          0,
          0.06525612622499466,
          0.06525612622499466,
          0
         ],
         "yaxis": "y"
        },
        {
         "fill": "toself",
         "hoverinfo": "skip",
         "line": {
          "color": "#FFBB78"
         },
         "mode": "lines",
         "showlegend": false,
         "type": "scatter",
         "x": [
          1,
          1,
          3.23606797749979,
          3.23606797749979
         ],
         "y": [
          0,
          0.0394880585372448,
          0.0394880585372448,
          0
         ],
         "yaxis": "y"
        },
        {
         "hoverinfo": "skip",
         "line": {
          "color": "#AEC7E8"
         },
         "mode": "lines",
         "showlegend": false,
         "type": "scatter",
         "x": [
          48.74406212204728,
          58.33490131734392,
          null,
          48.74406212204728,
          48.74406212204728,
          null,
          58.33490131734392,
          58.33490131734392,
          null
         ],
         "y": [
          0.2889243960380554,
          0.2889243960380554,
          null,
          0.2889243960380554,
          0.24265146255493164,
          null,
          0.2889243960380554,
          0,
          null
         ],
         "yaxis": "y"
        },
        {
         "hoverinfo": "skip",
         "line": {
          "color": "#AEC7E8"
         },
         "mode": "lines",
         "showlegend": false,
         "type": "scatter",
         "x": [
          42.840722926750644,
          54.64740131734392,
          null,
          42.840722926750644,
          42.840722926750644,
          null,
          54.64740131734392,
          54.64740131734392,
          null
         ],
         "y": [
          0.24265146255493164,
          0.24265146255493164,
          null,
          0.24265146255493164,
          0.2100716531276703,
          null,
          0.24265146255493164,
          0.2299281507730484,
          null
         ],
         "yaxis": "y"
        },
        {
         "hoverinfo": "skip",
         "line": {
          "color": "#AEC7E8"
         },
         "mode": "lines",
         "showlegend": false,
         "type": "scatter",
         "x": [
          40.627794536157374,
          45.05365131734392,
          null,
          40.627794536157374,
          40.627794536157374,
          null,
          45.05365131734392,
          45.05365131734392,
          null
         ],
         "y": [
          0.2100716531276703,
          0.2100716531276703,
          null,
          0.2100716531276703,
          0.11219411343336105,
          null,
          0.2100716531276703,
          0.19043199717998505,
          null
         ],
         "yaxis": "y"
        },
        {
         "hoverinfo": "skip",
         "line": {
          "color": "#AEC7E8"
         },
         "mode": "lines",
         "showlegend": false,
         "type": "scatter",
         "x": [
          34.85251899812824,
          38.92068775497083,
          null,
          34.85251899812824,
          34.85251899812824,
          null,
          38.92068775497083,
          38.92068775497083,
          null
         ],
         "y": [
          0.20563814043998718,
          0.20563814043998718,
          null,
          0.20563814043998718,
          0.1682233214378357,
          null,
          0.20563814043998718,
          0,
          null
         ],
         "yaxis": "y"
        },
        {
         "fill": "toself",
         "hoverinfo": "skip",
         "line": {
          "color": "#AEC7E8"
         },
         "mode": "lines",
         "showlegend": false,
         "type": "scatter",
         "x": [
          32.47119801218765,
          32.47119801218765,
          33.47119801218765,
          33.47119801218765
         ],
         "y": [
          0,
          0.006055848207324743,
          0.006055848207324743,
          0
         ],
         "yaxis": "y"
        },
        {
         "hoverinfo": "skip",
         "line": {
          "color": "#AEC7E8"
         },
         "mode": "lines",
         "showlegend": false,
         "type": "scatter",
         "x": [
          52.83490131734392,
          56.45990131734392,
          null,
          52.83490131734392,
          52.83490131734392,
          null,
          56.45990131734392,
          56.45990131734392,
          null
         ],
         "y": [
          0.2299281507730484,
          0.2299281507730484,
          null,
          0.2299281507730484,
          0.07080958038568497,
          null,
          0.2299281507730484,
          0.21284879744052887,
          null
         ],
         "yaxis": "y"
        },
        {
         "fill": "toself",
         "hoverinfo": "skip",
         "line": {
          "color": "#AEC7E8"
         },
         "mode": "lines",
         "showlegend": false,
         "type": "scatter",
         "x": [
          34.47119801218765,
          34.47119801218765,
          36.92068775497083,
          36.92068775497083
         ],
         "y": [
          0,
          0.027423115447163582,
          0.027423115447163582,
          0
         ],
         "yaxis": "y"
        },
        {
         "fill": "toself",
         "hoverinfo": "skip",
         "line": {
          "color": "#AEC7E8"
         },
         "mode": "lines",
         "showlegend": false,
         "type": "scatter",
         "x": [
          48.33490131734392,
          48.33490131734392,
          50.33490131734392,
          50.33490131734392
         ],
         "y": [
          0,
          0.13571736216545105,
          0.13571736216545105,
          0
         ],
         "yaxis": "y"
        },
        {
         "hoverinfo": "skip",
         "line": {
          "color": "#FFBB78"
         },
         "mode": "lines",
         "showlegend": false,
         "type": "scatter",
         "x": [
          2.118033988749895,
          12.794689361811635,
          null,
          2.118033988749895,
          2.118033988749895,
          null,
          12.794689361811635,
          12.794689361811635,
          null
         ],
         "y": [
          0.1704481840133667,
          0.1704481840133667,
          null,
          0.1704481840133667,
          0.0394880585372448,
          null,
          0.1704481840133667,
          0.1166425496339798,
          null
         ],
         "yaxis": "y"
        },
        {
         "customdata": [
          [
           715,
           12,
           "bronchiseptica"
          ],
          [
           711,
           8,
           "bronchiseptica"
          ],
          [
           716,
           3,
           "bronchiseptica"
          ],
          [
           421,
           2,
           "bronchiseptica"
          ],
          [
           698,
           3,
           "bronchiseptica"
          ],
          [
           708,
           9,
           "bronchiseptica"
          ],
          [
           707,
           9,
           "bronchiseptica"
          ],
          [
           724,
           63,
           "bronchiseptica"
          ],
          [
           700,
           294,
           "pertussis"
          ],
          [
           712,
           31,
           "bronchiseptica"
          ],
          [
           719,
           4,
           "bronchiseptica"
          ],
          [
           725,
           363,
           "(mixed)"
          ],
          [
           709,
           30,
           "bronchiseptica"
          ],
          [
           706,
           21,
           "bronchiseptica"
          ],
          [
           722,
           41,
           "bronchiseptica"
          ],
          [
           693,
           8,
           "bronchiseptica"
          ],
          [
           663,
           2,
           "bronchiseptica"
          ],
          [
           687,
           2,
           "bronchiseptica"
          ],
          [
           714,
           10,
           "bronchiseptica"
          ],
          [
           460,
           2,
           "bronchiseptica"
          ],
          [
           710,
           7,
           "bronchiseptica"
          ],
          [
           686,
           2,
           "bronchiseptica"
          ],
          [
           676,
           6,
           "pertussis"
          ],
          [
           723,
           22,
           "bronchiseptica"
          ],
          [
           721,
           21,
           "bronchiseptica"
          ],
          [
           718,
           15,
           "bronchiseptica"
          ],
          [
           717,
           32,
           "bronchiseptica"
          ],
          [
           483,
           2,
           "bronchiseptica"
          ],
          [
           720,
           6,
           "bronchiseptica"
          ],
          [
           656,
           7,
           "bronchiseptica"
          ],
          [
           705,
           5,
           "bronchiseptica"
          ],
          [
           713,
           300,
           "pertussis"
          ]
         ],
         "hovertemplate": "ID: %{customdata[0]}<br>\nHeight: %{y:.3f}<br>\nGenome count: %{customdata[1]}\n<br>\n%{customdata[2]}\n<extra></extra>",
         "marker": {
          "color": [
           "#AEC7E8",
           "#AEC7E8",
           "#AEC7E8",
           "#AEC7E8",
           "#AEC7E8",
           "#AEC7E8",
           "#AEC7E8",
           "#AEC7E8",
           "#FFBB78",
           "#AEC7E8",
           "#AEC7E8",
           "#666666",
           "#AEC7E8",
           "#AEC7E8",
           "#AEC7E8",
           "#AEC7E8",
           "#AEC7E8",
           "#AEC7E8",
           "#AEC7E8",
           "#AEC7E8",
           "#AEC7E8",
           "#AEC7E8",
           "#FFBB78",
           "#AEC7E8",
           "#AEC7E8",
           "#AEC7E8",
           "#AEC7E8",
           "#AEC7E8",
           "#AEC7E8",
           "#AEC7E8",
           "#AEC7E8",
           "#FFBB78"
          ],
          "size": [
           4,
           4,
           4,
           8,
           8,
           4,
           4,
           4,
           4,
           4,
           4,
           8,
           4,
           4,
           8,
           4,
           8,
           8,
           4,
           8,
           4,
           8,
           8,
           8,
           4,
           4,
           4,
           8,
           4,
           8,
           4,
           8
          ]
         },
         "mode": "markers",
         "showlegend": false,
         "type": "scatter",
         "x": [
          45.05365131734392,
          49.70990131734392,
          55.58490131734392,
          54.83490131734392,
          40.627794536157374,
          24.837624229421923,
          34.333570447883446,
          42.20079776134067,
          12.794689361811635,
          34.85251899812824,
          56.45990131734392,
          24.828579718310717,
          31.78435024128565,
          29.23513003468786,
          30.862113802985725,
          23.676186401655777,
          44.83490131734392,
          52.83490131734392,
          47.27240131734392,
          42.83490131734392,
          48.08490131734392,
          46.83490131734392,
          2.118033988749895,
          53.5394817196956,
          48.74406212204728,
          42.840722926750644,
          36.88660337654953,
          32.97119801218765,
          54.64740131734392,
          35.695942883579235,
          49.33490131734392,
          7.456361675280765
         ],
         "y": [
          0.19043199717998505,
          0.1660998910665512,
          0.20058049261569977,
          0.002945174463093281,
          0.11219411343336105,
          0.14826595783233643,
          0.1432751566171646,
          0.4156765341758728,
          0.1166425496339798,
          0.1682233214378357,
          0.21284879744052887,
          0.5131880640983582,
          0.14886529743671417,
          0.14107495546340942,
          0.2738444209098816,
          0.09666447341442108,
          0.03024378977715969,
          0.07080958038568497,
          0.1759122610092163,
          0.004928806331008673,
          0.15115052461624146,
          0.06525612622499466,
          0.0394880585372448,
          0.2889243960380554,
          0.24265146255493164,
          0.2100716531276703,
          0.20563814043998718,
          0.006055848207324743,
          0.2299281507730484,
          0.027423115447163582,
          0.13571736216545105,
          0.1704481840133667
         ],
         "yaxis": "y"
        },
        {
         "colorscale": [
          [
           0,
           "#666666"
          ],
          [
           0.1,
           "#AEC7E8"
          ],
          [
           0.2,
           "#FFBB78"
          ],
          [
           0.3,
           "#98DF8A"
          ],
          [
           0.4,
           "#FF9896"
          ],
          [
           0.5,
           "#C5B0D5"
          ],
          [
           0.6,
           "#C49C94"
          ],
          [
           0.7,
           "#F7B6D2"
          ],
          [
           0.8,
           "#C7C7C7"
          ],
          [
           0.9,
           "#DBDB8D"
          ],
          [
           1,
           "#9EDAE5"
          ]
         ],
         "customdata": [
          [
           [
            "ID 676",
            "pertussis"
           ],
           [
            "ID 700",
            "pertussis"
           ],
           [
            "ID 693",
            "bronchiseptica"
           ],
           [
            "Genome 12",
            "bronchiseptica"
           ],
           [
            "ID 706",
            "bronchiseptica"
           ],
           [
            "ID 483",
            "bronchiseptica"
           ],
           [
            "ID 656",
            "bronchiseptica"
           ],
           [
            "Genome 44",
            "bronchiseptica"
           ],
           [
            "Genome 28",
            "bronchiseptica"
           ],
           [
            "ID 698",
            "bronchiseptica"
           ],
           [
            "ID 460",
            "bronchiseptica"
           ],
           [
            "ID 663",
            "bronchiseptica"
           ],
           [
            "ID 686",
            "bronchiseptica"
           ],
           [
            "ID 705",
            "bronchiseptica"
           ],
           [
            "Genome 58",
            "bronchiseptica"
           ],
           [
            "ID 687",
            "bronchiseptica"
           ],
           [
            "ID 421",
            "bronchiseptica"
           ],
           [
            "Genome 27",
            "bronchiseptica"
           ],
           [
            "Genome 57",
            "bronchiseptica"
           ],
           [
            "Genome 11",
            "bronchiseptica"
           ]
          ]
         ],
         "hovertemplate": "%{customdata[0]} <br>\n%{customdata[1]}\n<extra></extra>\n",
         "showscale": false,
         "type": "heatmap",
         "x": [
          0.5,
          3.73606797749979,
          21.85331074612348,
          25.49906205718807,
          26.49906205718807,
          31.97119801218765,
          33.97119801218765,
          37.42068775497083,
          38.42068775497083,
          39.42068775497083,
          41.83490131734392,
          43.83490131734392,
          45.83490131734392,
          47.83490131734392,
          50.83490131734392,
          51.83490131734392,
          53.83490131734392,
          55.83490131734392,
          56.83490131734392,
          57.83490131734392,
          58.83490131734392
         ],
         "xgap": 1,
         "yaxis": "y2",
         "z": [
          [
           2,
           2,
           1,
           1,
           1,
           1,
           1,
           1,
           1,
           1,
           1,
           1,
           1,
           1,
           1,
           1,
           1,
           1,
           1,
           1
          ]
         ],
         "zmax": 10,
         "zmin": 0
        }
       ],
       "frames": [],
       "layout": {
        "autosize": true,
        "hovermode": "closest",
        "margin": {
         "b": 50,
         "l": 50,
         "r": 50,
         "t": 60
        },
        "xaxis": {
         "autorange": true,
         "range": [
          -1.1701681744452852,
          59.649210182397894
         ],
         "type": "linear",
         "visible": false
        },
        "yaxis": {
         "autorange": true,
         "range": [
          -0.034978283550338565,
          0.55111152211179
         ],
         "type": "linear"
        },
        "yaxis2": {
         "autorange": true,
         "domain": [
          0,
          0.05
         ],
         "fixedrange": true,
         "range": [
          -0.5,
          0.5
         ],
         "visible": false
        }
       }
      },
      "application/vnd.webio.node+json": {
       "children": [
        {
         "children": [],
         "instanceArgs": {
          "namespace": "html",
          "tag": "div"
         },
         "nodeType": "DOM",
         "props": {
          "id": "plot-462752fd-dcaf-4933-87b3-53cc9b9e309a"
         },
         "type": "node"
        }
       ],
       "instanceArgs": {
        "handlers": {
         "__get_gd_contents": [
          "(function (prop){prop==\"data\" ? (WebIO.setval({\"name\":\"__gd_contents\",\"scope\":\"18057580292916471862\",\"id\":\"8145675930356415159\",\"type\":\"observable\"},this.plotElem.data)) : undefined; return prop==\"layout\" ? (WebIO.setval({\"name\":\"__gd_contents\",\"scope\":\"18057580292916471862\",\"id\":\"8145675930356415159\",\"type\":\"observable\"},this.plotElem.layout)) : undefined})"
         ],
         "_commands": [
          "(function (args){var fn=args.shift(); var elem=this.plotElem; var Plotly=this.Plotly; args.unshift(elem); return Plotly[fn].apply(this,args)})"
         ],
         "_downloadImage": [
          "(function (options){return this.Plotly.downloadImage(this.plotElem,options)})"
         ],
         "_toImage": [
          "(function (options){return this.Plotly.toImage(this.plotElem,options).then((function (data){return WebIO.setval({\"name\":\"image\",\"scope\":\"18057580292916471862\",\"id\":\"3794679330108177006\",\"type\":\"observable\"},data)}))})"
         ]
        },
        "id": "18057580292916471862",
        "imports": {
         "data": [
          {
           "name": "Plotly",
           "type": "js",
           "url": "/assetserver/e6903599031aaef8675931dfcd7df98a1aeffbfc-plotly-latest.min.js"
          },
          {
           "name": null,
           "type": "js",
           "url": "/assetserver/74a5dea81f21b0b802ef1ee92f1c8a504eac1a0c-plotly_webio.bundle.js"
          }
         ],
         "type": "async_block"
        },
        "mount_callbacks": [
         "function () {\n    var handler = ((function (Plotly,PlotlyWebIO){PlotlyWebIO.init(WebIO); var gd=this.dom.querySelector(\"#plot-462752fd-dcaf-4933-87b3-53cc9b9e309a\"); this.plotElem=gd; this.Plotly=Plotly; (window.Blink!==undefined) ? (gd.style.width=\"100%\", gd.style.height=\"100vh\", gd.style.marginLeft=\"0%\", gd.style.marginTop=\"0vh\") : undefined; window.onresize=(function (){return Plotly.Plots.resize(gd)}); Plotly.newPlot(gd,[{\"showlegend\":false,\"mode\":\"lines\",\"line\":{\"color\":\"#AEC7E8\"},\"y\":[0.19043199717998505,0.19043199717998505,null,0.19043199717998505,0.004928806331008673,null,0.19043199717998505,0.1759122610092163,null],\"type\":\"scatter\",\"hoverinfo\":\"skip\",\"yaxis\":\"y1\",\"x\":[42.83490131734392,47.27240131734392,null,42.83490131734392,42.83490131734392,null,47.27240131734392,47.27240131734392,null]},{\"showlegend\":false,\"mode\":\"lines\",\"line\":{\"color\":\"#AEC7E8\"},\"y\":[0.1660998910665512,0.1660998910665512,null,0.1660998910665512,0.15115052461624146,null,0.1660998910665512,0.0,null],\"type\":\"scatter\",\"hoverinfo\":\"skip\",\"yaxis\":\"y1\",\"x\":[48.08490131734392,51.33490131734392,null,48.08490131734392,48.08490131734392,null,51.33490131734392,51.33490131734392,null]},{\"showlegend\":false,\"mode\":\"lines\",\"line\":{\"color\":\"#AEC7E8\"},\"y\":[0.20058049261569977,0.20058049261569977,null,0.20058049261569977,0.002945174463093281,null,0.20058049261569977,0.0,null],\"type\":\"scatter\",\"hoverinfo\":\"skip\",\"yaxis\":\"y1\",\"x\":[54.83490131734392,56.33490131734392,null,54.83490131734392,54.83490131734392,null,56.33490131734392,56.33490131734392,null]},{\"showlegend\":false,\"mode\":\"lines\",\"line\":{\"color\":\"#AEC7E8\"},\"y\":[0.0,0.002945174463093281,0.002945174463093281,0.0],\"type\":\"scatter\",\"fill\":\"toself\",\"hoverinfo\":\"skip\",\"yaxis\":\"y1\",\"x\":[54.33490131734392,54.33490131734392,55.33490131734392,55.33490131734392]},{\"showlegend\":false,\"mode\":\"lines\",\"line\":{\"color\":\"#AEC7E8\"},\"y\":[0.0,0.11219411343336105,0.11219411343336105,0.0],\"type\":\"scatter\",\"fill\":\"toself\",\"hoverinfo\":\"skip\",\"yaxis\":\"y1\",\"x\":[39.92068775497083,39.92068775497083,41.33490131734392,41.33490131734392]},{\"showlegend\":false,\"mode\":\"lines\",\"line\":{\"color\":\"#AEC7E8\"},\"y\":[0.14826595783233643,0.14826595783233643,null,0.14826595783233643,0.09666447341442108,null,0.14826595783233643,0.0,null],\"type\":\"scatter\",\"hoverinfo\":\"skip\",\"yaxis\":\"y1\",\"x\":[23.676186401655777,25.99906205718807,null,23.676186401655777,23.676186401655777,null,25.99906205718807,25.99906205718807,null]},{\"showlegend\":false,\"mode\":\"lines\",\"line\":{\"color\":\"#AEC7E8\"},\"y\":[0.1432751566171646,0.1432751566171646,null,0.1432751566171646,0.006055848207324743,null,0.1432751566171646,0.027423115447163582,null],\"type\":\"scatter\",\"hoverinfo\":\"skip\",\"yaxis\":\"y1\",\"x\":[32.97119801218765,35.695942883579235,null,32.97119801218765,32.97119801218765,null,35.695942883579235,35.695942883579235,null]},{\"showlegend\":false,\"mode\":\"lines\",\"line\":{\"color\":\"#AEC7E8\"},\"y\":[0.4156765341758728,0.4156765341758728,null,0.4156765341758728,0.2738444209098816,null,0.4156765341758728,0.2889243960380554,null],\"type\":\"scatter\",\"hoverinfo\":\"skip\",\"yaxis\":\"y1\",\"x\":[30.862113802985725,53.5394817196956,null,30.862113802985725,30.862113802985725,null,53.5394817196956,53.5394817196956,null]},{\"showlegend\":false,\"mode\":\"lines\",\"line\":{\"color\":\"#FFBB78\"},\"y\":[0.0,0.1166425496339798,0.1166425496339798,0.0],\"type\":\"scatter\",\"fill\":\"toself\",\"hoverinfo\":\"skip\",\"yaxis\":\"y1\",\"x\":[4.23606797749979,4.23606797749979,21.35331074612348,21.35331074612348]},{\"showlegend\":false,\"mode\":\"lines\",\"line\":{\"color\":\"#AEC7E8\"},\"y\":[0.1682233214378357,0.1682233214378357,null,0.1682233214378357,0.14886529743671417,null,0.1682233214378357,0.0,null],\"type\":\"scatter\",\"hoverinfo\":\"skip\",\"yaxis\":\"y1\",\"x\":[31.78435024128565,37.92068775497083,null,31.78435024128565,31.78435024128565,null,37.92068775497083,37.92068775497083,null]},{\"showlegend\":false,\"mode\":\"lines\",\"line\":{\"color\":\"#AEC7E8\"},\"y\":[0.21284879744052887,0.21284879744052887,null,0.21284879744052887,0.20058049261569977,null,0.21284879744052887,0.0,null],\"type\":\"scatter\",\"hoverinfo\":\"skip\",\"yaxis\":\"y1\",\"x\":[55.58490131734392,57.33490131734392,null,55.58490131734392,55.58490131734392,null,57.33490131734392,57.33490131734392,null]},{\"showlegend\":false,\"mode\":\"lines\",\"line\":{\"color\":\"#666666\"},\"y\":[0.5131880640983582,0.5131880640983582,null,0.5131880640983582,0.1704481840133667,null,0.5131880640983582,0.4156765341758728,null],\"type\":\"scatter\",\"hoverinfo\":\"skip\",\"yaxis\":\"y1\",\"x\":[7.456361675280765,42.20079776134067,null,7.456361675280765,7.456361675280765,null,42.20079776134067,42.20079776134067,null]},{\"showlegend\":false,\"mode\":\"lines\",\"line\":{\"color\":\"#AEC7E8\"},\"y\":[0.14886529743671417,0.14886529743671417,null,0.14886529743671417,0.14107495546340942,null,0.14886529743671417,0.1432751566171646,null],\"type\":\"scatter\",\"hoverinfo\":\"skip\",\"yaxis\":\"y1\",\"x\":[29.23513003468786,34.333570447883446,null,29.23513003468786,29.23513003468786,null,34.333570447883446,34.333570447883446,null]},{\"showlegend\":false,\"mode\":\"lines\",\"line\":{\"color\":\"#AEC7E8\"},\"y\":[0.0,0.14107495546340942,0.14107495546340942,0.0],\"type\":\"scatter\",\"fill\":\"toself\",\"hoverinfo\":\"skip\",\"yaxis\":\"y1\",\"x\":[26.99906205718807,26.99906205718807,31.47119801218765,31.47119801218765]},{\"showlegend\":false,\"mode\":\"lines\",\"line\":{\"color\":\"#AEC7E8\"},\"y\":[0.2738444209098816,0.2738444209098816,null,0.2738444209098816,0.14826595783233643,null,0.2738444209098816,0.20563814043998718,null],\"type\":\"scatter\",\"hoverinfo\":\"skip\",\"yaxis\":\"y1\",\"x\":[24.837624229421923,36.88660337654953,null,24.837624229421923,24.837624229421923,null,36.88660337654953,36.88660337654953,null]},{\"showlegend\":false,\"mode\":\"lines\",\"line\":{\"color\":\"#AEC7E8\"},\"y\":[0.0,0.09666447341442108,0.09666447341442108,0.0],\"type\":\"scatter\",\"fill\":\"toself\",\"hoverinfo\":\"skip\",\"yaxis\":\"y1\",\"x\":[22.35331074612348,22.35331074612348,24.99906205718807,24.99906205718807]},{\"showlegend\":false,\"mode\":\"lines\",\"line\":{\"color\":\"#AEC7E8\"},\"y\":[0.0,0.03024378977715969,0.03024378977715969,0.0],\"type\":\"scatter\",\"fill\":\"toself\",\"hoverinfo\":\"skip\",\"yaxis\":\"y1\",\"x\":[44.33490131734392,44.33490131734392,45.33490131734392,45.33490131734392]},{\"showlegend\":false,\"mode\":\"lines\",\"line\":{\"color\":\"#AEC7E8\"},\"y\":[0.0,0.07080958038568497,0.07080958038568497,0.0],\"type\":\"scatter\",\"fill\":\"toself\",\"hoverinfo\":\"skip\",\"yaxis\":\"y1\",\"x\":[52.33490131734392,52.33490131734392,53.33490131734392,53.33490131734392]},{\"showlegend\":false,\"mode\":\"lines\",\"line\":{\"color\":\"#AEC7E8\"},\"y\":[0.1759122610092163,0.1759122610092163,null,0.1759122610092163,0.03024378977715969,null,0.1759122610092163,0.1660998910665512,null],\"type\":\"scatter\",\"hoverinfo\":\"skip\",\"yaxis\":\"y1\",\"x\":[44.83490131734392,49.70990131734392,null,44.83490131734392,44.83490131734392,null,49.70990131734392,49.70990131734392,null]},{\"showlegend\":false,\"mode\":\"lines\",\"line\":{\"color\":\"#AEC7E8\"},\"y\":[0.0,0.004928806331008673,0.004928806331008673,0.0],\"type\":\"scatter\",\"fill\":\"toself\",\"hoverinfo\":\"skip\",\"yaxis\":\"y1\",\"x\":[42.33490131734392,42.33490131734392,43.33490131734392,43.33490131734392]},{\"showlegend\":false,\"mode\":\"lines\",\"line\":{\"color\":\"#AEC7E8\"},\"y\":[0.15115052461624146,0.15115052461624146,null,0.15115052461624146,0.06525612622499466,null,0.15115052461624146,0.13571736216545105,null],\"type\":\"scatter\",\"hoverinfo\":\"skip\",\"yaxis\":\"y1\",\"x\":[46.83490131734392,49.33490131734392,null,46.83490131734392,46.83490131734392,null,49.33490131734392,49.33490131734392,null]},{\"showlegend\":false,\"mode\":\"lines\",\"line\":{\"color\":\"#AEC7E8\"},\"y\":[0.0,0.06525612622499466,0.06525612622499466,0.0],\"type\":\"scatter\",\"fill\":\"toself\",\"hoverinfo\":\"skip\",\"yaxis\":\"y1\",\"x\":[46.33490131734392,46.33490131734392,47.33490131734392,47.33490131734392]},{\"showlegend\":false,\"mode\":\"lines\",\"line\":{\"color\":\"#FFBB78\"},\"y\":[0.0,0.0394880585372448,0.0394880585372448,0.0],\"type\":\"scatter\",\"fill\":\"toself\",\"hoverinfo\":\"skip\",\"yaxis\":\"y1\",\"x\":[1.0,1.0,3.23606797749979,3.23606797749979]},{\"showlegend\":false,\"mode\":\"lines\",\"line\":{\"color\":\"#AEC7E8\"},\"y\":[0.2889243960380554,0.2889243960380554,null,0.2889243960380554,0.24265146255493164,null,0.2889243960380554,0.0,null],\"type\":\"scatter\",\"hoverinfo\":\"skip\",\"yaxis\":\"y1\",\"x\":[48.74406212204728,58.33490131734392,null,48.74406212204728,48.74406212204728,null,58.33490131734392,58.33490131734392,null]},{\"showlegend\":false,\"mode\":\"lines\",\"line\":{\"color\":\"#AEC7E8\"},\"y\":[0.24265146255493164,0.24265146255493164,null,0.24265146255493164,0.2100716531276703,null,0.24265146255493164,0.2299281507730484,null],\"type\":\"scatter\",\"hoverinfo\":\"skip\",\"yaxis\":\"y1\",\"x\":[42.840722926750644,54.64740131734392,null,42.840722926750644,42.840722926750644,null,54.64740131734392,54.64740131734392,null]},{\"showlegend\":false,\"mode\":\"lines\",\"line\":{\"color\":\"#AEC7E8\"},\"y\":[0.2100716531276703,0.2100716531276703,null,0.2100716531276703,0.11219411343336105,null,0.2100716531276703,0.19043199717998505,null],\"type\":\"scatter\",\"hoverinfo\":\"skip\",\"yaxis\":\"y1\",\"x\":[40.627794536157374,45.05365131734392,null,40.627794536157374,40.627794536157374,null,45.05365131734392,45.05365131734392,null]},{\"showlegend\":false,\"mode\":\"lines\",\"line\":{\"color\":\"#AEC7E8\"},\"y\":[0.20563814043998718,0.20563814043998718,null,0.20563814043998718,0.1682233214378357,null,0.20563814043998718,0.0,null],\"type\":\"scatter\",\"hoverinfo\":\"skip\",\"yaxis\":\"y1\",\"x\":[34.85251899812824,38.92068775497083,null,34.85251899812824,34.85251899812824,null,38.92068775497083,38.92068775497083,null]},{\"showlegend\":false,\"mode\":\"lines\",\"line\":{\"color\":\"#AEC7E8\"},\"y\":[0.0,0.006055848207324743,0.006055848207324743,0.0],\"type\":\"scatter\",\"fill\":\"toself\",\"hoverinfo\":\"skip\",\"yaxis\":\"y1\",\"x\":[32.47119801218765,32.47119801218765,33.47119801218765,33.47119801218765]},{\"showlegend\":false,\"mode\":\"lines\",\"line\":{\"color\":\"#AEC7E8\"},\"y\":[0.2299281507730484,0.2299281507730484,null,0.2299281507730484,0.07080958038568497,null,0.2299281507730484,0.21284879744052887,null],\"type\":\"scatter\",\"hoverinfo\":\"skip\",\"yaxis\":\"y1\",\"x\":[52.83490131734392,56.45990131734392,null,52.83490131734392,52.83490131734392,null,56.45990131734392,56.45990131734392,null]},{\"showlegend\":false,\"mode\":\"lines\",\"line\":{\"color\":\"#AEC7E8\"},\"y\":[0.0,0.027423115447163582,0.027423115447163582,0.0],\"type\":\"scatter\",\"fill\":\"toself\",\"hoverinfo\":\"skip\",\"yaxis\":\"y1\",\"x\":[34.47119801218765,34.47119801218765,36.92068775497083,36.92068775497083]},{\"showlegend\":false,\"mode\":\"lines\",\"line\":{\"color\":\"#AEC7E8\"},\"y\":[0.0,0.13571736216545105,0.13571736216545105,0.0],\"type\":\"scatter\",\"fill\":\"toself\",\"hoverinfo\":\"skip\",\"yaxis\":\"y1\",\"x\":[48.33490131734392,48.33490131734392,50.33490131734392,50.33490131734392]},{\"showlegend\":false,\"mode\":\"lines\",\"line\":{\"color\":\"#FFBB78\"},\"y\":[0.1704481840133667,0.1704481840133667,null,0.1704481840133667,0.0394880585372448,null,0.1704481840133667,0.1166425496339798,null],\"type\":\"scatter\",\"hoverinfo\":\"skip\",\"yaxis\":\"y1\",\"x\":[2.118033988749895,12.794689361811635,null,2.118033988749895,2.118033988749895,null,12.794689361811635,12.794689361811635,null]},{\"showlegend\":false,\"mode\":\"markers\",\"marker\":{\"color\":[\"#AEC7E8\",\"#AEC7E8\",\"#AEC7E8\",\"#AEC7E8\",\"#AEC7E8\",\"#AEC7E8\",\"#AEC7E8\",\"#AEC7E8\",\"#FFBB78\",\"#AEC7E8\",\"#AEC7E8\",\"#666666\",\"#AEC7E8\",\"#AEC7E8\",\"#AEC7E8\",\"#AEC7E8\",\"#AEC7E8\",\"#AEC7E8\",\"#AEC7E8\",\"#AEC7E8\",\"#AEC7E8\",\"#AEC7E8\",\"#FFBB78\",\"#AEC7E8\",\"#AEC7E8\",\"#AEC7E8\",\"#AEC7E8\",\"#AEC7E8\",\"#AEC7E8\",\"#AEC7E8\",\"#AEC7E8\",\"#FFBB78\"],\"size\":[4,4,4,8,8,4,4,4,4,4,4,8,4,4,8,4,8,8,4,8,4,8,8,8,4,4,4,8,4,8,4,8]},\"y\":[0.19043199717998505,0.1660998910665512,0.20058049261569977,0.002945174463093281,0.11219411343336105,0.14826595783233643,0.1432751566171646,0.4156765341758728,0.1166425496339798,0.1682233214378357,0.21284879744052887,0.5131880640983582,0.14886529743671417,0.14107495546340942,0.2738444209098816,0.09666447341442108,0.03024378977715969,0.07080958038568497,0.1759122610092163,0.004928806331008673,0.15115052461624146,0.06525612622499466,0.0394880585372448,0.2889243960380554,0.24265146255493164,0.2100716531276703,0.20563814043998718,0.006055848207324743,0.2299281507730484,0.027423115447163582,0.13571736216545105,0.1704481840133667],\"type\":\"scatter\",\"customdata\":[[715,12,\"bronchiseptica\"],[711,8,\"bronchiseptica\"],[716,3,\"bronchiseptica\"],[421,2,\"bronchiseptica\"],[698,3,\"bronchiseptica\"],[708,9,\"bronchiseptica\"],[707,9,\"bronchiseptica\"],[724,63,\"bronchiseptica\"],[700,294,\"pertussis\"],[712,31,\"bronchiseptica\"],[719,4,\"bronchiseptica\"],[725,363,\"(mixed)\"],[709,30,\"bronchiseptica\"],[706,21,\"bronchiseptica\"],[722,41,\"bronchiseptica\"],[693,8,\"bronchiseptica\"],[663,2,\"bronchiseptica\"],[687,2,\"bronchiseptica\"],[714,10,\"bronchiseptica\"],[460,2,\"bronchiseptica\"],[710,7,\"bronchiseptica\"],[686,2,\"bronchiseptica\"],[676,6,\"pertussis\"],[723,22,\"bronchiseptica\"],[721,21,\"bronchiseptica\"],[718,15,\"bronchiseptica\"],[717,32,\"bronchiseptica\"],[483,2,\"bronchiseptica\"],[720,6,\"bronchiseptica\"],[656,7,\"bronchiseptica\"],[705,5,\"bronchiseptica\"],[713,300,\"pertussis\"]],\"yaxis\":\"y1\",\"hovertemplate\":\"ID: %{customdata[0]}<br>\\nHeight: %{y:.3f}<br>\\nGenome count: %{customdata[1]}\\n<br>\\n%{customdata[2]}\\n<extra></extra>\",\"x\":[45.05365131734392,49.70990131734392,55.58490131734392,54.83490131734392,40.627794536157374,24.837624229421923,34.333570447883446,42.20079776134067,12.794689361811635,34.85251899812824,56.45990131734392,24.828579718310717,31.78435024128565,29.23513003468786,30.862113802985725,23.676186401655777,44.83490131734392,52.83490131734392,47.27240131734392,42.83490131734392,48.08490131734392,46.83490131734392,2.118033988749895,53.5394817196956,48.74406212204728,42.840722926750644,36.88660337654953,32.97119801218765,54.64740131734392,35.695942883579235,49.33490131734392,7.456361675280765]},{\"colorscale\":[[0.0,\"#666666\"],[0.1,\"#AEC7E8\"],[0.2,\"#FFBB78\"],[0.3,\"#98DF8A\"],[0.4,\"#FF9896\"],[0.5,\"#C5B0D5\"],[0.6,\"#C49C94\"],[0.7,\"#F7B6D2\"],[0.8,\"#C7C7C7\"],[0.9,\"#DBDB8D\"],[1.0,\"#9EDAE5\"]],\"yaxis\":\"y2\",\"showscale\":false,\"x\":[0.5,3.73606797749979,21.85331074612348,25.49906205718807,26.49906205718807,31.97119801218765,33.97119801218765,37.42068775497083,38.42068775497083,39.42068775497083,41.83490131734392,43.83490131734392,45.83490131734392,47.83490131734392,50.83490131734392,51.83490131734392,53.83490131734392,55.83490131734392,56.83490131734392,57.83490131734392,58.83490131734392],\"customdata\":[[[\"ID 676\",\"pertussis\"],[\"ID 700\",\"pertussis\"],[\"ID 693\",\"bronchiseptica\"],[\"Genome 12\",\"bronchiseptica\"],[\"ID 706\",\"bronchiseptica\"],[\"ID 483\",\"bronchiseptica\"],[\"ID 656\",\"bronchiseptica\"],[\"Genome 44\",\"bronchiseptica\"],[\"Genome 28\",\"bronchiseptica\"],[\"ID 698\",\"bronchiseptica\"],[\"ID 460\",\"bronchiseptica\"],[\"ID 663\",\"bronchiseptica\"],[\"ID 686\",\"bronchiseptica\"],[\"ID 705\",\"bronchiseptica\"],[\"Genome 58\",\"bronchiseptica\"],[\"ID 687\",\"bronchiseptica\"],[\"ID 421\",\"bronchiseptica\"],[\"Genome 27\",\"bronchiseptica\"],[\"Genome 57\",\"bronchiseptica\"],[\"Genome 11\",\"bronchiseptica\"]]],\"zmin\":0,\"z\":[[2,2,1,1,1,1,1,1,1,1,1,1,1,1,1,1,1,1,1,1]],\"zmax\":10,\"type\":\"heatmap\",\"xgap\":1,\"hovertemplate\":\"%{customdata[0]} <br>\\n%{customdata[1]}\\n<extra></extra>\\n\"}],{\"xaxis\":{\"visible\":false},\"hovermode\":\"closest\",\"margin\":{\"l\":50,\"b\":50,\"r\":50,\"t\":60},\"yaxis2\":{\"visible\":false,\"domain\":[0.0,0.05],\"fixedrange\":true}},{}); gd.on(\"plotly_hover\",(function (data){var filtered_data=WebIO.PlotlyCommands.filterEventData(gd,data,\"hover\"); return !(filtered_data.isnil) ? (WebIO.setval({\"name\":\"hover\",\"scope\":\"18057580292916471862\",\"id\":\"8988911769120956221\",\"type\":\"observable\"},filtered_data.out)) : undefined})); gd.on(\"plotly_unhover\",(function (){return WebIO.setval({\"name\":\"hover\",\"scope\":\"18057580292916471862\",\"id\":\"8988911769120956221\",\"type\":\"observable\"},{})})); gd.on(\"plotly_selected\",(function (data){var filtered_data=WebIO.PlotlyCommands.filterEventData(gd,data,\"selected\"); return !(filtered_data.isnil) ? (WebIO.setval({\"name\":\"selected\",\"scope\":\"18057580292916471862\",\"id\":\"6411848059365450377\",\"type\":\"observable\"},filtered_data.out)) : undefined})); gd.on(\"plotly_deselect\",(function (){return WebIO.setval({\"name\":\"selected\",\"scope\":\"18057580292916471862\",\"id\":\"6411848059365450377\",\"type\":\"observable\"},{})})); gd.on(\"plotly_relayout\",(function (data){var filtered_data=WebIO.PlotlyCommands.filterEventData(gd,data,\"relayout\"); return !(filtered_data.isnil) ? (WebIO.setval({\"name\":\"relayout\",\"scope\":\"18057580292916471862\",\"id\":\"14185874965521705388\",\"type\":\"observable\"},filtered_data.out)) : undefined})); return gd.on(\"plotly_click\",(function (data){var filtered_data=WebIO.PlotlyCommands.filterEventData(gd,data,\"click\"); return !(filtered_data.isnil) ? (WebIO.setval({\"name\":\"click\",\"scope\":\"18057580292916471862\",\"id\":\"5516561737402809848\",\"type\":\"observable\"},filtered_data.out)) : undefined}))}));\n    (WebIO.importBlock({\"data\":[{\"name\":\"Plotly\",\"type\":\"js\",\"url\":\"/assetserver/e6903599031aaef8675931dfcd7df98a1aeffbfc-plotly-latest.min.js\"},{\"name\":null,\"type\":\"js\",\"url\":\"/assetserver/74a5dea81f21b0b802ef1ee92f1c8a504eac1a0c-plotly_webio.bundle.js\"}],\"type\":\"async_block\"})).then((imports) => handler.apply(this, imports));\n}\n"
        ],
        "observables": {
         "__gd_contents": {
          "id": "8145675930356415159",
          "sync": false,
          "value": {}
         },
         "__get_gd_contents": {
          "id": "4902716760543252466",
          "sync": false,
          "value": ""
         },
         "_commands": {
          "id": "6014524126435293879",
          "sync": false,
          "value": []
         },
         "_downloadImage": {
          "id": "17796571120886425335",
          "sync": false,
          "value": {}
         },
         "_toImage": {
          "id": "6607233713104182100",
          "sync": false,
          "value": {}
         },
         "click": {
          "id": "5516561737402809848",
          "sync": false,
          "value": {}
         },
         "hover": {
          "id": "8988911769120956221",
          "sync": false,
          "value": {}
         },
         "image": {
          "id": "3794679330108177006",
          "sync": true,
          "value": ""
         },
         "relayout": {
          "id": "14185874965521705388",
          "sync": false,
          "value": {}
         },
         "selected": {
          "id": "6411848059365450377",
          "sync": false,
          "value": {}
         }
        },
        "systemjs_options": null
       },
       "nodeType": "Scope",
       "props": {},
       "type": "node"
      },
      "text/html": [
       "<div\n",
       "    class=\"webio-mountpoint\"\n",
       "    data-webio-mountpoint=\"14389937372628136090\"\n",
       ">\n",
       "    <script>\n",
       "    if (window.require && require.defined && require.defined(\"nbextensions/webio-jupyter-notebook\")) {\n",
       "        console.log(\"Jupyter WebIO extension detected, not mounting.\");\n",
       "    } else if (window.WebIO) {\n",
       "        WebIO.mount(\n",
       "            document.querySelector('[data-webio-mountpoint=\"14389937372628136090\"]'),\n",
       "            {\"props\":{},\"nodeType\":\"Scope\",\"type\":\"node\",\"instanceArgs\":{\"imports\":{\"data\":[{\"name\":\"Plotly\",\"type\":\"js\",\"url\":\"\\/assetserver\\/e6903599031aaef8675931dfcd7df98a1aeffbfc-plotly-latest.min.js\"},{\"name\":null,\"type\":\"js\",\"url\":\"\\/assetserver\\/74a5dea81f21b0b802ef1ee92f1c8a504eac1a0c-plotly_webio.bundle.js\"}],\"type\":\"async_block\"},\"id\":\"18057580292916471862\",\"handlers\":{\"_toImage\":[\"(function (options){return this.Plotly.toImage(this.plotElem,options).then((function (data){return WebIO.setval({\\\"name\\\":\\\"image\\\",\\\"scope\\\":\\\"18057580292916471862\\\",\\\"id\\\":\\\"3794679330108177006\\\",\\\"type\\\":\\\"observable\\\"},data)}))})\"],\"__get_gd_contents\":[\"(function (prop){prop==\\\"data\\\" ? (WebIO.setval({\\\"name\\\":\\\"__gd_contents\\\",\\\"scope\\\":\\\"18057580292916471862\\\",\\\"id\\\":\\\"8145675930356415159\\\",\\\"type\\\":\\\"observable\\\"},this.plotElem.data)) : undefined; return prop==\\\"layout\\\" ? (WebIO.setval({\\\"name\\\":\\\"__gd_contents\\\",\\\"scope\\\":\\\"18057580292916471862\\\",\\\"id\\\":\\\"8145675930356415159\\\",\\\"type\\\":\\\"observable\\\"},this.plotElem.layout)) : undefined})\"],\"_downloadImage\":[\"(function (options){return this.Plotly.downloadImage(this.plotElem,options)})\"],\"_commands\":[\"(function (args){var fn=args.shift(); var elem=this.plotElem; var Plotly=this.Plotly; args.unshift(elem); return Plotly[fn].apply(this,args)})\"]},\"systemjs_options\":null,\"mount_callbacks\":[\"function () {\\n    var handler = ((function (Plotly,PlotlyWebIO){PlotlyWebIO.init(WebIO); var gd=this.dom.querySelector(\\\"#plot-462752fd-dcaf-4933-87b3-53cc9b9e309a\\\"); this.plotElem=gd; this.Plotly=Plotly; (window.Blink!==undefined) ? (gd.style.width=\\\"100%\\\", gd.style.height=\\\"100vh\\\", gd.style.marginLeft=\\\"0%\\\", gd.style.marginTop=\\\"0vh\\\") : undefined; window.onresize=(function (){return Plotly.Plots.resize(gd)}); Plotly.newPlot(gd,[{\\\"showlegend\\\":false,\\\"mode\\\":\\\"lines\\\",\\\"line\\\":{\\\"color\\\":\\\"#AEC7E8\\\"},\\\"y\\\":[0.19043199717998505,0.19043199717998505,null,0.19043199717998505,0.004928806331008673,null,0.19043199717998505,0.1759122610092163,null],\\\"type\\\":\\\"scatter\\\",\\\"hoverinfo\\\":\\\"skip\\\",\\\"yaxis\\\":\\\"y1\\\",\\\"x\\\":[42.83490131734392,47.27240131734392,null,42.83490131734392,42.83490131734392,null,47.27240131734392,47.27240131734392,null]},{\\\"showlegend\\\":false,\\\"mode\\\":\\\"lines\\\",\\\"line\\\":{\\\"color\\\":\\\"#AEC7E8\\\"},\\\"y\\\":[0.1660998910665512,0.1660998910665512,null,0.1660998910665512,0.15115052461624146,null,0.1660998910665512,0.0,null],\\\"type\\\":\\\"scatter\\\",\\\"hoverinfo\\\":\\\"skip\\\",\\\"yaxis\\\":\\\"y1\\\",\\\"x\\\":[48.08490131734392,51.33490131734392,null,48.08490131734392,48.08490131734392,null,51.33490131734392,51.33490131734392,null]},{\\\"showlegend\\\":false,\\\"mode\\\":\\\"lines\\\",\\\"line\\\":{\\\"color\\\":\\\"#AEC7E8\\\"},\\\"y\\\":[0.20058049261569977,0.20058049261569977,null,0.20058049261569977,0.002945174463093281,null,0.20058049261569977,0.0,null],\\\"type\\\":\\\"scatter\\\",\\\"hoverinfo\\\":\\\"skip\\\",\\\"yaxis\\\":\\\"y1\\\",\\\"x\\\":[54.83490131734392,56.33490131734392,null,54.83490131734392,54.83490131734392,null,56.33490131734392,56.33490131734392,null]},{\\\"showlegend\\\":false,\\\"mode\\\":\\\"lines\\\",\\\"line\\\":{\\\"color\\\":\\\"#AEC7E8\\\"},\\\"y\\\":[0.0,0.002945174463093281,0.002945174463093281,0.0],\\\"type\\\":\\\"scatter\\\",\\\"fill\\\":\\\"toself\\\",\\\"hoverinfo\\\":\\\"skip\\\",\\\"yaxis\\\":\\\"y1\\\",\\\"x\\\":[54.33490131734392,54.33490131734392,55.33490131734392,55.33490131734392]},{\\\"showlegend\\\":false,\\\"mode\\\":\\\"lines\\\",\\\"line\\\":{\\\"color\\\":\\\"#AEC7E8\\\"},\\\"y\\\":[0.0,0.11219411343336105,0.11219411343336105,0.0],\\\"type\\\":\\\"scatter\\\",\\\"fill\\\":\\\"toself\\\",\\\"hoverinfo\\\":\\\"skip\\\",\\\"yaxis\\\":\\\"y1\\\",\\\"x\\\":[39.92068775497083,39.92068775497083,41.33490131734392,41.33490131734392]},{\\\"showlegend\\\":false,\\\"mode\\\":\\\"lines\\\",\\\"line\\\":{\\\"color\\\":\\\"#AEC7E8\\\"},\\\"y\\\":[0.14826595783233643,0.14826595783233643,null,0.14826595783233643,0.09666447341442108,null,0.14826595783233643,0.0,null],\\\"type\\\":\\\"scatter\\\",\\\"hoverinfo\\\":\\\"skip\\\",\\\"yaxis\\\":\\\"y1\\\",\\\"x\\\":[23.676186401655777,25.99906205718807,null,23.676186401655777,23.676186401655777,null,25.99906205718807,25.99906205718807,null]},{\\\"showlegend\\\":false,\\\"mode\\\":\\\"lines\\\",\\\"line\\\":{\\\"color\\\":\\\"#AEC7E8\\\"},\\\"y\\\":[0.1432751566171646,0.1432751566171646,null,0.1432751566171646,0.006055848207324743,null,0.1432751566171646,0.027423115447163582,null],\\\"type\\\":\\\"scatter\\\",\\\"hoverinfo\\\":\\\"skip\\\",\\\"yaxis\\\":\\\"y1\\\",\\\"x\\\":[32.97119801218765,35.695942883579235,null,32.97119801218765,32.97119801218765,null,35.695942883579235,35.695942883579235,null]},{\\\"showlegend\\\":false,\\\"mode\\\":\\\"lines\\\",\\\"line\\\":{\\\"color\\\":\\\"#AEC7E8\\\"},\\\"y\\\":[0.4156765341758728,0.4156765341758728,null,0.4156765341758728,0.2738444209098816,null,0.4156765341758728,0.2889243960380554,null],\\\"type\\\":\\\"scatter\\\",\\\"hoverinfo\\\":\\\"skip\\\",\\\"yaxis\\\":\\\"y1\\\",\\\"x\\\":[30.862113802985725,53.5394817196956,null,30.862113802985725,30.862113802985725,null,53.5394817196956,53.5394817196956,null]},{\\\"showlegend\\\":false,\\\"mode\\\":\\\"lines\\\",\\\"line\\\":{\\\"color\\\":\\\"#FFBB78\\\"},\\\"y\\\":[0.0,0.1166425496339798,0.1166425496339798,0.0],\\\"type\\\":\\\"scatter\\\",\\\"fill\\\":\\\"toself\\\",\\\"hoverinfo\\\":\\\"skip\\\",\\\"yaxis\\\":\\\"y1\\\",\\\"x\\\":[4.23606797749979,4.23606797749979,21.35331074612348,21.35331074612348]},{\\\"showlegend\\\":false,\\\"mode\\\":\\\"lines\\\",\\\"line\\\":{\\\"color\\\":\\\"#AEC7E8\\\"},\\\"y\\\":[0.1682233214378357,0.1682233214378357,null,0.1682233214378357,0.14886529743671417,null,0.1682233214378357,0.0,null],\\\"type\\\":\\\"scatter\\\",\\\"hoverinfo\\\":\\\"skip\\\",\\\"yaxis\\\":\\\"y1\\\",\\\"x\\\":[31.78435024128565,37.92068775497083,null,31.78435024128565,31.78435024128565,null,37.92068775497083,37.92068775497083,null]},{\\\"showlegend\\\":false,\\\"mode\\\":\\\"lines\\\",\\\"line\\\":{\\\"color\\\":\\\"#AEC7E8\\\"},\\\"y\\\":[0.21284879744052887,0.21284879744052887,null,0.21284879744052887,0.20058049261569977,null,0.21284879744052887,0.0,null],\\\"type\\\":\\\"scatter\\\",\\\"hoverinfo\\\":\\\"skip\\\",\\\"yaxis\\\":\\\"y1\\\",\\\"x\\\":[55.58490131734392,57.33490131734392,null,55.58490131734392,55.58490131734392,null,57.33490131734392,57.33490131734392,null]},{\\\"showlegend\\\":false,\\\"mode\\\":\\\"lines\\\",\\\"line\\\":{\\\"color\\\":\\\"#666666\\\"},\\\"y\\\":[0.5131880640983582,0.5131880640983582,null,0.5131880640983582,0.1704481840133667,null,0.5131880640983582,0.4156765341758728,null],\\\"type\\\":\\\"scatter\\\",\\\"hoverinfo\\\":\\\"skip\\\",\\\"yaxis\\\":\\\"y1\\\",\\\"x\\\":[7.456361675280765,42.20079776134067,null,7.456361675280765,7.456361675280765,null,42.20079776134067,42.20079776134067,null]},{\\\"showlegend\\\":false,\\\"mode\\\":\\\"lines\\\",\\\"line\\\":{\\\"color\\\":\\\"#AEC7E8\\\"},\\\"y\\\":[0.14886529743671417,0.14886529743671417,null,0.14886529743671417,0.14107495546340942,null,0.14886529743671417,0.1432751566171646,null],\\\"type\\\":\\\"scatter\\\",\\\"hoverinfo\\\":\\\"skip\\\",\\\"yaxis\\\":\\\"y1\\\",\\\"x\\\":[29.23513003468786,34.333570447883446,null,29.23513003468786,29.23513003468786,null,34.333570447883446,34.333570447883446,null]},{\\\"showlegend\\\":false,\\\"mode\\\":\\\"lines\\\",\\\"line\\\":{\\\"color\\\":\\\"#AEC7E8\\\"},\\\"y\\\":[0.0,0.14107495546340942,0.14107495546340942,0.0],\\\"type\\\":\\\"scatter\\\",\\\"fill\\\":\\\"toself\\\",\\\"hoverinfo\\\":\\\"skip\\\",\\\"yaxis\\\":\\\"y1\\\",\\\"x\\\":[26.99906205718807,26.99906205718807,31.47119801218765,31.47119801218765]},{\\\"showlegend\\\":false,\\\"mode\\\":\\\"lines\\\",\\\"line\\\":{\\\"color\\\":\\\"#AEC7E8\\\"},\\\"y\\\":[0.2738444209098816,0.2738444209098816,null,0.2738444209098816,0.14826595783233643,null,0.2738444209098816,0.20563814043998718,null],\\\"type\\\":\\\"scatter\\\",\\\"hoverinfo\\\":\\\"skip\\\",\\\"yaxis\\\":\\\"y1\\\",\\\"x\\\":[24.837624229421923,36.88660337654953,null,24.837624229421923,24.837624229421923,null,36.88660337654953,36.88660337654953,null]},{\\\"showlegend\\\":false,\\\"mode\\\":\\\"lines\\\",\\\"line\\\":{\\\"color\\\":\\\"#AEC7E8\\\"},\\\"y\\\":[0.0,0.09666447341442108,0.09666447341442108,0.0],\\\"type\\\":\\\"scatter\\\",\\\"fill\\\":\\\"toself\\\",\\\"hoverinfo\\\":\\\"skip\\\",\\\"yaxis\\\":\\\"y1\\\",\\\"x\\\":[22.35331074612348,22.35331074612348,24.99906205718807,24.99906205718807]},{\\\"showlegend\\\":false,\\\"mode\\\":\\\"lines\\\",\\\"line\\\":{\\\"color\\\":\\\"#AEC7E8\\\"},\\\"y\\\":[0.0,0.03024378977715969,0.03024378977715969,0.0],\\\"type\\\":\\\"scatter\\\",\\\"fill\\\":\\\"toself\\\",\\\"hoverinfo\\\":\\\"skip\\\",\\\"yaxis\\\":\\\"y1\\\",\\\"x\\\":[44.33490131734392,44.33490131734392,45.33490131734392,45.33490131734392]},{\\\"showlegend\\\":false,\\\"mode\\\":\\\"lines\\\",\\\"line\\\":{\\\"color\\\":\\\"#AEC7E8\\\"},\\\"y\\\":[0.0,0.07080958038568497,0.07080958038568497,0.0],\\\"type\\\":\\\"scatter\\\",\\\"fill\\\":\\\"toself\\\",\\\"hoverinfo\\\":\\\"skip\\\",\\\"yaxis\\\":\\\"y1\\\",\\\"x\\\":[52.33490131734392,52.33490131734392,53.33490131734392,53.33490131734392]},{\\\"showlegend\\\":false,\\\"mode\\\":\\\"lines\\\",\\\"line\\\":{\\\"color\\\":\\\"#AEC7E8\\\"},\\\"y\\\":[0.1759122610092163,0.1759122610092163,null,0.1759122610092163,0.03024378977715969,null,0.1759122610092163,0.1660998910665512,null],\\\"type\\\":\\\"scatter\\\",\\\"hoverinfo\\\":\\\"skip\\\",\\\"yaxis\\\":\\\"y1\\\",\\\"x\\\":[44.83490131734392,49.70990131734392,null,44.83490131734392,44.83490131734392,null,49.70990131734392,49.70990131734392,null]},{\\\"showlegend\\\":false,\\\"mode\\\":\\\"lines\\\",\\\"line\\\":{\\\"color\\\":\\\"#AEC7E8\\\"},\\\"y\\\":[0.0,0.004928806331008673,0.004928806331008673,0.0],\\\"type\\\":\\\"scatter\\\",\\\"fill\\\":\\\"toself\\\",\\\"hoverinfo\\\":\\\"skip\\\",\\\"yaxis\\\":\\\"y1\\\",\\\"x\\\":[42.33490131734392,42.33490131734392,43.33490131734392,43.33490131734392]},{\\\"showlegend\\\":false,\\\"mode\\\":\\\"lines\\\",\\\"line\\\":{\\\"color\\\":\\\"#AEC7E8\\\"},\\\"y\\\":[0.15115052461624146,0.15115052461624146,null,0.15115052461624146,0.06525612622499466,null,0.15115052461624146,0.13571736216545105,null],\\\"type\\\":\\\"scatter\\\",\\\"hoverinfo\\\":\\\"skip\\\",\\\"yaxis\\\":\\\"y1\\\",\\\"x\\\":[46.83490131734392,49.33490131734392,null,46.83490131734392,46.83490131734392,null,49.33490131734392,49.33490131734392,null]},{\\\"showlegend\\\":false,\\\"mode\\\":\\\"lines\\\",\\\"line\\\":{\\\"color\\\":\\\"#AEC7E8\\\"},\\\"y\\\":[0.0,0.06525612622499466,0.06525612622499466,0.0],\\\"type\\\":\\\"scatter\\\",\\\"fill\\\":\\\"toself\\\",\\\"hoverinfo\\\":\\\"skip\\\",\\\"yaxis\\\":\\\"y1\\\",\\\"x\\\":[46.33490131734392,46.33490131734392,47.33490131734392,47.33490131734392]},{\\\"showlegend\\\":false,\\\"mode\\\":\\\"lines\\\",\\\"line\\\":{\\\"color\\\":\\\"#FFBB78\\\"},\\\"y\\\":[0.0,0.0394880585372448,0.0394880585372448,0.0],\\\"type\\\":\\\"scatter\\\",\\\"fill\\\":\\\"toself\\\",\\\"hoverinfo\\\":\\\"skip\\\",\\\"yaxis\\\":\\\"y1\\\",\\\"x\\\":[1.0,1.0,3.23606797749979,3.23606797749979]},{\\\"showlegend\\\":false,\\\"mode\\\":\\\"lines\\\",\\\"line\\\":{\\\"color\\\":\\\"#AEC7E8\\\"},\\\"y\\\":[0.2889243960380554,0.2889243960380554,null,0.2889243960380554,0.24265146255493164,null,0.2889243960380554,0.0,null],\\\"type\\\":\\\"scatter\\\",\\\"hoverinfo\\\":\\\"skip\\\",\\\"yaxis\\\":\\\"y1\\\",\\\"x\\\":[48.74406212204728,58.33490131734392,null,48.74406212204728,48.74406212204728,null,58.33490131734392,58.33490131734392,null]},{\\\"showlegend\\\":false,\\\"mode\\\":\\\"lines\\\",\\\"line\\\":{\\\"color\\\":\\\"#AEC7E8\\\"},\\\"y\\\":[0.24265146255493164,0.24265146255493164,null,0.24265146255493164,0.2100716531276703,null,0.24265146255493164,0.2299281507730484,null],\\\"type\\\":\\\"scatter\\\",\\\"hoverinfo\\\":\\\"skip\\\",\\\"yaxis\\\":\\\"y1\\\",\\\"x\\\":[42.840722926750644,54.64740131734392,null,42.840722926750644,42.840722926750644,null,54.64740131734392,54.64740131734392,null]},{\\\"showlegend\\\":false,\\\"mode\\\":\\\"lines\\\",\\\"line\\\":{\\\"color\\\":\\\"#AEC7E8\\\"},\\\"y\\\":[0.2100716531276703,0.2100716531276703,null,0.2100716531276703,0.11219411343336105,null,0.2100716531276703,0.19043199717998505,null],\\\"type\\\":\\\"scatter\\\",\\\"hoverinfo\\\":\\\"skip\\\",\\\"yaxis\\\":\\\"y1\\\",\\\"x\\\":[40.627794536157374,45.05365131734392,null,40.627794536157374,40.627794536157374,null,45.05365131734392,45.05365131734392,null]},{\\\"showlegend\\\":false,\\\"mode\\\":\\\"lines\\\",\\\"line\\\":{\\\"color\\\":\\\"#AEC7E8\\\"},\\\"y\\\":[0.20563814043998718,0.20563814043998718,null,0.20563814043998718,0.1682233214378357,null,0.20563814043998718,0.0,null],\\\"type\\\":\\\"scatter\\\",\\\"hoverinfo\\\":\\\"skip\\\",\\\"yaxis\\\":\\\"y1\\\",\\\"x\\\":[34.85251899812824,38.92068775497083,null,34.85251899812824,34.85251899812824,null,38.92068775497083,38.92068775497083,null]},{\\\"showlegend\\\":false,\\\"mode\\\":\\\"lines\\\",\\\"line\\\":{\\\"color\\\":\\\"#AEC7E8\\\"},\\\"y\\\":[0.0,0.006055848207324743,0.006055848207324743,0.0],\\\"type\\\":\\\"scatter\\\",\\\"fill\\\":\\\"toself\\\",\\\"hoverinfo\\\":\\\"skip\\\",\\\"yaxis\\\":\\\"y1\\\",\\\"x\\\":[32.47119801218765,32.47119801218765,33.47119801218765,33.47119801218765]},{\\\"showlegend\\\":false,\\\"mode\\\":\\\"lines\\\",\\\"line\\\":{\\\"color\\\":\\\"#AEC7E8\\\"},\\\"y\\\":[0.2299281507730484,0.2299281507730484,null,0.2299281507730484,0.07080958038568497,null,0.2299281507730484,0.21284879744052887,null],\\\"type\\\":\\\"scatter\\\",\\\"hoverinfo\\\":\\\"skip\\\",\\\"yaxis\\\":\\\"y1\\\",\\\"x\\\":[52.83490131734392,56.45990131734392,null,52.83490131734392,52.83490131734392,null,56.45990131734392,56.45990131734392,null]},{\\\"showlegend\\\":false,\\\"mode\\\":\\\"lines\\\",\\\"line\\\":{\\\"color\\\":\\\"#AEC7E8\\\"},\\\"y\\\":[0.0,0.027423115447163582,0.027423115447163582,0.0],\\\"type\\\":\\\"scatter\\\",\\\"fill\\\":\\\"toself\\\",\\\"hoverinfo\\\":\\\"skip\\\",\\\"yaxis\\\":\\\"y1\\\",\\\"x\\\":[34.47119801218765,34.47119801218765,36.92068775497083,36.92068775497083]},{\\\"showlegend\\\":false,\\\"mode\\\":\\\"lines\\\",\\\"line\\\":{\\\"color\\\":\\\"#AEC7E8\\\"},\\\"y\\\":[0.0,0.13571736216545105,0.13571736216545105,0.0],\\\"type\\\":\\\"scatter\\\",\\\"fill\\\":\\\"toself\\\",\\\"hoverinfo\\\":\\\"skip\\\",\\\"yaxis\\\":\\\"y1\\\",\\\"x\\\":[48.33490131734392,48.33490131734392,50.33490131734392,50.33490131734392]},{\\\"showlegend\\\":false,\\\"mode\\\":\\\"lines\\\",\\\"line\\\":{\\\"color\\\":\\\"#FFBB78\\\"},\\\"y\\\":[0.1704481840133667,0.1704481840133667,null,0.1704481840133667,0.0394880585372448,null,0.1704481840133667,0.1166425496339798,null],\\\"type\\\":\\\"scatter\\\",\\\"hoverinfo\\\":\\\"skip\\\",\\\"yaxis\\\":\\\"y1\\\",\\\"x\\\":[2.118033988749895,12.794689361811635,null,2.118033988749895,2.118033988749895,null,12.794689361811635,12.794689361811635,null]},{\\\"showlegend\\\":false,\\\"mode\\\":\\\"markers\\\",\\\"marker\\\":{\\\"color\\\":[\\\"#AEC7E8\\\",\\\"#AEC7E8\\\",\\\"#AEC7E8\\\",\\\"#AEC7E8\\\",\\\"#AEC7E8\\\",\\\"#AEC7E8\\\",\\\"#AEC7E8\\\",\\\"#AEC7E8\\\",\\\"#FFBB78\\\",\\\"#AEC7E8\\\",\\\"#AEC7E8\\\",\\\"#666666\\\",\\\"#AEC7E8\\\",\\\"#AEC7E8\\\",\\\"#AEC7E8\\\",\\\"#AEC7E8\\\",\\\"#AEC7E8\\\",\\\"#AEC7E8\\\",\\\"#AEC7E8\\\",\\\"#AEC7E8\\\",\\\"#AEC7E8\\\",\\\"#AEC7E8\\\",\\\"#FFBB78\\\",\\\"#AEC7E8\\\",\\\"#AEC7E8\\\",\\\"#AEC7E8\\\",\\\"#AEC7E8\\\",\\\"#AEC7E8\\\",\\\"#AEC7E8\\\",\\\"#AEC7E8\\\",\\\"#AEC7E8\\\",\\\"#FFBB78\\\"],\\\"size\\\":[4,4,4,8,8,4,4,4,4,4,4,8,4,4,8,4,8,8,4,8,4,8,8,8,4,4,4,8,4,8,4,8]},\\\"y\\\":[0.19043199717998505,0.1660998910665512,0.20058049261569977,0.002945174463093281,0.11219411343336105,0.14826595783233643,0.1432751566171646,0.4156765341758728,0.1166425496339798,0.1682233214378357,0.21284879744052887,0.5131880640983582,0.14886529743671417,0.14107495546340942,0.2738444209098816,0.09666447341442108,0.03024378977715969,0.07080958038568497,0.1759122610092163,0.004928806331008673,0.15115052461624146,0.06525612622499466,0.0394880585372448,0.2889243960380554,0.24265146255493164,0.2100716531276703,0.20563814043998718,0.006055848207324743,0.2299281507730484,0.027423115447163582,0.13571736216545105,0.1704481840133667],\\\"type\\\":\\\"scatter\\\",\\\"customdata\\\":[[715,12,\\\"bronchiseptica\\\"],[711,8,\\\"bronchiseptica\\\"],[716,3,\\\"bronchiseptica\\\"],[421,2,\\\"bronchiseptica\\\"],[698,3,\\\"bronchiseptica\\\"],[708,9,\\\"bronchiseptica\\\"],[707,9,\\\"bronchiseptica\\\"],[724,63,\\\"bronchiseptica\\\"],[700,294,\\\"pertussis\\\"],[712,31,\\\"bronchiseptica\\\"],[719,4,\\\"bronchiseptica\\\"],[725,363,\\\"(mixed)\\\"],[709,30,\\\"bronchiseptica\\\"],[706,21,\\\"bronchiseptica\\\"],[722,41,\\\"bronchiseptica\\\"],[693,8,\\\"bronchiseptica\\\"],[663,2,\\\"bronchiseptica\\\"],[687,2,\\\"bronchiseptica\\\"],[714,10,\\\"bronchiseptica\\\"],[460,2,\\\"bronchiseptica\\\"],[710,7,\\\"bronchiseptica\\\"],[686,2,\\\"bronchiseptica\\\"],[676,6,\\\"pertussis\\\"],[723,22,\\\"bronchiseptica\\\"],[721,21,\\\"bronchiseptica\\\"],[718,15,\\\"bronchiseptica\\\"],[717,32,\\\"bronchiseptica\\\"],[483,2,\\\"bronchiseptica\\\"],[720,6,\\\"bronchiseptica\\\"],[656,7,\\\"bronchiseptica\\\"],[705,5,\\\"bronchiseptica\\\"],[713,300,\\\"pertussis\\\"]],\\\"yaxis\\\":\\\"y1\\\",\\\"hovertemplate\\\":\\\"ID: %{customdata[0]}<br>\\\\nHeight: %{y:.3f}<br>\\\\nGenome count: %{customdata[1]}\\\\n<br>\\\\n%{customdata[2]}\\\\n<extra><\\/extra>\\\",\\\"x\\\":[45.05365131734392,49.70990131734392,55.58490131734392,54.83490131734392,40.627794536157374,24.837624229421923,34.333570447883446,42.20079776134067,12.794689361811635,34.85251899812824,56.45990131734392,24.828579718310717,31.78435024128565,29.23513003468786,30.862113802985725,23.676186401655777,44.83490131734392,52.83490131734392,47.27240131734392,42.83490131734392,48.08490131734392,46.83490131734392,2.118033988749895,53.5394817196956,48.74406212204728,42.840722926750644,36.88660337654953,32.97119801218765,54.64740131734392,35.695942883579235,49.33490131734392,7.456361675280765]},{\\\"colorscale\\\":[[0.0,\\\"#666666\\\"],[0.1,\\\"#AEC7E8\\\"],[0.2,\\\"#FFBB78\\\"],[0.3,\\\"#98DF8A\\\"],[0.4,\\\"#FF9896\\\"],[0.5,\\\"#C5B0D5\\\"],[0.6,\\\"#C49C94\\\"],[0.7,\\\"#F7B6D2\\\"],[0.8,\\\"#C7C7C7\\\"],[0.9,\\\"#DBDB8D\\\"],[1.0,\\\"#9EDAE5\\\"]],\\\"yaxis\\\":\\\"y2\\\",\\\"showscale\\\":false,\\\"x\\\":[0.5,3.73606797749979,21.85331074612348,25.49906205718807,26.49906205718807,31.97119801218765,33.97119801218765,37.42068775497083,38.42068775497083,39.42068775497083,41.83490131734392,43.83490131734392,45.83490131734392,47.83490131734392,50.83490131734392,51.83490131734392,53.83490131734392,55.83490131734392,56.83490131734392,57.83490131734392,58.83490131734392],\\\"customdata\\\":[[[\\\"ID 676\\\",\\\"pertussis\\\"],[\\\"ID 700\\\",\\\"pertussis\\\"],[\\\"ID 693\\\",\\\"bronchiseptica\\\"],[\\\"Genome 12\\\",\\\"bronchiseptica\\\"],[\\\"ID 706\\\",\\\"bronchiseptica\\\"],[\\\"ID 483\\\",\\\"bronchiseptica\\\"],[\\\"ID 656\\\",\\\"bronchiseptica\\\"],[\\\"Genome 44\\\",\\\"bronchiseptica\\\"],[\\\"Genome 28\\\",\\\"bronchiseptica\\\"],[\\\"ID 698\\\",\\\"bronchiseptica\\\"],[\\\"ID 460\\\",\\\"bronchiseptica\\\"],[\\\"ID 663\\\",\\\"bronchiseptica\\\"],[\\\"ID 686\\\",\\\"bronchiseptica\\\"],[\\\"ID 705\\\",\\\"bronchiseptica\\\"],[\\\"Genome 58\\\",\\\"bronchiseptica\\\"],[\\\"ID 687\\\",\\\"bronchiseptica\\\"],[\\\"ID 421\\\",\\\"bronchiseptica\\\"],[\\\"Genome 27\\\",\\\"bronchiseptica\\\"],[\\\"Genome 57\\\",\\\"bronchiseptica\\\"],[\\\"Genome 11\\\",\\\"bronchiseptica\\\"]]],\\\"zmin\\\":0,\\\"z\\\":[[2,2,1,1,1,1,1,1,1,1,1,1,1,1,1,1,1,1,1,1]],\\\"zmax\\\":10,\\\"type\\\":\\\"heatmap\\\",\\\"xgap\\\":1,\\\"hovertemplate\\\":\\\"%{customdata[0]} <br>\\\\n%{customdata[1]}\\\\n<extra><\\/extra>\\\\n\\\"}],{\\\"xaxis\\\":{\\\"visible\\\":false},\\\"hovermode\\\":\\\"closest\\\",\\\"margin\\\":{\\\"l\\\":50,\\\"b\\\":50,\\\"r\\\":50,\\\"t\\\":60},\\\"yaxis2\\\":{\\\"visible\\\":false,\\\"domain\\\":[0.0,0.05],\\\"fixedrange\\\":true}},{}); gd.on(\\\"plotly_hover\\\",(function (data){var filtered_data=WebIO.PlotlyCommands.filterEventData(gd,data,\\\"hover\\\"); return !(filtered_data.isnil) ? (WebIO.setval({\\\"name\\\":\\\"hover\\\",\\\"scope\\\":\\\"18057580292916471862\\\",\\\"id\\\":\\\"8988911769120956221\\\",\\\"type\\\":\\\"observable\\\"},filtered_data.out)) : undefined})); gd.on(\\\"plotly_unhover\\\",(function (){return WebIO.setval({\\\"name\\\":\\\"hover\\\",\\\"scope\\\":\\\"18057580292916471862\\\",\\\"id\\\":\\\"8988911769120956221\\\",\\\"type\\\":\\\"observable\\\"},{})})); gd.on(\\\"plotly_selected\\\",(function (data){var filtered_data=WebIO.PlotlyCommands.filterEventData(gd,data,\\\"selected\\\"); return !(filtered_data.isnil) ? (WebIO.setval({\\\"name\\\":\\\"selected\\\",\\\"scope\\\":\\\"18057580292916471862\\\",\\\"id\\\":\\\"6411848059365450377\\\",\\\"type\\\":\\\"observable\\\"},filtered_data.out)) : undefined})); gd.on(\\\"plotly_deselect\\\",(function (){return WebIO.setval({\\\"name\\\":\\\"selected\\\",\\\"scope\\\":\\\"18057580292916471862\\\",\\\"id\\\":\\\"6411848059365450377\\\",\\\"type\\\":\\\"observable\\\"},{})})); gd.on(\\\"plotly_relayout\\\",(function (data){var filtered_data=WebIO.PlotlyCommands.filterEventData(gd,data,\\\"relayout\\\"); return !(filtered_data.isnil) ? (WebIO.setval({\\\"name\\\":\\\"relayout\\\",\\\"scope\\\":\\\"18057580292916471862\\\",\\\"id\\\":\\\"14185874965521705388\\\",\\\"type\\\":\\\"observable\\\"},filtered_data.out)) : undefined})); return gd.on(\\\"plotly_click\\\",(function (data){var filtered_data=WebIO.PlotlyCommands.filterEventData(gd,data,\\\"click\\\"); return !(filtered_data.isnil) ? (WebIO.setval({\\\"name\\\":\\\"click\\\",\\\"scope\\\":\\\"18057580292916471862\\\",\\\"id\\\":\\\"5516561737402809848\\\",\\\"type\\\":\\\"observable\\\"},filtered_data.out)) : undefined}))}));\\n    (WebIO.importBlock({\\\"data\\\":[{\\\"name\\\":\\\"Plotly\\\",\\\"type\\\":\\\"js\\\",\\\"url\\\":\\\"\\/assetserver\\/e6903599031aaef8675931dfcd7df98a1aeffbfc-plotly-latest.min.js\\\"},{\\\"name\\\":null,\\\"type\\\":\\\"js\\\",\\\"url\\\":\\\"\\/assetserver\\/74a5dea81f21b0b802ef1ee92f1c8a504eac1a0c-plotly_webio.bundle.js\\\"}],\\\"type\\\":\\\"async_block\\\"})).then((imports) => handler.apply(this, imports));\\n}\\n\"],\"observables\":{\"_toImage\":{\"sync\":false,\"id\":\"6607233713104182100\",\"value\":{}},\"hover\":{\"sync\":false,\"id\":\"8988911769120956221\",\"value\":{}},\"selected\":{\"sync\":false,\"id\":\"6411848059365450377\",\"value\":{}},\"__gd_contents\":{\"sync\":false,\"id\":\"8145675930356415159\",\"value\":{}},\"click\":{\"sync\":false,\"id\":\"5516561737402809848\",\"value\":{}},\"image\":{\"sync\":true,\"id\":\"3794679330108177006\",\"value\":\"\"},\"__get_gd_contents\":{\"sync\":false,\"id\":\"4902716760543252466\",\"value\":\"\"},\"_downloadImage\":{\"sync\":false,\"id\":\"17796571120886425335\",\"value\":{}},\"relayout\":{\"sync\":false,\"id\":\"14185874965521705388\",\"value\":{}},\"_commands\":{\"sync\":false,\"id\":\"6014524126435293879\",\"value\":[]}}},\"children\":[{\"props\":{\"id\":\"plot-462752fd-dcaf-4933-87b3-53cc9b9e309a\"},\"nodeType\":\"DOM\",\"type\":\"node\",\"instanceArgs\":{\"namespace\":\"html\",\"tag\":\"div\"},\"children\":[]}]},\n",
       "            window,\n",
       "        );\n",
       "    } else {\n",
       "        document\n",
       "            .querySelector('[data-webio-mountpoint=\"14389937372628136090\"]')\n",
       "            .innerHTML = (\n",
       "                '<div style=\"padding: 1em; background-color: #f8d6da; border: 1px solid #f5c6cb\">' +\n",
       "                '<p><strong>WebIO not detected.</strong></p>' +\n",
       "                '<p>Please read ' +\n",
       "                '<a href=\"https://juliagizmos.github.io/WebIO.jl/latest/troubleshooting/not-detected/\" target=\"_blank\">the troubleshooting guide</a> ' +\n",
       "                'for more information on how to resolve this issue.</p>' +\n",
       "                '<p><a href=\"https://juliagizmos.github.io/WebIO.jl/latest/troubleshooting/not-detected/\" target=\"_blank\">https://juliagizmos.github.io/WebIO.jl/latest/troubleshooting/not-detected/</a></p>' +\n",
       "                '</div>'\n",
       "            );\n",
       "    }\n",
       "    </script>\n",
       "</div>\n"
      ],
      "text/plain": [
       "data: [\n",
       "  \"scatter with fields hoverinfo, line, mode, showlegend, type, x, y, and yaxis\",\n",
       "  \"scatter with fields hoverinfo, line, mode, showlegend, type, x, y, and yaxis\",\n",
       "  \"scatter with fields hoverinfo, line, mode, showlegend, type, x, y, and yaxis\",\n",
       "  \"scatter with fields fill, hoverinfo, line, mode, showlegend, type, x, y, and yaxis\",\n",
       "  \"scatter with fields fill, hoverinfo, line, mode, showlegend, type, x, y, and yaxis\",\n",
       "  \"scatter with fields hoverinfo, line, mode, showlegend, type, x, y, and yaxis\",\n",
       "  \"scatter with fields hoverinfo, line, mode, showlegend, type, x, y, and yaxis\",\n",
       "  \"scatter with fields hoverinfo, line, mode, showlegend, type, x, y, and yaxis\",\n",
       "  \"scatter with fields fill, hoverinfo, line, mode, showlegend, type, x, y, and yaxis\",\n",
       "  \"scatter with fields hoverinfo, line, mode, showlegend, type, x, y, and yaxis\",\n",
       "  \"scatter with fields hoverinfo, line, mode, showlegend, type, x, y, and yaxis\",\n",
       "  \"scatter with fields hoverinfo, line, mode, showlegend, type, x, y, and yaxis\",\n",
       "  \"scatter with fields hoverinfo, line, mode, showlegend, type, x, y, and yaxis\",\n",
       "  \"scatter with fields fill, hoverinfo, line, mode, showlegend, type, x, y, and yaxis\",\n",
       "  \"scatter with fields hoverinfo, line, mode, showlegend, type, x, y, and yaxis\",\n",
       "  \"scatter with fields fill, hoverinfo, line, mode, showlegend, type, x, y, and yaxis\",\n",
       "  \"scatter with fields fill, hoverinfo, line, mode, showlegend, type, x, y, and yaxis\",\n",
       "  \"scatter with fields fill, hoverinfo, line, mode, showlegend, type, x, y, and yaxis\",\n",
       "  \"scatter with fields hoverinfo, line, mode, showlegend, type, x, y, and yaxis\",\n",
       "  \"scatter with fields fill, hoverinfo, line, mode, showlegend, type, x, y, and yaxis\",\n",
       "  \"scatter with fields hoverinfo, line, mode, showlegend, type, x, y, and yaxis\",\n",
       "  \"scatter with fields fill, hoverinfo, line, mode, showlegend, type, x, y, and yaxis\",\n",
       "  \"scatter with fields fill, hoverinfo, line, mode, showlegend, type, x, y, and yaxis\",\n",
       "  \"scatter with fields hoverinfo, line, mode, showlegend, type, x, y, and yaxis\",\n",
       "  \"scatter with fields hoverinfo, line, mode, showlegend, type, x, y, and yaxis\",\n",
       "  \"scatter with fields hoverinfo, line, mode, showlegend, type, x, y, and yaxis\",\n",
       "  \"scatter with fields hoverinfo, line, mode, showlegend, type, x, y, and yaxis\",\n",
       "  \"scatter with fields fill, hoverinfo, line, mode, showlegend, type, x, y, and yaxis\",\n",
       "  \"scatter with fields hoverinfo, line, mode, showlegend, type, x, y, and yaxis\",\n",
       "  \"scatter with fields fill, hoverinfo, line, mode, showlegend, type, x, y, and yaxis\",\n",
       "  \"scatter with fields fill, hoverinfo, line, mode, showlegend, type, x, y, and yaxis\",\n",
       "  \"scatter with fields hoverinfo, line, mode, showlegend, type, x, y, and yaxis\",\n",
       "  \"scatter with fields customdata, hovertemplate, marker, mode, showlegend, type, x, y, and yaxis\",\n",
       "  \"heatmap with fields colorscale, customdata, hovertemplate, showscale, type, x, xgap, yaxis, z, zmax, and zmin\"\n",
       "]\n",
       "\n",
       "layout: \"layout with fields hovermode, margin, xaxis, and yaxis2\"\n",
       "\n"
      ]
     },
     "execution_count": 4,
     "metadata": {},
     "output_type": "execute_result"
    }
   ],
   "source": [
    "trees[\"all\"] = cluster_annotate(cdata, 1:cdata.ntaxa)\n",
    "plot(dendrogram(cdata, trees[\"all\"]))"
   ]
  },
  {
   "cell_type": "markdown",
   "id": "considered-template",
   "metadata": {},
   "source": [
    "## Edits"
   ]
  },
  {
   "cell_type": "markdown",
   "id": "black-nurse",
   "metadata": {},
   "source": [
    "### bronchiseptica"
   ]
  },
  {
   "cell_type": "code",
   "execution_count": 5,
   "id": "touched-curtis",
   "metadata": {},
   "outputs": [
    {
     "data": {
      "application/vnd.plotly.v1+json": {
       "data": [
        {
         "colorscale": [
          [
           0,
           "#000004"
          ],
          [
           0.00392156862745098,
           "#010005"
          ],
          [
           0.00784313725490196,
           "#010106"
          ],
          [
           0.011764705882352941,
           "#010108"
          ],
          [
           0.01568627450980392,
           "#020109"
          ],
          [
           0.0196078431372549,
           "#02020B"
          ],
          [
           0.023529411764705882,
           "#02020D"
          ],
          [
           0.027450980392156862,
           "#03030F"
          ],
          [
           0.03137254901960784,
           "#030312"
          ],
          [
           0.03529411764705882,
           "#040414"
          ],
          [
           0.0392156862745098,
           "#050416"
          ],
          [
           0.043137254901960784,
           "#060518"
          ],
          [
           0.047058823529411764,
           "#06051A"
          ],
          [
           0.050980392156862744,
           "#07061C"
          ],
          [
           0.054901960784313725,
           "#08071E"
          ],
          [
           0.058823529411764705,
           "#090720"
          ],
          [
           0.06274509803921569,
           "#0A0822"
          ],
          [
           0.06666666666666667,
           "#0B0924"
          ],
          [
           0.07058823529411765,
           "#0C0926"
          ],
          [
           0.07450980392156863,
           "#0D0A29"
          ],
          [
           0.0784313725490196,
           "#0E0B2B"
          ],
          [
           0.08235294117647059,
           "#100B2D"
          ],
          [
           0.08627450980392157,
           "#110C2F"
          ],
          [
           0.09019607843137255,
           "#120D31"
          ],
          [
           0.09411764705882353,
           "#130D34"
          ],
          [
           0.09803921568627451,
           "#140E36"
          ],
          [
           0.10196078431372549,
           "#150E38"
          ],
          [
           0.10588235294117647,
           "#160F3B"
          ],
          [
           0.10980392156862745,
           "#180F3D"
          ],
          [
           0.11372549019607843,
           "#19103F"
          ],
          [
           0.11764705882352941,
           "#1A1042"
          ],
          [
           0.12156862745098039,
           "#1C1044"
          ],
          [
           0.12549019607843137,
           "#1D1147"
          ],
          [
           0.12941176470588237,
           "#1E1149"
          ],
          [
           0.13333333333333333,
           "#20114B"
          ],
          [
           0.13725490196078433,
           "#21114E"
          ],
          [
           0.1411764705882353,
           "#221150"
          ],
          [
           0.1450980392156863,
           "#241253"
          ],
          [
           0.14901960784313725,
           "#251255"
          ],
          [
           0.15294117647058825,
           "#271258"
          ],
          [
           0.1568627450980392,
           "#29115A"
          ],
          [
           0.1607843137254902,
           "#2A115C"
          ],
          [
           0.16470588235294117,
           "#2C115F"
          ],
          [
           0.16862745098039217,
           "#2D1161"
          ],
          [
           0.17254901960784313,
           "#2F1163"
          ],
          [
           0.17647058823529413,
           "#311165"
          ],
          [
           0.1803921568627451,
           "#331067"
          ],
          [
           0.1843137254901961,
           "#341069"
          ],
          [
           0.18823529411764706,
           "#36106B"
          ],
          [
           0.19215686274509805,
           "#38106C"
          ],
          [
           0.19607843137254902,
           "#390F6E"
          ],
          [
           0.2,
           "#3B0F70"
          ],
          [
           0.20392156862745098,
           "#3D0F71"
          ],
          [
           0.20784313725490197,
           "#3F0F72"
          ],
          [
           0.21176470588235294,
           "#400F74"
          ],
          [
           0.21568627450980393,
           "#420F75"
          ],
          [
           0.2196078431372549,
           "#440F76"
          ],
          [
           0.2235294117647059,
           "#451077"
          ],
          [
           0.22745098039215686,
           "#471078"
          ],
          [
           0.23137254901960785,
           "#491078"
          ],
          [
           0.23529411764705882,
           "#4A1079"
          ],
          [
           0.23921568627450981,
           "#4C117A"
          ],
          [
           0.24313725490196078,
           "#4E117B"
          ],
          [
           0.24705882352941178,
           "#4F127B"
          ],
          [
           0.25098039215686274,
           "#51127C"
          ],
          [
           0.2549019607843137,
           "#52137C"
          ],
          [
           0.25882352941176473,
           "#54137D"
          ],
          [
           0.2627450980392157,
           "#56147D"
          ],
          [
           0.26666666666666666,
           "#57157E"
          ],
          [
           0.27058823529411763,
           "#59157E"
          ],
          [
           0.27450980392156865,
           "#5A167E"
          ],
          [
           0.2784313725490196,
           "#5C167F"
          ],
          [
           0.2823529411764706,
           "#5D177F"
          ],
          [
           0.28627450980392155,
           "#5F187F"
          ],
          [
           0.2901960784313726,
           "#601880"
          ],
          [
           0.29411764705882354,
           "#621980"
          ],
          [
           0.2980392156862745,
           "#641A80"
          ],
          [
           0.30196078431372547,
           "#651A80"
          ],
          [
           0.3058823529411765,
           "#671B80"
          ],
          [
           0.30980392156862746,
           "#681C81"
          ],
          [
           0.3137254901960784,
           "#6A1C81"
          ],
          [
           0.3176470588235294,
           "#6B1D81"
          ],
          [
           0.3215686274509804,
           "#6D1D81"
          ],
          [
           0.3254901960784314,
           "#6E1E81"
          ],
          [
           0.32941176470588235,
           "#701F81"
          ],
          [
           0.3333333333333333,
           "#721F81"
          ],
          [
           0.33725490196078434,
           "#732081"
          ],
          [
           0.3411764705882353,
           "#752181"
          ],
          [
           0.34509803921568627,
           "#762181"
          ],
          [
           0.34901960784313724,
           "#782281"
          ],
          [
           0.35294117647058826,
           "#792282"
          ],
          [
           0.3568627450980392,
           "#7B2382"
          ],
          [
           0.3607843137254902,
           "#7C2382"
          ],
          [
           0.36470588235294116,
           "#7E2482"
          ],
          [
           0.3686274509803922,
           "#802582"
          ],
          [
           0.37254901960784315,
           "#812581"
          ],
          [
           0.3764705882352941,
           "#832681"
          ],
          [
           0.3803921568627451,
           "#842681"
          ],
          [
           0.3843137254901961,
           "#862781"
          ],
          [
           0.38823529411764707,
           "#882781"
          ],
          [
           0.39215686274509803,
           "#892881"
          ],
          [
           0.396078431372549,
           "#8B2981"
          ],
          [
           0.4,
           "#8C2981"
          ],
          [
           0.403921568627451,
           "#8E2A81"
          ],
          [
           0.40784313725490196,
           "#902A81"
          ],
          [
           0.4117647058823529,
           "#912B81"
          ],
          [
           0.41568627450980394,
           "#932B80"
          ],
          [
           0.4196078431372549,
           "#942C80"
          ],
          [
           0.4235294117647059,
           "#962C80"
          ],
          [
           0.42745098039215684,
           "#982D80"
          ],
          [
           0.43137254901960786,
           "#992D80"
          ],
          [
           0.43529411764705883,
           "#9B2E7F"
          ],
          [
           0.4392156862745098,
           "#9C2E7F"
          ],
          [
           0.44313725490196076,
           "#9E2F7F"
          ],
          [
           0.4470588235294118,
           "#A02F7F"
          ],
          [
           0.45098039215686275,
           "#A1307E"
          ],
          [
           0.4549019607843137,
           "#A3307E"
          ],
          [
           0.4588235294117647,
           "#A5317E"
          ],
          [
           0.4627450980392157,
           "#A6317D"
          ],
          [
           0.4666666666666667,
           "#A8327D"
          ],
          [
           0.47058823529411764,
           "#AA337D"
          ],
          [
           0.4745098039215686,
           "#AB337C"
          ],
          [
           0.47843137254901963,
           "#AD347C"
          ],
          [
           0.4823529411764706,
           "#AE347B"
          ],
          [
           0.48627450980392156,
           "#B0357B"
          ],
          [
           0.49019607843137253,
           "#B2357B"
          ],
          [
           0.49411764705882355,
           "#B3367A"
          ],
          [
           0.4980392156862745,
           "#B5367A"
          ],
          [
           0.5019607843137255,
           "#B73779"
          ],
          [
           0.5058823529411764,
           "#B83779"
          ],
          [
           0.5098039215686274,
           "#BA3878"
          ],
          [
           0.5137254901960784,
           "#BC3978"
          ],
          [
           0.5176470588235295,
           "#BD3977"
          ],
          [
           0.5215686274509804,
           "#BF3A77"
          ],
          [
           0.5254901960784314,
           "#C03A76"
          ],
          [
           0.5294117647058824,
           "#C23B75"
          ],
          [
           0.5333333333333333,
           "#C43C75"
          ],
          [
           0.5372549019607843,
           "#C53C74"
          ],
          [
           0.5411764705882353,
           "#C73D73"
          ],
          [
           0.5450980392156862,
           "#C83E73"
          ],
          [
           0.5490196078431373,
           "#CA3E72"
          ],
          [
           0.5529411764705883,
           "#CC3F71"
          ],
          [
           0.5568627450980392,
           "#CD4071"
          ],
          [
           0.5607843137254902,
           "#CF4070"
          ],
          [
           0.5647058823529412,
           "#D0416F"
          ],
          [
           0.5686274509803921,
           "#D2426F"
          ],
          [
           0.5725490196078431,
           "#D3436E"
          ],
          [
           0.5764705882352941,
           "#D5446D"
          ],
          [
           0.5803921568627451,
           "#D6456C"
          ],
          [
           0.5843137254901961,
           "#D8456C"
          ],
          [
           0.5882352941176471,
           "#D9466B"
          ],
          [
           0.592156862745098,
           "#DB476A"
          ],
          [
           0.596078431372549,
           "#DC4869"
          ],
          [
           0.6,
           "#DE4968"
          ],
          [
           0.6039215686274509,
           "#DF4A68"
          ],
          [
           0.6078431372549019,
           "#E04C67"
          ],
          [
           0.611764705882353,
           "#E24D66"
          ],
          [
           0.615686274509804,
           "#E34E65"
          ],
          [
           0.6196078431372549,
           "#E44F64"
          ],
          [
           0.6235294117647059,
           "#E55064"
          ],
          [
           0.6274509803921569,
           "#E75263"
          ],
          [
           0.6313725490196078,
           "#E85362"
          ],
          [
           0.6352941176470588,
           "#E95462"
          ],
          [
           0.6392156862745098,
           "#EA5661"
          ],
          [
           0.6431372549019608,
           "#EB5760"
          ],
          [
           0.6470588235294118,
           "#EC5860"
          ],
          [
           0.6509803921568628,
           "#ED5A5F"
          ],
          [
           0.6549019607843137,
           "#EE5B5E"
          ],
          [
           0.6588235294117647,
           "#EF5D5E"
          ],
          [
           0.6627450980392157,
           "#F05F5E"
          ],
          [
           0.6666666666666666,
           "#F1605D"
          ],
          [
           0.6705882352941176,
           "#F2625D"
          ],
          [
           0.6745098039215687,
           "#F2645C"
          ],
          [
           0.6784313725490196,
           "#F3655C"
          ],
          [
           0.6823529411764706,
           "#F4675C"
          ],
          [
           0.6862745098039216,
           "#F4695C"
          ],
          [
           0.6901960784313725,
           "#F56B5C"
          ],
          [
           0.6941176470588235,
           "#F66C5C"
          ],
          [
           0.6980392156862745,
           "#F66E5C"
          ],
          [
           0.7019607843137254,
           "#F7705C"
          ],
          [
           0.7058823529411765,
           "#F7725C"
          ],
          [
           0.7098039215686275,
           "#F8745C"
          ],
          [
           0.7137254901960784,
           "#F8765C"
          ],
          [
           0.7176470588235294,
           "#F9785D"
          ],
          [
           0.7215686274509804,
           "#F9795D"
          ],
          [
           0.7254901960784313,
           "#F97B5D"
          ],
          [
           0.7294117647058823,
           "#FA7D5E"
          ],
          [
           0.7333333333333333,
           "#FA7F5E"
          ],
          [
           0.7372549019607844,
           "#FA815F"
          ],
          [
           0.7411764705882353,
           "#FB835F"
          ],
          [
           0.7450980392156863,
           "#FB8560"
          ],
          [
           0.7490196078431373,
           "#FB8761"
          ],
          [
           0.7529411764705882,
           "#FC8961"
          ],
          [
           0.7568627450980392,
           "#FC8A62"
          ],
          [
           0.7607843137254902,
           "#FC8C63"
          ],
          [
           0.7647058823529411,
           "#FC8E64"
          ],
          [
           0.7686274509803922,
           "#FC9065"
          ],
          [
           0.7725490196078432,
           "#FD9266"
          ],
          [
           0.7764705882352941,
           "#FD9467"
          ],
          [
           0.7803921568627451,
           "#FD9668"
          ],
          [
           0.7843137254901961,
           "#FD9869"
          ],
          [
           0.788235294117647,
           "#FD9A6A"
          ],
          [
           0.792156862745098,
           "#FD9B6B"
          ],
          [
           0.796078431372549,
           "#FE9D6C"
          ],
          [
           0.8,
           "#FE9F6D"
          ],
          [
           0.803921568627451,
           "#FEA16E"
          ],
          [
           0.807843137254902,
           "#FEA36F"
          ],
          [
           0.8117647058823529,
           "#FEA571"
          ],
          [
           0.8156862745098039,
           "#FEA772"
          ],
          [
           0.8196078431372549,
           "#FEA973"
          ],
          [
           0.8235294117647058,
           "#FEAA74"
          ],
          [
           0.8274509803921568,
           "#FEAC76"
          ],
          [
           0.8313725490196079,
           "#FEAE77"
          ],
          [
           0.8352941176470589,
           "#FEB078"
          ],
          [
           0.8392156862745098,
           "#FEB27A"
          ],
          [
           0.8431372549019608,
           "#FEB47B"
          ],
          [
           0.8470588235294118,
           "#FEB67C"
          ],
          [
           0.8509803921568627,
           "#FEB77E"
          ],
          [
           0.8549019607843137,
           "#FEB97F"
          ],
          [
           0.8588235294117647,
           "#FEBB81"
          ],
          [
           0.8627450980392157,
           "#FEBD82"
          ],
          [
           0.8666666666666667,
           "#FEBF84"
          ],
          [
           0.8705882352941177,
           "#FEC185"
          ],
          [
           0.8745098039215686,
           "#FEC287"
          ],
          [
           0.8784313725490196,
           "#FEC488"
          ],
          [
           0.8823529411764706,
           "#FEC68A"
          ],
          [
           0.8862745098039215,
           "#FEC88C"
          ],
          [
           0.8901960784313725,
           "#FECA8D"
          ],
          [
           0.8941176470588236,
           "#FECC8F"
          ],
          [
           0.8980392156862745,
           "#FECD90"
          ],
          [
           0.9019607843137255,
           "#FECF92"
          ],
          [
           0.9058823529411765,
           "#FED194"
          ],
          [
           0.9098039215686274,
           "#FED395"
          ],
          [
           0.9137254901960784,
           "#FED597"
          ],
          [
           0.9176470588235294,
           "#FED799"
          ],
          [
           0.9215686274509803,
           "#FED89A"
          ],
          [
           0.9254901960784314,
           "#FDDA9C"
          ],
          [
           0.9294117647058824,
           "#FDDC9E"
          ],
          [
           0.9333333333333333,
           "#FDDEA0"
          ],
          [
           0.9372549019607843,
           "#FDE0A1"
          ],
          [
           0.9411764705882353,
           "#FDE2A3"
          ],
          [
           0.9450980392156862,
           "#FDE3A5"
          ],
          [
           0.9490196078431372,
           "#FDE5A7"
          ],
          [
           0.9529411764705882,
           "#FDE7A9"
          ],
          [
           0.9568627450980393,
           "#FDE9AA"
          ],
          [
           0.9607843137254902,
           "#FDEBAC"
          ],
          [
           0.9647058823529412,
           "#FCECAE"
          ],
          [
           0.9686274509803922,
           "#FCEEB0"
          ],
          [
           0.9725490196078431,
           "#FCF0B2"
          ],
          [
           0.9764705882352941,
           "#FCF2B4"
          ],
          [
           0.9803921568627451,
           "#FCF4B6"
          ],
          [
           0.984313725490196,
           "#FCF6B8"
          ],
          [
           0.9882352941176471,
           "#FCF7B9"
          ],
          [
           0.9921568627450981,
           "#FCF9BB"
          ],
          [
           0.996078431372549,
           "#FCFBBD"
          ],
          [
           1,
           "#FCFDBF"
          ]
         ],
         "type": "heatmap",
         "x": [
          0.5,
          4.145751311064591,
          5.145751311064591,
          8.791502622129181,
          13.255604237266937,
          15.255604237266937,
          18.705093980050115,
          19.705093980050115,
          20.705093980050115,
          23.11930754242321,
          25.11930754242321,
          27.11930754242321,
          29.11930754242321,
          31.85135834999209,
          32.85135834999209,
          33.85135834999209,
          35.85135834999209,
          37.85135834999209,
          38.85135834999209,
          39.85135834999209,
          40.85135834999209
         ],
         "y": [
          0.5,
          4.145751311064591,
          5.145751311064591,
          8.791502622129181,
          13.255604237266937,
          15.255604237266937,
          18.705093980050115,
          19.705093980050115,
          20.705093980050115,
          23.11930754242321,
          25.11930754242321,
          27.11930754242321,
          29.11930754242321,
          31.85135834999209,
          32.85135834999209,
          33.85135834999209,
          35.85135834999209,
          37.85135834999209,
          38.85135834999209,
          39.85135834999209,
          40.85135834999209
         ],
         "z": [
          [
           0.09666447,
           0.096083164,
           0.12504081,
           0.16827586,
           0.1975131,
           0.20589444,
           0.21105894,
           0.16536862,
           0.36477035,
           0.3788474,
           0.35016286,
           0.34552333,
           0.34258354,
           0.3576336,
           0.3578284,
           0.38605922,
           0.35397813,
           0.34787235,
           0.36774385,
           0.36344296
          ],
          [
           0.096083164,
           0,
           0.19751728,
           0.23141627,
           0.26339245,
           0.26236966,
           0.26484457,
           0.22127116,
           0.38208345,
           0.33279338,
           0.37675962,
           0.3753849,
           0.3691711,
           0.38797328,
           0.3864192,
           0.4138512,
           0.3876757,
           0.38580415,
           0.40407377,
           0.36932108
          ],
          [
           0.12504081,
           0.19751728,
           0.11601859,
           0.07195652,
           0.1283167,
           0.120434456,
           0.13682158,
           0.15568863,
           0.31951976,
           0.32378358,
           0.30052674,
           0.29382107,
           0.2897582,
           0.30701926,
           0.3088484,
           0.33323646,
           0.30311233,
           0.29655036,
           0.3196713,
           0.32781547
          ],
          [
           0.16827586,
           0.23141627,
           0.07195652,
           0.12259251,
           0.11237645,
           0.10599827,
           0.1270874,
           0.1582178,
           0.3179888,
           0.33179897,
           0.3014101,
           0.2962118,
           0.2909582,
           0.30777484,
           0.30529347,
           0.33546263,
           0.3037864,
           0.29910052,
           0.3211148,
           0.3335747
          ],
          [
           0.1975131,
           0.26339245,
           0.1283167,
           0.11237645,
           0.006055848,
           0.12828635,
           0.1585866,
           0.19667248,
           0.34671533,
           0.363033,
           0.3323217,
           0.32863173,
           0.31959262,
           0.33664584,
           0.33634615,
           0.36650348,
           0.32590002,
           0.32620168,
           0.3492467,
           0.3576713
          ],
          [
           0.20589444,
           0.26236966,
           0.120434456,
           0.10599827,
           0.12828635,
           0.027423115,
           0.15536752,
           0.19523269,
           0.33714446,
           0.3514453,
           0.32440448,
           0.32123852,
           0.30945003,
           0.33164966,
           0.32835385,
           0.35268492,
           0.3189179,
           0.316019,
           0.33729097,
           0.32378814
          ],
          [
           0.21105894,
           0.26484457,
           0.13682158,
           0.1270874,
           0.1585866,
           0.15536752,
           0,
           0.201853,
           0.32116294,
           0.33895764,
           0.30561268,
           0.2997916,
           0.2918296,
           0.31458375,
           0.3114022,
           0.3435803,
           0.30828235,
           0.30350965,
           0.33169064,
           0.34511042
          ],
          [
           0.16536862,
           0.22127116,
           0.15568863,
           0.1582178,
           0.19667248,
           0.19523269,
           0.201853,
           0,
           0.35426307,
           0.3659187,
           0.34237936,
           0.33717218,
           0.332788,
           0.34403056,
           0.34785554,
           0.37136337,
           0.3450104,
           0.34066147,
           0.36314443,
           0.36920896
          ],
          [
           0.36477035,
           0.38208345,
           0.31951976,
           0.3179888,
           0.34671533,
           0.33714446,
           0.32116294,
           0.35426307,
           0.11219411,
           0.18507615,
           0.15603212,
           0.1430566,
           0.12618503,
           0.16319226,
           0.16527778,
           0.21608196,
           0.1843708,
           0.20883326,
           0.20120314,
           0.2584407
          ],
          [
           0.3788474,
           0.33279338,
           0.32378358,
           0.33179897,
           0.363033,
           0.3514453,
           0.33895764,
           0.3659187,
           0.18507615,
           0.0049288063,
           0.1671817,
           0.16192263,
           0.1503955,
           0.17813973,
           0.18641259,
           0.22239077,
           0.21069968,
           0.22855423,
           0.21222268,
           0.26074526
          ],
          [
           0.35016286,
           0.37675962,
           0.30052674,
           0.3014101,
           0.3323217,
           0.32440448,
           0.30561268,
           0.34237936,
           0.15603212,
           0.1671817,
           0.03024379,
           0.11986451,
           0.12098524,
           0.13140336,
           0.1502327,
           0.19402042,
           0.17199248,
           0.19217455,
           0.17382728,
           0.24093512
          ],
          [
           0.34552333,
           0.3753849,
           0.29382107,
           0.2962118,
           0.32863173,
           0.32123852,
           0.2997916,
           0.33717218,
           0.1430566,
           0.16192263,
           0.11986451,
           0.065256126,
           0.109877914,
           0.11940952,
           0.13354653,
           0.19216855,
           0.1584537,
           0.1785295,
           0.15799464,
           0.2385268
          ],
          [
           0.34258354,
           0.3691711,
           0.2897582,
           0.2909582,
           0.31959262,
           0.30945003,
           0.2918296,
           0.332788,
           0.12618503,
           0.1503955,
           0.12098524,
           0.109877914,
           0.122878104,
           0.110598065,
           0.13651462,
           0.17655946,
           0.15629677,
           0.16486487,
           0.15634483,
           0.22654594
          ],
          [
           0.3576336,
           0.38797328,
           0.30701926,
           0.30777484,
           0.33664584,
           0.33164966,
           0.31458375,
           0.34403056,
           0.16319226,
           0.17813973,
           0.13140336,
           0.11940952,
           0.110598065,
           0,
           0.15858129,
           0.19932787,
           0.17540932,
           0.19765617,
           0.1762129,
           0.25428706
          ],
          [
           0.3578284,
           0.3864192,
           0.3088484,
           0.30529347,
           0.33634615,
           0.32835385,
           0.3114022,
           0.34785554,
           0.16527778,
           0.18641259,
           0.1502327,
           0.13354653,
           0.13651462,
           0.15858129,
           0,
           0.21751532,
           0.17869234,
           0.19448291,
           0.18322982,
           0.17042935
          ],
          [
           0.38605922,
           0.4138512,
           0.33323646,
           0.33546263,
           0.36650348,
           0.35268492,
           0.3435803,
           0.37136337,
           0.21608196,
           0.22239077,
           0.19402042,
           0.19216855,
           0.17655946,
           0.19932787,
           0.21751532,
           0.07080958,
           0.22011738,
           0.22702646,
           0.22350654,
           0.28729904
          ],
          [
           0.35397813,
           0.3876757,
           0.30311233,
           0.3037864,
           0.32590002,
           0.3189179,
           0.30828235,
           0.3450104,
           0.1843708,
           0.21069968,
           0.17199248,
           0.1584537,
           0.15629677,
           0.17540932,
           0.17869234,
           0.22011738,
           0.0029451745,
           0.19900446,
           0.20872441,
           0.25186023
          ],
          [
           0.34787235,
           0.38580415,
           0.29655036,
           0.29910052,
           0.32620168,
           0.316019,
           0.30350965,
           0.34066147,
           0.20883326,
           0.22855423,
           0.19217455,
           0.1785295,
           0.16486487,
           0.19765617,
           0.19448291,
           0.22702646,
           0.19900446,
           0,
           0.2128488,
           0.2754948
          ],
          [
           0.36774385,
           0.40407377,
           0.3196713,
           0.3211148,
           0.3492467,
           0.33729097,
           0.33169064,
           0.36314443,
           0.20120314,
           0.21222268,
           0.17382728,
           0.15799464,
           0.15634483,
           0.1762129,
           0.18322982,
           0.22350654,
           0.20872441,
           0.2128488,
           0,
           0.27862483
          ],
          [
           0.36344296,
           0.36932108,
           0.32781547,
           0.3335747,
           0.3576713,
           0.32378814,
           0.34511042,
           0.36920896,
           0.2584407,
           0.26074526,
           0.24093512,
           0.2385268,
           0.22654594,
           0.25428706,
           0.17042935,
           0.28729904,
           0.25186023,
           0.2754948,
           0.27862483,
           0
          ]
         ]
        },
        {
         "hoverinfo": "skip",
         "line": {
          "color": "#666666"
         },
         "mode": "lines",
         "showlegend": false,
         "type": "scatter",
         "x": [
          0.2889243960380554,
          0.2889243960380554,
          null,
          0.2889243960380554,
          0.24265146255493164,
          null,
          0.2889243960380554,
          0,
          null
         ],
         "xaxis": "x2",
         "y": [
          30.42985530904874,
          40.35135834999209,
          null,
          30.42985530904874,
          30.42985530904874,
          null,
          40.35135834999209,
          40.35135834999209,
          null
         ],
         "yaxis": "y"
        },
        {
         "hoverinfo": "skip",
         "line": {
          "color": "#666666"
         },
         "mode": "lines",
         "showlegend": false,
         "type": "scatter",
         "x": [
          0.2299281507730484,
          0.2299281507730484,
          null,
          0.2299281507730484,
          0.07080958038568497,
          null,
          0.2299281507730484,
          0.21284879744052887,
          null
         ],
         "xaxis": "x2",
         "y": [
          34.85135834999209,
          38.47635834999209,
          null,
          34.85135834999209,
          34.85135834999209,
          null,
          38.47635834999209,
          38.47635834999209,
          null
         ],
         "yaxis": "y"
        },
        {
         "fill": "toself",
         "hoverinfo": "skip",
         "line": {
          "color": "#666666"
         },
         "mode": "lines",
         "showlegend": false,
         "type": "scatter",
         "x": [
          0,
          0.027423115447163582,
          0.027423115447163582,
          0
         ],
         "xaxis": "x2",
         "y": [
          15.755604237266937,
          15.755604237266937,
          18.205093980050115,
          18.205093980050115
         ],
         "yaxis": "y"
        },
        {
         "hoverinfo": "skip",
         "line": {
          "color": "#666666"
         },
         "mode": "lines",
         "showlegend": false,
         "type": "scatter",
         "x": [
          0.24265146255493164,
          0.24265146255493164,
          null,
          0.24265146255493164,
          0.2100716531276703,
          null,
          0.24265146255493164,
          0.2299281507730484,
          null
         ],
         "xaxis": "x2",
         "y": [
          24.195852268105387,
          36.66385834999209,
          null,
          24.195852268105387,
          24.195852268105387,
          null,
          36.66385834999209,
          36.66385834999209,
          null
         ],
         "yaxis": "y"
        },
        {
         "hoverinfo": "skip",
         "line": {
          "color": "#666666"
         },
         "mode": "lines",
         "showlegend": false,
         "type": "scatter",
         "x": [
          0.1682233214378357,
          0.1682233214378357,
          null,
          0.1682233214378357,
          0.14886529743671417,
          null,
          0.1682233214378357,
          0,
          null
         ],
         "xaxis": "x2",
         "y": [
          12.307033435555102,
          19.205093980050115,
          null,
          12.307033435555102,
          12.307033435555102,
          null,
          19.205093980050115,
          19.205093980050115,
          null
         ],
         "yaxis": "y"
        },
        {
         "hoverinfo": "skip",
         "line": {
          "color": "#666666"
         },
         "mode": "lines",
         "showlegend": false,
         "type": "scatter",
         "x": [
          0.1432751566171646,
          0.1432751566171646,
          null,
          0.1432751566171646,
          0.006055848207324743,
          null,
          0.1432751566171646,
          0.027423115447163582,
          null
         ],
         "xaxis": "x2",
         "y": [
          14.255604237266937,
          16.980349108658526,
          null,
          14.255604237266937,
          14.255604237266937,
          null,
          16.980349108658526,
          16.980349108658526,
          null
         ],
         "yaxis": "y"
        },
        {
         "fill": "toself",
         "hoverinfo": "skip",
         "line": {
          "color": "#666666"
         },
         "mode": "lines",
         "showlegend": false,
         "type": "scatter",
         "x": [
          0,
          0.11219411343336105,
          0.11219411343336105,
          0
         ],
         "xaxis": "x2",
         "y": [
          21.205093980050115,
          21.205093980050115,
          22.61930754242321,
          22.61930754242321
         ],
         "yaxis": "y"
        },
        {
         "fill": "toself",
         "hoverinfo": "skip",
         "line": {
          "color": "#666666"
         },
         "mode": "lines",
         "showlegend": false,
         "type": "scatter",
         "x": [
          0,
          0.004928806331008673,
          0.004928806331008673,
          0
         ],
         "xaxis": "x2",
         "y": [
          23.61930754242321,
          23.61930754242321,
          24.61930754242321,
          24.61930754242321
         ],
         "yaxis": "y"
        },
        {
         "hoverinfo": "skip",
         "line": {
          "color": "#666666"
         },
         "mode": "lines",
         "showlegend": false,
         "type": "scatter",
         "x": [
          0.13571736216545105,
          0.13571736216545105,
          null,
          0.13571736216545105,
          0.12287810444831848,
          null,
          0.13571736216545105,
          0,
          null
         ],
         "xaxis": "x2",
         "y": [
          30.48533294620765,
          32.35135834999209,
          null,
          30.48533294620765,
          30.48533294620765,
          null,
          32.35135834999209,
          32.35135834999209,
          null
         ],
         "yaxis": "y"
        },
        {
         "fill": "toself",
         "hoverinfo": "skip",
         "line": {
          "color": "#666666"
         },
         "mode": "lines",
         "showlegend": false,
         "type": "scatter",
         "x": [
          0,
          0.09666447341442108,
          0.09666447341442108,
          0
         ],
         "xaxis": "x2",
         "y": [
          1,
          1,
          3.6457513110645907,
          3.6457513110645907
         ],
         "yaxis": "y"
        },
        {
         "fill": "toself",
         "hoverinfo": "skip",
         "line": {
          "color": "#666666"
         },
         "mode": "lines",
         "showlegend": false,
         "type": "scatter",
         "x": [
          0,
          0.07080958038568497,
          0.07080958038568497,
          0
         ],
         "xaxis": "x2",
         "y": [
          34.35135834999209,
          34.35135834999209,
          35.35135834999209,
          35.35135834999209
         ],
         "yaxis": "y"
        },
        {
         "fill": "toself",
         "hoverinfo": "skip",
         "line": {
          "color": "#666666"
         },
         "mode": "lines",
         "showlegend": false,
         "type": "scatter",
         "x": [
          0,
          0.11601859331130981,
          0.11601859331130981,
          0
         ],
         "xaxis": "x2",
         "y": [
          5.645751311064591,
          5.645751311064591,
          8.291502622129181,
          8.291502622129181
         ],
         "yaxis": "y"
        },
        {
         "hoverinfo": "skip",
         "line": {
          "color": "#666666"
         },
         "mode": "lines",
         "showlegend": false,
         "type": "scatter",
         "x": [
          0.4156765341758728,
          0.4156765341758728,
          null,
          0.4156765341758728,
          0.2738444209098816,
          null,
          0.4156765341758728,
          0.2889243960380554,
          null
         ],
         "xaxis": "x2",
         "y": [
          10.732446163612403,
          35.390606829520415,
          null,
          10.732446163612403,
          10.732446163612403,
          null,
          35.390606829520415,
          35.390606829520415,
          null
         ],
         "yaxis": "y"
        },
        {
         "fill": "toself",
         "hoverinfo": "skip",
         "line": {
          "color": "#666666"
         },
         "mode": "lines",
         "showlegend": false,
         "type": "scatter",
         "x": [
          0,
          0.002945174463093281,
          0.002945174463093281,
          0
         ],
         "xaxis": "x2",
         "y": [
          36.35135834999209,
          36.35135834999209,
          37.35135834999209,
          37.35135834999209
         ],
         "yaxis": "y"
        },
        {
         "fill": "toself",
         "hoverinfo": "skip",
         "line": {
          "color": "#666666"
         },
         "mode": "lines",
         "showlegend": false,
         "type": "scatter",
         "x": [
          0,
          0.03024378977715969,
          0.03024378977715969,
          0
         ],
         "xaxis": "x2",
         "y": [
          25.61930754242321,
          25.61930754242321,
          26.61930754242321,
          26.61930754242321
         ],
         "yaxis": "y"
        },
        {
         "hoverinfo": "skip",
         "line": {
          "color": "#666666"
         },
         "mode": "lines",
         "showlegend": false,
         "type": "scatter",
         "x": [
          0.2100716531276703,
          0.2100716531276703,
          null,
          0.2100716531276703,
          0.11219411343336105,
          null,
          0.2100716531276703,
          0.19043199717998505,
          null
         ],
         "xaxis": "x2",
         "y": [
          21.91220076123666,
          26.479503774974113,
          null,
          21.91220076123666,
          21.91220076123666,
          null,
          26.479503774974113,
          26.479503774974113,
          null
         ],
         "yaxis": "y"
        },
        {
         "hoverinfo": "skip",
         "line": {
          "color": "#666666"
         },
         "mode": "lines",
         "showlegend": false,
         "type": "scatter",
         "x": [
          0.2738444209098816,
          0.2738444209098816,
          null,
          0.2738444209098816,
          0.14826595783233643,
          null,
          0.2738444209098816,
          0.20563814043998718,
          null
         ],
         "xaxis": "x2",
         "y": [
          3.4843134832984433,
          17.980578843926363,
          null,
          3.4843134832984433,
          3.4843134832984433,
          null,
          17.980578843926363,
          17.980578843926363,
          null
         ],
         "yaxis": "y"
        },
        {
         "hoverinfo": "skip",
         "line": {
          "color": "#666666"
         },
         "mode": "lines",
         "showlegend": false,
         "type": "scatter",
         "x": [
          0.19043199717998505,
          0.19043199717998505,
          null,
          0.19043199717998505,
          0.004928806331008673,
          null,
          0.19043199717998505,
          0.1759122610092163,
          null
         ],
         "xaxis": "x2",
         "y": [
          24.11930754242321,
          28.83970000752501,
          null,
          24.11930754242321,
          24.11930754242321,
          null,
          28.83970000752501,
          28.83970000752501,
          null
         ],
         "yaxis": "y"
        },
        {
         "hoverinfo": "skip",
         "line": {
          "color": "#666666"
         },
         "mode": "lines",
         "showlegend": false,
         "type": "scatter",
         "x": [
          0.14826595783233643,
          0.14826595783233643,
          null,
          0.14826595783233643,
          0.09666447341442108,
          null,
          0.14826595783233643,
          0,
          null
         ],
         "xaxis": "x2",
         "y": [
          2.3228756555322954,
          4.645751311064591,
          null,
          2.3228756555322954,
          2.3228756555322954,
          null,
          4.645751311064591,
          4.645751311064591,
          null
         ],
         "yaxis": "y"
        },
        {
         "hoverinfo": "skip",
         "line": {
          "color": "#666666"
         },
         "mode": "lines",
         "showlegend": false,
         "type": "scatter",
         "x": [
          0.20563814043998718,
          0.20563814043998718,
          null,
          0.20563814043998718,
          0.1682233214378357,
          null,
          0.20563814043998718,
          0,
          null
         ],
         "xaxis": "x2",
         "y": [
          15.756063707802609,
          20.205093980050115,
          null,
          15.756063707802609,
          15.756063707802609,
          null,
          20.205093980050115,
          20.205093980050115,
          null
         ],
         "yaxis": "y"
        },
        {
         "hoverinfo": "skip",
         "line": {
          "color": "#666666"
         },
         "mode": "lines",
         "showlegend": false,
         "type": "scatter",
         "x": [
          0.14886529743671417,
          0.14886529743671417,
          null,
          0.14886529743671417,
          0.14107495546340942,
          null,
          0.14886529743671417,
          0.1432751566171646,
          null
         ],
         "xaxis": "x2",
         "y": [
          8.996090198147472,
          15.617976672962731,
          null,
          8.996090198147472,
          8.996090198147472,
          null,
          15.617976672962731,
          15.617976672962731,
          null
         ],
         "yaxis": "y"
        },
        {
         "fill": "toself",
         "hoverinfo": "skip",
         "line": {
          "color": "#666666"
         },
         "mode": "lines",
         "showlegend": false,
         "type": "scatter",
         "x": [
          0,
          0.06525612622499466,
          0.06525612622499466,
          0
         ],
         "xaxis": "x2",
         "y": [
          27.61930754242321,
          27.61930754242321,
          28.61930754242321,
          28.61930754242321
         ],
         "yaxis": "y"
        },
        {
         "hoverinfo": "skip",
         "line": {
          "color": "#666666"
         },
         "mode": "lines",
         "showlegend": false,
         "type": "scatter",
         "x": [
          0.21284879744052887,
          0.21284879744052887,
          null,
          0.21284879744052887,
          0.20058049261569977,
          null,
          0.21284879744052887,
          0,
          null
         ],
         "xaxis": "x2",
         "y": [
          37.60135834999209,
          39.35135834999209,
          null,
          37.60135834999209,
          37.60135834999209,
          null,
          39.35135834999209,
          39.35135834999209,
          null
         ],
         "yaxis": "y"
        },
        {
         "hoverinfo": "skip",
         "line": {
          "color": "#666666"
         },
         "mode": "lines",
         "showlegend": false,
         "type": "scatter",
         "x": [
          0.20058049261569977,
          0.20058049261569977,
          null,
          0.20058049261569977,
          0.002945174463093281,
          null,
          0.20058049261569977,
          0,
          null
         ],
         "xaxis": "x2",
         "y": [
          36.85135834999209,
          38.35135834999209,
          null,
          36.85135834999209,
          36.85135834999209,
          null,
          38.35135834999209,
          38.35135834999209,
          null
         ],
         "yaxis": "y"
        },
        {
         "hoverinfo": "skip",
         "line": {
          "color": "#666666"
         },
         "mode": "lines",
         "showlegend": false,
         "type": "scatter",
         "x": [
          0.15115052461624146,
          0.15115052461624146,
          null,
          0.15115052461624146,
          0.06525612622499466,
          null,
          0.15115052461624146,
          0.13571736216545105,
          null
         ],
         "xaxis": "x2",
         "y": [
          28.11930754242321,
          31.41834564809987,
          null,
          28.11930754242321,
          28.11930754242321,
          null,
          31.41834564809987,
          31.41834564809987,
          null
         ],
         "yaxis": "y"
        },
        {
         "hoverinfo": "skip",
         "line": {
          "color": "#666666"
         },
         "mode": "lines",
         "showlegend": false,
         "type": "scatter",
         "x": [
          0.1660998910665512,
          0.1660998910665512,
          null,
          0.1660998910665512,
          0.15115052461624146,
          null,
          0.1660998910665512,
          0,
          null
         ],
         "xaxis": "x2",
         "y": [
          29.76882659526154,
          33.35135834999209,
          null,
          29.76882659526154,
          29.76882659526154,
          null,
          33.35135834999209,
          33.35135834999209,
          null
         ],
         "yaxis": "y"
        },
        {
         "hoverinfo": "skip",
         "line": {
          "color": "#666666"
         },
         "mode": "lines",
         "showlegend": false,
         "type": "scatter",
         "x": [
          0.14107495546340942,
          0.14107495546340942,
          null,
          0.14107495546340942,
          0.11601859331130981,
          null,
          0.14107495546340942,
          0.1225925087928772,
          null
         ],
         "xaxis": "x2",
         "y": [
          6.9686269665968865,
          11.023553429698058,
          null,
          6.9686269665968865,
          6.9686269665968865,
          null,
          11.023553429698058,
          11.023553429698058,
          null
         ],
         "yaxis": "y"
        },
        {
         "fill": "toself",
         "hoverinfo": "skip",
         "line": {
          "color": "#666666"
         },
         "mode": "lines",
         "showlegend": false,
         "type": "scatter",
         "x": [
          0,
          0.006055848207324743,
          0.006055848207324743,
          0
         ],
         "xaxis": "x2",
         "y": [
          13.755604237266937,
          13.755604237266937,
          14.755604237266937,
          14.755604237266937
         ],
         "yaxis": "y"
        },
        {
         "fill": "toself",
         "hoverinfo": "skip",
         "line": {
          "color": "#666666"
         },
         "mode": "lines",
         "showlegend": false,
         "type": "scatter",
         "x": [
          0,
          0.12287810444831848,
          0.12287810444831848,
          0
         ],
         "xaxis": "x2",
         "y": [
          29.61930754242321,
          29.61930754242321,
          31.35135834999209,
          31.35135834999209
         ],
         "yaxis": "y"
        },
        {
         "hoverinfo": "skip",
         "line": {
          "color": "#666666"
         },
         "mode": "lines",
         "showlegend": false,
         "type": "scatter",
         "x": [
          0.1759122610092163,
          0.1759122610092163,
          null,
          0.1759122610092163,
          0.03024378977715969,
          null,
          0.1759122610092163,
          0.1660998910665512,
          null
         ],
         "xaxis": "x2",
         "y": [
          26.11930754242321,
          31.560092472626813,
          null,
          26.11930754242321,
          26.11930754242321,
          null,
          31.560092472626813,
          31.560092472626813,
          null
         ],
         "yaxis": "y"
        },
        {
         "fill": "toself",
         "hoverinfo": "skip",
         "line": {
          "color": "#666666"
         },
         "mode": "lines",
         "showlegend": false,
         "type": "scatter",
         "x": [
          0,
          0.1225925087928772,
          0.1225925087928772,
          0
         ],
         "xaxis": "x2",
         "y": [
          9.291502622129181,
          9.291502622129181,
          12.755604237266937,
          12.755604237266937
         ],
         "yaxis": "y"
        },
        {
         "customdata": [
          [
           115,
           10
          ],
          [
           124,
           22
          ],
          [
           121,
           6
          ],
          [
           81,
           7
          ],
          [
           122,
           21
          ],
          [
           114,
           31
          ],
          [
           109,
           9
          ],
          [
           101,
           3
          ],
          [
           69,
           2
          ],
          [
           107,
           5
          ],
          [
           96,
           8
          ],
          [
           91,
           2
          ],
          [
           102,
           8
          ],
          [
           125,
           63
          ],
          [
           65,
           2
          ],
          [
           84,
           2
          ],
          [
           119,
           15
          ],
          [
           123,
           41
          ],
          [
           116,
           12
          ],
          [
           110,
           9
          ],
          [
           118,
           32
          ],
          [
           111,
           30
          ],
          [
           90,
           2
          ],
          [
           120,
           4
          ],
          [
           117,
           3
          ],
          [
           112,
           7
          ],
          [
           113,
           8
          ],
          [
           108,
           21
          ],
          [
           70,
           2
          ],
          [
           106,
           4
          ],
          [
           105,
           13
          ]
         ],
         "hovertemplate": "ID: %{customdata[0]}<br>\nHeight: %{x:.3f}<br>\nGenome count: %{customdata[1]}\n\n<extra></extra>",
         "marker": {
          "color": "#666666",
          "size": [
           4,
           8,
           4,
           8,
           4,
           4,
           4,
           8,
           8,
           4,
           4,
           8,
           4,
           8,
           8,
           8,
           4,
           8,
           4,
           4,
           4,
           4,
           8,
           4,
           4,
           4,
           4,
           4,
           8,
           4,
           4
          ]
         },
         "mode": "markers",
         "showlegend": false,
         "type": "scatter",
         "x": [
          0.1759122610092163,
          0.2889243960380554,
          0.2299281507730484,
          0.027423115447163582,
          0.24265146255493164,
          0.1682233214378357,
          0.1432751566171646,
          0.11219411343336105,
          0.004928806331008673,
          0.13571736216545105,
          0.09666447341442108,
          0.07080958038568497,
          0.11601859331130981,
          0.4156765341758728,
          0.002945174463093281,
          0.03024378977715969,
          0.2100716531276703,
          0.2738444209098816,
          0.19043199717998505,
          0.14826595783233643,
          0.20563814043998718,
          0.14886529743671417,
          0.06525612622499466,
          0.21284879744052887,
          0.20058049261569977,
          0.15115052461624146,
          0.1660998910665512,
          0.14107495546340942,
          0.006055848207324743,
          0.12287810444831848,
          0.1225925087928772
         ],
         "xaxis": "x2",
         "y": [
          28.83970000752501,
          35.390606829520415,
          36.66385834999209,
          16.980349108658526,
          30.42985530904874,
          15.756063707802609,
          15.617976672962731,
          21.91220076123666,
          24.11930754242321,
          31.41834564809987,
          2.3228756555322954,
          34.85135834999209,
          6.9686269665968865,
          23.061526496566408,
          36.85135834999209,
          26.11930754242321,
          24.195852268105387,
          10.732446163612403,
          26.479503774974113,
          3.4843134832984433,
          17.980578843926363,
          12.307033435555102,
          28.11930754242321,
          38.47635834999209,
          37.60135834999209,
          29.76882659526154,
          31.560092472626813,
          8.996090198147472,
          14.255604237266937,
          30.48533294620765,
          11.023553429698058
         ],
         "yaxis": "y"
        },
        {
         "hovertemplate": "%{text} <br>\n%{x}\n<extra></extra>\n",
         "marker": {
          "color": "green",
          "line": {
           "color": "green",
           "width": 1
          },
          "symbol": "line-ns"
         },
         "mode": "markers",
         "text": [
          "pertussis"
         ],
         "type": "scatter",
         "x": [
          0.39392972
         ],
         "xaxis": "x2",
         "y": [
          -1,
          -1
         ]
        }
       ],
       "frames": [],
       "layout": {
        "height": 550,
        "hovermode": "closest",
        "margin": {
         "b": 50,
         "l": 50,
         "r": 50,
         "t": 60
        },
        "showlegend": false,
        "width": 1000,
        "xaxis": {
         "autorange": true,
         "domain": [
          0.504950495049505,
          1
         ],
         "range": [
          -1.4000890598595497,
          42.751447409851636
         ],
         "scaleanchor": "y",
         "type": "linear",
         "visible": false
        },
        "xaxis2": {
         "autorange": true,
         "domain": [
          0,
          0.49504950495049505
         ],
         "range": [
          0.44312291823688055,
          0
         ],
         "rangemode": "nonnegative",
         "showspikes": true,
         "spikedash": "solid",
         "spikemode": "across",
         "spikethickness": 1,
         "type": "linear"
        },
        "yaxis": {
         "autorange": true,
         "domain": [
          0,
          1
         ],
         "range": [
          -3.7145888528038147,
          42.67061872908661
         ],
         "scaleanchor": "x",
         "type": "linear",
         "visible": false
        }
       }
      },
      "application/vnd.webio.node+json": {
       "children": [
        {
         "children": [],
         "instanceArgs": {
          "namespace": "html",
          "tag": "div"
         },
         "nodeType": "DOM",
         "props": {
          "id": "plot-1e8bfe05-b381-4593-b20c-16d8f361449d"
         },
         "type": "node"
        }
       ],
       "instanceArgs": {
        "handlers": {
         "__get_gd_contents": [
          "(function (prop){prop==\"data\" ? (WebIO.setval({\"name\":\"__gd_contents\",\"scope\":\"4493335779360476373\",\"id\":\"18033559716430301503\",\"type\":\"observable\"},this.plotElem.data)) : undefined; return prop==\"layout\" ? (WebIO.setval({\"name\":\"__gd_contents\",\"scope\":\"4493335779360476373\",\"id\":\"18033559716430301503\",\"type\":\"observable\"},this.plotElem.layout)) : undefined})"
         ],
         "_commands": [
          "(function (args){var fn=args.shift(); var elem=this.plotElem; var Plotly=this.Plotly; args.unshift(elem); return Plotly[fn].apply(this,args)})"
         ],
         "_downloadImage": [
          "(function (options){return this.Plotly.downloadImage(this.plotElem,options)})"
         ],
         "_toImage": [
          "(function (options){return this.Plotly.toImage(this.plotElem,options).then((function (data){return WebIO.setval({\"name\":\"image\",\"scope\":\"4493335779360476373\",\"id\":\"3031222703097462424\",\"type\":\"observable\"},data)}))})"
         ]
        },
        "id": "4493335779360476373",
        "imports": {
         "data": [
          {
           "name": "Plotly",
           "type": "js",
           "url": "/assetserver/e6903599031aaef8675931dfcd7df98a1aeffbfc-plotly-latest.min.js"
          },
          {
           "name": null,
           "type": "js",
           "url": "/assetserver/74a5dea81f21b0b802ef1ee92f1c8a504eac1a0c-plotly_webio.bundle.js"
          }
         ],
         "type": "async_block"
        },
        "mount_callbacks": [
         "function () {\n    var handler = ((function (Plotly,PlotlyWebIO){PlotlyWebIO.init(WebIO); var gd=this.dom.querySelector(\"#plot-1e8bfe05-b381-4593-b20c-16d8f361449d\"); this.plotElem=gd; this.Plotly=Plotly; (window.Blink!==undefined) ? (gd.style.width=\"100%\", gd.style.height=\"100vh\", gd.style.marginLeft=\"0%\", gd.style.marginTop=\"0vh\") : undefined; window.onresize=(function (){return Plotly.Plots.resize(gd)}); Plotly.newPlot(gd,[{\"y\":[0.5,4.145751311064591,5.145751311064591,8.791502622129181,13.255604237266937,15.255604237266937,18.705093980050115,19.705093980050115,20.705093980050115,23.11930754242321,25.11930754242321,27.11930754242321,29.11930754242321,31.85135834999209,32.85135834999209,33.85135834999209,35.85135834999209,37.85135834999209,38.85135834999209,39.85135834999209,40.85135834999209],\"type\":\"heatmap\",\"colorscale\":[[0.0,\"#000004\"],[0.00392156862745098,\"#010005\"],[0.00784313725490196,\"#010106\"],[0.011764705882352941,\"#010108\"],[0.01568627450980392,\"#020109\"],[0.0196078431372549,\"#02020B\"],[0.023529411764705882,\"#02020D\"],[0.027450980392156862,\"#03030F\"],[0.03137254901960784,\"#030312\"],[0.03529411764705882,\"#040414\"],[0.0392156862745098,\"#050416\"],[0.043137254901960784,\"#060518\"],[0.047058823529411764,\"#06051A\"],[0.050980392156862744,\"#07061C\"],[0.054901960784313725,\"#08071E\"],[0.058823529411764705,\"#090720\"],[0.06274509803921569,\"#0A0822\"],[0.06666666666666667,\"#0B0924\"],[0.07058823529411765,\"#0C0926\"],[0.07450980392156863,\"#0D0A29\"],[0.0784313725490196,\"#0E0B2B\"],[0.08235294117647059,\"#100B2D\"],[0.08627450980392157,\"#110C2F\"],[0.09019607843137255,\"#120D31\"],[0.09411764705882353,\"#130D34\"],[0.09803921568627451,\"#140E36\"],[0.10196078431372549,\"#150E38\"],[0.10588235294117647,\"#160F3B\"],[0.10980392156862745,\"#180F3D\"],[0.11372549019607843,\"#19103F\"],[0.11764705882352941,\"#1A1042\"],[0.12156862745098039,\"#1C1044\"],[0.12549019607843137,\"#1D1147\"],[0.12941176470588237,\"#1E1149\"],[0.13333333333333333,\"#20114B\"],[0.13725490196078433,\"#21114E\"],[0.1411764705882353,\"#221150\"],[0.1450980392156863,\"#241253\"],[0.14901960784313725,\"#251255\"],[0.15294117647058825,\"#271258\"],[0.1568627450980392,\"#29115A\"],[0.1607843137254902,\"#2A115C\"],[0.16470588235294117,\"#2C115F\"],[0.16862745098039217,\"#2D1161\"],[0.17254901960784313,\"#2F1163\"],[0.17647058823529413,\"#311165\"],[0.1803921568627451,\"#331067\"],[0.1843137254901961,\"#341069\"],[0.18823529411764706,\"#36106B\"],[0.19215686274509805,\"#38106C\"],[0.19607843137254902,\"#390F6E\"],[0.2,\"#3B0F70\"],[0.20392156862745098,\"#3D0F71\"],[0.20784313725490197,\"#3F0F72\"],[0.21176470588235294,\"#400F74\"],[0.21568627450980393,\"#420F75\"],[0.2196078431372549,\"#440F76\"],[0.2235294117647059,\"#451077\"],[0.22745098039215686,\"#471078\"],[0.23137254901960785,\"#491078\"],[0.23529411764705882,\"#4A1079\"],[0.23921568627450981,\"#4C117A\"],[0.24313725490196078,\"#4E117B\"],[0.24705882352941178,\"#4F127B\"],[0.25098039215686274,\"#51127C\"],[0.2549019607843137,\"#52137C\"],[0.25882352941176473,\"#54137D\"],[0.2627450980392157,\"#56147D\"],[0.26666666666666666,\"#57157E\"],[0.27058823529411763,\"#59157E\"],[0.27450980392156865,\"#5A167E\"],[0.2784313725490196,\"#5C167F\"],[0.2823529411764706,\"#5D177F\"],[0.28627450980392155,\"#5F187F\"],[0.2901960784313726,\"#601880\"],[0.29411764705882354,\"#621980\"],[0.2980392156862745,\"#641A80\"],[0.30196078431372547,\"#651A80\"],[0.3058823529411765,\"#671B80\"],[0.30980392156862746,\"#681C81\"],[0.3137254901960784,\"#6A1C81\"],[0.3176470588235294,\"#6B1D81\"],[0.3215686274509804,\"#6D1D81\"],[0.3254901960784314,\"#6E1E81\"],[0.32941176470588235,\"#701F81\"],[0.3333333333333333,\"#721F81\"],[0.33725490196078434,\"#732081\"],[0.3411764705882353,\"#752181\"],[0.34509803921568627,\"#762181\"],[0.34901960784313724,\"#782281\"],[0.35294117647058826,\"#792282\"],[0.3568627450980392,\"#7B2382\"],[0.3607843137254902,\"#7C2382\"],[0.36470588235294116,\"#7E2482\"],[0.3686274509803922,\"#802582\"],[0.37254901960784315,\"#812581\"],[0.3764705882352941,\"#832681\"],[0.3803921568627451,\"#842681\"],[0.3843137254901961,\"#862781\"],[0.38823529411764707,\"#882781\"],[0.39215686274509803,\"#892881\"],[0.396078431372549,\"#8B2981\"],[0.4,\"#8C2981\"],[0.403921568627451,\"#8E2A81\"],[0.40784313725490196,\"#902A81\"],[0.4117647058823529,\"#912B81\"],[0.41568627450980394,\"#932B80\"],[0.4196078431372549,\"#942C80\"],[0.4235294117647059,\"#962C80\"],[0.42745098039215684,\"#982D80\"],[0.43137254901960786,\"#992D80\"],[0.43529411764705883,\"#9B2E7F\"],[0.4392156862745098,\"#9C2E7F\"],[0.44313725490196076,\"#9E2F7F\"],[0.4470588235294118,\"#A02F7F\"],[0.45098039215686275,\"#A1307E\"],[0.4549019607843137,\"#A3307E\"],[0.4588235294117647,\"#A5317E\"],[0.4627450980392157,\"#A6317D\"],[0.4666666666666667,\"#A8327D\"],[0.47058823529411764,\"#AA337D\"],[0.4745098039215686,\"#AB337C\"],[0.47843137254901963,\"#AD347C\"],[0.4823529411764706,\"#AE347B\"],[0.48627450980392156,\"#B0357B\"],[0.49019607843137253,\"#B2357B\"],[0.49411764705882355,\"#B3367A\"],[0.4980392156862745,\"#B5367A\"],[0.5019607843137255,\"#B73779\"],[0.5058823529411764,\"#B83779\"],[0.5098039215686274,\"#BA3878\"],[0.5137254901960784,\"#BC3978\"],[0.5176470588235295,\"#BD3977\"],[0.5215686274509804,\"#BF3A77\"],[0.5254901960784314,\"#C03A76\"],[0.5294117647058824,\"#C23B75\"],[0.5333333333333333,\"#C43C75\"],[0.5372549019607843,\"#C53C74\"],[0.5411764705882353,\"#C73D73\"],[0.5450980392156862,\"#C83E73\"],[0.5490196078431373,\"#CA3E72\"],[0.5529411764705883,\"#CC3F71\"],[0.5568627450980392,\"#CD4071\"],[0.5607843137254902,\"#CF4070\"],[0.5647058823529412,\"#D0416F\"],[0.5686274509803921,\"#D2426F\"],[0.5725490196078431,\"#D3436E\"],[0.5764705882352941,\"#D5446D\"],[0.5803921568627451,\"#D6456C\"],[0.5843137254901961,\"#D8456C\"],[0.5882352941176471,\"#D9466B\"],[0.592156862745098,\"#DB476A\"],[0.596078431372549,\"#DC4869\"],[0.6,\"#DE4968\"],[0.6039215686274509,\"#DF4A68\"],[0.6078431372549019,\"#E04C67\"],[0.611764705882353,\"#E24D66\"],[0.615686274509804,\"#E34E65\"],[0.6196078431372549,\"#E44F64\"],[0.6235294117647059,\"#E55064\"],[0.6274509803921569,\"#E75263\"],[0.6313725490196078,\"#E85362\"],[0.6352941176470588,\"#E95462\"],[0.6392156862745098,\"#EA5661\"],[0.6431372549019608,\"#EB5760\"],[0.6470588235294118,\"#EC5860\"],[0.6509803921568628,\"#ED5A5F\"],[0.6549019607843137,\"#EE5B5E\"],[0.6588235294117647,\"#EF5D5E\"],[0.6627450980392157,\"#F05F5E\"],[0.6666666666666666,\"#F1605D\"],[0.6705882352941176,\"#F2625D\"],[0.6745098039215687,\"#F2645C\"],[0.6784313725490196,\"#F3655C\"],[0.6823529411764706,\"#F4675C\"],[0.6862745098039216,\"#F4695C\"],[0.6901960784313725,\"#F56B5C\"],[0.6941176470588235,\"#F66C5C\"],[0.6980392156862745,\"#F66E5C\"],[0.7019607843137254,\"#F7705C\"],[0.7058823529411765,\"#F7725C\"],[0.7098039215686275,\"#F8745C\"],[0.7137254901960784,\"#F8765C\"],[0.7176470588235294,\"#F9785D\"],[0.7215686274509804,\"#F9795D\"],[0.7254901960784313,\"#F97B5D\"],[0.7294117647058823,\"#FA7D5E\"],[0.7333333333333333,\"#FA7F5E\"],[0.7372549019607844,\"#FA815F\"],[0.7411764705882353,\"#FB835F\"],[0.7450980392156863,\"#FB8560\"],[0.7490196078431373,\"#FB8761\"],[0.7529411764705882,\"#FC8961\"],[0.7568627450980392,\"#FC8A62\"],[0.7607843137254902,\"#FC8C63\"],[0.7647058823529411,\"#FC8E64\"],[0.7686274509803922,\"#FC9065\"],[0.7725490196078432,\"#FD9266\"],[0.7764705882352941,\"#FD9467\"],[0.7803921568627451,\"#FD9668\"],[0.7843137254901961,\"#FD9869\"],[0.788235294117647,\"#FD9A6A\"],[0.792156862745098,\"#FD9B6B\"],[0.796078431372549,\"#FE9D6C\"],[0.8,\"#FE9F6D\"],[0.803921568627451,\"#FEA16E\"],[0.807843137254902,\"#FEA36F\"],[0.8117647058823529,\"#FEA571\"],[0.8156862745098039,\"#FEA772\"],[0.8196078431372549,\"#FEA973\"],[0.8235294117647058,\"#FEAA74\"],[0.8274509803921568,\"#FEAC76\"],[0.8313725490196079,\"#FEAE77\"],[0.8352941176470589,\"#FEB078\"],[0.8392156862745098,\"#FEB27A\"],[0.8431372549019608,\"#FEB47B\"],[0.8470588235294118,\"#FEB67C\"],[0.8509803921568627,\"#FEB77E\"],[0.8549019607843137,\"#FEB97F\"],[0.8588235294117647,\"#FEBB81\"],[0.8627450980392157,\"#FEBD82\"],[0.8666666666666667,\"#FEBF84\"],[0.8705882352941177,\"#FEC185\"],[0.8745098039215686,\"#FEC287\"],[0.8784313725490196,\"#FEC488\"],[0.8823529411764706,\"#FEC68A\"],[0.8862745098039215,\"#FEC88C\"],[0.8901960784313725,\"#FECA8D\"],[0.8941176470588236,\"#FECC8F\"],[0.8980392156862745,\"#FECD90\"],[0.9019607843137255,\"#FECF92\"],[0.9058823529411765,\"#FED194\"],[0.9098039215686274,\"#FED395\"],[0.9137254901960784,\"#FED597\"],[0.9176470588235294,\"#FED799\"],[0.9215686274509803,\"#FED89A\"],[0.9254901960784314,\"#FDDA9C\"],[0.9294117647058824,\"#FDDC9E\"],[0.9333333333333333,\"#FDDEA0\"],[0.9372549019607843,\"#FDE0A1\"],[0.9411764705882353,\"#FDE2A3\"],[0.9450980392156862,\"#FDE3A5\"],[0.9490196078431372,\"#FDE5A7\"],[0.9529411764705882,\"#FDE7A9\"],[0.9568627450980393,\"#FDE9AA\"],[0.9607843137254902,\"#FDEBAC\"],[0.9647058823529412,\"#FCECAE\"],[0.9686274509803922,\"#FCEEB0\"],[0.9725490196078431,\"#FCF0B2\"],[0.9764705882352941,\"#FCF2B4\"],[0.9803921568627451,\"#FCF4B6\"],[0.984313725490196,\"#FCF6B8\"],[0.9882352941176471,\"#FCF7B9\"],[0.9921568627450981,\"#FCF9BB\"],[0.996078431372549,\"#FCFBBD\"],[1.0,\"#FCFDBF\"]],\"z\":[[0.09666447,0.096083164,0.12504081,0.16827586,0.1975131,0.20589444,0.21105894,0.16536862,0.36477035,0.3788474,0.35016286,0.34552333,0.34258354,0.3576336,0.3578284,0.38605922,0.35397813,0.34787235,0.36774385,0.36344296],[0.096083164,0.0,0.19751728,0.23141627,0.26339245,0.26236966,0.26484457,0.22127116,0.38208345,0.33279338,0.37675962,0.3753849,0.3691711,0.38797328,0.3864192,0.4138512,0.3876757,0.38580415,0.40407377,0.36932108],[0.12504081,0.19751728,0.11601859,0.07195652,0.1283167,0.120434456,0.13682158,0.15568863,0.31951976,0.32378358,0.30052674,0.29382107,0.2897582,0.30701926,0.3088484,0.33323646,0.30311233,0.29655036,0.3196713,0.32781547],[0.16827586,0.23141627,0.07195652,0.12259251,0.11237645,0.10599827,0.1270874,0.1582178,0.3179888,0.33179897,0.3014101,0.2962118,0.2909582,0.30777484,0.30529347,0.33546263,0.3037864,0.29910052,0.3211148,0.3335747],[0.1975131,0.26339245,0.1283167,0.11237645,0.006055848,0.12828635,0.1585866,0.19667248,0.34671533,0.363033,0.3323217,0.32863173,0.31959262,0.33664584,0.33634615,0.36650348,0.32590002,0.32620168,0.3492467,0.3576713],[0.20589444,0.26236966,0.120434456,0.10599827,0.12828635,0.027423115,0.15536752,0.19523269,0.33714446,0.3514453,0.32440448,0.32123852,0.30945003,0.33164966,0.32835385,0.35268492,0.3189179,0.316019,0.33729097,0.32378814],[0.21105894,0.26484457,0.13682158,0.1270874,0.1585866,0.15536752,0.0,0.201853,0.32116294,0.33895764,0.30561268,0.2997916,0.2918296,0.31458375,0.3114022,0.3435803,0.30828235,0.30350965,0.33169064,0.34511042],[0.16536862,0.22127116,0.15568863,0.1582178,0.19667248,0.19523269,0.201853,0.0,0.35426307,0.3659187,0.34237936,0.33717218,0.332788,0.34403056,0.34785554,0.37136337,0.3450104,0.34066147,0.36314443,0.36920896],[0.36477035,0.38208345,0.31951976,0.3179888,0.34671533,0.33714446,0.32116294,0.35426307,0.11219411,0.18507615,0.15603212,0.1430566,0.12618503,0.16319226,0.16527778,0.21608196,0.1843708,0.20883326,0.20120314,0.2584407],[0.3788474,0.33279338,0.32378358,0.33179897,0.363033,0.3514453,0.33895764,0.3659187,0.18507615,0.0049288063,0.1671817,0.16192263,0.1503955,0.17813973,0.18641259,0.22239077,0.21069968,0.22855423,0.21222268,0.26074526],[0.35016286,0.37675962,0.30052674,0.3014101,0.3323217,0.32440448,0.30561268,0.34237936,0.15603212,0.1671817,0.03024379,0.11986451,0.12098524,0.13140336,0.1502327,0.19402042,0.17199248,0.19217455,0.17382728,0.24093512],[0.34552333,0.3753849,0.29382107,0.2962118,0.32863173,0.32123852,0.2997916,0.33717218,0.1430566,0.16192263,0.11986451,0.065256126,0.109877914,0.11940952,0.13354653,0.19216855,0.1584537,0.1785295,0.15799464,0.2385268],[0.34258354,0.3691711,0.2897582,0.2909582,0.31959262,0.30945003,0.2918296,0.332788,0.12618503,0.1503955,0.12098524,0.109877914,0.122878104,0.110598065,0.13651462,0.17655946,0.15629677,0.16486487,0.15634483,0.22654594],[0.3576336,0.38797328,0.30701926,0.30777484,0.33664584,0.33164966,0.31458375,0.34403056,0.16319226,0.17813973,0.13140336,0.11940952,0.110598065,0.0,0.15858129,0.19932787,0.17540932,0.19765617,0.1762129,0.25428706],[0.3578284,0.3864192,0.3088484,0.30529347,0.33634615,0.32835385,0.3114022,0.34785554,0.16527778,0.18641259,0.1502327,0.13354653,0.13651462,0.15858129,0.0,0.21751532,0.17869234,0.19448291,0.18322982,0.17042935],[0.38605922,0.4138512,0.33323646,0.33546263,0.36650348,0.35268492,0.3435803,0.37136337,0.21608196,0.22239077,0.19402042,0.19216855,0.17655946,0.19932787,0.21751532,0.07080958,0.22011738,0.22702646,0.22350654,0.28729904],[0.35397813,0.3876757,0.30311233,0.3037864,0.32590002,0.3189179,0.30828235,0.3450104,0.1843708,0.21069968,0.17199248,0.1584537,0.15629677,0.17540932,0.17869234,0.22011738,0.0029451745,0.19900446,0.20872441,0.25186023],[0.34787235,0.38580415,0.29655036,0.29910052,0.32620168,0.316019,0.30350965,0.34066147,0.20883326,0.22855423,0.19217455,0.1785295,0.16486487,0.19765617,0.19448291,0.22702646,0.19900446,0.0,0.2128488,0.2754948],[0.36774385,0.40407377,0.3196713,0.3211148,0.3492467,0.33729097,0.33169064,0.36314443,0.20120314,0.21222268,0.17382728,0.15799464,0.15634483,0.1762129,0.18322982,0.22350654,0.20872441,0.2128488,0.0,0.27862483],[0.36344296,0.36932108,0.32781547,0.3335747,0.3576713,0.32378814,0.34511042,0.36920896,0.2584407,0.26074526,0.24093512,0.2385268,0.22654594,0.25428706,0.17042935,0.28729904,0.25186023,0.2754948,0.27862483,0.0]],\"x\":[0.5,4.145751311064591,5.145751311064591,8.791502622129181,13.255604237266937,15.255604237266937,18.705093980050115,19.705093980050115,20.705093980050115,23.11930754242321,25.11930754242321,27.11930754242321,29.11930754242321,31.85135834999209,32.85135834999209,33.85135834999209,35.85135834999209,37.85135834999209,38.85135834999209,39.85135834999209,40.85135834999209]},{\"showlegend\":false,\"mode\":\"lines\",\"xaxis\":\"x2\",\"line\":{\"color\":\"#666666\"},\"y\":[30.42985530904874,40.35135834999209,null,30.42985530904874,30.42985530904874,null,40.35135834999209,40.35135834999209,null],\"type\":\"scatter\",\"hoverinfo\":\"skip\",\"yaxis\":\"y\",\"x\":[0.2889243960380554,0.2889243960380554,null,0.2889243960380554,0.24265146255493164,null,0.2889243960380554,0.0,null]},{\"showlegend\":false,\"mode\":\"lines\",\"xaxis\":\"x2\",\"line\":{\"color\":\"#666666\"},\"y\":[34.85135834999209,38.47635834999209,null,34.85135834999209,34.85135834999209,null,38.47635834999209,38.47635834999209,null],\"type\":\"scatter\",\"hoverinfo\":\"skip\",\"yaxis\":\"y\",\"x\":[0.2299281507730484,0.2299281507730484,null,0.2299281507730484,0.07080958038568497,null,0.2299281507730484,0.21284879744052887,null]},{\"showlegend\":false,\"mode\":\"lines\",\"xaxis\":\"x2\",\"line\":{\"color\":\"#666666\"},\"y\":[15.755604237266937,15.755604237266937,18.205093980050115,18.205093980050115],\"type\":\"scatter\",\"fill\":\"toself\",\"hoverinfo\":\"skip\",\"yaxis\":\"y\",\"x\":[0.0,0.027423115447163582,0.027423115447163582,0.0]},{\"showlegend\":false,\"mode\":\"lines\",\"xaxis\":\"x2\",\"line\":{\"color\":\"#666666\"},\"y\":[24.195852268105387,36.66385834999209,null,24.195852268105387,24.195852268105387,null,36.66385834999209,36.66385834999209,null],\"type\":\"scatter\",\"hoverinfo\":\"skip\",\"yaxis\":\"y\",\"x\":[0.24265146255493164,0.24265146255493164,null,0.24265146255493164,0.2100716531276703,null,0.24265146255493164,0.2299281507730484,null]},{\"showlegend\":false,\"mode\":\"lines\",\"xaxis\":\"x2\",\"line\":{\"color\":\"#666666\"},\"y\":[12.307033435555102,19.205093980050115,null,12.307033435555102,12.307033435555102,null,19.205093980050115,19.205093980050115,null],\"type\":\"scatter\",\"hoverinfo\":\"skip\",\"yaxis\":\"y\",\"x\":[0.1682233214378357,0.1682233214378357,null,0.1682233214378357,0.14886529743671417,null,0.1682233214378357,0.0,null]},{\"showlegend\":false,\"mode\":\"lines\",\"xaxis\":\"x2\",\"line\":{\"color\":\"#666666\"},\"y\":[14.255604237266937,16.980349108658526,null,14.255604237266937,14.255604237266937,null,16.980349108658526,16.980349108658526,null],\"type\":\"scatter\",\"hoverinfo\":\"skip\",\"yaxis\":\"y\",\"x\":[0.1432751566171646,0.1432751566171646,null,0.1432751566171646,0.006055848207324743,null,0.1432751566171646,0.027423115447163582,null]},{\"showlegend\":false,\"mode\":\"lines\",\"xaxis\":\"x2\",\"line\":{\"color\":\"#666666\"},\"y\":[21.205093980050115,21.205093980050115,22.61930754242321,22.61930754242321],\"type\":\"scatter\",\"fill\":\"toself\",\"hoverinfo\":\"skip\",\"yaxis\":\"y\",\"x\":[0.0,0.11219411343336105,0.11219411343336105,0.0]},{\"showlegend\":false,\"mode\":\"lines\",\"xaxis\":\"x2\",\"line\":{\"color\":\"#666666\"},\"y\":[23.61930754242321,23.61930754242321,24.61930754242321,24.61930754242321],\"type\":\"scatter\",\"fill\":\"toself\",\"hoverinfo\":\"skip\",\"yaxis\":\"y\",\"x\":[0.0,0.004928806331008673,0.004928806331008673,0.0]},{\"showlegend\":false,\"mode\":\"lines\",\"xaxis\":\"x2\",\"line\":{\"color\":\"#666666\"},\"y\":[30.48533294620765,32.35135834999209,null,30.48533294620765,30.48533294620765,null,32.35135834999209,32.35135834999209,null],\"type\":\"scatter\",\"hoverinfo\":\"skip\",\"yaxis\":\"y\",\"x\":[0.13571736216545105,0.13571736216545105,null,0.13571736216545105,0.12287810444831848,null,0.13571736216545105,0.0,null]},{\"showlegend\":false,\"mode\":\"lines\",\"xaxis\":\"x2\",\"line\":{\"color\":\"#666666\"},\"y\":[1.0,1.0,3.6457513110645907,3.6457513110645907],\"type\":\"scatter\",\"fill\":\"toself\",\"hoverinfo\":\"skip\",\"yaxis\":\"y\",\"x\":[0.0,0.09666447341442108,0.09666447341442108,0.0]},{\"showlegend\":false,\"mode\":\"lines\",\"xaxis\":\"x2\",\"line\":{\"color\":\"#666666\"},\"y\":[34.35135834999209,34.35135834999209,35.35135834999209,35.35135834999209],\"type\":\"scatter\",\"fill\":\"toself\",\"hoverinfo\":\"skip\",\"yaxis\":\"y\",\"x\":[0.0,0.07080958038568497,0.07080958038568497,0.0]},{\"showlegend\":false,\"mode\":\"lines\",\"xaxis\":\"x2\",\"line\":{\"color\":\"#666666\"},\"y\":[5.645751311064591,5.645751311064591,8.291502622129181,8.291502622129181],\"type\":\"scatter\",\"fill\":\"toself\",\"hoverinfo\":\"skip\",\"yaxis\":\"y\",\"x\":[0.0,0.11601859331130981,0.11601859331130981,0.0]},{\"showlegend\":false,\"mode\":\"lines\",\"xaxis\":\"x2\",\"line\":{\"color\":\"#666666\"},\"y\":[10.732446163612403,35.390606829520415,null,10.732446163612403,10.732446163612403,null,35.390606829520415,35.390606829520415,null],\"type\":\"scatter\",\"hoverinfo\":\"skip\",\"yaxis\":\"y\",\"x\":[0.4156765341758728,0.4156765341758728,null,0.4156765341758728,0.2738444209098816,null,0.4156765341758728,0.2889243960380554,null]},{\"showlegend\":false,\"mode\":\"lines\",\"xaxis\":\"x2\",\"line\":{\"color\":\"#666666\"},\"y\":[36.35135834999209,36.35135834999209,37.35135834999209,37.35135834999209],\"type\":\"scatter\",\"fill\":\"toself\",\"hoverinfo\":\"skip\",\"yaxis\":\"y\",\"x\":[0.0,0.002945174463093281,0.002945174463093281,0.0]},{\"showlegend\":false,\"mode\":\"lines\",\"xaxis\":\"x2\",\"line\":{\"color\":\"#666666\"},\"y\":[25.61930754242321,25.61930754242321,26.61930754242321,26.61930754242321],\"type\":\"scatter\",\"fill\":\"toself\",\"hoverinfo\":\"skip\",\"yaxis\":\"y\",\"x\":[0.0,0.03024378977715969,0.03024378977715969,0.0]},{\"showlegend\":false,\"mode\":\"lines\",\"xaxis\":\"x2\",\"line\":{\"color\":\"#666666\"},\"y\":[21.91220076123666,26.479503774974113,null,21.91220076123666,21.91220076123666,null,26.479503774974113,26.479503774974113,null],\"type\":\"scatter\",\"hoverinfo\":\"skip\",\"yaxis\":\"y\",\"x\":[0.2100716531276703,0.2100716531276703,null,0.2100716531276703,0.11219411343336105,null,0.2100716531276703,0.19043199717998505,null]},{\"showlegend\":false,\"mode\":\"lines\",\"xaxis\":\"x2\",\"line\":{\"color\":\"#666666\"},\"y\":[3.4843134832984433,17.980578843926363,null,3.4843134832984433,3.4843134832984433,null,17.980578843926363,17.980578843926363,null],\"type\":\"scatter\",\"hoverinfo\":\"skip\",\"yaxis\":\"y\",\"x\":[0.2738444209098816,0.2738444209098816,null,0.2738444209098816,0.14826595783233643,null,0.2738444209098816,0.20563814043998718,null]},{\"showlegend\":false,\"mode\":\"lines\",\"xaxis\":\"x2\",\"line\":{\"color\":\"#666666\"},\"y\":[24.11930754242321,28.83970000752501,null,24.11930754242321,24.11930754242321,null,28.83970000752501,28.83970000752501,null],\"type\":\"scatter\",\"hoverinfo\":\"skip\",\"yaxis\":\"y\",\"x\":[0.19043199717998505,0.19043199717998505,null,0.19043199717998505,0.004928806331008673,null,0.19043199717998505,0.1759122610092163,null]},{\"showlegend\":false,\"mode\":\"lines\",\"xaxis\":\"x2\",\"line\":{\"color\":\"#666666\"},\"y\":[2.3228756555322954,4.645751311064591,null,2.3228756555322954,2.3228756555322954,null,4.645751311064591,4.645751311064591,null],\"type\":\"scatter\",\"hoverinfo\":\"skip\",\"yaxis\":\"y\",\"x\":[0.14826595783233643,0.14826595783233643,null,0.14826595783233643,0.09666447341442108,null,0.14826595783233643,0.0,null]},{\"showlegend\":false,\"mode\":\"lines\",\"xaxis\":\"x2\",\"line\":{\"color\":\"#666666\"},\"y\":[15.756063707802609,20.205093980050115,null,15.756063707802609,15.756063707802609,null,20.205093980050115,20.205093980050115,null],\"type\":\"scatter\",\"hoverinfo\":\"skip\",\"yaxis\":\"y\",\"x\":[0.20563814043998718,0.20563814043998718,null,0.20563814043998718,0.1682233214378357,null,0.20563814043998718,0.0,null]},{\"showlegend\":false,\"mode\":\"lines\",\"xaxis\":\"x2\",\"line\":{\"color\":\"#666666\"},\"y\":[8.996090198147472,15.617976672962731,null,8.996090198147472,8.996090198147472,null,15.617976672962731,15.617976672962731,null],\"type\":\"scatter\",\"hoverinfo\":\"skip\",\"yaxis\":\"y\",\"x\":[0.14886529743671417,0.14886529743671417,null,0.14886529743671417,0.14107495546340942,null,0.14886529743671417,0.1432751566171646,null]},{\"showlegend\":false,\"mode\":\"lines\",\"xaxis\":\"x2\",\"line\":{\"color\":\"#666666\"},\"y\":[27.61930754242321,27.61930754242321,28.61930754242321,28.61930754242321],\"type\":\"scatter\",\"fill\":\"toself\",\"hoverinfo\":\"skip\",\"yaxis\":\"y\",\"x\":[0.0,0.06525612622499466,0.06525612622499466,0.0]},{\"showlegend\":false,\"mode\":\"lines\",\"xaxis\":\"x2\",\"line\":{\"color\":\"#666666\"},\"y\":[37.60135834999209,39.35135834999209,null,37.60135834999209,37.60135834999209,null,39.35135834999209,39.35135834999209,null],\"type\":\"scatter\",\"hoverinfo\":\"skip\",\"yaxis\":\"y\",\"x\":[0.21284879744052887,0.21284879744052887,null,0.21284879744052887,0.20058049261569977,null,0.21284879744052887,0.0,null]},{\"showlegend\":false,\"mode\":\"lines\",\"xaxis\":\"x2\",\"line\":{\"color\":\"#666666\"},\"y\":[36.85135834999209,38.35135834999209,null,36.85135834999209,36.85135834999209,null,38.35135834999209,38.35135834999209,null],\"type\":\"scatter\",\"hoverinfo\":\"skip\",\"yaxis\":\"y\",\"x\":[0.20058049261569977,0.20058049261569977,null,0.20058049261569977,0.002945174463093281,null,0.20058049261569977,0.0,null]},{\"showlegend\":false,\"mode\":\"lines\",\"xaxis\":\"x2\",\"line\":{\"color\":\"#666666\"},\"y\":[28.11930754242321,31.41834564809987,null,28.11930754242321,28.11930754242321,null,31.41834564809987,31.41834564809987,null],\"type\":\"scatter\",\"hoverinfo\":\"skip\",\"yaxis\":\"y\",\"x\":[0.15115052461624146,0.15115052461624146,null,0.15115052461624146,0.06525612622499466,null,0.15115052461624146,0.13571736216545105,null]},{\"showlegend\":false,\"mode\":\"lines\",\"xaxis\":\"x2\",\"line\":{\"color\":\"#666666\"},\"y\":[29.76882659526154,33.35135834999209,null,29.76882659526154,29.76882659526154,null,33.35135834999209,33.35135834999209,null],\"type\":\"scatter\",\"hoverinfo\":\"skip\",\"yaxis\":\"y\",\"x\":[0.1660998910665512,0.1660998910665512,null,0.1660998910665512,0.15115052461624146,null,0.1660998910665512,0.0,null]},{\"showlegend\":false,\"mode\":\"lines\",\"xaxis\":\"x2\",\"line\":{\"color\":\"#666666\"},\"y\":[6.9686269665968865,11.023553429698058,null,6.9686269665968865,6.9686269665968865,null,11.023553429698058,11.023553429698058,null],\"type\":\"scatter\",\"hoverinfo\":\"skip\",\"yaxis\":\"y\",\"x\":[0.14107495546340942,0.14107495546340942,null,0.14107495546340942,0.11601859331130981,null,0.14107495546340942,0.1225925087928772,null]},{\"showlegend\":false,\"mode\":\"lines\",\"xaxis\":\"x2\",\"line\":{\"color\":\"#666666\"},\"y\":[13.755604237266937,13.755604237266937,14.755604237266937,14.755604237266937],\"type\":\"scatter\",\"fill\":\"toself\",\"hoverinfo\":\"skip\",\"yaxis\":\"y\",\"x\":[0.0,0.006055848207324743,0.006055848207324743,0.0]},{\"showlegend\":false,\"mode\":\"lines\",\"xaxis\":\"x2\",\"line\":{\"color\":\"#666666\"},\"y\":[29.61930754242321,29.61930754242321,31.35135834999209,31.35135834999209],\"type\":\"scatter\",\"fill\":\"toself\",\"hoverinfo\":\"skip\",\"yaxis\":\"y\",\"x\":[0.0,0.12287810444831848,0.12287810444831848,0.0]},{\"showlegend\":false,\"mode\":\"lines\",\"xaxis\":\"x2\",\"line\":{\"color\":\"#666666\"},\"y\":[26.11930754242321,31.560092472626813,null,26.11930754242321,26.11930754242321,null,31.560092472626813,31.560092472626813,null],\"type\":\"scatter\",\"hoverinfo\":\"skip\",\"yaxis\":\"y\",\"x\":[0.1759122610092163,0.1759122610092163,null,0.1759122610092163,0.03024378977715969,null,0.1759122610092163,0.1660998910665512,null]},{\"showlegend\":false,\"mode\":\"lines\",\"xaxis\":\"x2\",\"line\":{\"color\":\"#666666\"},\"y\":[9.291502622129181,9.291502622129181,12.755604237266937,12.755604237266937],\"type\":\"scatter\",\"fill\":\"toself\",\"hoverinfo\":\"skip\",\"yaxis\":\"y\",\"x\":[0.0,0.1225925087928772,0.1225925087928772,0.0]},{\"showlegend\":false,\"mode\":\"markers\",\"xaxis\":\"x2\",\"marker\":{\"color\":\"#666666\",\"size\":[4,8,4,8,4,4,4,8,8,4,4,8,4,8,8,8,4,8,4,4,4,4,8,4,4,4,4,4,8,4,4]},\"y\":[28.83970000752501,35.390606829520415,36.66385834999209,16.980349108658526,30.42985530904874,15.756063707802609,15.617976672962731,21.91220076123666,24.11930754242321,31.41834564809987,2.3228756555322954,34.85135834999209,6.9686269665968865,23.061526496566408,36.85135834999209,26.11930754242321,24.195852268105387,10.732446163612403,26.479503774974113,3.4843134832984433,17.980578843926363,12.307033435555102,28.11930754242321,38.47635834999209,37.60135834999209,29.76882659526154,31.560092472626813,8.996090198147472,14.255604237266937,30.48533294620765,11.023553429698058],\"type\":\"scatter\",\"customdata\":[[115,10],[124,22],[121,6],[81,7],[122,21],[114,31],[109,9],[101,3],[69,2],[107,5],[96,8],[91,2],[102,8],[125,63],[65,2],[84,2],[119,15],[123,41],[116,12],[110,9],[118,32],[111,30],[90,2],[120,4],[117,3],[112,7],[113,8],[108,21],[70,2],[106,4],[105,13]],\"yaxis\":\"y\",\"hovertemplate\":\"ID: %{customdata[0]}<br>\\nHeight: %{x:.3f}<br>\\nGenome count: %{customdata[1]}\\n\\n<extra></extra>\",\"x\":[0.1759122610092163,0.2889243960380554,0.2299281507730484,0.027423115447163582,0.24265146255493164,0.1682233214378357,0.1432751566171646,0.11219411343336105,0.004928806331008673,0.13571736216545105,0.09666447341442108,0.07080958038568497,0.11601859331130981,0.4156765341758728,0.002945174463093281,0.03024378977715969,0.2100716531276703,0.2738444209098816,0.19043199717998505,0.14826595783233643,0.20563814043998718,0.14886529743671417,0.06525612622499466,0.21284879744052887,0.20058049261569977,0.15115052461624146,0.1660998910665512,0.14107495546340942,0.006055848207324743,0.12287810444831848,0.1225925087928772]},{\"marker\":{\"symbol\":\"line-ns\",\"color\":\"green\",\"line\":{\"color\":\"green\",\"width\":1}},\"mode\":\"markers\",\"xaxis\":\"x2\",\"y\":[-1,-1],\"type\":\"scatter\",\"text\":[\"pertussis\"],\"hovertemplate\":\"%{text} <br>\\n%{x}\\n<extra></extra>\\n\",\"x\":[0.39392972]}],{\"showlegend\":false,\"xaxis\":{\"scaleanchor\":\"y\",\"visible\":false,\"domain\":[0.504950495049505,1.0]},\"hovermode\":\"closest\",\"xaxis2\":{\"rangemode\":\"nonnegative\",\"spikethickness\":1,\"showspikes\":true,\"domain\":[0.0,0.49504950495049505],\"spikemode\":\"across\",\"autorange\":\"reversed\",\"spikedash\":\"solid\"},\"height\":550,\"margin\":{\"l\":50,\"b\":50,\"r\":50,\"t\":60},\"yaxis\":{\"scaleanchor\":\"x\",\"visible\":false},\"width\":1000},{}); gd.on(\"plotly_hover\",(function (data){var filtered_data=WebIO.PlotlyCommands.filterEventData(gd,data,\"hover\"); return !(filtered_data.isnil) ? (WebIO.setval({\"name\":\"hover\",\"scope\":\"4493335779360476373\",\"id\":\"9203975660417929247\",\"type\":\"observable\"},filtered_data.out)) : undefined})); gd.on(\"plotly_unhover\",(function (){return WebIO.setval({\"name\":\"hover\",\"scope\":\"4493335779360476373\",\"id\":\"9203975660417929247\",\"type\":\"observable\"},{})})); gd.on(\"plotly_selected\",(function (data){var filtered_data=WebIO.PlotlyCommands.filterEventData(gd,data,\"selected\"); return !(filtered_data.isnil) ? (WebIO.setval({\"name\":\"selected\",\"scope\":\"4493335779360476373\",\"id\":\"6279034646942338306\",\"type\":\"observable\"},filtered_data.out)) : undefined})); gd.on(\"plotly_deselect\",(function (){return WebIO.setval({\"name\":\"selected\",\"scope\":\"4493335779360476373\",\"id\":\"6279034646942338306\",\"type\":\"observable\"},{})})); gd.on(\"plotly_relayout\",(function (data){var filtered_data=WebIO.PlotlyCommands.filterEventData(gd,data,\"relayout\"); return !(filtered_data.isnil) ? (WebIO.setval({\"name\":\"relayout\",\"scope\":\"4493335779360476373\",\"id\":\"13591204877523120691\",\"type\":\"observable\"},filtered_data.out)) : undefined})); return gd.on(\"plotly_click\",(function (data){var filtered_data=WebIO.PlotlyCommands.filterEventData(gd,data,\"click\"); return !(filtered_data.isnil) ? (WebIO.setval({\"name\":\"click\",\"scope\":\"4493335779360476373\",\"id\":\"17097472785684627046\",\"type\":\"observable\"},filtered_data.out)) : undefined}))}));\n    (WebIO.importBlock({\"data\":[{\"name\":\"Plotly\",\"type\":\"js\",\"url\":\"/assetserver/e6903599031aaef8675931dfcd7df98a1aeffbfc-plotly-latest.min.js\"},{\"name\":null,\"type\":\"js\",\"url\":\"/assetserver/74a5dea81f21b0b802ef1ee92f1c8a504eac1a0c-plotly_webio.bundle.js\"}],\"type\":\"async_block\"})).then((imports) => handler.apply(this, imports));\n}\n"
        ],
        "observables": {
         "__gd_contents": {
          "id": "18033559716430301503",
          "sync": false,
          "value": {}
         },
         "__get_gd_contents": {
          "id": "12468661463477274980",
          "sync": false,
          "value": ""
         },
         "_commands": {
          "id": "1114536672408003088",
          "sync": false,
          "value": []
         },
         "_downloadImage": {
          "id": "504249272793175276",
          "sync": false,
          "value": {}
         },
         "_toImage": {
          "id": "16130055829436632029",
          "sync": false,
          "value": {}
         },
         "click": {
          "id": "17097472785684627046",
          "sync": false,
          "value": {}
         },
         "hover": {
          "id": "9203975660417929247",
          "sync": false,
          "value": {}
         },
         "image": {
          "id": "3031222703097462424",
          "sync": true,
          "value": ""
         },
         "relayout": {
          "id": "13591204877523120691",
          "sync": false,
          "value": {}
         },
         "selected": {
          "id": "6279034646942338306",
          "sync": false,
          "value": {}
         }
        },
        "systemjs_options": null
       },
       "nodeType": "Scope",
       "props": {},
       "type": "node"
      },
      "text/html": [
       "<div\n",
       "    class=\"webio-mountpoint\"\n",
       "    data-webio-mountpoint=\"4183371503492255909\"\n",
       ">\n",
       "    <script>\n",
       "    if (window.require && require.defined && require.defined(\"nbextensions/webio-jupyter-notebook\")) {\n",
       "        console.log(\"Jupyter WebIO extension detected, not mounting.\");\n",
       "    } else if (window.WebIO) {\n",
       "        WebIO.mount(\n",
       "            document.querySelector('[data-webio-mountpoint=\"4183371503492255909\"]'),\n",
       "            {\"props\":{},\"nodeType\":\"Scope\",\"type\":\"node\",\"instanceArgs\":{\"imports\":{\"data\":[{\"name\":\"Plotly\",\"type\":\"js\",\"url\":\"\\/assetserver\\/e6903599031aaef8675931dfcd7df98a1aeffbfc-plotly-latest.min.js\"},{\"name\":null,\"type\":\"js\",\"url\":\"\\/assetserver\\/74a5dea81f21b0b802ef1ee92f1c8a504eac1a0c-plotly_webio.bundle.js\"}],\"type\":\"async_block\"},\"id\":\"4493335779360476373\",\"handlers\":{\"_toImage\":[\"(function (options){return this.Plotly.toImage(this.plotElem,options).then((function (data){return WebIO.setval({\\\"name\\\":\\\"image\\\",\\\"scope\\\":\\\"4493335779360476373\\\",\\\"id\\\":\\\"3031222703097462424\\\",\\\"type\\\":\\\"observable\\\"},data)}))})\"],\"__get_gd_contents\":[\"(function (prop){prop==\\\"data\\\" ? (WebIO.setval({\\\"name\\\":\\\"__gd_contents\\\",\\\"scope\\\":\\\"4493335779360476373\\\",\\\"id\\\":\\\"18033559716430301503\\\",\\\"type\\\":\\\"observable\\\"},this.plotElem.data)) : undefined; return prop==\\\"layout\\\" ? (WebIO.setval({\\\"name\\\":\\\"__gd_contents\\\",\\\"scope\\\":\\\"4493335779360476373\\\",\\\"id\\\":\\\"18033559716430301503\\\",\\\"type\\\":\\\"observable\\\"},this.plotElem.layout)) : undefined})\"],\"_downloadImage\":[\"(function (options){return this.Plotly.downloadImage(this.plotElem,options)})\"],\"_commands\":[\"(function (args){var fn=args.shift(); var elem=this.plotElem; var Plotly=this.Plotly; args.unshift(elem); return Plotly[fn].apply(this,args)})\"]},\"systemjs_options\":null,\"mount_callbacks\":[\"function () {\\n    var handler = ((function (Plotly,PlotlyWebIO){PlotlyWebIO.init(WebIO); var gd=this.dom.querySelector(\\\"#plot-1e8bfe05-b381-4593-b20c-16d8f361449d\\\"); this.plotElem=gd; this.Plotly=Plotly; (window.Blink!==undefined) ? (gd.style.width=\\\"100%\\\", gd.style.height=\\\"100vh\\\", gd.style.marginLeft=\\\"0%\\\", gd.style.marginTop=\\\"0vh\\\") : undefined; window.onresize=(function (){return Plotly.Plots.resize(gd)}); Plotly.newPlot(gd,[{\\\"y\\\":[0.5,4.145751311064591,5.145751311064591,8.791502622129181,13.255604237266937,15.255604237266937,18.705093980050115,19.705093980050115,20.705093980050115,23.11930754242321,25.11930754242321,27.11930754242321,29.11930754242321,31.85135834999209,32.85135834999209,33.85135834999209,35.85135834999209,37.85135834999209,38.85135834999209,39.85135834999209,40.85135834999209],\\\"type\\\":\\\"heatmap\\\",\\\"colorscale\\\":[[0.0,\\\"#000004\\\"],[0.00392156862745098,\\\"#010005\\\"],[0.00784313725490196,\\\"#010106\\\"],[0.011764705882352941,\\\"#010108\\\"],[0.01568627450980392,\\\"#020109\\\"],[0.0196078431372549,\\\"#02020B\\\"],[0.023529411764705882,\\\"#02020D\\\"],[0.027450980392156862,\\\"#03030F\\\"],[0.03137254901960784,\\\"#030312\\\"],[0.03529411764705882,\\\"#040414\\\"],[0.0392156862745098,\\\"#050416\\\"],[0.043137254901960784,\\\"#060518\\\"],[0.047058823529411764,\\\"#06051A\\\"],[0.050980392156862744,\\\"#07061C\\\"],[0.054901960784313725,\\\"#08071E\\\"],[0.058823529411764705,\\\"#090720\\\"],[0.06274509803921569,\\\"#0A0822\\\"],[0.06666666666666667,\\\"#0B0924\\\"],[0.07058823529411765,\\\"#0C0926\\\"],[0.07450980392156863,\\\"#0D0A29\\\"],[0.0784313725490196,\\\"#0E0B2B\\\"],[0.08235294117647059,\\\"#100B2D\\\"],[0.08627450980392157,\\\"#110C2F\\\"],[0.09019607843137255,\\\"#120D31\\\"],[0.09411764705882353,\\\"#130D34\\\"],[0.09803921568627451,\\\"#140E36\\\"],[0.10196078431372549,\\\"#150E38\\\"],[0.10588235294117647,\\\"#160F3B\\\"],[0.10980392156862745,\\\"#180F3D\\\"],[0.11372549019607843,\\\"#19103F\\\"],[0.11764705882352941,\\\"#1A1042\\\"],[0.12156862745098039,\\\"#1C1044\\\"],[0.12549019607843137,\\\"#1D1147\\\"],[0.12941176470588237,\\\"#1E1149\\\"],[0.13333333333333333,\\\"#20114B\\\"],[0.13725490196078433,\\\"#21114E\\\"],[0.1411764705882353,\\\"#221150\\\"],[0.1450980392156863,\\\"#241253\\\"],[0.14901960784313725,\\\"#251255\\\"],[0.15294117647058825,\\\"#271258\\\"],[0.1568627450980392,\\\"#29115A\\\"],[0.1607843137254902,\\\"#2A115C\\\"],[0.16470588235294117,\\\"#2C115F\\\"],[0.16862745098039217,\\\"#2D1161\\\"],[0.17254901960784313,\\\"#2F1163\\\"],[0.17647058823529413,\\\"#311165\\\"],[0.1803921568627451,\\\"#331067\\\"],[0.1843137254901961,\\\"#341069\\\"],[0.18823529411764706,\\\"#36106B\\\"],[0.19215686274509805,\\\"#38106C\\\"],[0.19607843137254902,\\\"#390F6E\\\"],[0.2,\\\"#3B0F70\\\"],[0.20392156862745098,\\\"#3D0F71\\\"],[0.20784313725490197,\\\"#3F0F72\\\"],[0.21176470588235294,\\\"#400F74\\\"],[0.21568627450980393,\\\"#420F75\\\"],[0.2196078431372549,\\\"#440F76\\\"],[0.2235294117647059,\\\"#451077\\\"],[0.22745098039215686,\\\"#471078\\\"],[0.23137254901960785,\\\"#491078\\\"],[0.23529411764705882,\\\"#4A1079\\\"],[0.23921568627450981,\\\"#4C117A\\\"],[0.24313725490196078,\\\"#4E117B\\\"],[0.24705882352941178,\\\"#4F127B\\\"],[0.25098039215686274,\\\"#51127C\\\"],[0.2549019607843137,\\\"#52137C\\\"],[0.25882352941176473,\\\"#54137D\\\"],[0.2627450980392157,\\\"#56147D\\\"],[0.26666666666666666,\\\"#57157E\\\"],[0.27058823529411763,\\\"#59157E\\\"],[0.27450980392156865,\\\"#5A167E\\\"],[0.2784313725490196,\\\"#5C167F\\\"],[0.2823529411764706,\\\"#5D177F\\\"],[0.28627450980392155,\\\"#5F187F\\\"],[0.2901960784313726,\\\"#601880\\\"],[0.29411764705882354,\\\"#621980\\\"],[0.2980392156862745,\\\"#641A80\\\"],[0.30196078431372547,\\\"#651A80\\\"],[0.3058823529411765,\\\"#671B80\\\"],[0.30980392156862746,\\\"#681C81\\\"],[0.3137254901960784,\\\"#6A1C81\\\"],[0.3176470588235294,\\\"#6B1D81\\\"],[0.3215686274509804,\\\"#6D1D81\\\"],[0.3254901960784314,\\\"#6E1E81\\\"],[0.32941176470588235,\\\"#701F81\\\"],[0.3333333333333333,\\\"#721F81\\\"],[0.33725490196078434,\\\"#732081\\\"],[0.3411764705882353,\\\"#752181\\\"],[0.34509803921568627,\\\"#762181\\\"],[0.34901960784313724,\\\"#782281\\\"],[0.35294117647058826,\\\"#792282\\\"],[0.3568627450980392,\\\"#7B2382\\\"],[0.3607843137254902,\\\"#7C2382\\\"],[0.36470588235294116,\\\"#7E2482\\\"],[0.3686274509803922,\\\"#802582\\\"],[0.37254901960784315,\\\"#812581\\\"],[0.3764705882352941,\\\"#832681\\\"],[0.3803921568627451,\\\"#842681\\\"],[0.3843137254901961,\\\"#862781\\\"],[0.38823529411764707,\\\"#882781\\\"],[0.39215686274509803,\\\"#892881\\\"],[0.396078431372549,\\\"#8B2981\\\"],[0.4,\\\"#8C2981\\\"],[0.403921568627451,\\\"#8E2A81\\\"],[0.40784313725490196,\\\"#902A81\\\"],[0.4117647058823529,\\\"#912B81\\\"],[0.41568627450980394,\\\"#932B80\\\"],[0.4196078431372549,\\\"#942C80\\\"],[0.4235294117647059,\\\"#962C80\\\"],[0.42745098039215684,\\\"#982D80\\\"],[0.43137254901960786,\\\"#992D80\\\"],[0.43529411764705883,\\\"#9B2E7F\\\"],[0.4392156862745098,\\\"#9C2E7F\\\"],[0.44313725490196076,\\\"#9E2F7F\\\"],[0.4470588235294118,\\\"#A02F7F\\\"],[0.45098039215686275,\\\"#A1307E\\\"],[0.4549019607843137,\\\"#A3307E\\\"],[0.4588235294117647,\\\"#A5317E\\\"],[0.4627450980392157,\\\"#A6317D\\\"],[0.4666666666666667,\\\"#A8327D\\\"],[0.47058823529411764,\\\"#AA337D\\\"],[0.4745098039215686,\\\"#AB337C\\\"],[0.47843137254901963,\\\"#AD347C\\\"],[0.4823529411764706,\\\"#AE347B\\\"],[0.48627450980392156,\\\"#B0357B\\\"],[0.49019607843137253,\\\"#B2357B\\\"],[0.49411764705882355,\\\"#B3367A\\\"],[0.4980392156862745,\\\"#B5367A\\\"],[0.5019607843137255,\\\"#B73779\\\"],[0.5058823529411764,\\\"#B83779\\\"],[0.5098039215686274,\\\"#BA3878\\\"],[0.5137254901960784,\\\"#BC3978\\\"],[0.5176470588235295,\\\"#BD3977\\\"],[0.5215686274509804,\\\"#BF3A77\\\"],[0.5254901960784314,\\\"#C03A76\\\"],[0.5294117647058824,\\\"#C23B75\\\"],[0.5333333333333333,\\\"#C43C75\\\"],[0.5372549019607843,\\\"#C53C74\\\"],[0.5411764705882353,\\\"#C73D73\\\"],[0.5450980392156862,\\\"#C83E73\\\"],[0.5490196078431373,\\\"#CA3E72\\\"],[0.5529411764705883,\\\"#CC3F71\\\"],[0.5568627450980392,\\\"#CD4071\\\"],[0.5607843137254902,\\\"#CF4070\\\"],[0.5647058823529412,\\\"#D0416F\\\"],[0.5686274509803921,\\\"#D2426F\\\"],[0.5725490196078431,\\\"#D3436E\\\"],[0.5764705882352941,\\\"#D5446D\\\"],[0.5803921568627451,\\\"#D6456C\\\"],[0.5843137254901961,\\\"#D8456C\\\"],[0.5882352941176471,\\\"#D9466B\\\"],[0.592156862745098,\\\"#DB476A\\\"],[0.596078431372549,\\\"#DC4869\\\"],[0.6,\\\"#DE4968\\\"],[0.6039215686274509,\\\"#DF4A68\\\"],[0.6078431372549019,\\\"#E04C67\\\"],[0.611764705882353,\\\"#E24D66\\\"],[0.615686274509804,\\\"#E34E65\\\"],[0.6196078431372549,\\\"#E44F64\\\"],[0.6235294117647059,\\\"#E55064\\\"],[0.6274509803921569,\\\"#E75263\\\"],[0.6313725490196078,\\\"#E85362\\\"],[0.6352941176470588,\\\"#E95462\\\"],[0.6392156862745098,\\\"#EA5661\\\"],[0.6431372549019608,\\\"#EB5760\\\"],[0.6470588235294118,\\\"#EC5860\\\"],[0.6509803921568628,\\\"#ED5A5F\\\"],[0.6549019607843137,\\\"#EE5B5E\\\"],[0.6588235294117647,\\\"#EF5D5E\\\"],[0.6627450980392157,\\\"#F05F5E\\\"],[0.6666666666666666,\\\"#F1605D\\\"],[0.6705882352941176,\\\"#F2625D\\\"],[0.6745098039215687,\\\"#F2645C\\\"],[0.6784313725490196,\\\"#F3655C\\\"],[0.6823529411764706,\\\"#F4675C\\\"],[0.6862745098039216,\\\"#F4695C\\\"],[0.6901960784313725,\\\"#F56B5C\\\"],[0.6941176470588235,\\\"#F66C5C\\\"],[0.6980392156862745,\\\"#F66E5C\\\"],[0.7019607843137254,\\\"#F7705C\\\"],[0.7058823529411765,\\\"#F7725C\\\"],[0.7098039215686275,\\\"#F8745C\\\"],[0.7137254901960784,\\\"#F8765C\\\"],[0.7176470588235294,\\\"#F9785D\\\"],[0.7215686274509804,\\\"#F9795D\\\"],[0.7254901960784313,\\\"#F97B5D\\\"],[0.7294117647058823,\\\"#FA7D5E\\\"],[0.7333333333333333,\\\"#FA7F5E\\\"],[0.7372549019607844,\\\"#FA815F\\\"],[0.7411764705882353,\\\"#FB835F\\\"],[0.7450980392156863,\\\"#FB8560\\\"],[0.7490196078431373,\\\"#FB8761\\\"],[0.7529411764705882,\\\"#FC8961\\\"],[0.7568627450980392,\\\"#FC8A62\\\"],[0.7607843137254902,\\\"#FC8C63\\\"],[0.7647058823529411,\\\"#FC8E64\\\"],[0.7686274509803922,\\\"#FC9065\\\"],[0.7725490196078432,\\\"#FD9266\\\"],[0.7764705882352941,\\\"#FD9467\\\"],[0.7803921568627451,\\\"#FD9668\\\"],[0.7843137254901961,\\\"#FD9869\\\"],[0.788235294117647,\\\"#FD9A6A\\\"],[0.792156862745098,\\\"#FD9B6B\\\"],[0.796078431372549,\\\"#FE9D6C\\\"],[0.8,\\\"#FE9F6D\\\"],[0.803921568627451,\\\"#FEA16E\\\"],[0.807843137254902,\\\"#FEA36F\\\"],[0.8117647058823529,\\\"#FEA571\\\"],[0.8156862745098039,\\\"#FEA772\\\"],[0.8196078431372549,\\\"#FEA973\\\"],[0.8235294117647058,\\\"#FEAA74\\\"],[0.8274509803921568,\\\"#FEAC76\\\"],[0.8313725490196079,\\\"#FEAE77\\\"],[0.8352941176470589,\\\"#FEB078\\\"],[0.8392156862745098,\\\"#FEB27A\\\"],[0.8431372549019608,\\\"#FEB47B\\\"],[0.8470588235294118,\\\"#FEB67C\\\"],[0.8509803921568627,\\\"#FEB77E\\\"],[0.8549019607843137,\\\"#FEB97F\\\"],[0.8588235294117647,\\\"#FEBB81\\\"],[0.8627450980392157,\\\"#FEBD82\\\"],[0.8666666666666667,\\\"#FEBF84\\\"],[0.8705882352941177,\\\"#FEC185\\\"],[0.8745098039215686,\\\"#FEC287\\\"],[0.8784313725490196,\\\"#FEC488\\\"],[0.8823529411764706,\\\"#FEC68A\\\"],[0.8862745098039215,\\\"#FEC88C\\\"],[0.8901960784313725,\\\"#FECA8D\\\"],[0.8941176470588236,\\\"#FECC8F\\\"],[0.8980392156862745,\\\"#FECD90\\\"],[0.9019607843137255,\\\"#FECF92\\\"],[0.9058823529411765,\\\"#FED194\\\"],[0.9098039215686274,\\\"#FED395\\\"],[0.9137254901960784,\\\"#FED597\\\"],[0.9176470588235294,\\\"#FED799\\\"],[0.9215686274509803,\\\"#FED89A\\\"],[0.9254901960784314,\\\"#FDDA9C\\\"],[0.9294117647058824,\\\"#FDDC9E\\\"],[0.9333333333333333,\\\"#FDDEA0\\\"],[0.9372549019607843,\\\"#FDE0A1\\\"],[0.9411764705882353,\\\"#FDE2A3\\\"],[0.9450980392156862,\\\"#FDE3A5\\\"],[0.9490196078431372,\\\"#FDE5A7\\\"],[0.9529411764705882,\\\"#FDE7A9\\\"],[0.9568627450980393,\\\"#FDE9AA\\\"],[0.9607843137254902,\\\"#FDEBAC\\\"],[0.9647058823529412,\\\"#FCECAE\\\"],[0.9686274509803922,\\\"#FCEEB0\\\"],[0.9725490196078431,\\\"#FCF0B2\\\"],[0.9764705882352941,\\\"#FCF2B4\\\"],[0.9803921568627451,\\\"#FCF4B6\\\"],[0.984313725490196,\\\"#FCF6B8\\\"],[0.9882352941176471,\\\"#FCF7B9\\\"],[0.9921568627450981,\\\"#FCF9BB\\\"],[0.996078431372549,\\\"#FCFBBD\\\"],[1.0,\\\"#FCFDBF\\\"]],\\\"z\\\":[[0.09666447,0.096083164,0.12504081,0.16827586,0.1975131,0.20589444,0.21105894,0.16536862,0.36477035,0.3788474,0.35016286,0.34552333,0.34258354,0.3576336,0.3578284,0.38605922,0.35397813,0.34787235,0.36774385,0.36344296],[0.096083164,0.0,0.19751728,0.23141627,0.26339245,0.26236966,0.26484457,0.22127116,0.38208345,0.33279338,0.37675962,0.3753849,0.3691711,0.38797328,0.3864192,0.4138512,0.3876757,0.38580415,0.40407377,0.36932108],[0.12504081,0.19751728,0.11601859,0.07195652,0.1283167,0.120434456,0.13682158,0.15568863,0.31951976,0.32378358,0.30052674,0.29382107,0.2897582,0.30701926,0.3088484,0.33323646,0.30311233,0.29655036,0.3196713,0.32781547],[0.16827586,0.23141627,0.07195652,0.12259251,0.11237645,0.10599827,0.1270874,0.1582178,0.3179888,0.33179897,0.3014101,0.2962118,0.2909582,0.30777484,0.30529347,0.33546263,0.3037864,0.29910052,0.3211148,0.3335747],[0.1975131,0.26339245,0.1283167,0.11237645,0.006055848,0.12828635,0.1585866,0.19667248,0.34671533,0.363033,0.3323217,0.32863173,0.31959262,0.33664584,0.33634615,0.36650348,0.32590002,0.32620168,0.3492467,0.3576713],[0.20589444,0.26236966,0.120434456,0.10599827,0.12828635,0.027423115,0.15536752,0.19523269,0.33714446,0.3514453,0.32440448,0.32123852,0.30945003,0.33164966,0.32835385,0.35268492,0.3189179,0.316019,0.33729097,0.32378814],[0.21105894,0.26484457,0.13682158,0.1270874,0.1585866,0.15536752,0.0,0.201853,0.32116294,0.33895764,0.30561268,0.2997916,0.2918296,0.31458375,0.3114022,0.3435803,0.30828235,0.30350965,0.33169064,0.34511042],[0.16536862,0.22127116,0.15568863,0.1582178,0.19667248,0.19523269,0.201853,0.0,0.35426307,0.3659187,0.34237936,0.33717218,0.332788,0.34403056,0.34785554,0.37136337,0.3450104,0.34066147,0.36314443,0.36920896],[0.36477035,0.38208345,0.31951976,0.3179888,0.34671533,0.33714446,0.32116294,0.35426307,0.11219411,0.18507615,0.15603212,0.1430566,0.12618503,0.16319226,0.16527778,0.21608196,0.1843708,0.20883326,0.20120314,0.2584407],[0.3788474,0.33279338,0.32378358,0.33179897,0.363033,0.3514453,0.33895764,0.3659187,0.18507615,0.0049288063,0.1671817,0.16192263,0.1503955,0.17813973,0.18641259,0.22239077,0.21069968,0.22855423,0.21222268,0.26074526],[0.35016286,0.37675962,0.30052674,0.3014101,0.3323217,0.32440448,0.30561268,0.34237936,0.15603212,0.1671817,0.03024379,0.11986451,0.12098524,0.13140336,0.1502327,0.19402042,0.17199248,0.19217455,0.17382728,0.24093512],[0.34552333,0.3753849,0.29382107,0.2962118,0.32863173,0.32123852,0.2997916,0.33717218,0.1430566,0.16192263,0.11986451,0.065256126,0.109877914,0.11940952,0.13354653,0.19216855,0.1584537,0.1785295,0.15799464,0.2385268],[0.34258354,0.3691711,0.2897582,0.2909582,0.31959262,0.30945003,0.2918296,0.332788,0.12618503,0.1503955,0.12098524,0.109877914,0.122878104,0.110598065,0.13651462,0.17655946,0.15629677,0.16486487,0.15634483,0.22654594],[0.3576336,0.38797328,0.30701926,0.30777484,0.33664584,0.33164966,0.31458375,0.34403056,0.16319226,0.17813973,0.13140336,0.11940952,0.110598065,0.0,0.15858129,0.19932787,0.17540932,0.19765617,0.1762129,0.25428706],[0.3578284,0.3864192,0.3088484,0.30529347,0.33634615,0.32835385,0.3114022,0.34785554,0.16527778,0.18641259,0.1502327,0.13354653,0.13651462,0.15858129,0.0,0.21751532,0.17869234,0.19448291,0.18322982,0.17042935],[0.38605922,0.4138512,0.33323646,0.33546263,0.36650348,0.35268492,0.3435803,0.37136337,0.21608196,0.22239077,0.19402042,0.19216855,0.17655946,0.19932787,0.21751532,0.07080958,0.22011738,0.22702646,0.22350654,0.28729904],[0.35397813,0.3876757,0.30311233,0.3037864,0.32590002,0.3189179,0.30828235,0.3450104,0.1843708,0.21069968,0.17199248,0.1584537,0.15629677,0.17540932,0.17869234,0.22011738,0.0029451745,0.19900446,0.20872441,0.25186023],[0.34787235,0.38580415,0.29655036,0.29910052,0.32620168,0.316019,0.30350965,0.34066147,0.20883326,0.22855423,0.19217455,0.1785295,0.16486487,0.19765617,0.19448291,0.22702646,0.19900446,0.0,0.2128488,0.2754948],[0.36774385,0.40407377,0.3196713,0.3211148,0.3492467,0.33729097,0.33169064,0.36314443,0.20120314,0.21222268,0.17382728,0.15799464,0.15634483,0.1762129,0.18322982,0.22350654,0.20872441,0.2128488,0.0,0.27862483],[0.36344296,0.36932108,0.32781547,0.3335747,0.3576713,0.32378814,0.34511042,0.36920896,0.2584407,0.26074526,0.24093512,0.2385268,0.22654594,0.25428706,0.17042935,0.28729904,0.25186023,0.2754948,0.27862483,0.0]],\\\"x\\\":[0.5,4.145751311064591,5.145751311064591,8.791502622129181,13.255604237266937,15.255604237266937,18.705093980050115,19.705093980050115,20.705093980050115,23.11930754242321,25.11930754242321,27.11930754242321,29.11930754242321,31.85135834999209,32.85135834999209,33.85135834999209,35.85135834999209,37.85135834999209,38.85135834999209,39.85135834999209,40.85135834999209]},{\\\"showlegend\\\":false,\\\"mode\\\":\\\"lines\\\",\\\"xaxis\\\":\\\"x2\\\",\\\"line\\\":{\\\"color\\\":\\\"#666666\\\"},\\\"y\\\":[30.42985530904874,40.35135834999209,null,30.42985530904874,30.42985530904874,null,40.35135834999209,40.35135834999209,null],\\\"type\\\":\\\"scatter\\\",\\\"hoverinfo\\\":\\\"skip\\\",\\\"yaxis\\\":\\\"y\\\",\\\"x\\\":[0.2889243960380554,0.2889243960380554,null,0.2889243960380554,0.24265146255493164,null,0.2889243960380554,0.0,null]},{\\\"showlegend\\\":false,\\\"mode\\\":\\\"lines\\\",\\\"xaxis\\\":\\\"x2\\\",\\\"line\\\":{\\\"color\\\":\\\"#666666\\\"},\\\"y\\\":[34.85135834999209,38.47635834999209,null,34.85135834999209,34.85135834999209,null,38.47635834999209,38.47635834999209,null],\\\"type\\\":\\\"scatter\\\",\\\"hoverinfo\\\":\\\"skip\\\",\\\"yaxis\\\":\\\"y\\\",\\\"x\\\":[0.2299281507730484,0.2299281507730484,null,0.2299281507730484,0.07080958038568497,null,0.2299281507730484,0.21284879744052887,null]},{\\\"showlegend\\\":false,\\\"mode\\\":\\\"lines\\\",\\\"xaxis\\\":\\\"x2\\\",\\\"line\\\":{\\\"color\\\":\\\"#666666\\\"},\\\"y\\\":[15.755604237266937,15.755604237266937,18.205093980050115,18.205093980050115],\\\"type\\\":\\\"scatter\\\",\\\"fill\\\":\\\"toself\\\",\\\"hoverinfo\\\":\\\"skip\\\",\\\"yaxis\\\":\\\"y\\\",\\\"x\\\":[0.0,0.027423115447163582,0.027423115447163582,0.0]},{\\\"showlegend\\\":false,\\\"mode\\\":\\\"lines\\\",\\\"xaxis\\\":\\\"x2\\\",\\\"line\\\":{\\\"color\\\":\\\"#666666\\\"},\\\"y\\\":[24.195852268105387,36.66385834999209,null,24.195852268105387,24.195852268105387,null,36.66385834999209,36.66385834999209,null],\\\"type\\\":\\\"scatter\\\",\\\"hoverinfo\\\":\\\"skip\\\",\\\"yaxis\\\":\\\"y\\\",\\\"x\\\":[0.24265146255493164,0.24265146255493164,null,0.24265146255493164,0.2100716531276703,null,0.24265146255493164,0.2299281507730484,null]},{\\\"showlegend\\\":false,\\\"mode\\\":\\\"lines\\\",\\\"xaxis\\\":\\\"x2\\\",\\\"line\\\":{\\\"color\\\":\\\"#666666\\\"},\\\"y\\\":[12.307033435555102,19.205093980050115,null,12.307033435555102,12.307033435555102,null,19.205093980050115,19.205093980050115,null],\\\"type\\\":\\\"scatter\\\",\\\"hoverinfo\\\":\\\"skip\\\",\\\"yaxis\\\":\\\"y\\\",\\\"x\\\":[0.1682233214378357,0.1682233214378357,null,0.1682233214378357,0.14886529743671417,null,0.1682233214378357,0.0,null]},{\\\"showlegend\\\":false,\\\"mode\\\":\\\"lines\\\",\\\"xaxis\\\":\\\"x2\\\",\\\"line\\\":{\\\"color\\\":\\\"#666666\\\"},\\\"y\\\":[14.255604237266937,16.980349108658526,null,14.255604237266937,14.255604237266937,null,16.980349108658526,16.980349108658526,null],\\\"type\\\":\\\"scatter\\\",\\\"hoverinfo\\\":\\\"skip\\\",\\\"yaxis\\\":\\\"y\\\",\\\"x\\\":[0.1432751566171646,0.1432751566171646,null,0.1432751566171646,0.006055848207324743,null,0.1432751566171646,0.027423115447163582,null]},{\\\"showlegend\\\":false,\\\"mode\\\":\\\"lines\\\",\\\"xaxis\\\":\\\"x2\\\",\\\"line\\\":{\\\"color\\\":\\\"#666666\\\"},\\\"y\\\":[21.205093980050115,21.205093980050115,22.61930754242321,22.61930754242321],\\\"type\\\":\\\"scatter\\\",\\\"fill\\\":\\\"toself\\\",\\\"hoverinfo\\\":\\\"skip\\\",\\\"yaxis\\\":\\\"y\\\",\\\"x\\\":[0.0,0.11219411343336105,0.11219411343336105,0.0]},{\\\"showlegend\\\":false,\\\"mode\\\":\\\"lines\\\",\\\"xaxis\\\":\\\"x2\\\",\\\"line\\\":{\\\"color\\\":\\\"#666666\\\"},\\\"y\\\":[23.61930754242321,23.61930754242321,24.61930754242321,24.61930754242321],\\\"type\\\":\\\"scatter\\\",\\\"fill\\\":\\\"toself\\\",\\\"hoverinfo\\\":\\\"skip\\\",\\\"yaxis\\\":\\\"y\\\",\\\"x\\\":[0.0,0.004928806331008673,0.004928806331008673,0.0]},{\\\"showlegend\\\":false,\\\"mode\\\":\\\"lines\\\",\\\"xaxis\\\":\\\"x2\\\",\\\"line\\\":{\\\"color\\\":\\\"#666666\\\"},\\\"y\\\":[30.48533294620765,32.35135834999209,null,30.48533294620765,30.48533294620765,null,32.35135834999209,32.35135834999209,null],\\\"type\\\":\\\"scatter\\\",\\\"hoverinfo\\\":\\\"skip\\\",\\\"yaxis\\\":\\\"y\\\",\\\"x\\\":[0.13571736216545105,0.13571736216545105,null,0.13571736216545105,0.12287810444831848,null,0.13571736216545105,0.0,null]},{\\\"showlegend\\\":false,\\\"mode\\\":\\\"lines\\\",\\\"xaxis\\\":\\\"x2\\\",\\\"line\\\":{\\\"color\\\":\\\"#666666\\\"},\\\"y\\\":[1.0,1.0,3.6457513110645907,3.6457513110645907],\\\"type\\\":\\\"scatter\\\",\\\"fill\\\":\\\"toself\\\",\\\"hoverinfo\\\":\\\"skip\\\",\\\"yaxis\\\":\\\"y\\\",\\\"x\\\":[0.0,0.09666447341442108,0.09666447341442108,0.0]},{\\\"showlegend\\\":false,\\\"mode\\\":\\\"lines\\\",\\\"xaxis\\\":\\\"x2\\\",\\\"line\\\":{\\\"color\\\":\\\"#666666\\\"},\\\"y\\\":[34.35135834999209,34.35135834999209,35.35135834999209,35.35135834999209],\\\"type\\\":\\\"scatter\\\",\\\"fill\\\":\\\"toself\\\",\\\"hoverinfo\\\":\\\"skip\\\",\\\"yaxis\\\":\\\"y\\\",\\\"x\\\":[0.0,0.07080958038568497,0.07080958038568497,0.0]},{\\\"showlegend\\\":false,\\\"mode\\\":\\\"lines\\\",\\\"xaxis\\\":\\\"x2\\\",\\\"line\\\":{\\\"color\\\":\\\"#666666\\\"},\\\"y\\\":[5.645751311064591,5.645751311064591,8.291502622129181,8.291502622129181],\\\"type\\\":\\\"scatter\\\",\\\"fill\\\":\\\"toself\\\",\\\"hoverinfo\\\":\\\"skip\\\",\\\"yaxis\\\":\\\"y\\\",\\\"x\\\":[0.0,0.11601859331130981,0.11601859331130981,0.0]},{\\\"showlegend\\\":false,\\\"mode\\\":\\\"lines\\\",\\\"xaxis\\\":\\\"x2\\\",\\\"line\\\":{\\\"color\\\":\\\"#666666\\\"},\\\"y\\\":[10.732446163612403,35.390606829520415,null,10.732446163612403,10.732446163612403,null,35.390606829520415,35.390606829520415,null],\\\"type\\\":\\\"scatter\\\",\\\"hoverinfo\\\":\\\"skip\\\",\\\"yaxis\\\":\\\"y\\\",\\\"x\\\":[0.4156765341758728,0.4156765341758728,null,0.4156765341758728,0.2738444209098816,null,0.4156765341758728,0.2889243960380554,null]},{\\\"showlegend\\\":false,\\\"mode\\\":\\\"lines\\\",\\\"xaxis\\\":\\\"x2\\\",\\\"line\\\":{\\\"color\\\":\\\"#666666\\\"},\\\"y\\\":[36.35135834999209,36.35135834999209,37.35135834999209,37.35135834999209],\\\"type\\\":\\\"scatter\\\",\\\"fill\\\":\\\"toself\\\",\\\"hoverinfo\\\":\\\"skip\\\",\\\"yaxis\\\":\\\"y\\\",\\\"x\\\":[0.0,0.002945174463093281,0.002945174463093281,0.0]},{\\\"showlegend\\\":false,\\\"mode\\\":\\\"lines\\\",\\\"xaxis\\\":\\\"x2\\\",\\\"line\\\":{\\\"color\\\":\\\"#666666\\\"},\\\"y\\\":[25.61930754242321,25.61930754242321,26.61930754242321,26.61930754242321],\\\"type\\\":\\\"scatter\\\",\\\"fill\\\":\\\"toself\\\",\\\"hoverinfo\\\":\\\"skip\\\",\\\"yaxis\\\":\\\"y\\\",\\\"x\\\":[0.0,0.03024378977715969,0.03024378977715969,0.0]},{\\\"showlegend\\\":false,\\\"mode\\\":\\\"lines\\\",\\\"xaxis\\\":\\\"x2\\\",\\\"line\\\":{\\\"color\\\":\\\"#666666\\\"},\\\"y\\\":[21.91220076123666,26.479503774974113,null,21.91220076123666,21.91220076123666,null,26.479503774974113,26.479503774974113,null],\\\"type\\\":\\\"scatter\\\",\\\"hoverinfo\\\":\\\"skip\\\",\\\"yaxis\\\":\\\"y\\\",\\\"x\\\":[0.2100716531276703,0.2100716531276703,null,0.2100716531276703,0.11219411343336105,null,0.2100716531276703,0.19043199717998505,null]},{\\\"showlegend\\\":false,\\\"mode\\\":\\\"lines\\\",\\\"xaxis\\\":\\\"x2\\\",\\\"line\\\":{\\\"color\\\":\\\"#666666\\\"},\\\"y\\\":[3.4843134832984433,17.980578843926363,null,3.4843134832984433,3.4843134832984433,null,17.980578843926363,17.980578843926363,null],\\\"type\\\":\\\"scatter\\\",\\\"hoverinfo\\\":\\\"skip\\\",\\\"yaxis\\\":\\\"y\\\",\\\"x\\\":[0.2738444209098816,0.2738444209098816,null,0.2738444209098816,0.14826595783233643,null,0.2738444209098816,0.20563814043998718,null]},{\\\"showlegend\\\":false,\\\"mode\\\":\\\"lines\\\",\\\"xaxis\\\":\\\"x2\\\",\\\"line\\\":{\\\"color\\\":\\\"#666666\\\"},\\\"y\\\":[24.11930754242321,28.83970000752501,null,24.11930754242321,24.11930754242321,null,28.83970000752501,28.83970000752501,null],\\\"type\\\":\\\"scatter\\\",\\\"hoverinfo\\\":\\\"skip\\\",\\\"yaxis\\\":\\\"y\\\",\\\"x\\\":[0.19043199717998505,0.19043199717998505,null,0.19043199717998505,0.004928806331008673,null,0.19043199717998505,0.1759122610092163,null]},{\\\"showlegend\\\":false,\\\"mode\\\":\\\"lines\\\",\\\"xaxis\\\":\\\"x2\\\",\\\"line\\\":{\\\"color\\\":\\\"#666666\\\"},\\\"y\\\":[2.3228756555322954,4.645751311064591,null,2.3228756555322954,2.3228756555322954,null,4.645751311064591,4.645751311064591,null],\\\"type\\\":\\\"scatter\\\",\\\"hoverinfo\\\":\\\"skip\\\",\\\"yaxis\\\":\\\"y\\\",\\\"x\\\":[0.14826595783233643,0.14826595783233643,null,0.14826595783233643,0.09666447341442108,null,0.14826595783233643,0.0,null]},{\\\"showlegend\\\":false,\\\"mode\\\":\\\"lines\\\",\\\"xaxis\\\":\\\"x2\\\",\\\"line\\\":{\\\"color\\\":\\\"#666666\\\"},\\\"y\\\":[15.756063707802609,20.205093980050115,null,15.756063707802609,15.756063707802609,null,20.205093980050115,20.205093980050115,null],\\\"type\\\":\\\"scatter\\\",\\\"hoverinfo\\\":\\\"skip\\\",\\\"yaxis\\\":\\\"y\\\",\\\"x\\\":[0.20563814043998718,0.20563814043998718,null,0.20563814043998718,0.1682233214378357,null,0.20563814043998718,0.0,null]},{\\\"showlegend\\\":false,\\\"mode\\\":\\\"lines\\\",\\\"xaxis\\\":\\\"x2\\\",\\\"line\\\":{\\\"color\\\":\\\"#666666\\\"},\\\"y\\\":[8.996090198147472,15.617976672962731,null,8.996090198147472,8.996090198147472,null,15.617976672962731,15.617976672962731,null],\\\"type\\\":\\\"scatter\\\",\\\"hoverinfo\\\":\\\"skip\\\",\\\"yaxis\\\":\\\"y\\\",\\\"x\\\":[0.14886529743671417,0.14886529743671417,null,0.14886529743671417,0.14107495546340942,null,0.14886529743671417,0.1432751566171646,null]},{\\\"showlegend\\\":false,\\\"mode\\\":\\\"lines\\\",\\\"xaxis\\\":\\\"x2\\\",\\\"line\\\":{\\\"color\\\":\\\"#666666\\\"},\\\"y\\\":[27.61930754242321,27.61930754242321,28.61930754242321,28.61930754242321],\\\"type\\\":\\\"scatter\\\",\\\"fill\\\":\\\"toself\\\",\\\"hoverinfo\\\":\\\"skip\\\",\\\"yaxis\\\":\\\"y\\\",\\\"x\\\":[0.0,0.06525612622499466,0.06525612622499466,0.0]},{\\\"showlegend\\\":false,\\\"mode\\\":\\\"lines\\\",\\\"xaxis\\\":\\\"x2\\\",\\\"line\\\":{\\\"color\\\":\\\"#666666\\\"},\\\"y\\\":[37.60135834999209,39.35135834999209,null,37.60135834999209,37.60135834999209,null,39.35135834999209,39.35135834999209,null],\\\"type\\\":\\\"scatter\\\",\\\"hoverinfo\\\":\\\"skip\\\",\\\"yaxis\\\":\\\"y\\\",\\\"x\\\":[0.21284879744052887,0.21284879744052887,null,0.21284879744052887,0.20058049261569977,null,0.21284879744052887,0.0,null]},{\\\"showlegend\\\":false,\\\"mode\\\":\\\"lines\\\",\\\"xaxis\\\":\\\"x2\\\",\\\"line\\\":{\\\"color\\\":\\\"#666666\\\"},\\\"y\\\":[36.85135834999209,38.35135834999209,null,36.85135834999209,36.85135834999209,null,38.35135834999209,38.35135834999209,null],\\\"type\\\":\\\"scatter\\\",\\\"hoverinfo\\\":\\\"skip\\\",\\\"yaxis\\\":\\\"y\\\",\\\"x\\\":[0.20058049261569977,0.20058049261569977,null,0.20058049261569977,0.002945174463093281,null,0.20058049261569977,0.0,null]},{\\\"showlegend\\\":false,\\\"mode\\\":\\\"lines\\\",\\\"xaxis\\\":\\\"x2\\\",\\\"line\\\":{\\\"color\\\":\\\"#666666\\\"},\\\"y\\\":[28.11930754242321,31.41834564809987,null,28.11930754242321,28.11930754242321,null,31.41834564809987,31.41834564809987,null],\\\"type\\\":\\\"scatter\\\",\\\"hoverinfo\\\":\\\"skip\\\",\\\"yaxis\\\":\\\"y\\\",\\\"x\\\":[0.15115052461624146,0.15115052461624146,null,0.15115052461624146,0.06525612622499466,null,0.15115052461624146,0.13571736216545105,null]},{\\\"showlegend\\\":false,\\\"mode\\\":\\\"lines\\\",\\\"xaxis\\\":\\\"x2\\\",\\\"line\\\":{\\\"color\\\":\\\"#666666\\\"},\\\"y\\\":[29.76882659526154,33.35135834999209,null,29.76882659526154,29.76882659526154,null,33.35135834999209,33.35135834999209,null],\\\"type\\\":\\\"scatter\\\",\\\"hoverinfo\\\":\\\"skip\\\",\\\"yaxis\\\":\\\"y\\\",\\\"x\\\":[0.1660998910665512,0.1660998910665512,null,0.1660998910665512,0.15115052461624146,null,0.1660998910665512,0.0,null]},{\\\"showlegend\\\":false,\\\"mode\\\":\\\"lines\\\",\\\"xaxis\\\":\\\"x2\\\",\\\"line\\\":{\\\"color\\\":\\\"#666666\\\"},\\\"y\\\":[6.9686269665968865,11.023553429698058,null,6.9686269665968865,6.9686269665968865,null,11.023553429698058,11.023553429698058,null],\\\"type\\\":\\\"scatter\\\",\\\"hoverinfo\\\":\\\"skip\\\",\\\"yaxis\\\":\\\"y\\\",\\\"x\\\":[0.14107495546340942,0.14107495546340942,null,0.14107495546340942,0.11601859331130981,null,0.14107495546340942,0.1225925087928772,null]},{\\\"showlegend\\\":false,\\\"mode\\\":\\\"lines\\\",\\\"xaxis\\\":\\\"x2\\\",\\\"line\\\":{\\\"color\\\":\\\"#666666\\\"},\\\"y\\\":[13.755604237266937,13.755604237266937,14.755604237266937,14.755604237266937],\\\"type\\\":\\\"scatter\\\",\\\"fill\\\":\\\"toself\\\",\\\"hoverinfo\\\":\\\"skip\\\",\\\"yaxis\\\":\\\"y\\\",\\\"x\\\":[0.0,0.006055848207324743,0.006055848207324743,0.0]},{\\\"showlegend\\\":false,\\\"mode\\\":\\\"lines\\\",\\\"xaxis\\\":\\\"x2\\\",\\\"line\\\":{\\\"color\\\":\\\"#666666\\\"},\\\"y\\\":[29.61930754242321,29.61930754242321,31.35135834999209,31.35135834999209],\\\"type\\\":\\\"scatter\\\",\\\"fill\\\":\\\"toself\\\",\\\"hoverinfo\\\":\\\"skip\\\",\\\"yaxis\\\":\\\"y\\\",\\\"x\\\":[0.0,0.12287810444831848,0.12287810444831848,0.0]},{\\\"showlegend\\\":false,\\\"mode\\\":\\\"lines\\\",\\\"xaxis\\\":\\\"x2\\\",\\\"line\\\":{\\\"color\\\":\\\"#666666\\\"},\\\"y\\\":[26.11930754242321,31.560092472626813,null,26.11930754242321,26.11930754242321,null,31.560092472626813,31.560092472626813,null],\\\"type\\\":\\\"scatter\\\",\\\"hoverinfo\\\":\\\"skip\\\",\\\"yaxis\\\":\\\"y\\\",\\\"x\\\":[0.1759122610092163,0.1759122610092163,null,0.1759122610092163,0.03024378977715969,null,0.1759122610092163,0.1660998910665512,null]},{\\\"showlegend\\\":false,\\\"mode\\\":\\\"lines\\\",\\\"xaxis\\\":\\\"x2\\\",\\\"line\\\":{\\\"color\\\":\\\"#666666\\\"},\\\"y\\\":[9.291502622129181,9.291502622129181,12.755604237266937,12.755604237266937],\\\"type\\\":\\\"scatter\\\",\\\"fill\\\":\\\"toself\\\",\\\"hoverinfo\\\":\\\"skip\\\",\\\"yaxis\\\":\\\"y\\\",\\\"x\\\":[0.0,0.1225925087928772,0.1225925087928772,0.0]},{\\\"showlegend\\\":false,\\\"mode\\\":\\\"markers\\\",\\\"xaxis\\\":\\\"x2\\\",\\\"marker\\\":{\\\"color\\\":\\\"#666666\\\",\\\"size\\\":[4,8,4,8,4,4,4,8,8,4,4,8,4,8,8,8,4,8,4,4,4,4,8,4,4,4,4,4,8,4,4]},\\\"y\\\":[28.83970000752501,35.390606829520415,36.66385834999209,16.980349108658526,30.42985530904874,15.756063707802609,15.617976672962731,21.91220076123666,24.11930754242321,31.41834564809987,2.3228756555322954,34.85135834999209,6.9686269665968865,23.061526496566408,36.85135834999209,26.11930754242321,24.195852268105387,10.732446163612403,26.479503774974113,3.4843134832984433,17.980578843926363,12.307033435555102,28.11930754242321,38.47635834999209,37.60135834999209,29.76882659526154,31.560092472626813,8.996090198147472,14.255604237266937,30.48533294620765,11.023553429698058],\\\"type\\\":\\\"scatter\\\",\\\"customdata\\\":[[115,10],[124,22],[121,6],[81,7],[122,21],[114,31],[109,9],[101,3],[69,2],[107,5],[96,8],[91,2],[102,8],[125,63],[65,2],[84,2],[119,15],[123,41],[116,12],[110,9],[118,32],[111,30],[90,2],[120,4],[117,3],[112,7],[113,8],[108,21],[70,2],[106,4],[105,13]],\\\"yaxis\\\":\\\"y\\\",\\\"hovertemplate\\\":\\\"ID: %{customdata[0]}<br>\\\\nHeight: %{x:.3f}<br>\\\\nGenome count: %{customdata[1]}\\\\n\\\\n<extra><\\/extra>\\\",\\\"x\\\":[0.1759122610092163,0.2889243960380554,0.2299281507730484,0.027423115447163582,0.24265146255493164,0.1682233214378357,0.1432751566171646,0.11219411343336105,0.004928806331008673,0.13571736216545105,0.09666447341442108,0.07080958038568497,0.11601859331130981,0.4156765341758728,0.002945174463093281,0.03024378977715969,0.2100716531276703,0.2738444209098816,0.19043199717998505,0.14826595783233643,0.20563814043998718,0.14886529743671417,0.06525612622499466,0.21284879744052887,0.20058049261569977,0.15115052461624146,0.1660998910665512,0.14107495546340942,0.006055848207324743,0.12287810444831848,0.1225925087928772]},{\\\"marker\\\":{\\\"symbol\\\":\\\"line-ns\\\",\\\"color\\\":\\\"green\\\",\\\"line\\\":{\\\"color\\\":\\\"green\\\",\\\"width\\\":1}},\\\"mode\\\":\\\"markers\\\",\\\"xaxis\\\":\\\"x2\\\",\\\"y\\\":[-1,-1],\\\"type\\\":\\\"scatter\\\",\\\"text\\\":[\\\"pertussis\\\"],\\\"hovertemplate\\\":\\\"%{text} <br>\\\\n%{x}\\\\n<extra><\\/extra>\\\\n\\\",\\\"x\\\":[0.39392972]}],{\\\"showlegend\\\":false,\\\"xaxis\\\":{\\\"scaleanchor\\\":\\\"y\\\",\\\"visible\\\":false,\\\"domain\\\":[0.504950495049505,1.0]},\\\"hovermode\\\":\\\"closest\\\",\\\"xaxis2\\\":{\\\"rangemode\\\":\\\"nonnegative\\\",\\\"spikethickness\\\":1,\\\"showspikes\\\":true,\\\"domain\\\":[0.0,0.49504950495049505],\\\"spikemode\\\":\\\"across\\\",\\\"autorange\\\":\\\"reversed\\\",\\\"spikedash\\\":\\\"solid\\\"},\\\"height\\\":550,\\\"margin\\\":{\\\"l\\\":50,\\\"b\\\":50,\\\"r\\\":50,\\\"t\\\":60},\\\"yaxis\\\":{\\\"scaleanchor\\\":\\\"x\\\",\\\"visible\\\":false},\\\"width\\\":1000},{}); gd.on(\\\"plotly_hover\\\",(function (data){var filtered_data=WebIO.PlotlyCommands.filterEventData(gd,data,\\\"hover\\\"); return !(filtered_data.isnil) ? (WebIO.setval({\\\"name\\\":\\\"hover\\\",\\\"scope\\\":\\\"4493335779360476373\\\",\\\"id\\\":\\\"9203975660417929247\\\",\\\"type\\\":\\\"observable\\\"},filtered_data.out)) : undefined})); gd.on(\\\"plotly_unhover\\\",(function (){return WebIO.setval({\\\"name\\\":\\\"hover\\\",\\\"scope\\\":\\\"4493335779360476373\\\",\\\"id\\\":\\\"9203975660417929247\\\",\\\"type\\\":\\\"observable\\\"},{})})); gd.on(\\\"plotly_selected\\\",(function (data){var filtered_data=WebIO.PlotlyCommands.filterEventData(gd,data,\\\"selected\\\"); return !(filtered_data.isnil) ? (WebIO.setval({\\\"name\\\":\\\"selected\\\",\\\"scope\\\":\\\"4493335779360476373\\\",\\\"id\\\":\\\"6279034646942338306\\\",\\\"type\\\":\\\"observable\\\"},filtered_data.out)) : undefined})); gd.on(\\\"plotly_deselect\\\",(function (){return WebIO.setval({\\\"name\\\":\\\"selected\\\",\\\"scope\\\":\\\"4493335779360476373\\\",\\\"id\\\":\\\"6279034646942338306\\\",\\\"type\\\":\\\"observable\\\"},{})})); gd.on(\\\"plotly_relayout\\\",(function (data){var filtered_data=WebIO.PlotlyCommands.filterEventData(gd,data,\\\"relayout\\\"); return !(filtered_data.isnil) ? (WebIO.setval({\\\"name\\\":\\\"relayout\\\",\\\"scope\\\":\\\"4493335779360476373\\\",\\\"id\\\":\\\"13591204877523120691\\\",\\\"type\\\":\\\"observable\\\"},filtered_data.out)) : undefined})); return gd.on(\\\"plotly_click\\\",(function (data){var filtered_data=WebIO.PlotlyCommands.filterEventData(gd,data,\\\"click\\\"); return !(filtered_data.isnil) ? (WebIO.setval({\\\"name\\\":\\\"click\\\",\\\"scope\\\":\\\"4493335779360476373\\\",\\\"id\\\":\\\"17097472785684627046\\\",\\\"type\\\":\\\"observable\\\"},filtered_data.out)) : undefined}))}));\\n    (WebIO.importBlock({\\\"data\\\":[{\\\"name\\\":\\\"Plotly\\\",\\\"type\\\":\\\"js\\\",\\\"url\\\":\\\"\\/assetserver\\/e6903599031aaef8675931dfcd7df98a1aeffbfc-plotly-latest.min.js\\\"},{\\\"name\\\":null,\\\"type\\\":\\\"js\\\",\\\"url\\\":\\\"\\/assetserver\\/74a5dea81f21b0b802ef1ee92f1c8a504eac1a0c-plotly_webio.bundle.js\\\"}],\\\"type\\\":\\\"async_block\\\"})).then((imports) => handler.apply(this, imports));\\n}\\n\"],\"observables\":{\"_toImage\":{\"sync\":false,\"id\":\"16130055829436632029\",\"value\":{}},\"hover\":{\"sync\":false,\"id\":\"9203975660417929247\",\"value\":{}},\"selected\":{\"sync\":false,\"id\":\"6279034646942338306\",\"value\":{}},\"__gd_contents\":{\"sync\":false,\"id\":\"18033559716430301503\",\"value\":{}},\"click\":{\"sync\":false,\"id\":\"17097472785684627046\",\"value\":{}},\"image\":{\"sync\":true,\"id\":\"3031222703097462424\",\"value\":\"\"},\"__get_gd_contents\":{\"sync\":false,\"id\":\"12468661463477274980\",\"value\":\"\"},\"_downloadImage\":{\"sync\":false,\"id\":\"504249272793175276\",\"value\":{}},\"relayout\":{\"sync\":false,\"id\":\"13591204877523120691\",\"value\":{}},\"_commands\":{\"sync\":false,\"id\":\"1114536672408003088\",\"value\":[]}}},\"children\":[{\"props\":{\"id\":\"plot-1e8bfe05-b381-4593-b20c-16d8f361449d\"},\"nodeType\":\"DOM\",\"type\":\"node\",\"instanceArgs\":{\"namespace\":\"html\",\"tag\":\"div\"},\"children\":[]}]},\n",
       "            window,\n",
       "        );\n",
       "    } else {\n",
       "        document\n",
       "            .querySelector('[data-webio-mountpoint=\"4183371503492255909\"]')\n",
       "            .innerHTML = (\n",
       "                '<div style=\"padding: 1em; background-color: #f8d6da; border: 1px solid #f5c6cb\">' +\n",
       "                '<p><strong>WebIO not detected.</strong></p>' +\n",
       "                '<p>Please read ' +\n",
       "                '<a href=\"https://juliagizmos.github.io/WebIO.jl/latest/troubleshooting/not-detected/\" target=\"_blank\">the troubleshooting guide</a> ' +\n",
       "                'for more information on how to resolve this issue.</p>' +\n",
       "                '<p><a href=\"https://juliagizmos.github.io/WebIO.jl/latest/troubleshooting/not-detected/\" target=\"_blank\">https://juliagizmos.github.io/WebIO.jl/latest/troubleshooting/not-detected/</a></p>' +\n",
       "                '</div>'\n",
       "            );\n",
       "    }\n",
       "    </script>\n",
       "</div>\n"
      ],
      "text/plain": [
       "data: [\n",
       "  \"heatmap with fields colorscale, type, x, y, and z\",\n",
       "  \"scatter with fields hoverinfo, line, mode, showlegend, type, x, xaxis, y, and yaxis\",\n",
       "  \"scatter with fields hoverinfo, line, mode, showlegend, type, x, xaxis, y, and yaxis\",\n",
       "  \"scatter with fields fill, hoverinfo, line, mode, showlegend, type, x, xaxis, y, and yaxis\",\n",
       "  \"scatter with fields hoverinfo, line, mode, showlegend, type, x, xaxis, y, and yaxis\",\n",
       "  \"scatter with fields hoverinfo, line, mode, showlegend, type, x, xaxis, y, and yaxis\",\n",
       "  \"scatter with fields hoverinfo, line, mode, showlegend, type, x, xaxis, y, and yaxis\",\n",
       "  \"scatter with fields fill, hoverinfo, line, mode, showlegend, type, x, xaxis, y, and yaxis\",\n",
       "  \"scatter with fields fill, hoverinfo, line, mode, showlegend, type, x, xaxis, y, and yaxis\",\n",
       "  \"scatter with fields hoverinfo, line, mode, showlegend, type, x, xaxis, y, and yaxis\",\n",
       "  \"scatter with fields fill, hoverinfo, line, mode, showlegend, type, x, xaxis, y, and yaxis\",\n",
       "  \"scatter with fields fill, hoverinfo, line, mode, showlegend, type, x, xaxis, y, and yaxis\",\n",
       "  \"scatter with fields fill, hoverinfo, line, mode, showlegend, type, x, xaxis, y, and yaxis\",\n",
       "  \"scatter with fields hoverinfo, line, mode, showlegend, type, x, xaxis, y, and yaxis\",\n",
       "  \"scatter with fields fill, hoverinfo, line, mode, showlegend, type, x, xaxis, y, and yaxis\",\n",
       "  \"scatter with fields fill, hoverinfo, line, mode, showlegend, type, x, xaxis, y, and yaxis\",\n",
       "  \"scatter with fields hoverinfo, line, mode, showlegend, type, x, xaxis, y, and yaxis\",\n",
       "  \"scatter with fields hoverinfo, line, mode, showlegend, type, x, xaxis, y, and yaxis\",\n",
       "  \"scatter with fields hoverinfo, line, mode, showlegend, type, x, xaxis, y, and yaxis\",\n",
       "  \"scatter with fields hoverinfo, line, mode, showlegend, type, x, xaxis, y, and yaxis\",\n",
       "  \"scatter with fields hoverinfo, line, mode, showlegend, type, x, xaxis, y, and yaxis\",\n",
       "  \"scatter with fields hoverinfo, line, mode, showlegend, type, x, xaxis, y, and yaxis\",\n",
       "  \"scatter with fields fill, hoverinfo, line, mode, showlegend, type, x, xaxis, y, and yaxis\",\n",
       "  \"scatter with fields hoverinfo, line, mode, showlegend, type, x, xaxis, y, and yaxis\",\n",
       "  \"scatter with fields hoverinfo, line, mode, showlegend, type, x, xaxis, y, and yaxis\",\n",
       "  \"scatter with fields hoverinfo, line, mode, showlegend, type, x, xaxis, y, and yaxis\",\n",
       "  \"scatter with fields hoverinfo, line, mode, showlegend, type, x, xaxis, y, and yaxis\",\n",
       "  \"scatter with fields hoverinfo, line, mode, showlegend, type, x, xaxis, y, and yaxis\",\n",
       "  \"scatter with fields fill, hoverinfo, line, mode, showlegend, type, x, xaxis, y, and yaxis\",\n",
       "  \"scatter with fields fill, hoverinfo, line, mode, showlegend, type, x, xaxis, y, and yaxis\",\n",
       "  \"scatter with fields hoverinfo, line, mode, showlegend, type, x, xaxis, y, and yaxis\",\n",
       "  \"scatter with fields fill, hoverinfo, line, mode, showlegend, type, x, xaxis, y, and yaxis\",\n",
       "  \"scatter with fields customdata, hovertemplate, marker, mode, showlegend, type, x, xaxis, y, and yaxis\",\n",
       "  \"scatter with fields hovertemplate, marker, mode, text, type, x, xaxis, and y\"\n",
       "]\n",
       "\n",
       "layout: \"layout with fields height, hovermode, margin, showlegend, width, xaxis, xaxis2, and yaxis\"\n",
       "\n"
      ]
     },
     "execution_count": 5,
     "metadata": {},
     "output_type": "execute_result"
    }
   ],
   "source": [
    "let taxon = \"bronchiseptica\"\n",
    "    trees[taxon] = cluster_annotate(cdata, taxon)\n",
    "    plot(clustermap(cdata, trees[taxon]))\n",
    "end"
   ]
  },
  {
   "cell_type": "code",
   "execution_count": 6,
   "id": "frank-monte",
   "metadata": {},
   "outputs": [
    {
     "data": {
      "text/plain": [
       "0.35"
      ]
     },
     "execution_count": 6,
     "metadata": {},
     "output_type": "execute_result"
    }
   ],
   "source": [
    "set_threshold!(edits, \"bronchiseptica\", .35)"
   ]
  },
  {
   "cell_type": "markdown",
   "id": "corrected-peter",
   "metadata": {},
   "source": [
    "## Finish"
   ]
  },
  {
   "cell_type": "code",
   "execution_count": 7,
   "id": "identical-disposition",
   "metadata": {},
   "outputs": [
    {
     "data": {
      "text/html": [
       "<table class=\"data-frame\"><thead><tr><th></th><th>index</th><th>name</th><th>ngenomes</th><th>initial_diameter</th><th>taxon_removed</th><th>removed_genomes</th><th>split</th><th>manual_threshold</th><th>final_diameter</th></tr><tr><th></th><th>Int64</th><th>SubStri…</th><th>Int64</th><th>Float32</th><th>Bool</th><th>Int64</th><th>String</th><th>Float64?</th><th>String</th></tr></thead><tbody><p>1 rows × 9 columns</p><tr><th>1</th><td>1</td><td>bronchiseptica</td><td>63</td><td>0.415677</td><td>0</td><td>0</td><td></td><td>0.35</td><td>0.4157</td></tr></tbody></table>"
      ],
      "text/latex": [
       "\\begin{tabular}{r|ccccccccc}\n",
       "\t& index & name & ngenomes & initial\\_diameter & taxon\\_removed & removed\\_genomes & split & manual\\_threshold & final\\_diameter\\\\\n",
       "\t\\hline\n",
       "\t& Int64 & SubStri… & Int64 & Float32 & Bool & Int64 & String & Float64? & String\\\\\n",
       "\t\\hline\n",
       "\t1 & 1 & bronchiseptica & 63 & 0.415677 & 0 & 0 &  & 0.35 & 0.4157 \\\\\n",
       "\\end{tabular}\n"
      ],
      "text/plain": [
       "\u001b[1m1×9 DataFrame\u001b[0m\n",
       "\u001b[1m Row \u001b[0m│\u001b[1m index \u001b[0m\u001b[1m name           \u001b[0m\u001b[1m ngenomes \u001b[0m\u001b[1m initial_diameter \u001b[0m\u001b[1m taxon_removed \u001b[0m\u001b[1m removed_genomes \u001b[0m\u001b[1m split  \u001b[0m\u001b[1m manual_threshold \u001b[0m\u001b[1m final_diameter \u001b[0m\n",
       "\u001b[1m     \u001b[0m│\u001b[90m Int64 \u001b[0m\u001b[90m SubStrin…      \u001b[0m\u001b[90m Int64    \u001b[0m\u001b[90m Float32          \u001b[0m\u001b[90m Bool          \u001b[0m\u001b[90m Int64           \u001b[0m\u001b[90m String \u001b[0m\u001b[90m Float64?         \u001b[0m\u001b[90m String         \u001b[0m\n",
       "─────┼─────────────────────────────────────────────────────────────────────────────────────────────────────────────────────────────\n",
       "   1 │     1  bronchiseptica        63          0.415677          false                0                      0.35  0.4157"
      ]
     },
     "execution_count": 7,
     "metadata": {},
     "output_type": "execute_result"
    }
   ],
   "source": [
    "complete_edits(edits)"
   ]
  }
 ],
 "metadata": {
  "@webio": {
   "lastCommId": "33667e0b-06d6-4432-bd39-6922c96fb2af",
   "lastKernelId": "2dfce4b9-11b7-4c9d-9989-bbdc0fb10af9"
  },
  "kernelspec": {
   "display_name": "Julia 1.5.1",
   "language": "julia",
   "name": "julia-1.5"
  },
  "language_info": {
   "file_extension": ".jl",
   "mimetype": "application/julia",
   "name": "julia",
   "version": "1.5.1"
  }
 },
 "nbformat": 4,
 "nbformat_minor": 5
}
