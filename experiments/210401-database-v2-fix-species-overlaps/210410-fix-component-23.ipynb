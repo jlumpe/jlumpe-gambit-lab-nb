{
 "cells": [
  {
   "cell_type": "markdown",
   "id": "described-magnitude",
   "metadata": {},
   "source": [
    "# 210410 Fix Component 23"
   ]
  },
  {
   "cell_type": "code",
   "execution_count": 1,
   "id": "injured-resistance",
   "metadata": {},
   "outputs": [],
   "source": [
    "const COMPONENT = 23;"
   ]
  },
  {
   "cell_type": "code",
   "execution_count": 2,
   "id": "civic-devices",
   "metadata": {},
   "outputs": [
    {
     "data": {
      "text/html": [
       "<script>\n",
       "// Immediately-invoked-function-expression to avoid global variables.\n",
       "(function() {\n",
       "    var warning_div = document.getElementById(\"webio-warning-551159909398291194\");\n",
       "    var hide = function () {\n",
       "        var script = document.getElementById(\"webio-setup-6829696328809543177\");\n",
       "        var parent = script && script.parentElement;\n",
       "        var grandparent = parent && parent.parentElement;\n",
       "        if (grandparent) {\n",
       "            grandparent.style.display = \"none\";\n",
       "        }\n",
       "        warning_div.style.display = \"none\";\n",
       "    };\n",
       "    if (typeof Jupyter !== \"undefined\") {\n",
       "        console.log(\"WebIO detected Jupyter notebook environment.\");\n",
       "        // Jupyter notebook.\n",
       "        var extensions = (\n",
       "            Jupyter\n",
       "            && Jupyter.notebook.config.data\n",
       "            && Jupyter.notebook.config.data.load_extensions\n",
       "        );\n",
       "        if (extensions && extensions[\"webio-jupyter-notebook\"]) {\n",
       "            // Extension already loaded.\n",
       "            console.log(\"Jupyter WebIO nbextension detected; not loading ad-hoc.\");\n",
       "            hide();\n",
       "            return;\n",
       "        }\n",
       "    } else if (window.location.pathname.includes(\"/lab\")) {\n",
       "        // Guessing JupyterLa\n",
       "        console.log(\"Jupyter Lab detected; make sure the @webio/jupyter-lab-provider labextension is installed.\");\n",
       "        hide();\n",
       "        return;\n",
       "    }\n",
       "})();\n",
       "\n",
       "</script>\n",
       "<p\n",
       "    id=\"webio-warning-551159909398291194\"\n",
       "    class=\"output_text output_stderr\"\n",
       "    style=\"padding: 1em; font-weight: bold;\"\n",
       ">\n",
       "    Unable to load WebIO. Please make sure WebIO works for your Jupyter client.\n",
       "    For troubleshooting, please see <a href=\"https://juliagizmos.github.io/WebIO.jl/latest/providers/ijulia/\">\n",
       "    the WebIO/IJulia documentation</a>.\n",
       "    <!-- TODO: link to installation docs. -->\n",
       "</p>\n"
      ],
      "text/plain": [
       "HTML{String}(\"<script>\\n// Immediately-invoked-function-expression to avoid global variables.\\n(function() {\\n    var warning_div = document.getElementById(\\\"webio-warning-551159909398291194\\\");\\n    var hide = function () {\\n        var script = document.getElementById(\\\"webio-setup-6829696328809543177\\\");\\n        var parent = script && script.parentElement;\\n        var grandparent = parent && parent.parentElement;\\n        if (grandparent) {\\n            grandparent.style.display = \\\"none\\\";\\n        }\\n        warning_div.style.display = \\\"none\\\";\\n    };\\n    if (typeof Jupyter !== \\\"undefined\\\") {\\n        console.log(\\\"WebIO detected Jupyter notebook environment.\\\");\\n        // Jupyter notebook.\\n        var extensions = (\\n            Jupyter\\n            && Jupyter.notebook.config.data\\n            && Jupyter.notebook.config.data.load_extensions\\n        );\\n        if (extensions && extensions[\\\"webio-jupyter-notebook\\\"]) {\\n            // Extension already loaded.\\n            console.log(\\\"Jupyter WebIO nbextension detected; not loading ad-hoc.\\\");\\n            hide();\\n            return;\\n        }\\n    } else if (window.location.pathname.includes(\\\"/lab\\\")) {\\n        // Guessing JupyterLa\\n        console.log(\\\"Jupyter Lab detected; make sure the @webio/jupyter-lab-provider labextension is installed.\\\");\\n        hide();\\n        return;\\n    }\\n})();\\n\\n</script>\\n<p\\n    id=\\\"webio-warning-551159909398291194\\\"\\n    class=\\\"output_text output_stderr\\\"\\n    style=\\\"padding: 1em; font-weight: bold;\\\"\\n>\\n    Unable to load WebIO. Please make sure WebIO works for your Jupyter client.\\n    For troubleshooting, please see <a href=\\\"https://juliagizmos.github.io/WebIO.jl/latest/providers/ijulia/\\\">\\n    the WebIO/IJulia documentation</a>.\\n    <!-- TODO: link to installation docs. -->\\n</p>\\n\")"
      ]
     },
     "metadata": {},
     "output_type": "display_data"
    },
    {
     "data": {
      "text/html": [
       "<table class=\"data-frame\"><thead><tr><th></th><th>id</th><th>ncbi_id</th><th>name</th><th>rank</th><th>parent_id</th><th>in_v12</th><th>manual_threshold</th><th>report</th><th>ngenomes</th><th>comp_idx</th><th>diameter</th><th>outgoing</th><th>incoming</th><th>name_abbr</th></tr><tr><th></th><th>Int64</th><th>Int64?</th><th>String</th><th>String?</th><th>Int64?</th><th>Bool</th><th>Float64</th><th>Bool</th><th>Int64</th><th>Int64</th><th>Float32</th><th>Int64</th><th>Int64</th><th>SubStri…</th></tr></thead><tbody><p>2 rows × 14 columns</p><tr><th>1</th><td>735</td><td>851</td><td>Fusobacterium nucleatum</td><td>species</td><td>223</td><td>1</td><td>NaN</td><td>1</td><td>33</td><td>1</td><td>0.891486</td><td>1</td><td>0</td><td>nucleatum</td></tr><tr><th>2</th><td>1101</td><td>1583098</td><td>Fusobacterium hwasookii</td><td>species</td><td>223</td><td>1</td><td>NaN</td><td>1</td><td>8</td><td>2</td><td>0.496441</td><td>0</td><td>1</td><td>hwasookii</td></tr></tbody></table>"
      ],
      "text/latex": [
       "\\begin{tabular}{r|cccccccccccccc}\n",
       "\t& id & ncbi\\_id & name & rank & parent\\_id & in\\_v12 & manual\\_threshold & report & ngenomes & comp\\_idx & diameter & outgoing & incoming & name\\_abbr\\\\\n",
       "\t\\hline\n",
       "\t& Int64 & Int64? & String & String? & Int64? & Bool & Float64 & Bool & Int64 & Int64 & Float32 & Int64 & Int64 & SubStri…\\\\\n",
       "\t\\hline\n",
       "\t1 & 735 & 851 & Fusobacterium nucleatum & species & 223 & 1 & NaN & 1 & 33 & 1 & 0.891486 & 1 & 0 & nucleatum \\\\\n",
       "\t2 & 1101 & 1583098 & Fusobacterium hwasookii & species & 223 & 1 & NaN & 1 & 8 & 2 & 0.496441 & 0 & 1 & hwasookii \\\\\n",
       "\\end{tabular}\n"
      ],
      "text/plain": [
       "\u001b[1m2×14 DataFrame\u001b[0m\n",
       "\u001b[1m Row \u001b[0m│\u001b[1m id    \u001b[0m\u001b[1m ncbi_id \u001b[0m\u001b[1m name                    \u001b[0m\u001b[1m rank    \u001b[0m\u001b[1m parent_id \u001b[0m\u001b[1m in_v12 \u001b[0m\u001b[1m manual_threshold \u001b[0m\u001b[1m report \u001b[0m\u001b[1m ngenomes \u001b[0m\u001b[1m comp_idx \u001b[0m\u001b[1m diameter \u001b[0m\u001b[1m outgoing \u001b[0m\u001b[1m incoming \u001b[0m\u001b[1m name_abbr \u001b[0m\n",
       "\u001b[1m     \u001b[0m│\u001b[90m Int64 \u001b[0m\u001b[90m Int64?  \u001b[0m\u001b[90m String                  \u001b[0m\u001b[90m String? \u001b[0m\u001b[90m Int64?    \u001b[0m\u001b[90m Bool   \u001b[0m\u001b[90m Float64          \u001b[0m\u001b[90m Bool   \u001b[0m\u001b[90m Int64    \u001b[0m\u001b[90m Int64    \u001b[0m\u001b[90m Float32  \u001b[0m\u001b[90m Int64    \u001b[0m\u001b[90m Int64    \u001b[0m\u001b[90m SubStrin… \u001b[0m\n",
       "─────┼────────────────────────────────────────────────────────────────────────────────────────────────────────────────────────────────────────────────────────────\n",
       "   1 │   735      851  Fusobacterium nucleatum  species        223    true              NaN     true        33         1  0.891486         1         0  nucleatum\n",
       "   2 │  1101  1583098  Fusobacterium hwasookii  species        223    true              NaN     true         8         2  0.496441         0         1  hwasookii"
      ]
     },
     "metadata": {},
     "output_type": "display_data"
    }
   ],
   "source": [
    "include(\"fix-component-base.jl\");"
   ]
  },
  {
   "cell_type": "code",
   "execution_count": 3,
   "id": "everyday-milton",
   "metadata": {},
   "outputs": [],
   "source": [
    "trees = Dict{String, Any}();"
   ]
  },
  {
   "cell_type": "code",
   "execution_count": 4,
   "id": "geographic-finger",
   "metadata": {},
   "outputs": [
    {
     "data": {
      "application/vnd.plotly.v1+json": {
       "data": [
        {
         "hoverinfo": "skip",
         "line": {
          "color": "#FFBB78"
         },
         "mode": "lines",
         "showlegend": false,
         "type": "scatter",
         "x": [
          2,
          5.25,
          null,
          2,
          2,
          null,
          5.25,
          5.25,
          null
         ],
         "y": [
          0.4964412748813629,
          0.4964412748813629,
          null,
          0.4964412748813629,
          0.3124241232872009,
          null,
          0.4964412748813629,
          0.4465169310569763,
          null
         ],
         "yaxis": "y"
        },
        {
         "fill": "toself",
         "hoverinfo": "skip",
         "line": {
          "color": "#AEC7E8"
         },
         "mode": "lines",
         "showlegend": false,
         "type": "scatter",
         "x": [
          12,
          12,
          13,
          13
         ],
         "y": [
          0,
          0.01225490216165781,
          0.01225490216165781,
          0
         ],
         "yaxis": "y"
        },
        {
         "fill": "toself",
         "hoverinfo": "skip",
         "line": {
          "color": "#AEC7E8"
         },
         "mode": "lines",
         "showlegend": false,
         "type": "scatter",
         "x": [
          31.06449510224598,
          31.06449510224598,
          32.064495102245985,
          32.064495102245985
         ],
         "y": [
          0,
          0.1703633815050125,
          0.1703633815050125,
          0
         ],
         "yaxis": "y"
        },
        {
         "hoverinfo": "skip",
         "line": {
          "color": "#AEC7E8"
         },
         "mode": "lines",
         "showlegend": false,
         "type": "scatter",
         "x": [
          17.758883476483184,
          24.414213562373096,
          null,
          17.758883476483184,
          17.758883476483184,
          null,
          24.414213562373096,
          24.414213562373096,
          null
         ],
         "y": [
          0.6237499713897705,
          0.6237499713897705,
          null,
          0.6237499713897705,
          0.5678813457489014,
          null,
          0.6237499713897705,
          0,
          null
         ],
         "yaxis": "y"
        },
        {
         "hoverinfo": "skip",
         "line": {
          "color": "#666666"
         },
         "mode": "lines",
         "showlegend": false,
         "type": "scatter",
         "x": [
          6.25,
          25.429515749232156,
          null,
          6.25,
          6.25,
          null,
          25.429515749232156,
          25.429515749232156,
          null
         ],
         "y": [
          0.9098557829856873,
          0.9098557829856873,
          null,
          0.9098557829856873,
          0.8102660775184631,
          null,
          0.9098557829856873,
          0.8681948184967041,
          null
         ],
         "yaxis": "y"
        },
        {
         "hoverinfo": "skip",
         "line": {
          "color": "#AEC7E8"
         },
         "mode": "lines",
         "showlegend": false,
         "type": "scatter",
         "x": [
          21.086548519428142,
          29.77248297903617,
          null,
          21.086548519428142,
          21.086548519428142,
          null,
          29.77248297903617,
          29.77248297903617,
          null
         ],
         "y": [
          0.8681948184967041,
          0.8681948184967041,
          null,
          0.8681948184967041,
          0.6237499713897705,
          null,
          0.8681948184967041,
          0.8267649412155151,
          null
         ],
         "yaxis": "y"
        },
        {
         "hoverinfo": "skip",
         "line": {
          "color": "#AEC7E8"
         },
         "mode": "lines",
         "showlegend": false,
         "type": "scatter",
         "x": [
          29.35738832105943,
          32.564495102245985,
          null,
          29.35738832105943,
          29.35738832105943,
          null,
          32.564495102245985,
          32.564495102245985,
          null
         ],
         "y": [
          0.5007727742195129,
          0.5007727742195129,
          null,
          0.5007727742195129,
          0.43841516971588135,
          null,
          0.5007727742195129,
          0.4941309988498688,
          null
         ],
         "yaxis": "y"
        },
        {
         "fill": "toself",
         "hoverinfo": "skip",
         "line": {
          "color": "#AEC7E8"
         },
         "mode": "lines",
         "showlegend": false,
         "type": "scatter",
         "x": [
          28.650281539872886,
          28.650281539872886,
          30.06449510224598,
          30.06449510224598
         ],
         "y": [
          0,
          0.43841516971588135,
          0.43841516971588135,
          0
         ],
         "yaxis": "y"
        },
        {
         "fill": "toself",
         "hoverinfo": "skip",
         "line": {
          "color": "#AEC7E8"
         },
         "mode": "lines",
         "showlegend": false,
         "type": "scatter",
         "x": [
          9,
          9,
          10,
          10
         ],
         "y": [
          0,
          0.004932735580950975,
          0.004932735580950975,
          0
         ],
         "yaxis": "y"
        },
        {
         "hoverinfo": "skip",
         "line": {
          "color": "#AEC7E8"
         },
         "mode": "lines",
         "showlegend": false,
         "type": "scatter",
         "x": [
          13.603553390593273,
          21.914213562373096,
          null,
          13.603553390593273,
          13.603553390593273,
          null,
          21.914213562373096,
          21.914213562373096,
          null
         ],
         "y": [
          0.5678813457489014,
          0.5678813457489014,
          null,
          0.5678813457489014,
          0.4625678062438965,
          null,
          0.5678813457489014,
          0.5650663375854492,
          null
         ],
         "yaxis": "y"
        },
        {
         "fill": "toself",
         "hoverinfo": "skip",
         "line": {
          "color": "#AEC7E8"
         },
         "mode": "lines",
         "showlegend": false,
         "type": "scatter",
         "x": [
          25.414213562373096,
          25.414213562373096,
          27.650281539872886,
          27.650281539872886
         ],
         "y": [
          0,
          0.3578336536884308,
          0.3578336536884308,
          0
         ],
         "yaxis": "y"
        },
        {
         "hoverinfo": "skip",
         "line": {
          "color": "#AEC7E8"
         },
         "mode": "lines",
         "showlegend": false,
         "type": "scatter",
         "x": [
          16.914213562373096,
          19.914213562373096,
          null,
          16.914213562373096,
          16.914213562373096,
          null,
          19.914213562373096,
          19.914213562373096,
          null
         ],
         "y": [
          0.488546758890152,
          0.488546758890152,
          null,
          0.488546758890152,
          0.005164319183677435,
          null,
          0.488546758890152,
          0.46563979983329773,
          null
         ],
         "yaxis": "y"
        },
        {
         "fill": "toself",
         "hoverinfo": "skip",
         "line": {
          "color": "#FFBB78"
         },
         "mode": "lines",
         "showlegend": false,
         "type": "scatter",
         "x": [
          1,
          1,
          3,
          3
         ],
         "y": [
          0,
          0.3124241232872009,
          0.3124241232872009,
          0
         ],
         "yaxis": "y"
        },
        {
         "hoverinfo": "skip",
         "line": {
          "color": "#AEC7E8"
         },
         "mode": "lines",
         "showlegend": false,
         "type": "scatter",
         "x": [
          12.5,
          14.707106781186548,
          null,
          12.5,
          12.5,
          null,
          14.707106781186548,
          14.707106781186548,
          null
         ],
         "y": [
          0.4625678062438965,
          0.4625678062438965,
          null,
          0.4625678062438965,
          0.01225490216165781,
          null,
          0.4625678062438965,
          0.23702213168144226,
          null
         ],
         "yaxis": "y"
        },
        {
         "hoverinfo": "skip",
         "line": {
          "color": "#AEC7E8"
         },
         "mode": "lines",
         "showlegend": false,
         "type": "scatter",
         "x": [
          18.914213562373096,
          20.914213562373096,
          null,
          18.914213562373096,
          18.914213562373096,
          null,
          20.914213562373096,
          20.914213562373096,
          null
         ],
         "y": [
          0.46563979983329773,
          0.46563979983329773,
          null,
          0.46563979983329773,
          0.18958428502082825,
          null,
          0.46563979983329773,
          0.3004005253314972,
          null
         ],
         "yaxis": "y"
        },
        {
         "fill": "toself",
         "hoverinfo": "skip",
         "line": {
          "color": "#AEC7E8"
         },
         "mode": "lines",
         "showlegend": false,
         "type": "scatter",
         "x": [
          16.414213562373096,
          16.414213562373096,
          17.414213562373096,
          17.414213562373096
         ],
         "y": [
          0,
          0.005164319183677435,
          0.005164319183677435,
          0
         ],
         "yaxis": "y"
        },
        {
         "hoverinfo": "skip",
         "line": {
          "color": "#AEC7E8"
         },
         "mode": "lines",
         "showlegend": false,
         "type": "scatter",
         "x": [
          9.5,
          11,
          null,
          9.5,
          9.5,
          null,
          11,
          11,
          null
         ],
         "y": [
          0.5588139295578003,
          0.5588139295578003,
          null,
          0.5588139295578003,
          0.004932735580950975,
          null,
          0.5588139295578003,
          0,
          null
         ],
         "yaxis": "y"
        },
        {
         "fill": "toself",
         "hoverinfo": "skip",
         "line": {
          "color": "#AEC7E8"
         },
         "mode": "lines",
         "showlegend": false,
         "type": "scatter",
         "x": [
          14,
          14,
          15.414213562373096,
          15.414213562373096
         ],
         "y": [
          0,
          0.23702213168144226,
          0.23702213168144226,
          0
         ],
         "yaxis": "y"
        },
        {
         "hoverinfo": "skip",
         "line": {
          "color": "#AEC7E8"
         },
         "mode": "lines",
         "showlegend": false,
         "type": "scatter",
         "x": [
          20.414213562373096,
          23.414213562373096,
          null,
          20.414213562373096,
          20.414213562373096,
          null,
          23.414213562373096,
          23.414213562373096,
          null
         ],
         "y": [
          0.5650663375854492,
          0.5650663375854492,
          null,
          0.5650663375854492,
          0.5294764041900635,
          null,
          0.5650663375854492,
          0,
          null
         ],
         "yaxis": "y"
        },
        {
         "hoverinfo": "skip",
         "line": {
          "color": "#AEC7E8"
         },
         "mode": "lines",
         "showlegend": false,
         "type": "scatter",
         "x": [
          30.96094171165271,
          35.064495102245985,
          null,
          30.96094171165271,
          30.96094171165271,
          null,
          35.064495102245985,
          35.064495102245985,
          null
         ],
         "y": [
          0.5448741912841797,
          0.5448741912841797,
          null,
          0.5448741912841797,
          0.5007727742195129,
          null,
          0.5448741912841797,
          0,
          null
         ],
         "yaxis": "y"
        },
        {
         "fill": "toself",
         "hoverinfo": "skip",
         "line": {
          "color": "#AEC7E8"
         },
         "mode": "lines",
         "showlegend": false,
         "type": "scatter",
         "x": [
          33.064495102245985,
          33.064495102245985,
          34.064495102245985,
          34.064495102245985
         ],
         "y": [
          0,
          0.4152263402938843,
          0.4152263402938843,
          0
         ],
         "yaxis": "y"
        },
        {
         "hoverinfo": "skip",
         "line": {
          "color": "#AEC7E8"
         },
         "mode": "lines",
         "showlegend": false,
         "type": "scatter",
         "x": [
          26.532247551122992,
          33.01271840694935,
          null,
          26.532247551122992,
          26.532247551122992,
          null,
          33.01271840694935,
          33.01271840694935,
          null
         ],
         "y": [
          0.8267649412155151,
          0.8267649412155151,
          null,
          0.8267649412155151,
          0.3578336536884308,
          null,
          0.8267649412155151,
          0.5448741912841797,
          null
         ],
         "yaxis": "y"
        },
        {
         "fill": "toself",
         "hoverinfo": "skip",
         "line": {
          "color": "#FFBB78"
         },
         "mode": "lines",
         "showlegend": false,
         "type": "scatter",
         "x": [
          4,
          4,
          5,
          5
         ],
         "y": [
          0,
          0.009385265409946442,
          0.009385265409946442,
          0
         ],
         "yaxis": "y"
        },
        {
         "hoverinfo": "skip",
         "line": {
          "color": "#AEC7E8"
         },
         "mode": "lines",
         "showlegend": false,
         "type": "scatter",
         "x": [
          18.414213562373096,
          22.414213562373096,
          null,
          18.414213562373096,
          18.414213562373096,
          null,
          22.414213562373096,
          22.414213562373096,
          null
         ],
         "y": [
          0.5294764041900635,
          0.5294764041900635,
          null,
          0.5294764041900635,
          0.488546758890152,
          null,
          0.5294764041900635,
          0,
          null
         ],
         "yaxis": "y"
        },
        {
         "hoverinfo": "skip",
         "line": {
          "color": "#FFBB78"
         },
         "mode": "lines",
         "showlegend": false,
         "type": "scatter",
         "x": [
          4.5,
          6,
          null,
          4.5,
          4.5,
          null,
          6,
          6,
          null
         ],
         "y": [
          0.4465169310569763,
          0.4465169310569763,
          null,
          0.4465169310569763,
          0.009385265409946442,
          null,
          0.4465169310569763,
          0,
          null
         ],
         "yaxis": "y"
        },
        {
         "hoverinfo": "skip",
         "line": {
          "color": "#666666"
         },
         "mode": "lines",
         "showlegend": false,
         "type": "scatter",
         "x": [
          3.625,
          8.875,
          null,
          3.625,
          3.625,
          null,
          8.875,
          8.875,
          null
         ],
         "y": [
          0.8102660775184631,
          0.8102660775184631,
          null,
          0.8102660775184631,
          0.4964412748813629,
          null,
          0.8102660775184631,
          0.5844318866729736,
          null
         ],
         "yaxis": "y"
        },
        {
         "hoverinfo": "skip",
         "line": {
          "color": "#AEC7E8"
         },
         "mode": "lines",
         "showlegend": false,
         "type": "scatter",
         "x": [
          31.564495102245985,
          33.564495102245985,
          null,
          31.564495102245985,
          31.564495102245985,
          null,
          33.564495102245985,
          33.564495102245985,
          null
         ],
         "y": [
          0.4941309988498688,
          0.4941309988498688,
          null,
          0.4941309988498688,
          0.1703633815050125,
          null,
          0.4941309988498688,
          0.4152263402938843,
          null
         ],
         "yaxis": "y"
        },
        {
         "fill": "toself",
         "hoverinfo": "skip",
         "line": {
          "color": "#AEC7E8"
         },
         "mode": "lines",
         "showlegend": false,
         "type": "scatter",
         "x": [
          20.414213562373096,
          20.414213562373096,
          21.414213562373096,
          21.414213562373096
         ],
         "y": [
          0,
          0.3004005253314972,
          0.3004005253314972,
          0
         ],
         "yaxis": "y"
        },
        {
         "hoverinfo": "skip",
         "line": {
          "color": "#AEC7E8"
         },
         "mode": "lines",
         "showlegend": false,
         "type": "scatter",
         "x": [
          7,
          8,
          null,
          7,
          7,
          null,
          8,
          8,
          null
         ],
         "y": [
          0.5058441758155823,
          0.5058441758155823,
          null,
          0.5058441758155823,
          0,
          null,
          0.5058441758155823,
          0,
          null
         ],
         "yaxis": "y"
        },
        {
         "hoverinfo": "skip",
         "line": {
          "color": "#AEC7E8"
         },
         "mode": "lines",
         "showlegend": false,
         "type": "scatter",
         "x": [
          7.5,
          10.25,
          null,
          7.5,
          7.5,
          null,
          10.25,
          10.25,
          null
         ],
         "y": [
          0.5844318866729736,
          0.5844318866729736,
          null,
          0.5844318866729736,
          0.5058441758155823,
          null,
          0.5844318866729736,
          0.5588139295578003,
          null
         ],
         "yaxis": "y"
        },
        {
         "fill": "toself",
         "hoverinfo": "skip",
         "line": {
          "color": "#AEC7E8"
         },
         "mode": "lines",
         "showlegend": false,
         "type": "scatter",
         "x": [
          18.414213562373096,
          18.414213562373096,
          19.414213562373096,
          19.414213562373096
         ],
         "y": [
          0,
          0.18958428502082825,
          0.18958428502082825,
          0
         ],
         "yaxis": "y"
        },
        {
         "customdata": [
          [
           68,
           8,
           "hwasookii"
          ],
          [
           47,
           2,
           "nucleatum"
          ],
          [
           50,
           2,
           "nucleatum"
          ],
          [
           77,
           14,
           "nucleatum"
          ],
          [
           81,
           41,
           "(mixed)"
          ],
          [
           80,
           28,
           "nucleatum"
          ],
          [
           69,
           7,
           "nucleatum"
          ],
          [
           62,
           3,
           "nucleatum"
          ],
          [
           43,
           2,
           "nucleatum"
          ],
          [
           75,
           13,
           "nucleatum"
          ],
          [
           60,
           6,
           "nucleatum"
          ],
          [
           66,
           6,
           "nucleatum"
          ],
          [
           58,
           5,
           "hwasookii"
          ],
          [
           64,
           5,
           "nucleatum"
          ],
          [
           65,
           4,
           "nucleatum"
          ],
          [
           44,
           2,
           "nucleatum"
          ],
          [
           73,
           3,
           "nucleatum"
          ],
          [
           53,
           3,
           "nucleatum"
          ],
          [
           74,
           8,
           "nucleatum"
          ],
          [
           72,
           8,
           "nucleatum"
          ],
          [
           61,
           2,
           "nucleatum"
          ],
          [
           79,
           14,
           "nucleatum"
          ],
          [
           45,
           2,
           "hwasookii"
          ],
          [
           71,
           7,
           "nucleatum"
          ],
          [
           63,
           3,
           "hwasookii"
          ],
          [
           78,
           13,
           "(mixed)"
          ],
          [
           67,
           4,
           "nucleatum"
          ],
          [
           56,
           2,
           "nucleatum"
          ],
          [
           70,
           2,
           "nucleatum"
          ],
          [
           76,
           5,
           "nucleatum"
          ],
          [
           52,
           2,
           "nucleatum"
          ]
         ],
         "hovertemplate": "ID: %{customdata[0]}<br>\nHeight: %{y:.3f}<br>\nGenome count: %{customdata[1]}\n<br>\n%{customdata[2]}\n<extra></extra>",
         "marker": {
          "color": [
           "#FFBB78",
           "#AEC7E8",
           "#AEC7E8",
           "#AEC7E8",
           "#666666",
           "#AEC7E8",
           "#AEC7E8",
           "#AEC7E8",
           "#AEC7E8",
           "#AEC7E8",
           "#AEC7E8",
           "#AEC7E8",
           "#FFBB78",
           "#AEC7E8",
           "#AEC7E8",
           "#AEC7E8",
           "#AEC7E8",
           "#AEC7E8",
           "#AEC7E8",
           "#AEC7E8",
           "#AEC7E8",
           "#AEC7E8",
           "#FFBB78",
           "#AEC7E8",
           "#FFBB78",
           "#666666",
           "#AEC7E8",
           "#AEC7E8",
           "#AEC7E8",
           "#AEC7E8",
           "#AEC7E8"
          ],
          "size": [
           8,
           8,
           8,
           8,
           8,
           4,
           4,
           4,
           8,
           8,
           8,
           4,
           8,
           8,
           8,
           8,
           4,
           8,
           4,
           8,
           4,
           4,
           8,
           4,
           8,
           8,
           4,
           8,
           8,
           8,
           8
          ]
         },
         "mode": "markers",
         "showlegend": false,
         "type": "scatter",
         "x": [
          3.625,
          12.5,
          31.564495102245985,
          21.086548519428142,
          15.839757874616078,
          25.429515749232156,
          30.96094171165271,
          29.35738832105943,
          9.5,
          17.758883476483184,
          26.532247551122992,
          18.414213562373096,
          2,
          13.603553390593273,
          19.914213562373096,
          16.914213562373096,
          10.25,
          14.707106781186548,
          21.914213562373096,
          33.01271840694935,
          33.564495102245985,
          29.77248297903617,
          4.5,
          20.414213562373096,
          5.25,
          6.25,
          32.564495102245985,
          20.914213562373096,
          7.5,
          8.875,
          18.914213562373096
         ],
         "y": [
          0.4964412748813629,
          0.01225490216165781,
          0.1703633815050125,
          0.6237499713897705,
          0.9098557829856873,
          0.8681948184967041,
          0.5007727742195129,
          0.43841516971588135,
          0.004932735580950975,
          0.5678813457489014,
          0.3578336536884308,
          0.488546758890152,
          0.3124241232872009,
          0.4625678062438965,
          0.46563979983329773,
          0.005164319183677435,
          0.5588139295578003,
          0.23702213168144226,
          0.5650663375854492,
          0.5448741912841797,
          0.4152263402938843,
          0.8267649412155151,
          0.009385265409946442,
          0.5294764041900635,
          0.4465169310569763,
          0.8102660775184631,
          0.4941309988498688,
          0.3004005253314972,
          0.5058441758155823,
          0.5844318866729736,
          0.18958428502082825
         ],
         "yaxis": "y"
        },
        {
         "colorscale": [
          [
           0,
           "#666666"
          ],
          [
           0.1,
           "#AEC7E8"
          ],
          [
           0.2,
           "#FFBB78"
          ],
          [
           0.3,
           "#98DF8A"
          ],
          [
           0.4,
           "#FF9896"
          ],
          [
           0.5,
           "#C5B0D5"
          ],
          [
           0.6,
           "#C49C94"
          ],
          [
           0.7,
           "#F7B6D2"
          ],
          [
           0.8,
           "#C7C7C7"
          ],
          [
           0.9,
           "#DBDB8D"
          ],
          [
           1,
           "#9EDAE5"
          ]
         ],
         "customdata": [
          [
           [
            "ID 58",
            "hwasookii"
           ],
           [
            "ID 45",
            "hwasookii"
           ],
           [
            "Genome 34",
            "hwasookii"
           ],
           [
            "Genome 27",
            "nucleatum"
           ],
           [
            "Genome 30",
            "nucleatum"
           ],
           [
            "ID 43",
            "nucleatum"
           ],
           [
            "Genome 21",
            "nucleatum"
           ],
           [
            "ID 47",
            "nucleatum"
           ],
           [
            "ID 53",
            "nucleatum"
           ],
           [
            "ID 44",
            "nucleatum"
           ],
           [
            "ID 52",
            "nucleatum"
           ],
           [
            "ID 56",
            "nucleatum"
           ],
           [
            "Genome 23",
            "nucleatum"
           ],
           [
            "Genome 11",
            "nucleatum"
           ],
           [
            "Genome 33",
            "nucleatum"
           ],
           [
            "ID 60",
            "nucleatum"
           ],
           [
            "ID 62",
            "nucleatum"
           ],
           [
            "ID 50",
            "nucleatum"
           ],
           [
            "ID 61",
            "nucleatum"
           ],
           [
            "Genome 9",
            "nucleatum"
           ]
          ]
         ],
         "hovertemplate": "%{customdata[0]} <br>\n%{customdata[1]}\n<extra></extra>\n",
         "showscale": false,
         "type": "heatmap",
         "x": [
          0.5,
          3.5,
          5.5,
          6.5,
          7.5,
          8.5,
          10.5,
          11.5,
          13.5,
          15.914213562373096,
          17.914213562373096,
          19.914213562373096,
          21.914213562373096,
          22.914213562373096,
          23.914213562373096,
          24.914213562373096,
          28.150281539872886,
          30.56449510224598,
          32.564495102245985,
          34.564495102245985,
          35.564495102245985
         ],
         "xgap": 1,
         "yaxis": "y2",
         "z": [
          [
           2,
           2,
           2,
           1,
           1,
           1,
           1,
           1,
           1,
           1,
           1,
           1,
           1,
           1,
           1,
           1,
           1,
           1,
           1,
           1
          ]
         ],
         "zmax": 10,
         "zmin": 0
        }
       ],
       "frames": [],
       "layout": {
        "autosize": true,
        "hovermode": "closest",
        "margin": {
         "b": 50,
         "l": 50,
         "r": 50,
         "t": 60
        },
        "xaxis": {
         "autorange": true,
         "range": [
          0.08260206443492724,
          35.564495102245985
         ],
         "type": "linear",
         "visible": false
        },
        "yaxis": {
         "autorange": true,
         "range": [
          -0.060083729701794014,
          0.9748722482684322
         ],
         "type": "linear"
        },
        "yaxis2": {
         "autorange": true,
         "domain": [
          0,
          0.05
         ],
         "fixedrange": true,
         "range": [
          -0.5,
          0.5
         ],
         "visible": false
        }
       }
      },
      "application/vnd.webio.node+json": {
       "children": [
        {
         "children": [],
         "instanceArgs": {
          "namespace": "html",
          "tag": "div"
         },
         "nodeType": "DOM",
         "props": {
          "id": "plot-469e0ce3-a501-4ba5-9f07-931f62df4ae6"
         },
         "type": "node"
        }
       ],
       "instanceArgs": {
        "handlers": {
         "__get_gd_contents": [
          "(function (prop){prop==\"data\" ? (WebIO.setval({\"name\":\"__gd_contents\",\"scope\":\"888342801436498071\",\"id\":\"5575713333401102834\",\"type\":\"observable\"},this.plotElem.data)) : undefined; return prop==\"layout\" ? (WebIO.setval({\"name\":\"__gd_contents\",\"scope\":\"888342801436498071\",\"id\":\"5575713333401102834\",\"type\":\"observable\"},this.plotElem.layout)) : undefined})"
         ],
         "_commands": [
          "(function (args){var fn=args.shift(); var elem=this.plotElem; var Plotly=this.Plotly; args.unshift(elem); return Plotly[fn].apply(this,args)})"
         ],
         "_downloadImage": [
          "(function (options){return this.Plotly.downloadImage(this.plotElem,options)})"
         ],
         "_toImage": [
          "(function (options){return this.Plotly.toImage(this.plotElem,options).then((function (data){return WebIO.setval({\"name\":\"image\",\"scope\":\"888342801436498071\",\"id\":\"3122268512730439649\",\"type\":\"observable\"},data)}))})"
         ]
        },
        "id": "888342801436498071",
        "imports": {
         "data": [
          {
           "name": "Plotly",
           "type": "js",
           "url": "/assetserver/e6903599031aaef8675931dfcd7df98a1aeffbfc-plotly-latest.min.js"
          },
          {
           "name": null,
           "type": "js",
           "url": "/assetserver/74a5dea81f21b0b802ef1ee92f1c8a504eac1a0c-plotly_webio.bundle.js"
          }
         ],
         "type": "async_block"
        },
        "mount_callbacks": [
         "function () {\n    var handler = ((function (Plotly,PlotlyWebIO){PlotlyWebIO.init(WebIO); var gd=this.dom.querySelector(\"#plot-469e0ce3-a501-4ba5-9f07-931f62df4ae6\"); this.plotElem=gd; this.Plotly=Plotly; (window.Blink!==undefined) ? (gd.style.width=\"100%\", gd.style.height=\"100vh\", gd.style.marginLeft=\"0%\", gd.style.marginTop=\"0vh\") : undefined; window.onresize=(function (){return Plotly.Plots.resize(gd)}); Plotly.newPlot(gd,[{\"showlegend\":false,\"mode\":\"lines\",\"line\":{\"color\":\"#FFBB78\"},\"y\":[0.4964412748813629,0.4964412748813629,null,0.4964412748813629,0.3124241232872009,null,0.4964412748813629,0.4465169310569763,null],\"type\":\"scatter\",\"hoverinfo\":\"skip\",\"yaxis\":\"y1\",\"x\":[2.0,5.25,null,2.0,2.0,null,5.25,5.25,null]},{\"showlegend\":false,\"mode\":\"lines\",\"line\":{\"color\":\"#AEC7E8\"},\"y\":[0.0,0.01225490216165781,0.01225490216165781,0.0],\"type\":\"scatter\",\"fill\":\"toself\",\"hoverinfo\":\"skip\",\"yaxis\":\"y1\",\"x\":[12.0,12.0,13.0,13.0]},{\"showlegend\":false,\"mode\":\"lines\",\"line\":{\"color\":\"#AEC7E8\"},\"y\":[0.0,0.1703633815050125,0.1703633815050125,0.0],\"type\":\"scatter\",\"fill\":\"toself\",\"hoverinfo\":\"skip\",\"yaxis\":\"y1\",\"x\":[31.06449510224598,31.06449510224598,32.064495102245985,32.064495102245985]},{\"showlegend\":false,\"mode\":\"lines\",\"line\":{\"color\":\"#AEC7E8\"},\"y\":[0.6237499713897705,0.6237499713897705,null,0.6237499713897705,0.5678813457489014,null,0.6237499713897705,0.0,null],\"type\":\"scatter\",\"hoverinfo\":\"skip\",\"yaxis\":\"y1\",\"x\":[17.758883476483184,24.414213562373096,null,17.758883476483184,17.758883476483184,null,24.414213562373096,24.414213562373096,null]},{\"showlegend\":false,\"mode\":\"lines\",\"line\":{\"color\":\"#666666\"},\"y\":[0.9098557829856873,0.9098557829856873,null,0.9098557829856873,0.8102660775184631,null,0.9098557829856873,0.8681948184967041,null],\"type\":\"scatter\",\"hoverinfo\":\"skip\",\"yaxis\":\"y1\",\"x\":[6.25,25.429515749232156,null,6.25,6.25,null,25.429515749232156,25.429515749232156,null]},{\"showlegend\":false,\"mode\":\"lines\",\"line\":{\"color\":\"#AEC7E8\"},\"y\":[0.8681948184967041,0.8681948184967041,null,0.8681948184967041,0.6237499713897705,null,0.8681948184967041,0.8267649412155151,null],\"type\":\"scatter\",\"hoverinfo\":\"skip\",\"yaxis\":\"y1\",\"x\":[21.086548519428142,29.77248297903617,null,21.086548519428142,21.086548519428142,null,29.77248297903617,29.77248297903617,null]},{\"showlegend\":false,\"mode\":\"lines\",\"line\":{\"color\":\"#AEC7E8\"},\"y\":[0.5007727742195129,0.5007727742195129,null,0.5007727742195129,0.43841516971588135,null,0.5007727742195129,0.4941309988498688,null],\"type\":\"scatter\",\"hoverinfo\":\"skip\",\"yaxis\":\"y1\",\"x\":[29.35738832105943,32.564495102245985,null,29.35738832105943,29.35738832105943,null,32.564495102245985,32.564495102245985,null]},{\"showlegend\":false,\"mode\":\"lines\",\"line\":{\"color\":\"#AEC7E8\"},\"y\":[0.0,0.43841516971588135,0.43841516971588135,0.0],\"type\":\"scatter\",\"fill\":\"toself\",\"hoverinfo\":\"skip\",\"yaxis\":\"y1\",\"x\":[28.650281539872886,28.650281539872886,30.06449510224598,30.06449510224598]},{\"showlegend\":false,\"mode\":\"lines\",\"line\":{\"color\":\"#AEC7E8\"},\"y\":[0.0,0.004932735580950975,0.004932735580950975,0.0],\"type\":\"scatter\",\"fill\":\"toself\",\"hoverinfo\":\"skip\",\"yaxis\":\"y1\",\"x\":[9.0,9.0,10.0,10.0]},{\"showlegend\":false,\"mode\":\"lines\",\"line\":{\"color\":\"#AEC7E8\"},\"y\":[0.5678813457489014,0.5678813457489014,null,0.5678813457489014,0.4625678062438965,null,0.5678813457489014,0.5650663375854492,null],\"type\":\"scatter\",\"hoverinfo\":\"skip\",\"yaxis\":\"y1\",\"x\":[13.603553390593273,21.914213562373096,null,13.603553390593273,13.603553390593273,null,21.914213562373096,21.914213562373096,null]},{\"showlegend\":false,\"mode\":\"lines\",\"line\":{\"color\":\"#AEC7E8\"},\"y\":[0.0,0.3578336536884308,0.3578336536884308,0.0],\"type\":\"scatter\",\"fill\":\"toself\",\"hoverinfo\":\"skip\",\"yaxis\":\"y1\",\"x\":[25.414213562373096,25.414213562373096,27.650281539872886,27.650281539872886]},{\"showlegend\":false,\"mode\":\"lines\",\"line\":{\"color\":\"#AEC7E8\"},\"y\":[0.488546758890152,0.488546758890152,null,0.488546758890152,0.005164319183677435,null,0.488546758890152,0.46563979983329773,null],\"type\":\"scatter\",\"hoverinfo\":\"skip\",\"yaxis\":\"y1\",\"x\":[16.914213562373096,19.914213562373096,null,16.914213562373096,16.914213562373096,null,19.914213562373096,19.914213562373096,null]},{\"showlegend\":false,\"mode\":\"lines\",\"line\":{\"color\":\"#FFBB78\"},\"y\":[0.0,0.3124241232872009,0.3124241232872009,0.0],\"type\":\"scatter\",\"fill\":\"toself\",\"hoverinfo\":\"skip\",\"yaxis\":\"y1\",\"x\":[1.0,1.0,3.0,3.0]},{\"showlegend\":false,\"mode\":\"lines\",\"line\":{\"color\":\"#AEC7E8\"},\"y\":[0.4625678062438965,0.4625678062438965,null,0.4625678062438965,0.01225490216165781,null,0.4625678062438965,0.23702213168144226,null],\"type\":\"scatter\",\"hoverinfo\":\"skip\",\"yaxis\":\"y1\",\"x\":[12.5,14.707106781186548,null,12.5,12.5,null,14.707106781186548,14.707106781186548,null]},{\"showlegend\":false,\"mode\":\"lines\",\"line\":{\"color\":\"#AEC7E8\"},\"y\":[0.46563979983329773,0.46563979983329773,null,0.46563979983329773,0.18958428502082825,null,0.46563979983329773,0.3004005253314972,null],\"type\":\"scatter\",\"hoverinfo\":\"skip\",\"yaxis\":\"y1\",\"x\":[18.914213562373096,20.914213562373096,null,18.914213562373096,18.914213562373096,null,20.914213562373096,20.914213562373096,null]},{\"showlegend\":false,\"mode\":\"lines\",\"line\":{\"color\":\"#AEC7E8\"},\"y\":[0.0,0.005164319183677435,0.005164319183677435,0.0],\"type\":\"scatter\",\"fill\":\"toself\",\"hoverinfo\":\"skip\",\"yaxis\":\"y1\",\"x\":[16.414213562373096,16.414213562373096,17.414213562373096,17.414213562373096]},{\"showlegend\":false,\"mode\":\"lines\",\"line\":{\"color\":\"#AEC7E8\"},\"y\":[0.5588139295578003,0.5588139295578003,null,0.5588139295578003,0.004932735580950975,null,0.5588139295578003,0.0,null],\"type\":\"scatter\",\"hoverinfo\":\"skip\",\"yaxis\":\"y1\",\"x\":[9.5,11.0,null,9.5,9.5,null,11.0,11.0,null]},{\"showlegend\":false,\"mode\":\"lines\",\"line\":{\"color\":\"#AEC7E8\"},\"y\":[0.0,0.23702213168144226,0.23702213168144226,0.0],\"type\":\"scatter\",\"fill\":\"toself\",\"hoverinfo\":\"skip\",\"yaxis\":\"y1\",\"x\":[14.0,14.0,15.414213562373096,15.414213562373096]},{\"showlegend\":false,\"mode\":\"lines\",\"line\":{\"color\":\"#AEC7E8\"},\"y\":[0.5650663375854492,0.5650663375854492,null,0.5650663375854492,0.5294764041900635,null,0.5650663375854492,0.0,null],\"type\":\"scatter\",\"hoverinfo\":\"skip\",\"yaxis\":\"y1\",\"x\":[20.414213562373096,23.414213562373096,null,20.414213562373096,20.414213562373096,null,23.414213562373096,23.414213562373096,null]},{\"showlegend\":false,\"mode\":\"lines\",\"line\":{\"color\":\"#AEC7E8\"},\"y\":[0.5448741912841797,0.5448741912841797,null,0.5448741912841797,0.5007727742195129,null,0.5448741912841797,0.0,null],\"type\":\"scatter\",\"hoverinfo\":\"skip\",\"yaxis\":\"y1\",\"x\":[30.96094171165271,35.064495102245985,null,30.96094171165271,30.96094171165271,null,35.064495102245985,35.064495102245985,null]},{\"showlegend\":false,\"mode\":\"lines\",\"line\":{\"color\":\"#AEC7E8\"},\"y\":[0.0,0.4152263402938843,0.4152263402938843,0.0],\"type\":\"scatter\",\"fill\":\"toself\",\"hoverinfo\":\"skip\",\"yaxis\":\"y1\",\"x\":[33.064495102245985,33.064495102245985,34.064495102245985,34.064495102245985]},{\"showlegend\":false,\"mode\":\"lines\",\"line\":{\"color\":\"#AEC7E8\"},\"y\":[0.8267649412155151,0.8267649412155151,null,0.8267649412155151,0.3578336536884308,null,0.8267649412155151,0.5448741912841797,null],\"type\":\"scatter\",\"hoverinfo\":\"skip\",\"yaxis\":\"y1\",\"x\":[26.532247551122992,33.01271840694935,null,26.532247551122992,26.532247551122992,null,33.01271840694935,33.01271840694935,null]},{\"showlegend\":false,\"mode\":\"lines\",\"line\":{\"color\":\"#FFBB78\"},\"y\":[0.0,0.009385265409946442,0.009385265409946442,0.0],\"type\":\"scatter\",\"fill\":\"toself\",\"hoverinfo\":\"skip\",\"yaxis\":\"y1\",\"x\":[4.0,4.0,5.0,5.0]},{\"showlegend\":false,\"mode\":\"lines\",\"line\":{\"color\":\"#AEC7E8\"},\"y\":[0.5294764041900635,0.5294764041900635,null,0.5294764041900635,0.488546758890152,null,0.5294764041900635,0.0,null],\"type\":\"scatter\",\"hoverinfo\":\"skip\",\"yaxis\":\"y1\",\"x\":[18.414213562373096,22.414213562373096,null,18.414213562373096,18.414213562373096,null,22.414213562373096,22.414213562373096,null]},{\"showlegend\":false,\"mode\":\"lines\",\"line\":{\"color\":\"#FFBB78\"},\"y\":[0.4465169310569763,0.4465169310569763,null,0.4465169310569763,0.009385265409946442,null,0.4465169310569763,0.0,null],\"type\":\"scatter\",\"hoverinfo\":\"skip\",\"yaxis\":\"y1\",\"x\":[4.5,6.0,null,4.5,4.5,null,6.0,6.0,null]},{\"showlegend\":false,\"mode\":\"lines\",\"line\":{\"color\":\"#666666\"},\"y\":[0.8102660775184631,0.8102660775184631,null,0.8102660775184631,0.4964412748813629,null,0.8102660775184631,0.5844318866729736,null],\"type\":\"scatter\",\"hoverinfo\":\"skip\",\"yaxis\":\"y1\",\"x\":[3.625,8.875,null,3.625,3.625,null,8.875,8.875,null]},{\"showlegend\":false,\"mode\":\"lines\",\"line\":{\"color\":\"#AEC7E8\"},\"y\":[0.4941309988498688,0.4941309988498688,null,0.4941309988498688,0.1703633815050125,null,0.4941309988498688,0.4152263402938843,null],\"type\":\"scatter\",\"hoverinfo\":\"skip\",\"yaxis\":\"y1\",\"x\":[31.564495102245985,33.564495102245985,null,31.564495102245985,31.564495102245985,null,33.564495102245985,33.564495102245985,null]},{\"showlegend\":false,\"mode\":\"lines\",\"line\":{\"color\":\"#AEC7E8\"},\"y\":[0.0,0.3004005253314972,0.3004005253314972,0.0],\"type\":\"scatter\",\"fill\":\"toself\",\"hoverinfo\":\"skip\",\"yaxis\":\"y1\",\"x\":[20.414213562373096,20.414213562373096,21.414213562373096,21.414213562373096]},{\"showlegend\":false,\"mode\":\"lines\",\"line\":{\"color\":\"#AEC7E8\"},\"y\":[0.5058441758155823,0.5058441758155823,null,0.5058441758155823,0.0,null,0.5058441758155823,0.0,null],\"type\":\"scatter\",\"hoverinfo\":\"skip\",\"yaxis\":\"y1\",\"x\":[7.0,8.0,null,7.0,7.0,null,8.0,8.0,null]},{\"showlegend\":false,\"mode\":\"lines\",\"line\":{\"color\":\"#AEC7E8\"},\"y\":[0.5844318866729736,0.5844318866729736,null,0.5844318866729736,0.5058441758155823,null,0.5844318866729736,0.5588139295578003,null],\"type\":\"scatter\",\"hoverinfo\":\"skip\",\"yaxis\":\"y1\",\"x\":[7.5,10.25,null,7.5,7.5,null,10.25,10.25,null]},{\"showlegend\":false,\"mode\":\"lines\",\"line\":{\"color\":\"#AEC7E8\"},\"y\":[0.0,0.18958428502082825,0.18958428502082825,0.0],\"type\":\"scatter\",\"fill\":\"toself\",\"hoverinfo\":\"skip\",\"yaxis\":\"y1\",\"x\":[18.414213562373096,18.414213562373096,19.414213562373096,19.414213562373096]},{\"showlegend\":false,\"mode\":\"markers\",\"marker\":{\"color\":[\"#FFBB78\",\"#AEC7E8\",\"#AEC7E8\",\"#AEC7E8\",\"#666666\",\"#AEC7E8\",\"#AEC7E8\",\"#AEC7E8\",\"#AEC7E8\",\"#AEC7E8\",\"#AEC7E8\",\"#AEC7E8\",\"#FFBB78\",\"#AEC7E8\",\"#AEC7E8\",\"#AEC7E8\",\"#AEC7E8\",\"#AEC7E8\",\"#AEC7E8\",\"#AEC7E8\",\"#AEC7E8\",\"#AEC7E8\",\"#FFBB78\",\"#AEC7E8\",\"#FFBB78\",\"#666666\",\"#AEC7E8\",\"#AEC7E8\",\"#AEC7E8\",\"#AEC7E8\",\"#AEC7E8\"],\"size\":[8,8,8,8,8,4,4,4,8,8,8,4,8,8,8,8,4,8,4,8,4,4,8,4,8,8,4,8,8,8,8]},\"y\":[0.4964412748813629,0.01225490216165781,0.1703633815050125,0.6237499713897705,0.9098557829856873,0.8681948184967041,0.5007727742195129,0.43841516971588135,0.004932735580950975,0.5678813457489014,0.3578336536884308,0.488546758890152,0.3124241232872009,0.4625678062438965,0.46563979983329773,0.005164319183677435,0.5588139295578003,0.23702213168144226,0.5650663375854492,0.5448741912841797,0.4152263402938843,0.8267649412155151,0.009385265409946442,0.5294764041900635,0.4465169310569763,0.8102660775184631,0.4941309988498688,0.3004005253314972,0.5058441758155823,0.5844318866729736,0.18958428502082825],\"type\":\"scatter\",\"customdata\":[[68,8,\"hwasookii\"],[47,2,\"nucleatum\"],[50,2,\"nucleatum\"],[77,14,\"nucleatum\"],[81,41,\"(mixed)\"],[80,28,\"nucleatum\"],[69,7,\"nucleatum\"],[62,3,\"nucleatum\"],[43,2,\"nucleatum\"],[75,13,\"nucleatum\"],[60,6,\"nucleatum\"],[66,6,\"nucleatum\"],[58,5,\"hwasookii\"],[64,5,\"nucleatum\"],[65,4,\"nucleatum\"],[44,2,\"nucleatum\"],[73,3,\"nucleatum\"],[53,3,\"nucleatum\"],[74,8,\"nucleatum\"],[72,8,\"nucleatum\"],[61,2,\"nucleatum\"],[79,14,\"nucleatum\"],[45,2,\"hwasookii\"],[71,7,\"nucleatum\"],[63,3,\"hwasookii\"],[78,13,\"(mixed)\"],[67,4,\"nucleatum\"],[56,2,\"nucleatum\"],[70,2,\"nucleatum\"],[76,5,\"nucleatum\"],[52,2,\"nucleatum\"]],\"yaxis\":\"y1\",\"hovertemplate\":\"ID: %{customdata[0]}<br>\\nHeight: %{y:.3f}<br>\\nGenome count: %{customdata[1]}\\n<br>\\n%{customdata[2]}\\n<extra></extra>\",\"x\":[3.625,12.5,31.564495102245985,21.086548519428142,15.839757874616078,25.429515749232156,30.96094171165271,29.35738832105943,9.5,17.758883476483184,26.532247551122992,18.414213562373096,2.0,13.603553390593273,19.914213562373096,16.914213562373096,10.25,14.707106781186548,21.914213562373096,33.01271840694935,33.564495102245985,29.77248297903617,4.5,20.414213562373096,5.25,6.25,32.564495102245985,20.914213562373096,7.5,8.875,18.914213562373096]},{\"colorscale\":[[0.0,\"#666666\"],[0.1,\"#AEC7E8\"],[0.2,\"#FFBB78\"],[0.3,\"#98DF8A\"],[0.4,\"#FF9896\"],[0.5,\"#C5B0D5\"],[0.6,\"#C49C94\"],[0.7,\"#F7B6D2\"],[0.8,\"#C7C7C7\"],[0.9,\"#DBDB8D\"],[1.0,\"#9EDAE5\"]],\"yaxis\":\"y2\",\"showscale\":false,\"x\":[0.5,3.5,5.5,6.5,7.5,8.5,10.5,11.5,13.5,15.914213562373096,17.914213562373096,19.914213562373096,21.914213562373096,22.914213562373096,23.914213562373096,24.914213562373096,28.150281539872886,30.56449510224598,32.564495102245985,34.564495102245985,35.564495102245985],\"customdata\":[[[\"ID 58\",\"hwasookii\"],[\"ID 45\",\"hwasookii\"],[\"Genome 34\",\"hwasookii\"],[\"Genome 27\",\"nucleatum\"],[\"Genome 30\",\"nucleatum\"],[\"ID 43\",\"nucleatum\"],[\"Genome 21\",\"nucleatum\"],[\"ID 47\",\"nucleatum\"],[\"ID 53\",\"nucleatum\"],[\"ID 44\",\"nucleatum\"],[\"ID 52\",\"nucleatum\"],[\"ID 56\",\"nucleatum\"],[\"Genome 23\",\"nucleatum\"],[\"Genome 11\",\"nucleatum\"],[\"Genome 33\",\"nucleatum\"],[\"ID 60\",\"nucleatum\"],[\"ID 62\",\"nucleatum\"],[\"ID 50\",\"nucleatum\"],[\"ID 61\",\"nucleatum\"],[\"Genome 9\",\"nucleatum\"]]],\"zmin\":0,\"z\":[[2,2,2,1,1,1,1,1,1,1,1,1,1,1,1,1,1,1,1,1]],\"zmax\":10,\"type\":\"heatmap\",\"xgap\":1,\"hovertemplate\":\"%{customdata[0]} <br>\\n%{customdata[1]}\\n<extra></extra>\\n\"}],{\"xaxis\":{\"visible\":false},\"hovermode\":\"closest\",\"margin\":{\"l\":50,\"b\":50,\"r\":50,\"t\":60},\"yaxis2\":{\"visible\":false,\"domain\":[0.0,0.05],\"fixedrange\":true}},{}); gd.on(\"plotly_hover\",(function (data){var filtered_data=WebIO.PlotlyCommands.filterEventData(gd,data,\"hover\"); return !(filtered_data.isnil) ? (WebIO.setval({\"name\":\"hover\",\"scope\":\"888342801436498071\",\"id\":\"10282787292014564100\",\"type\":\"observable\"},filtered_data.out)) : undefined})); gd.on(\"plotly_unhover\",(function (){return WebIO.setval({\"name\":\"hover\",\"scope\":\"888342801436498071\",\"id\":\"10282787292014564100\",\"type\":\"observable\"},{})})); gd.on(\"plotly_selected\",(function (data){var filtered_data=WebIO.PlotlyCommands.filterEventData(gd,data,\"selected\"); return !(filtered_data.isnil) ? (WebIO.setval({\"name\":\"selected\",\"scope\":\"888342801436498071\",\"id\":\"12781639554931702613\",\"type\":\"observable\"},filtered_data.out)) : undefined})); gd.on(\"plotly_deselect\",(function (){return WebIO.setval({\"name\":\"selected\",\"scope\":\"888342801436498071\",\"id\":\"12781639554931702613\",\"type\":\"observable\"},{})})); gd.on(\"plotly_relayout\",(function (data){var filtered_data=WebIO.PlotlyCommands.filterEventData(gd,data,\"relayout\"); return !(filtered_data.isnil) ? (WebIO.setval({\"name\":\"relayout\",\"scope\":\"888342801436498071\",\"id\":\"10868117328150452578\",\"type\":\"observable\"},filtered_data.out)) : undefined})); return gd.on(\"plotly_click\",(function (data){var filtered_data=WebIO.PlotlyCommands.filterEventData(gd,data,\"click\"); return !(filtered_data.isnil) ? (WebIO.setval({\"name\":\"click\",\"scope\":\"888342801436498071\",\"id\":\"15293816292465923622\",\"type\":\"observable\"},filtered_data.out)) : undefined}))}));\n    (WebIO.importBlock({\"data\":[{\"name\":\"Plotly\",\"type\":\"js\",\"url\":\"/assetserver/e6903599031aaef8675931dfcd7df98a1aeffbfc-plotly-latest.min.js\"},{\"name\":null,\"type\":\"js\",\"url\":\"/assetserver/74a5dea81f21b0b802ef1ee92f1c8a504eac1a0c-plotly_webio.bundle.js\"}],\"type\":\"async_block\"})).then((imports) => handler.apply(this, imports));\n}\n"
        ],
        "observables": {
         "__gd_contents": {
          "id": "5575713333401102834",
          "sync": false,
          "value": {}
         },
         "__get_gd_contents": {
          "id": "17630414114022471907",
          "sync": false,
          "value": ""
         },
         "_commands": {
          "id": "1585787736177236029",
          "sync": false,
          "value": []
         },
         "_downloadImage": {
          "id": "7061715024292648942",
          "sync": false,
          "value": {}
         },
         "_toImage": {
          "id": "18097087726419151810",
          "sync": false,
          "value": {}
         },
         "click": {
          "id": "15293816292465923622",
          "sync": false,
          "value": {}
         },
         "hover": {
          "id": "10282787292014564100",
          "sync": false,
          "value": {}
         },
         "image": {
          "id": "3122268512730439649",
          "sync": true,
          "value": ""
         },
         "relayout": {
          "id": "10868117328150452578",
          "sync": false,
          "value": {}
         },
         "selected": {
          "id": "12781639554931702613",
          "sync": false,
          "value": {}
         }
        },
        "systemjs_options": null
       },
       "nodeType": "Scope",
       "props": {},
       "type": "node"
      },
      "image/png": "[encoded data removed]",
      "image/svg+xml": [
       "<svg class=\"main-svg\" xmlns=\"http://www.w3.org/2000/svg\" xmlns:xlink=\"http://www.w3.org/1999/xlink\" width=\"700\" height=\"500\" style=\"\" viewBox=\"0 0 700 500\"><rect x=\"0\" y=\"0\" width=\"700\" height=\"500\" style=\"fill: rgb(255, 255, 255); fill-opacity: 1;\"/><defs id=\"defs-a993d9\"><g class=\"clips\"><clipPath id=\"clipa993d9xyplot\" class=\"plotclip\"><rect width=\"600\" height=\"390\"/></clipPath><clipPath id=\"clipa993d9xy2plot\" class=\"plotclip\"><rect width=\"600\" height=\"19.5\"/></clipPath><clipPath class=\"axesclip\" id=\"clipa993d9x\"><rect x=\"50\" y=\"0\" width=\"600\" height=\"500\"/></clipPath><clipPath class=\"axesclip\" id=\"clipa993d9y\"><rect x=\"0\" y=\"60\" width=\"700\" height=\"390\"/></clipPath><clipPath class=\"axesclip\" id=\"clipa993d9xy\"><rect x=\"50\" y=\"60\" width=\"600\" height=\"390\"/></clipPath><clipPath class=\"axesclip\" id=\"clipa993d9y2\"><rect x=\"0\" y=\"430.5\" width=\"700\" height=\"19.5\"/></clipPath><clipPath class=\"axesclip\" id=\"clipa993d9xy2\"><rect x=\"50\" y=\"430.5\" width=\"600\" height=\"19.5\"/></clipPath></g><g class=\"gradients\"/></defs><g class=\"bglayer\"/><g class=\"layer-below\"><g class=\"imagelayer\"/><g class=\"shapelayer\"/></g><g class=\"cartesianlayer\"><g class=\"subplot xy\"><g class=\"layer-subplot\"><g class=\"shapelayer\"/><g class=\"imagelayer\"/></g><g class=\"gridlayer\"><g class=\"x\"/><g class=\"y\"><path class=\"ygrid crisp\" transform=\"translate(0,351.99)\" d=\"M50,0h600\" style=\"stroke: rgb(238, 238, 238); stroke-opacity: 1; stroke-width: 1px;\"/><path class=\"ygrid crisp\" transform=\"translate(0,276.63)\" d=\"M50,0h600\" style=\"stroke: rgb(238, 238, 238); stroke-opacity: 1; stroke-width: 1px;\"/><path class=\"ygrid crisp\" transform=\"translate(0,201.26)\" d=\"M50,0h600\" style=\"stroke: rgb(238, 238, 238); stroke-opacity: 1; stroke-width: 1px;\"/><path class=\"ygrid crisp\" transform=\"translate(0,125.9)\" d=\"M50,0h600\" style=\"stroke: rgb(238, 238, 238); stroke-opacity: 1; stroke-width: 1px;\"/></g></g><g class=\"zerolinelayer\"><path class=\"yzl zl crisp\" transform=\"translate(0,427.36)\" d=\"M50,0h600\" style=\"stroke: rgb(68, 68, 68); stroke-opacity: 1; stroke-width: 1px;\"/></g><path class=\"xlines-below\"/><path class=\"ylines-below\"/><g class=\"overlines-below\"/><g class=\"xaxislayer-below\"/><g class=\"yaxislayer-below\"/><g class=\"overaxes-below\"/><g class=\"plot\" transform=\"translate(50,60)\" clip-path=\"url('#clipa993d9xyplot')\"><g class=\"scatterlayer mlayer\"><g class=\"trace scatter trace36cfda\" style=\"stroke-miterlimit: 2; opacity: 1;\"><g class=\"fills\"/><g class=\"errorbars\"/><g class=\"lines\"><path class=\"js-line\" d=\"M35,180.29L89.71,180.29\" style=\"vector-effect: non-scaling-stroke; fill: none; stroke: rgb(255, 187, 120); stroke-opacity: 1; stroke-width: 2px; opacity: 1;\"/><path class=\"js-line\" d=\"M35,180.29L35,249.63\" style=\"vector-effect: non-scaling-stroke; fill: none; stroke: rgb(255, 187, 120); stroke-opacity: 1; stroke-width: 2px; opacity: 1;\"/><path class=\"js-line\" d=\"M89.71,180.29L89.71,199.1\" style=\"vector-effect: non-scaling-stroke; fill: none; stroke: rgb(255, 187, 120); stroke-opacity: 1; stroke-width: 2px; opacity: 1;\"/></g><g class=\"points\"/><g class=\"text\"/></g><g class=\"trace scatter trace57a5fb\" style=\"stroke-miterlimit: 2; opacity: 1;\"><g class=\"fills\"><g><path class=\"js-fill\" d=\"M203.33,367.36L203.33,362.74L220.17,362.74L220.17,367.36Z\" style=\"fill: rgb(174, 199, 232); fill-opacity: 0.5; stroke-width: 0;\"/></g></g><g class=\"errorbars\"/><g class=\"lines\"><path class=\"js-line\" d=\"M203.33,367.36L203.33,362.74L220.17,362.74L220.17,367.36\" style=\"vector-effect: non-scaling-stroke; fill: none; stroke: rgb(174, 199, 232); stroke-opacity: 1; stroke-width: 2px; opacity: 1;\"/></g><g class=\"points\"/><g class=\"text\"/></g><g class=\"trace scatter tracee5a3b2\" style=\"stroke-miterlimit: 2; opacity: 1;\"><g class=\"fills\"><g><path class=\"js-fill\" d=\"M524.25,367.36L524.25,303.16L541.08,303.16L541.08,367.36Z\" style=\"fill: rgb(174, 199, 232); fill-opacity: 0.5; stroke-width: 0;\"/></g></g><g class=\"errorbars\"/><g class=\"lines\"><path class=\"js-line\" d=\"M524.25,367.36L524.25,303.16L541.08,303.16L541.08,367.36\" style=\"vector-effect: non-scaling-stroke; fill: none; stroke: rgb(174, 199, 232); stroke-opacity: 1; stroke-width: 2px; opacity: 1;\"/></g><g class=\"points\"/><g class=\"text\"/></g><g class=\"trace scatter trace37a871\" style=\"stroke-miterlimit: 2; opacity: 1;\"><g class=\"fills\"/><g class=\"errorbars\"/><g class=\"lines\"><path class=\"js-line\" d=\"M300.27,132.31L412.3,132.31\" style=\"vector-effect: non-scaling-stroke; fill: none; stroke: rgb(174, 199, 232); stroke-opacity: 1; stroke-width: 2px; opacity: 1;\"/><path class=\"js-line\" d=\"M300.27,132.31L300.27,153.37\" style=\"vector-effect: non-scaling-stroke; fill: none; stroke: rgb(174, 199, 232); stroke-opacity: 1; stroke-width: 2px; opacity: 1;\"/><path class=\"js-line\" d=\"M412.3,132.31L412.3,367.36\" style=\"vector-effect: non-scaling-stroke; fill: none; stroke: rgb(174, 199, 232); stroke-opacity: 1; stroke-width: 2px; opacity: 1;\"/></g><g class=\"points\"/><g class=\"text\"/></g><g class=\"trace scatter trace69ac27\" style=\"stroke-miterlimit: 2; opacity: 1;\"><g class=\"fills\"/><g class=\"errorbars\"/><g class=\"lines\"><path class=\"js-line\" d=\"M106.54,24.5L429.4,24.5\" style=\"vector-effect: non-scaling-stroke; fill: none; stroke: rgb(102, 102, 102); stroke-opacity: 1; stroke-width: 2px; opacity: 1;\"/><path class=\"js-line\" d=\"M106.54,24.5L106.54,62.03\" style=\"vector-effect: non-scaling-stroke; fill: none; stroke: rgb(102, 102, 102); stroke-opacity: 1; stroke-width: 2px; opacity: 1;\"/><path class=\"js-line\" d=\"M429.4,24.5L429.4,40.2\" style=\"vector-effect: non-scaling-stroke; fill: none; stroke: rgb(102, 102, 102); stroke-opacity: 1; stroke-width: 2px; opacity: 1;\"/></g><g class=\"points\"/><g class=\"text\"/></g><g class=\"trace scatter traceaf6abd\" style=\"stroke-miterlimit: 2; opacity: 1;\"><g class=\"fills\"/><g class=\"errorbars\"/><g class=\"lines\"><path class=\"js-line\" d=\"M356.29,40.2L502.5,40.2\" style=\"vector-effect: non-scaling-stroke; fill: none; stroke: rgb(174, 199, 232); stroke-opacity: 1; stroke-width: 2px; opacity: 1;\"/><path class=\"js-line\" d=\"M356.29,40.2L356.29,132.31\" style=\"vector-effect: non-scaling-stroke; fill: none; stroke: rgb(174, 199, 232); stroke-opacity: 1; stroke-width: 2px; opacity: 1;\"/><path class=\"js-line\" d=\"M502.5,40.2L502.5,55.81\" style=\"vector-effect: non-scaling-stroke; fill: none; stroke: rgb(174, 199, 232); stroke-opacity: 1; stroke-width: 2px; opacity: 1;\"/></g><g class=\"points\"/><g class=\"text\"/></g><g class=\"trace scatter tracef861e4\" style=\"stroke-miterlimit: 2; opacity: 1;\"><g class=\"fills\"/><g class=\"errorbars\"/><g class=\"lines\"><path class=\"js-line\" d=\"M495.51,178.65L549.5,178.65\" style=\"vector-effect: non-scaling-stroke; fill: none; stroke: rgb(174, 199, 232); stroke-opacity: 1; stroke-width: 2px; opacity: 1;\"/><path class=\"js-line\" d=\"M495.51,178.65L495.51,202.15\" style=\"vector-effect: non-scaling-stroke; fill: none; stroke: rgb(174, 199, 232); stroke-opacity: 1; stroke-width: 2px; opacity: 1;\"/><path class=\"js-line\" d=\"M549.5,178.65L549.5,181.16\" style=\"vector-effect: non-scaling-stroke; fill: none; stroke: rgb(174, 199, 232); stroke-opacity: 1; stroke-width: 2px; opacity: 1;\"/></g><g class=\"points\"/><g class=\"text\"/></g><g class=\"trace scatter trace325a13\" style=\"stroke-miterlimit: 2; opacity: 1;\"><g class=\"fills\"><g><path class=\"js-fill\" d=\"M483.61,367.36L483.61,202.15L507.42,202.15L507.42,367.36Z\" style=\"fill: rgb(174, 199, 232); fill-opacity: 0.5; stroke-width: 0;\"/></g></g><g class=\"errorbars\"/><g class=\"lines\"><path class=\"js-line\" d=\"M483.61,367.36L483.61,202.15L507.42,202.15L507.42,367.36\" style=\"vector-effect: non-scaling-stroke; fill: none; stroke: rgb(174, 199, 232); stroke-opacity: 1; stroke-width: 2px; opacity: 1;\"/></g><g class=\"points\"/><g class=\"text\"/></g><g class=\"trace scatter trace71de95\" style=\"stroke-miterlimit: 2; opacity: 1;\"><g class=\"fills\"><g><path class=\"js-fill\" d=\"M152.83,367.36L152.83,365.5L169.67,365.5L169.67,367.36Z\" style=\"fill: rgb(174, 199, 232); fill-opacity: 0.5; stroke-width: 0;\"/></g></g><g class=\"errorbars\"/><g class=\"lines\"><path class=\"js-line\" d=\"M152.83,367.36L152.83,365.5L169.67,365.5L169.67,367.36\" style=\"vector-effect: non-scaling-stroke; fill: none; stroke: rgb(174, 199, 232); stroke-opacity: 1; stroke-width: 2px; opacity: 1;\"/></g><g class=\"points\"/><g class=\"text\"/></g><g class=\"trace scatter trace10e0a1\" style=\"stroke-miterlimit: 2; opacity: 1;\"><g class=\"fills\"/><g class=\"errorbars\"/><g class=\"lines\"><path class=\"js-line\" d=\"M230.33,153.37L370.22,153.37\" style=\"vector-effect: non-scaling-stroke; fill: none; stroke: rgb(174, 199, 232); stroke-opacity: 1; stroke-width: 2px; opacity: 1;\"/><path class=\"js-line\" d=\"M230.33,153.37L230.33,193.05\" style=\"vector-effect: non-scaling-stroke; fill: none; stroke: rgb(174, 199, 232); stroke-opacity: 1; stroke-width: 2px; opacity: 1;\"/><path class=\"js-line\" d=\"M370.22,153.37L370.22,154.43\" style=\"vector-effect: non-scaling-stroke; fill: none; stroke: rgb(174, 199, 232); stroke-opacity: 1; stroke-width: 2px; opacity: 1;\"/></g><g class=\"points\"/><g class=\"text\"/></g><g class=\"trace scatter trace8d2103\" style=\"stroke-miterlimit: 2; opacity: 1;\"><g class=\"fills\"><g><path class=\"js-fill\" d=\"M429.14,367.36L429.14,232.52L466.78,232.52L466.78,367.36Z\" style=\"fill: rgb(174, 199, 232); fill-opacity: 0.5; stroke-width: 0;\"/></g></g><g class=\"errorbars\"/><g class=\"lines\"><path class=\"js-line\" d=\"M429.14,367.36L429.14,232.52L466.78,232.52L466.78,367.36\" style=\"vector-effect: non-scaling-stroke; fill: none; stroke: rgb(174, 199, 232); stroke-opacity: 1; stroke-width: 2px; opacity: 1;\"/></g><g class=\"points\"/><g class=\"text\"/></g><g class=\"trace scatter trace5b7ec3\" style=\"stroke-miterlimit: 2; opacity: 1;\"><g class=\"fills\"/><g class=\"errorbars\"/><g class=\"lines\"><path class=\"js-line\" d=\"M286.05,183.26L336.55,183.26\" style=\"vector-effect: non-scaling-stroke; fill: none; stroke: rgb(174, 199, 232); stroke-opacity: 1; stroke-width: 2px; opacity: 1;\"/><path class=\"js-line\" d=\"M286.05,183.26L286.05,365.41\" style=\"vector-effect: non-scaling-stroke; fill: none; stroke: rgb(174, 199, 232); stroke-opacity: 1; stroke-width: 2px; opacity: 1;\"/><path class=\"js-line\" d=\"M336.55,183.26L336.55,191.89\" style=\"vector-effect: non-scaling-stroke; fill: none; stroke: rgb(174, 199, 232); stroke-opacity: 1; stroke-width: 2px; opacity: 1;\"/></g><g class=\"points\"/><g class=\"text\"/></g><g class=\"trace scatter tracea502e7\" style=\"stroke-miterlimit: 2; opacity: 1;\"><g class=\"fills\"><g><path class=\"js-fill\" d=\"M18.17,367.36L18.17,249.63L51.83,249.63L51.83,367.36Z\" style=\"fill: rgb(255, 187, 120); fill-opacity: 0.5; stroke-width: 0;\"/></g></g><g class=\"errorbars\"/><g class=\"lines\"><path class=\"js-line\" d=\"M18.17,367.36L18.17,249.63L51.83,249.63L51.83,367.36\" style=\"vector-effect: non-scaling-stroke; fill: none; stroke: rgb(255, 187, 120); stroke-opacity: 1; stroke-width: 2px; opacity: 1;\"/></g><g class=\"points\"/><g class=\"text\"/></g><g class=\"trace scatter trace8a5134\" style=\"stroke-miterlimit: 2; opacity: 1;\"><g class=\"fills\"/><g class=\"errorbars\"/><g class=\"lines\"><path class=\"js-line\" d=\"M211.75,193.05L248.9,193.05\" style=\"vector-effect: non-scaling-stroke; fill: none; stroke: rgb(174, 199, 232); stroke-opacity: 1; stroke-width: 2px; opacity: 1;\"/><path class=\"js-line\" d=\"M211.75,193.05L211.75,362.74\" style=\"vector-effect: non-scaling-stroke; fill: none; stroke: rgb(174, 199, 232); stroke-opacity: 1; stroke-width: 2px; opacity: 1;\"/><path class=\"js-line\" d=\"M248.9,193.05L248.9,278.04\" style=\"vector-effect: non-scaling-stroke; fill: none; stroke: rgb(174, 199, 232); stroke-opacity: 1; stroke-width: 2px; opacity: 1;\"/></g><g class=\"points\"/><g class=\"text\"/></g><g class=\"trace scatter trace10f473\" style=\"stroke-miterlimit: 2; opacity: 1;\"><g class=\"fills\"/><g class=\"errorbars\"/><g class=\"lines\"><path class=\"js-line\" d=\"M319.72,191.89L353.39,191.89\" style=\"vector-effect: non-scaling-stroke; fill: none; stroke: rgb(174, 199, 232); stroke-opacity: 1; stroke-width: 2px; opacity: 1;\"/><path class=\"js-line\" d=\"M319.72,191.89L319.72,295.92\" style=\"vector-effect: non-scaling-stroke; fill: none; stroke: rgb(174, 199, 232); stroke-opacity: 1; stroke-width: 2px; opacity: 1;\"/><path class=\"js-line\" d=\"M353.39,191.89L353.39,254.16\" style=\"vector-effect: non-scaling-stroke; fill: none; stroke: rgb(174, 199, 232); stroke-opacity: 1; stroke-width: 2px; opacity: 1;\"/></g><g class=\"points\"/><g class=\"text\"/></g><g class=\"trace scatter tracebaf9be\" style=\"stroke-miterlimit: 2; opacity: 1;\"><g class=\"fills\"><g><path class=\"js-fill\" d=\"M277.64,367.36L277.64,365.41L294.47,365.41L294.47,367.36Z\" style=\"fill: rgb(174, 199, 232); fill-opacity: 0.5; stroke-width: 0;\"/></g></g><g class=\"errorbars\"/><g class=\"lines\"><path class=\"js-line\" d=\"M277.64,367.36L277.64,365.41L294.47,365.41L294.47,367.36\" style=\"vector-effect: non-scaling-stroke; fill: none; stroke: rgb(174, 199, 232); stroke-opacity: 1; stroke-width: 2px; opacity: 1;\"/></g><g class=\"points\"/><g class=\"text\"/></g><g class=\"trace scatter tracef76814\" style=\"stroke-miterlimit: 2; opacity: 1;\"><g class=\"fills\"/><g class=\"errorbars\"/><g class=\"lines\"><path class=\"js-line\" d=\"M161.25,156.78L186.5,156.78\" style=\"vector-effect: non-scaling-stroke; fill: none; stroke: rgb(174, 199, 232); stroke-opacity: 1; stroke-width: 2px; opacity: 1;\"/><path class=\"js-line\" d=\"M161.25,156.78L161.25,365.5\" style=\"vector-effect: non-scaling-stroke; fill: none; stroke: rgb(174, 199, 232); stroke-opacity: 1; stroke-width: 2px; opacity: 1;\"/><path class=\"js-line\" d=\"M186.5,156.78L186.5,367.36\" style=\"vector-effect: non-scaling-stroke; fill: none; stroke: rgb(174, 199, 232); stroke-opacity: 1; stroke-width: 2px; opacity: 1;\"/></g><g class=\"points\"/><g class=\"text\"/></g><g class=\"trace scatter trace842b9e\" style=\"stroke-miterlimit: 2; opacity: 1;\"><g class=\"fills\"><g><path class=\"js-fill\" d=\"M237,367.36L237,278.04L260.8,278.04L260.8,367.36Z\" style=\"fill: rgb(174, 199, 232); fill-opacity: 0.5; stroke-width: 0;\"/></g></g><g class=\"errorbars\"/><g class=\"lines\"><path class=\"js-line\" d=\"M237,367.36L237,278.04L260.8,278.04L260.8,367.36\" style=\"vector-effect: non-scaling-stroke; fill: none; stroke: rgb(174, 199, 232); stroke-opacity: 1; stroke-width: 2px; opacity: 1;\"/></g><g class=\"points\"/><g class=\"text\"/></g><g class=\"trace scatter trace1b0260\" style=\"stroke-miterlimit: 2; opacity: 1;\"><g class=\"fills\"/><g class=\"errorbars\"/><g class=\"lines\"><path class=\"js-line\" d=\"M344.97,154.43L395.47,154.43\" style=\"vector-effect: non-scaling-stroke; fill: none; stroke: rgb(174, 199, 232); stroke-opacity: 1; stroke-width: 2px; opacity: 1;\"/><path class=\"js-line\" d=\"M344.97,154.43L344.97,167.84\" style=\"vector-effect: non-scaling-stroke; fill: none; stroke: rgb(174, 199, 232); stroke-opacity: 1; stroke-width: 2px; opacity: 1;\"/><path class=\"js-line\" d=\"M395.47,154.43L395.47,367.36\" style=\"vector-effect: non-scaling-stroke; fill: none; stroke: rgb(174, 199, 232); stroke-opacity: 1; stroke-width: 2px; opacity: 1;\"/></g><g class=\"points\"/><g class=\"text\"/></g><g class=\"trace scatter trace40ab7b\" style=\"stroke-miterlimit: 2; opacity: 1;\"><g class=\"fills\"/><g class=\"errorbars\"/><g class=\"lines\"><path class=\"js-line\" d=\"M522.51,162.04L591.58,162.04\" style=\"vector-effect: non-scaling-stroke; fill: none; stroke: rgb(174, 199, 232); stroke-opacity: 1; stroke-width: 2px; opacity: 1;\"/><path class=\"js-line\" d=\"M522.51,162.04L522.51,178.65\" style=\"vector-effect: non-scaling-stroke; fill: none; stroke: rgb(174, 199, 232); stroke-opacity: 1; stroke-width: 2px; opacity: 1;\"/><path class=\"js-line\" d=\"M591.58,162.04L591.58,367.36\" style=\"vector-effect: non-scaling-stroke; fill: none; stroke: rgb(174, 199, 232); stroke-opacity: 1; stroke-width: 2px; opacity: 1;\"/></g><g class=\"points\"/><g class=\"text\"/></g><g class=\"trace scatter traceaf26a7\" style=\"stroke-miterlimit: 2; opacity: 1;\"><g class=\"fills\"><g><path class=\"js-fill\" d=\"M557.92,367.36L557.92,210.89L574.75,210.89L574.75,367.36Z\" style=\"fill: rgb(174, 199, 232); fill-opacity: 0.5; stroke-width: 0;\"/></g></g><g class=\"errorbars\"/><g class=\"lines\"><path class=\"js-line\" d=\"M557.92,367.36L557.92,210.89L574.75,210.89L574.75,367.36\" style=\"vector-effect: non-scaling-stroke; fill: none; stroke: rgb(174, 199, 232); stroke-opacity: 1; stroke-width: 2px; opacity: 1;\"/></g><g class=\"points\"/><g class=\"text\"/></g><g class=\"trace scatter trace4a23f4\" style=\"stroke-miterlimit: 2; opacity: 1;\"><g class=\"fills\"/><g class=\"errorbars\"/><g class=\"lines\"><path class=\"js-line\" d=\"M447.96,55.81L557.05,55.81\" style=\"vector-effect: non-scaling-stroke; fill: none; stroke: rgb(174, 199, 232); stroke-opacity: 1; stroke-width: 2px; opacity: 1;\"/><path class=\"js-line\" d=\"M447.96,55.81L447.96,232.52\" style=\"vector-effect: non-scaling-stroke; fill: none; stroke: rgb(174, 199, 232); stroke-opacity: 1; stroke-width: 2px; opacity: 1;\"/><path class=\"js-line\" d=\"M557.05,55.81L557.05,162.04\" style=\"vector-effect: non-scaling-stroke; fill: none; stroke: rgb(174, 199, 232); stroke-opacity: 1; stroke-width: 2px; opacity: 1;\"/></g><g class=\"points\"/><g class=\"text\"/></g><g class=\"trace scatter tracec1dcbc\" style=\"stroke-miterlimit: 2; opacity: 1;\"><g class=\"fills\"><g><path class=\"js-fill\" d=\"M68.67,367.36L68.67,363.82L85.5,363.82L85.5,367.36Z\" style=\"fill: rgb(255, 187, 120); fill-opacity: 0.5; stroke-width: 0;\"/></g></g><g class=\"errorbars\"/><g class=\"lines\"><path class=\"js-line\" d=\"M68.67,367.36L68.67,363.82L85.5,363.82L85.5,367.36\" style=\"vector-effect: non-scaling-stroke; fill: none; stroke: rgb(255, 187, 120); stroke-opacity: 1; stroke-width: 2px; opacity: 1;\"/></g><g class=\"points\"/><g class=\"text\"/></g><g class=\"trace scatter tracefcf8fc\" style=\"stroke-miterlimit: 2; opacity: 1;\"><g class=\"fills\"/><g class=\"errorbars\"/><g class=\"lines\"><path class=\"js-line\" d=\"M311.3,167.84L378.64,167.84\" style=\"vector-effect: non-scaling-stroke; fill: none; stroke: rgb(174, 199, 232); stroke-opacity: 1; stroke-width: 2px; opacity: 1;\"/><path class=\"js-line\" d=\"M311.3,167.84L311.3,183.26\" style=\"vector-effect: non-scaling-stroke; fill: none; stroke: rgb(174, 199, 232); stroke-opacity: 1; stroke-width: 2px; opacity: 1;\"/><path class=\"js-line\" d=\"M378.64,167.84L378.64,367.36\" style=\"vector-effect: non-scaling-stroke; fill: none; stroke: rgb(174, 199, 232); stroke-opacity: 1; stroke-width: 2px; opacity: 1;\"/></g><g class=\"points\"/><g class=\"text\"/></g><g class=\"trace scatter trace3b2d87\" style=\"stroke-miterlimit: 2; opacity: 1;\"><g class=\"fills\"/><g class=\"errorbars\"/><g class=\"lines\"><path class=\"js-line\" d=\"M77.08,199.1L102.33,199.1\" style=\"vector-effect: non-scaling-stroke; fill: none; stroke: rgb(255, 187, 120); stroke-opacity: 1; stroke-width: 2px; opacity: 1;\"/><path class=\"js-line\" d=\"M77.08,199.1L77.08,363.82\" style=\"vector-effect: non-scaling-stroke; fill: none; stroke: rgb(255, 187, 120); stroke-opacity: 1; stroke-width: 2px; opacity: 1;\"/><path class=\"js-line\" d=\"M102.33,199.1L102.33,367.36\" style=\"vector-effect: non-scaling-stroke; fill: none; stroke: rgb(255, 187, 120); stroke-opacity: 1; stroke-width: 2px; opacity: 1;\"/></g><g class=\"points\"/><g class=\"text\"/></g><g class=\"trace scatter traceb04730\" style=\"stroke-miterlimit: 2; opacity: 1;\"><g class=\"fills\"/><g class=\"errorbars\"/><g class=\"lines\"><path class=\"js-line\" d=\"M62.35,62.03L150.73,62.03\" style=\"vector-effect: non-scaling-stroke; fill: none; stroke: rgb(102, 102, 102); stroke-opacity: 1; stroke-width: 2px; opacity: 1;\"/><path class=\"js-line\" d=\"M62.35,62.03L62.35,180.29\" style=\"vector-effect: non-scaling-stroke; fill: none; stroke: rgb(102, 102, 102); stroke-opacity: 1; stroke-width: 2px; opacity: 1;\"/><path class=\"js-line\" d=\"M150.73,62.03L150.73,147.13\" style=\"vector-effect: non-scaling-stroke; fill: none; stroke: rgb(102, 102, 102); stroke-opacity: 1; stroke-width: 2px; opacity: 1;\"/></g><g class=\"points\"/><g class=\"text\"/></g><g class=\"trace scatter trace8ef252\" style=\"stroke-miterlimit: 2; opacity: 1;\"><g class=\"fills\"/><g class=\"errorbars\"/><g class=\"lines\"><path class=\"js-line\" d=\"M532.67,181.16L566.33,181.16\" style=\"vector-effect: non-scaling-stroke; fill: none; stroke: rgb(174, 199, 232); stroke-opacity: 1; stroke-width: 2px; opacity: 1;\"/><path class=\"js-line\" d=\"M532.67,181.16L532.67,303.16\" style=\"vector-effect: non-scaling-stroke; fill: none; stroke: rgb(174, 199, 232); stroke-opacity: 1; stroke-width: 2px; opacity: 1;\"/><path class=\"js-line\" d=\"M566.33,181.16L566.33,210.89\" style=\"vector-effect: non-scaling-stroke; fill: none; stroke: rgb(174, 199, 232); stroke-opacity: 1; stroke-width: 2px; opacity: 1;\"/></g><g class=\"points\"/><g class=\"text\"/></g><g class=\"trace scatter trace079d8f\" style=\"stroke-miterlimit: 2; opacity: 1;\"><g class=\"fills\"><g><path class=\"js-fill\" d=\"M344.97,367.36L344.97,254.16L361.8,254.16L361.8,367.36Z\" style=\"fill: rgb(174, 199, 232); fill-opacity: 0.5; stroke-width: 0;\"/></g></g><g class=\"errorbars\"/><g class=\"lines\"><path class=\"js-line\" d=\"M344.97,367.36L344.97,254.16L361.8,254.16L361.8,367.36\" style=\"vector-effect: non-scaling-stroke; fill: none; stroke: rgb(174, 199, 232); stroke-opacity: 1; stroke-width: 2px; opacity: 1;\"/></g><g class=\"points\"/><g class=\"text\"/></g><g class=\"trace scatter trace2d02a7\" style=\"stroke-miterlimit: 2; opacity: 1;\"><g class=\"fills\"/><g class=\"errorbars\"/><g class=\"lines\"><path class=\"js-line\" d=\"M119.17,176.74L136,176.74\" style=\"vector-effect: non-scaling-stroke; fill: none; stroke: rgb(174, 199, 232); stroke-opacity: 1; stroke-width: 2px; opacity: 1;\"/><path class=\"js-line\" d=\"M119.17,176.74L119.17,367.36\" style=\"vector-effect: non-scaling-stroke; fill: none; stroke: rgb(174, 199, 232); stroke-opacity: 1; stroke-width: 2px; opacity: 1;\"/><path class=\"js-line\" d=\"M136,176.74L136,367.36\" style=\"vector-effect: non-scaling-stroke; fill: none; stroke: rgb(174, 199, 232); stroke-opacity: 1; stroke-width: 2px; opacity: 1;\"/></g><g class=\"points\"/><g class=\"text\"/></g><g class=\"trace scatter trace70a5f9\" style=\"stroke-miterlimit: 2; opacity: 1;\"><g class=\"fills\"/><g class=\"errorbars\"/><g class=\"lines\"><path class=\"js-line\" d=\"M127.58,147.13L173.87,147.13\" style=\"vector-effect: non-scaling-stroke; fill: none; stroke: rgb(174, 199, 232); stroke-opacity: 1; stroke-width: 2px; opacity: 1;\"/><path class=\"js-line\" d=\"M127.58,147.13L127.58,176.74\" style=\"vector-effect: non-scaling-stroke; fill: none; stroke: rgb(174, 199, 232); stroke-opacity: 1; stroke-width: 2px; opacity: 1;\"/><path class=\"js-line\" d=\"M173.87,147.13L173.87,156.78\" style=\"vector-effect: non-scaling-stroke; fill: none; stroke: rgb(174, 199, 232); stroke-opacity: 1; stroke-width: 2px; opacity: 1;\"/></g><g class=\"points\"/><g class=\"text\"/></g><g class=\"trace scatter tracea6c1e8\" style=\"stroke-miterlimit: 2; opacity: 1;\"><g class=\"fills\"><g><path class=\"js-fill\" d=\"M311.3,367.36L311.3,295.92L328.14,295.92L328.14,367.36Z\" style=\"fill: rgb(174, 199, 232); fill-opacity: 0.5; stroke-width: 0;\"/></g></g><g class=\"errorbars\"/><g class=\"lines\"><path class=\"js-line\" d=\"M311.3,367.36L311.3,295.92L328.14,295.92L328.14,367.36\" style=\"vector-effect: non-scaling-stroke; fill: none; stroke: rgb(174, 199, 232); stroke-opacity: 1; stroke-width: 2px; opacity: 1;\"/></g><g class=\"points\"/><g class=\"text\"/></g><g class=\"trace scatter trace1506c3\" style=\"stroke-miterlimit: 2; opacity: 1;\"><g class=\"fills\"/><g class=\"errorbars\"/><g class=\"lines\"/><g class=\"points\"><path class=\"point plotly-customdata\" transform=\"translate(62.35,180.29)\" d=\"M4,0A4,4 0 1,1 0,-4A4,4 0 0,1 4,0Z\" style=\"opacity: 0.7; stroke-width: 1px; fill: rgb(255, 187, 120); fill-opacity: 1; stroke: rgb(255, 255, 255); stroke-opacity: 1;\"/><path class=\"point plotly-customdata\" transform=\"translate(211.75,362.74)\" d=\"M4,0A4,4 0 1,1 0,-4A4,4 0 0,1 4,0Z\" style=\"opacity: 0.7; stroke-width: 1px; fill: rgb(174, 199, 232); fill-opacity: 1; stroke: rgb(255, 255, 255); stroke-opacity: 1;\"/><path class=\"point plotly-customdata\" transform=\"translate(532.67,303.16)\" d=\"M4,0A4,4 0 1,1 0,-4A4,4 0 0,1 4,0Z\" style=\"opacity: 0.7; stroke-width: 1px; fill: rgb(174, 199, 232); fill-opacity: 1; stroke: rgb(255, 255, 255); stroke-opacity: 1;\"/><path class=\"point plotly-customdata\" transform=\"translate(356.29,132.31)\" d=\"M4,0A4,4 0 1,1 0,-4A4,4 0 0,1 4,0Z\" style=\"opacity: 0.7; stroke-width: 1px; fill: rgb(174, 199, 232); fill-opacity: 1; stroke: rgb(255, 255, 255); stroke-opacity: 1;\"/><path class=\"point plotly-customdata\" transform=\"translate(267.97,24.5)\" d=\"M4,0A4,4 0 1,1 0,-4A4,4 0 0,1 4,0Z\" style=\"opacity: 0.7; stroke-width: 1px; fill: rgb(102, 102, 102); fill-opacity: 1; stroke: rgb(255, 255, 255); stroke-opacity: 1;\"/><path class=\"point plotly-customdata\" transform=\"translate(429.4,40.2)\" d=\"M2,0A2,2 0 1,1 0,-2A2,2 0 0,1 2,0Z\" style=\"opacity: 0.7; stroke-width: 1px; fill: rgb(174, 199, 232); fill-opacity: 1; stroke: rgb(255, 255, 255); stroke-opacity: 1;\"/><path class=\"point plotly-customdata\" transform=\"translate(522.51,178.65)\" d=\"M2,0A2,2 0 1,1 0,-2A2,2 0 0,1 2,0Z\" style=\"opacity: 0.7; stroke-width: 1px; fill: rgb(174, 199, 232); fill-opacity: 1; stroke: rgb(255, 255, 255); stroke-opacity: 1;\"/><path class=\"point plotly-customdata\" transform=\"translate(495.51,202.15)\" d=\"M2,0A2,2 0 1,1 0,-2A2,2 0 0,1 2,0Z\" style=\"opacity: 0.7; stroke-width: 1px; fill: rgb(174, 199, 232); fill-opacity: 1; stroke: rgb(255, 255, 255); stroke-opacity: 1;\"/><path class=\"point plotly-customdata\" transform=\"translate(161.25,365.5)\" d=\"M4,0A4,4 0 1,1 0,-4A4,4 0 0,1 4,0Z\" style=\"opacity: 0.7; stroke-width: 1px; fill: rgb(174, 199, 232); fill-opacity: 1; stroke: rgb(255, 255, 255); stroke-opacity: 1;\"/><path class=\"point plotly-customdata\" transform=\"translate(300.27,153.37)\" d=\"M4,0A4,4 0 1,1 0,-4A4,4 0 0,1 4,0Z\" style=\"opacity: 0.7; stroke-width: 1px; fill: rgb(174, 199, 232); fill-opacity: 1; stroke: rgb(255, 255, 255); stroke-opacity: 1;\"/><path class=\"point plotly-customdata\" transform=\"translate(447.96,232.52)\" d=\"M4,0A4,4 0 1,1 0,-4A4,4 0 0,1 4,0Z\" style=\"opacity: 0.7; stroke-width: 1px; fill: rgb(174, 199, 232); fill-opacity: 1; stroke: rgb(255, 255, 255); stroke-opacity: 1;\"/><path class=\"point plotly-customdata\" transform=\"translate(311.3,183.26)\" d=\"M2,0A2,2 0 1,1 0,-2A2,2 0 0,1 2,0Z\" style=\"opacity: 0.7; stroke-width: 1px; fill: rgb(174, 199, 232); fill-opacity: 1; stroke: rgb(255, 255, 255); stroke-opacity: 1;\"/><path class=\"point plotly-customdata\" transform=\"translate(35,249.63)\" d=\"M4,0A4,4 0 1,1 0,-4A4,4 0 0,1 4,0Z\" style=\"opacity: 0.7; stroke-width: 1px; fill: rgb(255, 187, 120); fill-opacity: 1; stroke: rgb(255, 255, 255); stroke-opacity: 1;\"/><path class=\"point plotly-customdata\" transform=\"translate(230.33,193.05)\" d=\"M4,0A4,4 0 1,1 0,-4A4,4 0 0,1 4,0Z\" style=\"opacity: 0.7; stroke-width: 1px; fill: rgb(174, 199, 232); fill-opacity: 1; stroke: rgb(255, 255, 255); stroke-opacity: 1;\"/><path class=\"point plotly-customdata\" transform=\"translate(336.55,191.89)\" d=\"M4,0A4,4 0 1,1 0,-4A4,4 0 0,1 4,0Z\" style=\"opacity: 0.7; stroke-width: 1px; fill: rgb(174, 199, 232); fill-opacity: 1; stroke: rgb(255, 255, 255); stroke-opacity: 1;\"/><path class=\"point plotly-customdata\" transform=\"translate(286.05,365.41)\" d=\"M4,0A4,4 0 1,1 0,-4A4,4 0 0,1 4,0Z\" style=\"opacity: 0.7; stroke-width: 1px; fill: rgb(174, 199, 232); fill-opacity: 1; stroke: rgb(255, 255, 255); stroke-opacity: 1;\"/><path class=\"point plotly-customdata\" transform=\"translate(173.87,156.78)\" d=\"M2,0A2,2 0 1,1 0,-2A2,2 0 0,1 2,0Z\" style=\"opacity: 0.7; stroke-width: 1px; fill: rgb(174, 199, 232); fill-opacity: 1; stroke: rgb(255, 255, 255); stroke-opacity: 1;\"/><path class=\"point plotly-customdata\" transform=\"translate(248.9,278.04)\" d=\"M4,0A4,4 0 1,1 0,-4A4,4 0 0,1 4,0Z\" style=\"opacity: 0.7; stroke-width: 1px; fill: rgb(174, 199, 232); fill-opacity: 1; stroke: rgb(255, 255, 255); stroke-opacity: 1;\"/><path class=\"point plotly-customdata\" transform=\"translate(370.22,154.43)\" d=\"M2,0A2,2 0 1,1 0,-2A2,2 0 0,1 2,0Z\" style=\"opacity: 0.7; stroke-width: 1px; fill: rgb(174, 199, 232); fill-opacity: 1; stroke: rgb(255, 255, 255); stroke-opacity: 1;\"/><path class=\"point plotly-customdata\" transform=\"translate(557.05,162.04)\" d=\"M4,0A4,4 0 1,1 0,-4A4,4 0 0,1 4,0Z\" style=\"opacity: 0.7; stroke-width: 1px; fill: rgb(174, 199, 232); fill-opacity: 1; stroke: rgb(255, 255, 255); stroke-opacity: 1;\"/><path class=\"point plotly-customdata\" transform=\"translate(566.33,210.89)\" d=\"M2,0A2,2 0 1,1 0,-2A2,2 0 0,1 2,0Z\" style=\"opacity: 0.7; stroke-width: 1px; fill: rgb(174, 199, 232); fill-opacity: 1; stroke: rgb(255, 255, 255); stroke-opacity: 1;\"/><path class=\"point plotly-customdata\" transform=\"translate(502.5,55.81)\" d=\"M2,0A2,2 0 1,1 0,-2A2,2 0 0,1 2,0Z\" style=\"opacity: 0.7; stroke-width: 1px; fill: rgb(174, 199, 232); fill-opacity: 1; stroke: rgb(255, 255, 255); stroke-opacity: 1;\"/><path class=\"point plotly-customdata\" transform=\"translate(77.08,363.82)\" d=\"M4,0A4,4 0 1,1 0,-4A4,4 0 0,1 4,0Z\" style=\"opacity: 0.7; stroke-width: 1px; fill: rgb(255, 187, 120); fill-opacity: 1; stroke: rgb(255, 255, 255); stroke-opacity: 1;\"/><path class=\"point plotly-customdata\" transform=\"translate(344.97,167.84)\" d=\"M2,0A2,2 0 1,1 0,-2A2,2 0 0,1 2,0Z\" style=\"opacity: 0.7; stroke-width: 1px; fill: rgb(174, 199, 232); fill-opacity: 1; stroke: rgb(255, 255, 255); stroke-opacity: 1;\"/><path class=\"point plotly-customdata\" transform=\"translate(89.71,199.1)\" d=\"M4,0A4,4 0 1,1 0,-4A4,4 0 0,1 4,0Z\" style=\"opacity: 0.7; stroke-width: 1px; fill: rgb(255, 187, 120); fill-opacity: 1; stroke: rgb(255, 255, 255); stroke-opacity: 1;\"/><path class=\"point plotly-customdata\" transform=\"translate(106.54,62.03)\" d=\"M4,0A4,4 0 1,1 0,-4A4,4 0 0,1 4,0Z\" style=\"opacity: 0.7; stroke-width: 1px; fill: rgb(102, 102, 102); fill-opacity: 1; stroke: rgb(255, 255, 255); stroke-opacity: 1;\"/><path class=\"point plotly-customdata\" transform=\"translate(549.5,181.16)\" d=\"M2,0A2,2 0 1,1 0,-2A2,2 0 0,1 2,0Z\" style=\"opacity: 0.7; stroke-width: 1px; fill: rgb(174, 199, 232); fill-opacity: 1; stroke: rgb(255, 255, 255); stroke-opacity: 1;\"/><path class=\"point plotly-customdata\" transform=\"translate(353.39,254.16)\" d=\"M4,0A4,4 0 1,1 0,-4A4,4 0 0,1 4,0Z\" style=\"opacity: 0.7; stroke-width: 1px; fill: rgb(174, 199, 232); fill-opacity: 1; stroke: rgb(255, 255, 255); stroke-opacity: 1;\"/><path class=\"point plotly-customdata\" transform=\"translate(127.58,176.74)\" d=\"M4,0A4,4 0 1,1 0,-4A4,4 0 0,1 4,0Z\" style=\"opacity: 0.7; stroke-width: 1px; fill: rgb(174, 199, 232); fill-opacity: 1; stroke: rgb(255, 255, 255); stroke-opacity: 1;\"/><path class=\"point plotly-customdata\" transform=\"translate(150.73,147.13)\" d=\"M4,0A4,4 0 1,1 0,-4A4,4 0 0,1 4,0Z\" style=\"opacity: 0.7; stroke-width: 1px; fill: rgb(174, 199, 232); fill-opacity: 1; stroke: rgb(255, 255, 255); stroke-opacity: 1;\"/><path class=\"point plotly-customdata\" transform=\"translate(319.72,295.92)\" d=\"M4,0A4,4 0 1,1 0,-4A4,4 0 0,1 4,0Z\" style=\"opacity: 0.7; stroke-width: 1px; fill: rgb(174, 199, 232); fill-opacity: 1; stroke: rgb(255, 255, 255); stroke-opacity: 1;\"/></g><g class=\"text\"/></g></g></g><g class=\"overplot\"/><path class=\"xlines-above crisp\" d=\"M0,0\" style=\"fill: none;\"/><path class=\"ylines-above crisp\" d=\"M0,0\" style=\"fill: none;\"/><g class=\"overlines-above\"/><g class=\"xaxislayer-above\"/><g class=\"yaxislayer-above\"><g class=\"ytick\"><text text-anchor=\"end\" x=\"49\" y=\"4.199999999999999\" transform=\"translate(0,427.36)\" style=\"font-family: 'Open Sans', verdana, arial, sans-serif; font-size: 12px; fill: rgb(68, 68, 68); fill-opacity: 1; white-space: pre;\">0</text></g><g class=\"ytick\"><text text-anchor=\"end\" x=\"49\" y=\"4.199999999999999\" transform=\"translate(0,351.99)\" style=\"font-family: 'Open Sans', verdana, arial, sans-serif; font-size: 12px; fill: rgb(68, 68, 68); fill-opacity: 1; white-space: pre;\">0.2</text></g><g class=\"ytick\"><text text-anchor=\"end\" x=\"49\" y=\"4.199999999999999\" transform=\"translate(0,276.63)\" style=\"font-family: 'Open Sans', verdana, arial, sans-serif; font-size: 12px; fill: rgb(68, 68, 68); fill-opacity: 1; white-space: pre;\">0.4</text></g><g class=\"ytick\"><text text-anchor=\"end\" x=\"49\" y=\"4.199999999999999\" transform=\"translate(0,201.26)\" style=\"font-family: 'Open Sans', verdana, arial, sans-serif; font-size: 12px; fill: rgb(68, 68, 68); fill-opacity: 1; white-space: pre;\">0.6</text></g><g class=\"ytick\"><text text-anchor=\"end\" x=\"49\" y=\"4.199999999999999\" transform=\"translate(0,125.9)\" style=\"font-family: 'Open Sans', verdana, arial, sans-serif; font-size: 12px; fill: rgb(68, 68, 68); fill-opacity: 1; white-space: pre;\">0.8</text></g></g><g class=\"overaxes-above\"/></g><g class=\"subplot xy2\"><rect class=\"bg\" x=\"50\" y=\"430.5\" width=\"600\" height=\"19.5\" style=\"fill: rgb(255, 255, 255); fill-opacity: 1; stroke-width: 0;\"/><g class=\"layer-subplot\"><g class=\"shapelayer\"/><g class=\"imagelayer\"/></g><g class=\"gridlayer\"><g class=\"x\"/><g class=\"y2\"/></g><g class=\"zerolinelayer\"/><path class=\"xlines-below\"/><path class=\"ylines-below\"/><g class=\"overlines-below\"/><g class=\"xaxislayer-below\"/><g class=\"yaxislayer-below\"/><g class=\"overaxes-below\"/><g class=\"plot\" transform=\"translate(50,430.5)\" clip-path=\"url('#clipa993d9xy2plot')\"><g class=\"heatmaplayer mlayer\"><g class=\"hm\"><image xmlns=\"http://www.w3.org/2000/svg\" preserveAspectRatio=\"none\" height=\"20\" width=\"590\" x=\"9.75\" y=\"0\" xlink:href=\"data:image/png;base64,iVBORw0KGgoAAAANSUhEUgAAAk4AAAAUCAYAAAB707JNAAADUElEQVR4Xu2YQU1DARQEqQusIAADqEECajCAAKzgoqQnTrCTdpsuzXDt9r/39w1hwuH48Xp8uIOfw/Pb4dbv0tjh9Iz3z6+LbvLy9DjxjEuxupf3OPXQeJdL+/zr+yv7ucfPlRpd3NMzrsn/uc9u9HvubPq9lR0X9mjscHrGzWWDHj/lGtKSZqTPGzsoTnt/ONLdyeeNX1gy59zMyn7uscd/4yaNZ5zL9jW/9x/ea2XHhT0aOyhO5d8oxalbaAvyS/+D13irxrs09vjtGSv7uYfidE3O289e4dX/JrPLNu6lOLGucUpxwlWhYAtyxSnX3eg6T8kJ91CcMiU7iRVeFSfGRONeihPrGqcUJ1wVCrYgV5xy3Y2u85SccA/FKVOyk1jhVXFiTDTupTixrnFKccJVoWALcsUp193oOk/JCfdQnDIlO4kVXhUnxkTjXooT6xqnFCdcFQq2IFecct2NrvOUnHAPxSlTspNY4VVxYkw07qU4sa5xSnHCVaFgC3LFKdfd6DpPyQn3UJwyJTuJFV4VJ8ZE416KE+sapxQnXBUKtiBXnHLdja7zlJxwD8UpU7KTWOFVcWJMNO6lOLGucUpxwlWhYAtyxSnX3eg6T8kJ91CcMiU7iRVeFSfGRONeihPrGqcUJ1wVCrYgV5xy3Y2u85SccA/FKVOyk1jhVXFiTDTupTixrnFKccJVoWALcsUp193oOk/JCfdQnDIlO4kVXhUnxkTjXooT6xqnFCdcFQq2IFecct2NrvOUnHAPxSlTspNY4VVxYkw07qU4sa5xSnHCVaFgC3LFKdfd6DpPyQn3UJwyJTuJFV4VJ8ZE416KE+sapxQnXBUKtiBXnHLdja7zlJxwD8UpU7KTWOFVcWJMNO6lOLGucUpxwlWhYAtyxSnX3eg6T8kJ91CcMiU7iRVeFSfGRONeihPrGqcUJ1wVCrYgV5xy3Y2u85SccA/FKVOyk1jhVXFiTDTupTixrnFKccJVoWALcsUp193oOk/JCfdQnDIlO4kVXhUnxkTjXooT6xqnFCdcFQq2IFecct2NrvOUnHAPxSlTspNY4VVxYkw07qU4sa5xSnHCVaFgC3LFKdfd6DpPyQn3UJwyJTuJFV4VJ8ZE416nZ3wDYURAb4dg/PoAAAAASUVORK5CYII=\" style=\"opacity: 1;\"/></g></g></g><g class=\"overplot\"/><path class=\"xlines-above crisp\" d=\"M0,0\" style=\"fill: none;\"/><path class=\"ylines-above crisp\" d=\"M0,0\" style=\"fill: none;\"/><g class=\"overlines-above\"/><g class=\"xaxislayer-above\"/><g class=\"yaxislayer-above\"/><g class=\"overaxes-above\"/></g></g><g class=\"polarlayer\"/><g class=\"ternarylayer\"/><g class=\"geolayer\"/><g class=\"funnelarealayer\"/><g class=\"pielayer\"/><g class=\"treemaplayer\"/><g class=\"sunburstlayer\"/><g class=\"glimages\"/><defs id=\"topdefs-a993d9\"><g class=\"clips\"/></defs><g class=\"layer-above\"><g class=\"imagelayer\"/><g class=\"shapelayer\"/></g><g class=\"infolayer\"><g class=\"g-gtitle\"/><g class=\"g-ytitle\"/></g></svg>"
      ],
      "text/html": [
       "<div\n",
       "    class=\"webio-mountpoint\"\n",
       "    data-webio-mountpoint=\"2235917503024810726\"\n",
       ">\n",
       "    <script>\n",
       "    if (window.require && require.defined && require.defined(\"nbextensions/webio-jupyter-notebook\")) {\n",
       "        console.log(\"Jupyter WebIO extension detected, not mounting.\");\n",
       "    } else if (window.WebIO) {\n",
       "        WebIO.mount(\n",
       "            document.querySelector('[data-webio-mountpoint=\"2235917503024810726\"]'),\n",
       "            {\"props\":{},\"nodeType\":\"Scope\",\"type\":\"node\",\"instanceArgs\":{\"imports\":{\"data\":[{\"name\":\"Plotly\",\"type\":\"js\",\"url\":\"\\/assetserver\\/e6903599031aaef8675931dfcd7df98a1aeffbfc-plotly-latest.min.js\"},{\"name\":null,\"type\":\"js\",\"url\":\"\\/assetserver\\/74a5dea81f21b0b802ef1ee92f1c8a504eac1a0c-plotly_webio.bundle.js\"}],\"type\":\"async_block\"},\"id\":\"888342801436498071\",\"handlers\":{\"_toImage\":[\"(function (options){return this.Plotly.toImage(this.plotElem,options).then((function (data){return WebIO.setval({\\\"name\\\":\\\"image\\\",\\\"scope\\\":\\\"888342801436498071\\\",\\\"id\\\":\\\"3122268512730439649\\\",\\\"type\\\":\\\"observable\\\"},data)}))})\"],\"__get_gd_contents\":[\"(function (prop){prop==\\\"data\\\" ? (WebIO.setval({\\\"name\\\":\\\"__gd_contents\\\",\\\"scope\\\":\\\"888342801436498071\\\",\\\"id\\\":\\\"5575713333401102834\\\",\\\"type\\\":\\\"observable\\\"},this.plotElem.data)) : undefined; return prop==\\\"layout\\\" ? (WebIO.setval({\\\"name\\\":\\\"__gd_contents\\\",\\\"scope\\\":\\\"888342801436498071\\\",\\\"id\\\":\\\"5575713333401102834\\\",\\\"type\\\":\\\"observable\\\"},this.plotElem.layout)) : undefined})\"],\"_downloadImage\":[\"(function (options){return this.Plotly.downloadImage(this.plotElem,options)})\"],\"_commands\":[\"(function (args){var fn=args.shift(); var elem=this.plotElem; var Plotly=this.Plotly; args.unshift(elem); return Plotly[fn].apply(this,args)})\"]},\"systemjs_options\":null,\"mount_callbacks\":[\"function () {\\n    var handler = ((function (Plotly,PlotlyWebIO){PlotlyWebIO.init(WebIO); var gd=this.dom.querySelector(\\\"#plot-469e0ce3-a501-4ba5-9f07-931f62df4ae6\\\"); this.plotElem=gd; this.Plotly=Plotly; (window.Blink!==undefined) ? (gd.style.width=\\\"100%\\\", gd.style.height=\\\"100vh\\\", gd.style.marginLeft=\\\"0%\\\", gd.style.marginTop=\\\"0vh\\\") : undefined; window.onresize=(function (){return Plotly.Plots.resize(gd)}); Plotly.newPlot(gd,[{\\\"showlegend\\\":false,\\\"mode\\\":\\\"lines\\\",\\\"line\\\":{\\\"color\\\":\\\"#FFBB78\\\"},\\\"y\\\":[0.4964412748813629,0.4964412748813629,null,0.4964412748813629,0.3124241232872009,null,0.4964412748813629,0.4465169310569763,null],\\\"type\\\":\\\"scatter\\\",\\\"hoverinfo\\\":\\\"skip\\\",\\\"yaxis\\\":\\\"y1\\\",\\\"x\\\":[2.0,5.25,null,2.0,2.0,null,5.25,5.25,null]},{\\\"showlegend\\\":false,\\\"mode\\\":\\\"lines\\\",\\\"line\\\":{\\\"color\\\":\\\"#AEC7E8\\\"},\\\"y\\\":[0.0,0.01225490216165781,0.01225490216165781,0.0],\\\"type\\\":\\\"scatter\\\",\\\"fill\\\":\\\"toself\\\",\\\"hoverinfo\\\":\\\"skip\\\",\\\"yaxis\\\":\\\"y1\\\",\\\"x\\\":[12.0,12.0,13.0,13.0]},{\\\"showlegend\\\":false,\\\"mode\\\":\\\"lines\\\",\\\"line\\\":{\\\"color\\\":\\\"#AEC7E8\\\"},\\\"y\\\":[0.0,0.1703633815050125,0.1703633815050125,0.0],\\\"type\\\":\\\"scatter\\\",\\\"fill\\\":\\\"toself\\\",\\\"hoverinfo\\\":\\\"skip\\\",\\\"yaxis\\\":\\\"y1\\\",\\\"x\\\":[31.06449510224598,31.06449510224598,32.064495102245985,32.064495102245985]},{\\\"showlegend\\\":false,\\\"mode\\\":\\\"lines\\\",\\\"line\\\":{\\\"color\\\":\\\"#AEC7E8\\\"},\\\"y\\\":[0.6237499713897705,0.6237499713897705,null,0.6237499713897705,0.5678813457489014,null,0.6237499713897705,0.0,null],\\\"type\\\":\\\"scatter\\\",\\\"hoverinfo\\\":\\\"skip\\\",\\\"yaxis\\\":\\\"y1\\\",\\\"x\\\":[17.758883476483184,24.414213562373096,null,17.758883476483184,17.758883476483184,null,24.414213562373096,24.414213562373096,null]},{\\\"showlegend\\\":false,\\\"mode\\\":\\\"lines\\\",\\\"line\\\":{\\\"color\\\":\\\"#666666\\\"},\\\"y\\\":[0.9098557829856873,0.9098557829856873,null,0.9098557829856873,0.8102660775184631,null,0.9098557829856873,0.8681948184967041,null],\\\"type\\\":\\\"scatter\\\",\\\"hoverinfo\\\":\\\"skip\\\",\\\"yaxis\\\":\\\"y1\\\",\\\"x\\\":[6.25,25.429515749232156,null,6.25,6.25,null,25.429515749232156,25.429515749232156,null]},{\\\"showlegend\\\":false,\\\"mode\\\":\\\"lines\\\",\\\"line\\\":{\\\"color\\\":\\\"#AEC7E8\\\"},\\\"y\\\":[0.8681948184967041,0.8681948184967041,null,0.8681948184967041,0.6237499713897705,null,0.8681948184967041,0.8267649412155151,null],\\\"type\\\":\\\"scatter\\\",\\\"hoverinfo\\\":\\\"skip\\\",\\\"yaxis\\\":\\\"y1\\\",\\\"x\\\":[21.086548519428142,29.77248297903617,null,21.086548519428142,21.086548519428142,null,29.77248297903617,29.77248297903617,null]},{\\\"showlegend\\\":false,\\\"mode\\\":\\\"lines\\\",\\\"line\\\":{\\\"color\\\":\\\"#AEC7E8\\\"},\\\"y\\\":[0.5007727742195129,0.5007727742195129,null,0.5007727742195129,0.43841516971588135,null,0.5007727742195129,0.4941309988498688,null],\\\"type\\\":\\\"scatter\\\",\\\"hoverinfo\\\":\\\"skip\\\",\\\"yaxis\\\":\\\"y1\\\",\\\"x\\\":[29.35738832105943,32.564495102245985,null,29.35738832105943,29.35738832105943,null,32.564495102245985,32.564495102245985,null]},{\\\"showlegend\\\":false,\\\"mode\\\":\\\"lines\\\",\\\"line\\\":{\\\"color\\\":\\\"#AEC7E8\\\"},\\\"y\\\":[0.0,0.43841516971588135,0.43841516971588135,0.0],\\\"type\\\":\\\"scatter\\\",\\\"fill\\\":\\\"toself\\\",\\\"hoverinfo\\\":\\\"skip\\\",\\\"yaxis\\\":\\\"y1\\\",\\\"x\\\":[28.650281539872886,28.650281539872886,30.06449510224598,30.06449510224598]},{\\\"showlegend\\\":false,\\\"mode\\\":\\\"lines\\\",\\\"line\\\":{\\\"color\\\":\\\"#AEC7E8\\\"},\\\"y\\\":[0.0,0.004932735580950975,0.004932735580950975,0.0],\\\"type\\\":\\\"scatter\\\",\\\"fill\\\":\\\"toself\\\",\\\"hoverinfo\\\":\\\"skip\\\",\\\"yaxis\\\":\\\"y1\\\",\\\"x\\\":[9.0,9.0,10.0,10.0]},{\\\"showlegend\\\":false,\\\"mode\\\":\\\"lines\\\",\\\"line\\\":{\\\"color\\\":\\\"#AEC7E8\\\"},\\\"y\\\":[0.5678813457489014,0.5678813457489014,null,0.5678813457489014,0.4625678062438965,null,0.5678813457489014,0.5650663375854492,null],\\\"type\\\":\\\"scatter\\\",\\\"hoverinfo\\\":\\\"skip\\\",\\\"yaxis\\\":\\\"y1\\\",\\\"x\\\":[13.603553390593273,21.914213562373096,null,13.603553390593273,13.603553390593273,null,21.914213562373096,21.914213562373096,null]},{\\\"showlegend\\\":false,\\\"mode\\\":\\\"lines\\\",\\\"line\\\":{\\\"color\\\":\\\"#AEC7E8\\\"},\\\"y\\\":[0.0,0.3578336536884308,0.3578336536884308,0.0],\\\"type\\\":\\\"scatter\\\",\\\"fill\\\":\\\"toself\\\",\\\"hoverinfo\\\":\\\"skip\\\",\\\"yaxis\\\":\\\"y1\\\",\\\"x\\\":[25.414213562373096,25.414213562373096,27.650281539872886,27.650281539872886]},{\\\"showlegend\\\":false,\\\"mode\\\":\\\"lines\\\",\\\"line\\\":{\\\"color\\\":\\\"#AEC7E8\\\"},\\\"y\\\":[0.488546758890152,0.488546758890152,null,0.488546758890152,0.005164319183677435,null,0.488546758890152,0.46563979983329773,null],\\\"type\\\":\\\"scatter\\\",\\\"hoverinfo\\\":\\\"skip\\\",\\\"yaxis\\\":\\\"y1\\\",\\\"x\\\":[16.914213562373096,19.914213562373096,null,16.914213562373096,16.914213562373096,null,19.914213562373096,19.914213562373096,null]},{\\\"showlegend\\\":false,\\\"mode\\\":\\\"lines\\\",\\\"line\\\":{\\\"color\\\":\\\"#FFBB78\\\"},\\\"y\\\":[0.0,0.3124241232872009,0.3124241232872009,0.0],\\\"type\\\":\\\"scatter\\\",\\\"fill\\\":\\\"toself\\\",\\\"hoverinfo\\\":\\\"skip\\\",\\\"yaxis\\\":\\\"y1\\\",\\\"x\\\":[1.0,1.0,3.0,3.0]},{\\\"showlegend\\\":false,\\\"mode\\\":\\\"lines\\\",\\\"line\\\":{\\\"color\\\":\\\"#AEC7E8\\\"},\\\"y\\\":[0.4625678062438965,0.4625678062438965,null,0.4625678062438965,0.01225490216165781,null,0.4625678062438965,0.23702213168144226,null],\\\"type\\\":\\\"scatter\\\",\\\"hoverinfo\\\":\\\"skip\\\",\\\"yaxis\\\":\\\"y1\\\",\\\"x\\\":[12.5,14.707106781186548,null,12.5,12.5,null,14.707106781186548,14.707106781186548,null]},{\\\"showlegend\\\":false,\\\"mode\\\":\\\"lines\\\",\\\"line\\\":{\\\"color\\\":\\\"#AEC7E8\\\"},\\\"y\\\":[0.46563979983329773,0.46563979983329773,null,0.46563979983329773,0.18958428502082825,null,0.46563979983329773,0.3004005253314972,null],\\\"type\\\":\\\"scatter\\\",\\\"hoverinfo\\\":\\\"skip\\\",\\\"yaxis\\\":\\\"y1\\\",\\\"x\\\":[18.914213562373096,20.914213562373096,null,18.914213562373096,18.914213562373096,null,20.914213562373096,20.914213562373096,null]},{\\\"showlegend\\\":false,\\\"mode\\\":\\\"lines\\\",\\\"line\\\":{\\\"color\\\":\\\"#AEC7E8\\\"},\\\"y\\\":[0.0,0.005164319183677435,0.005164319183677435,0.0],\\\"type\\\":\\\"scatter\\\",\\\"fill\\\":\\\"toself\\\",\\\"hoverinfo\\\":\\\"skip\\\",\\\"yaxis\\\":\\\"y1\\\",\\\"x\\\":[16.414213562373096,16.414213562373096,17.414213562373096,17.414213562373096]},{\\\"showlegend\\\":false,\\\"mode\\\":\\\"lines\\\",\\\"line\\\":{\\\"color\\\":\\\"#AEC7E8\\\"},\\\"y\\\":[0.5588139295578003,0.5588139295578003,null,0.5588139295578003,0.004932735580950975,null,0.5588139295578003,0.0,null],\\\"type\\\":\\\"scatter\\\",\\\"hoverinfo\\\":\\\"skip\\\",\\\"yaxis\\\":\\\"y1\\\",\\\"x\\\":[9.5,11.0,null,9.5,9.5,null,11.0,11.0,null]},{\\\"showlegend\\\":false,\\\"mode\\\":\\\"lines\\\",\\\"line\\\":{\\\"color\\\":\\\"#AEC7E8\\\"},\\\"y\\\":[0.0,0.23702213168144226,0.23702213168144226,0.0],\\\"type\\\":\\\"scatter\\\",\\\"fill\\\":\\\"toself\\\",\\\"hoverinfo\\\":\\\"skip\\\",\\\"yaxis\\\":\\\"y1\\\",\\\"x\\\":[14.0,14.0,15.414213562373096,15.414213562373096]},{\\\"showlegend\\\":false,\\\"mode\\\":\\\"lines\\\",\\\"line\\\":{\\\"color\\\":\\\"#AEC7E8\\\"},\\\"y\\\":[0.5650663375854492,0.5650663375854492,null,0.5650663375854492,0.5294764041900635,null,0.5650663375854492,0.0,null],\\\"type\\\":\\\"scatter\\\",\\\"hoverinfo\\\":\\\"skip\\\",\\\"yaxis\\\":\\\"y1\\\",\\\"x\\\":[20.414213562373096,23.414213562373096,null,20.414213562373096,20.414213562373096,null,23.414213562373096,23.414213562373096,null]},{\\\"showlegend\\\":false,\\\"mode\\\":\\\"lines\\\",\\\"line\\\":{\\\"color\\\":\\\"#AEC7E8\\\"},\\\"y\\\":[0.5448741912841797,0.5448741912841797,null,0.5448741912841797,0.5007727742195129,null,0.5448741912841797,0.0,null],\\\"type\\\":\\\"scatter\\\",\\\"hoverinfo\\\":\\\"skip\\\",\\\"yaxis\\\":\\\"y1\\\",\\\"x\\\":[30.96094171165271,35.064495102245985,null,30.96094171165271,30.96094171165271,null,35.064495102245985,35.064495102245985,null]},{\\\"showlegend\\\":false,\\\"mode\\\":\\\"lines\\\",\\\"line\\\":{\\\"color\\\":\\\"#AEC7E8\\\"},\\\"y\\\":[0.0,0.4152263402938843,0.4152263402938843,0.0],\\\"type\\\":\\\"scatter\\\",\\\"fill\\\":\\\"toself\\\",\\\"hoverinfo\\\":\\\"skip\\\",\\\"yaxis\\\":\\\"y1\\\",\\\"x\\\":[33.064495102245985,33.064495102245985,34.064495102245985,34.064495102245985]},{\\\"showlegend\\\":false,\\\"mode\\\":\\\"lines\\\",\\\"line\\\":{\\\"color\\\":\\\"#AEC7E8\\\"},\\\"y\\\":[0.8267649412155151,0.8267649412155151,null,0.8267649412155151,0.3578336536884308,null,0.8267649412155151,0.5448741912841797,null],\\\"type\\\":\\\"scatter\\\",\\\"hoverinfo\\\":\\\"skip\\\",\\\"yaxis\\\":\\\"y1\\\",\\\"x\\\":[26.532247551122992,33.01271840694935,null,26.532247551122992,26.532247551122992,null,33.01271840694935,33.01271840694935,null]},{\\\"showlegend\\\":false,\\\"mode\\\":\\\"lines\\\",\\\"line\\\":{\\\"color\\\":\\\"#FFBB78\\\"},\\\"y\\\":[0.0,0.009385265409946442,0.009385265409946442,0.0],\\\"type\\\":\\\"scatter\\\",\\\"fill\\\":\\\"toself\\\",\\\"hoverinfo\\\":\\\"skip\\\",\\\"yaxis\\\":\\\"y1\\\",\\\"x\\\":[4.0,4.0,5.0,5.0]},{\\\"showlegend\\\":false,\\\"mode\\\":\\\"lines\\\",\\\"line\\\":{\\\"color\\\":\\\"#AEC7E8\\\"},\\\"y\\\":[0.5294764041900635,0.5294764041900635,null,0.5294764041900635,0.488546758890152,null,0.5294764041900635,0.0,null],\\\"type\\\":\\\"scatter\\\",\\\"hoverinfo\\\":\\\"skip\\\",\\\"yaxis\\\":\\\"y1\\\",\\\"x\\\":[18.414213562373096,22.414213562373096,null,18.414213562373096,18.414213562373096,null,22.414213562373096,22.414213562373096,null]},{\\\"showlegend\\\":false,\\\"mode\\\":\\\"lines\\\",\\\"line\\\":{\\\"color\\\":\\\"#FFBB78\\\"},\\\"y\\\":[0.4465169310569763,0.4465169310569763,null,0.4465169310569763,0.009385265409946442,null,0.4465169310569763,0.0,null],\\\"type\\\":\\\"scatter\\\",\\\"hoverinfo\\\":\\\"skip\\\",\\\"yaxis\\\":\\\"y1\\\",\\\"x\\\":[4.5,6.0,null,4.5,4.5,null,6.0,6.0,null]},{\\\"showlegend\\\":false,\\\"mode\\\":\\\"lines\\\",\\\"line\\\":{\\\"color\\\":\\\"#666666\\\"},\\\"y\\\":[0.8102660775184631,0.8102660775184631,null,0.8102660775184631,0.4964412748813629,null,0.8102660775184631,0.5844318866729736,null],\\\"type\\\":\\\"scatter\\\",\\\"hoverinfo\\\":\\\"skip\\\",\\\"yaxis\\\":\\\"y1\\\",\\\"x\\\":[3.625,8.875,null,3.625,3.625,null,8.875,8.875,null]},{\\\"showlegend\\\":false,\\\"mode\\\":\\\"lines\\\",\\\"line\\\":{\\\"color\\\":\\\"#AEC7E8\\\"},\\\"y\\\":[0.4941309988498688,0.4941309988498688,null,0.4941309988498688,0.1703633815050125,null,0.4941309988498688,0.4152263402938843,null],\\\"type\\\":\\\"scatter\\\",\\\"hoverinfo\\\":\\\"skip\\\",\\\"yaxis\\\":\\\"y1\\\",\\\"x\\\":[31.564495102245985,33.564495102245985,null,31.564495102245985,31.564495102245985,null,33.564495102245985,33.564495102245985,null]},{\\\"showlegend\\\":false,\\\"mode\\\":\\\"lines\\\",\\\"line\\\":{\\\"color\\\":\\\"#AEC7E8\\\"},\\\"y\\\":[0.0,0.3004005253314972,0.3004005253314972,0.0],\\\"type\\\":\\\"scatter\\\",\\\"fill\\\":\\\"toself\\\",\\\"hoverinfo\\\":\\\"skip\\\",\\\"yaxis\\\":\\\"y1\\\",\\\"x\\\":[20.414213562373096,20.414213562373096,21.414213562373096,21.414213562373096]},{\\\"showlegend\\\":false,\\\"mode\\\":\\\"lines\\\",\\\"line\\\":{\\\"color\\\":\\\"#AEC7E8\\\"},\\\"y\\\":[0.5058441758155823,0.5058441758155823,null,0.5058441758155823,0.0,null,0.5058441758155823,0.0,null],\\\"type\\\":\\\"scatter\\\",\\\"hoverinfo\\\":\\\"skip\\\",\\\"yaxis\\\":\\\"y1\\\",\\\"x\\\":[7.0,8.0,null,7.0,7.0,null,8.0,8.0,null]},{\\\"showlegend\\\":false,\\\"mode\\\":\\\"lines\\\",\\\"line\\\":{\\\"color\\\":\\\"#AEC7E8\\\"},\\\"y\\\":[0.5844318866729736,0.5844318866729736,null,0.5844318866729736,0.5058441758155823,null,0.5844318866729736,0.5588139295578003,null],\\\"type\\\":\\\"scatter\\\",\\\"hoverinfo\\\":\\\"skip\\\",\\\"yaxis\\\":\\\"y1\\\",\\\"x\\\":[7.5,10.25,null,7.5,7.5,null,10.25,10.25,null]},{\\\"showlegend\\\":false,\\\"mode\\\":\\\"lines\\\",\\\"line\\\":{\\\"color\\\":\\\"#AEC7E8\\\"},\\\"y\\\":[0.0,0.18958428502082825,0.18958428502082825,0.0],\\\"type\\\":\\\"scatter\\\",\\\"fill\\\":\\\"toself\\\",\\\"hoverinfo\\\":\\\"skip\\\",\\\"yaxis\\\":\\\"y1\\\",\\\"x\\\":[18.414213562373096,18.414213562373096,19.414213562373096,19.414213562373096]},{\\\"showlegend\\\":false,\\\"mode\\\":\\\"markers\\\",\\\"marker\\\":{\\\"color\\\":[\\\"#FFBB78\\\",\\\"#AEC7E8\\\",\\\"#AEC7E8\\\",\\\"#AEC7E8\\\",\\\"#666666\\\",\\\"#AEC7E8\\\",\\\"#AEC7E8\\\",\\\"#AEC7E8\\\",\\\"#AEC7E8\\\",\\\"#AEC7E8\\\",\\\"#AEC7E8\\\",\\\"#AEC7E8\\\",\\\"#FFBB78\\\",\\\"#AEC7E8\\\",\\\"#AEC7E8\\\",\\\"#AEC7E8\\\",\\\"#AEC7E8\\\",\\\"#AEC7E8\\\",\\\"#AEC7E8\\\",\\\"#AEC7E8\\\",\\\"#AEC7E8\\\",\\\"#AEC7E8\\\",\\\"#FFBB78\\\",\\\"#AEC7E8\\\",\\\"#FFBB78\\\",\\\"#666666\\\",\\\"#AEC7E8\\\",\\\"#AEC7E8\\\",\\\"#AEC7E8\\\",\\\"#AEC7E8\\\",\\\"#AEC7E8\\\"],\\\"size\\\":[8,8,8,8,8,4,4,4,8,8,8,4,8,8,8,8,4,8,4,8,4,4,8,4,8,8,4,8,8,8,8]},\\\"y\\\":[0.4964412748813629,0.01225490216165781,0.1703633815050125,0.6237499713897705,0.9098557829856873,0.8681948184967041,0.5007727742195129,0.43841516971588135,0.004932735580950975,0.5678813457489014,0.3578336536884308,0.488546758890152,0.3124241232872009,0.4625678062438965,0.46563979983329773,0.005164319183677435,0.5588139295578003,0.23702213168144226,0.5650663375854492,0.5448741912841797,0.4152263402938843,0.8267649412155151,0.009385265409946442,0.5294764041900635,0.4465169310569763,0.8102660775184631,0.4941309988498688,0.3004005253314972,0.5058441758155823,0.5844318866729736,0.18958428502082825],\\\"type\\\":\\\"scatter\\\",\\\"customdata\\\":[[68,8,\\\"hwasookii\\\"],[47,2,\\\"nucleatum\\\"],[50,2,\\\"nucleatum\\\"],[77,14,\\\"nucleatum\\\"],[81,41,\\\"(mixed)\\\"],[80,28,\\\"nucleatum\\\"],[69,7,\\\"nucleatum\\\"],[62,3,\\\"nucleatum\\\"],[43,2,\\\"nucleatum\\\"],[75,13,\\\"nucleatum\\\"],[60,6,\\\"nucleatum\\\"],[66,6,\\\"nucleatum\\\"],[58,5,\\\"hwasookii\\\"],[64,5,\\\"nucleatum\\\"],[65,4,\\\"nucleatum\\\"],[44,2,\\\"nucleatum\\\"],[73,3,\\\"nucleatum\\\"],[53,3,\\\"nucleatum\\\"],[74,8,\\\"nucleatum\\\"],[72,8,\\\"nucleatum\\\"],[61,2,\\\"nucleatum\\\"],[79,14,\\\"nucleatum\\\"],[45,2,\\\"hwasookii\\\"],[71,7,\\\"nucleatum\\\"],[63,3,\\\"hwasookii\\\"],[78,13,\\\"(mixed)\\\"],[67,4,\\\"nucleatum\\\"],[56,2,\\\"nucleatum\\\"],[70,2,\\\"nucleatum\\\"],[76,5,\\\"nucleatum\\\"],[52,2,\\\"nucleatum\\\"]],\\\"yaxis\\\":\\\"y1\\\",\\\"hovertemplate\\\":\\\"ID: %{customdata[0]}<br>\\\\nHeight: %{y:.3f}<br>\\\\nGenome count: %{customdata[1]}\\\\n<br>\\\\n%{customdata[2]}\\\\n<extra><\\/extra>\\\",\\\"x\\\":[3.625,12.5,31.564495102245985,21.086548519428142,15.839757874616078,25.429515749232156,30.96094171165271,29.35738832105943,9.5,17.758883476483184,26.532247551122992,18.414213562373096,2.0,13.603553390593273,19.914213562373096,16.914213562373096,10.25,14.707106781186548,21.914213562373096,33.01271840694935,33.564495102245985,29.77248297903617,4.5,20.414213562373096,5.25,6.25,32.564495102245985,20.914213562373096,7.5,8.875,18.914213562373096]},{\\\"colorscale\\\":[[0.0,\\\"#666666\\\"],[0.1,\\\"#AEC7E8\\\"],[0.2,\\\"#FFBB78\\\"],[0.3,\\\"#98DF8A\\\"],[0.4,\\\"#FF9896\\\"],[0.5,\\\"#C5B0D5\\\"],[0.6,\\\"#C49C94\\\"],[0.7,\\\"#F7B6D2\\\"],[0.8,\\\"#C7C7C7\\\"],[0.9,\\\"#DBDB8D\\\"],[1.0,\\\"#9EDAE5\\\"]],\\\"yaxis\\\":\\\"y2\\\",\\\"showscale\\\":false,\\\"x\\\":[0.5,3.5,5.5,6.5,7.5,8.5,10.5,11.5,13.5,15.914213562373096,17.914213562373096,19.914213562373096,21.914213562373096,22.914213562373096,23.914213562373096,24.914213562373096,28.150281539872886,30.56449510224598,32.564495102245985,34.564495102245985,35.564495102245985],\\\"customdata\\\":[[[\\\"ID 58\\\",\\\"hwasookii\\\"],[\\\"ID 45\\\",\\\"hwasookii\\\"],[\\\"Genome 34\\\",\\\"hwasookii\\\"],[\\\"Genome 27\\\",\\\"nucleatum\\\"],[\\\"Genome 30\\\",\\\"nucleatum\\\"],[\\\"ID 43\\\",\\\"nucleatum\\\"],[\\\"Genome 21\\\",\\\"nucleatum\\\"],[\\\"ID 47\\\",\\\"nucleatum\\\"],[\\\"ID 53\\\",\\\"nucleatum\\\"],[\\\"ID 44\\\",\\\"nucleatum\\\"],[\\\"ID 52\\\",\\\"nucleatum\\\"],[\\\"ID 56\\\",\\\"nucleatum\\\"],[\\\"Genome 23\\\",\\\"nucleatum\\\"],[\\\"Genome 11\\\",\\\"nucleatum\\\"],[\\\"Genome 33\\\",\\\"nucleatum\\\"],[\\\"ID 60\\\",\\\"nucleatum\\\"],[\\\"ID 62\\\",\\\"nucleatum\\\"],[\\\"ID 50\\\",\\\"nucleatum\\\"],[\\\"ID 61\\\",\\\"nucleatum\\\"],[\\\"Genome 9\\\",\\\"nucleatum\\\"]]],\\\"zmin\\\":0,\\\"z\\\":[[2,2,2,1,1,1,1,1,1,1,1,1,1,1,1,1,1,1,1,1]],\\\"zmax\\\":10,\\\"type\\\":\\\"heatmap\\\",\\\"xgap\\\":1,\\\"hovertemplate\\\":\\\"%{customdata[0]} <br>\\\\n%{customdata[1]}\\\\n<extra><\\/extra>\\\\n\\\"}],{\\\"xaxis\\\":{\\\"visible\\\":false},\\\"hovermode\\\":\\\"closest\\\",\\\"margin\\\":{\\\"l\\\":50,\\\"b\\\":50,\\\"r\\\":50,\\\"t\\\":60},\\\"yaxis2\\\":{\\\"visible\\\":false,\\\"domain\\\":[0.0,0.05],\\\"fixedrange\\\":true}},{}); gd.on(\\\"plotly_hover\\\",(function (data){var filtered_data=WebIO.PlotlyCommands.filterEventData(gd,data,\\\"hover\\\"); return !(filtered_data.isnil) ? (WebIO.setval({\\\"name\\\":\\\"hover\\\",\\\"scope\\\":\\\"888342801436498071\\\",\\\"id\\\":\\\"10282787292014564100\\\",\\\"type\\\":\\\"observable\\\"},filtered_data.out)) : undefined})); gd.on(\\\"plotly_unhover\\\",(function (){return WebIO.setval({\\\"name\\\":\\\"hover\\\",\\\"scope\\\":\\\"888342801436498071\\\",\\\"id\\\":\\\"10282787292014564100\\\",\\\"type\\\":\\\"observable\\\"},{})})); gd.on(\\\"plotly_selected\\\",(function (data){var filtered_data=WebIO.PlotlyCommands.filterEventData(gd,data,\\\"selected\\\"); return !(filtered_data.isnil) ? (WebIO.setval({\\\"name\\\":\\\"selected\\\",\\\"scope\\\":\\\"888342801436498071\\\",\\\"id\\\":\\\"12781639554931702613\\\",\\\"type\\\":\\\"observable\\\"},filtered_data.out)) : undefined})); gd.on(\\\"plotly_deselect\\\",(function (){return WebIO.setval({\\\"name\\\":\\\"selected\\\",\\\"scope\\\":\\\"888342801436498071\\\",\\\"id\\\":\\\"12781639554931702613\\\",\\\"type\\\":\\\"observable\\\"},{})})); gd.on(\\\"plotly_relayout\\\",(function (data){var filtered_data=WebIO.PlotlyCommands.filterEventData(gd,data,\\\"relayout\\\"); return !(filtered_data.isnil) ? (WebIO.setval({\\\"name\\\":\\\"relayout\\\",\\\"scope\\\":\\\"888342801436498071\\\",\\\"id\\\":\\\"10868117328150452578\\\",\\\"type\\\":\\\"observable\\\"},filtered_data.out)) : undefined})); return gd.on(\\\"plotly_click\\\",(function (data){var filtered_data=WebIO.PlotlyCommands.filterEventData(gd,data,\\\"click\\\"); return !(filtered_data.isnil) ? (WebIO.setval({\\\"name\\\":\\\"click\\\",\\\"scope\\\":\\\"888342801436498071\\\",\\\"id\\\":\\\"15293816292465923622\\\",\\\"type\\\":\\\"observable\\\"},filtered_data.out)) : undefined}))}));\\n    (WebIO.importBlock({\\\"data\\\":[{\\\"name\\\":\\\"Plotly\\\",\\\"type\\\":\\\"js\\\",\\\"url\\\":\\\"\\/assetserver\\/e6903599031aaef8675931dfcd7df98a1aeffbfc-plotly-latest.min.js\\\"},{\\\"name\\\":null,\\\"type\\\":\\\"js\\\",\\\"url\\\":\\\"\\/assetserver\\/74a5dea81f21b0b802ef1ee92f1c8a504eac1a0c-plotly_webio.bundle.js\\\"}],\\\"type\\\":\\\"async_block\\\"})).then((imports) => handler.apply(this, imports));\\n}\\n\"],\"observables\":{\"_toImage\":{\"sync\":false,\"id\":\"18097087726419151810\",\"value\":{}},\"hover\":{\"sync\":false,\"id\":\"10282787292014564100\",\"value\":{}},\"selected\":{\"sync\":false,\"id\":\"12781639554931702613\",\"value\":{}},\"__gd_contents\":{\"sync\":false,\"id\":\"5575713333401102834\",\"value\":{}},\"click\":{\"sync\":false,\"id\":\"15293816292465923622\",\"value\":{}},\"image\":{\"sync\":true,\"id\":\"3122268512730439649\",\"value\":\"\"},\"__get_gd_contents\":{\"sync\":false,\"id\":\"17630414114022471907\",\"value\":\"\"},\"_downloadImage\":{\"sync\":false,\"id\":\"7061715024292648942\",\"value\":{}},\"relayout\":{\"sync\":false,\"id\":\"10868117328150452578\",\"value\":{}},\"_commands\":{\"sync\":false,\"id\":\"1585787736177236029\",\"value\":[]}}},\"children\":[{\"props\":{\"id\":\"plot-469e0ce3-a501-4ba5-9f07-931f62df4ae6\"},\"nodeType\":\"DOM\",\"type\":\"node\",\"instanceArgs\":{\"namespace\":\"html\",\"tag\":\"div\"},\"children\":[]}]},\n",
       "            window,\n",
       "        );\n",
       "    } else {\n",
       "        document\n",
       "            .querySelector('[data-webio-mountpoint=\"2235917503024810726\"]')\n",
       "            .innerHTML = (\n",
       "                '<div style=\"padding: 1em; background-color: #f8d6da; border: 1px solid #f5c6cb\">' +\n",
       "                '<p><strong>WebIO not detected.</strong></p>' +\n",
       "                '<p>Please read ' +\n",
       "                '<a href=\"https://juliagizmos.github.io/WebIO.jl/latest/troubleshooting/not-detected/\" target=\"_blank\">the troubleshooting guide</a> ' +\n",
       "                'for more information on how to resolve this issue.</p>' +\n",
       "                '<p><a href=\"https://juliagizmos.github.io/WebIO.jl/latest/troubleshooting/not-detected/\" target=\"_blank\">https://juliagizmos.github.io/WebIO.jl/latest/troubleshooting/not-detected/</a></p>' +\n",
       "                '</div>'\n",
       "            );\n",
       "    }\n",
       "    </script>\n",
       "</div>\n"
      ],
      "text/plain": [
       "data: [\n",
       "  \"scatter with fields hoverinfo, line, mode, showlegend, type, x, y, and yaxis\",\n",
       "  \"scatter with fields fill, hoverinfo, line, mode, showlegend, type, x, y, and yaxis\",\n",
       "  \"scatter with fields fill, hoverinfo, line, mode, showlegend, type, x, y, and yaxis\",\n",
       "  \"scatter with fields hoverinfo, line, mode, showlegend, type, x, y, and yaxis\",\n",
       "  \"scatter with fields hoverinfo, line, mode, showlegend, type, x, y, and yaxis\",\n",
       "  \"scatter with fields hoverinfo, line, mode, showlegend, type, x, y, and yaxis\",\n",
       "  \"scatter with fields hoverinfo, line, mode, showlegend, type, x, y, and yaxis\",\n",
       "  \"scatter with fields fill, hoverinfo, line, mode, showlegend, type, x, y, and yaxis\",\n",
       "  \"scatter with fields fill, hoverinfo, line, mode, showlegend, type, x, y, and yaxis\",\n",
       "  \"scatter with fields hoverinfo, line, mode, showlegend, type, x, y, and yaxis\",\n",
       "  \"scatter with fields fill, hoverinfo, line, mode, showlegend, type, x, y, and yaxis\",\n",
       "  \"scatter with fields hoverinfo, line, mode, showlegend, type, x, y, and yaxis\",\n",
       "  \"scatter with fields fill, hoverinfo, line, mode, showlegend, type, x, y, and yaxis\",\n",
       "  \"scatter with fields hoverinfo, line, mode, showlegend, type, x, y, and yaxis\",\n",
       "  \"scatter with fields hoverinfo, line, mode, showlegend, type, x, y, and yaxis\",\n",
       "  \"scatter with fields fill, hoverinfo, line, mode, showlegend, type, x, y, and yaxis\",\n",
       "  \"scatter with fields hoverinfo, line, mode, showlegend, type, x, y, and yaxis\",\n",
       "  \"scatter with fields fill, hoverinfo, line, mode, showlegend, type, x, y, and yaxis\",\n",
       "  \"scatter with fields hoverinfo, line, mode, showlegend, type, x, y, and yaxis\",\n",
       "  \"scatter with fields hoverinfo, line, mode, showlegend, type, x, y, and yaxis\",\n",
       "  \"scatter with fields fill, hoverinfo, line, mode, showlegend, type, x, y, and yaxis\",\n",
       "  \"scatter with fields hoverinfo, line, mode, showlegend, type, x, y, and yaxis\",\n",
       "  \"scatter with fields fill, hoverinfo, line, mode, showlegend, type, x, y, and yaxis\",\n",
       "  \"scatter with fields hoverinfo, line, mode, showlegend, type, x, y, and yaxis\",\n",
       "  \"scatter with fields hoverinfo, line, mode, showlegend, type, x, y, and yaxis\",\n",
       "  \"scatter with fields hoverinfo, line, mode, showlegend, type, x, y, and yaxis\",\n",
       "  \"scatter with fields hoverinfo, line, mode, showlegend, type, x, y, and yaxis\",\n",
       "  \"scatter with fields fill, hoverinfo, line, mode, showlegend, type, x, y, and yaxis\",\n",
       "  \"scatter with fields hoverinfo, line, mode, showlegend, type, x, y, and yaxis\",\n",
       "  \"scatter with fields hoverinfo, line, mode, showlegend, type, x, y, and yaxis\",\n",
       "  \"scatter with fields fill, hoverinfo, line, mode, showlegend, type, x, y, and yaxis\",\n",
       "  \"scatter with fields customdata, hovertemplate, marker, mode, showlegend, type, x, y, and yaxis\",\n",
       "  \"heatmap with fields colorscale, customdata, hovertemplate, showscale, type, x, xgap, yaxis, z, zmax, and zmin\"\n",
       "]\n",
       "\n",
       "layout: \"layout with fields hovermode, margin, xaxis, and yaxis2\"\n",
       "\n"
      ]
     },
     "execution_count": 4,
     "metadata": {},
     "output_type": "execute_result"
    }
   ],
   "source": [
    "trees[\"all\"] = cluster_annotate(cdata, 1:cdata.ntaxa)\n",
    "plot(dendrogram(cdata, trees[\"all\"]))"
   ]
  },
  {
   "cell_type": "markdown",
   "id": "universal-commonwealth",
   "metadata": {},
   "source": [
    "## Edits"
   ]
  },
  {
   "cell_type": "markdown",
   "id": "shared-duplicate",
   "metadata": {},
   "source": [
    "### nucleatum"
   ]
  },
  {
   "cell_type": "code",
   "execution_count": 5,
   "id": "champion-benjamin",
   "metadata": {},
   "outputs": [
    {
     "data": {
      "application/vnd.plotly.v1+json": {
       "data": [
        {
         "colorscale": [
          [
           0,
           "#000004"
          ],
          [
           0.00392156862745098,
           "#010005"
          ],
          [
           0.00784313725490196,
           "#010106"
          ],
          [
           0.011764705882352941,
           "#010108"
          ],
          [
           0.01568627450980392,
           "#020109"
          ],
          [
           0.0196078431372549,
           "#02020B"
          ],
          [
           0.023529411764705882,
           "#02020D"
          ],
          [
           0.027450980392156862,
           "#03030F"
          ],
          [
           0.03137254901960784,
           "#030312"
          ],
          [
           0.03529411764705882,
           "#040414"
          ],
          [
           0.0392156862745098,
           "#050416"
          ],
          [
           0.043137254901960784,
           "#060518"
          ],
          [
           0.047058823529411764,
           "#06051A"
          ],
          [
           0.050980392156862744,
           "#07061C"
          ],
          [
           0.054901960784313725,
           "#08071E"
          ],
          [
           0.058823529411764705,
           "#090720"
          ],
          [
           0.06274509803921569,
           "#0A0822"
          ],
          [
           0.06666666666666667,
           "#0B0924"
          ],
          [
           0.07058823529411765,
           "#0C0926"
          ],
          [
           0.07450980392156863,
           "#0D0A29"
          ],
          [
           0.0784313725490196,
           "#0E0B2B"
          ],
          [
           0.08235294117647059,
           "#100B2D"
          ],
          [
           0.08627450980392157,
           "#110C2F"
          ],
          [
           0.09019607843137255,
           "#120D31"
          ],
          [
           0.09411764705882353,
           "#130D34"
          ],
          [
           0.09803921568627451,
           "#140E36"
          ],
          [
           0.10196078431372549,
           "#150E38"
          ],
          [
           0.10588235294117647,
           "#160F3B"
          ],
          [
           0.10980392156862745,
           "#180F3D"
          ],
          [
           0.11372549019607843,
           "#19103F"
          ],
          [
           0.11764705882352941,
           "#1A1042"
          ],
          [
           0.12156862745098039,
           "#1C1044"
          ],
          [
           0.12549019607843137,
           "#1D1147"
          ],
          [
           0.12941176470588237,
           "#1E1149"
          ],
          [
           0.13333333333333333,
           "#20114B"
          ],
          [
           0.13725490196078433,
           "#21114E"
          ],
          [
           0.1411764705882353,
           "#221150"
          ],
          [
           0.1450980392156863,
           "#241253"
          ],
          [
           0.14901960784313725,
           "#251255"
          ],
          [
           0.15294117647058825,
           "#271258"
          ],
          [
           0.1568627450980392,
           "#29115A"
          ],
          [
           0.1607843137254902,
           "#2A115C"
          ],
          [
           0.16470588235294117,
           "#2C115F"
          ],
          [
           0.16862745098039217,
           "#2D1161"
          ],
          [
           0.17254901960784313,
           "#2F1163"
          ],
          [
           0.17647058823529413,
           "#311165"
          ],
          [
           0.1803921568627451,
           "#331067"
          ],
          [
           0.1843137254901961,
           "#341069"
          ],
          [
           0.18823529411764706,
           "#36106B"
          ],
          [
           0.19215686274509805,
           "#38106C"
          ],
          [
           0.19607843137254902,
           "#390F6E"
          ],
          [
           0.2,
           "#3B0F70"
          ],
          [
           0.20392156862745098,
           "#3D0F71"
          ],
          [
           0.20784313725490197,
           "#3F0F72"
          ],
          [
           0.21176470588235294,
           "#400F74"
          ],
          [
           0.21568627450980393,
           "#420F75"
          ],
          [
           0.2196078431372549,
           "#440F76"
          ],
          [
           0.2235294117647059,
           "#451077"
          ],
          [
           0.22745098039215686,
           "#471078"
          ],
          [
           0.23137254901960785,
           "#491078"
          ],
          [
           0.23529411764705882,
           "#4A1079"
          ],
          [
           0.23921568627450981,
           "#4C117A"
          ],
          [
           0.24313725490196078,
           "#4E117B"
          ],
          [
           0.24705882352941178,
           "#4F127B"
          ],
          [
           0.25098039215686274,
           "#51127C"
          ],
          [
           0.2549019607843137,
           "#52137C"
          ],
          [
           0.25882352941176473,
           "#54137D"
          ],
          [
           0.2627450980392157,
           "#56147D"
          ],
          [
           0.26666666666666666,
           "#57157E"
          ],
          [
           0.27058823529411763,
           "#59157E"
          ],
          [
           0.27450980392156865,
           "#5A167E"
          ],
          [
           0.2784313725490196,
           "#5C167F"
          ],
          [
           0.2823529411764706,
           "#5D177F"
          ],
          [
           0.28627450980392155,
           "#5F187F"
          ],
          [
           0.2901960784313726,
           "#601880"
          ],
          [
           0.29411764705882354,
           "#621980"
          ],
          [
           0.2980392156862745,
           "#641A80"
          ],
          [
           0.30196078431372547,
           "#651A80"
          ],
          [
           0.3058823529411765,
           "#671B80"
          ],
          [
           0.30980392156862746,
           "#681C81"
          ],
          [
           0.3137254901960784,
           "#6A1C81"
          ],
          [
           0.3176470588235294,
           "#6B1D81"
          ],
          [
           0.3215686274509804,
           "#6D1D81"
          ],
          [
           0.3254901960784314,
           "#6E1E81"
          ],
          [
           0.32941176470588235,
           "#701F81"
          ],
          [
           0.3333333333333333,
           "#721F81"
          ],
          [
           0.33725490196078434,
           "#732081"
          ],
          [
           0.3411764705882353,
           "#752181"
          ],
          [
           0.34509803921568627,
           "#762181"
          ],
          [
           0.34901960784313724,
           "#782281"
          ],
          [
           0.35294117647058826,
           "#792282"
          ],
          [
           0.3568627450980392,
           "#7B2382"
          ],
          [
           0.3607843137254902,
           "#7C2382"
          ],
          [
           0.36470588235294116,
           "#7E2482"
          ],
          [
           0.3686274509803922,
           "#802582"
          ],
          [
           0.37254901960784315,
           "#812581"
          ],
          [
           0.3764705882352941,
           "#832681"
          ],
          [
           0.3803921568627451,
           "#842681"
          ],
          [
           0.3843137254901961,
           "#862781"
          ],
          [
           0.38823529411764707,
           "#882781"
          ],
          [
           0.39215686274509803,
           "#892881"
          ],
          [
           0.396078431372549,
           "#8B2981"
          ],
          [
           0.4,
           "#8C2981"
          ],
          [
           0.403921568627451,
           "#8E2A81"
          ],
          [
           0.40784313725490196,
           "#902A81"
          ],
          [
           0.4117647058823529,
           "#912B81"
          ],
          [
           0.41568627450980394,
           "#932B80"
          ],
          [
           0.4196078431372549,
           "#942C80"
          ],
          [
           0.4235294117647059,
           "#962C80"
          ],
          [
           0.42745098039215684,
           "#982D80"
          ],
          [
           0.43137254901960786,
           "#992D80"
          ],
          [
           0.43529411764705883,
           "#9B2E7F"
          ],
          [
           0.4392156862745098,
           "#9C2E7F"
          ],
          [
           0.44313725490196076,
           "#9E2F7F"
          ],
          [
           0.4470588235294118,
           "#A02F7F"
          ],
          [
           0.45098039215686275,
           "#A1307E"
          ],
          [
           0.4549019607843137,
           "#A3307E"
          ],
          [
           0.4588235294117647,
           "#A5317E"
          ],
          [
           0.4627450980392157,
           "#A6317D"
          ],
          [
           0.4666666666666667,
           "#A8327D"
          ],
          [
           0.47058823529411764,
           "#AA337D"
          ],
          [
           0.4745098039215686,
           "#AB337C"
          ],
          [
           0.47843137254901963,
           "#AD347C"
          ],
          [
           0.4823529411764706,
           "#AE347B"
          ],
          [
           0.48627450980392156,
           "#B0357B"
          ],
          [
           0.49019607843137253,
           "#B2357B"
          ],
          [
           0.49411764705882355,
           "#B3367A"
          ],
          [
           0.4980392156862745,
           "#B5367A"
          ],
          [
           0.5019607843137255,
           "#B73779"
          ],
          [
           0.5058823529411764,
           "#B83779"
          ],
          [
           0.5098039215686274,
           "#BA3878"
          ],
          [
           0.5137254901960784,
           "#BC3978"
          ],
          [
           0.5176470588235295,
           "#BD3977"
          ],
          [
           0.5215686274509804,
           "#BF3A77"
          ],
          [
           0.5254901960784314,
           "#C03A76"
          ],
          [
           0.5294117647058824,
           "#C23B75"
          ],
          [
           0.5333333333333333,
           "#C43C75"
          ],
          [
           0.5372549019607843,
           "#C53C74"
          ],
          [
           0.5411764705882353,
           "#C73D73"
          ],
          [
           0.5450980392156862,
           "#C83E73"
          ],
          [
           0.5490196078431373,
           "#CA3E72"
          ],
          [
           0.5529411764705883,
           "#CC3F71"
          ],
          [
           0.5568627450980392,
           "#CD4071"
          ],
          [
           0.5607843137254902,
           "#CF4070"
          ],
          [
           0.5647058823529412,
           "#D0416F"
          ],
          [
           0.5686274509803921,
           "#D2426F"
          ],
          [
           0.5725490196078431,
           "#D3436E"
          ],
          [
           0.5764705882352941,
           "#D5446D"
          ],
          [
           0.5803921568627451,
           "#D6456C"
          ],
          [
           0.5843137254901961,
           "#D8456C"
          ],
          [
           0.5882352941176471,
           "#D9466B"
          ],
          [
           0.592156862745098,
           "#DB476A"
          ],
          [
           0.596078431372549,
           "#DC4869"
          ],
          [
           0.6,
           "#DE4968"
          ],
          [
           0.6039215686274509,
           "#DF4A68"
          ],
          [
           0.6078431372549019,
           "#E04C67"
          ],
          [
           0.611764705882353,
           "#E24D66"
          ],
          [
           0.615686274509804,
           "#E34E65"
          ],
          [
           0.6196078431372549,
           "#E44F64"
          ],
          [
           0.6235294117647059,
           "#E55064"
          ],
          [
           0.6274509803921569,
           "#E75263"
          ],
          [
           0.6313725490196078,
           "#E85362"
          ],
          [
           0.6352941176470588,
           "#E95462"
          ],
          [
           0.6392156862745098,
           "#EA5661"
          ],
          [
           0.6431372549019608,
           "#EB5760"
          ],
          [
           0.6470588235294118,
           "#EC5860"
          ],
          [
           0.6509803921568628,
           "#ED5A5F"
          ],
          [
           0.6549019607843137,
           "#EE5B5E"
          ],
          [
           0.6588235294117647,
           "#EF5D5E"
          ],
          [
           0.6627450980392157,
           "#F05F5E"
          ],
          [
           0.6666666666666666,
           "#F1605D"
          ],
          [
           0.6705882352941176,
           "#F2625D"
          ],
          [
           0.6745098039215687,
           "#F2645C"
          ],
          [
           0.6784313725490196,
           "#F3655C"
          ],
          [
           0.6823529411764706,
           "#F4675C"
          ],
          [
           0.6862745098039216,
           "#F4695C"
          ],
          [
           0.6901960784313725,
           "#F56B5C"
          ],
          [
           0.6941176470588235,
           "#F66C5C"
          ],
          [
           0.6980392156862745,
           "#F66E5C"
          ],
          [
           0.7019607843137254,
           "#F7705C"
          ],
          [
           0.7058823529411765,
           "#F7725C"
          ],
          [
           0.7098039215686275,
           "#F8745C"
          ],
          [
           0.7137254901960784,
           "#F8765C"
          ],
          [
           0.7176470588235294,
           "#F9785D"
          ],
          [
           0.7215686274509804,
           "#F9795D"
          ],
          [
           0.7254901960784313,
           "#F97B5D"
          ],
          [
           0.7294117647058823,
           "#FA7D5E"
          ],
          [
           0.7333333333333333,
           "#FA7F5E"
          ],
          [
           0.7372549019607844,
           "#FA815F"
          ],
          [
           0.7411764705882353,
           "#FB835F"
          ],
          [
           0.7450980392156863,
           "#FB8560"
          ],
          [
           0.7490196078431373,
           "#FB8761"
          ],
          [
           0.7529411764705882,
           "#FC8961"
          ],
          [
           0.7568627450980392,
           "#FC8A62"
          ],
          [
           0.7607843137254902,
           "#FC8C63"
          ],
          [
           0.7647058823529411,
           "#FC8E64"
          ],
          [
           0.7686274509803922,
           "#FC9065"
          ],
          [
           0.7725490196078432,
           "#FD9266"
          ],
          [
           0.7764705882352941,
           "#FD9467"
          ],
          [
           0.7803921568627451,
           "#FD9668"
          ],
          [
           0.7843137254901961,
           "#FD9869"
          ],
          [
           0.788235294117647,
           "#FD9A6A"
          ],
          [
           0.792156862745098,
           "#FD9B6B"
          ],
          [
           0.796078431372549,
           "#FE9D6C"
          ],
          [
           0.8,
           "#FE9F6D"
          ],
          [
           0.803921568627451,
           "#FEA16E"
          ],
          [
           0.807843137254902,
           "#FEA36F"
          ],
          [
           0.8117647058823529,
           "#FEA571"
          ],
          [
           0.8156862745098039,
           "#FEA772"
          ],
          [
           0.8196078431372549,
           "#FEA973"
          ],
          [
           0.8235294117647058,
           "#FEAA74"
          ],
          [
           0.8274509803921568,
           "#FEAC76"
          ],
          [
           0.8313725490196079,
           "#FEAE77"
          ],
          [
           0.8352941176470589,
           "#FEB078"
          ],
          [
           0.8392156862745098,
           "#FEB27A"
          ],
          [
           0.8431372549019608,
           "#FEB47B"
          ],
          [
           0.8470588235294118,
           "#FEB67C"
          ],
          [
           0.8509803921568627,
           "#FEB77E"
          ],
          [
           0.8549019607843137,
           "#FEB97F"
          ],
          [
           0.8588235294117647,
           "#FEBB81"
          ],
          [
           0.8627450980392157,
           "#FEBD82"
          ],
          [
           0.8666666666666667,
           "#FEBF84"
          ],
          [
           0.8705882352941177,
           "#FEC185"
          ],
          [
           0.8745098039215686,
           "#FEC287"
          ],
          [
           0.8784313725490196,
           "#FEC488"
          ],
          [
           0.8823529411764706,
           "#FEC68A"
          ],
          [
           0.8862745098039215,
           "#FEC88C"
          ],
          [
           0.8901960784313725,
           "#FECA8D"
          ],
          [
           0.8941176470588236,
           "#FECC8F"
          ],
          [
           0.8980392156862745,
           "#FECD90"
          ],
          [
           0.9019607843137255,
           "#FECF92"
          ],
          [
           0.9058823529411765,
           "#FED194"
          ],
          [
           0.9098039215686274,
           "#FED395"
          ],
          [
           0.9137254901960784,
           "#FED597"
          ],
          [
           0.9176470588235294,
           "#FED799"
          ],
          [
           0.9215686274509803,
           "#FED89A"
          ],
          [
           0.9254901960784314,
           "#FDDA9C"
          ],
          [
           0.9294117647058824,
           "#FDDC9E"
          ],
          [
           0.9333333333333333,
           "#FDDEA0"
          ],
          [
           0.9372549019607843,
           "#FDE0A1"
          ],
          [
           0.9411764705882353,
           "#FDE2A3"
          ],
          [
           0.9450980392156862,
           "#FDE3A5"
          ],
          [
           0.9490196078431372,
           "#FDE5A7"
          ],
          [
           0.9529411764705882,
           "#FDE7A9"
          ],
          [
           0.9568627450980393,
           "#FDE9AA"
          ],
          [
           0.9607843137254902,
           "#FDEBAC"
          ],
          [
           0.9647058823529412,
           "#FCECAE"
          ],
          [
           0.9686274509803922,
           "#FCEEB0"
          ],
          [
           0.9725490196078431,
           "#FCF0B2"
          ],
          [
           0.9764705882352941,
           "#FCF2B4"
          ],
          [
           0.9803921568627451,
           "#FCF4B6"
          ],
          [
           0.984313725490196,
           "#FCF6B8"
          ],
          [
           0.9882352941176471,
           "#FCF7B9"
          ],
          [
           0.9921568627450981,
           "#FCF9BB"
          ],
          [
           0.996078431372549,
           "#FCFBBD"
          ],
          [
           1,
           "#FCFDBF"
          ]
         ],
         "type": "heatmap",
         "x": [
          0.5,
          1.5,
          2.5,
          4.5,
          5.5,
          7.5,
          9.914213562373096,
          11.914213562373096,
          13.914213562373096,
          15.914213562373096,
          16.914213562373096,
          17.914213562373096,
          18.914213562373096,
          20.914213562373096,
          23.646264369941974,
          25.646264369941974,
          26.646264369941974,
          28.646264369941974,
          29.646264369941974,
          30.646264369941974,
          31.646264369941974
         ],
         "y": [
          0.5,
          1.5,
          2.5,
          4.5,
          5.5,
          7.5,
          9.914213562373096,
          11.914213562373096,
          13.914213562373096,
          15.914213562373096,
          16.914213562373096,
          17.914213562373096,
          18.914213562373096,
          20.914213562373096,
          23.646264369941974,
          25.646264369941974,
          26.646264369941974,
          28.646264369941974,
          29.646264369941974,
          30.646264369941974,
          31.646264369941974
         ],
         "z": [
          [
           0,
           0.5058442,
           0.5818925,
           0.5634209,
           0.88499224,
           0.87633044,
           0.8786186,
           0.8741443,
           0.8832891,
           0.8717358,
           0.8830922,
           0.88068324,
           0.840646,
           0.8415136,
           0.85894966,
           0.8603604,
           0.8591472,
           0.8574119,
           0.8552632,
           0.8736927
          ],
          [
           0.5058442,
           0,
           0.57648903,
           0.5435484,
           0.88729876,
           0.878392,
           0.88319516,
           0.8806862,
           0.88479745,
           0.87670887,
           0.8844434,
           0.8849118,
           0.84737676,
           0.84750813,
           0.8632037,
           0.86248255,
           0.8572936,
           0.8615917,
           0.858616,
           0.8701923
          ],
          [
           0.5818925,
           0.57648903,
           0.0049327356,
           0.55707765,
           0.8828616,
           0.8790054,
           0.8778665,
           0.88018066,
           0.87799567,
           0.87903017,
           0.89045346,
           0.8825324,
           0.8477612,
           0.8462178,
           0.8610209,
           0.8565691,
           0.8544996,
           0.8631179,
           0.85884637,
           0.86726874
          ],
          [
           0.5634209,
           0.5435484,
           0.55707765,
           0,
           0.87761587,
           0.877904,
           0.8752279,
           0.87789136,
           0.87717867,
           0.87675506,
           0.88629246,
           0.87657493,
           0.84541726,
           0.846068,
           0.86197686,
           0.8575137,
           0.8560158,
           0.86121,
           0.8568633,
           0.8666299
          ],
          [
           0.88499224,
           0.88729876,
           0.8828616,
           0.87761587,
           0.012254902,
           0.4386423,
           0.53368604,
           0.49364248,
           0.4936806,
           0.56437695,
           0.5625,
           0.6084656,
           0.85629755,
           0.858496,
           0.814779,
           0.8127553,
           0.8156136,
           0.8262401,
           0.816511,
           0.8272997
          ],
          [
           0.87633044,
           0.878392,
           0.8790054,
           0.877904,
           0.4386423,
           0.23702213,
           0.5311532,
           0.4875731,
           0.49646708,
           0.53399724,
           0.5563625,
           0.61513793,
           0.8510989,
           0.8598107,
           0.82002497,
           0.8176595,
           0.819841,
           0.8113972,
           0.8084981,
           0.83443326
          ],
          [
           0.8786186,
           0.88319516,
           0.8778665,
           0.8752279,
           0.53368604,
           0.5311532,
           0.005164319,
           0.4774575,
           0.48674878,
           0.4964539,
           0.5647652,
           0.6047495,
           0.86013216,
           0.85528916,
           0.8257742,
           0.8260738,
           0.8235294,
           0.81395346,
           0.8284629,
           0.83506644
          ],
          [
           0.8741443,
           0.8806862,
           0.88018066,
           0.87789136,
           0.49364248,
           0.4875731,
           0.4774575,
           0.18958429,
           0.45049703,
           0.49192956,
           0.52325195,
           0.5907859,
           0.8456684,
           0.85016096,
           0.8100264,
           0.80861247,
           0.81226766,
           0.80778515,
           0.8039457,
           0.8196174
          ],
          [
           0.8832891,
           0.88479745,
           0.87799567,
           0.87717867,
           0.4936806,
           0.49646708,
           0.48674878,
           0.45049703,
           0.30040053,
           0.5280204,
           0.54579127,
           0.585595,
           0.84755737,
           0.8479567,
           0.80369747,
           0.80246913,
           0.8048626,
           0.8068182,
           0.81146777,
           0.8230604
          ],
          [
           0.8717358,
           0.87670887,
           0.87903017,
           0.87675506,
           0.56437695,
           0.53399724,
           0.4964539,
           0.49192956,
           0.5280204,
           0,
           0.5399936,
           0.6068182,
           0.8594565,
           0.8601909,
           0.82734936,
           0.8279505,
           0.828479,
           0.81371695,
           0.82237226,
           0.8375108
          ],
          [
           0.8830922,
           0.8844434,
           0.89045346,
           0.88629246,
           0.5625,
           0.5563625,
           0.5647652,
           0.52325195,
           0.54579127,
           0.5399936,
           0,
           0.6208346,
           0.85260713,
           0.8517786,
           0.8316062,
           0.8349569,
           0.820534,
           0.8209196,
           0.81385756,
           0.8397967
          ],
          [
           0.88068324,
           0.8849118,
           0.8825324,
           0.87657493,
           0.6084656,
           0.61513793,
           0.6047495,
           0.5907859,
           0.585595,
           0.6068182,
           0.6208346,
           0,
           0.8622463,
           0.8620881,
           0.83031046,
           0.8209895,
           0.83227116,
           0.834039,
           0.8242108,
           0.84108967
          ],
          [
           0.840646,
           0.84737676,
           0.8477612,
           0.84541726,
           0.85629755,
           0.8510989,
           0.86013216,
           0.8456684,
           0.84755737,
           0.8594565,
           0.85260713,
           0.8622463,
           0.30405688,
           0.2852827,
           0.8126015,
           0.8133626,
           0.80664,
           0.81136566,
           0.79409957,
           0.82185626
          ],
          [
           0.8415136,
           0.84750813,
           0.8462178,
           0.846068,
           0.858496,
           0.8598107,
           0.85528916,
           0.85016096,
           0.8479567,
           0.8601909,
           0.8517786,
           0.8620881,
           0.2852827,
           0.32204756,
           0.8050819,
           0.80843526,
           0.79898864,
           0.8156696,
           0.80493134,
           0.81555486
          ],
          [
           0.85894966,
           0.8632037,
           0.8610209,
           0.86197686,
           0.814779,
           0.82002497,
           0.8257742,
           0.8100264,
           0.80369747,
           0.82734936,
           0.8316062,
           0.83031046,
           0.8126015,
           0.8050819,
           0.18704663,
           0.41557837,
           0.45651215,
           0.47043812,
           0.4423332,
           0.47617003
          ],
          [
           0.8603604,
           0.86248255,
           0.8565691,
           0.8575137,
           0.8127553,
           0.8176595,
           0.8260738,
           0.80861247,
           0.80246913,
           0.8279505,
           0.8349569,
           0.8209895,
           0.8133626,
           0.80843526,
           0.41557837,
           0,
           0.45369184,
           0.49454105,
           0.4299226,
           0.53136235
          ],
          [
           0.8591472,
           0.8572936,
           0.8544996,
           0.8560158,
           0.8156136,
           0.819841,
           0.8235294,
           0.81226766,
           0.8048626,
           0.828479,
           0.820534,
           0.83227116,
           0.80664,
           0.79898864,
           0.45651215,
           0.45369184,
           0.17036338,
           0.47910863,
           0.39150944,
           0.49060374
          ],
          [
           0.8574119,
           0.8615917,
           0.8631179,
           0.86121,
           0.8262401,
           0.8113972,
           0.81395346,
           0.80778515,
           0.8068182,
           0.81371695,
           0.8209196,
           0.834039,
           0.81136566,
           0.8156696,
           0.47043812,
           0.49454105,
           0.47910863,
           0,
           0.41522634,
           0.5448742
          ],
          [
           0.8552632,
           0.858616,
           0.85884637,
           0.8568633,
           0.816511,
           0.8084981,
           0.8284629,
           0.8039457,
           0.81146777,
           0.82237226,
           0.81385756,
           0.8242108,
           0.79409957,
           0.80493134,
           0.4423332,
           0.4299226,
           0.39150944,
           0.41522634,
           0,
           0.49406177
          ],
          [
           0.8736927,
           0.8701923,
           0.86726874,
           0.8666299,
           0.8272997,
           0.83443326,
           0.83506644,
           0.8196174,
           0.8230604,
           0.8375108,
           0.8397967,
           0.84108967,
           0.82185626,
           0.81555486,
           0.47617003,
           0.53136235,
           0.49060374,
           0.5448742,
           0.49406177,
           0
          ]
         ]
        },
        {
         "hoverinfo": "skip",
         "line": {
          "color": "#666666"
         },
         "mode": "lines",
         "showlegend": false,
         "type": "scatter",
         "x": [
          0.3578336536884308,
          0.3578336536884308,
          null,
          0.3578336536884308,
          0.30405688285827637,
          null,
          0.3578336536884308,
          0.32204756140708923,
          null
         ],
         "xaxis": "x2",
         "y": [
          19.914213562373096,
          22.280238966157533,
          null,
          19.914213562373096,
          19.914213562373096,
          null,
          22.280238966157533,
          22.280238966157533,
          null
         ],
         "yaxis": "y"
        },
        {
         "hoverinfo": "skip",
         "line": {
          "color": "#666666"
         },
         "mode": "lines",
         "showlegend": false,
         "type": "scatter",
         "x": [
          0.5007727742195129,
          0.5007727742195129,
          null,
          0.5007727742195129,
          0.43841516971588135,
          null,
          0.5007727742195129,
          0.4941309988498688,
          null
         ],
         "xaxis": "x2",
         "y": [
          25.396264369941974,
          28.646264369941974,
          null,
          25.396264369941974,
          25.396264369941974,
          null,
          28.646264369941974,
          28.646264369941974,
          null
         ],
         "yaxis": "y"
        },
        {
         "hoverinfo": "skip",
         "line": {
          "color": "#666666"
         },
         "mode": "lines",
         "showlegend": false,
         "type": "scatter",
         "x": [
          0.4625678062438965,
          0.4625678062438965,
          null,
          0.4625678062438965,
          0.01225490216165781,
          null,
          0.4625678062438965,
          0.23702213168144226,
          null
         ],
         "xaxis": "x2",
         "y": [
          6.5,
          8.707106781186548,
          null,
          6.5,
          6.5,
          null,
          8.707106781186548,
          8.707106781186548,
          null
         ],
         "yaxis": "y"
        },
        {
         "fill": "toself",
         "hoverinfo": "skip",
         "line": {
          "color": "#666666"
         },
         "mode": "lines",
         "showlegend": false,
         "type": "scatter",
         "x": [
          0,
          0.18704663217067719,
          0.18704663217067719,
          0
         ],
         "xaxis": "x2",
         "y": [
          24.146264369941974,
          24.146264369941974,
          25.146264369941974,
          25.146264369941974
         ],
         "yaxis": "y"
        },
        {
         "hoverinfo": "skip",
         "line": {
          "color": "#666666"
         },
         "mode": "lines",
         "showlegend": false,
         "type": "scatter",
         "x": [
          0.6237499713897705,
          0.6237499713897705,
          null,
          0.6237499713897705,
          0.5678813457489014,
          null,
          0.6237499713897705,
          0,
          null
         ],
         "xaxis": "x2",
         "y": [
          11.758883476483184,
          18.414213562373096,
          null,
          11.758883476483184,
          11.758883476483184,
          null,
          18.414213562373096,
          18.414213562373096,
          null
         ],
         "yaxis": "y"
        },
        {
         "fill": "toself",
         "hoverinfo": "skip",
         "line": {
          "color": "#666666"
         },
         "mode": "lines",
         "showlegend": false,
         "type": "scatter",
         "x": [
          0,
          0.1703633815050125,
          0.1703633815050125,
          0
         ],
         "xaxis": "x2",
         "y": [
          27.146264369941974,
          27.146264369941974,
          28.146264369941974,
          28.146264369941974
         ],
         "yaxis": "y"
        },
        {
         "fill": "toself",
         "hoverinfo": "skip",
         "line": {
          "color": "#666666"
         },
         "mode": "lines",
         "showlegend": false,
         "type": "scatter",
         "x": [
          0,
          0.32204756140708923,
          0.32204756140708923,
          0
         ],
         "xaxis": "x2",
         "y": [
          21.414213562373096,
          21.414213562373096,
          23.146264369941974,
          23.146264369941974
         ],
         "yaxis": "y"
        },
        {
         "hoverinfo": "skip",
         "line": {
          "color": "#666666"
         },
         "mode": "lines",
         "showlegend": false,
         "type": "scatter",
         "x": [
          0.5058441758155823,
          0.5058441758155823,
          null,
          0.5058441758155823,
          0,
          null,
          0.5058441758155823,
          0,
          null
         ],
         "xaxis": "x2",
         "y": [
          1,
          2,
          null,
          1,
          1,
          null,
          2,
          2,
          null
         ],
         "yaxis": "y"
        },
        {
         "fill": "toself",
         "hoverinfo": "skip",
         "line": {
          "color": "#666666"
         },
         "mode": "lines",
         "showlegend": false,
         "type": "scatter",
         "x": [
          0,
          0.004932735580950975,
          0.004932735580950975,
          0
         ],
         "xaxis": "x2",
         "y": [
          3,
          3,
          4,
          4
         ],
         "yaxis": "y"
        },
        {
         "hoverinfo": "skip",
         "line": {
          "color": "#666666"
         },
         "mode": "lines",
         "showlegend": false,
         "type": "scatter",
         "x": [
          0.5678813457489014,
          0.5678813457489014,
          null,
          0.5678813457489014,
          0.4625678062438965,
          null,
          0.5678813457489014,
          0.5650663375854492,
          null
         ],
         "xaxis": "x2",
         "y": [
          7.603553390593274,
          15.914213562373096,
          null,
          7.603553390593274,
          7.603553390593274,
          null,
          15.914213562373096,
          15.914213562373096,
          null
         ],
         "yaxis": "y"
        },
        {
         "hoverinfo": "skip",
         "line": {
          "color": "#666666"
         },
         "mode": "lines",
         "showlegend": false,
         "type": "scatter",
         "x": [
          0.5588139295578003,
          0.5588139295578003,
          null,
          0.5588139295578003,
          0.004932735580950975,
          null,
          0.5588139295578003,
          0,
          null
         ],
         "xaxis": "x2",
         "y": [
          3.5,
          5,
          null,
          3.5,
          3.5,
          null,
          5,
          5,
          null
         ],
         "yaxis": "y"
        },
        {
         "fill": "toself",
         "hoverinfo": "skip",
         "line": {
          "color": "#666666"
         },
         "mode": "lines",
         "showlegend": false,
         "type": "scatter",
         "x": [
          0,
          0.23702213168144226,
          0.23702213168144226,
          0
         ],
         "xaxis": "x2",
         "y": [
          8,
          8,
          9.414213562373096,
          9.414213562373096
         ],
         "yaxis": "y"
        },
        {
         "hoverinfo": "skip",
         "line": {
          "color": "#666666"
         },
         "mode": "lines",
         "showlegend": false,
         "type": "scatter",
         "x": [
          0.8914858102798462,
          0.8914858102798462,
          null,
          0.8914858102798462,
          0.5844318866729736,
          null,
          0.8914858102798462,
          0.8681948184967041,
          null
         ],
         "xaxis": "x2",
         "y": [
          2.875,
          20.088521918265894,
          null,
          2.875,
          2.875,
          null,
          20.088521918265894,
          20.088521918265894,
          null
         ],
         "yaxis": "y"
        },
        {
         "hoverinfo": "skip",
         "line": {
          "color": "#666666"
         },
         "mode": "lines",
         "showlegend": false,
         "type": "scatter",
         "x": [
          0.8681948184967041,
          0.8681948184967041,
          null,
          0.8681948184967041,
          0.6237499713897705,
          null,
          0.8681948184967041,
          0.8267649412155151,
          null
         ],
         "xaxis": "x2",
         "y": [
          15.08654851942814,
          25.090495317103645,
          null,
          15.08654851942814,
          15.08654851942814,
          null,
          25.090495317103645,
          25.090495317103645,
          null
         ],
         "yaxis": "y"
        },
        {
         "hoverinfo": "skip",
         "line": {
          "color": "#666666"
         },
         "mode": "lines",
         "showlegend": false,
         "type": "scatter",
         "x": [
          0.5650663375854492,
          0.5650663375854492,
          null,
          0.5650663375854492,
          0.5294764041900635,
          null,
          0.5650663375854492,
          0,
          null
         ],
         "xaxis": "x2",
         "y": [
          14.414213562373096,
          17.414213562373096,
          null,
          14.414213562373096,
          14.414213562373096,
          null,
          17.414213562373096,
          17.414213562373096,
          null
         ],
         "yaxis": "y"
        },
        {
         "hoverinfo": "skip",
         "line": {
          "color": "#666666"
         },
         "mode": "lines",
         "showlegend": false,
         "type": "scatter",
         "x": [
          0.46563979983329773,
          0.46563979983329773,
          null,
          0.46563979983329773,
          0.18958428502082825,
          null,
          0.46563979983329773,
          0.3004005253314972,
          null
         ],
         "xaxis": "x2",
         "y": [
          12.914213562373096,
          14.914213562373096,
          null,
          12.914213562373096,
          12.914213562373096,
          null,
          14.914213562373096,
          14.914213562373096,
          null
         ],
         "yaxis": "y"
        },
        {
         "hoverinfo": "skip",
         "line": {
          "color": "#666666"
         },
         "mode": "lines",
         "showlegend": false,
         "type": "scatter",
         "x": [
          0.43841516971588135,
          0.43841516971588135,
          null,
          0.43841516971588135,
          0.18704663217067719,
          null,
          0.43841516971588135,
          0,
          null
         ],
         "xaxis": "x2",
         "y": [
          24.646264369941974,
          26.146264369941974,
          null,
          24.646264369941974,
          24.646264369941974,
          null,
          26.146264369941974,
          26.146264369941974,
          null
         ],
         "yaxis": "y"
        },
        {
         "fill": "toself",
         "hoverinfo": "skip",
         "line": {
          "color": "#666666"
         },
         "mode": "lines",
         "showlegend": false,
         "type": "scatter",
         "x": [
          0,
          0.3004005253314972,
          0.3004005253314972,
          0
         ],
         "xaxis": "x2",
         "y": [
          14.414213562373096,
          14.414213562373096,
          15.414213562373096,
          15.414213562373096
         ],
         "yaxis": "y"
        },
        {
         "hoverinfo": "skip",
         "line": {
          "color": "#666666"
         },
         "mode": "lines",
         "showlegend": false,
         "type": "scatter",
         "x": [
          0.4941309988498688,
          0.4941309988498688,
          null,
          0.4941309988498688,
          0.1703633815050125,
          null,
          0.4941309988498688,
          0.4152263402938843,
          null
         ],
         "xaxis": "x2",
         "y": [
          27.646264369941974,
          29.646264369941974,
          null,
          27.646264369941974,
          27.646264369941974,
          null,
          29.646264369941974,
          29.646264369941974,
          null
         ],
         "yaxis": "y"
        },
        {
         "hoverinfo": "skip",
         "line": {
          "color": "#666666"
         },
         "mode": "lines",
         "showlegend": false,
         "type": "scatter",
         "x": [
          0.5844318866729736,
          0.5844318866729736,
          null,
          0.5844318866729736,
          0.5058441758155823,
          null,
          0.5844318866729736,
          0.5588139295578003,
          null
         ],
         "xaxis": "x2",
         "y": [
          1.5,
          4.25,
          null,
          1.5,
          1.5,
          null,
          4.25,
          4.25,
          null
         ],
         "yaxis": "y"
        },
        {
         "fill": "toself",
         "hoverinfo": "skip",
         "line": {
          "color": "#666666"
         },
         "mode": "lines",
         "showlegend": false,
         "type": "scatter",
         "x": [
          0,
          0.01225490216165781,
          0.01225490216165781,
          0
         ],
         "xaxis": "x2",
         "y": [
          6,
          6,
          7,
          7
         ],
         "yaxis": "y"
        },
        {
         "hoverinfo": "skip",
         "line": {
          "color": "#666666"
         },
         "mode": "lines",
         "showlegend": false,
         "type": "scatter",
         "x": [
          0.5448741912841797,
          0.5448741912841797,
          null,
          0.5448741912841797,
          0.5007727742195129,
          null,
          0.5448741912841797,
          0,
          null
         ],
         "xaxis": "x2",
         "y": [
          27.021264369941974,
          31.146264369941974,
          null,
          27.021264369941974,
          27.021264369941974,
          null,
          31.146264369941974,
          31.146264369941974,
          null
         ],
         "yaxis": "y"
        },
        {
         "fill": "toself",
         "hoverinfo": "skip",
         "line": {
          "color": "#666666"
         },
         "mode": "lines",
         "showlegend": false,
         "type": "scatter",
         "x": [
          0,
          0.30405688285827637,
          0.30405688285827637,
          0
         ],
         "xaxis": "x2",
         "y": [
          19.414213562373096,
          19.414213562373096,
          20.414213562373096,
          20.414213562373096
         ],
         "yaxis": "y"
        },
        {
         "hoverinfo": "skip",
         "line": {
          "color": "#666666"
         },
         "mode": "lines",
         "showlegend": false,
         "type": "scatter",
         "x": [
          0.8267649412155151,
          0.8267649412155151,
          null,
          0.8267649412155151,
          0.3578336536884308,
          null,
          0.8267649412155151,
          0.5448741912841797,
          null
         ],
         "xaxis": "x2",
         "y": [
          21.097226264265316,
          29.083764369941974,
          null,
          21.097226264265316,
          21.097226264265316,
          null,
          29.083764369941974,
          29.083764369941974,
          null
         ],
         "yaxis": "y"
        },
        {
         "fill": "toself",
         "hoverinfo": "skip",
         "line": {
          "color": "#666666"
         },
         "mode": "lines",
         "showlegend": false,
         "type": "scatter",
         "x": [
          0,
          0.005164319183677435,
          0.005164319183677435,
          0
         ],
         "xaxis": "x2",
         "y": [
          10.414213562373096,
          10.414213562373096,
          11.414213562373096,
          11.414213562373096
         ],
         "yaxis": "y"
        },
        {
         "hoverinfo": "skip",
         "line": {
          "color": "#666666"
         },
         "mode": "lines",
         "showlegend": false,
         "type": "scatter",
         "x": [
          0.5294764041900635,
          0.5294764041900635,
          null,
          0.5294764041900635,
          0.488546758890152,
          null,
          0.5294764041900635,
          0,
          null
         ],
         "xaxis": "x2",
         "y": [
          12.414213562373096,
          16.414213562373096,
          null,
          12.414213562373096,
          12.414213562373096,
          null,
          16.414213562373096,
          16.414213562373096,
          null
         ],
         "yaxis": "y"
        },
        {
         "hoverinfo": "skip",
         "line": {
          "color": "#666666"
         },
         "mode": "lines",
         "showlegend": false,
         "type": "scatter",
         "x": [
          0.4152263402938843,
          0.4152263402938843,
          null,
          0.4152263402938843,
          0,
          null,
          0.4152263402938843,
          0,
          null
         ],
         "xaxis": "x2",
         "y": [
          29.146264369941974,
          30.146264369941974,
          null,
          29.146264369941974,
          29.146264369941974,
          null,
          30.146264369941974,
          30.146264369941974,
          null
         ],
         "yaxis": "y"
        },
        {
         "fill": "toself",
         "hoverinfo": "skip",
         "line": {
          "color": "#666666"
         },
         "mode": "lines",
         "showlegend": false,
         "type": "scatter",
         "x": [
          0,
          0.18958428502082825,
          0.18958428502082825,
          0
         ],
         "xaxis": "x2",
         "y": [
          12.414213562373096,
          12.414213562373096,
          13.414213562373096,
          13.414213562373096
         ],
         "yaxis": "y"
        },
        {
         "hoverinfo": "skip",
         "line": {
          "color": "#666666"
         },
         "mode": "lines",
         "showlegend": false,
         "type": "scatter",
         "x": [
          0.488546758890152,
          0.488546758890152,
          null,
          0.488546758890152,
          0.005164319183677435,
          null,
          0.488546758890152,
          0.46563979983329773,
          null
         ],
         "xaxis": "x2",
         "y": [
          10.914213562373096,
          13.914213562373096,
          null,
          10.914213562373096,
          10.914213562373096,
          null,
          13.914213562373096,
          13.914213562373096,
          null
         ],
         "yaxis": "y"
        },
        {
         "customdata": [
          [
           47,
           6
          ],
          [
           54,
           7
          ],
          [
           50,
           5
          ],
          [
           40,
           2
          ],
          [
           62,
           14
          ],
          [
           46,
           4
          ],
          [
           39,
           2
          ],
          [
           55,
           2
          ],
          [
           35,
           2
          ],
          [
           60,
           13
          ],
          [
           58,
           3
          ],
          [
           42,
           3
          ],
          [
           65,
           33
          ],
          [
           64,
           28
          ],
          [
           59,
           8
          ],
          [
           51,
           4
          ],
          [
           49,
           3
          ],
          [
           44,
           2
          ],
          [
           53,
           4
          ],
          [
           61,
           5
          ],
          [
           38,
           2
          ],
          [
           57,
           8
          ],
          [
           45,
           2
          ],
          [
           63,
           14
          ],
          [
           36,
           2
          ],
          [
           56,
           7
          ],
          [
           48,
           2
          ],
          [
           41,
           2
          ],
          [
           52,
           6
          ]
         ],
         "hovertemplate": "ID: %{customdata[0]}<br>\nHeight: %{x:.3f}<br>\nGenome count: %{customdata[1]}\n\n<extra></extra>",
         "marker": {
          "color": "#666666",
          "size": [
           8,
           4,
           8,
           8,
           8,
           4,
           8,
           8,
           8,
           8,
           4,
           8,
           8,
           4,
           4,
           8,
           4,
           8,
           4,
           8,
           8,
           8,
           4,
           4,
           8,
           4,
           4,
           8,
           4
          ]
         },
         "mode": "markers",
         "showlegend": false,
         "type": "scatter",
         "x": [
          0.3578336536884308,
          0.5007727742195129,
          0.4625678062438965,
          0.18704663217067719,
          0.6237499713897705,
          0.32204756140708923,
          0.1703633815050125,
          0.5058441758155823,
          0.004932735580950975,
          0.5678813457489014,
          0.5588139295578003,
          0.23702213168144226,
          0.8914858102798462,
          0.8681948184967041,
          0.5650663375854492,
          0.46563979983329773,
          0.43841516971588135,
          0.3004005253314972,
          0.4941309988498688,
          0.5844318866729736,
          0.01225490216165781,
          0.5448741912841797,
          0.30405688285827637,
          0.8267649412155151,
          0.005164319183677435,
          0.5294764041900635,
          0.4152263402938843,
          0.18958428502082825,
          0.488546758890152
         ],
         "xaxis": "x2",
         "y": [
          21.097226264265316,
          27.021264369941974,
          7.603553390593274,
          24.646264369941974,
          15.08654851942814,
          22.280238966157533,
          27.646264369941974,
          1.5,
          3.5,
          11.758883476483184,
          4.25,
          8.707106781186548,
          11.481760959132947,
          20.088521918265894,
          15.914213562373096,
          13.914213562373096,
          25.396264369941974,
          14.914213562373096,
          28.646264369941974,
          2.875,
          6.5,
          29.083764369941974,
          19.914213562373096,
          25.090495317103645,
          10.914213562373096,
          14.414213562373096,
          29.646264369941974,
          12.914213562373096,
          12.414213562373096
         ],
         "yaxis": "y"
        },
        {
         "hovertemplate": "%{text} <br>\n%{x}\n<extra></extra>\n",
         "marker": {
          "color": "green",
          "line": {
           "color": "green",
           "width": 1
          },
          "symbol": "line-ns"
         },
         "mode": "markers",
         "text": [
          "hwasookii"
         ],
         "type": "scatter",
         "x": [
          0.78724
         ],
         "xaxis": "x2",
         "y": [
          -1,
          -1
         ]
        }
       ],
       "frames": [],
       "layout": {
        "height": 550,
        "hovermode": "closest",
        "margin": {
         "b": 50,
         "l": 50,
         "r": 50,
         "t": 60
        },
        "showlegend": false,
        "width": 1000,
        "xaxis": {
         "domain": [
          0.504950495049505,
          1
         ],
         "scaleanchor": "y",
         "visible": false
        },
        "xaxis2": {
         "autorange": "reversed",
         "domain": [
          0,
          0.49504950495049505
         ],
         "rangemode": "nonnegative",
         "showspikes": true,
         "spikedash": "solid",
         "spikemode": "across",
         "spikethickness": 1
        },
        "yaxis": {
         "scaleanchor": "x",
         "visible": false
        }
       }
      },
      "application/vnd.webio.node+json": {
       "children": [
        {
         "children": [],
         "instanceArgs": {
          "namespace": "html",
          "tag": "div"
         },
         "nodeType": "DOM",
         "props": {
          "id": "plot-6fd9f856-d75f-4239-ab3d-2b10857e3aab"
         },
         "type": "node"
        }
       ],
       "instanceArgs": {
        "handlers": {
         "__get_gd_contents": [
          "(function (prop){prop==\"data\" ? (WebIO.setval({\"name\":\"__gd_contents\",\"scope\":\"6295280581491695213\",\"id\":\"10244139748212273275\",\"type\":\"observable\"},this.plotElem.data)) : undefined; return prop==\"layout\" ? (WebIO.setval({\"name\":\"__gd_contents\",\"scope\":\"6295280581491695213\",\"id\":\"10244139748212273275\",\"type\":\"observable\"},this.plotElem.layout)) : undefined})"
         ],
         "_commands": [
          "(function (args){var fn=args.shift(); var elem=this.plotElem; var Plotly=this.Plotly; args.unshift(elem); return Plotly[fn].apply(this,args)})"
         ],
         "_downloadImage": [
          "(function (options){return this.Plotly.downloadImage(this.plotElem,options)})"
         ],
         "_toImage": [
          "(function (options){return this.Plotly.toImage(this.plotElem,options).then((function (data){return WebIO.setval({\"name\":\"image\",\"scope\":\"6295280581491695213\",\"id\":\"17467423077202879811\",\"type\":\"observable\"},data)}))})"
         ]
        },
        "id": "6295280581491695213",
        "imports": {
         "data": [
          {
           "name": "Plotly",
           "type": "js",
           "url": "/assetserver/e6903599031aaef8675931dfcd7df98a1aeffbfc-plotly-latest.min.js"
          },
          {
           "name": null,
           "type": "js",
           "url": "/assetserver/74a5dea81f21b0b802ef1ee92f1c8a504eac1a0c-plotly_webio.bundle.js"
          }
         ],
         "type": "async_block"
        },
        "mount_callbacks": [
         "function () {\n    var handler = ((function (Plotly,PlotlyWebIO){PlotlyWebIO.init(WebIO); var gd=this.dom.querySelector(\"#plot-6fd9f856-d75f-4239-ab3d-2b10857e3aab\"); this.plotElem=gd; this.Plotly=Plotly; (window.Blink!==undefined) ? (gd.style.width=\"100%\", gd.style.height=\"100vh\", gd.style.marginLeft=\"0%\", gd.style.marginTop=\"0vh\") : undefined; window.onresize=(function (){return Plotly.Plots.resize(gd)}); Plotly.newPlot(gd,[{\"y\":[0.5,1.5,2.5,4.5,5.5,7.5,9.914213562373096,11.914213562373096,13.914213562373096,15.914213562373096,16.914213562373096,17.914213562373096,18.914213562373096,20.914213562373096,23.646264369941974,25.646264369941974,26.646264369941974,28.646264369941974,29.646264369941974,30.646264369941974,31.646264369941974],\"type\":\"heatmap\",\"colorscale\":[[0.0,\"#000004\"],[0.00392156862745098,\"#010005\"],[0.00784313725490196,\"#010106\"],[0.011764705882352941,\"#010108\"],[0.01568627450980392,\"#020109\"],[0.0196078431372549,\"#02020B\"],[0.023529411764705882,\"#02020D\"],[0.027450980392156862,\"#03030F\"],[0.03137254901960784,\"#030312\"],[0.03529411764705882,\"#040414\"],[0.0392156862745098,\"#050416\"],[0.043137254901960784,\"#060518\"],[0.047058823529411764,\"#06051A\"],[0.050980392156862744,\"#07061C\"],[0.054901960784313725,\"#08071E\"],[0.058823529411764705,\"#090720\"],[0.06274509803921569,\"#0A0822\"],[0.06666666666666667,\"#0B0924\"],[0.07058823529411765,\"#0C0926\"],[0.07450980392156863,\"#0D0A29\"],[0.0784313725490196,\"#0E0B2B\"],[0.08235294117647059,\"#100B2D\"],[0.08627450980392157,\"#110C2F\"],[0.09019607843137255,\"#120D31\"],[0.09411764705882353,\"#130D34\"],[0.09803921568627451,\"#140E36\"],[0.10196078431372549,\"#150E38\"],[0.10588235294117647,\"#160F3B\"],[0.10980392156862745,\"#180F3D\"],[0.11372549019607843,\"#19103F\"],[0.11764705882352941,\"#1A1042\"],[0.12156862745098039,\"#1C1044\"],[0.12549019607843137,\"#1D1147\"],[0.12941176470588237,\"#1E1149\"],[0.13333333333333333,\"#20114B\"],[0.13725490196078433,\"#21114E\"],[0.1411764705882353,\"#221150\"],[0.1450980392156863,\"#241253\"],[0.14901960784313725,\"#251255\"],[0.15294117647058825,\"#271258\"],[0.1568627450980392,\"#29115A\"],[0.1607843137254902,\"#2A115C\"],[0.16470588235294117,\"#2C115F\"],[0.16862745098039217,\"#2D1161\"],[0.17254901960784313,\"#2F1163\"],[0.17647058823529413,\"#311165\"],[0.1803921568627451,\"#331067\"],[0.1843137254901961,\"#341069\"],[0.18823529411764706,\"#36106B\"],[0.19215686274509805,\"#38106C\"],[0.19607843137254902,\"#390F6E\"],[0.2,\"#3B0F70\"],[0.20392156862745098,\"#3D0F71\"],[0.20784313725490197,\"#3F0F72\"],[0.21176470588235294,\"#400F74\"],[0.21568627450980393,\"#420F75\"],[0.2196078431372549,\"#440F76\"],[0.2235294117647059,\"#451077\"],[0.22745098039215686,\"#471078\"],[0.23137254901960785,\"#491078\"],[0.23529411764705882,\"#4A1079\"],[0.23921568627450981,\"#4C117A\"],[0.24313725490196078,\"#4E117B\"],[0.24705882352941178,\"#4F127B\"],[0.25098039215686274,\"#51127C\"],[0.2549019607843137,\"#52137C\"],[0.25882352941176473,\"#54137D\"],[0.2627450980392157,\"#56147D\"],[0.26666666666666666,\"#57157E\"],[0.27058823529411763,\"#59157E\"],[0.27450980392156865,\"#5A167E\"],[0.2784313725490196,\"#5C167F\"],[0.2823529411764706,\"#5D177F\"],[0.28627450980392155,\"#5F187F\"],[0.2901960784313726,\"#601880\"],[0.29411764705882354,\"#621980\"],[0.2980392156862745,\"#641A80\"],[0.30196078431372547,\"#651A80\"],[0.3058823529411765,\"#671B80\"],[0.30980392156862746,\"#681C81\"],[0.3137254901960784,\"#6A1C81\"],[0.3176470588235294,\"#6B1D81\"],[0.3215686274509804,\"#6D1D81\"],[0.3254901960784314,\"#6E1E81\"],[0.32941176470588235,\"#701F81\"],[0.3333333333333333,\"#721F81\"],[0.33725490196078434,\"#732081\"],[0.3411764705882353,\"#752181\"],[0.34509803921568627,\"#762181\"],[0.34901960784313724,\"#782281\"],[0.35294117647058826,\"#792282\"],[0.3568627450980392,\"#7B2382\"],[0.3607843137254902,\"#7C2382\"],[0.36470588235294116,\"#7E2482\"],[0.3686274509803922,\"#802582\"],[0.37254901960784315,\"#812581\"],[0.3764705882352941,\"#832681\"],[0.3803921568627451,\"#842681\"],[0.3843137254901961,\"#862781\"],[0.38823529411764707,\"#882781\"],[0.39215686274509803,\"#892881\"],[0.396078431372549,\"#8B2981\"],[0.4,\"#8C2981\"],[0.403921568627451,\"#8E2A81\"],[0.40784313725490196,\"#902A81\"],[0.4117647058823529,\"#912B81\"],[0.41568627450980394,\"#932B80\"],[0.4196078431372549,\"#942C80\"],[0.4235294117647059,\"#962C80\"],[0.42745098039215684,\"#982D80\"],[0.43137254901960786,\"#992D80\"],[0.43529411764705883,\"#9B2E7F\"],[0.4392156862745098,\"#9C2E7F\"],[0.44313725490196076,\"#9E2F7F\"],[0.4470588235294118,\"#A02F7F\"],[0.45098039215686275,\"#A1307E\"],[0.4549019607843137,\"#A3307E\"],[0.4588235294117647,\"#A5317E\"],[0.4627450980392157,\"#A6317D\"],[0.4666666666666667,\"#A8327D\"],[0.47058823529411764,\"#AA337D\"],[0.4745098039215686,\"#AB337C\"],[0.47843137254901963,\"#AD347C\"],[0.4823529411764706,\"#AE347B\"],[0.48627450980392156,\"#B0357B\"],[0.49019607843137253,\"#B2357B\"],[0.49411764705882355,\"#B3367A\"],[0.4980392156862745,\"#B5367A\"],[0.5019607843137255,\"#B73779\"],[0.5058823529411764,\"#B83779\"],[0.5098039215686274,\"#BA3878\"],[0.5137254901960784,\"#BC3978\"],[0.5176470588235295,\"#BD3977\"],[0.5215686274509804,\"#BF3A77\"],[0.5254901960784314,\"#C03A76\"],[0.5294117647058824,\"#C23B75\"],[0.5333333333333333,\"#C43C75\"],[0.5372549019607843,\"#C53C74\"],[0.5411764705882353,\"#C73D73\"],[0.5450980392156862,\"#C83E73\"],[0.5490196078431373,\"#CA3E72\"],[0.5529411764705883,\"#CC3F71\"],[0.5568627450980392,\"#CD4071\"],[0.5607843137254902,\"#CF4070\"],[0.5647058823529412,\"#D0416F\"],[0.5686274509803921,\"#D2426F\"],[0.5725490196078431,\"#D3436E\"],[0.5764705882352941,\"#D5446D\"],[0.5803921568627451,\"#D6456C\"],[0.5843137254901961,\"#D8456C\"],[0.5882352941176471,\"#D9466B\"],[0.592156862745098,\"#DB476A\"],[0.596078431372549,\"#DC4869\"],[0.6,\"#DE4968\"],[0.6039215686274509,\"#DF4A68\"],[0.6078431372549019,\"#E04C67\"],[0.611764705882353,\"#E24D66\"],[0.615686274509804,\"#E34E65\"],[0.6196078431372549,\"#E44F64\"],[0.6235294117647059,\"#E55064\"],[0.6274509803921569,\"#E75263\"],[0.6313725490196078,\"#E85362\"],[0.6352941176470588,\"#E95462\"],[0.6392156862745098,\"#EA5661\"],[0.6431372549019608,\"#EB5760\"],[0.6470588235294118,\"#EC5860\"],[0.6509803921568628,\"#ED5A5F\"],[0.6549019607843137,\"#EE5B5E\"],[0.6588235294117647,\"#EF5D5E\"],[0.6627450980392157,\"#F05F5E\"],[0.6666666666666666,\"#F1605D\"],[0.6705882352941176,\"#F2625D\"],[0.6745098039215687,\"#F2645C\"],[0.6784313725490196,\"#F3655C\"],[0.6823529411764706,\"#F4675C\"],[0.6862745098039216,\"#F4695C\"],[0.6901960784313725,\"#F56B5C\"],[0.6941176470588235,\"#F66C5C\"],[0.6980392156862745,\"#F66E5C\"],[0.7019607843137254,\"#F7705C\"],[0.7058823529411765,\"#F7725C\"],[0.7098039215686275,\"#F8745C\"],[0.7137254901960784,\"#F8765C\"],[0.7176470588235294,\"#F9785D\"],[0.7215686274509804,\"#F9795D\"],[0.7254901960784313,\"#F97B5D\"],[0.7294117647058823,\"#FA7D5E\"],[0.7333333333333333,\"#FA7F5E\"],[0.7372549019607844,\"#FA815F\"],[0.7411764705882353,\"#FB835F\"],[0.7450980392156863,\"#FB8560\"],[0.7490196078431373,\"#FB8761\"],[0.7529411764705882,\"#FC8961\"],[0.7568627450980392,\"#FC8A62\"],[0.7607843137254902,\"#FC8C63\"],[0.7647058823529411,\"#FC8E64\"],[0.7686274509803922,\"#FC9065\"],[0.7725490196078432,\"#FD9266\"],[0.7764705882352941,\"#FD9467\"],[0.7803921568627451,\"#FD9668\"],[0.7843137254901961,\"#FD9869\"],[0.788235294117647,\"#FD9A6A\"],[0.792156862745098,\"#FD9B6B\"],[0.796078431372549,\"#FE9D6C\"],[0.8,\"#FE9F6D\"],[0.803921568627451,\"#FEA16E\"],[0.807843137254902,\"#FEA36F\"],[0.8117647058823529,\"#FEA571\"],[0.8156862745098039,\"#FEA772\"],[0.8196078431372549,\"#FEA973\"],[0.8235294117647058,\"#FEAA74\"],[0.8274509803921568,\"#FEAC76\"],[0.8313725490196079,\"#FEAE77\"],[0.8352941176470589,\"#FEB078\"],[0.8392156862745098,\"#FEB27A\"],[0.8431372549019608,\"#FEB47B\"],[0.8470588235294118,\"#FEB67C\"],[0.8509803921568627,\"#FEB77E\"],[0.8549019607843137,\"#FEB97F\"],[0.8588235294117647,\"#FEBB81\"],[0.8627450980392157,\"#FEBD82\"],[0.8666666666666667,\"#FEBF84\"],[0.8705882352941177,\"#FEC185\"],[0.8745098039215686,\"#FEC287\"],[0.8784313725490196,\"#FEC488\"],[0.8823529411764706,\"#FEC68A\"],[0.8862745098039215,\"#FEC88C\"],[0.8901960784313725,\"#FECA8D\"],[0.8941176470588236,\"#FECC8F\"],[0.8980392156862745,\"#FECD90\"],[0.9019607843137255,\"#FECF92\"],[0.9058823529411765,\"#FED194\"],[0.9098039215686274,\"#FED395\"],[0.9137254901960784,\"#FED597\"],[0.9176470588235294,\"#FED799\"],[0.9215686274509803,\"#FED89A\"],[0.9254901960784314,\"#FDDA9C\"],[0.9294117647058824,\"#FDDC9E\"],[0.9333333333333333,\"#FDDEA0\"],[0.9372549019607843,\"#FDE0A1\"],[0.9411764705882353,\"#FDE2A3\"],[0.9450980392156862,\"#FDE3A5\"],[0.9490196078431372,\"#FDE5A7\"],[0.9529411764705882,\"#FDE7A9\"],[0.9568627450980393,\"#FDE9AA\"],[0.9607843137254902,\"#FDEBAC\"],[0.9647058823529412,\"#FCECAE\"],[0.9686274509803922,\"#FCEEB0\"],[0.9725490196078431,\"#FCF0B2\"],[0.9764705882352941,\"#FCF2B4\"],[0.9803921568627451,\"#FCF4B6\"],[0.984313725490196,\"#FCF6B8\"],[0.9882352941176471,\"#FCF7B9\"],[0.9921568627450981,\"#FCF9BB\"],[0.996078431372549,\"#FCFBBD\"],[1.0,\"#FCFDBF\"]],\"z\":[[0.0,0.5058442,0.5818925,0.5634209,0.88499224,0.87633044,0.8786186,0.8741443,0.8832891,0.8717358,0.8830922,0.88068324,0.840646,0.8415136,0.85894966,0.8603604,0.8591472,0.8574119,0.8552632,0.8736927],[0.5058442,0.0,0.57648903,0.5435484,0.88729876,0.878392,0.88319516,0.8806862,0.88479745,0.87670887,0.8844434,0.8849118,0.84737676,0.84750813,0.8632037,0.86248255,0.8572936,0.8615917,0.858616,0.8701923],[0.5818925,0.57648903,0.0049327356,0.55707765,0.8828616,0.8790054,0.8778665,0.88018066,0.87799567,0.87903017,0.89045346,0.8825324,0.8477612,0.8462178,0.8610209,0.8565691,0.8544996,0.8631179,0.85884637,0.86726874],[0.5634209,0.5435484,0.55707765,0.0,0.87761587,0.877904,0.8752279,0.87789136,0.87717867,0.87675506,0.88629246,0.87657493,0.84541726,0.846068,0.86197686,0.8575137,0.8560158,0.86121,0.8568633,0.8666299],[0.88499224,0.88729876,0.8828616,0.87761587,0.012254902,0.4386423,0.53368604,0.49364248,0.4936806,0.56437695,0.5625,0.6084656,0.85629755,0.858496,0.814779,0.8127553,0.8156136,0.8262401,0.816511,0.8272997],[0.87633044,0.878392,0.8790054,0.877904,0.4386423,0.23702213,0.5311532,0.4875731,0.49646708,0.53399724,0.5563625,0.61513793,0.8510989,0.8598107,0.82002497,0.8176595,0.819841,0.8113972,0.8084981,0.83443326],[0.8786186,0.88319516,0.8778665,0.8752279,0.53368604,0.5311532,0.005164319,0.4774575,0.48674878,0.4964539,0.5647652,0.6047495,0.86013216,0.85528916,0.8257742,0.8260738,0.8235294,0.81395346,0.8284629,0.83506644],[0.8741443,0.8806862,0.88018066,0.87789136,0.49364248,0.4875731,0.4774575,0.18958429,0.45049703,0.49192956,0.52325195,0.5907859,0.8456684,0.85016096,0.8100264,0.80861247,0.81226766,0.80778515,0.8039457,0.8196174],[0.8832891,0.88479745,0.87799567,0.87717867,0.4936806,0.49646708,0.48674878,0.45049703,0.30040053,0.5280204,0.54579127,0.585595,0.84755737,0.8479567,0.80369747,0.80246913,0.8048626,0.8068182,0.81146777,0.8230604],[0.8717358,0.87670887,0.87903017,0.87675506,0.56437695,0.53399724,0.4964539,0.49192956,0.5280204,0.0,0.5399936,0.6068182,0.8594565,0.8601909,0.82734936,0.8279505,0.828479,0.81371695,0.82237226,0.8375108],[0.8830922,0.8844434,0.89045346,0.88629246,0.5625,0.5563625,0.5647652,0.52325195,0.54579127,0.5399936,0.0,0.6208346,0.85260713,0.8517786,0.8316062,0.8349569,0.820534,0.8209196,0.81385756,0.8397967],[0.88068324,0.8849118,0.8825324,0.87657493,0.6084656,0.61513793,0.6047495,0.5907859,0.585595,0.6068182,0.6208346,0.0,0.8622463,0.8620881,0.83031046,0.8209895,0.83227116,0.834039,0.8242108,0.84108967],[0.840646,0.84737676,0.8477612,0.84541726,0.85629755,0.8510989,0.86013216,0.8456684,0.84755737,0.8594565,0.85260713,0.8622463,0.30405688,0.2852827,0.8126015,0.8133626,0.80664,0.81136566,0.79409957,0.82185626],[0.8415136,0.84750813,0.8462178,0.846068,0.858496,0.8598107,0.85528916,0.85016096,0.8479567,0.8601909,0.8517786,0.8620881,0.2852827,0.32204756,0.8050819,0.80843526,0.79898864,0.8156696,0.80493134,0.81555486],[0.85894966,0.8632037,0.8610209,0.86197686,0.814779,0.82002497,0.8257742,0.8100264,0.80369747,0.82734936,0.8316062,0.83031046,0.8126015,0.8050819,0.18704663,0.41557837,0.45651215,0.47043812,0.4423332,0.47617003],[0.8603604,0.86248255,0.8565691,0.8575137,0.8127553,0.8176595,0.8260738,0.80861247,0.80246913,0.8279505,0.8349569,0.8209895,0.8133626,0.80843526,0.41557837,0.0,0.45369184,0.49454105,0.4299226,0.53136235],[0.8591472,0.8572936,0.8544996,0.8560158,0.8156136,0.819841,0.8235294,0.81226766,0.8048626,0.828479,0.820534,0.83227116,0.80664,0.79898864,0.45651215,0.45369184,0.17036338,0.47910863,0.39150944,0.49060374],[0.8574119,0.8615917,0.8631179,0.86121,0.8262401,0.8113972,0.81395346,0.80778515,0.8068182,0.81371695,0.8209196,0.834039,0.81136566,0.8156696,0.47043812,0.49454105,0.47910863,0.0,0.41522634,0.5448742],[0.8552632,0.858616,0.85884637,0.8568633,0.816511,0.8084981,0.8284629,0.8039457,0.81146777,0.82237226,0.81385756,0.8242108,0.79409957,0.80493134,0.4423332,0.4299226,0.39150944,0.41522634,0.0,0.49406177],[0.8736927,0.8701923,0.86726874,0.8666299,0.8272997,0.83443326,0.83506644,0.8196174,0.8230604,0.8375108,0.8397967,0.84108967,0.82185626,0.81555486,0.47617003,0.53136235,0.49060374,0.5448742,0.49406177,0.0]],\"x\":[0.5,1.5,2.5,4.5,5.5,7.5,9.914213562373096,11.914213562373096,13.914213562373096,15.914213562373096,16.914213562373096,17.914213562373096,18.914213562373096,20.914213562373096,23.646264369941974,25.646264369941974,26.646264369941974,28.646264369941974,29.646264369941974,30.646264369941974,31.646264369941974]},{\"showlegend\":false,\"mode\":\"lines\",\"xaxis\":\"x2\",\"line\":{\"color\":\"#666666\"},\"y\":[19.914213562373096,22.280238966157533,null,19.914213562373096,19.914213562373096,null,22.280238966157533,22.280238966157533,null],\"type\":\"scatter\",\"hoverinfo\":\"skip\",\"yaxis\":\"y\",\"x\":[0.3578336536884308,0.3578336536884308,null,0.3578336536884308,0.30405688285827637,null,0.3578336536884308,0.32204756140708923,null]},{\"showlegend\":false,\"mode\":\"lines\",\"xaxis\":\"x2\",\"line\":{\"color\":\"#666666\"},\"y\":[25.396264369941974,28.646264369941974,null,25.396264369941974,25.396264369941974,null,28.646264369941974,28.646264369941974,null],\"type\":\"scatter\",\"hoverinfo\":\"skip\",\"yaxis\":\"y\",\"x\":[0.5007727742195129,0.5007727742195129,null,0.5007727742195129,0.43841516971588135,null,0.5007727742195129,0.4941309988498688,null]},{\"showlegend\":false,\"mode\":\"lines\",\"xaxis\":\"x2\",\"line\":{\"color\":\"#666666\"},\"y\":[6.5,8.707106781186548,null,6.5,6.5,null,8.707106781186548,8.707106781186548,null],\"type\":\"scatter\",\"hoverinfo\":\"skip\",\"yaxis\":\"y\",\"x\":[0.4625678062438965,0.4625678062438965,null,0.4625678062438965,0.01225490216165781,null,0.4625678062438965,0.23702213168144226,null]},{\"showlegend\":false,\"mode\":\"lines\",\"xaxis\":\"x2\",\"line\":{\"color\":\"#666666\"},\"y\":[24.146264369941974,24.146264369941974,25.146264369941974,25.146264369941974],\"type\":\"scatter\",\"fill\":\"toself\",\"hoverinfo\":\"skip\",\"yaxis\":\"y\",\"x\":[0.0,0.18704663217067719,0.18704663217067719,0.0]},{\"showlegend\":false,\"mode\":\"lines\",\"xaxis\":\"x2\",\"line\":{\"color\":\"#666666\"},\"y\":[11.758883476483184,18.414213562373096,null,11.758883476483184,11.758883476483184,null,18.414213562373096,18.414213562373096,null],\"type\":\"scatter\",\"hoverinfo\":\"skip\",\"yaxis\":\"y\",\"x\":[0.6237499713897705,0.6237499713897705,null,0.6237499713897705,0.5678813457489014,null,0.6237499713897705,0.0,null]},{\"showlegend\":false,\"mode\":\"lines\",\"xaxis\":\"x2\",\"line\":{\"color\":\"#666666\"},\"y\":[27.146264369941974,27.146264369941974,28.146264369941974,28.146264369941974],\"type\":\"scatter\",\"fill\":\"toself\",\"hoverinfo\":\"skip\",\"yaxis\":\"y\",\"x\":[0.0,0.1703633815050125,0.1703633815050125,0.0]},{\"showlegend\":false,\"mode\":\"lines\",\"xaxis\":\"x2\",\"line\":{\"color\":\"#666666\"},\"y\":[21.414213562373096,21.414213562373096,23.146264369941974,23.146264369941974],\"type\":\"scatter\",\"fill\":\"toself\",\"hoverinfo\":\"skip\",\"yaxis\":\"y\",\"x\":[0.0,0.32204756140708923,0.32204756140708923,0.0]},{\"showlegend\":false,\"mode\":\"lines\",\"xaxis\":\"x2\",\"line\":{\"color\":\"#666666\"},\"y\":[1.0,2.0,null,1.0,1.0,null,2.0,2.0,null],\"type\":\"scatter\",\"hoverinfo\":\"skip\",\"yaxis\":\"y\",\"x\":[0.5058441758155823,0.5058441758155823,null,0.5058441758155823,0.0,null,0.5058441758155823,0.0,null]},{\"showlegend\":false,\"mode\":\"lines\",\"xaxis\":\"x2\",\"line\":{\"color\":\"#666666\"},\"y\":[3.0,3.0,4.0,4.0],\"type\":\"scatter\",\"fill\":\"toself\",\"hoverinfo\":\"skip\",\"yaxis\":\"y\",\"x\":[0.0,0.004932735580950975,0.004932735580950975,0.0]},{\"showlegend\":false,\"mode\":\"lines\",\"xaxis\":\"x2\",\"line\":{\"color\":\"#666666\"},\"y\":[7.603553390593274,15.914213562373096,null,7.603553390593274,7.603553390593274,null,15.914213562373096,15.914213562373096,null],\"type\":\"scatter\",\"hoverinfo\":\"skip\",\"yaxis\":\"y\",\"x\":[0.5678813457489014,0.5678813457489014,null,0.5678813457489014,0.4625678062438965,null,0.5678813457489014,0.5650663375854492,null]},{\"showlegend\":false,\"mode\":\"lines\",\"xaxis\":\"x2\",\"line\":{\"color\":\"#666666\"},\"y\":[3.5,5.0,null,3.5,3.5,null,5.0,5.0,null],\"type\":\"scatter\",\"hoverinfo\":\"skip\",\"yaxis\":\"y\",\"x\":[0.5588139295578003,0.5588139295578003,null,0.5588139295578003,0.004932735580950975,null,0.5588139295578003,0.0,null]},{\"showlegend\":false,\"mode\":\"lines\",\"xaxis\":\"x2\",\"line\":{\"color\":\"#666666\"},\"y\":[8.0,8.0,9.414213562373096,9.414213562373096],\"type\":\"scatter\",\"fill\":\"toself\",\"hoverinfo\":\"skip\",\"yaxis\":\"y\",\"x\":[0.0,0.23702213168144226,0.23702213168144226,0.0]},{\"showlegend\":false,\"mode\":\"lines\",\"xaxis\":\"x2\",\"line\":{\"color\":\"#666666\"},\"y\":[2.875,20.088521918265894,null,2.875,2.875,null,20.088521918265894,20.088521918265894,null],\"type\":\"scatter\",\"hoverinfo\":\"skip\",\"yaxis\":\"y\",\"x\":[0.8914858102798462,0.8914858102798462,null,0.8914858102798462,0.5844318866729736,null,0.8914858102798462,0.8681948184967041,null]},{\"showlegend\":false,\"mode\":\"lines\",\"xaxis\":\"x2\",\"line\":{\"color\":\"#666666\"},\"y\":[15.08654851942814,25.090495317103645,null,15.08654851942814,15.08654851942814,null,25.090495317103645,25.090495317103645,null],\"type\":\"scatter\",\"hoverinfo\":\"skip\",\"yaxis\":\"y\",\"x\":[0.8681948184967041,0.8681948184967041,null,0.8681948184967041,0.6237499713897705,null,0.8681948184967041,0.8267649412155151,null]},{\"showlegend\":false,\"mode\":\"lines\",\"xaxis\":\"x2\",\"line\":{\"color\":\"#666666\"},\"y\":[14.414213562373096,17.414213562373096,null,14.414213562373096,14.414213562373096,null,17.414213562373096,17.414213562373096,null],\"type\":\"scatter\",\"hoverinfo\":\"skip\",\"yaxis\":\"y\",\"x\":[0.5650663375854492,0.5650663375854492,null,0.5650663375854492,0.5294764041900635,null,0.5650663375854492,0.0,null]},{\"showlegend\":false,\"mode\":\"lines\",\"xaxis\":\"x2\",\"line\":{\"color\":\"#666666\"},\"y\":[12.914213562373096,14.914213562373096,null,12.914213562373096,12.914213562373096,null,14.914213562373096,14.914213562373096,null],\"type\":\"scatter\",\"hoverinfo\":\"skip\",\"yaxis\":\"y\",\"x\":[0.46563979983329773,0.46563979983329773,null,0.46563979983329773,0.18958428502082825,null,0.46563979983329773,0.3004005253314972,null]},{\"showlegend\":false,\"mode\":\"lines\",\"xaxis\":\"x2\",\"line\":{\"color\":\"#666666\"},\"y\":[24.646264369941974,26.146264369941974,null,24.646264369941974,24.646264369941974,null,26.146264369941974,26.146264369941974,null],\"type\":\"scatter\",\"hoverinfo\":\"skip\",\"yaxis\":\"y\",\"x\":[0.43841516971588135,0.43841516971588135,null,0.43841516971588135,0.18704663217067719,null,0.43841516971588135,0.0,null]},{\"showlegend\":false,\"mode\":\"lines\",\"xaxis\":\"x2\",\"line\":{\"color\":\"#666666\"},\"y\":[14.414213562373096,14.414213562373096,15.414213562373096,15.414213562373096],\"type\":\"scatter\",\"fill\":\"toself\",\"hoverinfo\":\"skip\",\"yaxis\":\"y\",\"x\":[0.0,0.3004005253314972,0.3004005253314972,0.0]},{\"showlegend\":false,\"mode\":\"lines\",\"xaxis\":\"x2\",\"line\":{\"color\":\"#666666\"},\"y\":[27.646264369941974,29.646264369941974,null,27.646264369941974,27.646264369941974,null,29.646264369941974,29.646264369941974,null],\"type\":\"scatter\",\"hoverinfo\":\"skip\",\"yaxis\":\"y\",\"x\":[0.4941309988498688,0.4941309988498688,null,0.4941309988498688,0.1703633815050125,null,0.4941309988498688,0.4152263402938843,null]},{\"showlegend\":false,\"mode\":\"lines\",\"xaxis\":\"x2\",\"line\":{\"color\":\"#666666\"},\"y\":[1.5,4.25,null,1.5,1.5,null,4.25,4.25,null],\"type\":\"scatter\",\"hoverinfo\":\"skip\",\"yaxis\":\"y\",\"x\":[0.5844318866729736,0.5844318866729736,null,0.5844318866729736,0.5058441758155823,null,0.5844318866729736,0.5588139295578003,null]},{\"showlegend\":false,\"mode\":\"lines\",\"xaxis\":\"x2\",\"line\":{\"color\":\"#666666\"},\"y\":[6.0,6.0,7.0,7.0],\"type\":\"scatter\",\"fill\":\"toself\",\"hoverinfo\":\"skip\",\"yaxis\":\"y\",\"x\":[0.0,0.01225490216165781,0.01225490216165781,0.0]},{\"showlegend\":false,\"mode\":\"lines\",\"xaxis\":\"x2\",\"line\":{\"color\":\"#666666\"},\"y\":[27.021264369941974,31.146264369941974,null,27.021264369941974,27.021264369941974,null,31.146264369941974,31.146264369941974,null],\"type\":\"scatter\",\"hoverinfo\":\"skip\",\"yaxis\":\"y\",\"x\":[0.5448741912841797,0.5448741912841797,null,0.5448741912841797,0.5007727742195129,null,0.5448741912841797,0.0,null]},{\"showlegend\":false,\"mode\":\"lines\",\"xaxis\":\"x2\",\"line\":{\"color\":\"#666666\"},\"y\":[19.414213562373096,19.414213562373096,20.414213562373096,20.414213562373096],\"type\":\"scatter\",\"fill\":\"toself\",\"hoverinfo\":\"skip\",\"yaxis\":\"y\",\"x\":[0.0,0.30405688285827637,0.30405688285827637,0.0]},{\"showlegend\":false,\"mode\":\"lines\",\"xaxis\":\"x2\",\"line\":{\"color\":\"#666666\"},\"y\":[21.097226264265316,29.083764369941974,null,21.097226264265316,21.097226264265316,null,29.083764369941974,29.083764369941974,null],\"type\":\"scatter\",\"hoverinfo\":\"skip\",\"yaxis\":\"y\",\"x\":[0.8267649412155151,0.8267649412155151,null,0.8267649412155151,0.3578336536884308,null,0.8267649412155151,0.5448741912841797,null]},{\"showlegend\":false,\"mode\":\"lines\",\"xaxis\":\"x2\",\"line\":{\"color\":\"#666666\"},\"y\":[10.414213562373096,10.414213562373096,11.414213562373096,11.414213562373096],\"type\":\"scatter\",\"fill\":\"toself\",\"hoverinfo\":\"skip\",\"yaxis\":\"y\",\"x\":[0.0,0.005164319183677435,0.005164319183677435,0.0]},{\"showlegend\":false,\"mode\":\"lines\",\"xaxis\":\"x2\",\"line\":{\"color\":\"#666666\"},\"y\":[12.414213562373096,16.414213562373096,null,12.414213562373096,12.414213562373096,null,16.414213562373096,16.414213562373096,null],\"type\":\"scatter\",\"hoverinfo\":\"skip\",\"yaxis\":\"y\",\"x\":[0.5294764041900635,0.5294764041900635,null,0.5294764041900635,0.488546758890152,null,0.5294764041900635,0.0,null]},{\"showlegend\":false,\"mode\":\"lines\",\"xaxis\":\"x2\",\"line\":{\"color\":\"#666666\"},\"y\":[29.146264369941974,30.146264369941974,null,29.146264369941974,29.146264369941974,null,30.146264369941974,30.146264369941974,null],\"type\":\"scatter\",\"hoverinfo\":\"skip\",\"yaxis\":\"y\",\"x\":[0.4152263402938843,0.4152263402938843,null,0.4152263402938843,0.0,null,0.4152263402938843,0.0,null]},{\"showlegend\":false,\"mode\":\"lines\",\"xaxis\":\"x2\",\"line\":{\"color\":\"#666666\"},\"y\":[12.414213562373096,12.414213562373096,13.414213562373096,13.414213562373096],\"type\":\"scatter\",\"fill\":\"toself\",\"hoverinfo\":\"skip\",\"yaxis\":\"y\",\"x\":[0.0,0.18958428502082825,0.18958428502082825,0.0]},{\"showlegend\":false,\"mode\":\"lines\",\"xaxis\":\"x2\",\"line\":{\"color\":\"#666666\"},\"y\":[10.914213562373096,13.914213562373096,null,10.914213562373096,10.914213562373096,null,13.914213562373096,13.914213562373096,null],\"type\":\"scatter\",\"hoverinfo\":\"skip\",\"yaxis\":\"y\",\"x\":[0.488546758890152,0.488546758890152,null,0.488546758890152,0.005164319183677435,null,0.488546758890152,0.46563979983329773,null]},{\"showlegend\":false,\"mode\":\"markers\",\"xaxis\":\"x2\",\"marker\":{\"color\":\"#666666\",\"size\":[8,4,8,8,8,4,8,8,8,8,4,8,8,4,4,8,4,8,4,8,8,8,4,4,8,4,4,8,4]},\"y\":[21.097226264265316,27.021264369941974,7.603553390593274,24.646264369941974,15.08654851942814,22.280238966157533,27.646264369941974,1.5,3.5,11.758883476483184,4.25,8.707106781186548,11.481760959132947,20.088521918265894,15.914213562373096,13.914213562373096,25.396264369941974,14.914213562373096,28.646264369941974,2.875,6.5,29.083764369941974,19.914213562373096,25.090495317103645,10.914213562373096,14.414213562373096,29.646264369941974,12.914213562373096,12.414213562373096],\"type\":\"scatter\",\"customdata\":[[47,6],[54,7],[50,5],[40,2],[62,14],[46,4],[39,2],[55,2],[35,2],[60,13],[58,3],[42,3],[65,33],[64,28],[59,8],[51,4],[49,3],[44,2],[53,4],[61,5],[38,2],[57,8],[45,2],[63,14],[36,2],[56,7],[48,2],[41,2],[52,6]],\"yaxis\":\"y\",\"hovertemplate\":\"ID: %{customdata[0]}<br>\\nHeight: %{x:.3f}<br>\\nGenome count: %{customdata[1]}\\n\\n<extra></extra>\",\"x\":[0.3578336536884308,0.5007727742195129,0.4625678062438965,0.18704663217067719,0.6237499713897705,0.32204756140708923,0.1703633815050125,0.5058441758155823,0.004932735580950975,0.5678813457489014,0.5588139295578003,0.23702213168144226,0.8914858102798462,0.8681948184967041,0.5650663375854492,0.46563979983329773,0.43841516971588135,0.3004005253314972,0.4941309988498688,0.5844318866729736,0.01225490216165781,0.5448741912841797,0.30405688285827637,0.8267649412155151,0.005164319183677435,0.5294764041900635,0.4152263402938843,0.18958428502082825,0.488546758890152]},{\"marker\":{\"symbol\":\"line-ns\",\"color\":\"green\",\"line\":{\"color\":\"green\",\"width\":1}},\"mode\":\"markers\",\"xaxis\":\"x2\",\"y\":[-1,-1],\"type\":\"scatter\",\"text\":[\"hwasookii\"],\"hovertemplate\":\"%{text} <br>\\n%{x}\\n<extra></extra>\\n\",\"x\":[0.78724]}],{\"showlegend\":false,\"xaxis\":{\"scaleanchor\":\"y\",\"visible\":false,\"domain\":[0.504950495049505,1.0]},\"hovermode\":\"closest\",\"xaxis2\":{\"rangemode\":\"nonnegative\",\"spikethickness\":1,\"showspikes\":true,\"domain\":[0.0,0.49504950495049505],\"spikemode\":\"across\",\"autorange\":\"reversed\",\"spikedash\":\"solid\"},\"height\":550,\"margin\":{\"l\":50,\"b\":50,\"r\":50,\"t\":60},\"yaxis\":{\"scaleanchor\":\"x\",\"visible\":false},\"width\":1000},{}); gd.on(\"plotly_hover\",(function (data){var filtered_data=WebIO.PlotlyCommands.filterEventData(gd,data,\"hover\"); return !(filtered_data.isnil) ? (WebIO.setval({\"name\":\"hover\",\"scope\":\"6295280581491695213\",\"id\":\"4474608338839267925\",\"type\":\"observable\"},filtered_data.out)) : undefined})); gd.on(\"plotly_unhover\",(function (){return WebIO.setval({\"name\":\"hover\",\"scope\":\"6295280581491695213\",\"id\":\"4474608338839267925\",\"type\":\"observable\"},{})})); gd.on(\"plotly_selected\",(function (data){var filtered_data=WebIO.PlotlyCommands.filterEventData(gd,data,\"selected\"); return !(filtered_data.isnil) ? (WebIO.setval({\"name\":\"selected\",\"scope\":\"6295280581491695213\",\"id\":\"14188018313839104360\",\"type\":\"observable\"},filtered_data.out)) : undefined})); gd.on(\"plotly_deselect\",(function (){return WebIO.setval({\"name\":\"selected\",\"scope\":\"6295280581491695213\",\"id\":\"14188018313839104360\",\"type\":\"observable\"},{})})); gd.on(\"plotly_relayout\",(function (data){var filtered_data=WebIO.PlotlyCommands.filterEventData(gd,data,\"relayout\"); return !(filtered_data.isnil) ? (WebIO.setval({\"name\":\"relayout\",\"scope\":\"6295280581491695213\",\"id\":\"13430652424131474953\",\"type\":\"observable\"},filtered_data.out)) : undefined})); return gd.on(\"plotly_click\",(function (data){var filtered_data=WebIO.PlotlyCommands.filterEventData(gd,data,\"click\"); return !(filtered_data.isnil) ? (WebIO.setval({\"name\":\"click\",\"scope\":\"6295280581491695213\",\"id\":\"15941174143262047288\",\"type\":\"observable\"},filtered_data.out)) : undefined}))}));\n    (WebIO.importBlock({\"data\":[{\"name\":\"Plotly\",\"type\":\"js\",\"url\":\"/assetserver/e6903599031aaef8675931dfcd7df98a1aeffbfc-plotly-latest.min.js\"},{\"name\":null,\"type\":\"js\",\"url\":\"/assetserver/74a5dea81f21b0b802ef1ee92f1c8a504eac1a0c-plotly_webio.bundle.js\"}],\"type\":\"async_block\"})).then((imports) => handler.apply(this, imports));\n}\n"
        ],
        "observables": {
         "__gd_contents": {
          "id": "10244139748212273275",
          "sync": false,
          "value": {}
         },
         "__get_gd_contents": {
          "id": "14189976503246896713",
          "sync": false,
          "value": ""
         },
         "_commands": {
          "id": "7633210266409316628",
          "sync": false,
          "value": []
         },
         "_downloadImage": {
          "id": "14393919323130752413",
          "sync": false,
          "value": {}
         },
         "_toImage": {
          "id": "4227437832742486249",
          "sync": false,
          "value": {}
         },
         "click": {
          "id": "15941174143262047288",
          "sync": false,
          "value": {}
         },
         "hover": {
          "id": "4474608338839267925",
          "sync": false,
          "value": {}
         },
         "image": {
          "id": "17467423077202879811",
          "sync": true,
          "value": ""
         },
         "relayout": {
          "id": "13430652424131474953",
          "sync": false,
          "value": {}
         },
         "selected": {
          "id": "14188018313839104360",
          "sync": false,
          "value": {}
         }
        },
        "systemjs_options": null
       },
       "nodeType": "Scope",
       "props": {},
       "type": "node"
      },
      "image/png": "[encoded data removed]",
      "image/svg+xml": [
       "<svg class=\"main-svg\" xmlns=\"http://www.w3.org/2000/svg\" xmlns:xlink=\"http://www.w3.org/1999/xlink\" width=\"700\" height=\"500\" style=\"\" viewBox=\"0 0 700 500\"><rect x=\"0\" y=\"0\" width=\"700\" height=\"500\" style=\"fill: rgb(255, 255, 255); fill-opacity: 1;\"/><defs id=\"defs-7ef9e8\"><g class=\"clips\"><clipPath id=\"clip7ef9e8xyplot\" class=\"plotclip\"><rect width=\"276.73267326732673\" height=\"390\"/></clipPath><clipPath id=\"clip7ef9e8x2yplot\" class=\"plotclip\"><rect width=\"276.73267326732673\" height=\"390\"/></clipPath><clipPath class=\"axesclip\" id=\"clip7ef9e8x\"><rect x=\"332.26732673267327\" y=\"0\" width=\"276.73267326732673\" height=\"500\"/></clipPath><clipPath class=\"axesclip\" id=\"clip7ef9e8y\"><rect x=\"0\" y=\"60\" width=\"700\" height=\"390\"/></clipPath><clipPath class=\"axesclip\" id=\"clip7ef9e8xy\"><rect x=\"332.26732673267327\" y=\"60\" width=\"276.73267326732673\" height=\"390\"/></clipPath><clipPath class=\"axesclip\" id=\"clip7ef9e8x2\"><rect x=\"50\" y=\"0\" width=\"276.73267326732673\" height=\"500\"/></clipPath><clipPath class=\"axesclip\" id=\"clip7ef9e8x2y\"><rect x=\"50\" y=\"60\" width=\"276.73267326732673\" height=\"390\"/></clipPath></g><g class=\"gradients\"><linearGradient x1=\"0\" x2=\"0\" y1=\"1\" y2=\"0\" id=\"g7ef9e8-cbe42a13\"><stop offset=\"0%\" stop-color=\"rgb(0, 0, 4)\" stop-opacity=\"1\"/><stop offset=\"0.39215686274509803%\" stop-color=\"rgb(1, 0, 5)\" stop-opacity=\"1\"/><stop offset=\"0.7843137254901961%\" stop-color=\"rgb(1, 1, 6)\" stop-opacity=\"1\"/><stop offset=\"1.1764705882352942%\" stop-color=\"rgb(1, 1, 8)\" stop-opacity=\"1\"/><stop offset=\"1.5686274509803921%\" stop-color=\"rgb(2, 1, 9)\" stop-opacity=\"1\"/><stop offset=\"1.9607843137254901%\" stop-color=\"rgb(2, 2, 11)\" stop-opacity=\"1\"/><stop offset=\"2.3529411764705883%\" stop-color=\"rgb(2, 2, 13)\" stop-opacity=\"1\"/><stop offset=\"2.7450980392156863%\" stop-color=\"rgb(3, 3, 15)\" stop-opacity=\"1\"/><stop offset=\"3.1372549019607843%\" stop-color=\"rgb(3, 3, 18)\" stop-opacity=\"1\"/><stop offset=\"3.5294117647058822%\" stop-color=\"rgb(4, 4, 20)\" stop-opacity=\"1\"/><stop offset=\"3.9215686274509802%\" stop-color=\"rgb(5, 4, 22)\" stop-opacity=\"1\"/><stop offset=\"4.313725490196078%\" stop-color=\"rgb(6, 5, 24)\" stop-opacity=\"1\"/><stop offset=\"4.705882352941177%\" stop-color=\"rgb(6, 5, 26)\" stop-opacity=\"1\"/><stop offset=\"5.098039215686274%\" stop-color=\"rgb(7, 6, 28)\" stop-opacity=\"1\"/><stop offset=\"5.490196078431373%\" stop-color=\"rgb(8, 7, 30)\" stop-opacity=\"1\"/><stop offset=\"5.88235294117647%\" stop-color=\"rgb(9, 7, 32)\" stop-opacity=\"1\"/><stop offset=\"6.2745098039215685%\" stop-color=\"rgb(10, 8, 34)\" stop-opacity=\"1\"/><stop offset=\"6.666666666666667%\" stop-color=\"rgb(11, 9, 36)\" stop-opacity=\"1\"/><stop offset=\"7.0588235294117645%\" stop-color=\"rgb(12, 9, 38)\" stop-opacity=\"1\"/><stop offset=\"7.450980392156863%\" stop-color=\"rgb(13, 10, 41)\" stop-opacity=\"1\"/><stop offset=\"7.8431372549019605%\" stop-color=\"rgb(14, 11, 43)\" stop-opacity=\"1\"/><stop offset=\"8.235294117647058%\" stop-color=\"rgb(16, 11, 45)\" stop-opacity=\"1\"/><stop offset=\"8.627450980392156%\" stop-color=\"rgb(17, 12, 47)\" stop-opacity=\"1\"/><stop offset=\"9.019607843137255%\" stop-color=\"rgb(18, 13, 49)\" stop-opacity=\"1\"/><stop offset=\"9.411764705882353%\" stop-color=\"rgb(19, 13, 52)\" stop-opacity=\"1\"/><stop offset=\"9.803921568627452%\" stop-color=\"rgb(20, 14, 54)\" stop-opacity=\"1\"/><stop offset=\"10.196078431372548%\" stop-color=\"rgb(21, 14, 56)\" stop-opacity=\"1\"/><stop offset=\"10.588235294117647%\" stop-color=\"rgb(22, 15, 59)\" stop-opacity=\"1\"/><stop offset=\"10.980392156862745%\" stop-color=\"rgb(24, 15, 61)\" stop-opacity=\"1\"/><stop offset=\"11.372549019607844%\" stop-color=\"rgb(25, 16, 63)\" stop-opacity=\"1\"/><stop offset=\"11.76470588235294%\" stop-color=\"rgb(26, 16, 66)\" stop-opacity=\"1\"/><stop offset=\"12.156862745098039%\" stop-color=\"rgb(28, 16, 68)\" stop-opacity=\"1\"/><stop offset=\"12.549019607843137%\" stop-color=\"rgb(29, 17, 71)\" stop-opacity=\"1\"/><stop offset=\"12.941176470588237%\" stop-color=\"rgb(30, 17, 73)\" stop-opacity=\"1\"/><stop offset=\"13.333333333333334%\" stop-color=\"rgb(32, 17, 75)\" stop-opacity=\"1\"/><stop offset=\"13.725490196078432%\" stop-color=\"rgb(33, 17, 78)\" stop-opacity=\"1\"/><stop offset=\"14.117647058823529%\" stop-color=\"rgb(34, 17, 80)\" stop-opacity=\"1\"/><stop offset=\"14.50980392156863%\" stop-color=\"rgb(36, 18, 83)\" stop-opacity=\"1\"/><stop offset=\"14.901960784313726%\" stop-color=\"rgb(37, 18, 85)\" stop-opacity=\"1\"/><stop offset=\"15.294117647058824%\" stop-color=\"rgb(39, 18, 88)\" stop-opacity=\"1\"/><stop offset=\"15.686274509803921%\" stop-color=\"rgb(41, 17, 90)\" stop-opacity=\"1\"/><stop offset=\"16.07843137254902%\" stop-color=\"rgb(42, 17, 92)\" stop-opacity=\"1\"/><stop offset=\"16.470588235294116%\" stop-color=\"rgb(44, 17, 95)\" stop-opacity=\"1\"/><stop offset=\"16.862745098039216%\" stop-color=\"rgb(45, 17, 97)\" stop-opacity=\"1\"/><stop offset=\"17.254901960784313%\" stop-color=\"rgb(47, 17, 99)\" stop-opacity=\"1\"/><stop offset=\"17.647058823529413%\" stop-color=\"rgb(49, 17, 101)\" stop-opacity=\"1\"/><stop offset=\"18.03921568627451%\" stop-color=\"rgb(51, 16, 103)\" stop-opacity=\"1\"/><stop offset=\"18.43137254901961%\" stop-color=\"rgb(52, 16, 105)\" stop-opacity=\"1\"/><stop offset=\"18.823529411764707%\" stop-color=\"rgb(54, 16, 107)\" stop-opacity=\"1\"/><stop offset=\"19.215686274509807%\" stop-color=\"rgb(56, 16, 108)\" stop-opacity=\"1\"/><stop offset=\"19.607843137254903%\" stop-color=\"rgb(57, 15, 110)\" stop-opacity=\"1\"/><stop offset=\"20%\" stop-color=\"rgb(59, 15, 112)\" stop-opacity=\"1\"/><stop offset=\"20.392156862745097%\" stop-color=\"rgb(61, 15, 113)\" stop-opacity=\"1\"/><stop offset=\"20.784313725490197%\" stop-color=\"rgb(63, 15, 114)\" stop-opacity=\"1\"/><stop offset=\"21.176470588235293%\" stop-color=\"rgb(64, 15, 116)\" stop-opacity=\"1\"/><stop offset=\"21.568627450980394%\" stop-color=\"rgb(66, 15, 117)\" stop-opacity=\"1\"/><stop offset=\"21.96078431372549%\" stop-color=\"rgb(68, 15, 118)\" stop-opacity=\"1\"/><stop offset=\"22.35294117647059%\" stop-color=\"rgb(69, 16, 119)\" stop-opacity=\"1\"/><stop offset=\"22.745098039215687%\" stop-color=\"rgb(71, 16, 120)\" stop-opacity=\"1\"/><stop offset=\"23.137254901960784%\" stop-color=\"rgb(73, 16, 120)\" stop-opacity=\"1\"/><stop offset=\"23.52941176470588%\" stop-color=\"rgb(74, 16, 121)\" stop-opacity=\"1\"/><stop offset=\"23.92156862745098%\" stop-color=\"rgb(76, 17, 122)\" stop-opacity=\"1\"/><stop offset=\"24.313725490196077%\" stop-color=\"rgb(78, 17, 123)\" stop-opacity=\"1\"/><stop offset=\"24.705882352941178%\" stop-color=\"rgb(79, 18, 123)\" stop-opacity=\"1\"/><stop offset=\"25.098039215686274%\" stop-color=\"rgb(81, 18, 124)\" stop-opacity=\"1\"/><stop offset=\"25.49019607843137%\" stop-color=\"rgb(82, 19, 124)\" stop-opacity=\"1\"/><stop offset=\"25.882352941176475%\" stop-color=\"rgb(84, 19, 125)\" stop-opacity=\"1\"/><stop offset=\"26.27450980392157%\" stop-color=\"rgb(86, 20, 125)\" stop-opacity=\"1\"/><stop offset=\"26.666666666666668%\" stop-color=\"rgb(87, 21, 126)\" stop-opacity=\"1\"/><stop offset=\"27.058823529411764%\" stop-color=\"rgb(89, 21, 126)\" stop-opacity=\"1\"/><stop offset=\"27.450980392156865%\" stop-color=\"rgb(90, 22, 126)\" stop-opacity=\"1\"/><stop offset=\"27.84313725490196%\" stop-color=\"rgb(92, 22, 127)\" stop-opacity=\"1\"/><stop offset=\"28.235294117647058%\" stop-color=\"rgb(93, 23, 127)\" stop-opacity=\"1\"/><stop offset=\"28.627450980392155%\" stop-color=\"rgb(95, 24, 127)\" stop-opacity=\"1\"/><stop offset=\"29.01960784313726%\" stop-color=\"rgb(96, 24, 128)\" stop-opacity=\"1\"/><stop offset=\"29.411764705882355%\" stop-color=\"rgb(98, 25, 128)\" stop-opacity=\"1\"/><stop offset=\"29.80392156862745%\" stop-color=\"rgb(100, 26, 128)\" stop-opacity=\"1\"/><stop offset=\"30.19607843137255%\" stop-color=\"rgb(101, 26, 128)\" stop-opacity=\"1\"/><stop offset=\"30.58823529411765%\" stop-color=\"rgb(103, 27, 128)\" stop-opacity=\"1\"/><stop offset=\"30.980392156862745%\" stop-color=\"rgb(104, 28, 129)\" stop-opacity=\"1\"/><stop offset=\"31.372549019607842%\" stop-color=\"rgb(106, 28, 129)\" stop-opacity=\"1\"/><stop offset=\"31.76470588235294%\" stop-color=\"rgb(107, 29, 129)\" stop-opacity=\"1\"/><stop offset=\"32.15686274509804%\" stop-color=\"rgb(109, 29, 129)\" stop-opacity=\"1\"/><stop offset=\"32.549019607843135%\" stop-color=\"rgb(110, 30, 129)\" stop-opacity=\"1\"/><stop offset=\"32.94117647058823%\" stop-color=\"rgb(112, 31, 129)\" stop-opacity=\"1\"/><stop offset=\"33.33333333333333%\" stop-color=\"rgb(114, 31, 129)\" stop-opacity=\"1\"/><stop offset=\"33.72549019607843%\" stop-color=\"rgb(115, 32, 129)\" stop-opacity=\"1\"/><stop offset=\"34.11764705882353%\" stop-color=\"rgb(117, 33, 129)\" stop-opacity=\"1\"/><stop offset=\"34.509803921568626%\" stop-color=\"rgb(118, 33, 129)\" stop-opacity=\"1\"/><stop offset=\"34.90196078431372%\" stop-color=\"rgb(120, 34, 129)\" stop-opacity=\"1\"/><stop offset=\"35.294117647058826%\" stop-color=\"rgb(121, 34, 130)\" stop-opacity=\"1\"/><stop offset=\"35.68627450980392%\" stop-color=\"rgb(123, 35, 130)\" stop-opacity=\"1\"/><stop offset=\"36.07843137254902%\" stop-color=\"rgb(124, 35, 130)\" stop-opacity=\"1\"/><stop offset=\"36.470588235294116%\" stop-color=\"rgb(126, 36, 130)\" stop-opacity=\"1\"/><stop offset=\"36.86274509803922%\" stop-color=\"rgb(128, 37, 130)\" stop-opacity=\"1\"/><stop offset=\"37.254901960784316%\" stop-color=\"rgb(129, 37, 129)\" stop-opacity=\"1\"/><stop offset=\"37.64705882352941%\" stop-color=\"rgb(131, 38, 129)\" stop-opacity=\"1\"/><stop offset=\"38.03921568627451%\" stop-color=\"rgb(132, 38, 129)\" stop-opacity=\"1\"/><stop offset=\"38.43137254901961%\" stop-color=\"rgb(134, 39, 129)\" stop-opacity=\"1\"/><stop offset=\"38.82352941176471%\" stop-color=\"rgb(136, 39, 129)\" stop-opacity=\"1\"/><stop offset=\"39.21568627450981%\" stop-color=\"rgb(137, 40, 129)\" stop-opacity=\"1\"/><stop offset=\"39.6078431372549%\" stop-color=\"rgb(139, 41, 129)\" stop-opacity=\"1\"/><stop offset=\"40%\" stop-color=\"rgb(140, 41, 129)\" stop-opacity=\"1\"/><stop offset=\"40.3921568627451%\" stop-color=\"rgb(142, 42, 129)\" stop-opacity=\"1\"/><stop offset=\"40.78431372549019%\" stop-color=\"rgb(144, 42, 129)\" stop-opacity=\"1\"/><stop offset=\"41.17647058823529%\" stop-color=\"rgb(145, 43, 129)\" stop-opacity=\"1\"/><stop offset=\"41.568627450980394%\" stop-color=\"rgb(147, 43, 128)\" stop-opacity=\"1\"/><stop offset=\"41.96078431372549%\" stop-color=\"rgb(148, 44, 128)\" stop-opacity=\"1\"/><stop offset=\"42.35294117647059%\" stop-color=\"rgb(150, 44, 128)\" stop-opacity=\"1\"/><stop offset=\"42.745098039215684%\" stop-color=\"rgb(152, 45, 128)\" stop-opacity=\"1\"/><stop offset=\"43.13725490196079%\" stop-color=\"rgb(153, 45, 128)\" stop-opacity=\"1\"/><stop offset=\"43.529411764705884%\" stop-color=\"rgb(155, 46, 127)\" stop-opacity=\"1\"/><stop offset=\"43.92156862745098%\" stop-color=\"rgb(156, 46, 127)\" stop-opacity=\"1\"/><stop offset=\"44.31372549019608%\" stop-color=\"rgb(158, 47, 127)\" stop-opacity=\"1\"/><stop offset=\"44.70588235294118%\" stop-color=\"rgb(160, 47, 127)\" stop-opacity=\"1\"/><stop offset=\"45.09803921568628%\" stop-color=\"rgb(161, 48, 126)\" stop-opacity=\"1\"/><stop offset=\"45.490196078431374%\" stop-color=\"rgb(163, 48, 126)\" stop-opacity=\"1\"/><stop offset=\"45.88235294117647%\" stop-color=\"rgb(165, 49, 126)\" stop-opacity=\"1\"/><stop offset=\"46.27450980392157%\" stop-color=\"rgb(166, 49, 125)\" stop-opacity=\"1\"/><stop offset=\"46.666666666666664%\" stop-color=\"rgb(168, 50, 125)\" stop-opacity=\"1\"/><stop offset=\"47.05882352941176%\" stop-color=\"rgb(170, 51, 125)\" stop-opacity=\"1\"/><stop offset=\"47.45098039215686%\" stop-color=\"rgb(171, 51, 124)\" stop-opacity=\"1\"/><stop offset=\"47.84313725490196%\" stop-color=\"rgb(173, 52, 124)\" stop-opacity=\"1\"/><stop offset=\"48.23529411764706%\" stop-color=\"rgb(174, 52, 123)\" stop-opacity=\"1\"/><stop offset=\"48.627450980392155%\" stop-color=\"rgb(176, 53, 123)\" stop-opacity=\"1\"/><stop offset=\"49.01960784313725%\" stop-color=\"rgb(178, 53, 123)\" stop-opacity=\"1\"/><stop offset=\"49.411764705882355%\" stop-color=\"rgb(179, 54, 122)\" stop-opacity=\"1\"/><stop offset=\"49.80392156862745%\" stop-color=\"rgb(181, 54, 122)\" stop-opacity=\"1\"/><stop offset=\"50.19607843137255%\" stop-color=\"rgb(183, 55, 121)\" stop-opacity=\"1\"/><stop offset=\"50.588235294117645%\" stop-color=\"rgb(184, 55, 121)\" stop-opacity=\"1\"/><stop offset=\"50.98039215686274%\" stop-color=\"rgb(186, 56, 120)\" stop-opacity=\"1\"/><stop offset=\"51.37254901960784%\" stop-color=\"rgb(188, 57, 120)\" stop-opacity=\"1\"/><stop offset=\"51.76470588235295%\" stop-color=\"rgb(189, 57, 119)\" stop-opacity=\"1\"/><stop offset=\"52.156862745098046%\" stop-color=\"rgb(191, 58, 119)\" stop-opacity=\"1\"/><stop offset=\"52.54901960784314%\" stop-color=\"rgb(192, 58, 118)\" stop-opacity=\"1\"/><stop offset=\"52.94117647058824%\" stop-color=\"rgb(194, 59, 117)\" stop-opacity=\"1\"/><stop offset=\"53.333333333333336%\" stop-color=\"rgb(196, 60, 117)\" stop-opacity=\"1\"/><stop offset=\"53.72549019607843%\" stop-color=\"rgb(197, 60, 116)\" stop-opacity=\"1\"/><stop offset=\"54.11764705882353%\" stop-color=\"rgb(199, 61, 115)\" stop-opacity=\"1\"/><stop offset=\"54.509803921568626%\" stop-color=\"rgb(200, 62, 115)\" stop-opacity=\"1\"/><stop offset=\"54.90196078431373%\" stop-color=\"rgb(202, 62, 114)\" stop-opacity=\"1\"/><stop offset=\"55.294117647058826%\" stop-color=\"rgb(204, 63, 113)\" stop-opacity=\"1\"/><stop offset=\"55.68627450980392%\" stop-color=\"rgb(205, 64, 113)\" stop-opacity=\"1\"/><stop offset=\"56.07843137254902%\" stop-color=\"rgb(207, 64, 112)\" stop-opacity=\"1\"/><stop offset=\"56.470588235294116%\" stop-color=\"rgb(208, 65, 111)\" stop-opacity=\"1\"/><stop offset=\"56.86274509803921%\" stop-color=\"rgb(210, 66, 111)\" stop-opacity=\"1\"/><stop offset=\"57.25490196078431%\" stop-color=\"rgb(211, 67, 110)\" stop-opacity=\"1\"/><stop offset=\"57.647058823529406%\" stop-color=\"rgb(213, 68, 109)\" stop-opacity=\"1\"/><stop offset=\"58.03921568627452%\" stop-color=\"rgb(214, 69, 108)\" stop-opacity=\"1\"/><stop offset=\"58.43137254901961%\" stop-color=\"rgb(216, 69, 108)\" stop-opacity=\"1\"/><stop offset=\"58.82352941176471%\" stop-color=\"rgb(217, 70, 107)\" stop-opacity=\"1\"/><stop offset=\"59.21568627450981%\" stop-color=\"rgb(219, 71, 106)\" stop-opacity=\"1\"/><stop offset=\"59.6078431372549%\" stop-color=\"rgb(220, 72, 105)\" stop-opacity=\"1\"/><stop offset=\"60%\" stop-color=\"rgb(222, 73, 104)\" stop-opacity=\"1\"/><stop offset=\"60.3921568627451%\" stop-color=\"rgb(223, 74, 104)\" stop-opacity=\"1\"/><stop offset=\"60.78431372549019%\" stop-color=\"rgb(224, 76, 103)\" stop-opacity=\"1\"/><stop offset=\"61.1764705882353%\" stop-color=\"rgb(226, 77, 102)\" stop-opacity=\"1\"/><stop offset=\"61.568627450980394%\" stop-color=\"rgb(227, 78, 101)\" stop-opacity=\"1\"/><stop offset=\"61.96078431372549%\" stop-color=\"rgb(228, 79, 100)\" stop-opacity=\"1\"/><stop offset=\"62.35294117647059%\" stop-color=\"rgb(229, 80, 100)\" stop-opacity=\"1\"/><stop offset=\"62.745098039215684%\" stop-color=\"rgb(231, 82, 99)\" stop-opacity=\"1\"/><stop offset=\"63.13725490196078%\" stop-color=\"rgb(232, 83, 98)\" stop-opacity=\"1\"/><stop offset=\"63.52941176470588%\" stop-color=\"rgb(233, 84, 98)\" stop-opacity=\"1\"/><stop offset=\"63.921568627450974%\" stop-color=\"rgb(234, 86, 97)\" stop-opacity=\"1\"/><stop offset=\"64.31372549019608%\" stop-color=\"rgb(235, 87, 96)\" stop-opacity=\"1\"/><stop offset=\"64.70588235294117%\" stop-color=\"rgb(236, 88, 96)\" stop-opacity=\"1\"/><stop offset=\"65.09803921568627%\" stop-color=\"rgb(237, 90, 95)\" stop-opacity=\"1\"/><stop offset=\"65.49019607843137%\" stop-color=\"rgb(238, 91, 94)\" stop-opacity=\"1\"/><stop offset=\"65.88235294117646%\" stop-color=\"rgb(239, 93, 94)\" stop-opacity=\"1\"/><stop offset=\"66.27450980392156%\" stop-color=\"rgb(240, 95, 94)\" stop-opacity=\"1\"/><stop offset=\"66.66666666666666%\" stop-color=\"rgb(241, 96, 93)\" stop-opacity=\"1\"/><stop offset=\"67.05882352941175%\" stop-color=\"rgb(242, 98, 93)\" stop-opacity=\"1\"/><stop offset=\"67.45098039215686%\" stop-color=\"rgb(242, 100, 92)\" stop-opacity=\"1\"/><stop offset=\"67.84313725490196%\" stop-color=\"rgb(243, 101, 92)\" stop-opacity=\"1\"/><stop offset=\"68.23529411764706%\" stop-color=\"rgb(244, 103, 92)\" stop-opacity=\"1\"/><stop offset=\"68.62745098039215%\" stop-color=\"rgb(244, 105, 92)\" stop-opacity=\"1\"/><stop offset=\"69.01960784313725%\" stop-color=\"rgb(245, 107, 92)\" stop-opacity=\"1\"/><stop offset=\"69.41176470588235%\" stop-color=\"rgb(246, 108, 92)\" stop-opacity=\"1\"/><stop offset=\"69.80392156862744%\" stop-color=\"rgb(246, 110, 92)\" stop-opacity=\"1\"/><stop offset=\"70.19607843137254%\" stop-color=\"rgb(247, 112, 92)\" stop-opacity=\"1\"/><stop offset=\"70.58823529411765%\" stop-color=\"rgb(247, 114, 92)\" stop-opacity=\"1\"/><stop offset=\"70.98039215686275%\" stop-color=\"rgb(248, 116, 92)\" stop-opacity=\"1\"/><stop offset=\"71.37254901960785%\" stop-color=\"rgb(248, 118, 92)\" stop-opacity=\"1\"/><stop offset=\"71.76470588235294%\" stop-color=\"rgb(249, 120, 93)\" stop-opacity=\"1\"/><stop offset=\"72.15686274509804%\" stop-color=\"rgb(249, 121, 93)\" stop-opacity=\"1\"/><stop offset=\"72.54901960784314%\" stop-color=\"rgb(249, 123, 93)\" stop-opacity=\"1\"/><stop offset=\"72.94117647058823%\" stop-color=\"rgb(250, 125, 94)\" stop-opacity=\"1\"/><stop offset=\"73.33333333333333%\" stop-color=\"rgb(250, 127, 94)\" stop-opacity=\"1\"/><stop offset=\"73.72549019607844%\" stop-color=\"rgb(250, 129, 95)\" stop-opacity=\"1\"/><stop offset=\"74.11764705882354%\" stop-color=\"rgb(251, 131, 95)\" stop-opacity=\"1\"/><stop offset=\"74.50980392156863%\" stop-color=\"rgb(251, 133, 96)\" stop-opacity=\"1\"/><stop offset=\"74.90196078431373%\" stop-color=\"rgb(251, 135, 97)\" stop-opacity=\"1\"/><stop offset=\"75.29411764705883%\" stop-color=\"rgb(252, 137, 97)\" stop-opacity=\"1\"/><stop offset=\"75.68627450980392%\" stop-color=\"rgb(252, 138, 98)\" stop-opacity=\"1\"/><stop offset=\"76.07843137254902%\" stop-color=\"rgb(252, 140, 99)\" stop-opacity=\"1\"/><stop offset=\"76.47058823529412%\" stop-color=\"rgb(252, 142, 100)\" stop-opacity=\"1\"/><stop offset=\"76.86274509803923%\" stop-color=\"rgb(252, 144, 101)\" stop-opacity=\"1\"/><stop offset=\"77.25490196078432%\" stop-color=\"rgb(253, 146, 102)\" stop-opacity=\"1\"/><stop offset=\"77.64705882352942%\" stop-color=\"rgb(253, 148, 103)\" stop-opacity=\"1\"/><stop offset=\"78.03921568627452%\" stop-color=\"rgb(253, 150, 104)\" stop-opacity=\"1\"/><stop offset=\"78.43137254901961%\" stop-color=\"rgb(253, 152, 105)\" stop-opacity=\"1\"/><stop offset=\"78.82352941176471%\" stop-color=\"rgb(253, 154, 106)\" stop-opacity=\"1\"/><stop offset=\"79.2156862745098%\" stop-color=\"rgb(253, 155, 107)\" stop-opacity=\"1\"/><stop offset=\"79.6078431372549%\" stop-color=\"rgb(254, 157, 108)\" stop-opacity=\"1\"/><stop offset=\"80%\" stop-color=\"rgb(254, 159, 109)\" stop-opacity=\"1\"/><stop offset=\"80.3921568627451%\" stop-color=\"rgb(254, 161, 110)\" stop-opacity=\"1\"/><stop offset=\"80.7843137254902%\" stop-color=\"rgb(254, 163, 111)\" stop-opacity=\"1\"/><stop offset=\"81.17647058823529%\" stop-color=\"rgb(254, 165, 113)\" stop-opacity=\"1\"/><stop offset=\"81.56862745098039%\" stop-color=\"rgb(254, 167, 114)\" stop-opacity=\"1\"/><stop offset=\"81.96078431372548%\" stop-color=\"rgb(254, 169, 115)\" stop-opacity=\"1\"/><stop offset=\"82.35294117647058%\" stop-color=\"rgb(254, 170, 116)\" stop-opacity=\"1\"/><stop offset=\"82.74509803921568%\" stop-color=\"rgb(254, 172, 118)\" stop-opacity=\"1\"/><stop offset=\"83.13725490196079%\" stop-color=\"rgb(254, 174, 119)\" stop-opacity=\"1\"/><stop offset=\"83.52941176470588%\" stop-color=\"rgb(254, 176, 120)\" stop-opacity=\"1\"/><stop offset=\"83.92156862745098%\" stop-color=\"rgb(254, 178, 122)\" stop-opacity=\"1\"/><stop offset=\"84.31372549019608%\" stop-color=\"rgb(254, 180, 123)\" stop-opacity=\"1\"/><stop offset=\"84.70588235294117%\" stop-color=\"rgb(254, 182, 124)\" stop-opacity=\"1\"/><stop offset=\"85.09803921568627%\" stop-color=\"rgb(254, 183, 126)\" stop-opacity=\"1\"/><stop offset=\"85.49019607843137%\" stop-color=\"rgb(254, 185, 127)\" stop-opacity=\"1\"/><stop offset=\"85.88235294117646%\" stop-color=\"rgb(254, 187, 129)\" stop-opacity=\"1\"/><stop offset=\"86.27450980392157%\" stop-color=\"rgb(254, 189, 130)\" stop-opacity=\"1\"/><stop offset=\"86.66666666666667%\" stop-color=\"rgb(254, 191, 132)\" stop-opacity=\"1\"/><stop offset=\"87.05882352941177%\" stop-color=\"rgb(254, 193, 133)\" stop-opacity=\"1\"/><stop offset=\"87.45098039215686%\" stop-color=\"rgb(254, 194, 135)\" stop-opacity=\"1\"/><stop offset=\"87.84313725490196%\" stop-color=\"rgb(254, 196, 136)\" stop-opacity=\"1\"/><stop offset=\"88.23529411764706%\" stop-color=\"rgb(254, 198, 138)\" stop-opacity=\"1\"/><stop offset=\"88.62745098039215%\" stop-color=\"rgb(254, 200, 140)\" stop-opacity=\"1\"/><stop offset=\"89.01960784313725%\" stop-color=\"rgb(254, 202, 141)\" stop-opacity=\"1\"/><stop offset=\"89.41176470588236%\" stop-color=\"rgb(254, 204, 143)\" stop-opacity=\"1\"/><stop offset=\"89.80392156862746%\" stop-color=\"rgb(254, 205, 144)\" stop-opacity=\"1\"/><stop offset=\"90.19607843137256%\" stop-color=\"rgb(254, 207, 146)\" stop-opacity=\"1\"/><stop offset=\"90.58823529411765%\" stop-color=\"rgb(254, 209, 148)\" stop-opacity=\"1\"/><stop offset=\"90.98039215686275%\" stop-color=\"rgb(254, 211, 149)\" stop-opacity=\"1\"/><stop offset=\"91.37254901960785%\" stop-color=\"rgb(254, 213, 151)\" stop-opacity=\"1\"/><stop offset=\"91.76470588235294%\" stop-color=\"rgb(254, 215, 153)\" stop-opacity=\"1\"/><stop offset=\"92.15686274509804%\" stop-color=\"rgb(254, 216, 154)\" stop-opacity=\"1\"/><stop offset=\"92.54901960784314%\" stop-color=\"rgb(253, 218, 156)\" stop-opacity=\"1\"/><stop offset=\"92.94117647058823%\" stop-color=\"rgb(253, 220, 158)\" stop-opacity=\"1\"/><stop offset=\"93.33333333333333%\" stop-color=\"rgb(253, 222, 160)\" stop-opacity=\"1\"/><stop offset=\"93.72549019607843%\" stop-color=\"rgb(253, 224, 161)\" stop-opacity=\"1\"/><stop offset=\"94.11764705882352%\" stop-color=\"rgb(253, 226, 163)\" stop-opacity=\"1\"/><stop offset=\"94.50980392156862%\" stop-color=\"rgb(253, 227, 165)\" stop-opacity=\"1\"/><stop offset=\"94.90196078431372%\" stop-color=\"rgb(253, 229, 167)\" stop-opacity=\"1\"/><stop offset=\"95.29411764705881%\" stop-color=\"rgb(253, 231, 169)\" stop-opacity=\"1\"/><stop offset=\"95.68627450980392%\" stop-color=\"rgb(253, 233, 170)\" stop-opacity=\"1\"/><stop offset=\"96.07843137254902%\" stop-color=\"rgb(253, 235, 172)\" stop-opacity=\"1\"/><stop offset=\"96.47058823529412%\" stop-color=\"rgb(252, 236, 174)\" stop-opacity=\"1\"/><stop offset=\"96.86274509803921%\" stop-color=\"rgb(252, 238, 176)\" stop-opacity=\"1\"/><stop offset=\"97.25490196078431%\" stop-color=\"rgb(252, 240, 178)\" stop-opacity=\"1\"/><stop offset=\"97.6470588235294%\" stop-color=\"rgb(252, 242, 180)\" stop-opacity=\"1\"/><stop offset=\"98.0392156862745%\" stop-color=\"rgb(252, 244, 182)\" stop-opacity=\"1\"/><stop offset=\"98.4313725490196%\" stop-color=\"rgb(252, 246, 184)\" stop-opacity=\"1\"/><stop offset=\"98.82352941176471%\" stop-color=\"rgb(252, 247, 185)\" stop-opacity=\"1\"/><stop offset=\"99.2156862745098%\" stop-color=\"rgb(252, 249, 187)\" stop-opacity=\"1\"/><stop offset=\"99.6078431372549%\" stop-color=\"rgb(252, 251, 189)\" stop-opacity=\"1\"/><stop offset=\"100%\" stop-color=\"rgb(252, 253, 191)\" stop-opacity=\"1\"/></linearGradient></g></defs><g class=\"bglayer\"/><g class=\"layer-below\"><g class=\"imagelayer\"/><g class=\"shapelayer\"/></g><g class=\"cartesianlayer\"><g class=\"subplot xy\"><g class=\"layer-subplot\"><g class=\"shapelayer\"/><g class=\"imagelayer\"/></g><g class=\"gridlayer\"><g class=\"x\"/><g class=\"y\"/></g><g class=\"zerolinelayer\"/><path class=\"xlines-below\"/><path class=\"ylines-below\"/><g class=\"overlines-below\"/><g class=\"xaxislayer-below\"/><g class=\"yaxislayer-below\"/><g class=\"overaxes-below\"/><g class=\"plot\" transform=\"translate(332.26732673267327,60)\" clip-path=\"url('#clip7ef9e8xyplot')\"><g class=\"heatmaplayer mlayer\"><g class=\"hm\"><image xmlns=\"http://www.w3.org/2000/svg\" preserveAspectRatio=\"none\" height=\"277\" width=\"277\" x=\"0\" y=\"46.21\" xlink:href=\"data:image/png;base64,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\" style=\"opacity: 1;\"/></g></g></g><g class=\"overplot\"/><path class=\"xlines-above crisp\" d=\"M0,0\" style=\"fill: none;\"/><path class=\"ylines-above crisp\" d=\"M0,0\" style=\"fill: none;\"/><g class=\"overlines-above\"/><g class=\"xaxislayer-above\"/><g class=\"yaxislayer-above\"/><g class=\"overaxes-above\"/></g><g class=\"subplot x2y\"><g class=\"layer-subplot\"><g class=\"shapelayer\"/><g class=\"imagelayer\"/></g><g class=\"gridlayer\"><g class=\"x2\"><path class=\"x2grid crisp\" transform=\"translate(95.3,0)\" d=\"M0,60v390\" style=\"stroke: rgb(238, 238, 238); stroke-opacity: 1; stroke-width: 1px;\"/><path class=\"x2grid crisp\" transform=\"translate(153.16,0)\" d=\"M0,60v390\" style=\"stroke: rgb(238, 238, 238); stroke-opacity: 1; stroke-width: 1px;\"/><path class=\"x2grid crisp\" transform=\"translate(211.02,0)\" d=\"M0,60v390\" style=\"stroke: rgb(238, 238, 238); stroke-opacity: 1; stroke-width: 1px;\"/><path class=\"x2grid crisp\" transform=\"translate(268.88,0)\" d=\"M0,60v390\" style=\"stroke: rgb(238, 238, 238); stroke-opacity: 1; stroke-width: 1px;\"/></g><g class=\"y\"/></g><g class=\"zerolinelayer\"><path class=\"x2zl zl crisp\" transform=\"translate(326.73,0)\" d=\"M0,60v390\" style=\"stroke: rgb(68, 68, 68); stroke-opacity: 1; stroke-width: 1px;\"/></g><path class=\"xlines-below\"/><path class=\"ylines-below\"/><g class=\"overlines-below\"/><g class=\"xaxislayer-below\"/><g class=\"yaxislayer-below\"/><g class=\"overaxes-below\"/><g class=\"plot\" transform=\"translate(50,60)\" clip-path=\"url('#clip7ef9e8x2yplot')\"><g class=\"scatterlayer mlayer\"><g class=\"trace scatter trace276d98\" style=\"stroke-miterlimit: 2; opacity: 1;\"><g class=\"fills\"/><g class=\"errorbars\"/><g class=\"lines\"><path class=\"js-line\" d=\"M173.22,150.45L173.22,129.42\" style=\"vector-effect: non-scaling-stroke; fill: none; stroke: rgb(102, 102, 102); stroke-opacity: 1; stroke-width: 2px; opacity: 1;\"/><path class=\"js-line\" d=\"M173.22,150.45L188.77,150.45\" style=\"vector-effect: non-scaling-stroke; fill: none; stroke: rgb(102, 102, 102); stroke-opacity: 1; stroke-width: 2px; opacity: 1;\"/><path class=\"js-line\" d=\"M173.22,129.42L183.57,129.42\" style=\"vector-effect: non-scaling-stroke; fill: none; stroke: rgb(102, 102, 102); stroke-opacity: 1; stroke-width: 2px; opacity: 1;\"/></g><g class=\"points\"/><g class=\"text\"/></g><g class=\"trace scatter trace04e7bd\" style=\"stroke-miterlimit: 2; opacity: 1;\"><g class=\"fills\"/><g class=\"errorbars\"/><g class=\"lines\"><path class=\"js-line\" d=\"M131.87,101.74L131.87,72.86\" style=\"vector-effect: non-scaling-stroke; fill: none; stroke: rgb(102, 102, 102); stroke-opacity: 1; stroke-width: 2px; opacity: 1;\"/><path class=\"js-line\" d=\"M131.87,101.74L149.9,101.74\" style=\"vector-effect: non-scaling-stroke; fill: none; stroke: rgb(102, 102, 102); stroke-opacity: 1; stroke-width: 2px; opacity: 1;\"/><path class=\"js-line\" d=\"M131.87,72.86L133.79,72.86\" style=\"vector-effect: non-scaling-stroke; fill: none; stroke: rgb(102, 102, 102); stroke-opacity: 1; stroke-width: 2px; opacity: 1;\"/></g><g class=\"points\"/><g class=\"text\"/></g><g class=\"trace scatter tracec77234\" style=\"stroke-miterlimit: 2; opacity: 1;\"><g class=\"fills\"/><g class=\"errorbars\"/><g class=\"lines\"><path class=\"js-line\" d=\"M142.92,269.63L142.92,250.02\" style=\"vector-effect: non-scaling-stroke; fill: none; stroke: rgb(102, 102, 102); stroke-opacity: 1; stroke-width: 2px; opacity: 1;\"/><path class=\"js-line\" d=\"M142.92,269.63L273.19,269.63\" style=\"vector-effect: non-scaling-stroke; fill: none; stroke: rgb(102, 102, 102); stroke-opacity: 1; stroke-width: 2px; opacity: 1;\"/><path class=\"js-line\" d=\"M142.92,250.02L208.17,250.02\" style=\"vector-effect: non-scaling-stroke; fill: none; stroke: rgb(102, 102, 102); stroke-opacity: 1; stroke-width: 2px; opacity: 1;\"/></g><g class=\"points\"/><g class=\"text\"/></g><g class=\"trace scatter trace1aa5ac\" style=\"stroke-miterlimit: 2; opacity: 1;\"><g class=\"fills\"><g><path class=\"js-fill\" d=\"M276.73,112.84L222.62,112.84L222.62,103.96L276.73,103.96Z\" style=\"fill: rgb(102, 102, 102); fill-opacity: 0.5; stroke-width: 0;\"/></g></g><g class=\"errorbars\"/><g class=\"lines\"><path class=\"js-line\" d=\"M276.73,112.84L222.62,112.84L222.62,103.96L276.73,103.96\" style=\"vector-effect: non-scaling-stroke; fill: none; stroke: rgb(102, 102, 102); stroke-opacity: 1; stroke-width: 2px; opacity: 1;\"/></g><g class=\"points\"/><g class=\"text\"/></g><g class=\"trace scatter traceefbd1a\" style=\"stroke-miterlimit: 2; opacity: 1;\"><g class=\"fills\"/><g class=\"errorbars\"/><g class=\"lines\"><path class=\"js-line\" d=\"M96.29,222.9L96.29,163.77\" style=\"vector-effect: non-scaling-stroke; fill: none; stroke: rgb(102, 102, 102); stroke-opacity: 1; stroke-width: 2px; opacity: 1;\"/><path class=\"js-line\" d=\"M96.29,222.9L112.45,222.9\" style=\"vector-effect: non-scaling-stroke; fill: none; stroke: rgb(102, 102, 102); stroke-opacity: 1; stroke-width: 2px; opacity: 1;\"/><path class=\"js-line\" d=\"M96.29,163.77L276.73,163.77\" style=\"vector-effect: non-scaling-stroke; fill: none; stroke: rgb(102, 102, 102); stroke-opacity: 1; stroke-width: 2px; opacity: 1;\"/></g><g class=\"points\"/><g class=\"text\"/></g><g class=\"trace scatter trace337cd4\" style=\"stroke-miterlimit: 2; opacity: 1;\"><g class=\"fills\"><g><path class=\"js-fill\" d=\"M276.73,86.19L227.45,86.19L227.45,77.3L276.73,77.3Z\" style=\"fill: rgb(102, 102, 102); fill-opacity: 0.5; stroke-width: 0;\"/></g></g><g class=\"errorbars\"/><g class=\"lines\"><path class=\"js-line\" d=\"M276.73,86.19L227.45,86.19L227.45,77.3L276.73,77.3\" style=\"vector-effect: non-scaling-stroke; fill: none; stroke: rgb(102, 102, 102); stroke-opacity: 1; stroke-width: 2px; opacity: 1;\"/></g><g class=\"points\"/><g class=\"text\"/></g><g class=\"trace scatter tracec40c3f\" style=\"stroke-miterlimit: 2; opacity: 1;\"><g class=\"fills\"><g><path class=\"js-fill\" d=\"M276.73,137.12L183.57,137.12L183.57,121.73L276.73,121.73Z\" style=\"fill: rgb(102, 102, 102); fill-opacity: 0.5; stroke-width: 0;\"/></g></g><g class=\"errorbars\"/><g class=\"lines\"><path class=\"js-line\" d=\"M276.73,137.12L183.57,137.12L183.57,121.73L276.73,121.73\" style=\"vector-effect: non-scaling-stroke; fill: none; stroke: rgb(102, 102, 102); stroke-opacity: 1; stroke-width: 2px; opacity: 1;\"/></g><g class=\"points\"/><g class=\"text\"/></g><g class=\"trace scatter tracec8638d\" style=\"stroke-miterlimit: 2; opacity: 1;\"><g class=\"fills\"/><g class=\"errorbars\"/><g class=\"lines\"><path class=\"js-line\" d=\"M130.4,318.5L130.4,309.61\" style=\"vector-effect: non-scaling-stroke; fill: none; stroke: rgb(102, 102, 102); stroke-opacity: 1; stroke-width: 2px; opacity: 1;\"/><path class=\"js-line\" d=\"M130.4,318.5L276.73,318.5\" style=\"vector-effect: non-scaling-stroke; fill: none; stroke: rgb(102, 102, 102); stroke-opacity: 1; stroke-width: 2px; opacity: 1;\"/><path class=\"js-line\" d=\"M130.4,309.61L276.73,309.61\" style=\"vector-effect: non-scaling-stroke; fill: none; stroke: rgb(102, 102, 102); stroke-opacity: 1; stroke-width: 2px; opacity: 1;\"/></g><g class=\"points\"/><g class=\"text\"/></g><g class=\"trace scatter traced96d24\" style=\"stroke-miterlimit: 2; opacity: 1;\"><g class=\"fills\"><g><path class=\"js-fill\" d=\"M276.73,300.73L275.31,300.73L275.31,291.84L276.73,291.84Z\" style=\"fill: rgb(102, 102, 102); fill-opacity: 0.5; stroke-width: 0;\"/></g></g><g class=\"errorbars\"/><g class=\"lines\"><path class=\"js-line\" d=\"M276.73,300.73L275.31,300.73L275.31,291.84L276.73,291.84\" style=\"vector-effect: non-scaling-stroke; fill: none; stroke: rgb(102, 102, 102); stroke-opacity: 1; stroke-width: 2px; opacity: 1;\"/></g><g class=\"points\"/><g class=\"text\"/></g><g class=\"trace scatter trace2630b8\" style=\"stroke-miterlimit: 2; opacity: 1;\"><g class=\"fills\"/><g class=\"errorbars\"/><g class=\"lines\"><path class=\"js-line\" d=\"M112.45,259.82L112.45,185.98\" style=\"vector-effect: non-scaling-stroke; fill: none; stroke: rgb(102, 102, 102); stroke-opacity: 1; stroke-width: 2px; opacity: 1;\"/><path class=\"js-line\" d=\"M112.45,259.82L142.92,259.82\" style=\"vector-effect: non-scaling-stroke; fill: none; stroke: rgb(102, 102, 102); stroke-opacity: 1; stroke-width: 2px; opacity: 1;\"/><path class=\"js-line\" d=\"M112.45,185.98L113.27,185.98\" style=\"vector-effect: non-scaling-stroke; fill: none; stroke: rgb(102, 102, 102); stroke-opacity: 1; stroke-width: 2px; opacity: 1;\"/></g><g class=\"points\"/><g class=\"text\"/></g><g class=\"trace scatter trace55f8d2\" style=\"stroke-miterlimit: 2; opacity: 1;\"><g class=\"fills\"/><g class=\"errorbars\"/><g class=\"lines\"><path class=\"js-line\" d=\"M115.07,296.28L115.07,282.96\" style=\"vector-effect: non-scaling-stroke; fill: none; stroke: rgb(102, 102, 102); stroke-opacity: 1; stroke-width: 2px; opacity: 1;\"/><path class=\"js-line\" d=\"M115.07,296.28L275.31,296.28\" style=\"vector-effect: non-scaling-stroke; fill: none; stroke: rgb(102, 102, 102); stroke-opacity: 1; stroke-width: 2px; opacity: 1;\"/><path class=\"js-line\" d=\"M115.07,282.96L276.73,282.96\" style=\"vector-effect: non-scaling-stroke; fill: none; stroke: rgb(102, 102, 102); stroke-opacity: 1; stroke-width: 2px; opacity: 1;\"/></g><g class=\"points\"/><g class=\"text\"/></g><g class=\"trace scatter tracec4b3ce\" style=\"stroke-miterlimit: 2; opacity: 1;\"><g class=\"fills\"><g><path class=\"js-fill\" d=\"M276.73,256.3L208.17,256.3L208.17,243.74L276.73,243.74Z\" style=\"fill: rgb(102, 102, 102); fill-opacity: 0.5; stroke-width: 0;\"/></g></g><g class=\"errorbars\"/><g class=\"lines\"><path class=\"js-line\" d=\"M276.73,256.3L208.17,256.3L208.17,243.74L276.73,243.74\" style=\"vector-effect: non-scaling-stroke; fill: none; stroke: rgb(102, 102, 102); stroke-opacity: 1; stroke-width: 2px; opacity: 1;\"/></g><g class=\"points\"/><g class=\"text\"/></g><g class=\"trace scatter trace60c239\" style=\"stroke-miterlimit: 2; opacity: 1;\"><g class=\"fills\"/><g class=\"errorbars\"/><g class=\"lines\"><path class=\"js-line\" d=\"M18.84,301.84L18.84,148.9\" style=\"vector-effect: non-scaling-stroke; fill: none; stroke: rgb(102, 102, 102); stroke-opacity: 1; stroke-width: 2px; opacity: 1;\"/><path class=\"js-line\" d=\"M18.84,301.84L107.66,301.84\" style=\"vector-effect: non-scaling-stroke; fill: none; stroke: rgb(102, 102, 102); stroke-opacity: 1; stroke-width: 2px; opacity: 1;\"/><path class=\"js-line\" d=\"M18.84,148.9L25.57,148.9\" style=\"vector-effect: non-scaling-stroke; fill: none; stroke: rgb(102, 102, 102); stroke-opacity: 1; stroke-width: 2px; opacity: 1;\"/></g><g class=\"points\"/><g class=\"text\"/></g><g class=\"trace scatter trace0134c0\" style=\"stroke-miterlimit: 2; opacity: 1;\"><g class=\"fills\"/><g class=\"errorbars\"/><g class=\"lines\"><path class=\"js-line\" d=\"M25.57,193.34L25.57,104.45\" style=\"vector-effect: non-scaling-stroke; fill: none; stroke: rgb(102, 102, 102); stroke-opacity: 1; stroke-width: 2px; opacity: 1;\"/><path class=\"js-line\" d=\"M25.57,193.34L96.29,193.34\" style=\"vector-effect: non-scaling-stroke; fill: none; stroke: rgb(102, 102, 102); stroke-opacity: 1; stroke-width: 2px; opacity: 1;\"/><path class=\"js-line\" d=\"M25.57,104.45L37.56,104.45\" style=\"vector-effect: non-scaling-stroke; fill: none; stroke: rgb(102, 102, 102); stroke-opacity: 1; stroke-width: 2px; opacity: 1;\"/></g><g class=\"points\"/><g class=\"text\"/></g><g class=\"trace scatter tracea95354\" style=\"stroke-miterlimit: 2; opacity: 1;\"><g class=\"fills\"/><g class=\"errorbars\"/><g class=\"lines\"><path class=\"js-line\" d=\"M113.27,199.31L113.27,172.66\" style=\"vector-effect: non-scaling-stroke; fill: none; stroke: rgb(102, 102, 102); stroke-opacity: 1; stroke-width: 2px; opacity: 1;\"/><path class=\"js-line\" d=\"M113.27,199.31L123.56,199.31\" style=\"vector-effect: non-scaling-stroke; fill: none; stroke: rgb(102, 102, 102); stroke-opacity: 1; stroke-width: 2px; opacity: 1;\"/><path class=\"js-line\" d=\"M113.27,172.66L276.73,172.66\" style=\"vector-effect: non-scaling-stroke; fill: none; stroke: rgb(102, 102, 102); stroke-opacity: 1; stroke-width: 2px; opacity: 1;\"/></g><g class=\"points\"/><g class=\"text\"/></g><g class=\"trace scatter trace621f45\" style=\"stroke-miterlimit: 2; opacity: 1;\"><g class=\"fills\"/><g class=\"errorbars\"/><g class=\"lines\"><path class=\"js-line\" d=\"M142.03,212.64L142.03,194.87\" style=\"vector-effect: non-scaling-stroke; fill: none; stroke: rgb(102, 102, 102); stroke-opacity: 1; stroke-width: 2px; opacity: 1;\"/><path class=\"js-line\" d=\"M142.03,212.64L221.89,212.64\" style=\"vector-effect: non-scaling-stroke; fill: none; stroke: rgb(102, 102, 102); stroke-opacity: 1; stroke-width: 2px; opacity: 1;\"/><path class=\"js-line\" d=\"M142.03,194.87L189.83,194.87\" style=\"vector-effect: non-scaling-stroke; fill: none; stroke: rgb(102, 102, 102); stroke-opacity: 1; stroke-width: 2px; opacity: 1;\"/></g><g class=\"points\"/><g class=\"text\"/></g><g class=\"trace scatter trace896e2a\" style=\"stroke-miterlimit: 2; opacity: 1;\"><g class=\"fills\"/><g class=\"errorbars\"/><g class=\"lines\"><path class=\"js-line\" d=\"M149.9,108.4L149.9,95.07\" style=\"vector-effect: non-scaling-stroke; fill: none; stroke: rgb(102, 102, 102); stroke-opacity: 1; stroke-width: 2px; opacity: 1;\"/><path class=\"js-line\" d=\"M149.9,108.4L222.62,108.4\" style=\"vector-effect: non-scaling-stroke; fill: none; stroke: rgb(102, 102, 102); stroke-opacity: 1; stroke-width: 2px; opacity: 1;\"/><path class=\"js-line\" d=\"M149.9,95.07L276.73,95.07\" style=\"vector-effect: non-scaling-stroke; fill: none; stroke: rgb(102, 102, 102); stroke-opacity: 1; stroke-width: 2px; opacity: 1;\"/></g><g class=\"points\"/><g class=\"text\"/></g><g class=\"trace scatter trace9b098c\" style=\"stroke-miterlimit: 2; opacity: 1;\"><g class=\"fills\"><g><path class=\"js-fill\" d=\"M276.73,199.31L189.83,199.31L189.83,190.43L276.73,190.43Z\" style=\"fill: rgb(102, 102, 102); fill-opacity: 0.5; stroke-width: 0;\"/></g></g><g class=\"errorbars\"/><g class=\"lines\"><path class=\"js-line\" d=\"M276.73,199.31L189.83,199.31L189.83,190.43L276.73,190.43\" style=\"vector-effect: non-scaling-stroke; fill: none; stroke: rgb(102, 102, 102); stroke-opacity: 1; stroke-width: 2px; opacity: 1;\"/></g><g class=\"points\"/><g class=\"text\"/></g><g class=\"trace scatter trace3065f5\" style=\"stroke-miterlimit: 2; opacity: 1;\"><g class=\"fills\"/><g class=\"errorbars\"/><g class=\"lines\"><path class=\"js-line\" d=\"M133.79,81.75L133.79,63.98\" style=\"vector-effect: non-scaling-stroke; fill: none; stroke: rgb(102, 102, 102); stroke-opacity: 1; stroke-width: 2px; opacity: 1;\"/><path class=\"js-line\" d=\"M133.79,81.75L227.45,81.75\" style=\"vector-effect: non-scaling-stroke; fill: none; stroke: rgb(102, 102, 102); stroke-opacity: 1; stroke-width: 2px; opacity: 1;\"/><path class=\"js-line\" d=\"M133.79,63.98L156.61,63.98\" style=\"vector-effect: non-scaling-stroke; fill: none; stroke: rgb(102, 102, 102); stroke-opacity: 1; stroke-width: 2px; opacity: 1;\"/></g><g class=\"points\"/><g class=\"text\"/></g><g class=\"trace scatter tracee44abf\" style=\"stroke-miterlimit: 2; opacity: 1;\"><g class=\"fills\"/><g class=\"errorbars\"/><g class=\"lines\"><path class=\"js-line\" d=\"M107.66,314.05L107.66,289.62\" style=\"vector-effect: non-scaling-stroke; fill: none; stroke: rgb(102, 102, 102); stroke-opacity: 1; stroke-width: 2px; opacity: 1;\"/><path class=\"js-line\" d=\"M107.66,314.05L130.4,314.05\" style=\"vector-effect: non-scaling-stroke; fill: none; stroke: rgb(102, 102, 102); stroke-opacity: 1; stroke-width: 2px; opacity: 1;\"/><path class=\"js-line\" d=\"M107.66,289.62L115.07,289.62\" style=\"vector-effect: non-scaling-stroke; fill: none; stroke: rgb(102, 102, 102); stroke-opacity: 1; stroke-width: 2px; opacity: 1;\"/></g><g class=\"points\"/><g class=\"text\"/></g><g class=\"trace scatter tracee3c434\" style=\"stroke-miterlimit: 2; opacity: 1;\"><g class=\"fills\"><g><path class=\"js-fill\" d=\"M276.73,274.07L273.19,274.07L273.19,265.19L276.73,265.19Z\" style=\"fill: rgb(102, 102, 102); fill-opacity: 0.5; stroke-width: 0;\"/></g></g><g class=\"errorbars\"/><g class=\"lines\"><path class=\"js-line\" d=\"M276.73,274.07L273.19,274.07L273.19,265.19L276.73,265.19\" style=\"vector-effect: non-scaling-stroke; fill: none; stroke: rgb(102, 102, 102); stroke-opacity: 1; stroke-width: 2px; opacity: 1;\"/></g><g class=\"points\"/><g class=\"text\"/></g><g class=\"trace scatter traced308cc\" style=\"stroke-miterlimit: 2; opacity: 1;\"><g class=\"fills\"/><g class=\"errorbars\"/><g class=\"lines\"><path class=\"js-line\" d=\"M119.11,87.3L119.11,50.65\" style=\"vector-effect: non-scaling-stroke; fill: none; stroke: rgb(102, 102, 102); stroke-opacity: 1; stroke-width: 2px; opacity: 1;\"/><path class=\"js-line\" d=\"M119.11,87.3L131.87,87.3\" style=\"vector-effect: non-scaling-stroke; fill: none; stroke: rgb(102, 102, 102); stroke-opacity: 1; stroke-width: 2px; opacity: 1;\"/><path class=\"js-line\" d=\"M119.11,50.65L276.73,50.65\" style=\"vector-effect: non-scaling-stroke; fill: none; stroke: rgb(102, 102, 102); stroke-opacity: 1; stroke-width: 2px; opacity: 1;\"/></g><g class=\"points\"/><g class=\"text\"/></g><g class=\"trace scatter tracee1ccd1\" style=\"stroke-miterlimit: 2; opacity: 1;\"><g class=\"fills\"><g><path class=\"js-fill\" d=\"M276.73,154.89L188.77,154.89L188.77,146L276.73,146Z\" style=\"fill: rgb(102, 102, 102); fill-opacity: 0.5; stroke-width: 0;\"/></g></g><g class=\"errorbars\"/><g class=\"lines\"><path class=\"js-line\" d=\"M276.73,154.89L188.77,154.89L188.77,146L276.73,146\" style=\"vector-effect: non-scaling-stroke; fill: none; stroke: rgb(102, 102, 102); stroke-opacity: 1; stroke-width: 2px; opacity: 1;\"/></g><g class=\"points\"/><g class=\"text\"/></g><g class=\"trace scatter trace24c0f5\" style=\"stroke-miterlimit: 2; opacity: 1;\"><g class=\"fills\"/><g class=\"errorbars\"/><g class=\"lines\"><path class=\"js-line\" d=\"M37.56,139.93L37.56,68.97\" style=\"vector-effect: non-scaling-stroke; fill: none; stroke: rgb(102, 102, 102); stroke-opacity: 1; stroke-width: 2px; opacity: 1;\"/><path class=\"js-line\" d=\"M37.56,139.93L173.22,139.93\" style=\"vector-effect: non-scaling-stroke; fill: none; stroke: rgb(102, 102, 102); stroke-opacity: 1; stroke-width: 2px; opacity: 1;\"/><path class=\"js-line\" d=\"M37.56,68.97L119.11,68.97\" style=\"vector-effect: non-scaling-stroke; fill: none; stroke: rgb(102, 102, 102); stroke-opacity: 1; stroke-width: 2px; opacity: 1;\"/></g><g class=\"points\"/><g class=\"text\"/></g><g class=\"trace scatter traceb7af5a\" style=\"stroke-miterlimit: 2; opacity: 1;\"><g class=\"fills\"><g><path class=\"js-fill\" d=\"M276.73,234.85L275.24,234.85L275.24,225.97L276.73,225.97Z\" style=\"fill: rgb(102, 102, 102); fill-opacity: 0.5; stroke-width: 0;\"/></g></g><g class=\"errorbars\"/><g class=\"lines\"><path class=\"js-line\" d=\"M276.73,234.85L275.24,234.85L275.24,225.97L276.73,225.97\" style=\"vector-effect: non-scaling-stroke; fill: none; stroke: rgb(102, 102, 102); stroke-opacity: 1; stroke-width: 2px; opacity: 1;\"/></g><g class=\"points\"/><g class=\"text\"/></g><g class=\"trace scatter trace555a95\" style=\"stroke-miterlimit: 2; opacity: 1;\"><g class=\"fills\"/><g class=\"errorbars\"/><g class=\"lines\"><path class=\"js-line\" d=\"M123.56,217.08L123.56,181.54\" style=\"vector-effect: non-scaling-stroke; fill: none; stroke: rgb(102, 102, 102); stroke-opacity: 1; stroke-width: 2px; opacity: 1;\"/><path class=\"js-line\" d=\"M123.56,217.08L135.4,217.08\" style=\"vector-effect: non-scaling-stroke; fill: none; stroke: rgb(102, 102, 102); stroke-opacity: 1; stroke-width: 2px; opacity: 1;\"/><path class=\"js-line\" d=\"M123.56,181.54L276.73,181.54\" style=\"vector-effect: non-scaling-stroke; fill: none; stroke: rgb(102, 102, 102); stroke-opacity: 1; stroke-width: 2px; opacity: 1;\"/></g><g class=\"points\"/><g class=\"text\"/></g><g class=\"trace scatter traceeaadc8\" style=\"stroke-miterlimit: 2; opacity: 1;\"><g class=\"fills\"/><g class=\"errorbars\"/><g class=\"lines\"><path class=\"js-line\" d=\"M156.61,68.42L156.61,59.53\" style=\"vector-effect: non-scaling-stroke; fill: none; stroke: rgb(102, 102, 102); stroke-opacity: 1; stroke-width: 2px; opacity: 1;\"/><path class=\"js-line\" d=\"M156.61,68.42L276.73,68.42\" style=\"vector-effect: non-scaling-stroke; fill: none; stroke: rgb(102, 102, 102); stroke-opacity: 1; stroke-width: 2px; opacity: 1;\"/><path class=\"js-line\" d=\"M156.61,59.53L276.73,59.53\" style=\"vector-effect: non-scaling-stroke; fill: none; stroke: rgb(102, 102, 102); stroke-opacity: 1; stroke-width: 2px; opacity: 1;\"/></g><g class=\"points\"/><g class=\"text\"/></g><g class=\"trace scatter trace5e70fc\" style=\"stroke-miterlimit: 2; opacity: 1;\"><g class=\"fills\"><g><path class=\"js-fill\" d=\"M276.73,217.08L221.89,217.08L221.89,208.2L276.73,208.2Z\" style=\"fill: rgb(102, 102, 102); fill-opacity: 0.5; stroke-width: 0;\"/></g></g><g class=\"errorbars\"/><g class=\"lines\"><path class=\"js-line\" d=\"M276.73,217.08L221.89,217.08L221.89,208.2L276.73,208.2\" style=\"vector-effect: non-scaling-stroke; fill: none; stroke: rgb(102, 102, 102); stroke-opacity: 1; stroke-width: 2px; opacity: 1;\"/></g><g class=\"points\"/><g class=\"text\"/></g><g class=\"trace scatter trace4c2dd4\" style=\"stroke-miterlimit: 2; opacity: 1;\"><g class=\"fills\"/><g class=\"errorbars\"/><g class=\"lines\"><path class=\"js-line\" d=\"M135.4,230.41L135.4,203.75\" style=\"vector-effect: non-scaling-stroke; fill: none; stroke: rgb(102, 102, 102); stroke-opacity: 1; stroke-width: 2px; opacity: 1;\"/><path class=\"js-line\" d=\"M135.4,230.41L275.24,230.41\" style=\"vector-effect: non-scaling-stroke; fill: none; stroke: rgb(102, 102, 102); stroke-opacity: 1; stroke-width: 2px; opacity: 1;\"/><path class=\"js-line\" d=\"M135.4,203.75L142.03,203.75\" style=\"vector-effect: non-scaling-stroke; fill: none; stroke: rgb(102, 102, 102); stroke-opacity: 1; stroke-width: 2px; opacity: 1;\"/></g><g class=\"points\"/><g class=\"text\"/></g><g class=\"trace scatter trace3c4dce\" style=\"stroke-miterlimit: 2; opacity: 1;\"><g class=\"fills\"/><g class=\"errorbars\"/><g class=\"lines\"/><g class=\"points\"><path class=\"point plotly-customdata\" transform=\"translate(173.22,139.93)\" d=\"M4,0A4,4 0 1,1 0,-4A4,4 0 0,1 4,0Z\" style=\"opacity: 0.7; stroke-width: 1px; fill: rgb(102, 102, 102); fill-opacity: 1; stroke: rgb(255, 255, 255); stroke-opacity: 1;\"/><path class=\"point plotly-customdata\" transform=\"translate(131.87,87.3)\" d=\"M2,0A2,2 0 1,1 0,-2A2,2 0 0,1 2,0Z\" style=\"opacity: 0.7; stroke-width: 1px; fill: rgb(102, 102, 102); fill-opacity: 1; stroke: rgb(255, 255, 255); stroke-opacity: 1;\"/><path class=\"point plotly-customdata\" transform=\"translate(142.92,259.82)\" d=\"M4,0A4,4 0 1,1 0,-4A4,4 0 0,1 4,0Z\" style=\"opacity: 0.7; stroke-width: 1px; fill: rgb(102, 102, 102); fill-opacity: 1; stroke: rgb(255, 255, 255); stroke-opacity: 1;\"/><path class=\"point plotly-customdata\" transform=\"translate(222.62,108.4)\" d=\"M4,0A4,4 0 1,1 0,-4A4,4 0 0,1 4,0Z\" style=\"opacity: 0.7; stroke-width: 1px; fill: rgb(102, 102, 102); fill-opacity: 1; stroke: rgb(255, 255, 255); stroke-opacity: 1;\"/><path class=\"point plotly-customdata\" transform=\"translate(96.29,193.34)\" d=\"M4,0A4,4 0 1,1 0,-4A4,4 0 0,1 4,0Z\" style=\"opacity: 0.7; stroke-width: 1px; fill: rgb(102, 102, 102); fill-opacity: 1; stroke: rgb(255, 255, 255); stroke-opacity: 1;\"/><path class=\"point plotly-customdata\" transform=\"translate(183.57,129.42)\" d=\"M2,0A2,2 0 1,1 0,-2A2,2 0 0,1 2,0Z\" style=\"opacity: 0.7; stroke-width: 1px; fill: rgb(102, 102, 102); fill-opacity: 1; stroke: rgb(255, 255, 255); stroke-opacity: 1;\"/><path class=\"point plotly-customdata\" transform=\"translate(227.45,81.75)\" d=\"M4,0A4,4 0 1,1 0,-4A4,4 0 0,1 4,0Z\" style=\"opacity: 0.7; stroke-width: 1px; fill: rgb(102, 102, 102); fill-opacity: 1; stroke: rgb(255, 255, 255); stroke-opacity: 1;\"/><path class=\"point plotly-customdata\" transform=\"translate(130.4,314.05)\" d=\"M4,0A4,4 0 1,1 0,-4A4,4 0 0,1 4,0Z\" style=\"opacity: 0.7; stroke-width: 1px; fill: rgb(102, 102, 102); fill-opacity: 1; stroke: rgb(255, 255, 255); stroke-opacity: 1;\"/><path class=\"point plotly-customdata\" transform=\"translate(275.31,296.28)\" d=\"M4,0A4,4 0 1,1 0,-4A4,4 0 0,1 4,0Z\" style=\"opacity: 0.7; stroke-width: 1px; fill: rgb(102, 102, 102); fill-opacity: 1; stroke: rgb(255, 255, 255); stroke-opacity: 1;\"/><path class=\"point plotly-customdata\" transform=\"translate(112.45,222.9)\" d=\"M4,0A4,4 0 1,1 0,-4A4,4 0 0,1 4,0Z\" style=\"opacity: 0.7; stroke-width: 1px; fill: rgb(102, 102, 102); fill-opacity: 1; stroke: rgb(255, 255, 255); stroke-opacity: 1;\"/><path class=\"point plotly-customdata\" transform=\"translate(115.07,289.62)\" d=\"M2,0A2,2 0 1,1 0,-2A2,2 0 0,1 2,0Z\" style=\"opacity: 0.7; stroke-width: 1px; fill: rgb(102, 102, 102); fill-opacity: 1; stroke: rgb(255, 255, 255); stroke-opacity: 1;\"/><path class=\"point plotly-customdata\" transform=\"translate(208.17,250.02)\" d=\"M4,0A4,4 0 1,1 0,-4A4,4 0 0,1 4,0Z\" style=\"opacity: 0.7; stroke-width: 1px; fill: rgb(102, 102, 102); fill-opacity: 1; stroke: rgb(255, 255, 255); stroke-opacity: 1;\"/><path class=\"point plotly-customdata\" transform=\"translate(18.84,225.37)\" d=\"M4,0A4,4 0 1,1 0,-4A4,4 0 0,1 4,0Z\" style=\"opacity: 0.7; stroke-width: 1px; fill: rgb(102, 102, 102); fill-opacity: 1; stroke: rgb(255, 255, 255); stroke-opacity: 1;\"/><path class=\"point plotly-customdata\" transform=\"translate(25.57,148.9)\" d=\"M2,0A2,2 0 1,1 0,-2A2,2 0 0,1 2,0Z\" style=\"opacity: 0.7; stroke-width: 1px; fill: rgb(102, 102, 102); fill-opacity: 1; stroke: rgb(255, 255, 255); stroke-opacity: 1;\"/><path class=\"point plotly-customdata\" transform=\"translate(113.27,185.98)\" d=\"M2,0A2,2 0 1,1 0,-2A2,2 0 0,1 2,0Z\" style=\"opacity: 0.7; stroke-width: 1px; fill: rgb(102, 102, 102); fill-opacity: 1; stroke: rgb(255, 255, 255); stroke-opacity: 1;\"/><path class=\"point plotly-customdata\" transform=\"translate(142.03,203.75)\" d=\"M4,0A4,4 0 1,1 0,-4A4,4 0 0,1 4,0Z\" style=\"opacity: 0.7; stroke-width: 1px; fill: rgb(102, 102, 102); fill-opacity: 1; stroke: rgb(255, 255, 255); stroke-opacity: 1;\"/><path class=\"point plotly-customdata\" transform=\"translate(149.9,101.74)\" d=\"M2,0A2,2 0 1,1 0,-2A2,2 0 0,1 2,0Z\" style=\"opacity: 0.7; stroke-width: 1px; fill: rgb(102, 102, 102); fill-opacity: 1; stroke: rgb(255, 255, 255); stroke-opacity: 1;\"/><path class=\"point plotly-customdata\" transform=\"translate(189.83,194.87)\" d=\"M4,0A4,4 0 1,1 0,-4A4,4 0 0,1 4,0Z\" style=\"opacity: 0.7; stroke-width: 1px; fill: rgb(102, 102, 102); fill-opacity: 1; stroke: rgb(255, 255, 255); stroke-opacity: 1;\"/><path class=\"point plotly-customdata\" transform=\"translate(133.79,72.86)\" d=\"M2,0A2,2 0 1,1 0,-2A2,2 0 0,1 2,0Z\" style=\"opacity: 0.7; stroke-width: 1px; fill: rgb(102, 102, 102); fill-opacity: 1; stroke: rgb(255, 255, 255); stroke-opacity: 1;\"/><path class=\"point plotly-customdata\" transform=\"translate(107.66,301.84)\" d=\"M4,0A4,4 0 1,1 0,-4A4,4 0 0,1 4,0Z\" style=\"opacity: 0.7; stroke-width: 1px; fill: rgb(102, 102, 102); fill-opacity: 1; stroke: rgb(255, 255, 255); stroke-opacity: 1;\"/><path class=\"point plotly-customdata\" transform=\"translate(273.19,269.63)\" d=\"M4,0A4,4 0 1,1 0,-4A4,4 0 0,1 4,0Z\" style=\"opacity: 0.7; stroke-width: 1px; fill: rgb(102, 102, 102); fill-opacity: 1; stroke: rgb(255, 255, 255); stroke-opacity: 1;\"/><path class=\"point plotly-customdata\" transform=\"translate(119.11,68.97)\" d=\"M4,0A4,4 0 1,1 0,-4A4,4 0 0,1 4,0Z\" style=\"opacity: 0.7; stroke-width: 1px; fill: rgb(102, 102, 102); fill-opacity: 1; stroke: rgb(255, 255, 255); stroke-opacity: 1;\"/><path class=\"point plotly-customdata\" transform=\"translate(188.77,150.45)\" d=\"M2,0A2,2 0 1,1 0,-2A2,2 0 0,1 2,0Z\" style=\"opacity: 0.7; stroke-width: 1px; fill: rgb(102, 102, 102); fill-opacity: 1; stroke: rgb(255, 255, 255); stroke-opacity: 1;\"/><path class=\"point plotly-customdata\" transform=\"translate(37.56,104.45)\" d=\"M2,0A2,2 0 1,1 0,-2A2,2 0 0,1 2,0Z\" style=\"opacity: 0.7; stroke-width: 1px; fill: rgb(102, 102, 102); fill-opacity: 1; stroke: rgb(255, 255, 255); stroke-opacity: 1;\"/><path class=\"point plotly-customdata\" transform=\"translate(275.24,230.41)\" d=\"M4,0A4,4 0 1,1 0,-4A4,4 0 0,1 4,0Z\" style=\"opacity: 0.7; stroke-width: 1px; fill: rgb(102, 102, 102); fill-opacity: 1; stroke: rgb(255, 255, 255); stroke-opacity: 1;\"/><path class=\"point plotly-customdata\" transform=\"translate(123.56,199.31)\" d=\"M2,0A2,2 0 1,1 0,-2A2,2 0 0,1 2,0Z\" style=\"opacity: 0.7; stroke-width: 1px; fill: rgb(102, 102, 102); fill-opacity: 1; stroke: rgb(255, 255, 255); stroke-opacity: 1;\"/><path class=\"point plotly-customdata\" transform=\"translate(156.61,63.98)\" d=\"M2,0A2,2 0 1,1 0,-2A2,2 0 0,1 2,0Z\" style=\"opacity: 0.7; stroke-width: 1px; fill: rgb(102, 102, 102); fill-opacity: 1; stroke: rgb(255, 255, 255); stroke-opacity: 1;\"/><path class=\"point plotly-customdata\" transform=\"translate(221.89,212.64)\" d=\"M4,0A4,4 0 1,1 0,-4A4,4 0 0,1 4,0Z\" style=\"opacity: 0.7; stroke-width: 1px; fill: rgb(102, 102, 102); fill-opacity: 1; stroke: rgb(255, 255, 255); stroke-opacity: 1;\"/><path class=\"point plotly-customdata\" transform=\"translate(135.4,217.08)\" d=\"M2,0A2,2 0 1,1 0,-2A2,2 0 0,1 2,0Z\" style=\"opacity: 0.7; stroke-width: 1px; fill: rgb(102, 102, 102); fill-opacity: 1; stroke: rgb(255, 255, 255); stroke-opacity: 1;\"/></g><g class=\"text\"/></g><g class=\"trace scatter tracedba42d\" style=\"stroke-miterlimit: 2; opacity: 1;\"><g class=\"fills\"/><g class=\"errorbars\"/><g class=\"lines\"/><g class=\"points\"><path class=\"point\" transform=\"translate(48.99,336.27)\" d=\"M0,4.2V-4.2\" style=\"opacity: 1; stroke-width: 1px; fill: rgb(0, 128, 0); fill-opacity: 1; stroke: rgb(0, 128, 0); stroke-opacity: 1;\"/></g><g class=\"text\"/></g></g></g><g class=\"overplot\"/><path class=\"xlines-above crisp\" d=\"M0,0\" style=\"fill: none;\"/><path class=\"ylines-above crisp\" d=\"M0,0\" style=\"fill: none;\"/><g class=\"overlines-above\"/><g class=\"xaxislayer-above\"><g class=\"x2tick\"><text text-anchor=\"middle\" x=\"0\" y=\"463\" transform=\"translate(95.3,0)\" style=\"font-family: 'Open Sans', verdana, arial, sans-serif; font-size: 12px; fill: rgb(68, 68, 68); fill-opacity: 1; white-space: pre;\">0.8</text></g><g class=\"x2tick\"><text text-anchor=\"middle\" x=\"0\" y=\"463\" transform=\"translate(153.16,0)\" style=\"font-family: 'Open Sans', verdana, arial, sans-serif; font-size: 12px; fill: rgb(68, 68, 68); fill-opacity: 1; white-space: pre;\">0.6</text></g><g class=\"x2tick\"><text text-anchor=\"middle\" x=\"0\" y=\"463\" transform=\"translate(211.02,0)\" style=\"font-family: 'Open Sans', verdana, arial, sans-serif; font-size: 12px; fill: rgb(68, 68, 68); fill-opacity: 1; white-space: pre;\">0.4</text></g><g class=\"x2tick\"><text text-anchor=\"middle\" x=\"0\" y=\"463\" transform=\"translate(268.88,0)\" style=\"font-family: 'Open Sans', verdana, arial, sans-serif; font-size: 12px; fill: rgb(68, 68, 68); fill-opacity: 1; white-space: pre;\">0.2</text></g><g class=\"x2tick\"><text text-anchor=\"middle\" x=\"0\" y=\"463\" transform=\"translate(326.73,0)\" style=\"font-family: 'Open Sans', verdana, arial, sans-serif; font-size: 12px; fill: rgb(68, 68, 68); fill-opacity: 1; white-space: pre;\">0</text></g></g><g class=\"yaxislayer-above\"/><g class=\"overaxes-above\"/></g></g><g class=\"polarlayer\"/><g class=\"ternarylayer\"/><g class=\"geolayer\"/><g class=\"funnelarealayer\"/><g class=\"pielayer\"/><g class=\"treemaplayer\"/><g class=\"sunburstlayer\"/><g class=\"glimages\"/><defs id=\"topdefs-7ef9e8\"><g class=\"clips\"/></defs><g class=\"layer-above\"><g class=\"imagelayer\"/><g class=\"shapelayer\"/></g><g class=\"infolayer\"><g class=\"cbe42a13 colorbar\" transform=\"translate(50,60)\"><rect class=\"cbbg\" x=\"569.5\" y=\"-0.5\" width=\"68.03125\" height=\"391\" style=\"fill: rgb(0, 0, 0); fill-opacity: 0; stroke: rgb(68, 68, 68); stroke-opacity: 1; stroke-width: 0;\"/><g class=\"cbfills\" transform=\"translate(0,10)\"><rect class=\"cbfill\" x=\"580\" width=\"30\" y=\"0\" height=\"370\" style=\"fill: url('#g7ef9e8-cbe42a13');\"/></g><g class=\"cblines\" transform=\"translate(0,10)\"/><g class=\"cbaxis crisp\" transform=\"translate(0,-60)\"><g class=\"ycbe42a13tick\"><text text-anchor=\"start\" x=\"613.4\" y=\"4.199999999999999\" transform=\"translate(0,440)\" style=\"font-family: 'Open Sans', verdana, arial, sans-serif; font-size: 12px; fill: rgb(68, 68, 68); fill-opacity: 1; white-space: pre;\">0</text></g><g class=\"ycbe42a13tick\"><text text-anchor=\"start\" x=\"613.4\" y=\"4.199999999999999\" transform=\"translate(0,398.45)\" style=\"font-family: 'Open Sans', verdana, arial, sans-serif; font-size: 12px; fill: rgb(68, 68, 68); fill-opacity: 1; white-space: pre;\">0.1</text></g><g class=\"ycbe42a13tick\"><text text-anchor=\"start\" x=\"613.4\" y=\"4.199999999999999\" transform=\"translate(0,356.9)\" style=\"font-family: 'Open Sans', verdana, arial, sans-serif; font-size: 12px; fill: rgb(68, 68, 68); fill-opacity: 1; white-space: pre;\">0.2</text></g><g class=\"ycbe42a13tick\"><text text-anchor=\"start\" x=\"613.4\" y=\"4.199999999999999\" transform=\"translate(0,315.34000000000003)\" style=\"font-family: 'Open Sans', verdana, arial, sans-serif; font-size: 12px; fill: rgb(68, 68, 68); fill-opacity: 1; white-space: pre;\">0.3</text></g><g class=\"ycbe42a13tick\"><text text-anchor=\"start\" x=\"613.4\" y=\"4.199999999999999\" transform=\"translate(0,273.78999999999996)\" style=\"font-family: 'Open Sans', verdana, arial, sans-serif; font-size: 12px; fill: rgb(68, 68, 68); fill-opacity: 1; white-space: pre;\">0.4</text></g><g class=\"ycbe42a13tick\"><text text-anchor=\"start\" x=\"613.4\" y=\"4.199999999999999\" transform=\"translate(0,232.24)\" style=\"font-family: 'Open Sans', verdana, arial, sans-serif; font-size: 12px; fill: rgb(68, 68, 68); fill-opacity: 1; white-space: pre;\">0.5</text></g><g class=\"ycbe42a13tick\"><text text-anchor=\"start\" x=\"613.4\" y=\"4.199999999999999\" transform=\"translate(0,190.69)\" style=\"font-family: 'Open Sans', verdana, arial, sans-serif; font-size: 12px; fill: rgb(68, 68, 68); fill-opacity: 1; white-space: pre;\">0.6</text></g><g class=\"ycbe42a13tick\"><text text-anchor=\"start\" x=\"613.4\" y=\"4.199999999999999\" transform=\"translate(0,149.14)\" style=\"font-family: 'Open Sans', verdana, arial, sans-serif; font-size: 12px; fill: rgb(68, 68, 68); fill-opacity: 1; white-space: pre;\">0.7</text></g><g class=\"ycbe42a13tick\"><text text-anchor=\"start\" x=\"613.4\" y=\"4.199999999999999\" transform=\"translate(0,107.59)\" style=\"font-family: 'Open Sans', verdana, arial, sans-serif; font-size: 12px; fill: rgb(68, 68, 68); fill-opacity: 1; white-space: pre;\">0.8</text></g></g><g class=\"cbtitleunshift\" transform=\"translate(-50,-60)\"><g class=\"cbtitle\"/></g><rect class=\"cboutline\" x=\"580\" y=\"10\" width=\"30\" height=\"370\" style=\"stroke: rgb(68, 68, 68); stroke-opacity: 1; fill: none; stroke-width: 1;\"/></g><g class=\"g-gtitle\"/><g class=\"g-x2title\"/></g></svg>"
      ],
      "text/html": [
       "<div\n",
       "    class=\"webio-mountpoint\"\n",
       "    data-webio-mountpoint=\"8609746710059639136\"\n",
       ">\n",
       "    <script>\n",
       "    if (window.require && require.defined && require.defined(\"nbextensions/webio-jupyter-notebook\")) {\n",
       "        console.log(\"Jupyter WebIO extension detected, not mounting.\");\n",
       "    } else if (window.WebIO) {\n",
       "        WebIO.mount(\n",
       "            document.querySelector('[data-webio-mountpoint=\"8609746710059639136\"]'),\n",
       "            {\"props\":{},\"nodeType\":\"Scope\",\"type\":\"node\",\"instanceArgs\":{\"imports\":{\"data\":[{\"name\":\"Plotly\",\"type\":\"js\",\"url\":\"\\/assetserver\\/e6903599031aaef8675931dfcd7df98a1aeffbfc-plotly-latest.min.js\"},{\"name\":null,\"type\":\"js\",\"url\":\"\\/assetserver\\/74a5dea81f21b0b802ef1ee92f1c8a504eac1a0c-plotly_webio.bundle.js\"}],\"type\":\"async_block\"},\"id\":\"6295280581491695213\",\"handlers\":{\"_toImage\":[\"(function (options){return this.Plotly.toImage(this.plotElem,options).then((function (data){return WebIO.setval({\\\"name\\\":\\\"image\\\",\\\"scope\\\":\\\"6295280581491695213\\\",\\\"id\\\":\\\"17467423077202879811\\\",\\\"type\\\":\\\"observable\\\"},data)}))})\"],\"__get_gd_contents\":[\"(function (prop){prop==\\\"data\\\" ? (WebIO.setval({\\\"name\\\":\\\"__gd_contents\\\",\\\"scope\\\":\\\"6295280581491695213\\\",\\\"id\\\":\\\"10244139748212273275\\\",\\\"type\\\":\\\"observable\\\"},this.plotElem.data)) : undefined; return prop==\\\"layout\\\" ? (WebIO.setval({\\\"name\\\":\\\"__gd_contents\\\",\\\"scope\\\":\\\"6295280581491695213\\\",\\\"id\\\":\\\"10244139748212273275\\\",\\\"type\\\":\\\"observable\\\"},this.plotElem.layout)) : undefined})\"],\"_downloadImage\":[\"(function (options){return this.Plotly.downloadImage(this.plotElem,options)})\"],\"_commands\":[\"(function (args){var fn=args.shift(); var elem=this.plotElem; var Plotly=this.Plotly; args.unshift(elem); return Plotly[fn].apply(this,args)})\"]},\"systemjs_options\":null,\"mount_callbacks\":[\"function () {\\n    var handler = ((function (Plotly,PlotlyWebIO){PlotlyWebIO.init(WebIO); var gd=this.dom.querySelector(\\\"#plot-6fd9f856-d75f-4239-ab3d-2b10857e3aab\\\"); this.plotElem=gd; this.Plotly=Plotly; (window.Blink!==undefined) ? (gd.style.width=\\\"100%\\\", gd.style.height=\\\"100vh\\\", gd.style.marginLeft=\\\"0%\\\", gd.style.marginTop=\\\"0vh\\\") : undefined; window.onresize=(function (){return Plotly.Plots.resize(gd)}); Plotly.newPlot(gd,[{\\\"y\\\":[0.5,1.5,2.5,4.5,5.5,7.5,9.914213562373096,11.914213562373096,13.914213562373096,15.914213562373096,16.914213562373096,17.914213562373096,18.914213562373096,20.914213562373096,23.646264369941974,25.646264369941974,26.646264369941974,28.646264369941974,29.646264369941974,30.646264369941974,31.646264369941974],\\\"type\\\":\\\"heatmap\\\",\\\"colorscale\\\":[[0.0,\\\"#000004\\\"],[0.00392156862745098,\\\"#010005\\\"],[0.00784313725490196,\\\"#010106\\\"],[0.011764705882352941,\\\"#010108\\\"],[0.01568627450980392,\\\"#020109\\\"],[0.0196078431372549,\\\"#02020B\\\"],[0.023529411764705882,\\\"#02020D\\\"],[0.027450980392156862,\\\"#03030F\\\"],[0.03137254901960784,\\\"#030312\\\"],[0.03529411764705882,\\\"#040414\\\"],[0.0392156862745098,\\\"#050416\\\"],[0.043137254901960784,\\\"#060518\\\"],[0.047058823529411764,\\\"#06051A\\\"],[0.050980392156862744,\\\"#07061C\\\"],[0.054901960784313725,\\\"#08071E\\\"],[0.058823529411764705,\\\"#090720\\\"],[0.06274509803921569,\\\"#0A0822\\\"],[0.06666666666666667,\\\"#0B0924\\\"],[0.07058823529411765,\\\"#0C0926\\\"],[0.07450980392156863,\\\"#0D0A29\\\"],[0.0784313725490196,\\\"#0E0B2B\\\"],[0.08235294117647059,\\\"#100B2D\\\"],[0.08627450980392157,\\\"#110C2F\\\"],[0.09019607843137255,\\\"#120D31\\\"],[0.09411764705882353,\\\"#130D34\\\"],[0.09803921568627451,\\\"#140E36\\\"],[0.10196078431372549,\\\"#150E38\\\"],[0.10588235294117647,\\\"#160F3B\\\"],[0.10980392156862745,\\\"#180F3D\\\"],[0.11372549019607843,\\\"#19103F\\\"],[0.11764705882352941,\\\"#1A1042\\\"],[0.12156862745098039,\\\"#1C1044\\\"],[0.12549019607843137,\\\"#1D1147\\\"],[0.12941176470588237,\\\"#1E1149\\\"],[0.13333333333333333,\\\"#20114B\\\"],[0.13725490196078433,\\\"#21114E\\\"],[0.1411764705882353,\\\"#221150\\\"],[0.1450980392156863,\\\"#241253\\\"],[0.14901960784313725,\\\"#251255\\\"],[0.15294117647058825,\\\"#271258\\\"],[0.1568627450980392,\\\"#29115A\\\"],[0.1607843137254902,\\\"#2A115C\\\"],[0.16470588235294117,\\\"#2C115F\\\"],[0.16862745098039217,\\\"#2D1161\\\"],[0.17254901960784313,\\\"#2F1163\\\"],[0.17647058823529413,\\\"#311165\\\"],[0.1803921568627451,\\\"#331067\\\"],[0.1843137254901961,\\\"#341069\\\"],[0.18823529411764706,\\\"#36106B\\\"],[0.19215686274509805,\\\"#38106C\\\"],[0.19607843137254902,\\\"#390F6E\\\"],[0.2,\\\"#3B0F70\\\"],[0.20392156862745098,\\\"#3D0F71\\\"],[0.20784313725490197,\\\"#3F0F72\\\"],[0.21176470588235294,\\\"#400F74\\\"],[0.21568627450980393,\\\"#420F75\\\"],[0.2196078431372549,\\\"#440F76\\\"],[0.2235294117647059,\\\"#451077\\\"],[0.22745098039215686,\\\"#471078\\\"],[0.23137254901960785,\\\"#491078\\\"],[0.23529411764705882,\\\"#4A1079\\\"],[0.23921568627450981,\\\"#4C117A\\\"],[0.24313725490196078,\\\"#4E117B\\\"],[0.24705882352941178,\\\"#4F127B\\\"],[0.25098039215686274,\\\"#51127C\\\"],[0.2549019607843137,\\\"#52137C\\\"],[0.25882352941176473,\\\"#54137D\\\"],[0.2627450980392157,\\\"#56147D\\\"],[0.26666666666666666,\\\"#57157E\\\"],[0.27058823529411763,\\\"#59157E\\\"],[0.27450980392156865,\\\"#5A167E\\\"],[0.2784313725490196,\\\"#5C167F\\\"],[0.2823529411764706,\\\"#5D177F\\\"],[0.28627450980392155,\\\"#5F187F\\\"],[0.2901960784313726,\\\"#601880\\\"],[0.29411764705882354,\\\"#621980\\\"],[0.2980392156862745,\\\"#641A80\\\"],[0.30196078431372547,\\\"#651A80\\\"],[0.3058823529411765,\\\"#671B80\\\"],[0.30980392156862746,\\\"#681C81\\\"],[0.3137254901960784,\\\"#6A1C81\\\"],[0.3176470588235294,\\\"#6B1D81\\\"],[0.3215686274509804,\\\"#6D1D81\\\"],[0.3254901960784314,\\\"#6E1E81\\\"],[0.32941176470588235,\\\"#701F81\\\"],[0.3333333333333333,\\\"#721F81\\\"],[0.33725490196078434,\\\"#732081\\\"],[0.3411764705882353,\\\"#752181\\\"],[0.34509803921568627,\\\"#762181\\\"],[0.34901960784313724,\\\"#782281\\\"],[0.35294117647058826,\\\"#792282\\\"],[0.3568627450980392,\\\"#7B2382\\\"],[0.3607843137254902,\\\"#7C2382\\\"],[0.36470588235294116,\\\"#7E2482\\\"],[0.3686274509803922,\\\"#802582\\\"],[0.37254901960784315,\\\"#812581\\\"],[0.3764705882352941,\\\"#832681\\\"],[0.3803921568627451,\\\"#842681\\\"],[0.3843137254901961,\\\"#862781\\\"],[0.38823529411764707,\\\"#882781\\\"],[0.39215686274509803,\\\"#892881\\\"],[0.396078431372549,\\\"#8B2981\\\"],[0.4,\\\"#8C2981\\\"],[0.403921568627451,\\\"#8E2A81\\\"],[0.40784313725490196,\\\"#902A81\\\"],[0.4117647058823529,\\\"#912B81\\\"],[0.41568627450980394,\\\"#932B80\\\"],[0.4196078431372549,\\\"#942C80\\\"],[0.4235294117647059,\\\"#962C80\\\"],[0.42745098039215684,\\\"#982D80\\\"],[0.43137254901960786,\\\"#992D80\\\"],[0.43529411764705883,\\\"#9B2E7F\\\"],[0.4392156862745098,\\\"#9C2E7F\\\"],[0.44313725490196076,\\\"#9E2F7F\\\"],[0.4470588235294118,\\\"#A02F7F\\\"],[0.45098039215686275,\\\"#A1307E\\\"],[0.4549019607843137,\\\"#A3307E\\\"],[0.4588235294117647,\\\"#A5317E\\\"],[0.4627450980392157,\\\"#A6317D\\\"],[0.4666666666666667,\\\"#A8327D\\\"],[0.47058823529411764,\\\"#AA337D\\\"],[0.4745098039215686,\\\"#AB337C\\\"],[0.47843137254901963,\\\"#AD347C\\\"],[0.4823529411764706,\\\"#AE347B\\\"],[0.48627450980392156,\\\"#B0357B\\\"],[0.49019607843137253,\\\"#B2357B\\\"],[0.49411764705882355,\\\"#B3367A\\\"],[0.4980392156862745,\\\"#B5367A\\\"],[0.5019607843137255,\\\"#B73779\\\"],[0.5058823529411764,\\\"#B83779\\\"],[0.5098039215686274,\\\"#BA3878\\\"],[0.5137254901960784,\\\"#BC3978\\\"],[0.5176470588235295,\\\"#BD3977\\\"],[0.5215686274509804,\\\"#BF3A77\\\"],[0.5254901960784314,\\\"#C03A76\\\"],[0.5294117647058824,\\\"#C23B75\\\"],[0.5333333333333333,\\\"#C43C75\\\"],[0.5372549019607843,\\\"#C53C74\\\"],[0.5411764705882353,\\\"#C73D73\\\"],[0.5450980392156862,\\\"#C83E73\\\"],[0.5490196078431373,\\\"#CA3E72\\\"],[0.5529411764705883,\\\"#CC3F71\\\"],[0.5568627450980392,\\\"#CD4071\\\"],[0.5607843137254902,\\\"#CF4070\\\"],[0.5647058823529412,\\\"#D0416F\\\"],[0.5686274509803921,\\\"#D2426F\\\"],[0.5725490196078431,\\\"#D3436E\\\"],[0.5764705882352941,\\\"#D5446D\\\"],[0.5803921568627451,\\\"#D6456C\\\"],[0.5843137254901961,\\\"#D8456C\\\"],[0.5882352941176471,\\\"#D9466B\\\"],[0.592156862745098,\\\"#DB476A\\\"],[0.596078431372549,\\\"#DC4869\\\"],[0.6,\\\"#DE4968\\\"],[0.6039215686274509,\\\"#DF4A68\\\"],[0.6078431372549019,\\\"#E04C67\\\"],[0.611764705882353,\\\"#E24D66\\\"],[0.615686274509804,\\\"#E34E65\\\"],[0.6196078431372549,\\\"#E44F64\\\"],[0.6235294117647059,\\\"#E55064\\\"],[0.6274509803921569,\\\"#E75263\\\"],[0.6313725490196078,\\\"#E85362\\\"],[0.6352941176470588,\\\"#E95462\\\"],[0.6392156862745098,\\\"#EA5661\\\"],[0.6431372549019608,\\\"#EB5760\\\"],[0.6470588235294118,\\\"#EC5860\\\"],[0.6509803921568628,\\\"#ED5A5F\\\"],[0.6549019607843137,\\\"#EE5B5E\\\"],[0.6588235294117647,\\\"#EF5D5E\\\"],[0.6627450980392157,\\\"#F05F5E\\\"],[0.6666666666666666,\\\"#F1605D\\\"],[0.6705882352941176,\\\"#F2625D\\\"],[0.6745098039215687,\\\"#F2645C\\\"],[0.6784313725490196,\\\"#F3655C\\\"],[0.6823529411764706,\\\"#F4675C\\\"],[0.6862745098039216,\\\"#F4695C\\\"],[0.6901960784313725,\\\"#F56B5C\\\"],[0.6941176470588235,\\\"#F66C5C\\\"],[0.6980392156862745,\\\"#F66E5C\\\"],[0.7019607843137254,\\\"#F7705C\\\"],[0.7058823529411765,\\\"#F7725C\\\"],[0.7098039215686275,\\\"#F8745C\\\"],[0.7137254901960784,\\\"#F8765C\\\"],[0.7176470588235294,\\\"#F9785D\\\"],[0.7215686274509804,\\\"#F9795D\\\"],[0.7254901960784313,\\\"#F97B5D\\\"],[0.7294117647058823,\\\"#FA7D5E\\\"],[0.7333333333333333,\\\"#FA7F5E\\\"],[0.7372549019607844,\\\"#FA815F\\\"],[0.7411764705882353,\\\"#FB835F\\\"],[0.7450980392156863,\\\"#FB8560\\\"],[0.7490196078431373,\\\"#FB8761\\\"],[0.7529411764705882,\\\"#FC8961\\\"],[0.7568627450980392,\\\"#FC8A62\\\"],[0.7607843137254902,\\\"#FC8C63\\\"],[0.7647058823529411,\\\"#FC8E64\\\"],[0.7686274509803922,\\\"#FC9065\\\"],[0.7725490196078432,\\\"#FD9266\\\"],[0.7764705882352941,\\\"#FD9467\\\"],[0.7803921568627451,\\\"#FD9668\\\"],[0.7843137254901961,\\\"#FD9869\\\"],[0.788235294117647,\\\"#FD9A6A\\\"],[0.792156862745098,\\\"#FD9B6B\\\"],[0.796078431372549,\\\"#FE9D6C\\\"],[0.8,\\\"#FE9F6D\\\"],[0.803921568627451,\\\"#FEA16E\\\"],[0.807843137254902,\\\"#FEA36F\\\"],[0.8117647058823529,\\\"#FEA571\\\"],[0.8156862745098039,\\\"#FEA772\\\"],[0.8196078431372549,\\\"#FEA973\\\"],[0.8235294117647058,\\\"#FEAA74\\\"],[0.8274509803921568,\\\"#FEAC76\\\"],[0.8313725490196079,\\\"#FEAE77\\\"],[0.8352941176470589,\\\"#FEB078\\\"],[0.8392156862745098,\\\"#FEB27A\\\"],[0.8431372549019608,\\\"#FEB47B\\\"],[0.8470588235294118,\\\"#FEB67C\\\"],[0.8509803921568627,\\\"#FEB77E\\\"],[0.8549019607843137,\\\"#FEB97F\\\"],[0.8588235294117647,\\\"#FEBB81\\\"],[0.8627450980392157,\\\"#FEBD82\\\"],[0.8666666666666667,\\\"#FEBF84\\\"],[0.8705882352941177,\\\"#FEC185\\\"],[0.8745098039215686,\\\"#FEC287\\\"],[0.8784313725490196,\\\"#FEC488\\\"],[0.8823529411764706,\\\"#FEC68A\\\"],[0.8862745098039215,\\\"#FEC88C\\\"],[0.8901960784313725,\\\"#FECA8D\\\"],[0.8941176470588236,\\\"#FECC8F\\\"],[0.8980392156862745,\\\"#FECD90\\\"],[0.9019607843137255,\\\"#FECF92\\\"],[0.9058823529411765,\\\"#FED194\\\"],[0.9098039215686274,\\\"#FED395\\\"],[0.9137254901960784,\\\"#FED597\\\"],[0.9176470588235294,\\\"#FED799\\\"],[0.9215686274509803,\\\"#FED89A\\\"],[0.9254901960784314,\\\"#FDDA9C\\\"],[0.9294117647058824,\\\"#FDDC9E\\\"],[0.9333333333333333,\\\"#FDDEA0\\\"],[0.9372549019607843,\\\"#FDE0A1\\\"],[0.9411764705882353,\\\"#FDE2A3\\\"],[0.9450980392156862,\\\"#FDE3A5\\\"],[0.9490196078431372,\\\"#FDE5A7\\\"],[0.9529411764705882,\\\"#FDE7A9\\\"],[0.9568627450980393,\\\"#FDE9AA\\\"],[0.9607843137254902,\\\"#FDEBAC\\\"],[0.9647058823529412,\\\"#FCECAE\\\"],[0.9686274509803922,\\\"#FCEEB0\\\"],[0.9725490196078431,\\\"#FCF0B2\\\"],[0.9764705882352941,\\\"#FCF2B4\\\"],[0.9803921568627451,\\\"#FCF4B6\\\"],[0.984313725490196,\\\"#FCF6B8\\\"],[0.9882352941176471,\\\"#FCF7B9\\\"],[0.9921568627450981,\\\"#FCF9BB\\\"],[0.996078431372549,\\\"#FCFBBD\\\"],[1.0,\\\"#FCFDBF\\\"]],\\\"z\\\":[[0.0,0.5058442,0.5818925,0.5634209,0.88499224,0.87633044,0.8786186,0.8741443,0.8832891,0.8717358,0.8830922,0.88068324,0.840646,0.8415136,0.85894966,0.8603604,0.8591472,0.8574119,0.8552632,0.8736927],[0.5058442,0.0,0.57648903,0.5435484,0.88729876,0.878392,0.88319516,0.8806862,0.88479745,0.87670887,0.8844434,0.8849118,0.84737676,0.84750813,0.8632037,0.86248255,0.8572936,0.8615917,0.858616,0.8701923],[0.5818925,0.57648903,0.0049327356,0.55707765,0.8828616,0.8790054,0.8778665,0.88018066,0.87799567,0.87903017,0.89045346,0.8825324,0.8477612,0.8462178,0.8610209,0.8565691,0.8544996,0.8631179,0.85884637,0.86726874],[0.5634209,0.5435484,0.55707765,0.0,0.87761587,0.877904,0.8752279,0.87789136,0.87717867,0.87675506,0.88629246,0.87657493,0.84541726,0.846068,0.86197686,0.8575137,0.8560158,0.86121,0.8568633,0.8666299],[0.88499224,0.88729876,0.8828616,0.87761587,0.012254902,0.4386423,0.53368604,0.49364248,0.4936806,0.56437695,0.5625,0.6084656,0.85629755,0.858496,0.814779,0.8127553,0.8156136,0.8262401,0.816511,0.8272997],[0.87633044,0.878392,0.8790054,0.877904,0.4386423,0.23702213,0.5311532,0.4875731,0.49646708,0.53399724,0.5563625,0.61513793,0.8510989,0.8598107,0.82002497,0.8176595,0.819841,0.8113972,0.8084981,0.83443326],[0.8786186,0.88319516,0.8778665,0.8752279,0.53368604,0.5311532,0.005164319,0.4774575,0.48674878,0.4964539,0.5647652,0.6047495,0.86013216,0.85528916,0.8257742,0.8260738,0.8235294,0.81395346,0.8284629,0.83506644],[0.8741443,0.8806862,0.88018066,0.87789136,0.49364248,0.4875731,0.4774575,0.18958429,0.45049703,0.49192956,0.52325195,0.5907859,0.8456684,0.85016096,0.8100264,0.80861247,0.81226766,0.80778515,0.8039457,0.8196174],[0.8832891,0.88479745,0.87799567,0.87717867,0.4936806,0.49646708,0.48674878,0.45049703,0.30040053,0.5280204,0.54579127,0.585595,0.84755737,0.8479567,0.80369747,0.80246913,0.8048626,0.8068182,0.81146777,0.8230604],[0.8717358,0.87670887,0.87903017,0.87675506,0.56437695,0.53399724,0.4964539,0.49192956,0.5280204,0.0,0.5399936,0.6068182,0.8594565,0.8601909,0.82734936,0.8279505,0.828479,0.81371695,0.82237226,0.8375108],[0.8830922,0.8844434,0.89045346,0.88629246,0.5625,0.5563625,0.5647652,0.52325195,0.54579127,0.5399936,0.0,0.6208346,0.85260713,0.8517786,0.8316062,0.8349569,0.820534,0.8209196,0.81385756,0.8397967],[0.88068324,0.8849118,0.8825324,0.87657493,0.6084656,0.61513793,0.6047495,0.5907859,0.585595,0.6068182,0.6208346,0.0,0.8622463,0.8620881,0.83031046,0.8209895,0.83227116,0.834039,0.8242108,0.84108967],[0.840646,0.84737676,0.8477612,0.84541726,0.85629755,0.8510989,0.86013216,0.8456684,0.84755737,0.8594565,0.85260713,0.8622463,0.30405688,0.2852827,0.8126015,0.8133626,0.80664,0.81136566,0.79409957,0.82185626],[0.8415136,0.84750813,0.8462178,0.846068,0.858496,0.8598107,0.85528916,0.85016096,0.8479567,0.8601909,0.8517786,0.8620881,0.2852827,0.32204756,0.8050819,0.80843526,0.79898864,0.8156696,0.80493134,0.81555486],[0.85894966,0.8632037,0.8610209,0.86197686,0.814779,0.82002497,0.8257742,0.8100264,0.80369747,0.82734936,0.8316062,0.83031046,0.8126015,0.8050819,0.18704663,0.41557837,0.45651215,0.47043812,0.4423332,0.47617003],[0.8603604,0.86248255,0.8565691,0.8575137,0.8127553,0.8176595,0.8260738,0.80861247,0.80246913,0.8279505,0.8349569,0.8209895,0.8133626,0.80843526,0.41557837,0.0,0.45369184,0.49454105,0.4299226,0.53136235],[0.8591472,0.8572936,0.8544996,0.8560158,0.8156136,0.819841,0.8235294,0.81226766,0.8048626,0.828479,0.820534,0.83227116,0.80664,0.79898864,0.45651215,0.45369184,0.17036338,0.47910863,0.39150944,0.49060374],[0.8574119,0.8615917,0.8631179,0.86121,0.8262401,0.8113972,0.81395346,0.80778515,0.8068182,0.81371695,0.8209196,0.834039,0.81136566,0.8156696,0.47043812,0.49454105,0.47910863,0.0,0.41522634,0.5448742],[0.8552632,0.858616,0.85884637,0.8568633,0.816511,0.8084981,0.8284629,0.8039457,0.81146777,0.82237226,0.81385756,0.8242108,0.79409957,0.80493134,0.4423332,0.4299226,0.39150944,0.41522634,0.0,0.49406177],[0.8736927,0.8701923,0.86726874,0.8666299,0.8272997,0.83443326,0.83506644,0.8196174,0.8230604,0.8375108,0.8397967,0.84108967,0.82185626,0.81555486,0.47617003,0.53136235,0.49060374,0.5448742,0.49406177,0.0]],\\\"x\\\":[0.5,1.5,2.5,4.5,5.5,7.5,9.914213562373096,11.914213562373096,13.914213562373096,15.914213562373096,16.914213562373096,17.914213562373096,18.914213562373096,20.914213562373096,23.646264369941974,25.646264369941974,26.646264369941974,28.646264369941974,29.646264369941974,30.646264369941974,31.646264369941974]},{\\\"showlegend\\\":false,\\\"mode\\\":\\\"lines\\\",\\\"xaxis\\\":\\\"x2\\\",\\\"line\\\":{\\\"color\\\":\\\"#666666\\\"},\\\"y\\\":[19.914213562373096,22.280238966157533,null,19.914213562373096,19.914213562373096,null,22.280238966157533,22.280238966157533,null],\\\"type\\\":\\\"scatter\\\",\\\"hoverinfo\\\":\\\"skip\\\",\\\"yaxis\\\":\\\"y\\\",\\\"x\\\":[0.3578336536884308,0.3578336536884308,null,0.3578336536884308,0.30405688285827637,null,0.3578336536884308,0.32204756140708923,null]},{\\\"showlegend\\\":false,\\\"mode\\\":\\\"lines\\\",\\\"xaxis\\\":\\\"x2\\\",\\\"line\\\":{\\\"color\\\":\\\"#666666\\\"},\\\"y\\\":[25.396264369941974,28.646264369941974,null,25.396264369941974,25.396264369941974,null,28.646264369941974,28.646264369941974,null],\\\"type\\\":\\\"scatter\\\",\\\"hoverinfo\\\":\\\"skip\\\",\\\"yaxis\\\":\\\"y\\\",\\\"x\\\":[0.5007727742195129,0.5007727742195129,null,0.5007727742195129,0.43841516971588135,null,0.5007727742195129,0.4941309988498688,null]},{\\\"showlegend\\\":false,\\\"mode\\\":\\\"lines\\\",\\\"xaxis\\\":\\\"x2\\\",\\\"line\\\":{\\\"color\\\":\\\"#666666\\\"},\\\"y\\\":[6.5,8.707106781186548,null,6.5,6.5,null,8.707106781186548,8.707106781186548,null],\\\"type\\\":\\\"scatter\\\",\\\"hoverinfo\\\":\\\"skip\\\",\\\"yaxis\\\":\\\"y\\\",\\\"x\\\":[0.4625678062438965,0.4625678062438965,null,0.4625678062438965,0.01225490216165781,null,0.4625678062438965,0.23702213168144226,null]},{\\\"showlegend\\\":false,\\\"mode\\\":\\\"lines\\\",\\\"xaxis\\\":\\\"x2\\\",\\\"line\\\":{\\\"color\\\":\\\"#666666\\\"},\\\"y\\\":[24.146264369941974,24.146264369941974,25.146264369941974,25.146264369941974],\\\"type\\\":\\\"scatter\\\",\\\"fill\\\":\\\"toself\\\",\\\"hoverinfo\\\":\\\"skip\\\",\\\"yaxis\\\":\\\"y\\\",\\\"x\\\":[0.0,0.18704663217067719,0.18704663217067719,0.0]},{\\\"showlegend\\\":false,\\\"mode\\\":\\\"lines\\\",\\\"xaxis\\\":\\\"x2\\\",\\\"line\\\":{\\\"color\\\":\\\"#666666\\\"},\\\"y\\\":[11.758883476483184,18.414213562373096,null,11.758883476483184,11.758883476483184,null,18.414213562373096,18.414213562373096,null],\\\"type\\\":\\\"scatter\\\",\\\"hoverinfo\\\":\\\"skip\\\",\\\"yaxis\\\":\\\"y\\\",\\\"x\\\":[0.6237499713897705,0.6237499713897705,null,0.6237499713897705,0.5678813457489014,null,0.6237499713897705,0.0,null]},{\\\"showlegend\\\":false,\\\"mode\\\":\\\"lines\\\",\\\"xaxis\\\":\\\"x2\\\",\\\"line\\\":{\\\"color\\\":\\\"#666666\\\"},\\\"y\\\":[27.146264369941974,27.146264369941974,28.146264369941974,28.146264369941974],\\\"type\\\":\\\"scatter\\\",\\\"fill\\\":\\\"toself\\\",\\\"hoverinfo\\\":\\\"skip\\\",\\\"yaxis\\\":\\\"y\\\",\\\"x\\\":[0.0,0.1703633815050125,0.1703633815050125,0.0]},{\\\"showlegend\\\":false,\\\"mode\\\":\\\"lines\\\",\\\"xaxis\\\":\\\"x2\\\",\\\"line\\\":{\\\"color\\\":\\\"#666666\\\"},\\\"y\\\":[21.414213562373096,21.414213562373096,23.146264369941974,23.146264369941974],\\\"type\\\":\\\"scatter\\\",\\\"fill\\\":\\\"toself\\\",\\\"hoverinfo\\\":\\\"skip\\\",\\\"yaxis\\\":\\\"y\\\",\\\"x\\\":[0.0,0.32204756140708923,0.32204756140708923,0.0]},{\\\"showlegend\\\":false,\\\"mode\\\":\\\"lines\\\",\\\"xaxis\\\":\\\"x2\\\",\\\"line\\\":{\\\"color\\\":\\\"#666666\\\"},\\\"y\\\":[1.0,2.0,null,1.0,1.0,null,2.0,2.0,null],\\\"type\\\":\\\"scatter\\\",\\\"hoverinfo\\\":\\\"skip\\\",\\\"yaxis\\\":\\\"y\\\",\\\"x\\\":[0.5058441758155823,0.5058441758155823,null,0.5058441758155823,0.0,null,0.5058441758155823,0.0,null]},{\\\"showlegend\\\":false,\\\"mode\\\":\\\"lines\\\",\\\"xaxis\\\":\\\"x2\\\",\\\"line\\\":{\\\"color\\\":\\\"#666666\\\"},\\\"y\\\":[3.0,3.0,4.0,4.0],\\\"type\\\":\\\"scatter\\\",\\\"fill\\\":\\\"toself\\\",\\\"hoverinfo\\\":\\\"skip\\\",\\\"yaxis\\\":\\\"y\\\",\\\"x\\\":[0.0,0.004932735580950975,0.004932735580950975,0.0]},{\\\"showlegend\\\":false,\\\"mode\\\":\\\"lines\\\",\\\"xaxis\\\":\\\"x2\\\",\\\"line\\\":{\\\"color\\\":\\\"#666666\\\"},\\\"y\\\":[7.603553390593274,15.914213562373096,null,7.603553390593274,7.603553390593274,null,15.914213562373096,15.914213562373096,null],\\\"type\\\":\\\"scatter\\\",\\\"hoverinfo\\\":\\\"skip\\\",\\\"yaxis\\\":\\\"y\\\",\\\"x\\\":[0.5678813457489014,0.5678813457489014,null,0.5678813457489014,0.4625678062438965,null,0.5678813457489014,0.5650663375854492,null]},{\\\"showlegend\\\":false,\\\"mode\\\":\\\"lines\\\",\\\"xaxis\\\":\\\"x2\\\",\\\"line\\\":{\\\"color\\\":\\\"#666666\\\"},\\\"y\\\":[3.5,5.0,null,3.5,3.5,null,5.0,5.0,null],\\\"type\\\":\\\"scatter\\\",\\\"hoverinfo\\\":\\\"skip\\\",\\\"yaxis\\\":\\\"y\\\",\\\"x\\\":[0.5588139295578003,0.5588139295578003,null,0.5588139295578003,0.004932735580950975,null,0.5588139295578003,0.0,null]},{\\\"showlegend\\\":false,\\\"mode\\\":\\\"lines\\\",\\\"xaxis\\\":\\\"x2\\\",\\\"line\\\":{\\\"color\\\":\\\"#666666\\\"},\\\"y\\\":[8.0,8.0,9.414213562373096,9.414213562373096],\\\"type\\\":\\\"scatter\\\",\\\"fill\\\":\\\"toself\\\",\\\"hoverinfo\\\":\\\"skip\\\",\\\"yaxis\\\":\\\"y\\\",\\\"x\\\":[0.0,0.23702213168144226,0.23702213168144226,0.0]},{\\\"showlegend\\\":false,\\\"mode\\\":\\\"lines\\\",\\\"xaxis\\\":\\\"x2\\\",\\\"line\\\":{\\\"color\\\":\\\"#666666\\\"},\\\"y\\\":[2.875,20.088521918265894,null,2.875,2.875,null,20.088521918265894,20.088521918265894,null],\\\"type\\\":\\\"scatter\\\",\\\"hoverinfo\\\":\\\"skip\\\",\\\"yaxis\\\":\\\"y\\\",\\\"x\\\":[0.8914858102798462,0.8914858102798462,null,0.8914858102798462,0.5844318866729736,null,0.8914858102798462,0.8681948184967041,null]},{\\\"showlegend\\\":false,\\\"mode\\\":\\\"lines\\\",\\\"xaxis\\\":\\\"x2\\\",\\\"line\\\":{\\\"color\\\":\\\"#666666\\\"},\\\"y\\\":[15.08654851942814,25.090495317103645,null,15.08654851942814,15.08654851942814,null,25.090495317103645,25.090495317103645,null],\\\"type\\\":\\\"scatter\\\",\\\"hoverinfo\\\":\\\"skip\\\",\\\"yaxis\\\":\\\"y\\\",\\\"x\\\":[0.8681948184967041,0.8681948184967041,null,0.8681948184967041,0.6237499713897705,null,0.8681948184967041,0.8267649412155151,null]},{\\\"showlegend\\\":false,\\\"mode\\\":\\\"lines\\\",\\\"xaxis\\\":\\\"x2\\\",\\\"line\\\":{\\\"color\\\":\\\"#666666\\\"},\\\"y\\\":[14.414213562373096,17.414213562373096,null,14.414213562373096,14.414213562373096,null,17.414213562373096,17.414213562373096,null],\\\"type\\\":\\\"scatter\\\",\\\"hoverinfo\\\":\\\"skip\\\",\\\"yaxis\\\":\\\"y\\\",\\\"x\\\":[0.5650663375854492,0.5650663375854492,null,0.5650663375854492,0.5294764041900635,null,0.5650663375854492,0.0,null]},{\\\"showlegend\\\":false,\\\"mode\\\":\\\"lines\\\",\\\"xaxis\\\":\\\"x2\\\",\\\"line\\\":{\\\"color\\\":\\\"#666666\\\"},\\\"y\\\":[12.914213562373096,14.914213562373096,null,12.914213562373096,12.914213562373096,null,14.914213562373096,14.914213562373096,null],\\\"type\\\":\\\"scatter\\\",\\\"hoverinfo\\\":\\\"skip\\\",\\\"yaxis\\\":\\\"y\\\",\\\"x\\\":[0.46563979983329773,0.46563979983329773,null,0.46563979983329773,0.18958428502082825,null,0.46563979983329773,0.3004005253314972,null]},{\\\"showlegend\\\":false,\\\"mode\\\":\\\"lines\\\",\\\"xaxis\\\":\\\"x2\\\",\\\"line\\\":{\\\"color\\\":\\\"#666666\\\"},\\\"y\\\":[24.646264369941974,26.146264369941974,null,24.646264369941974,24.646264369941974,null,26.146264369941974,26.146264369941974,null],\\\"type\\\":\\\"scatter\\\",\\\"hoverinfo\\\":\\\"skip\\\",\\\"yaxis\\\":\\\"y\\\",\\\"x\\\":[0.43841516971588135,0.43841516971588135,null,0.43841516971588135,0.18704663217067719,null,0.43841516971588135,0.0,null]},{\\\"showlegend\\\":false,\\\"mode\\\":\\\"lines\\\",\\\"xaxis\\\":\\\"x2\\\",\\\"line\\\":{\\\"color\\\":\\\"#666666\\\"},\\\"y\\\":[14.414213562373096,14.414213562373096,15.414213562373096,15.414213562373096],\\\"type\\\":\\\"scatter\\\",\\\"fill\\\":\\\"toself\\\",\\\"hoverinfo\\\":\\\"skip\\\",\\\"yaxis\\\":\\\"y\\\",\\\"x\\\":[0.0,0.3004005253314972,0.3004005253314972,0.0]},{\\\"showlegend\\\":false,\\\"mode\\\":\\\"lines\\\",\\\"xaxis\\\":\\\"x2\\\",\\\"line\\\":{\\\"color\\\":\\\"#666666\\\"},\\\"y\\\":[27.646264369941974,29.646264369941974,null,27.646264369941974,27.646264369941974,null,29.646264369941974,29.646264369941974,null],\\\"type\\\":\\\"scatter\\\",\\\"hoverinfo\\\":\\\"skip\\\",\\\"yaxis\\\":\\\"y\\\",\\\"x\\\":[0.4941309988498688,0.4941309988498688,null,0.4941309988498688,0.1703633815050125,null,0.4941309988498688,0.4152263402938843,null]},{\\\"showlegend\\\":false,\\\"mode\\\":\\\"lines\\\",\\\"xaxis\\\":\\\"x2\\\",\\\"line\\\":{\\\"color\\\":\\\"#666666\\\"},\\\"y\\\":[1.5,4.25,null,1.5,1.5,null,4.25,4.25,null],\\\"type\\\":\\\"scatter\\\",\\\"hoverinfo\\\":\\\"skip\\\",\\\"yaxis\\\":\\\"y\\\",\\\"x\\\":[0.5844318866729736,0.5844318866729736,null,0.5844318866729736,0.5058441758155823,null,0.5844318866729736,0.5588139295578003,null]},{\\\"showlegend\\\":false,\\\"mode\\\":\\\"lines\\\",\\\"xaxis\\\":\\\"x2\\\",\\\"line\\\":{\\\"color\\\":\\\"#666666\\\"},\\\"y\\\":[6.0,6.0,7.0,7.0],\\\"type\\\":\\\"scatter\\\",\\\"fill\\\":\\\"toself\\\",\\\"hoverinfo\\\":\\\"skip\\\",\\\"yaxis\\\":\\\"y\\\",\\\"x\\\":[0.0,0.01225490216165781,0.01225490216165781,0.0]},{\\\"showlegend\\\":false,\\\"mode\\\":\\\"lines\\\",\\\"xaxis\\\":\\\"x2\\\",\\\"line\\\":{\\\"color\\\":\\\"#666666\\\"},\\\"y\\\":[27.021264369941974,31.146264369941974,null,27.021264369941974,27.021264369941974,null,31.146264369941974,31.146264369941974,null],\\\"type\\\":\\\"scatter\\\",\\\"hoverinfo\\\":\\\"skip\\\",\\\"yaxis\\\":\\\"y\\\",\\\"x\\\":[0.5448741912841797,0.5448741912841797,null,0.5448741912841797,0.5007727742195129,null,0.5448741912841797,0.0,null]},{\\\"showlegend\\\":false,\\\"mode\\\":\\\"lines\\\",\\\"xaxis\\\":\\\"x2\\\",\\\"line\\\":{\\\"color\\\":\\\"#666666\\\"},\\\"y\\\":[19.414213562373096,19.414213562373096,20.414213562373096,20.414213562373096],\\\"type\\\":\\\"scatter\\\",\\\"fill\\\":\\\"toself\\\",\\\"hoverinfo\\\":\\\"skip\\\",\\\"yaxis\\\":\\\"y\\\",\\\"x\\\":[0.0,0.30405688285827637,0.30405688285827637,0.0]},{\\\"showlegend\\\":false,\\\"mode\\\":\\\"lines\\\",\\\"xaxis\\\":\\\"x2\\\",\\\"line\\\":{\\\"color\\\":\\\"#666666\\\"},\\\"y\\\":[21.097226264265316,29.083764369941974,null,21.097226264265316,21.097226264265316,null,29.083764369941974,29.083764369941974,null],\\\"type\\\":\\\"scatter\\\",\\\"hoverinfo\\\":\\\"skip\\\",\\\"yaxis\\\":\\\"y\\\",\\\"x\\\":[0.8267649412155151,0.8267649412155151,null,0.8267649412155151,0.3578336536884308,null,0.8267649412155151,0.5448741912841797,null]},{\\\"showlegend\\\":false,\\\"mode\\\":\\\"lines\\\",\\\"xaxis\\\":\\\"x2\\\",\\\"line\\\":{\\\"color\\\":\\\"#666666\\\"},\\\"y\\\":[10.414213562373096,10.414213562373096,11.414213562373096,11.414213562373096],\\\"type\\\":\\\"scatter\\\",\\\"fill\\\":\\\"toself\\\",\\\"hoverinfo\\\":\\\"skip\\\",\\\"yaxis\\\":\\\"y\\\",\\\"x\\\":[0.0,0.005164319183677435,0.005164319183677435,0.0]},{\\\"showlegend\\\":false,\\\"mode\\\":\\\"lines\\\",\\\"xaxis\\\":\\\"x2\\\",\\\"line\\\":{\\\"color\\\":\\\"#666666\\\"},\\\"y\\\":[12.414213562373096,16.414213562373096,null,12.414213562373096,12.414213562373096,null,16.414213562373096,16.414213562373096,null],\\\"type\\\":\\\"scatter\\\",\\\"hoverinfo\\\":\\\"skip\\\",\\\"yaxis\\\":\\\"y\\\",\\\"x\\\":[0.5294764041900635,0.5294764041900635,null,0.5294764041900635,0.488546758890152,null,0.5294764041900635,0.0,null]},{\\\"showlegend\\\":false,\\\"mode\\\":\\\"lines\\\",\\\"xaxis\\\":\\\"x2\\\",\\\"line\\\":{\\\"color\\\":\\\"#666666\\\"},\\\"y\\\":[29.146264369941974,30.146264369941974,null,29.146264369941974,29.146264369941974,null,30.146264369941974,30.146264369941974,null],\\\"type\\\":\\\"scatter\\\",\\\"hoverinfo\\\":\\\"skip\\\",\\\"yaxis\\\":\\\"y\\\",\\\"x\\\":[0.4152263402938843,0.4152263402938843,null,0.4152263402938843,0.0,null,0.4152263402938843,0.0,null]},{\\\"showlegend\\\":false,\\\"mode\\\":\\\"lines\\\",\\\"xaxis\\\":\\\"x2\\\",\\\"line\\\":{\\\"color\\\":\\\"#666666\\\"},\\\"y\\\":[12.414213562373096,12.414213562373096,13.414213562373096,13.414213562373096],\\\"type\\\":\\\"scatter\\\",\\\"fill\\\":\\\"toself\\\",\\\"hoverinfo\\\":\\\"skip\\\",\\\"yaxis\\\":\\\"y\\\",\\\"x\\\":[0.0,0.18958428502082825,0.18958428502082825,0.0]},{\\\"showlegend\\\":false,\\\"mode\\\":\\\"lines\\\",\\\"xaxis\\\":\\\"x2\\\",\\\"line\\\":{\\\"color\\\":\\\"#666666\\\"},\\\"y\\\":[10.914213562373096,13.914213562373096,null,10.914213562373096,10.914213562373096,null,13.914213562373096,13.914213562373096,null],\\\"type\\\":\\\"scatter\\\",\\\"hoverinfo\\\":\\\"skip\\\",\\\"yaxis\\\":\\\"y\\\",\\\"x\\\":[0.488546758890152,0.488546758890152,null,0.488546758890152,0.005164319183677435,null,0.488546758890152,0.46563979983329773,null]},{\\\"showlegend\\\":false,\\\"mode\\\":\\\"markers\\\",\\\"xaxis\\\":\\\"x2\\\",\\\"marker\\\":{\\\"color\\\":\\\"#666666\\\",\\\"size\\\":[8,4,8,8,8,4,8,8,8,8,4,8,8,4,4,8,4,8,4,8,8,8,4,4,8,4,4,8,4]},\\\"y\\\":[21.097226264265316,27.021264369941974,7.603553390593274,24.646264369941974,15.08654851942814,22.280238966157533,27.646264369941974,1.5,3.5,11.758883476483184,4.25,8.707106781186548,11.481760959132947,20.088521918265894,15.914213562373096,13.914213562373096,25.396264369941974,14.914213562373096,28.646264369941974,2.875,6.5,29.083764369941974,19.914213562373096,25.090495317103645,10.914213562373096,14.414213562373096,29.646264369941974,12.914213562373096,12.414213562373096],\\\"type\\\":\\\"scatter\\\",\\\"customdata\\\":[[47,6],[54,7],[50,5],[40,2],[62,14],[46,4],[39,2],[55,2],[35,2],[60,13],[58,3],[42,3],[65,33],[64,28],[59,8],[51,4],[49,3],[44,2],[53,4],[61,5],[38,2],[57,8],[45,2],[63,14],[36,2],[56,7],[48,2],[41,2],[52,6]],\\\"yaxis\\\":\\\"y\\\",\\\"hovertemplate\\\":\\\"ID: %{customdata[0]}<br>\\\\nHeight: %{x:.3f}<br>\\\\nGenome count: %{customdata[1]}\\\\n\\\\n<extra><\\/extra>\\\",\\\"x\\\":[0.3578336536884308,0.5007727742195129,0.4625678062438965,0.18704663217067719,0.6237499713897705,0.32204756140708923,0.1703633815050125,0.5058441758155823,0.004932735580950975,0.5678813457489014,0.5588139295578003,0.23702213168144226,0.8914858102798462,0.8681948184967041,0.5650663375854492,0.46563979983329773,0.43841516971588135,0.3004005253314972,0.4941309988498688,0.5844318866729736,0.01225490216165781,0.5448741912841797,0.30405688285827637,0.8267649412155151,0.005164319183677435,0.5294764041900635,0.4152263402938843,0.18958428502082825,0.488546758890152]},{\\\"marker\\\":{\\\"symbol\\\":\\\"line-ns\\\",\\\"color\\\":\\\"green\\\",\\\"line\\\":{\\\"color\\\":\\\"green\\\",\\\"width\\\":1}},\\\"mode\\\":\\\"markers\\\",\\\"xaxis\\\":\\\"x2\\\",\\\"y\\\":[-1,-1],\\\"type\\\":\\\"scatter\\\",\\\"text\\\":[\\\"hwasookii\\\"],\\\"hovertemplate\\\":\\\"%{text} <br>\\\\n%{x}\\\\n<extra><\\/extra>\\\\n\\\",\\\"x\\\":[0.78724]}],{\\\"showlegend\\\":false,\\\"xaxis\\\":{\\\"scaleanchor\\\":\\\"y\\\",\\\"visible\\\":false,\\\"domain\\\":[0.504950495049505,1.0]},\\\"hovermode\\\":\\\"closest\\\",\\\"xaxis2\\\":{\\\"rangemode\\\":\\\"nonnegative\\\",\\\"spikethickness\\\":1,\\\"showspikes\\\":true,\\\"domain\\\":[0.0,0.49504950495049505],\\\"spikemode\\\":\\\"across\\\",\\\"autorange\\\":\\\"reversed\\\",\\\"spikedash\\\":\\\"solid\\\"},\\\"height\\\":550,\\\"margin\\\":{\\\"l\\\":50,\\\"b\\\":50,\\\"r\\\":50,\\\"t\\\":60},\\\"yaxis\\\":{\\\"scaleanchor\\\":\\\"x\\\",\\\"visible\\\":false},\\\"width\\\":1000},{}); gd.on(\\\"plotly_hover\\\",(function (data){var filtered_data=WebIO.PlotlyCommands.filterEventData(gd,data,\\\"hover\\\"); return !(filtered_data.isnil) ? (WebIO.setval({\\\"name\\\":\\\"hover\\\",\\\"scope\\\":\\\"6295280581491695213\\\",\\\"id\\\":\\\"4474608338839267925\\\",\\\"type\\\":\\\"observable\\\"},filtered_data.out)) : undefined})); gd.on(\\\"plotly_unhover\\\",(function (){return WebIO.setval({\\\"name\\\":\\\"hover\\\",\\\"scope\\\":\\\"6295280581491695213\\\",\\\"id\\\":\\\"4474608338839267925\\\",\\\"type\\\":\\\"observable\\\"},{})})); gd.on(\\\"plotly_selected\\\",(function (data){var filtered_data=WebIO.PlotlyCommands.filterEventData(gd,data,\\\"selected\\\"); return !(filtered_data.isnil) ? (WebIO.setval({\\\"name\\\":\\\"selected\\\",\\\"scope\\\":\\\"6295280581491695213\\\",\\\"id\\\":\\\"14188018313839104360\\\",\\\"type\\\":\\\"observable\\\"},filtered_data.out)) : undefined})); gd.on(\\\"plotly_deselect\\\",(function (){return WebIO.setval({\\\"name\\\":\\\"selected\\\",\\\"scope\\\":\\\"6295280581491695213\\\",\\\"id\\\":\\\"14188018313839104360\\\",\\\"type\\\":\\\"observable\\\"},{})})); gd.on(\\\"plotly_relayout\\\",(function (data){var filtered_data=WebIO.PlotlyCommands.filterEventData(gd,data,\\\"relayout\\\"); return !(filtered_data.isnil) ? (WebIO.setval({\\\"name\\\":\\\"relayout\\\",\\\"scope\\\":\\\"6295280581491695213\\\",\\\"id\\\":\\\"13430652424131474953\\\",\\\"type\\\":\\\"observable\\\"},filtered_data.out)) : undefined})); return gd.on(\\\"plotly_click\\\",(function (data){var filtered_data=WebIO.PlotlyCommands.filterEventData(gd,data,\\\"click\\\"); return !(filtered_data.isnil) ? (WebIO.setval({\\\"name\\\":\\\"click\\\",\\\"scope\\\":\\\"6295280581491695213\\\",\\\"id\\\":\\\"15941174143262047288\\\",\\\"type\\\":\\\"observable\\\"},filtered_data.out)) : undefined}))}));\\n    (WebIO.importBlock({\\\"data\\\":[{\\\"name\\\":\\\"Plotly\\\",\\\"type\\\":\\\"js\\\",\\\"url\\\":\\\"\\/assetserver\\/e6903599031aaef8675931dfcd7df98a1aeffbfc-plotly-latest.min.js\\\"},{\\\"name\\\":null,\\\"type\\\":\\\"js\\\",\\\"url\\\":\\\"\\/assetserver\\/74a5dea81f21b0b802ef1ee92f1c8a504eac1a0c-plotly_webio.bundle.js\\\"}],\\\"type\\\":\\\"async_block\\\"})).then((imports) => handler.apply(this, imports));\\n}\\n\"],\"observables\":{\"_toImage\":{\"sync\":false,\"id\":\"4227437832742486249\",\"value\":{}},\"hover\":{\"sync\":false,\"id\":\"4474608338839267925\",\"value\":{}},\"selected\":{\"sync\":false,\"id\":\"14188018313839104360\",\"value\":{}},\"__gd_contents\":{\"sync\":false,\"id\":\"10244139748212273275\",\"value\":{}},\"click\":{\"sync\":false,\"id\":\"15941174143262047288\",\"value\":{}},\"image\":{\"sync\":true,\"id\":\"17467423077202879811\",\"value\":\"\"},\"__get_gd_contents\":{\"sync\":false,\"id\":\"14189976503246896713\",\"value\":\"\"},\"_downloadImage\":{\"sync\":false,\"id\":\"14393919323130752413\",\"value\":{}},\"relayout\":{\"sync\":false,\"id\":\"13430652424131474953\",\"value\":{}},\"_commands\":{\"sync\":false,\"id\":\"7633210266409316628\",\"value\":[]}}},\"children\":[{\"props\":{\"id\":\"plot-6fd9f856-d75f-4239-ab3d-2b10857e3aab\"},\"nodeType\":\"DOM\",\"type\":\"node\",\"instanceArgs\":{\"namespace\":\"html\",\"tag\":\"div\"},\"children\":[]}]},\n",
       "            window,\n",
       "        );\n",
       "    } else {\n",
       "        document\n",
       "            .querySelector('[data-webio-mountpoint=\"8609746710059639136\"]')\n",
       "            .innerHTML = (\n",
       "                '<div style=\"padding: 1em; background-color: #f8d6da; border: 1px solid #f5c6cb\">' +\n",
       "                '<p><strong>WebIO not detected.</strong></p>' +\n",
       "                '<p>Please read ' +\n",
       "                '<a href=\"https://juliagizmos.github.io/WebIO.jl/latest/troubleshooting/not-detected/\" target=\"_blank\">the troubleshooting guide</a> ' +\n",
       "                'for more information on how to resolve this issue.</p>' +\n",
       "                '<p><a href=\"https://juliagizmos.github.io/WebIO.jl/latest/troubleshooting/not-detected/\" target=\"_blank\">https://juliagizmos.github.io/WebIO.jl/latest/troubleshooting/not-detected/</a></p>' +\n",
       "                '</div>'\n",
       "            );\n",
       "    }\n",
       "    </script>\n",
       "</div>\n"
      ],
      "text/plain": [
       "data: [\n",
       "  \"heatmap with fields colorscale, type, x, y, and z\",\n",
       "  \"scatter with fields hoverinfo, line, mode, showlegend, type, x, xaxis, y, and yaxis\",\n",
       "  \"scatter with fields hoverinfo, line, mode, showlegend, type, x, xaxis, y, and yaxis\",\n",
       "  \"scatter with fields hoverinfo, line, mode, showlegend, type, x, xaxis, y, and yaxis\",\n",
       "  \"scatter with fields fill, hoverinfo, line, mode, showlegend, type, x, xaxis, y, and yaxis\",\n",
       "  \"scatter with fields hoverinfo, line, mode, showlegend, type, x, xaxis, y, and yaxis\",\n",
       "  \"scatter with fields fill, hoverinfo, line, mode, showlegend, type, x, xaxis, y, and yaxis\",\n",
       "  \"scatter with fields fill, hoverinfo, line, mode, showlegend, type, x, xaxis, y, and yaxis\",\n",
       "  \"scatter with fields hoverinfo, line, mode, showlegend, type, x, xaxis, y, and yaxis\",\n",
       "  \"scatter with fields fill, hoverinfo, line, mode, showlegend, type, x, xaxis, y, and yaxis\",\n",
       "  \"scatter with fields hoverinfo, line, mode, showlegend, type, x, xaxis, y, and yaxis\",\n",
       "  \"scatter with fields hoverinfo, line, mode, showlegend, type, x, xaxis, y, and yaxis\",\n",
       "  \"scatter with fields fill, hoverinfo, line, mode, showlegend, type, x, xaxis, y, and yaxis\",\n",
       "  \"scatter with fields hoverinfo, line, mode, showlegend, type, x, xaxis, y, and yaxis\",\n",
       "  \"scatter with fields hoverinfo, line, mode, showlegend, type, x, xaxis, y, and yaxis\",\n",
       "  \"scatter with fields hoverinfo, line, mode, showlegend, type, x, xaxis, y, and yaxis\",\n",
       "  \"scatter with fields hoverinfo, line, mode, showlegend, type, x, xaxis, y, and yaxis\",\n",
       "  \"scatter with fields hoverinfo, line, mode, showlegend, type, x, xaxis, y, and yaxis\",\n",
       "  \"scatter with fields fill, hoverinfo, line, mode, showlegend, type, x, xaxis, y, and yaxis\",\n",
       "  \"scatter with fields hoverinfo, line, mode, showlegend, type, x, xaxis, y, and yaxis\",\n",
       "  \"scatter with fields hoverinfo, line, mode, showlegend, type, x, xaxis, y, and yaxis\",\n",
       "  \"scatter with fields fill, hoverinfo, line, mode, showlegend, type, x, xaxis, y, and yaxis\",\n",
       "  \"scatter with fields hoverinfo, line, mode, showlegend, type, x, xaxis, y, and yaxis\",\n",
       "  \"scatter with fields fill, hoverinfo, line, mode, showlegend, type, x, xaxis, y, and yaxis\",\n",
       "  \"scatter with fields hoverinfo, line, mode, showlegend, type, x, xaxis, y, and yaxis\",\n",
       "  \"scatter with fields fill, hoverinfo, line, mode, showlegend, type, x, xaxis, y, and yaxis\",\n",
       "  \"scatter with fields hoverinfo, line, mode, showlegend, type, x, xaxis, y, and yaxis\",\n",
       "  \"scatter with fields hoverinfo, line, mode, showlegend, type, x, xaxis, y, and yaxis\",\n",
       "  \"scatter with fields fill, hoverinfo, line, mode, showlegend, type, x, xaxis, y, and yaxis\",\n",
       "  \"scatter with fields hoverinfo, line, mode, showlegend, type, x, xaxis, y, and yaxis\",\n",
       "  \"scatter with fields customdata, hovertemplate, marker, mode, showlegend, type, x, xaxis, y, and yaxis\",\n",
       "  \"scatter with fields hovertemplate, marker, mode, text, type, x, xaxis, and y\"\n",
       "]\n",
       "\n",
       "layout: \"layout with fields height, hovermode, margin, showlegend, width, xaxis, xaxis2, and yaxis\"\n",
       "\n"
      ]
     },
     "execution_count": 5,
     "metadata": {},
     "output_type": "execute_result"
    }
   ],
   "source": [
    "let taxon = \"nucleatum\"\n",
    "    trees[taxon] = cluster_annotate(cdata, taxon)\n",
    "    plot(clustermap(cdata, trees[taxon]))\n",
    "end"
   ]
  },
  {
   "cell_type": "code",
   "execution_count": 6,
   "id": "fallen-ridge",
   "metadata": {},
   "outputs": [
    {
     "data": {
      "text/plain": [
       "0.65"
      ]
     },
     "execution_count": 6,
     "metadata": {},
     "output_type": "execute_result"
    }
   ],
   "source": [
    "set_threshold!(edits, \"nucleatum\", .65)"
   ]
  },
  {
   "cell_type": "markdown",
   "id": "ordinary-salvation",
   "metadata": {},
   "source": [
    "## Finish"
   ]
  },
  {
   "cell_type": "code",
   "execution_count": 7,
   "id": "electronic-society",
   "metadata": {},
   "outputs": [
    {
     "data": {
      "text/html": [
       "<table class=\"data-frame\"><thead><tr><th></th><th>index</th><th>name</th><th>ngenomes</th><th>initial_diameter</th><th>taxon_removed</th><th>removed_genomes</th><th>split</th><th>manual_threshold</th><th>final_diameter</th></tr><tr><th></th><th>Int64</th><th>SubStri…</th><th>Int64</th><th>Float32</th><th>Bool</th><th>Int64</th><th>String</th><th>Float64?</th><th>String</th></tr></thead><tbody><p>1 rows × 9 columns</p><tr><th>1</th><td>1</td><td>nucleatum</td><td>33</td><td>0.891486</td><td>0</td><td>0</td><td></td><td>0.65</td><td>0.8915</td></tr></tbody></table>"
      ],
      "text/latex": [
       "\\begin{tabular}{r|ccccccccc}\n",
       "\t& index & name & ngenomes & initial\\_diameter & taxon\\_removed & removed\\_genomes & split & manual\\_threshold & final\\_diameter\\\\\n",
       "\t\\hline\n",
       "\t& Int64 & SubStri… & Int64 & Float32 & Bool & Int64 & String & Float64? & String\\\\\n",
       "\t\\hline\n",
       "\t1 & 1 & nucleatum & 33 & 0.891486 & 0 & 0 &  & 0.65 & 0.8915 \\\\\n",
       "\\end{tabular}\n"
      ],
      "text/plain": [
       "\u001b[1m1×9 DataFrame\u001b[0m\n",
       "\u001b[1m Row \u001b[0m│\u001b[1m index \u001b[0m\u001b[1m name      \u001b[0m\u001b[1m ngenomes \u001b[0m\u001b[1m initial_diameter \u001b[0m\u001b[1m taxon_removed \u001b[0m\u001b[1m removed_genomes \u001b[0m\u001b[1m split  \u001b[0m\u001b[1m manual_threshold \u001b[0m\u001b[1m final_diameter \u001b[0m\n",
       "\u001b[1m     \u001b[0m│\u001b[90m Int64 \u001b[0m\u001b[90m SubStrin… \u001b[0m\u001b[90m Int64    \u001b[0m\u001b[90m Float32          \u001b[0m\u001b[90m Bool          \u001b[0m\u001b[90m Int64           \u001b[0m\u001b[90m String \u001b[0m\u001b[90m Float64?         \u001b[0m\u001b[90m String         \u001b[0m\n",
       "─────┼────────────────────────────────────────────────────────────────────────────────────────────────────────────────────────\n",
       "   1 │     1  nucleatum        33          0.891486          false                0                      0.65  0.8915"
      ]
     },
     "execution_count": 7,
     "metadata": {},
     "output_type": "execute_result"
    }
   ],
   "source": [
    "complete_edits(edits)"
   ]
  }
 ],
 "metadata": {
  "@webio": {
   "lastCommId": "33667e0b-06d6-4432-bd39-6922c96fb2af",
   "lastKernelId": "2dfce4b9-11b7-4c9d-9989-bbdc0fb10af9"
  },
  "kernelspec": {
   "display_name": "Julia 1.5.1",
   "language": "julia",
   "name": "julia-1.5"
  },
  "language_info": {
   "file_extension": ".jl",
   "mimetype": "application/julia",
   "name": "julia",
   "version": "1.5.1"
  }
 },
 "nbformat": 4,
 "nbformat_minor": 5
}
