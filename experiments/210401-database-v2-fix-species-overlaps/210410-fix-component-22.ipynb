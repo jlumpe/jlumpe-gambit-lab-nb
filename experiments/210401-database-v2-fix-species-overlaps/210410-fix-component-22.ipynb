{
 "cells": [
  {
   "cell_type": "markdown",
   "id": "affiliated-instruction",
   "metadata": {},
   "source": [
    "# 210410 Fix Component 22"
   ]
  },
  {
   "cell_type": "code",
   "execution_count": 1,
   "id": "underlying-malta",
   "metadata": {},
   "outputs": [],
   "source": [
    "const COMPONENT = 22;"
   ]
  },
  {
   "cell_type": "code",
   "execution_count": 2,
   "id": "freelance-officer",
   "metadata": {},
   "outputs": [
    {
     "data": {
      "text/html": [
       "<script>\n",
       "// Immediately-invoked-function-expression to avoid global variables.\n",
       "(function() {\n",
       "    var warning_div = document.getElementById(\"webio-warning-12646098387445811059\");\n",
       "    var hide = function () {\n",
       "        var script = document.getElementById(\"webio-setup-12866329585503328702\");\n",
       "        var parent = script && script.parentElement;\n",
       "        var grandparent = parent && parent.parentElement;\n",
       "        if (grandparent) {\n",
       "            grandparent.style.display = \"none\";\n",
       "        }\n",
       "        warning_div.style.display = \"none\";\n",
       "    };\n",
       "    if (typeof Jupyter !== \"undefined\") {\n",
       "        console.log(\"WebIO detected Jupyter notebook environment.\");\n",
       "        // Jupyter notebook.\n",
       "        var extensions = (\n",
       "            Jupyter\n",
       "            && Jupyter.notebook.config.data\n",
       "            && Jupyter.notebook.config.data.load_extensions\n",
       "        );\n",
       "        if (extensions && extensions[\"webio-jupyter-notebook\"]) {\n",
       "            // Extension already loaded.\n",
       "            console.log(\"Jupyter WebIO nbextension detected; not loading ad-hoc.\");\n",
       "            hide();\n",
       "            return;\n",
       "        }\n",
       "    } else if (window.location.pathname.includes(\"/lab\")) {\n",
       "        // Guessing JupyterLa\n",
       "        console.log(\"Jupyter Lab detected; make sure the @webio/jupyter-lab-provider labextension is installed.\");\n",
       "        hide();\n",
       "        return;\n",
       "    }\n",
       "})();\n",
       "\n",
       "</script>\n",
       "<p\n",
       "    id=\"webio-warning-12646098387445811059\"\n",
       "    class=\"output_text output_stderr\"\n",
       "    style=\"padding: 1em; font-weight: bold;\"\n",
       ">\n",
       "    Unable to load WebIO. Please make sure WebIO works for your Jupyter client.\n",
       "    For troubleshooting, please see <a href=\"https://juliagizmos.github.io/WebIO.jl/latest/providers/ijulia/\">\n",
       "    the WebIO/IJulia documentation</a>.\n",
       "    <!-- TODO: link to installation docs. -->\n",
       "</p>\n"
      ],
      "text/plain": [
       "HTML{String}(\"<script>\\n// Immediately-invoked-function-expression to avoid global variables.\\n(function() {\\n    var warning_div = document.getElementById(\\\"webio-warning-12646098387445811059\\\");\\n    var hide = function () {\\n        var script = document.getElementById(\\\"webio-setup-12866329585503328702\\\");\\n        var parent = script && script.parentElement;\\n        var grandparent = parent && parent.parentElement;\\n        if (grandparent) {\\n            grandparent.style.display = \\\"none\\\";\\n        }\\n        warning_div.style.display = \\\"none\\\";\\n    };\\n    if (typeof Jupyter !== \\\"undefined\\\") {\\n        console.log(\\\"WebIO detected Jupyter notebook environment.\\\");\\n        // Jupyter notebook.\\n        var extensions = (\\n            Jupyter\\n            && Jupyter.notebook.config.data\\n            && Jupyter.notebook.config.data.load_extensions\\n        );\\n        if (extensions && extensions[\\\"webio-jupyter-notebook\\\"]) {\\n            // Extension already loaded.\\n            console.log(\\\"Jupyter WebIO nbextension detected; not loading ad-hoc.\\\");\\n            hide();\\n            return;\\n        }\\n    } else if (window.location.pathname.includes(\\\"/lab\\\")) {\\n        // Guessing JupyterLa\\n        console.log(\\\"Jupyter Lab detected; make sure the @webio/jupyter-lab-provider labextension is installed.\\\");\\n        hide();\\n        return;\\n    }\\n})();\\n\\n</script>\\n<p\\n    id=\\\"webio-warning-12646098387445811059\\\"\\n    class=\\\"output_text output_stderr\\\"\\n    style=\\\"padding: 1em; font-weight: bold;\\\"\\n>\\n    Unable to load WebIO. Please make sure WebIO works for your Jupyter client.\\n    For troubleshooting, please see <a href=\\\"https://juliagizmos.github.io/WebIO.jl/latest/providers/ijulia/\\\">\\n    the WebIO/IJulia documentation</a>.\\n    <!-- TODO: link to installation docs. -->\\n</p>\\n\")"
      ]
     },
     "metadata": {},
     "output_type": "display_data"
    },
    {
     "data": {
      "text/html": [
       "<table class=\"data-frame\"><thead><tr><th></th><th>id</th><th>ncbi_id</th><th>name</th><th>rank</th><th>parent_id</th><th>in_v12</th><th>manual_threshold</th><th>report</th><th>ngenomes</th><th>comp_idx</th><th>diameter</th><th>outgoing</th><th>incoming</th><th>name_abbr</th></tr><tr><th></th><th>Int64</th><th>Int64?</th><th>String</th><th>String?</th><th>Int64?</th><th>Bool</th><th>Float64</th><th>Bool</th><th>Int64</th><th>Int64</th><th>Float32</th><th>Int64</th><th>Int64</th><th>SubStri…</th></tr></thead><tbody><p>2 rows × 14 columns</p><tr><th>1</th><td>667</td><td>663</td><td>Vibrio alginolyticus</td><td>species</td><td>172</td><td>1</td><td>NaN</td><td>1</td><td>18</td><td>1</td><td>0.801089</td><td>1</td><td>1</td><td>alginolyticus</td></tr><tr><th>2</th><td>955</td><td>50719</td><td>Vibrio diabolicus</td><td>species</td><td>172</td><td>1</td><td>NaN</td><td>1</td><td>3</td><td>2</td><td>0.463938</td><td>1</td><td>1</td><td>diabolicus</td></tr></tbody></table>"
      ],
      "text/latex": [
       "\\begin{tabular}{r|cccccccccccccc}\n",
       "\t& id & ncbi\\_id & name & rank & parent\\_id & in\\_v12 & manual\\_threshold & report & ngenomes & comp\\_idx & diameter & outgoing & incoming & name\\_abbr\\\\\n",
       "\t\\hline\n",
       "\t& Int64 & Int64? & String & String? & Int64? & Bool & Float64 & Bool & Int64 & Int64 & Float32 & Int64 & Int64 & SubStri…\\\\\n",
       "\t\\hline\n",
       "\t1 & 667 & 663 & Vibrio alginolyticus & species & 172 & 1 & NaN & 1 & 18 & 1 & 0.801089 & 1 & 1 & alginolyticus \\\\\n",
       "\t2 & 955 & 50719 & Vibrio diabolicus & species & 172 & 1 & NaN & 1 & 3 & 2 & 0.463938 & 1 & 1 & diabolicus \\\\\n",
       "\\end{tabular}\n"
      ],
      "text/plain": [
       "\u001b[1m2×14 DataFrame\u001b[0m\n",
       "\u001b[1m Row \u001b[0m│\u001b[1m id    \u001b[0m\u001b[1m ncbi_id \u001b[0m\u001b[1m name                 \u001b[0m\u001b[1m rank    \u001b[0m\u001b[1m parent_id \u001b[0m\u001b[1m in_v12 \u001b[0m\u001b[1m manual_threshold \u001b[0m\u001b[1m report \u001b[0m\u001b[1m ngenomes \u001b[0m\u001b[1m comp_idx \u001b[0m\u001b[1m diameter \u001b[0m\u001b[1m outgoing \u001b[0m\u001b[1m incoming \u001b[0m\u001b[1m name_abbr     \u001b[0m\n",
       "\u001b[1m     \u001b[0m│\u001b[90m Int64 \u001b[0m\u001b[90m Int64?  \u001b[0m\u001b[90m String               \u001b[0m\u001b[90m String? \u001b[0m\u001b[90m Int64?    \u001b[0m\u001b[90m Bool   \u001b[0m\u001b[90m Float64          \u001b[0m\u001b[90m Bool   \u001b[0m\u001b[90m Int64    \u001b[0m\u001b[90m Int64    \u001b[0m\u001b[90m Float32  \u001b[0m\u001b[90m Int64    \u001b[0m\u001b[90m Int64    \u001b[0m\u001b[90m SubStrin…     \u001b[0m\n",
       "─────┼─────────────────────────────────────────────────────────────────────────────────────────────────────────────────────────────────────────────────────────────\n",
       "   1 │   667      663  Vibrio alginolyticus  species        172    true              NaN     true        18         1  0.801089         1         1  alginolyticus\n",
       "   2 │   955    50719  Vibrio diabolicus     species        172    true              NaN     true         3         2  0.463938         1         1  diabolicus"
      ]
     },
     "metadata": {},
     "output_type": "display_data"
    }
   ],
   "source": [
    "include(\"fix-component-base.jl\");"
   ]
  },
  {
   "cell_type": "code",
   "execution_count": 3,
   "id": "brief-concord",
   "metadata": {},
   "outputs": [],
   "source": [
    "trees = Dict{String, Any}();"
   ]
  },
  {
   "cell_type": "markdown",
   "id": "exact-procurement",
   "metadata": {},
   "source": [
    "## Edits"
   ]
  },
  {
   "cell_type": "code",
   "execution_count": 4,
   "id": "wireless-maria",
   "metadata": {},
   "outputs": [
    {
     "data": {
      "application/vnd.plotly.v1+json": {
       "data": [
        {
         "hoverinfo": "skip",
         "line": {
          "color": "#AEC7E8"
         },
         "mode": "lines",
         "showlegend": false,
         "type": "scatter",
         "x": [
          5,
          6,
          null,
          5,
          5,
          null,
          6,
          6,
          null
         ],
         "y": [
          0.36797183752059937,
          0.36797183752059937,
          null,
          0.36797183752059937,
          0,
          null,
          0.36797183752059937,
          0,
          null
         ],
         "yaxis": "y1"
        },
        {
         "hoverinfo": "skip",
         "line": {
          "color": "#666666"
         },
         "mode": "lines",
         "showlegend": false,
         "type": "scatter",
         "x": [
          18.5,
          20.5,
          null,
          18.5,
          18.5,
          null,
          20.5,
          20.5,
          null
         ],
         "y": [
          0.47833219170570374,
          0.47833219170570374,
          null,
          0.47833219170570374,
          0.4221467971801758,
          null,
          0.47833219170570374,
          0.45270124077796936,
          null
         ],
         "yaxis": "y1"
        },
        {
         "hoverinfo": "skip",
         "line": {
          "color": "#FFBB78"
         },
         "mode": "lines",
         "showlegend": false,
         "type": "scatter",
         "x": [
          20,
          21,
          null,
          20,
          20,
          null,
          21,
          21,
          null
         ],
         "y": [
          0.45270124077796936,
          0.45270124077796936,
          null,
          0.45270124077796936,
          0,
          null,
          0.45270124077796936,
          0,
          null
         ],
         "yaxis": "y1"
        },
        {
         "hoverinfo": "skip",
         "line": {
          "color": "#AEC7E8"
         },
         "mode": "lines",
         "showlegend": false,
         "type": "scatter",
         "x": [
          7,
          8,
          null,
          7,
          7,
          null,
          8,
          8,
          null
         ],
         "y": [
          0.1405893713235855,
          0.1405893713235855,
          null,
          0.1405893713235855,
          0,
          null,
          0.1405893713235855,
          0,
          null
         ],
         "yaxis": "y1"
        },
        {
         "hoverinfo": "skip",
         "line": {
          "color": "#AEC7E8"
         },
         "mode": "lines",
         "showlegend": false,
         "type": "scatter",
         "x": [
          1,
          2,
          null,
          1,
          1,
          null,
          2,
          2,
          null
         ],
         "y": [
          0.11521344631910324,
          0.11521344631910324,
          null,
          0.11521344631910324,
          0,
          null,
          0.11521344631910324,
          0,
          null
         ],
         "yaxis": "y1"
        },
        {
         "hoverinfo": "skip",
         "line": {
          "color": "#AEC7E8"
         },
         "mode": "lines",
         "showlegend": false,
         "type": "scatter",
         "x": [
          3.5,
          8.3515625,
          null,
          3.5,
          3.5,
          null,
          8.3515625,
          8.3515625,
          null
         ],
         "y": [
          0.4005316495895386,
          0.4005316495895386,
          null,
          0.4005316495895386,
          0.3173793852329254,
          null,
          0.4005316495895386,
          0.3814748525619507,
          null
         ],
         "yaxis": "y1"
        },
        {
         "hoverinfo": "skip",
         "line": {
          "color": "#AEC7E8"
         },
         "mode": "lines",
         "showlegend": false,
         "type": "scatter",
         "x": [
          5.5,
          11.203125,
          null,
          5.5,
          5.5,
          null,
          11.203125,
          11.203125,
          null
         ],
         "y": [
          0.3814748525619507,
          0.3814748525619507,
          null,
          0.3814748525619507,
          0.36797183752059937,
          null,
          0.3814748525619507,
          0.37224188446998596,
          null
         ],
         "yaxis": "y1"
        },
        {
         "hoverinfo": "skip",
         "line": {
          "color": "#AEC7E8"
         },
         "mode": "lines",
         "showlegend": false,
         "type": "scatter",
         "x": [
          10.5,
          14.125,
          null,
          10.5,
          10.5,
          null,
          14.125,
          14.125,
          null
         ],
         "y": [
          0.3440835773944855,
          0.3440835773944855,
          null,
          0.3440835773944855,
          0.0031321970745921135,
          null,
          0.3440835773944855,
          0.30449095368385315,
          null
         ],
         "yaxis": "y1"
        },
        {
         "fill": "toself",
         "hoverinfo": "skip",
         "line": {
          "color": "#AEC7E8"
         },
         "mode": "lines",
         "showlegend": false,
         "type": "scatter",
         "x": [
          12,
          12,
          13,
          13
         ],
         "y": [
          0,
          0.002168788341805339,
          0.002168788341805339,
          0
         ],
         "yaxis": "y1"
        },
        {
         "hoverinfo": "skip",
         "line": {
          "color": "#AEC7E8"
         },
         "mode": "lines",
         "showlegend": false,
         "type": "scatter",
         "x": [
          12.5,
          14,
          null,
          12.5,
          12.5,
          null,
          14,
          14,
          null
         ],
         "y": [
          0.004716091323643923,
          0.004716091323643923,
          null,
          0.004716091323643923,
          0.002168788341805339,
          null,
          0.004716091323643923,
          0,
          null
         ],
         "yaxis": "y1"
        },
        {
         "hoverinfo": "skip",
         "line": {
          "color": "#AEC7E8"
         },
         "mode": "lines",
         "showlegend": false,
         "type": "scatter",
         "x": [
          5.92578125,
          17,
          null,
          5.92578125,
          5.92578125,
          null,
          17,
          17,
          null
         ],
         "y": [
          0.4236702024936676,
          0.4236702024936676,
          null,
          0.4236702024936676,
          0.4005316495895386,
          null,
          0.4236702024936676,
          0,
          null
         ],
         "yaxis": "y1"
        },
        {
         "hoverinfo": "skip",
         "line": {
          "color": "#AEC7E8"
         },
         "mode": "lines",
         "showlegend": false,
         "type": "scatter",
         "x": [
          3,
          4,
          null,
          3,
          3,
          null,
          4,
          4,
          null
         ],
         "y": [
          0.3173793852329254,
          0.3173793852329254,
          null,
          0.3173793852329254,
          0,
          null,
          0.3173793852329254,
          0,
          null
         ],
         "yaxis": "y1"
        },
        {
         "hoverinfo": "skip",
         "line": {
          "color": "#AEC7E8"
         },
         "mode": "lines",
         "showlegend": false,
         "type": "scatter",
         "x": [
          1.5,
          11.462890625,
          null,
          1.5,
          1.5,
          null,
          11.462890625,
          11.462890625,
          null
         ],
         "y": [
          0.4504663050174713,
          0.4504663050174713,
          null,
          0.4504663050174713,
          0.11521344631910324,
          null,
          0.4504663050174713,
          0.4236702024936676,
          null
         ],
         "yaxis": "y1"
        },
        {
         "hoverinfo": "skip",
         "line": {
          "color": "#AEC7E8"
         },
         "mode": "lines",
         "showlegend": false,
         "type": "scatter",
         "x": [
          10,
          11,
          null,
          10,
          10,
          null,
          11,
          11,
          null
         ],
         "y": [
          0.0031321970745921135,
          0.0031321970745921135,
          null,
          0.0031321970745921135,
          0,
          null,
          0.0031321970745921135,
          0,
          null
         ],
         "yaxis": "y1"
        },
        {
         "hoverinfo": "skip",
         "line": {
          "color": "#AEC7E8"
         },
         "mode": "lines",
         "showlegend": false,
         "type": "scatter",
         "x": [
          12.3125,
          16,
          null,
          12.3125,
          12.3125,
          null,
          16,
          16,
          null
         ],
         "y": [
          0.3629343509674072,
          0.3629343509674072,
          null,
          0.3629343509674072,
          0.3440835773944855,
          null,
          0.3629343509674072,
          0,
          null
         ],
         "yaxis": "y1"
        },
        {
         "hoverinfo": "skip",
         "line": {
          "color": "#AEC7E8"
         },
         "mode": "lines",
         "showlegend": false,
         "type": "scatter",
         "x": [
          13.25,
          15,
          null,
          13.25,
          13.25,
          null,
          15,
          15,
          null
         ],
         "y": [
          0.30449095368385315,
          0.30449095368385315,
          null,
          0.30449095368385315,
          0.004716091323643923,
          null,
          0.30449095368385315,
          0,
          null
         ],
         "yaxis": "y1"
        },
        {
         "hoverinfo": "skip",
         "line": {
          "color": "#666666"
         },
         "mode": "lines",
         "showlegend": false,
         "type": "scatter",
         "x": [
          18,
          19,
          null,
          18,
          18,
          null,
          19,
          19,
          null
         ],
         "y": [
          0.4221467971801758,
          0.4221467971801758,
          null,
          0.4221467971801758,
          0,
          null,
          0.4221467971801758,
          0,
          null
         ],
         "yaxis": "y1"
        },
        {
         "hoverinfo": "skip",
         "line": {
          "color": "#666666"
         },
         "mode": "lines",
         "showlegend": false,
         "type": "scatter",
         "x": [
          6.4814453125,
          19.5,
          null,
          6.4814453125,
          6.4814453125,
          null,
          19.5,
          19.5,
          null
         ],
         "y": [
          0.8076178431510925,
          0.8076178431510925,
          null,
          0.8076178431510925,
          0.4504663050174713,
          null,
          0.8076178431510925,
          0.47833219170570374,
          null
         ],
         "yaxis": "y1"
        },
        {
         "hoverinfo": "skip",
         "line": {
          "color": "#AEC7E8"
         },
         "mode": "lines",
         "showlegend": false,
         "type": "scatter",
         "x": [
          8.25,
          14.15625,
          null,
          8.25,
          8.25,
          null,
          14.15625,
          14.15625,
          null
         ],
         "y": [
          0.37224188446998596,
          0.37224188446998596,
          null,
          0.37224188446998596,
          0.3556622564792633,
          null,
          0.37224188446998596,
          0.3629343509674072,
          null
         ],
         "yaxis": "y1"
        },
        {
         "hoverinfo": "skip",
         "line": {
          "color": "#AEC7E8"
         },
         "mode": "lines",
         "showlegend": false,
         "type": "scatter",
         "x": [
          7.5,
          9,
          null,
          7.5,
          7.5,
          null,
          9,
          9,
          null
         ],
         "y": [
          0.3556622564792633,
          0.3556622564792633,
          null,
          0.3556622564792633,
          0.1405893713235855,
          null,
          0.3556622564792633,
          0,
          null
         ],
         "yaxis": "y1"
        },
        {
         "customdata": [
          [
           33,
           10,
           "alginolyticus"
          ],
          [
           30,
           3,
           "alginolyticus"
          ],
          [
           32,
           2,
           "alginolyticus"
          ],
          [
           40,
           4,
           "(mixed)"
          ],
          [
           39,
           2,
           "diabolicus"
          ],
          [
           26,
           2,
           "alginolyticus"
          ],
          [
           25,
           2,
           "alginolyticus"
          ],
          [
           35,
           14,
           "alginolyticus"
          ],
          [
           34,
           12,
           "alginolyticus"
          ],
          [
           29,
           6,
           "alginolyticus"
          ],
          [
           22,
           2,
           "alginolyticus"
          ],
          [
           24,
           3,
           "alginolyticus"
          ],
          [
           37,
           15,
           "alginolyticus"
          ],
          [
           28,
           2,
           "alginolyticus"
          ],
          [
           38,
           17,
           "alginolyticus"
          ],
          [
           23,
           2,
           "alginolyticus"
          ],
          [
           31,
           7,
           "alginolyticus"
          ],
          [
           27,
           4,
           "alginolyticus"
          ],
          [
           36,
           2,
           "(mixed)"
          ],
          [
           41,
           21,
           "(mixed)"
          ]
         ],
         "hovertemplate": "ID: %{customdata[0]}<br>\nHeight: %{y:.3f}<br>\nGenome count: %{customdata[1]}\n<br>\n%{customdata[2]}\n<extra></extra>",
         "marker": {
          "color": [
           "#AEC7E8",
           "#AEC7E8",
           "#AEC7E8",
           "#666666",
           "#FFBB78",
           "#AEC7E8",
           "#AEC7E8",
           "#AEC7E8",
           "#AEC7E8",
           "#AEC7E8",
           "#AEC7E8",
           "#AEC7E8",
           "#AEC7E8",
           "#AEC7E8",
           "#AEC7E8",
           "#AEC7E8",
           "#AEC7E8",
           "#AEC7E8",
           "#666666",
           "#666666"
          ],
          "size": [
           4,
           4,
           4,
           8,
           4,
           8,
           8,
           4,
           4,
           4,
           8,
           8,
           4,
           8,
           8,
           8,
           4,
           8,
           8,
           8
          ]
         },
         "mode": "markers",
         "showlegend": false,
         "type": "scatter",
         "x": [
          11.203125,
          8.25,
          5.5,
          19.5,
          20.5,
          7.5,
          1.5,
          5.92578125,
          8.3515625,
          12.3125,
          12.5,
          13.25,
          11.462890625,
          3.5,
          6.4814453125,
          10.5,
          14.15625,
          14.125,
          18.5,
          12.99072265625
         ],
         "y": [
          0.37224188446998596,
          0.3556622564792633,
          0.36797183752059937,
          0.47833219170570374,
          0.45270124077796936,
          0.1405893713235855,
          0.11521344631910324,
          0.4005316495895386,
          0.3814748525619507,
          0.3440835773944855,
          0.002168788341805339,
          0.004716091323643923,
          0.4236702024936676,
          0.3173793852329254,
          0.4504663050174713,
          0.0031321970745921135,
          0.3629343509674072,
          0.30449095368385315,
          0.4221467971801758,
          0.8076178431510925
         ],
         "yaxis": "y1"
        },
        {
         "colorscale": [
          [
           0,
           "#666666"
          ],
          [
           0.1,
           "#AEC7E8"
          ],
          [
           0.2,
           "#FFBB78"
          ],
          [
           0.3,
           "#98DF8A"
          ],
          [
           0.4,
           "#FF9896"
          ],
          [
           0.5,
           "#C5B0D5"
          ],
          [
           0.6,
           "#C49C94"
          ],
          [
           0.7,
           "#F7B6D2"
          ],
          [
           0.8,
           "#C7C7C7"
          ],
          [
           0.9,
           "#DBDB8D"
          ],
          [
           1,
           "#9EDAE5"
          ]
         ],
         "customdata": [
          [
           [
            "Genome 15",
            "alginolyticus"
           ],
           [
            "Genome 16",
            "alginolyticus"
           ],
           [
            "Genome 10",
            "alginolyticus"
           ],
           [
            "Genome 13",
            "alginolyticus"
           ],
           [
            "Genome 1",
            "alginolyticus"
           ],
           [
            "Genome 8",
            "alginolyticus"
           ],
           [
            "Genome 11",
            "alginolyticus"
           ],
           [
            "Genome 18",
            "alginolyticus"
           ],
           [
            "Genome 14",
            "alginolyticus"
           ],
           [
            "Genome 6",
            "alginolyticus"
           ],
           [
            "Genome 7",
            "alginolyticus"
           ],
           [
            "ID 22",
            "alginolyticus"
           ],
           [
            "Genome 4",
            "alginolyticus"
           ],
           [
            "Genome 9",
            "alginolyticus"
           ],
           [
            "Genome 2",
            "alginolyticus"
           ],
           [
            "Genome 5",
            "alginolyticus"
           ],
           [
            "Genome 12",
            "alginolyticus"
           ],
           [
            "Genome 21",
            "diabolicus"
           ],
           [
            "Genome 19",
            "diabolicus"
           ],
           [
            "Genome 20",
            "diabolicus"
           ]
          ]
         ],
         "hovertemplate": "%{customdata[0]} <br>\n%{customdata[1]}\n<extra></extra>\n",
         "showscale": false,
         "type": "heatmap",
         "x": [
          0.5,
          1.5,
          2.5,
          3.5,
          4.5,
          5.5,
          6.5,
          7.5,
          8.5,
          9.5,
          10.5,
          11.5,
          13.5,
          14.5,
          15.5,
          16.5,
          17.5,
          18.5,
          19.5,
          20.5,
          21.5
         ],
         "xgap": 1,
         "yaxis": "y2",
         "z": [
          [
           1,
           1,
           1,
           1,
           1,
           1,
           1,
           1,
           1,
           1,
           1,
           1,
           1,
           1,
           1,
           1,
           1,
           2,
           2,
           2
          ]
         ],
         "zmax": 10,
         "zmin": 0
        }
       ],
       "frames": [],
       "layout": {
        "hovermode": "closest",
        "margin": {
         "b": 50,
         "l": 50,
         "r": 50,
         "t": 60
        },
        "xaxis": {
         "visible": false
        },
        "yaxis2": {
         "domain": [
          0,
          0.05
         ],
         "fixedrange": true,
         "visible": false
        }
       }
      },
      "application/vnd.webio.node+json": {
       "children": [
        {
         "children": [],
         "instanceArgs": {
          "namespace": "html",
          "tag": "div"
         },
         "nodeType": "DOM",
         "props": {
          "id": "plot-7576cde4-7d4e-44bc-9bb2-1c9b3d956e4d"
         },
         "type": "node"
        }
       ],
       "instanceArgs": {
        "handlers": {
         "__get_gd_contents": [
          "(function (prop){prop==\"data\" ? (WebIO.setval({\"name\":\"__gd_contents\",\"scope\":\"4498953796500817580\",\"id\":\"6455191784238165634\",\"type\":\"observable\"},this.plotElem.data)) : undefined; return prop==\"layout\" ? (WebIO.setval({\"name\":\"__gd_contents\",\"scope\":\"4498953796500817580\",\"id\":\"6455191784238165634\",\"type\":\"observable\"},this.plotElem.layout)) : undefined})"
         ],
         "_commands": [
          "(function (args){var fn=args.shift(); var elem=this.plotElem; var Plotly=this.Plotly; args.unshift(elem); return Plotly[fn].apply(this,args)})"
         ],
         "_downloadImage": [
          "(function (options){return this.Plotly.downloadImage(this.plotElem,options)})"
         ],
         "_toImage": [
          "(function (options){return this.Plotly.toImage(this.plotElem,options).then((function (data){return WebIO.setval({\"name\":\"image\",\"scope\":\"4498953796500817580\",\"id\":\"18265161585155904756\",\"type\":\"observable\"},data)}))})"
         ]
        },
        "id": "4498953796500817580",
        "imports": {
         "data": [
          {
           "name": "Plotly",
           "type": "js",
           "url": "/assetserver/e6903599031aaef8675931dfcd7df98a1aeffbfc-plotly-latest.min.js"
          },
          {
           "name": null,
           "type": "js",
           "url": "/assetserver/74a5dea81f21b0b802ef1ee92f1c8a504eac1a0c-plotly_webio.bundle.js"
          }
         ],
         "type": "async_block"
        },
        "mount_callbacks": [
         "function () {\n    var handler = ((function (Plotly,PlotlyWebIO){PlotlyWebIO.init(WebIO); var gd=this.dom.querySelector(\"#plot-7576cde4-7d4e-44bc-9bb2-1c9b3d956e4d\"); this.plotElem=gd; this.Plotly=Plotly; (window.Blink!==undefined) ? (gd.style.width=\"100%\", gd.style.height=\"100vh\", gd.style.marginLeft=\"0%\", gd.style.marginTop=\"0vh\") : undefined; window.onresize=(function (){return Plotly.Plots.resize(gd)}); Plotly.newPlot(gd,[{\"showlegend\":false,\"mode\":\"lines\",\"line\":{\"color\":\"#AEC7E8\"},\"y\":[0.36797183752059937,0.36797183752059937,null,0.36797183752059937,0.0,null,0.36797183752059937,0.0,null],\"type\":\"scatter\",\"hoverinfo\":\"skip\",\"yaxis\":\"y1\",\"x\":[5.0,6.0,null,5.0,5.0,null,6.0,6.0,null]},{\"showlegend\":false,\"mode\":\"lines\",\"line\":{\"color\":\"#666666\"},\"y\":[0.47833219170570374,0.47833219170570374,null,0.47833219170570374,0.4221467971801758,null,0.47833219170570374,0.45270124077796936,null],\"type\":\"scatter\",\"hoverinfo\":\"skip\",\"yaxis\":\"y1\",\"x\":[18.5,20.5,null,18.5,18.5,null,20.5,20.5,null]},{\"showlegend\":false,\"mode\":\"lines\",\"line\":{\"color\":\"#FFBB78\"},\"y\":[0.45270124077796936,0.45270124077796936,null,0.45270124077796936,0.0,null,0.45270124077796936,0.0,null],\"type\":\"scatter\",\"hoverinfo\":\"skip\",\"yaxis\":\"y1\",\"x\":[20.0,21.0,null,20.0,20.0,null,21.0,21.0,null]},{\"showlegend\":false,\"mode\":\"lines\",\"line\":{\"color\":\"#AEC7E8\"},\"y\":[0.1405893713235855,0.1405893713235855,null,0.1405893713235855,0.0,null,0.1405893713235855,0.0,null],\"type\":\"scatter\",\"hoverinfo\":\"skip\",\"yaxis\":\"y1\",\"x\":[7.0,8.0,null,7.0,7.0,null,8.0,8.0,null]},{\"showlegend\":false,\"mode\":\"lines\",\"line\":{\"color\":\"#AEC7E8\"},\"y\":[0.11521344631910324,0.11521344631910324,null,0.11521344631910324,0.0,null,0.11521344631910324,0.0,null],\"type\":\"scatter\",\"hoverinfo\":\"skip\",\"yaxis\":\"y1\",\"x\":[1.0,2.0,null,1.0,1.0,null,2.0,2.0,null]},{\"showlegend\":false,\"mode\":\"lines\",\"line\":{\"color\":\"#AEC7E8\"},\"y\":[0.4005316495895386,0.4005316495895386,null,0.4005316495895386,0.3173793852329254,null,0.4005316495895386,0.3814748525619507,null],\"type\":\"scatter\",\"hoverinfo\":\"skip\",\"yaxis\":\"y1\",\"x\":[3.5,8.3515625,null,3.5,3.5,null,8.3515625,8.3515625,null]},{\"showlegend\":false,\"mode\":\"lines\",\"line\":{\"color\":\"#AEC7E8\"},\"y\":[0.3814748525619507,0.3814748525619507,null,0.3814748525619507,0.36797183752059937,null,0.3814748525619507,0.37224188446998596,null],\"type\":\"scatter\",\"hoverinfo\":\"skip\",\"yaxis\":\"y1\",\"x\":[5.5,11.203125,null,5.5,5.5,null,11.203125,11.203125,null]},{\"showlegend\":false,\"mode\":\"lines\",\"line\":{\"color\":\"#AEC7E8\"},\"y\":[0.3440835773944855,0.3440835773944855,null,0.3440835773944855,0.0031321970745921135,null,0.3440835773944855,0.30449095368385315,null],\"type\":\"scatter\",\"hoverinfo\":\"skip\",\"yaxis\":\"y1\",\"x\":[10.5,14.125,null,10.5,10.5,null,14.125,14.125,null]},{\"showlegend\":false,\"mode\":\"lines\",\"line\":{\"color\":\"#AEC7E8\"},\"y\":[0.0,0.002168788341805339,0.002168788341805339,0.0],\"type\":\"scatter\",\"fill\":\"toself\",\"hoverinfo\":\"skip\",\"yaxis\":\"y1\",\"x\":[12.0,12.0,13.0,13.0]},{\"showlegend\":false,\"mode\":\"lines\",\"line\":{\"color\":\"#AEC7E8\"},\"y\":[0.004716091323643923,0.004716091323643923,null,0.004716091323643923,0.002168788341805339,null,0.004716091323643923,0.0,null],\"type\":\"scatter\",\"hoverinfo\":\"skip\",\"yaxis\":\"y1\",\"x\":[12.5,14.0,null,12.5,12.5,null,14.0,14.0,null]},{\"showlegend\":false,\"mode\":\"lines\",\"line\":{\"color\":\"#AEC7E8\"},\"y\":[0.4236702024936676,0.4236702024936676,null,0.4236702024936676,0.4005316495895386,null,0.4236702024936676,0.0,null],\"type\":\"scatter\",\"hoverinfo\":\"skip\",\"yaxis\":\"y1\",\"x\":[5.92578125,17.0,null,5.92578125,5.92578125,null,17.0,17.0,null]},{\"showlegend\":false,\"mode\":\"lines\",\"line\":{\"color\":\"#AEC7E8\"},\"y\":[0.3173793852329254,0.3173793852329254,null,0.3173793852329254,0.0,null,0.3173793852329254,0.0,null],\"type\":\"scatter\",\"hoverinfo\":\"skip\",\"yaxis\":\"y1\",\"x\":[3.0,4.0,null,3.0,3.0,null,4.0,4.0,null]},{\"showlegend\":false,\"mode\":\"lines\",\"line\":{\"color\":\"#AEC7E8\"},\"y\":[0.4504663050174713,0.4504663050174713,null,0.4504663050174713,0.11521344631910324,null,0.4504663050174713,0.4236702024936676,null],\"type\":\"scatter\",\"hoverinfo\":\"skip\",\"yaxis\":\"y1\",\"x\":[1.5,11.462890625,null,1.5,1.5,null,11.462890625,11.462890625,null]},{\"showlegend\":false,\"mode\":\"lines\",\"line\":{\"color\":\"#AEC7E8\"},\"y\":[0.0031321970745921135,0.0031321970745921135,null,0.0031321970745921135,0.0,null,0.0031321970745921135,0.0,null],\"type\":\"scatter\",\"hoverinfo\":\"skip\",\"yaxis\":\"y1\",\"x\":[10.0,11.0,null,10.0,10.0,null,11.0,11.0,null]},{\"showlegend\":false,\"mode\":\"lines\",\"line\":{\"color\":\"#AEC7E8\"},\"y\":[0.3629343509674072,0.3629343509674072,null,0.3629343509674072,0.3440835773944855,null,0.3629343509674072,0.0,null],\"type\":\"scatter\",\"hoverinfo\":\"skip\",\"yaxis\":\"y1\",\"x\":[12.3125,16.0,null,12.3125,12.3125,null,16.0,16.0,null]},{\"showlegend\":false,\"mode\":\"lines\",\"line\":{\"color\":\"#AEC7E8\"},\"y\":[0.30449095368385315,0.30449095368385315,null,0.30449095368385315,0.004716091323643923,null,0.30449095368385315,0.0,null],\"type\":\"scatter\",\"hoverinfo\":\"skip\",\"yaxis\":\"y1\",\"x\":[13.25,15.0,null,13.25,13.25,null,15.0,15.0,null]},{\"showlegend\":false,\"mode\":\"lines\",\"line\":{\"color\":\"#666666\"},\"y\":[0.4221467971801758,0.4221467971801758,null,0.4221467971801758,0.0,null,0.4221467971801758,0.0,null],\"type\":\"scatter\",\"hoverinfo\":\"skip\",\"yaxis\":\"y1\",\"x\":[18.0,19.0,null,18.0,18.0,null,19.0,19.0,null]},{\"showlegend\":false,\"mode\":\"lines\",\"line\":{\"color\":\"#666666\"},\"y\":[0.8076178431510925,0.8076178431510925,null,0.8076178431510925,0.4504663050174713,null,0.8076178431510925,0.47833219170570374,null],\"type\":\"scatter\",\"hoverinfo\":\"skip\",\"yaxis\":\"y1\",\"x\":[6.4814453125,19.5,null,6.4814453125,6.4814453125,null,19.5,19.5,null]},{\"showlegend\":false,\"mode\":\"lines\",\"line\":{\"color\":\"#AEC7E8\"},\"y\":[0.37224188446998596,0.37224188446998596,null,0.37224188446998596,0.3556622564792633,null,0.37224188446998596,0.3629343509674072,null],\"type\":\"scatter\",\"hoverinfo\":\"skip\",\"yaxis\":\"y1\",\"x\":[8.25,14.15625,null,8.25,8.25,null,14.15625,14.15625,null]},{\"showlegend\":false,\"mode\":\"lines\",\"line\":{\"color\":\"#AEC7E8\"},\"y\":[0.3556622564792633,0.3556622564792633,null,0.3556622564792633,0.1405893713235855,null,0.3556622564792633,0.0,null],\"type\":\"scatter\",\"hoverinfo\":\"skip\",\"yaxis\":\"y1\",\"x\":[7.5,9.0,null,7.5,7.5,null,9.0,9.0,null]},{\"showlegend\":false,\"mode\":\"markers\",\"marker\":{\"color\":[\"#AEC7E8\",\"#AEC7E8\",\"#AEC7E8\",\"#666666\",\"#FFBB78\",\"#AEC7E8\",\"#AEC7E8\",\"#AEC7E8\",\"#AEC7E8\",\"#AEC7E8\",\"#AEC7E8\",\"#AEC7E8\",\"#AEC7E8\",\"#AEC7E8\",\"#AEC7E8\",\"#AEC7E8\",\"#AEC7E8\",\"#AEC7E8\",\"#666666\",\"#666666\"],\"size\":[4,4,4,8,4,8,8,4,4,4,8,8,4,8,8,8,4,8,8,8]},\"y\":[0.37224188446998596,0.3556622564792633,0.36797183752059937,0.47833219170570374,0.45270124077796936,0.1405893713235855,0.11521344631910324,0.4005316495895386,0.3814748525619507,0.3440835773944855,0.002168788341805339,0.004716091323643923,0.4236702024936676,0.3173793852329254,0.4504663050174713,0.0031321970745921135,0.3629343509674072,0.30449095368385315,0.4221467971801758,0.8076178431510925],\"type\":\"scatter\",\"customdata\":[[33,10,\"alginolyticus\"],[30,3,\"alginolyticus\"],[32,2,\"alginolyticus\"],[40,4,\"(mixed)\"],[39,2,\"diabolicus\"],[26,2,\"alginolyticus\"],[25,2,\"alginolyticus\"],[35,14,\"alginolyticus\"],[34,12,\"alginolyticus\"],[29,6,\"alginolyticus\"],[22,2,\"alginolyticus\"],[24,3,\"alginolyticus\"],[37,15,\"alginolyticus\"],[28,2,\"alginolyticus\"],[38,17,\"alginolyticus\"],[23,2,\"alginolyticus\"],[31,7,\"alginolyticus\"],[27,4,\"alginolyticus\"],[36,2,\"(mixed)\"],[41,21,\"(mixed)\"]],\"yaxis\":\"y1\",\"hovertemplate\":\"ID: %{customdata[0]}<br>\\nHeight: %{y:.3f}<br>\\nGenome count: %{customdata[1]}\\n<br>\\n%{customdata[2]}\\n<extra></extra>\",\"x\":[11.203125,8.25,5.5,19.5,20.5,7.5,1.5,5.92578125,8.3515625,12.3125,12.5,13.25,11.462890625,3.5,6.4814453125,10.5,14.15625,14.125,18.5,12.99072265625]},{\"colorscale\":[[0.0,\"#666666\"],[0.1,\"#AEC7E8\"],[0.2,\"#FFBB78\"],[0.3,\"#98DF8A\"],[0.4,\"#FF9896\"],[0.5,\"#C5B0D5\"],[0.6,\"#C49C94\"],[0.7,\"#F7B6D2\"],[0.8,\"#C7C7C7\"],[0.9,\"#DBDB8D\"],[1.0,\"#9EDAE5\"]],\"yaxis\":\"y2\",\"showscale\":false,\"x\":[0.5,1.5,2.5,3.5,4.5,5.5,6.5,7.5,8.5,9.5,10.5,11.5,13.5,14.5,15.5,16.5,17.5,18.5,19.5,20.5,21.5],\"customdata\":[[[\"Genome 15\",\"alginolyticus\"],[\"Genome 16\",\"alginolyticus\"],[\"Genome 10\",\"alginolyticus\"],[\"Genome 13\",\"alginolyticus\"],[\"Genome 1\",\"alginolyticus\"],[\"Genome 8\",\"alginolyticus\"],[\"Genome 11\",\"alginolyticus\"],[\"Genome 18\",\"alginolyticus\"],[\"Genome 14\",\"alginolyticus\"],[\"Genome 6\",\"alginolyticus\"],[\"Genome 7\",\"alginolyticus\"],[\"ID 22\",\"alginolyticus\"],[\"Genome 4\",\"alginolyticus\"],[\"Genome 9\",\"alginolyticus\"],[\"Genome 2\",\"alginolyticus\"],[\"Genome 5\",\"alginolyticus\"],[\"Genome 12\",\"alginolyticus\"],[\"Genome 21\",\"diabolicus\"],[\"Genome 19\",\"diabolicus\"],[\"Genome 20\",\"diabolicus\"]]],\"zmin\":0,\"z\":[[1,1,1,1,1,1,1,1,1,1,1,1,1,1,1,1,1,2,2,2]],\"zmax\":10,\"type\":\"heatmap\",\"xgap\":1,\"hovertemplate\":\"%{customdata[0]} <br>\\n%{customdata[1]}\\n<extra></extra>\\n\"}],{\"xaxis\":{\"visible\":false},\"hovermode\":\"closest\",\"margin\":{\"l\":50,\"b\":50,\"r\":50,\"t\":60},\"yaxis2\":{\"visible\":false,\"domain\":[0.0,0.05],\"fixedrange\":true}},{}); gd.on(\"plotly_hover\",(function (data){var filtered_data=WebIO.PlotlyCommands.filterEventData(gd,data,\"hover\"); return !(filtered_data.isnil) ? (WebIO.setval({\"name\":\"hover\",\"scope\":\"4498953796500817580\",\"id\":\"12075862893385360645\",\"type\":\"observable\"},filtered_data.out)) : undefined})); gd.on(\"plotly_unhover\",(function (){return WebIO.setval({\"name\":\"hover\",\"scope\":\"4498953796500817580\",\"id\":\"12075862893385360645\",\"type\":\"observable\"},{})})); gd.on(\"plotly_selected\",(function (data){var filtered_data=WebIO.PlotlyCommands.filterEventData(gd,data,\"selected\"); return !(filtered_data.isnil) ? (WebIO.setval({\"name\":\"selected\",\"scope\":\"4498953796500817580\",\"id\":\"9266565448513940329\",\"type\":\"observable\"},filtered_data.out)) : undefined})); gd.on(\"plotly_deselect\",(function (){return WebIO.setval({\"name\":\"selected\",\"scope\":\"4498953796500817580\",\"id\":\"9266565448513940329\",\"type\":\"observable\"},{})})); gd.on(\"plotly_relayout\",(function (data){var filtered_data=WebIO.PlotlyCommands.filterEventData(gd,data,\"relayout\"); return !(filtered_data.isnil) ? (WebIO.setval({\"name\":\"relayout\",\"scope\":\"4498953796500817580\",\"id\":\"12572060675776444059\",\"type\":\"observable\"},filtered_data.out)) : undefined})); return gd.on(\"plotly_click\",(function (data){var filtered_data=WebIO.PlotlyCommands.filterEventData(gd,data,\"click\"); return !(filtered_data.isnil) ? (WebIO.setval({\"name\":\"click\",\"scope\":\"4498953796500817580\",\"id\":\"1747228185425928521\",\"type\":\"observable\"},filtered_data.out)) : undefined}))}));\n    (WebIO.importBlock({\"data\":[{\"name\":\"Plotly\",\"type\":\"js\",\"url\":\"/assetserver/e6903599031aaef8675931dfcd7df98a1aeffbfc-plotly-latest.min.js\"},{\"name\":null,\"type\":\"js\",\"url\":\"/assetserver/74a5dea81f21b0b802ef1ee92f1c8a504eac1a0c-plotly_webio.bundle.js\"}],\"type\":\"async_block\"})).then((imports) => handler.apply(this, imports));\n}\n"
        ],
        "observables": {
         "__gd_contents": {
          "id": "6455191784238165634",
          "sync": false,
          "value": {}
         },
         "__get_gd_contents": {
          "id": "827163986667700442",
          "sync": false,
          "value": ""
         },
         "_commands": {
          "id": "14172901380523479594",
          "sync": false,
          "value": []
         },
         "_downloadImage": {
          "id": "13614928449977281273",
          "sync": false,
          "value": {}
         },
         "_toImage": {
          "id": "13855951255847959483",
          "sync": false,
          "value": {}
         },
         "click": {
          "id": "1747228185425928521",
          "sync": false,
          "value": {}
         },
         "hover": {
          "id": "12075862893385360645",
          "sync": false,
          "value": {}
         },
         "image": {
          "id": "18265161585155904756",
          "sync": true,
          "value": ""
         },
         "relayout": {
          "id": "12572060675776444059",
          "sync": false,
          "value": {}
         },
         "selected": {
          "id": "9266565448513940329",
          "sync": false,
          "value": {}
         }
        },
        "systemjs_options": null
       },
       "nodeType": "Scope",
       "props": {},
       "type": "node"
      },
      "image/png": "[encoded data removed]",
      "image/svg+xml": [
       "<svg class=\"main-svg\" xmlns=\"http://www.w3.org/2000/svg\" xmlns:xlink=\"http://www.w3.org/1999/xlink\" width=\"700\" height=\"500\" style=\"\" viewBox=\"0 0 700 500\"><rect x=\"0\" y=\"0\" width=\"700\" height=\"500\" style=\"fill: rgb(255, 255, 255); fill-opacity: 1;\"/><defs id=\"defs-804f90\"><g class=\"clips\"><clipPath id=\"clip804f90xyplot\" class=\"plotclip\"><rect width=\"600\" height=\"390\"/></clipPath><clipPath id=\"clip804f90xy2plot\" class=\"plotclip\"><rect width=\"600\" height=\"19.5\"/></clipPath><clipPath class=\"axesclip\" id=\"clip804f90x\"><rect x=\"50\" y=\"0\" width=\"600\" height=\"500\"/></clipPath><clipPath class=\"axesclip\" id=\"clip804f90y\"><rect x=\"0\" y=\"60\" width=\"700\" height=\"390\"/></clipPath><clipPath class=\"axesclip\" id=\"clip804f90xy\"><rect x=\"50\" y=\"60\" width=\"600\" height=\"390\"/></clipPath><clipPath class=\"axesclip\" id=\"clip804f90y2\"><rect x=\"0\" y=\"430.5\" width=\"700\" height=\"19.5\"/></clipPath><clipPath class=\"axesclip\" id=\"clip804f90xy2\"><rect x=\"50\" y=\"430.5\" width=\"600\" height=\"19.5\"/></clipPath></g><g class=\"gradients\"/></defs><g class=\"bglayer\"/><g class=\"layer-below\"><g class=\"imagelayer\"/><g class=\"shapelayer\"/></g><g class=\"cartesianlayer\"><g class=\"subplot xy\"><g class=\"layer-subplot\"><g class=\"shapelayer\"/><g class=\"imagelayer\"/></g><g class=\"gridlayer\"><g class=\"x\"/><g class=\"y\"><path class=\"ygrid crisp\" transform=\"translate(0,384.08)\" d=\"M50,0h600\" style=\"stroke: rgb(238, 238, 238); stroke-opacity: 1; stroke-width: 1px;\"/><path class=\"ygrid crisp\" transform=\"translate(0,341.74)\" d=\"M50,0h600\" style=\"stroke: rgb(238, 238, 238); stroke-opacity: 1; stroke-width: 1px;\"/><path class=\"ygrid crisp\" transform=\"translate(0,299.40999999999997)\" d=\"M50,0h600\" style=\"stroke: rgb(238, 238, 238); stroke-opacity: 1; stroke-width: 1px;\"/><path class=\"ygrid crisp\" transform=\"translate(0,257.07)\" d=\"M50,0h600\" style=\"stroke: rgb(238, 238, 238); stroke-opacity: 1; stroke-width: 1px;\"/><path class=\"ygrid crisp\" transform=\"translate(0,214.74)\" d=\"M50,0h600\" style=\"stroke: rgb(238, 238, 238); stroke-opacity: 1; stroke-width: 1px;\"/><path class=\"ygrid crisp\" transform=\"translate(0,172.4)\" d=\"M50,0h600\" style=\"stroke: rgb(238, 238, 238); stroke-opacity: 1; stroke-width: 1px;\"/><path class=\"ygrid crisp\" transform=\"translate(0,130.06)\" d=\"M50,0h600\" style=\"stroke: rgb(238, 238, 238); stroke-opacity: 1; stroke-width: 1px;\"/><path class=\"ygrid crisp\" transform=\"translate(0,87.73)\" d=\"M50,0h600\" style=\"stroke: rgb(238, 238, 238); stroke-opacity: 1; stroke-width: 1px;\"/></g></g><g class=\"zerolinelayer\"><path class=\"yzl zl crisp\" transform=\"translate(0,426.42)\" d=\"M50,0h600\" style=\"stroke: rgb(68, 68, 68); stroke-opacity: 1; stroke-width: 1px;\"/></g><path class=\"xlines-below\"/><path class=\"ylines-below\"/><g class=\"overlines-below\"/><g class=\"xaxislayer-below\"/><g class=\"yaxislayer-below\"/><g class=\"overaxes-below\"/><g class=\"plot\" transform=\"translate(50,60)\" clip-path=\"url('#clip804f90xyplot')\"><g class=\"scatterlayer mlayer\"><g class=\"trace scatter tracec7c3dd\" style=\"stroke-miterlimit: 2; opacity: 1;\"><g class=\"fills\"/><g class=\"errorbars\"/><g class=\"lines\"><path class=\"js-line\" d=\"M133,210.63L161,210.63\" style=\"vector-effect: non-scaling-stroke; fill: none; stroke: rgb(174, 199, 232); stroke-opacity: 1; stroke-width: 2px; opacity: 1;\"/><path class=\"js-line\" d=\"M133,210.63L133,366.42\" style=\"vector-effect: non-scaling-stroke; fill: none; stroke: rgb(174, 199, 232); stroke-opacity: 1; stroke-width: 2px; opacity: 1;\"/><path class=\"js-line\" d=\"M161,210.63L161,366.42\" style=\"vector-effect: non-scaling-stroke; fill: none; stroke: rgb(174, 199, 232); stroke-opacity: 1; stroke-width: 2px; opacity: 1;\"/></g><g class=\"points\"/><g class=\"text\"/></g><g class=\"trace scatter tracedc12b9\" style=\"stroke-miterlimit: 2; opacity: 1;\"><g class=\"fills\"/><g class=\"errorbars\"/><g class=\"lines\"><path class=\"js-line\" d=\"M511,163.91L567,163.91\" style=\"vector-effect: non-scaling-stroke; fill: none; stroke: rgb(102, 102, 102); stroke-opacity: 1; stroke-width: 2px; opacity: 1;\"/><path class=\"js-line\" d=\"M511,163.91L511,187.7\" style=\"vector-effect: non-scaling-stroke; fill: none; stroke: rgb(102, 102, 102); stroke-opacity: 1; stroke-width: 2px; opacity: 1;\"/><path class=\"js-line\" d=\"M567,163.91L567,174.76\" style=\"vector-effect: non-scaling-stroke; fill: none; stroke: rgb(102, 102, 102); stroke-opacity: 1; stroke-width: 2px; opacity: 1;\"/></g><g class=\"points\"/><g class=\"text\"/></g><g class=\"trace scatter trace0bcf28\" style=\"stroke-miterlimit: 2; opacity: 1;\"><g class=\"fills\"/><g class=\"errorbars\"/><g class=\"lines\"><path class=\"js-line\" d=\"M553,174.76L581,174.76\" style=\"vector-effect: non-scaling-stroke; fill: none; stroke: rgb(255, 187, 120); stroke-opacity: 1; stroke-width: 2px; opacity: 1;\"/><path class=\"js-line\" d=\"M553,174.76L553,366.42\" style=\"vector-effect: non-scaling-stroke; fill: none; stroke: rgb(255, 187, 120); stroke-opacity: 1; stroke-width: 2px; opacity: 1;\"/><path class=\"js-line\" d=\"M581,174.76L581,366.42\" style=\"vector-effect: non-scaling-stroke; fill: none; stroke: rgb(255, 187, 120); stroke-opacity: 1; stroke-width: 2px; opacity: 1;\"/></g><g class=\"points\"/><g class=\"text\"/></g><g class=\"trace scatter trace5d979e\" style=\"stroke-miterlimit: 2; opacity: 1;\"><g class=\"fills\"/><g class=\"errorbars\"/><g class=\"lines\"><path class=\"js-line\" d=\"M189,306.9L217,306.9\" style=\"vector-effect: non-scaling-stroke; fill: none; stroke: rgb(174, 199, 232); stroke-opacity: 1; stroke-width: 2px; opacity: 1;\"/><path class=\"js-line\" d=\"M189,306.9L189,366.42\" style=\"vector-effect: non-scaling-stroke; fill: none; stroke: rgb(174, 199, 232); stroke-opacity: 1; stroke-width: 2px; opacity: 1;\"/><path class=\"js-line\" d=\"M217,306.9L217,366.42\" style=\"vector-effect: non-scaling-stroke; fill: none; stroke: rgb(174, 199, 232); stroke-opacity: 1; stroke-width: 2px; opacity: 1;\"/></g><g class=\"points\"/><g class=\"text\"/></g><g class=\"trace scatter traceb6e37c\" style=\"stroke-miterlimit: 2; opacity: 1;\"><g class=\"fills\"/><g class=\"errorbars\"/><g class=\"lines\"><path class=\"js-line\" d=\"M21,317.64L49,317.64\" style=\"vector-effect: non-scaling-stroke; fill: none; stroke: rgb(174, 199, 232); stroke-opacity: 1; stroke-width: 2px; opacity: 1;\"/><path class=\"js-line\" d=\"M21,317.64L21,366.42\" style=\"vector-effect: non-scaling-stroke; fill: none; stroke: rgb(174, 199, 232); stroke-opacity: 1; stroke-width: 2px; opacity: 1;\"/><path class=\"js-line\" d=\"M49,317.64L49,366.42\" style=\"vector-effect: non-scaling-stroke; fill: none; stroke: rgb(174, 199, 232); stroke-opacity: 1; stroke-width: 2px; opacity: 1;\"/></g><g class=\"points\"/><g class=\"text\"/></g><g class=\"trace scatter trace47f0b5\" style=\"stroke-miterlimit: 2; opacity: 1;\"><g class=\"fills\"/><g class=\"errorbars\"/><g class=\"lines\"><path class=\"js-line\" d=\"M91,196.85L226.84,196.85\" style=\"vector-effect: non-scaling-stroke; fill: none; stroke: rgb(174, 199, 232); stroke-opacity: 1; stroke-width: 2px; opacity: 1;\"/><path class=\"js-line\" d=\"M91,196.85L91,232.05\" style=\"vector-effect: non-scaling-stroke; fill: none; stroke: rgb(174, 199, 232); stroke-opacity: 1; stroke-width: 2px; opacity: 1;\"/><path class=\"js-line\" d=\"M226.84,196.85L226.84,204.91\" style=\"vector-effect: non-scaling-stroke; fill: none; stroke: rgb(174, 199, 232); stroke-opacity: 1; stroke-width: 2px; opacity: 1;\"/></g><g class=\"points\"/><g class=\"text\"/></g><g class=\"trace scatter tracef652c7\" style=\"stroke-miterlimit: 2; opacity: 1;\"><g class=\"fills\"/><g class=\"errorbars\"/><g class=\"lines\"><path class=\"js-line\" d=\"M147,204.91L306.69,204.91\" style=\"vector-effect: non-scaling-stroke; fill: none; stroke: rgb(174, 199, 232); stroke-opacity: 1; stroke-width: 2px; opacity: 1;\"/><path class=\"js-line\" d=\"M147,204.91L147,210.63\" style=\"vector-effect: non-scaling-stroke; fill: none; stroke: rgb(174, 199, 232); stroke-opacity: 1; stroke-width: 2px; opacity: 1;\"/><path class=\"js-line\" d=\"M306.69,204.91L306.69,208.82\" style=\"vector-effect: non-scaling-stroke; fill: none; stroke: rgb(174, 199, 232); stroke-opacity: 1; stroke-width: 2px; opacity: 1;\"/></g><g class=\"points\"/><g class=\"text\"/></g><g class=\"trace scatter tracea27421\" style=\"stroke-miterlimit: 2; opacity: 1;\"><g class=\"fills\"/><g class=\"errorbars\"/><g class=\"lines\"><path class=\"js-line\" d=\"M287,220.74L388.5,220.74\" style=\"vector-effect: non-scaling-stroke; fill: none; stroke: rgb(174, 199, 232); stroke-opacity: 1; stroke-width: 2px; opacity: 1;\"/><path class=\"js-line\" d=\"M287,220.74L287,365.09\" style=\"vector-effect: non-scaling-stroke; fill: none; stroke: rgb(174, 199, 232); stroke-opacity: 1; stroke-width: 2px; opacity: 1;\"/><path class=\"js-line\" d=\"M388.5,220.74L388.5,237.51\" style=\"vector-effect: non-scaling-stroke; fill: none; stroke: rgb(174, 199, 232); stroke-opacity: 1; stroke-width: 2px; opacity: 1;\"/></g><g class=\"points\"/><g class=\"text\"/></g><g class=\"trace scatter trace99e179\" style=\"stroke-miterlimit: 2; opacity: 1;\"><g class=\"fills\"><g><path class=\"js-fill\" d=\"M329,366.42L329,365.5L357,365.5L357,366.42Z\" style=\"fill: rgb(174, 199, 232); fill-opacity: 0.5; stroke-width: 0;\"/></g></g><g class=\"errorbars\"/><g class=\"lines\"><path class=\"js-line\" d=\"M329,366.42L329,365.5L357,365.5L357,366.42\" style=\"vector-effect: non-scaling-stroke; fill: none; stroke: rgb(174, 199, 232); stroke-opacity: 1; stroke-width: 2px; opacity: 1;\"/></g><g class=\"points\"/><g class=\"text\"/></g><g class=\"trace scatter trace7d7ba8\" style=\"stroke-miterlimit: 2; opacity: 1;\"><g class=\"fills\"/><g class=\"errorbars\"/><g class=\"lines\"><path class=\"js-line\" d=\"M343,364.42L385,364.42\" style=\"vector-effect: non-scaling-stroke; fill: none; stroke: rgb(174, 199, 232); stroke-opacity: 1; stroke-width: 2px; opacity: 1;\"/><path class=\"js-line\" d=\"M343,364.42L343,365.5\" style=\"vector-effect: non-scaling-stroke; fill: none; stroke: rgb(174, 199, 232); stroke-opacity: 1; stroke-width: 2px; opacity: 1;\"/><path class=\"js-line\" d=\"M385,364.42L385,366.42\" style=\"vector-effect: non-scaling-stroke; fill: none; stroke: rgb(174, 199, 232); stroke-opacity: 1; stroke-width: 2px; opacity: 1;\"/></g><g class=\"points\"/><g class=\"text\"/></g><g class=\"trace scatter trace6d99f6\" style=\"stroke-miterlimit: 2; opacity: 1;\"><g class=\"fills\"/><g class=\"errorbars\"/><g class=\"lines\"><path class=\"js-line\" d=\"M158.92,187.05L469,187.05\" style=\"vector-effect: non-scaling-stroke; fill: none; stroke: rgb(174, 199, 232); stroke-opacity: 1; stroke-width: 2px; opacity: 1;\"/><path class=\"js-line\" d=\"M158.92,187.05L158.92,196.85\" style=\"vector-effect: non-scaling-stroke; fill: none; stroke: rgb(174, 199, 232); stroke-opacity: 1; stroke-width: 2px; opacity: 1;\"/><path class=\"js-line\" d=\"M469,187.05L469,366.42\" style=\"vector-effect: non-scaling-stroke; fill: none; stroke: rgb(174, 199, 232); stroke-opacity: 1; stroke-width: 2px; opacity: 1;\"/></g><g class=\"points\"/><g class=\"text\"/></g><g class=\"trace scatter trace02f873\" style=\"stroke-miterlimit: 2; opacity: 1;\"><g class=\"fills\"/><g class=\"errorbars\"/><g class=\"lines\"><path class=\"js-line\" d=\"M77,232.05L105,232.05\" style=\"vector-effect: non-scaling-stroke; fill: none; stroke: rgb(174, 199, 232); stroke-opacity: 1; stroke-width: 2px; opacity: 1;\"/><path class=\"js-line\" d=\"M77,232.05L77,366.42\" style=\"vector-effect: non-scaling-stroke; fill: none; stroke: rgb(174, 199, 232); stroke-opacity: 1; stroke-width: 2px; opacity: 1;\"/><path class=\"js-line\" d=\"M105,232.05L105,366.42\" style=\"vector-effect: non-scaling-stroke; fill: none; stroke: rgb(174, 199, 232); stroke-opacity: 1; stroke-width: 2px; opacity: 1;\"/></g><g class=\"points\"/><g class=\"text\"/></g><g class=\"trace scatter trace125c24\" style=\"stroke-miterlimit: 2; opacity: 1;\"><g class=\"fills\"/><g class=\"errorbars\"/><g class=\"lines\"><path class=\"js-line\" d=\"M35,175.71L313.96,175.71\" style=\"vector-effect: non-scaling-stroke; fill: none; stroke: rgb(174, 199, 232); stroke-opacity: 1; stroke-width: 2px; opacity: 1;\"/><path class=\"js-line\" d=\"M35,175.71L35,317.64\" style=\"vector-effect: non-scaling-stroke; fill: none; stroke: rgb(174, 199, 232); stroke-opacity: 1; stroke-width: 2px; opacity: 1;\"/><path class=\"js-line\" d=\"M313.96,175.71L313.96,187.05\" style=\"vector-effect: non-scaling-stroke; fill: none; stroke: rgb(174, 199, 232); stroke-opacity: 1; stroke-width: 2px; opacity: 1;\"/></g><g class=\"points\"/><g class=\"text\"/></g><g class=\"trace scatter trace323290\" style=\"stroke-miterlimit: 2; opacity: 1;\"><g class=\"fills\"/><g class=\"errorbars\"/><g class=\"lines\"><path class=\"js-line\" d=\"M273,365.09L301,365.09\" style=\"vector-effect: non-scaling-stroke; fill: none; stroke: rgb(174, 199, 232); stroke-opacity: 1; stroke-width: 2px; opacity: 1;\"/><path class=\"js-line\" d=\"M273,365.09L273,366.42\" style=\"vector-effect: non-scaling-stroke; fill: none; stroke: rgb(174, 199, 232); stroke-opacity: 1; stroke-width: 2px; opacity: 1;\"/><path class=\"js-line\" d=\"M301,365.09L301,366.42\" style=\"vector-effect: non-scaling-stroke; fill: none; stroke: rgb(174, 199, 232); stroke-opacity: 1; stroke-width: 2px; opacity: 1;\"/></g><g class=\"points\"/><g class=\"text\"/></g><g class=\"trace scatter trace6ec596\" style=\"stroke-miterlimit: 2; opacity: 1;\"><g class=\"fills\"/><g class=\"errorbars\"/><g class=\"lines\"><path class=\"js-line\" d=\"M337.75,212.76L441,212.76\" style=\"vector-effect: non-scaling-stroke; fill: none; stroke: rgb(174, 199, 232); stroke-opacity: 1; stroke-width: 2px; opacity: 1;\"/><path class=\"js-line\" d=\"M337.75,212.76L337.75,220.74\" style=\"vector-effect: non-scaling-stroke; fill: none; stroke: rgb(174, 199, 232); stroke-opacity: 1; stroke-width: 2px; opacity: 1;\"/><path class=\"js-line\" d=\"M441,212.76L441,366.42\" style=\"vector-effect: non-scaling-stroke; fill: none; stroke: rgb(174, 199, 232); stroke-opacity: 1; stroke-width: 2px; opacity: 1;\"/></g><g class=\"points\"/><g class=\"text\"/></g><g class=\"trace scatter trace180a3d\" style=\"stroke-miterlimit: 2; opacity: 1;\"><g class=\"fills\"/><g class=\"errorbars\"/><g class=\"lines\"><path class=\"js-line\" d=\"M364,237.51L413,237.51\" style=\"vector-effect: non-scaling-stroke; fill: none; stroke: rgb(174, 199, 232); stroke-opacity: 1; stroke-width: 2px; opacity: 1;\"/><path class=\"js-line\" d=\"M364,237.51L364,364.42\" style=\"vector-effect: non-scaling-stroke; fill: none; stroke: rgb(174, 199, 232); stroke-opacity: 1; stroke-width: 2px; opacity: 1;\"/><path class=\"js-line\" d=\"M413,237.51L413,366.42\" style=\"vector-effect: non-scaling-stroke; fill: none; stroke: rgb(174, 199, 232); stroke-opacity: 1; stroke-width: 2px; opacity: 1;\"/></g><g class=\"points\"/><g class=\"text\"/></g><g class=\"trace scatter tracec5cb58\" style=\"stroke-miterlimit: 2; opacity: 1;\"><g class=\"fills\"/><g class=\"errorbars\"/><g class=\"lines\"><path class=\"js-line\" d=\"M497,187.7L525,187.7\" style=\"vector-effect: non-scaling-stroke; fill: none; stroke: rgb(102, 102, 102); stroke-opacity: 1; stroke-width: 2px; opacity: 1;\"/><path class=\"js-line\" d=\"M497,187.7L497,366.42\" style=\"vector-effect: non-scaling-stroke; fill: none; stroke: rgb(102, 102, 102); stroke-opacity: 1; stroke-width: 2px; opacity: 1;\"/><path class=\"js-line\" d=\"M525,187.7L525,366.42\" style=\"vector-effect: non-scaling-stroke; fill: none; stroke: rgb(102, 102, 102); stroke-opacity: 1; stroke-width: 2px; opacity: 1;\"/></g><g class=\"points\"/><g class=\"text\"/></g><g class=\"trace scatter tracec86317\" style=\"stroke-miterlimit: 2; opacity: 1;\"><g class=\"fills\"/><g class=\"errorbars\"/><g class=\"lines\"><path class=\"js-line\" d=\"M174.48,24.5L539,24.5\" style=\"vector-effect: non-scaling-stroke; fill: none; stroke: rgb(102, 102, 102); stroke-opacity: 1; stroke-width: 2px; opacity: 1;\"/><path class=\"js-line\" d=\"M174.48,24.5L174.48,175.71\" style=\"vector-effect: non-scaling-stroke; fill: none; stroke: rgb(102, 102, 102); stroke-opacity: 1; stroke-width: 2px; opacity: 1;\"/><path class=\"js-line\" d=\"M539,24.5L539,163.91\" style=\"vector-effect: non-scaling-stroke; fill: none; stroke: rgb(102, 102, 102); stroke-opacity: 1; stroke-width: 2px; opacity: 1;\"/></g><g class=\"points\"/><g class=\"text\"/></g><g class=\"trace scatter trace1451d1\" style=\"stroke-miterlimit: 2; opacity: 1;\"><g class=\"fills\"/><g class=\"errorbars\"/><g class=\"lines\"><path class=\"js-line\" d=\"M224,208.82L389.38,208.82\" style=\"vector-effect: non-scaling-stroke; fill: none; stroke: rgb(174, 199, 232); stroke-opacity: 1; stroke-width: 2px; opacity: 1;\"/><path class=\"js-line\" d=\"M224,208.82L224,215.84\" style=\"vector-effect: non-scaling-stroke; fill: none; stroke: rgb(174, 199, 232); stroke-opacity: 1; stroke-width: 2px; opacity: 1;\"/><path class=\"js-line\" d=\"M389.38,208.82L389.38,212.76\" style=\"vector-effect: non-scaling-stroke; fill: none; stroke: rgb(174, 199, 232); stroke-opacity: 1; stroke-width: 2px; opacity: 1;\"/></g><g class=\"points\"/><g class=\"text\"/></g><g class=\"trace scatter tracea88a0f\" style=\"stroke-miterlimit: 2; opacity: 1;\"><g class=\"fills\"/><g class=\"errorbars\"/><g class=\"lines\"><path class=\"js-line\" d=\"M203,215.84L245,215.84\" style=\"vector-effect: non-scaling-stroke; fill: none; stroke: rgb(174, 199, 232); stroke-opacity: 1; stroke-width: 2px; opacity: 1;\"/><path class=\"js-line\" d=\"M203,215.84L203,306.9\" style=\"vector-effect: non-scaling-stroke; fill: none; stroke: rgb(174, 199, 232); stroke-opacity: 1; stroke-width: 2px; opacity: 1;\"/><path class=\"js-line\" d=\"M245,215.84L245,366.42\" style=\"vector-effect: non-scaling-stroke; fill: none; stroke: rgb(174, 199, 232); stroke-opacity: 1; stroke-width: 2px; opacity: 1;\"/></g><g class=\"points\"/><g class=\"text\"/></g><g class=\"trace scatter tracee723e9\" style=\"stroke-miterlimit: 2; opacity: 1;\"><g class=\"fills\"/><g class=\"errorbars\"/><g class=\"lines\"/><g class=\"points\"><path class=\"point plotly-customdata\" transform=\"translate(306.69,208.82)\" d=\"M2,0A2,2 0 1,1 0,-2A2,2 0 0,1 2,0Z\" style=\"opacity: 0.7; stroke-width: 1px; fill: rgb(174, 199, 232); fill-opacity: 1; stroke: rgb(255, 255, 255); stroke-opacity: 1;\"/><path class=\"point plotly-customdata\" transform=\"translate(224,215.84)\" d=\"M2,0A2,2 0 1,1 0,-2A2,2 0 0,1 2,0Z\" style=\"opacity: 0.7; stroke-width: 1px; fill: rgb(174, 199, 232); fill-opacity: 1; stroke: rgb(255, 255, 255); stroke-opacity: 1;\"/><path class=\"point plotly-customdata\" transform=\"translate(147,210.63)\" d=\"M2,0A2,2 0 1,1 0,-2A2,2 0 0,1 2,0Z\" style=\"opacity: 0.7; stroke-width: 1px; fill: rgb(174, 199, 232); fill-opacity: 1; stroke: rgb(255, 255, 255); stroke-opacity: 1;\"/><path class=\"point plotly-customdata\" transform=\"translate(539,163.91)\" d=\"M4,0A4,4 0 1,1 0,-4A4,4 0 0,1 4,0Z\" style=\"opacity: 0.7; stroke-width: 1px; fill: rgb(102, 102, 102); fill-opacity: 1; stroke: rgb(255, 255, 255); stroke-opacity: 1;\"/><path class=\"point plotly-customdata\" transform=\"translate(567,174.76)\" d=\"M2,0A2,2 0 1,1 0,-2A2,2 0 0,1 2,0Z\" style=\"opacity: 0.7; stroke-width: 1px; fill: rgb(255, 187, 120); fill-opacity: 1; stroke: rgb(255, 255, 255); stroke-opacity: 1;\"/><path class=\"point plotly-customdata\" transform=\"translate(203,306.9)\" d=\"M4,0A4,4 0 1,1 0,-4A4,4 0 0,1 4,0Z\" style=\"opacity: 0.7; stroke-width: 1px; fill: rgb(174, 199, 232); fill-opacity: 1; stroke: rgb(255, 255, 255); stroke-opacity: 1;\"/><path class=\"point plotly-customdata\" transform=\"translate(35,317.64)\" d=\"M4,0A4,4 0 1,1 0,-4A4,4 0 0,1 4,0Z\" style=\"opacity: 0.7; stroke-width: 1px; fill: rgb(174, 199, 232); fill-opacity: 1; stroke: rgb(255, 255, 255); stroke-opacity: 1;\"/><path class=\"point plotly-customdata\" transform=\"translate(158.92,196.85)\" d=\"M2,0A2,2 0 1,1 0,-2A2,2 0 0,1 2,0Z\" style=\"opacity: 0.7; stroke-width: 1px; fill: rgb(174, 199, 232); fill-opacity: 1; stroke: rgb(255, 255, 255); stroke-opacity: 1;\"/><path class=\"point plotly-customdata\" transform=\"translate(226.84,204.91)\" d=\"M2,0A2,2 0 1,1 0,-2A2,2 0 0,1 2,0Z\" style=\"opacity: 0.7; stroke-width: 1px; fill: rgb(174, 199, 232); fill-opacity: 1; stroke: rgb(255, 255, 255); stroke-opacity: 1;\"/><path class=\"point plotly-customdata\" transform=\"translate(337.75,220.74)\" d=\"M2,0A2,2 0 1,1 0,-2A2,2 0 0,1 2,0Z\" style=\"opacity: 0.7; stroke-width: 1px; fill: rgb(174, 199, 232); fill-opacity: 1; stroke: rgb(255, 255, 255); stroke-opacity: 1;\"/><path class=\"point plotly-customdata\" transform=\"translate(343,365.5)\" d=\"M4,0A4,4 0 1,1 0,-4A4,4 0 0,1 4,0Z\" style=\"opacity: 0.7; stroke-width: 1px; fill: rgb(174, 199, 232); fill-opacity: 1; stroke: rgb(255, 255, 255); stroke-opacity: 1;\"/><path class=\"point plotly-customdata\" transform=\"translate(364,364.42)\" d=\"M4,0A4,4 0 1,1 0,-4A4,4 0 0,1 4,0Z\" style=\"opacity: 0.7; stroke-width: 1px; fill: rgb(174, 199, 232); fill-opacity: 1; stroke: rgb(255, 255, 255); stroke-opacity: 1;\"/><path class=\"point plotly-customdata\" transform=\"translate(313.96,187.05)\" d=\"M2,0A2,2 0 1,1 0,-2A2,2 0 0,1 2,0Z\" style=\"opacity: 0.7; stroke-width: 1px; fill: rgb(174, 199, 232); fill-opacity: 1; stroke: rgb(255, 255, 255); stroke-opacity: 1;\"/><path class=\"point plotly-customdata\" transform=\"translate(91,232.05)\" d=\"M4,0A4,4 0 1,1 0,-4A4,4 0 0,1 4,0Z\" style=\"opacity: 0.7; stroke-width: 1px; fill: rgb(174, 199, 232); fill-opacity: 1; stroke: rgb(255, 255, 255); stroke-opacity: 1;\"/><path class=\"point plotly-customdata\" transform=\"translate(174.48,175.71)\" d=\"M4,0A4,4 0 1,1 0,-4A4,4 0 0,1 4,0Z\" style=\"opacity: 0.7; stroke-width: 1px; fill: rgb(174, 199, 232); fill-opacity: 1; stroke: rgb(255, 255, 255); stroke-opacity: 1;\"/><path class=\"point plotly-customdata\" transform=\"translate(287,365.09)\" d=\"M4,0A4,4 0 1,1 0,-4A4,4 0 0,1 4,0Z\" style=\"opacity: 0.7; stroke-width: 1px; fill: rgb(174, 199, 232); fill-opacity: 1; stroke: rgb(255, 255, 255); stroke-opacity: 1;\"/><path class=\"point plotly-customdata\" transform=\"translate(389.38,212.76)\" d=\"M2,0A2,2 0 1,1 0,-2A2,2 0 0,1 2,0Z\" style=\"opacity: 0.7; stroke-width: 1px; fill: rgb(174, 199, 232); fill-opacity: 1; stroke: rgb(255, 255, 255); stroke-opacity: 1;\"/><path class=\"point plotly-customdata\" transform=\"translate(388.5,237.51)\" d=\"M4,0A4,4 0 1,1 0,-4A4,4 0 0,1 4,0Z\" style=\"opacity: 0.7; stroke-width: 1px; fill: rgb(174, 199, 232); fill-opacity: 1; stroke: rgb(255, 255, 255); stroke-opacity: 1;\"/><path class=\"point plotly-customdata\" transform=\"translate(511,187.7)\" d=\"M4,0A4,4 0 1,1 0,-4A4,4 0 0,1 4,0Z\" style=\"opacity: 0.7; stroke-width: 1px; fill: rgb(102, 102, 102); fill-opacity: 1; stroke: rgb(255, 255, 255); stroke-opacity: 1;\"/><path class=\"point plotly-customdata\" transform=\"translate(356.74,24.5)\" d=\"M4,0A4,4 0 1,1 0,-4A4,4 0 0,1 4,0Z\" style=\"opacity: 0.7; stroke-width: 1px; fill: rgb(102, 102, 102); fill-opacity: 1; stroke: rgb(255, 255, 255); stroke-opacity: 1;\"/></g><g class=\"text\"/></g></g></g><g class=\"overplot\"/><path class=\"xlines-above crisp\" d=\"M0,0\" style=\"fill: none;\"/><path class=\"ylines-above crisp\" d=\"M0,0\" style=\"fill: none;\"/><g class=\"overlines-above\"/><g class=\"xaxislayer-above\"/><g class=\"yaxislayer-above\"><g class=\"ytick\"><text text-anchor=\"end\" x=\"49\" y=\"4.199999999999999\" transform=\"translate(0,426.42)\" style=\"font-family: 'Open Sans', verdana, arial, sans-serif; font-size: 12px; fill: rgb(68, 68, 68); fill-opacity: 1; white-space: pre;\">0</text></g><g class=\"ytick\"><text text-anchor=\"end\" x=\"49\" y=\"4.199999999999999\" transform=\"translate(0,384.08)\" style=\"font-family: 'Open Sans', verdana, arial, sans-serif; font-size: 12px; fill: rgb(68, 68, 68); fill-opacity: 1; white-space: pre;\">0.1</text></g><g class=\"ytick\"><text text-anchor=\"end\" x=\"49\" y=\"4.199999999999999\" transform=\"translate(0,341.74)\" style=\"font-family: 'Open Sans', verdana, arial, sans-serif; font-size: 12px; fill: rgb(68, 68, 68); fill-opacity: 1; white-space: pre;\">0.2</text></g><g class=\"ytick\"><text text-anchor=\"end\" x=\"49\" y=\"4.199999999999999\" transform=\"translate(0,299.40999999999997)\" style=\"font-family: 'Open Sans', verdana, arial, sans-serif; font-size: 12px; fill: rgb(68, 68, 68); fill-opacity: 1; white-space: pre;\">0.3</text></g><g class=\"ytick\"><text text-anchor=\"end\" x=\"49\" y=\"4.199999999999999\" transform=\"translate(0,257.07)\" style=\"font-family: 'Open Sans', verdana, arial, sans-serif; font-size: 12px; fill: rgb(68, 68, 68); fill-opacity: 1; white-space: pre;\">0.4</text></g><g class=\"ytick\"><text text-anchor=\"end\" x=\"49\" y=\"4.199999999999999\" transform=\"translate(0,214.74)\" style=\"font-family: 'Open Sans', verdana, arial, sans-serif; font-size: 12px; fill: rgb(68, 68, 68); fill-opacity: 1; white-space: pre;\">0.5</text></g><g class=\"ytick\"><text text-anchor=\"end\" x=\"49\" y=\"4.199999999999999\" transform=\"translate(0,172.4)\" style=\"font-family: 'Open Sans', verdana, arial, sans-serif; font-size: 12px; fill: rgb(68, 68, 68); fill-opacity: 1; white-space: pre;\">0.6</text></g><g class=\"ytick\"><text text-anchor=\"end\" x=\"49\" y=\"4.199999999999999\" transform=\"translate(0,130.06)\" style=\"font-family: 'Open Sans', verdana, arial, sans-serif; font-size: 12px; fill: rgb(68, 68, 68); fill-opacity: 1; white-space: pre;\">0.7</text></g><g class=\"ytick\"><text text-anchor=\"end\" x=\"49\" y=\"4.199999999999999\" transform=\"translate(0,87.73)\" style=\"font-family: 'Open Sans', verdana, arial, sans-serif; font-size: 12px; fill: rgb(68, 68, 68); fill-opacity: 1; white-space: pre;\">0.8</text></g></g><g class=\"overaxes-above\"/></g><g class=\"subplot xy2\"><rect class=\"bg\" x=\"50\" y=\"430.5\" width=\"600\" height=\"19.5\" style=\"fill: rgb(255, 255, 255); fill-opacity: 1; stroke-width: 0;\"/><g class=\"layer-subplot\"><g class=\"shapelayer\"/><g class=\"imagelayer\"/></g><g class=\"gridlayer\"><g class=\"x\"/><g class=\"y2\"/></g><g class=\"zerolinelayer\"/><path class=\"xlines-below\"/><path class=\"ylines-below\"/><g class=\"overlines-below\"/><g class=\"xaxislayer-below\"/><g class=\"yaxislayer-below\"/><g class=\"overaxes-below\"/><g class=\"plot\" transform=\"translate(50,430.5)\" clip-path=\"url('#clip804f90xy2plot')\"><g class=\"heatmaplayer mlayer\"><g class=\"hm\"><image xmlns=\"http://www.w3.org/2000/svg\" preserveAspectRatio=\"none\" height=\"20\" width=\"588\" x=\"7\" y=\"0\" xlink:href=\"data:image/png;base64,iVBORw0KGgoAAAANSUhEUgAAAkwAAAAUCAYAAAB/JmJwAAACpElEQVR4Xu2ZUVEEMRAFWRdYQQAGUIME1GAAAVjBxVFBwKZS1eRVvTTfqexdz5uZZu/6/P55PG36e3t5vnweB1ueHMtxkzzlyRJgbzOf8lwhMPLy+Hrftt+v14/65ykwKwmcnHWggTAVGBamPHGeuy90vrDET+CpMHGZGUKoMHE8fUMBsvSNDwxTYeKBbr7xhAXvLxBcqHzDxLEcNylMLE+FSZ5LBFyAS7imh3fznH4g+MDu7+fz2AImePqGiauhwsSx/Lsp0RD+R8YV0fpxLE/oB5bW/DbzOWe0cuIEngrTSiLuzypMHEuFCWZ5wsI9YWA3C/0/RP72SvPCEj+Bp8LEZUZh4lgqTDBLhYkHesKC2ClofIXub7R+LPETeCpMXGYUJo6lwgSzVJh4oCcsCIWJy4154Vim5pnCxNVQYeJYKkwwy9SA2blwXUhsaHbzZD/9/Lbd38/nzWuyciLBU2FaqdD9WYWJY6kwwSwVJh5oYmA3CyhfIX+Sa85Lov8UJq5LFSaOpcIEs1SYeKCJgd28APkKKUzNeUn0n8LEdanCxLFUmGCWChMPNDGwmxcgXyGFqTkvif5TmLguVZg4lgoTzFJh4oEmBnbzAuQrpDA15yXRfwoT16UKE8dSYYJZKkw80MTAbl6AfIUUpua8JPpPYeK6VGHiWCpMMEuFiQeaGNjNC5CvkMLUnJdE/ylMXJcqTBxLhQlmqTDxQBMDu3kB8hVSmJrzkug/hYnrUoWJY6kwwSwVJh5oYmA3L0C+QgpTc14S/acwcV2qMHEsFSaYpcLEA00M7OYFyFdIYWrOS6L/FCauSxUmjqXCBLNUmHigiYHdvAD5CilMzXlJ9J/CxHWpwsSxVJhglgoTDzQxsJsXIF8hhak5L4n+U5i4Lh3C9AsH9EBvXV0nYAAAAABJRU5ErkJggg==\" style=\"opacity: 1;\"/></g></g></g><g class=\"overplot\"/><path class=\"xlines-above crisp\" d=\"M0,0\" style=\"fill: none;\"/><path class=\"ylines-above crisp\" d=\"M0,0\" style=\"fill: none;\"/><g class=\"overlines-above\"/><g class=\"xaxislayer-above\"/><g class=\"yaxislayer-above\"/><g class=\"overaxes-above\"/></g></g><g class=\"polarlayer\"/><g class=\"ternarylayer\"/><g class=\"geolayer\"/><g class=\"funnelarealayer\"/><g class=\"pielayer\"/><g class=\"treemaplayer\"/><g class=\"sunburstlayer\"/><g class=\"glimages\"/><defs id=\"topdefs-804f90\"><g class=\"clips\"/></defs><g class=\"layer-above\"><g class=\"imagelayer\"/><g class=\"shapelayer\"/></g><g class=\"infolayer\"><g class=\"g-gtitle\"/><g class=\"g-ytitle\"/></g></svg>"
      ],
      "text/html": [
       "<div\n",
       "    class=\"webio-mountpoint\"\n",
       "    data-webio-mountpoint=\"15830747093239426637\"\n",
       ">\n",
       "    <script>\n",
       "    if (window.require && require.defined && require.defined(\"nbextensions/webio-jupyter-notebook\")) {\n",
       "        console.log(\"Jupyter WebIO extension detected, not mounting.\");\n",
       "    } else if (window.WebIO) {\n",
       "        WebIO.mount(\n",
       "            document.querySelector('[data-webio-mountpoint=\"15830747093239426637\"]'),\n",
       "            {\"props\":{},\"nodeType\":\"Scope\",\"type\":\"node\",\"instanceArgs\":{\"imports\":{\"data\":[{\"name\":\"Plotly\",\"type\":\"js\",\"url\":\"\\/assetserver\\/e6903599031aaef8675931dfcd7df98a1aeffbfc-plotly-latest.min.js\"},{\"name\":null,\"type\":\"js\",\"url\":\"\\/assetserver\\/74a5dea81f21b0b802ef1ee92f1c8a504eac1a0c-plotly_webio.bundle.js\"}],\"type\":\"async_block\"},\"id\":\"4498953796500817580\",\"handlers\":{\"_toImage\":[\"(function (options){return this.Plotly.toImage(this.plotElem,options).then((function (data){return WebIO.setval({\\\"name\\\":\\\"image\\\",\\\"scope\\\":\\\"4498953796500817580\\\",\\\"id\\\":\\\"18265161585155904756\\\",\\\"type\\\":\\\"observable\\\"},data)}))})\"],\"__get_gd_contents\":[\"(function (prop){prop==\\\"data\\\" ? (WebIO.setval({\\\"name\\\":\\\"__gd_contents\\\",\\\"scope\\\":\\\"4498953796500817580\\\",\\\"id\\\":\\\"6455191784238165634\\\",\\\"type\\\":\\\"observable\\\"},this.plotElem.data)) : undefined; return prop==\\\"layout\\\" ? (WebIO.setval({\\\"name\\\":\\\"__gd_contents\\\",\\\"scope\\\":\\\"4498953796500817580\\\",\\\"id\\\":\\\"6455191784238165634\\\",\\\"type\\\":\\\"observable\\\"},this.plotElem.layout)) : undefined})\"],\"_downloadImage\":[\"(function (options){return this.Plotly.downloadImage(this.plotElem,options)})\"],\"_commands\":[\"(function (args){var fn=args.shift(); var elem=this.plotElem; var Plotly=this.Plotly; args.unshift(elem); return Plotly[fn].apply(this,args)})\"]},\"systemjs_options\":null,\"mount_callbacks\":[\"function () {\\n    var handler = ((function (Plotly,PlotlyWebIO){PlotlyWebIO.init(WebIO); var gd=this.dom.querySelector(\\\"#plot-7576cde4-7d4e-44bc-9bb2-1c9b3d956e4d\\\"); this.plotElem=gd; this.Plotly=Plotly; (window.Blink!==undefined) ? (gd.style.width=\\\"100%\\\", gd.style.height=\\\"100vh\\\", gd.style.marginLeft=\\\"0%\\\", gd.style.marginTop=\\\"0vh\\\") : undefined; window.onresize=(function (){return Plotly.Plots.resize(gd)}); Plotly.newPlot(gd,[{\\\"showlegend\\\":false,\\\"mode\\\":\\\"lines\\\",\\\"line\\\":{\\\"color\\\":\\\"#AEC7E8\\\"},\\\"y\\\":[0.36797183752059937,0.36797183752059937,null,0.36797183752059937,0.0,null,0.36797183752059937,0.0,null],\\\"type\\\":\\\"scatter\\\",\\\"hoverinfo\\\":\\\"skip\\\",\\\"yaxis\\\":\\\"y1\\\",\\\"x\\\":[5.0,6.0,null,5.0,5.0,null,6.0,6.0,null]},{\\\"showlegend\\\":false,\\\"mode\\\":\\\"lines\\\",\\\"line\\\":{\\\"color\\\":\\\"#666666\\\"},\\\"y\\\":[0.47833219170570374,0.47833219170570374,null,0.47833219170570374,0.4221467971801758,null,0.47833219170570374,0.45270124077796936,null],\\\"type\\\":\\\"scatter\\\",\\\"hoverinfo\\\":\\\"skip\\\",\\\"yaxis\\\":\\\"y1\\\",\\\"x\\\":[18.5,20.5,null,18.5,18.5,null,20.5,20.5,null]},{\\\"showlegend\\\":false,\\\"mode\\\":\\\"lines\\\",\\\"line\\\":{\\\"color\\\":\\\"#FFBB78\\\"},\\\"y\\\":[0.45270124077796936,0.45270124077796936,null,0.45270124077796936,0.0,null,0.45270124077796936,0.0,null],\\\"type\\\":\\\"scatter\\\",\\\"hoverinfo\\\":\\\"skip\\\",\\\"yaxis\\\":\\\"y1\\\",\\\"x\\\":[20.0,21.0,null,20.0,20.0,null,21.0,21.0,null]},{\\\"showlegend\\\":false,\\\"mode\\\":\\\"lines\\\",\\\"line\\\":{\\\"color\\\":\\\"#AEC7E8\\\"},\\\"y\\\":[0.1405893713235855,0.1405893713235855,null,0.1405893713235855,0.0,null,0.1405893713235855,0.0,null],\\\"type\\\":\\\"scatter\\\",\\\"hoverinfo\\\":\\\"skip\\\",\\\"yaxis\\\":\\\"y1\\\",\\\"x\\\":[7.0,8.0,null,7.0,7.0,null,8.0,8.0,null]},{\\\"showlegend\\\":false,\\\"mode\\\":\\\"lines\\\",\\\"line\\\":{\\\"color\\\":\\\"#AEC7E8\\\"},\\\"y\\\":[0.11521344631910324,0.11521344631910324,null,0.11521344631910324,0.0,null,0.11521344631910324,0.0,null],\\\"type\\\":\\\"scatter\\\",\\\"hoverinfo\\\":\\\"skip\\\",\\\"yaxis\\\":\\\"y1\\\",\\\"x\\\":[1.0,2.0,null,1.0,1.0,null,2.0,2.0,null]},{\\\"showlegend\\\":false,\\\"mode\\\":\\\"lines\\\",\\\"line\\\":{\\\"color\\\":\\\"#AEC7E8\\\"},\\\"y\\\":[0.4005316495895386,0.4005316495895386,null,0.4005316495895386,0.3173793852329254,null,0.4005316495895386,0.3814748525619507,null],\\\"type\\\":\\\"scatter\\\",\\\"hoverinfo\\\":\\\"skip\\\",\\\"yaxis\\\":\\\"y1\\\",\\\"x\\\":[3.5,8.3515625,null,3.5,3.5,null,8.3515625,8.3515625,null]},{\\\"showlegend\\\":false,\\\"mode\\\":\\\"lines\\\",\\\"line\\\":{\\\"color\\\":\\\"#AEC7E8\\\"},\\\"y\\\":[0.3814748525619507,0.3814748525619507,null,0.3814748525619507,0.36797183752059937,null,0.3814748525619507,0.37224188446998596,null],\\\"type\\\":\\\"scatter\\\",\\\"hoverinfo\\\":\\\"skip\\\",\\\"yaxis\\\":\\\"y1\\\",\\\"x\\\":[5.5,11.203125,null,5.5,5.5,null,11.203125,11.203125,null]},{\\\"showlegend\\\":false,\\\"mode\\\":\\\"lines\\\",\\\"line\\\":{\\\"color\\\":\\\"#AEC7E8\\\"},\\\"y\\\":[0.3440835773944855,0.3440835773944855,null,0.3440835773944855,0.0031321970745921135,null,0.3440835773944855,0.30449095368385315,null],\\\"type\\\":\\\"scatter\\\",\\\"hoverinfo\\\":\\\"skip\\\",\\\"yaxis\\\":\\\"y1\\\",\\\"x\\\":[10.5,14.125,null,10.5,10.5,null,14.125,14.125,null]},{\\\"showlegend\\\":false,\\\"mode\\\":\\\"lines\\\",\\\"line\\\":{\\\"color\\\":\\\"#AEC7E8\\\"},\\\"y\\\":[0.0,0.002168788341805339,0.002168788341805339,0.0],\\\"type\\\":\\\"scatter\\\",\\\"fill\\\":\\\"toself\\\",\\\"hoverinfo\\\":\\\"skip\\\",\\\"yaxis\\\":\\\"y1\\\",\\\"x\\\":[12.0,12.0,13.0,13.0]},{\\\"showlegend\\\":false,\\\"mode\\\":\\\"lines\\\",\\\"line\\\":{\\\"color\\\":\\\"#AEC7E8\\\"},\\\"y\\\":[0.004716091323643923,0.004716091323643923,null,0.004716091323643923,0.002168788341805339,null,0.004716091323643923,0.0,null],\\\"type\\\":\\\"scatter\\\",\\\"hoverinfo\\\":\\\"skip\\\",\\\"yaxis\\\":\\\"y1\\\",\\\"x\\\":[12.5,14.0,null,12.5,12.5,null,14.0,14.0,null]},{\\\"showlegend\\\":false,\\\"mode\\\":\\\"lines\\\",\\\"line\\\":{\\\"color\\\":\\\"#AEC7E8\\\"},\\\"y\\\":[0.4236702024936676,0.4236702024936676,null,0.4236702024936676,0.4005316495895386,null,0.4236702024936676,0.0,null],\\\"type\\\":\\\"scatter\\\",\\\"hoverinfo\\\":\\\"skip\\\",\\\"yaxis\\\":\\\"y1\\\",\\\"x\\\":[5.92578125,17.0,null,5.92578125,5.92578125,null,17.0,17.0,null]},{\\\"showlegend\\\":false,\\\"mode\\\":\\\"lines\\\",\\\"line\\\":{\\\"color\\\":\\\"#AEC7E8\\\"},\\\"y\\\":[0.3173793852329254,0.3173793852329254,null,0.3173793852329254,0.0,null,0.3173793852329254,0.0,null],\\\"type\\\":\\\"scatter\\\",\\\"hoverinfo\\\":\\\"skip\\\",\\\"yaxis\\\":\\\"y1\\\",\\\"x\\\":[3.0,4.0,null,3.0,3.0,null,4.0,4.0,null]},{\\\"showlegend\\\":false,\\\"mode\\\":\\\"lines\\\",\\\"line\\\":{\\\"color\\\":\\\"#AEC7E8\\\"},\\\"y\\\":[0.4504663050174713,0.4504663050174713,null,0.4504663050174713,0.11521344631910324,null,0.4504663050174713,0.4236702024936676,null],\\\"type\\\":\\\"scatter\\\",\\\"hoverinfo\\\":\\\"skip\\\",\\\"yaxis\\\":\\\"y1\\\",\\\"x\\\":[1.5,11.462890625,null,1.5,1.5,null,11.462890625,11.462890625,null]},{\\\"showlegend\\\":false,\\\"mode\\\":\\\"lines\\\",\\\"line\\\":{\\\"color\\\":\\\"#AEC7E8\\\"},\\\"y\\\":[0.0031321970745921135,0.0031321970745921135,null,0.0031321970745921135,0.0,null,0.0031321970745921135,0.0,null],\\\"type\\\":\\\"scatter\\\",\\\"hoverinfo\\\":\\\"skip\\\",\\\"yaxis\\\":\\\"y1\\\",\\\"x\\\":[10.0,11.0,null,10.0,10.0,null,11.0,11.0,null]},{\\\"showlegend\\\":false,\\\"mode\\\":\\\"lines\\\",\\\"line\\\":{\\\"color\\\":\\\"#AEC7E8\\\"},\\\"y\\\":[0.3629343509674072,0.3629343509674072,null,0.3629343509674072,0.3440835773944855,null,0.3629343509674072,0.0,null],\\\"type\\\":\\\"scatter\\\",\\\"hoverinfo\\\":\\\"skip\\\",\\\"yaxis\\\":\\\"y1\\\",\\\"x\\\":[12.3125,16.0,null,12.3125,12.3125,null,16.0,16.0,null]},{\\\"showlegend\\\":false,\\\"mode\\\":\\\"lines\\\",\\\"line\\\":{\\\"color\\\":\\\"#AEC7E8\\\"},\\\"y\\\":[0.30449095368385315,0.30449095368385315,null,0.30449095368385315,0.004716091323643923,null,0.30449095368385315,0.0,null],\\\"type\\\":\\\"scatter\\\",\\\"hoverinfo\\\":\\\"skip\\\",\\\"yaxis\\\":\\\"y1\\\",\\\"x\\\":[13.25,15.0,null,13.25,13.25,null,15.0,15.0,null]},{\\\"showlegend\\\":false,\\\"mode\\\":\\\"lines\\\",\\\"line\\\":{\\\"color\\\":\\\"#666666\\\"},\\\"y\\\":[0.4221467971801758,0.4221467971801758,null,0.4221467971801758,0.0,null,0.4221467971801758,0.0,null],\\\"type\\\":\\\"scatter\\\",\\\"hoverinfo\\\":\\\"skip\\\",\\\"yaxis\\\":\\\"y1\\\",\\\"x\\\":[18.0,19.0,null,18.0,18.0,null,19.0,19.0,null]},{\\\"showlegend\\\":false,\\\"mode\\\":\\\"lines\\\",\\\"line\\\":{\\\"color\\\":\\\"#666666\\\"},\\\"y\\\":[0.8076178431510925,0.8076178431510925,null,0.8076178431510925,0.4504663050174713,null,0.8076178431510925,0.47833219170570374,null],\\\"type\\\":\\\"scatter\\\",\\\"hoverinfo\\\":\\\"skip\\\",\\\"yaxis\\\":\\\"y1\\\",\\\"x\\\":[6.4814453125,19.5,null,6.4814453125,6.4814453125,null,19.5,19.5,null]},{\\\"showlegend\\\":false,\\\"mode\\\":\\\"lines\\\",\\\"line\\\":{\\\"color\\\":\\\"#AEC7E8\\\"},\\\"y\\\":[0.37224188446998596,0.37224188446998596,null,0.37224188446998596,0.3556622564792633,null,0.37224188446998596,0.3629343509674072,null],\\\"type\\\":\\\"scatter\\\",\\\"hoverinfo\\\":\\\"skip\\\",\\\"yaxis\\\":\\\"y1\\\",\\\"x\\\":[8.25,14.15625,null,8.25,8.25,null,14.15625,14.15625,null]},{\\\"showlegend\\\":false,\\\"mode\\\":\\\"lines\\\",\\\"line\\\":{\\\"color\\\":\\\"#AEC7E8\\\"},\\\"y\\\":[0.3556622564792633,0.3556622564792633,null,0.3556622564792633,0.1405893713235855,null,0.3556622564792633,0.0,null],\\\"type\\\":\\\"scatter\\\",\\\"hoverinfo\\\":\\\"skip\\\",\\\"yaxis\\\":\\\"y1\\\",\\\"x\\\":[7.5,9.0,null,7.5,7.5,null,9.0,9.0,null]},{\\\"showlegend\\\":false,\\\"mode\\\":\\\"markers\\\",\\\"marker\\\":{\\\"color\\\":[\\\"#AEC7E8\\\",\\\"#AEC7E8\\\",\\\"#AEC7E8\\\",\\\"#666666\\\",\\\"#FFBB78\\\",\\\"#AEC7E8\\\",\\\"#AEC7E8\\\",\\\"#AEC7E8\\\",\\\"#AEC7E8\\\",\\\"#AEC7E8\\\",\\\"#AEC7E8\\\",\\\"#AEC7E8\\\",\\\"#AEC7E8\\\",\\\"#AEC7E8\\\",\\\"#AEC7E8\\\",\\\"#AEC7E8\\\",\\\"#AEC7E8\\\",\\\"#AEC7E8\\\",\\\"#666666\\\",\\\"#666666\\\"],\\\"size\\\":[4,4,4,8,4,8,8,4,4,4,8,8,4,8,8,8,4,8,8,8]},\\\"y\\\":[0.37224188446998596,0.3556622564792633,0.36797183752059937,0.47833219170570374,0.45270124077796936,0.1405893713235855,0.11521344631910324,0.4005316495895386,0.3814748525619507,0.3440835773944855,0.002168788341805339,0.004716091323643923,0.4236702024936676,0.3173793852329254,0.4504663050174713,0.0031321970745921135,0.3629343509674072,0.30449095368385315,0.4221467971801758,0.8076178431510925],\\\"type\\\":\\\"scatter\\\",\\\"customdata\\\":[[33,10,\\\"alginolyticus\\\"],[30,3,\\\"alginolyticus\\\"],[32,2,\\\"alginolyticus\\\"],[40,4,\\\"(mixed)\\\"],[39,2,\\\"diabolicus\\\"],[26,2,\\\"alginolyticus\\\"],[25,2,\\\"alginolyticus\\\"],[35,14,\\\"alginolyticus\\\"],[34,12,\\\"alginolyticus\\\"],[29,6,\\\"alginolyticus\\\"],[22,2,\\\"alginolyticus\\\"],[24,3,\\\"alginolyticus\\\"],[37,15,\\\"alginolyticus\\\"],[28,2,\\\"alginolyticus\\\"],[38,17,\\\"alginolyticus\\\"],[23,2,\\\"alginolyticus\\\"],[31,7,\\\"alginolyticus\\\"],[27,4,\\\"alginolyticus\\\"],[36,2,\\\"(mixed)\\\"],[41,21,\\\"(mixed)\\\"]],\\\"yaxis\\\":\\\"y1\\\",\\\"hovertemplate\\\":\\\"ID: %{customdata[0]}<br>\\\\nHeight: %{y:.3f}<br>\\\\nGenome count: %{customdata[1]}\\\\n<br>\\\\n%{customdata[2]}\\\\n<extra><\\/extra>\\\",\\\"x\\\":[11.203125,8.25,5.5,19.5,20.5,7.5,1.5,5.92578125,8.3515625,12.3125,12.5,13.25,11.462890625,3.5,6.4814453125,10.5,14.15625,14.125,18.5,12.99072265625]},{\\\"colorscale\\\":[[0.0,\\\"#666666\\\"],[0.1,\\\"#AEC7E8\\\"],[0.2,\\\"#FFBB78\\\"],[0.3,\\\"#98DF8A\\\"],[0.4,\\\"#FF9896\\\"],[0.5,\\\"#C5B0D5\\\"],[0.6,\\\"#C49C94\\\"],[0.7,\\\"#F7B6D2\\\"],[0.8,\\\"#C7C7C7\\\"],[0.9,\\\"#DBDB8D\\\"],[1.0,\\\"#9EDAE5\\\"]],\\\"yaxis\\\":\\\"y2\\\",\\\"showscale\\\":false,\\\"x\\\":[0.5,1.5,2.5,3.5,4.5,5.5,6.5,7.5,8.5,9.5,10.5,11.5,13.5,14.5,15.5,16.5,17.5,18.5,19.5,20.5,21.5],\\\"customdata\\\":[[[\\\"Genome 15\\\",\\\"alginolyticus\\\"],[\\\"Genome 16\\\",\\\"alginolyticus\\\"],[\\\"Genome 10\\\",\\\"alginolyticus\\\"],[\\\"Genome 13\\\",\\\"alginolyticus\\\"],[\\\"Genome 1\\\",\\\"alginolyticus\\\"],[\\\"Genome 8\\\",\\\"alginolyticus\\\"],[\\\"Genome 11\\\",\\\"alginolyticus\\\"],[\\\"Genome 18\\\",\\\"alginolyticus\\\"],[\\\"Genome 14\\\",\\\"alginolyticus\\\"],[\\\"Genome 6\\\",\\\"alginolyticus\\\"],[\\\"Genome 7\\\",\\\"alginolyticus\\\"],[\\\"ID 22\\\",\\\"alginolyticus\\\"],[\\\"Genome 4\\\",\\\"alginolyticus\\\"],[\\\"Genome 9\\\",\\\"alginolyticus\\\"],[\\\"Genome 2\\\",\\\"alginolyticus\\\"],[\\\"Genome 5\\\",\\\"alginolyticus\\\"],[\\\"Genome 12\\\",\\\"alginolyticus\\\"],[\\\"Genome 21\\\",\\\"diabolicus\\\"],[\\\"Genome 19\\\",\\\"diabolicus\\\"],[\\\"Genome 20\\\",\\\"diabolicus\\\"]]],\\\"zmin\\\":0,\\\"z\\\":[[1,1,1,1,1,1,1,1,1,1,1,1,1,1,1,1,1,2,2,2]],\\\"zmax\\\":10,\\\"type\\\":\\\"heatmap\\\",\\\"xgap\\\":1,\\\"hovertemplate\\\":\\\"%{customdata[0]} <br>\\\\n%{customdata[1]}\\\\n<extra><\\/extra>\\\\n\\\"}],{\\\"xaxis\\\":{\\\"visible\\\":false},\\\"hovermode\\\":\\\"closest\\\",\\\"margin\\\":{\\\"l\\\":50,\\\"b\\\":50,\\\"r\\\":50,\\\"t\\\":60},\\\"yaxis2\\\":{\\\"visible\\\":false,\\\"domain\\\":[0.0,0.05],\\\"fixedrange\\\":true}},{}); gd.on(\\\"plotly_hover\\\",(function (data){var filtered_data=WebIO.PlotlyCommands.filterEventData(gd,data,\\\"hover\\\"); return !(filtered_data.isnil) ? (WebIO.setval({\\\"name\\\":\\\"hover\\\",\\\"scope\\\":\\\"4498953796500817580\\\",\\\"id\\\":\\\"12075862893385360645\\\",\\\"type\\\":\\\"observable\\\"},filtered_data.out)) : undefined})); gd.on(\\\"plotly_unhover\\\",(function (){return WebIO.setval({\\\"name\\\":\\\"hover\\\",\\\"scope\\\":\\\"4498953796500817580\\\",\\\"id\\\":\\\"12075862893385360645\\\",\\\"type\\\":\\\"observable\\\"},{})})); gd.on(\\\"plotly_selected\\\",(function (data){var filtered_data=WebIO.PlotlyCommands.filterEventData(gd,data,\\\"selected\\\"); return !(filtered_data.isnil) ? (WebIO.setval({\\\"name\\\":\\\"selected\\\",\\\"scope\\\":\\\"4498953796500817580\\\",\\\"id\\\":\\\"9266565448513940329\\\",\\\"type\\\":\\\"observable\\\"},filtered_data.out)) : undefined})); gd.on(\\\"plotly_deselect\\\",(function (){return WebIO.setval({\\\"name\\\":\\\"selected\\\",\\\"scope\\\":\\\"4498953796500817580\\\",\\\"id\\\":\\\"9266565448513940329\\\",\\\"type\\\":\\\"observable\\\"},{})})); gd.on(\\\"plotly_relayout\\\",(function (data){var filtered_data=WebIO.PlotlyCommands.filterEventData(gd,data,\\\"relayout\\\"); return !(filtered_data.isnil) ? (WebIO.setval({\\\"name\\\":\\\"relayout\\\",\\\"scope\\\":\\\"4498953796500817580\\\",\\\"id\\\":\\\"12572060675776444059\\\",\\\"type\\\":\\\"observable\\\"},filtered_data.out)) : undefined})); return gd.on(\\\"plotly_click\\\",(function (data){var filtered_data=WebIO.PlotlyCommands.filterEventData(gd,data,\\\"click\\\"); return !(filtered_data.isnil) ? (WebIO.setval({\\\"name\\\":\\\"click\\\",\\\"scope\\\":\\\"4498953796500817580\\\",\\\"id\\\":\\\"1747228185425928521\\\",\\\"type\\\":\\\"observable\\\"},filtered_data.out)) : undefined}))}));\\n    (WebIO.importBlock({\\\"data\\\":[{\\\"name\\\":\\\"Plotly\\\",\\\"type\\\":\\\"js\\\",\\\"url\\\":\\\"\\/assetserver\\/e6903599031aaef8675931dfcd7df98a1aeffbfc-plotly-latest.min.js\\\"},{\\\"name\\\":null,\\\"type\\\":\\\"js\\\",\\\"url\\\":\\\"\\/assetserver\\/74a5dea81f21b0b802ef1ee92f1c8a504eac1a0c-plotly_webio.bundle.js\\\"}],\\\"type\\\":\\\"async_block\\\"})).then((imports) => handler.apply(this, imports));\\n}\\n\"],\"observables\":{\"_toImage\":{\"sync\":false,\"id\":\"13855951255847959483\",\"value\":{}},\"hover\":{\"sync\":false,\"id\":\"12075862893385360645\",\"value\":{}},\"selected\":{\"sync\":false,\"id\":\"9266565448513940329\",\"value\":{}},\"__gd_contents\":{\"sync\":false,\"id\":\"6455191784238165634\",\"value\":{}},\"click\":{\"sync\":false,\"id\":\"1747228185425928521\",\"value\":{}},\"image\":{\"sync\":true,\"id\":\"18265161585155904756\",\"value\":\"\"},\"__get_gd_contents\":{\"sync\":false,\"id\":\"827163986667700442\",\"value\":\"\"},\"_downloadImage\":{\"sync\":false,\"id\":\"13614928449977281273\",\"value\":{}},\"relayout\":{\"sync\":false,\"id\":\"12572060675776444059\",\"value\":{}},\"_commands\":{\"sync\":false,\"id\":\"14172901380523479594\",\"value\":[]}}},\"children\":[{\"props\":{\"id\":\"plot-7576cde4-7d4e-44bc-9bb2-1c9b3d956e4d\"},\"nodeType\":\"DOM\",\"type\":\"node\",\"instanceArgs\":{\"namespace\":\"html\",\"tag\":\"div\"},\"children\":[]}]},\n",
       "            window,\n",
       "        );\n",
       "    } else {\n",
       "        document\n",
       "            .querySelector('[data-webio-mountpoint=\"15830747093239426637\"]')\n",
       "            .innerHTML = (\n",
       "                '<div style=\"padding: 1em; background-color: #f8d6da; border: 1px solid #f5c6cb\">' +\n",
       "                '<p><strong>WebIO not detected.</strong></p>' +\n",
       "                '<p>Please read ' +\n",
       "                '<a href=\"https://juliagizmos.github.io/WebIO.jl/latest/troubleshooting/not-detected/\" target=\"_blank\">the troubleshooting guide</a> ' +\n",
       "                'for more information on how to resolve this issue.</p>' +\n",
       "                '<p><a href=\"https://juliagizmos.github.io/WebIO.jl/latest/troubleshooting/not-detected/\" target=\"_blank\">https://juliagizmos.github.io/WebIO.jl/latest/troubleshooting/not-detected/</a></p>' +\n",
       "                '</div>'\n",
       "            );\n",
       "    }\n",
       "    </script>\n",
       "</div>\n"
      ],
      "text/plain": [
       "data: [\n",
       "  \"scatter with fields hoverinfo, line, mode, showlegend, type, x, y, and yaxis\",\n",
       "  \"scatter with fields hoverinfo, line, mode, showlegend, type, x, y, and yaxis\",\n",
       "  \"scatter with fields hoverinfo, line, mode, showlegend, type, x, y, and yaxis\",\n",
       "  \"scatter with fields hoverinfo, line, mode, showlegend, type, x, y, and yaxis\",\n",
       "  \"scatter with fields hoverinfo, line, mode, showlegend, type, x, y, and yaxis\",\n",
       "  \"scatter with fields hoverinfo, line, mode, showlegend, type, x, y, and yaxis\",\n",
       "  \"scatter with fields hoverinfo, line, mode, showlegend, type, x, y, and yaxis\",\n",
       "  \"scatter with fields hoverinfo, line, mode, showlegend, type, x, y, and yaxis\",\n",
       "  \"scatter with fields fill, hoverinfo, line, mode, showlegend, type, x, y, and yaxis\",\n",
       "  \"scatter with fields hoverinfo, line, mode, showlegend, type, x, y, and yaxis\",\n",
       "  \"scatter with fields hoverinfo, line, mode, showlegend, type, x, y, and yaxis\",\n",
       "  \"scatter with fields hoverinfo, line, mode, showlegend, type, x, y, and yaxis\",\n",
       "  \"scatter with fields hoverinfo, line, mode, showlegend, type, x, y, and yaxis\",\n",
       "  \"scatter with fields hoverinfo, line, mode, showlegend, type, x, y, and yaxis\",\n",
       "  \"scatter with fields hoverinfo, line, mode, showlegend, type, x, y, and yaxis\",\n",
       "  \"scatter with fields hoverinfo, line, mode, showlegend, type, x, y, and yaxis\",\n",
       "  \"scatter with fields hoverinfo, line, mode, showlegend, type, x, y, and yaxis\",\n",
       "  \"scatter with fields hoverinfo, line, mode, showlegend, type, x, y, and yaxis\",\n",
       "  \"scatter with fields hoverinfo, line, mode, showlegend, type, x, y, and yaxis\",\n",
       "  \"scatter with fields hoverinfo, line, mode, showlegend, type, x, y, and yaxis\",\n",
       "  \"scatter with fields customdata, hovertemplate, marker, mode, showlegend, type, x, y, and yaxis\",\n",
       "  \"heatmap with fields colorscale, customdata, hovertemplate, showscale, type, x, xgap, yaxis, z, zmax, and zmin\"\n",
       "]\n",
       "\n",
       "layout: \"layout with fields hovermode, margin, xaxis, and yaxis2\"\n",
       "\n"
      ]
     },
     "execution_count": 4,
     "metadata": {},
     "output_type": "execute_result"
    }
   ],
   "source": [
    "trees[\"all\"] = cluster_annotate(cdata, 1:cdata.ntaxa)\n",
    "plot(dendrogram(cdata, trees[\"all\"]))"
   ]
  },
  {
   "cell_type": "code",
   "execution_count": 5,
   "id": "polish-cambodia",
   "metadata": {},
   "outputs": [
    {
     "name": "stdout",
     "output_type": "stream",
     "text": [
      "#1 alginolyticus:\n",
      "\t1/18 removed\n",
      "\tDiameter 0.8011 => 0.4505\n"
     ]
    }
   ],
   "source": [
    "remove_subtrees!(edits, trees[\"all\"], 12)"
   ]
  },
  {
   "cell_type": "markdown",
   "id": "compliant-marsh",
   "metadata": {},
   "source": [
    "## Finish"
   ]
  },
  {
   "cell_type": "code",
   "execution_count": 6,
   "id": "tender-dealing",
   "metadata": {},
   "outputs": [
    {
     "data": {
      "text/html": [
       "<table class=\"data-frame\"><thead><tr><th></th><th>index</th><th>name</th><th>ngenomes</th><th>initial_diameter</th><th>taxon_removed</th><th>removed_genomes</th><th>split</th><th>manual_threshold</th><th>final_diameter</th></tr><tr><th></th><th>Int64</th><th>SubStri…</th><th>Int64</th><th>Float32</th><th>Bool</th><th>Int64</th><th>String</th><th>Missing</th><th>String</th></tr></thead><tbody><p>1 rows × 9 columns</p><tr><th>1</th><td>1</td><td>alginolyticus</td><td>18</td><td>0.801089</td><td>0</td><td>1</td><td></td><td><em>missing</em></td><td>0.4505</td></tr></tbody></table>"
      ],
      "text/latex": [
       "\\begin{tabular}{r|ccccccccc}\n",
       "\t& index & name & ngenomes & initial\\_diameter & taxon\\_removed & removed\\_genomes & split & manual\\_threshold & final\\_diameter\\\\\n",
       "\t\\hline\n",
       "\t& Int64 & SubStri… & Int64 & Float32 & Bool & Int64 & String & Missing & String\\\\\n",
       "\t\\hline\n",
       "\t1 & 1 & alginolyticus & 18 & 0.801089 & 0 & 1 &  & \\emph{missing} & 0.4505 \\\\\n",
       "\\end{tabular}\n"
      ],
      "text/plain": [
       "\u001b[1m1×9 DataFrame\u001b[0m\n",
       "\u001b[1m Row \u001b[0m│\u001b[1m index \u001b[0m\u001b[1m name          \u001b[0m\u001b[1m ngenomes \u001b[0m\u001b[1m initial_diameter \u001b[0m\u001b[1m taxon_removed \u001b[0m\u001b[1m removed_genomes \u001b[0m\u001b[1m split  \u001b[0m\u001b[1m manual_threshold \u001b[0m\u001b[1m final_diameter \u001b[0m\n",
       "\u001b[1m     \u001b[0m│\u001b[90m Int64 \u001b[0m\u001b[90m SubStrin…     \u001b[0m\u001b[90m Int64    \u001b[0m\u001b[90m Float32          \u001b[0m\u001b[90m Bool          \u001b[0m\u001b[90m Int64           \u001b[0m\u001b[90m String \u001b[0m\u001b[90m Missing          \u001b[0m\u001b[90m String         \u001b[0m\n",
       "─────┼────────────────────────────────────────────────────────────────────────────────────────────────────────────────────────────\n",
       "   1 │     1  alginolyticus        18          0.801089          false                1         \u001b[90m         missing  \u001b[0m 0.4505"
      ]
     },
     "execution_count": 6,
     "metadata": {},
     "output_type": "execute_result"
    }
   ],
   "source": [
    "complete_edits(edits)"
   ]
  }
 ],
 "metadata": {
  "@webio": {
   "lastCommId": "33667e0b-06d6-4432-bd39-6922c96fb2af",
   "lastKernelId": "2dfce4b9-11b7-4c9d-9989-bbdc0fb10af9"
  },
  "kernelspec": {
   "display_name": "Julia 1.5.1",
   "language": "julia",
   "name": "julia-1.5"
  },
  "language_info": {
   "file_extension": ".jl",
   "mimetype": "application/julia",
   "name": "julia",
   "version": "1.5.1"
  }
 },
 "nbformat": 4,
 "nbformat_minor": 5
}
