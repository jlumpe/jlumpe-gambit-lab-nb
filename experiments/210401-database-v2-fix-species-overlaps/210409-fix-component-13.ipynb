{
 "cells": [
  {
   "cell_type": "markdown",
   "id": "stuck-british",
   "metadata": {},
   "source": [
    "# 210409 Fix Component 13"
   ]
  },
  {
   "cell_type": "code",
   "execution_count": 1,
   "id": "juvenile-charger",
   "metadata": {},
   "outputs": [],
   "source": [
    "const COMPONENT = 13;"
   ]
  },
  {
   "cell_type": "code",
   "execution_count": 2,
   "id": "rapid-crawford",
   "metadata": {},
   "outputs": [
    {
     "data": {
      "text/html": [
       "<script>\n",
       "// Immediately-invoked-function-expression to avoid global variables.\n",
       "(function() {\n",
       "    var warning_div = document.getElementById(\"webio-warning-1878089568305949938\");\n",
       "    var hide = function () {\n",
       "        var script = document.getElementById(\"webio-setup-12747650859451231800\");\n",
       "        var parent = script && script.parentElement;\n",
       "        var grandparent = parent && parent.parentElement;\n",
       "        if (grandparent) {\n",
       "            grandparent.style.display = \"none\";\n",
       "        }\n",
       "        warning_div.style.display = \"none\";\n",
       "    };\n",
       "    if (typeof Jupyter !== \"undefined\") {\n",
       "        console.log(\"WebIO detected Jupyter notebook environment.\");\n",
       "        // Jupyter notebook.\n",
       "        var extensions = (\n",
       "            Jupyter\n",
       "            && Jupyter.notebook.config.data\n",
       "            && Jupyter.notebook.config.data.load_extensions\n",
       "        );\n",
       "        if (extensions && extensions[\"webio-jupyter-notebook\"]) {\n",
       "            // Extension already loaded.\n",
       "            console.log(\"Jupyter WebIO nbextension detected; not loading ad-hoc.\");\n",
       "            hide();\n",
       "            return;\n",
       "        }\n",
       "    } else if (window.location.pathname.includes(\"/lab\")) {\n",
       "        // Guessing JupyterLa\n",
       "        console.log(\"Jupyter Lab detected; make sure the @webio/jupyter-lab-provider labextension is installed.\");\n",
       "        hide();\n",
       "        return;\n",
       "    }\n",
       "})();\n",
       "\n",
       "</script>\n",
       "<p\n",
       "    id=\"webio-warning-1878089568305949938\"\n",
       "    class=\"output_text output_stderr\"\n",
       "    style=\"padding: 1em; font-weight: bold;\"\n",
       ">\n",
       "    Unable to load WebIO. Please make sure WebIO works for your Jupyter client.\n",
       "    For troubleshooting, please see <a href=\"https://juliagizmos.github.io/WebIO.jl/latest/providers/ijulia/\">\n",
       "    the WebIO/IJulia documentation</a>.\n",
       "    <!-- TODO: link to installation docs. -->\n",
       "</p>\n"
      ],
      "text/plain": [
       "HTML{String}(\"<script>\\n// Immediately-invoked-function-expression to avoid global variables.\\n(function() {\\n    var warning_div = document.getElementById(\\\"webio-warning-1878089568305949938\\\");\\n    var hide = function () {\\n        var script = document.getElementById(\\\"webio-setup-12747650859451231800\\\");\\n        var parent = script && script.parentElement;\\n        var grandparent = parent && parent.parentElement;\\n        if (grandparent) {\\n            grandparent.style.display = \\\"none\\\";\\n        }\\n        warning_div.style.display = \\\"none\\\";\\n    };\\n    if (typeof Jupyter !== \\\"undefined\\\") {\\n        console.log(\\\"WebIO detected Jupyter notebook environment.\\\");\\n        // Jupyter notebook.\\n        var extensions = (\\n            Jupyter\\n            && Jupyter.notebook.config.data\\n            && Jupyter.notebook.config.data.load_extensions\\n        );\\n        if (extensions && extensions[\\\"webio-jupyter-notebook\\\"]) {\\n            // Extension already loaded.\\n            console.log(\\\"Jupyter WebIO nbextension detected; not loading ad-hoc.\\\");\\n            hide();\\n            return;\\n        }\\n    } else if (window.location.pathname.includes(\\\"/lab\\\")) {\\n        // Guessing JupyterLa\\n        console.log(\\\"Jupyter Lab detected; make sure the @webio/jupyter-lab-provider labextension is installed.\\\");\\n        hide();\\n        return;\\n    }\\n})();\\n\\n</script>\\n<p\\n    id=\\\"webio-warning-1878089568305949938\\\"\\n    class=\\\"output_text output_stderr\\\"\\n    style=\\\"padding: 1em; font-weight: bold;\\\"\\n>\\n    Unable to load WebIO. Please make sure WebIO works for your Jupyter client.\\n    For troubleshooting, please see <a href=\\\"https://juliagizmos.github.io/WebIO.jl/latest/providers/ijulia/\\\">\\n    the WebIO/IJulia documentation</a>.\\n    <!-- TODO: link to installation docs. -->\\n</p>\\n\")"
      ]
     },
     "metadata": {},
     "output_type": "display_data"
    },
    {
     "data": {
      "text/html": [
       "<table class=\"data-frame\"><thead><tr><th></th><th>id</th><th>ncbi_id</th><th>name</th><th>rank</th><th>parent_id</th><th>in_v12</th><th>manual_threshold</th><th>report</th><th>ngenomes</th><th>comp_idx</th><th>diameter</th><th>outgoing</th><th>incoming</th><th>name_abbr</th></tr><tr><th></th><th>Int64</th><th>Int64?</th><th>String</th><th>String?</th><th>Int64?</th><th>Bool</th><th>Float64</th><th>Bool</th><th>Int64</th><th>Int64</th><th>Float32</th><th>Int64</th><th>Int64</th><th>SubStri…</th></tr></thead><tbody><p>3 rows × 14 columns</p><tr><th>1</th><td>624</td><td>554</td><td>Pectobacterium carotovorum</td><td>species</td><td>368</td><td>1</td><td>NaN</td><td>1</td><td>9</td><td>1</td><td>0.753825</td><td>2</td><td>1</td><td>carotovorum</td></tr><tr><th>2</th><td>702</td><td>180957</td><td>Pectobacterium brasiliense</td><td>species</td><td>368</td><td>1</td><td>NaN</td><td>1</td><td>22</td><td>2</td><td>0.680234</td><td>1</td><td>1</td><td>brasiliense</td></tr><tr><th>3</th><td>1497</td><td>78398</td><td>Pectobacterium odoriferum</td><td>species</td><td>368</td><td>1</td><td>NaN</td><td>1</td><td>2</td><td>3</td><td>0.328923</td><td>0</td><td>1</td><td>odoriferum</td></tr></tbody></table>"
      ],
      "text/latex": [
       "\\begin{tabular}{r|cccccccccccccc}\n",
       "\t& id & ncbi\\_id & name & rank & parent\\_id & in\\_v12 & manual\\_threshold & report & ngenomes & comp\\_idx & diameter & outgoing & incoming & name\\_abbr\\\\\n",
       "\t\\hline\n",
       "\t& Int64 & Int64? & String & String? & Int64? & Bool & Float64 & Bool & Int64 & Int64 & Float32 & Int64 & Int64 & SubStri…\\\\\n",
       "\t\\hline\n",
       "\t1 & 624 & 554 & Pectobacterium carotovorum & species & 368 & 1 & NaN & 1 & 9 & 1 & 0.753825 & 2 & 1 & carotovorum \\\\\n",
       "\t2 & 702 & 180957 & Pectobacterium brasiliense & species & 368 & 1 & NaN & 1 & 22 & 2 & 0.680234 & 1 & 1 & brasiliense \\\\\n",
       "\t3 & 1497 & 78398 & Pectobacterium odoriferum & species & 368 & 1 & NaN & 1 & 2 & 3 & 0.328923 & 0 & 1 & odoriferum \\\\\n",
       "\\end{tabular}\n"
      ],
      "text/plain": [
       "\u001b[1m3×14 DataFrame\u001b[0m\n",
       "\u001b[1m Row \u001b[0m│\u001b[1m id    \u001b[0m\u001b[1m ncbi_id \u001b[0m\u001b[1m name                       \u001b[0m\u001b[1m rank    \u001b[0m\u001b[1m parent_id \u001b[0m\u001b[1m in_v12 \u001b[0m\u001b[1m manual_threshold \u001b[0m\u001b[1m report \u001b[0m\u001b[1m ngenomes \u001b[0m\u001b[1m comp_idx \u001b[0m\u001b[1m diameter \u001b[0m\u001b[1m outgoing \u001b[0m\u001b[1m incoming \u001b[0m\u001b[1m name_abbr   \u001b[0m\n",
       "\u001b[1m     \u001b[0m│\u001b[90m Int64 \u001b[0m\u001b[90m Int64?  \u001b[0m\u001b[90m String                     \u001b[0m\u001b[90m String? \u001b[0m\u001b[90m Int64?    \u001b[0m\u001b[90m Bool   \u001b[0m\u001b[90m Float64          \u001b[0m\u001b[90m Bool   \u001b[0m\u001b[90m Int64    \u001b[0m\u001b[90m Int64    \u001b[0m\u001b[90m Float32  \u001b[0m\u001b[90m Int64    \u001b[0m\u001b[90m Int64    \u001b[0m\u001b[90m SubStrin…   \u001b[0m\n",
       "─────┼─────────────────────────────────────────────────────────────────────────────────────────────────────────────────────────────────────────────────────────────────\n",
       "   1 │   624      554  Pectobacterium carotovorum  species        368    true              NaN     true         9         1  0.753825         2         1  carotovorum\n",
       "   2 │   702   180957  Pectobacterium brasiliense  species        368    true              NaN     true        22         2  0.680234         1         1  brasiliense\n",
       "   3 │  1497    78398  Pectobacterium odoriferum   species        368    true              NaN     true         2         3  0.328923         0         1  odoriferum"
      ]
     },
     "metadata": {},
     "output_type": "display_data"
    },
    {
     "data": {
      "image/svg+xml": [
       "<?xml version=\"1.0\" encoding=\"UTF-8\"?>\n",
       "<svg xmlns=\"http://www.w3.org/2000/svg\"\n",
       "     xmlns:xlink=\"http://www.w3.org/1999/xlink\"\n",
       "     version=\"1.2\"\n",
       "     width=\"141.42mm\" height=\"100mm\" viewBox=\"0 0 141.42 100\"\n",
       "     stroke=\"none\"\n",
       "     fill=\"#000000\"\n",
       "     stroke-width=\"0.3\"\n",
       "     font-size=\"3.88\"\n",
       ">\n",
       "<defs>\n",
       "  <marker id=\"arrow\" markerWidth=\"15\" markerHeight=\"7\" refX=\"5\" refY=\"3.5\" orient=\"auto\" markerUnits=\"strokeWidth\">\n",
       "    <path d=\"M0,0 L15,3.5 L0,7 z\" stroke=\"context-stroke\" fill=\"context-stroke\"/>\n",
       "  </marker>\n",
       "</defs>\n",
       "<g stroke-width=\"1.73\" fill=\"#000000\" fill-opacity=\"0.000\" stroke=\"#D3D3D3\" id=\"img-9ae35e37-1\">\n",
       "  <g transform=\"translate(41.47,70.68)\">\n",
       "    <path fill=\"none\" d=\"M23.67,-16.74 L-23.67,16.74 \" class=\"primitive\"/>\n",
       "  </g>\n",
       "  <g transform=\"translate(100.4,29.01)\">\n",
       "    <path fill=\"none\" d=\"M-23.23,16.42 L23.23,-16.42 \" class=\"primitive\"/>\n",
       "  </g>\n",
       "  <g transform=\"translate(41.47,70.68)\">\n",
       "    <path fill=\"none\" d=\"M-23.67,16.74 L23.67,-16.74 \" class=\"primitive\"/>\n",
       "  </g>\n",
       "</g>\n",
       "<g stroke-width=\"1.73\" stroke=\"#D3D3D3\" id=\"img-9ae35e37-2\">\n",
       "  <g transform=\"translate(20.41,85.57)\">\n",
       "    <path fill=\"none\" d=\"M2.73,0.08 L-2.61,1.85 -0.12,-1.93 \" class=\"primitive\"/>\n",
       "  </g>\n",
       "  <g transform=\"translate(121.01,14.43)\">\n",
       "    <path fill=\"none\" d=\"M-2.73,-0.08 L2.61,-1.85 0.12,1.93 \" class=\"primitive\"/>\n",
       "  </g>\n",
       "  <g transform=\"translate(62.53,55.78)\">\n",
       "    <path fill=\"none\" d=\"M-2.73,-0.08 L2.61,-1.85 0.12,1.93 \" class=\"primitive\"/>\n",
       "  </g>\n",
       "</g>\n",
       "<g font-size=\"4\" stroke=\"#000000\" stroke-opacity=\"0.000\" fill=\"#000000\" id=\"img-9ae35e37-3\">\n",
       "</g>\n",
       "<g stroke-width=\"0\" stroke=\"#000000\" stroke-opacity=\"0.000\" fill=\"#000000\" fill-opacity=\"0.000\" id=\"img-9ae35e37-4\">\n",
       "  <g transform=\"translate(71.15,49.69)\">\n",
       "    <circle cx=\"0\" cy=\"0\" r=\"8.16\" class=\"primitive\"/>\n",
       "  </g>\n",
       "  <g transform=\"translate(11.79,91.67)\">\n",
       "    <circle cx=\"0\" cy=\"0\" r=\"8.16\" class=\"primitive\"/>\n",
       "  </g>\n",
       "  <g transform=\"translate(129.64,8.33)\">\n",
       "    <circle cx=\"0\" cy=\"0\" r=\"8.16\" class=\"primitive\"/>\n",
       "  </g>\n",
       "</g>\n",
       "<g font-size=\"4\" stroke=\"#000000\" stroke-opacity=\"0.000\" fill=\"#000000\" id=\"img-9ae35e37-5\">\n",
       "  <g transform=\"translate(71.15,49.69)\">\n",
       "    <g class=\"primitive\">\n",
       "      <text text-anchor=\"middle\" dy=\"0.35em\">carotovorum</text>\n",
       "    </g>\n",
       "  </g>\n",
       "  <g transform=\"translate(11.79,91.67)\">\n",
       "    <g class=\"primitive\">\n",
       "      <text text-anchor=\"middle\" dy=\"0.35em\">brasiliense</text>\n",
       "    </g>\n",
       "  </g>\n",
       "  <g transform=\"translate(129.64,8.33)\">\n",
       "    <g class=\"primitive\">\n",
       "      <text text-anchor=\"middle\" dy=\"0.35em\">odoriferum</text>\n",
       "    </g>\n",
       "  </g>\n",
       "</g>\n",
       "</svg>\n"
      ],
      "text/html": [
       "<?xml version=\"1.0\" encoding=\"UTF-8\"?>\n",
       "<svg xmlns=\"http://www.w3.org/2000/svg\"\n",
       "     xmlns:xlink=\"http://www.w3.org/1999/xlink\"\n",
       "     version=\"1.2\"\n",
       "     width=\"141.42mm\" height=\"100mm\" viewBox=\"0 0 141.42 100\"\n",
       "     stroke=\"none\"\n",
       "     fill=\"#000000\"\n",
       "     stroke-width=\"0.3\"\n",
       "     font-size=\"3.88\"\n",
       "\n",
       "     id=\"img-27eba0e3\">\n",
       "<defs>\n",
       "  <marker id=\"arrow\" markerWidth=\"15\" markerHeight=\"7\" refX=\"5\" refY=\"3.5\" orient=\"auto\" markerUnits=\"strokeWidth\">\n",
       "    <path d=\"M0,0 L15,3.5 L0,7 z\" stroke=\"context-stroke\" fill=\"context-stroke\"/>\n",
       "  </marker>\n",
       "</defs>\n",
       "<g stroke-width=\"1.73\" fill=\"#000000\" fill-opacity=\"0.000\" stroke=\"#D3D3D3\" id=\"img-27eba0e3-1\">\n",
       "  <g transform=\"translate(41.47,70.68)\">\n",
       "    <path fill=\"none\" d=\"M23.67,-16.74 L-23.67,16.74 \" class=\"primitive\"/>\n",
       "  </g>\n",
       "  <g transform=\"translate(100.4,29.01)\">\n",
       "    <path fill=\"none\" d=\"M-23.23,16.42 L23.23,-16.42 \" class=\"primitive\"/>\n",
       "  </g>\n",
       "  <g transform=\"translate(41.47,70.68)\">\n",
       "    <path fill=\"none\" d=\"M-23.67,16.74 L23.67,-16.74 \" class=\"primitive\"/>\n",
       "  </g>\n",
       "</g>\n",
       "<g stroke-width=\"1.73\" stroke=\"#D3D3D3\" id=\"img-27eba0e3-2\">\n",
       "  <g transform=\"translate(20.41,85.57)\">\n",
       "    <path fill=\"none\" d=\"M2.73,0.08 L-2.61,1.85 -0.12,-1.93 \" class=\"primitive\"/>\n",
       "  </g>\n",
       "  <g transform=\"translate(121.01,14.43)\">\n",
       "    <path fill=\"none\" d=\"M-2.73,-0.08 L2.61,-1.85 0.12,1.93 \" class=\"primitive\"/>\n",
       "  </g>\n",
       "  <g transform=\"translate(62.53,55.78)\">\n",
       "    <path fill=\"none\" d=\"M-2.73,-0.08 L2.61,-1.85 0.12,1.93 \" class=\"primitive\"/>\n",
       "  </g>\n",
       "</g>\n",
       "<g font-size=\"4\" stroke=\"#000000\" stroke-opacity=\"0.000\" fill=\"#000000\" id=\"img-27eba0e3-3\">\n",
       "</g>\n",
       "<g stroke-width=\"0\" stroke=\"#000000\" stroke-opacity=\"0.000\" fill=\"#000000\" fill-opacity=\"0.000\" id=\"img-27eba0e3-4\">\n",
       "  <g transform=\"translate(71.15,49.69)\">\n",
       "    <circle cx=\"0\" cy=\"0\" r=\"8.16\" class=\"primitive\"/>\n",
       "  </g>\n",
       "  <g transform=\"translate(11.79,91.67)\">\n",
       "    <circle cx=\"0\" cy=\"0\" r=\"8.16\" class=\"primitive\"/>\n",
       "  </g>\n",
       "  <g transform=\"translate(129.64,8.33)\">\n",
       "    <circle cx=\"0\" cy=\"0\" r=\"8.16\" class=\"primitive\"/>\n",
       "  </g>\n",
       "</g>\n",
       "<g font-size=\"4\" stroke=\"#000000\" stroke-opacity=\"0.000\" fill=\"#000000\" id=\"img-27eba0e3-5\">\n",
       "  <g transform=\"translate(71.15,49.69)\">\n",
       "    <g class=\"primitive\">\n",
       "      <text text-anchor=\"middle\" dy=\"0.35em\">carotovorum</text>\n",
       "    </g>\n",
       "  </g>\n",
       "  <g transform=\"translate(11.79,91.67)\">\n",
       "    <g class=\"primitive\">\n",
       "      <text text-anchor=\"middle\" dy=\"0.35em\">brasiliense</text>\n",
       "    </g>\n",
       "  </g>\n",
       "  <g transform=\"translate(129.64,8.33)\">\n",
       "    <g class=\"primitive\">\n",
       "      <text text-anchor=\"middle\" dy=\"0.35em\">odoriferum</text>\n",
       "    </g>\n",
       "  </g>\n",
       "</g>\n",
       "<script> <![CDATA[\n",
       "(function(N){var k=/[\\.\\/]/,L=/\\s*,\\s*/,C=function(a,d){return a-d},a,v,y={n:{}},M=function(){for(var a=0,d=this.length;a<d;a++)if(\"undefined\"!=typeof this[a])return this[a]},A=function(){for(var a=this.length;--a;)if(\"undefined\"!=typeof this[a])return this[a]},w=function(k,d){k=String(k);var f=v,n=Array.prototype.slice.call(arguments,2),u=w.listeners(k),p=0,b,q=[],e={},l=[],r=a;l.firstDefined=M;l.lastDefined=A;a=k;for(var s=v=0,x=u.length;s<x;s++)\"zIndex\"in u[s]&&(q.push(u[s].zIndex),0>u[s].zIndex&&\n",
       "(e[u[s].zIndex]=u[s]));for(q.sort(C);0>q[p];)if(b=e[q[p++] ],l.push(b.apply(d,n)),v)return v=f,l;for(s=0;s<x;s++)if(b=u[s],\"zIndex\"in b)if(b.zIndex==q[p]){l.push(b.apply(d,n));if(v)break;do if(p++,(b=e[q[p] ])&&l.push(b.apply(d,n)),v)break;while(b)}else e[b.zIndex]=b;else if(l.push(b.apply(d,n)),v)break;v=f;a=r;return l};w._events=y;w.listeners=function(a){a=a.split(k);var d=y,f,n,u,p,b,q,e,l=[d],r=[];u=0;for(p=a.length;u<p;u++){e=[];b=0;for(q=l.length;b<q;b++)for(d=l[b].n,f=[d[a[u] ],d[\"*\"] ],n=2;n--;)if(d=\n",
       "f[n])e.push(d),r=r.concat(d.f||[]);l=e}return r};w.on=function(a,d){a=String(a);if(\"function\"!=typeof d)return function(){};for(var f=a.split(L),n=0,u=f.length;n<u;n++)(function(a){a=a.split(k);for(var b=y,f,e=0,l=a.length;e<l;e++)b=b.n,b=b.hasOwnProperty(a[e])&&b[a[e] ]||(b[a[e] ]={n:{}});b.f=b.f||[];e=0;for(l=b.f.length;e<l;e++)if(b.f[e]==d){f=!0;break}!f&&b.f.push(d)})(f[n]);return function(a){+a==+a&&(d.zIndex=+a)}};w.f=function(a){var d=[].slice.call(arguments,1);return function(){w.apply(null,\n",
       "[a,null].concat(d).concat([].slice.call(arguments,0)))}};w.stop=function(){v=1};w.nt=function(k){return k?(new RegExp(\"(?:\\\\.|\\\\/|^)\"+k+\"(?:\\\\.|\\\\/|$)\")).test(a):a};w.nts=function(){return a.split(k)};w.off=w.unbind=function(a,d){if(a){var f=a.split(L);if(1<f.length)for(var n=0,u=f.length;n<u;n++)w.off(f[n],d);else{for(var f=a.split(k),p,b,q,e,l=[y],n=0,u=f.length;n<u;n++)for(e=0;e<l.length;e+=q.length-2){q=[e,1];p=l[e].n;if(\"*\"!=f[n])p[f[n] ]&&q.push(p[f[n] ]);else for(b in p)p.hasOwnProperty(b)&&\n",
       "q.push(p[b]);l.splice.apply(l,q)}n=0;for(u=l.length;n<u;n++)for(p=l[n];p.n;){if(d){if(p.f){e=0;for(f=p.f.length;e<f;e++)if(p.f[e]==d){p.f.splice(e,1);break}!p.f.length&&delete p.f}for(b in p.n)if(p.n.hasOwnProperty(b)&&p.n[b].f){q=p.n[b].f;e=0;for(f=q.length;e<f;e++)if(q[e]==d){q.splice(e,1);break}!q.length&&delete p.n[b].f}}else for(b in delete p.f,p.n)p.n.hasOwnProperty(b)&&p.n[b].f&&delete p.n[b].f;p=p.n}}}else w._events=y={n:{}}};w.once=function(a,d){var f=function(){w.unbind(a,f);return d.apply(this,\n",
       "arguments)};return w.on(a,f)};w.version=\"0.4.2\";w.toString=function(){return\"You are running Eve 0.4.2\"};\"undefined\"!=typeof module&&module.exports?module.exports=w:\"function\"===typeof define&&define.amd?define(\"eve\",[],function(){return w}):N.eve=w})(this);\n",
       "(function(N,k){\"function\"===typeof define&&define.amd?define(\"Snap.svg\",[\"eve\"],function(L){return k(N,L)}):k(N,N.eve)})(this,function(N,k){var L=function(a){var k={},y=N.requestAnimationFrame||N.webkitRequestAnimationFrame||N.mozRequestAnimationFrame||N.oRequestAnimationFrame||N.msRequestAnimationFrame||function(a){setTimeout(a,16)},M=Array.isArray||function(a){return a instanceof Array||\"[object Array]\"==Object.prototype.toString.call(a)},A=0,w=\"M\"+(+new Date).toString(36),z=function(a){if(null==\n",
       "a)return this.s;var b=this.s-a;this.b+=this.dur*b;this.B+=this.dur*b;this.s=a},d=function(a){if(null==a)return this.spd;this.spd=a},f=function(a){if(null==a)return this.dur;this.s=this.s*a/this.dur;this.dur=a},n=function(){delete k[this.id];this.update();a(\"mina.stop.\"+this.id,this)},u=function(){this.pdif||(delete k[this.id],this.update(),this.pdif=this.get()-this.b)},p=function(){this.pdif&&(this.b=this.get()-this.pdif,delete this.pdif,k[this.id]=this)},b=function(){var a;if(M(this.start)){a=[];\n",
       "for(var b=0,e=this.start.length;b<e;b++)a[b]=+this.start[b]+(this.end[b]-this.start[b])*this.easing(this.s)}else a=+this.start+(this.end-this.start)*this.easing(this.s);this.set(a)},q=function(){var l=0,b;for(b in k)if(k.hasOwnProperty(b)){var e=k[b],f=e.get();l++;e.s=(f-e.b)/(e.dur/e.spd);1<=e.s&&(delete k[b],e.s=1,l--,function(b){setTimeout(function(){a(\"mina.finish.\"+b.id,b)})}(e));e.update()}l&&y(q)},e=function(a,r,s,x,G,h,J){a={id:w+(A++).toString(36),start:a,end:r,b:s,s:0,dur:x-s,spd:1,get:G,\n",
       "set:h,easing:J||e.linear,status:z,speed:d,duration:f,stop:n,pause:u,resume:p,update:b};k[a.id]=a;r=0;for(var K in k)if(k.hasOwnProperty(K)&&(r++,2==r))break;1==r&&y(q);return a};e.time=Date.now||function(){return+new Date};e.getById=function(a){return k[a]||null};e.linear=function(a){return a};e.easeout=function(a){return Math.pow(a,1.7)};e.easein=function(a){return Math.pow(a,0.48)};e.easeinout=function(a){if(1==a)return 1;if(0==a)return 0;var b=0.48-a/1.04,e=Math.sqrt(0.1734+b*b);a=e-b;a=Math.pow(Math.abs(a),\n",
       "1/3)*(0>a?-1:1);b=-e-b;b=Math.pow(Math.abs(b),1/3)*(0>b?-1:1);a=a+b+0.5;return 3*(1-a)*a*a+a*a*a};e.backin=function(a){return 1==a?1:a*a*(2.70158*a-1.70158)};e.backout=function(a){if(0==a)return 0;a-=1;return a*a*(2.70158*a+1.70158)+1};e.elastic=function(a){return a==!!a?a:Math.pow(2,-10*a)*Math.sin(2*(a-0.075)*Math.PI/0.3)+1};e.bounce=function(a){a<1/2.75?a*=7.5625*a:a<2/2.75?(a-=1.5/2.75,a=7.5625*a*a+0.75):a<2.5/2.75?(a-=2.25/2.75,a=7.5625*a*a+0.9375):(a-=2.625/2.75,a=7.5625*a*a+0.984375);return a};\n",
       "return N.mina=e}(\"undefined\"==typeof k?function(){}:k),C=function(){function a(c,t){if(c){if(c.tagName)return x(c);if(y(c,\"array\")&&a.set)return a.set.apply(a,c);if(c instanceof e)return c;if(null==t)return c=G.doc.querySelector(c),x(c)}return new s(null==c?\"100%\":c,null==t?\"100%\":t)}function v(c,a){if(a){\"#text\"==c&&(c=G.doc.createTextNode(a.text||\"\"));\"string\"==typeof c&&(c=v(c));if(\"string\"==typeof a)return\"xlink:\"==a.substring(0,6)?c.getAttributeNS(m,a.substring(6)):\"xml:\"==a.substring(0,4)?c.getAttributeNS(la,\n",
       "a.substring(4)):c.getAttribute(a);for(var da in a)if(a[h](da)){var b=J(a[da]);b?\"xlink:\"==da.substring(0,6)?c.setAttributeNS(m,da.substring(6),b):\"xml:\"==da.substring(0,4)?c.setAttributeNS(la,da.substring(4),b):c.setAttribute(da,b):c.removeAttribute(da)}}else c=G.doc.createElementNS(la,c);return c}function y(c,a){a=J.prototype.toLowerCase.call(a);return\"finite\"==a?isFinite(c):\"array\"==a&&(c instanceof Array||Array.isArray&&Array.isArray(c))?!0:\"null\"==a&&null===c||a==typeof c&&null!==c||\"object\"==\n",
       "a&&c===Object(c)||$.call(c).slice(8,-1).toLowerCase()==a}function M(c){if(\"function\"==typeof c||Object(c)!==c)return c;var a=new c.constructor,b;for(b in c)c[h](b)&&(a[b]=M(c[b]));return a}function A(c,a,b){function m(){var e=Array.prototype.slice.call(arguments,0),f=e.join(\"\\u2400\"),d=m.cache=m.cache||{},l=m.count=m.count||[];if(d[h](f)){a:for(var e=l,l=f,B=0,H=e.length;B<H;B++)if(e[B]===l){e.push(e.splice(B,1)[0]);break a}return b?b(d[f]):d[f]}1E3<=l.length&&delete d[l.shift()];l.push(f);d[f]=c.apply(a,\n",
       "e);return b?b(d[f]):d[f]}return m}function w(c,a,b,m,e,f){return null==e?(c-=b,a-=m,c||a?(180*I.atan2(-a,-c)/C+540)%360:0):w(c,a,e,f)-w(b,m,e,f)}function z(c){return c%360*C/180}function d(c){var a=[];c=c.replace(/(?:^|\\s)(\\w+)\\(([^)]+)\\)/g,function(c,b,m){m=m.split(/\\s*,\\s*|\\s+/);\"rotate\"==b&&1==m.length&&m.push(0,0);\"scale\"==b&&(2<m.length?m=m.slice(0,2):2==m.length&&m.push(0,0),1==m.length&&m.push(m[0],0,0));\"skewX\"==b?a.push([\"m\",1,0,I.tan(z(m[0])),1,0,0]):\"skewY\"==b?a.push([\"m\",1,I.tan(z(m[0])),\n",
       "0,1,0,0]):a.push([b.charAt(0)].concat(m));return c});return a}function f(c,t){var b=O(c),m=new a.Matrix;if(b)for(var e=0,f=b.length;e<f;e++){var h=b[e],d=h.length,B=J(h[0]).toLowerCase(),H=h[0]!=B,l=H?m.invert():0,E;\"t\"==B&&2==d?m.translate(h[1],0):\"t\"==B&&3==d?H?(d=l.x(0,0),B=l.y(0,0),H=l.x(h[1],h[2]),l=l.y(h[1],h[2]),m.translate(H-d,l-B)):m.translate(h[1],h[2]):\"r\"==B?2==d?(E=E||t,m.rotate(h[1],E.x+E.width/2,E.y+E.height/2)):4==d&&(H?(H=l.x(h[2],h[3]),l=l.y(h[2],h[3]),m.rotate(h[1],H,l)):m.rotate(h[1],\n",
       "h[2],h[3])):\"s\"==B?2==d||3==d?(E=E||t,m.scale(h[1],h[d-1],E.x+E.width/2,E.y+E.height/2)):4==d?H?(H=l.x(h[2],h[3]),l=l.y(h[2],h[3]),m.scale(h[1],h[1],H,l)):m.scale(h[1],h[1],h[2],h[3]):5==d&&(H?(H=l.x(h[3],h[4]),l=l.y(h[3],h[4]),m.scale(h[1],h[2],H,l)):m.scale(h[1],h[2],h[3],h[4])):\"m\"==B&&7==d&&m.add(h[1],h[2],h[3],h[4],h[5],h[6])}return m}function n(c,t){if(null==t){var m=!0;t=\"linearGradient\"==c.type||\"radialGradient\"==c.type?c.node.getAttribute(\"gradientTransform\"):\"pattern\"==c.type?c.node.getAttribute(\"patternTransform\"):\n",
       "c.node.getAttribute(\"transform\");if(!t)return new a.Matrix;t=d(t)}else t=a._.rgTransform.test(t)?J(t).replace(/\\.{3}|\\u2026/g,c._.transform||aa):d(t),y(t,\"array\")&&(t=a.path?a.path.toString.call(t):J(t)),c._.transform=t;var b=f(t,c.getBBox(1));if(m)return b;c.matrix=b}function u(c){c=c.node.ownerSVGElement&&x(c.node.ownerSVGElement)||c.node.parentNode&&x(c.node.parentNode)||a.select(\"svg\")||a(0,0);var t=c.select(\"defs\"),t=null==t?!1:t.node;t||(t=r(\"defs\",c.node).node);return t}function p(c){return c.node.ownerSVGElement&&\n",
       "x(c.node.ownerSVGElement)||a.select(\"svg\")}function b(c,a,m){function b(c){if(null==c)return aa;if(c==+c)return c;v(B,{width:c});try{return B.getBBox().width}catch(a){return 0}}function h(c){if(null==c)return aa;if(c==+c)return c;v(B,{height:c});try{return B.getBBox().height}catch(a){return 0}}function e(b,B){null==a?d[b]=B(c.attr(b)||0):b==a&&(d=B(null==m?c.attr(b)||0:m))}var f=p(c).node,d={},B=f.querySelector(\".svg---mgr\");B||(B=v(\"rect\"),v(B,{x:-9E9,y:-9E9,width:10,height:10,\"class\":\"svg---mgr\",\n",
       "fill:\"none\"}),f.appendChild(B));switch(c.type){case \"rect\":e(\"rx\",b),e(\"ry\",h);case \"image\":e(\"width\",b),e(\"height\",h);case \"text\":e(\"x\",b);e(\"y\",h);break;case \"circle\":e(\"cx\",b);e(\"cy\",h);e(\"r\",b);break;case \"ellipse\":e(\"cx\",b);e(\"cy\",h);e(\"rx\",b);e(\"ry\",h);break;case \"line\":e(\"x1\",b);e(\"x2\",b);e(\"y1\",h);e(\"y2\",h);break;case \"marker\":e(\"refX\",b);e(\"markerWidth\",b);e(\"refY\",h);e(\"markerHeight\",h);break;case \"radialGradient\":e(\"fx\",b);e(\"fy\",h);break;case \"tspan\":e(\"dx\",b);e(\"dy\",h);break;default:e(a,\n",
       "b)}f.removeChild(B);return d}function q(c){y(c,\"array\")||(c=Array.prototype.slice.call(arguments,0));for(var a=0,b=0,m=this.node;this[a];)delete this[a++];for(a=0;a<c.length;a++)\"set\"==c[a].type?c[a].forEach(function(c){m.appendChild(c.node)}):m.appendChild(c[a].node);for(var h=m.childNodes,a=0;a<h.length;a++)this[b++]=x(h[a]);return this}function e(c){if(c.snap in E)return E[c.snap];var a=this.id=V(),b;try{b=c.ownerSVGElement}catch(m){}this.node=c;b&&(this.paper=new s(b));this.type=c.tagName;this.anims=\n",
       "{};this._={transform:[]};c.snap=a;E[a]=this;\"g\"==this.type&&(this.add=q);if(this.type in{g:1,mask:1,pattern:1})for(var e in s.prototype)s.prototype[h](e)&&(this[e]=s.prototype[e])}function l(c){this.node=c}function r(c,a){var b=v(c);a.appendChild(b);return x(b)}function s(c,a){var b,m,f,d=s.prototype;if(c&&\"svg\"==c.tagName){if(c.snap in E)return E[c.snap];var l=c.ownerDocument;b=new e(c);m=c.getElementsByTagName(\"desc\")[0];f=c.getElementsByTagName(\"defs\")[0];m||(m=v(\"desc\"),m.appendChild(l.createTextNode(\"Created with Snap\")),\n",
       "b.node.appendChild(m));f||(f=v(\"defs\"),b.node.appendChild(f));b.defs=f;for(var ca in d)d[h](ca)&&(b[ca]=d[ca]);b.paper=b.root=b}else b=r(\"svg\",G.doc.body),v(b.node,{height:a,version:1.1,width:c,xmlns:la});return b}function x(c){return!c||c instanceof e||c instanceof l?c:c.tagName&&\"svg\"==c.tagName.toLowerCase()?new s(c):c.tagName&&\"object\"==c.tagName.toLowerCase()&&\"image/svg+xml\"==c.type?new s(c.contentDocument.getElementsByTagName(\"svg\")[0]):new e(c)}a.version=\"0.3.0\";a.toString=function(){return\"Snap v\"+\n",
       "this.version};a._={};var G={win:N,doc:N.document};a._.glob=G;var h=\"hasOwnProperty\",J=String,K=parseFloat,U=parseInt,I=Math,P=I.max,Q=I.min,Y=I.abs,C=I.PI,aa=\"\",$=Object.prototype.toString,F=/^\\s*((#[a-f\\d]{6})|(#[a-f\\d]{3})|rgba?\\(\\s*([\\d\\.]+%?\\s*,\\s*[\\d\\.]+%?\\s*,\\s*[\\d\\.]+%?(?:\\s*,\\s*[\\d\\.]+%?)?)\\s*\\)|hsba?\\(\\s*([\\d\\.]+(?:deg|\\xb0|%)?\\s*,\\s*[\\d\\.]+%?\\s*,\\s*[\\d\\.]+(?:%?\\s*,\\s*[\\d\\.]+)?%?)\\s*\\)|hsla?\\(\\s*([\\d\\.]+(?:deg|\\xb0|%)?\\s*,\\s*[\\d\\.]+%?\\s*,\\s*[\\d\\.]+(?:%?\\s*,\\s*[\\d\\.]+)?%?)\\s*\\))\\s*$/i;a._.separator=\n",
       "RegExp(\"[,\\t\\n\\x0B\\f\\r \\u00a0\\u1680\\u180e\\u2000\\u2001\\u2002\\u2003\\u2004\\u2005\\u2006\\u2007\\u2008\\u2009\\u200a\\u202f\\u205f\\u3000\\u2028\\u2029]+\");var S=RegExp(\"[\\t\\n\\x0B\\f\\r \\u00a0\\u1680\\u180e\\u2000\\u2001\\u2002\\u2003\\u2004\\u2005\\u2006\\u2007\\u2008\\u2009\\u200a\\u202f\\u205f\\u3000\\u2028\\u2029]*,[\\t\\n\\x0B\\f\\r \\u00a0\\u1680\\u180e\\u2000\\u2001\\u2002\\u2003\\u2004\\u2005\\u2006\\u2007\\u2008\\u2009\\u200a\\u202f\\u205f\\u3000\\u2028\\u2029]*\"),X={hs:1,rg:1},W=RegExp(\"([a-z])[\\t\\n\\x0B\\f\\r \\u00a0\\u1680\\u180e\\u2000\\u2001\\u2002\\u2003\\u2004\\u2005\\u2006\\u2007\\u2008\\u2009\\u200a\\u202f\\u205f\\u3000\\u2028\\u2029,]*((-?\\\\d*\\\\.?\\\\d*(?:e[\\\\-+]?\\\\d+)?[\\t\\n\\x0B\\f\\r \\u00a0\\u1680\\u180e\\u2000\\u2001\\u2002\\u2003\\u2004\\u2005\\u2006\\u2007\\u2008\\u2009\\u200a\\u202f\\u205f\\u3000\\u2028\\u2029]*,?[\\t\\n\\x0B\\f\\r \\u00a0\\u1680\\u180e\\u2000\\u2001\\u2002\\u2003\\u2004\\u2005\\u2006\\u2007\\u2008\\u2009\\u200a\\u202f\\u205f\\u3000\\u2028\\u2029]*)+)\",\n",
       "\"ig\"),ma=RegExp(\"([rstm])[\\t\\n\\x0B\\f\\r \\u00a0\\u1680\\u180e\\u2000\\u2001\\u2002\\u2003\\u2004\\u2005\\u2006\\u2007\\u2008\\u2009\\u200a\\u202f\\u205f\\u3000\\u2028\\u2029,]*((-?\\\\d*\\\\.?\\\\d*(?:e[\\\\-+]?\\\\d+)?[\\t\\n\\x0B\\f\\r \\u00a0\\u1680\\u180e\\u2000\\u2001\\u2002\\u2003\\u2004\\u2005\\u2006\\u2007\\u2008\\u2009\\u200a\\u202f\\u205f\\u3000\\u2028\\u2029]*,?[\\t\\n\\x0B\\f\\r \\u00a0\\u1680\\u180e\\u2000\\u2001\\u2002\\u2003\\u2004\\u2005\\u2006\\u2007\\u2008\\u2009\\u200a\\u202f\\u205f\\u3000\\u2028\\u2029]*)+)\",\"ig\"),Z=RegExp(\"(-?\\\\d*\\\\.?\\\\d*(?:e[\\\\-+]?\\\\d+)?)[\\t\\n\\x0B\\f\\r \\u00a0\\u1680\\u180e\\u2000\\u2001\\u2002\\u2003\\u2004\\u2005\\u2006\\u2007\\u2008\\u2009\\u200a\\u202f\\u205f\\u3000\\u2028\\u2029]*,?[\\t\\n\\x0B\\f\\r \\u00a0\\u1680\\u180e\\u2000\\u2001\\u2002\\u2003\\u2004\\u2005\\u2006\\u2007\\u2008\\u2009\\u200a\\u202f\\u205f\\u3000\\u2028\\u2029]*\",\n",
       "\"ig\"),na=0,ba=\"S\"+(+new Date).toString(36),V=function(){return ba+(na++).toString(36)},m=\"http://www.w3.org/1999/xlink\",la=\"http://www.w3.org/2000/svg\",E={},ca=a.url=function(c){return\"url('#\"+c+\"')\"};a._.$=v;a._.id=V;a.format=function(){var c=/\\{([^\\}]+)\\}/g,a=/(?:(?:^|\\.)(.+?)(?=\\[|\\.|$|\\()|\\[('|\")(.+?)\\2\\])(\\(\\))?/g,b=function(c,b,m){var h=m;b.replace(a,function(c,a,b,m,t){a=a||m;h&&(a in h&&(h=h[a]),\"function\"==typeof h&&t&&(h=h()))});return h=(null==h||h==m?c:h)+\"\"};return function(a,m){return J(a).replace(c,\n",
       "function(c,a){return b(c,a,m)})}}();a._.clone=M;a._.cacher=A;a.rad=z;a.deg=function(c){return 180*c/C%360};a.angle=w;a.is=y;a.snapTo=function(c,a,b){b=y(b,\"finite\")?b:10;if(y(c,\"array\"))for(var m=c.length;m--;){if(Y(c[m]-a)<=b)return c[m]}else{c=+c;m=a%c;if(m<b)return a-m;if(m>c-b)return a-m+c}return a};a.getRGB=A(function(c){if(!c||(c=J(c)).indexOf(\"-\")+1)return{r:-1,g:-1,b:-1,hex:\"none\",error:1,toString:ka};if(\"none\"==c)return{r:-1,g:-1,b:-1,hex:\"none\",toString:ka};!X[h](c.toLowerCase().substring(0,\n",
       "2))&&\"#\"!=c.charAt()&&(c=T(c));if(!c)return{r:-1,g:-1,b:-1,hex:\"none\",error:1,toString:ka};var b,m,e,f,d;if(c=c.match(F)){c[2]&&(e=U(c[2].substring(5),16),m=U(c[2].substring(3,5),16),b=U(c[2].substring(1,3),16));c[3]&&(e=U((d=c[3].charAt(3))+d,16),m=U((d=c[3].charAt(2))+d,16),b=U((d=c[3].charAt(1))+d,16));c[4]&&(d=c[4].split(S),b=K(d[0]),\"%\"==d[0].slice(-1)&&(b*=2.55),m=K(d[1]),\"%\"==d[1].slice(-1)&&(m*=2.55),e=K(d[2]),\"%\"==d[2].slice(-1)&&(e*=2.55),\"rgba\"==c[1].toLowerCase().slice(0,4)&&(f=K(d[3])),\n",
       "d[3]&&\"%\"==d[3].slice(-1)&&(f/=100));if(c[5])return d=c[5].split(S),b=K(d[0]),\"%\"==d[0].slice(-1)&&(b/=100),m=K(d[1]),\"%\"==d[1].slice(-1)&&(m/=100),e=K(d[2]),\"%\"==d[2].slice(-1)&&(e/=100),\"deg\"!=d[0].slice(-3)&&\"\\u00b0\"!=d[0].slice(-1)||(b/=360),\"hsba\"==c[1].toLowerCase().slice(0,4)&&(f=K(d[3])),d[3]&&\"%\"==d[3].slice(-1)&&(f/=100),a.hsb2rgb(b,m,e,f);if(c[6])return d=c[6].split(S),b=K(d[0]),\"%\"==d[0].slice(-1)&&(b/=100),m=K(d[1]),\"%\"==d[1].slice(-1)&&(m/=100),e=K(d[2]),\"%\"==d[2].slice(-1)&&(e/=100),\n",
       "\"deg\"!=d[0].slice(-3)&&\"\\u00b0\"!=d[0].slice(-1)||(b/=360),\"hsla\"==c[1].toLowerCase().slice(0,4)&&(f=K(d[3])),d[3]&&\"%\"==d[3].slice(-1)&&(f/=100),a.hsl2rgb(b,m,e,f);b=Q(I.round(b),255);m=Q(I.round(m),255);e=Q(I.round(e),255);f=Q(P(f,0),1);c={r:b,g:m,b:e,toString:ka};c.hex=\"#\"+(16777216|e|m<<8|b<<16).toString(16).slice(1);c.opacity=y(f,\"finite\")?f:1;return c}return{r:-1,g:-1,b:-1,hex:\"none\",error:1,toString:ka}},a);a.hsb=A(function(c,b,m){return a.hsb2rgb(c,b,m).hex});a.hsl=A(function(c,b,m){return a.hsl2rgb(c,\n",
       "b,m).hex});a.rgb=A(function(c,a,b,m){if(y(m,\"finite\")){var e=I.round;return\"rgba(\"+[e(c),e(a),e(b),+m.toFixed(2)]+\")\"}return\"#\"+(16777216|b|a<<8|c<<16).toString(16).slice(1)});var T=function(c){var a=G.doc.getElementsByTagName(\"head\")[0]||G.doc.getElementsByTagName(\"svg\")[0];T=A(function(c){if(\"red\"==c.toLowerCase())return\"rgb(255, 0, 0)\";a.style.color=\"rgb(255, 0, 0)\";a.style.color=c;c=G.doc.defaultView.getComputedStyle(a,aa).getPropertyValue(\"color\");return\"rgb(255, 0, 0)\"==c?null:c});return T(c)},\n",
       "qa=function(){return\"hsb(\"+[this.h,this.s,this.b]+\")\"},ra=function(){return\"hsl(\"+[this.h,this.s,this.l]+\")\"},ka=function(){return 1==this.opacity||null==this.opacity?this.hex:\"rgba(\"+[this.r,this.g,this.b,this.opacity]+\")\"},D=function(c,b,m){null==b&&y(c,\"object\")&&\"r\"in c&&\"g\"in c&&\"b\"in c&&(m=c.b,b=c.g,c=c.r);null==b&&y(c,string)&&(m=a.getRGB(c),c=m.r,b=m.g,m=m.b);if(1<c||1<b||1<m)c/=255,b/=255,m/=255;return[c,b,m]},oa=function(c,b,m,e){c=I.round(255*c);b=I.round(255*b);m=I.round(255*m);c={r:c,\n",
       "g:b,b:m,opacity:y(e,\"finite\")?e:1,hex:a.rgb(c,b,m),toString:ka};y(e,\"finite\")&&(c.opacity=e);return c};a.color=function(c){var b;y(c,\"object\")&&\"h\"in c&&\"s\"in c&&\"b\"in c?(b=a.hsb2rgb(c),c.r=b.r,c.g=b.g,c.b=b.b,c.opacity=1,c.hex=b.hex):y(c,\"object\")&&\"h\"in c&&\"s\"in c&&\"l\"in c?(b=a.hsl2rgb(c),c.r=b.r,c.g=b.g,c.b=b.b,c.opacity=1,c.hex=b.hex):(y(c,\"string\")&&(c=a.getRGB(c)),y(c,\"object\")&&\"r\"in c&&\"g\"in c&&\"b\"in c&&!(\"error\"in c)?(b=a.rgb2hsl(c),c.h=b.h,c.s=b.s,c.l=b.l,b=a.rgb2hsb(c),c.v=b.b):(c={hex:\"none\"},\n",
       "c.r=c.g=c.b=c.h=c.s=c.v=c.l=-1,c.error=1));c.toString=ka;return c};a.hsb2rgb=function(c,a,b,m){y(c,\"object\")&&\"h\"in c&&\"s\"in c&&\"b\"in c&&(b=c.b,a=c.s,c=c.h,m=c.o);var e,h,d;c=360*c%360/60;d=b*a;a=d*(1-Y(c%2-1));b=e=h=b-d;c=~~c;b+=[d,a,0,0,a,d][c];e+=[a,d,d,a,0,0][c];h+=[0,0,a,d,d,a][c];return oa(b,e,h,m)};a.hsl2rgb=function(c,a,b,m){y(c,\"object\")&&\"h\"in c&&\"s\"in c&&\"l\"in c&&(b=c.l,a=c.s,c=c.h);if(1<c||1<a||1<b)c/=360,a/=100,b/=100;var e,h,d;c=360*c%360/60;d=2*a*(0.5>b?b:1-b);a=d*(1-Y(c%2-1));b=e=\n",
       "h=b-d/2;c=~~c;b+=[d,a,0,0,a,d][c];e+=[a,d,d,a,0,0][c];h+=[0,0,a,d,d,a][c];return oa(b,e,h,m)};a.rgb2hsb=function(c,a,b){b=D(c,a,b);c=b[0];a=b[1];b=b[2];var m,e;m=P(c,a,b);e=m-Q(c,a,b);c=((0==e?0:m==c?(a-b)/e:m==a?(b-c)/e+2:(c-a)/e+4)+360)%6*60/360;return{h:c,s:0==e?0:e/m,b:m,toString:qa}};a.rgb2hsl=function(c,a,b){b=D(c,a,b);c=b[0];a=b[1];b=b[2];var m,e,h;m=P(c,a,b);e=Q(c,a,b);h=m-e;c=((0==h?0:m==c?(a-b)/h:m==a?(b-c)/h+2:(c-a)/h+4)+360)%6*60/360;m=(m+e)/2;return{h:c,s:0==h?0:0.5>m?h/(2*m):h/(2-2*\n",
       "m),l:m,toString:ra}};a.parsePathString=function(c){if(!c)return null;var b=a.path(c);if(b.arr)return a.path.clone(b.arr);var m={a:7,c:6,o:2,h:1,l:2,m:2,r:4,q:4,s:4,t:2,v:1,u:3,z:0},e=[];y(c,\"array\")&&y(c[0],\"array\")&&(e=a.path.clone(c));e.length||J(c).replace(W,function(c,a,b){var h=[];c=a.toLowerCase();b.replace(Z,function(c,a){a&&h.push(+a)});\"m\"==c&&2<h.length&&(e.push([a].concat(h.splice(0,2))),c=\"l\",a=\"m\"==a?\"l\":\"L\");\"o\"==c&&1==h.length&&e.push([a,h[0] ]);if(\"r\"==c)e.push([a].concat(h));else for(;h.length>=\n",
       "m[c]&&(e.push([a].concat(h.splice(0,m[c]))),m[c]););});e.toString=a.path.toString;b.arr=a.path.clone(e);return e};var O=a.parseTransformString=function(c){if(!c)return null;var b=[];y(c,\"array\")&&y(c[0],\"array\")&&(b=a.path.clone(c));b.length||J(c).replace(ma,function(c,a,m){var e=[];a.toLowerCase();m.replace(Z,function(c,a){a&&e.push(+a)});b.push([a].concat(e))});b.toString=a.path.toString;return b};a._.svgTransform2string=d;a._.rgTransform=RegExp(\"^[a-z][\\t\\n\\x0B\\f\\r \\u00a0\\u1680\\u180e\\u2000\\u2001\\u2002\\u2003\\u2004\\u2005\\u2006\\u2007\\u2008\\u2009\\u200a\\u202f\\u205f\\u3000\\u2028\\u2029]*-?\\\\.?\\\\d\",\n",
       "\"i\");a._.transform2matrix=f;a._unit2px=b;a._.getSomeDefs=u;a._.getSomeSVG=p;a.select=function(c){return x(G.doc.querySelector(c))};a.selectAll=function(c){c=G.doc.querySelectorAll(c);for(var b=(a.set||Array)(),m=0;m<c.length;m++)b.push(x(c[m]));return b};setInterval(function(){for(var c in E)if(E[h](c)){var a=E[c],b=a.node;(\"svg\"!=a.type&&!b.ownerSVGElement||\"svg\"==a.type&&(!b.parentNode||\"ownerSVGElement\"in b.parentNode&&!b.ownerSVGElement))&&delete E[c]}},1E4);(function(c){function m(c){function a(c,\n",
       "b){var m=v(c.node,b);(m=(m=m&&m.match(d))&&m[2])&&\"#\"==m.charAt()&&(m=m.substring(1))&&(f[m]=(f[m]||[]).concat(function(a){var m={};m[b]=ca(a);v(c.node,m)}))}function b(c){var a=v(c.node,\"xlink:href\");a&&\"#\"==a.charAt()&&(a=a.substring(1))&&(f[a]=(f[a]||[]).concat(function(a){c.attr(\"xlink:href\",\"#\"+a)}))}var e=c.selectAll(\"*\"),h,d=/^\\s*url\\((\"|'|)(.*)\\1\\)\\s*$/;c=[];for(var f={},l=0,E=e.length;l<E;l++){h=e[l];a(h,\"fill\");a(h,\"stroke\");a(h,\"filter\");a(h,\"mask\");a(h,\"clip-path\");b(h);var t=v(h.node,\n",
       "\"id\");t&&(v(h.node,{id:h.id}),c.push({old:t,id:h.id}))}l=0;for(E=c.length;l<E;l++)if(e=f[c[l].old])for(h=0,t=e.length;h<t;h++)e[h](c[l].id)}function e(c,a,b){return function(m){m=m.slice(c,a);1==m.length&&(m=m[0]);return b?b(m):m}}function d(c){return function(){var a=c?\"<\"+this.type:\"\",b=this.node.attributes,m=this.node.childNodes;if(c)for(var e=0,h=b.length;e<h;e++)a+=\" \"+b[e].name+'=\"'+b[e].value.replace(/\"/g,'\\\\\"')+'\"';if(m.length){c&&(a+=\">\");e=0;for(h=m.length;e<h;e++)3==m[e].nodeType?a+=m[e].nodeValue:\n",
       "1==m[e].nodeType&&(a+=x(m[e]).toString());c&&(a+=\"</\"+this.type+\">\")}else c&&(a+=\"/>\");return a}}c.attr=function(c,a){if(!c)return this;if(y(c,\"string\"))if(1<arguments.length){var b={};b[c]=a;c=b}else return k(\"snap.util.getattr.\"+c,this).firstDefined();for(var m in c)c[h](m)&&k(\"snap.util.attr.\"+m,this,c[m]);return this};c.getBBox=function(c){if(!a.Matrix||!a.path)return this.node.getBBox();var b=this,m=new a.Matrix;if(b.removed)return a._.box();for(;\"use\"==b.type;)if(c||(m=m.add(b.transform().localMatrix.translate(b.attr(\"x\")||\n",
       "0,b.attr(\"y\")||0))),b.original)b=b.original;else var e=b.attr(\"xlink:href\"),b=b.original=b.node.ownerDocument.getElementById(e.substring(e.indexOf(\"#\")+1));var e=b._,h=a.path.get[b.type]||a.path.get.deflt;try{if(c)return e.bboxwt=h?a.path.getBBox(b.realPath=h(b)):a._.box(b.node.getBBox()),a._.box(e.bboxwt);b.realPath=h(b);b.matrix=b.transform().localMatrix;e.bbox=a.path.getBBox(a.path.map(b.realPath,m.add(b.matrix)));return a._.box(e.bbox)}catch(d){return a._.box()}};var f=function(){return this.string};\n",
       "c.transform=function(c){var b=this._;if(null==c){var m=this;c=new a.Matrix(this.node.getCTM());for(var e=n(this),h=[e],d=new a.Matrix,l=e.toTransformString(),b=J(e)==J(this.matrix)?J(b.transform):l;\"svg\"!=m.type&&(m=m.parent());)h.push(n(m));for(m=h.length;m--;)d.add(h[m]);return{string:b,globalMatrix:c,totalMatrix:d,localMatrix:e,diffMatrix:c.clone().add(e.invert()),global:c.toTransformString(),total:d.toTransformString(),local:l,toString:f}}c instanceof a.Matrix?this.matrix=c:n(this,c);this.node&&\n",
       "(\"linearGradient\"==this.type||\"radialGradient\"==this.type?v(this.node,{gradientTransform:this.matrix}):\"pattern\"==this.type?v(this.node,{patternTransform:this.matrix}):v(this.node,{transform:this.matrix}));return this};c.parent=function(){return x(this.node.parentNode)};c.append=c.add=function(c){if(c){if(\"set\"==c.type){var a=this;c.forEach(function(c){a.add(c)});return this}c=x(c);this.node.appendChild(c.node);c.paper=this.paper}return this};c.appendTo=function(c){c&&(c=x(c),c.append(this));return this};\n",
       "c.prepend=function(c){if(c){if(\"set\"==c.type){var a=this,b;c.forEach(function(c){b?b.after(c):a.prepend(c);b=c});return this}c=x(c);var m=c.parent();this.node.insertBefore(c.node,this.node.firstChild);this.add&&this.add();c.paper=this.paper;this.parent()&&this.parent().add();m&&m.add()}return this};c.prependTo=function(c){c=x(c);c.prepend(this);return this};c.before=function(c){if(\"set\"==c.type){var a=this;c.forEach(function(c){var b=c.parent();a.node.parentNode.insertBefore(c.node,a.node);b&&b.add()});\n",
       "this.parent().add();return this}c=x(c);var b=c.parent();this.node.parentNode.insertBefore(c.node,this.node);this.parent()&&this.parent().add();b&&b.add();c.paper=this.paper;return this};c.after=function(c){c=x(c);var a=c.parent();this.node.nextSibling?this.node.parentNode.insertBefore(c.node,this.node.nextSibling):this.node.parentNode.appendChild(c.node);this.parent()&&this.parent().add();a&&a.add();c.paper=this.paper;return this};c.insertBefore=function(c){c=x(c);var a=this.parent();c.node.parentNode.insertBefore(this.node,\n",
       "c.node);this.paper=c.paper;a&&a.add();c.parent()&&c.parent().add();return this};c.insertAfter=function(c){c=x(c);var a=this.parent();c.node.parentNode.insertBefore(this.node,c.node.nextSibling);this.paper=c.paper;a&&a.add();c.parent()&&c.parent().add();return this};c.remove=function(){var c=this.parent();this.node.parentNode&&this.node.parentNode.removeChild(this.node);delete this.paper;this.removed=!0;c&&c.add();return this};c.select=function(c){return x(this.node.querySelector(c))};c.selectAll=\n",
       "function(c){c=this.node.querySelectorAll(c);for(var b=(a.set||Array)(),m=0;m<c.length;m++)b.push(x(c[m]));return b};c.asPX=function(c,a){null==a&&(a=this.attr(c));return+b(this,c,a)};c.use=function(){var c,a=this.node.id;a||(a=this.id,v(this.node,{id:a}));c=\"linearGradient\"==this.type||\"radialGradient\"==this.type||\"pattern\"==this.type?r(this.type,this.node.parentNode):r(\"use\",this.node.parentNode);v(c.node,{\"xlink:href\":\"#\"+a});c.original=this;return c};var l=/\\S+/g;c.addClass=function(c){var a=(c||\n",
       "\"\").match(l)||[];c=this.node;var b=c.className.baseVal,m=b.match(l)||[],e,h,d;if(a.length){for(e=0;d=a[e++];)h=m.indexOf(d),~h||m.push(d);a=m.join(\" \");b!=a&&(c.className.baseVal=a)}return this};c.removeClass=function(c){var a=(c||\"\").match(l)||[];c=this.node;var b=c.className.baseVal,m=b.match(l)||[],e,h;if(m.length){for(e=0;h=a[e++];)h=m.indexOf(h),~h&&m.splice(h,1);a=m.join(\" \");b!=a&&(c.className.baseVal=a)}return this};c.hasClass=function(c){return!!~(this.node.className.baseVal.match(l)||[]).indexOf(c)};\n",
       "c.toggleClass=function(c,a){if(null!=a)return a?this.addClass(c):this.removeClass(c);var b=(c||\"\").match(l)||[],m=this.node,e=m.className.baseVal,h=e.match(l)||[],d,f,E;for(d=0;E=b[d++];)f=h.indexOf(E),~f?h.splice(f,1):h.push(E);b=h.join(\" \");e!=b&&(m.className.baseVal=b);return this};c.clone=function(){var c=x(this.node.cloneNode(!0));v(c.node,\"id\")&&v(c.node,{id:c.id});m(c);c.insertAfter(this);return c};c.toDefs=function(){u(this).appendChild(this.node);return this};c.pattern=c.toPattern=function(c,\n",
       "a,b,m){var e=r(\"pattern\",u(this));null==c&&(c=this.getBBox());y(c,\"object\")&&\"x\"in c&&(a=c.y,b=c.width,m=c.height,c=c.x);v(e.node,{x:c,y:a,width:b,height:m,patternUnits:\"userSpaceOnUse\",id:e.id,viewBox:[c,a,b,m].join(\" \")});e.node.appendChild(this.node);return e};c.marker=function(c,a,b,m,e,h){var d=r(\"marker\",u(this));null==c&&(c=this.getBBox());y(c,\"object\")&&\"x\"in c&&(a=c.y,b=c.width,m=c.height,e=c.refX||c.cx,h=c.refY||c.cy,c=c.x);v(d.node,{viewBox:[c,a,b,m].join(\" \"),markerWidth:b,markerHeight:m,\n",
       "orient:\"auto\",refX:e||0,refY:h||0,id:d.id});d.node.appendChild(this.node);return d};var E=function(c,a,b,m){\"function\"!=typeof b||b.length||(m=b,b=L.linear);this.attr=c;this.dur=a;b&&(this.easing=b);m&&(this.callback=m)};a._.Animation=E;a.animation=function(c,a,b,m){return new E(c,a,b,m)};c.inAnim=function(){var c=[],a;for(a in this.anims)this.anims[h](a)&&function(a){c.push({anim:new E(a._attrs,a.dur,a.easing,a._callback),mina:a,curStatus:a.status(),status:function(c){return a.status(c)},stop:function(){a.stop()}})}(this.anims[a]);\n",
       "return c};a.animate=function(c,a,b,m,e,h){\"function\"!=typeof e||e.length||(h=e,e=L.linear);var d=L.time();c=L(c,a,d,d+m,L.time,b,e);h&&k.once(\"mina.finish.\"+c.id,h);return c};c.stop=function(){for(var c=this.inAnim(),a=0,b=c.length;a<b;a++)c[a].stop();return this};c.animate=function(c,a,b,m){\"function\"!=typeof b||b.length||(m=b,b=L.linear);c instanceof E&&(m=c.callback,b=c.easing,a=b.dur,c=c.attr);var d=[],f=[],l={},t,ca,n,T=this,q;for(q in c)if(c[h](q)){T.equal?(n=T.equal(q,J(c[q])),t=n.from,ca=\n",
       "n.to,n=n.f):(t=+T.attr(q),ca=+c[q]);var la=y(t,\"array\")?t.length:1;l[q]=e(d.length,d.length+la,n);d=d.concat(t);f=f.concat(ca)}t=L.time();var p=L(d,f,t,t+a,L.time,function(c){var a={},b;for(b in l)l[h](b)&&(a[b]=l[b](c));T.attr(a)},b);T.anims[p.id]=p;p._attrs=c;p._callback=m;k(\"snap.animcreated.\"+T.id,p);k.once(\"mina.finish.\"+p.id,function(){delete T.anims[p.id];m&&m.call(T)});k.once(\"mina.stop.\"+p.id,function(){delete T.anims[p.id]});return T};var T={};c.data=function(c,b){var m=T[this.id]=T[this.id]||\n",
       "{};if(0==arguments.length)return k(\"snap.data.get.\"+this.id,this,m,null),m;if(1==arguments.length){if(a.is(c,\"object\")){for(var e in c)c[h](e)&&this.data(e,c[e]);return this}k(\"snap.data.get.\"+this.id,this,m[c],c);return m[c]}m[c]=b;k(\"snap.data.set.\"+this.id,this,b,c);return this};c.removeData=function(c){null==c?T[this.id]={}:T[this.id]&&delete T[this.id][c];return this};c.outerSVG=c.toString=d(1);c.innerSVG=d()})(e.prototype);a.parse=function(c){var a=G.doc.createDocumentFragment(),b=!0,m=G.doc.createElement(\"div\");\n",
       "c=J(c);c.match(/^\\s*<\\s*svg(?:\\s|>)/)||(c=\"<svg>\"+c+\"</svg>\",b=!1);m.innerHTML=c;if(c=m.getElementsByTagName(\"svg\")[0])if(b)a=c;else for(;c.firstChild;)a.appendChild(c.firstChild);m.innerHTML=aa;return new l(a)};l.prototype.select=e.prototype.select;l.prototype.selectAll=e.prototype.selectAll;a.fragment=function(){for(var c=Array.prototype.slice.call(arguments,0),b=G.doc.createDocumentFragment(),m=0,e=c.length;m<e;m++){var h=c[m];h.node&&h.node.nodeType&&b.appendChild(h.node);h.nodeType&&b.appendChild(h);\n",
       "\"string\"==typeof h&&b.appendChild(a.parse(h).node)}return new l(b)};a._.make=r;a._.wrap=x;s.prototype.el=function(c,a){var b=r(c,this.node);a&&b.attr(a);return b};k.on(\"snap.util.getattr\",function(){var c=k.nt(),c=c.substring(c.lastIndexOf(\".\")+1),a=c.replace(/[A-Z]/g,function(c){return\"-\"+c.toLowerCase()});return pa[h](a)?this.node.ownerDocument.defaultView.getComputedStyle(this.node,null).getPropertyValue(a):v(this.node,c)});var pa={\"alignment-baseline\":0,\"baseline-shift\":0,clip:0,\"clip-path\":0,\n",
       "\"clip-rule\":0,color:0,\"color-interpolation\":0,\"color-interpolation-filters\":0,\"color-profile\":0,\"color-rendering\":0,cursor:0,direction:0,display:0,\"dominant-baseline\":0,\"enable-background\":0,fill:0,\"fill-opacity\":0,\"fill-rule\":0,filter:0,\"flood-color\":0,\"flood-opacity\":0,font:0,\"font-family\":0,\"font-size\":0,\"font-size-adjust\":0,\"font-stretch\":0,\"font-style\":0,\"font-variant\":0,\"font-weight\":0,\"glyph-orientation-horizontal\":0,\"glyph-orientation-vertical\":0,\"image-rendering\":0,kerning:0,\"letter-spacing\":0,\n",
       "\"lighting-color\":0,marker:0,\"marker-end\":0,\"marker-mid\":0,\"marker-start\":0,mask:0,opacity:0,overflow:0,\"pointer-events\":0,\"shape-rendering\":0,\"stop-color\":0,\"stop-opacity\":0,stroke:0,\"stroke-dasharray\":0,\"stroke-dashoffset\":0,\"stroke-linecap\":0,\"stroke-linejoin\":0,\"stroke-miterlimit\":0,\"stroke-opacity\":0,\"stroke-width\":0,\"text-anchor\":0,\"text-decoration\":0,\"text-rendering\":0,\"unicode-bidi\":0,visibility:0,\"word-spacing\":0,\"writing-mode\":0};k.on(\"snap.util.attr\",function(c){var a=k.nt(),b={},a=a.substring(a.lastIndexOf(\".\")+\n",
       "1);b[a]=c;var m=a.replace(/-(\\w)/gi,function(c,a){return a.toUpperCase()}),a=a.replace(/[A-Z]/g,function(c){return\"-\"+c.toLowerCase()});pa[h](a)?this.node.style[m]=null==c?aa:c:v(this.node,b)});a.ajax=function(c,a,b,m){var e=new XMLHttpRequest,h=V();if(e){if(y(a,\"function\"))m=b,b=a,a=null;else if(y(a,\"object\")){var d=[],f;for(f in a)a.hasOwnProperty(f)&&d.push(encodeURIComponent(f)+\"=\"+encodeURIComponent(a[f]));a=d.join(\"&\")}e.open(a?\"POST\":\"GET\",c,!0);a&&(e.setRequestHeader(\"X-Requested-With\",\"XMLHttpRequest\"),\n",
       "e.setRequestHeader(\"Content-type\",\"application/x-www-form-urlencoded\"));b&&(k.once(\"snap.ajax.\"+h+\".0\",b),k.once(\"snap.ajax.\"+h+\".200\",b),k.once(\"snap.ajax.\"+h+\".304\",b));e.onreadystatechange=function(){4==e.readyState&&k(\"snap.ajax.\"+h+\".\"+e.status,m,e)};if(4==e.readyState)return e;e.send(a);return e}};a.load=function(c,b,m){a.ajax(c,function(c){c=a.parse(c.responseText);m?b.call(m,c):b(c)})};a.getElementByPoint=function(c,a){var b,m,e=G.doc.elementFromPoint(c,a);if(G.win.opera&&\"svg\"==e.tagName){b=\n",
       "e;m=b.getBoundingClientRect();b=b.ownerDocument;var h=b.body,d=b.documentElement;b=m.top+(g.win.pageYOffset||d.scrollTop||h.scrollTop)-(d.clientTop||h.clientTop||0);m=m.left+(g.win.pageXOffset||d.scrollLeft||h.scrollLeft)-(d.clientLeft||h.clientLeft||0);h=e.createSVGRect();h.x=c-m;h.y=a-b;h.width=h.height=1;b=e.getIntersectionList(h,null);b.length&&(e=b[b.length-1])}return e?x(e):null};a.plugin=function(c){c(a,e,s,G,l)};return G.win.Snap=a}();C.plugin(function(a,k,y,M,A){function w(a,d,f,b,q,e){null==\n",
       "d&&\"[object SVGMatrix]\"==z.call(a)?(this.a=a.a,this.b=a.b,this.c=a.c,this.d=a.d,this.e=a.e,this.f=a.f):null!=a?(this.a=+a,this.b=+d,this.c=+f,this.d=+b,this.e=+q,this.f=+e):(this.a=1,this.c=this.b=0,this.d=1,this.f=this.e=0)}var z=Object.prototype.toString,d=String,f=Math;(function(n){function k(a){return a[0]*a[0]+a[1]*a[1]}function p(a){var d=f.sqrt(k(a));a[0]&&(a[0]/=d);a[1]&&(a[1]/=d)}n.add=function(a,d,e,f,n,p){var k=[[],[],[] ],u=[[this.a,this.c,this.e],[this.b,this.d,this.f],[0,0,1] ];d=[[a,\n",
       "e,n],[d,f,p],[0,0,1] ];a&&a instanceof w&&(d=[[a.a,a.c,a.e],[a.b,a.d,a.f],[0,0,1] ]);for(a=0;3>a;a++)for(e=0;3>e;e++){for(f=n=0;3>f;f++)n+=u[a][f]*d[f][e];k[a][e]=n}this.a=k[0][0];this.b=k[1][0];this.c=k[0][1];this.d=k[1][1];this.e=k[0][2];this.f=k[1][2];return this};n.invert=function(){var a=this.a*this.d-this.b*this.c;return new w(this.d/a,-this.b/a,-this.c/a,this.a/a,(this.c*this.f-this.d*this.e)/a,(this.b*this.e-this.a*this.f)/a)};n.clone=function(){return new w(this.a,this.b,this.c,this.d,this.e,\n",
       "this.f)};n.translate=function(a,d){return this.add(1,0,0,1,a,d)};n.scale=function(a,d,e,f){null==d&&(d=a);(e||f)&&this.add(1,0,0,1,e,f);this.add(a,0,0,d,0,0);(e||f)&&this.add(1,0,0,1,-e,-f);return this};n.rotate=function(b,d,e){b=a.rad(b);d=d||0;e=e||0;var l=+f.cos(b).toFixed(9);b=+f.sin(b).toFixed(9);this.add(l,b,-b,l,d,e);return this.add(1,0,0,1,-d,-e)};n.x=function(a,d){return a*this.a+d*this.c+this.e};n.y=function(a,d){return a*this.b+d*this.d+this.f};n.get=function(a){return+this[d.fromCharCode(97+\n",
       "a)].toFixed(4)};n.toString=function(){return\"matrix(\"+[this.get(0),this.get(1),this.get(2),this.get(3),this.get(4),this.get(5)].join()+\")\"};n.offset=function(){return[this.e.toFixed(4),this.f.toFixed(4)]};n.determinant=function(){return this.a*this.d-this.b*this.c};n.split=function(){var b={};b.dx=this.e;b.dy=this.f;var d=[[this.a,this.c],[this.b,this.d] ];b.scalex=f.sqrt(k(d[0]));p(d[0]);b.shear=d[0][0]*d[1][0]+d[0][1]*d[1][1];d[1]=[d[1][0]-d[0][0]*b.shear,d[1][1]-d[0][1]*b.shear];b.scaley=f.sqrt(k(d[1]));\n",
       "p(d[1]);b.shear/=b.scaley;0>this.determinant()&&(b.scalex=-b.scalex);var e=-d[0][1],d=d[1][1];0>d?(b.rotate=a.deg(f.acos(d)),0>e&&(b.rotate=360-b.rotate)):b.rotate=a.deg(f.asin(e));b.isSimple=!+b.shear.toFixed(9)&&(b.scalex.toFixed(9)==b.scaley.toFixed(9)||!b.rotate);b.isSuperSimple=!+b.shear.toFixed(9)&&b.scalex.toFixed(9)==b.scaley.toFixed(9)&&!b.rotate;b.noRotation=!+b.shear.toFixed(9)&&!b.rotate;return b};n.toTransformString=function(a){a=a||this.split();if(+a.shear.toFixed(9))return\"m\"+[this.get(0),\n",
       "this.get(1),this.get(2),this.get(3),this.get(4),this.get(5)];a.scalex=+a.scalex.toFixed(4);a.scaley=+a.scaley.toFixed(4);a.rotate=+a.rotate.toFixed(4);return(a.dx||a.dy?\"t\"+[+a.dx.toFixed(4),+a.dy.toFixed(4)]:\"\")+(1!=a.scalex||1!=a.scaley?\"s\"+[a.scalex,a.scaley,0,0]:\"\")+(a.rotate?\"r\"+[+a.rotate.toFixed(4),0,0]:\"\")}})(w.prototype);a.Matrix=w;a.matrix=function(a,d,f,b,k,e){return new w(a,d,f,b,k,e)}});C.plugin(function(a,v,y,M,A){function w(h){return function(d){k.stop();d instanceof A&&1==d.node.childNodes.length&&\n",
       "(\"radialGradient\"==d.node.firstChild.tagName||\"linearGradient\"==d.node.firstChild.tagName||\"pattern\"==d.node.firstChild.tagName)&&(d=d.node.firstChild,b(this).appendChild(d),d=u(d));if(d instanceof v)if(\"radialGradient\"==d.type||\"linearGradient\"==d.type||\"pattern\"==d.type){d.node.id||e(d.node,{id:d.id});var f=l(d.node.id)}else f=d.attr(h);else f=a.color(d),f.error?(f=a(b(this).ownerSVGElement).gradient(d))?(f.node.id||e(f.node,{id:f.id}),f=l(f.node.id)):f=d:f=r(f);d={};d[h]=f;e(this.node,d);this.node.style[h]=\n",
       "x}}function z(a){k.stop();a==+a&&(a+=\"px\");this.node.style.fontSize=a}function d(a){var b=[];a=a.childNodes;for(var e=0,f=a.length;e<f;e++){var l=a[e];3==l.nodeType&&b.push(l.nodeValue);\"tspan\"==l.tagName&&(1==l.childNodes.length&&3==l.firstChild.nodeType?b.push(l.firstChild.nodeValue):b.push(d(l)))}return b}function f(){k.stop();return this.node.style.fontSize}var n=a._.make,u=a._.wrap,p=a.is,b=a._.getSomeDefs,q=/^url\\(#?([^)]+)\\)$/,e=a._.$,l=a.url,r=String,s=a._.separator,x=\"\";k.on(\"snap.util.attr.mask\",\n",
       "function(a){if(a instanceof v||a instanceof A){k.stop();a instanceof A&&1==a.node.childNodes.length&&(a=a.node.firstChild,b(this).appendChild(a),a=u(a));if(\"mask\"==a.type)var d=a;else d=n(\"mask\",b(this)),d.node.appendChild(a.node);!d.node.id&&e(d.node,{id:d.id});e(this.node,{mask:l(d.id)})}});(function(a){k.on(\"snap.util.attr.clip\",a);k.on(\"snap.util.attr.clip-path\",a);k.on(\"snap.util.attr.clipPath\",a)})(function(a){if(a instanceof v||a instanceof A){k.stop();if(\"clipPath\"==a.type)var d=a;else d=\n",
       "n(\"clipPath\",b(this)),d.node.appendChild(a.node),!d.node.id&&e(d.node,{id:d.id});e(this.node,{\"clip-path\":l(d.id)})}});k.on(\"snap.util.attr.fill\",w(\"fill\"));k.on(\"snap.util.attr.stroke\",w(\"stroke\"));var G=/^([lr])(?:\\(([^)]*)\\))?(.*)$/i;k.on(\"snap.util.grad.parse\",function(a){a=r(a);var b=a.match(G);if(!b)return null;a=b[1];var e=b[2],b=b[3],e=e.split(/\\s*,\\s*/).map(function(a){return+a==a?+a:a});1==e.length&&0==e[0]&&(e=[]);b=b.split(\"-\");b=b.map(function(a){a=a.split(\":\");var b={color:a[0]};a[1]&&\n",
       "(b.offset=parseFloat(a[1]));return b});return{type:a,params:e,stops:b}});k.on(\"snap.util.attr.d\",function(b){k.stop();p(b,\"array\")&&p(b[0],\"array\")&&(b=a.path.toString.call(b));b=r(b);b.match(/[ruo]/i)&&(b=a.path.toAbsolute(b));e(this.node,{d:b})})(-1);k.on(\"snap.util.attr.#text\",function(a){k.stop();a=r(a);for(a=M.doc.createTextNode(a);this.node.firstChild;)this.node.removeChild(this.node.firstChild);this.node.appendChild(a)})(-1);k.on(\"snap.util.attr.path\",function(a){k.stop();this.attr({d:a})})(-1);\n",
       "k.on(\"snap.util.attr.class\",function(a){k.stop();this.node.className.baseVal=a})(-1);k.on(\"snap.util.attr.viewBox\",function(a){a=p(a,\"object\")&&\"x\"in a?[a.x,a.y,a.width,a.height].join(\" \"):p(a,\"array\")?a.join(\" \"):a;e(this.node,{viewBox:a});k.stop()})(-1);k.on(\"snap.util.attr.transform\",function(a){this.transform(a);k.stop()})(-1);k.on(\"snap.util.attr.r\",function(a){\"rect\"==this.type&&(k.stop(),e(this.node,{rx:a,ry:a}))})(-1);k.on(\"snap.util.attr.textpath\",function(a){k.stop();if(\"text\"==this.type){var d,\n",
       "f;if(!a&&this.textPath){for(a=this.textPath;a.node.firstChild;)this.node.appendChild(a.node.firstChild);a.remove();delete this.textPath}else if(p(a,\"string\")?(d=b(this),a=u(d.parentNode).path(a),d.appendChild(a.node),d=a.id,a.attr({id:d})):(a=u(a),a instanceof v&&(d=a.attr(\"id\"),d||(d=a.id,a.attr({id:d})))),d)if(a=this.textPath,f=this.node,a)a.attr({\"xlink:href\":\"#\"+d});else{for(a=e(\"textPath\",{\"xlink:href\":\"#\"+d});f.firstChild;)a.appendChild(f.firstChild);f.appendChild(a);this.textPath=u(a)}}})(-1);\n",
       "k.on(\"snap.util.attr.text\",function(a){if(\"text\"==this.type){for(var b=this.node,d=function(a){var b=e(\"tspan\");if(p(a,\"array\"))for(var f=0;f<a.length;f++)b.appendChild(d(a[f]));else b.appendChild(M.doc.createTextNode(a));b.normalize&&b.normalize();return b};b.firstChild;)b.removeChild(b.firstChild);for(a=d(a);a.firstChild;)b.appendChild(a.firstChild)}k.stop()})(-1);k.on(\"snap.util.attr.fontSize\",z)(-1);k.on(\"snap.util.attr.font-size\",z)(-1);k.on(\"snap.util.getattr.transform\",function(){k.stop();\n",
       "return this.transform()})(-1);k.on(\"snap.util.getattr.textpath\",function(){k.stop();return this.textPath})(-1);(function(){function b(d){return function(){k.stop();var b=M.doc.defaultView.getComputedStyle(this.node,null).getPropertyValue(\"marker-\"+d);return\"none\"==b?b:a(M.doc.getElementById(b.match(q)[1]))}}function d(a){return function(b){k.stop();var d=\"marker\"+a.charAt(0).toUpperCase()+a.substring(1);if(\"\"==b||!b)this.node.style[d]=\"none\";else if(\"marker\"==b.type){var f=b.node.id;f||e(b.node,{id:b.id});\n",
       "this.node.style[d]=l(f)}}}k.on(\"snap.util.getattr.marker-end\",b(\"end\"))(-1);k.on(\"snap.util.getattr.markerEnd\",b(\"end\"))(-1);k.on(\"snap.util.getattr.marker-start\",b(\"start\"))(-1);k.on(\"snap.util.getattr.markerStart\",b(\"start\"))(-1);k.on(\"snap.util.getattr.marker-mid\",b(\"mid\"))(-1);k.on(\"snap.util.getattr.markerMid\",b(\"mid\"))(-1);k.on(\"snap.util.attr.marker-end\",d(\"end\"))(-1);k.on(\"snap.util.attr.markerEnd\",d(\"end\"))(-1);k.on(\"snap.util.attr.marker-start\",d(\"start\"))(-1);k.on(\"snap.util.attr.markerStart\",\n",
       "d(\"start\"))(-1);k.on(\"snap.util.attr.marker-mid\",d(\"mid\"))(-1);k.on(\"snap.util.attr.markerMid\",d(\"mid\"))(-1)})();k.on(\"snap.util.getattr.r\",function(){if(\"rect\"==this.type&&e(this.node,\"rx\")==e(this.node,\"ry\"))return k.stop(),e(this.node,\"rx\")})(-1);k.on(\"snap.util.getattr.text\",function(){if(\"text\"==this.type||\"tspan\"==this.type){k.stop();var a=d(this.node);return 1==a.length?a[0]:a}})(-1);k.on(\"snap.util.getattr.#text\",function(){return this.node.textContent})(-1);k.on(\"snap.util.getattr.viewBox\",\n",
       "function(){k.stop();var b=e(this.node,\"viewBox\");if(b)return b=b.split(s),a._.box(+b[0],+b[1],+b[2],+b[3])})(-1);k.on(\"snap.util.getattr.points\",function(){var a=e(this.node,\"points\");k.stop();if(a)return a.split(s)})(-1);k.on(\"snap.util.getattr.path\",function(){var a=e(this.node,\"d\");k.stop();return a})(-1);k.on(\"snap.util.getattr.class\",function(){return this.node.className.baseVal})(-1);k.on(\"snap.util.getattr.fontSize\",f)(-1);k.on(\"snap.util.getattr.font-size\",f)(-1)});C.plugin(function(a,v,y,\n",
       "M,A){function w(a){return a}function z(a){return function(b){return+b.toFixed(3)+a}}var d={\"+\":function(a,b){return a+b},\"-\":function(a,b){return a-b},\"/\":function(a,b){return a/b},\"*\":function(a,b){return a*b}},f=String,n=/[a-z]+$/i,u=/^\\s*([+\\-\\/*])\\s*=\\s*([\\d.eE+\\-]+)\\s*([^\\d\\s]+)?\\s*$/;k.on(\"snap.util.attr\",function(a){if(a=f(a).match(u)){var b=k.nt(),b=b.substring(b.lastIndexOf(\".\")+1),q=this.attr(b),e={};k.stop();var l=a[3]||\"\",r=q.match(n),s=d[a[1] ];r&&r==l?a=s(parseFloat(q),+a[2]):(q=this.asPX(b),\n",
       "a=s(this.asPX(b),this.asPX(b,a[2]+l)));isNaN(q)||isNaN(a)||(e[b]=a,this.attr(e))}})(-10);k.on(\"snap.util.equal\",function(a,b){var q=f(this.attr(a)||\"\"),e=f(b).match(u);if(e){k.stop();var l=e[3]||\"\",r=q.match(n),s=d[e[1] ];if(r&&r==l)return{from:parseFloat(q),to:s(parseFloat(q),+e[2]),f:z(r)};q=this.asPX(a);return{from:q,to:s(q,this.asPX(a,e[2]+l)),f:w}}})(-10)});C.plugin(function(a,v,y,M,A){var w=y.prototype,z=a.is;w.rect=function(a,d,k,p,b,q){var e;null==q&&(q=b);z(a,\"object\")&&\"[object Object]\"==\n",
       "a?e=a:null!=a&&(e={x:a,y:d,width:k,height:p},null!=b&&(e.rx=b,e.ry=q));return this.el(\"rect\",e)};w.circle=function(a,d,k){var p;z(a,\"object\")&&\"[object Object]\"==a?p=a:null!=a&&(p={cx:a,cy:d,r:k});return this.el(\"circle\",p)};var d=function(){function a(){this.parentNode.removeChild(this)}return function(d,k){var p=M.doc.createElement(\"img\"),b=M.doc.body;p.style.cssText=\"position:absolute;left:-9999em;top:-9999em\";p.onload=function(){k.call(p);p.onload=p.onerror=null;b.removeChild(p)};p.onerror=a;\n",
       "b.appendChild(p);p.src=d}}();w.image=function(f,n,k,p,b){var q=this.el(\"image\");if(z(f,\"object\")&&\"src\"in f)q.attr(f);else if(null!=f){var e={\"xlink:href\":f,preserveAspectRatio:\"none\"};null!=n&&null!=k&&(e.x=n,e.y=k);null!=p&&null!=b?(e.width=p,e.height=b):d(f,function(){a._.$(q.node,{width:this.offsetWidth,height:this.offsetHeight})});a._.$(q.node,e)}return q};w.ellipse=function(a,d,k,p){var b;z(a,\"object\")&&\"[object Object]\"==a?b=a:null!=a&&(b={cx:a,cy:d,rx:k,ry:p});return this.el(\"ellipse\",b)};\n",
       "w.path=function(a){var d;z(a,\"object\")&&!z(a,\"array\")?d=a:a&&(d={d:a});return this.el(\"path\",d)};w.group=w.g=function(a){var d=this.el(\"g\");1==arguments.length&&a&&!a.type?d.attr(a):arguments.length&&d.add(Array.prototype.slice.call(arguments,0));return d};w.svg=function(a,d,k,p,b,q,e,l){var r={};z(a,\"object\")&&null==d?r=a:(null!=a&&(r.x=a),null!=d&&(r.y=d),null!=k&&(r.width=k),null!=p&&(r.height=p),null!=b&&null!=q&&null!=e&&null!=l&&(r.viewBox=[b,q,e,l]));return this.el(\"svg\",r)};w.mask=function(a){var d=\n",
       "this.el(\"mask\");1==arguments.length&&a&&!a.type?d.attr(a):arguments.length&&d.add(Array.prototype.slice.call(arguments,0));return d};w.ptrn=function(a,d,k,p,b,q,e,l){if(z(a,\"object\"))var r=a;else arguments.length?(r={},null!=a&&(r.x=a),null!=d&&(r.y=d),null!=k&&(r.width=k),null!=p&&(r.height=p),null!=b&&null!=q&&null!=e&&null!=l&&(r.viewBox=[b,q,e,l])):r={patternUnits:\"userSpaceOnUse\"};return this.el(\"pattern\",r)};w.use=function(a){return null!=a?(make(\"use\",this.node),a instanceof v&&(a.attr(\"id\")||\n",
       "a.attr({id:ID()}),a=a.attr(\"id\")),this.el(\"use\",{\"xlink:href\":a})):v.prototype.use.call(this)};w.text=function(a,d,k){var p={};z(a,\"object\")?p=a:null!=a&&(p={x:a,y:d,text:k||\"\"});return this.el(\"text\",p)};w.line=function(a,d,k,p){var b={};z(a,\"object\")?b=a:null!=a&&(b={x1:a,x2:k,y1:d,y2:p});return this.el(\"line\",b)};w.polyline=function(a){1<arguments.length&&(a=Array.prototype.slice.call(arguments,0));var d={};z(a,\"object\")&&!z(a,\"array\")?d=a:null!=a&&(d={points:a});return this.el(\"polyline\",d)};\n",
       "w.polygon=function(a){1<arguments.length&&(a=Array.prototype.slice.call(arguments,0));var d={};z(a,\"object\")&&!z(a,\"array\")?d=a:null!=a&&(d={points:a});return this.el(\"polygon\",d)};(function(){function d(){return this.selectAll(\"stop\")}function n(b,d){var f=e(\"stop\"),k={offset:+d+\"%\"};b=a.color(b);k[\"stop-color\"]=b.hex;1>b.opacity&&(k[\"stop-opacity\"]=b.opacity);e(f,k);this.node.appendChild(f);return this}function u(){if(\"linearGradient\"==this.type){var b=e(this.node,\"x1\")||0,d=e(this.node,\"x2\")||\n",
       "1,f=e(this.node,\"y1\")||0,k=e(this.node,\"y2\")||0;return a._.box(b,f,math.abs(d-b),math.abs(k-f))}b=this.node.r||0;return a._.box((this.node.cx||0.5)-b,(this.node.cy||0.5)-b,2*b,2*b)}function p(a,d){function f(a,b){for(var d=(b-u)/(a-w),e=w;e<a;e++)h[e].offset=+(+u+d*(e-w)).toFixed(2);w=a;u=b}var n=k(\"snap.util.grad.parse\",null,d).firstDefined(),p;if(!n)return null;n.params.unshift(a);p=\"l\"==n.type.toLowerCase()?b.apply(0,n.params):q.apply(0,n.params);n.type!=n.type.toLowerCase()&&e(p.node,{gradientUnits:\"userSpaceOnUse\"});\n",
       "var h=n.stops,n=h.length,u=0,w=0;n--;for(var v=0;v<n;v++)\"offset\"in h[v]&&f(v,h[v].offset);h[n].offset=h[n].offset||100;f(n,h[n].offset);for(v=0;v<=n;v++){var y=h[v];p.addStop(y.color,y.offset)}return p}function b(b,k,p,q,w){b=a._.make(\"linearGradient\",b);b.stops=d;b.addStop=n;b.getBBox=u;null!=k&&e(b.node,{x1:k,y1:p,x2:q,y2:w});return b}function q(b,k,p,q,w,h){b=a._.make(\"radialGradient\",b);b.stops=d;b.addStop=n;b.getBBox=u;null!=k&&e(b.node,{cx:k,cy:p,r:q});null!=w&&null!=h&&e(b.node,{fx:w,fy:h});\n",
       "return b}var e=a._.$;w.gradient=function(a){return p(this.defs,a)};w.gradientLinear=function(a,d,e,f){return b(this.defs,a,d,e,f)};w.gradientRadial=function(a,b,d,e,f){return q(this.defs,a,b,d,e,f)};w.toString=function(){var b=this.node.ownerDocument,d=b.createDocumentFragment(),b=b.createElement(\"div\"),e=this.node.cloneNode(!0);d.appendChild(b);b.appendChild(e);a._.$(e,{xmlns:\"http://www.w3.org/2000/svg\"});b=b.innerHTML;d.removeChild(d.firstChild);return b};w.clear=function(){for(var a=this.node.firstChild,\n",
       "b;a;)b=a.nextSibling,\"defs\"!=a.tagName?a.parentNode.removeChild(a):w.clear.call({node:a}),a=b}})()});C.plugin(function(a,k,y,M){function A(a){var b=A.ps=A.ps||{};b[a]?b[a].sleep=100:b[a]={sleep:100};setTimeout(function(){for(var d in b)b[L](d)&&d!=a&&(b[d].sleep--,!b[d].sleep&&delete b[d])});return b[a]}function w(a,b,d,e){null==a&&(a=b=d=e=0);null==b&&(b=a.y,d=a.width,e=a.height,a=a.x);return{x:a,y:b,width:d,w:d,height:e,h:e,x2:a+d,y2:b+e,cx:a+d/2,cy:b+e/2,r1:F.min(d,e)/2,r2:F.max(d,e)/2,r0:F.sqrt(d*\n",
       "d+e*e)/2,path:s(a,b,d,e),vb:[a,b,d,e].join(\" \")}}function z(){return this.join(\",\").replace(N,\"$1\")}function d(a){a=C(a);a.toString=z;return a}function f(a,b,d,h,f,k,l,n,p){if(null==p)return e(a,b,d,h,f,k,l,n);if(0>p||e(a,b,d,h,f,k,l,n)<p)p=void 0;else{var q=0.5,O=1-q,s;for(s=e(a,b,d,h,f,k,l,n,O);0.01<Z(s-p);)q/=2,O+=(s<p?1:-1)*q,s=e(a,b,d,h,f,k,l,n,O);p=O}return u(a,b,d,h,f,k,l,n,p)}function n(b,d){function e(a){return+(+a).toFixed(3)}return a._.cacher(function(a,h,l){a instanceof k&&(a=a.attr(\"d\"));\n",
       "a=I(a);for(var n,p,D,q,O=\"\",s={},c=0,t=0,r=a.length;t<r;t++){D=a[t];if(\"M\"==D[0])n=+D[1],p=+D[2];else{q=f(n,p,D[1],D[2],D[3],D[4],D[5],D[6]);if(c+q>h){if(d&&!s.start){n=f(n,p,D[1],D[2],D[3],D[4],D[5],D[6],h-c);O+=[\"C\"+e(n.start.x),e(n.start.y),e(n.m.x),e(n.m.y),e(n.x),e(n.y)];if(l)return O;s.start=O;O=[\"M\"+e(n.x),e(n.y)+\"C\"+e(n.n.x),e(n.n.y),e(n.end.x),e(n.end.y),e(D[5]),e(D[6])].join();c+=q;n=+D[5];p=+D[6];continue}if(!b&&!d)return n=f(n,p,D[1],D[2],D[3],D[4],D[5],D[6],h-c)}c+=q;n=+D[5];p=+D[6]}O+=\n",
       "D.shift()+D}s.end=O;return n=b?c:d?s:u(n,p,D[0],D[1],D[2],D[3],D[4],D[5],1)},null,a._.clone)}function u(a,b,d,e,h,f,k,l,n){var p=1-n,q=ma(p,3),s=ma(p,2),c=n*n,t=c*n,r=q*a+3*s*n*d+3*p*n*n*h+t*k,q=q*b+3*s*n*e+3*p*n*n*f+t*l,s=a+2*n*(d-a)+c*(h-2*d+a),t=b+2*n*(e-b)+c*(f-2*e+b),x=d+2*n*(h-d)+c*(k-2*h+d),c=e+2*n*(f-e)+c*(l-2*f+e);a=p*a+n*d;b=p*b+n*e;h=p*h+n*k;f=p*f+n*l;l=90-180*F.atan2(s-x,t-c)/S;return{x:r,y:q,m:{x:s,y:t},n:{x:x,y:c},start:{x:a,y:b},end:{x:h,y:f},alpha:l}}function p(b,d,e,h,f,n,k,l){a.is(b,\n",
       "\"array\")||(b=[b,d,e,h,f,n,k,l]);b=U.apply(null,b);return w(b.min.x,b.min.y,b.max.x-b.min.x,b.max.y-b.min.y)}function b(a,b,d){return b>=a.x&&b<=a.x+a.width&&d>=a.y&&d<=a.y+a.height}function q(a,d){a=w(a);d=w(d);return b(d,a.x,a.y)||b(d,a.x2,a.y)||b(d,a.x,a.y2)||b(d,a.x2,a.y2)||b(a,d.x,d.y)||b(a,d.x2,d.y)||b(a,d.x,d.y2)||b(a,d.x2,d.y2)||(a.x<d.x2&&a.x>d.x||d.x<a.x2&&d.x>a.x)&&(a.y<d.y2&&a.y>d.y||d.y<a.y2&&d.y>a.y)}function e(a,b,d,e,h,f,n,k,l){null==l&&(l=1);l=(1<l?1:0>l?0:l)/2;for(var p=[-0.1252,\n",
       "0.1252,-0.3678,0.3678,-0.5873,0.5873,-0.7699,0.7699,-0.9041,0.9041,-0.9816,0.9816],q=[0.2491,0.2491,0.2335,0.2335,0.2032,0.2032,0.1601,0.1601,0.1069,0.1069,0.0472,0.0472],s=0,c=0;12>c;c++)var t=l*p[c]+l,r=t*(t*(-3*a+9*d-9*h+3*n)+6*a-12*d+6*h)-3*a+3*d,t=t*(t*(-3*b+9*e-9*f+3*k)+6*b-12*e+6*f)-3*b+3*e,s=s+q[c]*F.sqrt(r*r+t*t);return l*s}function l(a,b,d){a=I(a);b=I(b);for(var h,f,l,n,k,s,r,O,x,c,t=d?0:[],w=0,v=a.length;w<v;w++)if(x=a[w],\"M\"==x[0])h=k=x[1],f=s=x[2];else{\"C\"==x[0]?(x=[h,f].concat(x.slice(1)),\n",
       "h=x[6],f=x[7]):(x=[h,f,h,f,k,s,k,s],h=k,f=s);for(var G=0,y=b.length;G<y;G++)if(c=b[G],\"M\"==c[0])l=r=c[1],n=O=c[2];else{\"C\"==c[0]?(c=[l,n].concat(c.slice(1)),l=c[6],n=c[7]):(c=[l,n,l,n,r,O,r,O],l=r,n=O);var z;var K=x,B=c;z=d;var H=p(K),J=p(B);if(q(H,J)){for(var H=e.apply(0,K),J=e.apply(0,B),H=~~(H/8),J=~~(J/8),U=[],A=[],F={},M=z?0:[],P=0;P<H+1;P++){var C=u.apply(0,K.concat(P/H));U.push({x:C.x,y:C.y,t:P/H})}for(P=0;P<J+1;P++)C=u.apply(0,B.concat(P/J)),A.push({x:C.x,y:C.y,t:P/J});for(P=0;P<H;P++)for(K=\n",
       "0;K<J;K++){var Q=U[P],L=U[P+1],B=A[K],C=A[K+1],N=0.001>Z(L.x-Q.x)?\"y\":\"x\",S=0.001>Z(C.x-B.x)?\"y\":\"x\",R;R=Q.x;var Y=Q.y,V=L.x,ea=L.y,fa=B.x,ga=B.y,ha=C.x,ia=C.y;if(W(R,V)<X(fa,ha)||X(R,V)>W(fa,ha)||W(Y,ea)<X(ga,ia)||X(Y,ea)>W(ga,ia))R=void 0;else{var $=(R*ea-Y*V)*(fa-ha)-(R-V)*(fa*ia-ga*ha),aa=(R*ea-Y*V)*(ga-ia)-(Y-ea)*(fa*ia-ga*ha),ja=(R-V)*(ga-ia)-(Y-ea)*(fa-ha);if(ja){var $=$/ja,aa=aa/ja,ja=+$.toFixed(2),ba=+aa.toFixed(2);R=ja<+X(R,V).toFixed(2)||ja>+W(R,V).toFixed(2)||ja<+X(fa,ha).toFixed(2)||\n",
       "ja>+W(fa,ha).toFixed(2)||ba<+X(Y,ea).toFixed(2)||ba>+W(Y,ea).toFixed(2)||ba<+X(ga,ia).toFixed(2)||ba>+W(ga,ia).toFixed(2)?void 0:{x:$,y:aa}}else R=void 0}R&&F[R.x.toFixed(4)]!=R.y.toFixed(4)&&(F[R.x.toFixed(4)]=R.y.toFixed(4),Q=Q.t+Z((R[N]-Q[N])/(L[N]-Q[N]))*(L.t-Q.t),B=B.t+Z((R[S]-B[S])/(C[S]-B[S]))*(C.t-B.t),0<=Q&&1>=Q&&0<=B&&1>=B&&(z?M++:M.push({x:R.x,y:R.y,t1:Q,t2:B})))}z=M}else z=z?0:[];if(d)t+=z;else{H=0;for(J=z.length;H<J;H++)z[H].segment1=w,z[H].segment2=G,z[H].bez1=x,z[H].bez2=c;t=t.concat(z)}}}return t}\n",
       "function r(a){var b=A(a);if(b.bbox)return C(b.bbox);if(!a)return w();a=I(a);for(var d=0,e=0,h=[],f=[],l,n=0,k=a.length;n<k;n++)l=a[n],\"M\"==l[0]?(d=l[1],e=l[2],h.push(d),f.push(e)):(d=U(d,e,l[1],l[2],l[3],l[4],l[5],l[6]),h=h.concat(d.min.x,d.max.x),f=f.concat(d.min.y,d.max.y),d=l[5],e=l[6]);a=X.apply(0,h);l=X.apply(0,f);h=W.apply(0,h);f=W.apply(0,f);f=w(a,l,h-a,f-l);b.bbox=C(f);return f}function s(a,b,d,e,h){if(h)return[[\"M\",+a+ +h,b],[\"l\",d-2*h,0],[\"a\",h,h,0,0,1,h,h],[\"l\",0,e-2*h],[\"a\",h,h,0,0,1,\n",
       "-h,h],[\"l\",2*h-d,0],[\"a\",h,h,0,0,1,-h,-h],[\"l\",0,2*h-e],[\"a\",h,h,0,0,1,h,-h],[\"z\"] ];a=[[\"M\",a,b],[\"l\",d,0],[\"l\",0,e],[\"l\",-d,0],[\"z\"] ];a.toString=z;return a}function x(a,b,d,e,h){null==h&&null==e&&(e=d);a=+a;b=+b;d=+d;e=+e;if(null!=h){var f=Math.PI/180,l=a+d*Math.cos(-e*f);a+=d*Math.cos(-h*f);var n=b+d*Math.sin(-e*f);b+=d*Math.sin(-h*f);d=[[\"M\",l,n],[\"A\",d,d,0,+(180<h-e),0,a,b] ]}else d=[[\"M\",a,b],[\"m\",0,-e],[\"a\",d,e,0,1,1,0,2*e],[\"a\",d,e,0,1,1,0,-2*e],[\"z\"] ];d.toString=z;return d}function G(b){var e=\n",
       "A(b);if(e.abs)return d(e.abs);Q(b,\"array\")&&Q(b&&b[0],\"array\")||(b=a.parsePathString(b));if(!b||!b.length)return[[\"M\",0,0] ];var h=[],f=0,l=0,n=0,k=0,p=0;\"M\"==b[0][0]&&(f=+b[0][1],l=+b[0][2],n=f,k=l,p++,h[0]=[\"M\",f,l]);for(var q=3==b.length&&\"M\"==b[0][0]&&\"R\"==b[1][0].toUpperCase()&&\"Z\"==b[2][0].toUpperCase(),s,r,w=p,c=b.length;w<c;w++){h.push(s=[]);r=b[w];p=r[0];if(p!=p.toUpperCase())switch(s[0]=p.toUpperCase(),s[0]){case \"A\":s[1]=r[1];s[2]=r[2];s[3]=r[3];s[4]=r[4];s[5]=r[5];s[6]=+r[6]+f;s[7]=+r[7]+\n",
       "l;break;case \"V\":s[1]=+r[1]+l;break;case \"H\":s[1]=+r[1]+f;break;case \"R\":for(var t=[f,l].concat(r.slice(1)),u=2,v=t.length;u<v;u++)t[u]=+t[u]+f,t[++u]=+t[u]+l;h.pop();h=h.concat(P(t,q));break;case \"O\":h.pop();t=x(f,l,r[1],r[2]);t.push(t[0]);h=h.concat(t);break;case \"U\":h.pop();h=h.concat(x(f,l,r[1],r[2],r[3]));s=[\"U\"].concat(h[h.length-1].slice(-2));break;case \"M\":n=+r[1]+f,k=+r[2]+l;default:for(u=1,v=r.length;u<v;u++)s[u]=+r[u]+(u%2?f:l)}else if(\"R\"==p)t=[f,l].concat(r.slice(1)),h.pop(),h=h.concat(P(t,\n",
       "q)),s=[\"R\"].concat(r.slice(-2));else if(\"O\"==p)h.pop(),t=x(f,l,r[1],r[2]),t.push(t[0]),h=h.concat(t);else if(\"U\"==p)h.pop(),h=h.concat(x(f,l,r[1],r[2],r[3])),s=[\"U\"].concat(h[h.length-1].slice(-2));else for(t=0,u=r.length;t<u;t++)s[t]=r[t];p=p.toUpperCase();if(\"O\"!=p)switch(s[0]){case \"Z\":f=+n;l=+k;break;case \"H\":f=s[1];break;case \"V\":l=s[1];break;case \"M\":n=s[s.length-2],k=s[s.length-1];default:f=s[s.length-2],l=s[s.length-1]}}h.toString=z;e.abs=d(h);return h}function h(a,b,d,e){return[a,b,d,e,d,\n",
       "e]}function J(a,b,d,e,h,f){var l=1/3,n=2/3;return[l*a+n*d,l*b+n*e,l*h+n*d,l*f+n*e,h,f]}function K(b,d,e,h,f,l,n,k,p,s){var r=120*S/180,q=S/180*(+f||0),c=[],t,x=a._.cacher(function(a,b,c){var d=a*F.cos(c)-b*F.sin(c);a=a*F.sin(c)+b*F.cos(c);return{x:d,y:a}});if(s)v=s[0],t=s[1],l=s[2],u=s[3];else{t=x(b,d,-q);b=t.x;d=t.y;t=x(k,p,-q);k=t.x;p=t.y;F.cos(S/180*f);F.sin(S/180*f);t=(b-k)/2;v=(d-p)/2;u=t*t/(e*e)+v*v/(h*h);1<u&&(u=F.sqrt(u),e*=u,h*=u);var u=e*e,w=h*h,u=(l==n?-1:1)*F.sqrt(Z((u*w-u*v*v-w*t*t)/\n",
       "(u*v*v+w*t*t)));l=u*e*v/h+(b+k)/2;var u=u*-h*t/e+(d+p)/2,v=F.asin(((d-u)/h).toFixed(9));t=F.asin(((p-u)/h).toFixed(9));v=b<l?S-v:v;t=k<l?S-t:t;0>v&&(v=2*S+v);0>t&&(t=2*S+t);n&&v>t&&(v-=2*S);!n&&t>v&&(t-=2*S)}if(Z(t-v)>r){var c=t,w=k,G=p;t=v+r*(n&&t>v?1:-1);k=l+e*F.cos(t);p=u+h*F.sin(t);c=K(k,p,e,h,f,0,n,w,G,[t,c,l,u])}l=t-v;f=F.cos(v);r=F.sin(v);n=F.cos(t);t=F.sin(t);l=F.tan(l/4);e=4/3*e*l;l*=4/3*h;h=[b,d];b=[b+e*r,d-l*f];d=[k+e*t,p-l*n];k=[k,p];b[0]=2*h[0]-b[0];b[1]=2*h[1]-b[1];if(s)return[b,d,k].concat(c);\n",
       "c=[b,d,k].concat(c).join().split(\",\");s=[];k=0;for(p=c.length;k<p;k++)s[k]=k%2?x(c[k-1],c[k],q).y:x(c[k],c[k+1],q).x;return s}function U(a,b,d,e,h,f,l,k){for(var n=[],p=[[],[] ],s,r,c,t,q=0;2>q;++q)0==q?(r=6*a-12*d+6*h,s=-3*a+9*d-9*h+3*l,c=3*d-3*a):(r=6*b-12*e+6*f,s=-3*b+9*e-9*f+3*k,c=3*e-3*b),1E-12>Z(s)?1E-12>Z(r)||(s=-c/r,0<s&&1>s&&n.push(s)):(t=r*r-4*c*s,c=F.sqrt(t),0>t||(t=(-r+c)/(2*s),0<t&&1>t&&n.push(t),s=(-r-c)/(2*s),0<s&&1>s&&n.push(s)));for(r=q=n.length;q--;)s=n[q],c=1-s,p[0][q]=c*c*c*a+3*\n",
       "c*c*s*d+3*c*s*s*h+s*s*s*l,p[1][q]=c*c*c*b+3*c*c*s*e+3*c*s*s*f+s*s*s*k;p[0][r]=a;p[1][r]=b;p[0][r+1]=l;p[1][r+1]=k;p[0].length=p[1].length=r+2;return{min:{x:X.apply(0,p[0]),y:X.apply(0,p[1])},max:{x:W.apply(0,p[0]),y:W.apply(0,p[1])}}}function I(a,b){var e=!b&&A(a);if(!b&&e.curve)return d(e.curve);var f=G(a),l=b&&G(b),n={x:0,y:0,bx:0,by:0,X:0,Y:0,qx:null,qy:null},k={x:0,y:0,bx:0,by:0,X:0,Y:0,qx:null,qy:null},p=function(a,b,c){if(!a)return[\"C\",b.x,b.y,b.x,b.y,b.x,b.y];a[0]in{T:1,Q:1}||(b.qx=b.qy=null);\n",
       "switch(a[0]){case \"M\":b.X=a[1];b.Y=a[2];break;case \"A\":a=[\"C\"].concat(K.apply(0,[b.x,b.y].concat(a.slice(1))));break;case \"S\":\"C\"==c||\"S\"==c?(c=2*b.x-b.bx,b=2*b.y-b.by):(c=b.x,b=b.y);a=[\"C\",c,b].concat(a.slice(1));break;case \"T\":\"Q\"==c||\"T\"==c?(b.qx=2*b.x-b.qx,b.qy=2*b.y-b.qy):(b.qx=b.x,b.qy=b.y);a=[\"C\"].concat(J(b.x,b.y,b.qx,b.qy,a[1],a[2]));break;case \"Q\":b.qx=a[1];b.qy=a[2];a=[\"C\"].concat(J(b.x,b.y,a[1],a[2],a[3],a[4]));break;case \"L\":a=[\"C\"].concat(h(b.x,b.y,a[1],a[2]));break;case \"H\":a=[\"C\"].concat(h(b.x,\n",
       "b.y,a[1],b.y));break;case \"V\":a=[\"C\"].concat(h(b.x,b.y,b.x,a[1]));break;case \"Z\":a=[\"C\"].concat(h(b.x,b.y,b.X,b.Y))}return a},s=function(a,b){if(7<a[b].length){a[b].shift();for(var c=a[b];c.length;)q[b]=\"A\",l&&(u[b]=\"A\"),a.splice(b++,0,[\"C\"].concat(c.splice(0,6)));a.splice(b,1);v=W(f.length,l&&l.length||0)}},r=function(a,b,c,d,e){a&&b&&\"M\"==a[e][0]&&\"M\"!=b[e][0]&&(b.splice(e,0,[\"M\",d.x,d.y]),c.bx=0,c.by=0,c.x=a[e][1],c.y=a[e][2],v=W(f.length,l&&l.length||0))},q=[],u=[],c=\"\",t=\"\",x=0,v=W(f.length,\n",
       "l&&l.length||0);for(;x<v;x++){f[x]&&(c=f[x][0]);\"C\"!=c&&(q[x]=c,x&&(t=q[x-1]));f[x]=p(f[x],n,t);\"A\"!=q[x]&&\"C\"==c&&(q[x]=\"C\");s(f,x);l&&(l[x]&&(c=l[x][0]),\"C\"!=c&&(u[x]=c,x&&(t=u[x-1])),l[x]=p(l[x],k,t),\"A\"!=u[x]&&\"C\"==c&&(u[x]=\"C\"),s(l,x));r(f,l,n,k,x);r(l,f,k,n,x);var w=f[x],z=l&&l[x],y=w.length,U=l&&z.length;n.x=w[y-2];n.y=w[y-1];n.bx=$(w[y-4])||n.x;n.by=$(w[y-3])||n.y;k.bx=l&&($(z[U-4])||k.x);k.by=l&&($(z[U-3])||k.y);k.x=l&&z[U-2];k.y=l&&z[U-1]}l||(e.curve=d(f));return l?[f,l]:f}function P(a,\n",
       "b){for(var d=[],e=0,h=a.length;h-2*!b>e;e+=2){var f=[{x:+a[e-2],y:+a[e-1]},{x:+a[e],y:+a[e+1]},{x:+a[e+2],y:+a[e+3]},{x:+a[e+4],y:+a[e+5]}];b?e?h-4==e?f[3]={x:+a[0],y:+a[1]}:h-2==e&&(f[2]={x:+a[0],y:+a[1]},f[3]={x:+a[2],y:+a[3]}):f[0]={x:+a[h-2],y:+a[h-1]}:h-4==e?f[3]=f[2]:e||(f[0]={x:+a[e],y:+a[e+1]});d.push([\"C\",(-f[0].x+6*f[1].x+f[2].x)/6,(-f[0].y+6*f[1].y+f[2].y)/6,(f[1].x+6*f[2].x-f[3].x)/6,(f[1].y+6*f[2].y-f[3].y)/6,f[2].x,f[2].y])}return d}y=k.prototype;var Q=a.is,C=a._.clone,L=\"hasOwnProperty\",\n",
       "N=/,?([a-z]),?/gi,$=parseFloat,F=Math,S=F.PI,X=F.min,W=F.max,ma=F.pow,Z=F.abs;M=n(1);var na=n(),ba=n(0,1),V=a._unit2px;a.path=A;a.path.getTotalLength=M;a.path.getPointAtLength=na;a.path.getSubpath=function(a,b,d){if(1E-6>this.getTotalLength(a)-d)return ba(a,b).end;a=ba(a,d,1);return b?ba(a,b).end:a};y.getTotalLength=function(){if(this.node.getTotalLength)return this.node.getTotalLength()};y.getPointAtLength=function(a){return na(this.attr(\"d\"),a)};y.getSubpath=function(b,d){return a.path.getSubpath(this.attr(\"d\"),\n",
       "b,d)};a._.box=w;a.path.findDotsAtSegment=u;a.path.bezierBBox=p;a.path.isPointInsideBBox=b;a.path.isBBoxIntersect=q;a.path.intersection=function(a,b){return l(a,b)};a.path.intersectionNumber=function(a,b){return l(a,b,1)};a.path.isPointInside=function(a,d,e){var h=r(a);return b(h,d,e)&&1==l(a,[[\"M\",d,e],[\"H\",h.x2+10] ],1)%2};a.path.getBBox=r;a.path.get={path:function(a){return a.attr(\"path\")},circle:function(a){a=V(a);return x(a.cx,a.cy,a.r)},ellipse:function(a){a=V(a);return x(a.cx||0,a.cy||0,a.rx,\n",
       "a.ry)},rect:function(a){a=V(a);return s(a.x||0,a.y||0,a.width,a.height,a.rx,a.ry)},image:function(a){a=V(a);return s(a.x||0,a.y||0,a.width,a.height)},line:function(a){return\"M\"+[a.attr(\"x1\")||0,a.attr(\"y1\")||0,a.attr(\"x2\"),a.attr(\"y2\")]},polyline:function(a){return\"M\"+a.attr(\"points\")},polygon:function(a){return\"M\"+a.attr(\"points\")+\"z\"},deflt:function(a){a=a.node.getBBox();return s(a.x,a.y,a.width,a.height)}};a.path.toRelative=function(b){var e=A(b),h=String.prototype.toLowerCase;if(e.rel)return d(e.rel);\n",
       "a.is(b,\"array\")&&a.is(b&&b[0],\"array\")||(b=a.parsePathString(b));var f=[],l=0,n=0,k=0,p=0,s=0;\"M\"==b[0][0]&&(l=b[0][1],n=b[0][2],k=l,p=n,s++,f.push([\"M\",l,n]));for(var r=b.length;s<r;s++){var q=f[s]=[],x=b[s];if(x[0]!=h.call(x[0]))switch(q[0]=h.call(x[0]),q[0]){case \"a\":q[1]=x[1];q[2]=x[2];q[3]=x[3];q[4]=x[4];q[5]=x[5];q[6]=+(x[6]-l).toFixed(3);q[7]=+(x[7]-n).toFixed(3);break;case \"v\":q[1]=+(x[1]-n).toFixed(3);break;case \"m\":k=x[1],p=x[2];default:for(var c=1,t=x.length;c<t;c++)q[c]=+(x[c]-(c%2?l:\n",
       "n)).toFixed(3)}else for(f[s]=[],\"m\"==x[0]&&(k=x[1]+l,p=x[2]+n),q=0,c=x.length;q<c;q++)f[s][q]=x[q];x=f[s].length;switch(f[s][0]){case \"z\":l=k;n=p;break;case \"h\":l+=+f[s][x-1];break;case \"v\":n+=+f[s][x-1];break;default:l+=+f[s][x-2],n+=+f[s][x-1]}}f.toString=z;e.rel=d(f);return f};a.path.toAbsolute=G;a.path.toCubic=I;a.path.map=function(a,b){if(!b)return a;var d,e,h,f,l,n,k;a=I(a);h=0;for(l=a.length;h<l;h++)for(k=a[h],f=1,n=k.length;f<n;f+=2)d=b.x(k[f],k[f+1]),e=b.y(k[f],k[f+1]),k[f]=d,k[f+1]=e;return a};\n",
       "a.path.toString=z;a.path.clone=d});C.plugin(function(a,v,y,C){var A=Math.max,w=Math.min,z=function(a){this.items=[];this.bindings={};this.length=0;this.type=\"set\";if(a)for(var f=0,n=a.length;f<n;f++)a[f]&&(this[this.items.length]=this.items[this.items.length]=a[f],this.length++)};v=z.prototype;v.push=function(){for(var a,f,n=0,k=arguments.length;n<k;n++)if(a=arguments[n])f=this.items.length,this[f]=this.items[f]=a,this.length++;return this};v.pop=function(){this.length&&delete this[this.length--];\n",
       "return this.items.pop()};v.forEach=function(a,f){for(var n=0,k=this.items.length;n<k&&!1!==a.call(f,this.items[n],n);n++);return this};v.animate=function(d,f,n,u){\"function\"!=typeof n||n.length||(u=n,n=L.linear);d instanceof a._.Animation&&(u=d.callback,n=d.easing,f=n.dur,d=d.attr);var p=arguments;if(a.is(d,\"array\")&&a.is(p[p.length-1],\"array\"))var b=!0;var q,e=function(){q?this.b=q:q=this.b},l=0,r=u&&function(){l++==this.length&&u.call(this)};return this.forEach(function(a,l){k.once(\"snap.animcreated.\"+\n",
       "a.id,e);b?p[l]&&a.animate.apply(a,p[l]):a.animate(d,f,n,r)})};v.remove=function(){for(;this.length;)this.pop().remove();return this};v.bind=function(a,f,k){var u={};if(\"function\"==typeof f)this.bindings[a]=f;else{var p=k||a;this.bindings[a]=function(a){u[p]=a;f.attr(u)}}return this};v.attr=function(a){var f={},k;for(k in a)if(this.bindings[k])this.bindings[k](a[k]);else f[k]=a[k];a=0;for(k=this.items.length;a<k;a++)this.items[a].attr(f);return this};v.clear=function(){for(;this.length;)this.pop()};\n",
       "v.splice=function(a,f,k){a=0>a?A(this.length+a,0):a;f=A(0,w(this.length-a,f));var u=[],p=[],b=[],q;for(q=2;q<arguments.length;q++)b.push(arguments[q]);for(q=0;q<f;q++)p.push(this[a+q]);for(;q<this.length-a;q++)u.push(this[a+q]);var e=b.length;for(q=0;q<e+u.length;q++)this.items[a+q]=this[a+q]=q<e?b[q]:u[q-e];for(q=this.items.length=this.length-=f-e;this[q];)delete this[q++];return new z(p)};v.exclude=function(a){for(var f=0,k=this.length;f<k;f++)if(this[f]==a)return this.splice(f,1),!0;return!1};\n",
       "v.insertAfter=function(a){for(var f=this.items.length;f--;)this.items[f].insertAfter(a);return this};v.getBBox=function(){for(var a=[],f=[],k=[],u=[],p=this.items.length;p--;)if(!this.items[p].removed){var b=this.items[p].getBBox();a.push(b.x);f.push(b.y);k.push(b.x+b.width);u.push(b.y+b.height)}a=w.apply(0,a);f=w.apply(0,f);k=A.apply(0,k);u=A.apply(0,u);return{x:a,y:f,x2:k,y2:u,width:k-a,height:u-f,cx:a+(k-a)/2,cy:f+(u-f)/2}};v.clone=function(a){a=new z;for(var f=0,k=this.items.length;f<k;f++)a.push(this.items[f].clone());\n",
       "return a};v.toString=function(){return\"Snap\\u2018s set\"};v.type=\"set\";a.set=function(){var a=new z;arguments.length&&a.push.apply(a,Array.prototype.slice.call(arguments,0));return a}});C.plugin(function(a,v,y,C){function A(a){var b=a[0];switch(b.toLowerCase()){case \"t\":return[b,0,0];case \"m\":return[b,1,0,0,1,0,0];case \"r\":return 4==a.length?[b,0,a[2],a[3] ]:[b,0];case \"s\":return 5==a.length?[b,1,1,a[3],a[4] ]:3==a.length?[b,1,1]:[b,1]}}function w(b,d,f){d=q(d).replace(/\\.{3}|\\u2026/g,b);b=a.parseTransformString(b)||\n",
       "[];d=a.parseTransformString(d)||[];for(var k=Math.max(b.length,d.length),p=[],v=[],h=0,w,z,y,I;h<k;h++){y=b[h]||A(d[h]);I=d[h]||A(y);if(y[0]!=I[0]||\"r\"==y[0].toLowerCase()&&(y[2]!=I[2]||y[3]!=I[3])||\"s\"==y[0].toLowerCase()&&(y[3]!=I[3]||y[4]!=I[4])){b=a._.transform2matrix(b,f());d=a._.transform2matrix(d,f());p=[[\"m\",b.a,b.b,b.c,b.d,b.e,b.f] ];v=[[\"m\",d.a,d.b,d.c,d.d,d.e,d.f] ];break}p[h]=[];v[h]=[];w=0;for(z=Math.max(y.length,I.length);w<z;w++)w in y&&(p[h][w]=y[w]),w in I&&(v[h][w]=I[w])}return{from:u(p),\n",
       "to:u(v),f:n(p)}}function z(a){return a}function d(a){return function(b){return+b.toFixed(3)+a}}function f(b){return a.rgb(b[0],b[1],b[2])}function n(a){var b=0,d,f,k,n,h,p,q=[];d=0;for(f=a.length;d<f;d++){h=\"[\";p=['\"'+a[d][0]+'\"'];k=1;for(n=a[d].length;k<n;k++)p[k]=\"val[\"+b++ +\"]\";h+=p+\"]\";q[d]=h}return Function(\"val\",\"return Snap.path.toString.call([\"+q+\"])\")}function u(a){for(var b=[],d=0,f=a.length;d<f;d++)for(var k=1,n=a[d].length;k<n;k++)b.push(a[d][k]);return b}var p={},b=/[a-z]+$/i,q=String;\n",
       "p.stroke=p.fill=\"colour\";v.prototype.equal=function(a,b){return k(\"snap.util.equal\",this,a,b).firstDefined()};k.on(\"snap.util.equal\",function(e,k){var r,s;r=q(this.attr(e)||\"\");var x=this;if(r==+r&&k==+k)return{from:+r,to:+k,f:z};if(\"colour\"==p[e])return r=a.color(r),s=a.color(k),{from:[r.r,r.g,r.b,r.opacity],to:[s.r,s.g,s.b,s.opacity],f:f};if(\"transform\"==e||\"gradientTransform\"==e||\"patternTransform\"==e)return k instanceof a.Matrix&&(k=k.toTransformString()),a._.rgTransform.test(k)||(k=a._.svgTransform2string(k)),\n",
       "w(r,k,function(){return x.getBBox(1)});if(\"d\"==e||\"path\"==e)return r=a.path.toCubic(r,k),{from:u(r[0]),to:u(r[1]),f:n(r[0])};if(\"points\"==e)return r=q(r).split(a._.separator),s=q(k).split(a._.separator),{from:r,to:s,f:function(a){return a}};aUnit=r.match(b);s=q(k).match(b);return aUnit&&aUnit==s?{from:parseFloat(r),to:parseFloat(k),f:d(aUnit)}:{from:this.asPX(e),to:this.asPX(e,k),f:z}})});C.plugin(function(a,v,y,C){var A=v.prototype,w=\"createTouch\"in C.doc;v=\"click dblclick mousedown mousemove mouseout mouseover mouseup touchstart touchmove touchend touchcancel\".split(\" \");\n",
       "var z={mousedown:\"touchstart\",mousemove:\"touchmove\",mouseup:\"touchend\"},d=function(a,b){var d=\"y\"==a?\"scrollTop\":\"scrollLeft\",e=b&&b.node?b.node.ownerDocument:C.doc;return e[d in e.documentElement?\"documentElement\":\"body\"][d]},f=function(){this.returnValue=!1},n=function(){return this.originalEvent.preventDefault()},u=function(){this.cancelBubble=!0},p=function(){return this.originalEvent.stopPropagation()},b=function(){if(C.doc.addEventListener)return function(a,b,e,f){var k=w&&z[b]?z[b]:b,l=function(k){var l=\n",
       "d(\"y\",f),q=d(\"x\",f);if(w&&z.hasOwnProperty(b))for(var r=0,u=k.targetTouches&&k.targetTouches.length;r<u;r++)if(k.targetTouches[r].target==a||a.contains(k.targetTouches[r].target)){u=k;k=k.targetTouches[r];k.originalEvent=u;k.preventDefault=n;k.stopPropagation=p;break}return e.call(f,k,k.clientX+q,k.clientY+l)};b!==k&&a.addEventListener(b,l,!1);a.addEventListener(k,l,!1);return function(){b!==k&&a.removeEventListener(b,l,!1);a.removeEventListener(k,l,!1);return!0}};if(C.doc.attachEvent)return function(a,\n",
       "b,e,h){var k=function(a){a=a||h.node.ownerDocument.window.event;var b=d(\"y\",h),k=d(\"x\",h),k=a.clientX+k,b=a.clientY+b;a.preventDefault=a.preventDefault||f;a.stopPropagation=a.stopPropagation||u;return e.call(h,a,k,b)};a.attachEvent(\"on\"+b,k);return function(){a.detachEvent(\"on\"+b,k);return!0}}}(),q=[],e=function(a){for(var b=a.clientX,e=a.clientY,f=d(\"y\"),l=d(\"x\"),n,p=q.length;p--;){n=q[p];if(w)for(var r=a.touches&&a.touches.length,u;r--;){if(u=a.touches[r],u.identifier==n.el._drag.id||n.el.node.contains(u.target)){b=\n",
       "u.clientX;e=u.clientY;(a.originalEvent?a.originalEvent:a).preventDefault();break}}else a.preventDefault();b+=l;e+=f;k(\"snap.drag.move.\"+n.el.id,n.move_scope||n.el,b-n.el._drag.x,e-n.el._drag.y,b,e,a)}},l=function(b){a.unmousemove(e).unmouseup(l);for(var d=q.length,f;d--;)f=q[d],f.el._drag={},k(\"snap.drag.end.\"+f.el.id,f.end_scope||f.start_scope||f.move_scope||f.el,b);q=[]};for(y=v.length;y--;)(function(d){a[d]=A[d]=function(e,f){a.is(e,\"function\")&&(this.events=this.events||[],this.events.push({name:d,\n",
       "f:e,unbind:b(this.node||document,d,e,f||this)}));return this};a[\"un\"+d]=A[\"un\"+d]=function(a){for(var b=this.events||[],e=b.length;e--;)if(b[e].name==d&&(b[e].f==a||!a)){b[e].unbind();b.splice(e,1);!b.length&&delete this.events;break}return this}})(v[y]);A.hover=function(a,b,d,e){return this.mouseover(a,d).mouseout(b,e||d)};A.unhover=function(a,b){return this.unmouseover(a).unmouseout(b)};var r=[];A.drag=function(b,d,f,h,n,p){function u(r,v,w){(r.originalEvent||r).preventDefault();this._drag.x=v;\n",
       "this._drag.y=w;this._drag.id=r.identifier;!q.length&&a.mousemove(e).mouseup(l);q.push({el:this,move_scope:h,start_scope:n,end_scope:p});d&&k.on(\"snap.drag.start.\"+this.id,d);b&&k.on(\"snap.drag.move.\"+this.id,b);f&&k.on(\"snap.drag.end.\"+this.id,f);k(\"snap.drag.start.\"+this.id,n||h||this,v,w,r)}if(!arguments.length){var v;return this.drag(function(a,b){this.attr({transform:v+(v?\"T\":\"t\")+[a,b]})},function(){v=this.transform().local})}this._drag={};r.push({el:this,start:u});this.mousedown(u);return this};\n",
       "A.undrag=function(){for(var b=r.length;b--;)r[b].el==this&&(this.unmousedown(r[b].start),r.splice(b,1),k.unbind(\"snap.drag.*.\"+this.id));!r.length&&a.unmousemove(e).unmouseup(l);return this}});C.plugin(function(a,v,y,C){y=y.prototype;var A=/^\\s*url\\((.+)\\)/,w=String,z=a._.$;a.filter={};y.filter=function(d){var f=this;\"svg\"!=f.type&&(f=f.paper);d=a.parse(w(d));var k=a._.id(),u=z(\"filter\");z(u,{id:k,filterUnits:\"userSpaceOnUse\"});u.appendChild(d.node);f.defs.appendChild(u);return new v(u)};k.on(\"snap.util.getattr.filter\",\n",
       "function(){k.stop();var d=z(this.node,\"filter\");if(d)return(d=w(d).match(A))&&a.select(d[1])});k.on(\"snap.util.attr.filter\",function(d){if(d instanceof v&&\"filter\"==d.type){k.stop();var f=d.node.id;f||(z(d.node,{id:d.id}),f=d.id);z(this.node,{filter:a.url(f)})}d&&\"none\"!=d||(k.stop(),this.node.removeAttribute(\"filter\"))});a.filter.blur=function(d,f){null==d&&(d=2);return a.format('<feGaussianBlur stdDeviation=\"{def}\"/>',{def:null==f?d:[d,f]})};a.filter.blur.toString=function(){return this()};a.filter.shadow=\n",
       "function(d,f,k,u,p){\"string\"==typeof k&&(p=u=k,k=4);\"string\"!=typeof u&&(p=u,u=\"#000\");null==k&&(k=4);null==p&&(p=1);null==d&&(d=0,f=2);null==f&&(f=d);u=a.color(u||\"#000\");return a.format('<feGaussianBlur in=\"SourceAlpha\" stdDeviation=\"{blur}\"/><feOffset dx=\"{dx}\" dy=\"{dy}\" result=\"offsetblur\"/><feFlood flood-color=\"{color}\"/><feComposite in2=\"offsetblur\" operator=\"in\"/><feComponentTransfer><feFuncA type=\"linear\" slope=\"{opacity}\"/></feComponentTransfer><feMerge><feMergeNode/><feMergeNode in=\"SourceGraphic\"/></feMerge>',\n",
       "{color:u,dx:d,dy:f,blur:k,opacity:p})};a.filter.shadow.toString=function(){return this()};a.filter.grayscale=function(d){null==d&&(d=1);return a.format('<feColorMatrix type=\"matrix\" values=\"{a} {b} {c} 0 0 {d} {e} {f} 0 0 {g} {b} {h} 0 0 0 0 0 1 0\"/>',{a:0.2126+0.7874*(1-d),b:0.7152-0.7152*(1-d),c:0.0722-0.0722*(1-d),d:0.2126-0.2126*(1-d),e:0.7152+0.2848*(1-d),f:0.0722-0.0722*(1-d),g:0.2126-0.2126*(1-d),h:0.0722+0.9278*(1-d)})};a.filter.grayscale.toString=function(){return this()};a.filter.sepia=\n",
       "function(d){null==d&&(d=1);return a.format('<feColorMatrix type=\"matrix\" values=\"{a} {b} {c} 0 0 {d} {e} {f} 0 0 {g} {h} {i} 0 0 0 0 0 1 0\"/>',{a:0.393+0.607*(1-d),b:0.769-0.769*(1-d),c:0.189-0.189*(1-d),d:0.349-0.349*(1-d),e:0.686+0.314*(1-d),f:0.168-0.168*(1-d),g:0.272-0.272*(1-d),h:0.534-0.534*(1-d),i:0.131+0.869*(1-d)})};a.filter.sepia.toString=function(){return this()};a.filter.saturate=function(d){null==d&&(d=1);return a.format('<feColorMatrix type=\"saturate\" values=\"{amount}\"/>',{amount:1-\n",
       "d})};a.filter.saturate.toString=function(){return this()};a.filter.hueRotate=function(d){return a.format('<feColorMatrix type=\"hueRotate\" values=\"{angle}\"/>',{angle:d||0})};a.filter.hueRotate.toString=function(){return this()};a.filter.invert=function(d){null==d&&(d=1);return a.format('<feComponentTransfer><feFuncR type=\"table\" tableValues=\"{amount} {amount2}\"/><feFuncG type=\"table\" tableValues=\"{amount} {amount2}\"/><feFuncB type=\"table\" tableValues=\"{amount} {amount2}\"/></feComponentTransfer>',{amount:d,\n",
       "amount2:1-d})};a.filter.invert.toString=function(){return this()};a.filter.brightness=function(d){null==d&&(d=1);return a.format('<feComponentTransfer><feFuncR type=\"linear\" slope=\"{amount}\"/><feFuncG type=\"linear\" slope=\"{amount}\"/><feFuncB type=\"linear\" slope=\"{amount}\"/></feComponentTransfer>',{amount:d})};a.filter.brightness.toString=function(){return this()};a.filter.contrast=function(d){null==d&&(d=1);return a.format('<feComponentTransfer><feFuncR type=\"linear\" slope=\"{amount}\" intercept=\"{amount2}\"/><feFuncG type=\"linear\" slope=\"{amount}\" intercept=\"{amount2}\"/><feFuncB type=\"linear\" slope=\"{amount}\" intercept=\"{amount2}\"/></feComponentTransfer>',\n",
       "{amount:d,amount2:0.5-d/2})};a.filter.contrast.toString=function(){return this()}});return C});\n",
       "\n",
       "]]> </script>\n",
       "</svg>\n"
      ],
      "text/plain": [
       "Compose.Context(Measures.BoundingBox{Tuple{Measures.Length{:w,Float64},Measures.Length{:h,Float64}},Tuple{Measures.Length{:w,Float64},Measures.Length{:h,Float64}}}((0.0w, 0.0h), (1.0w, 1.0h)), Compose.UnitBox{Float64,Float64,Float64,Float64}(-1.2, -1.2, 2.4, 2.4, 0.0mm, 0.0mm, 0.0mm, 0.0mm), nothing, nothing, nothing, List([Compose.Context(Measures.BoundingBox{Tuple{Measures.Length{:w,Float64},Measures.Length{:h,Float64}},Tuple{Measures.Length{:w,Float64},Measures.Length{:h,Float64}}}((0.0w, 0.0h), (1.0w, 1.0h)), nothing, nothing, nothing, nothing, List([]), List([Compose.Form{Compose.LinePrimitive}(Compose.LinePrimitive[Compose.LinePrimitive{Tuple{Measures.Measure,Measures.Measure}}(Tuple{Measures.Measure,Measures.Measure}[(-0.09453633979000206cx, 0.09453633979000185cy), (-0.8979379273840342cx, 0.8979379273840342cy)]), Compose.LinePrimitive{Tuple{Measures.Measure,Measures.Measure}}(Tuple{Measures.Measure,Measures.Measure}[(0.10958780544192949cx, -0.10958780544192967cy), (0.8979379273840342cx, -0.8979379273840342cy)]), Compose.LinePrimitive{Tuple{Measures.Measure,Measures.Measure}}(Tuple{Measures.Measure,Measures.Measure}[(-0.8979379273840342cx, 0.8979379273840342cy), (-0.09453633979000206cx, 0.09453633979000185cy)])], Symbol(\"\"))]), List([Compose.Property{Compose.LineWidthPrimitive}(Compose.LineWidthPrimitive[Compose.LineWidthPrimitive(1.7320508075688774mm)]), Compose.Property{Compose.FillPrimitive}(Compose.FillPrimitive[Compose.FillPrimitive(RGBA{Float64}(0.0,0.0,0.0,0.0))]), Compose.Property{Compose.StrokePrimitive}(Compose.StrokePrimitive[Compose.StrokePrimitive(RGBA{Float64}(0.8274509803921568,0.8274509803921568,0.8274509803921568,1.0))])]), 0, false, false, false, false, nothing, nothing, 0.0, Symbol(\"\")), Compose.Context(Measures.BoundingBox{Tuple{Measures.Length{:w,Float64},Measures.Length{:h,Float64}},Tuple{Measures.Length{:w,Float64},Measures.Length{:h,Float64}}}((0.0w, 0.0h), (1.0w, 1.0h)), nothing, nothing, nothing, nothing, List([]), List([Compose.Form{Compose.LinePrimitive}(Compose.LinePrimitive[Compose.LinePrimitive{Tuple{Measures.Measure,Measures.Measure}}(Tuple{Measures.Measure,Measures.Measure}[(-0.8073071486803692cx, 0.8556761012099643cy), (-0.8979379273840342cx, 0.8979379273840342cy), (-0.8556761012099643cx, 0.8073071486803692cy)]), Compose.LinePrimitive{Tuple{Measures.Measure,Measures.Measure}}(Tuple{Measures.Measure,Measures.Measure}[(0.8073071486803692cx, -0.8556761012099643cy), (0.8979379273840342cx, -0.8979379273840342cy), (0.8556761012099643cx, -0.8073071486803692cy)]), Compose.LinePrimitive{Tuple{Measures.Measure,Measures.Measure}}(Tuple{Measures.Measure,Measures.Measure}[(-0.18516711849366707cx, 0.1367981659640718cy), (-0.09453633979000206cx, 0.09453633979000185cy), (-0.13679816596407202cx, 0.18516711849366685cy)])], Symbol(\"\"))]), List([Compose.Property{Compose.LineWidthPrimitive}(Compose.LineWidthPrimitive[Compose.LineWidthPrimitive(1.7320508075688774mm)]), Compose.Property{Compose.StrokePrimitive}(Compose.StrokePrimitive[Compose.StrokePrimitive(RGBA{Float64}(0.8274509803921568,0.8274509803921568,0.8274509803921568,1.0))])]), 0, false, false, false, false, nothing, nothing, 0.0, Symbol(\"\")), Compose.Context(Measures.BoundingBox{Tuple{Measures.Length{:w,Float64},Measures.Length{:h,Float64}},Tuple{Measures.Length{:w,Float64},Measures.Length{:h,Float64}}}((0.0w, 0.0h), (1.0w, 1.0h)), nothing, nothing, nothing, nothing, List([]), List([]), List([Compose.Property{Compose.FontSizePrimitive}(Compose.FontSizePrimitive[Compose.FontSizePrimitive(4.0mm)]), Compose.Property{Compose.StrokePrimitive}(Compose.StrokePrimitive[Compose.StrokePrimitive(RGBA{Float64}(0.0,0.0,0.0,0.0))]), Compose.Property{Compose.FillPrimitive}(Compose.FillPrimitive[Compose.FillPrimitive(RGBA{Float64}(0.0,0.0,0.0,1.0))])]), 0, false, false, false, false, nothing, nothing, 0.0, Symbol(\"\")), Compose.Context(Measures.BoundingBox{Tuple{Measures.Length{:w,Float64},Measures.Length{:h,Float64}},Tuple{Measures.Length{:w,Float64},Measures.Length{:h,Float64}}}((0.0w, 0.0h), (1.0w, 1.0h)), nothing, nothing, nothing, nothing, List([]), List([Compose.Form{Compose.CirclePrimitive{Tuple{Measures.Measure,Measures.Measure},Measures.Measure}}(Compose.CirclePrimitive{Tuple{Measures.Measure,Measures.Measure},Measures.Measure}[Compose.CirclePrimitive{Tuple{Measures.Measure,Measures.Measure},Measures.Measure}((0.0075257328259636935cx, -0.007525732825963916cy), 0.05773502691896259w), Compose.CirclePrimitive{Tuple{Measures.Measure,Measures.Measure},Measures.Measure}((-1.0cx, 1.0cy), 0.05773502691896259w), Compose.CirclePrimitive{Tuple{Measures.Measure,Measures.Measure},Measures.Measure}((1.0cx, -1.0cy), 0.05773502691896259w)], Symbol(\"\"))]), List([Compose.Property{Compose.LineWidthPrimitive}(Compose.LineWidthPrimitive[Compose.LineWidthPrimitive(0.0mm)]), Compose.Property{Compose.StrokePrimitive}(Compose.StrokePrimitive[Compose.StrokePrimitive(RGBA{Float64}(0.0,0.0,0.0,0.0))]), Compose.Property{Compose.FillPrimitive}(Compose.FillPrimitive[Compose.FillPrimitive(RGBA{Float64}(0.0,0.0,0.0,0.0))])]), 0, false, false, false, false, nothing, nothing, 0.0, Symbol(\"\")), Compose.Context(Measures.BoundingBox{Tuple{Measures.Length{:w,Float64},Measures.Length{:h,Float64}},Tuple{Measures.Length{:w,Float64},Measures.Length{:h,Float64}}}((0.0w, 0.0h), (1.0w, 1.0h)), nothing, nothing, nothing, nothing, List([]), List([Compose.Form{Compose.TextPrimitive{Tuple{Measures.Length{:cx,Float64},Measures.Length{:cy,Float64}},Compose.Rotation{Tuple{Measures.Length{:w,Float64},Measures.Length{:h,Float64}}},Tuple{Measures.Length{:mm,Float64},Measures.Length{:mm,Float64}}}}(Compose.TextPrimitive{Tuple{Measures.Length{:cx,Float64},Measures.Length{:cy,Float64}},Compose.Rotation{Tuple{Measures.Length{:w,Float64},Measures.Length{:h,Float64}}},Tuple{Measures.Length{:mm,Float64},Measures.Length{:mm,Float64}}}[Compose.TextPrimitive{Tuple{Measures.Length{:cx,Float64},Measures.Length{:cy,Float64}},Compose.Rotation{Tuple{Measures.Length{:w,Float64},Measures.Length{:h,Float64}}},Tuple{Measures.Length{:mm,Float64},Measures.Length{:mm,Float64}}}((0.0075257328259636935cx, -0.007525732825963916cy), \"carotovorum\", Compose.HCenter(), Compose.VCenter(), Compose.Rotation{Tuple{Measures.Length{:w,Float64},Measures.Length{:h,Float64}}}(0.0, (0.5w, 0.5h)), (0.0mm, 0.0mm)), Compose.TextPrimitive{Tuple{Measures.Length{:cx,Float64},Measures.Length{:cy,Float64}},Compose.Rotation{Tuple{Measures.Length{:w,Float64},Measures.Length{:h,Float64}}},Tuple{Measures.Length{:mm,Float64},Measures.Length{:mm,Float64}}}((-1.0cx, 1.0cy), \"brasiliense\", Compose.HCenter(), Compose.VCenter(), Compose.Rotation{Tuple{Measures.Length{:w,Float64},Measures.Length{:h,Float64}}}(0.0, (0.5w, 0.5h)), (0.0mm, 0.0mm)), Compose.TextPrimitive{Tuple{Measures.Length{:cx,Float64},Measures.Length{:cy,Float64}},Compose.Rotation{Tuple{Measures.Length{:w,Float64},Measures.Length{:h,Float64}}},Tuple{Measures.Length{:mm,Float64},Measures.Length{:mm,Float64}}}((1.0cx, -1.0cy), \"odoriferum\", Compose.HCenter(), Compose.VCenter(), Compose.Rotation{Tuple{Measures.Length{:w,Float64},Measures.Length{:h,Float64}}}(0.0, (0.5w, 0.5h)), (0.0mm, 0.0mm))], Symbol(\"\"))]), List([Compose.Property{Compose.FontSizePrimitive}(Compose.FontSizePrimitive[Compose.FontSizePrimitive(4.0mm)]), Compose.Property{Compose.StrokePrimitive}(Compose.StrokePrimitive[Compose.StrokePrimitive(RGBA{Float64}(0.0,0.0,0.0,0.0))]), Compose.Property{Compose.FillPrimitive}(Compose.FillPrimitive[Compose.FillPrimitive(RGBA{Float64}(0.0,0.0,0.0,1.0))])]), 0, false, false, false, false, nothing, nothing, 0.0, Symbol(\"\"))]), List([]), List([]), 0, false, false, false, false, nothing, nothing, 0.0, Symbol(\"\"))"
      ]
     },
     "metadata": {},
     "output_type": "display_data"
    },
    {
     "data": {
      "application/vnd.plotly.v1+json": {
       "data": [
        {
         "colorscale": [
          [
           0,
           "#000004"
          ],
          [
           0.00392156862745098,
           "#010005"
          ],
          [
           0.00784313725490196,
           "#010106"
          ],
          [
           0.011764705882352941,
           "#010108"
          ],
          [
           0.01568627450980392,
           "#020109"
          ],
          [
           0.0196078431372549,
           "#02020B"
          ],
          [
           0.023529411764705882,
           "#02020D"
          ],
          [
           0.027450980392156862,
           "#03030F"
          ],
          [
           0.03137254901960784,
           "#030312"
          ],
          [
           0.03529411764705882,
           "#040414"
          ],
          [
           0.0392156862745098,
           "#050416"
          ],
          [
           0.043137254901960784,
           "#060518"
          ],
          [
           0.047058823529411764,
           "#06051A"
          ],
          [
           0.050980392156862744,
           "#07061C"
          ],
          [
           0.054901960784313725,
           "#08071E"
          ],
          [
           0.058823529411764705,
           "#090720"
          ],
          [
           0.06274509803921569,
           "#0A0822"
          ],
          [
           0.06666666666666667,
           "#0B0924"
          ],
          [
           0.07058823529411765,
           "#0C0926"
          ],
          [
           0.07450980392156863,
           "#0D0A29"
          ],
          [
           0.0784313725490196,
           "#0E0B2B"
          ],
          [
           0.08235294117647059,
           "#100B2D"
          ],
          [
           0.08627450980392157,
           "#110C2F"
          ],
          [
           0.09019607843137255,
           "#120D31"
          ],
          [
           0.09411764705882353,
           "#130D34"
          ],
          [
           0.09803921568627451,
           "#140E36"
          ],
          [
           0.10196078431372549,
           "#150E38"
          ],
          [
           0.10588235294117647,
           "#160F3B"
          ],
          [
           0.10980392156862745,
           "#180F3D"
          ],
          [
           0.11372549019607843,
           "#19103F"
          ],
          [
           0.11764705882352941,
           "#1A1042"
          ],
          [
           0.12156862745098039,
           "#1C1044"
          ],
          [
           0.12549019607843137,
           "#1D1147"
          ],
          [
           0.12941176470588237,
           "#1E1149"
          ],
          [
           0.13333333333333333,
           "#20114B"
          ],
          [
           0.13725490196078433,
           "#21114E"
          ],
          [
           0.1411764705882353,
           "#221150"
          ],
          [
           0.1450980392156863,
           "#241253"
          ],
          [
           0.14901960784313725,
           "#251255"
          ],
          [
           0.15294117647058825,
           "#271258"
          ],
          [
           0.1568627450980392,
           "#29115A"
          ],
          [
           0.1607843137254902,
           "#2A115C"
          ],
          [
           0.16470588235294117,
           "#2C115F"
          ],
          [
           0.16862745098039217,
           "#2D1161"
          ],
          [
           0.17254901960784313,
           "#2F1163"
          ],
          [
           0.17647058823529413,
           "#311165"
          ],
          [
           0.1803921568627451,
           "#331067"
          ],
          [
           0.1843137254901961,
           "#341069"
          ],
          [
           0.18823529411764706,
           "#36106B"
          ],
          [
           0.19215686274509805,
           "#38106C"
          ],
          [
           0.19607843137254902,
           "#390F6E"
          ],
          [
           0.2,
           "#3B0F70"
          ],
          [
           0.20392156862745098,
           "#3D0F71"
          ],
          [
           0.20784313725490197,
           "#3F0F72"
          ],
          [
           0.21176470588235294,
           "#400F74"
          ],
          [
           0.21568627450980393,
           "#420F75"
          ],
          [
           0.2196078431372549,
           "#440F76"
          ],
          [
           0.2235294117647059,
           "#451077"
          ],
          [
           0.22745098039215686,
           "#471078"
          ],
          [
           0.23137254901960785,
           "#491078"
          ],
          [
           0.23529411764705882,
           "#4A1079"
          ],
          [
           0.23921568627450981,
           "#4C117A"
          ],
          [
           0.24313725490196078,
           "#4E117B"
          ],
          [
           0.24705882352941178,
           "#4F127B"
          ],
          [
           0.25098039215686274,
           "#51127C"
          ],
          [
           0.2549019607843137,
           "#52137C"
          ],
          [
           0.25882352941176473,
           "#54137D"
          ],
          [
           0.2627450980392157,
           "#56147D"
          ],
          [
           0.26666666666666666,
           "#57157E"
          ],
          [
           0.27058823529411763,
           "#59157E"
          ],
          [
           0.27450980392156865,
           "#5A167E"
          ],
          [
           0.2784313725490196,
           "#5C167F"
          ],
          [
           0.2823529411764706,
           "#5D177F"
          ],
          [
           0.28627450980392155,
           "#5F187F"
          ],
          [
           0.2901960784313726,
           "#601880"
          ],
          [
           0.29411764705882354,
           "#621980"
          ],
          [
           0.2980392156862745,
           "#641A80"
          ],
          [
           0.30196078431372547,
           "#651A80"
          ],
          [
           0.3058823529411765,
           "#671B80"
          ],
          [
           0.30980392156862746,
           "#681C81"
          ],
          [
           0.3137254901960784,
           "#6A1C81"
          ],
          [
           0.3176470588235294,
           "#6B1D81"
          ],
          [
           0.3215686274509804,
           "#6D1D81"
          ],
          [
           0.3254901960784314,
           "#6E1E81"
          ],
          [
           0.32941176470588235,
           "#701F81"
          ],
          [
           0.3333333333333333,
           "#721F81"
          ],
          [
           0.33725490196078434,
           "#732081"
          ],
          [
           0.3411764705882353,
           "#752181"
          ],
          [
           0.34509803921568627,
           "#762181"
          ],
          [
           0.34901960784313724,
           "#782281"
          ],
          [
           0.35294117647058826,
           "#792282"
          ],
          [
           0.3568627450980392,
           "#7B2382"
          ],
          [
           0.3607843137254902,
           "#7C2382"
          ],
          [
           0.36470588235294116,
           "#7E2482"
          ],
          [
           0.3686274509803922,
           "#802582"
          ],
          [
           0.37254901960784315,
           "#812581"
          ],
          [
           0.3764705882352941,
           "#832681"
          ],
          [
           0.3803921568627451,
           "#842681"
          ],
          [
           0.3843137254901961,
           "#862781"
          ],
          [
           0.38823529411764707,
           "#882781"
          ],
          [
           0.39215686274509803,
           "#892881"
          ],
          [
           0.396078431372549,
           "#8B2981"
          ],
          [
           0.4,
           "#8C2981"
          ],
          [
           0.403921568627451,
           "#8E2A81"
          ],
          [
           0.40784313725490196,
           "#902A81"
          ],
          [
           0.4117647058823529,
           "#912B81"
          ],
          [
           0.41568627450980394,
           "#932B80"
          ],
          [
           0.4196078431372549,
           "#942C80"
          ],
          [
           0.4235294117647059,
           "#962C80"
          ],
          [
           0.42745098039215684,
           "#982D80"
          ],
          [
           0.43137254901960786,
           "#992D80"
          ],
          [
           0.43529411764705883,
           "#9B2E7F"
          ],
          [
           0.4392156862745098,
           "#9C2E7F"
          ],
          [
           0.44313725490196076,
           "#9E2F7F"
          ],
          [
           0.4470588235294118,
           "#A02F7F"
          ],
          [
           0.45098039215686275,
           "#A1307E"
          ],
          [
           0.4549019607843137,
           "#A3307E"
          ],
          [
           0.4588235294117647,
           "#A5317E"
          ],
          [
           0.4627450980392157,
           "#A6317D"
          ],
          [
           0.4666666666666667,
           "#A8327D"
          ],
          [
           0.47058823529411764,
           "#AA337D"
          ],
          [
           0.4745098039215686,
           "#AB337C"
          ],
          [
           0.47843137254901963,
           "#AD347C"
          ],
          [
           0.4823529411764706,
           "#AE347B"
          ],
          [
           0.48627450980392156,
           "#B0357B"
          ],
          [
           0.49019607843137253,
           "#B2357B"
          ],
          [
           0.49411764705882355,
           "#B3367A"
          ],
          [
           0.4980392156862745,
           "#B5367A"
          ],
          [
           0.5019607843137255,
           "#B73779"
          ],
          [
           0.5058823529411764,
           "#B83779"
          ],
          [
           0.5098039215686274,
           "#BA3878"
          ],
          [
           0.5137254901960784,
           "#BC3978"
          ],
          [
           0.5176470588235295,
           "#BD3977"
          ],
          [
           0.5215686274509804,
           "#BF3A77"
          ],
          [
           0.5254901960784314,
           "#C03A76"
          ],
          [
           0.5294117647058824,
           "#C23B75"
          ],
          [
           0.5333333333333333,
           "#C43C75"
          ],
          [
           0.5372549019607843,
           "#C53C74"
          ],
          [
           0.5411764705882353,
           "#C73D73"
          ],
          [
           0.5450980392156862,
           "#C83E73"
          ],
          [
           0.5490196078431373,
           "#CA3E72"
          ],
          [
           0.5529411764705883,
           "#CC3F71"
          ],
          [
           0.5568627450980392,
           "#CD4071"
          ],
          [
           0.5607843137254902,
           "#CF4070"
          ],
          [
           0.5647058823529412,
           "#D0416F"
          ],
          [
           0.5686274509803921,
           "#D2426F"
          ],
          [
           0.5725490196078431,
           "#D3436E"
          ],
          [
           0.5764705882352941,
           "#D5446D"
          ],
          [
           0.5803921568627451,
           "#D6456C"
          ],
          [
           0.5843137254901961,
           "#D8456C"
          ],
          [
           0.5882352941176471,
           "#D9466B"
          ],
          [
           0.592156862745098,
           "#DB476A"
          ],
          [
           0.596078431372549,
           "#DC4869"
          ],
          [
           0.6,
           "#DE4968"
          ],
          [
           0.6039215686274509,
           "#DF4A68"
          ],
          [
           0.6078431372549019,
           "#E04C67"
          ],
          [
           0.611764705882353,
           "#E24D66"
          ],
          [
           0.615686274509804,
           "#E34E65"
          ],
          [
           0.6196078431372549,
           "#E44F64"
          ],
          [
           0.6235294117647059,
           "#E55064"
          ],
          [
           0.6274509803921569,
           "#E75263"
          ],
          [
           0.6313725490196078,
           "#E85362"
          ],
          [
           0.6352941176470588,
           "#E95462"
          ],
          [
           0.6392156862745098,
           "#EA5661"
          ],
          [
           0.6431372549019608,
           "#EB5760"
          ],
          [
           0.6470588235294118,
           "#EC5860"
          ],
          [
           0.6509803921568628,
           "#ED5A5F"
          ],
          [
           0.6549019607843137,
           "#EE5B5E"
          ],
          [
           0.6588235294117647,
           "#EF5D5E"
          ],
          [
           0.6627450980392157,
           "#F05F5E"
          ],
          [
           0.6666666666666666,
           "#F1605D"
          ],
          [
           0.6705882352941176,
           "#F2625D"
          ],
          [
           0.6745098039215687,
           "#F2645C"
          ],
          [
           0.6784313725490196,
           "#F3655C"
          ],
          [
           0.6823529411764706,
           "#F4675C"
          ],
          [
           0.6862745098039216,
           "#F4695C"
          ],
          [
           0.6901960784313725,
           "#F56B5C"
          ],
          [
           0.6941176470588235,
           "#F66C5C"
          ],
          [
           0.6980392156862745,
           "#F66E5C"
          ],
          [
           0.7019607843137254,
           "#F7705C"
          ],
          [
           0.7058823529411765,
           "#F7725C"
          ],
          [
           0.7098039215686275,
           "#F8745C"
          ],
          [
           0.7137254901960784,
           "#F8765C"
          ],
          [
           0.7176470588235294,
           "#F9785D"
          ],
          [
           0.7215686274509804,
           "#F9795D"
          ],
          [
           0.7254901960784313,
           "#F97B5D"
          ],
          [
           0.7294117647058823,
           "#FA7D5E"
          ],
          [
           0.7333333333333333,
           "#FA7F5E"
          ],
          [
           0.7372549019607844,
           "#FA815F"
          ],
          [
           0.7411764705882353,
           "#FB835F"
          ],
          [
           0.7450980392156863,
           "#FB8560"
          ],
          [
           0.7490196078431373,
           "#FB8761"
          ],
          [
           0.7529411764705882,
           "#FC8961"
          ],
          [
           0.7568627450980392,
           "#FC8A62"
          ],
          [
           0.7607843137254902,
           "#FC8C63"
          ],
          [
           0.7647058823529411,
           "#FC8E64"
          ],
          [
           0.7686274509803922,
           "#FC9065"
          ],
          [
           0.7725490196078432,
           "#FD9266"
          ],
          [
           0.7764705882352941,
           "#FD9467"
          ],
          [
           0.7803921568627451,
           "#FD9668"
          ],
          [
           0.7843137254901961,
           "#FD9869"
          ],
          [
           0.788235294117647,
           "#FD9A6A"
          ],
          [
           0.792156862745098,
           "#FD9B6B"
          ],
          [
           0.796078431372549,
           "#FE9D6C"
          ],
          [
           0.8,
           "#FE9F6D"
          ],
          [
           0.803921568627451,
           "#FEA16E"
          ],
          [
           0.807843137254902,
           "#FEA36F"
          ],
          [
           0.8117647058823529,
           "#FEA571"
          ],
          [
           0.8156862745098039,
           "#FEA772"
          ],
          [
           0.8196078431372549,
           "#FEA973"
          ],
          [
           0.8235294117647058,
           "#FEAA74"
          ],
          [
           0.8274509803921568,
           "#FEAC76"
          ],
          [
           0.8313725490196079,
           "#FEAE77"
          ],
          [
           0.8352941176470589,
           "#FEB078"
          ],
          [
           0.8392156862745098,
           "#FEB27A"
          ],
          [
           0.8431372549019608,
           "#FEB47B"
          ],
          [
           0.8470588235294118,
           "#FEB67C"
          ],
          [
           0.8509803921568627,
           "#FEB77E"
          ],
          [
           0.8549019607843137,
           "#FEB97F"
          ],
          [
           0.8588235294117647,
           "#FEBB81"
          ],
          [
           0.8627450980392157,
           "#FEBD82"
          ],
          [
           0.8666666666666667,
           "#FEBF84"
          ],
          [
           0.8705882352941177,
           "#FEC185"
          ],
          [
           0.8745098039215686,
           "#FEC287"
          ],
          [
           0.8784313725490196,
           "#FEC488"
          ],
          [
           0.8823529411764706,
           "#FEC68A"
          ],
          [
           0.8862745098039215,
           "#FEC88C"
          ],
          [
           0.8901960784313725,
           "#FECA8D"
          ],
          [
           0.8941176470588236,
           "#FECC8F"
          ],
          [
           0.8980392156862745,
           "#FECD90"
          ],
          [
           0.9019607843137255,
           "#FECF92"
          ],
          [
           0.9058823529411765,
           "#FED194"
          ],
          [
           0.9098039215686274,
           "#FED395"
          ],
          [
           0.9137254901960784,
           "#FED597"
          ],
          [
           0.9176470588235294,
           "#FED799"
          ],
          [
           0.9215686274509803,
           "#FED89A"
          ],
          [
           0.9254901960784314,
           "#FDDA9C"
          ],
          [
           0.9294117647058824,
           "#FDDC9E"
          ],
          [
           0.9333333333333333,
           "#FDDEA0"
          ],
          [
           0.9372549019607843,
           "#FDE0A1"
          ],
          [
           0.9411764705882353,
           "#FDE2A3"
          ],
          [
           0.9450980392156862,
           "#FDE3A5"
          ],
          [
           0.9490196078431372,
           "#FDE5A7"
          ],
          [
           0.9529411764705882,
           "#FDE7A9"
          ],
          [
           0.9568627450980393,
           "#FDE9AA"
          ],
          [
           0.9607843137254902,
           "#FDEBAC"
          ],
          [
           0.9647058823529412,
           "#FCECAE"
          ],
          [
           0.9686274509803922,
           "#FCEEB0"
          ],
          [
           0.9725490196078431,
           "#FCF0B2"
          ],
          [
           0.9764705882352941,
           "#FCF2B4"
          ],
          [
           0.9803921568627451,
           "#FCF4B6"
          ],
          [
           0.984313725490196,
           "#FCF6B8"
          ],
          [
           0.9882352941176471,
           "#FCF7B9"
          ],
          [
           0.9921568627450981,
           "#FCF9BB"
          ],
          [
           0.996078431372549,
           "#FCFBBD"
          ],
          [
           1,
           "#FCFDBF"
          ]
         ],
         "type": "heatmap",
         "x": [
          "carotovorum",
          "brasiliense",
          "odoriferum"
         ],
         "y": [
          "carotovorum",
          "brasiliense",
          "odoriferum"
         ],
         "z": [
          [
           0.7538255,
           0.47074714,
           0.6731411
          ],
          [
           0.47074714,
           0.680234,
           0.79324687
          ],
          [
           0.6731411,
           0.79324687,
           0.32892278
          ]
         ]
        },
        {
         "hoverinfo": "skip",
         "marker": {
          "color": "red"
         },
         "mode": "markers",
         "type": "scatter",
         "x": [
          "brasiliense",
          "odoriferum",
          "carotovorum"
         ],
         "y": [
          "carotovorum",
          "carotovorum",
          "brasiliense"
         ]
        }
       ],
       "frames": [],
       "layout": {
        "height": 700,
        "margin": {
         "b": 150,
         "l": 150,
         "r": 50,
         "t": 60
        },
        "width": 800,
        "xaxis": {
         "autorange": true,
         "domain": [
          0,
          1
         ],
         "range": [
          -0.6897959183673468,
          2.6897959183673468
         ],
         "scaleanchor": "y",
         "tickangle": -90,
         "type": "category"
        },
        "yaxis": {
         "autorange": true,
         "domain": [
          0,
          1
         ],
         "range": [
          -0.5,
          2.5
         ],
         "type": "category"
        }
       }
      },
      "application/vnd.webio.node+json": {
       "children": [
        {
         "children": [],
         "instanceArgs": {
          "namespace": "html",
          "tag": "div"
         },
         "nodeType": "DOM",
         "props": {
          "id": "plot-4a12e743-57af-4f46-8ecb-a5ec4f7ca931"
         },
         "type": "node"
        }
       ],
       "instanceArgs": {
        "handlers": {
         "__get_gd_contents": [
          "(function (prop){prop==\"data\" ? (WebIO.setval({\"name\":\"__gd_contents\",\"scope\":\"2090501756246785383\",\"id\":\"3916558741244697921\",\"type\":\"observable\"},this.plotElem.data)) : undefined; return prop==\"layout\" ? (WebIO.setval({\"name\":\"__gd_contents\",\"scope\":\"2090501756246785383\",\"id\":\"3916558741244697921\",\"type\":\"observable\"},this.plotElem.layout)) : undefined})"
         ],
         "_commands": [
          "(function (args){var fn=args.shift(); var elem=this.plotElem; var Plotly=this.Plotly; args.unshift(elem); return Plotly[fn].apply(this,args)})"
         ],
         "_downloadImage": [
          "(function (options){return this.Plotly.downloadImage(this.plotElem,options)})"
         ],
         "_toImage": [
          "(function (options){return this.Plotly.toImage(this.plotElem,options).then((function (data){return WebIO.setval({\"name\":\"image\",\"scope\":\"2090501756246785383\",\"id\":\"433408434434236306\",\"type\":\"observable\"},data)}))})"
         ]
        },
        "id": "2090501756246785383",
        "imports": {
         "data": [
          {
           "name": "Plotly",
           "type": "js",
           "url": "/assetserver/e6903599031aaef8675931dfcd7df98a1aeffbfc-plotly-latest.min.js"
          },
          {
           "name": null,
           "type": "js",
           "url": "/assetserver/74a5dea81f21b0b802ef1ee92f1c8a504eac1a0c-plotly_webio.bundle.js"
          }
         ],
         "type": "async_block"
        },
        "mount_callbacks": [
         "function () {\n    var handler = ((function (Plotly,PlotlyWebIO){PlotlyWebIO.init(WebIO); var gd=this.dom.querySelector(\"#plot-4a12e743-57af-4f46-8ecb-a5ec4f7ca931\"); this.plotElem=gd; this.Plotly=Plotly; (window.Blink!==undefined) ? (gd.style.width=\"100%\", gd.style.height=\"100vh\", gd.style.marginLeft=\"0%\", gd.style.marginTop=\"0vh\") : undefined; window.onresize=(function (){return Plotly.Plots.resize(gd)}); Plotly.newPlot(gd,[{\"y\":[\"carotovorum\",\"brasiliense\",\"odoriferum\"],\"type\":\"heatmap\",\"colorscale\":[[0.0,\"#000004\"],[0.00392156862745098,\"#010005\"],[0.00784313725490196,\"#010106\"],[0.011764705882352941,\"#010108\"],[0.01568627450980392,\"#020109\"],[0.0196078431372549,\"#02020B\"],[0.023529411764705882,\"#02020D\"],[0.027450980392156862,\"#03030F\"],[0.03137254901960784,\"#030312\"],[0.03529411764705882,\"#040414\"],[0.0392156862745098,\"#050416\"],[0.043137254901960784,\"#060518\"],[0.047058823529411764,\"#06051A\"],[0.050980392156862744,\"#07061C\"],[0.054901960784313725,\"#08071E\"],[0.058823529411764705,\"#090720\"],[0.06274509803921569,\"#0A0822\"],[0.06666666666666667,\"#0B0924\"],[0.07058823529411765,\"#0C0926\"],[0.07450980392156863,\"#0D0A29\"],[0.0784313725490196,\"#0E0B2B\"],[0.08235294117647059,\"#100B2D\"],[0.08627450980392157,\"#110C2F\"],[0.09019607843137255,\"#120D31\"],[0.09411764705882353,\"#130D34\"],[0.09803921568627451,\"#140E36\"],[0.10196078431372549,\"#150E38\"],[0.10588235294117647,\"#160F3B\"],[0.10980392156862745,\"#180F3D\"],[0.11372549019607843,\"#19103F\"],[0.11764705882352941,\"#1A1042\"],[0.12156862745098039,\"#1C1044\"],[0.12549019607843137,\"#1D1147\"],[0.12941176470588237,\"#1E1149\"],[0.13333333333333333,\"#20114B\"],[0.13725490196078433,\"#21114E\"],[0.1411764705882353,\"#221150\"],[0.1450980392156863,\"#241253\"],[0.14901960784313725,\"#251255\"],[0.15294117647058825,\"#271258\"],[0.1568627450980392,\"#29115A\"],[0.1607843137254902,\"#2A115C\"],[0.16470588235294117,\"#2C115F\"],[0.16862745098039217,\"#2D1161\"],[0.17254901960784313,\"#2F1163\"],[0.17647058823529413,\"#311165\"],[0.1803921568627451,\"#331067\"],[0.1843137254901961,\"#341069\"],[0.18823529411764706,\"#36106B\"],[0.19215686274509805,\"#38106C\"],[0.19607843137254902,\"#390F6E\"],[0.2,\"#3B0F70\"],[0.20392156862745098,\"#3D0F71\"],[0.20784313725490197,\"#3F0F72\"],[0.21176470588235294,\"#400F74\"],[0.21568627450980393,\"#420F75\"],[0.2196078431372549,\"#440F76\"],[0.2235294117647059,\"#451077\"],[0.22745098039215686,\"#471078\"],[0.23137254901960785,\"#491078\"],[0.23529411764705882,\"#4A1079\"],[0.23921568627450981,\"#4C117A\"],[0.24313725490196078,\"#4E117B\"],[0.24705882352941178,\"#4F127B\"],[0.25098039215686274,\"#51127C\"],[0.2549019607843137,\"#52137C\"],[0.25882352941176473,\"#54137D\"],[0.2627450980392157,\"#56147D\"],[0.26666666666666666,\"#57157E\"],[0.27058823529411763,\"#59157E\"],[0.27450980392156865,\"#5A167E\"],[0.2784313725490196,\"#5C167F\"],[0.2823529411764706,\"#5D177F\"],[0.28627450980392155,\"#5F187F\"],[0.2901960784313726,\"#601880\"],[0.29411764705882354,\"#621980\"],[0.2980392156862745,\"#641A80\"],[0.30196078431372547,\"#651A80\"],[0.3058823529411765,\"#671B80\"],[0.30980392156862746,\"#681C81\"],[0.3137254901960784,\"#6A1C81\"],[0.3176470588235294,\"#6B1D81\"],[0.3215686274509804,\"#6D1D81\"],[0.3254901960784314,\"#6E1E81\"],[0.32941176470588235,\"#701F81\"],[0.3333333333333333,\"#721F81\"],[0.33725490196078434,\"#732081\"],[0.3411764705882353,\"#752181\"],[0.34509803921568627,\"#762181\"],[0.34901960784313724,\"#782281\"],[0.35294117647058826,\"#792282\"],[0.3568627450980392,\"#7B2382\"],[0.3607843137254902,\"#7C2382\"],[0.36470588235294116,\"#7E2482\"],[0.3686274509803922,\"#802582\"],[0.37254901960784315,\"#812581\"],[0.3764705882352941,\"#832681\"],[0.3803921568627451,\"#842681\"],[0.3843137254901961,\"#862781\"],[0.38823529411764707,\"#882781\"],[0.39215686274509803,\"#892881\"],[0.396078431372549,\"#8B2981\"],[0.4,\"#8C2981\"],[0.403921568627451,\"#8E2A81\"],[0.40784313725490196,\"#902A81\"],[0.4117647058823529,\"#912B81\"],[0.41568627450980394,\"#932B80\"],[0.4196078431372549,\"#942C80\"],[0.4235294117647059,\"#962C80\"],[0.42745098039215684,\"#982D80\"],[0.43137254901960786,\"#992D80\"],[0.43529411764705883,\"#9B2E7F\"],[0.4392156862745098,\"#9C2E7F\"],[0.44313725490196076,\"#9E2F7F\"],[0.4470588235294118,\"#A02F7F\"],[0.45098039215686275,\"#A1307E\"],[0.4549019607843137,\"#A3307E\"],[0.4588235294117647,\"#A5317E\"],[0.4627450980392157,\"#A6317D\"],[0.4666666666666667,\"#A8327D\"],[0.47058823529411764,\"#AA337D\"],[0.4745098039215686,\"#AB337C\"],[0.47843137254901963,\"#AD347C\"],[0.4823529411764706,\"#AE347B\"],[0.48627450980392156,\"#B0357B\"],[0.49019607843137253,\"#B2357B\"],[0.49411764705882355,\"#B3367A\"],[0.4980392156862745,\"#B5367A\"],[0.5019607843137255,\"#B73779\"],[0.5058823529411764,\"#B83779\"],[0.5098039215686274,\"#BA3878\"],[0.5137254901960784,\"#BC3978\"],[0.5176470588235295,\"#BD3977\"],[0.5215686274509804,\"#BF3A77\"],[0.5254901960784314,\"#C03A76\"],[0.5294117647058824,\"#C23B75\"],[0.5333333333333333,\"#C43C75\"],[0.5372549019607843,\"#C53C74\"],[0.5411764705882353,\"#C73D73\"],[0.5450980392156862,\"#C83E73\"],[0.5490196078431373,\"#CA3E72\"],[0.5529411764705883,\"#CC3F71\"],[0.5568627450980392,\"#CD4071\"],[0.5607843137254902,\"#CF4070\"],[0.5647058823529412,\"#D0416F\"],[0.5686274509803921,\"#D2426F\"],[0.5725490196078431,\"#D3436E\"],[0.5764705882352941,\"#D5446D\"],[0.5803921568627451,\"#D6456C\"],[0.5843137254901961,\"#D8456C\"],[0.5882352941176471,\"#D9466B\"],[0.592156862745098,\"#DB476A\"],[0.596078431372549,\"#DC4869\"],[0.6,\"#DE4968\"],[0.6039215686274509,\"#DF4A68\"],[0.6078431372549019,\"#E04C67\"],[0.611764705882353,\"#E24D66\"],[0.615686274509804,\"#E34E65\"],[0.6196078431372549,\"#E44F64\"],[0.6235294117647059,\"#E55064\"],[0.6274509803921569,\"#E75263\"],[0.6313725490196078,\"#E85362\"],[0.6352941176470588,\"#E95462\"],[0.6392156862745098,\"#EA5661\"],[0.6431372549019608,\"#EB5760\"],[0.6470588235294118,\"#EC5860\"],[0.6509803921568628,\"#ED5A5F\"],[0.6549019607843137,\"#EE5B5E\"],[0.6588235294117647,\"#EF5D5E\"],[0.6627450980392157,\"#F05F5E\"],[0.6666666666666666,\"#F1605D\"],[0.6705882352941176,\"#F2625D\"],[0.6745098039215687,\"#F2645C\"],[0.6784313725490196,\"#F3655C\"],[0.6823529411764706,\"#F4675C\"],[0.6862745098039216,\"#F4695C\"],[0.6901960784313725,\"#F56B5C\"],[0.6941176470588235,\"#F66C5C\"],[0.6980392156862745,\"#F66E5C\"],[0.7019607843137254,\"#F7705C\"],[0.7058823529411765,\"#F7725C\"],[0.7098039215686275,\"#F8745C\"],[0.7137254901960784,\"#F8765C\"],[0.7176470588235294,\"#F9785D\"],[0.7215686274509804,\"#F9795D\"],[0.7254901960784313,\"#F97B5D\"],[0.7294117647058823,\"#FA7D5E\"],[0.7333333333333333,\"#FA7F5E\"],[0.7372549019607844,\"#FA815F\"],[0.7411764705882353,\"#FB835F\"],[0.7450980392156863,\"#FB8560\"],[0.7490196078431373,\"#FB8761\"],[0.7529411764705882,\"#FC8961\"],[0.7568627450980392,\"#FC8A62\"],[0.7607843137254902,\"#FC8C63\"],[0.7647058823529411,\"#FC8E64\"],[0.7686274509803922,\"#FC9065\"],[0.7725490196078432,\"#FD9266\"],[0.7764705882352941,\"#FD9467\"],[0.7803921568627451,\"#FD9668\"],[0.7843137254901961,\"#FD9869\"],[0.788235294117647,\"#FD9A6A\"],[0.792156862745098,\"#FD9B6B\"],[0.796078431372549,\"#FE9D6C\"],[0.8,\"#FE9F6D\"],[0.803921568627451,\"#FEA16E\"],[0.807843137254902,\"#FEA36F\"],[0.8117647058823529,\"#FEA571\"],[0.8156862745098039,\"#FEA772\"],[0.8196078431372549,\"#FEA973\"],[0.8235294117647058,\"#FEAA74\"],[0.8274509803921568,\"#FEAC76\"],[0.8313725490196079,\"#FEAE77\"],[0.8352941176470589,\"#FEB078\"],[0.8392156862745098,\"#FEB27A\"],[0.8431372549019608,\"#FEB47B\"],[0.8470588235294118,\"#FEB67C\"],[0.8509803921568627,\"#FEB77E\"],[0.8549019607843137,\"#FEB97F\"],[0.8588235294117647,\"#FEBB81\"],[0.8627450980392157,\"#FEBD82\"],[0.8666666666666667,\"#FEBF84\"],[0.8705882352941177,\"#FEC185\"],[0.8745098039215686,\"#FEC287\"],[0.8784313725490196,\"#FEC488\"],[0.8823529411764706,\"#FEC68A\"],[0.8862745098039215,\"#FEC88C\"],[0.8901960784313725,\"#FECA8D\"],[0.8941176470588236,\"#FECC8F\"],[0.8980392156862745,\"#FECD90\"],[0.9019607843137255,\"#FECF92\"],[0.9058823529411765,\"#FED194\"],[0.9098039215686274,\"#FED395\"],[0.9137254901960784,\"#FED597\"],[0.9176470588235294,\"#FED799\"],[0.9215686274509803,\"#FED89A\"],[0.9254901960784314,\"#FDDA9C\"],[0.9294117647058824,\"#FDDC9E\"],[0.9333333333333333,\"#FDDEA0\"],[0.9372549019607843,\"#FDE0A1\"],[0.9411764705882353,\"#FDE2A3\"],[0.9450980392156862,\"#FDE3A5\"],[0.9490196078431372,\"#FDE5A7\"],[0.9529411764705882,\"#FDE7A9\"],[0.9568627450980393,\"#FDE9AA\"],[0.9607843137254902,\"#FDEBAC\"],[0.9647058823529412,\"#FCECAE\"],[0.9686274509803922,\"#FCEEB0\"],[0.9725490196078431,\"#FCF0B2\"],[0.9764705882352941,\"#FCF2B4\"],[0.9803921568627451,\"#FCF4B6\"],[0.984313725490196,\"#FCF6B8\"],[0.9882352941176471,\"#FCF7B9\"],[0.9921568627450981,\"#FCF9BB\"],[0.996078431372549,\"#FCFBBD\"],[1.0,\"#FCFDBF\"]],\"z\":[[0.7538255,0.47074714,0.6731411],[0.47074714,0.680234,0.79324687],[0.6731411,0.79324687,0.32892278]],\"x\":[\"carotovorum\",\"brasiliense\",\"odoriferum\"]},{\"marker\":{\"color\":\"red\"},\"mode\":\"markers\",\"y\":[\"carotovorum\",\"carotovorum\",\"brasiliense\"],\"type\":\"scatter\",\"hoverinfo\":\"skip\",\"x\":[\"brasiliense\",\"odoriferum\",\"carotovorum\"]}],{\"xaxis\":{\"tickangle\":-90,\"scaleanchor\":\"y\"},\"height\":700,\"margin\":{\"l\":150,\"b\":150,\"r\":50,\"t\":60},\"width\":800},{}); gd.on(\"plotly_hover\",(function (data){var filtered_data=WebIO.PlotlyCommands.filterEventData(gd,data,\"hover\"); return !(filtered_data.isnil) ? (WebIO.setval({\"name\":\"hover\",\"scope\":\"2090501756246785383\",\"id\":\"5565489337980520289\",\"type\":\"observable\"},filtered_data.out)) : undefined})); gd.on(\"plotly_unhover\",(function (){return WebIO.setval({\"name\":\"hover\",\"scope\":\"2090501756246785383\",\"id\":\"5565489337980520289\",\"type\":\"observable\"},{})})); gd.on(\"plotly_selected\",(function (data){var filtered_data=WebIO.PlotlyCommands.filterEventData(gd,data,\"selected\"); return !(filtered_data.isnil) ? (WebIO.setval({\"name\":\"selected\",\"scope\":\"2090501756246785383\",\"id\":\"451218216415032732\",\"type\":\"observable\"},filtered_data.out)) : undefined})); gd.on(\"plotly_deselect\",(function (){return WebIO.setval({\"name\":\"selected\",\"scope\":\"2090501756246785383\",\"id\":\"451218216415032732\",\"type\":\"observable\"},{})})); gd.on(\"plotly_relayout\",(function (data){var filtered_data=WebIO.PlotlyCommands.filterEventData(gd,data,\"relayout\"); return !(filtered_data.isnil) ? (WebIO.setval({\"name\":\"relayout\",\"scope\":\"2090501756246785383\",\"id\":\"11918986313181056872\",\"type\":\"observable\"},filtered_data.out)) : undefined})); return gd.on(\"plotly_click\",(function (data){var filtered_data=WebIO.PlotlyCommands.filterEventData(gd,data,\"click\"); return !(filtered_data.isnil) ? (WebIO.setval({\"name\":\"click\",\"scope\":\"2090501756246785383\",\"id\":\"6027975355114171083\",\"type\":\"observable\"},filtered_data.out)) : undefined}))}));\n    (WebIO.importBlock({\"data\":[{\"name\":\"Plotly\",\"type\":\"js\",\"url\":\"/assetserver/e6903599031aaef8675931dfcd7df98a1aeffbfc-plotly-latest.min.js\"},{\"name\":null,\"type\":\"js\",\"url\":\"/assetserver/74a5dea81f21b0b802ef1ee92f1c8a504eac1a0c-plotly_webio.bundle.js\"}],\"type\":\"async_block\"})).then((imports) => handler.apply(this, imports));\n}\n"
        ],
        "observables": {
         "__gd_contents": {
          "id": "3916558741244697921",
          "sync": false,
          "value": {}
         },
         "__get_gd_contents": {
          "id": "8315000219590426601",
          "sync": false,
          "value": ""
         },
         "_commands": {
          "id": "13912791374367480491",
          "sync": false,
          "value": []
         },
         "_downloadImage": {
          "id": "10750553557263684551",
          "sync": false,
          "value": {}
         },
         "_toImage": {
          "id": "162543635284576039",
          "sync": false,
          "value": {}
         },
         "click": {
          "id": "6027975355114171083",
          "sync": false,
          "value": {}
         },
         "hover": {
          "id": "5565489337980520289",
          "sync": false,
          "value": {}
         },
         "image": {
          "id": "433408434434236306",
          "sync": true,
          "value": ""
         },
         "relayout": {
          "id": "11918986313181056872",
          "sync": false,
          "value": {}
         },
         "selected": {
          "id": "451218216415032732",
          "sync": false,
          "value": {}
         }
        },
        "systemjs_options": null
       },
       "nodeType": "Scope",
       "props": {},
       "type": "node"
      },
      "text/html": [
       "<div\n",
       "    class=\"webio-mountpoint\"\n",
       "    data-webio-mountpoint=\"10289500208022464817\"\n",
       ">\n",
       "    <script>\n",
       "    if (window.require && require.defined && require.defined(\"nbextensions/webio-jupyter-notebook\")) {\n",
       "        console.log(\"Jupyter WebIO extension detected, not mounting.\");\n",
       "    } else if (window.WebIO) {\n",
       "        WebIO.mount(\n",
       "            document.querySelector('[data-webio-mountpoint=\"10289500208022464817\"]'),\n",
       "            {\"props\":{},\"nodeType\":\"Scope\",\"type\":\"node\",\"instanceArgs\":{\"imports\":{\"data\":[{\"name\":\"Plotly\",\"type\":\"js\",\"url\":\"\\/assetserver\\/e6903599031aaef8675931dfcd7df98a1aeffbfc-plotly-latest.min.js\"},{\"name\":null,\"type\":\"js\",\"url\":\"\\/assetserver\\/74a5dea81f21b0b802ef1ee92f1c8a504eac1a0c-plotly_webio.bundle.js\"}],\"type\":\"async_block\"},\"id\":\"2090501756246785383\",\"handlers\":{\"_toImage\":[\"(function (options){return this.Plotly.toImage(this.plotElem,options).then((function (data){return WebIO.setval({\\\"name\\\":\\\"image\\\",\\\"scope\\\":\\\"2090501756246785383\\\",\\\"id\\\":\\\"433408434434236306\\\",\\\"type\\\":\\\"observable\\\"},data)}))})\"],\"__get_gd_contents\":[\"(function (prop){prop==\\\"data\\\" ? (WebIO.setval({\\\"name\\\":\\\"__gd_contents\\\",\\\"scope\\\":\\\"2090501756246785383\\\",\\\"id\\\":\\\"3916558741244697921\\\",\\\"type\\\":\\\"observable\\\"},this.plotElem.data)) : undefined; return prop==\\\"layout\\\" ? (WebIO.setval({\\\"name\\\":\\\"__gd_contents\\\",\\\"scope\\\":\\\"2090501756246785383\\\",\\\"id\\\":\\\"3916558741244697921\\\",\\\"type\\\":\\\"observable\\\"},this.plotElem.layout)) : undefined})\"],\"_downloadImage\":[\"(function (options){return this.Plotly.downloadImage(this.plotElem,options)})\"],\"_commands\":[\"(function (args){var fn=args.shift(); var elem=this.plotElem; var Plotly=this.Plotly; args.unshift(elem); return Plotly[fn].apply(this,args)})\"]},\"systemjs_options\":null,\"mount_callbacks\":[\"function () {\\n    var handler = ((function (Plotly,PlotlyWebIO){PlotlyWebIO.init(WebIO); var gd=this.dom.querySelector(\\\"#plot-4a12e743-57af-4f46-8ecb-a5ec4f7ca931\\\"); this.plotElem=gd; this.Plotly=Plotly; (window.Blink!==undefined) ? (gd.style.width=\\\"100%\\\", gd.style.height=\\\"100vh\\\", gd.style.marginLeft=\\\"0%\\\", gd.style.marginTop=\\\"0vh\\\") : undefined; window.onresize=(function (){return Plotly.Plots.resize(gd)}); Plotly.newPlot(gd,[{\\\"y\\\":[\\\"carotovorum\\\",\\\"brasiliense\\\",\\\"odoriferum\\\"],\\\"type\\\":\\\"heatmap\\\",\\\"colorscale\\\":[[0.0,\\\"#000004\\\"],[0.00392156862745098,\\\"#010005\\\"],[0.00784313725490196,\\\"#010106\\\"],[0.011764705882352941,\\\"#010108\\\"],[0.01568627450980392,\\\"#020109\\\"],[0.0196078431372549,\\\"#02020B\\\"],[0.023529411764705882,\\\"#02020D\\\"],[0.027450980392156862,\\\"#03030F\\\"],[0.03137254901960784,\\\"#030312\\\"],[0.03529411764705882,\\\"#040414\\\"],[0.0392156862745098,\\\"#050416\\\"],[0.043137254901960784,\\\"#060518\\\"],[0.047058823529411764,\\\"#06051A\\\"],[0.050980392156862744,\\\"#07061C\\\"],[0.054901960784313725,\\\"#08071E\\\"],[0.058823529411764705,\\\"#090720\\\"],[0.06274509803921569,\\\"#0A0822\\\"],[0.06666666666666667,\\\"#0B0924\\\"],[0.07058823529411765,\\\"#0C0926\\\"],[0.07450980392156863,\\\"#0D0A29\\\"],[0.0784313725490196,\\\"#0E0B2B\\\"],[0.08235294117647059,\\\"#100B2D\\\"],[0.08627450980392157,\\\"#110C2F\\\"],[0.09019607843137255,\\\"#120D31\\\"],[0.09411764705882353,\\\"#130D34\\\"],[0.09803921568627451,\\\"#140E36\\\"],[0.10196078431372549,\\\"#150E38\\\"],[0.10588235294117647,\\\"#160F3B\\\"],[0.10980392156862745,\\\"#180F3D\\\"],[0.11372549019607843,\\\"#19103F\\\"],[0.11764705882352941,\\\"#1A1042\\\"],[0.12156862745098039,\\\"#1C1044\\\"],[0.12549019607843137,\\\"#1D1147\\\"],[0.12941176470588237,\\\"#1E1149\\\"],[0.13333333333333333,\\\"#20114B\\\"],[0.13725490196078433,\\\"#21114E\\\"],[0.1411764705882353,\\\"#221150\\\"],[0.1450980392156863,\\\"#241253\\\"],[0.14901960784313725,\\\"#251255\\\"],[0.15294117647058825,\\\"#271258\\\"],[0.1568627450980392,\\\"#29115A\\\"],[0.1607843137254902,\\\"#2A115C\\\"],[0.16470588235294117,\\\"#2C115F\\\"],[0.16862745098039217,\\\"#2D1161\\\"],[0.17254901960784313,\\\"#2F1163\\\"],[0.17647058823529413,\\\"#311165\\\"],[0.1803921568627451,\\\"#331067\\\"],[0.1843137254901961,\\\"#341069\\\"],[0.18823529411764706,\\\"#36106B\\\"],[0.19215686274509805,\\\"#38106C\\\"],[0.19607843137254902,\\\"#390F6E\\\"],[0.2,\\\"#3B0F70\\\"],[0.20392156862745098,\\\"#3D0F71\\\"],[0.20784313725490197,\\\"#3F0F72\\\"],[0.21176470588235294,\\\"#400F74\\\"],[0.21568627450980393,\\\"#420F75\\\"],[0.2196078431372549,\\\"#440F76\\\"],[0.2235294117647059,\\\"#451077\\\"],[0.22745098039215686,\\\"#471078\\\"],[0.23137254901960785,\\\"#491078\\\"],[0.23529411764705882,\\\"#4A1079\\\"],[0.23921568627450981,\\\"#4C117A\\\"],[0.24313725490196078,\\\"#4E117B\\\"],[0.24705882352941178,\\\"#4F127B\\\"],[0.25098039215686274,\\\"#51127C\\\"],[0.2549019607843137,\\\"#52137C\\\"],[0.25882352941176473,\\\"#54137D\\\"],[0.2627450980392157,\\\"#56147D\\\"],[0.26666666666666666,\\\"#57157E\\\"],[0.27058823529411763,\\\"#59157E\\\"],[0.27450980392156865,\\\"#5A167E\\\"],[0.2784313725490196,\\\"#5C167F\\\"],[0.2823529411764706,\\\"#5D177F\\\"],[0.28627450980392155,\\\"#5F187F\\\"],[0.2901960784313726,\\\"#601880\\\"],[0.29411764705882354,\\\"#621980\\\"],[0.2980392156862745,\\\"#641A80\\\"],[0.30196078431372547,\\\"#651A80\\\"],[0.3058823529411765,\\\"#671B80\\\"],[0.30980392156862746,\\\"#681C81\\\"],[0.3137254901960784,\\\"#6A1C81\\\"],[0.3176470588235294,\\\"#6B1D81\\\"],[0.3215686274509804,\\\"#6D1D81\\\"],[0.3254901960784314,\\\"#6E1E81\\\"],[0.32941176470588235,\\\"#701F81\\\"],[0.3333333333333333,\\\"#721F81\\\"],[0.33725490196078434,\\\"#732081\\\"],[0.3411764705882353,\\\"#752181\\\"],[0.34509803921568627,\\\"#762181\\\"],[0.34901960784313724,\\\"#782281\\\"],[0.35294117647058826,\\\"#792282\\\"],[0.3568627450980392,\\\"#7B2382\\\"],[0.3607843137254902,\\\"#7C2382\\\"],[0.36470588235294116,\\\"#7E2482\\\"],[0.3686274509803922,\\\"#802582\\\"],[0.37254901960784315,\\\"#812581\\\"],[0.3764705882352941,\\\"#832681\\\"],[0.3803921568627451,\\\"#842681\\\"],[0.3843137254901961,\\\"#862781\\\"],[0.38823529411764707,\\\"#882781\\\"],[0.39215686274509803,\\\"#892881\\\"],[0.396078431372549,\\\"#8B2981\\\"],[0.4,\\\"#8C2981\\\"],[0.403921568627451,\\\"#8E2A81\\\"],[0.40784313725490196,\\\"#902A81\\\"],[0.4117647058823529,\\\"#912B81\\\"],[0.41568627450980394,\\\"#932B80\\\"],[0.4196078431372549,\\\"#942C80\\\"],[0.4235294117647059,\\\"#962C80\\\"],[0.42745098039215684,\\\"#982D80\\\"],[0.43137254901960786,\\\"#992D80\\\"],[0.43529411764705883,\\\"#9B2E7F\\\"],[0.4392156862745098,\\\"#9C2E7F\\\"],[0.44313725490196076,\\\"#9E2F7F\\\"],[0.4470588235294118,\\\"#A02F7F\\\"],[0.45098039215686275,\\\"#A1307E\\\"],[0.4549019607843137,\\\"#A3307E\\\"],[0.4588235294117647,\\\"#A5317E\\\"],[0.4627450980392157,\\\"#A6317D\\\"],[0.4666666666666667,\\\"#A8327D\\\"],[0.47058823529411764,\\\"#AA337D\\\"],[0.4745098039215686,\\\"#AB337C\\\"],[0.47843137254901963,\\\"#AD347C\\\"],[0.4823529411764706,\\\"#AE347B\\\"],[0.48627450980392156,\\\"#B0357B\\\"],[0.49019607843137253,\\\"#B2357B\\\"],[0.49411764705882355,\\\"#B3367A\\\"],[0.4980392156862745,\\\"#B5367A\\\"],[0.5019607843137255,\\\"#B73779\\\"],[0.5058823529411764,\\\"#B83779\\\"],[0.5098039215686274,\\\"#BA3878\\\"],[0.5137254901960784,\\\"#BC3978\\\"],[0.5176470588235295,\\\"#BD3977\\\"],[0.5215686274509804,\\\"#BF3A77\\\"],[0.5254901960784314,\\\"#C03A76\\\"],[0.5294117647058824,\\\"#C23B75\\\"],[0.5333333333333333,\\\"#C43C75\\\"],[0.5372549019607843,\\\"#C53C74\\\"],[0.5411764705882353,\\\"#C73D73\\\"],[0.5450980392156862,\\\"#C83E73\\\"],[0.5490196078431373,\\\"#CA3E72\\\"],[0.5529411764705883,\\\"#CC3F71\\\"],[0.5568627450980392,\\\"#CD4071\\\"],[0.5607843137254902,\\\"#CF4070\\\"],[0.5647058823529412,\\\"#D0416F\\\"],[0.5686274509803921,\\\"#D2426F\\\"],[0.5725490196078431,\\\"#D3436E\\\"],[0.5764705882352941,\\\"#D5446D\\\"],[0.5803921568627451,\\\"#D6456C\\\"],[0.5843137254901961,\\\"#D8456C\\\"],[0.5882352941176471,\\\"#D9466B\\\"],[0.592156862745098,\\\"#DB476A\\\"],[0.596078431372549,\\\"#DC4869\\\"],[0.6,\\\"#DE4968\\\"],[0.6039215686274509,\\\"#DF4A68\\\"],[0.6078431372549019,\\\"#E04C67\\\"],[0.611764705882353,\\\"#E24D66\\\"],[0.615686274509804,\\\"#E34E65\\\"],[0.6196078431372549,\\\"#E44F64\\\"],[0.6235294117647059,\\\"#E55064\\\"],[0.6274509803921569,\\\"#E75263\\\"],[0.6313725490196078,\\\"#E85362\\\"],[0.6352941176470588,\\\"#E95462\\\"],[0.6392156862745098,\\\"#EA5661\\\"],[0.6431372549019608,\\\"#EB5760\\\"],[0.6470588235294118,\\\"#EC5860\\\"],[0.6509803921568628,\\\"#ED5A5F\\\"],[0.6549019607843137,\\\"#EE5B5E\\\"],[0.6588235294117647,\\\"#EF5D5E\\\"],[0.6627450980392157,\\\"#F05F5E\\\"],[0.6666666666666666,\\\"#F1605D\\\"],[0.6705882352941176,\\\"#F2625D\\\"],[0.6745098039215687,\\\"#F2645C\\\"],[0.6784313725490196,\\\"#F3655C\\\"],[0.6823529411764706,\\\"#F4675C\\\"],[0.6862745098039216,\\\"#F4695C\\\"],[0.6901960784313725,\\\"#F56B5C\\\"],[0.6941176470588235,\\\"#F66C5C\\\"],[0.6980392156862745,\\\"#F66E5C\\\"],[0.7019607843137254,\\\"#F7705C\\\"],[0.7058823529411765,\\\"#F7725C\\\"],[0.7098039215686275,\\\"#F8745C\\\"],[0.7137254901960784,\\\"#F8765C\\\"],[0.7176470588235294,\\\"#F9785D\\\"],[0.7215686274509804,\\\"#F9795D\\\"],[0.7254901960784313,\\\"#F97B5D\\\"],[0.7294117647058823,\\\"#FA7D5E\\\"],[0.7333333333333333,\\\"#FA7F5E\\\"],[0.7372549019607844,\\\"#FA815F\\\"],[0.7411764705882353,\\\"#FB835F\\\"],[0.7450980392156863,\\\"#FB8560\\\"],[0.7490196078431373,\\\"#FB8761\\\"],[0.7529411764705882,\\\"#FC8961\\\"],[0.7568627450980392,\\\"#FC8A62\\\"],[0.7607843137254902,\\\"#FC8C63\\\"],[0.7647058823529411,\\\"#FC8E64\\\"],[0.7686274509803922,\\\"#FC9065\\\"],[0.7725490196078432,\\\"#FD9266\\\"],[0.7764705882352941,\\\"#FD9467\\\"],[0.7803921568627451,\\\"#FD9668\\\"],[0.7843137254901961,\\\"#FD9869\\\"],[0.788235294117647,\\\"#FD9A6A\\\"],[0.792156862745098,\\\"#FD9B6B\\\"],[0.796078431372549,\\\"#FE9D6C\\\"],[0.8,\\\"#FE9F6D\\\"],[0.803921568627451,\\\"#FEA16E\\\"],[0.807843137254902,\\\"#FEA36F\\\"],[0.8117647058823529,\\\"#FEA571\\\"],[0.8156862745098039,\\\"#FEA772\\\"],[0.8196078431372549,\\\"#FEA973\\\"],[0.8235294117647058,\\\"#FEAA74\\\"],[0.8274509803921568,\\\"#FEAC76\\\"],[0.8313725490196079,\\\"#FEAE77\\\"],[0.8352941176470589,\\\"#FEB078\\\"],[0.8392156862745098,\\\"#FEB27A\\\"],[0.8431372549019608,\\\"#FEB47B\\\"],[0.8470588235294118,\\\"#FEB67C\\\"],[0.8509803921568627,\\\"#FEB77E\\\"],[0.8549019607843137,\\\"#FEB97F\\\"],[0.8588235294117647,\\\"#FEBB81\\\"],[0.8627450980392157,\\\"#FEBD82\\\"],[0.8666666666666667,\\\"#FEBF84\\\"],[0.8705882352941177,\\\"#FEC185\\\"],[0.8745098039215686,\\\"#FEC287\\\"],[0.8784313725490196,\\\"#FEC488\\\"],[0.8823529411764706,\\\"#FEC68A\\\"],[0.8862745098039215,\\\"#FEC88C\\\"],[0.8901960784313725,\\\"#FECA8D\\\"],[0.8941176470588236,\\\"#FECC8F\\\"],[0.8980392156862745,\\\"#FECD90\\\"],[0.9019607843137255,\\\"#FECF92\\\"],[0.9058823529411765,\\\"#FED194\\\"],[0.9098039215686274,\\\"#FED395\\\"],[0.9137254901960784,\\\"#FED597\\\"],[0.9176470588235294,\\\"#FED799\\\"],[0.9215686274509803,\\\"#FED89A\\\"],[0.9254901960784314,\\\"#FDDA9C\\\"],[0.9294117647058824,\\\"#FDDC9E\\\"],[0.9333333333333333,\\\"#FDDEA0\\\"],[0.9372549019607843,\\\"#FDE0A1\\\"],[0.9411764705882353,\\\"#FDE2A3\\\"],[0.9450980392156862,\\\"#FDE3A5\\\"],[0.9490196078431372,\\\"#FDE5A7\\\"],[0.9529411764705882,\\\"#FDE7A9\\\"],[0.9568627450980393,\\\"#FDE9AA\\\"],[0.9607843137254902,\\\"#FDEBAC\\\"],[0.9647058823529412,\\\"#FCECAE\\\"],[0.9686274509803922,\\\"#FCEEB0\\\"],[0.9725490196078431,\\\"#FCF0B2\\\"],[0.9764705882352941,\\\"#FCF2B4\\\"],[0.9803921568627451,\\\"#FCF4B6\\\"],[0.984313725490196,\\\"#FCF6B8\\\"],[0.9882352941176471,\\\"#FCF7B9\\\"],[0.9921568627450981,\\\"#FCF9BB\\\"],[0.996078431372549,\\\"#FCFBBD\\\"],[1.0,\\\"#FCFDBF\\\"]],\\\"z\\\":[[0.7538255,0.47074714,0.6731411],[0.47074714,0.680234,0.79324687],[0.6731411,0.79324687,0.32892278]],\\\"x\\\":[\\\"carotovorum\\\",\\\"brasiliense\\\",\\\"odoriferum\\\"]},{\\\"marker\\\":{\\\"color\\\":\\\"red\\\"},\\\"mode\\\":\\\"markers\\\",\\\"y\\\":[\\\"carotovorum\\\",\\\"carotovorum\\\",\\\"brasiliense\\\"],\\\"type\\\":\\\"scatter\\\",\\\"hoverinfo\\\":\\\"skip\\\",\\\"x\\\":[\\\"brasiliense\\\",\\\"odoriferum\\\",\\\"carotovorum\\\"]}],{\\\"xaxis\\\":{\\\"tickangle\\\":-90,\\\"scaleanchor\\\":\\\"y\\\"},\\\"height\\\":700,\\\"margin\\\":{\\\"l\\\":150,\\\"b\\\":150,\\\"r\\\":50,\\\"t\\\":60},\\\"width\\\":800},{}); gd.on(\\\"plotly_hover\\\",(function (data){var filtered_data=WebIO.PlotlyCommands.filterEventData(gd,data,\\\"hover\\\"); return !(filtered_data.isnil) ? (WebIO.setval({\\\"name\\\":\\\"hover\\\",\\\"scope\\\":\\\"2090501756246785383\\\",\\\"id\\\":\\\"5565489337980520289\\\",\\\"type\\\":\\\"observable\\\"},filtered_data.out)) : undefined})); gd.on(\\\"plotly_unhover\\\",(function (){return WebIO.setval({\\\"name\\\":\\\"hover\\\",\\\"scope\\\":\\\"2090501756246785383\\\",\\\"id\\\":\\\"5565489337980520289\\\",\\\"type\\\":\\\"observable\\\"},{})})); gd.on(\\\"plotly_selected\\\",(function (data){var filtered_data=WebIO.PlotlyCommands.filterEventData(gd,data,\\\"selected\\\"); return !(filtered_data.isnil) ? (WebIO.setval({\\\"name\\\":\\\"selected\\\",\\\"scope\\\":\\\"2090501756246785383\\\",\\\"id\\\":\\\"451218216415032732\\\",\\\"type\\\":\\\"observable\\\"},filtered_data.out)) : undefined})); gd.on(\\\"plotly_deselect\\\",(function (){return WebIO.setval({\\\"name\\\":\\\"selected\\\",\\\"scope\\\":\\\"2090501756246785383\\\",\\\"id\\\":\\\"451218216415032732\\\",\\\"type\\\":\\\"observable\\\"},{})})); gd.on(\\\"plotly_relayout\\\",(function (data){var filtered_data=WebIO.PlotlyCommands.filterEventData(gd,data,\\\"relayout\\\"); return !(filtered_data.isnil) ? (WebIO.setval({\\\"name\\\":\\\"relayout\\\",\\\"scope\\\":\\\"2090501756246785383\\\",\\\"id\\\":\\\"11918986313181056872\\\",\\\"type\\\":\\\"observable\\\"},filtered_data.out)) : undefined})); return gd.on(\\\"plotly_click\\\",(function (data){var filtered_data=WebIO.PlotlyCommands.filterEventData(gd,data,\\\"click\\\"); return !(filtered_data.isnil) ? (WebIO.setval({\\\"name\\\":\\\"click\\\",\\\"scope\\\":\\\"2090501756246785383\\\",\\\"id\\\":\\\"6027975355114171083\\\",\\\"type\\\":\\\"observable\\\"},filtered_data.out)) : undefined}))}));\\n    (WebIO.importBlock({\\\"data\\\":[{\\\"name\\\":\\\"Plotly\\\",\\\"type\\\":\\\"js\\\",\\\"url\\\":\\\"\\/assetserver\\/e6903599031aaef8675931dfcd7df98a1aeffbfc-plotly-latest.min.js\\\"},{\\\"name\\\":null,\\\"type\\\":\\\"js\\\",\\\"url\\\":\\\"\\/assetserver\\/74a5dea81f21b0b802ef1ee92f1c8a504eac1a0c-plotly_webio.bundle.js\\\"}],\\\"type\\\":\\\"async_block\\\"})).then((imports) => handler.apply(this, imports));\\n}\\n\"],\"observables\":{\"_toImage\":{\"sync\":false,\"id\":\"162543635284576039\",\"value\":{}},\"hover\":{\"sync\":false,\"id\":\"5565489337980520289\",\"value\":{}},\"selected\":{\"sync\":false,\"id\":\"451218216415032732\",\"value\":{}},\"__gd_contents\":{\"sync\":false,\"id\":\"3916558741244697921\",\"value\":{}},\"click\":{\"sync\":false,\"id\":\"6027975355114171083\",\"value\":{}},\"image\":{\"sync\":true,\"id\":\"433408434434236306\",\"value\":\"\"},\"__get_gd_contents\":{\"sync\":false,\"id\":\"8315000219590426601\",\"value\":\"\"},\"_downloadImage\":{\"sync\":false,\"id\":\"10750553557263684551\",\"value\":{}},\"relayout\":{\"sync\":false,\"id\":\"11918986313181056872\",\"value\":{}},\"_commands\":{\"sync\":false,\"id\":\"13912791374367480491\",\"value\":[]}}},\"children\":[{\"props\":{\"id\":\"plot-4a12e743-57af-4f46-8ecb-a5ec4f7ca931\"},\"nodeType\":\"DOM\",\"type\":\"node\",\"instanceArgs\":{\"namespace\":\"html\",\"tag\":\"div\"},\"children\":[]}]},\n",
       "            window,\n",
       "        );\n",
       "    } else {\n",
       "        document\n",
       "            .querySelector('[data-webio-mountpoint=\"10289500208022464817\"]')\n",
       "            .innerHTML = (\n",
       "                '<div style=\"padding: 1em; background-color: #f8d6da; border: 1px solid #f5c6cb\">' +\n",
       "                '<p><strong>WebIO not detected.</strong></p>' +\n",
       "                '<p>Please read ' +\n",
       "                '<a href=\"https://juliagizmos.github.io/WebIO.jl/latest/troubleshooting/not-detected/\" target=\"_blank\">the troubleshooting guide</a> ' +\n",
       "                'for more information on how to resolve this issue.</p>' +\n",
       "                '<p><a href=\"https://juliagizmos.github.io/WebIO.jl/latest/troubleshooting/not-detected/\" target=\"_blank\">https://juliagizmos.github.io/WebIO.jl/latest/troubleshooting/not-detected/</a></p>' +\n",
       "                '</div>'\n",
       "            );\n",
       "    }\n",
       "    </script>\n",
       "</div>\n"
      ],
      "text/plain": [
       "data: [\n",
       "  \"heatmap with fields colorscale, type, x, y, and z\",\n",
       "  \"scatter with fields hoverinfo, marker, mode, type, x, and y\"\n",
       "]\n",
       "\n",
       "layout: \"layout with fields height, margin, width, and xaxis\"\n",
       "\n"
      ]
     },
     "metadata": {},
     "output_type": "display_data"
    }
   ],
   "source": [
    "include(\"fix-component-base.jl\");"
   ]
  },
  {
   "cell_type": "code",
   "execution_count": 3,
   "id": "dress-albert",
   "metadata": {},
   "outputs": [],
   "source": [
    "trees = Dict{String, Any}();"
   ]
  },
  {
   "cell_type": "code",
   "execution_count": 4,
   "id": "operational-hormone",
   "metadata": {},
   "outputs": [
    {
     "data": {
      "application/vnd.plotly.v1+json": {
       "data": [
        {
         "hoverinfo": "skip",
         "line": {
          "color": "#FFBB78"
         },
         "mode": "lines",
         "showlegend": false,
         "type": "scatter",
         "x": [
          10.943174758686338,
          13.357388321059434,
          null,
          10.943174758686338,
          10.943174758686338,
          null,
          13.357388321059434,
          13.357388321059434,
          null
         ],
         "y": [
          0.43372875452041626,
          0.43372875452041626,
          null,
          0.43372875452041626,
          0.23018591105937958,
          null,
          0.43372875452041626,
          0.4139551818370819,
          null
         ],
         "yaxis": "y"
        },
        {
         "hoverinfo": "skip",
         "line": {
          "color": "#AEC7E8"
         },
         "mode": "lines",
         "showlegend": false,
         "type": "scatter",
         "x": [
          25.56449510224598,
          27.56449510224598,
          null,
          25.56449510224598,
          25.56449510224598,
          null,
          27.56449510224598,
          27.56449510224598,
          null
         ],
         "y": [
          0.4852750897407532,
          0.4852750897407532,
          null,
          0.4852750897407532,
          0.0005715918960049748,
          null,
          0.4852750897407532,
          0.4599737524986267,
          null
         ],
         "yaxis": "y"
        },
        {
         "hoverinfo": "skip",
         "line": {
          "color": "#FFBB78"
         },
         "mode": "lines",
         "showlegend": false,
         "type": "scatter",
         "x": [
          12.150281539872886,
          15.564495102245981,
          null,
          12.150281539872886,
          12.150281539872886,
          null,
          15.564495102245981,
          15.564495102245981,
          null
         ],
         "y": [
          0.45085135102272034,
          0.45085135102272034,
          null,
          0.45085135102272034,
          0.43372875452041626,
          null,
          0.45085135102272034,
          0.44436395168304443,
          null
         ],
         "yaxis": "y"
        },
        {
         "hoverinfo": "skip",
         "line": {
          "color": "#666666"
         },
         "mode": "lines",
         "showlegend": false,
         "type": "scatter",
         "x": [
          9.29228641103802,
          19.06449510224598,
          null,
          9.29228641103802,
          9.29228641103802,
          null,
          19.06449510224598,
          19.06449510224598,
          null
         ],
         "y": [
          0.6230934262275696,
          0.6230934262275696,
          null,
          0.6230934262275696,
          0.5224559903144836,
          null,
          0.6230934262275696,
          0,
          null
         ],
         "yaxis": "y"
        },
        {
         "fill": "toself",
         "hoverinfo": "skip",
         "line": {
          "color": "#98DF8A"
         },
         "mode": "lines",
         "showlegend": false,
         "type": "scatter",
         "x": [
          20.06449510224598,
          20.06449510224598,
          21.06449510224598,
          21.06449510224598
         ],
         "y": [
          0,
          0.3289227783679962,
          0.3289227783679962,
          0
         ],
         "yaxis": "y"
        },
        {
         "fill": "toself",
         "hoverinfo": "skip",
         "line": {
          "color": "#FFBB78"
         },
         "mode": "lines",
         "showlegend": false,
         "type": "scatter",
         "x": [
          12.650281539872886,
          12.650281539872886,
          14.064495102245981,
          14.064495102245981
         ],
         "y": [
          0,
          0.4139551818370819,
          0.4139551818370819,
          0
         ],
         "yaxis": "y"
        },
        {
         "fill": "toself",
         "hoverinfo": "skip",
         "line": {
          "color": "#FFBB78"
         },
         "mode": "lines",
         "showlegend": false,
         "type": "scatter",
         "x": [
          4.23606797749979,
          4.23606797749979,
          5.23606797749979,
          5.23606797749979
         ],
         "y": [
          0,
          0.38161665201187134,
          0.38161665201187134,
          0
         ],
         "yaxis": "y"
        },
        {
         "hoverinfo": "skip",
         "line": {
          "color": "#666666"
         },
         "mode": "lines",
         "showlegend": false,
         "type": "scatter",
         "x": [
          6.36106797749979,
          12.223504844576249,
          null,
          6.36106797749979,
          6.36106797749979,
          null,
          12.223504844576249,
          12.223504844576249,
          null
         ],
         "y": [
          0.5224559903144836,
          0.5224559903144836,
          null,
          0.5224559903144836,
          0.5116816163063049,
          null,
          0.5224559903144836,
          0.5185286402702332,
          null
         ],
         "yaxis": "y"
        },
        {
         "hoverinfo": "skip",
         "line": {
          "color": "#FFBB78"
         },
         "mode": "lines",
         "showlegend": false,
         "type": "scatter",
         "x": [
          13.857388321059434,
          17.56449510224598,
          null,
          13.857388321059434,
          13.857388321059434,
          null,
          17.56449510224598,
          17.56449510224598,
          null
         ],
         "y": [
          0.503963828086853,
          0.503963828086853,
          null,
          0.503963828086853,
          0.45085135102272034,
          null,
          0.503963828086853,
          0.47788742184638977,
          null
         ],
         "yaxis": "y"
        },
        {
         "fill": "toself",
         "hoverinfo": "skip",
         "line": {
          "color": "#AEC7E8"
         },
         "mode": "lines",
         "showlegend": false,
         "type": "scatter",
         "x": [
          25.06449510224598,
          25.06449510224598,
          26.06449510224598,
          26.06449510224598
         ],
         "y": [
          0,
          0.0005715918960049748,
          0.0005715918960049748,
          0
         ],
         "yaxis": "y"
        },
        {
         "hoverinfo": "skip",
         "line": {
          "color": "#FFBB78"
         },
         "mode": "lines",
         "showlegend": false,
         "type": "scatter",
         "x": [
          5.48606797749979,
          7.23606797749979,
          null,
          5.48606797749979,
          5.48606797749979,
          null,
          7.23606797749979,
          7.23606797749979,
          null
         ],
         "y": [
          0.5116816163063049,
          0.5116816163063049,
          null,
          0.5116816163063049,
          0.5089638829231262,
          null,
          0.5116816163063049,
          0,
          null
         ],
         "yaxis": "y"
        },
        {
         "hoverinfo": "skip",
         "line": {
          "color": "#666666"
         },
         "mode": "lines",
         "showlegend": false,
         "type": "scatter",
         "x": [
          8.148212372695948,
          23.78324510224598,
          null,
          8.148212372695948,
          8.148212372695948,
          null,
          23.78324510224598,
          23.78324510224598,
          null
         ],
         "y": [
          0.8133111596107483,
          0.8133111596107483,
          null,
          0.8133111596107483,
          0.6802340149879456,
          null,
          0.8133111596107483,
          0.7133318185806274,
          null
         ],
         "yaxis": "y"
        },
        {
         "hoverinfo": "skip",
         "line": {
          "color": "#666666"
         },
         "mode": "lines",
         "showlegend": false,
         "type": "scatter",
         "x": [
          8.73606797749979,
          15.710941711652708,
          null,
          8.73606797749979,
          8.73606797749979,
          null,
          15.710941711652708,
          15.710941711652708,
          null
         ],
         "y": [
          0.5185286402702332,
          0.5185286402702332,
          null,
          0.5185286402702332,
          0.4755942225456238,
          null,
          0.5185286402702332,
          0.503963828086853,
          null
         ],
         "yaxis": "y"
        },
        {
         "hoverinfo": "skip",
         "line": {
          "color": "#666666"
         },
         "mode": "lines",
         "showlegend": false,
         "type": "scatter",
         "x": [
          20.56449510224598,
          27.00199510224598,
          null,
          20.56449510224598,
          20.56449510224598,
          null,
          27.00199510224598,
          27.00199510224598,
          null
         ],
         "y": [
          0.7133318185806274,
          0.7133318185806274,
          null,
          0.7133318185806274,
          0.3289227783679962,
          null,
          0.7133318185806274,
          0.564881443977356,
          null
         ],
         "yaxis": "y"
        },
        {
         "hoverinfo": "skip",
         "line": {
          "color": "#FFBB78"
         },
         "mode": "lines",
         "showlegend": false,
         "type": "scatter",
         "x": [
          15.064495102245981,
          16.06449510224598,
          null,
          15.064495102245981,
          15.064495102245981,
          null,
          16.06449510224598,
          16.06449510224598,
          null
         ],
         "y": [
          0.44436395168304443,
          0.44436395168304443,
          null,
          0.44436395168304443,
          0,
          null,
          0.44436395168304443,
          0,
          null
         ],
         "yaxis": "y"
        },
        {
         "hoverinfo": "skip",
         "line": {
          "color": "#AEC7E8"
         },
         "mode": "lines",
         "showlegend": false,
         "type": "scatter",
         "x": [
          27.06449510224598,
          28.06449510224598,
          null,
          27.06449510224598,
          27.06449510224598,
          null,
          28.06449510224598,
          28.06449510224598,
          null
         ],
         "y": [
          0.4599737524986267,
          0.4599737524986267,
          null,
          0.4599737524986267,
          0,
          null,
          0.4599737524986267,
          0,
          null
         ],
         "yaxis": "y"
        },
        {
         "hoverinfo": "skip",
         "line": {
          "color": "#FFBB78"
         },
         "mode": "lines",
         "showlegend": false,
         "type": "scatter",
         "x": [
          17.06449510224598,
          18.06449510224598,
          null,
          17.06449510224598,
          17.06449510224598,
          null,
          18.06449510224598,
          18.06449510224598,
          null
         ],
         "y": [
          0.47788742184638977,
          0.47788742184638977,
          null,
          0.47788742184638977,
          0,
          null,
          0.47788742184638977,
          0,
          null
         ],
         "yaxis": "y"
        },
        {
         "hoverinfo": "skip",
         "line": {
          "color": "#AEC7E8"
         },
         "mode": "lines",
         "showlegend": false,
         "type": "scatter",
         "x": [
          24.93949510224598,
          29.06449510224598,
          null,
          24.93949510224598,
          24.93949510224598,
          null,
          29.06449510224598,
          29.06449510224598,
          null
         ],
         "y": [
          0.564881443977356,
          0.564881443977356,
          null,
          0.564881443977356,
          0.5061310529708862,
          null,
          0.564881443977356,
          0,
          null
         ],
         "yaxis": "y"
        },
        {
         "fill": "toself",
         "hoverinfo": "skip",
         "line": {
          "color": "#FFBB78"
         },
         "mode": "lines",
         "showlegend": false,
         "type": "scatter",
         "x": [
          10.23606797749979,
          10.23606797749979,
          11.650281539872886,
          11.650281539872886
         ],
         "y": [
          0,
          0.23018591105937958,
          0.23018591105937958,
          0
         ],
         "yaxis": "y"
        },
        {
         "hoverinfo": "skip",
         "line": {
          "color": "#FFBB78"
         },
         "mode": "lines",
         "showlegend": false,
         "type": "scatter",
         "x": [
          4.73606797749979,
          6.23606797749979,
          null,
          4.73606797749979,
          4.73606797749979,
          null,
          6.23606797749979,
          6.23606797749979,
          null
         ],
         "y": [
          0.5089638829231262,
          0.5089638829231262,
          null,
          0.5089638829231262,
          0.38161665201187134,
          null,
          0.5089638829231262,
          0,
          null
         ],
         "yaxis": "y"
        },
        {
         "fill": "toself",
         "hoverinfo": "skip",
         "line": {
          "color": "#FFBB78"
         },
         "mode": "lines",
         "showlegend": false,
         "type": "scatter",
         "x": [
          1,
          1,
          3.23606797749979,
          3.23606797749979
         ],
         "y": [
          0,
          0.4030485153198242,
          0.4030485153198242,
          0
         ],
         "yaxis": "y"
        },
        {
         "hoverinfo": "skip",
         "line": {
          "color": "#666666"
         },
         "mode": "lines",
         "showlegend": false,
         "type": "scatter",
         "x": [
          2.118033988749895,
          14.178390756642,
          null,
          2.118033988749895,
          2.118033988749895,
          null,
          14.178390756642,
          14.178390756642,
          null
         ],
         "y": [
          0.6802340149879456,
          0.6802340149879456,
          null,
          0.6802340149879456,
          0.4030485153198242,
          null,
          0.6802340149879456,
          0.6230934262275696,
          null
         ],
         "yaxis": "y"
        },
        {
         "hoverinfo": "skip",
         "line": {
          "color": "#AEC7E8"
         },
         "mode": "lines",
         "showlegend": false,
         "type": "scatter",
         "x": [
          22.56449510224598,
          24.06449510224598,
          null,
          22.56449510224598,
          22.56449510224598,
          null,
          24.06449510224598,
          24.06449510224598,
          null
         ],
         "y": [
          0.440337210893631,
          0.440337210893631,
          null,
          0.440337210893631,
          0.35322806239128113,
          null,
          0.440337210893631,
          0,
          null
         ],
         "yaxis": "y"
        },
        {
         "hoverinfo": "skip",
         "line": {
          "color": "#AEC7E8"
         },
         "mode": "lines",
         "showlegend": false,
         "type": "scatter",
         "x": [
          23.31449510224598,
          26.56449510224598,
          null,
          23.31449510224598,
          23.31449510224598,
          null,
          26.56449510224598,
          26.56449510224598,
          null
         ],
         "y": [
          0.5061310529708862,
          0.5061310529708862,
          null,
          0.5061310529708862,
          0.440337210893631,
          null,
          0.5061310529708862,
          0.4852750897407532,
          null
         ],
         "yaxis": "y"
        },
        {
         "fill": "toself",
         "hoverinfo": "skip",
         "line": {
          "color": "#AEC7E8"
         },
         "mode": "lines",
         "showlegend": false,
         "type": "scatter",
         "x": [
          22.06449510224598,
          22.06449510224598,
          23.06449510224598,
          23.06449510224598
         ],
         "y": [
          0,
          0.35322806239128113,
          0.35322806239128113,
          0
         ],
         "yaxis": "y"
        },
        {
         "hoverinfo": "skip",
         "line": {
          "color": "#666666"
         },
         "mode": "lines",
         "showlegend": false,
         "type": "scatter",
         "x": [
          8.23606797749979,
          9.23606797749979,
          null,
          8.23606797749979,
          8.23606797749979,
          null,
          9.23606797749979,
          9.23606797749979,
          null
         ],
         "y": [
          0.4755942225456238,
          0.4755942225456238,
          null,
          0.4755942225456238,
          0,
          null,
          0.4755942225456238,
          0,
          null
         ],
         "yaxis": "y"
        },
        {
         "customdata": [
          [
           47,
           6,
           "brasiliense"
          ],
          [
           54,
           4,
           "carotovorum"
          ],
          [
           50,
           8,
           "brasiliense"
          ],
          [
           62,
           17,
           "(mixed)"
          ],
          [
           46,
           3,
           "brasiliense"
          ],
          [
           39,
           2,
           "odoriferum"
          ],
          [
           43,
           2,
           "brasiliense"
          ],
          [
           60,
           16,
           "(mixed)"
          ],
          [
           55,
           10,
           "brasiliense"
          ],
          [
           34,
           2,
           "carotovorum"
          ],
          [
           58,
           4,
           "brasiliense"
          ],
          [
           65,
           33,
           "(mixed)"
          ],
          [
           59,
           12,
           "(mixed)"
          ],
          [
           64,
           10,
           "(mixed)"
          ],
          [
           49,
           2,
           "brasiliense"
          ],
          [
           51,
           2,
           "carotovorum"
          ],
          [
           53,
           2,
           "brasiliense"
          ],
          [
           61,
           8,
           "carotovorum"
          ],
          [
           38,
           3,
           "brasiliense"
          ],
          [
           57,
           3,
           "brasiliense"
          ],
          [
           45,
           6,
           "brasiliense"
          ],
          [
           63,
           23,
           "(mixed)"
          ],
          [
           48,
           3,
           "carotovorum"
          ],
          [
           56,
           7,
           "carotovorum"
          ],
          [
           41,
           2,
           "carotovorum"
          ],
          [
           52,
           2,
           "(mixed)"
          ]
         ],
         "hovertemplate": "ID: %{customdata[0]}<br>\nHeight: %{y:.3f}<br>\nGenome count: %{customdata[1]}\n<br>\n%{customdata[2]}\n<extra></extra>",
         "marker": {
          "color": [
           "#FFBB78",
           "#AEC7E8",
           "#FFBB78",
           "#666666",
           "#FFBB78",
           "#98DF8A",
           "#FFBB78",
           "#666666",
           "#FFBB78",
           "#AEC7E8",
           "#FFBB78",
           "#666666",
           "#666666",
           "#666666",
           "#FFBB78",
           "#AEC7E8",
           "#FFBB78",
           "#AEC7E8",
           "#FFBB78",
           "#FFBB78",
           "#FFBB78",
           "#666666",
           "#AEC7E8",
           "#AEC7E8",
           "#AEC7E8",
           "#666666"
          ],
          "size": [
           4,
           4,
           8,
           4,
           4,
           8,
           8,
           8,
           4,
           8,
           4,
           8,
           4,
           4,
           4,
           8,
           4,
           8,
           8,
           4,
           8,
           8,
           8,
           8,
           8,
           4
          ]
         },
         "mode": "markers",
         "showlegend": false,
         "type": "scatter",
         "x": [
          12.150281539872886,
          26.56449510224598,
          13.857388321059434,
          14.178390756642,
          13.357388321059434,
          20.56449510224598,
          4.73606797749979,
          9.29228641103802,
          15.710941711652708,
          25.56449510224598,
          6.36106797749979,
          15.965728737470965,
          12.223504844576249,
          23.78324510224598,
          15.564495102245981,
          27.56449510224598,
          17.56449510224598,
          27.00199510224598,
          10.943174758686338,
          5.48606797749979,
          2.118033988749895,
          8.148212372695948,
          23.31449510224598,
          24.93949510224598,
          22.56449510224598,
          8.73606797749979
         ],
         "y": [
          0.43372875452041626,
          0.4852750897407532,
          0.45085135102272034,
          0.6230934262275696,
          0.4139551818370819,
          0.3289227783679962,
          0.38161665201187134,
          0.5224559903144836,
          0.503963828086853,
          0.0005715918960049748,
          0.5116816163063049,
          0.8133111596107483,
          0.5185286402702332,
          0.7133318185806274,
          0.44436395168304443,
          0.4599737524986267,
          0.47788742184638977,
          0.564881443977356,
          0.23018591105937958,
          0.5089638829231262,
          0.4030485153198242,
          0.6802340149879456,
          0.440337210893631,
          0.5061310529708862,
          0.35322806239128113,
          0.4755942225456238
         ],
         "yaxis": "y"
        },
        {
         "colorscale": [
          [
           0,
           "#666666"
          ],
          [
           0.1,
           "#AEC7E8"
          ],
          [
           0.2,
           "#FFBB78"
          ],
          [
           0.3,
           "#98DF8A"
          ],
          [
           0.4,
           "#FF9896"
          ],
          [
           0.5,
           "#C5B0D5"
          ],
          [
           0.6,
           "#C49C94"
          ],
          [
           0.7,
           "#F7B6D2"
          ],
          [
           0.8,
           "#C7C7C7"
          ],
          [
           0.9,
           "#DBDB8D"
          ],
          [
           1,
           "#9EDAE5"
          ]
         ],
         "customdata": [
          [
           [
            "ID 45",
            "brasiliense"
           ],
           [
            "ID 43",
            "brasiliense"
           ],
           [
            "Genome 25",
            "brasiliense"
           ],
           [
            "Genome 21",
            "brasiliense"
           ],
           [
            "Genome 2",
            "carotovorum"
           ],
           [
            "Genome 12",
            "brasiliense"
           ],
           [
            "ID 38",
            "brasiliense"
           ],
           [
            "ID 46",
            "brasiliense"
           ],
           [
            "Genome 11",
            "brasiliense"
           ],
           [
            "Genome 27",
            "brasiliense"
           ],
           [
            "Genome 20",
            "brasiliense"
           ],
           [
            "Genome 24",
            "brasiliense"
           ],
           [
            "Genome 13",
            "brasiliense"
           ],
           [
            "ID 39",
            "odoriferum"
           ],
           [
            "ID 41",
            "carotovorum"
           ],
           [
            "Genome 6",
            "carotovorum"
           ],
           [
            "ID 34",
            "carotovorum"
           ],
           [
            "Genome 5",
            "carotovorum"
           ],
           [
            "Genome 7",
            "carotovorum"
           ],
           [
            "Genome 4",
            "carotovorum"
           ]
          ]
         ],
         "hovertemplate": "%{customdata[0]} <br>\n%{customdata[1]}\n<extra></extra>\n",
         "showscale": false,
         "type": "heatmap",
         "x": [
          0.5,
          3.73606797749979,
          5.73606797749979,
          6.73606797749979,
          7.73606797749979,
          8.73606797749979,
          9.73606797749979,
          12.150281539872886,
          14.564495102245981,
          15.564495102245981,
          16.56449510224598,
          17.56449510224598,
          18.56449510224598,
          19.56449510224598,
          21.56449510224598,
          23.56449510224598,
          24.56449510224598,
          26.56449510224598,
          27.56449510224598,
          28.56449510224598,
          29.56449510224598
         ],
         "xgap": 1,
         "yaxis": "y2",
         "z": [
          [
           2,
           2,
           2,
           2,
           1,
           2,
           2,
           2,
           2,
           2,
           2,
           2,
           2,
           3,
           1,
           1,
           1,
           1,
           1,
           1
          ]
         ],
         "zmax": 10,
         "zmin": 0
        }
       ],
       "frames": [],
       "layout": {
        "autosize": true,
        "hovermode": "closest",
        "margin": {
         "b": 50,
         "l": 50,
         "r": 50,
         "t": 60
        },
        "xaxis": {
         "autorange": true,
         "range": [
          0.5,
          29.56449510224598
         ],
         "type": "linear",
         "visible": false
        },
        "yaxis": {
         "autorange": true,
         "range": [
          -0.05983472732603676,
          0.87371747883279
         ],
         "type": "linear"
        },
        "yaxis2": {
         "autorange": true,
         "domain": [
          0,
          0.05
         ],
         "fixedrange": true,
         "range": [
          -0.5,
          0.5
         ],
         "visible": false
        }
       }
      },
      "application/vnd.webio.node+json": {
       "children": [
        {
         "children": [],
         "instanceArgs": {
          "namespace": "html",
          "tag": "div"
         },
         "nodeType": "DOM",
         "props": {
          "id": "plot-9c2143db-5545-4fd5-abc1-b34fb6120fb0"
         },
         "type": "node"
        }
       ],
       "instanceArgs": {
        "handlers": {
         "__get_gd_contents": [
          "(function (prop){prop==\"data\" ? (WebIO.setval({\"name\":\"__gd_contents\",\"scope\":\"6120510305658030178\",\"id\":\"14013526592721666772\",\"type\":\"observable\"},this.plotElem.data)) : undefined; return prop==\"layout\" ? (WebIO.setval({\"name\":\"__gd_contents\",\"scope\":\"6120510305658030178\",\"id\":\"14013526592721666772\",\"type\":\"observable\"},this.plotElem.layout)) : undefined})"
         ],
         "_commands": [
          "(function (args){var fn=args.shift(); var elem=this.plotElem; var Plotly=this.Plotly; args.unshift(elem); return Plotly[fn].apply(this,args)})"
         ],
         "_downloadImage": [
          "(function (options){return this.Plotly.downloadImage(this.plotElem,options)})"
         ],
         "_toImage": [
          "(function (options){return this.Plotly.toImage(this.plotElem,options).then((function (data){return WebIO.setval({\"name\":\"image\",\"scope\":\"6120510305658030178\",\"id\":\"5716304499948056457\",\"type\":\"observable\"},data)}))})"
         ]
        },
        "id": "6120510305658030178",
        "imports": {
         "data": [
          {
           "name": "Plotly",
           "type": "js",
           "url": "/assetserver/e6903599031aaef8675931dfcd7df98a1aeffbfc-plotly-latest.min.js"
          },
          {
           "name": null,
           "type": "js",
           "url": "/assetserver/74a5dea81f21b0b802ef1ee92f1c8a504eac1a0c-plotly_webio.bundle.js"
          }
         ],
         "type": "async_block"
        },
        "mount_callbacks": [
         "function () {\n    var handler = ((function (Plotly,PlotlyWebIO){PlotlyWebIO.init(WebIO); var gd=this.dom.querySelector(\"#plot-9c2143db-5545-4fd5-abc1-b34fb6120fb0\"); this.plotElem=gd; this.Plotly=Plotly; (window.Blink!==undefined) ? (gd.style.width=\"100%\", gd.style.height=\"100vh\", gd.style.marginLeft=\"0%\", gd.style.marginTop=\"0vh\") : undefined; window.onresize=(function (){return Plotly.Plots.resize(gd)}); Plotly.newPlot(gd,[{\"showlegend\":false,\"mode\":\"lines\",\"line\":{\"color\":\"#FFBB78\"},\"y\":[0.43372875452041626,0.43372875452041626,null,0.43372875452041626,0.23018591105937958,null,0.43372875452041626,0.4139551818370819,null],\"type\":\"scatter\",\"hoverinfo\":\"skip\",\"yaxis\":\"y1\",\"x\":[10.943174758686338,13.357388321059434,null,10.943174758686338,10.943174758686338,null,13.357388321059434,13.357388321059434,null]},{\"showlegend\":false,\"mode\":\"lines\",\"line\":{\"color\":\"#AEC7E8\"},\"y\":[0.4852750897407532,0.4852750897407532,null,0.4852750897407532,0.0005715918960049748,null,0.4852750897407532,0.4599737524986267,null],\"type\":\"scatter\",\"hoverinfo\":\"skip\",\"yaxis\":\"y1\",\"x\":[25.56449510224598,27.56449510224598,null,25.56449510224598,25.56449510224598,null,27.56449510224598,27.56449510224598,null]},{\"showlegend\":false,\"mode\":\"lines\",\"line\":{\"color\":\"#FFBB78\"},\"y\":[0.45085135102272034,0.45085135102272034,null,0.45085135102272034,0.43372875452041626,null,0.45085135102272034,0.44436395168304443,null],\"type\":\"scatter\",\"hoverinfo\":\"skip\",\"yaxis\":\"y1\",\"x\":[12.150281539872886,15.564495102245981,null,12.150281539872886,12.150281539872886,null,15.564495102245981,15.564495102245981,null]},{\"showlegend\":false,\"mode\":\"lines\",\"line\":{\"color\":\"#666666\"},\"y\":[0.6230934262275696,0.6230934262275696,null,0.6230934262275696,0.5224559903144836,null,0.6230934262275696,0.0,null],\"type\":\"scatter\",\"hoverinfo\":\"skip\",\"yaxis\":\"y1\",\"x\":[9.29228641103802,19.06449510224598,null,9.29228641103802,9.29228641103802,null,19.06449510224598,19.06449510224598,null]},{\"showlegend\":false,\"mode\":\"lines\",\"line\":{\"color\":\"#98DF8A\"},\"y\":[0.0,0.3289227783679962,0.3289227783679962,0.0],\"type\":\"scatter\",\"fill\":\"toself\",\"hoverinfo\":\"skip\",\"yaxis\":\"y1\",\"x\":[20.06449510224598,20.06449510224598,21.06449510224598,21.06449510224598]},{\"showlegend\":false,\"mode\":\"lines\",\"line\":{\"color\":\"#FFBB78\"},\"y\":[0.0,0.4139551818370819,0.4139551818370819,0.0],\"type\":\"scatter\",\"fill\":\"toself\",\"hoverinfo\":\"skip\",\"yaxis\":\"y1\",\"x\":[12.650281539872886,12.650281539872886,14.064495102245981,14.064495102245981]},{\"showlegend\":false,\"mode\":\"lines\",\"line\":{\"color\":\"#FFBB78\"},\"y\":[0.0,0.38161665201187134,0.38161665201187134,0.0],\"type\":\"scatter\",\"fill\":\"toself\",\"hoverinfo\":\"skip\",\"yaxis\":\"y1\",\"x\":[4.23606797749979,4.23606797749979,5.23606797749979,5.23606797749979]},{\"showlegend\":false,\"mode\":\"lines\",\"line\":{\"color\":\"#666666\"},\"y\":[0.5224559903144836,0.5224559903144836,null,0.5224559903144836,0.5116816163063049,null,0.5224559903144836,0.5185286402702332,null],\"type\":\"scatter\",\"hoverinfo\":\"skip\",\"yaxis\":\"y1\",\"x\":[6.36106797749979,12.223504844576249,null,6.36106797749979,6.36106797749979,null,12.223504844576249,12.223504844576249,null]},{\"showlegend\":false,\"mode\":\"lines\",\"line\":{\"color\":\"#FFBB78\"},\"y\":[0.503963828086853,0.503963828086853,null,0.503963828086853,0.45085135102272034,null,0.503963828086853,0.47788742184638977,null],\"type\":\"scatter\",\"hoverinfo\":\"skip\",\"yaxis\":\"y1\",\"x\":[13.857388321059434,17.56449510224598,null,13.857388321059434,13.857388321059434,null,17.56449510224598,17.56449510224598,null]},{\"showlegend\":false,\"mode\":\"lines\",\"line\":{\"color\":\"#AEC7E8\"},\"y\":[0.0,0.0005715918960049748,0.0005715918960049748,0.0],\"type\":\"scatter\",\"fill\":\"toself\",\"hoverinfo\":\"skip\",\"yaxis\":\"y1\",\"x\":[25.06449510224598,25.06449510224598,26.06449510224598,26.06449510224598]},{\"showlegend\":false,\"mode\":\"lines\",\"line\":{\"color\":\"#FFBB78\"},\"y\":[0.5116816163063049,0.5116816163063049,null,0.5116816163063049,0.5089638829231262,null,0.5116816163063049,0.0,null],\"type\":\"scatter\",\"hoverinfo\":\"skip\",\"yaxis\":\"y1\",\"x\":[5.48606797749979,7.23606797749979,null,5.48606797749979,5.48606797749979,null,7.23606797749979,7.23606797749979,null]},{\"showlegend\":false,\"mode\":\"lines\",\"line\":{\"color\":\"#666666\"},\"y\":[0.8133111596107483,0.8133111596107483,null,0.8133111596107483,0.6802340149879456,null,0.8133111596107483,0.7133318185806274,null],\"type\":\"scatter\",\"hoverinfo\":\"skip\",\"yaxis\":\"y1\",\"x\":[8.148212372695948,23.78324510224598,null,8.148212372695948,8.148212372695948,null,23.78324510224598,23.78324510224598,null]},{\"showlegend\":false,\"mode\":\"lines\",\"line\":{\"color\":\"#666666\"},\"y\":[0.5185286402702332,0.5185286402702332,null,0.5185286402702332,0.4755942225456238,null,0.5185286402702332,0.503963828086853,null],\"type\":\"scatter\",\"hoverinfo\":\"skip\",\"yaxis\":\"y1\",\"x\":[8.73606797749979,15.710941711652708,null,8.73606797749979,8.73606797749979,null,15.710941711652708,15.710941711652708,null]},{\"showlegend\":false,\"mode\":\"lines\",\"line\":{\"color\":\"#666666\"},\"y\":[0.7133318185806274,0.7133318185806274,null,0.7133318185806274,0.3289227783679962,null,0.7133318185806274,0.564881443977356,null],\"type\":\"scatter\",\"hoverinfo\":\"skip\",\"yaxis\":\"y1\",\"x\":[20.56449510224598,27.00199510224598,null,20.56449510224598,20.56449510224598,null,27.00199510224598,27.00199510224598,null]},{\"showlegend\":false,\"mode\":\"lines\",\"line\":{\"color\":\"#FFBB78\"},\"y\":[0.44436395168304443,0.44436395168304443,null,0.44436395168304443,0.0,null,0.44436395168304443,0.0,null],\"type\":\"scatter\",\"hoverinfo\":\"skip\",\"yaxis\":\"y1\",\"x\":[15.064495102245981,16.06449510224598,null,15.064495102245981,15.064495102245981,null,16.06449510224598,16.06449510224598,null]},{\"showlegend\":false,\"mode\":\"lines\",\"line\":{\"color\":\"#AEC7E8\"},\"y\":[0.4599737524986267,0.4599737524986267,null,0.4599737524986267,0.0,null,0.4599737524986267,0.0,null],\"type\":\"scatter\",\"hoverinfo\":\"skip\",\"yaxis\":\"y1\",\"x\":[27.06449510224598,28.06449510224598,null,27.06449510224598,27.06449510224598,null,28.06449510224598,28.06449510224598,null]},{\"showlegend\":false,\"mode\":\"lines\",\"line\":{\"color\":\"#FFBB78\"},\"y\":[0.47788742184638977,0.47788742184638977,null,0.47788742184638977,0.0,null,0.47788742184638977,0.0,null],\"type\":\"scatter\",\"hoverinfo\":\"skip\",\"yaxis\":\"y1\",\"x\":[17.06449510224598,18.06449510224598,null,17.06449510224598,17.06449510224598,null,18.06449510224598,18.06449510224598,null]},{\"showlegend\":false,\"mode\":\"lines\",\"line\":{\"color\":\"#AEC7E8\"},\"y\":[0.564881443977356,0.564881443977356,null,0.564881443977356,0.5061310529708862,null,0.564881443977356,0.0,null],\"type\":\"scatter\",\"hoverinfo\":\"skip\",\"yaxis\":\"y1\",\"x\":[24.93949510224598,29.06449510224598,null,24.93949510224598,24.93949510224598,null,29.06449510224598,29.06449510224598,null]},{\"showlegend\":false,\"mode\":\"lines\",\"line\":{\"color\":\"#FFBB78\"},\"y\":[0.0,0.23018591105937958,0.23018591105937958,0.0],\"type\":\"scatter\",\"fill\":\"toself\",\"hoverinfo\":\"skip\",\"yaxis\":\"y1\",\"x\":[10.23606797749979,10.23606797749979,11.650281539872886,11.650281539872886]},{\"showlegend\":false,\"mode\":\"lines\",\"line\":{\"color\":\"#FFBB78\"},\"y\":[0.5089638829231262,0.5089638829231262,null,0.5089638829231262,0.38161665201187134,null,0.5089638829231262,0.0,null],\"type\":\"scatter\",\"hoverinfo\":\"skip\",\"yaxis\":\"y1\",\"x\":[4.73606797749979,6.23606797749979,null,4.73606797749979,4.73606797749979,null,6.23606797749979,6.23606797749979,null]},{\"showlegend\":false,\"mode\":\"lines\",\"line\":{\"color\":\"#FFBB78\"},\"y\":[0.0,0.4030485153198242,0.4030485153198242,0.0],\"type\":\"scatter\",\"fill\":\"toself\",\"hoverinfo\":\"skip\",\"yaxis\":\"y1\",\"x\":[1.0,1.0,3.23606797749979,3.23606797749979]},{\"showlegend\":false,\"mode\":\"lines\",\"line\":{\"color\":\"#666666\"},\"y\":[0.6802340149879456,0.6802340149879456,null,0.6802340149879456,0.4030485153198242,null,0.6802340149879456,0.6230934262275696,null],\"type\":\"scatter\",\"hoverinfo\":\"skip\",\"yaxis\":\"y1\",\"x\":[2.118033988749895,14.178390756642,null,2.118033988749895,2.118033988749895,null,14.178390756642,14.178390756642,null]},{\"showlegend\":false,\"mode\":\"lines\",\"line\":{\"color\":\"#AEC7E8\"},\"y\":[0.440337210893631,0.440337210893631,null,0.440337210893631,0.35322806239128113,null,0.440337210893631,0.0,null],\"type\":\"scatter\",\"hoverinfo\":\"skip\",\"yaxis\":\"y1\",\"x\":[22.56449510224598,24.06449510224598,null,22.56449510224598,22.56449510224598,null,24.06449510224598,24.06449510224598,null]},{\"showlegend\":false,\"mode\":\"lines\",\"line\":{\"color\":\"#AEC7E8\"},\"y\":[0.5061310529708862,0.5061310529708862,null,0.5061310529708862,0.440337210893631,null,0.5061310529708862,0.4852750897407532,null],\"type\":\"scatter\",\"hoverinfo\":\"skip\",\"yaxis\":\"y1\",\"x\":[23.31449510224598,26.56449510224598,null,23.31449510224598,23.31449510224598,null,26.56449510224598,26.56449510224598,null]},{\"showlegend\":false,\"mode\":\"lines\",\"line\":{\"color\":\"#AEC7E8\"},\"y\":[0.0,0.35322806239128113,0.35322806239128113,0.0],\"type\":\"scatter\",\"fill\":\"toself\",\"hoverinfo\":\"skip\",\"yaxis\":\"y1\",\"x\":[22.06449510224598,22.06449510224598,23.06449510224598,23.06449510224598]},{\"showlegend\":false,\"mode\":\"lines\",\"line\":{\"color\":\"#666666\"},\"y\":[0.4755942225456238,0.4755942225456238,null,0.4755942225456238,0.0,null,0.4755942225456238,0.0,null],\"type\":\"scatter\",\"hoverinfo\":\"skip\",\"yaxis\":\"y1\",\"x\":[8.23606797749979,9.23606797749979,null,8.23606797749979,8.23606797749979,null,9.23606797749979,9.23606797749979,null]},{\"showlegend\":false,\"mode\":\"markers\",\"marker\":{\"color\":[\"#FFBB78\",\"#AEC7E8\",\"#FFBB78\",\"#666666\",\"#FFBB78\",\"#98DF8A\",\"#FFBB78\",\"#666666\",\"#FFBB78\",\"#AEC7E8\",\"#FFBB78\",\"#666666\",\"#666666\",\"#666666\",\"#FFBB78\",\"#AEC7E8\",\"#FFBB78\",\"#AEC7E8\",\"#FFBB78\",\"#FFBB78\",\"#FFBB78\",\"#666666\",\"#AEC7E8\",\"#AEC7E8\",\"#AEC7E8\",\"#666666\"],\"size\":[4,4,8,4,4,8,8,8,4,8,4,8,4,4,4,8,4,8,8,4,8,8,8,8,8,4]},\"y\":[0.43372875452041626,0.4852750897407532,0.45085135102272034,0.6230934262275696,0.4139551818370819,0.3289227783679962,0.38161665201187134,0.5224559903144836,0.503963828086853,0.0005715918960049748,0.5116816163063049,0.8133111596107483,0.5185286402702332,0.7133318185806274,0.44436395168304443,0.4599737524986267,0.47788742184638977,0.564881443977356,0.23018591105937958,0.5089638829231262,0.4030485153198242,0.6802340149879456,0.440337210893631,0.5061310529708862,0.35322806239128113,0.4755942225456238],\"type\":\"scatter\",\"customdata\":[[47,6,\"brasiliense\"],[54,4,\"carotovorum\"],[50,8,\"brasiliense\"],[62,17,\"(mixed)\"],[46,3,\"brasiliense\"],[39,2,\"odoriferum\"],[43,2,\"brasiliense\"],[60,16,\"(mixed)\"],[55,10,\"brasiliense\"],[34,2,\"carotovorum\"],[58,4,\"brasiliense\"],[65,33,\"(mixed)\"],[59,12,\"(mixed)\"],[64,10,\"(mixed)\"],[49,2,\"brasiliense\"],[51,2,\"carotovorum\"],[53,2,\"brasiliense\"],[61,8,\"carotovorum\"],[38,3,\"brasiliense\"],[57,3,\"brasiliense\"],[45,6,\"brasiliense\"],[63,23,\"(mixed)\"],[48,3,\"carotovorum\"],[56,7,\"carotovorum\"],[41,2,\"carotovorum\"],[52,2,\"(mixed)\"]],\"yaxis\":\"y1\",\"hovertemplate\":\"ID: %{customdata[0]}<br>\\nHeight: %{y:.3f}<br>\\nGenome count: %{customdata[1]}\\n<br>\\n%{customdata[2]}\\n<extra></extra>\",\"x\":[12.150281539872886,26.56449510224598,13.857388321059434,14.178390756642,13.357388321059434,20.56449510224598,4.73606797749979,9.29228641103802,15.710941711652708,25.56449510224598,6.36106797749979,15.965728737470965,12.223504844576249,23.78324510224598,15.564495102245981,27.56449510224598,17.56449510224598,27.00199510224598,10.943174758686338,5.48606797749979,2.118033988749895,8.148212372695948,23.31449510224598,24.93949510224598,22.56449510224598,8.73606797749979]},{\"colorscale\":[[0.0,\"#666666\"],[0.1,\"#AEC7E8\"],[0.2,\"#FFBB78\"],[0.3,\"#98DF8A\"],[0.4,\"#FF9896\"],[0.5,\"#C5B0D5\"],[0.6,\"#C49C94\"],[0.7,\"#F7B6D2\"],[0.8,\"#C7C7C7\"],[0.9,\"#DBDB8D\"],[1.0,\"#9EDAE5\"]],\"yaxis\":\"y2\",\"showscale\":false,\"x\":[0.5,3.73606797749979,5.73606797749979,6.73606797749979,7.73606797749979,8.73606797749979,9.73606797749979,12.150281539872886,14.564495102245981,15.564495102245981,16.56449510224598,17.56449510224598,18.56449510224598,19.56449510224598,21.56449510224598,23.56449510224598,24.56449510224598,26.56449510224598,27.56449510224598,28.56449510224598,29.56449510224598],\"customdata\":[[[\"ID 45\",\"brasiliense\"],[\"ID 43\",\"brasiliense\"],[\"Genome 25\",\"brasiliense\"],[\"Genome 21\",\"brasiliense\"],[\"Genome 2\",\"carotovorum\"],[\"Genome 12\",\"brasiliense\"],[\"ID 38\",\"brasiliense\"],[\"ID 46\",\"brasiliense\"],[\"Genome 11\",\"brasiliense\"],[\"Genome 27\",\"brasiliense\"],[\"Genome 20\",\"brasiliense\"],[\"Genome 24\",\"brasiliense\"],[\"Genome 13\",\"brasiliense\"],[\"ID 39\",\"odoriferum\"],[\"ID 41\",\"carotovorum\"],[\"Genome 6\",\"carotovorum\"],[\"ID 34\",\"carotovorum\"],[\"Genome 5\",\"carotovorum\"],[\"Genome 7\",\"carotovorum\"],[\"Genome 4\",\"carotovorum\"]]],\"zmin\":0,\"z\":[[2,2,2,2,1,2,2,2,2,2,2,2,2,3,1,1,1,1,1,1]],\"zmax\":10,\"type\":\"heatmap\",\"xgap\":1,\"hovertemplate\":\"%{customdata[0]} <br>\\n%{customdata[1]}\\n<extra></extra>\\n\"}],{\"xaxis\":{\"visible\":false},\"hovermode\":\"closest\",\"margin\":{\"l\":50,\"b\":50,\"r\":50,\"t\":60},\"yaxis2\":{\"visible\":false,\"domain\":[0.0,0.05],\"fixedrange\":true}},{}); gd.on(\"plotly_hover\",(function (data){var filtered_data=WebIO.PlotlyCommands.filterEventData(gd,data,\"hover\"); return !(filtered_data.isnil) ? (WebIO.setval({\"name\":\"hover\",\"scope\":\"6120510305658030178\",\"id\":\"3593516524217036760\",\"type\":\"observable\"},filtered_data.out)) : undefined})); gd.on(\"plotly_unhover\",(function (){return WebIO.setval({\"name\":\"hover\",\"scope\":\"6120510305658030178\",\"id\":\"3593516524217036760\",\"type\":\"observable\"},{})})); gd.on(\"plotly_selected\",(function (data){var filtered_data=WebIO.PlotlyCommands.filterEventData(gd,data,\"selected\"); return !(filtered_data.isnil) ? (WebIO.setval({\"name\":\"selected\",\"scope\":\"6120510305658030178\",\"id\":\"17049770298597989732\",\"type\":\"observable\"},filtered_data.out)) : undefined})); gd.on(\"plotly_deselect\",(function (){return WebIO.setval({\"name\":\"selected\",\"scope\":\"6120510305658030178\",\"id\":\"17049770298597989732\",\"type\":\"observable\"},{})})); gd.on(\"plotly_relayout\",(function (data){var filtered_data=WebIO.PlotlyCommands.filterEventData(gd,data,\"relayout\"); return !(filtered_data.isnil) ? (WebIO.setval({\"name\":\"relayout\",\"scope\":\"6120510305658030178\",\"id\":\"10663922845877415512\",\"type\":\"observable\"},filtered_data.out)) : undefined})); return gd.on(\"plotly_click\",(function (data){var filtered_data=WebIO.PlotlyCommands.filterEventData(gd,data,\"click\"); return !(filtered_data.isnil) ? (WebIO.setval({\"name\":\"click\",\"scope\":\"6120510305658030178\",\"id\":\"15625535054257097335\",\"type\":\"observable\"},filtered_data.out)) : undefined}))}));\n    (WebIO.importBlock({\"data\":[{\"name\":\"Plotly\",\"type\":\"js\",\"url\":\"/assetserver/e6903599031aaef8675931dfcd7df98a1aeffbfc-plotly-latest.min.js\"},{\"name\":null,\"type\":\"js\",\"url\":\"/assetserver/74a5dea81f21b0b802ef1ee92f1c8a504eac1a0c-plotly_webio.bundle.js\"}],\"type\":\"async_block\"})).then((imports) => handler.apply(this, imports));\n}\n"
        ],
        "observables": {
         "__gd_contents": {
          "id": "14013526592721666772",
          "sync": false,
          "value": {}
         },
         "__get_gd_contents": {
          "id": "9161510011925338802",
          "sync": false,
          "value": ""
         },
         "_commands": {
          "id": "3598216972935169565",
          "sync": false,
          "value": []
         },
         "_downloadImage": {
          "id": "18255285467159573729",
          "sync": false,
          "value": {}
         },
         "_toImage": {
          "id": "12094277559624478297",
          "sync": false,
          "value": {}
         },
         "click": {
          "id": "15625535054257097335",
          "sync": false,
          "value": {}
         },
         "hover": {
          "id": "3593516524217036760",
          "sync": false,
          "value": {}
         },
         "image": {
          "id": "5716304499948056457",
          "sync": true,
          "value": ""
         },
         "relayout": {
          "id": "10663922845877415512",
          "sync": false,
          "value": {}
         },
         "selected": {
          "id": "17049770298597989732",
          "sync": false,
          "value": {}
         }
        },
        "systemjs_options": null
       },
       "nodeType": "Scope",
       "props": {},
       "type": "node"
      },
      "text/html": [
       "<div\n",
       "    class=\"webio-mountpoint\"\n",
       "    data-webio-mountpoint=\"11826303989512909883\"\n",
       ">\n",
       "    <script>\n",
       "    if (window.require && require.defined && require.defined(\"nbextensions/webio-jupyter-notebook\")) {\n",
       "        console.log(\"Jupyter WebIO extension detected, not mounting.\");\n",
       "    } else if (window.WebIO) {\n",
       "        WebIO.mount(\n",
       "            document.querySelector('[data-webio-mountpoint=\"11826303989512909883\"]'),\n",
       "            {\"props\":{},\"nodeType\":\"Scope\",\"type\":\"node\",\"instanceArgs\":{\"imports\":{\"data\":[{\"name\":\"Plotly\",\"type\":\"js\",\"url\":\"\\/assetserver\\/e6903599031aaef8675931dfcd7df98a1aeffbfc-plotly-latest.min.js\"},{\"name\":null,\"type\":\"js\",\"url\":\"\\/assetserver\\/74a5dea81f21b0b802ef1ee92f1c8a504eac1a0c-plotly_webio.bundle.js\"}],\"type\":\"async_block\"},\"id\":\"6120510305658030178\",\"handlers\":{\"_toImage\":[\"(function (options){return this.Plotly.toImage(this.plotElem,options).then((function (data){return WebIO.setval({\\\"name\\\":\\\"image\\\",\\\"scope\\\":\\\"6120510305658030178\\\",\\\"id\\\":\\\"5716304499948056457\\\",\\\"type\\\":\\\"observable\\\"},data)}))})\"],\"__get_gd_contents\":[\"(function (prop){prop==\\\"data\\\" ? (WebIO.setval({\\\"name\\\":\\\"__gd_contents\\\",\\\"scope\\\":\\\"6120510305658030178\\\",\\\"id\\\":\\\"14013526592721666772\\\",\\\"type\\\":\\\"observable\\\"},this.plotElem.data)) : undefined; return prop==\\\"layout\\\" ? (WebIO.setval({\\\"name\\\":\\\"__gd_contents\\\",\\\"scope\\\":\\\"6120510305658030178\\\",\\\"id\\\":\\\"14013526592721666772\\\",\\\"type\\\":\\\"observable\\\"},this.plotElem.layout)) : undefined})\"],\"_downloadImage\":[\"(function (options){return this.Plotly.downloadImage(this.plotElem,options)})\"],\"_commands\":[\"(function (args){var fn=args.shift(); var elem=this.plotElem; var Plotly=this.Plotly; args.unshift(elem); return Plotly[fn].apply(this,args)})\"]},\"systemjs_options\":null,\"mount_callbacks\":[\"function () {\\n    var handler = ((function (Plotly,PlotlyWebIO){PlotlyWebIO.init(WebIO); var gd=this.dom.querySelector(\\\"#plot-9c2143db-5545-4fd5-abc1-b34fb6120fb0\\\"); this.plotElem=gd; this.Plotly=Plotly; (window.Blink!==undefined) ? (gd.style.width=\\\"100%\\\", gd.style.height=\\\"100vh\\\", gd.style.marginLeft=\\\"0%\\\", gd.style.marginTop=\\\"0vh\\\") : undefined; window.onresize=(function (){return Plotly.Plots.resize(gd)}); Plotly.newPlot(gd,[{\\\"showlegend\\\":false,\\\"mode\\\":\\\"lines\\\",\\\"line\\\":{\\\"color\\\":\\\"#FFBB78\\\"},\\\"y\\\":[0.43372875452041626,0.43372875452041626,null,0.43372875452041626,0.23018591105937958,null,0.43372875452041626,0.4139551818370819,null],\\\"type\\\":\\\"scatter\\\",\\\"hoverinfo\\\":\\\"skip\\\",\\\"yaxis\\\":\\\"y1\\\",\\\"x\\\":[10.943174758686338,13.357388321059434,null,10.943174758686338,10.943174758686338,null,13.357388321059434,13.357388321059434,null]},{\\\"showlegend\\\":false,\\\"mode\\\":\\\"lines\\\",\\\"line\\\":{\\\"color\\\":\\\"#AEC7E8\\\"},\\\"y\\\":[0.4852750897407532,0.4852750897407532,null,0.4852750897407532,0.0005715918960049748,null,0.4852750897407532,0.4599737524986267,null],\\\"type\\\":\\\"scatter\\\",\\\"hoverinfo\\\":\\\"skip\\\",\\\"yaxis\\\":\\\"y1\\\",\\\"x\\\":[25.56449510224598,27.56449510224598,null,25.56449510224598,25.56449510224598,null,27.56449510224598,27.56449510224598,null]},{\\\"showlegend\\\":false,\\\"mode\\\":\\\"lines\\\",\\\"line\\\":{\\\"color\\\":\\\"#FFBB78\\\"},\\\"y\\\":[0.45085135102272034,0.45085135102272034,null,0.45085135102272034,0.43372875452041626,null,0.45085135102272034,0.44436395168304443,null],\\\"type\\\":\\\"scatter\\\",\\\"hoverinfo\\\":\\\"skip\\\",\\\"yaxis\\\":\\\"y1\\\",\\\"x\\\":[12.150281539872886,15.564495102245981,null,12.150281539872886,12.150281539872886,null,15.564495102245981,15.564495102245981,null]},{\\\"showlegend\\\":false,\\\"mode\\\":\\\"lines\\\",\\\"line\\\":{\\\"color\\\":\\\"#666666\\\"},\\\"y\\\":[0.6230934262275696,0.6230934262275696,null,0.6230934262275696,0.5224559903144836,null,0.6230934262275696,0.0,null],\\\"type\\\":\\\"scatter\\\",\\\"hoverinfo\\\":\\\"skip\\\",\\\"yaxis\\\":\\\"y1\\\",\\\"x\\\":[9.29228641103802,19.06449510224598,null,9.29228641103802,9.29228641103802,null,19.06449510224598,19.06449510224598,null]},{\\\"showlegend\\\":false,\\\"mode\\\":\\\"lines\\\",\\\"line\\\":{\\\"color\\\":\\\"#98DF8A\\\"},\\\"y\\\":[0.0,0.3289227783679962,0.3289227783679962,0.0],\\\"type\\\":\\\"scatter\\\",\\\"fill\\\":\\\"toself\\\",\\\"hoverinfo\\\":\\\"skip\\\",\\\"yaxis\\\":\\\"y1\\\",\\\"x\\\":[20.06449510224598,20.06449510224598,21.06449510224598,21.06449510224598]},{\\\"showlegend\\\":false,\\\"mode\\\":\\\"lines\\\",\\\"line\\\":{\\\"color\\\":\\\"#FFBB78\\\"},\\\"y\\\":[0.0,0.4139551818370819,0.4139551818370819,0.0],\\\"type\\\":\\\"scatter\\\",\\\"fill\\\":\\\"toself\\\",\\\"hoverinfo\\\":\\\"skip\\\",\\\"yaxis\\\":\\\"y1\\\",\\\"x\\\":[12.650281539872886,12.650281539872886,14.064495102245981,14.064495102245981]},{\\\"showlegend\\\":false,\\\"mode\\\":\\\"lines\\\",\\\"line\\\":{\\\"color\\\":\\\"#FFBB78\\\"},\\\"y\\\":[0.0,0.38161665201187134,0.38161665201187134,0.0],\\\"type\\\":\\\"scatter\\\",\\\"fill\\\":\\\"toself\\\",\\\"hoverinfo\\\":\\\"skip\\\",\\\"yaxis\\\":\\\"y1\\\",\\\"x\\\":[4.23606797749979,4.23606797749979,5.23606797749979,5.23606797749979]},{\\\"showlegend\\\":false,\\\"mode\\\":\\\"lines\\\",\\\"line\\\":{\\\"color\\\":\\\"#666666\\\"},\\\"y\\\":[0.5224559903144836,0.5224559903144836,null,0.5224559903144836,0.5116816163063049,null,0.5224559903144836,0.5185286402702332,null],\\\"type\\\":\\\"scatter\\\",\\\"hoverinfo\\\":\\\"skip\\\",\\\"yaxis\\\":\\\"y1\\\",\\\"x\\\":[6.36106797749979,12.223504844576249,null,6.36106797749979,6.36106797749979,null,12.223504844576249,12.223504844576249,null]},{\\\"showlegend\\\":false,\\\"mode\\\":\\\"lines\\\",\\\"line\\\":{\\\"color\\\":\\\"#FFBB78\\\"},\\\"y\\\":[0.503963828086853,0.503963828086853,null,0.503963828086853,0.45085135102272034,null,0.503963828086853,0.47788742184638977,null],\\\"type\\\":\\\"scatter\\\",\\\"hoverinfo\\\":\\\"skip\\\",\\\"yaxis\\\":\\\"y1\\\",\\\"x\\\":[13.857388321059434,17.56449510224598,null,13.857388321059434,13.857388321059434,null,17.56449510224598,17.56449510224598,null]},{\\\"showlegend\\\":false,\\\"mode\\\":\\\"lines\\\",\\\"line\\\":{\\\"color\\\":\\\"#AEC7E8\\\"},\\\"y\\\":[0.0,0.0005715918960049748,0.0005715918960049748,0.0],\\\"type\\\":\\\"scatter\\\",\\\"fill\\\":\\\"toself\\\",\\\"hoverinfo\\\":\\\"skip\\\",\\\"yaxis\\\":\\\"y1\\\",\\\"x\\\":[25.06449510224598,25.06449510224598,26.06449510224598,26.06449510224598]},{\\\"showlegend\\\":false,\\\"mode\\\":\\\"lines\\\",\\\"line\\\":{\\\"color\\\":\\\"#FFBB78\\\"},\\\"y\\\":[0.5116816163063049,0.5116816163063049,null,0.5116816163063049,0.5089638829231262,null,0.5116816163063049,0.0,null],\\\"type\\\":\\\"scatter\\\",\\\"hoverinfo\\\":\\\"skip\\\",\\\"yaxis\\\":\\\"y1\\\",\\\"x\\\":[5.48606797749979,7.23606797749979,null,5.48606797749979,5.48606797749979,null,7.23606797749979,7.23606797749979,null]},{\\\"showlegend\\\":false,\\\"mode\\\":\\\"lines\\\",\\\"line\\\":{\\\"color\\\":\\\"#666666\\\"},\\\"y\\\":[0.8133111596107483,0.8133111596107483,null,0.8133111596107483,0.6802340149879456,null,0.8133111596107483,0.7133318185806274,null],\\\"type\\\":\\\"scatter\\\",\\\"hoverinfo\\\":\\\"skip\\\",\\\"yaxis\\\":\\\"y1\\\",\\\"x\\\":[8.148212372695948,23.78324510224598,null,8.148212372695948,8.148212372695948,null,23.78324510224598,23.78324510224598,null]},{\\\"showlegend\\\":false,\\\"mode\\\":\\\"lines\\\",\\\"line\\\":{\\\"color\\\":\\\"#666666\\\"},\\\"y\\\":[0.5185286402702332,0.5185286402702332,null,0.5185286402702332,0.4755942225456238,null,0.5185286402702332,0.503963828086853,null],\\\"type\\\":\\\"scatter\\\",\\\"hoverinfo\\\":\\\"skip\\\",\\\"yaxis\\\":\\\"y1\\\",\\\"x\\\":[8.73606797749979,15.710941711652708,null,8.73606797749979,8.73606797749979,null,15.710941711652708,15.710941711652708,null]},{\\\"showlegend\\\":false,\\\"mode\\\":\\\"lines\\\",\\\"line\\\":{\\\"color\\\":\\\"#666666\\\"},\\\"y\\\":[0.7133318185806274,0.7133318185806274,null,0.7133318185806274,0.3289227783679962,null,0.7133318185806274,0.564881443977356,null],\\\"type\\\":\\\"scatter\\\",\\\"hoverinfo\\\":\\\"skip\\\",\\\"yaxis\\\":\\\"y1\\\",\\\"x\\\":[20.56449510224598,27.00199510224598,null,20.56449510224598,20.56449510224598,null,27.00199510224598,27.00199510224598,null]},{\\\"showlegend\\\":false,\\\"mode\\\":\\\"lines\\\",\\\"line\\\":{\\\"color\\\":\\\"#FFBB78\\\"},\\\"y\\\":[0.44436395168304443,0.44436395168304443,null,0.44436395168304443,0.0,null,0.44436395168304443,0.0,null],\\\"type\\\":\\\"scatter\\\",\\\"hoverinfo\\\":\\\"skip\\\",\\\"yaxis\\\":\\\"y1\\\",\\\"x\\\":[15.064495102245981,16.06449510224598,null,15.064495102245981,15.064495102245981,null,16.06449510224598,16.06449510224598,null]},{\\\"showlegend\\\":false,\\\"mode\\\":\\\"lines\\\",\\\"line\\\":{\\\"color\\\":\\\"#AEC7E8\\\"},\\\"y\\\":[0.4599737524986267,0.4599737524986267,null,0.4599737524986267,0.0,null,0.4599737524986267,0.0,null],\\\"type\\\":\\\"scatter\\\",\\\"hoverinfo\\\":\\\"skip\\\",\\\"yaxis\\\":\\\"y1\\\",\\\"x\\\":[27.06449510224598,28.06449510224598,null,27.06449510224598,27.06449510224598,null,28.06449510224598,28.06449510224598,null]},{\\\"showlegend\\\":false,\\\"mode\\\":\\\"lines\\\",\\\"line\\\":{\\\"color\\\":\\\"#FFBB78\\\"},\\\"y\\\":[0.47788742184638977,0.47788742184638977,null,0.47788742184638977,0.0,null,0.47788742184638977,0.0,null],\\\"type\\\":\\\"scatter\\\",\\\"hoverinfo\\\":\\\"skip\\\",\\\"yaxis\\\":\\\"y1\\\",\\\"x\\\":[17.06449510224598,18.06449510224598,null,17.06449510224598,17.06449510224598,null,18.06449510224598,18.06449510224598,null]},{\\\"showlegend\\\":false,\\\"mode\\\":\\\"lines\\\",\\\"line\\\":{\\\"color\\\":\\\"#AEC7E8\\\"},\\\"y\\\":[0.564881443977356,0.564881443977356,null,0.564881443977356,0.5061310529708862,null,0.564881443977356,0.0,null],\\\"type\\\":\\\"scatter\\\",\\\"hoverinfo\\\":\\\"skip\\\",\\\"yaxis\\\":\\\"y1\\\",\\\"x\\\":[24.93949510224598,29.06449510224598,null,24.93949510224598,24.93949510224598,null,29.06449510224598,29.06449510224598,null]},{\\\"showlegend\\\":false,\\\"mode\\\":\\\"lines\\\",\\\"line\\\":{\\\"color\\\":\\\"#FFBB78\\\"},\\\"y\\\":[0.0,0.23018591105937958,0.23018591105937958,0.0],\\\"type\\\":\\\"scatter\\\",\\\"fill\\\":\\\"toself\\\",\\\"hoverinfo\\\":\\\"skip\\\",\\\"yaxis\\\":\\\"y1\\\",\\\"x\\\":[10.23606797749979,10.23606797749979,11.650281539872886,11.650281539872886]},{\\\"showlegend\\\":false,\\\"mode\\\":\\\"lines\\\",\\\"line\\\":{\\\"color\\\":\\\"#FFBB78\\\"},\\\"y\\\":[0.5089638829231262,0.5089638829231262,null,0.5089638829231262,0.38161665201187134,null,0.5089638829231262,0.0,null],\\\"type\\\":\\\"scatter\\\",\\\"hoverinfo\\\":\\\"skip\\\",\\\"yaxis\\\":\\\"y1\\\",\\\"x\\\":[4.73606797749979,6.23606797749979,null,4.73606797749979,4.73606797749979,null,6.23606797749979,6.23606797749979,null]},{\\\"showlegend\\\":false,\\\"mode\\\":\\\"lines\\\",\\\"line\\\":{\\\"color\\\":\\\"#FFBB78\\\"},\\\"y\\\":[0.0,0.4030485153198242,0.4030485153198242,0.0],\\\"type\\\":\\\"scatter\\\",\\\"fill\\\":\\\"toself\\\",\\\"hoverinfo\\\":\\\"skip\\\",\\\"yaxis\\\":\\\"y1\\\",\\\"x\\\":[1.0,1.0,3.23606797749979,3.23606797749979]},{\\\"showlegend\\\":false,\\\"mode\\\":\\\"lines\\\",\\\"line\\\":{\\\"color\\\":\\\"#666666\\\"},\\\"y\\\":[0.6802340149879456,0.6802340149879456,null,0.6802340149879456,0.4030485153198242,null,0.6802340149879456,0.6230934262275696,null],\\\"type\\\":\\\"scatter\\\",\\\"hoverinfo\\\":\\\"skip\\\",\\\"yaxis\\\":\\\"y1\\\",\\\"x\\\":[2.118033988749895,14.178390756642,null,2.118033988749895,2.118033988749895,null,14.178390756642,14.178390756642,null]},{\\\"showlegend\\\":false,\\\"mode\\\":\\\"lines\\\",\\\"line\\\":{\\\"color\\\":\\\"#AEC7E8\\\"},\\\"y\\\":[0.440337210893631,0.440337210893631,null,0.440337210893631,0.35322806239128113,null,0.440337210893631,0.0,null],\\\"type\\\":\\\"scatter\\\",\\\"hoverinfo\\\":\\\"skip\\\",\\\"yaxis\\\":\\\"y1\\\",\\\"x\\\":[22.56449510224598,24.06449510224598,null,22.56449510224598,22.56449510224598,null,24.06449510224598,24.06449510224598,null]},{\\\"showlegend\\\":false,\\\"mode\\\":\\\"lines\\\",\\\"line\\\":{\\\"color\\\":\\\"#AEC7E8\\\"},\\\"y\\\":[0.5061310529708862,0.5061310529708862,null,0.5061310529708862,0.440337210893631,null,0.5061310529708862,0.4852750897407532,null],\\\"type\\\":\\\"scatter\\\",\\\"hoverinfo\\\":\\\"skip\\\",\\\"yaxis\\\":\\\"y1\\\",\\\"x\\\":[23.31449510224598,26.56449510224598,null,23.31449510224598,23.31449510224598,null,26.56449510224598,26.56449510224598,null]},{\\\"showlegend\\\":false,\\\"mode\\\":\\\"lines\\\",\\\"line\\\":{\\\"color\\\":\\\"#AEC7E8\\\"},\\\"y\\\":[0.0,0.35322806239128113,0.35322806239128113,0.0],\\\"type\\\":\\\"scatter\\\",\\\"fill\\\":\\\"toself\\\",\\\"hoverinfo\\\":\\\"skip\\\",\\\"yaxis\\\":\\\"y1\\\",\\\"x\\\":[22.06449510224598,22.06449510224598,23.06449510224598,23.06449510224598]},{\\\"showlegend\\\":false,\\\"mode\\\":\\\"lines\\\",\\\"line\\\":{\\\"color\\\":\\\"#666666\\\"},\\\"y\\\":[0.4755942225456238,0.4755942225456238,null,0.4755942225456238,0.0,null,0.4755942225456238,0.0,null],\\\"type\\\":\\\"scatter\\\",\\\"hoverinfo\\\":\\\"skip\\\",\\\"yaxis\\\":\\\"y1\\\",\\\"x\\\":[8.23606797749979,9.23606797749979,null,8.23606797749979,8.23606797749979,null,9.23606797749979,9.23606797749979,null]},{\\\"showlegend\\\":false,\\\"mode\\\":\\\"markers\\\",\\\"marker\\\":{\\\"color\\\":[\\\"#FFBB78\\\",\\\"#AEC7E8\\\",\\\"#FFBB78\\\",\\\"#666666\\\",\\\"#FFBB78\\\",\\\"#98DF8A\\\",\\\"#FFBB78\\\",\\\"#666666\\\",\\\"#FFBB78\\\",\\\"#AEC7E8\\\",\\\"#FFBB78\\\",\\\"#666666\\\",\\\"#666666\\\",\\\"#666666\\\",\\\"#FFBB78\\\",\\\"#AEC7E8\\\",\\\"#FFBB78\\\",\\\"#AEC7E8\\\",\\\"#FFBB78\\\",\\\"#FFBB78\\\",\\\"#FFBB78\\\",\\\"#666666\\\",\\\"#AEC7E8\\\",\\\"#AEC7E8\\\",\\\"#AEC7E8\\\",\\\"#666666\\\"],\\\"size\\\":[4,4,8,4,4,8,8,8,4,8,4,8,4,4,4,8,4,8,8,4,8,8,8,8,8,4]},\\\"y\\\":[0.43372875452041626,0.4852750897407532,0.45085135102272034,0.6230934262275696,0.4139551818370819,0.3289227783679962,0.38161665201187134,0.5224559903144836,0.503963828086853,0.0005715918960049748,0.5116816163063049,0.8133111596107483,0.5185286402702332,0.7133318185806274,0.44436395168304443,0.4599737524986267,0.47788742184638977,0.564881443977356,0.23018591105937958,0.5089638829231262,0.4030485153198242,0.6802340149879456,0.440337210893631,0.5061310529708862,0.35322806239128113,0.4755942225456238],\\\"type\\\":\\\"scatter\\\",\\\"customdata\\\":[[47,6,\\\"brasiliense\\\"],[54,4,\\\"carotovorum\\\"],[50,8,\\\"brasiliense\\\"],[62,17,\\\"(mixed)\\\"],[46,3,\\\"brasiliense\\\"],[39,2,\\\"odoriferum\\\"],[43,2,\\\"brasiliense\\\"],[60,16,\\\"(mixed)\\\"],[55,10,\\\"brasiliense\\\"],[34,2,\\\"carotovorum\\\"],[58,4,\\\"brasiliense\\\"],[65,33,\\\"(mixed)\\\"],[59,12,\\\"(mixed)\\\"],[64,10,\\\"(mixed)\\\"],[49,2,\\\"brasiliense\\\"],[51,2,\\\"carotovorum\\\"],[53,2,\\\"brasiliense\\\"],[61,8,\\\"carotovorum\\\"],[38,3,\\\"brasiliense\\\"],[57,3,\\\"brasiliense\\\"],[45,6,\\\"brasiliense\\\"],[63,23,\\\"(mixed)\\\"],[48,3,\\\"carotovorum\\\"],[56,7,\\\"carotovorum\\\"],[41,2,\\\"carotovorum\\\"],[52,2,\\\"(mixed)\\\"]],\\\"yaxis\\\":\\\"y1\\\",\\\"hovertemplate\\\":\\\"ID: %{customdata[0]}<br>\\\\nHeight: %{y:.3f}<br>\\\\nGenome count: %{customdata[1]}\\\\n<br>\\\\n%{customdata[2]}\\\\n<extra><\\/extra>\\\",\\\"x\\\":[12.150281539872886,26.56449510224598,13.857388321059434,14.178390756642,13.357388321059434,20.56449510224598,4.73606797749979,9.29228641103802,15.710941711652708,25.56449510224598,6.36106797749979,15.965728737470965,12.223504844576249,23.78324510224598,15.564495102245981,27.56449510224598,17.56449510224598,27.00199510224598,10.943174758686338,5.48606797749979,2.118033988749895,8.148212372695948,23.31449510224598,24.93949510224598,22.56449510224598,8.73606797749979]},{\\\"colorscale\\\":[[0.0,\\\"#666666\\\"],[0.1,\\\"#AEC7E8\\\"],[0.2,\\\"#FFBB78\\\"],[0.3,\\\"#98DF8A\\\"],[0.4,\\\"#FF9896\\\"],[0.5,\\\"#C5B0D5\\\"],[0.6,\\\"#C49C94\\\"],[0.7,\\\"#F7B6D2\\\"],[0.8,\\\"#C7C7C7\\\"],[0.9,\\\"#DBDB8D\\\"],[1.0,\\\"#9EDAE5\\\"]],\\\"yaxis\\\":\\\"y2\\\",\\\"showscale\\\":false,\\\"x\\\":[0.5,3.73606797749979,5.73606797749979,6.73606797749979,7.73606797749979,8.73606797749979,9.73606797749979,12.150281539872886,14.564495102245981,15.564495102245981,16.56449510224598,17.56449510224598,18.56449510224598,19.56449510224598,21.56449510224598,23.56449510224598,24.56449510224598,26.56449510224598,27.56449510224598,28.56449510224598,29.56449510224598],\\\"customdata\\\":[[[\\\"ID 45\\\",\\\"brasiliense\\\"],[\\\"ID 43\\\",\\\"brasiliense\\\"],[\\\"Genome 25\\\",\\\"brasiliense\\\"],[\\\"Genome 21\\\",\\\"brasiliense\\\"],[\\\"Genome 2\\\",\\\"carotovorum\\\"],[\\\"Genome 12\\\",\\\"brasiliense\\\"],[\\\"ID 38\\\",\\\"brasiliense\\\"],[\\\"ID 46\\\",\\\"brasiliense\\\"],[\\\"Genome 11\\\",\\\"brasiliense\\\"],[\\\"Genome 27\\\",\\\"brasiliense\\\"],[\\\"Genome 20\\\",\\\"brasiliense\\\"],[\\\"Genome 24\\\",\\\"brasiliense\\\"],[\\\"Genome 13\\\",\\\"brasiliense\\\"],[\\\"ID 39\\\",\\\"odoriferum\\\"],[\\\"ID 41\\\",\\\"carotovorum\\\"],[\\\"Genome 6\\\",\\\"carotovorum\\\"],[\\\"ID 34\\\",\\\"carotovorum\\\"],[\\\"Genome 5\\\",\\\"carotovorum\\\"],[\\\"Genome 7\\\",\\\"carotovorum\\\"],[\\\"Genome 4\\\",\\\"carotovorum\\\"]]],\\\"zmin\\\":0,\\\"z\\\":[[2,2,2,2,1,2,2,2,2,2,2,2,2,3,1,1,1,1,1,1]],\\\"zmax\\\":10,\\\"type\\\":\\\"heatmap\\\",\\\"xgap\\\":1,\\\"hovertemplate\\\":\\\"%{customdata[0]} <br>\\\\n%{customdata[1]}\\\\n<extra><\\/extra>\\\\n\\\"}],{\\\"xaxis\\\":{\\\"visible\\\":false},\\\"hovermode\\\":\\\"closest\\\",\\\"margin\\\":{\\\"l\\\":50,\\\"b\\\":50,\\\"r\\\":50,\\\"t\\\":60},\\\"yaxis2\\\":{\\\"visible\\\":false,\\\"domain\\\":[0.0,0.05],\\\"fixedrange\\\":true}},{}); gd.on(\\\"plotly_hover\\\",(function (data){var filtered_data=WebIO.PlotlyCommands.filterEventData(gd,data,\\\"hover\\\"); return !(filtered_data.isnil) ? (WebIO.setval({\\\"name\\\":\\\"hover\\\",\\\"scope\\\":\\\"6120510305658030178\\\",\\\"id\\\":\\\"3593516524217036760\\\",\\\"type\\\":\\\"observable\\\"},filtered_data.out)) : undefined})); gd.on(\\\"plotly_unhover\\\",(function (){return WebIO.setval({\\\"name\\\":\\\"hover\\\",\\\"scope\\\":\\\"6120510305658030178\\\",\\\"id\\\":\\\"3593516524217036760\\\",\\\"type\\\":\\\"observable\\\"},{})})); gd.on(\\\"plotly_selected\\\",(function (data){var filtered_data=WebIO.PlotlyCommands.filterEventData(gd,data,\\\"selected\\\"); return !(filtered_data.isnil) ? (WebIO.setval({\\\"name\\\":\\\"selected\\\",\\\"scope\\\":\\\"6120510305658030178\\\",\\\"id\\\":\\\"17049770298597989732\\\",\\\"type\\\":\\\"observable\\\"},filtered_data.out)) : undefined})); gd.on(\\\"plotly_deselect\\\",(function (){return WebIO.setval({\\\"name\\\":\\\"selected\\\",\\\"scope\\\":\\\"6120510305658030178\\\",\\\"id\\\":\\\"17049770298597989732\\\",\\\"type\\\":\\\"observable\\\"},{})})); gd.on(\\\"plotly_relayout\\\",(function (data){var filtered_data=WebIO.PlotlyCommands.filterEventData(gd,data,\\\"relayout\\\"); return !(filtered_data.isnil) ? (WebIO.setval({\\\"name\\\":\\\"relayout\\\",\\\"scope\\\":\\\"6120510305658030178\\\",\\\"id\\\":\\\"10663922845877415512\\\",\\\"type\\\":\\\"observable\\\"},filtered_data.out)) : undefined})); return gd.on(\\\"plotly_click\\\",(function (data){var filtered_data=WebIO.PlotlyCommands.filterEventData(gd,data,\\\"click\\\"); return !(filtered_data.isnil) ? (WebIO.setval({\\\"name\\\":\\\"click\\\",\\\"scope\\\":\\\"6120510305658030178\\\",\\\"id\\\":\\\"15625535054257097335\\\",\\\"type\\\":\\\"observable\\\"},filtered_data.out)) : undefined}))}));\\n    (WebIO.importBlock({\\\"data\\\":[{\\\"name\\\":\\\"Plotly\\\",\\\"type\\\":\\\"js\\\",\\\"url\\\":\\\"\\/assetserver\\/e6903599031aaef8675931dfcd7df98a1aeffbfc-plotly-latest.min.js\\\"},{\\\"name\\\":null,\\\"type\\\":\\\"js\\\",\\\"url\\\":\\\"\\/assetserver\\/74a5dea81f21b0b802ef1ee92f1c8a504eac1a0c-plotly_webio.bundle.js\\\"}],\\\"type\\\":\\\"async_block\\\"})).then((imports) => handler.apply(this, imports));\\n}\\n\"],\"observables\":{\"_toImage\":{\"sync\":false,\"id\":\"12094277559624478297\",\"value\":{}},\"hover\":{\"sync\":false,\"id\":\"3593516524217036760\",\"value\":{}},\"selected\":{\"sync\":false,\"id\":\"17049770298597989732\",\"value\":{}},\"__gd_contents\":{\"sync\":false,\"id\":\"14013526592721666772\",\"value\":{}},\"click\":{\"sync\":false,\"id\":\"15625535054257097335\",\"value\":{}},\"image\":{\"sync\":true,\"id\":\"5716304499948056457\",\"value\":\"\"},\"__get_gd_contents\":{\"sync\":false,\"id\":\"9161510011925338802\",\"value\":\"\"},\"_downloadImage\":{\"sync\":false,\"id\":\"18255285467159573729\",\"value\":{}},\"relayout\":{\"sync\":false,\"id\":\"10663922845877415512\",\"value\":{}},\"_commands\":{\"sync\":false,\"id\":\"3598216972935169565\",\"value\":[]}}},\"children\":[{\"props\":{\"id\":\"plot-9c2143db-5545-4fd5-abc1-b34fb6120fb0\"},\"nodeType\":\"DOM\",\"type\":\"node\",\"instanceArgs\":{\"namespace\":\"html\",\"tag\":\"div\"},\"children\":[]}]},\n",
       "            window,\n",
       "        );\n",
       "    } else {\n",
       "        document\n",
       "            .querySelector('[data-webio-mountpoint=\"11826303989512909883\"]')\n",
       "            .innerHTML = (\n",
       "                '<div style=\"padding: 1em; background-color: #f8d6da; border: 1px solid #f5c6cb\">' +\n",
       "                '<p><strong>WebIO not detected.</strong></p>' +\n",
       "                '<p>Please read ' +\n",
       "                '<a href=\"https://juliagizmos.github.io/WebIO.jl/latest/troubleshooting/not-detected/\" target=\"_blank\">the troubleshooting guide</a> ' +\n",
       "                'for more information on how to resolve this issue.</p>' +\n",
       "                '<p><a href=\"https://juliagizmos.github.io/WebIO.jl/latest/troubleshooting/not-detected/\" target=\"_blank\">https://juliagizmos.github.io/WebIO.jl/latest/troubleshooting/not-detected/</a></p>' +\n",
       "                '</div>'\n",
       "            );\n",
       "    }\n",
       "    </script>\n",
       "</div>\n"
      ],
      "text/plain": [
       "data: [\n",
       "  \"scatter with fields hoverinfo, line, mode, showlegend, type, x, y, and yaxis\",\n",
       "  \"scatter with fields hoverinfo, line, mode, showlegend, type, x, y, and yaxis\",\n",
       "  \"scatter with fields hoverinfo, line, mode, showlegend, type, x, y, and yaxis\",\n",
       "  \"scatter with fields hoverinfo, line, mode, showlegend, type, x, y, and yaxis\",\n",
       "  \"scatter with fields fill, hoverinfo, line, mode, showlegend, type, x, y, and yaxis\",\n",
       "  \"scatter with fields fill, hoverinfo, line, mode, showlegend, type, x, y, and yaxis\",\n",
       "  \"scatter with fields fill, hoverinfo, line, mode, showlegend, type, x, y, and yaxis\",\n",
       "  \"scatter with fields hoverinfo, line, mode, showlegend, type, x, y, and yaxis\",\n",
       "  \"scatter with fields hoverinfo, line, mode, showlegend, type, x, y, and yaxis\",\n",
       "  \"scatter with fields fill, hoverinfo, line, mode, showlegend, type, x, y, and yaxis\",\n",
       "  \"scatter with fields hoverinfo, line, mode, showlegend, type, x, y, and yaxis\",\n",
       "  \"scatter with fields hoverinfo, line, mode, showlegend, type, x, y, and yaxis\",\n",
       "  \"scatter with fields hoverinfo, line, mode, showlegend, type, x, y, and yaxis\",\n",
       "  \"scatter with fields hoverinfo, line, mode, showlegend, type, x, y, and yaxis\",\n",
       "  \"scatter with fields hoverinfo, line, mode, showlegend, type, x, y, and yaxis\",\n",
       "  \"scatter with fields hoverinfo, line, mode, showlegend, type, x, y, and yaxis\",\n",
       "  \"scatter with fields hoverinfo, line, mode, showlegend, type, x, y, and yaxis\",\n",
       "  \"scatter with fields hoverinfo, line, mode, showlegend, type, x, y, and yaxis\",\n",
       "  \"scatter with fields fill, hoverinfo, line, mode, showlegend, type, x, y, and yaxis\",\n",
       "  \"scatter with fields hoverinfo, line, mode, showlegend, type, x, y, and yaxis\",\n",
       "  \"scatter with fields fill, hoverinfo, line, mode, showlegend, type, x, y, and yaxis\",\n",
       "  \"scatter with fields hoverinfo, line, mode, showlegend, type, x, y, and yaxis\",\n",
       "  \"scatter with fields hoverinfo, line, mode, showlegend, type, x, y, and yaxis\",\n",
       "  \"scatter with fields hoverinfo, line, mode, showlegend, type, x, y, and yaxis\",\n",
       "  \"scatter with fields fill, hoverinfo, line, mode, showlegend, type, x, y, and yaxis\",\n",
       "  \"scatter with fields hoverinfo, line, mode, showlegend, type, x, y, and yaxis\",\n",
       "  \"scatter with fields customdata, hovertemplate, marker, mode, showlegend, type, x, y, and yaxis\",\n",
       "  \"heatmap with fields colorscale, customdata, hovertemplate, showscale, type, x, xgap, yaxis, z, zmax, and zmin\"\n",
       "]\n",
       "\n",
       "layout: \"layout with fields hovermode, margin, xaxis, and yaxis2\"\n",
       "\n"
      ]
     },
     "execution_count": 4,
     "metadata": {},
     "output_type": "execute_result"
    }
   ],
   "source": [
    "trees[\"all\"] = cluster_annotate(cdata, 1:cdata.ntaxa)\n",
    "plot(dendrogram(cdata, trees[\"all\"]))"
   ]
  },
  {
   "cell_type": "markdown",
   "id": "three-closing",
   "metadata": {},
   "source": [
    "## Edits"
   ]
  },
  {
   "cell_type": "markdown",
   "id": "continental-import",
   "metadata": {},
   "source": [
    "### carotovorum"
   ]
  },
  {
   "cell_type": "code",
   "execution_count": 5,
   "id": "bizarre-thailand",
   "metadata": {},
   "outputs": [
    {
     "data": {
      "application/vnd.plotly.v1+json": {
       "data": [
        {
         "colorscale": [
          [
           0,
           "#000004"
          ],
          [
           0.00392156862745098,
           "#010005"
          ],
          [
           0.00784313725490196,
           "#010106"
          ],
          [
           0.011764705882352941,
           "#010108"
          ],
          [
           0.01568627450980392,
           "#020109"
          ],
          [
           0.0196078431372549,
           "#02020B"
          ],
          [
           0.023529411764705882,
           "#02020D"
          ],
          [
           0.027450980392156862,
           "#03030F"
          ],
          [
           0.03137254901960784,
           "#030312"
          ],
          [
           0.03529411764705882,
           "#040414"
          ],
          [
           0.0392156862745098,
           "#050416"
          ],
          [
           0.043137254901960784,
           "#060518"
          ],
          [
           0.047058823529411764,
           "#06051A"
          ],
          [
           0.050980392156862744,
           "#07061C"
          ],
          [
           0.054901960784313725,
           "#08071E"
          ],
          [
           0.058823529411764705,
           "#090720"
          ],
          [
           0.06274509803921569,
           "#0A0822"
          ],
          [
           0.06666666666666667,
           "#0B0924"
          ],
          [
           0.07058823529411765,
           "#0C0926"
          ],
          [
           0.07450980392156863,
           "#0D0A29"
          ],
          [
           0.0784313725490196,
           "#0E0B2B"
          ],
          [
           0.08235294117647059,
           "#100B2D"
          ],
          [
           0.08627450980392157,
           "#110C2F"
          ],
          [
           0.09019607843137255,
           "#120D31"
          ],
          [
           0.09411764705882353,
           "#130D34"
          ],
          [
           0.09803921568627451,
           "#140E36"
          ],
          [
           0.10196078431372549,
           "#150E38"
          ],
          [
           0.10588235294117647,
           "#160F3B"
          ],
          [
           0.10980392156862745,
           "#180F3D"
          ],
          [
           0.11372549019607843,
           "#19103F"
          ],
          [
           0.11764705882352941,
           "#1A1042"
          ],
          [
           0.12156862745098039,
           "#1C1044"
          ],
          [
           0.12549019607843137,
           "#1D1147"
          ],
          [
           0.12941176470588237,
           "#1E1149"
          ],
          [
           0.13333333333333333,
           "#20114B"
          ],
          [
           0.13725490196078433,
           "#21114E"
          ],
          [
           0.1411764705882353,
           "#221150"
          ],
          [
           0.1450980392156863,
           "#241253"
          ],
          [
           0.14901960784313725,
           "#251255"
          ],
          [
           0.15294117647058825,
           "#271258"
          ],
          [
           0.1568627450980392,
           "#29115A"
          ],
          [
           0.1607843137254902,
           "#2A115C"
          ],
          [
           0.16470588235294117,
           "#2C115F"
          ],
          [
           0.16862745098039217,
           "#2D1161"
          ],
          [
           0.17254901960784313,
           "#2F1163"
          ],
          [
           0.17647058823529413,
           "#311165"
          ],
          [
           0.1803921568627451,
           "#331067"
          ],
          [
           0.1843137254901961,
           "#341069"
          ],
          [
           0.18823529411764706,
           "#36106B"
          ],
          [
           0.19215686274509805,
           "#38106C"
          ],
          [
           0.19607843137254902,
           "#390F6E"
          ],
          [
           0.2,
           "#3B0F70"
          ],
          [
           0.20392156862745098,
           "#3D0F71"
          ],
          [
           0.20784313725490197,
           "#3F0F72"
          ],
          [
           0.21176470588235294,
           "#400F74"
          ],
          [
           0.21568627450980393,
           "#420F75"
          ],
          [
           0.2196078431372549,
           "#440F76"
          ],
          [
           0.2235294117647059,
           "#451077"
          ],
          [
           0.22745098039215686,
           "#471078"
          ],
          [
           0.23137254901960785,
           "#491078"
          ],
          [
           0.23529411764705882,
           "#4A1079"
          ],
          [
           0.23921568627450981,
           "#4C117A"
          ],
          [
           0.24313725490196078,
           "#4E117B"
          ],
          [
           0.24705882352941178,
           "#4F127B"
          ],
          [
           0.25098039215686274,
           "#51127C"
          ],
          [
           0.2549019607843137,
           "#52137C"
          ],
          [
           0.25882352941176473,
           "#54137D"
          ],
          [
           0.2627450980392157,
           "#56147D"
          ],
          [
           0.26666666666666666,
           "#57157E"
          ],
          [
           0.27058823529411763,
           "#59157E"
          ],
          [
           0.27450980392156865,
           "#5A167E"
          ],
          [
           0.2784313725490196,
           "#5C167F"
          ],
          [
           0.2823529411764706,
           "#5D177F"
          ],
          [
           0.28627450980392155,
           "#5F187F"
          ],
          [
           0.2901960784313726,
           "#601880"
          ],
          [
           0.29411764705882354,
           "#621980"
          ],
          [
           0.2980392156862745,
           "#641A80"
          ],
          [
           0.30196078431372547,
           "#651A80"
          ],
          [
           0.3058823529411765,
           "#671B80"
          ],
          [
           0.30980392156862746,
           "#681C81"
          ],
          [
           0.3137254901960784,
           "#6A1C81"
          ],
          [
           0.3176470588235294,
           "#6B1D81"
          ],
          [
           0.3215686274509804,
           "#6D1D81"
          ],
          [
           0.3254901960784314,
           "#6E1E81"
          ],
          [
           0.32941176470588235,
           "#701F81"
          ],
          [
           0.3333333333333333,
           "#721F81"
          ],
          [
           0.33725490196078434,
           "#732081"
          ],
          [
           0.3411764705882353,
           "#752181"
          ],
          [
           0.34509803921568627,
           "#762181"
          ],
          [
           0.34901960784313724,
           "#782281"
          ],
          [
           0.35294117647058826,
           "#792282"
          ],
          [
           0.3568627450980392,
           "#7B2382"
          ],
          [
           0.3607843137254902,
           "#7C2382"
          ],
          [
           0.36470588235294116,
           "#7E2482"
          ],
          [
           0.3686274509803922,
           "#802582"
          ],
          [
           0.37254901960784315,
           "#812581"
          ],
          [
           0.3764705882352941,
           "#832681"
          ],
          [
           0.3803921568627451,
           "#842681"
          ],
          [
           0.3843137254901961,
           "#862781"
          ],
          [
           0.38823529411764707,
           "#882781"
          ],
          [
           0.39215686274509803,
           "#892881"
          ],
          [
           0.396078431372549,
           "#8B2981"
          ],
          [
           0.4,
           "#8C2981"
          ],
          [
           0.403921568627451,
           "#8E2A81"
          ],
          [
           0.40784313725490196,
           "#902A81"
          ],
          [
           0.4117647058823529,
           "#912B81"
          ],
          [
           0.41568627450980394,
           "#932B80"
          ],
          [
           0.4196078431372549,
           "#942C80"
          ],
          [
           0.4235294117647059,
           "#962C80"
          ],
          [
           0.42745098039215684,
           "#982D80"
          ],
          [
           0.43137254901960786,
           "#992D80"
          ],
          [
           0.43529411764705883,
           "#9B2E7F"
          ],
          [
           0.4392156862745098,
           "#9C2E7F"
          ],
          [
           0.44313725490196076,
           "#9E2F7F"
          ],
          [
           0.4470588235294118,
           "#A02F7F"
          ],
          [
           0.45098039215686275,
           "#A1307E"
          ],
          [
           0.4549019607843137,
           "#A3307E"
          ],
          [
           0.4588235294117647,
           "#A5317E"
          ],
          [
           0.4627450980392157,
           "#A6317D"
          ],
          [
           0.4666666666666667,
           "#A8327D"
          ],
          [
           0.47058823529411764,
           "#AA337D"
          ],
          [
           0.4745098039215686,
           "#AB337C"
          ],
          [
           0.47843137254901963,
           "#AD347C"
          ],
          [
           0.4823529411764706,
           "#AE347B"
          ],
          [
           0.48627450980392156,
           "#B0357B"
          ],
          [
           0.49019607843137253,
           "#B2357B"
          ],
          [
           0.49411764705882355,
           "#B3367A"
          ],
          [
           0.4980392156862745,
           "#B5367A"
          ],
          [
           0.5019607843137255,
           "#B73779"
          ],
          [
           0.5058823529411764,
           "#B83779"
          ],
          [
           0.5098039215686274,
           "#BA3878"
          ],
          [
           0.5137254901960784,
           "#BC3978"
          ],
          [
           0.5176470588235295,
           "#BD3977"
          ],
          [
           0.5215686274509804,
           "#BF3A77"
          ],
          [
           0.5254901960784314,
           "#C03A76"
          ],
          [
           0.5294117647058824,
           "#C23B75"
          ],
          [
           0.5333333333333333,
           "#C43C75"
          ],
          [
           0.5372549019607843,
           "#C53C74"
          ],
          [
           0.5411764705882353,
           "#C73D73"
          ],
          [
           0.5450980392156862,
           "#C83E73"
          ],
          [
           0.5490196078431373,
           "#CA3E72"
          ],
          [
           0.5529411764705883,
           "#CC3F71"
          ],
          [
           0.5568627450980392,
           "#CD4071"
          ],
          [
           0.5607843137254902,
           "#CF4070"
          ],
          [
           0.5647058823529412,
           "#D0416F"
          ],
          [
           0.5686274509803921,
           "#D2426F"
          ],
          [
           0.5725490196078431,
           "#D3436E"
          ],
          [
           0.5764705882352941,
           "#D5446D"
          ],
          [
           0.5803921568627451,
           "#D6456C"
          ],
          [
           0.5843137254901961,
           "#D8456C"
          ],
          [
           0.5882352941176471,
           "#D9466B"
          ],
          [
           0.592156862745098,
           "#DB476A"
          ],
          [
           0.596078431372549,
           "#DC4869"
          ],
          [
           0.6,
           "#DE4968"
          ],
          [
           0.6039215686274509,
           "#DF4A68"
          ],
          [
           0.6078431372549019,
           "#E04C67"
          ],
          [
           0.611764705882353,
           "#E24D66"
          ],
          [
           0.615686274509804,
           "#E34E65"
          ],
          [
           0.6196078431372549,
           "#E44F64"
          ],
          [
           0.6235294117647059,
           "#E55064"
          ],
          [
           0.6274509803921569,
           "#E75263"
          ],
          [
           0.6313725490196078,
           "#E85362"
          ],
          [
           0.6352941176470588,
           "#E95462"
          ],
          [
           0.6392156862745098,
           "#EA5661"
          ],
          [
           0.6431372549019608,
           "#EB5760"
          ],
          [
           0.6470588235294118,
           "#EC5860"
          ],
          [
           0.6509803921568628,
           "#ED5A5F"
          ],
          [
           0.6549019607843137,
           "#EE5B5E"
          ],
          [
           0.6588235294117647,
           "#EF5D5E"
          ],
          [
           0.6627450980392157,
           "#F05F5E"
          ],
          [
           0.6666666666666666,
           "#F1605D"
          ],
          [
           0.6705882352941176,
           "#F2625D"
          ],
          [
           0.6745098039215687,
           "#F2645C"
          ],
          [
           0.6784313725490196,
           "#F3655C"
          ],
          [
           0.6823529411764706,
           "#F4675C"
          ],
          [
           0.6862745098039216,
           "#F4695C"
          ],
          [
           0.6901960784313725,
           "#F56B5C"
          ],
          [
           0.6941176470588235,
           "#F66C5C"
          ],
          [
           0.6980392156862745,
           "#F66E5C"
          ],
          [
           0.7019607843137254,
           "#F7705C"
          ],
          [
           0.7058823529411765,
           "#F7725C"
          ],
          [
           0.7098039215686275,
           "#F8745C"
          ],
          [
           0.7137254901960784,
           "#F8765C"
          ],
          [
           0.7176470588235294,
           "#F9785D"
          ],
          [
           0.7215686274509804,
           "#F9795D"
          ],
          [
           0.7254901960784313,
           "#F97B5D"
          ],
          [
           0.7294117647058823,
           "#FA7D5E"
          ],
          [
           0.7333333333333333,
           "#FA7F5E"
          ],
          [
           0.7372549019607844,
           "#FA815F"
          ],
          [
           0.7411764705882353,
           "#FB835F"
          ],
          [
           0.7450980392156863,
           "#FB8560"
          ],
          [
           0.7490196078431373,
           "#FB8761"
          ],
          [
           0.7529411764705882,
           "#FC8961"
          ],
          [
           0.7568627450980392,
           "#FC8A62"
          ],
          [
           0.7607843137254902,
           "#FC8C63"
          ],
          [
           0.7647058823529411,
           "#FC8E64"
          ],
          [
           0.7686274509803922,
           "#FC9065"
          ],
          [
           0.7725490196078432,
           "#FD9266"
          ],
          [
           0.7764705882352941,
           "#FD9467"
          ],
          [
           0.7803921568627451,
           "#FD9668"
          ],
          [
           0.7843137254901961,
           "#FD9869"
          ],
          [
           0.788235294117647,
           "#FD9A6A"
          ],
          [
           0.792156862745098,
           "#FD9B6B"
          ],
          [
           0.796078431372549,
           "#FE9D6C"
          ],
          [
           0.8,
           "#FE9F6D"
          ],
          [
           0.803921568627451,
           "#FEA16E"
          ],
          [
           0.807843137254902,
           "#FEA36F"
          ],
          [
           0.8117647058823529,
           "#FEA571"
          ],
          [
           0.8156862745098039,
           "#FEA772"
          ],
          [
           0.8196078431372549,
           "#FEA973"
          ],
          [
           0.8235294117647058,
           "#FEAA74"
          ],
          [
           0.8274509803921568,
           "#FEAC76"
          ],
          [
           0.8313725490196079,
           "#FEAE77"
          ],
          [
           0.8352941176470589,
           "#FEB078"
          ],
          [
           0.8392156862745098,
           "#FEB27A"
          ],
          [
           0.8431372549019608,
           "#FEB47B"
          ],
          [
           0.8470588235294118,
           "#FEB67C"
          ],
          [
           0.8509803921568627,
           "#FEB77E"
          ],
          [
           0.8549019607843137,
           "#FEB97F"
          ],
          [
           0.8588235294117647,
           "#FEBB81"
          ],
          [
           0.8627450980392157,
           "#FEBD82"
          ],
          [
           0.8666666666666667,
           "#FEBF84"
          ],
          [
           0.8705882352941177,
           "#FEC185"
          ],
          [
           0.8745098039215686,
           "#FEC287"
          ],
          [
           0.8784313725490196,
           "#FEC488"
          ],
          [
           0.8823529411764706,
           "#FEC68A"
          ],
          [
           0.8862745098039215,
           "#FEC88C"
          ],
          [
           0.8901960784313725,
           "#FECA8D"
          ],
          [
           0.8941176470588236,
           "#FECC8F"
          ],
          [
           0.8980392156862745,
           "#FECD90"
          ],
          [
           0.9019607843137255,
           "#FECF92"
          ],
          [
           0.9058823529411765,
           "#FED194"
          ],
          [
           0.9098039215686274,
           "#FED395"
          ],
          [
           0.9137254901960784,
           "#FED597"
          ],
          [
           0.9176470588235294,
           "#FED799"
          ],
          [
           0.9215686274509803,
           "#FED89A"
          ],
          [
           0.9254901960784314,
           "#FDDA9C"
          ],
          [
           0.9294117647058824,
           "#FDDC9E"
          ],
          [
           0.9333333333333333,
           "#FDDEA0"
          ],
          [
           0.9372549019607843,
           "#FDE0A1"
          ],
          [
           0.9411764705882353,
           "#FDE2A3"
          ],
          [
           0.9450980392156862,
           "#FDE3A5"
          ],
          [
           0.9490196078431372,
           "#FDE5A7"
          ],
          [
           0.9529411764705882,
           "#FDE7A9"
          ],
          [
           0.9568627450980393,
           "#FDE9AA"
          ],
          [
           0.9607843137254902,
           "#FDEBAC"
          ],
          [
           0.9647058823529412,
           "#FCECAE"
          ],
          [
           0.9686274509803922,
           "#FCEEB0"
          ],
          [
           0.9725490196078431,
           "#FCF0B2"
          ],
          [
           0.9764705882352941,
           "#FCF2B4"
          ],
          [
           0.9803921568627451,
           "#FCF4B6"
          ],
          [
           0.984313725490196,
           "#FCF6B8"
          ],
          [
           0.9882352941176471,
           "#FCF7B9"
          ],
          [
           0.9921568627450981,
           "#FCF9BB"
          ],
          [
           0.996078431372549,
           "#FCFBBD"
          ],
          [
           1,
           "#FCFDBF"
          ]
         ],
         "type": "heatmap",
         "x": [
          0.5,
          1.5,
          2.5,
          3.5,
          4.5,
          5.5,
          6.5,
          7.5,
          8.5,
          9.5
         ],
         "y": [
          0.5,
          1.5,
          2.5,
          3.5,
          4.5,
          5.5,
          6.5,
          7.5,
          8.5,
          9.5
         ],
         "z": [
          [
           0,
           0.35322806,
           0.4403372,
           0.46112326,
           0.4611346,
           0.4780042,
           0.50613105,
           0.5607433,
           0.74887735
          ],
          [
           0.35322806,
           0,
           0.4317919,
           0.45603153,
           0.45593172,
           0.4679098,
           0.49943528,
           0.5555856,
           0.7473359
          ],
          [
           0.4403372,
           0.4317919,
           0,
           0.48706958,
           0.4869669,
           0.47776994,
           0.50545883,
           0.56488144,
           0.74912834
          ],
          [
           0.46112326,
           0.45603153,
           0.48706958,
           0,
           0.0005715919,
           0.46670556,
           0.48516202,
           0.5484755,
           0.7538255
          ],
          [
           0.4611346,
           0.45593172,
           0.4869669,
           0.0005715919,
           0,
           0.46682706,
           0.4852751,
           0.54856163,
           0.7537662
          ],
          [
           0.4780042,
           0.4679098,
           0.47776994,
           0.46670556,
           0.46682706,
           0,
           0.45997375,
           0.5246403,
           0.7515767
          ],
          [
           0.50613105,
           0.49943528,
           0.50545883,
           0.48516202,
           0.4852751,
           0.45997375,
           0,
           0.5239251,
           0.7453471
          ],
          [
           0.5607433,
           0.5555856,
           0.56488144,
           0.5484755,
           0.54856163,
           0.5246403,
           0.5239251,
           0,
           0.7292035
          ],
          [
           0.74887735,
           0.7473359,
           0.74912834,
           0.7538255,
           0.7537662,
           0.7515767,
           0.7453471,
           0.7292035,
           0
          ]
         ]
        },
        {
         "hoverinfo": "skip",
         "line": {
          "color": "#666666"
         },
         "mode": "lines",
         "showlegend": false,
         "type": "scatter",
         "x": [
          0.4852750897407532,
          0.4852750897407532,
          null,
          0.4852750897407532,
          0.0005715918960049748,
          null,
          0.4852750897407532,
          0.4599737524986267,
          null
         ],
         "xaxis": "x2",
         "y": [
          4.5,
          6.5,
          null,
          4.5,
          4.5,
          null,
          6.5,
          6.5,
          null
         ],
         "yaxis": "y"
        },
        {
         "hoverinfo": "skip",
         "line": {
          "color": "#666666"
         },
         "mode": "lines",
         "showlegend": false,
         "type": "scatter",
         "x": [
          0.0005715918960049748,
          0.0005715918960049748,
          null,
          0.0005715918960049748,
          0,
          null,
          0.0005715918960049748,
          0,
          null
         ],
         "xaxis": "x2",
         "y": [
          4,
          5,
          null,
          4,
          4,
          null,
          5,
          5,
          null
         ],
         "yaxis": "y"
        },
        {
         "hoverinfo": "skip",
         "line": {
          "color": "#666666"
         },
         "mode": "lines",
         "showlegend": false,
         "type": "scatter",
         "x": [
          0.4599737524986267,
          0.4599737524986267,
          null,
          0.4599737524986267,
          0,
          null,
          0.4599737524986267,
          0,
          null
         ],
         "xaxis": "x2",
         "y": [
          6,
          7,
          null,
          6,
          6,
          null,
          7,
          7,
          null
         ],
         "yaxis": "y"
        },
        {
         "hoverinfo": "skip",
         "line": {
          "color": "#666666"
         },
         "mode": "lines",
         "showlegend": false,
         "type": "scatter",
         "x": [
          0.564881443977356,
          0.564881443977356,
          null,
          0.564881443977356,
          0.5061310529708862,
          null,
          0.564881443977356,
          0,
          null
         ],
         "xaxis": "x2",
         "y": [
          3.875,
          8,
          null,
          3.875,
          3.875,
          null,
          8,
          8,
          null
         ],
         "yaxis": "y"
        },
        {
         "hoverinfo": "skip",
         "line": {
          "color": "#666666"
         },
         "mode": "lines",
         "showlegend": false,
         "type": "scatter",
         "x": [
          0.7538254857063293,
          0.7538254857063293,
          null,
          0.7538254857063293,
          0.564881443977356,
          null,
          0.7538254857063293,
          0,
          null
         ],
         "xaxis": "x2",
         "y": [
          5.9375,
          9,
          null,
          5.9375,
          5.9375,
          null,
          9,
          9,
          null
         ],
         "yaxis": "y"
        },
        {
         "hoverinfo": "skip",
         "line": {
          "color": "#666666"
         },
         "mode": "lines",
         "showlegend": false,
         "type": "scatter",
         "x": [
          0.35322806239128113,
          0.35322806239128113,
          null,
          0.35322806239128113,
          0,
          null,
          0.35322806239128113,
          0,
          null
         ],
         "xaxis": "x2",
         "y": [
          1,
          2,
          null,
          1,
          1,
          null,
          2,
          2,
          null
         ],
         "yaxis": "y"
        },
        {
         "hoverinfo": "skip",
         "line": {
          "color": "#666666"
         },
         "mode": "lines",
         "showlegend": false,
         "type": "scatter",
         "x": [
          0.5061310529708862,
          0.5061310529708862,
          null,
          0.5061310529708862,
          0.440337210893631,
          null,
          0.5061310529708862,
          0.4852750897407532,
          null
         ],
         "xaxis": "x2",
         "y": [
          2.25,
          5.5,
          null,
          2.25,
          2.25,
          null,
          5.5,
          5.5,
          null
         ],
         "yaxis": "y"
        },
        {
         "hoverinfo": "skip",
         "line": {
          "color": "#666666"
         },
         "mode": "lines",
         "showlegend": false,
         "type": "scatter",
         "x": [
          0.440337210893631,
          0.440337210893631,
          null,
          0.440337210893631,
          0.35322806239128113,
          null,
          0.440337210893631,
          0,
          null
         ],
         "xaxis": "x2",
         "y": [
          1.5,
          3,
          null,
          1.5,
          1.5,
          null,
          3,
          3,
          null
         ],
         "yaxis": "y"
        },
        {
         "customdata": [
          [
           16,
           8
          ],
          [
           11,
           2
          ],
          [
           10,
           2
          ],
          [
           17,
           9
          ],
          [
           14,
           4
          ],
          [
           13,
           2
          ],
          [
           15,
           7
          ],
          [
           12,
           3
          ]
         ],
         "hovertemplate": "ID: %{customdata[0]}<br>\nHeight: %{x:.3f}<br>\nGenome count: %{customdata[1]}\n\n<extra></extra>",
         "marker": {
          "color": "#666666",
          "size": [
           8,
           8,
           8,
           8,
           4,
           8,
           8,
           8
          ]
         },
         "mode": "markers",
         "showlegend": false,
         "type": "scatter",
         "x": [
          0.564881443977356,
          0.35322806239128113,
          0.0005715918960049748,
          0.7538254857063293,
          0.4852750897407532,
          0.4599737524986267,
          0.5061310529708862,
          0.440337210893631
         ],
         "xaxis": "x2",
         "y": [
          5.9375,
          1.5,
          4.5,
          7.46875,
          5.5,
          6.5,
          3.875,
          2.25
         ],
         "yaxis": "y"
        },
        {
         "hovertemplate": "%{text} <br>\n%{x}\n<extra></extra>\n",
         "marker": {
          "color": "green",
          "line": {
           "color": "green",
           "width": 1
          },
          "symbol": "line-ns"
         },
         "mode": "markers",
         "text": [
          "brasiliense",
          "odoriferum"
         ],
         "type": "scatter",
         "x": [
          0.47074714,
          0.6731411
         ],
         "xaxis": "x2",
         "y": [
          -1,
          -1,
          -1
         ]
        }
       ],
       "frames": [],
       "layout": {
        "height": 550,
        "hovermode": "closest",
        "margin": {
         "b": 50,
         "l": 50,
         "r": 50,
         "t": 60
        },
        "showlegend": false,
        "width": 1000,
        "xaxis": {
         "autorange": true,
         "domain": [
          0.504950495049505,
          1
         ],
         "range": [
          -0.3827562488562428,
          10.382756248856243
         ],
         "scaleanchor": "y",
         "type": "linear",
         "visible": false
        },
        "xaxis2": {
         "autorange": true,
         "domain": [
          0,
          0.49504950495049505
         ],
         "range": [
          0.8035153255951252,
          0
         ],
         "rangemode": "nonnegative",
         "showspikes": true,
         "spikedash": "solid",
         "spikemode": "across",
         "spikethickness": 1,
         "type": "linear"
        },
        "yaxis": {
         "autorange": true,
         "domain": [
          0,
          1
         ],
         "range": [
          -1.6564690885914595,
          9.560866794136393
         ],
         "scaleanchor": "x",
         "type": "linear",
         "visible": false
        }
       }
      },
      "application/vnd.webio.node+json": {
       "children": [
        {
         "children": [],
         "instanceArgs": {
          "namespace": "html",
          "tag": "div"
         },
         "nodeType": "DOM",
         "props": {
          "id": "plot-20d116f9-cd37-47b9-9bff-26e4c1e692ca"
         },
         "type": "node"
        }
       ],
       "instanceArgs": {
        "handlers": {
         "__get_gd_contents": [
          "(function (prop){prop==\"data\" ? (WebIO.setval({\"name\":\"__gd_contents\",\"scope\":\"16573935363439401618\",\"id\":\"6674636942247147890\",\"type\":\"observable\"},this.plotElem.data)) : undefined; return prop==\"layout\" ? (WebIO.setval({\"name\":\"__gd_contents\",\"scope\":\"16573935363439401618\",\"id\":\"6674636942247147890\",\"type\":\"observable\"},this.plotElem.layout)) : undefined})"
         ],
         "_commands": [
          "(function (args){var fn=args.shift(); var elem=this.plotElem; var Plotly=this.Plotly; args.unshift(elem); return Plotly[fn].apply(this,args)})"
         ],
         "_downloadImage": [
          "(function (options){return this.Plotly.downloadImage(this.plotElem,options)})"
         ],
         "_toImage": [
          "(function (options){return this.Plotly.toImage(this.plotElem,options).then((function (data){return WebIO.setval({\"name\":\"image\",\"scope\":\"16573935363439401618\",\"id\":\"735879730376589331\",\"type\":\"observable\"},data)}))})"
         ]
        },
        "id": "16573935363439401618",
        "imports": {
         "data": [
          {
           "name": "Plotly",
           "type": "js",
           "url": "/assetserver/e6903599031aaef8675931dfcd7df98a1aeffbfc-plotly-latest.min.js"
          },
          {
           "name": null,
           "type": "js",
           "url": "/assetserver/74a5dea81f21b0b802ef1ee92f1c8a504eac1a0c-plotly_webio.bundle.js"
          }
         ],
         "type": "async_block"
        },
        "mount_callbacks": [
         "function () {\n    var handler = ((function (Plotly,PlotlyWebIO){PlotlyWebIO.init(WebIO); var gd=this.dom.querySelector(\"#plot-20d116f9-cd37-47b9-9bff-26e4c1e692ca\"); this.plotElem=gd; this.Plotly=Plotly; (window.Blink!==undefined) ? (gd.style.width=\"100%\", gd.style.height=\"100vh\", gd.style.marginLeft=\"0%\", gd.style.marginTop=\"0vh\") : undefined; window.onresize=(function (){return Plotly.Plots.resize(gd)}); Plotly.newPlot(gd,[{\"y\":[0.5,1.5,2.5,3.5,4.5,5.5,6.5,7.5,8.5,9.5],\"type\":\"heatmap\",\"colorscale\":[[0.0,\"#000004\"],[0.00392156862745098,\"#010005\"],[0.00784313725490196,\"#010106\"],[0.011764705882352941,\"#010108\"],[0.01568627450980392,\"#020109\"],[0.0196078431372549,\"#02020B\"],[0.023529411764705882,\"#02020D\"],[0.027450980392156862,\"#03030F\"],[0.03137254901960784,\"#030312\"],[0.03529411764705882,\"#040414\"],[0.0392156862745098,\"#050416\"],[0.043137254901960784,\"#060518\"],[0.047058823529411764,\"#06051A\"],[0.050980392156862744,\"#07061C\"],[0.054901960784313725,\"#08071E\"],[0.058823529411764705,\"#090720\"],[0.06274509803921569,\"#0A0822\"],[0.06666666666666667,\"#0B0924\"],[0.07058823529411765,\"#0C0926\"],[0.07450980392156863,\"#0D0A29\"],[0.0784313725490196,\"#0E0B2B\"],[0.08235294117647059,\"#100B2D\"],[0.08627450980392157,\"#110C2F\"],[0.09019607843137255,\"#120D31\"],[0.09411764705882353,\"#130D34\"],[0.09803921568627451,\"#140E36\"],[0.10196078431372549,\"#150E38\"],[0.10588235294117647,\"#160F3B\"],[0.10980392156862745,\"#180F3D\"],[0.11372549019607843,\"#19103F\"],[0.11764705882352941,\"#1A1042\"],[0.12156862745098039,\"#1C1044\"],[0.12549019607843137,\"#1D1147\"],[0.12941176470588237,\"#1E1149\"],[0.13333333333333333,\"#20114B\"],[0.13725490196078433,\"#21114E\"],[0.1411764705882353,\"#221150\"],[0.1450980392156863,\"#241253\"],[0.14901960784313725,\"#251255\"],[0.15294117647058825,\"#271258\"],[0.1568627450980392,\"#29115A\"],[0.1607843137254902,\"#2A115C\"],[0.16470588235294117,\"#2C115F\"],[0.16862745098039217,\"#2D1161\"],[0.17254901960784313,\"#2F1163\"],[0.17647058823529413,\"#311165\"],[0.1803921568627451,\"#331067\"],[0.1843137254901961,\"#341069\"],[0.18823529411764706,\"#36106B\"],[0.19215686274509805,\"#38106C\"],[0.19607843137254902,\"#390F6E\"],[0.2,\"#3B0F70\"],[0.20392156862745098,\"#3D0F71\"],[0.20784313725490197,\"#3F0F72\"],[0.21176470588235294,\"#400F74\"],[0.21568627450980393,\"#420F75\"],[0.2196078431372549,\"#440F76\"],[0.2235294117647059,\"#451077\"],[0.22745098039215686,\"#471078\"],[0.23137254901960785,\"#491078\"],[0.23529411764705882,\"#4A1079\"],[0.23921568627450981,\"#4C117A\"],[0.24313725490196078,\"#4E117B\"],[0.24705882352941178,\"#4F127B\"],[0.25098039215686274,\"#51127C\"],[0.2549019607843137,\"#52137C\"],[0.25882352941176473,\"#54137D\"],[0.2627450980392157,\"#56147D\"],[0.26666666666666666,\"#57157E\"],[0.27058823529411763,\"#59157E\"],[0.27450980392156865,\"#5A167E\"],[0.2784313725490196,\"#5C167F\"],[0.2823529411764706,\"#5D177F\"],[0.28627450980392155,\"#5F187F\"],[0.2901960784313726,\"#601880\"],[0.29411764705882354,\"#621980\"],[0.2980392156862745,\"#641A80\"],[0.30196078431372547,\"#651A80\"],[0.3058823529411765,\"#671B80\"],[0.30980392156862746,\"#681C81\"],[0.3137254901960784,\"#6A1C81\"],[0.3176470588235294,\"#6B1D81\"],[0.3215686274509804,\"#6D1D81\"],[0.3254901960784314,\"#6E1E81\"],[0.32941176470588235,\"#701F81\"],[0.3333333333333333,\"#721F81\"],[0.33725490196078434,\"#732081\"],[0.3411764705882353,\"#752181\"],[0.34509803921568627,\"#762181\"],[0.34901960784313724,\"#782281\"],[0.35294117647058826,\"#792282\"],[0.3568627450980392,\"#7B2382\"],[0.3607843137254902,\"#7C2382\"],[0.36470588235294116,\"#7E2482\"],[0.3686274509803922,\"#802582\"],[0.37254901960784315,\"#812581\"],[0.3764705882352941,\"#832681\"],[0.3803921568627451,\"#842681\"],[0.3843137254901961,\"#862781\"],[0.38823529411764707,\"#882781\"],[0.39215686274509803,\"#892881\"],[0.396078431372549,\"#8B2981\"],[0.4,\"#8C2981\"],[0.403921568627451,\"#8E2A81\"],[0.40784313725490196,\"#902A81\"],[0.4117647058823529,\"#912B81\"],[0.41568627450980394,\"#932B80\"],[0.4196078431372549,\"#942C80\"],[0.4235294117647059,\"#962C80\"],[0.42745098039215684,\"#982D80\"],[0.43137254901960786,\"#992D80\"],[0.43529411764705883,\"#9B2E7F\"],[0.4392156862745098,\"#9C2E7F\"],[0.44313725490196076,\"#9E2F7F\"],[0.4470588235294118,\"#A02F7F\"],[0.45098039215686275,\"#A1307E\"],[0.4549019607843137,\"#A3307E\"],[0.4588235294117647,\"#A5317E\"],[0.4627450980392157,\"#A6317D\"],[0.4666666666666667,\"#A8327D\"],[0.47058823529411764,\"#AA337D\"],[0.4745098039215686,\"#AB337C\"],[0.47843137254901963,\"#AD347C\"],[0.4823529411764706,\"#AE347B\"],[0.48627450980392156,\"#B0357B\"],[0.49019607843137253,\"#B2357B\"],[0.49411764705882355,\"#B3367A\"],[0.4980392156862745,\"#B5367A\"],[0.5019607843137255,\"#B73779\"],[0.5058823529411764,\"#B83779\"],[0.5098039215686274,\"#BA3878\"],[0.5137254901960784,\"#BC3978\"],[0.5176470588235295,\"#BD3977\"],[0.5215686274509804,\"#BF3A77\"],[0.5254901960784314,\"#C03A76\"],[0.5294117647058824,\"#C23B75\"],[0.5333333333333333,\"#C43C75\"],[0.5372549019607843,\"#C53C74\"],[0.5411764705882353,\"#C73D73\"],[0.5450980392156862,\"#C83E73\"],[0.5490196078431373,\"#CA3E72\"],[0.5529411764705883,\"#CC3F71\"],[0.5568627450980392,\"#CD4071\"],[0.5607843137254902,\"#CF4070\"],[0.5647058823529412,\"#D0416F\"],[0.5686274509803921,\"#D2426F\"],[0.5725490196078431,\"#D3436E\"],[0.5764705882352941,\"#D5446D\"],[0.5803921568627451,\"#D6456C\"],[0.5843137254901961,\"#D8456C\"],[0.5882352941176471,\"#D9466B\"],[0.592156862745098,\"#DB476A\"],[0.596078431372549,\"#DC4869\"],[0.6,\"#DE4968\"],[0.6039215686274509,\"#DF4A68\"],[0.6078431372549019,\"#E04C67\"],[0.611764705882353,\"#E24D66\"],[0.615686274509804,\"#E34E65\"],[0.6196078431372549,\"#E44F64\"],[0.6235294117647059,\"#E55064\"],[0.6274509803921569,\"#E75263\"],[0.6313725490196078,\"#E85362\"],[0.6352941176470588,\"#E95462\"],[0.6392156862745098,\"#EA5661\"],[0.6431372549019608,\"#EB5760\"],[0.6470588235294118,\"#EC5860\"],[0.6509803921568628,\"#ED5A5F\"],[0.6549019607843137,\"#EE5B5E\"],[0.6588235294117647,\"#EF5D5E\"],[0.6627450980392157,\"#F05F5E\"],[0.6666666666666666,\"#F1605D\"],[0.6705882352941176,\"#F2625D\"],[0.6745098039215687,\"#F2645C\"],[0.6784313725490196,\"#F3655C\"],[0.6823529411764706,\"#F4675C\"],[0.6862745098039216,\"#F4695C\"],[0.6901960784313725,\"#F56B5C\"],[0.6941176470588235,\"#F66C5C\"],[0.6980392156862745,\"#F66E5C\"],[0.7019607843137254,\"#F7705C\"],[0.7058823529411765,\"#F7725C\"],[0.7098039215686275,\"#F8745C\"],[0.7137254901960784,\"#F8765C\"],[0.7176470588235294,\"#F9785D\"],[0.7215686274509804,\"#F9795D\"],[0.7254901960784313,\"#F97B5D\"],[0.7294117647058823,\"#FA7D5E\"],[0.7333333333333333,\"#FA7F5E\"],[0.7372549019607844,\"#FA815F\"],[0.7411764705882353,\"#FB835F\"],[0.7450980392156863,\"#FB8560\"],[0.7490196078431373,\"#FB8761\"],[0.7529411764705882,\"#FC8961\"],[0.7568627450980392,\"#FC8A62\"],[0.7607843137254902,\"#FC8C63\"],[0.7647058823529411,\"#FC8E64\"],[0.7686274509803922,\"#FC9065\"],[0.7725490196078432,\"#FD9266\"],[0.7764705882352941,\"#FD9467\"],[0.7803921568627451,\"#FD9668\"],[0.7843137254901961,\"#FD9869\"],[0.788235294117647,\"#FD9A6A\"],[0.792156862745098,\"#FD9B6B\"],[0.796078431372549,\"#FE9D6C\"],[0.8,\"#FE9F6D\"],[0.803921568627451,\"#FEA16E\"],[0.807843137254902,\"#FEA36F\"],[0.8117647058823529,\"#FEA571\"],[0.8156862745098039,\"#FEA772\"],[0.8196078431372549,\"#FEA973\"],[0.8235294117647058,\"#FEAA74\"],[0.8274509803921568,\"#FEAC76\"],[0.8313725490196079,\"#FEAE77\"],[0.8352941176470589,\"#FEB078\"],[0.8392156862745098,\"#FEB27A\"],[0.8431372549019608,\"#FEB47B\"],[0.8470588235294118,\"#FEB67C\"],[0.8509803921568627,\"#FEB77E\"],[0.8549019607843137,\"#FEB97F\"],[0.8588235294117647,\"#FEBB81\"],[0.8627450980392157,\"#FEBD82\"],[0.8666666666666667,\"#FEBF84\"],[0.8705882352941177,\"#FEC185\"],[0.8745098039215686,\"#FEC287\"],[0.8784313725490196,\"#FEC488\"],[0.8823529411764706,\"#FEC68A\"],[0.8862745098039215,\"#FEC88C\"],[0.8901960784313725,\"#FECA8D\"],[0.8941176470588236,\"#FECC8F\"],[0.8980392156862745,\"#FECD90\"],[0.9019607843137255,\"#FECF92\"],[0.9058823529411765,\"#FED194\"],[0.9098039215686274,\"#FED395\"],[0.9137254901960784,\"#FED597\"],[0.9176470588235294,\"#FED799\"],[0.9215686274509803,\"#FED89A\"],[0.9254901960784314,\"#FDDA9C\"],[0.9294117647058824,\"#FDDC9E\"],[0.9333333333333333,\"#FDDEA0\"],[0.9372549019607843,\"#FDE0A1\"],[0.9411764705882353,\"#FDE2A3\"],[0.9450980392156862,\"#FDE3A5\"],[0.9490196078431372,\"#FDE5A7\"],[0.9529411764705882,\"#FDE7A9\"],[0.9568627450980393,\"#FDE9AA\"],[0.9607843137254902,\"#FDEBAC\"],[0.9647058823529412,\"#FCECAE\"],[0.9686274509803922,\"#FCEEB0\"],[0.9725490196078431,\"#FCF0B2\"],[0.9764705882352941,\"#FCF2B4\"],[0.9803921568627451,\"#FCF4B6\"],[0.984313725490196,\"#FCF6B8\"],[0.9882352941176471,\"#FCF7B9\"],[0.9921568627450981,\"#FCF9BB\"],[0.996078431372549,\"#FCFBBD\"],[1.0,\"#FCFDBF\"]],\"z\":[[0.0,0.35322806,0.4403372,0.46112326,0.4611346,0.4780042,0.50613105,0.5607433,0.74887735],[0.35322806,0.0,0.4317919,0.45603153,0.45593172,0.4679098,0.49943528,0.5555856,0.7473359],[0.4403372,0.4317919,0.0,0.48706958,0.4869669,0.47776994,0.50545883,0.56488144,0.74912834],[0.46112326,0.45603153,0.48706958,0.0,0.0005715919,0.46670556,0.48516202,0.5484755,0.7538255],[0.4611346,0.45593172,0.4869669,0.0005715919,0.0,0.46682706,0.4852751,0.54856163,0.7537662],[0.4780042,0.4679098,0.47776994,0.46670556,0.46682706,0.0,0.45997375,0.5246403,0.7515767],[0.50613105,0.49943528,0.50545883,0.48516202,0.4852751,0.45997375,0.0,0.5239251,0.7453471],[0.5607433,0.5555856,0.56488144,0.5484755,0.54856163,0.5246403,0.5239251,0.0,0.7292035],[0.74887735,0.7473359,0.74912834,0.7538255,0.7537662,0.7515767,0.7453471,0.7292035,0.0]],\"x\":[0.5,1.5,2.5,3.5,4.5,5.5,6.5,7.5,8.5,9.5]},{\"showlegend\":false,\"mode\":\"lines\",\"xaxis\":\"x2\",\"line\":{\"color\":\"#666666\"},\"y\":[4.5,6.5,null,4.5,4.5,null,6.5,6.5,null],\"type\":\"scatter\",\"hoverinfo\":\"skip\",\"yaxis\":\"y\",\"x\":[0.4852750897407532,0.4852750897407532,null,0.4852750897407532,0.0005715918960049748,null,0.4852750897407532,0.4599737524986267,null]},{\"showlegend\":false,\"mode\":\"lines\",\"xaxis\":\"x2\",\"line\":{\"color\":\"#666666\"},\"y\":[4.0,5.0,null,4.0,4.0,null,5.0,5.0,null],\"type\":\"scatter\",\"hoverinfo\":\"skip\",\"yaxis\":\"y\",\"x\":[0.0005715918960049748,0.0005715918960049748,null,0.0005715918960049748,0.0,null,0.0005715918960049748,0.0,null]},{\"showlegend\":false,\"mode\":\"lines\",\"xaxis\":\"x2\",\"line\":{\"color\":\"#666666\"},\"y\":[6.0,7.0,null,6.0,6.0,null,7.0,7.0,null],\"type\":\"scatter\",\"hoverinfo\":\"skip\",\"yaxis\":\"y\",\"x\":[0.4599737524986267,0.4599737524986267,null,0.4599737524986267,0.0,null,0.4599737524986267,0.0,null]},{\"showlegend\":false,\"mode\":\"lines\",\"xaxis\":\"x2\",\"line\":{\"color\":\"#666666\"},\"y\":[3.875,8.0,null,3.875,3.875,null,8.0,8.0,null],\"type\":\"scatter\",\"hoverinfo\":\"skip\",\"yaxis\":\"y\",\"x\":[0.564881443977356,0.564881443977356,null,0.564881443977356,0.5061310529708862,null,0.564881443977356,0.0,null]},{\"showlegend\":false,\"mode\":\"lines\",\"xaxis\":\"x2\",\"line\":{\"color\":\"#666666\"},\"y\":[5.9375,9.0,null,5.9375,5.9375,null,9.0,9.0,null],\"type\":\"scatter\",\"hoverinfo\":\"skip\",\"yaxis\":\"y\",\"x\":[0.7538254857063293,0.7538254857063293,null,0.7538254857063293,0.564881443977356,null,0.7538254857063293,0.0,null]},{\"showlegend\":false,\"mode\":\"lines\",\"xaxis\":\"x2\",\"line\":{\"color\":\"#666666\"},\"y\":[1.0,2.0,null,1.0,1.0,null,2.0,2.0,null],\"type\":\"scatter\",\"hoverinfo\":\"skip\",\"yaxis\":\"y\",\"x\":[0.35322806239128113,0.35322806239128113,null,0.35322806239128113,0.0,null,0.35322806239128113,0.0,null]},{\"showlegend\":false,\"mode\":\"lines\",\"xaxis\":\"x2\",\"line\":{\"color\":\"#666666\"},\"y\":[2.25,5.5,null,2.25,2.25,null,5.5,5.5,null],\"type\":\"scatter\",\"hoverinfo\":\"skip\",\"yaxis\":\"y\",\"x\":[0.5061310529708862,0.5061310529708862,null,0.5061310529708862,0.440337210893631,null,0.5061310529708862,0.4852750897407532,null]},{\"showlegend\":false,\"mode\":\"lines\",\"xaxis\":\"x2\",\"line\":{\"color\":\"#666666\"},\"y\":[1.5,3.0,null,1.5,1.5,null,3.0,3.0,null],\"type\":\"scatter\",\"hoverinfo\":\"skip\",\"yaxis\":\"y\",\"x\":[0.440337210893631,0.440337210893631,null,0.440337210893631,0.35322806239128113,null,0.440337210893631,0.0,null]},{\"showlegend\":false,\"mode\":\"markers\",\"xaxis\":\"x2\",\"marker\":{\"color\":\"#666666\",\"size\":[8,8,8,8,4,8,8,8]},\"y\":[5.9375,1.5,4.5,7.46875,5.5,6.5,3.875,2.25],\"type\":\"scatter\",\"customdata\":[[16,8],[11,2],[10,2],[17,9],[14,4],[13,2],[15,7],[12,3]],\"yaxis\":\"y\",\"hovertemplate\":\"ID: %{customdata[0]}<br>\\nHeight: %{x:.3f}<br>\\nGenome count: %{customdata[1]}\\n\\n<extra></extra>\",\"x\":[0.564881443977356,0.35322806239128113,0.0005715918960049748,0.7538254857063293,0.4852750897407532,0.4599737524986267,0.5061310529708862,0.440337210893631]},{\"marker\":{\"symbol\":\"line-ns\",\"color\":\"green\",\"line\":{\"color\":\"green\",\"width\":1}},\"mode\":\"markers\",\"xaxis\":\"x2\",\"y\":[-1,-1,-1],\"type\":\"scatter\",\"text\":[\"brasiliense\",\"odoriferum\"],\"hovertemplate\":\"%{text} <br>\\n%{x}\\n<extra></extra>\\n\",\"x\":[0.47074714,0.6731411]}],{\"showlegend\":false,\"xaxis\":{\"scaleanchor\":\"y\",\"visible\":false,\"domain\":[0.504950495049505,1.0]},\"hovermode\":\"closest\",\"xaxis2\":{\"rangemode\":\"nonnegative\",\"spikethickness\":1,\"showspikes\":true,\"domain\":[0.0,0.49504950495049505],\"spikemode\":\"across\",\"autorange\":\"reversed\",\"spikedash\":\"solid\"},\"height\":550,\"margin\":{\"l\":50,\"b\":50,\"r\":50,\"t\":60},\"yaxis\":{\"scaleanchor\":\"x\",\"visible\":false},\"width\":1000},{}); gd.on(\"plotly_hover\",(function (data){var filtered_data=WebIO.PlotlyCommands.filterEventData(gd,data,\"hover\"); return !(filtered_data.isnil) ? (WebIO.setval({\"name\":\"hover\",\"scope\":\"16573935363439401618\",\"id\":\"10064843993519713165\",\"type\":\"observable\"},filtered_data.out)) : undefined})); gd.on(\"plotly_unhover\",(function (){return WebIO.setval({\"name\":\"hover\",\"scope\":\"16573935363439401618\",\"id\":\"10064843993519713165\",\"type\":\"observable\"},{})})); gd.on(\"plotly_selected\",(function (data){var filtered_data=WebIO.PlotlyCommands.filterEventData(gd,data,\"selected\"); return !(filtered_data.isnil) ? (WebIO.setval({\"name\":\"selected\",\"scope\":\"16573935363439401618\",\"id\":\"11384632814358569922\",\"type\":\"observable\"},filtered_data.out)) : undefined})); gd.on(\"plotly_deselect\",(function (){return WebIO.setval({\"name\":\"selected\",\"scope\":\"16573935363439401618\",\"id\":\"11384632814358569922\",\"type\":\"observable\"},{})})); gd.on(\"plotly_relayout\",(function (data){var filtered_data=WebIO.PlotlyCommands.filterEventData(gd,data,\"relayout\"); return !(filtered_data.isnil) ? (WebIO.setval({\"name\":\"relayout\",\"scope\":\"16573935363439401618\",\"id\":\"2821068870891203166\",\"type\":\"observable\"},filtered_data.out)) : undefined})); return gd.on(\"plotly_click\",(function (data){var filtered_data=WebIO.PlotlyCommands.filterEventData(gd,data,\"click\"); return !(filtered_data.isnil) ? (WebIO.setval({\"name\":\"click\",\"scope\":\"16573935363439401618\",\"id\":\"4647163243718543510\",\"type\":\"observable\"},filtered_data.out)) : undefined}))}));\n    (WebIO.importBlock({\"data\":[{\"name\":\"Plotly\",\"type\":\"js\",\"url\":\"/assetserver/e6903599031aaef8675931dfcd7df98a1aeffbfc-plotly-latest.min.js\"},{\"name\":null,\"type\":\"js\",\"url\":\"/assetserver/74a5dea81f21b0b802ef1ee92f1c8a504eac1a0c-plotly_webio.bundle.js\"}],\"type\":\"async_block\"})).then((imports) => handler.apply(this, imports));\n}\n"
        ],
        "observables": {
         "__gd_contents": {
          "id": "6674636942247147890",
          "sync": false,
          "value": {}
         },
         "__get_gd_contents": {
          "id": "7478069996210614320",
          "sync": false,
          "value": ""
         },
         "_commands": {
          "id": "13016641300070260470",
          "sync": false,
          "value": []
         },
         "_downloadImage": {
          "id": "3035249962952938493",
          "sync": false,
          "value": {}
         },
         "_toImage": {
          "id": "14789174802171067926",
          "sync": false,
          "value": {}
         },
         "click": {
          "id": "4647163243718543510",
          "sync": false,
          "value": {}
         },
         "hover": {
          "id": "10064843993519713165",
          "sync": false,
          "value": {}
         },
         "image": {
          "id": "735879730376589331",
          "sync": true,
          "value": ""
         },
         "relayout": {
          "id": "2821068870891203166",
          "sync": false,
          "value": {}
         },
         "selected": {
          "id": "11384632814358569922",
          "sync": false,
          "value": {}
         }
        },
        "systemjs_options": null
       },
       "nodeType": "Scope",
       "props": {},
       "type": "node"
      },
      "image/png": "[encoded data removed]",
      "text/html": [
       "<div\n",
       "    class=\"webio-mountpoint\"\n",
       "    data-webio-mountpoint=\"6629059940460171978\"\n",
       ">\n",
       "    <script>\n",
       "    if (window.require && require.defined && require.defined(\"nbextensions/webio-jupyter-notebook\")) {\n",
       "        console.log(\"Jupyter WebIO extension detected, not mounting.\");\n",
       "    } else if (window.WebIO) {\n",
       "        WebIO.mount(\n",
       "            document.querySelector('[data-webio-mountpoint=\"6629059940460171978\"]'),\n",
       "            {\"props\":{},\"nodeType\":\"Scope\",\"type\":\"node\",\"instanceArgs\":{\"imports\":{\"data\":[{\"name\":\"Plotly\",\"type\":\"js\",\"url\":\"\\/assetserver\\/e6903599031aaef8675931dfcd7df98a1aeffbfc-plotly-latest.min.js\"},{\"name\":null,\"type\":\"js\",\"url\":\"\\/assetserver\\/74a5dea81f21b0b802ef1ee92f1c8a504eac1a0c-plotly_webio.bundle.js\"}],\"type\":\"async_block\"},\"id\":\"16573935363439401618\",\"handlers\":{\"_toImage\":[\"(function (options){return this.Plotly.toImage(this.plotElem,options).then((function (data){return WebIO.setval({\\\"name\\\":\\\"image\\\",\\\"scope\\\":\\\"16573935363439401618\\\",\\\"id\\\":\\\"735879730376589331\\\",\\\"type\\\":\\\"observable\\\"},data)}))})\"],\"__get_gd_contents\":[\"(function (prop){prop==\\\"data\\\" ? (WebIO.setval({\\\"name\\\":\\\"__gd_contents\\\",\\\"scope\\\":\\\"16573935363439401618\\\",\\\"id\\\":\\\"6674636942247147890\\\",\\\"type\\\":\\\"observable\\\"},this.plotElem.data)) : undefined; return prop==\\\"layout\\\" ? (WebIO.setval({\\\"name\\\":\\\"__gd_contents\\\",\\\"scope\\\":\\\"16573935363439401618\\\",\\\"id\\\":\\\"6674636942247147890\\\",\\\"type\\\":\\\"observable\\\"},this.plotElem.layout)) : undefined})\"],\"_downloadImage\":[\"(function (options){return this.Plotly.downloadImage(this.plotElem,options)})\"],\"_commands\":[\"(function (args){var fn=args.shift(); var elem=this.plotElem; var Plotly=this.Plotly; args.unshift(elem); return Plotly[fn].apply(this,args)})\"]},\"systemjs_options\":null,\"mount_callbacks\":[\"function () {\\n    var handler = ((function (Plotly,PlotlyWebIO){PlotlyWebIO.init(WebIO); var gd=this.dom.querySelector(\\\"#plot-20d116f9-cd37-47b9-9bff-26e4c1e692ca\\\"); this.plotElem=gd; this.Plotly=Plotly; (window.Blink!==undefined) ? (gd.style.width=\\\"100%\\\", gd.style.height=\\\"100vh\\\", gd.style.marginLeft=\\\"0%\\\", gd.style.marginTop=\\\"0vh\\\") : undefined; window.onresize=(function (){return Plotly.Plots.resize(gd)}); Plotly.newPlot(gd,[{\\\"y\\\":[0.5,1.5,2.5,3.5,4.5,5.5,6.5,7.5,8.5,9.5],\\\"type\\\":\\\"heatmap\\\",\\\"colorscale\\\":[[0.0,\\\"#000004\\\"],[0.00392156862745098,\\\"#010005\\\"],[0.00784313725490196,\\\"#010106\\\"],[0.011764705882352941,\\\"#010108\\\"],[0.01568627450980392,\\\"#020109\\\"],[0.0196078431372549,\\\"#02020B\\\"],[0.023529411764705882,\\\"#02020D\\\"],[0.027450980392156862,\\\"#03030F\\\"],[0.03137254901960784,\\\"#030312\\\"],[0.03529411764705882,\\\"#040414\\\"],[0.0392156862745098,\\\"#050416\\\"],[0.043137254901960784,\\\"#060518\\\"],[0.047058823529411764,\\\"#06051A\\\"],[0.050980392156862744,\\\"#07061C\\\"],[0.054901960784313725,\\\"#08071E\\\"],[0.058823529411764705,\\\"#090720\\\"],[0.06274509803921569,\\\"#0A0822\\\"],[0.06666666666666667,\\\"#0B0924\\\"],[0.07058823529411765,\\\"#0C0926\\\"],[0.07450980392156863,\\\"#0D0A29\\\"],[0.0784313725490196,\\\"#0E0B2B\\\"],[0.08235294117647059,\\\"#100B2D\\\"],[0.08627450980392157,\\\"#110C2F\\\"],[0.09019607843137255,\\\"#120D31\\\"],[0.09411764705882353,\\\"#130D34\\\"],[0.09803921568627451,\\\"#140E36\\\"],[0.10196078431372549,\\\"#150E38\\\"],[0.10588235294117647,\\\"#160F3B\\\"],[0.10980392156862745,\\\"#180F3D\\\"],[0.11372549019607843,\\\"#19103F\\\"],[0.11764705882352941,\\\"#1A1042\\\"],[0.12156862745098039,\\\"#1C1044\\\"],[0.12549019607843137,\\\"#1D1147\\\"],[0.12941176470588237,\\\"#1E1149\\\"],[0.13333333333333333,\\\"#20114B\\\"],[0.13725490196078433,\\\"#21114E\\\"],[0.1411764705882353,\\\"#221150\\\"],[0.1450980392156863,\\\"#241253\\\"],[0.14901960784313725,\\\"#251255\\\"],[0.15294117647058825,\\\"#271258\\\"],[0.1568627450980392,\\\"#29115A\\\"],[0.1607843137254902,\\\"#2A115C\\\"],[0.16470588235294117,\\\"#2C115F\\\"],[0.16862745098039217,\\\"#2D1161\\\"],[0.17254901960784313,\\\"#2F1163\\\"],[0.17647058823529413,\\\"#311165\\\"],[0.1803921568627451,\\\"#331067\\\"],[0.1843137254901961,\\\"#341069\\\"],[0.18823529411764706,\\\"#36106B\\\"],[0.19215686274509805,\\\"#38106C\\\"],[0.19607843137254902,\\\"#390F6E\\\"],[0.2,\\\"#3B0F70\\\"],[0.20392156862745098,\\\"#3D0F71\\\"],[0.20784313725490197,\\\"#3F0F72\\\"],[0.21176470588235294,\\\"#400F74\\\"],[0.21568627450980393,\\\"#420F75\\\"],[0.2196078431372549,\\\"#440F76\\\"],[0.2235294117647059,\\\"#451077\\\"],[0.22745098039215686,\\\"#471078\\\"],[0.23137254901960785,\\\"#491078\\\"],[0.23529411764705882,\\\"#4A1079\\\"],[0.23921568627450981,\\\"#4C117A\\\"],[0.24313725490196078,\\\"#4E117B\\\"],[0.24705882352941178,\\\"#4F127B\\\"],[0.25098039215686274,\\\"#51127C\\\"],[0.2549019607843137,\\\"#52137C\\\"],[0.25882352941176473,\\\"#54137D\\\"],[0.2627450980392157,\\\"#56147D\\\"],[0.26666666666666666,\\\"#57157E\\\"],[0.27058823529411763,\\\"#59157E\\\"],[0.27450980392156865,\\\"#5A167E\\\"],[0.2784313725490196,\\\"#5C167F\\\"],[0.2823529411764706,\\\"#5D177F\\\"],[0.28627450980392155,\\\"#5F187F\\\"],[0.2901960784313726,\\\"#601880\\\"],[0.29411764705882354,\\\"#621980\\\"],[0.2980392156862745,\\\"#641A80\\\"],[0.30196078431372547,\\\"#651A80\\\"],[0.3058823529411765,\\\"#671B80\\\"],[0.30980392156862746,\\\"#681C81\\\"],[0.3137254901960784,\\\"#6A1C81\\\"],[0.3176470588235294,\\\"#6B1D81\\\"],[0.3215686274509804,\\\"#6D1D81\\\"],[0.3254901960784314,\\\"#6E1E81\\\"],[0.32941176470588235,\\\"#701F81\\\"],[0.3333333333333333,\\\"#721F81\\\"],[0.33725490196078434,\\\"#732081\\\"],[0.3411764705882353,\\\"#752181\\\"],[0.34509803921568627,\\\"#762181\\\"],[0.34901960784313724,\\\"#782281\\\"],[0.35294117647058826,\\\"#792282\\\"],[0.3568627450980392,\\\"#7B2382\\\"],[0.3607843137254902,\\\"#7C2382\\\"],[0.36470588235294116,\\\"#7E2482\\\"],[0.3686274509803922,\\\"#802582\\\"],[0.37254901960784315,\\\"#812581\\\"],[0.3764705882352941,\\\"#832681\\\"],[0.3803921568627451,\\\"#842681\\\"],[0.3843137254901961,\\\"#862781\\\"],[0.38823529411764707,\\\"#882781\\\"],[0.39215686274509803,\\\"#892881\\\"],[0.396078431372549,\\\"#8B2981\\\"],[0.4,\\\"#8C2981\\\"],[0.403921568627451,\\\"#8E2A81\\\"],[0.40784313725490196,\\\"#902A81\\\"],[0.4117647058823529,\\\"#912B81\\\"],[0.41568627450980394,\\\"#932B80\\\"],[0.4196078431372549,\\\"#942C80\\\"],[0.4235294117647059,\\\"#962C80\\\"],[0.42745098039215684,\\\"#982D80\\\"],[0.43137254901960786,\\\"#992D80\\\"],[0.43529411764705883,\\\"#9B2E7F\\\"],[0.4392156862745098,\\\"#9C2E7F\\\"],[0.44313725490196076,\\\"#9E2F7F\\\"],[0.4470588235294118,\\\"#A02F7F\\\"],[0.45098039215686275,\\\"#A1307E\\\"],[0.4549019607843137,\\\"#A3307E\\\"],[0.4588235294117647,\\\"#A5317E\\\"],[0.4627450980392157,\\\"#A6317D\\\"],[0.4666666666666667,\\\"#A8327D\\\"],[0.47058823529411764,\\\"#AA337D\\\"],[0.4745098039215686,\\\"#AB337C\\\"],[0.47843137254901963,\\\"#AD347C\\\"],[0.4823529411764706,\\\"#AE347B\\\"],[0.48627450980392156,\\\"#B0357B\\\"],[0.49019607843137253,\\\"#B2357B\\\"],[0.49411764705882355,\\\"#B3367A\\\"],[0.4980392156862745,\\\"#B5367A\\\"],[0.5019607843137255,\\\"#B73779\\\"],[0.5058823529411764,\\\"#B83779\\\"],[0.5098039215686274,\\\"#BA3878\\\"],[0.5137254901960784,\\\"#BC3978\\\"],[0.5176470588235295,\\\"#BD3977\\\"],[0.5215686274509804,\\\"#BF3A77\\\"],[0.5254901960784314,\\\"#C03A76\\\"],[0.5294117647058824,\\\"#C23B75\\\"],[0.5333333333333333,\\\"#C43C75\\\"],[0.5372549019607843,\\\"#C53C74\\\"],[0.5411764705882353,\\\"#C73D73\\\"],[0.5450980392156862,\\\"#C83E73\\\"],[0.5490196078431373,\\\"#CA3E72\\\"],[0.5529411764705883,\\\"#CC3F71\\\"],[0.5568627450980392,\\\"#CD4071\\\"],[0.5607843137254902,\\\"#CF4070\\\"],[0.5647058823529412,\\\"#D0416F\\\"],[0.5686274509803921,\\\"#D2426F\\\"],[0.5725490196078431,\\\"#D3436E\\\"],[0.5764705882352941,\\\"#D5446D\\\"],[0.5803921568627451,\\\"#D6456C\\\"],[0.5843137254901961,\\\"#D8456C\\\"],[0.5882352941176471,\\\"#D9466B\\\"],[0.592156862745098,\\\"#DB476A\\\"],[0.596078431372549,\\\"#DC4869\\\"],[0.6,\\\"#DE4968\\\"],[0.6039215686274509,\\\"#DF4A68\\\"],[0.6078431372549019,\\\"#E04C67\\\"],[0.611764705882353,\\\"#E24D66\\\"],[0.615686274509804,\\\"#E34E65\\\"],[0.6196078431372549,\\\"#E44F64\\\"],[0.6235294117647059,\\\"#E55064\\\"],[0.6274509803921569,\\\"#E75263\\\"],[0.6313725490196078,\\\"#E85362\\\"],[0.6352941176470588,\\\"#E95462\\\"],[0.6392156862745098,\\\"#EA5661\\\"],[0.6431372549019608,\\\"#EB5760\\\"],[0.6470588235294118,\\\"#EC5860\\\"],[0.6509803921568628,\\\"#ED5A5F\\\"],[0.6549019607843137,\\\"#EE5B5E\\\"],[0.6588235294117647,\\\"#EF5D5E\\\"],[0.6627450980392157,\\\"#F05F5E\\\"],[0.6666666666666666,\\\"#F1605D\\\"],[0.6705882352941176,\\\"#F2625D\\\"],[0.6745098039215687,\\\"#F2645C\\\"],[0.6784313725490196,\\\"#F3655C\\\"],[0.6823529411764706,\\\"#F4675C\\\"],[0.6862745098039216,\\\"#F4695C\\\"],[0.6901960784313725,\\\"#F56B5C\\\"],[0.6941176470588235,\\\"#F66C5C\\\"],[0.6980392156862745,\\\"#F66E5C\\\"],[0.7019607843137254,\\\"#F7705C\\\"],[0.7058823529411765,\\\"#F7725C\\\"],[0.7098039215686275,\\\"#F8745C\\\"],[0.7137254901960784,\\\"#F8765C\\\"],[0.7176470588235294,\\\"#F9785D\\\"],[0.7215686274509804,\\\"#F9795D\\\"],[0.7254901960784313,\\\"#F97B5D\\\"],[0.7294117647058823,\\\"#FA7D5E\\\"],[0.7333333333333333,\\\"#FA7F5E\\\"],[0.7372549019607844,\\\"#FA815F\\\"],[0.7411764705882353,\\\"#FB835F\\\"],[0.7450980392156863,\\\"#FB8560\\\"],[0.7490196078431373,\\\"#FB8761\\\"],[0.7529411764705882,\\\"#FC8961\\\"],[0.7568627450980392,\\\"#FC8A62\\\"],[0.7607843137254902,\\\"#FC8C63\\\"],[0.7647058823529411,\\\"#FC8E64\\\"],[0.7686274509803922,\\\"#FC9065\\\"],[0.7725490196078432,\\\"#FD9266\\\"],[0.7764705882352941,\\\"#FD9467\\\"],[0.7803921568627451,\\\"#FD9668\\\"],[0.7843137254901961,\\\"#FD9869\\\"],[0.788235294117647,\\\"#FD9A6A\\\"],[0.792156862745098,\\\"#FD9B6B\\\"],[0.796078431372549,\\\"#FE9D6C\\\"],[0.8,\\\"#FE9F6D\\\"],[0.803921568627451,\\\"#FEA16E\\\"],[0.807843137254902,\\\"#FEA36F\\\"],[0.8117647058823529,\\\"#FEA571\\\"],[0.8156862745098039,\\\"#FEA772\\\"],[0.8196078431372549,\\\"#FEA973\\\"],[0.8235294117647058,\\\"#FEAA74\\\"],[0.8274509803921568,\\\"#FEAC76\\\"],[0.8313725490196079,\\\"#FEAE77\\\"],[0.8352941176470589,\\\"#FEB078\\\"],[0.8392156862745098,\\\"#FEB27A\\\"],[0.8431372549019608,\\\"#FEB47B\\\"],[0.8470588235294118,\\\"#FEB67C\\\"],[0.8509803921568627,\\\"#FEB77E\\\"],[0.8549019607843137,\\\"#FEB97F\\\"],[0.8588235294117647,\\\"#FEBB81\\\"],[0.8627450980392157,\\\"#FEBD82\\\"],[0.8666666666666667,\\\"#FEBF84\\\"],[0.8705882352941177,\\\"#FEC185\\\"],[0.8745098039215686,\\\"#FEC287\\\"],[0.8784313725490196,\\\"#FEC488\\\"],[0.8823529411764706,\\\"#FEC68A\\\"],[0.8862745098039215,\\\"#FEC88C\\\"],[0.8901960784313725,\\\"#FECA8D\\\"],[0.8941176470588236,\\\"#FECC8F\\\"],[0.8980392156862745,\\\"#FECD90\\\"],[0.9019607843137255,\\\"#FECF92\\\"],[0.9058823529411765,\\\"#FED194\\\"],[0.9098039215686274,\\\"#FED395\\\"],[0.9137254901960784,\\\"#FED597\\\"],[0.9176470588235294,\\\"#FED799\\\"],[0.9215686274509803,\\\"#FED89A\\\"],[0.9254901960784314,\\\"#FDDA9C\\\"],[0.9294117647058824,\\\"#FDDC9E\\\"],[0.9333333333333333,\\\"#FDDEA0\\\"],[0.9372549019607843,\\\"#FDE0A1\\\"],[0.9411764705882353,\\\"#FDE2A3\\\"],[0.9450980392156862,\\\"#FDE3A5\\\"],[0.9490196078431372,\\\"#FDE5A7\\\"],[0.9529411764705882,\\\"#FDE7A9\\\"],[0.9568627450980393,\\\"#FDE9AA\\\"],[0.9607843137254902,\\\"#FDEBAC\\\"],[0.9647058823529412,\\\"#FCECAE\\\"],[0.9686274509803922,\\\"#FCEEB0\\\"],[0.9725490196078431,\\\"#FCF0B2\\\"],[0.9764705882352941,\\\"#FCF2B4\\\"],[0.9803921568627451,\\\"#FCF4B6\\\"],[0.984313725490196,\\\"#FCF6B8\\\"],[0.9882352941176471,\\\"#FCF7B9\\\"],[0.9921568627450981,\\\"#FCF9BB\\\"],[0.996078431372549,\\\"#FCFBBD\\\"],[1.0,\\\"#FCFDBF\\\"]],\\\"z\\\":[[0.0,0.35322806,0.4403372,0.46112326,0.4611346,0.4780042,0.50613105,0.5607433,0.74887735],[0.35322806,0.0,0.4317919,0.45603153,0.45593172,0.4679098,0.49943528,0.5555856,0.7473359],[0.4403372,0.4317919,0.0,0.48706958,0.4869669,0.47776994,0.50545883,0.56488144,0.74912834],[0.46112326,0.45603153,0.48706958,0.0,0.0005715919,0.46670556,0.48516202,0.5484755,0.7538255],[0.4611346,0.45593172,0.4869669,0.0005715919,0.0,0.46682706,0.4852751,0.54856163,0.7537662],[0.4780042,0.4679098,0.47776994,0.46670556,0.46682706,0.0,0.45997375,0.5246403,0.7515767],[0.50613105,0.49943528,0.50545883,0.48516202,0.4852751,0.45997375,0.0,0.5239251,0.7453471],[0.5607433,0.5555856,0.56488144,0.5484755,0.54856163,0.5246403,0.5239251,0.0,0.7292035],[0.74887735,0.7473359,0.74912834,0.7538255,0.7537662,0.7515767,0.7453471,0.7292035,0.0]],\\\"x\\\":[0.5,1.5,2.5,3.5,4.5,5.5,6.5,7.5,8.5,9.5]},{\\\"showlegend\\\":false,\\\"mode\\\":\\\"lines\\\",\\\"xaxis\\\":\\\"x2\\\",\\\"line\\\":{\\\"color\\\":\\\"#666666\\\"},\\\"y\\\":[4.5,6.5,null,4.5,4.5,null,6.5,6.5,null],\\\"type\\\":\\\"scatter\\\",\\\"hoverinfo\\\":\\\"skip\\\",\\\"yaxis\\\":\\\"y\\\",\\\"x\\\":[0.4852750897407532,0.4852750897407532,null,0.4852750897407532,0.0005715918960049748,null,0.4852750897407532,0.4599737524986267,null]},{\\\"showlegend\\\":false,\\\"mode\\\":\\\"lines\\\",\\\"xaxis\\\":\\\"x2\\\",\\\"line\\\":{\\\"color\\\":\\\"#666666\\\"},\\\"y\\\":[4.0,5.0,null,4.0,4.0,null,5.0,5.0,null],\\\"type\\\":\\\"scatter\\\",\\\"hoverinfo\\\":\\\"skip\\\",\\\"yaxis\\\":\\\"y\\\",\\\"x\\\":[0.0005715918960049748,0.0005715918960049748,null,0.0005715918960049748,0.0,null,0.0005715918960049748,0.0,null]},{\\\"showlegend\\\":false,\\\"mode\\\":\\\"lines\\\",\\\"xaxis\\\":\\\"x2\\\",\\\"line\\\":{\\\"color\\\":\\\"#666666\\\"},\\\"y\\\":[6.0,7.0,null,6.0,6.0,null,7.0,7.0,null],\\\"type\\\":\\\"scatter\\\",\\\"hoverinfo\\\":\\\"skip\\\",\\\"yaxis\\\":\\\"y\\\",\\\"x\\\":[0.4599737524986267,0.4599737524986267,null,0.4599737524986267,0.0,null,0.4599737524986267,0.0,null]},{\\\"showlegend\\\":false,\\\"mode\\\":\\\"lines\\\",\\\"xaxis\\\":\\\"x2\\\",\\\"line\\\":{\\\"color\\\":\\\"#666666\\\"},\\\"y\\\":[3.875,8.0,null,3.875,3.875,null,8.0,8.0,null],\\\"type\\\":\\\"scatter\\\",\\\"hoverinfo\\\":\\\"skip\\\",\\\"yaxis\\\":\\\"y\\\",\\\"x\\\":[0.564881443977356,0.564881443977356,null,0.564881443977356,0.5061310529708862,null,0.564881443977356,0.0,null]},{\\\"showlegend\\\":false,\\\"mode\\\":\\\"lines\\\",\\\"xaxis\\\":\\\"x2\\\",\\\"line\\\":{\\\"color\\\":\\\"#666666\\\"},\\\"y\\\":[5.9375,9.0,null,5.9375,5.9375,null,9.0,9.0,null],\\\"type\\\":\\\"scatter\\\",\\\"hoverinfo\\\":\\\"skip\\\",\\\"yaxis\\\":\\\"y\\\",\\\"x\\\":[0.7538254857063293,0.7538254857063293,null,0.7538254857063293,0.564881443977356,null,0.7538254857063293,0.0,null]},{\\\"showlegend\\\":false,\\\"mode\\\":\\\"lines\\\",\\\"xaxis\\\":\\\"x2\\\",\\\"line\\\":{\\\"color\\\":\\\"#666666\\\"},\\\"y\\\":[1.0,2.0,null,1.0,1.0,null,2.0,2.0,null],\\\"type\\\":\\\"scatter\\\",\\\"hoverinfo\\\":\\\"skip\\\",\\\"yaxis\\\":\\\"y\\\",\\\"x\\\":[0.35322806239128113,0.35322806239128113,null,0.35322806239128113,0.0,null,0.35322806239128113,0.0,null]},{\\\"showlegend\\\":false,\\\"mode\\\":\\\"lines\\\",\\\"xaxis\\\":\\\"x2\\\",\\\"line\\\":{\\\"color\\\":\\\"#666666\\\"},\\\"y\\\":[2.25,5.5,null,2.25,2.25,null,5.5,5.5,null],\\\"type\\\":\\\"scatter\\\",\\\"hoverinfo\\\":\\\"skip\\\",\\\"yaxis\\\":\\\"y\\\",\\\"x\\\":[0.5061310529708862,0.5061310529708862,null,0.5061310529708862,0.440337210893631,null,0.5061310529708862,0.4852750897407532,null]},{\\\"showlegend\\\":false,\\\"mode\\\":\\\"lines\\\",\\\"xaxis\\\":\\\"x2\\\",\\\"line\\\":{\\\"color\\\":\\\"#666666\\\"},\\\"y\\\":[1.5,3.0,null,1.5,1.5,null,3.0,3.0,null],\\\"type\\\":\\\"scatter\\\",\\\"hoverinfo\\\":\\\"skip\\\",\\\"yaxis\\\":\\\"y\\\",\\\"x\\\":[0.440337210893631,0.440337210893631,null,0.440337210893631,0.35322806239128113,null,0.440337210893631,0.0,null]},{\\\"showlegend\\\":false,\\\"mode\\\":\\\"markers\\\",\\\"xaxis\\\":\\\"x2\\\",\\\"marker\\\":{\\\"color\\\":\\\"#666666\\\",\\\"size\\\":[8,8,8,8,4,8,8,8]},\\\"y\\\":[5.9375,1.5,4.5,7.46875,5.5,6.5,3.875,2.25],\\\"type\\\":\\\"scatter\\\",\\\"customdata\\\":[[16,8],[11,2],[10,2],[17,9],[14,4],[13,2],[15,7],[12,3]],\\\"yaxis\\\":\\\"y\\\",\\\"hovertemplate\\\":\\\"ID: %{customdata[0]}<br>\\\\nHeight: %{x:.3f}<br>\\\\nGenome count: %{customdata[1]}\\\\n\\\\n<extra><\\/extra>\\\",\\\"x\\\":[0.564881443977356,0.35322806239128113,0.0005715918960049748,0.7538254857063293,0.4852750897407532,0.4599737524986267,0.5061310529708862,0.440337210893631]},{\\\"marker\\\":{\\\"symbol\\\":\\\"line-ns\\\",\\\"color\\\":\\\"green\\\",\\\"line\\\":{\\\"color\\\":\\\"green\\\",\\\"width\\\":1}},\\\"mode\\\":\\\"markers\\\",\\\"xaxis\\\":\\\"x2\\\",\\\"y\\\":[-1,-1,-1],\\\"type\\\":\\\"scatter\\\",\\\"text\\\":[\\\"brasiliense\\\",\\\"odoriferum\\\"],\\\"hovertemplate\\\":\\\"%{text} <br>\\\\n%{x}\\\\n<extra><\\/extra>\\\\n\\\",\\\"x\\\":[0.47074714,0.6731411]}],{\\\"showlegend\\\":false,\\\"xaxis\\\":{\\\"scaleanchor\\\":\\\"y\\\",\\\"visible\\\":false,\\\"domain\\\":[0.504950495049505,1.0]},\\\"hovermode\\\":\\\"closest\\\",\\\"xaxis2\\\":{\\\"rangemode\\\":\\\"nonnegative\\\",\\\"spikethickness\\\":1,\\\"showspikes\\\":true,\\\"domain\\\":[0.0,0.49504950495049505],\\\"spikemode\\\":\\\"across\\\",\\\"autorange\\\":\\\"reversed\\\",\\\"spikedash\\\":\\\"solid\\\"},\\\"height\\\":550,\\\"margin\\\":{\\\"l\\\":50,\\\"b\\\":50,\\\"r\\\":50,\\\"t\\\":60},\\\"yaxis\\\":{\\\"scaleanchor\\\":\\\"x\\\",\\\"visible\\\":false},\\\"width\\\":1000},{}); gd.on(\\\"plotly_hover\\\",(function (data){var filtered_data=WebIO.PlotlyCommands.filterEventData(gd,data,\\\"hover\\\"); return !(filtered_data.isnil) ? (WebIO.setval({\\\"name\\\":\\\"hover\\\",\\\"scope\\\":\\\"16573935363439401618\\\",\\\"id\\\":\\\"10064843993519713165\\\",\\\"type\\\":\\\"observable\\\"},filtered_data.out)) : undefined})); gd.on(\\\"plotly_unhover\\\",(function (){return WebIO.setval({\\\"name\\\":\\\"hover\\\",\\\"scope\\\":\\\"16573935363439401618\\\",\\\"id\\\":\\\"10064843993519713165\\\",\\\"type\\\":\\\"observable\\\"},{})})); gd.on(\\\"plotly_selected\\\",(function (data){var filtered_data=WebIO.PlotlyCommands.filterEventData(gd,data,\\\"selected\\\"); return !(filtered_data.isnil) ? (WebIO.setval({\\\"name\\\":\\\"selected\\\",\\\"scope\\\":\\\"16573935363439401618\\\",\\\"id\\\":\\\"11384632814358569922\\\",\\\"type\\\":\\\"observable\\\"},filtered_data.out)) : undefined})); gd.on(\\\"plotly_deselect\\\",(function (){return WebIO.setval({\\\"name\\\":\\\"selected\\\",\\\"scope\\\":\\\"16573935363439401618\\\",\\\"id\\\":\\\"11384632814358569922\\\",\\\"type\\\":\\\"observable\\\"},{})})); gd.on(\\\"plotly_relayout\\\",(function (data){var filtered_data=WebIO.PlotlyCommands.filterEventData(gd,data,\\\"relayout\\\"); return !(filtered_data.isnil) ? (WebIO.setval({\\\"name\\\":\\\"relayout\\\",\\\"scope\\\":\\\"16573935363439401618\\\",\\\"id\\\":\\\"2821068870891203166\\\",\\\"type\\\":\\\"observable\\\"},filtered_data.out)) : undefined})); return gd.on(\\\"plotly_click\\\",(function (data){var filtered_data=WebIO.PlotlyCommands.filterEventData(gd,data,\\\"click\\\"); return !(filtered_data.isnil) ? (WebIO.setval({\\\"name\\\":\\\"click\\\",\\\"scope\\\":\\\"16573935363439401618\\\",\\\"id\\\":\\\"4647163243718543510\\\",\\\"type\\\":\\\"observable\\\"},filtered_data.out)) : undefined}))}));\\n    (WebIO.importBlock({\\\"data\\\":[{\\\"name\\\":\\\"Plotly\\\",\\\"type\\\":\\\"js\\\",\\\"url\\\":\\\"\\/assetserver\\/e6903599031aaef8675931dfcd7df98a1aeffbfc-plotly-latest.min.js\\\"},{\\\"name\\\":null,\\\"type\\\":\\\"js\\\",\\\"url\\\":\\\"\\/assetserver\\/74a5dea81f21b0b802ef1ee92f1c8a504eac1a0c-plotly_webio.bundle.js\\\"}],\\\"type\\\":\\\"async_block\\\"})).then((imports) => handler.apply(this, imports));\\n}\\n\"],\"observables\":{\"_toImage\":{\"sync\":false,\"id\":\"14789174802171067926\",\"value\":{}},\"hover\":{\"sync\":false,\"id\":\"10064843993519713165\",\"value\":{}},\"selected\":{\"sync\":false,\"id\":\"11384632814358569922\",\"value\":{}},\"__gd_contents\":{\"sync\":false,\"id\":\"6674636942247147890\",\"value\":{}},\"click\":{\"sync\":false,\"id\":\"4647163243718543510\",\"value\":{}},\"image\":{\"sync\":true,\"id\":\"735879730376589331\",\"value\":\"\"},\"__get_gd_contents\":{\"sync\":false,\"id\":\"7478069996210614320\",\"value\":\"\"},\"_downloadImage\":{\"sync\":false,\"id\":\"3035249962952938493\",\"value\":{}},\"relayout\":{\"sync\":false,\"id\":\"2821068870891203166\",\"value\":{}},\"_commands\":{\"sync\":false,\"id\":\"13016641300070260470\",\"value\":[]}}},\"children\":[{\"props\":{\"id\":\"plot-20d116f9-cd37-47b9-9bff-26e4c1e692ca\"},\"nodeType\":\"DOM\",\"type\":\"node\",\"instanceArgs\":{\"namespace\":\"html\",\"tag\":\"div\"},\"children\":[]}]},\n",
       "            window,\n",
       "        );\n",
       "    } else {\n",
       "        document\n",
       "            .querySelector('[data-webio-mountpoint=\"6629059940460171978\"]')\n",
       "            .innerHTML = (\n",
       "                '<div style=\"padding: 1em; background-color: #f8d6da; border: 1px solid #f5c6cb\">' +\n",
       "                '<p><strong>WebIO not detected.</strong></p>' +\n",
       "                '<p>Please read ' +\n",
       "                '<a href=\"https://juliagizmos.github.io/WebIO.jl/latest/troubleshooting/not-detected/\" target=\"_blank\">the troubleshooting guide</a> ' +\n",
       "                'for more information on how to resolve this issue.</p>' +\n",
       "                '<p><a href=\"https://juliagizmos.github.io/WebIO.jl/latest/troubleshooting/not-detected/\" target=\"_blank\">https://juliagizmos.github.io/WebIO.jl/latest/troubleshooting/not-detected/</a></p>' +\n",
       "                '</div>'\n",
       "            );\n",
       "    }\n",
       "    </script>\n",
       "</div>\n"
      ],
      "text/plain": [
       "data: [\n",
       "  \"heatmap with fields colorscale, type, x, y, and z\",\n",
       "  \"scatter with fields hoverinfo, line, mode, showlegend, type, x, xaxis, y, and yaxis\",\n",
       "  \"scatter with fields hoverinfo, line, mode, showlegend, type, x, xaxis, y, and yaxis\",\n",
       "  \"scatter with fields hoverinfo, line, mode, showlegend, type, x, xaxis, y, and yaxis\",\n",
       "  \"scatter with fields hoverinfo, line, mode, showlegend, type, x, xaxis, y, and yaxis\",\n",
       "  \"scatter with fields hoverinfo, line, mode, showlegend, type, x, xaxis, y, and yaxis\",\n",
       "  \"scatter with fields hoverinfo, line, mode, showlegend, type, x, xaxis, y, and yaxis\",\n",
       "  \"scatter with fields hoverinfo, line, mode, showlegend, type, x, xaxis, y, and yaxis\",\n",
       "  \"scatter with fields hoverinfo, line, mode, showlegend, type, x, xaxis, y, and yaxis\",\n",
       "  \"scatter with fields customdata, hovertemplate, marker, mode, showlegend, type, x, xaxis, y, and yaxis\",\n",
       "  \"scatter with fields hovertemplate, marker, mode, text, type, x, xaxis, and y\"\n",
       "]\n",
       "\n",
       "layout: \"layout with fields height, hovermode, margin, showlegend, width, xaxis, xaxis2, and yaxis\"\n",
       "\n"
      ]
     },
     "execution_count": 5,
     "metadata": {},
     "output_type": "execute_result"
    }
   ],
   "source": [
    "let taxon = \"carotovorum\"\n",
    "    trees[taxon] = cluster_annotate(cdata, taxon)\n",
    "    plot(clustermap(cdata, trees[taxon]))\n",
    "end"
   ]
  },
  {
   "cell_type": "code",
   "execution_count": 6,
   "id": "annual-resolution",
   "metadata": {},
   "outputs": [
    {
     "name": "stdout",
     "output_type": "stream",
     "text": [
      "#1 carotovorum:\n",
      "\t1/9 removed\n",
      "\tDiameter 0.7538 => 0.5649\n"
     ]
    }
   ],
   "source": [
    "keep_subtrees!(edits, trees[\"carotovorum\"], 16)"
   ]
  },
  {
   "cell_type": "markdown",
   "id": "human-tribute",
   "metadata": {},
   "source": [
    "## Finish"
   ]
  },
  {
   "cell_type": "code",
   "execution_count": 7,
   "id": "completed-first",
   "metadata": {},
   "outputs": [
    {
     "data": {
      "text/html": [
       "<table class=\"data-frame\"><thead><tr><th></th><th>index</th><th>name</th><th>ngenomes</th><th>initial_diameter</th><th>taxon_removed</th><th>removed_genomes</th><th>split</th><th>manual_threshold</th><th>final_diameter</th></tr><tr><th></th><th>Int64</th><th>SubStri…</th><th>Int64</th><th>Float32</th><th>Bool</th><th>Int64</th><th>String</th><th>Missing</th><th>String</th></tr></thead><tbody><p>1 rows × 9 columns</p><tr><th>1</th><td>1</td><td>carotovorum</td><td>9</td><td>0.753825</td><td>0</td><td>1</td><td></td><td><em>missing</em></td><td>0.5649</td></tr></tbody></table>"
      ],
      "text/latex": [
       "\\begin{tabular}{r|ccccccccc}\n",
       "\t& index & name & ngenomes & initial\\_diameter & taxon\\_removed & removed\\_genomes & split & manual\\_threshold & final\\_diameter\\\\\n",
       "\t\\hline\n",
       "\t& Int64 & SubStri… & Int64 & Float32 & Bool & Int64 & String & Missing & String\\\\\n",
       "\t\\hline\n",
       "\t1 & 1 & carotovorum & 9 & 0.753825 & 0 & 1 &  & \\emph{missing} & 0.5649 \\\\\n",
       "\\end{tabular}\n"
      ],
      "text/plain": [
       "\u001b[1m1×9 DataFrame\u001b[0m\n",
       "\u001b[1m Row \u001b[0m│\u001b[1m index \u001b[0m\u001b[1m name        \u001b[0m\u001b[1m ngenomes \u001b[0m\u001b[1m initial_diameter \u001b[0m\u001b[1m taxon_removed \u001b[0m\u001b[1m removed_genomes \u001b[0m\u001b[1m split  \u001b[0m\u001b[1m manual_threshold \u001b[0m\u001b[1m final_diameter \u001b[0m\n",
       "\u001b[1m     \u001b[0m│\u001b[90m Int64 \u001b[0m\u001b[90m SubStrin…   \u001b[0m\u001b[90m Int64    \u001b[0m\u001b[90m Float32          \u001b[0m\u001b[90m Bool          \u001b[0m\u001b[90m Int64           \u001b[0m\u001b[90m String \u001b[0m\u001b[90m Missing          \u001b[0m\u001b[90m String         \u001b[0m\n",
       "─────┼──────────────────────────────────────────────────────────────────────────────────────────────────────────────────────────\n",
       "   1 │     1  carotovorum         9          0.753825          false                1         \u001b[90m         missing  \u001b[0m 0.5649"
      ]
     },
     "execution_count": 7,
     "metadata": {},
     "output_type": "execute_result"
    }
   ],
   "source": [
    "complete_edits(edits)"
   ]
  }
 ],
 "metadata": {
  "@webio": {
   "lastCommId": "33667e0b-06d6-4432-bd39-6922c96fb2af",
   "lastKernelId": "2dfce4b9-11b7-4c9d-9989-bbdc0fb10af9"
  },
  "kernelspec": {
   "display_name": "Julia 1.5.1",
   "language": "julia",
   "name": "julia-1.5"
  },
  "language_info": {
   "file_extension": ".jl",
   "mimetype": "application/julia",
   "name": "julia",
   "version": "1.5.1"
  }
 },
 "nbformat": 4,
 "nbformat_minor": 5
}
