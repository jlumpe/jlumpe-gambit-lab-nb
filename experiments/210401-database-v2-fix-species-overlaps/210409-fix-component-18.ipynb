{
 "cells": [
  {
   "cell_type": "markdown",
   "id": "ranging-bidding",
   "metadata": {},
   "source": [
    "# 210409 Fix Component 18"
   ]
  },
  {
   "cell_type": "code",
   "execution_count": 1,
   "id": "patent-palace",
   "metadata": {},
   "outputs": [],
   "source": [
    "const COMPONENT = 18;"
   ]
  },
  {
   "cell_type": "code",
   "execution_count": 2,
   "id": "unlike-version",
   "metadata": {},
   "outputs": [
    {
     "data": {
      "text/html": [
       "<script>\n",
       "// Immediately-invoked-function-expression to avoid global variables.\n",
       "(function() {\n",
       "    var warning_div = document.getElementById(\"webio-warning-17332659852608391676\");\n",
       "    var hide = function () {\n",
       "        var script = document.getElementById(\"webio-setup-1306912721017856705\");\n",
       "        var parent = script && script.parentElement;\n",
       "        var grandparent = parent && parent.parentElement;\n",
       "        if (grandparent) {\n",
       "            grandparent.style.display = \"none\";\n",
       "        }\n",
       "        warning_div.style.display = \"none\";\n",
       "    };\n",
       "    if (typeof Jupyter !== \"undefined\") {\n",
       "        console.log(\"WebIO detected Jupyter notebook environment.\");\n",
       "        // Jupyter notebook.\n",
       "        var extensions = (\n",
       "            Jupyter\n",
       "            && Jupyter.notebook.config.data\n",
       "            && Jupyter.notebook.config.data.load_extensions\n",
       "        );\n",
       "        if (extensions && extensions[\"webio-jupyter-notebook\"]) {\n",
       "            // Extension already loaded.\n",
       "            console.log(\"Jupyter WebIO nbextension detected; not loading ad-hoc.\");\n",
       "            hide();\n",
       "            return;\n",
       "        }\n",
       "    } else if (window.location.pathname.includes(\"/lab\")) {\n",
       "        // Guessing JupyterLa\n",
       "        console.log(\"Jupyter Lab detected; make sure the @webio/jupyter-lab-provider labextension is installed.\");\n",
       "        hide();\n",
       "        return;\n",
       "    }\n",
       "})();\n",
       "\n",
       "</script>\n",
       "<p\n",
       "    id=\"webio-warning-17332659852608391676\"\n",
       "    class=\"output_text output_stderr\"\n",
       "    style=\"padding: 1em; font-weight: bold;\"\n",
       ">\n",
       "    Unable to load WebIO. Please make sure WebIO works for your Jupyter client.\n",
       "    For troubleshooting, please see <a href=\"https://juliagizmos.github.io/WebIO.jl/latest/providers/ijulia/\">\n",
       "    the WebIO/IJulia documentation</a>.\n",
       "    <!-- TODO: link to installation docs. -->\n",
       "</p>\n"
      ],
      "text/plain": [
       "HTML{String}(\"<script>\\n// Immediately-invoked-function-expression to avoid global variables.\\n(function() {\\n    var warning_div = document.getElementById(\\\"webio-warning-17332659852608391676\\\");\\n    var hide = function () {\\n        var script = document.getElementById(\\\"webio-setup-1306912721017856705\\\");\\n        var parent = script && script.parentElement;\\n        var grandparent = parent && parent.parentElement;\\n        if (grandparent) {\\n            grandparent.style.display = \\\"none\\\";\\n        }\\n        warning_div.style.display = \\\"none\\\";\\n    };\\n    if (typeof Jupyter !== \\\"undefined\\\") {\\n        console.log(\\\"WebIO detected Jupyter notebook environment.\\\");\\n        // Jupyter notebook.\\n        var extensions = (\\n            Jupyter\\n            && Jupyter.notebook.config.data\\n            && Jupyter.notebook.config.data.load_extensions\\n        );\\n        if (extensions && extensions[\\\"webio-jupyter-notebook\\\"]) {\\n            // Extension already loaded.\\n            console.log(\\\"Jupyter WebIO nbextension detected; not loading ad-hoc.\\\");\\n            hide();\\n            return;\\n        }\\n    } else if (window.location.pathname.includes(\\\"/lab\\\")) {\\n        // Guessing JupyterLa\\n        console.log(\\\"Jupyter Lab detected; make sure the @webio/jupyter-lab-provider labextension is installed.\\\");\\n        hide();\\n        return;\\n    }\\n})();\\n\\n</script>\\n<p\\n    id=\\\"webio-warning-17332659852608391676\\\"\\n    class=\\\"output_text output_stderr\\\"\\n    style=\\\"padding: 1em; font-weight: bold;\\\"\\n>\\n    Unable to load WebIO. Please make sure WebIO works for your Jupyter client.\\n    For troubleshooting, please see <a href=\\\"https://juliagizmos.github.io/WebIO.jl/latest/providers/ijulia/\\\">\\n    the WebIO/IJulia documentation</a>.\\n    <!-- TODO: link to installation docs. -->\\n</p>\\n\")"
      ]
     },
     "metadata": {},
     "output_type": "display_data"
    },
    {
     "data": {
      "text/html": [
       "<table class=\"data-frame\"><thead><tr><th></th><th>id</th><th>ncbi_id</th><th>name</th><th>rank</th><th>parent_id</th><th>in_v12</th><th>manual_threshold</th><th>report</th><th>ngenomes</th><th>comp_idx</th><th>diameter</th><th>outgoing</th><th>incoming</th><th>name_abbr</th></tr><tr><th></th><th>Int64</th><th>Int64?</th><th>String</th><th>String?</th><th>Int64?</th><th>Bool</th><th>Float64</th><th>Bool</th><th>Int64</th><th>Int64</th><th>Float32</th><th>Int64</th><th>Int64</th><th>SubStri…</th></tr></thead><tbody><p>2 rows × 14 columns</p><tr><th>1</th><td>575</td><td>384</td><td>Rhizobium leguminosarum</td><td>species</td><td>90</td><td>1</td><td>NaN</td><td>1</td><td>27</td><td>1</td><td>0.883943</td><td>1</td><td>0</td><td>leguminosarum</td></tr><tr><th>2</th><td>1537</td><td>29449</td><td>Rhizobium etli</td><td>species</td><td>90</td><td>1</td><td>NaN</td><td>1</td><td>6</td><td>2</td><td>0.866327</td><td>0</td><td>1</td><td>etli</td></tr></tbody></table>"
      ],
      "text/latex": [
       "\\begin{tabular}{r|cccccccccccccc}\n",
       "\t& id & ncbi\\_id & name & rank & parent\\_id & in\\_v12 & manual\\_threshold & report & ngenomes & comp\\_idx & diameter & outgoing & incoming & name\\_abbr\\\\\n",
       "\t\\hline\n",
       "\t& Int64 & Int64? & String & String? & Int64? & Bool & Float64 & Bool & Int64 & Int64 & Float32 & Int64 & Int64 & SubStri…\\\\\n",
       "\t\\hline\n",
       "\t1 & 575 & 384 & Rhizobium leguminosarum & species & 90 & 1 & NaN & 1 & 27 & 1 & 0.883943 & 1 & 0 & leguminosarum \\\\\n",
       "\t2 & 1537 & 29449 & Rhizobium etli & species & 90 & 1 & NaN & 1 & 6 & 2 & 0.866327 & 0 & 1 & etli \\\\\n",
       "\\end{tabular}\n"
      ],
      "text/plain": [
       "\u001b[1m2×14 DataFrame\u001b[0m\n",
       "\u001b[1m Row \u001b[0m│\u001b[1m id    \u001b[0m\u001b[1m ncbi_id \u001b[0m\u001b[1m name                    \u001b[0m\u001b[1m rank    \u001b[0m\u001b[1m parent_id \u001b[0m\u001b[1m in_v12 \u001b[0m\u001b[1m manual_threshold \u001b[0m\u001b[1m report \u001b[0m\u001b[1m ngenomes \u001b[0m\u001b[1m comp_idx \u001b[0m\u001b[1m diameter \u001b[0m\u001b[1m outgoing \u001b[0m\u001b[1m incoming \u001b[0m\u001b[1m name_abbr     \u001b[0m\n",
       "\u001b[1m     \u001b[0m│\u001b[90m Int64 \u001b[0m\u001b[90m Int64?  \u001b[0m\u001b[90m String                  \u001b[0m\u001b[90m String? \u001b[0m\u001b[90m Int64?    \u001b[0m\u001b[90m Bool   \u001b[0m\u001b[90m Float64          \u001b[0m\u001b[90m Bool   \u001b[0m\u001b[90m Int64    \u001b[0m\u001b[90m Int64    \u001b[0m\u001b[90m Float32  \u001b[0m\u001b[90m Int64    \u001b[0m\u001b[90m Int64    \u001b[0m\u001b[90m SubStrin…     \u001b[0m\n",
       "─────┼────────────────────────────────────────────────────────────────────────────────────────────────────────────────────────────────────────────────────────────────\n",
       "   1 │   575      384  Rhizobium leguminosarum  species         90    true              NaN     true        27         1  0.883943         1         0  leguminosarum\n",
       "   2 │  1537    29449  Rhizobium etli           species         90    true              NaN     true         6         2  0.866327         0         1  etli"
      ]
     },
     "metadata": {},
     "output_type": "display_data"
    }
   ],
   "source": [
    "include(\"fix-component-base.jl\");"
   ]
  },
  {
   "cell_type": "code",
   "execution_count": 3,
   "id": "raised-postage",
   "metadata": {},
   "outputs": [],
   "source": [
    "trees = Dict{String, Any}();"
   ]
  },
  {
   "cell_type": "code",
   "execution_count": 4,
   "id": "approximate-alias",
   "metadata": {},
   "outputs": [
    {
     "data": {
      "application/vnd.plotly.v1+json": {
       "data": [
        {
         "hoverinfo": "skip",
         "line": {
          "color": "#AEC7E8"
         },
         "mode": "lines",
         "showlegend": false,
         "type": "scatter",
         "x": [
          8.5,
          11.5,
          null,
          8.5,
          8.5,
          null,
          11.5,
          11.5,
          null
         ],
         "y": [
          0.6865501403808594,
          0.6865501403808594,
          null,
          0.6865501403808594,
          0.6104291081428528,
          null,
          0.6865501403808594,
          0.6519185900688171,
          null
         ],
         "yaxis": "y"
        },
        {
         "hoverinfo": "skip",
         "line": {
          "color": "#AEC7E8"
         },
         "mode": "lines",
         "showlegend": false,
         "type": "scatter",
         "x": [
          30,
          31,
          null,
          30,
          30,
          null,
          31,
          31,
          null
         ],
         "y": [
          0.5188153982162476,
          0.5188153982162476,
          null,
          0.5188153982162476,
          0,
          null,
          0.5188153982162476,
          0,
          null
         ],
         "yaxis": "y"
        },
        {
         "hoverinfo": "skip",
         "line": {
          "color": "#AEC7E8"
         },
         "mode": "lines",
         "showlegend": false,
         "type": "scatter",
         "x": [
          13,
          14,
          null,
          13,
          13,
          null,
          14,
          14,
          null
         ],
         "y": [
          0.632565975189209,
          0.632565975189209,
          null,
          0.632565975189209,
          0,
          null,
          0.632565975189209,
          0,
          null
         ],
         "yaxis": "y"
        },
        {
         "fill": "toself",
         "hoverinfo": "skip",
         "line": {
          "color": "#FFBB78"
         },
         "mode": "lines",
         "showlegend": false,
         "type": "scatter",
         "x": [
          1,
          1,
          2,
          2
         ],
         "y": [
          0,
          0.3797474801540375,
          0.3797474801540375,
          0
         ],
         "yaxis": "y"
        },
        {
         "hoverinfo": "skip",
         "line": {
          "color": "#AEC7E8"
         },
         "mode": "lines",
         "showlegend": false,
         "type": "scatter",
         "x": [
          28.5,
          30.5,
          null,
          28.5,
          28.5,
          null,
          30.5,
          30.5,
          null
         ],
         "y": [
          0.8443556427955627,
          0.8443556427955627,
          null,
          0.8443556427955627,
          0.338763564825058,
          null,
          0.8443556427955627,
          0.5188153982162476,
          null
         ],
         "yaxis": "y"
        },
        {
         "fill": "toself",
         "hoverinfo": "skip",
         "line": {
          "color": "#AEC7E8"
         },
         "mode": "lines",
         "showlegend": false,
         "type": "scatter",
         "x": [
          28,
          28,
          29,
          29
         ],
         "y": [
          0,
          0.338763564825058,
          0.338763564825058,
          0
         ],
         "yaxis": "y"
        },
        {
         "fill": "toself",
         "hoverinfo": "skip",
         "line": {
          "color": "#FFBB78"
         },
         "mode": "lines",
         "showlegend": false,
         "type": "scatter",
         "x": [
          5,
          5,
          6,
          6
         ],
         "y": [
          0,
          0.49937567114830017,
          0.49937567114830017,
          0
         ],
         "yaxis": "y"
        },
        {
         "hoverinfo": "skip",
         "line": {
          "color": "#AEC7E8"
         },
         "mode": "lines",
         "showlegend": false,
         "type": "scatter",
         "x": [
          12.5625,
          21.6875,
          null,
          12.5625,
          12.5625,
          null,
          21.6875,
          21.6875,
          null
         ],
         "y": [
          0.8048612475395203,
          0.8048612475395203,
          null,
          0.8048612475395203,
          0.7234276533126831,
          null,
          0.8048612475395203,
          0.7836198806762695,
          null
         ],
         "yaxis": "y"
        },
        {
         "fill": "toself",
         "hoverinfo": "skip",
         "line": {
          "color": "#AEC7E8"
         },
         "mode": "lines",
         "showlegend": false,
         "type": "scatter",
         "x": [
          23,
          23,
          24,
          24
         ],
         "y": [
          0,
          0.4096931219100952,
          0.4096931219100952,
          0
         ],
         "yaxis": "y"
        },
        {
         "hoverinfo": "skip",
         "line": {
          "color": "#AEC7E8"
         },
         "mode": "lines",
         "showlegend": false,
         "type": "scatter",
         "x": [
          25.5,
          27,
          null,
          25.5,
          25.5,
          null,
          27,
          27,
          null
         ],
         "y": [
          0.6938127875328064,
          0.6938127875328064,
          null,
          0.6938127875328064,
          0.3337573707103729,
          null,
          0.6938127875328064,
          0,
          null
         ],
         "yaxis": "y"
        },
        {
         "hoverinfo": "skip",
         "line": {
          "color": "#AEC7E8"
         },
         "mode": "lines",
         "showlegend": false,
         "type": "scatter",
         "x": [
          22.5,
          26.25,
          null,
          22.5,
          22.5,
          null,
          26.25,
          26.25,
          null
         ],
         "y": [
          0.7626786231994629,
          0.7626786231994629,
          null,
          0.7626786231994629,
          0.569891631603241,
          null,
          0.7626786231994629,
          0.6938127875328064,
          null
         ],
         "yaxis": "y"
        },
        {
         "hoverinfo": "skip",
         "line": {
          "color": "#666666"
         },
         "mode": "lines",
         "showlegend": false,
         "type": "scatter",
         "x": [
          3,
          23.3125,
          null,
          3,
          3,
          null,
          23.3125,
          23.3125,
          null
         ],
         "y": [
          0.9125849604606628,
          0.9125849604606628,
          null,
          0.9125849604606628,
          0.8663272857666016,
          null,
          0.9125849604606628,
          0.8839429020881653,
          null
         ],
         "yaxis": "y"
        },
        {
         "hoverinfo": "skip",
         "line": {
          "color": "#AEC7E8"
         },
         "mode": "lines",
         "showlegend": false,
         "type": "scatter",
         "x": [
          17.125,
          29.5,
          null,
          17.125,
          17.125,
          null,
          29.5,
          29.5,
          null
         ],
         "y": [
          0.8839429020881653,
          0.8839429020881653,
          null,
          0.8839429020881653,
          0.8048612475395203,
          null,
          0.8839429020881653,
          0.8443556427955627,
          null
         ],
         "yaxis": "y"
        },
        {
         "hoverinfo": "skip",
         "line": {
          "color": "#AEC7E8"
         },
         "mode": "lines",
         "showlegend": false,
         "type": "scatter",
         "x": [
          19,
          24.375,
          null,
          19,
          19,
          null,
          24.375,
          24.375,
          null
         ],
         "y": [
          0.7836198806762695,
          0.7836198806762695,
          null,
          0.7836198806762695,
          0.6843859553337097,
          null,
          0.7836198806762695,
          0.7626786231994629,
          null
         ],
         "yaxis": "y"
        },
        {
         "hoverinfo": "skip",
         "line": {
          "color": "#AEC7E8"
         },
         "mode": "lines",
         "showlegend": false,
         "type": "scatter",
         "x": [
          7.5,
          9.5,
          null,
          7.5,
          7.5,
          null,
          9.5,
          9.5,
          null
         ],
         "y": [
          0.6104291081428528,
          0.6104291081428528,
          null,
          0.6104291081428528,
          0.2816580533981323,
          null,
          0.6104291081428528,
          0.31387126445770264,
          null
         ],
         "yaxis": "y"
        },
        {
         "hoverinfo": "skip",
         "line": {
          "color": "#AEC7E8"
         },
         "mode": "lines",
         "showlegend": false,
         "type": "scatter",
         "x": [
          11,
          12,
          null,
          11,
          11,
          null,
          12,
          12,
          null
         ],
         "y": [
          0.6519185900688171,
          0.6519185900688171,
          null,
          0.6519185900688171,
          0,
          null,
          0.6519185900688171,
          0,
          null
         ],
         "yaxis": "y"
        },
        {
         "fill": "toself",
         "hoverinfo": "skip",
         "line": {
          "color": "#AEC7E8"
         },
         "mode": "lines",
         "showlegend": false,
         "type": "scatter",
         "x": [
          17,
          17,
          19,
          19
         ],
         "y": [
          0,
          0.4393477737903595,
          0.4393477737903595,
          0
         ],
         "yaxis": "y"
        },
        {
         "fill": "toself",
         "hoverinfo": "skip",
         "line": {
          "color": "#AEC7E8"
         },
         "mode": "lines",
         "showlegend": false,
         "type": "scatter",
         "x": [
          9,
          9,
          10,
          10
         ],
         "y": [
          0,
          0.31387126445770264,
          0.31387126445770264,
          0
         ],
         "yaxis": "y"
        },
        {
         "hoverinfo": "skip",
         "line": {
          "color": "#AEC7E8"
         },
         "mode": "lines",
         "showlegend": false,
         "type": "scatter",
         "x": [
          13.5,
          15,
          null,
          13.5,
          13.5,
          null,
          15,
          15,
          null
         ],
         "y": [
          0.6862950921058655,
          0.6862950921058655,
          null,
          0.6862950921058655,
          0.632565975189209,
          null,
          0.6862950921058655,
          0,
          null
         ],
         "yaxis": "y"
        },
        {
         "hoverinfo": "skip",
         "line": {
          "color": "#FFBB78"
         },
         "mode": "lines",
         "showlegend": false,
         "type": "scatter",
         "x": [
          3.5,
          5.5,
          null,
          3.5,
          3.5,
          null,
          5.5,
          5.5,
          null
         ],
         "y": [
          0.8185405135154724,
          0.8185405135154724,
          null,
          0.8185405135154724,
          0.4571065604686737,
          null,
          0.8185405135154724,
          0.49937567114830017,
          null
         ],
         "yaxis": "y"
        },
        {
         "fill": "toself",
         "hoverinfo": "skip",
         "line": {
          "color": "#AEC7E8"
         },
         "mode": "lines",
         "showlegend": false,
         "type": "scatter",
         "x": [
          25,
          25,
          26,
          26
         ],
         "y": [
          0,
          0.3337573707103729,
          0.3337573707103729,
          0
         ],
         "yaxis": "y"
        },
        {
         "hoverinfo": "skip",
         "line": {
          "color": "#AEC7E8"
         },
         "mode": "lines",
         "showlegend": false,
         "type": "scatter",
         "x": [
          10,
          15.125,
          null,
          10,
          10,
          null,
          15.125,
          15.125,
          null
         ],
         "y": [
          0.7234276533126831,
          0.7234276533126831,
          null,
          0.7234276533126831,
          0.6865501403808594,
          null,
          0.7234276533126831,
          0.6985664367675781,
          null
         ],
         "yaxis": "y"
        },
        {
         "fill": "toself",
         "hoverinfo": "skip",
         "line": {
          "color": "#FFBB78"
         },
         "mode": "lines",
         "showlegend": false,
         "type": "scatter",
         "x": [
          3,
          3,
          4,
          4
         ],
         "y": [
          0,
          0.4571065604686737,
          0.4571065604686737,
          0
         ],
         "yaxis": "y"
        },
        {
         "hoverinfo": "skip",
         "line": {
          "color": "#FFBB78"
         },
         "mode": "lines",
         "showlegend": false,
         "type": "scatter",
         "x": [
          1.5,
          4.5,
          null,
          1.5,
          1.5,
          null,
          4.5,
          4.5,
          null
         ],
         "y": [
          0.8663272857666016,
          0.8663272857666016,
          null,
          0.8663272857666016,
          0.3797474801540375,
          null,
          0.8663272857666016,
          0.8185405135154724,
          null
         ],
         "yaxis": "y"
        },
        {
         "fill": "toself",
         "hoverinfo": "skip",
         "line": {
          "color": "#AEC7E8"
         },
         "mode": "lines",
         "showlegend": false,
         "type": "scatter",
         "x": [
          7,
          7,
          8,
          8
         ],
         "y": [
          0,
          0.2816580533981323,
          0.2816580533981323,
          0
         ],
         "yaxis": "y"
        },
        {
         "hoverinfo": "skip",
         "line": {
          "color": "#AEC7E8"
         },
         "mode": "lines",
         "showlegend": false,
         "type": "scatter",
         "x": [
          14.25,
          16,
          null,
          14.25,
          14.25,
          null,
          16,
          16,
          null
         ],
         "y": [
          0.6985664367675781,
          0.6985664367675781,
          null,
          0.6985664367675781,
          0.6862950921058655,
          null,
          0.6985664367675781,
          0,
          null
         ],
         "yaxis": "y"
        },
        {
         "hoverinfo": "skip",
         "line": {
          "color": "#AEC7E8"
         },
         "mode": "lines",
         "showlegend": false,
         "type": "scatter",
         "x": [
          21.5,
          23.5,
          null,
          21.5,
          21.5,
          null,
          23.5,
          23.5,
          null
         ],
         "y": [
          0.569891631603241,
          0.569891631603241,
          null,
          0.569891631603241,
          0.38539019227027893,
          null,
          0.569891631603241,
          0.4096931219100952,
          null
         ],
         "yaxis": "y"
        },
        {
         "fill": "toself",
         "hoverinfo": "skip",
         "line": {
          "color": "#AEC7E8"
         },
         "mode": "lines",
         "showlegend": false,
         "type": "scatter",
         "x": [
          21,
          21,
          22,
          22
         ],
         "y": [
          0,
          0.38539019227027893,
          0.38539019227027893,
          0
         ],
         "yaxis": "y"
        },
        {
         "hoverinfo": "skip",
         "line": {
          "color": "#AEC7E8"
         },
         "mode": "lines",
         "showlegend": false,
         "type": "scatter",
         "x": [
          18,
          20,
          null,
          18,
          18,
          null,
          20,
          20,
          null
         ],
         "y": [
          0.6843859553337097,
          0.6843859553337097,
          null,
          0.6843859553337097,
          0.4393477737903595,
          null,
          0.6843859553337097,
          0,
          null
         ],
         "yaxis": "y"
        },
        {
         "customdata": [
          [
           54,
           6,
           "leguminosarum"
          ],
          [
           47,
           2,
           "leguminosarum"
          ],
          [
           50,
           2,
           "leguminosarum"
          ],
          [
           40,
           2,
           "etli"
          ],
          [
           62,
           4,
           "leguminosarum"
          ],
          [
           39,
           2,
           "leguminosarum"
          ],
          [
           46,
           2,
           "etli"
          ],
          [
           60,
           23,
           "leguminosarum"
          ],
          [
           42,
           2,
           "leguminosarum"
          ],
          [
           55,
           3,
           "leguminosarum"
          ],
          [
           58,
           7,
           "leguminosarum"
          ],
          [
           65,
           33,
           "(mixed)"
          ],
          [
           64,
           27,
           "leguminosarum"
          ],
          [
           59,
           13,
           "leguminosarum"
          ],
          [
           49,
           4,
           "leguminosarum"
          ],
          [
           51,
           2,
           "leguminosarum"
          ],
          [
           44,
           5,
           "leguminosarum"
          ],
          [
           37,
           2,
           "leguminosarum"
          ],
          [
           53,
           3,
           "leguminosarum"
          ],
          [
           61,
           4,
           "etli"
          ],
          [
           38,
           2,
           "leguminosarum"
          ],
          [
           57,
           10,
           "leguminosarum"
          ],
          [
           45,
           2,
           "etli"
          ],
          [
           63,
           6,
           "etli"
          ],
          [
           36,
           2,
           "leguminosarum"
          ],
          [
           56,
           4,
           "leguminosarum"
          ],
          [
           48,
           4,
           "leguminosarum"
          ],
          [
           52,
           6,
           "leguminosarum"
          ],
          [
           41,
           2,
           "leguminosarum"
          ]
         ],
         "hovertemplate": "ID: %{customdata[0]}<br>\nHeight: %{y:.3f}<br>\nGenome count: %{customdata[1]}\n<br>\n%{customdata[2]}\n<extra></extra>",
         "marker": {
          "color": [
           "#AEC7E8",
           "#AEC7E8",
           "#AEC7E8",
           "#FFBB78",
           "#AEC7E8",
           "#AEC7E8",
           "#FFBB78",
           "#AEC7E8",
           "#AEC7E8",
           "#AEC7E8",
           "#AEC7E8",
           "#666666",
           "#AEC7E8",
           "#AEC7E8",
           "#AEC7E8",
           "#AEC7E8",
           "#AEC7E8",
           "#AEC7E8",
           "#AEC7E8",
           "#FFBB78",
           "#AEC7E8",
           "#AEC7E8",
           "#FFBB78",
           "#FFBB78",
           "#AEC7E8",
           "#AEC7E8",
           "#AEC7E8",
           "#AEC7E8",
           "#AEC7E8"
          ],
          "size": [
           4,
           8,
           8,
           8,
           8,
           8,
           8,
           8,
           8,
           8,
           4,
           8,
           4,
           4,
           8,
           4,
           8,
           8,
           4,
           8,
           8,
           4,
           8,
           8,
           8,
           4,
           8,
           8,
           8
          ]
         },
         "mode": "markers",
         "showlegend": false,
         "type": "scatter",
         "x": [
          10,
          30.5,
          13.5,
          1.5,
          29.5,
          28.5,
          5.5,
          17.125,
          23.5,
          26.25,
          24.375,
          13.15625,
          23.3125,
          21.6875,
          8.5,
          11.5,
          18,
          9.5,
          14.25,
          4.5,
          25.5,
          12.5625,
          3.5,
          3,
          7.5,
          15.125,
          22.5,
          19,
          21.5
         ],
         "y": [
          0.6865501403808594,
          0.5188153982162476,
          0.632565975189209,
          0.3797474801540375,
          0.8443556427955627,
          0.338763564825058,
          0.49937567114830017,
          0.8048612475395203,
          0.4096931219100952,
          0.6938127875328064,
          0.7626786231994629,
          0.9125849604606628,
          0.8839429020881653,
          0.7836198806762695,
          0.6104291081428528,
          0.6519185900688171,
          0.4393477737903595,
          0.31387126445770264,
          0.6862950921058655,
          0.8185405135154724,
          0.3337573707103729,
          0.7234276533126831,
          0.4571065604686737,
          0.8663272857666016,
          0.2816580533981323,
          0.6985664367675781,
          0.569891631603241,
          0.6843859553337097,
          0.38539019227027893
         ],
         "yaxis": "y"
        },
        {
         "colorscale": [
          [
           0,
           "#666666"
          ],
          [
           0.1,
           "#AEC7E8"
          ],
          [
           0.2,
           "#FFBB78"
          ],
          [
           0.3,
           "#98DF8A"
          ],
          [
           0.4,
           "#FF9896"
          ],
          [
           0.5,
           "#C5B0D5"
          ],
          [
           0.6,
           "#C49C94"
          ],
          [
           0.7,
           "#F7B6D2"
          ],
          [
           0.8,
           "#C7C7C7"
          ],
          [
           0.9,
           "#DBDB8D"
          ],
          [
           1,
           "#9EDAE5"
          ]
         ],
         "customdata": [
          [
           [
            "ID 40",
            "etli"
           ],
           [
            "ID 45",
            "etli"
           ],
           [
            "ID 46",
            "etli"
           ],
           [
            "ID 36",
            "leguminosarum"
           ],
           [
            "ID 37",
            "leguminosarum"
           ],
           [
            "Genome 16",
            "leguminosarum"
           ],
           [
            "Genome 27",
            "leguminosarum"
           ],
           [
            "Genome 8",
            "leguminosarum"
           ],
           [
            "Genome 20",
            "leguminosarum"
           ],
           [
            "Genome 23",
            "leguminosarum"
           ],
           [
            "Genome 15",
            "leguminosarum"
           ],
           [
            "ID 44",
            "leguminosarum"
           ],
           [
            "Genome 22",
            "leguminosarum"
           ],
           [
            "ID 41",
            "leguminosarum"
           ],
           [
            "ID 42",
            "leguminosarum"
           ],
           [
            "ID 38",
            "leguminosarum"
           ],
           [
            "Genome 25",
            "leguminosarum"
           ],
           [
            "ID 39",
            "leguminosarum"
           ],
           [
            "Genome 2",
            "leguminosarum"
           ],
           [
            "Genome 4",
            "leguminosarum"
           ]
          ]
         ],
         "hovertemplate": "%{customdata[0]} <br>\n%{customdata[1]}\n<extra></extra>\n",
         "showscale": false,
         "type": "heatmap",
         "x": [
          0.5,
          2.5,
          4.5,
          6.5,
          8.5,
          10.5,
          11.5,
          12.5,
          13.5,
          14.5,
          15.5,
          16.5,
          19.5,
          20.5,
          22.5,
          24.5,
          26.5,
          27.5,
          29.5,
          30.5,
          31.5
         ],
         "xgap": 1,
         "yaxis": "y2",
         "z": [
          [
           2,
           2,
           2,
           1,
           1,
           1,
           1,
           1,
           1,
           1,
           1,
           1,
           1,
           1,
           1,
           1,
           1,
           1,
           1,
           1
          ]
         ],
         "zmax": 10,
         "zmin": 0
        }
       ],
       "frames": [],
       "layout": {
        "autosize": true,
        "hovermode": "closest",
        "margin": {
         "b": 50,
         "l": 50,
         "r": 50,
         "t": 60
        },
        "xaxis": {
         "autorange": true,
         "range": [
          -0.2579762989972654,
          32.257976298997264
         ],
         "type": "linear",
         "visible": false
        },
        "yaxis": {
         "autorange": true,
         "range": [
          -0.05143181135544198,
          0.9772044157533977
         ],
         "type": "linear"
        },
        "yaxis2": {
         "autorange": true,
         "domain": [
          0,
          0.05
         ],
         "fixedrange": true,
         "range": [
          -0.5,
          0.5
         ],
         "visible": false
        }
       }
      },
      "application/vnd.webio.node+json": {
       "children": [
        {
         "children": [],
         "instanceArgs": {
          "namespace": "html",
          "tag": "div"
         },
         "nodeType": "DOM",
         "props": {
          "id": "plot-7f171cf0-ede2-48a8-88c7-f97f65c47566"
         },
         "type": "node"
        }
       ],
       "instanceArgs": {
        "handlers": {
         "__get_gd_contents": [
          "(function (prop){prop==\"data\" ? (WebIO.setval({\"name\":\"__gd_contents\",\"scope\":\"1370776156364525199\",\"id\":\"16158991728368240948\",\"type\":\"observable\"},this.plotElem.data)) : undefined; return prop==\"layout\" ? (WebIO.setval({\"name\":\"__gd_contents\",\"scope\":\"1370776156364525199\",\"id\":\"16158991728368240948\",\"type\":\"observable\"},this.plotElem.layout)) : undefined})"
         ],
         "_commands": [
          "(function (args){var fn=args.shift(); var elem=this.plotElem; var Plotly=this.Plotly; args.unshift(elem); return Plotly[fn].apply(this,args)})"
         ],
         "_downloadImage": [
          "(function (options){return this.Plotly.downloadImage(this.plotElem,options)})"
         ],
         "_toImage": [
          "(function (options){return this.Plotly.toImage(this.plotElem,options).then((function (data){return WebIO.setval({\"name\":\"image\",\"scope\":\"1370776156364525199\",\"id\":\"10298730159174688955\",\"type\":\"observable\"},data)}))})"
         ]
        },
        "id": "1370776156364525199",
        "imports": {
         "data": [
          {
           "name": "Plotly",
           "type": "js",
           "url": "/assetserver/e6903599031aaef8675931dfcd7df98a1aeffbfc-plotly-latest.min.js"
          },
          {
           "name": null,
           "type": "js",
           "url": "/assetserver/74a5dea81f21b0b802ef1ee92f1c8a504eac1a0c-plotly_webio.bundle.js"
          }
         ],
         "type": "async_block"
        },
        "mount_callbacks": [
         "function () {\n    var handler = ((function (Plotly,PlotlyWebIO){PlotlyWebIO.init(WebIO); var gd=this.dom.querySelector(\"#plot-7f171cf0-ede2-48a8-88c7-f97f65c47566\"); this.plotElem=gd; this.Plotly=Plotly; (window.Blink!==undefined) ? (gd.style.width=\"100%\", gd.style.height=\"100vh\", gd.style.marginLeft=\"0%\", gd.style.marginTop=\"0vh\") : undefined; window.onresize=(function (){return Plotly.Plots.resize(gd)}); Plotly.newPlot(gd,[{\"showlegend\":false,\"mode\":\"lines\",\"line\":{\"color\":\"#AEC7E8\"},\"y\":[0.6865501403808594,0.6865501403808594,null,0.6865501403808594,0.6104291081428528,null,0.6865501403808594,0.6519185900688171,null],\"type\":\"scatter\",\"hoverinfo\":\"skip\",\"yaxis\":\"y1\",\"x\":[8.5,11.5,null,8.5,8.5,null,11.5,11.5,null]},{\"showlegend\":false,\"mode\":\"lines\",\"line\":{\"color\":\"#AEC7E8\"},\"y\":[0.5188153982162476,0.5188153982162476,null,0.5188153982162476,0.0,null,0.5188153982162476,0.0,null],\"type\":\"scatter\",\"hoverinfo\":\"skip\",\"yaxis\":\"y1\",\"x\":[30.0,31.0,null,30.0,30.0,null,31.0,31.0,null]},{\"showlegend\":false,\"mode\":\"lines\",\"line\":{\"color\":\"#AEC7E8\"},\"y\":[0.632565975189209,0.632565975189209,null,0.632565975189209,0.0,null,0.632565975189209,0.0,null],\"type\":\"scatter\",\"hoverinfo\":\"skip\",\"yaxis\":\"y1\",\"x\":[13.0,14.0,null,13.0,13.0,null,14.0,14.0,null]},{\"showlegend\":false,\"mode\":\"lines\",\"line\":{\"color\":\"#FFBB78\"},\"y\":[0.0,0.3797474801540375,0.3797474801540375,0.0],\"type\":\"scatter\",\"fill\":\"toself\",\"hoverinfo\":\"skip\",\"yaxis\":\"y1\",\"x\":[1.0,1.0,2.0,2.0]},{\"showlegend\":false,\"mode\":\"lines\",\"line\":{\"color\":\"#AEC7E8\"},\"y\":[0.8443556427955627,0.8443556427955627,null,0.8443556427955627,0.338763564825058,null,0.8443556427955627,0.5188153982162476,null],\"type\":\"scatter\",\"hoverinfo\":\"skip\",\"yaxis\":\"y1\",\"x\":[28.5,30.5,null,28.5,28.5,null,30.5,30.5,null]},{\"showlegend\":false,\"mode\":\"lines\",\"line\":{\"color\":\"#AEC7E8\"},\"y\":[0.0,0.338763564825058,0.338763564825058,0.0],\"type\":\"scatter\",\"fill\":\"toself\",\"hoverinfo\":\"skip\",\"yaxis\":\"y1\",\"x\":[28.0,28.0,29.0,29.0]},{\"showlegend\":false,\"mode\":\"lines\",\"line\":{\"color\":\"#FFBB78\"},\"y\":[0.0,0.49937567114830017,0.49937567114830017,0.0],\"type\":\"scatter\",\"fill\":\"toself\",\"hoverinfo\":\"skip\",\"yaxis\":\"y1\",\"x\":[5.0,5.0,6.0,6.0]},{\"showlegend\":false,\"mode\":\"lines\",\"line\":{\"color\":\"#AEC7E8\"},\"y\":[0.8048612475395203,0.8048612475395203,null,0.8048612475395203,0.7234276533126831,null,0.8048612475395203,0.7836198806762695,null],\"type\":\"scatter\",\"hoverinfo\":\"skip\",\"yaxis\":\"y1\",\"x\":[12.5625,21.6875,null,12.5625,12.5625,null,21.6875,21.6875,null]},{\"showlegend\":false,\"mode\":\"lines\",\"line\":{\"color\":\"#AEC7E8\"},\"y\":[0.0,0.4096931219100952,0.4096931219100952,0.0],\"type\":\"scatter\",\"fill\":\"toself\",\"hoverinfo\":\"skip\",\"yaxis\":\"y1\",\"x\":[23.0,23.0,24.0,24.0]},{\"showlegend\":false,\"mode\":\"lines\",\"line\":{\"color\":\"#AEC7E8\"},\"y\":[0.6938127875328064,0.6938127875328064,null,0.6938127875328064,0.3337573707103729,null,0.6938127875328064,0.0,null],\"type\":\"scatter\",\"hoverinfo\":\"skip\",\"yaxis\":\"y1\",\"x\":[25.5,27.0,null,25.5,25.5,null,27.0,27.0,null]},{\"showlegend\":false,\"mode\":\"lines\",\"line\":{\"color\":\"#AEC7E8\"},\"y\":[0.7626786231994629,0.7626786231994629,null,0.7626786231994629,0.569891631603241,null,0.7626786231994629,0.6938127875328064,null],\"type\":\"scatter\",\"hoverinfo\":\"skip\",\"yaxis\":\"y1\",\"x\":[22.5,26.25,null,22.5,22.5,null,26.25,26.25,null]},{\"showlegend\":false,\"mode\":\"lines\",\"line\":{\"color\":\"#666666\"},\"y\":[0.9125849604606628,0.9125849604606628,null,0.9125849604606628,0.8663272857666016,null,0.9125849604606628,0.8839429020881653,null],\"type\":\"scatter\",\"hoverinfo\":\"skip\",\"yaxis\":\"y1\",\"x\":[3.0,23.3125,null,3.0,3.0,null,23.3125,23.3125,null]},{\"showlegend\":false,\"mode\":\"lines\",\"line\":{\"color\":\"#AEC7E8\"},\"y\":[0.8839429020881653,0.8839429020881653,null,0.8839429020881653,0.8048612475395203,null,0.8839429020881653,0.8443556427955627,null],\"type\":\"scatter\",\"hoverinfo\":\"skip\",\"yaxis\":\"y1\",\"x\":[17.125,29.5,null,17.125,17.125,null,29.5,29.5,null]},{\"showlegend\":false,\"mode\":\"lines\",\"line\":{\"color\":\"#AEC7E8\"},\"y\":[0.7836198806762695,0.7836198806762695,null,0.7836198806762695,0.6843859553337097,null,0.7836198806762695,0.7626786231994629,null],\"type\":\"scatter\",\"hoverinfo\":\"skip\",\"yaxis\":\"y1\",\"x\":[19.0,24.375,null,19.0,19.0,null,24.375,24.375,null]},{\"showlegend\":false,\"mode\":\"lines\",\"line\":{\"color\":\"#AEC7E8\"},\"y\":[0.6104291081428528,0.6104291081428528,null,0.6104291081428528,0.2816580533981323,null,0.6104291081428528,0.31387126445770264,null],\"type\":\"scatter\",\"hoverinfo\":\"skip\",\"yaxis\":\"y1\",\"x\":[7.5,9.5,null,7.5,7.5,null,9.5,9.5,null]},{\"showlegend\":false,\"mode\":\"lines\",\"line\":{\"color\":\"#AEC7E8\"},\"y\":[0.6519185900688171,0.6519185900688171,null,0.6519185900688171,0.0,null,0.6519185900688171,0.0,null],\"type\":\"scatter\",\"hoverinfo\":\"skip\",\"yaxis\":\"y1\",\"x\":[11.0,12.0,null,11.0,11.0,null,12.0,12.0,null]},{\"showlegend\":false,\"mode\":\"lines\",\"line\":{\"color\":\"#AEC7E8\"},\"y\":[0.0,0.4393477737903595,0.4393477737903595,0.0],\"type\":\"scatter\",\"fill\":\"toself\",\"hoverinfo\":\"skip\",\"yaxis\":\"y1\",\"x\":[17.0,17.0,19.0,19.0]},{\"showlegend\":false,\"mode\":\"lines\",\"line\":{\"color\":\"#AEC7E8\"},\"y\":[0.0,0.31387126445770264,0.31387126445770264,0.0],\"type\":\"scatter\",\"fill\":\"toself\",\"hoverinfo\":\"skip\",\"yaxis\":\"y1\",\"x\":[9.0,9.0,10.0,10.0]},{\"showlegend\":false,\"mode\":\"lines\",\"line\":{\"color\":\"#AEC7E8\"},\"y\":[0.6862950921058655,0.6862950921058655,null,0.6862950921058655,0.632565975189209,null,0.6862950921058655,0.0,null],\"type\":\"scatter\",\"hoverinfo\":\"skip\",\"yaxis\":\"y1\",\"x\":[13.5,15.0,null,13.5,13.5,null,15.0,15.0,null]},{\"showlegend\":false,\"mode\":\"lines\",\"line\":{\"color\":\"#FFBB78\"},\"y\":[0.8185405135154724,0.8185405135154724,null,0.8185405135154724,0.4571065604686737,null,0.8185405135154724,0.49937567114830017,null],\"type\":\"scatter\",\"hoverinfo\":\"skip\",\"yaxis\":\"y1\",\"x\":[3.5,5.5,null,3.5,3.5,null,5.5,5.5,null]},{\"showlegend\":false,\"mode\":\"lines\",\"line\":{\"color\":\"#AEC7E8\"},\"y\":[0.0,0.3337573707103729,0.3337573707103729,0.0],\"type\":\"scatter\",\"fill\":\"toself\",\"hoverinfo\":\"skip\",\"yaxis\":\"y1\",\"x\":[25.0,25.0,26.0,26.0]},{\"showlegend\":false,\"mode\":\"lines\",\"line\":{\"color\":\"#AEC7E8\"},\"y\":[0.7234276533126831,0.7234276533126831,null,0.7234276533126831,0.6865501403808594,null,0.7234276533126831,0.6985664367675781,null],\"type\":\"scatter\",\"hoverinfo\":\"skip\",\"yaxis\":\"y1\",\"x\":[10.0,15.125,null,10.0,10.0,null,15.125,15.125,null]},{\"showlegend\":false,\"mode\":\"lines\",\"line\":{\"color\":\"#FFBB78\"},\"y\":[0.0,0.4571065604686737,0.4571065604686737,0.0],\"type\":\"scatter\",\"fill\":\"toself\",\"hoverinfo\":\"skip\",\"yaxis\":\"y1\",\"x\":[3.0,3.0,4.0,4.0]},{\"showlegend\":false,\"mode\":\"lines\",\"line\":{\"color\":\"#FFBB78\"},\"y\":[0.8663272857666016,0.8663272857666016,null,0.8663272857666016,0.3797474801540375,null,0.8663272857666016,0.8185405135154724,null],\"type\":\"scatter\",\"hoverinfo\":\"skip\",\"yaxis\":\"y1\",\"x\":[1.5,4.5,null,1.5,1.5,null,4.5,4.5,null]},{\"showlegend\":false,\"mode\":\"lines\",\"line\":{\"color\":\"#AEC7E8\"},\"y\":[0.0,0.2816580533981323,0.2816580533981323,0.0],\"type\":\"scatter\",\"fill\":\"toself\",\"hoverinfo\":\"skip\",\"yaxis\":\"y1\",\"x\":[7.0,7.0,8.0,8.0]},{\"showlegend\":false,\"mode\":\"lines\",\"line\":{\"color\":\"#AEC7E8\"},\"y\":[0.6985664367675781,0.6985664367675781,null,0.6985664367675781,0.6862950921058655,null,0.6985664367675781,0.0,null],\"type\":\"scatter\",\"hoverinfo\":\"skip\",\"yaxis\":\"y1\",\"x\":[14.25,16.0,null,14.25,14.25,null,16.0,16.0,null]},{\"showlegend\":false,\"mode\":\"lines\",\"line\":{\"color\":\"#AEC7E8\"},\"y\":[0.569891631603241,0.569891631603241,null,0.569891631603241,0.38539019227027893,null,0.569891631603241,0.4096931219100952,null],\"type\":\"scatter\",\"hoverinfo\":\"skip\",\"yaxis\":\"y1\",\"x\":[21.5,23.5,null,21.5,21.5,null,23.5,23.5,null]},{\"showlegend\":false,\"mode\":\"lines\",\"line\":{\"color\":\"#AEC7E8\"},\"y\":[0.0,0.38539019227027893,0.38539019227027893,0.0],\"type\":\"scatter\",\"fill\":\"toself\",\"hoverinfo\":\"skip\",\"yaxis\":\"y1\",\"x\":[21.0,21.0,22.0,22.0]},{\"showlegend\":false,\"mode\":\"lines\",\"line\":{\"color\":\"#AEC7E8\"},\"y\":[0.6843859553337097,0.6843859553337097,null,0.6843859553337097,0.4393477737903595,null,0.6843859553337097,0.0,null],\"type\":\"scatter\",\"hoverinfo\":\"skip\",\"yaxis\":\"y1\",\"x\":[18.0,20.0,null,18.0,18.0,null,20.0,20.0,null]},{\"showlegend\":false,\"mode\":\"markers\",\"marker\":{\"color\":[\"#AEC7E8\",\"#AEC7E8\",\"#AEC7E8\",\"#FFBB78\",\"#AEC7E8\",\"#AEC7E8\",\"#FFBB78\",\"#AEC7E8\",\"#AEC7E8\",\"#AEC7E8\",\"#AEC7E8\",\"#666666\",\"#AEC7E8\",\"#AEC7E8\",\"#AEC7E8\",\"#AEC7E8\",\"#AEC7E8\",\"#AEC7E8\",\"#AEC7E8\",\"#FFBB78\",\"#AEC7E8\",\"#AEC7E8\",\"#FFBB78\",\"#FFBB78\",\"#AEC7E8\",\"#AEC7E8\",\"#AEC7E8\",\"#AEC7E8\",\"#AEC7E8\"],\"size\":[4,8,8,8,8,8,8,8,8,8,4,8,4,4,8,4,8,8,4,8,8,4,8,8,8,4,8,8,8]},\"y\":[0.6865501403808594,0.5188153982162476,0.632565975189209,0.3797474801540375,0.8443556427955627,0.338763564825058,0.49937567114830017,0.8048612475395203,0.4096931219100952,0.6938127875328064,0.7626786231994629,0.9125849604606628,0.8839429020881653,0.7836198806762695,0.6104291081428528,0.6519185900688171,0.4393477737903595,0.31387126445770264,0.6862950921058655,0.8185405135154724,0.3337573707103729,0.7234276533126831,0.4571065604686737,0.8663272857666016,0.2816580533981323,0.6985664367675781,0.569891631603241,0.6843859553337097,0.38539019227027893],\"type\":\"scatter\",\"customdata\":[[54,6,\"leguminosarum\"],[47,2,\"leguminosarum\"],[50,2,\"leguminosarum\"],[40,2,\"etli\"],[62,4,\"leguminosarum\"],[39,2,\"leguminosarum\"],[46,2,\"etli\"],[60,23,\"leguminosarum\"],[42,2,\"leguminosarum\"],[55,3,\"leguminosarum\"],[58,7,\"leguminosarum\"],[65,33,\"(mixed)\"],[64,27,\"leguminosarum\"],[59,13,\"leguminosarum\"],[49,4,\"leguminosarum\"],[51,2,\"leguminosarum\"],[44,5,\"leguminosarum\"],[37,2,\"leguminosarum\"],[53,3,\"leguminosarum\"],[61,4,\"etli\"],[38,2,\"leguminosarum\"],[57,10,\"leguminosarum\"],[45,2,\"etli\"],[63,6,\"etli\"],[36,2,\"leguminosarum\"],[56,4,\"leguminosarum\"],[48,4,\"leguminosarum\"],[52,6,\"leguminosarum\"],[41,2,\"leguminosarum\"]],\"yaxis\":\"y1\",\"hovertemplate\":\"ID: %{customdata[0]}<br>\\nHeight: %{y:.3f}<br>\\nGenome count: %{customdata[1]}\\n<br>\\n%{customdata[2]}\\n<extra></extra>\",\"x\":[10.0,30.5,13.5,1.5,29.5,28.5,5.5,17.125,23.5,26.25,24.375,13.15625,23.3125,21.6875,8.5,11.5,18.0,9.5,14.25,4.5,25.5,12.5625,3.5,3.0,7.5,15.125,22.5,19.0,21.5]},{\"colorscale\":[[0.0,\"#666666\"],[0.1,\"#AEC7E8\"],[0.2,\"#FFBB78\"],[0.3,\"#98DF8A\"],[0.4,\"#FF9896\"],[0.5,\"#C5B0D5\"],[0.6,\"#C49C94\"],[0.7,\"#F7B6D2\"],[0.8,\"#C7C7C7\"],[0.9,\"#DBDB8D\"],[1.0,\"#9EDAE5\"]],\"yaxis\":\"y2\",\"showscale\":false,\"x\":[0.5,2.5,4.5,6.5,8.5,10.5,11.5,12.5,13.5,14.5,15.5,16.5,19.5,20.5,22.5,24.5,26.5,27.5,29.5,30.5,31.5],\"customdata\":[[[\"ID 40\",\"etli\"],[\"ID 45\",\"etli\"],[\"ID 46\",\"etli\"],[\"ID 36\",\"leguminosarum\"],[\"ID 37\",\"leguminosarum\"],[\"Genome 16\",\"leguminosarum\"],[\"Genome 27\",\"leguminosarum\"],[\"Genome 8\",\"leguminosarum\"],[\"Genome 20\",\"leguminosarum\"],[\"Genome 23\",\"leguminosarum\"],[\"Genome 15\",\"leguminosarum\"],[\"ID 44\",\"leguminosarum\"],[\"Genome 22\",\"leguminosarum\"],[\"ID 41\",\"leguminosarum\"],[\"ID 42\",\"leguminosarum\"],[\"ID 38\",\"leguminosarum\"],[\"Genome 25\",\"leguminosarum\"],[\"ID 39\",\"leguminosarum\"],[\"Genome 2\",\"leguminosarum\"],[\"Genome 4\",\"leguminosarum\"]]],\"zmin\":0,\"z\":[[2,2,2,1,1,1,1,1,1,1,1,1,1,1,1,1,1,1,1,1]],\"zmax\":10,\"type\":\"heatmap\",\"xgap\":1,\"hovertemplate\":\"%{customdata[0]} <br>\\n%{customdata[1]}\\n<extra></extra>\\n\"}],{\"xaxis\":{\"visible\":false},\"hovermode\":\"closest\",\"margin\":{\"l\":50,\"b\":50,\"r\":50,\"t\":60},\"yaxis2\":{\"visible\":false,\"domain\":[0.0,0.05],\"fixedrange\":true}},{}); gd.on(\"plotly_hover\",(function (data){var filtered_data=WebIO.PlotlyCommands.filterEventData(gd,data,\"hover\"); return !(filtered_data.isnil) ? (WebIO.setval({\"name\":\"hover\",\"scope\":\"1370776156364525199\",\"id\":\"8693739397178724979\",\"type\":\"observable\"},filtered_data.out)) : undefined})); gd.on(\"plotly_unhover\",(function (){return WebIO.setval({\"name\":\"hover\",\"scope\":\"1370776156364525199\",\"id\":\"8693739397178724979\",\"type\":\"observable\"},{})})); gd.on(\"plotly_selected\",(function (data){var filtered_data=WebIO.PlotlyCommands.filterEventData(gd,data,\"selected\"); return !(filtered_data.isnil) ? (WebIO.setval({\"name\":\"selected\",\"scope\":\"1370776156364525199\",\"id\":\"4851151261543750438\",\"type\":\"observable\"},filtered_data.out)) : undefined})); gd.on(\"plotly_deselect\",(function (){return WebIO.setval({\"name\":\"selected\",\"scope\":\"1370776156364525199\",\"id\":\"4851151261543750438\",\"type\":\"observable\"},{})})); gd.on(\"plotly_relayout\",(function (data){var filtered_data=WebIO.PlotlyCommands.filterEventData(gd,data,\"relayout\"); return !(filtered_data.isnil) ? (WebIO.setval({\"name\":\"relayout\",\"scope\":\"1370776156364525199\",\"id\":\"7162194392749820805\",\"type\":\"observable\"},filtered_data.out)) : undefined})); return gd.on(\"plotly_click\",(function (data){var filtered_data=WebIO.PlotlyCommands.filterEventData(gd,data,\"click\"); return !(filtered_data.isnil) ? (WebIO.setval({\"name\":\"click\",\"scope\":\"1370776156364525199\",\"id\":\"14064997947842307733\",\"type\":\"observable\"},filtered_data.out)) : undefined}))}));\n    (WebIO.importBlock({\"data\":[{\"name\":\"Plotly\",\"type\":\"js\",\"url\":\"/assetserver/e6903599031aaef8675931dfcd7df98a1aeffbfc-plotly-latest.min.js\"},{\"name\":null,\"type\":\"js\",\"url\":\"/assetserver/74a5dea81f21b0b802ef1ee92f1c8a504eac1a0c-plotly_webio.bundle.js\"}],\"type\":\"async_block\"})).then((imports) => handler.apply(this, imports));\n}\n"
        ],
        "observables": {
         "__gd_contents": {
          "id": "16158991728368240948",
          "sync": false,
          "value": {}
         },
         "__get_gd_contents": {
          "id": "2635971525551407507",
          "sync": false,
          "value": ""
         },
         "_commands": {
          "id": "14822764794222141986",
          "sync": false,
          "value": []
         },
         "_downloadImage": {
          "id": "4788879971651554977",
          "sync": false,
          "value": {}
         },
         "_toImage": {
          "id": "17140742012691653225",
          "sync": false,
          "value": {}
         },
         "click": {
          "id": "14064997947842307733",
          "sync": false,
          "value": {}
         },
         "hover": {
          "id": "8693739397178724979",
          "sync": false,
          "value": {}
         },
         "image": {
          "id": "10298730159174688955",
          "sync": true,
          "value": ""
         },
         "relayout": {
          "id": "7162194392749820805",
          "sync": false,
          "value": {}
         },
         "selected": {
          "id": "4851151261543750438",
          "sync": false,
          "value": {}
         }
        },
        "systemjs_options": null
       },
       "nodeType": "Scope",
       "props": {},
       "type": "node"
      },
      "image/png": "[encoded data removed]",
      "image/svg+xml": [
       "<svg class=\"main-svg\" xmlns=\"http://www.w3.org/2000/svg\" xmlns:xlink=\"http://www.w3.org/1999/xlink\" width=\"700\" height=\"500\" style=\"\" viewBox=\"0 0 700 500\"><rect x=\"0\" y=\"0\" width=\"700\" height=\"500\" style=\"fill: rgb(255, 255, 255); fill-opacity: 1;\"/><defs id=\"defs-90a66f\"><g class=\"clips\"><clipPath id=\"clip90a66fxyplot\" class=\"plotclip\"><rect width=\"600\" height=\"390\"/></clipPath><clipPath id=\"clip90a66fxy2plot\" class=\"plotclip\"><rect width=\"600\" height=\"19.5\"/></clipPath><clipPath class=\"axesclip\" id=\"clip90a66fx\"><rect x=\"50\" y=\"0\" width=\"600\" height=\"500\"/></clipPath><clipPath class=\"axesclip\" id=\"clip90a66fy\"><rect x=\"0\" y=\"60\" width=\"700\" height=\"390\"/></clipPath><clipPath class=\"axesclip\" id=\"clip90a66fxy\"><rect x=\"50\" y=\"60\" width=\"600\" height=\"390\"/></clipPath><clipPath class=\"axesclip\" id=\"clip90a66fy2\"><rect x=\"0\" y=\"430.5\" width=\"700\" height=\"19.5\"/></clipPath><clipPath class=\"axesclip\" id=\"clip90a66fxy2\"><rect x=\"50\" y=\"430.5\" width=\"600\" height=\"19.5\"/></clipPath></g><g class=\"gradients\"/></defs><g class=\"bglayer\"/><g class=\"layer-below\"><g class=\"imagelayer\"/><g class=\"shapelayer\"/></g><g class=\"cartesianlayer\"><g class=\"subplot xy\"><g class=\"layer-subplot\"><g class=\"shapelayer\"/><g class=\"imagelayer\"/></g><g class=\"gridlayer\"><g class=\"x\"/><g class=\"y\"><path class=\"ygrid crisp\" transform=\"translate(0,354.67)\" d=\"M50,0h600\" style=\"stroke: rgb(238, 238, 238); stroke-opacity: 1; stroke-width: 1px;\"/><path class=\"ygrid crisp\" transform=\"translate(0,278.84000000000003)\" d=\"M50,0h600\" style=\"stroke: rgb(238, 238, 238); stroke-opacity: 1; stroke-width: 1px;\"/><path class=\"ygrid crisp\" transform=\"translate(0,203.01)\" d=\"M50,0h600\" style=\"stroke: rgb(238, 238, 238); stroke-opacity: 1; stroke-width: 1px;\"/><path class=\"ygrid crisp\" transform=\"translate(0,127.19)\" d=\"M50,0h600\" style=\"stroke: rgb(238, 238, 238); stroke-opacity: 1; stroke-width: 1px;\"/></g></g><g class=\"zerolinelayer\"><path class=\"yzl zl crisp\" transform=\"translate(0,430.5)\" d=\"M50,0h600\" style=\"stroke: rgb(68, 68, 68); stroke-opacity: 1; stroke-width: 1px;\"/></g><path class=\"xlines-below\"/><path class=\"ylines-below\"/><g class=\"overlines-below\"/><g class=\"xaxislayer-below\"/><g class=\"yaxislayer-below\"/><g class=\"overaxes-below\"/><g class=\"plot\" transform=\"translate(50,60)\" clip-path=\"url('#clip90a66fxyplot')\"><g class=\"scatterlayer mlayer\"><g class=\"trace scatter trace0d02d1\" style=\"stroke-miterlimit: 2; opacity: 1;\"><g class=\"fills\"/><g class=\"errorbars\"/><g class=\"lines\"><path class=\"js-line\" d=\"M162.93,110.2L217.76,110.2\" style=\"vector-effect: non-scaling-stroke; fill: none; stroke: rgb(174, 199, 232); stroke-opacity: 1; stroke-width: 2px; opacity: 1;\"/><path class=\"js-line\" d=\"M162.93,110.2L162.93,139.06\" style=\"vector-effect: non-scaling-stroke; fill: none; stroke: rgb(174, 199, 232); stroke-opacity: 1; stroke-width: 2px; opacity: 1;\"/><path class=\"js-line\" d=\"M217.76,110.2L217.76,123.33\" style=\"vector-effect: non-scaling-stroke; fill: none; stroke: rgb(174, 199, 232); stroke-opacity: 1; stroke-width: 2px; opacity: 1;\"/></g><g class=\"points\"/><g class=\"text\"/></g><g class=\"trace scatter trace35aec7\" style=\"stroke-miterlimit: 2; opacity: 1;\"><g class=\"fills\"/><g class=\"errorbars\"/><g class=\"lines\"><path class=\"js-line\" d=\"M555.86,173.79L574.14,173.79\" style=\"vector-effect: non-scaling-stroke; fill: none; stroke: rgb(174, 199, 232); stroke-opacity: 1; stroke-width: 2px; opacity: 1;\"/><path class=\"js-line\" d=\"M555.86,173.79L555.86,370.5\" style=\"vector-effect: non-scaling-stroke; fill: none; stroke: rgb(174, 199, 232); stroke-opacity: 1; stroke-width: 2px; opacity: 1;\"/><path class=\"js-line\" d=\"M574.14,173.79L574.14,370.5\" style=\"vector-effect: non-scaling-stroke; fill: none; stroke: rgb(174, 199, 232); stroke-opacity: 1; stroke-width: 2px; opacity: 1;\"/></g><g class=\"points\"/><g class=\"text\"/></g><g class=\"trace scatter trace5ac264\" style=\"stroke-miterlimit: 2; opacity: 1;\"><g class=\"fills\"/><g class=\"errorbars\"/><g class=\"lines\"><path class=\"js-line\" d=\"M245.17,130.67L263.45,130.67\" style=\"vector-effect: non-scaling-stroke; fill: none; stroke: rgb(174, 199, 232); stroke-opacity: 1; stroke-width: 2px; opacity: 1;\"/><path class=\"js-line\" d=\"M245.17,130.67L245.17,370.5\" style=\"vector-effect: non-scaling-stroke; fill: none; stroke: rgb(174, 199, 232); stroke-opacity: 1; stroke-width: 2px; opacity: 1;\"/><path class=\"js-line\" d=\"M263.45,130.67L263.45,370.5\" style=\"vector-effect: non-scaling-stroke; fill: none; stroke: rgb(174, 199, 232); stroke-opacity: 1; stroke-width: 2px; opacity: 1;\"/></g><g class=\"points\"/><g class=\"text\"/></g><g class=\"trace scatter trace39d120\" style=\"stroke-miterlimit: 2; opacity: 1;\"><g class=\"fills\"><g><path class=\"js-fill\" d=\"M25.86,370.5L25.86,226.52L44.14,226.52L44.14,370.5Z\" style=\"fill: rgb(255, 187, 120); fill-opacity: 0.5; stroke-width: 0;\"/></g></g><g class=\"errorbars\"/><g class=\"lines\"><path class=\"js-line\" d=\"M25.86,370.5L25.86,226.52L44.14,226.52L44.14,370.5\" style=\"vector-effect: non-scaling-stroke; fill: none; stroke: rgb(255, 187, 120); stroke-opacity: 1; stroke-width: 2px; opacity: 1;\"/></g><g class=\"points\"/><g class=\"text\"/></g><g class=\"trace scatter trace397f91\" style=\"stroke-miterlimit: 2; opacity: 1;\"><g class=\"fills\"/><g class=\"errorbars\"/><g class=\"lines\"><path class=\"js-line\" d=\"M528.45,50.37L565,50.37\" style=\"vector-effect: non-scaling-stroke; fill: none; stroke: rgb(174, 199, 232); stroke-opacity: 1; stroke-width: 2px; opacity: 1;\"/><path class=\"js-line\" d=\"M528.45,50.37L528.45,242.06\" style=\"vector-effect: non-scaling-stroke; fill: none; stroke: rgb(174, 199, 232); stroke-opacity: 1; stroke-width: 2px; opacity: 1;\"/><path class=\"js-line\" d=\"M565,50.37L565,173.79\" style=\"vector-effect: non-scaling-stroke; fill: none; stroke: rgb(174, 199, 232); stroke-opacity: 1; stroke-width: 2px; opacity: 1;\"/></g><g class=\"points\"/><g class=\"text\"/></g><g class=\"trace scatter trace630de3\" style=\"stroke-miterlimit: 2; opacity: 1;\"><g class=\"fills\"><g><path class=\"js-fill\" d=\"M519.31,370.5L519.31,242.06L537.59,242.06L537.59,370.5Z\" style=\"fill: rgb(174, 199, 232); fill-opacity: 0.5; stroke-width: 0;\"/></g></g><g class=\"errorbars\"/><g class=\"lines\"><path class=\"js-line\" d=\"M519.31,370.5L519.31,242.06L537.59,242.06L537.59,370.5\" style=\"vector-effect: non-scaling-stroke; fill: none; stroke: rgb(174, 199, 232); stroke-opacity: 1; stroke-width: 2px; opacity: 1;\"/></g><g class=\"points\"/><g class=\"text\"/></g><g class=\"trace scatter trace5529fc\" style=\"stroke-miterlimit: 2; opacity: 1;\"><g class=\"fills\"><g><path class=\"js-fill\" d=\"M98.97,370.5L98.97,181.17L117.24,181.17L117.24,370.5Z\" style=\"fill: rgb(255, 187, 120); fill-opacity: 0.5; stroke-width: 0;\"/></g></g><g class=\"errorbars\"/><g class=\"lines\"><path class=\"js-line\" d=\"M98.97,370.5L98.97,181.17L117.24,181.17L117.24,370.5\" style=\"vector-effect: non-scaling-stroke; fill: none; stroke: rgb(255, 187, 120); stroke-opacity: 1; stroke-width: 2px; opacity: 1;\"/></g><g class=\"points\"/><g class=\"text\"/></g><g class=\"trace scatter trace03a8f0\" style=\"stroke-miterlimit: 2; opacity: 1;\"><g class=\"fills\"/><g class=\"errorbars\"/><g class=\"lines\"><path class=\"js-line\" d=\"M237.18,65.34L403.94,65.34\" style=\"vector-effect: non-scaling-stroke; fill: none; stroke: rgb(174, 199, 232); stroke-opacity: 1; stroke-width: 2px; opacity: 1;\"/><path class=\"js-line\" d=\"M237.18,65.34L237.18,96.22\" style=\"vector-effect: non-scaling-stroke; fill: none; stroke: rgb(174, 199, 232); stroke-opacity: 1; stroke-width: 2px; opacity: 1;\"/><path class=\"js-line\" d=\"M403.94,65.34L403.94,73.4\" style=\"vector-effect: non-scaling-stroke; fill: none; stroke: rgb(174, 199, 232); stroke-opacity: 1; stroke-width: 2px; opacity: 1;\"/></g><g class=\"points\"/><g class=\"text\"/></g><g class=\"trace scatter trace187e3a\" style=\"stroke-miterlimit: 2; opacity: 1;\"><g class=\"fills\"><g><path class=\"js-fill\" d=\"M427.93,370.5L427.93,215.17L446.21,215.17L446.21,370.5Z\" style=\"fill: rgb(174, 199, 232); fill-opacity: 0.5; stroke-width: 0;\"/></g></g><g class=\"errorbars\"/><g class=\"lines\"><path class=\"js-line\" d=\"M427.93,370.5L427.93,215.17L446.21,215.17L446.21,370.5\" style=\"vector-effect: non-scaling-stroke; fill: none; stroke: rgb(174, 199, 232); stroke-opacity: 1; stroke-width: 2px; opacity: 1;\"/></g><g class=\"points\"/><g class=\"text\"/></g><g class=\"trace scatter trace157604\" style=\"stroke-miterlimit: 2; opacity: 1;\"><g class=\"fills\"/><g class=\"errorbars\"/><g class=\"lines\"><path class=\"js-line\" d=\"M473.62,107.45L501.03,107.45\" style=\"vector-effect: non-scaling-stroke; fill: none; stroke: rgb(174, 199, 232); stroke-opacity: 1; stroke-width: 2px; opacity: 1;\"/><path class=\"js-line\" d=\"M473.62,107.45L473.62,243.96\" style=\"vector-effect: non-scaling-stroke; fill: none; stroke: rgb(174, 199, 232); stroke-opacity: 1; stroke-width: 2px; opacity: 1;\"/><path class=\"js-line\" d=\"M501.03,107.45L501.03,370.5\" style=\"vector-effect: non-scaling-stroke; fill: none; stroke: rgb(174, 199, 232); stroke-opacity: 1; stroke-width: 2px; opacity: 1;\"/></g><g class=\"points\"/><g class=\"text\"/></g><g class=\"trace scatter trace025dbf\" style=\"stroke-miterlimit: 2; opacity: 1;\"><g class=\"fills\"/><g class=\"errorbars\"/><g class=\"lines\"><path class=\"js-line\" d=\"M418.79,81.34L487.33,81.34\" style=\"vector-effect: non-scaling-stroke; fill: none; stroke: rgb(174, 199, 232); stroke-opacity: 1; stroke-width: 2px; opacity: 1;\"/><path class=\"js-line\" d=\"M418.79,81.34L418.79,154.43\" style=\"vector-effect: non-scaling-stroke; fill: none; stroke: rgb(174, 199, 232); stroke-opacity: 1; stroke-width: 2px; opacity: 1;\"/><path class=\"js-line\" d=\"M487.33,81.34L487.33,107.45\" style=\"vector-effect: non-scaling-stroke; fill: none; stroke: rgb(174, 199, 232); stroke-opacity: 1; stroke-width: 2px; opacity: 1;\"/></g><g class=\"points\"/><g class=\"text\"/></g><g class=\"trace scatter trace18e6c2\" style=\"stroke-miterlimit: 2; opacity: 1;\"><g class=\"fills\"/><g class=\"errorbars\"/><g class=\"lines\"><path class=\"js-line\" d=\"M62.41,24.5L433.64,24.5\" style=\"vector-effect: non-scaling-stroke; fill: none; stroke: rgb(102, 102, 102); stroke-opacity: 1; stroke-width: 2px; opacity: 1;\"/><path class=\"js-line\" d=\"M62.41,24.5L62.41,42.04\" style=\"vector-effect: non-scaling-stroke; fill: none; stroke: rgb(102, 102, 102); stroke-opacity: 1; stroke-width: 2px; opacity: 1;\"/><path class=\"js-line\" d=\"M433.64,24.5L433.64,35.36\" style=\"vector-effect: non-scaling-stroke; fill: none; stroke: rgb(102, 102, 102); stroke-opacity: 1; stroke-width: 2px; opacity: 1;\"/></g><g class=\"points\"/><g class=\"text\"/></g><g class=\"trace scatter traced214bb\" style=\"stroke-miterlimit: 2; opacity: 1;\"><g class=\"fills\"/><g class=\"errorbars\"/><g class=\"lines\"><path class=\"js-line\" d=\"M320.56,35.36L546.72,35.36\" style=\"vector-effect: non-scaling-stroke; fill: none; stroke: rgb(174, 199, 232); stroke-opacity: 1; stroke-width: 2px; opacity: 1;\"/><path class=\"js-line\" d=\"M320.56,35.36L320.56,65.34\" style=\"vector-effect: non-scaling-stroke; fill: none; stroke: rgb(174, 199, 232); stroke-opacity: 1; stroke-width: 2px; opacity: 1;\"/><path class=\"js-line\" d=\"M546.72,35.36L546.72,50.37\" style=\"vector-effect: non-scaling-stroke; fill: none; stroke: rgb(174, 199, 232); stroke-opacity: 1; stroke-width: 2px; opacity: 1;\"/></g><g class=\"points\"/><g class=\"text\"/></g><g class=\"trace scatter traceccd56a\" style=\"stroke-miterlimit: 2; opacity: 1;\"><g class=\"fills\"/><g class=\"errorbars\"/><g class=\"lines\"><path class=\"js-line\" d=\"M354.83,73.4L453.06,73.4\" style=\"vector-effect: non-scaling-stroke; fill: none; stroke: rgb(174, 199, 232); stroke-opacity: 1; stroke-width: 2px; opacity: 1;\"/><path class=\"js-line\" d=\"M354.83,73.4L354.83,111.02\" style=\"vector-effect: non-scaling-stroke; fill: none; stroke: rgb(174, 199, 232); stroke-opacity: 1; stroke-width: 2px; opacity: 1;\"/><path class=\"js-line\" d=\"M453.06,73.4L453.06,81.34\" style=\"vector-effect: non-scaling-stroke; fill: none; stroke: rgb(174, 199, 232); stroke-opacity: 1; stroke-width: 2px; opacity: 1;\"/></g><g class=\"points\"/><g class=\"text\"/></g><g class=\"trace scatter trace84d1ca\" style=\"stroke-miterlimit: 2; opacity: 1;\"><g class=\"fills\"/><g class=\"errorbars\"/><g class=\"lines\"><path class=\"js-line\" d=\"M144.66,139.06L181.21,139.06\" style=\"vector-effect: non-scaling-stroke; fill: none; stroke: rgb(174, 199, 232); stroke-opacity: 1; stroke-width: 2px; opacity: 1;\"/><path class=\"js-line\" d=\"M144.66,139.06L144.66,263.71\" style=\"vector-effect: non-scaling-stroke; fill: none; stroke: rgb(174, 199, 232); stroke-opacity: 1; stroke-width: 2px; opacity: 1;\"/><path class=\"js-line\" d=\"M181.21,139.06L181.21,251.5\" style=\"vector-effect: non-scaling-stroke; fill: none; stroke: rgb(174, 199, 232); stroke-opacity: 1; stroke-width: 2px; opacity: 1;\"/></g><g class=\"points\"/><g class=\"text\"/></g><g class=\"trace scatter trace1410d4\" style=\"stroke-miterlimit: 2; opacity: 1;\"><g class=\"fills\"/><g class=\"errorbars\"/><g class=\"lines\"><path class=\"js-line\" d=\"M208.62,123.33L226.9,123.33\" style=\"vector-effect: non-scaling-stroke; fill: none; stroke: rgb(174, 199, 232); stroke-opacity: 1; stroke-width: 2px; opacity: 1;\"/><path class=\"js-line\" d=\"M208.62,123.33L208.62,370.5\" style=\"vector-effect: non-scaling-stroke; fill: none; stroke: rgb(174, 199, 232); stroke-opacity: 1; stroke-width: 2px; opacity: 1;\"/><path class=\"js-line\" d=\"M226.9,123.33L226.9,370.5\" style=\"vector-effect: non-scaling-stroke; fill: none; stroke: rgb(174, 199, 232); stroke-opacity: 1; stroke-width: 2px; opacity: 1;\"/></g><g class=\"points\"/><g class=\"text\"/></g><g class=\"trace scatter tracedd7d60\" style=\"stroke-miterlimit: 2; opacity: 1;\"><g class=\"fills\"><g><path class=\"js-fill\" d=\"M318.28,370.5L318.28,203.92L354.83,203.92L354.83,370.5Z\" style=\"fill: rgb(174, 199, 232); fill-opacity: 0.5; stroke-width: 0;\"/></g></g><g class=\"errorbars\"/><g class=\"lines\"><path class=\"js-line\" d=\"M318.28,370.5L318.28,203.92L354.83,203.92L354.83,370.5\" style=\"vector-effect: non-scaling-stroke; fill: none; stroke: rgb(174, 199, 232); stroke-opacity: 1; stroke-width: 2px; opacity: 1;\"/></g><g class=\"points\"/><g class=\"text\"/></g><g class=\"trace scatter tracebd60cb\" style=\"stroke-miterlimit: 2; opacity: 1;\"><g class=\"fills\"><g><path class=\"js-fill\" d=\"M172.07,370.5L172.07,251.5L190.34,251.5L190.34,370.5Z\" style=\"fill: rgb(174, 199, 232); fill-opacity: 0.5; stroke-width: 0;\"/></g></g><g class=\"errorbars\"/><g class=\"lines\"><path class=\"js-line\" d=\"M172.07,370.5L172.07,251.5L190.34,251.5L190.34,370.5\" style=\"vector-effect: non-scaling-stroke; fill: none; stroke: rgb(174, 199, 232); stroke-opacity: 1; stroke-width: 2px; opacity: 1;\"/></g><g class=\"points\"/><g class=\"text\"/></g><g class=\"trace scatter trace6152d2\" style=\"stroke-miterlimit: 2; opacity: 1;\"><g class=\"fills\"/><g class=\"errorbars\"/><g class=\"lines\"><path class=\"js-line\" d=\"M254.31,110.3L281.72,110.3\" style=\"vector-effect: non-scaling-stroke; fill: none; stroke: rgb(174, 199, 232); stroke-opacity: 1; stroke-width: 2px; opacity: 1;\"/><path class=\"js-line\" d=\"M254.31,110.3L254.31,130.67\" style=\"vector-effect: non-scaling-stroke; fill: none; stroke: rgb(174, 199, 232); stroke-opacity: 1; stroke-width: 2px; opacity: 1;\"/><path class=\"js-line\" d=\"M281.72,110.3L281.72,370.5\" style=\"vector-effect: non-scaling-stroke; fill: none; stroke: rgb(174, 199, 232); stroke-opacity: 1; stroke-width: 2px; opacity: 1;\"/></g><g class=\"points\"/><g class=\"text\"/></g><g class=\"trace scatter trace5e9f46\" style=\"stroke-miterlimit: 2; opacity: 1;\"><g class=\"fills\"/><g class=\"errorbars\"/><g class=\"lines\"><path class=\"js-line\" d=\"M71.55,60.16L108.1,60.16\" style=\"vector-effect: non-scaling-stroke; fill: none; stroke: rgb(255, 187, 120); stroke-opacity: 1; stroke-width: 2px; opacity: 1;\"/><path class=\"js-line\" d=\"M71.55,60.16L71.55,197.19\" style=\"vector-effect: non-scaling-stroke; fill: none; stroke: rgb(255, 187, 120); stroke-opacity: 1; stroke-width: 2px; opacity: 1;\"/><path class=\"js-line\" d=\"M108.1,60.16L108.1,181.17\" style=\"vector-effect: non-scaling-stroke; fill: none; stroke: rgb(255, 187, 120); stroke-opacity: 1; stroke-width: 2px; opacity: 1;\"/></g><g class=\"points\"/><g class=\"text\"/></g><g class=\"trace scatter trace54a41f\" style=\"stroke-miterlimit: 2; opacity: 1;\"><g class=\"fills\"><g><path class=\"js-fill\" d=\"M464.48,370.5L464.48,243.96L482.76,243.96L482.76,370.5Z\" style=\"fill: rgb(174, 199, 232); fill-opacity: 0.5; stroke-width: 0;\"/></g></g><g class=\"errorbars\"/><g class=\"lines\"><path class=\"js-line\" d=\"M464.48,370.5L464.48,243.96L482.76,243.96L482.76,370.5\" style=\"vector-effect: non-scaling-stroke; fill: none; stroke: rgb(174, 199, 232); stroke-opacity: 1; stroke-width: 2px; opacity: 1;\"/></g><g class=\"points\"/><g class=\"text\"/></g><g class=\"trace scatter trace635bcf\" style=\"stroke-miterlimit: 2; opacity: 1;\"><g class=\"fills\"/><g class=\"errorbars\"/><g class=\"lines\"><path class=\"js-line\" d=\"M190.34,96.22L284.01,96.22\" style=\"vector-effect: non-scaling-stroke; fill: none; stroke: rgb(174, 199, 232); stroke-opacity: 1; stroke-width: 2px; opacity: 1;\"/><path class=\"js-line\" d=\"M190.34,96.22L190.34,110.2\" style=\"vector-effect: non-scaling-stroke; fill: none; stroke: rgb(174, 199, 232); stroke-opacity: 1; stroke-width: 2px; opacity: 1;\"/><path class=\"js-line\" d=\"M284.01,96.22L284.01,105.64\" style=\"vector-effect: non-scaling-stroke; fill: none; stroke: rgb(174, 199, 232); stroke-opacity: 1; stroke-width: 2px; opacity: 1;\"/></g><g class=\"points\"/><g class=\"text\"/></g><g class=\"trace scatter trace6819b3\" style=\"stroke-miterlimit: 2; opacity: 1;\"><g class=\"fills\"><g><path class=\"js-fill\" d=\"M62.41,370.5L62.41,197.19L80.69,197.19L80.69,370.5Z\" style=\"fill: rgb(255, 187, 120); fill-opacity: 0.5; stroke-width: 0;\"/></g></g><g class=\"errorbars\"/><g class=\"lines\"><path class=\"js-line\" d=\"M62.41,370.5L62.41,197.19L80.69,197.19L80.69,370.5\" style=\"vector-effect: non-scaling-stroke; fill: none; stroke: rgb(255, 187, 120); stroke-opacity: 1; stroke-width: 2px; opacity: 1;\"/></g><g class=\"points\"/><g class=\"text\"/></g><g class=\"trace scatter trace0b7f7d\" style=\"stroke-miterlimit: 2; opacity: 1;\"><g class=\"fills\"/><g class=\"errorbars\"/><g class=\"lines\"><path class=\"js-line\" d=\"M35,42.04L89.83,42.04\" style=\"vector-effect: non-scaling-stroke; fill: none; stroke: rgb(255, 187, 120); stroke-opacity: 1; stroke-width: 2px; opacity: 1;\"/><path class=\"js-line\" d=\"M35,42.04L35,226.52\" style=\"vector-effect: non-scaling-stroke; fill: none; stroke: rgb(255, 187, 120); stroke-opacity: 1; stroke-width: 2px; opacity: 1;\"/><path class=\"js-line\" d=\"M89.83,42.04L89.83,60.16\" style=\"vector-effect: non-scaling-stroke; fill: none; stroke: rgb(255, 187, 120); stroke-opacity: 1; stroke-width: 2px; opacity: 1;\"/></g><g class=\"points\"/><g class=\"text\"/></g><g class=\"trace scatter trace07d742\" style=\"stroke-miterlimit: 2; opacity: 1;\"><g class=\"fills\"><g><path class=\"js-fill\" d=\"M135.52,370.5L135.52,263.71L153.79,263.71L153.79,370.5Z\" style=\"fill: rgb(174, 199, 232); fill-opacity: 0.5; stroke-width: 0;\"/></g></g><g class=\"errorbars\"/><g class=\"lines\"><path class=\"js-line\" d=\"M135.52,370.5L135.52,263.71L153.79,263.71L153.79,370.5\" style=\"vector-effect: non-scaling-stroke; fill: none; stroke: rgb(174, 199, 232); stroke-opacity: 1; stroke-width: 2px; opacity: 1;\"/></g><g class=\"points\"/><g class=\"text\"/></g><g class=\"trace scatter trace3eb046\" style=\"stroke-miterlimit: 2; opacity: 1;\"><g class=\"fills\"/><g class=\"errorbars\"/><g class=\"lines\"><path class=\"js-line\" d=\"M268.02,105.64L300,105.64\" style=\"vector-effect: non-scaling-stroke; fill: none; stroke: rgb(174, 199, 232); stroke-opacity: 1; stroke-width: 2px; opacity: 1;\"/><path class=\"js-line\" d=\"M268.02,105.64L268.02,110.3\" style=\"vector-effect: non-scaling-stroke; fill: none; stroke: rgb(174, 199, 232); stroke-opacity: 1; stroke-width: 2px; opacity: 1;\"/><path class=\"js-line\" d=\"M300,105.64L300,370.5\" style=\"vector-effect: non-scaling-stroke; fill: none; stroke: rgb(174, 199, 232); stroke-opacity: 1; stroke-width: 2px; opacity: 1;\"/></g><g class=\"points\"/><g class=\"text\"/></g><g class=\"trace scatter trace57828f\" style=\"stroke-miterlimit: 2; opacity: 1;\"><g class=\"fills\"/><g class=\"errorbars\"/><g class=\"lines\"><path class=\"js-line\" d=\"M400.52,154.43L437.07,154.43\" style=\"vector-effect: non-scaling-stroke; fill: none; stroke: rgb(174, 199, 232); stroke-opacity: 1; stroke-width: 2px; opacity: 1;\"/><path class=\"js-line\" d=\"M400.52,154.43L400.52,224.38\" style=\"vector-effect: non-scaling-stroke; fill: none; stroke: rgb(174, 199, 232); stroke-opacity: 1; stroke-width: 2px; opacity: 1;\"/><path class=\"js-line\" d=\"M437.07,154.43L437.07,215.17\" style=\"vector-effect: non-scaling-stroke; fill: none; stroke: rgb(174, 199, 232); stroke-opacity: 1; stroke-width: 2px; opacity: 1;\"/></g><g class=\"points\"/><g class=\"text\"/></g><g class=\"trace scatter trace6d831d\" style=\"stroke-miterlimit: 2; opacity: 1;\"><g class=\"fills\"><g><path class=\"js-fill\" d=\"M391.38,370.5L391.38,224.38L409.66,224.38L409.66,370.5Z\" style=\"fill: rgb(174, 199, 232); fill-opacity: 0.5; stroke-width: 0;\"/></g></g><g class=\"errorbars\"/><g class=\"lines\"><path class=\"js-line\" d=\"M391.38,370.5L391.38,224.38L409.66,224.38L409.66,370.5\" style=\"vector-effect: non-scaling-stroke; fill: none; stroke: rgb(174, 199, 232); stroke-opacity: 1; stroke-width: 2px; opacity: 1;\"/></g><g class=\"points\"/><g class=\"text\"/></g><g class=\"trace scatter trace9b1061\" style=\"stroke-miterlimit: 2; opacity: 1;\"><g class=\"fills\"/><g class=\"errorbars\"/><g class=\"lines\"><path class=\"js-line\" d=\"M336.55,111.02L373.1,111.02\" style=\"vector-effect: non-scaling-stroke; fill: none; stroke: rgb(174, 199, 232); stroke-opacity: 1; stroke-width: 2px; opacity: 1;\"/><path class=\"js-line\" d=\"M336.55,111.02L336.55,203.92\" style=\"vector-effect: non-scaling-stroke; fill: none; stroke: rgb(174, 199, 232); stroke-opacity: 1; stroke-width: 2px; opacity: 1;\"/><path class=\"js-line\" d=\"M373.1,111.02L373.1,370.5\" style=\"vector-effect: non-scaling-stroke; fill: none; stroke: rgb(174, 199, 232); stroke-opacity: 1; stroke-width: 2px; opacity: 1;\"/></g><g class=\"points\"/><g class=\"text\"/></g><g class=\"trace scatter traceaab03b\" style=\"stroke-miterlimit: 2; opacity: 1;\"><g class=\"fills\"/><g class=\"errorbars\"/><g class=\"lines\"/><g class=\"points\"><path class=\"point plotly-customdata\" transform=\"translate(190.34,110.2)\" d=\"M2,0A2,2 0 1,1 0,-2A2,2 0 0,1 2,0Z\" style=\"opacity: 0.7; stroke-width: 1px; fill: rgb(174, 199, 232); fill-opacity: 1; stroke: rgb(255, 255, 255); stroke-opacity: 1;\"/><path class=\"point plotly-customdata\" transform=\"translate(565,173.79)\" d=\"M4,0A4,4 0 1,1 0,-4A4,4 0 0,1 4,0Z\" style=\"opacity: 0.7; stroke-width: 1px; fill: rgb(174, 199, 232); fill-opacity: 1; stroke: rgb(255, 255, 255); stroke-opacity: 1;\"/><path class=\"point plotly-customdata\" transform=\"translate(254.31,130.67)\" d=\"M4,0A4,4 0 1,1 0,-4A4,4 0 0,1 4,0Z\" style=\"opacity: 0.7; stroke-width: 1px; fill: rgb(174, 199, 232); fill-opacity: 1; stroke: rgb(255, 255, 255); stroke-opacity: 1;\"/><path class=\"point plotly-customdata\" transform=\"translate(35,226.52)\" d=\"M4,0A4,4 0 1,1 0,-4A4,4 0 0,1 4,0Z\" style=\"opacity: 0.7; stroke-width: 1px; fill: rgb(255, 187, 120); fill-opacity: 1; stroke: rgb(255, 255, 255); stroke-opacity: 1;\"/><path class=\"point plotly-customdata\" transform=\"translate(546.72,50.37)\" d=\"M4,0A4,4 0 1,1 0,-4A4,4 0 0,1 4,0Z\" style=\"opacity: 0.7; stroke-width: 1px; fill: rgb(174, 199, 232); fill-opacity: 1; stroke: rgb(255, 255, 255); stroke-opacity: 1;\"/><path class=\"point plotly-customdata\" transform=\"translate(528.45,242.06)\" d=\"M4,0A4,4 0 1,1 0,-4A4,4 0 0,1 4,0Z\" style=\"opacity: 0.7; stroke-width: 1px; fill: rgb(174, 199, 232); fill-opacity: 1; stroke: rgb(255, 255, 255); stroke-opacity: 1;\"/><path class=\"point plotly-customdata\" transform=\"translate(108.1,181.17)\" d=\"M4,0A4,4 0 1,1 0,-4A4,4 0 0,1 4,0Z\" style=\"opacity: 0.7; stroke-width: 1px; fill: rgb(255, 187, 120); fill-opacity: 1; stroke: rgb(255, 255, 255); stroke-opacity: 1;\"/><path class=\"point plotly-customdata\" transform=\"translate(320.56,65.34)\" d=\"M4,0A4,4 0 1,1 0,-4A4,4 0 0,1 4,0Z\" style=\"opacity: 0.7; stroke-width: 1px; fill: rgb(174, 199, 232); fill-opacity: 1; stroke: rgb(255, 255, 255); stroke-opacity: 1;\"/><path class=\"point plotly-customdata\" transform=\"translate(437.07,215.17)\" d=\"M4,0A4,4 0 1,1 0,-4A4,4 0 0,1 4,0Z\" style=\"opacity: 0.7; stroke-width: 1px; fill: rgb(174, 199, 232); fill-opacity: 1; stroke: rgb(255, 255, 255); stroke-opacity: 1;\"/><path class=\"point plotly-customdata\" transform=\"translate(487.33,107.45)\" d=\"M4,0A4,4 0 1,1 0,-4A4,4 0 0,1 4,0Z\" style=\"opacity: 0.7; stroke-width: 1px; fill: rgb(174, 199, 232); fill-opacity: 1; stroke: rgb(255, 255, 255); stroke-opacity: 1;\"/><path class=\"point plotly-customdata\" transform=\"translate(453.06,81.34)\" d=\"M2,0A2,2 0 1,1 0,-2A2,2 0 0,1 2,0Z\" style=\"opacity: 0.7; stroke-width: 1px; fill: rgb(174, 199, 232); fill-opacity: 1; stroke: rgb(255, 255, 255); stroke-opacity: 1;\"/><path class=\"point plotly-customdata\" transform=\"translate(248.03,24.5)\" d=\"M4,0A4,4 0 1,1 0,-4A4,4 0 0,1 4,0Z\" style=\"opacity: 0.7; stroke-width: 1px; fill: rgb(102, 102, 102); fill-opacity: 1; stroke: rgb(255, 255, 255); stroke-opacity: 1;\"/><path class=\"point plotly-customdata\" transform=\"translate(433.64,35.36)\" d=\"M2,0A2,2 0 1,1 0,-2A2,2 0 0,1 2,0Z\" style=\"opacity: 0.7; stroke-width: 1px; fill: rgb(174, 199, 232); fill-opacity: 1; stroke: rgb(255, 255, 255); stroke-opacity: 1;\"/><path class=\"point plotly-customdata\" transform=\"translate(403.94,73.4)\" d=\"M2,0A2,2 0 1,1 0,-2A2,2 0 0,1 2,0Z\" style=\"opacity: 0.7; stroke-width: 1px; fill: rgb(174, 199, 232); fill-opacity: 1; stroke: rgb(255, 255, 255); stroke-opacity: 1;\"/><path class=\"point plotly-customdata\" transform=\"translate(162.93,139.06)\" d=\"M4,0A4,4 0 1,1 0,-4A4,4 0 0,1 4,0Z\" style=\"opacity: 0.7; stroke-width: 1px; fill: rgb(174, 199, 232); fill-opacity: 1; stroke: rgb(255, 255, 255); stroke-opacity: 1;\"/><path class=\"point plotly-customdata\" transform=\"translate(217.76,123.33)\" d=\"M2,0A2,2 0 1,1 0,-2A2,2 0 0,1 2,0Z\" style=\"opacity: 0.7; stroke-width: 1px; fill: rgb(174, 199, 232); fill-opacity: 1; stroke: rgb(255, 255, 255); stroke-opacity: 1;\"/><path class=\"point plotly-customdata\" transform=\"translate(336.55,203.92)\" d=\"M4,0A4,4 0 1,1 0,-4A4,4 0 0,1 4,0Z\" style=\"opacity: 0.7; stroke-width: 1px; fill: rgb(174, 199, 232); fill-opacity: 1; stroke: rgb(255, 255, 255); stroke-opacity: 1;\"/><path class=\"point plotly-customdata\" transform=\"translate(181.21,251.5)\" d=\"M4,0A4,4 0 1,1 0,-4A4,4 0 0,1 4,0Z\" style=\"opacity: 0.7; stroke-width: 1px; fill: rgb(174, 199, 232); fill-opacity: 1; stroke: rgb(255, 255, 255); stroke-opacity: 1;\"/><path class=\"point plotly-customdata\" transform=\"translate(268.02,110.3)\" d=\"M2,0A2,2 0 1,1 0,-2A2,2 0 0,1 2,0Z\" style=\"opacity: 0.7; stroke-width: 1px; fill: rgb(174, 199, 232); fill-opacity: 1; stroke: rgb(255, 255, 255); stroke-opacity: 1;\"/><path class=\"point plotly-customdata\" transform=\"translate(89.83,60.16)\" d=\"M4,0A4,4 0 1,1 0,-4A4,4 0 0,1 4,0Z\" style=\"opacity: 0.7; stroke-width: 1px; fill: rgb(255, 187, 120); fill-opacity: 1; stroke: rgb(255, 255, 255); stroke-opacity: 1;\"/><path class=\"point plotly-customdata\" transform=\"translate(473.62,243.96)\" d=\"M4,0A4,4 0 1,1 0,-4A4,4 0 0,1 4,0Z\" style=\"opacity: 0.7; stroke-width: 1px; fill: rgb(174, 199, 232); fill-opacity: 1; stroke: rgb(255, 255, 255); stroke-opacity: 1;\"/><path class=\"point plotly-customdata\" transform=\"translate(237.18,96.22)\" d=\"M2,0A2,2 0 1,1 0,-2A2,2 0 0,1 2,0Z\" style=\"opacity: 0.7; stroke-width: 1px; fill: rgb(174, 199, 232); fill-opacity: 1; stroke: rgb(255, 255, 255); stroke-opacity: 1;\"/><path class=\"point plotly-customdata\" transform=\"translate(71.55,197.19)\" d=\"M4,0A4,4 0 1,1 0,-4A4,4 0 0,1 4,0Z\" style=\"opacity: 0.7; stroke-width: 1px; fill: rgb(255, 187, 120); fill-opacity: 1; stroke: rgb(255, 255, 255); stroke-opacity: 1;\"/><path class=\"point plotly-customdata\" transform=\"translate(62.41,42.04)\" d=\"M4,0A4,4 0 1,1 0,-4A4,4 0 0,1 4,0Z\" style=\"opacity: 0.7; stroke-width: 1px; fill: rgb(255, 187, 120); fill-opacity: 1; stroke: rgb(255, 255, 255); stroke-opacity: 1;\"/><path class=\"point plotly-customdata\" transform=\"translate(144.66,263.71)\" d=\"M4,0A4,4 0 1,1 0,-4A4,4 0 0,1 4,0Z\" style=\"opacity: 0.7; stroke-width: 1px; fill: rgb(174, 199, 232); fill-opacity: 1; stroke: rgb(255, 255, 255); stroke-opacity: 1;\"/><path class=\"point plotly-customdata\" transform=\"translate(284.01,105.64)\" d=\"M2,0A2,2 0 1,1 0,-2A2,2 0 0,1 2,0Z\" style=\"opacity: 0.7; stroke-width: 1px; fill: rgb(174, 199, 232); fill-opacity: 1; stroke: rgb(255, 255, 255); stroke-opacity: 1;\"/><path class=\"point plotly-customdata\" transform=\"translate(418.79,154.43)\" d=\"M4,0A4,4 0 1,1 0,-4A4,4 0 0,1 4,0Z\" style=\"opacity: 0.7; stroke-width: 1px; fill: rgb(174, 199, 232); fill-opacity: 1; stroke: rgb(255, 255, 255); stroke-opacity: 1;\"/><path class=\"point plotly-customdata\" transform=\"translate(354.83,111.02)\" d=\"M4,0A4,4 0 1,1 0,-4A4,4 0 0,1 4,0Z\" style=\"opacity: 0.7; stroke-width: 1px; fill: rgb(174, 199, 232); fill-opacity: 1; stroke: rgb(255, 255, 255); stroke-opacity: 1;\"/><path class=\"point plotly-customdata\" transform=\"translate(400.52,224.38)\" d=\"M4,0A4,4 0 1,1 0,-4A4,4 0 0,1 4,0Z\" style=\"opacity: 0.7; stroke-width: 1px; fill: rgb(174, 199, 232); fill-opacity: 1; stroke: rgb(255, 255, 255); stroke-opacity: 1;\"/></g><g class=\"text\"/></g></g></g><g class=\"overplot\"/><path class=\"xlines-above crisp\" d=\"M0,0\" style=\"fill: none;\"/><path class=\"ylines-above crisp\" d=\"M0,0\" style=\"fill: none;\"/><g class=\"overlines-above\"/><g class=\"xaxislayer-above\"/><g class=\"yaxislayer-above\"><g class=\"ytick\"><text text-anchor=\"end\" x=\"49\" y=\"4.199999999999999\" transform=\"translate(0,430.5)\" style=\"font-family: 'Open Sans', verdana, arial, sans-serif; font-size: 12px; fill: rgb(68, 68, 68); fill-opacity: 1; white-space: pre;\">0</text></g><g class=\"ytick\"><text text-anchor=\"end\" x=\"49\" y=\"4.199999999999999\" transform=\"translate(0,354.67)\" style=\"font-family: 'Open Sans', verdana, arial, sans-serif; font-size: 12px; fill: rgb(68, 68, 68); fill-opacity: 1; white-space: pre;\">0.2</text></g><g class=\"ytick\"><text text-anchor=\"end\" x=\"49\" y=\"4.199999999999999\" transform=\"translate(0,278.84000000000003)\" style=\"font-family: 'Open Sans', verdana, arial, sans-serif; font-size: 12px; fill: rgb(68, 68, 68); fill-opacity: 1; white-space: pre;\">0.4</text></g><g class=\"ytick\"><text text-anchor=\"end\" x=\"49\" y=\"4.199999999999999\" transform=\"translate(0,203.01)\" style=\"font-family: 'Open Sans', verdana, arial, sans-serif; font-size: 12px; fill: rgb(68, 68, 68); fill-opacity: 1; white-space: pre;\">0.6</text></g><g class=\"ytick\"><text text-anchor=\"end\" x=\"49\" y=\"4.199999999999999\" transform=\"translate(0,127.19)\" style=\"font-family: 'Open Sans', verdana, arial, sans-serif; font-size: 12px; fill: rgb(68, 68, 68); fill-opacity: 1; white-space: pre;\">0.8</text></g></g><g class=\"overaxes-above\"/></g><g class=\"subplot xy2\"><rect class=\"bg\" x=\"50\" y=\"430.5\" width=\"600\" height=\"19.5\" style=\"fill: rgb(255, 255, 255); fill-opacity: 1; stroke-width: 0;\"/><g class=\"layer-subplot\"><g class=\"shapelayer\"/><g class=\"imagelayer\"/></g><g class=\"gridlayer\"><g class=\"x\"/><g class=\"y2\"/></g><g class=\"zerolinelayer\"/><path class=\"xlines-below\"/><path class=\"ylines-below\"/><g class=\"overlines-below\"/><g class=\"xaxislayer-below\"/><g class=\"yaxislayer-below\"/><g class=\"overaxes-below\"/><g class=\"plot\" transform=\"translate(50,430.5)\" clip-path=\"url('#clip90a66fxy2plot')\"><g class=\"heatmaplayer mlayer\"><g class=\"hm\"><image xmlns=\"http://www.w3.org/2000/svg\" preserveAspectRatio=\"none\" height=\"20\" width=\"567\" x=\"16.72\" y=\"0\" xlink:href=\"data:image/png;base64,iVBORw0KGgoAAAANSUhEUgAAAjcAAAAUCAYAAABxjxwfAAAD4ElEQVR4Xu3YwW1VUQyEYV4XtEIBNEA1lEA1aYACaIUugu4iLONZfDoaHTlry2fm91w/K6/33z/fvxT9vb7/ejVpatPzjOrR9Pbnb83cfnz7WqXnYaQ0tfW52ZtiXbTO/kuR3mQvwapNj/xGBB+p52bW0tvTq+qQ+Pjh3uPm809qj5t55agPpa1P46JsZDQn5GyFYiTnrwhIb7dqUoxUH8VZ5lF62+MmmPD+52aGJEM5v5ZVKE1tfRqXSSOjLCXnqhQjOX/lXnq7VZNipPoozjKP0tseN8GE97iZIclQzq9lFUpTW5/GZdLIKEvJuSrFSM5fuZfebtWkGKk+irPMo/S2x00w4T1uZkgylPNrWYXS1NancZk0MspScq5KMZLzV+6lt1s1KUaqj+Is8yi97XETTHiPmxmSDOX8WlahNLX1aVwmjYyylJyrUozk/JV76e1WTYqR6qM4yzxKb3vcBBPe42aGJEM5v5ZVKE1tfRqXSSOjLCXnqhQjOX/lXnq7VZNipPoozjKP0tseN8GE97iZIclQzq9lFUpTW5/GZdLIKEvJuSrFSM5fuZfebtWkGKk+irPMo/S2x00w4T1uZkgylPNrWYXS1NancZk0MspScq5KMZLzV+6lt1s1KUaqj+Is8yi97XETTHiPmxmSDOX8WlahNLX1aVwmjYyylJyrUozk/JV76e1WTYqR6qM4yzxKb3vcBBPe42aGJEM5v5ZVKE1tfRqXSSOjLCXnqhQjOX/lXnq7VZNipPoozjKP0tseN8GE97iZIclQzq9lFUpTW5/GZdLIKEvJuSrFSM5fuZfebtWkGKk+irPMo/S2x00w4T1uZkgylPNrWYXS1NancZk0MspScq5KMZLzV+6lt1s1KUaqj+Is8yi97XETTHiPmxmSDOX8WlahNLX1aVwmjYyylJyrUozk/JV76e1WTYqR6qM4yzxKb3vcBBPe42aGJEM5v5ZVKE1tfRqXSSOjLCXnqhQjOX/lXnq7VZNipPoozjKP0tseN8GE97iZIclQzq9lFUpTW5/GZdLIKEvJuSrFSM5fuZfebtWkGKk+irPMo/S2x00w4T1uZkgylPNrWYXS1NancZk0MspScq5KMZLzV+6lt1s1KUaqj+Is8yi97XETTHiPmxmSDOX8WlahNLX1aVwmjYyylJyrUozk/JV76e1WTYqR6qM4yzxKb3vcBBPe42aGJEM5v5ZVKE1tfRqXSSOjLCXnqhQjOX/lXnq7VZNipPoozjKP0tseN8GE97iZIclQzq9lFUpTW5/GZdLIKEvJuSrFSM5fuZfebtWkGKk+irPMo/T29PoHii5Ab9IqMF0AAAAASUVORK5CYII=\" style=\"opacity: 1;\"/></g></g></g><g class=\"overplot\"/><path class=\"xlines-above crisp\" d=\"M0,0\" style=\"fill: none;\"/><path class=\"ylines-above crisp\" d=\"M0,0\" style=\"fill: none;\"/><g class=\"overlines-above\"/><g class=\"xaxislayer-above\"/><g class=\"yaxislayer-above\"/><g class=\"overaxes-above\"/></g></g><g class=\"polarlayer\"/><g class=\"ternarylayer\"/><g class=\"geolayer\"/><g class=\"funnelarealayer\"/><g class=\"pielayer\"/><g class=\"treemaplayer\"/><g class=\"sunburstlayer\"/><g class=\"glimages\"/><defs id=\"topdefs-90a66f\"><g class=\"clips\"/></defs><g class=\"layer-above\"><g class=\"imagelayer\"/><g class=\"shapelayer\"/></g><g class=\"infolayer\"><g class=\"g-gtitle\"/><g class=\"g-ytitle\"/></g></svg>"
      ],
      "text/html": [
       "<div\n",
       "    class=\"webio-mountpoint\"\n",
       "    data-webio-mountpoint=\"5244434616659768678\"\n",
       ">\n",
       "    <script>\n",
       "    if (window.require && require.defined && require.defined(\"nbextensions/webio-jupyter-notebook\")) {\n",
       "        console.log(\"Jupyter WebIO extension detected, not mounting.\");\n",
       "    } else if (window.WebIO) {\n",
       "        WebIO.mount(\n",
       "            document.querySelector('[data-webio-mountpoint=\"5244434616659768678\"]'),\n",
       "            {\"props\":{},\"nodeType\":\"Scope\",\"type\":\"node\",\"instanceArgs\":{\"imports\":{\"data\":[{\"name\":\"Plotly\",\"type\":\"js\",\"url\":\"\\/assetserver\\/e6903599031aaef8675931dfcd7df98a1aeffbfc-plotly-latest.min.js\"},{\"name\":null,\"type\":\"js\",\"url\":\"\\/assetserver\\/74a5dea81f21b0b802ef1ee92f1c8a504eac1a0c-plotly_webio.bundle.js\"}],\"type\":\"async_block\"},\"id\":\"1370776156364525199\",\"handlers\":{\"_toImage\":[\"(function (options){return this.Plotly.toImage(this.plotElem,options).then((function (data){return WebIO.setval({\\\"name\\\":\\\"image\\\",\\\"scope\\\":\\\"1370776156364525199\\\",\\\"id\\\":\\\"10298730159174688955\\\",\\\"type\\\":\\\"observable\\\"},data)}))})\"],\"__get_gd_contents\":[\"(function (prop){prop==\\\"data\\\" ? (WebIO.setval({\\\"name\\\":\\\"__gd_contents\\\",\\\"scope\\\":\\\"1370776156364525199\\\",\\\"id\\\":\\\"16158991728368240948\\\",\\\"type\\\":\\\"observable\\\"},this.plotElem.data)) : undefined; return prop==\\\"layout\\\" ? (WebIO.setval({\\\"name\\\":\\\"__gd_contents\\\",\\\"scope\\\":\\\"1370776156364525199\\\",\\\"id\\\":\\\"16158991728368240948\\\",\\\"type\\\":\\\"observable\\\"},this.plotElem.layout)) : undefined})\"],\"_downloadImage\":[\"(function (options){return this.Plotly.downloadImage(this.plotElem,options)})\"],\"_commands\":[\"(function (args){var fn=args.shift(); var elem=this.plotElem; var Plotly=this.Plotly; args.unshift(elem); return Plotly[fn].apply(this,args)})\"]},\"systemjs_options\":null,\"mount_callbacks\":[\"function () {\\n    var handler = ((function (Plotly,PlotlyWebIO){PlotlyWebIO.init(WebIO); var gd=this.dom.querySelector(\\\"#plot-7f171cf0-ede2-48a8-88c7-f97f65c47566\\\"); this.plotElem=gd; this.Plotly=Plotly; (window.Blink!==undefined) ? (gd.style.width=\\\"100%\\\", gd.style.height=\\\"100vh\\\", gd.style.marginLeft=\\\"0%\\\", gd.style.marginTop=\\\"0vh\\\") : undefined; window.onresize=(function (){return Plotly.Plots.resize(gd)}); Plotly.newPlot(gd,[{\\\"showlegend\\\":false,\\\"mode\\\":\\\"lines\\\",\\\"line\\\":{\\\"color\\\":\\\"#AEC7E8\\\"},\\\"y\\\":[0.6865501403808594,0.6865501403808594,null,0.6865501403808594,0.6104291081428528,null,0.6865501403808594,0.6519185900688171,null],\\\"type\\\":\\\"scatter\\\",\\\"hoverinfo\\\":\\\"skip\\\",\\\"yaxis\\\":\\\"y1\\\",\\\"x\\\":[8.5,11.5,null,8.5,8.5,null,11.5,11.5,null]},{\\\"showlegend\\\":false,\\\"mode\\\":\\\"lines\\\",\\\"line\\\":{\\\"color\\\":\\\"#AEC7E8\\\"},\\\"y\\\":[0.5188153982162476,0.5188153982162476,null,0.5188153982162476,0.0,null,0.5188153982162476,0.0,null],\\\"type\\\":\\\"scatter\\\",\\\"hoverinfo\\\":\\\"skip\\\",\\\"yaxis\\\":\\\"y1\\\",\\\"x\\\":[30.0,31.0,null,30.0,30.0,null,31.0,31.0,null]},{\\\"showlegend\\\":false,\\\"mode\\\":\\\"lines\\\",\\\"line\\\":{\\\"color\\\":\\\"#AEC7E8\\\"},\\\"y\\\":[0.632565975189209,0.632565975189209,null,0.632565975189209,0.0,null,0.632565975189209,0.0,null],\\\"type\\\":\\\"scatter\\\",\\\"hoverinfo\\\":\\\"skip\\\",\\\"yaxis\\\":\\\"y1\\\",\\\"x\\\":[13.0,14.0,null,13.0,13.0,null,14.0,14.0,null]},{\\\"showlegend\\\":false,\\\"mode\\\":\\\"lines\\\",\\\"line\\\":{\\\"color\\\":\\\"#FFBB78\\\"},\\\"y\\\":[0.0,0.3797474801540375,0.3797474801540375,0.0],\\\"type\\\":\\\"scatter\\\",\\\"fill\\\":\\\"toself\\\",\\\"hoverinfo\\\":\\\"skip\\\",\\\"yaxis\\\":\\\"y1\\\",\\\"x\\\":[1.0,1.0,2.0,2.0]},{\\\"showlegend\\\":false,\\\"mode\\\":\\\"lines\\\",\\\"line\\\":{\\\"color\\\":\\\"#AEC7E8\\\"},\\\"y\\\":[0.8443556427955627,0.8443556427955627,null,0.8443556427955627,0.338763564825058,null,0.8443556427955627,0.5188153982162476,null],\\\"type\\\":\\\"scatter\\\",\\\"hoverinfo\\\":\\\"skip\\\",\\\"yaxis\\\":\\\"y1\\\",\\\"x\\\":[28.5,30.5,null,28.5,28.5,null,30.5,30.5,null]},{\\\"showlegend\\\":false,\\\"mode\\\":\\\"lines\\\",\\\"line\\\":{\\\"color\\\":\\\"#AEC7E8\\\"},\\\"y\\\":[0.0,0.338763564825058,0.338763564825058,0.0],\\\"type\\\":\\\"scatter\\\",\\\"fill\\\":\\\"toself\\\",\\\"hoverinfo\\\":\\\"skip\\\",\\\"yaxis\\\":\\\"y1\\\",\\\"x\\\":[28.0,28.0,29.0,29.0]},{\\\"showlegend\\\":false,\\\"mode\\\":\\\"lines\\\",\\\"line\\\":{\\\"color\\\":\\\"#FFBB78\\\"},\\\"y\\\":[0.0,0.49937567114830017,0.49937567114830017,0.0],\\\"type\\\":\\\"scatter\\\",\\\"fill\\\":\\\"toself\\\",\\\"hoverinfo\\\":\\\"skip\\\",\\\"yaxis\\\":\\\"y1\\\",\\\"x\\\":[5.0,5.0,6.0,6.0]},{\\\"showlegend\\\":false,\\\"mode\\\":\\\"lines\\\",\\\"line\\\":{\\\"color\\\":\\\"#AEC7E8\\\"},\\\"y\\\":[0.8048612475395203,0.8048612475395203,null,0.8048612475395203,0.7234276533126831,null,0.8048612475395203,0.7836198806762695,null],\\\"type\\\":\\\"scatter\\\",\\\"hoverinfo\\\":\\\"skip\\\",\\\"yaxis\\\":\\\"y1\\\",\\\"x\\\":[12.5625,21.6875,null,12.5625,12.5625,null,21.6875,21.6875,null]},{\\\"showlegend\\\":false,\\\"mode\\\":\\\"lines\\\",\\\"line\\\":{\\\"color\\\":\\\"#AEC7E8\\\"},\\\"y\\\":[0.0,0.4096931219100952,0.4096931219100952,0.0],\\\"type\\\":\\\"scatter\\\",\\\"fill\\\":\\\"toself\\\",\\\"hoverinfo\\\":\\\"skip\\\",\\\"yaxis\\\":\\\"y1\\\",\\\"x\\\":[23.0,23.0,24.0,24.0]},{\\\"showlegend\\\":false,\\\"mode\\\":\\\"lines\\\",\\\"line\\\":{\\\"color\\\":\\\"#AEC7E8\\\"},\\\"y\\\":[0.6938127875328064,0.6938127875328064,null,0.6938127875328064,0.3337573707103729,null,0.6938127875328064,0.0,null],\\\"type\\\":\\\"scatter\\\",\\\"hoverinfo\\\":\\\"skip\\\",\\\"yaxis\\\":\\\"y1\\\",\\\"x\\\":[25.5,27.0,null,25.5,25.5,null,27.0,27.0,null]},{\\\"showlegend\\\":false,\\\"mode\\\":\\\"lines\\\",\\\"line\\\":{\\\"color\\\":\\\"#AEC7E8\\\"},\\\"y\\\":[0.7626786231994629,0.7626786231994629,null,0.7626786231994629,0.569891631603241,null,0.7626786231994629,0.6938127875328064,null],\\\"type\\\":\\\"scatter\\\",\\\"hoverinfo\\\":\\\"skip\\\",\\\"yaxis\\\":\\\"y1\\\",\\\"x\\\":[22.5,26.25,null,22.5,22.5,null,26.25,26.25,null]},{\\\"showlegend\\\":false,\\\"mode\\\":\\\"lines\\\",\\\"line\\\":{\\\"color\\\":\\\"#666666\\\"},\\\"y\\\":[0.9125849604606628,0.9125849604606628,null,0.9125849604606628,0.8663272857666016,null,0.9125849604606628,0.8839429020881653,null],\\\"type\\\":\\\"scatter\\\",\\\"hoverinfo\\\":\\\"skip\\\",\\\"yaxis\\\":\\\"y1\\\",\\\"x\\\":[3.0,23.3125,null,3.0,3.0,null,23.3125,23.3125,null]},{\\\"showlegend\\\":false,\\\"mode\\\":\\\"lines\\\",\\\"line\\\":{\\\"color\\\":\\\"#AEC7E8\\\"},\\\"y\\\":[0.8839429020881653,0.8839429020881653,null,0.8839429020881653,0.8048612475395203,null,0.8839429020881653,0.8443556427955627,null],\\\"type\\\":\\\"scatter\\\",\\\"hoverinfo\\\":\\\"skip\\\",\\\"yaxis\\\":\\\"y1\\\",\\\"x\\\":[17.125,29.5,null,17.125,17.125,null,29.5,29.5,null]},{\\\"showlegend\\\":false,\\\"mode\\\":\\\"lines\\\",\\\"line\\\":{\\\"color\\\":\\\"#AEC7E8\\\"},\\\"y\\\":[0.7836198806762695,0.7836198806762695,null,0.7836198806762695,0.6843859553337097,null,0.7836198806762695,0.7626786231994629,null],\\\"type\\\":\\\"scatter\\\",\\\"hoverinfo\\\":\\\"skip\\\",\\\"yaxis\\\":\\\"y1\\\",\\\"x\\\":[19.0,24.375,null,19.0,19.0,null,24.375,24.375,null]},{\\\"showlegend\\\":false,\\\"mode\\\":\\\"lines\\\",\\\"line\\\":{\\\"color\\\":\\\"#AEC7E8\\\"},\\\"y\\\":[0.6104291081428528,0.6104291081428528,null,0.6104291081428528,0.2816580533981323,null,0.6104291081428528,0.31387126445770264,null],\\\"type\\\":\\\"scatter\\\",\\\"hoverinfo\\\":\\\"skip\\\",\\\"yaxis\\\":\\\"y1\\\",\\\"x\\\":[7.5,9.5,null,7.5,7.5,null,9.5,9.5,null]},{\\\"showlegend\\\":false,\\\"mode\\\":\\\"lines\\\",\\\"line\\\":{\\\"color\\\":\\\"#AEC7E8\\\"},\\\"y\\\":[0.6519185900688171,0.6519185900688171,null,0.6519185900688171,0.0,null,0.6519185900688171,0.0,null],\\\"type\\\":\\\"scatter\\\",\\\"hoverinfo\\\":\\\"skip\\\",\\\"yaxis\\\":\\\"y1\\\",\\\"x\\\":[11.0,12.0,null,11.0,11.0,null,12.0,12.0,null]},{\\\"showlegend\\\":false,\\\"mode\\\":\\\"lines\\\",\\\"line\\\":{\\\"color\\\":\\\"#AEC7E8\\\"},\\\"y\\\":[0.0,0.4393477737903595,0.4393477737903595,0.0],\\\"type\\\":\\\"scatter\\\",\\\"fill\\\":\\\"toself\\\",\\\"hoverinfo\\\":\\\"skip\\\",\\\"yaxis\\\":\\\"y1\\\",\\\"x\\\":[17.0,17.0,19.0,19.0]},{\\\"showlegend\\\":false,\\\"mode\\\":\\\"lines\\\",\\\"line\\\":{\\\"color\\\":\\\"#AEC7E8\\\"},\\\"y\\\":[0.0,0.31387126445770264,0.31387126445770264,0.0],\\\"type\\\":\\\"scatter\\\",\\\"fill\\\":\\\"toself\\\",\\\"hoverinfo\\\":\\\"skip\\\",\\\"yaxis\\\":\\\"y1\\\",\\\"x\\\":[9.0,9.0,10.0,10.0]},{\\\"showlegend\\\":false,\\\"mode\\\":\\\"lines\\\",\\\"line\\\":{\\\"color\\\":\\\"#AEC7E8\\\"},\\\"y\\\":[0.6862950921058655,0.6862950921058655,null,0.6862950921058655,0.632565975189209,null,0.6862950921058655,0.0,null],\\\"type\\\":\\\"scatter\\\",\\\"hoverinfo\\\":\\\"skip\\\",\\\"yaxis\\\":\\\"y1\\\",\\\"x\\\":[13.5,15.0,null,13.5,13.5,null,15.0,15.0,null]},{\\\"showlegend\\\":false,\\\"mode\\\":\\\"lines\\\",\\\"line\\\":{\\\"color\\\":\\\"#FFBB78\\\"},\\\"y\\\":[0.8185405135154724,0.8185405135154724,null,0.8185405135154724,0.4571065604686737,null,0.8185405135154724,0.49937567114830017,null],\\\"type\\\":\\\"scatter\\\",\\\"hoverinfo\\\":\\\"skip\\\",\\\"yaxis\\\":\\\"y1\\\",\\\"x\\\":[3.5,5.5,null,3.5,3.5,null,5.5,5.5,null]},{\\\"showlegend\\\":false,\\\"mode\\\":\\\"lines\\\",\\\"line\\\":{\\\"color\\\":\\\"#AEC7E8\\\"},\\\"y\\\":[0.0,0.3337573707103729,0.3337573707103729,0.0],\\\"type\\\":\\\"scatter\\\",\\\"fill\\\":\\\"toself\\\",\\\"hoverinfo\\\":\\\"skip\\\",\\\"yaxis\\\":\\\"y1\\\",\\\"x\\\":[25.0,25.0,26.0,26.0]},{\\\"showlegend\\\":false,\\\"mode\\\":\\\"lines\\\",\\\"line\\\":{\\\"color\\\":\\\"#AEC7E8\\\"},\\\"y\\\":[0.7234276533126831,0.7234276533126831,null,0.7234276533126831,0.6865501403808594,null,0.7234276533126831,0.6985664367675781,null],\\\"type\\\":\\\"scatter\\\",\\\"hoverinfo\\\":\\\"skip\\\",\\\"yaxis\\\":\\\"y1\\\",\\\"x\\\":[10.0,15.125,null,10.0,10.0,null,15.125,15.125,null]},{\\\"showlegend\\\":false,\\\"mode\\\":\\\"lines\\\",\\\"line\\\":{\\\"color\\\":\\\"#FFBB78\\\"},\\\"y\\\":[0.0,0.4571065604686737,0.4571065604686737,0.0],\\\"type\\\":\\\"scatter\\\",\\\"fill\\\":\\\"toself\\\",\\\"hoverinfo\\\":\\\"skip\\\",\\\"yaxis\\\":\\\"y1\\\",\\\"x\\\":[3.0,3.0,4.0,4.0]},{\\\"showlegend\\\":false,\\\"mode\\\":\\\"lines\\\",\\\"line\\\":{\\\"color\\\":\\\"#FFBB78\\\"},\\\"y\\\":[0.8663272857666016,0.8663272857666016,null,0.8663272857666016,0.3797474801540375,null,0.8663272857666016,0.8185405135154724,null],\\\"type\\\":\\\"scatter\\\",\\\"hoverinfo\\\":\\\"skip\\\",\\\"yaxis\\\":\\\"y1\\\",\\\"x\\\":[1.5,4.5,null,1.5,1.5,null,4.5,4.5,null]},{\\\"showlegend\\\":false,\\\"mode\\\":\\\"lines\\\",\\\"line\\\":{\\\"color\\\":\\\"#AEC7E8\\\"},\\\"y\\\":[0.0,0.2816580533981323,0.2816580533981323,0.0],\\\"type\\\":\\\"scatter\\\",\\\"fill\\\":\\\"toself\\\",\\\"hoverinfo\\\":\\\"skip\\\",\\\"yaxis\\\":\\\"y1\\\",\\\"x\\\":[7.0,7.0,8.0,8.0]},{\\\"showlegend\\\":false,\\\"mode\\\":\\\"lines\\\",\\\"line\\\":{\\\"color\\\":\\\"#AEC7E8\\\"},\\\"y\\\":[0.6985664367675781,0.6985664367675781,null,0.6985664367675781,0.6862950921058655,null,0.6985664367675781,0.0,null],\\\"type\\\":\\\"scatter\\\",\\\"hoverinfo\\\":\\\"skip\\\",\\\"yaxis\\\":\\\"y1\\\",\\\"x\\\":[14.25,16.0,null,14.25,14.25,null,16.0,16.0,null]},{\\\"showlegend\\\":false,\\\"mode\\\":\\\"lines\\\",\\\"line\\\":{\\\"color\\\":\\\"#AEC7E8\\\"},\\\"y\\\":[0.569891631603241,0.569891631603241,null,0.569891631603241,0.38539019227027893,null,0.569891631603241,0.4096931219100952,null],\\\"type\\\":\\\"scatter\\\",\\\"hoverinfo\\\":\\\"skip\\\",\\\"yaxis\\\":\\\"y1\\\",\\\"x\\\":[21.5,23.5,null,21.5,21.5,null,23.5,23.5,null]},{\\\"showlegend\\\":false,\\\"mode\\\":\\\"lines\\\",\\\"line\\\":{\\\"color\\\":\\\"#AEC7E8\\\"},\\\"y\\\":[0.0,0.38539019227027893,0.38539019227027893,0.0],\\\"type\\\":\\\"scatter\\\",\\\"fill\\\":\\\"toself\\\",\\\"hoverinfo\\\":\\\"skip\\\",\\\"yaxis\\\":\\\"y1\\\",\\\"x\\\":[21.0,21.0,22.0,22.0]},{\\\"showlegend\\\":false,\\\"mode\\\":\\\"lines\\\",\\\"line\\\":{\\\"color\\\":\\\"#AEC7E8\\\"},\\\"y\\\":[0.6843859553337097,0.6843859553337097,null,0.6843859553337097,0.4393477737903595,null,0.6843859553337097,0.0,null],\\\"type\\\":\\\"scatter\\\",\\\"hoverinfo\\\":\\\"skip\\\",\\\"yaxis\\\":\\\"y1\\\",\\\"x\\\":[18.0,20.0,null,18.0,18.0,null,20.0,20.0,null]},{\\\"showlegend\\\":false,\\\"mode\\\":\\\"markers\\\",\\\"marker\\\":{\\\"color\\\":[\\\"#AEC7E8\\\",\\\"#AEC7E8\\\",\\\"#AEC7E8\\\",\\\"#FFBB78\\\",\\\"#AEC7E8\\\",\\\"#AEC7E8\\\",\\\"#FFBB78\\\",\\\"#AEC7E8\\\",\\\"#AEC7E8\\\",\\\"#AEC7E8\\\",\\\"#AEC7E8\\\",\\\"#666666\\\",\\\"#AEC7E8\\\",\\\"#AEC7E8\\\",\\\"#AEC7E8\\\",\\\"#AEC7E8\\\",\\\"#AEC7E8\\\",\\\"#AEC7E8\\\",\\\"#AEC7E8\\\",\\\"#FFBB78\\\",\\\"#AEC7E8\\\",\\\"#AEC7E8\\\",\\\"#FFBB78\\\",\\\"#FFBB78\\\",\\\"#AEC7E8\\\",\\\"#AEC7E8\\\",\\\"#AEC7E8\\\",\\\"#AEC7E8\\\",\\\"#AEC7E8\\\"],\\\"size\\\":[4,8,8,8,8,8,8,8,8,8,4,8,4,4,8,4,8,8,4,8,8,4,8,8,8,4,8,8,8]},\\\"y\\\":[0.6865501403808594,0.5188153982162476,0.632565975189209,0.3797474801540375,0.8443556427955627,0.338763564825058,0.49937567114830017,0.8048612475395203,0.4096931219100952,0.6938127875328064,0.7626786231994629,0.9125849604606628,0.8839429020881653,0.7836198806762695,0.6104291081428528,0.6519185900688171,0.4393477737903595,0.31387126445770264,0.6862950921058655,0.8185405135154724,0.3337573707103729,0.7234276533126831,0.4571065604686737,0.8663272857666016,0.2816580533981323,0.6985664367675781,0.569891631603241,0.6843859553337097,0.38539019227027893],\\\"type\\\":\\\"scatter\\\",\\\"customdata\\\":[[54,6,\\\"leguminosarum\\\"],[47,2,\\\"leguminosarum\\\"],[50,2,\\\"leguminosarum\\\"],[40,2,\\\"etli\\\"],[62,4,\\\"leguminosarum\\\"],[39,2,\\\"leguminosarum\\\"],[46,2,\\\"etli\\\"],[60,23,\\\"leguminosarum\\\"],[42,2,\\\"leguminosarum\\\"],[55,3,\\\"leguminosarum\\\"],[58,7,\\\"leguminosarum\\\"],[65,33,\\\"(mixed)\\\"],[64,27,\\\"leguminosarum\\\"],[59,13,\\\"leguminosarum\\\"],[49,4,\\\"leguminosarum\\\"],[51,2,\\\"leguminosarum\\\"],[44,5,\\\"leguminosarum\\\"],[37,2,\\\"leguminosarum\\\"],[53,3,\\\"leguminosarum\\\"],[61,4,\\\"etli\\\"],[38,2,\\\"leguminosarum\\\"],[57,10,\\\"leguminosarum\\\"],[45,2,\\\"etli\\\"],[63,6,\\\"etli\\\"],[36,2,\\\"leguminosarum\\\"],[56,4,\\\"leguminosarum\\\"],[48,4,\\\"leguminosarum\\\"],[52,6,\\\"leguminosarum\\\"],[41,2,\\\"leguminosarum\\\"]],\\\"yaxis\\\":\\\"y1\\\",\\\"hovertemplate\\\":\\\"ID: %{customdata[0]}<br>\\\\nHeight: %{y:.3f}<br>\\\\nGenome count: %{customdata[1]}\\\\n<br>\\\\n%{customdata[2]}\\\\n<extra><\\/extra>\\\",\\\"x\\\":[10.0,30.5,13.5,1.5,29.5,28.5,5.5,17.125,23.5,26.25,24.375,13.15625,23.3125,21.6875,8.5,11.5,18.0,9.5,14.25,4.5,25.5,12.5625,3.5,3.0,7.5,15.125,22.5,19.0,21.5]},{\\\"colorscale\\\":[[0.0,\\\"#666666\\\"],[0.1,\\\"#AEC7E8\\\"],[0.2,\\\"#FFBB78\\\"],[0.3,\\\"#98DF8A\\\"],[0.4,\\\"#FF9896\\\"],[0.5,\\\"#C5B0D5\\\"],[0.6,\\\"#C49C94\\\"],[0.7,\\\"#F7B6D2\\\"],[0.8,\\\"#C7C7C7\\\"],[0.9,\\\"#DBDB8D\\\"],[1.0,\\\"#9EDAE5\\\"]],\\\"yaxis\\\":\\\"y2\\\",\\\"showscale\\\":false,\\\"x\\\":[0.5,2.5,4.5,6.5,8.5,10.5,11.5,12.5,13.5,14.5,15.5,16.5,19.5,20.5,22.5,24.5,26.5,27.5,29.5,30.5,31.5],\\\"customdata\\\":[[[\\\"ID 40\\\",\\\"etli\\\"],[\\\"ID 45\\\",\\\"etli\\\"],[\\\"ID 46\\\",\\\"etli\\\"],[\\\"ID 36\\\",\\\"leguminosarum\\\"],[\\\"ID 37\\\",\\\"leguminosarum\\\"],[\\\"Genome 16\\\",\\\"leguminosarum\\\"],[\\\"Genome 27\\\",\\\"leguminosarum\\\"],[\\\"Genome 8\\\",\\\"leguminosarum\\\"],[\\\"Genome 20\\\",\\\"leguminosarum\\\"],[\\\"Genome 23\\\",\\\"leguminosarum\\\"],[\\\"Genome 15\\\",\\\"leguminosarum\\\"],[\\\"ID 44\\\",\\\"leguminosarum\\\"],[\\\"Genome 22\\\",\\\"leguminosarum\\\"],[\\\"ID 41\\\",\\\"leguminosarum\\\"],[\\\"ID 42\\\",\\\"leguminosarum\\\"],[\\\"ID 38\\\",\\\"leguminosarum\\\"],[\\\"Genome 25\\\",\\\"leguminosarum\\\"],[\\\"ID 39\\\",\\\"leguminosarum\\\"],[\\\"Genome 2\\\",\\\"leguminosarum\\\"],[\\\"Genome 4\\\",\\\"leguminosarum\\\"]]],\\\"zmin\\\":0,\\\"z\\\":[[2,2,2,1,1,1,1,1,1,1,1,1,1,1,1,1,1,1,1,1]],\\\"zmax\\\":10,\\\"type\\\":\\\"heatmap\\\",\\\"xgap\\\":1,\\\"hovertemplate\\\":\\\"%{customdata[0]} <br>\\\\n%{customdata[1]}\\\\n<extra><\\/extra>\\\\n\\\"}],{\\\"xaxis\\\":{\\\"visible\\\":false},\\\"hovermode\\\":\\\"closest\\\",\\\"margin\\\":{\\\"l\\\":50,\\\"b\\\":50,\\\"r\\\":50,\\\"t\\\":60},\\\"yaxis2\\\":{\\\"visible\\\":false,\\\"domain\\\":[0.0,0.05],\\\"fixedrange\\\":true}},{}); gd.on(\\\"plotly_hover\\\",(function (data){var filtered_data=WebIO.PlotlyCommands.filterEventData(gd,data,\\\"hover\\\"); return !(filtered_data.isnil) ? (WebIO.setval({\\\"name\\\":\\\"hover\\\",\\\"scope\\\":\\\"1370776156364525199\\\",\\\"id\\\":\\\"8693739397178724979\\\",\\\"type\\\":\\\"observable\\\"},filtered_data.out)) : undefined})); gd.on(\\\"plotly_unhover\\\",(function (){return WebIO.setval({\\\"name\\\":\\\"hover\\\",\\\"scope\\\":\\\"1370776156364525199\\\",\\\"id\\\":\\\"8693739397178724979\\\",\\\"type\\\":\\\"observable\\\"},{})})); gd.on(\\\"plotly_selected\\\",(function (data){var filtered_data=WebIO.PlotlyCommands.filterEventData(gd,data,\\\"selected\\\"); return !(filtered_data.isnil) ? (WebIO.setval({\\\"name\\\":\\\"selected\\\",\\\"scope\\\":\\\"1370776156364525199\\\",\\\"id\\\":\\\"4851151261543750438\\\",\\\"type\\\":\\\"observable\\\"},filtered_data.out)) : undefined})); gd.on(\\\"plotly_deselect\\\",(function (){return WebIO.setval({\\\"name\\\":\\\"selected\\\",\\\"scope\\\":\\\"1370776156364525199\\\",\\\"id\\\":\\\"4851151261543750438\\\",\\\"type\\\":\\\"observable\\\"},{})})); gd.on(\\\"plotly_relayout\\\",(function (data){var filtered_data=WebIO.PlotlyCommands.filterEventData(gd,data,\\\"relayout\\\"); return !(filtered_data.isnil) ? (WebIO.setval({\\\"name\\\":\\\"relayout\\\",\\\"scope\\\":\\\"1370776156364525199\\\",\\\"id\\\":\\\"7162194392749820805\\\",\\\"type\\\":\\\"observable\\\"},filtered_data.out)) : undefined})); return gd.on(\\\"plotly_click\\\",(function (data){var filtered_data=WebIO.PlotlyCommands.filterEventData(gd,data,\\\"click\\\"); return !(filtered_data.isnil) ? (WebIO.setval({\\\"name\\\":\\\"click\\\",\\\"scope\\\":\\\"1370776156364525199\\\",\\\"id\\\":\\\"14064997947842307733\\\",\\\"type\\\":\\\"observable\\\"},filtered_data.out)) : undefined}))}));\\n    (WebIO.importBlock({\\\"data\\\":[{\\\"name\\\":\\\"Plotly\\\",\\\"type\\\":\\\"js\\\",\\\"url\\\":\\\"\\/assetserver\\/e6903599031aaef8675931dfcd7df98a1aeffbfc-plotly-latest.min.js\\\"},{\\\"name\\\":null,\\\"type\\\":\\\"js\\\",\\\"url\\\":\\\"\\/assetserver\\/74a5dea81f21b0b802ef1ee92f1c8a504eac1a0c-plotly_webio.bundle.js\\\"}],\\\"type\\\":\\\"async_block\\\"})).then((imports) => handler.apply(this, imports));\\n}\\n\"],\"observables\":{\"_toImage\":{\"sync\":false,\"id\":\"17140742012691653225\",\"value\":{}},\"hover\":{\"sync\":false,\"id\":\"8693739397178724979\",\"value\":{}},\"selected\":{\"sync\":false,\"id\":\"4851151261543750438\",\"value\":{}},\"__gd_contents\":{\"sync\":false,\"id\":\"16158991728368240948\",\"value\":{}},\"click\":{\"sync\":false,\"id\":\"14064997947842307733\",\"value\":{}},\"image\":{\"sync\":true,\"id\":\"10298730159174688955\",\"value\":\"\"},\"__get_gd_contents\":{\"sync\":false,\"id\":\"2635971525551407507\",\"value\":\"\"},\"_downloadImage\":{\"sync\":false,\"id\":\"4788879971651554977\",\"value\":{}},\"relayout\":{\"sync\":false,\"id\":\"7162194392749820805\",\"value\":{}},\"_commands\":{\"sync\":false,\"id\":\"14822764794222141986\",\"value\":[]}}},\"children\":[{\"props\":{\"id\":\"plot-7f171cf0-ede2-48a8-88c7-f97f65c47566\"},\"nodeType\":\"DOM\",\"type\":\"node\",\"instanceArgs\":{\"namespace\":\"html\",\"tag\":\"div\"},\"children\":[]}]},\n",
       "            window,\n",
       "        );\n",
       "    } else {\n",
       "        document\n",
       "            .querySelector('[data-webio-mountpoint=\"5244434616659768678\"]')\n",
       "            .innerHTML = (\n",
       "                '<div style=\"padding: 1em; background-color: #f8d6da; border: 1px solid #f5c6cb\">' +\n",
       "                '<p><strong>WebIO not detected.</strong></p>' +\n",
       "                '<p>Please read ' +\n",
       "                '<a href=\"https://juliagizmos.github.io/WebIO.jl/latest/troubleshooting/not-detected/\" target=\"_blank\">the troubleshooting guide</a> ' +\n",
       "                'for more information on how to resolve this issue.</p>' +\n",
       "                '<p><a href=\"https://juliagizmos.github.io/WebIO.jl/latest/troubleshooting/not-detected/\" target=\"_blank\">https://juliagizmos.github.io/WebIO.jl/latest/troubleshooting/not-detected/</a></p>' +\n",
       "                '</div>'\n",
       "            );\n",
       "    }\n",
       "    </script>\n",
       "</div>\n"
      ],
      "text/plain": [
       "data: [\n",
       "  \"scatter with fields hoverinfo, line, mode, showlegend, type, x, y, and yaxis\",\n",
       "  \"scatter with fields hoverinfo, line, mode, showlegend, type, x, y, and yaxis\",\n",
       "  \"scatter with fields hoverinfo, line, mode, showlegend, type, x, y, and yaxis\",\n",
       "  \"scatter with fields fill, hoverinfo, line, mode, showlegend, type, x, y, and yaxis\",\n",
       "  \"scatter with fields hoverinfo, line, mode, showlegend, type, x, y, and yaxis\",\n",
       "  \"scatter with fields fill, hoverinfo, line, mode, showlegend, type, x, y, and yaxis\",\n",
       "  \"scatter with fields fill, hoverinfo, line, mode, showlegend, type, x, y, and yaxis\",\n",
       "  \"scatter with fields hoverinfo, line, mode, showlegend, type, x, y, and yaxis\",\n",
       "  \"scatter with fields fill, hoverinfo, line, mode, showlegend, type, x, y, and yaxis\",\n",
       "  \"scatter with fields hoverinfo, line, mode, showlegend, type, x, y, and yaxis\",\n",
       "  \"scatter with fields hoverinfo, line, mode, showlegend, type, x, y, and yaxis\",\n",
       "  \"scatter with fields hoverinfo, line, mode, showlegend, type, x, y, and yaxis\",\n",
       "  \"scatter with fields hoverinfo, line, mode, showlegend, type, x, y, and yaxis\",\n",
       "  \"scatter with fields hoverinfo, line, mode, showlegend, type, x, y, and yaxis\",\n",
       "  \"scatter with fields hoverinfo, line, mode, showlegend, type, x, y, and yaxis\",\n",
       "  \"scatter with fields hoverinfo, line, mode, showlegend, type, x, y, and yaxis\",\n",
       "  \"scatter with fields fill, hoverinfo, line, mode, showlegend, type, x, y, and yaxis\",\n",
       "  \"scatter with fields fill, hoverinfo, line, mode, showlegend, type, x, y, and yaxis\",\n",
       "  \"scatter with fields hoverinfo, line, mode, showlegend, type, x, y, and yaxis\",\n",
       "  \"scatter with fields hoverinfo, line, mode, showlegend, type, x, y, and yaxis\",\n",
       "  \"scatter with fields fill, hoverinfo, line, mode, showlegend, type, x, y, and yaxis\",\n",
       "  \"scatter with fields hoverinfo, line, mode, showlegend, type, x, y, and yaxis\",\n",
       "  \"scatter with fields fill, hoverinfo, line, mode, showlegend, type, x, y, and yaxis\",\n",
       "  \"scatter with fields hoverinfo, line, mode, showlegend, type, x, y, and yaxis\",\n",
       "  \"scatter with fields fill, hoverinfo, line, mode, showlegend, type, x, y, and yaxis\",\n",
       "  \"scatter with fields hoverinfo, line, mode, showlegend, type, x, y, and yaxis\",\n",
       "  \"scatter with fields hoverinfo, line, mode, showlegend, type, x, y, and yaxis\",\n",
       "  \"scatter with fields fill, hoverinfo, line, mode, showlegend, type, x, y, and yaxis\",\n",
       "  \"scatter with fields hoverinfo, line, mode, showlegend, type, x, y, and yaxis\",\n",
       "  \"scatter with fields customdata, hovertemplate, marker, mode, showlegend, type, x, y, and yaxis\",\n",
       "  \"heatmap with fields colorscale, customdata, hovertemplate, showscale, type, x, xgap, yaxis, z, zmax, and zmin\"\n",
       "]\n",
       "\n",
       "layout: \"layout with fields hovermode, margin, xaxis, and yaxis2\"\n",
       "\n"
      ]
     },
     "execution_count": 4,
     "metadata": {},
     "output_type": "execute_result"
    }
   ],
   "source": [
    "trees[\"all\"] = cluster_annotate(cdata, 1:cdata.ntaxa)\n",
    "plot(dendrogram(cdata, trees[\"all\"]))"
   ]
  },
  {
   "cell_type": "markdown",
   "id": "average-concentration",
   "metadata": {},
   "source": [
    "## Edits"
   ]
  },
  {
   "cell_type": "markdown",
   "id": "opening-burden",
   "metadata": {},
   "source": [
    "### leguminosarum"
   ]
  },
  {
   "cell_type": "code",
   "execution_count": 5,
   "id": "prepared-innocent",
   "metadata": {},
   "outputs": [
    {
     "data": {
      "application/vnd.plotly.v1+json": {
       "data": [
        {
         "colorscale": [
          [
           0,
           "#000004"
          ],
          [
           0.00392156862745098,
           "#010005"
          ],
          [
           0.00784313725490196,
           "#010106"
          ],
          [
           0.011764705882352941,
           "#010108"
          ],
          [
           0.01568627450980392,
           "#020109"
          ],
          [
           0.0196078431372549,
           "#02020B"
          ],
          [
           0.023529411764705882,
           "#02020D"
          ],
          [
           0.027450980392156862,
           "#03030F"
          ],
          [
           0.03137254901960784,
           "#030312"
          ],
          [
           0.03529411764705882,
           "#040414"
          ],
          [
           0.0392156862745098,
           "#050416"
          ],
          [
           0.043137254901960784,
           "#060518"
          ],
          [
           0.047058823529411764,
           "#06051A"
          ],
          [
           0.050980392156862744,
           "#07061C"
          ],
          [
           0.054901960784313725,
           "#08071E"
          ],
          [
           0.058823529411764705,
           "#090720"
          ],
          [
           0.06274509803921569,
           "#0A0822"
          ],
          [
           0.06666666666666667,
           "#0B0924"
          ],
          [
           0.07058823529411765,
           "#0C0926"
          ],
          [
           0.07450980392156863,
           "#0D0A29"
          ],
          [
           0.0784313725490196,
           "#0E0B2B"
          ],
          [
           0.08235294117647059,
           "#100B2D"
          ],
          [
           0.08627450980392157,
           "#110C2F"
          ],
          [
           0.09019607843137255,
           "#120D31"
          ],
          [
           0.09411764705882353,
           "#130D34"
          ],
          [
           0.09803921568627451,
           "#140E36"
          ],
          [
           0.10196078431372549,
           "#150E38"
          ],
          [
           0.10588235294117647,
           "#160F3B"
          ],
          [
           0.10980392156862745,
           "#180F3D"
          ],
          [
           0.11372549019607843,
           "#19103F"
          ],
          [
           0.11764705882352941,
           "#1A1042"
          ],
          [
           0.12156862745098039,
           "#1C1044"
          ],
          [
           0.12549019607843137,
           "#1D1147"
          ],
          [
           0.12941176470588237,
           "#1E1149"
          ],
          [
           0.13333333333333333,
           "#20114B"
          ],
          [
           0.13725490196078433,
           "#21114E"
          ],
          [
           0.1411764705882353,
           "#221150"
          ],
          [
           0.1450980392156863,
           "#241253"
          ],
          [
           0.14901960784313725,
           "#251255"
          ],
          [
           0.15294117647058825,
           "#271258"
          ],
          [
           0.1568627450980392,
           "#29115A"
          ],
          [
           0.1607843137254902,
           "#2A115C"
          ],
          [
           0.16470588235294117,
           "#2C115F"
          ],
          [
           0.16862745098039217,
           "#2D1161"
          ],
          [
           0.17254901960784313,
           "#2F1163"
          ],
          [
           0.17647058823529413,
           "#311165"
          ],
          [
           0.1803921568627451,
           "#331067"
          ],
          [
           0.1843137254901961,
           "#341069"
          ],
          [
           0.18823529411764706,
           "#36106B"
          ],
          [
           0.19215686274509805,
           "#38106C"
          ],
          [
           0.19607843137254902,
           "#390F6E"
          ],
          [
           0.2,
           "#3B0F70"
          ],
          [
           0.20392156862745098,
           "#3D0F71"
          ],
          [
           0.20784313725490197,
           "#3F0F72"
          ],
          [
           0.21176470588235294,
           "#400F74"
          ],
          [
           0.21568627450980393,
           "#420F75"
          ],
          [
           0.2196078431372549,
           "#440F76"
          ],
          [
           0.2235294117647059,
           "#451077"
          ],
          [
           0.22745098039215686,
           "#471078"
          ],
          [
           0.23137254901960785,
           "#491078"
          ],
          [
           0.23529411764705882,
           "#4A1079"
          ],
          [
           0.23921568627450981,
           "#4C117A"
          ],
          [
           0.24313725490196078,
           "#4E117B"
          ],
          [
           0.24705882352941178,
           "#4F127B"
          ],
          [
           0.25098039215686274,
           "#51127C"
          ],
          [
           0.2549019607843137,
           "#52137C"
          ],
          [
           0.25882352941176473,
           "#54137D"
          ],
          [
           0.2627450980392157,
           "#56147D"
          ],
          [
           0.26666666666666666,
           "#57157E"
          ],
          [
           0.27058823529411763,
           "#59157E"
          ],
          [
           0.27450980392156865,
           "#5A167E"
          ],
          [
           0.2784313725490196,
           "#5C167F"
          ],
          [
           0.2823529411764706,
           "#5D177F"
          ],
          [
           0.28627450980392155,
           "#5F187F"
          ],
          [
           0.2901960784313726,
           "#601880"
          ],
          [
           0.29411764705882354,
           "#621980"
          ],
          [
           0.2980392156862745,
           "#641A80"
          ],
          [
           0.30196078431372547,
           "#651A80"
          ],
          [
           0.3058823529411765,
           "#671B80"
          ],
          [
           0.30980392156862746,
           "#681C81"
          ],
          [
           0.3137254901960784,
           "#6A1C81"
          ],
          [
           0.3176470588235294,
           "#6B1D81"
          ],
          [
           0.3215686274509804,
           "#6D1D81"
          ],
          [
           0.3254901960784314,
           "#6E1E81"
          ],
          [
           0.32941176470588235,
           "#701F81"
          ],
          [
           0.3333333333333333,
           "#721F81"
          ],
          [
           0.33725490196078434,
           "#732081"
          ],
          [
           0.3411764705882353,
           "#752181"
          ],
          [
           0.34509803921568627,
           "#762181"
          ],
          [
           0.34901960784313724,
           "#782281"
          ],
          [
           0.35294117647058826,
           "#792282"
          ],
          [
           0.3568627450980392,
           "#7B2382"
          ],
          [
           0.3607843137254902,
           "#7C2382"
          ],
          [
           0.36470588235294116,
           "#7E2482"
          ],
          [
           0.3686274509803922,
           "#802582"
          ],
          [
           0.37254901960784315,
           "#812581"
          ],
          [
           0.3764705882352941,
           "#832681"
          ],
          [
           0.3803921568627451,
           "#842681"
          ],
          [
           0.3843137254901961,
           "#862781"
          ],
          [
           0.38823529411764707,
           "#882781"
          ],
          [
           0.39215686274509803,
           "#892881"
          ],
          [
           0.396078431372549,
           "#8B2981"
          ],
          [
           0.4,
           "#8C2981"
          ],
          [
           0.403921568627451,
           "#8E2A81"
          ],
          [
           0.40784313725490196,
           "#902A81"
          ],
          [
           0.4117647058823529,
           "#912B81"
          ],
          [
           0.41568627450980394,
           "#932B80"
          ],
          [
           0.4196078431372549,
           "#942C80"
          ],
          [
           0.4235294117647059,
           "#962C80"
          ],
          [
           0.42745098039215684,
           "#982D80"
          ],
          [
           0.43137254901960786,
           "#992D80"
          ],
          [
           0.43529411764705883,
           "#9B2E7F"
          ],
          [
           0.4392156862745098,
           "#9C2E7F"
          ],
          [
           0.44313725490196076,
           "#9E2F7F"
          ],
          [
           0.4470588235294118,
           "#A02F7F"
          ],
          [
           0.45098039215686275,
           "#A1307E"
          ],
          [
           0.4549019607843137,
           "#A3307E"
          ],
          [
           0.4588235294117647,
           "#A5317E"
          ],
          [
           0.4627450980392157,
           "#A6317D"
          ],
          [
           0.4666666666666667,
           "#A8327D"
          ],
          [
           0.47058823529411764,
           "#AA337D"
          ],
          [
           0.4745098039215686,
           "#AB337C"
          ],
          [
           0.47843137254901963,
           "#AD347C"
          ],
          [
           0.4823529411764706,
           "#AE347B"
          ],
          [
           0.48627450980392156,
           "#B0357B"
          ],
          [
           0.49019607843137253,
           "#B2357B"
          ],
          [
           0.49411764705882355,
           "#B3367A"
          ],
          [
           0.4980392156862745,
           "#B5367A"
          ],
          [
           0.5019607843137255,
           "#B73779"
          ],
          [
           0.5058823529411764,
           "#B83779"
          ],
          [
           0.5098039215686274,
           "#BA3878"
          ],
          [
           0.5137254901960784,
           "#BC3978"
          ],
          [
           0.5176470588235295,
           "#BD3977"
          ],
          [
           0.5215686274509804,
           "#BF3A77"
          ],
          [
           0.5254901960784314,
           "#C03A76"
          ],
          [
           0.5294117647058824,
           "#C23B75"
          ],
          [
           0.5333333333333333,
           "#C43C75"
          ],
          [
           0.5372549019607843,
           "#C53C74"
          ],
          [
           0.5411764705882353,
           "#C73D73"
          ],
          [
           0.5450980392156862,
           "#C83E73"
          ],
          [
           0.5490196078431373,
           "#CA3E72"
          ],
          [
           0.5529411764705883,
           "#CC3F71"
          ],
          [
           0.5568627450980392,
           "#CD4071"
          ],
          [
           0.5607843137254902,
           "#CF4070"
          ],
          [
           0.5647058823529412,
           "#D0416F"
          ],
          [
           0.5686274509803921,
           "#D2426F"
          ],
          [
           0.5725490196078431,
           "#D3436E"
          ],
          [
           0.5764705882352941,
           "#D5446D"
          ],
          [
           0.5803921568627451,
           "#D6456C"
          ],
          [
           0.5843137254901961,
           "#D8456C"
          ],
          [
           0.5882352941176471,
           "#D9466B"
          ],
          [
           0.592156862745098,
           "#DB476A"
          ],
          [
           0.596078431372549,
           "#DC4869"
          ],
          [
           0.6,
           "#DE4968"
          ],
          [
           0.6039215686274509,
           "#DF4A68"
          ],
          [
           0.6078431372549019,
           "#E04C67"
          ],
          [
           0.611764705882353,
           "#E24D66"
          ],
          [
           0.615686274509804,
           "#E34E65"
          ],
          [
           0.6196078431372549,
           "#E44F64"
          ],
          [
           0.6235294117647059,
           "#E55064"
          ],
          [
           0.6274509803921569,
           "#E75263"
          ],
          [
           0.6313725490196078,
           "#E85362"
          ],
          [
           0.6352941176470588,
           "#E95462"
          ],
          [
           0.6392156862745098,
           "#EA5661"
          ],
          [
           0.6431372549019608,
           "#EB5760"
          ],
          [
           0.6470588235294118,
           "#EC5860"
          ],
          [
           0.6509803921568628,
           "#ED5A5F"
          ],
          [
           0.6549019607843137,
           "#EE5B5E"
          ],
          [
           0.6588235294117647,
           "#EF5D5E"
          ],
          [
           0.6627450980392157,
           "#F05F5E"
          ],
          [
           0.6666666666666666,
           "#F1605D"
          ],
          [
           0.6705882352941176,
           "#F2625D"
          ],
          [
           0.6745098039215687,
           "#F2645C"
          ],
          [
           0.6784313725490196,
           "#F3655C"
          ],
          [
           0.6823529411764706,
           "#F4675C"
          ],
          [
           0.6862745098039216,
           "#F4695C"
          ],
          [
           0.6901960784313725,
           "#F56B5C"
          ],
          [
           0.6941176470588235,
           "#F66C5C"
          ],
          [
           0.6980392156862745,
           "#F66E5C"
          ],
          [
           0.7019607843137254,
           "#F7705C"
          ],
          [
           0.7058823529411765,
           "#F7725C"
          ],
          [
           0.7098039215686275,
           "#F8745C"
          ],
          [
           0.7137254901960784,
           "#F8765C"
          ],
          [
           0.7176470588235294,
           "#F9785D"
          ],
          [
           0.7215686274509804,
           "#F9795D"
          ],
          [
           0.7254901960784313,
           "#F97B5D"
          ],
          [
           0.7294117647058823,
           "#FA7D5E"
          ],
          [
           0.7333333333333333,
           "#FA7F5E"
          ],
          [
           0.7372549019607844,
           "#FA815F"
          ],
          [
           0.7411764705882353,
           "#FB835F"
          ],
          [
           0.7450980392156863,
           "#FB8560"
          ],
          [
           0.7490196078431373,
           "#FB8761"
          ],
          [
           0.7529411764705882,
           "#FC8961"
          ],
          [
           0.7568627450980392,
           "#FC8A62"
          ],
          [
           0.7607843137254902,
           "#FC8C63"
          ],
          [
           0.7647058823529411,
           "#FC8E64"
          ],
          [
           0.7686274509803922,
           "#FC9065"
          ],
          [
           0.7725490196078432,
           "#FD9266"
          ],
          [
           0.7764705882352941,
           "#FD9467"
          ],
          [
           0.7803921568627451,
           "#FD9668"
          ],
          [
           0.7843137254901961,
           "#FD9869"
          ],
          [
           0.788235294117647,
           "#FD9A6A"
          ],
          [
           0.792156862745098,
           "#FD9B6B"
          ],
          [
           0.796078431372549,
           "#FE9D6C"
          ],
          [
           0.8,
           "#FE9F6D"
          ],
          [
           0.803921568627451,
           "#FEA16E"
          ],
          [
           0.807843137254902,
           "#FEA36F"
          ],
          [
           0.8117647058823529,
           "#FEA571"
          ],
          [
           0.8156862745098039,
           "#FEA772"
          ],
          [
           0.8196078431372549,
           "#FEA973"
          ],
          [
           0.8235294117647058,
           "#FEAA74"
          ],
          [
           0.8274509803921568,
           "#FEAC76"
          ],
          [
           0.8313725490196079,
           "#FEAE77"
          ],
          [
           0.8352941176470589,
           "#FEB078"
          ],
          [
           0.8392156862745098,
           "#FEB27A"
          ],
          [
           0.8431372549019608,
           "#FEB47B"
          ],
          [
           0.8470588235294118,
           "#FEB67C"
          ],
          [
           0.8509803921568627,
           "#FEB77E"
          ],
          [
           0.8549019607843137,
           "#FEB97F"
          ],
          [
           0.8588235294117647,
           "#FEBB81"
          ],
          [
           0.8627450980392157,
           "#FEBD82"
          ],
          [
           0.8666666666666667,
           "#FEBF84"
          ],
          [
           0.8705882352941177,
           "#FEC185"
          ],
          [
           0.8745098039215686,
           "#FEC287"
          ],
          [
           0.8784313725490196,
           "#FEC488"
          ],
          [
           0.8823529411764706,
           "#FEC68A"
          ],
          [
           0.8862745098039215,
           "#FEC88C"
          ],
          [
           0.8901960784313725,
           "#FECA8D"
          ],
          [
           0.8941176470588236,
           "#FECC8F"
          ],
          [
           0.8980392156862745,
           "#FECD90"
          ],
          [
           0.9019607843137255,
           "#FECF92"
          ],
          [
           0.9058823529411765,
           "#FED194"
          ],
          [
           0.9098039215686274,
           "#FED395"
          ],
          [
           0.9137254901960784,
           "#FED597"
          ],
          [
           0.9176470588235294,
           "#FED799"
          ],
          [
           0.9215686274509803,
           "#FED89A"
          ],
          [
           0.9254901960784314,
           "#FDDA9C"
          ],
          [
           0.9294117647058824,
           "#FDDC9E"
          ],
          [
           0.9333333333333333,
           "#FDDEA0"
          ],
          [
           0.9372549019607843,
           "#FDE0A1"
          ],
          [
           0.9411764705882353,
           "#FDE2A3"
          ],
          [
           0.9450980392156862,
           "#FDE3A5"
          ],
          [
           0.9490196078431372,
           "#FDE5A7"
          ],
          [
           0.9529411764705882,
           "#FDE7A9"
          ],
          [
           0.9568627450980393,
           "#FDE9AA"
          ],
          [
           0.9607843137254902,
           "#FDEBAC"
          ],
          [
           0.9647058823529412,
           "#FCECAE"
          ],
          [
           0.9686274509803922,
           "#FCEEB0"
          ],
          [
           0.9725490196078431,
           "#FCF0B2"
          ],
          [
           0.9764705882352941,
           "#FCF2B4"
          ],
          [
           0.9803921568627451,
           "#FCF4B6"
          ],
          [
           0.984313725490196,
           "#FCF6B8"
          ],
          [
           0.9882352941176471,
           "#FCF7B9"
          ],
          [
           0.9921568627450981,
           "#FCF9BB"
          ],
          [
           0.996078431372549,
           "#FCFBBD"
          ],
          [
           1,
           "#FCFDBF"
          ]
         ],
         "type": "heatmap",
         "x": [
          0.5,
          2.5,
          4.5,
          5.5,
          6.5,
          7.5,
          8.5,
          9.5,
          10.5,
          12.914213562373096,
          13.914213562373096,
          14.914213562373096,
          15.914213562373096,
          17.914213562373096,
          18.914213562373096,
          19.914213562373096,
          21.914213562373096,
          22.914213562373096,
          24.914213562373096,
          25.914213562373096,
          26.914213562373096
         ],
         "y": [
          0.5,
          2.5,
          4.5,
          5.5,
          6.5,
          7.5,
          8.5,
          9.5,
          10.5,
          12.914213562373096,
          13.914213562373096,
          14.914213562373096,
          15.914213562373096,
          17.914213562373096,
          18.914213562373096,
          19.914213562373096,
          21.914213562373096,
          22.914213562373096,
          24.914213562373096,
          25.914213562373096,
          26.914213562373096
         ],
         "z": [
          [
           0.28165805,
           0.6004523,
           0.6497644,
           0.6849216,
           0.71811765,
           0.71201104,
           0.7106294,
           0.7075598,
           0.7836982,
           0.7878597,
           0.78457075,
           0.781249,
           0.74572635,
           0.74970245,
           0.75135845,
           0.72275245,
           0.7415643,
           0.88109124,
           0.880455,
           0.8819484
          ],
          [
           0.6004523,
           0.31387126,
           0.6432017,
           0.6835637,
           0.7197131,
           0.71697235,
           0.7192377,
           0.71301734,
           0.7786665,
           0.7832582,
           0.77775896,
           0.7750714,
           0.7441317,
           0.7394433,
           0.73681194,
           0.7232376,
           0.7340076,
           0.88038385,
           0.8787212,
           0.8806834
          ],
          [
           0.6497644,
           0.6432017,
           0,
           0.6519186,
           0.7055081,
           0.7035492,
           0.70020735,
           0.7113814,
           0.7480857,
           0.77834636,
           0.7741669,
           0.7685575,
           0.7498614,
           0.7560024,
           0.7544858,
           0.71107024,
           0.7258768,
           0.87903094,
           0.8791439,
           0.88088715
          ],
          [
           0.6849216,
           0.6835637,
           0.6519186,
           0,
           0.6999531,
           0.6749029,
           0.7150754,
           0.7077992,
           0.7768752,
           0.7760427,
           0.77933,
           0.7740152,
           0.7566121,
           0.75159943,
           0.76290363,
           0.719752,
           0.7386179,
           0.8817862,
           0.8800957,
           0.8806657
          ],
          [
           0.71811765,
           0.7197131,
           0.7055081,
           0.6999531,
           0,
           0.632566,
           0.68197864,
           0.6945004,
           0.7962246,
           0.794834,
           0.7948709,
           0.79023725,
           0.7778121,
           0.78245944,
           0.7851055,
           0.75589603,
           0.7679279,
           0.88208365,
           0.87998277,
           0.8819444
          ],
          [
           0.71201104,
           0.71697235,
           0.7035492,
           0.6749029,
           0.632566,
           0,
           0.6862951,
           0.6682604,
           0.7876347,
           0.7850122,
           0.7909311,
           0.7865048,
           0.76865566,
           0.764837,
           0.7744221,
           0.755457,
           0.7655332,
           0.8799758,
           0.8792896,
           0.8823339
          ],
          [
           0.7106294,
           0.7192377,
           0.70020735,
           0.7150754,
           0.68197864,
           0.6862951,
           0,
           0.69856644,
           0.79983765,
           0.8011682,
           0.7942293,
           0.79439443,
           0.7803618,
           0.7848426,
           0.7866676,
           0.75173825,
           0.765154,
           0.87984616,
           0.8776753,
           0.88040787
          ],
          [
           0.7075598,
           0.71301734,
           0.7113814,
           0.7077992,
           0.6945004,
           0.6682604,
           0.69856644,
           0,
           0.79677784,
           0.799639,
           0.79533875,
           0.7935361,
           0.76950294,
           0.77615285,
           0.77584875,
           0.75991106,
           0.76540005,
           0.88161117,
           0.8787586,
           0.88235676
          ],
          [
           0.7836982,
           0.7786665,
           0.7480857,
           0.7768752,
           0.7962246,
           0.7876347,
           0.79983765,
           0.79677784,
           0.20932253,
           0.3857725,
           0.40923494,
           0.6742195,
           0.75546783,
           0.7565256,
           0.76026607,
           0.7779818,
           0.7528604,
           0.8784947,
           0.87535787,
           0.87824935
          ],
          [
           0.7878597,
           0.7832582,
           0.77834636,
           0.7760427,
           0.794834,
           0.7850122,
           0.8011682,
           0.799639,
           0.3857725,
           0,
           0.4170585,
           0.68251216,
           0.75434226,
           0.75489175,
           0.76161003,
           0.7817385,
           0.75891864,
           0.8822382,
           0.8773924,
           0.88008195
          ],
          [
           0.78457075,
           0.77775896,
           0.7741669,
           0.77933,
           0.7948709,
           0.7909311,
           0.7942293,
           0.79533875,
           0.40923494,
           0.4170585,
           0,
           0.6757475,
           0.749798,
           0.7596078,
           0.7574984,
           0.7749079,
           0.75009865,
           0.8784314,
           0.8726993,
           0.87603897
          ],
          [
           0.781249,
           0.7750714,
           0.7685575,
           0.7740152,
           0.79023725,
           0.7865048,
           0.79439443,
           0.7935361,
           0.6742195,
           0.68251216,
           0.6757475,
           0,
           0.7538982,
           0.7587865,
           0.7585504,
           0.7678517,
           0.73222125,
           0.8815285,
           0.8789315,
           0.88078374
          ],
          [
           0.74572635,
           0.7441317,
           0.7498614,
           0.7566121,
           0.7778121,
           0.76865566,
           0.7803618,
           0.76950294,
           0.75546783,
           0.75434226,
           0.749798,
           0.7538982,
           0.3853902,
           0.567387,
           0.56019783,
           0.7523314,
           0.7414527,
           0.87613404,
           0.877296,
           0.879056
          ],
          [
           0.74970245,
           0.7394433,
           0.7560024,
           0.75159943,
           0.78245944,
           0.764837,
           0.7848426,
           0.77615285,
           0.7565256,
           0.75489175,
           0.7596078,
           0.7587865,
           0.567387,
           0,
           0.40969312,
           0.75953,
           0.74450386,
           0.8791419,
           0.8803974,
           0.88158804
          ],
          [
           0.75135845,
           0.73681194,
           0.7544858,
           0.76290363,
           0.7851055,
           0.7744221,
           0.7866676,
           0.77584875,
           0.76026607,
           0.76161003,
           0.7574984,
           0.7585504,
           0.56019783,
           0.40969312,
           0,
           0.7612526,
           0.7384765,
           0.8815148,
           0.8813829,
           0.8830226
          ],
          [
           0.72275245,
           0.7232376,
           0.71107024,
           0.719752,
           0.75589603,
           0.755457,
           0.75173825,
           0.75991106,
           0.7779818,
           0.7817385,
           0.7749079,
           0.7678517,
           0.7523314,
           0.75953,
           0.7612526,
           0.33375737,
           0.6904209,
           0.8797559,
           0.8782692,
           0.8808489
          ],
          [
           0.7415643,
           0.7340076,
           0.7258768,
           0.7386179,
           0.7679279,
           0.7655332,
           0.765154,
           0.76540005,
           0.7528604,
           0.75891864,
           0.75009865,
           0.73222125,
           0.7414527,
           0.74450386,
           0.7384765,
           0.6904209,
           0,
           0.8790682,
           0.8767693,
           0.8781061
          ],
          [
           0.88109124,
           0.88038385,
           0.87903094,
           0.8817862,
           0.88208365,
           0.8799758,
           0.87984616,
           0.88161117,
           0.8784947,
           0.8822382,
           0.8784314,
           0.8815285,
           0.87613404,
           0.8791419,
           0.8815148,
           0.8797559,
           0.8790682,
           0.33876356,
           0.8377263,
           0.8423159
          ],
          [
           0.880455,
           0.8787212,
           0.8791439,
           0.8800957,
           0.87998277,
           0.8792896,
           0.8776753,
           0.8787586,
           0.87535787,
           0.8773924,
           0.8726993,
           0.8789315,
           0.877296,
           0.8803974,
           0.8813829,
           0.8782692,
           0.8767693,
           0.8377263,
           0,
           0.5188154
          ],
          [
           0.8819484,
           0.8806834,
           0.88088715,
           0.8806657,
           0.8819444,
           0.8823339,
           0.88040787,
           0.88235676,
           0.87824935,
           0.88008195,
           0.87603897,
           0.88078374,
           0.879056,
           0.88158804,
           0.8830226,
           0.8808489,
           0.8781061,
           0.8423159,
           0.5188154,
           0
          ]
         ]
        },
        {
         "fill": "toself",
         "hoverinfo": "skip",
         "line": {
          "color": "#666666"
         },
         "mode": "lines",
         "showlegend": false,
         "type": "scatter",
         "x": [
          0,
          0.2816580533981323,
          0.2816580533981323,
          0
         ],
         "xaxis": "x2",
         "y": [
          1,
          1,
          2,
          2
         ],
         "yaxis": "y"
        },
        {
         "hoverinfo": "skip",
         "line": {
          "color": "#666666"
         },
         "mode": "lines",
         "showlegend": false,
         "type": "scatter",
         "x": [
          0.6985664367675781,
          0.6985664367675781,
          null,
          0.6985664367675781,
          0.6862950921058655,
          null,
          0.6985664367675781,
          0,
          null
         ],
         "xaxis": "x2",
         "y": [
          8.25,
          10,
          null,
          8.25,
          8.25,
          null,
          10,
          10,
          null
         ],
         "yaxis": "y"
        },
        {
         "hoverinfo": "skip",
         "line": {
          "color": "#666666"
         },
         "mode": "lines",
         "showlegend": false,
         "type": "scatter",
         "x": [
          0.7836198806762695,
          0.7836198806762695,
          null,
          0.7836198806762695,
          0.6843859553337097,
          null,
          0.7836198806762695,
          0.7626786231994629,
          null
         ],
         "xaxis": "x2",
         "y": [
          14.450825214724777,
          19.789213562373096,
          null,
          14.450825214724777,
          14.450825214724777,
          null,
          19.789213562373096,
          19.789213562373096,
          null
         ],
         "yaxis": "y"
        },
        {
         "fill": "toself",
         "hoverinfo": "skip",
         "line": {
          "color": "#666666"
         },
         "mode": "lines",
         "showlegend": false,
         "type": "scatter",
         "x": [
          0,
          0.3337573707103729,
          0.3337573707103729,
          0
         ],
         "xaxis": "x2",
         "y": [
          20.414213562373096,
          20.414213562373096,
          21.414213562373096,
          21.414213562373096
         ],
         "yaxis": "y"
        },
        {
         "hoverinfo": "skip",
         "line": {
          "color": "#666666"
         },
         "mode": "lines",
         "showlegend": false,
         "type": "scatter",
         "x": [
          0.6104291081428528,
          0.6104291081428528,
          null,
          0.6104291081428528,
          0.2816580533981323,
          null,
          0.6104291081428528,
          0.31387126445770264,
          null
         ],
         "xaxis": "x2",
         "y": [
          1.5,
          3.5,
          null,
          1.5,
          1.5,
          null,
          3.5,
          3.5,
          null
         ],
         "yaxis": "y"
        },
        {
         "hoverinfo": "skip",
         "line": {
          "color": "#666666"
         },
         "mode": "lines",
         "showlegend": false,
         "type": "scatter",
         "x": [
          0.569891631603241,
          0.569891631603241,
          null,
          0.569891631603241,
          0.38539019227027893,
          null,
          0.569891631603241,
          0.4096931219100952,
          null
         ],
         "xaxis": "x2",
         "y": [
          16.914213562373096,
          18.914213562373096,
          null,
          16.914213562373096,
          16.914213562373096,
          null,
          18.914213562373096,
          18.914213562373096,
          null
         ],
         "yaxis": "y"
        },
        {
         "hoverinfo": "skip",
         "line": {
          "color": "#666666"
         },
         "mode": "lines",
         "showlegend": false,
         "type": "scatter",
         "x": [
          0.6938127875328064,
          0.6938127875328064,
          null,
          0.6938127875328064,
          0.3337573707103729,
          null,
          0.6938127875328064,
          0,
          null
         ],
         "xaxis": "x2",
         "y": [
          20.914213562373096,
          22.414213562373096,
          null,
          20.914213562373096,
          20.914213562373096,
          null,
          22.414213562373096,
          22.414213562373096,
          null
         ],
         "yaxis": "y"
        },
        {
         "hoverinfo": "skip",
         "line": {
          "color": "#666666"
         },
         "mode": "lines",
         "showlegend": false,
         "type": "scatter",
         "x": [
          0.6843859553337097,
          0.6843859553337097,
          null,
          0.6843859553337097,
          0.4393477737903595,
          null,
          0.6843859553337097,
          0,
          null
         ],
         "xaxis": "x2",
         "y": [
          13.48743686707646,
          15.414213562373096,
          null,
          13.48743686707646,
          13.48743686707646,
          null,
          15.414213562373096,
          15.414213562373096,
          null
         ],
         "yaxis": "y"
        },
        {
         "hoverinfo": "skip",
         "line": {
          "color": "#666666"
         },
         "mode": "lines",
         "showlegend": false,
         "type": "scatter",
         "x": [
          0.4096931219100952,
          0.4096931219100952,
          null,
          0.4096931219100952,
          0,
          null,
          0.4096931219100952,
          0,
          null
         ],
         "xaxis": "x2",
         "y": [
          18.414213562373096,
          19.414213562373096,
          null,
          18.414213562373096,
          18.414213562373096,
          null,
          19.414213562373096,
          19.414213562373096,
          null
         ],
         "yaxis": "y"
        },
        {
         "hoverinfo": "skip",
         "line": {
          "color": "#666666"
         },
         "mode": "lines",
         "showlegend": false,
         "type": "scatter",
         "x": [
          0.6519185900688171,
          0.6519185900688171,
          null,
          0.6519185900688171,
          0,
          null,
          0.6519185900688171,
          0,
          null
         ],
         "xaxis": "x2",
         "y": [
          5,
          6,
          null,
          5,
          5,
          null,
          6,
          6,
          null
         ],
         "yaxis": "y"
        },
        {
         "fill": "toself",
         "hoverinfo": "skip",
         "line": {
          "color": "#666666"
         },
         "mode": "lines",
         "showlegend": false,
         "type": "scatter",
         "x": [
          0,
          0.20932252705097198,
          0.20932252705097198,
          0
         ],
         "xaxis": "x2",
         "y": [
          11,
          11,
          12.414213562373096,
          12.414213562373096
         ],
         "yaxis": "y"
        },
        {
         "fill": "toself",
         "hoverinfo": "skip",
         "line": {
          "color": "#666666"
         },
         "mode": "lines",
         "showlegend": false,
         "type": "scatter",
         "x": [
          0,
          0.38539019227027893,
          0.38539019227027893,
          0
         ],
         "xaxis": "x2",
         "y": [
          16.414213562373096,
          16.414213562373096,
          17.414213562373096,
          17.414213562373096
         ],
         "yaxis": "y"
        },
        {
         "hoverinfo": "skip",
         "line": {
          "color": "#666666"
         },
         "mode": "lines",
         "showlegend": false,
         "type": "scatter",
         "x": [
          0.8048612475395203,
          0.8048612475395203,
          null,
          0.8048612475395203,
          0.7234276533126831,
          null,
          0.8048612475395203,
          0.7836198806762695,
          null
         ],
         "xaxis": "x2",
         "y": [
          6.5625,
          17.120019388548936,
          null,
          6.5625,
          6.5625,
          null,
          17.120019388548936,
          17.120019388548936,
          null
         ],
         "yaxis": "y"
        },
        {
         "hoverinfo": "skip",
         "line": {
          "color": "#666666"
         },
         "mode": "lines",
         "showlegend": false,
         "type": "scatter",
         "x": [
          0.7626786231994629,
          0.7626786231994629,
          null,
          0.7626786231994629,
          0.569891631603241,
          null,
          0.7626786231994629,
          0.6938127875328064,
          null
         ],
         "xaxis": "x2",
         "y": [
          17.914213562373096,
          21.664213562373096,
          null,
          17.914213562373096,
          17.914213562373096,
          null,
          21.664213562373096,
          21.664213562373096,
          null
         ],
         "yaxis": "y"
        },
        {
         "hoverinfo": "skip",
         "line": {
          "color": "#666666"
         },
         "mode": "lines",
         "showlegend": false,
         "type": "scatter",
         "x": [
          0.6862950921058655,
          0.6862950921058655,
          null,
          0.6862950921058655,
          0.632565975189209,
          null,
          0.6862950921058655,
          0,
          null
         ],
         "xaxis": "x2",
         "y": [
          7.5,
          9,
          null,
          7.5,
          7.5,
          null,
          9,
          9,
          null
         ],
         "yaxis": "y"
        },
        {
         "hoverinfo": "skip",
         "line": {
          "color": "#666666"
         },
         "mode": "lines",
         "showlegend": false,
         "type": "scatter",
         "x": [
          0.4393477737903595,
          0.4393477737903595,
          null,
          0.4393477737903595,
          0.4137216806411743,
          null,
          0.4393477737903595,
          0,
          null
         ],
         "xaxis": "x2",
         "y": [
          12.560660171779823,
          14.414213562373096,
          null,
          12.560660171779823,
          12.560660171779823,
          null,
          14.414213562373096,
          14.414213562373096,
          null
         ],
         "yaxis": "y"
        },
        {
         "hoverinfo": "skip",
         "line": {
          "color": "#666666"
         },
         "mode": "lines",
         "showlegend": false,
         "type": "scatter",
         "x": [
          0.8839429020881653,
          0.8839429020881653,
          null,
          0.8839429020881653,
          0.8048612475395203,
          null,
          0.8839429020881653,
          0.8443556427955627,
          null
         ],
         "xaxis": "x2",
         "y": [
          11.841259694274468,
          24.914213562373096,
          null,
          11.841259694274468,
          11.841259694274468,
          null,
          24.914213562373096,
          24.914213562373096,
          null
         ],
         "yaxis": "y"
        },
        {
         "hoverinfo": "skip",
         "line": {
          "color": "#666666"
         },
         "mode": "lines",
         "showlegend": false,
         "type": "scatter",
         "x": [
          0.5188153982162476,
          0.5188153982162476,
          null,
          0.5188153982162476,
          0,
          null,
          0.5188153982162476,
          0,
          null
         ],
         "xaxis": "x2",
         "y": [
          25.414213562373096,
          26.414213562373096,
          null,
          25.414213562373096,
          25.414213562373096,
          null,
          26.414213562373096,
          26.414213562373096,
          null
         ],
         "yaxis": "y"
        },
        {
         "hoverinfo": "skip",
         "line": {
          "color": "#666666"
         },
         "mode": "lines",
         "showlegend": false,
         "type": "scatter",
         "x": [
          0.6865501403808594,
          0.6865501403808594,
          null,
          0.6865501403808594,
          0.6104291081428528,
          null,
          0.6865501403808594,
          0.6519185900688171,
          null
         ],
         "xaxis": "x2",
         "y": [
          2.5,
          5.5,
          null,
          2.5,
          2.5,
          null,
          5.5,
          5.5,
          null
         ],
         "yaxis": "y"
        },
        {
         "fill": "toself",
         "hoverinfo": "skip",
         "line": {
          "color": "#666666"
         },
         "mode": "lines",
         "showlegend": false,
         "type": "scatter",
         "x": [
          0,
          0.31387126445770264,
          0.31387126445770264,
          0
         ],
         "xaxis": "x2",
         "y": [
          3,
          3,
          4,
          4
         ],
         "yaxis": "y"
        },
        {
         "hoverinfo": "skip",
         "line": {
          "color": "#666666"
         },
         "mode": "lines",
         "showlegend": false,
         "type": "scatter",
         "x": [
          0.7234276533126831,
          0.7234276533126831,
          null,
          0.7234276533126831,
          0.6865501403808594,
          null,
          0.7234276533126831,
          0.6985664367675781,
          null
         ],
         "xaxis": "x2",
         "y": [
          4,
          9.125,
          null,
          4,
          4,
          null,
          9.125,
          9.125,
          null
         ],
         "yaxis": "y"
        },
        {
         "hoverinfo": "skip",
         "line": {
          "color": "#666666"
         },
         "mode": "lines",
         "showlegend": false,
         "type": "scatter",
         "x": [
          0.4137216806411743,
          0.4137216806411743,
          null,
          0.4137216806411743,
          0.20932252705097198,
          null,
          0.4137216806411743,
          0,
          null
         ],
         "xaxis": "x2",
         "y": [
          11.707106781186548,
          13.414213562373096,
          null,
          11.707106781186548,
          11.707106781186548,
          null,
          13.414213562373096,
          13.414213562373096,
          null
         ],
         "yaxis": "y"
        },
        {
         "hoverinfo": "skip",
         "line": {
          "color": "#666666"
         },
         "mode": "lines",
         "showlegend": false,
         "type": "scatter",
         "x": [
          0.632565975189209,
          0.632565975189209,
          null,
          0.632565975189209,
          0,
          null,
          0.632565975189209,
          0,
          null
         ],
         "xaxis": "x2",
         "y": [
          7,
          8,
          null,
          7,
          7,
          null,
          8,
          8,
          null
         ],
         "yaxis": "y"
        },
        {
         "hoverinfo": "skip",
         "line": {
          "color": "#666666"
         },
         "mode": "lines",
         "showlegend": false,
         "type": "scatter",
         "x": [
          0.8443556427955627,
          0.8443556427955627,
          null,
          0.8443556427955627,
          0.338763564825058,
          null,
          0.8443556427955627,
          0.5188153982162476,
          null
         ],
         "xaxis": "x2",
         "y": [
          23.914213562373096,
          25.914213562373096,
          null,
          23.914213562373096,
          23.914213562373096,
          null,
          25.914213562373096,
          25.914213562373096,
          null
         ],
         "yaxis": "y"
        },
        {
         "fill": "toself",
         "hoverinfo": "skip",
         "line": {
          "color": "#666666"
         },
         "mode": "lines",
         "showlegend": false,
         "type": "scatter",
         "x": [
          0,
          0.338763564825058,
          0.338763564825058,
          0
         ],
         "xaxis": "x2",
         "y": [
          23.414213562373096,
          23.414213562373096,
          24.414213562373096,
          24.414213562373096
         ],
         "yaxis": "y"
        },
        {
         "customdata": [
          [
           47,
           4
          ],
          [
           52,
           4
          ],
          [
           50,
           13
          ],
          [
           32,
           2
          ],
          [
           33,
           2
          ],
          [
           40,
           4
          ],
          [
           39,
           4
          ],
          [
           46,
           3
          ],
          [
           43,
           6
          ],
          [
           35,
           2
          ],
          [
           42,
           2
          ],
          [
           29,
           3
          ],
          [
           34,
           2
          ],
          [
           51,
           23
          ],
          [
           44,
           3
          ],
          [
           49,
           7
          ],
          [
           37,
           5
          ],
          [
           53,
           27
          ],
          [
           38,
           2
          ],
          [
           45,
           6
          ],
          [
           31,
           2
          ],
          [
           48,
           10
          ],
          [
           36,
           4
          ],
          [
           41,
           2
          ],
          [
           30,
           2
          ]
         ],
         "hovertemplate": "ID: %{customdata[0]}<br>\nHeight: %{x:.3f}<br>\nGenome count: %{customdata[1]}\n\n<extra></extra>",
         "marker": {
          "color": "#666666",
          "size": [
           4,
           8,
           4,
           8,
           8,
           8,
           8,
           8,
           8,
           8,
           4,
           8,
           8,
           8,
           4,
           4,
           8,
           8,
           8,
           4,
           8,
           4,
           4,
           8,
           8
          ]
         },
         "mode": "markers",
         "showlegend": false,
         "type": "scatter",
         "x": [
          0.6985664367675781,
          0.8443556427955627,
          0.7836198806762695,
          0.3337573707103729,
          0.338763564825058,
          0.6104291081428528,
          0.569891631603241,
          0.6938127875328064,
          0.6843859553337097,
          0.4096931219100952,
          0.6519185900688171,
          0.20932252705097198,
          0.38539019227027893,
          0.8048612475395203,
          0.6862950921058655,
          0.7626786231994629,
          0.4393477737903595,
          0.8839429020881653,
          0.5188153982162476,
          0.6865501403808594,
          0.31387126445770264,
          0.7234276533126831,
          0.4137216806411743,
          0.632565975189209,
          0.2816580533981323
         ],
         "xaxis": "x2",
         "y": [
          9.125,
          24.914213562373096,
          17.120019388548936,
          20.914213562373096,
          23.914213562373096,
          2.5,
          17.914213562373096,
          21.664213562373096,
          14.450825214724777,
          18.914213562373096,
          5.5,
          11.707106781186548,
          16.914213562373096,
          11.841259694274468,
          8.25,
          19.789213562373096,
          13.48743686707646,
          18.37773662832378,
          25.914213562373096,
          4,
          3.5,
          6.5625,
          12.560660171779823,
          7.5,
          1.5
         ],
         "yaxis": "y"
        },
        {
         "hovertemplate": "%{text} <br>\n%{x}\n<extra></extra>\n",
         "marker": {
          "color": "green",
          "line": {
           "color": "green",
           "width": 1
          },
          "symbol": "line-ns"
         },
         "mode": "markers",
         "text": [
          "etli"
         ],
         "type": "scatter",
         "x": [
          0.8695652
         ],
         "xaxis": "x2",
         "y": [
          -1,
          -1
         ]
        }
       ],
       "frames": [],
       "layout": {
        "height": 550,
        "hovermode": "closest",
        "margin": {
         "b": 50,
         "l": 50,
         "r": 50,
         "t": 60
        },
        "showlegend": false,
        "width": 1000,
        "xaxis": {
         "autorange": true,
         "domain": [
          0.504950495049505,
          1
         ],
         "range": [
          -1.049296154847788,
          28.463509717220884
         ],
         "scaleanchor": "y",
         "type": "linear",
         "visible": false
        },
        "xaxis2": {
         "autorange": true,
         "domain": [
          0,
          0.49504950495049505
         ],
         "range": [
          0.9422096788268728,
          0
         ],
         "rangemode": "nonnegative",
         "showspikes": true,
         "spikedash": "solid",
         "spikemode": "across",
         "spikethickness": 1,
         "type": "linear"
        },
        "yaxis": {
         "autorange": true,
         "domain": [
          0,
          1
         ],
         "range": [
          -2.7996583791742697,
          27.95178576982296
         ],
         "scaleanchor": "x",
         "type": "linear",
         "visible": false
        }
       }
      },
      "application/vnd.webio.node+json": {
       "children": [
        {
         "children": [],
         "instanceArgs": {
          "namespace": "html",
          "tag": "div"
         },
         "nodeType": "DOM",
         "props": {
          "id": "plot-d8104229-2db3-4c2b-bb85-a3610f732f52"
         },
         "type": "node"
        }
       ],
       "instanceArgs": {
        "handlers": {
         "__get_gd_contents": [
          "(function (prop){prop==\"data\" ? (WebIO.setval({\"name\":\"__gd_contents\",\"scope\":\"4478251544696184620\",\"id\":\"12857834621767924597\",\"type\":\"observable\"},this.plotElem.data)) : undefined; return prop==\"layout\" ? (WebIO.setval({\"name\":\"__gd_contents\",\"scope\":\"4478251544696184620\",\"id\":\"12857834621767924597\",\"type\":\"observable\"},this.plotElem.layout)) : undefined})"
         ],
         "_commands": [
          "(function (args){var fn=args.shift(); var elem=this.plotElem; var Plotly=this.Plotly; args.unshift(elem); return Plotly[fn].apply(this,args)})"
         ],
         "_downloadImage": [
          "(function (options){return this.Plotly.downloadImage(this.plotElem,options)})"
         ],
         "_toImage": [
          "(function (options){return this.Plotly.toImage(this.plotElem,options).then((function (data){return WebIO.setval({\"name\":\"image\",\"scope\":\"4478251544696184620\",\"id\":\"10849853789087120450\",\"type\":\"observable\"},data)}))})"
         ]
        },
        "id": "4478251544696184620",
        "imports": {
         "data": [
          {
           "name": "Plotly",
           "type": "js",
           "url": "/assetserver/e6903599031aaef8675931dfcd7df98a1aeffbfc-plotly-latest.min.js"
          },
          {
           "name": null,
           "type": "js",
           "url": "/assetserver/74a5dea81f21b0b802ef1ee92f1c8a504eac1a0c-plotly_webio.bundle.js"
          }
         ],
         "type": "async_block"
        },
        "mount_callbacks": [
         "function () {\n    var handler = ((function (Plotly,PlotlyWebIO){PlotlyWebIO.init(WebIO); var gd=this.dom.querySelector(\"#plot-d8104229-2db3-4c2b-bb85-a3610f732f52\"); this.plotElem=gd; this.Plotly=Plotly; (window.Blink!==undefined) ? (gd.style.width=\"100%\", gd.style.height=\"100vh\", gd.style.marginLeft=\"0%\", gd.style.marginTop=\"0vh\") : undefined; window.onresize=(function (){return Plotly.Plots.resize(gd)}); Plotly.newPlot(gd,[{\"y\":[0.5,2.5,4.5,5.5,6.5,7.5,8.5,9.5,10.5,12.914213562373096,13.914213562373096,14.914213562373096,15.914213562373096,17.914213562373096,18.914213562373096,19.914213562373096,21.914213562373096,22.914213562373096,24.914213562373096,25.914213562373096,26.914213562373096],\"type\":\"heatmap\",\"colorscale\":[[0.0,\"#000004\"],[0.00392156862745098,\"#010005\"],[0.00784313725490196,\"#010106\"],[0.011764705882352941,\"#010108\"],[0.01568627450980392,\"#020109\"],[0.0196078431372549,\"#02020B\"],[0.023529411764705882,\"#02020D\"],[0.027450980392156862,\"#03030F\"],[0.03137254901960784,\"#030312\"],[0.03529411764705882,\"#040414\"],[0.0392156862745098,\"#050416\"],[0.043137254901960784,\"#060518\"],[0.047058823529411764,\"#06051A\"],[0.050980392156862744,\"#07061C\"],[0.054901960784313725,\"#08071E\"],[0.058823529411764705,\"#090720\"],[0.06274509803921569,\"#0A0822\"],[0.06666666666666667,\"#0B0924\"],[0.07058823529411765,\"#0C0926\"],[0.07450980392156863,\"#0D0A29\"],[0.0784313725490196,\"#0E0B2B\"],[0.08235294117647059,\"#100B2D\"],[0.08627450980392157,\"#110C2F\"],[0.09019607843137255,\"#120D31\"],[0.09411764705882353,\"#130D34\"],[0.09803921568627451,\"#140E36\"],[0.10196078431372549,\"#150E38\"],[0.10588235294117647,\"#160F3B\"],[0.10980392156862745,\"#180F3D\"],[0.11372549019607843,\"#19103F\"],[0.11764705882352941,\"#1A1042\"],[0.12156862745098039,\"#1C1044\"],[0.12549019607843137,\"#1D1147\"],[0.12941176470588237,\"#1E1149\"],[0.13333333333333333,\"#20114B\"],[0.13725490196078433,\"#21114E\"],[0.1411764705882353,\"#221150\"],[0.1450980392156863,\"#241253\"],[0.14901960784313725,\"#251255\"],[0.15294117647058825,\"#271258\"],[0.1568627450980392,\"#29115A\"],[0.1607843137254902,\"#2A115C\"],[0.16470588235294117,\"#2C115F\"],[0.16862745098039217,\"#2D1161\"],[0.17254901960784313,\"#2F1163\"],[0.17647058823529413,\"#311165\"],[0.1803921568627451,\"#331067\"],[0.1843137254901961,\"#341069\"],[0.18823529411764706,\"#36106B\"],[0.19215686274509805,\"#38106C\"],[0.19607843137254902,\"#390F6E\"],[0.2,\"#3B0F70\"],[0.20392156862745098,\"#3D0F71\"],[0.20784313725490197,\"#3F0F72\"],[0.21176470588235294,\"#400F74\"],[0.21568627450980393,\"#420F75\"],[0.2196078431372549,\"#440F76\"],[0.2235294117647059,\"#451077\"],[0.22745098039215686,\"#471078\"],[0.23137254901960785,\"#491078\"],[0.23529411764705882,\"#4A1079\"],[0.23921568627450981,\"#4C117A\"],[0.24313725490196078,\"#4E117B\"],[0.24705882352941178,\"#4F127B\"],[0.25098039215686274,\"#51127C\"],[0.2549019607843137,\"#52137C\"],[0.25882352941176473,\"#54137D\"],[0.2627450980392157,\"#56147D\"],[0.26666666666666666,\"#57157E\"],[0.27058823529411763,\"#59157E\"],[0.27450980392156865,\"#5A167E\"],[0.2784313725490196,\"#5C167F\"],[0.2823529411764706,\"#5D177F\"],[0.28627450980392155,\"#5F187F\"],[0.2901960784313726,\"#601880\"],[0.29411764705882354,\"#621980\"],[0.2980392156862745,\"#641A80\"],[0.30196078431372547,\"#651A80\"],[0.3058823529411765,\"#671B80\"],[0.30980392156862746,\"#681C81\"],[0.3137254901960784,\"#6A1C81\"],[0.3176470588235294,\"#6B1D81\"],[0.3215686274509804,\"#6D1D81\"],[0.3254901960784314,\"#6E1E81\"],[0.32941176470588235,\"#701F81\"],[0.3333333333333333,\"#721F81\"],[0.33725490196078434,\"#732081\"],[0.3411764705882353,\"#752181\"],[0.34509803921568627,\"#762181\"],[0.34901960784313724,\"#782281\"],[0.35294117647058826,\"#792282\"],[0.3568627450980392,\"#7B2382\"],[0.3607843137254902,\"#7C2382\"],[0.36470588235294116,\"#7E2482\"],[0.3686274509803922,\"#802582\"],[0.37254901960784315,\"#812581\"],[0.3764705882352941,\"#832681\"],[0.3803921568627451,\"#842681\"],[0.3843137254901961,\"#862781\"],[0.38823529411764707,\"#882781\"],[0.39215686274509803,\"#892881\"],[0.396078431372549,\"#8B2981\"],[0.4,\"#8C2981\"],[0.403921568627451,\"#8E2A81\"],[0.40784313725490196,\"#902A81\"],[0.4117647058823529,\"#912B81\"],[0.41568627450980394,\"#932B80\"],[0.4196078431372549,\"#942C80\"],[0.4235294117647059,\"#962C80\"],[0.42745098039215684,\"#982D80\"],[0.43137254901960786,\"#992D80\"],[0.43529411764705883,\"#9B2E7F\"],[0.4392156862745098,\"#9C2E7F\"],[0.44313725490196076,\"#9E2F7F\"],[0.4470588235294118,\"#A02F7F\"],[0.45098039215686275,\"#A1307E\"],[0.4549019607843137,\"#A3307E\"],[0.4588235294117647,\"#A5317E\"],[0.4627450980392157,\"#A6317D\"],[0.4666666666666667,\"#A8327D\"],[0.47058823529411764,\"#AA337D\"],[0.4745098039215686,\"#AB337C\"],[0.47843137254901963,\"#AD347C\"],[0.4823529411764706,\"#AE347B\"],[0.48627450980392156,\"#B0357B\"],[0.49019607843137253,\"#B2357B\"],[0.49411764705882355,\"#B3367A\"],[0.4980392156862745,\"#B5367A\"],[0.5019607843137255,\"#B73779\"],[0.5058823529411764,\"#B83779\"],[0.5098039215686274,\"#BA3878\"],[0.5137254901960784,\"#BC3978\"],[0.5176470588235295,\"#BD3977\"],[0.5215686274509804,\"#BF3A77\"],[0.5254901960784314,\"#C03A76\"],[0.5294117647058824,\"#C23B75\"],[0.5333333333333333,\"#C43C75\"],[0.5372549019607843,\"#C53C74\"],[0.5411764705882353,\"#C73D73\"],[0.5450980392156862,\"#C83E73\"],[0.5490196078431373,\"#CA3E72\"],[0.5529411764705883,\"#CC3F71\"],[0.5568627450980392,\"#CD4071\"],[0.5607843137254902,\"#CF4070\"],[0.5647058823529412,\"#D0416F\"],[0.5686274509803921,\"#D2426F\"],[0.5725490196078431,\"#D3436E\"],[0.5764705882352941,\"#D5446D\"],[0.5803921568627451,\"#D6456C\"],[0.5843137254901961,\"#D8456C\"],[0.5882352941176471,\"#D9466B\"],[0.592156862745098,\"#DB476A\"],[0.596078431372549,\"#DC4869\"],[0.6,\"#DE4968\"],[0.6039215686274509,\"#DF4A68\"],[0.6078431372549019,\"#E04C67\"],[0.611764705882353,\"#E24D66\"],[0.615686274509804,\"#E34E65\"],[0.6196078431372549,\"#E44F64\"],[0.6235294117647059,\"#E55064\"],[0.6274509803921569,\"#E75263\"],[0.6313725490196078,\"#E85362\"],[0.6352941176470588,\"#E95462\"],[0.6392156862745098,\"#EA5661\"],[0.6431372549019608,\"#EB5760\"],[0.6470588235294118,\"#EC5860\"],[0.6509803921568628,\"#ED5A5F\"],[0.6549019607843137,\"#EE5B5E\"],[0.6588235294117647,\"#EF5D5E\"],[0.6627450980392157,\"#F05F5E\"],[0.6666666666666666,\"#F1605D\"],[0.6705882352941176,\"#F2625D\"],[0.6745098039215687,\"#F2645C\"],[0.6784313725490196,\"#F3655C\"],[0.6823529411764706,\"#F4675C\"],[0.6862745098039216,\"#F4695C\"],[0.6901960784313725,\"#F56B5C\"],[0.6941176470588235,\"#F66C5C\"],[0.6980392156862745,\"#F66E5C\"],[0.7019607843137254,\"#F7705C\"],[0.7058823529411765,\"#F7725C\"],[0.7098039215686275,\"#F8745C\"],[0.7137254901960784,\"#F8765C\"],[0.7176470588235294,\"#F9785D\"],[0.7215686274509804,\"#F9795D\"],[0.7254901960784313,\"#F97B5D\"],[0.7294117647058823,\"#FA7D5E\"],[0.7333333333333333,\"#FA7F5E\"],[0.7372549019607844,\"#FA815F\"],[0.7411764705882353,\"#FB835F\"],[0.7450980392156863,\"#FB8560\"],[0.7490196078431373,\"#FB8761\"],[0.7529411764705882,\"#FC8961\"],[0.7568627450980392,\"#FC8A62\"],[0.7607843137254902,\"#FC8C63\"],[0.7647058823529411,\"#FC8E64\"],[0.7686274509803922,\"#FC9065\"],[0.7725490196078432,\"#FD9266\"],[0.7764705882352941,\"#FD9467\"],[0.7803921568627451,\"#FD9668\"],[0.7843137254901961,\"#FD9869\"],[0.788235294117647,\"#FD9A6A\"],[0.792156862745098,\"#FD9B6B\"],[0.796078431372549,\"#FE9D6C\"],[0.8,\"#FE9F6D\"],[0.803921568627451,\"#FEA16E\"],[0.807843137254902,\"#FEA36F\"],[0.8117647058823529,\"#FEA571\"],[0.8156862745098039,\"#FEA772\"],[0.8196078431372549,\"#FEA973\"],[0.8235294117647058,\"#FEAA74\"],[0.8274509803921568,\"#FEAC76\"],[0.8313725490196079,\"#FEAE77\"],[0.8352941176470589,\"#FEB078\"],[0.8392156862745098,\"#FEB27A\"],[0.8431372549019608,\"#FEB47B\"],[0.8470588235294118,\"#FEB67C\"],[0.8509803921568627,\"#FEB77E\"],[0.8549019607843137,\"#FEB97F\"],[0.8588235294117647,\"#FEBB81\"],[0.8627450980392157,\"#FEBD82\"],[0.8666666666666667,\"#FEBF84\"],[0.8705882352941177,\"#FEC185\"],[0.8745098039215686,\"#FEC287\"],[0.8784313725490196,\"#FEC488\"],[0.8823529411764706,\"#FEC68A\"],[0.8862745098039215,\"#FEC88C\"],[0.8901960784313725,\"#FECA8D\"],[0.8941176470588236,\"#FECC8F\"],[0.8980392156862745,\"#FECD90\"],[0.9019607843137255,\"#FECF92\"],[0.9058823529411765,\"#FED194\"],[0.9098039215686274,\"#FED395\"],[0.9137254901960784,\"#FED597\"],[0.9176470588235294,\"#FED799\"],[0.9215686274509803,\"#FED89A\"],[0.9254901960784314,\"#FDDA9C\"],[0.9294117647058824,\"#FDDC9E\"],[0.9333333333333333,\"#FDDEA0\"],[0.9372549019607843,\"#FDE0A1\"],[0.9411764705882353,\"#FDE2A3\"],[0.9450980392156862,\"#FDE3A5\"],[0.9490196078431372,\"#FDE5A7\"],[0.9529411764705882,\"#FDE7A9\"],[0.9568627450980393,\"#FDE9AA\"],[0.9607843137254902,\"#FDEBAC\"],[0.9647058823529412,\"#FCECAE\"],[0.9686274509803922,\"#FCEEB0\"],[0.9725490196078431,\"#FCF0B2\"],[0.9764705882352941,\"#FCF2B4\"],[0.9803921568627451,\"#FCF4B6\"],[0.984313725490196,\"#FCF6B8\"],[0.9882352941176471,\"#FCF7B9\"],[0.9921568627450981,\"#FCF9BB\"],[0.996078431372549,\"#FCFBBD\"],[1.0,\"#FCFDBF\"]],\"z\":[[0.28165805,0.6004523,0.6497644,0.6849216,0.71811765,0.71201104,0.7106294,0.7075598,0.7836982,0.7878597,0.78457075,0.781249,0.74572635,0.74970245,0.75135845,0.72275245,0.7415643,0.88109124,0.880455,0.8819484],[0.6004523,0.31387126,0.6432017,0.6835637,0.7197131,0.71697235,0.7192377,0.71301734,0.7786665,0.7832582,0.77775896,0.7750714,0.7441317,0.7394433,0.73681194,0.7232376,0.7340076,0.88038385,0.8787212,0.8806834],[0.6497644,0.6432017,0.0,0.6519186,0.7055081,0.7035492,0.70020735,0.7113814,0.7480857,0.77834636,0.7741669,0.7685575,0.7498614,0.7560024,0.7544858,0.71107024,0.7258768,0.87903094,0.8791439,0.88088715],[0.6849216,0.6835637,0.6519186,0.0,0.6999531,0.6749029,0.7150754,0.7077992,0.7768752,0.7760427,0.77933,0.7740152,0.7566121,0.75159943,0.76290363,0.719752,0.7386179,0.8817862,0.8800957,0.8806657],[0.71811765,0.7197131,0.7055081,0.6999531,0.0,0.632566,0.68197864,0.6945004,0.7962246,0.794834,0.7948709,0.79023725,0.7778121,0.78245944,0.7851055,0.75589603,0.7679279,0.88208365,0.87998277,0.8819444],[0.71201104,0.71697235,0.7035492,0.6749029,0.632566,0.0,0.6862951,0.6682604,0.7876347,0.7850122,0.7909311,0.7865048,0.76865566,0.764837,0.7744221,0.755457,0.7655332,0.8799758,0.8792896,0.8823339],[0.7106294,0.7192377,0.70020735,0.7150754,0.68197864,0.6862951,0.0,0.69856644,0.79983765,0.8011682,0.7942293,0.79439443,0.7803618,0.7848426,0.7866676,0.75173825,0.765154,0.87984616,0.8776753,0.88040787],[0.7075598,0.71301734,0.7113814,0.7077992,0.6945004,0.6682604,0.69856644,0.0,0.79677784,0.799639,0.79533875,0.7935361,0.76950294,0.77615285,0.77584875,0.75991106,0.76540005,0.88161117,0.8787586,0.88235676],[0.7836982,0.7786665,0.7480857,0.7768752,0.7962246,0.7876347,0.79983765,0.79677784,0.20932253,0.3857725,0.40923494,0.6742195,0.75546783,0.7565256,0.76026607,0.7779818,0.7528604,0.8784947,0.87535787,0.87824935],[0.7878597,0.7832582,0.77834636,0.7760427,0.794834,0.7850122,0.8011682,0.799639,0.3857725,0.0,0.4170585,0.68251216,0.75434226,0.75489175,0.76161003,0.7817385,0.75891864,0.8822382,0.8773924,0.88008195],[0.78457075,0.77775896,0.7741669,0.77933,0.7948709,0.7909311,0.7942293,0.79533875,0.40923494,0.4170585,0.0,0.6757475,0.749798,0.7596078,0.7574984,0.7749079,0.75009865,0.8784314,0.8726993,0.87603897],[0.781249,0.7750714,0.7685575,0.7740152,0.79023725,0.7865048,0.79439443,0.7935361,0.6742195,0.68251216,0.6757475,0.0,0.7538982,0.7587865,0.7585504,0.7678517,0.73222125,0.8815285,0.8789315,0.88078374],[0.74572635,0.7441317,0.7498614,0.7566121,0.7778121,0.76865566,0.7803618,0.76950294,0.75546783,0.75434226,0.749798,0.7538982,0.3853902,0.567387,0.56019783,0.7523314,0.7414527,0.87613404,0.877296,0.879056],[0.74970245,0.7394433,0.7560024,0.75159943,0.78245944,0.764837,0.7848426,0.77615285,0.7565256,0.75489175,0.7596078,0.7587865,0.567387,0.0,0.40969312,0.75953,0.74450386,0.8791419,0.8803974,0.88158804],[0.75135845,0.73681194,0.7544858,0.76290363,0.7851055,0.7744221,0.7866676,0.77584875,0.76026607,0.76161003,0.7574984,0.7585504,0.56019783,0.40969312,0.0,0.7612526,0.7384765,0.8815148,0.8813829,0.8830226],[0.72275245,0.7232376,0.71107024,0.719752,0.75589603,0.755457,0.75173825,0.75991106,0.7779818,0.7817385,0.7749079,0.7678517,0.7523314,0.75953,0.7612526,0.33375737,0.6904209,0.8797559,0.8782692,0.8808489],[0.7415643,0.7340076,0.7258768,0.7386179,0.7679279,0.7655332,0.765154,0.76540005,0.7528604,0.75891864,0.75009865,0.73222125,0.7414527,0.74450386,0.7384765,0.6904209,0.0,0.8790682,0.8767693,0.8781061],[0.88109124,0.88038385,0.87903094,0.8817862,0.88208365,0.8799758,0.87984616,0.88161117,0.8784947,0.8822382,0.8784314,0.8815285,0.87613404,0.8791419,0.8815148,0.8797559,0.8790682,0.33876356,0.8377263,0.8423159],[0.880455,0.8787212,0.8791439,0.8800957,0.87998277,0.8792896,0.8776753,0.8787586,0.87535787,0.8773924,0.8726993,0.8789315,0.877296,0.8803974,0.8813829,0.8782692,0.8767693,0.8377263,0.0,0.5188154],[0.8819484,0.8806834,0.88088715,0.8806657,0.8819444,0.8823339,0.88040787,0.88235676,0.87824935,0.88008195,0.87603897,0.88078374,0.879056,0.88158804,0.8830226,0.8808489,0.8781061,0.8423159,0.5188154,0.0]],\"x\":[0.5,2.5,4.5,5.5,6.5,7.5,8.5,9.5,10.5,12.914213562373096,13.914213562373096,14.914213562373096,15.914213562373096,17.914213562373096,18.914213562373096,19.914213562373096,21.914213562373096,22.914213562373096,24.914213562373096,25.914213562373096,26.914213562373096]},{\"showlegend\":false,\"mode\":\"lines\",\"xaxis\":\"x2\",\"line\":{\"color\":\"#666666\"},\"y\":[1.0,1.0,2.0,2.0],\"type\":\"scatter\",\"fill\":\"toself\",\"hoverinfo\":\"skip\",\"yaxis\":\"y\",\"x\":[0.0,0.2816580533981323,0.2816580533981323,0.0]},{\"showlegend\":false,\"mode\":\"lines\",\"xaxis\":\"x2\",\"line\":{\"color\":\"#666666\"},\"y\":[8.25,10.0,null,8.25,8.25,null,10.0,10.0,null],\"type\":\"scatter\",\"hoverinfo\":\"skip\",\"yaxis\":\"y\",\"x\":[0.6985664367675781,0.6985664367675781,null,0.6985664367675781,0.6862950921058655,null,0.6985664367675781,0.0,null]},{\"showlegend\":false,\"mode\":\"lines\",\"xaxis\":\"x2\",\"line\":{\"color\":\"#666666\"},\"y\":[14.450825214724777,19.789213562373096,null,14.450825214724777,14.450825214724777,null,19.789213562373096,19.789213562373096,null],\"type\":\"scatter\",\"hoverinfo\":\"skip\",\"yaxis\":\"y\",\"x\":[0.7836198806762695,0.7836198806762695,null,0.7836198806762695,0.6843859553337097,null,0.7836198806762695,0.7626786231994629,null]},{\"showlegend\":false,\"mode\":\"lines\",\"xaxis\":\"x2\",\"line\":{\"color\":\"#666666\"},\"y\":[20.414213562373096,20.414213562373096,21.414213562373096,21.414213562373096],\"type\":\"scatter\",\"fill\":\"toself\",\"hoverinfo\":\"skip\",\"yaxis\":\"y\",\"x\":[0.0,0.3337573707103729,0.3337573707103729,0.0]},{\"showlegend\":false,\"mode\":\"lines\",\"xaxis\":\"x2\",\"line\":{\"color\":\"#666666\"},\"y\":[1.5,3.5,null,1.5,1.5,null,3.5,3.5,null],\"type\":\"scatter\",\"hoverinfo\":\"skip\",\"yaxis\":\"y\",\"x\":[0.6104291081428528,0.6104291081428528,null,0.6104291081428528,0.2816580533981323,null,0.6104291081428528,0.31387126445770264,null]},{\"showlegend\":false,\"mode\":\"lines\",\"xaxis\":\"x2\",\"line\":{\"color\":\"#666666\"},\"y\":[16.914213562373096,18.914213562373096,null,16.914213562373096,16.914213562373096,null,18.914213562373096,18.914213562373096,null],\"type\":\"scatter\",\"hoverinfo\":\"skip\",\"yaxis\":\"y\",\"x\":[0.569891631603241,0.569891631603241,null,0.569891631603241,0.38539019227027893,null,0.569891631603241,0.4096931219100952,null]},{\"showlegend\":false,\"mode\":\"lines\",\"xaxis\":\"x2\",\"line\":{\"color\":\"#666666\"},\"y\":[20.914213562373096,22.414213562373096,null,20.914213562373096,20.914213562373096,null,22.414213562373096,22.414213562373096,null],\"type\":\"scatter\",\"hoverinfo\":\"skip\",\"yaxis\":\"y\",\"x\":[0.6938127875328064,0.6938127875328064,null,0.6938127875328064,0.3337573707103729,null,0.6938127875328064,0.0,null]},{\"showlegend\":false,\"mode\":\"lines\",\"xaxis\":\"x2\",\"line\":{\"color\":\"#666666\"},\"y\":[13.48743686707646,15.414213562373096,null,13.48743686707646,13.48743686707646,null,15.414213562373096,15.414213562373096,null],\"type\":\"scatter\",\"hoverinfo\":\"skip\",\"yaxis\":\"y\",\"x\":[0.6843859553337097,0.6843859553337097,null,0.6843859553337097,0.4393477737903595,null,0.6843859553337097,0.0,null]},{\"showlegend\":false,\"mode\":\"lines\",\"xaxis\":\"x2\",\"line\":{\"color\":\"#666666\"},\"y\":[18.414213562373096,19.414213562373096,null,18.414213562373096,18.414213562373096,null,19.414213562373096,19.414213562373096,null],\"type\":\"scatter\",\"hoverinfo\":\"skip\",\"yaxis\":\"y\",\"x\":[0.4096931219100952,0.4096931219100952,null,0.4096931219100952,0.0,null,0.4096931219100952,0.0,null]},{\"showlegend\":false,\"mode\":\"lines\",\"xaxis\":\"x2\",\"line\":{\"color\":\"#666666\"},\"y\":[5.0,6.0,null,5.0,5.0,null,6.0,6.0,null],\"type\":\"scatter\",\"hoverinfo\":\"skip\",\"yaxis\":\"y\",\"x\":[0.6519185900688171,0.6519185900688171,null,0.6519185900688171,0.0,null,0.6519185900688171,0.0,null]},{\"showlegend\":false,\"mode\":\"lines\",\"xaxis\":\"x2\",\"line\":{\"color\":\"#666666\"},\"y\":[11.0,11.0,12.414213562373096,12.414213562373096],\"type\":\"scatter\",\"fill\":\"toself\",\"hoverinfo\":\"skip\",\"yaxis\":\"y\",\"x\":[0.0,0.20932252705097198,0.20932252705097198,0.0]},{\"showlegend\":false,\"mode\":\"lines\",\"xaxis\":\"x2\",\"line\":{\"color\":\"#666666\"},\"y\":[16.414213562373096,16.414213562373096,17.414213562373096,17.414213562373096],\"type\":\"scatter\",\"fill\":\"toself\",\"hoverinfo\":\"skip\",\"yaxis\":\"y\",\"x\":[0.0,0.38539019227027893,0.38539019227027893,0.0]},{\"showlegend\":false,\"mode\":\"lines\",\"xaxis\":\"x2\",\"line\":{\"color\":\"#666666\"},\"y\":[6.5625,17.120019388548936,null,6.5625,6.5625,null,17.120019388548936,17.120019388548936,null],\"type\":\"scatter\",\"hoverinfo\":\"skip\",\"yaxis\":\"y\",\"x\":[0.8048612475395203,0.8048612475395203,null,0.8048612475395203,0.7234276533126831,null,0.8048612475395203,0.7836198806762695,null]},{\"showlegend\":false,\"mode\":\"lines\",\"xaxis\":\"x2\",\"line\":{\"color\":\"#666666\"},\"y\":[17.914213562373096,21.664213562373096,null,17.914213562373096,17.914213562373096,null,21.664213562373096,21.664213562373096,null],\"type\":\"scatter\",\"hoverinfo\":\"skip\",\"yaxis\":\"y\",\"x\":[0.7626786231994629,0.7626786231994629,null,0.7626786231994629,0.569891631603241,null,0.7626786231994629,0.6938127875328064,null]},{\"showlegend\":false,\"mode\":\"lines\",\"xaxis\":\"x2\",\"line\":{\"color\":\"#666666\"},\"y\":[7.5,9.0,null,7.5,7.5,null,9.0,9.0,null],\"type\":\"scatter\",\"hoverinfo\":\"skip\",\"yaxis\":\"y\",\"x\":[0.6862950921058655,0.6862950921058655,null,0.6862950921058655,0.632565975189209,null,0.6862950921058655,0.0,null]},{\"showlegend\":false,\"mode\":\"lines\",\"xaxis\":\"x2\",\"line\":{\"color\":\"#666666\"},\"y\":[12.560660171779823,14.414213562373096,null,12.560660171779823,12.560660171779823,null,14.414213562373096,14.414213562373096,null],\"type\":\"scatter\",\"hoverinfo\":\"skip\",\"yaxis\":\"y\",\"x\":[0.4393477737903595,0.4393477737903595,null,0.4393477737903595,0.4137216806411743,null,0.4393477737903595,0.0,null]},{\"showlegend\":false,\"mode\":\"lines\",\"xaxis\":\"x2\",\"line\":{\"color\":\"#666666\"},\"y\":[11.841259694274468,24.914213562373096,null,11.841259694274468,11.841259694274468,null,24.914213562373096,24.914213562373096,null],\"type\":\"scatter\",\"hoverinfo\":\"skip\",\"yaxis\":\"y\",\"x\":[0.8839429020881653,0.8839429020881653,null,0.8839429020881653,0.8048612475395203,null,0.8839429020881653,0.8443556427955627,null]},{\"showlegend\":false,\"mode\":\"lines\",\"xaxis\":\"x2\",\"line\":{\"color\":\"#666666\"},\"y\":[25.414213562373096,26.414213562373096,null,25.414213562373096,25.414213562373096,null,26.414213562373096,26.414213562373096,null],\"type\":\"scatter\",\"hoverinfo\":\"skip\",\"yaxis\":\"y\",\"x\":[0.5188153982162476,0.5188153982162476,null,0.5188153982162476,0.0,null,0.5188153982162476,0.0,null]},{\"showlegend\":false,\"mode\":\"lines\",\"xaxis\":\"x2\",\"line\":{\"color\":\"#666666\"},\"y\":[2.5,5.5,null,2.5,2.5,null,5.5,5.5,null],\"type\":\"scatter\",\"hoverinfo\":\"skip\",\"yaxis\":\"y\",\"x\":[0.6865501403808594,0.6865501403808594,null,0.6865501403808594,0.6104291081428528,null,0.6865501403808594,0.6519185900688171,null]},{\"showlegend\":false,\"mode\":\"lines\",\"xaxis\":\"x2\",\"line\":{\"color\":\"#666666\"},\"y\":[3.0,3.0,4.0,4.0],\"type\":\"scatter\",\"fill\":\"toself\",\"hoverinfo\":\"skip\",\"yaxis\":\"y\",\"x\":[0.0,0.31387126445770264,0.31387126445770264,0.0]},{\"showlegend\":false,\"mode\":\"lines\",\"xaxis\":\"x2\",\"line\":{\"color\":\"#666666\"},\"y\":[4.0,9.125,null,4.0,4.0,null,9.125,9.125,null],\"type\":\"scatter\",\"hoverinfo\":\"skip\",\"yaxis\":\"y\",\"x\":[0.7234276533126831,0.7234276533126831,null,0.7234276533126831,0.6865501403808594,null,0.7234276533126831,0.6985664367675781,null]},{\"showlegend\":false,\"mode\":\"lines\",\"xaxis\":\"x2\",\"line\":{\"color\":\"#666666\"},\"y\":[11.707106781186548,13.414213562373096,null,11.707106781186548,11.707106781186548,null,13.414213562373096,13.414213562373096,null],\"type\":\"scatter\",\"hoverinfo\":\"skip\",\"yaxis\":\"y\",\"x\":[0.4137216806411743,0.4137216806411743,null,0.4137216806411743,0.20932252705097198,null,0.4137216806411743,0.0,null]},{\"showlegend\":false,\"mode\":\"lines\",\"xaxis\":\"x2\",\"line\":{\"color\":\"#666666\"},\"y\":[7.0,8.0,null,7.0,7.0,null,8.0,8.0,null],\"type\":\"scatter\",\"hoverinfo\":\"skip\",\"yaxis\":\"y\",\"x\":[0.632565975189209,0.632565975189209,null,0.632565975189209,0.0,null,0.632565975189209,0.0,null]},{\"showlegend\":false,\"mode\":\"lines\",\"xaxis\":\"x2\",\"line\":{\"color\":\"#666666\"},\"y\":[23.914213562373096,25.914213562373096,null,23.914213562373096,23.914213562373096,null,25.914213562373096,25.914213562373096,null],\"type\":\"scatter\",\"hoverinfo\":\"skip\",\"yaxis\":\"y\",\"x\":[0.8443556427955627,0.8443556427955627,null,0.8443556427955627,0.338763564825058,null,0.8443556427955627,0.5188153982162476,null]},{\"showlegend\":false,\"mode\":\"lines\",\"xaxis\":\"x2\",\"line\":{\"color\":\"#666666\"},\"y\":[23.414213562373096,23.414213562373096,24.414213562373096,24.414213562373096],\"type\":\"scatter\",\"fill\":\"toself\",\"hoverinfo\":\"skip\",\"yaxis\":\"y\",\"x\":[0.0,0.338763564825058,0.338763564825058,0.0]},{\"showlegend\":false,\"mode\":\"markers\",\"xaxis\":\"x2\",\"marker\":{\"color\":\"#666666\",\"size\":[4,8,4,8,8,8,8,8,8,8,4,8,8,8,4,4,8,8,8,4,8,4,4,8,8]},\"y\":[9.125,24.914213562373096,17.120019388548936,20.914213562373096,23.914213562373096,2.5,17.914213562373096,21.664213562373096,14.450825214724777,18.914213562373096,5.5,11.707106781186548,16.914213562373096,11.841259694274468,8.25,19.789213562373096,13.48743686707646,18.37773662832378,25.914213562373096,4.0,3.5,6.5625,12.560660171779823,7.5,1.5],\"type\":\"scatter\",\"customdata\":[[47,4],[52,4],[50,13],[32,2],[33,2],[40,4],[39,4],[46,3],[43,6],[35,2],[42,2],[29,3],[34,2],[51,23],[44,3],[49,7],[37,5],[53,27],[38,2],[45,6],[31,2],[48,10],[36,4],[41,2],[30,2]],\"yaxis\":\"y\",\"hovertemplate\":\"ID: %{customdata[0]}<br>\\nHeight: %{x:.3f}<br>\\nGenome count: %{customdata[1]}\\n\\n<extra></extra>\",\"x\":[0.6985664367675781,0.8443556427955627,0.7836198806762695,0.3337573707103729,0.338763564825058,0.6104291081428528,0.569891631603241,0.6938127875328064,0.6843859553337097,0.4096931219100952,0.6519185900688171,0.20932252705097198,0.38539019227027893,0.8048612475395203,0.6862950921058655,0.7626786231994629,0.4393477737903595,0.8839429020881653,0.5188153982162476,0.6865501403808594,0.31387126445770264,0.7234276533126831,0.4137216806411743,0.632565975189209,0.2816580533981323]},{\"marker\":{\"symbol\":\"line-ns\",\"color\":\"green\",\"line\":{\"color\":\"green\",\"width\":1}},\"mode\":\"markers\",\"xaxis\":\"x2\",\"y\":[-1,-1],\"type\":\"scatter\",\"text\":[\"etli\"],\"hovertemplate\":\"%{text} <br>\\n%{x}\\n<extra></extra>\\n\",\"x\":[0.8695652]}],{\"showlegend\":false,\"xaxis\":{\"scaleanchor\":\"y\",\"visible\":false,\"domain\":[0.504950495049505,1.0]},\"hovermode\":\"closest\",\"xaxis2\":{\"rangemode\":\"nonnegative\",\"spikethickness\":1,\"showspikes\":true,\"domain\":[0.0,0.49504950495049505],\"spikemode\":\"across\",\"autorange\":\"reversed\",\"spikedash\":\"solid\"},\"height\":550,\"margin\":{\"l\":50,\"b\":50,\"r\":50,\"t\":60},\"yaxis\":{\"scaleanchor\":\"x\",\"visible\":false},\"width\":1000},{}); gd.on(\"plotly_hover\",(function (data){var filtered_data=WebIO.PlotlyCommands.filterEventData(gd,data,\"hover\"); return !(filtered_data.isnil) ? (WebIO.setval({\"name\":\"hover\",\"scope\":\"4478251544696184620\",\"id\":\"4036598120320226142\",\"type\":\"observable\"},filtered_data.out)) : undefined})); gd.on(\"plotly_unhover\",(function (){return WebIO.setval({\"name\":\"hover\",\"scope\":\"4478251544696184620\",\"id\":\"4036598120320226142\",\"type\":\"observable\"},{})})); gd.on(\"plotly_selected\",(function (data){var filtered_data=WebIO.PlotlyCommands.filterEventData(gd,data,\"selected\"); return !(filtered_data.isnil) ? (WebIO.setval({\"name\":\"selected\",\"scope\":\"4478251544696184620\",\"id\":\"432225168285747230\",\"type\":\"observable\"},filtered_data.out)) : undefined})); gd.on(\"plotly_deselect\",(function (){return WebIO.setval({\"name\":\"selected\",\"scope\":\"4478251544696184620\",\"id\":\"432225168285747230\",\"type\":\"observable\"},{})})); gd.on(\"plotly_relayout\",(function (data){var filtered_data=WebIO.PlotlyCommands.filterEventData(gd,data,\"relayout\"); return !(filtered_data.isnil) ? (WebIO.setval({\"name\":\"relayout\",\"scope\":\"4478251544696184620\",\"id\":\"6960734677830967075\",\"type\":\"observable\"},filtered_data.out)) : undefined})); return gd.on(\"plotly_click\",(function (data){var filtered_data=WebIO.PlotlyCommands.filterEventData(gd,data,\"click\"); return !(filtered_data.isnil) ? (WebIO.setval({\"name\":\"click\",\"scope\":\"4478251544696184620\",\"id\":\"14223752789404837501\",\"type\":\"observable\"},filtered_data.out)) : undefined}))}));\n    (WebIO.importBlock({\"data\":[{\"name\":\"Plotly\",\"type\":\"js\",\"url\":\"/assetserver/e6903599031aaef8675931dfcd7df98a1aeffbfc-plotly-latest.min.js\"},{\"name\":null,\"type\":\"js\",\"url\":\"/assetserver/74a5dea81f21b0b802ef1ee92f1c8a504eac1a0c-plotly_webio.bundle.js\"}],\"type\":\"async_block\"})).then((imports) => handler.apply(this, imports));\n}\n"
        ],
        "observables": {
         "__gd_contents": {
          "id": "12857834621767924597",
          "sync": false,
          "value": {}
         },
         "__get_gd_contents": {
          "id": "12508395618546171981",
          "sync": false,
          "value": ""
         },
         "_commands": {
          "id": "11539203535134050840",
          "sync": false,
          "value": []
         },
         "_downloadImage": {
          "id": "9483152502888574422",
          "sync": false,
          "value": {}
         },
         "_toImage": {
          "id": "9796518041414682470",
          "sync": false,
          "value": {}
         },
         "click": {
          "id": "14223752789404837501",
          "sync": false,
          "value": {}
         },
         "hover": {
          "id": "4036598120320226142",
          "sync": false,
          "value": {}
         },
         "image": {
          "id": "10849853789087120450",
          "sync": true,
          "value": ""
         },
         "relayout": {
          "id": "6960734677830967075",
          "sync": false,
          "value": {}
         },
         "selected": {
          "id": "432225168285747230",
          "sync": false,
          "value": {}
         }
        },
        "systemjs_options": null
       },
       "nodeType": "Scope",
       "props": {},
       "type": "node"
      },
      "image/png": "[encoded data removed]",
      "image/svg+xml": [
       "<svg class=\"main-svg\" xmlns=\"http://www.w3.org/2000/svg\" xmlns:xlink=\"http://www.w3.org/1999/xlink\" width=\"700\" height=\"500\" style=\"\" viewBox=\"0 0 700 500\"><rect x=\"0\" y=\"0\" width=\"700\" height=\"500\" style=\"fill: rgb(255, 255, 255); fill-opacity: 1;\"/><defs id=\"defs-64d39c\"><g class=\"clips\"><clipPath id=\"clip64d39cxyplot\" class=\"plotclip\"><rect width=\"276.73267326732673\" height=\"390\"/></clipPath><clipPath id=\"clip64d39cx2yplot\" class=\"plotclip\"><rect width=\"276.73267326732673\" height=\"390\"/></clipPath><clipPath class=\"axesclip\" id=\"clip64d39cx\"><rect x=\"332.26732673267327\" y=\"0\" width=\"276.73267326732673\" height=\"500\"/></clipPath><clipPath class=\"axesclip\" id=\"clip64d39cy\"><rect x=\"0\" y=\"60\" width=\"700\" height=\"390\"/></clipPath><clipPath class=\"axesclip\" id=\"clip64d39cxy\"><rect x=\"332.26732673267327\" y=\"60\" width=\"276.73267326732673\" height=\"390\"/></clipPath><clipPath class=\"axesclip\" id=\"clip64d39cx2\"><rect x=\"50\" y=\"0\" width=\"276.73267326732673\" height=\"500\"/></clipPath><clipPath class=\"axesclip\" id=\"clip64d39cx2y\"><rect x=\"50\" y=\"60\" width=\"276.73267326732673\" height=\"390\"/></clipPath></g><g class=\"gradients\"><linearGradient x1=\"0\" x2=\"0\" y1=\"1\" y2=\"0\" id=\"g64d39c-cbe72f09\"><stop offset=\"0%\" stop-color=\"rgb(0, 0, 4)\" stop-opacity=\"1\"/><stop offset=\"0.39215686274509803%\" stop-color=\"rgb(1, 0, 5)\" stop-opacity=\"1\"/><stop offset=\"0.7843137254901961%\" stop-color=\"rgb(1, 1, 6)\" stop-opacity=\"1\"/><stop offset=\"1.1764705882352942%\" stop-color=\"rgb(1, 1, 8)\" stop-opacity=\"1\"/><stop offset=\"1.5686274509803921%\" stop-color=\"rgb(2, 1, 9)\" stop-opacity=\"1\"/><stop offset=\"1.9607843137254901%\" stop-color=\"rgb(2, 2, 11)\" stop-opacity=\"1\"/><stop offset=\"2.3529411764705883%\" stop-color=\"rgb(2, 2, 13)\" stop-opacity=\"1\"/><stop offset=\"2.7450980392156863%\" stop-color=\"rgb(3, 3, 15)\" stop-opacity=\"1\"/><stop offset=\"3.1372549019607843%\" stop-color=\"rgb(3, 3, 18)\" stop-opacity=\"1\"/><stop offset=\"3.5294117647058822%\" stop-color=\"rgb(4, 4, 20)\" stop-opacity=\"1\"/><stop offset=\"3.9215686274509802%\" stop-color=\"rgb(5, 4, 22)\" stop-opacity=\"1\"/><stop offset=\"4.313725490196078%\" stop-color=\"rgb(6, 5, 24)\" stop-opacity=\"1\"/><stop offset=\"4.705882352941177%\" stop-color=\"rgb(6, 5, 26)\" stop-opacity=\"1\"/><stop offset=\"5.098039215686274%\" stop-color=\"rgb(7, 6, 28)\" stop-opacity=\"1\"/><stop offset=\"5.490196078431373%\" stop-color=\"rgb(8, 7, 30)\" stop-opacity=\"1\"/><stop offset=\"5.88235294117647%\" stop-color=\"rgb(9, 7, 32)\" stop-opacity=\"1\"/><stop offset=\"6.2745098039215685%\" stop-color=\"rgb(10, 8, 34)\" stop-opacity=\"1\"/><stop offset=\"6.666666666666667%\" stop-color=\"rgb(11, 9, 36)\" stop-opacity=\"1\"/><stop offset=\"7.0588235294117645%\" stop-color=\"rgb(12, 9, 38)\" stop-opacity=\"1\"/><stop offset=\"7.450980392156863%\" stop-color=\"rgb(13, 10, 41)\" stop-opacity=\"1\"/><stop offset=\"7.8431372549019605%\" stop-color=\"rgb(14, 11, 43)\" stop-opacity=\"1\"/><stop offset=\"8.235294117647058%\" stop-color=\"rgb(16, 11, 45)\" stop-opacity=\"1\"/><stop offset=\"8.627450980392156%\" stop-color=\"rgb(17, 12, 47)\" stop-opacity=\"1\"/><stop offset=\"9.019607843137255%\" stop-color=\"rgb(18, 13, 49)\" stop-opacity=\"1\"/><stop offset=\"9.411764705882353%\" stop-color=\"rgb(19, 13, 52)\" stop-opacity=\"1\"/><stop offset=\"9.803921568627452%\" stop-color=\"rgb(20, 14, 54)\" stop-opacity=\"1\"/><stop offset=\"10.196078431372548%\" stop-color=\"rgb(21, 14, 56)\" stop-opacity=\"1\"/><stop offset=\"10.588235294117647%\" stop-color=\"rgb(22, 15, 59)\" stop-opacity=\"1\"/><stop offset=\"10.980392156862745%\" stop-color=\"rgb(24, 15, 61)\" stop-opacity=\"1\"/><stop offset=\"11.372549019607844%\" stop-color=\"rgb(25, 16, 63)\" stop-opacity=\"1\"/><stop offset=\"11.76470588235294%\" stop-color=\"rgb(26, 16, 66)\" stop-opacity=\"1\"/><stop offset=\"12.156862745098039%\" stop-color=\"rgb(28, 16, 68)\" stop-opacity=\"1\"/><stop offset=\"12.549019607843137%\" stop-color=\"rgb(29, 17, 71)\" stop-opacity=\"1\"/><stop offset=\"12.941176470588237%\" stop-color=\"rgb(30, 17, 73)\" stop-opacity=\"1\"/><stop offset=\"13.333333333333334%\" stop-color=\"rgb(32, 17, 75)\" stop-opacity=\"1\"/><stop offset=\"13.725490196078432%\" stop-color=\"rgb(33, 17, 78)\" stop-opacity=\"1\"/><stop offset=\"14.117647058823529%\" stop-color=\"rgb(34, 17, 80)\" stop-opacity=\"1\"/><stop offset=\"14.50980392156863%\" stop-color=\"rgb(36, 18, 83)\" stop-opacity=\"1\"/><stop offset=\"14.901960784313726%\" stop-color=\"rgb(37, 18, 85)\" stop-opacity=\"1\"/><stop offset=\"15.294117647058824%\" stop-color=\"rgb(39, 18, 88)\" stop-opacity=\"1\"/><stop offset=\"15.686274509803921%\" stop-color=\"rgb(41, 17, 90)\" stop-opacity=\"1\"/><stop offset=\"16.07843137254902%\" stop-color=\"rgb(42, 17, 92)\" stop-opacity=\"1\"/><stop offset=\"16.470588235294116%\" stop-color=\"rgb(44, 17, 95)\" stop-opacity=\"1\"/><stop offset=\"16.862745098039216%\" stop-color=\"rgb(45, 17, 97)\" stop-opacity=\"1\"/><stop offset=\"17.254901960784313%\" stop-color=\"rgb(47, 17, 99)\" stop-opacity=\"1\"/><stop offset=\"17.647058823529413%\" stop-color=\"rgb(49, 17, 101)\" stop-opacity=\"1\"/><stop offset=\"18.03921568627451%\" stop-color=\"rgb(51, 16, 103)\" stop-opacity=\"1\"/><stop offset=\"18.43137254901961%\" stop-color=\"rgb(52, 16, 105)\" stop-opacity=\"1\"/><stop offset=\"18.823529411764707%\" stop-color=\"rgb(54, 16, 107)\" stop-opacity=\"1\"/><stop offset=\"19.215686274509807%\" stop-color=\"rgb(56, 16, 108)\" stop-opacity=\"1\"/><stop offset=\"19.607843137254903%\" stop-color=\"rgb(57, 15, 110)\" stop-opacity=\"1\"/><stop offset=\"20%\" stop-color=\"rgb(59, 15, 112)\" stop-opacity=\"1\"/><stop offset=\"20.392156862745097%\" stop-color=\"rgb(61, 15, 113)\" stop-opacity=\"1\"/><stop offset=\"20.784313725490197%\" stop-color=\"rgb(63, 15, 114)\" stop-opacity=\"1\"/><stop offset=\"21.176470588235293%\" stop-color=\"rgb(64, 15, 116)\" stop-opacity=\"1\"/><stop offset=\"21.568627450980394%\" stop-color=\"rgb(66, 15, 117)\" stop-opacity=\"1\"/><stop offset=\"21.96078431372549%\" stop-color=\"rgb(68, 15, 118)\" stop-opacity=\"1\"/><stop offset=\"22.35294117647059%\" stop-color=\"rgb(69, 16, 119)\" stop-opacity=\"1\"/><stop offset=\"22.745098039215687%\" stop-color=\"rgb(71, 16, 120)\" stop-opacity=\"1\"/><stop offset=\"23.137254901960784%\" stop-color=\"rgb(73, 16, 120)\" stop-opacity=\"1\"/><stop offset=\"23.52941176470588%\" stop-color=\"rgb(74, 16, 121)\" stop-opacity=\"1\"/><stop offset=\"23.92156862745098%\" stop-color=\"rgb(76, 17, 122)\" stop-opacity=\"1\"/><stop offset=\"24.313725490196077%\" stop-color=\"rgb(78, 17, 123)\" stop-opacity=\"1\"/><stop offset=\"24.705882352941178%\" stop-color=\"rgb(79, 18, 123)\" stop-opacity=\"1\"/><stop offset=\"25.098039215686274%\" stop-color=\"rgb(81, 18, 124)\" stop-opacity=\"1\"/><stop offset=\"25.49019607843137%\" stop-color=\"rgb(82, 19, 124)\" stop-opacity=\"1\"/><stop offset=\"25.882352941176475%\" stop-color=\"rgb(84, 19, 125)\" stop-opacity=\"1\"/><stop offset=\"26.27450980392157%\" stop-color=\"rgb(86, 20, 125)\" stop-opacity=\"1\"/><stop offset=\"26.666666666666668%\" stop-color=\"rgb(87, 21, 126)\" stop-opacity=\"1\"/><stop offset=\"27.058823529411764%\" stop-color=\"rgb(89, 21, 126)\" stop-opacity=\"1\"/><stop offset=\"27.450980392156865%\" stop-color=\"rgb(90, 22, 126)\" stop-opacity=\"1\"/><stop offset=\"27.84313725490196%\" stop-color=\"rgb(92, 22, 127)\" stop-opacity=\"1\"/><stop offset=\"28.235294117647058%\" stop-color=\"rgb(93, 23, 127)\" stop-opacity=\"1\"/><stop offset=\"28.627450980392155%\" stop-color=\"rgb(95, 24, 127)\" stop-opacity=\"1\"/><stop offset=\"29.01960784313726%\" stop-color=\"rgb(96, 24, 128)\" stop-opacity=\"1\"/><stop offset=\"29.411764705882355%\" stop-color=\"rgb(98, 25, 128)\" stop-opacity=\"1\"/><stop offset=\"29.80392156862745%\" stop-color=\"rgb(100, 26, 128)\" stop-opacity=\"1\"/><stop offset=\"30.19607843137255%\" stop-color=\"rgb(101, 26, 128)\" stop-opacity=\"1\"/><stop offset=\"30.58823529411765%\" stop-color=\"rgb(103, 27, 128)\" stop-opacity=\"1\"/><stop offset=\"30.980392156862745%\" stop-color=\"rgb(104, 28, 129)\" stop-opacity=\"1\"/><stop offset=\"31.372549019607842%\" stop-color=\"rgb(106, 28, 129)\" stop-opacity=\"1\"/><stop offset=\"31.76470588235294%\" stop-color=\"rgb(107, 29, 129)\" stop-opacity=\"1\"/><stop offset=\"32.15686274509804%\" stop-color=\"rgb(109, 29, 129)\" stop-opacity=\"1\"/><stop offset=\"32.549019607843135%\" stop-color=\"rgb(110, 30, 129)\" stop-opacity=\"1\"/><stop offset=\"32.94117647058823%\" stop-color=\"rgb(112, 31, 129)\" stop-opacity=\"1\"/><stop offset=\"33.33333333333333%\" stop-color=\"rgb(114, 31, 129)\" stop-opacity=\"1\"/><stop offset=\"33.72549019607843%\" stop-color=\"rgb(115, 32, 129)\" stop-opacity=\"1\"/><stop offset=\"34.11764705882353%\" stop-color=\"rgb(117, 33, 129)\" stop-opacity=\"1\"/><stop offset=\"34.509803921568626%\" stop-color=\"rgb(118, 33, 129)\" stop-opacity=\"1\"/><stop offset=\"34.90196078431372%\" stop-color=\"rgb(120, 34, 129)\" stop-opacity=\"1\"/><stop offset=\"35.294117647058826%\" stop-color=\"rgb(121, 34, 130)\" stop-opacity=\"1\"/><stop offset=\"35.68627450980392%\" stop-color=\"rgb(123, 35, 130)\" stop-opacity=\"1\"/><stop offset=\"36.07843137254902%\" stop-color=\"rgb(124, 35, 130)\" stop-opacity=\"1\"/><stop offset=\"36.470588235294116%\" stop-color=\"rgb(126, 36, 130)\" stop-opacity=\"1\"/><stop offset=\"36.86274509803922%\" stop-color=\"rgb(128, 37, 130)\" stop-opacity=\"1\"/><stop offset=\"37.254901960784316%\" stop-color=\"rgb(129, 37, 129)\" stop-opacity=\"1\"/><stop offset=\"37.64705882352941%\" stop-color=\"rgb(131, 38, 129)\" stop-opacity=\"1\"/><stop offset=\"38.03921568627451%\" stop-color=\"rgb(132, 38, 129)\" stop-opacity=\"1\"/><stop offset=\"38.43137254901961%\" stop-color=\"rgb(134, 39, 129)\" stop-opacity=\"1\"/><stop offset=\"38.82352941176471%\" stop-color=\"rgb(136, 39, 129)\" stop-opacity=\"1\"/><stop offset=\"39.21568627450981%\" stop-color=\"rgb(137, 40, 129)\" stop-opacity=\"1\"/><stop offset=\"39.6078431372549%\" stop-color=\"rgb(139, 41, 129)\" stop-opacity=\"1\"/><stop offset=\"40%\" stop-color=\"rgb(140, 41, 129)\" stop-opacity=\"1\"/><stop offset=\"40.3921568627451%\" stop-color=\"rgb(142, 42, 129)\" stop-opacity=\"1\"/><stop offset=\"40.78431372549019%\" stop-color=\"rgb(144, 42, 129)\" stop-opacity=\"1\"/><stop offset=\"41.17647058823529%\" stop-color=\"rgb(145, 43, 129)\" stop-opacity=\"1\"/><stop offset=\"41.568627450980394%\" stop-color=\"rgb(147, 43, 128)\" stop-opacity=\"1\"/><stop offset=\"41.96078431372549%\" stop-color=\"rgb(148, 44, 128)\" stop-opacity=\"1\"/><stop offset=\"42.35294117647059%\" stop-color=\"rgb(150, 44, 128)\" stop-opacity=\"1\"/><stop offset=\"42.745098039215684%\" stop-color=\"rgb(152, 45, 128)\" stop-opacity=\"1\"/><stop offset=\"43.13725490196079%\" stop-color=\"rgb(153, 45, 128)\" stop-opacity=\"1\"/><stop offset=\"43.529411764705884%\" stop-color=\"rgb(155, 46, 127)\" stop-opacity=\"1\"/><stop offset=\"43.92156862745098%\" stop-color=\"rgb(156, 46, 127)\" stop-opacity=\"1\"/><stop offset=\"44.31372549019608%\" stop-color=\"rgb(158, 47, 127)\" stop-opacity=\"1\"/><stop offset=\"44.70588235294118%\" stop-color=\"rgb(160, 47, 127)\" stop-opacity=\"1\"/><stop offset=\"45.09803921568628%\" stop-color=\"rgb(161, 48, 126)\" stop-opacity=\"1\"/><stop offset=\"45.490196078431374%\" stop-color=\"rgb(163, 48, 126)\" stop-opacity=\"1\"/><stop offset=\"45.88235294117647%\" stop-color=\"rgb(165, 49, 126)\" stop-opacity=\"1\"/><stop offset=\"46.27450980392157%\" stop-color=\"rgb(166, 49, 125)\" stop-opacity=\"1\"/><stop offset=\"46.666666666666664%\" stop-color=\"rgb(168, 50, 125)\" stop-opacity=\"1\"/><stop offset=\"47.05882352941176%\" stop-color=\"rgb(170, 51, 125)\" stop-opacity=\"1\"/><stop offset=\"47.45098039215686%\" stop-color=\"rgb(171, 51, 124)\" stop-opacity=\"1\"/><stop offset=\"47.84313725490196%\" stop-color=\"rgb(173, 52, 124)\" stop-opacity=\"1\"/><stop offset=\"48.23529411764706%\" stop-color=\"rgb(174, 52, 123)\" stop-opacity=\"1\"/><stop offset=\"48.627450980392155%\" stop-color=\"rgb(176, 53, 123)\" stop-opacity=\"1\"/><stop offset=\"49.01960784313725%\" stop-color=\"rgb(178, 53, 123)\" stop-opacity=\"1\"/><stop offset=\"49.411764705882355%\" stop-color=\"rgb(179, 54, 122)\" stop-opacity=\"1\"/><stop offset=\"49.80392156862745%\" stop-color=\"rgb(181, 54, 122)\" stop-opacity=\"1\"/><stop offset=\"50.19607843137255%\" stop-color=\"rgb(183, 55, 121)\" stop-opacity=\"1\"/><stop offset=\"50.588235294117645%\" stop-color=\"rgb(184, 55, 121)\" stop-opacity=\"1\"/><stop offset=\"50.98039215686274%\" stop-color=\"rgb(186, 56, 120)\" stop-opacity=\"1\"/><stop offset=\"51.37254901960784%\" stop-color=\"rgb(188, 57, 120)\" stop-opacity=\"1\"/><stop offset=\"51.76470588235295%\" stop-color=\"rgb(189, 57, 119)\" stop-opacity=\"1\"/><stop offset=\"52.156862745098046%\" stop-color=\"rgb(191, 58, 119)\" stop-opacity=\"1\"/><stop offset=\"52.54901960784314%\" stop-color=\"rgb(192, 58, 118)\" stop-opacity=\"1\"/><stop offset=\"52.94117647058824%\" stop-color=\"rgb(194, 59, 117)\" stop-opacity=\"1\"/><stop offset=\"53.333333333333336%\" stop-color=\"rgb(196, 60, 117)\" stop-opacity=\"1\"/><stop offset=\"53.72549019607843%\" stop-color=\"rgb(197, 60, 116)\" stop-opacity=\"1\"/><stop offset=\"54.11764705882353%\" stop-color=\"rgb(199, 61, 115)\" stop-opacity=\"1\"/><stop offset=\"54.509803921568626%\" stop-color=\"rgb(200, 62, 115)\" stop-opacity=\"1\"/><stop offset=\"54.90196078431373%\" stop-color=\"rgb(202, 62, 114)\" stop-opacity=\"1\"/><stop offset=\"55.294117647058826%\" stop-color=\"rgb(204, 63, 113)\" stop-opacity=\"1\"/><stop offset=\"55.68627450980392%\" stop-color=\"rgb(205, 64, 113)\" stop-opacity=\"1\"/><stop offset=\"56.07843137254902%\" stop-color=\"rgb(207, 64, 112)\" stop-opacity=\"1\"/><stop offset=\"56.470588235294116%\" stop-color=\"rgb(208, 65, 111)\" stop-opacity=\"1\"/><stop offset=\"56.86274509803921%\" stop-color=\"rgb(210, 66, 111)\" stop-opacity=\"1\"/><stop offset=\"57.25490196078431%\" stop-color=\"rgb(211, 67, 110)\" stop-opacity=\"1\"/><stop offset=\"57.647058823529406%\" stop-color=\"rgb(213, 68, 109)\" stop-opacity=\"1\"/><stop offset=\"58.03921568627452%\" stop-color=\"rgb(214, 69, 108)\" stop-opacity=\"1\"/><stop offset=\"58.43137254901961%\" stop-color=\"rgb(216, 69, 108)\" stop-opacity=\"1\"/><stop offset=\"58.82352941176471%\" stop-color=\"rgb(217, 70, 107)\" stop-opacity=\"1\"/><stop offset=\"59.21568627450981%\" stop-color=\"rgb(219, 71, 106)\" stop-opacity=\"1\"/><stop offset=\"59.6078431372549%\" stop-color=\"rgb(220, 72, 105)\" stop-opacity=\"1\"/><stop offset=\"60%\" stop-color=\"rgb(222, 73, 104)\" stop-opacity=\"1\"/><stop offset=\"60.3921568627451%\" stop-color=\"rgb(223, 74, 104)\" stop-opacity=\"1\"/><stop offset=\"60.78431372549019%\" stop-color=\"rgb(224, 76, 103)\" stop-opacity=\"1\"/><stop offset=\"61.1764705882353%\" stop-color=\"rgb(226, 77, 102)\" stop-opacity=\"1\"/><stop offset=\"61.568627450980394%\" stop-color=\"rgb(227, 78, 101)\" stop-opacity=\"1\"/><stop offset=\"61.96078431372549%\" stop-color=\"rgb(228, 79, 100)\" stop-opacity=\"1\"/><stop offset=\"62.35294117647059%\" stop-color=\"rgb(229, 80, 100)\" stop-opacity=\"1\"/><stop offset=\"62.745098039215684%\" stop-color=\"rgb(231, 82, 99)\" stop-opacity=\"1\"/><stop offset=\"63.13725490196078%\" stop-color=\"rgb(232, 83, 98)\" stop-opacity=\"1\"/><stop offset=\"63.52941176470588%\" stop-color=\"rgb(233, 84, 98)\" stop-opacity=\"1\"/><stop offset=\"63.921568627450974%\" stop-color=\"rgb(234, 86, 97)\" stop-opacity=\"1\"/><stop offset=\"64.31372549019608%\" stop-color=\"rgb(235, 87, 96)\" stop-opacity=\"1\"/><stop offset=\"64.70588235294117%\" stop-color=\"rgb(236, 88, 96)\" stop-opacity=\"1\"/><stop offset=\"65.09803921568627%\" stop-color=\"rgb(237, 90, 95)\" stop-opacity=\"1\"/><stop offset=\"65.49019607843137%\" stop-color=\"rgb(238, 91, 94)\" stop-opacity=\"1\"/><stop offset=\"65.88235294117646%\" stop-color=\"rgb(239, 93, 94)\" stop-opacity=\"1\"/><stop offset=\"66.27450980392156%\" stop-color=\"rgb(240, 95, 94)\" stop-opacity=\"1\"/><stop offset=\"66.66666666666666%\" stop-color=\"rgb(241, 96, 93)\" stop-opacity=\"1\"/><stop offset=\"67.05882352941175%\" stop-color=\"rgb(242, 98, 93)\" stop-opacity=\"1\"/><stop offset=\"67.45098039215686%\" stop-color=\"rgb(242, 100, 92)\" stop-opacity=\"1\"/><stop offset=\"67.84313725490196%\" stop-color=\"rgb(243, 101, 92)\" stop-opacity=\"1\"/><stop offset=\"68.23529411764706%\" stop-color=\"rgb(244, 103, 92)\" stop-opacity=\"1\"/><stop offset=\"68.62745098039215%\" stop-color=\"rgb(244, 105, 92)\" stop-opacity=\"1\"/><stop offset=\"69.01960784313725%\" stop-color=\"rgb(245, 107, 92)\" stop-opacity=\"1\"/><stop offset=\"69.41176470588235%\" stop-color=\"rgb(246, 108, 92)\" stop-opacity=\"1\"/><stop offset=\"69.80392156862744%\" stop-color=\"rgb(246, 110, 92)\" stop-opacity=\"1\"/><stop offset=\"70.19607843137254%\" stop-color=\"rgb(247, 112, 92)\" stop-opacity=\"1\"/><stop offset=\"70.58823529411765%\" stop-color=\"rgb(247, 114, 92)\" stop-opacity=\"1\"/><stop offset=\"70.98039215686275%\" stop-color=\"rgb(248, 116, 92)\" stop-opacity=\"1\"/><stop offset=\"71.37254901960785%\" stop-color=\"rgb(248, 118, 92)\" stop-opacity=\"1\"/><stop offset=\"71.76470588235294%\" stop-color=\"rgb(249, 120, 93)\" stop-opacity=\"1\"/><stop offset=\"72.15686274509804%\" stop-color=\"rgb(249, 121, 93)\" stop-opacity=\"1\"/><stop offset=\"72.54901960784314%\" stop-color=\"rgb(249, 123, 93)\" stop-opacity=\"1\"/><stop offset=\"72.94117647058823%\" stop-color=\"rgb(250, 125, 94)\" stop-opacity=\"1\"/><stop offset=\"73.33333333333333%\" stop-color=\"rgb(250, 127, 94)\" stop-opacity=\"1\"/><stop offset=\"73.72549019607844%\" stop-color=\"rgb(250, 129, 95)\" stop-opacity=\"1\"/><stop offset=\"74.11764705882354%\" stop-color=\"rgb(251, 131, 95)\" stop-opacity=\"1\"/><stop offset=\"74.50980392156863%\" stop-color=\"rgb(251, 133, 96)\" stop-opacity=\"1\"/><stop offset=\"74.90196078431373%\" stop-color=\"rgb(251, 135, 97)\" stop-opacity=\"1\"/><stop offset=\"75.29411764705883%\" stop-color=\"rgb(252, 137, 97)\" stop-opacity=\"1\"/><stop offset=\"75.68627450980392%\" stop-color=\"rgb(252, 138, 98)\" stop-opacity=\"1\"/><stop offset=\"76.07843137254902%\" stop-color=\"rgb(252, 140, 99)\" stop-opacity=\"1\"/><stop offset=\"76.47058823529412%\" stop-color=\"rgb(252, 142, 100)\" stop-opacity=\"1\"/><stop offset=\"76.86274509803923%\" stop-color=\"rgb(252, 144, 101)\" stop-opacity=\"1\"/><stop offset=\"77.25490196078432%\" stop-color=\"rgb(253, 146, 102)\" stop-opacity=\"1\"/><stop offset=\"77.64705882352942%\" stop-color=\"rgb(253, 148, 103)\" stop-opacity=\"1\"/><stop offset=\"78.03921568627452%\" stop-color=\"rgb(253, 150, 104)\" stop-opacity=\"1\"/><stop offset=\"78.43137254901961%\" stop-color=\"rgb(253, 152, 105)\" stop-opacity=\"1\"/><stop offset=\"78.82352941176471%\" stop-color=\"rgb(253, 154, 106)\" stop-opacity=\"1\"/><stop offset=\"79.2156862745098%\" stop-color=\"rgb(253, 155, 107)\" stop-opacity=\"1\"/><stop offset=\"79.6078431372549%\" stop-color=\"rgb(254, 157, 108)\" stop-opacity=\"1\"/><stop offset=\"80%\" stop-color=\"rgb(254, 159, 109)\" stop-opacity=\"1\"/><stop offset=\"80.3921568627451%\" stop-color=\"rgb(254, 161, 110)\" stop-opacity=\"1\"/><stop offset=\"80.7843137254902%\" stop-color=\"rgb(254, 163, 111)\" stop-opacity=\"1\"/><stop offset=\"81.17647058823529%\" stop-color=\"rgb(254, 165, 113)\" stop-opacity=\"1\"/><stop offset=\"81.56862745098039%\" stop-color=\"rgb(254, 167, 114)\" stop-opacity=\"1\"/><stop offset=\"81.96078431372548%\" stop-color=\"rgb(254, 169, 115)\" stop-opacity=\"1\"/><stop offset=\"82.35294117647058%\" stop-color=\"rgb(254, 170, 116)\" stop-opacity=\"1\"/><stop offset=\"82.74509803921568%\" stop-color=\"rgb(254, 172, 118)\" stop-opacity=\"1\"/><stop offset=\"83.13725490196079%\" stop-color=\"rgb(254, 174, 119)\" stop-opacity=\"1\"/><stop offset=\"83.52941176470588%\" stop-color=\"rgb(254, 176, 120)\" stop-opacity=\"1\"/><stop offset=\"83.92156862745098%\" stop-color=\"rgb(254, 178, 122)\" stop-opacity=\"1\"/><stop offset=\"84.31372549019608%\" stop-color=\"rgb(254, 180, 123)\" stop-opacity=\"1\"/><stop offset=\"84.70588235294117%\" stop-color=\"rgb(254, 182, 124)\" stop-opacity=\"1\"/><stop offset=\"85.09803921568627%\" stop-color=\"rgb(254, 183, 126)\" stop-opacity=\"1\"/><stop offset=\"85.49019607843137%\" stop-color=\"rgb(254, 185, 127)\" stop-opacity=\"1\"/><stop offset=\"85.88235294117646%\" stop-color=\"rgb(254, 187, 129)\" stop-opacity=\"1\"/><stop offset=\"86.27450980392157%\" stop-color=\"rgb(254, 189, 130)\" stop-opacity=\"1\"/><stop offset=\"86.66666666666667%\" stop-color=\"rgb(254, 191, 132)\" stop-opacity=\"1\"/><stop offset=\"87.05882352941177%\" stop-color=\"rgb(254, 193, 133)\" stop-opacity=\"1\"/><stop offset=\"87.45098039215686%\" stop-color=\"rgb(254, 194, 135)\" stop-opacity=\"1\"/><stop offset=\"87.84313725490196%\" stop-color=\"rgb(254, 196, 136)\" stop-opacity=\"1\"/><stop offset=\"88.23529411764706%\" stop-color=\"rgb(254, 198, 138)\" stop-opacity=\"1\"/><stop offset=\"88.62745098039215%\" stop-color=\"rgb(254, 200, 140)\" stop-opacity=\"1\"/><stop offset=\"89.01960784313725%\" stop-color=\"rgb(254, 202, 141)\" stop-opacity=\"1\"/><stop offset=\"89.41176470588236%\" stop-color=\"rgb(254, 204, 143)\" stop-opacity=\"1\"/><stop offset=\"89.80392156862746%\" stop-color=\"rgb(254, 205, 144)\" stop-opacity=\"1\"/><stop offset=\"90.19607843137256%\" stop-color=\"rgb(254, 207, 146)\" stop-opacity=\"1\"/><stop offset=\"90.58823529411765%\" stop-color=\"rgb(254, 209, 148)\" stop-opacity=\"1\"/><stop offset=\"90.98039215686275%\" stop-color=\"rgb(254, 211, 149)\" stop-opacity=\"1\"/><stop offset=\"91.37254901960785%\" stop-color=\"rgb(254, 213, 151)\" stop-opacity=\"1\"/><stop offset=\"91.76470588235294%\" stop-color=\"rgb(254, 215, 153)\" stop-opacity=\"1\"/><stop offset=\"92.15686274509804%\" stop-color=\"rgb(254, 216, 154)\" stop-opacity=\"1\"/><stop offset=\"92.54901960784314%\" stop-color=\"rgb(253, 218, 156)\" stop-opacity=\"1\"/><stop offset=\"92.94117647058823%\" stop-color=\"rgb(253, 220, 158)\" stop-opacity=\"1\"/><stop offset=\"93.33333333333333%\" stop-color=\"rgb(253, 222, 160)\" stop-opacity=\"1\"/><stop offset=\"93.72549019607843%\" stop-color=\"rgb(253, 224, 161)\" stop-opacity=\"1\"/><stop offset=\"94.11764705882352%\" stop-color=\"rgb(253, 226, 163)\" stop-opacity=\"1\"/><stop offset=\"94.50980392156862%\" stop-color=\"rgb(253, 227, 165)\" stop-opacity=\"1\"/><stop offset=\"94.90196078431372%\" stop-color=\"rgb(253, 229, 167)\" stop-opacity=\"1\"/><stop offset=\"95.29411764705881%\" stop-color=\"rgb(253, 231, 169)\" stop-opacity=\"1\"/><stop offset=\"95.68627450980392%\" stop-color=\"rgb(253, 233, 170)\" stop-opacity=\"1\"/><stop offset=\"96.07843137254902%\" stop-color=\"rgb(253, 235, 172)\" stop-opacity=\"1\"/><stop offset=\"96.47058823529412%\" stop-color=\"rgb(252, 236, 174)\" stop-opacity=\"1\"/><stop offset=\"96.86274509803921%\" stop-color=\"rgb(252, 238, 176)\" stop-opacity=\"1\"/><stop offset=\"97.25490196078431%\" stop-color=\"rgb(252, 240, 178)\" stop-opacity=\"1\"/><stop offset=\"97.6470588235294%\" stop-color=\"rgb(252, 242, 180)\" stop-opacity=\"1\"/><stop offset=\"98.0392156862745%\" stop-color=\"rgb(252, 244, 182)\" stop-opacity=\"1\"/><stop offset=\"98.4313725490196%\" stop-color=\"rgb(252, 246, 184)\" stop-opacity=\"1\"/><stop offset=\"98.82352941176471%\" stop-color=\"rgb(252, 247, 185)\" stop-opacity=\"1\"/><stop offset=\"99.2156862745098%\" stop-color=\"rgb(252, 249, 187)\" stop-opacity=\"1\"/><stop offset=\"99.6078431372549%\" stop-color=\"rgb(252, 251, 189)\" stop-opacity=\"1\"/><stop offset=\"100%\" stop-color=\"rgb(252, 253, 191)\" stop-opacity=\"1\"/></linearGradient></g></defs><g class=\"bglayer\"/><g class=\"layer-below\"><g class=\"imagelayer\"/><g class=\"shapelayer\"/></g><g class=\"cartesianlayer\"><g class=\"subplot xy\"><g class=\"layer-subplot\"><g class=\"shapelayer\"/><g class=\"imagelayer\"/></g><g class=\"gridlayer\"><g class=\"x\"/><g class=\"y\"/></g><g class=\"zerolinelayer\"/><path class=\"xlines-below\"/><path class=\"ylines-below\"/><g class=\"overlines-below\"/><g class=\"xaxislayer-below\"/><g class=\"yaxislayer-below\"/><g class=\"overaxes-below\"/><g class=\"plot\" transform=\"translate(332.26732673267327,60)\" clip-path=\"url('#clip64d39cxyplot')\"><g class=\"heatmaplayer mlayer\"><g class=\"hm\"><image xmlns=\"http://www.w3.org/2000/svg\" preserveAspectRatio=\"none\" height=\"277\" width=\"277\" x=\"0\" y=\"44.61\" xlink:href=\"data:image/png;base64,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\" style=\"opacity: 1;\"/></g></g></g><g class=\"overplot\"/><path class=\"xlines-above crisp\" d=\"M0,0\" style=\"fill: none;\"/><path class=\"ylines-above crisp\" d=\"M0,0\" style=\"fill: none;\"/><g class=\"overlines-above\"/><g class=\"xaxislayer-above\"/><g class=\"yaxislayer-above\"/><g class=\"overaxes-above\"/></g><g class=\"subplot x2y\"><g class=\"layer-subplot\"><g class=\"shapelayer\"/><g class=\"imagelayer\"/></g><g class=\"gridlayer\"><g class=\"x2\"><path class=\"x2grid crisp\" transform=\"translate(93.33,0)\" d=\"M0,60v390\" style=\"stroke: rgb(238, 238, 238); stroke-opacity: 1; stroke-width: 1px;\"/><path class=\"x2grid crisp\" transform=\"translate(151.68,0)\" d=\"M0,60v390\" style=\"stroke: rgb(238, 238, 238); stroke-opacity: 1; stroke-width: 1px;\"/><path class=\"x2grid crisp\" transform=\"translate(210.03,0)\" d=\"M0,60v390\" style=\"stroke: rgb(238, 238, 238); stroke-opacity: 1; stroke-width: 1px;\"/><path class=\"x2grid crisp\" transform=\"translate(268.38,0)\" d=\"M0,60v390\" style=\"stroke: rgb(238, 238, 238); stroke-opacity: 1; stroke-width: 1px;\"/></g><g class=\"y\"/></g><g class=\"zerolinelayer\"><path class=\"x2zl zl crisp\" transform=\"translate(326.73,0)\" d=\"M0,60v390\" style=\"stroke: rgb(68, 68, 68); stroke-opacity: 1; stroke-width: 1px;\"/></g><path class=\"xlines-below\"/><path class=\"ylines-below\"/><g class=\"overlines-below\"/><g class=\"xaxislayer-below\"/><g class=\"yaxislayer-below\"/><g class=\"overaxes-below\"/><g class=\"plot\" transform=\"translate(50,60)\" clip-path=\"url('#clip64d39cx2yplot')\"><g class=\"scatterlayer mlayer\"><g class=\"trace scatter tracec75992\" style=\"stroke-miterlimit: 2; opacity: 1;\"><g class=\"fills\"><g><path class=\"js-fill\" d=\"M276.73,316.1L194.56,316.1L194.56,305.62L276.73,305.62Z\" style=\"fill: rgb(102, 102, 102); fill-opacity: 0.5; stroke-width: 0;\"/></g></g><g class=\"errorbars\"/><g class=\"lines\"><path class=\"js-line\" d=\"M276.73,316.1L194.56,316.1L194.56,305.62L276.73,305.62\" style=\"vector-effect: non-scaling-stroke; fill: none; stroke: rgb(102, 102, 102); stroke-opacity: 1; stroke-width: 2px; opacity: 1;\"/></g><g class=\"points\"/><g class=\"text\"/></g><g class=\"trace scatter traced2a61b\" style=\"stroke-miterlimit: 2; opacity: 1;\"><g class=\"fills\"/><g class=\"errorbars\"/><g class=\"lines\"><path class=\"js-line\" d=\"M72.92,240.14L72.92,221.81\" style=\"vector-effect: non-scaling-stroke; fill: none; stroke: rgb(102, 102, 102); stroke-opacity: 1; stroke-width: 2px; opacity: 1;\"/><path class=\"js-line\" d=\"M72.92,240.14L76.5,240.14\" style=\"vector-effect: non-scaling-stroke; fill: none; stroke: rgb(102, 102, 102); stroke-opacity: 1; stroke-width: 2px; opacity: 1;\"/><path class=\"js-line\" d=\"M72.92,221.81L276.73,221.81\" style=\"vector-effect: non-scaling-stroke; fill: none; stroke: rgb(102, 102, 102); stroke-opacity: 1; stroke-width: 2px; opacity: 1;\"/></g><g class=\"points\"/><g class=\"text\"/></g><g class=\"trace scatter trace8d52d2\" style=\"stroke-miterlimit: 2; opacity: 1;\"><g class=\"fills\"/><g class=\"errorbars\"/><g class=\"lines\"><path class=\"js-line\" d=\"M48.11,175.18L48.11,119.25\" style=\"vector-effect: non-scaling-stroke; fill: none; stroke: rgb(102, 102, 102); stroke-opacity: 1; stroke-width: 2px; opacity: 1;\"/><path class=\"js-line\" d=\"M48.11,175.18L77.06,175.18\" style=\"vector-effect: non-scaling-stroke; fill: none; stroke: rgb(102, 102, 102); stroke-opacity: 1; stroke-width: 2px; opacity: 1;\"/><path class=\"js-line\" d=\"M48.11,119.25L54.22,119.25\" style=\"vector-effect: non-scaling-stroke; fill: none; stroke: rgb(102, 102, 102); stroke-opacity: 1; stroke-width: 2px; opacity: 1;\"/></g><g class=\"points\"/><g class=\"text\"/></g><g class=\"trace scatter trace352084\" style=\"stroke-miterlimit: 2; opacity: 1;\"><g class=\"fills\"><g><path class=\"js-fill\" d=\"M276.73,112.7L179.36,112.7L179.36,102.23L276.73,102.23Z\" style=\"fill: rgb(102, 102, 102); fill-opacity: 0.5; stroke-width: 0;\"/></g></g><g class=\"errorbars\"/><g class=\"lines\"><path class=\"js-line\" d=\"M276.73,112.7L179.36,112.7L179.36,102.23L276.73,102.23\" style=\"vector-effect: non-scaling-stroke; fill: none; stroke: rgb(102, 102, 102); stroke-opacity: 1; stroke-width: 2px; opacity: 1;\"/></g><g class=\"points\"/><g class=\"text\"/></g><g class=\"trace scatter trace0af961\" style=\"stroke-miterlimit: 2; opacity: 1;\"><g class=\"fills\"/><g class=\"errorbars\"/><g class=\"lines\"><path class=\"js-line\" d=\"M98.64,310.86L98.64,289.91\" style=\"vector-effect: non-scaling-stroke; fill: none; stroke: rgb(102, 102, 102); stroke-opacity: 1; stroke-width: 2px; opacity: 1;\"/><path class=\"js-line\" d=\"M98.64,310.86L194.56,310.86\" style=\"vector-effect: non-scaling-stroke; fill: none; stroke: rgb(102, 102, 102); stroke-opacity: 1; stroke-width: 2px; opacity: 1;\"/><path class=\"js-line\" d=\"M98.64,289.91L185.16,289.91\" style=\"vector-effect: non-scaling-stroke; fill: none; stroke: rgb(102, 102, 102); stroke-opacity: 1; stroke-width: 2px; opacity: 1;\"/></g><g class=\"points\"/><g class=\"text\"/></g><g class=\"trace scatter traced414a2\" style=\"stroke-miterlimit: 2; opacity: 1;\"><g class=\"fills\"/><g class=\"errorbars\"/><g class=\"lines\"><path class=\"js-line\" d=\"M110.46,149.37L110.46,128.42\" style=\"vector-effect: non-scaling-stroke; fill: none; stroke: rgb(102, 102, 102); stroke-opacity: 1; stroke-width: 2px; opacity: 1;\"/><path class=\"js-line\" d=\"M110.46,149.37L164.29,149.37\" style=\"vector-effect: non-scaling-stroke; fill: none; stroke: rgb(102, 102, 102); stroke-opacity: 1; stroke-width: 2px; opacity: 1;\"/><path class=\"js-line\" d=\"M110.46,128.42L157.2,128.42\" style=\"vector-effect: non-scaling-stroke; fill: none; stroke: rgb(102, 102, 102); stroke-opacity: 1; stroke-width: 2px; opacity: 1;\"/></g><g class=\"points\"/><g class=\"text\"/></g><g class=\"trace scatter trace7b8370\" style=\"stroke-miterlimit: 2; opacity: 1;\"><g class=\"fills\"/><g class=\"errorbars\"/><g class=\"lines\"><path class=\"js-line\" d=\"M74.31,107.47L74.31,91.75\" style=\"vector-effect: non-scaling-stroke; fill: none; stroke: rgb(102, 102, 102); stroke-opacity: 1; stroke-width: 2px; opacity: 1;\"/><path class=\"js-line\" d=\"M74.31,107.47L179.36,107.47\" style=\"vector-effect: non-scaling-stroke; fill: none; stroke: rgb(102, 102, 102); stroke-opacity: 1; stroke-width: 2px; opacity: 1;\"/><path class=\"js-line\" d=\"M74.31,91.75L276.73,91.75\" style=\"vector-effect: non-scaling-stroke; fill: none; stroke: rgb(102, 102, 102); stroke-opacity: 1; stroke-width: 2px; opacity: 1;\"/></g><g class=\"points\"/><g class=\"text\"/></g><g class=\"trace scatter trace98ff82\" style=\"stroke-miterlimit: 2; opacity: 1;\"><g class=\"fills\"/><g class=\"errorbars\"/><g class=\"lines\"><path class=\"js-line\" d=\"M77.06,185.27L77.06,165.09\" style=\"vector-effect: non-scaling-stroke; fill: none; stroke: rgb(102, 102, 102); stroke-opacity: 1; stroke-width: 2px; opacity: 1;\"/><path class=\"js-line\" d=\"M77.06,185.27L148.55,185.27\" style=\"vector-effect: non-scaling-stroke; fill: none; stroke: rgb(102, 102, 102); stroke-opacity: 1; stroke-width: 2px; opacity: 1;\"/><path class=\"js-line\" d=\"M77.06,165.09L276.73,165.09\" style=\"vector-effect: non-scaling-stroke; fill: none; stroke: rgb(102, 102, 102); stroke-opacity: 1; stroke-width: 2px; opacity: 1;\"/></g><g class=\"points\"/><g class=\"text\"/></g><g class=\"trace scatter trace158a25\" style=\"stroke-miterlimit: 2; opacity: 1;\"><g class=\"fills\"/><g class=\"errorbars\"/><g class=\"lines\"><path class=\"js-line\" d=\"M157.2,133.66L157.2,123.18\" style=\"vector-effect: non-scaling-stroke; fill: none; stroke: rgb(102, 102, 102); stroke-opacity: 1; stroke-width: 2px; opacity: 1;\"/><path class=\"js-line\" d=\"M157.2,133.66L276.73,133.66\" style=\"vector-effect: non-scaling-stroke; fill: none; stroke: rgb(102, 102, 102); stroke-opacity: 1; stroke-width: 2px; opacity: 1;\"/><path class=\"js-line\" d=\"M157.2,123.18L276.73,123.18\" style=\"vector-effect: non-scaling-stroke; fill: none; stroke: rgb(102, 102, 102); stroke-opacity: 1; stroke-width: 2px; opacity: 1;\"/></g><g class=\"points\"/><g class=\"text\"/></g><g class=\"trace scatter tracef45a92\" style=\"stroke-miterlimit: 2; opacity: 1;\"><g class=\"fills\"/><g class=\"errorbars\"/><g class=\"lines\"><path class=\"js-line\" d=\"M86.53,274.19L86.53,263.72\" style=\"vector-effect: non-scaling-stroke; fill: none; stroke: rgb(102, 102, 102); stroke-opacity: 1; stroke-width: 2px; opacity: 1;\"/><path class=\"js-line\" d=\"M86.53,274.19L276.73,274.19\" style=\"vector-effect: non-scaling-stroke; fill: none; stroke: rgb(102, 102, 102); stroke-opacity: 1; stroke-width: 2px; opacity: 1;\"/><path class=\"js-line\" d=\"M86.53,263.72L276.73,263.72\" style=\"vector-effect: non-scaling-stroke; fill: none; stroke: rgb(102, 102, 102); stroke-opacity: 1; stroke-width: 2px; opacity: 1;\"/></g><g class=\"points\"/><g class=\"text\"/></g><g class=\"trace scatter traced35443\" style=\"stroke-miterlimit: 2; opacity: 1;\"><g class=\"fills\"><g><path class=\"js-fill\" d=\"M276.73,211.33L215.66,211.33L215.66,196.52L276.73,196.52Z\" style=\"fill: rgb(102, 102, 102); fill-opacity: 0.5; stroke-width: 0;\"/></g></g><g class=\"errorbars\"/><g class=\"lines\"><path class=\"js-line\" d=\"M276.73,211.33L215.66,211.33L215.66,196.52L276.73,196.52\" style=\"vector-effect: non-scaling-stroke; fill: none; stroke: rgb(102, 102, 102); stroke-opacity: 1; stroke-width: 2px; opacity: 1;\"/></g><g class=\"points\"/><g class=\"text\"/></g><g class=\"trace scatter traceb8d20d\" style=\"stroke-miterlimit: 2; opacity: 1;\"><g class=\"fills\"><g><path class=\"js-fill\" d=\"M276.73,154.61L164.29,154.61L164.29,144.13L276.73,144.13Z\" style=\"fill: rgb(102, 102, 102); fill-opacity: 0.5; stroke-width: 0;\"/></g></g><g class=\"errorbars\"/><g class=\"lines\"><path class=\"js-line\" d=\"M276.73,154.61L164.29,154.61L164.29,144.13L276.73,144.13\" style=\"vector-effect: non-scaling-stroke; fill: none; stroke: rgb(102, 102, 102); stroke-opacity: 1; stroke-width: 2px; opacity: 1;\"/></g><g class=\"points\"/><g class=\"text\"/></g><g class=\"trace scatter trace3c0750\" style=\"stroke-miterlimit: 2; opacity: 1;\"><g class=\"fills\"/><g class=\"errorbars\"/><g class=\"lines\"><path class=\"js-line\" d=\"M41.91,257.82L41.91,147.22\" style=\"vector-effect: non-scaling-stroke; fill: none; stroke: rgb(102, 102, 102); stroke-opacity: 1; stroke-width: 2px; opacity: 1;\"/><path class=\"js-line\" d=\"M41.91,257.82L65.67,257.82\" style=\"vector-effect: non-scaling-stroke; fill: none; stroke: rgb(102, 102, 102); stroke-opacity: 1; stroke-width: 2px; opacity: 1;\"/><path class=\"js-line\" d=\"M41.91,147.22L48.11,147.22\" style=\"vector-effect: non-scaling-stroke; fill: none; stroke: rgb(102, 102, 102); stroke-opacity: 1; stroke-width: 2px; opacity: 1;\"/></g><g class=\"points\"/><g class=\"text\"/></g><g class=\"trace scatter traceb4ae7b\" style=\"stroke-miterlimit: 2; opacity: 1;\"><g class=\"fills\"/><g class=\"errorbars\"/><g class=\"lines\"><path class=\"js-line\" d=\"M54.22,138.9L54.22,99.61\" style=\"vector-effect: non-scaling-stroke; fill: none; stroke: rgb(102, 102, 102); stroke-opacity: 1; stroke-width: 2px; opacity: 1;\"/><path class=\"js-line\" d=\"M54.22,138.9L110.46,138.9\" style=\"vector-effect: non-scaling-stroke; fill: none; stroke: rgb(102, 102, 102); stroke-opacity: 1; stroke-width: 2px; opacity: 1;\"/><path class=\"js-line\" d=\"M54.22,99.61L74.31,99.61\" style=\"vector-effect: non-scaling-stroke; fill: none; stroke: rgb(102, 102, 102); stroke-opacity: 1; stroke-width: 2px; opacity: 1;\"/></g><g class=\"points\"/><g class=\"text\"/></g><g class=\"trace scatter trace9a2ee6\" style=\"stroke-miterlimit: 2; opacity: 1;\"><g class=\"fills\"/><g class=\"errorbars\"/><g class=\"lines\"><path class=\"js-line\" d=\"M76.5,248L76.5,232.29\" style=\"vector-effect: non-scaling-stroke; fill: none; stroke: rgb(102, 102, 102); stroke-opacity: 1; stroke-width: 2px; opacity: 1;\"/><path class=\"js-line\" d=\"M76.5,248L92.18,248\" style=\"vector-effect: non-scaling-stroke; fill: none; stroke: rgb(102, 102, 102); stroke-opacity: 1; stroke-width: 2px; opacity: 1;\"/><path class=\"js-line\" d=\"M76.5,232.29L276.73,232.29\" style=\"vector-effect: non-scaling-stroke; fill: none; stroke: rgb(102, 102, 102); stroke-opacity: 1; stroke-width: 2px; opacity: 1;\"/></g><g class=\"points\"/><g class=\"text\"/></g><g class=\"trace scatter trace5ca465\" style=\"stroke-miterlimit: 2; opacity: 1;\"><g class=\"fills\"/><g class=\"errorbars\"/><g class=\"lines\"><path class=\"js-line\" d=\"M148.55,194.98L148.55,175.56\" style=\"vector-effect: non-scaling-stroke; fill: none; stroke: rgb(102, 102, 102); stroke-opacity: 1; stroke-width: 2px; opacity: 1;\"/><path class=\"js-line\" d=\"M148.55,194.98L156.03,194.98\" style=\"vector-effect: non-scaling-stroke; fill: none; stroke: rgb(102, 102, 102); stroke-opacity: 1; stroke-width: 2px; opacity: 1;\"/><path class=\"js-line\" d=\"M148.55,175.56L276.73,175.56\" style=\"vector-effect: non-scaling-stroke; fill: none; stroke: rgb(102, 102, 102); stroke-opacity: 1; stroke-width: 2px; opacity: 1;\"/></g><g class=\"points\"/><g class=\"text\"/></g><g class=\"trace scatter trace249527\" style=\"stroke-miterlimit: 2; opacity: 1;\"><g class=\"fills\"/><g class=\"errorbars\"/><g class=\"lines\"><path class=\"js-line\" d=\"M18.84,202.52L18.84,65.56\" style=\"vector-effect: non-scaling-stroke; fill: none; stroke: rgb(102, 102, 102); stroke-opacity: 1; stroke-width: 2px; opacity: 1;\"/><path class=\"js-line\" d=\"M18.84,202.52L41.91,202.52\" style=\"vector-effect: non-scaling-stroke; fill: none; stroke: rgb(102, 102, 102); stroke-opacity: 1; stroke-width: 2px; opacity: 1;\"/><path class=\"js-line\" d=\"M18.84,65.56L30.39,65.56\" style=\"vector-effect: non-scaling-stroke; fill: none; stroke: rgb(102, 102, 102); stroke-opacity: 1; stroke-width: 2px; opacity: 1;\"/></g><g class=\"points\"/><g class=\"text\"/></g><g class=\"trace scatter trace7fa82d\" style=\"stroke-miterlimit: 2; opacity: 1;\"><g class=\"fills\"/><g class=\"errorbars\"/><g class=\"lines\"><path class=\"js-line\" d=\"M125.36,60.32L125.36,49.84\" style=\"vector-effect: non-scaling-stroke; fill: none; stroke: rgb(102, 102, 102); stroke-opacity: 1; stroke-width: 2px; opacity: 1;\"/><path class=\"js-line\" d=\"M125.36,60.32L276.73,60.32\" style=\"vector-effect: non-scaling-stroke; fill: none; stroke: rgb(102, 102, 102); stroke-opacity: 1; stroke-width: 2px; opacity: 1;\"/><path class=\"js-line\" d=\"M125.36,49.84L276.73,49.84\" style=\"vector-effect: non-scaling-stroke; fill: none; stroke: rgb(102, 102, 102); stroke-opacity: 1; stroke-width: 2px; opacity: 1;\"/></g><g class=\"points\"/><g class=\"text\"/></g><g class=\"trace scatter trace224efb\" style=\"stroke-miterlimit: 2; opacity: 1;\"><g class=\"fills\"/><g class=\"errorbars\"/><g class=\"lines\"><path class=\"js-line\" d=\"M76.43,300.39L76.43,268.96\" style=\"vector-effect: non-scaling-stroke; fill: none; stroke: rgb(102, 102, 102); stroke-opacity: 1; stroke-width: 2px; opacity: 1;\"/><path class=\"js-line\" d=\"M76.43,300.39L98.64,300.39\" style=\"vector-effect: non-scaling-stroke; fill: none; stroke: rgb(102, 102, 102); stroke-opacity: 1; stroke-width: 2px; opacity: 1;\"/><path class=\"js-line\" d=\"M76.43,268.96L86.53,268.96\" style=\"vector-effect: non-scaling-stroke; fill: none; stroke: rgb(102, 102, 102); stroke-opacity: 1; stroke-width: 2px; opacity: 1;\"/></g><g class=\"points\"/><g class=\"text\"/></g><g class=\"trace scatter trace229b58\" style=\"stroke-miterlimit: 2; opacity: 1;\"><g class=\"fills\"><g><path class=\"js-fill\" d=\"M276.73,295.15L185.16,295.15L185.16,284.67L276.73,284.67Z\" style=\"fill: rgb(102, 102, 102); fill-opacity: 0.5; stroke-width: 0;\"/></g></g><g class=\"errorbars\"/><g class=\"lines\"><path class=\"js-line\" d=\"M276.73,295.15L185.16,295.15L185.16,284.67L276.73,284.67\" style=\"vector-effect: non-scaling-stroke; fill: none; stroke: rgb(102, 102, 102); stroke-opacity: 1; stroke-width: 2px; opacity: 1;\"/></g><g class=\"points\"/><g class=\"text\"/></g><g class=\"trace scatter trace7fc4ca\" style=\"stroke-miterlimit: 2; opacity: 1;\"><g class=\"fills\"/><g class=\"errorbars\"/><g class=\"lines\"><path class=\"js-line\" d=\"M65.67,284.67L65.67,230.98\" style=\"vector-effect: non-scaling-stroke; fill: none; stroke: rgb(102, 102, 102); stroke-opacity: 1; stroke-width: 2px; opacity: 1;\"/><path class=\"js-line\" d=\"M65.67,284.67L76.43,284.67\" style=\"vector-effect: non-scaling-stroke; fill: none; stroke: rgb(102, 102, 102); stroke-opacity: 1; stroke-width: 2px; opacity: 1;\"/><path class=\"js-line\" d=\"M65.67,230.98L72.92,230.98\" style=\"vector-effect: non-scaling-stroke; fill: none; stroke: rgb(102, 102, 102); stroke-opacity: 1; stroke-width: 2px; opacity: 1;\"/></g><g class=\"points\"/><g class=\"text\"/></g><g class=\"trace scatter trace4d62e9\" style=\"stroke-miterlimit: 2; opacity: 1;\"><g class=\"fills\"/><g class=\"errorbars\"/><g class=\"lines\"><path class=\"js-line\" d=\"M156.03,203.93L156.03,186.04\" style=\"vector-effect: non-scaling-stroke; fill: none; stroke: rgb(102, 102, 102); stroke-opacity: 1; stroke-width: 2px; opacity: 1;\"/><path class=\"js-line\" d=\"M156.03,203.93L215.66,203.93\" style=\"vector-effect: non-scaling-stroke; fill: none; stroke: rgb(102, 102, 102); stroke-opacity: 1; stroke-width: 2px; opacity: 1;\"/><path class=\"js-line\" d=\"M156.03,186.04L276.73,186.04\" style=\"vector-effect: non-scaling-stroke; fill: none; stroke: rgb(102, 102, 102); stroke-opacity: 1; stroke-width: 2px; opacity: 1;\"/></g><g class=\"points\"/><g class=\"text\"/></g><g class=\"trace scatter trace319c4d\" style=\"stroke-miterlimit: 2; opacity: 1;\"><g class=\"fills\"/><g class=\"errorbars\"/><g class=\"lines\"><path class=\"js-line\" d=\"M92.18,253.24L92.18,242.76\" style=\"vector-effect: non-scaling-stroke; fill: none; stroke: rgb(102, 102, 102); stroke-opacity: 1; stroke-width: 2px; opacity: 1;\"/><path class=\"js-line\" d=\"M92.18,253.24L276.73,253.24\" style=\"vector-effect: non-scaling-stroke; fill: none; stroke: rgb(102, 102, 102); stroke-opacity: 1; stroke-width: 2px; opacity: 1;\"/><path class=\"js-line\" d=\"M92.18,242.76L276.73,242.76\" style=\"vector-effect: non-scaling-stroke; fill: none; stroke: rgb(102, 102, 102); stroke-opacity: 1; stroke-width: 2px; opacity: 1;\"/></g><g class=\"points\"/><g class=\"text\"/></g><g class=\"trace scatter trace13e849\" style=\"stroke-miterlimit: 2; opacity: 1;\"><g class=\"fills\"/><g class=\"errorbars\"/><g class=\"lines\"><path class=\"js-line\" d=\"M30.39,76.04L30.39,55.08\" style=\"vector-effect: non-scaling-stroke; fill: none; stroke: rgb(102, 102, 102); stroke-opacity: 1; stroke-width: 2px; opacity: 1;\"/><path class=\"js-line\" d=\"M30.39,76.04L177.9,76.04\" style=\"vector-effect: non-scaling-stroke; fill: none; stroke: rgb(102, 102, 102); stroke-opacity: 1; stroke-width: 2px; opacity: 1;\"/><path class=\"js-line\" d=\"M30.39,55.08L125.36,55.08\" style=\"vector-effect: non-scaling-stroke; fill: none; stroke: rgb(102, 102, 102); stroke-opacity: 1; stroke-width: 2px; opacity: 1;\"/></g><g class=\"points\"/><g class=\"text\"/></g><g class=\"trace scatter trace882df1\" style=\"stroke-miterlimit: 2; opacity: 1;\"><g class=\"fills\"><g><path class=\"js-fill\" d=\"M276.73,81.27L177.9,81.27L177.9,70.8L276.73,70.8Z\" style=\"fill: rgb(102, 102, 102); fill-opacity: 0.5; stroke-width: 0;\"/></g></g><g class=\"errorbars\"/><g class=\"lines\"><path class=\"js-line\" d=\"M276.73,81.27L177.9,81.27L177.9,70.8L276.73,70.8\" style=\"vector-effect: non-scaling-stroke; fill: none; stroke: rgb(102, 102, 102); stroke-opacity: 1; stroke-width: 2px; opacity: 1;\"/></g><g class=\"points\"/><g class=\"text\"/></g><g class=\"trace scatter trace531f19\" style=\"stroke-miterlimit: 2; opacity: 1;\"><g class=\"fills\"/><g class=\"errorbars\"/><g class=\"lines\"/><g class=\"points\"><path class=\"point plotly-customdata\" transform=\"translate(72.92,230.98)\" d=\"M2,0A2,2 0 1,1 0,-2A2,2 0 0,1 2,0Z\" style=\"opacity: 0.7; stroke-width: 1px; fill: rgb(102, 102, 102); fill-opacity: 1; stroke: rgb(255, 255, 255); stroke-opacity: 1;\"/><path class=\"point plotly-customdata\" transform=\"translate(30.39,65.56)\" d=\"M4,0A4,4 0 1,1 0,-4A4,4 0 0,1 4,0Z\" style=\"opacity: 0.7; stroke-width: 1px; fill: rgb(102, 102, 102); fill-opacity: 1; stroke: rgb(255, 255, 255); stroke-opacity: 1;\"/><path class=\"point plotly-customdata\" transform=\"translate(48.11,147.22)\" d=\"M2,0A2,2 0 1,1 0,-2A2,2 0 0,1 2,0Z\" style=\"opacity: 0.7; stroke-width: 1px; fill: rgb(102, 102, 102); fill-opacity: 1; stroke: rgb(255, 255, 255); stroke-opacity: 1;\"/><path class=\"point plotly-customdata\" transform=\"translate(179.36,107.47)\" d=\"M4,0A4,4 0 1,1 0,-4A4,4 0 0,1 4,0Z\" style=\"opacity: 0.7; stroke-width: 1px; fill: rgb(102, 102, 102); fill-opacity: 1; stroke: rgb(255, 255, 255); stroke-opacity: 1;\"/><path class=\"point plotly-customdata\" transform=\"translate(177.9,76.04)\" d=\"M4,0A4,4 0 1,1 0,-4A4,4 0 0,1 4,0Z\" style=\"opacity: 0.7; stroke-width: 1px; fill: rgb(102, 102, 102); fill-opacity: 1; stroke: rgb(255, 255, 255); stroke-opacity: 1;\"/><path class=\"point plotly-customdata\" transform=\"translate(98.64,300.39)\" d=\"M4,0A4,4 0 1,1 0,-4A4,4 0 0,1 4,0Z\" style=\"opacity: 0.7; stroke-width: 1px; fill: rgb(102, 102, 102); fill-opacity: 1; stroke: rgb(255, 255, 255); stroke-opacity: 1;\"/><path class=\"point plotly-customdata\" transform=\"translate(110.46,138.9)\" d=\"M4,0A4,4 0 1,1 0,-4A4,4 0 0,1 4,0Z\" style=\"opacity: 0.7; stroke-width: 1px; fill: rgb(102, 102, 102); fill-opacity: 1; stroke: rgb(255, 255, 255); stroke-opacity: 1;\"/><path class=\"point plotly-customdata\" transform=\"translate(74.31,99.61)\" d=\"M4,0A4,4 0 1,1 0,-4A4,4 0 0,1 4,0Z\" style=\"opacity: 0.7; stroke-width: 1px; fill: rgb(102, 102, 102); fill-opacity: 1; stroke: rgb(255, 255, 255); stroke-opacity: 1;\"/><path class=\"point plotly-customdata\" transform=\"translate(77.06,175.18)\" d=\"M4,0A4,4 0 1,1 0,-4A4,4 0 0,1 4,0Z\" style=\"opacity: 0.7; stroke-width: 1px; fill: rgb(102, 102, 102); fill-opacity: 1; stroke: rgb(255, 255, 255); stroke-opacity: 1;\"/><path class=\"point plotly-customdata\" transform=\"translate(157.2,128.42)\" d=\"M4,0A4,4 0 1,1 0,-4A4,4 0 0,1 4,0Z\" style=\"opacity: 0.7; stroke-width: 1px; fill: rgb(102, 102, 102); fill-opacity: 1; stroke: rgb(255, 255, 255); stroke-opacity: 1;\"/><path class=\"point plotly-customdata\" transform=\"translate(86.53,268.96)\" d=\"M2,0A2,2 0 1,1 0,-2A2,2 0 0,1 2,0Z\" style=\"opacity: 0.7; stroke-width: 1px; fill: rgb(102, 102, 102); fill-opacity: 1; stroke: rgb(255, 255, 255); stroke-opacity: 1;\"/><path class=\"point plotly-customdata\" transform=\"translate(215.66,203.93)\" d=\"M4,0A4,4 0 1,1 0,-4A4,4 0 0,1 4,0Z\" style=\"opacity: 0.7; stroke-width: 1px; fill: rgb(102, 102, 102); fill-opacity: 1; stroke: rgb(255, 255, 255); stroke-opacity: 1;\"/><path class=\"point plotly-customdata\" transform=\"translate(164.29,149.37)\" d=\"M4,0A4,4 0 1,1 0,-4A4,4 0 0,1 4,0Z\" style=\"opacity: 0.7; stroke-width: 1px; fill: rgb(102, 102, 102); fill-opacity: 1; stroke: rgb(255, 255, 255); stroke-opacity: 1;\"/><path class=\"point plotly-customdata\" transform=\"translate(41.91,202.52)\" d=\"M4,0A4,4 0 1,1 0,-4A4,4 0 0,1 4,0Z\" style=\"opacity: 0.7; stroke-width: 1px; fill: rgb(102, 102, 102); fill-opacity: 1; stroke: rgb(255, 255, 255); stroke-opacity: 1;\"/><path class=\"point plotly-customdata\" transform=\"translate(76.5,240.14)\" d=\"M2,0A2,2 0 1,1 0,-2A2,2 0 0,1 2,0Z\" style=\"opacity: 0.7; stroke-width: 1px; fill: rgb(102, 102, 102); fill-opacity: 1; stroke: rgb(255, 255, 255); stroke-opacity: 1;\"/><path class=\"point plotly-customdata\" transform=\"translate(54.22,119.25)\" d=\"M2,0A2,2 0 1,1 0,-2A2,2 0 0,1 2,0Z\" style=\"opacity: 0.7; stroke-width: 1px; fill: rgb(102, 102, 102); fill-opacity: 1; stroke: rgb(255, 255, 255); stroke-opacity: 1;\"/><path class=\"point plotly-customdata\" transform=\"translate(148.55,185.27)\" d=\"M4,0A4,4 0 1,1 0,-4A4,4 0 0,1 4,0Z\" style=\"opacity: 0.7; stroke-width: 1px; fill: rgb(102, 102, 102); fill-opacity: 1; stroke: rgb(255, 255, 255); stroke-opacity: 1;\"/><path class=\"point plotly-customdata\" transform=\"translate(18.84,134.04)\" d=\"M4,0A4,4 0 1,1 0,-4A4,4 0 0,1 4,0Z\" style=\"opacity: 0.7; stroke-width: 1px; fill: rgb(102, 102, 102); fill-opacity: 1; stroke: rgb(255, 255, 255); stroke-opacity: 1;\"/><path class=\"point plotly-customdata\" transform=\"translate(125.36,55.08)\" d=\"M4,0A4,4 0 1,1 0,-4A4,4 0 0,1 4,0Z\" style=\"opacity: 0.7; stroke-width: 1px; fill: rgb(102, 102, 102); fill-opacity: 1; stroke: rgb(255, 255, 255); stroke-opacity: 1;\"/><path class=\"point plotly-customdata\" transform=\"translate(76.43,284.67)\" d=\"M2,0A2,2 0 1,1 0,-2A2,2 0 0,1 2,0Z\" style=\"opacity: 0.7; stroke-width: 1px; fill: rgb(102, 102, 102); fill-opacity: 1; stroke: rgb(255, 255, 255); stroke-opacity: 1;\"/><path class=\"point plotly-customdata\" transform=\"translate(185.16,289.91)\" d=\"M4,0A4,4 0 1,1 0,-4A4,4 0 0,1 4,0Z\" style=\"opacity: 0.7; stroke-width: 1px; fill: rgb(102, 102, 102); fill-opacity: 1; stroke: rgb(255, 255, 255); stroke-opacity: 1;\"/><path class=\"point plotly-customdata\" transform=\"translate(65.67,257.82)\" d=\"M2,0A2,2 0 1,1 0,-2A2,2 0 0,1 2,0Z\" style=\"opacity: 0.7; stroke-width: 1px; fill: rgb(102, 102, 102); fill-opacity: 1; stroke: rgb(255, 255, 255); stroke-opacity: 1;\"/><path class=\"point plotly-customdata\" transform=\"translate(156.03,194.98)\" d=\"M2,0A2,2 0 1,1 0,-2A2,2 0 0,1 2,0Z\" style=\"opacity: 0.7; stroke-width: 1px; fill: rgb(102, 102, 102); fill-opacity: 1; stroke: rgb(255, 255, 255); stroke-opacity: 1;\"/><path class=\"point plotly-customdata\" transform=\"translate(92.18,248)\" d=\"M4,0A4,4 0 1,1 0,-4A4,4 0 0,1 4,0Z\" style=\"opacity: 0.7; stroke-width: 1px; fill: rgb(102, 102, 102); fill-opacity: 1; stroke: rgb(255, 255, 255); stroke-opacity: 1;\"/><path class=\"point plotly-customdata\" transform=\"translate(194.56,310.86)\" d=\"M4,0A4,4 0 1,1 0,-4A4,4 0 0,1 4,0Z\" style=\"opacity: 0.7; stroke-width: 1px; fill: rgb(102, 102, 102); fill-opacity: 1; stroke: rgb(255, 255, 255); stroke-opacity: 1;\"/></g><g class=\"text\"/></g><g class=\"trace scatter trace86ccba\" style=\"stroke-miterlimit: 2; opacity: 1;\"><g class=\"fills\"/><g class=\"errorbars\"/><g class=\"lines\"/><g class=\"points\"><path class=\"point\" transform=\"translate(23.03,337.05)\" d=\"M0,4.2V-4.2\" style=\"opacity: 1; stroke-width: 1px; fill: rgb(0, 128, 0); fill-opacity: 1; stroke: rgb(0, 128, 0); stroke-opacity: 1;\"/></g><g class=\"text\"/></g></g></g><g class=\"overplot\"/><path class=\"xlines-above crisp\" d=\"M0,0\" style=\"fill: none;\"/><path class=\"ylines-above crisp\" d=\"M0,0\" style=\"fill: none;\"/><g class=\"overlines-above\"/><g class=\"xaxislayer-above\"><g class=\"x2tick\"><text text-anchor=\"middle\" x=\"0\" y=\"463\" transform=\"translate(93.33,0)\" style=\"font-family: 'Open Sans', verdana, arial, sans-serif; font-size: 12px; fill: rgb(68, 68, 68); fill-opacity: 1; white-space: pre;\">0.8</text></g><g class=\"x2tick\"><text text-anchor=\"middle\" x=\"0\" y=\"463\" transform=\"translate(151.68,0)\" style=\"font-family: 'Open Sans', verdana, arial, sans-serif; font-size: 12px; fill: rgb(68, 68, 68); fill-opacity: 1; white-space: pre;\">0.6</text></g><g class=\"x2tick\"><text text-anchor=\"middle\" x=\"0\" y=\"463\" transform=\"translate(210.03,0)\" style=\"font-family: 'Open Sans', verdana, arial, sans-serif; font-size: 12px; fill: rgb(68, 68, 68); fill-opacity: 1; white-space: pre;\">0.4</text></g><g class=\"x2tick\"><text text-anchor=\"middle\" x=\"0\" y=\"463\" transform=\"translate(268.38,0)\" style=\"font-family: 'Open Sans', verdana, arial, sans-serif; font-size: 12px; fill: rgb(68, 68, 68); fill-opacity: 1; white-space: pre;\">0.2</text></g><g class=\"x2tick\"><text text-anchor=\"middle\" x=\"0\" y=\"463\" transform=\"translate(326.73,0)\" style=\"font-family: 'Open Sans', verdana, arial, sans-serif; font-size: 12px; fill: rgb(68, 68, 68); fill-opacity: 1; white-space: pre;\">0</text></g></g><g class=\"yaxislayer-above\"/><g class=\"overaxes-above\"/></g></g><g class=\"polarlayer\"/><g class=\"ternarylayer\"/><g class=\"geolayer\"/><g class=\"funnelarealayer\"/><g class=\"pielayer\"/><g class=\"treemaplayer\"/><g class=\"sunburstlayer\"/><g class=\"glimages\"/><defs id=\"topdefs-64d39c\"><g class=\"clips\"/></defs><g class=\"layer-above\"><g class=\"imagelayer\"/><g class=\"shapelayer\"/></g><g class=\"infolayer\"><g class=\"cbe72f09 colorbar\" transform=\"translate(50,60)\"><rect class=\"cbbg\" x=\"569.5\" y=\"-0.5\" width=\"68.03125\" height=\"391\" style=\"fill: rgb(0, 0, 0); fill-opacity: 0; stroke: rgb(68, 68, 68); stroke-opacity: 1; stroke-width: 0;\"/><g class=\"cbfills\" transform=\"translate(0,10)\"><rect class=\"cbfill\" x=\"580\" width=\"30\" y=\"0\" height=\"370\" style=\"fill: url('#g64d39c-cbe72f09');\"/></g><g class=\"cblines\" transform=\"translate(0,10)\"/><g class=\"cbaxis crisp\" transform=\"translate(0,-60)\"><g class=\"ycbe72f09tick\"><text text-anchor=\"start\" x=\"613.4\" y=\"4.199999999999999\" transform=\"translate(0,440)\" style=\"font-family: 'Open Sans', verdana, arial, sans-serif; font-size: 12px; fill: rgb(68, 68, 68); fill-opacity: 1; white-space: pre;\">0</text></g><g class=\"ycbe72f09tick\"><text text-anchor=\"start\" x=\"613.4\" y=\"4.199999999999999\" transform=\"translate(0,398.1)\" style=\"font-family: 'Open Sans', verdana, arial, sans-serif; font-size: 12px; fill: rgb(68, 68, 68); fill-opacity: 1; white-space: pre;\">0.1</text></g><g class=\"ycbe72f09tick\"><text text-anchor=\"start\" x=\"613.4\" y=\"4.199999999999999\" transform=\"translate(0,356.2)\" style=\"font-family: 'Open Sans', verdana, arial, sans-serif; font-size: 12px; fill: rgb(68, 68, 68); fill-opacity: 1; white-space: pre;\">0.2</text></g><g class=\"ycbe72f09tick\"><text text-anchor=\"start\" x=\"613.4\" y=\"4.199999999999999\" transform=\"translate(0,314.3)\" style=\"font-family: 'Open Sans', verdana, arial, sans-serif; font-size: 12px; fill: rgb(68, 68, 68); fill-opacity: 1; white-space: pre;\">0.3</text></g><g class=\"ycbe72f09tick\"><text text-anchor=\"start\" x=\"613.4\" y=\"4.199999999999999\" transform=\"translate(0,272.39)\" style=\"font-family: 'Open Sans', verdana, arial, sans-serif; font-size: 12px; fill: rgb(68, 68, 68); fill-opacity: 1; white-space: pre;\">0.4</text></g><g class=\"ycbe72f09tick\"><text text-anchor=\"start\" x=\"613.4\" y=\"4.199999999999999\" transform=\"translate(0,230.49)\" style=\"font-family: 'Open Sans', verdana, arial, sans-serif; font-size: 12px; fill: rgb(68, 68, 68); fill-opacity: 1; white-space: pre;\">0.5</text></g><g class=\"ycbe72f09tick\"><text text-anchor=\"start\" x=\"613.4\" y=\"4.199999999999999\" transform=\"translate(0,188.59)\" style=\"font-family: 'Open Sans', verdana, arial, sans-serif; font-size: 12px; fill: rgb(68, 68, 68); fill-opacity: 1; white-space: pre;\">0.6</text></g><g class=\"ycbe72f09tick\"><text text-anchor=\"start\" x=\"613.4\" y=\"4.199999999999999\" transform=\"translate(0,146.69)\" style=\"font-family: 'Open Sans', verdana, arial, sans-serif; font-size: 12px; fill: rgb(68, 68, 68); fill-opacity: 1; white-space: pre;\">0.7</text></g><g class=\"ycbe72f09tick\"><text text-anchor=\"start\" x=\"613.4\" y=\"4.199999999999999\" transform=\"translate(0,104.78999999999999)\" style=\"font-family: 'Open Sans', verdana, arial, sans-serif; font-size: 12px; fill: rgb(68, 68, 68); fill-opacity: 1; white-space: pre;\">0.8</text></g></g><g class=\"cbtitleunshift\" transform=\"translate(-50,-60)\"><g class=\"cbtitle\"/></g><rect class=\"cboutline\" x=\"580\" y=\"10\" width=\"30\" height=\"370\" style=\"stroke: rgb(68, 68, 68); stroke-opacity: 1; fill: none; stroke-width: 1;\"/></g><g class=\"g-gtitle\"/><g class=\"g-x2title\"/></g></svg>"
      ],
      "text/html": [
       "<div\n",
       "    class=\"webio-mountpoint\"\n",
       "    data-webio-mountpoint=\"13044202507297325429\"\n",
       ">\n",
       "    <script>\n",
       "    if (window.require && require.defined && require.defined(\"nbextensions/webio-jupyter-notebook\")) {\n",
       "        console.log(\"Jupyter WebIO extension detected, not mounting.\");\n",
       "    } else if (window.WebIO) {\n",
       "        WebIO.mount(\n",
       "            document.querySelector('[data-webio-mountpoint=\"13044202507297325429\"]'),\n",
       "            {\"props\":{},\"nodeType\":\"Scope\",\"type\":\"node\",\"instanceArgs\":{\"imports\":{\"data\":[{\"name\":\"Plotly\",\"type\":\"js\",\"url\":\"\\/assetserver\\/e6903599031aaef8675931dfcd7df98a1aeffbfc-plotly-latest.min.js\"},{\"name\":null,\"type\":\"js\",\"url\":\"\\/assetserver\\/74a5dea81f21b0b802ef1ee92f1c8a504eac1a0c-plotly_webio.bundle.js\"}],\"type\":\"async_block\"},\"id\":\"4478251544696184620\",\"handlers\":{\"_toImage\":[\"(function (options){return this.Plotly.toImage(this.plotElem,options).then((function (data){return WebIO.setval({\\\"name\\\":\\\"image\\\",\\\"scope\\\":\\\"4478251544696184620\\\",\\\"id\\\":\\\"10849853789087120450\\\",\\\"type\\\":\\\"observable\\\"},data)}))})\"],\"__get_gd_contents\":[\"(function (prop){prop==\\\"data\\\" ? (WebIO.setval({\\\"name\\\":\\\"__gd_contents\\\",\\\"scope\\\":\\\"4478251544696184620\\\",\\\"id\\\":\\\"12857834621767924597\\\",\\\"type\\\":\\\"observable\\\"},this.plotElem.data)) : undefined; return prop==\\\"layout\\\" ? (WebIO.setval({\\\"name\\\":\\\"__gd_contents\\\",\\\"scope\\\":\\\"4478251544696184620\\\",\\\"id\\\":\\\"12857834621767924597\\\",\\\"type\\\":\\\"observable\\\"},this.plotElem.layout)) : undefined})\"],\"_downloadImage\":[\"(function (options){return this.Plotly.downloadImage(this.plotElem,options)})\"],\"_commands\":[\"(function (args){var fn=args.shift(); var elem=this.plotElem; var Plotly=this.Plotly; args.unshift(elem); return Plotly[fn].apply(this,args)})\"]},\"systemjs_options\":null,\"mount_callbacks\":[\"function () {\\n    var handler = ((function (Plotly,PlotlyWebIO){PlotlyWebIO.init(WebIO); var gd=this.dom.querySelector(\\\"#plot-d8104229-2db3-4c2b-bb85-a3610f732f52\\\"); this.plotElem=gd; this.Plotly=Plotly; (window.Blink!==undefined) ? (gd.style.width=\\\"100%\\\", gd.style.height=\\\"100vh\\\", gd.style.marginLeft=\\\"0%\\\", gd.style.marginTop=\\\"0vh\\\") : undefined; window.onresize=(function (){return Plotly.Plots.resize(gd)}); Plotly.newPlot(gd,[{\\\"y\\\":[0.5,2.5,4.5,5.5,6.5,7.5,8.5,9.5,10.5,12.914213562373096,13.914213562373096,14.914213562373096,15.914213562373096,17.914213562373096,18.914213562373096,19.914213562373096,21.914213562373096,22.914213562373096,24.914213562373096,25.914213562373096,26.914213562373096],\\\"type\\\":\\\"heatmap\\\",\\\"colorscale\\\":[[0.0,\\\"#000004\\\"],[0.00392156862745098,\\\"#010005\\\"],[0.00784313725490196,\\\"#010106\\\"],[0.011764705882352941,\\\"#010108\\\"],[0.01568627450980392,\\\"#020109\\\"],[0.0196078431372549,\\\"#02020B\\\"],[0.023529411764705882,\\\"#02020D\\\"],[0.027450980392156862,\\\"#03030F\\\"],[0.03137254901960784,\\\"#030312\\\"],[0.03529411764705882,\\\"#040414\\\"],[0.0392156862745098,\\\"#050416\\\"],[0.043137254901960784,\\\"#060518\\\"],[0.047058823529411764,\\\"#06051A\\\"],[0.050980392156862744,\\\"#07061C\\\"],[0.054901960784313725,\\\"#08071E\\\"],[0.058823529411764705,\\\"#090720\\\"],[0.06274509803921569,\\\"#0A0822\\\"],[0.06666666666666667,\\\"#0B0924\\\"],[0.07058823529411765,\\\"#0C0926\\\"],[0.07450980392156863,\\\"#0D0A29\\\"],[0.0784313725490196,\\\"#0E0B2B\\\"],[0.08235294117647059,\\\"#100B2D\\\"],[0.08627450980392157,\\\"#110C2F\\\"],[0.09019607843137255,\\\"#120D31\\\"],[0.09411764705882353,\\\"#130D34\\\"],[0.09803921568627451,\\\"#140E36\\\"],[0.10196078431372549,\\\"#150E38\\\"],[0.10588235294117647,\\\"#160F3B\\\"],[0.10980392156862745,\\\"#180F3D\\\"],[0.11372549019607843,\\\"#19103F\\\"],[0.11764705882352941,\\\"#1A1042\\\"],[0.12156862745098039,\\\"#1C1044\\\"],[0.12549019607843137,\\\"#1D1147\\\"],[0.12941176470588237,\\\"#1E1149\\\"],[0.13333333333333333,\\\"#20114B\\\"],[0.13725490196078433,\\\"#21114E\\\"],[0.1411764705882353,\\\"#221150\\\"],[0.1450980392156863,\\\"#241253\\\"],[0.14901960784313725,\\\"#251255\\\"],[0.15294117647058825,\\\"#271258\\\"],[0.1568627450980392,\\\"#29115A\\\"],[0.1607843137254902,\\\"#2A115C\\\"],[0.16470588235294117,\\\"#2C115F\\\"],[0.16862745098039217,\\\"#2D1161\\\"],[0.17254901960784313,\\\"#2F1163\\\"],[0.17647058823529413,\\\"#311165\\\"],[0.1803921568627451,\\\"#331067\\\"],[0.1843137254901961,\\\"#341069\\\"],[0.18823529411764706,\\\"#36106B\\\"],[0.19215686274509805,\\\"#38106C\\\"],[0.19607843137254902,\\\"#390F6E\\\"],[0.2,\\\"#3B0F70\\\"],[0.20392156862745098,\\\"#3D0F71\\\"],[0.20784313725490197,\\\"#3F0F72\\\"],[0.21176470588235294,\\\"#400F74\\\"],[0.21568627450980393,\\\"#420F75\\\"],[0.2196078431372549,\\\"#440F76\\\"],[0.2235294117647059,\\\"#451077\\\"],[0.22745098039215686,\\\"#471078\\\"],[0.23137254901960785,\\\"#491078\\\"],[0.23529411764705882,\\\"#4A1079\\\"],[0.23921568627450981,\\\"#4C117A\\\"],[0.24313725490196078,\\\"#4E117B\\\"],[0.24705882352941178,\\\"#4F127B\\\"],[0.25098039215686274,\\\"#51127C\\\"],[0.2549019607843137,\\\"#52137C\\\"],[0.25882352941176473,\\\"#54137D\\\"],[0.2627450980392157,\\\"#56147D\\\"],[0.26666666666666666,\\\"#57157E\\\"],[0.27058823529411763,\\\"#59157E\\\"],[0.27450980392156865,\\\"#5A167E\\\"],[0.2784313725490196,\\\"#5C167F\\\"],[0.2823529411764706,\\\"#5D177F\\\"],[0.28627450980392155,\\\"#5F187F\\\"],[0.2901960784313726,\\\"#601880\\\"],[0.29411764705882354,\\\"#621980\\\"],[0.2980392156862745,\\\"#641A80\\\"],[0.30196078431372547,\\\"#651A80\\\"],[0.3058823529411765,\\\"#671B80\\\"],[0.30980392156862746,\\\"#681C81\\\"],[0.3137254901960784,\\\"#6A1C81\\\"],[0.3176470588235294,\\\"#6B1D81\\\"],[0.3215686274509804,\\\"#6D1D81\\\"],[0.3254901960784314,\\\"#6E1E81\\\"],[0.32941176470588235,\\\"#701F81\\\"],[0.3333333333333333,\\\"#721F81\\\"],[0.33725490196078434,\\\"#732081\\\"],[0.3411764705882353,\\\"#752181\\\"],[0.34509803921568627,\\\"#762181\\\"],[0.34901960784313724,\\\"#782281\\\"],[0.35294117647058826,\\\"#792282\\\"],[0.3568627450980392,\\\"#7B2382\\\"],[0.3607843137254902,\\\"#7C2382\\\"],[0.36470588235294116,\\\"#7E2482\\\"],[0.3686274509803922,\\\"#802582\\\"],[0.37254901960784315,\\\"#812581\\\"],[0.3764705882352941,\\\"#832681\\\"],[0.3803921568627451,\\\"#842681\\\"],[0.3843137254901961,\\\"#862781\\\"],[0.38823529411764707,\\\"#882781\\\"],[0.39215686274509803,\\\"#892881\\\"],[0.396078431372549,\\\"#8B2981\\\"],[0.4,\\\"#8C2981\\\"],[0.403921568627451,\\\"#8E2A81\\\"],[0.40784313725490196,\\\"#902A81\\\"],[0.4117647058823529,\\\"#912B81\\\"],[0.41568627450980394,\\\"#932B80\\\"],[0.4196078431372549,\\\"#942C80\\\"],[0.4235294117647059,\\\"#962C80\\\"],[0.42745098039215684,\\\"#982D80\\\"],[0.43137254901960786,\\\"#992D80\\\"],[0.43529411764705883,\\\"#9B2E7F\\\"],[0.4392156862745098,\\\"#9C2E7F\\\"],[0.44313725490196076,\\\"#9E2F7F\\\"],[0.4470588235294118,\\\"#A02F7F\\\"],[0.45098039215686275,\\\"#A1307E\\\"],[0.4549019607843137,\\\"#A3307E\\\"],[0.4588235294117647,\\\"#A5317E\\\"],[0.4627450980392157,\\\"#A6317D\\\"],[0.4666666666666667,\\\"#A8327D\\\"],[0.47058823529411764,\\\"#AA337D\\\"],[0.4745098039215686,\\\"#AB337C\\\"],[0.47843137254901963,\\\"#AD347C\\\"],[0.4823529411764706,\\\"#AE347B\\\"],[0.48627450980392156,\\\"#B0357B\\\"],[0.49019607843137253,\\\"#B2357B\\\"],[0.49411764705882355,\\\"#B3367A\\\"],[0.4980392156862745,\\\"#B5367A\\\"],[0.5019607843137255,\\\"#B73779\\\"],[0.5058823529411764,\\\"#B83779\\\"],[0.5098039215686274,\\\"#BA3878\\\"],[0.5137254901960784,\\\"#BC3978\\\"],[0.5176470588235295,\\\"#BD3977\\\"],[0.5215686274509804,\\\"#BF3A77\\\"],[0.5254901960784314,\\\"#C03A76\\\"],[0.5294117647058824,\\\"#C23B75\\\"],[0.5333333333333333,\\\"#C43C75\\\"],[0.5372549019607843,\\\"#C53C74\\\"],[0.5411764705882353,\\\"#C73D73\\\"],[0.5450980392156862,\\\"#C83E73\\\"],[0.5490196078431373,\\\"#CA3E72\\\"],[0.5529411764705883,\\\"#CC3F71\\\"],[0.5568627450980392,\\\"#CD4071\\\"],[0.5607843137254902,\\\"#CF4070\\\"],[0.5647058823529412,\\\"#D0416F\\\"],[0.5686274509803921,\\\"#D2426F\\\"],[0.5725490196078431,\\\"#D3436E\\\"],[0.5764705882352941,\\\"#D5446D\\\"],[0.5803921568627451,\\\"#D6456C\\\"],[0.5843137254901961,\\\"#D8456C\\\"],[0.5882352941176471,\\\"#D9466B\\\"],[0.592156862745098,\\\"#DB476A\\\"],[0.596078431372549,\\\"#DC4869\\\"],[0.6,\\\"#DE4968\\\"],[0.6039215686274509,\\\"#DF4A68\\\"],[0.6078431372549019,\\\"#E04C67\\\"],[0.611764705882353,\\\"#E24D66\\\"],[0.615686274509804,\\\"#E34E65\\\"],[0.6196078431372549,\\\"#E44F64\\\"],[0.6235294117647059,\\\"#E55064\\\"],[0.6274509803921569,\\\"#E75263\\\"],[0.6313725490196078,\\\"#E85362\\\"],[0.6352941176470588,\\\"#E95462\\\"],[0.6392156862745098,\\\"#EA5661\\\"],[0.6431372549019608,\\\"#EB5760\\\"],[0.6470588235294118,\\\"#EC5860\\\"],[0.6509803921568628,\\\"#ED5A5F\\\"],[0.6549019607843137,\\\"#EE5B5E\\\"],[0.6588235294117647,\\\"#EF5D5E\\\"],[0.6627450980392157,\\\"#F05F5E\\\"],[0.6666666666666666,\\\"#F1605D\\\"],[0.6705882352941176,\\\"#F2625D\\\"],[0.6745098039215687,\\\"#F2645C\\\"],[0.6784313725490196,\\\"#F3655C\\\"],[0.6823529411764706,\\\"#F4675C\\\"],[0.6862745098039216,\\\"#F4695C\\\"],[0.6901960784313725,\\\"#F56B5C\\\"],[0.6941176470588235,\\\"#F66C5C\\\"],[0.6980392156862745,\\\"#F66E5C\\\"],[0.7019607843137254,\\\"#F7705C\\\"],[0.7058823529411765,\\\"#F7725C\\\"],[0.7098039215686275,\\\"#F8745C\\\"],[0.7137254901960784,\\\"#F8765C\\\"],[0.7176470588235294,\\\"#F9785D\\\"],[0.7215686274509804,\\\"#F9795D\\\"],[0.7254901960784313,\\\"#F97B5D\\\"],[0.7294117647058823,\\\"#FA7D5E\\\"],[0.7333333333333333,\\\"#FA7F5E\\\"],[0.7372549019607844,\\\"#FA815F\\\"],[0.7411764705882353,\\\"#FB835F\\\"],[0.7450980392156863,\\\"#FB8560\\\"],[0.7490196078431373,\\\"#FB8761\\\"],[0.7529411764705882,\\\"#FC8961\\\"],[0.7568627450980392,\\\"#FC8A62\\\"],[0.7607843137254902,\\\"#FC8C63\\\"],[0.7647058823529411,\\\"#FC8E64\\\"],[0.7686274509803922,\\\"#FC9065\\\"],[0.7725490196078432,\\\"#FD9266\\\"],[0.7764705882352941,\\\"#FD9467\\\"],[0.7803921568627451,\\\"#FD9668\\\"],[0.7843137254901961,\\\"#FD9869\\\"],[0.788235294117647,\\\"#FD9A6A\\\"],[0.792156862745098,\\\"#FD9B6B\\\"],[0.796078431372549,\\\"#FE9D6C\\\"],[0.8,\\\"#FE9F6D\\\"],[0.803921568627451,\\\"#FEA16E\\\"],[0.807843137254902,\\\"#FEA36F\\\"],[0.8117647058823529,\\\"#FEA571\\\"],[0.8156862745098039,\\\"#FEA772\\\"],[0.8196078431372549,\\\"#FEA973\\\"],[0.8235294117647058,\\\"#FEAA74\\\"],[0.8274509803921568,\\\"#FEAC76\\\"],[0.8313725490196079,\\\"#FEAE77\\\"],[0.8352941176470589,\\\"#FEB078\\\"],[0.8392156862745098,\\\"#FEB27A\\\"],[0.8431372549019608,\\\"#FEB47B\\\"],[0.8470588235294118,\\\"#FEB67C\\\"],[0.8509803921568627,\\\"#FEB77E\\\"],[0.8549019607843137,\\\"#FEB97F\\\"],[0.8588235294117647,\\\"#FEBB81\\\"],[0.8627450980392157,\\\"#FEBD82\\\"],[0.8666666666666667,\\\"#FEBF84\\\"],[0.8705882352941177,\\\"#FEC185\\\"],[0.8745098039215686,\\\"#FEC287\\\"],[0.8784313725490196,\\\"#FEC488\\\"],[0.8823529411764706,\\\"#FEC68A\\\"],[0.8862745098039215,\\\"#FEC88C\\\"],[0.8901960784313725,\\\"#FECA8D\\\"],[0.8941176470588236,\\\"#FECC8F\\\"],[0.8980392156862745,\\\"#FECD90\\\"],[0.9019607843137255,\\\"#FECF92\\\"],[0.9058823529411765,\\\"#FED194\\\"],[0.9098039215686274,\\\"#FED395\\\"],[0.9137254901960784,\\\"#FED597\\\"],[0.9176470588235294,\\\"#FED799\\\"],[0.9215686274509803,\\\"#FED89A\\\"],[0.9254901960784314,\\\"#FDDA9C\\\"],[0.9294117647058824,\\\"#FDDC9E\\\"],[0.9333333333333333,\\\"#FDDEA0\\\"],[0.9372549019607843,\\\"#FDE0A1\\\"],[0.9411764705882353,\\\"#FDE2A3\\\"],[0.9450980392156862,\\\"#FDE3A5\\\"],[0.9490196078431372,\\\"#FDE5A7\\\"],[0.9529411764705882,\\\"#FDE7A9\\\"],[0.9568627450980393,\\\"#FDE9AA\\\"],[0.9607843137254902,\\\"#FDEBAC\\\"],[0.9647058823529412,\\\"#FCECAE\\\"],[0.9686274509803922,\\\"#FCEEB0\\\"],[0.9725490196078431,\\\"#FCF0B2\\\"],[0.9764705882352941,\\\"#FCF2B4\\\"],[0.9803921568627451,\\\"#FCF4B6\\\"],[0.984313725490196,\\\"#FCF6B8\\\"],[0.9882352941176471,\\\"#FCF7B9\\\"],[0.9921568627450981,\\\"#FCF9BB\\\"],[0.996078431372549,\\\"#FCFBBD\\\"],[1.0,\\\"#FCFDBF\\\"]],\\\"z\\\":[[0.28165805,0.6004523,0.6497644,0.6849216,0.71811765,0.71201104,0.7106294,0.7075598,0.7836982,0.7878597,0.78457075,0.781249,0.74572635,0.74970245,0.75135845,0.72275245,0.7415643,0.88109124,0.880455,0.8819484],[0.6004523,0.31387126,0.6432017,0.6835637,0.7197131,0.71697235,0.7192377,0.71301734,0.7786665,0.7832582,0.77775896,0.7750714,0.7441317,0.7394433,0.73681194,0.7232376,0.7340076,0.88038385,0.8787212,0.8806834],[0.6497644,0.6432017,0.0,0.6519186,0.7055081,0.7035492,0.70020735,0.7113814,0.7480857,0.77834636,0.7741669,0.7685575,0.7498614,0.7560024,0.7544858,0.71107024,0.7258768,0.87903094,0.8791439,0.88088715],[0.6849216,0.6835637,0.6519186,0.0,0.6999531,0.6749029,0.7150754,0.7077992,0.7768752,0.7760427,0.77933,0.7740152,0.7566121,0.75159943,0.76290363,0.719752,0.7386179,0.8817862,0.8800957,0.8806657],[0.71811765,0.7197131,0.7055081,0.6999531,0.0,0.632566,0.68197864,0.6945004,0.7962246,0.794834,0.7948709,0.79023725,0.7778121,0.78245944,0.7851055,0.75589603,0.7679279,0.88208365,0.87998277,0.8819444],[0.71201104,0.71697235,0.7035492,0.6749029,0.632566,0.0,0.6862951,0.6682604,0.7876347,0.7850122,0.7909311,0.7865048,0.76865566,0.764837,0.7744221,0.755457,0.7655332,0.8799758,0.8792896,0.8823339],[0.7106294,0.7192377,0.70020735,0.7150754,0.68197864,0.6862951,0.0,0.69856644,0.79983765,0.8011682,0.7942293,0.79439443,0.7803618,0.7848426,0.7866676,0.75173825,0.765154,0.87984616,0.8776753,0.88040787],[0.7075598,0.71301734,0.7113814,0.7077992,0.6945004,0.6682604,0.69856644,0.0,0.79677784,0.799639,0.79533875,0.7935361,0.76950294,0.77615285,0.77584875,0.75991106,0.76540005,0.88161117,0.8787586,0.88235676],[0.7836982,0.7786665,0.7480857,0.7768752,0.7962246,0.7876347,0.79983765,0.79677784,0.20932253,0.3857725,0.40923494,0.6742195,0.75546783,0.7565256,0.76026607,0.7779818,0.7528604,0.8784947,0.87535787,0.87824935],[0.7878597,0.7832582,0.77834636,0.7760427,0.794834,0.7850122,0.8011682,0.799639,0.3857725,0.0,0.4170585,0.68251216,0.75434226,0.75489175,0.76161003,0.7817385,0.75891864,0.8822382,0.8773924,0.88008195],[0.78457075,0.77775896,0.7741669,0.77933,0.7948709,0.7909311,0.7942293,0.79533875,0.40923494,0.4170585,0.0,0.6757475,0.749798,0.7596078,0.7574984,0.7749079,0.75009865,0.8784314,0.8726993,0.87603897],[0.781249,0.7750714,0.7685575,0.7740152,0.79023725,0.7865048,0.79439443,0.7935361,0.6742195,0.68251216,0.6757475,0.0,0.7538982,0.7587865,0.7585504,0.7678517,0.73222125,0.8815285,0.8789315,0.88078374],[0.74572635,0.7441317,0.7498614,0.7566121,0.7778121,0.76865566,0.7803618,0.76950294,0.75546783,0.75434226,0.749798,0.7538982,0.3853902,0.567387,0.56019783,0.7523314,0.7414527,0.87613404,0.877296,0.879056],[0.74970245,0.7394433,0.7560024,0.75159943,0.78245944,0.764837,0.7848426,0.77615285,0.7565256,0.75489175,0.7596078,0.7587865,0.567387,0.0,0.40969312,0.75953,0.74450386,0.8791419,0.8803974,0.88158804],[0.75135845,0.73681194,0.7544858,0.76290363,0.7851055,0.7744221,0.7866676,0.77584875,0.76026607,0.76161003,0.7574984,0.7585504,0.56019783,0.40969312,0.0,0.7612526,0.7384765,0.8815148,0.8813829,0.8830226],[0.72275245,0.7232376,0.71107024,0.719752,0.75589603,0.755457,0.75173825,0.75991106,0.7779818,0.7817385,0.7749079,0.7678517,0.7523314,0.75953,0.7612526,0.33375737,0.6904209,0.8797559,0.8782692,0.8808489],[0.7415643,0.7340076,0.7258768,0.7386179,0.7679279,0.7655332,0.765154,0.76540005,0.7528604,0.75891864,0.75009865,0.73222125,0.7414527,0.74450386,0.7384765,0.6904209,0.0,0.8790682,0.8767693,0.8781061],[0.88109124,0.88038385,0.87903094,0.8817862,0.88208365,0.8799758,0.87984616,0.88161117,0.8784947,0.8822382,0.8784314,0.8815285,0.87613404,0.8791419,0.8815148,0.8797559,0.8790682,0.33876356,0.8377263,0.8423159],[0.880455,0.8787212,0.8791439,0.8800957,0.87998277,0.8792896,0.8776753,0.8787586,0.87535787,0.8773924,0.8726993,0.8789315,0.877296,0.8803974,0.8813829,0.8782692,0.8767693,0.8377263,0.0,0.5188154],[0.8819484,0.8806834,0.88088715,0.8806657,0.8819444,0.8823339,0.88040787,0.88235676,0.87824935,0.88008195,0.87603897,0.88078374,0.879056,0.88158804,0.8830226,0.8808489,0.8781061,0.8423159,0.5188154,0.0]],\\\"x\\\":[0.5,2.5,4.5,5.5,6.5,7.5,8.5,9.5,10.5,12.914213562373096,13.914213562373096,14.914213562373096,15.914213562373096,17.914213562373096,18.914213562373096,19.914213562373096,21.914213562373096,22.914213562373096,24.914213562373096,25.914213562373096,26.914213562373096]},{\\\"showlegend\\\":false,\\\"mode\\\":\\\"lines\\\",\\\"xaxis\\\":\\\"x2\\\",\\\"line\\\":{\\\"color\\\":\\\"#666666\\\"},\\\"y\\\":[1.0,1.0,2.0,2.0],\\\"type\\\":\\\"scatter\\\",\\\"fill\\\":\\\"toself\\\",\\\"hoverinfo\\\":\\\"skip\\\",\\\"yaxis\\\":\\\"y\\\",\\\"x\\\":[0.0,0.2816580533981323,0.2816580533981323,0.0]},{\\\"showlegend\\\":false,\\\"mode\\\":\\\"lines\\\",\\\"xaxis\\\":\\\"x2\\\",\\\"line\\\":{\\\"color\\\":\\\"#666666\\\"},\\\"y\\\":[8.25,10.0,null,8.25,8.25,null,10.0,10.0,null],\\\"type\\\":\\\"scatter\\\",\\\"hoverinfo\\\":\\\"skip\\\",\\\"yaxis\\\":\\\"y\\\",\\\"x\\\":[0.6985664367675781,0.6985664367675781,null,0.6985664367675781,0.6862950921058655,null,0.6985664367675781,0.0,null]},{\\\"showlegend\\\":false,\\\"mode\\\":\\\"lines\\\",\\\"xaxis\\\":\\\"x2\\\",\\\"line\\\":{\\\"color\\\":\\\"#666666\\\"},\\\"y\\\":[14.450825214724777,19.789213562373096,null,14.450825214724777,14.450825214724777,null,19.789213562373096,19.789213562373096,null],\\\"type\\\":\\\"scatter\\\",\\\"hoverinfo\\\":\\\"skip\\\",\\\"yaxis\\\":\\\"y\\\",\\\"x\\\":[0.7836198806762695,0.7836198806762695,null,0.7836198806762695,0.6843859553337097,null,0.7836198806762695,0.7626786231994629,null]},{\\\"showlegend\\\":false,\\\"mode\\\":\\\"lines\\\",\\\"xaxis\\\":\\\"x2\\\",\\\"line\\\":{\\\"color\\\":\\\"#666666\\\"},\\\"y\\\":[20.414213562373096,20.414213562373096,21.414213562373096,21.414213562373096],\\\"type\\\":\\\"scatter\\\",\\\"fill\\\":\\\"toself\\\",\\\"hoverinfo\\\":\\\"skip\\\",\\\"yaxis\\\":\\\"y\\\",\\\"x\\\":[0.0,0.3337573707103729,0.3337573707103729,0.0]},{\\\"showlegend\\\":false,\\\"mode\\\":\\\"lines\\\",\\\"xaxis\\\":\\\"x2\\\",\\\"line\\\":{\\\"color\\\":\\\"#666666\\\"},\\\"y\\\":[1.5,3.5,null,1.5,1.5,null,3.5,3.5,null],\\\"type\\\":\\\"scatter\\\",\\\"hoverinfo\\\":\\\"skip\\\",\\\"yaxis\\\":\\\"y\\\",\\\"x\\\":[0.6104291081428528,0.6104291081428528,null,0.6104291081428528,0.2816580533981323,null,0.6104291081428528,0.31387126445770264,null]},{\\\"showlegend\\\":false,\\\"mode\\\":\\\"lines\\\",\\\"xaxis\\\":\\\"x2\\\",\\\"line\\\":{\\\"color\\\":\\\"#666666\\\"},\\\"y\\\":[16.914213562373096,18.914213562373096,null,16.914213562373096,16.914213562373096,null,18.914213562373096,18.914213562373096,null],\\\"type\\\":\\\"scatter\\\",\\\"hoverinfo\\\":\\\"skip\\\",\\\"yaxis\\\":\\\"y\\\",\\\"x\\\":[0.569891631603241,0.569891631603241,null,0.569891631603241,0.38539019227027893,null,0.569891631603241,0.4096931219100952,null]},{\\\"showlegend\\\":false,\\\"mode\\\":\\\"lines\\\",\\\"xaxis\\\":\\\"x2\\\",\\\"line\\\":{\\\"color\\\":\\\"#666666\\\"},\\\"y\\\":[20.914213562373096,22.414213562373096,null,20.914213562373096,20.914213562373096,null,22.414213562373096,22.414213562373096,null],\\\"type\\\":\\\"scatter\\\",\\\"hoverinfo\\\":\\\"skip\\\",\\\"yaxis\\\":\\\"y\\\",\\\"x\\\":[0.6938127875328064,0.6938127875328064,null,0.6938127875328064,0.3337573707103729,null,0.6938127875328064,0.0,null]},{\\\"showlegend\\\":false,\\\"mode\\\":\\\"lines\\\",\\\"xaxis\\\":\\\"x2\\\",\\\"line\\\":{\\\"color\\\":\\\"#666666\\\"},\\\"y\\\":[13.48743686707646,15.414213562373096,null,13.48743686707646,13.48743686707646,null,15.414213562373096,15.414213562373096,null],\\\"type\\\":\\\"scatter\\\",\\\"hoverinfo\\\":\\\"skip\\\",\\\"yaxis\\\":\\\"y\\\",\\\"x\\\":[0.6843859553337097,0.6843859553337097,null,0.6843859553337097,0.4393477737903595,null,0.6843859553337097,0.0,null]},{\\\"showlegend\\\":false,\\\"mode\\\":\\\"lines\\\",\\\"xaxis\\\":\\\"x2\\\",\\\"line\\\":{\\\"color\\\":\\\"#666666\\\"},\\\"y\\\":[18.414213562373096,19.414213562373096,null,18.414213562373096,18.414213562373096,null,19.414213562373096,19.414213562373096,null],\\\"type\\\":\\\"scatter\\\",\\\"hoverinfo\\\":\\\"skip\\\",\\\"yaxis\\\":\\\"y\\\",\\\"x\\\":[0.4096931219100952,0.4096931219100952,null,0.4096931219100952,0.0,null,0.4096931219100952,0.0,null]},{\\\"showlegend\\\":false,\\\"mode\\\":\\\"lines\\\",\\\"xaxis\\\":\\\"x2\\\",\\\"line\\\":{\\\"color\\\":\\\"#666666\\\"},\\\"y\\\":[5.0,6.0,null,5.0,5.0,null,6.0,6.0,null],\\\"type\\\":\\\"scatter\\\",\\\"hoverinfo\\\":\\\"skip\\\",\\\"yaxis\\\":\\\"y\\\",\\\"x\\\":[0.6519185900688171,0.6519185900688171,null,0.6519185900688171,0.0,null,0.6519185900688171,0.0,null]},{\\\"showlegend\\\":false,\\\"mode\\\":\\\"lines\\\",\\\"xaxis\\\":\\\"x2\\\",\\\"line\\\":{\\\"color\\\":\\\"#666666\\\"},\\\"y\\\":[11.0,11.0,12.414213562373096,12.414213562373096],\\\"type\\\":\\\"scatter\\\",\\\"fill\\\":\\\"toself\\\",\\\"hoverinfo\\\":\\\"skip\\\",\\\"yaxis\\\":\\\"y\\\",\\\"x\\\":[0.0,0.20932252705097198,0.20932252705097198,0.0]},{\\\"showlegend\\\":false,\\\"mode\\\":\\\"lines\\\",\\\"xaxis\\\":\\\"x2\\\",\\\"line\\\":{\\\"color\\\":\\\"#666666\\\"},\\\"y\\\":[16.414213562373096,16.414213562373096,17.414213562373096,17.414213562373096],\\\"type\\\":\\\"scatter\\\",\\\"fill\\\":\\\"toself\\\",\\\"hoverinfo\\\":\\\"skip\\\",\\\"yaxis\\\":\\\"y\\\",\\\"x\\\":[0.0,0.38539019227027893,0.38539019227027893,0.0]},{\\\"showlegend\\\":false,\\\"mode\\\":\\\"lines\\\",\\\"xaxis\\\":\\\"x2\\\",\\\"line\\\":{\\\"color\\\":\\\"#666666\\\"},\\\"y\\\":[6.5625,17.120019388548936,null,6.5625,6.5625,null,17.120019388548936,17.120019388548936,null],\\\"type\\\":\\\"scatter\\\",\\\"hoverinfo\\\":\\\"skip\\\",\\\"yaxis\\\":\\\"y\\\",\\\"x\\\":[0.8048612475395203,0.8048612475395203,null,0.8048612475395203,0.7234276533126831,null,0.8048612475395203,0.7836198806762695,null]},{\\\"showlegend\\\":false,\\\"mode\\\":\\\"lines\\\",\\\"xaxis\\\":\\\"x2\\\",\\\"line\\\":{\\\"color\\\":\\\"#666666\\\"},\\\"y\\\":[17.914213562373096,21.664213562373096,null,17.914213562373096,17.914213562373096,null,21.664213562373096,21.664213562373096,null],\\\"type\\\":\\\"scatter\\\",\\\"hoverinfo\\\":\\\"skip\\\",\\\"yaxis\\\":\\\"y\\\",\\\"x\\\":[0.7626786231994629,0.7626786231994629,null,0.7626786231994629,0.569891631603241,null,0.7626786231994629,0.6938127875328064,null]},{\\\"showlegend\\\":false,\\\"mode\\\":\\\"lines\\\",\\\"xaxis\\\":\\\"x2\\\",\\\"line\\\":{\\\"color\\\":\\\"#666666\\\"},\\\"y\\\":[7.5,9.0,null,7.5,7.5,null,9.0,9.0,null],\\\"type\\\":\\\"scatter\\\",\\\"hoverinfo\\\":\\\"skip\\\",\\\"yaxis\\\":\\\"y\\\",\\\"x\\\":[0.6862950921058655,0.6862950921058655,null,0.6862950921058655,0.632565975189209,null,0.6862950921058655,0.0,null]},{\\\"showlegend\\\":false,\\\"mode\\\":\\\"lines\\\",\\\"xaxis\\\":\\\"x2\\\",\\\"line\\\":{\\\"color\\\":\\\"#666666\\\"},\\\"y\\\":[12.560660171779823,14.414213562373096,null,12.560660171779823,12.560660171779823,null,14.414213562373096,14.414213562373096,null],\\\"type\\\":\\\"scatter\\\",\\\"hoverinfo\\\":\\\"skip\\\",\\\"yaxis\\\":\\\"y\\\",\\\"x\\\":[0.4393477737903595,0.4393477737903595,null,0.4393477737903595,0.4137216806411743,null,0.4393477737903595,0.0,null]},{\\\"showlegend\\\":false,\\\"mode\\\":\\\"lines\\\",\\\"xaxis\\\":\\\"x2\\\",\\\"line\\\":{\\\"color\\\":\\\"#666666\\\"},\\\"y\\\":[11.841259694274468,24.914213562373096,null,11.841259694274468,11.841259694274468,null,24.914213562373096,24.914213562373096,null],\\\"type\\\":\\\"scatter\\\",\\\"hoverinfo\\\":\\\"skip\\\",\\\"yaxis\\\":\\\"y\\\",\\\"x\\\":[0.8839429020881653,0.8839429020881653,null,0.8839429020881653,0.8048612475395203,null,0.8839429020881653,0.8443556427955627,null]},{\\\"showlegend\\\":false,\\\"mode\\\":\\\"lines\\\",\\\"xaxis\\\":\\\"x2\\\",\\\"line\\\":{\\\"color\\\":\\\"#666666\\\"},\\\"y\\\":[25.414213562373096,26.414213562373096,null,25.414213562373096,25.414213562373096,null,26.414213562373096,26.414213562373096,null],\\\"type\\\":\\\"scatter\\\",\\\"hoverinfo\\\":\\\"skip\\\",\\\"yaxis\\\":\\\"y\\\",\\\"x\\\":[0.5188153982162476,0.5188153982162476,null,0.5188153982162476,0.0,null,0.5188153982162476,0.0,null]},{\\\"showlegend\\\":false,\\\"mode\\\":\\\"lines\\\",\\\"xaxis\\\":\\\"x2\\\",\\\"line\\\":{\\\"color\\\":\\\"#666666\\\"},\\\"y\\\":[2.5,5.5,null,2.5,2.5,null,5.5,5.5,null],\\\"type\\\":\\\"scatter\\\",\\\"hoverinfo\\\":\\\"skip\\\",\\\"yaxis\\\":\\\"y\\\",\\\"x\\\":[0.6865501403808594,0.6865501403808594,null,0.6865501403808594,0.6104291081428528,null,0.6865501403808594,0.6519185900688171,null]},{\\\"showlegend\\\":false,\\\"mode\\\":\\\"lines\\\",\\\"xaxis\\\":\\\"x2\\\",\\\"line\\\":{\\\"color\\\":\\\"#666666\\\"},\\\"y\\\":[3.0,3.0,4.0,4.0],\\\"type\\\":\\\"scatter\\\",\\\"fill\\\":\\\"toself\\\",\\\"hoverinfo\\\":\\\"skip\\\",\\\"yaxis\\\":\\\"y\\\",\\\"x\\\":[0.0,0.31387126445770264,0.31387126445770264,0.0]},{\\\"showlegend\\\":false,\\\"mode\\\":\\\"lines\\\",\\\"xaxis\\\":\\\"x2\\\",\\\"line\\\":{\\\"color\\\":\\\"#666666\\\"},\\\"y\\\":[4.0,9.125,null,4.0,4.0,null,9.125,9.125,null],\\\"type\\\":\\\"scatter\\\",\\\"hoverinfo\\\":\\\"skip\\\",\\\"yaxis\\\":\\\"y\\\",\\\"x\\\":[0.7234276533126831,0.7234276533126831,null,0.7234276533126831,0.6865501403808594,null,0.7234276533126831,0.6985664367675781,null]},{\\\"showlegend\\\":false,\\\"mode\\\":\\\"lines\\\",\\\"xaxis\\\":\\\"x2\\\",\\\"line\\\":{\\\"color\\\":\\\"#666666\\\"},\\\"y\\\":[11.707106781186548,13.414213562373096,null,11.707106781186548,11.707106781186548,null,13.414213562373096,13.414213562373096,null],\\\"type\\\":\\\"scatter\\\",\\\"hoverinfo\\\":\\\"skip\\\",\\\"yaxis\\\":\\\"y\\\",\\\"x\\\":[0.4137216806411743,0.4137216806411743,null,0.4137216806411743,0.20932252705097198,null,0.4137216806411743,0.0,null]},{\\\"showlegend\\\":false,\\\"mode\\\":\\\"lines\\\",\\\"xaxis\\\":\\\"x2\\\",\\\"line\\\":{\\\"color\\\":\\\"#666666\\\"},\\\"y\\\":[7.0,8.0,null,7.0,7.0,null,8.0,8.0,null],\\\"type\\\":\\\"scatter\\\",\\\"hoverinfo\\\":\\\"skip\\\",\\\"yaxis\\\":\\\"y\\\",\\\"x\\\":[0.632565975189209,0.632565975189209,null,0.632565975189209,0.0,null,0.632565975189209,0.0,null]},{\\\"showlegend\\\":false,\\\"mode\\\":\\\"lines\\\",\\\"xaxis\\\":\\\"x2\\\",\\\"line\\\":{\\\"color\\\":\\\"#666666\\\"},\\\"y\\\":[23.914213562373096,25.914213562373096,null,23.914213562373096,23.914213562373096,null,25.914213562373096,25.914213562373096,null],\\\"type\\\":\\\"scatter\\\",\\\"hoverinfo\\\":\\\"skip\\\",\\\"yaxis\\\":\\\"y\\\",\\\"x\\\":[0.8443556427955627,0.8443556427955627,null,0.8443556427955627,0.338763564825058,null,0.8443556427955627,0.5188153982162476,null]},{\\\"showlegend\\\":false,\\\"mode\\\":\\\"lines\\\",\\\"xaxis\\\":\\\"x2\\\",\\\"line\\\":{\\\"color\\\":\\\"#666666\\\"},\\\"y\\\":[23.414213562373096,23.414213562373096,24.414213562373096,24.414213562373096],\\\"type\\\":\\\"scatter\\\",\\\"fill\\\":\\\"toself\\\",\\\"hoverinfo\\\":\\\"skip\\\",\\\"yaxis\\\":\\\"y\\\",\\\"x\\\":[0.0,0.338763564825058,0.338763564825058,0.0]},{\\\"showlegend\\\":false,\\\"mode\\\":\\\"markers\\\",\\\"xaxis\\\":\\\"x2\\\",\\\"marker\\\":{\\\"color\\\":\\\"#666666\\\",\\\"size\\\":[4,8,4,8,8,8,8,8,8,8,4,8,8,8,4,4,8,8,8,4,8,4,4,8,8]},\\\"y\\\":[9.125,24.914213562373096,17.120019388548936,20.914213562373096,23.914213562373096,2.5,17.914213562373096,21.664213562373096,14.450825214724777,18.914213562373096,5.5,11.707106781186548,16.914213562373096,11.841259694274468,8.25,19.789213562373096,13.48743686707646,18.37773662832378,25.914213562373096,4.0,3.5,6.5625,12.560660171779823,7.5,1.5],\\\"type\\\":\\\"scatter\\\",\\\"customdata\\\":[[47,4],[52,4],[50,13],[32,2],[33,2],[40,4],[39,4],[46,3],[43,6],[35,2],[42,2],[29,3],[34,2],[51,23],[44,3],[49,7],[37,5],[53,27],[38,2],[45,6],[31,2],[48,10],[36,4],[41,2],[30,2]],\\\"yaxis\\\":\\\"y\\\",\\\"hovertemplate\\\":\\\"ID: %{customdata[0]}<br>\\\\nHeight: %{x:.3f}<br>\\\\nGenome count: %{customdata[1]}\\\\n\\\\n<extra><\\/extra>\\\",\\\"x\\\":[0.6985664367675781,0.8443556427955627,0.7836198806762695,0.3337573707103729,0.338763564825058,0.6104291081428528,0.569891631603241,0.6938127875328064,0.6843859553337097,0.4096931219100952,0.6519185900688171,0.20932252705097198,0.38539019227027893,0.8048612475395203,0.6862950921058655,0.7626786231994629,0.4393477737903595,0.8839429020881653,0.5188153982162476,0.6865501403808594,0.31387126445770264,0.7234276533126831,0.4137216806411743,0.632565975189209,0.2816580533981323]},{\\\"marker\\\":{\\\"symbol\\\":\\\"line-ns\\\",\\\"color\\\":\\\"green\\\",\\\"line\\\":{\\\"color\\\":\\\"green\\\",\\\"width\\\":1}},\\\"mode\\\":\\\"markers\\\",\\\"xaxis\\\":\\\"x2\\\",\\\"y\\\":[-1,-1],\\\"type\\\":\\\"scatter\\\",\\\"text\\\":[\\\"etli\\\"],\\\"hovertemplate\\\":\\\"%{text} <br>\\\\n%{x}\\\\n<extra><\\/extra>\\\\n\\\",\\\"x\\\":[0.8695652]}],{\\\"showlegend\\\":false,\\\"xaxis\\\":{\\\"scaleanchor\\\":\\\"y\\\",\\\"visible\\\":false,\\\"domain\\\":[0.504950495049505,1.0]},\\\"hovermode\\\":\\\"closest\\\",\\\"xaxis2\\\":{\\\"rangemode\\\":\\\"nonnegative\\\",\\\"spikethickness\\\":1,\\\"showspikes\\\":true,\\\"domain\\\":[0.0,0.49504950495049505],\\\"spikemode\\\":\\\"across\\\",\\\"autorange\\\":\\\"reversed\\\",\\\"spikedash\\\":\\\"solid\\\"},\\\"height\\\":550,\\\"margin\\\":{\\\"l\\\":50,\\\"b\\\":50,\\\"r\\\":50,\\\"t\\\":60},\\\"yaxis\\\":{\\\"scaleanchor\\\":\\\"x\\\",\\\"visible\\\":false},\\\"width\\\":1000},{}); gd.on(\\\"plotly_hover\\\",(function (data){var filtered_data=WebIO.PlotlyCommands.filterEventData(gd,data,\\\"hover\\\"); return !(filtered_data.isnil) ? (WebIO.setval({\\\"name\\\":\\\"hover\\\",\\\"scope\\\":\\\"4478251544696184620\\\",\\\"id\\\":\\\"4036598120320226142\\\",\\\"type\\\":\\\"observable\\\"},filtered_data.out)) : undefined})); gd.on(\\\"plotly_unhover\\\",(function (){return WebIO.setval({\\\"name\\\":\\\"hover\\\",\\\"scope\\\":\\\"4478251544696184620\\\",\\\"id\\\":\\\"4036598120320226142\\\",\\\"type\\\":\\\"observable\\\"},{})})); gd.on(\\\"plotly_selected\\\",(function (data){var filtered_data=WebIO.PlotlyCommands.filterEventData(gd,data,\\\"selected\\\"); return !(filtered_data.isnil) ? (WebIO.setval({\\\"name\\\":\\\"selected\\\",\\\"scope\\\":\\\"4478251544696184620\\\",\\\"id\\\":\\\"432225168285747230\\\",\\\"type\\\":\\\"observable\\\"},filtered_data.out)) : undefined})); gd.on(\\\"plotly_deselect\\\",(function (){return WebIO.setval({\\\"name\\\":\\\"selected\\\",\\\"scope\\\":\\\"4478251544696184620\\\",\\\"id\\\":\\\"432225168285747230\\\",\\\"type\\\":\\\"observable\\\"},{})})); gd.on(\\\"plotly_relayout\\\",(function (data){var filtered_data=WebIO.PlotlyCommands.filterEventData(gd,data,\\\"relayout\\\"); return !(filtered_data.isnil) ? (WebIO.setval({\\\"name\\\":\\\"relayout\\\",\\\"scope\\\":\\\"4478251544696184620\\\",\\\"id\\\":\\\"6960734677830967075\\\",\\\"type\\\":\\\"observable\\\"},filtered_data.out)) : undefined})); return gd.on(\\\"plotly_click\\\",(function (data){var filtered_data=WebIO.PlotlyCommands.filterEventData(gd,data,\\\"click\\\"); return !(filtered_data.isnil) ? (WebIO.setval({\\\"name\\\":\\\"click\\\",\\\"scope\\\":\\\"4478251544696184620\\\",\\\"id\\\":\\\"14223752789404837501\\\",\\\"type\\\":\\\"observable\\\"},filtered_data.out)) : undefined}))}));\\n    (WebIO.importBlock({\\\"data\\\":[{\\\"name\\\":\\\"Plotly\\\",\\\"type\\\":\\\"js\\\",\\\"url\\\":\\\"\\/assetserver\\/e6903599031aaef8675931dfcd7df98a1aeffbfc-plotly-latest.min.js\\\"},{\\\"name\\\":null,\\\"type\\\":\\\"js\\\",\\\"url\\\":\\\"\\/assetserver\\/74a5dea81f21b0b802ef1ee92f1c8a504eac1a0c-plotly_webio.bundle.js\\\"}],\\\"type\\\":\\\"async_block\\\"})).then((imports) => handler.apply(this, imports));\\n}\\n\"],\"observables\":{\"_toImage\":{\"sync\":false,\"id\":\"9796518041414682470\",\"value\":{}},\"hover\":{\"sync\":false,\"id\":\"4036598120320226142\",\"value\":{}},\"selected\":{\"sync\":false,\"id\":\"432225168285747230\",\"value\":{}},\"__gd_contents\":{\"sync\":false,\"id\":\"12857834621767924597\",\"value\":{}},\"click\":{\"sync\":false,\"id\":\"14223752789404837501\",\"value\":{}},\"image\":{\"sync\":true,\"id\":\"10849853789087120450\",\"value\":\"\"},\"__get_gd_contents\":{\"sync\":false,\"id\":\"12508395618546171981\",\"value\":\"\"},\"_downloadImage\":{\"sync\":false,\"id\":\"9483152502888574422\",\"value\":{}},\"relayout\":{\"sync\":false,\"id\":\"6960734677830967075\",\"value\":{}},\"_commands\":{\"sync\":false,\"id\":\"11539203535134050840\",\"value\":[]}}},\"children\":[{\"props\":{\"id\":\"plot-d8104229-2db3-4c2b-bb85-a3610f732f52\"},\"nodeType\":\"DOM\",\"type\":\"node\",\"instanceArgs\":{\"namespace\":\"html\",\"tag\":\"div\"},\"children\":[]}]},\n",
       "            window,\n",
       "        );\n",
       "    } else {\n",
       "        document\n",
       "            .querySelector('[data-webio-mountpoint=\"13044202507297325429\"]')\n",
       "            .innerHTML = (\n",
       "                '<div style=\"padding: 1em; background-color: #f8d6da; border: 1px solid #f5c6cb\">' +\n",
       "                '<p><strong>WebIO not detected.</strong></p>' +\n",
       "                '<p>Please read ' +\n",
       "                '<a href=\"https://juliagizmos.github.io/WebIO.jl/latest/troubleshooting/not-detected/\" target=\"_blank\">the troubleshooting guide</a> ' +\n",
       "                'for more information on how to resolve this issue.</p>' +\n",
       "                '<p><a href=\"https://juliagizmos.github.io/WebIO.jl/latest/troubleshooting/not-detected/\" target=\"_blank\">https://juliagizmos.github.io/WebIO.jl/latest/troubleshooting/not-detected/</a></p>' +\n",
       "                '</div>'\n",
       "            );\n",
       "    }\n",
       "    </script>\n",
       "</div>\n"
      ],
      "text/plain": [
       "data: [\n",
       "  \"heatmap with fields colorscale, type, x, y, and z\",\n",
       "  \"scatter with fields fill, hoverinfo, line, mode, showlegend, type, x, xaxis, y, and yaxis\",\n",
       "  \"scatter with fields hoverinfo, line, mode, showlegend, type, x, xaxis, y, and yaxis\",\n",
       "  \"scatter with fields hoverinfo, line, mode, showlegend, type, x, xaxis, y, and yaxis\",\n",
       "  \"scatter with fields fill, hoverinfo, line, mode, showlegend, type, x, xaxis, y, and yaxis\",\n",
       "  \"scatter with fields hoverinfo, line, mode, showlegend, type, x, xaxis, y, and yaxis\",\n",
       "  \"scatter with fields hoverinfo, line, mode, showlegend, type, x, xaxis, y, and yaxis\",\n",
       "  \"scatter with fields hoverinfo, line, mode, showlegend, type, x, xaxis, y, and yaxis\",\n",
       "  \"scatter with fields hoverinfo, line, mode, showlegend, type, x, xaxis, y, and yaxis\",\n",
       "  \"scatter with fields hoverinfo, line, mode, showlegend, type, x, xaxis, y, and yaxis\",\n",
       "  \"scatter with fields hoverinfo, line, mode, showlegend, type, x, xaxis, y, and yaxis\",\n",
       "  \"scatter with fields fill, hoverinfo, line, mode, showlegend, type, x, xaxis, y, and yaxis\",\n",
       "  \"scatter with fields fill, hoverinfo, line, mode, showlegend, type, x, xaxis, y, and yaxis\",\n",
       "  \"scatter with fields hoverinfo, line, mode, showlegend, type, x, xaxis, y, and yaxis\",\n",
       "  \"scatter with fields hoverinfo, line, mode, showlegend, type, x, xaxis, y, and yaxis\",\n",
       "  \"scatter with fields hoverinfo, line, mode, showlegend, type, x, xaxis, y, and yaxis\",\n",
       "  \"scatter with fields hoverinfo, line, mode, showlegend, type, x, xaxis, y, and yaxis\",\n",
       "  \"scatter with fields hoverinfo, line, mode, showlegend, type, x, xaxis, y, and yaxis\",\n",
       "  \"scatter with fields hoverinfo, line, mode, showlegend, type, x, xaxis, y, and yaxis\",\n",
       "  \"scatter with fields hoverinfo, line, mode, showlegend, type, x, xaxis, y, and yaxis\",\n",
       "  \"scatter with fields fill, hoverinfo, line, mode, showlegend, type, x, xaxis, y, and yaxis\",\n",
       "  \"scatter with fields hoverinfo, line, mode, showlegend, type, x, xaxis, y, and yaxis\",\n",
       "  \"scatter with fields hoverinfo, line, mode, showlegend, type, x, xaxis, y, and yaxis\",\n",
       "  \"scatter with fields hoverinfo, line, mode, showlegend, type, x, xaxis, y, and yaxis\",\n",
       "  \"scatter with fields hoverinfo, line, mode, showlegend, type, x, xaxis, y, and yaxis\",\n",
       "  \"scatter with fields fill, hoverinfo, line, mode, showlegend, type, x, xaxis, y, and yaxis\",\n",
       "  \"scatter with fields customdata, hovertemplate, marker, mode, showlegend, type, x, xaxis, y, and yaxis\",\n",
       "  \"scatter with fields hovertemplate, marker, mode, text, type, x, xaxis, and y\"\n",
       "]\n",
       "\n",
       "layout: \"layout with fields height, hovermode, margin, showlegend, width, xaxis, xaxis2, and yaxis\"\n",
       "\n"
      ]
     },
     "execution_count": 5,
     "metadata": {},
     "output_type": "execute_result"
    }
   ],
   "source": [
    "let taxon = \"leguminosarum\"\n",
    "    trees[taxon] = cluster_annotate(cdata, taxon)\n",
    "    plot(clustermap(cdata, trees[taxon]))\n",
    "end"
   ]
  },
  {
   "cell_type": "code",
   "execution_count": 8,
   "id": "continental-feedback",
   "metadata": {},
   "outputs": [
    {
     "name": "stdout",
     "output_type": "stream",
     "text": [
      "#1 leguminosarum:\n",
      "\t4/27 removed\n",
      "\tDiameter 0.8839 => 0.8049\n"
     ]
    }
   ],
   "source": [
    "remove_subtrees!(edits, trees[\"leguminosarum\"], 52)"
   ]
  },
  {
   "cell_type": "markdown",
   "id": "professional-ending",
   "metadata": {},
   "source": [
    "## Finish"
   ]
  },
  {
   "cell_type": "code",
   "execution_count": 9,
   "id": "mental-gazette",
   "metadata": {},
   "outputs": [
    {
     "data": {
      "text/html": [
       "<table class=\"data-frame\"><thead><tr><th></th><th>index</th><th>name</th><th>ngenomes</th><th>initial_diameter</th><th>taxon_removed</th><th>removed_genomes</th><th>split</th><th>manual_threshold</th><th>final_diameter</th></tr><tr><th></th><th>Int64</th><th>SubStri…</th><th>Int64</th><th>Float32</th><th>Bool</th><th>Int64</th><th>String</th><th>Missing</th><th>String</th></tr></thead><tbody><p>1 rows × 9 columns</p><tr><th>1</th><td>1</td><td>leguminosarum</td><td>27</td><td>0.883943</td><td>0</td><td>4</td><td></td><td><em>missing</em></td><td>0.8049</td></tr></tbody></table>"
      ],
      "text/latex": [
       "\\begin{tabular}{r|ccccccccc}\n",
       "\t& index & name & ngenomes & initial\\_diameter & taxon\\_removed & removed\\_genomes & split & manual\\_threshold & final\\_diameter\\\\\n",
       "\t\\hline\n",
       "\t& Int64 & SubStri… & Int64 & Float32 & Bool & Int64 & String & Missing & String\\\\\n",
       "\t\\hline\n",
       "\t1 & 1 & leguminosarum & 27 & 0.883943 & 0 & 4 &  & \\emph{missing} & 0.8049 \\\\\n",
       "\\end{tabular}\n"
      ],
      "text/plain": [
       "\u001b[1m1×9 DataFrame\u001b[0m\n",
       "\u001b[1m Row \u001b[0m│\u001b[1m index \u001b[0m\u001b[1m name          \u001b[0m\u001b[1m ngenomes \u001b[0m\u001b[1m initial_diameter \u001b[0m\u001b[1m taxon_removed \u001b[0m\u001b[1m removed_genomes \u001b[0m\u001b[1m split  \u001b[0m\u001b[1m manual_threshold \u001b[0m\u001b[1m final_diameter \u001b[0m\n",
       "\u001b[1m     \u001b[0m│\u001b[90m Int64 \u001b[0m\u001b[90m SubStrin…     \u001b[0m\u001b[90m Int64    \u001b[0m\u001b[90m Float32          \u001b[0m\u001b[90m Bool          \u001b[0m\u001b[90m Int64           \u001b[0m\u001b[90m String \u001b[0m\u001b[90m Missing          \u001b[0m\u001b[90m String         \u001b[0m\n",
       "─────┼────────────────────────────────────────────────────────────────────────────────────────────────────────────────────────────\n",
       "   1 │     1  leguminosarum        27          0.883943          false                4         \u001b[90m         missing  \u001b[0m 0.8049"
      ]
     },
     "execution_count": 9,
     "metadata": {},
     "output_type": "execute_result"
    }
   ],
   "source": [
    "complete_edits(edits)"
   ]
  }
 ],
 "metadata": {
  "@webio": {
   "lastCommId": "33667e0b-06d6-4432-bd39-6922c96fb2af",
   "lastKernelId": "2dfce4b9-11b7-4c9d-9989-bbdc0fb10af9"
  },
  "kernelspec": {
   "display_name": "Julia 1.5.1",
   "language": "julia",
   "name": "julia-1.5"
  },
  "language_info": {
   "file_extension": ".jl",
   "mimetype": "application/julia",
   "name": "julia",
   "version": "1.5.1"
  }
 },
 "nbformat": 4,
 "nbformat_minor": 5
}
