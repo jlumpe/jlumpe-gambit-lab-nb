{
 "cells": [
  {
   "cell_type": "markdown",
   "id": "legislative-insured",
   "metadata": {},
   "source": [
    "# 210409 Fix Component 10"
   ]
  },
  {
   "cell_type": "code",
   "execution_count": 1,
   "id": "located-sydney",
   "metadata": {},
   "outputs": [],
   "source": [
    "const COMPONENT = 10;"
   ]
  },
  {
   "cell_type": "code",
   "execution_count": 2,
   "id": "complimentary-oakland",
   "metadata": {},
   "outputs": [
    {
     "data": {
      "text/html": [
       "<script>\n",
       "// Immediately-invoked-function-expression to avoid global variables.\n",
       "(function() {\n",
       "    var warning_div = document.getElementById(\"webio-warning-11562954670889827651\");\n",
       "    var hide = function () {\n",
       "        var script = document.getElementById(\"webio-setup-16372314540743283353\");\n",
       "        var parent = script && script.parentElement;\n",
       "        var grandparent = parent && parent.parentElement;\n",
       "        if (grandparent) {\n",
       "            grandparent.style.display = \"none\";\n",
       "        }\n",
       "        warning_div.style.display = \"none\";\n",
       "    };\n",
       "    if (typeof Jupyter !== \"undefined\") {\n",
       "        console.log(\"WebIO detected Jupyter notebook environment.\");\n",
       "        // Jupyter notebook.\n",
       "        var extensions = (\n",
       "            Jupyter\n",
       "            && Jupyter.notebook.config.data\n",
       "            && Jupyter.notebook.config.data.load_extensions\n",
       "        );\n",
       "        if (extensions && extensions[\"webio-jupyter-notebook\"]) {\n",
       "            // Extension already loaded.\n",
       "            console.log(\"Jupyter WebIO nbextension detected; not loading ad-hoc.\");\n",
       "            hide();\n",
       "            return;\n",
       "        }\n",
       "    } else if (window.location.pathname.includes(\"/lab\")) {\n",
       "        // Guessing JupyterLa\n",
       "        console.log(\"Jupyter Lab detected; make sure the @webio/jupyter-lab-provider labextension is installed.\");\n",
       "        hide();\n",
       "        return;\n",
       "    }\n",
       "})();\n",
       "\n",
       "</script>\n",
       "<p\n",
       "    id=\"webio-warning-11562954670889827651\"\n",
       "    class=\"output_text output_stderr\"\n",
       "    style=\"padding: 1em; font-weight: bold;\"\n",
       ">\n",
       "    Unable to load WebIO. Please make sure WebIO works for your Jupyter client.\n",
       "    For troubleshooting, please see <a href=\"https://juliagizmos.github.io/WebIO.jl/latest/providers/ijulia/\">\n",
       "    the WebIO/IJulia documentation</a>.\n",
       "    <!-- TODO: link to installation docs. -->\n",
       "</p>\n"
      ],
      "text/plain": [
       "HTML{String}(\"<script>\\n// Immediately-invoked-function-expression to avoid global variables.\\n(function() {\\n    var warning_div = document.getElementById(\\\"webio-warning-11562954670889827651\\\");\\n    var hide = function () {\\n        var script = document.getElementById(\\\"webio-setup-16372314540743283353\\\");\\n        var parent = script && script.parentElement;\\n        var grandparent = parent && parent.parentElement;\\n        if (grandparent) {\\n            grandparent.style.display = \\\"none\\\";\\n        }\\n        warning_div.style.display = \\\"none\\\";\\n    };\\n    if (typeof Jupyter !== \\\"undefined\\\") {\\n        console.log(\\\"WebIO detected Jupyter notebook environment.\\\");\\n        // Jupyter notebook.\\n        var extensions = (\\n            Jupyter\\n            && Jupyter.notebook.config.data\\n            && Jupyter.notebook.config.data.load_extensions\\n        );\\n        if (extensions && extensions[\\\"webio-jupyter-notebook\\\"]) {\\n            // Extension already loaded.\\n            console.log(\\\"Jupyter WebIO nbextension detected; not loading ad-hoc.\\\");\\n            hide();\\n            return;\\n        }\\n    } else if (window.location.pathname.includes(\\\"/lab\\\")) {\\n        // Guessing JupyterLa\\n        console.log(\\\"Jupyter Lab detected; make sure the @webio/jupyter-lab-provider labextension is installed.\\\");\\n        hide();\\n        return;\\n    }\\n})();\\n\\n</script>\\n<p\\n    id=\\\"webio-warning-11562954670889827651\\\"\\n    class=\\\"output_text output_stderr\\\"\\n    style=\\\"padding: 1em; font-weight: bold;\\\"\\n>\\n    Unable to load WebIO. Please make sure WebIO works for your Jupyter client.\\n    For troubleshooting, please see <a href=\\\"https://juliagizmos.github.io/WebIO.jl/latest/providers/ijulia/\\\">\\n    the WebIO/IJulia documentation</a>.\\n    <!-- TODO: link to installation docs. -->\\n</p>\\n\")"
      ]
     },
     "metadata": {},
     "output_type": "display_data"
    },
    {
     "data": {
      "text/html": [
       "<table class=\"data-frame\"><thead><tr><th></th><th>id</th><th>ncbi_id</th><th>name</th><th>rank</th><th>parent_id</th><th>in_v12</th><th>manual_threshold</th><th>report</th><th>ngenomes</th><th>comp_idx</th><th>diameter</th><th>outgoing</th><th>incoming</th><th>name_abbr</th></tr><tr><th></th><th>Int64</th><th>Int64?</th><th>String</th><th>String?</th><th>Int64?</th><th>Bool</th><th>Float64</th><th>Bool</th><th>Int64</th><th>Int64</th><th>Float32</th><th>Int64</th><th>Int64</th><th>SubStri…</th></tr></thead><tbody><p>4 rows × 14 columns</p><tr><th>1</th><td>572</td><td>375</td><td>Bradyrhizobium japonicum</td><td>species</td><td>87</td><td>1</td><td>NaN</td><td>1</td><td>15</td><td>1</td><td>0.928118</td><td>3</td><td>0</td><td>japonicum</td></tr><tr><th>2</th><td>942</td><td>108015</td><td>Bradyrhizobium yuanmingense</td><td>species</td><td>87</td><td>1</td><td>NaN</td><td>1</td><td>4</td><td>2</td><td>0.591944</td><td>0</td><td>1</td><td>yuanmingense</td></tr><tr><th>3</th><td>1252</td><td>43992</td><td>Bradyrhizobium liaoningense</td><td>species</td><td>87</td><td>1</td><td>NaN</td><td>1</td><td>2</td><td>3</td><td>0.0588606</td><td>0</td><td>1</td><td>liaoningense</td></tr><tr><th>4</th><td>1389</td><td>1355477</td><td>Bradyrhizobium diazoefficiens</td><td>species</td><td>87</td><td>1</td><td>NaN</td><td>1</td><td>4</td><td>4</td><td>0.436347</td><td>0</td><td>1</td><td>diazoefficiens</td></tr></tbody></table>"
      ],
      "text/latex": [
       "\\begin{tabular}{r|cccccccccccccc}\n",
       "\t& id & ncbi\\_id & name & rank & parent\\_id & in\\_v12 & manual\\_threshold & report & ngenomes & comp\\_idx & diameter & outgoing & incoming & name\\_abbr\\\\\n",
       "\t\\hline\n",
       "\t& Int64 & Int64? & String & String? & Int64? & Bool & Float64 & Bool & Int64 & Int64 & Float32 & Int64 & Int64 & SubStri…\\\\\n",
       "\t\\hline\n",
       "\t1 & 572 & 375 & Bradyrhizobium japonicum & species & 87 & 1 & NaN & 1 & 15 & 1 & 0.928118 & 3 & 0 & japonicum \\\\\n",
       "\t2 & 942 & 108015 & Bradyrhizobium yuanmingense & species & 87 & 1 & NaN & 1 & 4 & 2 & 0.591944 & 0 & 1 & yuanmingense \\\\\n",
       "\t3 & 1252 & 43992 & Bradyrhizobium liaoningense & species & 87 & 1 & NaN & 1 & 2 & 3 & 0.0588606 & 0 & 1 & liaoningense \\\\\n",
       "\t4 & 1389 & 1355477 & Bradyrhizobium diazoefficiens & species & 87 & 1 & NaN & 1 & 4 & 4 & 0.436347 & 0 & 1 & diazoefficiens \\\\\n",
       "\\end{tabular}\n"
      ],
      "text/plain": [
       "\u001b[1m4×14 DataFrame\u001b[0m\n",
       "\u001b[1m Row \u001b[0m│\u001b[1m id    \u001b[0m\u001b[1m ncbi_id \u001b[0m\u001b[1m name                          \u001b[0m\u001b[1m rank    \u001b[0m\u001b[1m parent_id \u001b[0m\u001b[1m in_v12 \u001b[0m\u001b[1m manual_threshold \u001b[0m\u001b[1m report \u001b[0m\u001b[1m ngenomes \u001b[0m\u001b[1m comp_idx \u001b[0m\u001b[1m diameter  \u001b[0m\u001b[1m outgoing \u001b[0m\u001b[1m incoming \u001b[0m\u001b[1m name_abbr      \u001b[0m\n",
       "\u001b[1m     \u001b[0m│\u001b[90m Int64 \u001b[0m\u001b[90m Int64?  \u001b[0m\u001b[90m String                        \u001b[0m\u001b[90m String? \u001b[0m\u001b[90m Int64?    \u001b[0m\u001b[90m Bool   \u001b[0m\u001b[90m Float64          \u001b[0m\u001b[90m Bool   \u001b[0m\u001b[90m Int64    \u001b[0m\u001b[90m Int64    \u001b[0m\u001b[90m Float32   \u001b[0m\u001b[90m Int64    \u001b[0m\u001b[90m Int64    \u001b[0m\u001b[90m SubStrin…      \u001b[0m\n",
       "─────┼────────────────────────────────────────────────────────────────────────────────────────────────────────────────────────────────────────────────────────────────────────\n",
       "   1 │   572      375  Bradyrhizobium japonicum       species         87    true              NaN     true        15         1  0.928118          3         0  japonicum\n",
       "   2 │   942   108015  Bradyrhizobium yuanmingense    species         87    true              NaN     true         4         2  0.591944          0         1  yuanmingense\n",
       "   3 │  1252    43992  Bradyrhizobium liaoningense    species         87    true              NaN     true         2         3  0.0588606         0         1  liaoningense\n",
       "   4 │  1389  1355477  Bradyrhizobium diazoefficiens  species         87    true              NaN     true         4         4  0.436347          0         1  diazoefficiens"
      ]
     },
     "metadata": {},
     "output_type": "display_data"
    },
    {
     "data": {
      "image/svg+xml": [
       "<?xml version=\"1.0\" encoding=\"UTF-8\"?>\n",
       "<svg xmlns=\"http://www.w3.org/2000/svg\"\n",
       "     xmlns:xlink=\"http://www.w3.org/1999/xlink\"\n",
       "     version=\"1.2\"\n",
       "     width=\"141.42mm\" height=\"100mm\" viewBox=\"0 0 141.42 100\"\n",
       "     stroke=\"none\"\n",
       "     fill=\"#000000\"\n",
       "     stroke-width=\"0.3\"\n",
       "     font-size=\"3.88\"\n",
       ">\n",
       "<defs>\n",
       "  <marker id=\"arrow\" markerWidth=\"15\" markerHeight=\"7\" refX=\"5\" refY=\"3.5\" orient=\"auto\" markerUnits=\"strokeWidth\">\n",
       "    <path d=\"M0,0 L15,3.5 L0,7 z\" stroke=\"context-stroke\" fill=\"context-stroke\"/>\n",
       "  </marker>\n",
       "</defs>\n",
       "<g stroke-width=\"2.12\" fill=\"#000000\" fill-opacity=\"0.000\" stroke=\"#D3D3D3\" id=\"img-9ae35e37-1\">\n",
       "  <g transform=\"translate(70.71,50)\">\n",
       "    <path fill=\"none\" d=\"M-51.56,-36.46 L51.56,36.46 \" class=\"primitive\"/>\n",
       "  </g>\n",
       "</g>\n",
       "<g stroke-width=\"2.12\" stroke=\"#D3D3D3\" id=\"img-9ae35e37-2\">\n",
       "  <g transform=\"translate(119.66,84.61)\">\n",
       "    <path fill=\"none\" d=\"M0.12,-1.93 L2.61,1.85 -2.73,0.08 \" class=\"primitive\"/>\n",
       "  </g>\n",
       "</g>\n",
       "<g font-size=\"4\" stroke=\"#000000\" stroke-opacity=\"0.000\" fill=\"#000000\" id=\"img-9ae35e37-3\">\n",
       "</g>\n",
       "<g stroke-width=\"0\" stroke=\"#000000\" stroke-opacity=\"0.000\" fill=\"#000000\" fill-opacity=\"0.000\" id=\"img-9ae35e37-4\">\n",
       "  <g transform=\"translate(11.79,8.33)\">\n",
       "    <circle cx=\"0\" cy=\"0\" r=\"10\" class=\"primitive\"/>\n",
       "  </g>\n",
       "  <g transform=\"translate(129.64,91.67)\">\n",
       "    <circle cx=\"0\" cy=\"0\" r=\"10\" class=\"primitive\"/>\n",
       "  </g>\n",
       "</g>\n",
       "<g font-size=\"4\" stroke=\"#000000\" stroke-opacity=\"0.000\" fill=\"#000000\" id=\"img-9ae35e37-5\">\n",
       "  <g transform=\"translate(11.79,8.33)\">\n",
       "    <g class=\"primitive\">\n",
       "      <text text-anchor=\"middle\" dy=\"0.35em\">japonicum</text>\n",
       "    </g>\n",
       "  </g>\n",
       "  <g transform=\"translate(129.64,91.67)\">\n",
       "    <g class=\"primitive\">\n",
       "      <text text-anchor=\"middle\" dy=\"0.35em\">(3 species)</text>\n",
       "    </g>\n",
       "  </g>\n",
       "</g>\n",
       "</svg>\n"
      ],
      "text/html": [
       "<?xml version=\"1.0\" encoding=\"UTF-8\"?>\n",
       "<svg xmlns=\"http://www.w3.org/2000/svg\"\n",
       "     xmlns:xlink=\"http://www.w3.org/1999/xlink\"\n",
       "     version=\"1.2\"\n",
       "     width=\"141.42mm\" height=\"100mm\" viewBox=\"0 0 141.42 100\"\n",
       "     stroke=\"none\"\n",
       "     fill=\"#000000\"\n",
       "     stroke-width=\"0.3\"\n",
       "     font-size=\"3.88\"\n",
       "\n",
       "     id=\"img-27eba0e3\">\n",
       "<defs>\n",
       "  <marker id=\"arrow\" markerWidth=\"15\" markerHeight=\"7\" refX=\"5\" refY=\"3.5\" orient=\"auto\" markerUnits=\"strokeWidth\">\n",
       "    <path d=\"M0,0 L15,3.5 L0,7 z\" stroke=\"context-stroke\" fill=\"context-stroke\"/>\n",
       "  </marker>\n",
       "</defs>\n",
       "<g stroke-width=\"2.12\" fill=\"#000000\" fill-opacity=\"0.000\" stroke=\"#D3D3D3\" id=\"img-27eba0e3-1\">\n",
       "  <g transform=\"translate(70.71,50)\">\n",
       "    <path fill=\"none\" d=\"M-51.56,-36.46 L51.56,36.46 \" class=\"primitive\"/>\n",
       "  </g>\n",
       "</g>\n",
       "<g stroke-width=\"2.12\" stroke=\"#D3D3D3\" id=\"img-27eba0e3-2\">\n",
       "  <g transform=\"translate(119.66,84.61)\">\n",
       "    <path fill=\"none\" d=\"M0.12,-1.93 L2.61,1.85 -2.73,0.08 \" class=\"primitive\"/>\n",
       "  </g>\n",
       "</g>\n",
       "<g font-size=\"4\" stroke=\"#000000\" stroke-opacity=\"0.000\" fill=\"#000000\" id=\"img-27eba0e3-3\">\n",
       "</g>\n",
       "<g stroke-width=\"0\" stroke=\"#000000\" stroke-opacity=\"0.000\" fill=\"#000000\" fill-opacity=\"0.000\" id=\"img-27eba0e3-4\">\n",
       "  <g transform=\"translate(11.79,8.33)\">\n",
       "    <circle cx=\"0\" cy=\"0\" r=\"10\" class=\"primitive\"/>\n",
       "  </g>\n",
       "  <g transform=\"translate(129.64,91.67)\">\n",
       "    <circle cx=\"0\" cy=\"0\" r=\"10\" class=\"primitive\"/>\n",
       "  </g>\n",
       "</g>\n",
       "<g font-size=\"4\" stroke=\"#000000\" stroke-opacity=\"0.000\" fill=\"#000000\" id=\"img-27eba0e3-5\">\n",
       "  <g transform=\"translate(11.79,8.33)\">\n",
       "    <g class=\"primitive\">\n",
       "      <text text-anchor=\"middle\" dy=\"0.35em\">japonicum</text>\n",
       "    </g>\n",
       "  </g>\n",
       "  <g transform=\"translate(129.64,91.67)\">\n",
       "    <g class=\"primitive\">\n",
       "      <text text-anchor=\"middle\" dy=\"0.35em\">(3 species)</text>\n",
       "    </g>\n",
       "  </g>\n",
       "</g>\n",
       "<script> <![CDATA[\n",
       "(function(N){var k=/[\\.\\/]/,L=/\\s*,\\s*/,C=function(a,d){return a-d},a,v,y={n:{}},M=function(){for(var a=0,d=this.length;a<d;a++)if(\"undefined\"!=typeof this[a])return this[a]},A=function(){for(var a=this.length;--a;)if(\"undefined\"!=typeof this[a])return this[a]},w=function(k,d){k=String(k);var f=v,n=Array.prototype.slice.call(arguments,2),u=w.listeners(k),p=0,b,q=[],e={},l=[],r=a;l.firstDefined=M;l.lastDefined=A;a=k;for(var s=v=0,x=u.length;s<x;s++)\"zIndex\"in u[s]&&(q.push(u[s].zIndex),0>u[s].zIndex&&\n",
       "(e[u[s].zIndex]=u[s]));for(q.sort(C);0>q[p];)if(b=e[q[p++] ],l.push(b.apply(d,n)),v)return v=f,l;for(s=0;s<x;s++)if(b=u[s],\"zIndex\"in b)if(b.zIndex==q[p]){l.push(b.apply(d,n));if(v)break;do if(p++,(b=e[q[p] ])&&l.push(b.apply(d,n)),v)break;while(b)}else e[b.zIndex]=b;else if(l.push(b.apply(d,n)),v)break;v=f;a=r;return l};w._events=y;w.listeners=function(a){a=a.split(k);var d=y,f,n,u,p,b,q,e,l=[d],r=[];u=0;for(p=a.length;u<p;u++){e=[];b=0;for(q=l.length;b<q;b++)for(d=l[b].n,f=[d[a[u] ],d[\"*\"] ],n=2;n--;)if(d=\n",
       "f[n])e.push(d),r=r.concat(d.f||[]);l=e}return r};w.on=function(a,d){a=String(a);if(\"function\"!=typeof d)return function(){};for(var f=a.split(L),n=0,u=f.length;n<u;n++)(function(a){a=a.split(k);for(var b=y,f,e=0,l=a.length;e<l;e++)b=b.n,b=b.hasOwnProperty(a[e])&&b[a[e] ]||(b[a[e] ]={n:{}});b.f=b.f||[];e=0;for(l=b.f.length;e<l;e++)if(b.f[e]==d){f=!0;break}!f&&b.f.push(d)})(f[n]);return function(a){+a==+a&&(d.zIndex=+a)}};w.f=function(a){var d=[].slice.call(arguments,1);return function(){w.apply(null,\n",
       "[a,null].concat(d).concat([].slice.call(arguments,0)))}};w.stop=function(){v=1};w.nt=function(k){return k?(new RegExp(\"(?:\\\\.|\\\\/|^)\"+k+\"(?:\\\\.|\\\\/|$)\")).test(a):a};w.nts=function(){return a.split(k)};w.off=w.unbind=function(a,d){if(a){var f=a.split(L);if(1<f.length)for(var n=0,u=f.length;n<u;n++)w.off(f[n],d);else{for(var f=a.split(k),p,b,q,e,l=[y],n=0,u=f.length;n<u;n++)for(e=0;e<l.length;e+=q.length-2){q=[e,1];p=l[e].n;if(\"*\"!=f[n])p[f[n] ]&&q.push(p[f[n] ]);else for(b in p)p.hasOwnProperty(b)&&\n",
       "q.push(p[b]);l.splice.apply(l,q)}n=0;for(u=l.length;n<u;n++)for(p=l[n];p.n;){if(d){if(p.f){e=0;for(f=p.f.length;e<f;e++)if(p.f[e]==d){p.f.splice(e,1);break}!p.f.length&&delete p.f}for(b in p.n)if(p.n.hasOwnProperty(b)&&p.n[b].f){q=p.n[b].f;e=0;for(f=q.length;e<f;e++)if(q[e]==d){q.splice(e,1);break}!q.length&&delete p.n[b].f}}else for(b in delete p.f,p.n)p.n.hasOwnProperty(b)&&p.n[b].f&&delete p.n[b].f;p=p.n}}}else w._events=y={n:{}}};w.once=function(a,d){var f=function(){w.unbind(a,f);return d.apply(this,\n",
       "arguments)};return w.on(a,f)};w.version=\"0.4.2\";w.toString=function(){return\"You are running Eve 0.4.2\"};\"undefined\"!=typeof module&&module.exports?module.exports=w:\"function\"===typeof define&&define.amd?define(\"eve\",[],function(){return w}):N.eve=w})(this);\n",
       "(function(N,k){\"function\"===typeof define&&define.amd?define(\"Snap.svg\",[\"eve\"],function(L){return k(N,L)}):k(N,N.eve)})(this,function(N,k){var L=function(a){var k={},y=N.requestAnimationFrame||N.webkitRequestAnimationFrame||N.mozRequestAnimationFrame||N.oRequestAnimationFrame||N.msRequestAnimationFrame||function(a){setTimeout(a,16)},M=Array.isArray||function(a){return a instanceof Array||\"[object Array]\"==Object.prototype.toString.call(a)},A=0,w=\"M\"+(+new Date).toString(36),z=function(a){if(null==\n",
       "a)return this.s;var b=this.s-a;this.b+=this.dur*b;this.B+=this.dur*b;this.s=a},d=function(a){if(null==a)return this.spd;this.spd=a},f=function(a){if(null==a)return this.dur;this.s=this.s*a/this.dur;this.dur=a},n=function(){delete k[this.id];this.update();a(\"mina.stop.\"+this.id,this)},u=function(){this.pdif||(delete k[this.id],this.update(),this.pdif=this.get()-this.b)},p=function(){this.pdif&&(this.b=this.get()-this.pdif,delete this.pdif,k[this.id]=this)},b=function(){var a;if(M(this.start)){a=[];\n",
       "for(var b=0,e=this.start.length;b<e;b++)a[b]=+this.start[b]+(this.end[b]-this.start[b])*this.easing(this.s)}else a=+this.start+(this.end-this.start)*this.easing(this.s);this.set(a)},q=function(){var l=0,b;for(b in k)if(k.hasOwnProperty(b)){var e=k[b],f=e.get();l++;e.s=(f-e.b)/(e.dur/e.spd);1<=e.s&&(delete k[b],e.s=1,l--,function(b){setTimeout(function(){a(\"mina.finish.\"+b.id,b)})}(e));e.update()}l&&y(q)},e=function(a,r,s,x,G,h,J){a={id:w+(A++).toString(36),start:a,end:r,b:s,s:0,dur:x-s,spd:1,get:G,\n",
       "set:h,easing:J||e.linear,status:z,speed:d,duration:f,stop:n,pause:u,resume:p,update:b};k[a.id]=a;r=0;for(var K in k)if(k.hasOwnProperty(K)&&(r++,2==r))break;1==r&&y(q);return a};e.time=Date.now||function(){return+new Date};e.getById=function(a){return k[a]||null};e.linear=function(a){return a};e.easeout=function(a){return Math.pow(a,1.7)};e.easein=function(a){return Math.pow(a,0.48)};e.easeinout=function(a){if(1==a)return 1;if(0==a)return 0;var b=0.48-a/1.04,e=Math.sqrt(0.1734+b*b);a=e-b;a=Math.pow(Math.abs(a),\n",
       "1/3)*(0>a?-1:1);b=-e-b;b=Math.pow(Math.abs(b),1/3)*(0>b?-1:1);a=a+b+0.5;return 3*(1-a)*a*a+a*a*a};e.backin=function(a){return 1==a?1:a*a*(2.70158*a-1.70158)};e.backout=function(a){if(0==a)return 0;a-=1;return a*a*(2.70158*a+1.70158)+1};e.elastic=function(a){return a==!!a?a:Math.pow(2,-10*a)*Math.sin(2*(a-0.075)*Math.PI/0.3)+1};e.bounce=function(a){a<1/2.75?a*=7.5625*a:a<2/2.75?(a-=1.5/2.75,a=7.5625*a*a+0.75):a<2.5/2.75?(a-=2.25/2.75,a=7.5625*a*a+0.9375):(a-=2.625/2.75,a=7.5625*a*a+0.984375);return a};\n",
       "return N.mina=e}(\"undefined\"==typeof k?function(){}:k),C=function(){function a(c,t){if(c){if(c.tagName)return x(c);if(y(c,\"array\")&&a.set)return a.set.apply(a,c);if(c instanceof e)return c;if(null==t)return c=G.doc.querySelector(c),x(c)}return new s(null==c?\"100%\":c,null==t?\"100%\":t)}function v(c,a){if(a){\"#text\"==c&&(c=G.doc.createTextNode(a.text||\"\"));\"string\"==typeof c&&(c=v(c));if(\"string\"==typeof a)return\"xlink:\"==a.substring(0,6)?c.getAttributeNS(m,a.substring(6)):\"xml:\"==a.substring(0,4)?c.getAttributeNS(la,\n",
       "a.substring(4)):c.getAttribute(a);for(var da in a)if(a[h](da)){var b=J(a[da]);b?\"xlink:\"==da.substring(0,6)?c.setAttributeNS(m,da.substring(6),b):\"xml:\"==da.substring(0,4)?c.setAttributeNS(la,da.substring(4),b):c.setAttribute(da,b):c.removeAttribute(da)}}else c=G.doc.createElementNS(la,c);return c}function y(c,a){a=J.prototype.toLowerCase.call(a);return\"finite\"==a?isFinite(c):\"array\"==a&&(c instanceof Array||Array.isArray&&Array.isArray(c))?!0:\"null\"==a&&null===c||a==typeof c&&null!==c||\"object\"==\n",
       "a&&c===Object(c)||$.call(c).slice(8,-1).toLowerCase()==a}function M(c){if(\"function\"==typeof c||Object(c)!==c)return c;var a=new c.constructor,b;for(b in c)c[h](b)&&(a[b]=M(c[b]));return a}function A(c,a,b){function m(){var e=Array.prototype.slice.call(arguments,0),f=e.join(\"\\u2400\"),d=m.cache=m.cache||{},l=m.count=m.count||[];if(d[h](f)){a:for(var e=l,l=f,B=0,H=e.length;B<H;B++)if(e[B]===l){e.push(e.splice(B,1)[0]);break a}return b?b(d[f]):d[f]}1E3<=l.length&&delete d[l.shift()];l.push(f);d[f]=c.apply(a,\n",
       "e);return b?b(d[f]):d[f]}return m}function w(c,a,b,m,e,f){return null==e?(c-=b,a-=m,c||a?(180*I.atan2(-a,-c)/C+540)%360:0):w(c,a,e,f)-w(b,m,e,f)}function z(c){return c%360*C/180}function d(c){var a=[];c=c.replace(/(?:^|\\s)(\\w+)\\(([^)]+)\\)/g,function(c,b,m){m=m.split(/\\s*,\\s*|\\s+/);\"rotate\"==b&&1==m.length&&m.push(0,0);\"scale\"==b&&(2<m.length?m=m.slice(0,2):2==m.length&&m.push(0,0),1==m.length&&m.push(m[0],0,0));\"skewX\"==b?a.push([\"m\",1,0,I.tan(z(m[0])),1,0,0]):\"skewY\"==b?a.push([\"m\",1,I.tan(z(m[0])),\n",
       "0,1,0,0]):a.push([b.charAt(0)].concat(m));return c});return a}function f(c,t){var b=O(c),m=new a.Matrix;if(b)for(var e=0,f=b.length;e<f;e++){var h=b[e],d=h.length,B=J(h[0]).toLowerCase(),H=h[0]!=B,l=H?m.invert():0,E;\"t\"==B&&2==d?m.translate(h[1],0):\"t\"==B&&3==d?H?(d=l.x(0,0),B=l.y(0,0),H=l.x(h[1],h[2]),l=l.y(h[1],h[2]),m.translate(H-d,l-B)):m.translate(h[1],h[2]):\"r\"==B?2==d?(E=E||t,m.rotate(h[1],E.x+E.width/2,E.y+E.height/2)):4==d&&(H?(H=l.x(h[2],h[3]),l=l.y(h[2],h[3]),m.rotate(h[1],H,l)):m.rotate(h[1],\n",
       "h[2],h[3])):\"s\"==B?2==d||3==d?(E=E||t,m.scale(h[1],h[d-1],E.x+E.width/2,E.y+E.height/2)):4==d?H?(H=l.x(h[2],h[3]),l=l.y(h[2],h[3]),m.scale(h[1],h[1],H,l)):m.scale(h[1],h[1],h[2],h[3]):5==d&&(H?(H=l.x(h[3],h[4]),l=l.y(h[3],h[4]),m.scale(h[1],h[2],H,l)):m.scale(h[1],h[2],h[3],h[4])):\"m\"==B&&7==d&&m.add(h[1],h[2],h[3],h[4],h[5],h[6])}return m}function n(c,t){if(null==t){var m=!0;t=\"linearGradient\"==c.type||\"radialGradient\"==c.type?c.node.getAttribute(\"gradientTransform\"):\"pattern\"==c.type?c.node.getAttribute(\"patternTransform\"):\n",
       "c.node.getAttribute(\"transform\");if(!t)return new a.Matrix;t=d(t)}else t=a._.rgTransform.test(t)?J(t).replace(/\\.{3}|\\u2026/g,c._.transform||aa):d(t),y(t,\"array\")&&(t=a.path?a.path.toString.call(t):J(t)),c._.transform=t;var b=f(t,c.getBBox(1));if(m)return b;c.matrix=b}function u(c){c=c.node.ownerSVGElement&&x(c.node.ownerSVGElement)||c.node.parentNode&&x(c.node.parentNode)||a.select(\"svg\")||a(0,0);var t=c.select(\"defs\"),t=null==t?!1:t.node;t||(t=r(\"defs\",c.node).node);return t}function p(c){return c.node.ownerSVGElement&&\n",
       "x(c.node.ownerSVGElement)||a.select(\"svg\")}function b(c,a,m){function b(c){if(null==c)return aa;if(c==+c)return c;v(B,{width:c});try{return B.getBBox().width}catch(a){return 0}}function h(c){if(null==c)return aa;if(c==+c)return c;v(B,{height:c});try{return B.getBBox().height}catch(a){return 0}}function e(b,B){null==a?d[b]=B(c.attr(b)||0):b==a&&(d=B(null==m?c.attr(b)||0:m))}var f=p(c).node,d={},B=f.querySelector(\".svg---mgr\");B||(B=v(\"rect\"),v(B,{x:-9E9,y:-9E9,width:10,height:10,\"class\":\"svg---mgr\",\n",
       "fill:\"none\"}),f.appendChild(B));switch(c.type){case \"rect\":e(\"rx\",b),e(\"ry\",h);case \"image\":e(\"width\",b),e(\"height\",h);case \"text\":e(\"x\",b);e(\"y\",h);break;case \"circle\":e(\"cx\",b);e(\"cy\",h);e(\"r\",b);break;case \"ellipse\":e(\"cx\",b);e(\"cy\",h);e(\"rx\",b);e(\"ry\",h);break;case \"line\":e(\"x1\",b);e(\"x2\",b);e(\"y1\",h);e(\"y2\",h);break;case \"marker\":e(\"refX\",b);e(\"markerWidth\",b);e(\"refY\",h);e(\"markerHeight\",h);break;case \"radialGradient\":e(\"fx\",b);e(\"fy\",h);break;case \"tspan\":e(\"dx\",b);e(\"dy\",h);break;default:e(a,\n",
       "b)}f.removeChild(B);return d}function q(c){y(c,\"array\")||(c=Array.prototype.slice.call(arguments,0));for(var a=0,b=0,m=this.node;this[a];)delete this[a++];for(a=0;a<c.length;a++)\"set\"==c[a].type?c[a].forEach(function(c){m.appendChild(c.node)}):m.appendChild(c[a].node);for(var h=m.childNodes,a=0;a<h.length;a++)this[b++]=x(h[a]);return this}function e(c){if(c.snap in E)return E[c.snap];var a=this.id=V(),b;try{b=c.ownerSVGElement}catch(m){}this.node=c;b&&(this.paper=new s(b));this.type=c.tagName;this.anims=\n",
       "{};this._={transform:[]};c.snap=a;E[a]=this;\"g\"==this.type&&(this.add=q);if(this.type in{g:1,mask:1,pattern:1})for(var e in s.prototype)s.prototype[h](e)&&(this[e]=s.prototype[e])}function l(c){this.node=c}function r(c,a){var b=v(c);a.appendChild(b);return x(b)}function s(c,a){var b,m,f,d=s.prototype;if(c&&\"svg\"==c.tagName){if(c.snap in E)return E[c.snap];var l=c.ownerDocument;b=new e(c);m=c.getElementsByTagName(\"desc\")[0];f=c.getElementsByTagName(\"defs\")[0];m||(m=v(\"desc\"),m.appendChild(l.createTextNode(\"Created with Snap\")),\n",
       "b.node.appendChild(m));f||(f=v(\"defs\"),b.node.appendChild(f));b.defs=f;for(var ca in d)d[h](ca)&&(b[ca]=d[ca]);b.paper=b.root=b}else b=r(\"svg\",G.doc.body),v(b.node,{height:a,version:1.1,width:c,xmlns:la});return b}function x(c){return!c||c instanceof e||c instanceof l?c:c.tagName&&\"svg\"==c.tagName.toLowerCase()?new s(c):c.tagName&&\"object\"==c.tagName.toLowerCase()&&\"image/svg+xml\"==c.type?new s(c.contentDocument.getElementsByTagName(\"svg\")[0]):new e(c)}a.version=\"0.3.0\";a.toString=function(){return\"Snap v\"+\n",
       "this.version};a._={};var G={win:N,doc:N.document};a._.glob=G;var h=\"hasOwnProperty\",J=String,K=parseFloat,U=parseInt,I=Math,P=I.max,Q=I.min,Y=I.abs,C=I.PI,aa=\"\",$=Object.prototype.toString,F=/^\\s*((#[a-f\\d]{6})|(#[a-f\\d]{3})|rgba?\\(\\s*([\\d\\.]+%?\\s*,\\s*[\\d\\.]+%?\\s*,\\s*[\\d\\.]+%?(?:\\s*,\\s*[\\d\\.]+%?)?)\\s*\\)|hsba?\\(\\s*([\\d\\.]+(?:deg|\\xb0|%)?\\s*,\\s*[\\d\\.]+%?\\s*,\\s*[\\d\\.]+(?:%?\\s*,\\s*[\\d\\.]+)?%?)\\s*\\)|hsla?\\(\\s*([\\d\\.]+(?:deg|\\xb0|%)?\\s*,\\s*[\\d\\.]+%?\\s*,\\s*[\\d\\.]+(?:%?\\s*,\\s*[\\d\\.]+)?%?)\\s*\\))\\s*$/i;a._.separator=\n",
       "RegExp(\"[,\\t\\n\\x0B\\f\\r \\u00a0\\u1680\\u180e\\u2000\\u2001\\u2002\\u2003\\u2004\\u2005\\u2006\\u2007\\u2008\\u2009\\u200a\\u202f\\u205f\\u3000\\u2028\\u2029]+\");var S=RegExp(\"[\\t\\n\\x0B\\f\\r \\u00a0\\u1680\\u180e\\u2000\\u2001\\u2002\\u2003\\u2004\\u2005\\u2006\\u2007\\u2008\\u2009\\u200a\\u202f\\u205f\\u3000\\u2028\\u2029]*,[\\t\\n\\x0B\\f\\r \\u00a0\\u1680\\u180e\\u2000\\u2001\\u2002\\u2003\\u2004\\u2005\\u2006\\u2007\\u2008\\u2009\\u200a\\u202f\\u205f\\u3000\\u2028\\u2029]*\"),X={hs:1,rg:1},W=RegExp(\"([a-z])[\\t\\n\\x0B\\f\\r \\u00a0\\u1680\\u180e\\u2000\\u2001\\u2002\\u2003\\u2004\\u2005\\u2006\\u2007\\u2008\\u2009\\u200a\\u202f\\u205f\\u3000\\u2028\\u2029,]*((-?\\\\d*\\\\.?\\\\d*(?:e[\\\\-+]?\\\\d+)?[\\t\\n\\x0B\\f\\r \\u00a0\\u1680\\u180e\\u2000\\u2001\\u2002\\u2003\\u2004\\u2005\\u2006\\u2007\\u2008\\u2009\\u200a\\u202f\\u205f\\u3000\\u2028\\u2029]*,?[\\t\\n\\x0B\\f\\r \\u00a0\\u1680\\u180e\\u2000\\u2001\\u2002\\u2003\\u2004\\u2005\\u2006\\u2007\\u2008\\u2009\\u200a\\u202f\\u205f\\u3000\\u2028\\u2029]*)+)\",\n",
       "\"ig\"),ma=RegExp(\"([rstm])[\\t\\n\\x0B\\f\\r \\u00a0\\u1680\\u180e\\u2000\\u2001\\u2002\\u2003\\u2004\\u2005\\u2006\\u2007\\u2008\\u2009\\u200a\\u202f\\u205f\\u3000\\u2028\\u2029,]*((-?\\\\d*\\\\.?\\\\d*(?:e[\\\\-+]?\\\\d+)?[\\t\\n\\x0B\\f\\r \\u00a0\\u1680\\u180e\\u2000\\u2001\\u2002\\u2003\\u2004\\u2005\\u2006\\u2007\\u2008\\u2009\\u200a\\u202f\\u205f\\u3000\\u2028\\u2029]*,?[\\t\\n\\x0B\\f\\r \\u00a0\\u1680\\u180e\\u2000\\u2001\\u2002\\u2003\\u2004\\u2005\\u2006\\u2007\\u2008\\u2009\\u200a\\u202f\\u205f\\u3000\\u2028\\u2029]*)+)\",\"ig\"),Z=RegExp(\"(-?\\\\d*\\\\.?\\\\d*(?:e[\\\\-+]?\\\\d+)?)[\\t\\n\\x0B\\f\\r \\u00a0\\u1680\\u180e\\u2000\\u2001\\u2002\\u2003\\u2004\\u2005\\u2006\\u2007\\u2008\\u2009\\u200a\\u202f\\u205f\\u3000\\u2028\\u2029]*,?[\\t\\n\\x0B\\f\\r \\u00a0\\u1680\\u180e\\u2000\\u2001\\u2002\\u2003\\u2004\\u2005\\u2006\\u2007\\u2008\\u2009\\u200a\\u202f\\u205f\\u3000\\u2028\\u2029]*\",\n",
       "\"ig\"),na=0,ba=\"S\"+(+new Date).toString(36),V=function(){return ba+(na++).toString(36)},m=\"http://www.w3.org/1999/xlink\",la=\"http://www.w3.org/2000/svg\",E={},ca=a.url=function(c){return\"url('#\"+c+\"')\"};a._.$=v;a._.id=V;a.format=function(){var c=/\\{([^\\}]+)\\}/g,a=/(?:(?:^|\\.)(.+?)(?=\\[|\\.|$|\\()|\\[('|\")(.+?)\\2\\])(\\(\\))?/g,b=function(c,b,m){var h=m;b.replace(a,function(c,a,b,m,t){a=a||m;h&&(a in h&&(h=h[a]),\"function\"==typeof h&&t&&(h=h()))});return h=(null==h||h==m?c:h)+\"\"};return function(a,m){return J(a).replace(c,\n",
       "function(c,a){return b(c,a,m)})}}();a._.clone=M;a._.cacher=A;a.rad=z;a.deg=function(c){return 180*c/C%360};a.angle=w;a.is=y;a.snapTo=function(c,a,b){b=y(b,\"finite\")?b:10;if(y(c,\"array\"))for(var m=c.length;m--;){if(Y(c[m]-a)<=b)return c[m]}else{c=+c;m=a%c;if(m<b)return a-m;if(m>c-b)return a-m+c}return a};a.getRGB=A(function(c){if(!c||(c=J(c)).indexOf(\"-\")+1)return{r:-1,g:-1,b:-1,hex:\"none\",error:1,toString:ka};if(\"none\"==c)return{r:-1,g:-1,b:-1,hex:\"none\",toString:ka};!X[h](c.toLowerCase().substring(0,\n",
       "2))&&\"#\"!=c.charAt()&&(c=T(c));if(!c)return{r:-1,g:-1,b:-1,hex:\"none\",error:1,toString:ka};var b,m,e,f,d;if(c=c.match(F)){c[2]&&(e=U(c[2].substring(5),16),m=U(c[2].substring(3,5),16),b=U(c[2].substring(1,3),16));c[3]&&(e=U((d=c[3].charAt(3))+d,16),m=U((d=c[3].charAt(2))+d,16),b=U((d=c[3].charAt(1))+d,16));c[4]&&(d=c[4].split(S),b=K(d[0]),\"%\"==d[0].slice(-1)&&(b*=2.55),m=K(d[1]),\"%\"==d[1].slice(-1)&&(m*=2.55),e=K(d[2]),\"%\"==d[2].slice(-1)&&(e*=2.55),\"rgba\"==c[1].toLowerCase().slice(0,4)&&(f=K(d[3])),\n",
       "d[3]&&\"%\"==d[3].slice(-1)&&(f/=100));if(c[5])return d=c[5].split(S),b=K(d[0]),\"%\"==d[0].slice(-1)&&(b/=100),m=K(d[1]),\"%\"==d[1].slice(-1)&&(m/=100),e=K(d[2]),\"%\"==d[2].slice(-1)&&(e/=100),\"deg\"!=d[0].slice(-3)&&\"\\u00b0\"!=d[0].slice(-1)||(b/=360),\"hsba\"==c[1].toLowerCase().slice(0,4)&&(f=K(d[3])),d[3]&&\"%\"==d[3].slice(-1)&&(f/=100),a.hsb2rgb(b,m,e,f);if(c[6])return d=c[6].split(S),b=K(d[0]),\"%\"==d[0].slice(-1)&&(b/=100),m=K(d[1]),\"%\"==d[1].slice(-1)&&(m/=100),e=K(d[2]),\"%\"==d[2].slice(-1)&&(e/=100),\n",
       "\"deg\"!=d[0].slice(-3)&&\"\\u00b0\"!=d[0].slice(-1)||(b/=360),\"hsla\"==c[1].toLowerCase().slice(0,4)&&(f=K(d[3])),d[3]&&\"%\"==d[3].slice(-1)&&(f/=100),a.hsl2rgb(b,m,e,f);b=Q(I.round(b),255);m=Q(I.round(m),255);e=Q(I.round(e),255);f=Q(P(f,0),1);c={r:b,g:m,b:e,toString:ka};c.hex=\"#\"+(16777216|e|m<<8|b<<16).toString(16).slice(1);c.opacity=y(f,\"finite\")?f:1;return c}return{r:-1,g:-1,b:-1,hex:\"none\",error:1,toString:ka}},a);a.hsb=A(function(c,b,m){return a.hsb2rgb(c,b,m).hex});a.hsl=A(function(c,b,m){return a.hsl2rgb(c,\n",
       "b,m).hex});a.rgb=A(function(c,a,b,m){if(y(m,\"finite\")){var e=I.round;return\"rgba(\"+[e(c),e(a),e(b),+m.toFixed(2)]+\")\"}return\"#\"+(16777216|b|a<<8|c<<16).toString(16).slice(1)});var T=function(c){var a=G.doc.getElementsByTagName(\"head\")[0]||G.doc.getElementsByTagName(\"svg\")[0];T=A(function(c){if(\"red\"==c.toLowerCase())return\"rgb(255, 0, 0)\";a.style.color=\"rgb(255, 0, 0)\";a.style.color=c;c=G.doc.defaultView.getComputedStyle(a,aa).getPropertyValue(\"color\");return\"rgb(255, 0, 0)\"==c?null:c});return T(c)},\n",
       "qa=function(){return\"hsb(\"+[this.h,this.s,this.b]+\")\"},ra=function(){return\"hsl(\"+[this.h,this.s,this.l]+\")\"},ka=function(){return 1==this.opacity||null==this.opacity?this.hex:\"rgba(\"+[this.r,this.g,this.b,this.opacity]+\")\"},D=function(c,b,m){null==b&&y(c,\"object\")&&\"r\"in c&&\"g\"in c&&\"b\"in c&&(m=c.b,b=c.g,c=c.r);null==b&&y(c,string)&&(m=a.getRGB(c),c=m.r,b=m.g,m=m.b);if(1<c||1<b||1<m)c/=255,b/=255,m/=255;return[c,b,m]},oa=function(c,b,m,e){c=I.round(255*c);b=I.round(255*b);m=I.round(255*m);c={r:c,\n",
       "g:b,b:m,opacity:y(e,\"finite\")?e:1,hex:a.rgb(c,b,m),toString:ka};y(e,\"finite\")&&(c.opacity=e);return c};a.color=function(c){var b;y(c,\"object\")&&\"h\"in c&&\"s\"in c&&\"b\"in c?(b=a.hsb2rgb(c),c.r=b.r,c.g=b.g,c.b=b.b,c.opacity=1,c.hex=b.hex):y(c,\"object\")&&\"h\"in c&&\"s\"in c&&\"l\"in c?(b=a.hsl2rgb(c),c.r=b.r,c.g=b.g,c.b=b.b,c.opacity=1,c.hex=b.hex):(y(c,\"string\")&&(c=a.getRGB(c)),y(c,\"object\")&&\"r\"in c&&\"g\"in c&&\"b\"in c&&!(\"error\"in c)?(b=a.rgb2hsl(c),c.h=b.h,c.s=b.s,c.l=b.l,b=a.rgb2hsb(c),c.v=b.b):(c={hex:\"none\"},\n",
       "c.r=c.g=c.b=c.h=c.s=c.v=c.l=-1,c.error=1));c.toString=ka;return c};a.hsb2rgb=function(c,a,b,m){y(c,\"object\")&&\"h\"in c&&\"s\"in c&&\"b\"in c&&(b=c.b,a=c.s,c=c.h,m=c.o);var e,h,d;c=360*c%360/60;d=b*a;a=d*(1-Y(c%2-1));b=e=h=b-d;c=~~c;b+=[d,a,0,0,a,d][c];e+=[a,d,d,a,0,0][c];h+=[0,0,a,d,d,a][c];return oa(b,e,h,m)};a.hsl2rgb=function(c,a,b,m){y(c,\"object\")&&\"h\"in c&&\"s\"in c&&\"l\"in c&&(b=c.l,a=c.s,c=c.h);if(1<c||1<a||1<b)c/=360,a/=100,b/=100;var e,h,d;c=360*c%360/60;d=2*a*(0.5>b?b:1-b);a=d*(1-Y(c%2-1));b=e=\n",
       "h=b-d/2;c=~~c;b+=[d,a,0,0,a,d][c];e+=[a,d,d,a,0,0][c];h+=[0,0,a,d,d,a][c];return oa(b,e,h,m)};a.rgb2hsb=function(c,a,b){b=D(c,a,b);c=b[0];a=b[1];b=b[2];var m,e;m=P(c,a,b);e=m-Q(c,a,b);c=((0==e?0:m==c?(a-b)/e:m==a?(b-c)/e+2:(c-a)/e+4)+360)%6*60/360;return{h:c,s:0==e?0:e/m,b:m,toString:qa}};a.rgb2hsl=function(c,a,b){b=D(c,a,b);c=b[0];a=b[1];b=b[2];var m,e,h;m=P(c,a,b);e=Q(c,a,b);h=m-e;c=((0==h?0:m==c?(a-b)/h:m==a?(b-c)/h+2:(c-a)/h+4)+360)%6*60/360;m=(m+e)/2;return{h:c,s:0==h?0:0.5>m?h/(2*m):h/(2-2*\n",
       "m),l:m,toString:ra}};a.parsePathString=function(c){if(!c)return null;var b=a.path(c);if(b.arr)return a.path.clone(b.arr);var m={a:7,c:6,o:2,h:1,l:2,m:2,r:4,q:4,s:4,t:2,v:1,u:3,z:0},e=[];y(c,\"array\")&&y(c[0],\"array\")&&(e=a.path.clone(c));e.length||J(c).replace(W,function(c,a,b){var h=[];c=a.toLowerCase();b.replace(Z,function(c,a){a&&h.push(+a)});\"m\"==c&&2<h.length&&(e.push([a].concat(h.splice(0,2))),c=\"l\",a=\"m\"==a?\"l\":\"L\");\"o\"==c&&1==h.length&&e.push([a,h[0] ]);if(\"r\"==c)e.push([a].concat(h));else for(;h.length>=\n",
       "m[c]&&(e.push([a].concat(h.splice(0,m[c]))),m[c]););});e.toString=a.path.toString;b.arr=a.path.clone(e);return e};var O=a.parseTransformString=function(c){if(!c)return null;var b=[];y(c,\"array\")&&y(c[0],\"array\")&&(b=a.path.clone(c));b.length||J(c).replace(ma,function(c,a,m){var e=[];a.toLowerCase();m.replace(Z,function(c,a){a&&e.push(+a)});b.push([a].concat(e))});b.toString=a.path.toString;return b};a._.svgTransform2string=d;a._.rgTransform=RegExp(\"^[a-z][\\t\\n\\x0B\\f\\r \\u00a0\\u1680\\u180e\\u2000\\u2001\\u2002\\u2003\\u2004\\u2005\\u2006\\u2007\\u2008\\u2009\\u200a\\u202f\\u205f\\u3000\\u2028\\u2029]*-?\\\\.?\\\\d\",\n",
       "\"i\");a._.transform2matrix=f;a._unit2px=b;a._.getSomeDefs=u;a._.getSomeSVG=p;a.select=function(c){return x(G.doc.querySelector(c))};a.selectAll=function(c){c=G.doc.querySelectorAll(c);for(var b=(a.set||Array)(),m=0;m<c.length;m++)b.push(x(c[m]));return b};setInterval(function(){for(var c in E)if(E[h](c)){var a=E[c],b=a.node;(\"svg\"!=a.type&&!b.ownerSVGElement||\"svg\"==a.type&&(!b.parentNode||\"ownerSVGElement\"in b.parentNode&&!b.ownerSVGElement))&&delete E[c]}},1E4);(function(c){function m(c){function a(c,\n",
       "b){var m=v(c.node,b);(m=(m=m&&m.match(d))&&m[2])&&\"#\"==m.charAt()&&(m=m.substring(1))&&(f[m]=(f[m]||[]).concat(function(a){var m={};m[b]=ca(a);v(c.node,m)}))}function b(c){var a=v(c.node,\"xlink:href\");a&&\"#\"==a.charAt()&&(a=a.substring(1))&&(f[a]=(f[a]||[]).concat(function(a){c.attr(\"xlink:href\",\"#\"+a)}))}var e=c.selectAll(\"*\"),h,d=/^\\s*url\\((\"|'|)(.*)\\1\\)\\s*$/;c=[];for(var f={},l=0,E=e.length;l<E;l++){h=e[l];a(h,\"fill\");a(h,\"stroke\");a(h,\"filter\");a(h,\"mask\");a(h,\"clip-path\");b(h);var t=v(h.node,\n",
       "\"id\");t&&(v(h.node,{id:h.id}),c.push({old:t,id:h.id}))}l=0;for(E=c.length;l<E;l++)if(e=f[c[l].old])for(h=0,t=e.length;h<t;h++)e[h](c[l].id)}function e(c,a,b){return function(m){m=m.slice(c,a);1==m.length&&(m=m[0]);return b?b(m):m}}function d(c){return function(){var a=c?\"<\"+this.type:\"\",b=this.node.attributes,m=this.node.childNodes;if(c)for(var e=0,h=b.length;e<h;e++)a+=\" \"+b[e].name+'=\"'+b[e].value.replace(/\"/g,'\\\\\"')+'\"';if(m.length){c&&(a+=\">\");e=0;for(h=m.length;e<h;e++)3==m[e].nodeType?a+=m[e].nodeValue:\n",
       "1==m[e].nodeType&&(a+=x(m[e]).toString());c&&(a+=\"</\"+this.type+\">\")}else c&&(a+=\"/>\");return a}}c.attr=function(c,a){if(!c)return this;if(y(c,\"string\"))if(1<arguments.length){var b={};b[c]=a;c=b}else return k(\"snap.util.getattr.\"+c,this).firstDefined();for(var m in c)c[h](m)&&k(\"snap.util.attr.\"+m,this,c[m]);return this};c.getBBox=function(c){if(!a.Matrix||!a.path)return this.node.getBBox();var b=this,m=new a.Matrix;if(b.removed)return a._.box();for(;\"use\"==b.type;)if(c||(m=m.add(b.transform().localMatrix.translate(b.attr(\"x\")||\n",
       "0,b.attr(\"y\")||0))),b.original)b=b.original;else var e=b.attr(\"xlink:href\"),b=b.original=b.node.ownerDocument.getElementById(e.substring(e.indexOf(\"#\")+1));var e=b._,h=a.path.get[b.type]||a.path.get.deflt;try{if(c)return e.bboxwt=h?a.path.getBBox(b.realPath=h(b)):a._.box(b.node.getBBox()),a._.box(e.bboxwt);b.realPath=h(b);b.matrix=b.transform().localMatrix;e.bbox=a.path.getBBox(a.path.map(b.realPath,m.add(b.matrix)));return a._.box(e.bbox)}catch(d){return a._.box()}};var f=function(){return this.string};\n",
       "c.transform=function(c){var b=this._;if(null==c){var m=this;c=new a.Matrix(this.node.getCTM());for(var e=n(this),h=[e],d=new a.Matrix,l=e.toTransformString(),b=J(e)==J(this.matrix)?J(b.transform):l;\"svg\"!=m.type&&(m=m.parent());)h.push(n(m));for(m=h.length;m--;)d.add(h[m]);return{string:b,globalMatrix:c,totalMatrix:d,localMatrix:e,diffMatrix:c.clone().add(e.invert()),global:c.toTransformString(),total:d.toTransformString(),local:l,toString:f}}c instanceof a.Matrix?this.matrix=c:n(this,c);this.node&&\n",
       "(\"linearGradient\"==this.type||\"radialGradient\"==this.type?v(this.node,{gradientTransform:this.matrix}):\"pattern\"==this.type?v(this.node,{patternTransform:this.matrix}):v(this.node,{transform:this.matrix}));return this};c.parent=function(){return x(this.node.parentNode)};c.append=c.add=function(c){if(c){if(\"set\"==c.type){var a=this;c.forEach(function(c){a.add(c)});return this}c=x(c);this.node.appendChild(c.node);c.paper=this.paper}return this};c.appendTo=function(c){c&&(c=x(c),c.append(this));return this};\n",
       "c.prepend=function(c){if(c){if(\"set\"==c.type){var a=this,b;c.forEach(function(c){b?b.after(c):a.prepend(c);b=c});return this}c=x(c);var m=c.parent();this.node.insertBefore(c.node,this.node.firstChild);this.add&&this.add();c.paper=this.paper;this.parent()&&this.parent().add();m&&m.add()}return this};c.prependTo=function(c){c=x(c);c.prepend(this);return this};c.before=function(c){if(\"set\"==c.type){var a=this;c.forEach(function(c){var b=c.parent();a.node.parentNode.insertBefore(c.node,a.node);b&&b.add()});\n",
       "this.parent().add();return this}c=x(c);var b=c.parent();this.node.parentNode.insertBefore(c.node,this.node);this.parent()&&this.parent().add();b&&b.add();c.paper=this.paper;return this};c.after=function(c){c=x(c);var a=c.parent();this.node.nextSibling?this.node.parentNode.insertBefore(c.node,this.node.nextSibling):this.node.parentNode.appendChild(c.node);this.parent()&&this.parent().add();a&&a.add();c.paper=this.paper;return this};c.insertBefore=function(c){c=x(c);var a=this.parent();c.node.parentNode.insertBefore(this.node,\n",
       "c.node);this.paper=c.paper;a&&a.add();c.parent()&&c.parent().add();return this};c.insertAfter=function(c){c=x(c);var a=this.parent();c.node.parentNode.insertBefore(this.node,c.node.nextSibling);this.paper=c.paper;a&&a.add();c.parent()&&c.parent().add();return this};c.remove=function(){var c=this.parent();this.node.parentNode&&this.node.parentNode.removeChild(this.node);delete this.paper;this.removed=!0;c&&c.add();return this};c.select=function(c){return x(this.node.querySelector(c))};c.selectAll=\n",
       "function(c){c=this.node.querySelectorAll(c);for(var b=(a.set||Array)(),m=0;m<c.length;m++)b.push(x(c[m]));return b};c.asPX=function(c,a){null==a&&(a=this.attr(c));return+b(this,c,a)};c.use=function(){var c,a=this.node.id;a||(a=this.id,v(this.node,{id:a}));c=\"linearGradient\"==this.type||\"radialGradient\"==this.type||\"pattern\"==this.type?r(this.type,this.node.parentNode):r(\"use\",this.node.parentNode);v(c.node,{\"xlink:href\":\"#\"+a});c.original=this;return c};var l=/\\S+/g;c.addClass=function(c){var a=(c||\n",
       "\"\").match(l)||[];c=this.node;var b=c.className.baseVal,m=b.match(l)||[],e,h,d;if(a.length){for(e=0;d=a[e++];)h=m.indexOf(d),~h||m.push(d);a=m.join(\" \");b!=a&&(c.className.baseVal=a)}return this};c.removeClass=function(c){var a=(c||\"\").match(l)||[];c=this.node;var b=c.className.baseVal,m=b.match(l)||[],e,h;if(m.length){for(e=0;h=a[e++];)h=m.indexOf(h),~h&&m.splice(h,1);a=m.join(\" \");b!=a&&(c.className.baseVal=a)}return this};c.hasClass=function(c){return!!~(this.node.className.baseVal.match(l)||[]).indexOf(c)};\n",
       "c.toggleClass=function(c,a){if(null!=a)return a?this.addClass(c):this.removeClass(c);var b=(c||\"\").match(l)||[],m=this.node,e=m.className.baseVal,h=e.match(l)||[],d,f,E;for(d=0;E=b[d++];)f=h.indexOf(E),~f?h.splice(f,1):h.push(E);b=h.join(\" \");e!=b&&(m.className.baseVal=b);return this};c.clone=function(){var c=x(this.node.cloneNode(!0));v(c.node,\"id\")&&v(c.node,{id:c.id});m(c);c.insertAfter(this);return c};c.toDefs=function(){u(this).appendChild(this.node);return this};c.pattern=c.toPattern=function(c,\n",
       "a,b,m){var e=r(\"pattern\",u(this));null==c&&(c=this.getBBox());y(c,\"object\")&&\"x\"in c&&(a=c.y,b=c.width,m=c.height,c=c.x);v(e.node,{x:c,y:a,width:b,height:m,patternUnits:\"userSpaceOnUse\",id:e.id,viewBox:[c,a,b,m].join(\" \")});e.node.appendChild(this.node);return e};c.marker=function(c,a,b,m,e,h){var d=r(\"marker\",u(this));null==c&&(c=this.getBBox());y(c,\"object\")&&\"x\"in c&&(a=c.y,b=c.width,m=c.height,e=c.refX||c.cx,h=c.refY||c.cy,c=c.x);v(d.node,{viewBox:[c,a,b,m].join(\" \"),markerWidth:b,markerHeight:m,\n",
       "orient:\"auto\",refX:e||0,refY:h||0,id:d.id});d.node.appendChild(this.node);return d};var E=function(c,a,b,m){\"function\"!=typeof b||b.length||(m=b,b=L.linear);this.attr=c;this.dur=a;b&&(this.easing=b);m&&(this.callback=m)};a._.Animation=E;a.animation=function(c,a,b,m){return new E(c,a,b,m)};c.inAnim=function(){var c=[],a;for(a in this.anims)this.anims[h](a)&&function(a){c.push({anim:new E(a._attrs,a.dur,a.easing,a._callback),mina:a,curStatus:a.status(),status:function(c){return a.status(c)},stop:function(){a.stop()}})}(this.anims[a]);\n",
       "return c};a.animate=function(c,a,b,m,e,h){\"function\"!=typeof e||e.length||(h=e,e=L.linear);var d=L.time();c=L(c,a,d,d+m,L.time,b,e);h&&k.once(\"mina.finish.\"+c.id,h);return c};c.stop=function(){for(var c=this.inAnim(),a=0,b=c.length;a<b;a++)c[a].stop();return this};c.animate=function(c,a,b,m){\"function\"!=typeof b||b.length||(m=b,b=L.linear);c instanceof E&&(m=c.callback,b=c.easing,a=b.dur,c=c.attr);var d=[],f=[],l={},t,ca,n,T=this,q;for(q in c)if(c[h](q)){T.equal?(n=T.equal(q,J(c[q])),t=n.from,ca=\n",
       "n.to,n=n.f):(t=+T.attr(q),ca=+c[q]);var la=y(t,\"array\")?t.length:1;l[q]=e(d.length,d.length+la,n);d=d.concat(t);f=f.concat(ca)}t=L.time();var p=L(d,f,t,t+a,L.time,function(c){var a={},b;for(b in l)l[h](b)&&(a[b]=l[b](c));T.attr(a)},b);T.anims[p.id]=p;p._attrs=c;p._callback=m;k(\"snap.animcreated.\"+T.id,p);k.once(\"mina.finish.\"+p.id,function(){delete T.anims[p.id];m&&m.call(T)});k.once(\"mina.stop.\"+p.id,function(){delete T.anims[p.id]});return T};var T={};c.data=function(c,b){var m=T[this.id]=T[this.id]||\n",
       "{};if(0==arguments.length)return k(\"snap.data.get.\"+this.id,this,m,null),m;if(1==arguments.length){if(a.is(c,\"object\")){for(var e in c)c[h](e)&&this.data(e,c[e]);return this}k(\"snap.data.get.\"+this.id,this,m[c],c);return m[c]}m[c]=b;k(\"snap.data.set.\"+this.id,this,b,c);return this};c.removeData=function(c){null==c?T[this.id]={}:T[this.id]&&delete T[this.id][c];return this};c.outerSVG=c.toString=d(1);c.innerSVG=d()})(e.prototype);a.parse=function(c){var a=G.doc.createDocumentFragment(),b=!0,m=G.doc.createElement(\"div\");\n",
       "c=J(c);c.match(/^\\s*<\\s*svg(?:\\s|>)/)||(c=\"<svg>\"+c+\"</svg>\",b=!1);m.innerHTML=c;if(c=m.getElementsByTagName(\"svg\")[0])if(b)a=c;else for(;c.firstChild;)a.appendChild(c.firstChild);m.innerHTML=aa;return new l(a)};l.prototype.select=e.prototype.select;l.prototype.selectAll=e.prototype.selectAll;a.fragment=function(){for(var c=Array.prototype.slice.call(arguments,0),b=G.doc.createDocumentFragment(),m=0,e=c.length;m<e;m++){var h=c[m];h.node&&h.node.nodeType&&b.appendChild(h.node);h.nodeType&&b.appendChild(h);\n",
       "\"string\"==typeof h&&b.appendChild(a.parse(h).node)}return new l(b)};a._.make=r;a._.wrap=x;s.prototype.el=function(c,a){var b=r(c,this.node);a&&b.attr(a);return b};k.on(\"snap.util.getattr\",function(){var c=k.nt(),c=c.substring(c.lastIndexOf(\".\")+1),a=c.replace(/[A-Z]/g,function(c){return\"-\"+c.toLowerCase()});return pa[h](a)?this.node.ownerDocument.defaultView.getComputedStyle(this.node,null).getPropertyValue(a):v(this.node,c)});var pa={\"alignment-baseline\":0,\"baseline-shift\":0,clip:0,\"clip-path\":0,\n",
       "\"clip-rule\":0,color:0,\"color-interpolation\":0,\"color-interpolation-filters\":0,\"color-profile\":0,\"color-rendering\":0,cursor:0,direction:0,display:0,\"dominant-baseline\":0,\"enable-background\":0,fill:0,\"fill-opacity\":0,\"fill-rule\":0,filter:0,\"flood-color\":0,\"flood-opacity\":0,font:0,\"font-family\":0,\"font-size\":0,\"font-size-adjust\":0,\"font-stretch\":0,\"font-style\":0,\"font-variant\":0,\"font-weight\":0,\"glyph-orientation-horizontal\":0,\"glyph-orientation-vertical\":0,\"image-rendering\":0,kerning:0,\"letter-spacing\":0,\n",
       "\"lighting-color\":0,marker:0,\"marker-end\":0,\"marker-mid\":0,\"marker-start\":0,mask:0,opacity:0,overflow:0,\"pointer-events\":0,\"shape-rendering\":0,\"stop-color\":0,\"stop-opacity\":0,stroke:0,\"stroke-dasharray\":0,\"stroke-dashoffset\":0,\"stroke-linecap\":0,\"stroke-linejoin\":0,\"stroke-miterlimit\":0,\"stroke-opacity\":0,\"stroke-width\":0,\"text-anchor\":0,\"text-decoration\":0,\"text-rendering\":0,\"unicode-bidi\":0,visibility:0,\"word-spacing\":0,\"writing-mode\":0};k.on(\"snap.util.attr\",function(c){var a=k.nt(),b={},a=a.substring(a.lastIndexOf(\".\")+\n",
       "1);b[a]=c;var m=a.replace(/-(\\w)/gi,function(c,a){return a.toUpperCase()}),a=a.replace(/[A-Z]/g,function(c){return\"-\"+c.toLowerCase()});pa[h](a)?this.node.style[m]=null==c?aa:c:v(this.node,b)});a.ajax=function(c,a,b,m){var e=new XMLHttpRequest,h=V();if(e){if(y(a,\"function\"))m=b,b=a,a=null;else if(y(a,\"object\")){var d=[],f;for(f in a)a.hasOwnProperty(f)&&d.push(encodeURIComponent(f)+\"=\"+encodeURIComponent(a[f]));a=d.join(\"&\")}e.open(a?\"POST\":\"GET\",c,!0);a&&(e.setRequestHeader(\"X-Requested-With\",\"XMLHttpRequest\"),\n",
       "e.setRequestHeader(\"Content-type\",\"application/x-www-form-urlencoded\"));b&&(k.once(\"snap.ajax.\"+h+\".0\",b),k.once(\"snap.ajax.\"+h+\".200\",b),k.once(\"snap.ajax.\"+h+\".304\",b));e.onreadystatechange=function(){4==e.readyState&&k(\"snap.ajax.\"+h+\".\"+e.status,m,e)};if(4==e.readyState)return e;e.send(a);return e}};a.load=function(c,b,m){a.ajax(c,function(c){c=a.parse(c.responseText);m?b.call(m,c):b(c)})};a.getElementByPoint=function(c,a){var b,m,e=G.doc.elementFromPoint(c,a);if(G.win.opera&&\"svg\"==e.tagName){b=\n",
       "e;m=b.getBoundingClientRect();b=b.ownerDocument;var h=b.body,d=b.documentElement;b=m.top+(g.win.pageYOffset||d.scrollTop||h.scrollTop)-(d.clientTop||h.clientTop||0);m=m.left+(g.win.pageXOffset||d.scrollLeft||h.scrollLeft)-(d.clientLeft||h.clientLeft||0);h=e.createSVGRect();h.x=c-m;h.y=a-b;h.width=h.height=1;b=e.getIntersectionList(h,null);b.length&&(e=b[b.length-1])}return e?x(e):null};a.plugin=function(c){c(a,e,s,G,l)};return G.win.Snap=a}();C.plugin(function(a,k,y,M,A){function w(a,d,f,b,q,e){null==\n",
       "d&&\"[object SVGMatrix]\"==z.call(a)?(this.a=a.a,this.b=a.b,this.c=a.c,this.d=a.d,this.e=a.e,this.f=a.f):null!=a?(this.a=+a,this.b=+d,this.c=+f,this.d=+b,this.e=+q,this.f=+e):(this.a=1,this.c=this.b=0,this.d=1,this.f=this.e=0)}var z=Object.prototype.toString,d=String,f=Math;(function(n){function k(a){return a[0]*a[0]+a[1]*a[1]}function p(a){var d=f.sqrt(k(a));a[0]&&(a[0]/=d);a[1]&&(a[1]/=d)}n.add=function(a,d,e,f,n,p){var k=[[],[],[] ],u=[[this.a,this.c,this.e],[this.b,this.d,this.f],[0,0,1] ];d=[[a,\n",
       "e,n],[d,f,p],[0,0,1] ];a&&a instanceof w&&(d=[[a.a,a.c,a.e],[a.b,a.d,a.f],[0,0,1] ]);for(a=0;3>a;a++)for(e=0;3>e;e++){for(f=n=0;3>f;f++)n+=u[a][f]*d[f][e];k[a][e]=n}this.a=k[0][0];this.b=k[1][0];this.c=k[0][1];this.d=k[1][1];this.e=k[0][2];this.f=k[1][2];return this};n.invert=function(){var a=this.a*this.d-this.b*this.c;return new w(this.d/a,-this.b/a,-this.c/a,this.a/a,(this.c*this.f-this.d*this.e)/a,(this.b*this.e-this.a*this.f)/a)};n.clone=function(){return new w(this.a,this.b,this.c,this.d,this.e,\n",
       "this.f)};n.translate=function(a,d){return this.add(1,0,0,1,a,d)};n.scale=function(a,d,e,f){null==d&&(d=a);(e||f)&&this.add(1,0,0,1,e,f);this.add(a,0,0,d,0,0);(e||f)&&this.add(1,0,0,1,-e,-f);return this};n.rotate=function(b,d,e){b=a.rad(b);d=d||0;e=e||0;var l=+f.cos(b).toFixed(9);b=+f.sin(b).toFixed(9);this.add(l,b,-b,l,d,e);return this.add(1,0,0,1,-d,-e)};n.x=function(a,d){return a*this.a+d*this.c+this.e};n.y=function(a,d){return a*this.b+d*this.d+this.f};n.get=function(a){return+this[d.fromCharCode(97+\n",
       "a)].toFixed(4)};n.toString=function(){return\"matrix(\"+[this.get(0),this.get(1),this.get(2),this.get(3),this.get(4),this.get(5)].join()+\")\"};n.offset=function(){return[this.e.toFixed(4),this.f.toFixed(4)]};n.determinant=function(){return this.a*this.d-this.b*this.c};n.split=function(){var b={};b.dx=this.e;b.dy=this.f;var d=[[this.a,this.c],[this.b,this.d] ];b.scalex=f.sqrt(k(d[0]));p(d[0]);b.shear=d[0][0]*d[1][0]+d[0][1]*d[1][1];d[1]=[d[1][0]-d[0][0]*b.shear,d[1][1]-d[0][1]*b.shear];b.scaley=f.sqrt(k(d[1]));\n",
       "p(d[1]);b.shear/=b.scaley;0>this.determinant()&&(b.scalex=-b.scalex);var e=-d[0][1],d=d[1][1];0>d?(b.rotate=a.deg(f.acos(d)),0>e&&(b.rotate=360-b.rotate)):b.rotate=a.deg(f.asin(e));b.isSimple=!+b.shear.toFixed(9)&&(b.scalex.toFixed(9)==b.scaley.toFixed(9)||!b.rotate);b.isSuperSimple=!+b.shear.toFixed(9)&&b.scalex.toFixed(9)==b.scaley.toFixed(9)&&!b.rotate;b.noRotation=!+b.shear.toFixed(9)&&!b.rotate;return b};n.toTransformString=function(a){a=a||this.split();if(+a.shear.toFixed(9))return\"m\"+[this.get(0),\n",
       "this.get(1),this.get(2),this.get(3),this.get(4),this.get(5)];a.scalex=+a.scalex.toFixed(4);a.scaley=+a.scaley.toFixed(4);a.rotate=+a.rotate.toFixed(4);return(a.dx||a.dy?\"t\"+[+a.dx.toFixed(4),+a.dy.toFixed(4)]:\"\")+(1!=a.scalex||1!=a.scaley?\"s\"+[a.scalex,a.scaley,0,0]:\"\")+(a.rotate?\"r\"+[+a.rotate.toFixed(4),0,0]:\"\")}})(w.prototype);a.Matrix=w;a.matrix=function(a,d,f,b,k,e){return new w(a,d,f,b,k,e)}});C.plugin(function(a,v,y,M,A){function w(h){return function(d){k.stop();d instanceof A&&1==d.node.childNodes.length&&\n",
       "(\"radialGradient\"==d.node.firstChild.tagName||\"linearGradient\"==d.node.firstChild.tagName||\"pattern\"==d.node.firstChild.tagName)&&(d=d.node.firstChild,b(this).appendChild(d),d=u(d));if(d instanceof v)if(\"radialGradient\"==d.type||\"linearGradient\"==d.type||\"pattern\"==d.type){d.node.id||e(d.node,{id:d.id});var f=l(d.node.id)}else f=d.attr(h);else f=a.color(d),f.error?(f=a(b(this).ownerSVGElement).gradient(d))?(f.node.id||e(f.node,{id:f.id}),f=l(f.node.id)):f=d:f=r(f);d={};d[h]=f;e(this.node,d);this.node.style[h]=\n",
       "x}}function z(a){k.stop();a==+a&&(a+=\"px\");this.node.style.fontSize=a}function d(a){var b=[];a=a.childNodes;for(var e=0,f=a.length;e<f;e++){var l=a[e];3==l.nodeType&&b.push(l.nodeValue);\"tspan\"==l.tagName&&(1==l.childNodes.length&&3==l.firstChild.nodeType?b.push(l.firstChild.nodeValue):b.push(d(l)))}return b}function f(){k.stop();return this.node.style.fontSize}var n=a._.make,u=a._.wrap,p=a.is,b=a._.getSomeDefs,q=/^url\\(#?([^)]+)\\)$/,e=a._.$,l=a.url,r=String,s=a._.separator,x=\"\";k.on(\"snap.util.attr.mask\",\n",
       "function(a){if(a instanceof v||a instanceof A){k.stop();a instanceof A&&1==a.node.childNodes.length&&(a=a.node.firstChild,b(this).appendChild(a),a=u(a));if(\"mask\"==a.type)var d=a;else d=n(\"mask\",b(this)),d.node.appendChild(a.node);!d.node.id&&e(d.node,{id:d.id});e(this.node,{mask:l(d.id)})}});(function(a){k.on(\"snap.util.attr.clip\",a);k.on(\"snap.util.attr.clip-path\",a);k.on(\"snap.util.attr.clipPath\",a)})(function(a){if(a instanceof v||a instanceof A){k.stop();if(\"clipPath\"==a.type)var d=a;else d=\n",
       "n(\"clipPath\",b(this)),d.node.appendChild(a.node),!d.node.id&&e(d.node,{id:d.id});e(this.node,{\"clip-path\":l(d.id)})}});k.on(\"snap.util.attr.fill\",w(\"fill\"));k.on(\"snap.util.attr.stroke\",w(\"stroke\"));var G=/^([lr])(?:\\(([^)]*)\\))?(.*)$/i;k.on(\"snap.util.grad.parse\",function(a){a=r(a);var b=a.match(G);if(!b)return null;a=b[1];var e=b[2],b=b[3],e=e.split(/\\s*,\\s*/).map(function(a){return+a==a?+a:a});1==e.length&&0==e[0]&&(e=[]);b=b.split(\"-\");b=b.map(function(a){a=a.split(\":\");var b={color:a[0]};a[1]&&\n",
       "(b.offset=parseFloat(a[1]));return b});return{type:a,params:e,stops:b}});k.on(\"snap.util.attr.d\",function(b){k.stop();p(b,\"array\")&&p(b[0],\"array\")&&(b=a.path.toString.call(b));b=r(b);b.match(/[ruo]/i)&&(b=a.path.toAbsolute(b));e(this.node,{d:b})})(-1);k.on(\"snap.util.attr.#text\",function(a){k.stop();a=r(a);for(a=M.doc.createTextNode(a);this.node.firstChild;)this.node.removeChild(this.node.firstChild);this.node.appendChild(a)})(-1);k.on(\"snap.util.attr.path\",function(a){k.stop();this.attr({d:a})})(-1);\n",
       "k.on(\"snap.util.attr.class\",function(a){k.stop();this.node.className.baseVal=a})(-1);k.on(\"snap.util.attr.viewBox\",function(a){a=p(a,\"object\")&&\"x\"in a?[a.x,a.y,a.width,a.height].join(\" \"):p(a,\"array\")?a.join(\" \"):a;e(this.node,{viewBox:a});k.stop()})(-1);k.on(\"snap.util.attr.transform\",function(a){this.transform(a);k.stop()})(-1);k.on(\"snap.util.attr.r\",function(a){\"rect\"==this.type&&(k.stop(),e(this.node,{rx:a,ry:a}))})(-1);k.on(\"snap.util.attr.textpath\",function(a){k.stop();if(\"text\"==this.type){var d,\n",
       "f;if(!a&&this.textPath){for(a=this.textPath;a.node.firstChild;)this.node.appendChild(a.node.firstChild);a.remove();delete this.textPath}else if(p(a,\"string\")?(d=b(this),a=u(d.parentNode).path(a),d.appendChild(a.node),d=a.id,a.attr({id:d})):(a=u(a),a instanceof v&&(d=a.attr(\"id\"),d||(d=a.id,a.attr({id:d})))),d)if(a=this.textPath,f=this.node,a)a.attr({\"xlink:href\":\"#\"+d});else{for(a=e(\"textPath\",{\"xlink:href\":\"#\"+d});f.firstChild;)a.appendChild(f.firstChild);f.appendChild(a);this.textPath=u(a)}}})(-1);\n",
       "k.on(\"snap.util.attr.text\",function(a){if(\"text\"==this.type){for(var b=this.node,d=function(a){var b=e(\"tspan\");if(p(a,\"array\"))for(var f=0;f<a.length;f++)b.appendChild(d(a[f]));else b.appendChild(M.doc.createTextNode(a));b.normalize&&b.normalize();return b};b.firstChild;)b.removeChild(b.firstChild);for(a=d(a);a.firstChild;)b.appendChild(a.firstChild)}k.stop()})(-1);k.on(\"snap.util.attr.fontSize\",z)(-1);k.on(\"snap.util.attr.font-size\",z)(-1);k.on(\"snap.util.getattr.transform\",function(){k.stop();\n",
       "return this.transform()})(-1);k.on(\"snap.util.getattr.textpath\",function(){k.stop();return this.textPath})(-1);(function(){function b(d){return function(){k.stop();var b=M.doc.defaultView.getComputedStyle(this.node,null).getPropertyValue(\"marker-\"+d);return\"none\"==b?b:a(M.doc.getElementById(b.match(q)[1]))}}function d(a){return function(b){k.stop();var d=\"marker\"+a.charAt(0).toUpperCase()+a.substring(1);if(\"\"==b||!b)this.node.style[d]=\"none\";else if(\"marker\"==b.type){var f=b.node.id;f||e(b.node,{id:b.id});\n",
       "this.node.style[d]=l(f)}}}k.on(\"snap.util.getattr.marker-end\",b(\"end\"))(-1);k.on(\"snap.util.getattr.markerEnd\",b(\"end\"))(-1);k.on(\"snap.util.getattr.marker-start\",b(\"start\"))(-1);k.on(\"snap.util.getattr.markerStart\",b(\"start\"))(-1);k.on(\"snap.util.getattr.marker-mid\",b(\"mid\"))(-1);k.on(\"snap.util.getattr.markerMid\",b(\"mid\"))(-1);k.on(\"snap.util.attr.marker-end\",d(\"end\"))(-1);k.on(\"snap.util.attr.markerEnd\",d(\"end\"))(-1);k.on(\"snap.util.attr.marker-start\",d(\"start\"))(-1);k.on(\"snap.util.attr.markerStart\",\n",
       "d(\"start\"))(-1);k.on(\"snap.util.attr.marker-mid\",d(\"mid\"))(-1);k.on(\"snap.util.attr.markerMid\",d(\"mid\"))(-1)})();k.on(\"snap.util.getattr.r\",function(){if(\"rect\"==this.type&&e(this.node,\"rx\")==e(this.node,\"ry\"))return k.stop(),e(this.node,\"rx\")})(-1);k.on(\"snap.util.getattr.text\",function(){if(\"text\"==this.type||\"tspan\"==this.type){k.stop();var a=d(this.node);return 1==a.length?a[0]:a}})(-1);k.on(\"snap.util.getattr.#text\",function(){return this.node.textContent})(-1);k.on(\"snap.util.getattr.viewBox\",\n",
       "function(){k.stop();var b=e(this.node,\"viewBox\");if(b)return b=b.split(s),a._.box(+b[0],+b[1],+b[2],+b[3])})(-1);k.on(\"snap.util.getattr.points\",function(){var a=e(this.node,\"points\");k.stop();if(a)return a.split(s)})(-1);k.on(\"snap.util.getattr.path\",function(){var a=e(this.node,\"d\");k.stop();return a})(-1);k.on(\"snap.util.getattr.class\",function(){return this.node.className.baseVal})(-1);k.on(\"snap.util.getattr.fontSize\",f)(-1);k.on(\"snap.util.getattr.font-size\",f)(-1)});C.plugin(function(a,v,y,\n",
       "M,A){function w(a){return a}function z(a){return function(b){return+b.toFixed(3)+a}}var d={\"+\":function(a,b){return a+b},\"-\":function(a,b){return a-b},\"/\":function(a,b){return a/b},\"*\":function(a,b){return a*b}},f=String,n=/[a-z]+$/i,u=/^\\s*([+\\-\\/*])\\s*=\\s*([\\d.eE+\\-]+)\\s*([^\\d\\s]+)?\\s*$/;k.on(\"snap.util.attr\",function(a){if(a=f(a).match(u)){var b=k.nt(),b=b.substring(b.lastIndexOf(\".\")+1),q=this.attr(b),e={};k.stop();var l=a[3]||\"\",r=q.match(n),s=d[a[1] ];r&&r==l?a=s(parseFloat(q),+a[2]):(q=this.asPX(b),\n",
       "a=s(this.asPX(b),this.asPX(b,a[2]+l)));isNaN(q)||isNaN(a)||(e[b]=a,this.attr(e))}})(-10);k.on(\"snap.util.equal\",function(a,b){var q=f(this.attr(a)||\"\"),e=f(b).match(u);if(e){k.stop();var l=e[3]||\"\",r=q.match(n),s=d[e[1] ];if(r&&r==l)return{from:parseFloat(q),to:s(parseFloat(q),+e[2]),f:z(r)};q=this.asPX(a);return{from:q,to:s(q,this.asPX(a,e[2]+l)),f:w}}})(-10)});C.plugin(function(a,v,y,M,A){var w=y.prototype,z=a.is;w.rect=function(a,d,k,p,b,q){var e;null==q&&(q=b);z(a,\"object\")&&\"[object Object]\"==\n",
       "a?e=a:null!=a&&(e={x:a,y:d,width:k,height:p},null!=b&&(e.rx=b,e.ry=q));return this.el(\"rect\",e)};w.circle=function(a,d,k){var p;z(a,\"object\")&&\"[object Object]\"==a?p=a:null!=a&&(p={cx:a,cy:d,r:k});return this.el(\"circle\",p)};var d=function(){function a(){this.parentNode.removeChild(this)}return function(d,k){var p=M.doc.createElement(\"img\"),b=M.doc.body;p.style.cssText=\"position:absolute;left:-9999em;top:-9999em\";p.onload=function(){k.call(p);p.onload=p.onerror=null;b.removeChild(p)};p.onerror=a;\n",
       "b.appendChild(p);p.src=d}}();w.image=function(f,n,k,p,b){var q=this.el(\"image\");if(z(f,\"object\")&&\"src\"in f)q.attr(f);else if(null!=f){var e={\"xlink:href\":f,preserveAspectRatio:\"none\"};null!=n&&null!=k&&(e.x=n,e.y=k);null!=p&&null!=b?(e.width=p,e.height=b):d(f,function(){a._.$(q.node,{width:this.offsetWidth,height:this.offsetHeight})});a._.$(q.node,e)}return q};w.ellipse=function(a,d,k,p){var b;z(a,\"object\")&&\"[object Object]\"==a?b=a:null!=a&&(b={cx:a,cy:d,rx:k,ry:p});return this.el(\"ellipse\",b)};\n",
       "w.path=function(a){var d;z(a,\"object\")&&!z(a,\"array\")?d=a:a&&(d={d:a});return this.el(\"path\",d)};w.group=w.g=function(a){var d=this.el(\"g\");1==arguments.length&&a&&!a.type?d.attr(a):arguments.length&&d.add(Array.prototype.slice.call(arguments,0));return d};w.svg=function(a,d,k,p,b,q,e,l){var r={};z(a,\"object\")&&null==d?r=a:(null!=a&&(r.x=a),null!=d&&(r.y=d),null!=k&&(r.width=k),null!=p&&(r.height=p),null!=b&&null!=q&&null!=e&&null!=l&&(r.viewBox=[b,q,e,l]));return this.el(\"svg\",r)};w.mask=function(a){var d=\n",
       "this.el(\"mask\");1==arguments.length&&a&&!a.type?d.attr(a):arguments.length&&d.add(Array.prototype.slice.call(arguments,0));return d};w.ptrn=function(a,d,k,p,b,q,e,l){if(z(a,\"object\"))var r=a;else arguments.length?(r={},null!=a&&(r.x=a),null!=d&&(r.y=d),null!=k&&(r.width=k),null!=p&&(r.height=p),null!=b&&null!=q&&null!=e&&null!=l&&(r.viewBox=[b,q,e,l])):r={patternUnits:\"userSpaceOnUse\"};return this.el(\"pattern\",r)};w.use=function(a){return null!=a?(make(\"use\",this.node),a instanceof v&&(a.attr(\"id\")||\n",
       "a.attr({id:ID()}),a=a.attr(\"id\")),this.el(\"use\",{\"xlink:href\":a})):v.prototype.use.call(this)};w.text=function(a,d,k){var p={};z(a,\"object\")?p=a:null!=a&&(p={x:a,y:d,text:k||\"\"});return this.el(\"text\",p)};w.line=function(a,d,k,p){var b={};z(a,\"object\")?b=a:null!=a&&(b={x1:a,x2:k,y1:d,y2:p});return this.el(\"line\",b)};w.polyline=function(a){1<arguments.length&&(a=Array.prototype.slice.call(arguments,0));var d={};z(a,\"object\")&&!z(a,\"array\")?d=a:null!=a&&(d={points:a});return this.el(\"polyline\",d)};\n",
       "w.polygon=function(a){1<arguments.length&&(a=Array.prototype.slice.call(arguments,0));var d={};z(a,\"object\")&&!z(a,\"array\")?d=a:null!=a&&(d={points:a});return this.el(\"polygon\",d)};(function(){function d(){return this.selectAll(\"stop\")}function n(b,d){var f=e(\"stop\"),k={offset:+d+\"%\"};b=a.color(b);k[\"stop-color\"]=b.hex;1>b.opacity&&(k[\"stop-opacity\"]=b.opacity);e(f,k);this.node.appendChild(f);return this}function u(){if(\"linearGradient\"==this.type){var b=e(this.node,\"x1\")||0,d=e(this.node,\"x2\")||\n",
       "1,f=e(this.node,\"y1\")||0,k=e(this.node,\"y2\")||0;return a._.box(b,f,math.abs(d-b),math.abs(k-f))}b=this.node.r||0;return a._.box((this.node.cx||0.5)-b,(this.node.cy||0.5)-b,2*b,2*b)}function p(a,d){function f(a,b){for(var d=(b-u)/(a-w),e=w;e<a;e++)h[e].offset=+(+u+d*(e-w)).toFixed(2);w=a;u=b}var n=k(\"snap.util.grad.parse\",null,d).firstDefined(),p;if(!n)return null;n.params.unshift(a);p=\"l\"==n.type.toLowerCase()?b.apply(0,n.params):q.apply(0,n.params);n.type!=n.type.toLowerCase()&&e(p.node,{gradientUnits:\"userSpaceOnUse\"});\n",
       "var h=n.stops,n=h.length,u=0,w=0;n--;for(var v=0;v<n;v++)\"offset\"in h[v]&&f(v,h[v].offset);h[n].offset=h[n].offset||100;f(n,h[n].offset);for(v=0;v<=n;v++){var y=h[v];p.addStop(y.color,y.offset)}return p}function b(b,k,p,q,w){b=a._.make(\"linearGradient\",b);b.stops=d;b.addStop=n;b.getBBox=u;null!=k&&e(b.node,{x1:k,y1:p,x2:q,y2:w});return b}function q(b,k,p,q,w,h){b=a._.make(\"radialGradient\",b);b.stops=d;b.addStop=n;b.getBBox=u;null!=k&&e(b.node,{cx:k,cy:p,r:q});null!=w&&null!=h&&e(b.node,{fx:w,fy:h});\n",
       "return b}var e=a._.$;w.gradient=function(a){return p(this.defs,a)};w.gradientLinear=function(a,d,e,f){return b(this.defs,a,d,e,f)};w.gradientRadial=function(a,b,d,e,f){return q(this.defs,a,b,d,e,f)};w.toString=function(){var b=this.node.ownerDocument,d=b.createDocumentFragment(),b=b.createElement(\"div\"),e=this.node.cloneNode(!0);d.appendChild(b);b.appendChild(e);a._.$(e,{xmlns:\"http://www.w3.org/2000/svg\"});b=b.innerHTML;d.removeChild(d.firstChild);return b};w.clear=function(){for(var a=this.node.firstChild,\n",
       "b;a;)b=a.nextSibling,\"defs\"!=a.tagName?a.parentNode.removeChild(a):w.clear.call({node:a}),a=b}})()});C.plugin(function(a,k,y,M){function A(a){var b=A.ps=A.ps||{};b[a]?b[a].sleep=100:b[a]={sleep:100};setTimeout(function(){for(var d in b)b[L](d)&&d!=a&&(b[d].sleep--,!b[d].sleep&&delete b[d])});return b[a]}function w(a,b,d,e){null==a&&(a=b=d=e=0);null==b&&(b=a.y,d=a.width,e=a.height,a=a.x);return{x:a,y:b,width:d,w:d,height:e,h:e,x2:a+d,y2:b+e,cx:a+d/2,cy:b+e/2,r1:F.min(d,e)/2,r2:F.max(d,e)/2,r0:F.sqrt(d*\n",
       "d+e*e)/2,path:s(a,b,d,e),vb:[a,b,d,e].join(\" \")}}function z(){return this.join(\",\").replace(N,\"$1\")}function d(a){a=C(a);a.toString=z;return a}function f(a,b,d,h,f,k,l,n,p){if(null==p)return e(a,b,d,h,f,k,l,n);if(0>p||e(a,b,d,h,f,k,l,n)<p)p=void 0;else{var q=0.5,O=1-q,s;for(s=e(a,b,d,h,f,k,l,n,O);0.01<Z(s-p);)q/=2,O+=(s<p?1:-1)*q,s=e(a,b,d,h,f,k,l,n,O);p=O}return u(a,b,d,h,f,k,l,n,p)}function n(b,d){function e(a){return+(+a).toFixed(3)}return a._.cacher(function(a,h,l){a instanceof k&&(a=a.attr(\"d\"));\n",
       "a=I(a);for(var n,p,D,q,O=\"\",s={},c=0,t=0,r=a.length;t<r;t++){D=a[t];if(\"M\"==D[0])n=+D[1],p=+D[2];else{q=f(n,p,D[1],D[2],D[3],D[4],D[5],D[6]);if(c+q>h){if(d&&!s.start){n=f(n,p,D[1],D[2],D[3],D[4],D[5],D[6],h-c);O+=[\"C\"+e(n.start.x),e(n.start.y),e(n.m.x),e(n.m.y),e(n.x),e(n.y)];if(l)return O;s.start=O;O=[\"M\"+e(n.x),e(n.y)+\"C\"+e(n.n.x),e(n.n.y),e(n.end.x),e(n.end.y),e(D[5]),e(D[6])].join();c+=q;n=+D[5];p=+D[6];continue}if(!b&&!d)return n=f(n,p,D[1],D[2],D[3],D[4],D[5],D[6],h-c)}c+=q;n=+D[5];p=+D[6]}O+=\n",
       "D.shift()+D}s.end=O;return n=b?c:d?s:u(n,p,D[0],D[1],D[2],D[3],D[4],D[5],1)},null,a._.clone)}function u(a,b,d,e,h,f,k,l,n){var p=1-n,q=ma(p,3),s=ma(p,2),c=n*n,t=c*n,r=q*a+3*s*n*d+3*p*n*n*h+t*k,q=q*b+3*s*n*e+3*p*n*n*f+t*l,s=a+2*n*(d-a)+c*(h-2*d+a),t=b+2*n*(e-b)+c*(f-2*e+b),x=d+2*n*(h-d)+c*(k-2*h+d),c=e+2*n*(f-e)+c*(l-2*f+e);a=p*a+n*d;b=p*b+n*e;h=p*h+n*k;f=p*f+n*l;l=90-180*F.atan2(s-x,t-c)/S;return{x:r,y:q,m:{x:s,y:t},n:{x:x,y:c},start:{x:a,y:b},end:{x:h,y:f},alpha:l}}function p(b,d,e,h,f,n,k,l){a.is(b,\n",
       "\"array\")||(b=[b,d,e,h,f,n,k,l]);b=U.apply(null,b);return w(b.min.x,b.min.y,b.max.x-b.min.x,b.max.y-b.min.y)}function b(a,b,d){return b>=a.x&&b<=a.x+a.width&&d>=a.y&&d<=a.y+a.height}function q(a,d){a=w(a);d=w(d);return b(d,a.x,a.y)||b(d,a.x2,a.y)||b(d,a.x,a.y2)||b(d,a.x2,a.y2)||b(a,d.x,d.y)||b(a,d.x2,d.y)||b(a,d.x,d.y2)||b(a,d.x2,d.y2)||(a.x<d.x2&&a.x>d.x||d.x<a.x2&&d.x>a.x)&&(a.y<d.y2&&a.y>d.y||d.y<a.y2&&d.y>a.y)}function e(a,b,d,e,h,f,n,k,l){null==l&&(l=1);l=(1<l?1:0>l?0:l)/2;for(var p=[-0.1252,\n",
       "0.1252,-0.3678,0.3678,-0.5873,0.5873,-0.7699,0.7699,-0.9041,0.9041,-0.9816,0.9816],q=[0.2491,0.2491,0.2335,0.2335,0.2032,0.2032,0.1601,0.1601,0.1069,0.1069,0.0472,0.0472],s=0,c=0;12>c;c++)var t=l*p[c]+l,r=t*(t*(-3*a+9*d-9*h+3*n)+6*a-12*d+6*h)-3*a+3*d,t=t*(t*(-3*b+9*e-9*f+3*k)+6*b-12*e+6*f)-3*b+3*e,s=s+q[c]*F.sqrt(r*r+t*t);return l*s}function l(a,b,d){a=I(a);b=I(b);for(var h,f,l,n,k,s,r,O,x,c,t=d?0:[],w=0,v=a.length;w<v;w++)if(x=a[w],\"M\"==x[0])h=k=x[1],f=s=x[2];else{\"C\"==x[0]?(x=[h,f].concat(x.slice(1)),\n",
       "h=x[6],f=x[7]):(x=[h,f,h,f,k,s,k,s],h=k,f=s);for(var G=0,y=b.length;G<y;G++)if(c=b[G],\"M\"==c[0])l=r=c[1],n=O=c[2];else{\"C\"==c[0]?(c=[l,n].concat(c.slice(1)),l=c[6],n=c[7]):(c=[l,n,l,n,r,O,r,O],l=r,n=O);var z;var K=x,B=c;z=d;var H=p(K),J=p(B);if(q(H,J)){for(var H=e.apply(0,K),J=e.apply(0,B),H=~~(H/8),J=~~(J/8),U=[],A=[],F={},M=z?0:[],P=0;P<H+1;P++){var C=u.apply(0,K.concat(P/H));U.push({x:C.x,y:C.y,t:P/H})}for(P=0;P<J+1;P++)C=u.apply(0,B.concat(P/J)),A.push({x:C.x,y:C.y,t:P/J});for(P=0;P<H;P++)for(K=\n",
       "0;K<J;K++){var Q=U[P],L=U[P+1],B=A[K],C=A[K+1],N=0.001>Z(L.x-Q.x)?\"y\":\"x\",S=0.001>Z(C.x-B.x)?\"y\":\"x\",R;R=Q.x;var Y=Q.y,V=L.x,ea=L.y,fa=B.x,ga=B.y,ha=C.x,ia=C.y;if(W(R,V)<X(fa,ha)||X(R,V)>W(fa,ha)||W(Y,ea)<X(ga,ia)||X(Y,ea)>W(ga,ia))R=void 0;else{var $=(R*ea-Y*V)*(fa-ha)-(R-V)*(fa*ia-ga*ha),aa=(R*ea-Y*V)*(ga-ia)-(Y-ea)*(fa*ia-ga*ha),ja=(R-V)*(ga-ia)-(Y-ea)*(fa-ha);if(ja){var $=$/ja,aa=aa/ja,ja=+$.toFixed(2),ba=+aa.toFixed(2);R=ja<+X(R,V).toFixed(2)||ja>+W(R,V).toFixed(2)||ja<+X(fa,ha).toFixed(2)||\n",
       "ja>+W(fa,ha).toFixed(2)||ba<+X(Y,ea).toFixed(2)||ba>+W(Y,ea).toFixed(2)||ba<+X(ga,ia).toFixed(2)||ba>+W(ga,ia).toFixed(2)?void 0:{x:$,y:aa}}else R=void 0}R&&F[R.x.toFixed(4)]!=R.y.toFixed(4)&&(F[R.x.toFixed(4)]=R.y.toFixed(4),Q=Q.t+Z((R[N]-Q[N])/(L[N]-Q[N]))*(L.t-Q.t),B=B.t+Z((R[S]-B[S])/(C[S]-B[S]))*(C.t-B.t),0<=Q&&1>=Q&&0<=B&&1>=B&&(z?M++:M.push({x:R.x,y:R.y,t1:Q,t2:B})))}z=M}else z=z?0:[];if(d)t+=z;else{H=0;for(J=z.length;H<J;H++)z[H].segment1=w,z[H].segment2=G,z[H].bez1=x,z[H].bez2=c;t=t.concat(z)}}}return t}\n",
       "function r(a){var b=A(a);if(b.bbox)return C(b.bbox);if(!a)return w();a=I(a);for(var d=0,e=0,h=[],f=[],l,n=0,k=a.length;n<k;n++)l=a[n],\"M\"==l[0]?(d=l[1],e=l[2],h.push(d),f.push(e)):(d=U(d,e,l[1],l[2],l[3],l[4],l[5],l[6]),h=h.concat(d.min.x,d.max.x),f=f.concat(d.min.y,d.max.y),d=l[5],e=l[6]);a=X.apply(0,h);l=X.apply(0,f);h=W.apply(0,h);f=W.apply(0,f);f=w(a,l,h-a,f-l);b.bbox=C(f);return f}function s(a,b,d,e,h){if(h)return[[\"M\",+a+ +h,b],[\"l\",d-2*h,0],[\"a\",h,h,0,0,1,h,h],[\"l\",0,e-2*h],[\"a\",h,h,0,0,1,\n",
       "-h,h],[\"l\",2*h-d,0],[\"a\",h,h,0,0,1,-h,-h],[\"l\",0,2*h-e],[\"a\",h,h,0,0,1,h,-h],[\"z\"] ];a=[[\"M\",a,b],[\"l\",d,0],[\"l\",0,e],[\"l\",-d,0],[\"z\"] ];a.toString=z;return a}function x(a,b,d,e,h){null==h&&null==e&&(e=d);a=+a;b=+b;d=+d;e=+e;if(null!=h){var f=Math.PI/180,l=a+d*Math.cos(-e*f);a+=d*Math.cos(-h*f);var n=b+d*Math.sin(-e*f);b+=d*Math.sin(-h*f);d=[[\"M\",l,n],[\"A\",d,d,0,+(180<h-e),0,a,b] ]}else d=[[\"M\",a,b],[\"m\",0,-e],[\"a\",d,e,0,1,1,0,2*e],[\"a\",d,e,0,1,1,0,-2*e],[\"z\"] ];d.toString=z;return d}function G(b){var e=\n",
       "A(b);if(e.abs)return d(e.abs);Q(b,\"array\")&&Q(b&&b[0],\"array\")||(b=a.parsePathString(b));if(!b||!b.length)return[[\"M\",0,0] ];var h=[],f=0,l=0,n=0,k=0,p=0;\"M\"==b[0][0]&&(f=+b[0][1],l=+b[0][2],n=f,k=l,p++,h[0]=[\"M\",f,l]);for(var q=3==b.length&&\"M\"==b[0][0]&&\"R\"==b[1][0].toUpperCase()&&\"Z\"==b[2][0].toUpperCase(),s,r,w=p,c=b.length;w<c;w++){h.push(s=[]);r=b[w];p=r[0];if(p!=p.toUpperCase())switch(s[0]=p.toUpperCase(),s[0]){case \"A\":s[1]=r[1];s[2]=r[2];s[3]=r[3];s[4]=r[4];s[5]=r[5];s[6]=+r[6]+f;s[7]=+r[7]+\n",
       "l;break;case \"V\":s[1]=+r[1]+l;break;case \"H\":s[1]=+r[1]+f;break;case \"R\":for(var t=[f,l].concat(r.slice(1)),u=2,v=t.length;u<v;u++)t[u]=+t[u]+f,t[++u]=+t[u]+l;h.pop();h=h.concat(P(t,q));break;case \"O\":h.pop();t=x(f,l,r[1],r[2]);t.push(t[0]);h=h.concat(t);break;case \"U\":h.pop();h=h.concat(x(f,l,r[1],r[2],r[3]));s=[\"U\"].concat(h[h.length-1].slice(-2));break;case \"M\":n=+r[1]+f,k=+r[2]+l;default:for(u=1,v=r.length;u<v;u++)s[u]=+r[u]+(u%2?f:l)}else if(\"R\"==p)t=[f,l].concat(r.slice(1)),h.pop(),h=h.concat(P(t,\n",
       "q)),s=[\"R\"].concat(r.slice(-2));else if(\"O\"==p)h.pop(),t=x(f,l,r[1],r[2]),t.push(t[0]),h=h.concat(t);else if(\"U\"==p)h.pop(),h=h.concat(x(f,l,r[1],r[2],r[3])),s=[\"U\"].concat(h[h.length-1].slice(-2));else for(t=0,u=r.length;t<u;t++)s[t]=r[t];p=p.toUpperCase();if(\"O\"!=p)switch(s[0]){case \"Z\":f=+n;l=+k;break;case \"H\":f=s[1];break;case \"V\":l=s[1];break;case \"M\":n=s[s.length-2],k=s[s.length-1];default:f=s[s.length-2],l=s[s.length-1]}}h.toString=z;e.abs=d(h);return h}function h(a,b,d,e){return[a,b,d,e,d,\n",
       "e]}function J(a,b,d,e,h,f){var l=1/3,n=2/3;return[l*a+n*d,l*b+n*e,l*h+n*d,l*f+n*e,h,f]}function K(b,d,e,h,f,l,n,k,p,s){var r=120*S/180,q=S/180*(+f||0),c=[],t,x=a._.cacher(function(a,b,c){var d=a*F.cos(c)-b*F.sin(c);a=a*F.sin(c)+b*F.cos(c);return{x:d,y:a}});if(s)v=s[0],t=s[1],l=s[2],u=s[3];else{t=x(b,d,-q);b=t.x;d=t.y;t=x(k,p,-q);k=t.x;p=t.y;F.cos(S/180*f);F.sin(S/180*f);t=(b-k)/2;v=(d-p)/2;u=t*t/(e*e)+v*v/(h*h);1<u&&(u=F.sqrt(u),e*=u,h*=u);var u=e*e,w=h*h,u=(l==n?-1:1)*F.sqrt(Z((u*w-u*v*v-w*t*t)/\n",
       "(u*v*v+w*t*t)));l=u*e*v/h+(b+k)/2;var u=u*-h*t/e+(d+p)/2,v=F.asin(((d-u)/h).toFixed(9));t=F.asin(((p-u)/h).toFixed(9));v=b<l?S-v:v;t=k<l?S-t:t;0>v&&(v=2*S+v);0>t&&(t=2*S+t);n&&v>t&&(v-=2*S);!n&&t>v&&(t-=2*S)}if(Z(t-v)>r){var c=t,w=k,G=p;t=v+r*(n&&t>v?1:-1);k=l+e*F.cos(t);p=u+h*F.sin(t);c=K(k,p,e,h,f,0,n,w,G,[t,c,l,u])}l=t-v;f=F.cos(v);r=F.sin(v);n=F.cos(t);t=F.sin(t);l=F.tan(l/4);e=4/3*e*l;l*=4/3*h;h=[b,d];b=[b+e*r,d-l*f];d=[k+e*t,p-l*n];k=[k,p];b[0]=2*h[0]-b[0];b[1]=2*h[1]-b[1];if(s)return[b,d,k].concat(c);\n",
       "c=[b,d,k].concat(c).join().split(\",\");s=[];k=0;for(p=c.length;k<p;k++)s[k]=k%2?x(c[k-1],c[k],q).y:x(c[k],c[k+1],q).x;return s}function U(a,b,d,e,h,f,l,k){for(var n=[],p=[[],[] ],s,r,c,t,q=0;2>q;++q)0==q?(r=6*a-12*d+6*h,s=-3*a+9*d-9*h+3*l,c=3*d-3*a):(r=6*b-12*e+6*f,s=-3*b+9*e-9*f+3*k,c=3*e-3*b),1E-12>Z(s)?1E-12>Z(r)||(s=-c/r,0<s&&1>s&&n.push(s)):(t=r*r-4*c*s,c=F.sqrt(t),0>t||(t=(-r+c)/(2*s),0<t&&1>t&&n.push(t),s=(-r-c)/(2*s),0<s&&1>s&&n.push(s)));for(r=q=n.length;q--;)s=n[q],c=1-s,p[0][q]=c*c*c*a+3*\n",
       "c*c*s*d+3*c*s*s*h+s*s*s*l,p[1][q]=c*c*c*b+3*c*c*s*e+3*c*s*s*f+s*s*s*k;p[0][r]=a;p[1][r]=b;p[0][r+1]=l;p[1][r+1]=k;p[0].length=p[1].length=r+2;return{min:{x:X.apply(0,p[0]),y:X.apply(0,p[1])},max:{x:W.apply(0,p[0]),y:W.apply(0,p[1])}}}function I(a,b){var e=!b&&A(a);if(!b&&e.curve)return d(e.curve);var f=G(a),l=b&&G(b),n={x:0,y:0,bx:0,by:0,X:0,Y:0,qx:null,qy:null},k={x:0,y:0,bx:0,by:0,X:0,Y:0,qx:null,qy:null},p=function(a,b,c){if(!a)return[\"C\",b.x,b.y,b.x,b.y,b.x,b.y];a[0]in{T:1,Q:1}||(b.qx=b.qy=null);\n",
       "switch(a[0]){case \"M\":b.X=a[1];b.Y=a[2];break;case \"A\":a=[\"C\"].concat(K.apply(0,[b.x,b.y].concat(a.slice(1))));break;case \"S\":\"C\"==c||\"S\"==c?(c=2*b.x-b.bx,b=2*b.y-b.by):(c=b.x,b=b.y);a=[\"C\",c,b].concat(a.slice(1));break;case \"T\":\"Q\"==c||\"T\"==c?(b.qx=2*b.x-b.qx,b.qy=2*b.y-b.qy):(b.qx=b.x,b.qy=b.y);a=[\"C\"].concat(J(b.x,b.y,b.qx,b.qy,a[1],a[2]));break;case \"Q\":b.qx=a[1];b.qy=a[2];a=[\"C\"].concat(J(b.x,b.y,a[1],a[2],a[3],a[4]));break;case \"L\":a=[\"C\"].concat(h(b.x,b.y,a[1],a[2]));break;case \"H\":a=[\"C\"].concat(h(b.x,\n",
       "b.y,a[1],b.y));break;case \"V\":a=[\"C\"].concat(h(b.x,b.y,b.x,a[1]));break;case \"Z\":a=[\"C\"].concat(h(b.x,b.y,b.X,b.Y))}return a},s=function(a,b){if(7<a[b].length){a[b].shift();for(var c=a[b];c.length;)q[b]=\"A\",l&&(u[b]=\"A\"),a.splice(b++,0,[\"C\"].concat(c.splice(0,6)));a.splice(b,1);v=W(f.length,l&&l.length||0)}},r=function(a,b,c,d,e){a&&b&&\"M\"==a[e][0]&&\"M\"!=b[e][0]&&(b.splice(e,0,[\"M\",d.x,d.y]),c.bx=0,c.by=0,c.x=a[e][1],c.y=a[e][2],v=W(f.length,l&&l.length||0))},q=[],u=[],c=\"\",t=\"\",x=0,v=W(f.length,\n",
       "l&&l.length||0);for(;x<v;x++){f[x]&&(c=f[x][0]);\"C\"!=c&&(q[x]=c,x&&(t=q[x-1]));f[x]=p(f[x],n,t);\"A\"!=q[x]&&\"C\"==c&&(q[x]=\"C\");s(f,x);l&&(l[x]&&(c=l[x][0]),\"C\"!=c&&(u[x]=c,x&&(t=u[x-1])),l[x]=p(l[x],k,t),\"A\"!=u[x]&&\"C\"==c&&(u[x]=\"C\"),s(l,x));r(f,l,n,k,x);r(l,f,k,n,x);var w=f[x],z=l&&l[x],y=w.length,U=l&&z.length;n.x=w[y-2];n.y=w[y-1];n.bx=$(w[y-4])||n.x;n.by=$(w[y-3])||n.y;k.bx=l&&($(z[U-4])||k.x);k.by=l&&($(z[U-3])||k.y);k.x=l&&z[U-2];k.y=l&&z[U-1]}l||(e.curve=d(f));return l?[f,l]:f}function P(a,\n",
       "b){for(var d=[],e=0,h=a.length;h-2*!b>e;e+=2){var f=[{x:+a[e-2],y:+a[e-1]},{x:+a[e],y:+a[e+1]},{x:+a[e+2],y:+a[e+3]},{x:+a[e+4],y:+a[e+5]}];b?e?h-4==e?f[3]={x:+a[0],y:+a[1]}:h-2==e&&(f[2]={x:+a[0],y:+a[1]},f[3]={x:+a[2],y:+a[3]}):f[0]={x:+a[h-2],y:+a[h-1]}:h-4==e?f[3]=f[2]:e||(f[0]={x:+a[e],y:+a[e+1]});d.push([\"C\",(-f[0].x+6*f[1].x+f[2].x)/6,(-f[0].y+6*f[1].y+f[2].y)/6,(f[1].x+6*f[2].x-f[3].x)/6,(f[1].y+6*f[2].y-f[3].y)/6,f[2].x,f[2].y])}return d}y=k.prototype;var Q=a.is,C=a._.clone,L=\"hasOwnProperty\",\n",
       "N=/,?([a-z]),?/gi,$=parseFloat,F=Math,S=F.PI,X=F.min,W=F.max,ma=F.pow,Z=F.abs;M=n(1);var na=n(),ba=n(0,1),V=a._unit2px;a.path=A;a.path.getTotalLength=M;a.path.getPointAtLength=na;a.path.getSubpath=function(a,b,d){if(1E-6>this.getTotalLength(a)-d)return ba(a,b).end;a=ba(a,d,1);return b?ba(a,b).end:a};y.getTotalLength=function(){if(this.node.getTotalLength)return this.node.getTotalLength()};y.getPointAtLength=function(a){return na(this.attr(\"d\"),a)};y.getSubpath=function(b,d){return a.path.getSubpath(this.attr(\"d\"),\n",
       "b,d)};a._.box=w;a.path.findDotsAtSegment=u;a.path.bezierBBox=p;a.path.isPointInsideBBox=b;a.path.isBBoxIntersect=q;a.path.intersection=function(a,b){return l(a,b)};a.path.intersectionNumber=function(a,b){return l(a,b,1)};a.path.isPointInside=function(a,d,e){var h=r(a);return b(h,d,e)&&1==l(a,[[\"M\",d,e],[\"H\",h.x2+10] ],1)%2};a.path.getBBox=r;a.path.get={path:function(a){return a.attr(\"path\")},circle:function(a){a=V(a);return x(a.cx,a.cy,a.r)},ellipse:function(a){a=V(a);return x(a.cx||0,a.cy||0,a.rx,\n",
       "a.ry)},rect:function(a){a=V(a);return s(a.x||0,a.y||0,a.width,a.height,a.rx,a.ry)},image:function(a){a=V(a);return s(a.x||0,a.y||0,a.width,a.height)},line:function(a){return\"M\"+[a.attr(\"x1\")||0,a.attr(\"y1\")||0,a.attr(\"x2\"),a.attr(\"y2\")]},polyline:function(a){return\"M\"+a.attr(\"points\")},polygon:function(a){return\"M\"+a.attr(\"points\")+\"z\"},deflt:function(a){a=a.node.getBBox();return s(a.x,a.y,a.width,a.height)}};a.path.toRelative=function(b){var e=A(b),h=String.prototype.toLowerCase;if(e.rel)return d(e.rel);\n",
       "a.is(b,\"array\")&&a.is(b&&b[0],\"array\")||(b=a.parsePathString(b));var f=[],l=0,n=0,k=0,p=0,s=0;\"M\"==b[0][0]&&(l=b[0][1],n=b[0][2],k=l,p=n,s++,f.push([\"M\",l,n]));for(var r=b.length;s<r;s++){var q=f[s]=[],x=b[s];if(x[0]!=h.call(x[0]))switch(q[0]=h.call(x[0]),q[0]){case \"a\":q[1]=x[1];q[2]=x[2];q[3]=x[3];q[4]=x[4];q[5]=x[5];q[6]=+(x[6]-l).toFixed(3);q[7]=+(x[7]-n).toFixed(3);break;case \"v\":q[1]=+(x[1]-n).toFixed(3);break;case \"m\":k=x[1],p=x[2];default:for(var c=1,t=x.length;c<t;c++)q[c]=+(x[c]-(c%2?l:\n",
       "n)).toFixed(3)}else for(f[s]=[],\"m\"==x[0]&&(k=x[1]+l,p=x[2]+n),q=0,c=x.length;q<c;q++)f[s][q]=x[q];x=f[s].length;switch(f[s][0]){case \"z\":l=k;n=p;break;case \"h\":l+=+f[s][x-1];break;case \"v\":n+=+f[s][x-1];break;default:l+=+f[s][x-2],n+=+f[s][x-1]}}f.toString=z;e.rel=d(f);return f};a.path.toAbsolute=G;a.path.toCubic=I;a.path.map=function(a,b){if(!b)return a;var d,e,h,f,l,n,k;a=I(a);h=0;for(l=a.length;h<l;h++)for(k=a[h],f=1,n=k.length;f<n;f+=2)d=b.x(k[f],k[f+1]),e=b.y(k[f],k[f+1]),k[f]=d,k[f+1]=e;return a};\n",
       "a.path.toString=z;a.path.clone=d});C.plugin(function(a,v,y,C){var A=Math.max,w=Math.min,z=function(a){this.items=[];this.bindings={};this.length=0;this.type=\"set\";if(a)for(var f=0,n=a.length;f<n;f++)a[f]&&(this[this.items.length]=this.items[this.items.length]=a[f],this.length++)};v=z.prototype;v.push=function(){for(var a,f,n=0,k=arguments.length;n<k;n++)if(a=arguments[n])f=this.items.length,this[f]=this.items[f]=a,this.length++;return this};v.pop=function(){this.length&&delete this[this.length--];\n",
       "return this.items.pop()};v.forEach=function(a,f){for(var n=0,k=this.items.length;n<k&&!1!==a.call(f,this.items[n],n);n++);return this};v.animate=function(d,f,n,u){\"function\"!=typeof n||n.length||(u=n,n=L.linear);d instanceof a._.Animation&&(u=d.callback,n=d.easing,f=n.dur,d=d.attr);var p=arguments;if(a.is(d,\"array\")&&a.is(p[p.length-1],\"array\"))var b=!0;var q,e=function(){q?this.b=q:q=this.b},l=0,r=u&&function(){l++==this.length&&u.call(this)};return this.forEach(function(a,l){k.once(\"snap.animcreated.\"+\n",
       "a.id,e);b?p[l]&&a.animate.apply(a,p[l]):a.animate(d,f,n,r)})};v.remove=function(){for(;this.length;)this.pop().remove();return this};v.bind=function(a,f,k){var u={};if(\"function\"==typeof f)this.bindings[a]=f;else{var p=k||a;this.bindings[a]=function(a){u[p]=a;f.attr(u)}}return this};v.attr=function(a){var f={},k;for(k in a)if(this.bindings[k])this.bindings[k](a[k]);else f[k]=a[k];a=0;for(k=this.items.length;a<k;a++)this.items[a].attr(f);return this};v.clear=function(){for(;this.length;)this.pop()};\n",
       "v.splice=function(a,f,k){a=0>a?A(this.length+a,0):a;f=A(0,w(this.length-a,f));var u=[],p=[],b=[],q;for(q=2;q<arguments.length;q++)b.push(arguments[q]);for(q=0;q<f;q++)p.push(this[a+q]);for(;q<this.length-a;q++)u.push(this[a+q]);var e=b.length;for(q=0;q<e+u.length;q++)this.items[a+q]=this[a+q]=q<e?b[q]:u[q-e];for(q=this.items.length=this.length-=f-e;this[q];)delete this[q++];return new z(p)};v.exclude=function(a){for(var f=0,k=this.length;f<k;f++)if(this[f]==a)return this.splice(f,1),!0;return!1};\n",
       "v.insertAfter=function(a){for(var f=this.items.length;f--;)this.items[f].insertAfter(a);return this};v.getBBox=function(){for(var a=[],f=[],k=[],u=[],p=this.items.length;p--;)if(!this.items[p].removed){var b=this.items[p].getBBox();a.push(b.x);f.push(b.y);k.push(b.x+b.width);u.push(b.y+b.height)}a=w.apply(0,a);f=w.apply(0,f);k=A.apply(0,k);u=A.apply(0,u);return{x:a,y:f,x2:k,y2:u,width:k-a,height:u-f,cx:a+(k-a)/2,cy:f+(u-f)/2}};v.clone=function(a){a=new z;for(var f=0,k=this.items.length;f<k;f++)a.push(this.items[f].clone());\n",
       "return a};v.toString=function(){return\"Snap\\u2018s set\"};v.type=\"set\";a.set=function(){var a=new z;arguments.length&&a.push.apply(a,Array.prototype.slice.call(arguments,0));return a}});C.plugin(function(a,v,y,C){function A(a){var b=a[0];switch(b.toLowerCase()){case \"t\":return[b,0,0];case \"m\":return[b,1,0,0,1,0,0];case \"r\":return 4==a.length?[b,0,a[2],a[3] ]:[b,0];case \"s\":return 5==a.length?[b,1,1,a[3],a[4] ]:3==a.length?[b,1,1]:[b,1]}}function w(b,d,f){d=q(d).replace(/\\.{3}|\\u2026/g,b);b=a.parseTransformString(b)||\n",
       "[];d=a.parseTransformString(d)||[];for(var k=Math.max(b.length,d.length),p=[],v=[],h=0,w,z,y,I;h<k;h++){y=b[h]||A(d[h]);I=d[h]||A(y);if(y[0]!=I[0]||\"r\"==y[0].toLowerCase()&&(y[2]!=I[2]||y[3]!=I[3])||\"s\"==y[0].toLowerCase()&&(y[3]!=I[3]||y[4]!=I[4])){b=a._.transform2matrix(b,f());d=a._.transform2matrix(d,f());p=[[\"m\",b.a,b.b,b.c,b.d,b.e,b.f] ];v=[[\"m\",d.a,d.b,d.c,d.d,d.e,d.f] ];break}p[h]=[];v[h]=[];w=0;for(z=Math.max(y.length,I.length);w<z;w++)w in y&&(p[h][w]=y[w]),w in I&&(v[h][w]=I[w])}return{from:u(p),\n",
       "to:u(v),f:n(p)}}function z(a){return a}function d(a){return function(b){return+b.toFixed(3)+a}}function f(b){return a.rgb(b[0],b[1],b[2])}function n(a){var b=0,d,f,k,n,h,p,q=[];d=0;for(f=a.length;d<f;d++){h=\"[\";p=['\"'+a[d][0]+'\"'];k=1;for(n=a[d].length;k<n;k++)p[k]=\"val[\"+b++ +\"]\";h+=p+\"]\";q[d]=h}return Function(\"val\",\"return Snap.path.toString.call([\"+q+\"])\")}function u(a){for(var b=[],d=0,f=a.length;d<f;d++)for(var k=1,n=a[d].length;k<n;k++)b.push(a[d][k]);return b}var p={},b=/[a-z]+$/i,q=String;\n",
       "p.stroke=p.fill=\"colour\";v.prototype.equal=function(a,b){return k(\"snap.util.equal\",this,a,b).firstDefined()};k.on(\"snap.util.equal\",function(e,k){var r,s;r=q(this.attr(e)||\"\");var x=this;if(r==+r&&k==+k)return{from:+r,to:+k,f:z};if(\"colour\"==p[e])return r=a.color(r),s=a.color(k),{from:[r.r,r.g,r.b,r.opacity],to:[s.r,s.g,s.b,s.opacity],f:f};if(\"transform\"==e||\"gradientTransform\"==e||\"patternTransform\"==e)return k instanceof a.Matrix&&(k=k.toTransformString()),a._.rgTransform.test(k)||(k=a._.svgTransform2string(k)),\n",
       "w(r,k,function(){return x.getBBox(1)});if(\"d\"==e||\"path\"==e)return r=a.path.toCubic(r,k),{from:u(r[0]),to:u(r[1]),f:n(r[0])};if(\"points\"==e)return r=q(r).split(a._.separator),s=q(k).split(a._.separator),{from:r,to:s,f:function(a){return a}};aUnit=r.match(b);s=q(k).match(b);return aUnit&&aUnit==s?{from:parseFloat(r),to:parseFloat(k),f:d(aUnit)}:{from:this.asPX(e),to:this.asPX(e,k),f:z}})});C.plugin(function(a,v,y,C){var A=v.prototype,w=\"createTouch\"in C.doc;v=\"click dblclick mousedown mousemove mouseout mouseover mouseup touchstart touchmove touchend touchcancel\".split(\" \");\n",
       "var z={mousedown:\"touchstart\",mousemove:\"touchmove\",mouseup:\"touchend\"},d=function(a,b){var d=\"y\"==a?\"scrollTop\":\"scrollLeft\",e=b&&b.node?b.node.ownerDocument:C.doc;return e[d in e.documentElement?\"documentElement\":\"body\"][d]},f=function(){this.returnValue=!1},n=function(){return this.originalEvent.preventDefault()},u=function(){this.cancelBubble=!0},p=function(){return this.originalEvent.stopPropagation()},b=function(){if(C.doc.addEventListener)return function(a,b,e,f){var k=w&&z[b]?z[b]:b,l=function(k){var l=\n",
       "d(\"y\",f),q=d(\"x\",f);if(w&&z.hasOwnProperty(b))for(var r=0,u=k.targetTouches&&k.targetTouches.length;r<u;r++)if(k.targetTouches[r].target==a||a.contains(k.targetTouches[r].target)){u=k;k=k.targetTouches[r];k.originalEvent=u;k.preventDefault=n;k.stopPropagation=p;break}return e.call(f,k,k.clientX+q,k.clientY+l)};b!==k&&a.addEventListener(b,l,!1);a.addEventListener(k,l,!1);return function(){b!==k&&a.removeEventListener(b,l,!1);a.removeEventListener(k,l,!1);return!0}};if(C.doc.attachEvent)return function(a,\n",
       "b,e,h){var k=function(a){a=a||h.node.ownerDocument.window.event;var b=d(\"y\",h),k=d(\"x\",h),k=a.clientX+k,b=a.clientY+b;a.preventDefault=a.preventDefault||f;a.stopPropagation=a.stopPropagation||u;return e.call(h,a,k,b)};a.attachEvent(\"on\"+b,k);return function(){a.detachEvent(\"on\"+b,k);return!0}}}(),q=[],e=function(a){for(var b=a.clientX,e=a.clientY,f=d(\"y\"),l=d(\"x\"),n,p=q.length;p--;){n=q[p];if(w)for(var r=a.touches&&a.touches.length,u;r--;){if(u=a.touches[r],u.identifier==n.el._drag.id||n.el.node.contains(u.target)){b=\n",
       "u.clientX;e=u.clientY;(a.originalEvent?a.originalEvent:a).preventDefault();break}}else a.preventDefault();b+=l;e+=f;k(\"snap.drag.move.\"+n.el.id,n.move_scope||n.el,b-n.el._drag.x,e-n.el._drag.y,b,e,a)}},l=function(b){a.unmousemove(e).unmouseup(l);for(var d=q.length,f;d--;)f=q[d],f.el._drag={},k(\"snap.drag.end.\"+f.el.id,f.end_scope||f.start_scope||f.move_scope||f.el,b);q=[]};for(y=v.length;y--;)(function(d){a[d]=A[d]=function(e,f){a.is(e,\"function\")&&(this.events=this.events||[],this.events.push({name:d,\n",
       "f:e,unbind:b(this.node||document,d,e,f||this)}));return this};a[\"un\"+d]=A[\"un\"+d]=function(a){for(var b=this.events||[],e=b.length;e--;)if(b[e].name==d&&(b[e].f==a||!a)){b[e].unbind();b.splice(e,1);!b.length&&delete this.events;break}return this}})(v[y]);A.hover=function(a,b,d,e){return this.mouseover(a,d).mouseout(b,e||d)};A.unhover=function(a,b){return this.unmouseover(a).unmouseout(b)};var r=[];A.drag=function(b,d,f,h,n,p){function u(r,v,w){(r.originalEvent||r).preventDefault();this._drag.x=v;\n",
       "this._drag.y=w;this._drag.id=r.identifier;!q.length&&a.mousemove(e).mouseup(l);q.push({el:this,move_scope:h,start_scope:n,end_scope:p});d&&k.on(\"snap.drag.start.\"+this.id,d);b&&k.on(\"snap.drag.move.\"+this.id,b);f&&k.on(\"snap.drag.end.\"+this.id,f);k(\"snap.drag.start.\"+this.id,n||h||this,v,w,r)}if(!arguments.length){var v;return this.drag(function(a,b){this.attr({transform:v+(v?\"T\":\"t\")+[a,b]})},function(){v=this.transform().local})}this._drag={};r.push({el:this,start:u});this.mousedown(u);return this};\n",
       "A.undrag=function(){for(var b=r.length;b--;)r[b].el==this&&(this.unmousedown(r[b].start),r.splice(b,1),k.unbind(\"snap.drag.*.\"+this.id));!r.length&&a.unmousemove(e).unmouseup(l);return this}});C.plugin(function(a,v,y,C){y=y.prototype;var A=/^\\s*url\\((.+)\\)/,w=String,z=a._.$;a.filter={};y.filter=function(d){var f=this;\"svg\"!=f.type&&(f=f.paper);d=a.parse(w(d));var k=a._.id(),u=z(\"filter\");z(u,{id:k,filterUnits:\"userSpaceOnUse\"});u.appendChild(d.node);f.defs.appendChild(u);return new v(u)};k.on(\"snap.util.getattr.filter\",\n",
       "function(){k.stop();var d=z(this.node,\"filter\");if(d)return(d=w(d).match(A))&&a.select(d[1])});k.on(\"snap.util.attr.filter\",function(d){if(d instanceof v&&\"filter\"==d.type){k.stop();var f=d.node.id;f||(z(d.node,{id:d.id}),f=d.id);z(this.node,{filter:a.url(f)})}d&&\"none\"!=d||(k.stop(),this.node.removeAttribute(\"filter\"))});a.filter.blur=function(d,f){null==d&&(d=2);return a.format('<feGaussianBlur stdDeviation=\"{def}\"/>',{def:null==f?d:[d,f]})};a.filter.blur.toString=function(){return this()};a.filter.shadow=\n",
       "function(d,f,k,u,p){\"string\"==typeof k&&(p=u=k,k=4);\"string\"!=typeof u&&(p=u,u=\"#000\");null==k&&(k=4);null==p&&(p=1);null==d&&(d=0,f=2);null==f&&(f=d);u=a.color(u||\"#000\");return a.format('<feGaussianBlur in=\"SourceAlpha\" stdDeviation=\"{blur}\"/><feOffset dx=\"{dx}\" dy=\"{dy}\" result=\"offsetblur\"/><feFlood flood-color=\"{color}\"/><feComposite in2=\"offsetblur\" operator=\"in\"/><feComponentTransfer><feFuncA type=\"linear\" slope=\"{opacity}\"/></feComponentTransfer><feMerge><feMergeNode/><feMergeNode in=\"SourceGraphic\"/></feMerge>',\n",
       "{color:u,dx:d,dy:f,blur:k,opacity:p})};a.filter.shadow.toString=function(){return this()};a.filter.grayscale=function(d){null==d&&(d=1);return a.format('<feColorMatrix type=\"matrix\" values=\"{a} {b} {c} 0 0 {d} {e} {f} 0 0 {g} {b} {h} 0 0 0 0 0 1 0\"/>',{a:0.2126+0.7874*(1-d),b:0.7152-0.7152*(1-d),c:0.0722-0.0722*(1-d),d:0.2126-0.2126*(1-d),e:0.7152+0.2848*(1-d),f:0.0722-0.0722*(1-d),g:0.2126-0.2126*(1-d),h:0.0722+0.9278*(1-d)})};a.filter.grayscale.toString=function(){return this()};a.filter.sepia=\n",
       "function(d){null==d&&(d=1);return a.format('<feColorMatrix type=\"matrix\" values=\"{a} {b} {c} 0 0 {d} {e} {f} 0 0 {g} {h} {i} 0 0 0 0 0 1 0\"/>',{a:0.393+0.607*(1-d),b:0.769-0.769*(1-d),c:0.189-0.189*(1-d),d:0.349-0.349*(1-d),e:0.686+0.314*(1-d),f:0.168-0.168*(1-d),g:0.272-0.272*(1-d),h:0.534-0.534*(1-d),i:0.131+0.869*(1-d)})};a.filter.sepia.toString=function(){return this()};a.filter.saturate=function(d){null==d&&(d=1);return a.format('<feColorMatrix type=\"saturate\" values=\"{amount}\"/>',{amount:1-\n",
       "d})};a.filter.saturate.toString=function(){return this()};a.filter.hueRotate=function(d){return a.format('<feColorMatrix type=\"hueRotate\" values=\"{angle}\"/>',{angle:d||0})};a.filter.hueRotate.toString=function(){return this()};a.filter.invert=function(d){null==d&&(d=1);return a.format('<feComponentTransfer><feFuncR type=\"table\" tableValues=\"{amount} {amount2}\"/><feFuncG type=\"table\" tableValues=\"{amount} {amount2}\"/><feFuncB type=\"table\" tableValues=\"{amount} {amount2}\"/></feComponentTransfer>',{amount:d,\n",
       "amount2:1-d})};a.filter.invert.toString=function(){return this()};a.filter.brightness=function(d){null==d&&(d=1);return a.format('<feComponentTransfer><feFuncR type=\"linear\" slope=\"{amount}\"/><feFuncG type=\"linear\" slope=\"{amount}\"/><feFuncB type=\"linear\" slope=\"{amount}\"/></feComponentTransfer>',{amount:d})};a.filter.brightness.toString=function(){return this()};a.filter.contrast=function(d){null==d&&(d=1);return a.format('<feComponentTransfer><feFuncR type=\"linear\" slope=\"{amount}\" intercept=\"{amount2}\"/><feFuncG type=\"linear\" slope=\"{amount}\" intercept=\"{amount2}\"/><feFuncB type=\"linear\" slope=\"{amount}\" intercept=\"{amount2}\"/></feComponentTransfer>',\n",
       "{amount:d,amount2:0.5-d/2})};a.filter.contrast.toString=function(){return this()}});return C});\n",
       "\n",
       "]]> </script>\n",
       "</svg>\n"
      ],
      "text/plain": [
       "Compose.Context(Measures.BoundingBox{Tuple{Measures.Length{:w,Float64},Measures.Length{:h,Float64}},Tuple{Measures.Length{:w,Float64},Measures.Length{:h,Float64}}}((0.0w, 0.0h), (1.0w, 1.0h)), Compose.UnitBox{Float64,Float64,Float64,Float64}(-1.2, -1.2, 2.4, 2.4, 0.0mm, 0.0mm, 0.0mm, 0.0mm), nothing, nothing, nothing, List([Compose.Context(Measures.BoundingBox{Tuple{Measures.Length{:w,Float64},Measures.Length{:h,Float64}},Tuple{Measures.Length{:w,Float64},Measures.Length{:h,Float64}}}((0.0w, 0.0h), (1.0w, 1.0h)), nothing, nothing, nothing, nothing, List([]), List([Compose.Form{Compose.LinePrimitive}(Compose.LinePrimitive[Compose.LinePrimitive{Tuple{Measures.Measure,Measures.Measure}}(Tuple{Measures.Measure,Measures.Measure}[(-0.875cx, -0.875cy), (0.875cx, 0.875cy)])], Symbol(\"\"))]), List([Compose.Property{Compose.LineWidthPrimitive}(Compose.LineWidthPrimitive[Compose.LineWidthPrimitive(2.1213203435596424mm)]), Compose.Property{Compose.FillPrimitive}(Compose.FillPrimitive[Compose.FillPrimitive(RGBA{Float64}(0.0,0.0,0.0,0.0))]), Compose.Property{Compose.StrokePrimitive}(Compose.StrokePrimitive[Compose.StrokePrimitive(RGBA{Float64}(0.8274509803921568,0.8274509803921568,0.8274509803921568,1.0))])]), 0, false, false, false, false, nothing, nothing, 0.0, Symbol(\"\")), Compose.Context(Measures.BoundingBox{Tuple{Measures.Length{:w,Float64},Measures.Length{:h,Float64}},Tuple{Measures.Length{:w,Float64},Measures.Length{:h,Float64}}}((0.0w, 0.0h), (1.0w, 1.0h)), nothing, nothing, nothing, nothing, List([]), List([Compose.Form{Compose.LinePrimitive}(Compose.LinePrimitive[Compose.LinePrimitive{Tuple{Measures.Measure,Measures.Measure}}(Tuple{Measures.Measure,Measures.Measure}[(0.8327381738259301cx, 0.784369221296335cy), (0.875cx, 0.875cy), (0.784369221296335cx, 0.8327381738259301cy)])], Symbol(\"\"))]), List([Compose.Property{Compose.LineWidthPrimitive}(Compose.LineWidthPrimitive[Compose.LineWidthPrimitive(2.1213203435596424mm)]), Compose.Property{Compose.StrokePrimitive}(Compose.StrokePrimitive[Compose.StrokePrimitive(RGBA{Float64}(0.8274509803921568,0.8274509803921568,0.8274509803921568,1.0))])]), 0, false, false, false, false, nothing, nothing, 0.0, Symbol(\"\")), Compose.Context(Measures.BoundingBox{Tuple{Measures.Length{:w,Float64},Measures.Length{:h,Float64}},Tuple{Measures.Length{:w,Float64},Measures.Length{:h,Float64}}}((0.0w, 0.0h), (1.0w, 1.0h)), nothing, nothing, nothing, nothing, List([]), List([]), List([Compose.Property{Compose.FontSizePrimitive}(Compose.FontSizePrimitive[Compose.FontSizePrimitive(4.0mm)]), Compose.Property{Compose.StrokePrimitive}(Compose.StrokePrimitive[Compose.StrokePrimitive(RGBA{Float64}(0.0,0.0,0.0,0.0))]), Compose.Property{Compose.FillPrimitive}(Compose.FillPrimitive[Compose.FillPrimitive(RGBA{Float64}(0.0,0.0,0.0,1.0))])]), 0, false, false, false, false, nothing, nothing, 0.0, Symbol(\"\")), Compose.Context(Measures.BoundingBox{Tuple{Measures.Length{:w,Float64},Measures.Length{:h,Float64}},Tuple{Measures.Length{:w,Float64},Measures.Length{:h,Float64}}}((0.0w, 0.0h), (1.0w, 1.0h)), nothing, nothing, nothing, nothing, List([]), List([Compose.Form{Compose.CirclePrimitive{Tuple{Measures.Measure,Measures.Measure},Measures.Measure}}(Compose.CirclePrimitive{Tuple{Measures.Measure,Measures.Measure},Measures.Measure}[Compose.CirclePrimitive{Tuple{Measures.Measure,Measures.Measure},Measures.Measure}((-1.0cx, -1.0cy), 0.07071067811865475w), Compose.CirclePrimitive{Tuple{Measures.Measure,Measures.Measure},Measures.Measure}((1.0cx, 1.0cy), 0.07071067811865475w)], Symbol(\"\"))]), List([Compose.Property{Compose.LineWidthPrimitive}(Compose.LineWidthPrimitive[Compose.LineWidthPrimitive(0.0mm)]), Compose.Property{Compose.StrokePrimitive}(Compose.StrokePrimitive[Compose.StrokePrimitive(RGBA{Float64}(0.0,0.0,0.0,0.0))]), Compose.Property{Compose.FillPrimitive}(Compose.FillPrimitive[Compose.FillPrimitive(RGBA{Float64}(0.0,0.0,0.0,0.0))])]), 0, false, false, false, false, nothing, nothing, 0.0, Symbol(\"\")), Compose.Context(Measures.BoundingBox{Tuple{Measures.Length{:w,Float64},Measures.Length{:h,Float64}},Tuple{Measures.Length{:w,Float64},Measures.Length{:h,Float64}}}((0.0w, 0.0h), (1.0w, 1.0h)), nothing, nothing, nothing, nothing, List([]), List([Compose.Form{Compose.TextPrimitive{Tuple{Measures.Length{:cx,Float64},Measures.Length{:cy,Float64}},Compose.Rotation{Tuple{Measures.Length{:w,Float64},Measures.Length{:h,Float64}}},Tuple{Measures.Length{:mm,Float64},Measures.Length{:mm,Float64}}}}(Compose.TextPrimitive{Tuple{Measures.Length{:cx,Float64},Measures.Length{:cy,Float64}},Compose.Rotation{Tuple{Measures.Length{:w,Float64},Measures.Length{:h,Float64}}},Tuple{Measures.Length{:mm,Float64},Measures.Length{:mm,Float64}}}[Compose.TextPrimitive{Tuple{Measures.Length{:cx,Float64},Measures.Length{:cy,Float64}},Compose.Rotation{Tuple{Measures.Length{:w,Float64},Measures.Length{:h,Float64}}},Tuple{Measures.Length{:mm,Float64},Measures.Length{:mm,Float64}}}((-1.0cx, -1.0cy), \"japonicum\", Compose.HCenter(), Compose.VCenter(), Compose.Rotation{Tuple{Measures.Length{:w,Float64},Measures.Length{:h,Float64}}}(0.0, (0.5w, 0.5h)), (0.0mm, 0.0mm)), Compose.TextPrimitive{Tuple{Measures.Length{:cx,Float64},Measures.Length{:cy,Float64}},Compose.Rotation{Tuple{Measures.Length{:w,Float64},Measures.Length{:h,Float64}}},Tuple{Measures.Length{:mm,Float64},Measures.Length{:mm,Float64}}}((1.0cx, 1.0cy), \"(3 species)\", Compose.HCenter(), Compose.VCenter(), Compose.Rotation{Tuple{Measures.Length{:w,Float64},Measures.Length{:h,Float64}}}(0.0, (0.5w, 0.5h)), (0.0mm, 0.0mm))], Symbol(\"\"))]), List([Compose.Property{Compose.FontSizePrimitive}(Compose.FontSizePrimitive[Compose.FontSizePrimitive(4.0mm)]), Compose.Property{Compose.StrokePrimitive}(Compose.StrokePrimitive[Compose.StrokePrimitive(RGBA{Float64}(0.0,0.0,0.0,0.0))]), Compose.Property{Compose.FillPrimitive}(Compose.FillPrimitive[Compose.FillPrimitive(RGBA{Float64}(0.0,0.0,0.0,1.0))])]), 0, false, false, false, false, nothing, nothing, 0.0, Symbol(\"\"))]), List([]), List([]), 0, false, false, false, false, nothing, nothing, 0.0, Symbol(\"\"))"
      ]
     },
     "metadata": {},
     "output_type": "display_data"
    },
    {
     "data": {
      "application/vnd.plotly.v1+json": {
       "data": [
        {
         "colorscale": [
          [
           0,
           "#000004"
          ],
          [
           0.00392156862745098,
           "#010005"
          ],
          [
           0.00784313725490196,
           "#010106"
          ],
          [
           0.011764705882352941,
           "#010108"
          ],
          [
           0.01568627450980392,
           "#020109"
          ],
          [
           0.0196078431372549,
           "#02020B"
          ],
          [
           0.023529411764705882,
           "#02020D"
          ],
          [
           0.027450980392156862,
           "#03030F"
          ],
          [
           0.03137254901960784,
           "#030312"
          ],
          [
           0.03529411764705882,
           "#040414"
          ],
          [
           0.0392156862745098,
           "#050416"
          ],
          [
           0.043137254901960784,
           "#060518"
          ],
          [
           0.047058823529411764,
           "#06051A"
          ],
          [
           0.050980392156862744,
           "#07061C"
          ],
          [
           0.054901960784313725,
           "#08071E"
          ],
          [
           0.058823529411764705,
           "#090720"
          ],
          [
           0.06274509803921569,
           "#0A0822"
          ],
          [
           0.06666666666666667,
           "#0B0924"
          ],
          [
           0.07058823529411765,
           "#0C0926"
          ],
          [
           0.07450980392156863,
           "#0D0A29"
          ],
          [
           0.0784313725490196,
           "#0E0B2B"
          ],
          [
           0.08235294117647059,
           "#100B2D"
          ],
          [
           0.08627450980392157,
           "#110C2F"
          ],
          [
           0.09019607843137255,
           "#120D31"
          ],
          [
           0.09411764705882353,
           "#130D34"
          ],
          [
           0.09803921568627451,
           "#140E36"
          ],
          [
           0.10196078431372549,
           "#150E38"
          ],
          [
           0.10588235294117647,
           "#160F3B"
          ],
          [
           0.10980392156862745,
           "#180F3D"
          ],
          [
           0.11372549019607843,
           "#19103F"
          ],
          [
           0.11764705882352941,
           "#1A1042"
          ],
          [
           0.12156862745098039,
           "#1C1044"
          ],
          [
           0.12549019607843137,
           "#1D1147"
          ],
          [
           0.12941176470588237,
           "#1E1149"
          ],
          [
           0.13333333333333333,
           "#20114B"
          ],
          [
           0.13725490196078433,
           "#21114E"
          ],
          [
           0.1411764705882353,
           "#221150"
          ],
          [
           0.1450980392156863,
           "#241253"
          ],
          [
           0.14901960784313725,
           "#251255"
          ],
          [
           0.15294117647058825,
           "#271258"
          ],
          [
           0.1568627450980392,
           "#29115A"
          ],
          [
           0.1607843137254902,
           "#2A115C"
          ],
          [
           0.16470588235294117,
           "#2C115F"
          ],
          [
           0.16862745098039217,
           "#2D1161"
          ],
          [
           0.17254901960784313,
           "#2F1163"
          ],
          [
           0.17647058823529413,
           "#311165"
          ],
          [
           0.1803921568627451,
           "#331067"
          ],
          [
           0.1843137254901961,
           "#341069"
          ],
          [
           0.18823529411764706,
           "#36106B"
          ],
          [
           0.19215686274509805,
           "#38106C"
          ],
          [
           0.19607843137254902,
           "#390F6E"
          ],
          [
           0.2,
           "#3B0F70"
          ],
          [
           0.20392156862745098,
           "#3D0F71"
          ],
          [
           0.20784313725490197,
           "#3F0F72"
          ],
          [
           0.21176470588235294,
           "#400F74"
          ],
          [
           0.21568627450980393,
           "#420F75"
          ],
          [
           0.2196078431372549,
           "#440F76"
          ],
          [
           0.2235294117647059,
           "#451077"
          ],
          [
           0.22745098039215686,
           "#471078"
          ],
          [
           0.23137254901960785,
           "#491078"
          ],
          [
           0.23529411764705882,
           "#4A1079"
          ],
          [
           0.23921568627450981,
           "#4C117A"
          ],
          [
           0.24313725490196078,
           "#4E117B"
          ],
          [
           0.24705882352941178,
           "#4F127B"
          ],
          [
           0.25098039215686274,
           "#51127C"
          ],
          [
           0.2549019607843137,
           "#52137C"
          ],
          [
           0.25882352941176473,
           "#54137D"
          ],
          [
           0.2627450980392157,
           "#56147D"
          ],
          [
           0.26666666666666666,
           "#57157E"
          ],
          [
           0.27058823529411763,
           "#59157E"
          ],
          [
           0.27450980392156865,
           "#5A167E"
          ],
          [
           0.2784313725490196,
           "#5C167F"
          ],
          [
           0.2823529411764706,
           "#5D177F"
          ],
          [
           0.28627450980392155,
           "#5F187F"
          ],
          [
           0.2901960784313726,
           "#601880"
          ],
          [
           0.29411764705882354,
           "#621980"
          ],
          [
           0.2980392156862745,
           "#641A80"
          ],
          [
           0.30196078431372547,
           "#651A80"
          ],
          [
           0.3058823529411765,
           "#671B80"
          ],
          [
           0.30980392156862746,
           "#681C81"
          ],
          [
           0.3137254901960784,
           "#6A1C81"
          ],
          [
           0.3176470588235294,
           "#6B1D81"
          ],
          [
           0.3215686274509804,
           "#6D1D81"
          ],
          [
           0.3254901960784314,
           "#6E1E81"
          ],
          [
           0.32941176470588235,
           "#701F81"
          ],
          [
           0.3333333333333333,
           "#721F81"
          ],
          [
           0.33725490196078434,
           "#732081"
          ],
          [
           0.3411764705882353,
           "#752181"
          ],
          [
           0.34509803921568627,
           "#762181"
          ],
          [
           0.34901960784313724,
           "#782281"
          ],
          [
           0.35294117647058826,
           "#792282"
          ],
          [
           0.3568627450980392,
           "#7B2382"
          ],
          [
           0.3607843137254902,
           "#7C2382"
          ],
          [
           0.36470588235294116,
           "#7E2482"
          ],
          [
           0.3686274509803922,
           "#802582"
          ],
          [
           0.37254901960784315,
           "#812581"
          ],
          [
           0.3764705882352941,
           "#832681"
          ],
          [
           0.3803921568627451,
           "#842681"
          ],
          [
           0.3843137254901961,
           "#862781"
          ],
          [
           0.38823529411764707,
           "#882781"
          ],
          [
           0.39215686274509803,
           "#892881"
          ],
          [
           0.396078431372549,
           "#8B2981"
          ],
          [
           0.4,
           "#8C2981"
          ],
          [
           0.403921568627451,
           "#8E2A81"
          ],
          [
           0.40784313725490196,
           "#902A81"
          ],
          [
           0.4117647058823529,
           "#912B81"
          ],
          [
           0.41568627450980394,
           "#932B80"
          ],
          [
           0.4196078431372549,
           "#942C80"
          ],
          [
           0.4235294117647059,
           "#962C80"
          ],
          [
           0.42745098039215684,
           "#982D80"
          ],
          [
           0.43137254901960786,
           "#992D80"
          ],
          [
           0.43529411764705883,
           "#9B2E7F"
          ],
          [
           0.4392156862745098,
           "#9C2E7F"
          ],
          [
           0.44313725490196076,
           "#9E2F7F"
          ],
          [
           0.4470588235294118,
           "#A02F7F"
          ],
          [
           0.45098039215686275,
           "#A1307E"
          ],
          [
           0.4549019607843137,
           "#A3307E"
          ],
          [
           0.4588235294117647,
           "#A5317E"
          ],
          [
           0.4627450980392157,
           "#A6317D"
          ],
          [
           0.4666666666666667,
           "#A8327D"
          ],
          [
           0.47058823529411764,
           "#AA337D"
          ],
          [
           0.4745098039215686,
           "#AB337C"
          ],
          [
           0.47843137254901963,
           "#AD347C"
          ],
          [
           0.4823529411764706,
           "#AE347B"
          ],
          [
           0.48627450980392156,
           "#B0357B"
          ],
          [
           0.49019607843137253,
           "#B2357B"
          ],
          [
           0.49411764705882355,
           "#B3367A"
          ],
          [
           0.4980392156862745,
           "#B5367A"
          ],
          [
           0.5019607843137255,
           "#B73779"
          ],
          [
           0.5058823529411764,
           "#B83779"
          ],
          [
           0.5098039215686274,
           "#BA3878"
          ],
          [
           0.5137254901960784,
           "#BC3978"
          ],
          [
           0.5176470588235295,
           "#BD3977"
          ],
          [
           0.5215686274509804,
           "#BF3A77"
          ],
          [
           0.5254901960784314,
           "#C03A76"
          ],
          [
           0.5294117647058824,
           "#C23B75"
          ],
          [
           0.5333333333333333,
           "#C43C75"
          ],
          [
           0.5372549019607843,
           "#C53C74"
          ],
          [
           0.5411764705882353,
           "#C73D73"
          ],
          [
           0.5450980392156862,
           "#C83E73"
          ],
          [
           0.5490196078431373,
           "#CA3E72"
          ],
          [
           0.5529411764705883,
           "#CC3F71"
          ],
          [
           0.5568627450980392,
           "#CD4071"
          ],
          [
           0.5607843137254902,
           "#CF4070"
          ],
          [
           0.5647058823529412,
           "#D0416F"
          ],
          [
           0.5686274509803921,
           "#D2426F"
          ],
          [
           0.5725490196078431,
           "#D3436E"
          ],
          [
           0.5764705882352941,
           "#D5446D"
          ],
          [
           0.5803921568627451,
           "#D6456C"
          ],
          [
           0.5843137254901961,
           "#D8456C"
          ],
          [
           0.5882352941176471,
           "#D9466B"
          ],
          [
           0.592156862745098,
           "#DB476A"
          ],
          [
           0.596078431372549,
           "#DC4869"
          ],
          [
           0.6,
           "#DE4968"
          ],
          [
           0.6039215686274509,
           "#DF4A68"
          ],
          [
           0.6078431372549019,
           "#E04C67"
          ],
          [
           0.611764705882353,
           "#E24D66"
          ],
          [
           0.615686274509804,
           "#E34E65"
          ],
          [
           0.6196078431372549,
           "#E44F64"
          ],
          [
           0.6235294117647059,
           "#E55064"
          ],
          [
           0.6274509803921569,
           "#E75263"
          ],
          [
           0.6313725490196078,
           "#E85362"
          ],
          [
           0.6352941176470588,
           "#E95462"
          ],
          [
           0.6392156862745098,
           "#EA5661"
          ],
          [
           0.6431372549019608,
           "#EB5760"
          ],
          [
           0.6470588235294118,
           "#EC5860"
          ],
          [
           0.6509803921568628,
           "#ED5A5F"
          ],
          [
           0.6549019607843137,
           "#EE5B5E"
          ],
          [
           0.6588235294117647,
           "#EF5D5E"
          ],
          [
           0.6627450980392157,
           "#F05F5E"
          ],
          [
           0.6666666666666666,
           "#F1605D"
          ],
          [
           0.6705882352941176,
           "#F2625D"
          ],
          [
           0.6745098039215687,
           "#F2645C"
          ],
          [
           0.6784313725490196,
           "#F3655C"
          ],
          [
           0.6823529411764706,
           "#F4675C"
          ],
          [
           0.6862745098039216,
           "#F4695C"
          ],
          [
           0.6901960784313725,
           "#F56B5C"
          ],
          [
           0.6941176470588235,
           "#F66C5C"
          ],
          [
           0.6980392156862745,
           "#F66E5C"
          ],
          [
           0.7019607843137254,
           "#F7705C"
          ],
          [
           0.7058823529411765,
           "#F7725C"
          ],
          [
           0.7098039215686275,
           "#F8745C"
          ],
          [
           0.7137254901960784,
           "#F8765C"
          ],
          [
           0.7176470588235294,
           "#F9785D"
          ],
          [
           0.7215686274509804,
           "#F9795D"
          ],
          [
           0.7254901960784313,
           "#F97B5D"
          ],
          [
           0.7294117647058823,
           "#FA7D5E"
          ],
          [
           0.7333333333333333,
           "#FA7F5E"
          ],
          [
           0.7372549019607844,
           "#FA815F"
          ],
          [
           0.7411764705882353,
           "#FB835F"
          ],
          [
           0.7450980392156863,
           "#FB8560"
          ],
          [
           0.7490196078431373,
           "#FB8761"
          ],
          [
           0.7529411764705882,
           "#FC8961"
          ],
          [
           0.7568627450980392,
           "#FC8A62"
          ],
          [
           0.7607843137254902,
           "#FC8C63"
          ],
          [
           0.7647058823529411,
           "#FC8E64"
          ],
          [
           0.7686274509803922,
           "#FC9065"
          ],
          [
           0.7725490196078432,
           "#FD9266"
          ],
          [
           0.7764705882352941,
           "#FD9467"
          ],
          [
           0.7803921568627451,
           "#FD9668"
          ],
          [
           0.7843137254901961,
           "#FD9869"
          ],
          [
           0.788235294117647,
           "#FD9A6A"
          ],
          [
           0.792156862745098,
           "#FD9B6B"
          ],
          [
           0.796078431372549,
           "#FE9D6C"
          ],
          [
           0.8,
           "#FE9F6D"
          ],
          [
           0.803921568627451,
           "#FEA16E"
          ],
          [
           0.807843137254902,
           "#FEA36F"
          ],
          [
           0.8117647058823529,
           "#FEA571"
          ],
          [
           0.8156862745098039,
           "#FEA772"
          ],
          [
           0.8196078431372549,
           "#FEA973"
          ],
          [
           0.8235294117647058,
           "#FEAA74"
          ],
          [
           0.8274509803921568,
           "#FEAC76"
          ],
          [
           0.8313725490196079,
           "#FEAE77"
          ],
          [
           0.8352941176470589,
           "#FEB078"
          ],
          [
           0.8392156862745098,
           "#FEB27A"
          ],
          [
           0.8431372549019608,
           "#FEB47B"
          ],
          [
           0.8470588235294118,
           "#FEB67C"
          ],
          [
           0.8509803921568627,
           "#FEB77E"
          ],
          [
           0.8549019607843137,
           "#FEB97F"
          ],
          [
           0.8588235294117647,
           "#FEBB81"
          ],
          [
           0.8627450980392157,
           "#FEBD82"
          ],
          [
           0.8666666666666667,
           "#FEBF84"
          ],
          [
           0.8705882352941177,
           "#FEC185"
          ],
          [
           0.8745098039215686,
           "#FEC287"
          ],
          [
           0.8784313725490196,
           "#FEC488"
          ],
          [
           0.8823529411764706,
           "#FEC68A"
          ],
          [
           0.8862745098039215,
           "#FEC88C"
          ],
          [
           0.8901960784313725,
           "#FECA8D"
          ],
          [
           0.8941176470588236,
           "#FECC8F"
          ],
          [
           0.8980392156862745,
           "#FECD90"
          ],
          [
           0.9019607843137255,
           "#FECF92"
          ],
          [
           0.9058823529411765,
           "#FED194"
          ],
          [
           0.9098039215686274,
           "#FED395"
          ],
          [
           0.9137254901960784,
           "#FED597"
          ],
          [
           0.9176470588235294,
           "#FED799"
          ],
          [
           0.9215686274509803,
           "#FED89A"
          ],
          [
           0.9254901960784314,
           "#FDDA9C"
          ],
          [
           0.9294117647058824,
           "#FDDC9E"
          ],
          [
           0.9333333333333333,
           "#FDDEA0"
          ],
          [
           0.9372549019607843,
           "#FDE0A1"
          ],
          [
           0.9411764705882353,
           "#FDE2A3"
          ],
          [
           0.9450980392156862,
           "#FDE3A5"
          ],
          [
           0.9490196078431372,
           "#FDE5A7"
          ],
          [
           0.9529411764705882,
           "#FDE7A9"
          ],
          [
           0.9568627450980393,
           "#FDE9AA"
          ],
          [
           0.9607843137254902,
           "#FDEBAC"
          ],
          [
           0.9647058823529412,
           "#FCECAE"
          ],
          [
           0.9686274509803922,
           "#FCEEB0"
          ],
          [
           0.9725490196078431,
           "#FCF0B2"
          ],
          [
           0.9764705882352941,
           "#FCF2B4"
          ],
          [
           0.9803921568627451,
           "#FCF4B6"
          ],
          [
           0.984313725490196,
           "#FCF6B8"
          ],
          [
           0.9882352941176471,
           "#FCF7B9"
          ],
          [
           0.9921568627450981,
           "#FCF9BB"
          ],
          [
           0.996078431372549,
           "#FCFBBD"
          ],
          [
           1,
           "#FCFDBF"
          ]
         ],
         "type": "heatmap",
         "x": [
          "japonicum",
          "diazoefficiens",
          "yuanmingense",
          "liaoningense"
         ],
         "y": [
          "japonicum",
          "diazoefficiens",
          "yuanmingense",
          "liaoningense"
         ],
         "z": [
          [
           0.9281178,
           0.83896655,
           0.89772767,
           0.8866347
          ],
          [
           0.83896655,
           0.43634656,
           0.89116824,
           0.877193
          ],
          [
           0.89772767,
           0.89116824,
           0.59194356,
           0.8787025
          ],
          [
           0.8866347,
           0.877193,
           0.8787025,
           0.05886056
          ]
         ]
        },
        {
         "hoverinfo": "skip",
         "marker": {
          "color": "red"
         },
         "mode": "markers",
         "type": "scatter",
         "x": [
          "yuanmingense",
          "liaoningense",
          "diazoefficiens"
         ],
         "y": [
          "japonicum",
          "japonicum",
          "japonicum"
         ]
        }
       ],
       "frames": [],
       "layout": {
        "height": 700,
        "margin": {
         "b": 150,
         "l": 150,
         "r": 50,
         "t": 60
        },
        "width": 800,
        "xaxis": {
         "scaleanchor": "y",
         "tickangle": -90
        }
       }
      },
      "application/vnd.webio.node+json": {
       "children": [
        {
         "children": [],
         "instanceArgs": {
          "namespace": "html",
          "tag": "div"
         },
         "nodeType": "DOM",
         "props": {
          "id": "plot-d1d60d9a-ebd5-4210-add8-f5c995a27df4"
         },
         "type": "node"
        }
       ],
       "instanceArgs": {
        "handlers": {
         "__get_gd_contents": [
          "(function (prop){prop==\"data\" ? (WebIO.setval({\"name\":\"__gd_contents\",\"scope\":\"7720743803525222271\",\"id\":\"3040834166744185990\",\"type\":\"observable\"},this.plotElem.data)) : undefined; return prop==\"layout\" ? (WebIO.setval({\"name\":\"__gd_contents\",\"scope\":\"7720743803525222271\",\"id\":\"3040834166744185990\",\"type\":\"observable\"},this.plotElem.layout)) : undefined})"
         ],
         "_commands": [
          "(function (args){var fn=args.shift(); var elem=this.plotElem; var Plotly=this.Plotly; args.unshift(elem); return Plotly[fn].apply(this,args)})"
         ],
         "_downloadImage": [
          "(function (options){return this.Plotly.downloadImage(this.plotElem,options)})"
         ],
         "_toImage": [
          "(function (options){return this.Plotly.toImage(this.plotElem,options).then((function (data){return WebIO.setval({\"name\":\"image\",\"scope\":\"7720743803525222271\",\"id\":\"1793399000662602737\",\"type\":\"observable\"},data)}))})"
         ]
        },
        "id": "7720743803525222271",
        "imports": {
         "data": [
          {
           "name": "Plotly",
           "type": "js",
           "url": "/assetserver/e6903599031aaef8675931dfcd7df98a1aeffbfc-plotly-latest.min.js"
          },
          {
           "name": null,
           "type": "js",
           "url": "/assetserver/74a5dea81f21b0b802ef1ee92f1c8a504eac1a0c-plotly_webio.bundle.js"
          }
         ],
         "type": "async_block"
        },
        "mount_callbacks": [
         "function () {\n    var handler = ((function (Plotly,PlotlyWebIO){PlotlyWebIO.init(WebIO); var gd=this.dom.querySelector(\"#plot-d1d60d9a-ebd5-4210-add8-f5c995a27df4\"); this.plotElem=gd; this.Plotly=Plotly; (window.Blink!==undefined) ? (gd.style.width=\"100%\", gd.style.height=\"100vh\", gd.style.marginLeft=\"0%\", gd.style.marginTop=\"0vh\") : undefined; window.onresize=(function (){return Plotly.Plots.resize(gd)}); Plotly.newPlot(gd,[{\"y\":[\"japonicum\",\"diazoefficiens\",\"yuanmingense\",\"liaoningense\"],\"type\":\"heatmap\",\"colorscale\":[[0.0,\"#000004\"],[0.00392156862745098,\"#010005\"],[0.00784313725490196,\"#010106\"],[0.011764705882352941,\"#010108\"],[0.01568627450980392,\"#020109\"],[0.0196078431372549,\"#02020B\"],[0.023529411764705882,\"#02020D\"],[0.027450980392156862,\"#03030F\"],[0.03137254901960784,\"#030312\"],[0.03529411764705882,\"#040414\"],[0.0392156862745098,\"#050416\"],[0.043137254901960784,\"#060518\"],[0.047058823529411764,\"#06051A\"],[0.050980392156862744,\"#07061C\"],[0.054901960784313725,\"#08071E\"],[0.058823529411764705,\"#090720\"],[0.06274509803921569,\"#0A0822\"],[0.06666666666666667,\"#0B0924\"],[0.07058823529411765,\"#0C0926\"],[0.07450980392156863,\"#0D0A29\"],[0.0784313725490196,\"#0E0B2B\"],[0.08235294117647059,\"#100B2D\"],[0.08627450980392157,\"#110C2F\"],[0.09019607843137255,\"#120D31\"],[0.09411764705882353,\"#130D34\"],[0.09803921568627451,\"#140E36\"],[0.10196078431372549,\"#150E38\"],[0.10588235294117647,\"#160F3B\"],[0.10980392156862745,\"#180F3D\"],[0.11372549019607843,\"#19103F\"],[0.11764705882352941,\"#1A1042\"],[0.12156862745098039,\"#1C1044\"],[0.12549019607843137,\"#1D1147\"],[0.12941176470588237,\"#1E1149\"],[0.13333333333333333,\"#20114B\"],[0.13725490196078433,\"#21114E\"],[0.1411764705882353,\"#221150\"],[0.1450980392156863,\"#241253\"],[0.14901960784313725,\"#251255\"],[0.15294117647058825,\"#271258\"],[0.1568627450980392,\"#29115A\"],[0.1607843137254902,\"#2A115C\"],[0.16470588235294117,\"#2C115F\"],[0.16862745098039217,\"#2D1161\"],[0.17254901960784313,\"#2F1163\"],[0.17647058823529413,\"#311165\"],[0.1803921568627451,\"#331067\"],[0.1843137254901961,\"#341069\"],[0.18823529411764706,\"#36106B\"],[0.19215686274509805,\"#38106C\"],[0.19607843137254902,\"#390F6E\"],[0.2,\"#3B0F70\"],[0.20392156862745098,\"#3D0F71\"],[0.20784313725490197,\"#3F0F72\"],[0.21176470588235294,\"#400F74\"],[0.21568627450980393,\"#420F75\"],[0.2196078431372549,\"#440F76\"],[0.2235294117647059,\"#451077\"],[0.22745098039215686,\"#471078\"],[0.23137254901960785,\"#491078\"],[0.23529411764705882,\"#4A1079\"],[0.23921568627450981,\"#4C117A\"],[0.24313725490196078,\"#4E117B\"],[0.24705882352941178,\"#4F127B\"],[0.25098039215686274,\"#51127C\"],[0.2549019607843137,\"#52137C\"],[0.25882352941176473,\"#54137D\"],[0.2627450980392157,\"#56147D\"],[0.26666666666666666,\"#57157E\"],[0.27058823529411763,\"#59157E\"],[0.27450980392156865,\"#5A167E\"],[0.2784313725490196,\"#5C167F\"],[0.2823529411764706,\"#5D177F\"],[0.28627450980392155,\"#5F187F\"],[0.2901960784313726,\"#601880\"],[0.29411764705882354,\"#621980\"],[0.2980392156862745,\"#641A80\"],[0.30196078431372547,\"#651A80\"],[0.3058823529411765,\"#671B80\"],[0.30980392156862746,\"#681C81\"],[0.3137254901960784,\"#6A1C81\"],[0.3176470588235294,\"#6B1D81\"],[0.3215686274509804,\"#6D1D81\"],[0.3254901960784314,\"#6E1E81\"],[0.32941176470588235,\"#701F81\"],[0.3333333333333333,\"#721F81\"],[0.33725490196078434,\"#732081\"],[0.3411764705882353,\"#752181\"],[0.34509803921568627,\"#762181\"],[0.34901960784313724,\"#782281\"],[0.35294117647058826,\"#792282\"],[0.3568627450980392,\"#7B2382\"],[0.3607843137254902,\"#7C2382\"],[0.36470588235294116,\"#7E2482\"],[0.3686274509803922,\"#802582\"],[0.37254901960784315,\"#812581\"],[0.3764705882352941,\"#832681\"],[0.3803921568627451,\"#842681\"],[0.3843137254901961,\"#862781\"],[0.38823529411764707,\"#882781\"],[0.39215686274509803,\"#892881\"],[0.396078431372549,\"#8B2981\"],[0.4,\"#8C2981\"],[0.403921568627451,\"#8E2A81\"],[0.40784313725490196,\"#902A81\"],[0.4117647058823529,\"#912B81\"],[0.41568627450980394,\"#932B80\"],[0.4196078431372549,\"#942C80\"],[0.4235294117647059,\"#962C80\"],[0.42745098039215684,\"#982D80\"],[0.43137254901960786,\"#992D80\"],[0.43529411764705883,\"#9B2E7F\"],[0.4392156862745098,\"#9C2E7F\"],[0.44313725490196076,\"#9E2F7F\"],[0.4470588235294118,\"#A02F7F\"],[0.45098039215686275,\"#A1307E\"],[0.4549019607843137,\"#A3307E\"],[0.4588235294117647,\"#A5317E\"],[0.4627450980392157,\"#A6317D\"],[0.4666666666666667,\"#A8327D\"],[0.47058823529411764,\"#AA337D\"],[0.4745098039215686,\"#AB337C\"],[0.47843137254901963,\"#AD347C\"],[0.4823529411764706,\"#AE347B\"],[0.48627450980392156,\"#B0357B\"],[0.49019607843137253,\"#B2357B\"],[0.49411764705882355,\"#B3367A\"],[0.4980392156862745,\"#B5367A\"],[0.5019607843137255,\"#B73779\"],[0.5058823529411764,\"#B83779\"],[0.5098039215686274,\"#BA3878\"],[0.5137254901960784,\"#BC3978\"],[0.5176470588235295,\"#BD3977\"],[0.5215686274509804,\"#BF3A77\"],[0.5254901960784314,\"#C03A76\"],[0.5294117647058824,\"#C23B75\"],[0.5333333333333333,\"#C43C75\"],[0.5372549019607843,\"#C53C74\"],[0.5411764705882353,\"#C73D73\"],[0.5450980392156862,\"#C83E73\"],[0.5490196078431373,\"#CA3E72\"],[0.5529411764705883,\"#CC3F71\"],[0.5568627450980392,\"#CD4071\"],[0.5607843137254902,\"#CF4070\"],[0.5647058823529412,\"#D0416F\"],[0.5686274509803921,\"#D2426F\"],[0.5725490196078431,\"#D3436E\"],[0.5764705882352941,\"#D5446D\"],[0.5803921568627451,\"#D6456C\"],[0.5843137254901961,\"#D8456C\"],[0.5882352941176471,\"#D9466B\"],[0.592156862745098,\"#DB476A\"],[0.596078431372549,\"#DC4869\"],[0.6,\"#DE4968\"],[0.6039215686274509,\"#DF4A68\"],[0.6078431372549019,\"#E04C67\"],[0.611764705882353,\"#E24D66\"],[0.615686274509804,\"#E34E65\"],[0.6196078431372549,\"#E44F64\"],[0.6235294117647059,\"#E55064\"],[0.6274509803921569,\"#E75263\"],[0.6313725490196078,\"#E85362\"],[0.6352941176470588,\"#E95462\"],[0.6392156862745098,\"#EA5661\"],[0.6431372549019608,\"#EB5760\"],[0.6470588235294118,\"#EC5860\"],[0.6509803921568628,\"#ED5A5F\"],[0.6549019607843137,\"#EE5B5E\"],[0.6588235294117647,\"#EF5D5E\"],[0.6627450980392157,\"#F05F5E\"],[0.6666666666666666,\"#F1605D\"],[0.6705882352941176,\"#F2625D\"],[0.6745098039215687,\"#F2645C\"],[0.6784313725490196,\"#F3655C\"],[0.6823529411764706,\"#F4675C\"],[0.6862745098039216,\"#F4695C\"],[0.6901960784313725,\"#F56B5C\"],[0.6941176470588235,\"#F66C5C\"],[0.6980392156862745,\"#F66E5C\"],[0.7019607843137254,\"#F7705C\"],[0.7058823529411765,\"#F7725C\"],[0.7098039215686275,\"#F8745C\"],[0.7137254901960784,\"#F8765C\"],[0.7176470588235294,\"#F9785D\"],[0.7215686274509804,\"#F9795D\"],[0.7254901960784313,\"#F97B5D\"],[0.7294117647058823,\"#FA7D5E\"],[0.7333333333333333,\"#FA7F5E\"],[0.7372549019607844,\"#FA815F\"],[0.7411764705882353,\"#FB835F\"],[0.7450980392156863,\"#FB8560\"],[0.7490196078431373,\"#FB8761\"],[0.7529411764705882,\"#FC8961\"],[0.7568627450980392,\"#FC8A62\"],[0.7607843137254902,\"#FC8C63\"],[0.7647058823529411,\"#FC8E64\"],[0.7686274509803922,\"#FC9065\"],[0.7725490196078432,\"#FD9266\"],[0.7764705882352941,\"#FD9467\"],[0.7803921568627451,\"#FD9668\"],[0.7843137254901961,\"#FD9869\"],[0.788235294117647,\"#FD9A6A\"],[0.792156862745098,\"#FD9B6B\"],[0.796078431372549,\"#FE9D6C\"],[0.8,\"#FE9F6D\"],[0.803921568627451,\"#FEA16E\"],[0.807843137254902,\"#FEA36F\"],[0.8117647058823529,\"#FEA571\"],[0.8156862745098039,\"#FEA772\"],[0.8196078431372549,\"#FEA973\"],[0.8235294117647058,\"#FEAA74\"],[0.8274509803921568,\"#FEAC76\"],[0.8313725490196079,\"#FEAE77\"],[0.8352941176470589,\"#FEB078\"],[0.8392156862745098,\"#FEB27A\"],[0.8431372549019608,\"#FEB47B\"],[0.8470588235294118,\"#FEB67C\"],[0.8509803921568627,\"#FEB77E\"],[0.8549019607843137,\"#FEB97F\"],[0.8588235294117647,\"#FEBB81\"],[0.8627450980392157,\"#FEBD82\"],[0.8666666666666667,\"#FEBF84\"],[0.8705882352941177,\"#FEC185\"],[0.8745098039215686,\"#FEC287\"],[0.8784313725490196,\"#FEC488\"],[0.8823529411764706,\"#FEC68A\"],[0.8862745098039215,\"#FEC88C\"],[0.8901960784313725,\"#FECA8D\"],[0.8941176470588236,\"#FECC8F\"],[0.8980392156862745,\"#FECD90\"],[0.9019607843137255,\"#FECF92\"],[0.9058823529411765,\"#FED194\"],[0.9098039215686274,\"#FED395\"],[0.9137254901960784,\"#FED597\"],[0.9176470588235294,\"#FED799\"],[0.9215686274509803,\"#FED89A\"],[0.9254901960784314,\"#FDDA9C\"],[0.9294117647058824,\"#FDDC9E\"],[0.9333333333333333,\"#FDDEA0\"],[0.9372549019607843,\"#FDE0A1\"],[0.9411764705882353,\"#FDE2A3\"],[0.9450980392156862,\"#FDE3A5\"],[0.9490196078431372,\"#FDE5A7\"],[0.9529411764705882,\"#FDE7A9\"],[0.9568627450980393,\"#FDE9AA\"],[0.9607843137254902,\"#FDEBAC\"],[0.9647058823529412,\"#FCECAE\"],[0.9686274509803922,\"#FCEEB0\"],[0.9725490196078431,\"#FCF0B2\"],[0.9764705882352941,\"#FCF2B4\"],[0.9803921568627451,\"#FCF4B6\"],[0.984313725490196,\"#FCF6B8\"],[0.9882352941176471,\"#FCF7B9\"],[0.9921568627450981,\"#FCF9BB\"],[0.996078431372549,\"#FCFBBD\"],[1.0,\"#FCFDBF\"]],\"z\":[[0.9281178,0.83896655,0.89772767,0.8866347],[0.83896655,0.43634656,0.89116824,0.877193],[0.89772767,0.89116824,0.59194356,0.8787025],[0.8866347,0.877193,0.8787025,0.05886056]],\"x\":[\"japonicum\",\"diazoefficiens\",\"yuanmingense\",\"liaoningense\"]},{\"marker\":{\"color\":\"red\"},\"mode\":\"markers\",\"y\":[\"japonicum\",\"japonicum\",\"japonicum\"],\"type\":\"scatter\",\"hoverinfo\":\"skip\",\"x\":[\"yuanmingense\",\"liaoningense\",\"diazoefficiens\"]}],{\"xaxis\":{\"tickangle\":-90,\"scaleanchor\":\"y\"},\"height\":700,\"margin\":{\"l\":150,\"b\":150,\"r\":50,\"t\":60},\"width\":800},{}); gd.on(\"plotly_hover\",(function (data){var filtered_data=WebIO.PlotlyCommands.filterEventData(gd,data,\"hover\"); return !(filtered_data.isnil) ? (WebIO.setval({\"name\":\"hover\",\"scope\":\"7720743803525222271\",\"id\":\"306468205264875209\",\"type\":\"observable\"},filtered_data.out)) : undefined})); gd.on(\"plotly_unhover\",(function (){return WebIO.setval({\"name\":\"hover\",\"scope\":\"7720743803525222271\",\"id\":\"306468205264875209\",\"type\":\"observable\"},{})})); gd.on(\"plotly_selected\",(function (data){var filtered_data=WebIO.PlotlyCommands.filterEventData(gd,data,\"selected\"); return !(filtered_data.isnil) ? (WebIO.setval({\"name\":\"selected\",\"scope\":\"7720743803525222271\",\"id\":\"1862084484911922288\",\"type\":\"observable\"},filtered_data.out)) : undefined})); gd.on(\"plotly_deselect\",(function (){return WebIO.setval({\"name\":\"selected\",\"scope\":\"7720743803525222271\",\"id\":\"1862084484911922288\",\"type\":\"observable\"},{})})); gd.on(\"plotly_relayout\",(function (data){var filtered_data=WebIO.PlotlyCommands.filterEventData(gd,data,\"relayout\"); return !(filtered_data.isnil) ? (WebIO.setval({\"name\":\"relayout\",\"scope\":\"7720743803525222271\",\"id\":\"4918959888690407135\",\"type\":\"observable\"},filtered_data.out)) : undefined})); return gd.on(\"plotly_click\",(function (data){var filtered_data=WebIO.PlotlyCommands.filterEventData(gd,data,\"click\"); return !(filtered_data.isnil) ? (WebIO.setval({\"name\":\"click\",\"scope\":\"7720743803525222271\",\"id\":\"7557713747050421245\",\"type\":\"observable\"},filtered_data.out)) : undefined}))}));\n    (WebIO.importBlock({\"data\":[{\"name\":\"Plotly\",\"type\":\"js\",\"url\":\"/assetserver/e6903599031aaef8675931dfcd7df98a1aeffbfc-plotly-latest.min.js\"},{\"name\":null,\"type\":\"js\",\"url\":\"/assetserver/74a5dea81f21b0b802ef1ee92f1c8a504eac1a0c-plotly_webio.bundle.js\"}],\"type\":\"async_block\"})).then((imports) => handler.apply(this, imports));\n}\n"
        ],
        "observables": {
         "__gd_contents": {
          "id": "3040834166744185990",
          "sync": false,
          "value": {}
         },
         "__get_gd_contents": {
          "id": "4117513729543946457",
          "sync": false,
          "value": ""
         },
         "_commands": {
          "id": "10649920335649066753",
          "sync": false,
          "value": []
         },
         "_downloadImage": {
          "id": "11609791461703720257",
          "sync": false,
          "value": {}
         },
         "_toImage": {
          "id": "5473888780486731941",
          "sync": false,
          "value": {}
         },
         "click": {
          "id": "7557713747050421245",
          "sync": false,
          "value": {}
         },
         "hover": {
          "id": "306468205264875209",
          "sync": false,
          "value": {}
         },
         "image": {
          "id": "1793399000662602737",
          "sync": true,
          "value": ""
         },
         "relayout": {
          "id": "4918959888690407135",
          "sync": false,
          "value": {}
         },
         "selected": {
          "id": "1862084484911922288",
          "sync": false,
          "value": {}
         }
        },
        "systemjs_options": null
       },
       "nodeType": "Scope",
       "props": {},
       "type": "node"
      },
      "image/png": "[encoded data removed]",
      "image/svg+xml": [
       "<svg class=\"main-svg\" xmlns=\"http://www.w3.org/2000/svg\" xmlns:xlink=\"http://www.w3.org/1999/xlink\" width=\"700\" height=\"500\" style=\"\" viewBox=\"0 0 700 500\"><rect x=\"0\" y=\"0\" width=\"700\" height=\"500\" style=\"fill: rgb(255, 255, 255); fill-opacity: 1;\"/><defs id=\"defs-f7f220\"><g class=\"clips\"><clipPath id=\"clipf7f220xyplot\" class=\"plotclip\"><rect width=\"461\" height=\"290\"/></clipPath><clipPath class=\"axesclip\" id=\"clipf7f220x\"><rect x=\"150\" y=\"0\" width=\"461\" height=\"500\"/></clipPath><clipPath class=\"axesclip\" id=\"clipf7f220y\"><rect x=\"0\" y=\"60\" width=\"700\" height=\"290\"/></clipPath><clipPath class=\"axesclip\" id=\"clipf7f220xy\"><rect x=\"150\" y=\"60\" width=\"461\" height=\"290\"/></clipPath></g><g class=\"gradients\"><linearGradient x1=\"0\" x2=\"0\" y1=\"1\" y2=\"0\" id=\"gf7f220-cb3952ee\"><stop offset=\"0%\" stop-color=\"rgb(0, 0, 4)\" stop-opacity=\"1\"/><stop offset=\"0.39215686274509803%\" stop-color=\"rgb(1, 0, 5)\" stop-opacity=\"1\"/><stop offset=\"0.7843137254901961%\" stop-color=\"rgb(1, 1, 6)\" stop-opacity=\"1\"/><stop offset=\"1.1764705882352942%\" stop-color=\"rgb(1, 1, 8)\" stop-opacity=\"1\"/><stop offset=\"1.5686274509803921%\" stop-color=\"rgb(2, 1, 9)\" stop-opacity=\"1\"/><stop offset=\"1.9607843137254901%\" stop-color=\"rgb(2, 2, 11)\" stop-opacity=\"1\"/><stop offset=\"2.3529411764705883%\" stop-color=\"rgb(2, 2, 13)\" stop-opacity=\"1\"/><stop offset=\"2.7450980392156863%\" stop-color=\"rgb(3, 3, 15)\" stop-opacity=\"1\"/><stop offset=\"3.1372549019607843%\" stop-color=\"rgb(3, 3, 18)\" stop-opacity=\"1\"/><stop offset=\"3.5294117647058822%\" stop-color=\"rgb(4, 4, 20)\" stop-opacity=\"1\"/><stop offset=\"3.9215686274509802%\" stop-color=\"rgb(5, 4, 22)\" stop-opacity=\"1\"/><stop offset=\"4.313725490196078%\" stop-color=\"rgb(6, 5, 24)\" stop-opacity=\"1\"/><stop offset=\"4.705882352941177%\" stop-color=\"rgb(6, 5, 26)\" stop-opacity=\"1\"/><stop offset=\"5.098039215686274%\" stop-color=\"rgb(7, 6, 28)\" stop-opacity=\"1\"/><stop offset=\"5.490196078431373%\" stop-color=\"rgb(8, 7, 30)\" stop-opacity=\"1\"/><stop offset=\"5.88235294117647%\" stop-color=\"rgb(9, 7, 32)\" stop-opacity=\"1\"/><stop offset=\"6.2745098039215685%\" stop-color=\"rgb(10, 8, 34)\" stop-opacity=\"1\"/><stop offset=\"6.666666666666667%\" stop-color=\"rgb(11, 9, 36)\" stop-opacity=\"1\"/><stop offset=\"7.0588235294117645%\" stop-color=\"rgb(12, 9, 38)\" stop-opacity=\"1\"/><stop offset=\"7.450980392156863%\" stop-color=\"rgb(13, 10, 41)\" stop-opacity=\"1\"/><stop offset=\"7.8431372549019605%\" stop-color=\"rgb(14, 11, 43)\" stop-opacity=\"1\"/><stop offset=\"8.235294117647058%\" stop-color=\"rgb(16, 11, 45)\" stop-opacity=\"1\"/><stop offset=\"8.627450980392156%\" stop-color=\"rgb(17, 12, 47)\" stop-opacity=\"1\"/><stop offset=\"9.019607843137255%\" stop-color=\"rgb(18, 13, 49)\" stop-opacity=\"1\"/><stop offset=\"9.411764705882353%\" stop-color=\"rgb(19, 13, 52)\" stop-opacity=\"1\"/><stop offset=\"9.803921568627452%\" stop-color=\"rgb(20, 14, 54)\" stop-opacity=\"1\"/><stop offset=\"10.196078431372548%\" stop-color=\"rgb(21, 14, 56)\" stop-opacity=\"1\"/><stop offset=\"10.588235294117647%\" stop-color=\"rgb(22, 15, 59)\" stop-opacity=\"1\"/><stop offset=\"10.980392156862745%\" stop-color=\"rgb(24, 15, 61)\" stop-opacity=\"1\"/><stop offset=\"11.372549019607844%\" stop-color=\"rgb(25, 16, 63)\" stop-opacity=\"1\"/><stop offset=\"11.76470588235294%\" stop-color=\"rgb(26, 16, 66)\" stop-opacity=\"1\"/><stop offset=\"12.156862745098039%\" stop-color=\"rgb(28, 16, 68)\" stop-opacity=\"1\"/><stop offset=\"12.549019607843137%\" stop-color=\"rgb(29, 17, 71)\" stop-opacity=\"1\"/><stop offset=\"12.941176470588237%\" stop-color=\"rgb(30, 17, 73)\" stop-opacity=\"1\"/><stop offset=\"13.333333333333334%\" stop-color=\"rgb(32, 17, 75)\" stop-opacity=\"1\"/><stop offset=\"13.725490196078432%\" stop-color=\"rgb(33, 17, 78)\" stop-opacity=\"1\"/><stop offset=\"14.117647058823529%\" stop-color=\"rgb(34, 17, 80)\" stop-opacity=\"1\"/><stop offset=\"14.50980392156863%\" stop-color=\"rgb(36, 18, 83)\" stop-opacity=\"1\"/><stop offset=\"14.901960784313726%\" stop-color=\"rgb(37, 18, 85)\" stop-opacity=\"1\"/><stop offset=\"15.294117647058824%\" stop-color=\"rgb(39, 18, 88)\" stop-opacity=\"1\"/><stop offset=\"15.686274509803921%\" stop-color=\"rgb(41, 17, 90)\" stop-opacity=\"1\"/><stop offset=\"16.07843137254902%\" stop-color=\"rgb(42, 17, 92)\" stop-opacity=\"1\"/><stop offset=\"16.470588235294116%\" stop-color=\"rgb(44, 17, 95)\" stop-opacity=\"1\"/><stop offset=\"16.862745098039216%\" stop-color=\"rgb(45, 17, 97)\" stop-opacity=\"1\"/><stop offset=\"17.254901960784313%\" stop-color=\"rgb(47, 17, 99)\" stop-opacity=\"1\"/><stop offset=\"17.647058823529413%\" stop-color=\"rgb(49, 17, 101)\" stop-opacity=\"1\"/><stop offset=\"18.03921568627451%\" stop-color=\"rgb(51, 16, 103)\" stop-opacity=\"1\"/><stop offset=\"18.43137254901961%\" stop-color=\"rgb(52, 16, 105)\" stop-opacity=\"1\"/><stop offset=\"18.823529411764707%\" stop-color=\"rgb(54, 16, 107)\" stop-opacity=\"1\"/><stop offset=\"19.215686274509807%\" stop-color=\"rgb(56, 16, 108)\" stop-opacity=\"1\"/><stop offset=\"19.607843137254903%\" stop-color=\"rgb(57, 15, 110)\" stop-opacity=\"1\"/><stop offset=\"20%\" stop-color=\"rgb(59, 15, 112)\" stop-opacity=\"1\"/><stop offset=\"20.392156862745097%\" stop-color=\"rgb(61, 15, 113)\" stop-opacity=\"1\"/><stop offset=\"20.784313725490197%\" stop-color=\"rgb(63, 15, 114)\" stop-opacity=\"1\"/><stop offset=\"21.176470588235293%\" stop-color=\"rgb(64, 15, 116)\" stop-opacity=\"1\"/><stop offset=\"21.568627450980394%\" stop-color=\"rgb(66, 15, 117)\" stop-opacity=\"1\"/><stop offset=\"21.96078431372549%\" stop-color=\"rgb(68, 15, 118)\" stop-opacity=\"1\"/><stop offset=\"22.35294117647059%\" stop-color=\"rgb(69, 16, 119)\" stop-opacity=\"1\"/><stop offset=\"22.745098039215687%\" stop-color=\"rgb(71, 16, 120)\" stop-opacity=\"1\"/><stop offset=\"23.137254901960784%\" stop-color=\"rgb(73, 16, 120)\" stop-opacity=\"1\"/><stop offset=\"23.52941176470588%\" stop-color=\"rgb(74, 16, 121)\" stop-opacity=\"1\"/><stop offset=\"23.92156862745098%\" stop-color=\"rgb(76, 17, 122)\" stop-opacity=\"1\"/><stop offset=\"24.313725490196077%\" stop-color=\"rgb(78, 17, 123)\" stop-opacity=\"1\"/><stop offset=\"24.705882352941178%\" stop-color=\"rgb(79, 18, 123)\" stop-opacity=\"1\"/><stop offset=\"25.098039215686274%\" stop-color=\"rgb(81, 18, 124)\" stop-opacity=\"1\"/><stop offset=\"25.49019607843137%\" stop-color=\"rgb(82, 19, 124)\" stop-opacity=\"1\"/><stop offset=\"25.882352941176475%\" stop-color=\"rgb(84, 19, 125)\" stop-opacity=\"1\"/><stop offset=\"26.27450980392157%\" stop-color=\"rgb(86, 20, 125)\" stop-opacity=\"1\"/><stop offset=\"26.666666666666668%\" stop-color=\"rgb(87, 21, 126)\" stop-opacity=\"1\"/><stop offset=\"27.058823529411764%\" stop-color=\"rgb(89, 21, 126)\" stop-opacity=\"1\"/><stop offset=\"27.450980392156865%\" stop-color=\"rgb(90, 22, 126)\" stop-opacity=\"1\"/><stop offset=\"27.84313725490196%\" stop-color=\"rgb(92, 22, 127)\" stop-opacity=\"1\"/><stop offset=\"28.235294117647058%\" stop-color=\"rgb(93, 23, 127)\" stop-opacity=\"1\"/><stop offset=\"28.627450980392155%\" stop-color=\"rgb(95, 24, 127)\" stop-opacity=\"1\"/><stop offset=\"29.01960784313726%\" stop-color=\"rgb(96, 24, 128)\" stop-opacity=\"1\"/><stop offset=\"29.411764705882355%\" stop-color=\"rgb(98, 25, 128)\" stop-opacity=\"1\"/><stop offset=\"29.80392156862745%\" stop-color=\"rgb(100, 26, 128)\" stop-opacity=\"1\"/><stop offset=\"30.19607843137255%\" stop-color=\"rgb(101, 26, 128)\" stop-opacity=\"1\"/><stop offset=\"30.58823529411765%\" stop-color=\"rgb(103, 27, 128)\" stop-opacity=\"1\"/><stop offset=\"30.980392156862745%\" stop-color=\"rgb(104, 28, 129)\" stop-opacity=\"1\"/><stop offset=\"31.372549019607842%\" stop-color=\"rgb(106, 28, 129)\" stop-opacity=\"1\"/><stop offset=\"31.76470588235294%\" stop-color=\"rgb(107, 29, 129)\" stop-opacity=\"1\"/><stop offset=\"32.15686274509804%\" stop-color=\"rgb(109, 29, 129)\" stop-opacity=\"1\"/><stop offset=\"32.549019607843135%\" stop-color=\"rgb(110, 30, 129)\" stop-opacity=\"1\"/><stop offset=\"32.94117647058823%\" stop-color=\"rgb(112, 31, 129)\" stop-opacity=\"1\"/><stop offset=\"33.33333333333333%\" stop-color=\"rgb(114, 31, 129)\" stop-opacity=\"1\"/><stop offset=\"33.72549019607843%\" stop-color=\"rgb(115, 32, 129)\" stop-opacity=\"1\"/><stop offset=\"34.11764705882353%\" stop-color=\"rgb(117, 33, 129)\" stop-opacity=\"1\"/><stop offset=\"34.509803921568626%\" stop-color=\"rgb(118, 33, 129)\" stop-opacity=\"1\"/><stop offset=\"34.90196078431372%\" stop-color=\"rgb(120, 34, 129)\" stop-opacity=\"1\"/><stop offset=\"35.294117647058826%\" stop-color=\"rgb(121, 34, 130)\" stop-opacity=\"1\"/><stop offset=\"35.68627450980392%\" stop-color=\"rgb(123, 35, 130)\" stop-opacity=\"1\"/><stop offset=\"36.07843137254902%\" stop-color=\"rgb(124, 35, 130)\" stop-opacity=\"1\"/><stop offset=\"36.470588235294116%\" stop-color=\"rgb(126, 36, 130)\" stop-opacity=\"1\"/><stop offset=\"36.86274509803922%\" stop-color=\"rgb(128, 37, 130)\" stop-opacity=\"1\"/><stop offset=\"37.254901960784316%\" stop-color=\"rgb(129, 37, 129)\" stop-opacity=\"1\"/><stop offset=\"37.64705882352941%\" stop-color=\"rgb(131, 38, 129)\" stop-opacity=\"1\"/><stop offset=\"38.03921568627451%\" stop-color=\"rgb(132, 38, 129)\" stop-opacity=\"1\"/><stop offset=\"38.43137254901961%\" stop-color=\"rgb(134, 39, 129)\" stop-opacity=\"1\"/><stop offset=\"38.82352941176471%\" stop-color=\"rgb(136, 39, 129)\" stop-opacity=\"1\"/><stop offset=\"39.21568627450981%\" stop-color=\"rgb(137, 40, 129)\" stop-opacity=\"1\"/><stop offset=\"39.6078431372549%\" stop-color=\"rgb(139, 41, 129)\" stop-opacity=\"1\"/><stop offset=\"40%\" stop-color=\"rgb(140, 41, 129)\" stop-opacity=\"1\"/><stop offset=\"40.3921568627451%\" stop-color=\"rgb(142, 42, 129)\" stop-opacity=\"1\"/><stop offset=\"40.78431372549019%\" stop-color=\"rgb(144, 42, 129)\" stop-opacity=\"1\"/><stop offset=\"41.17647058823529%\" stop-color=\"rgb(145, 43, 129)\" stop-opacity=\"1\"/><stop offset=\"41.568627450980394%\" stop-color=\"rgb(147, 43, 128)\" stop-opacity=\"1\"/><stop offset=\"41.96078431372549%\" stop-color=\"rgb(148, 44, 128)\" stop-opacity=\"1\"/><stop offset=\"42.35294117647059%\" stop-color=\"rgb(150, 44, 128)\" stop-opacity=\"1\"/><stop offset=\"42.745098039215684%\" stop-color=\"rgb(152, 45, 128)\" stop-opacity=\"1\"/><stop offset=\"43.13725490196079%\" stop-color=\"rgb(153, 45, 128)\" stop-opacity=\"1\"/><stop offset=\"43.529411764705884%\" stop-color=\"rgb(155, 46, 127)\" stop-opacity=\"1\"/><stop offset=\"43.92156862745098%\" stop-color=\"rgb(156, 46, 127)\" stop-opacity=\"1\"/><stop offset=\"44.31372549019608%\" stop-color=\"rgb(158, 47, 127)\" stop-opacity=\"1\"/><stop offset=\"44.70588235294118%\" stop-color=\"rgb(160, 47, 127)\" stop-opacity=\"1\"/><stop offset=\"45.09803921568628%\" stop-color=\"rgb(161, 48, 126)\" stop-opacity=\"1\"/><stop offset=\"45.490196078431374%\" stop-color=\"rgb(163, 48, 126)\" stop-opacity=\"1\"/><stop offset=\"45.88235294117647%\" stop-color=\"rgb(165, 49, 126)\" stop-opacity=\"1\"/><stop offset=\"46.27450980392157%\" stop-color=\"rgb(166, 49, 125)\" stop-opacity=\"1\"/><stop offset=\"46.666666666666664%\" stop-color=\"rgb(168, 50, 125)\" stop-opacity=\"1\"/><stop offset=\"47.05882352941176%\" stop-color=\"rgb(170, 51, 125)\" stop-opacity=\"1\"/><stop offset=\"47.45098039215686%\" stop-color=\"rgb(171, 51, 124)\" stop-opacity=\"1\"/><stop offset=\"47.84313725490196%\" stop-color=\"rgb(173, 52, 124)\" stop-opacity=\"1\"/><stop offset=\"48.23529411764706%\" stop-color=\"rgb(174, 52, 123)\" stop-opacity=\"1\"/><stop offset=\"48.627450980392155%\" stop-color=\"rgb(176, 53, 123)\" stop-opacity=\"1\"/><stop offset=\"49.01960784313725%\" stop-color=\"rgb(178, 53, 123)\" stop-opacity=\"1\"/><stop offset=\"49.411764705882355%\" stop-color=\"rgb(179, 54, 122)\" stop-opacity=\"1\"/><stop offset=\"49.80392156862745%\" stop-color=\"rgb(181, 54, 122)\" stop-opacity=\"1\"/><stop offset=\"50.19607843137255%\" stop-color=\"rgb(183, 55, 121)\" stop-opacity=\"1\"/><stop offset=\"50.588235294117645%\" stop-color=\"rgb(184, 55, 121)\" stop-opacity=\"1\"/><stop offset=\"50.98039215686274%\" stop-color=\"rgb(186, 56, 120)\" stop-opacity=\"1\"/><stop offset=\"51.37254901960784%\" stop-color=\"rgb(188, 57, 120)\" stop-opacity=\"1\"/><stop offset=\"51.76470588235295%\" stop-color=\"rgb(189, 57, 119)\" stop-opacity=\"1\"/><stop offset=\"52.156862745098046%\" stop-color=\"rgb(191, 58, 119)\" stop-opacity=\"1\"/><stop offset=\"52.54901960784314%\" stop-color=\"rgb(192, 58, 118)\" stop-opacity=\"1\"/><stop offset=\"52.94117647058824%\" stop-color=\"rgb(194, 59, 117)\" stop-opacity=\"1\"/><stop offset=\"53.333333333333336%\" stop-color=\"rgb(196, 60, 117)\" stop-opacity=\"1\"/><stop offset=\"53.72549019607843%\" stop-color=\"rgb(197, 60, 116)\" stop-opacity=\"1\"/><stop offset=\"54.11764705882353%\" stop-color=\"rgb(199, 61, 115)\" stop-opacity=\"1\"/><stop offset=\"54.509803921568626%\" stop-color=\"rgb(200, 62, 115)\" stop-opacity=\"1\"/><stop offset=\"54.90196078431373%\" stop-color=\"rgb(202, 62, 114)\" stop-opacity=\"1\"/><stop offset=\"55.294117647058826%\" stop-color=\"rgb(204, 63, 113)\" stop-opacity=\"1\"/><stop offset=\"55.68627450980392%\" stop-color=\"rgb(205, 64, 113)\" stop-opacity=\"1\"/><stop offset=\"56.07843137254902%\" stop-color=\"rgb(207, 64, 112)\" stop-opacity=\"1\"/><stop offset=\"56.470588235294116%\" stop-color=\"rgb(208, 65, 111)\" stop-opacity=\"1\"/><stop offset=\"56.86274509803921%\" stop-color=\"rgb(210, 66, 111)\" stop-opacity=\"1\"/><stop offset=\"57.25490196078431%\" stop-color=\"rgb(211, 67, 110)\" stop-opacity=\"1\"/><stop offset=\"57.647058823529406%\" stop-color=\"rgb(213, 68, 109)\" stop-opacity=\"1\"/><stop offset=\"58.03921568627452%\" stop-color=\"rgb(214, 69, 108)\" stop-opacity=\"1\"/><stop offset=\"58.43137254901961%\" stop-color=\"rgb(216, 69, 108)\" stop-opacity=\"1\"/><stop offset=\"58.82352941176471%\" stop-color=\"rgb(217, 70, 107)\" stop-opacity=\"1\"/><stop offset=\"59.21568627450981%\" stop-color=\"rgb(219, 71, 106)\" stop-opacity=\"1\"/><stop offset=\"59.6078431372549%\" stop-color=\"rgb(220, 72, 105)\" stop-opacity=\"1\"/><stop offset=\"60%\" stop-color=\"rgb(222, 73, 104)\" stop-opacity=\"1\"/><stop offset=\"60.3921568627451%\" stop-color=\"rgb(223, 74, 104)\" stop-opacity=\"1\"/><stop offset=\"60.78431372549019%\" stop-color=\"rgb(224, 76, 103)\" stop-opacity=\"1\"/><stop offset=\"61.1764705882353%\" stop-color=\"rgb(226, 77, 102)\" stop-opacity=\"1\"/><stop offset=\"61.568627450980394%\" stop-color=\"rgb(227, 78, 101)\" stop-opacity=\"1\"/><stop offset=\"61.96078431372549%\" stop-color=\"rgb(228, 79, 100)\" stop-opacity=\"1\"/><stop offset=\"62.35294117647059%\" stop-color=\"rgb(229, 80, 100)\" stop-opacity=\"1\"/><stop offset=\"62.745098039215684%\" stop-color=\"rgb(231, 82, 99)\" stop-opacity=\"1\"/><stop offset=\"63.13725490196078%\" stop-color=\"rgb(232, 83, 98)\" stop-opacity=\"1\"/><stop offset=\"63.52941176470588%\" stop-color=\"rgb(233, 84, 98)\" stop-opacity=\"1\"/><stop offset=\"63.921568627450974%\" stop-color=\"rgb(234, 86, 97)\" stop-opacity=\"1\"/><stop offset=\"64.31372549019608%\" stop-color=\"rgb(235, 87, 96)\" stop-opacity=\"1\"/><stop offset=\"64.70588235294117%\" stop-color=\"rgb(236, 88, 96)\" stop-opacity=\"1\"/><stop offset=\"65.09803921568627%\" stop-color=\"rgb(237, 90, 95)\" stop-opacity=\"1\"/><stop offset=\"65.49019607843137%\" stop-color=\"rgb(238, 91, 94)\" stop-opacity=\"1\"/><stop offset=\"65.88235294117646%\" stop-color=\"rgb(239, 93, 94)\" stop-opacity=\"1\"/><stop offset=\"66.27450980392156%\" stop-color=\"rgb(240, 95, 94)\" stop-opacity=\"1\"/><stop offset=\"66.66666666666666%\" stop-color=\"rgb(241, 96, 93)\" stop-opacity=\"1\"/><stop offset=\"67.05882352941175%\" stop-color=\"rgb(242, 98, 93)\" stop-opacity=\"1\"/><stop offset=\"67.45098039215686%\" stop-color=\"rgb(242, 100, 92)\" stop-opacity=\"1\"/><stop offset=\"67.84313725490196%\" stop-color=\"rgb(243, 101, 92)\" stop-opacity=\"1\"/><stop offset=\"68.23529411764706%\" stop-color=\"rgb(244, 103, 92)\" stop-opacity=\"1\"/><stop offset=\"68.62745098039215%\" stop-color=\"rgb(244, 105, 92)\" stop-opacity=\"1\"/><stop offset=\"69.01960784313725%\" stop-color=\"rgb(245, 107, 92)\" stop-opacity=\"1\"/><stop offset=\"69.41176470588235%\" stop-color=\"rgb(246, 108, 92)\" stop-opacity=\"1\"/><stop offset=\"69.80392156862744%\" stop-color=\"rgb(246, 110, 92)\" stop-opacity=\"1\"/><stop offset=\"70.19607843137254%\" stop-color=\"rgb(247, 112, 92)\" stop-opacity=\"1\"/><stop offset=\"70.58823529411765%\" stop-color=\"rgb(247, 114, 92)\" stop-opacity=\"1\"/><stop offset=\"70.98039215686275%\" stop-color=\"rgb(248, 116, 92)\" stop-opacity=\"1\"/><stop offset=\"71.37254901960785%\" stop-color=\"rgb(248, 118, 92)\" stop-opacity=\"1\"/><stop offset=\"71.76470588235294%\" stop-color=\"rgb(249, 120, 93)\" stop-opacity=\"1\"/><stop offset=\"72.15686274509804%\" stop-color=\"rgb(249, 121, 93)\" stop-opacity=\"1\"/><stop offset=\"72.54901960784314%\" stop-color=\"rgb(249, 123, 93)\" stop-opacity=\"1\"/><stop offset=\"72.94117647058823%\" stop-color=\"rgb(250, 125, 94)\" stop-opacity=\"1\"/><stop offset=\"73.33333333333333%\" stop-color=\"rgb(250, 127, 94)\" stop-opacity=\"1\"/><stop offset=\"73.72549019607844%\" stop-color=\"rgb(250, 129, 95)\" stop-opacity=\"1\"/><stop offset=\"74.11764705882354%\" stop-color=\"rgb(251, 131, 95)\" stop-opacity=\"1\"/><stop offset=\"74.50980392156863%\" stop-color=\"rgb(251, 133, 96)\" stop-opacity=\"1\"/><stop offset=\"74.90196078431373%\" stop-color=\"rgb(251, 135, 97)\" stop-opacity=\"1\"/><stop offset=\"75.29411764705883%\" stop-color=\"rgb(252, 137, 97)\" stop-opacity=\"1\"/><stop offset=\"75.68627450980392%\" stop-color=\"rgb(252, 138, 98)\" stop-opacity=\"1\"/><stop offset=\"76.07843137254902%\" stop-color=\"rgb(252, 140, 99)\" stop-opacity=\"1\"/><stop offset=\"76.47058823529412%\" stop-color=\"rgb(252, 142, 100)\" stop-opacity=\"1\"/><stop offset=\"76.86274509803923%\" stop-color=\"rgb(252, 144, 101)\" stop-opacity=\"1\"/><stop offset=\"77.25490196078432%\" stop-color=\"rgb(253, 146, 102)\" stop-opacity=\"1\"/><stop offset=\"77.64705882352942%\" stop-color=\"rgb(253, 148, 103)\" stop-opacity=\"1\"/><stop offset=\"78.03921568627452%\" stop-color=\"rgb(253, 150, 104)\" stop-opacity=\"1\"/><stop offset=\"78.43137254901961%\" stop-color=\"rgb(253, 152, 105)\" stop-opacity=\"1\"/><stop offset=\"78.82352941176471%\" stop-color=\"rgb(253, 154, 106)\" stop-opacity=\"1\"/><stop offset=\"79.2156862745098%\" stop-color=\"rgb(253, 155, 107)\" stop-opacity=\"1\"/><stop offset=\"79.6078431372549%\" stop-color=\"rgb(254, 157, 108)\" stop-opacity=\"1\"/><stop offset=\"80%\" stop-color=\"rgb(254, 159, 109)\" stop-opacity=\"1\"/><stop offset=\"80.3921568627451%\" stop-color=\"rgb(254, 161, 110)\" stop-opacity=\"1\"/><stop offset=\"80.7843137254902%\" stop-color=\"rgb(254, 163, 111)\" stop-opacity=\"1\"/><stop offset=\"81.17647058823529%\" stop-color=\"rgb(254, 165, 113)\" stop-opacity=\"1\"/><stop offset=\"81.56862745098039%\" stop-color=\"rgb(254, 167, 114)\" stop-opacity=\"1\"/><stop offset=\"81.96078431372548%\" stop-color=\"rgb(254, 169, 115)\" stop-opacity=\"1\"/><stop offset=\"82.35294117647058%\" stop-color=\"rgb(254, 170, 116)\" stop-opacity=\"1\"/><stop offset=\"82.74509803921568%\" stop-color=\"rgb(254, 172, 118)\" stop-opacity=\"1\"/><stop offset=\"83.13725490196079%\" stop-color=\"rgb(254, 174, 119)\" stop-opacity=\"1\"/><stop offset=\"83.52941176470588%\" stop-color=\"rgb(254, 176, 120)\" stop-opacity=\"1\"/><stop offset=\"83.92156862745098%\" stop-color=\"rgb(254, 178, 122)\" stop-opacity=\"1\"/><stop offset=\"84.31372549019608%\" stop-color=\"rgb(254, 180, 123)\" stop-opacity=\"1\"/><stop offset=\"84.70588235294117%\" stop-color=\"rgb(254, 182, 124)\" stop-opacity=\"1\"/><stop offset=\"85.09803921568627%\" stop-color=\"rgb(254, 183, 126)\" stop-opacity=\"1\"/><stop offset=\"85.49019607843137%\" stop-color=\"rgb(254, 185, 127)\" stop-opacity=\"1\"/><stop offset=\"85.88235294117646%\" stop-color=\"rgb(254, 187, 129)\" stop-opacity=\"1\"/><stop offset=\"86.27450980392157%\" stop-color=\"rgb(254, 189, 130)\" stop-opacity=\"1\"/><stop offset=\"86.66666666666667%\" stop-color=\"rgb(254, 191, 132)\" stop-opacity=\"1\"/><stop offset=\"87.05882352941177%\" stop-color=\"rgb(254, 193, 133)\" stop-opacity=\"1\"/><stop offset=\"87.45098039215686%\" stop-color=\"rgb(254, 194, 135)\" stop-opacity=\"1\"/><stop offset=\"87.84313725490196%\" stop-color=\"rgb(254, 196, 136)\" stop-opacity=\"1\"/><stop offset=\"88.23529411764706%\" stop-color=\"rgb(254, 198, 138)\" stop-opacity=\"1\"/><stop offset=\"88.62745098039215%\" stop-color=\"rgb(254, 200, 140)\" stop-opacity=\"1\"/><stop offset=\"89.01960784313725%\" stop-color=\"rgb(254, 202, 141)\" stop-opacity=\"1\"/><stop offset=\"89.41176470588236%\" stop-color=\"rgb(254, 204, 143)\" stop-opacity=\"1\"/><stop offset=\"89.80392156862746%\" stop-color=\"rgb(254, 205, 144)\" stop-opacity=\"1\"/><stop offset=\"90.19607843137256%\" stop-color=\"rgb(254, 207, 146)\" stop-opacity=\"1\"/><stop offset=\"90.58823529411765%\" stop-color=\"rgb(254, 209, 148)\" stop-opacity=\"1\"/><stop offset=\"90.98039215686275%\" stop-color=\"rgb(254, 211, 149)\" stop-opacity=\"1\"/><stop offset=\"91.37254901960785%\" stop-color=\"rgb(254, 213, 151)\" stop-opacity=\"1\"/><stop offset=\"91.76470588235294%\" stop-color=\"rgb(254, 215, 153)\" stop-opacity=\"1\"/><stop offset=\"92.15686274509804%\" stop-color=\"rgb(254, 216, 154)\" stop-opacity=\"1\"/><stop offset=\"92.54901960784314%\" stop-color=\"rgb(253, 218, 156)\" stop-opacity=\"1\"/><stop offset=\"92.94117647058823%\" stop-color=\"rgb(253, 220, 158)\" stop-opacity=\"1\"/><stop offset=\"93.33333333333333%\" stop-color=\"rgb(253, 222, 160)\" stop-opacity=\"1\"/><stop offset=\"93.72549019607843%\" stop-color=\"rgb(253, 224, 161)\" stop-opacity=\"1\"/><stop offset=\"94.11764705882352%\" stop-color=\"rgb(253, 226, 163)\" stop-opacity=\"1\"/><stop offset=\"94.50980392156862%\" stop-color=\"rgb(253, 227, 165)\" stop-opacity=\"1\"/><stop offset=\"94.90196078431372%\" stop-color=\"rgb(253, 229, 167)\" stop-opacity=\"1\"/><stop offset=\"95.29411764705881%\" stop-color=\"rgb(253, 231, 169)\" stop-opacity=\"1\"/><stop offset=\"95.68627450980392%\" stop-color=\"rgb(253, 233, 170)\" stop-opacity=\"1\"/><stop offset=\"96.07843137254902%\" stop-color=\"rgb(253, 235, 172)\" stop-opacity=\"1\"/><stop offset=\"96.47058823529412%\" stop-color=\"rgb(252, 236, 174)\" stop-opacity=\"1\"/><stop offset=\"96.86274509803921%\" stop-color=\"rgb(252, 238, 176)\" stop-opacity=\"1\"/><stop offset=\"97.25490196078431%\" stop-color=\"rgb(252, 240, 178)\" stop-opacity=\"1\"/><stop offset=\"97.6470588235294%\" stop-color=\"rgb(252, 242, 180)\" stop-opacity=\"1\"/><stop offset=\"98.0392156862745%\" stop-color=\"rgb(252, 244, 182)\" stop-opacity=\"1\"/><stop offset=\"98.4313725490196%\" stop-color=\"rgb(252, 246, 184)\" stop-opacity=\"1\"/><stop offset=\"98.82352941176471%\" stop-color=\"rgb(252, 247, 185)\" stop-opacity=\"1\"/><stop offset=\"99.2156862745098%\" stop-color=\"rgb(252, 249, 187)\" stop-opacity=\"1\"/><stop offset=\"99.6078431372549%\" stop-color=\"rgb(252, 251, 189)\" stop-opacity=\"1\"/><stop offset=\"100%\" stop-color=\"rgb(252, 253, 191)\" stop-opacity=\"1\"/></linearGradient></g></defs><g class=\"bglayer\"/><g class=\"layer-below\"><g class=\"imagelayer\"/><g class=\"shapelayer\"/></g><g class=\"cartesianlayer\"><g class=\"subplot xy\"><g class=\"layer-subplot\"><g class=\"shapelayer\"/><g class=\"imagelayer\"/></g><g class=\"gridlayer\"><g class=\"x\"><path class=\"xgrid crisp\" transform=\"translate(271.75,0)\" d=\"M0,60v290\" style=\"stroke: rgb(238, 238, 238); stroke-opacity: 1; stroke-width: 1px;\"/><path class=\"xgrid crisp\" transform=\"translate(344.25,0)\" d=\"M0,60v290\" style=\"stroke: rgb(238, 238, 238); stroke-opacity: 1; stroke-width: 1px;\"/><path class=\"xgrid crisp\" transform=\"translate(416.75,0)\" d=\"M0,60v290\" style=\"stroke: rgb(238, 238, 238); stroke-opacity: 1; stroke-width: 1px;\"/><path class=\"xgrid crisp\" transform=\"translate(489.25,0)\" d=\"M0,60v290\" style=\"stroke: rgb(238, 238, 238); stroke-opacity: 1; stroke-width: 1px;\"/></g><g class=\"y\"><path class=\"ygrid crisp\" transform=\"translate(0,313.75)\" d=\"M150,0h461\" style=\"stroke: rgb(238, 238, 238); stroke-opacity: 1; stroke-width: 1px;\"/><path class=\"ygrid crisp\" transform=\"translate(0,241.25)\" d=\"M150,0h461\" style=\"stroke: rgb(238, 238, 238); stroke-opacity: 1; stroke-width: 1px;\"/><path class=\"ygrid crisp\" transform=\"translate(0,168.75)\" d=\"M150,0h461\" style=\"stroke: rgb(238, 238, 238); stroke-opacity: 1; stroke-width: 1px;\"/><path class=\"ygrid crisp\" transform=\"translate(0,96.25)\" d=\"M150,0h461\" style=\"stroke: rgb(238, 238, 238); stroke-opacity: 1; stroke-width: 1px;\"/></g></g><g class=\"zerolinelayer\"/><path class=\"xlines-below\"/><path class=\"ylines-below\"/><g class=\"overlines-below\"/><g class=\"xaxislayer-below\"/><g class=\"yaxislayer-below\"/><g class=\"overaxes-below\"/><g class=\"plot\" transform=\"translate(150,60)\" clip-path=\"url('#clipf7f220xyplot')\"><g class=\"heatmaplayer mlayer\"><g class=\"hm\"><image xmlns=\"http://www.w3.org/2000/svg\" preserveAspectRatio=\"none\" height=\"290\" width=\"290\" x=\"85.5\" y=\"0\" xlink:href=\"data:image/png;base64,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\" style=\"opacity: 1;\"/></g></g><g class=\"scatterlayer mlayer\"><g class=\"trace scatter trace03c7cf\" style=\"stroke-miterlimit: 2; opacity: 1;\"><g class=\"fills\"/><g class=\"errorbars\"/><g class=\"lines\"/><g class=\"points\"><path class=\"point\" transform=\"translate(266.75,253.75)\" d=\"M3,0A3,3 0 1,1 0,-3A3,3 0 0,1 3,0Z\" style=\"opacity: 1; stroke-width: 0px; fill: rgb(255, 0, 0); fill-opacity: 1;\"/><path class=\"point\" transform=\"translate(339.25,253.75)\" d=\"M3,0A3,3 0 1,1 0,-3A3,3 0 0,1 3,0Z\" style=\"opacity: 1; stroke-width: 0px; fill: rgb(255, 0, 0); fill-opacity: 1;\"/><path class=\"point\" transform=\"translate(194.25,253.75)\" d=\"M3,0A3,3 0 1,1 0,-3A3,3 0 0,1 3,0Z\" style=\"opacity: 1; stroke-width: 0px; fill: rgb(255, 0, 0); fill-opacity: 1;\"/></g><g class=\"text\"/></g></g></g><g class=\"overplot\"/><path class=\"xlines-above crisp\" d=\"\" style=\"fill: none; stroke-width: 1px; stroke: rgb(0, 0, 0); stroke-opacity: 0;\"/><path class=\"ylines-above crisp\" d=\"\" style=\"fill: none; stroke-width: 1px; stroke: rgb(0, 0, 0); stroke-opacity: 0;\"/><g class=\"overlines-above\"/><g class=\"xaxislayer-above\"><path class=\"xtick ticks crisp\" d=\"M0,351v5\" transform=\"translate(271.75,0)\" style=\"stroke: rgb(68, 68, 68); stroke-opacity: 1; stroke-width: 1px;\"/><path class=\"xtick ticks crisp\" d=\"M0,351v5\" transform=\"translate(344.25,0)\" style=\"stroke: rgb(68, 68, 68); stroke-opacity: 1; stroke-width: 1px;\"/><path class=\"xtick ticks crisp\" d=\"M0,351v5\" transform=\"translate(416.75,0)\" style=\"stroke: rgb(68, 68, 68); stroke-opacity: 1; stroke-width: 1px;\"/><path class=\"xtick ticks crisp\" d=\"M0,351v5\" transform=\"translate(489.25,0)\" style=\"stroke: rgb(68, 68, 68); stroke-opacity: 1; stroke-width: 1px;\"/><g class=\"xtick\"><text text-anchor=\"end\" x=\"-2.0999999999999996\" y=\"366.79999999999995\" transform=\"translate(271.75,0) rotate(-90,-2.0999999999999996,360.79999999999995)\" style=\"font-family: 'Open Sans', verdana, arial, sans-serif; font-size: 12px; fill: rgb(68, 68, 68); fill-opacity: 1; white-space: pre;\">japonicum</text></g><g class=\"xtick\"><text text-anchor=\"end\" x=\"-2.0999999999999996\" y=\"366.79999999999995\" transform=\"translate(344.25,0) rotate(-90,-2.0999999999999996,360.79999999999995)\" style=\"font-family: 'Open Sans', verdana, arial, sans-serif; font-size: 12px; fill: rgb(68, 68, 68); fill-opacity: 1; white-space: pre;\">diazoefficiens</text></g><g class=\"xtick\"><text text-anchor=\"end\" x=\"-2.0999999999999996\" y=\"366.79999999999995\" transform=\"translate(416.75,0) rotate(-90,-2.0999999999999996,360.79999999999995)\" style=\"font-family: 'Open Sans', verdana, arial, sans-serif; font-size: 12px; fill: rgb(68, 68, 68); fill-opacity: 1; white-space: pre;\">yuanmingense</text></g><g class=\"xtick\"><text text-anchor=\"end\" x=\"-2.0999999999999996\" y=\"366.79999999999995\" transform=\"translate(489.25,0) rotate(-90,-2.0999999999999996,360.79999999999995)\" style=\"font-family: 'Open Sans', verdana, arial, sans-serif; font-size: 12px; fill: rgb(68, 68, 68); fill-opacity: 1; white-space: pre;\">liaoningense</text></g></g><g class=\"yaxislayer-above\"><path class=\"ytick ticks crisp\" d=\"M149,0h-5\" transform=\"translate(0,313.75)\" style=\"stroke: rgb(68, 68, 68); stroke-opacity: 1; stroke-width: 1px;\"/><path class=\"ytick ticks crisp\" d=\"M149,0h-5\" transform=\"translate(0,241.25)\" style=\"stroke: rgb(68, 68, 68); stroke-opacity: 1; stroke-width: 1px;\"/><path class=\"ytick ticks crisp\" d=\"M149,0h-5\" transform=\"translate(0,168.75)\" style=\"stroke: rgb(68, 68, 68); stroke-opacity: 1; stroke-width: 1px;\"/><path class=\"ytick ticks crisp\" d=\"M149,0h-5\" transform=\"translate(0,96.25)\" style=\"stroke: rgb(68, 68, 68); stroke-opacity: 1; stroke-width: 1px;\"/><g class=\"ytick\"><text text-anchor=\"end\" x=\"141.6\" y=\"4.199999999999999\" transform=\"translate(0,313.75)\" style=\"font-family: 'Open Sans', verdana, arial, sans-serif; font-size: 12px; fill: rgb(68, 68, 68); fill-opacity: 1; white-space: pre;\">japonicum</text></g><g class=\"ytick\"><text text-anchor=\"end\" x=\"141.6\" y=\"4.199999999999999\" transform=\"translate(0,241.25)\" style=\"font-family: 'Open Sans', verdana, arial, sans-serif; font-size: 12px; fill: rgb(68, 68, 68); fill-opacity: 1; white-space: pre;\">diazoefficiens</text></g><g class=\"ytick\"><text text-anchor=\"end\" x=\"141.6\" y=\"4.199999999999999\" transform=\"translate(0,168.75)\" style=\"font-family: 'Open Sans', verdana, arial, sans-serif; font-size: 12px; fill: rgb(68, 68, 68); fill-opacity: 1; white-space: pre;\">yuanmingense</text></g><g class=\"ytick\"><text text-anchor=\"end\" x=\"141.6\" y=\"4.199999999999999\" transform=\"translate(0,96.25)\" style=\"font-family: 'Open Sans', verdana, arial, sans-serif; font-size: 12px; fill: rgb(68, 68, 68); fill-opacity: 1; white-space: pre;\">liaoningense</text></g></g><g class=\"overaxes-above\"/></g></g><g class=\"polarlayer\"/><g class=\"ternarylayer\"/><g class=\"geolayer\"/><g class=\"funnelarealayer\"/><g class=\"pielayer\"/><g class=\"treemaplayer\"/><g class=\"sunburstlayer\"/><g class=\"glimages\"/><defs id=\"topdefs-f7f220\"><g class=\"clips\"/></defs><g class=\"layer-above\"><g class=\"imagelayer\"/><g class=\"shapelayer\"/></g><g class=\"infolayer\"><g class=\"cb3952ee colorbar\" transform=\"translate(150,60)\"><rect class=\"cbbg\" x=\"469.5\" y=\"-0.5\" width=\"68.03125\" height=\"291\" style=\"fill: rgb(0, 0, 0); fill-opacity: 0; stroke: rgb(68, 68, 68); stroke-opacity: 1; stroke-width: 0;\"/><g class=\"cbfills\" transform=\"translate(0,10)\"><rect class=\"cbfill\" x=\"480\" width=\"30\" y=\"0\" height=\"270\" style=\"fill: url('#gf7f220-cb3952ee');\"/></g><g class=\"cblines\" transform=\"translate(0,10)\"/><g class=\"cbaxis crisp\" transform=\"translate(0,-60)\"><g class=\"ycb3952eetick\"><text text-anchor=\"start\" x=\"513.4\" y=\"4.199999999999999\" transform=\"translate(0,296.15999999999997)\" style=\"font-family: 'Open Sans', verdana, arial, sans-serif; font-size: 12px; fill: rgb(68, 68, 68); fill-opacity: 1; white-space: pre;\">0.2</text></g><g class=\"ycb3952eetick\"><text text-anchor=\"start\" x=\"513.4\" y=\"4.199999999999999\" transform=\"translate(0,234.03999999999996)\" style=\"font-family: 'Open Sans', verdana, arial, sans-serif; font-size: 12px; fill: rgb(68, 68, 68); fill-opacity: 1; white-space: pre;\">0.4</text></g><g class=\"ycb3952eetick\"><text text-anchor=\"start\" x=\"513.4\" y=\"4.199999999999999\" transform=\"translate(0,171.92)\" style=\"font-family: 'Open Sans', verdana, arial, sans-serif; font-size: 12px; fill: rgb(68, 68, 68); fill-opacity: 1; white-space: pre;\">0.6</text></g><g class=\"ycb3952eetick\"><text text-anchor=\"start\" x=\"513.4\" y=\"4.199999999999999\" transform=\"translate(0,109.78999999999999)\" style=\"font-family: 'Open Sans', verdana, arial, sans-serif; font-size: 12px; fill: rgb(68, 68, 68); fill-opacity: 1; white-space: pre;\">0.8</text></g></g><g class=\"cbtitleunshift\" transform=\"translate(-150,-60)\"><g class=\"cbtitle\"/></g><rect class=\"cboutline\" x=\"480\" y=\"10\" width=\"30\" height=\"270\" style=\"stroke: rgb(68, 68, 68); stroke-opacity: 1; fill: none; stroke-width: 1;\"/></g><g class=\"g-gtitle\"/><g class=\"g-xtitle\"/><g class=\"g-ytitle\"/></g></svg>"
      ],
      "text/html": [
       "<div\n",
       "    class=\"webio-mountpoint\"\n",
       "    data-webio-mountpoint=\"7915346591251332596\"\n",
       ">\n",
       "    <script>\n",
       "    if (window.require && require.defined && require.defined(\"nbextensions/webio-jupyter-notebook\")) {\n",
       "        console.log(\"Jupyter WebIO extension detected, not mounting.\");\n",
       "    } else if (window.WebIO) {\n",
       "        WebIO.mount(\n",
       "            document.querySelector('[data-webio-mountpoint=\"7915346591251332596\"]'),\n",
       "            {\"props\":{},\"nodeType\":\"Scope\",\"type\":\"node\",\"instanceArgs\":{\"imports\":{\"data\":[{\"name\":\"Plotly\",\"type\":\"js\",\"url\":\"\\/assetserver\\/e6903599031aaef8675931dfcd7df98a1aeffbfc-plotly-latest.min.js\"},{\"name\":null,\"type\":\"js\",\"url\":\"\\/assetserver\\/74a5dea81f21b0b802ef1ee92f1c8a504eac1a0c-plotly_webio.bundle.js\"}],\"type\":\"async_block\"},\"id\":\"7720743803525222271\",\"handlers\":{\"_toImage\":[\"(function (options){return this.Plotly.toImage(this.plotElem,options).then((function (data){return WebIO.setval({\\\"name\\\":\\\"image\\\",\\\"scope\\\":\\\"7720743803525222271\\\",\\\"id\\\":\\\"1793399000662602737\\\",\\\"type\\\":\\\"observable\\\"},data)}))})\"],\"__get_gd_contents\":[\"(function (prop){prop==\\\"data\\\" ? (WebIO.setval({\\\"name\\\":\\\"__gd_contents\\\",\\\"scope\\\":\\\"7720743803525222271\\\",\\\"id\\\":\\\"3040834166744185990\\\",\\\"type\\\":\\\"observable\\\"},this.plotElem.data)) : undefined; return prop==\\\"layout\\\" ? (WebIO.setval({\\\"name\\\":\\\"__gd_contents\\\",\\\"scope\\\":\\\"7720743803525222271\\\",\\\"id\\\":\\\"3040834166744185990\\\",\\\"type\\\":\\\"observable\\\"},this.plotElem.layout)) : undefined})\"],\"_downloadImage\":[\"(function (options){return this.Plotly.downloadImage(this.plotElem,options)})\"],\"_commands\":[\"(function (args){var fn=args.shift(); var elem=this.plotElem; var Plotly=this.Plotly; args.unshift(elem); return Plotly[fn].apply(this,args)})\"]},\"systemjs_options\":null,\"mount_callbacks\":[\"function () {\\n    var handler = ((function (Plotly,PlotlyWebIO){PlotlyWebIO.init(WebIO); var gd=this.dom.querySelector(\\\"#plot-d1d60d9a-ebd5-4210-add8-f5c995a27df4\\\"); this.plotElem=gd; this.Plotly=Plotly; (window.Blink!==undefined) ? (gd.style.width=\\\"100%\\\", gd.style.height=\\\"100vh\\\", gd.style.marginLeft=\\\"0%\\\", gd.style.marginTop=\\\"0vh\\\") : undefined; window.onresize=(function (){return Plotly.Plots.resize(gd)}); Plotly.newPlot(gd,[{\\\"y\\\":[\\\"japonicum\\\",\\\"diazoefficiens\\\",\\\"yuanmingense\\\",\\\"liaoningense\\\"],\\\"type\\\":\\\"heatmap\\\",\\\"colorscale\\\":[[0.0,\\\"#000004\\\"],[0.00392156862745098,\\\"#010005\\\"],[0.00784313725490196,\\\"#010106\\\"],[0.011764705882352941,\\\"#010108\\\"],[0.01568627450980392,\\\"#020109\\\"],[0.0196078431372549,\\\"#02020B\\\"],[0.023529411764705882,\\\"#02020D\\\"],[0.027450980392156862,\\\"#03030F\\\"],[0.03137254901960784,\\\"#030312\\\"],[0.03529411764705882,\\\"#040414\\\"],[0.0392156862745098,\\\"#050416\\\"],[0.043137254901960784,\\\"#060518\\\"],[0.047058823529411764,\\\"#06051A\\\"],[0.050980392156862744,\\\"#07061C\\\"],[0.054901960784313725,\\\"#08071E\\\"],[0.058823529411764705,\\\"#090720\\\"],[0.06274509803921569,\\\"#0A0822\\\"],[0.06666666666666667,\\\"#0B0924\\\"],[0.07058823529411765,\\\"#0C0926\\\"],[0.07450980392156863,\\\"#0D0A29\\\"],[0.0784313725490196,\\\"#0E0B2B\\\"],[0.08235294117647059,\\\"#100B2D\\\"],[0.08627450980392157,\\\"#110C2F\\\"],[0.09019607843137255,\\\"#120D31\\\"],[0.09411764705882353,\\\"#130D34\\\"],[0.09803921568627451,\\\"#140E36\\\"],[0.10196078431372549,\\\"#150E38\\\"],[0.10588235294117647,\\\"#160F3B\\\"],[0.10980392156862745,\\\"#180F3D\\\"],[0.11372549019607843,\\\"#19103F\\\"],[0.11764705882352941,\\\"#1A1042\\\"],[0.12156862745098039,\\\"#1C1044\\\"],[0.12549019607843137,\\\"#1D1147\\\"],[0.12941176470588237,\\\"#1E1149\\\"],[0.13333333333333333,\\\"#20114B\\\"],[0.13725490196078433,\\\"#21114E\\\"],[0.1411764705882353,\\\"#221150\\\"],[0.1450980392156863,\\\"#241253\\\"],[0.14901960784313725,\\\"#251255\\\"],[0.15294117647058825,\\\"#271258\\\"],[0.1568627450980392,\\\"#29115A\\\"],[0.1607843137254902,\\\"#2A115C\\\"],[0.16470588235294117,\\\"#2C115F\\\"],[0.16862745098039217,\\\"#2D1161\\\"],[0.17254901960784313,\\\"#2F1163\\\"],[0.17647058823529413,\\\"#311165\\\"],[0.1803921568627451,\\\"#331067\\\"],[0.1843137254901961,\\\"#341069\\\"],[0.18823529411764706,\\\"#36106B\\\"],[0.19215686274509805,\\\"#38106C\\\"],[0.19607843137254902,\\\"#390F6E\\\"],[0.2,\\\"#3B0F70\\\"],[0.20392156862745098,\\\"#3D0F71\\\"],[0.20784313725490197,\\\"#3F0F72\\\"],[0.21176470588235294,\\\"#400F74\\\"],[0.21568627450980393,\\\"#420F75\\\"],[0.2196078431372549,\\\"#440F76\\\"],[0.2235294117647059,\\\"#451077\\\"],[0.22745098039215686,\\\"#471078\\\"],[0.23137254901960785,\\\"#491078\\\"],[0.23529411764705882,\\\"#4A1079\\\"],[0.23921568627450981,\\\"#4C117A\\\"],[0.24313725490196078,\\\"#4E117B\\\"],[0.24705882352941178,\\\"#4F127B\\\"],[0.25098039215686274,\\\"#51127C\\\"],[0.2549019607843137,\\\"#52137C\\\"],[0.25882352941176473,\\\"#54137D\\\"],[0.2627450980392157,\\\"#56147D\\\"],[0.26666666666666666,\\\"#57157E\\\"],[0.27058823529411763,\\\"#59157E\\\"],[0.27450980392156865,\\\"#5A167E\\\"],[0.2784313725490196,\\\"#5C167F\\\"],[0.2823529411764706,\\\"#5D177F\\\"],[0.28627450980392155,\\\"#5F187F\\\"],[0.2901960784313726,\\\"#601880\\\"],[0.29411764705882354,\\\"#621980\\\"],[0.2980392156862745,\\\"#641A80\\\"],[0.30196078431372547,\\\"#651A80\\\"],[0.3058823529411765,\\\"#671B80\\\"],[0.30980392156862746,\\\"#681C81\\\"],[0.3137254901960784,\\\"#6A1C81\\\"],[0.3176470588235294,\\\"#6B1D81\\\"],[0.3215686274509804,\\\"#6D1D81\\\"],[0.3254901960784314,\\\"#6E1E81\\\"],[0.32941176470588235,\\\"#701F81\\\"],[0.3333333333333333,\\\"#721F81\\\"],[0.33725490196078434,\\\"#732081\\\"],[0.3411764705882353,\\\"#752181\\\"],[0.34509803921568627,\\\"#762181\\\"],[0.34901960784313724,\\\"#782281\\\"],[0.35294117647058826,\\\"#792282\\\"],[0.3568627450980392,\\\"#7B2382\\\"],[0.3607843137254902,\\\"#7C2382\\\"],[0.36470588235294116,\\\"#7E2482\\\"],[0.3686274509803922,\\\"#802582\\\"],[0.37254901960784315,\\\"#812581\\\"],[0.3764705882352941,\\\"#832681\\\"],[0.3803921568627451,\\\"#842681\\\"],[0.3843137254901961,\\\"#862781\\\"],[0.38823529411764707,\\\"#882781\\\"],[0.39215686274509803,\\\"#892881\\\"],[0.396078431372549,\\\"#8B2981\\\"],[0.4,\\\"#8C2981\\\"],[0.403921568627451,\\\"#8E2A81\\\"],[0.40784313725490196,\\\"#902A81\\\"],[0.4117647058823529,\\\"#912B81\\\"],[0.41568627450980394,\\\"#932B80\\\"],[0.4196078431372549,\\\"#942C80\\\"],[0.4235294117647059,\\\"#962C80\\\"],[0.42745098039215684,\\\"#982D80\\\"],[0.43137254901960786,\\\"#992D80\\\"],[0.43529411764705883,\\\"#9B2E7F\\\"],[0.4392156862745098,\\\"#9C2E7F\\\"],[0.44313725490196076,\\\"#9E2F7F\\\"],[0.4470588235294118,\\\"#A02F7F\\\"],[0.45098039215686275,\\\"#A1307E\\\"],[0.4549019607843137,\\\"#A3307E\\\"],[0.4588235294117647,\\\"#A5317E\\\"],[0.4627450980392157,\\\"#A6317D\\\"],[0.4666666666666667,\\\"#A8327D\\\"],[0.47058823529411764,\\\"#AA337D\\\"],[0.4745098039215686,\\\"#AB337C\\\"],[0.47843137254901963,\\\"#AD347C\\\"],[0.4823529411764706,\\\"#AE347B\\\"],[0.48627450980392156,\\\"#B0357B\\\"],[0.49019607843137253,\\\"#B2357B\\\"],[0.49411764705882355,\\\"#B3367A\\\"],[0.4980392156862745,\\\"#B5367A\\\"],[0.5019607843137255,\\\"#B73779\\\"],[0.5058823529411764,\\\"#B83779\\\"],[0.5098039215686274,\\\"#BA3878\\\"],[0.5137254901960784,\\\"#BC3978\\\"],[0.5176470588235295,\\\"#BD3977\\\"],[0.5215686274509804,\\\"#BF3A77\\\"],[0.5254901960784314,\\\"#C03A76\\\"],[0.5294117647058824,\\\"#C23B75\\\"],[0.5333333333333333,\\\"#C43C75\\\"],[0.5372549019607843,\\\"#C53C74\\\"],[0.5411764705882353,\\\"#C73D73\\\"],[0.5450980392156862,\\\"#C83E73\\\"],[0.5490196078431373,\\\"#CA3E72\\\"],[0.5529411764705883,\\\"#CC3F71\\\"],[0.5568627450980392,\\\"#CD4071\\\"],[0.5607843137254902,\\\"#CF4070\\\"],[0.5647058823529412,\\\"#D0416F\\\"],[0.5686274509803921,\\\"#D2426F\\\"],[0.5725490196078431,\\\"#D3436E\\\"],[0.5764705882352941,\\\"#D5446D\\\"],[0.5803921568627451,\\\"#D6456C\\\"],[0.5843137254901961,\\\"#D8456C\\\"],[0.5882352941176471,\\\"#D9466B\\\"],[0.592156862745098,\\\"#DB476A\\\"],[0.596078431372549,\\\"#DC4869\\\"],[0.6,\\\"#DE4968\\\"],[0.6039215686274509,\\\"#DF4A68\\\"],[0.6078431372549019,\\\"#E04C67\\\"],[0.611764705882353,\\\"#E24D66\\\"],[0.615686274509804,\\\"#E34E65\\\"],[0.6196078431372549,\\\"#E44F64\\\"],[0.6235294117647059,\\\"#E55064\\\"],[0.6274509803921569,\\\"#E75263\\\"],[0.6313725490196078,\\\"#E85362\\\"],[0.6352941176470588,\\\"#E95462\\\"],[0.6392156862745098,\\\"#EA5661\\\"],[0.6431372549019608,\\\"#EB5760\\\"],[0.6470588235294118,\\\"#EC5860\\\"],[0.6509803921568628,\\\"#ED5A5F\\\"],[0.6549019607843137,\\\"#EE5B5E\\\"],[0.6588235294117647,\\\"#EF5D5E\\\"],[0.6627450980392157,\\\"#F05F5E\\\"],[0.6666666666666666,\\\"#F1605D\\\"],[0.6705882352941176,\\\"#F2625D\\\"],[0.6745098039215687,\\\"#F2645C\\\"],[0.6784313725490196,\\\"#F3655C\\\"],[0.6823529411764706,\\\"#F4675C\\\"],[0.6862745098039216,\\\"#F4695C\\\"],[0.6901960784313725,\\\"#F56B5C\\\"],[0.6941176470588235,\\\"#F66C5C\\\"],[0.6980392156862745,\\\"#F66E5C\\\"],[0.7019607843137254,\\\"#F7705C\\\"],[0.7058823529411765,\\\"#F7725C\\\"],[0.7098039215686275,\\\"#F8745C\\\"],[0.7137254901960784,\\\"#F8765C\\\"],[0.7176470588235294,\\\"#F9785D\\\"],[0.7215686274509804,\\\"#F9795D\\\"],[0.7254901960784313,\\\"#F97B5D\\\"],[0.7294117647058823,\\\"#FA7D5E\\\"],[0.7333333333333333,\\\"#FA7F5E\\\"],[0.7372549019607844,\\\"#FA815F\\\"],[0.7411764705882353,\\\"#FB835F\\\"],[0.7450980392156863,\\\"#FB8560\\\"],[0.7490196078431373,\\\"#FB8761\\\"],[0.7529411764705882,\\\"#FC8961\\\"],[0.7568627450980392,\\\"#FC8A62\\\"],[0.7607843137254902,\\\"#FC8C63\\\"],[0.7647058823529411,\\\"#FC8E64\\\"],[0.7686274509803922,\\\"#FC9065\\\"],[0.7725490196078432,\\\"#FD9266\\\"],[0.7764705882352941,\\\"#FD9467\\\"],[0.7803921568627451,\\\"#FD9668\\\"],[0.7843137254901961,\\\"#FD9869\\\"],[0.788235294117647,\\\"#FD9A6A\\\"],[0.792156862745098,\\\"#FD9B6B\\\"],[0.796078431372549,\\\"#FE9D6C\\\"],[0.8,\\\"#FE9F6D\\\"],[0.803921568627451,\\\"#FEA16E\\\"],[0.807843137254902,\\\"#FEA36F\\\"],[0.8117647058823529,\\\"#FEA571\\\"],[0.8156862745098039,\\\"#FEA772\\\"],[0.8196078431372549,\\\"#FEA973\\\"],[0.8235294117647058,\\\"#FEAA74\\\"],[0.8274509803921568,\\\"#FEAC76\\\"],[0.8313725490196079,\\\"#FEAE77\\\"],[0.8352941176470589,\\\"#FEB078\\\"],[0.8392156862745098,\\\"#FEB27A\\\"],[0.8431372549019608,\\\"#FEB47B\\\"],[0.8470588235294118,\\\"#FEB67C\\\"],[0.8509803921568627,\\\"#FEB77E\\\"],[0.8549019607843137,\\\"#FEB97F\\\"],[0.8588235294117647,\\\"#FEBB81\\\"],[0.8627450980392157,\\\"#FEBD82\\\"],[0.8666666666666667,\\\"#FEBF84\\\"],[0.8705882352941177,\\\"#FEC185\\\"],[0.8745098039215686,\\\"#FEC287\\\"],[0.8784313725490196,\\\"#FEC488\\\"],[0.8823529411764706,\\\"#FEC68A\\\"],[0.8862745098039215,\\\"#FEC88C\\\"],[0.8901960784313725,\\\"#FECA8D\\\"],[0.8941176470588236,\\\"#FECC8F\\\"],[0.8980392156862745,\\\"#FECD90\\\"],[0.9019607843137255,\\\"#FECF92\\\"],[0.9058823529411765,\\\"#FED194\\\"],[0.9098039215686274,\\\"#FED395\\\"],[0.9137254901960784,\\\"#FED597\\\"],[0.9176470588235294,\\\"#FED799\\\"],[0.9215686274509803,\\\"#FED89A\\\"],[0.9254901960784314,\\\"#FDDA9C\\\"],[0.9294117647058824,\\\"#FDDC9E\\\"],[0.9333333333333333,\\\"#FDDEA0\\\"],[0.9372549019607843,\\\"#FDE0A1\\\"],[0.9411764705882353,\\\"#FDE2A3\\\"],[0.9450980392156862,\\\"#FDE3A5\\\"],[0.9490196078431372,\\\"#FDE5A7\\\"],[0.9529411764705882,\\\"#FDE7A9\\\"],[0.9568627450980393,\\\"#FDE9AA\\\"],[0.9607843137254902,\\\"#FDEBAC\\\"],[0.9647058823529412,\\\"#FCECAE\\\"],[0.9686274509803922,\\\"#FCEEB0\\\"],[0.9725490196078431,\\\"#FCF0B2\\\"],[0.9764705882352941,\\\"#FCF2B4\\\"],[0.9803921568627451,\\\"#FCF4B6\\\"],[0.984313725490196,\\\"#FCF6B8\\\"],[0.9882352941176471,\\\"#FCF7B9\\\"],[0.9921568627450981,\\\"#FCF9BB\\\"],[0.996078431372549,\\\"#FCFBBD\\\"],[1.0,\\\"#FCFDBF\\\"]],\\\"z\\\":[[0.9281178,0.83896655,0.89772767,0.8866347],[0.83896655,0.43634656,0.89116824,0.877193],[0.89772767,0.89116824,0.59194356,0.8787025],[0.8866347,0.877193,0.8787025,0.05886056]],\\\"x\\\":[\\\"japonicum\\\",\\\"diazoefficiens\\\",\\\"yuanmingense\\\",\\\"liaoningense\\\"]},{\\\"marker\\\":{\\\"color\\\":\\\"red\\\"},\\\"mode\\\":\\\"markers\\\",\\\"y\\\":[\\\"japonicum\\\",\\\"japonicum\\\",\\\"japonicum\\\"],\\\"type\\\":\\\"scatter\\\",\\\"hoverinfo\\\":\\\"skip\\\",\\\"x\\\":[\\\"yuanmingense\\\",\\\"liaoningense\\\",\\\"diazoefficiens\\\"]}],{\\\"xaxis\\\":{\\\"tickangle\\\":-90,\\\"scaleanchor\\\":\\\"y\\\"},\\\"height\\\":700,\\\"margin\\\":{\\\"l\\\":150,\\\"b\\\":150,\\\"r\\\":50,\\\"t\\\":60},\\\"width\\\":800},{}); gd.on(\\\"plotly_hover\\\",(function (data){var filtered_data=WebIO.PlotlyCommands.filterEventData(gd,data,\\\"hover\\\"); return !(filtered_data.isnil) ? (WebIO.setval({\\\"name\\\":\\\"hover\\\",\\\"scope\\\":\\\"7720743803525222271\\\",\\\"id\\\":\\\"306468205264875209\\\",\\\"type\\\":\\\"observable\\\"},filtered_data.out)) : undefined})); gd.on(\\\"plotly_unhover\\\",(function (){return WebIO.setval({\\\"name\\\":\\\"hover\\\",\\\"scope\\\":\\\"7720743803525222271\\\",\\\"id\\\":\\\"306468205264875209\\\",\\\"type\\\":\\\"observable\\\"},{})})); gd.on(\\\"plotly_selected\\\",(function (data){var filtered_data=WebIO.PlotlyCommands.filterEventData(gd,data,\\\"selected\\\"); return !(filtered_data.isnil) ? (WebIO.setval({\\\"name\\\":\\\"selected\\\",\\\"scope\\\":\\\"7720743803525222271\\\",\\\"id\\\":\\\"1862084484911922288\\\",\\\"type\\\":\\\"observable\\\"},filtered_data.out)) : undefined})); gd.on(\\\"plotly_deselect\\\",(function (){return WebIO.setval({\\\"name\\\":\\\"selected\\\",\\\"scope\\\":\\\"7720743803525222271\\\",\\\"id\\\":\\\"1862084484911922288\\\",\\\"type\\\":\\\"observable\\\"},{})})); gd.on(\\\"plotly_relayout\\\",(function (data){var filtered_data=WebIO.PlotlyCommands.filterEventData(gd,data,\\\"relayout\\\"); return !(filtered_data.isnil) ? (WebIO.setval({\\\"name\\\":\\\"relayout\\\",\\\"scope\\\":\\\"7720743803525222271\\\",\\\"id\\\":\\\"4918959888690407135\\\",\\\"type\\\":\\\"observable\\\"},filtered_data.out)) : undefined})); return gd.on(\\\"plotly_click\\\",(function (data){var filtered_data=WebIO.PlotlyCommands.filterEventData(gd,data,\\\"click\\\"); return !(filtered_data.isnil) ? (WebIO.setval({\\\"name\\\":\\\"click\\\",\\\"scope\\\":\\\"7720743803525222271\\\",\\\"id\\\":\\\"7557713747050421245\\\",\\\"type\\\":\\\"observable\\\"},filtered_data.out)) : undefined}))}));\\n    (WebIO.importBlock({\\\"data\\\":[{\\\"name\\\":\\\"Plotly\\\",\\\"type\\\":\\\"js\\\",\\\"url\\\":\\\"\\/assetserver\\/e6903599031aaef8675931dfcd7df98a1aeffbfc-plotly-latest.min.js\\\"},{\\\"name\\\":null,\\\"type\\\":\\\"js\\\",\\\"url\\\":\\\"\\/assetserver\\/74a5dea81f21b0b802ef1ee92f1c8a504eac1a0c-plotly_webio.bundle.js\\\"}],\\\"type\\\":\\\"async_block\\\"})).then((imports) => handler.apply(this, imports));\\n}\\n\"],\"observables\":{\"_toImage\":{\"sync\":false,\"id\":\"5473888780486731941\",\"value\":{}},\"hover\":{\"sync\":false,\"id\":\"306468205264875209\",\"value\":{}},\"selected\":{\"sync\":false,\"id\":\"1862084484911922288\",\"value\":{}},\"__gd_contents\":{\"sync\":false,\"id\":\"3040834166744185990\",\"value\":{}},\"click\":{\"sync\":false,\"id\":\"7557713747050421245\",\"value\":{}},\"image\":{\"sync\":true,\"id\":\"1793399000662602737\",\"value\":\"\"},\"__get_gd_contents\":{\"sync\":false,\"id\":\"4117513729543946457\",\"value\":\"\"},\"_downloadImage\":{\"sync\":false,\"id\":\"11609791461703720257\",\"value\":{}},\"relayout\":{\"sync\":false,\"id\":\"4918959888690407135\",\"value\":{}},\"_commands\":{\"sync\":false,\"id\":\"10649920335649066753\",\"value\":[]}}},\"children\":[{\"props\":{\"id\":\"plot-d1d60d9a-ebd5-4210-add8-f5c995a27df4\"},\"nodeType\":\"DOM\",\"type\":\"node\",\"instanceArgs\":{\"namespace\":\"html\",\"tag\":\"div\"},\"children\":[]}]},\n",
       "            window,\n",
       "        );\n",
       "    } else {\n",
       "        document\n",
       "            .querySelector('[data-webio-mountpoint=\"7915346591251332596\"]')\n",
       "            .innerHTML = (\n",
       "                '<div style=\"padding: 1em; background-color: #f8d6da; border: 1px solid #f5c6cb\">' +\n",
       "                '<p><strong>WebIO not detected.</strong></p>' +\n",
       "                '<p>Please read ' +\n",
       "                '<a href=\"https://juliagizmos.github.io/WebIO.jl/latest/troubleshooting/not-detected/\" target=\"_blank\">the troubleshooting guide</a> ' +\n",
       "                'for more information on how to resolve this issue.</p>' +\n",
       "                '<p><a href=\"https://juliagizmos.github.io/WebIO.jl/latest/troubleshooting/not-detected/\" target=\"_blank\">https://juliagizmos.github.io/WebIO.jl/latest/troubleshooting/not-detected/</a></p>' +\n",
       "                '</div>'\n",
       "            );\n",
       "    }\n",
       "    </script>\n",
       "</div>\n"
      ],
      "text/plain": [
       "data: [\n",
       "  \"heatmap with fields colorscale, type, x, y, and z\",\n",
       "  \"scatter with fields hoverinfo, marker, mode, type, x, and y\"\n",
       "]\n",
       "\n",
       "layout: \"layout with fields height, margin, width, and xaxis\"\n",
       "\n"
      ]
     },
     "metadata": {},
     "output_type": "display_data"
    }
   ],
   "source": [
    "include(\"fix-component-base.jl\");"
   ]
  },
  {
   "cell_type": "code",
   "execution_count": 3,
   "id": "specific-bryan",
   "metadata": {},
   "outputs": [],
   "source": [
    "trees = Dict{String, Any}();"
   ]
  },
  {
   "cell_type": "markdown",
   "id": "directed-wayne",
   "metadata": {},
   "source": [
    "## Edits"
   ]
  },
  {
   "cell_type": "markdown",
   "id": "presidential-majority",
   "metadata": {},
   "source": [
    "### japonicum"
   ]
  },
  {
   "cell_type": "code",
   "execution_count": 4,
   "id": "caroline-bidding",
   "metadata": {},
   "outputs": [
    {
     "data": {
      "application/vnd.plotly.v1+json": {
       "data": [
        {
         "colorscale": [
          [
           0,
           "#000004"
          ],
          [
           0.00392156862745098,
           "#010005"
          ],
          [
           0.00784313725490196,
           "#010106"
          ],
          [
           0.011764705882352941,
           "#010108"
          ],
          [
           0.01568627450980392,
           "#020109"
          ],
          [
           0.0196078431372549,
           "#02020B"
          ],
          [
           0.023529411764705882,
           "#02020D"
          ],
          [
           0.027450980392156862,
           "#03030F"
          ],
          [
           0.03137254901960784,
           "#030312"
          ],
          [
           0.03529411764705882,
           "#040414"
          ],
          [
           0.0392156862745098,
           "#050416"
          ],
          [
           0.043137254901960784,
           "#060518"
          ],
          [
           0.047058823529411764,
           "#06051A"
          ],
          [
           0.050980392156862744,
           "#07061C"
          ],
          [
           0.054901960784313725,
           "#08071E"
          ],
          [
           0.058823529411764705,
           "#090720"
          ],
          [
           0.06274509803921569,
           "#0A0822"
          ],
          [
           0.06666666666666667,
           "#0B0924"
          ],
          [
           0.07058823529411765,
           "#0C0926"
          ],
          [
           0.07450980392156863,
           "#0D0A29"
          ],
          [
           0.0784313725490196,
           "#0E0B2B"
          ],
          [
           0.08235294117647059,
           "#100B2D"
          ],
          [
           0.08627450980392157,
           "#110C2F"
          ],
          [
           0.09019607843137255,
           "#120D31"
          ],
          [
           0.09411764705882353,
           "#130D34"
          ],
          [
           0.09803921568627451,
           "#140E36"
          ],
          [
           0.10196078431372549,
           "#150E38"
          ],
          [
           0.10588235294117647,
           "#160F3B"
          ],
          [
           0.10980392156862745,
           "#180F3D"
          ],
          [
           0.11372549019607843,
           "#19103F"
          ],
          [
           0.11764705882352941,
           "#1A1042"
          ],
          [
           0.12156862745098039,
           "#1C1044"
          ],
          [
           0.12549019607843137,
           "#1D1147"
          ],
          [
           0.12941176470588237,
           "#1E1149"
          ],
          [
           0.13333333333333333,
           "#20114B"
          ],
          [
           0.13725490196078433,
           "#21114E"
          ],
          [
           0.1411764705882353,
           "#221150"
          ],
          [
           0.1450980392156863,
           "#241253"
          ],
          [
           0.14901960784313725,
           "#251255"
          ],
          [
           0.15294117647058825,
           "#271258"
          ],
          [
           0.1568627450980392,
           "#29115A"
          ],
          [
           0.1607843137254902,
           "#2A115C"
          ],
          [
           0.16470588235294117,
           "#2C115F"
          ],
          [
           0.16862745098039217,
           "#2D1161"
          ],
          [
           0.17254901960784313,
           "#2F1163"
          ],
          [
           0.17647058823529413,
           "#311165"
          ],
          [
           0.1803921568627451,
           "#331067"
          ],
          [
           0.1843137254901961,
           "#341069"
          ],
          [
           0.18823529411764706,
           "#36106B"
          ],
          [
           0.19215686274509805,
           "#38106C"
          ],
          [
           0.19607843137254902,
           "#390F6E"
          ],
          [
           0.2,
           "#3B0F70"
          ],
          [
           0.20392156862745098,
           "#3D0F71"
          ],
          [
           0.20784313725490197,
           "#3F0F72"
          ],
          [
           0.21176470588235294,
           "#400F74"
          ],
          [
           0.21568627450980393,
           "#420F75"
          ],
          [
           0.2196078431372549,
           "#440F76"
          ],
          [
           0.2235294117647059,
           "#451077"
          ],
          [
           0.22745098039215686,
           "#471078"
          ],
          [
           0.23137254901960785,
           "#491078"
          ],
          [
           0.23529411764705882,
           "#4A1079"
          ],
          [
           0.23921568627450981,
           "#4C117A"
          ],
          [
           0.24313725490196078,
           "#4E117B"
          ],
          [
           0.24705882352941178,
           "#4F127B"
          ],
          [
           0.25098039215686274,
           "#51127C"
          ],
          [
           0.2549019607843137,
           "#52137C"
          ],
          [
           0.25882352941176473,
           "#54137D"
          ],
          [
           0.2627450980392157,
           "#56147D"
          ],
          [
           0.26666666666666666,
           "#57157E"
          ],
          [
           0.27058823529411763,
           "#59157E"
          ],
          [
           0.27450980392156865,
           "#5A167E"
          ],
          [
           0.2784313725490196,
           "#5C167F"
          ],
          [
           0.2823529411764706,
           "#5D177F"
          ],
          [
           0.28627450980392155,
           "#5F187F"
          ],
          [
           0.2901960784313726,
           "#601880"
          ],
          [
           0.29411764705882354,
           "#621980"
          ],
          [
           0.2980392156862745,
           "#641A80"
          ],
          [
           0.30196078431372547,
           "#651A80"
          ],
          [
           0.3058823529411765,
           "#671B80"
          ],
          [
           0.30980392156862746,
           "#681C81"
          ],
          [
           0.3137254901960784,
           "#6A1C81"
          ],
          [
           0.3176470588235294,
           "#6B1D81"
          ],
          [
           0.3215686274509804,
           "#6D1D81"
          ],
          [
           0.3254901960784314,
           "#6E1E81"
          ],
          [
           0.32941176470588235,
           "#701F81"
          ],
          [
           0.3333333333333333,
           "#721F81"
          ],
          [
           0.33725490196078434,
           "#732081"
          ],
          [
           0.3411764705882353,
           "#752181"
          ],
          [
           0.34509803921568627,
           "#762181"
          ],
          [
           0.34901960784313724,
           "#782281"
          ],
          [
           0.35294117647058826,
           "#792282"
          ],
          [
           0.3568627450980392,
           "#7B2382"
          ],
          [
           0.3607843137254902,
           "#7C2382"
          ],
          [
           0.36470588235294116,
           "#7E2482"
          ],
          [
           0.3686274509803922,
           "#802582"
          ],
          [
           0.37254901960784315,
           "#812581"
          ],
          [
           0.3764705882352941,
           "#832681"
          ],
          [
           0.3803921568627451,
           "#842681"
          ],
          [
           0.3843137254901961,
           "#862781"
          ],
          [
           0.38823529411764707,
           "#882781"
          ],
          [
           0.39215686274509803,
           "#892881"
          ],
          [
           0.396078431372549,
           "#8B2981"
          ],
          [
           0.4,
           "#8C2981"
          ],
          [
           0.403921568627451,
           "#8E2A81"
          ],
          [
           0.40784313725490196,
           "#902A81"
          ],
          [
           0.4117647058823529,
           "#912B81"
          ],
          [
           0.41568627450980394,
           "#932B80"
          ],
          [
           0.4196078431372549,
           "#942C80"
          ],
          [
           0.4235294117647059,
           "#962C80"
          ],
          [
           0.42745098039215684,
           "#982D80"
          ],
          [
           0.43137254901960786,
           "#992D80"
          ],
          [
           0.43529411764705883,
           "#9B2E7F"
          ],
          [
           0.4392156862745098,
           "#9C2E7F"
          ],
          [
           0.44313725490196076,
           "#9E2F7F"
          ],
          [
           0.4470588235294118,
           "#A02F7F"
          ],
          [
           0.45098039215686275,
           "#A1307E"
          ],
          [
           0.4549019607843137,
           "#A3307E"
          ],
          [
           0.4588235294117647,
           "#A5317E"
          ],
          [
           0.4627450980392157,
           "#A6317D"
          ],
          [
           0.4666666666666667,
           "#A8327D"
          ],
          [
           0.47058823529411764,
           "#AA337D"
          ],
          [
           0.4745098039215686,
           "#AB337C"
          ],
          [
           0.47843137254901963,
           "#AD347C"
          ],
          [
           0.4823529411764706,
           "#AE347B"
          ],
          [
           0.48627450980392156,
           "#B0357B"
          ],
          [
           0.49019607843137253,
           "#B2357B"
          ],
          [
           0.49411764705882355,
           "#B3367A"
          ],
          [
           0.4980392156862745,
           "#B5367A"
          ],
          [
           0.5019607843137255,
           "#B73779"
          ],
          [
           0.5058823529411764,
           "#B83779"
          ],
          [
           0.5098039215686274,
           "#BA3878"
          ],
          [
           0.5137254901960784,
           "#BC3978"
          ],
          [
           0.5176470588235295,
           "#BD3977"
          ],
          [
           0.5215686274509804,
           "#BF3A77"
          ],
          [
           0.5254901960784314,
           "#C03A76"
          ],
          [
           0.5294117647058824,
           "#C23B75"
          ],
          [
           0.5333333333333333,
           "#C43C75"
          ],
          [
           0.5372549019607843,
           "#C53C74"
          ],
          [
           0.5411764705882353,
           "#C73D73"
          ],
          [
           0.5450980392156862,
           "#C83E73"
          ],
          [
           0.5490196078431373,
           "#CA3E72"
          ],
          [
           0.5529411764705883,
           "#CC3F71"
          ],
          [
           0.5568627450980392,
           "#CD4071"
          ],
          [
           0.5607843137254902,
           "#CF4070"
          ],
          [
           0.5647058823529412,
           "#D0416F"
          ],
          [
           0.5686274509803921,
           "#D2426F"
          ],
          [
           0.5725490196078431,
           "#D3436E"
          ],
          [
           0.5764705882352941,
           "#D5446D"
          ],
          [
           0.5803921568627451,
           "#D6456C"
          ],
          [
           0.5843137254901961,
           "#D8456C"
          ],
          [
           0.5882352941176471,
           "#D9466B"
          ],
          [
           0.592156862745098,
           "#DB476A"
          ],
          [
           0.596078431372549,
           "#DC4869"
          ],
          [
           0.6,
           "#DE4968"
          ],
          [
           0.6039215686274509,
           "#DF4A68"
          ],
          [
           0.6078431372549019,
           "#E04C67"
          ],
          [
           0.611764705882353,
           "#E24D66"
          ],
          [
           0.615686274509804,
           "#E34E65"
          ],
          [
           0.6196078431372549,
           "#E44F64"
          ],
          [
           0.6235294117647059,
           "#E55064"
          ],
          [
           0.6274509803921569,
           "#E75263"
          ],
          [
           0.6313725490196078,
           "#E85362"
          ],
          [
           0.6352941176470588,
           "#E95462"
          ],
          [
           0.6392156862745098,
           "#EA5661"
          ],
          [
           0.6431372549019608,
           "#EB5760"
          ],
          [
           0.6470588235294118,
           "#EC5860"
          ],
          [
           0.6509803921568628,
           "#ED5A5F"
          ],
          [
           0.6549019607843137,
           "#EE5B5E"
          ],
          [
           0.6588235294117647,
           "#EF5D5E"
          ],
          [
           0.6627450980392157,
           "#F05F5E"
          ],
          [
           0.6666666666666666,
           "#F1605D"
          ],
          [
           0.6705882352941176,
           "#F2625D"
          ],
          [
           0.6745098039215687,
           "#F2645C"
          ],
          [
           0.6784313725490196,
           "#F3655C"
          ],
          [
           0.6823529411764706,
           "#F4675C"
          ],
          [
           0.6862745098039216,
           "#F4695C"
          ],
          [
           0.6901960784313725,
           "#F56B5C"
          ],
          [
           0.6941176470588235,
           "#F66C5C"
          ],
          [
           0.6980392156862745,
           "#F66E5C"
          ],
          [
           0.7019607843137254,
           "#F7705C"
          ],
          [
           0.7058823529411765,
           "#F7725C"
          ],
          [
           0.7098039215686275,
           "#F8745C"
          ],
          [
           0.7137254901960784,
           "#F8765C"
          ],
          [
           0.7176470588235294,
           "#F9785D"
          ],
          [
           0.7215686274509804,
           "#F9795D"
          ],
          [
           0.7254901960784313,
           "#F97B5D"
          ],
          [
           0.7294117647058823,
           "#FA7D5E"
          ],
          [
           0.7333333333333333,
           "#FA7F5E"
          ],
          [
           0.7372549019607844,
           "#FA815F"
          ],
          [
           0.7411764705882353,
           "#FB835F"
          ],
          [
           0.7450980392156863,
           "#FB8560"
          ],
          [
           0.7490196078431373,
           "#FB8761"
          ],
          [
           0.7529411764705882,
           "#FC8961"
          ],
          [
           0.7568627450980392,
           "#FC8A62"
          ],
          [
           0.7607843137254902,
           "#FC8C63"
          ],
          [
           0.7647058823529411,
           "#FC8E64"
          ],
          [
           0.7686274509803922,
           "#FC9065"
          ],
          [
           0.7725490196078432,
           "#FD9266"
          ],
          [
           0.7764705882352941,
           "#FD9467"
          ],
          [
           0.7803921568627451,
           "#FD9668"
          ],
          [
           0.7843137254901961,
           "#FD9869"
          ],
          [
           0.788235294117647,
           "#FD9A6A"
          ],
          [
           0.792156862745098,
           "#FD9B6B"
          ],
          [
           0.796078431372549,
           "#FE9D6C"
          ],
          [
           0.8,
           "#FE9F6D"
          ],
          [
           0.803921568627451,
           "#FEA16E"
          ],
          [
           0.807843137254902,
           "#FEA36F"
          ],
          [
           0.8117647058823529,
           "#FEA571"
          ],
          [
           0.8156862745098039,
           "#FEA772"
          ],
          [
           0.8196078431372549,
           "#FEA973"
          ],
          [
           0.8235294117647058,
           "#FEAA74"
          ],
          [
           0.8274509803921568,
           "#FEAC76"
          ],
          [
           0.8313725490196079,
           "#FEAE77"
          ],
          [
           0.8352941176470589,
           "#FEB078"
          ],
          [
           0.8392156862745098,
           "#FEB27A"
          ],
          [
           0.8431372549019608,
           "#FEB47B"
          ],
          [
           0.8470588235294118,
           "#FEB67C"
          ],
          [
           0.8509803921568627,
           "#FEB77E"
          ],
          [
           0.8549019607843137,
           "#FEB97F"
          ],
          [
           0.8588235294117647,
           "#FEBB81"
          ],
          [
           0.8627450980392157,
           "#FEBD82"
          ],
          [
           0.8666666666666667,
           "#FEBF84"
          ],
          [
           0.8705882352941177,
           "#FEC185"
          ],
          [
           0.8745098039215686,
           "#FEC287"
          ],
          [
           0.8784313725490196,
           "#FEC488"
          ],
          [
           0.8823529411764706,
           "#FEC68A"
          ],
          [
           0.8862745098039215,
           "#FEC88C"
          ],
          [
           0.8901960784313725,
           "#FECA8D"
          ],
          [
           0.8941176470588236,
           "#FECC8F"
          ],
          [
           0.8980392156862745,
           "#FECD90"
          ],
          [
           0.9019607843137255,
           "#FECF92"
          ],
          [
           0.9058823529411765,
           "#FED194"
          ],
          [
           0.9098039215686274,
           "#FED395"
          ],
          [
           0.9137254901960784,
           "#FED597"
          ],
          [
           0.9176470588235294,
           "#FED799"
          ],
          [
           0.9215686274509803,
           "#FED89A"
          ],
          [
           0.9254901960784314,
           "#FDDA9C"
          ],
          [
           0.9294117647058824,
           "#FDDC9E"
          ],
          [
           0.9333333333333333,
           "#FDDEA0"
          ],
          [
           0.9372549019607843,
           "#FDE0A1"
          ],
          [
           0.9411764705882353,
           "#FDE2A3"
          ],
          [
           0.9450980392156862,
           "#FDE3A5"
          ],
          [
           0.9490196078431372,
           "#FDE5A7"
          ],
          [
           0.9529411764705882,
           "#FDE7A9"
          ],
          [
           0.9568627450980393,
           "#FDE9AA"
          ],
          [
           0.9607843137254902,
           "#FDEBAC"
          ],
          [
           0.9647058823529412,
           "#FCECAE"
          ],
          [
           0.9686274509803922,
           "#FCEEB0"
          ],
          [
           0.9725490196078431,
           "#FCF0B2"
          ],
          [
           0.9764705882352941,
           "#FCF2B4"
          ],
          [
           0.9803921568627451,
           "#FCF4B6"
          ],
          [
           0.984313725490196,
           "#FCF6B8"
          ],
          [
           0.9882352941176471,
           "#FCF7B9"
          ],
          [
           0.9921568627450981,
           "#FCF9BB"
          ],
          [
           0.996078431372549,
           "#FCFBBD"
          ],
          [
           1,
           "#FCFDBF"
          ]
         ],
         "type": "heatmap",
         "x": [
          0.5,
          1.5,
          2.5,
          3.5,
          4.5,
          5.5,
          6.5,
          7.5,
          8.5,
          9.5,
          10.5,
          11.5,
          12.5,
          13.5,
          14.5,
          15.5
         ],
         "y": [
          0.5,
          1.5,
          2.5,
          3.5,
          4.5,
          5.5,
          6.5,
          7.5,
          8.5,
          9.5,
          10.5,
          11.5,
          12.5,
          13.5,
          14.5,
          15.5
         ],
         "z": [
          [
           0,
           0.00020369365,
           0.92732435,
           0.92712927,
           0.9277345,
           0.9281178,
           0.9240206,
           0.92542034,
           0.9235194,
           0.9234938,
           0.92357904,
           0.9237551,
           0.9242805,
           0.9235688,
           0.9251477
          ],
          [
           0.00020369365,
           0,
           0.92732203,
           0.92712694,
           0.9277322,
           0.92811555,
           0.9240181,
           0.925418,
           0.9235168,
           0.92349124,
           0.9235765,
           0.9237526,
           0.9242781,
           0.9235663,
           0.9251453
          ],
          [
           0.92732435,
           0.92732203,
           0,
           0.05127808,
           0.07864544,
           0.19527596,
           0.6661052,
           0.6713057,
           0.6670579,
           0.6671313,
           0.66719276,
           0.66778964,
           0.67378324,
           0.67187387,
           0.66370994
          ],
          [
           0.92712927,
           0.92712694,
           0.05127808,
           0,
           0.089180626,
           0.20132475,
           0.6669534,
           0.6715727,
           0.6675838,
           0.6676085,
           0.6675235,
           0.668315,
           0.67363375,
           0.67200863,
           0.6646878
          ],
          [
           0.9277345,
           0.9277322,
           0.07864544,
           0.089180626,
           0,
           0.20953391,
           0.6703687,
           0.6740053,
           0.67039675,
           0.6705186,
           0.67038804,
           0.6711166,
           0.67650914,
           0.675618,
           0.6678915
          ],
          [
           0.9281178,
           0.92811555,
           0.19527596,
           0.20132475,
           0.20953391,
           0,
           0.67192626,
           0.67901444,
           0.6740751,
           0.6741954,
           0.6737857,
           0.6748237,
           0.67768943,
           0.6800042,
           0.67198294
          ],
          [
           0.9240206,
           0.9240181,
           0.6661052,
           0.6669534,
           0.6703687,
           0.67192626,
           0,
           0.32061273,
           0.5388916,
           0.5388823,
           0.5382698,
           0.53676564,
           0.55944496,
           0.5310976,
           0.5598702
          ],
          [
           0.92542034,
           0.925418,
           0.6713057,
           0.6715727,
           0.6740053,
           0.67901444,
           0.32061273,
           0,
           0.56122845,
           0.56139326,
           0.5619514,
           0.56217533,
           0.5569427,
           0.5643994,
           0.5852673
          ],
          [
           0.9235194,
           0.9235168,
           0.6670579,
           0.6675838,
           0.67039675,
           0.6740751,
           0.5388916,
           0.56122845,
           0,
           0.0026314284,
           0.0037187482,
           0.014763501,
           0.3210789,
           0.37082,
           0.3742797
          ],
          [
           0.9234938,
           0.92349124,
           0.6671313,
           0.6676085,
           0.6705186,
           0.6741954,
           0.5388823,
           0.56139326,
           0.0026314284,
           0,
           0.0030341195,
           0.014203738,
           0.32068008,
           0.3707556,
           0.37421805
          ],
          [
           0.92357904,
           0.9235765,
           0.66719276,
           0.6675235,
           0.67038804,
           0.6737857,
           0.5382698,
           0.5619514,
           0.0037187482,
           0.0030341195,
           0,
           0.015172179,
           0.32152614,
           0.37173495,
           0.3747374
          ],
          [
           0.9237551,
           0.9237526,
           0.66778964,
           0.668315,
           0.6711166,
           0.6748237,
           0.53676564,
           0.56217533,
           0.014763501,
           0.014203738,
           0.015172179,
           0,
           0.32262155,
           0.36842346,
           0.37187165
          ],
          [
           0.9242805,
           0.9242781,
           0.67378324,
           0.67363375,
           0.67650914,
           0.67768943,
           0.55944496,
           0.5569427,
           0.3210789,
           0.32068008,
           0.32152614,
           0.32262155,
           0,
           0.38683018,
           0.39937934
          ],
          [
           0.9235688,
           0.9235663,
           0.67187387,
           0.67200863,
           0.675618,
           0.6800042,
           0.5310976,
           0.5643994,
           0.37082,
           0.3707556,
           0.37173495,
           0.36842346,
           0.38683018,
           0,
           0.3988067
          ],
          [
           0.9251477,
           0.9251453,
           0.66370994,
           0.6646878,
           0.6678915,
           0.67198294,
           0.5598702,
           0.5852673,
           0.3742797,
           0.37421805,
           0.3747374,
           0.37187165,
           0.39937934,
           0.3988067,
           0
          ]
         ]
        },
        {
         "hoverinfo": "skip",
         "line": {
          "color": "#666666"
         },
         "mode": "lines",
         "showlegend": false,
         "type": "scatter",
         "x": [
          0.00020369364938233048,
          0.00020369364938233048,
          null,
          0.00020369364938233048,
          0,
          null,
          0.00020369364938233048,
          0,
          null
         ],
         "xaxis": "x2",
         "y": [
          1,
          2,
          null,
          1,
          1,
          null,
          2,
          2,
          null
         ],
         "yaxis": "y"
        },
        {
         "hoverinfo": "skip",
         "line": {
          "color": "#666666"
         },
         "mode": "lines",
         "showlegend": false,
         "type": "scatter",
         "x": [
          0.08918062597513199,
          0.08918062597513199,
          null,
          0.08918062597513199,
          0.05127808079123497,
          null,
          0.08918062597513199,
          0,
          null
         ],
         "xaxis": "x2",
         "y": [
          3.5,
          5,
          null,
          3.5,
          3.5,
          null,
          5,
          5,
          null
         ],
         "yaxis": "y"
        },
        {
         "hoverinfo": "skip",
         "line": {
          "color": "#666666"
         },
         "mode": "lines",
         "showlegend": false,
         "type": "scatter",
         "x": [
          0.39937934279441833,
          0.39937934279441833,
          null,
          0.39937934279441833,
          0.3868301808834076,
          null,
          0.39937934279441833,
          0,
          null
         ],
         "xaxis": "x2",
         "y": [
          13.03125,
          15,
          null,
          13.03125,
          13.03125,
          null,
          15,
          15,
          null
         ],
         "yaxis": "y"
        },
        {
         "hoverinfo": "skip",
         "line": {
          "color": "#666666"
         },
         "mode": "lines",
         "showlegend": false,
         "type": "scatter",
         "x": [
          0.3868301808834076,
          0.3868301808834076,
          null,
          0.3868301808834076,
          0.32262155413627625,
          null,
          0.3868301808834076,
          0,
          null
         ],
         "xaxis": "x2",
         "y": [
          12.0625,
          14,
          null,
          12.0625,
          12.0625,
          null,
          14,
          14,
          null
         ],
         "yaxis": "y"
        },
        {
         "hoverinfo": "skip",
         "line": {
          "color": "#666666"
         },
         "mode": "lines",
         "showlegend": false,
         "type": "scatter",
         "x": [
          0.9281178116798401,
          0.9281178116798401,
          null,
          0.9281178116798401,
          0.00020369364938233048,
          null,
          0.9281178116798401,
          0.6800041794776917,
          null
         ],
         "xaxis": "x2",
         "y": [
          1.5,
          7.94140625,
          null,
          1.5,
          1.5,
          null,
          7.94140625,
          7.94140625,
          null
         ],
         "yaxis": "y"
        },
        {
         "hoverinfo": "skip",
         "line": {
          "color": "#666666"
         },
         "mode": "lines",
         "showlegend": false,
         "type": "scatter",
         "x": [
          0.015172178857028484,
          0.015172178857028484,
          null,
          0.015172178857028484,
          0.0037187482230365276,
          null,
          0.015172178857028484,
          0,
          null
         ],
         "xaxis": "x2",
         "y": [
          10.25,
          12,
          null,
          10.25,
          10.25,
          null,
          12,
          12,
          null
         ],
         "yaxis": "y"
        },
        {
         "hoverinfo": "skip",
         "line": {
          "color": "#666666"
         },
         "mode": "lines",
         "showlegend": false,
         "type": "scatter",
         "x": [
          0.0026314284186810255,
          0.0026314284186810255,
          null,
          0.0026314284186810255,
          0,
          null,
          0.0026314284186810255,
          0,
          null
         ],
         "xaxis": "x2",
         "y": [
          9,
          10,
          null,
          9,
          9,
          null,
          10,
          10,
          null
         ],
         "yaxis": "y"
        },
        {
         "hoverinfo": "skip",
         "line": {
          "color": "#666666"
         },
         "mode": "lines",
         "showlegend": false,
         "type": "scatter",
         "x": [
          0.2095339149236679,
          0.2095339149236679,
          null,
          0.2095339149236679,
          0.08918062597513199,
          null,
          0.2095339149236679,
          0,
          null
         ],
         "xaxis": "x2",
         "y": [
          4.25,
          6,
          null,
          4.25,
          4.25,
          null,
          6,
          6,
          null
         ],
         "yaxis": "y"
        },
        {
         "hoverinfo": "skip",
         "line": {
          "color": "#666666"
         },
         "mode": "lines",
         "showlegend": false,
         "type": "scatter",
         "x": [
          0.32262155413627625,
          0.32262155413627625,
          null,
          0.32262155413627625,
          0.015172178857028484,
          null,
          0.32262155413627625,
          0,
          null
         ],
         "xaxis": "x2",
         "y": [
          11.125,
          13,
          null,
          11.125,
          11.125,
          null,
          13,
          13,
          null
         ],
         "yaxis": "y"
        },
        {
         "hoverinfo": "skip",
         "line": {
          "color": "#666666"
         },
         "mode": "lines",
         "showlegend": false,
         "type": "scatter",
         "x": [
          0.6800041794776917,
          0.6800041794776917,
          null,
          0.6800041794776917,
          0.2095339149236679,
          null,
          0.6800041794776917,
          0.5852673053741455,
          null
         ],
         "xaxis": "x2",
         "y": [
          5.125,
          10.7578125,
          null,
          5.125,
          5.125,
          null,
          10.7578125,
          10.7578125,
          null
         ],
         "yaxis": "y"
        },
        {
         "hoverinfo": "skip",
         "line": {
          "color": "#666666"
         },
         "mode": "lines",
         "showlegend": false,
         "type": "scatter",
         "x": [
          0.05127808079123497,
          0.05127808079123497,
          null,
          0.05127808079123497,
          0,
          null,
          0.05127808079123497,
          0,
          null
         ],
         "xaxis": "x2",
         "y": [
          3,
          4,
          null,
          3,
          3,
          null,
          4,
          4,
          null
         ],
         "yaxis": "y"
        },
        {
         "hoverinfo": "skip",
         "line": {
          "color": "#666666"
         },
         "mode": "lines",
         "showlegend": false,
         "type": "scatter",
         "x": [
          0.32061272859573364,
          0.32061272859573364,
          null,
          0.32061272859573364,
          0,
          null,
          0.32061272859573364,
          0,
          null
         ],
         "xaxis": "x2",
         "y": [
          7,
          8,
          null,
          7,
          7,
          null,
          8,
          8,
          null
         ],
         "yaxis": "y"
        },
        {
         "hoverinfo": "skip",
         "line": {
          "color": "#666666"
         },
         "mode": "lines",
         "showlegend": false,
         "type": "scatter",
         "x": [
          0.5852673053741455,
          0.5852673053741455,
          null,
          0.5852673053741455,
          0.32061272859573364,
          null,
          0.5852673053741455,
          0.39937934279441833,
          null
         ],
         "xaxis": "x2",
         "y": [
          7.5,
          14.015625,
          null,
          7.5,
          7.5,
          null,
          14.015625,
          14.015625,
          null
         ],
         "yaxis": "y"
        },
        {
         "hoverinfo": "skip",
         "line": {
          "color": "#666666"
         },
         "mode": "lines",
         "showlegend": false,
         "type": "scatter",
         "x": [
          0.0037187482230365276,
          0.0037187482230365276,
          null,
          0.0037187482230365276,
          0.0026314284186810255,
          null,
          0.0037187482230365276,
          0,
          null
         ],
         "xaxis": "x2",
         "y": [
          9.5,
          11,
          null,
          9.5,
          9.5,
          null,
          11,
          11,
          null
         ],
         "yaxis": "y"
        },
        {
         "customdata": [
          [
           18,
           3
          ],
          [
           16,
           2
          ],
          [
           21,
           3
          ],
          [
           26,
           7
          ],
          [
           25,
           6
          ],
          [
           29,
           15
          ],
          [
           19,
           4
          ],
          [
           17,
           2
          ],
          [
           22,
           4
          ],
          [
           24,
           5
          ],
          [
           28,
           13
          ],
          [
           20,
           2
          ],
          [
           23,
           2
          ],
          [
           27,
           9
          ]
         ],
         "hovertemplate": "ID: %{customdata[0]}<br>\nHeight: %{x:.3f}<br>\nGenome count: %{customdata[1]}\n<extra></extra>\n",
         "marker": {
          "color": "#666666",
          "size": [
           8,
           8,
           8,
           8,
           4,
           8,
           8,
           8,
           8,
           8,
           8,
           8,
           8,
           8
          ]
         },
         "mode": "markers",
         "showlegend": false,
         "type": "scatter",
         "x": [
          0.0037187482230365276,
          0.00020369364938233048,
          0.08918062597513199,
          0.39937934279441833,
          0.3868301808834076,
          0.9281178116798401,
          0.015172178857028484,
          0.0026314284186810255,
          0.2095339149236679,
          0.32262155413627625,
          0.6800041794776917,
          0.05127808079123497,
          0.32061272859573364,
          0.5852673053741455
         ],
         "xaxis": "x2",
         "y": [
          10.25,
          1.5,
          4.25,
          14.015625,
          13.03125,
          4.720703125,
          11.125,
          9.5,
          5.125,
          12.0625,
          7.94140625,
          3.5,
          7.5,
          10.7578125
         ],
         "yaxis": "y"
        },
        {
         "hovertemplate": "%{text} <br>\n%{x}\n<extra></extra>\n",
         "marker": {
          "color": "green",
          "line": {
           "color": "green",
           "width": 1
          },
          "symbol": "line-ns"
         },
         "mode": "markers",
         "text": [
          "diazoefficiens",
          "liaoningense",
          "yuanmingense"
         ],
         "type": "scatter",
         "x": [
          0.83896655,
          0.8866347,
          0.89772767
         ],
         "xaxis": "x2",
         "y": [
          -1,
          -1,
          -1,
          -1
         ]
        }
       ],
       "frames": [],
       "layout": {
        "height": 550,
        "hovermode": "closest",
        "margin": {
         "b": 50,
         "l": 50,
         "r": 50,
         "t": 60
        },
        "showlegend": false,
        "width": 1000,
        "xaxis": {
         "autorange": true,
         "domain": [
          0.504950495049505,
          1
         ],
         "range": [
          -0.6124099981699889,
          16.612409998169987
         ],
         "scaleanchor": "y",
         "type": "linear",
         "visible": false
        },
        "xaxis2": {
         "autorange": true,
         "domain": [
          0,
          0.49504950495049505
         ],
         "range": [
          0.9892964615593922,
          0
         ],
         "rangemode": "nonnegative",
         "showspikes": true,
         "spikedash": "solid",
         "spikemode": "across",
         "spikethickness": 1,
         "type": "linear"
        },
        "yaxis": {
         "autorange": true,
         "domain": [
          0,
          1
         ],
         "range": [
          -2.0503505417463352,
          15.897386870618227
         ],
         "scaleanchor": "x",
         "type": "linear",
         "visible": false
        }
       }
      },
      "application/vnd.webio.node+json": {
       "children": [
        {
         "children": [],
         "instanceArgs": {
          "namespace": "html",
          "tag": "div"
         },
         "nodeType": "DOM",
         "props": {
          "id": "plot-2f14856b-0a17-4171-987d-03a96beb586f"
         },
         "type": "node"
        }
       ],
       "instanceArgs": {
        "handlers": {
         "__get_gd_contents": [
          "(function (prop){prop==\"data\" ? (WebIO.setval({\"name\":\"__gd_contents\",\"scope\":\"4281267310635842949\",\"id\":\"8562493874653417346\",\"type\":\"observable\"},this.plotElem.data)) : undefined; return prop==\"layout\" ? (WebIO.setval({\"name\":\"__gd_contents\",\"scope\":\"4281267310635842949\",\"id\":\"8562493874653417346\",\"type\":\"observable\"},this.plotElem.layout)) : undefined})"
         ],
         "_commands": [
          "(function (args){var fn=args.shift(); var elem=this.plotElem; var Plotly=this.Plotly; args.unshift(elem); return Plotly[fn].apply(this,args)})"
         ],
         "_downloadImage": [
          "(function (options){return this.Plotly.downloadImage(this.plotElem,options)})"
         ],
         "_toImage": [
          "(function (options){return this.Plotly.toImage(this.plotElem,options).then((function (data){return WebIO.setval({\"name\":\"image\",\"scope\":\"4281267310635842949\",\"id\":\"15966981371435470864\",\"type\":\"observable\"},data)}))})"
         ]
        },
        "id": "4281267310635842949",
        "imports": {
         "data": [
          {
           "name": "Plotly",
           "type": "js",
           "url": "/assetserver/e6903599031aaef8675931dfcd7df98a1aeffbfc-plotly-latest.min.js"
          },
          {
           "name": null,
           "type": "js",
           "url": "/assetserver/74a5dea81f21b0b802ef1ee92f1c8a504eac1a0c-plotly_webio.bundle.js"
          }
         ],
         "type": "async_block"
        },
        "mount_callbacks": [
         "function () {\n    var handler = ((function (Plotly,PlotlyWebIO){PlotlyWebIO.init(WebIO); var gd=this.dom.querySelector(\"#plot-2f14856b-0a17-4171-987d-03a96beb586f\"); this.plotElem=gd; this.Plotly=Plotly; (window.Blink!==undefined) ? (gd.style.width=\"100%\", gd.style.height=\"100vh\", gd.style.marginLeft=\"0%\", gd.style.marginTop=\"0vh\") : undefined; window.onresize=(function (){return Plotly.Plots.resize(gd)}); Plotly.newPlot(gd,[{\"y\":[0.5,1.5,2.5,3.5,4.5,5.5,6.5,7.5,8.5,9.5,10.5,11.5,12.5,13.5,14.5,15.5],\"type\":\"heatmap\",\"colorscale\":[[0.0,\"#000004\"],[0.00392156862745098,\"#010005\"],[0.00784313725490196,\"#010106\"],[0.011764705882352941,\"#010108\"],[0.01568627450980392,\"#020109\"],[0.0196078431372549,\"#02020B\"],[0.023529411764705882,\"#02020D\"],[0.027450980392156862,\"#03030F\"],[0.03137254901960784,\"#030312\"],[0.03529411764705882,\"#040414\"],[0.0392156862745098,\"#050416\"],[0.043137254901960784,\"#060518\"],[0.047058823529411764,\"#06051A\"],[0.050980392156862744,\"#07061C\"],[0.054901960784313725,\"#08071E\"],[0.058823529411764705,\"#090720\"],[0.06274509803921569,\"#0A0822\"],[0.06666666666666667,\"#0B0924\"],[0.07058823529411765,\"#0C0926\"],[0.07450980392156863,\"#0D0A29\"],[0.0784313725490196,\"#0E0B2B\"],[0.08235294117647059,\"#100B2D\"],[0.08627450980392157,\"#110C2F\"],[0.09019607843137255,\"#120D31\"],[0.09411764705882353,\"#130D34\"],[0.09803921568627451,\"#140E36\"],[0.10196078431372549,\"#150E38\"],[0.10588235294117647,\"#160F3B\"],[0.10980392156862745,\"#180F3D\"],[0.11372549019607843,\"#19103F\"],[0.11764705882352941,\"#1A1042\"],[0.12156862745098039,\"#1C1044\"],[0.12549019607843137,\"#1D1147\"],[0.12941176470588237,\"#1E1149\"],[0.13333333333333333,\"#20114B\"],[0.13725490196078433,\"#21114E\"],[0.1411764705882353,\"#221150\"],[0.1450980392156863,\"#241253\"],[0.14901960784313725,\"#251255\"],[0.15294117647058825,\"#271258\"],[0.1568627450980392,\"#29115A\"],[0.1607843137254902,\"#2A115C\"],[0.16470588235294117,\"#2C115F\"],[0.16862745098039217,\"#2D1161\"],[0.17254901960784313,\"#2F1163\"],[0.17647058823529413,\"#311165\"],[0.1803921568627451,\"#331067\"],[0.1843137254901961,\"#341069\"],[0.18823529411764706,\"#36106B\"],[0.19215686274509805,\"#38106C\"],[0.19607843137254902,\"#390F6E\"],[0.2,\"#3B0F70\"],[0.20392156862745098,\"#3D0F71\"],[0.20784313725490197,\"#3F0F72\"],[0.21176470588235294,\"#400F74\"],[0.21568627450980393,\"#420F75\"],[0.2196078431372549,\"#440F76\"],[0.2235294117647059,\"#451077\"],[0.22745098039215686,\"#471078\"],[0.23137254901960785,\"#491078\"],[0.23529411764705882,\"#4A1079\"],[0.23921568627450981,\"#4C117A\"],[0.24313725490196078,\"#4E117B\"],[0.24705882352941178,\"#4F127B\"],[0.25098039215686274,\"#51127C\"],[0.2549019607843137,\"#52137C\"],[0.25882352941176473,\"#54137D\"],[0.2627450980392157,\"#56147D\"],[0.26666666666666666,\"#57157E\"],[0.27058823529411763,\"#59157E\"],[0.27450980392156865,\"#5A167E\"],[0.2784313725490196,\"#5C167F\"],[0.2823529411764706,\"#5D177F\"],[0.28627450980392155,\"#5F187F\"],[0.2901960784313726,\"#601880\"],[0.29411764705882354,\"#621980\"],[0.2980392156862745,\"#641A80\"],[0.30196078431372547,\"#651A80\"],[0.3058823529411765,\"#671B80\"],[0.30980392156862746,\"#681C81\"],[0.3137254901960784,\"#6A1C81\"],[0.3176470588235294,\"#6B1D81\"],[0.3215686274509804,\"#6D1D81\"],[0.3254901960784314,\"#6E1E81\"],[0.32941176470588235,\"#701F81\"],[0.3333333333333333,\"#721F81\"],[0.33725490196078434,\"#732081\"],[0.3411764705882353,\"#752181\"],[0.34509803921568627,\"#762181\"],[0.34901960784313724,\"#782281\"],[0.35294117647058826,\"#792282\"],[0.3568627450980392,\"#7B2382\"],[0.3607843137254902,\"#7C2382\"],[0.36470588235294116,\"#7E2482\"],[0.3686274509803922,\"#802582\"],[0.37254901960784315,\"#812581\"],[0.3764705882352941,\"#832681\"],[0.3803921568627451,\"#842681\"],[0.3843137254901961,\"#862781\"],[0.38823529411764707,\"#882781\"],[0.39215686274509803,\"#892881\"],[0.396078431372549,\"#8B2981\"],[0.4,\"#8C2981\"],[0.403921568627451,\"#8E2A81\"],[0.40784313725490196,\"#902A81\"],[0.4117647058823529,\"#912B81\"],[0.41568627450980394,\"#932B80\"],[0.4196078431372549,\"#942C80\"],[0.4235294117647059,\"#962C80\"],[0.42745098039215684,\"#982D80\"],[0.43137254901960786,\"#992D80\"],[0.43529411764705883,\"#9B2E7F\"],[0.4392156862745098,\"#9C2E7F\"],[0.44313725490196076,\"#9E2F7F\"],[0.4470588235294118,\"#A02F7F\"],[0.45098039215686275,\"#A1307E\"],[0.4549019607843137,\"#A3307E\"],[0.4588235294117647,\"#A5317E\"],[0.4627450980392157,\"#A6317D\"],[0.4666666666666667,\"#A8327D\"],[0.47058823529411764,\"#AA337D\"],[0.4745098039215686,\"#AB337C\"],[0.47843137254901963,\"#AD347C\"],[0.4823529411764706,\"#AE347B\"],[0.48627450980392156,\"#B0357B\"],[0.49019607843137253,\"#B2357B\"],[0.49411764705882355,\"#B3367A\"],[0.4980392156862745,\"#B5367A\"],[0.5019607843137255,\"#B73779\"],[0.5058823529411764,\"#B83779\"],[0.5098039215686274,\"#BA3878\"],[0.5137254901960784,\"#BC3978\"],[0.5176470588235295,\"#BD3977\"],[0.5215686274509804,\"#BF3A77\"],[0.5254901960784314,\"#C03A76\"],[0.5294117647058824,\"#C23B75\"],[0.5333333333333333,\"#C43C75\"],[0.5372549019607843,\"#C53C74\"],[0.5411764705882353,\"#C73D73\"],[0.5450980392156862,\"#C83E73\"],[0.5490196078431373,\"#CA3E72\"],[0.5529411764705883,\"#CC3F71\"],[0.5568627450980392,\"#CD4071\"],[0.5607843137254902,\"#CF4070\"],[0.5647058823529412,\"#D0416F\"],[0.5686274509803921,\"#D2426F\"],[0.5725490196078431,\"#D3436E\"],[0.5764705882352941,\"#D5446D\"],[0.5803921568627451,\"#D6456C\"],[0.5843137254901961,\"#D8456C\"],[0.5882352941176471,\"#D9466B\"],[0.592156862745098,\"#DB476A\"],[0.596078431372549,\"#DC4869\"],[0.6,\"#DE4968\"],[0.6039215686274509,\"#DF4A68\"],[0.6078431372549019,\"#E04C67\"],[0.611764705882353,\"#E24D66\"],[0.615686274509804,\"#E34E65\"],[0.6196078431372549,\"#E44F64\"],[0.6235294117647059,\"#E55064\"],[0.6274509803921569,\"#E75263\"],[0.6313725490196078,\"#E85362\"],[0.6352941176470588,\"#E95462\"],[0.6392156862745098,\"#EA5661\"],[0.6431372549019608,\"#EB5760\"],[0.6470588235294118,\"#EC5860\"],[0.6509803921568628,\"#ED5A5F\"],[0.6549019607843137,\"#EE5B5E\"],[0.6588235294117647,\"#EF5D5E\"],[0.6627450980392157,\"#F05F5E\"],[0.6666666666666666,\"#F1605D\"],[0.6705882352941176,\"#F2625D\"],[0.6745098039215687,\"#F2645C\"],[0.6784313725490196,\"#F3655C\"],[0.6823529411764706,\"#F4675C\"],[0.6862745098039216,\"#F4695C\"],[0.6901960784313725,\"#F56B5C\"],[0.6941176470588235,\"#F66C5C\"],[0.6980392156862745,\"#F66E5C\"],[0.7019607843137254,\"#F7705C\"],[0.7058823529411765,\"#F7725C\"],[0.7098039215686275,\"#F8745C\"],[0.7137254901960784,\"#F8765C\"],[0.7176470588235294,\"#F9785D\"],[0.7215686274509804,\"#F9795D\"],[0.7254901960784313,\"#F97B5D\"],[0.7294117647058823,\"#FA7D5E\"],[0.7333333333333333,\"#FA7F5E\"],[0.7372549019607844,\"#FA815F\"],[0.7411764705882353,\"#FB835F\"],[0.7450980392156863,\"#FB8560\"],[0.7490196078431373,\"#FB8761\"],[0.7529411764705882,\"#FC8961\"],[0.7568627450980392,\"#FC8A62\"],[0.7607843137254902,\"#FC8C63\"],[0.7647058823529411,\"#FC8E64\"],[0.7686274509803922,\"#FC9065\"],[0.7725490196078432,\"#FD9266\"],[0.7764705882352941,\"#FD9467\"],[0.7803921568627451,\"#FD9668\"],[0.7843137254901961,\"#FD9869\"],[0.788235294117647,\"#FD9A6A\"],[0.792156862745098,\"#FD9B6B\"],[0.796078431372549,\"#FE9D6C\"],[0.8,\"#FE9F6D\"],[0.803921568627451,\"#FEA16E\"],[0.807843137254902,\"#FEA36F\"],[0.8117647058823529,\"#FEA571\"],[0.8156862745098039,\"#FEA772\"],[0.8196078431372549,\"#FEA973\"],[0.8235294117647058,\"#FEAA74\"],[0.8274509803921568,\"#FEAC76\"],[0.8313725490196079,\"#FEAE77\"],[0.8352941176470589,\"#FEB078\"],[0.8392156862745098,\"#FEB27A\"],[0.8431372549019608,\"#FEB47B\"],[0.8470588235294118,\"#FEB67C\"],[0.8509803921568627,\"#FEB77E\"],[0.8549019607843137,\"#FEB97F\"],[0.8588235294117647,\"#FEBB81\"],[0.8627450980392157,\"#FEBD82\"],[0.8666666666666667,\"#FEBF84\"],[0.8705882352941177,\"#FEC185\"],[0.8745098039215686,\"#FEC287\"],[0.8784313725490196,\"#FEC488\"],[0.8823529411764706,\"#FEC68A\"],[0.8862745098039215,\"#FEC88C\"],[0.8901960784313725,\"#FECA8D\"],[0.8941176470588236,\"#FECC8F\"],[0.8980392156862745,\"#FECD90\"],[0.9019607843137255,\"#FECF92\"],[0.9058823529411765,\"#FED194\"],[0.9098039215686274,\"#FED395\"],[0.9137254901960784,\"#FED597\"],[0.9176470588235294,\"#FED799\"],[0.9215686274509803,\"#FED89A\"],[0.9254901960784314,\"#FDDA9C\"],[0.9294117647058824,\"#FDDC9E\"],[0.9333333333333333,\"#FDDEA0\"],[0.9372549019607843,\"#FDE0A1\"],[0.9411764705882353,\"#FDE2A3\"],[0.9450980392156862,\"#FDE3A5\"],[0.9490196078431372,\"#FDE5A7\"],[0.9529411764705882,\"#FDE7A9\"],[0.9568627450980393,\"#FDE9AA\"],[0.9607843137254902,\"#FDEBAC\"],[0.9647058823529412,\"#FCECAE\"],[0.9686274509803922,\"#FCEEB0\"],[0.9725490196078431,\"#FCF0B2\"],[0.9764705882352941,\"#FCF2B4\"],[0.9803921568627451,\"#FCF4B6\"],[0.984313725490196,\"#FCF6B8\"],[0.9882352941176471,\"#FCF7B9\"],[0.9921568627450981,\"#FCF9BB\"],[0.996078431372549,\"#FCFBBD\"],[1.0,\"#FCFDBF\"]],\"z\":[[0.0,0.00020369365,0.92732435,0.92712927,0.9277345,0.9281178,0.9240206,0.92542034,0.9235194,0.9234938,0.92357904,0.9237551,0.9242805,0.9235688,0.9251477],[0.00020369365,0.0,0.92732203,0.92712694,0.9277322,0.92811555,0.9240181,0.925418,0.9235168,0.92349124,0.9235765,0.9237526,0.9242781,0.9235663,0.9251453],[0.92732435,0.92732203,0.0,0.05127808,0.07864544,0.19527596,0.6661052,0.6713057,0.6670579,0.6671313,0.66719276,0.66778964,0.67378324,0.67187387,0.66370994],[0.92712927,0.92712694,0.05127808,0.0,0.089180626,0.20132475,0.6669534,0.6715727,0.6675838,0.6676085,0.6675235,0.668315,0.67363375,0.67200863,0.6646878],[0.9277345,0.9277322,0.07864544,0.089180626,0.0,0.20953391,0.6703687,0.6740053,0.67039675,0.6705186,0.67038804,0.6711166,0.67650914,0.675618,0.6678915],[0.9281178,0.92811555,0.19527596,0.20132475,0.20953391,0.0,0.67192626,0.67901444,0.6740751,0.6741954,0.6737857,0.6748237,0.67768943,0.6800042,0.67198294],[0.9240206,0.9240181,0.6661052,0.6669534,0.6703687,0.67192626,0.0,0.32061273,0.5388916,0.5388823,0.5382698,0.53676564,0.55944496,0.5310976,0.5598702],[0.92542034,0.925418,0.6713057,0.6715727,0.6740053,0.67901444,0.32061273,0.0,0.56122845,0.56139326,0.5619514,0.56217533,0.5569427,0.5643994,0.5852673],[0.9235194,0.9235168,0.6670579,0.6675838,0.67039675,0.6740751,0.5388916,0.56122845,0.0,0.0026314284,0.0037187482,0.014763501,0.3210789,0.37082,0.3742797],[0.9234938,0.92349124,0.6671313,0.6676085,0.6705186,0.6741954,0.5388823,0.56139326,0.0026314284,0.0,0.0030341195,0.014203738,0.32068008,0.3707556,0.37421805],[0.92357904,0.9235765,0.66719276,0.6675235,0.67038804,0.6737857,0.5382698,0.5619514,0.0037187482,0.0030341195,0.0,0.015172179,0.32152614,0.37173495,0.3747374],[0.9237551,0.9237526,0.66778964,0.668315,0.6711166,0.6748237,0.53676564,0.56217533,0.014763501,0.014203738,0.015172179,0.0,0.32262155,0.36842346,0.37187165],[0.9242805,0.9242781,0.67378324,0.67363375,0.67650914,0.67768943,0.55944496,0.5569427,0.3210789,0.32068008,0.32152614,0.32262155,0.0,0.38683018,0.39937934],[0.9235688,0.9235663,0.67187387,0.67200863,0.675618,0.6800042,0.5310976,0.5643994,0.37082,0.3707556,0.37173495,0.36842346,0.38683018,0.0,0.3988067],[0.9251477,0.9251453,0.66370994,0.6646878,0.6678915,0.67198294,0.5598702,0.5852673,0.3742797,0.37421805,0.3747374,0.37187165,0.39937934,0.3988067,0.0]],\"x\":[0.5,1.5,2.5,3.5,4.5,5.5,6.5,7.5,8.5,9.5,10.5,11.5,12.5,13.5,14.5,15.5]},{\"showlegend\":false,\"mode\":\"lines\",\"xaxis\":\"x2\",\"line\":{\"color\":\"#666666\"},\"y\":[1.0,2.0,null,1.0,1.0,null,2.0,2.0,null],\"type\":\"scatter\",\"hoverinfo\":\"skip\",\"yaxis\":\"y\",\"x\":[0.00020369364938233048,0.00020369364938233048,null,0.00020369364938233048,0.0,null,0.00020369364938233048,0.0,null]},{\"showlegend\":false,\"mode\":\"lines\",\"xaxis\":\"x2\",\"line\":{\"color\":\"#666666\"},\"y\":[3.5,5.0,null,3.5,3.5,null,5.0,5.0,null],\"type\":\"scatter\",\"hoverinfo\":\"skip\",\"yaxis\":\"y\",\"x\":[0.08918062597513199,0.08918062597513199,null,0.08918062597513199,0.05127808079123497,null,0.08918062597513199,0.0,null]},{\"showlegend\":false,\"mode\":\"lines\",\"xaxis\":\"x2\",\"line\":{\"color\":\"#666666\"},\"y\":[13.03125,15.0,null,13.03125,13.03125,null,15.0,15.0,null],\"type\":\"scatter\",\"hoverinfo\":\"skip\",\"yaxis\":\"y\",\"x\":[0.39937934279441833,0.39937934279441833,null,0.39937934279441833,0.3868301808834076,null,0.39937934279441833,0.0,null]},{\"showlegend\":false,\"mode\":\"lines\",\"xaxis\":\"x2\",\"line\":{\"color\":\"#666666\"},\"y\":[12.0625,14.0,null,12.0625,12.0625,null,14.0,14.0,null],\"type\":\"scatter\",\"hoverinfo\":\"skip\",\"yaxis\":\"y\",\"x\":[0.3868301808834076,0.3868301808834076,null,0.3868301808834076,0.32262155413627625,null,0.3868301808834076,0.0,null]},{\"showlegend\":false,\"mode\":\"lines\",\"xaxis\":\"x2\",\"line\":{\"color\":\"#666666\"},\"y\":[1.5,7.94140625,null,1.5,1.5,null,7.94140625,7.94140625,null],\"type\":\"scatter\",\"hoverinfo\":\"skip\",\"yaxis\":\"y\",\"x\":[0.9281178116798401,0.9281178116798401,null,0.9281178116798401,0.00020369364938233048,null,0.9281178116798401,0.6800041794776917,null]},{\"showlegend\":false,\"mode\":\"lines\",\"xaxis\":\"x2\",\"line\":{\"color\":\"#666666\"},\"y\":[10.25,12.0,null,10.25,10.25,null,12.0,12.0,null],\"type\":\"scatter\",\"hoverinfo\":\"skip\",\"yaxis\":\"y\",\"x\":[0.015172178857028484,0.015172178857028484,null,0.015172178857028484,0.0037187482230365276,null,0.015172178857028484,0.0,null]},{\"showlegend\":false,\"mode\":\"lines\",\"xaxis\":\"x2\",\"line\":{\"color\":\"#666666\"},\"y\":[9.0,10.0,null,9.0,9.0,null,10.0,10.0,null],\"type\":\"scatter\",\"hoverinfo\":\"skip\",\"yaxis\":\"y\",\"x\":[0.0026314284186810255,0.0026314284186810255,null,0.0026314284186810255,0.0,null,0.0026314284186810255,0.0,null]},{\"showlegend\":false,\"mode\":\"lines\",\"xaxis\":\"x2\",\"line\":{\"color\":\"#666666\"},\"y\":[4.25,6.0,null,4.25,4.25,null,6.0,6.0,null],\"type\":\"scatter\",\"hoverinfo\":\"skip\",\"yaxis\":\"y\",\"x\":[0.2095339149236679,0.2095339149236679,null,0.2095339149236679,0.08918062597513199,null,0.2095339149236679,0.0,null]},{\"showlegend\":false,\"mode\":\"lines\",\"xaxis\":\"x2\",\"line\":{\"color\":\"#666666\"},\"y\":[11.125,13.0,null,11.125,11.125,null,13.0,13.0,null],\"type\":\"scatter\",\"hoverinfo\":\"skip\",\"yaxis\":\"y\",\"x\":[0.32262155413627625,0.32262155413627625,null,0.32262155413627625,0.015172178857028484,null,0.32262155413627625,0.0,null]},{\"showlegend\":false,\"mode\":\"lines\",\"xaxis\":\"x2\",\"line\":{\"color\":\"#666666\"},\"y\":[5.125,10.7578125,null,5.125,5.125,null,10.7578125,10.7578125,null],\"type\":\"scatter\",\"hoverinfo\":\"skip\",\"yaxis\":\"y\",\"x\":[0.6800041794776917,0.6800041794776917,null,0.6800041794776917,0.2095339149236679,null,0.6800041794776917,0.5852673053741455,null]},{\"showlegend\":false,\"mode\":\"lines\",\"xaxis\":\"x2\",\"line\":{\"color\":\"#666666\"},\"y\":[3.0,4.0,null,3.0,3.0,null,4.0,4.0,null],\"type\":\"scatter\",\"hoverinfo\":\"skip\",\"yaxis\":\"y\",\"x\":[0.05127808079123497,0.05127808079123497,null,0.05127808079123497,0.0,null,0.05127808079123497,0.0,null]},{\"showlegend\":false,\"mode\":\"lines\",\"xaxis\":\"x2\",\"line\":{\"color\":\"#666666\"},\"y\":[7.0,8.0,null,7.0,7.0,null,8.0,8.0,null],\"type\":\"scatter\",\"hoverinfo\":\"skip\",\"yaxis\":\"y\",\"x\":[0.32061272859573364,0.32061272859573364,null,0.32061272859573364,0.0,null,0.32061272859573364,0.0,null]},{\"showlegend\":false,\"mode\":\"lines\",\"xaxis\":\"x2\",\"line\":{\"color\":\"#666666\"},\"y\":[7.5,14.015625,null,7.5,7.5,null,14.015625,14.015625,null],\"type\":\"scatter\",\"hoverinfo\":\"skip\",\"yaxis\":\"y\",\"x\":[0.5852673053741455,0.5852673053741455,null,0.5852673053741455,0.32061272859573364,null,0.5852673053741455,0.39937934279441833,null]},{\"showlegend\":false,\"mode\":\"lines\",\"xaxis\":\"x2\",\"line\":{\"color\":\"#666666\"},\"y\":[9.5,11.0,null,9.5,9.5,null,11.0,11.0,null],\"type\":\"scatter\",\"hoverinfo\":\"skip\",\"yaxis\":\"y\",\"x\":[0.0037187482230365276,0.0037187482230365276,null,0.0037187482230365276,0.0026314284186810255,null,0.0037187482230365276,0.0,null]},{\"showlegend\":false,\"mode\":\"markers\",\"xaxis\":\"x2\",\"marker\":{\"color\":\"#666666\",\"size\":[8,8,8,8,4,8,8,8,8,8,8,8,8,8]},\"y\":[10.25,1.5,4.25,14.015625,13.03125,4.720703125,11.125,9.5,5.125,12.0625,7.94140625,3.5,7.5,10.7578125],\"type\":\"scatter\",\"customdata\":[[18,3],[16,2],[21,3],[26,7],[25,6],[29,15],[19,4],[17,2],[22,4],[24,5],[28,13],[20,2],[23,2],[27,9]],\"yaxis\":\"y\",\"hovertemplate\":\"ID: %{customdata[0]}<br>\\nHeight: %{x:.3f}<br>\\nGenome count: %{customdata[1]}\\n<extra></extra>\\n\",\"x\":[0.0037187482230365276,0.00020369364938233048,0.08918062597513199,0.39937934279441833,0.3868301808834076,0.9281178116798401,0.015172178857028484,0.0026314284186810255,0.2095339149236679,0.32262155413627625,0.6800041794776917,0.05127808079123497,0.32061272859573364,0.5852673053741455]},{\"marker\":{\"symbol\":\"line-ns\",\"color\":\"green\",\"line\":{\"color\":\"green\",\"width\":1}},\"mode\":\"markers\",\"xaxis\":\"x2\",\"y\":[-1,-1,-1,-1],\"type\":\"scatter\",\"text\":[\"diazoefficiens\",\"liaoningense\",\"yuanmingense\"],\"hovertemplate\":\"%{text} <br>\\n%{x}\\n<extra></extra>\\n\",\"x\":[0.83896655,0.8866347,0.89772767]}],{\"showlegend\":false,\"xaxis\":{\"scaleanchor\":\"y\",\"visible\":false,\"domain\":[0.504950495049505,1.0]},\"hovermode\":\"closest\",\"xaxis2\":{\"rangemode\":\"nonnegative\",\"spikethickness\":1,\"showspikes\":true,\"domain\":[0.0,0.49504950495049505],\"spikemode\":\"across\",\"autorange\":\"reversed\",\"spikedash\":\"solid\"},\"height\":550,\"margin\":{\"l\":50,\"b\":50,\"r\":50,\"t\":60},\"yaxis\":{\"scaleanchor\":\"x\",\"visible\":false},\"width\":1000},{}); gd.on(\"plotly_hover\",(function (data){var filtered_data=WebIO.PlotlyCommands.filterEventData(gd,data,\"hover\"); return !(filtered_data.isnil) ? (WebIO.setval({\"name\":\"hover\",\"scope\":\"4281267310635842949\",\"id\":\"9387193877947738107\",\"type\":\"observable\"},filtered_data.out)) : undefined})); gd.on(\"plotly_unhover\",(function (){return WebIO.setval({\"name\":\"hover\",\"scope\":\"4281267310635842949\",\"id\":\"9387193877947738107\",\"type\":\"observable\"},{})})); gd.on(\"plotly_selected\",(function (data){var filtered_data=WebIO.PlotlyCommands.filterEventData(gd,data,\"selected\"); return !(filtered_data.isnil) ? (WebIO.setval({\"name\":\"selected\",\"scope\":\"4281267310635842949\",\"id\":\"14001666535587069084\",\"type\":\"observable\"},filtered_data.out)) : undefined})); gd.on(\"plotly_deselect\",(function (){return WebIO.setval({\"name\":\"selected\",\"scope\":\"4281267310635842949\",\"id\":\"14001666535587069084\",\"type\":\"observable\"},{})})); gd.on(\"plotly_relayout\",(function (data){var filtered_data=WebIO.PlotlyCommands.filterEventData(gd,data,\"relayout\"); return !(filtered_data.isnil) ? (WebIO.setval({\"name\":\"relayout\",\"scope\":\"4281267310635842949\",\"id\":\"15536460663449558357\",\"type\":\"observable\"},filtered_data.out)) : undefined})); return gd.on(\"plotly_click\",(function (data){var filtered_data=WebIO.PlotlyCommands.filterEventData(gd,data,\"click\"); return !(filtered_data.isnil) ? (WebIO.setval({\"name\":\"click\",\"scope\":\"4281267310635842949\",\"id\":\"17355976570157534276\",\"type\":\"observable\"},filtered_data.out)) : undefined}))}));\n    (WebIO.importBlock({\"data\":[{\"name\":\"Plotly\",\"type\":\"js\",\"url\":\"/assetserver/e6903599031aaef8675931dfcd7df98a1aeffbfc-plotly-latest.min.js\"},{\"name\":null,\"type\":\"js\",\"url\":\"/assetserver/74a5dea81f21b0b802ef1ee92f1c8a504eac1a0c-plotly_webio.bundle.js\"}],\"type\":\"async_block\"})).then((imports) => handler.apply(this, imports));\n}\n"
        ],
        "observables": {
         "__gd_contents": {
          "id": "8562493874653417346",
          "sync": false,
          "value": {}
         },
         "__get_gd_contents": {
          "id": "2864645967700239676",
          "sync": false,
          "value": ""
         },
         "_commands": {
          "id": "9057456445924687018",
          "sync": false,
          "value": []
         },
         "_downloadImage": {
          "id": "10894864621607932194",
          "sync": false,
          "value": {}
         },
         "_toImage": {
          "id": "9831950639446940321",
          "sync": false,
          "value": {}
         },
         "click": {
          "id": "17355976570157534276",
          "sync": false,
          "value": {}
         },
         "hover": {
          "id": "9387193877947738107",
          "sync": false,
          "value": {}
         },
         "image": {
          "id": "15966981371435470864",
          "sync": true,
          "value": ""
         },
         "relayout": {
          "id": "15536460663449558357",
          "sync": false,
          "value": {}
         },
         "selected": {
          "id": "14001666535587069084",
          "sync": false,
          "value": {}
         }
        },
        "systemjs_options": null
       },
       "nodeType": "Scope",
       "props": {},
       "type": "node"
      },
      "image/png": "[encoded data removed]",
      "image/svg+xml": [
       "<svg class=\"main-svg\" xmlns=\"http://www.w3.org/2000/svg\" xmlns:xlink=\"http://www.w3.org/1999/xlink\" width=\"700\" height=\"500\" style=\"\" viewBox=\"0 0 700 500\"><rect x=\"0\" y=\"0\" width=\"700\" height=\"500\" style=\"fill: rgb(255, 255, 255); fill-opacity: 1;\"/><defs id=\"defs-7de5a0\"><g class=\"clips\"><clipPath id=\"clip7de5a0xyplot\" class=\"plotclip\"><rect width=\"276.73267326732673\" height=\"390\"/></clipPath><clipPath id=\"clip7de5a0x2yplot\" class=\"plotclip\"><rect width=\"276.73267326732673\" height=\"390\"/></clipPath><clipPath class=\"axesclip\" id=\"clip7de5a0x\"><rect x=\"332.26732673267327\" y=\"0\" width=\"276.73267326732673\" height=\"500\"/></clipPath><clipPath class=\"axesclip\" id=\"clip7de5a0y\"><rect x=\"0\" y=\"60\" width=\"700\" height=\"390\"/></clipPath><clipPath class=\"axesclip\" id=\"clip7de5a0xy\"><rect x=\"332.26732673267327\" y=\"60\" width=\"276.73267326732673\" height=\"390\"/></clipPath><clipPath class=\"axesclip\" id=\"clip7de5a0x2\"><rect x=\"50\" y=\"0\" width=\"276.73267326732673\" height=\"500\"/></clipPath><clipPath class=\"axesclip\" id=\"clip7de5a0x2y\"><rect x=\"50\" y=\"60\" width=\"276.73267326732673\" height=\"390\"/></clipPath></g><g class=\"gradients\"><linearGradient x1=\"0\" x2=\"0\" y1=\"1\" y2=\"0\" id=\"g7de5a0-cbc863f7\"><stop offset=\"0%\" stop-color=\"rgb(0, 0, 4)\" stop-opacity=\"1\"/><stop offset=\"0.39215686274509803%\" stop-color=\"rgb(1, 0, 5)\" stop-opacity=\"1\"/><stop offset=\"0.7843137254901961%\" stop-color=\"rgb(1, 1, 6)\" stop-opacity=\"1\"/><stop offset=\"1.1764705882352942%\" stop-color=\"rgb(1, 1, 8)\" stop-opacity=\"1\"/><stop offset=\"1.5686274509803921%\" stop-color=\"rgb(2, 1, 9)\" stop-opacity=\"1\"/><stop offset=\"1.9607843137254901%\" stop-color=\"rgb(2, 2, 11)\" stop-opacity=\"1\"/><stop offset=\"2.3529411764705883%\" stop-color=\"rgb(2, 2, 13)\" stop-opacity=\"1\"/><stop offset=\"2.7450980392156863%\" stop-color=\"rgb(3, 3, 15)\" stop-opacity=\"1\"/><stop offset=\"3.1372549019607843%\" stop-color=\"rgb(3, 3, 18)\" stop-opacity=\"1\"/><stop offset=\"3.5294117647058822%\" stop-color=\"rgb(4, 4, 20)\" stop-opacity=\"1\"/><stop offset=\"3.9215686274509802%\" stop-color=\"rgb(5, 4, 22)\" stop-opacity=\"1\"/><stop offset=\"4.313725490196078%\" stop-color=\"rgb(6, 5, 24)\" stop-opacity=\"1\"/><stop offset=\"4.705882352941177%\" stop-color=\"rgb(6, 5, 26)\" stop-opacity=\"1\"/><stop offset=\"5.098039215686274%\" stop-color=\"rgb(7, 6, 28)\" stop-opacity=\"1\"/><stop offset=\"5.490196078431373%\" stop-color=\"rgb(8, 7, 30)\" stop-opacity=\"1\"/><stop offset=\"5.88235294117647%\" stop-color=\"rgb(9, 7, 32)\" stop-opacity=\"1\"/><stop offset=\"6.2745098039215685%\" stop-color=\"rgb(10, 8, 34)\" stop-opacity=\"1\"/><stop offset=\"6.666666666666667%\" stop-color=\"rgb(11, 9, 36)\" stop-opacity=\"1\"/><stop offset=\"7.0588235294117645%\" stop-color=\"rgb(12, 9, 38)\" stop-opacity=\"1\"/><stop offset=\"7.450980392156863%\" stop-color=\"rgb(13, 10, 41)\" stop-opacity=\"1\"/><stop offset=\"7.8431372549019605%\" stop-color=\"rgb(14, 11, 43)\" stop-opacity=\"1\"/><stop offset=\"8.235294117647058%\" stop-color=\"rgb(16, 11, 45)\" stop-opacity=\"1\"/><stop offset=\"8.627450980392156%\" stop-color=\"rgb(17, 12, 47)\" stop-opacity=\"1\"/><stop offset=\"9.019607843137255%\" stop-color=\"rgb(18, 13, 49)\" stop-opacity=\"1\"/><stop offset=\"9.411764705882353%\" stop-color=\"rgb(19, 13, 52)\" stop-opacity=\"1\"/><stop offset=\"9.803921568627452%\" stop-color=\"rgb(20, 14, 54)\" stop-opacity=\"1\"/><stop offset=\"10.196078431372548%\" stop-color=\"rgb(21, 14, 56)\" stop-opacity=\"1\"/><stop offset=\"10.588235294117647%\" stop-color=\"rgb(22, 15, 59)\" stop-opacity=\"1\"/><stop offset=\"10.980392156862745%\" stop-color=\"rgb(24, 15, 61)\" stop-opacity=\"1\"/><stop offset=\"11.372549019607844%\" stop-color=\"rgb(25, 16, 63)\" stop-opacity=\"1\"/><stop offset=\"11.76470588235294%\" stop-color=\"rgb(26, 16, 66)\" stop-opacity=\"1\"/><stop offset=\"12.156862745098039%\" stop-color=\"rgb(28, 16, 68)\" stop-opacity=\"1\"/><stop offset=\"12.549019607843137%\" stop-color=\"rgb(29, 17, 71)\" stop-opacity=\"1\"/><stop offset=\"12.941176470588237%\" stop-color=\"rgb(30, 17, 73)\" stop-opacity=\"1\"/><stop offset=\"13.333333333333334%\" stop-color=\"rgb(32, 17, 75)\" stop-opacity=\"1\"/><stop offset=\"13.725490196078432%\" stop-color=\"rgb(33, 17, 78)\" stop-opacity=\"1\"/><stop offset=\"14.117647058823529%\" stop-color=\"rgb(34, 17, 80)\" stop-opacity=\"1\"/><stop offset=\"14.50980392156863%\" stop-color=\"rgb(36, 18, 83)\" stop-opacity=\"1\"/><stop offset=\"14.901960784313726%\" stop-color=\"rgb(37, 18, 85)\" stop-opacity=\"1\"/><stop offset=\"15.294117647058824%\" stop-color=\"rgb(39, 18, 88)\" stop-opacity=\"1\"/><stop offset=\"15.686274509803921%\" stop-color=\"rgb(41, 17, 90)\" stop-opacity=\"1\"/><stop offset=\"16.07843137254902%\" stop-color=\"rgb(42, 17, 92)\" stop-opacity=\"1\"/><stop offset=\"16.470588235294116%\" stop-color=\"rgb(44, 17, 95)\" stop-opacity=\"1\"/><stop offset=\"16.862745098039216%\" stop-color=\"rgb(45, 17, 97)\" stop-opacity=\"1\"/><stop offset=\"17.254901960784313%\" stop-color=\"rgb(47, 17, 99)\" stop-opacity=\"1\"/><stop offset=\"17.647058823529413%\" stop-color=\"rgb(49, 17, 101)\" stop-opacity=\"1\"/><stop offset=\"18.03921568627451%\" stop-color=\"rgb(51, 16, 103)\" stop-opacity=\"1\"/><stop offset=\"18.43137254901961%\" stop-color=\"rgb(52, 16, 105)\" stop-opacity=\"1\"/><stop offset=\"18.823529411764707%\" stop-color=\"rgb(54, 16, 107)\" stop-opacity=\"1\"/><stop offset=\"19.215686274509807%\" stop-color=\"rgb(56, 16, 108)\" stop-opacity=\"1\"/><stop offset=\"19.607843137254903%\" stop-color=\"rgb(57, 15, 110)\" stop-opacity=\"1\"/><stop offset=\"20%\" stop-color=\"rgb(59, 15, 112)\" stop-opacity=\"1\"/><stop offset=\"20.392156862745097%\" stop-color=\"rgb(61, 15, 113)\" stop-opacity=\"1\"/><stop offset=\"20.784313725490197%\" stop-color=\"rgb(63, 15, 114)\" stop-opacity=\"1\"/><stop offset=\"21.176470588235293%\" stop-color=\"rgb(64, 15, 116)\" stop-opacity=\"1\"/><stop offset=\"21.568627450980394%\" stop-color=\"rgb(66, 15, 117)\" stop-opacity=\"1\"/><stop offset=\"21.96078431372549%\" stop-color=\"rgb(68, 15, 118)\" stop-opacity=\"1\"/><stop offset=\"22.35294117647059%\" stop-color=\"rgb(69, 16, 119)\" stop-opacity=\"1\"/><stop offset=\"22.745098039215687%\" stop-color=\"rgb(71, 16, 120)\" stop-opacity=\"1\"/><stop offset=\"23.137254901960784%\" stop-color=\"rgb(73, 16, 120)\" stop-opacity=\"1\"/><stop offset=\"23.52941176470588%\" stop-color=\"rgb(74, 16, 121)\" stop-opacity=\"1\"/><stop offset=\"23.92156862745098%\" stop-color=\"rgb(76, 17, 122)\" stop-opacity=\"1\"/><stop offset=\"24.313725490196077%\" stop-color=\"rgb(78, 17, 123)\" stop-opacity=\"1\"/><stop offset=\"24.705882352941178%\" stop-color=\"rgb(79, 18, 123)\" stop-opacity=\"1\"/><stop offset=\"25.098039215686274%\" stop-color=\"rgb(81, 18, 124)\" stop-opacity=\"1\"/><stop offset=\"25.49019607843137%\" stop-color=\"rgb(82, 19, 124)\" stop-opacity=\"1\"/><stop offset=\"25.882352941176475%\" stop-color=\"rgb(84, 19, 125)\" stop-opacity=\"1\"/><stop offset=\"26.27450980392157%\" stop-color=\"rgb(86, 20, 125)\" stop-opacity=\"1\"/><stop offset=\"26.666666666666668%\" stop-color=\"rgb(87, 21, 126)\" stop-opacity=\"1\"/><stop offset=\"27.058823529411764%\" stop-color=\"rgb(89, 21, 126)\" stop-opacity=\"1\"/><stop offset=\"27.450980392156865%\" stop-color=\"rgb(90, 22, 126)\" stop-opacity=\"1\"/><stop offset=\"27.84313725490196%\" stop-color=\"rgb(92, 22, 127)\" stop-opacity=\"1\"/><stop offset=\"28.235294117647058%\" stop-color=\"rgb(93, 23, 127)\" stop-opacity=\"1\"/><stop offset=\"28.627450980392155%\" stop-color=\"rgb(95, 24, 127)\" stop-opacity=\"1\"/><stop offset=\"29.01960784313726%\" stop-color=\"rgb(96, 24, 128)\" stop-opacity=\"1\"/><stop offset=\"29.411764705882355%\" stop-color=\"rgb(98, 25, 128)\" stop-opacity=\"1\"/><stop offset=\"29.80392156862745%\" stop-color=\"rgb(100, 26, 128)\" stop-opacity=\"1\"/><stop offset=\"30.19607843137255%\" stop-color=\"rgb(101, 26, 128)\" stop-opacity=\"1\"/><stop offset=\"30.58823529411765%\" stop-color=\"rgb(103, 27, 128)\" stop-opacity=\"1\"/><stop offset=\"30.980392156862745%\" stop-color=\"rgb(104, 28, 129)\" stop-opacity=\"1\"/><stop offset=\"31.372549019607842%\" stop-color=\"rgb(106, 28, 129)\" stop-opacity=\"1\"/><stop offset=\"31.76470588235294%\" stop-color=\"rgb(107, 29, 129)\" stop-opacity=\"1\"/><stop offset=\"32.15686274509804%\" stop-color=\"rgb(109, 29, 129)\" stop-opacity=\"1\"/><stop offset=\"32.549019607843135%\" stop-color=\"rgb(110, 30, 129)\" stop-opacity=\"1\"/><stop offset=\"32.94117647058823%\" stop-color=\"rgb(112, 31, 129)\" stop-opacity=\"1\"/><stop offset=\"33.33333333333333%\" stop-color=\"rgb(114, 31, 129)\" stop-opacity=\"1\"/><stop offset=\"33.72549019607843%\" stop-color=\"rgb(115, 32, 129)\" stop-opacity=\"1\"/><stop offset=\"34.11764705882353%\" stop-color=\"rgb(117, 33, 129)\" stop-opacity=\"1\"/><stop offset=\"34.509803921568626%\" stop-color=\"rgb(118, 33, 129)\" stop-opacity=\"1\"/><stop offset=\"34.90196078431372%\" stop-color=\"rgb(120, 34, 129)\" stop-opacity=\"1\"/><stop offset=\"35.294117647058826%\" stop-color=\"rgb(121, 34, 130)\" stop-opacity=\"1\"/><stop offset=\"35.68627450980392%\" stop-color=\"rgb(123, 35, 130)\" stop-opacity=\"1\"/><stop offset=\"36.07843137254902%\" stop-color=\"rgb(124, 35, 130)\" stop-opacity=\"1\"/><stop offset=\"36.470588235294116%\" stop-color=\"rgb(126, 36, 130)\" stop-opacity=\"1\"/><stop offset=\"36.86274509803922%\" stop-color=\"rgb(128, 37, 130)\" stop-opacity=\"1\"/><stop offset=\"37.254901960784316%\" stop-color=\"rgb(129, 37, 129)\" stop-opacity=\"1\"/><stop offset=\"37.64705882352941%\" stop-color=\"rgb(131, 38, 129)\" stop-opacity=\"1\"/><stop offset=\"38.03921568627451%\" stop-color=\"rgb(132, 38, 129)\" stop-opacity=\"1\"/><stop offset=\"38.43137254901961%\" stop-color=\"rgb(134, 39, 129)\" stop-opacity=\"1\"/><stop offset=\"38.82352941176471%\" stop-color=\"rgb(136, 39, 129)\" stop-opacity=\"1\"/><stop offset=\"39.21568627450981%\" stop-color=\"rgb(137, 40, 129)\" stop-opacity=\"1\"/><stop offset=\"39.6078431372549%\" stop-color=\"rgb(139, 41, 129)\" stop-opacity=\"1\"/><stop offset=\"40%\" stop-color=\"rgb(140, 41, 129)\" stop-opacity=\"1\"/><stop offset=\"40.3921568627451%\" stop-color=\"rgb(142, 42, 129)\" stop-opacity=\"1\"/><stop offset=\"40.78431372549019%\" stop-color=\"rgb(144, 42, 129)\" stop-opacity=\"1\"/><stop offset=\"41.17647058823529%\" stop-color=\"rgb(145, 43, 129)\" stop-opacity=\"1\"/><stop offset=\"41.568627450980394%\" stop-color=\"rgb(147, 43, 128)\" stop-opacity=\"1\"/><stop offset=\"41.96078431372549%\" stop-color=\"rgb(148, 44, 128)\" stop-opacity=\"1\"/><stop offset=\"42.35294117647059%\" stop-color=\"rgb(150, 44, 128)\" stop-opacity=\"1\"/><stop offset=\"42.745098039215684%\" stop-color=\"rgb(152, 45, 128)\" stop-opacity=\"1\"/><stop offset=\"43.13725490196079%\" stop-color=\"rgb(153, 45, 128)\" stop-opacity=\"1\"/><stop offset=\"43.529411764705884%\" stop-color=\"rgb(155, 46, 127)\" stop-opacity=\"1\"/><stop offset=\"43.92156862745098%\" stop-color=\"rgb(156, 46, 127)\" stop-opacity=\"1\"/><stop offset=\"44.31372549019608%\" stop-color=\"rgb(158, 47, 127)\" stop-opacity=\"1\"/><stop offset=\"44.70588235294118%\" stop-color=\"rgb(160, 47, 127)\" stop-opacity=\"1\"/><stop offset=\"45.09803921568628%\" stop-color=\"rgb(161, 48, 126)\" stop-opacity=\"1\"/><stop offset=\"45.490196078431374%\" stop-color=\"rgb(163, 48, 126)\" stop-opacity=\"1\"/><stop offset=\"45.88235294117647%\" stop-color=\"rgb(165, 49, 126)\" stop-opacity=\"1\"/><stop offset=\"46.27450980392157%\" stop-color=\"rgb(166, 49, 125)\" stop-opacity=\"1\"/><stop offset=\"46.666666666666664%\" stop-color=\"rgb(168, 50, 125)\" stop-opacity=\"1\"/><stop offset=\"47.05882352941176%\" stop-color=\"rgb(170, 51, 125)\" stop-opacity=\"1\"/><stop offset=\"47.45098039215686%\" stop-color=\"rgb(171, 51, 124)\" stop-opacity=\"1\"/><stop offset=\"47.84313725490196%\" stop-color=\"rgb(173, 52, 124)\" stop-opacity=\"1\"/><stop offset=\"48.23529411764706%\" stop-color=\"rgb(174, 52, 123)\" stop-opacity=\"1\"/><stop offset=\"48.627450980392155%\" stop-color=\"rgb(176, 53, 123)\" stop-opacity=\"1\"/><stop offset=\"49.01960784313725%\" stop-color=\"rgb(178, 53, 123)\" stop-opacity=\"1\"/><stop offset=\"49.411764705882355%\" stop-color=\"rgb(179, 54, 122)\" stop-opacity=\"1\"/><stop offset=\"49.80392156862745%\" stop-color=\"rgb(181, 54, 122)\" stop-opacity=\"1\"/><stop offset=\"50.19607843137255%\" stop-color=\"rgb(183, 55, 121)\" stop-opacity=\"1\"/><stop offset=\"50.588235294117645%\" stop-color=\"rgb(184, 55, 121)\" stop-opacity=\"1\"/><stop offset=\"50.98039215686274%\" stop-color=\"rgb(186, 56, 120)\" stop-opacity=\"1\"/><stop offset=\"51.37254901960784%\" stop-color=\"rgb(188, 57, 120)\" stop-opacity=\"1\"/><stop offset=\"51.76470588235295%\" stop-color=\"rgb(189, 57, 119)\" stop-opacity=\"1\"/><stop offset=\"52.156862745098046%\" stop-color=\"rgb(191, 58, 119)\" stop-opacity=\"1\"/><stop offset=\"52.54901960784314%\" stop-color=\"rgb(192, 58, 118)\" stop-opacity=\"1\"/><stop offset=\"52.94117647058824%\" stop-color=\"rgb(194, 59, 117)\" stop-opacity=\"1\"/><stop offset=\"53.333333333333336%\" stop-color=\"rgb(196, 60, 117)\" stop-opacity=\"1\"/><stop offset=\"53.72549019607843%\" stop-color=\"rgb(197, 60, 116)\" stop-opacity=\"1\"/><stop offset=\"54.11764705882353%\" stop-color=\"rgb(199, 61, 115)\" stop-opacity=\"1\"/><stop offset=\"54.509803921568626%\" stop-color=\"rgb(200, 62, 115)\" stop-opacity=\"1\"/><stop offset=\"54.90196078431373%\" stop-color=\"rgb(202, 62, 114)\" stop-opacity=\"1\"/><stop offset=\"55.294117647058826%\" stop-color=\"rgb(204, 63, 113)\" stop-opacity=\"1\"/><stop offset=\"55.68627450980392%\" stop-color=\"rgb(205, 64, 113)\" stop-opacity=\"1\"/><stop offset=\"56.07843137254902%\" stop-color=\"rgb(207, 64, 112)\" stop-opacity=\"1\"/><stop offset=\"56.470588235294116%\" stop-color=\"rgb(208, 65, 111)\" stop-opacity=\"1\"/><stop offset=\"56.86274509803921%\" stop-color=\"rgb(210, 66, 111)\" stop-opacity=\"1\"/><stop offset=\"57.25490196078431%\" stop-color=\"rgb(211, 67, 110)\" stop-opacity=\"1\"/><stop offset=\"57.647058823529406%\" stop-color=\"rgb(213, 68, 109)\" stop-opacity=\"1\"/><stop offset=\"58.03921568627452%\" stop-color=\"rgb(214, 69, 108)\" stop-opacity=\"1\"/><stop offset=\"58.43137254901961%\" stop-color=\"rgb(216, 69, 108)\" stop-opacity=\"1\"/><stop offset=\"58.82352941176471%\" stop-color=\"rgb(217, 70, 107)\" stop-opacity=\"1\"/><stop offset=\"59.21568627450981%\" stop-color=\"rgb(219, 71, 106)\" stop-opacity=\"1\"/><stop offset=\"59.6078431372549%\" stop-color=\"rgb(220, 72, 105)\" stop-opacity=\"1\"/><stop offset=\"60%\" stop-color=\"rgb(222, 73, 104)\" stop-opacity=\"1\"/><stop offset=\"60.3921568627451%\" stop-color=\"rgb(223, 74, 104)\" stop-opacity=\"1\"/><stop offset=\"60.78431372549019%\" stop-color=\"rgb(224, 76, 103)\" stop-opacity=\"1\"/><stop offset=\"61.1764705882353%\" stop-color=\"rgb(226, 77, 102)\" stop-opacity=\"1\"/><stop offset=\"61.568627450980394%\" stop-color=\"rgb(227, 78, 101)\" stop-opacity=\"1\"/><stop offset=\"61.96078431372549%\" stop-color=\"rgb(228, 79, 100)\" stop-opacity=\"1\"/><stop offset=\"62.35294117647059%\" stop-color=\"rgb(229, 80, 100)\" stop-opacity=\"1\"/><stop offset=\"62.745098039215684%\" stop-color=\"rgb(231, 82, 99)\" stop-opacity=\"1\"/><stop offset=\"63.13725490196078%\" stop-color=\"rgb(232, 83, 98)\" stop-opacity=\"1\"/><stop offset=\"63.52941176470588%\" stop-color=\"rgb(233, 84, 98)\" stop-opacity=\"1\"/><stop offset=\"63.921568627450974%\" stop-color=\"rgb(234, 86, 97)\" stop-opacity=\"1\"/><stop offset=\"64.31372549019608%\" stop-color=\"rgb(235, 87, 96)\" stop-opacity=\"1\"/><stop offset=\"64.70588235294117%\" stop-color=\"rgb(236, 88, 96)\" stop-opacity=\"1\"/><stop offset=\"65.09803921568627%\" stop-color=\"rgb(237, 90, 95)\" stop-opacity=\"1\"/><stop offset=\"65.49019607843137%\" stop-color=\"rgb(238, 91, 94)\" stop-opacity=\"1\"/><stop offset=\"65.88235294117646%\" stop-color=\"rgb(239, 93, 94)\" stop-opacity=\"1\"/><stop offset=\"66.27450980392156%\" stop-color=\"rgb(240, 95, 94)\" stop-opacity=\"1\"/><stop offset=\"66.66666666666666%\" stop-color=\"rgb(241, 96, 93)\" stop-opacity=\"1\"/><stop offset=\"67.05882352941175%\" stop-color=\"rgb(242, 98, 93)\" stop-opacity=\"1\"/><stop offset=\"67.45098039215686%\" stop-color=\"rgb(242, 100, 92)\" stop-opacity=\"1\"/><stop offset=\"67.84313725490196%\" stop-color=\"rgb(243, 101, 92)\" stop-opacity=\"1\"/><stop offset=\"68.23529411764706%\" stop-color=\"rgb(244, 103, 92)\" stop-opacity=\"1\"/><stop offset=\"68.62745098039215%\" stop-color=\"rgb(244, 105, 92)\" stop-opacity=\"1\"/><stop offset=\"69.01960784313725%\" stop-color=\"rgb(245, 107, 92)\" stop-opacity=\"1\"/><stop offset=\"69.41176470588235%\" stop-color=\"rgb(246, 108, 92)\" stop-opacity=\"1\"/><stop offset=\"69.80392156862744%\" stop-color=\"rgb(246, 110, 92)\" stop-opacity=\"1\"/><stop offset=\"70.19607843137254%\" stop-color=\"rgb(247, 112, 92)\" stop-opacity=\"1\"/><stop offset=\"70.58823529411765%\" stop-color=\"rgb(247, 114, 92)\" stop-opacity=\"1\"/><stop offset=\"70.98039215686275%\" stop-color=\"rgb(248, 116, 92)\" stop-opacity=\"1\"/><stop offset=\"71.37254901960785%\" stop-color=\"rgb(248, 118, 92)\" stop-opacity=\"1\"/><stop offset=\"71.76470588235294%\" stop-color=\"rgb(249, 120, 93)\" stop-opacity=\"1\"/><stop offset=\"72.15686274509804%\" stop-color=\"rgb(249, 121, 93)\" stop-opacity=\"1\"/><stop offset=\"72.54901960784314%\" stop-color=\"rgb(249, 123, 93)\" stop-opacity=\"1\"/><stop offset=\"72.94117647058823%\" stop-color=\"rgb(250, 125, 94)\" stop-opacity=\"1\"/><stop offset=\"73.33333333333333%\" stop-color=\"rgb(250, 127, 94)\" stop-opacity=\"1\"/><stop offset=\"73.72549019607844%\" stop-color=\"rgb(250, 129, 95)\" stop-opacity=\"1\"/><stop offset=\"74.11764705882354%\" stop-color=\"rgb(251, 131, 95)\" stop-opacity=\"1\"/><stop offset=\"74.50980392156863%\" stop-color=\"rgb(251, 133, 96)\" stop-opacity=\"1\"/><stop offset=\"74.90196078431373%\" stop-color=\"rgb(251, 135, 97)\" stop-opacity=\"1\"/><stop offset=\"75.29411764705883%\" stop-color=\"rgb(252, 137, 97)\" stop-opacity=\"1\"/><stop offset=\"75.68627450980392%\" stop-color=\"rgb(252, 138, 98)\" stop-opacity=\"1\"/><stop offset=\"76.07843137254902%\" stop-color=\"rgb(252, 140, 99)\" stop-opacity=\"1\"/><stop offset=\"76.47058823529412%\" stop-color=\"rgb(252, 142, 100)\" stop-opacity=\"1\"/><stop offset=\"76.86274509803923%\" stop-color=\"rgb(252, 144, 101)\" stop-opacity=\"1\"/><stop offset=\"77.25490196078432%\" stop-color=\"rgb(253, 146, 102)\" stop-opacity=\"1\"/><stop offset=\"77.64705882352942%\" stop-color=\"rgb(253, 148, 103)\" stop-opacity=\"1\"/><stop offset=\"78.03921568627452%\" stop-color=\"rgb(253, 150, 104)\" stop-opacity=\"1\"/><stop offset=\"78.43137254901961%\" stop-color=\"rgb(253, 152, 105)\" stop-opacity=\"1\"/><stop offset=\"78.82352941176471%\" stop-color=\"rgb(253, 154, 106)\" stop-opacity=\"1\"/><stop offset=\"79.2156862745098%\" stop-color=\"rgb(253, 155, 107)\" stop-opacity=\"1\"/><stop offset=\"79.6078431372549%\" stop-color=\"rgb(254, 157, 108)\" stop-opacity=\"1\"/><stop offset=\"80%\" stop-color=\"rgb(254, 159, 109)\" stop-opacity=\"1\"/><stop offset=\"80.3921568627451%\" stop-color=\"rgb(254, 161, 110)\" stop-opacity=\"1\"/><stop offset=\"80.7843137254902%\" stop-color=\"rgb(254, 163, 111)\" stop-opacity=\"1\"/><stop offset=\"81.17647058823529%\" stop-color=\"rgb(254, 165, 113)\" stop-opacity=\"1\"/><stop offset=\"81.56862745098039%\" stop-color=\"rgb(254, 167, 114)\" stop-opacity=\"1\"/><stop offset=\"81.96078431372548%\" stop-color=\"rgb(254, 169, 115)\" stop-opacity=\"1\"/><stop offset=\"82.35294117647058%\" stop-color=\"rgb(254, 170, 116)\" stop-opacity=\"1\"/><stop offset=\"82.74509803921568%\" stop-color=\"rgb(254, 172, 118)\" stop-opacity=\"1\"/><stop offset=\"83.13725490196079%\" stop-color=\"rgb(254, 174, 119)\" stop-opacity=\"1\"/><stop offset=\"83.52941176470588%\" stop-color=\"rgb(254, 176, 120)\" stop-opacity=\"1\"/><stop offset=\"83.92156862745098%\" stop-color=\"rgb(254, 178, 122)\" stop-opacity=\"1\"/><stop offset=\"84.31372549019608%\" stop-color=\"rgb(254, 180, 123)\" stop-opacity=\"1\"/><stop offset=\"84.70588235294117%\" stop-color=\"rgb(254, 182, 124)\" stop-opacity=\"1\"/><stop offset=\"85.09803921568627%\" stop-color=\"rgb(254, 183, 126)\" stop-opacity=\"1\"/><stop offset=\"85.49019607843137%\" stop-color=\"rgb(254, 185, 127)\" stop-opacity=\"1\"/><stop offset=\"85.88235294117646%\" stop-color=\"rgb(254, 187, 129)\" stop-opacity=\"1\"/><stop offset=\"86.27450980392157%\" stop-color=\"rgb(254, 189, 130)\" stop-opacity=\"1\"/><stop offset=\"86.66666666666667%\" stop-color=\"rgb(254, 191, 132)\" stop-opacity=\"1\"/><stop offset=\"87.05882352941177%\" stop-color=\"rgb(254, 193, 133)\" stop-opacity=\"1\"/><stop offset=\"87.45098039215686%\" stop-color=\"rgb(254, 194, 135)\" stop-opacity=\"1\"/><stop offset=\"87.84313725490196%\" stop-color=\"rgb(254, 196, 136)\" stop-opacity=\"1\"/><stop offset=\"88.23529411764706%\" stop-color=\"rgb(254, 198, 138)\" stop-opacity=\"1\"/><stop offset=\"88.62745098039215%\" stop-color=\"rgb(254, 200, 140)\" stop-opacity=\"1\"/><stop offset=\"89.01960784313725%\" stop-color=\"rgb(254, 202, 141)\" stop-opacity=\"1\"/><stop offset=\"89.41176470588236%\" stop-color=\"rgb(254, 204, 143)\" stop-opacity=\"1\"/><stop offset=\"89.80392156862746%\" stop-color=\"rgb(254, 205, 144)\" stop-opacity=\"1\"/><stop offset=\"90.19607843137256%\" stop-color=\"rgb(254, 207, 146)\" stop-opacity=\"1\"/><stop offset=\"90.58823529411765%\" stop-color=\"rgb(254, 209, 148)\" stop-opacity=\"1\"/><stop offset=\"90.98039215686275%\" stop-color=\"rgb(254, 211, 149)\" stop-opacity=\"1\"/><stop offset=\"91.37254901960785%\" stop-color=\"rgb(254, 213, 151)\" stop-opacity=\"1\"/><stop offset=\"91.76470588235294%\" stop-color=\"rgb(254, 215, 153)\" stop-opacity=\"1\"/><stop offset=\"92.15686274509804%\" stop-color=\"rgb(254, 216, 154)\" stop-opacity=\"1\"/><stop offset=\"92.54901960784314%\" stop-color=\"rgb(253, 218, 156)\" stop-opacity=\"1\"/><stop offset=\"92.94117647058823%\" stop-color=\"rgb(253, 220, 158)\" stop-opacity=\"1\"/><stop offset=\"93.33333333333333%\" stop-color=\"rgb(253, 222, 160)\" stop-opacity=\"1\"/><stop offset=\"93.72549019607843%\" stop-color=\"rgb(253, 224, 161)\" stop-opacity=\"1\"/><stop offset=\"94.11764705882352%\" stop-color=\"rgb(253, 226, 163)\" stop-opacity=\"1\"/><stop offset=\"94.50980392156862%\" stop-color=\"rgb(253, 227, 165)\" stop-opacity=\"1\"/><stop offset=\"94.90196078431372%\" stop-color=\"rgb(253, 229, 167)\" stop-opacity=\"1\"/><stop offset=\"95.29411764705881%\" stop-color=\"rgb(253, 231, 169)\" stop-opacity=\"1\"/><stop offset=\"95.68627450980392%\" stop-color=\"rgb(253, 233, 170)\" stop-opacity=\"1\"/><stop offset=\"96.07843137254902%\" stop-color=\"rgb(253, 235, 172)\" stop-opacity=\"1\"/><stop offset=\"96.47058823529412%\" stop-color=\"rgb(252, 236, 174)\" stop-opacity=\"1\"/><stop offset=\"96.86274509803921%\" stop-color=\"rgb(252, 238, 176)\" stop-opacity=\"1\"/><stop offset=\"97.25490196078431%\" stop-color=\"rgb(252, 240, 178)\" stop-opacity=\"1\"/><stop offset=\"97.6470588235294%\" stop-color=\"rgb(252, 242, 180)\" stop-opacity=\"1\"/><stop offset=\"98.0392156862745%\" stop-color=\"rgb(252, 244, 182)\" stop-opacity=\"1\"/><stop offset=\"98.4313725490196%\" stop-color=\"rgb(252, 246, 184)\" stop-opacity=\"1\"/><stop offset=\"98.82352941176471%\" stop-color=\"rgb(252, 247, 185)\" stop-opacity=\"1\"/><stop offset=\"99.2156862745098%\" stop-color=\"rgb(252, 249, 187)\" stop-opacity=\"1\"/><stop offset=\"99.6078431372549%\" stop-color=\"rgb(252, 251, 189)\" stop-opacity=\"1\"/><stop offset=\"100%\" stop-color=\"rgb(252, 253, 191)\" stop-opacity=\"1\"/></linearGradient></g></defs><g class=\"bglayer\"/><g class=\"layer-below\"><g class=\"imagelayer\"/><g class=\"shapelayer\"/></g><g class=\"cartesianlayer\"><g class=\"subplot xy\"><g class=\"layer-subplot\"><g class=\"shapelayer\"/><g class=\"imagelayer\"/></g><g class=\"gridlayer\"><g class=\"x\"/><g class=\"y\"/></g><g class=\"zerolinelayer\"/><path class=\"xlines-below\"/><path class=\"ylines-below\"/><g class=\"overlines-below\"/><g class=\"xaxislayer-below\"/><g class=\"yaxislayer-below\"/><g class=\"overaxes-below\"/><g class=\"plot\" transform=\"translate(332.26732673267327,60)\" clip-path=\"url('#clip7de5a0xyplot')\"><g class=\"heatmaplayer mlayer\"><g class=\"hm\"><image xmlns=\"http://www.w3.org/2000/svg\" preserveAspectRatio=\"none\" height=\"277\" width=\"277\" x=\"0\" y=\"36.59\" xlink:href=\"data:image/png;base64,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\" style=\"opacity: 1;\"/></g></g></g><g class=\"overplot\"/><path class=\"xlines-above crisp\" d=\"M0,0\" style=\"fill: none;\"/><path class=\"ylines-above crisp\" d=\"M0,0\" style=\"fill: none;\"/><g class=\"overlines-above\"/><g class=\"xaxislayer-above\"/><g class=\"yaxislayer-above\"/><g class=\"overaxes-above\"/></g><g class=\"subplot x2y\"><g class=\"layer-subplot\"><g class=\"shapelayer\"/><g class=\"imagelayer\"/></g><g class=\"gridlayer\"><g class=\"x2\"><path class=\"x2grid crisp\" transform=\"translate(104.44,0)\" d=\"M0,60v390\" style=\"stroke: rgb(238, 238, 238); stroke-opacity: 1; stroke-width: 1px;\"/><path class=\"x2grid crisp\" transform=\"translate(160.01,0)\" d=\"M0,60v390\" style=\"stroke: rgb(238, 238, 238); stroke-opacity: 1; stroke-width: 1px;\"/><path class=\"x2grid crisp\" transform=\"translate(215.58,0)\" d=\"M0,60v390\" style=\"stroke: rgb(238, 238, 238); stroke-opacity: 1; stroke-width: 1px;\"/><path class=\"x2grid crisp\" transform=\"translate(271.15999999999997,0)\" d=\"M0,60v390\" style=\"stroke: rgb(238, 238, 238); stroke-opacity: 1; stroke-width: 1px;\"/></g><g class=\"y\"/></g><g class=\"zerolinelayer\"><path class=\"x2zl zl crisp\" transform=\"translate(326.73,0)\" d=\"M0,60v390\" style=\"stroke: rgb(68, 68, 68); stroke-opacity: 1; stroke-width: 1px;\"/></g><path class=\"xlines-below\"/><path class=\"ylines-below\"/><g class=\"overlines-below\"/><g class=\"xaxislayer-below\"/><g class=\"yaxislayer-below\"/><g class=\"overaxes-below\"/><g class=\"plot\" transform=\"translate(50,60)\" clip-path=\"url('#clip7de5a0x2yplot')\"><g class=\"scatterlayer mlayer\"><g class=\"trace scatter trace9b34d8\" style=\"stroke-miterlimit: 2; opacity: 1;\"><g class=\"fills\"/><g class=\"errorbars\"/><g class=\"lines\"><path class=\"js-line\" d=\"M276.68,304.1L276.68,285.65\" style=\"vector-effect: non-scaling-stroke; fill: none; stroke: rgb(102, 102, 102); stroke-opacity: 1; stroke-width: 2px; opacity: 1;\"/></g><g class=\"points\"/><g class=\"text\"/></g><g class=\"trace scatter trace60bfd3\" style=\"stroke-miterlimit: 2; opacity: 1;\"><g class=\"fills\"/><g class=\"errorbars\"/><g class=\"lines\"><path class=\"js-line\" d=\"M251.95,257.98L251.95,230.3\" style=\"vector-effect: non-scaling-stroke; fill: none; stroke: rgb(102, 102, 102); stroke-opacity: 1; stroke-width: 2px; opacity: 1;\"/><path class=\"js-line\" d=\"M251.95,257.98L262.48,257.98\" style=\"vector-effect: non-scaling-stroke; fill: none; stroke: rgb(102, 102, 102); stroke-opacity: 1; stroke-width: 2px; opacity: 1;\"/><path class=\"js-line\" d=\"M251.95,230.3L276.73,230.3\" style=\"vector-effect: non-scaling-stroke; fill: none; stroke: rgb(102, 102, 102); stroke-opacity: 1; stroke-width: 2px; opacity: 1;\"/></g><g class=\"points\"/><g class=\"text\"/></g><g class=\"trace scatter trace164c03\" style=\"stroke-miterlimit: 2; opacity: 1;\"><g class=\"fills\"/><g class=\"errorbars\"/><g class=\"lines\"><path class=\"js-line\" d=\"M165.76,82.14L165.76,45.82\" style=\"vector-effect: non-scaling-stroke; fill: none; stroke: rgb(102, 102, 102); stroke-opacity: 1; stroke-width: 2px; opacity: 1;\"/><path class=\"js-line\" d=\"M165.76,82.14L169.24,82.14\" style=\"vector-effect: non-scaling-stroke; fill: none; stroke: rgb(102, 102, 102); stroke-opacity: 1; stroke-width: 2px; opacity: 1;\"/><path class=\"js-line\" d=\"M165.76,45.82L276.73,45.82\" style=\"vector-effect: non-scaling-stroke; fill: none; stroke: rgb(102, 102, 102); stroke-opacity: 1; stroke-width: 2px; opacity: 1;\"/></g><g class=\"points\"/><g class=\"text\"/></g><g class=\"trace scatter trace667b9e\" style=\"stroke-miterlimit: 2; opacity: 1;\"><g class=\"fills\"/><g class=\"errorbars\"/><g class=\"lines\"><path class=\"js-line\" d=\"M169.24,100.01L169.24,64.26\" style=\"vector-effect: non-scaling-stroke; fill: none; stroke: rgb(102, 102, 102); stroke-opacity: 1; stroke-width: 2px; opacity: 1;\"/><path class=\"js-line\" d=\"M169.24,100.01L187.09,100.01\" style=\"vector-effect: non-scaling-stroke; fill: none; stroke: rgb(102, 102, 102); stroke-opacity: 1; stroke-width: 2px; opacity: 1;\"/><path class=\"js-line\" d=\"M169.24,64.26L276.73,64.26\" style=\"vector-effect: non-scaling-stroke; fill: none; stroke: rgb(102, 102, 102); stroke-opacity: 1; stroke-width: 2px; opacity: 1;\"/></g><g class=\"points\"/><g class=\"text\"/></g><g class=\"trace scatter tracecf1721\" style=\"stroke-miterlimit: 2; opacity: 1;\"><g class=\"fills\"/><g class=\"errorbars\"/><g class=\"lines\"><path class=\"js-line\" d=\"M18.84,294.87L18.84,176.04\" style=\"vector-effect: non-scaling-stroke; fill: none; stroke: rgb(102, 102, 102); stroke-opacity: 1; stroke-width: 2px; opacity: 1;\"/><path class=\"js-line\" d=\"M18.84,294.87L276.68,294.87\" style=\"vector-effect: non-scaling-stroke; fill: none; stroke: rgb(102, 102, 102); stroke-opacity: 1; stroke-width: 2px; opacity: 1;\"/><path class=\"js-line\" d=\"M18.84,176.04L87.78,176.04\" style=\"vector-effect: non-scaling-stroke; fill: none; stroke: rgb(102, 102, 102); stroke-opacity: 1; stroke-width: 2px; opacity: 1;\"/></g><g class=\"points\"/><g class=\"text\"/></g><g class=\"trace scatter trace180a0f\" style=\"stroke-miterlimit: 2; opacity: 1;\"><g class=\"fills\"/><g class=\"errorbars\"/><g class=\"lines\"><path class=\"js-line\" d=\"M272.52,133.45L272.52,101.16\" style=\"vector-effect: non-scaling-stroke; fill: none; stroke: rgb(102, 102, 102); stroke-opacity: 1; stroke-width: 2px; opacity: 1;\"/><path class=\"js-line\" d=\"M272.52,133.45L275.7,133.45\" style=\"vector-effect: non-scaling-stroke; fill: none; stroke: rgb(102, 102, 102); stroke-opacity: 1; stroke-width: 2px; opacity: 1;\"/><path class=\"js-line\" d=\"M272.52,101.16L276.73,101.16\" style=\"vector-effect: non-scaling-stroke; fill: none; stroke: rgb(102, 102, 102); stroke-opacity: 1; stroke-width: 2px; opacity: 1;\"/></g><g class=\"points\"/><g class=\"text\"/></g><g class=\"trace scatter tracebeef4a\" style=\"stroke-miterlimit: 2; opacity: 1;\"><g class=\"fills\"/><g class=\"errorbars\"/><g class=\"lines\"><path class=\"js-line\" d=\"M276,156.51L276,138.06\" style=\"vector-effect: non-scaling-stroke; fill: none; stroke: rgb(102, 102, 102); stroke-opacity: 1; stroke-width: 2px; opacity: 1;\"/><path class=\"js-line\" d=\"M276,156.51L276.73,156.51\" style=\"vector-effect: non-scaling-stroke; fill: none; stroke: rgb(102, 102, 102); stroke-opacity: 1; stroke-width: 2px; opacity: 1;\"/><path class=\"js-line\" d=\"M276,138.06L276.73,138.06\" style=\"vector-effect: non-scaling-stroke; fill: none; stroke: rgb(102, 102, 102); stroke-opacity: 1; stroke-width: 2px; opacity: 1;\"/></g><g class=\"points\"/><g class=\"text\"/></g><g class=\"trace scatter trace4f8c60\" style=\"stroke-miterlimit: 2; opacity: 1;\"><g class=\"fills\"/><g class=\"errorbars\"/><g class=\"lines\"><path class=\"js-line\" d=\"M218.51,244.14L218.51,211.85\" style=\"vector-effect: non-scaling-stroke; fill: none; stroke: rgb(102, 102, 102); stroke-opacity: 1; stroke-width: 2px; opacity: 1;\"/><path class=\"js-line\" d=\"M218.51,244.14L251.95,244.14\" style=\"vector-effect: non-scaling-stroke; fill: none; stroke: rgb(102, 102, 102); stroke-opacity: 1; stroke-width: 2px; opacity: 1;\"/><path class=\"js-line\" d=\"M218.51,211.85L276.73,211.85\" style=\"vector-effect: non-scaling-stroke; fill: none; stroke: rgb(102, 102, 102); stroke-opacity: 1; stroke-width: 2px; opacity: 1;\"/></g><g class=\"points\"/><g class=\"text\"/></g><g class=\"trace scatter trace2f8bee\" style=\"stroke-miterlimit: 2; opacity: 1;\"><g class=\"fills\"/><g class=\"errorbars\"/><g class=\"lines\"><path class=\"js-line\" d=\"M187.09,117.3L187.09,82.71\" style=\"vector-effect: non-scaling-stroke; fill: none; stroke: rgb(102, 102, 102); stroke-opacity: 1; stroke-width: 2px; opacity: 1;\"/><path class=\"js-line\" d=\"M187.09,117.3L272.52,117.3\" style=\"vector-effect: non-scaling-stroke; fill: none; stroke: rgb(102, 102, 102); stroke-opacity: 1; stroke-width: 2px; opacity: 1;\"/><path class=\"js-line\" d=\"M187.09,82.71L276.73,82.71\" style=\"vector-effect: non-scaling-stroke; fill: none; stroke: rgb(102, 102, 102); stroke-opacity: 1; stroke-width: 2px; opacity: 1;\"/></g><g class=\"points\"/><g class=\"text\"/></g><g class=\"trace scatter traceb5c7f2\" style=\"stroke-miterlimit: 2; opacity: 1;\"><g class=\"fills\"/><g class=\"errorbars\"/><g class=\"lines\"><path class=\"js-line\" d=\"M87.78,228L87.78,124.08\" style=\"vector-effect: non-scaling-stroke; fill: none; stroke: rgb(102, 102, 102); stroke-opacity: 1; stroke-width: 2px; opacity: 1;\"/><path class=\"js-line\" d=\"M87.78,228L218.51,228\" style=\"vector-effect: non-scaling-stroke; fill: none; stroke: rgb(102, 102, 102); stroke-opacity: 1; stroke-width: 2px; opacity: 1;\"/><path class=\"js-line\" d=\"M87.78,124.08L114.1,124.08\" style=\"vector-effect: non-scaling-stroke; fill: none; stroke: rgb(102, 102, 102); stroke-opacity: 1; stroke-width: 2px; opacity: 1;\"/></g><g class=\"points\"/><g class=\"text\"/></g><g class=\"trace scatter trace91fc71\" style=\"stroke-miterlimit: 2; opacity: 1;\"><g class=\"fills\"/><g class=\"errorbars\"/><g class=\"lines\"><path class=\"js-line\" d=\"M262.48,267.2L262.48,248.75\" style=\"vector-effect: non-scaling-stroke; fill: none; stroke: rgb(102, 102, 102); stroke-opacity: 1; stroke-width: 2px; opacity: 1;\"/><path class=\"js-line\" d=\"M262.48,267.2L276.73,267.2\" style=\"vector-effect: non-scaling-stroke; fill: none; stroke: rgb(102, 102, 102); stroke-opacity: 1; stroke-width: 2px; opacity: 1;\"/><path class=\"js-line\" d=\"M262.48,248.75L276.73,248.75\" style=\"vector-effect: non-scaling-stroke; fill: none; stroke: rgb(102, 102, 102); stroke-opacity: 1; stroke-width: 2px; opacity: 1;\"/></g><g class=\"points\"/><g class=\"text\"/></g><g class=\"trace scatter trace2f2ac5\" style=\"stroke-miterlimit: 2; opacity: 1;\"><g class=\"fills\"/><g class=\"errorbars\"/><g class=\"lines\"><path class=\"js-line\" d=\"M187.64,193.41L187.64,174.96\" style=\"vector-effect: non-scaling-stroke; fill: none; stroke: rgb(102, 102, 102); stroke-opacity: 1; stroke-width: 2px; opacity: 1;\"/><path class=\"js-line\" d=\"M187.64,193.41L276.73,193.41\" style=\"vector-effect: non-scaling-stroke; fill: none; stroke: rgb(102, 102, 102); stroke-opacity: 1; stroke-width: 2px; opacity: 1;\"/><path class=\"js-line\" d=\"M187.64,174.96L276.73,174.96\" style=\"vector-effect: non-scaling-stroke; fill: none; stroke: rgb(102, 102, 102); stroke-opacity: 1; stroke-width: 2px; opacity: 1;\"/></g><g class=\"points\"/><g class=\"text\"/></g><g class=\"trace scatter trace5969fb\" style=\"stroke-miterlimit: 2; opacity: 1;\"><g class=\"fills\"/><g class=\"errorbars\"/><g class=\"lines\"><path class=\"js-line\" d=\"M114.1,184.18L114.1,63.98\" style=\"vector-effect: non-scaling-stroke; fill: none; stroke: rgb(102, 102, 102); stroke-opacity: 1; stroke-width: 2px; opacity: 1;\"/><path class=\"js-line\" d=\"M114.1,184.18L187.64,184.18\" style=\"vector-effect: non-scaling-stroke; fill: none; stroke: rgb(102, 102, 102); stroke-opacity: 1; stroke-width: 2px; opacity: 1;\"/><path class=\"js-line\" d=\"M114.1,63.98L165.76,63.98\" style=\"vector-effect: non-scaling-stroke; fill: none; stroke: rgb(102, 102, 102); stroke-opacity: 1; stroke-width: 2px; opacity: 1;\"/></g><g class=\"points\"/><g class=\"text\"/></g><g class=\"trace scatter tracee3850f\" style=\"stroke-miterlimit: 2; opacity: 1;\"><g class=\"fills\"/><g class=\"errorbars\"/><g class=\"lines\"><path class=\"js-line\" d=\"M275.7,147.28L275.7,119.61\" style=\"vector-effect: non-scaling-stroke; fill: none; stroke: rgb(102, 102, 102); stroke-opacity: 1; stroke-width: 2px; opacity: 1;\"/><path class=\"js-line\" d=\"M275.7,147.28L276,147.28\" style=\"vector-effect: non-scaling-stroke; fill: none; stroke: rgb(102, 102, 102); stroke-opacity: 1; stroke-width: 2px; opacity: 1;\"/><path class=\"js-line\" d=\"M275.7,119.61L276.73,119.61\" style=\"vector-effect: non-scaling-stroke; fill: none; stroke: rgb(102, 102, 102); stroke-opacity: 1; stroke-width: 2px; opacity: 1;\"/></g><g class=\"points\"/><g class=\"text\"/></g><g class=\"trace scatter traceff473d\" style=\"stroke-miterlimit: 2; opacity: 1;\"><g class=\"fills\"/><g class=\"errorbars\"/><g class=\"lines\"/><g class=\"points\"><path class=\"point plotly-customdata\" transform=\"translate(275.7,133.45)\" d=\"M4,0A4,4 0 1,1 0,-4A4,4 0 0,1 4,0Z\" style=\"opacity: 0.7; stroke-width: 1px; fill: rgb(102, 102, 102); fill-opacity: 1; stroke: rgb(255, 255, 255); stroke-opacity: 1;\"/><path class=\"point plotly-customdata\" transform=\"translate(276.68,294.87)\" d=\"M4,0A4,4 0 1,1 0,-4A4,4 0 0,1 4,0Z\" style=\"opacity: 0.7; stroke-width: 1px; fill: rgb(102, 102, 102); fill-opacity: 1; stroke: rgb(255, 255, 255); stroke-opacity: 1;\"/><path class=\"point plotly-customdata\" transform=\"translate(251.95,244.14)\" d=\"M4,0A4,4 0 1,1 0,-4A4,4 0 0,1 4,0Z\" style=\"opacity: 0.7; stroke-width: 1px; fill: rgb(102, 102, 102); fill-opacity: 1; stroke: rgb(255, 255, 255); stroke-opacity: 1;\"/><path class=\"point plotly-customdata\" transform=\"translate(165.76,63.98)\" d=\"M4,0A4,4 0 1,1 0,-4A4,4 0 0,1 4,0Z\" style=\"opacity: 0.7; stroke-width: 1px; fill: rgb(102, 102, 102); fill-opacity: 1; stroke: rgb(255, 255, 255); stroke-opacity: 1;\"/><path class=\"point plotly-customdata\" transform=\"translate(169.24,82.14)\" d=\"M2,0A2,2 0 1,1 0,-2A2,2 0 0,1 2,0Z\" style=\"opacity: 0.7; stroke-width: 1px; fill: rgb(102, 102, 102); fill-opacity: 1; stroke: rgb(255, 255, 255); stroke-opacity: 1;\"/><path class=\"point plotly-customdata\" transform=\"translate(18.84,235.46)\" d=\"M4,0A4,4 0 1,1 0,-4A4,4 0 0,1 4,0Z\" style=\"opacity: 0.7; stroke-width: 1px; fill: rgb(102, 102, 102); fill-opacity: 1; stroke: rgb(255, 255, 255); stroke-opacity: 1;\"/><path class=\"point plotly-customdata\" transform=\"translate(272.52,117.3)\" d=\"M4,0A4,4 0 1,1 0,-4A4,4 0 0,1 4,0Z\" style=\"opacity: 0.7; stroke-width: 1px; fill: rgb(102, 102, 102); fill-opacity: 1; stroke: rgb(255, 255, 255); stroke-opacity: 1;\"/><path class=\"point plotly-customdata\" transform=\"translate(276,147.28)\" d=\"M4,0A4,4 0 1,1 0,-4A4,4 0 0,1 4,0Z\" style=\"opacity: 0.7; stroke-width: 1px; fill: rgb(102, 102, 102); fill-opacity: 1; stroke: rgb(255, 255, 255); stroke-opacity: 1;\"/><path class=\"point plotly-customdata\" transform=\"translate(218.51,228)\" d=\"M4,0A4,4 0 1,1 0,-4A4,4 0 0,1 4,0Z\" style=\"opacity: 0.7; stroke-width: 1px; fill: rgb(102, 102, 102); fill-opacity: 1; stroke: rgb(255, 255, 255); stroke-opacity: 1;\"/><path class=\"point plotly-customdata\" transform=\"translate(187.09,100.01)\" d=\"M4,0A4,4 0 1,1 0,-4A4,4 0 0,1 4,0Z\" style=\"opacity: 0.7; stroke-width: 1px; fill: rgb(102, 102, 102); fill-opacity: 1; stroke: rgb(255, 255, 255); stroke-opacity: 1;\"/><path class=\"point plotly-customdata\" transform=\"translate(87.78,176.04)\" d=\"M4,0A4,4 0 1,1 0,-4A4,4 0 0,1 4,0Z\" style=\"opacity: 0.7; stroke-width: 1px; fill: rgb(102, 102, 102); fill-opacity: 1; stroke: rgb(255, 255, 255); stroke-opacity: 1;\"/><path class=\"point plotly-customdata\" transform=\"translate(262.48,257.98)\" d=\"M4,0A4,4 0 1,1 0,-4A4,4 0 0,1 4,0Z\" style=\"opacity: 0.7; stroke-width: 1px; fill: rgb(102, 102, 102); fill-opacity: 1; stroke: rgb(255, 255, 255); stroke-opacity: 1;\"/><path class=\"point plotly-customdata\" transform=\"translate(187.64,184.18)\" d=\"M4,0A4,4 0 1,1 0,-4A4,4 0 0,1 4,0Z\" style=\"opacity: 0.7; stroke-width: 1px; fill: rgb(102, 102, 102); fill-opacity: 1; stroke: rgb(255, 255, 255); stroke-opacity: 1;\"/><path class=\"point plotly-customdata\" transform=\"translate(114.1,124.08)\" d=\"M4,0A4,4 0 1,1 0,-4A4,4 0 0,1 4,0Z\" style=\"opacity: 0.7; stroke-width: 1px; fill: rgb(102, 102, 102); fill-opacity: 1; stroke: rgb(255, 255, 255); stroke-opacity: 1;\"/></g><g class=\"text\"/></g><g class=\"trace scatter trace698b89\" style=\"stroke-miterlimit: 2; opacity: 1;\"><g class=\"fills\"/><g class=\"errorbars\"/><g class=\"lines\"/><g class=\"points\"><path class=\"point\" transform=\"translate(43.61,341)\" d=\"M0,4.2V-4.2\" style=\"opacity: 1; stroke-width: 1px; fill: rgb(0, 128, 0); fill-opacity: 1; stroke: rgb(0, 128, 0); stroke-opacity: 1;\"/><path class=\"point\" transform=\"translate(30.36,341)\" d=\"M0,4.2V-4.2\" style=\"opacity: 1; stroke-width: 1px; fill: rgb(0, 128, 0); fill-opacity: 1; stroke: rgb(0, 128, 0); stroke-opacity: 1;\"/><path class=\"point\" transform=\"translate(27.28,341)\" d=\"M0,4.2V-4.2\" style=\"opacity: 1; stroke-width: 1px; fill: rgb(0, 128, 0); fill-opacity: 1; stroke: rgb(0, 128, 0); stroke-opacity: 1;\"/></g><g class=\"text\"/></g></g></g><g class=\"overplot\"/><path class=\"xlines-above crisp\" d=\"M0,0\" style=\"fill: none;\"/><path class=\"ylines-above crisp\" d=\"M0,0\" style=\"fill: none;\"/><g class=\"overlines-above\"/><g class=\"xaxislayer-above\"><g class=\"x2tick\"><text text-anchor=\"middle\" x=\"0\" y=\"463\" transform=\"translate(104.44,0)\" style=\"font-family: 'Open Sans', verdana, arial, sans-serif; font-size: 12px; fill: rgb(68, 68, 68); fill-opacity: 1; white-space: pre;\">0.8</text></g><g class=\"x2tick\"><text text-anchor=\"middle\" x=\"0\" y=\"463\" transform=\"translate(160.01,0)\" style=\"font-family: 'Open Sans', verdana, arial, sans-serif; font-size: 12px; fill: rgb(68, 68, 68); fill-opacity: 1; white-space: pre;\">0.6</text></g><g class=\"x2tick\"><text text-anchor=\"middle\" x=\"0\" y=\"463\" transform=\"translate(215.58,0)\" style=\"font-family: 'Open Sans', verdana, arial, sans-serif; font-size: 12px; fill: rgb(68, 68, 68); fill-opacity: 1; white-space: pre;\">0.4</text></g><g class=\"x2tick\"><text text-anchor=\"middle\" x=\"0\" y=\"463\" transform=\"translate(271.15999999999997,0)\" style=\"font-family: 'Open Sans', verdana, arial, sans-serif; font-size: 12px; fill: rgb(68, 68, 68); fill-opacity: 1; white-space: pre;\">0.2</text></g><g class=\"x2tick\"><text text-anchor=\"middle\" x=\"0\" y=\"463\" transform=\"translate(326.73,0)\" style=\"font-family: 'Open Sans', verdana, arial, sans-serif; font-size: 12px; fill: rgb(68, 68, 68); fill-opacity: 1; white-space: pre;\">0</text></g></g><g class=\"yaxislayer-above\"/><g class=\"overaxes-above\"/></g></g><g class=\"polarlayer\"/><g class=\"ternarylayer\"/><g class=\"geolayer\"/><g class=\"funnelarealayer\"/><g class=\"pielayer\"/><g class=\"treemaplayer\"/><g class=\"sunburstlayer\"/><g class=\"glimages\"/><defs id=\"topdefs-7de5a0\"><g class=\"clips\"/></defs><g class=\"layer-above\"><g class=\"imagelayer\"/><g class=\"shapelayer\"/></g><g class=\"infolayer\"><g class=\"cbc863f7 colorbar\" transform=\"translate(50,60)\"><rect class=\"cbbg\" x=\"569.5\" y=\"-0.5\" width=\"68.03125\" height=\"391\" style=\"fill: rgb(0, 0, 0); fill-opacity: 0; stroke: rgb(68, 68, 68); stroke-opacity: 1; stroke-width: 0;\"/><g class=\"cbfills\" transform=\"translate(0,10)\"><rect class=\"cbfill\" x=\"580\" width=\"30\" y=\"0\" height=\"370\" style=\"fill: url('#g7de5a0-cbc863f7');\"/></g><g class=\"cblines\" transform=\"translate(0,10)\"/><g class=\"cbaxis crisp\" transform=\"translate(0,-60)\"><g class=\"ycbc863f7tick\"><text text-anchor=\"start\" x=\"613.4\" y=\"4.199999999999999\" transform=\"translate(0,440)\" style=\"font-family: 'Open Sans', verdana, arial, sans-serif; font-size: 12px; fill: rgb(68, 68, 68); fill-opacity: 1; white-space: pre;\">0</text></g><g class=\"ycbc863f7tick\"><text text-anchor=\"start\" x=\"613.4\" y=\"4.199999999999999\" transform=\"translate(0,400.13)\" style=\"font-family: 'Open Sans', verdana, arial, sans-serif; font-size: 12px; fill: rgb(68, 68, 68); fill-opacity: 1; white-space: pre;\">0.1</text></g><g class=\"ycbc863f7tick\"><text text-anchor=\"start\" x=\"613.4\" y=\"4.199999999999999\" transform=\"translate(0,360.27)\" style=\"font-family: 'Open Sans', verdana, arial, sans-serif; font-size: 12px; fill: rgb(68, 68, 68); fill-opacity: 1; white-space: pre;\">0.2</text></g><g class=\"ycbc863f7tick\"><text text-anchor=\"start\" x=\"613.4\" y=\"4.199999999999999\" transform=\"translate(0,320.4)\" style=\"font-family: 'Open Sans', verdana, arial, sans-serif; font-size: 12px; fill: rgb(68, 68, 68); fill-opacity: 1; white-space: pre;\">0.3</text></g><g class=\"ycbc863f7tick\"><text text-anchor=\"start\" x=\"613.4\" y=\"4.199999999999999\" transform=\"translate(0,280.53999999999996)\" style=\"font-family: 'Open Sans', verdana, arial, sans-serif; font-size: 12px; fill: rgb(68, 68, 68); fill-opacity: 1; white-space: pre;\">0.4</text></g><g class=\"ycbc863f7tick\"><text text-anchor=\"start\" x=\"613.4\" y=\"4.199999999999999\" transform=\"translate(0,240.67)\" style=\"font-family: 'Open Sans', verdana, arial, sans-serif; font-size: 12px; fill: rgb(68, 68, 68); fill-opacity: 1; white-space: pre;\">0.5</text></g><g class=\"ycbc863f7tick\"><text text-anchor=\"start\" x=\"613.4\" y=\"4.199999999999999\" transform=\"translate(0,200.81)\" style=\"font-family: 'Open Sans', verdana, arial, sans-serif; font-size: 12px; fill: rgb(68, 68, 68); fill-opacity: 1; white-space: pre;\">0.6</text></g><g class=\"ycbc863f7tick\"><text text-anchor=\"start\" x=\"613.4\" y=\"4.199999999999999\" transform=\"translate(0,160.94)\" style=\"font-family: 'Open Sans', verdana, arial, sans-serif; font-size: 12px; fill: rgb(68, 68, 68); fill-opacity: 1; white-space: pre;\">0.7</text></g><g class=\"ycbc863f7tick\"><text text-anchor=\"start\" x=\"613.4\" y=\"4.199999999999999\" transform=\"translate(0,121.07)\" style=\"font-family: 'Open Sans', verdana, arial, sans-serif; font-size: 12px; fill: rgb(68, 68, 68); fill-opacity: 1; white-space: pre;\">0.8</text></g><g class=\"ycbc863f7tick\"><text text-anchor=\"start\" x=\"613.4\" y=\"4.199999999999999\" transform=\"translate(0,81.21000000000001)\" style=\"font-family: 'Open Sans', verdana, arial, sans-serif; font-size: 12px; fill: rgb(68, 68, 68); fill-opacity: 1; white-space: pre;\">0.9</text></g></g><g class=\"cbtitleunshift\" transform=\"translate(-50,-60)\"><g class=\"cbtitle\"/></g><rect class=\"cboutline\" x=\"580\" y=\"10\" width=\"30\" height=\"370\" style=\"stroke: rgb(68, 68, 68); stroke-opacity: 1; fill: none; stroke-width: 1;\"/></g><g class=\"g-gtitle\"/><g class=\"g-x2title\"/></g></svg>"
      ],
      "text/html": [
       "<div\n",
       "    class=\"webio-mountpoint\"\n",
       "    data-webio-mountpoint=\"6994219993687194502\"\n",
       ">\n",
       "    <script>\n",
       "    if (window.require && require.defined && require.defined(\"nbextensions/webio-jupyter-notebook\")) {\n",
       "        console.log(\"Jupyter WebIO extension detected, not mounting.\");\n",
       "    } else if (window.WebIO) {\n",
       "        WebIO.mount(\n",
       "            document.querySelector('[data-webio-mountpoint=\"6994219993687194502\"]'),\n",
       "            {\"props\":{},\"nodeType\":\"Scope\",\"type\":\"node\",\"instanceArgs\":{\"imports\":{\"data\":[{\"name\":\"Plotly\",\"type\":\"js\",\"url\":\"\\/assetserver\\/e6903599031aaef8675931dfcd7df98a1aeffbfc-plotly-latest.min.js\"},{\"name\":null,\"type\":\"js\",\"url\":\"\\/assetserver\\/74a5dea81f21b0b802ef1ee92f1c8a504eac1a0c-plotly_webio.bundle.js\"}],\"type\":\"async_block\"},\"id\":\"4281267310635842949\",\"handlers\":{\"_toImage\":[\"(function (options){return this.Plotly.toImage(this.plotElem,options).then((function (data){return WebIO.setval({\\\"name\\\":\\\"image\\\",\\\"scope\\\":\\\"4281267310635842949\\\",\\\"id\\\":\\\"15966981371435470864\\\",\\\"type\\\":\\\"observable\\\"},data)}))})\"],\"__get_gd_contents\":[\"(function (prop){prop==\\\"data\\\" ? (WebIO.setval({\\\"name\\\":\\\"__gd_contents\\\",\\\"scope\\\":\\\"4281267310635842949\\\",\\\"id\\\":\\\"8562493874653417346\\\",\\\"type\\\":\\\"observable\\\"},this.plotElem.data)) : undefined; return prop==\\\"layout\\\" ? (WebIO.setval({\\\"name\\\":\\\"__gd_contents\\\",\\\"scope\\\":\\\"4281267310635842949\\\",\\\"id\\\":\\\"8562493874653417346\\\",\\\"type\\\":\\\"observable\\\"},this.plotElem.layout)) : undefined})\"],\"_downloadImage\":[\"(function (options){return this.Plotly.downloadImage(this.plotElem,options)})\"],\"_commands\":[\"(function (args){var fn=args.shift(); var elem=this.plotElem; var Plotly=this.Plotly; args.unshift(elem); return Plotly[fn].apply(this,args)})\"]},\"systemjs_options\":null,\"mount_callbacks\":[\"function () {\\n    var handler = ((function (Plotly,PlotlyWebIO){PlotlyWebIO.init(WebIO); var gd=this.dom.querySelector(\\\"#plot-2f14856b-0a17-4171-987d-03a96beb586f\\\"); this.plotElem=gd; this.Plotly=Plotly; (window.Blink!==undefined) ? (gd.style.width=\\\"100%\\\", gd.style.height=\\\"100vh\\\", gd.style.marginLeft=\\\"0%\\\", gd.style.marginTop=\\\"0vh\\\") : undefined; window.onresize=(function (){return Plotly.Plots.resize(gd)}); Plotly.newPlot(gd,[{\\\"y\\\":[0.5,1.5,2.5,3.5,4.5,5.5,6.5,7.5,8.5,9.5,10.5,11.5,12.5,13.5,14.5,15.5],\\\"type\\\":\\\"heatmap\\\",\\\"colorscale\\\":[[0.0,\\\"#000004\\\"],[0.00392156862745098,\\\"#010005\\\"],[0.00784313725490196,\\\"#010106\\\"],[0.011764705882352941,\\\"#010108\\\"],[0.01568627450980392,\\\"#020109\\\"],[0.0196078431372549,\\\"#02020B\\\"],[0.023529411764705882,\\\"#02020D\\\"],[0.027450980392156862,\\\"#03030F\\\"],[0.03137254901960784,\\\"#030312\\\"],[0.03529411764705882,\\\"#040414\\\"],[0.0392156862745098,\\\"#050416\\\"],[0.043137254901960784,\\\"#060518\\\"],[0.047058823529411764,\\\"#06051A\\\"],[0.050980392156862744,\\\"#07061C\\\"],[0.054901960784313725,\\\"#08071E\\\"],[0.058823529411764705,\\\"#090720\\\"],[0.06274509803921569,\\\"#0A0822\\\"],[0.06666666666666667,\\\"#0B0924\\\"],[0.07058823529411765,\\\"#0C0926\\\"],[0.07450980392156863,\\\"#0D0A29\\\"],[0.0784313725490196,\\\"#0E0B2B\\\"],[0.08235294117647059,\\\"#100B2D\\\"],[0.08627450980392157,\\\"#110C2F\\\"],[0.09019607843137255,\\\"#120D31\\\"],[0.09411764705882353,\\\"#130D34\\\"],[0.09803921568627451,\\\"#140E36\\\"],[0.10196078431372549,\\\"#150E38\\\"],[0.10588235294117647,\\\"#160F3B\\\"],[0.10980392156862745,\\\"#180F3D\\\"],[0.11372549019607843,\\\"#19103F\\\"],[0.11764705882352941,\\\"#1A1042\\\"],[0.12156862745098039,\\\"#1C1044\\\"],[0.12549019607843137,\\\"#1D1147\\\"],[0.12941176470588237,\\\"#1E1149\\\"],[0.13333333333333333,\\\"#20114B\\\"],[0.13725490196078433,\\\"#21114E\\\"],[0.1411764705882353,\\\"#221150\\\"],[0.1450980392156863,\\\"#241253\\\"],[0.14901960784313725,\\\"#251255\\\"],[0.15294117647058825,\\\"#271258\\\"],[0.1568627450980392,\\\"#29115A\\\"],[0.1607843137254902,\\\"#2A115C\\\"],[0.16470588235294117,\\\"#2C115F\\\"],[0.16862745098039217,\\\"#2D1161\\\"],[0.17254901960784313,\\\"#2F1163\\\"],[0.17647058823529413,\\\"#311165\\\"],[0.1803921568627451,\\\"#331067\\\"],[0.1843137254901961,\\\"#341069\\\"],[0.18823529411764706,\\\"#36106B\\\"],[0.19215686274509805,\\\"#38106C\\\"],[0.19607843137254902,\\\"#390F6E\\\"],[0.2,\\\"#3B0F70\\\"],[0.20392156862745098,\\\"#3D0F71\\\"],[0.20784313725490197,\\\"#3F0F72\\\"],[0.21176470588235294,\\\"#400F74\\\"],[0.21568627450980393,\\\"#420F75\\\"],[0.2196078431372549,\\\"#440F76\\\"],[0.2235294117647059,\\\"#451077\\\"],[0.22745098039215686,\\\"#471078\\\"],[0.23137254901960785,\\\"#491078\\\"],[0.23529411764705882,\\\"#4A1079\\\"],[0.23921568627450981,\\\"#4C117A\\\"],[0.24313725490196078,\\\"#4E117B\\\"],[0.24705882352941178,\\\"#4F127B\\\"],[0.25098039215686274,\\\"#51127C\\\"],[0.2549019607843137,\\\"#52137C\\\"],[0.25882352941176473,\\\"#54137D\\\"],[0.2627450980392157,\\\"#56147D\\\"],[0.26666666666666666,\\\"#57157E\\\"],[0.27058823529411763,\\\"#59157E\\\"],[0.27450980392156865,\\\"#5A167E\\\"],[0.2784313725490196,\\\"#5C167F\\\"],[0.2823529411764706,\\\"#5D177F\\\"],[0.28627450980392155,\\\"#5F187F\\\"],[0.2901960784313726,\\\"#601880\\\"],[0.29411764705882354,\\\"#621980\\\"],[0.2980392156862745,\\\"#641A80\\\"],[0.30196078431372547,\\\"#651A80\\\"],[0.3058823529411765,\\\"#671B80\\\"],[0.30980392156862746,\\\"#681C81\\\"],[0.3137254901960784,\\\"#6A1C81\\\"],[0.3176470588235294,\\\"#6B1D81\\\"],[0.3215686274509804,\\\"#6D1D81\\\"],[0.3254901960784314,\\\"#6E1E81\\\"],[0.32941176470588235,\\\"#701F81\\\"],[0.3333333333333333,\\\"#721F81\\\"],[0.33725490196078434,\\\"#732081\\\"],[0.3411764705882353,\\\"#752181\\\"],[0.34509803921568627,\\\"#762181\\\"],[0.34901960784313724,\\\"#782281\\\"],[0.35294117647058826,\\\"#792282\\\"],[0.3568627450980392,\\\"#7B2382\\\"],[0.3607843137254902,\\\"#7C2382\\\"],[0.36470588235294116,\\\"#7E2482\\\"],[0.3686274509803922,\\\"#802582\\\"],[0.37254901960784315,\\\"#812581\\\"],[0.3764705882352941,\\\"#832681\\\"],[0.3803921568627451,\\\"#842681\\\"],[0.3843137254901961,\\\"#862781\\\"],[0.38823529411764707,\\\"#882781\\\"],[0.39215686274509803,\\\"#892881\\\"],[0.396078431372549,\\\"#8B2981\\\"],[0.4,\\\"#8C2981\\\"],[0.403921568627451,\\\"#8E2A81\\\"],[0.40784313725490196,\\\"#902A81\\\"],[0.4117647058823529,\\\"#912B81\\\"],[0.41568627450980394,\\\"#932B80\\\"],[0.4196078431372549,\\\"#942C80\\\"],[0.4235294117647059,\\\"#962C80\\\"],[0.42745098039215684,\\\"#982D80\\\"],[0.43137254901960786,\\\"#992D80\\\"],[0.43529411764705883,\\\"#9B2E7F\\\"],[0.4392156862745098,\\\"#9C2E7F\\\"],[0.44313725490196076,\\\"#9E2F7F\\\"],[0.4470588235294118,\\\"#A02F7F\\\"],[0.45098039215686275,\\\"#A1307E\\\"],[0.4549019607843137,\\\"#A3307E\\\"],[0.4588235294117647,\\\"#A5317E\\\"],[0.4627450980392157,\\\"#A6317D\\\"],[0.4666666666666667,\\\"#A8327D\\\"],[0.47058823529411764,\\\"#AA337D\\\"],[0.4745098039215686,\\\"#AB337C\\\"],[0.47843137254901963,\\\"#AD347C\\\"],[0.4823529411764706,\\\"#AE347B\\\"],[0.48627450980392156,\\\"#B0357B\\\"],[0.49019607843137253,\\\"#B2357B\\\"],[0.49411764705882355,\\\"#B3367A\\\"],[0.4980392156862745,\\\"#B5367A\\\"],[0.5019607843137255,\\\"#B73779\\\"],[0.5058823529411764,\\\"#B83779\\\"],[0.5098039215686274,\\\"#BA3878\\\"],[0.5137254901960784,\\\"#BC3978\\\"],[0.5176470588235295,\\\"#BD3977\\\"],[0.5215686274509804,\\\"#BF3A77\\\"],[0.5254901960784314,\\\"#C03A76\\\"],[0.5294117647058824,\\\"#C23B75\\\"],[0.5333333333333333,\\\"#C43C75\\\"],[0.5372549019607843,\\\"#C53C74\\\"],[0.5411764705882353,\\\"#C73D73\\\"],[0.5450980392156862,\\\"#C83E73\\\"],[0.5490196078431373,\\\"#CA3E72\\\"],[0.5529411764705883,\\\"#CC3F71\\\"],[0.5568627450980392,\\\"#CD4071\\\"],[0.5607843137254902,\\\"#CF4070\\\"],[0.5647058823529412,\\\"#D0416F\\\"],[0.5686274509803921,\\\"#D2426F\\\"],[0.5725490196078431,\\\"#D3436E\\\"],[0.5764705882352941,\\\"#D5446D\\\"],[0.5803921568627451,\\\"#D6456C\\\"],[0.5843137254901961,\\\"#D8456C\\\"],[0.5882352941176471,\\\"#D9466B\\\"],[0.592156862745098,\\\"#DB476A\\\"],[0.596078431372549,\\\"#DC4869\\\"],[0.6,\\\"#DE4968\\\"],[0.6039215686274509,\\\"#DF4A68\\\"],[0.6078431372549019,\\\"#E04C67\\\"],[0.611764705882353,\\\"#E24D66\\\"],[0.615686274509804,\\\"#E34E65\\\"],[0.6196078431372549,\\\"#E44F64\\\"],[0.6235294117647059,\\\"#E55064\\\"],[0.6274509803921569,\\\"#E75263\\\"],[0.6313725490196078,\\\"#E85362\\\"],[0.6352941176470588,\\\"#E95462\\\"],[0.6392156862745098,\\\"#EA5661\\\"],[0.6431372549019608,\\\"#EB5760\\\"],[0.6470588235294118,\\\"#EC5860\\\"],[0.6509803921568628,\\\"#ED5A5F\\\"],[0.6549019607843137,\\\"#EE5B5E\\\"],[0.6588235294117647,\\\"#EF5D5E\\\"],[0.6627450980392157,\\\"#F05F5E\\\"],[0.6666666666666666,\\\"#F1605D\\\"],[0.6705882352941176,\\\"#F2625D\\\"],[0.6745098039215687,\\\"#F2645C\\\"],[0.6784313725490196,\\\"#F3655C\\\"],[0.6823529411764706,\\\"#F4675C\\\"],[0.6862745098039216,\\\"#F4695C\\\"],[0.6901960784313725,\\\"#F56B5C\\\"],[0.6941176470588235,\\\"#F66C5C\\\"],[0.6980392156862745,\\\"#F66E5C\\\"],[0.7019607843137254,\\\"#F7705C\\\"],[0.7058823529411765,\\\"#F7725C\\\"],[0.7098039215686275,\\\"#F8745C\\\"],[0.7137254901960784,\\\"#F8765C\\\"],[0.7176470588235294,\\\"#F9785D\\\"],[0.7215686274509804,\\\"#F9795D\\\"],[0.7254901960784313,\\\"#F97B5D\\\"],[0.7294117647058823,\\\"#FA7D5E\\\"],[0.7333333333333333,\\\"#FA7F5E\\\"],[0.7372549019607844,\\\"#FA815F\\\"],[0.7411764705882353,\\\"#FB835F\\\"],[0.7450980392156863,\\\"#FB8560\\\"],[0.7490196078431373,\\\"#FB8761\\\"],[0.7529411764705882,\\\"#FC8961\\\"],[0.7568627450980392,\\\"#FC8A62\\\"],[0.7607843137254902,\\\"#FC8C63\\\"],[0.7647058823529411,\\\"#FC8E64\\\"],[0.7686274509803922,\\\"#FC9065\\\"],[0.7725490196078432,\\\"#FD9266\\\"],[0.7764705882352941,\\\"#FD9467\\\"],[0.7803921568627451,\\\"#FD9668\\\"],[0.7843137254901961,\\\"#FD9869\\\"],[0.788235294117647,\\\"#FD9A6A\\\"],[0.792156862745098,\\\"#FD9B6B\\\"],[0.796078431372549,\\\"#FE9D6C\\\"],[0.8,\\\"#FE9F6D\\\"],[0.803921568627451,\\\"#FEA16E\\\"],[0.807843137254902,\\\"#FEA36F\\\"],[0.8117647058823529,\\\"#FEA571\\\"],[0.8156862745098039,\\\"#FEA772\\\"],[0.8196078431372549,\\\"#FEA973\\\"],[0.8235294117647058,\\\"#FEAA74\\\"],[0.8274509803921568,\\\"#FEAC76\\\"],[0.8313725490196079,\\\"#FEAE77\\\"],[0.8352941176470589,\\\"#FEB078\\\"],[0.8392156862745098,\\\"#FEB27A\\\"],[0.8431372549019608,\\\"#FEB47B\\\"],[0.8470588235294118,\\\"#FEB67C\\\"],[0.8509803921568627,\\\"#FEB77E\\\"],[0.8549019607843137,\\\"#FEB97F\\\"],[0.8588235294117647,\\\"#FEBB81\\\"],[0.8627450980392157,\\\"#FEBD82\\\"],[0.8666666666666667,\\\"#FEBF84\\\"],[0.8705882352941177,\\\"#FEC185\\\"],[0.8745098039215686,\\\"#FEC287\\\"],[0.8784313725490196,\\\"#FEC488\\\"],[0.8823529411764706,\\\"#FEC68A\\\"],[0.8862745098039215,\\\"#FEC88C\\\"],[0.8901960784313725,\\\"#FECA8D\\\"],[0.8941176470588236,\\\"#FECC8F\\\"],[0.8980392156862745,\\\"#FECD90\\\"],[0.9019607843137255,\\\"#FECF92\\\"],[0.9058823529411765,\\\"#FED194\\\"],[0.9098039215686274,\\\"#FED395\\\"],[0.9137254901960784,\\\"#FED597\\\"],[0.9176470588235294,\\\"#FED799\\\"],[0.9215686274509803,\\\"#FED89A\\\"],[0.9254901960784314,\\\"#FDDA9C\\\"],[0.9294117647058824,\\\"#FDDC9E\\\"],[0.9333333333333333,\\\"#FDDEA0\\\"],[0.9372549019607843,\\\"#FDE0A1\\\"],[0.9411764705882353,\\\"#FDE2A3\\\"],[0.9450980392156862,\\\"#FDE3A5\\\"],[0.9490196078431372,\\\"#FDE5A7\\\"],[0.9529411764705882,\\\"#FDE7A9\\\"],[0.9568627450980393,\\\"#FDE9AA\\\"],[0.9607843137254902,\\\"#FDEBAC\\\"],[0.9647058823529412,\\\"#FCECAE\\\"],[0.9686274509803922,\\\"#FCEEB0\\\"],[0.9725490196078431,\\\"#FCF0B2\\\"],[0.9764705882352941,\\\"#FCF2B4\\\"],[0.9803921568627451,\\\"#FCF4B6\\\"],[0.984313725490196,\\\"#FCF6B8\\\"],[0.9882352941176471,\\\"#FCF7B9\\\"],[0.9921568627450981,\\\"#FCF9BB\\\"],[0.996078431372549,\\\"#FCFBBD\\\"],[1.0,\\\"#FCFDBF\\\"]],\\\"z\\\":[[0.0,0.00020369365,0.92732435,0.92712927,0.9277345,0.9281178,0.9240206,0.92542034,0.9235194,0.9234938,0.92357904,0.9237551,0.9242805,0.9235688,0.9251477],[0.00020369365,0.0,0.92732203,0.92712694,0.9277322,0.92811555,0.9240181,0.925418,0.9235168,0.92349124,0.9235765,0.9237526,0.9242781,0.9235663,0.9251453],[0.92732435,0.92732203,0.0,0.05127808,0.07864544,0.19527596,0.6661052,0.6713057,0.6670579,0.6671313,0.66719276,0.66778964,0.67378324,0.67187387,0.66370994],[0.92712927,0.92712694,0.05127808,0.0,0.089180626,0.20132475,0.6669534,0.6715727,0.6675838,0.6676085,0.6675235,0.668315,0.67363375,0.67200863,0.6646878],[0.9277345,0.9277322,0.07864544,0.089180626,0.0,0.20953391,0.6703687,0.6740053,0.67039675,0.6705186,0.67038804,0.6711166,0.67650914,0.675618,0.6678915],[0.9281178,0.92811555,0.19527596,0.20132475,0.20953391,0.0,0.67192626,0.67901444,0.6740751,0.6741954,0.6737857,0.6748237,0.67768943,0.6800042,0.67198294],[0.9240206,0.9240181,0.6661052,0.6669534,0.6703687,0.67192626,0.0,0.32061273,0.5388916,0.5388823,0.5382698,0.53676564,0.55944496,0.5310976,0.5598702],[0.92542034,0.925418,0.6713057,0.6715727,0.6740053,0.67901444,0.32061273,0.0,0.56122845,0.56139326,0.5619514,0.56217533,0.5569427,0.5643994,0.5852673],[0.9235194,0.9235168,0.6670579,0.6675838,0.67039675,0.6740751,0.5388916,0.56122845,0.0,0.0026314284,0.0037187482,0.014763501,0.3210789,0.37082,0.3742797],[0.9234938,0.92349124,0.6671313,0.6676085,0.6705186,0.6741954,0.5388823,0.56139326,0.0026314284,0.0,0.0030341195,0.014203738,0.32068008,0.3707556,0.37421805],[0.92357904,0.9235765,0.66719276,0.6675235,0.67038804,0.6737857,0.5382698,0.5619514,0.0037187482,0.0030341195,0.0,0.015172179,0.32152614,0.37173495,0.3747374],[0.9237551,0.9237526,0.66778964,0.668315,0.6711166,0.6748237,0.53676564,0.56217533,0.014763501,0.014203738,0.015172179,0.0,0.32262155,0.36842346,0.37187165],[0.9242805,0.9242781,0.67378324,0.67363375,0.67650914,0.67768943,0.55944496,0.5569427,0.3210789,0.32068008,0.32152614,0.32262155,0.0,0.38683018,0.39937934],[0.9235688,0.9235663,0.67187387,0.67200863,0.675618,0.6800042,0.5310976,0.5643994,0.37082,0.3707556,0.37173495,0.36842346,0.38683018,0.0,0.3988067],[0.9251477,0.9251453,0.66370994,0.6646878,0.6678915,0.67198294,0.5598702,0.5852673,0.3742797,0.37421805,0.3747374,0.37187165,0.39937934,0.3988067,0.0]],\\\"x\\\":[0.5,1.5,2.5,3.5,4.5,5.5,6.5,7.5,8.5,9.5,10.5,11.5,12.5,13.5,14.5,15.5]},{\\\"showlegend\\\":false,\\\"mode\\\":\\\"lines\\\",\\\"xaxis\\\":\\\"x2\\\",\\\"line\\\":{\\\"color\\\":\\\"#666666\\\"},\\\"y\\\":[1.0,2.0,null,1.0,1.0,null,2.0,2.0,null],\\\"type\\\":\\\"scatter\\\",\\\"hoverinfo\\\":\\\"skip\\\",\\\"yaxis\\\":\\\"y\\\",\\\"x\\\":[0.00020369364938233048,0.00020369364938233048,null,0.00020369364938233048,0.0,null,0.00020369364938233048,0.0,null]},{\\\"showlegend\\\":false,\\\"mode\\\":\\\"lines\\\",\\\"xaxis\\\":\\\"x2\\\",\\\"line\\\":{\\\"color\\\":\\\"#666666\\\"},\\\"y\\\":[3.5,5.0,null,3.5,3.5,null,5.0,5.0,null],\\\"type\\\":\\\"scatter\\\",\\\"hoverinfo\\\":\\\"skip\\\",\\\"yaxis\\\":\\\"y\\\",\\\"x\\\":[0.08918062597513199,0.08918062597513199,null,0.08918062597513199,0.05127808079123497,null,0.08918062597513199,0.0,null]},{\\\"showlegend\\\":false,\\\"mode\\\":\\\"lines\\\",\\\"xaxis\\\":\\\"x2\\\",\\\"line\\\":{\\\"color\\\":\\\"#666666\\\"},\\\"y\\\":[13.03125,15.0,null,13.03125,13.03125,null,15.0,15.0,null],\\\"type\\\":\\\"scatter\\\",\\\"hoverinfo\\\":\\\"skip\\\",\\\"yaxis\\\":\\\"y\\\",\\\"x\\\":[0.39937934279441833,0.39937934279441833,null,0.39937934279441833,0.3868301808834076,null,0.39937934279441833,0.0,null]},{\\\"showlegend\\\":false,\\\"mode\\\":\\\"lines\\\",\\\"xaxis\\\":\\\"x2\\\",\\\"line\\\":{\\\"color\\\":\\\"#666666\\\"},\\\"y\\\":[12.0625,14.0,null,12.0625,12.0625,null,14.0,14.0,null],\\\"type\\\":\\\"scatter\\\",\\\"hoverinfo\\\":\\\"skip\\\",\\\"yaxis\\\":\\\"y\\\",\\\"x\\\":[0.3868301808834076,0.3868301808834076,null,0.3868301808834076,0.32262155413627625,null,0.3868301808834076,0.0,null]},{\\\"showlegend\\\":false,\\\"mode\\\":\\\"lines\\\",\\\"xaxis\\\":\\\"x2\\\",\\\"line\\\":{\\\"color\\\":\\\"#666666\\\"},\\\"y\\\":[1.5,7.94140625,null,1.5,1.5,null,7.94140625,7.94140625,null],\\\"type\\\":\\\"scatter\\\",\\\"hoverinfo\\\":\\\"skip\\\",\\\"yaxis\\\":\\\"y\\\",\\\"x\\\":[0.9281178116798401,0.9281178116798401,null,0.9281178116798401,0.00020369364938233048,null,0.9281178116798401,0.6800041794776917,null]},{\\\"showlegend\\\":false,\\\"mode\\\":\\\"lines\\\",\\\"xaxis\\\":\\\"x2\\\",\\\"line\\\":{\\\"color\\\":\\\"#666666\\\"},\\\"y\\\":[10.25,12.0,null,10.25,10.25,null,12.0,12.0,null],\\\"type\\\":\\\"scatter\\\",\\\"hoverinfo\\\":\\\"skip\\\",\\\"yaxis\\\":\\\"y\\\",\\\"x\\\":[0.015172178857028484,0.015172178857028484,null,0.015172178857028484,0.0037187482230365276,null,0.015172178857028484,0.0,null]},{\\\"showlegend\\\":false,\\\"mode\\\":\\\"lines\\\",\\\"xaxis\\\":\\\"x2\\\",\\\"line\\\":{\\\"color\\\":\\\"#666666\\\"},\\\"y\\\":[9.0,10.0,null,9.0,9.0,null,10.0,10.0,null],\\\"type\\\":\\\"scatter\\\",\\\"hoverinfo\\\":\\\"skip\\\",\\\"yaxis\\\":\\\"y\\\",\\\"x\\\":[0.0026314284186810255,0.0026314284186810255,null,0.0026314284186810255,0.0,null,0.0026314284186810255,0.0,null]},{\\\"showlegend\\\":false,\\\"mode\\\":\\\"lines\\\",\\\"xaxis\\\":\\\"x2\\\",\\\"line\\\":{\\\"color\\\":\\\"#666666\\\"},\\\"y\\\":[4.25,6.0,null,4.25,4.25,null,6.0,6.0,null],\\\"type\\\":\\\"scatter\\\",\\\"hoverinfo\\\":\\\"skip\\\",\\\"yaxis\\\":\\\"y\\\",\\\"x\\\":[0.2095339149236679,0.2095339149236679,null,0.2095339149236679,0.08918062597513199,null,0.2095339149236679,0.0,null]},{\\\"showlegend\\\":false,\\\"mode\\\":\\\"lines\\\",\\\"xaxis\\\":\\\"x2\\\",\\\"line\\\":{\\\"color\\\":\\\"#666666\\\"},\\\"y\\\":[11.125,13.0,null,11.125,11.125,null,13.0,13.0,null],\\\"type\\\":\\\"scatter\\\",\\\"hoverinfo\\\":\\\"skip\\\",\\\"yaxis\\\":\\\"y\\\",\\\"x\\\":[0.32262155413627625,0.32262155413627625,null,0.32262155413627625,0.015172178857028484,null,0.32262155413627625,0.0,null]},{\\\"showlegend\\\":false,\\\"mode\\\":\\\"lines\\\",\\\"xaxis\\\":\\\"x2\\\",\\\"line\\\":{\\\"color\\\":\\\"#666666\\\"},\\\"y\\\":[5.125,10.7578125,null,5.125,5.125,null,10.7578125,10.7578125,null],\\\"type\\\":\\\"scatter\\\",\\\"hoverinfo\\\":\\\"skip\\\",\\\"yaxis\\\":\\\"y\\\",\\\"x\\\":[0.6800041794776917,0.6800041794776917,null,0.6800041794776917,0.2095339149236679,null,0.6800041794776917,0.5852673053741455,null]},{\\\"showlegend\\\":false,\\\"mode\\\":\\\"lines\\\",\\\"xaxis\\\":\\\"x2\\\",\\\"line\\\":{\\\"color\\\":\\\"#666666\\\"},\\\"y\\\":[3.0,4.0,null,3.0,3.0,null,4.0,4.0,null],\\\"type\\\":\\\"scatter\\\",\\\"hoverinfo\\\":\\\"skip\\\",\\\"yaxis\\\":\\\"y\\\",\\\"x\\\":[0.05127808079123497,0.05127808079123497,null,0.05127808079123497,0.0,null,0.05127808079123497,0.0,null]},{\\\"showlegend\\\":false,\\\"mode\\\":\\\"lines\\\",\\\"xaxis\\\":\\\"x2\\\",\\\"line\\\":{\\\"color\\\":\\\"#666666\\\"},\\\"y\\\":[7.0,8.0,null,7.0,7.0,null,8.0,8.0,null],\\\"type\\\":\\\"scatter\\\",\\\"hoverinfo\\\":\\\"skip\\\",\\\"yaxis\\\":\\\"y\\\",\\\"x\\\":[0.32061272859573364,0.32061272859573364,null,0.32061272859573364,0.0,null,0.32061272859573364,0.0,null]},{\\\"showlegend\\\":false,\\\"mode\\\":\\\"lines\\\",\\\"xaxis\\\":\\\"x2\\\",\\\"line\\\":{\\\"color\\\":\\\"#666666\\\"},\\\"y\\\":[7.5,14.015625,null,7.5,7.5,null,14.015625,14.015625,null],\\\"type\\\":\\\"scatter\\\",\\\"hoverinfo\\\":\\\"skip\\\",\\\"yaxis\\\":\\\"y\\\",\\\"x\\\":[0.5852673053741455,0.5852673053741455,null,0.5852673053741455,0.32061272859573364,null,0.5852673053741455,0.39937934279441833,null]},{\\\"showlegend\\\":false,\\\"mode\\\":\\\"lines\\\",\\\"xaxis\\\":\\\"x2\\\",\\\"line\\\":{\\\"color\\\":\\\"#666666\\\"},\\\"y\\\":[9.5,11.0,null,9.5,9.5,null,11.0,11.0,null],\\\"type\\\":\\\"scatter\\\",\\\"hoverinfo\\\":\\\"skip\\\",\\\"yaxis\\\":\\\"y\\\",\\\"x\\\":[0.0037187482230365276,0.0037187482230365276,null,0.0037187482230365276,0.0026314284186810255,null,0.0037187482230365276,0.0,null]},{\\\"showlegend\\\":false,\\\"mode\\\":\\\"markers\\\",\\\"xaxis\\\":\\\"x2\\\",\\\"marker\\\":{\\\"color\\\":\\\"#666666\\\",\\\"size\\\":[8,8,8,8,4,8,8,8,8,8,8,8,8,8]},\\\"y\\\":[10.25,1.5,4.25,14.015625,13.03125,4.720703125,11.125,9.5,5.125,12.0625,7.94140625,3.5,7.5,10.7578125],\\\"type\\\":\\\"scatter\\\",\\\"customdata\\\":[[18,3],[16,2],[21,3],[26,7],[25,6],[29,15],[19,4],[17,2],[22,4],[24,5],[28,13],[20,2],[23,2],[27,9]],\\\"yaxis\\\":\\\"y\\\",\\\"hovertemplate\\\":\\\"ID: %{customdata[0]}<br>\\\\nHeight: %{x:.3f}<br>\\\\nGenome count: %{customdata[1]}\\\\n<extra><\\/extra>\\\\n\\\",\\\"x\\\":[0.0037187482230365276,0.00020369364938233048,0.08918062597513199,0.39937934279441833,0.3868301808834076,0.9281178116798401,0.015172178857028484,0.0026314284186810255,0.2095339149236679,0.32262155413627625,0.6800041794776917,0.05127808079123497,0.32061272859573364,0.5852673053741455]},{\\\"marker\\\":{\\\"symbol\\\":\\\"line-ns\\\",\\\"color\\\":\\\"green\\\",\\\"line\\\":{\\\"color\\\":\\\"green\\\",\\\"width\\\":1}},\\\"mode\\\":\\\"markers\\\",\\\"xaxis\\\":\\\"x2\\\",\\\"y\\\":[-1,-1,-1,-1],\\\"type\\\":\\\"scatter\\\",\\\"text\\\":[\\\"diazoefficiens\\\",\\\"liaoningense\\\",\\\"yuanmingense\\\"],\\\"hovertemplate\\\":\\\"%{text} <br>\\\\n%{x}\\\\n<extra><\\/extra>\\\\n\\\",\\\"x\\\":[0.83896655,0.8866347,0.89772767]}],{\\\"showlegend\\\":false,\\\"xaxis\\\":{\\\"scaleanchor\\\":\\\"y\\\",\\\"visible\\\":false,\\\"domain\\\":[0.504950495049505,1.0]},\\\"hovermode\\\":\\\"closest\\\",\\\"xaxis2\\\":{\\\"rangemode\\\":\\\"nonnegative\\\",\\\"spikethickness\\\":1,\\\"showspikes\\\":true,\\\"domain\\\":[0.0,0.49504950495049505],\\\"spikemode\\\":\\\"across\\\",\\\"autorange\\\":\\\"reversed\\\",\\\"spikedash\\\":\\\"solid\\\"},\\\"height\\\":550,\\\"margin\\\":{\\\"l\\\":50,\\\"b\\\":50,\\\"r\\\":50,\\\"t\\\":60},\\\"yaxis\\\":{\\\"scaleanchor\\\":\\\"x\\\",\\\"visible\\\":false},\\\"width\\\":1000},{}); gd.on(\\\"plotly_hover\\\",(function (data){var filtered_data=WebIO.PlotlyCommands.filterEventData(gd,data,\\\"hover\\\"); return !(filtered_data.isnil) ? (WebIO.setval({\\\"name\\\":\\\"hover\\\",\\\"scope\\\":\\\"4281267310635842949\\\",\\\"id\\\":\\\"9387193877947738107\\\",\\\"type\\\":\\\"observable\\\"},filtered_data.out)) : undefined})); gd.on(\\\"plotly_unhover\\\",(function (){return WebIO.setval({\\\"name\\\":\\\"hover\\\",\\\"scope\\\":\\\"4281267310635842949\\\",\\\"id\\\":\\\"9387193877947738107\\\",\\\"type\\\":\\\"observable\\\"},{})})); gd.on(\\\"plotly_selected\\\",(function (data){var filtered_data=WebIO.PlotlyCommands.filterEventData(gd,data,\\\"selected\\\"); return !(filtered_data.isnil) ? (WebIO.setval({\\\"name\\\":\\\"selected\\\",\\\"scope\\\":\\\"4281267310635842949\\\",\\\"id\\\":\\\"14001666535587069084\\\",\\\"type\\\":\\\"observable\\\"},filtered_data.out)) : undefined})); gd.on(\\\"plotly_deselect\\\",(function (){return WebIO.setval({\\\"name\\\":\\\"selected\\\",\\\"scope\\\":\\\"4281267310635842949\\\",\\\"id\\\":\\\"14001666535587069084\\\",\\\"type\\\":\\\"observable\\\"},{})})); gd.on(\\\"plotly_relayout\\\",(function (data){var filtered_data=WebIO.PlotlyCommands.filterEventData(gd,data,\\\"relayout\\\"); return !(filtered_data.isnil) ? (WebIO.setval({\\\"name\\\":\\\"relayout\\\",\\\"scope\\\":\\\"4281267310635842949\\\",\\\"id\\\":\\\"15536460663449558357\\\",\\\"type\\\":\\\"observable\\\"},filtered_data.out)) : undefined})); return gd.on(\\\"plotly_click\\\",(function (data){var filtered_data=WebIO.PlotlyCommands.filterEventData(gd,data,\\\"click\\\"); return !(filtered_data.isnil) ? (WebIO.setval({\\\"name\\\":\\\"click\\\",\\\"scope\\\":\\\"4281267310635842949\\\",\\\"id\\\":\\\"17355976570157534276\\\",\\\"type\\\":\\\"observable\\\"},filtered_data.out)) : undefined}))}));\\n    (WebIO.importBlock({\\\"data\\\":[{\\\"name\\\":\\\"Plotly\\\",\\\"type\\\":\\\"js\\\",\\\"url\\\":\\\"\\/assetserver\\/e6903599031aaef8675931dfcd7df98a1aeffbfc-plotly-latest.min.js\\\"},{\\\"name\\\":null,\\\"type\\\":\\\"js\\\",\\\"url\\\":\\\"\\/assetserver\\/74a5dea81f21b0b802ef1ee92f1c8a504eac1a0c-plotly_webio.bundle.js\\\"}],\\\"type\\\":\\\"async_block\\\"})).then((imports) => handler.apply(this, imports));\\n}\\n\"],\"observables\":{\"_toImage\":{\"sync\":false,\"id\":\"9831950639446940321\",\"value\":{}},\"hover\":{\"sync\":false,\"id\":\"9387193877947738107\",\"value\":{}},\"selected\":{\"sync\":false,\"id\":\"14001666535587069084\",\"value\":{}},\"__gd_contents\":{\"sync\":false,\"id\":\"8562493874653417346\",\"value\":{}},\"click\":{\"sync\":false,\"id\":\"17355976570157534276\",\"value\":{}},\"image\":{\"sync\":true,\"id\":\"15966981371435470864\",\"value\":\"\"},\"__get_gd_contents\":{\"sync\":false,\"id\":\"2864645967700239676\",\"value\":\"\"},\"_downloadImage\":{\"sync\":false,\"id\":\"10894864621607932194\",\"value\":{}},\"relayout\":{\"sync\":false,\"id\":\"15536460663449558357\",\"value\":{}},\"_commands\":{\"sync\":false,\"id\":\"9057456445924687018\",\"value\":[]}}},\"children\":[{\"props\":{\"id\":\"plot-2f14856b-0a17-4171-987d-03a96beb586f\"},\"nodeType\":\"DOM\",\"type\":\"node\",\"instanceArgs\":{\"namespace\":\"html\",\"tag\":\"div\"},\"children\":[]}]},\n",
       "            window,\n",
       "        );\n",
       "    } else {\n",
       "        document\n",
       "            .querySelector('[data-webio-mountpoint=\"6994219993687194502\"]')\n",
       "            .innerHTML = (\n",
       "                '<div style=\"padding: 1em; background-color: #f8d6da; border: 1px solid #f5c6cb\">' +\n",
       "                '<p><strong>WebIO not detected.</strong></p>' +\n",
       "                '<p>Please read ' +\n",
       "                '<a href=\"https://juliagizmos.github.io/WebIO.jl/latest/troubleshooting/not-detected/\" target=\"_blank\">the troubleshooting guide</a> ' +\n",
       "                'for more information on how to resolve this issue.</p>' +\n",
       "                '<p><a href=\"https://juliagizmos.github.io/WebIO.jl/latest/troubleshooting/not-detected/\" target=\"_blank\">https://juliagizmos.github.io/WebIO.jl/latest/troubleshooting/not-detected/</a></p>' +\n",
       "                '</div>'\n",
       "            );\n",
       "    }\n",
       "    </script>\n",
       "</div>\n"
      ],
      "text/plain": [
       "data: [\n",
       "  \"heatmap with fields colorscale, type, x, y, and z\",\n",
       "  \"scatter with fields hoverinfo, line, mode, showlegend, type, x, xaxis, y, and yaxis\",\n",
       "  \"scatter with fields hoverinfo, line, mode, showlegend, type, x, xaxis, y, and yaxis\",\n",
       "  \"scatter with fields hoverinfo, line, mode, showlegend, type, x, xaxis, y, and yaxis\",\n",
       "  \"scatter with fields hoverinfo, line, mode, showlegend, type, x, xaxis, y, and yaxis\",\n",
       "  \"scatter with fields hoverinfo, line, mode, showlegend, type, x, xaxis, y, and yaxis\",\n",
       "  \"scatter with fields hoverinfo, line, mode, showlegend, type, x, xaxis, y, and yaxis\",\n",
       "  \"scatter with fields hoverinfo, line, mode, showlegend, type, x, xaxis, y, and yaxis\",\n",
       "  \"scatter with fields hoverinfo, line, mode, showlegend, type, x, xaxis, y, and yaxis\",\n",
       "  \"scatter with fields hoverinfo, line, mode, showlegend, type, x, xaxis, y, and yaxis\",\n",
       "  \"scatter with fields hoverinfo, line, mode, showlegend, type, x, xaxis, y, and yaxis\",\n",
       "  \"scatter with fields hoverinfo, line, mode, showlegend, type, x, xaxis, y, and yaxis\",\n",
       "  \"scatter with fields hoverinfo, line, mode, showlegend, type, x, xaxis, y, and yaxis\",\n",
       "  \"scatter with fields hoverinfo, line, mode, showlegend, type, x, xaxis, y, and yaxis\",\n",
       "  \"scatter with fields hoverinfo, line, mode, showlegend, type, x, xaxis, y, and yaxis\",\n",
       "  \"scatter with fields customdata, hovertemplate, marker, mode, showlegend, type, x, xaxis, y, and yaxis\",\n",
       "  \"scatter with fields hovertemplate, marker, mode, text, type, x, xaxis, and y\"\n",
       "]\n",
       "\n",
       "layout: \"layout with fields height, hovermode, margin, showlegend, width, xaxis, xaxis2, and yaxis\"\n",
       "\n"
      ]
     },
     "execution_count": 4,
     "metadata": {},
     "output_type": "execute_result"
    }
   ],
   "source": [
    "let taxon = \"japonicum\"\n",
    "    trees[taxon] = cluster_annotate(cdata, taxon)\n",
    "    plot(clustermap(cdata, trees[taxon]))\n",
    "end"
   ]
  },
  {
   "cell_type": "code",
   "execution_count": 5,
   "id": "perfect-claim",
   "metadata": {},
   "outputs": [
    {
     "name": "stdout",
     "output_type": "stream",
     "text": [
      "#1 japonicum:\n",
      "\t2/15 removed\n",
      "\tDiameter 0.9281 => 0.6800\n"
     ]
    }
   ],
   "source": [
    "remove_subtrees!(edits, trees[\"japonicum\"], 16)"
   ]
  },
  {
   "cell_type": "markdown",
   "id": "digital-gates",
   "metadata": {},
   "source": [
    "## Finish"
   ]
  },
  {
   "cell_type": "code",
   "execution_count": 6,
   "id": "hollow-latex",
   "metadata": {},
   "outputs": [
    {
     "data": {
      "text/html": [
       "<table class=\"data-frame\"><thead><tr><th></th><th>index</th><th>name</th><th>ngenomes</th><th>initial_diameter</th><th>taxon_removed</th><th>removed_genomes</th><th>split</th><th>manual_threshold</th><th>final_diameter</th></tr><tr><th></th><th>Int64</th><th>SubStri…</th><th>Int64</th><th>Float32</th><th>Bool</th><th>Int64</th><th>String</th><th>Missing</th><th>String</th></tr></thead><tbody><p>1 rows × 9 columns</p><tr><th>1</th><td>1</td><td>japonicum</td><td>15</td><td>0.928118</td><td>0</td><td>2</td><td></td><td><em>missing</em></td><td>0.6800</td></tr></tbody></table>"
      ],
      "text/latex": [
       "\\begin{tabular}{r|ccccccccc}\n",
       "\t& index & name & ngenomes & initial\\_diameter & taxon\\_removed & removed\\_genomes & split & manual\\_threshold & final\\_diameter\\\\\n",
       "\t\\hline\n",
       "\t& Int64 & SubStri… & Int64 & Float32 & Bool & Int64 & String & Missing & String\\\\\n",
       "\t\\hline\n",
       "\t1 & 1 & japonicum & 15 & 0.928118 & 0 & 2 &  & \\emph{missing} & 0.6800 \\\\\n",
       "\\end{tabular}\n"
      ],
      "text/plain": [
       "\u001b[1m1×9 DataFrame\u001b[0m\n",
       "\u001b[1m Row \u001b[0m│\u001b[1m index \u001b[0m\u001b[1m name      \u001b[0m\u001b[1m ngenomes \u001b[0m\u001b[1m initial_diameter \u001b[0m\u001b[1m taxon_removed \u001b[0m\u001b[1m removed_genomes \u001b[0m\u001b[1m split  \u001b[0m\u001b[1m manual_threshold \u001b[0m\u001b[1m final_diameter \u001b[0m\n",
       "\u001b[1m     \u001b[0m│\u001b[90m Int64 \u001b[0m\u001b[90m SubStrin… \u001b[0m\u001b[90m Int64    \u001b[0m\u001b[90m Float32          \u001b[0m\u001b[90m Bool          \u001b[0m\u001b[90m Int64           \u001b[0m\u001b[90m String \u001b[0m\u001b[90m Missing          \u001b[0m\u001b[90m String         \u001b[0m\n",
       "─────┼────────────────────────────────────────────────────────────────────────────────────────────────────────────────────────\n",
       "   1 │     1  japonicum        15          0.928118          false                2         \u001b[90m         missing  \u001b[0m 0.6800"
      ]
     },
     "execution_count": 6,
     "metadata": {},
     "output_type": "execute_result"
    }
   ],
   "source": [
    "complete_edits(edits)"
   ]
  }
 ],
 "metadata": {
  "@webio": {
   "lastCommId": "33667e0b-06d6-4432-bd39-6922c96fb2af",
   "lastKernelId": "2dfce4b9-11b7-4c9d-9989-bbdc0fb10af9"
  },
  "kernelspec": {
   "display_name": "Julia 1.5.1",
   "language": "julia",
   "name": "julia-1.5"
  },
  "language_info": {
   "file_extension": ".jl",
   "mimetype": "application/julia",
   "name": "julia",
   "version": "1.5.1"
  }
 },
 "nbformat": 4,
 "nbformat_minor": 5
}
