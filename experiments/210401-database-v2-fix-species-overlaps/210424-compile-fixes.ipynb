{
 "cells": [
  {
   "cell_type": "markdown",
   "id": "appropriate-abraham",
   "metadata": {},
   "source": [
    "# 210424 Compile fixes"
   ]
  },
  {
   "cell_type": "code",
   "execution_count": 1,
   "id": "quarterly-correspondence",
   "metadata": {},
   "outputs": [],
   "source": [
    "using Mmap\n",
    "using Printf"
   ]
  },
  {
   "cell_type": "code",
   "execution_count": 2,
   "id": "growing-subscription",
   "metadata": {},
   "outputs": [],
   "source": [
    "using JSON\n",
    "using CSV\n",
    "using DataFrames\n",
    "using FilePathsBase\n",
    "using FilePathsBase: /\n",
    "using ProgressMeter"
   ]
  },
  {
   "cell_type": "code",
   "execution_count": 3,
   "id": "wrong-siemens",
   "metadata": {},
   "outputs": [],
   "source": [
    "using Midas.Pairwise: npairs, iterpairs\n",
    "using TriMatrices"
   ]
  },
  {
   "cell_type": "markdown",
   "id": "clear-enlargement",
   "metadata": {},
   "source": [
    "## Setup"
   ]
  },
  {
   "cell_type": "code",
   "execution_count": 4,
   "id": "normal-white",
   "metadata": {},
   "outputs": [
    {
     "data": {
      "text/plain": [
       "400"
      ]
     },
     "execution_count": 4,
     "metadata": {},
     "output_type": "execute_result"
    }
   ],
   "source": [
    "ENV[\"COLUMNS\"] = 400"
   ]
  },
  {
   "cell_type": "code",
   "execution_count": 5,
   "id": "loved-salad",
   "metadata": {},
   "outputs": [
    {
     "data": {
      "text/plain": [
       "\"210424-compile-fixes\""
      ]
     },
     "execution_count": 5,
     "metadata": {},
     "output_type": "execute_result"
    }
   ],
   "source": [
    "DATESTR = \"210424\"\n",
    "NBNAME = \"$DATESTR-compile-fixes\""
   ]
  },
  {
   "cell_type": "code",
   "execution_count": 6,
   "id": "finished-sixth",
   "metadata": {},
   "outputs": [],
   "source": [
    "infiles = Dict(\n",
    "    :distances => p\"../../data/intermediate/200727-find-overlaps/genome-pw-distances.raw-float32\",\n",
    "    :db => p\"../../data/intermediate/210303-database-v2-overlaps/210328-compile-edits/\",\n",
    "    :overlaps => p\"../../data/intermediate/210303-database-v2-overlaps/210328-find-species-overlaps-2/\",\n",
    "    :fixes => p\"data-intermediate/component-fixes/\",\n",
    ");"
   ]
  },
  {
   "cell_type": "code",
   "execution_count": 7,
   "id": "later-yorkshire",
   "metadata": {},
   "outputs": [
    {
     "data": {
      "text/plain": [
       "true"
      ]
     },
     "execution_count": 7,
     "metadata": {},
     "output_type": "execute_result"
    }
   ],
   "source": [
    "intermediate_out = p\"data-intermediate\" / NBNAME\n",
    "isdir(intermediate_out) || mkdir(intermediate_out)\n",
    "\n",
    "processed_out = p\"data-processed\" / NBNAME\n",
    "isdir(processed_out) || mkdir(processed_out)"
   ]
  },
  {
   "cell_type": "markdown",
   "id": "legislative-porcelain",
   "metadata": {},
   "source": [
    "## Load data"
   ]
  },
  {
   "cell_type": "markdown",
   "id": "instant-florist",
   "metadata": {},
   "source": [
    "### Database"
   ]
  },
  {
   "cell_type": "code",
   "execution_count": 8,
   "id": "framed-relevance",
   "metadata": {},
   "outputs": [],
   "source": [
    "taxa_df = DataFrame(CSV.File(infiles[:db] / \"taxa.csv\"));"
   ]
  },
  {
   "cell_type": "code",
   "execution_count": 9,
   "id": "accomplished-volume",
   "metadata": {},
   "outputs": [
    {
     "data": {
      "text/plain": [
       "50752"
      ]
     },
     "execution_count": 9,
     "metadata": {},
     "output_type": "execute_result"
    }
   ],
   "source": [
    "genome_assignments = Vector{Int}(open(JSON.parse, infiles[:db] / \"genome-taxon-assignments.json\"))\n",
    "ngenomes = length(genome_assignments)"
   ]
  },
  {
   "cell_type": "code",
   "execution_count": 10,
   "id": "specified-census",
   "metadata": {},
   "outputs": [
    {
     "data": {
      "text/plain": [
       "taxon_idx (generic function with 1 method)"
      ]
     },
     "execution_count": 10,
     "metadata": {},
     "output_type": "execute_result"
    }
   ],
   "source": [
    "taxon_idx(id) = findfirst(==(id), taxa_df[!, :id])"
   ]
  },
  {
   "cell_type": "code",
   "execution_count": 11,
   "id": "capable-mystery",
   "metadata": {},
   "outputs": [
    {
     "data": {
      "text/plain": [
       "lookup_taxon (generic function with 2 methods)"
      ]
     },
     "execution_count": 11,
     "metadata": {},
     "output_type": "execute_result"
    }
   ],
   "source": [
    "function lookup(df::DataFrame, (key, val)::Pair{Symbol, <:Any}, cols=:)\n",
    "    i = findfirst(isequal(val), df[!, key])\n",
    "    return isnothing(i) ? nothing : df[i, cols]\n",
    "end\n",
    "\n",
    "lookup_taxon(id, cols=:) = lookup(taxa_df, :id => id, cols)"
   ]
  },
  {
   "cell_type": "markdown",
   "id": "stuffed-utilization",
   "metadata": {},
   "source": [
    "### Distances"
   ]
  },
  {
   "cell_type": "code",
   "execution_count": 12,
   "id": "located-earth",
   "metadata": {},
   "outputs": [],
   "source": [
    "pw_data = Mmap.mmap(open(infiles[:distances]), Vector{Float32}, (npairs(ngenomes),));\n",
    "\n",
    "pw_dists = TriMatrix(TriSymmetric{false}(), ngenomes, pw_data);"
   ]
  },
  {
   "cell_type": "markdown",
   "id": "promising-graphic",
   "metadata": {},
   "source": [
    "### Overlaps"
   ]
  },
  {
   "cell_type": "code",
   "execution_count": 13,
   "id": "chicken-holly",
   "metadata": {},
   "outputs": [
    {
     "data": {
      "text/plain": [
       "34"
      ]
     },
     "execution_count": 13,
     "metadata": {},
     "output_type": "execute_result"
    }
   ],
   "source": [
    "components = let\n",
    "    data = open(JSON.parse, infiles[:overlaps] / \"components.json\")\n",
    "    [Vector{Int}(item[\"taxon_ids\"]) for item in data]\n",
    "end\n",
    "\n",
    "ncomps = length(components)"
   ]
  },
  {
   "cell_type": "markdown",
   "id": "small-method",
   "metadata": {},
   "source": [
    "### Fixes"
   ]
  },
  {
   "cell_type": "code",
   "execution_count": 14,
   "id": "geological-advancement",
   "metadata": {},
   "outputs": [
    {
     "name": "stdout",
     "output_type": "stream",
     "text": [
      "Component 2 has subgroup threshold data\n",
      "Component 9 has subgroup threshold data\n",
      "Component 15 has subgroup threshold data\n",
      "Component 20 has subgroup threshold data\n"
     ]
    },
    {
     "name": "stderr",
     "output_type": "stream",
     "text": [
      "┌ Warning: No fixes for component 30\n",
      "└ @ Main In[14]:7\n"
     ]
    }
   ],
   "source": [
    "fixes = Dict{Int, Any}()\n",
    "\n",
    "for i in 1:ncomps\n",
    "    # Main data\n",
    "    f = infiles[:fixes] / \"$i.json\"\n",
    "    if ! exists(f)\n",
    "        @warn \"No fixes for component $i\"\n",
    "        continue\n",
    "    end\n",
    "    \n",
    "    data = open(JSON.parse, f)\n",
    "    \n",
    "    for item in data\n",
    "        id = pop!(item, \"taxon_id\")\n",
    "        @assert id ∈ components[i]\n",
    "        fixes[id] = item\n",
    "    end\n",
    "    \n",
    "    # Subgroup thresholds\n",
    "    threshold_file = infiles[:fixes] / \"$i-subgroup-thresholds.json\"\n",
    "    if exists(threshold_file)\n",
    "        println(\"Component $i has subgroup threshold data\")\n",
    "        data2 = open(JSON.parse, threshold_file)\n",
    "        \n",
    "        for item in data2\n",
    "            id = item[\"parent_id\"]\n",
    "            @assert id ∈ components[i]\n",
    "\n",
    "            fix = fixes[id]\n",
    "            thresholds = get!(fix, \"subgroup_thresholds\", Dict{Int, Float64}())\n",
    "            thresholds[item[\"subgroup_index\"]] = item[\"threshold\"]\n",
    "        end\n",
    "    end\n",
    "end;"
   ]
  },
  {
   "cell_type": "markdown",
   "id": "occupational-lodging",
   "metadata": {},
   "source": [
    "## Apply fixes"
   ]
  },
  {
   "cell_type": "code",
   "execution_count": 15,
   "id": "southwest-asbestos",
   "metadata": {},
   "outputs": [],
   "source": [
    "taxa_edited = deepcopy(taxa_df);\n",
    "assignments_edited = copy(genome_assignments);"
   ]
  },
  {
   "cell_type": "markdown",
   "id": "neutral-discount",
   "metadata": {},
   "source": [
    "### Main fixes"
   ]
  },
  {
   "cell_type": "code",
   "execution_count": 16,
   "id": "wanted-flashing",
   "metadata": {},
   "outputs": [],
   "source": [
    "removed_taxa = Int[]\n",
    "split_taxa = Dict{Int, Vector{Int}}()\n",
    "removed_genomes = Int[]\n",
    "manual_thresholds = Dict{Int, Float64}()\n",
    "\n",
    "\n",
    "for (tid, item) in fixes\n",
    "    ti = findfirst(==(tid), taxa_edited[!, :id])\n",
    "    \n",
    "    # Taxon removed\n",
    "    if item[\"removed\"]\n",
    "        @assert isempty(item[\"removed_genomes\"])\n",
    "        @assert isnothing(item[\"split\"])\n",
    "        @assert isnothing(item[\"manual_threshold\"])\n",
    "        \n",
    "        delete!(taxa_edited, ti)\n",
    "        assignments_edited[assignments_edited .== tid] .= 0\n",
    "        push!(removed_taxa, tid)\n",
    "        \n",
    "        continue\n",
    "    end\n",
    "    \n",
    "    # Manual threhsold\n",
    "    if !isnothing(item[\"manual_threshold\"])\n",
    "        taxa_edited[ti, :manual_threshold] = item[\"manual_threshold\"]\n",
    "        manual_thresholds[tid] = item[\"manual_threshold\"]\n",
    "    end\n",
    "    \n",
    "    # Removed genomes\n",
    "    @assert all(assignments_edited[gi] == tid for gi in item[\"removed_genomes\"])\n",
    "    assignments_edited[item[\"removed_genomes\"]] .= 0\n",
    "    append!(removed_genomes, item[\"removed_genomes\"])\n",
    "    \n",
    "    # Split\n",
    "    if !isnothing(item[\"split\"])\n",
    "        parent = taxa_edited[ti, :]\n",
    "        parent[:manual_threshold] = 0.\n",
    "        parent[:is_leaf] = false\n",
    "        \n",
    "        sg_thresholds = get(item, \"subgroup_thresholds\", Dict{Int, Float64}())\n",
    "        @assert issubset(keys(sg_thresholds), 1:length(item[\"split\"]))\n",
    "        \n",
    "        nextid = maximum(taxa_edited[!, :id]) + 1\n",
    "        subgroup_ids = []\n",
    "        \n",
    "        for (i, gidxs) in enumerate(item[\"split\"])\n",
    "            @assert all(assignments_edited[gi] == tid for gi in gidxs)\n",
    "            assignments_edited[gidxs] .= nextid\n",
    "            \n",
    "            push!(taxa_edited, (\n",
    "                id=nextid,\n",
    "                ncbi_id=missing,\n",
    "                name=\"$(parent[:name]) subgroup $i\",\n",
    "                rank=missing,\n",
    "                parent_id=tid,\n",
    "                in_v12=false,\n",
    "                manual_threshold=get(sg_thresholds, i, NaN),\n",
    "                report=false,\n",
    "                is_leaf=true,\n",
    "            ))\n",
    "            \n",
    "            push!(subgroup_ids, nextid)\n",
    "            nextid += 1\n",
    "        end\n",
    "        \n",
    "        @assert tid ∉ assignments_edited\n",
    "        \n",
    "        split_taxa[tid] = subgroup_ids\n",
    "    end\n",
    "end"
   ]
  },
  {
   "cell_type": "markdown",
   "id": "temporal-estate",
   "metadata": {},
   "source": [
    "### Taxon merges\n",
    "\n",
    "These taxa groups could not be disentangled and will instead be merged:"
   ]
  },
  {
   "cell_type": "code",
   "execution_count": 17,
   "id": "vital-honolulu",
   "metadata": {},
   "outputs": [],
   "source": [
    "merge_groups = [\n",
    "    \"Lacticaseibacillus casei/paracasei\" => [\"Lactobacillus casei\", \"Lacticaseibacillus paracasei\"],  # Despite names, these are both in genus Lacticaseibacillus\n",
    "];"
   ]
  },
  {
   "cell_type": "code",
   "execution_count": 18,
   "id": "grateful-canon",
   "metadata": {},
   "outputs": [],
   "source": [
    "merges = Dict{Int, Vector{Int}}()\n",
    "\n",
    "for (merged_name, names) in merge_groups\n",
    "    tidxs = [findfirst(==(name), taxa_edited[!, :name]) for name in names]\n",
    "    parent_id = only(unique(taxa_edited[i, :parent_id] for i in tidxs))\n",
    "    \n",
    "    merged_id = maximum(taxa_edited[!, :id]) + 1\n",
    "    push!(taxa_edited, (\n",
    "        id=merged_id,\n",
    "        ncbi_id=missing,\n",
    "        name=merged_name,\n",
    "        rank=missing,\n",
    "        parent_id=parent_id,\n",
    "        in_v12=false,\n",
    "        manual_threshold=NaN,\n",
    "        report=1,\n",
    "        is_leaf=false,\n",
    "    ))\n",
    "    \n",
    "    taxa_edited[tidxs, :parent_id] .= merged_id\n",
    "    taxa_edited[tidxs, :manual_threshold] .= 0\n",
    "    taxa_edited[tidxs, :report] .= 0\n",
    "    \n",
    "    merges[merged_id] = tidxs\n",
    "end"
   ]
  },
  {
   "cell_type": "markdown",
   "id": "limiting-medicare",
   "metadata": {},
   "source": [
    "### Remove empty internal taxa\n",
    "\n",
    "Remove any taxa not marked as leaves which do not have any children. This occurs when all of a taxon's children were removed.\n",
    "\n",
    "This step was in the previous experiment (where some taxa were removed due to all of their 2/3 genomes being identical), so some of these empty taxa already exist in the taxon list loaded at the beginning of this notebook. That will be fixed here."
   ]
  },
  {
   "cell_type": "code",
   "execution_count": 19,
   "id": "accomplished-mineral",
   "metadata": {},
   "outputs": [
    {
     "data": {
      "text/html": [
       "<table class=\"data-frame\"><thead><tr><th></th><th>id</th><th>ncbi_id</th><th>name</th><th>rank</th><th>parent_id</th><th>in_v12</th><th>manual_threshold</th><th>report</th><th>is_leaf</th></tr><tr><th></th><th>Int64</th><th>Int64?</th><th>String</th><th>String?</th><th>Int64?</th><th>Bool</th><th>Float64</th><th>Bool</th><th>Bool</th></tr></thead><tbody><p>9 rows × 9 columns</p><tr><th>1</th><td>56</td><td>119044</td><td>Filomicrobium</td><td>genus</td><td><em>missing</em></td><td>1</td><td>NaN</td><td>1</td><td>0</td></tr><tr><th>2</th><td>62</td><td>33055</td><td>Candidatus Kinetoplastibacterium</td><td>genus</td><td><em>missing</em></td><td>1</td><td>NaN</td><td>1</td><td>0</td></tr><tr><th>3</th><td>78</td><td>59732</td><td>Chryseobacterium</td><td>genus</td><td><em>missing</em></td><td>1</td><td>NaN</td><td>1</td><td>0</td></tr><tr><th>4</th><td>98</td><td>135575</td><td>Idiomarina</td><td>genus</td><td><em>missing</em></td><td>1</td><td>NaN</td><td>1</td><td>0</td></tr><tr><th>5</th><td>127</td><td>2767353</td><td>Lancefieldella</td><td>genus</td><td><em>missing</em></td><td>1</td><td>NaN</td><td>1</td><td>0</td></tr><tr><th>6</th><td>141</td><td>2675231</td><td>Mesobacillus</td><td>genus</td><td><em>missing</em></td><td>1</td><td>NaN</td><td>1</td><td>0</td></tr><tr><th>7</th><td>195</td><td>41707</td><td>Lawsonia</td><td>genus</td><td><em>missing</em></td><td>1</td><td>NaN</td><td>1</td><td>0</td></tr><tr><th>8</th><td>238</td><td>939</td><td>Hydrogenobacter</td><td>genus</td><td><em>missing</em></td><td>1</td><td>NaN</td><td>1</td><td>0</td></tr><tr><th>9</th><td>393</td><td>282198</td><td>Nereida</td><td>genus</td><td><em>missing</em></td><td>1</td><td>NaN</td><td>1</td><td>0</td></tr></tbody></table>"
      ],
      "text/latex": [
       "\\begin{tabular}{r|ccccccccc}\n",
       "\t& id & ncbi\\_id & name & rank & parent\\_id & in\\_v12 & manual\\_threshold & report & is\\_leaf\\\\\n",
       "\t\\hline\n",
       "\t& Int64 & Int64? & String & String? & Int64? & Bool & Float64 & Bool & Bool\\\\\n",
       "\t\\hline\n",
       "\t1 & 56 & 119044 & Filomicrobium & genus & \\emph{missing} & 1 & NaN & 1 & 0 \\\\\n",
       "\t2 & 62 & 33055 & Candidatus Kinetoplastibacterium & genus & \\emph{missing} & 1 & NaN & 1 & 0 \\\\\n",
       "\t3 & 78 & 59732 & Chryseobacterium & genus & \\emph{missing} & 1 & NaN & 1 & 0 \\\\\n",
       "\t4 & 98 & 135575 & Idiomarina & genus & \\emph{missing} & 1 & NaN & 1 & 0 \\\\\n",
       "\t5 & 127 & 2767353 & Lancefieldella & genus & \\emph{missing} & 1 & NaN & 1 & 0 \\\\\n",
       "\t6 & 141 & 2675231 & Mesobacillus & genus & \\emph{missing} & 1 & NaN & 1 & 0 \\\\\n",
       "\t7 & 195 & 41707 & Lawsonia & genus & \\emph{missing} & 1 & NaN & 1 & 0 \\\\\n",
       "\t8 & 238 & 939 & Hydrogenobacter & genus & \\emph{missing} & 1 & NaN & 1 & 0 \\\\\n",
       "\t9 & 393 & 282198 & Nereida & genus & \\emph{missing} & 1 & NaN & 1 & 0 \\\\\n",
       "\\end{tabular}\n"
      ],
      "text/plain": [
       "\u001b[1m9×9 DataFrame\u001b[0m\n",
       "\u001b[1m Row \u001b[0m│\u001b[1m id    \u001b[0m\u001b[1m ncbi_id \u001b[0m\u001b[1m name                             \u001b[0m\u001b[1m rank    \u001b[0m\u001b[1m parent_id \u001b[0m\u001b[1m in_v12 \u001b[0m\u001b[1m manual_threshold \u001b[0m\u001b[1m report \u001b[0m\u001b[1m is_leaf \u001b[0m\n",
       "\u001b[1m     \u001b[0m│\u001b[90m Int64 \u001b[0m\u001b[90m Int64?  \u001b[0m\u001b[90m String                           \u001b[0m\u001b[90m String? \u001b[0m\u001b[90m Int64?    \u001b[0m\u001b[90m Bool   \u001b[0m\u001b[90m Float64          \u001b[0m\u001b[90m Bool   \u001b[0m\u001b[90m Bool    \u001b[0m\n",
       "─────┼─────────────────────────────────────────────────────────────────────────────────────────────────────────────────\n",
       "   1 │    56   119044  Filomicrobium                     genus   \u001b[90m   missing \u001b[0m   true              NaN     true    false\n",
       "   2 │    62    33055  Candidatus Kinetoplastibacterium  genus   \u001b[90m   missing \u001b[0m   true              NaN     true    false\n",
       "   3 │    78    59732  Chryseobacterium                  genus   \u001b[90m   missing \u001b[0m   true              NaN     true    false\n",
       "   4 │    98   135575  Idiomarina                        genus   \u001b[90m   missing \u001b[0m   true              NaN     true    false\n",
       "   5 │   127  2767353  Lancefieldella                    genus   \u001b[90m   missing \u001b[0m   true              NaN     true    false\n",
       "   6 │   141  2675231  Mesobacillus                      genus   \u001b[90m   missing \u001b[0m   true              NaN     true    false\n",
       "   7 │   195    41707  Lawsonia                          genus   \u001b[90m   missing \u001b[0m   true              NaN     true    false\n",
       "   8 │   238      939  Hydrogenobacter                   genus   \u001b[90m   missing \u001b[0m   true              NaN     true    false\n",
       "   9 │   393   282198  Nereida                           genus   \u001b[90m   missing \u001b[0m   true              NaN     true    false"
      ]
     },
     "execution_count": 19,
     "metadata": {},
     "output_type": "execute_result"
    }
   ],
   "source": [
    "extra_removed = Set{Int}()\n",
    "\n",
    "while true\n",
    "    parents = Set(pid for pid in taxa_edited[!, :parent_id] if !ismissing(pid))\n",
    "    remove_idxs = [i for (i, row) in enumerate(eachrow(taxa_edited)) if !row[:is_leaf] && row[:id] ∉ parents]\n",
    "\n",
    "    isempty(remove_idxs) && break\n",
    "    \n",
    "    union!(extra_removed, taxa_edited[remove_idxs, :id])\n",
    "    delete!(taxa_edited, remove_idxs)\n",
    "end\n",
    "\n",
    "filter(row -> row[:id] ∈ extra_removed, taxa_df)"
   ]
  },
  {
   "cell_type": "markdown",
   "id": "varied-negotiation",
   "metadata": {},
   "source": [
    "### Root taxa parent IDs\n",
    "\n",
    "Noticed there was one taxon with a `0` in the `:parent_id` column instead of `missing`, replace this for consistency."
   ]
  },
  {
   "cell_type": "code",
   "execution_count": 20,
   "id": "indie-dynamics",
   "metadata": {},
   "outputs": [
    {
     "name": "stdout",
     "output_type": "stream",
     "text": [
      "1\n"
     ]
    }
   ],
   "source": [
    "# Replace parent ID of 0 with missing (means same thing)\n",
    "println(count(isequal(0), taxa_edited[!, :parent_id]))\n",
    "replace!(taxa_edited[!, :parent_id], 0 => missing);"
   ]
  },
  {
   "cell_type": "markdown",
   "id": "fourth-chorus",
   "metadata": {},
   "source": [
    "## Verify all overlaps of leaf taxa removed"
   ]
  },
  {
   "cell_type": "markdown",
   "id": "likely-printer",
   "metadata": {},
   "source": [
    "### Setup"
   ]
  },
  {
   "cell_type": "code",
   "execution_count": 21,
   "id": "vocal-laugh",
   "metadata": {},
   "outputs": [
    {
     "data": {
      "text/plain": [
       "1445"
      ]
     },
     "execution_count": 21,
     "metadata": {},
     "output_type": "execute_result"
    }
   ],
   "source": [
    "leaf_tidxs = findall(taxa_edited[!, :is_leaf])\n",
    "leaf_tids = taxa_edited[leaf_tidxs, :id]\n",
    "nleaves = length(leaf_tidxs)\n",
    "\n",
    "@assert issetequal(leaf_tids, setdiff(Set(assignments_edited), 0))\n",
    "\n",
    "length(leaf_tids)"
   ]
  },
  {
   "cell_type": "code",
   "execution_count": 22,
   "id": "deadly-peace",
   "metadata": {},
   "outputs": [],
   "source": [
    "leaf_id_to_index = Dict(tid => i for (i, tid) in enumerate(leaf_tids))\n",
    "leaf_gidxs = [Int[] for _ in leaf_tids]\n",
    "\n",
    "for (gi, tid) in enumerate(assignments_edited)\n",
    "    tid == 0 || push!(leaf_gidxs[leaf_id_to_index[tid]], gi)\n",
    "end\n",
    "\n",
    "@assert all(gidxs -> length(gidxs) >= 2, leaf_gidxs)"
   ]
  },
  {
   "cell_type": "markdown",
   "id": "checked-truck",
   "metadata": {},
   "source": [
    "### Leaf distances"
   ]
  },
  {
   "cell_type": "code",
   "execution_count": 23,
   "id": "connected-bathroom",
   "metadata": {},
   "outputs": [],
   "source": [
    "leaf_diameters = [maximum(view(pw_dists, gidxs, gidxs)) for gidxs in leaf_gidxs];"
   ]
  },
  {
   "cell_type": "code",
   "execution_count": 24,
   "id": "abroad-chile",
   "metadata": {},
   "outputs": [],
   "source": [
    "leaf_thresholds = [\n",
    "    isnan(thresh) ? diam : thresh\n",
    "    for (thresh, diam) in zip(taxa_edited[leaf_tidxs, :manual_threshold], leaf_diameters)\n",
    "];"
   ]
  },
  {
   "cell_type": "code",
   "execution_count": 25,
   "id": "occupied-grain",
   "metadata": {},
   "outputs": [
    {
     "name": "stderr",
     "output_type": "stream",
     "text": [
      "\u001b[32mProgress: 100%|█████████████████████████████████████████| Time: 0:00:13\u001b[39m2:05\u001b[39m\n"
     ]
    }
   ],
   "source": [
    "leaf_pw_min_dists = zeros(eltype(pw_dists), nleaves, nleaves)\n",
    "\n",
    "@showprogress for (i, j) in iterpairs(nleaves)\n",
    "    d = minimum(view(pw_dists, leaf_gidxs[i], leaf_gidxs[j]))\n",
    "    leaf_pw_min_dists[i, j] = leaf_pw_min_dists[j, i] = d\n",
    "end"
   ]
  },
  {
   "cell_type": "markdown",
   "id": "equipped-nebraska",
   "metadata": {},
   "source": [
    "### Overlaps"
   ]
  },
  {
   "cell_type": "code",
   "execution_count": 26,
   "id": "amateur-change",
   "metadata": {},
   "outputs": [],
   "source": [
    "overlap_pairs = Pair{Int, Int}[]\n",
    "\n",
    "for (i, j) in iterpairs(nleaves)\n",
    "    d = leaf_pw_min_dists[i, j]\n",
    "    d <= leaf_thresholds[i] && push!(overlap_pairs, i => j)\n",
    "    d <= leaf_thresholds[j] && push!(overlap_pairs, j => i)\n",
    "end\n",
    "\n",
    "@assert isempty(overlap_pairs)"
   ]
  },
  {
   "cell_type": "markdown",
   "id": "ranging-visibility",
   "metadata": {},
   "source": [
    "## Summarize fixes"
   ]
  },
  {
   "cell_type": "code",
   "execution_count": 27,
   "id": "graduate-driver",
   "metadata": {},
   "outputs": [
    {
     "data": {
      "text/html": [
       "<table class=\"data-frame\"><thead><tr><th></th><th>id</th><th>ncbi_id</th><th>name</th><th>rank</th><th>component</th><th>taxon_removed</th><th>taxon_removed_reason</th><th>split</th><th>initial_ngenomes</th><th>final_ngenomes</th><th>initial_diameter</th><th>final_diameter</th><th>manual_threshold</th></tr><tr><th></th><th>Int64</th><th>Int64?</th><th>String</th><th>String?</th><th>Int64?</th><th>Bool</th><th>String?</th><th>String?</th><th>Int64</th><th>Int64</th><th>Float32?</th><th>String?</th><th>Float64?</th></tr></thead><tbody><p>49 rows × 13 columns</p><tr><th>1</th><td>1061</td><td>67351</td><td>Streptomyces californicus</td><td>species</td><td>1</td><td>0</td><td><em>missing</em></td><td><em>missing</em></td><td>5</td><td>5</td><td>0.316231</td><td>0.3162</td><td>0.2</td></tr><tr><th>2</th><td>1076</td><td>1888</td><td>Streptomyces albus</td><td>species</td><td>1</td><td>0</td><td><em>missing</em></td><td><em>missing</em></td><td>6</td><td>6</td><td>0.956074</td><td>0.9561</td><td>0.6</td></tr><tr><th>3</th><td>1086</td><td>1912</td><td>Streptomyces hygroscopicus</td><td>species</td><td>1</td><td>0</td><td><em>missing</em></td><td><em>missing</em></td><td>6</td><td>6</td><td>0.960201</td><td>0.9602</td><td>0.6</td></tr><tr><th>4</th><td>551</td><td>294</td><td>Pseudomonas fluorescens</td><td>species</td><td>2</td><td>0</td><td><em>missing</em></td><td><em>missing</em></td><td>38</td><td>38</td><td>0.976624</td><td>0.9766</td><td>0.8</td></tr><tr><th>5</th><td>555</td><td>303</td><td>Pseudomonas putida</td><td>species</td><td>2</td><td>0</td><td><em>missing</em></td><td>18/4/6</td><td>28</td><td>28</td><td>0.886751</td><td>0.7105/0.5615/0.7793</td><td><em>missing</em></td></tr><tr><th>6</th><td>557</td><td>317</td><td>Pseudomonas syringae</td><td>species</td><td>2</td><td>0</td><td><em>missing</em></td><td>51/19/33/7</td><td>114</td><td>110</td><td>0.915752</td><td>0.4567/0.3568/0.7149/0.3883</td><td><em>missing</em></td></tr><tr><th>7</th><td>1135</td><td>157782</td><td>Pseudomonas parafulva</td><td>species</td><td>2</td><td>0</td><td><em>missing</em></td><td><em>missing</em></td><td>4</td><td>4</td><td>0.941948</td><td>0.9419</td><td>0.6</td></tr><tr><th>8</th><td>1158</td><td>43263</td><td>Pseudomonas alcaligenes</td><td>species</td><td>2</td><td>0</td><td><em>missing</em></td><td><em>missing</em></td><td>4</td><td>4</td><td>0.961824</td><td>0.9618</td><td>0.8</td></tr><tr><th>9</th><td>1165</td><td>43306</td><td>Pseudomonas denitrificans (nom. rej.)</td><td>species</td><td>2</td><td>1</td><td>manual</td><td><em>missing</em></td><td>9</td><td>0</td><td>0.398932</td><td><em>missing</em></td><td><em>missing</em></td></tr><tr><th>10</th><td>1530</td><td>29438</td><td>Pseudomonas savastanoi</td><td>species</td><td>2</td><td>0</td><td><em>missing</em></td><td>9/15</td><td>24</td><td>24</td><td>0.489886</td><td>0.1716/0.2872</td><td><em>missing</em></td></tr><tr><th>11</th><td>1762</td><td>47877</td><td>Pseudomonas amygdali</td><td>species</td><td>2</td><td>0</td><td><em>missing</em></td><td>8/8/11</td><td>29</td><td>27</td><td>0.522444</td><td>0.4104/0.3309/0.2418</td><td><em>missing</em></td></tr><tr><th>12</th><td>549</td><td>292</td><td>Burkholderia cepacia</td><td>species</td><td>3</td><td>0</td><td><em>missing</em></td><td><em>missing</em></td><td>64</td><td>50</td><td>0.693642</td><td>0.5032</td><td>0.35</td></tr><tr><th>13</th><td>1547</td><td>29484</td><td>Yersinia frederiksenii</td><td>species</td><td>4</td><td>0</td><td><em>missing</em></td><td><em>missing</em></td><td>22</td><td>22</td><td>0.95911</td><td>0.9591</td><td>0.9</td></tr><tr><th>14</th><td>914</td><td>1428</td><td>Bacillus thuringiensis</td><td>species</td><td>5</td><td>0</td><td><em>missing</em></td><td><em>missing</em></td><td>19</td><td>16</td><td>0.683279</td><td>0.6652</td><td>0.5</td></tr><tr><th>15</th><td>1908</td><td><em>missing</em></td><td>Bacillus cereus subgroup 1</td><td><em>missing</em></td><td>5</td><td>0</td><td><em>missing</em></td><td><em>missing</em></td><td>80</td><td>58</td><td>0.739589</td><td>0.7009</td><td>0.6</td></tr><tr><th>16</th><td>1909</td><td><em>missing</em></td><td>Bacillus cereus subgroup 2</td><td><em>missing</em></td><td>5</td><td>0</td><td><em>missing</em></td><td><em>missing</em></td><td>71</td><td>58</td><td>0.691876</td><td>0.6256</td><td>0.55</td></tr><tr><th>17</th><td>1542</td><td>29461</td><td>Brucella suis</td><td>species</td><td>6</td><td>0</td><td><em>missing</em></td><td>10/25</td><td>40</td><td>35</td><td>0.0713532</td><td>0.0052/0.0142</td><td><em>missing</em></td></tr><tr><th>18</th><td>1665</td><td>120577</td><td>Brucella ceti</td><td>species</td><td>6</td><td>0</td><td><em>missing</em></td><td><em>missing</em></td><td>5</td><td>5</td><td>0.0611273</td><td>0.0611</td><td>0.02</td></tr><tr><th>19</th><td>626</td><td>562</td><td>Escherichia coli</td><td>species</td><td>9</td><td>0</td><td><em>missing</em></td><td>1487/2204/508</td><td>4204</td><td>4199</td><td>0.718016</td><td>0.6576/0.5529/0.4988</td><td><em>missing</em></td></tr><tr><th>20</th><td>644</td><td>621</td><td>Shigella boydii</td><td>species</td><td>9</td><td>0</td><td><em>missing</em></td><td>8/5</td><td>13</td><td>13</td><td>0.296933</td><td>0.1589/0.1041</td><td><em>missing</em></td></tr><tr><th>21</th><td>645</td><td>622</td><td>Shigella dysenteriae</td><td>species</td><td>9</td><td>0</td><td><em>missing</em></td><td>3/3</td><td>6</td><td>6</td><td>0.56022</td><td>0.0652/0.1487</td><td><em>missing</em></td></tr><tr><th>22</th><td>578</td><td>246167</td><td>Vibrio crassostreae</td><td>species</td><td>11</td><td>0</td><td><em>missing</em></td><td><em>missing</em></td><td>14</td><td>14</td><td>0.835725</td><td>0.8357</td><td>0.6</td></tr><tr><th>23</th><td>1877</td><td>212663</td><td>Vibrio tasmaniensis</td><td>species</td><td>11</td><td>0</td><td><em>missing</em></td><td><em>missing</em></td><td>5</td><td>5</td><td>0.872541</td><td>0.8725</td><td>0.7</td></tr><tr><th>24</th><td>1792</td><td>351187</td><td>Salinispora pacifica</td><td>species</td><td>12</td><td>0</td><td><em>missing</em></td><td>17/5/3</td><td>27</td><td>25</td><td>0.804802</td><td>0.6405/0.3915/0.3065</td><td><em>missing</em></td></tr><tr><th>25</th><td>1400</td><td>28450</td><td>Burkholderia pseudomallei</td><td>species</td><td>14</td><td>0</td><td><em>missing</em></td><td><em>missing</em></td><td>369</td><td>369</td><td>0.374681</td><td>0.3747</td><td>0.28</td></tr><tr><th>26</th><td>1321</td><td>28037</td><td>Streptococcus mitis</td><td>species</td><td>15</td><td>0</td><td><em>missing</em></td><td><em>missing</em></td><td>4</td><td>4</td><td>0.762209</td><td>0.7622</td><td>0.5</td></tr><tr><th>27</th><td>1391</td><td>257758</td><td>Streptococcus pseudopneumoniae</td><td>species</td><td>15</td><td>0</td><td><em>missing</em></td><td>6/5</td><td>11</td><td>11</td><td>0.846564</td><td>0.4875/0.6667</td><td><em>missing</em></td></tr><tr><th>28</th><td>505</td><td>195</td><td>Campylobacter coli</td><td>species</td><td>16</td><td>0</td><td><em>missing</em></td><td><em>missing</em></td><td>252</td><td>252</td><td>0.857719</td><td>0.8577</td><td>0.7</td></tr><tr><th>29</th><td>606</td><td>518</td><td>Bordetella bronchiseptica</td><td>species</td><td>19</td><td>0</td><td><em>missing</em></td><td><em>missing</em></td><td>63</td><td>63</td><td>0.415677</td><td>0.4157</td><td>0.35</td></tr><tr><th>30</th><td>620</td><td>550</td><td>Enterobacter cloacae</td><td>species</td><td>20</td><td>0</td><td><em>missing</em></td><td>23/18/13/9</td><td>98</td><td>63</td><td>0.677811</td><td>0.4379/0.3987/0.1463/0.1286</td><td><em>missing</em></td></tr><tr><th>&vellip;</th><td>&vellip;</td><td>&vellip;</td><td>&vellip;</td><td>&vellip;</td><td>&vellip;</td><td>&vellip;</td><td>&vellip;</td><td>&vellip;</td><td>&vellip;</td><td>&vellip;</td><td>&vellip;</td><td>&vellip;</td><td>&vellip;</td></tr></tbody></table>"
      ],
      "text/latex": [
       "\\begin{tabular}{r|ccccccccccccc}\n",
       "\t& id & ncbi\\_id & name & rank & component & taxon\\_removed & taxon\\_removed\\_reason & split & initial\\_ngenomes & final\\_ngenomes & initial\\_diameter & final\\_diameter & manual\\_threshold\\\\\n",
       "\t\\hline\n",
       "\t& Int64 & Int64? & String & String? & Int64? & Bool & String? & String? & Int64 & Int64 & Float32? & String? & Float64?\\\\\n",
       "\t\\hline\n",
       "\t1 & 1061 & 67351 & Streptomyces californicus & species & 1 & 0 & \\emph{missing} & \\emph{missing} & 5 & 5 & 0.316231 & 0.3162 & 0.2 \\\\\n",
       "\t2 & 1076 & 1888 & Streptomyces albus & species & 1 & 0 & \\emph{missing} & \\emph{missing} & 6 & 6 & 0.956074 & 0.9561 & 0.6 \\\\\n",
       "\t3 & 1086 & 1912 & Streptomyces hygroscopicus & species & 1 & 0 & \\emph{missing} & \\emph{missing} & 6 & 6 & 0.960201 & 0.9602 & 0.6 \\\\\n",
       "\t4 & 551 & 294 & Pseudomonas fluorescens & species & 2 & 0 & \\emph{missing} & \\emph{missing} & 38 & 38 & 0.976624 & 0.9766 & 0.8 \\\\\n",
       "\t5 & 555 & 303 & Pseudomonas putida & species & 2 & 0 & \\emph{missing} & 18/4/6 & 28 & 28 & 0.886751 & 0.7105/0.5615/0.7793 & \\emph{missing} \\\\\n",
       "\t6 & 557 & 317 & Pseudomonas syringae & species & 2 & 0 & \\emph{missing} & 51/19/33/7 & 114 & 110 & 0.915752 & 0.4567/0.3568/0.7149/0.3883 & \\emph{missing} \\\\\n",
       "\t7 & 1135 & 157782 & Pseudomonas parafulva & species & 2 & 0 & \\emph{missing} & \\emph{missing} & 4 & 4 & 0.941948 & 0.9419 & 0.6 \\\\\n",
       "\t8 & 1158 & 43263 & Pseudomonas alcaligenes & species & 2 & 0 & \\emph{missing} & \\emph{missing} & 4 & 4 & 0.961824 & 0.9618 & 0.8 \\\\\n",
       "\t9 & 1165 & 43306 & Pseudomonas denitrificans (nom. rej.) & species & 2 & 1 & manual & \\emph{missing} & 9 & 0 & 0.398932 & \\emph{missing} & \\emph{missing} \\\\\n",
       "\t10 & 1530 & 29438 & Pseudomonas savastanoi & species & 2 & 0 & \\emph{missing} & 9/15 & 24 & 24 & 0.489886 & 0.1716/0.2872 & \\emph{missing} \\\\\n",
       "\t11 & 1762 & 47877 & Pseudomonas amygdali & species & 2 & 0 & \\emph{missing} & 8/8/11 & 29 & 27 & 0.522444 & 0.4104/0.3309/0.2418 & \\emph{missing} \\\\\n",
       "\t12 & 549 & 292 & Burkholderia cepacia & species & 3 & 0 & \\emph{missing} & \\emph{missing} & 64 & 50 & 0.693642 & 0.5032 & 0.35 \\\\\n",
       "\t13 & 1547 & 29484 & Yersinia frederiksenii & species & 4 & 0 & \\emph{missing} & \\emph{missing} & 22 & 22 & 0.95911 & 0.9591 & 0.9 \\\\\n",
       "\t14 & 914 & 1428 & Bacillus thuringiensis & species & 5 & 0 & \\emph{missing} & \\emph{missing} & 19 & 16 & 0.683279 & 0.6652 & 0.5 \\\\\n",
       "\t15 & 1908 & \\emph{missing} & Bacillus cereus subgroup 1 & \\emph{missing} & 5 & 0 & \\emph{missing} & \\emph{missing} & 80 & 58 & 0.739589 & 0.7009 & 0.6 \\\\\n",
       "\t16 & 1909 & \\emph{missing} & Bacillus cereus subgroup 2 & \\emph{missing} & 5 & 0 & \\emph{missing} & \\emph{missing} & 71 & 58 & 0.691876 & 0.6256 & 0.55 \\\\\n",
       "\t17 & 1542 & 29461 & Brucella suis & species & 6 & 0 & \\emph{missing} & 10/25 & 40 & 35 & 0.0713532 & 0.0052/0.0142 & \\emph{missing} \\\\\n",
       "\t18 & 1665 & 120577 & Brucella ceti & species & 6 & 0 & \\emph{missing} & \\emph{missing} & 5 & 5 & 0.0611273 & 0.0611 & 0.02 \\\\\n",
       "\t19 & 626 & 562 & Escherichia coli & species & 9 & 0 & \\emph{missing} & 1487/2204/508 & 4204 & 4199 & 0.718016 & 0.6576/0.5529/0.4988 & \\emph{missing} \\\\\n",
       "\t20 & 644 & 621 & Shigella boydii & species & 9 & 0 & \\emph{missing} & 8/5 & 13 & 13 & 0.296933 & 0.1589/0.1041 & \\emph{missing} \\\\\n",
       "\t21 & 645 & 622 & Shigella dysenteriae & species & 9 & 0 & \\emph{missing} & 3/3 & 6 & 6 & 0.56022 & 0.0652/0.1487 & \\emph{missing} \\\\\n",
       "\t22 & 578 & 246167 & Vibrio crassostreae & species & 11 & 0 & \\emph{missing} & \\emph{missing} & 14 & 14 & 0.835725 & 0.8357 & 0.6 \\\\\n",
       "\t23 & 1877 & 212663 & Vibrio tasmaniensis & species & 11 & 0 & \\emph{missing} & \\emph{missing} & 5 & 5 & 0.872541 & 0.8725 & 0.7 \\\\\n",
       "\t24 & 1792 & 351187 & Salinispora pacifica & species & 12 & 0 & \\emph{missing} & 17/5/3 & 27 & 25 & 0.804802 & 0.6405/0.3915/0.3065 & \\emph{missing} \\\\\n",
       "\t25 & 1400 & 28450 & Burkholderia pseudomallei & species & 14 & 0 & \\emph{missing} & \\emph{missing} & 369 & 369 & 0.374681 & 0.3747 & 0.28 \\\\\n",
       "\t26 & 1321 & 28037 & Streptococcus mitis & species & 15 & 0 & \\emph{missing} & \\emph{missing} & 4 & 4 & 0.762209 & 0.7622 & 0.5 \\\\\n",
       "\t27 & 1391 & 257758 & Streptococcus pseudopneumoniae & species & 15 & 0 & \\emph{missing} & 6/5 & 11 & 11 & 0.846564 & 0.4875/0.6667 & \\emph{missing} \\\\\n",
       "\t28 & 505 & 195 & Campylobacter coli & species & 16 & 0 & \\emph{missing} & \\emph{missing} & 252 & 252 & 0.857719 & 0.8577 & 0.7 \\\\\n",
       "\t29 & 606 & 518 & Bordetella bronchiseptica & species & 19 & 0 & \\emph{missing} & \\emph{missing} & 63 & 63 & 0.415677 & 0.4157 & 0.35 \\\\\n",
       "\t30 & 620 & 550 & Enterobacter cloacae & species & 20 & 0 & \\emph{missing} & 23/18/13/9 & 98 & 63 & 0.677811 & 0.4379/0.3987/0.1463/0.1286 & \\emph{missing} \\\\\n",
       "\t$\\dots$ & $\\dots$ & $\\dots$ & $\\dots$ & $\\dots$ & $\\dots$ & $\\dots$ & $\\dots$ & $\\dots$ & $\\dots$ & $\\dots$ & $\\dots$ & $\\dots$ & $\\dots$ \\\\\n",
       "\\end{tabular}\n"
      ],
      "text/plain": [
       "\u001b[1m49×13 DataFrame\u001b[0m\n",
       "\u001b[1m Row \u001b[0m│\u001b[1m id    \u001b[0m\u001b[1m ncbi_id \u001b[0m\u001b[1m name                              \u001b[0m\u001b[1m rank    \u001b[0m\u001b[1m component \u001b[0m\u001b[1m taxon_removed \u001b[0m\u001b[1m taxon_removed_reason \u001b[0m\u001b[1m split      \u001b[0m\u001b[1m initial_ngenomes \u001b[0m\u001b[1m final_ngenomes \u001b[0m\u001b[1m initial_diameter \u001b[0m\u001b[1m final_diameter              \u001b[0m\u001b[1m manual_threshold \u001b[0m\n",
       "\u001b[1m     \u001b[0m│\u001b[90m Int64 \u001b[0m\u001b[90m Int64?  \u001b[0m\u001b[90m String                            \u001b[0m\u001b[90m String? \u001b[0m\u001b[90m Int64?    \u001b[0m\u001b[90m Bool          \u001b[0m\u001b[90m String?              \u001b[0m\u001b[90m String?    \u001b[0m\u001b[90m Int64            \u001b[0m\u001b[90m Int64          \u001b[0m\u001b[90m Float32?         \u001b[0m\u001b[90m String?                     \u001b[0m\u001b[90m Float64?         \u001b[0m\n",
       "─────┼───────────────────────────────────────────────────────────────────────────────────────────────────────────────────────────────────────────────────────────────────────────────────────────────────────────────────────────\n",
       "   1 │  1061    67351  Streptomyces californicus          species          1          false \u001b[90m missing              \u001b[0m\u001b[90m missing    \u001b[0m                5               5          0.316231  0.3162                                   0.2\n",
       "   2 │  1076     1888  Streptomyces albus                 species          1          false \u001b[90m missing              \u001b[0m\u001b[90m missing    \u001b[0m                6               6          0.956074  0.9561                                   0.6\n",
       "   3 │  1086     1912  Streptomyces hygroscopicus         species          1          false \u001b[90m missing              \u001b[0m\u001b[90m missing    \u001b[0m                6               6          0.960201  0.9602                                   0.6\n",
       "   4 │   551      294  Pseudomonas fluorescens            species          2          false \u001b[90m missing              \u001b[0m\u001b[90m missing    \u001b[0m               38              38          0.976624  0.9766                                   0.8\n",
       "   5 │   555      303  Pseudomonas putida                 species          2          false \u001b[90m missing              \u001b[0m 18/4/6                    28              28          0.886751  0.7105/0.5615/0.7793        \u001b[90m       missing    \u001b[0m\n",
       "   6 │   557      317  Pseudomonas syringae               species          2          false \u001b[90m missing              \u001b[0m 51/19/33/7               114             110          0.915752  0.4567/0.3568/0.7149/0.3883 \u001b[90m       missing    \u001b[0m\n",
       "   7 │  1135   157782  Pseudomonas parafulva              species          2          false \u001b[90m missing              \u001b[0m\u001b[90m missing    \u001b[0m                4               4          0.941948  0.9419                                   0.6\n",
       "   8 │  1158    43263  Pseudomonas alcaligenes            species          2          false \u001b[90m missing              \u001b[0m\u001b[90m missing    \u001b[0m                4               4          0.961824  0.9618                                   0.8\n",
       "   9 │  1165    43306  Pseudomonas denitrificans (nom. …  species          2           true  manual               \u001b[90m missing    \u001b[0m                9               0          0.398932 \u001b[90m missing                     \u001b[0m\u001b[90m       missing    \u001b[0m\n",
       "  10 │  1530    29438  Pseudomonas savastanoi             species          2          false \u001b[90m missing              \u001b[0m 9/15                      24              24          0.489886  0.1716/0.2872               \u001b[90m       missing    \u001b[0m\n",
       "  11 │  1762    47877  Pseudomonas amygdali               species          2          false \u001b[90m missing              \u001b[0m 8/8/11                    29              27          0.522444  0.4104/0.3309/0.2418        \u001b[90m       missing    \u001b[0m\n",
       "  ⋮  │   ⋮       ⋮                     ⋮                     ⋮         ⋮            ⋮                 ⋮                ⋮              ⋮                ⋮                ⋮                       ⋮                      ⋮\n",
       "  40 │  1565    29520  Borrelia crocidurae                species         34          false \u001b[90m missing              \u001b[0m\u001b[90m missing    \u001b[0m                3               3          0.489183  0.4892                                   0.4\n",
       "  41 │    56   119044  Filomicrobium                      genus   \u001b[90m   missing \u001b[0m          true  child taxa removed   \u001b[90m missing    \u001b[0m                0               0 \u001b[90m   missing        \u001b[0m\u001b[90m missing                     \u001b[0m\u001b[90m       missing    \u001b[0m\n",
       "  42 │    62    33055  Candidatus Kinetoplastibacterium   genus   \u001b[90m   missing \u001b[0m          true  child taxa removed   \u001b[90m missing    \u001b[0m                0               0 \u001b[90m   missing        \u001b[0m\u001b[90m missing                     \u001b[0m\u001b[90m       missing    \u001b[0m\n",
       "  43 │    78    59732  Chryseobacterium                   genus   \u001b[90m   missing \u001b[0m          true  child taxa removed   \u001b[90m missing    \u001b[0m                0               0 \u001b[90m   missing        \u001b[0m\u001b[90m missing                     \u001b[0m\u001b[90m       missing    \u001b[0m\n",
       "  44 │    98   135575  Idiomarina                         genus   \u001b[90m   missing \u001b[0m          true  child taxa removed   \u001b[90m missing    \u001b[0m                0               0 \u001b[90m   missing        \u001b[0m\u001b[90m missing                     \u001b[0m\u001b[90m       missing    \u001b[0m\n",
       "  45 │   127  2767353  Lancefieldella                     genus   \u001b[90m   missing \u001b[0m          true  child taxa removed   \u001b[90m missing    \u001b[0m                0               0 \u001b[90m   missing        \u001b[0m\u001b[90m missing                     \u001b[0m\u001b[90m       missing    \u001b[0m\n",
       "  46 │   141  2675231  Mesobacillus                       genus   \u001b[90m   missing \u001b[0m          true  child taxa removed   \u001b[90m missing    \u001b[0m                0               0 \u001b[90m   missing        \u001b[0m\u001b[90m missing                     \u001b[0m\u001b[90m       missing    \u001b[0m\n",
       "  47 │   195    41707  Lawsonia                           genus   \u001b[90m   missing \u001b[0m          true  child taxa removed   \u001b[90m missing    \u001b[0m                0               0 \u001b[90m   missing        \u001b[0m\u001b[90m missing                     \u001b[0m\u001b[90m       missing    \u001b[0m\n",
       "  48 │   238      939  Hydrogenobacter                    genus   \u001b[90m   missing \u001b[0m          true  child taxa removed   \u001b[90m missing    \u001b[0m                0               0 \u001b[90m   missing        \u001b[0m\u001b[90m missing                     \u001b[0m\u001b[90m       missing    \u001b[0m\n",
       "  49 │   393   282198  Nereida                            genus   \u001b[90m   missing \u001b[0m          true  child taxa removed   \u001b[90m missing    \u001b[0m                0               0 \u001b[90m   missing        \u001b[0m\u001b[90m missing                     \u001b[0m\u001b[90m       missing    \u001b[0m\n",
       "\u001b[31m                                                                                                                                                                                                                  28 rows omitted\u001b[0m"
      ]
     },
     "execution_count": 27,
     "metadata": {},
     "output_type": "execute_result"
    }
   ],
   "source": [
    "summary_df = let\n",
    "    rows = Any[]\n",
    "    \n",
    "    tid_to_ci = Dict(tid => ci for (ci, tids) in enumerate(components) for tid in tids)\n",
    "\n",
    "    for row in eachrow(taxa_df)\n",
    "        tid = row[:id]\n",
    "\n",
    "        orig_gidxs = findall(==(tid), genome_assignments)\n",
    "        initial_ngenomes = length(orig_gidxs)\n",
    "        initial_diameter = isempty(orig_gidxs) ? missing : maximum(view(pw_dists, orig_gidxs, orig_gidxs))\n",
    "        \n",
    "        if tid ∈ removed_taxa\n",
    "            removed = true\n",
    "            removed_reason = \"manual\"\n",
    "        elseif tid ∈ extra_removed\n",
    "            removed = true\n",
    "            removed_reason = \"child taxa removed\"\n",
    "        else\n",
    "            removed = false\n",
    "            removed_reason = missing\n",
    "        end\n",
    "        \n",
    "        if removed\n",
    "            final_diameter = missing\n",
    "            final_ngenomes = 0\n",
    "            split_str = missing\n",
    "        else\n",
    "            haskey(manual_thresholds, tid) || haskey(split_taxa, tid) || continue\n",
    "            \n",
    "            if haskey(split_taxa, tid)\n",
    "                subgroup_gidxs = [findall(==(sid), assignments_edited) for sid in split_taxa[tid]]\n",
    "                split_str = join(length.(subgroup_gidxs), \"/\")\n",
    "            else\n",
    "                subgroup_gidxs = [findall(==(tid), assignments_edited)]\n",
    "                split_str = missing\n",
    "            end\n",
    "            \n",
    "            diams = [maximum(view(pw_dists, gidxs, gidxs)) for gidxs in subgroup_gidxs]\n",
    "            final_diameter = join((@sprintf(\"%.4f\", d) for d in diams), \"/\")\n",
    "            final_ngenomes = sum(length.(subgroup_gidxs))\n",
    "        end\n",
    "\n",
    "        push!(rows, (\n",
    "            id=tid,\n",
    "            ncbi_id=row[:ncbi_id],\n",
    "            name=row[:name],\n",
    "            rank=row[:rank],\n",
    "            component=get(tid_to_ci, tid, missing),\n",
    "            taxon_removed=removed,\n",
    "            taxon_removed_reason=removed_reason,\n",
    "            split=split_str,\n",
    "            initial_ngenomes=initial_ngenomes,\n",
    "            final_ngenomes=final_ngenomes,\n",
    "            initial_diameter=initial_diameter,\n",
    "            final_diameter=final_diameter,\n",
    "            manual_threshold=get(manual_thresholds, tid, missing),\n",
    "        ))\n",
    "    end\n",
    "    \n",
    "    df = DataFrame(rows)\n",
    "    sort!(df, :component)\n",
    "end"
   ]
  },
  {
   "cell_type": "markdown",
   "id": "adjacent-brazil",
   "metadata": {},
   "source": [
    "## Write output"
   ]
  },
  {
   "cell_type": "code",
   "execution_count": 28,
   "id": "behind-calibration",
   "metadata": {},
   "outputs": [],
   "source": [
    "CSV.write(intermediate_out / \"taxa.csv\", taxa_edited);"
   ]
  },
  {
   "cell_type": "code",
   "execution_count": 29,
   "id": "recovered-lying",
   "metadata": {},
   "outputs": [],
   "source": [
    "open(intermediate_out / \"genome-taxon-assignments.json\", \"w\") do f\n",
    "    JSON.print(f, assignments_edited)\n",
    "end"
   ]
  },
  {
   "cell_type": "code",
   "execution_count": 30,
   "id": "antique-clarity",
   "metadata": {},
   "outputs": [],
   "source": [
    "CSV.write(processed_out / \"$DATESTR-species-overlap-fixes-summary.csv\", summary_df);"
   ]
  }
 ],
 "metadata": {
  "kernelspec": {
   "display_name": "Julia 1.5.1",
   "language": "julia",
   "name": "julia-1.5"
  },
  "language_info": {
   "file_extension": ".jl",
   "mimetype": "application/julia",
   "name": "julia",
   "version": "1.5.1"
  }
 },
 "nbformat": 4,
 "nbformat_minor": 5
}
