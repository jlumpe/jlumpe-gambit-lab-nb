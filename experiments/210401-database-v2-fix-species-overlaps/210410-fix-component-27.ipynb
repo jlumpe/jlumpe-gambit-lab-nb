{
 "cells": [
  {
   "cell_type": "markdown",
   "id": "supported-rwanda",
   "metadata": {},
   "source": [
    "# 210410 Fix Component 27"
   ]
  },
  {
   "cell_type": "code",
   "execution_count": 1,
   "id": "liberal-adapter",
   "metadata": {},
   "outputs": [],
   "source": [
    "const COMPONENT = 27;"
   ]
  },
  {
   "cell_type": "code",
   "execution_count": 2,
   "id": "aerial-pizza",
   "metadata": {},
   "outputs": [
    {
     "data": {
      "text/html": [
       "<script>\n",
       "// Immediately-invoked-function-expression to avoid global variables.\n",
       "(function() {\n",
       "    var warning_div = document.getElementById(\"webio-warning-8604841964046679710\");\n",
       "    var hide = function () {\n",
       "        var script = document.getElementById(\"webio-setup-12807224305717315446\");\n",
       "        var parent = script && script.parentElement;\n",
       "        var grandparent = parent && parent.parentElement;\n",
       "        if (grandparent) {\n",
       "            grandparent.style.display = \"none\";\n",
       "        }\n",
       "        warning_div.style.display = \"none\";\n",
       "    };\n",
       "    if (typeof Jupyter !== \"undefined\") {\n",
       "        console.log(\"WebIO detected Jupyter notebook environment.\");\n",
       "        // Jupyter notebook.\n",
       "        var extensions = (\n",
       "            Jupyter\n",
       "            && Jupyter.notebook.config.data\n",
       "            && Jupyter.notebook.config.data.load_extensions\n",
       "        );\n",
       "        if (extensions && extensions[\"webio-jupyter-notebook\"]) {\n",
       "            // Extension already loaded.\n",
       "            console.log(\"Jupyter WebIO nbextension detected; not loading ad-hoc.\");\n",
       "            hide();\n",
       "            return;\n",
       "        }\n",
       "    } else if (window.location.pathname.includes(\"/lab\")) {\n",
       "        // Guessing JupyterLa\n",
       "        console.log(\"Jupyter Lab detected; make sure the @webio/jupyter-lab-provider labextension is installed.\");\n",
       "        hide();\n",
       "        return;\n",
       "    }\n",
       "})();\n",
       "\n",
       "</script>\n",
       "<p\n",
       "    id=\"webio-warning-8604841964046679710\"\n",
       "    class=\"output_text output_stderr\"\n",
       "    style=\"padding: 1em; font-weight: bold;\"\n",
       ">\n",
       "    Unable to load WebIO. Please make sure WebIO works for your Jupyter client.\n",
       "    For troubleshooting, please see <a href=\"https://juliagizmos.github.io/WebIO.jl/latest/providers/ijulia/\">\n",
       "    the WebIO/IJulia documentation</a>.\n",
       "    <!-- TODO: link to installation docs. -->\n",
       "</p>\n"
      ],
      "text/plain": [
       "HTML{String}(\"<script>\\n// Immediately-invoked-function-expression to avoid global variables.\\n(function() {\\n    var warning_div = document.getElementById(\\\"webio-warning-8604841964046679710\\\");\\n    var hide = function () {\\n        var script = document.getElementById(\\\"webio-setup-12807224305717315446\\\");\\n        var parent = script && script.parentElement;\\n        var grandparent = parent && parent.parentElement;\\n        if (grandparent) {\\n            grandparent.style.display = \\\"none\\\";\\n        }\\n        warning_div.style.display = \\\"none\\\";\\n    };\\n    if (typeof Jupyter !== \\\"undefined\\\") {\\n        console.log(\\\"WebIO detected Jupyter notebook environment.\\\");\\n        // Jupyter notebook.\\n        var extensions = (\\n            Jupyter\\n            && Jupyter.notebook.config.data\\n            && Jupyter.notebook.config.data.load_extensions\\n        );\\n        if (extensions && extensions[\\\"webio-jupyter-notebook\\\"]) {\\n            // Extension already loaded.\\n            console.log(\\\"Jupyter WebIO nbextension detected; not loading ad-hoc.\\\");\\n            hide();\\n            return;\\n        }\\n    } else if (window.location.pathname.includes(\\\"/lab\\\")) {\\n        // Guessing JupyterLa\\n        console.log(\\\"Jupyter Lab detected; make sure the @webio/jupyter-lab-provider labextension is installed.\\\");\\n        hide();\\n        return;\\n    }\\n})();\\n\\n</script>\\n<p\\n    id=\\\"webio-warning-8604841964046679710\\\"\\n    class=\\\"output_text output_stderr\\\"\\n    style=\\\"padding: 1em; font-weight: bold;\\\"\\n>\\n    Unable to load WebIO. Please make sure WebIO works for your Jupyter client.\\n    For troubleshooting, please see <a href=\\\"https://juliagizmos.github.io/WebIO.jl/latest/providers/ijulia/\\\">\\n    the WebIO/IJulia documentation</a>.\\n    <!-- TODO: link to installation docs. -->\\n</p>\\n\")"
      ]
     },
     "metadata": {},
     "output_type": "display_data"
    },
    {
     "data": {
      "text/html": [
       "<table class=\"data-frame\"><thead><tr><th></th><th>id</th><th>ncbi_id</th><th>name</th><th>rank</th><th>parent_id</th><th>in_v12</th><th>manual_threshold</th><th>report</th><th>ngenomes</th><th>comp_idx</th><th>diameter</th><th>outgoing</th><th>incoming</th><th>name_abbr</th></tr><tr><th></th><th>Int64</th><th>Int64?</th><th>String</th><th>String?</th><th>Int64?</th><th>Bool</th><th>Float64</th><th>Bool</th><th>Int64</th><th>Int64</th><th>Float32</th><th>Int64</th><th>Int64</th><th>SubStri…</th></tr></thead><tbody><p>2 rows × 14 columns</p><tr><th>1</th><td>908</td><td>1408</td><td>Bacillus pumilus</td><td>species</td><td>350</td><td>1</td><td>NaN</td><td>1</td><td>20</td><td>1</td><td>0.878503</td><td>1</td><td>0</td><td>pumilus</td></tr><tr><th>2</th><td>1521</td><td>561879</td><td>Bacillus safensis</td><td>species</td><td>350</td><td>1</td><td>NaN</td><td>1</td><td>4</td><td>2</td><td>0.487341</td><td>0</td><td>1</td><td>safensis</td></tr></tbody></table>"
      ],
      "text/latex": [
       "\\begin{tabular}{r|cccccccccccccc}\n",
       "\t& id & ncbi\\_id & name & rank & parent\\_id & in\\_v12 & manual\\_threshold & report & ngenomes & comp\\_idx & diameter & outgoing & incoming & name\\_abbr\\\\\n",
       "\t\\hline\n",
       "\t& Int64 & Int64? & String & String? & Int64? & Bool & Float64 & Bool & Int64 & Int64 & Float32 & Int64 & Int64 & SubStri…\\\\\n",
       "\t\\hline\n",
       "\t1 & 908 & 1408 & Bacillus pumilus & species & 350 & 1 & NaN & 1 & 20 & 1 & 0.878503 & 1 & 0 & pumilus \\\\\n",
       "\t2 & 1521 & 561879 & Bacillus safensis & species & 350 & 1 & NaN & 1 & 4 & 2 & 0.487341 & 0 & 1 & safensis \\\\\n",
       "\\end{tabular}\n"
      ],
      "text/plain": [
       "\u001b[1m2×14 DataFrame\u001b[0m\n",
       "\u001b[1m Row \u001b[0m│\u001b[1m id    \u001b[0m\u001b[1m ncbi_id \u001b[0m\u001b[1m name              \u001b[0m\u001b[1m rank    \u001b[0m\u001b[1m parent_id \u001b[0m\u001b[1m in_v12 \u001b[0m\u001b[1m manual_threshold \u001b[0m\u001b[1m report \u001b[0m\u001b[1m ngenomes \u001b[0m\u001b[1m comp_idx \u001b[0m\u001b[1m diameter \u001b[0m\u001b[1m outgoing \u001b[0m\u001b[1m incoming \u001b[0m\u001b[1m name_abbr \u001b[0m\n",
       "\u001b[1m     \u001b[0m│\u001b[90m Int64 \u001b[0m\u001b[90m Int64?  \u001b[0m\u001b[90m String            \u001b[0m\u001b[90m String? \u001b[0m\u001b[90m Int64?    \u001b[0m\u001b[90m Bool   \u001b[0m\u001b[90m Float64          \u001b[0m\u001b[90m Bool   \u001b[0m\u001b[90m Int64    \u001b[0m\u001b[90m Int64    \u001b[0m\u001b[90m Float32  \u001b[0m\u001b[90m Int64    \u001b[0m\u001b[90m Int64    \u001b[0m\u001b[90m SubStrin… \u001b[0m\n",
       "─────┼──────────────────────────────────────────────────────────────────────────────────────────────────────────────────────────────────────────────────────\n",
       "   1 │   908     1408  Bacillus pumilus   species        350    true              NaN     true        20         1  0.878503         1         0  pumilus\n",
       "   2 │  1521   561879  Bacillus safensis  species        350    true              NaN     true         4         2  0.487341         0         1  safensis"
      ]
     },
     "metadata": {},
     "output_type": "display_data"
    }
   ],
   "source": [
    "include(\"fix-component-base.jl\");"
   ]
  },
  {
   "cell_type": "code",
   "execution_count": 3,
   "id": "crude-gardening",
   "metadata": {},
   "outputs": [],
   "source": [
    "trees = Dict{String, Any}();"
   ]
  },
  {
   "cell_type": "code",
   "execution_count": 4,
   "id": "rolled-diesel",
   "metadata": {},
   "outputs": [
    {
     "data": {
      "application/vnd.plotly.v1+json": {
       "data": [
        {
         "hoverinfo": "skip",
         "line": {
          "color": "#666666"
         },
         "mode": "lines",
         "showlegend": false,
         "type": "scatter",
         "x": [
          8.0703125,
          17.4375,
          null,
          8.0703125,
          8.0703125,
          null,
          17.4375,
          17.4375,
          null
         ],
         "y": [
          0.8785027861595154,
          0.8785027861595154,
          null,
          0.8785027861595154,
          0.40160587430000305,
          null,
          0.8785027861595154,
          0.82781982421875,
          null
         ],
         "yaxis": "y"
        },
        {
         "hoverinfo": "skip",
         "line": {
          "color": "#AEC7E8"
         },
         "mode": "lines",
         "showlegend": false,
         "type": "scatter",
         "x": [
          3.5,
          5,
          null,
          3.5,
          3.5,
          null,
          5,
          5,
          null
         ],
         "y": [
          0.30003079771995544,
          0.30003079771995544,
          null,
          0.30003079771995544,
          0.27551257610321045,
          null,
          0.30003079771995544,
          0,
          null
         ],
         "yaxis": "y"
        },
        {
         "hoverinfo": "skip",
         "line": {
          "color": "#AEC7E8"
         },
         "mode": "lines",
         "showlegend": false,
         "type": "scatter",
         "x": [
          9.5,
          11,
          null,
          9.5,
          9.5,
          null,
          11,
          11,
          null
         ],
         "y": [
          0.3602002263069153,
          0.3602002263069153,
          null,
          0.3602002263069153,
          0.3194444477558136,
          null,
          0.3602002263069153,
          0,
          null
         ],
         "yaxis": "y"
        },
        {
         "hoverinfo": "skip",
         "line": {
          "color": "#AEC7E8"
         },
         "mode": "lines",
         "showlegend": false,
         "type": "scatter",
         "x": [
          3.78125,
          8,
          null,
          3.78125,
          3.78125,
          null,
          8,
          8,
          null
         ],
         "y": [
          0.34828904271125793,
          0.34828904271125793,
          null,
          0.34828904271125793,
          0.3370318114757538,
          null,
          0.34828904271125793,
          0,
          null
         ],
         "yaxis": "y"
        },
        {
         "hoverinfo": "skip",
         "line": {
          "color": "#666666"
         },
         "mode": "lines",
         "showlegend": false,
         "type": "scatter",
         "x": [
          14,
          20.875,
          null,
          14,
          14,
          null,
          20.875,
          20.875,
          null
         ],
         "y": [
          0.82781982421875,
          0.82781982421875,
          null,
          0.82781982421875,
          0.5781402587890625,
          null,
          0.82781982421875,
          0.662848174571991,
          null
         ],
         "yaxis": "y"
        },
        {
         "hoverinfo": "skip",
         "line": {
          "color": "#666666"
         },
         "mode": "lines",
         "showlegend": false,
         "type": "scatter",
         "x": [
          12.5,
          15.5,
          null,
          12.5,
          12.5,
          null,
          15.5,
          15.5,
          null
         ],
         "y": [
          0.5781402587890625,
          0.5781402587890625,
          null,
          0.5781402587890625,
          0.00018406036542728543,
          null,
          0.5781402587890625,
          0.48734089732170105,
          null
         ],
         "yaxis": "y"
        },
        {
         "fill": "toself",
         "hoverinfo": "skip",
         "line": {
          "color": "#AEC7E8"
         },
         "mode": "lines",
         "showlegend": false,
         "type": "scatter",
         "x": [
          18,
          18,
          19,
          19
         ],
         "y": [
          0,
          0.0019534884486347437,
          0.0019534884486347437,
          0
         ],
         "yaxis": "y"
        },
        {
         "fill": "toself",
         "hoverinfo": "skip",
         "line": {
          "color": "#AEC7E8"
         },
         "mode": "lines",
         "showlegend": false,
         "type": "scatter",
         "x": [
          12,
          12,
          13,
          13
         ],
         "y": [
          0,
          0.00018406036542728543,
          0.00018406036542728543,
          0
         ],
         "yaxis": "y"
        },
        {
         "hoverinfo": "skip",
         "line": {
          "color": "#AEC7E8"
         },
         "mode": "lines",
         "showlegend": false,
         "type": "scatter",
         "x": [
          1,
          2,
          null,
          1,
          1,
          null,
          2,
          2,
          null
         ],
         "y": [
          0.31665533781051636,
          0.31665533781051636,
          null,
          0.31665533781051636,
          0,
          null,
          0.31665533781051636,
          0,
          null
         ],
         "yaxis": "y"
        },
        {
         "hoverinfo": "skip",
         "line": {
          "color": "#AEC7E8"
         },
         "mode": "lines",
         "showlegend": false,
         "type": "scatter",
         "x": [
          4.25,
          6,
          null,
          4.25,
          4.25,
          null,
          6,
          6,
          null
         ],
         "y": [
          0.31172552704811096,
          0.31172552704811096,
          null,
          0.31172552704811096,
          0.30003079771995544,
          null,
          0.31172552704811096,
          0,
          null
         ],
         "yaxis": "y"
        },
        {
         "hoverinfo": "skip",
         "line": {
          "color": "#AEC7E8"
         },
         "mode": "lines",
         "showlegend": false,
         "type": "scatter",
         "x": [
          3,
          4,
          null,
          3,
          3,
          null,
          4,
          4,
          null
         ],
         "y": [
          0.27551257610321045,
          0.27551257610321045,
          null,
          0.27551257610321045,
          0,
          null,
          0.27551257610321045,
          0,
          null
         ],
         "yaxis": "y"
        },
        {
         "hoverinfo": "skip",
         "line": {
          "color": "#FFBB78"
         },
         "mode": "lines",
         "showlegend": false,
         "type": "scatter",
         "x": [
          14.5,
          16.5,
          null,
          14.5,
          14.5,
          null,
          16.5,
          16.5,
          null
         ],
         "y": [
          0.48734089732170105,
          0.48734089732170105,
          null,
          0.48734089732170105,
          0.24673137068748474,
          null,
          0.48734089732170105,
          0.28262075781822205,
          null
         ],
         "yaxis": "y"
        },
        {
         "hoverinfo": "skip",
         "line": {
          "color": "#AEC7E8"
         },
         "mode": "lines",
         "showlegend": false,
         "type": "scatter",
         "x": [
          21.5,
          23.5,
          null,
          21.5,
          21.5,
          null,
          23.5,
          23.5,
          null
         ],
         "y": [
          0.5782723426818848,
          0.5782723426818848,
          null,
          0.5782723426818848,
          0.17030352354049683,
          null,
          0.5782723426818848,
          0.30545592308044434,
          null
         ],
         "yaxis": "y"
        },
        {
         "hoverinfo": "skip",
         "line": {
          "color": "#AEC7E8"
         },
         "mode": "lines",
         "showlegend": false,
         "type": "scatter",
         "x": [
          5.125,
          7,
          null,
          5.125,
          5.125,
          null,
          7,
          7,
          null
         ],
         "y": [
          0.3231011629104614,
          0.3231011629104614,
          null,
          0.3231011629104614,
          0.31172552704811096,
          null,
          0.3231011629104614,
          0,
          null
         ],
         "yaxis": "y"
        },
        {
         "fill": "toself",
         "hoverinfo": "skip",
         "line": {
          "color": "#FFBB78"
         },
         "mode": "lines",
         "showlegend": false,
         "type": "scatter",
         "x": [
          14,
          14,
          15,
          15
         ],
         "y": [
          0,
          0.24673137068748474,
          0.24673137068748474,
          0
         ],
         "yaxis": "y"
        },
        {
         "hoverinfo": "skip",
         "line": {
          "color": "#AEC7E8"
         },
         "mode": "lines",
         "showlegend": false,
         "type": "scatter",
         "x": [
          1.5,
          6.0625,
          null,
          1.5,
          1.5,
          null,
          6.0625,
          6.0625,
          null
         ],
         "y": [
          0.3370318114757538,
          0.3370318114757538,
          null,
          0.3370318114757538,
          0.31665533781051636,
          null,
          0.3370318114757538,
          0.3231011629104614,
          null
         ],
         "yaxis": "y"
        },
        {
         "hoverinfo": "skip",
         "line": {
          "color": "#AEC7E8"
         },
         "mode": "lines",
         "showlegend": false,
         "type": "scatter",
         "x": [
          19.25,
          22.5,
          null,
          19.25,
          19.25,
          null,
          22.5,
          22.5,
          null
         ],
         "y": [
          0.662848174571991,
          0.662848174571991,
          null,
          0.662848174571991,
          0.2968417704105377,
          null,
          0.662848174571991,
          0.5782723426818848,
          null
         ],
         "yaxis": "y"
        },
        {
         "hoverinfo": "skip",
         "line": {
          "color": "#AEC7E8"
         },
         "mode": "lines",
         "showlegend": false,
         "type": "scatter",
         "x": [
          18.5,
          20,
          null,
          18.5,
          18.5,
          null,
          20,
          20,
          null
         ],
         "y": [
          0.2968417704105377,
          0.2968417704105377,
          null,
          0.2968417704105377,
          0.0019534884486347437,
          null,
          0.2968417704105377,
          0,
          null
         ],
         "yaxis": "y"
        },
        {
         "fill": "toself",
         "hoverinfo": "skip",
         "line": {
          "color": "#AEC7E8"
         },
         "mode": "lines",
         "showlegend": false,
         "type": "scatter",
         "x": [
          21,
          21,
          22,
          22
         ],
         "y": [
          0,
          0.17030352354049683,
          0.17030352354049683,
          0
         ],
         "yaxis": "y"
        },
        {
         "hoverinfo": "skip",
         "line": {
          "color": "#AEC7E8"
         },
         "mode": "lines",
         "showlegend": false,
         "type": "scatter",
         "x": [
          9,
          10,
          null,
          9,
          9,
          null,
          10,
          10,
          null
         ],
         "y": [
          0.3194444477558136,
          0.3194444477558136,
          null,
          0.3194444477558136,
          0,
          null,
          0.3194444477558136,
          0,
          null
         ],
         "yaxis": "y"
        },
        {
         "hoverinfo": "skip",
         "line": {
          "color": "#AEC7E8"
         },
         "mode": "lines",
         "showlegend": false,
         "type": "scatter",
         "x": [
          5.890625,
          10.25,
          null,
          5.890625,
          5.890625,
          null,
          10.25,
          10.25,
          null
         ],
         "y": [
          0.40160587430000305,
          0.40160587430000305,
          null,
          0.40160587430000305,
          0.34828904271125793,
          null,
          0.40160587430000305,
          0.3602002263069153,
          null
         ],
         "yaxis": "y"
        },
        {
         "hoverinfo": "skip",
         "line": {
          "color": "#AEC7E8"
         },
         "mode": "lines",
         "showlegend": false,
         "type": "scatter",
         "x": [
          23,
          24,
          null,
          23,
          23,
          null,
          24,
          24,
          null
         ],
         "y": [
          0.30545592308044434,
          0.30545592308044434,
          null,
          0.30545592308044434,
          0,
          null,
          0.30545592308044434,
          0,
          null
         ],
         "yaxis": "y"
        },
        {
         "hoverinfo": "skip",
         "line": {
          "color": "#FFBB78"
         },
         "mode": "lines",
         "showlegend": false,
         "type": "scatter",
         "x": [
          16,
          17,
          null,
          16,
          16,
          null,
          17,
          17,
          null
         ],
         "y": [
          0.28262075781822205,
          0.28262075781822205,
          null,
          0.28262075781822205,
          0,
          null,
          0.28262075781822205,
          0,
          null
         ],
         "yaxis": "y"
        },
        {
         "customdata": [
          [
           30,
           2,
           "safensis"
          ],
          [
           47,
           24,
           "(mixed)"
          ],
          [
           32,
           3,
           "pumilus"
          ],
          [
           40,
           3,
           "pumilus"
          ],
          [
           39,
           8,
           "pumilus"
          ],
          [
           46,
           13,
           "(mixed)"
          ],
          [
           43,
           6,
           "(mixed)"
          ],
          [
           25,
           2,
           "pumilus"
          ],
          [
           35,
           2,
           "pumilus"
          ],
          [
           34,
           4,
           "pumilus"
          ],
          [
           29,
           2,
           "pumilus"
          ],
          [
           42,
           4,
           "safensis"
          ],
          [
           26,
           2,
           "pumilus"
          ],
          [
           44,
           4,
           "pumilus"
          ],
          [
           37,
           5,
           "pumilus"
          ],
          [
           28,
           2,
           "safensis"
          ],
          [
           38,
           7,
           "pumilus"
          ],
          [
           45,
           7,
           "pumilus"
          ],
          [
           31,
           3,
           "pumilus"
          ],
          [
           27,
           2,
           "pumilus"
          ],
          [
           36,
           2,
           "pumilus"
          ],
          [
           41,
           11,
           "pumilus"
          ],
          [
           33,
           2,
           "pumilus"
          ]
         ],
         "hovertemplate": "ID: %{customdata[0]}<br>\nHeight: %{y:.3f}<br>\nGenome count: %{customdata[1]}\n<br>\n%{customdata[2]}\n<extra></extra>",
         "marker": {
          "color": [
           "#FFBB78",
           "#666666",
           "#AEC7E8",
           "#AEC7E8",
           "#AEC7E8",
           "#666666",
           "#666666",
           "#AEC7E8",
           "#AEC7E8",
           "#AEC7E8",
           "#AEC7E8",
           "#FFBB78",
           "#AEC7E8",
           "#AEC7E8",
           "#AEC7E8",
           "#FFBB78",
           "#AEC7E8",
           "#AEC7E8",
           "#AEC7E8",
           "#AEC7E8",
           "#AEC7E8",
           "#AEC7E8",
           "#AEC7E8"
          ],
          "size": [
           8,
           8,
           4,
           4,
           8,
           8,
           8,
           8,
           4,
           4,
           8,
           8,
           8,
           8,
           4,
           8,
           4,
           8,
           8,
           8,
           8,
           8,
           8
          ]
         },
         "mode": "markers",
         "showlegend": false,
         "type": "scatter",
         "x": [
          16.5,
          12.75390625,
          4.25,
          10.25,
          5.890625,
          17.4375,
          14,
          12.5,
          1.5,
          5.125,
          3.5,
          15.5,
          18.5,
          22.5,
          6.0625,
          14.5,
          3.78125,
          20.875,
          19.25,
          21.5,
          9.5,
          8.0703125,
          23.5
         ],
         "y": [
          0.28262075781822205,
          0.8785027861595154,
          0.30003079771995544,
          0.3602002263069153,
          0.34828904271125793,
          0.82781982421875,
          0.5781402587890625,
          0.00018406036542728543,
          0.31665533781051636,
          0.31172552704811096,
          0.27551257610321045,
          0.48734089732170105,
          0.0019534884486347437,
          0.5782723426818848,
          0.3231011629104614,
          0.24673137068748474,
          0.3370318114757538,
          0.662848174571991,
          0.2968417704105377,
          0.17030352354049683,
          0.3194444477558136,
          0.40160587430000305,
          0.30545592308044434
         ],
         "yaxis": "y"
        },
        {
         "colorscale": [
          [
           0,
           "#666666"
          ],
          [
           0.1,
           "#AEC7E8"
          ],
          [
           0.2,
           "#FFBB78"
          ],
          [
           0.3,
           "#98DF8A"
          ],
          [
           0.4,
           "#FF9896"
          ],
          [
           0.5,
           "#C5B0D5"
          ],
          [
           0.6,
           "#C49C94"
          ],
          [
           0.7,
           "#F7B6D2"
          ],
          [
           0.8,
           "#C7C7C7"
          ],
          [
           0.9,
           "#DBDB8D"
          ],
          [
           1,
           "#9EDAE5"
          ]
         ],
         "customdata": [
          [
           [
            "Genome 2",
            "pumilus"
           ],
           [
            "Genome 3",
            "pumilus"
           ],
           [
            "Genome 9",
            "pumilus"
           ],
           [
            "Genome 18",
            "pumilus"
           ],
           [
            "Genome 13",
            "pumilus"
           ],
           [
            "Genome 17",
            "pumilus"
           ],
           [
            "Genome 5",
            "pumilus"
           ],
           [
            "Genome 14",
            "pumilus"
           ],
           [
            "Genome 4",
            "pumilus"
           ],
           [
            "Genome 19",
            "pumilus"
           ],
           [
            "Genome 8",
            "pumilus"
           ],
           [
            "ID 25",
            "pumilus"
           ],
           [
            "ID 28",
            "safensis"
           ],
           [
            "Genome 21",
            "safensis"
           ],
           [
            "Genome 23",
            "safensis"
           ],
           [
            "ID 26",
            "pumilus"
           ],
           [
            "Genome 16",
            "pumilus"
           ],
           [
            "ID 27",
            "pumilus"
           ],
           [
            "Genome 1",
            "pumilus"
           ],
           [
            "Genome 12",
            "pumilus"
           ]
          ]
         ],
         "hovertemplate": "%{customdata[0]} <br>\n%{customdata[1]}\n<extra></extra>\n",
         "showscale": false,
         "type": "heatmap",
         "x": [
          0.5,
          1.5,
          2.5,
          3.5,
          4.5,
          5.5,
          6.5,
          7.5,
          8.5,
          9.5,
          10.5,
          11.5,
          13.5,
          15.5,
          16.5,
          17.5,
          19.5,
          20.5,
          22.5,
          23.5,
          24.5
         ],
         "xgap": 1,
         "yaxis": "y2",
         "z": [
          [
           1,
           1,
           1,
           1,
           1,
           1,
           1,
           1,
           1,
           1,
           1,
           1,
           2,
           2,
           2,
           1,
           1,
           1,
           1,
           1
          ]
         ],
         "zmax": 10,
         "zmin": 0
        }
       ],
       "frames": [],
       "layout": {
        "autosize": true,
        "hovermode": "closest",
        "margin": {
         "b": 50,
         "l": 50,
         "r": 50,
         "t": 60
        },
        "xaxis": {
         "autorange": true,
         "range": [
          0.20927499548002126,
          24.830500813596096
         ],
         "type": "linear",
         "visible": false
        },
        "yaxis": {
         "autorange": true,
         "range": [
          -0.0629209507253503,
          0.941607797250293
         ],
         "type": "linear"
        },
        "yaxis2": {
         "autorange": true,
         "domain": [
          0,
          0.05
         ],
         "fixedrange": true,
         "range": [
          -0.5,
          0.5
         ],
         "visible": false
        }
       }
      },
      "application/vnd.webio.node+json": {
       "children": [
        {
         "children": [],
         "instanceArgs": {
          "namespace": "html",
          "tag": "div"
         },
         "nodeType": "DOM",
         "props": {
          "id": "plot-c0e52113-c393-4ce0-88ef-b3c8b6fdb4d9"
         },
         "type": "node"
        }
       ],
       "instanceArgs": {
        "handlers": {
         "__get_gd_contents": [
          "(function (prop){prop==\"data\" ? (WebIO.setval({\"name\":\"__gd_contents\",\"scope\":\"12536873300225875621\",\"id\":\"13807508131004730817\",\"type\":\"observable\"},this.plotElem.data)) : undefined; return prop==\"layout\" ? (WebIO.setval({\"name\":\"__gd_contents\",\"scope\":\"12536873300225875621\",\"id\":\"13807508131004730817\",\"type\":\"observable\"},this.plotElem.layout)) : undefined})"
         ],
         "_commands": [
          "(function (args){var fn=args.shift(); var elem=this.plotElem; var Plotly=this.Plotly; args.unshift(elem); return Plotly[fn].apply(this,args)})"
         ],
         "_downloadImage": [
          "(function (options){return this.Plotly.downloadImage(this.plotElem,options)})"
         ],
         "_toImage": [
          "(function (options){return this.Plotly.toImage(this.plotElem,options).then((function (data){return WebIO.setval({\"name\":\"image\",\"scope\":\"12536873300225875621\",\"id\":\"16887473270387841292\",\"type\":\"observable\"},data)}))})"
         ]
        },
        "id": "12536873300225875621",
        "imports": {
         "data": [
          {
           "name": "Plotly",
           "type": "js",
           "url": "/assetserver/e6903599031aaef8675931dfcd7df98a1aeffbfc-plotly-latest.min.js"
          },
          {
           "name": null,
           "type": "js",
           "url": "/assetserver/74a5dea81f21b0b802ef1ee92f1c8a504eac1a0c-plotly_webio.bundle.js"
          }
         ],
         "type": "async_block"
        },
        "mount_callbacks": [
         "function () {\n    var handler = ((function (Plotly,PlotlyWebIO){PlotlyWebIO.init(WebIO); var gd=this.dom.querySelector(\"#plot-c0e52113-c393-4ce0-88ef-b3c8b6fdb4d9\"); this.plotElem=gd; this.Plotly=Plotly; (window.Blink!==undefined) ? (gd.style.width=\"100%\", gd.style.height=\"100vh\", gd.style.marginLeft=\"0%\", gd.style.marginTop=\"0vh\") : undefined; window.onresize=(function (){return Plotly.Plots.resize(gd)}); Plotly.newPlot(gd,[{\"showlegend\":false,\"mode\":\"lines\",\"line\":{\"color\":\"#666666\"},\"y\":[0.8785027861595154,0.8785027861595154,null,0.8785027861595154,0.40160587430000305,null,0.8785027861595154,0.82781982421875,null],\"type\":\"scatter\",\"hoverinfo\":\"skip\",\"yaxis\":\"y1\",\"x\":[8.0703125,17.4375,null,8.0703125,8.0703125,null,17.4375,17.4375,null]},{\"showlegend\":false,\"mode\":\"lines\",\"line\":{\"color\":\"#AEC7E8\"},\"y\":[0.30003079771995544,0.30003079771995544,null,0.30003079771995544,0.27551257610321045,null,0.30003079771995544,0.0,null],\"type\":\"scatter\",\"hoverinfo\":\"skip\",\"yaxis\":\"y1\",\"x\":[3.5,5.0,null,3.5,3.5,null,5.0,5.0,null]},{\"showlegend\":false,\"mode\":\"lines\",\"line\":{\"color\":\"#AEC7E8\"},\"y\":[0.3602002263069153,0.3602002263069153,null,0.3602002263069153,0.3194444477558136,null,0.3602002263069153,0.0,null],\"type\":\"scatter\",\"hoverinfo\":\"skip\",\"yaxis\":\"y1\",\"x\":[9.5,11.0,null,9.5,9.5,null,11.0,11.0,null]},{\"showlegend\":false,\"mode\":\"lines\",\"line\":{\"color\":\"#AEC7E8\"},\"y\":[0.34828904271125793,0.34828904271125793,null,0.34828904271125793,0.3370318114757538,null,0.34828904271125793,0.0,null],\"type\":\"scatter\",\"hoverinfo\":\"skip\",\"yaxis\":\"y1\",\"x\":[3.78125,8.0,null,3.78125,3.78125,null,8.0,8.0,null]},{\"showlegend\":false,\"mode\":\"lines\",\"line\":{\"color\":\"#666666\"},\"y\":[0.82781982421875,0.82781982421875,null,0.82781982421875,0.5781402587890625,null,0.82781982421875,0.662848174571991,null],\"type\":\"scatter\",\"hoverinfo\":\"skip\",\"yaxis\":\"y1\",\"x\":[14.0,20.875,null,14.0,14.0,null,20.875,20.875,null]},{\"showlegend\":false,\"mode\":\"lines\",\"line\":{\"color\":\"#666666\"},\"y\":[0.5781402587890625,0.5781402587890625,null,0.5781402587890625,0.00018406036542728543,null,0.5781402587890625,0.48734089732170105,null],\"type\":\"scatter\",\"hoverinfo\":\"skip\",\"yaxis\":\"y1\",\"x\":[12.5,15.5,null,12.5,12.5,null,15.5,15.5,null]},{\"showlegend\":false,\"mode\":\"lines\",\"line\":{\"color\":\"#AEC7E8\"},\"y\":[0.0,0.0019534884486347437,0.0019534884486347437,0.0],\"type\":\"scatter\",\"fill\":\"toself\",\"hoverinfo\":\"skip\",\"yaxis\":\"y1\",\"x\":[18.0,18.0,19.0,19.0]},{\"showlegend\":false,\"mode\":\"lines\",\"line\":{\"color\":\"#AEC7E8\"},\"y\":[0.0,0.00018406036542728543,0.00018406036542728543,0.0],\"type\":\"scatter\",\"fill\":\"toself\",\"hoverinfo\":\"skip\",\"yaxis\":\"y1\",\"x\":[12.0,12.0,13.0,13.0]},{\"showlegend\":false,\"mode\":\"lines\",\"line\":{\"color\":\"#AEC7E8\"},\"y\":[0.31665533781051636,0.31665533781051636,null,0.31665533781051636,0.0,null,0.31665533781051636,0.0,null],\"type\":\"scatter\",\"hoverinfo\":\"skip\",\"yaxis\":\"y1\",\"x\":[1.0,2.0,null,1.0,1.0,null,2.0,2.0,null]},{\"showlegend\":false,\"mode\":\"lines\",\"line\":{\"color\":\"#AEC7E8\"},\"y\":[0.31172552704811096,0.31172552704811096,null,0.31172552704811096,0.30003079771995544,null,0.31172552704811096,0.0,null],\"type\":\"scatter\",\"hoverinfo\":\"skip\",\"yaxis\":\"y1\",\"x\":[4.25,6.0,null,4.25,4.25,null,6.0,6.0,null]},{\"showlegend\":false,\"mode\":\"lines\",\"line\":{\"color\":\"#AEC7E8\"},\"y\":[0.27551257610321045,0.27551257610321045,null,0.27551257610321045,0.0,null,0.27551257610321045,0.0,null],\"type\":\"scatter\",\"hoverinfo\":\"skip\",\"yaxis\":\"y1\",\"x\":[3.0,4.0,null,3.0,3.0,null,4.0,4.0,null]},{\"showlegend\":false,\"mode\":\"lines\",\"line\":{\"color\":\"#FFBB78\"},\"y\":[0.48734089732170105,0.48734089732170105,null,0.48734089732170105,0.24673137068748474,null,0.48734089732170105,0.28262075781822205,null],\"type\":\"scatter\",\"hoverinfo\":\"skip\",\"yaxis\":\"y1\",\"x\":[14.5,16.5,null,14.5,14.5,null,16.5,16.5,null]},{\"showlegend\":false,\"mode\":\"lines\",\"line\":{\"color\":\"#AEC7E8\"},\"y\":[0.5782723426818848,0.5782723426818848,null,0.5782723426818848,0.17030352354049683,null,0.5782723426818848,0.30545592308044434,null],\"type\":\"scatter\",\"hoverinfo\":\"skip\",\"yaxis\":\"y1\",\"x\":[21.5,23.5,null,21.5,21.5,null,23.5,23.5,null]},{\"showlegend\":false,\"mode\":\"lines\",\"line\":{\"color\":\"#AEC7E8\"},\"y\":[0.3231011629104614,0.3231011629104614,null,0.3231011629104614,0.31172552704811096,null,0.3231011629104614,0.0,null],\"type\":\"scatter\",\"hoverinfo\":\"skip\",\"yaxis\":\"y1\",\"x\":[5.125,7.0,null,5.125,5.125,null,7.0,7.0,null]},{\"showlegend\":false,\"mode\":\"lines\",\"line\":{\"color\":\"#FFBB78\"},\"y\":[0.0,0.24673137068748474,0.24673137068748474,0.0],\"type\":\"scatter\",\"fill\":\"toself\",\"hoverinfo\":\"skip\",\"yaxis\":\"y1\",\"x\":[14.0,14.0,15.0,15.0]},{\"showlegend\":false,\"mode\":\"lines\",\"line\":{\"color\":\"#AEC7E8\"},\"y\":[0.3370318114757538,0.3370318114757538,null,0.3370318114757538,0.31665533781051636,null,0.3370318114757538,0.3231011629104614,null],\"type\":\"scatter\",\"hoverinfo\":\"skip\",\"yaxis\":\"y1\",\"x\":[1.5,6.0625,null,1.5,1.5,null,6.0625,6.0625,null]},{\"showlegend\":false,\"mode\":\"lines\",\"line\":{\"color\":\"#AEC7E8\"},\"y\":[0.662848174571991,0.662848174571991,null,0.662848174571991,0.2968417704105377,null,0.662848174571991,0.5782723426818848,null],\"type\":\"scatter\",\"hoverinfo\":\"skip\",\"yaxis\":\"y1\",\"x\":[19.25,22.5,null,19.25,19.25,null,22.5,22.5,null]},{\"showlegend\":false,\"mode\":\"lines\",\"line\":{\"color\":\"#AEC7E8\"},\"y\":[0.2968417704105377,0.2968417704105377,null,0.2968417704105377,0.0019534884486347437,null,0.2968417704105377,0.0,null],\"type\":\"scatter\",\"hoverinfo\":\"skip\",\"yaxis\":\"y1\",\"x\":[18.5,20.0,null,18.5,18.5,null,20.0,20.0,null]},{\"showlegend\":false,\"mode\":\"lines\",\"line\":{\"color\":\"#AEC7E8\"},\"y\":[0.0,0.17030352354049683,0.17030352354049683,0.0],\"type\":\"scatter\",\"fill\":\"toself\",\"hoverinfo\":\"skip\",\"yaxis\":\"y1\",\"x\":[21.0,21.0,22.0,22.0]},{\"showlegend\":false,\"mode\":\"lines\",\"line\":{\"color\":\"#AEC7E8\"},\"y\":[0.3194444477558136,0.3194444477558136,null,0.3194444477558136,0.0,null,0.3194444477558136,0.0,null],\"type\":\"scatter\",\"hoverinfo\":\"skip\",\"yaxis\":\"y1\",\"x\":[9.0,10.0,null,9.0,9.0,null,10.0,10.0,null]},{\"showlegend\":false,\"mode\":\"lines\",\"line\":{\"color\":\"#AEC7E8\"},\"y\":[0.40160587430000305,0.40160587430000305,null,0.40160587430000305,0.34828904271125793,null,0.40160587430000305,0.3602002263069153,null],\"type\":\"scatter\",\"hoverinfo\":\"skip\",\"yaxis\":\"y1\",\"x\":[5.890625,10.25,null,5.890625,5.890625,null,10.25,10.25,null]},{\"showlegend\":false,\"mode\":\"lines\",\"line\":{\"color\":\"#AEC7E8\"},\"y\":[0.30545592308044434,0.30545592308044434,null,0.30545592308044434,0.0,null,0.30545592308044434,0.0,null],\"type\":\"scatter\",\"hoverinfo\":\"skip\",\"yaxis\":\"y1\",\"x\":[23.0,24.0,null,23.0,23.0,null,24.0,24.0,null]},{\"showlegend\":false,\"mode\":\"lines\",\"line\":{\"color\":\"#FFBB78\"},\"y\":[0.28262075781822205,0.28262075781822205,null,0.28262075781822205,0.0,null,0.28262075781822205,0.0,null],\"type\":\"scatter\",\"hoverinfo\":\"skip\",\"yaxis\":\"y1\",\"x\":[16.0,17.0,null,16.0,16.0,null,17.0,17.0,null]},{\"showlegend\":false,\"mode\":\"markers\",\"marker\":{\"color\":[\"#FFBB78\",\"#666666\",\"#AEC7E8\",\"#AEC7E8\",\"#AEC7E8\",\"#666666\",\"#666666\",\"#AEC7E8\",\"#AEC7E8\",\"#AEC7E8\",\"#AEC7E8\",\"#FFBB78\",\"#AEC7E8\",\"#AEC7E8\",\"#AEC7E8\",\"#FFBB78\",\"#AEC7E8\",\"#AEC7E8\",\"#AEC7E8\",\"#AEC7E8\",\"#AEC7E8\",\"#AEC7E8\",\"#AEC7E8\"],\"size\":[8,8,4,4,8,8,8,8,4,4,8,8,8,8,4,8,4,8,8,8,8,8,8]},\"y\":[0.28262075781822205,0.8785027861595154,0.30003079771995544,0.3602002263069153,0.34828904271125793,0.82781982421875,0.5781402587890625,0.00018406036542728543,0.31665533781051636,0.31172552704811096,0.27551257610321045,0.48734089732170105,0.0019534884486347437,0.5782723426818848,0.3231011629104614,0.24673137068748474,0.3370318114757538,0.662848174571991,0.2968417704105377,0.17030352354049683,0.3194444477558136,0.40160587430000305,0.30545592308044434],\"type\":\"scatter\",\"customdata\":[[30,2,\"safensis\"],[47,24,\"(mixed)\"],[32,3,\"pumilus\"],[40,3,\"pumilus\"],[39,8,\"pumilus\"],[46,13,\"(mixed)\"],[43,6,\"(mixed)\"],[25,2,\"pumilus\"],[35,2,\"pumilus\"],[34,4,\"pumilus\"],[29,2,\"pumilus\"],[42,4,\"safensis\"],[26,2,\"pumilus\"],[44,4,\"pumilus\"],[37,5,\"pumilus\"],[28,2,\"safensis\"],[38,7,\"pumilus\"],[45,7,\"pumilus\"],[31,3,\"pumilus\"],[27,2,\"pumilus\"],[36,2,\"pumilus\"],[41,11,\"pumilus\"],[33,2,\"pumilus\"]],\"yaxis\":\"y1\",\"hovertemplate\":\"ID: %{customdata[0]}<br>\\nHeight: %{y:.3f}<br>\\nGenome count: %{customdata[1]}\\n<br>\\n%{customdata[2]}\\n<extra></extra>\",\"x\":[16.5,12.75390625,4.25,10.25,5.890625,17.4375,14.0,12.5,1.5,5.125,3.5,15.5,18.5,22.5,6.0625,14.5,3.78125,20.875,19.25,21.5,9.5,8.0703125,23.5]},{\"colorscale\":[[0.0,\"#666666\"],[0.1,\"#AEC7E8\"],[0.2,\"#FFBB78\"],[0.3,\"#98DF8A\"],[0.4,\"#FF9896\"],[0.5,\"#C5B0D5\"],[0.6,\"#C49C94\"],[0.7,\"#F7B6D2\"],[0.8,\"#C7C7C7\"],[0.9,\"#DBDB8D\"],[1.0,\"#9EDAE5\"]],\"yaxis\":\"y2\",\"showscale\":false,\"x\":[0.5,1.5,2.5,3.5,4.5,5.5,6.5,7.5,8.5,9.5,10.5,11.5,13.5,15.5,16.5,17.5,19.5,20.5,22.5,23.5,24.5],\"customdata\":[[[\"Genome 2\",\"pumilus\"],[\"Genome 3\",\"pumilus\"],[\"Genome 9\",\"pumilus\"],[\"Genome 18\",\"pumilus\"],[\"Genome 13\",\"pumilus\"],[\"Genome 17\",\"pumilus\"],[\"Genome 5\",\"pumilus\"],[\"Genome 14\",\"pumilus\"],[\"Genome 4\",\"pumilus\"],[\"Genome 19\",\"pumilus\"],[\"Genome 8\",\"pumilus\"],[\"ID 25\",\"pumilus\"],[\"ID 28\",\"safensis\"],[\"Genome 21\",\"safensis\"],[\"Genome 23\",\"safensis\"],[\"ID 26\",\"pumilus\"],[\"Genome 16\",\"pumilus\"],[\"ID 27\",\"pumilus\"],[\"Genome 1\",\"pumilus\"],[\"Genome 12\",\"pumilus\"]]],\"zmin\":0,\"z\":[[1,1,1,1,1,1,1,1,1,1,1,1,2,2,2,1,1,1,1,1]],\"zmax\":10,\"type\":\"heatmap\",\"xgap\":1,\"hovertemplate\":\"%{customdata[0]} <br>\\n%{customdata[1]}\\n<extra></extra>\\n\"}],{\"xaxis\":{\"visible\":false},\"hovermode\":\"closest\",\"margin\":{\"l\":50,\"b\":50,\"r\":50,\"t\":60},\"yaxis2\":{\"visible\":false,\"domain\":[0.0,0.05],\"fixedrange\":true}},{}); gd.on(\"plotly_hover\",(function (data){var filtered_data=WebIO.PlotlyCommands.filterEventData(gd,data,\"hover\"); return !(filtered_data.isnil) ? (WebIO.setval({\"name\":\"hover\",\"scope\":\"12536873300225875621\",\"id\":\"11404740806304611964\",\"type\":\"observable\"},filtered_data.out)) : undefined})); gd.on(\"plotly_unhover\",(function (){return WebIO.setval({\"name\":\"hover\",\"scope\":\"12536873300225875621\",\"id\":\"11404740806304611964\",\"type\":\"observable\"},{})})); gd.on(\"plotly_selected\",(function (data){var filtered_data=WebIO.PlotlyCommands.filterEventData(gd,data,\"selected\"); return !(filtered_data.isnil) ? (WebIO.setval({\"name\":\"selected\",\"scope\":\"12536873300225875621\",\"id\":\"10827371094771093009\",\"type\":\"observable\"},filtered_data.out)) : undefined})); gd.on(\"plotly_deselect\",(function (){return WebIO.setval({\"name\":\"selected\",\"scope\":\"12536873300225875621\",\"id\":\"10827371094771093009\",\"type\":\"observable\"},{})})); gd.on(\"plotly_relayout\",(function (data){var filtered_data=WebIO.PlotlyCommands.filterEventData(gd,data,\"relayout\"); return !(filtered_data.isnil) ? (WebIO.setval({\"name\":\"relayout\",\"scope\":\"12536873300225875621\",\"id\":\"12892548526650520718\",\"type\":\"observable\"},filtered_data.out)) : undefined})); return gd.on(\"plotly_click\",(function (data){var filtered_data=WebIO.PlotlyCommands.filterEventData(gd,data,\"click\"); return !(filtered_data.isnil) ? (WebIO.setval({\"name\":\"click\",\"scope\":\"12536873300225875621\",\"id\":\"5153817766975817304\",\"type\":\"observable\"},filtered_data.out)) : undefined}))}));\n    (WebIO.importBlock({\"data\":[{\"name\":\"Plotly\",\"type\":\"js\",\"url\":\"/assetserver/e6903599031aaef8675931dfcd7df98a1aeffbfc-plotly-latest.min.js\"},{\"name\":null,\"type\":\"js\",\"url\":\"/assetserver/74a5dea81f21b0b802ef1ee92f1c8a504eac1a0c-plotly_webio.bundle.js\"}],\"type\":\"async_block\"})).then((imports) => handler.apply(this, imports));\n}\n"
        ],
        "observables": {
         "__gd_contents": {
          "id": "13807508131004730817",
          "sync": false,
          "value": {}
         },
         "__get_gd_contents": {
          "id": "17684534652317435153",
          "sync": false,
          "value": ""
         },
         "_commands": {
          "id": "10232947092446512087",
          "sync": false,
          "value": []
         },
         "_downloadImage": {
          "id": "7888220738187851771",
          "sync": false,
          "value": {}
         },
         "_toImage": {
          "id": "15723499317589670379",
          "sync": false,
          "value": {}
         },
         "click": {
          "id": "5153817766975817304",
          "sync": false,
          "value": {}
         },
         "hover": {
          "id": "11404740806304611964",
          "sync": false,
          "value": {}
         },
         "image": {
          "id": "16887473270387841292",
          "sync": true,
          "value": ""
         },
         "relayout": {
          "id": "12892548526650520718",
          "sync": false,
          "value": {}
         },
         "selected": {
          "id": "10827371094771093009",
          "sync": false,
          "value": {}
         }
        },
        "systemjs_options": null
       },
       "nodeType": "Scope",
       "props": {},
       "type": "node"
      },
      "image/png": "[encoded data removed]",
      "image/svg+xml": [
       "<svg class=\"main-svg\" xmlns=\"http://www.w3.org/2000/svg\" xmlns:xlink=\"http://www.w3.org/1999/xlink\" width=\"700\" height=\"500\" style=\"\" viewBox=\"0 0 700 500\"><rect x=\"0\" y=\"0\" width=\"700\" height=\"500\" style=\"fill: rgb(255, 255, 255); fill-opacity: 1;\"/><defs id=\"defs-20b6fc\"><g class=\"clips\"><clipPath id=\"clip20b6fcxyplot\" class=\"plotclip\"><rect width=\"600\" height=\"390\"/></clipPath><clipPath id=\"clip20b6fcxy2plot\" class=\"plotclip\"><rect width=\"600\" height=\"19.5\"/></clipPath><clipPath class=\"axesclip\" id=\"clip20b6fcx\"><rect x=\"50\" y=\"0\" width=\"600\" height=\"500\"/></clipPath><clipPath class=\"axesclip\" id=\"clip20b6fcy\"><rect x=\"0\" y=\"60\" width=\"700\" height=\"390\"/></clipPath><clipPath class=\"axesclip\" id=\"clip20b6fcxy\"><rect x=\"50\" y=\"60\" width=\"600\" height=\"390\"/></clipPath><clipPath class=\"axesclip\" id=\"clip20b6fcy2\"><rect x=\"0\" y=\"430.5\" width=\"700\" height=\"19.5\"/></clipPath><clipPath class=\"axesclip\" id=\"clip20b6fcxy2\"><rect x=\"50\" y=\"430.5\" width=\"600\" height=\"19.5\"/></clipPath></g><g class=\"gradients\"/></defs><g class=\"bglayer\"/><g class=\"layer-below\"><g class=\"imagelayer\"/><g class=\"shapelayer\"/></g><g class=\"cartesianlayer\"><g class=\"subplot xy\"><g class=\"layer-subplot\"><g class=\"shapelayer\"/><g class=\"imagelayer\"/></g><g class=\"gridlayer\"><g class=\"x\"/><g class=\"y\"><path class=\"ygrid crisp\" transform=\"translate(0,347.92)\" d=\"M50,0h600\" style=\"stroke: rgb(238, 238, 238); stroke-opacity: 1; stroke-width: 1px;\"/><path class=\"ygrid crisp\" transform=\"translate(0,270.27)\" d=\"M50,0h600\" style=\"stroke: rgb(238, 238, 238); stroke-opacity: 1; stroke-width: 1px;\"/><path class=\"ygrid crisp\" transform=\"translate(0,192.63)\" d=\"M50,0h600\" style=\"stroke: rgb(238, 238, 238); stroke-opacity: 1; stroke-width: 1px;\"/><path class=\"ygrid crisp\" transform=\"translate(0,114.97999999999999)\" d=\"M50,0h600\" style=\"stroke: rgb(238, 238, 238); stroke-opacity: 1; stroke-width: 1px;\"/></g></g><g class=\"zerolinelayer\"><path class=\"yzl zl crisp\" transform=\"translate(0,425.57)\" d=\"M50,0h600\" style=\"stroke: rgb(68, 68, 68); stroke-opacity: 1; stroke-width: 1px;\"/></g><path class=\"xlines-below\"/><path class=\"ylines-below\"/><g class=\"overlines-below\"/><g class=\"xaxislayer-below\"/><g class=\"yaxislayer-below\"/><g class=\"overaxes-below\"/><g class=\"plot\" transform=\"translate(50,60)\" clip-path=\"url('#clip20b6fcxyplot')\"><g class=\"scatterlayer mlayer\"><g class=\"trace scatter trace37c616\" style=\"stroke-miterlimit: 2; opacity: 1;\"><g class=\"fills\"/><g class=\"errorbars\"/><g class=\"lines\"><path class=\"js-line\" d=\"M191.88,24.5L418.4,24.5\" style=\"vector-effect: non-scaling-stroke; fill: none; stroke: rgb(102, 102, 102); stroke-opacity: 1; stroke-width: 2px; opacity: 1;\"/><path class=\"js-line\" d=\"M191.88,24.5L191.88,209.65\" style=\"vector-effect: non-scaling-stroke; fill: none; stroke: rgb(102, 102, 102); stroke-opacity: 1; stroke-width: 2px; opacity: 1;\"/><path class=\"js-line\" d=\"M418.4,24.5L418.4,44.18\" style=\"vector-effect: non-scaling-stroke; fill: none; stroke: rgb(102, 102, 102); stroke-opacity: 1; stroke-width: 2px; opacity: 1;\"/></g><g class=\"points\"/><g class=\"text\"/></g><g class=\"trace scatter tracef366f9\" style=\"stroke-miterlimit: 2; opacity: 1;\"><g class=\"fills\"/><g class=\"errorbars\"/><g class=\"lines\"><path class=\"js-line\" d=\"M81.36,249.09L117.64,249.09\" style=\"vector-effect: non-scaling-stroke; fill: none; stroke: rgb(174, 199, 232); stroke-opacity: 1; stroke-width: 2px; opacity: 1;\"/><path class=\"js-line\" d=\"M81.36,249.09L81.36,258.61\" style=\"vector-effect: non-scaling-stroke; fill: none; stroke: rgb(174, 199, 232); stroke-opacity: 1; stroke-width: 2px; opacity: 1;\"/><path class=\"js-line\" d=\"M117.64,249.09L117.64,365.57\" style=\"vector-effect: non-scaling-stroke; fill: none; stroke: rgb(174, 199, 232); stroke-opacity: 1; stroke-width: 2px; opacity: 1;\"/></g><g class=\"points\"/><g class=\"text\"/></g><g class=\"trace scatter trace94d5c7\" style=\"stroke-miterlimit: 2; opacity: 1;\"><g class=\"fills\"/><g class=\"errorbars\"/><g class=\"lines\"><path class=\"js-line\" d=\"M226.45,225.73L262.73,225.73\" style=\"vector-effect: non-scaling-stroke; fill: none; stroke: rgb(174, 199, 232); stroke-opacity: 1; stroke-width: 2px; opacity: 1;\"/><path class=\"js-line\" d=\"M226.45,225.73L226.45,241.55\" style=\"vector-effect: non-scaling-stroke; fill: none; stroke: rgb(174, 199, 232); stroke-opacity: 1; stroke-width: 2px; opacity: 1;\"/><path class=\"js-line\" d=\"M262.73,225.73L262.73,365.57\" style=\"vector-effect: non-scaling-stroke; fill: none; stroke: rgb(174, 199, 232); stroke-opacity: 1; stroke-width: 2px; opacity: 1;\"/></g><g class=\"points\"/><g class=\"text\"/></g><g class=\"trace scatter trace24074d\" style=\"stroke-miterlimit: 2; opacity: 1;\"><g class=\"fills\"/><g class=\"errorbars\"/><g class=\"lines\"><path class=\"js-line\" d=\"M88.16,230.35L190.18,230.35\" style=\"vector-effect: non-scaling-stroke; fill: none; stroke: rgb(174, 199, 232); stroke-opacity: 1; stroke-width: 2px; opacity: 1;\"/><path class=\"js-line\" d=\"M88.16,230.35L88.16,234.72\" style=\"vector-effect: non-scaling-stroke; fill: none; stroke: rgb(174, 199, 232); stroke-opacity: 1; stroke-width: 2px; opacity: 1;\"/><path class=\"js-line\" d=\"M190.18,230.35L190.18,365.57\" style=\"vector-effect: non-scaling-stroke; fill: none; stroke: rgb(174, 199, 232); stroke-opacity: 1; stroke-width: 2px; opacity: 1;\"/></g><g class=\"points\"/><g class=\"text\"/></g><g class=\"trace scatter trace87c7b7\" style=\"stroke-miterlimit: 2; opacity: 1;\"><g class=\"fills\"/><g class=\"errorbars\"/><g class=\"lines\"><path class=\"js-line\" d=\"M335.27,44.18L501.52,44.18\" style=\"vector-effect: non-scaling-stroke; fill: none; stroke: rgb(102, 102, 102); stroke-opacity: 1; stroke-width: 2px; opacity: 1;\"/><path class=\"js-line\" d=\"M335.27,44.18L335.27,141.11\" style=\"vector-effect: non-scaling-stroke; fill: none; stroke: rgb(102, 102, 102); stroke-opacity: 1; stroke-width: 2px; opacity: 1;\"/><path class=\"js-line\" d=\"M501.52,44.18L501.52,108.23\" style=\"vector-effect: non-scaling-stroke; fill: none; stroke: rgb(102, 102, 102); stroke-opacity: 1; stroke-width: 2px; opacity: 1;\"/></g><g class=\"points\"/><g class=\"text\"/></g><g class=\"trace scatter trace0ff06f\" style=\"stroke-miterlimit: 2; opacity: 1;\"><g class=\"fills\"/><g class=\"errorbars\"/><g class=\"lines\"><path class=\"js-line\" d=\"M299,141.11L371.55,141.11\" style=\"vector-effect: non-scaling-stroke; fill: none; stroke: rgb(102, 102, 102); stroke-opacity: 1; stroke-width: 2px; opacity: 1;\"/><path class=\"js-line\" d=\"M299,141.11L299,365.5\" style=\"vector-effect: non-scaling-stroke; fill: none; stroke: rgb(102, 102, 102); stroke-opacity: 1; stroke-width: 2px; opacity: 1;\"/><path class=\"js-line\" d=\"M371.55,141.11L371.55,176.37\" style=\"vector-effect: non-scaling-stroke; fill: none; stroke: rgb(102, 102, 102); stroke-opacity: 1; stroke-width: 2px; opacity: 1;\"/></g><g class=\"points\"/><g class=\"text\"/></g><g class=\"trace scatter trace75a22c\" style=\"stroke-miterlimit: 2; opacity: 1;\"><g class=\"fills\"><g><path class=\"js-fill\" d=\"M432,365.57L432,364.81L456.18,364.81L456.18,365.57Z\" style=\"fill: rgb(174, 199, 232); fill-opacity: 0.5; stroke-width: 0;\"/></g></g><g class=\"errorbars\"/><g class=\"lines\"><path class=\"js-line\" d=\"M432,365.57L432,364.81L456.18,364.81L456.18,365.57\" style=\"vector-effect: non-scaling-stroke; fill: none; stroke: rgb(174, 199, 232); stroke-opacity: 1; stroke-width: 2px; opacity: 1;\"/></g><g class=\"points\"/><g class=\"text\"/></g><g class=\"trace scatter tracec9e6df\" style=\"stroke-miterlimit: 2; opacity: 1;\"><g class=\"fills\"><g><path class=\"js-fill\" d=\"M286.91,365.57L311.09,365.5L311.09,365.57Z\" style=\"fill: rgb(174, 199, 232); fill-opacity: 0.5; stroke-width: 0;\"/></g></g><g class=\"errorbars\"/><g class=\"lines\"><path class=\"js-line\" d=\"M286.91,365.57L311.09,365.5L311.09,365.57\" style=\"vector-effect: non-scaling-stroke; fill: none; stroke: rgb(174, 199, 232); stroke-opacity: 1; stroke-width: 2px; opacity: 1;\"/></g><g class=\"points\"/><g class=\"text\"/></g><g class=\"trace scatter tracea9ec8b\" style=\"stroke-miterlimit: 2; opacity: 1;\"><g class=\"fills\"/><g class=\"errorbars\"/><g class=\"lines\"><path class=\"js-line\" d=\"M20.91,242.63L45.09,242.63\" style=\"vector-effect: non-scaling-stroke; fill: none; stroke: rgb(174, 199, 232); stroke-opacity: 1; stroke-width: 2px; opacity: 1;\"/><path class=\"js-line\" d=\"M20.91,242.63L20.91,365.57\" style=\"vector-effect: non-scaling-stroke; fill: none; stroke: rgb(174, 199, 232); stroke-opacity: 1; stroke-width: 2px; opacity: 1;\"/><path class=\"js-line\" d=\"M45.09,242.63L45.09,365.57\" style=\"vector-effect: non-scaling-stroke; fill: none; stroke: rgb(174, 199, 232); stroke-opacity: 1; stroke-width: 2px; opacity: 1;\"/></g><g class=\"points\"/><g class=\"text\"/></g><g class=\"trace scatter trace95f033\" style=\"stroke-miterlimit: 2; opacity: 1;\"><g class=\"fills\"/><g class=\"errorbars\"/><g class=\"lines\"><path class=\"js-line\" d=\"M99.5,244.55L141.82,244.55\" style=\"vector-effect: non-scaling-stroke; fill: none; stroke: rgb(174, 199, 232); stroke-opacity: 1; stroke-width: 2px; opacity: 1;\"/><path class=\"js-line\" d=\"M99.5,244.55L99.5,249.09\" style=\"vector-effect: non-scaling-stroke; fill: none; stroke: rgb(174, 199, 232); stroke-opacity: 1; stroke-width: 2px; opacity: 1;\"/><path class=\"js-line\" d=\"M141.82,244.55L141.82,365.57\" style=\"vector-effect: non-scaling-stroke; fill: none; stroke: rgb(174, 199, 232); stroke-opacity: 1; stroke-width: 2px; opacity: 1;\"/></g><g class=\"points\"/><g class=\"text\"/></g><g class=\"trace scatter trace5159a7\" style=\"stroke-miterlimit: 2; opacity: 1;\"><g class=\"fills\"/><g class=\"errorbars\"/><g class=\"lines\"><path class=\"js-line\" d=\"M69.27,258.61L93.45,258.61\" style=\"vector-effect: non-scaling-stroke; fill: none; stroke: rgb(174, 199, 232); stroke-opacity: 1; stroke-width: 2px; opacity: 1;\"/><path class=\"js-line\" d=\"M69.27,258.61L69.27,365.57\" style=\"vector-effect: non-scaling-stroke; fill: none; stroke: rgb(174, 199, 232); stroke-opacity: 1; stroke-width: 2px; opacity: 1;\"/><path class=\"js-line\" d=\"M93.45,258.61L93.45,365.57\" style=\"vector-effect: non-scaling-stroke; fill: none; stroke: rgb(174, 199, 232); stroke-opacity: 1; stroke-width: 2px; opacity: 1;\"/></g><g class=\"points\"/><g class=\"text\"/></g><g class=\"trace scatter trace6dd397\" style=\"stroke-miterlimit: 2; opacity: 1;\"><g class=\"fills\"/><g class=\"errorbars\"/><g class=\"lines\"><path class=\"js-line\" d=\"M347.36,176.37L395.73,176.37\" style=\"vector-effect: non-scaling-stroke; fill: none; stroke: rgb(255, 187, 120); stroke-opacity: 1; stroke-width: 2px; opacity: 1;\"/><path class=\"js-line\" d=\"M347.36,176.37L347.36,269.78\" style=\"vector-effect: non-scaling-stroke; fill: none; stroke: rgb(255, 187, 120); stroke-opacity: 1; stroke-width: 2px; opacity: 1;\"/><path class=\"js-line\" d=\"M395.73,176.37L395.73,255.85\" style=\"vector-effect: non-scaling-stroke; fill: none; stroke: rgb(255, 187, 120); stroke-opacity: 1; stroke-width: 2px; opacity: 1;\"/></g><g class=\"points\"/><g class=\"text\"/></g><g class=\"trace scatter trace53fcb8\" style=\"stroke-miterlimit: 2; opacity: 1;\"><g class=\"fills\"/><g class=\"errorbars\"/><g class=\"lines\"><path class=\"js-line\" d=\"M516.64,141.06L565,141.06\" style=\"vector-effect: non-scaling-stroke; fill: none; stroke: rgb(174, 199, 232); stroke-opacity: 1; stroke-width: 2px; opacity: 1;\"/><path class=\"js-line\" d=\"M516.64,141.06L516.64,299.45\" style=\"vector-effect: non-scaling-stroke; fill: none; stroke: rgb(174, 199, 232); stroke-opacity: 1; stroke-width: 2px; opacity: 1;\"/><path class=\"js-line\" d=\"M565,141.06L565,246.98\" style=\"vector-effect: non-scaling-stroke; fill: none; stroke: rgb(174, 199, 232); stroke-opacity: 1; stroke-width: 2px; opacity: 1;\"/></g><g class=\"points\"/><g class=\"text\"/></g><g class=\"trace scatter trace1c543f\" style=\"stroke-miterlimit: 2; opacity: 1;\"><g class=\"fills\"/><g class=\"errorbars\"/><g class=\"lines\"><path class=\"js-line\" d=\"M120.66,240.13L166,240.13\" style=\"vector-effect: non-scaling-stroke; fill: none; stroke: rgb(174, 199, 232); stroke-opacity: 1; stroke-width: 2px; opacity: 1;\"/><path class=\"js-line\" d=\"M120.66,240.13L120.66,244.55\" style=\"vector-effect: non-scaling-stroke; fill: none; stroke: rgb(174, 199, 232); stroke-opacity: 1; stroke-width: 2px; opacity: 1;\"/><path class=\"js-line\" d=\"M166,240.13L166,365.57\" style=\"vector-effect: non-scaling-stroke; fill: none; stroke: rgb(174, 199, 232); stroke-opacity: 1; stroke-width: 2px; opacity: 1;\"/></g><g class=\"points\"/><g class=\"text\"/></g><g class=\"trace scatter tracefa505f\" style=\"stroke-miterlimit: 2; opacity: 1;\"><g class=\"fills\"><g><path class=\"js-fill\" d=\"M335.27,365.57L335.27,269.78L359.45,269.78L359.45,365.57Z\" style=\"fill: rgb(255, 187, 120); fill-opacity: 0.5; stroke-width: 0;\"/></g></g><g class=\"errorbars\"/><g class=\"lines\"><path class=\"js-line\" d=\"M335.27,365.57L335.27,269.78L359.45,269.78L359.45,365.57\" style=\"vector-effect: non-scaling-stroke; fill: none; stroke: rgb(255, 187, 120); stroke-opacity: 1; stroke-width: 2px; opacity: 1;\"/></g><g class=\"points\"/><g class=\"text\"/></g><g class=\"trace scatter tracef6ae44\" style=\"stroke-miterlimit: 2; opacity: 1;\"><g class=\"fills\"/><g class=\"errorbars\"/><g class=\"lines\"><path class=\"js-line\" d=\"M33,234.72L143.33,234.72\" style=\"vector-effect: non-scaling-stroke; fill: none; stroke: rgb(174, 199, 232); stroke-opacity: 1; stroke-width: 2px; opacity: 1;\"/><path class=\"js-line\" d=\"M33,234.72L33,242.63\" style=\"vector-effect: non-scaling-stroke; fill: none; stroke: rgb(174, 199, 232); stroke-opacity: 1; stroke-width: 2px; opacity: 1;\"/><path class=\"js-line\" d=\"M143.33,234.72L143.33,240.13\" style=\"vector-effect: non-scaling-stroke; fill: none; stroke: rgb(174, 199, 232); stroke-opacity: 1; stroke-width: 2px; opacity: 1;\"/></g><g class=\"points\"/><g class=\"text\"/></g><g class=\"trace scatter trace2c3f54\" style=\"stroke-miterlimit: 2; opacity: 1;\"><g class=\"fills\"/><g class=\"errorbars\"/><g class=\"lines\"><path class=\"js-line\" d=\"M462.23,108.23L540.82,108.23\" style=\"vector-effect: non-scaling-stroke; fill: none; stroke: rgb(174, 199, 232); stroke-opacity: 1; stroke-width: 2px; opacity: 1;\"/><path class=\"js-line\" d=\"M462.23,108.23L462.23,250.33\" style=\"vector-effect: non-scaling-stroke; fill: none; stroke: rgb(174, 199, 232); stroke-opacity: 1; stroke-width: 2px; opacity: 1;\"/><path class=\"js-line\" d=\"M540.82,108.23L540.82,141.06\" style=\"vector-effect: non-scaling-stroke; fill: none; stroke: rgb(174, 199, 232); stroke-opacity: 1; stroke-width: 2px; opacity: 1;\"/></g><g class=\"points\"/><g class=\"text\"/></g><g class=\"trace scatter trace87510d\" style=\"stroke-miterlimit: 2; opacity: 1;\"><g class=\"fills\"/><g class=\"errorbars\"/><g class=\"lines\"><path class=\"js-line\" d=\"M444.09,250.33L480.36,250.33\" style=\"vector-effect: non-scaling-stroke; fill: none; stroke: rgb(174, 199, 232); stroke-opacity: 1; stroke-width: 2px; opacity: 1;\"/><path class=\"js-line\" d=\"M444.09,250.33L444.09,364.81\" style=\"vector-effect: non-scaling-stroke; fill: none; stroke: rgb(174, 199, 232); stroke-opacity: 1; stroke-width: 2px; opacity: 1;\"/><path class=\"js-line\" d=\"M480.36,250.33L480.36,365.57\" style=\"vector-effect: non-scaling-stroke; fill: none; stroke: rgb(174, 199, 232); stroke-opacity: 1; stroke-width: 2px; opacity: 1;\"/></g><g class=\"points\"/><g class=\"text\"/></g><g class=\"trace scatter tracee2eaa0\" style=\"stroke-miterlimit: 2; opacity: 1;\"><g class=\"fills\"><g><path class=\"js-fill\" d=\"M504.55,365.57L504.55,299.45L528.73,299.45L528.73,365.57Z\" style=\"fill: rgb(174, 199, 232); fill-opacity: 0.5; stroke-width: 0;\"/></g></g><g class=\"errorbars\"/><g class=\"lines\"><path class=\"js-line\" d=\"M504.55,365.57L504.55,299.45L528.73,299.45L528.73,365.57\" style=\"vector-effect: non-scaling-stroke; fill: none; stroke: rgb(174, 199, 232); stroke-opacity: 1; stroke-width: 2px; opacity: 1;\"/></g><g class=\"points\"/><g class=\"text\"/></g><g class=\"trace scatter trace5c6901\" style=\"stroke-miterlimit: 2; opacity: 1;\"><g class=\"fills\"/><g class=\"errorbars\"/><g class=\"lines\"><path class=\"js-line\" d=\"M214.36,241.55L238.55,241.55\" style=\"vector-effect: non-scaling-stroke; fill: none; stroke: rgb(174, 199, 232); stroke-opacity: 1; stroke-width: 2px; opacity: 1;\"/><path class=\"js-line\" d=\"M214.36,241.55L214.36,365.57\" style=\"vector-effect: non-scaling-stroke; fill: none; stroke: rgb(174, 199, 232); stroke-opacity: 1; stroke-width: 2px; opacity: 1;\"/><path class=\"js-line\" d=\"M238.55,241.55L238.55,365.57\" style=\"vector-effect: non-scaling-stroke; fill: none; stroke: rgb(174, 199, 232); stroke-opacity: 1; stroke-width: 2px; opacity: 1;\"/></g><g class=\"points\"/><g class=\"text\"/></g><g class=\"trace scatter trace9caee7\" style=\"stroke-miterlimit: 2; opacity: 1;\"><g class=\"fills\"/><g class=\"errorbars\"/><g class=\"lines\"><path class=\"js-line\" d=\"M139.17,209.65L244.59,209.65\" style=\"vector-effect: non-scaling-stroke; fill: none; stroke: rgb(174, 199, 232); stroke-opacity: 1; stroke-width: 2px; opacity: 1;\"/><path class=\"js-line\" d=\"M139.17,209.65L139.17,230.35\" style=\"vector-effect: non-scaling-stroke; fill: none; stroke: rgb(174, 199, 232); stroke-opacity: 1; stroke-width: 2px; opacity: 1;\"/><path class=\"js-line\" d=\"M244.59,209.65L244.59,225.73\" style=\"vector-effect: non-scaling-stroke; fill: none; stroke: rgb(174, 199, 232); stroke-opacity: 1; stroke-width: 2px; opacity: 1;\"/></g><g class=\"points\"/><g class=\"text\"/></g><g class=\"trace scatter traced9ba83\" style=\"stroke-miterlimit: 2; opacity: 1;\"><g class=\"fills\"/><g class=\"errorbars\"/><g class=\"lines\"><path class=\"js-line\" d=\"M552.91,246.98L577.09,246.98\" style=\"vector-effect: non-scaling-stroke; fill: none; stroke: rgb(174, 199, 232); stroke-opacity: 1; stroke-width: 2px; opacity: 1;\"/><path class=\"js-line\" d=\"M552.91,246.98L552.91,365.57\" style=\"vector-effect: non-scaling-stroke; fill: none; stroke: rgb(174, 199, 232); stroke-opacity: 1; stroke-width: 2px; opacity: 1;\"/><path class=\"js-line\" d=\"M577.09,246.98L577.09,365.57\" style=\"vector-effect: non-scaling-stroke; fill: none; stroke: rgb(174, 199, 232); stroke-opacity: 1; stroke-width: 2px; opacity: 1;\"/></g><g class=\"points\"/><g class=\"text\"/></g><g class=\"trace scatter trace362126\" style=\"stroke-miterlimit: 2; opacity: 1;\"><g class=\"fills\"/><g class=\"errorbars\"/><g class=\"lines\"><path class=\"js-line\" d=\"M383.64,255.85L407.82,255.85\" style=\"vector-effect: non-scaling-stroke; fill: none; stroke: rgb(255, 187, 120); stroke-opacity: 1; stroke-width: 2px; opacity: 1;\"/><path class=\"js-line\" d=\"M383.64,255.85L383.64,365.57\" style=\"vector-effect: non-scaling-stroke; fill: none; stroke: rgb(255, 187, 120); stroke-opacity: 1; stroke-width: 2px; opacity: 1;\"/><path class=\"js-line\" d=\"M407.82,255.85L407.82,365.57\" style=\"vector-effect: non-scaling-stroke; fill: none; stroke: rgb(255, 187, 120); stroke-opacity: 1; stroke-width: 2px; opacity: 1;\"/></g><g class=\"points\"/><g class=\"text\"/></g><g class=\"trace scatter trace5099fa\" style=\"stroke-miterlimit: 2; opacity: 1;\"><g class=\"fills\"/><g class=\"errorbars\"/><g class=\"lines\"/><g class=\"points\"><path class=\"point plotly-customdata\" transform=\"translate(395.73,255.85)\" d=\"M4,0A4,4 0 1,1 0,-4A4,4 0 0,1 4,0Z\" style=\"opacity: 0.7; stroke-width: 1px; fill: rgb(255, 187, 120); fill-opacity: 1; stroke: rgb(255, 255, 255); stroke-opacity: 1;\"/><path class=\"point plotly-customdata\" transform=\"translate(305.14,24.5)\" d=\"M4,0A4,4 0 1,1 0,-4A4,4 0 0,1 4,0Z\" style=\"opacity: 0.7; stroke-width: 1px; fill: rgb(102, 102, 102); fill-opacity: 1; stroke: rgb(255, 255, 255); stroke-opacity: 1;\"/><path class=\"point plotly-customdata\" transform=\"translate(99.5,249.09)\" d=\"M2,0A2,2 0 1,1 0,-2A2,2 0 0,1 2,0Z\" style=\"opacity: 0.7; stroke-width: 1px; fill: rgb(174, 199, 232); fill-opacity: 1; stroke: rgb(255, 255, 255); stroke-opacity: 1;\"/><path class=\"point plotly-customdata\" transform=\"translate(244.59,225.73)\" d=\"M2,0A2,2 0 1,1 0,-2A2,2 0 0,1 2,0Z\" style=\"opacity: 0.7; stroke-width: 1px; fill: rgb(174, 199, 232); fill-opacity: 1; stroke: rgb(255, 255, 255); stroke-opacity: 1;\"/><path class=\"point plotly-customdata\" transform=\"translate(139.17,230.35)\" d=\"M4,0A4,4 0 1,1 0,-4A4,4 0 0,1 4,0Z\" style=\"opacity: 0.7; stroke-width: 1px; fill: rgb(174, 199, 232); fill-opacity: 1; stroke: rgb(255, 255, 255); stroke-opacity: 1;\"/><path class=\"point plotly-customdata\" transform=\"translate(418.4,44.18)\" d=\"M4,0A4,4 0 1,1 0,-4A4,4 0 0,1 4,0Z\" style=\"opacity: 0.7; stroke-width: 1px; fill: rgb(102, 102, 102); fill-opacity: 1; stroke: rgb(255, 255, 255); stroke-opacity: 1;\"/><path class=\"point plotly-customdata\" transform=\"translate(335.27,141.11)\" d=\"M4,0A4,4 0 1,1 0,-4A4,4 0 0,1 4,0Z\" style=\"opacity: 0.7; stroke-width: 1px; fill: rgb(102, 102, 102); fill-opacity: 1; stroke: rgb(255, 255, 255); stroke-opacity: 1;\"/><path class=\"point plotly-customdata\" transform=\"translate(299,365.5)\" d=\"M4,0A4,4 0 1,1 0,-4A4,4 0 0,1 4,0Z\" style=\"opacity: 0.7; stroke-width: 1px; fill: rgb(174, 199, 232); fill-opacity: 1; stroke: rgb(255, 255, 255); stroke-opacity: 1;\"/><path class=\"point plotly-customdata\" transform=\"translate(33,242.63)\" d=\"M2,0A2,2 0 1,1 0,-2A2,2 0 0,1 2,0Z\" style=\"opacity: 0.7; stroke-width: 1px; fill: rgb(174, 199, 232); fill-opacity: 1; stroke: rgb(255, 255, 255); stroke-opacity: 1;\"/><path class=\"point plotly-customdata\" transform=\"translate(120.66,244.55)\" d=\"M2,0A2,2 0 1,1 0,-2A2,2 0 0,1 2,0Z\" style=\"opacity: 0.7; stroke-width: 1px; fill: rgb(174, 199, 232); fill-opacity: 1; stroke: rgb(255, 255, 255); stroke-opacity: 1;\"/><path class=\"point plotly-customdata\" transform=\"translate(81.36,258.61)\" d=\"M4,0A4,4 0 1,1 0,-4A4,4 0 0,1 4,0Z\" style=\"opacity: 0.7; stroke-width: 1px; fill: rgb(174, 199, 232); fill-opacity: 1; stroke: rgb(255, 255, 255); stroke-opacity: 1;\"/><path class=\"point plotly-customdata\" transform=\"translate(371.55,176.37)\" d=\"M4,0A4,4 0 1,1 0,-4A4,4 0 0,1 4,0Z\" style=\"opacity: 0.7; stroke-width: 1px; fill: rgb(255, 187, 120); fill-opacity: 1; stroke: rgb(255, 255, 255); stroke-opacity: 1;\"/><path class=\"point plotly-customdata\" transform=\"translate(444.09,364.81)\" d=\"M4,0A4,4 0 1,1 0,-4A4,4 0 0,1 4,0Z\" style=\"opacity: 0.7; stroke-width: 1px; fill: rgb(174, 199, 232); fill-opacity: 1; stroke: rgb(255, 255, 255); stroke-opacity: 1;\"/><path class=\"point plotly-customdata\" transform=\"translate(540.82,141.06)\" d=\"M4,0A4,4 0 1,1 0,-4A4,4 0 0,1 4,0Z\" style=\"opacity: 0.7; stroke-width: 1px; fill: rgb(174, 199, 232); fill-opacity: 1; stroke: rgb(255, 255, 255); stroke-opacity: 1;\"/><path class=\"point plotly-customdata\" transform=\"translate(143.33,240.13)\" d=\"M2,0A2,2 0 1,1 0,-2A2,2 0 0,1 2,0Z\" style=\"opacity: 0.7; stroke-width: 1px; fill: rgb(174, 199, 232); fill-opacity: 1; stroke: rgb(255, 255, 255); stroke-opacity: 1;\"/><path class=\"point plotly-customdata\" transform=\"translate(347.36,269.78)\" d=\"M4,0A4,4 0 1,1 0,-4A4,4 0 0,1 4,0Z\" style=\"opacity: 0.7; stroke-width: 1px; fill: rgb(255, 187, 120); fill-opacity: 1; stroke: rgb(255, 255, 255); stroke-opacity: 1;\"/><path class=\"point plotly-customdata\" transform=\"translate(88.16,234.72)\" d=\"M2,0A2,2 0 1,1 0,-2A2,2 0 0,1 2,0Z\" style=\"opacity: 0.7; stroke-width: 1px; fill: rgb(174, 199, 232); fill-opacity: 1; stroke: rgb(255, 255, 255); stroke-opacity: 1;\"/><path class=\"point plotly-customdata\" transform=\"translate(501.52,108.23)\" d=\"M4,0A4,4 0 1,1 0,-4A4,4 0 0,1 4,0Z\" style=\"opacity: 0.7; stroke-width: 1px; fill: rgb(174, 199, 232); fill-opacity: 1; stroke: rgb(255, 255, 255); stroke-opacity: 1;\"/><path class=\"point plotly-customdata\" transform=\"translate(462.23,250.33)\" d=\"M4,0A4,4 0 1,1 0,-4A4,4 0 0,1 4,0Z\" style=\"opacity: 0.7; stroke-width: 1px; fill: rgb(174, 199, 232); fill-opacity: 1; stroke: rgb(255, 255, 255); stroke-opacity: 1;\"/><path class=\"point plotly-customdata\" transform=\"translate(516.64,299.45)\" d=\"M4,0A4,4 0 1,1 0,-4A4,4 0 0,1 4,0Z\" style=\"opacity: 0.7; stroke-width: 1px; fill: rgb(174, 199, 232); fill-opacity: 1; stroke: rgb(255, 255, 255); stroke-opacity: 1;\"/><path class=\"point plotly-customdata\" transform=\"translate(226.45,241.55)\" d=\"M4,0A4,4 0 1,1 0,-4A4,4 0 0,1 4,0Z\" style=\"opacity: 0.7; stroke-width: 1px; fill: rgb(174, 199, 232); fill-opacity: 1; stroke: rgb(255, 255, 255); stroke-opacity: 1;\"/><path class=\"point plotly-customdata\" transform=\"translate(191.88,209.65)\" d=\"M4,0A4,4 0 1,1 0,-4A4,4 0 0,1 4,0Z\" style=\"opacity: 0.7; stroke-width: 1px; fill: rgb(174, 199, 232); fill-opacity: 1; stroke: rgb(255, 255, 255); stroke-opacity: 1;\"/><path class=\"point plotly-customdata\" transform=\"translate(565,246.98)\" d=\"M4,0A4,4 0 1,1 0,-4A4,4 0 0,1 4,0Z\" style=\"opacity: 0.7; stroke-width: 1px; fill: rgb(174, 199, 232); fill-opacity: 1; stroke: rgb(255, 255, 255); stroke-opacity: 1;\"/></g><g class=\"text\"/></g></g></g><g class=\"overplot\"/><path class=\"xlines-above crisp\" d=\"M0,0\" style=\"fill: none;\"/><path class=\"ylines-above crisp\" d=\"M0,0\" style=\"fill: none;\"/><g class=\"overlines-above\"/><g class=\"xaxislayer-above\"/><g class=\"yaxislayer-above\"><g class=\"ytick\"><text text-anchor=\"end\" x=\"49\" y=\"4.199999999999999\" transform=\"translate(0,425.57)\" style=\"font-family: 'Open Sans', verdana, arial, sans-serif; font-size: 12px; fill: rgb(68, 68, 68); fill-opacity: 1; white-space: pre;\">0</text></g><g class=\"ytick\"><text text-anchor=\"end\" x=\"49\" y=\"4.199999999999999\" transform=\"translate(0,347.92)\" style=\"font-family: 'Open Sans', verdana, arial, sans-serif; font-size: 12px; fill: rgb(68, 68, 68); fill-opacity: 1; white-space: pre;\">0.2</text></g><g class=\"ytick\"><text text-anchor=\"end\" x=\"49\" y=\"4.199999999999999\" transform=\"translate(0,270.27)\" style=\"font-family: 'Open Sans', verdana, arial, sans-serif; font-size: 12px; fill: rgb(68, 68, 68); fill-opacity: 1; white-space: pre;\">0.4</text></g><g class=\"ytick\"><text text-anchor=\"end\" x=\"49\" y=\"4.199999999999999\" transform=\"translate(0,192.63)\" style=\"font-family: 'Open Sans', verdana, arial, sans-serif; font-size: 12px; fill: rgb(68, 68, 68); fill-opacity: 1; white-space: pre;\">0.6</text></g><g class=\"ytick\"><text text-anchor=\"end\" x=\"49\" y=\"4.199999999999999\" transform=\"translate(0,114.97999999999999)\" style=\"font-family: 'Open Sans', verdana, arial, sans-serif; font-size: 12px; fill: rgb(68, 68, 68); fill-opacity: 1; white-space: pre;\">0.8</text></g></g><g class=\"overaxes-above\"/></g><g class=\"subplot xy2\"><rect class=\"bg\" x=\"50\" y=\"430.5\" width=\"600\" height=\"19.5\" style=\"fill: rgb(255, 255, 255); fill-opacity: 1; stroke-width: 0;\"/><g class=\"layer-subplot\"><g class=\"shapelayer\"/><g class=\"imagelayer\"/></g><g class=\"gridlayer\"><g class=\"x\"/><g class=\"y2\"/></g><g class=\"zerolinelayer\"/><path class=\"xlines-below\"/><path class=\"ylines-below\"/><g class=\"overlines-below\"/><g class=\"xaxislayer-below\"/><g class=\"yaxislayer-below\"/><g class=\"overaxes-below\"/><g class=\"plot\" transform=\"translate(50,430.5)\" clip-path=\"url('#clip20b6fcxy2plot')\"><g class=\"heatmaplayer mlayer\"><g class=\"hm\"><image xmlns=\"http://www.w3.org/2000/svg\" preserveAspectRatio=\"none\" height=\"20\" width=\"580\" x=\"8.82\" y=\"0\" xlink:href=\"data:image/png;base64,iVBORw0KGgoAAAANSUhEUgAAAkQAAAAUCAYAAABs8SKEAAADK0lEQVR4Xu2cYXFbQRCDaxalEgAlUDSFUDQlEAClUhbpGECsjWVp5958+b13855Wq/t8E/v25++/j2+hv59v328n73+X5fR34PkfmzutDx4KhcsXtr33+OP9VyznvvAoT5fefvyOvkNj/+RZ8LSww4VXyInhqz5dltaosf/RwJIWiMNMz0a6B6fvj4e0h9IVAJFWGCC6/gcn7QKv4vSsvj8/QCQ8cIUmJz+ZoY8OETTSGiUrACKtLkAEEGmX7GrUyFGACCCy5qBh0pOBjhsiy14vWQwQaRkBot3DvpET2gVexRXOAoAIILKm4ApDkASuRtCd3gPLgIPFAJEWCSACiLRLdjVq5BxABBBZc9AwaRJY0s8PEFn2esligEjLCBDtHvaNnNAu8CrSWdrYHyACiKwpaJgUINoN63SPLQMOFgNEWiSAaHfGACLt0XQO8U/Vugd87R5gHLhkN0wbQZGEUlvggUf52v1jkQCi3RkGiHQKNHKOG6JBmCYPg0aTef7Pm5zWvxF06XdI76+j0KvghkjrBxABRNoluxqlc4gbooEDGk0AWPaAJd1fgGgwZOESgEgLDBDtHvaNnNAu8CrSWdrYnxsiboisKWiY9GRgbATd6T2wDDhYDBBpkQAigEi7ZFejRs4BRACRNQcNkwJE1w4iy4CDxQCRFgkg2p2xxgcn7QKv4gpnAUAEEFlTcIUhSAJXI+hO74FlwMFigEiLBBABRNoluxo1cg4gAoisOWiYNAks6ecHiCx7vWQxQKRlBIh2D/tGTmgXeBXpLG3sDxABRNYUNEwKEO2GdbrHlgEHiwEiLRJAtDtjAJH2aDqH+JaZ7gG/QwQwDlyyG6aNoEhCqS3wwKP8DtFjkQCi3RkGiHQKNHKOG6JBmCYPg0aTef7Pm5zWvxF06XdI76+j0KvghkjrBxABRNoluxqlc4gbooEDGk0AWPaAJd1fgGgwZOESgEgLDBDtHvaNnNAu8CrSWdrYnxsiboisKWiY9GRgbATd6T2wDDhYDBBpkQAigEi7ZFejRs4BRACRNQcNkwJE1w4iy4CDxQCRFgkg2p2xxgcn7QKv4gpnwX/70EBvnpDG4wAAAABJRU5ErkJggg==\" style=\"opacity: 1;\"/></g></g></g><g class=\"overplot\"/><path class=\"xlines-above crisp\" d=\"M0,0\" style=\"fill: none;\"/><path class=\"ylines-above crisp\" d=\"M0,0\" style=\"fill: none;\"/><g class=\"overlines-above\"/><g class=\"xaxislayer-above\"/><g class=\"yaxislayer-above\"/><g class=\"overaxes-above\"/></g></g><g class=\"polarlayer\"/><g class=\"ternarylayer\"/><g class=\"geolayer\"/><g class=\"funnelarealayer\"/><g class=\"pielayer\"/><g class=\"treemaplayer\"/><g class=\"sunburstlayer\"/><g class=\"glimages\"/><defs id=\"topdefs-20b6fc\"><g class=\"clips\"/></defs><g class=\"layer-above\"><g class=\"imagelayer\"/><g class=\"shapelayer\"/></g><g class=\"infolayer\"><g class=\"g-gtitle\"/><g class=\"g-ytitle\"/></g></svg>"
      ],
      "text/html": [
       "<div\n",
       "    class=\"webio-mountpoint\"\n",
       "    data-webio-mountpoint=\"14478989001664345305\"\n",
       ">\n",
       "    <script>\n",
       "    if (window.require && require.defined && require.defined(\"nbextensions/webio-jupyter-notebook\")) {\n",
       "        console.log(\"Jupyter WebIO extension detected, not mounting.\");\n",
       "    } else if (window.WebIO) {\n",
       "        WebIO.mount(\n",
       "            document.querySelector('[data-webio-mountpoint=\"14478989001664345305\"]'),\n",
       "            {\"props\":{},\"nodeType\":\"Scope\",\"type\":\"node\",\"instanceArgs\":{\"imports\":{\"data\":[{\"name\":\"Plotly\",\"type\":\"js\",\"url\":\"\\/assetserver\\/e6903599031aaef8675931dfcd7df98a1aeffbfc-plotly-latest.min.js\"},{\"name\":null,\"type\":\"js\",\"url\":\"\\/assetserver\\/74a5dea81f21b0b802ef1ee92f1c8a504eac1a0c-plotly_webio.bundle.js\"}],\"type\":\"async_block\"},\"id\":\"12536873300225875621\",\"handlers\":{\"_toImage\":[\"(function (options){return this.Plotly.toImage(this.plotElem,options).then((function (data){return WebIO.setval({\\\"name\\\":\\\"image\\\",\\\"scope\\\":\\\"12536873300225875621\\\",\\\"id\\\":\\\"16887473270387841292\\\",\\\"type\\\":\\\"observable\\\"},data)}))})\"],\"__get_gd_contents\":[\"(function (prop){prop==\\\"data\\\" ? (WebIO.setval({\\\"name\\\":\\\"__gd_contents\\\",\\\"scope\\\":\\\"12536873300225875621\\\",\\\"id\\\":\\\"13807508131004730817\\\",\\\"type\\\":\\\"observable\\\"},this.plotElem.data)) : undefined; return prop==\\\"layout\\\" ? (WebIO.setval({\\\"name\\\":\\\"__gd_contents\\\",\\\"scope\\\":\\\"12536873300225875621\\\",\\\"id\\\":\\\"13807508131004730817\\\",\\\"type\\\":\\\"observable\\\"},this.plotElem.layout)) : undefined})\"],\"_downloadImage\":[\"(function (options){return this.Plotly.downloadImage(this.plotElem,options)})\"],\"_commands\":[\"(function (args){var fn=args.shift(); var elem=this.plotElem; var Plotly=this.Plotly; args.unshift(elem); return Plotly[fn].apply(this,args)})\"]},\"systemjs_options\":null,\"mount_callbacks\":[\"function () {\\n    var handler = ((function (Plotly,PlotlyWebIO){PlotlyWebIO.init(WebIO); var gd=this.dom.querySelector(\\\"#plot-c0e52113-c393-4ce0-88ef-b3c8b6fdb4d9\\\"); this.plotElem=gd; this.Plotly=Plotly; (window.Blink!==undefined) ? (gd.style.width=\\\"100%\\\", gd.style.height=\\\"100vh\\\", gd.style.marginLeft=\\\"0%\\\", gd.style.marginTop=\\\"0vh\\\") : undefined; window.onresize=(function (){return Plotly.Plots.resize(gd)}); Plotly.newPlot(gd,[{\\\"showlegend\\\":false,\\\"mode\\\":\\\"lines\\\",\\\"line\\\":{\\\"color\\\":\\\"#666666\\\"},\\\"y\\\":[0.8785027861595154,0.8785027861595154,null,0.8785027861595154,0.40160587430000305,null,0.8785027861595154,0.82781982421875,null],\\\"type\\\":\\\"scatter\\\",\\\"hoverinfo\\\":\\\"skip\\\",\\\"yaxis\\\":\\\"y1\\\",\\\"x\\\":[8.0703125,17.4375,null,8.0703125,8.0703125,null,17.4375,17.4375,null]},{\\\"showlegend\\\":false,\\\"mode\\\":\\\"lines\\\",\\\"line\\\":{\\\"color\\\":\\\"#AEC7E8\\\"},\\\"y\\\":[0.30003079771995544,0.30003079771995544,null,0.30003079771995544,0.27551257610321045,null,0.30003079771995544,0.0,null],\\\"type\\\":\\\"scatter\\\",\\\"hoverinfo\\\":\\\"skip\\\",\\\"yaxis\\\":\\\"y1\\\",\\\"x\\\":[3.5,5.0,null,3.5,3.5,null,5.0,5.0,null]},{\\\"showlegend\\\":false,\\\"mode\\\":\\\"lines\\\",\\\"line\\\":{\\\"color\\\":\\\"#AEC7E8\\\"},\\\"y\\\":[0.3602002263069153,0.3602002263069153,null,0.3602002263069153,0.3194444477558136,null,0.3602002263069153,0.0,null],\\\"type\\\":\\\"scatter\\\",\\\"hoverinfo\\\":\\\"skip\\\",\\\"yaxis\\\":\\\"y1\\\",\\\"x\\\":[9.5,11.0,null,9.5,9.5,null,11.0,11.0,null]},{\\\"showlegend\\\":false,\\\"mode\\\":\\\"lines\\\",\\\"line\\\":{\\\"color\\\":\\\"#AEC7E8\\\"},\\\"y\\\":[0.34828904271125793,0.34828904271125793,null,0.34828904271125793,0.3370318114757538,null,0.34828904271125793,0.0,null],\\\"type\\\":\\\"scatter\\\",\\\"hoverinfo\\\":\\\"skip\\\",\\\"yaxis\\\":\\\"y1\\\",\\\"x\\\":[3.78125,8.0,null,3.78125,3.78125,null,8.0,8.0,null]},{\\\"showlegend\\\":false,\\\"mode\\\":\\\"lines\\\",\\\"line\\\":{\\\"color\\\":\\\"#666666\\\"},\\\"y\\\":[0.82781982421875,0.82781982421875,null,0.82781982421875,0.5781402587890625,null,0.82781982421875,0.662848174571991,null],\\\"type\\\":\\\"scatter\\\",\\\"hoverinfo\\\":\\\"skip\\\",\\\"yaxis\\\":\\\"y1\\\",\\\"x\\\":[14.0,20.875,null,14.0,14.0,null,20.875,20.875,null]},{\\\"showlegend\\\":false,\\\"mode\\\":\\\"lines\\\",\\\"line\\\":{\\\"color\\\":\\\"#666666\\\"},\\\"y\\\":[0.5781402587890625,0.5781402587890625,null,0.5781402587890625,0.00018406036542728543,null,0.5781402587890625,0.48734089732170105,null],\\\"type\\\":\\\"scatter\\\",\\\"hoverinfo\\\":\\\"skip\\\",\\\"yaxis\\\":\\\"y1\\\",\\\"x\\\":[12.5,15.5,null,12.5,12.5,null,15.5,15.5,null]},{\\\"showlegend\\\":false,\\\"mode\\\":\\\"lines\\\",\\\"line\\\":{\\\"color\\\":\\\"#AEC7E8\\\"},\\\"y\\\":[0.0,0.0019534884486347437,0.0019534884486347437,0.0],\\\"type\\\":\\\"scatter\\\",\\\"fill\\\":\\\"toself\\\",\\\"hoverinfo\\\":\\\"skip\\\",\\\"yaxis\\\":\\\"y1\\\",\\\"x\\\":[18.0,18.0,19.0,19.0]},{\\\"showlegend\\\":false,\\\"mode\\\":\\\"lines\\\",\\\"line\\\":{\\\"color\\\":\\\"#AEC7E8\\\"},\\\"y\\\":[0.0,0.00018406036542728543,0.00018406036542728543,0.0],\\\"type\\\":\\\"scatter\\\",\\\"fill\\\":\\\"toself\\\",\\\"hoverinfo\\\":\\\"skip\\\",\\\"yaxis\\\":\\\"y1\\\",\\\"x\\\":[12.0,12.0,13.0,13.0]},{\\\"showlegend\\\":false,\\\"mode\\\":\\\"lines\\\",\\\"line\\\":{\\\"color\\\":\\\"#AEC7E8\\\"},\\\"y\\\":[0.31665533781051636,0.31665533781051636,null,0.31665533781051636,0.0,null,0.31665533781051636,0.0,null],\\\"type\\\":\\\"scatter\\\",\\\"hoverinfo\\\":\\\"skip\\\",\\\"yaxis\\\":\\\"y1\\\",\\\"x\\\":[1.0,2.0,null,1.0,1.0,null,2.0,2.0,null]},{\\\"showlegend\\\":false,\\\"mode\\\":\\\"lines\\\",\\\"line\\\":{\\\"color\\\":\\\"#AEC7E8\\\"},\\\"y\\\":[0.31172552704811096,0.31172552704811096,null,0.31172552704811096,0.30003079771995544,null,0.31172552704811096,0.0,null],\\\"type\\\":\\\"scatter\\\",\\\"hoverinfo\\\":\\\"skip\\\",\\\"yaxis\\\":\\\"y1\\\",\\\"x\\\":[4.25,6.0,null,4.25,4.25,null,6.0,6.0,null]},{\\\"showlegend\\\":false,\\\"mode\\\":\\\"lines\\\",\\\"line\\\":{\\\"color\\\":\\\"#AEC7E8\\\"},\\\"y\\\":[0.27551257610321045,0.27551257610321045,null,0.27551257610321045,0.0,null,0.27551257610321045,0.0,null],\\\"type\\\":\\\"scatter\\\",\\\"hoverinfo\\\":\\\"skip\\\",\\\"yaxis\\\":\\\"y1\\\",\\\"x\\\":[3.0,4.0,null,3.0,3.0,null,4.0,4.0,null]},{\\\"showlegend\\\":false,\\\"mode\\\":\\\"lines\\\",\\\"line\\\":{\\\"color\\\":\\\"#FFBB78\\\"},\\\"y\\\":[0.48734089732170105,0.48734089732170105,null,0.48734089732170105,0.24673137068748474,null,0.48734089732170105,0.28262075781822205,null],\\\"type\\\":\\\"scatter\\\",\\\"hoverinfo\\\":\\\"skip\\\",\\\"yaxis\\\":\\\"y1\\\",\\\"x\\\":[14.5,16.5,null,14.5,14.5,null,16.5,16.5,null]},{\\\"showlegend\\\":false,\\\"mode\\\":\\\"lines\\\",\\\"line\\\":{\\\"color\\\":\\\"#AEC7E8\\\"},\\\"y\\\":[0.5782723426818848,0.5782723426818848,null,0.5782723426818848,0.17030352354049683,null,0.5782723426818848,0.30545592308044434,null],\\\"type\\\":\\\"scatter\\\",\\\"hoverinfo\\\":\\\"skip\\\",\\\"yaxis\\\":\\\"y1\\\",\\\"x\\\":[21.5,23.5,null,21.5,21.5,null,23.5,23.5,null]},{\\\"showlegend\\\":false,\\\"mode\\\":\\\"lines\\\",\\\"line\\\":{\\\"color\\\":\\\"#AEC7E8\\\"},\\\"y\\\":[0.3231011629104614,0.3231011629104614,null,0.3231011629104614,0.31172552704811096,null,0.3231011629104614,0.0,null],\\\"type\\\":\\\"scatter\\\",\\\"hoverinfo\\\":\\\"skip\\\",\\\"yaxis\\\":\\\"y1\\\",\\\"x\\\":[5.125,7.0,null,5.125,5.125,null,7.0,7.0,null]},{\\\"showlegend\\\":false,\\\"mode\\\":\\\"lines\\\",\\\"line\\\":{\\\"color\\\":\\\"#FFBB78\\\"},\\\"y\\\":[0.0,0.24673137068748474,0.24673137068748474,0.0],\\\"type\\\":\\\"scatter\\\",\\\"fill\\\":\\\"toself\\\",\\\"hoverinfo\\\":\\\"skip\\\",\\\"yaxis\\\":\\\"y1\\\",\\\"x\\\":[14.0,14.0,15.0,15.0]},{\\\"showlegend\\\":false,\\\"mode\\\":\\\"lines\\\",\\\"line\\\":{\\\"color\\\":\\\"#AEC7E8\\\"},\\\"y\\\":[0.3370318114757538,0.3370318114757538,null,0.3370318114757538,0.31665533781051636,null,0.3370318114757538,0.3231011629104614,null],\\\"type\\\":\\\"scatter\\\",\\\"hoverinfo\\\":\\\"skip\\\",\\\"yaxis\\\":\\\"y1\\\",\\\"x\\\":[1.5,6.0625,null,1.5,1.5,null,6.0625,6.0625,null]},{\\\"showlegend\\\":false,\\\"mode\\\":\\\"lines\\\",\\\"line\\\":{\\\"color\\\":\\\"#AEC7E8\\\"},\\\"y\\\":[0.662848174571991,0.662848174571991,null,0.662848174571991,0.2968417704105377,null,0.662848174571991,0.5782723426818848,null],\\\"type\\\":\\\"scatter\\\",\\\"hoverinfo\\\":\\\"skip\\\",\\\"yaxis\\\":\\\"y1\\\",\\\"x\\\":[19.25,22.5,null,19.25,19.25,null,22.5,22.5,null]},{\\\"showlegend\\\":false,\\\"mode\\\":\\\"lines\\\",\\\"line\\\":{\\\"color\\\":\\\"#AEC7E8\\\"},\\\"y\\\":[0.2968417704105377,0.2968417704105377,null,0.2968417704105377,0.0019534884486347437,null,0.2968417704105377,0.0,null],\\\"type\\\":\\\"scatter\\\",\\\"hoverinfo\\\":\\\"skip\\\",\\\"yaxis\\\":\\\"y1\\\",\\\"x\\\":[18.5,20.0,null,18.5,18.5,null,20.0,20.0,null]},{\\\"showlegend\\\":false,\\\"mode\\\":\\\"lines\\\",\\\"line\\\":{\\\"color\\\":\\\"#AEC7E8\\\"},\\\"y\\\":[0.0,0.17030352354049683,0.17030352354049683,0.0],\\\"type\\\":\\\"scatter\\\",\\\"fill\\\":\\\"toself\\\",\\\"hoverinfo\\\":\\\"skip\\\",\\\"yaxis\\\":\\\"y1\\\",\\\"x\\\":[21.0,21.0,22.0,22.0]},{\\\"showlegend\\\":false,\\\"mode\\\":\\\"lines\\\",\\\"line\\\":{\\\"color\\\":\\\"#AEC7E8\\\"},\\\"y\\\":[0.3194444477558136,0.3194444477558136,null,0.3194444477558136,0.0,null,0.3194444477558136,0.0,null],\\\"type\\\":\\\"scatter\\\",\\\"hoverinfo\\\":\\\"skip\\\",\\\"yaxis\\\":\\\"y1\\\",\\\"x\\\":[9.0,10.0,null,9.0,9.0,null,10.0,10.0,null]},{\\\"showlegend\\\":false,\\\"mode\\\":\\\"lines\\\",\\\"line\\\":{\\\"color\\\":\\\"#AEC7E8\\\"},\\\"y\\\":[0.40160587430000305,0.40160587430000305,null,0.40160587430000305,0.34828904271125793,null,0.40160587430000305,0.3602002263069153,null],\\\"type\\\":\\\"scatter\\\",\\\"hoverinfo\\\":\\\"skip\\\",\\\"yaxis\\\":\\\"y1\\\",\\\"x\\\":[5.890625,10.25,null,5.890625,5.890625,null,10.25,10.25,null]},{\\\"showlegend\\\":false,\\\"mode\\\":\\\"lines\\\",\\\"line\\\":{\\\"color\\\":\\\"#AEC7E8\\\"},\\\"y\\\":[0.30545592308044434,0.30545592308044434,null,0.30545592308044434,0.0,null,0.30545592308044434,0.0,null],\\\"type\\\":\\\"scatter\\\",\\\"hoverinfo\\\":\\\"skip\\\",\\\"yaxis\\\":\\\"y1\\\",\\\"x\\\":[23.0,24.0,null,23.0,23.0,null,24.0,24.0,null]},{\\\"showlegend\\\":false,\\\"mode\\\":\\\"lines\\\",\\\"line\\\":{\\\"color\\\":\\\"#FFBB78\\\"},\\\"y\\\":[0.28262075781822205,0.28262075781822205,null,0.28262075781822205,0.0,null,0.28262075781822205,0.0,null],\\\"type\\\":\\\"scatter\\\",\\\"hoverinfo\\\":\\\"skip\\\",\\\"yaxis\\\":\\\"y1\\\",\\\"x\\\":[16.0,17.0,null,16.0,16.0,null,17.0,17.0,null]},{\\\"showlegend\\\":false,\\\"mode\\\":\\\"markers\\\",\\\"marker\\\":{\\\"color\\\":[\\\"#FFBB78\\\",\\\"#666666\\\",\\\"#AEC7E8\\\",\\\"#AEC7E8\\\",\\\"#AEC7E8\\\",\\\"#666666\\\",\\\"#666666\\\",\\\"#AEC7E8\\\",\\\"#AEC7E8\\\",\\\"#AEC7E8\\\",\\\"#AEC7E8\\\",\\\"#FFBB78\\\",\\\"#AEC7E8\\\",\\\"#AEC7E8\\\",\\\"#AEC7E8\\\",\\\"#FFBB78\\\",\\\"#AEC7E8\\\",\\\"#AEC7E8\\\",\\\"#AEC7E8\\\",\\\"#AEC7E8\\\",\\\"#AEC7E8\\\",\\\"#AEC7E8\\\",\\\"#AEC7E8\\\"],\\\"size\\\":[8,8,4,4,8,8,8,8,4,4,8,8,8,8,4,8,4,8,8,8,8,8,8]},\\\"y\\\":[0.28262075781822205,0.8785027861595154,0.30003079771995544,0.3602002263069153,0.34828904271125793,0.82781982421875,0.5781402587890625,0.00018406036542728543,0.31665533781051636,0.31172552704811096,0.27551257610321045,0.48734089732170105,0.0019534884486347437,0.5782723426818848,0.3231011629104614,0.24673137068748474,0.3370318114757538,0.662848174571991,0.2968417704105377,0.17030352354049683,0.3194444477558136,0.40160587430000305,0.30545592308044434],\\\"type\\\":\\\"scatter\\\",\\\"customdata\\\":[[30,2,\\\"safensis\\\"],[47,24,\\\"(mixed)\\\"],[32,3,\\\"pumilus\\\"],[40,3,\\\"pumilus\\\"],[39,8,\\\"pumilus\\\"],[46,13,\\\"(mixed)\\\"],[43,6,\\\"(mixed)\\\"],[25,2,\\\"pumilus\\\"],[35,2,\\\"pumilus\\\"],[34,4,\\\"pumilus\\\"],[29,2,\\\"pumilus\\\"],[42,4,\\\"safensis\\\"],[26,2,\\\"pumilus\\\"],[44,4,\\\"pumilus\\\"],[37,5,\\\"pumilus\\\"],[28,2,\\\"safensis\\\"],[38,7,\\\"pumilus\\\"],[45,7,\\\"pumilus\\\"],[31,3,\\\"pumilus\\\"],[27,2,\\\"pumilus\\\"],[36,2,\\\"pumilus\\\"],[41,11,\\\"pumilus\\\"],[33,2,\\\"pumilus\\\"]],\\\"yaxis\\\":\\\"y1\\\",\\\"hovertemplate\\\":\\\"ID: %{customdata[0]}<br>\\\\nHeight: %{y:.3f}<br>\\\\nGenome count: %{customdata[1]}\\\\n<br>\\\\n%{customdata[2]}\\\\n<extra><\\/extra>\\\",\\\"x\\\":[16.5,12.75390625,4.25,10.25,5.890625,17.4375,14.0,12.5,1.5,5.125,3.5,15.5,18.5,22.5,6.0625,14.5,3.78125,20.875,19.25,21.5,9.5,8.0703125,23.5]},{\\\"colorscale\\\":[[0.0,\\\"#666666\\\"],[0.1,\\\"#AEC7E8\\\"],[0.2,\\\"#FFBB78\\\"],[0.3,\\\"#98DF8A\\\"],[0.4,\\\"#FF9896\\\"],[0.5,\\\"#C5B0D5\\\"],[0.6,\\\"#C49C94\\\"],[0.7,\\\"#F7B6D2\\\"],[0.8,\\\"#C7C7C7\\\"],[0.9,\\\"#DBDB8D\\\"],[1.0,\\\"#9EDAE5\\\"]],\\\"yaxis\\\":\\\"y2\\\",\\\"showscale\\\":false,\\\"x\\\":[0.5,1.5,2.5,3.5,4.5,5.5,6.5,7.5,8.5,9.5,10.5,11.5,13.5,15.5,16.5,17.5,19.5,20.5,22.5,23.5,24.5],\\\"customdata\\\":[[[\\\"Genome 2\\\",\\\"pumilus\\\"],[\\\"Genome 3\\\",\\\"pumilus\\\"],[\\\"Genome 9\\\",\\\"pumilus\\\"],[\\\"Genome 18\\\",\\\"pumilus\\\"],[\\\"Genome 13\\\",\\\"pumilus\\\"],[\\\"Genome 17\\\",\\\"pumilus\\\"],[\\\"Genome 5\\\",\\\"pumilus\\\"],[\\\"Genome 14\\\",\\\"pumilus\\\"],[\\\"Genome 4\\\",\\\"pumilus\\\"],[\\\"Genome 19\\\",\\\"pumilus\\\"],[\\\"Genome 8\\\",\\\"pumilus\\\"],[\\\"ID 25\\\",\\\"pumilus\\\"],[\\\"ID 28\\\",\\\"safensis\\\"],[\\\"Genome 21\\\",\\\"safensis\\\"],[\\\"Genome 23\\\",\\\"safensis\\\"],[\\\"ID 26\\\",\\\"pumilus\\\"],[\\\"Genome 16\\\",\\\"pumilus\\\"],[\\\"ID 27\\\",\\\"pumilus\\\"],[\\\"Genome 1\\\",\\\"pumilus\\\"],[\\\"Genome 12\\\",\\\"pumilus\\\"]]],\\\"zmin\\\":0,\\\"z\\\":[[1,1,1,1,1,1,1,1,1,1,1,1,2,2,2,1,1,1,1,1]],\\\"zmax\\\":10,\\\"type\\\":\\\"heatmap\\\",\\\"xgap\\\":1,\\\"hovertemplate\\\":\\\"%{customdata[0]} <br>\\\\n%{customdata[1]}\\\\n<extra><\\/extra>\\\\n\\\"}],{\\\"xaxis\\\":{\\\"visible\\\":false},\\\"hovermode\\\":\\\"closest\\\",\\\"margin\\\":{\\\"l\\\":50,\\\"b\\\":50,\\\"r\\\":50,\\\"t\\\":60},\\\"yaxis2\\\":{\\\"visible\\\":false,\\\"domain\\\":[0.0,0.05],\\\"fixedrange\\\":true}},{}); gd.on(\\\"plotly_hover\\\",(function (data){var filtered_data=WebIO.PlotlyCommands.filterEventData(gd,data,\\\"hover\\\"); return !(filtered_data.isnil) ? (WebIO.setval({\\\"name\\\":\\\"hover\\\",\\\"scope\\\":\\\"12536873300225875621\\\",\\\"id\\\":\\\"11404740806304611964\\\",\\\"type\\\":\\\"observable\\\"},filtered_data.out)) : undefined})); gd.on(\\\"plotly_unhover\\\",(function (){return WebIO.setval({\\\"name\\\":\\\"hover\\\",\\\"scope\\\":\\\"12536873300225875621\\\",\\\"id\\\":\\\"11404740806304611964\\\",\\\"type\\\":\\\"observable\\\"},{})})); gd.on(\\\"plotly_selected\\\",(function (data){var filtered_data=WebIO.PlotlyCommands.filterEventData(gd,data,\\\"selected\\\"); return !(filtered_data.isnil) ? (WebIO.setval({\\\"name\\\":\\\"selected\\\",\\\"scope\\\":\\\"12536873300225875621\\\",\\\"id\\\":\\\"10827371094771093009\\\",\\\"type\\\":\\\"observable\\\"},filtered_data.out)) : undefined})); gd.on(\\\"plotly_deselect\\\",(function (){return WebIO.setval({\\\"name\\\":\\\"selected\\\",\\\"scope\\\":\\\"12536873300225875621\\\",\\\"id\\\":\\\"10827371094771093009\\\",\\\"type\\\":\\\"observable\\\"},{})})); gd.on(\\\"plotly_relayout\\\",(function (data){var filtered_data=WebIO.PlotlyCommands.filterEventData(gd,data,\\\"relayout\\\"); return !(filtered_data.isnil) ? (WebIO.setval({\\\"name\\\":\\\"relayout\\\",\\\"scope\\\":\\\"12536873300225875621\\\",\\\"id\\\":\\\"12892548526650520718\\\",\\\"type\\\":\\\"observable\\\"},filtered_data.out)) : undefined})); return gd.on(\\\"plotly_click\\\",(function (data){var filtered_data=WebIO.PlotlyCommands.filterEventData(gd,data,\\\"click\\\"); return !(filtered_data.isnil) ? (WebIO.setval({\\\"name\\\":\\\"click\\\",\\\"scope\\\":\\\"12536873300225875621\\\",\\\"id\\\":\\\"5153817766975817304\\\",\\\"type\\\":\\\"observable\\\"},filtered_data.out)) : undefined}))}));\\n    (WebIO.importBlock({\\\"data\\\":[{\\\"name\\\":\\\"Plotly\\\",\\\"type\\\":\\\"js\\\",\\\"url\\\":\\\"\\/assetserver\\/e6903599031aaef8675931dfcd7df98a1aeffbfc-plotly-latest.min.js\\\"},{\\\"name\\\":null,\\\"type\\\":\\\"js\\\",\\\"url\\\":\\\"\\/assetserver\\/74a5dea81f21b0b802ef1ee92f1c8a504eac1a0c-plotly_webio.bundle.js\\\"}],\\\"type\\\":\\\"async_block\\\"})).then((imports) => handler.apply(this, imports));\\n}\\n\"],\"observables\":{\"_toImage\":{\"sync\":false,\"id\":\"15723499317589670379\",\"value\":{}},\"hover\":{\"sync\":false,\"id\":\"11404740806304611964\",\"value\":{}},\"selected\":{\"sync\":false,\"id\":\"10827371094771093009\",\"value\":{}},\"__gd_contents\":{\"sync\":false,\"id\":\"13807508131004730817\",\"value\":{}},\"click\":{\"sync\":false,\"id\":\"5153817766975817304\",\"value\":{}},\"image\":{\"sync\":true,\"id\":\"16887473270387841292\",\"value\":\"\"},\"__get_gd_contents\":{\"sync\":false,\"id\":\"17684534652317435153\",\"value\":\"\"},\"_downloadImage\":{\"sync\":false,\"id\":\"7888220738187851771\",\"value\":{}},\"relayout\":{\"sync\":false,\"id\":\"12892548526650520718\",\"value\":{}},\"_commands\":{\"sync\":false,\"id\":\"10232947092446512087\",\"value\":[]}}},\"children\":[{\"props\":{\"id\":\"plot-c0e52113-c393-4ce0-88ef-b3c8b6fdb4d9\"},\"nodeType\":\"DOM\",\"type\":\"node\",\"instanceArgs\":{\"namespace\":\"html\",\"tag\":\"div\"},\"children\":[]}]},\n",
       "            window,\n",
       "        );\n",
       "    } else {\n",
       "        document\n",
       "            .querySelector('[data-webio-mountpoint=\"14478989001664345305\"]')\n",
       "            .innerHTML = (\n",
       "                '<div style=\"padding: 1em; background-color: #f8d6da; border: 1px solid #f5c6cb\">' +\n",
       "                '<p><strong>WebIO not detected.</strong></p>' +\n",
       "                '<p>Please read ' +\n",
       "                '<a href=\"https://juliagizmos.github.io/WebIO.jl/latest/troubleshooting/not-detected/\" target=\"_blank\">the troubleshooting guide</a> ' +\n",
       "                'for more information on how to resolve this issue.</p>' +\n",
       "                '<p><a href=\"https://juliagizmos.github.io/WebIO.jl/latest/troubleshooting/not-detected/\" target=\"_blank\">https://juliagizmos.github.io/WebIO.jl/latest/troubleshooting/not-detected/</a></p>' +\n",
       "                '</div>'\n",
       "            );\n",
       "    }\n",
       "    </script>\n",
       "</div>\n"
      ],
      "text/plain": [
       "data: [\n",
       "  \"scatter with fields hoverinfo, line, mode, showlegend, type, x, y, and yaxis\",\n",
       "  \"scatter with fields hoverinfo, line, mode, showlegend, type, x, y, and yaxis\",\n",
       "  \"scatter with fields hoverinfo, line, mode, showlegend, type, x, y, and yaxis\",\n",
       "  \"scatter with fields hoverinfo, line, mode, showlegend, type, x, y, and yaxis\",\n",
       "  \"scatter with fields hoverinfo, line, mode, showlegend, type, x, y, and yaxis\",\n",
       "  \"scatter with fields hoverinfo, line, mode, showlegend, type, x, y, and yaxis\",\n",
       "  \"scatter with fields fill, hoverinfo, line, mode, showlegend, type, x, y, and yaxis\",\n",
       "  \"scatter with fields fill, hoverinfo, line, mode, showlegend, type, x, y, and yaxis\",\n",
       "  \"scatter with fields hoverinfo, line, mode, showlegend, type, x, y, and yaxis\",\n",
       "  \"scatter with fields hoverinfo, line, mode, showlegend, type, x, y, and yaxis\",\n",
       "  \"scatter with fields hoverinfo, line, mode, showlegend, type, x, y, and yaxis\",\n",
       "  \"scatter with fields hoverinfo, line, mode, showlegend, type, x, y, and yaxis\",\n",
       "  \"scatter with fields hoverinfo, line, mode, showlegend, type, x, y, and yaxis\",\n",
       "  \"scatter with fields hoverinfo, line, mode, showlegend, type, x, y, and yaxis\",\n",
       "  \"scatter with fields fill, hoverinfo, line, mode, showlegend, type, x, y, and yaxis\",\n",
       "  \"scatter with fields hoverinfo, line, mode, showlegend, type, x, y, and yaxis\",\n",
       "  \"scatter with fields hoverinfo, line, mode, showlegend, type, x, y, and yaxis\",\n",
       "  \"scatter with fields hoverinfo, line, mode, showlegend, type, x, y, and yaxis\",\n",
       "  \"scatter with fields fill, hoverinfo, line, mode, showlegend, type, x, y, and yaxis\",\n",
       "  \"scatter with fields hoverinfo, line, mode, showlegend, type, x, y, and yaxis\",\n",
       "  \"scatter with fields hoverinfo, line, mode, showlegend, type, x, y, and yaxis\",\n",
       "  \"scatter with fields hoverinfo, line, mode, showlegend, type, x, y, and yaxis\",\n",
       "  \"scatter with fields hoverinfo, line, mode, showlegend, type, x, y, and yaxis\",\n",
       "  \"scatter with fields customdata, hovertemplate, marker, mode, showlegend, type, x, y, and yaxis\",\n",
       "  \"heatmap with fields colorscale, customdata, hovertemplate, showscale, type, x, xgap, yaxis, z, zmax, and zmin\"\n",
       "]\n",
       "\n",
       "layout: \"layout with fields hovermode, margin, xaxis, and yaxis2\"\n",
       "\n"
      ]
     },
     "execution_count": 4,
     "metadata": {},
     "output_type": "execute_result"
    }
   ],
   "source": [
    "trees[\"all\"] = cluster_annotate(cdata, 1:cdata.ntaxa)\n",
    "plot(dendrogram(cdata, trees[\"all\"]))"
   ]
  },
  {
   "cell_type": "code",
   "execution_count": 5,
   "id": "elementary-start",
   "metadata": {},
   "outputs": [
    {
     "data": {
      "application/vnd.plotly.v1+json": {
       "data": [
        {
         "colorscale": [
          [
           0,
           "#000004"
          ],
          [
           0.00392156862745098,
           "#010005"
          ],
          [
           0.00784313725490196,
           "#010106"
          ],
          [
           0.011764705882352941,
           "#010108"
          ],
          [
           0.01568627450980392,
           "#020109"
          ],
          [
           0.0196078431372549,
           "#02020B"
          ],
          [
           0.023529411764705882,
           "#02020D"
          ],
          [
           0.027450980392156862,
           "#03030F"
          ],
          [
           0.03137254901960784,
           "#030312"
          ],
          [
           0.03529411764705882,
           "#040414"
          ],
          [
           0.0392156862745098,
           "#050416"
          ],
          [
           0.043137254901960784,
           "#060518"
          ],
          [
           0.047058823529411764,
           "#06051A"
          ],
          [
           0.050980392156862744,
           "#07061C"
          ],
          [
           0.054901960784313725,
           "#08071E"
          ],
          [
           0.058823529411764705,
           "#090720"
          ],
          [
           0.06274509803921569,
           "#0A0822"
          ],
          [
           0.06666666666666667,
           "#0B0924"
          ],
          [
           0.07058823529411765,
           "#0C0926"
          ],
          [
           0.07450980392156863,
           "#0D0A29"
          ],
          [
           0.0784313725490196,
           "#0E0B2B"
          ],
          [
           0.08235294117647059,
           "#100B2D"
          ],
          [
           0.08627450980392157,
           "#110C2F"
          ],
          [
           0.09019607843137255,
           "#120D31"
          ],
          [
           0.09411764705882353,
           "#130D34"
          ],
          [
           0.09803921568627451,
           "#140E36"
          ],
          [
           0.10196078431372549,
           "#150E38"
          ],
          [
           0.10588235294117647,
           "#160F3B"
          ],
          [
           0.10980392156862745,
           "#180F3D"
          ],
          [
           0.11372549019607843,
           "#19103F"
          ],
          [
           0.11764705882352941,
           "#1A1042"
          ],
          [
           0.12156862745098039,
           "#1C1044"
          ],
          [
           0.12549019607843137,
           "#1D1147"
          ],
          [
           0.12941176470588237,
           "#1E1149"
          ],
          [
           0.13333333333333333,
           "#20114B"
          ],
          [
           0.13725490196078433,
           "#21114E"
          ],
          [
           0.1411764705882353,
           "#221150"
          ],
          [
           0.1450980392156863,
           "#241253"
          ],
          [
           0.14901960784313725,
           "#251255"
          ],
          [
           0.15294117647058825,
           "#271258"
          ],
          [
           0.1568627450980392,
           "#29115A"
          ],
          [
           0.1607843137254902,
           "#2A115C"
          ],
          [
           0.16470588235294117,
           "#2C115F"
          ],
          [
           0.16862745098039217,
           "#2D1161"
          ],
          [
           0.17254901960784313,
           "#2F1163"
          ],
          [
           0.17647058823529413,
           "#311165"
          ],
          [
           0.1803921568627451,
           "#331067"
          ],
          [
           0.1843137254901961,
           "#341069"
          ],
          [
           0.18823529411764706,
           "#36106B"
          ],
          [
           0.19215686274509805,
           "#38106C"
          ],
          [
           0.19607843137254902,
           "#390F6E"
          ],
          [
           0.2,
           "#3B0F70"
          ],
          [
           0.20392156862745098,
           "#3D0F71"
          ],
          [
           0.20784313725490197,
           "#3F0F72"
          ],
          [
           0.21176470588235294,
           "#400F74"
          ],
          [
           0.21568627450980393,
           "#420F75"
          ],
          [
           0.2196078431372549,
           "#440F76"
          ],
          [
           0.2235294117647059,
           "#451077"
          ],
          [
           0.22745098039215686,
           "#471078"
          ],
          [
           0.23137254901960785,
           "#491078"
          ],
          [
           0.23529411764705882,
           "#4A1079"
          ],
          [
           0.23921568627450981,
           "#4C117A"
          ],
          [
           0.24313725490196078,
           "#4E117B"
          ],
          [
           0.24705882352941178,
           "#4F127B"
          ],
          [
           0.25098039215686274,
           "#51127C"
          ],
          [
           0.2549019607843137,
           "#52137C"
          ],
          [
           0.25882352941176473,
           "#54137D"
          ],
          [
           0.2627450980392157,
           "#56147D"
          ],
          [
           0.26666666666666666,
           "#57157E"
          ],
          [
           0.27058823529411763,
           "#59157E"
          ],
          [
           0.27450980392156865,
           "#5A167E"
          ],
          [
           0.2784313725490196,
           "#5C167F"
          ],
          [
           0.2823529411764706,
           "#5D177F"
          ],
          [
           0.28627450980392155,
           "#5F187F"
          ],
          [
           0.2901960784313726,
           "#601880"
          ],
          [
           0.29411764705882354,
           "#621980"
          ],
          [
           0.2980392156862745,
           "#641A80"
          ],
          [
           0.30196078431372547,
           "#651A80"
          ],
          [
           0.3058823529411765,
           "#671B80"
          ],
          [
           0.30980392156862746,
           "#681C81"
          ],
          [
           0.3137254901960784,
           "#6A1C81"
          ],
          [
           0.3176470588235294,
           "#6B1D81"
          ],
          [
           0.3215686274509804,
           "#6D1D81"
          ],
          [
           0.3254901960784314,
           "#6E1E81"
          ],
          [
           0.32941176470588235,
           "#701F81"
          ],
          [
           0.3333333333333333,
           "#721F81"
          ],
          [
           0.33725490196078434,
           "#732081"
          ],
          [
           0.3411764705882353,
           "#752181"
          ],
          [
           0.34509803921568627,
           "#762181"
          ],
          [
           0.34901960784313724,
           "#782281"
          ],
          [
           0.35294117647058826,
           "#792282"
          ],
          [
           0.3568627450980392,
           "#7B2382"
          ],
          [
           0.3607843137254902,
           "#7C2382"
          ],
          [
           0.36470588235294116,
           "#7E2482"
          ],
          [
           0.3686274509803922,
           "#802582"
          ],
          [
           0.37254901960784315,
           "#812581"
          ],
          [
           0.3764705882352941,
           "#832681"
          ],
          [
           0.3803921568627451,
           "#842681"
          ],
          [
           0.3843137254901961,
           "#862781"
          ],
          [
           0.38823529411764707,
           "#882781"
          ],
          [
           0.39215686274509803,
           "#892881"
          ],
          [
           0.396078431372549,
           "#8B2981"
          ],
          [
           0.4,
           "#8C2981"
          ],
          [
           0.403921568627451,
           "#8E2A81"
          ],
          [
           0.40784313725490196,
           "#902A81"
          ],
          [
           0.4117647058823529,
           "#912B81"
          ],
          [
           0.41568627450980394,
           "#932B80"
          ],
          [
           0.4196078431372549,
           "#942C80"
          ],
          [
           0.4235294117647059,
           "#962C80"
          ],
          [
           0.42745098039215684,
           "#982D80"
          ],
          [
           0.43137254901960786,
           "#992D80"
          ],
          [
           0.43529411764705883,
           "#9B2E7F"
          ],
          [
           0.4392156862745098,
           "#9C2E7F"
          ],
          [
           0.44313725490196076,
           "#9E2F7F"
          ],
          [
           0.4470588235294118,
           "#A02F7F"
          ],
          [
           0.45098039215686275,
           "#A1307E"
          ],
          [
           0.4549019607843137,
           "#A3307E"
          ],
          [
           0.4588235294117647,
           "#A5317E"
          ],
          [
           0.4627450980392157,
           "#A6317D"
          ],
          [
           0.4666666666666667,
           "#A8327D"
          ],
          [
           0.47058823529411764,
           "#AA337D"
          ],
          [
           0.4745098039215686,
           "#AB337C"
          ],
          [
           0.47843137254901963,
           "#AD347C"
          ],
          [
           0.4823529411764706,
           "#AE347B"
          ],
          [
           0.48627450980392156,
           "#B0357B"
          ],
          [
           0.49019607843137253,
           "#B2357B"
          ],
          [
           0.49411764705882355,
           "#B3367A"
          ],
          [
           0.4980392156862745,
           "#B5367A"
          ],
          [
           0.5019607843137255,
           "#B73779"
          ],
          [
           0.5058823529411764,
           "#B83779"
          ],
          [
           0.5098039215686274,
           "#BA3878"
          ],
          [
           0.5137254901960784,
           "#BC3978"
          ],
          [
           0.5176470588235295,
           "#BD3977"
          ],
          [
           0.5215686274509804,
           "#BF3A77"
          ],
          [
           0.5254901960784314,
           "#C03A76"
          ],
          [
           0.5294117647058824,
           "#C23B75"
          ],
          [
           0.5333333333333333,
           "#C43C75"
          ],
          [
           0.5372549019607843,
           "#C53C74"
          ],
          [
           0.5411764705882353,
           "#C73D73"
          ],
          [
           0.5450980392156862,
           "#C83E73"
          ],
          [
           0.5490196078431373,
           "#CA3E72"
          ],
          [
           0.5529411764705883,
           "#CC3F71"
          ],
          [
           0.5568627450980392,
           "#CD4071"
          ],
          [
           0.5607843137254902,
           "#CF4070"
          ],
          [
           0.5647058823529412,
           "#D0416F"
          ],
          [
           0.5686274509803921,
           "#D2426F"
          ],
          [
           0.5725490196078431,
           "#D3436E"
          ],
          [
           0.5764705882352941,
           "#D5446D"
          ],
          [
           0.5803921568627451,
           "#D6456C"
          ],
          [
           0.5843137254901961,
           "#D8456C"
          ],
          [
           0.5882352941176471,
           "#D9466B"
          ],
          [
           0.592156862745098,
           "#DB476A"
          ],
          [
           0.596078431372549,
           "#DC4869"
          ],
          [
           0.6,
           "#DE4968"
          ],
          [
           0.6039215686274509,
           "#DF4A68"
          ],
          [
           0.6078431372549019,
           "#E04C67"
          ],
          [
           0.611764705882353,
           "#E24D66"
          ],
          [
           0.615686274509804,
           "#E34E65"
          ],
          [
           0.6196078431372549,
           "#E44F64"
          ],
          [
           0.6235294117647059,
           "#E55064"
          ],
          [
           0.6274509803921569,
           "#E75263"
          ],
          [
           0.6313725490196078,
           "#E85362"
          ],
          [
           0.6352941176470588,
           "#E95462"
          ],
          [
           0.6392156862745098,
           "#EA5661"
          ],
          [
           0.6431372549019608,
           "#EB5760"
          ],
          [
           0.6470588235294118,
           "#EC5860"
          ],
          [
           0.6509803921568628,
           "#ED5A5F"
          ],
          [
           0.6549019607843137,
           "#EE5B5E"
          ],
          [
           0.6588235294117647,
           "#EF5D5E"
          ],
          [
           0.6627450980392157,
           "#F05F5E"
          ],
          [
           0.6666666666666666,
           "#F1605D"
          ],
          [
           0.6705882352941176,
           "#F2625D"
          ],
          [
           0.6745098039215687,
           "#F2645C"
          ],
          [
           0.6784313725490196,
           "#F3655C"
          ],
          [
           0.6823529411764706,
           "#F4675C"
          ],
          [
           0.6862745098039216,
           "#F4695C"
          ],
          [
           0.6901960784313725,
           "#F56B5C"
          ],
          [
           0.6941176470588235,
           "#F66C5C"
          ],
          [
           0.6980392156862745,
           "#F66E5C"
          ],
          [
           0.7019607843137254,
           "#F7705C"
          ],
          [
           0.7058823529411765,
           "#F7725C"
          ],
          [
           0.7098039215686275,
           "#F8745C"
          ],
          [
           0.7137254901960784,
           "#F8765C"
          ],
          [
           0.7176470588235294,
           "#F9785D"
          ],
          [
           0.7215686274509804,
           "#F9795D"
          ],
          [
           0.7254901960784313,
           "#F97B5D"
          ],
          [
           0.7294117647058823,
           "#FA7D5E"
          ],
          [
           0.7333333333333333,
           "#FA7F5E"
          ],
          [
           0.7372549019607844,
           "#FA815F"
          ],
          [
           0.7411764705882353,
           "#FB835F"
          ],
          [
           0.7450980392156863,
           "#FB8560"
          ],
          [
           0.7490196078431373,
           "#FB8761"
          ],
          [
           0.7529411764705882,
           "#FC8961"
          ],
          [
           0.7568627450980392,
           "#FC8A62"
          ],
          [
           0.7607843137254902,
           "#FC8C63"
          ],
          [
           0.7647058823529411,
           "#FC8E64"
          ],
          [
           0.7686274509803922,
           "#FC9065"
          ],
          [
           0.7725490196078432,
           "#FD9266"
          ],
          [
           0.7764705882352941,
           "#FD9467"
          ],
          [
           0.7803921568627451,
           "#FD9668"
          ],
          [
           0.7843137254901961,
           "#FD9869"
          ],
          [
           0.788235294117647,
           "#FD9A6A"
          ],
          [
           0.792156862745098,
           "#FD9B6B"
          ],
          [
           0.796078431372549,
           "#FE9D6C"
          ],
          [
           0.8,
           "#FE9F6D"
          ],
          [
           0.803921568627451,
           "#FEA16E"
          ],
          [
           0.807843137254902,
           "#FEA36F"
          ],
          [
           0.8117647058823529,
           "#FEA571"
          ],
          [
           0.8156862745098039,
           "#FEA772"
          ],
          [
           0.8196078431372549,
           "#FEA973"
          ],
          [
           0.8235294117647058,
           "#FEAA74"
          ],
          [
           0.8274509803921568,
           "#FEAC76"
          ],
          [
           0.8313725490196079,
           "#FEAE77"
          ],
          [
           0.8352941176470589,
           "#FEB078"
          ],
          [
           0.8392156862745098,
           "#FEB27A"
          ],
          [
           0.8431372549019608,
           "#FEB47B"
          ],
          [
           0.8470588235294118,
           "#FEB67C"
          ],
          [
           0.8509803921568627,
           "#FEB77E"
          ],
          [
           0.8549019607843137,
           "#FEB97F"
          ],
          [
           0.8588235294117647,
           "#FEBB81"
          ],
          [
           0.8627450980392157,
           "#FEBD82"
          ],
          [
           0.8666666666666667,
           "#FEBF84"
          ],
          [
           0.8705882352941177,
           "#FEC185"
          ],
          [
           0.8745098039215686,
           "#FEC287"
          ],
          [
           0.8784313725490196,
           "#FEC488"
          ],
          [
           0.8823529411764706,
           "#FEC68A"
          ],
          [
           0.8862745098039215,
           "#FEC88C"
          ],
          [
           0.8901960784313725,
           "#FECA8D"
          ],
          [
           0.8941176470588236,
           "#FECC8F"
          ],
          [
           0.8980392156862745,
           "#FECD90"
          ],
          [
           0.9019607843137255,
           "#FECF92"
          ],
          [
           0.9058823529411765,
           "#FED194"
          ],
          [
           0.9098039215686274,
           "#FED395"
          ],
          [
           0.9137254901960784,
           "#FED597"
          ],
          [
           0.9176470588235294,
           "#FED799"
          ],
          [
           0.9215686274509803,
           "#FED89A"
          ],
          [
           0.9254901960784314,
           "#FDDA9C"
          ],
          [
           0.9294117647058824,
           "#FDDC9E"
          ],
          [
           0.9333333333333333,
           "#FDDEA0"
          ],
          [
           0.9372549019607843,
           "#FDE0A1"
          ],
          [
           0.9411764705882353,
           "#FDE2A3"
          ],
          [
           0.9450980392156862,
           "#FDE3A5"
          ],
          [
           0.9490196078431372,
           "#FDE5A7"
          ],
          [
           0.9529411764705882,
           "#FDE7A9"
          ],
          [
           0.9568627450980393,
           "#FDE9AA"
          ],
          [
           0.9607843137254902,
           "#FDEBAC"
          ],
          [
           0.9647058823529412,
           "#FCECAE"
          ],
          [
           0.9686274509803922,
           "#FCEEB0"
          ],
          [
           0.9725490196078431,
           "#FCF0B2"
          ],
          [
           0.9764705882352941,
           "#FCF2B4"
          ],
          [
           0.9803921568627451,
           "#FCF4B6"
          ],
          [
           0.984313725490196,
           "#FCF6B8"
          ],
          [
           0.9882352941176471,
           "#FCF7B9"
          ],
          [
           0.9921568627450981,
           "#FCF9BB"
          ],
          [
           0.996078431372549,
           "#FCFBBD"
          ],
          [
           1,
           "#FCFDBF"
          ]
         ],
         "type": "heatmap",
         "x": [
          0.5,
          1.5,
          2.5,
          3.5,
          4.5,
          5.5,
          6.5,
          7.5,
          8.5,
          9.5,
          10.5,
          11.5,
          13.5,
          15.5,
          16.5,
          17.5,
          19.5,
          20.5,
          22.5,
          23.5,
          24.5
         ],
         "y": [
          0.5,
          1.5,
          2.5,
          3.5,
          4.5,
          5.5,
          6.5,
          7.5,
          8.5,
          9.5,
          10.5,
          11.5,
          13.5,
          15.5,
          16.5,
          17.5,
          19.5,
          20.5,
          22.5,
          23.5,
          24.5
         ],
         "z": [
          [
           0,
           0.31665534,
           0.3220607,
           0.3275201,
           0.31810904,
           0.32837194,
           0.3370318,
           0.33872283,
           0.3916727,
           0.4006672,
           0.374171,
           0.8744048,
           0.8747758,
           0.874257,
           0.8739854,
           0.87119097,
           0.8711713,
           0.87463766,
           0.87692076,
           0.87587476
          ],
          [
           0.31665534,
           0,
           0.29679877,
           0.31557098,
           0.3194592,
           0.3126689,
           0.32485792,
           0.33207127,
           0.38499457,
           0.39390278,
           0.3673112,
           0.87461084,
           0.8744635,
           0.87561226,
           0.8745393,
           0.8691729,
           0.8698858,
           0.87146634,
           0.8752062,
           0.87349457
          ],
          [
           0.3220607,
           0.29679877,
           0,
           0.27551258,
           0.2976658,
           0.30132297,
           0.3192848,
           0.3362497,
           0.37702408,
           0.38833356,
           0.36971113,
           0.87368315,
           0.87539303,
           0.87658226,
           0.87551206,
           0.87110746,
           0.87178177,
           0.8739778,
           0.87480605,
           0.8753826
          ],
          [
           0.3275201,
           0.31557098,
           0.27551258,
           0,
           0.3000308,
           0.31172553,
           0.32310116,
           0.3457592,
           0.38114664,
           0.38902387,
           0.35150307,
           0.87579864,
           0.87605506,
           0.8769734,
           0.87578815,
           0.8696641,
           0.8691565,
           0.87281704,
           0.8757512,
           0.8751405
          ],
          [
           0.31810904,
           0.3194592,
           0.2976658,
           0.3000308,
           0,
           0.30949774,
           0.30719852,
           0.33926302,
           0.3790008,
           0.386298,
           0.35845697,
           0.87410927,
           0.87576133,
           0.875587,
           0.87421024,
           0.8706636,
           0.8714899,
           0.87382627,
           0.87625587,
           0.8754186
          ],
          [
           0.32837194,
           0.3126689,
           0.30132297,
           0.31172553,
           0.30949774,
           0,
           0.32025793,
           0.33163574,
           0.36690432,
           0.37708533,
           0.35876256,
           0.87415695,
           0.8758884,
           0.8753005,
           0.8745544,
           0.8699187,
           0.87049943,
           0.8740456,
           0.87621385,
           0.87542385
          ],
          [
           0.3370318,
           0.32485792,
           0.3192848,
           0.32310116,
           0.30719852,
           0.32025793,
           0,
           0.34828904,
           0.36425638,
           0.3750808,
           0.36696312,
           0.87569386,
           0.8762449,
           0.8746876,
           0.8747636,
           0.87175536,
           0.87202,
           0.87614423,
           0.8785028,
           0.8766963
          ],
          [
           0.33872283,
           0.33207127,
           0.3362497,
           0.3457592,
           0.33926302,
           0.33163574,
           0.34828904,
           0,
           0.39489165,
           0.40160587,
           0.37039456,
           0.8752032,
           0.87602884,
           0.8776245,
           0.87645024,
           0.87196434,
           0.872112,
           0.87542886,
           0.87701255,
           0.8773422
          ],
          [
           0.3916727,
           0.38499457,
           0.37702408,
           0.38114664,
           0.3790008,
           0.36690432,
           0.36425638,
           0.39489165,
           0,
           0.31944445,
           0.33723882,
           0.8757296,
           0.87491095,
           0.8758133,
           0.8752569,
           0.86954945,
           0.8697732,
           0.8719375,
           0.875345,
           0.87478244
          ],
          [
           0.4006672,
           0.39390278,
           0.38833356,
           0.38902387,
           0.386298,
           0.37708533,
           0.3750808,
           0.40160587,
           0.31944445,
           0,
           0.36020023,
           0.8770099,
           0.87512535,
           0.87042767,
           0.8718131,
           0.8662026,
           0.8654081,
           0.86913,
           0.8715874,
           0.8707848
          ],
          [
           0.374171,
           0.3673112,
           0.36971113,
           0.35150307,
           0.35845697,
           0.35876256,
           0.36696312,
           0.37039456,
           0.33723882,
           0.36020023,
           0,
           0.87422156,
           0.8752406,
           0.8766565,
           0.877081,
           0.8715389,
           0.8719207,
           0.8759368,
           0.8757804,
           0.87517196
          ],
          [
           0.8744048,
           0.87461084,
           0.87368315,
           0.87579864,
           0.87410927,
           0.87415695,
           0.87569386,
           0.8752032,
           0.8757296,
           0.8770099,
           0.87422156,
           0.00018406037,
           0.5766835,
           0.57140976,
           0.57532716,
           0.80022216,
           0.8020271,
           0.82492614,
           0.81584287,
           0.8157766
          ],
          [
           0.8747758,
           0.8744635,
           0.87539303,
           0.87605506,
           0.87576133,
           0.8758884,
           0.8762449,
           0.87602884,
           0.87491095,
           0.87512535,
           0.8752406,
           0.5766835,
           0.24673137,
           0.47779104,
           0.47473395,
           0.79520965,
           0.7991266,
           0.8230637,
           0.8205006,
           0.8168999
          ],
          [
           0.874257,
           0.87561226,
           0.87658226,
           0.8769734,
           0.875587,
           0.8753005,
           0.8746876,
           0.8776245,
           0.8758133,
           0.87042767,
           0.8766565,
           0.57140976,
           0.47779104,
           0,
           0.28262076,
           0.7976608,
           0.7996907,
           0.82555205,
           0.822811,
           0.8193026
          ],
          [
           0.8739854,
           0.8745393,
           0.87551206,
           0.87578815,
           0.87421024,
           0.8745544,
           0.8747636,
           0.87645024,
           0.8752569,
           0.8718131,
           0.877081,
           0.57532716,
           0.47473395,
           0.28262076,
           0,
           0.7945259,
           0.7999225,
           0.82202655,
           0.82069737,
           0.81667393
          ],
          [
           0.87119097,
           0.8691729,
           0.87110746,
           0.8696641,
           0.8706636,
           0.8699187,
           0.87175536,
           0.87196434,
           0.86954945,
           0.8662026,
           0.8715389,
           0.80022216,
           0.79520965,
           0.7976608,
           0.7945259,
           0.0019534884,
           0.2962963,
           0.6532483,
           0.6336266,
           0.6276812
          ],
          [
           0.8711713,
           0.8698858,
           0.87178177,
           0.8691565,
           0.8714899,
           0.87049943,
           0.87202,
           0.872112,
           0.8697732,
           0.8654081,
           0.8719207,
           0.8020271,
           0.7991266,
           0.7996907,
           0.7999225,
           0.2962963,
           0,
           0.6570149,
           0.6332184,
           0.6269551
          ],
          [
           0.87463766,
           0.87146634,
           0.8739778,
           0.87281704,
           0.87382627,
           0.8740456,
           0.87614423,
           0.87542886,
           0.8719375,
           0.86913,
           0.8759368,
           0.82492614,
           0.8230637,
           0.82555205,
           0.82202655,
           0.6532483,
           0.6570149,
           0.17030352,
           0.5766558,
           0.5576049
          ],
          [
           0.87692076,
           0.8752062,
           0.87480605,
           0.8757512,
           0.87625587,
           0.87621385,
           0.8785028,
           0.87701255,
           0.875345,
           0.8715874,
           0.8757804,
           0.81584287,
           0.8205006,
           0.822811,
           0.82069737,
           0.6336266,
           0.6332184,
           0.5766558,
           0,
           0.30545592
          ],
          [
           0.87587476,
           0.87349457,
           0.8753826,
           0.8751405,
           0.8754186,
           0.87542385,
           0.8766963,
           0.8773422,
           0.87478244,
           0.8707848,
           0.87517196,
           0.8157766,
           0.8168999,
           0.8193026,
           0.81667393,
           0.6276812,
           0.6269551,
           0.5576049,
           0.30545592,
           0
          ]
         ]
        },
        {
         "hoverinfo": "skip",
         "line": {
          "color": "#666666"
         },
         "mode": "lines",
         "showlegend": false,
         "type": "scatter",
         "x": [
          0.8785027861595154,
          0.8785027861595154,
          null,
          0.8785027861595154,
          0.40160587430000305,
          null,
          0.8785027861595154,
          0.82781982421875,
          null
         ],
         "xaxis": "x2",
         "y": [
          8.0703125,
          17.4375,
          null,
          8.0703125,
          8.0703125,
          null,
          17.4375,
          17.4375,
          null
         ],
         "yaxis": "y"
        },
        {
         "hoverinfo": "skip",
         "line": {
          "color": "#AEC7E8"
         },
         "mode": "lines",
         "showlegend": false,
         "type": "scatter",
         "x": [
          0.30003079771995544,
          0.30003079771995544,
          null,
          0.30003079771995544,
          0.27551257610321045,
          null,
          0.30003079771995544,
          0,
          null
         ],
         "xaxis": "x2",
         "y": [
          3.5,
          5,
          null,
          3.5,
          3.5,
          null,
          5,
          5,
          null
         ],
         "yaxis": "y"
        },
        {
         "hoverinfo": "skip",
         "line": {
          "color": "#AEC7E8"
         },
         "mode": "lines",
         "showlegend": false,
         "type": "scatter",
         "x": [
          0.3602002263069153,
          0.3602002263069153,
          null,
          0.3602002263069153,
          0.3194444477558136,
          null,
          0.3602002263069153,
          0,
          null
         ],
         "xaxis": "x2",
         "y": [
          9.5,
          11,
          null,
          9.5,
          9.5,
          null,
          11,
          11,
          null
         ],
         "yaxis": "y"
        },
        {
         "hoverinfo": "skip",
         "line": {
          "color": "#AEC7E8"
         },
         "mode": "lines",
         "showlegend": false,
         "type": "scatter",
         "x": [
          0.34828904271125793,
          0.34828904271125793,
          null,
          0.34828904271125793,
          0.3370318114757538,
          null,
          0.34828904271125793,
          0,
          null
         ],
         "xaxis": "x2",
         "y": [
          3.78125,
          8,
          null,
          3.78125,
          3.78125,
          null,
          8,
          8,
          null
         ],
         "yaxis": "y"
        },
        {
         "hoverinfo": "skip",
         "line": {
          "color": "#666666"
         },
         "mode": "lines",
         "showlegend": false,
         "type": "scatter",
         "x": [
          0.82781982421875,
          0.82781982421875,
          null,
          0.82781982421875,
          0.5781402587890625,
          null,
          0.82781982421875,
          0.662848174571991,
          null
         ],
         "xaxis": "x2",
         "y": [
          14,
          20.875,
          null,
          14,
          14,
          null,
          20.875,
          20.875,
          null
         ],
         "yaxis": "y"
        },
        {
         "hoverinfo": "skip",
         "line": {
          "color": "#666666"
         },
         "mode": "lines",
         "showlegend": false,
         "type": "scatter",
         "x": [
          0.5781402587890625,
          0.5781402587890625,
          null,
          0.5781402587890625,
          0.00018406036542728543,
          null,
          0.5781402587890625,
          0.48734089732170105,
          null
         ],
         "xaxis": "x2",
         "y": [
          12.5,
          15.5,
          null,
          12.5,
          12.5,
          null,
          15.5,
          15.5,
          null
         ],
         "yaxis": "y"
        },
        {
         "fill": "toself",
         "hoverinfo": "skip",
         "line": {
          "color": "#AEC7E8"
         },
         "mode": "lines",
         "showlegend": false,
         "type": "scatter",
         "x": [
          0,
          0.0019534884486347437,
          0.0019534884486347437,
          0
         ],
         "xaxis": "x2",
         "y": [
          18,
          18,
          19,
          19
         ],
         "yaxis": "y"
        },
        {
         "fill": "toself",
         "hoverinfo": "skip",
         "line": {
          "color": "#AEC7E8"
         },
         "mode": "lines",
         "showlegend": false,
         "type": "scatter",
         "x": [
          0,
          0.00018406036542728543,
          0.00018406036542728543,
          0
         ],
         "xaxis": "x2",
         "y": [
          12,
          12,
          13,
          13
         ],
         "yaxis": "y"
        },
        {
         "hoverinfo": "skip",
         "line": {
          "color": "#AEC7E8"
         },
         "mode": "lines",
         "showlegend": false,
         "type": "scatter",
         "x": [
          0.31665533781051636,
          0.31665533781051636,
          null,
          0.31665533781051636,
          0,
          null,
          0.31665533781051636,
          0,
          null
         ],
         "xaxis": "x2",
         "y": [
          1,
          2,
          null,
          1,
          1,
          null,
          2,
          2,
          null
         ],
         "yaxis": "y"
        },
        {
         "hoverinfo": "skip",
         "line": {
          "color": "#AEC7E8"
         },
         "mode": "lines",
         "showlegend": false,
         "type": "scatter",
         "x": [
          0.31172552704811096,
          0.31172552704811096,
          null,
          0.31172552704811096,
          0.30003079771995544,
          null,
          0.31172552704811096,
          0,
          null
         ],
         "xaxis": "x2",
         "y": [
          4.25,
          6,
          null,
          4.25,
          4.25,
          null,
          6,
          6,
          null
         ],
         "yaxis": "y"
        },
        {
         "hoverinfo": "skip",
         "line": {
          "color": "#AEC7E8"
         },
         "mode": "lines",
         "showlegend": false,
         "type": "scatter",
         "x": [
          0.27551257610321045,
          0.27551257610321045,
          null,
          0.27551257610321045,
          0,
          null,
          0.27551257610321045,
          0,
          null
         ],
         "xaxis": "x2",
         "y": [
          3,
          4,
          null,
          3,
          3,
          null,
          4,
          4,
          null
         ],
         "yaxis": "y"
        },
        {
         "hoverinfo": "skip",
         "line": {
          "color": "#FFBB78"
         },
         "mode": "lines",
         "showlegend": false,
         "type": "scatter",
         "x": [
          0.48734089732170105,
          0.48734089732170105,
          null,
          0.48734089732170105,
          0.24673137068748474,
          null,
          0.48734089732170105,
          0.28262075781822205,
          null
         ],
         "xaxis": "x2",
         "y": [
          14.5,
          16.5,
          null,
          14.5,
          14.5,
          null,
          16.5,
          16.5,
          null
         ],
         "yaxis": "y"
        },
        {
         "hoverinfo": "skip",
         "line": {
          "color": "#AEC7E8"
         },
         "mode": "lines",
         "showlegend": false,
         "type": "scatter",
         "x": [
          0.5782723426818848,
          0.5782723426818848,
          null,
          0.5782723426818848,
          0.17030352354049683,
          null,
          0.5782723426818848,
          0.30545592308044434,
          null
         ],
         "xaxis": "x2",
         "y": [
          21.5,
          23.5,
          null,
          21.5,
          21.5,
          null,
          23.5,
          23.5,
          null
         ],
         "yaxis": "y"
        },
        {
         "hoverinfo": "skip",
         "line": {
          "color": "#AEC7E8"
         },
         "mode": "lines",
         "showlegend": false,
         "type": "scatter",
         "x": [
          0.3231011629104614,
          0.3231011629104614,
          null,
          0.3231011629104614,
          0.31172552704811096,
          null,
          0.3231011629104614,
          0,
          null
         ],
         "xaxis": "x2",
         "y": [
          5.125,
          7,
          null,
          5.125,
          5.125,
          null,
          7,
          7,
          null
         ],
         "yaxis": "y"
        },
        {
         "fill": "toself",
         "hoverinfo": "skip",
         "line": {
          "color": "#FFBB78"
         },
         "mode": "lines",
         "showlegend": false,
         "type": "scatter",
         "x": [
          0,
          0.24673137068748474,
          0.24673137068748474,
          0
         ],
         "xaxis": "x2",
         "y": [
          14,
          14,
          15,
          15
         ],
         "yaxis": "y"
        },
        {
         "hoverinfo": "skip",
         "line": {
          "color": "#AEC7E8"
         },
         "mode": "lines",
         "showlegend": false,
         "type": "scatter",
         "x": [
          0.3370318114757538,
          0.3370318114757538,
          null,
          0.3370318114757538,
          0.31665533781051636,
          null,
          0.3370318114757538,
          0.3231011629104614,
          null
         ],
         "xaxis": "x2",
         "y": [
          1.5,
          6.0625,
          null,
          1.5,
          1.5,
          null,
          6.0625,
          6.0625,
          null
         ],
         "yaxis": "y"
        },
        {
         "hoverinfo": "skip",
         "line": {
          "color": "#AEC7E8"
         },
         "mode": "lines",
         "showlegend": false,
         "type": "scatter",
         "x": [
          0.662848174571991,
          0.662848174571991,
          null,
          0.662848174571991,
          0.2968417704105377,
          null,
          0.662848174571991,
          0.5782723426818848,
          null
         ],
         "xaxis": "x2",
         "y": [
          19.25,
          22.5,
          null,
          19.25,
          19.25,
          null,
          22.5,
          22.5,
          null
         ],
         "yaxis": "y"
        },
        {
         "hoverinfo": "skip",
         "line": {
          "color": "#AEC7E8"
         },
         "mode": "lines",
         "showlegend": false,
         "type": "scatter",
         "x": [
          0.2968417704105377,
          0.2968417704105377,
          null,
          0.2968417704105377,
          0.0019534884486347437,
          null,
          0.2968417704105377,
          0,
          null
         ],
         "xaxis": "x2",
         "y": [
          18.5,
          20,
          null,
          18.5,
          18.5,
          null,
          20,
          20,
          null
         ],
         "yaxis": "y"
        },
        {
         "fill": "toself",
         "hoverinfo": "skip",
         "line": {
          "color": "#AEC7E8"
         },
         "mode": "lines",
         "showlegend": false,
         "type": "scatter",
         "x": [
          0,
          0.17030352354049683,
          0.17030352354049683,
          0
         ],
         "xaxis": "x2",
         "y": [
          21,
          21,
          22,
          22
         ],
         "yaxis": "y"
        },
        {
         "hoverinfo": "skip",
         "line": {
          "color": "#AEC7E8"
         },
         "mode": "lines",
         "showlegend": false,
         "type": "scatter",
         "x": [
          0.3194444477558136,
          0.3194444477558136,
          null,
          0.3194444477558136,
          0,
          null,
          0.3194444477558136,
          0,
          null
         ],
         "xaxis": "x2",
         "y": [
          9,
          10,
          null,
          9,
          9,
          null,
          10,
          10,
          null
         ],
         "yaxis": "y"
        },
        {
         "hoverinfo": "skip",
         "line": {
          "color": "#AEC7E8"
         },
         "mode": "lines",
         "showlegend": false,
         "type": "scatter",
         "x": [
          0.40160587430000305,
          0.40160587430000305,
          null,
          0.40160587430000305,
          0.34828904271125793,
          null,
          0.40160587430000305,
          0.3602002263069153,
          null
         ],
         "xaxis": "x2",
         "y": [
          5.890625,
          10.25,
          null,
          5.890625,
          5.890625,
          null,
          10.25,
          10.25,
          null
         ],
         "yaxis": "y"
        },
        {
         "hoverinfo": "skip",
         "line": {
          "color": "#AEC7E8"
         },
         "mode": "lines",
         "showlegend": false,
         "type": "scatter",
         "x": [
          0.30545592308044434,
          0.30545592308044434,
          null,
          0.30545592308044434,
          0,
          null,
          0.30545592308044434,
          0,
          null
         ],
         "xaxis": "x2",
         "y": [
          23,
          24,
          null,
          23,
          23,
          null,
          24,
          24,
          null
         ],
         "yaxis": "y"
        },
        {
         "hoverinfo": "skip",
         "line": {
          "color": "#FFBB78"
         },
         "mode": "lines",
         "showlegend": false,
         "type": "scatter",
         "x": [
          0.28262075781822205,
          0.28262075781822205,
          null,
          0.28262075781822205,
          0,
          null,
          0.28262075781822205,
          0,
          null
         ],
         "xaxis": "x2",
         "y": [
          16,
          17,
          null,
          16,
          16,
          null,
          17,
          17,
          null
         ],
         "yaxis": "y"
        },
        {
         "customdata": [
          [
           30,
           2,
           "safensis"
          ],
          [
           47,
           24,
           "(mixed)"
          ],
          [
           32,
           3,
           "pumilus"
          ],
          [
           40,
           3,
           "pumilus"
          ],
          [
           39,
           8,
           "pumilus"
          ],
          [
           46,
           13,
           "(mixed)"
          ],
          [
           43,
           6,
           "(mixed)"
          ],
          [
           25,
           2,
           "pumilus"
          ],
          [
           35,
           2,
           "pumilus"
          ],
          [
           34,
           4,
           "pumilus"
          ],
          [
           29,
           2,
           "pumilus"
          ],
          [
           42,
           4,
           "safensis"
          ],
          [
           26,
           2,
           "pumilus"
          ],
          [
           44,
           4,
           "pumilus"
          ],
          [
           37,
           5,
           "pumilus"
          ],
          [
           28,
           2,
           "safensis"
          ],
          [
           38,
           7,
           "pumilus"
          ],
          [
           45,
           7,
           "pumilus"
          ],
          [
           31,
           3,
           "pumilus"
          ],
          [
           27,
           2,
           "pumilus"
          ],
          [
           36,
           2,
           "pumilus"
          ],
          [
           41,
           11,
           "pumilus"
          ],
          [
           33,
           2,
           "pumilus"
          ]
         ],
         "hovertemplate": "ID: %{customdata[0]}<br>\nHeight: %{x:.3f}<br>\nGenome count: %{customdata[1]}\n<br>\n%{customdata[2]}\n<extra></extra>",
         "marker": {
          "color": [
           "#FFBB78",
           "#666666",
           "#AEC7E8",
           "#AEC7E8",
           "#AEC7E8",
           "#666666",
           "#666666",
           "#AEC7E8",
           "#AEC7E8",
           "#AEC7E8",
           "#AEC7E8",
           "#FFBB78",
           "#AEC7E8",
           "#AEC7E8",
           "#AEC7E8",
           "#FFBB78",
           "#AEC7E8",
           "#AEC7E8",
           "#AEC7E8",
           "#AEC7E8",
           "#AEC7E8",
           "#AEC7E8",
           "#AEC7E8"
          ],
          "size": [
           8,
           8,
           4,
           4,
           8,
           8,
           8,
           8,
           4,
           4,
           8,
           8,
           8,
           8,
           4,
           8,
           4,
           8,
           8,
           8,
           8,
           8,
           8
          ]
         },
         "mode": "markers",
         "showlegend": false,
         "type": "scatter",
         "x": [
          0.28262075781822205,
          0.8785027861595154,
          0.30003079771995544,
          0.3602002263069153,
          0.34828904271125793,
          0.82781982421875,
          0.5781402587890625,
          0.00018406036542728543,
          0.31665533781051636,
          0.31172552704811096,
          0.27551257610321045,
          0.48734089732170105,
          0.0019534884486347437,
          0.5782723426818848,
          0.3231011629104614,
          0.24673137068748474,
          0.3370318114757538,
          0.662848174571991,
          0.2968417704105377,
          0.17030352354049683,
          0.3194444477558136,
          0.40160587430000305,
          0.30545592308044434
         ],
         "xaxis": "x2",
         "y": [
          16.5,
          12.75390625,
          4.25,
          10.25,
          5.890625,
          17.4375,
          14,
          12.5,
          1.5,
          5.125,
          3.5,
          15.5,
          18.5,
          22.5,
          6.0625,
          14.5,
          3.78125,
          20.875,
          19.25,
          21.5,
          9.5,
          8.0703125,
          23.5
         ],
         "yaxis": "y"
        },
        {
         "colorscale": [
          [
           0,
           "#666666"
          ],
          [
           0.1,
           "#AEC7E8"
          ],
          [
           0.2,
           "#FFBB78"
          ],
          [
           0.3,
           "#98DF8A"
          ],
          [
           0.4,
           "#FF9896"
          ],
          [
           0.5,
           "#C5B0D5"
          ],
          [
           0.6,
           "#C49C94"
          ],
          [
           0.7,
           "#F7B6D2"
          ],
          [
           0.8,
           "#C7C7C7"
          ],
          [
           0.9,
           "#DBDB8D"
          ],
          [
           1,
           "#9EDAE5"
          ]
         ],
         "customdata": [
          [
           [
            "Genome 2",
            "pumilus"
           ]
          ],
          [
           [
            "Genome 3",
            "pumilus"
           ]
          ],
          [
           [
            "Genome 9",
            "pumilus"
           ]
          ],
          [
           [
            "Genome 18",
            "pumilus"
           ]
          ],
          [
           [
            "Genome 13",
            "pumilus"
           ]
          ],
          [
           [
            "Genome 17",
            "pumilus"
           ]
          ],
          [
           [
            "Genome 5",
            "pumilus"
           ]
          ],
          [
           [
            "Genome 14",
            "pumilus"
           ]
          ],
          [
           [
            "Genome 4",
            "pumilus"
           ]
          ],
          [
           [
            "Genome 19",
            "pumilus"
           ]
          ],
          [
           [
            "Genome 8",
            "pumilus"
           ]
          ],
          [
           [
            "ID 25",
            "pumilus"
           ]
          ],
          [
           [
            "ID 28",
            "safensis"
           ]
          ],
          [
           [
            "Genome 21",
            "safensis"
           ]
          ],
          [
           [
            "Genome 23",
            "safensis"
           ]
          ],
          [
           [
            "ID 26",
            "pumilus"
           ]
          ],
          [
           [
            "Genome 16",
            "pumilus"
           ]
          ],
          [
           [
            "ID 27",
            "pumilus"
           ]
          ],
          [
           [
            "Genome 1",
            "pumilus"
           ]
          ],
          [
           [
            "Genome 12",
            "pumilus"
           ]
          ]
         ],
         "hovertemplate": "%{customdata[0]} <br>\n%{customdata[1]}\n<extra></extra>\n",
         "showscale": false,
         "type": "heatmap",
         "xaxis": "x3",
         "y": [
          0.5,
          1.5,
          2.5,
          3.5,
          4.5,
          5.5,
          6.5,
          7.5,
          8.5,
          9.5,
          10.5,
          11.5,
          13.5,
          15.5,
          16.5,
          17.5,
          19.5,
          20.5,
          22.5,
          23.5,
          24.5
         ],
         "ygap": 1,
         "z": [
          [
           1
          ],
          [
           1
          ],
          [
           1
          ],
          [
           1
          ],
          [
           1
          ],
          [
           1
          ],
          [
           1
          ],
          [
           1
          ],
          [
           1
          ],
          [
           1
          ],
          [
           1
          ],
          [
           1
          ],
          [
           2
          ],
          [
           2
          ],
          [
           2
          ],
          [
           1
          ],
          [
           1
          ],
          [
           1
          ],
          [
           1
          ],
          [
           1
          ]
         ],
         "zmax": 10,
         "zmin": 0
        }
       ],
       "frames": [],
       "layout": {
        "height": 500,
        "hovermode": "closest",
        "margin": {
         "b": 50,
         "l": 50,
         "r": 50,
         "t": 60
        },
        "showlegend": false,
        "width": 1000,
        "xaxis": {
         "autorange": true,
         "constrain": "domain",
         "domain": [
          0.5460757087590367,
          0.9754553917194322
         ],
         "range": [
          0.5,
          24.5
         ],
         "scaleanchor": "y",
         "type": "linear",
         "visible": false
        },
        "xaxis2": {
         "autorange": true,
         "domain": [
          0,
          0.47846889952153115
         ],
         "range": [
          0.9368206983298745,
          0
         ],
         "rangemode": "nonnegative",
         "type": "linear"
        },
        "xaxis3": {
         "autorange": true,
         "domain": [
          0.48803827751196177,
          0.5119617224880384
         ],
         "fixedrange": true,
         "range": [
          -0.5,
          0.5
         ],
         "visible": false
        },
        "yaxis": {
         "autorange": true,
         "domain": [
          0,
          1
         ],
         "range": [
          -0.2777777777777777,
          25.27777777777778
         ],
         "scaleanchor": "x",
         "type": "linear",
         "visible": false
        }
       }
      },
      "application/vnd.webio.node+json": {
       "children": [
        {
         "children": [],
         "instanceArgs": {
          "namespace": "html",
          "tag": "div"
         },
         "nodeType": "DOM",
         "props": {
          "id": "plot-b3a3fd87-05c7-4f06-b6bf-c043df1407d2"
         },
         "type": "node"
        }
       ],
       "instanceArgs": {
        "handlers": {
         "__get_gd_contents": [
          "(function (prop){prop==\"data\" ? (WebIO.setval({\"name\":\"__gd_contents\",\"scope\":\"18185825420367847812\",\"id\":\"2427930279266977284\",\"type\":\"observable\"},this.plotElem.data)) : undefined; return prop==\"layout\" ? (WebIO.setval({\"name\":\"__gd_contents\",\"scope\":\"18185825420367847812\",\"id\":\"2427930279266977284\",\"type\":\"observable\"},this.plotElem.layout)) : undefined})"
         ],
         "_commands": [
          "(function (args){var fn=args.shift(); var elem=this.plotElem; var Plotly=this.Plotly; args.unshift(elem); return Plotly[fn].apply(this,args)})"
         ],
         "_downloadImage": [
          "(function (options){return this.Plotly.downloadImage(this.plotElem,options)})"
         ],
         "_toImage": [
          "(function (options){return this.Plotly.toImage(this.plotElem,options).then((function (data){return WebIO.setval({\"name\":\"image\",\"scope\":\"18185825420367847812\",\"id\":\"8812182755079249505\",\"type\":\"observable\"},data)}))})"
         ]
        },
        "id": "18185825420367847812",
        "imports": {
         "data": [
          {
           "name": "Plotly",
           "type": "js",
           "url": "/assetserver/e6903599031aaef8675931dfcd7df98a1aeffbfc-plotly-latest.min.js"
          },
          {
           "name": null,
           "type": "js",
           "url": "/assetserver/74a5dea81f21b0b802ef1ee92f1c8a504eac1a0c-plotly_webio.bundle.js"
          }
         ],
         "type": "async_block"
        },
        "mount_callbacks": [
         "function () {\n    var handler = ((function (Plotly,PlotlyWebIO){PlotlyWebIO.init(WebIO); var gd=this.dom.querySelector(\"#plot-b3a3fd87-05c7-4f06-b6bf-c043df1407d2\"); this.plotElem=gd; this.Plotly=Plotly; (window.Blink!==undefined) ? (gd.style.width=\"100%\", gd.style.height=\"100vh\", gd.style.marginLeft=\"0%\", gd.style.marginTop=\"0vh\") : undefined; window.onresize=(function (){return Plotly.Plots.resize(gd)}); Plotly.newPlot(gd,[{\"y\":[0.5,1.5,2.5,3.5,4.5,5.5,6.5,7.5,8.5,9.5,10.5,11.5,13.5,15.5,16.5,17.5,19.5,20.5,22.5,23.5,24.5],\"type\":\"heatmap\",\"colorscale\":[[0.0,\"#000004\"],[0.00392156862745098,\"#010005\"],[0.00784313725490196,\"#010106\"],[0.011764705882352941,\"#010108\"],[0.01568627450980392,\"#020109\"],[0.0196078431372549,\"#02020B\"],[0.023529411764705882,\"#02020D\"],[0.027450980392156862,\"#03030F\"],[0.03137254901960784,\"#030312\"],[0.03529411764705882,\"#040414\"],[0.0392156862745098,\"#050416\"],[0.043137254901960784,\"#060518\"],[0.047058823529411764,\"#06051A\"],[0.050980392156862744,\"#07061C\"],[0.054901960784313725,\"#08071E\"],[0.058823529411764705,\"#090720\"],[0.06274509803921569,\"#0A0822\"],[0.06666666666666667,\"#0B0924\"],[0.07058823529411765,\"#0C0926\"],[0.07450980392156863,\"#0D0A29\"],[0.0784313725490196,\"#0E0B2B\"],[0.08235294117647059,\"#100B2D\"],[0.08627450980392157,\"#110C2F\"],[0.09019607843137255,\"#120D31\"],[0.09411764705882353,\"#130D34\"],[0.09803921568627451,\"#140E36\"],[0.10196078431372549,\"#150E38\"],[0.10588235294117647,\"#160F3B\"],[0.10980392156862745,\"#180F3D\"],[0.11372549019607843,\"#19103F\"],[0.11764705882352941,\"#1A1042\"],[0.12156862745098039,\"#1C1044\"],[0.12549019607843137,\"#1D1147\"],[0.12941176470588237,\"#1E1149\"],[0.13333333333333333,\"#20114B\"],[0.13725490196078433,\"#21114E\"],[0.1411764705882353,\"#221150\"],[0.1450980392156863,\"#241253\"],[0.14901960784313725,\"#251255\"],[0.15294117647058825,\"#271258\"],[0.1568627450980392,\"#29115A\"],[0.1607843137254902,\"#2A115C\"],[0.16470588235294117,\"#2C115F\"],[0.16862745098039217,\"#2D1161\"],[0.17254901960784313,\"#2F1163\"],[0.17647058823529413,\"#311165\"],[0.1803921568627451,\"#331067\"],[0.1843137254901961,\"#341069\"],[0.18823529411764706,\"#36106B\"],[0.19215686274509805,\"#38106C\"],[0.19607843137254902,\"#390F6E\"],[0.2,\"#3B0F70\"],[0.20392156862745098,\"#3D0F71\"],[0.20784313725490197,\"#3F0F72\"],[0.21176470588235294,\"#400F74\"],[0.21568627450980393,\"#420F75\"],[0.2196078431372549,\"#440F76\"],[0.2235294117647059,\"#451077\"],[0.22745098039215686,\"#471078\"],[0.23137254901960785,\"#491078\"],[0.23529411764705882,\"#4A1079\"],[0.23921568627450981,\"#4C117A\"],[0.24313725490196078,\"#4E117B\"],[0.24705882352941178,\"#4F127B\"],[0.25098039215686274,\"#51127C\"],[0.2549019607843137,\"#52137C\"],[0.25882352941176473,\"#54137D\"],[0.2627450980392157,\"#56147D\"],[0.26666666666666666,\"#57157E\"],[0.27058823529411763,\"#59157E\"],[0.27450980392156865,\"#5A167E\"],[0.2784313725490196,\"#5C167F\"],[0.2823529411764706,\"#5D177F\"],[0.28627450980392155,\"#5F187F\"],[0.2901960784313726,\"#601880\"],[0.29411764705882354,\"#621980\"],[0.2980392156862745,\"#641A80\"],[0.30196078431372547,\"#651A80\"],[0.3058823529411765,\"#671B80\"],[0.30980392156862746,\"#681C81\"],[0.3137254901960784,\"#6A1C81\"],[0.3176470588235294,\"#6B1D81\"],[0.3215686274509804,\"#6D1D81\"],[0.3254901960784314,\"#6E1E81\"],[0.32941176470588235,\"#701F81\"],[0.3333333333333333,\"#721F81\"],[0.33725490196078434,\"#732081\"],[0.3411764705882353,\"#752181\"],[0.34509803921568627,\"#762181\"],[0.34901960784313724,\"#782281\"],[0.35294117647058826,\"#792282\"],[0.3568627450980392,\"#7B2382\"],[0.3607843137254902,\"#7C2382\"],[0.36470588235294116,\"#7E2482\"],[0.3686274509803922,\"#802582\"],[0.37254901960784315,\"#812581\"],[0.3764705882352941,\"#832681\"],[0.3803921568627451,\"#842681\"],[0.3843137254901961,\"#862781\"],[0.38823529411764707,\"#882781\"],[0.39215686274509803,\"#892881\"],[0.396078431372549,\"#8B2981\"],[0.4,\"#8C2981\"],[0.403921568627451,\"#8E2A81\"],[0.40784313725490196,\"#902A81\"],[0.4117647058823529,\"#912B81\"],[0.41568627450980394,\"#932B80\"],[0.4196078431372549,\"#942C80\"],[0.4235294117647059,\"#962C80\"],[0.42745098039215684,\"#982D80\"],[0.43137254901960786,\"#992D80\"],[0.43529411764705883,\"#9B2E7F\"],[0.4392156862745098,\"#9C2E7F\"],[0.44313725490196076,\"#9E2F7F\"],[0.4470588235294118,\"#A02F7F\"],[0.45098039215686275,\"#A1307E\"],[0.4549019607843137,\"#A3307E\"],[0.4588235294117647,\"#A5317E\"],[0.4627450980392157,\"#A6317D\"],[0.4666666666666667,\"#A8327D\"],[0.47058823529411764,\"#AA337D\"],[0.4745098039215686,\"#AB337C\"],[0.47843137254901963,\"#AD347C\"],[0.4823529411764706,\"#AE347B\"],[0.48627450980392156,\"#B0357B\"],[0.49019607843137253,\"#B2357B\"],[0.49411764705882355,\"#B3367A\"],[0.4980392156862745,\"#B5367A\"],[0.5019607843137255,\"#B73779\"],[0.5058823529411764,\"#B83779\"],[0.5098039215686274,\"#BA3878\"],[0.5137254901960784,\"#BC3978\"],[0.5176470588235295,\"#BD3977\"],[0.5215686274509804,\"#BF3A77\"],[0.5254901960784314,\"#C03A76\"],[0.5294117647058824,\"#C23B75\"],[0.5333333333333333,\"#C43C75\"],[0.5372549019607843,\"#C53C74\"],[0.5411764705882353,\"#C73D73\"],[0.5450980392156862,\"#C83E73\"],[0.5490196078431373,\"#CA3E72\"],[0.5529411764705883,\"#CC3F71\"],[0.5568627450980392,\"#CD4071\"],[0.5607843137254902,\"#CF4070\"],[0.5647058823529412,\"#D0416F\"],[0.5686274509803921,\"#D2426F\"],[0.5725490196078431,\"#D3436E\"],[0.5764705882352941,\"#D5446D\"],[0.5803921568627451,\"#D6456C\"],[0.5843137254901961,\"#D8456C\"],[0.5882352941176471,\"#D9466B\"],[0.592156862745098,\"#DB476A\"],[0.596078431372549,\"#DC4869\"],[0.6,\"#DE4968\"],[0.6039215686274509,\"#DF4A68\"],[0.6078431372549019,\"#E04C67\"],[0.611764705882353,\"#E24D66\"],[0.615686274509804,\"#E34E65\"],[0.6196078431372549,\"#E44F64\"],[0.6235294117647059,\"#E55064\"],[0.6274509803921569,\"#E75263\"],[0.6313725490196078,\"#E85362\"],[0.6352941176470588,\"#E95462\"],[0.6392156862745098,\"#EA5661\"],[0.6431372549019608,\"#EB5760\"],[0.6470588235294118,\"#EC5860\"],[0.6509803921568628,\"#ED5A5F\"],[0.6549019607843137,\"#EE5B5E\"],[0.6588235294117647,\"#EF5D5E\"],[0.6627450980392157,\"#F05F5E\"],[0.6666666666666666,\"#F1605D\"],[0.6705882352941176,\"#F2625D\"],[0.6745098039215687,\"#F2645C\"],[0.6784313725490196,\"#F3655C\"],[0.6823529411764706,\"#F4675C\"],[0.6862745098039216,\"#F4695C\"],[0.6901960784313725,\"#F56B5C\"],[0.6941176470588235,\"#F66C5C\"],[0.6980392156862745,\"#F66E5C\"],[0.7019607843137254,\"#F7705C\"],[0.7058823529411765,\"#F7725C\"],[0.7098039215686275,\"#F8745C\"],[0.7137254901960784,\"#F8765C\"],[0.7176470588235294,\"#F9785D\"],[0.7215686274509804,\"#F9795D\"],[0.7254901960784313,\"#F97B5D\"],[0.7294117647058823,\"#FA7D5E\"],[0.7333333333333333,\"#FA7F5E\"],[0.7372549019607844,\"#FA815F\"],[0.7411764705882353,\"#FB835F\"],[0.7450980392156863,\"#FB8560\"],[0.7490196078431373,\"#FB8761\"],[0.7529411764705882,\"#FC8961\"],[0.7568627450980392,\"#FC8A62\"],[0.7607843137254902,\"#FC8C63\"],[0.7647058823529411,\"#FC8E64\"],[0.7686274509803922,\"#FC9065\"],[0.7725490196078432,\"#FD9266\"],[0.7764705882352941,\"#FD9467\"],[0.7803921568627451,\"#FD9668\"],[0.7843137254901961,\"#FD9869\"],[0.788235294117647,\"#FD9A6A\"],[0.792156862745098,\"#FD9B6B\"],[0.796078431372549,\"#FE9D6C\"],[0.8,\"#FE9F6D\"],[0.803921568627451,\"#FEA16E\"],[0.807843137254902,\"#FEA36F\"],[0.8117647058823529,\"#FEA571\"],[0.8156862745098039,\"#FEA772\"],[0.8196078431372549,\"#FEA973\"],[0.8235294117647058,\"#FEAA74\"],[0.8274509803921568,\"#FEAC76\"],[0.8313725490196079,\"#FEAE77\"],[0.8352941176470589,\"#FEB078\"],[0.8392156862745098,\"#FEB27A\"],[0.8431372549019608,\"#FEB47B\"],[0.8470588235294118,\"#FEB67C\"],[0.8509803921568627,\"#FEB77E\"],[0.8549019607843137,\"#FEB97F\"],[0.8588235294117647,\"#FEBB81\"],[0.8627450980392157,\"#FEBD82\"],[0.8666666666666667,\"#FEBF84\"],[0.8705882352941177,\"#FEC185\"],[0.8745098039215686,\"#FEC287\"],[0.8784313725490196,\"#FEC488\"],[0.8823529411764706,\"#FEC68A\"],[0.8862745098039215,\"#FEC88C\"],[0.8901960784313725,\"#FECA8D\"],[0.8941176470588236,\"#FECC8F\"],[0.8980392156862745,\"#FECD90\"],[0.9019607843137255,\"#FECF92\"],[0.9058823529411765,\"#FED194\"],[0.9098039215686274,\"#FED395\"],[0.9137254901960784,\"#FED597\"],[0.9176470588235294,\"#FED799\"],[0.9215686274509803,\"#FED89A\"],[0.9254901960784314,\"#FDDA9C\"],[0.9294117647058824,\"#FDDC9E\"],[0.9333333333333333,\"#FDDEA0\"],[0.9372549019607843,\"#FDE0A1\"],[0.9411764705882353,\"#FDE2A3\"],[0.9450980392156862,\"#FDE3A5\"],[0.9490196078431372,\"#FDE5A7\"],[0.9529411764705882,\"#FDE7A9\"],[0.9568627450980393,\"#FDE9AA\"],[0.9607843137254902,\"#FDEBAC\"],[0.9647058823529412,\"#FCECAE\"],[0.9686274509803922,\"#FCEEB0\"],[0.9725490196078431,\"#FCF0B2\"],[0.9764705882352941,\"#FCF2B4\"],[0.9803921568627451,\"#FCF4B6\"],[0.984313725490196,\"#FCF6B8\"],[0.9882352941176471,\"#FCF7B9\"],[0.9921568627450981,\"#FCF9BB\"],[0.996078431372549,\"#FCFBBD\"],[1.0,\"#FCFDBF\"]],\"z\":[[0.0,0.31665534,0.3220607,0.3275201,0.31810904,0.32837194,0.3370318,0.33872283,0.3916727,0.4006672,0.374171,0.8744048,0.8747758,0.874257,0.8739854,0.87119097,0.8711713,0.87463766,0.87692076,0.87587476],[0.31665534,0.0,0.29679877,0.31557098,0.3194592,0.3126689,0.32485792,0.33207127,0.38499457,0.39390278,0.3673112,0.87461084,0.8744635,0.87561226,0.8745393,0.8691729,0.8698858,0.87146634,0.8752062,0.87349457],[0.3220607,0.29679877,0.0,0.27551258,0.2976658,0.30132297,0.3192848,0.3362497,0.37702408,0.38833356,0.36971113,0.87368315,0.87539303,0.87658226,0.87551206,0.87110746,0.87178177,0.8739778,0.87480605,0.8753826],[0.3275201,0.31557098,0.27551258,0.0,0.3000308,0.31172553,0.32310116,0.3457592,0.38114664,0.38902387,0.35150307,0.87579864,0.87605506,0.8769734,0.87578815,0.8696641,0.8691565,0.87281704,0.8757512,0.8751405],[0.31810904,0.3194592,0.2976658,0.3000308,0.0,0.30949774,0.30719852,0.33926302,0.3790008,0.386298,0.35845697,0.87410927,0.87576133,0.875587,0.87421024,0.8706636,0.8714899,0.87382627,0.87625587,0.8754186],[0.32837194,0.3126689,0.30132297,0.31172553,0.30949774,0.0,0.32025793,0.33163574,0.36690432,0.37708533,0.35876256,0.87415695,0.8758884,0.8753005,0.8745544,0.8699187,0.87049943,0.8740456,0.87621385,0.87542385],[0.3370318,0.32485792,0.3192848,0.32310116,0.30719852,0.32025793,0.0,0.34828904,0.36425638,0.3750808,0.36696312,0.87569386,0.8762449,0.8746876,0.8747636,0.87175536,0.87202,0.87614423,0.8785028,0.8766963],[0.33872283,0.33207127,0.3362497,0.3457592,0.33926302,0.33163574,0.34828904,0.0,0.39489165,0.40160587,0.37039456,0.8752032,0.87602884,0.8776245,0.87645024,0.87196434,0.872112,0.87542886,0.87701255,0.8773422],[0.3916727,0.38499457,0.37702408,0.38114664,0.3790008,0.36690432,0.36425638,0.39489165,0.0,0.31944445,0.33723882,0.8757296,0.87491095,0.8758133,0.8752569,0.86954945,0.8697732,0.8719375,0.875345,0.87478244],[0.4006672,0.39390278,0.38833356,0.38902387,0.386298,0.37708533,0.3750808,0.40160587,0.31944445,0.0,0.36020023,0.8770099,0.87512535,0.87042767,0.8718131,0.8662026,0.8654081,0.86913,0.8715874,0.8707848],[0.374171,0.3673112,0.36971113,0.35150307,0.35845697,0.35876256,0.36696312,0.37039456,0.33723882,0.36020023,0.0,0.87422156,0.8752406,0.8766565,0.877081,0.8715389,0.8719207,0.8759368,0.8757804,0.87517196],[0.8744048,0.87461084,0.87368315,0.87579864,0.87410927,0.87415695,0.87569386,0.8752032,0.8757296,0.8770099,0.87422156,0.00018406037,0.5766835,0.57140976,0.57532716,0.80022216,0.8020271,0.82492614,0.81584287,0.8157766],[0.8747758,0.8744635,0.87539303,0.87605506,0.87576133,0.8758884,0.8762449,0.87602884,0.87491095,0.87512535,0.8752406,0.5766835,0.24673137,0.47779104,0.47473395,0.79520965,0.7991266,0.8230637,0.8205006,0.8168999],[0.874257,0.87561226,0.87658226,0.8769734,0.875587,0.8753005,0.8746876,0.8776245,0.8758133,0.87042767,0.8766565,0.57140976,0.47779104,0.0,0.28262076,0.7976608,0.7996907,0.82555205,0.822811,0.8193026],[0.8739854,0.8745393,0.87551206,0.87578815,0.87421024,0.8745544,0.8747636,0.87645024,0.8752569,0.8718131,0.877081,0.57532716,0.47473395,0.28262076,0.0,0.7945259,0.7999225,0.82202655,0.82069737,0.81667393],[0.87119097,0.8691729,0.87110746,0.8696641,0.8706636,0.8699187,0.87175536,0.87196434,0.86954945,0.8662026,0.8715389,0.80022216,0.79520965,0.7976608,0.7945259,0.0019534884,0.2962963,0.6532483,0.6336266,0.6276812],[0.8711713,0.8698858,0.87178177,0.8691565,0.8714899,0.87049943,0.87202,0.872112,0.8697732,0.8654081,0.8719207,0.8020271,0.7991266,0.7996907,0.7999225,0.2962963,0.0,0.6570149,0.6332184,0.6269551],[0.87463766,0.87146634,0.8739778,0.87281704,0.87382627,0.8740456,0.87614423,0.87542886,0.8719375,0.86913,0.8759368,0.82492614,0.8230637,0.82555205,0.82202655,0.6532483,0.6570149,0.17030352,0.5766558,0.5576049],[0.87692076,0.8752062,0.87480605,0.8757512,0.87625587,0.87621385,0.8785028,0.87701255,0.875345,0.8715874,0.8757804,0.81584287,0.8205006,0.822811,0.82069737,0.6336266,0.6332184,0.5766558,0.0,0.30545592],[0.87587476,0.87349457,0.8753826,0.8751405,0.8754186,0.87542385,0.8766963,0.8773422,0.87478244,0.8707848,0.87517196,0.8157766,0.8168999,0.8193026,0.81667393,0.6276812,0.6269551,0.5576049,0.30545592,0.0]],\"x\":[0.5,1.5,2.5,3.5,4.5,5.5,6.5,7.5,8.5,9.5,10.5,11.5,13.5,15.5,16.5,17.5,19.5,20.5,22.5,23.5,24.5]},{\"showlegend\":false,\"mode\":\"lines\",\"xaxis\":\"x2\",\"line\":{\"color\":\"#666666\"},\"y\":[8.0703125,17.4375,null,8.0703125,8.0703125,null,17.4375,17.4375,null],\"type\":\"scatter\",\"hoverinfo\":\"skip\",\"yaxis\":\"y\",\"x\":[0.8785027861595154,0.8785027861595154,null,0.8785027861595154,0.40160587430000305,null,0.8785027861595154,0.82781982421875,null]},{\"showlegend\":false,\"mode\":\"lines\",\"xaxis\":\"x2\",\"line\":{\"color\":\"#AEC7E8\"},\"y\":[3.5,5.0,null,3.5,3.5,null,5.0,5.0,null],\"type\":\"scatter\",\"hoverinfo\":\"skip\",\"yaxis\":\"y\",\"x\":[0.30003079771995544,0.30003079771995544,null,0.30003079771995544,0.27551257610321045,null,0.30003079771995544,0.0,null]},{\"showlegend\":false,\"mode\":\"lines\",\"xaxis\":\"x2\",\"line\":{\"color\":\"#AEC7E8\"},\"y\":[9.5,11.0,null,9.5,9.5,null,11.0,11.0,null],\"type\":\"scatter\",\"hoverinfo\":\"skip\",\"yaxis\":\"y\",\"x\":[0.3602002263069153,0.3602002263069153,null,0.3602002263069153,0.3194444477558136,null,0.3602002263069153,0.0,null]},{\"showlegend\":false,\"mode\":\"lines\",\"xaxis\":\"x2\",\"line\":{\"color\":\"#AEC7E8\"},\"y\":[3.78125,8.0,null,3.78125,3.78125,null,8.0,8.0,null],\"type\":\"scatter\",\"hoverinfo\":\"skip\",\"yaxis\":\"y\",\"x\":[0.34828904271125793,0.34828904271125793,null,0.34828904271125793,0.3370318114757538,null,0.34828904271125793,0.0,null]},{\"showlegend\":false,\"mode\":\"lines\",\"xaxis\":\"x2\",\"line\":{\"color\":\"#666666\"},\"y\":[14.0,20.875,null,14.0,14.0,null,20.875,20.875,null],\"type\":\"scatter\",\"hoverinfo\":\"skip\",\"yaxis\":\"y\",\"x\":[0.82781982421875,0.82781982421875,null,0.82781982421875,0.5781402587890625,null,0.82781982421875,0.662848174571991,null]},{\"showlegend\":false,\"mode\":\"lines\",\"xaxis\":\"x2\",\"line\":{\"color\":\"#666666\"},\"y\":[12.5,15.5,null,12.5,12.5,null,15.5,15.5,null],\"type\":\"scatter\",\"hoverinfo\":\"skip\",\"yaxis\":\"y\",\"x\":[0.5781402587890625,0.5781402587890625,null,0.5781402587890625,0.00018406036542728543,null,0.5781402587890625,0.48734089732170105,null]},{\"showlegend\":false,\"mode\":\"lines\",\"xaxis\":\"x2\",\"line\":{\"color\":\"#AEC7E8\"},\"y\":[18.0,18.0,19.0,19.0],\"type\":\"scatter\",\"fill\":\"toself\",\"hoverinfo\":\"skip\",\"yaxis\":\"y\",\"x\":[0.0,0.0019534884486347437,0.0019534884486347437,0.0]},{\"showlegend\":false,\"mode\":\"lines\",\"xaxis\":\"x2\",\"line\":{\"color\":\"#AEC7E8\"},\"y\":[12.0,12.0,13.0,13.0],\"type\":\"scatter\",\"fill\":\"toself\",\"hoverinfo\":\"skip\",\"yaxis\":\"y\",\"x\":[0.0,0.00018406036542728543,0.00018406036542728543,0.0]},{\"showlegend\":false,\"mode\":\"lines\",\"xaxis\":\"x2\",\"line\":{\"color\":\"#AEC7E8\"},\"y\":[1.0,2.0,null,1.0,1.0,null,2.0,2.0,null],\"type\":\"scatter\",\"hoverinfo\":\"skip\",\"yaxis\":\"y\",\"x\":[0.31665533781051636,0.31665533781051636,null,0.31665533781051636,0.0,null,0.31665533781051636,0.0,null]},{\"showlegend\":false,\"mode\":\"lines\",\"xaxis\":\"x2\",\"line\":{\"color\":\"#AEC7E8\"},\"y\":[4.25,6.0,null,4.25,4.25,null,6.0,6.0,null],\"type\":\"scatter\",\"hoverinfo\":\"skip\",\"yaxis\":\"y\",\"x\":[0.31172552704811096,0.31172552704811096,null,0.31172552704811096,0.30003079771995544,null,0.31172552704811096,0.0,null]},{\"showlegend\":false,\"mode\":\"lines\",\"xaxis\":\"x2\",\"line\":{\"color\":\"#AEC7E8\"},\"y\":[3.0,4.0,null,3.0,3.0,null,4.0,4.0,null],\"type\":\"scatter\",\"hoverinfo\":\"skip\",\"yaxis\":\"y\",\"x\":[0.27551257610321045,0.27551257610321045,null,0.27551257610321045,0.0,null,0.27551257610321045,0.0,null]},{\"showlegend\":false,\"mode\":\"lines\",\"xaxis\":\"x2\",\"line\":{\"color\":\"#FFBB78\"},\"y\":[14.5,16.5,null,14.5,14.5,null,16.5,16.5,null],\"type\":\"scatter\",\"hoverinfo\":\"skip\",\"yaxis\":\"y\",\"x\":[0.48734089732170105,0.48734089732170105,null,0.48734089732170105,0.24673137068748474,null,0.48734089732170105,0.28262075781822205,null]},{\"showlegend\":false,\"mode\":\"lines\",\"xaxis\":\"x2\",\"line\":{\"color\":\"#AEC7E8\"},\"y\":[21.5,23.5,null,21.5,21.5,null,23.5,23.5,null],\"type\":\"scatter\",\"hoverinfo\":\"skip\",\"yaxis\":\"y\",\"x\":[0.5782723426818848,0.5782723426818848,null,0.5782723426818848,0.17030352354049683,null,0.5782723426818848,0.30545592308044434,null]},{\"showlegend\":false,\"mode\":\"lines\",\"xaxis\":\"x2\",\"line\":{\"color\":\"#AEC7E8\"},\"y\":[5.125,7.0,null,5.125,5.125,null,7.0,7.0,null],\"type\":\"scatter\",\"hoverinfo\":\"skip\",\"yaxis\":\"y\",\"x\":[0.3231011629104614,0.3231011629104614,null,0.3231011629104614,0.31172552704811096,null,0.3231011629104614,0.0,null]},{\"showlegend\":false,\"mode\":\"lines\",\"xaxis\":\"x2\",\"line\":{\"color\":\"#FFBB78\"},\"y\":[14.0,14.0,15.0,15.0],\"type\":\"scatter\",\"fill\":\"toself\",\"hoverinfo\":\"skip\",\"yaxis\":\"y\",\"x\":[0.0,0.24673137068748474,0.24673137068748474,0.0]},{\"showlegend\":false,\"mode\":\"lines\",\"xaxis\":\"x2\",\"line\":{\"color\":\"#AEC7E8\"},\"y\":[1.5,6.0625,null,1.5,1.5,null,6.0625,6.0625,null],\"type\":\"scatter\",\"hoverinfo\":\"skip\",\"yaxis\":\"y\",\"x\":[0.3370318114757538,0.3370318114757538,null,0.3370318114757538,0.31665533781051636,null,0.3370318114757538,0.3231011629104614,null]},{\"showlegend\":false,\"mode\":\"lines\",\"xaxis\":\"x2\",\"line\":{\"color\":\"#AEC7E8\"},\"y\":[19.25,22.5,null,19.25,19.25,null,22.5,22.5,null],\"type\":\"scatter\",\"hoverinfo\":\"skip\",\"yaxis\":\"y\",\"x\":[0.662848174571991,0.662848174571991,null,0.662848174571991,0.2968417704105377,null,0.662848174571991,0.5782723426818848,null]},{\"showlegend\":false,\"mode\":\"lines\",\"xaxis\":\"x2\",\"line\":{\"color\":\"#AEC7E8\"},\"y\":[18.5,20.0,null,18.5,18.5,null,20.0,20.0,null],\"type\":\"scatter\",\"hoverinfo\":\"skip\",\"yaxis\":\"y\",\"x\":[0.2968417704105377,0.2968417704105377,null,0.2968417704105377,0.0019534884486347437,null,0.2968417704105377,0.0,null]},{\"showlegend\":false,\"mode\":\"lines\",\"xaxis\":\"x2\",\"line\":{\"color\":\"#AEC7E8\"},\"y\":[21.0,21.0,22.0,22.0],\"type\":\"scatter\",\"fill\":\"toself\",\"hoverinfo\":\"skip\",\"yaxis\":\"y\",\"x\":[0.0,0.17030352354049683,0.17030352354049683,0.0]},{\"showlegend\":false,\"mode\":\"lines\",\"xaxis\":\"x2\",\"line\":{\"color\":\"#AEC7E8\"},\"y\":[9.0,10.0,null,9.0,9.0,null,10.0,10.0,null],\"type\":\"scatter\",\"hoverinfo\":\"skip\",\"yaxis\":\"y\",\"x\":[0.3194444477558136,0.3194444477558136,null,0.3194444477558136,0.0,null,0.3194444477558136,0.0,null]},{\"showlegend\":false,\"mode\":\"lines\",\"xaxis\":\"x2\",\"line\":{\"color\":\"#AEC7E8\"},\"y\":[5.890625,10.25,null,5.890625,5.890625,null,10.25,10.25,null],\"type\":\"scatter\",\"hoverinfo\":\"skip\",\"yaxis\":\"y\",\"x\":[0.40160587430000305,0.40160587430000305,null,0.40160587430000305,0.34828904271125793,null,0.40160587430000305,0.3602002263069153,null]},{\"showlegend\":false,\"mode\":\"lines\",\"xaxis\":\"x2\",\"line\":{\"color\":\"#AEC7E8\"},\"y\":[23.0,24.0,null,23.0,23.0,null,24.0,24.0,null],\"type\":\"scatter\",\"hoverinfo\":\"skip\",\"yaxis\":\"y\",\"x\":[0.30545592308044434,0.30545592308044434,null,0.30545592308044434,0.0,null,0.30545592308044434,0.0,null]},{\"showlegend\":false,\"mode\":\"lines\",\"xaxis\":\"x2\",\"line\":{\"color\":\"#FFBB78\"},\"y\":[16.0,17.0,null,16.0,16.0,null,17.0,17.0,null],\"type\":\"scatter\",\"hoverinfo\":\"skip\",\"yaxis\":\"y\",\"x\":[0.28262075781822205,0.28262075781822205,null,0.28262075781822205,0.0,null,0.28262075781822205,0.0,null]},{\"showlegend\":false,\"mode\":\"markers\",\"xaxis\":\"x2\",\"marker\":{\"color\":[\"#FFBB78\",\"#666666\",\"#AEC7E8\",\"#AEC7E8\",\"#AEC7E8\",\"#666666\",\"#666666\",\"#AEC7E8\",\"#AEC7E8\",\"#AEC7E8\",\"#AEC7E8\",\"#FFBB78\",\"#AEC7E8\",\"#AEC7E8\",\"#AEC7E8\",\"#FFBB78\",\"#AEC7E8\",\"#AEC7E8\",\"#AEC7E8\",\"#AEC7E8\",\"#AEC7E8\",\"#AEC7E8\",\"#AEC7E8\"],\"size\":[8,8,4,4,8,8,8,8,4,4,8,8,8,8,4,8,4,8,8,8,8,8,8]},\"y\":[16.5,12.75390625,4.25,10.25,5.890625,17.4375,14.0,12.5,1.5,5.125,3.5,15.5,18.5,22.5,6.0625,14.5,3.78125,20.875,19.25,21.5,9.5,8.0703125,23.5],\"type\":\"scatter\",\"customdata\":[[30,2,\"safensis\"],[47,24,\"(mixed)\"],[32,3,\"pumilus\"],[40,3,\"pumilus\"],[39,8,\"pumilus\"],[46,13,\"(mixed)\"],[43,6,\"(mixed)\"],[25,2,\"pumilus\"],[35,2,\"pumilus\"],[34,4,\"pumilus\"],[29,2,\"pumilus\"],[42,4,\"safensis\"],[26,2,\"pumilus\"],[44,4,\"pumilus\"],[37,5,\"pumilus\"],[28,2,\"safensis\"],[38,7,\"pumilus\"],[45,7,\"pumilus\"],[31,3,\"pumilus\"],[27,2,\"pumilus\"],[36,2,\"pumilus\"],[41,11,\"pumilus\"],[33,2,\"pumilus\"]],\"yaxis\":\"y\",\"hovertemplate\":\"ID: %{customdata[0]}<br>\\nHeight: %{x:.3f}<br>\\nGenome count: %{customdata[1]}\\n<br>\\n%{customdata[2]}\\n<extra></extra>\",\"x\":[0.28262075781822205,0.8785027861595154,0.30003079771995544,0.3602002263069153,0.34828904271125793,0.82781982421875,0.5781402587890625,0.00018406036542728543,0.31665533781051636,0.31172552704811096,0.27551257610321045,0.48734089732170105,0.0019534884486347437,0.5782723426818848,0.3231011629104614,0.24673137068748474,0.3370318114757538,0.662848174571991,0.2968417704105377,0.17030352354049683,0.3194444477558136,0.40160587430000305,0.30545592308044434]},{\"xaxis\":\"x3\",\"colorscale\":[[0.0,\"#666666\"],[0.1,\"#AEC7E8\"],[0.2,\"#FFBB78\"],[0.3,\"#98DF8A\"],[0.4,\"#FF9896\"],[0.5,\"#C5B0D5\"],[0.6,\"#C49C94\"],[0.7,\"#F7B6D2\"],[0.8,\"#C7C7C7\"],[0.9,\"#DBDB8D\"],[1.0,\"#9EDAE5\"]],\"showscale\":false,\"customdata\":[[[\"Genome 2\",\"pumilus\"]],[[\"Genome 3\",\"pumilus\"]],[[\"Genome 9\",\"pumilus\"]],[[\"Genome 18\",\"pumilus\"]],[[\"Genome 13\",\"pumilus\"]],[[\"Genome 17\",\"pumilus\"]],[[\"Genome 5\",\"pumilus\"]],[[\"Genome 14\",\"pumilus\"]],[[\"Genome 4\",\"pumilus\"]],[[\"Genome 19\",\"pumilus\"]],[[\"Genome 8\",\"pumilus\"]],[[\"ID 25\",\"pumilus\"]],[[\"ID 28\",\"safensis\"]],[[\"Genome 21\",\"safensis\"]],[[\"Genome 23\",\"safensis\"]],[[\"ID 26\",\"pumilus\"]],[[\"Genome 16\",\"pumilus\"]],[[\"ID 27\",\"pumilus\"]],[[\"Genome 1\",\"pumilus\"]],[[\"Genome 12\",\"pumilus\"]]],\"zmin\":0,\"z\":[[1],[1],[1],[1],[1],[1],[1],[1],[1],[1],[1],[1],[2],[2],[2],[1],[1],[1],[1],[1]],\"ygap\":1,\"zmax\":10,\"y\":[0.5,1.5,2.5,3.5,4.5,5.5,6.5,7.5,8.5,9.5,10.5,11.5,13.5,15.5,16.5,17.5,19.5,20.5,22.5,23.5,24.5],\"type\":\"heatmap\",\"hovertemplate\":\"%{customdata[0]} <br>\\n%{customdata[1]}\\n<extra></extra>\\n\"}],{\"showlegend\":false,\"xaxis\":{\"scaleanchor\":\"y\",\"visible\":false,\"domain\":[0.521531100478469,1.0],\"constrain\":\"domain\"},\"hovermode\":\"closest\",\"xaxis2\":{\"rangemode\":\"nonnegative\",\"domain\":[0.0,0.47846889952153115],\"autorange\":\"reversed\"},\"height\":500,\"margin\":{\"l\":50,\"b\":50,\"r\":50,\"t\":60},\"yaxis\":{\"scaleanchor\":\"x\",\"visible\":false},\"xaxis3\":{\"visible\":false,\"domain\":[0.48803827751196177,0.5119617224880384],\"fixedrange\":true},\"width\":1000},{}); gd.on(\"plotly_hover\",(function (data){var filtered_data=WebIO.PlotlyCommands.filterEventData(gd,data,\"hover\"); return !(filtered_data.isnil) ? (WebIO.setval({\"name\":\"hover\",\"scope\":\"18185825420367847812\",\"id\":\"4697809037287281948\",\"type\":\"observable\"},filtered_data.out)) : undefined})); gd.on(\"plotly_unhover\",(function (){return WebIO.setval({\"name\":\"hover\",\"scope\":\"18185825420367847812\",\"id\":\"4697809037287281948\",\"type\":\"observable\"},{})})); gd.on(\"plotly_selected\",(function (data){var filtered_data=WebIO.PlotlyCommands.filterEventData(gd,data,\"selected\"); return !(filtered_data.isnil) ? (WebIO.setval({\"name\":\"selected\",\"scope\":\"18185825420367847812\",\"id\":\"6165803723447547739\",\"type\":\"observable\"},filtered_data.out)) : undefined})); gd.on(\"plotly_deselect\",(function (){return WebIO.setval({\"name\":\"selected\",\"scope\":\"18185825420367847812\",\"id\":\"6165803723447547739\",\"type\":\"observable\"},{})})); gd.on(\"plotly_relayout\",(function (data){var filtered_data=WebIO.PlotlyCommands.filterEventData(gd,data,\"relayout\"); return !(filtered_data.isnil) ? (WebIO.setval({\"name\":\"relayout\",\"scope\":\"18185825420367847812\",\"id\":\"2340147184272420903\",\"type\":\"observable\"},filtered_data.out)) : undefined})); return gd.on(\"plotly_click\",(function (data){var filtered_data=WebIO.PlotlyCommands.filterEventData(gd,data,\"click\"); return !(filtered_data.isnil) ? (WebIO.setval({\"name\":\"click\",\"scope\":\"18185825420367847812\",\"id\":\"15205826511896081862\",\"type\":\"observable\"},filtered_data.out)) : undefined}))}));\n    (WebIO.importBlock({\"data\":[{\"name\":\"Plotly\",\"type\":\"js\",\"url\":\"/assetserver/e6903599031aaef8675931dfcd7df98a1aeffbfc-plotly-latest.min.js\"},{\"name\":null,\"type\":\"js\",\"url\":\"/assetserver/74a5dea81f21b0b802ef1ee92f1c8a504eac1a0c-plotly_webio.bundle.js\"}],\"type\":\"async_block\"})).then((imports) => handler.apply(this, imports));\n}\n"
        ],
        "observables": {
         "__gd_contents": {
          "id": "2427930279266977284",
          "sync": false,
          "value": {}
         },
         "__get_gd_contents": {
          "id": "17633224164085488941",
          "sync": false,
          "value": ""
         },
         "_commands": {
          "id": "17813892435922348617",
          "sync": false,
          "value": []
         },
         "_downloadImage": {
          "id": "14984546979204576502",
          "sync": false,
          "value": {}
         },
         "_toImage": {
          "id": "2247960592451199228",
          "sync": false,
          "value": {}
         },
         "click": {
          "id": "15205826511896081862",
          "sync": false,
          "value": {}
         },
         "hover": {
          "id": "4697809037287281948",
          "sync": false,
          "value": {}
         },
         "image": {
          "id": "8812182755079249505",
          "sync": true,
          "value": ""
         },
         "relayout": {
          "id": "2340147184272420903",
          "sync": false,
          "value": {}
         },
         "selected": {
          "id": "6165803723447547739",
          "sync": false,
          "value": {}
         }
        },
        "systemjs_options": null
       },
       "nodeType": "Scope",
       "props": {},
       "type": "node"
      },
      "image/png": "[encoded data removed]",
      "image/svg+xml": [
       "<svg class=\"main-svg\" xmlns=\"http://www.w3.org/2000/svg\" xmlns:xlink=\"http://www.w3.org/1999/xlink\" width=\"700\" height=\"500\" style=\"\" viewBox=\"0 0 700 500\"><rect x=\"0\" y=\"0\" width=\"700\" height=\"500\" style=\"fill: rgb(255, 255, 255); fill-opacity: 1;\"/><defs id=\"defs-42aaa8\"><g class=\"clips\"><clipPath id=\"clip42aaa8xyplot\" class=\"plotclip\"><rect width=\"267.46411483253587\" height=\"390\"/></clipPath><clipPath id=\"clip42aaa8x2yplot\" class=\"plotclip\"><rect width=\"267.4641148325359\" height=\"390\"/></clipPath><clipPath id=\"clip42aaa8x3yplot\" class=\"plotclip\"><rect width=\"13.373205741626833\" height=\"390\"/></clipPath><clipPath class=\"axesclip\" id=\"clip42aaa8x\"><rect x=\"341.53588516746413\" y=\"0\" width=\"267.46411483253587\" height=\"500\"/></clipPath><clipPath class=\"axesclip\" id=\"clip42aaa8y\"><rect x=\"0\" y=\"60\" width=\"700\" height=\"390\"/></clipPath><clipPath class=\"axesclip\" id=\"clip42aaa8xy\"><rect x=\"341.53588516746413\" y=\"60\" width=\"267.46411483253587\" height=\"390\"/></clipPath><clipPath class=\"axesclip\" id=\"clip42aaa8x2\"><rect x=\"50\" y=\"0\" width=\"267.4641148325359\" height=\"500\"/></clipPath><clipPath class=\"axesclip\" id=\"clip42aaa8x2y\"><rect x=\"50\" y=\"60\" width=\"267.4641148325359\" height=\"390\"/></clipPath><clipPath class=\"axesclip\" id=\"clip42aaa8x3\"><rect x=\"322.8133971291866\" y=\"0\" width=\"13.373205741626833\" height=\"500\"/></clipPath><clipPath class=\"axesclip\" id=\"clip42aaa8x3y\"><rect x=\"322.8133971291866\" y=\"60\" width=\"13.373205741626833\" height=\"390\"/></clipPath></g><g class=\"gradients\"><linearGradient x1=\"0\" x2=\"0\" y1=\"1\" y2=\"0\" id=\"g42aaa8-cbc31564\"><stop offset=\"0%\" stop-color=\"rgb(0, 0, 4)\" stop-opacity=\"1\"/><stop offset=\"0.39215686274509803%\" stop-color=\"rgb(1, 0, 5)\" stop-opacity=\"1\"/><stop offset=\"0.7843137254901961%\" stop-color=\"rgb(1, 1, 6)\" stop-opacity=\"1\"/><stop offset=\"1.1764705882352942%\" stop-color=\"rgb(1, 1, 8)\" stop-opacity=\"1\"/><stop offset=\"1.5686274509803921%\" stop-color=\"rgb(2, 1, 9)\" stop-opacity=\"1\"/><stop offset=\"1.9607843137254901%\" stop-color=\"rgb(2, 2, 11)\" stop-opacity=\"1\"/><stop offset=\"2.3529411764705883%\" stop-color=\"rgb(2, 2, 13)\" stop-opacity=\"1\"/><stop offset=\"2.7450980392156863%\" stop-color=\"rgb(3, 3, 15)\" stop-opacity=\"1\"/><stop offset=\"3.1372549019607843%\" stop-color=\"rgb(3, 3, 18)\" stop-opacity=\"1\"/><stop offset=\"3.5294117647058822%\" stop-color=\"rgb(4, 4, 20)\" stop-opacity=\"1\"/><stop offset=\"3.9215686274509802%\" stop-color=\"rgb(5, 4, 22)\" stop-opacity=\"1\"/><stop offset=\"4.313725490196078%\" stop-color=\"rgb(6, 5, 24)\" stop-opacity=\"1\"/><stop offset=\"4.705882352941177%\" stop-color=\"rgb(6, 5, 26)\" stop-opacity=\"1\"/><stop offset=\"5.098039215686274%\" stop-color=\"rgb(7, 6, 28)\" stop-opacity=\"1\"/><stop offset=\"5.490196078431373%\" stop-color=\"rgb(8, 7, 30)\" stop-opacity=\"1\"/><stop offset=\"5.88235294117647%\" stop-color=\"rgb(9, 7, 32)\" stop-opacity=\"1\"/><stop offset=\"6.2745098039215685%\" stop-color=\"rgb(10, 8, 34)\" stop-opacity=\"1\"/><stop offset=\"6.666666666666667%\" stop-color=\"rgb(11, 9, 36)\" stop-opacity=\"1\"/><stop offset=\"7.0588235294117645%\" stop-color=\"rgb(12, 9, 38)\" stop-opacity=\"1\"/><stop offset=\"7.450980392156863%\" stop-color=\"rgb(13, 10, 41)\" stop-opacity=\"1\"/><stop offset=\"7.8431372549019605%\" stop-color=\"rgb(14, 11, 43)\" stop-opacity=\"1\"/><stop offset=\"8.235294117647058%\" stop-color=\"rgb(16, 11, 45)\" stop-opacity=\"1\"/><stop offset=\"8.627450980392156%\" stop-color=\"rgb(17, 12, 47)\" stop-opacity=\"1\"/><stop offset=\"9.019607843137255%\" stop-color=\"rgb(18, 13, 49)\" stop-opacity=\"1\"/><stop offset=\"9.411764705882353%\" stop-color=\"rgb(19, 13, 52)\" stop-opacity=\"1\"/><stop offset=\"9.803921568627452%\" stop-color=\"rgb(20, 14, 54)\" stop-opacity=\"1\"/><stop offset=\"10.196078431372548%\" stop-color=\"rgb(21, 14, 56)\" stop-opacity=\"1\"/><stop offset=\"10.588235294117647%\" stop-color=\"rgb(22, 15, 59)\" stop-opacity=\"1\"/><stop offset=\"10.980392156862745%\" stop-color=\"rgb(24, 15, 61)\" stop-opacity=\"1\"/><stop offset=\"11.372549019607844%\" stop-color=\"rgb(25, 16, 63)\" stop-opacity=\"1\"/><stop offset=\"11.76470588235294%\" stop-color=\"rgb(26, 16, 66)\" stop-opacity=\"1\"/><stop offset=\"12.156862745098039%\" stop-color=\"rgb(28, 16, 68)\" stop-opacity=\"1\"/><stop offset=\"12.549019607843137%\" stop-color=\"rgb(29, 17, 71)\" stop-opacity=\"1\"/><stop offset=\"12.941176470588237%\" stop-color=\"rgb(30, 17, 73)\" stop-opacity=\"1\"/><stop offset=\"13.333333333333334%\" stop-color=\"rgb(32, 17, 75)\" stop-opacity=\"1\"/><stop offset=\"13.725490196078432%\" stop-color=\"rgb(33, 17, 78)\" stop-opacity=\"1\"/><stop offset=\"14.117647058823529%\" stop-color=\"rgb(34, 17, 80)\" stop-opacity=\"1\"/><stop offset=\"14.50980392156863%\" stop-color=\"rgb(36, 18, 83)\" stop-opacity=\"1\"/><stop offset=\"14.901960784313726%\" stop-color=\"rgb(37, 18, 85)\" stop-opacity=\"1\"/><stop offset=\"15.294117647058824%\" stop-color=\"rgb(39, 18, 88)\" stop-opacity=\"1\"/><stop offset=\"15.686274509803921%\" stop-color=\"rgb(41, 17, 90)\" stop-opacity=\"1\"/><stop offset=\"16.07843137254902%\" stop-color=\"rgb(42, 17, 92)\" stop-opacity=\"1\"/><stop offset=\"16.470588235294116%\" stop-color=\"rgb(44, 17, 95)\" stop-opacity=\"1\"/><stop offset=\"16.862745098039216%\" stop-color=\"rgb(45, 17, 97)\" stop-opacity=\"1\"/><stop offset=\"17.254901960784313%\" stop-color=\"rgb(47, 17, 99)\" stop-opacity=\"1\"/><stop offset=\"17.647058823529413%\" stop-color=\"rgb(49, 17, 101)\" stop-opacity=\"1\"/><stop offset=\"18.03921568627451%\" stop-color=\"rgb(51, 16, 103)\" stop-opacity=\"1\"/><stop offset=\"18.43137254901961%\" stop-color=\"rgb(52, 16, 105)\" stop-opacity=\"1\"/><stop offset=\"18.823529411764707%\" stop-color=\"rgb(54, 16, 107)\" stop-opacity=\"1\"/><stop offset=\"19.215686274509807%\" stop-color=\"rgb(56, 16, 108)\" stop-opacity=\"1\"/><stop offset=\"19.607843137254903%\" stop-color=\"rgb(57, 15, 110)\" stop-opacity=\"1\"/><stop offset=\"20%\" stop-color=\"rgb(59, 15, 112)\" stop-opacity=\"1\"/><stop offset=\"20.392156862745097%\" stop-color=\"rgb(61, 15, 113)\" stop-opacity=\"1\"/><stop offset=\"20.784313725490197%\" stop-color=\"rgb(63, 15, 114)\" stop-opacity=\"1\"/><stop offset=\"21.176470588235293%\" stop-color=\"rgb(64, 15, 116)\" stop-opacity=\"1\"/><stop offset=\"21.568627450980394%\" stop-color=\"rgb(66, 15, 117)\" stop-opacity=\"1\"/><stop offset=\"21.96078431372549%\" stop-color=\"rgb(68, 15, 118)\" stop-opacity=\"1\"/><stop offset=\"22.35294117647059%\" stop-color=\"rgb(69, 16, 119)\" stop-opacity=\"1\"/><stop offset=\"22.745098039215687%\" stop-color=\"rgb(71, 16, 120)\" stop-opacity=\"1\"/><stop offset=\"23.137254901960784%\" stop-color=\"rgb(73, 16, 120)\" stop-opacity=\"1\"/><stop offset=\"23.52941176470588%\" stop-color=\"rgb(74, 16, 121)\" stop-opacity=\"1\"/><stop offset=\"23.92156862745098%\" stop-color=\"rgb(76, 17, 122)\" stop-opacity=\"1\"/><stop offset=\"24.313725490196077%\" stop-color=\"rgb(78, 17, 123)\" stop-opacity=\"1\"/><stop offset=\"24.705882352941178%\" stop-color=\"rgb(79, 18, 123)\" stop-opacity=\"1\"/><stop offset=\"25.098039215686274%\" stop-color=\"rgb(81, 18, 124)\" stop-opacity=\"1\"/><stop offset=\"25.49019607843137%\" stop-color=\"rgb(82, 19, 124)\" stop-opacity=\"1\"/><stop offset=\"25.882352941176475%\" stop-color=\"rgb(84, 19, 125)\" stop-opacity=\"1\"/><stop offset=\"26.27450980392157%\" stop-color=\"rgb(86, 20, 125)\" stop-opacity=\"1\"/><stop offset=\"26.666666666666668%\" stop-color=\"rgb(87, 21, 126)\" stop-opacity=\"1\"/><stop offset=\"27.058823529411764%\" stop-color=\"rgb(89, 21, 126)\" stop-opacity=\"1\"/><stop offset=\"27.450980392156865%\" stop-color=\"rgb(90, 22, 126)\" stop-opacity=\"1\"/><stop offset=\"27.84313725490196%\" stop-color=\"rgb(92, 22, 127)\" stop-opacity=\"1\"/><stop offset=\"28.235294117647058%\" stop-color=\"rgb(93, 23, 127)\" stop-opacity=\"1\"/><stop offset=\"28.627450980392155%\" stop-color=\"rgb(95, 24, 127)\" stop-opacity=\"1\"/><stop offset=\"29.01960784313726%\" stop-color=\"rgb(96, 24, 128)\" stop-opacity=\"1\"/><stop offset=\"29.411764705882355%\" stop-color=\"rgb(98, 25, 128)\" stop-opacity=\"1\"/><stop offset=\"29.80392156862745%\" stop-color=\"rgb(100, 26, 128)\" stop-opacity=\"1\"/><stop offset=\"30.19607843137255%\" stop-color=\"rgb(101, 26, 128)\" stop-opacity=\"1\"/><stop offset=\"30.58823529411765%\" stop-color=\"rgb(103, 27, 128)\" stop-opacity=\"1\"/><stop offset=\"30.980392156862745%\" stop-color=\"rgb(104, 28, 129)\" stop-opacity=\"1\"/><stop offset=\"31.372549019607842%\" stop-color=\"rgb(106, 28, 129)\" stop-opacity=\"1\"/><stop offset=\"31.76470588235294%\" stop-color=\"rgb(107, 29, 129)\" stop-opacity=\"1\"/><stop offset=\"32.15686274509804%\" stop-color=\"rgb(109, 29, 129)\" stop-opacity=\"1\"/><stop offset=\"32.549019607843135%\" stop-color=\"rgb(110, 30, 129)\" stop-opacity=\"1\"/><stop offset=\"32.94117647058823%\" stop-color=\"rgb(112, 31, 129)\" stop-opacity=\"1\"/><stop offset=\"33.33333333333333%\" stop-color=\"rgb(114, 31, 129)\" stop-opacity=\"1\"/><stop offset=\"33.72549019607843%\" stop-color=\"rgb(115, 32, 129)\" stop-opacity=\"1\"/><stop offset=\"34.11764705882353%\" stop-color=\"rgb(117, 33, 129)\" stop-opacity=\"1\"/><stop offset=\"34.509803921568626%\" stop-color=\"rgb(118, 33, 129)\" stop-opacity=\"1\"/><stop offset=\"34.90196078431372%\" stop-color=\"rgb(120, 34, 129)\" stop-opacity=\"1\"/><stop offset=\"35.294117647058826%\" stop-color=\"rgb(121, 34, 130)\" stop-opacity=\"1\"/><stop offset=\"35.68627450980392%\" stop-color=\"rgb(123, 35, 130)\" stop-opacity=\"1\"/><stop offset=\"36.07843137254902%\" stop-color=\"rgb(124, 35, 130)\" stop-opacity=\"1\"/><stop offset=\"36.470588235294116%\" stop-color=\"rgb(126, 36, 130)\" stop-opacity=\"1\"/><stop offset=\"36.86274509803922%\" stop-color=\"rgb(128, 37, 130)\" stop-opacity=\"1\"/><stop offset=\"37.254901960784316%\" stop-color=\"rgb(129, 37, 129)\" stop-opacity=\"1\"/><stop offset=\"37.64705882352941%\" stop-color=\"rgb(131, 38, 129)\" stop-opacity=\"1\"/><stop offset=\"38.03921568627451%\" stop-color=\"rgb(132, 38, 129)\" stop-opacity=\"1\"/><stop offset=\"38.43137254901961%\" stop-color=\"rgb(134, 39, 129)\" stop-opacity=\"1\"/><stop offset=\"38.82352941176471%\" stop-color=\"rgb(136, 39, 129)\" stop-opacity=\"1\"/><stop offset=\"39.21568627450981%\" stop-color=\"rgb(137, 40, 129)\" stop-opacity=\"1\"/><stop offset=\"39.6078431372549%\" stop-color=\"rgb(139, 41, 129)\" stop-opacity=\"1\"/><stop offset=\"40%\" stop-color=\"rgb(140, 41, 129)\" stop-opacity=\"1\"/><stop offset=\"40.3921568627451%\" stop-color=\"rgb(142, 42, 129)\" stop-opacity=\"1\"/><stop offset=\"40.78431372549019%\" stop-color=\"rgb(144, 42, 129)\" stop-opacity=\"1\"/><stop offset=\"41.17647058823529%\" stop-color=\"rgb(145, 43, 129)\" stop-opacity=\"1\"/><stop offset=\"41.568627450980394%\" stop-color=\"rgb(147, 43, 128)\" stop-opacity=\"1\"/><stop offset=\"41.96078431372549%\" stop-color=\"rgb(148, 44, 128)\" stop-opacity=\"1\"/><stop offset=\"42.35294117647059%\" stop-color=\"rgb(150, 44, 128)\" stop-opacity=\"1\"/><stop offset=\"42.745098039215684%\" stop-color=\"rgb(152, 45, 128)\" stop-opacity=\"1\"/><stop offset=\"43.13725490196079%\" stop-color=\"rgb(153, 45, 128)\" stop-opacity=\"1\"/><stop offset=\"43.529411764705884%\" stop-color=\"rgb(155, 46, 127)\" stop-opacity=\"1\"/><stop offset=\"43.92156862745098%\" stop-color=\"rgb(156, 46, 127)\" stop-opacity=\"1\"/><stop offset=\"44.31372549019608%\" stop-color=\"rgb(158, 47, 127)\" stop-opacity=\"1\"/><stop offset=\"44.70588235294118%\" stop-color=\"rgb(160, 47, 127)\" stop-opacity=\"1\"/><stop offset=\"45.09803921568628%\" stop-color=\"rgb(161, 48, 126)\" stop-opacity=\"1\"/><stop offset=\"45.490196078431374%\" stop-color=\"rgb(163, 48, 126)\" stop-opacity=\"1\"/><stop offset=\"45.88235294117647%\" stop-color=\"rgb(165, 49, 126)\" stop-opacity=\"1\"/><stop offset=\"46.27450980392157%\" stop-color=\"rgb(166, 49, 125)\" stop-opacity=\"1\"/><stop offset=\"46.666666666666664%\" stop-color=\"rgb(168, 50, 125)\" stop-opacity=\"1\"/><stop offset=\"47.05882352941176%\" stop-color=\"rgb(170, 51, 125)\" stop-opacity=\"1\"/><stop offset=\"47.45098039215686%\" stop-color=\"rgb(171, 51, 124)\" stop-opacity=\"1\"/><stop offset=\"47.84313725490196%\" stop-color=\"rgb(173, 52, 124)\" stop-opacity=\"1\"/><stop offset=\"48.23529411764706%\" stop-color=\"rgb(174, 52, 123)\" stop-opacity=\"1\"/><stop offset=\"48.627450980392155%\" stop-color=\"rgb(176, 53, 123)\" stop-opacity=\"1\"/><stop offset=\"49.01960784313725%\" stop-color=\"rgb(178, 53, 123)\" stop-opacity=\"1\"/><stop offset=\"49.411764705882355%\" stop-color=\"rgb(179, 54, 122)\" stop-opacity=\"1\"/><stop offset=\"49.80392156862745%\" stop-color=\"rgb(181, 54, 122)\" stop-opacity=\"1\"/><stop offset=\"50.19607843137255%\" stop-color=\"rgb(183, 55, 121)\" stop-opacity=\"1\"/><stop offset=\"50.588235294117645%\" stop-color=\"rgb(184, 55, 121)\" stop-opacity=\"1\"/><stop offset=\"50.98039215686274%\" stop-color=\"rgb(186, 56, 120)\" stop-opacity=\"1\"/><stop offset=\"51.37254901960784%\" stop-color=\"rgb(188, 57, 120)\" stop-opacity=\"1\"/><stop offset=\"51.76470588235295%\" stop-color=\"rgb(189, 57, 119)\" stop-opacity=\"1\"/><stop offset=\"52.156862745098046%\" stop-color=\"rgb(191, 58, 119)\" stop-opacity=\"1\"/><stop offset=\"52.54901960784314%\" stop-color=\"rgb(192, 58, 118)\" stop-opacity=\"1\"/><stop offset=\"52.94117647058824%\" stop-color=\"rgb(194, 59, 117)\" stop-opacity=\"1\"/><stop offset=\"53.333333333333336%\" stop-color=\"rgb(196, 60, 117)\" stop-opacity=\"1\"/><stop offset=\"53.72549019607843%\" stop-color=\"rgb(197, 60, 116)\" stop-opacity=\"1\"/><stop offset=\"54.11764705882353%\" stop-color=\"rgb(199, 61, 115)\" stop-opacity=\"1\"/><stop offset=\"54.509803921568626%\" stop-color=\"rgb(200, 62, 115)\" stop-opacity=\"1\"/><stop offset=\"54.90196078431373%\" stop-color=\"rgb(202, 62, 114)\" stop-opacity=\"1\"/><stop offset=\"55.294117647058826%\" stop-color=\"rgb(204, 63, 113)\" stop-opacity=\"1\"/><stop offset=\"55.68627450980392%\" stop-color=\"rgb(205, 64, 113)\" stop-opacity=\"1\"/><stop offset=\"56.07843137254902%\" stop-color=\"rgb(207, 64, 112)\" stop-opacity=\"1\"/><stop offset=\"56.470588235294116%\" stop-color=\"rgb(208, 65, 111)\" stop-opacity=\"1\"/><stop offset=\"56.86274509803921%\" stop-color=\"rgb(210, 66, 111)\" stop-opacity=\"1\"/><stop offset=\"57.25490196078431%\" stop-color=\"rgb(211, 67, 110)\" stop-opacity=\"1\"/><stop offset=\"57.647058823529406%\" stop-color=\"rgb(213, 68, 109)\" stop-opacity=\"1\"/><stop offset=\"58.03921568627452%\" stop-color=\"rgb(214, 69, 108)\" stop-opacity=\"1\"/><stop offset=\"58.43137254901961%\" stop-color=\"rgb(216, 69, 108)\" stop-opacity=\"1\"/><stop offset=\"58.82352941176471%\" stop-color=\"rgb(217, 70, 107)\" stop-opacity=\"1\"/><stop offset=\"59.21568627450981%\" stop-color=\"rgb(219, 71, 106)\" stop-opacity=\"1\"/><stop offset=\"59.6078431372549%\" stop-color=\"rgb(220, 72, 105)\" stop-opacity=\"1\"/><stop offset=\"60%\" stop-color=\"rgb(222, 73, 104)\" stop-opacity=\"1\"/><stop offset=\"60.3921568627451%\" stop-color=\"rgb(223, 74, 104)\" stop-opacity=\"1\"/><stop offset=\"60.78431372549019%\" stop-color=\"rgb(224, 76, 103)\" stop-opacity=\"1\"/><stop offset=\"61.1764705882353%\" stop-color=\"rgb(226, 77, 102)\" stop-opacity=\"1\"/><stop offset=\"61.568627450980394%\" stop-color=\"rgb(227, 78, 101)\" stop-opacity=\"1\"/><stop offset=\"61.96078431372549%\" stop-color=\"rgb(228, 79, 100)\" stop-opacity=\"1\"/><stop offset=\"62.35294117647059%\" stop-color=\"rgb(229, 80, 100)\" stop-opacity=\"1\"/><stop offset=\"62.745098039215684%\" stop-color=\"rgb(231, 82, 99)\" stop-opacity=\"1\"/><stop offset=\"63.13725490196078%\" stop-color=\"rgb(232, 83, 98)\" stop-opacity=\"1\"/><stop offset=\"63.52941176470588%\" stop-color=\"rgb(233, 84, 98)\" stop-opacity=\"1\"/><stop offset=\"63.921568627450974%\" stop-color=\"rgb(234, 86, 97)\" stop-opacity=\"1\"/><stop offset=\"64.31372549019608%\" stop-color=\"rgb(235, 87, 96)\" stop-opacity=\"1\"/><stop offset=\"64.70588235294117%\" stop-color=\"rgb(236, 88, 96)\" stop-opacity=\"1\"/><stop offset=\"65.09803921568627%\" stop-color=\"rgb(237, 90, 95)\" stop-opacity=\"1\"/><stop offset=\"65.49019607843137%\" stop-color=\"rgb(238, 91, 94)\" stop-opacity=\"1\"/><stop offset=\"65.88235294117646%\" stop-color=\"rgb(239, 93, 94)\" stop-opacity=\"1\"/><stop offset=\"66.27450980392156%\" stop-color=\"rgb(240, 95, 94)\" stop-opacity=\"1\"/><stop offset=\"66.66666666666666%\" stop-color=\"rgb(241, 96, 93)\" stop-opacity=\"1\"/><stop offset=\"67.05882352941175%\" stop-color=\"rgb(242, 98, 93)\" stop-opacity=\"1\"/><stop offset=\"67.45098039215686%\" stop-color=\"rgb(242, 100, 92)\" stop-opacity=\"1\"/><stop offset=\"67.84313725490196%\" stop-color=\"rgb(243, 101, 92)\" stop-opacity=\"1\"/><stop offset=\"68.23529411764706%\" stop-color=\"rgb(244, 103, 92)\" stop-opacity=\"1\"/><stop offset=\"68.62745098039215%\" stop-color=\"rgb(244, 105, 92)\" stop-opacity=\"1\"/><stop offset=\"69.01960784313725%\" stop-color=\"rgb(245, 107, 92)\" stop-opacity=\"1\"/><stop offset=\"69.41176470588235%\" stop-color=\"rgb(246, 108, 92)\" stop-opacity=\"1\"/><stop offset=\"69.80392156862744%\" stop-color=\"rgb(246, 110, 92)\" stop-opacity=\"1\"/><stop offset=\"70.19607843137254%\" stop-color=\"rgb(247, 112, 92)\" stop-opacity=\"1\"/><stop offset=\"70.58823529411765%\" stop-color=\"rgb(247, 114, 92)\" stop-opacity=\"1\"/><stop offset=\"70.98039215686275%\" stop-color=\"rgb(248, 116, 92)\" stop-opacity=\"1\"/><stop offset=\"71.37254901960785%\" stop-color=\"rgb(248, 118, 92)\" stop-opacity=\"1\"/><stop offset=\"71.76470588235294%\" stop-color=\"rgb(249, 120, 93)\" stop-opacity=\"1\"/><stop offset=\"72.15686274509804%\" stop-color=\"rgb(249, 121, 93)\" stop-opacity=\"1\"/><stop offset=\"72.54901960784314%\" stop-color=\"rgb(249, 123, 93)\" stop-opacity=\"1\"/><stop offset=\"72.94117647058823%\" stop-color=\"rgb(250, 125, 94)\" stop-opacity=\"1\"/><stop offset=\"73.33333333333333%\" stop-color=\"rgb(250, 127, 94)\" stop-opacity=\"1\"/><stop offset=\"73.72549019607844%\" stop-color=\"rgb(250, 129, 95)\" stop-opacity=\"1\"/><stop offset=\"74.11764705882354%\" stop-color=\"rgb(251, 131, 95)\" stop-opacity=\"1\"/><stop offset=\"74.50980392156863%\" stop-color=\"rgb(251, 133, 96)\" stop-opacity=\"1\"/><stop offset=\"74.90196078431373%\" stop-color=\"rgb(251, 135, 97)\" stop-opacity=\"1\"/><stop offset=\"75.29411764705883%\" stop-color=\"rgb(252, 137, 97)\" stop-opacity=\"1\"/><stop offset=\"75.68627450980392%\" stop-color=\"rgb(252, 138, 98)\" stop-opacity=\"1\"/><stop offset=\"76.07843137254902%\" stop-color=\"rgb(252, 140, 99)\" stop-opacity=\"1\"/><stop offset=\"76.47058823529412%\" stop-color=\"rgb(252, 142, 100)\" stop-opacity=\"1\"/><stop offset=\"76.86274509803923%\" stop-color=\"rgb(252, 144, 101)\" stop-opacity=\"1\"/><stop offset=\"77.25490196078432%\" stop-color=\"rgb(253, 146, 102)\" stop-opacity=\"1\"/><stop offset=\"77.64705882352942%\" stop-color=\"rgb(253, 148, 103)\" stop-opacity=\"1\"/><stop offset=\"78.03921568627452%\" stop-color=\"rgb(253, 150, 104)\" stop-opacity=\"1\"/><stop offset=\"78.43137254901961%\" stop-color=\"rgb(253, 152, 105)\" stop-opacity=\"1\"/><stop offset=\"78.82352941176471%\" stop-color=\"rgb(253, 154, 106)\" stop-opacity=\"1\"/><stop offset=\"79.2156862745098%\" stop-color=\"rgb(253, 155, 107)\" stop-opacity=\"1\"/><stop offset=\"79.6078431372549%\" stop-color=\"rgb(254, 157, 108)\" stop-opacity=\"1\"/><stop offset=\"80%\" stop-color=\"rgb(254, 159, 109)\" stop-opacity=\"1\"/><stop offset=\"80.3921568627451%\" stop-color=\"rgb(254, 161, 110)\" stop-opacity=\"1\"/><stop offset=\"80.7843137254902%\" stop-color=\"rgb(254, 163, 111)\" stop-opacity=\"1\"/><stop offset=\"81.17647058823529%\" stop-color=\"rgb(254, 165, 113)\" stop-opacity=\"1\"/><stop offset=\"81.56862745098039%\" stop-color=\"rgb(254, 167, 114)\" stop-opacity=\"1\"/><stop offset=\"81.96078431372548%\" stop-color=\"rgb(254, 169, 115)\" stop-opacity=\"1\"/><stop offset=\"82.35294117647058%\" stop-color=\"rgb(254, 170, 116)\" stop-opacity=\"1\"/><stop offset=\"82.74509803921568%\" stop-color=\"rgb(254, 172, 118)\" stop-opacity=\"1\"/><stop offset=\"83.13725490196079%\" stop-color=\"rgb(254, 174, 119)\" stop-opacity=\"1\"/><stop offset=\"83.52941176470588%\" stop-color=\"rgb(254, 176, 120)\" stop-opacity=\"1\"/><stop offset=\"83.92156862745098%\" stop-color=\"rgb(254, 178, 122)\" stop-opacity=\"1\"/><stop offset=\"84.31372549019608%\" stop-color=\"rgb(254, 180, 123)\" stop-opacity=\"1\"/><stop offset=\"84.70588235294117%\" stop-color=\"rgb(254, 182, 124)\" stop-opacity=\"1\"/><stop offset=\"85.09803921568627%\" stop-color=\"rgb(254, 183, 126)\" stop-opacity=\"1\"/><stop offset=\"85.49019607843137%\" stop-color=\"rgb(254, 185, 127)\" stop-opacity=\"1\"/><stop offset=\"85.88235294117646%\" stop-color=\"rgb(254, 187, 129)\" stop-opacity=\"1\"/><stop offset=\"86.27450980392157%\" stop-color=\"rgb(254, 189, 130)\" stop-opacity=\"1\"/><stop offset=\"86.66666666666667%\" stop-color=\"rgb(254, 191, 132)\" stop-opacity=\"1\"/><stop offset=\"87.05882352941177%\" stop-color=\"rgb(254, 193, 133)\" stop-opacity=\"1\"/><stop offset=\"87.45098039215686%\" stop-color=\"rgb(254, 194, 135)\" stop-opacity=\"1\"/><stop offset=\"87.84313725490196%\" stop-color=\"rgb(254, 196, 136)\" stop-opacity=\"1\"/><stop offset=\"88.23529411764706%\" stop-color=\"rgb(254, 198, 138)\" stop-opacity=\"1\"/><stop offset=\"88.62745098039215%\" stop-color=\"rgb(254, 200, 140)\" stop-opacity=\"1\"/><stop offset=\"89.01960784313725%\" stop-color=\"rgb(254, 202, 141)\" stop-opacity=\"1\"/><stop offset=\"89.41176470588236%\" stop-color=\"rgb(254, 204, 143)\" stop-opacity=\"1\"/><stop offset=\"89.80392156862746%\" stop-color=\"rgb(254, 205, 144)\" stop-opacity=\"1\"/><stop offset=\"90.19607843137256%\" stop-color=\"rgb(254, 207, 146)\" stop-opacity=\"1\"/><stop offset=\"90.58823529411765%\" stop-color=\"rgb(254, 209, 148)\" stop-opacity=\"1\"/><stop offset=\"90.98039215686275%\" stop-color=\"rgb(254, 211, 149)\" stop-opacity=\"1\"/><stop offset=\"91.37254901960785%\" stop-color=\"rgb(254, 213, 151)\" stop-opacity=\"1\"/><stop offset=\"91.76470588235294%\" stop-color=\"rgb(254, 215, 153)\" stop-opacity=\"1\"/><stop offset=\"92.15686274509804%\" stop-color=\"rgb(254, 216, 154)\" stop-opacity=\"1\"/><stop offset=\"92.54901960784314%\" stop-color=\"rgb(253, 218, 156)\" stop-opacity=\"1\"/><stop offset=\"92.94117647058823%\" stop-color=\"rgb(253, 220, 158)\" stop-opacity=\"1\"/><stop offset=\"93.33333333333333%\" stop-color=\"rgb(253, 222, 160)\" stop-opacity=\"1\"/><stop offset=\"93.72549019607843%\" stop-color=\"rgb(253, 224, 161)\" stop-opacity=\"1\"/><stop offset=\"94.11764705882352%\" stop-color=\"rgb(253, 226, 163)\" stop-opacity=\"1\"/><stop offset=\"94.50980392156862%\" stop-color=\"rgb(253, 227, 165)\" stop-opacity=\"1\"/><stop offset=\"94.90196078431372%\" stop-color=\"rgb(253, 229, 167)\" stop-opacity=\"1\"/><stop offset=\"95.29411764705881%\" stop-color=\"rgb(253, 231, 169)\" stop-opacity=\"1\"/><stop offset=\"95.68627450980392%\" stop-color=\"rgb(253, 233, 170)\" stop-opacity=\"1\"/><stop offset=\"96.07843137254902%\" stop-color=\"rgb(253, 235, 172)\" stop-opacity=\"1\"/><stop offset=\"96.47058823529412%\" stop-color=\"rgb(252, 236, 174)\" stop-opacity=\"1\"/><stop offset=\"96.86274509803921%\" stop-color=\"rgb(252, 238, 176)\" stop-opacity=\"1\"/><stop offset=\"97.25490196078431%\" stop-color=\"rgb(252, 240, 178)\" stop-opacity=\"1\"/><stop offset=\"97.6470588235294%\" stop-color=\"rgb(252, 242, 180)\" stop-opacity=\"1\"/><stop offset=\"98.0392156862745%\" stop-color=\"rgb(252, 244, 182)\" stop-opacity=\"1\"/><stop offset=\"98.4313725490196%\" stop-color=\"rgb(252, 246, 184)\" stop-opacity=\"1\"/><stop offset=\"98.82352941176471%\" stop-color=\"rgb(252, 247, 185)\" stop-opacity=\"1\"/><stop offset=\"99.2156862745098%\" stop-color=\"rgb(252, 249, 187)\" stop-opacity=\"1\"/><stop offset=\"99.6078431372549%\" stop-color=\"rgb(252, 251, 189)\" stop-opacity=\"1\"/><stop offset=\"100%\" stop-color=\"rgb(252, 253, 191)\" stop-opacity=\"1\"/></linearGradient></g></defs><g class=\"bglayer\"/><g class=\"layer-below\"><g class=\"imagelayer\"/><g class=\"shapelayer\"/></g><g class=\"cartesianlayer\"><g class=\"subplot xy\"><g class=\"layer-subplot\"><g class=\"shapelayer\"/><g class=\"imagelayer\"/></g><g class=\"gridlayer\"><g class=\"x\"/><g class=\"y\"/></g><g class=\"zerolinelayer\"/><path class=\"xlines-below\"/><path class=\"ylines-below\"/><g class=\"overlines-below\"/><g class=\"xaxislayer-below\"/><g class=\"yaxislayer-below\"/><g class=\"overaxes-below\"/><g class=\"plot\" transform=\"translate(341.53588516746413,60)\" clip-path=\"url('#clip42aaa8xyplot')\"><g class=\"heatmaplayer mlayer\"><g class=\"hm\"><image xmlns=\"http://www.w3.org/2000/svg\" preserveAspectRatio=\"none\" height=\"267\" width=\"267\" x=\"0\" y=\"61.27\" xlink:href=\"data:image/png;base64,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\" style=\"opacity: 1;\"/></g></g></g><g class=\"overplot\"/><path class=\"xlines-above crisp\" d=\"M0,0\" style=\"fill: none;\"/><path class=\"ylines-above crisp\" d=\"M0,0\" style=\"fill: none;\"/><g class=\"overlines-above\"/><g class=\"xaxislayer-above\"/><g class=\"yaxislayer-above\"/><g class=\"overaxes-above\"/></g><g class=\"subplot x2y\"><g class=\"layer-subplot\"><g class=\"shapelayer\"/><g class=\"imagelayer\"/></g><g class=\"gridlayer\"><g class=\"x2\"><path class=\"x2grid crisp\" transform=\"translate(90.63,0)\" d=\"M0,60v390\" style=\"stroke: rgb(238, 238, 238); stroke-opacity: 1; stroke-width: 1px;\"/><path class=\"x2grid crisp\" transform=\"translate(147.34,0)\" d=\"M0,60v390\" style=\"stroke: rgb(238, 238, 238); stroke-opacity: 1; stroke-width: 1px;\"/><path class=\"x2grid crisp\" transform=\"translate(204.05,0)\" d=\"M0,60v390\" style=\"stroke: rgb(238, 238, 238); stroke-opacity: 1; stroke-width: 1px;\"/><path class=\"x2grid crisp\" transform=\"translate(260.76,0)\" d=\"M0,60v390\" style=\"stroke: rgb(238, 238, 238); stroke-opacity: 1; stroke-width: 1px;\"/></g><g class=\"y\"/></g><g class=\"zerolinelayer\"><path class=\"x2zl zl crisp\" transform=\"translate(317.46,0)\" d=\"M0,60v390\" style=\"stroke: rgb(68, 68, 68); stroke-opacity: 1; stroke-width: 1px;\"/></g><path class=\"xlines-below\"/><path class=\"ylines-below\"/><g class=\"overlines-below\"/><g class=\"xaxislayer-below\"/><g class=\"yaxislayer-below\"/><g class=\"overaxes-below\"/><g class=\"plot\" transform=\"translate(50,60)\" clip-path=\"url('#clip42aaa8x2yplot')\"><g class=\"scatterlayer mlayer\"><g class=\"trace scatter trace4a0e22\" style=\"stroke-miterlimit: 2; opacity: 1;\"><g class=\"fills\"/><g class=\"errorbars\"/><g class=\"lines\"><path class=\"js-line\" d=\"M18.37,244.37L18.37,139.97\" style=\"vector-effect: non-scaling-stroke; fill: none; stroke: rgb(102, 102, 102); stroke-opacity: 1; stroke-width: 2px; opacity: 1;\"/><path class=\"js-line\" d=\"M18.37,244.37L153.59,244.37\" style=\"vector-effect: non-scaling-stroke; fill: none; stroke: rgb(102, 102, 102); stroke-opacity: 1; stroke-width: 2px; opacity: 1;\"/><path class=\"js-line\" d=\"M18.37,139.97L32.74,139.97\" style=\"vector-effect: non-scaling-stroke; fill: none; stroke: rgb(102, 102, 102); stroke-opacity: 1; stroke-width: 2px; opacity: 1;\"/></g><g class=\"points\"/><g class=\"text\"/></g><g class=\"trace scatter tracefed833\" style=\"stroke-miterlimit: 2; opacity: 1;\"><g class=\"fills\"/><g class=\"errorbars\"/><g class=\"lines\"><path class=\"js-line\" d=\"M182.39,295.3L182.39,278.58\" style=\"vector-effect: non-scaling-stroke; fill: none; stroke: rgb(174, 199, 232); stroke-opacity: 1; stroke-width: 2px; opacity: 1;\"/><path class=\"js-line\" d=\"M182.39,295.3L189.35,295.3\" style=\"vector-effect: non-scaling-stroke; fill: none; stroke: rgb(174, 199, 232); stroke-opacity: 1; stroke-width: 2px; opacity: 1;\"/><path class=\"js-line\" d=\"M182.39,278.58L267.46,278.58\" style=\"vector-effect: non-scaling-stroke; fill: none; stroke: rgb(174, 199, 232); stroke-opacity: 1; stroke-width: 2px; opacity: 1;\"/></g><g class=\"points\"/><g class=\"text\"/></g><g class=\"trace scatter trace9fb50f\" style=\"stroke-miterlimit: 2; opacity: 1;\"><g class=\"fills\"/><g class=\"errorbars\"/><g class=\"lines\"><path class=\"js-line\" d=\"M165.33,228.43L165.33,211.72\" style=\"vector-effect: non-scaling-stroke; fill: none; stroke: rgb(174, 199, 232); stroke-opacity: 1; stroke-width: 2px; opacity: 1;\"/><path class=\"js-line\" d=\"M165.33,228.43L176.89,228.43\" style=\"vector-effect: non-scaling-stroke; fill: none; stroke: rgb(174, 199, 232); stroke-opacity: 1; stroke-width: 2px; opacity: 1;\"/><path class=\"js-line\" d=\"M165.33,211.72L267.46,211.72\" style=\"vector-effect: non-scaling-stroke; fill: none; stroke: rgb(174, 199, 232); stroke-opacity: 1; stroke-width: 2px; opacity: 1;\"/></g><g class=\"points\"/><g class=\"text\"/></g><g class=\"trace scatter trace668518\" style=\"stroke-miterlimit: 2; opacity: 1;\"><g class=\"fills\"/><g class=\"errorbars\"/><g class=\"lines\"><path class=\"js-line\" d=\"M168.71,292.16L168.71,245.15\" style=\"vector-effect: non-scaling-stroke; fill: none; stroke: rgb(174, 199, 232); stroke-opacity: 1; stroke-width: 2px; opacity: 1;\"/><path class=\"js-line\" d=\"M168.71,292.16L171.9,292.16\" style=\"vector-effect: non-scaling-stroke; fill: none; stroke: rgb(174, 199, 232); stroke-opacity: 1; stroke-width: 2px; opacity: 1;\"/><path class=\"js-line\" d=\"M168.71,245.15L267.46,245.15\" style=\"vector-effect: non-scaling-stroke; fill: none; stroke: rgb(174, 199, 232); stroke-opacity: 1; stroke-width: 2px; opacity: 1;\"/></g><g class=\"points\"/><g class=\"text\"/></g><g class=\"trace scatter traced6901a\" style=\"stroke-miterlimit: 2; opacity: 1;\"><g class=\"fills\"/><g class=\"errorbars\"/><g class=\"lines\"><path class=\"js-line\" d=\"M32.74,178.28L32.74,101.67\" style=\"vector-effect: non-scaling-stroke; fill: none; stroke: rgb(102, 102, 102); stroke-opacity: 1; stroke-width: 2px; opacity: 1;\"/><path class=\"js-line\" d=\"M32.74,178.28L103.54,178.28\" style=\"vector-effect: non-scaling-stroke; fill: none; stroke: rgb(102, 102, 102); stroke-opacity: 1; stroke-width: 2px; opacity: 1;\"/><path class=\"js-line\" d=\"M32.74,101.67L79.52,101.67\" style=\"vector-effect: non-scaling-stroke; fill: none; stroke: rgb(102, 102, 102); stroke-opacity: 1; stroke-width: 2px; opacity: 1;\"/></g><g class=\"points\"/><g class=\"text\"/></g><g class=\"trace scatter trace532f81\" style=\"stroke-miterlimit: 2; opacity: 1;\"><g class=\"fills\"/><g class=\"errorbars\"/><g class=\"lines\"><path class=\"js-line\" d=\"M103.54,195L103.54,161.57\" style=\"vector-effect: non-scaling-stroke; fill: none; stroke: rgb(102, 102, 102); stroke-opacity: 1; stroke-width: 2px; opacity: 1;\"/><path class=\"js-line\" d=\"M103.54,195L267.41,195\" style=\"vector-effect: non-scaling-stroke; fill: none; stroke: rgb(102, 102, 102); stroke-opacity: 1; stroke-width: 2px; opacity: 1;\"/><path class=\"js-line\" d=\"M103.54,161.57L129.28,161.57\" style=\"vector-effect: non-scaling-stroke; fill: none; stroke: rgb(102, 102, 102); stroke-opacity: 1; stroke-width: 2px; opacity: 1;\"/></g><g class=\"points\"/><g class=\"text\"/></g><g class=\"trace scatter trace9afaa0\" style=\"stroke-miterlimit: 2; opacity: 1;\"><g class=\"fills\"><g><path class=\"js-fill\" d=\"M267.46,133.71L266.91,133.71L266.91,122.56L267.46,122.56Z\" style=\"fill: rgb(174, 199, 232); fill-opacity: 0.5; stroke-width: 0;\"/></g></g><g class=\"errorbars\"/><g class=\"lines\"><path class=\"js-line\" d=\"M267.46,133.71L266.91,133.71L266.91,122.56L267.46,122.56\" style=\"vector-effect: non-scaling-stroke; fill: none; stroke: rgb(174, 199, 232); stroke-opacity: 1; stroke-width: 2px; opacity: 1;\"/></g><g class=\"points\"/><g class=\"text\"/></g><g class=\"trace scatter trace69254d\" style=\"stroke-miterlimit: 2; opacity: 1;\"><g class=\"fills\"><g><path class=\"js-fill\" d=\"M267.46,200.57L267.41,189.43L267.46,189.43Z\" style=\"fill: rgb(174, 199, 232); fill-opacity: 0.5; stroke-width: 0;\"/></g></g><g class=\"errorbars\"/><g class=\"lines\"><path class=\"js-line\" d=\"M267.46,200.57L267.41,189.43L267.46,189.43\" style=\"vector-effect: non-scaling-stroke; fill: none; stroke: rgb(174, 199, 232); stroke-opacity: 1; stroke-width: 2px; opacity: 1;\"/></g><g class=\"points\"/><g class=\"text\"/></g><g class=\"trace scatter traceb5417a\" style=\"stroke-miterlimit: 2; opacity: 1;\"><g class=\"fills\"/><g class=\"errorbars\"/><g class=\"lines\"><path class=\"js-line\" d=\"M177.68,323.16L177.68,312.02\" style=\"vector-effect: non-scaling-stroke; fill: none; stroke: rgb(174, 199, 232); stroke-opacity: 1; stroke-width: 2px; opacity: 1;\"/><path class=\"js-line\" d=\"M177.68,323.16L267.46,323.16\" style=\"vector-effect: non-scaling-stroke; fill: none; stroke: rgb(174, 199, 232); stroke-opacity: 1; stroke-width: 2px; opacity: 1;\"/><path class=\"js-line\" d=\"M177.68,312.02L267.46,312.02\" style=\"vector-effect: non-scaling-stroke; fill: none; stroke: rgb(174, 199, 232); stroke-opacity: 1; stroke-width: 2px; opacity: 1;\"/></g><g class=\"points\"/><g class=\"text\"/></g><g class=\"trace scatter trace9ac1c9\" style=\"stroke-miterlimit: 2; opacity: 1;\"><g class=\"fills\"/><g class=\"errorbars\"/><g class=\"lines\"><path class=\"js-line\" d=\"M179.08,286.94L179.08,267.44\" style=\"vector-effect: non-scaling-stroke; fill: none; stroke: rgb(174, 199, 232); stroke-opacity: 1; stroke-width: 2px; opacity: 1;\"/><path class=\"js-line\" d=\"M179.08,286.94L182.39,286.94\" style=\"vector-effect: non-scaling-stroke; fill: none; stroke: rgb(174, 199, 232); stroke-opacity: 1; stroke-width: 2px; opacity: 1;\"/><path class=\"js-line\" d=\"M179.08,267.44L267.46,267.44\" style=\"vector-effect: non-scaling-stroke; fill: none; stroke: rgb(174, 199, 232); stroke-opacity: 1; stroke-width: 2px; opacity: 1;\"/></g><g class=\"points\"/><g class=\"text\"/></g><g class=\"trace scatter trace884061\" style=\"stroke-miterlimit: 2; opacity: 1;\"><g class=\"fills\"/><g class=\"errorbars\"/><g class=\"lines\"><path class=\"js-line\" d=\"M189.35,300.87L189.35,289.73\" style=\"vector-effect: non-scaling-stroke; fill: none; stroke: rgb(174, 199, 232); stroke-opacity: 1; stroke-width: 2px; opacity: 1;\"/><path class=\"js-line\" d=\"M189.35,300.87L267.46,300.87\" style=\"vector-effect: non-scaling-stroke; fill: none; stroke: rgb(174, 199, 232); stroke-opacity: 1; stroke-width: 2px; opacity: 1;\"/><path class=\"js-line\" d=\"M189.35,289.73L267.46,289.73\" style=\"vector-effect: non-scaling-stroke; fill: none; stroke: rgb(174, 199, 232); stroke-opacity: 1; stroke-width: 2px; opacity: 1;\"/></g><g class=\"points\"/><g class=\"text\"/></g><g class=\"trace scatter trace176d5c\" style=\"stroke-miterlimit: 2; opacity: 1;\"><g class=\"fills\"/><g class=\"errorbars\"/><g class=\"lines\"><path class=\"js-line\" d=\"M129.28,172.71L129.28,150.42\" style=\"vector-effect: non-scaling-stroke; fill: none; stroke: rgb(255, 187, 120); stroke-opacity: 1; stroke-width: 2px; opacity: 1;\"/><path class=\"js-line\" d=\"M129.28,172.71L197.51,172.71\" style=\"vector-effect: non-scaling-stroke; fill: none; stroke: rgb(255, 187, 120); stroke-opacity: 1; stroke-width: 2px; opacity: 1;\"/><path class=\"js-line\" d=\"M129.28,150.42L187.33,150.42\" style=\"vector-effect: non-scaling-stroke; fill: none; stroke: rgb(255, 187, 120); stroke-opacity: 1; stroke-width: 2px; opacity: 1;\"/></g><g class=\"points\"/><g class=\"text\"/></g><g class=\"trace scatter trace09987e\" style=\"stroke-miterlimit: 2; opacity: 1;\"><g class=\"fills\"/><g class=\"errorbars\"/><g class=\"lines\"><path class=\"js-line\" d=\"M103.5,94.7L103.5,72.41\" style=\"vector-effect: non-scaling-stroke; fill: none; stroke: rgb(174, 199, 232); stroke-opacity: 1; stroke-width: 2px; opacity: 1;\"/><path class=\"js-line\" d=\"M103.5,94.7L219.18,94.7\" style=\"vector-effect: non-scaling-stroke; fill: none; stroke: rgb(174, 199, 232); stroke-opacity: 1; stroke-width: 2px; opacity: 1;\"/><path class=\"js-line\" d=\"M103.5,72.41L180.86,72.41\" style=\"vector-effect: non-scaling-stroke; fill: none; stroke: rgb(174, 199, 232); stroke-opacity: 1; stroke-width: 2px; opacity: 1;\"/></g><g class=\"points\"/><g class=\"text\"/></g><g class=\"trace scatter tracea84b41\" style=\"stroke-miterlimit: 2; opacity: 1;\"><g class=\"fills\"/><g class=\"errorbars\"/><g class=\"lines\"><path class=\"js-line\" d=\"M175.85,277.19L175.85,256.29\" style=\"vector-effect: non-scaling-stroke; fill: none; stroke: rgb(174, 199, 232); stroke-opacity: 1; stroke-width: 2px; opacity: 1;\"/><path class=\"js-line\" d=\"M175.85,277.19L179.08,277.19\" style=\"vector-effect: non-scaling-stroke; fill: none; stroke: rgb(174, 199, 232); stroke-opacity: 1; stroke-width: 2px; opacity: 1;\"/><path class=\"js-line\" d=\"M175.85,256.29L267.46,256.29\" style=\"vector-effect: non-scaling-stroke; fill: none; stroke: rgb(174, 199, 232); stroke-opacity: 1; stroke-width: 2px; opacity: 1;\"/></g><g class=\"points\"/><g class=\"text\"/></g><g class=\"trace scatter trace481bb1\" style=\"stroke-miterlimit: 2; opacity: 1;\"><g class=\"fills\"><g><path class=\"js-fill\" d=\"M267.46,178.28L197.51,178.28L197.51,167.14L267.46,167.14Z\" style=\"fill: rgb(255, 187, 120); fill-opacity: 0.5; stroke-width: 0;\"/></g></g><g class=\"errorbars\"/><g class=\"lines\"><path class=\"js-line\" d=\"M267.46,178.28L197.51,178.28L197.51,167.14L267.46,167.14\" style=\"vector-effect: non-scaling-stroke; fill: none; stroke: rgb(255, 187, 120); stroke-opacity: 1; stroke-width: 2px; opacity: 1;\"/></g><g class=\"points\"/><g class=\"text\"/></g><g class=\"trace scatter trace2cec2f\" style=\"stroke-miterlimit: 2; opacity: 1;\"><g class=\"fills\"/><g class=\"errorbars\"/><g class=\"lines\"><path class=\"js-line\" d=\"M171.9,317.59L171.9,266.74\" style=\"vector-effect: non-scaling-stroke; fill: none; stroke: rgb(174, 199, 232); stroke-opacity: 1; stroke-width: 2px; opacity: 1;\"/><path class=\"js-line\" d=\"M171.9,317.59L177.68,317.59\" style=\"vector-effect: non-scaling-stroke; fill: none; stroke: rgb(174, 199, 232); stroke-opacity: 1; stroke-width: 2px; opacity: 1;\"/><path class=\"js-line\" d=\"M171.9,266.74L175.85,266.74\" style=\"vector-effect: non-scaling-stroke; fill: none; stroke: rgb(174, 199, 232); stroke-opacity: 1; stroke-width: 2px; opacity: 1;\"/></g><g class=\"points\"/><g class=\"text\"/></g><g class=\"trace scatter trace25ffb8\" style=\"stroke-miterlimit: 2; opacity: 1;\"><g class=\"fills\"/><g class=\"errorbars\"/><g class=\"lines\"><path class=\"js-line\" d=\"M79.52,119.78L79.52,83.56\" style=\"vector-effect: non-scaling-stroke; fill: none; stroke: rgb(174, 199, 232); stroke-opacity: 1; stroke-width: 2px; opacity: 1;\"/><path class=\"js-line\" d=\"M79.52,119.78L183.3,119.78\" style=\"vector-effect: non-scaling-stroke; fill: none; stroke: rgb(174, 199, 232); stroke-opacity: 1; stroke-width: 2px; opacity: 1;\"/><path class=\"js-line\" d=\"M79.52,83.56L103.5,83.56\" style=\"vector-effect: non-scaling-stroke; fill: none; stroke: rgb(174, 199, 232); stroke-opacity: 1; stroke-width: 2px; opacity: 1;\"/></g><g class=\"points\"/><g class=\"text\"/></g><g class=\"trace scatter tracecee945\" style=\"stroke-miterlimit: 2; opacity: 1;\"><g class=\"fills\"/><g class=\"errorbars\"/><g class=\"lines\"><path class=\"js-line\" d=\"M183.3,128.13L183.3,111.42\" style=\"vector-effect: non-scaling-stroke; fill: none; stroke: rgb(174, 199, 232); stroke-opacity: 1; stroke-width: 2px; opacity: 1;\"/><path class=\"js-line\" d=\"M183.3,128.13L266.91,128.13\" style=\"vector-effect: non-scaling-stroke; fill: none; stroke: rgb(174, 199, 232); stroke-opacity: 1; stroke-width: 2px; opacity: 1;\"/><path class=\"js-line\" d=\"M183.3,111.42L267.46,111.42\" style=\"vector-effect: non-scaling-stroke; fill: none; stroke: rgb(174, 199, 232); stroke-opacity: 1; stroke-width: 2px; opacity: 1;\"/></g><g class=\"points\"/><g class=\"text\"/></g><g class=\"trace scatter tracef8068c\" style=\"stroke-miterlimit: 2; opacity: 1;\"><g class=\"fills\"><g><path class=\"js-fill\" d=\"M267.46,100.27L219.18,100.27L219.18,89.13L267.46,89.13Z\" style=\"fill: rgb(174, 199, 232); fill-opacity: 0.5; stroke-width: 0;\"/></g></g><g class=\"errorbars\"/><g class=\"lines\"><path class=\"js-line\" d=\"M267.46,100.27L219.18,100.27L219.18,89.13L267.46,89.13\" style=\"vector-effect: non-scaling-stroke; fill: none; stroke: rgb(174, 199, 232); stroke-opacity: 1; stroke-width: 2px; opacity: 1;\"/></g><g class=\"points\"/><g class=\"text\"/></g><g class=\"trace scatter trace8896c4\" style=\"stroke-miterlimit: 2; opacity: 1;\"><g class=\"fills\"/><g class=\"errorbars\"/><g class=\"lines\"><path class=\"js-line\" d=\"M176.89,234.01L176.89,222.86\" style=\"vector-effect: non-scaling-stroke; fill: none; stroke: rgb(174, 199, 232); stroke-opacity: 1; stroke-width: 2px; opacity: 1;\"/><path class=\"js-line\" d=\"M176.89,234.01L267.46,234.01\" style=\"vector-effect: non-scaling-stroke; fill: none; stroke: rgb(174, 199, 232); stroke-opacity: 1; stroke-width: 2px; opacity: 1;\"/><path class=\"js-line\" d=\"M176.89,222.86L267.46,222.86\" style=\"vector-effect: non-scaling-stroke; fill: none; stroke: rgb(174, 199, 232); stroke-opacity: 1; stroke-width: 2px; opacity: 1;\"/></g><g class=\"points\"/><g class=\"text\"/></g><g class=\"trace scatter tracee2cc99\" style=\"stroke-miterlimit: 2; opacity: 1;\"><g class=\"fills\"/><g class=\"errorbars\"/><g class=\"lines\"><path class=\"js-line\" d=\"M153.59,268.66L153.59,220.07\" style=\"vector-effect: non-scaling-stroke; fill: none; stroke: rgb(174, 199, 232); stroke-opacity: 1; stroke-width: 2px; opacity: 1;\"/><path class=\"js-line\" d=\"M153.59,268.66L168.71,268.66\" style=\"vector-effect: non-scaling-stroke; fill: none; stroke: rgb(174, 199, 232); stroke-opacity: 1; stroke-width: 2px; opacity: 1;\"/><path class=\"js-line\" d=\"M153.59,220.07L165.33,220.07\" style=\"vector-effect: non-scaling-stroke; fill: none; stroke: rgb(174, 199, 232); stroke-opacity: 1; stroke-width: 2px; opacity: 1;\"/></g><g class=\"points\"/><g class=\"text\"/></g><g class=\"trace scatter tracea9b3c0\" style=\"stroke-miterlimit: 2; opacity: 1;\"><g class=\"fills\"/><g class=\"errorbars\"/><g class=\"lines\"><path class=\"js-line\" d=\"M180.86,77.98L180.86,66.84\" style=\"vector-effect: non-scaling-stroke; fill: none; stroke: rgb(174, 199, 232); stroke-opacity: 1; stroke-width: 2px; opacity: 1;\"/><path class=\"js-line\" d=\"M180.86,77.98L267.46,77.98\" style=\"vector-effect: non-scaling-stroke; fill: none; stroke: rgb(174, 199, 232); stroke-opacity: 1; stroke-width: 2px; opacity: 1;\"/><path class=\"js-line\" d=\"M180.86,66.84L267.46,66.84\" style=\"vector-effect: non-scaling-stroke; fill: none; stroke: rgb(174, 199, 232); stroke-opacity: 1; stroke-width: 2px; opacity: 1;\"/></g><g class=\"points\"/><g class=\"text\"/></g><g class=\"trace scatter trace8a40eb\" style=\"stroke-miterlimit: 2; opacity: 1;\"><g class=\"fills\"/><g class=\"errorbars\"/><g class=\"lines\"><path class=\"js-line\" d=\"M187.33,155.99L187.33,144.85\" style=\"vector-effect: non-scaling-stroke; fill: none; stroke: rgb(255, 187, 120); stroke-opacity: 1; stroke-width: 2px; opacity: 1;\"/><path class=\"js-line\" d=\"M187.33,155.99L267.46,155.99\" style=\"vector-effect: non-scaling-stroke; fill: none; stroke: rgb(255, 187, 120); stroke-opacity: 1; stroke-width: 2px; opacity: 1;\"/><path class=\"js-line\" d=\"M187.33,144.85L267.46,144.85\" style=\"vector-effect: non-scaling-stroke; fill: none; stroke: rgb(255, 187, 120); stroke-opacity: 1; stroke-width: 2px; opacity: 1;\"/></g><g class=\"points\"/><g class=\"text\"/></g><g class=\"trace scatter trace2facd6\" style=\"stroke-miterlimit: 2; opacity: 1;\"><g class=\"fills\"/><g class=\"errorbars\"/><g class=\"lines\"/><g class=\"points\"><path class=\"point plotly-customdata\" transform=\"translate(187.33,150.42)\" d=\"M4,0A4,4 0 1,1 0,-4A4,4 0 0,1 4,0Z\" style=\"opacity: 0.7; stroke-width: 1px; fill: rgb(255, 187, 120); fill-opacity: 1; stroke: rgb(255, 255, 255); stroke-opacity: 1;\"/><path class=\"point plotly-customdata\" transform=\"translate(18.37,192.17)\" d=\"M4,0A4,4 0 1,1 0,-4A4,4 0 0,1 4,0Z\" style=\"opacity: 0.7; stroke-width: 1px; fill: rgb(102, 102, 102); fill-opacity: 1; stroke: rgb(255, 255, 255); stroke-opacity: 1;\"/><path class=\"point plotly-customdata\" transform=\"translate(182.39,286.94)\" d=\"M2,0A2,2 0 1,1 0,-2A2,2 0 0,1 2,0Z\" style=\"opacity: 0.7; stroke-width: 1px; fill: rgb(174, 199, 232); fill-opacity: 1; stroke: rgb(255, 255, 255); stroke-opacity: 1;\"/><path class=\"point plotly-customdata\" transform=\"translate(165.33,220.07)\" d=\"M2,0A2,2 0 1,1 0,-2A2,2 0 0,1 2,0Z\" style=\"opacity: 0.7; stroke-width: 1px; fill: rgb(174, 199, 232); fill-opacity: 1; stroke: rgb(255, 255, 255); stroke-opacity: 1;\"/><path class=\"point plotly-customdata\" transform=\"translate(168.71,268.66)\" d=\"M4,0A4,4 0 1,1 0,-4A4,4 0 0,1 4,0Z\" style=\"opacity: 0.7; stroke-width: 1px; fill: rgb(174, 199, 232); fill-opacity: 1; stroke: rgb(255, 255, 255); stroke-opacity: 1;\"/><path class=\"point plotly-customdata\" transform=\"translate(32.74,139.97)\" d=\"M4,0A4,4 0 1,1 0,-4A4,4 0 0,1 4,0Z\" style=\"opacity: 0.7; stroke-width: 1px; fill: rgb(102, 102, 102); fill-opacity: 1; stroke: rgb(255, 255, 255); stroke-opacity: 1;\"/><path class=\"point plotly-customdata\" transform=\"translate(103.54,178.28)\" d=\"M4,0A4,4 0 1,1 0,-4A4,4 0 0,1 4,0Z\" style=\"opacity: 0.7; stroke-width: 1px; fill: rgb(102, 102, 102); fill-opacity: 1; stroke: rgb(255, 255, 255); stroke-opacity: 1;\"/><path class=\"point plotly-customdata\" transform=\"translate(267.41,195)\" d=\"M4,0A4,4 0 1,1 0,-4A4,4 0 0,1 4,0Z\" style=\"opacity: 0.7; stroke-width: 1px; fill: rgb(174, 199, 232); fill-opacity: 1; stroke: rgb(255, 255, 255); stroke-opacity: 1;\"/><path class=\"point plotly-customdata\" transform=\"translate(177.68,317.59)\" d=\"M2,0A2,2 0 1,1 0,-2A2,2 0 0,1 2,0Z\" style=\"opacity: 0.7; stroke-width: 1px; fill: rgb(174, 199, 232); fill-opacity: 1; stroke: rgb(255, 255, 255); stroke-opacity: 1;\"/><path class=\"point plotly-customdata\" transform=\"translate(179.08,277.19)\" d=\"M2,0A2,2 0 1,1 0,-2A2,2 0 0,1 2,0Z\" style=\"opacity: 0.7; stroke-width: 1px; fill: rgb(174, 199, 232); fill-opacity: 1; stroke: rgb(255, 255, 255); stroke-opacity: 1;\"/><path class=\"point plotly-customdata\" transform=\"translate(189.35,295.3)\" d=\"M4,0A4,4 0 1,1 0,-4A4,4 0 0,1 4,0Z\" style=\"opacity: 0.7; stroke-width: 1px; fill: rgb(174, 199, 232); fill-opacity: 1; stroke: rgb(255, 255, 255); stroke-opacity: 1;\"/><path class=\"point plotly-customdata\" transform=\"translate(129.28,161.57)\" d=\"M4,0A4,4 0 1,1 0,-4A4,4 0 0,1 4,0Z\" style=\"opacity: 0.7; stroke-width: 1px; fill: rgb(255, 187, 120); fill-opacity: 1; stroke: rgb(255, 255, 255); stroke-opacity: 1;\"/><path class=\"point plotly-customdata\" transform=\"translate(266.91,128.13)\" d=\"M4,0A4,4 0 1,1 0,-4A4,4 0 0,1 4,0Z\" style=\"opacity: 0.7; stroke-width: 1px; fill: rgb(174, 199, 232); fill-opacity: 1; stroke: rgb(255, 255, 255); stroke-opacity: 1;\"/><path class=\"point plotly-customdata\" transform=\"translate(103.5,83.56)\" d=\"M4,0A4,4 0 1,1 0,-4A4,4 0 0,1 4,0Z\" style=\"opacity: 0.7; stroke-width: 1px; fill: rgb(174, 199, 232); fill-opacity: 1; stroke: rgb(255, 255, 255); stroke-opacity: 1;\"/><path class=\"point plotly-customdata\" transform=\"translate(175.85,266.74)\" d=\"M2,0A2,2 0 1,1 0,-2A2,2 0 0,1 2,0Z\" style=\"opacity: 0.7; stroke-width: 1px; fill: rgb(174, 199, 232); fill-opacity: 1; stroke: rgb(255, 255, 255); stroke-opacity: 1;\"/><path class=\"point plotly-customdata\" transform=\"translate(197.51,172.71)\" d=\"M4,0A4,4 0 1,1 0,-4A4,4 0 0,1 4,0Z\" style=\"opacity: 0.7; stroke-width: 1px; fill: rgb(255, 187, 120); fill-opacity: 1; stroke: rgb(255, 255, 255); stroke-opacity: 1;\"/><path class=\"point plotly-customdata\" transform=\"translate(171.9,292.16)\" d=\"M2,0A2,2 0 1,1 0,-2A2,2 0 0,1 2,0Z\" style=\"opacity: 0.7; stroke-width: 1px; fill: rgb(174, 199, 232); fill-opacity: 1; stroke: rgb(255, 255, 255); stroke-opacity: 1;\"/><path class=\"point plotly-customdata\" transform=\"translate(79.52,101.67)\" d=\"M4,0A4,4 0 1,1 0,-4A4,4 0 0,1 4,0Z\" style=\"opacity: 0.7; stroke-width: 1px; fill: rgb(174, 199, 232); fill-opacity: 1; stroke: rgb(255, 255, 255); stroke-opacity: 1;\"/><path class=\"point plotly-customdata\" transform=\"translate(183.3,119.78)\" d=\"M4,0A4,4 0 1,1 0,-4A4,4 0 0,1 4,0Z\" style=\"opacity: 0.7; stroke-width: 1px; fill: rgb(174, 199, 232); fill-opacity: 1; stroke: rgb(255, 255, 255); stroke-opacity: 1;\"/><path class=\"point plotly-customdata\" transform=\"translate(219.18,94.7)\" d=\"M4,0A4,4 0 1,1 0,-4A4,4 0 0,1 4,0Z\" style=\"opacity: 0.7; stroke-width: 1px; fill: rgb(174, 199, 232); fill-opacity: 1; stroke: rgb(255, 255, 255); stroke-opacity: 1;\"/><path class=\"point plotly-customdata\" transform=\"translate(176.89,228.43)\" d=\"M4,0A4,4 0 1,1 0,-4A4,4 0 0,1 4,0Z\" style=\"opacity: 0.7; stroke-width: 1px; fill: rgb(174, 199, 232); fill-opacity: 1; stroke: rgb(255, 255, 255); stroke-opacity: 1;\"/><path class=\"point plotly-customdata\" transform=\"translate(153.59,244.37)\" d=\"M4,0A4,4 0 1,1 0,-4A4,4 0 0,1 4,0Z\" style=\"opacity: 0.7; stroke-width: 1px; fill: rgb(174, 199, 232); fill-opacity: 1; stroke: rgb(255, 255, 255); stroke-opacity: 1;\"/><path class=\"point plotly-customdata\" transform=\"translate(180.86,72.41)\" d=\"M4,0A4,4 0 1,1 0,-4A4,4 0 0,1 4,0Z\" style=\"opacity: 0.7; stroke-width: 1px; fill: rgb(174, 199, 232); fill-opacity: 1; stroke: rgb(255, 255, 255); stroke-opacity: 1;\"/></g><g class=\"text\"/></g></g></g><g class=\"overplot\"/><path class=\"xlines-above crisp\" d=\"M0,0\" style=\"fill: none;\"/><path class=\"ylines-above crisp\" d=\"M0,0\" style=\"fill: none;\"/><g class=\"overlines-above\"/><g class=\"xaxislayer-above\"><g class=\"x2tick\"><text text-anchor=\"middle\" x=\"0\" y=\"463\" transform=\"translate(90.63,0)\" style=\"font-family: 'Open Sans', verdana, arial, sans-serif; font-size: 12px; fill: rgb(68, 68, 68); fill-opacity: 1; white-space: pre;\">0.8</text></g><g class=\"x2tick\"><text text-anchor=\"middle\" x=\"0\" y=\"463\" transform=\"translate(147.34,0)\" style=\"font-family: 'Open Sans', verdana, arial, sans-serif; font-size: 12px; fill: rgb(68, 68, 68); fill-opacity: 1; white-space: pre;\">0.6</text></g><g class=\"x2tick\"><text text-anchor=\"middle\" x=\"0\" y=\"463\" transform=\"translate(204.05,0)\" style=\"font-family: 'Open Sans', verdana, arial, sans-serif; font-size: 12px; fill: rgb(68, 68, 68); fill-opacity: 1; white-space: pre;\">0.4</text></g><g class=\"x2tick\"><text text-anchor=\"middle\" x=\"0\" y=\"463\" transform=\"translate(260.76,0)\" style=\"font-family: 'Open Sans', verdana, arial, sans-serif; font-size: 12px; fill: rgb(68, 68, 68); fill-opacity: 1; white-space: pre;\">0.2</text></g><g class=\"x2tick\"><text text-anchor=\"middle\" x=\"0\" y=\"463\" transform=\"translate(317.46,0)\" style=\"font-family: 'Open Sans', verdana, arial, sans-serif; font-size: 12px; fill: rgb(68, 68, 68); fill-opacity: 1; white-space: pre;\">0</text></g></g><g class=\"yaxislayer-above\"/><g class=\"overaxes-above\"/></g><g class=\"subplot x3y\"><g class=\"layer-subplot\"><g class=\"shapelayer\"/><g class=\"imagelayer\"/></g><g class=\"gridlayer\"><g class=\"x3\"/><g class=\"y\"/></g><g class=\"zerolinelayer\"/><path class=\"xlines-below\"/><path class=\"ylines-below\"/><g class=\"overlines-below\"/><g class=\"xaxislayer-below\"/><g class=\"yaxislayer-below\"/><g class=\"overaxes-below\"/><g class=\"plot\" transform=\"translate(322.8133971291866,60)\" clip-path=\"url('#clip42aaa8x3yplot')\"><g class=\"heatmaplayer mlayer\"><g class=\"hm\"><image xmlns=\"http://www.w3.org/2000/svg\" preserveAspectRatio=\"none\" height=\"267\" width=\"13\" x=\"0\" y=\"61.27\" xlink:href=\"data:image/png;base64,iVBORw0KGgoAAAANSUhEUgAAAA0AAAELCAYAAAACxQzVAAAA10lEQVRoQ+3ZwQ2DMAxG4bJ1p+oCHaCrdAs4lAtqVRQTWYn1cSYC/X5+OGF5vN7rrfFaLPokVjKIRhjqBoHyK5TD6Ep62JPeoYNKfmoGp5zCNGGHJoQRjDpgNLgsvd4clIdstD7v7acEFu1EVAwCRoWLmwcsjGB0nI3y2PMk7HVgL6Qw0/Ic07I6qdNUe3c2AmwHYGEEIxj96gI/4vZUEoNgIzZiIzb644FEG4X2hBRGYRRGYWMojI3YiI3YiI3OTTj6ZBkaRysuOi/l9x2Km3+aMzh7EYw2vLU37xosA/sAAAAASUVORK5CYII=\" style=\"opacity: 1;\"/></g></g></g><g class=\"overplot\"/><path class=\"xlines-above crisp\" d=\"M0,0\" style=\"fill: none;\"/><path class=\"ylines-above crisp\" d=\"M0,0\" style=\"fill: none;\"/><g class=\"overlines-above\"/><g class=\"xaxislayer-above\"/><g class=\"yaxislayer-above\"/><g class=\"overaxes-above\"/></g></g><g class=\"polarlayer\"/><g class=\"ternarylayer\"/><g class=\"geolayer\"/><g class=\"funnelarealayer\"/><g class=\"pielayer\"/><g class=\"treemaplayer\"/><g class=\"sunburstlayer\"/><g class=\"glimages\"/><defs id=\"topdefs-42aaa8\"><g class=\"clips\"/></defs><g class=\"layer-above\"><g class=\"imagelayer\"/><g class=\"shapelayer\"/></g><g class=\"infolayer\"><g class=\"cbc31564 colorbar\" transform=\"translate(50,60)\"><rect class=\"cbbg\" x=\"569.5\" y=\"-0.5\" width=\"68.03125\" height=\"391\" style=\"fill: rgb(0, 0, 0); fill-opacity: 0; stroke: rgb(68, 68, 68); stroke-opacity: 1; stroke-width: 0;\"/><g class=\"cbfills\" transform=\"translate(0,10)\"><rect class=\"cbfill\" x=\"580\" width=\"30\" y=\"0\" height=\"370\" style=\"fill: url('#g42aaa8-cbc31564');\"/></g><g class=\"cblines\" transform=\"translate(0,10)\"/><g class=\"cbaxis crisp\" transform=\"translate(0,-60)\"><g class=\"ycbc31564tick\"><text text-anchor=\"start\" x=\"613.4\" y=\"4.199999999999999\" transform=\"translate(0,440)\" style=\"font-family: 'Open Sans', verdana, arial, sans-serif; font-size: 12px; fill: rgb(68, 68, 68); fill-opacity: 1; white-space: pre;\">0</text></g><g class=\"ycbc31564tick\"><text text-anchor=\"start\" x=\"613.4\" y=\"4.199999999999999\" transform=\"translate(0,397.88)\" style=\"font-family: 'Open Sans', verdana, arial, sans-serif; font-size: 12px; fill: rgb(68, 68, 68); fill-opacity: 1; white-space: pre;\">0.1</text></g><g class=\"ycbc31564tick\"><text text-anchor=\"start\" x=\"613.4\" y=\"4.199999999999999\" transform=\"translate(0,355.77)\" style=\"font-family: 'Open Sans', verdana, arial, sans-serif; font-size: 12px; fill: rgb(68, 68, 68); fill-opacity: 1; white-space: pre;\">0.2</text></g><g class=\"ycbc31564tick\"><text text-anchor=\"start\" x=\"613.4\" y=\"4.199999999999999\" transform=\"translate(0,313.65)\" style=\"font-family: 'Open Sans', verdana, arial, sans-serif; font-size: 12px; fill: rgb(68, 68, 68); fill-opacity: 1; white-space: pre;\">0.3</text></g><g class=\"ycbc31564tick\"><text text-anchor=\"start\" x=\"613.4\" y=\"4.199999999999999\" transform=\"translate(0,271.53)\" style=\"font-family: 'Open Sans', verdana, arial, sans-serif; font-size: 12px; fill: rgb(68, 68, 68); fill-opacity: 1; white-space: pre;\">0.4</text></g><g class=\"ycbc31564tick\"><text text-anchor=\"start\" x=\"613.4\" y=\"4.199999999999999\" transform=\"translate(0,229.41)\" style=\"font-family: 'Open Sans', verdana, arial, sans-serif; font-size: 12px; fill: rgb(68, 68, 68); fill-opacity: 1; white-space: pre;\">0.5</text></g><g class=\"ycbc31564tick\"><text text-anchor=\"start\" x=\"613.4\" y=\"4.199999999999999\" transform=\"translate(0,187.3)\" style=\"font-family: 'Open Sans', verdana, arial, sans-serif; font-size: 12px; fill: rgb(68, 68, 68); fill-opacity: 1; white-space: pre;\">0.6</text></g><g class=\"ycbc31564tick\"><text text-anchor=\"start\" x=\"613.4\" y=\"4.199999999999999\" transform=\"translate(0,145.18)\" style=\"font-family: 'Open Sans', verdana, arial, sans-serif; font-size: 12px; fill: rgb(68, 68, 68); fill-opacity: 1; white-space: pre;\">0.7</text></g><g class=\"ycbc31564tick\"><text text-anchor=\"start\" x=\"613.4\" y=\"4.199999999999999\" transform=\"translate(0,103.06)\" style=\"font-family: 'Open Sans', verdana, arial, sans-serif; font-size: 12px; fill: rgb(68, 68, 68); fill-opacity: 1; white-space: pre;\">0.8</text></g></g><g class=\"cbtitleunshift\" transform=\"translate(-50,-60)\"><g class=\"cbtitle\"/></g><rect class=\"cboutline\" x=\"580\" y=\"10\" width=\"30\" height=\"370\" style=\"stroke: rgb(68, 68, 68); stroke-opacity: 1; fill: none; stroke-width: 1;\"/></g><g class=\"g-gtitle\"/><g class=\"g-x2title\"/></g></svg>"
      ],
      "text/html": [
       "<div\n",
       "    class=\"webio-mountpoint\"\n",
       "    data-webio-mountpoint=\"16479599562516336908\"\n",
       ">\n",
       "    <script>\n",
       "    if (window.require && require.defined && require.defined(\"nbextensions/webio-jupyter-notebook\")) {\n",
       "        console.log(\"Jupyter WebIO extension detected, not mounting.\");\n",
       "    } else if (window.WebIO) {\n",
       "        WebIO.mount(\n",
       "            document.querySelector('[data-webio-mountpoint=\"16479599562516336908\"]'),\n",
       "            {\"props\":{},\"nodeType\":\"Scope\",\"type\":\"node\",\"instanceArgs\":{\"imports\":{\"data\":[{\"name\":\"Plotly\",\"type\":\"js\",\"url\":\"\\/assetserver\\/e6903599031aaef8675931dfcd7df98a1aeffbfc-plotly-latest.min.js\"},{\"name\":null,\"type\":\"js\",\"url\":\"\\/assetserver\\/74a5dea81f21b0b802ef1ee92f1c8a504eac1a0c-plotly_webio.bundle.js\"}],\"type\":\"async_block\"},\"id\":\"18185825420367847812\",\"handlers\":{\"_toImage\":[\"(function (options){return this.Plotly.toImage(this.plotElem,options).then((function (data){return WebIO.setval({\\\"name\\\":\\\"image\\\",\\\"scope\\\":\\\"18185825420367847812\\\",\\\"id\\\":\\\"8812182755079249505\\\",\\\"type\\\":\\\"observable\\\"},data)}))})\"],\"__get_gd_contents\":[\"(function (prop){prop==\\\"data\\\" ? (WebIO.setval({\\\"name\\\":\\\"__gd_contents\\\",\\\"scope\\\":\\\"18185825420367847812\\\",\\\"id\\\":\\\"2427930279266977284\\\",\\\"type\\\":\\\"observable\\\"},this.plotElem.data)) : undefined; return prop==\\\"layout\\\" ? (WebIO.setval({\\\"name\\\":\\\"__gd_contents\\\",\\\"scope\\\":\\\"18185825420367847812\\\",\\\"id\\\":\\\"2427930279266977284\\\",\\\"type\\\":\\\"observable\\\"},this.plotElem.layout)) : undefined})\"],\"_downloadImage\":[\"(function (options){return this.Plotly.downloadImage(this.plotElem,options)})\"],\"_commands\":[\"(function (args){var fn=args.shift(); var elem=this.plotElem; var Plotly=this.Plotly; args.unshift(elem); return Plotly[fn].apply(this,args)})\"]},\"systemjs_options\":null,\"mount_callbacks\":[\"function () {\\n    var handler = ((function (Plotly,PlotlyWebIO){PlotlyWebIO.init(WebIO); var gd=this.dom.querySelector(\\\"#plot-b3a3fd87-05c7-4f06-b6bf-c043df1407d2\\\"); this.plotElem=gd; this.Plotly=Plotly; (window.Blink!==undefined) ? (gd.style.width=\\\"100%\\\", gd.style.height=\\\"100vh\\\", gd.style.marginLeft=\\\"0%\\\", gd.style.marginTop=\\\"0vh\\\") : undefined; window.onresize=(function (){return Plotly.Plots.resize(gd)}); Plotly.newPlot(gd,[{\\\"y\\\":[0.5,1.5,2.5,3.5,4.5,5.5,6.5,7.5,8.5,9.5,10.5,11.5,13.5,15.5,16.5,17.5,19.5,20.5,22.5,23.5,24.5],\\\"type\\\":\\\"heatmap\\\",\\\"colorscale\\\":[[0.0,\\\"#000004\\\"],[0.00392156862745098,\\\"#010005\\\"],[0.00784313725490196,\\\"#010106\\\"],[0.011764705882352941,\\\"#010108\\\"],[0.01568627450980392,\\\"#020109\\\"],[0.0196078431372549,\\\"#02020B\\\"],[0.023529411764705882,\\\"#02020D\\\"],[0.027450980392156862,\\\"#03030F\\\"],[0.03137254901960784,\\\"#030312\\\"],[0.03529411764705882,\\\"#040414\\\"],[0.0392156862745098,\\\"#050416\\\"],[0.043137254901960784,\\\"#060518\\\"],[0.047058823529411764,\\\"#06051A\\\"],[0.050980392156862744,\\\"#07061C\\\"],[0.054901960784313725,\\\"#08071E\\\"],[0.058823529411764705,\\\"#090720\\\"],[0.06274509803921569,\\\"#0A0822\\\"],[0.06666666666666667,\\\"#0B0924\\\"],[0.07058823529411765,\\\"#0C0926\\\"],[0.07450980392156863,\\\"#0D0A29\\\"],[0.0784313725490196,\\\"#0E0B2B\\\"],[0.08235294117647059,\\\"#100B2D\\\"],[0.08627450980392157,\\\"#110C2F\\\"],[0.09019607843137255,\\\"#120D31\\\"],[0.09411764705882353,\\\"#130D34\\\"],[0.09803921568627451,\\\"#140E36\\\"],[0.10196078431372549,\\\"#150E38\\\"],[0.10588235294117647,\\\"#160F3B\\\"],[0.10980392156862745,\\\"#180F3D\\\"],[0.11372549019607843,\\\"#19103F\\\"],[0.11764705882352941,\\\"#1A1042\\\"],[0.12156862745098039,\\\"#1C1044\\\"],[0.12549019607843137,\\\"#1D1147\\\"],[0.12941176470588237,\\\"#1E1149\\\"],[0.13333333333333333,\\\"#20114B\\\"],[0.13725490196078433,\\\"#21114E\\\"],[0.1411764705882353,\\\"#221150\\\"],[0.1450980392156863,\\\"#241253\\\"],[0.14901960784313725,\\\"#251255\\\"],[0.15294117647058825,\\\"#271258\\\"],[0.1568627450980392,\\\"#29115A\\\"],[0.1607843137254902,\\\"#2A115C\\\"],[0.16470588235294117,\\\"#2C115F\\\"],[0.16862745098039217,\\\"#2D1161\\\"],[0.17254901960784313,\\\"#2F1163\\\"],[0.17647058823529413,\\\"#311165\\\"],[0.1803921568627451,\\\"#331067\\\"],[0.1843137254901961,\\\"#341069\\\"],[0.18823529411764706,\\\"#36106B\\\"],[0.19215686274509805,\\\"#38106C\\\"],[0.19607843137254902,\\\"#390F6E\\\"],[0.2,\\\"#3B0F70\\\"],[0.20392156862745098,\\\"#3D0F71\\\"],[0.20784313725490197,\\\"#3F0F72\\\"],[0.21176470588235294,\\\"#400F74\\\"],[0.21568627450980393,\\\"#420F75\\\"],[0.2196078431372549,\\\"#440F76\\\"],[0.2235294117647059,\\\"#451077\\\"],[0.22745098039215686,\\\"#471078\\\"],[0.23137254901960785,\\\"#491078\\\"],[0.23529411764705882,\\\"#4A1079\\\"],[0.23921568627450981,\\\"#4C117A\\\"],[0.24313725490196078,\\\"#4E117B\\\"],[0.24705882352941178,\\\"#4F127B\\\"],[0.25098039215686274,\\\"#51127C\\\"],[0.2549019607843137,\\\"#52137C\\\"],[0.25882352941176473,\\\"#54137D\\\"],[0.2627450980392157,\\\"#56147D\\\"],[0.26666666666666666,\\\"#57157E\\\"],[0.27058823529411763,\\\"#59157E\\\"],[0.27450980392156865,\\\"#5A167E\\\"],[0.2784313725490196,\\\"#5C167F\\\"],[0.2823529411764706,\\\"#5D177F\\\"],[0.28627450980392155,\\\"#5F187F\\\"],[0.2901960784313726,\\\"#601880\\\"],[0.29411764705882354,\\\"#621980\\\"],[0.2980392156862745,\\\"#641A80\\\"],[0.30196078431372547,\\\"#651A80\\\"],[0.3058823529411765,\\\"#671B80\\\"],[0.30980392156862746,\\\"#681C81\\\"],[0.3137254901960784,\\\"#6A1C81\\\"],[0.3176470588235294,\\\"#6B1D81\\\"],[0.3215686274509804,\\\"#6D1D81\\\"],[0.3254901960784314,\\\"#6E1E81\\\"],[0.32941176470588235,\\\"#701F81\\\"],[0.3333333333333333,\\\"#721F81\\\"],[0.33725490196078434,\\\"#732081\\\"],[0.3411764705882353,\\\"#752181\\\"],[0.34509803921568627,\\\"#762181\\\"],[0.34901960784313724,\\\"#782281\\\"],[0.35294117647058826,\\\"#792282\\\"],[0.3568627450980392,\\\"#7B2382\\\"],[0.3607843137254902,\\\"#7C2382\\\"],[0.36470588235294116,\\\"#7E2482\\\"],[0.3686274509803922,\\\"#802582\\\"],[0.37254901960784315,\\\"#812581\\\"],[0.3764705882352941,\\\"#832681\\\"],[0.3803921568627451,\\\"#842681\\\"],[0.3843137254901961,\\\"#862781\\\"],[0.38823529411764707,\\\"#882781\\\"],[0.39215686274509803,\\\"#892881\\\"],[0.396078431372549,\\\"#8B2981\\\"],[0.4,\\\"#8C2981\\\"],[0.403921568627451,\\\"#8E2A81\\\"],[0.40784313725490196,\\\"#902A81\\\"],[0.4117647058823529,\\\"#912B81\\\"],[0.41568627450980394,\\\"#932B80\\\"],[0.4196078431372549,\\\"#942C80\\\"],[0.4235294117647059,\\\"#962C80\\\"],[0.42745098039215684,\\\"#982D80\\\"],[0.43137254901960786,\\\"#992D80\\\"],[0.43529411764705883,\\\"#9B2E7F\\\"],[0.4392156862745098,\\\"#9C2E7F\\\"],[0.44313725490196076,\\\"#9E2F7F\\\"],[0.4470588235294118,\\\"#A02F7F\\\"],[0.45098039215686275,\\\"#A1307E\\\"],[0.4549019607843137,\\\"#A3307E\\\"],[0.4588235294117647,\\\"#A5317E\\\"],[0.4627450980392157,\\\"#A6317D\\\"],[0.4666666666666667,\\\"#A8327D\\\"],[0.47058823529411764,\\\"#AA337D\\\"],[0.4745098039215686,\\\"#AB337C\\\"],[0.47843137254901963,\\\"#AD347C\\\"],[0.4823529411764706,\\\"#AE347B\\\"],[0.48627450980392156,\\\"#B0357B\\\"],[0.49019607843137253,\\\"#B2357B\\\"],[0.49411764705882355,\\\"#B3367A\\\"],[0.4980392156862745,\\\"#B5367A\\\"],[0.5019607843137255,\\\"#B73779\\\"],[0.5058823529411764,\\\"#B83779\\\"],[0.5098039215686274,\\\"#BA3878\\\"],[0.5137254901960784,\\\"#BC3978\\\"],[0.5176470588235295,\\\"#BD3977\\\"],[0.5215686274509804,\\\"#BF3A77\\\"],[0.5254901960784314,\\\"#C03A76\\\"],[0.5294117647058824,\\\"#C23B75\\\"],[0.5333333333333333,\\\"#C43C75\\\"],[0.5372549019607843,\\\"#C53C74\\\"],[0.5411764705882353,\\\"#C73D73\\\"],[0.5450980392156862,\\\"#C83E73\\\"],[0.5490196078431373,\\\"#CA3E72\\\"],[0.5529411764705883,\\\"#CC3F71\\\"],[0.5568627450980392,\\\"#CD4071\\\"],[0.5607843137254902,\\\"#CF4070\\\"],[0.5647058823529412,\\\"#D0416F\\\"],[0.5686274509803921,\\\"#D2426F\\\"],[0.5725490196078431,\\\"#D3436E\\\"],[0.5764705882352941,\\\"#D5446D\\\"],[0.5803921568627451,\\\"#D6456C\\\"],[0.5843137254901961,\\\"#D8456C\\\"],[0.5882352941176471,\\\"#D9466B\\\"],[0.592156862745098,\\\"#DB476A\\\"],[0.596078431372549,\\\"#DC4869\\\"],[0.6,\\\"#DE4968\\\"],[0.6039215686274509,\\\"#DF4A68\\\"],[0.6078431372549019,\\\"#E04C67\\\"],[0.611764705882353,\\\"#E24D66\\\"],[0.615686274509804,\\\"#E34E65\\\"],[0.6196078431372549,\\\"#E44F64\\\"],[0.6235294117647059,\\\"#E55064\\\"],[0.6274509803921569,\\\"#E75263\\\"],[0.6313725490196078,\\\"#E85362\\\"],[0.6352941176470588,\\\"#E95462\\\"],[0.6392156862745098,\\\"#EA5661\\\"],[0.6431372549019608,\\\"#EB5760\\\"],[0.6470588235294118,\\\"#EC5860\\\"],[0.6509803921568628,\\\"#ED5A5F\\\"],[0.6549019607843137,\\\"#EE5B5E\\\"],[0.6588235294117647,\\\"#EF5D5E\\\"],[0.6627450980392157,\\\"#F05F5E\\\"],[0.6666666666666666,\\\"#F1605D\\\"],[0.6705882352941176,\\\"#F2625D\\\"],[0.6745098039215687,\\\"#F2645C\\\"],[0.6784313725490196,\\\"#F3655C\\\"],[0.6823529411764706,\\\"#F4675C\\\"],[0.6862745098039216,\\\"#F4695C\\\"],[0.6901960784313725,\\\"#F56B5C\\\"],[0.6941176470588235,\\\"#F66C5C\\\"],[0.6980392156862745,\\\"#F66E5C\\\"],[0.7019607843137254,\\\"#F7705C\\\"],[0.7058823529411765,\\\"#F7725C\\\"],[0.7098039215686275,\\\"#F8745C\\\"],[0.7137254901960784,\\\"#F8765C\\\"],[0.7176470588235294,\\\"#F9785D\\\"],[0.7215686274509804,\\\"#F9795D\\\"],[0.7254901960784313,\\\"#F97B5D\\\"],[0.7294117647058823,\\\"#FA7D5E\\\"],[0.7333333333333333,\\\"#FA7F5E\\\"],[0.7372549019607844,\\\"#FA815F\\\"],[0.7411764705882353,\\\"#FB835F\\\"],[0.7450980392156863,\\\"#FB8560\\\"],[0.7490196078431373,\\\"#FB8761\\\"],[0.7529411764705882,\\\"#FC8961\\\"],[0.7568627450980392,\\\"#FC8A62\\\"],[0.7607843137254902,\\\"#FC8C63\\\"],[0.7647058823529411,\\\"#FC8E64\\\"],[0.7686274509803922,\\\"#FC9065\\\"],[0.7725490196078432,\\\"#FD9266\\\"],[0.7764705882352941,\\\"#FD9467\\\"],[0.7803921568627451,\\\"#FD9668\\\"],[0.7843137254901961,\\\"#FD9869\\\"],[0.788235294117647,\\\"#FD9A6A\\\"],[0.792156862745098,\\\"#FD9B6B\\\"],[0.796078431372549,\\\"#FE9D6C\\\"],[0.8,\\\"#FE9F6D\\\"],[0.803921568627451,\\\"#FEA16E\\\"],[0.807843137254902,\\\"#FEA36F\\\"],[0.8117647058823529,\\\"#FEA571\\\"],[0.8156862745098039,\\\"#FEA772\\\"],[0.8196078431372549,\\\"#FEA973\\\"],[0.8235294117647058,\\\"#FEAA74\\\"],[0.8274509803921568,\\\"#FEAC76\\\"],[0.8313725490196079,\\\"#FEAE77\\\"],[0.8352941176470589,\\\"#FEB078\\\"],[0.8392156862745098,\\\"#FEB27A\\\"],[0.8431372549019608,\\\"#FEB47B\\\"],[0.8470588235294118,\\\"#FEB67C\\\"],[0.8509803921568627,\\\"#FEB77E\\\"],[0.8549019607843137,\\\"#FEB97F\\\"],[0.8588235294117647,\\\"#FEBB81\\\"],[0.8627450980392157,\\\"#FEBD82\\\"],[0.8666666666666667,\\\"#FEBF84\\\"],[0.8705882352941177,\\\"#FEC185\\\"],[0.8745098039215686,\\\"#FEC287\\\"],[0.8784313725490196,\\\"#FEC488\\\"],[0.8823529411764706,\\\"#FEC68A\\\"],[0.8862745098039215,\\\"#FEC88C\\\"],[0.8901960784313725,\\\"#FECA8D\\\"],[0.8941176470588236,\\\"#FECC8F\\\"],[0.8980392156862745,\\\"#FECD90\\\"],[0.9019607843137255,\\\"#FECF92\\\"],[0.9058823529411765,\\\"#FED194\\\"],[0.9098039215686274,\\\"#FED395\\\"],[0.9137254901960784,\\\"#FED597\\\"],[0.9176470588235294,\\\"#FED799\\\"],[0.9215686274509803,\\\"#FED89A\\\"],[0.9254901960784314,\\\"#FDDA9C\\\"],[0.9294117647058824,\\\"#FDDC9E\\\"],[0.9333333333333333,\\\"#FDDEA0\\\"],[0.9372549019607843,\\\"#FDE0A1\\\"],[0.9411764705882353,\\\"#FDE2A3\\\"],[0.9450980392156862,\\\"#FDE3A5\\\"],[0.9490196078431372,\\\"#FDE5A7\\\"],[0.9529411764705882,\\\"#FDE7A9\\\"],[0.9568627450980393,\\\"#FDE9AA\\\"],[0.9607843137254902,\\\"#FDEBAC\\\"],[0.9647058823529412,\\\"#FCECAE\\\"],[0.9686274509803922,\\\"#FCEEB0\\\"],[0.9725490196078431,\\\"#FCF0B2\\\"],[0.9764705882352941,\\\"#FCF2B4\\\"],[0.9803921568627451,\\\"#FCF4B6\\\"],[0.984313725490196,\\\"#FCF6B8\\\"],[0.9882352941176471,\\\"#FCF7B9\\\"],[0.9921568627450981,\\\"#FCF9BB\\\"],[0.996078431372549,\\\"#FCFBBD\\\"],[1.0,\\\"#FCFDBF\\\"]],\\\"z\\\":[[0.0,0.31665534,0.3220607,0.3275201,0.31810904,0.32837194,0.3370318,0.33872283,0.3916727,0.4006672,0.374171,0.8744048,0.8747758,0.874257,0.8739854,0.87119097,0.8711713,0.87463766,0.87692076,0.87587476],[0.31665534,0.0,0.29679877,0.31557098,0.3194592,0.3126689,0.32485792,0.33207127,0.38499457,0.39390278,0.3673112,0.87461084,0.8744635,0.87561226,0.8745393,0.8691729,0.8698858,0.87146634,0.8752062,0.87349457],[0.3220607,0.29679877,0.0,0.27551258,0.2976658,0.30132297,0.3192848,0.3362497,0.37702408,0.38833356,0.36971113,0.87368315,0.87539303,0.87658226,0.87551206,0.87110746,0.87178177,0.8739778,0.87480605,0.8753826],[0.3275201,0.31557098,0.27551258,0.0,0.3000308,0.31172553,0.32310116,0.3457592,0.38114664,0.38902387,0.35150307,0.87579864,0.87605506,0.8769734,0.87578815,0.8696641,0.8691565,0.87281704,0.8757512,0.8751405],[0.31810904,0.3194592,0.2976658,0.3000308,0.0,0.30949774,0.30719852,0.33926302,0.3790008,0.386298,0.35845697,0.87410927,0.87576133,0.875587,0.87421024,0.8706636,0.8714899,0.87382627,0.87625587,0.8754186],[0.32837194,0.3126689,0.30132297,0.31172553,0.30949774,0.0,0.32025793,0.33163574,0.36690432,0.37708533,0.35876256,0.87415695,0.8758884,0.8753005,0.8745544,0.8699187,0.87049943,0.8740456,0.87621385,0.87542385],[0.3370318,0.32485792,0.3192848,0.32310116,0.30719852,0.32025793,0.0,0.34828904,0.36425638,0.3750808,0.36696312,0.87569386,0.8762449,0.8746876,0.8747636,0.87175536,0.87202,0.87614423,0.8785028,0.8766963],[0.33872283,0.33207127,0.3362497,0.3457592,0.33926302,0.33163574,0.34828904,0.0,0.39489165,0.40160587,0.37039456,0.8752032,0.87602884,0.8776245,0.87645024,0.87196434,0.872112,0.87542886,0.87701255,0.8773422],[0.3916727,0.38499457,0.37702408,0.38114664,0.3790008,0.36690432,0.36425638,0.39489165,0.0,0.31944445,0.33723882,0.8757296,0.87491095,0.8758133,0.8752569,0.86954945,0.8697732,0.8719375,0.875345,0.87478244],[0.4006672,0.39390278,0.38833356,0.38902387,0.386298,0.37708533,0.3750808,0.40160587,0.31944445,0.0,0.36020023,0.8770099,0.87512535,0.87042767,0.8718131,0.8662026,0.8654081,0.86913,0.8715874,0.8707848],[0.374171,0.3673112,0.36971113,0.35150307,0.35845697,0.35876256,0.36696312,0.37039456,0.33723882,0.36020023,0.0,0.87422156,0.8752406,0.8766565,0.877081,0.8715389,0.8719207,0.8759368,0.8757804,0.87517196],[0.8744048,0.87461084,0.87368315,0.87579864,0.87410927,0.87415695,0.87569386,0.8752032,0.8757296,0.8770099,0.87422156,0.00018406037,0.5766835,0.57140976,0.57532716,0.80022216,0.8020271,0.82492614,0.81584287,0.8157766],[0.8747758,0.8744635,0.87539303,0.87605506,0.87576133,0.8758884,0.8762449,0.87602884,0.87491095,0.87512535,0.8752406,0.5766835,0.24673137,0.47779104,0.47473395,0.79520965,0.7991266,0.8230637,0.8205006,0.8168999],[0.874257,0.87561226,0.87658226,0.8769734,0.875587,0.8753005,0.8746876,0.8776245,0.8758133,0.87042767,0.8766565,0.57140976,0.47779104,0.0,0.28262076,0.7976608,0.7996907,0.82555205,0.822811,0.8193026],[0.8739854,0.8745393,0.87551206,0.87578815,0.87421024,0.8745544,0.8747636,0.87645024,0.8752569,0.8718131,0.877081,0.57532716,0.47473395,0.28262076,0.0,0.7945259,0.7999225,0.82202655,0.82069737,0.81667393],[0.87119097,0.8691729,0.87110746,0.8696641,0.8706636,0.8699187,0.87175536,0.87196434,0.86954945,0.8662026,0.8715389,0.80022216,0.79520965,0.7976608,0.7945259,0.0019534884,0.2962963,0.6532483,0.6336266,0.6276812],[0.8711713,0.8698858,0.87178177,0.8691565,0.8714899,0.87049943,0.87202,0.872112,0.8697732,0.8654081,0.8719207,0.8020271,0.7991266,0.7996907,0.7999225,0.2962963,0.0,0.6570149,0.6332184,0.6269551],[0.87463766,0.87146634,0.8739778,0.87281704,0.87382627,0.8740456,0.87614423,0.87542886,0.8719375,0.86913,0.8759368,0.82492614,0.8230637,0.82555205,0.82202655,0.6532483,0.6570149,0.17030352,0.5766558,0.5576049],[0.87692076,0.8752062,0.87480605,0.8757512,0.87625587,0.87621385,0.8785028,0.87701255,0.875345,0.8715874,0.8757804,0.81584287,0.8205006,0.822811,0.82069737,0.6336266,0.6332184,0.5766558,0.0,0.30545592],[0.87587476,0.87349457,0.8753826,0.8751405,0.8754186,0.87542385,0.8766963,0.8773422,0.87478244,0.8707848,0.87517196,0.8157766,0.8168999,0.8193026,0.81667393,0.6276812,0.6269551,0.5576049,0.30545592,0.0]],\\\"x\\\":[0.5,1.5,2.5,3.5,4.5,5.5,6.5,7.5,8.5,9.5,10.5,11.5,13.5,15.5,16.5,17.5,19.5,20.5,22.5,23.5,24.5]},{\\\"showlegend\\\":false,\\\"mode\\\":\\\"lines\\\",\\\"xaxis\\\":\\\"x2\\\",\\\"line\\\":{\\\"color\\\":\\\"#666666\\\"},\\\"y\\\":[8.0703125,17.4375,null,8.0703125,8.0703125,null,17.4375,17.4375,null],\\\"type\\\":\\\"scatter\\\",\\\"hoverinfo\\\":\\\"skip\\\",\\\"yaxis\\\":\\\"y\\\",\\\"x\\\":[0.8785027861595154,0.8785027861595154,null,0.8785027861595154,0.40160587430000305,null,0.8785027861595154,0.82781982421875,null]},{\\\"showlegend\\\":false,\\\"mode\\\":\\\"lines\\\",\\\"xaxis\\\":\\\"x2\\\",\\\"line\\\":{\\\"color\\\":\\\"#AEC7E8\\\"},\\\"y\\\":[3.5,5.0,null,3.5,3.5,null,5.0,5.0,null],\\\"type\\\":\\\"scatter\\\",\\\"hoverinfo\\\":\\\"skip\\\",\\\"yaxis\\\":\\\"y\\\",\\\"x\\\":[0.30003079771995544,0.30003079771995544,null,0.30003079771995544,0.27551257610321045,null,0.30003079771995544,0.0,null]},{\\\"showlegend\\\":false,\\\"mode\\\":\\\"lines\\\",\\\"xaxis\\\":\\\"x2\\\",\\\"line\\\":{\\\"color\\\":\\\"#AEC7E8\\\"},\\\"y\\\":[9.5,11.0,null,9.5,9.5,null,11.0,11.0,null],\\\"type\\\":\\\"scatter\\\",\\\"hoverinfo\\\":\\\"skip\\\",\\\"yaxis\\\":\\\"y\\\",\\\"x\\\":[0.3602002263069153,0.3602002263069153,null,0.3602002263069153,0.3194444477558136,null,0.3602002263069153,0.0,null]},{\\\"showlegend\\\":false,\\\"mode\\\":\\\"lines\\\",\\\"xaxis\\\":\\\"x2\\\",\\\"line\\\":{\\\"color\\\":\\\"#AEC7E8\\\"},\\\"y\\\":[3.78125,8.0,null,3.78125,3.78125,null,8.0,8.0,null],\\\"type\\\":\\\"scatter\\\",\\\"hoverinfo\\\":\\\"skip\\\",\\\"yaxis\\\":\\\"y\\\",\\\"x\\\":[0.34828904271125793,0.34828904271125793,null,0.34828904271125793,0.3370318114757538,null,0.34828904271125793,0.0,null]},{\\\"showlegend\\\":false,\\\"mode\\\":\\\"lines\\\",\\\"xaxis\\\":\\\"x2\\\",\\\"line\\\":{\\\"color\\\":\\\"#666666\\\"},\\\"y\\\":[14.0,20.875,null,14.0,14.0,null,20.875,20.875,null],\\\"type\\\":\\\"scatter\\\",\\\"hoverinfo\\\":\\\"skip\\\",\\\"yaxis\\\":\\\"y\\\",\\\"x\\\":[0.82781982421875,0.82781982421875,null,0.82781982421875,0.5781402587890625,null,0.82781982421875,0.662848174571991,null]},{\\\"showlegend\\\":false,\\\"mode\\\":\\\"lines\\\",\\\"xaxis\\\":\\\"x2\\\",\\\"line\\\":{\\\"color\\\":\\\"#666666\\\"},\\\"y\\\":[12.5,15.5,null,12.5,12.5,null,15.5,15.5,null],\\\"type\\\":\\\"scatter\\\",\\\"hoverinfo\\\":\\\"skip\\\",\\\"yaxis\\\":\\\"y\\\",\\\"x\\\":[0.5781402587890625,0.5781402587890625,null,0.5781402587890625,0.00018406036542728543,null,0.5781402587890625,0.48734089732170105,null]},{\\\"showlegend\\\":false,\\\"mode\\\":\\\"lines\\\",\\\"xaxis\\\":\\\"x2\\\",\\\"line\\\":{\\\"color\\\":\\\"#AEC7E8\\\"},\\\"y\\\":[18.0,18.0,19.0,19.0],\\\"type\\\":\\\"scatter\\\",\\\"fill\\\":\\\"toself\\\",\\\"hoverinfo\\\":\\\"skip\\\",\\\"yaxis\\\":\\\"y\\\",\\\"x\\\":[0.0,0.0019534884486347437,0.0019534884486347437,0.0]},{\\\"showlegend\\\":false,\\\"mode\\\":\\\"lines\\\",\\\"xaxis\\\":\\\"x2\\\",\\\"line\\\":{\\\"color\\\":\\\"#AEC7E8\\\"},\\\"y\\\":[12.0,12.0,13.0,13.0],\\\"type\\\":\\\"scatter\\\",\\\"fill\\\":\\\"toself\\\",\\\"hoverinfo\\\":\\\"skip\\\",\\\"yaxis\\\":\\\"y\\\",\\\"x\\\":[0.0,0.00018406036542728543,0.00018406036542728543,0.0]},{\\\"showlegend\\\":false,\\\"mode\\\":\\\"lines\\\",\\\"xaxis\\\":\\\"x2\\\",\\\"line\\\":{\\\"color\\\":\\\"#AEC7E8\\\"},\\\"y\\\":[1.0,2.0,null,1.0,1.0,null,2.0,2.0,null],\\\"type\\\":\\\"scatter\\\",\\\"hoverinfo\\\":\\\"skip\\\",\\\"yaxis\\\":\\\"y\\\",\\\"x\\\":[0.31665533781051636,0.31665533781051636,null,0.31665533781051636,0.0,null,0.31665533781051636,0.0,null]},{\\\"showlegend\\\":false,\\\"mode\\\":\\\"lines\\\",\\\"xaxis\\\":\\\"x2\\\",\\\"line\\\":{\\\"color\\\":\\\"#AEC7E8\\\"},\\\"y\\\":[4.25,6.0,null,4.25,4.25,null,6.0,6.0,null],\\\"type\\\":\\\"scatter\\\",\\\"hoverinfo\\\":\\\"skip\\\",\\\"yaxis\\\":\\\"y\\\",\\\"x\\\":[0.31172552704811096,0.31172552704811096,null,0.31172552704811096,0.30003079771995544,null,0.31172552704811096,0.0,null]},{\\\"showlegend\\\":false,\\\"mode\\\":\\\"lines\\\",\\\"xaxis\\\":\\\"x2\\\",\\\"line\\\":{\\\"color\\\":\\\"#AEC7E8\\\"},\\\"y\\\":[3.0,4.0,null,3.0,3.0,null,4.0,4.0,null],\\\"type\\\":\\\"scatter\\\",\\\"hoverinfo\\\":\\\"skip\\\",\\\"yaxis\\\":\\\"y\\\",\\\"x\\\":[0.27551257610321045,0.27551257610321045,null,0.27551257610321045,0.0,null,0.27551257610321045,0.0,null]},{\\\"showlegend\\\":false,\\\"mode\\\":\\\"lines\\\",\\\"xaxis\\\":\\\"x2\\\",\\\"line\\\":{\\\"color\\\":\\\"#FFBB78\\\"},\\\"y\\\":[14.5,16.5,null,14.5,14.5,null,16.5,16.5,null],\\\"type\\\":\\\"scatter\\\",\\\"hoverinfo\\\":\\\"skip\\\",\\\"yaxis\\\":\\\"y\\\",\\\"x\\\":[0.48734089732170105,0.48734089732170105,null,0.48734089732170105,0.24673137068748474,null,0.48734089732170105,0.28262075781822205,null]},{\\\"showlegend\\\":false,\\\"mode\\\":\\\"lines\\\",\\\"xaxis\\\":\\\"x2\\\",\\\"line\\\":{\\\"color\\\":\\\"#AEC7E8\\\"},\\\"y\\\":[21.5,23.5,null,21.5,21.5,null,23.5,23.5,null],\\\"type\\\":\\\"scatter\\\",\\\"hoverinfo\\\":\\\"skip\\\",\\\"yaxis\\\":\\\"y\\\",\\\"x\\\":[0.5782723426818848,0.5782723426818848,null,0.5782723426818848,0.17030352354049683,null,0.5782723426818848,0.30545592308044434,null]},{\\\"showlegend\\\":false,\\\"mode\\\":\\\"lines\\\",\\\"xaxis\\\":\\\"x2\\\",\\\"line\\\":{\\\"color\\\":\\\"#AEC7E8\\\"},\\\"y\\\":[5.125,7.0,null,5.125,5.125,null,7.0,7.0,null],\\\"type\\\":\\\"scatter\\\",\\\"hoverinfo\\\":\\\"skip\\\",\\\"yaxis\\\":\\\"y\\\",\\\"x\\\":[0.3231011629104614,0.3231011629104614,null,0.3231011629104614,0.31172552704811096,null,0.3231011629104614,0.0,null]},{\\\"showlegend\\\":false,\\\"mode\\\":\\\"lines\\\",\\\"xaxis\\\":\\\"x2\\\",\\\"line\\\":{\\\"color\\\":\\\"#FFBB78\\\"},\\\"y\\\":[14.0,14.0,15.0,15.0],\\\"type\\\":\\\"scatter\\\",\\\"fill\\\":\\\"toself\\\",\\\"hoverinfo\\\":\\\"skip\\\",\\\"yaxis\\\":\\\"y\\\",\\\"x\\\":[0.0,0.24673137068748474,0.24673137068748474,0.0]},{\\\"showlegend\\\":false,\\\"mode\\\":\\\"lines\\\",\\\"xaxis\\\":\\\"x2\\\",\\\"line\\\":{\\\"color\\\":\\\"#AEC7E8\\\"},\\\"y\\\":[1.5,6.0625,null,1.5,1.5,null,6.0625,6.0625,null],\\\"type\\\":\\\"scatter\\\",\\\"hoverinfo\\\":\\\"skip\\\",\\\"yaxis\\\":\\\"y\\\",\\\"x\\\":[0.3370318114757538,0.3370318114757538,null,0.3370318114757538,0.31665533781051636,null,0.3370318114757538,0.3231011629104614,null]},{\\\"showlegend\\\":false,\\\"mode\\\":\\\"lines\\\",\\\"xaxis\\\":\\\"x2\\\",\\\"line\\\":{\\\"color\\\":\\\"#AEC7E8\\\"},\\\"y\\\":[19.25,22.5,null,19.25,19.25,null,22.5,22.5,null],\\\"type\\\":\\\"scatter\\\",\\\"hoverinfo\\\":\\\"skip\\\",\\\"yaxis\\\":\\\"y\\\",\\\"x\\\":[0.662848174571991,0.662848174571991,null,0.662848174571991,0.2968417704105377,null,0.662848174571991,0.5782723426818848,null]},{\\\"showlegend\\\":false,\\\"mode\\\":\\\"lines\\\",\\\"xaxis\\\":\\\"x2\\\",\\\"line\\\":{\\\"color\\\":\\\"#AEC7E8\\\"},\\\"y\\\":[18.5,20.0,null,18.5,18.5,null,20.0,20.0,null],\\\"type\\\":\\\"scatter\\\",\\\"hoverinfo\\\":\\\"skip\\\",\\\"yaxis\\\":\\\"y\\\",\\\"x\\\":[0.2968417704105377,0.2968417704105377,null,0.2968417704105377,0.0019534884486347437,null,0.2968417704105377,0.0,null]},{\\\"showlegend\\\":false,\\\"mode\\\":\\\"lines\\\",\\\"xaxis\\\":\\\"x2\\\",\\\"line\\\":{\\\"color\\\":\\\"#AEC7E8\\\"},\\\"y\\\":[21.0,21.0,22.0,22.0],\\\"type\\\":\\\"scatter\\\",\\\"fill\\\":\\\"toself\\\",\\\"hoverinfo\\\":\\\"skip\\\",\\\"yaxis\\\":\\\"y\\\",\\\"x\\\":[0.0,0.17030352354049683,0.17030352354049683,0.0]},{\\\"showlegend\\\":false,\\\"mode\\\":\\\"lines\\\",\\\"xaxis\\\":\\\"x2\\\",\\\"line\\\":{\\\"color\\\":\\\"#AEC7E8\\\"},\\\"y\\\":[9.0,10.0,null,9.0,9.0,null,10.0,10.0,null],\\\"type\\\":\\\"scatter\\\",\\\"hoverinfo\\\":\\\"skip\\\",\\\"yaxis\\\":\\\"y\\\",\\\"x\\\":[0.3194444477558136,0.3194444477558136,null,0.3194444477558136,0.0,null,0.3194444477558136,0.0,null]},{\\\"showlegend\\\":false,\\\"mode\\\":\\\"lines\\\",\\\"xaxis\\\":\\\"x2\\\",\\\"line\\\":{\\\"color\\\":\\\"#AEC7E8\\\"},\\\"y\\\":[5.890625,10.25,null,5.890625,5.890625,null,10.25,10.25,null],\\\"type\\\":\\\"scatter\\\",\\\"hoverinfo\\\":\\\"skip\\\",\\\"yaxis\\\":\\\"y\\\",\\\"x\\\":[0.40160587430000305,0.40160587430000305,null,0.40160587430000305,0.34828904271125793,null,0.40160587430000305,0.3602002263069153,null]},{\\\"showlegend\\\":false,\\\"mode\\\":\\\"lines\\\",\\\"xaxis\\\":\\\"x2\\\",\\\"line\\\":{\\\"color\\\":\\\"#AEC7E8\\\"},\\\"y\\\":[23.0,24.0,null,23.0,23.0,null,24.0,24.0,null],\\\"type\\\":\\\"scatter\\\",\\\"hoverinfo\\\":\\\"skip\\\",\\\"yaxis\\\":\\\"y\\\",\\\"x\\\":[0.30545592308044434,0.30545592308044434,null,0.30545592308044434,0.0,null,0.30545592308044434,0.0,null]},{\\\"showlegend\\\":false,\\\"mode\\\":\\\"lines\\\",\\\"xaxis\\\":\\\"x2\\\",\\\"line\\\":{\\\"color\\\":\\\"#FFBB78\\\"},\\\"y\\\":[16.0,17.0,null,16.0,16.0,null,17.0,17.0,null],\\\"type\\\":\\\"scatter\\\",\\\"hoverinfo\\\":\\\"skip\\\",\\\"yaxis\\\":\\\"y\\\",\\\"x\\\":[0.28262075781822205,0.28262075781822205,null,0.28262075781822205,0.0,null,0.28262075781822205,0.0,null]},{\\\"showlegend\\\":false,\\\"mode\\\":\\\"markers\\\",\\\"xaxis\\\":\\\"x2\\\",\\\"marker\\\":{\\\"color\\\":[\\\"#FFBB78\\\",\\\"#666666\\\",\\\"#AEC7E8\\\",\\\"#AEC7E8\\\",\\\"#AEC7E8\\\",\\\"#666666\\\",\\\"#666666\\\",\\\"#AEC7E8\\\",\\\"#AEC7E8\\\",\\\"#AEC7E8\\\",\\\"#AEC7E8\\\",\\\"#FFBB78\\\",\\\"#AEC7E8\\\",\\\"#AEC7E8\\\",\\\"#AEC7E8\\\",\\\"#FFBB78\\\",\\\"#AEC7E8\\\",\\\"#AEC7E8\\\",\\\"#AEC7E8\\\",\\\"#AEC7E8\\\",\\\"#AEC7E8\\\",\\\"#AEC7E8\\\",\\\"#AEC7E8\\\"],\\\"size\\\":[8,8,4,4,8,8,8,8,4,4,8,8,8,8,4,8,4,8,8,8,8,8,8]},\\\"y\\\":[16.5,12.75390625,4.25,10.25,5.890625,17.4375,14.0,12.5,1.5,5.125,3.5,15.5,18.5,22.5,6.0625,14.5,3.78125,20.875,19.25,21.5,9.5,8.0703125,23.5],\\\"type\\\":\\\"scatter\\\",\\\"customdata\\\":[[30,2,\\\"safensis\\\"],[47,24,\\\"(mixed)\\\"],[32,3,\\\"pumilus\\\"],[40,3,\\\"pumilus\\\"],[39,8,\\\"pumilus\\\"],[46,13,\\\"(mixed)\\\"],[43,6,\\\"(mixed)\\\"],[25,2,\\\"pumilus\\\"],[35,2,\\\"pumilus\\\"],[34,4,\\\"pumilus\\\"],[29,2,\\\"pumilus\\\"],[42,4,\\\"safensis\\\"],[26,2,\\\"pumilus\\\"],[44,4,\\\"pumilus\\\"],[37,5,\\\"pumilus\\\"],[28,2,\\\"safensis\\\"],[38,7,\\\"pumilus\\\"],[45,7,\\\"pumilus\\\"],[31,3,\\\"pumilus\\\"],[27,2,\\\"pumilus\\\"],[36,2,\\\"pumilus\\\"],[41,11,\\\"pumilus\\\"],[33,2,\\\"pumilus\\\"]],\\\"yaxis\\\":\\\"y\\\",\\\"hovertemplate\\\":\\\"ID: %{customdata[0]}<br>\\\\nHeight: %{x:.3f}<br>\\\\nGenome count: %{customdata[1]}\\\\n<br>\\\\n%{customdata[2]}\\\\n<extra><\\/extra>\\\",\\\"x\\\":[0.28262075781822205,0.8785027861595154,0.30003079771995544,0.3602002263069153,0.34828904271125793,0.82781982421875,0.5781402587890625,0.00018406036542728543,0.31665533781051636,0.31172552704811096,0.27551257610321045,0.48734089732170105,0.0019534884486347437,0.5782723426818848,0.3231011629104614,0.24673137068748474,0.3370318114757538,0.662848174571991,0.2968417704105377,0.17030352354049683,0.3194444477558136,0.40160587430000305,0.30545592308044434]},{\\\"xaxis\\\":\\\"x3\\\",\\\"colorscale\\\":[[0.0,\\\"#666666\\\"],[0.1,\\\"#AEC7E8\\\"],[0.2,\\\"#FFBB78\\\"],[0.3,\\\"#98DF8A\\\"],[0.4,\\\"#FF9896\\\"],[0.5,\\\"#C5B0D5\\\"],[0.6,\\\"#C49C94\\\"],[0.7,\\\"#F7B6D2\\\"],[0.8,\\\"#C7C7C7\\\"],[0.9,\\\"#DBDB8D\\\"],[1.0,\\\"#9EDAE5\\\"]],\\\"showscale\\\":false,\\\"customdata\\\":[[[\\\"Genome 2\\\",\\\"pumilus\\\"]],[[\\\"Genome 3\\\",\\\"pumilus\\\"]],[[\\\"Genome 9\\\",\\\"pumilus\\\"]],[[\\\"Genome 18\\\",\\\"pumilus\\\"]],[[\\\"Genome 13\\\",\\\"pumilus\\\"]],[[\\\"Genome 17\\\",\\\"pumilus\\\"]],[[\\\"Genome 5\\\",\\\"pumilus\\\"]],[[\\\"Genome 14\\\",\\\"pumilus\\\"]],[[\\\"Genome 4\\\",\\\"pumilus\\\"]],[[\\\"Genome 19\\\",\\\"pumilus\\\"]],[[\\\"Genome 8\\\",\\\"pumilus\\\"]],[[\\\"ID 25\\\",\\\"pumilus\\\"]],[[\\\"ID 28\\\",\\\"safensis\\\"]],[[\\\"Genome 21\\\",\\\"safensis\\\"]],[[\\\"Genome 23\\\",\\\"safensis\\\"]],[[\\\"ID 26\\\",\\\"pumilus\\\"]],[[\\\"Genome 16\\\",\\\"pumilus\\\"]],[[\\\"ID 27\\\",\\\"pumilus\\\"]],[[\\\"Genome 1\\\",\\\"pumilus\\\"]],[[\\\"Genome 12\\\",\\\"pumilus\\\"]]],\\\"zmin\\\":0,\\\"z\\\":[[1],[1],[1],[1],[1],[1],[1],[1],[1],[1],[1],[1],[2],[2],[2],[1],[1],[1],[1],[1]],\\\"ygap\\\":1,\\\"zmax\\\":10,\\\"y\\\":[0.5,1.5,2.5,3.5,4.5,5.5,6.5,7.5,8.5,9.5,10.5,11.5,13.5,15.5,16.5,17.5,19.5,20.5,22.5,23.5,24.5],\\\"type\\\":\\\"heatmap\\\",\\\"hovertemplate\\\":\\\"%{customdata[0]} <br>\\\\n%{customdata[1]}\\\\n<extra><\\/extra>\\\\n\\\"}],{\\\"showlegend\\\":false,\\\"xaxis\\\":{\\\"scaleanchor\\\":\\\"y\\\",\\\"visible\\\":false,\\\"domain\\\":[0.521531100478469,1.0],\\\"constrain\\\":\\\"domain\\\"},\\\"hovermode\\\":\\\"closest\\\",\\\"xaxis2\\\":{\\\"rangemode\\\":\\\"nonnegative\\\",\\\"domain\\\":[0.0,0.47846889952153115],\\\"autorange\\\":\\\"reversed\\\"},\\\"height\\\":500,\\\"margin\\\":{\\\"l\\\":50,\\\"b\\\":50,\\\"r\\\":50,\\\"t\\\":60},\\\"yaxis\\\":{\\\"scaleanchor\\\":\\\"x\\\",\\\"visible\\\":false},\\\"xaxis3\\\":{\\\"visible\\\":false,\\\"domain\\\":[0.48803827751196177,0.5119617224880384],\\\"fixedrange\\\":true},\\\"width\\\":1000},{}); gd.on(\\\"plotly_hover\\\",(function (data){var filtered_data=WebIO.PlotlyCommands.filterEventData(gd,data,\\\"hover\\\"); return !(filtered_data.isnil) ? (WebIO.setval({\\\"name\\\":\\\"hover\\\",\\\"scope\\\":\\\"18185825420367847812\\\",\\\"id\\\":\\\"4697809037287281948\\\",\\\"type\\\":\\\"observable\\\"},filtered_data.out)) : undefined})); gd.on(\\\"plotly_unhover\\\",(function (){return WebIO.setval({\\\"name\\\":\\\"hover\\\",\\\"scope\\\":\\\"18185825420367847812\\\",\\\"id\\\":\\\"4697809037287281948\\\",\\\"type\\\":\\\"observable\\\"},{})})); gd.on(\\\"plotly_selected\\\",(function (data){var filtered_data=WebIO.PlotlyCommands.filterEventData(gd,data,\\\"selected\\\"); return !(filtered_data.isnil) ? (WebIO.setval({\\\"name\\\":\\\"selected\\\",\\\"scope\\\":\\\"18185825420367847812\\\",\\\"id\\\":\\\"6165803723447547739\\\",\\\"type\\\":\\\"observable\\\"},filtered_data.out)) : undefined})); gd.on(\\\"plotly_deselect\\\",(function (){return WebIO.setval({\\\"name\\\":\\\"selected\\\",\\\"scope\\\":\\\"18185825420367847812\\\",\\\"id\\\":\\\"6165803723447547739\\\",\\\"type\\\":\\\"observable\\\"},{})})); gd.on(\\\"plotly_relayout\\\",(function (data){var filtered_data=WebIO.PlotlyCommands.filterEventData(gd,data,\\\"relayout\\\"); return !(filtered_data.isnil) ? (WebIO.setval({\\\"name\\\":\\\"relayout\\\",\\\"scope\\\":\\\"18185825420367847812\\\",\\\"id\\\":\\\"2340147184272420903\\\",\\\"type\\\":\\\"observable\\\"},filtered_data.out)) : undefined})); return gd.on(\\\"plotly_click\\\",(function (data){var filtered_data=WebIO.PlotlyCommands.filterEventData(gd,data,\\\"click\\\"); return !(filtered_data.isnil) ? (WebIO.setval({\\\"name\\\":\\\"click\\\",\\\"scope\\\":\\\"18185825420367847812\\\",\\\"id\\\":\\\"15205826511896081862\\\",\\\"type\\\":\\\"observable\\\"},filtered_data.out)) : undefined}))}));\\n    (WebIO.importBlock({\\\"data\\\":[{\\\"name\\\":\\\"Plotly\\\",\\\"type\\\":\\\"js\\\",\\\"url\\\":\\\"\\/assetserver\\/e6903599031aaef8675931dfcd7df98a1aeffbfc-plotly-latest.min.js\\\"},{\\\"name\\\":null,\\\"type\\\":\\\"js\\\",\\\"url\\\":\\\"\\/assetserver\\/74a5dea81f21b0b802ef1ee92f1c8a504eac1a0c-plotly_webio.bundle.js\\\"}],\\\"type\\\":\\\"async_block\\\"})).then((imports) => handler.apply(this, imports));\\n}\\n\"],\"observables\":{\"_toImage\":{\"sync\":false,\"id\":\"2247960592451199228\",\"value\":{}},\"hover\":{\"sync\":false,\"id\":\"4697809037287281948\",\"value\":{}},\"selected\":{\"sync\":false,\"id\":\"6165803723447547739\",\"value\":{}},\"__gd_contents\":{\"sync\":false,\"id\":\"2427930279266977284\",\"value\":{}},\"click\":{\"sync\":false,\"id\":\"15205826511896081862\",\"value\":{}},\"image\":{\"sync\":true,\"id\":\"8812182755079249505\",\"value\":\"\"},\"__get_gd_contents\":{\"sync\":false,\"id\":\"17633224164085488941\",\"value\":\"\"},\"_downloadImage\":{\"sync\":false,\"id\":\"14984546979204576502\",\"value\":{}},\"relayout\":{\"sync\":false,\"id\":\"2340147184272420903\",\"value\":{}},\"_commands\":{\"sync\":false,\"id\":\"17813892435922348617\",\"value\":[]}}},\"children\":[{\"props\":{\"id\":\"plot-b3a3fd87-05c7-4f06-b6bf-c043df1407d2\"},\"nodeType\":\"DOM\",\"type\":\"node\",\"instanceArgs\":{\"namespace\":\"html\",\"tag\":\"div\"},\"children\":[]}]},\n",
       "            window,\n",
       "        );\n",
       "    } else {\n",
       "        document\n",
       "            .querySelector('[data-webio-mountpoint=\"16479599562516336908\"]')\n",
       "            .innerHTML = (\n",
       "                '<div style=\"padding: 1em; background-color: #f8d6da; border: 1px solid #f5c6cb\">' +\n",
       "                '<p><strong>WebIO not detected.</strong></p>' +\n",
       "                '<p>Please read ' +\n",
       "                '<a href=\"https://juliagizmos.github.io/WebIO.jl/latest/troubleshooting/not-detected/\" target=\"_blank\">the troubleshooting guide</a> ' +\n",
       "                'for more information on how to resolve this issue.</p>' +\n",
       "                '<p><a href=\"https://juliagizmos.github.io/WebIO.jl/latest/troubleshooting/not-detected/\" target=\"_blank\">https://juliagizmos.github.io/WebIO.jl/latest/troubleshooting/not-detected/</a></p>' +\n",
       "                '</div>'\n",
       "            );\n",
       "    }\n",
       "    </script>\n",
       "</div>\n"
      ],
      "text/plain": [
       "data: [\n",
       "  \"heatmap with fields colorscale, type, x, y, and z\",\n",
       "  \"scatter with fields hoverinfo, line, mode, showlegend, type, x, xaxis, y, and yaxis\",\n",
       "  \"scatter with fields hoverinfo, line, mode, showlegend, type, x, xaxis, y, and yaxis\",\n",
       "  \"scatter with fields hoverinfo, line, mode, showlegend, type, x, xaxis, y, and yaxis\",\n",
       "  \"scatter with fields hoverinfo, line, mode, showlegend, type, x, xaxis, y, and yaxis\",\n",
       "  \"scatter with fields hoverinfo, line, mode, showlegend, type, x, xaxis, y, and yaxis\",\n",
       "  \"scatter with fields hoverinfo, line, mode, showlegend, type, x, xaxis, y, and yaxis\",\n",
       "  \"scatter with fields fill, hoverinfo, line, mode, showlegend, type, x, xaxis, y, and yaxis\",\n",
       "  \"scatter with fields fill, hoverinfo, line, mode, showlegend, type, x, xaxis, y, and yaxis\",\n",
       "  \"scatter with fields hoverinfo, line, mode, showlegend, type, x, xaxis, y, and yaxis\",\n",
       "  \"scatter with fields hoverinfo, line, mode, showlegend, type, x, xaxis, y, and yaxis\",\n",
       "  \"scatter with fields hoverinfo, line, mode, showlegend, type, x, xaxis, y, and yaxis\",\n",
       "  \"scatter with fields hoverinfo, line, mode, showlegend, type, x, xaxis, y, and yaxis\",\n",
       "  \"scatter with fields hoverinfo, line, mode, showlegend, type, x, xaxis, y, and yaxis\",\n",
       "  \"scatter with fields hoverinfo, line, mode, showlegend, type, x, xaxis, y, and yaxis\",\n",
       "  \"scatter with fields fill, hoverinfo, line, mode, showlegend, type, x, xaxis, y, and yaxis\",\n",
       "  \"scatter with fields hoverinfo, line, mode, showlegend, type, x, xaxis, y, and yaxis\",\n",
       "  \"scatter with fields hoverinfo, line, mode, showlegend, type, x, xaxis, y, and yaxis\",\n",
       "  \"scatter with fields hoverinfo, line, mode, showlegend, type, x, xaxis, y, and yaxis\",\n",
       "  \"scatter with fields fill, hoverinfo, line, mode, showlegend, type, x, xaxis, y, and yaxis\",\n",
       "  \"scatter with fields hoverinfo, line, mode, showlegend, type, x, xaxis, y, and yaxis\",\n",
       "  \"scatter with fields hoverinfo, line, mode, showlegend, type, x, xaxis, y, and yaxis\",\n",
       "  \"scatter with fields hoverinfo, line, mode, showlegend, type, x, xaxis, y, and yaxis\",\n",
       "  \"scatter with fields hoverinfo, line, mode, showlegend, type, x, xaxis, y, and yaxis\",\n",
       "  \"scatter with fields customdata, hovertemplate, marker, mode, showlegend, type, x, xaxis, y, and yaxis\",\n",
       "  \"heatmap with fields colorscale, customdata, hovertemplate, showscale, type, xaxis, y, ygap, z, zmax, and zmin\"\n",
       "]\n",
       "\n",
       "layout: \"layout with fields height, hovermode, margin, showlegend, width, xaxis, xaxis2, xaxis3, and yaxis\"\n",
       "\n"
      ]
     },
     "execution_count": 5,
     "metadata": {},
     "output_type": "execute_result"
    }
   ],
   "source": [
    "plot(multi_clustermap(cdata, trees[\"all\"]))"
   ]
  },
  {
   "cell_type": "markdown",
   "id": "hydraulic-ethnic",
   "metadata": {},
   "source": [
    "## Edits"
   ]
  },
  {
   "cell_type": "code",
   "execution_count": 6,
   "id": "defensive-cooperative",
   "metadata": {},
   "outputs": [
    {
     "data": {
      "application/vnd.plotly.v1+json": {
       "data": [
        {
         "colorscale": [
          [
           0,
           "#000004"
          ],
          [
           0.00392156862745098,
           "#010005"
          ],
          [
           0.00784313725490196,
           "#010106"
          ],
          [
           0.011764705882352941,
           "#010108"
          ],
          [
           0.01568627450980392,
           "#020109"
          ],
          [
           0.0196078431372549,
           "#02020B"
          ],
          [
           0.023529411764705882,
           "#02020D"
          ],
          [
           0.027450980392156862,
           "#03030F"
          ],
          [
           0.03137254901960784,
           "#030312"
          ],
          [
           0.03529411764705882,
           "#040414"
          ],
          [
           0.0392156862745098,
           "#050416"
          ],
          [
           0.043137254901960784,
           "#060518"
          ],
          [
           0.047058823529411764,
           "#06051A"
          ],
          [
           0.050980392156862744,
           "#07061C"
          ],
          [
           0.054901960784313725,
           "#08071E"
          ],
          [
           0.058823529411764705,
           "#090720"
          ],
          [
           0.06274509803921569,
           "#0A0822"
          ],
          [
           0.06666666666666667,
           "#0B0924"
          ],
          [
           0.07058823529411765,
           "#0C0926"
          ],
          [
           0.07450980392156863,
           "#0D0A29"
          ],
          [
           0.0784313725490196,
           "#0E0B2B"
          ],
          [
           0.08235294117647059,
           "#100B2D"
          ],
          [
           0.08627450980392157,
           "#110C2F"
          ],
          [
           0.09019607843137255,
           "#120D31"
          ],
          [
           0.09411764705882353,
           "#130D34"
          ],
          [
           0.09803921568627451,
           "#140E36"
          ],
          [
           0.10196078431372549,
           "#150E38"
          ],
          [
           0.10588235294117647,
           "#160F3B"
          ],
          [
           0.10980392156862745,
           "#180F3D"
          ],
          [
           0.11372549019607843,
           "#19103F"
          ],
          [
           0.11764705882352941,
           "#1A1042"
          ],
          [
           0.12156862745098039,
           "#1C1044"
          ],
          [
           0.12549019607843137,
           "#1D1147"
          ],
          [
           0.12941176470588237,
           "#1E1149"
          ],
          [
           0.13333333333333333,
           "#20114B"
          ],
          [
           0.13725490196078433,
           "#21114E"
          ],
          [
           0.1411764705882353,
           "#221150"
          ],
          [
           0.1450980392156863,
           "#241253"
          ],
          [
           0.14901960784313725,
           "#251255"
          ],
          [
           0.15294117647058825,
           "#271258"
          ],
          [
           0.1568627450980392,
           "#29115A"
          ],
          [
           0.1607843137254902,
           "#2A115C"
          ],
          [
           0.16470588235294117,
           "#2C115F"
          ],
          [
           0.16862745098039217,
           "#2D1161"
          ],
          [
           0.17254901960784313,
           "#2F1163"
          ],
          [
           0.17647058823529413,
           "#311165"
          ],
          [
           0.1803921568627451,
           "#331067"
          ],
          [
           0.1843137254901961,
           "#341069"
          ],
          [
           0.18823529411764706,
           "#36106B"
          ],
          [
           0.19215686274509805,
           "#38106C"
          ],
          [
           0.19607843137254902,
           "#390F6E"
          ],
          [
           0.2,
           "#3B0F70"
          ],
          [
           0.20392156862745098,
           "#3D0F71"
          ],
          [
           0.20784313725490197,
           "#3F0F72"
          ],
          [
           0.21176470588235294,
           "#400F74"
          ],
          [
           0.21568627450980393,
           "#420F75"
          ],
          [
           0.2196078431372549,
           "#440F76"
          ],
          [
           0.2235294117647059,
           "#451077"
          ],
          [
           0.22745098039215686,
           "#471078"
          ],
          [
           0.23137254901960785,
           "#491078"
          ],
          [
           0.23529411764705882,
           "#4A1079"
          ],
          [
           0.23921568627450981,
           "#4C117A"
          ],
          [
           0.24313725490196078,
           "#4E117B"
          ],
          [
           0.24705882352941178,
           "#4F127B"
          ],
          [
           0.25098039215686274,
           "#51127C"
          ],
          [
           0.2549019607843137,
           "#52137C"
          ],
          [
           0.25882352941176473,
           "#54137D"
          ],
          [
           0.2627450980392157,
           "#56147D"
          ],
          [
           0.26666666666666666,
           "#57157E"
          ],
          [
           0.27058823529411763,
           "#59157E"
          ],
          [
           0.27450980392156865,
           "#5A167E"
          ],
          [
           0.2784313725490196,
           "#5C167F"
          ],
          [
           0.2823529411764706,
           "#5D177F"
          ],
          [
           0.28627450980392155,
           "#5F187F"
          ],
          [
           0.2901960784313726,
           "#601880"
          ],
          [
           0.29411764705882354,
           "#621980"
          ],
          [
           0.2980392156862745,
           "#641A80"
          ],
          [
           0.30196078431372547,
           "#651A80"
          ],
          [
           0.3058823529411765,
           "#671B80"
          ],
          [
           0.30980392156862746,
           "#681C81"
          ],
          [
           0.3137254901960784,
           "#6A1C81"
          ],
          [
           0.3176470588235294,
           "#6B1D81"
          ],
          [
           0.3215686274509804,
           "#6D1D81"
          ],
          [
           0.3254901960784314,
           "#6E1E81"
          ],
          [
           0.32941176470588235,
           "#701F81"
          ],
          [
           0.3333333333333333,
           "#721F81"
          ],
          [
           0.33725490196078434,
           "#732081"
          ],
          [
           0.3411764705882353,
           "#752181"
          ],
          [
           0.34509803921568627,
           "#762181"
          ],
          [
           0.34901960784313724,
           "#782281"
          ],
          [
           0.35294117647058826,
           "#792282"
          ],
          [
           0.3568627450980392,
           "#7B2382"
          ],
          [
           0.3607843137254902,
           "#7C2382"
          ],
          [
           0.36470588235294116,
           "#7E2482"
          ],
          [
           0.3686274509803922,
           "#802582"
          ],
          [
           0.37254901960784315,
           "#812581"
          ],
          [
           0.3764705882352941,
           "#832681"
          ],
          [
           0.3803921568627451,
           "#842681"
          ],
          [
           0.3843137254901961,
           "#862781"
          ],
          [
           0.38823529411764707,
           "#882781"
          ],
          [
           0.39215686274509803,
           "#892881"
          ],
          [
           0.396078431372549,
           "#8B2981"
          ],
          [
           0.4,
           "#8C2981"
          ],
          [
           0.403921568627451,
           "#8E2A81"
          ],
          [
           0.40784313725490196,
           "#902A81"
          ],
          [
           0.4117647058823529,
           "#912B81"
          ],
          [
           0.41568627450980394,
           "#932B80"
          ],
          [
           0.4196078431372549,
           "#942C80"
          ],
          [
           0.4235294117647059,
           "#962C80"
          ],
          [
           0.42745098039215684,
           "#982D80"
          ],
          [
           0.43137254901960786,
           "#992D80"
          ],
          [
           0.43529411764705883,
           "#9B2E7F"
          ],
          [
           0.4392156862745098,
           "#9C2E7F"
          ],
          [
           0.44313725490196076,
           "#9E2F7F"
          ],
          [
           0.4470588235294118,
           "#A02F7F"
          ],
          [
           0.45098039215686275,
           "#A1307E"
          ],
          [
           0.4549019607843137,
           "#A3307E"
          ],
          [
           0.4588235294117647,
           "#A5317E"
          ],
          [
           0.4627450980392157,
           "#A6317D"
          ],
          [
           0.4666666666666667,
           "#A8327D"
          ],
          [
           0.47058823529411764,
           "#AA337D"
          ],
          [
           0.4745098039215686,
           "#AB337C"
          ],
          [
           0.47843137254901963,
           "#AD347C"
          ],
          [
           0.4823529411764706,
           "#AE347B"
          ],
          [
           0.48627450980392156,
           "#B0357B"
          ],
          [
           0.49019607843137253,
           "#B2357B"
          ],
          [
           0.49411764705882355,
           "#B3367A"
          ],
          [
           0.4980392156862745,
           "#B5367A"
          ],
          [
           0.5019607843137255,
           "#B73779"
          ],
          [
           0.5058823529411764,
           "#B83779"
          ],
          [
           0.5098039215686274,
           "#BA3878"
          ],
          [
           0.5137254901960784,
           "#BC3978"
          ],
          [
           0.5176470588235295,
           "#BD3977"
          ],
          [
           0.5215686274509804,
           "#BF3A77"
          ],
          [
           0.5254901960784314,
           "#C03A76"
          ],
          [
           0.5294117647058824,
           "#C23B75"
          ],
          [
           0.5333333333333333,
           "#C43C75"
          ],
          [
           0.5372549019607843,
           "#C53C74"
          ],
          [
           0.5411764705882353,
           "#C73D73"
          ],
          [
           0.5450980392156862,
           "#C83E73"
          ],
          [
           0.5490196078431373,
           "#CA3E72"
          ],
          [
           0.5529411764705883,
           "#CC3F71"
          ],
          [
           0.5568627450980392,
           "#CD4071"
          ],
          [
           0.5607843137254902,
           "#CF4070"
          ],
          [
           0.5647058823529412,
           "#D0416F"
          ],
          [
           0.5686274509803921,
           "#D2426F"
          ],
          [
           0.5725490196078431,
           "#D3436E"
          ],
          [
           0.5764705882352941,
           "#D5446D"
          ],
          [
           0.5803921568627451,
           "#D6456C"
          ],
          [
           0.5843137254901961,
           "#D8456C"
          ],
          [
           0.5882352941176471,
           "#D9466B"
          ],
          [
           0.592156862745098,
           "#DB476A"
          ],
          [
           0.596078431372549,
           "#DC4869"
          ],
          [
           0.6,
           "#DE4968"
          ],
          [
           0.6039215686274509,
           "#DF4A68"
          ],
          [
           0.6078431372549019,
           "#E04C67"
          ],
          [
           0.611764705882353,
           "#E24D66"
          ],
          [
           0.615686274509804,
           "#E34E65"
          ],
          [
           0.6196078431372549,
           "#E44F64"
          ],
          [
           0.6235294117647059,
           "#E55064"
          ],
          [
           0.6274509803921569,
           "#E75263"
          ],
          [
           0.6313725490196078,
           "#E85362"
          ],
          [
           0.6352941176470588,
           "#E95462"
          ],
          [
           0.6392156862745098,
           "#EA5661"
          ],
          [
           0.6431372549019608,
           "#EB5760"
          ],
          [
           0.6470588235294118,
           "#EC5860"
          ],
          [
           0.6509803921568628,
           "#ED5A5F"
          ],
          [
           0.6549019607843137,
           "#EE5B5E"
          ],
          [
           0.6588235294117647,
           "#EF5D5E"
          ],
          [
           0.6627450980392157,
           "#F05F5E"
          ],
          [
           0.6666666666666666,
           "#F1605D"
          ],
          [
           0.6705882352941176,
           "#F2625D"
          ],
          [
           0.6745098039215687,
           "#F2645C"
          ],
          [
           0.6784313725490196,
           "#F3655C"
          ],
          [
           0.6823529411764706,
           "#F4675C"
          ],
          [
           0.6862745098039216,
           "#F4695C"
          ],
          [
           0.6901960784313725,
           "#F56B5C"
          ],
          [
           0.6941176470588235,
           "#F66C5C"
          ],
          [
           0.6980392156862745,
           "#F66E5C"
          ],
          [
           0.7019607843137254,
           "#F7705C"
          ],
          [
           0.7058823529411765,
           "#F7725C"
          ],
          [
           0.7098039215686275,
           "#F8745C"
          ],
          [
           0.7137254901960784,
           "#F8765C"
          ],
          [
           0.7176470588235294,
           "#F9785D"
          ],
          [
           0.7215686274509804,
           "#F9795D"
          ],
          [
           0.7254901960784313,
           "#F97B5D"
          ],
          [
           0.7294117647058823,
           "#FA7D5E"
          ],
          [
           0.7333333333333333,
           "#FA7F5E"
          ],
          [
           0.7372549019607844,
           "#FA815F"
          ],
          [
           0.7411764705882353,
           "#FB835F"
          ],
          [
           0.7450980392156863,
           "#FB8560"
          ],
          [
           0.7490196078431373,
           "#FB8761"
          ],
          [
           0.7529411764705882,
           "#FC8961"
          ],
          [
           0.7568627450980392,
           "#FC8A62"
          ],
          [
           0.7607843137254902,
           "#FC8C63"
          ],
          [
           0.7647058823529411,
           "#FC8E64"
          ],
          [
           0.7686274509803922,
           "#FC9065"
          ],
          [
           0.7725490196078432,
           "#FD9266"
          ],
          [
           0.7764705882352941,
           "#FD9467"
          ],
          [
           0.7803921568627451,
           "#FD9668"
          ],
          [
           0.7843137254901961,
           "#FD9869"
          ],
          [
           0.788235294117647,
           "#FD9A6A"
          ],
          [
           0.792156862745098,
           "#FD9B6B"
          ],
          [
           0.796078431372549,
           "#FE9D6C"
          ],
          [
           0.8,
           "#FE9F6D"
          ],
          [
           0.803921568627451,
           "#FEA16E"
          ],
          [
           0.807843137254902,
           "#FEA36F"
          ],
          [
           0.8117647058823529,
           "#FEA571"
          ],
          [
           0.8156862745098039,
           "#FEA772"
          ],
          [
           0.8196078431372549,
           "#FEA973"
          ],
          [
           0.8235294117647058,
           "#FEAA74"
          ],
          [
           0.8274509803921568,
           "#FEAC76"
          ],
          [
           0.8313725490196079,
           "#FEAE77"
          ],
          [
           0.8352941176470589,
           "#FEB078"
          ],
          [
           0.8392156862745098,
           "#FEB27A"
          ],
          [
           0.8431372549019608,
           "#FEB47B"
          ],
          [
           0.8470588235294118,
           "#FEB67C"
          ],
          [
           0.8509803921568627,
           "#FEB77E"
          ],
          [
           0.8549019607843137,
           "#FEB97F"
          ],
          [
           0.8588235294117647,
           "#FEBB81"
          ],
          [
           0.8627450980392157,
           "#FEBD82"
          ],
          [
           0.8666666666666667,
           "#FEBF84"
          ],
          [
           0.8705882352941177,
           "#FEC185"
          ],
          [
           0.8745098039215686,
           "#FEC287"
          ],
          [
           0.8784313725490196,
           "#FEC488"
          ],
          [
           0.8823529411764706,
           "#FEC68A"
          ],
          [
           0.8862745098039215,
           "#FEC88C"
          ],
          [
           0.8901960784313725,
           "#FECA8D"
          ],
          [
           0.8941176470588236,
           "#FECC8F"
          ],
          [
           0.8980392156862745,
           "#FECD90"
          ],
          [
           0.9019607843137255,
           "#FECF92"
          ],
          [
           0.9058823529411765,
           "#FED194"
          ],
          [
           0.9098039215686274,
           "#FED395"
          ],
          [
           0.9137254901960784,
           "#FED597"
          ],
          [
           0.9176470588235294,
           "#FED799"
          ],
          [
           0.9215686274509803,
           "#FED89A"
          ],
          [
           0.9254901960784314,
           "#FDDA9C"
          ],
          [
           0.9294117647058824,
           "#FDDC9E"
          ],
          [
           0.9333333333333333,
           "#FDDEA0"
          ],
          [
           0.9372549019607843,
           "#FDE0A1"
          ],
          [
           0.9411764705882353,
           "#FDE2A3"
          ],
          [
           0.9450980392156862,
           "#FDE3A5"
          ],
          [
           0.9490196078431372,
           "#FDE5A7"
          ],
          [
           0.9529411764705882,
           "#FDE7A9"
          ],
          [
           0.9568627450980393,
           "#FDE9AA"
          ],
          [
           0.9607843137254902,
           "#FDEBAC"
          ],
          [
           0.9647058823529412,
           "#FCECAE"
          ],
          [
           0.9686274509803922,
           "#FCEEB0"
          ],
          [
           0.9725490196078431,
           "#FCF0B2"
          ],
          [
           0.9764705882352941,
           "#FCF2B4"
          ],
          [
           0.9803921568627451,
           "#FCF4B6"
          ],
          [
           0.984313725490196,
           "#FCF6B8"
          ],
          [
           0.9882352941176471,
           "#FCF7B9"
          ],
          [
           0.9921568627450981,
           "#FCF9BB"
          ],
          [
           0.996078431372549,
           "#FCFBBD"
          ],
          [
           1,
           "#FCFDBF"
          ]
         ],
         "type": "heatmap",
         "x": [
          0.5,
          1.5,
          2.5,
          3.5,
          4.5,
          5.5,
          6.5,
          7.5,
          8.5,
          9.5,
          10.5,
          11.5,
          12.5,
          13.5,
          14.5,
          15.5,
          16.5,
          17.5,
          18.5,
          19.5,
          20.5
         ],
         "y": [
          0.5,
          1.5,
          2.5,
          3.5,
          4.5,
          5.5,
          6.5,
          7.5,
          8.5,
          9.5,
          10.5,
          11.5,
          12.5,
          13.5,
          14.5,
          15.5,
          16.5,
          17.5,
          18.5,
          19.5,
          20.5
         ],
         "z": [
          [
           0,
           0.31665534,
           0.3220607,
           0.3275201,
           0.31810904,
           0.32837194,
           0.3370318,
           0.33872283,
           0.3916727,
           0.4006672,
           0.374171,
           0.8744624,
           0.8744048,
           0.8712242,
           0.87119097,
           0.8711713,
           0.87463766,
           0.875138,
           0.87692076,
           0.87587476
          ],
          [
           0.31665534,
           0,
           0.29679877,
           0.31557098,
           0.3194592,
           0.3126689,
           0.32485792,
           0.33207127,
           0.38499457,
           0.39390278,
           0.3673112,
           0.8746683,
           0.87461084,
           0.8691729,
           0.8691974,
           0.8698858,
           0.87146634,
           0.8743241,
           0.8752062,
           0.87349457
          ],
          [
           0.3220607,
           0.29679877,
           0,
           0.27551258,
           0.2976658,
           0.30132297,
           0.3192848,
           0.3362497,
           0.37702408,
           0.38833356,
           0.36971113,
           0.87374073,
           0.87368315,
           0.87114066,
           0.87110746,
           0.87178177,
           0.8739778,
           0.87510645,
           0.87480605,
           0.8753826
          ],
          [
           0.3275201,
           0.31557098,
           0.27551258,
           0,
           0.3000308,
           0.31172553,
           0.32310116,
           0.3457592,
           0.38114664,
           0.38902387,
           0.35150307,
           0.8758561,
           0.87579864,
           0.8696641,
           0.8696888,
           0.8691565,
           0.87281704,
           0.8745295,
           0.8757512,
           0.8751405
          ],
          [
           0.31810904,
           0.3194592,
           0.2976658,
           0.3000308,
           0,
           0.30949774,
           0.30719852,
           0.33926302,
           0.3790008,
           0.386298,
           0.35845697,
           0.8741674,
           0.87410927,
           0.8706636,
           0.8708652,
           0.8714899,
           0.87382627,
           0.87553734,
           0.87625587,
           0.8754186
          ],
          [
           0.32837194,
           0.3126689,
           0.30132297,
           0.31172553,
           0.30949774,
           0,
           0.32025793,
           0.33163574,
           0.36690432,
           0.37708533,
           0.35876256,
           0.8742158,
           0.87415695,
           0.87001264,
           0.8699187,
           0.87049943,
           0.8740456,
           0.87669414,
           0.87621385,
           0.87542385
          ],
          [
           0.3370318,
           0.32485792,
           0.3192848,
           0.32310116,
           0.30719852,
           0.32025793,
           0,
           0.34828904,
           0.36425638,
           0.3750808,
           0.36696312,
           0.8757511,
           0.87569386,
           0.87184626,
           0.87175536,
           0.87202,
           0.87614423,
           0.8775185,
           0.8785028,
           0.8766963
          ],
          [
           0.33872283,
           0.33207127,
           0.3362497,
           0.3457592,
           0.33926302,
           0.33163574,
           0.34828904,
           0,
           0.39489165,
           0.40160587,
           0.37039456,
           0.8752603,
           0.8752032,
           0.8719971,
           0.87196434,
           0.872112,
           0.87542886,
           0.8764744,
           0.87701255,
           0.8773422
          ],
          [
           0.3916727,
           0.38499457,
           0.37702408,
           0.38114664,
           0.3790008,
           0.36690432,
           0.36425638,
           0.39489165,
           0,
           0.31944445,
           0.33723882,
           0.8757872,
           0.8757296,
           0.86958325,
           0.86954945,
           0.8697732,
           0.8719375,
           0.87338334,
           0.875345,
           0.87478244
          ],
          [
           0.4006672,
           0.39390278,
           0.38833356,
           0.38902387,
           0.386298,
           0.37708533,
           0.3750808,
           0.40160587,
           0.31944445,
           0,
           0.36020023,
           0.87706655,
           0.8770099,
           0.8662368,
           0.8662026,
           0.8654081,
           0.8691815,
           0.86913,
           0.8715874,
           0.8707848
          ],
          [
           0.374171,
           0.3673112,
           0.36971113,
           0.35150307,
           0.35845697,
           0.35876256,
           0.36696312,
           0.37039456,
           0.33723882,
           0.36020023,
           0,
           0.874279,
           0.87422156,
           0.8715719,
           0.8715389,
           0.8719207,
           0.8759368,
           0.87714744,
           0.8757804,
           0.87517196
          ],
          [
           0.8744624,
           0.8746683,
           0.87374073,
           0.8758561,
           0.8741674,
           0.8742158,
           0.8757511,
           0.8752603,
           0.8757872,
           0.87706655,
           0.874279,
           0,
           0.00018406037,
           0.80041087,
           0.8002888,
           0.8020931,
           0.82498926,
           0.827203,
           0.81590605,
           0.815841
          ],
          [
           0.8744048,
           0.87461084,
           0.87368315,
           0.87579864,
           0.87410927,
           0.87415695,
           0.87569386,
           0.8752032,
           0.8757296,
           0.8770099,
           0.87422156,
           0.00018406037,
           0,
           0.8003442,
           0.80022216,
           0.8020271,
           0.82492614,
           0.82714087,
           0.81584287,
           0.8157766
          ],
          [
           0.8712242,
           0.8691729,
           0.87114066,
           0.8696641,
           0.8706636,
           0.87001264,
           0.87184626,
           0.8719971,
           0.86958325,
           0.8662368,
           0.8715719,
           0.80041087,
           0.8003442,
           0,
           0.0019534884,
           0.29684177,
           0.6533556,
           0.66247874,
           0.63374,
           0.6277122
          ],
          [
           0.87119097,
           0.8691974,
           0.87110746,
           0.8696888,
           0.8708652,
           0.8699187,
           0.87175536,
           0.87196434,
           0.86954945,
           0.8662026,
           0.8715389,
           0.8002888,
           0.80022216,
           0.0019534884,
           0,
           0.2962963,
           0.6532483,
           0.6624575,
           0.6336266,
           0.6276812
          ],
          [
           0.8711713,
           0.8698858,
           0.87178177,
           0.8691565,
           0.8714899,
           0.87049943,
           0.87202,
           0.872112,
           0.8697732,
           0.8654081,
           0.8719207,
           0.8020931,
           0.8020271,
           0.29684177,
           0.2962963,
           0,
           0.6570149,
           0.6628482,
           0.6332184,
           0.6269551
          ],
          [
           0.87463766,
           0.87146634,
           0.8739778,
           0.87281704,
           0.87382627,
           0.8740456,
           0.87614423,
           0.87542886,
           0.8719375,
           0.8691815,
           0.8759368,
           0.82498926,
           0.82492614,
           0.6533556,
           0.6532483,
           0.6570149,
           0,
           0.17030352,
           0.5766558,
           0.5576049
          ],
          [
           0.875138,
           0.8743241,
           0.87510645,
           0.8745295,
           0.87553734,
           0.87669414,
           0.8775185,
           0.8764744,
           0.87338334,
           0.86913,
           0.87714744,
           0.827203,
           0.82714087,
           0.66247874,
           0.6624575,
           0.6628482,
           0.17030352,
           0,
           0.57827234,
           0.56392825
          ],
          [
           0.87692076,
           0.8752062,
           0.87480605,
           0.8757512,
           0.87625587,
           0.87621385,
           0.8785028,
           0.87701255,
           0.875345,
           0.8715874,
           0.8757804,
           0.81590605,
           0.81584287,
           0.63374,
           0.6336266,
           0.6332184,
           0.5766558,
           0.57827234,
           0,
           0.30545592
          ],
          [
           0.87587476,
           0.87349457,
           0.8753826,
           0.8751405,
           0.8754186,
           0.87542385,
           0.8766963,
           0.8773422,
           0.87478244,
           0.8707848,
           0.87517196,
           0.815841,
           0.8157766,
           0.6277122,
           0.6276812,
           0.6269551,
           0.5576049,
           0.56392825,
           0.30545592,
           0
          ]
         ]
        },
        {
         "hoverinfo": "skip",
         "line": {
          "color": "#666666"
         },
         "mode": "lines",
         "showlegend": false,
         "type": "scatter",
         "x": [
          0.3370318114757538,
          0.3370318114757538,
          null,
          0.3370318114757538,
          0.31665533781051636,
          null,
          0.3370318114757538,
          0.3231011629104614,
          null
         ],
         "xaxis": "x2",
         "y": [
          1.5,
          6.0625,
          null,
          1.5,
          1.5,
          null,
          6.0625,
          6.0625,
          null
         ],
         "yaxis": "y"
        },
        {
         "hoverinfo": "skip",
         "line": {
          "color": "#666666"
         },
         "mode": "lines",
         "showlegend": false,
         "type": "scatter",
         "x": [
          0.8785027861595154,
          0.8785027861595154,
          null,
          0.8785027861595154,
          0.40160587430000305,
          null,
          0.8785027861595154,
          0.8272029757499695,
          null
         ],
         "xaxis": "x2",
         "y": [
          8.0703125,
          14.6875,
          null,
          8.0703125,
          8.0703125,
          null,
          14.6875,
          14.6875,
          null
         ],
         "yaxis": "y"
        },
        {
         "hoverinfo": "skip",
         "line": {
          "color": "#666666"
         },
         "mode": "lines",
         "showlegend": false,
         "type": "scatter",
         "x": [
          0.00018406036542728543,
          0.00018406036542728543,
          null,
          0.00018406036542728543,
          0,
          null,
          0.00018406036542728543,
          0,
          null
         ],
         "xaxis": "x2",
         "y": [
          12,
          13,
          null,
          12,
          12,
          null,
          13,
          13,
          null
         ],
         "yaxis": "y"
        },
        {
         "hoverinfo": "skip",
         "line": {
          "color": "#666666"
         },
         "mode": "lines",
         "showlegend": false,
         "type": "scatter",
         "x": [
          0.30003079771995544,
          0.30003079771995544,
          null,
          0.30003079771995544,
          0.27551257610321045,
          null,
          0.30003079771995544,
          0,
          null
         ],
         "xaxis": "x2",
         "y": [
          3.5,
          5,
          null,
          3.5,
          3.5,
          null,
          5,
          5,
          null
         ],
         "yaxis": "y"
        },
        {
         "hoverinfo": "skip",
         "line": {
          "color": "#666666"
         },
         "mode": "lines",
         "showlegend": false,
         "type": "scatter",
         "x": [
          0.2968417704105377,
          0.2968417704105377,
          null,
          0.2968417704105377,
          0.0019534884486347437,
          null,
          0.2968417704105377,
          0,
          null
         ],
         "xaxis": "x2",
         "y": [
          14.5,
          16,
          null,
          14.5,
          14.5,
          null,
          16,
          16,
          null
         ],
         "yaxis": "y"
        },
        {
         "hoverinfo": "skip",
         "line": {
          "color": "#666666"
         },
         "mode": "lines",
         "showlegend": false,
         "type": "scatter",
         "x": [
          0.40160587430000305,
          0.40160587430000305,
          null,
          0.40160587430000305,
          0.34828904271125793,
          null,
          0.40160587430000305,
          0.3602002263069153,
          null
         ],
         "xaxis": "x2",
         "y": [
          5.890625,
          10.25,
          null,
          5.890625,
          5.890625,
          null,
          10.25,
          10.25,
          null
         ],
         "yaxis": "y"
        },
        {
         "hoverinfo": "skip",
         "line": {
          "color": "#666666"
         },
         "mode": "lines",
         "showlegend": false,
         "type": "scatter",
         "x": [
          0.3602002263069153,
          0.3602002263069153,
          null,
          0.3602002263069153,
          0.3194444477558136,
          null,
          0.3602002263069153,
          0,
          null
         ],
         "xaxis": "x2",
         "y": [
          9.5,
          11,
          null,
          9.5,
          9.5,
          null,
          11,
          11,
          null
         ],
         "yaxis": "y"
        },
        {
         "hoverinfo": "skip",
         "line": {
          "color": "#666666"
         },
         "mode": "lines",
         "showlegend": false,
         "type": "scatter",
         "x": [
          0.31665533781051636,
          0.31665533781051636,
          null,
          0.31665533781051636,
          0,
          null,
          0.31665533781051636,
          0,
          null
         ],
         "xaxis": "x2",
         "y": [
          1,
          2,
          null,
          1,
          1,
          null,
          2,
          2,
          null
         ],
         "yaxis": "y"
        },
        {
         "hoverinfo": "skip",
         "line": {
          "color": "#666666"
         },
         "mode": "lines",
         "showlegend": false,
         "type": "scatter",
         "x": [
          0.0019534884486347437,
          0.0019534884486347437,
          null,
          0.0019534884486347437,
          0,
          null,
          0.0019534884486347437,
          0,
          null
         ],
         "xaxis": "x2",
         "y": [
          14,
          15,
          null,
          14,
          14,
          null,
          15,
          15,
          null
         ],
         "yaxis": "y"
        },
        {
         "hoverinfo": "skip",
         "line": {
          "color": "#666666"
         },
         "mode": "lines",
         "showlegend": false,
         "type": "scatter",
         "x": [
          0.27551257610321045,
          0.27551257610321045,
          null,
          0.27551257610321045,
          0,
          null,
          0.27551257610321045,
          0,
          null
         ],
         "xaxis": "x2",
         "y": [
          3,
          4,
          null,
          3,
          3,
          null,
          4,
          4,
          null
         ],
         "yaxis": "y"
        },
        {
         "hoverinfo": "skip",
         "line": {
          "color": "#666666"
         },
         "mode": "lines",
         "showlegend": false,
         "type": "scatter",
         "x": [
          0.662848174571991,
          0.662848174571991,
          null,
          0.662848174571991,
          0.2968417704105377,
          null,
          0.662848174571991,
          0.5782723426818848,
          null
         ],
         "xaxis": "x2",
         "y": [
          15.25,
          18.5,
          null,
          15.25,
          15.25,
          null,
          18.5,
          18.5,
          null
         ],
         "yaxis": "y"
        },
        {
         "hoverinfo": "skip",
         "line": {
          "color": "#666666"
         },
         "mode": "lines",
         "showlegend": false,
         "type": "scatter",
         "x": [
          0.31172552704811096,
          0.31172552704811096,
          null,
          0.31172552704811096,
          0.30003079771995544,
          null,
          0.31172552704811096,
          0,
          null
         ],
         "xaxis": "x2",
         "y": [
          4.25,
          6,
          null,
          4.25,
          4.25,
          null,
          6,
          6,
          null
         ],
         "yaxis": "y"
        },
        {
         "hoverinfo": "skip",
         "line": {
          "color": "#666666"
         },
         "mode": "lines",
         "showlegend": false,
         "type": "scatter",
         "x": [
          0.8272029757499695,
          0.8272029757499695,
          null,
          0.8272029757499695,
          0.00018406036542728543,
          null,
          0.8272029757499695,
          0.662848174571991,
          null
         ],
         "xaxis": "x2",
         "y": [
          12.5,
          16.875,
          null,
          12.5,
          12.5,
          null,
          16.875,
          16.875,
          null
         ],
         "yaxis": "y"
        },
        {
         "hoverinfo": "skip",
         "line": {
          "color": "#666666"
         },
         "mode": "lines",
         "showlegend": false,
         "type": "scatter",
         "x": [
          0.17030352354049683,
          0.17030352354049683,
          null,
          0.17030352354049683,
          0,
          null,
          0.17030352354049683,
          0,
          null
         ],
         "xaxis": "x2",
         "y": [
          17,
          18,
          null,
          17,
          17,
          null,
          18,
          18,
          null
         ],
         "yaxis": "y"
        },
        {
         "hoverinfo": "skip",
         "line": {
          "color": "#666666"
         },
         "mode": "lines",
         "showlegend": false,
         "type": "scatter",
         "x": [
          0.3231011629104614,
          0.3231011629104614,
          null,
          0.3231011629104614,
          0.31172552704811096,
          null,
          0.3231011629104614,
          0,
          null
         ],
         "xaxis": "x2",
         "y": [
          5.125,
          7,
          null,
          5.125,
          5.125,
          null,
          7,
          7,
          null
         ],
         "yaxis": "y"
        },
        {
         "hoverinfo": "skip",
         "line": {
          "color": "#666666"
         },
         "mode": "lines",
         "showlegend": false,
         "type": "scatter",
         "x": [
          0.30545592308044434,
          0.30545592308044434,
          null,
          0.30545592308044434,
          0,
          null,
          0.30545592308044434,
          0,
          null
         ],
         "xaxis": "x2",
         "y": [
          19,
          20,
          null,
          19,
          19,
          null,
          20,
          20,
          null
         ],
         "yaxis": "y"
        },
        {
         "hoverinfo": "skip",
         "line": {
          "color": "#666666"
         },
         "mode": "lines",
         "showlegend": false,
         "type": "scatter",
         "x": [
          0.5782723426818848,
          0.5782723426818848,
          null,
          0.5782723426818848,
          0.17030352354049683,
          null,
          0.5782723426818848,
          0.30545592308044434,
          null
         ],
         "xaxis": "x2",
         "y": [
          17.5,
          19.5,
          null,
          17.5,
          17.5,
          null,
          19.5,
          19.5,
          null
         ],
         "yaxis": "y"
        },
        {
         "hoverinfo": "skip",
         "line": {
          "color": "#666666"
         },
         "mode": "lines",
         "showlegend": false,
         "type": "scatter",
         "x": [
          0.34828904271125793,
          0.34828904271125793,
          null,
          0.34828904271125793,
          0.3370318114757538,
          null,
          0.34828904271125793,
          0,
          null
         ],
         "xaxis": "x2",
         "y": [
          3.78125,
          8,
          null,
          3.78125,
          3.78125,
          null,
          8,
          8,
          null
         ],
         "yaxis": "y"
        },
        {
         "hoverinfo": "skip",
         "line": {
          "color": "#666666"
         },
         "mode": "lines",
         "showlegend": false,
         "type": "scatter",
         "x": [
          0.3194444477558136,
          0.3194444477558136,
          null,
          0.3194444477558136,
          0,
          null,
          0.3194444477558136,
          0,
          null
         ],
         "xaxis": "x2",
         "y": [
          9,
          10,
          null,
          9,
          9,
          null,
          10,
          10,
          null
         ],
         "yaxis": "y"
        },
        {
         "customdata": [
          [
           30,
           2
          ],
          [
           32,
           7
          ],
          [
           39,
           20
          ],
          [
           21,
           2
          ],
          [
           26,
           3
          ],
          [
           25,
           3
          ],
          [
           35,
           11
          ],
          [
           34,
           3
          ],
          [
           29,
           2
          ],
          [
           22,
           2
          ],
          [
           24,
           2
          ],
          [
           37,
           7
          ],
          [
           28,
           4
          ],
          [
           38,
           9
          ],
          [
           23,
           2
          ],
          [
           31,
           5
          ],
          [
           27,
           2
          ],
          [
           36,
           4
          ],
          [
           33,
           8
          ]
         ],
         "hovertemplate": "ID: %{customdata[0]}<br>\nHeight: %{x:.3f}<br>\nGenome count: %{customdata[1]}\n\n<extra></extra>",
         "marker": {
          "color": "#666666",
          "size": [
           8,
           4,
           8,
           8,
           4,
           8,
           8,
           4,
           4,
           8,
           8,
           8,
           4,
           8,
           8,
           4,
           8,
           8,
           8
          ]
         },
         "mode": "markers",
         "showlegend": false,
         "type": "scatter",
         "x": [
          0.3194444477558136,
          0.3370318114757538,
          0.8785027861595154,
          0.00018406036542728543,
          0.30003079771995544,
          0.2968417704105377,
          0.40160587430000305,
          0.3602002263069153,
          0.31665533781051636,
          0.0019534884486347437,
          0.27551257610321045,
          0.662848174571991,
          0.31172552704811096,
          0.8272029757499695,
          0.17030352354049683,
          0.3231011629104614,
          0.30545592308044434,
          0.5782723426818848,
          0.34828904271125793
         ],
         "xaxis": "x2",
         "y": [
          9.5,
          3.78125,
          11.37890625,
          12.5,
          4.25,
          15.25,
          8.0703125,
          10.25,
          1.5,
          14.5,
          3.5,
          16.875,
          5.125,
          14.6875,
          17.5,
          6.0625,
          19.5,
          18.5,
          5.890625
         ],
         "yaxis": "y"
        },
        {
         "hovertemplate": "%{text} <br>\n%{x}\n<extra></extra>\n",
         "marker": {
          "color": "green",
          "line": {
           "color": "green",
           "width": 1
          },
          "symbol": "line-ns"
         },
         "mode": "markers",
         "text": [
          "safensis"
         ],
         "type": "scatter",
         "x": [
          0.57140976
         ],
         "xaxis": "x2",
         "y": [
          -1,
          -1
         ]
        }
       ],
       "frames": [],
       "layout": {
        "height": 550,
        "hovermode": "closest",
        "margin": {
         "b": 50,
         "l": 50,
         "r": 50,
         "t": 60
        },
        "showlegend": false,
        "width": 1000,
        "xaxis": {
         "autorange": true,
         "domain": [
          0.504950495049505,
          1
         ],
         "range": [
          -0.8037881225981138,
          21.803788122598114
         ],
         "scaleanchor": "y",
         "type": "linear",
         "visible": false
        },
        "xaxis2": {
         "autorange": true,
         "domain": [
          0,
          0.49504950495049505
         ],
         "range": [
          0.9364109673152973,
          0
         ],
         "rangemode": "nonnegative",
         "showspikes": true,
         "spikedash": "solid",
         "spikemode": "across",
         "spikethickness": 1,
         "type": "linear"
        },
        "yaxis": {
         "autorange": true,
         "domain": [
          0,
          1
         ],
         "range": [
          -2.378585086042065,
          21.177820267686425
         ],
         "scaleanchor": "x",
         "type": "linear",
         "visible": false
        }
       }
      },
      "application/vnd.webio.node+json": {
       "children": [
        {
         "children": [],
         "instanceArgs": {
          "namespace": "html",
          "tag": "div"
         },
         "nodeType": "DOM",
         "props": {
          "id": "plot-26d5bc87-1685-4c6a-ac51-258b47c86ca7"
         },
         "type": "node"
        }
       ],
       "instanceArgs": {
        "handlers": {
         "__get_gd_contents": [
          "(function (prop){prop==\"data\" ? (WebIO.setval({\"name\":\"__gd_contents\",\"scope\":\"371756765911897858\",\"id\":\"16121917271656335991\",\"type\":\"observable\"},this.plotElem.data)) : undefined; return prop==\"layout\" ? (WebIO.setval({\"name\":\"__gd_contents\",\"scope\":\"371756765911897858\",\"id\":\"16121917271656335991\",\"type\":\"observable\"},this.plotElem.layout)) : undefined})"
         ],
         "_commands": [
          "(function (args){var fn=args.shift(); var elem=this.plotElem; var Plotly=this.Plotly; args.unshift(elem); return Plotly[fn].apply(this,args)})"
         ],
         "_downloadImage": [
          "(function (options){return this.Plotly.downloadImage(this.plotElem,options)})"
         ],
         "_toImage": [
          "(function (options){return this.Plotly.toImage(this.plotElem,options).then((function (data){return WebIO.setval({\"name\":\"image\",\"scope\":\"371756765911897858\",\"id\":\"1712175345460582103\",\"type\":\"observable\"},data)}))})"
         ]
        },
        "id": "371756765911897858",
        "imports": {
         "data": [
          {
           "name": "Plotly",
           "type": "js",
           "url": "/assetserver/e6903599031aaef8675931dfcd7df98a1aeffbfc-plotly-latest.min.js"
          },
          {
           "name": null,
           "type": "js",
           "url": "/assetserver/74a5dea81f21b0b802ef1ee92f1c8a504eac1a0c-plotly_webio.bundle.js"
          }
         ],
         "type": "async_block"
        },
        "mount_callbacks": [
         "function () {\n    var handler = ((function (Plotly,PlotlyWebIO){PlotlyWebIO.init(WebIO); var gd=this.dom.querySelector(\"#plot-26d5bc87-1685-4c6a-ac51-258b47c86ca7\"); this.plotElem=gd; this.Plotly=Plotly; (window.Blink!==undefined) ? (gd.style.width=\"100%\", gd.style.height=\"100vh\", gd.style.marginLeft=\"0%\", gd.style.marginTop=\"0vh\") : undefined; window.onresize=(function (){return Plotly.Plots.resize(gd)}); Plotly.newPlot(gd,[{\"y\":[0.5,1.5,2.5,3.5,4.5,5.5,6.5,7.5,8.5,9.5,10.5,11.5,12.5,13.5,14.5,15.5,16.5,17.5,18.5,19.5,20.5],\"type\":\"heatmap\",\"colorscale\":[[0.0,\"#000004\"],[0.00392156862745098,\"#010005\"],[0.00784313725490196,\"#010106\"],[0.011764705882352941,\"#010108\"],[0.01568627450980392,\"#020109\"],[0.0196078431372549,\"#02020B\"],[0.023529411764705882,\"#02020D\"],[0.027450980392156862,\"#03030F\"],[0.03137254901960784,\"#030312\"],[0.03529411764705882,\"#040414\"],[0.0392156862745098,\"#050416\"],[0.043137254901960784,\"#060518\"],[0.047058823529411764,\"#06051A\"],[0.050980392156862744,\"#07061C\"],[0.054901960784313725,\"#08071E\"],[0.058823529411764705,\"#090720\"],[0.06274509803921569,\"#0A0822\"],[0.06666666666666667,\"#0B0924\"],[0.07058823529411765,\"#0C0926\"],[0.07450980392156863,\"#0D0A29\"],[0.0784313725490196,\"#0E0B2B\"],[0.08235294117647059,\"#100B2D\"],[0.08627450980392157,\"#110C2F\"],[0.09019607843137255,\"#120D31\"],[0.09411764705882353,\"#130D34\"],[0.09803921568627451,\"#140E36\"],[0.10196078431372549,\"#150E38\"],[0.10588235294117647,\"#160F3B\"],[0.10980392156862745,\"#180F3D\"],[0.11372549019607843,\"#19103F\"],[0.11764705882352941,\"#1A1042\"],[0.12156862745098039,\"#1C1044\"],[0.12549019607843137,\"#1D1147\"],[0.12941176470588237,\"#1E1149\"],[0.13333333333333333,\"#20114B\"],[0.13725490196078433,\"#21114E\"],[0.1411764705882353,\"#221150\"],[0.1450980392156863,\"#241253\"],[0.14901960784313725,\"#251255\"],[0.15294117647058825,\"#271258\"],[0.1568627450980392,\"#29115A\"],[0.1607843137254902,\"#2A115C\"],[0.16470588235294117,\"#2C115F\"],[0.16862745098039217,\"#2D1161\"],[0.17254901960784313,\"#2F1163\"],[0.17647058823529413,\"#311165\"],[0.1803921568627451,\"#331067\"],[0.1843137254901961,\"#341069\"],[0.18823529411764706,\"#36106B\"],[0.19215686274509805,\"#38106C\"],[0.19607843137254902,\"#390F6E\"],[0.2,\"#3B0F70\"],[0.20392156862745098,\"#3D0F71\"],[0.20784313725490197,\"#3F0F72\"],[0.21176470588235294,\"#400F74\"],[0.21568627450980393,\"#420F75\"],[0.2196078431372549,\"#440F76\"],[0.2235294117647059,\"#451077\"],[0.22745098039215686,\"#471078\"],[0.23137254901960785,\"#491078\"],[0.23529411764705882,\"#4A1079\"],[0.23921568627450981,\"#4C117A\"],[0.24313725490196078,\"#4E117B\"],[0.24705882352941178,\"#4F127B\"],[0.25098039215686274,\"#51127C\"],[0.2549019607843137,\"#52137C\"],[0.25882352941176473,\"#54137D\"],[0.2627450980392157,\"#56147D\"],[0.26666666666666666,\"#57157E\"],[0.27058823529411763,\"#59157E\"],[0.27450980392156865,\"#5A167E\"],[0.2784313725490196,\"#5C167F\"],[0.2823529411764706,\"#5D177F\"],[0.28627450980392155,\"#5F187F\"],[0.2901960784313726,\"#601880\"],[0.29411764705882354,\"#621980\"],[0.2980392156862745,\"#641A80\"],[0.30196078431372547,\"#651A80\"],[0.3058823529411765,\"#671B80\"],[0.30980392156862746,\"#681C81\"],[0.3137254901960784,\"#6A1C81\"],[0.3176470588235294,\"#6B1D81\"],[0.3215686274509804,\"#6D1D81\"],[0.3254901960784314,\"#6E1E81\"],[0.32941176470588235,\"#701F81\"],[0.3333333333333333,\"#721F81\"],[0.33725490196078434,\"#732081\"],[0.3411764705882353,\"#752181\"],[0.34509803921568627,\"#762181\"],[0.34901960784313724,\"#782281\"],[0.35294117647058826,\"#792282\"],[0.3568627450980392,\"#7B2382\"],[0.3607843137254902,\"#7C2382\"],[0.36470588235294116,\"#7E2482\"],[0.3686274509803922,\"#802582\"],[0.37254901960784315,\"#812581\"],[0.3764705882352941,\"#832681\"],[0.3803921568627451,\"#842681\"],[0.3843137254901961,\"#862781\"],[0.38823529411764707,\"#882781\"],[0.39215686274509803,\"#892881\"],[0.396078431372549,\"#8B2981\"],[0.4,\"#8C2981\"],[0.403921568627451,\"#8E2A81\"],[0.40784313725490196,\"#902A81\"],[0.4117647058823529,\"#912B81\"],[0.41568627450980394,\"#932B80\"],[0.4196078431372549,\"#942C80\"],[0.4235294117647059,\"#962C80\"],[0.42745098039215684,\"#982D80\"],[0.43137254901960786,\"#992D80\"],[0.43529411764705883,\"#9B2E7F\"],[0.4392156862745098,\"#9C2E7F\"],[0.44313725490196076,\"#9E2F7F\"],[0.4470588235294118,\"#A02F7F\"],[0.45098039215686275,\"#A1307E\"],[0.4549019607843137,\"#A3307E\"],[0.4588235294117647,\"#A5317E\"],[0.4627450980392157,\"#A6317D\"],[0.4666666666666667,\"#A8327D\"],[0.47058823529411764,\"#AA337D\"],[0.4745098039215686,\"#AB337C\"],[0.47843137254901963,\"#AD347C\"],[0.4823529411764706,\"#AE347B\"],[0.48627450980392156,\"#B0357B\"],[0.49019607843137253,\"#B2357B\"],[0.49411764705882355,\"#B3367A\"],[0.4980392156862745,\"#B5367A\"],[0.5019607843137255,\"#B73779\"],[0.5058823529411764,\"#B83779\"],[0.5098039215686274,\"#BA3878\"],[0.5137254901960784,\"#BC3978\"],[0.5176470588235295,\"#BD3977\"],[0.5215686274509804,\"#BF3A77\"],[0.5254901960784314,\"#C03A76\"],[0.5294117647058824,\"#C23B75\"],[0.5333333333333333,\"#C43C75\"],[0.5372549019607843,\"#C53C74\"],[0.5411764705882353,\"#C73D73\"],[0.5450980392156862,\"#C83E73\"],[0.5490196078431373,\"#CA3E72\"],[0.5529411764705883,\"#CC3F71\"],[0.5568627450980392,\"#CD4071\"],[0.5607843137254902,\"#CF4070\"],[0.5647058823529412,\"#D0416F\"],[0.5686274509803921,\"#D2426F\"],[0.5725490196078431,\"#D3436E\"],[0.5764705882352941,\"#D5446D\"],[0.5803921568627451,\"#D6456C\"],[0.5843137254901961,\"#D8456C\"],[0.5882352941176471,\"#D9466B\"],[0.592156862745098,\"#DB476A\"],[0.596078431372549,\"#DC4869\"],[0.6,\"#DE4968\"],[0.6039215686274509,\"#DF4A68\"],[0.6078431372549019,\"#E04C67\"],[0.611764705882353,\"#E24D66\"],[0.615686274509804,\"#E34E65\"],[0.6196078431372549,\"#E44F64\"],[0.6235294117647059,\"#E55064\"],[0.6274509803921569,\"#E75263\"],[0.6313725490196078,\"#E85362\"],[0.6352941176470588,\"#E95462\"],[0.6392156862745098,\"#EA5661\"],[0.6431372549019608,\"#EB5760\"],[0.6470588235294118,\"#EC5860\"],[0.6509803921568628,\"#ED5A5F\"],[0.6549019607843137,\"#EE5B5E\"],[0.6588235294117647,\"#EF5D5E\"],[0.6627450980392157,\"#F05F5E\"],[0.6666666666666666,\"#F1605D\"],[0.6705882352941176,\"#F2625D\"],[0.6745098039215687,\"#F2645C\"],[0.6784313725490196,\"#F3655C\"],[0.6823529411764706,\"#F4675C\"],[0.6862745098039216,\"#F4695C\"],[0.6901960784313725,\"#F56B5C\"],[0.6941176470588235,\"#F66C5C\"],[0.6980392156862745,\"#F66E5C\"],[0.7019607843137254,\"#F7705C\"],[0.7058823529411765,\"#F7725C\"],[0.7098039215686275,\"#F8745C\"],[0.7137254901960784,\"#F8765C\"],[0.7176470588235294,\"#F9785D\"],[0.7215686274509804,\"#F9795D\"],[0.7254901960784313,\"#F97B5D\"],[0.7294117647058823,\"#FA7D5E\"],[0.7333333333333333,\"#FA7F5E\"],[0.7372549019607844,\"#FA815F\"],[0.7411764705882353,\"#FB835F\"],[0.7450980392156863,\"#FB8560\"],[0.7490196078431373,\"#FB8761\"],[0.7529411764705882,\"#FC8961\"],[0.7568627450980392,\"#FC8A62\"],[0.7607843137254902,\"#FC8C63\"],[0.7647058823529411,\"#FC8E64\"],[0.7686274509803922,\"#FC9065\"],[0.7725490196078432,\"#FD9266\"],[0.7764705882352941,\"#FD9467\"],[0.7803921568627451,\"#FD9668\"],[0.7843137254901961,\"#FD9869\"],[0.788235294117647,\"#FD9A6A\"],[0.792156862745098,\"#FD9B6B\"],[0.796078431372549,\"#FE9D6C\"],[0.8,\"#FE9F6D\"],[0.803921568627451,\"#FEA16E\"],[0.807843137254902,\"#FEA36F\"],[0.8117647058823529,\"#FEA571\"],[0.8156862745098039,\"#FEA772\"],[0.8196078431372549,\"#FEA973\"],[0.8235294117647058,\"#FEAA74\"],[0.8274509803921568,\"#FEAC76\"],[0.8313725490196079,\"#FEAE77\"],[0.8352941176470589,\"#FEB078\"],[0.8392156862745098,\"#FEB27A\"],[0.8431372549019608,\"#FEB47B\"],[0.8470588235294118,\"#FEB67C\"],[0.8509803921568627,\"#FEB77E\"],[0.8549019607843137,\"#FEB97F\"],[0.8588235294117647,\"#FEBB81\"],[0.8627450980392157,\"#FEBD82\"],[0.8666666666666667,\"#FEBF84\"],[0.8705882352941177,\"#FEC185\"],[0.8745098039215686,\"#FEC287\"],[0.8784313725490196,\"#FEC488\"],[0.8823529411764706,\"#FEC68A\"],[0.8862745098039215,\"#FEC88C\"],[0.8901960784313725,\"#FECA8D\"],[0.8941176470588236,\"#FECC8F\"],[0.8980392156862745,\"#FECD90\"],[0.9019607843137255,\"#FECF92\"],[0.9058823529411765,\"#FED194\"],[0.9098039215686274,\"#FED395\"],[0.9137254901960784,\"#FED597\"],[0.9176470588235294,\"#FED799\"],[0.9215686274509803,\"#FED89A\"],[0.9254901960784314,\"#FDDA9C\"],[0.9294117647058824,\"#FDDC9E\"],[0.9333333333333333,\"#FDDEA0\"],[0.9372549019607843,\"#FDE0A1\"],[0.9411764705882353,\"#FDE2A3\"],[0.9450980392156862,\"#FDE3A5\"],[0.9490196078431372,\"#FDE5A7\"],[0.9529411764705882,\"#FDE7A9\"],[0.9568627450980393,\"#FDE9AA\"],[0.9607843137254902,\"#FDEBAC\"],[0.9647058823529412,\"#FCECAE\"],[0.9686274509803922,\"#FCEEB0\"],[0.9725490196078431,\"#FCF0B2\"],[0.9764705882352941,\"#FCF2B4\"],[0.9803921568627451,\"#FCF4B6\"],[0.984313725490196,\"#FCF6B8\"],[0.9882352941176471,\"#FCF7B9\"],[0.9921568627450981,\"#FCF9BB\"],[0.996078431372549,\"#FCFBBD\"],[1.0,\"#FCFDBF\"]],\"z\":[[0.0,0.31665534,0.3220607,0.3275201,0.31810904,0.32837194,0.3370318,0.33872283,0.3916727,0.4006672,0.374171,0.8744624,0.8744048,0.8712242,0.87119097,0.8711713,0.87463766,0.875138,0.87692076,0.87587476],[0.31665534,0.0,0.29679877,0.31557098,0.3194592,0.3126689,0.32485792,0.33207127,0.38499457,0.39390278,0.3673112,0.8746683,0.87461084,0.8691729,0.8691974,0.8698858,0.87146634,0.8743241,0.8752062,0.87349457],[0.3220607,0.29679877,0.0,0.27551258,0.2976658,0.30132297,0.3192848,0.3362497,0.37702408,0.38833356,0.36971113,0.87374073,0.87368315,0.87114066,0.87110746,0.87178177,0.8739778,0.87510645,0.87480605,0.8753826],[0.3275201,0.31557098,0.27551258,0.0,0.3000308,0.31172553,0.32310116,0.3457592,0.38114664,0.38902387,0.35150307,0.8758561,0.87579864,0.8696641,0.8696888,0.8691565,0.87281704,0.8745295,0.8757512,0.8751405],[0.31810904,0.3194592,0.2976658,0.3000308,0.0,0.30949774,0.30719852,0.33926302,0.3790008,0.386298,0.35845697,0.8741674,0.87410927,0.8706636,0.8708652,0.8714899,0.87382627,0.87553734,0.87625587,0.8754186],[0.32837194,0.3126689,0.30132297,0.31172553,0.30949774,0.0,0.32025793,0.33163574,0.36690432,0.37708533,0.35876256,0.8742158,0.87415695,0.87001264,0.8699187,0.87049943,0.8740456,0.87669414,0.87621385,0.87542385],[0.3370318,0.32485792,0.3192848,0.32310116,0.30719852,0.32025793,0.0,0.34828904,0.36425638,0.3750808,0.36696312,0.8757511,0.87569386,0.87184626,0.87175536,0.87202,0.87614423,0.8775185,0.8785028,0.8766963],[0.33872283,0.33207127,0.3362497,0.3457592,0.33926302,0.33163574,0.34828904,0.0,0.39489165,0.40160587,0.37039456,0.8752603,0.8752032,0.8719971,0.87196434,0.872112,0.87542886,0.8764744,0.87701255,0.8773422],[0.3916727,0.38499457,0.37702408,0.38114664,0.3790008,0.36690432,0.36425638,0.39489165,0.0,0.31944445,0.33723882,0.8757872,0.8757296,0.86958325,0.86954945,0.8697732,0.8719375,0.87338334,0.875345,0.87478244],[0.4006672,0.39390278,0.38833356,0.38902387,0.386298,0.37708533,0.3750808,0.40160587,0.31944445,0.0,0.36020023,0.87706655,0.8770099,0.8662368,0.8662026,0.8654081,0.8691815,0.86913,0.8715874,0.8707848],[0.374171,0.3673112,0.36971113,0.35150307,0.35845697,0.35876256,0.36696312,0.37039456,0.33723882,0.36020023,0.0,0.874279,0.87422156,0.8715719,0.8715389,0.8719207,0.8759368,0.87714744,0.8757804,0.87517196],[0.8744624,0.8746683,0.87374073,0.8758561,0.8741674,0.8742158,0.8757511,0.8752603,0.8757872,0.87706655,0.874279,0.0,0.00018406037,0.80041087,0.8002888,0.8020931,0.82498926,0.827203,0.81590605,0.815841],[0.8744048,0.87461084,0.87368315,0.87579864,0.87410927,0.87415695,0.87569386,0.8752032,0.8757296,0.8770099,0.87422156,0.00018406037,0.0,0.8003442,0.80022216,0.8020271,0.82492614,0.82714087,0.81584287,0.8157766],[0.8712242,0.8691729,0.87114066,0.8696641,0.8706636,0.87001264,0.87184626,0.8719971,0.86958325,0.8662368,0.8715719,0.80041087,0.8003442,0.0,0.0019534884,0.29684177,0.6533556,0.66247874,0.63374,0.6277122],[0.87119097,0.8691974,0.87110746,0.8696888,0.8708652,0.8699187,0.87175536,0.87196434,0.86954945,0.8662026,0.8715389,0.8002888,0.80022216,0.0019534884,0.0,0.2962963,0.6532483,0.6624575,0.6336266,0.6276812],[0.8711713,0.8698858,0.87178177,0.8691565,0.8714899,0.87049943,0.87202,0.872112,0.8697732,0.8654081,0.8719207,0.8020931,0.8020271,0.29684177,0.2962963,0.0,0.6570149,0.6628482,0.6332184,0.6269551],[0.87463766,0.87146634,0.8739778,0.87281704,0.87382627,0.8740456,0.87614423,0.87542886,0.8719375,0.8691815,0.8759368,0.82498926,0.82492614,0.6533556,0.6532483,0.6570149,0.0,0.17030352,0.5766558,0.5576049],[0.875138,0.8743241,0.87510645,0.8745295,0.87553734,0.87669414,0.8775185,0.8764744,0.87338334,0.86913,0.87714744,0.827203,0.82714087,0.66247874,0.6624575,0.6628482,0.17030352,0.0,0.57827234,0.56392825],[0.87692076,0.8752062,0.87480605,0.8757512,0.87625587,0.87621385,0.8785028,0.87701255,0.875345,0.8715874,0.8757804,0.81590605,0.81584287,0.63374,0.6336266,0.6332184,0.5766558,0.57827234,0.0,0.30545592],[0.87587476,0.87349457,0.8753826,0.8751405,0.8754186,0.87542385,0.8766963,0.8773422,0.87478244,0.8707848,0.87517196,0.815841,0.8157766,0.6277122,0.6276812,0.6269551,0.5576049,0.56392825,0.30545592,0.0]],\"x\":[0.5,1.5,2.5,3.5,4.5,5.5,6.5,7.5,8.5,9.5,10.5,11.5,12.5,13.5,14.5,15.5,16.5,17.5,18.5,19.5,20.5]},{\"showlegend\":false,\"mode\":\"lines\",\"xaxis\":\"x2\",\"line\":{\"color\":\"#666666\"},\"y\":[1.5,6.0625,null,1.5,1.5,null,6.0625,6.0625,null],\"type\":\"scatter\",\"hoverinfo\":\"skip\",\"yaxis\":\"y\",\"x\":[0.3370318114757538,0.3370318114757538,null,0.3370318114757538,0.31665533781051636,null,0.3370318114757538,0.3231011629104614,null]},{\"showlegend\":false,\"mode\":\"lines\",\"xaxis\":\"x2\",\"line\":{\"color\":\"#666666\"},\"y\":[8.0703125,14.6875,null,8.0703125,8.0703125,null,14.6875,14.6875,null],\"type\":\"scatter\",\"hoverinfo\":\"skip\",\"yaxis\":\"y\",\"x\":[0.8785027861595154,0.8785027861595154,null,0.8785027861595154,0.40160587430000305,null,0.8785027861595154,0.8272029757499695,null]},{\"showlegend\":false,\"mode\":\"lines\",\"xaxis\":\"x2\",\"line\":{\"color\":\"#666666\"},\"y\":[12.0,13.0,null,12.0,12.0,null,13.0,13.0,null],\"type\":\"scatter\",\"hoverinfo\":\"skip\",\"yaxis\":\"y\",\"x\":[0.00018406036542728543,0.00018406036542728543,null,0.00018406036542728543,0.0,null,0.00018406036542728543,0.0,null]},{\"showlegend\":false,\"mode\":\"lines\",\"xaxis\":\"x2\",\"line\":{\"color\":\"#666666\"},\"y\":[3.5,5.0,null,3.5,3.5,null,5.0,5.0,null],\"type\":\"scatter\",\"hoverinfo\":\"skip\",\"yaxis\":\"y\",\"x\":[0.30003079771995544,0.30003079771995544,null,0.30003079771995544,0.27551257610321045,null,0.30003079771995544,0.0,null]},{\"showlegend\":false,\"mode\":\"lines\",\"xaxis\":\"x2\",\"line\":{\"color\":\"#666666\"},\"y\":[14.5,16.0,null,14.5,14.5,null,16.0,16.0,null],\"type\":\"scatter\",\"hoverinfo\":\"skip\",\"yaxis\":\"y\",\"x\":[0.2968417704105377,0.2968417704105377,null,0.2968417704105377,0.0019534884486347437,null,0.2968417704105377,0.0,null]},{\"showlegend\":false,\"mode\":\"lines\",\"xaxis\":\"x2\",\"line\":{\"color\":\"#666666\"},\"y\":[5.890625,10.25,null,5.890625,5.890625,null,10.25,10.25,null],\"type\":\"scatter\",\"hoverinfo\":\"skip\",\"yaxis\":\"y\",\"x\":[0.40160587430000305,0.40160587430000305,null,0.40160587430000305,0.34828904271125793,null,0.40160587430000305,0.3602002263069153,null]},{\"showlegend\":false,\"mode\":\"lines\",\"xaxis\":\"x2\",\"line\":{\"color\":\"#666666\"},\"y\":[9.5,11.0,null,9.5,9.5,null,11.0,11.0,null],\"type\":\"scatter\",\"hoverinfo\":\"skip\",\"yaxis\":\"y\",\"x\":[0.3602002263069153,0.3602002263069153,null,0.3602002263069153,0.3194444477558136,null,0.3602002263069153,0.0,null]},{\"showlegend\":false,\"mode\":\"lines\",\"xaxis\":\"x2\",\"line\":{\"color\":\"#666666\"},\"y\":[1.0,2.0,null,1.0,1.0,null,2.0,2.0,null],\"type\":\"scatter\",\"hoverinfo\":\"skip\",\"yaxis\":\"y\",\"x\":[0.31665533781051636,0.31665533781051636,null,0.31665533781051636,0.0,null,0.31665533781051636,0.0,null]},{\"showlegend\":false,\"mode\":\"lines\",\"xaxis\":\"x2\",\"line\":{\"color\":\"#666666\"},\"y\":[14.0,15.0,null,14.0,14.0,null,15.0,15.0,null],\"type\":\"scatter\",\"hoverinfo\":\"skip\",\"yaxis\":\"y\",\"x\":[0.0019534884486347437,0.0019534884486347437,null,0.0019534884486347437,0.0,null,0.0019534884486347437,0.0,null]},{\"showlegend\":false,\"mode\":\"lines\",\"xaxis\":\"x2\",\"line\":{\"color\":\"#666666\"},\"y\":[3.0,4.0,null,3.0,3.0,null,4.0,4.0,null],\"type\":\"scatter\",\"hoverinfo\":\"skip\",\"yaxis\":\"y\",\"x\":[0.27551257610321045,0.27551257610321045,null,0.27551257610321045,0.0,null,0.27551257610321045,0.0,null]},{\"showlegend\":false,\"mode\":\"lines\",\"xaxis\":\"x2\",\"line\":{\"color\":\"#666666\"},\"y\":[15.25,18.5,null,15.25,15.25,null,18.5,18.5,null],\"type\":\"scatter\",\"hoverinfo\":\"skip\",\"yaxis\":\"y\",\"x\":[0.662848174571991,0.662848174571991,null,0.662848174571991,0.2968417704105377,null,0.662848174571991,0.5782723426818848,null]},{\"showlegend\":false,\"mode\":\"lines\",\"xaxis\":\"x2\",\"line\":{\"color\":\"#666666\"},\"y\":[4.25,6.0,null,4.25,4.25,null,6.0,6.0,null],\"type\":\"scatter\",\"hoverinfo\":\"skip\",\"yaxis\":\"y\",\"x\":[0.31172552704811096,0.31172552704811096,null,0.31172552704811096,0.30003079771995544,null,0.31172552704811096,0.0,null]},{\"showlegend\":false,\"mode\":\"lines\",\"xaxis\":\"x2\",\"line\":{\"color\":\"#666666\"},\"y\":[12.5,16.875,null,12.5,12.5,null,16.875,16.875,null],\"type\":\"scatter\",\"hoverinfo\":\"skip\",\"yaxis\":\"y\",\"x\":[0.8272029757499695,0.8272029757499695,null,0.8272029757499695,0.00018406036542728543,null,0.8272029757499695,0.662848174571991,null]},{\"showlegend\":false,\"mode\":\"lines\",\"xaxis\":\"x2\",\"line\":{\"color\":\"#666666\"},\"y\":[17.0,18.0,null,17.0,17.0,null,18.0,18.0,null],\"type\":\"scatter\",\"hoverinfo\":\"skip\",\"yaxis\":\"y\",\"x\":[0.17030352354049683,0.17030352354049683,null,0.17030352354049683,0.0,null,0.17030352354049683,0.0,null]},{\"showlegend\":false,\"mode\":\"lines\",\"xaxis\":\"x2\",\"line\":{\"color\":\"#666666\"},\"y\":[5.125,7.0,null,5.125,5.125,null,7.0,7.0,null],\"type\":\"scatter\",\"hoverinfo\":\"skip\",\"yaxis\":\"y\",\"x\":[0.3231011629104614,0.3231011629104614,null,0.3231011629104614,0.31172552704811096,null,0.3231011629104614,0.0,null]},{\"showlegend\":false,\"mode\":\"lines\",\"xaxis\":\"x2\",\"line\":{\"color\":\"#666666\"},\"y\":[19.0,20.0,null,19.0,19.0,null,20.0,20.0,null],\"type\":\"scatter\",\"hoverinfo\":\"skip\",\"yaxis\":\"y\",\"x\":[0.30545592308044434,0.30545592308044434,null,0.30545592308044434,0.0,null,0.30545592308044434,0.0,null]},{\"showlegend\":false,\"mode\":\"lines\",\"xaxis\":\"x2\",\"line\":{\"color\":\"#666666\"},\"y\":[17.5,19.5,null,17.5,17.5,null,19.5,19.5,null],\"type\":\"scatter\",\"hoverinfo\":\"skip\",\"yaxis\":\"y\",\"x\":[0.5782723426818848,0.5782723426818848,null,0.5782723426818848,0.17030352354049683,null,0.5782723426818848,0.30545592308044434,null]},{\"showlegend\":false,\"mode\":\"lines\",\"xaxis\":\"x2\",\"line\":{\"color\":\"#666666\"},\"y\":[3.78125,8.0,null,3.78125,3.78125,null,8.0,8.0,null],\"type\":\"scatter\",\"hoverinfo\":\"skip\",\"yaxis\":\"y\",\"x\":[0.34828904271125793,0.34828904271125793,null,0.34828904271125793,0.3370318114757538,null,0.34828904271125793,0.0,null]},{\"showlegend\":false,\"mode\":\"lines\",\"xaxis\":\"x2\",\"line\":{\"color\":\"#666666\"},\"y\":[9.0,10.0,null,9.0,9.0,null,10.0,10.0,null],\"type\":\"scatter\",\"hoverinfo\":\"skip\",\"yaxis\":\"y\",\"x\":[0.3194444477558136,0.3194444477558136,null,0.3194444477558136,0.0,null,0.3194444477558136,0.0,null]},{\"showlegend\":false,\"mode\":\"markers\",\"xaxis\":\"x2\",\"marker\":{\"color\":\"#666666\",\"size\":[8,4,8,8,4,8,8,4,4,8,8,8,4,8,8,4,8,8,8]},\"y\":[9.5,3.78125,11.37890625,12.5,4.25,15.25,8.0703125,10.25,1.5,14.5,3.5,16.875,5.125,14.6875,17.5,6.0625,19.5,18.5,5.890625],\"type\":\"scatter\",\"customdata\":[[30,2],[32,7],[39,20],[21,2],[26,3],[25,3],[35,11],[34,3],[29,2],[22,2],[24,2],[37,7],[28,4],[38,9],[23,2],[31,5],[27,2],[36,4],[33,8]],\"yaxis\":\"y\",\"hovertemplate\":\"ID: %{customdata[0]}<br>\\nHeight: %{x:.3f}<br>\\nGenome count: %{customdata[1]}\\n\\n<extra></extra>\",\"x\":[0.3194444477558136,0.3370318114757538,0.8785027861595154,0.00018406036542728543,0.30003079771995544,0.2968417704105377,0.40160587430000305,0.3602002263069153,0.31665533781051636,0.0019534884486347437,0.27551257610321045,0.662848174571991,0.31172552704811096,0.8272029757499695,0.17030352354049683,0.3231011629104614,0.30545592308044434,0.5782723426818848,0.34828904271125793]},{\"marker\":{\"symbol\":\"line-ns\",\"color\":\"green\",\"line\":{\"color\":\"green\",\"width\":1}},\"mode\":\"markers\",\"xaxis\":\"x2\",\"y\":[-1,-1],\"type\":\"scatter\",\"text\":[\"safensis\"],\"hovertemplate\":\"%{text} <br>\\n%{x}\\n<extra></extra>\\n\",\"x\":[0.57140976]}],{\"showlegend\":false,\"xaxis\":{\"scaleanchor\":\"y\",\"visible\":false,\"domain\":[0.504950495049505,1.0]},\"hovermode\":\"closest\",\"xaxis2\":{\"rangemode\":\"nonnegative\",\"spikethickness\":1,\"showspikes\":true,\"domain\":[0.0,0.49504950495049505],\"spikemode\":\"across\",\"autorange\":\"reversed\",\"spikedash\":\"solid\"},\"height\":550,\"margin\":{\"l\":50,\"b\":50,\"r\":50,\"t\":60},\"yaxis\":{\"scaleanchor\":\"x\",\"visible\":false},\"width\":1000},{}); gd.on(\"plotly_hover\",(function (data){var filtered_data=WebIO.PlotlyCommands.filterEventData(gd,data,\"hover\"); return !(filtered_data.isnil) ? (WebIO.setval({\"name\":\"hover\",\"scope\":\"371756765911897858\",\"id\":\"4564019608264350325\",\"type\":\"observable\"},filtered_data.out)) : undefined})); gd.on(\"plotly_unhover\",(function (){return WebIO.setval({\"name\":\"hover\",\"scope\":\"371756765911897858\",\"id\":\"4564019608264350325\",\"type\":\"observable\"},{})})); gd.on(\"plotly_selected\",(function (data){var filtered_data=WebIO.PlotlyCommands.filterEventData(gd,data,\"selected\"); return !(filtered_data.isnil) ? (WebIO.setval({\"name\":\"selected\",\"scope\":\"371756765911897858\",\"id\":\"12068072461423024575\",\"type\":\"observable\"},filtered_data.out)) : undefined})); gd.on(\"plotly_deselect\",(function (){return WebIO.setval({\"name\":\"selected\",\"scope\":\"371756765911897858\",\"id\":\"12068072461423024575\",\"type\":\"observable\"},{})})); gd.on(\"plotly_relayout\",(function (data){var filtered_data=WebIO.PlotlyCommands.filterEventData(gd,data,\"relayout\"); return !(filtered_data.isnil) ? (WebIO.setval({\"name\":\"relayout\",\"scope\":\"371756765911897858\",\"id\":\"1860341508104319161\",\"type\":\"observable\"},filtered_data.out)) : undefined})); return gd.on(\"plotly_click\",(function (data){var filtered_data=WebIO.PlotlyCommands.filterEventData(gd,data,\"click\"); return !(filtered_data.isnil) ? (WebIO.setval({\"name\":\"click\",\"scope\":\"371756765911897858\",\"id\":\"12800737697847124660\",\"type\":\"observable\"},filtered_data.out)) : undefined}))}));\n    (WebIO.importBlock({\"data\":[{\"name\":\"Plotly\",\"type\":\"js\",\"url\":\"/assetserver/e6903599031aaef8675931dfcd7df98a1aeffbfc-plotly-latest.min.js\"},{\"name\":null,\"type\":\"js\",\"url\":\"/assetserver/74a5dea81f21b0b802ef1ee92f1c8a504eac1a0c-plotly_webio.bundle.js\"}],\"type\":\"async_block\"})).then((imports) => handler.apply(this, imports));\n}\n"
        ],
        "observables": {
         "__gd_contents": {
          "id": "16121917271656335991",
          "sync": false,
          "value": {}
         },
         "__get_gd_contents": {
          "id": "17672523899299531053",
          "sync": false,
          "value": ""
         },
         "_commands": {
          "id": "5635329875683300215",
          "sync": false,
          "value": []
         },
         "_downloadImage": {
          "id": "3823306152879628880",
          "sync": false,
          "value": {}
         },
         "_toImage": {
          "id": "14773619402786163562",
          "sync": false,
          "value": {}
         },
         "click": {
          "id": "12800737697847124660",
          "sync": false,
          "value": {}
         },
         "hover": {
          "id": "4564019608264350325",
          "sync": false,
          "value": {}
         },
         "image": {
          "id": "1712175345460582103",
          "sync": true,
          "value": ""
         },
         "relayout": {
          "id": "1860341508104319161",
          "sync": false,
          "value": {}
         },
         "selected": {
          "id": "12068072461423024575",
          "sync": false,
          "value": {}
         }
        },
        "systemjs_options": null
       },
       "nodeType": "Scope",
       "props": {},
       "type": "node"
      },
      "image/png": "[encoded data removed]",
      "image/svg+xml": [
       "<svg class=\"main-svg\" xmlns=\"http://www.w3.org/2000/svg\" xmlns:xlink=\"http://www.w3.org/1999/xlink\" width=\"700\" height=\"500\" style=\"\" viewBox=\"0 0 700 500\"><rect x=\"0\" y=\"0\" width=\"700\" height=\"500\" style=\"fill: rgb(255, 255, 255); fill-opacity: 1;\"/><defs id=\"defs-739d0b\"><g class=\"clips\"><clipPath id=\"clip739d0bxyplot\" class=\"plotclip\"><rect width=\"276.73267326732673\" height=\"390\"/></clipPath><clipPath id=\"clip739d0bx2yplot\" class=\"plotclip\"><rect width=\"276.73267326732673\" height=\"390\"/></clipPath><clipPath class=\"axesclip\" id=\"clip739d0bx\"><rect x=\"332.26732673267327\" y=\"0\" width=\"276.73267326732673\" height=\"500\"/></clipPath><clipPath class=\"axesclip\" id=\"clip739d0by\"><rect x=\"0\" y=\"60\" width=\"700\" height=\"390\"/></clipPath><clipPath class=\"axesclip\" id=\"clip739d0bxy\"><rect x=\"332.26732673267327\" y=\"60\" width=\"276.73267326732673\" height=\"390\"/></clipPath><clipPath class=\"axesclip\" id=\"clip739d0bx2\"><rect x=\"50\" y=\"0\" width=\"276.73267326732673\" height=\"500\"/></clipPath><clipPath class=\"axesclip\" id=\"clip739d0bx2y\"><rect x=\"50\" y=\"60\" width=\"276.73267326732673\" height=\"390\"/></clipPath></g><g class=\"gradients\"><linearGradient x1=\"0\" x2=\"0\" y1=\"1\" y2=\"0\" id=\"g739d0b-cbe9e618\"><stop offset=\"0%\" stop-color=\"rgb(0, 0, 4)\" stop-opacity=\"1\"/><stop offset=\"0.39215686274509803%\" stop-color=\"rgb(1, 0, 5)\" stop-opacity=\"1\"/><stop offset=\"0.7843137254901961%\" stop-color=\"rgb(1, 1, 6)\" stop-opacity=\"1\"/><stop offset=\"1.1764705882352942%\" stop-color=\"rgb(1, 1, 8)\" stop-opacity=\"1\"/><stop offset=\"1.5686274509803921%\" stop-color=\"rgb(2, 1, 9)\" stop-opacity=\"1\"/><stop offset=\"1.9607843137254901%\" stop-color=\"rgb(2, 2, 11)\" stop-opacity=\"1\"/><stop offset=\"2.3529411764705883%\" stop-color=\"rgb(2, 2, 13)\" stop-opacity=\"1\"/><stop offset=\"2.7450980392156863%\" stop-color=\"rgb(3, 3, 15)\" stop-opacity=\"1\"/><stop offset=\"3.1372549019607843%\" stop-color=\"rgb(3, 3, 18)\" stop-opacity=\"1\"/><stop offset=\"3.5294117647058822%\" stop-color=\"rgb(4, 4, 20)\" stop-opacity=\"1\"/><stop offset=\"3.9215686274509802%\" stop-color=\"rgb(5, 4, 22)\" stop-opacity=\"1\"/><stop offset=\"4.313725490196078%\" stop-color=\"rgb(6, 5, 24)\" stop-opacity=\"1\"/><stop offset=\"4.705882352941177%\" stop-color=\"rgb(6, 5, 26)\" stop-opacity=\"1\"/><stop offset=\"5.098039215686274%\" stop-color=\"rgb(7, 6, 28)\" stop-opacity=\"1\"/><stop offset=\"5.490196078431373%\" stop-color=\"rgb(8, 7, 30)\" stop-opacity=\"1\"/><stop offset=\"5.88235294117647%\" stop-color=\"rgb(9, 7, 32)\" stop-opacity=\"1\"/><stop offset=\"6.2745098039215685%\" stop-color=\"rgb(10, 8, 34)\" stop-opacity=\"1\"/><stop offset=\"6.666666666666667%\" stop-color=\"rgb(11, 9, 36)\" stop-opacity=\"1\"/><stop offset=\"7.0588235294117645%\" stop-color=\"rgb(12, 9, 38)\" stop-opacity=\"1\"/><stop offset=\"7.450980392156863%\" stop-color=\"rgb(13, 10, 41)\" stop-opacity=\"1\"/><stop offset=\"7.8431372549019605%\" stop-color=\"rgb(14, 11, 43)\" stop-opacity=\"1\"/><stop offset=\"8.235294117647058%\" stop-color=\"rgb(16, 11, 45)\" stop-opacity=\"1\"/><stop offset=\"8.627450980392156%\" stop-color=\"rgb(17, 12, 47)\" stop-opacity=\"1\"/><stop offset=\"9.019607843137255%\" stop-color=\"rgb(18, 13, 49)\" stop-opacity=\"1\"/><stop offset=\"9.411764705882353%\" stop-color=\"rgb(19, 13, 52)\" stop-opacity=\"1\"/><stop offset=\"9.803921568627452%\" stop-color=\"rgb(20, 14, 54)\" stop-opacity=\"1\"/><stop offset=\"10.196078431372548%\" stop-color=\"rgb(21, 14, 56)\" stop-opacity=\"1\"/><stop offset=\"10.588235294117647%\" stop-color=\"rgb(22, 15, 59)\" stop-opacity=\"1\"/><stop offset=\"10.980392156862745%\" stop-color=\"rgb(24, 15, 61)\" stop-opacity=\"1\"/><stop offset=\"11.372549019607844%\" stop-color=\"rgb(25, 16, 63)\" stop-opacity=\"1\"/><stop offset=\"11.76470588235294%\" stop-color=\"rgb(26, 16, 66)\" stop-opacity=\"1\"/><stop offset=\"12.156862745098039%\" stop-color=\"rgb(28, 16, 68)\" stop-opacity=\"1\"/><stop offset=\"12.549019607843137%\" stop-color=\"rgb(29, 17, 71)\" stop-opacity=\"1\"/><stop offset=\"12.941176470588237%\" stop-color=\"rgb(30, 17, 73)\" stop-opacity=\"1\"/><stop offset=\"13.333333333333334%\" stop-color=\"rgb(32, 17, 75)\" stop-opacity=\"1\"/><stop offset=\"13.725490196078432%\" stop-color=\"rgb(33, 17, 78)\" stop-opacity=\"1\"/><stop offset=\"14.117647058823529%\" stop-color=\"rgb(34, 17, 80)\" stop-opacity=\"1\"/><stop offset=\"14.50980392156863%\" stop-color=\"rgb(36, 18, 83)\" stop-opacity=\"1\"/><stop offset=\"14.901960784313726%\" stop-color=\"rgb(37, 18, 85)\" stop-opacity=\"1\"/><stop offset=\"15.294117647058824%\" stop-color=\"rgb(39, 18, 88)\" stop-opacity=\"1\"/><stop offset=\"15.686274509803921%\" stop-color=\"rgb(41, 17, 90)\" stop-opacity=\"1\"/><stop offset=\"16.07843137254902%\" stop-color=\"rgb(42, 17, 92)\" stop-opacity=\"1\"/><stop offset=\"16.470588235294116%\" stop-color=\"rgb(44, 17, 95)\" stop-opacity=\"1\"/><stop offset=\"16.862745098039216%\" stop-color=\"rgb(45, 17, 97)\" stop-opacity=\"1\"/><stop offset=\"17.254901960784313%\" stop-color=\"rgb(47, 17, 99)\" stop-opacity=\"1\"/><stop offset=\"17.647058823529413%\" stop-color=\"rgb(49, 17, 101)\" stop-opacity=\"1\"/><stop offset=\"18.03921568627451%\" stop-color=\"rgb(51, 16, 103)\" stop-opacity=\"1\"/><stop offset=\"18.43137254901961%\" stop-color=\"rgb(52, 16, 105)\" stop-opacity=\"1\"/><stop offset=\"18.823529411764707%\" stop-color=\"rgb(54, 16, 107)\" stop-opacity=\"1\"/><stop offset=\"19.215686274509807%\" stop-color=\"rgb(56, 16, 108)\" stop-opacity=\"1\"/><stop offset=\"19.607843137254903%\" stop-color=\"rgb(57, 15, 110)\" stop-opacity=\"1\"/><stop offset=\"20%\" stop-color=\"rgb(59, 15, 112)\" stop-opacity=\"1\"/><stop offset=\"20.392156862745097%\" stop-color=\"rgb(61, 15, 113)\" stop-opacity=\"1\"/><stop offset=\"20.784313725490197%\" stop-color=\"rgb(63, 15, 114)\" stop-opacity=\"1\"/><stop offset=\"21.176470588235293%\" stop-color=\"rgb(64, 15, 116)\" stop-opacity=\"1\"/><stop offset=\"21.568627450980394%\" stop-color=\"rgb(66, 15, 117)\" stop-opacity=\"1\"/><stop offset=\"21.96078431372549%\" stop-color=\"rgb(68, 15, 118)\" stop-opacity=\"1\"/><stop offset=\"22.35294117647059%\" stop-color=\"rgb(69, 16, 119)\" stop-opacity=\"1\"/><stop offset=\"22.745098039215687%\" stop-color=\"rgb(71, 16, 120)\" stop-opacity=\"1\"/><stop offset=\"23.137254901960784%\" stop-color=\"rgb(73, 16, 120)\" stop-opacity=\"1\"/><stop offset=\"23.52941176470588%\" stop-color=\"rgb(74, 16, 121)\" stop-opacity=\"1\"/><stop offset=\"23.92156862745098%\" stop-color=\"rgb(76, 17, 122)\" stop-opacity=\"1\"/><stop offset=\"24.313725490196077%\" stop-color=\"rgb(78, 17, 123)\" stop-opacity=\"1\"/><stop offset=\"24.705882352941178%\" stop-color=\"rgb(79, 18, 123)\" stop-opacity=\"1\"/><stop offset=\"25.098039215686274%\" stop-color=\"rgb(81, 18, 124)\" stop-opacity=\"1\"/><stop offset=\"25.49019607843137%\" stop-color=\"rgb(82, 19, 124)\" stop-opacity=\"1\"/><stop offset=\"25.882352941176475%\" stop-color=\"rgb(84, 19, 125)\" stop-opacity=\"1\"/><stop offset=\"26.27450980392157%\" stop-color=\"rgb(86, 20, 125)\" stop-opacity=\"1\"/><stop offset=\"26.666666666666668%\" stop-color=\"rgb(87, 21, 126)\" stop-opacity=\"1\"/><stop offset=\"27.058823529411764%\" stop-color=\"rgb(89, 21, 126)\" stop-opacity=\"1\"/><stop offset=\"27.450980392156865%\" stop-color=\"rgb(90, 22, 126)\" stop-opacity=\"1\"/><stop offset=\"27.84313725490196%\" stop-color=\"rgb(92, 22, 127)\" stop-opacity=\"1\"/><stop offset=\"28.235294117647058%\" stop-color=\"rgb(93, 23, 127)\" stop-opacity=\"1\"/><stop offset=\"28.627450980392155%\" stop-color=\"rgb(95, 24, 127)\" stop-opacity=\"1\"/><stop offset=\"29.01960784313726%\" stop-color=\"rgb(96, 24, 128)\" stop-opacity=\"1\"/><stop offset=\"29.411764705882355%\" stop-color=\"rgb(98, 25, 128)\" stop-opacity=\"1\"/><stop offset=\"29.80392156862745%\" stop-color=\"rgb(100, 26, 128)\" stop-opacity=\"1\"/><stop offset=\"30.19607843137255%\" stop-color=\"rgb(101, 26, 128)\" stop-opacity=\"1\"/><stop offset=\"30.58823529411765%\" stop-color=\"rgb(103, 27, 128)\" stop-opacity=\"1\"/><stop offset=\"30.980392156862745%\" stop-color=\"rgb(104, 28, 129)\" stop-opacity=\"1\"/><stop offset=\"31.372549019607842%\" stop-color=\"rgb(106, 28, 129)\" stop-opacity=\"1\"/><stop offset=\"31.76470588235294%\" stop-color=\"rgb(107, 29, 129)\" stop-opacity=\"1\"/><stop offset=\"32.15686274509804%\" stop-color=\"rgb(109, 29, 129)\" stop-opacity=\"1\"/><stop offset=\"32.549019607843135%\" stop-color=\"rgb(110, 30, 129)\" stop-opacity=\"1\"/><stop offset=\"32.94117647058823%\" stop-color=\"rgb(112, 31, 129)\" stop-opacity=\"1\"/><stop offset=\"33.33333333333333%\" stop-color=\"rgb(114, 31, 129)\" stop-opacity=\"1\"/><stop offset=\"33.72549019607843%\" stop-color=\"rgb(115, 32, 129)\" stop-opacity=\"1\"/><stop offset=\"34.11764705882353%\" stop-color=\"rgb(117, 33, 129)\" stop-opacity=\"1\"/><stop offset=\"34.509803921568626%\" stop-color=\"rgb(118, 33, 129)\" stop-opacity=\"1\"/><stop offset=\"34.90196078431372%\" stop-color=\"rgb(120, 34, 129)\" stop-opacity=\"1\"/><stop offset=\"35.294117647058826%\" stop-color=\"rgb(121, 34, 130)\" stop-opacity=\"1\"/><stop offset=\"35.68627450980392%\" stop-color=\"rgb(123, 35, 130)\" stop-opacity=\"1\"/><stop offset=\"36.07843137254902%\" stop-color=\"rgb(124, 35, 130)\" stop-opacity=\"1\"/><stop offset=\"36.470588235294116%\" stop-color=\"rgb(126, 36, 130)\" stop-opacity=\"1\"/><stop offset=\"36.86274509803922%\" stop-color=\"rgb(128, 37, 130)\" stop-opacity=\"1\"/><stop offset=\"37.254901960784316%\" stop-color=\"rgb(129, 37, 129)\" stop-opacity=\"1\"/><stop offset=\"37.64705882352941%\" stop-color=\"rgb(131, 38, 129)\" stop-opacity=\"1\"/><stop offset=\"38.03921568627451%\" stop-color=\"rgb(132, 38, 129)\" stop-opacity=\"1\"/><stop offset=\"38.43137254901961%\" stop-color=\"rgb(134, 39, 129)\" stop-opacity=\"1\"/><stop offset=\"38.82352941176471%\" stop-color=\"rgb(136, 39, 129)\" stop-opacity=\"1\"/><stop offset=\"39.21568627450981%\" stop-color=\"rgb(137, 40, 129)\" stop-opacity=\"1\"/><stop offset=\"39.6078431372549%\" stop-color=\"rgb(139, 41, 129)\" stop-opacity=\"1\"/><stop offset=\"40%\" stop-color=\"rgb(140, 41, 129)\" stop-opacity=\"1\"/><stop offset=\"40.3921568627451%\" stop-color=\"rgb(142, 42, 129)\" stop-opacity=\"1\"/><stop offset=\"40.78431372549019%\" stop-color=\"rgb(144, 42, 129)\" stop-opacity=\"1\"/><stop offset=\"41.17647058823529%\" stop-color=\"rgb(145, 43, 129)\" stop-opacity=\"1\"/><stop offset=\"41.568627450980394%\" stop-color=\"rgb(147, 43, 128)\" stop-opacity=\"1\"/><stop offset=\"41.96078431372549%\" stop-color=\"rgb(148, 44, 128)\" stop-opacity=\"1\"/><stop offset=\"42.35294117647059%\" stop-color=\"rgb(150, 44, 128)\" stop-opacity=\"1\"/><stop offset=\"42.745098039215684%\" stop-color=\"rgb(152, 45, 128)\" stop-opacity=\"1\"/><stop offset=\"43.13725490196079%\" stop-color=\"rgb(153, 45, 128)\" stop-opacity=\"1\"/><stop offset=\"43.529411764705884%\" stop-color=\"rgb(155, 46, 127)\" stop-opacity=\"1\"/><stop offset=\"43.92156862745098%\" stop-color=\"rgb(156, 46, 127)\" stop-opacity=\"1\"/><stop offset=\"44.31372549019608%\" stop-color=\"rgb(158, 47, 127)\" stop-opacity=\"1\"/><stop offset=\"44.70588235294118%\" stop-color=\"rgb(160, 47, 127)\" stop-opacity=\"1\"/><stop offset=\"45.09803921568628%\" stop-color=\"rgb(161, 48, 126)\" stop-opacity=\"1\"/><stop offset=\"45.490196078431374%\" stop-color=\"rgb(163, 48, 126)\" stop-opacity=\"1\"/><stop offset=\"45.88235294117647%\" stop-color=\"rgb(165, 49, 126)\" stop-opacity=\"1\"/><stop offset=\"46.27450980392157%\" stop-color=\"rgb(166, 49, 125)\" stop-opacity=\"1\"/><stop offset=\"46.666666666666664%\" stop-color=\"rgb(168, 50, 125)\" stop-opacity=\"1\"/><stop offset=\"47.05882352941176%\" stop-color=\"rgb(170, 51, 125)\" stop-opacity=\"1\"/><stop offset=\"47.45098039215686%\" stop-color=\"rgb(171, 51, 124)\" stop-opacity=\"1\"/><stop offset=\"47.84313725490196%\" stop-color=\"rgb(173, 52, 124)\" stop-opacity=\"1\"/><stop offset=\"48.23529411764706%\" stop-color=\"rgb(174, 52, 123)\" stop-opacity=\"1\"/><stop offset=\"48.627450980392155%\" stop-color=\"rgb(176, 53, 123)\" stop-opacity=\"1\"/><stop offset=\"49.01960784313725%\" stop-color=\"rgb(178, 53, 123)\" stop-opacity=\"1\"/><stop offset=\"49.411764705882355%\" stop-color=\"rgb(179, 54, 122)\" stop-opacity=\"1\"/><stop offset=\"49.80392156862745%\" stop-color=\"rgb(181, 54, 122)\" stop-opacity=\"1\"/><stop offset=\"50.19607843137255%\" stop-color=\"rgb(183, 55, 121)\" stop-opacity=\"1\"/><stop offset=\"50.588235294117645%\" stop-color=\"rgb(184, 55, 121)\" stop-opacity=\"1\"/><stop offset=\"50.98039215686274%\" stop-color=\"rgb(186, 56, 120)\" stop-opacity=\"1\"/><stop offset=\"51.37254901960784%\" stop-color=\"rgb(188, 57, 120)\" stop-opacity=\"1\"/><stop offset=\"51.76470588235295%\" stop-color=\"rgb(189, 57, 119)\" stop-opacity=\"1\"/><stop offset=\"52.156862745098046%\" stop-color=\"rgb(191, 58, 119)\" stop-opacity=\"1\"/><stop offset=\"52.54901960784314%\" stop-color=\"rgb(192, 58, 118)\" stop-opacity=\"1\"/><stop offset=\"52.94117647058824%\" stop-color=\"rgb(194, 59, 117)\" stop-opacity=\"1\"/><stop offset=\"53.333333333333336%\" stop-color=\"rgb(196, 60, 117)\" stop-opacity=\"1\"/><stop offset=\"53.72549019607843%\" stop-color=\"rgb(197, 60, 116)\" stop-opacity=\"1\"/><stop offset=\"54.11764705882353%\" stop-color=\"rgb(199, 61, 115)\" stop-opacity=\"1\"/><stop offset=\"54.509803921568626%\" stop-color=\"rgb(200, 62, 115)\" stop-opacity=\"1\"/><stop offset=\"54.90196078431373%\" stop-color=\"rgb(202, 62, 114)\" stop-opacity=\"1\"/><stop offset=\"55.294117647058826%\" stop-color=\"rgb(204, 63, 113)\" stop-opacity=\"1\"/><stop offset=\"55.68627450980392%\" stop-color=\"rgb(205, 64, 113)\" stop-opacity=\"1\"/><stop offset=\"56.07843137254902%\" stop-color=\"rgb(207, 64, 112)\" stop-opacity=\"1\"/><stop offset=\"56.470588235294116%\" stop-color=\"rgb(208, 65, 111)\" stop-opacity=\"1\"/><stop offset=\"56.86274509803921%\" stop-color=\"rgb(210, 66, 111)\" stop-opacity=\"1\"/><stop offset=\"57.25490196078431%\" stop-color=\"rgb(211, 67, 110)\" stop-opacity=\"1\"/><stop offset=\"57.647058823529406%\" stop-color=\"rgb(213, 68, 109)\" stop-opacity=\"1\"/><stop offset=\"58.03921568627452%\" stop-color=\"rgb(214, 69, 108)\" stop-opacity=\"1\"/><stop offset=\"58.43137254901961%\" stop-color=\"rgb(216, 69, 108)\" stop-opacity=\"1\"/><stop offset=\"58.82352941176471%\" stop-color=\"rgb(217, 70, 107)\" stop-opacity=\"1\"/><stop offset=\"59.21568627450981%\" stop-color=\"rgb(219, 71, 106)\" stop-opacity=\"1\"/><stop offset=\"59.6078431372549%\" stop-color=\"rgb(220, 72, 105)\" stop-opacity=\"1\"/><stop offset=\"60%\" stop-color=\"rgb(222, 73, 104)\" stop-opacity=\"1\"/><stop offset=\"60.3921568627451%\" stop-color=\"rgb(223, 74, 104)\" stop-opacity=\"1\"/><stop offset=\"60.78431372549019%\" stop-color=\"rgb(224, 76, 103)\" stop-opacity=\"1\"/><stop offset=\"61.1764705882353%\" stop-color=\"rgb(226, 77, 102)\" stop-opacity=\"1\"/><stop offset=\"61.568627450980394%\" stop-color=\"rgb(227, 78, 101)\" stop-opacity=\"1\"/><stop offset=\"61.96078431372549%\" stop-color=\"rgb(228, 79, 100)\" stop-opacity=\"1\"/><stop offset=\"62.35294117647059%\" stop-color=\"rgb(229, 80, 100)\" stop-opacity=\"1\"/><stop offset=\"62.745098039215684%\" stop-color=\"rgb(231, 82, 99)\" stop-opacity=\"1\"/><stop offset=\"63.13725490196078%\" stop-color=\"rgb(232, 83, 98)\" stop-opacity=\"1\"/><stop offset=\"63.52941176470588%\" stop-color=\"rgb(233, 84, 98)\" stop-opacity=\"1\"/><stop offset=\"63.921568627450974%\" stop-color=\"rgb(234, 86, 97)\" stop-opacity=\"1\"/><stop offset=\"64.31372549019608%\" stop-color=\"rgb(235, 87, 96)\" stop-opacity=\"1\"/><stop offset=\"64.70588235294117%\" stop-color=\"rgb(236, 88, 96)\" stop-opacity=\"1\"/><stop offset=\"65.09803921568627%\" stop-color=\"rgb(237, 90, 95)\" stop-opacity=\"1\"/><stop offset=\"65.49019607843137%\" stop-color=\"rgb(238, 91, 94)\" stop-opacity=\"1\"/><stop offset=\"65.88235294117646%\" stop-color=\"rgb(239, 93, 94)\" stop-opacity=\"1\"/><stop offset=\"66.27450980392156%\" stop-color=\"rgb(240, 95, 94)\" stop-opacity=\"1\"/><stop offset=\"66.66666666666666%\" stop-color=\"rgb(241, 96, 93)\" stop-opacity=\"1\"/><stop offset=\"67.05882352941175%\" stop-color=\"rgb(242, 98, 93)\" stop-opacity=\"1\"/><stop offset=\"67.45098039215686%\" stop-color=\"rgb(242, 100, 92)\" stop-opacity=\"1\"/><stop offset=\"67.84313725490196%\" stop-color=\"rgb(243, 101, 92)\" stop-opacity=\"1\"/><stop offset=\"68.23529411764706%\" stop-color=\"rgb(244, 103, 92)\" stop-opacity=\"1\"/><stop offset=\"68.62745098039215%\" stop-color=\"rgb(244, 105, 92)\" stop-opacity=\"1\"/><stop offset=\"69.01960784313725%\" stop-color=\"rgb(245, 107, 92)\" stop-opacity=\"1\"/><stop offset=\"69.41176470588235%\" stop-color=\"rgb(246, 108, 92)\" stop-opacity=\"1\"/><stop offset=\"69.80392156862744%\" stop-color=\"rgb(246, 110, 92)\" stop-opacity=\"1\"/><stop offset=\"70.19607843137254%\" stop-color=\"rgb(247, 112, 92)\" stop-opacity=\"1\"/><stop offset=\"70.58823529411765%\" stop-color=\"rgb(247, 114, 92)\" stop-opacity=\"1\"/><stop offset=\"70.98039215686275%\" stop-color=\"rgb(248, 116, 92)\" stop-opacity=\"1\"/><stop offset=\"71.37254901960785%\" stop-color=\"rgb(248, 118, 92)\" stop-opacity=\"1\"/><stop offset=\"71.76470588235294%\" stop-color=\"rgb(249, 120, 93)\" stop-opacity=\"1\"/><stop offset=\"72.15686274509804%\" stop-color=\"rgb(249, 121, 93)\" stop-opacity=\"1\"/><stop offset=\"72.54901960784314%\" stop-color=\"rgb(249, 123, 93)\" stop-opacity=\"1\"/><stop offset=\"72.94117647058823%\" stop-color=\"rgb(250, 125, 94)\" stop-opacity=\"1\"/><stop offset=\"73.33333333333333%\" stop-color=\"rgb(250, 127, 94)\" stop-opacity=\"1\"/><stop offset=\"73.72549019607844%\" stop-color=\"rgb(250, 129, 95)\" stop-opacity=\"1\"/><stop offset=\"74.11764705882354%\" stop-color=\"rgb(251, 131, 95)\" stop-opacity=\"1\"/><stop offset=\"74.50980392156863%\" stop-color=\"rgb(251, 133, 96)\" stop-opacity=\"1\"/><stop offset=\"74.90196078431373%\" stop-color=\"rgb(251, 135, 97)\" stop-opacity=\"1\"/><stop offset=\"75.29411764705883%\" stop-color=\"rgb(252, 137, 97)\" stop-opacity=\"1\"/><stop offset=\"75.68627450980392%\" stop-color=\"rgb(252, 138, 98)\" stop-opacity=\"1\"/><stop offset=\"76.07843137254902%\" stop-color=\"rgb(252, 140, 99)\" stop-opacity=\"1\"/><stop offset=\"76.47058823529412%\" stop-color=\"rgb(252, 142, 100)\" stop-opacity=\"1\"/><stop offset=\"76.86274509803923%\" stop-color=\"rgb(252, 144, 101)\" stop-opacity=\"1\"/><stop offset=\"77.25490196078432%\" stop-color=\"rgb(253, 146, 102)\" stop-opacity=\"1\"/><stop offset=\"77.64705882352942%\" stop-color=\"rgb(253, 148, 103)\" stop-opacity=\"1\"/><stop offset=\"78.03921568627452%\" stop-color=\"rgb(253, 150, 104)\" stop-opacity=\"1\"/><stop offset=\"78.43137254901961%\" stop-color=\"rgb(253, 152, 105)\" stop-opacity=\"1\"/><stop offset=\"78.82352941176471%\" stop-color=\"rgb(253, 154, 106)\" stop-opacity=\"1\"/><stop offset=\"79.2156862745098%\" stop-color=\"rgb(253, 155, 107)\" stop-opacity=\"1\"/><stop offset=\"79.6078431372549%\" stop-color=\"rgb(254, 157, 108)\" stop-opacity=\"1\"/><stop offset=\"80%\" stop-color=\"rgb(254, 159, 109)\" stop-opacity=\"1\"/><stop offset=\"80.3921568627451%\" stop-color=\"rgb(254, 161, 110)\" stop-opacity=\"1\"/><stop offset=\"80.7843137254902%\" stop-color=\"rgb(254, 163, 111)\" stop-opacity=\"1\"/><stop offset=\"81.17647058823529%\" stop-color=\"rgb(254, 165, 113)\" stop-opacity=\"1\"/><stop offset=\"81.56862745098039%\" stop-color=\"rgb(254, 167, 114)\" stop-opacity=\"1\"/><stop offset=\"81.96078431372548%\" stop-color=\"rgb(254, 169, 115)\" stop-opacity=\"1\"/><stop offset=\"82.35294117647058%\" stop-color=\"rgb(254, 170, 116)\" stop-opacity=\"1\"/><stop offset=\"82.74509803921568%\" stop-color=\"rgb(254, 172, 118)\" stop-opacity=\"1\"/><stop offset=\"83.13725490196079%\" stop-color=\"rgb(254, 174, 119)\" stop-opacity=\"1\"/><stop offset=\"83.52941176470588%\" stop-color=\"rgb(254, 176, 120)\" stop-opacity=\"1\"/><stop offset=\"83.92156862745098%\" stop-color=\"rgb(254, 178, 122)\" stop-opacity=\"1\"/><stop offset=\"84.31372549019608%\" stop-color=\"rgb(254, 180, 123)\" stop-opacity=\"1\"/><stop offset=\"84.70588235294117%\" stop-color=\"rgb(254, 182, 124)\" stop-opacity=\"1\"/><stop offset=\"85.09803921568627%\" stop-color=\"rgb(254, 183, 126)\" stop-opacity=\"1\"/><stop offset=\"85.49019607843137%\" stop-color=\"rgb(254, 185, 127)\" stop-opacity=\"1\"/><stop offset=\"85.88235294117646%\" stop-color=\"rgb(254, 187, 129)\" stop-opacity=\"1\"/><stop offset=\"86.27450980392157%\" stop-color=\"rgb(254, 189, 130)\" stop-opacity=\"1\"/><stop offset=\"86.66666666666667%\" stop-color=\"rgb(254, 191, 132)\" stop-opacity=\"1\"/><stop offset=\"87.05882352941177%\" stop-color=\"rgb(254, 193, 133)\" stop-opacity=\"1\"/><stop offset=\"87.45098039215686%\" stop-color=\"rgb(254, 194, 135)\" stop-opacity=\"1\"/><stop offset=\"87.84313725490196%\" stop-color=\"rgb(254, 196, 136)\" stop-opacity=\"1\"/><stop offset=\"88.23529411764706%\" stop-color=\"rgb(254, 198, 138)\" stop-opacity=\"1\"/><stop offset=\"88.62745098039215%\" stop-color=\"rgb(254, 200, 140)\" stop-opacity=\"1\"/><stop offset=\"89.01960784313725%\" stop-color=\"rgb(254, 202, 141)\" stop-opacity=\"1\"/><stop offset=\"89.41176470588236%\" stop-color=\"rgb(254, 204, 143)\" stop-opacity=\"1\"/><stop offset=\"89.80392156862746%\" stop-color=\"rgb(254, 205, 144)\" stop-opacity=\"1\"/><stop offset=\"90.19607843137256%\" stop-color=\"rgb(254, 207, 146)\" stop-opacity=\"1\"/><stop offset=\"90.58823529411765%\" stop-color=\"rgb(254, 209, 148)\" stop-opacity=\"1\"/><stop offset=\"90.98039215686275%\" stop-color=\"rgb(254, 211, 149)\" stop-opacity=\"1\"/><stop offset=\"91.37254901960785%\" stop-color=\"rgb(254, 213, 151)\" stop-opacity=\"1\"/><stop offset=\"91.76470588235294%\" stop-color=\"rgb(254, 215, 153)\" stop-opacity=\"1\"/><stop offset=\"92.15686274509804%\" stop-color=\"rgb(254, 216, 154)\" stop-opacity=\"1\"/><stop offset=\"92.54901960784314%\" stop-color=\"rgb(253, 218, 156)\" stop-opacity=\"1\"/><stop offset=\"92.94117647058823%\" stop-color=\"rgb(253, 220, 158)\" stop-opacity=\"1\"/><stop offset=\"93.33333333333333%\" stop-color=\"rgb(253, 222, 160)\" stop-opacity=\"1\"/><stop offset=\"93.72549019607843%\" stop-color=\"rgb(253, 224, 161)\" stop-opacity=\"1\"/><stop offset=\"94.11764705882352%\" stop-color=\"rgb(253, 226, 163)\" stop-opacity=\"1\"/><stop offset=\"94.50980392156862%\" stop-color=\"rgb(253, 227, 165)\" stop-opacity=\"1\"/><stop offset=\"94.90196078431372%\" stop-color=\"rgb(253, 229, 167)\" stop-opacity=\"1\"/><stop offset=\"95.29411764705881%\" stop-color=\"rgb(253, 231, 169)\" stop-opacity=\"1\"/><stop offset=\"95.68627450980392%\" stop-color=\"rgb(253, 233, 170)\" stop-opacity=\"1\"/><stop offset=\"96.07843137254902%\" stop-color=\"rgb(253, 235, 172)\" stop-opacity=\"1\"/><stop offset=\"96.47058823529412%\" stop-color=\"rgb(252, 236, 174)\" stop-opacity=\"1\"/><stop offset=\"96.86274509803921%\" stop-color=\"rgb(252, 238, 176)\" stop-opacity=\"1\"/><stop offset=\"97.25490196078431%\" stop-color=\"rgb(252, 240, 178)\" stop-opacity=\"1\"/><stop offset=\"97.6470588235294%\" stop-color=\"rgb(252, 242, 180)\" stop-opacity=\"1\"/><stop offset=\"98.0392156862745%\" stop-color=\"rgb(252, 244, 182)\" stop-opacity=\"1\"/><stop offset=\"98.4313725490196%\" stop-color=\"rgb(252, 246, 184)\" stop-opacity=\"1\"/><stop offset=\"98.82352941176471%\" stop-color=\"rgb(252, 247, 185)\" stop-opacity=\"1\"/><stop offset=\"99.2156862745098%\" stop-color=\"rgb(252, 249, 187)\" stop-opacity=\"1\"/><stop offset=\"99.6078431372549%\" stop-color=\"rgb(252, 251, 189)\" stop-opacity=\"1\"/><stop offset=\"100%\" stop-color=\"rgb(252, 253, 191)\" stop-opacity=\"1\"/></linearGradient></g></defs><g class=\"bglayer\"/><g class=\"layer-below\"><g class=\"imagelayer\"/><g class=\"shapelayer\"/></g><g class=\"cartesianlayer\"><g class=\"subplot xy\"><g class=\"layer-subplot\"><g class=\"shapelayer\"/><g class=\"imagelayer\"/></g><g class=\"gridlayer\"><g class=\"x\"/><g class=\"y\"/></g><g class=\"zerolinelayer\"/><path class=\"xlines-below\"/><path class=\"ylines-below\"/><g class=\"overlines-below\"/><g class=\"xaxislayer-below\"/><g class=\"yaxislayer-below\"/><g class=\"overaxes-below\"/><g class=\"plot\" transform=\"translate(332.26732673267327,60)\" clip-path=\"url('#clip739d0bxyplot')\"><g class=\"heatmaplayer mlayer\"><g class=\"hm\"><image xmlns=\"http://www.w3.org/2000/svg\" preserveAspectRatio=\"none\" height=\"277\" width=\"277\" x=\"0\" y=\"41.23\" xlink:href=\"data:image/png;base64,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\" style=\"opacity: 1;\"/></g></g></g><g class=\"overplot\"/><path class=\"xlines-above crisp\" d=\"M0,0\" style=\"fill: none;\"/><path class=\"ylines-above crisp\" d=\"M0,0\" style=\"fill: none;\"/><g class=\"overlines-above\"/><g class=\"xaxislayer-above\"/><g class=\"yaxislayer-above\"/><g class=\"overaxes-above\"/></g><g class=\"subplot x2y\"><g class=\"layer-subplot\"><g class=\"shapelayer\"/><g class=\"imagelayer\"/></g><g class=\"gridlayer\"><g class=\"x2\"><path class=\"x2grid crisp\" transform=\"translate(91.88,0)\" d=\"M0,60v390\" style=\"stroke: rgb(238, 238, 238); stroke-opacity: 1; stroke-width: 1px;\"/><path class=\"x2grid crisp\" transform=\"translate(150.59,0)\" d=\"M0,60v390\" style=\"stroke: rgb(238, 238, 238); stroke-opacity: 1; stroke-width: 1px;\"/><path class=\"x2grid crisp\" transform=\"translate(209.31,0)\" d=\"M0,60v390\" style=\"stroke: rgb(238, 238, 238); stroke-opacity: 1; stroke-width: 1px;\"/><path class=\"x2grid crisp\" transform=\"translate(268.02,0)\" d=\"M0,60v390\" style=\"stroke: rgb(238, 238, 238); stroke-opacity: 1; stroke-width: 1px;\"/></g><g class=\"y\"/></g><g class=\"zerolinelayer\"><path class=\"x2zl zl crisp\" transform=\"translate(326.73,0)\" d=\"M0,60v390\" style=\"stroke: rgb(68, 68, 68); stroke-opacity: 1; stroke-width: 1px;\"/></g><path class=\"xlines-below\"/><path class=\"ylines-below\"/><g class=\"overlines-below\"/><g class=\"xaxislayer-below\"/><g class=\"yaxislayer-below\"/><g class=\"overaxes-below\"/><g class=\"plot\" transform=\"translate(50,60)\" clip-path=\"url('#clip739d0bx2yplot')\"><g class=\"scatterlayer mlayer\"><g class=\"trace scatter trace497d81\" style=\"stroke-miterlimit: 2; opacity: 1;\"><g class=\"fills\"/><g class=\"errorbars\"/><g class=\"lines\"><path class=\"js-line\" d=\"M177.79,304.12L177.79,240.99\" style=\"vector-effect: non-scaling-stroke; fill: none; stroke: rgb(102, 102, 102); stroke-opacity: 1; stroke-width: 2px; opacity: 1;\"/><path class=\"js-line\" d=\"M177.79,304.12L183.77,304.12\" style=\"vector-effect: non-scaling-stroke; fill: none; stroke: rgb(102, 102, 102); stroke-opacity: 1; stroke-width: 2px; opacity: 1;\"/><path class=\"js-line\" d=\"M177.79,240.99L181.88,240.99\" style=\"vector-effect: non-scaling-stroke; fill: none; stroke: rgb(102, 102, 102); stroke-opacity: 1; stroke-width: 2px; opacity: 1;\"/></g><g class=\"points\"/><g class=\"text\"/></g><g class=\"trace scatter trace2d0cc8\" style=\"stroke-miterlimit: 2; opacity: 1;\"><g class=\"fills\"/><g class=\"errorbars\"/><g class=\"lines\"><path class=\"js-line\" d=\"M18.84,213.21L18.84,121.65\" style=\"vector-effect: non-scaling-stroke; fill: none; stroke: rgb(102, 102, 102); stroke-opacity: 1; stroke-width: 2px; opacity: 1;\"/><path class=\"js-line\" d=\"M18.84,213.21L158.84,213.21\" style=\"vector-effect: non-scaling-stroke; fill: none; stroke: rgb(102, 102, 102); stroke-opacity: 1; stroke-width: 2px; opacity: 1;\"/><path class=\"js-line\" d=\"M18.84,121.65L33.9,121.65\" style=\"vector-effect: non-scaling-stroke; fill: none; stroke: rgb(102, 102, 102); stroke-opacity: 1; stroke-width: 2px; opacity: 1;\"/></g><g class=\"points\"/><g class=\"text\"/></g><g class=\"trace scatter trace3fe772\" style=\"stroke-miterlimit: 2; opacity: 1;\"><g class=\"fills\"/><g class=\"errorbars\"/><g class=\"lines\"><path class=\"js-line\" d=\"M276.68,158.84L276.68,145\" style=\"vector-effect: non-scaling-stroke; fill: none; stroke: rgb(102, 102, 102); stroke-opacity: 1; stroke-width: 2px; opacity: 1;\"/></g><g class=\"points\"/><g class=\"text\"/></g><g class=\"trace scatter trace713a07\" style=\"stroke-miterlimit: 2; opacity: 1;\"><g class=\"fills\"/><g class=\"errorbars\"/><g class=\"lines\"><path class=\"js-line\" d=\"M188.65,276.45L188.65,255.7\" style=\"vector-effect: non-scaling-stroke; fill: none; stroke: rgb(102, 102, 102); stroke-opacity: 1; stroke-width: 2px; opacity: 1;\"/><path class=\"js-line\" d=\"M188.65,276.45L195.85,276.45\" style=\"vector-effect: non-scaling-stroke; fill: none; stroke: rgb(102, 102, 102); stroke-opacity: 1; stroke-width: 2px; opacity: 1;\"/><path class=\"js-line\" d=\"M188.65,255.7L276.73,255.7\" style=\"vector-effect: non-scaling-stroke; fill: none; stroke: rgb(102, 102, 102); stroke-opacity: 1; stroke-width: 2px; opacity: 1;\"/></g><g class=\"points\"/><g class=\"text\"/></g><g class=\"trace scatter trace1aa0a3\" style=\"stroke-miterlimit: 2; opacity: 1;\"><g class=\"fills\"/><g class=\"errorbars\"/><g class=\"lines\"><path class=\"js-line\" d=\"M189.59,124.25L189.59,103.49\" style=\"vector-effect: non-scaling-stroke; fill: none; stroke: rgb(102, 102, 102); stroke-opacity: 1; stroke-width: 2px; opacity: 1;\"/><path class=\"js-line\" d=\"M189.59,124.25L276.16,124.25\" style=\"vector-effect: non-scaling-stroke; fill: none; stroke: rgb(102, 102, 102); stroke-opacity: 1; stroke-width: 2px; opacity: 1;\"/><path class=\"js-line\" d=\"M189.59,103.49L276.73,103.49\" style=\"vector-effect: non-scaling-stroke; fill: none; stroke: rgb(102, 102, 102); stroke-opacity: 1; stroke-width: 2px; opacity: 1;\"/></g><g class=\"points\"/><g class=\"text\"/></g><g class=\"trace scatter trace276f58\" style=\"stroke-miterlimit: 2; opacity: 1;\"><g class=\"fills\"/><g class=\"errorbars\"/><g class=\"lines\"><path class=\"js-line\" d=\"M158.84,243.37L158.84,183.05\" style=\"vector-effect: non-scaling-stroke; fill: none; stroke: rgb(102, 102, 102); stroke-opacity: 1; stroke-width: 2px; opacity: 1;\"/><path class=\"js-line\" d=\"M158.84,243.37L174.49,243.37\" style=\"vector-effect: non-scaling-stroke; fill: none; stroke: rgb(102, 102, 102); stroke-opacity: 1; stroke-width: 2px; opacity: 1;\"/><path class=\"js-line\" d=\"M158.84,183.05L170.99,183.05\" style=\"vector-effect: non-scaling-stroke; fill: none; stroke: rgb(102, 102, 102); stroke-opacity: 1; stroke-width: 2px; opacity: 1;\"/></g><g class=\"points\"/><g class=\"text\"/></g><g class=\"trace scatter trace7e83dc\" style=\"stroke-miterlimit: 2; opacity: 1;\"><g class=\"fills\"/><g class=\"errorbars\"/><g class=\"lines\"><path class=\"js-line\" d=\"M170.99,193.43L170.99,172.68\" style=\"vector-effect: non-scaling-stroke; fill: none; stroke: rgb(102, 102, 102); stroke-opacity: 1; stroke-width: 2px; opacity: 1;\"/><path class=\"js-line\" d=\"M170.99,193.43L182.96,193.43\" style=\"vector-effect: non-scaling-stroke; fill: none; stroke: rgb(102, 102, 102); stroke-opacity: 1; stroke-width: 2px; opacity: 1;\"/><path class=\"js-line\" d=\"M170.99,172.68L276.73,172.68\" style=\"vector-effect: non-scaling-stroke; fill: none; stroke: rgb(102, 102, 102); stroke-opacity: 1; stroke-width: 2px; opacity: 1;\"/></g><g class=\"points\"/><g class=\"text\"/></g><g class=\"trace scatter trace5b0aee\" style=\"stroke-miterlimit: 2; opacity: 1;\"><g class=\"fills\"/><g class=\"errorbars\"/><g class=\"lines\"><path class=\"js-line\" d=\"M183.77,311.04L183.77,297.21\" style=\"vector-effect: non-scaling-stroke; fill: none; stroke: rgb(102, 102, 102); stroke-opacity: 1; stroke-width: 2px; opacity: 1;\"/><path class=\"js-line\" d=\"M183.77,311.04L276.73,311.04\" style=\"vector-effect: non-scaling-stroke; fill: none; stroke: rgb(102, 102, 102); stroke-opacity: 1; stroke-width: 2px; opacity: 1;\"/><path class=\"js-line\" d=\"M183.77,297.21L276.73,297.21\" style=\"vector-effect: non-scaling-stroke; fill: none; stroke: rgb(102, 102, 102); stroke-opacity: 1; stroke-width: 2px; opacity: 1;\"/></g><g class=\"points\"/><g class=\"text\"/></g><g class=\"trace scatter tracef5df95\" style=\"stroke-miterlimit: 2; opacity: 1;\"><g class=\"fills\"/><g class=\"errorbars\"/><g class=\"lines\"><path class=\"js-line\" d=\"M276.16,131.17L276.16,117.33\" style=\"vector-effect: non-scaling-stroke; fill: none; stroke: rgb(102, 102, 102); stroke-opacity: 1; stroke-width: 2px; opacity: 1;\"/><path class=\"js-line\" d=\"M276.16,131.17L276.73,131.17\" style=\"vector-effect: non-scaling-stroke; fill: none; stroke: rgb(102, 102, 102); stroke-opacity: 1; stroke-width: 2px; opacity: 1;\"/><path class=\"js-line\" d=\"M276.16,117.33L276.73,117.33\" style=\"vector-effect: non-scaling-stroke; fill: none; stroke: rgb(102, 102, 102); stroke-opacity: 1; stroke-width: 2px; opacity: 1;\"/></g><g class=\"points\"/><g class=\"text\"/></g><g class=\"trace scatter trace528b78\" style=\"stroke-miterlimit: 2; opacity: 1;\"><g class=\"fills\"/><g class=\"errorbars\"/><g class=\"lines\"><path class=\"js-line\" d=\"M195.85,283.37L195.85,269.53\" style=\"vector-effect: non-scaling-stroke; fill: none; stroke: rgb(102, 102, 102); stroke-opacity: 1; stroke-width: 2px; opacity: 1;\"/><path class=\"js-line\" d=\"M195.85,283.37L276.73,283.37\" style=\"vector-effect: non-scaling-stroke; fill: none; stroke: rgb(102, 102, 102); stroke-opacity: 1; stroke-width: 2px; opacity: 1;\"/><path class=\"js-line\" d=\"M195.85,269.53L276.73,269.53\" style=\"vector-effect: non-scaling-stroke; fill: none; stroke: rgb(102, 102, 102); stroke-opacity: 1; stroke-width: 2px; opacity: 1;\"/></g><g class=\"points\"/><g class=\"text\"/></g><g class=\"trace scatter trace301076\" style=\"stroke-miterlimit: 2; opacity: 1;\"><g class=\"fills\"/><g class=\"errorbars\"/><g class=\"lines\"><path class=\"js-line\" d=\"M82.14,113.87L82.14,68.9\" style=\"vector-effect: non-scaling-stroke; fill: none; stroke: rgb(102, 102, 102); stroke-opacity: 1; stroke-width: 2px; opacity: 1;\"/><path class=\"js-line\" d=\"M82.14,113.87L189.59,113.87\" style=\"vector-effect: non-scaling-stroke; fill: none; stroke: rgb(102, 102, 102); stroke-opacity: 1; stroke-width: 2px; opacity: 1;\"/><path class=\"js-line\" d=\"M82.14,68.9L106.97,68.9\" style=\"vector-effect: non-scaling-stroke; fill: none; stroke: rgb(102, 102, 102); stroke-opacity: 1; stroke-width: 2px; opacity: 1;\"/></g><g class=\"points\"/><g class=\"text\"/></g><g class=\"trace scatter trace97e958\" style=\"stroke-miterlimit: 2; opacity: 1;\"><g class=\"fills\"/><g class=\"errorbars\"/><g class=\"lines\"><path class=\"js-line\" d=\"M185.22,266.07L185.22,241.86\" style=\"vector-effect: non-scaling-stroke; fill: none; stroke: rgb(102, 102, 102); stroke-opacity: 1; stroke-width: 2px; opacity: 1;\"/><path class=\"js-line\" d=\"M185.22,266.07L188.65,266.07\" style=\"vector-effect: non-scaling-stroke; fill: none; stroke: rgb(102, 102, 102); stroke-opacity: 1; stroke-width: 2px; opacity: 1;\"/><path class=\"js-line\" d=\"M185.22,241.86L276.73,241.86\" style=\"vector-effect: non-scaling-stroke; fill: none; stroke: rgb(102, 102, 102); stroke-opacity: 1; stroke-width: 2px; opacity: 1;\"/></g><g class=\"points\"/><g class=\"text\"/></g><g class=\"trace scatter trace820e9b\" style=\"stroke-miterlimit: 2; opacity: 1;\"><g class=\"fills\"/><g class=\"errorbars\"/><g class=\"lines\"><path class=\"js-line\" d=\"M33.9,151.92L33.9,91.39\" style=\"vector-effect: non-scaling-stroke; fill: none; stroke: rgb(102, 102, 102); stroke-opacity: 1; stroke-width: 2px; opacity: 1;\"/><path class=\"js-line\" d=\"M33.9,151.92L276.68,151.92\" style=\"vector-effect: non-scaling-stroke; fill: none; stroke: rgb(102, 102, 102); stroke-opacity: 1; stroke-width: 2px; opacity: 1;\"/><path class=\"js-line\" d=\"M33.9,91.39L82.14,91.39\" style=\"vector-effect: non-scaling-stroke; fill: none; stroke: rgb(102, 102, 102); stroke-opacity: 1; stroke-width: 2px; opacity: 1;\"/></g><g class=\"points\"/><g class=\"text\"/></g><g class=\"trace scatter tracec6bc0d\" style=\"stroke-miterlimit: 2; opacity: 1;\"><g class=\"fills\"/><g class=\"errorbars\"/><g class=\"lines\"><path class=\"js-line\" d=\"M226.74,89.66L226.74,75.82\" style=\"vector-effect: non-scaling-stroke; fill: none; stroke: rgb(102, 102, 102); stroke-opacity: 1; stroke-width: 2px; opacity: 1;\"/><path class=\"js-line\" d=\"M226.74,89.66L276.73,89.66\" style=\"vector-effect: non-scaling-stroke; fill: none; stroke: rgb(102, 102, 102); stroke-opacity: 1; stroke-width: 2px; opacity: 1;\"/><path class=\"js-line\" d=\"M226.74,75.82L276.73,75.82\" style=\"vector-effect: non-scaling-stroke; fill: none; stroke: rgb(102, 102, 102); stroke-opacity: 1; stroke-width: 2px; opacity: 1;\"/></g><g class=\"points\"/><g class=\"text\"/></g><g class=\"trace scatter trace068606\" style=\"stroke-miterlimit: 2; opacity: 1;\"><g class=\"fills\"/><g class=\"errorbars\"/><g class=\"lines\"><path class=\"js-line\" d=\"M181.88,253.97L181.88,228.02\" style=\"vector-effect: non-scaling-stroke; fill: none; stroke: rgb(102, 102, 102); stroke-opacity: 1; stroke-width: 2px; opacity: 1;\"/><path class=\"js-line\" d=\"M181.88,253.97L185.22,253.97\" style=\"vector-effect: non-scaling-stroke; fill: none; stroke: rgb(102, 102, 102); stroke-opacity: 1; stroke-width: 2px; opacity: 1;\"/><path class=\"js-line\" d=\"M181.88,228.02L276.73,228.02\" style=\"vector-effect: non-scaling-stroke; fill: none; stroke: rgb(102, 102, 102); stroke-opacity: 1; stroke-width: 2px; opacity: 1;\"/></g><g class=\"points\"/><g class=\"text\"/></g><g class=\"trace scatter trace68c8c3\" style=\"stroke-miterlimit: 2; opacity: 1;\"><g class=\"fills\"/><g class=\"errorbars\"/><g class=\"lines\"><path class=\"js-line\" d=\"M187.06,61.98L187.06,48.15\" style=\"vector-effect: non-scaling-stroke; fill: none; stroke: rgb(102, 102, 102); stroke-opacity: 1; stroke-width: 2px; opacity: 1;\"/><path class=\"js-line\" d=\"M187.06,61.98L276.73,61.98\" style=\"vector-effect: non-scaling-stroke; fill: none; stroke: rgb(102, 102, 102); stroke-opacity: 1; stroke-width: 2px; opacity: 1;\"/><path class=\"js-line\" d=\"M187.06,48.15L276.73,48.15\" style=\"vector-effect: non-scaling-stroke; fill: none; stroke: rgb(102, 102, 102); stroke-opacity: 1; stroke-width: 2px; opacity: 1;\"/></g><g class=\"points\"/><g class=\"text\"/></g><g class=\"trace scatter tracef36edf\" style=\"stroke-miterlimit: 2; opacity: 1;\"><g class=\"fills\"/><g class=\"errorbars\"/><g class=\"lines\"><path class=\"js-line\" d=\"M106.97,82.74L106.97,55.06\" style=\"vector-effect: non-scaling-stroke; fill: none; stroke: rgb(102, 102, 102); stroke-opacity: 1; stroke-width: 2px; opacity: 1;\"/><path class=\"js-line\" d=\"M106.97,82.74L226.74,82.74\" style=\"vector-effect: non-scaling-stroke; fill: none; stroke: rgb(102, 102, 102); stroke-opacity: 1; stroke-width: 2px; opacity: 1;\"/><path class=\"js-line\" d=\"M106.97,55.06L187.06,55.06\" style=\"vector-effect: non-scaling-stroke; fill: none; stroke: rgb(102, 102, 102); stroke-opacity: 1; stroke-width: 2px; opacity: 1;\"/></g><g class=\"points\"/><g class=\"text\"/></g><g class=\"trace scatter trace828d19\" style=\"stroke-miterlimit: 2; opacity: 1;\"><g class=\"fills\"/><g class=\"errorbars\"/><g class=\"lines\"><path class=\"js-line\" d=\"M174.49,272.56L174.49,214.19\" style=\"vector-effect: non-scaling-stroke; fill: none; stroke: rgb(102, 102, 102); stroke-opacity: 1; stroke-width: 2px; opacity: 1;\"/><path class=\"js-line\" d=\"M174.49,272.56L177.79,272.56\" style=\"vector-effect: non-scaling-stroke; fill: none; stroke: rgb(102, 102, 102); stroke-opacity: 1; stroke-width: 2px; opacity: 1;\"/><path class=\"js-line\" d=\"M174.49,214.19L276.73,214.19\" style=\"vector-effect: non-scaling-stroke; fill: none; stroke: rgb(102, 102, 102); stroke-opacity: 1; stroke-width: 2px; opacity: 1;\"/></g><g class=\"points\"/><g class=\"text\"/></g><g class=\"trace scatter trace836ae8\" style=\"stroke-miterlimit: 2; opacity: 1;\"><g class=\"fills\"/><g class=\"errorbars\"/><g class=\"lines\"><path class=\"js-line\" d=\"M182.96,200.35L182.96,186.51\" style=\"vector-effect: non-scaling-stroke; fill: none; stroke: rgb(102, 102, 102); stroke-opacity: 1; stroke-width: 2px; opacity: 1;\"/><path class=\"js-line\" d=\"M182.96,200.35L276.73,200.35\" style=\"vector-effect: non-scaling-stroke; fill: none; stroke: rgb(102, 102, 102); stroke-opacity: 1; stroke-width: 2px; opacity: 1;\"/><path class=\"js-line\" d=\"M182.96,186.51L276.73,186.51\" style=\"vector-effect: non-scaling-stroke; fill: none; stroke: rgb(102, 102, 102); stroke-opacity: 1; stroke-width: 2px; opacity: 1;\"/></g><g class=\"points\"/><g class=\"text\"/></g><g class=\"trace scatter trace296107\" style=\"stroke-miterlimit: 2; opacity: 1;\"><g class=\"fills\"/><g class=\"errorbars\"/><g class=\"lines\"/><g class=\"points\"><path class=\"point plotly-customdata\" transform=\"translate(182.96,193.43)\" d=\"M4,0A4,4 0 1,1 0,-4A4,4 0 0,1 4,0Z\" style=\"opacity: 0.7; stroke-width: 1px; fill: rgb(102, 102, 102); fill-opacity: 1; stroke: rgb(255, 255, 255); stroke-opacity: 1;\"/><path class=\"point plotly-customdata\" transform=\"translate(177.79,272.56)\" d=\"M2,0A2,2 0 1,1 0,-2A2,2 0 0,1 2,0Z\" style=\"opacity: 0.7; stroke-width: 1px; fill: rgb(102, 102, 102); fill-opacity: 1; stroke: rgb(255, 255, 255); stroke-opacity: 1;\"/><path class=\"point plotly-customdata\" transform=\"translate(18.84,167.43)\" d=\"M4,0A4,4 0 1,1 0,-4A4,4 0 0,1 4,0Z\" style=\"opacity: 0.7; stroke-width: 1px; fill: rgb(102, 102, 102); fill-opacity: 1; stroke: rgb(255, 255, 255); stroke-opacity: 1;\"/><path class=\"point plotly-customdata\" transform=\"translate(276.68,151.92)\" d=\"M4,0A4,4 0 1,1 0,-4A4,4 0 0,1 4,0Z\" style=\"opacity: 0.7; stroke-width: 1px; fill: rgb(102, 102, 102); fill-opacity: 1; stroke: rgb(255, 255, 255); stroke-opacity: 1;\"/><path class=\"point plotly-customdata\" transform=\"translate(188.65,266.07)\" d=\"M2,0A2,2 0 1,1 0,-2A2,2 0 0,1 2,0Z\" style=\"opacity: 0.7; stroke-width: 1px; fill: rgb(102, 102, 102); fill-opacity: 1; stroke: rgb(255, 255, 255); stroke-opacity: 1;\"/><path class=\"point plotly-customdata\" transform=\"translate(189.59,113.87)\" d=\"M4,0A4,4 0 1,1 0,-4A4,4 0 0,1 4,0Z\" style=\"opacity: 0.7; stroke-width: 1px; fill: rgb(102, 102, 102); fill-opacity: 1; stroke: rgb(255, 255, 255); stroke-opacity: 1;\"/><path class=\"point plotly-customdata\" transform=\"translate(158.84,213.21)\" d=\"M4,0A4,4 0 1,1 0,-4A4,4 0 0,1 4,0Z\" style=\"opacity: 0.7; stroke-width: 1px; fill: rgb(102, 102, 102); fill-opacity: 1; stroke: rgb(255, 255, 255); stroke-opacity: 1;\"/><path class=\"point plotly-customdata\" transform=\"translate(170.99,183.05)\" d=\"M2,0A2,2 0 1,1 0,-2A2,2 0 0,1 2,0Z\" style=\"opacity: 0.7; stroke-width: 1px; fill: rgb(102, 102, 102); fill-opacity: 1; stroke: rgb(255, 255, 255); stroke-opacity: 1;\"/><path class=\"point plotly-customdata\" transform=\"translate(183.77,304.12)\" d=\"M2,0A2,2 0 1,1 0,-2A2,2 0 0,1 2,0Z\" style=\"opacity: 0.7; stroke-width: 1px; fill: rgb(102, 102, 102); fill-opacity: 1; stroke: rgb(255, 255, 255); stroke-opacity: 1;\"/><path class=\"point plotly-customdata\" transform=\"translate(276.16,124.25)\" d=\"M4,0A4,4 0 1,1 0,-4A4,4 0 0,1 4,0Z\" style=\"opacity: 0.7; stroke-width: 1px; fill: rgb(102, 102, 102); fill-opacity: 1; stroke: rgb(255, 255, 255); stroke-opacity: 1;\"/><path class=\"point plotly-customdata\" transform=\"translate(195.85,276.45)\" d=\"M4,0A4,4 0 1,1 0,-4A4,4 0 0,1 4,0Z\" style=\"opacity: 0.7; stroke-width: 1px; fill: rgb(102, 102, 102); fill-opacity: 1; stroke: rgb(255, 255, 255); stroke-opacity: 1;\"/><path class=\"point plotly-customdata\" transform=\"translate(82.14,91.39)\" d=\"M4,0A4,4 0 1,1 0,-4A4,4 0 0,1 4,0Z\" style=\"opacity: 0.7; stroke-width: 1px; fill: rgb(102, 102, 102); fill-opacity: 1; stroke: rgb(255, 255, 255); stroke-opacity: 1;\"/><path class=\"point plotly-customdata\" transform=\"translate(185.22,253.97)\" d=\"M2,0A2,2 0 1,1 0,-2A2,2 0 0,1 2,0Z\" style=\"opacity: 0.7; stroke-width: 1px; fill: rgb(102, 102, 102); fill-opacity: 1; stroke: rgb(255, 255, 255); stroke-opacity: 1;\"/><path class=\"point plotly-customdata\" transform=\"translate(33.9,121.65)\" d=\"M4,0A4,4 0 1,1 0,-4A4,4 0 0,1 4,0Z\" style=\"opacity: 0.7; stroke-width: 1px; fill: rgb(102, 102, 102); fill-opacity: 1; stroke: rgb(255, 255, 255); stroke-opacity: 1;\"/><path class=\"point plotly-customdata\" transform=\"translate(226.74,82.74)\" d=\"M4,0A4,4 0 1,1 0,-4A4,4 0 0,1 4,0Z\" style=\"opacity: 0.7; stroke-width: 1px; fill: rgb(102, 102, 102); fill-opacity: 1; stroke: rgb(255, 255, 255); stroke-opacity: 1;\"/><path class=\"point plotly-customdata\" transform=\"translate(181.88,240.99)\" d=\"M2,0A2,2 0 1,1 0,-2A2,2 0 0,1 2,0Z\" style=\"opacity: 0.7; stroke-width: 1px; fill: rgb(102, 102, 102); fill-opacity: 1; stroke: rgb(255, 255, 255); stroke-opacity: 1;\"/><path class=\"point plotly-customdata\" transform=\"translate(187.06,55.06)\" d=\"M4,0A4,4 0 1,1 0,-4A4,4 0 0,1 4,0Z\" style=\"opacity: 0.7; stroke-width: 1px; fill: rgb(102, 102, 102); fill-opacity: 1; stroke: rgb(255, 255, 255); stroke-opacity: 1;\"/><path class=\"point plotly-customdata\" transform=\"translate(106.97,68.9)\" d=\"M4,0A4,4 0 1,1 0,-4A4,4 0 0,1 4,0Z\" style=\"opacity: 0.7; stroke-width: 1px; fill: rgb(102, 102, 102); fill-opacity: 1; stroke: rgb(255, 255, 255); stroke-opacity: 1;\"/><path class=\"point plotly-customdata\" transform=\"translate(174.49,243.37)\" d=\"M4,0A4,4 0 1,1 0,-4A4,4 0 0,1 4,0Z\" style=\"opacity: 0.7; stroke-width: 1px; fill: rgb(102, 102, 102); fill-opacity: 1; stroke: rgb(255, 255, 255); stroke-opacity: 1;\"/></g><g class=\"text\"/></g><g class=\"trace scatter trace919c11\" style=\"stroke-miterlimit: 2; opacity: 1;\"><g class=\"fills\"/><g class=\"errorbars\"/><g class=\"lines\"/><g class=\"points\"><path class=\"point\" transform=\"translate(108.99,338.72)\" d=\"M0,4.2V-4.2\" style=\"opacity: 1; stroke-width: 1px; fill: rgb(0, 128, 0); fill-opacity: 1; stroke: rgb(0, 128, 0); stroke-opacity: 1;\"/></g><g class=\"text\"/></g></g></g><g class=\"overplot\"/><path class=\"xlines-above crisp\" d=\"M0,0\" style=\"fill: none;\"/><path class=\"ylines-above crisp\" d=\"M0,0\" style=\"fill: none;\"/><g class=\"overlines-above\"/><g class=\"xaxislayer-above\"><g class=\"x2tick\"><text text-anchor=\"middle\" x=\"0\" y=\"463\" transform=\"translate(91.88,0)\" style=\"font-family: 'Open Sans', verdana, arial, sans-serif; font-size: 12px; fill: rgb(68, 68, 68); fill-opacity: 1; white-space: pre;\">0.8</text></g><g class=\"x2tick\"><text text-anchor=\"middle\" x=\"0\" y=\"463\" transform=\"translate(150.59,0)\" style=\"font-family: 'Open Sans', verdana, arial, sans-serif; font-size: 12px; fill: rgb(68, 68, 68); fill-opacity: 1; white-space: pre;\">0.6</text></g><g class=\"x2tick\"><text text-anchor=\"middle\" x=\"0\" y=\"463\" transform=\"translate(209.31,0)\" style=\"font-family: 'Open Sans', verdana, arial, sans-serif; font-size: 12px; fill: rgb(68, 68, 68); fill-opacity: 1; white-space: pre;\">0.4</text></g><g class=\"x2tick\"><text text-anchor=\"middle\" x=\"0\" y=\"463\" transform=\"translate(268.02,0)\" style=\"font-family: 'Open Sans', verdana, arial, sans-serif; font-size: 12px; fill: rgb(68, 68, 68); fill-opacity: 1; white-space: pre;\">0.2</text></g><g class=\"x2tick\"><text text-anchor=\"middle\" x=\"0\" y=\"463\" transform=\"translate(326.73,0)\" style=\"font-family: 'Open Sans', verdana, arial, sans-serif; font-size: 12px; fill: rgb(68, 68, 68); fill-opacity: 1; white-space: pre;\">0</text></g></g><g class=\"yaxislayer-above\"/><g class=\"overaxes-above\"/></g></g><g class=\"polarlayer\"/><g class=\"ternarylayer\"/><g class=\"geolayer\"/><g class=\"funnelarealayer\"/><g class=\"pielayer\"/><g class=\"treemaplayer\"/><g class=\"sunburstlayer\"/><g class=\"glimages\"/><defs id=\"topdefs-739d0b\"><g class=\"clips\"/></defs><g class=\"layer-above\"><g class=\"imagelayer\"/><g class=\"shapelayer\"/></g><g class=\"infolayer\"><g class=\"cbe9e618 colorbar\" transform=\"translate(50,60)\"><rect class=\"cbbg\" x=\"569.5\" y=\"-0.5\" width=\"68.03125\" height=\"391\" style=\"fill: rgb(0, 0, 0); fill-opacity: 0; stroke: rgb(68, 68, 68); stroke-opacity: 1; stroke-width: 0;\"/><g class=\"cbfills\" transform=\"translate(0,10)\"><rect class=\"cbfill\" x=\"580\" width=\"30\" y=\"0\" height=\"370\" style=\"fill: url('#g739d0b-cbe9e618');\"/></g><g class=\"cblines\" transform=\"translate(0,10)\"/><g class=\"cbaxis crisp\" transform=\"translate(0,-60)\"><g class=\"ycbe9e618tick\"><text text-anchor=\"start\" x=\"613.4\" y=\"4.199999999999999\" transform=\"translate(0,440)\" style=\"font-family: 'Open Sans', verdana, arial, sans-serif; font-size: 12px; fill: rgb(68, 68, 68); fill-opacity: 1; white-space: pre;\">0</text></g><g class=\"ycbe9e618tick\"><text text-anchor=\"start\" x=\"613.4\" y=\"4.199999999999999\" transform=\"translate(0,397.88)\" style=\"font-family: 'Open Sans', verdana, arial, sans-serif; font-size: 12px; fill: rgb(68, 68, 68); fill-opacity: 1; white-space: pre;\">0.1</text></g><g class=\"ycbe9e618tick\"><text text-anchor=\"start\" x=\"613.4\" y=\"4.199999999999999\" transform=\"translate(0,355.77)\" style=\"font-family: 'Open Sans', verdana, arial, sans-serif; font-size: 12px; fill: rgb(68, 68, 68); fill-opacity: 1; white-space: pre;\">0.2</text></g><g class=\"ycbe9e618tick\"><text text-anchor=\"start\" x=\"613.4\" y=\"4.199999999999999\" transform=\"translate(0,313.65)\" style=\"font-family: 'Open Sans', verdana, arial, sans-serif; font-size: 12px; fill: rgb(68, 68, 68); fill-opacity: 1; white-space: pre;\">0.3</text></g><g class=\"ycbe9e618tick\"><text text-anchor=\"start\" x=\"613.4\" y=\"4.199999999999999\" transform=\"translate(0,271.53)\" style=\"font-family: 'Open Sans', verdana, arial, sans-serif; font-size: 12px; fill: rgb(68, 68, 68); fill-opacity: 1; white-space: pre;\">0.4</text></g><g class=\"ycbe9e618tick\"><text text-anchor=\"start\" x=\"613.4\" y=\"4.199999999999999\" transform=\"translate(0,229.41)\" style=\"font-family: 'Open Sans', verdana, arial, sans-serif; font-size: 12px; fill: rgb(68, 68, 68); fill-opacity: 1; white-space: pre;\">0.5</text></g><g class=\"ycbe9e618tick\"><text text-anchor=\"start\" x=\"613.4\" y=\"4.199999999999999\" transform=\"translate(0,187.3)\" style=\"font-family: 'Open Sans', verdana, arial, sans-serif; font-size: 12px; fill: rgb(68, 68, 68); fill-opacity: 1; white-space: pre;\">0.6</text></g><g class=\"ycbe9e618tick\"><text text-anchor=\"start\" x=\"613.4\" y=\"4.199999999999999\" transform=\"translate(0,145.18)\" style=\"font-family: 'Open Sans', verdana, arial, sans-serif; font-size: 12px; fill: rgb(68, 68, 68); fill-opacity: 1; white-space: pre;\">0.7</text></g><g class=\"ycbe9e618tick\"><text text-anchor=\"start\" x=\"613.4\" y=\"4.199999999999999\" transform=\"translate(0,103.06)\" style=\"font-family: 'Open Sans', verdana, arial, sans-serif; font-size: 12px; fill: rgb(68, 68, 68); fill-opacity: 1; white-space: pre;\">0.8</text></g></g><g class=\"cbtitleunshift\" transform=\"translate(-50,-60)\"><g class=\"cbtitle\"/></g><rect class=\"cboutline\" x=\"580\" y=\"10\" width=\"30\" height=\"370\" style=\"stroke: rgb(68, 68, 68); stroke-opacity: 1; fill: none; stroke-width: 1;\"/></g><g class=\"g-gtitle\"/><g class=\"g-x2title\"/></g></svg>"
      ],
      "text/html": [
       "<div\n",
       "    class=\"webio-mountpoint\"\n",
       "    data-webio-mountpoint=\"17028432946199555239\"\n",
       ">\n",
       "    <script>\n",
       "    if (window.require && require.defined && require.defined(\"nbextensions/webio-jupyter-notebook\")) {\n",
       "        console.log(\"Jupyter WebIO extension detected, not mounting.\");\n",
       "    } else if (window.WebIO) {\n",
       "        WebIO.mount(\n",
       "            document.querySelector('[data-webio-mountpoint=\"17028432946199555239\"]'),\n",
       "            {\"props\":{},\"nodeType\":\"Scope\",\"type\":\"node\",\"instanceArgs\":{\"imports\":{\"data\":[{\"name\":\"Plotly\",\"type\":\"js\",\"url\":\"\\/assetserver\\/e6903599031aaef8675931dfcd7df98a1aeffbfc-plotly-latest.min.js\"},{\"name\":null,\"type\":\"js\",\"url\":\"\\/assetserver\\/74a5dea81f21b0b802ef1ee92f1c8a504eac1a0c-plotly_webio.bundle.js\"}],\"type\":\"async_block\"},\"id\":\"371756765911897858\",\"handlers\":{\"_toImage\":[\"(function (options){return this.Plotly.toImage(this.plotElem,options).then((function (data){return WebIO.setval({\\\"name\\\":\\\"image\\\",\\\"scope\\\":\\\"371756765911897858\\\",\\\"id\\\":\\\"1712175345460582103\\\",\\\"type\\\":\\\"observable\\\"},data)}))})\"],\"__get_gd_contents\":[\"(function (prop){prop==\\\"data\\\" ? (WebIO.setval({\\\"name\\\":\\\"__gd_contents\\\",\\\"scope\\\":\\\"371756765911897858\\\",\\\"id\\\":\\\"16121917271656335991\\\",\\\"type\\\":\\\"observable\\\"},this.plotElem.data)) : undefined; return prop==\\\"layout\\\" ? (WebIO.setval({\\\"name\\\":\\\"__gd_contents\\\",\\\"scope\\\":\\\"371756765911897858\\\",\\\"id\\\":\\\"16121917271656335991\\\",\\\"type\\\":\\\"observable\\\"},this.plotElem.layout)) : undefined})\"],\"_downloadImage\":[\"(function (options){return this.Plotly.downloadImage(this.plotElem,options)})\"],\"_commands\":[\"(function (args){var fn=args.shift(); var elem=this.plotElem; var Plotly=this.Plotly; args.unshift(elem); return Plotly[fn].apply(this,args)})\"]},\"systemjs_options\":null,\"mount_callbacks\":[\"function () {\\n    var handler = ((function (Plotly,PlotlyWebIO){PlotlyWebIO.init(WebIO); var gd=this.dom.querySelector(\\\"#plot-26d5bc87-1685-4c6a-ac51-258b47c86ca7\\\"); this.plotElem=gd; this.Plotly=Plotly; (window.Blink!==undefined) ? (gd.style.width=\\\"100%\\\", gd.style.height=\\\"100vh\\\", gd.style.marginLeft=\\\"0%\\\", gd.style.marginTop=\\\"0vh\\\") : undefined; window.onresize=(function (){return Plotly.Plots.resize(gd)}); Plotly.newPlot(gd,[{\\\"y\\\":[0.5,1.5,2.5,3.5,4.5,5.5,6.5,7.5,8.5,9.5,10.5,11.5,12.5,13.5,14.5,15.5,16.5,17.5,18.5,19.5,20.5],\\\"type\\\":\\\"heatmap\\\",\\\"colorscale\\\":[[0.0,\\\"#000004\\\"],[0.00392156862745098,\\\"#010005\\\"],[0.00784313725490196,\\\"#010106\\\"],[0.011764705882352941,\\\"#010108\\\"],[0.01568627450980392,\\\"#020109\\\"],[0.0196078431372549,\\\"#02020B\\\"],[0.023529411764705882,\\\"#02020D\\\"],[0.027450980392156862,\\\"#03030F\\\"],[0.03137254901960784,\\\"#030312\\\"],[0.03529411764705882,\\\"#040414\\\"],[0.0392156862745098,\\\"#050416\\\"],[0.043137254901960784,\\\"#060518\\\"],[0.047058823529411764,\\\"#06051A\\\"],[0.050980392156862744,\\\"#07061C\\\"],[0.054901960784313725,\\\"#08071E\\\"],[0.058823529411764705,\\\"#090720\\\"],[0.06274509803921569,\\\"#0A0822\\\"],[0.06666666666666667,\\\"#0B0924\\\"],[0.07058823529411765,\\\"#0C0926\\\"],[0.07450980392156863,\\\"#0D0A29\\\"],[0.0784313725490196,\\\"#0E0B2B\\\"],[0.08235294117647059,\\\"#100B2D\\\"],[0.08627450980392157,\\\"#110C2F\\\"],[0.09019607843137255,\\\"#120D31\\\"],[0.09411764705882353,\\\"#130D34\\\"],[0.09803921568627451,\\\"#140E36\\\"],[0.10196078431372549,\\\"#150E38\\\"],[0.10588235294117647,\\\"#160F3B\\\"],[0.10980392156862745,\\\"#180F3D\\\"],[0.11372549019607843,\\\"#19103F\\\"],[0.11764705882352941,\\\"#1A1042\\\"],[0.12156862745098039,\\\"#1C1044\\\"],[0.12549019607843137,\\\"#1D1147\\\"],[0.12941176470588237,\\\"#1E1149\\\"],[0.13333333333333333,\\\"#20114B\\\"],[0.13725490196078433,\\\"#21114E\\\"],[0.1411764705882353,\\\"#221150\\\"],[0.1450980392156863,\\\"#241253\\\"],[0.14901960784313725,\\\"#251255\\\"],[0.15294117647058825,\\\"#271258\\\"],[0.1568627450980392,\\\"#29115A\\\"],[0.1607843137254902,\\\"#2A115C\\\"],[0.16470588235294117,\\\"#2C115F\\\"],[0.16862745098039217,\\\"#2D1161\\\"],[0.17254901960784313,\\\"#2F1163\\\"],[0.17647058823529413,\\\"#311165\\\"],[0.1803921568627451,\\\"#331067\\\"],[0.1843137254901961,\\\"#341069\\\"],[0.18823529411764706,\\\"#36106B\\\"],[0.19215686274509805,\\\"#38106C\\\"],[0.19607843137254902,\\\"#390F6E\\\"],[0.2,\\\"#3B0F70\\\"],[0.20392156862745098,\\\"#3D0F71\\\"],[0.20784313725490197,\\\"#3F0F72\\\"],[0.21176470588235294,\\\"#400F74\\\"],[0.21568627450980393,\\\"#420F75\\\"],[0.2196078431372549,\\\"#440F76\\\"],[0.2235294117647059,\\\"#451077\\\"],[0.22745098039215686,\\\"#471078\\\"],[0.23137254901960785,\\\"#491078\\\"],[0.23529411764705882,\\\"#4A1079\\\"],[0.23921568627450981,\\\"#4C117A\\\"],[0.24313725490196078,\\\"#4E117B\\\"],[0.24705882352941178,\\\"#4F127B\\\"],[0.25098039215686274,\\\"#51127C\\\"],[0.2549019607843137,\\\"#52137C\\\"],[0.25882352941176473,\\\"#54137D\\\"],[0.2627450980392157,\\\"#56147D\\\"],[0.26666666666666666,\\\"#57157E\\\"],[0.27058823529411763,\\\"#59157E\\\"],[0.27450980392156865,\\\"#5A167E\\\"],[0.2784313725490196,\\\"#5C167F\\\"],[0.2823529411764706,\\\"#5D177F\\\"],[0.28627450980392155,\\\"#5F187F\\\"],[0.2901960784313726,\\\"#601880\\\"],[0.29411764705882354,\\\"#621980\\\"],[0.2980392156862745,\\\"#641A80\\\"],[0.30196078431372547,\\\"#651A80\\\"],[0.3058823529411765,\\\"#671B80\\\"],[0.30980392156862746,\\\"#681C81\\\"],[0.3137254901960784,\\\"#6A1C81\\\"],[0.3176470588235294,\\\"#6B1D81\\\"],[0.3215686274509804,\\\"#6D1D81\\\"],[0.3254901960784314,\\\"#6E1E81\\\"],[0.32941176470588235,\\\"#701F81\\\"],[0.3333333333333333,\\\"#721F81\\\"],[0.33725490196078434,\\\"#732081\\\"],[0.3411764705882353,\\\"#752181\\\"],[0.34509803921568627,\\\"#762181\\\"],[0.34901960784313724,\\\"#782281\\\"],[0.35294117647058826,\\\"#792282\\\"],[0.3568627450980392,\\\"#7B2382\\\"],[0.3607843137254902,\\\"#7C2382\\\"],[0.36470588235294116,\\\"#7E2482\\\"],[0.3686274509803922,\\\"#802582\\\"],[0.37254901960784315,\\\"#812581\\\"],[0.3764705882352941,\\\"#832681\\\"],[0.3803921568627451,\\\"#842681\\\"],[0.3843137254901961,\\\"#862781\\\"],[0.38823529411764707,\\\"#882781\\\"],[0.39215686274509803,\\\"#892881\\\"],[0.396078431372549,\\\"#8B2981\\\"],[0.4,\\\"#8C2981\\\"],[0.403921568627451,\\\"#8E2A81\\\"],[0.40784313725490196,\\\"#902A81\\\"],[0.4117647058823529,\\\"#912B81\\\"],[0.41568627450980394,\\\"#932B80\\\"],[0.4196078431372549,\\\"#942C80\\\"],[0.4235294117647059,\\\"#962C80\\\"],[0.42745098039215684,\\\"#982D80\\\"],[0.43137254901960786,\\\"#992D80\\\"],[0.43529411764705883,\\\"#9B2E7F\\\"],[0.4392156862745098,\\\"#9C2E7F\\\"],[0.44313725490196076,\\\"#9E2F7F\\\"],[0.4470588235294118,\\\"#A02F7F\\\"],[0.45098039215686275,\\\"#A1307E\\\"],[0.4549019607843137,\\\"#A3307E\\\"],[0.4588235294117647,\\\"#A5317E\\\"],[0.4627450980392157,\\\"#A6317D\\\"],[0.4666666666666667,\\\"#A8327D\\\"],[0.47058823529411764,\\\"#AA337D\\\"],[0.4745098039215686,\\\"#AB337C\\\"],[0.47843137254901963,\\\"#AD347C\\\"],[0.4823529411764706,\\\"#AE347B\\\"],[0.48627450980392156,\\\"#B0357B\\\"],[0.49019607843137253,\\\"#B2357B\\\"],[0.49411764705882355,\\\"#B3367A\\\"],[0.4980392156862745,\\\"#B5367A\\\"],[0.5019607843137255,\\\"#B73779\\\"],[0.5058823529411764,\\\"#B83779\\\"],[0.5098039215686274,\\\"#BA3878\\\"],[0.5137254901960784,\\\"#BC3978\\\"],[0.5176470588235295,\\\"#BD3977\\\"],[0.5215686274509804,\\\"#BF3A77\\\"],[0.5254901960784314,\\\"#C03A76\\\"],[0.5294117647058824,\\\"#C23B75\\\"],[0.5333333333333333,\\\"#C43C75\\\"],[0.5372549019607843,\\\"#C53C74\\\"],[0.5411764705882353,\\\"#C73D73\\\"],[0.5450980392156862,\\\"#C83E73\\\"],[0.5490196078431373,\\\"#CA3E72\\\"],[0.5529411764705883,\\\"#CC3F71\\\"],[0.5568627450980392,\\\"#CD4071\\\"],[0.5607843137254902,\\\"#CF4070\\\"],[0.5647058823529412,\\\"#D0416F\\\"],[0.5686274509803921,\\\"#D2426F\\\"],[0.5725490196078431,\\\"#D3436E\\\"],[0.5764705882352941,\\\"#D5446D\\\"],[0.5803921568627451,\\\"#D6456C\\\"],[0.5843137254901961,\\\"#D8456C\\\"],[0.5882352941176471,\\\"#D9466B\\\"],[0.592156862745098,\\\"#DB476A\\\"],[0.596078431372549,\\\"#DC4869\\\"],[0.6,\\\"#DE4968\\\"],[0.6039215686274509,\\\"#DF4A68\\\"],[0.6078431372549019,\\\"#E04C67\\\"],[0.611764705882353,\\\"#E24D66\\\"],[0.615686274509804,\\\"#E34E65\\\"],[0.6196078431372549,\\\"#E44F64\\\"],[0.6235294117647059,\\\"#E55064\\\"],[0.6274509803921569,\\\"#E75263\\\"],[0.6313725490196078,\\\"#E85362\\\"],[0.6352941176470588,\\\"#E95462\\\"],[0.6392156862745098,\\\"#EA5661\\\"],[0.6431372549019608,\\\"#EB5760\\\"],[0.6470588235294118,\\\"#EC5860\\\"],[0.6509803921568628,\\\"#ED5A5F\\\"],[0.6549019607843137,\\\"#EE5B5E\\\"],[0.6588235294117647,\\\"#EF5D5E\\\"],[0.6627450980392157,\\\"#F05F5E\\\"],[0.6666666666666666,\\\"#F1605D\\\"],[0.6705882352941176,\\\"#F2625D\\\"],[0.6745098039215687,\\\"#F2645C\\\"],[0.6784313725490196,\\\"#F3655C\\\"],[0.6823529411764706,\\\"#F4675C\\\"],[0.6862745098039216,\\\"#F4695C\\\"],[0.6901960784313725,\\\"#F56B5C\\\"],[0.6941176470588235,\\\"#F66C5C\\\"],[0.6980392156862745,\\\"#F66E5C\\\"],[0.7019607843137254,\\\"#F7705C\\\"],[0.7058823529411765,\\\"#F7725C\\\"],[0.7098039215686275,\\\"#F8745C\\\"],[0.7137254901960784,\\\"#F8765C\\\"],[0.7176470588235294,\\\"#F9785D\\\"],[0.7215686274509804,\\\"#F9795D\\\"],[0.7254901960784313,\\\"#F97B5D\\\"],[0.7294117647058823,\\\"#FA7D5E\\\"],[0.7333333333333333,\\\"#FA7F5E\\\"],[0.7372549019607844,\\\"#FA815F\\\"],[0.7411764705882353,\\\"#FB835F\\\"],[0.7450980392156863,\\\"#FB8560\\\"],[0.7490196078431373,\\\"#FB8761\\\"],[0.7529411764705882,\\\"#FC8961\\\"],[0.7568627450980392,\\\"#FC8A62\\\"],[0.7607843137254902,\\\"#FC8C63\\\"],[0.7647058823529411,\\\"#FC8E64\\\"],[0.7686274509803922,\\\"#FC9065\\\"],[0.7725490196078432,\\\"#FD9266\\\"],[0.7764705882352941,\\\"#FD9467\\\"],[0.7803921568627451,\\\"#FD9668\\\"],[0.7843137254901961,\\\"#FD9869\\\"],[0.788235294117647,\\\"#FD9A6A\\\"],[0.792156862745098,\\\"#FD9B6B\\\"],[0.796078431372549,\\\"#FE9D6C\\\"],[0.8,\\\"#FE9F6D\\\"],[0.803921568627451,\\\"#FEA16E\\\"],[0.807843137254902,\\\"#FEA36F\\\"],[0.8117647058823529,\\\"#FEA571\\\"],[0.8156862745098039,\\\"#FEA772\\\"],[0.8196078431372549,\\\"#FEA973\\\"],[0.8235294117647058,\\\"#FEAA74\\\"],[0.8274509803921568,\\\"#FEAC76\\\"],[0.8313725490196079,\\\"#FEAE77\\\"],[0.8352941176470589,\\\"#FEB078\\\"],[0.8392156862745098,\\\"#FEB27A\\\"],[0.8431372549019608,\\\"#FEB47B\\\"],[0.8470588235294118,\\\"#FEB67C\\\"],[0.8509803921568627,\\\"#FEB77E\\\"],[0.8549019607843137,\\\"#FEB97F\\\"],[0.8588235294117647,\\\"#FEBB81\\\"],[0.8627450980392157,\\\"#FEBD82\\\"],[0.8666666666666667,\\\"#FEBF84\\\"],[0.8705882352941177,\\\"#FEC185\\\"],[0.8745098039215686,\\\"#FEC287\\\"],[0.8784313725490196,\\\"#FEC488\\\"],[0.8823529411764706,\\\"#FEC68A\\\"],[0.8862745098039215,\\\"#FEC88C\\\"],[0.8901960784313725,\\\"#FECA8D\\\"],[0.8941176470588236,\\\"#FECC8F\\\"],[0.8980392156862745,\\\"#FECD90\\\"],[0.9019607843137255,\\\"#FECF92\\\"],[0.9058823529411765,\\\"#FED194\\\"],[0.9098039215686274,\\\"#FED395\\\"],[0.9137254901960784,\\\"#FED597\\\"],[0.9176470588235294,\\\"#FED799\\\"],[0.9215686274509803,\\\"#FED89A\\\"],[0.9254901960784314,\\\"#FDDA9C\\\"],[0.9294117647058824,\\\"#FDDC9E\\\"],[0.9333333333333333,\\\"#FDDEA0\\\"],[0.9372549019607843,\\\"#FDE0A1\\\"],[0.9411764705882353,\\\"#FDE2A3\\\"],[0.9450980392156862,\\\"#FDE3A5\\\"],[0.9490196078431372,\\\"#FDE5A7\\\"],[0.9529411764705882,\\\"#FDE7A9\\\"],[0.9568627450980393,\\\"#FDE9AA\\\"],[0.9607843137254902,\\\"#FDEBAC\\\"],[0.9647058823529412,\\\"#FCECAE\\\"],[0.9686274509803922,\\\"#FCEEB0\\\"],[0.9725490196078431,\\\"#FCF0B2\\\"],[0.9764705882352941,\\\"#FCF2B4\\\"],[0.9803921568627451,\\\"#FCF4B6\\\"],[0.984313725490196,\\\"#FCF6B8\\\"],[0.9882352941176471,\\\"#FCF7B9\\\"],[0.9921568627450981,\\\"#FCF9BB\\\"],[0.996078431372549,\\\"#FCFBBD\\\"],[1.0,\\\"#FCFDBF\\\"]],\\\"z\\\":[[0.0,0.31665534,0.3220607,0.3275201,0.31810904,0.32837194,0.3370318,0.33872283,0.3916727,0.4006672,0.374171,0.8744624,0.8744048,0.8712242,0.87119097,0.8711713,0.87463766,0.875138,0.87692076,0.87587476],[0.31665534,0.0,0.29679877,0.31557098,0.3194592,0.3126689,0.32485792,0.33207127,0.38499457,0.39390278,0.3673112,0.8746683,0.87461084,0.8691729,0.8691974,0.8698858,0.87146634,0.8743241,0.8752062,0.87349457],[0.3220607,0.29679877,0.0,0.27551258,0.2976658,0.30132297,0.3192848,0.3362497,0.37702408,0.38833356,0.36971113,0.87374073,0.87368315,0.87114066,0.87110746,0.87178177,0.8739778,0.87510645,0.87480605,0.8753826],[0.3275201,0.31557098,0.27551258,0.0,0.3000308,0.31172553,0.32310116,0.3457592,0.38114664,0.38902387,0.35150307,0.8758561,0.87579864,0.8696641,0.8696888,0.8691565,0.87281704,0.8745295,0.8757512,0.8751405],[0.31810904,0.3194592,0.2976658,0.3000308,0.0,0.30949774,0.30719852,0.33926302,0.3790008,0.386298,0.35845697,0.8741674,0.87410927,0.8706636,0.8708652,0.8714899,0.87382627,0.87553734,0.87625587,0.8754186],[0.32837194,0.3126689,0.30132297,0.31172553,0.30949774,0.0,0.32025793,0.33163574,0.36690432,0.37708533,0.35876256,0.8742158,0.87415695,0.87001264,0.8699187,0.87049943,0.8740456,0.87669414,0.87621385,0.87542385],[0.3370318,0.32485792,0.3192848,0.32310116,0.30719852,0.32025793,0.0,0.34828904,0.36425638,0.3750808,0.36696312,0.8757511,0.87569386,0.87184626,0.87175536,0.87202,0.87614423,0.8775185,0.8785028,0.8766963],[0.33872283,0.33207127,0.3362497,0.3457592,0.33926302,0.33163574,0.34828904,0.0,0.39489165,0.40160587,0.37039456,0.8752603,0.8752032,0.8719971,0.87196434,0.872112,0.87542886,0.8764744,0.87701255,0.8773422],[0.3916727,0.38499457,0.37702408,0.38114664,0.3790008,0.36690432,0.36425638,0.39489165,0.0,0.31944445,0.33723882,0.8757872,0.8757296,0.86958325,0.86954945,0.8697732,0.8719375,0.87338334,0.875345,0.87478244],[0.4006672,0.39390278,0.38833356,0.38902387,0.386298,0.37708533,0.3750808,0.40160587,0.31944445,0.0,0.36020023,0.87706655,0.8770099,0.8662368,0.8662026,0.8654081,0.8691815,0.86913,0.8715874,0.8707848],[0.374171,0.3673112,0.36971113,0.35150307,0.35845697,0.35876256,0.36696312,0.37039456,0.33723882,0.36020023,0.0,0.874279,0.87422156,0.8715719,0.8715389,0.8719207,0.8759368,0.87714744,0.8757804,0.87517196],[0.8744624,0.8746683,0.87374073,0.8758561,0.8741674,0.8742158,0.8757511,0.8752603,0.8757872,0.87706655,0.874279,0.0,0.00018406037,0.80041087,0.8002888,0.8020931,0.82498926,0.827203,0.81590605,0.815841],[0.8744048,0.87461084,0.87368315,0.87579864,0.87410927,0.87415695,0.87569386,0.8752032,0.8757296,0.8770099,0.87422156,0.00018406037,0.0,0.8003442,0.80022216,0.8020271,0.82492614,0.82714087,0.81584287,0.8157766],[0.8712242,0.8691729,0.87114066,0.8696641,0.8706636,0.87001264,0.87184626,0.8719971,0.86958325,0.8662368,0.8715719,0.80041087,0.8003442,0.0,0.0019534884,0.29684177,0.6533556,0.66247874,0.63374,0.6277122],[0.87119097,0.8691974,0.87110746,0.8696888,0.8708652,0.8699187,0.87175536,0.87196434,0.86954945,0.8662026,0.8715389,0.8002888,0.80022216,0.0019534884,0.0,0.2962963,0.6532483,0.6624575,0.6336266,0.6276812],[0.8711713,0.8698858,0.87178177,0.8691565,0.8714899,0.87049943,0.87202,0.872112,0.8697732,0.8654081,0.8719207,0.8020931,0.8020271,0.29684177,0.2962963,0.0,0.6570149,0.6628482,0.6332184,0.6269551],[0.87463766,0.87146634,0.8739778,0.87281704,0.87382627,0.8740456,0.87614423,0.87542886,0.8719375,0.8691815,0.8759368,0.82498926,0.82492614,0.6533556,0.6532483,0.6570149,0.0,0.17030352,0.5766558,0.5576049],[0.875138,0.8743241,0.87510645,0.8745295,0.87553734,0.87669414,0.8775185,0.8764744,0.87338334,0.86913,0.87714744,0.827203,0.82714087,0.66247874,0.6624575,0.6628482,0.17030352,0.0,0.57827234,0.56392825],[0.87692076,0.8752062,0.87480605,0.8757512,0.87625587,0.87621385,0.8785028,0.87701255,0.875345,0.8715874,0.8757804,0.81590605,0.81584287,0.63374,0.6336266,0.6332184,0.5766558,0.57827234,0.0,0.30545592],[0.87587476,0.87349457,0.8753826,0.8751405,0.8754186,0.87542385,0.8766963,0.8773422,0.87478244,0.8707848,0.87517196,0.815841,0.8157766,0.6277122,0.6276812,0.6269551,0.5576049,0.56392825,0.30545592,0.0]],\\\"x\\\":[0.5,1.5,2.5,3.5,4.5,5.5,6.5,7.5,8.5,9.5,10.5,11.5,12.5,13.5,14.5,15.5,16.5,17.5,18.5,19.5,20.5]},{\\\"showlegend\\\":false,\\\"mode\\\":\\\"lines\\\",\\\"xaxis\\\":\\\"x2\\\",\\\"line\\\":{\\\"color\\\":\\\"#666666\\\"},\\\"y\\\":[1.5,6.0625,null,1.5,1.5,null,6.0625,6.0625,null],\\\"type\\\":\\\"scatter\\\",\\\"hoverinfo\\\":\\\"skip\\\",\\\"yaxis\\\":\\\"y\\\",\\\"x\\\":[0.3370318114757538,0.3370318114757538,null,0.3370318114757538,0.31665533781051636,null,0.3370318114757538,0.3231011629104614,null]},{\\\"showlegend\\\":false,\\\"mode\\\":\\\"lines\\\",\\\"xaxis\\\":\\\"x2\\\",\\\"line\\\":{\\\"color\\\":\\\"#666666\\\"},\\\"y\\\":[8.0703125,14.6875,null,8.0703125,8.0703125,null,14.6875,14.6875,null],\\\"type\\\":\\\"scatter\\\",\\\"hoverinfo\\\":\\\"skip\\\",\\\"yaxis\\\":\\\"y\\\",\\\"x\\\":[0.8785027861595154,0.8785027861595154,null,0.8785027861595154,0.40160587430000305,null,0.8785027861595154,0.8272029757499695,null]},{\\\"showlegend\\\":false,\\\"mode\\\":\\\"lines\\\",\\\"xaxis\\\":\\\"x2\\\",\\\"line\\\":{\\\"color\\\":\\\"#666666\\\"},\\\"y\\\":[12.0,13.0,null,12.0,12.0,null,13.0,13.0,null],\\\"type\\\":\\\"scatter\\\",\\\"hoverinfo\\\":\\\"skip\\\",\\\"yaxis\\\":\\\"y\\\",\\\"x\\\":[0.00018406036542728543,0.00018406036542728543,null,0.00018406036542728543,0.0,null,0.00018406036542728543,0.0,null]},{\\\"showlegend\\\":false,\\\"mode\\\":\\\"lines\\\",\\\"xaxis\\\":\\\"x2\\\",\\\"line\\\":{\\\"color\\\":\\\"#666666\\\"},\\\"y\\\":[3.5,5.0,null,3.5,3.5,null,5.0,5.0,null],\\\"type\\\":\\\"scatter\\\",\\\"hoverinfo\\\":\\\"skip\\\",\\\"yaxis\\\":\\\"y\\\",\\\"x\\\":[0.30003079771995544,0.30003079771995544,null,0.30003079771995544,0.27551257610321045,null,0.30003079771995544,0.0,null]},{\\\"showlegend\\\":false,\\\"mode\\\":\\\"lines\\\",\\\"xaxis\\\":\\\"x2\\\",\\\"line\\\":{\\\"color\\\":\\\"#666666\\\"},\\\"y\\\":[14.5,16.0,null,14.5,14.5,null,16.0,16.0,null],\\\"type\\\":\\\"scatter\\\",\\\"hoverinfo\\\":\\\"skip\\\",\\\"yaxis\\\":\\\"y\\\",\\\"x\\\":[0.2968417704105377,0.2968417704105377,null,0.2968417704105377,0.0019534884486347437,null,0.2968417704105377,0.0,null]},{\\\"showlegend\\\":false,\\\"mode\\\":\\\"lines\\\",\\\"xaxis\\\":\\\"x2\\\",\\\"line\\\":{\\\"color\\\":\\\"#666666\\\"},\\\"y\\\":[5.890625,10.25,null,5.890625,5.890625,null,10.25,10.25,null],\\\"type\\\":\\\"scatter\\\",\\\"hoverinfo\\\":\\\"skip\\\",\\\"yaxis\\\":\\\"y\\\",\\\"x\\\":[0.40160587430000305,0.40160587430000305,null,0.40160587430000305,0.34828904271125793,null,0.40160587430000305,0.3602002263069153,null]},{\\\"showlegend\\\":false,\\\"mode\\\":\\\"lines\\\",\\\"xaxis\\\":\\\"x2\\\",\\\"line\\\":{\\\"color\\\":\\\"#666666\\\"},\\\"y\\\":[9.5,11.0,null,9.5,9.5,null,11.0,11.0,null],\\\"type\\\":\\\"scatter\\\",\\\"hoverinfo\\\":\\\"skip\\\",\\\"yaxis\\\":\\\"y\\\",\\\"x\\\":[0.3602002263069153,0.3602002263069153,null,0.3602002263069153,0.3194444477558136,null,0.3602002263069153,0.0,null]},{\\\"showlegend\\\":false,\\\"mode\\\":\\\"lines\\\",\\\"xaxis\\\":\\\"x2\\\",\\\"line\\\":{\\\"color\\\":\\\"#666666\\\"},\\\"y\\\":[1.0,2.0,null,1.0,1.0,null,2.0,2.0,null],\\\"type\\\":\\\"scatter\\\",\\\"hoverinfo\\\":\\\"skip\\\",\\\"yaxis\\\":\\\"y\\\",\\\"x\\\":[0.31665533781051636,0.31665533781051636,null,0.31665533781051636,0.0,null,0.31665533781051636,0.0,null]},{\\\"showlegend\\\":false,\\\"mode\\\":\\\"lines\\\",\\\"xaxis\\\":\\\"x2\\\",\\\"line\\\":{\\\"color\\\":\\\"#666666\\\"},\\\"y\\\":[14.0,15.0,null,14.0,14.0,null,15.0,15.0,null],\\\"type\\\":\\\"scatter\\\",\\\"hoverinfo\\\":\\\"skip\\\",\\\"yaxis\\\":\\\"y\\\",\\\"x\\\":[0.0019534884486347437,0.0019534884486347437,null,0.0019534884486347437,0.0,null,0.0019534884486347437,0.0,null]},{\\\"showlegend\\\":false,\\\"mode\\\":\\\"lines\\\",\\\"xaxis\\\":\\\"x2\\\",\\\"line\\\":{\\\"color\\\":\\\"#666666\\\"},\\\"y\\\":[3.0,4.0,null,3.0,3.0,null,4.0,4.0,null],\\\"type\\\":\\\"scatter\\\",\\\"hoverinfo\\\":\\\"skip\\\",\\\"yaxis\\\":\\\"y\\\",\\\"x\\\":[0.27551257610321045,0.27551257610321045,null,0.27551257610321045,0.0,null,0.27551257610321045,0.0,null]},{\\\"showlegend\\\":false,\\\"mode\\\":\\\"lines\\\",\\\"xaxis\\\":\\\"x2\\\",\\\"line\\\":{\\\"color\\\":\\\"#666666\\\"},\\\"y\\\":[15.25,18.5,null,15.25,15.25,null,18.5,18.5,null],\\\"type\\\":\\\"scatter\\\",\\\"hoverinfo\\\":\\\"skip\\\",\\\"yaxis\\\":\\\"y\\\",\\\"x\\\":[0.662848174571991,0.662848174571991,null,0.662848174571991,0.2968417704105377,null,0.662848174571991,0.5782723426818848,null]},{\\\"showlegend\\\":false,\\\"mode\\\":\\\"lines\\\",\\\"xaxis\\\":\\\"x2\\\",\\\"line\\\":{\\\"color\\\":\\\"#666666\\\"},\\\"y\\\":[4.25,6.0,null,4.25,4.25,null,6.0,6.0,null],\\\"type\\\":\\\"scatter\\\",\\\"hoverinfo\\\":\\\"skip\\\",\\\"yaxis\\\":\\\"y\\\",\\\"x\\\":[0.31172552704811096,0.31172552704811096,null,0.31172552704811096,0.30003079771995544,null,0.31172552704811096,0.0,null]},{\\\"showlegend\\\":false,\\\"mode\\\":\\\"lines\\\",\\\"xaxis\\\":\\\"x2\\\",\\\"line\\\":{\\\"color\\\":\\\"#666666\\\"},\\\"y\\\":[12.5,16.875,null,12.5,12.5,null,16.875,16.875,null],\\\"type\\\":\\\"scatter\\\",\\\"hoverinfo\\\":\\\"skip\\\",\\\"yaxis\\\":\\\"y\\\",\\\"x\\\":[0.8272029757499695,0.8272029757499695,null,0.8272029757499695,0.00018406036542728543,null,0.8272029757499695,0.662848174571991,null]},{\\\"showlegend\\\":false,\\\"mode\\\":\\\"lines\\\",\\\"xaxis\\\":\\\"x2\\\",\\\"line\\\":{\\\"color\\\":\\\"#666666\\\"},\\\"y\\\":[17.0,18.0,null,17.0,17.0,null,18.0,18.0,null],\\\"type\\\":\\\"scatter\\\",\\\"hoverinfo\\\":\\\"skip\\\",\\\"yaxis\\\":\\\"y\\\",\\\"x\\\":[0.17030352354049683,0.17030352354049683,null,0.17030352354049683,0.0,null,0.17030352354049683,0.0,null]},{\\\"showlegend\\\":false,\\\"mode\\\":\\\"lines\\\",\\\"xaxis\\\":\\\"x2\\\",\\\"line\\\":{\\\"color\\\":\\\"#666666\\\"},\\\"y\\\":[5.125,7.0,null,5.125,5.125,null,7.0,7.0,null],\\\"type\\\":\\\"scatter\\\",\\\"hoverinfo\\\":\\\"skip\\\",\\\"yaxis\\\":\\\"y\\\",\\\"x\\\":[0.3231011629104614,0.3231011629104614,null,0.3231011629104614,0.31172552704811096,null,0.3231011629104614,0.0,null]},{\\\"showlegend\\\":false,\\\"mode\\\":\\\"lines\\\",\\\"xaxis\\\":\\\"x2\\\",\\\"line\\\":{\\\"color\\\":\\\"#666666\\\"},\\\"y\\\":[19.0,20.0,null,19.0,19.0,null,20.0,20.0,null],\\\"type\\\":\\\"scatter\\\",\\\"hoverinfo\\\":\\\"skip\\\",\\\"yaxis\\\":\\\"y\\\",\\\"x\\\":[0.30545592308044434,0.30545592308044434,null,0.30545592308044434,0.0,null,0.30545592308044434,0.0,null]},{\\\"showlegend\\\":false,\\\"mode\\\":\\\"lines\\\",\\\"xaxis\\\":\\\"x2\\\",\\\"line\\\":{\\\"color\\\":\\\"#666666\\\"},\\\"y\\\":[17.5,19.5,null,17.5,17.5,null,19.5,19.5,null],\\\"type\\\":\\\"scatter\\\",\\\"hoverinfo\\\":\\\"skip\\\",\\\"yaxis\\\":\\\"y\\\",\\\"x\\\":[0.5782723426818848,0.5782723426818848,null,0.5782723426818848,0.17030352354049683,null,0.5782723426818848,0.30545592308044434,null]},{\\\"showlegend\\\":false,\\\"mode\\\":\\\"lines\\\",\\\"xaxis\\\":\\\"x2\\\",\\\"line\\\":{\\\"color\\\":\\\"#666666\\\"},\\\"y\\\":[3.78125,8.0,null,3.78125,3.78125,null,8.0,8.0,null],\\\"type\\\":\\\"scatter\\\",\\\"hoverinfo\\\":\\\"skip\\\",\\\"yaxis\\\":\\\"y\\\",\\\"x\\\":[0.34828904271125793,0.34828904271125793,null,0.34828904271125793,0.3370318114757538,null,0.34828904271125793,0.0,null]},{\\\"showlegend\\\":false,\\\"mode\\\":\\\"lines\\\",\\\"xaxis\\\":\\\"x2\\\",\\\"line\\\":{\\\"color\\\":\\\"#666666\\\"},\\\"y\\\":[9.0,10.0,null,9.0,9.0,null,10.0,10.0,null],\\\"type\\\":\\\"scatter\\\",\\\"hoverinfo\\\":\\\"skip\\\",\\\"yaxis\\\":\\\"y\\\",\\\"x\\\":[0.3194444477558136,0.3194444477558136,null,0.3194444477558136,0.0,null,0.3194444477558136,0.0,null]},{\\\"showlegend\\\":false,\\\"mode\\\":\\\"markers\\\",\\\"xaxis\\\":\\\"x2\\\",\\\"marker\\\":{\\\"color\\\":\\\"#666666\\\",\\\"size\\\":[8,4,8,8,4,8,8,4,4,8,8,8,4,8,8,4,8,8,8]},\\\"y\\\":[9.5,3.78125,11.37890625,12.5,4.25,15.25,8.0703125,10.25,1.5,14.5,3.5,16.875,5.125,14.6875,17.5,6.0625,19.5,18.5,5.890625],\\\"type\\\":\\\"scatter\\\",\\\"customdata\\\":[[30,2],[32,7],[39,20],[21,2],[26,3],[25,3],[35,11],[34,3],[29,2],[22,2],[24,2],[37,7],[28,4],[38,9],[23,2],[31,5],[27,2],[36,4],[33,8]],\\\"yaxis\\\":\\\"y\\\",\\\"hovertemplate\\\":\\\"ID: %{customdata[0]}<br>\\\\nHeight: %{x:.3f}<br>\\\\nGenome count: %{customdata[1]}\\\\n\\\\n<extra><\\/extra>\\\",\\\"x\\\":[0.3194444477558136,0.3370318114757538,0.8785027861595154,0.00018406036542728543,0.30003079771995544,0.2968417704105377,0.40160587430000305,0.3602002263069153,0.31665533781051636,0.0019534884486347437,0.27551257610321045,0.662848174571991,0.31172552704811096,0.8272029757499695,0.17030352354049683,0.3231011629104614,0.30545592308044434,0.5782723426818848,0.34828904271125793]},{\\\"marker\\\":{\\\"symbol\\\":\\\"line-ns\\\",\\\"color\\\":\\\"green\\\",\\\"line\\\":{\\\"color\\\":\\\"green\\\",\\\"width\\\":1}},\\\"mode\\\":\\\"markers\\\",\\\"xaxis\\\":\\\"x2\\\",\\\"y\\\":[-1,-1],\\\"type\\\":\\\"scatter\\\",\\\"text\\\":[\\\"safensis\\\"],\\\"hovertemplate\\\":\\\"%{text} <br>\\\\n%{x}\\\\n<extra><\\/extra>\\\\n\\\",\\\"x\\\":[0.57140976]}],{\\\"showlegend\\\":false,\\\"xaxis\\\":{\\\"scaleanchor\\\":\\\"y\\\",\\\"visible\\\":false,\\\"domain\\\":[0.504950495049505,1.0]},\\\"hovermode\\\":\\\"closest\\\",\\\"xaxis2\\\":{\\\"rangemode\\\":\\\"nonnegative\\\",\\\"spikethickness\\\":1,\\\"showspikes\\\":true,\\\"domain\\\":[0.0,0.49504950495049505],\\\"spikemode\\\":\\\"across\\\",\\\"autorange\\\":\\\"reversed\\\",\\\"spikedash\\\":\\\"solid\\\"},\\\"height\\\":550,\\\"margin\\\":{\\\"l\\\":50,\\\"b\\\":50,\\\"r\\\":50,\\\"t\\\":60},\\\"yaxis\\\":{\\\"scaleanchor\\\":\\\"x\\\",\\\"visible\\\":false},\\\"width\\\":1000},{}); gd.on(\\\"plotly_hover\\\",(function (data){var filtered_data=WebIO.PlotlyCommands.filterEventData(gd,data,\\\"hover\\\"); return !(filtered_data.isnil) ? (WebIO.setval({\\\"name\\\":\\\"hover\\\",\\\"scope\\\":\\\"371756765911897858\\\",\\\"id\\\":\\\"4564019608264350325\\\",\\\"type\\\":\\\"observable\\\"},filtered_data.out)) : undefined})); gd.on(\\\"plotly_unhover\\\",(function (){return WebIO.setval({\\\"name\\\":\\\"hover\\\",\\\"scope\\\":\\\"371756765911897858\\\",\\\"id\\\":\\\"4564019608264350325\\\",\\\"type\\\":\\\"observable\\\"},{})})); gd.on(\\\"plotly_selected\\\",(function (data){var filtered_data=WebIO.PlotlyCommands.filterEventData(gd,data,\\\"selected\\\"); return !(filtered_data.isnil) ? (WebIO.setval({\\\"name\\\":\\\"selected\\\",\\\"scope\\\":\\\"371756765911897858\\\",\\\"id\\\":\\\"12068072461423024575\\\",\\\"type\\\":\\\"observable\\\"},filtered_data.out)) : undefined})); gd.on(\\\"plotly_deselect\\\",(function (){return WebIO.setval({\\\"name\\\":\\\"selected\\\",\\\"scope\\\":\\\"371756765911897858\\\",\\\"id\\\":\\\"12068072461423024575\\\",\\\"type\\\":\\\"observable\\\"},{})})); gd.on(\\\"plotly_relayout\\\",(function (data){var filtered_data=WebIO.PlotlyCommands.filterEventData(gd,data,\\\"relayout\\\"); return !(filtered_data.isnil) ? (WebIO.setval({\\\"name\\\":\\\"relayout\\\",\\\"scope\\\":\\\"371756765911897858\\\",\\\"id\\\":\\\"1860341508104319161\\\",\\\"type\\\":\\\"observable\\\"},filtered_data.out)) : undefined})); return gd.on(\\\"plotly_click\\\",(function (data){var filtered_data=WebIO.PlotlyCommands.filterEventData(gd,data,\\\"click\\\"); return !(filtered_data.isnil) ? (WebIO.setval({\\\"name\\\":\\\"click\\\",\\\"scope\\\":\\\"371756765911897858\\\",\\\"id\\\":\\\"12800737697847124660\\\",\\\"type\\\":\\\"observable\\\"},filtered_data.out)) : undefined}))}));\\n    (WebIO.importBlock({\\\"data\\\":[{\\\"name\\\":\\\"Plotly\\\",\\\"type\\\":\\\"js\\\",\\\"url\\\":\\\"\\/assetserver\\/e6903599031aaef8675931dfcd7df98a1aeffbfc-plotly-latest.min.js\\\"},{\\\"name\\\":null,\\\"type\\\":\\\"js\\\",\\\"url\\\":\\\"\\/assetserver\\/74a5dea81f21b0b802ef1ee92f1c8a504eac1a0c-plotly_webio.bundle.js\\\"}],\\\"type\\\":\\\"async_block\\\"})).then((imports) => handler.apply(this, imports));\\n}\\n\"],\"observables\":{\"_toImage\":{\"sync\":false,\"id\":\"14773619402786163562\",\"value\":{}},\"hover\":{\"sync\":false,\"id\":\"4564019608264350325\",\"value\":{}},\"selected\":{\"sync\":false,\"id\":\"12068072461423024575\",\"value\":{}},\"__gd_contents\":{\"sync\":false,\"id\":\"16121917271656335991\",\"value\":{}},\"click\":{\"sync\":false,\"id\":\"12800737697847124660\",\"value\":{}},\"image\":{\"sync\":true,\"id\":\"1712175345460582103\",\"value\":\"\"},\"__get_gd_contents\":{\"sync\":false,\"id\":\"17672523899299531053\",\"value\":\"\"},\"_downloadImage\":{\"sync\":false,\"id\":\"3823306152879628880\",\"value\":{}},\"relayout\":{\"sync\":false,\"id\":\"1860341508104319161\",\"value\":{}},\"_commands\":{\"sync\":false,\"id\":\"5635329875683300215\",\"value\":[]}}},\"children\":[{\"props\":{\"id\":\"plot-26d5bc87-1685-4c6a-ac51-258b47c86ca7\"},\"nodeType\":\"DOM\",\"type\":\"node\",\"instanceArgs\":{\"namespace\":\"html\",\"tag\":\"div\"},\"children\":[]}]},\n",
       "            window,\n",
       "        );\n",
       "    } else {\n",
       "        document\n",
       "            .querySelector('[data-webio-mountpoint=\"17028432946199555239\"]')\n",
       "            .innerHTML = (\n",
       "                '<div style=\"padding: 1em; background-color: #f8d6da; border: 1px solid #f5c6cb\">' +\n",
       "                '<p><strong>WebIO not detected.</strong></p>' +\n",
       "                '<p>Please read ' +\n",
       "                '<a href=\"https://juliagizmos.github.io/WebIO.jl/latest/troubleshooting/not-detected/\" target=\"_blank\">the troubleshooting guide</a> ' +\n",
       "                'for more information on how to resolve this issue.</p>' +\n",
       "                '<p><a href=\"https://juliagizmos.github.io/WebIO.jl/latest/troubleshooting/not-detected/\" target=\"_blank\">https://juliagizmos.github.io/WebIO.jl/latest/troubleshooting/not-detected/</a></p>' +\n",
       "                '</div>'\n",
       "            );\n",
       "    }\n",
       "    </script>\n",
       "</div>\n"
      ],
      "text/plain": [
       "data: [\n",
       "  \"heatmap with fields colorscale, type, x, y, and z\",\n",
       "  \"scatter with fields hoverinfo, line, mode, showlegend, type, x, xaxis, y, and yaxis\",\n",
       "  \"scatter with fields hoverinfo, line, mode, showlegend, type, x, xaxis, y, and yaxis\",\n",
       "  \"scatter with fields hoverinfo, line, mode, showlegend, type, x, xaxis, y, and yaxis\",\n",
       "  \"scatter with fields hoverinfo, line, mode, showlegend, type, x, xaxis, y, and yaxis\",\n",
       "  \"scatter with fields hoverinfo, line, mode, showlegend, type, x, xaxis, y, and yaxis\",\n",
       "  \"scatter with fields hoverinfo, line, mode, showlegend, type, x, xaxis, y, and yaxis\",\n",
       "  \"scatter with fields hoverinfo, line, mode, showlegend, type, x, xaxis, y, and yaxis\",\n",
       "  \"scatter with fields hoverinfo, line, mode, showlegend, type, x, xaxis, y, and yaxis\",\n",
       "  \"scatter with fields hoverinfo, line, mode, showlegend, type, x, xaxis, y, and yaxis\",\n",
       "  \"scatter with fields hoverinfo, line, mode, showlegend, type, x, xaxis, y, and yaxis\",\n",
       "  \"scatter with fields hoverinfo, line, mode, showlegend, type, x, xaxis, y, and yaxis\",\n",
       "  \"scatter with fields hoverinfo, line, mode, showlegend, type, x, xaxis, y, and yaxis\",\n",
       "  \"scatter with fields hoverinfo, line, mode, showlegend, type, x, xaxis, y, and yaxis\",\n",
       "  \"scatter with fields hoverinfo, line, mode, showlegend, type, x, xaxis, y, and yaxis\",\n",
       "  \"scatter with fields hoverinfo, line, mode, showlegend, type, x, xaxis, y, and yaxis\",\n",
       "  \"scatter with fields hoverinfo, line, mode, showlegend, type, x, xaxis, y, and yaxis\",\n",
       "  \"scatter with fields hoverinfo, line, mode, showlegend, type, x, xaxis, y, and yaxis\",\n",
       "  \"scatter with fields hoverinfo, line, mode, showlegend, type, x, xaxis, y, and yaxis\",\n",
       "  \"scatter with fields hoverinfo, line, mode, showlegend, type, x, xaxis, y, and yaxis\",\n",
       "  \"scatter with fields customdata, hovertemplate, marker, mode, showlegend, type, x, xaxis, y, and yaxis\",\n",
       "  \"scatter with fields hovertemplate, marker, mode, text, type, x, xaxis, and y\"\n",
       "]\n",
       "\n",
       "layout: \"layout with fields height, hovermode, margin, showlegend, width, xaxis, xaxis2, and yaxis\"\n",
       "\n"
      ]
     },
     "execution_count": 6,
     "metadata": {},
     "output_type": "execute_result"
    }
   ],
   "source": [
    "let taxon = \"pumilus\"\n",
    "    trees[taxon] = cluster_annotate(cdata, taxon)\n",
    "    plot(clustermap(cdata, trees[taxon]))\n",
    "end"
   ]
  },
  {
   "cell_type": "code",
   "execution_count": 7,
   "id": "improved-world",
   "metadata": {},
   "outputs": [
    {
     "name": "stdout",
     "output_type": "stream",
     "text": [
      "Subgroup 1 size: 11\n",
      "Subgroup 2 size: 7\n",
      "Genomes to delete: 2\n"
     ]
    }
   ],
   "source": [
    "split_taxon!(edits, trees[\"pumilus\"], [35, 37])"
   ]
  },
  {
   "cell_type": "markdown",
   "id": "approved-equilibrium",
   "metadata": {},
   "source": [
    "## Finish"
   ]
  },
  {
   "cell_type": "code",
   "execution_count": 8,
   "id": "smart-campaign",
   "metadata": {},
   "outputs": [
    {
     "data": {
      "text/html": [
       "<table class=\"data-frame\"><thead><tr><th></th><th>index</th><th>name</th><th>ngenomes</th><th>initial_diameter</th><th>taxon_removed</th><th>removed_genomes</th><th>split</th><th>manual_threshold</th><th>final_diameter</th></tr><tr><th></th><th>Int64</th><th>SubStri…</th><th>Int64</th><th>Float32</th><th>Bool</th><th>Int64</th><th>String</th><th>Missing</th><th>String</th></tr></thead><tbody><p>1 rows × 9 columns</p><tr><th>1</th><td>1</td><td>pumilus</td><td>20</td><td>0.878503</td><td>0</td><td>2</td><td>11, 7</td><td><em>missing</em></td><td>0.4016, 0.6628</td></tr></tbody></table>"
      ],
      "text/latex": [
       "\\begin{tabular}{r|ccccccccc}\n",
       "\t& index & name & ngenomes & initial\\_diameter & taxon\\_removed & removed\\_genomes & split & manual\\_threshold & final\\_diameter\\\\\n",
       "\t\\hline\n",
       "\t& Int64 & SubStri… & Int64 & Float32 & Bool & Int64 & String & Missing & String\\\\\n",
       "\t\\hline\n",
       "\t1 & 1 & pumilus & 20 & 0.878503 & 0 & 2 & 11, 7 & \\emph{missing} & 0.4016, 0.6628 \\\\\n",
       "\\end{tabular}\n"
      ],
      "text/plain": [
       "\u001b[1m1×9 DataFrame\u001b[0m\n",
       "\u001b[1m Row \u001b[0m│\u001b[1m index \u001b[0m\u001b[1m name      \u001b[0m\u001b[1m ngenomes \u001b[0m\u001b[1m initial_diameter \u001b[0m\u001b[1m taxon_removed \u001b[0m\u001b[1m removed_genomes \u001b[0m\u001b[1m split  \u001b[0m\u001b[1m manual_threshold \u001b[0m\u001b[1m final_diameter \u001b[0m\n",
       "\u001b[1m     \u001b[0m│\u001b[90m Int64 \u001b[0m\u001b[90m SubStrin… \u001b[0m\u001b[90m Int64    \u001b[0m\u001b[90m Float32          \u001b[0m\u001b[90m Bool          \u001b[0m\u001b[90m Int64           \u001b[0m\u001b[90m String \u001b[0m\u001b[90m Missing          \u001b[0m\u001b[90m String         \u001b[0m\n",
       "─────┼────────────────────────────────────────────────────────────────────────────────────────────────────────────────────────\n",
       "   1 │     1  pumilus          20          0.878503          false                2  11, 7  \u001b[90m         missing  \u001b[0m 0.4016, 0.6628"
      ]
     },
     "execution_count": 8,
     "metadata": {},
     "output_type": "execute_result"
    }
   ],
   "source": [
    "complete_edits(edits)"
   ]
  }
 ],
 "metadata": {
  "@webio": {
   "lastCommId": "33667e0b-06d6-4432-bd39-6922c96fb2af",
   "lastKernelId": "2dfce4b9-11b7-4c9d-9989-bbdc0fb10af9"
  },
  "kernelspec": {
   "display_name": "Julia 1.5.1",
   "language": "julia",
   "name": "julia-1.5"
  },
  "language_info": {
   "file_extension": ".jl",
   "mimetype": "application/julia",
   "name": "julia",
   "version": "1.5.1"
  }
 },
 "nbformat": 4,
 "nbformat_minor": 5
}
