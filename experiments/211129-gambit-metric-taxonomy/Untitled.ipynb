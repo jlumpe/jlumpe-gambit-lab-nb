{
 "cells": [
  {
   "cell_type": "code",
   "execution_count": 59,
   "id": "3e6a0d88-8916-40bf-9e21-897287492360",
   "metadata": {},
   "outputs": [],
   "source": [
    "using Printf\n",
    "\n",
    "using FilePathsBase\n",
    "using FilePathsBase: /\n",
    "using DataFrames\n",
    "import CSV\n",
    "using PyCall\n",
    "using PlotlyJS\n",
    "using AbstractTrees"
   ]
  },
  {
   "cell_type": "code",
   "execution_count": 2,
   "id": "0abb2384-c32e-44f3-ba5a-ad329b5659ad",
   "metadata": {},
   "outputs": [],
   "source": [
    "using Revise\n",
    "\n",
    "using MidasPlots\n",
    "using ClusterAnalysis"
   ]
  },
  {
   "cell_type": "markdown",
   "id": "35b241a8-972d-40c0-9124-2dd59179e2e3",
   "metadata": {},
   "source": [
    "## Setup"
   ]
  },
  {
   "cell_type": "code",
   "execution_count": 3,
   "id": "335e6900-42ab-47ec-9493-9a98d7f868c5",
   "metadata": {},
   "outputs": [
    {
     "data": {
      "text/plain": [
       "Dict{Symbol, PosixPath} with 3 entries:\n",
       "  :genomes_dir   => /home/jared/projects/gambit/data/external/konstantinidis-20…\n",
       "  :genomes_table => ../../data/processed/211129-update-external-data-sets/21120…\n",
       "  :taxa_table    => ../../data/processed/211129-update-external-data-sets/21120…"
      ]
     },
     "execution_count": 3,
     "metadata": {},
     "output_type": "execute_result"
    }
   ],
   "source": [
    "infiles = Dict(\n",
    "    :genomes_table => p\"../../data/processed/211129-update-external-data-sets/211201-konstantinidis-2005/211201-konstantinidis-2005-genomes.csv\",\n",
    "    :taxa_table => p\"../../data/processed/211129-update-external-data-sets/211201-konstantinidis-2005/211201-konstantinidis-2005-taxa.csv\",\n",
    "    :genomes_dir => p\"/home/jared/projects/gambit/data/external/konstantinidis-2005/genomes/\",\n",
    ")"
   ]
  },
  {
   "cell_type": "markdown",
   "id": "421d39d9-5a2f-42f3-a009-fc08c65eee9d",
   "metadata": {},
   "source": [
    "## Load data"
   ]
  },
  {
   "cell_type": "code",
   "execution_count": 4,
   "id": "b905dbf4-6a2c-4b06-9e4a-10223cd49af7",
   "metadata": {},
   "outputs": [
    {
     "data": {
      "text/plain": [
       "70"
      ]
     },
     "execution_count": 4,
     "metadata": {},
     "output_type": "execute_result"
    }
   ],
   "source": [
    "genomes_df = DataFrame(CSV.File(infiles[:genomes_table]))\n",
    "ngenomes = nrow(genomes_df)"
   ]
  },
  {
   "cell_type": "code",
   "execution_count": 5,
   "id": "089e0119-95d6-42ab-b4a3-170839b1fc43",
   "metadata": {},
   "outputs": [],
   "source": [
    "taxa_df = DataFrame(CSV.File(infiles[:taxa_table]));"
   ]
  },
  {
   "cell_type": "markdown",
   "id": "d8ea2f34-e2af-4016-bdee-a170f8b75096",
   "metadata": {},
   "source": [
    "## Taxonomy tree"
   ]
  },
  {
   "cell_type": "code",
   "execution_count": 6,
   "id": "7b76d57c-0b40-4b82-bb61-cce036eb6c15",
   "metadata": {},
   "outputs": [
    {
     "name": "stderr",
     "output_type": "stream",
     "text": [
      "┌ Info: Precompiling AbstractTreesDev [37b2292a-bdae-4e31-9b7d-2183452072cc]\n",
      "└ @ Base loading.jl:1423\n"
     ]
    }
   ],
   "source": [
    "using AbstractTreesDev.ParentAPI"
   ]
  },
  {
   "cell_type": "code",
   "execution_count": 7,
   "id": "d2193da1-a48b-4aed-afb4-383067986fbb",
   "metadata": {},
   "outputs": [],
   "source": [
    "using AbstractTreesDev.IDTrees\n",
    "using AbstractTreesDev.IDTrees: addnode!, finalize!"
   ]
  },
  {
   "cell_type": "markdown",
   "id": "7b38117a-f796-4522-8f0b-8ddcd10d575a",
   "metadata": {},
   "source": [
    "### Assemble"
   ]
  },
  {
   "cell_type": "code",
   "execution_count": 8,
   "id": "8d02ed3b-1c49-4230-ae6e-38ba251d573c",
   "metadata": {},
   "outputs": [],
   "source": [
    "V = typeof(first(eachrow(taxa_df)))\n",
    "\n",
    "tree = IDTree{Int}(V)\n",
    "\n",
    "for row in eachrow(taxa_df)\n",
    "    addnode!(tree, row.taxid, row.parent_taxid == 0 ? nothing : row.parent_taxid, row)\n",
    "end\n",
    "\n",
    "finalize!(tree)"
   ]
  },
  {
   "cell_type": "code",
   "execution_count": 10,
   "id": "15378d69-6672-474e-ae14-8088f6503511",
   "metadata": {},
   "outputs": [],
   "source": [
    "function AbstractTrees.printnode(io::IO, node::typeof(rootnode(tree)))\n",
    "    @printf io \"(%d) %s [%s]\" node.id node.val[:name] node.val[:rank]\n",
    "end"
   ]
  },
  {
   "cell_type": "code",
   "execution_count": null,
   "id": "711efa5b-effb-4866-ab18-200b50291cc8",
   "metadata": {},
   "outputs": [],
   "source": [
    "print_tree(rootnode(tree), maxdepth=99)"
   ]
  },
  {
   "cell_type": "markdown",
   "id": "11d67818-b8f4-495d-9eb4-98638bcb90aa",
   "metadata": {},
   "source": [
    "### Contract"
   ]
  },
  {
   "cell_type": "code",
   "execution_count": 55,
   "id": "ff1170c2-4762-4871-9399-c612fc2498a6",
   "metadata": {},
   "outputs": [
    {
     "data": {
      "text/plain": [
       "_contract! (generic function with 1 method)"
      ]
     },
     "execution_count": 55,
     "metadata": {},
     "output_type": "execute_result"
    }
   ],
   "source": [
    "function _contract!(tree2::IDTree{K, N}, node::N, parent_id::Union{K, Nothing}) where {K, N}\n",
    "    c = collect(N, children(node))\n",
    "    length(c) == 1 && return _contract!(tree2, first(c), parent_id)\n",
    "    \n",
    "    addnode!(tree2, node.id::K, parent_id, node.val)\n",
    "    for child::N in c\n",
    "        _contract!(tree2, child, node.id)\n",
    "    end\n",
    "end"
   ]
  },
  {
   "cell_type": "code",
   "execution_count": 58,
   "id": "b9f737e4-03d1-4675-9304-bc4c747b445b",
   "metadata": {},
   "outputs": [
    {
     "data": {
      "text/plain": [
       "IDTree{Int64} with 113 nodes"
      ]
     },
     "execution_count": 58,
     "metadata": {},
     "output_type": "execute_result"
    }
   ],
   "source": [
    "tree2 = typeof(tree)()\n",
    "_contract!(tree2, tree.root, nothing)\n",
    "finalize!(tree2)\n",
    "tree2"
   ]
  },
  {
   "cell_type": "code",
   "execution_count": 57,
   "id": "5d631709-5435-47de-98ba-02bece46141a",
   "metadata": {},
   "outputs": [
    {
     "name": "stdout",
     "output_type": "stream",
     "text": [
      "(2) Bacteria [superkingdom]\n",
      "├─ (1224) Proteobacteria [phylum]\n",
      "│  ├─ (210) Helicobacter pylori [species]\n",
      "│  │  ├─ (85962) Helicobacter pylori 26695 [strain]\n",
      "│  │  └─ (85963) Helicobacter pylori J99 [strain]\n",
      "│  ├─ (28216) Betaproteobacteria [class]\n",
      "│  │  ├─ (80840) Burkholderiales [order]\n",
      "│  │  │  ├─ (111527) pseudomallei group [species group]\n",
      "│  │  │  │  ├─ (13373) Burkholderia mallei [species]\n",
      "│  │  │  │  └─ (28450) Burkholderia pseudomallei [species]\n",
      "│  │  │  └─ (517) Bordetella [genus]\n",
      "│  │  │     ├─ (257310) Bordetella bronchiseptica RB50 [strain]\n",
      "│  │  │     ├─ (1208660) Bordetella parapertussis Bpp5 [strain]\n",
      "│  │  │     └─ (257313) Bordetella pertussis Tohama I [isolate]\n",
      "│  │  └─ (482) Neisseria [genus]\n",
      "│  │     ├─ (487) Neisseria meningitidis [species]\n",
      "│  │     │  ├─ (272831) Neisseria meningitidis FAM18 [strain]\n",
      "│  │     │  ├─ (122587) Neisseria meningitidis Z2491 [strain]\n",
      "│  │     │  └─ (122586) Neisseria meningitidis MC58 [strain]\n",
      "│  │     └─ (242231) Neisseria gonorrhoeae FA 1090 [strain]\n",
      "│  ├─ (28211) Alphaproteobacteria [class]\n",
      "│  │  ├─ (234) Brucella [genus]\n",
      "│  │  │  ├─ (224914) Brucella melitensis bv. 1 str. 16M [strain]\n",
      "│  │  │  └─ (204722) Brucella suis 1330 [strain]\n",
      "│  │  └─ (780) Rickettsia [genus]\n",
      "│  │     ├─ (1105094) Rickettsia prowazekii str. Chernikova [strain]\n",
      "│  │     └─ (272944) Rickettsia conorii str. Malish 7 [strain]\n",
      "│  └─ (1236) Gammaproteobacteria [class]\n",
      "│     ├─ (91347) Enterobacterales [order]\n",
      "│     │  ├─ (629) Yersinia [genus]\n",
      "│     │  │  ├─ (630) Yersinia enterocolitica [species]\n",
      "│     │  │  └─ (632) Yersinia pestis [species]\n",
      "│     │  │     ├─ (214092) Yersinia pestis CO92 [strain]\n",
      "│     │  │     ├─ (1234662) Yersinia pestis subsp. pestis bv. Medievalis [no rank]\n",
      "│     │  │     └─ (187410) Yersinia pestis KIM10+ [strain]\n",
      "│     │  ├─ (554) Pectobacterium carotovorum [species]\n",
      "│     │  └─ (543) Enterobacteriaceae [family]\n",
      "│     │     ├─ (590) Salmonella [genus]\n",
      "│     │     │  ├─ (218493) Salmonella bongori NCTC 12419 [strain]\n",
      "│     │     │  └─ (59201) Salmonella enterica subsp. enterica [subspecies]\n",
      "│     │     │     ├─ (209261) Salmonella enterica subsp. enterica serovar Typhi str. Ty2 [strain]\n",
      "│     │     │     └─ (99287) Salmonella enterica subsp. enterica serovar Typhimurium str. LT2 [strain]\n",
      "│     │     ├─ (42897) Shigella flexneri 2a [serotype]\n",
      "│     │     │  ├─ (198214) Shigella flexneri 2a str. 301 [strain]\n",
      "│     │     │  └─ (198215) Shigella flexneri 2a str. 2457T [strain]\n",
      "│     │     └─ (562) Escherichia coli [species]\n",
      "│     │        ├─ (511145) Escherichia coli str. K-12 substr. MG1655 [no rank]\n",
      "│     │        ├─ (83334) Escherichia coli O157:H7 [serotype]\n",
      "│     │        │  ├─ (155864) Escherichia coli O157:H7 str. EDL933 [strain]\n",
      "│     │        │  └─ (386585) Escherichia coli O157:H7 str. Sakai [strain]\n",
      "│     │        └─ (199310) Escherichia coli CFT073 [strain]\n",
      "│     ├─ (672) Vibrio vulnificus [species]\n",
      "│     │  ├─ (196600) Vibrio vulnificus YJ016 [strain]\n",
      "│     │  └─ (216895) Vibrio vulnificus CMCP6 [strain]\n",
      "│     ├─ (32033) Xanthomonadaceae [family]\n",
      "│     │  ├─ (2371) Xylella fastidiosa [species]\n",
      "│     │  │  ├─ (160492) Xylella fastidiosa 9a5c [strain]\n",
      "│     │  │  └─ (183190) Xylella fastidiosa Temecula1 [strain]\n",
      "│     │  └─ (338) Xanthomonas [genus]\n",
      "│     │     ├─ (1304892) Xanthomonas axonopodis Xac29-1 [strain]\n",
      "│     │     └─ (190485) Xanthomonas campestris pv. campestris str. ATCC 33913 [strain]\n",
      "│     ├─ (286) Pseudomonas [genus]\n",
      "│     │  ├─ (208964) Pseudomonas aeruginosa PAO1 [strain]\n",
      "│     │  ├─ (160488) Pseudomonas putida KT2440 [strain]\n",
      "│     │  └─ (223283) Pseudomonas syringae pv. tomato str. DC3000 [strain]\n",
      "│     └─ (446) Legionella pneumophila [species]\n",
      "│        ├─ (297245) Legionella pneumophila str. Lens [strain]\n",
      "│        └─ (297246) Legionella pneumophila str. Paris [strain]\n",
      "└─ (1783272) Terrabacteria group [clade]\n",
      "   ├─ (1760) Actinomycetia [class]\n",
      "   │  ├─ (2039) Tropheryma whipplei [species]\n",
      "   │  │  ├─ (218496) Tropheryma whipplei TW08/27 [strain]\n",
      "   │  │  └─ (203267) Tropheryma whipplei str. Twist [strain]\n",
      "   │  └─ (1763) Mycobacterium [genus]\n",
      "   │     ├─ (1764) Mycobacterium avium [species]\n",
      "   │     └─ (1773) Mycobacterium tuberculosis [species]\n",
      "   │        ├─ (1765) Mycobacterium tuberculosis variant bovis [biotype]\n",
      "   │        ├─ (83332) Mycobacterium tuberculosis H37Rv [strain]\n",
      "   │        └─ (83331) Mycobacterium tuberculosis CDC1551 [strain]\n",
      "   └─ (1239) Firmicutes [phylum]\n",
      "      ├─ (91061) Bacilli [class]\n",
      "      │  ├─ (1385) Bacillales [order]\n",
      "      │  │  ├─ (86661) Bacillus cereus group [species group]\n",
      "      │  │  │  ├─ (261594) Bacillus anthracis str. 'Ames Ancestor' [strain]\n",
      "      │  │  │  └─ (1396) Bacillus cereus [species]\n",
      "      │  │  │     ├─ (226900) Bacillus cereus ATCC 14579 [strain]\n",
      "      │  │  │     ├─ (288681) Bacillus cereus E33L [strain]\n",
      "      │  │  │     └─ (222523) Bacillus cereus ATCC 10987 [strain]\n",
      "      │  │  └─ (1279) Staphylococcus [genus]\n",
      "      │  │     ├─ (176279) Staphylococcus epidermidis RP62A [strain]\n",
      "      │  │     └─ (1280) Staphylococcus aureus [species]\n",
      "      │  │        ├─ (158878) Staphylococcus aureus subsp. aureus Mu50 [strain]\n",
      "      │  │        ├─ (282458) Staphylococcus aureus subsp. aureus MRSA252 [strain]\n",
      "      │  │        ├─ (196620) Staphylococcus aureus subsp. aureus MW2 [strain]\n",
      "      │  │        ├─ (158879) Staphylococcus aureus subsp. aureus N315 [strain]\n",
      "      │  │        └─ (282459) Staphylococcus aureus subsp. aureus MSSA476 [strain]\n",
      "      │  └─ (1301) Streptococcus [genus]\n",
      "      │     ├─ (1311) Streptococcus agalactiae [species]\n",
      "      │     │  ├─ (208435) Streptococcus agalactiae 2603V/R [strain]\n",
      "      │     │  └─ (211110) Streptococcus agalactiae NEM316 [strain]\n",
      "      │     ├─ (1313) Streptococcus pneumoniae [species]\n",
      "      │     │  ├─ (170187) Streptococcus pneumoniae TIGR4 [strain]\n",
      "      │     │  └─ (171101) Streptococcus pneumoniae R6 [strain]\n",
      "      │     ├─ (1309) Streptococcus mutans [species]\n",
      "      │     └─ (1314) Streptococcus pyogenes [species]\n",
      "      │        ├─ (301448) Streptococcus pyogenes serotype M3 [serotype]\n",
      "      │        │  ├─ (193567) Streptococcus pyogenes SSI-1 [strain]\n",
      "      │        │  └─ (198466) Streptococcus pyogenes MGAS315 [strain]\n",
      "      │        ├─ (1207470) Streptococcus pyogenes M1 476 [strain]\n",
      "      │        └─ (186103) Streptococcus pyogenes MGAS8232 [strain]\n",
      "      └─ (1502) Clostridium perfringens [species]\n",
      "         ├─ (195103) Clostridium perfringens ATCC 13124 [strain]\n",
      "         └─ (195102) Clostridium perfringens str. 13 [strain]\n"
     ]
    }
   ],
   "source": [
    "print_tree(rootnode(tree2), maxdepth=99)"
   ]
  }
 ],
 "metadata": {
  "@webio": {
   "lastCommId": "4a58cc8b-3ddc-468a-a806-c69b62351c7f",
   "lastKernelId": "36081107-836b-43a6-8e5b-49b8d1375e31"
  },
  "kernelspec": {
   "display_name": "Julia 1.7.0",
   "language": "julia",
   "name": "julia-1.7"
  },
  "language_info": {
   "file_extension": ".jl",
   "mimetype": "application/julia",
   "name": "julia",
   "version": "1.7.0"
  }
 },
 "nbformat": 4,
 "nbformat_minor": 5
}
