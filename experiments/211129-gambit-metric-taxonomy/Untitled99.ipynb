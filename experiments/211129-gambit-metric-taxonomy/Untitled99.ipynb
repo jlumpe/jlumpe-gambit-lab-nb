{
 "cells": [
  {
   "cell_type": "code",
   "execution_count": 1,
   "id": "20d58b3b-b04b-4dbc-b04c-f2f08cfa64f4",
   "metadata": {},
   "outputs": [],
   "source": [
    "from pathlib import Path\n",
    "import json"
   ]
  },
  {
   "cell_type": "code",
   "execution_count": 2,
   "id": "48b998d0-7692-437f-8ba7-73609df4516f",
   "metadata": {},
   "outputs": [],
   "source": [
    "import numpy as np\n",
    "import pandas as pd\n",
    "\n",
    "import matplotlib.pyplot as plt\n",
    "import seaborn as sns"
   ]
  },
  {
   "cell_type": "code",
   "execution_count": 3,
   "id": "3e0b224a-849e-474f-bd83-fb3d62616fc6",
   "metadata": {},
   "outputs": [],
   "source": [
    "from gambit.kmers import KmerSpec\n",
    "from gambit.sigs.calc import calc_file_signatures\n",
    "from gambit.sigs import SignatureArray\n",
    "from gambit.io.seq import SequenceFile\n",
    "from gambit.metric import jaccarddist_matrix\n",
    "\n",
    "from entrez_tools.db.taxonomy import fetch_taxonomy_tree"
   ]
  },
  {
   "cell_type": "code",
   "execution_count": 4,
   "id": "41c0115e-f9d6-446d-9da5-f8da353df81c",
   "metadata": {},
   "outputs": [],
   "source": [
    "%matplotlib inline"
   ]
  },
  {
   "cell_type": "markdown",
   "id": "22d6a229-0ca0-4d31-a520-71f150943870",
   "metadata": {},
   "source": [
    "## Setup"
   ]
  },
  {
   "cell_type": "code",
   "execution_count": 5,
   "id": "2dd7fba6-72dc-49a3-85e5-983425f050df",
   "metadata": {},
   "outputs": [],
   "source": [
    "infiles = dict(\n",
    "    genomes_table=Path('../../data/processed/211129-update-external-data-sets/211201-konstantinidis-2005/211201-konstantinidis-2005-genomes.csv'),\n",
    "    taxa_table=Path('../../data/processed/211129-update-external-data-sets/211201-konstantinidis-2005/211201-konstantinidis-2005-taxa.csv'),\n",
    "    genomes_dir=Path('/home/jared/projects/gambit/data/external/konstantinidis-2005/genomes/'),\n",
    ")"
   ]
  },
  {
   "cell_type": "code",
   "execution_count": 6,
   "id": "c2e970d5-21d1-49d9-bb59-9ee4e6b84d94",
   "metadata": {},
   "outputs": [],
   "source": [
    "tmpdir = Path('tmp')\n",
    "tmpdir.mkdir(exist_ok=True)"
   ]
  },
  {
   "cell_type": "markdown",
   "id": "d0b9db63-58e4-46ec-a1be-62d1feb39d47",
   "metadata": {},
   "source": [
    "## Load data"
   ]
  },
  {
   "cell_type": "code",
   "execution_count": 7,
   "id": "20cfa76b-1c00-4116-bcea-3979e070c6e5",
   "metadata": {},
   "outputs": [
    {
     "data": {
      "text/plain": [
       "70"
      ]
     },
     "execution_count": 7,
     "metadata": {},
     "output_type": "execute_result"
    }
   ],
   "source": [
    "genomes_df = pd.read_csv(infiles['genomes_table'])\n",
    "ngenomes = genomes_df.shape[0]\n",
    "ngenomes"
   ]
  },
  {
   "cell_type": "code",
   "execution_count": 8,
   "id": "b28b3da1-57a0-4fa9-babf-0478a8a509c7",
   "metadata": {},
   "outputs": [],
   "source": [
    "taxa_df = pd.read_csv(infiles['taxa_table'])"
   ]
  },
  {
   "cell_type": "markdown",
   "id": "153038f3-612d-4494-bbfe-5145419e2327",
   "metadata": {},
   "source": [
    "## Taxonomy tree"
   ]
  },
  {
   "cell_type": "markdown",
   "id": "f1514179-1d75-404a-918f-c96734d34d06",
   "metadata": {},
   "source": [
    "### Assemble tree"
   ]
  },
  {
   "cell_type": "code",
   "execution_count": 9,
   "id": "39f67eba-afe3-4d0e-abe8-b4335ef6d1f4",
   "metadata": {},
   "outputs": [],
   "source": [
    "%load_ext autoreload\n",
    "%autoreload 1"
   ]
  },
  {
   "cell_type": "code",
   "execution_count": 10,
   "id": "c0fa4d00-9f1f-489c-a156-f8c301113a05",
   "metadata": {},
   "outputs": [],
   "source": [
    "%aimport gambit_analysis.trees\n",
    "from gambit_analysis.trees import BasicIDTree as Tree, BasicIDNode as Node"
   ]
  },
  {
   "cell_type": "code",
   "execution_count": 11,
   "id": "3f305e63-1a85-4a1e-9cd0-a89a81338b7f",
   "metadata": {},
   "outputs": [],
   "source": [
    "class TaxonNode(Node):\n",
    "    \n",
    "    def _repr_node_(self, p):\n",
    "        p.text('({taxid}) {name} [{rank}]'.format(**self.data))"
   ]
  },
  {
   "cell_type": "code",
   "execution_count": 12,
   "id": "d278df94-1c0e-444b-8056-95430139321a",
   "metadata": {},
   "outputs": [],
   "source": [
    "_links = []\n",
    "\n",
    "for i, row in taxa_df.iterrows():\n",
    "    data = dict(row.items())\n",
    "    parent_id = data['parent_taxid']\n",
    "    _links.append((data['taxid'], None if parent_id == 0 else parent_id, data))\n",
    "    \n",
    "tree = Tree.from_tuples(_links, TaxonNode)"
   ]
  },
  {
   "cell_type": "code",
   "execution_count": 13,
   "id": "aa5916b7-fac2-47b3-8ee1-2544b9ed733f",
   "metadata": {},
   "outputs": [
    {
     "data": {
      "text/plain": [
       "201"
      ]
     },
     "execution_count": 13,
     "metadata": {},
     "output_type": "execute_result"
    }
   ],
   "source": [
    "len(tree.nodes)"
   ]
  },
  {
   "cell_type": "markdown",
   "id": "f969d006-e8c3-40cb-a968-5e44fcfced31",
   "metadata": {},
   "source": [
    "### Assign genomes"
   ]
  },
  {
   "cell_type": "code",
   "execution_count": 14,
   "id": "299e769a-dc49-4fb2-b441-d358f91badaf",
   "metadata": {},
   "outputs": [],
   "source": [
    "for node in tree.nodes.values():\n",
    "    node.data['genome_idxs_direct'] = []\n",
    "\n",
    "for gi, taxid in enumerate(genomes_df['taxid']):\n",
    "    node = tree.nodes[taxid]\n",
    "    node.data['genome_idxs_direct'].append(gi)"
   ]
  },
  {
   "cell_type": "code",
   "execution_count": 15,
   "id": "4c5013a3-af73-4fa6-8ff1-4a61cf7e5fcb",
   "metadata": {},
   "outputs": [],
   "source": [
    "for node in tree.root.iter_subtree('post'):\n",
    "    idxs = list(node.data['genome_idxs_direct'])\n",
    "    for child in node.children:\n",
    "        idxs.extend(child.data['genome_idxs'])\n",
    "    node.data['genome_idxs'] = np.asarray(idxs)\n",
    "    node.data['ngenomes'] = len(idxs)"
   ]
  },
  {
   "cell_type": "code",
   "execution_count": 16,
   "id": "8c7bcc73-3220-4e01-9c5f-559c1a8a0a8a",
   "metadata": {},
   "outputs": [],
   "source": [
    "assert np.array_equal(np.sort(tree.root.data['genome_idxs']), np.arange(ngenomes))"
   ]
  },
  {
   "cell_type": "markdown",
   "id": "34c7f98d-fc9d-4133-8bf6-317a1c13793a",
   "metadata": {},
   "source": [
    "### Contract"
   ]
  },
  {
   "cell_type": "code",
   "execution_count": 17,
   "id": "b66d8ad0-ba30-4558-b038-85c91677fa14",
   "metadata": {},
   "outputs": [],
   "source": [
    "def _copy_contract(node, parent2):\n",
    "    while len(node.children) == 1:\n",
    "        node = node.children[0]\n",
    "    \n",
    "    node2 = TaxonNode(node.id, node.data)\n",
    "    if parent2 is not None:\n",
    "        parent2._add_child(node2)\n",
    "        \n",
    "    for child in node.children:\n",
    "        _copy_contract(child, node2)\n",
    "    \n",
    "    return node2"
   ]
  },
  {
   "cell_type": "code",
   "execution_count": 18,
   "id": "fe61d847-eba9-4329-9ea3-8cbe628f30bc",
   "metadata": {},
   "outputs": [],
   "source": [
    "tree2 = Tree(_copy_contract(tree.root, None))"
   ]
  },
  {
   "cell_type": "code",
   "execution_count": 19,
   "id": "501be990-27d8-49e3-bff1-e0a12cd18516",
   "metadata": {},
   "outputs": [
    {
     "data": {
      "text/plain": [
       "113"
      ]
     },
     "execution_count": 19,
     "metadata": {},
     "output_type": "execute_result"
    }
   ],
   "source": [
    "len(tree2.nodes)"
   ]
  },
  {
   "cell_type": "markdown",
   "id": "2b6c88b0-b714-463b-9ba1-dded837d87ec",
   "metadata": {},
   "source": [
    "## ?"
   ]
  },
  {
   "cell_type": "markdown",
   "id": "1131d4a3-1aae-41d8-8006-c50fc1358bb9",
   "metadata": {},
   "source": [
    "### Signatures"
   ]
  },
  {
   "cell_type": "code",
   "execution_count": 20,
   "id": "5fdc1de4-75b5-4bfa-a779-fcaddd759713",
   "metadata": {},
   "outputs": [],
   "source": [
    "seq_files = SequenceFile.from_paths([infiles['genomes_dir'] / f'{acc}.fa.gz' for acc in genomes_df['assembly_acc']], 'fasta', 'gzip')"
   ]
  },
  {
   "cell_type": "code",
   "execution_count": 21,
   "id": "a4c1eb47-a7b7-4dab-96a4-570fd7f409b2",
   "metadata": {},
   "outputs": [],
   "source": [
    "kspec = KmerSpec(11, 'ATGAC')"
   ]
  },
  {
   "cell_type": "code",
   "execution_count": 22,
   "id": "3c424828-cee7-48d0-923f-3332af7b39a4",
   "metadata": {},
   "outputs": [
    {
     "name": "stderr",
     "output_type": "stream",
     "text": [
      "100%|██████████| 70/70 [00:12<00:00,  5.53it/s]\n"
     ]
    }
   ],
   "source": [
    "sigs = calc_file_signatures(kspec, seq_files, progress=True)"
   ]
  },
  {
   "cell_type": "code",
   "execution_count": 23,
   "id": "fdb30b3d-9b26-4f0e-a48e-341075f0949d",
   "metadata": {},
   "outputs": [],
   "source": [
    "sigs = SignatureArray(sigs)"
   ]
  },
  {
   "cell_type": "markdown",
   "id": "e10c115e-bb56-4179-97ec-f2acfa6a923f",
   "metadata": {},
   "source": [
    "### Distance matrix"
   ]
  },
  {
   "cell_type": "code",
   "execution_count": 24,
   "id": "74cfcd81-40bf-495c-a8ac-81ba9c935a20",
   "metadata": {},
   "outputs": [],
   "source": [
    "dmat = jaccarddist_matrix(sigs, sigs)"
   ]
  },
  {
   "cell_type": "code",
   "execution_count": 25,
   "id": "21def0b2-7c3a-4ff7-92ad-55f4576e4748",
   "metadata": {},
   "outputs": [],
   "source": [
    "def sub_dmat(inds): return dmat[np.ix_(inds, inds)]"
   ]
  },
  {
   "cell_type": "markdown",
   "id": "ea2d03ee-3f93-4e63-8369-c0c9d13386ef",
   "metadata": {},
   "source": [
    "## ?"
   ]
  },
  {
   "cell_type": "code",
   "execution_count": 26,
   "id": "091e8241-d369-43af-a9fd-27c2236a3306",
   "metadata": {},
   "outputs": [],
   "source": [
    "for node in tree2.root.iter_subtree('post'):\n",
    "    node.data['diameter'] = sub_dmat(node.data['genome_idxs']).max()\n",
    "    \n",
    "    nc = len(node.children)\n",
    "    child_gidxs = [child.data['genome_idxs'] for child in node.children]\n",
    "    child_diams = [child.data['diameter'] for child in node.children]\n",
    "    md = node.data['child_min_dists'] = np.zeros((nc, nc))\n",
    "    \n",
    "    for i in range(nc):\n",
    "        for j in range(nc):\n",
    "            d = dmat[np.ix_(child_gidxs[i], child_gidxs[j])].min()\n",
    "            md[i, j] = md[j, i] = d\n",
    "            \n",
    "    node.data['overlap'] = (md < child_diams) & ~np.identity(nc, dtype=bool)"
   ]
  },
  {
   "cell_type": "code",
   "execution_count": 30,
   "id": "fddd91af-e8eb-4be5-96b9-60831592cde6",
   "metadata": {},
   "outputs": [
    {
     "name": "stdout",
     "output_type": "stream",
     "text": [
      "(2) Bacteria [superkingdom] 70\n",
      "\t(1224) Proteobacteria [phylum] 42\n",
      "\t(1783272) Terrabacteria group [clade] 28\n",
      "(1224) Proteobacteria [phylum] 42\n",
      "\t(1236) Gammaproteobacteria [class] 27\n",
      "\t(28216) Betaproteobacteria [class] 9\n",
      "\t(210) Helicobacter pylori [species] 2\n",
      "\t(28211) Alphaproteobacteria [class] 4\n",
      "(1236) Gammaproteobacteria [class] 27\n",
      "\t(91347) Enterobacterales [order] 15\n",
      "\t(446) Legionella pneumophila [species] 3\n",
      "\t(672) Vibrio vulnificus [species] 2\n",
      "\t(32033) Xanthomonadaceae [family] 4\n",
      "\t(286) Pseudomonas [genus] 3\n",
      "(543) Enterobacteriaceae [family] 10\n",
      "\t(590) Salmonella [genus] 4\n",
      "\t(562) Escherichia coli [species] 4\n",
      "\t(42897) Shigella flexneri 2a [serotype] 2\n",
      "(1783272) Terrabacteria group [clade] 28\n",
      "\t(1239) Firmicutes [phylum] 22\n",
      "\t(1760) Actinomycetia [class] 6\n",
      "(1239) Firmicutes [phylum] 22\n",
      "\t(91061) Bacilli [class] 20\n",
      "\t(1502) Clostridium perfringens [species] 2\n",
      "(91061) Bacilli [class] 20\n",
      "\t(1385) Bacillales [order] 11\n",
      "\t(1301) Streptococcus [genus] 9\n",
      "(86661) Bacillus cereus group [species group] 4\n",
      "\t(1396) Bacillus cereus [species] 3\n",
      "\t(261594) Bacillus anthracis str. 'Ames Ancestor' [strain] 1\n"
     ]
    }
   ],
   "source": [
    "for node in tree2.nodes.values():\n",
    "    if node.data['overlap'].any():\n",
    "        print('({taxid}) {name} [{rank}] {ngenomes}'.format(**node.data))\n",
    "        for child in node.children:\n",
    "            print('\\t({taxid}) {name} [{rank}] {ngenomes}'.format(**child.data))"
   ]
  },
  {
   "cell_type": "code",
   "execution_count": null,
   "id": "7155b442-81ed-40a0-bbb8-5ed76c0c71ca",
   "metadata": {},
   "outputs": [],
   "source": [
    "node.data"
   ]
  },
  {
   "cell_type": "code",
   "execution_count": null,
   "id": "8e8e9ef7-5a32-4607-b878-eaa453eb568a",
   "metadata": {},
   "outputs": [],
   "source": []
  },
  {
   "cell_type": "code",
   "execution_count": null,
   "id": "e8e13ec7-d996-4aff-8846-d78dff5a240a",
   "metadata": {},
   "outputs": [],
   "source": []
  },
  {
   "cell_type": "code",
   "execution_count": null,
   "id": "6051a53c-ab10-41b1-b34c-292d7572ba6e",
   "metadata": {},
   "outputs": [],
   "source": []
  },
  {
   "cell_type": "code",
   "execution_count": null,
   "id": "569022bf-0ea3-4c18-b7c3-a18aa7190e6d",
   "metadata": {},
   "outputs": [],
   "source": []
  },
  {
   "cell_type": "code",
   "execution_count": null,
   "id": "ab178a21-1596-4c65-9988-01d869e99c90",
   "metadata": {},
   "outputs": [],
   "source": [
    "from scipy.cluster.hierarchy import linkage\n",
    "from scipy.spatial.distance import squareform"
   ]
  },
  {
   "cell_type": "code",
   "execution_count": null,
   "id": "cb245a16-a29a-4698-bc2b-8fee23369ea8",
   "metadata": {},
   "outputs": [],
   "source": [
    "link = linkage(squareform(dmat), 'complete')"
   ]
  },
  {
   "cell_type": "code",
   "execution_count": null,
   "id": "f85c7093-ae0a-4b45-adda-d6b52acc408b",
   "metadata": {},
   "outputs": [],
   "source": [
    "sns.clustermap(dmat, row_linkage=link, col_linkage=link, cmap='jet')"
   ]
  },
  {
   "cell_type": "code",
   "execution_count": null,
   "id": "29422598-ec8c-41d2-9f25-49bb7085b7ea",
   "metadata": {},
   "outputs": [],
   "source": []
  },
  {
   "cell_type": "code",
   "execution_count": null,
   "id": "3713b2ba-b1c6-48df-a171-13c36b0e3077",
   "metadata": {},
   "outputs": [],
   "source": []
  },
  {
   "cell_type": "code",
   "execution_count": null,
   "id": "bc1d1554-071f-4d6a-827b-73f030153fec",
   "metadata": {},
   "outputs": [],
   "source": []
  }
 ],
 "metadata": {
  "kernelspec": {
   "display_name": "GAMBIT",
   "language": "python",
   "name": "gambit"
  },
  "language_info": {
   "codemirror_mode": {
    "name": "ipython",
    "version": 3
   },
   "file_extension": ".py",
   "mimetype": "text/x-python",
   "name": "python",
   "nbconvert_exporter": "python",
   "pygments_lexer": "ipython3",
   "version": "3.9.7"
  }
 },
 "nbformat": 4,
 "nbformat_minor": 5
}
