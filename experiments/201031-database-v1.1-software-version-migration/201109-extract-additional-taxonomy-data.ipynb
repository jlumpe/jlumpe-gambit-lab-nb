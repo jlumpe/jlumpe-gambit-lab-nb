{
 "cells": [
  {
   "cell_type": "markdown",
   "metadata": {},
   "source": [
    "# 201109 Extract additional taxonomy data"
   ]
  },
  {
   "cell_type": "code",
   "execution_count": 1,
   "metadata": {},
   "outputs": [],
   "source": [
    "from pathlib import Path\n",
    "import json\n",
    "import xml.etree.ElementTree as ET\n",
    "import re\n",
    "from collections import Counter\n",
    "\n",
    "from tqdm import tqdm"
   ]
  },
  {
   "cell_type": "markdown",
   "metadata": {},
   "source": [
    "## File paths"
   ]
  },
  {
   "cell_type": "code",
   "execution_count": 2,
   "metadata": {},
   "outputs": [],
   "source": [
    "outdir = Path('../../data/intermediate/201031-database-v1.1-software-version-migration/201109-extract-additional-taxonomy-data')\n",
    "outdir.mkdir(exist_ok=True)"
   ]
  },
  {
   "cell_type": "markdown",
   "metadata": {},
   "source": [
    "## Load XML data"
   ]
  },
  {
   "cell_type": "code",
   "execution_count": 3,
   "metadata": {},
   "outputs": [
    {
     "name": "stderr",
     "output_type": "stream",
     "text": [
      "100%|██████████| 22498/22498 [00:04<00:00, 5147.22it/s]\n"
     ]
    }
   ],
   "source": [
    "taxon_xml = dict()\n",
    "\n",
    "for file in tqdm(list(Path('tmp/taxa').glob('*.xml'))):\n",
    "    taxid = int(re.fullmatch(r'(\\d+)\\.xml', file.name).group(1))\n",
    "    with file.open() as f:\n",
    "        txml = ET.parse(f).getroot()\n",
    "        assert txml.tag == 'Taxon'\n",
    "        taxon_xml[taxid] = txml"
   ]
  },
  {
   "cell_type": "markdown",
   "metadata": {},
   "source": [
    "## Inspect schema\n",
    "\n",
    "Not sure what other information is in the original XML data that wasn't transferred to JSON. Recursively find all unique tag names in data.\n",
    "\n",
    "Note: realized after there is a DTD file for the taxonomy database XML format [here](https://www.ncbi.nlm.nih.gov/entrez/query/DTD/taxon.dtd), but that doesn't contain any more information."
   ]
  },
  {
   "cell_type": "code",
   "execution_count": 4,
   "metadata": {},
   "outputs": [],
   "source": [
    "def _record_schema(elem, schema):\n",
    "    try:\n",
    "        subschema = schema[elem.tag]\n",
    "    except KeyError:\n",
    "        subschema = schema[elem.tag] = {}\n",
    "        \n",
    "    for child in elem:\n",
    "        _record_schema(child, subschema)\n",
    "\n",
    "\n",
    "def deconstruct_schema(examples):\n",
    "    schema = {}\n",
    "    \n",
    "    for ex in examples:\n",
    "        _record_schema(ex, schema)\n",
    "        \n",
    "    return schema"
   ]
  },
  {
   "cell_type": "code",
   "execution_count": 5,
   "metadata": {},
   "outputs": [],
   "source": [
    "schema = deconstruct_schema(taxon_xml.values())"
   ]
  },
  {
   "cell_type": "code",
   "execution_count": 6,
   "metadata": {},
   "outputs": [
    {
     "data": {
      "text/plain": [
       "{'Taxon': {'TaxId': {},\n",
       "  'ScientificName': {},\n",
       "  'ParentTaxId': {},\n",
       "  'Rank': {},\n",
       "  'Division': {},\n",
       "  'GeneticCode': {'GCId': {}, 'GCName': {}},\n",
       "  'MitoGeneticCode': {'MGCId': {}, 'MGCName': {}},\n",
       "  'Lineage': {},\n",
       "  'LineageEx': {'Taxon': {'TaxId': {}, 'ScientificName': {}, 'Rank': {}}},\n",
       "  'CreateDate': {},\n",
       "  'UpdateDate': {},\n",
       "  'PubDate': {},\n",
       "  'OtherNames': {'Name': {'ClassCDE': {}, 'DispName': {}},\n",
       "   'EquivalentName': {},\n",
       "   'Synonym': {},\n",
       "   'Includes': {},\n",
       "   'GenbankSynonym': {},\n",
       "   'GenbankCommonName': {},\n",
       "   'BlastName': {},\n",
       "   'Inpart': {},\n",
       "   'CommonName': {},\n",
       "   'Acronym': {},\n",
       "   'GenbankAcronym': {}},\n",
       "  'AkaTaxIds': {'TaxId': {}}}}"
      ]
     },
     "execution_count": 6,
     "metadata": {},
     "output_type": "execute_result"
    }
   ],
   "source": [
    "schema"
   ]
  },
  {
   "cell_type": "markdown",
   "metadata": {},
   "source": [
    "* `<TaxId>`, `<ParentTaxId`>, `<AkaTaxIds>`, `<ScientificName>`, `<Rank>`, `<CreateDate>`, `<UpdateDate>`, `<PubDate>` used in previous JSON export.\n",
    "* `<GeneticCode>` and `<MitoGeneticCode>` not relevant.\n",
    "* `<Lineage>` redundant with `<LineageEx>` and both can be reconstructed using parent ID relationships.\n",
    "* Extracting data from `<OtherNames>` is what this notebook is primarily for. The schema under this is simple except for `<Name>` tags.\n",
    "* `<Division>` - not sure what this is."
   ]
  },
  {
   "cell_type": "markdown",
   "metadata": {},
   "source": [
    "### Inspect `<Division>` values"
   ]
  },
  {
   "cell_type": "code",
   "execution_count": 7,
   "metadata": {},
   "outputs": [
    {
     "data": {
      "text/plain": [
       "Counter({'Bacteria': 22496, 'Unassigned': 2})"
      ]
     },
     "execution_count": 7,
     "metadata": {},
     "output_type": "execute_result"
    }
   ],
   "source": [
    "Counter(txml.findtext('./Division') for txml in taxon_xml.values())"
   ]
  },
  {
   "cell_type": "markdown",
   "metadata": {},
   "source": [
    "This doesn't seem useful."
   ]
  },
  {
   "cell_type": "markdown",
   "metadata": {},
   "source": [
    "### Inspect `<Name>` child tag values\n",
    "\n",
    "`<Name>` tags contain `<ClassCDE>` and `<DispName>` children as opposed to other child tags of `<OtherNames>` which just contain text. I suspect that the `<ClassCDE>` tag has only  a few possible values, making it easier to export the contents of all these tags to a unified JSON format."
   ]
  },
  {
   "cell_type": "code",
   "execution_count": 8,
   "metadata": {},
   "outputs": [
    {
     "data": {
      "text/plain": [
       "Counter({'authority': 4802,\n",
       "         'type material': 23178,\n",
       "         'misspelling': 1610,\n",
       "         'unpublished name': 9})"
      ]
     },
     "execution_count": 8,
     "metadata": {},
     "output_type": "execute_result"
    }
   ],
   "source": [
    "Counter(el.text for txml in taxon_xml.values() for el in txml.findall('.OtherNames/Name/ClassCDE'))"
   ]
  },
  {
   "cell_type": "markdown",
   "metadata": {},
   "source": [
    "## Convert `<OtherName>` data to JSON"
   ]
  },
  {
   "cell_type": "code",
   "execution_count": 9,
   "metadata": {},
   "outputs": [],
   "source": [
    "othernames_json = dict()\n",
    "\n",
    "for taxid, txml in taxon_xml.items():\n",
    "    entries = []\n",
    "    \n",
    "    for el in txml.findall('./OtherNames/*'):\n",
    "        if el.tag == 'Name':\n",
    "            _type = el.findtext('./ClassCDE')\n",
    "            _name = el.findtext('./DispName')\n",
    "            assert _type and _name\n",
    "            entries.append(dict(type=_type, name=_name))\n",
    "        else:\n",
    "            assert el.text\n",
    "            entries.append(dict(type=el.tag, name=el.text))\n",
    "    \n",
    "    if entries:\n",
    "        othernames_json[taxid] = entries"
   ]
  },
  {
   "cell_type": "code",
   "execution_count": 10,
   "metadata": {},
   "outputs": [],
   "source": [
    "with open(outdir / 'taxon-othernames.json', 'w') as f:\n",
    "    json.dump(othernames_json, f)"
   ]
  }
 ],
 "metadata": {
  "kernelspec": {
   "display_name": "MIDAS 2",
   "language": "python",
   "name": "midas2"
  },
  "language_info": {
   "codemirror_mode": {
    "name": "ipython",
    "version": 3
   },
   "file_extension": ".py",
   "mimetype": "text/x-python",
   "name": "python",
   "nbconvert_exporter": "python",
   "pygments_lexer": "ipython3",
   "version": "3.6.10"
  }
 },
 "nbformat": 4,
 "nbformat_minor": 4
}
