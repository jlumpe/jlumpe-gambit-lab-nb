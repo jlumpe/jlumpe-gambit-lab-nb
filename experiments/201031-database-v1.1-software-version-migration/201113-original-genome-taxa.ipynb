{
 "cells": [
  {
   "cell_type": "markdown",
   "metadata": {},
   "source": [
    "# 201113 Original genome taxa"
   ]
  },
  {
   "cell_type": "code",
   "execution_count": 1,
   "metadata": {},
   "outputs": [],
   "source": [
    "exptname = '201031-database-v1.1-software-version-migration'\n",
    "datestr = '201113'\n",
    "nbname = datestr + '-original-genome-taxa'"
   ]
  },
  {
   "cell_type": "code",
   "execution_count": 2,
   "metadata": {},
   "outputs": [],
   "source": [
    "import json\n",
    "from pathlib import Path\n",
    "from zipfile import ZipFile\n",
    "from gzip import GzipFile\n",
    "from datetime import date\n",
    "import re\n",
    "from collections import Counter"
   ]
  },
  {
   "cell_type": "markdown",
   "metadata": {},
   "source": [
    "## File paths"
   ]
  },
  {
   "cell_type": "code",
   "execution_count": 3,
   "metadata": {},
   "outputs": [],
   "source": [
    "infiles = dict(\n",
    "    v11_archive='/home/jared/projects/midas/data/v1/archives/refseq_curated_1.1_beta_200525.midas-archive.gz',\n",
    "    v09_archive='/home/jared/projects/midas/data/v1/archives/refseq_curated_0.9_160906.midas-archive.gz',\n",
    "    taxa=Path('../../data/intermediate/201031-database-v1.1-software-version-migration/201102-download-taxa/'),\n",
    ")"
   ]
  },
  {
   "cell_type": "code",
   "execution_count": 4,
   "metadata": {},
   "outputs": [],
   "source": [
    "intermediate_out = Path('../../data/intermediate/') / exptname / nbname\n",
    "intermediate_out.mkdir(exist_ok=True, parents=True)"
   ]
  },
  {
   "cell_type": "markdown",
   "metadata": {},
   "source": [
    "## Load archive data"
   ]
  },
  {
   "cell_type": "code",
   "execution_count": 5,
   "metadata": {},
   "outputs": [
    {
     "data": {
      "text/plain": [
       "'{\"archive_version\": \"1.0\"}'"
      ]
     },
     "execution_count": 5,
     "metadata": {},
     "output_type": "execute_result"
    }
   ],
   "source": [
    "archive_v09 = ZipFile(GzipFile(infiles['v09_archive']))\n",
    "archive_v09.read('info').decode()"
   ]
  },
  {
   "cell_type": "code",
   "execution_count": 6,
   "metadata": {},
   "outputs": [
    {
     "data": {
      "text/plain": [
       "'{\"archive_version\": \"1.0\"}'"
      ]
     },
     "execution_count": 6,
     "metadata": {},
     "output_type": "execute_result"
    }
   ],
   "source": [
    "archive_v11 = ZipFile(GzipFile(infiles['v11_archive']))\n",
    "archive_v11.read('info').decode()"
   ]
  },
  {
   "cell_type": "code",
   "execution_count": 7,
   "metadata": {},
   "outputs": [],
   "source": [
    "with archive_v11.open('genome_sets/midas/assembly/curated') as f:\n",
    "    gset_data = json.load(f)"
   ]
  },
  {
   "cell_type": "code",
   "execution_count": 8,
   "metadata": {},
   "outputs": [
    {
     "data": {
      "text/plain": [
       "(419, 1438)"
      ]
     },
     "execution_count": 8,
     "metadata": {},
     "output_type": "execute_result"
    }
   ],
   "source": [
    "genus_names = set()\n",
    "species_names = set()\n",
    "\n",
    "for adata in gset_data['annotations'].values():\n",
    "    genus_names.add(adata['tax_genus'])\n",
    "    species_names.add((adata['tax_genus'], adata['tax_species']))\n",
    "    \n",
    "species_names = sorted(species_names)\n",
    "genus_names = sorted(genus_names)\n",
    "    \n",
    "len(genus_names), len(species_names)"
   ]
  },
  {
   "cell_type": "code",
   "execution_count": 9,
   "metadata": {},
   "outputs": [],
   "source": [
    "genomes_by_db_species = {sp: set() for sp in species_names}\n",
    "\n",
    "for key, a in gset_data['annotations'].items():\n",
    "    genomes_by_db_species[(a['tax_genus'], a['tax_species'])].add(key)"
   ]
  },
  {
   "cell_type": "markdown",
   "metadata": {},
   "source": [
    "## Load taxonomy data"
   ]
  },
  {
   "cell_type": "code",
   "execution_count": 10,
   "metadata": {},
   "outputs": [],
   "source": [
    "with open(infiles['taxa'] / 'taxa.json') as f:\n",
    "    taxon_data = json.load(f)\n",
    "    \n",
    "# Convert to dict indexed by ID\n",
    "taxon_data = {tdata['taxid']: tdata for tdata in taxon_data}"
   ]
  },
  {
   "cell_type": "code",
   "execution_count": 11,
   "metadata": {},
   "outputs": [],
   "source": [
    "with open(infiles['taxa'] / 'aka_taxids.json') as f:\n",
    "    aka_taxids = json.load(f)\n",
    "    \n",
    "aka_taxids = {int(id1): id2 for id1, id2 in aka_taxids.items()}"
   ]
  },
  {
   "cell_type": "code",
   "execution_count": 12,
   "metadata": {},
   "outputs": [],
   "source": [
    "# Check taxon_data dict doesn't include any alias taxonomy IDs\n",
    "for taxid, taxon in taxon_data.items():\n",
    "    assert taxon['taxid'] == taxid\n",
    "    assert taxid not in aka_taxids\n",
    "    assert taxon['parent_taxid'] == 0 or taxon['parent_taxid'] in taxon_data"
   ]
  },
  {
   "cell_type": "markdown",
   "metadata": {},
   "source": [
    "Parent ID mapping:"
   ]
  },
  {
   "cell_type": "code",
   "execution_count": 13,
   "metadata": {},
   "outputs": [],
   "source": [
    "parent_rels = {t['taxid']: t['parent_taxid'] for t in taxon_data.values()}"
   ]
  },
  {
   "cell_type": "markdown",
   "metadata": {},
   "source": [
    "## Func defs"
   ]
  },
  {
   "cell_type": "code",
   "execution_count": 14,
   "metadata": {},
   "outputs": [],
   "source": [
    "def resolve_alias(tid):\n",
    "    return aka_taxids.get(tid, tid)"
   ]
  },
  {
   "cell_type": "code",
   "execution_count": 15,
   "metadata": {},
   "outputs": [],
   "source": [
    "def gettaxon(tid):\n",
    "    \"\"\"Get taxon by ID, resolving alias IDs.\"\"\"\n",
    "    return taxon_data[resolve_alias(tid)]"
   ]
  },
  {
   "cell_type": "code",
   "execution_count": 16,
   "metadata": {},
   "outputs": [],
   "source": [
    "def getparent(taxon):\n",
    "    \"\"\"Get taxon's parent, handling aliases of parent id.\"\"\"\n",
    "    if isinstance(taxon, int):\n",
    "        taxon = gettaxon(taxon)\n",
    "        \n",
    "    try:\n",
    "        return gettaxon(taxon['parent_taxid'])\n",
    "    except KeyError:\n",
    "        return None"
   ]
  },
  {
   "cell_type": "code",
   "execution_count": 17,
   "metadata": {},
   "outputs": [],
   "source": [
    "def iter_ancestors(taxon, incself=False):\n",
    "    if isinstance(taxon, int):\n",
    "        taxon = gettaxon(taxon)\n",
    "    if not incself:\n",
    "        taxon = getparent(taxon)\n",
    "        \n",
    "    while taxon is not None:\n",
    "        yield taxon\n",
    "        taxon = getparent(taxon)"
   ]
  },
  {
   "cell_type": "code",
   "execution_count": 18,
   "metadata": {},
   "outputs": [],
   "source": [
    "def find_lca(taxids):\n",
    "    \"\"\"Find lowest common ancestor of a set of taxa.\"\"\"\n",
    "    taxids = set(taxids)\n",
    "    if not taxids:\n",
    "        raise ValueError('Must supply at least one taxon')\n",
    "    if len(taxids) == 1:\n",
    "        return taxids.pop()\n",
    "    \n",
    "    # Build tree of these taxa and their common ancestors\n",
    "    taxid_map = dict()\n",
    "    roots = set()\n",
    "    \n",
    "    heads = set(taxids)\n",
    "    \n",
    "    while heads:\n",
    "        taxid = heads.pop()\n",
    "        \n",
    "        try:\n",
    "            parent = parent_rels[taxid]\n",
    "        except KeyError:\n",
    "            roots.add(taxid)\n",
    "            continue\n",
    "        \n",
    "        if parent not in taxid_map:\n",
    "            taxid_map[parent] = set()\n",
    "            heads.add(parent)\n",
    "            \n",
    "        taxid_map[parent].add(taxid)\n",
    "        \n",
    "    # Shouldn't happen\n",
    "    if len(roots) > 1:\n",
    "        raise RuntimeError('Not common ancestor found')\n",
    "        \n",
    "    # Descend tree from root to find LCA\n",
    "    a = roots.pop()\n",
    "    while True:\n",
    "        if a in taxids:\n",
    "            return a\n",
    "        children = taxid_map[a]\n",
    "        if len(children) > 1:\n",
    "            return a\n",
    "        (a,) = children"
   ]
  },
  {
   "cell_type": "markdown",
   "metadata": {},
   "source": [
    "## Extract 2016 taxonomy summary data from v0.9 archive"
   ]
  },
  {
   "cell_type": "code",
   "execution_count": 19,
   "metadata": {},
   "outputs": [],
   "source": [
    "orig_tax_summaries = dict()\n",
    "genome_orig_taxids = dict()\n",
    "\n",
    "# It's much faster to read files in order here, otherwise we'll be seeking around inside the outer GZip file\n",
    "for name in archive_v09.namelist():\n",
    "    if not name.startswith('genomes/'):\n",
    "        continue\n",
    "        \n",
    "    key = name.split('/', 1)[1]\n",
    "        \n",
    "    with archive_v09.open(name) as f:\n",
    "        genome_data = json.load(f)\n",
    "            \n",
    "    summary = genome_data['gb_tax_summary']\n",
    "    taxid = int(summary['uid'])\n",
    "    \n",
    "    if taxid in orig_tax_summaries:\n",
    "        # Check entries are consistent\n",
    "        assert summary == orig_tax_summaries[taxid]\n",
    "    else:\n",
    "        orig_tax_summaries[taxid] = summary\n",
    "        \n",
    "    genome_orig_taxids[key] = taxid"
   ]
  },
  {
   "cell_type": "markdown",
   "metadata": {},
   "source": [
    "## Process original taxonomy data\n",
    "\n",
    "For each species in curated database, find set of all taxa assigned to its genomes and filter out those who do not match species name (these genomes were probably assigned to this species from another during the curation process)."
   ]
  },
  {
   "cell_type": "code",
   "execution_count": 20,
   "metadata": {},
   "outputs": [],
   "source": [
    "genome_taxids_by_species = dict()\n",
    "\n",
    "for db_species, keys in genomes_by_db_species.items():\n",
    "    taxids = set()\n",
    "    \n",
    "    for key in keys:\n",
    "        taxid = genome_orig_taxids[key]\n",
    "        summary = orig_tax_summaries[taxid]\n",
    "        if (summary['genus'], summary['species']) == db_species:\n",
    "            taxids.add(resolve_alias(taxid))\n",
    "        \n",
    "    # Should have at least one\n",
    "    assert taxids\n",
    "    \n",
    "    genome_taxids_by_species[db_species] = taxids"
   ]
  },
  {
   "cell_type": "markdown",
   "metadata": {},
   "source": [
    "### Find lowest common ancestor of all genomes per species"
   ]
  },
  {
   "cell_type": "code",
   "execution_count": 21,
   "metadata": {},
   "outputs": [],
   "source": [
    "genome_lca_by_species = {sp: find_lca(taxids) for sp, taxids in genome_taxids_by_species.items()}"
   ]
  },
  {
   "cell_type": "code",
   "execution_count": 22,
   "metadata": {},
   "outputs": [],
   "source": [
    "# (test find_lca implementation)\n",
    "for sp, lca in genome_lca_by_species.items():\n",
    "    taxids = genome_taxids_by_species[sp]\n",
    "    \n",
    "    for taxid in taxids:\n",
    "        assert any(taxon['taxid'] == lca for taxon in iter_ancestors(taxid, incself=True))"
   ]
  },
  {
   "cell_type": "code",
   "execution_count": 23,
   "metadata": {},
   "outputs": [
    {
     "data": {
      "text/plain": [
       "Counter({'species': 1209,\n",
       "         'strain': 205,\n",
       "         'genus': 10,\n",
       "         'subspecies': 6,\n",
       "         'no rank': 4,\n",
       "         'biotype': 2,\n",
       "         'species group': 2})"
      ]
     },
     "execution_count": 23,
     "metadata": {},
     "output_type": "execute_result"
    }
   ],
   "source": [
    "Counter(gettaxon(tid)['rank'] for tid in genome_lca_by_species.values())"
   ]
  },
  {
   "cell_type": "markdown",
   "metadata": {},
   "source": [
    "## Write output"
   ]
  },
  {
   "cell_type": "code",
   "execution_count": 24,
   "metadata": {},
   "outputs": [],
   "source": [
    "with open(intermediate_out / 'original-tax-summaries.json', 'w') as f:\n",
    "    json.dump(orig_tax_summaries, f)"
   ]
  },
  {
   "cell_type": "code",
   "execution_count": 25,
   "metadata": {},
   "outputs": [],
   "source": [
    "_genome_taxids_by_species_json = [\n",
    "    dict(curated_genus=g, curated_species=s, taxids=list(taxids))\n",
    "    for (g, s), taxids in genome_taxids_by_species.items()\n",
    "]\n",
    "\n",
    "with open(intermediate_out / 'genome-matching-taxids-by-species.json', 'w') as f:\n",
    "    json.dump(_genome_taxids_by_species_json, f)"
   ]
  },
  {
   "cell_type": "code",
   "execution_count": 26,
   "metadata": {},
   "outputs": [],
   "source": [
    "_genome_lca_by_species_json = [\n",
    "    dict(curated_genus=g, curated_species=s, taxid=taxid)\n",
    "    for (g, s), taxid in genome_lca_by_species.items()\n",
    "]\n",
    "\n",
    "with open(intermediate_out / 'species-genome-lcas.json', 'w') as f:\n",
    "    json.dump(_genome_lca_by_species_json, f)"
   ]
  }
 ],
 "metadata": {
  "kernelspec": {
   "display_name": "MIDAS 2",
   "language": "python",
   "name": "midas2"
  },
  "language_info": {
   "codemirror_mode": {
    "name": "ipython",
    "version": 3
   },
   "file_extension": ".py",
   "mimetype": "text/x-python",
   "name": "python",
   "nbconvert_exporter": "python",
   "pygments_lexer": "ipython3",
   "version": "3.6.10"
  }
 },
 "nbformat": 4,
 "nbformat_minor": 4
}
