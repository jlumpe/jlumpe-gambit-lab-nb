{
 "cells": [
  {
   "cell_type": "markdown",
   "metadata": {},
   "source": [
    "# 201205 Download additional taxa"
   ]
  },
  {
   "cell_type": "code",
   "execution_count": 1,
   "metadata": {},
   "outputs": [],
   "source": [
    "exptname = '201031-database-v1.1-software-version-migration'\n",
    "datestr = '201205'\n",
    "nbname = datestr + '-download-additional-taxa'"
   ]
  },
  {
   "cell_type": "code",
   "execution_count": 2,
   "metadata": {},
   "outputs": [],
   "source": [
    "import json\n",
    "from pathlib import Path\n",
    "import xml.etree.ElementTree as ET\n",
    "from datetime import datetime\n",
    "\n",
    "from tqdm import tqdm\n",
    "from Bio import Entrez"
   ]
  },
  {
   "cell_type": "code",
   "execution_count": 3,
   "metadata": {},
   "outputs": [],
   "source": [
    "Entrez.email = 'mjlumpe@gmail.com'"
   ]
  },
  {
   "cell_type": "markdown",
   "metadata": {},
   "source": [
    "## Paths"
   ]
  },
  {
   "cell_type": "code",
   "execution_count": 4,
   "metadata": {},
   "outputs": [],
   "source": [
    "infiles = dict(\n",
    "#     v11_archive='/home/jared/projects/midas/data/v1/archives/refseq_curated_1.1_beta_200525.midas-archive.gz',\n",
    "    taxa=Path('../../data/intermediate/201031-database-v1.1-software-version-migration/201102-download-taxa/'),\n",
    "#     taxonomy_original=Path('../../data/intermediate/201031-database-v1.1-software-version-migration/201113-original-genome-taxa/'),\n",
    "#     taxonomy_original_extra=Path('../../data/intermediate/201031-database-v1.1-software-version-migration/201124-original-taxa-extra-info/'),\n",
    "#     matches=Path('../../data/intermediate/201031-database-v1.1-software-version-migration/201122-taxon-name-matching/'),\n",
    "    updated_taxids=Path('../../data/intermediate/201031-database-v1.1-software-version-migration/201201-download-updated-assembly-summaries/updated-assembly-taxids.json')\n",
    ")"
   ]
  },
  {
   "cell_type": "code",
   "execution_count": 5,
   "metadata": {},
   "outputs": [],
   "source": [
    "intermediate_out = Path('../../data/intermediate/') / exptname / nbname\n",
    "intermediate_out.mkdir(exist_ok=True, parents=True)"
   ]
  },
  {
   "cell_type": "markdown",
   "metadata": {},
   "source": [
    "## Load data"
   ]
  },
  {
   "cell_type": "markdown",
   "metadata": {},
   "source": [
    "### Already downloaded taxids"
   ]
  },
  {
   "cell_type": "code",
   "execution_count": 6,
   "metadata": {},
   "outputs": [],
   "source": [
    "with open(infiles['taxa'] / 'taxa.json') as f:\n",
    "    existing_taxids = {tdata['taxid'] for tdata in json.load(f)}"
   ]
  },
  {
   "cell_type": "code",
   "execution_count": 7,
   "metadata": {},
   "outputs": [],
   "source": [
    "# Update with all alias taxids\n",
    "with open(infiles['taxa'] / 'aka_taxids.json') as f:\n",
    "    for k, v in json.load(f).items():\n",
    "        k = int(k)\n",
    "        assert v in existing_taxids\n",
    "        existing_taxids.add(k)"
   ]
  },
  {
   "cell_type": "markdown",
   "metadata": {},
   "source": [
    "### Updated assembly taxids"
   ]
  },
  {
   "cell_type": "code",
   "execution_count": 8,
   "metadata": {},
   "outputs": [],
   "source": [
    "with open(infiles['updated_taxids']) as f:\n",
    "    updated_assembly_taxids = set(json.load(f).values())"
   ]
  },
  {
   "cell_type": "markdown",
   "metadata": {},
   "source": [
    "## Func defs"
   ]
  },
  {
   "cell_type": "code",
   "execution_count": 9,
   "metadata": {},
   "outputs": [],
   "source": [
    "def parse_date(datestr):\n",
    "    return None if datestr is None else datetime.strptime(datestr, '%Y/%m/%d %H:%M:%S')\n",
    "\n",
    "def taxon_xml_to_json(txml):\n",
    "    \"\"\"Convert parsed taxon XML element to JSON-like format that's much easier to work with.\"\"\"\n",
    "    assert txml.tag == 'Taxon'\n",
    "    \n",
    "    return dict(\n",
    "        taxid=int(txml.findtext('TaxId')),\n",
    "        parent_taxid=int(txml.findtext('ParentTaxId')),\n",
    "        scientific_name=txml.findtext('ScientificName'),\n",
    "        rank=txml.findtext('Rank'),\n",
    "        division=txml.findtext('Division'),\n",
    "        create_date=parse_date(txml.findtext('CreateDate')),\n",
    "        update_date=parse_date(txml.findtext('UpdateDate')),\n",
    "        pub_date=parse_date(txml.findtext('PubDate')),\n",
    "        aka_taxids=[int(e.text) for e in txml.findall('./AkaTaxIds/TaxId')],\n",
    "    )"
   ]
  },
  {
   "cell_type": "code",
   "execution_count": 10,
   "metadata": {},
   "outputs": [],
   "source": [
    "def get_taxon_othernames(txml):\n",
    "    entries = []\n",
    "    \n",
    "    for el in txml.findall('./OtherNames/*'):\n",
    "        if el.tag == 'Name':\n",
    "            _type = el.findtext('./ClassCDE')\n",
    "            _name = el.findtext('./DispName')\n",
    "            assert _type and _name\n",
    "            entries.append(dict(type=_type, name=_name))\n",
    "        else:\n",
    "            assert el.text\n",
    "            entries.append(dict(type=el.tag, name=el.text))\n",
    "    \n",
    "    return entries"
   ]
  },
  {
   "cell_type": "code",
   "execution_count": 11,
   "metadata": {},
   "outputs": [],
   "source": [
    "def efetch_taxa(taxids):\n",
    "    taxids = list(taxids)\n",
    "    resp = Entrez.efetch(db='taxonomy', id=taxids)\n",
    "    doc = ET.parse(resp)\n",
    "    root = doc.getroot()\n",
    "    assert root.tag == 'TaxaSet'\n",
    "    \n",
    "    taxa = dict()\n",
    "    \n",
    "    for txml in root.findall('./Taxon'):\n",
    "        tdata = taxon_xml_to_json(txml)\n",
    "        \n",
    "        # Get primary or alternate taxon ID that was passed to the function\n",
    "        taxid = tdata['taxid']\n",
    "        if taxid not in taxids:\n",
    "            for id2 in tdata['aka_taxids']:\n",
    "                if id2 in taxids:\n",
    "                    taxid = id2\n",
    "                    break\n",
    "            else:\n",
    "                raise RuntimeError('Could not determine requested taxid')\n",
    "                \n",
    "        taxa[taxid] = (txml, tdata)\n",
    "    \n",
    "    return taxa\n",
    "\n",
    "# efetch_taxa_throttled = throttle(1/3)(efetch_taxa)"
   ]
  },
  {
   "cell_type": "markdown",
   "metadata": {},
   "source": [
    "## Download taxonomy data"
   ]
  },
  {
   "cell_type": "markdown",
   "metadata": {},
   "source": [
    "### Setup"
   ]
  },
  {
   "cell_type": "code",
   "execution_count": 12,
   "metadata": {},
   "outputs": [],
   "source": [
    "tax_dir = Path('tmp/taxa')"
   ]
  },
  {
   "cell_type": "code",
   "execution_count": 13,
   "metadata": {},
   "outputs": [],
   "source": [
    "taxa_to_download = set(updated_assembly_taxids).difference(existing_taxids)\n",
    "new_taxon_data = dict()\n",
    "new_aka_taxids = dict()\n",
    "new_taxon_othernames = dict()"
   ]
  },
  {
   "cell_type": "code",
   "execution_count": 14,
   "metadata": {},
   "outputs": [
    {
     "data": {
      "text/plain": [
       "44"
      ]
     },
     "execution_count": 14,
     "metadata": {},
     "output_type": "execute_result"
    }
   ],
   "source": [
    "len(taxa_to_download)"
   ]
  },
  {
   "cell_type": "code",
   "execution_count": 15,
   "metadata": {},
   "outputs": [],
   "source": [
    "def record_taxon(taxid, txml, tdata=None):\n",
    "    \"\"\"Add downloaded taxonomy data to our list, add parent to download list if needed.\"\"\"\n",
    "    if tdata is None:\n",
    "        tdata = taxon_xml_to_json(txml)\n",
    "    true_taxid = tdata['taxid']\n",
    "    \n",
    "    # Check we have the expected ID\n",
    "    assert true_taxid == taxid or taxid in tdata['aka_taxids']\n",
    "    \n",
    "    new_taxon_data[true_taxid] = tdata\n",
    "    taxa_to_download.remove(taxid)\n",
    "    \n",
    "    # Record alternate ids\n",
    "    for id2 in tdata['aka_taxids']:\n",
    "        assert id2 not in news_aka_taxids\n",
    "        new_aka_taxids[id2] = true_taxid\n",
    "        \n",
    "    # Record OtherNames tag\n",
    "    othernames = get_taxon_othernames(txml)\n",
    "    if othernames:\n",
    "        new_taxon_othernames[taxid] = othernames\n",
    "    \n",
    "    # Add parent to download list if we don't have it yet\n",
    "    parentid = tdata['parent_taxid']\n",
    "    if parentid not in existing_taxids and parentid not in new_taxon_data and parentid not in new_aka_taxids:\n",
    "        taxa_to_download.add(parentid)"
   ]
  },
  {
   "cell_type": "markdown",
   "metadata": {},
   "source": [
    "### Download"
   ]
  },
  {
   "cell_type": "code",
   "execution_count": 16,
   "metadata": {},
   "outputs": [
    {
     "name": "stderr",
     "output_type": "stream",
     "text": [
      "100%|██████████| 49/49 [00:00<00:00, 1892.09it/s]\n"
     ]
    }
   ],
   "source": [
    "chunk_size = 100\n",
    "_initial = len(new_taxon_data)\n",
    "\n",
    "with tqdm(total=len(taxa_to_download) + _initial, initial=_initial) as pbar:\n",
    "    while taxa_to_download:\n",
    "        \n",
    "        # Find next chunk of IDs to download\n",
    "        next_chunk = []\n",
    "        \n",
    "        for taxid in list(taxa_to_download):\n",
    "            dst = tax_dir / ('%d.xml' % taxid)\n",
    "            \n",
    "            if dst.is_file():\n",
    "                with dst.open() as f:\n",
    "                    txml = ET.parse(f).getroot()\n",
    "                record_taxon(taxid, txml)\n",
    "                    \n",
    "            else:\n",
    "                next_chunk.append(taxid)\n",
    "                if len(next_chunk) >= chunk_size:\n",
    "                    break\n",
    "                    \n",
    "        if next_chunk:\n",
    "\n",
    "            # Fetch\n",
    "            chunk_taxa = efetch_taxa(next_chunk)\n",
    "\n",
    "            # Add results\n",
    "            for taxid, (txml, tdata) in chunk_taxa.items():\n",
    "                record_taxon(taxid, txml, tdata)\n",
    "\n",
    "                # Write to file\n",
    "                dst = tax_dir / ('%d.xml' % taxid)\n",
    "                assert not dst.is_file()\n",
    "                with dst.open('wb') as f:\n",
    "                    f.write(ET.tostring(txml))\n",
    "                \n",
    "        # Update progress bar\n",
    "        total = len(new_taxon_data) + len(taxa_to_download)\n",
    "        if pbar.total != total:\n",
    "            pbar.total = total\n",
    "        pbar.n = len(new_taxon_data)\n",
    "        pbar.refresh()"
   ]
  },
  {
   "cell_type": "markdown",
   "metadata": {},
   "source": [
    "### Consistency checking"
   ]
  },
  {
   "cell_type": "code",
   "execution_count": 17,
   "metadata": {},
   "outputs": [],
   "source": [
    "# Check we have one entry per set of aliases\n",
    "for (id2, taxid) in new_aka_taxids.items():\n",
    "    assert id2 not in new_taxon_data \n",
    "    assert taxid in new_taxon_data"
   ]
  },
  {
   "cell_type": "markdown",
   "metadata": {},
   "source": [
    "## Output to JSON format"
   ]
  },
  {
   "cell_type": "code",
   "execution_count": 18,
   "metadata": {},
   "outputs": [],
   "source": [
    "class TaxonEncoder(json.JSONEncoder):\n",
    "    def default(self, obj):\n",
    "        if isinstance(obj, datetime):\n",
    "            return obj.isoformat()\n",
    "        return super().default(obj)"
   ]
  },
  {
   "cell_type": "code",
   "execution_count": 19,
   "metadata": {},
   "outputs": [],
   "source": [
    "with open(intermediate_out / 'taxa.json', 'w') as f:\n",
    "    json.dump(list(new_taxon_data.values()), f, cls=TaxonEncoder)"
   ]
  },
  {
   "cell_type": "code",
   "execution_count": 20,
   "metadata": {},
   "outputs": [],
   "source": [
    "# No new taxa have aka taxids, skip writing empty dict\n",
    "assert not new_aka_taxids\n",
    "\n",
    "# with open(intermediate_out / 'aka_taxids.json', 'w') as f:\n",
    "#     json.dump(new_aka_taxids, f)"
   ]
  },
  {
   "cell_type": "code",
   "execution_count": 21,
   "metadata": {},
   "outputs": [],
   "source": [
    "with open(intermediate_out / 'taxon-othernames.json', 'w') as f:\n",
    "    json.dump(new_taxon_othernames, f)"
   ]
  }
 ],
 "metadata": {
  "kernelspec": {
   "display_name": "MIDAS 2",
   "language": "python",
   "name": "midas2"
  },
  "language_info": {
   "codemirror_mode": {
    "name": "ipython",
    "version": 3
   },
   "file_extension": ".py",
   "mimetype": "text/x-python",
   "name": "python",
   "nbconvert_exporter": "python",
   "pygments_lexer": "ipython3",
   "version": "3.6.10"
  }
 },
 "nbformat": 4,
 "nbformat_minor": 4
}
