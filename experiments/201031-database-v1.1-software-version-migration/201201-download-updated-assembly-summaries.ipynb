{
 "cells": [
  {
   "cell_type": "markdown",
   "metadata": {},
   "source": [
    "# 201201 download updated assembly summaries"
   ]
  },
  {
   "cell_type": "code",
   "execution_count": 1,
   "metadata": {},
   "outputs": [],
   "source": [
    "from pathlib import Path\n",
    "import json\n",
    "\n",
    "from tqdm import tqdm\n",
    "\n",
    "from sqlalchemy import create_engine\n",
    "from sqlalchemy.orm import sessionmaker"
   ]
  },
  {
   "cell_type": "code",
   "execution_count": 2,
   "metadata": {},
   "outputs": [],
   "source": [
    "from Bio import Entrez\n",
    "\n",
    "Entrez.email = 'mjlumpe@gmail.com'"
   ]
  },
  {
   "cell_type": "code",
   "execution_count": 3,
   "metadata": {},
   "outputs": [],
   "source": [
    "from midas.db.models import Genome"
   ]
  },
  {
   "cell_type": "code",
   "execution_count": 4,
   "metadata": {},
   "outputs": [],
   "source": [
    "exptname = '201031-database-v1.1-software-version-migration'\n",
    "datestr = '201201'\n",
    "nbname = datestr + '-download-updated-assembly-summaries'"
   ]
  },
  {
   "cell_type": "code",
   "execution_count": 5,
   "metadata": {},
   "outputs": [],
   "source": [
    "intermediate_out = Path('../../data/intermediate/') / exptname / nbname\n",
    "intermediate_out.mkdir(exist_ok=True, parents=True)"
   ]
  },
  {
   "cell_type": "markdown",
   "metadata": {},
   "source": [
    "## Database connection"
   ]
  },
  {
   "cell_type": "code",
   "execution_count": 6,
   "metadata": {},
   "outputs": [],
   "source": [
    "engine = create_engine('sqlite:///db.sqlite')\n",
    "Session = sessionmaker(engine)"
   ]
  },
  {
   "cell_type": "code",
   "execution_count": 7,
   "metadata": {},
   "outputs": [],
   "source": [
    "session = Session()"
   ]
  },
  {
   "cell_type": "code",
   "execution_count": 8,
   "metadata": {},
   "outputs": [],
   "source": [
    "assembly_ids = {g.key: g.entrez_id for g in session.query(Genome)}"
   ]
  },
  {
   "cell_type": "markdown",
   "metadata": {},
   "source": [
    "## Download assembly summary data"
   ]
  },
  {
   "cell_type": "code",
   "execution_count": 9,
   "metadata": {},
   "outputs": [],
   "source": [
    "def chunkit(items, chunksize):\n",
    "    for start in range(0, len(items), chunksize):\n",
    "        yield items[start:start + chunksize]"
   ]
  },
  {
   "cell_type": "code",
   "execution_count": 10,
   "metadata": {},
   "outputs": [],
   "source": [
    "summaries_dir = Path('tmp/assembly-summaries')\n",
    "summaries_dir.mkdir(exist_ok=True)"
   ]
  },
  {
   "cell_type": "code",
   "execution_count": 11,
   "metadata": {},
   "outputs": [
    {
     "name": "stderr",
     "output_type": "stream",
     "text": [
      "0it [00:00, ?it/s]\n"
     ]
    }
   ],
   "source": [
    "summary_files = {aid: summaries_dir / ('%d.json' % aid) for aid in assembly_ids.values()}\n",
    "\n",
    "to_download = [aid for aid, fp in summary_files.items() if not fp.is_file()]\n",
    "\n",
    "\n",
    "for ids in tqdm(list(chunkit(to_download, 100))):\n",
    "    rdata = json.load(Entrez.esummary(db='assembly', id=','.join(map(str, ids)), retmode='json'))\n",
    "    \n",
    "    for aid in ids:\n",
    "        summary = rdata['result'][str(aid)]\n",
    "        \n",
    "        with summary_files[aid].open('w') as f:\n",
    "            json.dump(summary, f)"
   ]
  },
  {
   "cell_type": "markdown",
   "metadata": {},
   "source": [
    "## Extract updated taxonomy IDs"
   ]
  },
  {
   "cell_type": "code",
   "execution_count": 12,
   "metadata": {},
   "outputs": [
    {
     "name": "stderr",
     "output_type": "stream",
     "text": [
      "100%|██████████| 50752/50752 [00:02<00:00, 17164.59it/s]\n"
     ]
    }
   ],
   "source": [
    "taxids = dict()\n",
    "\n",
    "for aid, fp in tqdm(summary_files.items()):\n",
    "    with fp.open() as f:\n",
    "        summary = json.load(f)\n",
    "        \n",
    "    taxids[aid] = int(summary['taxid'])"
   ]
  },
  {
   "cell_type": "code",
   "execution_count": 13,
   "metadata": {},
   "outputs": [],
   "source": [
    "with open(intermediate_out / 'updated-assembly-taxids.json', 'w') as f:\n",
    "    json.dump(taxids, f)"
   ]
  }
 ],
 "metadata": {
  "kernelspec": {
   "display_name": "MIDAS 2",
   "language": "python",
   "name": "midas2"
  },
  "language_info": {
   "codemirror_mode": {
    "name": "ipython",
    "version": 3
   },
   "file_extension": ".py",
   "mimetype": "text/x-python",
   "name": "python",
   "nbconvert_exporter": "python",
   "pygments_lexer": "ipython3",
   "version": "3.6.10"
  }
 },
 "nbformat": 4,
 "nbformat_minor": 4
}
