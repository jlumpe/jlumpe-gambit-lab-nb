{
 "cells": [
  {
   "cell_type": "markdown",
   "metadata": {},
   "source": [
    "# 201221 Perform migration"
   ]
  },
  {
   "cell_type": "code",
   "execution_count": 44,
   "metadata": {},
   "outputs": [],
   "source": [
    "exptname = '201031-database-v1.1-software-version-migration'\n",
    "datestr = '201221'\n",
    "nbname = datestr + '-compare-updated-genome-taxids'"
   ]
  },
  {
   "cell_type": "code",
   "execution_count": 45,
   "metadata": {},
   "outputs": [],
   "source": [
    "import json\n",
    "import re\n",
    "from pathlib import Path\n",
    "from zipfile import ZipFile\n",
    "from gzip import GzipFile"
   ]
  },
  {
   "cell_type": "code",
   "execution_count": 46,
   "metadata": {},
   "outputs": [],
   "source": [
    "from tqdm import tqdm\n",
    "import pandas as pd\n",
    "\n",
    "from sqlalchemy import create_engine\n",
    "from sqlalchemy.orm import sessionmaker"
   ]
  },
  {
   "cell_type": "code",
   "execution_count": 47,
   "metadata": {},
   "outputs": [],
   "source": [
    "from midas.db.models import Genome, ReferenceGenomeSet, Taxon, AnnotatedGenome\n",
    "from midas.db.migrate import init_db"
   ]
  },
  {
   "cell_type": "markdown",
   "metadata": {},
   "source": [
    "## File paths"
   ]
  },
  {
   "cell_type": "code",
   "execution_count": 48,
   "metadata": {},
   "outputs": [],
   "source": [
    "infiles = dict(\n",
    "    v11_archive='/home/jared/projects/midas/data/v1/archives/refseq_curated_1.1_beta_200525.midas-archive.gz',\n",
    "    taxa=Path('../../data/intermediate/201031-database-v1.1-software-version-migration/201102-download-taxa/'),\n",
    "    taxa_othernames=Path('../../data/intermediate/201031-database-v1.1-software-version-migration/201109-extract-additional-taxonomy-data/taxon-othernames.json'),\n",
    "    taxa_additional=Path('../../data/intermediate/201031-database-v1.1-software-version-migration/201205-download-additional-taxa/'),\n",
    "    assembly_summaries=Path('tmp/assembly-summaries/'),\n",
    "    taxonomy_assignments=Path('../../data/processed/201031-database-v1.1-software-version-migration/201218-final-taxonomy-assignments/'),\n",
    ")"
   ]
  },
  {
   "cell_type": "markdown",
   "metadata": {},
   "source": [
    "## Load data"
   ]
  },
  {
   "cell_type": "markdown",
   "metadata": {},
   "source": [
    "### Archive files"
   ]
  },
  {
   "cell_type": "code",
   "execution_count": 49,
   "metadata": {},
   "outputs": [
    {
     "data": {
      "text/plain": [
       "'{\"archive_version\": \"1.0\"}'"
      ]
     },
     "execution_count": 49,
     "metadata": {},
     "output_type": "execute_result"
    }
   ],
   "source": [
    "archive_v11 = ZipFile(GzipFile(infiles['v11_archive']))\n",
    "archive_v11.read('info').decode()"
   ]
  },
  {
   "cell_type": "code",
   "execution_count": 50,
   "metadata": {},
   "outputs": [],
   "source": [
    "with archive_v11.open('genome_sets/midas/assembly/curated') as f:\n",
    "    gset_data = json.load(f)"
   ]
  },
  {
   "cell_type": "code",
   "execution_count": 51,
   "metadata": {},
   "outputs": [],
   "source": [
    "assembly_ids = dict()\n",
    "archive_keys_ordered = []\n",
    "\n",
    "for name in archive_v11.namelist():\n",
    "    if not name.startswith('genomes/'):\n",
    "        continue\n",
    "    \n",
    "    with archive_v11.open(name) as f:\n",
    "        data = json.load(f)\n",
    "        \n",
    "        assembly_ids[data['key']] = data['gb_id']\n",
    "        assert data['key_version'] == '1.1'\n",
    "        archive_keys_ordered.append(data['key'])"
   ]
  },
  {
   "cell_type": "code",
   "execution_count": 52,
   "metadata": {},
   "outputs": [],
   "source": [
    "NEXT_GENOME_VERSION = '1.2'"
   ]
  },
  {
   "cell_type": "code",
   "execution_count": 53,
   "metadata": {},
   "outputs": [
    {
     "data": {
      "text/plain": [
       "1438"
      ]
     },
     "execution_count": 53,
     "metadata": {},
     "output_type": "execute_result"
    }
   ],
   "source": [
    "species_names = set((v['tax_genus'], v['tax_species']) for v in gset_data['annotations'].values())\n",
    "len(species_names)"
   ]
  },
  {
   "cell_type": "markdown",
   "metadata": {},
   "source": [
    "### Taxa"
   ]
  },
  {
   "cell_type": "code",
   "execution_count": 54,
   "metadata": {},
   "outputs": [],
   "source": [
    "with open(infiles['taxa'] / 'taxa.json') as f:\n",
    "    taxon_data = {tdata['taxid']: tdata for tdata in json.load(f)}\n",
    "\n",
    "with open(infiles['taxa_additional'] / 'taxa.json') as f:\n",
    "    taxon_data.update({tdata['taxid']: tdata for tdata in json.load(f)})"
   ]
  },
  {
   "cell_type": "code",
   "execution_count": 55,
   "metadata": {},
   "outputs": [],
   "source": [
    "with open(infiles['taxa'] / 'aka_taxids.json') as f:\n",
    "    aka_taxids = {int(id1): id2 for id1, id2 in json.load(f).items()}"
   ]
  },
  {
   "cell_type": "markdown",
   "metadata": {},
   "source": [
    "### Taxon assignments"
   ]
  },
  {
   "cell_type": "code",
   "execution_count": 56,
   "metadata": {},
   "outputs": [],
   "source": [
    "species_match_df = pd.read_csv(infiles['taxonomy_assignments'] / '201218-species-taxon-matches.csv', index_col=['genus', 'species'])"
   ]
  },
  {
   "cell_type": "code",
   "execution_count": 57,
   "metadata": {},
   "outputs": [],
   "source": [
    "species_by_matched_taxid = dict()\n",
    "\n",
    "for sp, row in species_match_df.iterrows():\n",
    "    species_by_matched_taxid.setdefault(row['taxid'], []).append(sp)"
   ]
  },
  {
   "cell_type": "code",
   "execution_count": 58,
   "metadata": {},
   "outputs": [],
   "source": [
    "with open('tmp/genome-taxon-assignments.json') as f:\n",
    "    genome_taxon_assignments = json.load(f)"
   ]
  },
  {
   "cell_type": "code",
   "execution_count": 59,
   "metadata": {},
   "outputs": [
    {
     "data": {
      "text/plain": [
       "1438"
      ]
     },
     "execution_count": 59,
     "metadata": {},
     "output_type": "execute_result"
    }
   ],
   "source": [
    "species_taxids = set(taxid for taxid in genome_taxon_assignments.values() if taxid is not None)\n",
    "len(species_taxids)"
   ]
  },
  {
   "cell_type": "markdown",
   "metadata": {},
   "source": [
    "## Func defs"
   ]
  },
  {
   "cell_type": "code",
   "execution_count": 60,
   "metadata": {},
   "outputs": [],
   "source": [
    "def reflow(text):\n",
    "    \"\"\"Remove line breaks or runs of whitespace in text and replace with single spaces.\"\"\"\n",
    "    return re.sub(r'\\s+', ' ', text.strip())"
   ]
  },
  {
   "cell_type": "code",
   "execution_count": 61,
   "metadata": {},
   "outputs": [],
   "source": [
    "def resolve_alias(tid):\n",
    "    return aka_taxids.get(tid, tid)\n",
    "\n",
    "def taxid_eq(tid1, tid2):\n",
    "    return resolve_alias(tid1) == resolve_alias(tid2)"
   ]
  },
  {
   "cell_type": "code",
   "execution_count": 62,
   "metadata": {},
   "outputs": [],
   "source": [
    "def gettaxon(tid):\n",
    "    \"\"\"Get taxon by ID, resolving alias IDs.\"\"\"\n",
    "    return taxon_data[resolve_alias(tid)]"
   ]
  },
  {
   "cell_type": "code",
   "execution_count": 63,
   "metadata": {},
   "outputs": [],
   "source": [
    "def getparent(taxon):\n",
    "    \"\"\"Get taxon's parent, handling aliases of parent id.\"\"\"\n",
    "    if isinstance(taxon, int):\n",
    "        taxon = gettaxon(taxon)\n",
    "        \n",
    "    try:\n",
    "        return gettaxon(taxon['parent_taxid'])\n",
    "    except KeyError:\n",
    "        return None"
   ]
  },
  {
   "cell_type": "code",
   "execution_count": 64,
   "metadata": {},
   "outputs": [],
   "source": [
    "def iter_ancestors(taxon, incself=False):\n",
    "    if isinstance(taxon, int):\n",
    "        taxon = gettaxon(taxon)\n",
    "    if not incself:\n",
    "        taxon = getparent(taxon)\n",
    "        \n",
    "    while taxon is not None:\n",
    "        yield taxon\n",
    "        taxon = getparent(taxon)"
   ]
  },
  {
   "cell_type": "markdown",
   "metadata": {},
   "source": [
    "## Migrate database"
   ]
  },
  {
   "cell_type": "markdown",
   "metadata": {},
   "source": [
    "### Create database"
   ]
  },
  {
   "cell_type": "code",
   "execution_count": 65,
   "metadata": {},
   "outputs": [
    {
     "name": "stdout",
     "output_type": "stream",
     "text": [
      "rm: cannot remove 'refseq_curated_1.2a_201221.db': No such file or directory\n"
     ]
    }
   ],
   "source": [
    "dbfile = 'refseq_curated_1.2a_%s.db' % datestr\n",
    "!rm {dbfile}\n",
    "engine = create_engine('sqlite:///' + dbfile)\n",
    "Session = sessionmaker(engine)"
   ]
  },
  {
   "cell_type": "code",
   "execution_count": 66,
   "metadata": {},
   "outputs": [],
   "source": [
    "init_db(engine)"
   ]
  },
  {
   "cell_type": "code",
   "execution_count": 67,
   "metadata": {},
   "outputs": [],
   "source": [
    "session = Session()"
   ]
  },
  {
   "cell_type": "markdown",
   "metadata": {},
   "source": [
    "### Reference genome set"
   ]
  },
  {
   "cell_type": "code",
   "execution_count": 68,
   "metadata": {},
   "outputs": [],
   "source": [
    "refset = ReferenceGenomeSet(\n",
    "    key='midas/assembly/curated',\n",
    "    version='1.2a1',\n",
    "    name='refseq_curated_1.2a1',\n",
    "    extra=dict(\n",
    "        date_created=datestr,\n",
    "        parent=dict(\n",
    "            key=gset_data['key'],\n",
    "            version=gset_data['key_version'],\n",
    "            description=gset_data['description'],\n",
    "        ),\n",
    "    ),\n",
    ")"
   ]
  },
  {
   "cell_type": "code",
   "execution_count": 69,
   "metadata": {},
   "outputs": [],
   "source": [
    "refset.description = reflow('''\n",
    "Migration of version 1.1 from v1.x library format/schema to schema for newest v2.2 software release.\n",
    "\n",
    "This is an intermediate/development version not intended for full use, notably it does not yet have thresholds set.\n",
    "Incremented minor version number because previous version number was not properly marked as alpha/pre-release, and also due to\n",
    "the schema change.\n",
    "\n",
    "Apart from migrating to the new schema, this version is updated to include the latest information downloaded from the NCBI\n",
    "assembly and taxonomy databases (the initial version of the database was based on information downloaded in 2016).\n",
    "Some additional curation was performed based on the changes to the NCBI data between then and now.\n",
    "''')"
   ]
  },
  {
   "cell_type": "code",
   "execution_count": 70,
   "metadata": {},
   "outputs": [],
   "source": [
    "refset.extra['parent']['notes'] = reflow('''\n",
    "Also an intermediate development version not intended for use, but version number not marked as such.\n",
    "A more appropriate version number would have been 1.1a1, but retroactively altering it would likely\n",
    "just lead to more confusion.\n",
    "''')"
   ]
  },
  {
   "cell_type": "code",
   "execution_count": 71,
   "metadata": {},
   "outputs": [],
   "source": [
    "session.add(refset)\n",
    "session.commit()"
   ]
  },
  {
   "cell_type": "markdown",
   "metadata": {},
   "source": [
    "### Taxa"
   ]
  },
  {
   "cell_type": "code",
   "execution_count": 72,
   "metadata": {},
   "outputs": [],
   "source": [
    "def make_taxon(data):\n",
    "    \n",
    "    return Taxon(\n",
    "        name=data['scientific_name'],\n",
    "        rank=data['rank'],\n",
    "        report=True,\n",
    "        ncbi_id=data['taxid'],\n",
    "        extra=dict(\n",
    "            ncbi_data=data,\n",
    "        ),\n",
    "        reference_set=refset,\n",
    "    )"
   ]
  },
  {
   "cell_type": "code",
   "execution_count": 73,
   "metadata": {},
   "outputs": [
    {
     "name": "stdout",
     "output_type": "stream",
     "text": [
      "No genus ancestor found for 39492 [Eubacterium] siraeum (2 genomes)\n"
     ]
    }
   ],
   "source": [
    "species_to_genus_map = dict()\n",
    "\n",
    "for taxid in species_taxids:\n",
    "    if taxid is None:\n",
    "        continue\n",
    "    assert taxid not in aka_taxids\n",
    "    \n",
    "    for ancestor in iter_ancestors(taxid):\n",
    "        if ancestor['rank'] == 'genus':\n",
    "            species_to_genus_map[taxid] = ancestor['taxid']\n",
    "            break\n",
    "            \n",
    "    else:\n",
    "        taxon = gettaxon(taxid)\n",
    "        cnt = sum(taxid2 == taxid for taxid2 in genome_taxon_assignments.values())\n",
    "        print('No genus ancestor found for %d %s (%d genomes)' % (taxid, taxon['scientific_name'], cnt))\n",
    "        \n",
    "        species_to_genus_map[taxid] = None"
   ]
  },
  {
   "cell_type": "code",
   "execution_count": 74,
   "metadata": {},
   "outputs": [],
   "source": [
    "taxa = dict()"
   ]
  },
  {
   "cell_type": "markdown",
   "metadata": {},
   "source": [
    "#### Genus taxa"
   ]
  },
  {
   "cell_type": "code",
   "execution_count": 75,
   "metadata": {},
   "outputs": [],
   "source": [
    "for taxid in set(species_to_genus_map.values()):\n",
    "    if taxid is None:\n",
    "        continue\n",
    "\n",
    "    data = gettaxon(taxid)\n",
    "    assert data['taxid'] == taxid\n",
    "    assert data['rank'] == 'genus'\n",
    "    \n",
    "    taxon = make_taxon(data)\n",
    "    taxa[taxid] = taxon\n",
    "    \n",
    "    session.add(taxon)"
   ]
  },
  {
   "cell_type": "markdown",
   "metadata": {},
   "source": [
    "#### Species taxa"
   ]
  },
  {
   "cell_type": "code",
   "execution_count": 76,
   "metadata": {},
   "outputs": [],
   "source": [
    "for taxid in set(species_to_genus_map.keys()):\n",
    "\n",
    "    data = gettaxon(taxid)\n",
    "    assert data['taxid'] == taxid\n",
    "    assert data['rank'] == 'species'\n",
    "    \n",
    "    taxon = make_taxon(data)\n",
    "    taxa[taxid] = taxon\n",
    "    \n",
    "    # Genus taxon as parent\n",
    "    parent_id = species_to_genus_map[taxid]\n",
    "    if parent_id is not None:\n",
    "        taxon.parent = taxa[parent_id]\n",
    "        \n",
    "    # Add species name(s) corresponding to this taxon in the previous database version\n",
    "    taxon.extra['v1_1_species_names'] = [\n",
    "        dict(genus=g, species=s)\n",
    "        for g, s in species_by_matched_taxid.get(taxid, [])\n",
    "    ]\n",
    "    \n",
    "    session.add(taxon)"
   ]
  },
  {
   "cell_type": "code",
   "execution_count": 77,
   "metadata": {},
   "outputs": [],
   "source": [
    "session.commit()"
   ]
  },
  {
   "cell_type": "markdown",
   "metadata": {},
   "source": [
    "### Genomes"
   ]
  },
  {
   "cell_type": "code",
   "execution_count": 78,
   "metadata": {},
   "outputs": [],
   "source": [
    "def make_genome(key):\n",
    "    aid = assembly_ids[key]\n",
    "    \n",
    "    with open(infiles['assembly_summaries'] / ('%d.json' % aid)) as f:\n",
    "        summary = json.load(f)\n",
    "        \n",
    "    with archive_v11.open('genomes/' + key) as f:\n",
    "        v11_data = json.load(f)\n",
    "        \n",
    "    # Extract refseq and genbank accession nos\n",
    "    refseq_acc = summary['assemblyaccession']\n",
    "    assert refseq_acc.startswith('GCF_')\n",
    "    assert key.split('/')[-1] == refseq_acc\n",
    "    genbank_acc = summary['synonym']['genbank']\n",
    "    assert genbank_acc.startswith('GCA_')\n",
    "    assert summary['synonym']['refseq'] == refseq_acc\n",
    "    assert summary['synonym']['similarity'] == 'identical'\n",
    "        \n",
    "    annotation = gset_data['annotations'][key]\n",
    "    \n",
    "    genome = Genome(\n",
    "        key=key,\n",
    "        version=NEXT_GENOME_VERSION,\n",
    "        description='[%s] %s' % (refseq_acc, summary['organism']),\n",
    "        entrez_db='assembly',\n",
    "        entrez_id=aid,\n",
    "        refseq_acc=refseq_acc,\n",
    "        genbank_acc=genbank_acc,\n",
    "        extra=dict(\n",
    "            ncbi_taxid=int(summary['taxid']),\n",
    "            v1_1_taxonomy=dict(\n",
    "                genus=annotation['tax_genus'],\n",
    "                species=annotation['tax_species'],\n",
    "                strain=annotation['tax_strain'],\n",
    "            ),\n",
    "            sequence_source=v11_data['meta']['sequence_source'],\n",
    "        ),\n",
    "    )\n",
    "\n",
    "    return genome"
   ]
  },
  {
   "cell_type": "code",
   "execution_count": 79,
   "metadata": {},
   "outputs": [
    {
     "name": "stderr",
     "output_type": "stream",
     "text": [
      "100%|██████████| 50752/50752 [00:21<00:00, 2411.22it/s]\n"
     ]
    }
   ],
   "source": [
    "genomes = dict()\n",
    "\n",
    "# Do this in the order the files are stored in the archive zip file\n",
    "# so we aren't seeking around within the outer gzip file, which is\n",
    "# very slow\n",
    "for key in tqdm(archive_keys_ordered):\n",
    "    taxid = genome_taxon_assignments[key]\n",
    "    if taxid is None:\n",
    "        continue\n",
    "        \n",
    "    genome = make_genome(key)\n",
    "    genomes[key] = genome\n",
    "    \n",
    "    session.add(genome)"
   ]
  },
  {
   "cell_type": "code",
   "execution_count": 80,
   "metadata": {},
   "outputs": [],
   "source": [
    "session.commit()"
   ]
  },
  {
   "cell_type": "markdown",
   "metadata": {},
   "source": [
    "### Genome annotations"
   ]
  },
  {
   "cell_type": "code",
   "execution_count": 81,
   "metadata": {},
   "outputs": [
    {
     "name": "stderr",
     "output_type": "stream",
     "text": [
      "100%|██████████| 50741/50741 [00:05<00:00, 9469.56it/s] \n"
     ]
    }
   ],
   "source": [
    "for key, genome in tqdm(genomes.items()):\n",
    "    taxid = genome_taxon_assignments[key]\n",
    "    assert taxid is not None\n",
    "    taxon = taxa[taxid]\n",
    "    \n",
    "    ag = AnnotatedGenome(\n",
    "        genome=genome,\n",
    "        reference_set=refset,\n",
    "        primary_taxon=taxon,\n",
    "        organism=taxon.name,\n",
    "    )\n",
    "    \n",
    "    session.add(ag)"
   ]
  },
  {
   "cell_type": "code",
   "execution_count": 82,
   "metadata": {},
   "outputs": [],
   "source": [
    "session.commit()"
   ]
  },
  {
   "cell_type": "markdown",
   "metadata": {},
   "source": [
    "## Sanity checks and basic statistics"
   ]
  },
  {
   "cell_type": "markdown",
   "metadata": {},
   "source": [
    "### Genomes"
   ]
  },
  {
   "cell_type": "code",
   "execution_count": 83,
   "metadata": {},
   "outputs": [
    {
     "data": {
      "text/plain": [
       "(50752, 50741)"
      ]
     },
     "execution_count": 83,
     "metadata": {},
     "output_type": "execute_result"
    }
   ],
   "source": [
    "len(assembly_ids), session.query(Genome).count()"
   ]
  },
  {
   "cell_type": "code",
   "execution_count": 84,
   "metadata": {},
   "outputs": [
    {
     "name": "stderr",
     "output_type": "stream",
     "text": [
      "50741it [00:15, 3376.66it/s]\n"
     ]
    }
   ],
   "source": [
    "for genome in tqdm(session.query(Genome)):\n",
    "    assert len(genome.annotations) == 1\n",
    "    ag, = genome.annotations\n",
    "    assert ag.primary_taxon.rank == 'species'"
   ]
  },
  {
   "cell_type": "markdown",
   "metadata": {},
   "source": [
    "### Taxa"
   ]
  },
  {
   "cell_type": "code",
   "execution_count": 85,
   "metadata": {},
   "outputs": [
    {
     "data": {
      "text/plain": [
       "(1438, 462)"
      ]
     },
     "execution_count": 85,
     "metadata": {},
     "output_type": "execute_result"
    }
   ],
   "source": [
    "session.query(Taxon).filter_by(rank='species').count(), session.query(Taxon).filter_by(rank='genus').count()"
   ]
  },
  {
   "cell_type": "code",
   "execution_count": 86,
   "metadata": {},
   "outputs": [
    {
     "name": "stdout",
     "output_type": "stream",
     "text": [
      "\n",
      "Bacillus mycoides 1405 has 2 v1.1 names\n",
      "\t ('Bacillus', 'mycoides')\n",
      "\t ('Bacillus', 'weihenstephanensis')\n",
      "\n",
      "Francisella orientalis 299583 has 0 v1.1 names\n",
      "\n",
      "Pectobacterium brasiliense 180957 has 0 v1.1 names\n",
      "\n",
      "Pectobacterium odoriferum 78398 has 0 v1.1 names\n",
      "\n",
      "Pectobacterium parmentieri 1905730 has 0 v1.1 names\n",
      "\n",
      "Pectobacterium parvum 2778550 has 0 v1.1 names\n",
      "\n",
      "Photorhabdus laumondii 2218628 has 0 v1.1 names\n",
      "\n",
      "Salinispora fenicalii 1137263 has 0 v1.1 names\n",
      "\n",
      "Salinispora mooreana 999545 has 0 v1.1 names\n",
      "\n",
      "Salinispora oceanensis 1050199 has 0 v1.1 names\n",
      "\n",
      "Salinispora vitiensis 999544 has 0 v1.1 names\n",
      "\n",
      "Streptomyces californicus 67351 has 2 v1.1 names\n",
      "\t ('Streptomyces', 'californicus')\n",
      "\t ('Streptomyces', 'puniceus')\n",
      "\n",
      "Vibrio cholerae 666 has 2 v1.1 names\n",
      "\t ('Vibrio', 'albensis')\n",
      "\t ('Vibrio', 'cholerae')\n",
      "\n",
      "Vibrio diabolicus 50719 has 0 v1.1 names\n",
      "\n",
      "Xanthomonas hortorum 56454 has 0 v1.1 names\n",
      "\n",
      "Xanthomonas phaseoli 1985254 has 0 v1.1 names\n",
      "\n",
      "[Eubacterium] siraeum 39492 has no parent\n"
     ]
    }
   ],
   "source": [
    "for taxon in session.query(Taxon).order_by('name'):\n",
    "    if taxon.rank == 'species':\n",
    "        # No singletons\n",
    "        assert taxon.genomes_primary.count() >= 2\n",
    "        \n",
    "        # Check parent is genus\n",
    "        if taxon.parent is None:\n",
    "            print('\\n%s %d has no parent' % (taxon.name, taxon.ncbi_id))\n",
    "        else:\n",
    "            assert taxon.parent.rank == 'genus'\n",
    "        \n",
    "        v11_names = taxon.extra['v1_1_species_names']\n",
    "        if len(v11_names) != 1:\n",
    "            print('\\n%s %d has %d v1.1 names' % (taxon.name, taxon.ncbi_id, len(v11_names)))\n",
    "            for n in v11_names:\n",
    "                print('\\t', (n['genus'], n['species']))\n",
    "        \n",
    "    elif taxon.rank == 'genus':\n",
    "        assert taxon.genomes_primary.count() == 0\n",
    "        assert taxon.parent is None\n",
    "        assert len(taxon.children) > 0\n",
    "        \n",
    "    else:\n",
    "        assert 0"
   ]
  }
 ],
 "metadata": {
  "kernelspec": {
   "display_name": "MIDAS 2",
   "language": "python",
   "name": "midas2"
  },
  "language_info": {
   "codemirror_mode": {
    "name": "ipython",
    "version": 3
   },
   "file_extension": ".py",
   "mimetype": "text/x-python",
   "name": "python",
   "nbconvert_exporter": "python",
   "pygments_lexer": "ipython3",
   "version": "3.6.10"
  }
 },
 "nbformat": 4,
 "nbformat_minor": 4
}
