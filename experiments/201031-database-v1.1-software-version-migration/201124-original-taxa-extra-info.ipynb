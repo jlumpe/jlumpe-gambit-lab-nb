{
 "cells": [
  {
   "cell_type": "markdown",
   "metadata": {},
   "source": [
    "# 201124 original taxa extra info"
   ]
  },
  {
   "cell_type": "code",
   "execution_count": 2,
   "metadata": {},
   "outputs": [],
   "source": [
    "exptname = '201031-database-v1.1-software-version-migration'\n",
    "datestr = '201124'\n",
    "nbname = datestr + '-original-taxa-extra-info'"
   ]
  },
  {
   "cell_type": "code",
   "execution_count": 3,
   "metadata": {},
   "outputs": [],
   "source": [
    "import json\n",
    "from pathlib import Path\n",
    "from zipfile import ZipFile\n",
    "from gzip import GzipFile\n",
    "from collections import Counter"
   ]
  },
  {
   "cell_type": "code",
   "execution_count": 4,
   "metadata": {},
   "outputs": [],
   "source": [
    "from sqlalchemy import create_engine\n",
    "from sqlalchemy.orm import sessionmaker"
   ]
  },
  {
   "cell_type": "code",
   "execution_count": 5,
   "metadata": {},
   "outputs": [],
   "source": [
    "from midas.db.models import Genome"
   ]
  },
  {
   "cell_type": "markdown",
   "metadata": {},
   "source": [
    "## File paths"
   ]
  },
  {
   "cell_type": "code",
   "execution_count": 6,
   "metadata": {},
   "outputs": [],
   "source": [
    "infiles = dict(\n",
    "    v11_archive='/home/jared/projects/midas/data/v1/archives/refseq_curated_1.1_beta_200525.midas-archive.gz',\n",
    "    taxa=Path('../../data/intermediate/201031-database-v1.1-software-version-migration/201102-download-taxa/'),\n",
    "#    taxonomy_additional=Path('../../data/intermediate/201031-database-v1.1-software-version-migration/201109-extract-additional-taxonomy-data/'),\n",
    "    taxonomy_original=Path('../../data/intermediate/201031-database-v1.1-software-version-migration/201113-original-genome-taxa/'),\n",
    "    matches=Path('../../data/intermediate/201031-database-v1.1-software-version-migration/201122-taxon-name-matching/'),\n",
    ")"
   ]
  },
  {
   "cell_type": "code",
   "execution_count": 7,
   "metadata": {},
   "outputs": [],
   "source": [
    "intermediate_out = Path('../../data/intermediate/') / exptname / nbname\n",
    "intermediate_out.mkdir(exist_ok=True, parents=True)"
   ]
  },
  {
   "cell_type": "markdown",
   "metadata": {},
   "source": [
    "## Load data"
   ]
  },
  {
   "cell_type": "markdown",
   "metadata": {},
   "source": [
    "### Archive files"
   ]
  },
  {
   "cell_type": "code",
   "execution_count": 8,
   "metadata": {},
   "outputs": [
    {
     "data": {
      "text/plain": [
       "'{\"archive_version\": \"1.0\"}'"
      ]
     },
     "execution_count": 8,
     "metadata": {},
     "output_type": "execute_result"
    }
   ],
   "source": [
    "archive_v11 = ZipFile(GzipFile(infiles['v11_archive']))\n",
    "archive_v11.read('info').decode()"
   ]
  },
  {
   "cell_type": "code",
   "execution_count": 9,
   "metadata": {},
   "outputs": [],
   "source": [
    "with archive_v11.open('genome_sets/midas/assembly/curated') as f:\n",
    "    gset_data = json.load(f)"
   ]
  },
  {
   "cell_type": "code",
   "execution_count": 10,
   "metadata": {},
   "outputs": [
    {
     "data": {
      "text/plain": [
       "(419, 1438)"
      ]
     },
     "execution_count": 10,
     "metadata": {},
     "output_type": "execute_result"
    }
   ],
   "source": [
    "genus_names = set()\n",
    "species_names = set()\n",
    "\n",
    "for adata in gset_data['annotations'].values():\n",
    "    genus_names.add(adata['tax_genus'])\n",
    "    species_names.add((adata['tax_genus'], adata['tax_species']))\n",
    "    \n",
    "species_names = sorted(species_names)\n",
    "genus_names = sorted(genus_names)\n",
    "    \n",
    "len(genus_names), len(species_names)"
   ]
  },
  {
   "cell_type": "markdown",
   "metadata": {},
   "source": [
    "### Database"
   ]
  },
  {
   "cell_type": "code",
   "execution_count": 11,
   "metadata": {},
   "outputs": [],
   "source": [
    "engine = create_engine('sqlite:///db.sqlite')\n",
    "Session = sessionmaker(engine)"
   ]
  },
  {
   "cell_type": "code",
   "execution_count": 12,
   "metadata": {},
   "outputs": [],
   "source": [
    "session = Session()"
   ]
  },
  {
   "cell_type": "markdown",
   "metadata": {},
   "source": [
    "### Taxonomy"
   ]
  },
  {
   "cell_type": "markdown",
   "metadata": {},
   "source": [
    "#### Current data"
   ]
  },
  {
   "cell_type": "code",
   "execution_count": 13,
   "metadata": {},
   "outputs": [],
   "source": [
    "with open(infiles['taxa'] / 'taxa.json') as f:\n",
    "    taxon_data = json.load(f)\n",
    "    \n",
    "# Convert to dict indexed by ID\n",
    "taxon_data = {tdata['taxid']: tdata for tdata in taxon_data}"
   ]
  },
  {
   "cell_type": "code",
   "execution_count": 14,
   "metadata": {},
   "outputs": [],
   "source": [
    "with open(infiles['taxa'] / 'aka_taxids.json') as f:\n",
    "    aka_taxids = json.load(f)\n",
    "    \n",
    "aka_taxids = {int(id1): id2 for id1, id2 in aka_taxids.items()}"
   ]
  },
  {
   "cell_type": "code",
   "execution_count": 15,
   "metadata": {},
   "outputs": [],
   "source": [
    "# Check taxon_data dict doesn't include any alias taxonomy IDs\n",
    "for taxid, taxon in taxon_data.items():\n",
    "    assert taxon['taxid'] == taxid\n",
    "    assert taxid not in aka_taxids\n",
    "    assert taxon['parent_taxid'] == 0 or taxon['parent_taxid'] in taxon_data"
   ]
  },
  {
   "cell_type": "markdown",
   "metadata": {},
   "source": [
    "#### Original 2016 data"
   ]
  },
  {
   "cell_type": "code",
   "execution_count": 16,
   "metadata": {},
   "outputs": [],
   "source": [
    "with open(infiles['taxonomy_original'] / 'original-tax-summaries.json') as f:\n",
    "    orig_tax_summaries = {int(tid): s for tid, s in json.load(f).items()}"
   ]
  },
  {
   "cell_type": "code",
   "execution_count": 17,
   "metadata": {},
   "outputs": [],
   "source": [
    "with open(infiles['taxonomy_original'] / 'genome-matching-taxids-by-species.json') as f:\n",
    "    species_genome_taxids = json.load(f)\n",
    "\n",
    "species_genome_taxids = {(d['curated_genus'], d['curated_species']): set(d['taxids']) for d in species_genome_taxids}"
   ]
  },
  {
   "cell_type": "markdown",
   "metadata": {},
   "source": [
    "## Func defs"
   ]
  },
  {
   "cell_type": "code",
   "execution_count": 18,
   "metadata": {},
   "outputs": [],
   "source": [
    "def resolve_alias(tid):\n",
    "    return aka_taxids.get(tid, tid)"
   ]
  },
  {
   "cell_type": "code",
   "execution_count": 19,
   "metadata": {},
   "outputs": [],
   "source": [
    "def gettaxon(tid):\n",
    "    \"\"\"Get taxon by ID, resolving alias IDs.\"\"\"\n",
    "    return taxon_data[resolve_alias(tid)]"
   ]
  },
  {
   "cell_type": "markdown",
   "metadata": {},
   "source": [
    "## Count genomes for original taxa"
   ]
  },
  {
   "cell_type": "code",
   "execution_count": 20,
   "metadata": {},
   "outputs": [],
   "source": [
    "genomes_by_db_species = {sp: set() for sp in species_names}\n",
    "\n",
    "for key, a in gset_data['annotations'].items():\n",
    "    sp = (a['tax_genus'], a['tax_species'])\n",
    "    genomes_by_db_species[sp].add(key)"
   ]
  },
  {
   "cell_type": "code",
   "execution_count": 21,
   "metadata": {},
   "outputs": [],
   "source": [
    "genome_orig_taxids = {g.key: g.extra['ncbi_taxid'] for g in session.query(Genome)}"
   ]
  },
  {
   "cell_type": "code",
   "execution_count": 22,
   "metadata": {},
   "outputs": [],
   "source": [
    "filtered_genome_taxid_counts = dict()\n",
    "alt_genome_taxid_counts = dict()\n",
    "\n",
    "for sp, genome_keys in genomes_by_db_species.items():\n",
    "    counts = filtered_genome_taxid_counts[sp] = Counter()\n",
    "    alt_counts = alt_genome_taxid_counts[sp] = Counter()\n",
    "    \n",
    "    for key in genome_keys:\n",
    "        taxid = genome_orig_taxids[key]\n",
    "        summary = orig_tax_summaries[taxid]\n",
    "        \n",
    "        if (summary['genus'], summary['species']) == sp:\n",
    "            counts[resolve_alias(taxid)] += 1\n",
    "        else:\n",
    "            alt_counts[resolve_alias(taxid)] += 1\n",
    "\n",
    "    assert counts.keys() == set(species_genome_taxids[sp])"
   ]
  },
  {
   "cell_type": "markdown",
   "metadata": {},
   "source": [
    "## Write output"
   ]
  },
  {
   "cell_type": "code",
   "execution_count": 23,
   "metadata": {},
   "outputs": [],
   "source": [
    "with open(intermediate_out / 'genome-original-taxids.json', 'w') as f:\n",
    "    json.dump(genome_orig_taxids, f)"
   ]
  },
  {
   "cell_type": "code",
   "execution_count": 24,
   "metadata": {},
   "outputs": [],
   "source": [
    "_genome_orig_taxid_counts_json = [\n",
    "    dict(curated_genus=sp[0], curated_species=sp[1], filtered_counts=filtered_genome_taxid_counts[sp], other_counts=alt_genome_taxid_counts[sp])\n",
    "    for sp in species_names\n",
    "]\n",
    "\n",
    "with open(intermediate_out / 'original-genome-taxid-counts.json', 'w') as f:\n",
    "    json.dump(_genome_orig_taxid_counts_json, f)"
   ]
  }
 ],
 "metadata": {
  "kernelspec": {
   "display_name": "MIDAS 2",
   "language": "python",
   "name": "midas2"
  },
  "language_info": {
   "codemirror_mode": {
    "name": "ipython",
    "version": 3
   },
   "file_extension": ".py",
   "mimetype": "text/x-python",
   "name": "python",
   "nbconvert_exporter": "python",
   "pygments_lexer": "ipython3",
   "version": "3.6.10"
  }
 },
 "nbformat": 4,
 "nbformat_minor": 4
}
