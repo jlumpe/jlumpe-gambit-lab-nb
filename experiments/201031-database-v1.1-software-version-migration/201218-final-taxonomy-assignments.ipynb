{
 "cells": [
  {
   "cell_type": "markdown",
   "metadata": {},
   "source": [
    "# 201218 final taxonomy assignments"
   ]
  },
  {
   "cell_type": "code",
   "execution_count": null,
   "metadata": {},
   "outputs": [],
   "source": [
    "exptname = '201031-database-v1.1-software-version-migration'\n",
    "datestr = '201218'\n",
    "nbname = datestr + '-final-taxonomy-assignments'"
   ]
  },
  {
   "cell_type": "code",
   "execution_count": 2,
   "metadata": {},
   "outputs": [],
   "source": [
    "import json\n",
    "from pathlib import Path\n",
    "from zipfile import ZipFile\n",
    "from gzip import GzipFile\n",
    "from collections import Counter"
   ]
  },
  {
   "cell_type": "code",
   "execution_count": 3,
   "metadata": {},
   "outputs": [],
   "source": [
    "import pandas as pd"
   ]
  },
  {
   "cell_type": "markdown",
   "metadata": {},
   "source": [
    "## File paths"
   ]
  },
  {
   "cell_type": "code",
   "execution_count": 4,
   "metadata": {},
   "outputs": [],
   "source": [
    "infiles = dict(\n",
    "    v11_archive='/home/jared/projects/midas/data/v1/archives/refseq_curated_1.1_beta_200525.midas-archive.gz',\n",
    "    taxa=Path('../../data/intermediate/201031-database-v1.1-software-version-migration/201102-download-taxa/'),\n",
    "    taxa_additional=Path('../../data/intermediate/201031-database-v1.1-software-version-migration/201205-download-additional-taxa/'),\n",
    "    matches=Path('../../data/intermediate/201031-database-v1.1-software-version-migration/201122-taxon-name-matching/'),\n",
    "    updated_taxids=Path('../../data/intermediate/201031-database-v1.1-software-version-migration/201201-download-updated-assembly-summaries/updated-assembly-taxids.json')\n",
    ")"
   ]
  },
  {
   "cell_type": "code",
   "execution_count": 5,
   "metadata": {},
   "outputs": [],
   "source": [
    "processed_out = Path('../../data/processed/') / exptname / nbname\n",
    "processed_out.mkdir(exist_ok=True, parents=True)"
   ]
  },
  {
   "cell_type": "markdown",
   "metadata": {},
   "source": [
    "## Load data"
   ]
  },
  {
   "cell_type": "markdown",
   "metadata": {},
   "source": [
    "### Archive files"
   ]
  },
  {
   "cell_type": "code",
   "execution_count": 6,
   "metadata": {},
   "outputs": [
    {
     "data": {
      "text/plain": [
       "'{\"archive_version\": \"1.0\"}'"
      ]
     },
     "execution_count": 6,
     "metadata": {},
     "output_type": "execute_result"
    }
   ],
   "source": [
    "archive_v11 = ZipFile(GzipFile(infiles['v11_archive']))\n",
    "archive_v11.read('info').decode()"
   ]
  },
  {
   "cell_type": "code",
   "execution_count": 7,
   "metadata": {},
   "outputs": [],
   "source": [
    "with archive_v11.open('genome_sets/midas/assembly/curated') as f:\n",
    "    gset_data = json.load(f)"
   ]
  },
  {
   "cell_type": "code",
   "execution_count": 8,
   "metadata": {},
   "outputs": [
    {
     "data": {
      "text/plain": [
       "(419, 1438)"
      ]
     },
     "execution_count": 8,
     "metadata": {},
     "output_type": "execute_result"
    }
   ],
   "source": [
    "genomes_by_species = dict()\n",
    "\n",
    "for key, adata in gset_data['annotations'].items():\n",
    "    sp = (adata['tax_genus'], adata['tax_species'])\n",
    "    genomes_by_species.setdefault(sp, set()).add(key)\n",
    "    \n",
    "species_names = sorted(genomes_by_species.keys())\n",
    "genus_names = sorted(set(g for g, s in species_names))\n",
    "    \n",
    "len(genus_names), len(species_names)"
   ]
  },
  {
   "cell_type": "code",
   "execution_count": 9,
   "metadata": {},
   "outputs": [],
   "source": [
    "assembly_ids = dict()\n",
    "\n",
    "for name in archive_v11.namelist():\n",
    "    if not name.startswith('genomes/'):\n",
    "        continue\n",
    "    \n",
    "    with archive_v11.open(name) as f:\n",
    "        data = json.load(f)\n",
    "        \n",
    "        assembly_ids[data['key']] = data['gb_id']"
   ]
  },
  {
   "cell_type": "markdown",
   "metadata": {},
   "source": [
    "### Taxa"
   ]
  },
  {
   "cell_type": "code",
   "execution_count": 10,
   "metadata": {},
   "outputs": [],
   "source": [
    "with open(infiles['taxa'] / 'taxa.json') as f:\n",
    "    taxon_data = {tdata['taxid']: tdata for tdata in json.load(f)}\n",
    "\n",
    "with open(infiles['taxa_additional'] / 'taxa.json') as f:\n",
    "    taxon_data.update({tdata['taxid']: tdata for tdata in json.load(f)})"
   ]
  },
  {
   "cell_type": "code",
   "execution_count": 11,
   "metadata": {},
   "outputs": [],
   "source": [
    "with open(infiles['taxa'] / 'aka_taxids.json') as f:\n",
    "    aka_taxids = {int(id1): id2 for id1, id2 in json.load(f).items()}"
   ]
  },
  {
   "cell_type": "markdown",
   "metadata": {},
   "source": [
    "### Name matches"
   ]
  },
  {
   "cell_type": "code",
   "execution_count": 12,
   "metadata": {},
   "outputs": [],
   "source": [
    "species_name_matches = dict()\n",
    "\n",
    "with open(infiles['matches'] / 'species-name-matches.json') as f:\n",
    "    for d in json.load(f):\n",
    "        sp = (d.pop('curated_genus'), d.pop('curated_species'))\n",
    "        species_name_matches[sp] = d if d['matched_taxid'] is not None else None"
   ]
  },
  {
   "cell_type": "markdown",
   "metadata": {},
   "source": [
    "### Updated assembly taxids"
   ]
  },
  {
   "cell_type": "code",
   "execution_count": 13,
   "metadata": {},
   "outputs": [],
   "source": [
    "with open(infiles['updated_taxids']) as f:\n",
    "    assembly_taxids = {int(k): v for k, v in json.load(f).items()}"
   ]
  },
  {
   "cell_type": "markdown",
   "metadata": {},
   "source": [
    "## Func defs"
   ]
  },
  {
   "cell_type": "code",
   "execution_count": 14,
   "metadata": {},
   "outputs": [],
   "source": [
    "def resolve_alias(tid):\n",
    "    return aka_taxids.get(tid, tid)\n",
    "\n",
    "def taxid_eq(tid1, tid2):\n",
    "    return resolve_alias(tid1) == resolve_alias(tid2)"
   ]
  },
  {
   "cell_type": "code",
   "execution_count": 15,
   "metadata": {},
   "outputs": [],
   "source": [
    "def gettaxon(tid):\n",
    "    \"\"\"Get taxon by ID, resolving alias IDs.\"\"\"\n",
    "    return taxon_data[resolve_alias(tid)]"
   ]
  },
  {
   "cell_type": "code",
   "execution_count": 16,
   "metadata": {},
   "outputs": [],
   "source": [
    "def getparent(taxon):\n",
    "    \"\"\"Get taxon's parent, handling aliases of parent id.\"\"\"\n",
    "    if isinstance(taxon, int):\n",
    "        taxon = gettaxon(taxon)\n",
    "        \n",
    "    try:\n",
    "        return gettaxon(taxon['parent_taxid'])\n",
    "    except KeyError:\n",
    "        return None"
   ]
  },
  {
   "cell_type": "code",
   "execution_count": 17,
   "metadata": {},
   "outputs": [],
   "source": [
    "def iter_ancestors(taxon, incself=False):\n",
    "    if isinstance(taxon, int):\n",
    "        taxon = gettaxon(taxon)\n",
    "    if not incself:\n",
    "        taxon = getparent(taxon)\n",
    "        \n",
    "    while taxon is not None:\n",
    "        yield taxon\n",
    "        taxon = getparent(taxon)"
   ]
  },
  {
   "cell_type": "markdown",
   "metadata": {},
   "source": [
    "## Manual edit data"
   ]
  },
  {
   "cell_type": "code",
   "execution_count": 18,
   "metadata": {},
   "outputs": [],
   "source": [
    "manual_species_matches = {\n",
    "    ('Actinomyces', 'odontolyticus'): 1660,\n",
    "    ('Azospirillum', 'brasilense'): 192,\n",
    "    ('Francisella', 'noatunensis'): 657445,\n",
    "    ('Lachnoclostridium', '[Clostridium] clostridioforme'): 1531,\n",
    "    ('Mobiluncus', 'curtisii'): 2051,\n",
    "    ('Mycobacterium', 'intracellulare'): 1767,\n",
    "    ('Pectobacterium', 'carotovorum'): 554,\n",
    "    ('Pectobacterium', 'wasabiae'): 55208,\n",
    "    ('Photorhabdus', 'luminescens'): 29488,\n",
    "    ('Photorhabdus', 'temperata'): 574560,\n",
    "    ('Pseudoalteromonas', 'haloplanktis'): 228,\n",
    "    ('Pseudomonas', 'pseudoalcaligenes'): 301,\n",
    "    ('Salinispora', 'pacifica'): 351187,\n",
    "    ('Vibrio', 'alginolyticus'): 663,\n",
    "    ('Vibrio', 'tasmaniensis'): 212663,\n",
    "    ('Xanthomonas', 'alfalfae'): 366650,\n",
    "    ('Xanthomonas', 'axonopodis'): 53413,\n",
    "    ('Xanthomonas', 'campestris'): 339,\n",
    "    ('Xanthomonas', 'fuscans'): 366649,\n",
    "    ('Bifidobacterium', 'kashiwanohense'): 630129,\n",
    "    ('Enterobacter', 'xiangfangensis'): 1296536,\n",
    "    ('Mycobacterium', 'africanum'): 33894,\n",
    "    ('Mycobacterium', 'bovis'): 1765,\n",
    "    ('Xanthomonas', 'gardneri'): 2754056,\n",
    "}"
   ]
  },
  {
   "cell_type": "code",
   "execution_count": 19,
   "metadata": {},
   "outputs": [],
   "source": [
    "_rows = [\n",
    "    ('Francisella', 'noatunensis', 299583),\n",
    "    ('Pseudoalteromonas', 'haloplanktis', 0),\n",
    "    ('Xanthomonas', 'alfalfae', 456327),\n",
    "    ('Xanthomonas', 'axonopodis', 1985254),\n",
    "    ('Xanthomonas', 'fuscans', 346),\n",
    "    ('Bifidobacterium', 'kashiwanohense', 1686),\n",
    "    ('Enterobacter', 'xiangfangensis', 158836),\n",
    "    ('Mycobacterium', 'africanum', 1773),\n",
    "    ('Mycobacterium', 'bovis', 1773),\n",
    "    ('Xanthomonas', 'gardneri', 56454),\n",
    "]\n",
    "\n",
    "species_alternate_assignments = pd.DataFrame.from_records(_rows, columns=['genus', 'species', 'taxid'])\n",
    "species_alternate_assignments.set_index(['genus', 'species'], inplace=True)"
   ]
  },
  {
   "cell_type": "code",
   "execution_count": 20,
   "metadata": {},
   "outputs": [],
   "source": [
    "_rows = [\n",
    "    ('Azospirillum', 'brasilense', 1064539, 1, 'remove'),\n",
    "    ('Mobiluncus', 'curtisii', 887899, 1, 'remove'),\n",
    "    ('Mycobacterium', 'intracellulare', 1138383, 1, 'remove'),\n",
    "    ('Pectobacterium', 'carotovorum', 2778550, 2, 'create'),\n",
    "    ('Pectobacterium', 'carotovorum', 180957, 22, 'create'),\n",
    "    ('Pectobacterium', 'carotovorum', 78398, 2, 'create'),\n",
    "    ('Pectobacterium', 'wasabiae', 1905730, 3, 'create'),\n",
    "    ('Photorhabdus', 'luminescens', 2218628, 2, 'create'),\n",
    "    ('Photorhabdus', 'temperata', 230089, 1, 'remove'),\n",
    "    ('Salinispora', 'pacifica', 1137263, 2, 'create'),\n",
    "    ('Salinispora', 'pacifica', 1050199, 3, 'create'),\n",
    "    ('Salinispora', 'pacifica', 999544, 2, 'create'),\n",
    "    ('Salinispora', 'pacifica', 999545, 3, 'create'),\n",
    "    ('Vibrio', 'alginolyticus', 50719, 3, 'create'),\n",
    "    ('Vibrio', 'tasmaniensis', 693153, 1, 'remove'),\n",
    "    ('Xanthomonas', 'campestris', 56459, 5, 'reassign'),\n",
    "    ('Xanthomonas', 'campestris', 56448, 13, 'reassign'),\n",
    "]\n",
    "\n",
    "additional_edits = pd.DataFrame.from_records(_rows, columns=['genus', 'species', 'taxid', 'ngenomes', 'action'])\n",
    "additional_edits.set_index(['genus', 'species'], inplace=True)"
   ]
  },
  {
   "cell_type": "markdown",
   "metadata": {},
   "source": [
    "## Combine manual with automatic matches"
   ]
  },
  {
   "cell_type": "code",
   "execution_count": 21,
   "metadata": {},
   "outputs": [],
   "source": [
    "_rows = []\n",
    "\n",
    "for sp, auto_match in species_name_matches.items():\n",
    "    manual_taxid = manual_species_matches.get(sp)\n",
    "    \n",
    "    if auto_match is None:\n",
    "        assert manual_taxid is not None\n",
    "        _rows.append((*sp, manual_taxid, 'manual'))\n",
    "        \n",
    "    else:\n",
    "        auto_taxid = auto_match['matched_taxid']\n",
    "        \n",
    "        # Assert manual matches confirm auto matches where they exist\n",
    "        assert manual_taxid is None or manual_taxid == auto_taxid\n",
    "\n",
    "        _rows.append((*sp, auto_taxid, 'automatic'))\n",
    "        \n",
    "species_matches = pd.DataFrame.from_records(_rows, columns=['genus', 'species', 'taxid', 'method'])\n",
    "species_matches.set_index(['genus', 'species'], inplace=True)\n",
    "species_matches.sort_index(inplace=True)"
   ]
  },
  {
   "cell_type": "markdown",
   "metadata": {},
   "source": [
    "## Find species/genome -> taxon assignments"
   ]
  },
  {
   "cell_type": "code",
   "execution_count": 22,
   "metadata": {},
   "outputs": [],
   "source": [
    "species_assignments = {sp: int(row['taxid']) for sp, row in species_matches.iterrows()}\n",
    "\n",
    "# Override matches with alternate assigments where appropriate\n",
    "for sp, row in species_alternate_assignments.iterrows():\n",
    "    taxid = row['taxid']\n",
    "    species_assignments[sp] = None if taxid == 0 else int(taxid)"
   ]
  },
  {
   "cell_type": "code",
   "execution_count": 23,
   "metadata": {},
   "outputs": [],
   "source": [
    "genome_taxon_assignments = dict()\n",
    "\n",
    "for sp in species_names:\n",
    "    sp_taxid = species_assignments[sp]\n",
    "    \n",
    "    # Additional edits for this species\n",
    "    sp_edits = {\n",
    "        taxid: (ngenomes, action)\n",
    "        for sp2, (taxid, ngenomes, action)\n",
    "        in additional_edits.iterrows()\n",
    "        if sp2 == sp\n",
    "    }\n",
    "    \n",
    "    edit_counts = Counter()\n",
    "        \n",
    "    for key in genomes_by_species[sp]:\n",
    "        assembly_id = assembly_ids[key]\n",
    "        assembly_taxid = assembly_taxids[assembly_id]\n",
    "        \n",
    "        # Go through ancestors to see if any edits apply\n",
    "        for ancestor in iter_ancestors(assembly_taxid, incself=True):\n",
    "            ataxid = ancestor['taxid']\n",
    "            if ataxid in sp_edits:\n",
    "                action = sp_edits[ataxid][1]\n",
    "                \n",
    "                # Assign according to edit\n",
    "                if action in ('reassign', 'create'):\n",
    "                    genome_taxon_assignments[key] = ataxid\n",
    "                elif action == 'remove':\n",
    "                    genome_taxon_assignments[key] = None\n",
    "                else:\n",
    "                    assert 0\n",
    "                    \n",
    "                edit_counts[ataxid] += 1\n",
    "                break\n",
    "                \n",
    "        else:\n",
    "            # Assign to taxon of species\n",
    "            genome_taxon_assignments[key] = sp_taxid\n",
    "            \n",
    "    # Check that edits were applied to the appropriate # of genomes\n",
    "    assert edit_counts == {taxid: n for taxid, (n, action) in sp_edits.items()}"
   ]
  },
  {
   "cell_type": "markdown",
   "metadata": {},
   "source": [
    "## Analysis"
   ]
  },
  {
   "cell_type": "markdown",
   "metadata": {},
   "source": [
    "### Merged taxa"
   ]
  },
  {
   "cell_type": "code",
   "execution_count": 24,
   "metadata": {},
   "outputs": [],
   "source": [
    "merged_taxids = {taxid for taxid, cnt in Counter(species_matches['taxid']).items() if cnt > 1}"
   ]
  },
  {
   "cell_type": "code",
   "execution_count": 25,
   "metadata": {},
   "outputs": [
    {
     "data": {
      "text/html": [
       "<div>\n",
       "<style scoped>\n",
       "    .dataframe tbody tr th:only-of-type {\n",
       "        vertical-align: middle;\n",
       "    }\n",
       "\n",
       "    .dataframe tbody tr th {\n",
       "        vertical-align: top;\n",
       "    }\n",
       "\n",
       "    .dataframe thead th {\n",
       "        text-align: right;\n",
       "    }\n",
       "</style>\n",
       "<table border=\"1\" class=\"dataframe\">\n",
       "  <thead>\n",
       "    <tr style=\"text-align: right;\">\n",
       "      <th></th>\n",
       "      <th></th>\n",
       "      <th>taxid</th>\n",
       "      <th>method</th>\n",
       "    </tr>\n",
       "    <tr>\n",
       "      <th>genus</th>\n",
       "      <th>species</th>\n",
       "      <th></th>\n",
       "      <th></th>\n",
       "    </tr>\n",
       "  </thead>\n",
       "  <tbody>\n",
       "    <tr>\n",
       "      <th rowspan=\"2\" valign=\"top\">Bacillus</th>\n",
       "      <th>mycoides</th>\n",
       "      <td>1405</td>\n",
       "      <td>automatic</td>\n",
       "    </tr>\n",
       "    <tr>\n",
       "      <th>weihenstephanensis</th>\n",
       "      <td>1405</td>\n",
       "      <td>automatic</td>\n",
       "    </tr>\n",
       "    <tr>\n",
       "      <th rowspan=\"2\" valign=\"top\">Streptomyces</th>\n",
       "      <th>californicus</th>\n",
       "      <td>67351</td>\n",
       "      <td>automatic</td>\n",
       "    </tr>\n",
       "    <tr>\n",
       "      <th>puniceus</th>\n",
       "      <td>67351</td>\n",
       "      <td>automatic</td>\n",
       "    </tr>\n",
       "    <tr>\n",
       "      <th rowspan=\"2\" valign=\"top\">Vibrio</th>\n",
       "      <th>albensis</th>\n",
       "      <td>666</td>\n",
       "      <td>automatic</td>\n",
       "    </tr>\n",
       "    <tr>\n",
       "      <th>cholerae</th>\n",
       "      <td>666</td>\n",
       "      <td>automatic</td>\n",
       "    </tr>\n",
       "  </tbody>\n",
       "</table>\n",
       "</div>"
      ],
      "text/plain": [
       "                                 taxid     method\n",
       "genus        species                             \n",
       "Bacillus     mycoides             1405  automatic\n",
       "             weihenstephanensis   1405  automatic\n",
       "Streptomyces californicus        67351  automatic\n",
       "             puniceus            67351  automatic\n",
       "Vibrio       albensis              666  automatic\n",
       "             cholerae              666  automatic"
      ]
     },
     "execution_count": 25,
     "metadata": {},
     "output_type": "execute_result"
    }
   ],
   "source": [
    "species_matches[species_matches['taxid'].isin(merged_taxids)]"
   ]
  },
  {
   "cell_type": "markdown",
   "metadata": {},
   "source": [
    "## Write output"
   ]
  },
  {
   "cell_type": "code",
   "execution_count": 26,
   "metadata": {},
   "outputs": [],
   "source": [
    "species_matches.to_csv(processed_out / '201218-species-taxon-matches.csv')\n",
    "species_alternate_assignments.to_csv(processed_out / '201218-species-alternate-taxonomy-assignments.csv')\n",
    "additional_edits.to_csv(processed_out / '201218-additional-taxonomy-edits.csv')"
   ]
  },
  {
   "cell_type": "code",
   "execution_count": 27,
   "metadata": {},
   "outputs": [],
   "source": [
    "with open('tmp/genome-taxon-assignments.json', 'wt') as f:\n",
    "    json.dump(genome_taxon_assignments, f)"
   ]
  }
 ],
 "metadata": {
  "kernelspec": {
   "display_name": "MIDAS 2",
   "language": "python",
   "name": "midas2"
  },
  "language_info": {
   "codemirror_mode": {
    "name": "ipython",
    "version": 3
   },
   "file_extension": ".py",
   "mimetype": "text/x-python",
   "name": "python",
   "nbconvert_exporter": "python",
   "pygments_lexer": "ipython3",
   "version": "3.6.10"
  }
 },
 "nbformat": 4,
 "nbformat_minor": 4
}
