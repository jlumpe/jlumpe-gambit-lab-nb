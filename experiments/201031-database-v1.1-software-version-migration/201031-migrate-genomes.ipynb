{
 "cells": [
  {
   "cell_type": "markdown",
   "metadata": {},
   "source": [
    "# 201031 migrate genomes"
   ]
  },
  {
   "cell_type": "code",
   "execution_count": 1,
   "metadata": {},
   "outputs": [],
   "source": [
    "import json\n",
    "from pathlib import Path\n",
    "from zipfile import ZipFile\n",
    "from gzip import GzipFile\n",
    "\n",
    "from tqdm import tqdm\n",
    "from sqlalchemy import create_engine\n",
    "from sqlalchemy.orm import sessionmaker"
   ]
  },
  {
   "cell_type": "code",
   "execution_count": 2,
   "metadata": {},
   "outputs": [],
   "source": [
    "from midas.db.models import Genome, ReferenceGenomeSet, Taxon, AnnotatedGenome\n",
    "from midas.db.migrate import init_db"
   ]
  },
  {
   "cell_type": "markdown",
   "metadata": {},
   "source": [
    "## File paths"
   ]
  },
  {
   "cell_type": "code",
   "execution_count": 3,
   "metadata": {},
   "outputs": [],
   "source": [
    "infiles = dict(\n",
    "    v1_archive='/home/jared/projects/midas/data/v1/archives/refseq_curated_1.1_beta_200525.midas-archive.gz',\n",
    ")"
   ]
  },
  {
   "cell_type": "code",
   "execution_count": 4,
   "metadata": {},
   "outputs": [],
   "source": [
    "dbfile = Path('./db.sqlite')"
   ]
  },
  {
   "cell_type": "code",
   "execution_count": 5,
   "metadata": {},
   "outputs": [],
   "source": [
    "tmpdir = Path('tmp')\n",
    "tmpdir.mkdir(exist_ok=True)"
   ]
  },
  {
   "cell_type": "markdown",
   "metadata": {},
   "source": [
    "## Open v1.1 data"
   ]
  },
  {
   "cell_type": "code",
   "execution_count": 6,
   "metadata": {},
   "outputs": [
    {
     "data": {
      "text/plain": [
       "'{\"archive_version\": \"1.0\"}'"
      ]
     },
     "execution_count": 6,
     "metadata": {},
     "output_type": "execute_result"
    }
   ],
   "source": [
    "archive_zip = ZipFile(GzipFile(infiles['v1_archive']))\n",
    "archive_zip.read('info').decode()"
   ]
  },
  {
   "cell_type": "markdown",
   "metadata": {},
   "source": [
    "## Initialize database"
   ]
  },
  {
   "cell_type": "code",
   "execution_count": 7,
   "metadata": {},
   "outputs": [],
   "source": [
    "if dbfile.is_file():\n",
    "    dbfile.unlink()"
   ]
  },
  {
   "cell_type": "code",
   "execution_count": 8,
   "metadata": {},
   "outputs": [],
   "source": [
    "engine = create_engine('sqlite:///%s' % dbfile)\n",
    "Session = sessionmaker(engine)"
   ]
  },
  {
   "cell_type": "code",
   "execution_count": 9,
   "metadata": {},
   "outputs": [],
   "source": [
    "init_db(engine)"
   ]
  },
  {
   "cell_type": "code",
   "execution_count": 10,
   "metadata": {},
   "outputs": [],
   "source": [
    "session = Session()"
   ]
  },
  {
   "cell_type": "markdown",
   "metadata": {},
   "source": [
    "## Convert genomes"
   ]
  },
  {
   "cell_type": "code",
   "execution_count": 11,
   "metadata": {},
   "outputs": [],
   "source": [
    "genomefiles = [n for n in archive_zip.namelist() if n.startswith('genomes/')]"
   ]
  },
  {
   "cell_type": "code",
   "execution_count": 12,
   "metadata": {},
   "outputs": [],
   "source": [
    "genome_taxids = set()"
   ]
  },
  {
   "cell_type": "code",
   "execution_count": 13,
   "metadata": {},
   "outputs": [
    {
     "name": "stderr",
     "output_type": "stream",
     "text": [
      "100%|██████████| 50752/50752 [00:10<00:00, 4867.46it/s]\n"
     ]
    }
   ],
   "source": [
    "for fname in tqdm(genomefiles):\n",
    "    with archive_zip.open(fname) as f:\n",
    "        gdata = json.load(f)\n",
    "        \n",
    "    summary = gdata['gb_summary']\n",
    "\n",
    "    # Accession #s\n",
    "    refseq_acc = gdata['gb_acc']\n",
    "    assert refseq_acc.startswith('GCF_')\n",
    "    assert summary['synonym']['refseq'] == refseq_acc\n",
    "    genbank_acc = summary['synonym']['genbank']\n",
    "    assert genbank_acc.startswith('GCA_')\n",
    "    \n",
    "    extra = dict(\n",
    "        ncbi_taxid=gdata['gb_taxid'],\n",
    "        sequence_source=gdata['meta']['sequence_source'],\n",
    "    )\n",
    "        \n",
    "    genome = Genome(\n",
    "        key=gdata['key'],\n",
    "        version=gdata['key_version'],\n",
    "        description=gdata['description'],\n",
    "        entrez_db=gdata['gb_db'],\n",
    "        entrez_id=gdata['gb_id'],\n",
    "        genbank_acc=genbank_acc,\n",
    "        refseq_acc=refseq_acc,\n",
    "        extra=extra,\n",
    "    )\n",
    "    \n",
    "    session.add(genome)\n",
    "    \n",
    "    genome_taxids.add(gdata['gb_taxid'])"
   ]
  },
  {
   "cell_type": "code",
   "execution_count": 14,
   "metadata": {},
   "outputs": [],
   "source": [
    "session.commit()"
   ]
  },
  {
   "cell_type": "markdown",
   "metadata": {},
   "source": [
    "## Get taxonomy IDs for download"
   ]
  },
  {
   "cell_type": "code",
   "execution_count": 15,
   "metadata": {},
   "outputs": [],
   "source": [
    "with open(tmpdir / 'genome_taxids.json', 'w') as f:\n",
    "    json.dump(sorted(genome_taxids), f)"
   ]
  }
 ],
 "metadata": {
  "kernelspec": {
   "display_name": "MIDAS 2",
   "language": "python",
   "name": "midas2"
  },
  "language_info": {
   "codemirror_mode": {
    "name": "ipython",
    "version": 3
   },
   "file_extension": ".py",
   "mimetype": "text/x-python",
   "name": "python",
   "nbconvert_exporter": "python",
   "pygments_lexer": "ipython3",
   "version": "3.6.12"
  }
 },
 "nbformat": 4,
 "nbformat_minor": 4
}
