{
 "cells": [
  {
   "cell_type": "markdown",
   "metadata": {},
   "source": [
    "# 201125 unmatched species taxonomy trees"
   ]
  },
  {
   "cell_type": "code",
   "execution_count": 1,
   "metadata": {},
   "outputs": [],
   "source": [
    "exptname = '201031-database-v1.1-software-version-migration'\n",
    "datestr = '201125'\n",
    "nbname = datestr + '-unmatched-species-taxonomy-trees'"
   ]
  },
  {
   "cell_type": "code",
   "execution_count": 2,
   "metadata": {},
   "outputs": [],
   "source": [
    "import json\n",
    "from pathlib import Path\n",
    "import re\n",
    "from zipfile import ZipFile\n",
    "from gzip import GzipFile\n",
    "from collections import Counter"
   ]
  },
  {
   "cell_type": "markdown",
   "metadata": {},
   "source": [
    "## File paths"
   ]
  },
  {
   "cell_type": "code",
   "execution_count": 3,
   "metadata": {},
   "outputs": [],
   "source": [
    "infiles = dict(\n",
    "    v11_archive='/home/jared/projects/midas/data/v1/archives/refseq_curated_1.1_beta_200525.midas-archive.gz',\n",
    "    taxa=Path('../../data/intermediate/201031-database-v1.1-software-version-migration/201102-download-taxa/'),\n",
    "    taxonomy_original=Path('../../data/intermediate/201031-database-v1.1-software-version-migration/201113-original-genome-taxa/'),\n",
    "    taxonomy_original_extra=Path('../../data/intermediate/201031-database-v1.1-software-version-migration/201124-original-taxa-extra-info/'),\n",
    "    matches=Path('../../data/intermediate/201031-database-v1.1-software-version-migration/201122-taxon-name-matching/'),\n",
    ")"
   ]
  },
  {
   "cell_type": "code",
   "execution_count": 4,
   "metadata": {},
   "outputs": [],
   "source": [
    "outdir = Path('../../reports/') / exptname / nbname\n",
    "outdir.mkdir(exist_ok=True, parents=True)"
   ]
  },
  {
   "cell_type": "markdown",
   "metadata": {},
   "source": [
    "## Load data"
   ]
  },
  {
   "cell_type": "markdown",
   "metadata": {},
   "source": [
    "### Archive files"
   ]
  },
  {
   "cell_type": "code",
   "execution_count": 5,
   "metadata": {},
   "outputs": [
    {
     "data": {
      "text/plain": [
       "'{\"archive_version\": \"1.0\"}'"
      ]
     },
     "execution_count": 5,
     "metadata": {},
     "output_type": "execute_result"
    }
   ],
   "source": [
    "archive_v11 = ZipFile(GzipFile(infiles['v11_archive']))\n",
    "archive_v11.read('info').decode()"
   ]
  },
  {
   "cell_type": "code",
   "execution_count": 6,
   "metadata": {},
   "outputs": [],
   "source": [
    "with archive_v11.open('genome_sets/midas/assembly/curated') as f:\n",
    "    gset_data = json.load(f)"
   ]
  },
  {
   "cell_type": "code",
   "execution_count": 7,
   "metadata": {},
   "outputs": [
    {
     "data": {
      "text/plain": [
       "(419, 1438)"
      ]
     },
     "execution_count": 7,
     "metadata": {},
     "output_type": "execute_result"
    }
   ],
   "source": [
    "genus_names = set()\n",
    "species_names = set()\n",
    "\n",
    "for adata in gset_data['annotations'].values():\n",
    "    genus_names.add(adata['tax_genus'])\n",
    "    species_names.add((adata['tax_genus'], adata['tax_species']))\n",
    "    \n",
    "species_names = sorted(species_names)\n",
    "genus_names = sorted(genus_names)\n",
    "    \n",
    "len(genus_names), len(species_names)"
   ]
  },
  {
   "cell_type": "markdown",
   "metadata": {},
   "source": [
    "### Taxonomy"
   ]
  },
  {
   "cell_type": "markdown",
   "metadata": {},
   "source": [
    "#### Current data"
   ]
  },
  {
   "cell_type": "code",
   "execution_count": 8,
   "metadata": {},
   "outputs": [],
   "source": [
    "with open(infiles['taxa'] / 'taxa.json') as f:\n",
    "    taxon_data = json.load(f)\n",
    "    \n",
    "# Convert to dict indexed by ID\n",
    "taxon_data = {tdata['taxid']: tdata for tdata in taxon_data}"
   ]
  },
  {
   "cell_type": "code",
   "execution_count": 9,
   "metadata": {},
   "outputs": [],
   "source": [
    "with open(infiles['taxa'] / 'aka_taxids.json') as f:\n",
    "    aka_taxids = json.load(f)\n",
    "    \n",
    "aka_taxids = {int(id1): id2 for id1, id2 in aka_taxids.items()}"
   ]
  },
  {
   "cell_type": "code",
   "execution_count": 10,
   "metadata": {},
   "outputs": [],
   "source": [
    "# Check taxon_data dict doesn't include any alias taxonomy IDs\n",
    "for taxid, taxon in taxon_data.items():\n",
    "    assert taxon['taxid'] == taxid\n",
    "    assert taxid not in aka_taxids\n",
    "    assert taxon['parent_taxid'] == 0 or taxon['parent_taxid'] in taxon_data"
   ]
  },
  {
   "cell_type": "code",
   "execution_count": 11,
   "metadata": {},
   "outputs": [],
   "source": [
    "# Build dictionary of parent ID relationships\n",
    "parent_rels = dict()\n",
    "\n",
    "for taxid, taxon in taxon_data.items():\n",
    "    ptaxid = taxon['parent_taxid']\n",
    "    if ptaxid != 0:\n",
    "        parent_rels[taxid] = ptaxid"
   ]
  },
  {
   "cell_type": "markdown",
   "metadata": {},
   "source": [
    "#### Original 2016 data"
   ]
  },
  {
   "cell_type": "code",
   "execution_count": 12,
   "metadata": {},
   "outputs": [],
   "source": [
    "with open(infiles['taxonomy_original'] / 'original-tax-summaries.json') as f:\n",
    "    orig_tax_summaries = {int(tid): s for tid, s in json.load(f).items()}"
   ]
  },
  {
   "cell_type": "code",
   "execution_count": 13,
   "metadata": {},
   "outputs": [],
   "source": [
    "with open(infiles['taxonomy_original'] / 'species-genome-lcas.json') as f:\n",
    "    species_genome_lcas = json.load(f)\n",
    "\n",
    "species_genome_lcas = {(d['curated_genus'], d['curated_species']): d['taxid'] for d in species_genome_lcas}"
   ]
  },
  {
   "cell_type": "raw",
   "metadata": {},
   "source": [
    "with open(infiles['taxonomy_original'] / 'genome-matching-taxids-by-species.json') as f:\n",
    "    species_genome_taxids = json.load(f)\n",
    "\n",
    "species_genome_taxids = {(d['curated_genus'], d['curated_species']): set(d['taxids']) for d in species_genome_taxids}"
   ]
  },
  {
   "cell_type": "code",
   "execution_count": 14,
   "metadata": {},
   "outputs": [],
   "source": [
    "with open(infiles['taxonomy_original_extra'] / 'original-genome-taxid-counts.json') as f:\n",
    "    _orig_genome_taxid_counts_json = json.load(f)\n",
    "\n",
    "orig_genome_taxid_counts_filtered = {\n",
    "    (d['curated_genus'], d['curated_species']): {int(taxid): cnt for taxid, cnt in d['filtered_counts'].items()}\n",
    "    for d in _orig_genome_taxid_counts_json\n",
    "}"
   ]
  },
  {
   "cell_type": "markdown",
   "metadata": {},
   "source": [
    "#### Name matches"
   ]
  },
  {
   "cell_type": "code",
   "execution_count": 15,
   "metadata": {},
   "outputs": [],
   "source": [
    "species_name_matches = dict()\n",
    "\n",
    "with open(infiles['matches'] / 'species-name-matches.json') as f:\n",
    "    for d in json.load(f):\n",
    "        sp = (d.pop('curated_genus'), d.pop('curated_species'))\n",
    "        species_name_matches[sp] = d if d['matched_taxid'] is not None else None"
   ]
  },
  {
   "cell_type": "markdown",
   "metadata": {},
   "source": [
    "## Func defs"
   ]
  },
  {
   "cell_type": "code",
   "execution_count": 16,
   "metadata": {},
   "outputs": [],
   "source": [
    "def only(it):\n",
    "    \"\"\"Get the only element of an iterable if it has length one, else raise an error.\"\"\"\n",
    "    (item,) = it\n",
    "    return item"
   ]
  },
  {
   "cell_type": "code",
   "execution_count": 17,
   "metadata": {},
   "outputs": [],
   "source": [
    "def resolve_alias(tid):\n",
    "    return aka_taxids.get(tid, tid)"
   ]
  },
  {
   "cell_type": "code",
   "execution_count": 18,
   "metadata": {},
   "outputs": [],
   "source": [
    "def gettaxon(tid):\n",
    "    \"\"\"Get taxon by ID, resolving alias IDs.\"\"\"\n",
    "    return taxon_data[resolve_alias(tid)]"
   ]
  },
  {
   "cell_type": "code",
   "execution_count": 19,
   "metadata": {},
   "outputs": [],
   "source": [
    "def getparent(taxon):\n",
    "    \"\"\"Get taxon's parent, handling aliases of parent id.\"\"\"\n",
    "    if isinstance(taxon, int):\n",
    "        taxon = gettaxon(taxon)\n",
    "        \n",
    "    try:\n",
    "        return gettaxon(taxon['parent_taxid'])\n",
    "    except KeyError:\n",
    "        return None"
   ]
  },
  {
   "cell_type": "code",
   "execution_count": 20,
   "metadata": {},
   "outputs": [],
   "source": [
    "def iter_ancestors(taxon, incself=False):\n",
    "    if isinstance(taxon, int):\n",
    "        taxon = gettaxon(taxon)\n",
    "    if not incself:\n",
    "        taxon = getparent(taxon)\n",
    "        \n",
    "    while taxon is not None:\n",
    "        yield taxon\n",
    "        taxon = getparent(taxon)"
   ]
  },
  {
   "cell_type": "code",
   "execution_count": 21,
   "metadata": {},
   "outputs": [],
   "source": [
    "def taxon_url(taxid):\n",
    "    return 'https://www.ncbi.nlm.nih.gov/Taxonomy/Browser/wwwtax.cgi?mode=Info&id=%d' % taxid"
   ]
  },
  {
   "cell_type": "code",
   "execution_count": 22,
   "metadata": {},
   "outputs": [],
   "source": [
    "def make_tree_child_map(leaf_taxids, root_taxid=None):\n",
    "    children = dict()\n",
    "    roots = set()\n",
    "    \n",
    "    heads = set(leaf_taxids)\n",
    "    \n",
    "    while heads:\n",
    "        taxid = heads.pop()\n",
    "            \n",
    "        # Is root\n",
    "        if taxid == root_taxid or taxid not in parent_rels:\n",
    "            roots.add(taxid)\n",
    "            continue\n",
    "        \n",
    "        ptaxid = parent_rels[taxid]\n",
    "        \n",
    "        if ptaxid in children:\n",
    "            children[ptaxid].add(taxid)\n",
    "        \n",
    "        else:\n",
    "            children[ptaxid] = {taxid}\n",
    "            heads.add(ptaxid)\n",
    "\n",
    "    if len(roots) > 1:\n",
    "        raise ValueError('More than one root found')\n",
    "    \n",
    "    root = only(roots)\n",
    "    return children, root"
   ]
  },
  {
   "cell_type": "code",
   "execution_count": 23,
   "metadata": {},
   "outputs": [],
   "source": [
    "def sum_counts_recursive(child_map, root, counts):\n",
    "    rcounts = dict()\n",
    "    \n",
    "    def _count_subtree(taxid):\n",
    "        cnt = counts.get(taxid, 0)\n",
    "        for child in child_map.get(taxid, []):\n",
    "            cnt += _count_subtree(child)\n",
    "        rcounts[taxid] = cnt\n",
    "        return cnt\n",
    "    \n",
    "    _count_subtree(root)\n",
    "    \n",
    "    return rcounts"
   ]
  },
  {
   "cell_type": "markdown",
   "metadata": {},
   "source": [
    "## Tree report generation"
   ]
  },
  {
   "cell_type": "markdown",
   "metadata": {},
   "source": [
    "### Config"
   ]
  },
  {
   "cell_type": "code",
   "execution_count": 24,
   "metadata": {},
   "outputs": [],
   "source": [
    "report_species = [sp for sp in species_names if species_name_matches[sp] is None]\n",
    "report_species_ids = {sp: re.sub(r'[^a-z-]', '', re.sub(r'\\s+', '-', ' '.join(sp).lower())) for sp in report_species}"
   ]
  },
  {
   "cell_type": "code",
   "execution_count": 25,
   "metadata": {},
   "outputs": [],
   "source": [
    "report_attrs = dict(\n",
    "    title=datestr + ' unmatched species taxonomy trees',\n",
    "    tree_indent_px=15,\n",
    ")"
   ]
  },
  {
   "cell_type": "markdown",
   "metadata": {},
   "source": [
    "### Page template"
   ]
  },
  {
   "cell_type": "code",
   "execution_count": 26,
   "metadata": {},
   "outputs": [],
   "source": [
    "REPORT_CSS = '''\n",
    "body {\n",
    "    margin: 24px;\n",
    "    font-size: 1.4em;\n",
    "}\n",
    "\n",
    "h1 {\n",
    "    font-size: 4rem !important;\n",
    "}\n",
    "\n",
    "h2 {\n",
    "    font-size: 2.5rem !important;\n",
    "    margin-top: 6rem;\n",
    "}\n",
    "\n",
    ".section-header {\n",
    "}\n",
    "\n",
    "table {\n",
    "    border-collapse: collapse;\n",
    "}\n",
    "\n",
    "table > tbody > tr:nth-child(even) {\n",
    "    background: #eeeeee;\n",
    "}\n",
    "\n",
    "td, th {\n",
    "    padding: 6px 15px !important;\n",
    "}\n",
    "\n",
    ".text-gray {\n",
    "    color: #999;\n",
    "}\n",
    "'''"
   ]
  },
  {
   "cell_type": "code",
   "execution_count": 27,
   "metadata": {},
   "outputs": [],
   "source": [
    "REPORT_PRE = '''\n",
    "<!DOCTYPE HTML>\n",
    "<html lang=\"en\">\n",
    "    <head>\n",
    "        <meta name=\"author\" content=\"Jared Lumpe\">\n",
    "        <title>{title}</title>\n",
    "        <link rel=\"stylesheet\" href=\"https://cdnjs.cloudflare.com/ajax/libs/skeleton/2.0.4/skeleton.min.css\"/>\n",
    "        <style>{css}</style>\n",
    "    </head>\n",
    "    <body>\n",
    "        <h1>{title}</h1>\n",
    "'''.format(**report_attrs, css=REPORT_CSS)\n",
    "\n",
    "REPORT_POST = '''\n",
    "    </body>\n",
    "</html>\n",
    "'''"
   ]
  },
  {
   "cell_type": "markdown",
   "metadata": {},
   "source": [
    "### Contents"
   ]
  },
  {
   "cell_type": "code",
   "execution_count": 28,
   "metadata": {},
   "outputs": [],
   "source": [
    "def write_contents_table(f):\n",
    "    f.write('''\n",
    "    <h2>Contents</h2>\n",
    "    \n",
    "    <ol>\n",
    "    ''')\n",
    "    \n",
    "    for sp in report_species:\n",
    "        f.write('<li><a href=\"#%s\">%s %s</a></li>\\n' % (report_species_ids[sp], *sp))\n",
    "    \n",
    "    f.write('</ol>\\n')"
   ]
  },
  {
   "cell_type": "markdown",
   "metadata": {},
   "source": [
    "### Sections"
   ]
  },
  {
   "cell_type": "code",
   "execution_count": 29,
   "metadata": {},
   "outputs": [],
   "source": [
    "orig_tax_summaries_by_canonical_taxid = {resolve_alias(taxid): summary for taxid, summary in orig_tax_summaries.items()}"
   ]
  },
  {
   "cell_type": "code",
   "execution_count": 30,
   "metadata": {},
   "outputs": [],
   "source": [
    "def write_taxonomy_tree_table(f, child_map, root_taxid, counts, rcounts):\n",
    "    def _write_subtree(taxid, depth):\n",
    "        data = dict(gettaxon(taxid))\n",
    "        data['url'] = taxon_url(taxid)\n",
    "        data['indent'] = depth * report_attrs['tree_indent_px']\n",
    "        data['count'] = counts.get(taxid, 0) or ''\n",
    "        data['rcount'] = rcounts.get(taxid, 0)\n",
    "        \n",
    "        orig_summary = orig_tax_summaries_by_canonical_taxid.get(taxid)\n",
    "        if orig_summary is not None:\n",
    "            orig_name = orig_summary['scientificname']\n",
    "            if orig_name != data['scientific_name']:\n",
    "                data['orig_name'] = orig_name\n",
    "                data['orig_name_class'] = ''\n",
    "            else:\n",
    "                data['orig_name'] = '(same)'\n",
    "                data['orig_name_class'] = 'text-gray'\n",
    "        else:\n",
    "            data['orig_name'] = ''\n",
    "            data['orig_name_class'] = ''\n",
    "        \n",
    "        f.write('''\n",
    "        <tr>\n",
    "            <td><a href=\"{url}\" target=\"_blank\" style=\"margin-left: {indent}px;\">\n",
    "                {scientific_name}\n",
    "            </a></td>\n",
    "            <td>{taxid}</td>\n",
    "            <td>{rank}</td>\n",
    "            <td class=\"{orig_name_class}\">{orig_name}</td>\n",
    "            <td style=\"text-align: right\">{count}</td>\n",
    "            <td style=\"text-align: right\">({rcount})</td>\n",
    "        </tr>\n",
    "        '''.format(**data))\n",
    "\n",
    "        for child_taxid in child_map.get(taxid, []):\n",
    "            _write_subtree(child_taxid, depth + 1)\n",
    "\n",
    "    f.write('''\n",
    "    <table class=\"taxonomy-tree\">\n",
    "    <thead><tr>\n",
    "        <th>Name</th>\n",
    "        <th>ID</th>\n",
    "        <th>Rank</th>\n",
    "        <th>2016 Name</th>\n",
    "        <th colspan=\"2\">2016 Genome Count</th>\n",
    "    </tr></thead>\n",
    "    <tbody>\n",
    "    ''')\n",
    "    \n",
    "    _write_subtree(root_taxid, 0)\n",
    "    \n",
    "    f.write('</tbody></table>')"
   ]
  },
  {
   "cell_type": "code",
   "execution_count": 31,
   "metadata": {},
   "outputs": [],
   "source": [
    "def write_report_section(f, sp):\n",
    "    lca_taxid = species_genome_lcas[sp]\n",
    "    lca = gettaxon(lca_taxid) \n",
    "\n",
    "    counts = orig_genome_taxid_counts_filtered[sp]\n",
    "    counts = {resolve_alias(taxid): cnt for taxid, cnt in counts.items()}\n",
    "    child_map, root = make_tree_child_map(counts.keys(), lca['taxid'])\n",
    "    rcounts = sum_counts_recursive(child_map, root, counts)\n",
    "    \n",
    "    f.write('<h2 id=\"%s\" class=\"section-header\">%s %s (%d genomes)</h2>\\n\\n' % (report_species_ids[sp], *sp, sum(counts.values())))\n",
    "    write_taxonomy_tree_table(f, child_map, root, counts, rcounts)"
   ]
  },
  {
   "cell_type": "markdown",
   "metadata": {},
   "source": [
    "### Generate report"
   ]
  },
  {
   "cell_type": "code",
   "execution_count": 32,
   "metadata": {},
   "outputs": [],
   "source": [
    "with open(outdir / (nbname + '-report.html'), 'w') as f:\n",
    "    f.write(REPORT_PRE)\n",
    "    \n",
    "    write_contents_table(f)\n",
    "    \n",
    "    for sp in report_species:\n",
    "        f.write('\\n\\n')\n",
    "        write_report_section(f, sp)\n",
    "            \n",
    "    f.write(REPORT_POST)"
   ]
  }
 ],
 "metadata": {
  "kernelspec": {
   "display_name": "MIDAS 2",
   "language": "python",
   "name": "midas2"
  },
  "language_info": {
   "codemirror_mode": {
    "name": "ipython",
    "version": 3
   },
   "file_extension": ".py",
   "mimetype": "text/x-python",
   "name": "python",
   "nbconvert_exporter": "python",
   "pygments_lexer": "ipython3",
   "version": "3.6.10"
  }
 },
 "nbformat": 4,
 "nbformat_minor": 4
}
