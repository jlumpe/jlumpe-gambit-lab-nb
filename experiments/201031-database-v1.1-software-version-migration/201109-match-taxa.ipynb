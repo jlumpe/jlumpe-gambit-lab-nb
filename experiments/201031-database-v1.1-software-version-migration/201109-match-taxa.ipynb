{
 "cells": [
  {
   "cell_type": "markdown",
   "metadata": {},
   "source": [
    "# 2011109 Match taxa"
   ]
  },
  {
   "cell_type": "code",
   "execution_count": 1,
   "metadata": {},
   "outputs": [],
   "source": [
    "exptname = '201031-database-v1.1-software-version-migration'\n",
    "datestr = '201109'\n",
    "nbname = datestr + '-match-taxa'"
   ]
  },
  {
   "cell_type": "code",
   "execution_count": 2,
   "metadata": {},
   "outputs": [],
   "source": [
    "import json\n",
    "from pathlib import Path\n",
    "from zipfile import ZipFile\n",
    "from gzip import GzipFile\n",
    "from datetime import date\n",
    "import re\n",
    "\n",
    "\n",
    "import pandas as pd\n",
    "from tqdm import tqdm\n",
    "from sqlalchemy import create_engine\n",
    "from sqlalchemy.orm import sessionmaker"
   ]
  },
  {
   "cell_type": "code",
   "execution_count": 3,
   "metadata": {},
   "outputs": [],
   "source": [
    "from midas.db.models import Genome, ReferenceGenomeSet, Taxon, AnnotatedGenome\n",
    "\n",
    "from midas.ncbi import entrez_url"
   ]
  },
  {
   "cell_type": "markdown",
   "metadata": {},
   "source": [
    "## File paths"
   ]
  },
  {
   "cell_type": "code",
   "execution_count": 4,
   "metadata": {},
   "outputs": [],
   "source": [
    "infiles = dict(\n",
    "    v1_archive='/home/jared/projects/midas/data/v1/archives/refseq_curated_1.1_beta_200525.midas-archive.gz',\n",
    "    taxa=Path('../../data/intermediate/201031-database-v1.1-software-version-migration/201102-download-taxa/'),\n",
    ")"
   ]
  },
  {
   "cell_type": "code",
   "execution_count": 5,
   "metadata": {},
   "outputs": [],
   "source": [
    "dbfile = Path('./db.sqlite')"
   ]
  },
  {
   "cell_type": "code",
   "execution_count": 6,
   "metadata": {},
   "outputs": [],
   "source": [
    "processed_out = Path('../../data/processed/') / exptname / nbname\n",
    "processed_out.mkdir(exist_ok=True, parents=True)"
   ]
  },
  {
   "cell_type": "code",
   "execution_count": 7,
   "metadata": {},
   "outputs": [],
   "source": [
    "intermediate_out = Path('../../data/intermediate/') / exptname / nbname\n",
    "intermediate_out.mkdir(exist_ok=True, parents=True)"
   ]
  },
  {
   "cell_type": "markdown",
   "metadata": {},
   "source": [
    "## Load data"
   ]
  },
  {
   "cell_type": "markdown",
   "metadata": {},
   "source": [
    "### v1.1 archive"
   ]
  },
  {
   "cell_type": "code",
   "execution_count": 8,
   "metadata": {},
   "outputs": [
    {
     "data": {
      "text/plain": [
       "'{\"archive_version\": \"1.0\"}'"
      ]
     },
     "execution_count": 8,
     "metadata": {},
     "output_type": "execute_result"
    }
   ],
   "source": [
    "archive_zip = ZipFile(GzipFile(infiles['v1_archive']))\n",
    "archive_zip.read('info').decode()"
   ]
  },
  {
   "cell_type": "code",
   "execution_count": 9,
   "metadata": {},
   "outputs": [],
   "source": [
    "with archive_zip.open('genome_sets/midas/assembly/curated') as f:\n",
    "    gset_data = json.load(f)"
   ]
  },
  {
   "cell_type": "code",
   "execution_count": 10,
   "metadata": {},
   "outputs": [
    {
     "data": {
      "text/plain": [
       "(419, 1438)"
      ]
     },
     "execution_count": 10,
     "metadata": {},
     "output_type": "execute_result"
    }
   ],
   "source": [
    "genus_names = set()\n",
    "species_names = set()\n",
    "\n",
    "for adata in gset_data['annotations'].values():\n",
    "    genus_names.add(adata['tax_genus'])\n",
    "    species_names.add((adata['tax_genus'], adata['tax_species']))\n",
    "    \n",
    "species_names = sorted(species_names)\n",
    "genus_names = sorted(genus_names)\n",
    "    \n",
    "len(genus_names), len(species_names)"
   ]
  },
  {
   "cell_type": "markdown",
   "metadata": {},
   "source": [
    "### Taxonomy"
   ]
  },
  {
   "cell_type": "code",
   "execution_count": 11,
   "metadata": {},
   "outputs": [],
   "source": [
    "with open(infiles['taxa'] / 'taxa.json') as f:\n",
    "    taxon_data = json.load(f)\n",
    "    \n",
    "# Convert to dict indexed by ID\n",
    "taxon_data = {tdata['taxid']: tdata for tdata in taxon_data}"
   ]
  },
  {
   "cell_type": "code",
   "execution_count": 12,
   "metadata": {},
   "outputs": [],
   "source": [
    "with open(infiles['taxa'] / 'aka_taxids.json') as f:\n",
    "    aka_taxids = json.load(f)\n",
    "    \n",
    "aka_taxids = {int(id1): id2 for id1, id2 in aka_taxids.items()}"
   ]
  },
  {
   "cell_type": "markdown",
   "metadata": {},
   "source": [
    "## Database connection"
   ]
  },
  {
   "cell_type": "code",
   "execution_count": 13,
   "metadata": {},
   "outputs": [],
   "source": [
    "engine = create_engine('sqlite:///%s' % dbfile)\n",
    "Session = sessionmaker(engine)"
   ]
  },
  {
   "cell_type": "code",
   "execution_count": 14,
   "metadata": {},
   "outputs": [],
   "source": [
    "session = Session()"
   ]
  },
  {
   "cell_type": "markdown",
   "metadata": {},
   "source": [
    "## Func defs"
   ]
  },
  {
   "cell_type": "code",
   "execution_count": 15,
   "metadata": {},
   "outputs": [],
   "source": [
    "def resolve_alias(tid):\n",
    "    return aka_taxids.get(tid, tid)"
   ]
  },
  {
   "cell_type": "code",
   "execution_count": 16,
   "metadata": {},
   "outputs": [],
   "source": [
    "def gettaxon(tid):\n",
    "    \"\"\"Get taxon by ID, resolving alias IDs.\"\"\"\n",
    "    return taxon_data[resolve_alias(tid)]"
   ]
  },
  {
   "cell_type": "code",
   "execution_count": 17,
   "metadata": {},
   "outputs": [],
   "source": [
    "def getparent(taxon):\n",
    "    \"\"\"Get taxon's parent, handling aliases of parent id.\"\"\"\n",
    "    if isinstance(taxon, int):\n",
    "        taxon = taxon_data[taxon]\n",
    "        \n",
    "    try:\n",
    "        return gettaxon(taxon['parent_taxid'])\n",
    "    except KeyError:\n",
    "        return None"
   ]
  },
  {
   "cell_type": "code",
   "execution_count": 18,
   "metadata": {},
   "outputs": [],
   "source": [
    "def find_ancestor(taxon, accept, incself=False):\n",
    "    \"\"\"Find first ancestor of taxon for which accept() returns True.\"\"\"\n",
    "    if not incself:\n",
    "        taxon = getparent(taxon)\n",
    "        \n",
    "    while taxon is not None and not accept(taxon):\n",
    "        taxon = getparent(taxon)\n",
    "        \n",
    "    return taxon"
   ]
  },
  {
   "cell_type": "code",
   "execution_count": 19,
   "metadata": {},
   "outputs": [],
   "source": [
    "def find_ancestor_of_rank(taxon, rank):\n",
    "    return find_ancestor(taxon, lambda tax: tax['rank'] == rank, incself=True)"
   ]
  },
  {
   "cell_type": "code",
   "execution_count": 20,
   "metadata": {},
   "outputs": [],
   "source": [
    "def normalize_name(name):\n",
    "    if not isinstance(name, str):\n",
    "        name = ' '.join(name)\n",
    "        \n",
    "    name = name.lower()\n",
    "    \n",
    "    if name.startswith('candidatus '):\n",
    "        name = name.split(' ', 1)[1]\n",
    "\n",
    "    return name\n",
    "\n",
    "def name_eq(name1, name2):\n",
    "    return normalize_name(name1) == normalize_name(name2)"
   ]
  },
  {
   "cell_type": "code",
   "execution_count": 21,
   "metadata": {},
   "outputs": [],
   "source": [
    "def taxon_url(taxid):\n",
    "    return 'https://www.ncbi.nlm.nih.gov/Taxonomy/Browser/wwwtax.cgi?mode=Info&id=%d' % taxid"
   ]
  },
  {
   "cell_type": "markdown",
   "metadata": {},
   "source": [
    "## Non-alphabetic genus and species names\n",
    "\n",
    "Expect curated genus/species names in previous database version to contain only alphabetic characters, check for instances where this does not hold true:"
   ]
  },
  {
   "cell_type": "code",
   "execution_count": 22,
   "metadata": {},
   "outputs": [],
   "source": [
    "for name in genus_names:\n",
    "    if re.fullmatch(r'[A-Z][a-z]+', name) is None:\n",
    "        print(name)"
   ]
  },
  {
   "cell_type": "markdown",
   "metadata": {},
   "source": [
    "(No genus names with unexpected format)"
   ]
  },
  {
   "cell_type": "code",
   "execution_count": 23,
   "metadata": {},
   "outputs": [
    {
     "name": "stdout",
     "output_type": "stream",
     "text": [
      "            Aphanizomenon\tflos-aquae\n",
      "                  Blautia\t[Ruminococcus] gnavus\n",
      "             Caballeronia\tParaburkholderia zhejiangensis\n",
      "   Erysipelatoclostridium\t[Clostridium] innocuum\n",
      "              Haemophilus\t[Haemophilus] parasuis\n",
      "               Klebsiella\t[Enterobacter] aerogenes\n",
      "        Lachnoclostridium\t[Clostridium] bolteae\n",
      "        Lachnoclostridium\t[Clostridium] citroniae\n",
      "        Lachnoclostridium\t[Clostridium] clostridioforme\n",
      "        Lachnoclostridium\t[Clostridium] symbiosum\n",
      "              Pasteurella\t[Pasteurella] pneumotropica\n",
      "              Pseudomonas\tsyringae group genomosp. 7\n",
      "        Ruminiclostridium\t[Clostridium] clariflavum\n",
      "        Ruminiclostridium\t[Clostridium] josui\n",
      "        Ruminiclostridium\t[Clostridium] stercorarium\n",
      "        Ruminiclostridium\t[Eubacterium] siraeum\n",
      "                Wolbachia\tendosymbiont of Culex quinquefasciatus\n",
      "                Wolbachia\tendosymbiont of Drosophila melanogaster\n"
     ]
    }
   ],
   "source": [
    "for g, s in species_names:\n",
    "    if re.fullmatch(r'[a-z]+', s, re.I) is None:\n",
    "        print('%25s\\t%s' % (g, s))"
   ]
  },
  {
   "cell_type": "markdown",
   "metadata": {},
   "source": [
    "## Find genus and species ancestors\n",
    "\n",
    "Create dictionaries mapping all taxa to their ancestors with genus or species rank, where they exist."
   ]
  },
  {
   "cell_type": "code",
   "execution_count": 24,
   "metadata": {},
   "outputs": [],
   "source": [
    "species_ancestors = {tid: tid for tid, taxon in taxon_data.items() if taxon['rank'] == 'species'}\n",
    "\n",
    "for taxon in taxon_data.values():\n",
    "    ancestors = []\n",
    "    \n",
    "    while taxon is not None:\n",
    "        ancestors.append(taxon['taxid'])\n",
    "        \n",
    "        if taxon['taxid'] in species_ancestors:\n",
    "            sp_tid = species_ancestors[taxon['taxid']]\n",
    "            for tid in ancestors:\n",
    "                species_ancestors[tid] = sp_tid\n",
    "            break\n",
    "            \n",
    "        taxon = getparent(taxon)"
   ]
  },
  {
   "cell_type": "code",
   "execution_count": 25,
   "metadata": {},
   "outputs": [],
   "source": [
    "genus_ancestors = {tid: tid for tid, taxon in taxon_data.items() if taxon['rank'] == 'genus'}\n",
    "\n",
    "for taxon in taxon_data.values():\n",
    "    ancestors = []\n",
    "    \n",
    "    while taxon is not None:\n",
    "        ancestors.append(taxon['taxid'])\n",
    "        \n",
    "        if taxon['taxid'] in genus_ancestors:\n",
    "            sp_tid = genus_ancestors[taxon['taxid']]\n",
    "            for tid in ancestors:\n",
    "                genus_ancestors[tid] = sp_tid\n",
    "            break\n",
    "            \n",
    "        taxon = getparent(taxon)"
   ]
  },
  {
   "cell_type": "markdown",
   "metadata": {},
   "source": [
    "## Group original taxa by curated taxa\n",
    "\n",
    "All genomes have original NCBI taxonomy ID stored in metadata, the correct one to use for each species/genome in the curated database should be one of these or their ancestors in most cases."
   ]
  },
  {
   "cell_type": "code",
   "execution_count": 26,
   "metadata": {},
   "outputs": [],
   "source": [
    "genome_taxids_by_db_species = {sp: set() for sp in species_names}\n",
    "genome_taxids_by_db_genus = {sp: set() for sp in genus_names}\n",
    "\n",
    "for genome in session.query(Genome):\n",
    "    a = gset_data['annotations'][genome.key]\n",
    "    tid = resolve_alias(genome.extra['ncbi_taxid'])\n",
    "    \n",
    "    genome_taxids_by_db_species[(a['tax_genus'], a['tax_species'])].add(tid)\n",
    "    genome_taxids_by_db_genus[a['tax_genus']].add(tid)"
   ]
  },
  {
   "cell_type": "code",
   "execution_count": 27,
   "metadata": {},
   "outputs": [],
   "source": [
    "species_taxids_by_db_species = {\n",
    "    db_species: {species_ancestors[tid] for tid in taxids if tid in species_ancestors}\n",
    "    for db_species, taxids in genome_taxids_by_db_species.items()\n",
    "}"
   ]
  },
  {
   "cell_type": "code",
   "execution_count": 28,
   "metadata": {},
   "outputs": [],
   "source": [
    "genus_taxids_by_db_genus = {\n",
    "    db_genus: {genus_ancestors[tid] for tid in taxids if tid in genus_ancestors}\n",
    "    for db_genus, taxids in genome_taxids_by_db_genus.items()\n",
    "}"
   ]
  },
  {
   "cell_type": "markdown",
   "metadata": {},
   "source": [
    "## Name matching\n",
    "\n",
    "Try to assign NCBI taxa to curated genus/species by simple matching on names, restricted to the case that the match is an ancestor of the original NCBI-assigned taxon of one of the genomes."
   ]
  },
  {
   "cell_type": "markdown",
   "metadata": {},
   "source": [
    "Note that some of the genus names in the downloaded NCBI taxa are denotated [Candidatus](https://www.wikiwand.com/en/Candidatus), need to make sure to remove this from the name before trying to match it to the genus names from souce v1 database. See `normalize_name` and `name_eq` functions."
   ]
  },
  {
   "cell_type": "code",
   "execution_count": 29,
   "metadata": {},
   "outputs": [],
   "source": [
    "genus_map = {g: None for g in genus_names}\n",
    "\n",
    "for db_genus, taxids in genus_taxids_by_db_genus.items():\n",
    "    for taxid in taxids:\n",
    "        taxon = gettaxon(taxid)\n",
    "        \n",
    "        if name_eq(taxon['scientific_name'], db_genus):\n",
    "            assert genus_map[db_genus] is None\n",
    "            genus_map[db_genus] = taxid"
   ]
  },
  {
   "cell_type": "code",
   "execution_count": 30,
   "metadata": {},
   "outputs": [],
   "source": [
    "species_map = {s: None for s in species_names}\n",
    "\n",
    "for db_species, taxids in species_taxids_by_db_species.items():\n",
    "    for taxid in taxids:\n",
    "        taxon = gettaxon(taxid)\n",
    "        \n",
    "        if name_eq(taxon['scientific_name'], db_species):\n",
    "            assert species_map[db_species] is None\n",
    "            species_map[db_species] = taxid"
   ]
  },
  {
   "cell_type": "code",
   "execution_count": 31,
   "metadata": {},
   "outputs": [
    {
     "data": {
      "text/plain": [
       "(3, 419)"
      ]
     },
     "execution_count": 31,
     "metadata": {},
     "output_type": "execute_result"
    }
   ],
   "source": [
    "sum(v is None for v in genus_map.values()), len(genus_map)"
   ]
  },
  {
   "cell_type": "code",
   "execution_count": 32,
   "metadata": {},
   "outputs": [
    {
     "data": {
      "text/plain": [
       "(101, 1438)"
      ]
     },
     "execution_count": 32,
     "metadata": {},
     "output_type": "execute_result"
    }
   ],
   "source": [
    "sum(v is None for v in species_map.values()), len(species_map)"
   ]
  },
  {
   "cell_type": "markdown",
   "metadata": {},
   "source": [
    "## Try matching remaining genomes"
   ]
  },
  {
   "cell_type": "code",
   "execution_count": 33,
   "metadata": {},
   "outputs": [
    {
     "name": "stdout",
     "output_type": "stream",
     "text": [
      "Lysinimicrobium\tDemequina\thttps://www.ncbi.nlm.nih.gov/Taxonomy/Browser/wwwtax.cgi?mode=Info&id=577469\n",
      "Nautella\tPhaeobacter\thttps://www.ncbi.nlm.nih.gov/Taxonomy/Browser/wwwtax.cgi?mode=Info&id=302485\n",
      "Turicella\tCorynebacterium\thttps://www.ncbi.nlm.nih.gov/Taxonomy/Browser/wwwtax.cgi?mode=Info&id=1716\n"
     ]
    }
   ],
   "source": [
    "for k, v in genus_map.items():\n",
    "    if v is None:\n",
    "        for tid in genus_taxids_by_db_genus[k]:\n",
    "            print(k, gettaxon(tid)['scientific_name'], taxon_url(tid), sep='\\t')"
   ]
  },
  {
   "cell_type": "markdown",
   "metadata": {},
   "source": [
    "### Turicella\n",
    "\n",
    "[Taxonomy database entry](https://www.ncbi.nlm.nih.gov/Taxonomy/Browser/wwwtax.cgi?mode=Info&id=1716&lvl=3&lin=f&keep=1&srchmode=1&unlock) for Corynebacterium shows Turicella as a \"heterotypic synonym\", make this assignment manually."
   ]
  },
  {
   "cell_type": "code",
   "execution_count": 34,
   "metadata": {},
   "outputs": [],
   "source": [
    "genus_map['Turicella'] = 1716  # Corynebacterium taxid"
   ]
  },
  {
   "cell_type": "markdown",
   "metadata": {},
   "source": [
    "## Write output"
   ]
  },
  {
   "cell_type": "markdown",
   "metadata": {},
   "source": [
    "### Curated -> NCBI taxon mappings to JSON"
   ]
  },
  {
   "cell_type": "code",
   "execution_count": 35,
   "metadata": {},
   "outputs": [],
   "source": [
    "with open(intermediate_out / 'genus-map.json', 'w') as f:\n",
    "    json.dump(genus_map, f)"
   ]
  },
  {
   "cell_type": "code",
   "execution_count": 36,
   "metadata": {},
   "outputs": [],
   "source": [
    "# Tuple keys won't work with JSON\n",
    "_sp_map_json = [dict(curated_species=s, curated_genus=g, ncbi_taxid=taxid) for (g, s), taxid in species_map.items()]\n",
    "\n",
    "with open(intermediate_out / 'species-map.json', 'w') as f:\n",
    "    json.dump(_sp_map_json, f)"
   ]
  },
  {
   "cell_type": "markdown",
   "metadata": {},
   "source": [
    "### Summarize remaining problems"
   ]
  },
  {
   "cell_type": "code",
   "execution_count": 37,
   "metadata": {},
   "outputs": [],
   "source": [
    "_rows = []\n",
    "\n",
    "for g in sorted(genus_names):\n",
    "    if genus_map[g] is None:\n",
    "        for tid in genus_taxids_by_db_genus[g]:\n",
    "            taxon = gettaxon(tid)\n",
    "            _rows.append((g, None, tid, taxon['scientific_name'], taxon_url(tid)))\n",
    "\n",
    "for sp in sorted(species_names):\n",
    "    if species_map[sp] is None:\n",
    "        _rows2 = []\n",
    "        for tid in species_taxids_by_db_species[sp]:\n",
    "            taxon = gettaxon(tid)\n",
    "            _rows2.append((*sp, tid, taxon['scientific_name'], taxon_url(tid)))\n",
    "            \n",
    "        _rows2.sort(key=lambda r: r[0:2])\n",
    "        _rows.extend(_rows2)\n",
    "            \n",
    "df = pd.DataFrame.from_records(_rows, columns=['curated_genus', 'curated_species', 'taxon_id', 'taxon_name', 'taxon_url'])"
   ]
  },
  {
   "cell_type": "code",
   "execution_count": 38,
   "metadata": {},
   "outputs": [],
   "source": [
    "df.to_csv(processed_out / (datestr + '-db-v1.1-unmapped-taxa.csv'), index=False)"
   ]
  }
 ],
 "metadata": {
  "kernelspec": {
   "display_name": "MIDAS 2",
   "language": "python",
   "name": "midas2"
  },
  "language_info": {
   "codemirror_mode": {
    "name": "ipython",
    "version": 3
   },
   "file_extension": ".py",
   "mimetype": "text/x-python",
   "name": "python",
   "nbconvert_exporter": "python",
   "pygments_lexer": "ipython3",
   "version": "3.6.10"
  }
 },
 "nbformat": 4,
 "nbformat_minor": 4
}
