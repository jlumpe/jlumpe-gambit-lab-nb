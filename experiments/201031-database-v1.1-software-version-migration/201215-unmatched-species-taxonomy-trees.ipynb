{
 "cells": [
  {
   "cell_type": "markdown",
   "metadata": {},
   "source": [
    "# 201215 unmatched species taxonomy trees"
   ]
  },
  {
   "cell_type": "code",
   "execution_count": null,
   "metadata": {},
   "outputs": [],
   "source": [
    "exptname = '201031-database-v1.1-software-version-migration'\n",
    "datestr = '201215'\n",
    "nbname = datestr + '-unmatched-species-taxonomy-trees'"
   ]
  },
  {
   "cell_type": "code",
   "execution_count": null,
   "metadata": {},
   "outputs": [],
   "source": [
    "import json\n",
    "from pathlib import Path\n",
    "import re\n",
    "from zipfile import ZipFile\n",
    "from gzip import GzipFile\n",
    "from collections import Counter"
   ]
  },
  {
   "cell_type": "code",
   "execution_count": 3,
   "metadata": {},
   "outputs": [],
   "source": [
    "from tqdm import tqdm\n",
    "import pandas as pd\n",
    "\n",
    "from sqlalchemy import create_engine\n",
    "from sqlalchemy.orm import sessionmaker"
   ]
  },
  {
   "cell_type": "code",
   "execution_count": 4,
   "metadata": {},
   "outputs": [],
   "source": [
    "from midas.db.models import Genome"
   ]
  },
  {
   "cell_type": "markdown",
   "metadata": {},
   "source": [
    "## File paths"
   ]
  },
  {
   "cell_type": "code",
   "execution_count": 5,
   "metadata": {},
   "outputs": [],
   "source": [
    "infiles = dict(\n",
    "    v11_archive='/home/jared/projects/midas/data/v1/archives/refseq_curated_1.1_beta_200525.midas-archive.gz',\n",
    "    taxa=Path('../../data/intermediate/201031-database-v1.1-software-version-migration/201102-download-taxa/'),\n",
    "    taxa_additional=Path('../../data/intermediate/201031-database-v1.1-software-version-migration/201205-download-additional-taxa/'),\n",
    "    taxonomy_original=Path('../../data/intermediate/201031-database-v1.1-software-version-migration/201113-original-genome-taxa/'),\n",
    "    matches=Path('../../data/intermediate/201031-database-v1.1-software-version-migration/201122-taxon-name-matching/'),\n",
    "    updated_taxids=Path('../../data/intermediate/201031-database-v1.1-software-version-migration/201201-download-updated-assembly-summaries/updated-assembly-taxids.json')\n",
    ")"
   ]
  },
  {
   "cell_type": "code",
   "execution_count": 6,
   "metadata": {},
   "outputs": [],
   "source": [
    "processed_out = Path('../../data/processed/') / exptname / nbname\n",
    "processed_out.mkdir(exist_ok=True, parents=True)"
   ]
  },
  {
   "cell_type": "markdown",
   "metadata": {},
   "source": [
    "## Load data"
   ]
  },
  {
   "cell_type": "markdown",
   "metadata": {},
   "source": [
    "### Archive files"
   ]
  },
  {
   "cell_type": "code",
   "execution_count": 7,
   "metadata": {},
   "outputs": [
    {
     "data": {
      "text/plain": [
       "'{\"archive_version\": \"1.0\"}'"
      ]
     },
     "execution_count": 7,
     "metadata": {},
     "output_type": "execute_result"
    }
   ],
   "source": [
    "archive_v11 = ZipFile(GzipFile(infiles['v11_archive']))\n",
    "archive_v11.read('info').decode()"
   ]
  },
  {
   "cell_type": "code",
   "execution_count": 8,
   "metadata": {},
   "outputs": [],
   "source": [
    "with archive_v11.open('genome_sets/midas/assembly/curated') as f:\n",
    "    gset_data = json.load(f)"
   ]
  },
  {
   "cell_type": "code",
   "execution_count": 9,
   "metadata": {},
   "outputs": [
    {
     "data": {
      "text/plain": [
       "(419, 1438)"
      ]
     },
     "execution_count": 9,
     "metadata": {},
     "output_type": "execute_result"
    }
   ],
   "source": [
    "genomes_by_species = dict()\n",
    "\n",
    "for key, adata in gset_data['annotations'].items():\n",
    "    sp = (adata['tax_genus'], adata['tax_species'])\n",
    "    genomes_by_species.setdefault(sp, set()).add(key)\n",
    "    \n",
    "species_names = sorted(genomes_by_species.keys())\n",
    "genus_names = sorted(set(g for g, s in species_names))\n",
    "    \n",
    "len(genus_names), len(species_names)"
   ]
  },
  {
   "cell_type": "markdown",
   "metadata": {},
   "source": [
    "### Taxonomy"
   ]
  },
  {
   "cell_type": "markdown",
   "metadata": {},
   "source": [
    "#### Current data"
   ]
  },
  {
   "cell_type": "code",
   "execution_count": 10,
   "metadata": {},
   "outputs": [],
   "source": [
    "with open(infiles['taxa'] / 'taxa.json') as f:\n",
    "    taxon_data = {tdata['taxid']: tdata for tdata in json.load(f)}\n",
    "\n",
    "with open(infiles['taxa_additional'] / 'taxa.json') as f:\n",
    "    taxon_data.update({tdata['taxid']: tdata for tdata in json.load(f)})"
   ]
  },
  {
   "cell_type": "code",
   "execution_count": 11,
   "metadata": {},
   "outputs": [],
   "source": [
    "with open(infiles['taxa'] / 'aka_taxids.json') as f:\n",
    "    aka_taxids = {int(id1): id2 for id1, id2 in json.load(f).items()}"
   ]
  },
  {
   "cell_type": "code",
   "execution_count": 12,
   "metadata": {},
   "outputs": [],
   "source": [
    "# Build dictionary of parent ID relationships\n",
    "parent_rels = dict()\n",
    "\n",
    "for taxid, taxon in taxon_data.items():\n",
    "    ptaxid = taxon['parent_taxid']\n",
    "    if ptaxid != 0:\n",
    "        parent_rels[taxid] = ptaxid"
   ]
  },
  {
   "cell_type": "markdown",
   "metadata": {},
   "source": [
    "#### Original 2016 data"
   ]
  },
  {
   "cell_type": "code",
   "execution_count": 13,
   "metadata": {},
   "outputs": [],
   "source": [
    "with open(infiles['taxonomy_original'] / 'original-tax-summaries.json') as f:\n",
    "    orig_tax_summaries = {int(tid): s for tid, s in json.load(f).items()}"
   ]
  },
  {
   "cell_type": "raw",
   "metadata": {},
   "source": [
    "with open(infiles['taxonomy_original'] / 'species-genome-lcas.json') as f:\n",
    "    species_genome_lcas = json.load(f)\n",
    "\n",
    "species_genome_lcas = {(d['curated_genus'], d['curated_species']): d['taxid'] for d in species_genome_lcas}"
   ]
  },
  {
   "cell_type": "markdown",
   "metadata": {},
   "source": [
    "### Name matches"
   ]
  },
  {
   "cell_type": "code",
   "execution_count": 14,
   "metadata": {},
   "outputs": [],
   "source": [
    "species_name_matches = dict()\n",
    "\n",
    "with open(infiles['matches'] / 'species-name-matches.json') as f:\n",
    "    for d in json.load(f):\n",
    "        sp = (d.pop('curated_genus'), d.pop('curated_species'))\n",
    "        species_name_matches[sp] = d if d['matched_taxid'] is not None else None"
   ]
  },
  {
   "cell_type": "markdown",
   "metadata": {},
   "source": [
    "### Database connection"
   ]
  },
  {
   "cell_type": "code",
   "execution_count": 15,
   "metadata": {},
   "outputs": [],
   "source": [
    "engine = create_engine('sqlite:///db.sqlite')\n",
    "Session = sessionmaker(engine)"
   ]
  },
  {
   "cell_type": "code",
   "execution_count": 16,
   "metadata": {},
   "outputs": [],
   "source": [
    "session = Session()"
   ]
  },
  {
   "cell_type": "markdown",
   "metadata": {},
   "source": [
    "### Assembly taxids"
   ]
  },
  {
   "cell_type": "code",
   "execution_count": 17,
   "metadata": {},
   "outputs": [],
   "source": [
    "assembly_ids = {g.key: g.entrez_id for g in session.query(Genome)}"
   ]
  },
  {
   "cell_type": "code",
   "execution_count": 18,
   "metadata": {},
   "outputs": [],
   "source": [
    "orig_assembly_taxids = {g.entrez_id: g.extra['ncbi_taxid'] for g in session.query(Genome)}"
   ]
  },
  {
   "cell_type": "code",
   "execution_count": 19,
   "metadata": {},
   "outputs": [],
   "source": [
    "with open(infiles['updated_taxids']) as f:\n",
    "    updated_assembly_taxids = {int(k): v for k, v in json.load(f).items()}"
   ]
  },
  {
   "cell_type": "code",
   "execution_count": 20,
   "metadata": {},
   "outputs": [],
   "source": [
    "assert updated_assembly_taxids.keys() == orig_assembly_taxids.keys()"
   ]
  },
  {
   "cell_type": "markdown",
   "metadata": {},
   "source": [
    "## Func defs"
   ]
  },
  {
   "cell_type": "code",
   "execution_count": 21,
   "metadata": {},
   "outputs": [],
   "source": [
    "def only(it):\n",
    "    \"\"\"Get the only element of an iterable if it has length one, else raise an error.\"\"\"\n",
    "    (item,) = it\n",
    "    return item"
   ]
  },
  {
   "cell_type": "code",
   "execution_count": 22,
   "metadata": {},
   "outputs": [],
   "source": [
    "def resolve_alias(tid):\n",
    "    return aka_taxids.get(tid, tid)"
   ]
  },
  {
   "cell_type": "code",
   "execution_count": 23,
   "metadata": {},
   "outputs": [],
   "source": [
    "def gettaxon(tid):\n",
    "    \"\"\"Get taxon by ID, resolving alias IDs.\"\"\"\n",
    "    return taxon_data[resolve_alias(tid)]"
   ]
  },
  {
   "cell_type": "code",
   "execution_count": 24,
   "metadata": {},
   "outputs": [],
   "source": [
    "def getparent(taxon):\n",
    "    \"\"\"Get taxon's parent, handling aliases of parent id.\"\"\"\n",
    "    if isinstance(taxon, int):\n",
    "        taxon = gettaxon(taxon)\n",
    "        \n",
    "    try:\n",
    "        return gettaxon(taxon['parent_taxid'])\n",
    "    except KeyError:\n",
    "        return None"
   ]
  },
  {
   "cell_type": "code",
   "execution_count": 25,
   "metadata": {},
   "outputs": [],
   "source": [
    "def iter_ancestors(taxon, incself=False):\n",
    "    if isinstance(taxon, int):\n",
    "        taxon = gettaxon(taxon)\n",
    "    if not incself:\n",
    "        taxon = getparent(taxon)\n",
    "        \n",
    "    while taxon is not None:\n",
    "        yield taxon\n",
    "        taxon = getparent(taxon)"
   ]
  },
  {
   "cell_type": "code",
   "execution_count": 26,
   "metadata": {},
   "outputs": [],
   "source": [
    "def taxon_url(taxid):\n",
    "    return 'https://www.ncbi.nlm.nih.gov/Taxonomy/Browser/wwwtax.cgi?mode=Info&id=%d' % taxid"
   ]
  },
  {
   "cell_type": "code",
   "execution_count": 27,
   "metadata": {},
   "outputs": [],
   "source": [
    "def make_tree_child_map(leaf_taxids, root_taxid=None):\n",
    "    \"\"\"Get mapping from tax IDs to child IDs.\"\"\"\n",
    "    children = dict()\n",
    "    roots = set()\n",
    "    \n",
    "    heads = set(leaf_taxids)\n",
    "    \n",
    "    while heads:\n",
    "        taxid = heads.pop()\n",
    "            \n",
    "        # Is root\n",
    "        if taxid == root_taxid or taxid not in parent_rels:\n",
    "            roots.add(taxid)\n",
    "            continue\n",
    "        \n",
    "        ptaxid = parent_rels[taxid]\n",
    "        \n",
    "        if ptaxid in children:\n",
    "            children[ptaxid].add(taxid)\n",
    "        \n",
    "        else:\n",
    "            children[ptaxid] = {taxid}\n",
    "            heads.add(ptaxid)\n",
    "\n",
    "    if len(roots) > 1:\n",
    "        raise ValueError('More than one root found')\n",
    "    \n",
    "    root = only(roots)\n",
    "    \n",
    "    if root_taxid is not None:\n",
    "        assert root_taxid == root\n",
    "        \n",
    "    else:\n",
    "        # Find LCA\n",
    "        while root not in leaf_taxids and len(children[root]) == 1:\n",
    "            root = only(children.pop(root))\n",
    "    \n",
    "    return children, root"
   ]
  },
  {
   "cell_type": "code",
   "execution_count": 28,
   "metadata": {},
   "outputs": [],
   "source": [
    "def find_lca(taxids):\n",
    "    children, lca = make_tree_child_map(taxids)\n",
    "    return lca"
   ]
  },
  {
   "cell_type": "code",
   "execution_count": 29,
   "metadata": {},
   "outputs": [],
   "source": [
    "def sum_counts_recursive(child_map, root, counts):\n",
    "    rcounts = dict()\n",
    "    \n",
    "    def _count_subtree(taxid):\n",
    "        cnt = counts.get(taxid, 0)\n",
    "        for child in child_map.get(taxid, []):\n",
    "            cnt += _count_subtree(child)\n",
    "        rcounts[taxid] = cnt\n",
    "        return cnt\n",
    "    \n",
    "    _count_subtree(root)\n",
    "    \n",
    "    return rcounts"
   ]
  },
  {
   "cell_type": "code",
   "execution_count": 30,
   "metadata": {},
   "outputs": [],
   "source": [
    "def count_taxon_reassignments(aids):\n",
    "    \"\"\"Count newtaxid -> oldtaxid for set of genomes given by assembly ID.\"\"\"\n",
    "    counts = dict()\n",
    "    counts_skipped = dict()\n",
    "\n",
    "    for aid in aids:\n",
    "        newtaxid = resolve_alias(updated_assembly_taxids[aid])\n",
    "        oldtaxid = resolve_alias(orig_assembly_taxids[aid])\n",
    "\n",
    "        summary = orig_tax_summaries_by_canonical_taxid[oldtaxid]\n",
    "        if (summary['genus'], summary['species']) != sp:\n",
    "            c = counts_skipped\n",
    "        else:\n",
    "            c = counts\n",
    "\n",
    "        c.setdefault(newtaxid, Counter())[oldtaxid] += 1\n",
    "        \n",
    "    return counts, counts_skipped"
   ]
  },
  {
   "cell_type": "markdown",
   "metadata": {},
   "source": [
    "## Tree report generation"
   ]
  },
  {
   "cell_type": "code",
   "execution_count": 31,
   "metadata": {},
   "outputs": [],
   "source": [
    "orig_tax_summaries_by_canonical_taxid = {resolve_alias(taxid): summary for taxid, summary in orig_tax_summaries.items()}"
   ]
  },
  {
   "cell_type": "markdown",
   "metadata": {},
   "source": [
    "### Config"
   ]
  },
  {
   "cell_type": "code",
   "execution_count": 32,
   "metadata": {},
   "outputs": [],
   "source": [
    "report_species = [sp for sp in species_names if species_name_matches[sp] is None]\n",
    "report_species_ids = {sp: re.sub(r'[^a-z-]', '', re.sub(r'\\s+', '-', ' '.join(sp).lower())) for sp in report_species}"
   ]
  },
  {
   "cell_type": "code",
   "execution_count": 33,
   "metadata": {},
   "outputs": [],
   "source": [
    "report_attrs = dict(\n",
    "    title=datestr + ' unmatched species taxonomy trees',\n",
    "    tree_indent_px=15,\n",
    ")"
   ]
  },
  {
   "cell_type": "markdown",
   "metadata": {},
   "source": [
    "### Page template"
   ]
  },
  {
   "cell_type": "code",
   "execution_count": 34,
   "metadata": {},
   "outputs": [],
   "source": [
    "REPORT_CSS = '''\n",
    "body {\n",
    "    margin: 24px;\n",
    "    font-size: 1.4em;\n",
    "}\n",
    "\n",
    "h1 {\n",
    "    font-size: 4rem !important;\n",
    "}\n",
    "\n",
    "h2 {\n",
    "    font-size: 2.5rem !important;\n",
    "    margin-top: 6rem;\n",
    "}\n",
    "\n",
    "h3 {\n",
    "    font-size: 2rem !important;\n",
    "    margin-top: 3rem;\n",
    "}\n",
    "\n",
    "table {\n",
    "    border-collapse: collapse;\n",
    "}\n",
    "\n",
    "table > tbody > tr.row-even {\n",
    "    background: #eeeeee;\n",
    "}\n",
    "\n",
    "td, th {\n",
    "    padding: 6px 15px !important;\n",
    "}\n",
    "\n",
    ".text-gray {\n",
    "    color: #999;\n",
    "}\n",
    "\n",
    "td.checkmark, td.xmark {\n",
    "    padding: 0 !important;\n",
    "    text-align: center;\n",
    "    vertical-align: middle;\n",
    "    font-size: 150%;\n",
    "}\n",
    "\n",
    "td.checkmark::before {\n",
    "    color: green;\n",
    "    content: \"\\\\2714\";\n",
    "    // font-weight: bold;\n",
    "}\n",
    "\n",
    "td.xmark::before {\n",
    "    color: red;\n",
    "    content: \"\\\\2718\";\n",
    "    // font-weight: bold;\n",
    "}\n",
    "'''"
   ]
  },
  {
   "cell_type": "code",
   "execution_count": 35,
   "metadata": {},
   "outputs": [],
   "source": [
    "REPORT_PRE = '''\n",
    "<!DOCTYPE HTML>\n",
    "<html lang=\"en\">\n",
    "    <head>\n",
    "        <meta name=\"author\" content=\"Jared Lumpe\">\n",
    "        <title>{title}</title>\n",
    "        <link rel=\"stylesheet\" href=\"https://cdnjs.cloudflare.com/ajax/libs/skeleton/2.0.4/skeleton.min.css\"/>\n",
    "        <style>{css}</style>\n",
    "    </head>\n",
    "    <body>\n",
    "        <h1>{title}</h1>\n",
    "'''.format(**report_attrs, css=REPORT_CSS)\n",
    "\n",
    "REPORT_POST = '''\n",
    "    </body>\n",
    "</html>\n",
    "'''"
   ]
  },
  {
   "cell_type": "code",
   "execution_count": 36,
   "metadata": {},
   "outputs": [],
   "source": [
    "TABLE_HEAD = '''\n",
    "<thead>\n",
    "    <tr>\n",
    "        <th colspan=5>2020 Taxon</th>\n",
    "        <th colspan=5>2016 Taxon</th>\n",
    "    </tr>\n",
    "    <tr>\n",
    "        <th>Name</th>\n",
    "        <th>ID</th>\n",
    "        <th>Rank</th>\n",
    "        <th colspan=\"2\">Genome Count</th>\n",
    "        <th>Same?</th>\n",
    "        <th>Name</th>\n",
    "        <th>ID</th>\n",
    "        <th>Rank</th>\n",
    "        <th>2016 Name</th>\n",
    "    </tr>\n",
    "</thead>\n",
    "'''"
   ]
  },
  {
   "cell_type": "markdown",
   "metadata": {},
   "source": [
    "### Contents"
   ]
  },
  {
   "cell_type": "code",
   "execution_count": 37,
   "metadata": {},
   "outputs": [],
   "source": [
    "def write_contents_table(f):\n",
    "    f.write('''\n",
    "    <h2>Contents</h2>\n",
    "    \n",
    "    <ol>\n",
    "    ''')\n",
    "    \n",
    "    for sp in report_species:\n",
    "        f.write('<li><a href=\"#%s\">%s %s</a></li>\\n' % (report_species_ids[sp], *sp))\n",
    "    \n",
    "    f.write('</ol>\\n')"
   ]
  },
  {
   "cell_type": "markdown",
   "metadata": {},
   "source": [
    "### Sections"
   ]
  },
  {
   "cell_type": "code",
   "execution_count": 38,
   "metadata": {},
   "outputs": [],
   "source": [
    "def write_old_taxon_cells(f, ntid, otid, count):\n",
    "    taxon = gettaxon(otid)\n",
    "\n",
    "    # Old taxon same as new\n",
    "    if otid == ntid:\n",
    "        f.write('''\n",
    "            <td class=\"checkmark\"></td>\n",
    "            <td></td>\n",
    "            <td></td>\n",
    "            <td></td>\n",
    "        ''')\n",
    "\n",
    "    # Old taxon different\n",
    "    else:\n",
    "        f.write('''\n",
    "            <td class=\"xmark\"></td>\n",
    "            <td><a href=\"{url}\" target=\"_blank\">\n",
    "                {scientific_name}\n",
    "            </a></td>\n",
    "            <td>{taxid}</td>\n",
    "            <td>{rank}</td>\n",
    "        '''.format(**taxon, url=taxon_url(otid)))\n",
    "\n",
    "    summary = orig_tax_summaries_by_canonical_taxid.get(otid)\n",
    "    orig_name = summary['scientificname']\n",
    "    \n",
    "    if orig_name != taxon['scientific_name']:\n",
    "        f.write('<td>%s</td>\\n' % orig_name)\n",
    "    else:\n",
    "        f.write('<td class=\"text-gray\">(same)</td>\\n')"
   ]
  },
  {
   "cell_type": "code",
   "execution_count": 39,
   "metadata": {},
   "outputs": [],
   "source": [
    "def write_tree_row_group(f, ntid, depth, count, rcount, old_counts, iseven):\n",
    "    data = dict(gettaxon(ntid))\n",
    "    data['url'] = taxon_url(ntid)\n",
    "    data['indent'] = depth * report_attrs['tree_indent_px']\n",
    "    data['count'] = count or ''\n",
    "    data['rcount'] = rcount\n",
    "    data['td'] = 'td rowspan=%d' % max(len(old_counts), 1)\n",
    "    tr = '<tr class=\"%s\">\\n' % ('row-even' if iseven else 'row-odd')\n",
    "\n",
    "    f.write(tr)\n",
    "    f.write('''\n",
    "        <{td}><a href=\"{url}\" target=\"_blank\" style=\"margin-left: {indent}px; display: inline-block;\">\n",
    "            {scientific_name}\n",
    "        </a></td>\n",
    "        <{td}>{taxid}</td>\n",
    "        <{td}>{rank}</td>\n",
    "        <{td} style=\"text-align: center\">{count}</td>\n",
    "        <{td} style=\"text-align: center\">({rcount})</td>\n",
    "    '''.format(**data))\n",
    "    \n",
    "    # Old taxa\n",
    "    for i, (otid, ocount) in enumerate(old_counts.items()):\n",
    "        if i > 0:\n",
    "            f.write(tr)\n",
    "\n",
    "        write_old_taxon_cells(f, ntid, otid, ocount)\n",
    "        f.write('</tr>\\n')\n",
    "        \n",
    "    # No old taxa, write blank cells\n",
    "    if not old_counts:\n",
    "        f.write('''\n",
    "            <td></td>\n",
    "            <td></td>\n",
    "            <td></td>\n",
    "            <td></td>\n",
    "            <td></td>\n",
    "        </tr>\n",
    "        ''')"
   ]
  },
  {
   "cell_type": "code",
   "execution_count": 40,
   "metadata": {},
   "outputs": [],
   "source": [
    "def write_tree_table(f, child_map, root_taxid, n2o_counts):\n",
    "    counts = {ntid: sum(ocounts.values()) for ntid, ocounts in n2o_counts.items()}\n",
    "    rcounts = sum_counts_recursive(child_map, root_taxid, counts)\n",
    "    \n",
    "    iseven = False\n",
    "    \n",
    "    def _write_subtree(taxid, depth):\n",
    "        nonlocal iseven\n",
    "\n",
    "        cnt = counts.get(taxid, 0)\n",
    "        rcnt = rcounts[taxid]\n",
    "        old_counts = n2o_counts.get(taxid, dict())\n",
    "        write_tree_row_group(f, taxid, depth, cnt, rcnt, old_counts, iseven)\n",
    "\n",
    "        iseven = not iseven\n",
    "\n",
    "        for child_taxid in child_map.get(taxid, []):\n",
    "            _write_subtree(child_taxid, depth + 1)\n",
    "\n",
    "    f.write('<table class=\"taxonomy-tree\">\\n')\n",
    "    f.write(TABLE_HEAD)\n",
    "    f.write('<tbody>\\n')\n",
    "    _write_subtree(root_taxid, 0)\n",
    "    f.write('</tbody></table>')"
   ]
  },
  {
   "cell_type": "code",
   "execution_count": 41,
   "metadata": {},
   "outputs": [],
   "source": [
    "def write_report_section(f, sp):\n",
    "    aids = [assembly_ids[key] for key in genomes_by_species[sp]]\n",
    "    n2o_counts, n2o_counts_skipped = count_taxon_reassignments(aids)\n",
    "    \n",
    "    all_nids = set(n2o_counts).union(n2o_counts_skipped)\n",
    "    lca = find_lca(all_nids)\n",
    "    \n",
    "    child_map, _ = make_tree_child_map(n2o_counts.keys(), lca)\n",
    "    total = sum(c for ocounts in n2o_counts.values() for c in ocounts.values())\n",
    "    \n",
    "    f.write('<h2 id=\"%s\" class=\"section-header\">%s %s (%d genomes)</h2>\\n\\n' % (report_species_ids[sp], *sp, total))\n",
    "    write_tree_table(f, child_map, lca, n2o_counts)\n",
    "    f.write('\\n\\n')\n",
    "    \n",
    "    if n2o_counts_skipped:\n",
    "        child_map_skipped, _ = make_tree_child_map(n2o_counts_skipped.keys(), lca)\n",
    "        total_skipped = sum(c for ocounts in n2o_counts_skipped.values() for c in ocounts.values())\n",
    "        \n",
    "        f.write('<h3>Skipped genomes (%d)</h3>\\n\\n' % total_skipped)\n",
    "        write_tree_table(f, child_map_skipped, lca, n2o_counts_skipped)\n",
    "        f.write('\\n\\n')"
   ]
  },
  {
   "cell_type": "markdown",
   "metadata": {},
   "source": [
    "### Generate report"
   ]
  },
  {
   "cell_type": "code",
   "execution_count": 42,
   "metadata": {},
   "outputs": [],
   "source": [
    "with open(processed_out / (nbname + '-report.html'), 'w') as f:\n",
    "    f.write(REPORT_PRE)\n",
    "    \n",
    "    write_contents_table(f)\n",
    "    f.write('\\n\\n')\n",
    "    \n",
    "    for sp in report_species:\n",
    "        write_report_section(f, sp)\n",
    "            \n",
    "    f.write(REPORT_POST)"
   ]
  }
 ],
 "metadata": {
  "kernelspec": {
   "display_name": "MIDAS 2",
   "language": "python",
   "name": "midas2"
  },
  "language_info": {
   "codemirror_mode": {
    "name": "ipython",
    "version": 3
   },
   "file_extension": ".py",
   "mimetype": "text/x-python",
   "name": "python",
   "nbconvert_exporter": "python",
   "pygments_lexer": "ipython3",
   "version": "3.6.10"
  }
 },
 "nbformat": 4,
 "nbformat_minor": 4
}
