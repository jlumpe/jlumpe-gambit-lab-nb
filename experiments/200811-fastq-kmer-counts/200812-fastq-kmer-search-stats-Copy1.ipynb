{
 "cells": [
  {
   "cell_type": "markdown",
   "metadata": {},
   "source": [
    "# 200812 ???"
   ]
  },
  {
   "cell_type": "code",
   "execution_count": null,
   "metadata": {},
   "outputs": [],
   "source": [
    "using Revise\n",
    "using StatsBase\n",
    "using DataFrames\n",
    "using HDF5\n",
    "using ProgressMeter"
   ]
  },
  {
   "cell_type": "code",
   "execution_count": null,
   "metadata": {},
   "outputs": [],
   "source": [
    "using Midas: ArraySet, vec_in"
   ]
  },
  {
   "cell_type": "code",
   "execution_count": null,
   "metadata": {},
   "outputs": [],
   "source": [
    "using PyPlot, PyCall\n",
    "sns = pyimport(\"seaborn\")"
   ]
  },
  {
   "cell_type": "markdown",
   "metadata": {},
   "source": [
    "## Configuration and directories"
   ]
  },
  {
   "cell_type": "code",
   "execution_count": null,
   "metadata": {},
   "outputs": [],
   "source": [
    "tmpdir = \"tmp/\""
   ]
  },
  {
   "cell_type": "code",
   "execution_count": null,
   "metadata": {},
   "outputs": [],
   "source": [
    "datafiles = Dict(\n",
    "    match(r\"^(.*)_L001_R1_001.h5\", basename(f)).captures[1] => f\n",
    "    for f in readdir(tmpdir, join=true) if endswith(f, \".h5\")\n",
    ")\n",
    "length(datafiles)"
   ]
  },
  {
   "cell_type": "code",
   "execution_count": null,
   "metadata": {},
   "outputs": [],
   "source": [
    "outdir = \"../../data/processed/200811-fastq-kmer-counts/\"\n",
    "isdir(outdir) || mkdir(outdir);"
   ]
  },
  {
   "cell_type": "markdown",
   "metadata": {},
   "source": [
    "## Defs"
   ]
  },
  {
   "cell_type": "code",
   "execution_count": null,
   "metadata": {},
   "outputs": [],
   "source": [
    "# Histogram with transparency fill\n",
    "function myhist(ax, x, color; alpha=.25, lw=2, kw...)\n",
    "    h1 = ax.hist(x; fc=color, alpha=alpha, kw...)\n",
    "    h2 = ax.hist(x; histtype=:step, ec=color, lw=lw, kw...)\n",
    "    return (h1, h2)\n",
    "end"
   ]
  },
  {
   "cell_type": "code",
   "execution_count": null,
   "metadata": {},
   "outputs": [],
   "source": [
    "# Histogram with one bin per integer\n",
    "function counts_hist(ax::PyObject, data::AbstractVector, range=1:maximum(data); kw...)\n",
    "    cnts = counts(data, range)\n",
    "    b = ax.bar(range, cnts; kw...)\n",
    "    ax.set_xticks(range)\n",
    "    return b\n",
    "end\n",
    "\n",
    "counts_hist(data::AbstractVector, range=1:maximum(data); kw...) = counts_hist(plt.gca(), data, range; kw...)"
   ]
  },
  {
   "cell_type": "markdown",
   "metadata": {},
   "source": [
    "## Read data"
   ]
  },
  {
   "cell_type": "code",
   "execution_count": null,
   "metadata": {},
   "outputs": [],
   "source": [
    "data = Dict(progress_map(collect(datafiles)) do (key, f)\n",
    "    h5 = h5open(f)\n",
    "        \n",
    "    assm_kmers = read(h5, \"assembly/kmers\")\n",
    "    assm_size = sum(read(h5, \"assembly/contig_lengths\"))\n",
    "    raw_kmers = read(h5, \"raw/kmers\")\n",
    "        \n",
    "    d = (\n",
    "        assm_kmers=assm_kmers,\n",
    "        assm_counts=read(h5, \"assembly/counts\"),\n",
    "        raw_kmers=raw_kmers,\n",
    "        raw_counts=read(h5, \"raw/counts\"),\n",
    "        score_thresholds=read(h5, \"raw/score_thresholds\"),\n",
    "        assm_size=assm_size,\n",
    "        est_coverage=read(attrs(h5[\"raw\"]), \"mean_read_length\") * read(attrs(h5[\"raw\"]), \"nreads\") / assm_size,\n",
    "        raw_kmer_in_assm=vec_in(ArraySet(raw_kmers), ArraySet(assm_kmers)),\n",
    "    )\n",
    "        \n",
    "    close(h5)\n",
    "    return key => d\n",
    "end);"
   ]
  },
  {
   "cell_type": "markdown",
   "metadata": {},
   "source": [
    "## ?"
   ]
  },
  {
   "cell_type": "code",
   "execution_count": null,
   "metadata": {},
   "outputs": [],
   "source": [
    "let\n",
    "    n = size(raw_counts, 1)\n",
    "    fig, axs = plt.subplots(n, 2, sharey=:col, sharex=:col)\n",
    "    range1 = 1:9\n",
    "    range2 = (10, maximum(raw_counts))\n",
    "    \n",
    "    for i in 1:n\n",
    "        ax1, ax2 = axs[i, :]\n",
    "        \n",
    "        tp = filter(>(0), raw_counts[i, raw_kmer_in_assm])\n",
    "        tn = filter(>(0), raw_counts[i, .!raw_kmer_in_assm])\n",
    "        \n",
    "        counts_hist(ax1, tp, range1)\n",
    "        counts_hist(ax1, tn, range1)\n",
    "        \n",
    "        ax2.hist(log10.(tp), range=log10.(range2), bins=40)\n",
    "        ax2.hist(log10.(tn), range=log10.(range2), bins=40)\n",
    "\n",
    "        ax2.axvline(log10(est_coverage), color=:red)\n",
    "    end\n",
    "    \n",
    "    axs[1, 1].set_yscale(:log)\n",
    "end"
   ]
  },
  {
   "cell_type": "code",
   "execution_count": null,
   "metadata": {},
   "outputs": [],
   "source": [
    "let\n",
    "    n = size(raw_counts, 1)\n",
    "    fig, axs = plt.subplots(n, 2, sharey=:col, sharex=:col)\n",
    "    range1 = 1:9\n",
    "    range2 = (10, maximum(raw_counts))\n",
    "    \n",
    "    for i in 1:n\n",
    "        ax1, ax2 = axs[i, :]\n",
    "        \n",
    "        tp = filter(>(0), raw_counts[i, raw_kmer_in_assm])\n",
    "        tn = filter(>(0), raw_counts[i, .!raw_kmer_in_assm])\n",
    "        \n",
    "        counts_hist(ax1, tp, range1)\n",
    "        counts_hist(ax1, tn, range1)\n",
    "        \n",
    "        ax2.hist(log10.(tp), range=log10.(range2), bins=40)\n",
    "        ax2.hist(log10.(tn), range=log10.(range2), bins=40)\n",
    "\n",
    "        ax2.axvline(log10(est_coverage), color=:red)\n",
    "    end\n",
    "    \n",
    "    axs[1, 1].set_yscale(:log)\n",
    "end"
   ]
  },
  {
   "cell_type": "code",
   "execution_count": null,
   "metadata": {},
   "outputs": [],
   "source": [
    "let\n",
    "    fig, axs = plt.subplots(20, 4, figsize=(16, 30), sharex=true)\n",
    "    \n",
    "    @showprogress for (key, ax) in zip(sort(collect(keys(data))), axs)\n",
    "        d = data[key]\n",
    "        \n",
    "        for i in 1:4\n",
    "            tp = filter(>(0), d.raw_counts[i, d.raw_kmer_in_assm])\n",
    "            sns.kdeplot(log10.(tp), ax=ax, shade=true)\n",
    "        end\n",
    "        \n",
    "        ax.axvline(log10(d.est_coverage), lw=2, color=:black, ls=:dotted)\n",
    "        ax.set_title(key, fontsize=\"small\")\n",
    "        ax.yaxis.set_visible(false)\n",
    "    end\n",
    "    \n",
    "    plt.tight_layout()\n",
    "end"
   ]
  },
  {
   "cell_type": "code",
   "execution_count": null,
   "metadata": {},
   "outputs": [],
   "source": [
    "let\n",
    "    fig, axs = plt.subplots(20, 4, figsize=(16, 30), sharex=true)\n",
    "    \n",
    "    @showprogress for (key, ax) in zip(sort(collect(keys(data))), axs)\n",
    "        d = data[key]\n",
    "        \n",
    "        for i in 1:4\n",
    "            tp = filter(>(0), d.raw_counts[i, d.raw_kmer_in_assm])\n",
    "            sns.kdeplot(log10.(tp), ax=ax, shade=true)\n",
    "        end\n",
    "        \n",
    "        ax.axvline(log10(d.est_coverage), lw=2, color=:black, ls=:dotted)\n",
    "        ax.set_title(key, fontsize=\"small\")\n",
    "        ax.yaxis.set_visible(false)\n",
    "    end\n",
    "    \n",
    "    plt.tight_layout()\n",
    "end"
   ]
  }
 ],
 "metadata": {
  "kernelspec": {
   "display_name": "Julia 1.4.0",
   "language": "julia",
   "name": "julia-1.4"
  },
  "language_info": {
   "file_extension": ".jl",
   "mimetype": "application/julia",
   "name": "julia",
   "version": "1.4.0"
  }
 },
 "nbformat": 4,
 "nbformat_minor": 4
}
