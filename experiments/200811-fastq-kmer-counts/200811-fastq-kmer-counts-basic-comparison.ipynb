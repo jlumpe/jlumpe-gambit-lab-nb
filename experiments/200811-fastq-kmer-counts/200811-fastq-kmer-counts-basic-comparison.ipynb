{
 "cells": [
  {
   "cell_type": "markdown",
   "metadata": {},
   "source": [
    "# 200811 Fastq kmer counts basic comparison"
   ]
  },
  {
   "cell_type": "code",
   "execution_count": 1,
   "metadata": {},
   "outputs": [
    {
     "data": {
      "text/html": [
       "<script>\n",
       "// Immediately-invoked-function-expression to avoid global variables.\n",
       "(function() {\n",
       "    var warning_div = document.getElementById(\"webio-warning-5199303977778282422\");\n",
       "    var hide = function () {\n",
       "        var script = document.getElementById(\"webio-setup-12364354864275817905\");\n",
       "        var parent = script && script.parentElement;\n",
       "        var grandparent = parent && parent.parentElement;\n",
       "        if (grandparent) {\n",
       "            grandparent.style.display = \"none\";\n",
       "        }\n",
       "        warning_div.style.display = \"none\";\n",
       "    };\n",
       "    if (typeof Jupyter !== \"undefined\") {\n",
       "        console.log(\"WebIO detected Jupyter notebook environment.\");\n",
       "        // Jupyter notebook.\n",
       "        var extensions = (\n",
       "            Jupyter\n",
       "            && Jupyter.notebook.config.data\n",
       "            && Jupyter.notebook.config.data.load_extensions\n",
       "        );\n",
       "        if (extensions && extensions[\"webio-jupyter-notebook\"]) {\n",
       "            // Extension already loaded.\n",
       "            console.log(\"Jupyter WebIO nbextension detected; not loading ad-hoc.\");\n",
       "            hide();\n",
       "            return;\n",
       "        }\n",
       "    } else if (window.location.pathname.includes(\"/lab\")) {\n",
       "        // Guessing JupyterLa\n",
       "        console.log(\"Jupyter Lab detected; make sure the @webio/jupyter-lab-provider labextension is installed.\");\n",
       "        hide();\n",
       "        return;\n",
       "    }\n",
       "})();\n",
       "\n",
       "</script>\n",
       "<p\n",
       "    id=\"webio-warning-5199303977778282422\"\n",
       "    class=\"output_text output_stderr\"\n",
       "    style=\"padding: 1em; font-weight: bold;\"\n",
       ">\n",
       "    Unable to load WebIO. Please make sure WebIO works for your Jupyter client.\n",
       "    For troubleshooting, please see <a href=\"https://juliagizmos.github.io/WebIO.jl/latest/providers/ijulia/\">\n",
       "    the WebIO/IJulia documentation</a>.\n",
       "    <!-- TODO: link to installation docs. -->\n",
       "</p>\n"
      ],
      "text/plain": [
       "HTML{String}(\"<script>\\n// Immediately-invoked-function-expression to avoid global variables.\\n(function() {\\n    var warning_div = document.getElementById(\\\"webio-warning-5199303977778282422\\\");\\n    var hide = function () {\\n        var script = document.getElementById(\\\"webio-setup-12364354864275817905\\\");\\n        var parent = script && script.parentElement;\\n        var grandparent = parent && parent.parentElement;\\n        if (grandparent) {\\n            grandparent.style.display = \\\"none\\\";\\n        }\\n        warning_div.style.display = \\\"none\\\";\\n    };\\n    if (typeof Jupyter !== \\\"undefined\\\") {\\n        console.log(\\\"WebIO detected Jupyter notebook environment.\\\");\\n        // Jupyter notebook.\\n        var extensions = (\\n            Jupyter\\n            && Jupyter.notebook.config.data\\n            && Jupyter.notebook.config.data.load_extensions\\n        );\\n        if (extensions && extensions[\\\"webio-jupyter-notebook\\\"]) {\\n            // Extension already loaded.\\n            console.log(\\\"Jupyter WebIO nbextension detected; not loading ad-hoc.\\\");\\n            hide();\\n            return;\\n        }\\n    } else if (window.location.pathname.includes(\\\"/lab\\\")) {\\n        // Guessing JupyterLa\\n        console.log(\\\"Jupyter Lab detected; make sure the @webio/jupyter-lab-provider labextension is installed.\\\");\\n        hide();\\n        return;\\n    }\\n})();\\n\\n</script>\\n<p\\n    id=\\\"webio-warning-5199303977778282422\\\"\\n    class=\\\"output_text output_stderr\\\"\\n    style=\\\"padding: 1em; font-weight: bold;\\\"\\n>\\n    Unable to load WebIO. Please make sure WebIO works for your Jupyter client.\\n    For troubleshooting, please see <a href=\\\"https://juliagizmos.github.io/WebIO.jl/latest/providers/ijulia/\\\">\\n    the WebIO/IJulia documentation</a>.\\n    <!-- TODO: link to installation docs. -->\\n</p>\\n\")"
      ]
     },
     "metadata": {},
     "output_type": "display_data"
    }
   ],
   "source": [
    "using BioSequences\n",
    "using FASTX\n",
    "using CodecZlib\n",
    "using ProgressMeter\n",
    "using PlotlyJS\n",
    "using DataFrames"
   ]
  },
  {
   "cell_type": "code",
   "execution_count": 2,
   "metadata": {},
   "outputs": [],
   "source": [
    "using Midas\n",
    "using Midas.Kmers\n",
    "using Midas.Search"
   ]
  },
  {
   "cell_type": "code",
   "execution_count": 3,
   "metadata": {},
   "outputs": [
    {
     "data": {
      "text/plain": [
       "PyObject <module 'seaborn' from '/Users/student/anaconda/envs/modeling/lib/python3.6/site-packages/seaborn/__init__.py'>"
      ]
     },
     "execution_count": 3,
     "metadata": {},
     "output_type": "execute_result"
    }
   ],
   "source": [
    "using PyPlot, PyCall\n",
    "sns = pyimport(\"seaborn\")\n",
    "pd = pyimport(\"pandas\")"
   ]
  },
  {
   "cell_type": "code",
   "execution_count": 4,
   "metadata": {},
   "outputs": [
    {
     "data": {
      "text/plain": [
       "Dict{Symbol,String} with 2 entries:\n",
       "  :assembly_dir => \"/Users/student/projects/midas/data/gold_standard_seqs_20072…\n",
       "  :reads_dir    => \"/Users/student/projects/midas/data/gold_standard_seqs_20072…"
      ]
     },
     "execution_count": 4,
     "metadata": {},
     "output_type": "execute_result"
    }
   ],
   "source": [
    "infiles = Dict(\n",
    "    :assembly_dir => \"/Users/student/projects/midas/data/gold_standard_seqs_200726/assembled\",\n",
    "    :reads_dir => \"/Users/student/projects/midas/data/gold_standard_seqs_200726/reads\",\n",
    ")"
   ]
  },
  {
   "cell_type": "markdown",
   "metadata": {},
   "source": [
    "## Find sequence files"
   ]
  },
  {
   "cell_type": "code",
   "execution_count": 5,
   "metadata": {},
   "outputs": [
    {
     "data": {
      "text/plain": [
       "80"
      ]
     },
     "execution_count": 5,
     "metadata": {},
     "output_type": "execute_result"
    }
   ],
   "source": [
    "seq_file_pairs = [\n",
    "    readsfile => joinpath(infiles[:assembly_dir], split(basename(readsfile), '.')[1] * \".fasta\")\n",
    "    for readsfile in readdir(infiles[:reads_dir], join=true)\n",
    "    if endswith(readsfile, \".fastq.gz\")\n",
    "]\n",
    "\n",
    "for (reads, assembled) in seq_file_pairs\n",
    "    @assert isfile(reads) && isfile(assembled)\n",
    "end\n",
    "\n",
    "length(seq_file_pairs)"
   ]
  },
  {
   "cell_type": "markdown",
   "metadata": {},
   "source": [
    "## Defs"
   ]
  },
  {
   "cell_type": "code",
   "execution_count": 6,
   "metadata": {},
   "outputs": [
    {
     "data": {
      "text/plain": [
       "phredsum (generic function with 1 method)"
      ]
     },
     "execution_count": 6,
     "metadata": {},
     "output_type": "execute_result"
    }
   ],
   "source": [
    "phred2p(phred) = 10 ^ (phred * -0.1)\n",
    "p2phred(p) = -10 * log10(p)\n",
    "phredprod(phred) = p2phred(1 - prod(1 .- phred2p.(phred)))\n",
    "phredsum(phred) = p2phred(sum(phred2p.(phred)))"
   ]
  },
  {
   "cell_type": "code",
   "execution_count": 7,
   "metadata": {},
   "outputs": [
    {
     "data": {
      "text/plain": [
       "myhist (generic function with 1 method)"
      ]
     },
     "execution_count": 7,
     "metadata": {},
     "output_type": "execute_result"
    }
   ],
   "source": [
    "# Histogram with transparency fill\n",
    "function myhist(ax, x, color; alpha=.25, lw=2, kw...)\n",
    "    h1 = ax.hist(x; fc=color, alpha=alpha, kw...)\n",
    "    h2 = ax.hist(x; histtype=:step, ec=color, lw=lw, kw...)\n",
    "    return (h1, h2)\n",
    "end"
   ]
  },
  {
   "cell_type": "markdown",
   "metadata": {},
   "source": [
    "## Search parameters"
   ]
  },
  {
   "cell_type": "code",
   "execution_count": 8,
   "metadata": {},
   "outputs": [
    {
     "data": {
      "text/plain": [
       "KmerQuery{Kmer32{11},Kmer16{5}}(ATGAC, GTCAT, ExactSearchQuery{Kmer16{5}}(ATGAC, 0x0000000f, 5, 3), ExactSearchQuery{Kmer16{5}}(GTCAT, 0x0000000f, 3, 5))"
      ]
     },
     "execution_count": 8,
     "metadata": {},
     "output_type": "execute_result"
    }
   ],
   "source": [
    "kspec = KmerSpec{11}(kmer\"ATGAC\")\n",
    "\n",
    "query = KmerQuery(kspec)"
   ]
  },
  {
   "cell_type": "code",
   "execution_count": 9,
   "metadata": {},
   "outputs": [
    {
     "data": {
      "text/plain": [
       "\"/Users/student/projects/midas/data/gold_standard_seqs_200726/reads/16AC1611139-CAP_S14_L001_R1_001.fastq.gz\" => \"/Users/student/projects/midas/data/gold_standard_seqs_200726/assembled/16AC1611139-CAP_S14_L001_R1_001.fasta\""
      ]
     },
     "execution_count": 9,
     "metadata": {},
     "output_type": "execute_result"
    }
   ],
   "source": [
    "# Choose an arbitrary pair to analyze\n",
    "filepair = seq_file_pairs[3]"
   ]
  },
  {
   "cell_type": "markdown",
   "metadata": {},
   "source": [
    "## Raw read counts"
   ]
  },
  {
   "cell_type": "code",
   "execution_count": 10,
   "metadata": {},
   "outputs": [],
   "source": [
    "thresholds = [10, 15, 20, 25]\n",
    "read_counts = zeros(Int, length(thresholds), nkmers(kspec.k));"
   ]
  },
  {
   "cell_type": "code",
   "execution_count": 11,
   "metadata": {},
   "outputs": [
    {
     "name": "stderr",
     "output_type": "stream",
     "text": [
      "\u001b[32mProgress:  1054659 \t Time: 0:00:11\u001b[39m\n"
     ]
    },
    {
     "data": {
      "text/plain": [
       "1054659"
      ]
     },
     "execution_count": 11,
     "metadata": {},
     "output_type": "execute_result"
    }
   ],
   "source": [
    "let\n",
    "    fastq = GzipDecompressorStream(open(filepair[1]))\n",
    "    reader = FASTQ.Reader(fastq)\n",
    "\n",
    "    nreads = 0\n",
    "    prog = ProgressUnknown()\n",
    "\n",
    "    for record in reader\n",
    "        nreads += 1\n",
    "\n",
    "        seq = sequence(record)\n",
    "        phred = quality(record)\n",
    "\n",
    "        for m in findkmers(query, seq)\n",
    "            score = phredprod(phred[m.fullinds])\n",
    "            ithresh = searchsortedfirst(thresholds, score) - 1\n",
    "            ithresh < 1 && continue\n",
    "            \n",
    "            ikmer = BioSequences.encoded_data(m.kmer) + 1\n",
    "            read_counts[1:ithresh, ikmer] .+= 1\n",
    "        end\n",
    "        \n",
    "        next!(prog)\n",
    "    end\n",
    "    \n",
    "    finish!(prog)\n",
    "    \n",
    "    nreads\n",
    "end"
   ]
  },
  {
   "cell_type": "code",
   "execution_count": 12,
   "metadata": {},
   "outputs": [
    {
     "data": {
      "text/plain": [
       "4-element Array{Int64,1}:\n",
       " 9347\n",
       " 8785\n",
       " 8600\n",
       " 8178"
      ]
     },
     "execution_count": 12,
     "metadata": {},
     "output_type": "execute_result"
    }
   ],
   "source": [
    "[count(>(0), r) for r in eachrow(read_counts)]"
   ]
  },
  {
   "cell_type": "markdown",
   "metadata": {},
   "source": [
    "## Assembly counts"
   ]
  },
  {
   "cell_type": "code",
   "execution_count": 13,
   "metadata": {},
   "outputs": [],
   "source": [
    "assembly_counts = zeros(Int, length(thresholds), nkmers(kspec.k));"
   ]
  },
  {
   "cell_type": "code",
   "execution_count": 14,
   "metadata": {},
   "outputs": [
    {
     "name": "stderr",
     "output_type": "stream",
     "text": [
      "\u001b[32mProgress:  440 \t Time: 0:00:00\u001b[39m\n"
     ]
    },
    {
     "data": {
      "text/plain": [
       "440"
      ]
     },
     "execution_count": 14,
     "metadata": {},
     "output_type": "execute_result"
    }
   ],
   "source": [
    "let\n",
    "    fasta = open(filepair[2])\n",
    "    reader = FASTA.Reader(fasta)\n",
    "\n",
    "    nreads = 0\n",
    "    prog = ProgressUnknown()\n",
    "\n",
    "    for record in reader\n",
    "        nreads += 1\n",
    "\n",
    "        for m in findkmers(query, sequence(record))\n",
    "            ikmer = BioSequences.encoded_data(m.kmer) + 1\n",
    "            assembly_counts[ikmer] += 1\n",
    "        end\n",
    "        \n",
    "        next!(prog)\n",
    "    end\n",
    "    \n",
    "    finish!(prog)\n",
    "    \n",
    "    nreads\n",
    "end"
   ]
  },
  {
   "cell_type": "code",
   "execution_count": 15,
   "metadata": {},
   "outputs": [
    {
     "data": {
      "text/plain": [
       "7474"
      ]
     },
     "execution_count": 15,
     "metadata": {},
     "output_type": "execute_result"
    }
   ],
   "source": [
    "count(>(0), assembly_counts)"
   ]
  },
  {
   "cell_type": "markdown",
   "metadata": {},
   "source": [
    "## Plots"
   ]
  },
  {
   "cell_type": "code",
   "execution_count": 16,
   "metadata": {},
   "outputs": [
    {
     "data": {
      "image/png": "[encoded data removed]",
      "text/plain": [
       "Figure(PyObject <Figure size 1000x800 with 1 Axes>)"
      ]
     },
     "metadata": {},
     "output_type": "display_data"
    },
    {
     "data": {
      "text/plain": [
       "PyObject Text(0.5, 0.98, 'Kmer counts in assembly')"
      ]
     },
     "execution_count": 16,
     "metadata": {},
     "output_type": "execute_result"
    }
   ],
   "source": [
    "plt.hist(filter(>(0), assembly_counts), range=(.5,10.5), bins=10, log=true)\n",
    "plt.xticks(1:10)\n",
    "plt.suptitle(\"Kmer counts in assembly\")"
   ]
  },
  {
   "cell_type": "code",
   "execution_count": 17,
   "metadata": {},
   "outputs": [],
   "source": [
    "union_indices = [\n",
    "    findall(i -> r[i] > 0 || assembly_counts[i] > 0, eachindex(r))\n",
    "    for r in eachrow(read_counts)\n",
    "];"
   ]
  },
  {
   "cell_type": "code",
   "execution_count": 18,
   "metadata": {},
   "outputs": [
    {
     "data": {
      "image/png": "[encoded data removed]",
      "text/plain": [
       "Figure(PyObject <Figure size 1000x800 with 8 Axes>)"
      ]
     },
     "metadata": {},
     "output_type": "display_data"
    }
   ],
   "source": [
    "let\n",
    "    fig, axs = plt.subplots(4, 2, sharex=:col, sharey=true)\n",
    "    pal = sns.color_palette(n_colors=length(thresholds))\n",
    "    \n",
    "    bins1 = 1:10\n",
    "    bins2 = 10 .^ LinRange(1, 3, 20)\n",
    "    \n",
    "    for (i, t) in enumerate(thresholds)\n",
    "        ax1, ax2 = axs[i, :]\n",
    "        \n",
    "        vals = read_counts[i, :]\n",
    "        myhist(ax1, vals, pal[i], bins=bins1)\n",
    "        myhist(ax2, vals, pal[i], bins=bins2)\n",
    "        \n",
    "        ax1.set_ylabel(\"Score ≥ $t\")\n",
    "        \n",
    "        cnt = count(>(0), view(read_counts, i, :))\n",
    "        ax2.text(.98, .95, \"$cnt found\",\n",
    "            transform=ax2.transAxes, va=:top, ha=:right)\n",
    "    end\n",
    "    \n",
    "    axs[end, 2].set_xscale(:log)\n",
    "    axs[end, 1].set_xlabel(\"Kmer count\")\n",
    "    axs[end, 2].set_xlabel(\"Kmer count\")\n",
    "    plt.suptitle(\"Kmer counts in raw reads\")\n",
    "    plt.tight_layout(pad=3, w_pad=.5, h_pad=1)\n",
    "end"
   ]
  },
  {
   "cell_type": "code",
   "execution_count": 19,
   "metadata": {},
   "outputs": [
    {
     "data": {
      "image/png": "[encoded data removed]",
      "text/plain": [
       "Figure(PyObject <Figure size 1000x800 with 8 Axes>)"
      ]
     },
     "metadata": {},
     "output_type": "display_data"
    },
    {
     "data": {
      "text/plain": [
       "PyObject Text(0.5, 0.98, 'Kmer counts in raw reads')"
      ]
     },
     "execution_count": 19,
     "metadata": {},
     "output_type": "execute_result"
    }
   ],
   "source": [
    "let\n",
    "    fig, axs = plt.subplots(length(thresholds), 2, sharex=:col, sharey=true)\n",
    "    \n",
    "    max_read = maximum(read_counts)\n",
    "    nbins = 25\n",
    "    bins1 = 1:10\n",
    "    bins2 = 10 .^ LinRange(1, log10(max_read+1), nbins+1)\n",
    "    \n",
    "    pal = sns.color_palette(n_colors=2)\n",
    "    alpha = 0.25\n",
    "    \n",
    "    for i in axes(thresholds, 1)                          \n",
    "        ax1, ax2 = axs[i, :]\n",
    "        idxs = union_indices[i]\n",
    "        read_counts2 = @view read_counts[i, :]\n",
    "        max_read = maximum(read_counts2)\n",
    "    \n",
    "        ax2.set_xscale(:log)\n",
    "        ax1.set_ylabel(\"Score ≥ $(thresholds[i])\")\n",
    "        \n",
    "        for (ax, bins) in zip([ax1, ax2], [bins1, bins2])\n",
    "            h1 = myhist(ax, \n",
    "                [read_counts2[j] for j in idxs if assembly_counts[j] > 0],\n",
    "                pal[1],\n",
    "                bins=bins)\n",
    "            h2 = myhist(ax, \n",
    "                [read_counts2[j] for j in idxs if assembly_counts[j] == 0],\n",
    "                pal[2],\n",
    "                bins=bins)\n",
    "\n",
    "            ax === ax2 && ax.legend([h1[1][3][1], h2[1][3][1]], [\"In assembly\", \"Not in assembly\"])\n",
    "        end\n",
    "    end\n",
    "    \n",
    "    axs[end, 1].set_xlabel(\"Kmer count\")\n",
    "    axs[end, 2].set_xlabel(\"Kmer count\")\n",
    "    \n",
    "    fig.tight_layout(pad=3, w_pad=.5, h_pad=1)\n",
    "    plt.suptitle(\"Kmer counts in raw reads\")\n",
    "end"
   ]
  },
  {
   "cell_type": "markdown",
   "metadata": {},
   "source": [
    "## Accuracy"
   ]
  },
  {
   "cell_type": "code",
   "execution_count": 21,
   "metadata": {},
   "outputs": [
    {
     "data": {
      "text/plain": [
       "6-element Array{Int64,1}:\n",
       "  1\n",
       "  2\n",
       "  3\n",
       "  4\n",
       "  5\n",
       " 10"
      ]
     },
     "execution_count": 21,
     "metadata": {},
     "output_type": "execute_result"
    }
   ],
   "source": [
    "count_thresholds = vcat(1:5, 10)"
   ]
  },
  {
   "cell_type": "code",
   "execution_count": 22,
   "metadata": {},
   "outputs": [
    {
     "data": {
      "text/html": [
       "<div>\n",
       "<style scoped>\n",
       "    .dataframe tbody tr th:only-of-type {\n",
       "        vertical-align: middle;\n",
       "    }\n",
       "\n",
       "    .dataframe tbody tr th {\n",
       "        vertical-align: top;\n",
       "    }\n",
       "\n",
       "    .dataframe thead th {\n",
       "        text-align: right;\n",
       "    }\n",
       "</style>\n",
       "<table border=\"1\" class=\"dataframe\">\n",
       "  <thead>\n",
       "    <tr style=\"text-align: right;\">\n",
       "      <th></th>\n",
       "      <th></th>\n",
       "      <th></th>\n",
       "      <th></th>\n",
       "      <th>count</th>\n",
       "    </tr>\n",
       "    <tr>\n",
       "      <th>score_threshold</th>\n",
       "      <th>count_threshold</th>\n",
       "      <th>in_reads</th>\n",
       "      <th>in_assembly</th>\n",
       "      <th></th>\n",
       "    </tr>\n",
       "  </thead>\n",
       "  <tbody>\n",
       "    <tr>\n",
       "      <th rowspan=\"5\" valign=\"top\">10</th>\n",
       "      <th rowspan=\"4\" valign=\"top\">1</th>\n",
       "      <th rowspan=\"2\" valign=\"top\">False</th>\n",
       "      <th>False</th>\n",
       "      <td>4184957</td>\n",
       "    </tr>\n",
       "    <tr>\n",
       "      <th>True</th>\n",
       "      <td>0</td>\n",
       "    </tr>\n",
       "    <tr>\n",
       "      <th rowspan=\"2\" valign=\"top\">True</th>\n",
       "      <th>False</th>\n",
       "      <td>1873</td>\n",
       "    </tr>\n",
       "    <tr>\n",
       "      <th>True</th>\n",
       "      <td>7474</td>\n",
       "    </tr>\n",
       "    <tr>\n",
       "      <th>2</th>\n",
       "      <th>False</th>\n",
       "      <th>False</th>\n",
       "      <td>4186787</td>\n",
       "    </tr>\n",
       "    <tr>\n",
       "      <th>...</th>\n",
       "      <th>...</th>\n",
       "      <th>...</th>\n",
       "      <th>...</th>\n",
       "      <td>...</td>\n",
       "    </tr>\n",
       "    <tr>\n",
       "      <th rowspan=\"5\" valign=\"top\">25</th>\n",
       "      <th>5</th>\n",
       "      <th>True</th>\n",
       "      <th>True</th>\n",
       "      <td>7348</td>\n",
       "    </tr>\n",
       "    <tr>\n",
       "      <th rowspan=\"4\" valign=\"top\">10</th>\n",
       "      <th rowspan=\"2\" valign=\"top\">False</th>\n",
       "      <th>False</th>\n",
       "      <td>4186823</td>\n",
       "    </tr>\n",
       "    <tr>\n",
       "      <th>True</th>\n",
       "      <td>1054</td>\n",
       "    </tr>\n",
       "    <tr>\n",
       "      <th rowspan=\"2\" valign=\"top\">True</th>\n",
       "      <th>False</th>\n",
       "      <td>7</td>\n",
       "    </tr>\n",
       "    <tr>\n",
       "      <th>True</th>\n",
       "      <td>6420</td>\n",
       "    </tr>\n",
       "  </tbody>\n",
       "</table>\n",
       "<p>96 rows × 1 columns</p>\n",
       "</div>"
      ],
      "text/plain": [
       "PyObject                                                         count\n",
       "score_threshold count_threshold in_reads in_assembly         \n",
       "10              1               False    False        4184957\n",
       "                                         True               0\n",
       "                                True     False           1873\n",
       "                                         True            7474\n",
       "                2               False    False        4186787\n",
       "...                                                       ...\n",
       "25              5               True     True            7348\n",
       "                10              False    False        4186823\n",
       "                                         True            1054\n",
       "                                True     False              7\n",
       "                                         True            6420\n",
       "\n",
       "[96 rows x 1 columns]"
      ]
     },
     "execution_count": 22,
     "metadata": {},
     "output_type": "execute_result"
    }
   ],
   "source": [
    "counts_df = let\n",
    "    rows = Any[]\n",
    "    kmer_in_assembly = assembly_counts .>= 1\n",
    "    \n",
    "    for (i, score_thresh) in enumerate(thresholds), count_thresh in count_thresholds\n",
    "        kmer_in_read = @view(read_counts[i, :]) .>= count_thresh\n",
    "        for in_read in [false, true], in_assembly in [false, true]\n",
    "            c = count(i -> kmer_in_read[i] == in_read && kmer_in_assembly[i] == in_assembly, 1:nkmers(kspec.k))\n",
    "            push!(rows, (score_thresh, count_thresh, in_read, in_assembly, c))\n",
    "        end\n",
    "    end\n",
    "    \n",
    "    cols = [:score_threshold, :count_threshold, :in_reads, :in_assembly, :count]\n",
    "    pd.DataFrame.from_records(rows, columns=cols).set_index(cols[1:end-1])\n",
    "end"
   ]
  },
  {
   "cell_type": "code",
   "execution_count": 23,
   "metadata": {},
   "outputs": [
    {
     "data": {
      "text/html": [
       "<div>\n",
       "<style scoped>\n",
       "    .dataframe tbody tr th:only-of-type {\n",
       "        vertical-align: middle;\n",
       "    }\n",
       "\n",
       "    .dataframe tbody tr th {\n",
       "        vertical-align: top;\n",
       "    }\n",
       "\n",
       "    .dataframe thead tr th {\n",
       "        text-align: left;\n",
       "    }\n",
       "\n",
       "    .dataframe thead tr:last-of-type th {\n",
       "        text-align: right;\n",
       "    }\n",
       "</style>\n",
       "<table border=\"1\" class=\"dataframe\">\n",
       "  <thead>\n",
       "    <tr>\n",
       "      <th></th>\n",
       "      <th></th>\n",
       "      <th colspan=\"12\" halign=\"left\">count</th>\n",
       "    </tr>\n",
       "    <tr>\n",
       "      <th></th>\n",
       "      <th>count_threshold</th>\n",
       "      <th colspan=\"2\" halign=\"left\">1</th>\n",
       "      <th colspan=\"2\" halign=\"left\">2</th>\n",
       "      <th colspan=\"2\" halign=\"left\">3</th>\n",
       "      <th colspan=\"2\" halign=\"left\">4</th>\n",
       "      <th colspan=\"2\" halign=\"left\">5</th>\n",
       "      <th colspan=\"2\" halign=\"left\">10</th>\n",
       "    </tr>\n",
       "    <tr>\n",
       "      <th></th>\n",
       "      <th>in_reads</th>\n",
       "      <th>False</th>\n",
       "      <th>True</th>\n",
       "      <th>False</th>\n",
       "      <th>True</th>\n",
       "      <th>False</th>\n",
       "      <th>True</th>\n",
       "      <th>False</th>\n",
       "      <th>True</th>\n",
       "      <th>False</th>\n",
       "      <th>True</th>\n",
       "      <th>False</th>\n",
       "      <th>True</th>\n",
       "    </tr>\n",
       "    <tr>\n",
       "      <th>score_threshold</th>\n",
       "      <th>in_assembly</th>\n",
       "      <th></th>\n",
       "      <th></th>\n",
       "      <th></th>\n",
       "      <th></th>\n",
       "      <th></th>\n",
       "      <th></th>\n",
       "      <th></th>\n",
       "      <th></th>\n",
       "      <th></th>\n",
       "      <th></th>\n",
       "      <th></th>\n",
       "      <th></th>\n",
       "    </tr>\n",
       "  </thead>\n",
       "  <tbody>\n",
       "    <tr>\n",
       "      <th rowspan=\"2\" valign=\"top\">10</th>\n",
       "      <th>False</th>\n",
       "      <td>4184957</td>\n",
       "      <td>1873</td>\n",
       "      <td>4186787</td>\n",
       "      <td>43</td>\n",
       "      <td>4186818</td>\n",
       "      <td>12</td>\n",
       "      <td>4186821</td>\n",
       "      <td>9</td>\n",
       "      <td>4186822</td>\n",
       "      <td>8</td>\n",
       "      <td>4186823</td>\n",
       "      <td>7</td>\n",
       "    </tr>\n",
       "    <tr>\n",
       "      <th>True</th>\n",
       "      <td>0</td>\n",
       "      <td>7474</td>\n",
       "      <td>0</td>\n",
       "      <td>7474</td>\n",
       "      <td>3</td>\n",
       "      <td>7471</td>\n",
       "      <td>14</td>\n",
       "      <td>7460</td>\n",
       "      <td>26</td>\n",
       "      <td>7448</td>\n",
       "      <td>228</td>\n",
       "      <td>7246</td>\n",
       "    </tr>\n",
       "    <tr>\n",
       "      <th rowspan=\"2\" valign=\"top\">15</th>\n",
       "      <th>False</th>\n",
       "      <td>4185519</td>\n",
       "      <td>1311</td>\n",
       "      <td>4186796</td>\n",
       "      <td>34</td>\n",
       "      <td>4186819</td>\n",
       "      <td>11</td>\n",
       "      <td>4186821</td>\n",
       "      <td>9</td>\n",
       "      <td>4186822</td>\n",
       "      <td>8</td>\n",
       "      <td>4186823</td>\n",
       "      <td>7</td>\n",
       "    </tr>\n",
       "    <tr>\n",
       "      <th>True</th>\n",
       "      <td>0</td>\n",
       "      <td>7474</td>\n",
       "      <td>0</td>\n",
       "      <td>7474</td>\n",
       "      <td>4</td>\n",
       "      <td>7470</td>\n",
       "      <td>18</td>\n",
       "      <td>7456</td>\n",
       "      <td>30</td>\n",
       "      <td>7444</td>\n",
       "      <td>266</td>\n",
       "      <td>7208</td>\n",
       "    </tr>\n",
       "    <tr>\n",
       "      <th rowspan=\"2\" valign=\"top\">20</th>\n",
       "      <th>False</th>\n",
       "      <td>4185704</td>\n",
       "      <td>1126</td>\n",
       "      <td>4186800</td>\n",
       "      <td>30</td>\n",
       "      <td>4186820</td>\n",
       "      <td>10</td>\n",
       "      <td>4186821</td>\n",
       "      <td>9</td>\n",
       "      <td>4186822</td>\n",
       "      <td>8</td>\n",
       "      <td>4186823</td>\n",
       "      <td>7</td>\n",
       "    </tr>\n",
       "    <tr>\n",
       "      <th>True</th>\n",
       "      <td>0</td>\n",
       "      <td>7474</td>\n",
       "      <td>1</td>\n",
       "      <td>7473</td>\n",
       "      <td>6</td>\n",
       "      <td>7468</td>\n",
       "      <td>25</td>\n",
       "      <td>7449</td>\n",
       "      <td>40</td>\n",
       "      <td>7434</td>\n",
       "      <td>330</td>\n",
       "      <td>7144</td>\n",
       "    </tr>\n",
       "    <tr>\n",
       "      <th rowspan=\"2\" valign=\"top\">25</th>\n",
       "      <th>False</th>\n",
       "      <td>4186125</td>\n",
       "      <td>705</td>\n",
       "      <td>4186810</td>\n",
       "      <td>20</td>\n",
       "      <td>4186822</td>\n",
       "      <td>8</td>\n",
       "      <td>4186822</td>\n",
       "      <td>8</td>\n",
       "      <td>4186822</td>\n",
       "      <td>8</td>\n",
       "      <td>4186823</td>\n",
       "      <td>7</td>\n",
       "    </tr>\n",
       "    <tr>\n",
       "      <th>True</th>\n",
       "      <td>1</td>\n",
       "      <td>7473</td>\n",
       "      <td>10</td>\n",
       "      <td>7464</td>\n",
       "      <td>34</td>\n",
       "      <td>7440</td>\n",
       "      <td>81</td>\n",
       "      <td>7393</td>\n",
       "      <td>126</td>\n",
       "      <td>7348</td>\n",
       "      <td>1054</td>\n",
       "      <td>6420</td>\n",
       "    </tr>\n",
       "  </tbody>\n",
       "</table>\n",
       "</div>"
      ],
      "text/plain": [
       "PyObject                                count                 ...                     \n",
       "count_threshold                   1              2   ...    5        10      \n",
       "in_reads                       False True     False  ... True     False True \n",
       "score_threshold in_assembly                          ...                     \n",
       "10              False        4184957  1873  4186787  ...     8  4186823     7\n",
       "                True               0  7474        0  ...  7448      228  7246\n",
       "15              False        4185519  1311  4186796  ...     8  4186823     7\n",
       "                True               0  7474        0  ...  7444      266  7208\n",
       "20              False        4185704  1126  4186800  ...     8  4186823     7\n",
       "                True               0  7474        1  ...  7434      330  7144\n",
       "25              False        4186125   705  4186810  ...     8  4186823     7\n",
       "                True               1  7473       10  ...  7348     1054  6420\n",
       "\n",
       "[8 rows x 12 columns]"
      ]
     },
     "execution_count": 23,
     "metadata": {},
     "output_type": "execute_result"
    }
   ],
   "source": [
    "confusion = counts_df.unstack([:count_threshold, :in_reads])"
   ]
  },
  {
   "cell_type": "code",
   "execution_count": 24,
   "metadata": {},
   "outputs": [
    {
     "data": {
      "text/html": [
       "<div>\n",
       "<style scoped>\n",
       "    .dataframe tbody tr th:only-of-type {\n",
       "        vertical-align: middle;\n",
       "    }\n",
       "\n",
       "    .dataframe tbody tr th {\n",
       "        vertical-align: top;\n",
       "    }\n",
       "\n",
       "    .dataframe thead th {\n",
       "        text-align: right;\n",
       "    }\n",
       "</style>\n",
       "<table border=\"1\" class=\"dataframe\">\n",
       "  <thead>\n",
       "    <tr style=\"text-align: right;\">\n",
       "      <th></th>\n",
       "      <th></th>\n",
       "      <th>precision</th>\n",
       "      <th>recall</th>\n",
       "      <th>jaccard</th>\n",
       "    </tr>\n",
       "    <tr>\n",
       "      <th>score_threshold</th>\n",
       "      <th>count_threshold</th>\n",
       "      <th></th>\n",
       "      <th></th>\n",
       "      <th></th>\n",
       "    </tr>\n",
       "  </thead>\n",
       "  <tbody>\n",
       "    <tr>\n",
       "      <th rowspan=\"6\" valign=\"top\">10</th>\n",
       "      <th>1</th>\n",
       "      <td>0.799615</td>\n",
       "      <td>1.000000</td>\n",
       "      <td>0.799615</td>\n",
       "    </tr>\n",
       "    <tr>\n",
       "      <th>2</th>\n",
       "      <td>0.994280</td>\n",
       "      <td>1.000000</td>\n",
       "      <td>0.994280</td>\n",
       "    </tr>\n",
       "    <tr>\n",
       "      <th>3</th>\n",
       "      <td>0.998396</td>\n",
       "      <td>0.999599</td>\n",
       "      <td>0.997996</td>\n",
       "    </tr>\n",
       "    <tr>\n",
       "      <th>4</th>\n",
       "      <td>0.998795</td>\n",
       "      <td>0.998127</td>\n",
       "      <td>0.996926</td>\n",
       "    </tr>\n",
       "    <tr>\n",
       "      <th>5</th>\n",
       "      <td>0.998927</td>\n",
       "      <td>0.996521</td>\n",
       "      <td>0.995456</td>\n",
       "    </tr>\n",
       "    <tr>\n",
       "      <th>10</th>\n",
       "      <td>0.999035</td>\n",
       "      <td>0.969494</td>\n",
       "      <td>0.968587</td>\n",
       "    </tr>\n",
       "    <tr>\n",
       "      <th rowspan=\"6\" valign=\"top\">15</th>\n",
       "      <th>1</th>\n",
       "      <td>0.850768</td>\n",
       "      <td>1.000000</td>\n",
       "      <td>0.850768</td>\n",
       "    </tr>\n",
       "    <tr>\n",
       "      <th>2</th>\n",
       "      <td>0.995471</td>\n",
       "      <td>1.000000</td>\n",
       "      <td>0.995471</td>\n",
       "    </tr>\n",
       "    <tr>\n",
       "      <th>3</th>\n",
       "      <td>0.998530</td>\n",
       "      <td>0.999465</td>\n",
       "      <td>0.997996</td>\n",
       "    </tr>\n",
       "    <tr>\n",
       "      <th>4</th>\n",
       "      <td>0.998794</td>\n",
       "      <td>0.997592</td>\n",
       "      <td>0.996392</td>\n",
       "    </tr>\n",
       "    <tr>\n",
       "      <th>5</th>\n",
       "      <td>0.998926</td>\n",
       "      <td>0.995986</td>\n",
       "      <td>0.994921</td>\n",
       "    </tr>\n",
       "    <tr>\n",
       "      <th>10</th>\n",
       "      <td>0.999030</td>\n",
       "      <td>0.964410</td>\n",
       "      <td>0.963508</td>\n",
       "    </tr>\n",
       "    <tr>\n",
       "      <th rowspan=\"6\" valign=\"top\">20</th>\n",
       "      <th>1</th>\n",
       "      <td>0.869070</td>\n",
       "      <td>1.000000</td>\n",
       "      <td>0.869070</td>\n",
       "    </tr>\n",
       "    <tr>\n",
       "      <th>2</th>\n",
       "      <td>0.996002</td>\n",
       "      <td>0.999866</td>\n",
       "      <td>0.995869</td>\n",
       "    </tr>\n",
       "    <tr>\n",
       "      <th>3</th>\n",
       "      <td>0.998663</td>\n",
       "      <td>0.999197</td>\n",
       "      <td>0.997862</td>\n",
       "    </tr>\n",
       "    <tr>\n",
       "      <th>4</th>\n",
       "      <td>0.998793</td>\n",
       "      <td>0.996655</td>\n",
       "      <td>0.995456</td>\n",
       "    </tr>\n",
       "    <tr>\n",
       "      <th>5</th>\n",
       "      <td>0.998925</td>\n",
       "      <td>0.994648</td>\n",
       "      <td>0.993585</td>\n",
       "    </tr>\n",
       "    <tr>\n",
       "      <th>10</th>\n",
       "      <td>0.999021</td>\n",
       "      <td>0.955847</td>\n",
       "      <td>0.954953</td>\n",
       "    </tr>\n",
       "    <tr>\n",
       "      <th rowspan=\"6\" valign=\"top\">25</th>\n",
       "      <th>1</th>\n",
       "      <td>0.913793</td>\n",
       "      <td>0.999866</td>\n",
       "      <td>0.913681</td>\n",
       "    </tr>\n",
       "    <tr>\n",
       "      <th>2</th>\n",
       "      <td>0.997328</td>\n",
       "      <td>0.998662</td>\n",
       "      <td>0.995997</td>\n",
       "    </tr>\n",
       "    <tr>\n",
       "      <th>3</th>\n",
       "      <td>0.998926</td>\n",
       "      <td>0.995451</td>\n",
       "      <td>0.994387</td>\n",
       "    </tr>\n",
       "    <tr>\n",
       "      <th>4</th>\n",
       "      <td>0.998919</td>\n",
       "      <td>0.989162</td>\n",
       "      <td>0.988105</td>\n",
       "    </tr>\n",
       "    <tr>\n",
       "      <th>5</th>\n",
       "      <td>0.998912</td>\n",
       "      <td>0.983142</td>\n",
       "      <td>0.982090</td>\n",
       "    </tr>\n",
       "    <tr>\n",
       "      <th>10</th>\n",
       "      <td>0.998911</td>\n",
       "      <td>0.858978</td>\n",
       "      <td>0.858174</td>\n",
       "    </tr>\n",
       "  </tbody>\n",
       "</table>\n",
       "</div>"
      ],
      "text/plain": [
       "PyObject                                  precision    recall   jaccard\n",
       "score_threshold count_threshold                               \n",
       "10              1                 0.799615  1.000000  0.799615\n",
       "                2                 0.994280  1.000000  0.994280\n",
       "                3                 0.998396  0.999599  0.997996\n",
       "                4                 0.998795  0.998127  0.996926\n",
       "                5                 0.998927  0.996521  0.995456\n",
       "                10                0.999035  0.969494  0.968587\n",
       "15              1                 0.850768  1.000000  0.850768\n",
       "                2                 0.995471  1.000000  0.995471\n",
       "                3                 0.998530  0.999465  0.997996\n",
       "                4                 0.998794  0.997592  0.996392\n",
       "                5                 0.998926  0.995986  0.994921\n",
       "                10                0.999030  0.964410  0.963508\n",
       "20              1                 0.869070  1.000000  0.869070\n",
       "                2                 0.996002  0.999866  0.995869\n",
       "                3                 0.998663  0.999197  0.997862\n",
       "                4                 0.998793  0.996655  0.995456\n",
       "                5                 0.998925  0.994648  0.993585\n",
       "                10                0.999021  0.955847  0.954953\n",
       "25              1                 0.913793  0.999866  0.913681\n",
       "                2                 0.997328  0.998662  0.995997\n",
       "                3                 0.998926  0.995451  0.994387\n",
       "                4                 0.998919  0.989162  0.988105\n",
       "                5                 0.998912  0.983142  0.982090\n",
       "                10                0.998911  0.858978  0.858174"
      ]
     },
     "execution_count": 24,
     "metadata": {},
     "output_type": "execute_result"
    }
   ],
   "source": [
    "pr_df = counts_df.groupby([:score_threshold, :count_threshold]).apply() do g\n",
    "    g = py\"$g['count']\".reset_index([:score_threshold, :count_threshold], drop=true)\n",
    "    tp = py\"$g.loc[True, True]\"\n",
    "    fp = py\"$g.loc[True, False]\"\n",
    "    fn = py\"$g.loc[False, True]\"\n",
    "    return pd.Series([tp / (tp + fp), tp / (tp + fn), tp / (tp + fn + fp)], index=[:precision, :recall, :jaccard])\n",
    "end"
   ]
  },
  {
   "cell_type": "code",
   "execution_count": 25,
   "metadata": {},
   "outputs": [
    {
     "data": {
      "application/vnd.plotly.v1+json": {
       "data": [
        {
         "hovertemplate": "    Precision: %{x:.4f}<br>\n    Recall: %{y:.4f}<br>\n    Count threshold: %{marker.color}\n",
         "marker": {
          "color": [
           1,
           2,
           3,
           4,
           5,
           10
          ],
          "colorscale": "Rainbow",
          "symbol": "circle"
         },
         "mode": "markers",
         "name": "Score ≥ 10",
         "type": "scatter",
         "x": [
          0.7996148496843907,
          0.994279632832247,
          0.9983963650942136,
          0.9987950194135761,
          0.9989270386266095,
          0.9990348821177444
         ],
         "y": [
          1,
          1,
          0.9995986085094996,
          0.9981268397109981,
          0.9965212737489966,
          0.9694942467219695
         ]
        },
        {
         "hovertemplate": "    Precision: %{x:.4f}<br>\n    Recall: %{y:.4f}<br>\n    Count threshold: %{marker.color}\n",
         "marker": {
          "color": [
           1,
           2,
           3,
           4,
           5,
           10
          ],
          "colorscale": "Rainbow",
          "symbol": "square"
         },
         "mode": "markers",
         "name": "Score ≥ 15",
         "type": "scatter",
         "x": [
          0.8507683551508253,
          0.9954714970697922,
          0.9985296083411309,
          0.9987943737441393,
          0.9989264626945786,
          0.999029799029799
         ],
         "y": [
          1,
          1,
          0.9994648113459995,
          0.9975916510569975,
          0.995986085094996,
          0.9644099545089644
         ]
        },
        {
         "hovertemplate": "    Precision: %{x:.4f}<br>\n    Recall: %{y:.4f}<br>\n    Count threshold: %{marker.color}\n",
         "marker": {
          "color": [
           1,
           2,
           3,
           4,
           5,
           10
          ],
          "colorscale": "Rainbow",
          "symbol": "triangle-up"
         },
         "mode": "markers",
         "name": "Score ≥ 20",
         "type": "scatter",
         "x": [
          0.8690697674418605,
          0.9960015993602559,
          0.9986627440492111,
          0.998793242156074,
          0.998925020155872,
          0.9990211159278423
         ],
         "y": [
          1,
          0.9998662028364999,
          0.9991972170189992,
          0.9966550709124966,
          0.9946481134599946,
          0.9558469360449559
         ]
        },
        {
         "hovertemplate": "    Precision: %{x:.4f}<br>\n    Recall: %{y:.4f}<br>\n    Count threshold: %{marker.color}\n",
         "marker": {
          "color": [
           1,
           2,
           3,
           4,
           5,
           10
          ],
          "colorscale": "Rainbow",
          "symbol": "diamond"
         },
         "mode": "markers",
         "name": "Score ≥ 25",
         "type": "scatter",
         "x": [
          0.9137931034482759,
          0.997327632282202,
          0.9989258861439313,
          0.9989190649912174,
          0.9989124524197933,
          0.9989108448731913
         ],
         "y": [
          0.9998662028364999,
          0.9986620283649986,
          0.9954508964409955,
          0.9891624297564892,
          0.9831415573989831,
          0.858977789670859
         ]
        }
       ],
       "layout": {
        "autosize": true,
        "hovermode": "closest",
        "margin": {
         "b": 50,
         "l": 50,
         "r": 50,
         "t": 60
        },
        "xaxis": {
         "range": [
          0.99,
          1.001
         ],
         "title": {
          "text": "Precision"
         },
         "type": "linear"
        },
        "yaxis": {
         "range": [
          0.99,
          1.001
         ],
         "title": {
          "text": "Recall"
         },
         "type": "linear"
        }
       }
      },
      "application/vnd.webio.node+json": {
       "children": [
        {
         "children": [],
         "instanceArgs": {
          "namespace": "html",
          "tag": "div"
         },
         "nodeType": "DOM",
         "props": {
          "id": "plot-81f883d6-4846-445d-92c2-d4be574e40e9"
         },
         "type": "node"
        }
       ],
       "instanceArgs": {
        "handlers": {
         "__get_gd_contents": [
          "(function (prop){prop==\"data\" ? (WebIO.setval({\"name\":\"__gd_contents\",\"scope\":\"757686324522335962\",\"id\":\"14308777933286474242\",\"type\":\"observable\"},this.plotElem.data)) : undefined; return prop==\"layout\" ? (WebIO.setval({\"name\":\"__gd_contents\",\"scope\":\"757686324522335962\",\"id\":\"14308777933286474242\",\"type\":\"observable\"},this.plotElem.layout)) : undefined})"
         ],
         "_commands": [
          "(function (args){var fn=args.shift(); var elem=this.plotElem; var Plotly=this.Plotly; args.unshift(elem); return Plotly[fn].apply(this,args)})"
         ],
         "_downloadImage": [
          "(function (options){return this.Plotly.downloadImage(this.plotElem,options)})"
         ],
         "_toImage": [
          "(function (options){return this.Plotly.toImage(this.plotElem,options).then((function (data){return WebIO.setval({\"name\":\"image\",\"scope\":\"757686324522335962\",\"id\":\"10327277144198699648\",\"type\":\"observable\"},data)}))})"
         ]
        },
        "id": "757686324522335962",
        "imports": {
         "data": [
          {
           "name": "Plotly",
           "type": "js",
           "url": "/assetserver/88f341d8ef7cc4a4d100c0fba9936171902dde1a-plotly-latest.min.js"
          },
          {
           "name": null,
           "type": "js",
           "url": "/assetserver/b87a7f56c0214edbe19593fb94afc1b554276bfa-plotly_webio.bundle.js"
          }
         ],
         "type": "async_block"
        },
        "mount_callbacks": [
         "function () {\n    var handler = ((function (Plotly,PlotlyWebIO){PlotlyWebIO.init(WebIO); var gd=this.dom.querySelector(\"#plot-81f883d6-4846-445d-92c2-d4be574e40e9\"); this.plotElem=gd; this.Plotly=Plotly; (window.Blink!==undefined) ? (gd.style.width=\"100%\", gd.style.height=\"100vh\", gd.style.marginLeft=\"0%\", gd.style.marginTop=\"0vh\") : undefined; window.onresize=(function (){return Plotly.Plots.resize(gd)}); Plotly.newPlot(gd,[{\"x\":[0.7996148496843907,0.994279632832247,0.9983963650942136,0.9987950194135761,0.9989270386266095,0.9990348821177444],\"mode\":\"markers\",\"y\":[1.0,1.0,0.9995986085094996,0.9981268397109981,0.9965212737489966,0.9694942467219695],\"type\":\"scatter\",\"name\":\"Score ≥ 10\",\"hovertemplate\":\"    Precision: %{x:.4f}<br>\\n    Recall: %{y:.4f}<br>\\n    Count threshold: %{marker.color}\\n\",\"marker\":{\"color\":[1,2,3,4,5,10],\"symbol\":\"circle\",\"colorscale\":\"Rainbow\"}},{\"x\":[0.8507683551508253,0.9954714970697922,0.9985296083411309,0.9987943737441393,0.9989264626945786,0.999029799029799],\"mode\":\"markers\",\"y\":[1.0,1.0,0.9994648113459995,0.9975916510569975,0.995986085094996,0.9644099545089644],\"type\":\"scatter\",\"name\":\"Score ≥ 15\",\"hovertemplate\":\"    Precision: %{x:.4f}<br>\\n    Recall: %{y:.4f}<br>\\n    Count threshold: %{marker.color}\\n\",\"marker\":{\"color\":[1,2,3,4,5,10],\"symbol\":\"square\",\"colorscale\":\"Rainbow\"}},{\"x\":[0.8690697674418605,0.9960015993602559,0.9986627440492111,0.998793242156074,0.998925020155872,0.9990211159278423],\"mode\":\"markers\",\"y\":[1.0,0.9998662028364999,0.9991972170189992,0.9966550709124966,0.9946481134599946,0.9558469360449559],\"type\":\"scatter\",\"name\":\"Score ≥ 20\",\"hovertemplate\":\"    Precision: %{x:.4f}<br>\\n    Recall: %{y:.4f}<br>\\n    Count threshold: %{marker.color}\\n\",\"marker\":{\"color\":[1,2,3,4,5,10],\"symbol\":\"triangle-up\",\"colorscale\":\"Rainbow\"}},{\"x\":[0.9137931034482759,0.997327632282202,0.9989258861439313,0.9989190649912174,0.9989124524197933,0.9989108448731913],\"mode\":\"markers\",\"y\":[0.9998662028364999,0.9986620283649986,0.9954508964409955,0.9891624297564892,0.9831415573989831,0.858977789670859],\"type\":\"scatter\",\"name\":\"Score ≥ 25\",\"hovertemplate\":\"    Precision: %{x:.4f}<br>\\n    Recall: %{y:.4f}<br>\\n    Count threshold: %{marker.color}\\n\",\"marker\":{\"color\":[1,2,3,4,5,10],\"symbol\":\"diamond\",\"colorscale\":\"Rainbow\"}}],{\"xaxis\":{\"title\":\"Precision\",\"range\":[0.99,1.001]},\"hovermode\":\"closest\",\"margin\":{\"l\":50,\"b\":50,\"r\":50,\"t\":60},\"yaxis\":{\"title\":\"Recall\",\"range\":[0.99,1.001]}},{}); gd.on(\"plotly_hover\",(function (data){var filtered_data=WebIO.PlotlyCommands.filterEventData(gd,data,\"hover\"); return !(filtered_data.isnil) ? (WebIO.setval({\"name\":\"hover\",\"scope\":\"757686324522335962\",\"id\":\"2057620632579974045\",\"type\":\"observable\"},filtered_data.out)) : undefined})); gd.on(\"plotly_unhover\",(function (){return WebIO.setval({\"name\":\"hover\",\"scope\":\"757686324522335962\",\"id\":\"2057620632579974045\",\"type\":\"observable\"},{})})); gd.on(\"plotly_selected\",(function (data){var filtered_data=WebIO.PlotlyCommands.filterEventData(gd,data,\"selected\"); return !(filtered_data.isnil) ? (WebIO.setval({\"name\":\"selected\",\"scope\":\"757686324522335962\",\"id\":\"18183170823601555602\",\"type\":\"observable\"},filtered_data.out)) : undefined})); gd.on(\"plotly_deselect\",(function (){return WebIO.setval({\"name\":\"selected\",\"scope\":\"757686324522335962\",\"id\":\"18183170823601555602\",\"type\":\"observable\"},{})})); gd.on(\"plotly_relayout\",(function (data){var filtered_data=WebIO.PlotlyCommands.filterEventData(gd,data,\"relayout\"); return !(filtered_data.isnil) ? (WebIO.setval({\"name\":\"relayout\",\"scope\":\"757686324522335962\",\"id\":\"390541183374086451\",\"type\":\"observable\"},filtered_data.out)) : undefined})); return gd.on(\"plotly_click\",(function (data){var filtered_data=WebIO.PlotlyCommands.filterEventData(gd,data,\"click\"); return !(filtered_data.isnil) ? (WebIO.setval({\"name\":\"click\",\"scope\":\"757686324522335962\",\"id\":\"13583104506338944368\",\"type\":\"observable\"},filtered_data.out)) : undefined}))}));\n    (WebIO.importBlock({\"data\":[{\"name\":\"Plotly\",\"type\":\"js\",\"url\":\"/assetserver/88f341d8ef7cc4a4d100c0fba9936171902dde1a-plotly-latest.min.js\"},{\"name\":null,\"type\":\"js\",\"url\":\"/assetserver/b87a7f56c0214edbe19593fb94afc1b554276bfa-plotly_webio.bundle.js\"}],\"type\":\"async_block\"})).then((imports) => handler.apply(this, imports));\n}\n"
        ],
        "observables": {
         "__gd_contents": {
          "id": "14308777933286474242",
          "sync": false,
          "value": {}
         },
         "__get_gd_contents": {
          "id": "11622563674813472093",
          "sync": false,
          "value": ""
         },
         "_commands": {
          "id": "14157105705085684145",
          "sync": false,
          "value": []
         },
         "_downloadImage": {
          "id": "2863703939059185843",
          "sync": false,
          "value": {}
         },
         "_toImage": {
          "id": "8537195518110271498",
          "sync": false,
          "value": {}
         },
         "click": {
          "id": "13583104506338944368",
          "sync": false,
          "value": {}
         },
         "hover": {
          "id": "2057620632579974045",
          "sync": false,
          "value": {}
         },
         "image": {
          "id": "10327277144198699648",
          "sync": true,
          "value": ""
         },
         "relayout": {
          "id": "390541183374086451",
          "sync": false,
          "value": {}
         },
         "selected": {
          "id": "18183170823601555602",
          "sync": false,
          "value": {}
         }
        },
        "systemjs_options": null
       },
       "nodeType": "Scope",
       "props": {},
       "type": "node"
      },
      "image/png": "[encoded data removed]",
      "text/html": [
       "<div\n",
       "    class=\"webio-mountpoint\"\n",
       "    data-webio-mountpoint=\"13452821247881966219\"\n",
       ">\n",
       "    <script>\n",
       "    if (window.require && require.defined && require.defined(\"nbextensions/webio-jupyter-notebook\")) {\n",
       "        console.log(\"Jupyter WebIO extension detected, not mounting.\");\n",
       "    } else if (window.WebIO) {\n",
       "        WebIO.mount(\n",
       "            document.querySelector('[data-webio-mountpoint=\"13452821247881966219\"]'),\n",
       "            {\"props\":{},\"nodeType\":\"Scope\",\"type\":\"node\",\"instanceArgs\":{\"imports\":{\"data\":[{\"name\":\"Plotly\",\"type\":\"js\",\"url\":\"\\/assetserver\\/88f341d8ef7cc4a4d100c0fba9936171902dde1a-plotly-latest.min.js\"},{\"name\":null,\"type\":\"js\",\"url\":\"\\/assetserver\\/b87a7f56c0214edbe19593fb94afc1b554276bfa-plotly_webio.bundle.js\"}],\"type\":\"async_block\"},\"id\":\"757686324522335962\",\"handlers\":{\"_toImage\":[\"(function (options){return this.Plotly.toImage(this.plotElem,options).then((function (data){return WebIO.setval({\\\"name\\\":\\\"image\\\",\\\"scope\\\":\\\"757686324522335962\\\",\\\"id\\\":\\\"10327277144198699648\\\",\\\"type\\\":\\\"observable\\\"},data)}))})\"],\"__get_gd_contents\":[\"(function (prop){prop==\\\"data\\\" ? (WebIO.setval({\\\"name\\\":\\\"__gd_contents\\\",\\\"scope\\\":\\\"757686324522335962\\\",\\\"id\\\":\\\"14308777933286474242\\\",\\\"type\\\":\\\"observable\\\"},this.plotElem.data)) : undefined; return prop==\\\"layout\\\" ? (WebIO.setval({\\\"name\\\":\\\"__gd_contents\\\",\\\"scope\\\":\\\"757686324522335962\\\",\\\"id\\\":\\\"14308777933286474242\\\",\\\"type\\\":\\\"observable\\\"},this.plotElem.layout)) : undefined})\"],\"_downloadImage\":[\"(function (options){return this.Plotly.downloadImage(this.plotElem,options)})\"],\"_commands\":[\"(function (args){var fn=args.shift(); var elem=this.plotElem; var Plotly=this.Plotly; args.unshift(elem); return Plotly[fn].apply(this,args)})\"]},\"systemjs_options\":null,\"mount_callbacks\":[\"function () {\\n    var handler = ((function (Plotly,PlotlyWebIO){PlotlyWebIO.init(WebIO); var gd=this.dom.querySelector(\\\"#plot-81f883d6-4846-445d-92c2-d4be574e40e9\\\"); this.plotElem=gd; this.Plotly=Plotly; (window.Blink!==undefined) ? (gd.style.width=\\\"100%\\\", gd.style.height=\\\"100vh\\\", gd.style.marginLeft=\\\"0%\\\", gd.style.marginTop=\\\"0vh\\\") : undefined; window.onresize=(function (){return Plotly.Plots.resize(gd)}); Plotly.newPlot(gd,[{\\\"x\\\":[0.7996148496843907,0.994279632832247,0.9983963650942136,0.9987950194135761,0.9989270386266095,0.9990348821177444],\\\"mode\\\":\\\"markers\\\",\\\"y\\\":[1.0,1.0,0.9995986085094996,0.9981268397109981,0.9965212737489966,0.9694942467219695],\\\"type\\\":\\\"scatter\\\",\\\"name\\\":\\\"Score ≥ 10\\\",\\\"hovertemplate\\\":\\\"    Precision: %{x:.4f}<br>\\\\n    Recall: %{y:.4f}<br>\\\\n    Count threshold: %{marker.color}\\\\n\\\",\\\"marker\\\":{\\\"color\\\":[1,2,3,4,5,10],\\\"symbol\\\":\\\"circle\\\",\\\"colorscale\\\":\\\"Rainbow\\\"}},{\\\"x\\\":[0.8507683551508253,0.9954714970697922,0.9985296083411309,0.9987943737441393,0.9989264626945786,0.999029799029799],\\\"mode\\\":\\\"markers\\\",\\\"y\\\":[1.0,1.0,0.9994648113459995,0.9975916510569975,0.995986085094996,0.9644099545089644],\\\"type\\\":\\\"scatter\\\",\\\"name\\\":\\\"Score ≥ 15\\\",\\\"hovertemplate\\\":\\\"    Precision: %{x:.4f}<br>\\\\n    Recall: %{y:.4f}<br>\\\\n    Count threshold: %{marker.color}\\\\n\\\",\\\"marker\\\":{\\\"color\\\":[1,2,3,4,5,10],\\\"symbol\\\":\\\"square\\\",\\\"colorscale\\\":\\\"Rainbow\\\"}},{\\\"x\\\":[0.8690697674418605,0.9960015993602559,0.9986627440492111,0.998793242156074,0.998925020155872,0.9990211159278423],\\\"mode\\\":\\\"markers\\\",\\\"y\\\":[1.0,0.9998662028364999,0.9991972170189992,0.9966550709124966,0.9946481134599946,0.9558469360449559],\\\"type\\\":\\\"scatter\\\",\\\"name\\\":\\\"Score ≥ 20\\\",\\\"hovertemplate\\\":\\\"    Precision: %{x:.4f}<br>\\\\n    Recall: %{y:.4f}<br>\\\\n    Count threshold: %{marker.color}\\\\n\\\",\\\"marker\\\":{\\\"color\\\":[1,2,3,4,5,10],\\\"symbol\\\":\\\"triangle-up\\\",\\\"colorscale\\\":\\\"Rainbow\\\"}},{\\\"x\\\":[0.9137931034482759,0.997327632282202,0.9989258861439313,0.9989190649912174,0.9989124524197933,0.9989108448731913],\\\"mode\\\":\\\"markers\\\",\\\"y\\\":[0.9998662028364999,0.9986620283649986,0.9954508964409955,0.9891624297564892,0.9831415573989831,0.858977789670859],\\\"type\\\":\\\"scatter\\\",\\\"name\\\":\\\"Score ≥ 25\\\",\\\"hovertemplate\\\":\\\"    Precision: %{x:.4f}<br>\\\\n    Recall: %{y:.4f}<br>\\\\n    Count threshold: %{marker.color}\\\\n\\\",\\\"marker\\\":{\\\"color\\\":[1,2,3,4,5,10],\\\"symbol\\\":\\\"diamond\\\",\\\"colorscale\\\":\\\"Rainbow\\\"}}],{\\\"xaxis\\\":{\\\"title\\\":\\\"Precision\\\",\\\"range\\\":[0.99,1.001]},\\\"hovermode\\\":\\\"closest\\\",\\\"margin\\\":{\\\"l\\\":50,\\\"b\\\":50,\\\"r\\\":50,\\\"t\\\":60},\\\"yaxis\\\":{\\\"title\\\":\\\"Recall\\\",\\\"range\\\":[0.99,1.001]}},{}); gd.on(\\\"plotly_hover\\\",(function (data){var filtered_data=WebIO.PlotlyCommands.filterEventData(gd,data,\\\"hover\\\"); return !(filtered_data.isnil) ? (WebIO.setval({\\\"name\\\":\\\"hover\\\",\\\"scope\\\":\\\"757686324522335962\\\",\\\"id\\\":\\\"2057620632579974045\\\",\\\"type\\\":\\\"observable\\\"},filtered_data.out)) : undefined})); gd.on(\\\"plotly_unhover\\\",(function (){return WebIO.setval({\\\"name\\\":\\\"hover\\\",\\\"scope\\\":\\\"757686324522335962\\\",\\\"id\\\":\\\"2057620632579974045\\\",\\\"type\\\":\\\"observable\\\"},{})})); gd.on(\\\"plotly_selected\\\",(function (data){var filtered_data=WebIO.PlotlyCommands.filterEventData(gd,data,\\\"selected\\\"); return !(filtered_data.isnil) ? (WebIO.setval({\\\"name\\\":\\\"selected\\\",\\\"scope\\\":\\\"757686324522335962\\\",\\\"id\\\":\\\"18183170823601555602\\\",\\\"type\\\":\\\"observable\\\"},filtered_data.out)) : undefined})); gd.on(\\\"plotly_deselect\\\",(function (){return WebIO.setval({\\\"name\\\":\\\"selected\\\",\\\"scope\\\":\\\"757686324522335962\\\",\\\"id\\\":\\\"18183170823601555602\\\",\\\"type\\\":\\\"observable\\\"},{})})); gd.on(\\\"plotly_relayout\\\",(function (data){var filtered_data=WebIO.PlotlyCommands.filterEventData(gd,data,\\\"relayout\\\"); return !(filtered_data.isnil) ? (WebIO.setval({\\\"name\\\":\\\"relayout\\\",\\\"scope\\\":\\\"757686324522335962\\\",\\\"id\\\":\\\"390541183374086451\\\",\\\"type\\\":\\\"observable\\\"},filtered_data.out)) : undefined})); return gd.on(\\\"plotly_click\\\",(function (data){var filtered_data=WebIO.PlotlyCommands.filterEventData(gd,data,\\\"click\\\"); return !(filtered_data.isnil) ? (WebIO.setval({\\\"name\\\":\\\"click\\\",\\\"scope\\\":\\\"757686324522335962\\\",\\\"id\\\":\\\"13583104506338944368\\\",\\\"type\\\":\\\"observable\\\"},filtered_data.out)) : undefined}))}));\\n    (WebIO.importBlock({\\\"data\\\":[{\\\"name\\\":\\\"Plotly\\\",\\\"type\\\":\\\"js\\\",\\\"url\\\":\\\"\\/assetserver\\/88f341d8ef7cc4a4d100c0fba9936171902dde1a-plotly-latest.min.js\\\"},{\\\"name\\\":null,\\\"type\\\":\\\"js\\\",\\\"url\\\":\\\"\\/assetserver\\/b87a7f56c0214edbe19593fb94afc1b554276bfa-plotly_webio.bundle.js\\\"}],\\\"type\\\":\\\"async_block\\\"})).then((imports) => handler.apply(this, imports));\\n}\\n\"],\"observables\":{\"_toImage\":{\"sync\":false,\"id\":\"8537195518110271498\",\"value\":{}},\"hover\":{\"sync\":false,\"id\":\"2057620632579974045\",\"value\":{}},\"selected\":{\"sync\":false,\"id\":\"18183170823601555602\",\"value\":{}},\"__gd_contents\":{\"sync\":false,\"id\":\"14308777933286474242\",\"value\":{}},\"click\":{\"sync\":false,\"id\":\"13583104506338944368\",\"value\":{}},\"image\":{\"sync\":true,\"id\":\"10327277144198699648\",\"value\":\"\"},\"__get_gd_contents\":{\"sync\":false,\"id\":\"11622563674813472093\",\"value\":\"\"},\"_downloadImage\":{\"sync\":false,\"id\":\"2863703939059185843\",\"value\":{}},\"relayout\":{\"sync\":false,\"id\":\"390541183374086451\",\"value\":{}},\"_commands\":{\"sync\":false,\"id\":\"14157105705085684145\",\"value\":[]}}},\"children\":[{\"props\":{\"id\":\"plot-81f883d6-4846-445d-92c2-d4be574e40e9\"},\"nodeType\":\"DOM\",\"type\":\"node\",\"instanceArgs\":{\"namespace\":\"html\",\"tag\":\"div\"},\"children\":[]}]},\n",
       "            window,\n",
       "        );\n",
       "    } else {\n",
       "        document\n",
       "            .querySelector('[data-webio-mountpoint=\"13452821247881966219\"]')\n",
       "            .innerHTML = (\n",
       "                '<div style=\"padding: 1em; background-color: #f8d6da; border: 1px solid #f5c6cb\">' +\n",
       "                '<p><strong>WebIO not detected.</strong></p>' +\n",
       "                '<p>Please read ' +\n",
       "                '<a href=\"https://juliagizmos.github.io/WebIO.jl/latest/troubleshooting/not-detected/\" target=\"_blank\">the troubleshooting guide</a> ' +\n",
       "                'for more information on how to resolve this issue.</p>' +\n",
       "                '<p><a href=\"https://juliagizmos.github.io/WebIO.jl/latest/troubleshooting/not-detected/\" target=\"_blank\">https://juliagizmos.github.io/WebIO.jl/latest/troubleshooting/not-detected/</a></p>' +\n",
       "                '</div>'\n",
       "            );\n",
       "    }\n",
       "    </script>\n",
       "</div>\n"
      ],
      "text/plain": [
       "data: [\n",
       "  \"scatter with fields hovertemplate, marker, mode, name, type, x, and y\",\n",
       "  \"scatter with fields hovertemplate, marker, mode, name, type, x, and y\",\n",
       "  \"scatter with fields hovertemplate, marker, mode, name, type, x, and y\",\n",
       "  \"scatter with fields hovertemplate, marker, mode, name, type, x, and y\"\n",
       "]\n",
       "\n",
       "layout: \"layout with fields hovermode, margin, xaxis, and yaxis\"\n",
       "\n"
      ]
     },
     "execution_count": 25,
     "metadata": {},
     "output_type": "execute_result"
    }
   ],
   "source": [
    "let\n",
    "    df2 = DataFrame(pr_df.reset_index().to_dict(orient=:list))\n",
    "    gb = groupby(df2, :score_threshold)\n",
    "    \n",
    "    traces = PlotlyJS.GenericTrace[]\n",
    "    symbols = [\"circle\", \"square\", \"triangle-up\", \"diamond\"]\n",
    "    \n",
    "    for ((k, g), symbol) in zip(pairs(gb), symbols)\n",
    "        push!(traces, PlotlyJS.scatter(g,\n",
    "            x=:precision,\n",
    "            y=:recall,\n",
    "            mode=:markers,\n",
    "            marker_color=:count_threshold,\n",
    "            marker_symbol=symbol,\n",
    "            marker_colorscale=\"Rainbow\",\n",
    "#             marker_colorbar_cmax=6,\n",
    "            name=\"Score ≥ $(k.score_threshold)\",\n",
    "            hovertemplate = \"\"\"\n",
    "                Precision: %{x:.4f}<br>\n",
    "                Recall: %{y:.4f}<br>\n",
    "                Count threshold: %{marker.color}\n",
    "            \"\"\",\n",
    "        ))\n",
    "    end\n",
    "    \n",
    "    layout = PlotlyJS.Layout(\n",
    "        xaxis=attr(\n",
    "            title=\"Precision\",\n",
    "            range=[.99, 1.001],\n",
    "        ),\n",
    "        yaxis=attr(\n",
    "            title=\"Recall\",\n",
    "            range=[.99, 1.001],\n",
    "        ),\n",
    "        hovermode=:closest,\n",
    "    )\n",
    "    \n",
    "    PlotlyJS.plot(traces, layout)\n",
    "end"
   ]
  }
 ],
 "metadata": {
  "kernelspec": {
   "display_name": "Julia 1.4.0",
   "language": "julia",
   "name": "julia-1.4"
  },
  "language_info": {
   "file_extension": ".jl",
   "mimetype": "application/julia",
   "name": "julia",
   "version": "1.4.0"
  }
 },
 "nbformat": 4,
 "nbformat_minor": 4
}
