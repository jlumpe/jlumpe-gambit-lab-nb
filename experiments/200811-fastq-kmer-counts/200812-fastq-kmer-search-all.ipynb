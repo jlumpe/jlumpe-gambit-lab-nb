{
 "cells": [
  {
   "cell_type": "markdown",
   "metadata": {},
   "source": [
    "# 200812 Fastq kmer search gold standard genomes"
   ]
  },
  {
   "cell_type": "code",
   "execution_count": 1,
   "metadata": {},
   "outputs": [
    {
     "data": {
      "text/html": [
       "<script>\n",
       "// Immediately-invoked-function-expression to avoid global variables.\n",
       "(function() {\n",
       "    var warning_div = document.getElementById(\"webio-warning-12810070761407346754\");\n",
       "    var hide = function () {\n",
       "        var script = document.getElementById(\"webio-setup-16285707294156897813\");\n",
       "        var parent = script && script.parentElement;\n",
       "        var grandparent = parent && parent.parentElement;\n",
       "        if (grandparent) {\n",
       "            grandparent.style.display = \"none\";\n",
       "        }\n",
       "        warning_div.style.display = \"none\";\n",
       "    };\n",
       "    if (typeof Jupyter !== \"undefined\") {\n",
       "        console.log(\"WebIO detected Jupyter notebook environment.\");\n",
       "        // Jupyter notebook.\n",
       "        var extensions = (\n",
       "            Jupyter\n",
       "            && Jupyter.notebook.config.data\n",
       "            && Jupyter.notebook.config.data.load_extensions\n",
       "        );\n",
       "        if (extensions && extensions[\"webio-jupyter-notebook\"]) {\n",
       "            // Extension already loaded.\n",
       "            console.log(\"Jupyter WebIO nbextension detected; not loading ad-hoc.\");\n",
       "            hide();\n",
       "            return;\n",
       "        }\n",
       "    } else if (window.location.pathname.includes(\"/lab\")) {\n",
       "        // Guessing JupyterLa\n",
       "        console.log(\"Jupyter Lab detected; make sure the @webio/jupyter-lab-provider labextension is installed.\");\n",
       "        hide();\n",
       "        return;\n",
       "    }\n",
       "})();\n",
       "\n",
       "</script>\n",
       "<p\n",
       "    id=\"webio-warning-12810070761407346754\"\n",
       "    class=\"output_text output_stderr\"\n",
       "    style=\"padding: 1em; font-weight: bold;\"\n",
       ">\n",
       "    Unable to load WebIO. Please make sure WebIO works for your Jupyter client.\n",
       "    For troubleshooting, please see <a href=\"https://juliagizmos.github.io/WebIO.jl/latest/providers/ijulia/\">\n",
       "    the WebIO/IJulia documentation</a>.\n",
       "    <!-- TODO: link to installation docs. -->\n",
       "</p>\n"
      ],
      "text/plain": [
       "HTML{String}(\"<script>\\n// Immediately-invoked-function-expression to avoid global variables.\\n(function() {\\n    var warning_div = document.getElementById(\\\"webio-warning-12810070761407346754\\\");\\n    var hide = function () {\\n        var script = document.getElementById(\\\"webio-setup-16285707294156897813\\\");\\n        var parent = script && script.parentElement;\\n        var grandparent = parent && parent.parentElement;\\n        if (grandparent) {\\n            grandparent.style.display = \\\"none\\\";\\n        }\\n        warning_div.style.display = \\\"none\\\";\\n    };\\n    if (typeof Jupyter !== \\\"undefined\\\") {\\n        console.log(\\\"WebIO detected Jupyter notebook environment.\\\");\\n        // Jupyter notebook.\\n        var extensions = (\\n            Jupyter\\n            && Jupyter.notebook.config.data\\n            && Jupyter.notebook.config.data.load_extensions\\n        );\\n        if (extensions && extensions[\\\"webio-jupyter-notebook\\\"]) {\\n            // Extension already loaded.\\n            console.log(\\\"Jupyter WebIO nbextension detected; not loading ad-hoc.\\\");\\n            hide();\\n            return;\\n        }\\n    } else if (window.location.pathname.includes(\\\"/lab\\\")) {\\n        // Guessing JupyterLa\\n        console.log(\\\"Jupyter Lab detected; make sure the @webio/jupyter-lab-provider labextension is installed.\\\");\\n        hide();\\n        return;\\n    }\\n})();\\n\\n</script>\\n<p\\n    id=\\\"webio-warning-12810070761407346754\\\"\\n    class=\\\"output_text output_stderr\\\"\\n    style=\\\"padding: 1em; font-weight: bold;\\\"\\n>\\n    Unable to load WebIO. Please make sure WebIO works for your Jupyter client.\\n    For troubleshooting, please see <a href=\\\"https://juliagizmos.github.io/WebIO.jl/latest/providers/ijulia/\\\">\\n    the WebIO/IJulia documentation</a>.\\n    <!-- TODO: link to installation docs. -->\\n</p>\\n\")"
      ]
     },
     "metadata": {},
     "output_type": "display_data"
    }
   ],
   "source": [
    "using BioSequences\n",
    "using FASTX\n",
    "using CodecZlib\n",
    "using ProgressMeter\n",
    "using DataFrames\n",
    "using HDF5"
   ]
  },
  {
   "cell_type": "code",
   "execution_count": 2,
   "metadata": {},
   "outputs": [],
   "source": [
    "using Midas.Kmers\n",
    "using Midas.Search"
   ]
  },
  {
   "cell_type": "markdown",
   "metadata": {},
   "source": [
    "## Configuration and directories"
   ]
  },
  {
   "cell_type": "code",
   "execution_count": 4,
   "metadata": {},
   "outputs": [
    {
     "data": {
      "text/plain": [
       "Dict{Symbol,String} with 2 entries:\n",
       "  :assembly_dir => \"/Users/student/projects/midas/data/gold_standard_seqs_20072…\n",
       "  :reads_dir    => \"/Users/student/projects/midas/data/gold_standard_seqs_20072…"
      ]
     },
     "execution_count": 4,
     "metadata": {},
     "output_type": "execute_result"
    }
   ],
   "source": [
    "infiles = Dict(\n",
    "    :assembly_dir => \"/Users/student/projects/midas/data/gold_standard_seqs_200726/assembled\",\n",
    "    :reads_dir => \"/Users/student/projects/midas/data/gold_standard_seqs_200726/reads\",\n",
    ")"
   ]
  },
  {
   "cell_type": "code",
   "execution_count": 18,
   "metadata": {},
   "outputs": [
    {
     "data": {
      "text/plain": [
       "\"tmp/\""
      ]
     },
     "execution_count": 18,
     "metadata": {},
     "output_type": "execute_result"
    }
   ],
   "source": [
    "tmpdir = \"tmp/\"\n",
    "\n",
    "isdir(tmpdir) || mkdir(tmpdir)"
   ]
  },
  {
   "cell_type": "markdown",
   "metadata": {},
   "source": [
    "## Find sequence files"
   ]
  },
  {
   "cell_type": "code",
   "execution_count": 6,
   "metadata": {},
   "outputs": [
    {
     "data": {
      "text/plain": [
       "80"
      ]
     },
     "execution_count": 6,
     "metadata": {},
     "output_type": "execute_result"
    }
   ],
   "source": [
    "seq_files = let\n",
    "    readfiles = filter(f -> endswith(f, \".fastq.gz\"), readdir(infiles[:reads_dir], join=true))\n",
    "\n",
    "    pairs = map(readfiles) do readsfile\n",
    "        key = split(basename(readsfile), '.')[1]   \n",
    "        assemblyfile = joinpath(infiles[:assembly_dir], key * \".fasta\")\n",
    "        return key => (raw=readsfile, assembled=assemblyfile)\n",
    "    end\n",
    "\n",
    "    Dict(pairs)\n",
    "end\n",
    "\n",
    "for (raw, assembled) in values(seq_files)\n",
    "    @assert isfile(raw) && isfile(assembled)\n",
    "end\n",
    "\n",
    "length(seq_files)"
   ]
  },
  {
   "cell_type": "markdown",
   "metadata": {},
   "source": [
    "## Defs"
   ]
  },
  {
   "cell_type": "code",
   "execution_count": 7,
   "metadata": {},
   "outputs": [
    {
     "data": {
      "text/plain": [
       "phredsum (generic function with 1 method)"
      ]
     },
     "execution_count": 7,
     "metadata": {},
     "output_type": "execute_result"
    }
   ],
   "source": [
    "phred2p(phred) = 10 ^ (phred * -0.1)\n",
    "p2phred(p) = -10 * log10(p)\n",
    "phredprod(phred) = p2phred(1 - prod(1 .- phred2p.(phred)))\n",
    "phredsum(phred) = p2phred(sum(phred2p.(phred)))"
   ]
  },
  {
   "cell_type": "markdown",
   "metadata": {},
   "source": [
    "## Kmer searches"
   ]
  },
  {
   "cell_type": "markdown",
   "metadata": {},
   "source": [
    "### Parameters"
   ]
  },
  {
   "cell_type": "code",
   "execution_count": 9,
   "metadata": {},
   "outputs": [
    {
     "data": {
      "text/plain": [
       "UInt32"
      ]
     },
     "execution_count": 9,
     "metadata": {},
     "output_type": "execute_result"
    }
   ],
   "source": [
    "kspec = KmerSpec{11}(kmer\"ATGAC\")\n",
    "query = KmerQuery(kspec)\n",
    "\n",
    "NKMERS = Int(nkmers(kspec.k))\n",
    "K = Midas.Search.matchtype(query)\n",
    "U = BioSequences.encoded_data_type(K)"
   ]
  },
  {
   "cell_type": "code",
   "execution_count": 10,
   "metadata": {},
   "outputs": [],
   "source": [
    "score_thresholds = [10, 15, 20, 25];"
   ]
  },
  {
   "cell_type": "markdown",
   "metadata": {},
   "source": [
    "### Setup"
   ]
  },
  {
   "cell_type": "code",
   "execution_count": 11,
   "metadata": {},
   "outputs": [],
   "source": [
    "datafiles = Dict(key => joinpath(tmpdir, key * \".h5\") for key in keys(seq_files));"
   ]
  },
  {
   "cell_type": "code",
   "execution_count": 12,
   "metadata": {},
   "outputs": [],
   "source": [
    "# Preallocate arrays\n",
    "raw_counts = zeros(Int, length(score_thresholds), nkmers(kspec.k));\n",
    "assembly_counts = zeros(Int, nkmers(kspec.k));"
   ]
  },
  {
   "cell_type": "markdown",
   "metadata": {},
   "source": [
    "### Run"
   ]
  },
  {
   "cell_type": "code",
   "execution_count": 19,
   "metadata": {},
   "outputs": [
    {
     "name": "stderr",
     "output_type": "stream",
     "text": [
      "\u001b[32m1/80  1814188 \t Time: 0:00:39\u001b[39m\n",
      "\u001b[32m2/80  1721470 \t Time: 0:00:35\u001b[39m\n",
      "\u001b[32m3/80  1054659 \t Time: 0:00:21\u001b[39m\n",
      "\u001b[32m4/80  2009335 \t Time: 0:00:39\u001b[39m\n",
      "\u001b[32m5/80  1340197 \t Time: 0:00:26\u001b[39m\n",
      "\u001b[32m6/80  4778804 \t Time: 0:01:32\u001b[39m\n",
      "\u001b[32m7/80  3432370 \t Time: 0:01:03\u001b[39m\n",
      "\u001b[32m8/80  3864669 \t Time: 0:01:08\u001b[39m\n",
      "\u001b[32m9/80  4657878 \t Time: 0:01:23\u001b[39m\n",
      "\u001b[32m10/80  2663277 \t Time: 0:00:51\u001b[39m\n",
      "\u001b[32m11/80  4224840 \t Time: 0:01:27\u001b[39m\n",
      "\u001b[32m12/80  3057451 \t Time: 0:00:58\u001b[39m\n",
      "\u001b[32m13/80  2053910 \t Time: 0:00:37\u001b[39m\n",
      "\u001b[32m14/80  2252990 \t Time: 0:00:38\u001b[39m\n",
      "\u001b[32m15/80  2226237 \t Time: 0:00:39\u001b[39m\n",
      "\u001b[32m16/80  3379602 \t Time: 0:01:02\u001b[39m\n",
      "\u001b[32m17/80  1270772 \t Time: 0:00:25\u001b[39m\n",
      "\u001b[32m18/80  1625017 \t Time: 0:00:31\u001b[39m\n",
      "\u001b[32m19/80  1440500 \t Time: 0:00:26\u001b[39m\n",
      "\u001b[32m20/80  1978216 \t Time: 0:00:37\u001b[39m\n",
      "\u001b[32m21/80  1332848 \t Time: 0:00:25\u001b[39m\n",
      "\u001b[32m22/80  890126 \t Time: 0:00:16\u001b[39m\n",
      "\u001b[32m23/80  569846 \t Time: 0:00:11\u001b[39m\n",
      "\u001b[32m24/80  2275970 \t Time: 0:00:43\u001b[39m\n",
      "\u001b[32m25/80  956142 \t Time: 0:00:19\u001b[39m\n",
      "\u001b[32m26/80  1633599 \t Time: 0:00:30\u001b[39m\n",
      "\u001b[32m27/80  2377593 \t Time: 0:00:43\u001b[39m\n",
      "\u001b[32m28/80  1651246 \t Time: 0:00:32\u001b[39m\n",
      "\u001b[32m29/80  2215327 \t Time: 0:00:42\u001b[39m\n",
      "\u001b[32m30/80  1934372 \t Time: 0:00:44\u001b[39m\n",
      "\u001b[32m31/80  2841210 \t Time: 0:00:58\u001b[39m\n",
      "\u001b[32m32/80  3030748 \t Time: 0:00:55\u001b[39m\n",
      "\u001b[32m33/80  1085060 \t Time: 0:00:21\u001b[39m\n",
      "\u001b[32m34/80  2709942 \t Time: 0:00:53\u001b[39m\n",
      "\u001b[32m35/80  3153125 \t Time: 0:00:57\u001b[39m\n",
      "\u001b[32m36/80  2732260 \t Time: 0:00:57\u001b[39m\n",
      "\u001b[32m37/80  2053484 \t Time: 0:00:41\u001b[39m\n",
      "\u001b[32m38/80  2346760 \t Time: 0:00:44\u001b[39m\n",
      "\u001b[32m39/80  1756732 \t Time: 0:00:33\u001b[39m\n",
      "\u001b[32m40/80  62682 \t Time: 0:00:01\u001b[39m\n",
      "\u001b[32m41/80  1701936 \t Time: 0:00:44\u001b[39m\n",
      "\u001b[32m42/80  1796225 \t Time: 0:00:35\u001b[39m\n",
      "\u001b[32m43/80  2667831 \t Time: 0:00:52\u001b[39m\n",
      "\u001b[32m44/80  4106294 \t Time: 0:01:19\u001b[39m\n",
      "\u001b[32m45/80  3425485 \t Time: 0:01:11\u001b[39m\n",
      "\u001b[32m46/80  1684158 \t Time: 0:00:32\u001b[39m\n",
      "\u001b[32m47/80  1869784 \t Time: 0:00:36\u001b[39m\n",
      "\u001b[32m48/80  1647325 \t Time: 0:00:30\u001b[39m\n",
      "\u001b[32m49/80  366778 \t Time: 0:00:07\u001b[39m\n",
      "\u001b[32m50/80  1494758 \t Time: 0:00:27\u001b[39m\n",
      "\u001b[32m51/80  2071624 \t Time: 0:00:42\u001b[39m\n",
      "\u001b[32m52/80  1482368 \t Time: 0:00:30\u001b[39m\n",
      "\u001b[32m53/80  1241763 \t Time: 0:00:25\u001b[39m\n",
      "\u001b[32m54/80  2746042 \t Time: 0:00:50\u001b[39m\n",
      "\u001b[32m55/80  3627993 \t Time: 0:01:07\u001b[39m\n",
      "\u001b[32m56/80  3767582 \t Time: 0:01:07\u001b[39m\n",
      "\u001b[32m57/80  1536139 \t Time: 0:00:31\u001b[39m\n",
      "\u001b[32m58/80  1424390 \t Time: 0:00:30\u001b[39m\n",
      "\u001b[32m59/80  2300565 \t Time: 0:00:43\u001b[39m\n",
      "\u001b[32m60/80  1750098 \t Time: 0:00:39\u001b[39m\n",
      "\u001b[32m61/80  1943076 \t Time: 0:00:37\u001b[39m\n",
      "\u001b[32m62/80  1451419 \t Time: 0:00:27\u001b[39m\n",
      "\u001b[32m63/80  2030650 \t Time: 0:00:43\u001b[39m\n",
      "\u001b[32m64/80  1009399 \t Time: 0:00:21\u001b[39m\n",
      "\u001b[32m65/80  2387843 \t Time: 0:00:46\u001b[39m\n",
      "\u001b[32m66/80  1813590 \t Time: 0:00:34\u001b[39m\n",
      "\u001b[32m67/80  2162559 \t Time: 0:00:40\u001b[39m\n",
      "\u001b[32m68/80  2373611 \t Time: 0:00:46\u001b[39m\n",
      "\u001b[32m69/80  2588893 \t Time: 0:00:47\u001b[39m\n",
      "\u001b[32m70/80  1648509 \t Time: 0:00:33\u001b[39m\n",
      "\u001b[32m71/80  1409420 \t Time: 0:00:32\u001b[39m\n",
      "\u001b[32m72/80  2477895 \t Time: 0:00:50\u001b[39m\n",
      "\u001b[32m73/80  1694462 \t Time: 0:00:36\u001b[39m\n",
      "\u001b[32m74/80  2150487 \t Time: 0:00:39\u001b[39m\n",
      "\u001b[32m75/80  2628151 \t Time: 0:00:53\u001b[39m\n",
      "\u001b[32m76/80  3871289 \t Time: 0:01:19\u001b[39m\n",
      "\u001b[32m77/80  2431840 \t Time: 0:00:47\u001b[39m\n",
      "\u001b[32m78/80  1869577 \t Time: 0:00:36\u001b[39m\n",
      "\u001b[32m79/80  1725588 \t Time: 0:00:34\u001b[39m\n",
      "\u001b[32m80/80  2138316 \t Time: 0:00:42\u001b[39m\n"
     ]
    }
   ],
   "source": [
    "for (i, key) in enumerate(sort(collect(keys(seq_files))))\n",
    "    datafile = datafiles[key]\n",
    "    isfile(datafile) && continue\n",
    "    \n",
    "    pbar = ProgressUnknown(desc=\"$i/$(length(seq_files)) \")\n",
    "    \n",
    "    # Keep in tmp directory until were done writing to it\n",
    "    tmpfile = tempname()\n",
    "    h5 = h5open(tmpfile, \"cw\")\n",
    "    \n",
    "    # Assembly\n",
    "    let\n",
    "        assembly_counts .= 0\n",
    "        contig_lengths = Int[]\n",
    "        \n",
    "        g = g_create(h5, \"assembly\")\n",
    "        \n",
    "        fasta = open(seq_files[key].assembled)\n",
    "        reader = FASTA.Reader(fasta)\n",
    "\n",
    "        for record in reader\n",
    "            seq = sequence(record)\n",
    "            push!(contig_lengths, length(seq))\n",
    "\n",
    "            for m in findkmers(query, seq)\n",
    "                ikmer = BioSequences.encoded_data(m.kmer) + 1\n",
    "                assembly_counts[ikmer] += 1\n",
    "            end\n",
    "        end\n",
    "        \n",
    "        ikmers = findall(>(0), assembly_counts)\n",
    "        \n",
    "        # Write results\n",
    "        g[\"kmers\"] = U.(ikmers .- 1)\n",
    "        g[\"counts\"] = assembly_counts[ikmers]\n",
    "        g[\"contig_lengths\"] = contig_lengths\n",
    "    end\n",
    "    \n",
    "    # Reads\n",
    "    let\n",
    "        raw_counts .= 0\n",
    "        nreads = 0\n",
    "        total_len = 0\n",
    "        \n",
    "        g = g_create(h5, \"raw\")\n",
    "        \n",
    "        fastq = GzipDecompressorStream(open(seq_files[key].raw))\n",
    "        reader = FASTQ.Reader(fastq)\n",
    "        \n",
    "        for record in reader\n",
    "            seq = sequence(record)\n",
    "            phred = quality(record)\n",
    "            \n",
    "            nreads += 1\n",
    "            total_len += length(seq)\n",
    "\n",
    "            for m in findkmers(query, seq)\n",
    "                score = phredprod(phred[m.fullinds])\n",
    "                ithresh = searchsortedfirst(score_thresholds, score) - 1\n",
    "                ithresh < 1 && continue\n",
    "\n",
    "                ikmer = BioSequences.encoded_data(m.kmer) + 1\n",
    "                raw_counts[1:ithresh, ikmer] .+= 1\n",
    "            end\n",
    "\n",
    "            next!(pbar)\n",
    "        end\n",
    "        \n",
    "        ikmers = [i for (i, c) in enumerate(eachcol(raw_counts)) if any(>(0), c)]\n",
    "        \n",
    "        # Write results\n",
    "        g[\"kmers\"] = U.(ikmers .- 1)\n",
    "        g[\"counts\"] = raw_counts[:, ikmers]\n",
    "        g[\"score_thresholds\"] = score_thresholds\n",
    "        attrs(g)[\"nreads\"] = nreads\n",
    "        attrs(g)[\"mean_read_length\"] = total_len / nreads\n",
    "    end\n",
    "    \n",
    "    # Finish\n",
    "    close(h5)\n",
    "    mv(tmpfile, datafile)\n",
    "    finish!(pbar)\n",
    "end"
   ]
  }
 ],
 "metadata": {
  "kernelspec": {
   "display_name": "Julia 1.4.0",
   "language": "julia",
   "name": "julia-1.4"
  },
  "language_info": {
   "file_extension": ".jl",
   "mimetype": "application/julia",
   "name": "julia",
   "version": "1.4.0"
  }
 },
 "nbformat": 4,
 "nbformat_minor": 4
}
