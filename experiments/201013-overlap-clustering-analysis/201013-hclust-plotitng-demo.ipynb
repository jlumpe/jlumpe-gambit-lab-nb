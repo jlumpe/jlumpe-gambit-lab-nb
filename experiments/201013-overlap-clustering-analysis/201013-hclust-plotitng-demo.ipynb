{
 "cells": [
  {
   "cell_type": "markdown",
   "metadata": {},
   "source": [
    "# 201013 Hierarchical clustering plotting demo"
   ]
  },
  {
   "cell_type": "code",
   "execution_count": 1,
   "metadata": {},
   "outputs": [],
   "source": [
    "using ProgressMeter\n",
    "using FilePathsBase; using FilePathsBase: /\n",
    "using GZip\n",
    "using JSON\n",
    "using Mmap\n",
    "using DataFrames\n",
    "using CSV\n",
    "using StatsBase\n",
    "using CategoricalArrays\n",
    "using HDF5\n",
    "using Markdown\n",
    "using DataStructures: counter\n",
    "using AbstractTrees\n",
    "using Clustering"
   ]
  },
  {
   "cell_type": "code",
   "execution_count": 2,
   "metadata": {},
   "outputs": [
    {
     "data": {
      "text/html": [
       "<script>\n",
       "// Immediately-invoked-function-expression to avoid global variables.\n",
       "(function() {\n",
       "    var warning_div = document.getElementById(\"webio-warning-5754667108675227003\");\n",
       "    var hide = function () {\n",
       "        var script = document.getElementById(\"webio-setup-16658245782075485951\");\n",
       "        var parent = script && script.parentElement;\n",
       "        var grandparent = parent && parent.parentElement;\n",
       "        if (grandparent) {\n",
       "            grandparent.style.display = \"none\";\n",
       "        }\n",
       "        warning_div.style.display = \"none\";\n",
       "    };\n",
       "    if (typeof Jupyter !== \"undefined\") {\n",
       "        console.log(\"WebIO detected Jupyter notebook environment.\");\n",
       "        // Jupyter notebook.\n",
       "        var extensions = (\n",
       "            Jupyter\n",
       "            && Jupyter.notebook.config.data\n",
       "            && Jupyter.notebook.config.data.load_extensions\n",
       "        );\n",
       "        if (extensions && extensions[\"webio-jupyter-notebook\"]) {\n",
       "            // Extension already loaded.\n",
       "            console.log(\"Jupyter WebIO nbextension detected; not loading ad-hoc.\");\n",
       "            hide();\n",
       "            return;\n",
       "        }\n",
       "    } else if (window.location.pathname.includes(\"/lab\")) {\n",
       "        // Guessing JupyterLa\n",
       "        console.log(\"Jupyter Lab detected; make sure the @webio/jupyter-lab-provider labextension is installed.\");\n",
       "        hide();\n",
       "        return;\n",
       "    }\n",
       "})();\n",
       "\n",
       "</script>\n",
       "<p\n",
       "    id=\"webio-warning-5754667108675227003\"\n",
       "    class=\"output_text output_stderr\"\n",
       "    style=\"padding: 1em; font-weight: bold;\"\n",
       ">\n",
       "    Unable to load WebIO. Please make sure WebIO works for your Jupyter client.\n",
       "    For troubleshooting, please see <a href=\"https://juliagizmos.github.io/WebIO.jl/latest/providers/ijulia/\">\n",
       "    the WebIO/IJulia documentation</a>.\n",
       "    <!-- TODO: link to installation docs. -->\n",
       "</p>\n"
      ],
      "text/plain": [
       "HTML{String}(\"<script>\\n// Immediately-invoked-function-expression to avoid global variables.\\n(function() {\\n    var warning_div = document.getElementById(\\\"webio-warning-5754667108675227003\\\");\\n    var hide = function () {\\n        var script = document.getElementById(\\\"webio-setup-16658245782075485951\\\");\\n        var parent = script && script.parentElement;\\n        var grandparent = parent && parent.parentElement;\\n        if (grandparent) {\\n            grandparent.style.display = \\\"none\\\";\\n        }\\n        warning_div.style.display = \\\"none\\\";\\n    };\\n    if (typeof Jupyter !== \\\"undefined\\\") {\\n        console.log(\\\"WebIO detected Jupyter notebook environment.\\\");\\n        // Jupyter notebook.\\n        var extensions = (\\n            Jupyter\\n            && Jupyter.notebook.config.data\\n            && Jupyter.notebook.config.data.load_extensions\\n        );\\n        if (extensions && extensions[\\\"webio-jupyter-notebook\\\"]) {\\n            // Extension already loaded.\\n            console.log(\\\"Jupyter WebIO nbextension detected; not loading ad-hoc.\\\");\\n            hide();\\n            return;\\n        }\\n    } else if (window.location.pathname.includes(\\\"/lab\\\")) {\\n        // Guessing JupyterLa\\n        console.log(\\\"Jupyter Lab detected; make sure the @webio/jupyter-lab-provider labextension is installed.\\\");\\n        hide();\\n        return;\\n    }\\n})();\\n\\n</script>\\n<p\\n    id=\\\"webio-warning-5754667108675227003\\\"\\n    class=\\\"output_text output_stderr\\\"\\n    style=\\\"padding: 1em; font-weight: bold;\\\"\\n>\\n    Unable to load WebIO. Please make sure WebIO works for your Jupyter client.\\n    For troubleshooting, please see <a href=\\\"https://juliagizmos.github.io/WebIO.jl/latest/providers/ijulia/\\\">\\n    the WebIO/IJulia documentation</a>.\\n    <!-- TODO: link to installation docs. -->\\n</p>\\n\")"
      ]
     },
     "metadata": {},
     "output_type": "display_data"
    }
   ],
   "source": [
    "using PlotlyJS\n",
    "using Colors\n",
    "using ColorSchemes"
   ]
  },
  {
   "cell_type": "code",
   "execution_count": 3,
   "metadata": {},
   "outputs": [
    {
     "name": "stderr",
     "output_type": "stream",
     "text": [
      "WARNING: could not import ClusterAnalysis.Cluster into ClusterAnalysis\n",
      "┌ Info: Precompiling MidasPlots [1fa0408f-a5e1-472d-a139-57e7ff88ecf0]\n",
      "└ @ Base loading.jl:1278\n"
     ]
    }
   ],
   "source": [
    "using Revise\n",
    "\n",
    "using Midas\n",
    "using Midas.Pairwise: npairs\n",
    "using Midas.ClusterAnalysis\n",
    "using Midas.ClusterAnalysis: leaf_class_counts, find_strong_clusters, hclust_node_dists, makecut\n",
    "\n",
    "using MidasPlots\n",
    "using MidasPlots: Dendrogram, dgleaf_edges, ClassValues\n",
    "using MidasPlots.Plotly: PlotlyDendrogram, subplot_axes, subplot_axes!, gettraces, setaxes!, vector_attrs!, class_color_strip, make_colorscale\n",
    "\n",
    "using TriMatrices"
   ]
  },
  {
   "cell_type": "markdown",
   "metadata": {},
   "source": [
    "## Func defs"
   ]
  },
  {
   "cell_type": "code",
   "execution_count": 4,
   "metadata": {},
   "outputs": [
    {
     "data": {
      "text/plain": [
       "selectclass (generic function with 1 method)"
      ]
     },
     "execution_count": 4,
     "metadata": {},
     "output_type": "execute_result"
    }
   ],
   "source": [
    "findclass(a::CategoricalArray, cls::CategoricalValue) = findall(==(cls), a)\n",
    "findclass(a::CategoricalArray, i::Integer) = findclass(a, a.pool[i])\n",
    "findclass(a::CategoricalArray, clss::AbstractVector{<:CategoricalValue}) = findall(∈(clss), a)\n",
    "findclass(a::CategoricalArray, is::AbstractVector{<:Integer}) = findall(∈(is), a.refs)\n",
    "selectclass(a::AbstractVector, c::CategoricalArray, cls) = a[findclass(c, cls)]"
   ]
  },
  {
   "cell_type": "markdown",
   "metadata": {},
   "source": [
    "## File paths"
   ]
  },
  {
   "cell_type": "code",
   "execution_count": 5,
   "metadata": {},
   "outputs": [],
   "source": [
    "intermediate_dir = p\"../../data/intermediate/200727-find-overlaps/\";"
   ]
  },
  {
   "cell_type": "code",
   "execution_count": 6,
   "metadata": {},
   "outputs": [],
   "source": [
    "infiles = Dict(\n",
    "    :taxonomy => p\"/home/jared/notebooks/midas/midas-notebooks-2019/build-v1-database/out/3-curated-taxonomy-assignments.csv\",\n",
    "    :distances => intermediate_dir / \"genome-pw-distances.raw-float32\",\n",
    "    :overlaps => intermediate_dir / \"200729-refseq-curated-1.1_beta-species-overlaps.h5\",\n",
    ");"
   ]
  },
  {
   "cell_type": "code",
   "execution_count": 7,
   "metadata": {},
   "outputs": [
    {
     "ename": "LoadError",
     "evalue": "../../data/processed/201013-overlap-clustering-analysis/201013-hclust-plotting-demo already exists.",
     "output_type": "error",
     "traceback": [
      "../../data/processed/201013-overlap-clustering-analysis/201013-hclust-plotting-demo already exists.",
      "",
      "Stacktrace:",
      " [1] error(::String) at ./error.jl:33",
      " [2] mkdir(::PosixPath; mode::UInt16, recursive::Bool, exist_ok::Bool) at /home/jared/.julia/packages/FilePathsBase/9nTwN/src/system.jl:197",
      " [3] mkpath(::PosixPath) at /home/jared/.julia/packages/FilePathsBase/9nTwN/src/aliases.jl:17",
      " [4] top-level scope at In[7]:2",
      " [5] include_string(::Function, ::Module, ::String, ::String) at ./loading.jl:1091"
     ]
    }
   ],
   "source": [
    "outdir = p\"../../data/processed/201013-overlap-clustering-analysis/201013-hclust-plotting-demo/\"\n",
    "mkpath(outdir)"
   ]
  },
  {
   "cell_type": "markdown",
   "metadata": {},
   "source": [
    "## Load data"
   ]
  },
  {
   "cell_type": "markdown",
   "metadata": {},
   "source": [
    "### Taxonomy"
   ]
  },
  {
   "cell_type": "code",
   "execution_count": 8,
   "metadata": {},
   "outputs": [],
   "source": [
    "taxdf = DataFrame(CSV.File(infiles[:taxonomy]));"
   ]
  },
  {
   "cell_type": "code",
   "execution_count": 9,
   "metadata": {},
   "outputs": [
    {
     "data": {
      "text/plain": [
       "(419, 1438)"
      ]
     },
     "execution_count": 9,
     "metadata": {},
     "output_type": "execute_result"
    }
   ],
   "source": [
    "sig_genera = categorical(taxdf[!, :genus])\n",
    "genera = levels(sig_genera)\n",
    "ngenera = length(genera)\n",
    "\n",
    "sig_species = categorical([(row[:genus], row[:species]) for row in eachrow(taxdf)])\n",
    "species = levels(sig_species)\n",
    "speciesnames = [join(s, \" \") for s in species]\n",
    "nspecies = length(species)\n",
    "\n",
    "ngenera, nspecies"
   ]
  },
  {
   "cell_type": "code",
   "execution_count": 10,
   "metadata": {},
   "outputs": [],
   "source": [
    "genus_counts = counts(sig_genera.refs)\n",
    "species_counts = counts(sig_species.refs)\n",
    ";"
   ]
  },
  {
   "cell_type": "code",
   "execution_count": 11,
   "metadata": {},
   "outputs": [],
   "source": [
    "genome_accs = [last(split(k, \"/\")) for k in taxdf[!, :key]];"
   ]
  },
  {
   "cell_type": "code",
   "execution_count": 12,
   "metadata": {},
   "outputs": [],
   "source": [
    "species_to_genus = [findfirst(==(genus), genera) for (genus, spname) in species];"
   ]
  },
  {
   "cell_type": "code",
   "execution_count": 13,
   "metadata": {},
   "outputs": [
    {
     "data": {
      "text/plain": [
       "50752"
      ]
     },
     "execution_count": 13,
     "metadata": {},
     "output_type": "execute_result"
    }
   ],
   "source": [
    "nsigs = size(taxdf, 1)"
   ]
  },
  {
   "cell_type": "markdown",
   "metadata": {},
   "source": [
    "### Distances"
   ]
  },
  {
   "cell_type": "code",
   "execution_count": 14,
   "metadata": {},
   "outputs": [],
   "source": [
    "pw_data = Mmap.mmap(open(infiles[:distances], \"r\"), Vector{Float32}, (npairs(nsigs),));\n",
    "\n",
    "pw_dists = TriMatrix(TriSymmetric{false}(), nsigs, pw_data);"
   ]
  },
  {
   "cell_type": "code",
   "execution_count": 15,
   "metadata": {},
   "outputs": [],
   "source": [
    "@assert !any(<(0), pw_data)"
   ]
  },
  {
   "cell_type": "markdown",
   "metadata": {},
   "source": [
    "### Overlaps"
   ]
  },
  {
   "cell_type": "code",
   "execution_count": 16,
   "metadata": {},
   "outputs": [],
   "source": [
    "h5open(string(infiles[:overlaps])) do h5\n",
    "    @assert read(h5, \"genome_keys\") == taxdf[!, :key]\n",
    "\n",
    "    global min_inter = collect(zip(read(h5, \"min_inter_indices\"), read(h5, \"min_inter_dists\")))\n",
    "    global max_intra = collect(zip(read(h5, \"max_intra_indices\"), read(h5, \"max_intra_dists\")))\n",
    "\n",
    "    global has_overlap = read(h5, \"has_overlap\")\n",
    "    global overlap_components_vec = read(h5, \"overlap_components\")\n",
    "end;"
   ]
  },
  {
   "cell_type": "code",
   "execution_count": 17,
   "metadata": {},
   "outputs": [],
   "source": [
    "overlap_pairs = [i => min_inter[i][1] for i in has_overlap];"
   ]
  },
  {
   "cell_type": "code",
   "execution_count": 18,
   "metadata": {},
   "outputs": [],
   "source": [
    "overlap_components = [findall(==(i), overlap_components_vec) for i in 1:maximum(overlap_components_vec)];"
   ]
  },
  {
   "cell_type": "code",
   "execution_count": 19,
   "metadata": {},
   "outputs": [],
   "source": [
    "overlap_edges = counter(\n",
    "    Int(sig_species.refs[i]) => Int(sig_species.refs[j])\n",
    "    for (i, j) in overlap_pairs\n",
    ");"
   ]
  },
  {
   "cell_type": "markdown",
   "metadata": {},
   "source": [
    "## Component Analysis funcs"
   ]
  },
  {
   "cell_type": "code",
   "execution_count": 20,
   "metadata": {},
   "outputs": [
    {
     "data": {
      "text/plain": [
       "activate_component (generic function with 1 method)"
      ]
     },
     "execution_count": 20,
     "metadata": {},
     "output_type": "execute_result"
    }
   ],
   "source": [
    "function activate_component(ci_::Int)\n",
    "    global ci = ci_\n",
    "    global comp = overlap_components[ci]\n",
    "    global comp_idxs = [findclass(sig_species, c) for c in comp]\n",
    "    global comp_genera = unique(g for (g, s) in species[comp])\n",
    "    global singlegenus = length(comp_genera) == 1\n",
    "    if singlegenus\n",
    "        global comp_genus = only(comp_genera)\n",
    "        global grouplabels = [s for (g, s) in species[comp]]\n",
    "    else\n",
    "        global comp_genus = nothing\n",
    "        global groupnames = speciesnames[comp]\n",
    "    end\n",
    "    global component_ngenomes = sum(length.(comp_idxs))\n",
    "end"
   ]
  },
  {
   "cell_type": "code",
   "execution_count": 21,
   "metadata": {},
   "outputs": [
    {
     "data": {
      "text/plain": [
       "component_summary (generic function with 2 methods)"
      ]
     },
     "execution_count": 21,
     "metadata": {},
     "output_type": "execute_result"
    }
   ],
   "source": [
    "function component_species_df()\n",
    "    DataFrame([(genus=species[i][1], species=species[i][2], ngenomes=species_counts[i]) for i in comp])\n",
    "end\n",
    "\n",
    "function component_edges_df()\n",
    "    df = DataFrame([String, String, Int, Float64], [:A, :B, :C, :D])\n",
    "    \n",
    "    for ((i, j), c) in overlap_edges\n",
    "        if i ∈ comp\n",
    "            push!(df, (\n",
    "                speciesnames[i],\n",
    "                speciesnames[j],\n",
    "                c,\n",
    "                c / (species_counts[i] * species_counts[j])\n",
    "            ))\n",
    "        end\n",
    "    end\n",
    "    \n",
    "    sort!(df, [:A, :B])\n",
    "    rename!(df, [\"Intra Species\", \"Inter Species\", \"Overlapping Pairs\", \"Overlap fraction\"])\n",
    "    \n",
    "    return df\n",
    "end\n",
    "\n",
    "function component_summary_raw()\n",
    "    buf = IOBuffer()\n",
    "    \n",
    "    print(buf, \"### Component $ci: \")\n",
    "    print(buf, join(comp_genera, \", \"))\n",
    "    print(buf, \" (\", length(comp), \" species, \", sum(length.(comp_idxs)), \" genomes)\")\n",
    "    print(buf, \"\\n<br>\\n\")\n",
    "    \n",
    "    sp_df = component_species_df()\n",
    "    show(buf, MIME\"text/html\"(), sp_df, eltypes=false, summary=false)\n",
    "    print(buf, \"\\n<br>\\n\")\n",
    "    \n",
    "    e_df = component_edges_df()\n",
    "    show(buf, MIME\"text/html\"(), e_df, eltypes=false, summary=false)\n",
    "    \n",
    "    return buf\n",
    "end\n",
    "\n",
    "function component_summary(ci_=nothing)\n",
    "    isnothing(ci_) || activate_component(ci_)\n",
    "    \n",
    "    buf = component_summary_raw()\n",
    "    seek(buf, 0)\n",
    "    return Markdown.parse(buf)\n",
    "end"
   ]
  },
  {
   "cell_type": "code",
   "execution_count": 22,
   "metadata": {},
   "outputs": [
    {
     "data": {
      "image/svg+xml": [
       "<?xml version=\"1.0\" encoding=\"UTF-8\"?>\n",
       "<!DOCTYPE svg PUBLIC \"-//W3C//DTD SVG 1.1//EN\"\n",
       " \"http://www.w3.org/Graphics/SVG/1.1/DTD/svg11.dtd\">\n",
       "<svg xmlns=\"http://www.w3.org/2000/svg\" version=\"1.1\"\n",
       "     width=\"180mm\" height=\"25mm\"\n",
       "     viewBox=\"0 0 19 1\" preserveAspectRatio=\"none\"\n",
       "     shape-rendering=\"crispEdges\" stroke=\"none\">\n",
       "<rect width=\".89\" height=\".96\" x=\"0\" y=\"0\" fill=\"#BFBFBF\" />\n",
       "<rect width=\".89\" height=\".96\" x=\"1\" y=\"0\" fill=\"#4E79A7\" />\n",
       "<rect width=\".89\" height=\".96\" x=\"2\" y=\"0\" fill=\"#F28E2B\" />\n",
       "<rect width=\".89\" height=\".96\" x=\"3\" y=\"0\" fill=\"#E15759\" />\n",
       "<rect width=\".89\" height=\".96\" x=\"4\" y=\"0\" fill=\"#499894\" />\n",
       "<rect width=\".89\" height=\".96\" x=\"5\" y=\"0\" fill=\"#59A14F\" />\n",
       "<rect width=\".89\" height=\".96\" x=\"6\" y=\"0\" fill=\"#B6992D\" />\n",
       "<rect width=\".89\" height=\".96\" x=\"7\" y=\"0\" fill=\"#B07AA1\" />\n",
       "<rect width=\".89\" height=\".96\" x=\"8\" y=\"0\" fill=\"#D37295\" />\n",
       "<rect width=\".89\" height=\".96\" x=\"9\" y=\"0\" fill=\"#9D7660\" />\n",
       "<rect width=\".89\" height=\".96\" x=\"10\" y=\"0\" fill=\"#A0CBE8\" />\n",
       "<rect width=\".89\" height=\".96\" x=\"11\" y=\"0\" fill=\"#FFBE7D\" />\n",
       "<rect width=\".89\" height=\".96\" x=\"12\" y=\"0\" fill=\"#FF9D9A\" />\n",
       "<rect width=\".89\" height=\".96\" x=\"13\" y=\"0\" fill=\"#86BCB6\" />\n",
       "<rect width=\".89\" height=\".96\" x=\"14\" y=\"0\" fill=\"#8CD17D\" />\n",
       "<rect width=\".89\" height=\".96\" x=\"15\" y=\"0\" fill=\"#F1CE63\" />\n",
       "<rect width=\".89\" height=\".96\" x=\"16\" y=\"0\" fill=\"#D4A6C8\" />\n",
       "<rect width=\".89\" height=\".96\" x=\"17\" y=\"0\" fill=\"#FABFD2\" />\n",
       "<rect width=\".89\" height=\".96\" x=\"18\" y=\"0\" fill=\"#D7B5A6\" />\n",
       "</svg>"
      ],
      "text/plain": [
       "19-element ClassValues{Color} with indices 0:18:\n",
       " Gray{Float64}(0.75)\n",
       " RGB{N0f8}(0.306,0.475,0.655)\n",
       " RGB{N0f8}(0.949,0.557,0.169)\n",
       " RGB{N0f8}(0.882,0.341,0.349)\n",
       " RGB{N0f8}(0.286,0.596,0.58)\n",
       " RGB{N0f8}(0.349,0.631,0.31)\n",
       " RGB{N0f8}(0.714,0.6,0.176)\n",
       " RGB{N0f8}(0.69,0.478,0.631)\n",
       " RGB{N0f8}(0.827,0.447,0.584)\n",
       " RGB{N0f8}(0.616,0.463,0.376)\n",
       " RGB{N0f8}(0.627,0.796,0.91)\n",
       " RGB{N0f8}(1.0,0.745,0.49)\n",
       " RGB{N0f8}(1.0,0.616,0.604)\n",
       " RGB{N0f8}(0.525,0.737,0.714)\n",
       " RGB{N0f8}(0.549,0.82,0.49)\n",
       " RGB{N0f8}(0.945,0.808,0.388)\n",
       " RGB{N0f8}(0.831,0.651,0.784)\n",
       " RGB{N0f8}(0.98,0.749,0.824)\n",
       " RGB{N0f8}(0.843,0.71,0.651)"
      ]
     },
     "execution_count": 22,
     "metadata": {},
     "output_type": "execute_result"
    }
   ],
   "source": [
    "pal = collect(colorschemes[:tableau_20].colors)\n",
    "pal = pal[vcat(1:2:17, 2:2:18)]\n",
    "classcolors = ClassValues(pal, Gray(.75))"
   ]
  },
  {
   "cell_type": "markdown",
   "metadata": {},
   "source": [
    "## Load component"
   ]
  },
  {
   "cell_type": "code",
   "execution_count": 23,
   "metadata": {},
   "outputs": [
    {
     "data": {
      "text/latex": [
       "\\subsubsection{Component 28: Bifidobacterium, Chlamydia, Gardnerella, Granulicoccus, Neisseria (9 species, 1221 genomes)}\n",
       "<br> <table class=\"data-frame\"><thead><tr><th></th><th>genus</th><th>species</th><th>ngenomes</th></tr></thead><tbody><tr><th>1</th><td>Bifidobacterium</td><td>pseudocatenulatum</td><td>5</td></tr><tr><th>2</th><td>Chlamydia</td><td>trachomatis</td><td>115</td></tr><tr><th>3</th><td>Gardnerella</td><td>vaginalis</td><td>42</td></tr><tr><th>4</th><td>Granulicoccus</td><td>phenolivorans</td><td>2</td></tr><tr><th>5</th><td>Neisseria</td><td>gonorrhoeae</td><td>326</td></tr><tr><th>6</th><td>Neisseria</td><td>lactamica</td><td>6</td></tr><tr><th>7</th><td>Neisseria</td><td>meningitidis</td><td>721</td></tr><tr><th>8</th><td>Neisseria</td><td>mucosa</td><td>2</td></tr><tr><th>9</th><td>Neisseria</td><td>polysaccharea</td><td>2</td></tr></tbody></table> <br> <table class=\"data-frame\"><thead><tr><th></th><th>Intra Species</th><th>Inter Species</th><th>Overlapping Pairs</th><th>Overlap fraction</th></tr></thead><tbody><tr><th>1</th><td>Gardnerella vaginalis</td><td>Bifidobacterium pseudocatenulatum</td><td>1</td><td>0.0047619</td></tr><tr><th>2</th><td>Gardnerella vaginalis</td><td>Chlamydia trachomatis</td><td>17</td><td>0.00351967</td></tr><tr><th>3</th><td>Gardnerella vaginalis</td><td>Granulicoccus phenolivorans</td><td>2</td><td>0.0238095</td></tr><tr><th>4</th><td>Gardnerella vaginalis</td><td>Neisseria gonorrhoeae</td><td>22</td><td>0.00160678</td></tr><tr><th>5</th><td>Neisseria lactamica</td><td>Neisseria meningitidis</td><td>3</td><td>0.000693481</td></tr><tr><th>6</th><td>Neisseria lactamica</td><td>Neisseria polysaccharea</td><td>3</td><td>0.25</td></tr><tr><th>7</th><td>Neisseria meningitidis</td><td>Neisseria gonorrhoeae</td><td>714</td><td>0.0030377</td></tr><tr><th>8</th><td>Neisseria meningitidis</td><td>Neisseria lactamica</td><td>2</td><td>0.000462321</td></tr><tr><th>9</th><td>Neisseria meningitidis</td><td>Neisseria mucosa</td><td>5</td><td>0.00346741</td></tr></tbody></table>\n",
       "\n"
      ],
      "text/markdown": [
       "### Component 28: Bifidobacterium, Chlamydia, Gardnerella, Granulicoccus, Neisseria (9 species, 1221 genomes)\n",
       "\n",
       "<br> <table class=\"data-frame\"><thead><tr><th></th><th>genus</th><th>species</th><th>ngenomes</th></tr></thead><tbody><tr><th>1</th><td>Bifidobacterium</td><td>pseudocatenulatum</td><td>5</td></tr><tr><th>2</th><td>Chlamydia</td><td>trachomatis</td><td>115</td></tr><tr><th>3</th><td>Gardnerella</td><td>vaginalis</td><td>42</td></tr><tr><th>4</th><td>Granulicoccus</td><td>phenolivorans</td><td>2</td></tr><tr><th>5</th><td>Neisseria</td><td>gonorrhoeae</td><td>326</td></tr><tr><th>6</th><td>Neisseria</td><td>lactamica</td><td>6</td></tr><tr><th>7</th><td>Neisseria</td><td>meningitidis</td><td>721</td></tr><tr><th>8</th><td>Neisseria</td><td>mucosa</td><td>2</td></tr><tr><th>9</th><td>Neisseria</td><td>polysaccharea</td><td>2</td></tr></tbody></table> <br> <table class=\"data-frame\"><thead><tr><th></th><th>Intra Species</th><th>Inter Species</th><th>Overlapping Pairs</th><th>Overlap fraction</th></tr></thead><tbody><tr><th>1</th><td>Gardnerella vaginalis</td><td>Bifidobacterium pseudocatenulatum</td><td>1</td><td>0.0047619</td></tr><tr><th>2</th><td>Gardnerella vaginalis</td><td>Chlamydia trachomatis</td><td>17</td><td>0.00351967</td></tr><tr><th>3</th><td>Gardnerella vaginalis</td><td>Granulicoccus phenolivorans</td><td>2</td><td>0.0238095</td></tr><tr><th>4</th><td>Gardnerella vaginalis</td><td>Neisseria gonorrhoeae</td><td>22</td><td>0.00160678</td></tr><tr><th>5</th><td>Neisseria lactamica</td><td>Neisseria meningitidis</td><td>3</td><td>0.000693481</td></tr><tr><th>6</th><td>Neisseria lactamica</td><td>Neisseria polysaccharea</td><td>3</td><td>0.25</td></tr><tr><th>7</th><td>Neisseria meningitidis</td><td>Neisseria gonorrhoeae</td><td>714</td><td>0.0030377</td></tr><tr><th>8</th><td>Neisseria meningitidis</td><td>Neisseria lactamica</td><td>2</td><td>0.000462321</td></tr><tr><th>9</th><td>Neisseria meningitidis</td><td>Neisseria mucosa</td><td>5</td><td>0.00346741</td></tr></tbody></table>\n"
      ],
      "text/plain": [
       "\u001b[1m  Component 28: Bifidobacterium, Chlamydia, Gardnerella, Granulicoccus,\u001b[22m\n",
       "\u001b[1m Neisseria (9 species, 1221 genomes)\u001b[22m\n",
       "\u001b[1m  –––––––––––––––––––––––––––––––––––––\u001b[22m\n",
       "\n",
       "  <br> <table\n",
       "  class=\"data-frame\"><thead><tr><th></th><th>genus</th><th>species</th><th>ngenomes</th></tr></thead><tbody><tr><th>1</th><td>Bifidobacterium</td><td>pseudocatenulatum</td><td>5</td></tr><tr><th>2</th><td>Chlamydia</td><td>trachomatis</td><td>115</td></tr><tr><th>3</th><td>Gardnerella</td><td>vaginalis</td><td>42</td></tr><tr><th>4</th><td>Granulicoccus</td><td>phenolivorans</td><td>2</td></tr><tr><th>5</th><td>Neisseria</td><td>gonorrhoeae</td><td>326</td></tr><tr><th>6</th><td>Neisseria</td><td>lactamica</td><td>6</td></tr><tr><th>7</th><td>Neisseria</td><td>meningitidis</td><td>721</td></tr><tr><th>8</th><td>Neisseria</td><td>mucosa</td><td>2</td></tr><tr><th>9</th><td>Neisseria</td><td>polysaccharea</td><td>2</td></tr></tbody></table>\n",
       "  <br> <table class=\"data-frame\"><thead><tr><th></th><th>Intra\n",
       "  Species</th><th>Inter Species</th><th>Overlapping Pairs</th><th>Overlap\n",
       "  fraction</th></tr></thead><tbody><tr><th>1</th><td>Gardnerella\n",
       "  vaginalis</td><td>Bifidobacterium\n",
       "  pseudocatenulatum</td><td>1</td><td>0.0047619</td></tr><tr><th>2</th><td>Gardnerella\n",
       "  vaginalis</td><td>Chlamydia\n",
       "  trachomatis</td><td>17</td><td>0.00351967</td></tr><tr><th>3</th><td>Gardnerella\n",
       "  vaginalis</td><td>Granulicoccus\n",
       "  phenolivorans</td><td>2</td><td>0.0238095</td></tr><tr><th>4</th><td>Gardnerella\n",
       "  vaginalis</td><td>Neisseria\n",
       "  gonorrhoeae</td><td>22</td><td>0.00160678</td></tr><tr><th>5</th><td>Neisseria\n",
       "  lactamica</td><td>Neisseria\n",
       "  meningitidis</td><td>3</td><td>0.000693481</td></tr><tr><th>6</th><td>Neisseria\n",
       "  lactamica</td><td>Neisseria\n",
       "  polysaccharea</td><td>3</td><td>0.25</td></tr><tr><th>7</th><td>Neisseria\n",
       "  meningitidis</td><td>Neisseria\n",
       "  gonorrhoeae</td><td>714</td><td>0.0030377</td></tr><tr><th>8</th><td>Neisseria\n",
       "  meningitidis</td><td>Neisseria\n",
       "  lactamica</td><td>2</td><td>0.000462321</td></tr><tr><th>9</th><td>Neisseria\n",
       "  meningitidis</td><td>Neisseria\n",
       "  mucosa</td><td>5</td><td>0.00346741</td></tr></tbody></table>"
      ]
     },
     "execution_count": 23,
     "metadata": {},
     "output_type": "execute_result"
    }
   ],
   "source": [
    "component_summary(28)"
   ]
  },
  {
   "cell_type": "code",
   "execution_count": 24,
   "metadata": {},
   "outputs": [],
   "source": [
    "comp_idxs_flat = vcat(comp_idxs...)\n",
    "leaf_labels = [l for (l, n) in enumerate(species_counts[comp]) for _ in 1:n];"
   ]
  },
  {
   "cell_type": "code",
   "execution_count": 25,
   "metadata": {},
   "outputs": [],
   "source": [
    "dmat = pw_dists[comp_idxs_flat, comp_idxs_flat];"
   ]
  },
  {
   "cell_type": "code",
   "execution_count": 26,
   "metadata": {},
   "outputs": [],
   "source": [
    "classnames = ClassValues(speciesnames[comp], \"(mixed)\");"
   ]
  },
  {
   "cell_type": "markdown",
   "metadata": {},
   "source": [
    "### Create tree"
   ]
  },
  {
   "cell_type": "code",
   "execution_count": 27,
   "metadata": {},
   "outputs": [
    {
     "data": {
      "text/plain": [
       "HClustTree{Midas.ClusterAnalysis.HClustNode{Float32}} with 1221 leaves and 1220 internal nodes"
      ]
     },
     "execution_count": 27,
     "metadata": {},
     "output_type": "execute_result"
    }
   ],
   "source": [
    "hc = hclust(dmat, linkage=:complete)\n",
    "tree = HClustTree(hc)"
   ]
  },
  {
   "cell_type": "code",
   "execution_count": 28,
   "metadata": {},
   "outputs": [],
   "source": [
    "strong_clusters = find_strong_clusters(tree, dmat);"
   ]
  },
  {
   "cell_type": "code",
   "execution_count": 29,
   "metadata": {},
   "outputs": [],
   "source": [
    "node_classes = let\n",
    "    cc = leaf_class_counts(tree, leaf_labels);\n",
    "    \n",
    "    map(collect(cc)) do (k, v)\n",
    "        c, i = findmax(v)\n",
    "        k => (c == sum(v) ? i : 0)\n",
    "    end |> Dict\n",
    "end;\n",
    "\n",
    "merge!(node_classes, pairs(leaf_labels));"
   ]
  },
  {
   "cell_type": "code",
   "execution_count": 30,
   "metadata": {},
   "outputs": [
    {
     "data": {
      "text/plain": [
       "14"
      ]
     },
     "execution_count": 30,
     "metadata": {},
     "output_type": "execute_result"
    }
   ],
   "source": [
    "cut = makecut(node -> node.id ∈ strong_clusters && node_classes[node.id] != 0, tree);\n",
    "length(cut)"
   ]
  },
  {
   "cell_type": "code",
   "execution_count": 31,
   "metadata": {},
   "outputs": [
    {
     "data": {
      "text/plain": [
       "Dendrogram with 27 nodes and 14 leaves"
      ]
     },
     "execution_count": 31,
     "metadata": {},
     "output_type": "execute_result"
    }
   ],
   "source": [
    "dg = Dendrogram(tree)\n",
    "dg_trunc = Dendrogram(tree, trunc=node -> node.id ∈ cut)"
   ]
  },
  {
   "cell_type": "markdown",
   "metadata": {},
   "source": [
    "## Plots"
   ]
  },
  {
   "cell_type": "code",
   "execution_count": 32,
   "metadata": {},
   "outputs": [
    {
     "data": {
      "text/plain": [
       "big_dendrogram (generic function with 1 method)"
      ]
     },
     "execution_count": 32,
     "metadata": {},
     "output_type": "execute_result"
    }
   ],
   "source": [
    "function big_dendrogram(dg::Dendrogram; class_colors_gap=0)\n",
    "    # Y axes\n",
    "    yaxes = subplot_axes!(\n",
    "        [\n",
    "            attr(visible=false),\n",
    "            attr(rangemode=:nonnegative),\n",
    "        ],\n",
    "        [.1, 1.0],\n",
    "        sep=0.02\n",
    "    )\n",
    "    \n",
    "    # Dendrogram\n",
    "    pdg = PlotlyDendrogram(dg, attr(yaxis=\"y2\"))\n",
    "    \n",
    "    vector_attrs!(pdg.nodes_trace, pdg.node_ids) do id\n",
    "        node = tree.nodes[id]\n",
    "        c = node_classes[id]\n",
    "        return Dict(\n",
    "            :marker_size => id ∈ strong_clusters ? 8 : 4,\n",
    "            :marker_color => classcolors[c],\n",
    "            :text => string(id),\n",
    "            :customdata => [node.count, classnames[c]],\n",
    "        )\n",
    "    end\n",
    "    \n",
    "    merge!(pdg.nodes_trace, attr(\n",
    "        hovertemplate=\"\"\"\n",
    "        <b>%{text}</b><br>\n",
    "        %{y:.3f}<br>\n",
    "        %{customdata[0]} genomes<br>\n",
    "        %{customdata[1]}\n",
    "        <extra></extra>\n",
    "        \"\"\",\n",
    "    ))\n",
    "    \n",
    "    for (id, trace) in pdg.branch_traces\n",
    "        trace[:line_color] = classcolors[node_classes[id]]\n",
    "    end\n",
    "    \n",
    "    # Labels\n",
    "    edges = dgleaf_edges(dg)\n",
    "    leaf_classes = [node_classes[id] for id in dg.leaves]\n",
    "    labels_t = class_color_strip(\n",
    "        leaf_classes,\n",
    "        classcolors,\n",
    "        edges=edges,\n",
    "        text=[id <= tree.n ? \"Genome $id\" : \"Cluster $id\" for id in dg.leaves],\n",
    "        customdata=[[classnames[c]] for c in leaf_classes],\n",
    "        hovertemplate=\"\"\"\n",
    "        <b>%{text}</b><br>\n",
    "        %{customdata[0]}\n",
    "        <extra></extra>\n",
    "        \"\"\",\n",
    "        xgap=class_colors_gap,\n",
    "    )\n",
    "    \n",
    "    layout = Layout(\n",
    "        xaxis=attr(\n",
    "            visible=false,\n",
    "        ),\n",
    "        showlegend=false,\n",
    "        hovermode=:closest,\n",
    "    )\n",
    "    setaxes!(layout, :y, yaxes)\n",
    "    \n",
    "    return plot(vcat(gettraces(pdg), [labels_t]), layout)\n",
    "end"
   ]
  },
  {
   "cell_type": "code",
   "execution_count": 33,
   "metadata": {},
   "outputs": [],
   "source": [
    "let\n",
    "    plt = big_dendrogram(dg)\n",
    "    savehtml(plt, string(outdir / \"demo-dendrogram-full.html\"), :embed)\n",
    "end"
   ]
  },
  {
   "cell_type": "code",
   "execution_count": 34,
   "metadata": {},
   "outputs": [
    {
     "data": {
      "application/vnd.plotly.v1+json": {
       "data": [
        {
         "fill": "toself",
         "hoverinfo": "skip",
         "line": {
          "color": "#E15759"
         },
         "mode": "lines",
         "showlegend": false,
         "type": "scatter",
         "x": [
          83.71757284789959,
          83.71757284789959,
          85.13178641027268,
          85.13178641027268
         ],
         "y": [
          0,
          0.2890969216823578,
          0.2890969216823578,
          0
         ],
         "yaxis": "y2"
        },
        {
         "hoverinfo": "skip",
         "line": {
          "color": "#BFBFBF"
         },
         "mode": "lines",
         "showlegend": false,
         "type": "scatter",
         "x": [
          44.00163481360224,
          67.36654292508089,
          null,
          44.00163481360224,
          44.00163481360224,
          null,
          67.36654292508089,
          67.36654292508089,
          null
         ],
         "y": [
          0.7223665714263916,
          0.7223665714263916,
          null,
          0.7223665714263916,
          0.20994779467582703,
          null,
          0.7223665714263916,
          0.5688816905021667,
          null
         ],
         "yaxis": "y2"
        },
        {
         "hoverinfo": "skip",
         "line": {
          "color": "#BFBFBF"
         },
         "mode": "lines",
         "showlegend": false,
         "type": "scatter",
         "x": [
          24.548599036186836,
          27.755705817373382,
          null,
          24.548599036186836,
          24.548599036186836,
          null,
          27.755705817373382,
          27.755705817373382,
          null
         ],
         "y": [
          0.7093522548675537,
          0.7093522548675537,
          null,
          0.7093522548675537,
          0.3657861053943634,
          null,
          0.7093522548675537,
          0.6067352890968323,
          null
         ],
         "yaxis": "y2"
        },
        {
         "hoverinfo": "skip",
         "line": {
          "color": "#BFBFBF"
         },
         "mode": "lines",
         "showlegend": false,
         "type": "scatter",
         "x": [
          84.42467962908614,
          87.13178641027268,
          null,
          84.42467962908614,
          84.42467962908614,
          null,
          87.13178641027268,
          87.13178641027268,
          null
         ],
         "y": [
          0.9970870018005371,
          0.9970870018005371,
          null,
          0.9970870018005371,
          0.2890969216823578,
          null,
          0.9970870018005371,
          0.34654098749160767,
          null
         ],
         "yaxis": "y2"
        },
        {
         "hoverinfo": "skip",
         "line": {
          "color": "#BFBFBF"
         },
         "mode": "lines",
         "showlegend": false,
         "type": "scatter",
         "x": [
          4.082207001484488,
          35.4510334635697,
          null,
          4.082207001484488,
          4.082207001484488,
          null,
          35.4510334635697,
          35.4510334635697,
          null
         ],
         "y": [
          1,
          1,
          null,
          1,
          0.9660427570343018,
          null,
          1,
          1,
          null
         ],
         "yaxis": "y2"
        },
        {
         "fill": "toself",
         "hoverinfo": "skip",
         "line": {
          "color": "#D37295"
         },
         "mode": "lines",
         "showlegend": false,
         "type": "scatter",
         "x": [
          28.255705817373382,
          28.255705817373382,
          29.255705817373382,
          29.255705817373382
         ],
         "y": [
          0,
          0.5578354597091675,
          0.5578354597091675,
          0
         ],
         "yaxis": "y2"
        },
        {
         "fill": "toself",
         "hoverinfo": "skip",
         "line": {
          "color": "#B07AA1"
         },
         "mode": "lines",
         "showlegend": false,
         "type": "scatter",
         "x": [
          54.01551300226221,
          54.01551300226221,
          80.71757284789959,
          80.71757284789959
         ],
         "y": [
          0,
          0.5688816905021667,
          0.5688816905021667,
          0
         ],
         "yaxis": "y2"
        },
        {
         "hoverinfo": "skip",
         "line": {
          "color": "#BFBFBF"
         },
         "mode": "lines",
         "showlegend": false,
         "type": "scatter",
         "x": [
          30.800324662520033,
          83.9979029337895,
          null,
          30.800324662520033,
          30.800324662520033,
          null,
          83.9979029337895,
          83.9979029337895,
          null
         ],
         "y": [
          0.9998422861099243,
          0.9998422861099243,
          null,
          0.9998422861099243,
          0.9616410136222839,
          null,
          0.9998422861099243,
          0.9983099699020386,
          null
         ],
         "yaxis": "y2"
        },
        {
         "hoverinfo": "skip",
         "line": {
          "color": "#BFBFBF"
         },
         "mode": "lines",
         "showlegend": false,
         "type": "scatter",
         "x": [
          31.121731221157823,
          44.585922747141915,
          null,
          31.121731221157823,
          31.121731221157823,
          null,
          44.585922747141915,
          44.585922747141915,
          null
         ],
         "y": [
          0.7892481684684753,
          0.7892481684684753,
          null,
          0.7892481684684753,
          0.49006450176239014,
          null,
          0.7892481684684753,
          0.7635694742202759,
          null
         ],
         "yaxis": "y2"
        },
        {
         "hoverinfo": "skip",
         "line": {
          "color": "#BFBFBF"
         },
         "mode": "lines",
         "showlegend": false,
         "type": "scatter",
         "x": [
          21.341492255000286,
          26.15215242678011,
          null,
          21.341492255000286,
          21.341492255000286,
          null,
          26.15215242678011,
          26.15215242678011,
          null
         ],
         "y": [
          0.7635746598243713,
          0.7635746598243713,
          null,
          0.7635746598243713,
          0.5567193627357483,
          null,
          0.7635746598243713,
          0.7093522548675537,
          null
         ],
         "yaxis": "y2"
        },
        {
         "fill": "toself",
         "hoverinfo": "skip",
         "line": {
          "color": "#F28E2B"
         },
         "mode": "lines",
         "showlegend": false,
         "type": "scatter",
         "x": [
          8.164414002968975,
          8.164414002968975,
          18.841492255000286,
          18.841492255000286
         ],
         "y": [
          0,
          0.6194909811019897,
          0.6194909811019897,
          0
         ],
         "yaxis": "y2"
        },
        {
         "fill": "toself",
         "hoverinfo": "skip",
         "line": {
          "color": "#B07AA1"
         },
         "mode": "lines",
         "showlegend": false,
         "type": "scatter",
         "x": [
          23.841492255000286,
          23.841492255000286,
          25.255705817373382,
          25.255705817373382
         ],
         "y": [
          0,
          0.3657861053943634,
          0.3657861053943634,
          0
         ],
         "yaxis": "y2"
        },
        {
         "fill": "toself",
         "hoverinfo": "skip",
         "line": {
          "color": "#B07AA1"
         },
         "mode": "lines",
         "showlegend": false,
         "type": "scatter",
         "x": [
          21.841492255000286,
          21.841492255000286,
          22.841492255000286,
          22.841492255000286
         ],
         "y": [
          0,
          0.005434782709926367,
          0.005434782709926367,
          0
         ],
         "yaxis": "y2"
        },
        {
         "fill": "toself",
         "hoverinfo": "skip",
         "line": {
          "color": "#B6992D"
         },
         "mode": "lines",
         "showlegend": false,
         "type": "scatter",
         "x": [
          19.841492255000286,
          19.841492255000286,
          20.841492255000286,
          20.841492255000286
         ],
         "y": [
          0,
          0.0005243838531896472,
          0.0005243838531896472,
          0
         ],
         "yaxis": "y2"
        },
        {
         "fill": "toself",
         "hoverinfo": "skip",
         "line": {
          "color": "#B6992D"
         },
         "mode": "lines",
         "showlegend": false,
         "type": "scatter",
         "x": [
          30.255705817373382,
          30.255705817373382,
          31.98775662494226,
          31.98775662494226
         ],
         "y": [
          0,
          0.49006450176239014,
          0.49006450176239014,
          0
         ],
         "yaxis": "y2"
        },
        {
         "hoverinfo": "skip",
         "line": {
          "color": "#BFBFBF"
         },
         "mode": "lines",
         "showlegend": false,
         "type": "scatter",
         "x": [
          20.341492255000286,
          22.341492255000286,
          null,
          20.341492255000286,
          20.341492255000286,
          null,
          22.341492255000286,
          22.341492255000286,
          null
         ],
         "y": [
          0.5567193627357483,
          0.5567193627357483,
          null,
          0.5567193627357483,
          0.0005243838531896472,
          null,
          0.5567193627357483,
          0.005434782709926367,
          null
         ],
         "yaxis": "y2"
        },
        {
         "fill": "toself",
         "hoverinfo": "skip",
         "line": {
          "color": "#59A14F"
         },
         "mode": "lines",
         "showlegend": false,
         "type": "scatter",
         "x": [
          34.987756624942264,
          34.987756624942264,
          53.01551300226221,
          53.01551300226221
         ],
         "y": [
          0,
          0.20994779467582703,
          0.20994779467582703,
          0
         ],
         "yaxis": "y2"
        },
        {
         "fill": "toself",
         "hoverinfo": "skip",
         "line": {
          "color": "#4E79A7"
         },
         "mode": "lines",
         "showlegend": false,
         "type": "scatter",
         "x": [
          86.13178641027268,
          86.13178641027268,
          88.13178641027268,
          88.13178641027268
         ],
         "y": [
          0,
          0.34654098749160767,
          0.34654098749160767,
          0
         ],
         "yaxis": "y2"
        },
        {
         "fill": "toself",
         "hoverinfo": "skip",
         "line": {
          "color": "#499894"
         },
         "mode": "lines",
         "showlegend": false,
         "type": "scatter",
         "x": [
          81.71757284789959,
          81.71757284789959,
          82.71757284789959,
          82.71757284789959
         ],
         "y": [
          0,
          0.016814660280942917,
          0.016814660280942917,
          0
         ],
         "yaxis": "y2"
        },
        {
         "hoverinfo": "skip",
         "line": {
          "color": "#BFBFBF"
         },
         "mode": "lines",
         "showlegend": false,
         "type": "scatter",
         "x": [
          13.50295312898463,
          57.39911379815477,
          null,
          13.50295312898463,
          13.50295312898463,
          null,
          57.39911379815477,
          57.39911379815477,
          null
         ],
         "y": [
          1,
          1,
          null,
          1,
          0.6194909811019897,
          null,
          1,
          0.9998422861099243,
          null
         ],
         "yaxis": "y2"
        },
        {
         "fill": "toself",
         "hoverinfo": "skip",
         "line": {
          "color": "#9D7660"
         },
         "mode": "lines",
         "showlegend": false,
         "type": "scatter",
         "x": [
          32.987756624942264,
          32.987756624942264,
          33.987756624942264,
          33.987756624942264
         ],
         "y": [
          0,
          0.6688838005065918,
          0.6688838005065918,
          0
         ],
         "yaxis": "y2"
        },
        {
         "hoverinfo": "skip",
         "line": {
          "color": "#BFBFBF"
         },
         "mode": "lines",
         "showlegend": false,
         "type": "scatter",
         "x": [
          23.746822340890198,
          37.85382698414987,
          null,
          23.746822340890198,
          23.746822340890198,
          null,
          37.85382698414987,
          37.85382698414987,
          null
         ],
         "y": [
          0.9616410136222839,
          0.9616410136222839,
          null,
          0.9616410136222839,
          0.7635746598243713,
          null,
          0.9616410136222839,
          0.7892481684684753,
          null
         ],
         "yaxis": "y2"
        },
        {
         "fill": "toself",
         "hoverinfo": "skip",
         "line": {
          "color": "#E15759"
         },
         "mode": "lines",
         "showlegend": false,
         "type": "scatter",
         "x": [
          1,
          1,
          7.164414002968976,
          7.164414002968976
         ],
         "y": [
          0,
          0.9660427570343018,
          0.9660427570343018,
          0
         ],
         "yaxis": "y2"
        },
        {
         "fill": "toself",
         "hoverinfo": "skip",
         "line": {
          "color": "#B07AA1"
         },
         "mode": "lines",
         "showlegend": false,
         "type": "scatter",
         "x": [
          26.255705817373382,
          26.255705817373382,
          27.255705817373382,
          27.255705817373382
         ],
         "y": [
          0,
          0.19636884331703186,
          0.19636884331703186,
          0
         ],
         "yaxis": "y2"
        },
        {
         "hoverinfo": "skip",
         "line": {
          "color": "#BFBFBF"
         },
         "mode": "lines",
         "showlegend": false,
         "type": "scatter",
         "x": [
          33.487756624942264,
          55.684088869341565,
          null,
          33.487756624942264,
          33.487756624942264,
          null,
          55.684088869341565,
          55.684088869341565,
          null
         ],
         "y": [
          0.7635694742202759,
          0.7635694742202759,
          null,
          0.7635694742202759,
          0.6688838005065918,
          null,
          0.7635694742202759,
          0.7223665714263916,
          null
         ],
         "yaxis": "y2"
        },
        {
         "hoverinfo": "skip",
         "line": {
          "color": "#BFBFBF"
         },
         "mode": "lines",
         "showlegend": false,
         "type": "scatter",
         "x": [
          26.755705817373382,
          28.755705817373382,
          null,
          26.755705817373382,
          26.755705817373382,
          null,
          28.755705817373382,
          28.755705817373382,
          null
         ],
         "y": [
          0.6067352890968323,
          0.6067352890968323,
          null,
          0.6067352890968323,
          0.19636884331703186,
          null,
          0.6067352890968323,
          0.5578354597091675,
          null
         ],
         "yaxis": "y2"
        },
        {
         "hoverinfo": "skip",
         "line": {
          "color": "#BFBFBF"
         },
         "mode": "lines",
         "showlegend": false,
         "type": "scatter",
         "x": [
          82.21757284789959,
          85.77823301967942,
          null,
          82.21757284789959,
          82.21757284789959,
          null,
          85.77823301967942,
          85.77823301967942,
          null
         ],
         "y": [
          0.9983099699020386,
          0.9983099699020386,
          null,
          0.9983099699020386,
          0.016814660280942917,
          null,
          0.9983099699020386,
          0.9970870018005371,
          null
         ],
         "yaxis": "y2"
        },
        {
         "customdata": [
          [
           3,
           "Gardnerella vaginalis"
          ],
          [
           1040,
           "(mixed)"
          ],
          [
           7,
           "(mixed)"
          ],
          [
           8,
           "(mixed)"
          ],
          [
           1221,
           "(mixed)"
          ],
          [
           2,
           "Neisseria mucosa"
          ],
          [
           714,
           "Neisseria meningitidis"
          ],
          [
           1067,
           "(mixed)"
          ],
          [
           115,
           "Chlamydia trachomatis"
          ],
          [
           11,
           "(mixed)"
          ],
          [
           1046,
           "(mixed)"
          ],
          [
           3,
           "Neisseria meningitidis"
          ],
          [
           2,
           "Neisseria meningitidis"
          ],
          [
           2,
           "Neisseria lactamica"
          ],
          [
           4,
           "Neisseria lactamica"
          ],
          [
           4,
           "(mixed)"
          ],
          [
           326,
           "Neisseria gonorrhoeae"
          ],
          [
           5,
           "Bifidobacterium pseudocatenulatum"
          ],
          [
           2,
           "Granulicoccus phenolivorans"
          ],
          [
           1182,
           "(mixed)"
          ],
          [
           2,
           "Neisseria polysaccharea"
          ],
          [
           1057,
           "(mixed)"
          ],
          [
           39,
           "Gardnerella vaginalis"
          ],
          [
           2,
           "Neisseria meningitidis"
          ],
          [
           1042,
           "(mixed)"
          ],
          [
           4,
           "(mixed)"
          ],
          [
           10,
           "(mixed)"
          ]
         ],
         "hovertemplate": "<b>%{text}</b><br>\n%{y:.3f}<br>\n%{customdata[0]} genomes<br>\n%{customdata[1]}\n<extra></extra>\n",
         "marker": {
          "color": [
           "#E15759",
           "#BFBFBF",
           "#BFBFBF",
           "#BFBFBF",
           "#BFBFBF",
           "#D37295",
           "#B07AA1",
           "#BFBFBF",
           "#F28E2B",
           "#BFBFBF",
           "#BFBFBF",
           "#B07AA1",
           "#B07AA1",
           "#B6992D",
           "#B6992D",
           "#BFBFBF",
           "#59A14F",
           "#4E79A7",
           "#499894",
           "#BFBFBF",
           "#9D7660",
           "#BFBFBF",
           "#E15759",
           "#B07AA1",
           "#BFBFBF",
           "#BFBFBF",
           "#BFBFBF"
          ],
          "size": [
           8,
           4,
           8,
           4,
           8,
           8,
           8,
           4,
           8,
           8,
           8,
           8,
           8,
           8,
           8,
           8,
           8,
           8,
           8,
           4,
           8,
           8,
           8,
           8,
           4,
           8,
           4
          ]
         },
         "mode": "markers",
         "showlegend": false,
         "text": [
          "2348",
          "2428",
          "2427",
          "2437",
          "2441",
          "2415",
          "2417",
          "2439",
          "2421",
          "2430",
          "2431",
          "2372",
          "1530",
          "1311",
          "2408",
          "2414",
          "2328",
          "2365",
          "1756",
          "2440",
          "2426",
          "2435",
          "2436",
          "2321",
          "2429",
          "2419",
          "2438"
         ],
         "type": "scatter",
         "x": [
          84.42467962908614,
          55.684088869341565,
          26.15215242678011,
          85.77823301967942,
          19.766620232527096,
          28.755705817373382,
          67.36654292508089,
          57.39911379815477,
          13.50295312898463,
          23.746822340890198,
          37.85382698414987,
          24.548599036186836,
          22.341492255000286,
          20.341492255000286,
          31.121731221157823,
          21.341492255000286,
          44.00163481360224,
          87.13178641027268,
          82.21757284789959,
          35.4510334635697,
          33.487756624942264,
          30.800324662520033,
          4.082207001484488,
          26.755705817373382,
          44.585922747141915,
          27.755705817373382,
          83.9979029337895
         ],
         "y": [
          0.2890969216823578,
          0.7223665714263916,
          0.7093522548675537,
          0.9970870018005371,
          1,
          0.5578354597091675,
          0.5688816905021667,
          0.9998422861099243,
          0.6194909811019897,
          0.7635746598243713,
          0.7892481684684753,
          0.3657861053943634,
          0.005434782709926367,
          0.0005243838531896472,
          0.49006450176239014,
          0.5567193627357483,
          0.20994779467582703,
          0.34654098749160767,
          0.016814660280942917,
          1,
          0.6688838005065918,
          0.9616410136222839,
          0.9660427570343018,
          0.19636884331703186,
          0.7635694742202759,
          0.6067352890968323,
          0.9983099699020386
         ],
         "yaxis": "y2"
        },
        {
         "colorscale": [
          [
           0,
           "#BFBFBF"
          ],
          [
           0.05555555555555555,
           "#4E79A7"
          ],
          [
           0.1111111111111111,
           "#F28E2B"
          ],
          [
           0.16666666666666666,
           "#E15759"
          ],
          [
           0.2222222222222222,
           "#499894"
          ],
          [
           0.2777777777777778,
           "#59A14F"
          ],
          [
           0.3333333333333333,
           "#B6992D"
          ],
          [
           0.3888888888888889,
           "#B07AA1"
          ],
          [
           0.4444444444444444,
           "#D37295"
          ],
          [
           0.5,
           "#9D7660"
          ],
          [
           0.5555555555555556,
           "#A0CBE8"
          ],
          [
           0.6111111111111112,
           "#FFBE7D"
          ],
          [
           0.6666666666666666,
           "#FF9D9A"
          ],
          [
           0.7222222222222222,
           "#86BCB6"
          ],
          [
           0.7777777777777778,
           "#8CD17D"
          ],
          [
           0.8333333333333334,
           "#F1CE63"
          ],
          [
           0.8888888888888888,
           "#D4A6C8"
          ],
          [
           0.9444444444444444,
           "#FABFD2"
          ],
          [
           1,
           "#D7B5A6"
          ]
         ],
         "customdata": [
          [
           [
            "Gardnerella vaginalis"
           ],
           [
            "Chlamydia trachomatis"
           ],
           [
            "Neisseria lactamica"
           ],
           [
            "Neisseria meningitidis"
           ],
           [
            "Neisseria meningitidis"
           ],
           [
            "Neisseria meningitidis"
           ],
           [
            "Neisseria mucosa"
           ],
           [
            "Neisseria lactamica"
           ],
           [
            "Neisseria polysaccharea"
           ],
           [
            "Neisseria gonorrhoeae"
           ],
           [
            "Neisseria meningitidis"
           ],
           [
            "Granulicoccus phenolivorans"
           ],
           [
            "Gardnerella vaginalis"
           ],
           [
            "Bifidobacterium pseudocatenulatum"
           ]
          ]
         ],
         "hovertemplate": "<b>%{text}</b><br>\n%{customdata[0]}\n<extra></extra>\n",
         "showscale": false,
         "text": [
          [
           "Cluster 2436",
           "Cluster 2421",
           "Cluster 1311",
           "Cluster 1530",
           "Cluster 2372",
           "Cluster 2321",
           "Cluster 2415",
           "Cluster 2408",
           "Cluster 2426",
           "Cluster 2328",
           "Cluster 2417",
           "Cluster 1756",
           "Cluster 2348",
           "Cluster 2365"
          ]
         ],
         "type": "heatmap",
         "x": [
          0.5000000000000004,
          7.664414002968975,
          19.341492255000286,
          21.341492255000286,
          23.341492255000286,
          25.755705817373382,
          27.755705817373382,
          29.755705817373382,
          32.487756624942264,
          34.487756624942264,
          53.51551300226221,
          81.21757284789959,
          83.21757284789959,
          85.63178641027268,
          88.63178641027268
         ],
         "xgap": 1,
         "z": [
          [
           3,
           2,
           6,
           7,
           7,
           7,
           8,
           6,
           9,
           5,
           7,
           4,
           3,
           1
          ]
         ],
         "zmax": 18,
         "zmin": 0
        }
       ],
       "frames": [],
       "layout": {
        "hovermode": "closest",
        "margin": {
         "b": 50,
         "l": 50,
         "r": 50,
         "t": 60
        },
        "showlegend": false,
        "xaxis": {
         "visible": false
        },
        "yaxis": {
         "domain": [
          0,
          0.08928571428571429
         ],
         "visible": false
        },
        "yaxis2": {
         "domain": [
          0.10714285714285714,
          1
         ],
         "rangemode": "nonnegative"
        }
       }
      },
      "application/vnd.webio.node+json": {
       "children": [
        {
         "children": [],
         "instanceArgs": {
          "namespace": "html",
          "tag": "div"
         },
         "nodeType": "DOM",
         "props": {
          "id": "plot-ec989711-8ac7-497e-9e46-940dfd3ef9c1"
         },
         "type": "node"
        }
       ],
       "instanceArgs": {
        "handlers": {
         "__get_gd_contents": [
          "(function (prop){prop==\"data\" ? (WebIO.setval({\"name\":\"__gd_contents\",\"scope\":\"6115565141730059430\",\"id\":\"4471386756493365663\",\"type\":\"observable\"},this.plotElem.data)) : undefined; return prop==\"layout\" ? (WebIO.setval({\"name\":\"__gd_contents\",\"scope\":\"6115565141730059430\",\"id\":\"4471386756493365663\",\"type\":\"observable\"},this.plotElem.layout)) : undefined})"
         ],
         "_commands": [
          "(function (args){var fn=args.shift(); var elem=this.plotElem; var Plotly=this.Plotly; args.unshift(elem); return Plotly[fn].apply(this,args)})"
         ],
         "_downloadImage": [
          "(function (options){return this.Plotly.downloadImage(this.plotElem,options)})"
         ],
         "_toImage": [
          "(function (options){return this.Plotly.toImage(this.plotElem,options).then((function (data){return WebIO.setval({\"name\":\"image\",\"scope\":\"6115565141730059430\",\"id\":\"11024650406697368465\",\"type\":\"observable\"},data)}))})"
         ]
        },
        "id": "6115565141730059430",
        "imports": {
         "data": [
          {
           "name": "Plotly",
           "type": "js",
           "url": "/assetserver/e6903599031aaef8675931dfcd7df98a1aeffbfc-plotly-latest.min.js"
          },
          {
           "name": null,
           "type": "js",
           "url": "/assetserver/74a5dea81f21b0b802ef1ee92f1c8a504eac1a0c-plotly_webio.bundle.js"
          }
         ],
         "type": "async_block"
        },
        "mount_callbacks": [
         "function () {\n    var handler = ((function (Plotly,PlotlyWebIO){PlotlyWebIO.init(WebIO); var gd=this.dom.querySelector(\"#plot-ec989711-8ac7-497e-9e46-940dfd3ef9c1\"); this.plotElem=gd; this.Plotly=Plotly; (window.Blink!==undefined) ? (gd.style.width=\"100%\", gd.style.height=\"100vh\", gd.style.marginLeft=\"0%\", gd.style.marginTop=\"0vh\") : undefined; window.onresize=(function (){return Plotly.Plots.resize(gd)}); Plotly.newPlot(gd,[{\"showlegend\":false,\"mode\":\"lines\",\"line\":{\"color\":\"#E15759\"},\"y\":[0.0,0.2890969216823578,0.2890969216823578,0.0],\"type\":\"scatter\",\"fill\":\"toself\",\"hoverinfo\":\"skip\",\"yaxis\":\"y2\",\"x\":[83.71757284789959,83.71757284789959,85.13178641027268,85.13178641027268]},{\"showlegend\":false,\"mode\":\"lines\",\"line\":{\"color\":\"#BFBFBF\"},\"y\":[0.7223665714263916,0.7223665714263916,null,0.7223665714263916,0.20994779467582703,null,0.7223665714263916,0.5688816905021667,null],\"type\":\"scatter\",\"hoverinfo\":\"skip\",\"yaxis\":\"y2\",\"x\":[44.00163481360224,67.36654292508089,null,44.00163481360224,44.00163481360224,null,67.36654292508089,67.36654292508089,null]},{\"showlegend\":false,\"mode\":\"lines\",\"line\":{\"color\":\"#BFBFBF\"},\"y\":[0.7093522548675537,0.7093522548675537,null,0.7093522548675537,0.3657861053943634,null,0.7093522548675537,0.6067352890968323,null],\"type\":\"scatter\",\"hoverinfo\":\"skip\",\"yaxis\":\"y2\",\"x\":[24.548599036186836,27.755705817373382,null,24.548599036186836,24.548599036186836,null,27.755705817373382,27.755705817373382,null]},{\"showlegend\":false,\"mode\":\"lines\",\"line\":{\"color\":\"#BFBFBF\"},\"y\":[0.9970870018005371,0.9970870018005371,null,0.9970870018005371,0.2890969216823578,null,0.9970870018005371,0.34654098749160767,null],\"type\":\"scatter\",\"hoverinfo\":\"skip\",\"yaxis\":\"y2\",\"x\":[84.42467962908614,87.13178641027268,null,84.42467962908614,84.42467962908614,null,87.13178641027268,87.13178641027268,null]},{\"showlegend\":false,\"mode\":\"lines\",\"line\":{\"color\":\"#BFBFBF\"},\"y\":[1.0,1.0,null,1.0,0.9660427570343018,null,1.0,1.0,null],\"type\":\"scatter\",\"hoverinfo\":\"skip\",\"yaxis\":\"y2\",\"x\":[4.082207001484488,35.4510334635697,null,4.082207001484488,4.082207001484488,null,35.4510334635697,35.4510334635697,null]},{\"showlegend\":false,\"mode\":\"lines\",\"line\":{\"color\":\"#D37295\"},\"y\":[0.0,0.5578354597091675,0.5578354597091675,0.0],\"type\":\"scatter\",\"fill\":\"toself\",\"hoverinfo\":\"skip\",\"yaxis\":\"y2\",\"x\":[28.255705817373382,28.255705817373382,29.255705817373382,29.255705817373382]},{\"showlegend\":false,\"mode\":\"lines\",\"line\":{\"color\":\"#B07AA1\"},\"y\":[0.0,0.5688816905021667,0.5688816905021667,0.0],\"type\":\"scatter\",\"fill\":\"toself\",\"hoverinfo\":\"skip\",\"yaxis\":\"y2\",\"x\":[54.01551300226221,54.01551300226221,80.71757284789959,80.71757284789959]},{\"showlegend\":false,\"mode\":\"lines\",\"line\":{\"color\":\"#BFBFBF\"},\"y\":[0.9998422861099243,0.9998422861099243,null,0.9998422861099243,0.9616410136222839,null,0.9998422861099243,0.9983099699020386,null],\"type\":\"scatter\",\"hoverinfo\":\"skip\",\"yaxis\":\"y2\",\"x\":[30.800324662520033,83.9979029337895,null,30.800324662520033,30.800324662520033,null,83.9979029337895,83.9979029337895,null]},{\"showlegend\":false,\"mode\":\"lines\",\"line\":{\"color\":\"#BFBFBF\"},\"y\":[0.7892481684684753,0.7892481684684753,null,0.7892481684684753,0.49006450176239014,null,0.7892481684684753,0.7635694742202759,null],\"type\":\"scatter\",\"hoverinfo\":\"skip\",\"yaxis\":\"y2\",\"x\":[31.121731221157823,44.585922747141915,null,31.121731221157823,31.121731221157823,null,44.585922747141915,44.585922747141915,null]},{\"showlegend\":false,\"mode\":\"lines\",\"line\":{\"color\":\"#BFBFBF\"},\"y\":[0.7635746598243713,0.7635746598243713,null,0.7635746598243713,0.5567193627357483,null,0.7635746598243713,0.7093522548675537,null],\"type\":\"scatter\",\"hoverinfo\":\"skip\",\"yaxis\":\"y2\",\"x\":[21.341492255000286,26.15215242678011,null,21.341492255000286,21.341492255000286,null,26.15215242678011,26.15215242678011,null]},{\"showlegend\":false,\"mode\":\"lines\",\"line\":{\"color\":\"#F28E2B\"},\"y\":[0.0,0.6194909811019897,0.6194909811019897,0.0],\"type\":\"scatter\",\"fill\":\"toself\",\"hoverinfo\":\"skip\",\"yaxis\":\"y2\",\"x\":[8.164414002968975,8.164414002968975,18.841492255000286,18.841492255000286]},{\"showlegend\":false,\"mode\":\"lines\",\"line\":{\"color\":\"#B07AA1\"},\"y\":[0.0,0.3657861053943634,0.3657861053943634,0.0],\"type\":\"scatter\",\"fill\":\"toself\",\"hoverinfo\":\"skip\",\"yaxis\":\"y2\",\"x\":[23.841492255000286,23.841492255000286,25.255705817373382,25.255705817373382]},{\"showlegend\":false,\"mode\":\"lines\",\"line\":{\"color\":\"#B07AA1\"},\"y\":[0.0,0.005434782709926367,0.005434782709926367,0.0],\"type\":\"scatter\",\"fill\":\"toself\",\"hoverinfo\":\"skip\",\"yaxis\":\"y2\",\"x\":[21.841492255000286,21.841492255000286,22.841492255000286,22.841492255000286]},{\"showlegend\":false,\"mode\":\"lines\",\"line\":{\"color\":\"#B6992D\"},\"y\":[0.0,0.0005243838531896472,0.0005243838531896472,0.0],\"type\":\"scatter\",\"fill\":\"toself\",\"hoverinfo\":\"skip\",\"yaxis\":\"y2\",\"x\":[19.841492255000286,19.841492255000286,20.841492255000286,20.841492255000286]},{\"showlegend\":false,\"mode\":\"lines\",\"line\":{\"color\":\"#B6992D\"},\"y\":[0.0,0.49006450176239014,0.49006450176239014,0.0],\"type\":\"scatter\",\"fill\":\"toself\",\"hoverinfo\":\"skip\",\"yaxis\":\"y2\",\"x\":[30.255705817373382,30.255705817373382,31.98775662494226,31.98775662494226]},{\"showlegend\":false,\"mode\":\"lines\",\"line\":{\"color\":\"#BFBFBF\"},\"y\":[0.5567193627357483,0.5567193627357483,null,0.5567193627357483,0.0005243838531896472,null,0.5567193627357483,0.005434782709926367,null],\"type\":\"scatter\",\"hoverinfo\":\"skip\",\"yaxis\":\"y2\",\"x\":[20.341492255000286,22.341492255000286,null,20.341492255000286,20.341492255000286,null,22.341492255000286,22.341492255000286,null]},{\"showlegend\":false,\"mode\":\"lines\",\"line\":{\"color\":\"#59A14F\"},\"y\":[0.0,0.20994779467582703,0.20994779467582703,0.0],\"type\":\"scatter\",\"fill\":\"toself\",\"hoverinfo\":\"skip\",\"yaxis\":\"y2\",\"x\":[34.987756624942264,34.987756624942264,53.01551300226221,53.01551300226221]},{\"showlegend\":false,\"mode\":\"lines\",\"line\":{\"color\":\"#4E79A7\"},\"y\":[0.0,0.34654098749160767,0.34654098749160767,0.0],\"type\":\"scatter\",\"fill\":\"toself\",\"hoverinfo\":\"skip\",\"yaxis\":\"y2\",\"x\":[86.13178641027268,86.13178641027268,88.13178641027268,88.13178641027268]},{\"showlegend\":false,\"mode\":\"lines\",\"line\":{\"color\":\"#499894\"},\"y\":[0.0,0.016814660280942917,0.016814660280942917,0.0],\"type\":\"scatter\",\"fill\":\"toself\",\"hoverinfo\":\"skip\",\"yaxis\":\"y2\",\"x\":[81.71757284789959,81.71757284789959,82.71757284789959,82.71757284789959]},{\"showlegend\":false,\"mode\":\"lines\",\"line\":{\"color\":\"#BFBFBF\"},\"y\":[1.0,1.0,null,1.0,0.6194909811019897,null,1.0,0.9998422861099243,null],\"type\":\"scatter\",\"hoverinfo\":\"skip\",\"yaxis\":\"y2\",\"x\":[13.50295312898463,57.39911379815477,null,13.50295312898463,13.50295312898463,null,57.39911379815477,57.39911379815477,null]},{\"showlegend\":false,\"mode\":\"lines\",\"line\":{\"color\":\"#9D7660\"},\"y\":[0.0,0.6688838005065918,0.6688838005065918,0.0],\"type\":\"scatter\",\"fill\":\"toself\",\"hoverinfo\":\"skip\",\"yaxis\":\"y2\",\"x\":[32.987756624942264,32.987756624942264,33.987756624942264,33.987756624942264]},{\"showlegend\":false,\"mode\":\"lines\",\"line\":{\"color\":\"#BFBFBF\"},\"y\":[0.9616410136222839,0.9616410136222839,null,0.9616410136222839,0.7635746598243713,null,0.9616410136222839,0.7892481684684753,null],\"type\":\"scatter\",\"hoverinfo\":\"skip\",\"yaxis\":\"y2\",\"x\":[23.746822340890198,37.85382698414987,null,23.746822340890198,23.746822340890198,null,37.85382698414987,37.85382698414987,null]},{\"showlegend\":false,\"mode\":\"lines\",\"line\":{\"color\":\"#E15759\"},\"y\":[0.0,0.9660427570343018,0.9660427570343018,0.0],\"type\":\"scatter\",\"fill\":\"toself\",\"hoverinfo\":\"skip\",\"yaxis\":\"y2\",\"x\":[1.0,1.0,7.164414002968976,7.164414002968976]},{\"showlegend\":false,\"mode\":\"lines\",\"line\":{\"color\":\"#B07AA1\"},\"y\":[0.0,0.19636884331703186,0.19636884331703186,0.0],\"type\":\"scatter\",\"fill\":\"toself\",\"hoverinfo\":\"skip\",\"yaxis\":\"y2\",\"x\":[26.255705817373382,26.255705817373382,27.255705817373382,27.255705817373382]},{\"showlegend\":false,\"mode\":\"lines\",\"line\":{\"color\":\"#BFBFBF\"},\"y\":[0.7635694742202759,0.7635694742202759,null,0.7635694742202759,0.6688838005065918,null,0.7635694742202759,0.7223665714263916,null],\"type\":\"scatter\",\"hoverinfo\":\"skip\",\"yaxis\":\"y2\",\"x\":[33.487756624942264,55.684088869341565,null,33.487756624942264,33.487756624942264,null,55.684088869341565,55.684088869341565,null]},{\"showlegend\":false,\"mode\":\"lines\",\"line\":{\"color\":\"#BFBFBF\"},\"y\":[0.6067352890968323,0.6067352890968323,null,0.6067352890968323,0.19636884331703186,null,0.6067352890968323,0.5578354597091675,null],\"type\":\"scatter\",\"hoverinfo\":\"skip\",\"yaxis\":\"y2\",\"x\":[26.755705817373382,28.755705817373382,null,26.755705817373382,26.755705817373382,null,28.755705817373382,28.755705817373382,null]},{\"showlegend\":false,\"mode\":\"lines\",\"line\":{\"color\":\"#BFBFBF\"},\"y\":[0.9983099699020386,0.9983099699020386,null,0.9983099699020386,0.016814660280942917,null,0.9983099699020386,0.9970870018005371,null],\"type\":\"scatter\",\"hoverinfo\":\"skip\",\"yaxis\":\"y2\",\"x\":[82.21757284789959,85.77823301967942,null,82.21757284789959,82.21757284789959,null,85.77823301967942,85.77823301967942,null]},{\"showlegend\":false,\"mode\":\"markers\",\"marker\":{\"color\":[\"#E15759\",\"#BFBFBF\",\"#BFBFBF\",\"#BFBFBF\",\"#BFBFBF\",\"#D37295\",\"#B07AA1\",\"#BFBFBF\",\"#F28E2B\",\"#BFBFBF\",\"#BFBFBF\",\"#B07AA1\",\"#B07AA1\",\"#B6992D\",\"#B6992D\",\"#BFBFBF\",\"#59A14F\",\"#4E79A7\",\"#499894\",\"#BFBFBF\",\"#9D7660\",\"#BFBFBF\",\"#E15759\",\"#B07AA1\",\"#BFBFBF\",\"#BFBFBF\",\"#BFBFBF\"],\"size\":[8,4,8,4,8,8,8,4,8,8,8,8,8,8,8,8,8,8,8,4,8,8,8,8,4,8,4]},\"y\":[0.2890969216823578,0.7223665714263916,0.7093522548675537,0.9970870018005371,1.0,0.5578354597091675,0.5688816905021667,0.9998422861099243,0.6194909811019897,0.7635746598243713,0.7892481684684753,0.3657861053943634,0.005434782709926367,0.0005243838531896472,0.49006450176239014,0.5567193627357483,0.20994779467582703,0.34654098749160767,0.016814660280942917,1.0,0.6688838005065918,0.9616410136222839,0.9660427570343018,0.19636884331703186,0.7635694742202759,0.6067352890968323,0.9983099699020386],\"type\":\"scatter\",\"customdata\":[[3,\"Gardnerella vaginalis\"],[1040,\"(mixed)\"],[7,\"(mixed)\"],[8,\"(mixed)\"],[1221,\"(mixed)\"],[2,\"Neisseria mucosa\"],[714,\"Neisseria meningitidis\"],[1067,\"(mixed)\"],[115,\"Chlamydia trachomatis\"],[11,\"(mixed)\"],[1046,\"(mixed)\"],[3,\"Neisseria meningitidis\"],[2,\"Neisseria meningitidis\"],[2,\"Neisseria lactamica\"],[4,\"Neisseria lactamica\"],[4,\"(mixed)\"],[326,\"Neisseria gonorrhoeae\"],[5,\"Bifidobacterium pseudocatenulatum\"],[2,\"Granulicoccus phenolivorans\"],[1182,\"(mixed)\"],[2,\"Neisseria polysaccharea\"],[1057,\"(mixed)\"],[39,\"Gardnerella vaginalis\"],[2,\"Neisseria meningitidis\"],[1042,\"(mixed)\"],[4,\"(mixed)\"],[10,\"(mixed)\"]],\"yaxis\":\"y2\",\"text\":[\"2348\",\"2428\",\"2427\",\"2437\",\"2441\",\"2415\",\"2417\",\"2439\",\"2421\",\"2430\",\"2431\",\"2372\",\"1530\",\"1311\",\"2408\",\"2414\",\"2328\",\"2365\",\"1756\",\"2440\",\"2426\",\"2435\",\"2436\",\"2321\",\"2429\",\"2419\",\"2438\"],\"hovertemplate\":\"<b>%{text}</b><br>\\n%{y:.3f}<br>\\n%{customdata[0]} genomes<br>\\n%{customdata[1]}\\n<extra></extra>\\n\",\"x\":[84.42467962908614,55.684088869341565,26.15215242678011,85.77823301967942,19.766620232527096,28.755705817373382,67.36654292508089,57.39911379815477,13.50295312898463,23.746822340890198,37.85382698414987,24.548599036186836,22.341492255000286,20.341492255000286,31.121731221157823,21.341492255000286,44.00163481360224,87.13178641027268,82.21757284789959,35.4510334635697,33.487756624942264,30.800324662520033,4.082207001484488,26.755705817373382,44.585922747141915,27.755705817373382,83.9979029337895]},{\"colorscale\":[[0.0,\"#BFBFBF\"],[0.05555555555555555,\"#4E79A7\"],[0.1111111111111111,\"#F28E2B\"],[0.16666666666666666,\"#E15759\"],[0.2222222222222222,\"#499894\"],[0.2777777777777778,\"#59A14F\"],[0.3333333333333333,\"#B6992D\"],[0.3888888888888889,\"#B07AA1\"],[0.4444444444444444,\"#D37295\"],[0.5,\"#9D7660\"],[0.5555555555555556,\"#A0CBE8\"],[0.6111111111111112,\"#FFBE7D\"],[0.6666666666666666,\"#FF9D9A\"],[0.7222222222222222,\"#86BCB6\"],[0.7777777777777778,\"#8CD17D\"],[0.8333333333333334,\"#F1CE63\"],[0.8888888888888888,\"#D4A6C8\"],[0.9444444444444444,\"#FABFD2\"],[1.0,\"#D7B5A6\"]],\"text\":[[\"Cluster 2436\",\"Cluster 2421\",\"Cluster 1311\",\"Cluster 1530\",\"Cluster 2372\",\"Cluster 2321\",\"Cluster 2415\",\"Cluster 2408\",\"Cluster 2426\",\"Cluster 2328\",\"Cluster 2417\",\"Cluster 1756\",\"Cluster 2348\",\"Cluster 2365\"]],\"showscale\":false,\"x\":[0.5000000000000004,7.664414002968975,19.341492255000286,21.341492255000286,23.341492255000286,25.755705817373382,27.755705817373382,29.755705817373382,32.487756624942264,34.487756624942264,53.51551300226221,81.21757284789959,83.21757284789959,85.63178641027268,88.63178641027268],\"customdata\":[[[\"Gardnerella vaginalis\"],[\"Chlamydia trachomatis\"],[\"Neisseria lactamica\"],[\"Neisseria meningitidis\"],[\"Neisseria meningitidis\"],[\"Neisseria meningitidis\"],[\"Neisseria mucosa\"],[\"Neisseria lactamica\"],[\"Neisseria polysaccharea\"],[\"Neisseria gonorrhoeae\"],[\"Neisseria meningitidis\"],[\"Granulicoccus phenolivorans\"],[\"Gardnerella vaginalis\"],[\"Bifidobacterium pseudocatenulatum\"]]],\"zmin\":0,\"z\":[[3,2,6,7,7,7,8,6,9,5,7,4,3,1]],\"zmax\":18,\"type\":\"heatmap\",\"xgap\":1,\"hovertemplate\":\"<b>%{text}</b><br>\\n%{customdata[0]}\\n<extra></extra>\\n\"}],{\"showlegend\":false,\"xaxis\":{\"visible\":false},\"hovermode\":\"closest\",\"margin\":{\"l\":50,\"b\":50,\"r\":50,\"t\":60},\"yaxis\":{\"visible\":false,\"domain\":[0.0,0.08928571428571429]},\"yaxis2\":{\"rangemode\":\"nonnegative\",\"domain\":[0.10714285714285714,1.0]}},{}); gd.on(\"plotly_hover\",(function (data){var filtered_data=WebIO.PlotlyCommands.filterEventData(gd,data,\"hover\"); return !(filtered_data.isnil) ? (WebIO.setval({\"name\":\"hover\",\"scope\":\"6115565141730059430\",\"id\":\"8697568628502495305\",\"type\":\"observable\"},filtered_data.out)) : undefined})); gd.on(\"plotly_unhover\",(function (){return WebIO.setval({\"name\":\"hover\",\"scope\":\"6115565141730059430\",\"id\":\"8697568628502495305\",\"type\":\"observable\"},{})})); gd.on(\"plotly_selected\",(function (data){var filtered_data=WebIO.PlotlyCommands.filterEventData(gd,data,\"selected\"); return !(filtered_data.isnil) ? (WebIO.setval({\"name\":\"selected\",\"scope\":\"6115565141730059430\",\"id\":\"385222040317127554\",\"type\":\"observable\"},filtered_data.out)) : undefined})); gd.on(\"plotly_deselect\",(function (){return WebIO.setval({\"name\":\"selected\",\"scope\":\"6115565141730059430\",\"id\":\"385222040317127554\",\"type\":\"observable\"},{})})); gd.on(\"plotly_relayout\",(function (data){var filtered_data=WebIO.PlotlyCommands.filterEventData(gd,data,\"relayout\"); return !(filtered_data.isnil) ? (WebIO.setval({\"name\":\"relayout\",\"scope\":\"6115565141730059430\",\"id\":\"1551194205175317205\",\"type\":\"observable\"},filtered_data.out)) : undefined})); return gd.on(\"plotly_click\",(function (data){var filtered_data=WebIO.PlotlyCommands.filterEventData(gd,data,\"click\"); return !(filtered_data.isnil) ? (WebIO.setval({\"name\":\"click\",\"scope\":\"6115565141730059430\",\"id\":\"1020113529465824330\",\"type\":\"observable\"},filtered_data.out)) : undefined}))}));\n    (WebIO.importBlock({\"data\":[{\"name\":\"Plotly\",\"type\":\"js\",\"url\":\"/assetserver/e6903599031aaef8675931dfcd7df98a1aeffbfc-plotly-latest.min.js\"},{\"name\":null,\"type\":\"js\",\"url\":\"/assetserver/74a5dea81f21b0b802ef1ee92f1c8a504eac1a0c-plotly_webio.bundle.js\"}],\"type\":\"async_block\"})).then((imports) => handler.apply(this, imports));\n}\n"
        ],
        "observables": {
         "__gd_contents": {
          "id": "4471386756493365663",
          "sync": false,
          "value": {}
         },
         "__get_gd_contents": {
          "id": "14352911501112748566",
          "sync": false,
          "value": ""
         },
         "_commands": {
          "id": "13115168250861589963",
          "sync": false,
          "value": []
         },
         "_downloadImage": {
          "id": "11780536366638285986",
          "sync": false,
          "value": {}
         },
         "_toImage": {
          "id": "12233808514981590178",
          "sync": false,
          "value": {}
         },
         "click": {
          "id": "1020113529465824330",
          "sync": false,
          "value": {}
         },
         "hover": {
          "id": "8697568628502495305",
          "sync": false,
          "value": {}
         },
         "image": {
          "id": "11024650406697368465",
          "sync": true,
          "value": ""
         },
         "relayout": {
          "id": "1551194205175317205",
          "sync": false,
          "value": {}
         },
         "selected": {
          "id": "385222040317127554",
          "sync": false,
          "value": {}
         }
        },
        "systemjs_options": null
       },
       "nodeType": "Scope",
       "props": {},
       "type": "node"
      },
      "image/png": "[encoded data removed]",
      "image/svg+xml": [
       "<svg class=\"main-svg\" xmlns=\"http://www.w3.org/2000/svg\" xmlns:xlink=\"http://www.w3.org/1999/xlink\" width=\"700\" height=\"500\" style=\"\" viewBox=\"0 0 700 500\"><rect x=\"0\" y=\"0\" width=\"700\" height=\"500\" style=\"fill: rgb(255, 255, 255); fill-opacity: 1;\"/><defs id=\"defs-db699d\"><g class=\"clips\"><clipPath id=\"clipdb699dxyplot\" class=\"plotclip\"><rect width=\"600\" height=\"34.82142857142857\"/></clipPath><clipPath id=\"clipdb699dxy2plot\" class=\"plotclip\"><rect width=\"600\" height=\"348.2142857142857\"/></clipPath><clipPath class=\"axesclip\" id=\"clipdb699dx\"><rect x=\"50\" y=\"0\" width=\"600\" height=\"500\"/></clipPath><clipPath class=\"axesclip\" id=\"clipdb699dy\"><rect x=\"0\" y=\"415.17857142857144\" width=\"700\" height=\"34.82142857142857\"/></clipPath><clipPath class=\"axesclip\" id=\"clipdb699dxy\"><rect x=\"50\" y=\"415.17857142857144\" width=\"600\" height=\"34.82142857142857\"/></clipPath><clipPath class=\"axesclip\" id=\"clipdb699dy2\"><rect x=\"0\" y=\"60\" width=\"700\" height=\"348.2142857142857\"/></clipPath><clipPath class=\"axesclip\" id=\"clipdb699dxy2\"><rect x=\"50\" y=\"60\" width=\"600\" height=\"348.2142857142857\"/></clipPath></g><g class=\"gradients\"/></defs><g class=\"bglayer\"/><g class=\"layer-below\"><g class=\"imagelayer\"/><g class=\"shapelayer\"/></g><g class=\"cartesianlayer\"><g class=\"subplot xy\"><g class=\"layer-subplot\"><g class=\"shapelayer\"/><g class=\"imagelayer\"/></g><g class=\"gridlayer\"><g class=\"x\"/><g class=\"y\"/></g><g class=\"zerolinelayer\"/><path class=\"xlines-below\"/><path class=\"ylines-below\"/><g class=\"overlines-below\"/><g class=\"xaxislayer-below\"/><g class=\"yaxislayer-below\"/><g class=\"overaxes-below\"/><g class=\"plot\" transform=\"translate(50, 415.17857142857144)\" clip-path=\"url('#clipdb699dxyplot')\"><g class=\"heatmaplayer mlayer\"><g class=\"hm\"><image xmlns=\"http://www.w3.org/2000/svg\" preserveAspectRatio=\"none\" height=\"35\" width=\"562\" x=\"12.14\" y=\"0\" xlink:href=\"data:image/png;base64,iVBORw0KGgoAAAANSUhEUgAAAjIAAAAjCAYAAACO2eBOAAAD3klEQVR4Xu3WMYrVZxTG4dwNZAsuILgQU2g6mUohhQGtLALJAiJYWBmIRUCrIV200IWIC8gWsoGEKUJAEN7/fcVzBh7rc+Zef99h5jn9dffin6+u2b8bf1ye/n72zbX73l8689ePP5zevrh5qNO3D96f/vz51aGd7365d3jnvxbn7F7tvH/866HvePPZw8MtPn6vqza//3j/0Od+//Tl6eLVnUM7X/pOfF5X4PLe67Pvv/tk2wp8ngJXv1Nv/fb80O+pdz88Op3rh6u/4bd/ujz0eZ/6n755cnE6+4t8nnzn/RSQybqBzP+dQCa7GVPHC4DM8WY2dhUAmYH3AJksOsiATHYpppoCINPUs7uhAMgMvALIZNFBBmSySzHVFACZpp7dDQVAZuAVQCaLDjIgk12KqaYAyDT17G4oADIDrwAyWXSQAZnsUkw1BUCmqWd3QwGQGXgFkMmigwzIZJdiqikAMk09uxsKgMzAK4BMFh1kQCa7FFNNAZBp6tndUABkBl4BZLLoIAMy2aWYagqATFPP7oYCIDPwCiCTRQcZkMkuxVRTAGSaenY3FACZgVcAmSw6yIBMdimmmgIg09Szu6EAyAy8Ashk0UEGZLJLMdUUAJmmnt0NBUBm4BVAJosOMiCTXYqppgDINPXsbigAMgOvADJZdJABmexSTDUFQKapZ3dDAZAZeAWQyaKDDMhkl2KqKQAyTT27GwqAzMArgEwWHWRAJrsUU00BkGnq2d1QAGQGXgFksuggAzLZpZhqCoBMU8/uhgIgM/AKIJNFBxmQyS7FVFMAZJp6djcUAJmBVwCZLDrIgEx2KaaaAiDT1LO7oQDIDLwCyGTRQQZksksx1RQAmaae3Q0FQGbgFUAmiw4yIJNdiqmmAMg09exuKAAyA68AMll0kAGZ7FJMNQVApqlnd0MBkBl4BZDJooMMyGSXYqopADJNPbsbCoDMwCuATBYdZEAmuxRTTQGQaerZ3VAAZAZeAWSy6CADMtmlmGoKgExTz+6GAiAz8Aogk0UHGZDJLsVUUwBkmnp2NxQAmYFXAJksOsiATHYpppoCINPUs7uhAMgMvALIZNFBBmSySzHVFACZpp7dDQVAZuAVQCaLDjIgk12KqaYAyDT17G4oADIDrwAyWXSQAZnsUkw1BUCmqWd3QwGQGXgFkMmigwzIZJdiqikAMk09uxsKgMzAK4BMFh1kQCa7FFNNAZBp6tndUABkBl4BZLLoIAMy2aWYagqATFPP7oYCIDPwCiCTRQcZkMkuxVRTAGSaenY3FACZgVcAmSw6yIBMdimmmgIg09Szu6HAdYfMv0nmqI01xhxAAAAAAElFTkSuQmCC\" style=\"opacity: 1;\"/></g></g></g><g class=\"overplot\"/><path class=\"xlines-above crisp\" d=\"M0,0\" style=\"fill: none;\"/><path class=\"ylines-above crisp\" d=\"M0,0\" style=\"fill: none;\"/><g class=\"overlines-above\"/><g class=\"xaxislayer-above\"/><g class=\"yaxislayer-above\"/><g class=\"overaxes-above\"/></g><g class=\"subplot xy2\"><g class=\"layer-subplot\"><g class=\"shapelayer\"/><g class=\"imagelayer\"/></g><g class=\"gridlayer\"><g class=\"x\"/><g class=\"y2\"><path class=\"y2grid crisp\" transform=\"translate(0,343.05)\" d=\"M50,0h600\" style=\"stroke: rgb(238, 238, 238); stroke-opacity: 1; stroke-width: 1px;\"/><path class=\"y2grid crisp\" transform=\"translate(0,277.89)\" d=\"M50,0h600\" style=\"stroke: rgb(238, 238, 238); stroke-opacity: 1; stroke-width: 1px;\"/><path class=\"y2grid crisp\" transform=\"translate(0,212.73)\" d=\"M50,0h600\" style=\"stroke: rgb(238, 238, 238); stroke-opacity: 1; stroke-width: 1px;\"/><path class=\"y2grid crisp\" transform=\"translate(0,147.57)\" d=\"M50,0h600\" style=\"stroke: rgb(238, 238, 238); stroke-opacity: 1; stroke-width: 1px;\"/><path class=\"y2grid crisp\" transform=\"translate(0,82.41)\" d=\"M50,0h600\" style=\"stroke: rgb(238, 238, 238); stroke-opacity: 1; stroke-width: 1px;\"/></g></g><g class=\"zerolinelayer\"><path class=\"y2zl zl crisp\" transform=\"translate(0,408.21)\" d=\"M50,0h600\" style=\"stroke: rgb(68, 68, 68); stroke-opacity: 1; stroke-width: 1px;\"/></g><path class=\"xlines-below\"/><path class=\"ylines-below\"/><g class=\"overlines-below\"/><g class=\"xaxislayer-below\"/><g class=\"yaxislayer-below\"/><g class=\"overaxes-below\"/><g class=\"plot\" transform=\"translate(50, 60)\" clip-path=\"url('#clipdb699dxy2plot')\"><g class=\"scatterlayer mlayer\"><g class=\"trace scatter traceb9be9a\" style=\"stroke-miterlimit: 2; opacity: 1;\"><g class=\"fills\"><g><path class=\"js-fill\" d=\"M543.21,348.21L543.21,254.03L552.24,254.03L552.24,348.21Z\" style=\"fill: rgb(225, 87, 89); fill-opacity: 0.5; stroke-width: 0;\"/></g></g><g class=\"errorbars\"/><g class=\"lines\"><path class=\"js-line\" d=\"M543.21,348.21L543.21,254.03L552.24,254.03L552.24,348.21\" style=\"vector-effect: non-scaling-stroke; fill: none; stroke: rgb(225, 87, 89); stroke-opacity: 1; stroke-width: 2px; opacity: 1;\"/></g><g class=\"points\"/><g class=\"text\"/></g><g class=\"trace scatter tracecf3c51\" style=\"stroke-miterlimit: 2; opacity: 1;\"><g class=\"fills\"/><g class=\"errorbars\"/><g class=\"lines\"><path class=\"js-line\" d=\"M289.76,112.86L438.86,112.86\" style=\"vector-effect: non-scaling-stroke; fill: none; stroke: rgb(191, 191, 191); stroke-opacity: 1; stroke-width: 2px; opacity: 1;\"/><path class=\"js-line\" d=\"M289.76,112.86L289.76,279.81\" style=\"vector-effect: non-scaling-stroke; fill: none; stroke: rgb(191, 191, 191); stroke-opacity: 1; stroke-width: 2px; opacity: 1;\"/><path class=\"js-line\" d=\"M438.86,112.86L438.86,162.87\" style=\"vector-effect: non-scaling-stroke; fill: none; stroke: rgb(191, 191, 191); stroke-opacity: 1; stroke-width: 2px; opacity: 1;\"/></g><g class=\"points\"/><g class=\"text\"/></g><g class=\"trace scatter trace2fad46\" style=\"stroke-miterlimit: 2; opacity: 1;\"><g class=\"fills\"/><g class=\"errorbars\"/><g class=\"lines\"><path class=\"js-line\" d=\"M165.61,117.1L186.08,117.1\" style=\"vector-effect: non-scaling-stroke; fill: none; stroke: rgb(191, 191, 191); stroke-opacity: 1; stroke-width: 2px; opacity: 1;\"/><path class=\"js-line\" d=\"M165.61,117.1L165.61,229.04\" style=\"vector-effect: non-scaling-stroke; fill: none; stroke: rgb(191, 191, 191); stroke-opacity: 1; stroke-width: 2px; opacity: 1;\"/><path class=\"js-line\" d=\"M186.08,117.1L186.08,150.54\" style=\"vector-effect: non-scaling-stroke; fill: none; stroke: rgb(191, 191, 191); stroke-opacity: 1; stroke-width: 2px; opacity: 1;\"/></g><g class=\"points\"/><g class=\"text\"/></g><g class=\"trace scatter traceef8dd1\" style=\"stroke-miterlimit: 2; opacity: 1;\"><g class=\"fills\"/><g class=\"errorbars\"/><g class=\"lines\"><path class=\"js-line\" d=\"M547.72,23.36L565,23.36\" style=\"vector-effect: non-scaling-stroke; fill: none; stroke: rgb(191, 191, 191); stroke-opacity: 1; stroke-width: 2px; opacity: 1;\"/><path class=\"js-line\" d=\"M547.72,23.36L547.72,254.03\" style=\"vector-effect: non-scaling-stroke; fill: none; stroke: rgb(191, 191, 191); stroke-opacity: 1; stroke-width: 2px; opacity: 1;\"/><path class=\"js-line\" d=\"M565,23.36L565,235.31\" style=\"vector-effect: non-scaling-stroke; fill: none; stroke: rgb(191, 191, 191); stroke-opacity: 1; stroke-width: 2px; opacity: 1;\"/></g><g class=\"points\"/><g class=\"text\"/></g><g class=\"trace scatter tracece3099\" style=\"stroke-miterlimit: 2; opacity: 1;\"><g class=\"fills\"/><g class=\"errorbars\"/><g class=\"lines\"><path class=\"js-line\" d=\"M35,22.41L235.19,22.41\" style=\"vector-effect: non-scaling-stroke; fill: none; stroke: rgb(191, 191, 191); stroke-opacity: 1; stroke-width: 2px; opacity: 1;\"/><path class=\"js-line\" d=\"M35,22.41L35,33.47\" style=\"vector-effect: non-scaling-stroke; fill: none; stroke: rgb(191, 191, 191); stroke-opacity: 1; stroke-width: 2px; opacity: 1;\"/></g><g class=\"points\"/><g class=\"text\"/></g><g class=\"trace scatter tracebaca73\" style=\"stroke-miterlimit: 2; opacity: 1;\"><g class=\"fills\"><g><path class=\"js-fill\" d=\"M189.27,348.21L189.27,166.47L195.65,166.47L195.65,348.21Z\" style=\"fill: rgb(211, 114, 149); fill-opacity: 0.5; stroke-width: 0;\"/></g></g><g class=\"errorbars\"/><g class=\"lines\"><path class=\"js-line\" d=\"M189.27,348.21L189.27,166.47L195.65,166.47L195.65,348.21\" style=\"vector-effect: non-scaling-stroke; fill: none; stroke: rgb(211, 114, 149); stroke-opacity: 1; stroke-width: 2px; opacity: 1;\"/></g><g class=\"points\"/><g class=\"text\"/></g><g class=\"trace scatter trace5632fe\" style=\"stroke-miterlimit: 2; opacity: 1;\"><g class=\"fills\"><g><path class=\"js-fill\" d=\"M353.66,348.21L353.66,162.87L524.07,162.87L524.07,348.21Z\" style=\"fill: rgb(176, 122, 161); fill-opacity: 0.5; stroke-width: 0;\"/></g></g><g class=\"errorbars\"/><g class=\"lines\"><path class=\"js-line\" d=\"M353.66,348.21L353.66,162.87L524.07,162.87L524.07,348.21\" style=\"vector-effect: non-scaling-stroke; fill: none; stroke: rgb(176, 122, 161); stroke-opacity: 1; stroke-width: 2px; opacity: 1;\"/></g><g class=\"points\"/><g class=\"text\"/></g><g class=\"trace scatter traced63a2b\" style=\"stroke-miterlimit: 2; opacity: 1;\"><g class=\"fills\"/><g class=\"errorbars\"/><g class=\"lines\"><path class=\"js-line\" d=\"M205.51,22.46L545,22.46\" style=\"vector-effect: non-scaling-stroke; fill: none; stroke: rgb(191, 191, 191); stroke-opacity: 1; stroke-width: 2px; opacity: 1;\"/><path class=\"js-line\" d=\"M205.51,22.46L205.51,34.91\" style=\"vector-effect: non-scaling-stroke; fill: none; stroke: rgb(191, 191, 191); stroke-opacity: 1; stroke-width: 2px; opacity: 1;\"/><path class=\"js-line\" d=\"M545,22.46L545,22.96\" style=\"vector-effect: non-scaling-stroke; fill: none; stroke: rgb(191, 191, 191); stroke-opacity: 1; stroke-width: 2px; opacity: 1;\"/></g><g class=\"points\"/><g class=\"text\"/></g><g class=\"trace scatter tracee3b52f\" style=\"stroke-miterlimit: 2; opacity: 1;\"><g class=\"fills\"/><g class=\"errorbars\"/><g class=\"lines\"><path class=\"js-line\" d=\"M207.56,91.07L293.48,91.07\" style=\"vector-effect: non-scaling-stroke; fill: none; stroke: rgb(191, 191, 191); stroke-opacity: 1; stroke-width: 2px; opacity: 1;\"/><path class=\"js-line\" d=\"M207.56,91.07L207.56,188.55\" style=\"vector-effect: non-scaling-stroke; fill: none; stroke: rgb(191, 191, 191); stroke-opacity: 1; stroke-width: 2px; opacity: 1;\"/><path class=\"js-line\" d=\"M293.48,91.07L293.48,99.44\" style=\"vector-effect: non-scaling-stroke; fill: none; stroke: rgb(191, 191, 191); stroke-opacity: 1; stroke-width: 2px; opacity: 1;\"/></g><g class=\"points\"/><g class=\"text\"/></g><g class=\"trace scatter traceff56cc\" style=\"stroke-miterlimit: 2; opacity: 1;\"><g class=\"fills\"/><g class=\"errorbars\"/><g class=\"lines\"><path class=\"js-line\" d=\"M145.14,99.44L175.84,99.44\" style=\"vector-effect: non-scaling-stroke; fill: none; stroke: rgb(191, 191, 191); stroke-opacity: 1; stroke-width: 2px; opacity: 1;\"/><path class=\"js-line\" d=\"M145.14,99.44L145.14,166.83\" style=\"vector-effect: non-scaling-stroke; fill: none; stroke: rgb(191, 191, 191); stroke-opacity: 1; stroke-width: 2px; opacity: 1;\"/><path class=\"js-line\" d=\"M175.84,99.44L175.84,117.1\" style=\"vector-effect: non-scaling-stroke; fill: none; stroke: rgb(191, 191, 191); stroke-opacity: 1; stroke-width: 2px; opacity: 1;\"/></g><g class=\"points\"/><g class=\"text\"/></g><g class=\"trace scatter trace93ddfa\" style=\"stroke-miterlimit: 2; opacity: 1;\"><g class=\"fills\"><g><path class=\"js-fill\" d=\"M61.05,348.21L61.05,146.38L129.19,146.38L129.19,348.21Z\" style=\"fill: rgb(242, 142, 43); fill-opacity: 0.5; stroke-width: 0;\"/></g></g><g class=\"errorbars\"/><g class=\"lines\"><path class=\"js-line\" d=\"M61.05,348.21L61.05,146.38L129.19,146.38L129.19,348.21\" style=\"vector-effect: non-scaling-stroke; fill: none; stroke: rgb(242, 142, 43); stroke-opacity: 1; stroke-width: 2px; opacity: 1;\"/></g><g class=\"points\"/><g class=\"text\"/></g><g class=\"trace scatter trace86dda9\" style=\"stroke-miterlimit: 2; opacity: 1;\"><g class=\"fills\"><g><path class=\"js-fill\" d=\"M161.1,348.21L161.1,229.04L170.12,229.04L170.12,348.21Z\" style=\"fill: rgb(176, 122, 161); fill-opacity: 0.5; stroke-width: 0;\"/></g></g><g class=\"errorbars\"/><g class=\"lines\"><path class=\"js-line\" d=\"M161.1,348.21L161.1,229.04L170.12,229.04L170.12,348.21\" style=\"vector-effect: non-scaling-stroke; fill: none; stroke: rgb(176, 122, 161); stroke-opacity: 1; stroke-width: 2px; opacity: 1;\"/></g><g class=\"points\"/><g class=\"text\"/></g><g class=\"trace scatter tracea99730\" style=\"stroke-miterlimit: 2; opacity: 1;\"><g class=\"fills\"><g><path class=\"js-fill\" d=\"M148.33,348.21L148.33,346.44L154.72,346.44L154.72,348.21Z\" style=\"fill: rgb(176, 122, 161); fill-opacity: 0.5; stroke-width: 0;\"/></g></g><g class=\"errorbars\"/><g class=\"lines\"><path class=\"js-line\" d=\"M148.33,348.21L148.33,346.44L154.72,346.44L154.72,348.21\" style=\"vector-effect: non-scaling-stroke; fill: none; stroke: rgb(176, 122, 161); stroke-opacity: 1; stroke-width: 2px; opacity: 1;\"/></g><g class=\"points\"/><g class=\"text\"/></g><g class=\"trace scatter trace5d8fa4\" style=\"stroke-miterlimit: 2; opacity: 1;\"><g class=\"fills\"><g><path class=\"js-fill\" d=\"M135.57,348.21L135.57,348.04L141.95,348.04L141.95,348.21Z\" style=\"fill: rgb(182, 153, 45); fill-opacity: 0.5; stroke-width: 0;\"/></g></g><g class=\"errorbars\"/><g class=\"lines\"><path class=\"js-line\" d=\"M135.57,348.21L135.57,348.04L141.95,348.04L141.95,348.21\" style=\"vector-effect: non-scaling-stroke; fill: none; stroke: rgb(182, 153, 45); stroke-opacity: 1; stroke-width: 2px; opacity: 1;\"/></g><g class=\"points\"/><g class=\"text\"/></g><g class=\"trace scatter trace7a9d5e\" style=\"stroke-miterlimit: 2; opacity: 1;\"><g class=\"fills\"><g><path class=\"js-fill\" d=\"M202.03,348.21L202.03,188.55L213.09,188.55L213.09,348.21Z\" style=\"fill: rgb(182, 153, 45); fill-opacity: 0.5; stroke-width: 0;\"/></g></g><g class=\"errorbars\"/><g class=\"lines\"><path class=\"js-line\" d=\"M202.03,348.21L202.03,188.55L213.09,188.55L213.09,348.21\" style=\"vector-effect: non-scaling-stroke; fill: none; stroke: rgb(182, 153, 45); stroke-opacity: 1; stroke-width: 2px; opacity: 1;\"/></g><g class=\"points\"/><g class=\"text\"/></g><g class=\"trace scatter trace920ef9\" style=\"stroke-miterlimit: 2; opacity: 1;\"><g class=\"fills\"/><g class=\"errorbars\"/><g class=\"lines\"><path class=\"js-line\" d=\"M138.76,166.83L151.53,166.83\" style=\"vector-effect: non-scaling-stroke; fill: none; stroke: rgb(191, 191, 191); stroke-opacity: 1; stroke-width: 2px; opacity: 1;\"/><path class=\"js-line\" d=\"M138.76,166.83L138.76,348.04\" style=\"vector-effect: non-scaling-stroke; fill: none; stroke: rgb(191, 191, 191); stroke-opacity: 1; stroke-width: 2px; opacity: 1;\"/><path class=\"js-line\" d=\"M151.53,166.83L151.53,346.44\" style=\"vector-effect: non-scaling-stroke; fill: none; stroke: rgb(191, 191, 191); stroke-opacity: 1; stroke-width: 2px; opacity: 1;\"/></g><g class=\"points\"/><g class=\"text\"/></g><g class=\"trace scatter trace5f0c07\" style=\"stroke-miterlimit: 2; opacity: 1;\"><g class=\"fills\"><g><path class=\"js-fill\" d=\"M232.23,348.21L232.23,279.81L347.28,279.81L347.28,348.21Z\" style=\"fill: rgb(89, 161, 79); fill-opacity: 0.5; stroke-width: 0;\"/></g></g><g class=\"errorbars\"/><g class=\"lines\"><path class=\"js-line\" d=\"M232.23,348.21L232.23,279.81L347.28,279.81L347.28,348.21\" style=\"vector-effect: non-scaling-stroke; fill: none; stroke: rgb(89, 161, 79); stroke-opacity: 1; stroke-width: 2px; opacity: 1;\"/></g><g class=\"points\"/><g class=\"text\"/></g><g class=\"trace scatter tracecb504e\" style=\"stroke-miterlimit: 2; opacity: 1;\"><g class=\"fills\"><g><path class=\"js-fill\" d=\"M558.62,348.21L558.62,235.31L571.38,235.31L571.38,348.21Z\" style=\"fill: rgb(78, 121, 167); fill-opacity: 0.5; stroke-width: 0;\"/></g></g><g class=\"errorbars\"/><g class=\"lines\"><path class=\"js-line\" d=\"M558.62,348.21L558.62,235.31L571.38,235.31L571.38,348.21\" style=\"vector-effect: non-scaling-stroke; fill: none; stroke: rgb(78, 121, 167); stroke-opacity: 1; stroke-width: 2px; opacity: 1;\"/></g><g class=\"points\"/><g class=\"text\"/></g><g class=\"trace scatter trace11f8ac\" style=\"stroke-miterlimit: 2; opacity: 1;\"><g class=\"fills\"><g><path class=\"js-fill\" d=\"M530.45,348.21L530.45,342.74L536.83,342.74L536.83,348.21Z\" style=\"fill: rgb(73, 152, 148); fill-opacity: 0.5; stroke-width: 0;\"/></g></g><g class=\"errorbars\"/><g class=\"lines\"><path class=\"js-line\" d=\"M530.45,348.21L530.45,342.74L536.83,342.74L536.83,348.21\" style=\"vector-effect: non-scaling-stroke; fill: none; stroke: rgb(73, 152, 148); stroke-opacity: 1; stroke-width: 2px; opacity: 1;\"/></g><g class=\"points\"/><g class=\"text\"/></g><g class=\"trace scatter trace636e61\" style=\"stroke-miterlimit: 2; opacity: 1;\"><g class=\"fills\"/><g class=\"errorbars\"/><g class=\"lines\"><path class=\"js-line\" d=\"M95.12,22.41L375.25,22.41\" style=\"vector-effect: non-scaling-stroke; fill: none; stroke: rgb(191, 191, 191); stroke-opacity: 1; stroke-width: 2px; opacity: 1;\"/><path class=\"js-line\" d=\"M95.12,22.41L95.12,146.38\" style=\"vector-effect: non-scaling-stroke; fill: none; stroke: rgb(191, 191, 191); stroke-opacity: 1; stroke-width: 2px; opacity: 1;\"/></g><g class=\"points\"/><g class=\"text\"/></g><g class=\"trace scatter trace1e1348\" style=\"stroke-miterlimit: 2; opacity: 1;\"><g class=\"fills\"><g><path class=\"js-fill\" d=\"M219.47,348.21L219.47,130.29L225.85,130.29L225.85,348.21Z\" style=\"fill: rgb(157, 118, 96); fill-opacity: 0.5; stroke-width: 0;\"/></g></g><g class=\"errorbars\"/><g class=\"lines\"><path class=\"js-line\" d=\"M219.47,348.21L219.47,130.29L225.85,130.29L225.85,348.21\" style=\"vector-effect: non-scaling-stroke; fill: none; stroke: rgb(157, 118, 96); stroke-opacity: 1; stroke-width: 2px; opacity: 1;\"/></g><g class=\"points\"/><g class=\"text\"/></g><g class=\"trace scatter trace0991cf\" style=\"stroke-miterlimit: 2; opacity: 1;\"><g class=\"fills\"/><g class=\"errorbars\"/><g class=\"lines\"><path class=\"js-line\" d=\"M160.49,34.91L250.52,34.91\" style=\"vector-effect: non-scaling-stroke; fill: none; stroke: rgb(191, 191, 191); stroke-opacity: 1; stroke-width: 2px; opacity: 1;\"/><path class=\"js-line\" d=\"M160.49,34.91L160.49,99.44\" style=\"vector-effect: non-scaling-stroke; fill: none; stroke: rgb(191, 191, 191); stroke-opacity: 1; stroke-width: 2px; opacity: 1;\"/><path class=\"js-line\" d=\"M250.52,34.91L250.52,91.07\" style=\"vector-effect: non-scaling-stroke; fill: none; stroke: rgb(191, 191, 191); stroke-opacity: 1; stroke-width: 2px; opacity: 1;\"/></g><g class=\"points\"/><g class=\"text\"/></g><g class=\"trace scatter traced29c93\" style=\"stroke-miterlimit: 2; opacity: 1;\"><g class=\"fills\"><g><path class=\"js-fill\" d=\"M15.33,348.21L15.33,33.47L54.67,33.47L54.67,348.21Z\" style=\"fill: rgb(225, 87, 89); fill-opacity: 0.5; stroke-width: 0;\"/></g></g><g class=\"errorbars\"/><g class=\"lines\"><path class=\"js-line\" d=\"M15.33,348.21L15.33,33.47L54.67,33.47L54.67,348.21\" style=\"vector-effect: non-scaling-stroke; fill: none; stroke: rgb(225, 87, 89); stroke-opacity: 1; stroke-width: 2px; opacity: 1;\"/></g><g class=\"points\"/><g class=\"text\"/></g><g class=\"trace scatter tracea86a71\" style=\"stroke-miterlimit: 2; opacity: 1;\"><g class=\"fills\"><g><path class=\"js-fill\" d=\"M176.51,348.21L176.51,284.24L182.89,284.24L182.89,348.21Z\" style=\"fill: rgb(176, 122, 161); fill-opacity: 0.5; stroke-width: 0;\"/></g></g><g class=\"errorbars\"/><g class=\"lines\"><path class=\"js-line\" d=\"M176.51,348.21L176.51,284.24L182.89,284.24L182.89,348.21\" style=\"vector-effect: non-scaling-stroke; fill: none; stroke: rgb(176, 122, 161); stroke-opacity: 1; stroke-width: 2px; opacity: 1;\"/></g><g class=\"points\"/><g class=\"text\"/></g><g class=\"trace scatter trace736743\" style=\"stroke-miterlimit: 2; opacity: 1;\"><g class=\"fills\"/><g class=\"errorbars\"/><g class=\"lines\"><path class=\"js-line\" d=\"M222.66,99.44L364.31,99.44\" style=\"vector-effect: non-scaling-stroke; fill: none; stroke: rgb(191, 191, 191); stroke-opacity: 1; stroke-width: 2px; opacity: 1;\"/><path class=\"js-line\" d=\"M222.66,99.44L222.66,130.29\" style=\"vector-effect: non-scaling-stroke; fill: none; stroke: rgb(191, 191, 191); stroke-opacity: 1; stroke-width: 2px; opacity: 1;\"/><path class=\"js-line\" d=\"M364.31,99.44L364.31,112.86\" style=\"vector-effect: non-scaling-stroke; fill: none; stroke: rgb(191, 191, 191); stroke-opacity: 1; stroke-width: 2px; opacity: 1;\"/></g><g class=\"points\"/><g class=\"text\"/></g><g class=\"trace scatter tracee0a1f8\" style=\"stroke-miterlimit: 2; opacity: 1;\"><g class=\"fills\"/><g class=\"errorbars\"/><g class=\"lines\"><path class=\"js-line\" d=\"M179.7,150.54L192.46,150.54\" style=\"vector-effect: non-scaling-stroke; fill: none; stroke: rgb(191, 191, 191); stroke-opacity: 1; stroke-width: 2px; opacity: 1;\"/><path class=\"js-line\" d=\"M179.7,150.54L179.7,284.24\" style=\"vector-effect: non-scaling-stroke; fill: none; stroke: rgb(191, 191, 191); stroke-opacity: 1; stroke-width: 2px; opacity: 1;\"/><path class=\"js-line\" d=\"M192.46,150.54L192.46,166.47\" style=\"vector-effect: non-scaling-stroke; fill: none; stroke: rgb(191, 191, 191); stroke-opacity: 1; stroke-width: 2px; opacity: 1;\"/></g><g class=\"points\"/><g class=\"text\"/></g><g class=\"trace scatter trace55882c\" style=\"stroke-miterlimit: 2; opacity: 1;\"><g class=\"fills\"/><g class=\"errorbars\"/><g class=\"lines\"><path class=\"js-line\" d=\"M533.64,22.96L556.36,22.96\" style=\"vector-effect: non-scaling-stroke; fill: none; stroke: rgb(191, 191, 191); stroke-opacity: 1; stroke-width: 2px; opacity: 1;\"/><path class=\"js-line\" d=\"M533.64,22.96L533.64,342.74\" style=\"vector-effect: non-scaling-stroke; fill: none; stroke: rgb(191, 191, 191); stroke-opacity: 1; stroke-width: 2px; opacity: 1;\"/><path class=\"js-line\" d=\"M556.36,22.96L556.36,23.36\" style=\"vector-effect: non-scaling-stroke; fill: none; stroke: rgb(191, 191, 191); stroke-opacity: 1; stroke-width: 2px; opacity: 1;\"/></g><g class=\"points\"/><g class=\"text\"/></g><g class=\"trace scatter tracecbaba6\" style=\"stroke-miterlimit: 2; opacity: 1;\"><g class=\"fills\"/><g class=\"errorbars\"/><g class=\"lines\"/><g class=\"points\"><path class=\"point plotly-customdata\" transform=\"translate(547.72,254.03)\" d=\"M4,0A4,4 0 1,1 0,-4A4,4 0 0,1 4,0Z\" style=\"opacity: 0.7; stroke-width: 1px; fill: rgb(225, 87, 89); fill-opacity: 1; stroke: rgb(255, 255, 255); stroke-opacity: 1;\"/><path class=\"point plotly-customdata\" transform=\"translate(364.31,112.86)\" d=\"M2,0A2,2 0 1,1 0,-2A2,2 0 0,1 2,0Z\" style=\"opacity: 0.7; stroke-width: 1px; fill: rgb(191, 191, 191); fill-opacity: 1; stroke: rgb(255, 255, 255); stroke-opacity: 1;\"/><path class=\"point plotly-customdata\" transform=\"translate(175.84,117.1)\" d=\"M4,0A4,4 0 1,1 0,-4A4,4 0 0,1 4,0Z\" style=\"opacity: 0.7; stroke-width: 1px; fill: rgb(191, 191, 191); fill-opacity: 1; stroke: rgb(255, 255, 255); stroke-opacity: 1;\"/><path class=\"point plotly-customdata\" transform=\"translate(556.36,23.36)\" d=\"M2,0A2,2 0 1,1 0,-2A2,2 0 0,1 2,0Z\" style=\"opacity: 0.7; stroke-width: 1px; fill: rgb(191, 191, 191); fill-opacity: 1; stroke: rgb(255, 255, 255); stroke-opacity: 1;\"/><path class=\"point plotly-customdata\" transform=\"translate(135.09,22.41)\" d=\"M4,0A4,4 0 1,1 0,-4A4,4 0 0,1 4,0Z\" style=\"opacity: 0.7; stroke-width: 1px; fill: rgb(191, 191, 191); fill-opacity: 1; stroke: rgb(255, 255, 255); stroke-opacity: 1;\"/><path class=\"point plotly-customdata\" transform=\"translate(192.46,166.47)\" d=\"M4,0A4,4 0 1,1 0,-4A4,4 0 0,1 4,0Z\" style=\"opacity: 0.7; stroke-width: 1px; fill: rgb(211, 114, 149); fill-opacity: 1; stroke: rgb(255, 255, 255); stroke-opacity: 1;\"/><path class=\"point plotly-customdata\" transform=\"translate(438.86,162.87)\" d=\"M4,0A4,4 0 1,1 0,-4A4,4 0 0,1 4,0Z\" style=\"opacity: 0.7; stroke-width: 1px; fill: rgb(176, 122, 161); fill-opacity: 1; stroke: rgb(255, 255, 255); stroke-opacity: 1;\"/><path class=\"point plotly-customdata\" transform=\"translate(375.25,22.46)\" d=\"M2,0A2,2 0 1,1 0,-2A2,2 0 0,1 2,0Z\" style=\"opacity: 0.7; stroke-width: 1px; fill: rgb(191, 191, 191); fill-opacity: 1; stroke: rgb(255, 255, 255); stroke-opacity: 1;\"/><path class=\"point plotly-customdata\" transform=\"translate(95.12,146.38)\" d=\"M4,0A4,4 0 1,1 0,-4A4,4 0 0,1 4,0Z\" style=\"opacity: 0.7; stroke-width: 1px; fill: rgb(242, 142, 43); fill-opacity: 1; stroke: rgb(255, 255, 255); stroke-opacity: 1;\"/><path class=\"point plotly-customdata\" transform=\"translate(160.49,99.44)\" d=\"M4,0A4,4 0 1,1 0,-4A4,4 0 0,1 4,0Z\" style=\"opacity: 0.7; stroke-width: 1px; fill: rgb(191, 191, 191); fill-opacity: 1; stroke: rgb(255, 255, 255); stroke-opacity: 1;\"/><path class=\"point plotly-customdata\" transform=\"translate(250.52,91.07)\" d=\"M4,0A4,4 0 1,1 0,-4A4,4 0 0,1 4,0Z\" style=\"opacity: 0.7; stroke-width: 1px; fill: rgb(191, 191, 191); fill-opacity: 1; stroke: rgb(255, 255, 255); stroke-opacity: 1;\"/><path class=\"point plotly-customdata\" transform=\"translate(165.61,229.04)\" d=\"M4,0A4,4 0 1,1 0,-4A4,4 0 0,1 4,0Z\" style=\"opacity: 0.7; stroke-width: 1px; fill: rgb(176, 122, 161); fill-opacity: 1; stroke: rgb(255, 255, 255); stroke-opacity: 1;\"/><path class=\"point plotly-customdata\" transform=\"translate(151.53,346.44)\" d=\"M4,0A4,4 0 1,1 0,-4A4,4 0 0,1 4,0Z\" style=\"opacity: 0.7; stroke-width: 1px; fill: rgb(176, 122, 161); fill-opacity: 1; stroke: rgb(255, 255, 255); stroke-opacity: 1;\"/><path class=\"point plotly-customdata\" transform=\"translate(138.76,348.04)\" d=\"M4,0A4,4 0 1,1 0,-4A4,4 0 0,1 4,0Z\" style=\"opacity: 0.7; stroke-width: 1px; fill: rgb(182, 153, 45); fill-opacity: 1; stroke: rgb(255, 255, 255); stroke-opacity: 1;\"/><path class=\"point plotly-customdata\" transform=\"translate(207.56,188.55)\" d=\"M4,0A4,4 0 1,1 0,-4A4,4 0 0,1 4,0Z\" style=\"opacity: 0.7; stroke-width: 1px; fill: rgb(182, 153, 45); fill-opacity: 1; stroke: rgb(255, 255, 255); stroke-opacity: 1;\"/><path class=\"point plotly-customdata\" transform=\"translate(145.14,166.83)\" d=\"M4,0A4,4 0 1,1 0,-4A4,4 0 0,1 4,0Z\" style=\"opacity: 0.7; stroke-width: 1px; fill: rgb(191, 191, 191); fill-opacity: 1; stroke: rgb(255, 255, 255); stroke-opacity: 1;\"/><path class=\"point plotly-customdata\" transform=\"translate(289.76,279.81)\" d=\"M4,0A4,4 0 1,1 0,-4A4,4 0 0,1 4,0Z\" style=\"opacity: 0.7; stroke-width: 1px; fill: rgb(89, 161, 79); fill-opacity: 1; stroke: rgb(255, 255, 255); stroke-opacity: 1;\"/><path class=\"point plotly-customdata\" transform=\"translate(565,235.31)\" d=\"M4,0A4,4 0 1,1 0,-4A4,4 0 0,1 4,0Z\" style=\"opacity: 0.7; stroke-width: 1px; fill: rgb(78, 121, 167); fill-opacity: 1; stroke: rgb(255, 255, 255); stroke-opacity: 1;\"/><path class=\"point plotly-customdata\" transform=\"translate(533.64,342.74)\" d=\"M4,0A4,4 0 1,1 0,-4A4,4 0 0,1 4,0Z\" style=\"opacity: 0.7; stroke-width: 1px; fill: rgb(73, 152, 148); fill-opacity: 1; stroke: rgb(255, 255, 255); stroke-opacity: 1;\"/><path class=\"point plotly-customdata\" transform=\"translate(235.19,22.41)\" d=\"M2,0A2,2 0 1,1 0,-2A2,2 0 0,1 2,0Z\" style=\"opacity: 0.7; stroke-width: 1px; fill: rgb(191, 191, 191); fill-opacity: 1; stroke: rgb(255, 255, 255); stroke-opacity: 1;\"/><path class=\"point plotly-customdata\" transform=\"translate(222.66,130.29)\" d=\"M4,0A4,4 0 1,1 0,-4A4,4 0 0,1 4,0Z\" style=\"opacity: 0.7; stroke-width: 1px; fill: rgb(157, 118, 96); fill-opacity: 1; stroke: rgb(255, 255, 255); stroke-opacity: 1;\"/><path class=\"point plotly-customdata\" transform=\"translate(205.51,34.91)\" d=\"M4,0A4,4 0 1,1 0,-4A4,4 0 0,1 4,0Z\" style=\"opacity: 0.7; stroke-width: 1px; fill: rgb(191, 191, 191); fill-opacity: 1; stroke: rgb(255, 255, 255); stroke-opacity: 1;\"/><path class=\"point plotly-customdata\" transform=\"translate(35,33.47)\" d=\"M4,0A4,4 0 1,1 0,-4A4,4 0 0,1 4,0Z\" style=\"opacity: 0.7; stroke-width: 1px; fill: rgb(225, 87, 89); fill-opacity: 1; stroke: rgb(255, 255, 255); stroke-opacity: 1;\"/><path class=\"point plotly-customdata\" transform=\"translate(179.7,284.24)\" d=\"M4,0A4,4 0 1,1 0,-4A4,4 0 0,1 4,0Z\" style=\"opacity: 0.7; stroke-width: 1px; fill: rgb(176, 122, 161); fill-opacity: 1; stroke: rgb(255, 255, 255); stroke-opacity: 1;\"/><path class=\"point plotly-customdata\" transform=\"translate(293.48,99.44)\" d=\"M2,0A2,2 0 1,1 0,-2A2,2 0 0,1 2,0Z\" style=\"opacity: 0.7; stroke-width: 1px; fill: rgb(191, 191, 191); fill-opacity: 1; stroke: rgb(255, 255, 255); stroke-opacity: 1;\"/><path class=\"point plotly-customdata\" transform=\"translate(186.08,150.54)\" d=\"M4,0A4,4 0 1,1 0,-4A4,4 0 0,1 4,0Z\" style=\"opacity: 0.7; stroke-width: 1px; fill: rgb(191, 191, 191); fill-opacity: 1; stroke: rgb(255, 255, 255); stroke-opacity: 1;\"/><path class=\"point plotly-customdata\" transform=\"translate(545,22.96)\" d=\"M2,0A2,2 0 1,1 0,-2A2,2 0 0,1 2,0Z\" style=\"opacity: 0.7; stroke-width: 1px; fill: rgb(191, 191, 191); fill-opacity: 1; stroke: rgb(255, 255, 255); stroke-opacity: 1;\"/></g><g class=\"text\"/></g></g></g><g class=\"overplot\"/><path class=\"xlines-above crisp\" d=\"M0,0\" style=\"fill: none;\"/><path class=\"ylines-above crisp\" d=\"M0,0\" style=\"fill: none;\"/><g class=\"overlines-above\"/><g class=\"xaxislayer-above\"/><g class=\"yaxislayer-above\"><g class=\"y2tick\"><text text-anchor=\"end\" x=\"49\" y=\"4.199999999999999\" transform=\"translate(0,408.21)\" style=\"font-family: 'Open Sans', verdana, arial, sans-serif; font-size: 12px; fill: rgb(68, 68, 68); fill-opacity: 1; white-space: pre;\">0</text></g><g class=\"y2tick\"><text text-anchor=\"end\" x=\"49\" y=\"4.199999999999999\" transform=\"translate(0,343.05)\" style=\"font-family: 'Open Sans', verdana, arial, sans-serif; font-size: 12px; fill: rgb(68, 68, 68); fill-opacity: 1; white-space: pre;\">0.2</text></g><g class=\"y2tick\"><text text-anchor=\"end\" x=\"49\" y=\"4.199999999999999\" transform=\"translate(0,277.89)\" style=\"font-family: 'Open Sans', verdana, arial, sans-serif; font-size: 12px; fill: rgb(68, 68, 68); fill-opacity: 1; white-space: pre;\">0.4</text></g><g class=\"y2tick\"><text text-anchor=\"end\" x=\"49\" y=\"4.199999999999999\" transform=\"translate(0,212.73)\" style=\"font-family: 'Open Sans', verdana, arial, sans-serif; font-size: 12px; fill: rgb(68, 68, 68); fill-opacity: 1; white-space: pre;\">0.6</text></g><g class=\"y2tick\"><text text-anchor=\"end\" x=\"49\" y=\"4.199999999999999\" transform=\"translate(0,147.57)\" style=\"font-family: 'Open Sans', verdana, arial, sans-serif; font-size: 12px; fill: rgb(68, 68, 68); fill-opacity: 1; white-space: pre;\">0.8</text></g><g class=\"y2tick\"><text text-anchor=\"end\" x=\"49\" y=\"4.199999999999999\" transform=\"translate(0,82.41)\" style=\"font-family: 'Open Sans', verdana, arial, sans-serif; font-size: 12px; fill: rgb(68, 68, 68); fill-opacity: 1; white-space: pre;\">1</text></g></g><g class=\"overaxes-above\"/></g></g><g class=\"polarlayer\"/><g class=\"ternarylayer\"/><g class=\"geolayer\"/><g class=\"funnelarealayer\"/><g class=\"pielayer\"/><g class=\"treemaplayer\"/><g class=\"sunburstlayer\"/><g class=\"glimages\"/><defs id=\"topdefs-db699d\"><g class=\"clips\"/></defs><g class=\"layer-above\"><g class=\"imagelayer\"/><g class=\"shapelayer\"/></g><g class=\"infolayer\"><g class=\"g-gtitle\"/><g class=\"g-y2title\"/></g></svg>"
      ],
      "text/html": [
       "<div\n",
       "    class=\"webio-mountpoint\"\n",
       "    data-webio-mountpoint=\"6793279875739220417\"\n",
       ">\n",
       "    <script>\n",
       "    if (window.require && require.defined && require.defined(\"nbextensions/webio-jupyter-notebook\")) {\n",
       "        console.log(\"Jupyter WebIO extension detected, not mounting.\");\n",
       "    } else if (window.WebIO) {\n",
       "        WebIO.mount(\n",
       "            document.querySelector('[data-webio-mountpoint=\"6793279875739220417\"]'),\n",
       "            {\"props\":{},\"nodeType\":\"Scope\",\"type\":\"node\",\"instanceArgs\":{\"imports\":{\"data\":[{\"name\":\"Plotly\",\"type\":\"js\",\"url\":\"\\/assetserver\\/e6903599031aaef8675931dfcd7df98a1aeffbfc-plotly-latest.min.js\"},{\"name\":null,\"type\":\"js\",\"url\":\"\\/assetserver\\/74a5dea81f21b0b802ef1ee92f1c8a504eac1a0c-plotly_webio.bundle.js\"}],\"type\":\"async_block\"},\"id\":\"6115565141730059430\",\"handlers\":{\"_toImage\":[\"(function (options){return this.Plotly.toImage(this.plotElem,options).then((function (data){return WebIO.setval({\\\"name\\\":\\\"image\\\",\\\"scope\\\":\\\"6115565141730059430\\\",\\\"id\\\":\\\"11024650406697368465\\\",\\\"type\\\":\\\"observable\\\"},data)}))})\"],\"__get_gd_contents\":[\"(function (prop){prop==\\\"data\\\" ? (WebIO.setval({\\\"name\\\":\\\"__gd_contents\\\",\\\"scope\\\":\\\"6115565141730059430\\\",\\\"id\\\":\\\"4471386756493365663\\\",\\\"type\\\":\\\"observable\\\"},this.plotElem.data)) : undefined; return prop==\\\"layout\\\" ? (WebIO.setval({\\\"name\\\":\\\"__gd_contents\\\",\\\"scope\\\":\\\"6115565141730059430\\\",\\\"id\\\":\\\"4471386756493365663\\\",\\\"type\\\":\\\"observable\\\"},this.plotElem.layout)) : undefined})\"],\"_downloadImage\":[\"(function (options){return this.Plotly.downloadImage(this.plotElem,options)})\"],\"_commands\":[\"(function (args){var fn=args.shift(); var elem=this.plotElem; var Plotly=this.Plotly; args.unshift(elem); return Plotly[fn].apply(this,args)})\"]},\"systemjs_options\":null,\"mount_callbacks\":[\"function () {\\n    var handler = ((function (Plotly,PlotlyWebIO){PlotlyWebIO.init(WebIO); var gd=this.dom.querySelector(\\\"#plot-ec989711-8ac7-497e-9e46-940dfd3ef9c1\\\"); this.plotElem=gd; this.Plotly=Plotly; (window.Blink!==undefined) ? (gd.style.width=\\\"100%\\\", gd.style.height=\\\"100vh\\\", gd.style.marginLeft=\\\"0%\\\", gd.style.marginTop=\\\"0vh\\\") : undefined; window.onresize=(function (){return Plotly.Plots.resize(gd)}); Plotly.newPlot(gd,[{\\\"showlegend\\\":false,\\\"mode\\\":\\\"lines\\\",\\\"line\\\":{\\\"color\\\":\\\"#E15759\\\"},\\\"y\\\":[0.0,0.2890969216823578,0.2890969216823578,0.0],\\\"type\\\":\\\"scatter\\\",\\\"fill\\\":\\\"toself\\\",\\\"hoverinfo\\\":\\\"skip\\\",\\\"yaxis\\\":\\\"y2\\\",\\\"x\\\":[83.71757284789959,83.71757284789959,85.13178641027268,85.13178641027268]},{\\\"showlegend\\\":false,\\\"mode\\\":\\\"lines\\\",\\\"line\\\":{\\\"color\\\":\\\"#BFBFBF\\\"},\\\"y\\\":[0.7223665714263916,0.7223665714263916,null,0.7223665714263916,0.20994779467582703,null,0.7223665714263916,0.5688816905021667,null],\\\"type\\\":\\\"scatter\\\",\\\"hoverinfo\\\":\\\"skip\\\",\\\"yaxis\\\":\\\"y2\\\",\\\"x\\\":[44.00163481360224,67.36654292508089,null,44.00163481360224,44.00163481360224,null,67.36654292508089,67.36654292508089,null]},{\\\"showlegend\\\":false,\\\"mode\\\":\\\"lines\\\",\\\"line\\\":{\\\"color\\\":\\\"#BFBFBF\\\"},\\\"y\\\":[0.7093522548675537,0.7093522548675537,null,0.7093522548675537,0.3657861053943634,null,0.7093522548675537,0.6067352890968323,null],\\\"type\\\":\\\"scatter\\\",\\\"hoverinfo\\\":\\\"skip\\\",\\\"yaxis\\\":\\\"y2\\\",\\\"x\\\":[24.548599036186836,27.755705817373382,null,24.548599036186836,24.548599036186836,null,27.755705817373382,27.755705817373382,null]},{\\\"showlegend\\\":false,\\\"mode\\\":\\\"lines\\\",\\\"line\\\":{\\\"color\\\":\\\"#BFBFBF\\\"},\\\"y\\\":[0.9970870018005371,0.9970870018005371,null,0.9970870018005371,0.2890969216823578,null,0.9970870018005371,0.34654098749160767,null],\\\"type\\\":\\\"scatter\\\",\\\"hoverinfo\\\":\\\"skip\\\",\\\"yaxis\\\":\\\"y2\\\",\\\"x\\\":[84.42467962908614,87.13178641027268,null,84.42467962908614,84.42467962908614,null,87.13178641027268,87.13178641027268,null]},{\\\"showlegend\\\":false,\\\"mode\\\":\\\"lines\\\",\\\"line\\\":{\\\"color\\\":\\\"#BFBFBF\\\"},\\\"y\\\":[1.0,1.0,null,1.0,0.9660427570343018,null,1.0,1.0,null],\\\"type\\\":\\\"scatter\\\",\\\"hoverinfo\\\":\\\"skip\\\",\\\"yaxis\\\":\\\"y2\\\",\\\"x\\\":[4.082207001484488,35.4510334635697,null,4.082207001484488,4.082207001484488,null,35.4510334635697,35.4510334635697,null]},{\\\"showlegend\\\":false,\\\"mode\\\":\\\"lines\\\",\\\"line\\\":{\\\"color\\\":\\\"#D37295\\\"},\\\"y\\\":[0.0,0.5578354597091675,0.5578354597091675,0.0],\\\"type\\\":\\\"scatter\\\",\\\"fill\\\":\\\"toself\\\",\\\"hoverinfo\\\":\\\"skip\\\",\\\"yaxis\\\":\\\"y2\\\",\\\"x\\\":[28.255705817373382,28.255705817373382,29.255705817373382,29.255705817373382]},{\\\"showlegend\\\":false,\\\"mode\\\":\\\"lines\\\",\\\"line\\\":{\\\"color\\\":\\\"#B07AA1\\\"},\\\"y\\\":[0.0,0.5688816905021667,0.5688816905021667,0.0],\\\"type\\\":\\\"scatter\\\",\\\"fill\\\":\\\"toself\\\",\\\"hoverinfo\\\":\\\"skip\\\",\\\"yaxis\\\":\\\"y2\\\",\\\"x\\\":[54.01551300226221,54.01551300226221,80.71757284789959,80.71757284789959]},{\\\"showlegend\\\":false,\\\"mode\\\":\\\"lines\\\",\\\"line\\\":{\\\"color\\\":\\\"#BFBFBF\\\"},\\\"y\\\":[0.9998422861099243,0.9998422861099243,null,0.9998422861099243,0.9616410136222839,null,0.9998422861099243,0.9983099699020386,null],\\\"type\\\":\\\"scatter\\\",\\\"hoverinfo\\\":\\\"skip\\\",\\\"yaxis\\\":\\\"y2\\\",\\\"x\\\":[30.800324662520033,83.9979029337895,null,30.800324662520033,30.800324662520033,null,83.9979029337895,83.9979029337895,null]},{\\\"showlegend\\\":false,\\\"mode\\\":\\\"lines\\\",\\\"line\\\":{\\\"color\\\":\\\"#BFBFBF\\\"},\\\"y\\\":[0.7892481684684753,0.7892481684684753,null,0.7892481684684753,0.49006450176239014,null,0.7892481684684753,0.7635694742202759,null],\\\"type\\\":\\\"scatter\\\",\\\"hoverinfo\\\":\\\"skip\\\",\\\"yaxis\\\":\\\"y2\\\",\\\"x\\\":[31.121731221157823,44.585922747141915,null,31.121731221157823,31.121731221157823,null,44.585922747141915,44.585922747141915,null]},{\\\"showlegend\\\":false,\\\"mode\\\":\\\"lines\\\",\\\"line\\\":{\\\"color\\\":\\\"#BFBFBF\\\"},\\\"y\\\":[0.7635746598243713,0.7635746598243713,null,0.7635746598243713,0.5567193627357483,null,0.7635746598243713,0.7093522548675537,null],\\\"type\\\":\\\"scatter\\\",\\\"hoverinfo\\\":\\\"skip\\\",\\\"yaxis\\\":\\\"y2\\\",\\\"x\\\":[21.341492255000286,26.15215242678011,null,21.341492255000286,21.341492255000286,null,26.15215242678011,26.15215242678011,null]},{\\\"showlegend\\\":false,\\\"mode\\\":\\\"lines\\\",\\\"line\\\":{\\\"color\\\":\\\"#F28E2B\\\"},\\\"y\\\":[0.0,0.6194909811019897,0.6194909811019897,0.0],\\\"type\\\":\\\"scatter\\\",\\\"fill\\\":\\\"toself\\\",\\\"hoverinfo\\\":\\\"skip\\\",\\\"yaxis\\\":\\\"y2\\\",\\\"x\\\":[8.164414002968975,8.164414002968975,18.841492255000286,18.841492255000286]},{\\\"showlegend\\\":false,\\\"mode\\\":\\\"lines\\\",\\\"line\\\":{\\\"color\\\":\\\"#B07AA1\\\"},\\\"y\\\":[0.0,0.3657861053943634,0.3657861053943634,0.0],\\\"type\\\":\\\"scatter\\\",\\\"fill\\\":\\\"toself\\\",\\\"hoverinfo\\\":\\\"skip\\\",\\\"yaxis\\\":\\\"y2\\\",\\\"x\\\":[23.841492255000286,23.841492255000286,25.255705817373382,25.255705817373382]},{\\\"showlegend\\\":false,\\\"mode\\\":\\\"lines\\\",\\\"line\\\":{\\\"color\\\":\\\"#B07AA1\\\"},\\\"y\\\":[0.0,0.005434782709926367,0.005434782709926367,0.0],\\\"type\\\":\\\"scatter\\\",\\\"fill\\\":\\\"toself\\\",\\\"hoverinfo\\\":\\\"skip\\\",\\\"yaxis\\\":\\\"y2\\\",\\\"x\\\":[21.841492255000286,21.841492255000286,22.841492255000286,22.841492255000286]},{\\\"showlegend\\\":false,\\\"mode\\\":\\\"lines\\\",\\\"line\\\":{\\\"color\\\":\\\"#B6992D\\\"},\\\"y\\\":[0.0,0.0005243838531896472,0.0005243838531896472,0.0],\\\"type\\\":\\\"scatter\\\",\\\"fill\\\":\\\"toself\\\",\\\"hoverinfo\\\":\\\"skip\\\",\\\"yaxis\\\":\\\"y2\\\",\\\"x\\\":[19.841492255000286,19.841492255000286,20.841492255000286,20.841492255000286]},{\\\"showlegend\\\":false,\\\"mode\\\":\\\"lines\\\",\\\"line\\\":{\\\"color\\\":\\\"#B6992D\\\"},\\\"y\\\":[0.0,0.49006450176239014,0.49006450176239014,0.0],\\\"type\\\":\\\"scatter\\\",\\\"fill\\\":\\\"toself\\\",\\\"hoverinfo\\\":\\\"skip\\\",\\\"yaxis\\\":\\\"y2\\\",\\\"x\\\":[30.255705817373382,30.255705817373382,31.98775662494226,31.98775662494226]},{\\\"showlegend\\\":false,\\\"mode\\\":\\\"lines\\\",\\\"line\\\":{\\\"color\\\":\\\"#BFBFBF\\\"},\\\"y\\\":[0.5567193627357483,0.5567193627357483,null,0.5567193627357483,0.0005243838531896472,null,0.5567193627357483,0.005434782709926367,null],\\\"type\\\":\\\"scatter\\\",\\\"hoverinfo\\\":\\\"skip\\\",\\\"yaxis\\\":\\\"y2\\\",\\\"x\\\":[20.341492255000286,22.341492255000286,null,20.341492255000286,20.341492255000286,null,22.341492255000286,22.341492255000286,null]},{\\\"showlegend\\\":false,\\\"mode\\\":\\\"lines\\\",\\\"line\\\":{\\\"color\\\":\\\"#59A14F\\\"},\\\"y\\\":[0.0,0.20994779467582703,0.20994779467582703,0.0],\\\"type\\\":\\\"scatter\\\",\\\"fill\\\":\\\"toself\\\",\\\"hoverinfo\\\":\\\"skip\\\",\\\"yaxis\\\":\\\"y2\\\",\\\"x\\\":[34.987756624942264,34.987756624942264,53.01551300226221,53.01551300226221]},{\\\"showlegend\\\":false,\\\"mode\\\":\\\"lines\\\",\\\"line\\\":{\\\"color\\\":\\\"#4E79A7\\\"},\\\"y\\\":[0.0,0.34654098749160767,0.34654098749160767,0.0],\\\"type\\\":\\\"scatter\\\",\\\"fill\\\":\\\"toself\\\",\\\"hoverinfo\\\":\\\"skip\\\",\\\"yaxis\\\":\\\"y2\\\",\\\"x\\\":[86.13178641027268,86.13178641027268,88.13178641027268,88.13178641027268]},{\\\"showlegend\\\":false,\\\"mode\\\":\\\"lines\\\",\\\"line\\\":{\\\"color\\\":\\\"#499894\\\"},\\\"y\\\":[0.0,0.016814660280942917,0.016814660280942917,0.0],\\\"type\\\":\\\"scatter\\\",\\\"fill\\\":\\\"toself\\\",\\\"hoverinfo\\\":\\\"skip\\\",\\\"yaxis\\\":\\\"y2\\\",\\\"x\\\":[81.71757284789959,81.71757284789959,82.71757284789959,82.71757284789959]},{\\\"showlegend\\\":false,\\\"mode\\\":\\\"lines\\\",\\\"line\\\":{\\\"color\\\":\\\"#BFBFBF\\\"},\\\"y\\\":[1.0,1.0,null,1.0,0.6194909811019897,null,1.0,0.9998422861099243,null],\\\"type\\\":\\\"scatter\\\",\\\"hoverinfo\\\":\\\"skip\\\",\\\"yaxis\\\":\\\"y2\\\",\\\"x\\\":[13.50295312898463,57.39911379815477,null,13.50295312898463,13.50295312898463,null,57.39911379815477,57.39911379815477,null]},{\\\"showlegend\\\":false,\\\"mode\\\":\\\"lines\\\",\\\"line\\\":{\\\"color\\\":\\\"#9D7660\\\"},\\\"y\\\":[0.0,0.6688838005065918,0.6688838005065918,0.0],\\\"type\\\":\\\"scatter\\\",\\\"fill\\\":\\\"toself\\\",\\\"hoverinfo\\\":\\\"skip\\\",\\\"yaxis\\\":\\\"y2\\\",\\\"x\\\":[32.987756624942264,32.987756624942264,33.987756624942264,33.987756624942264]},{\\\"showlegend\\\":false,\\\"mode\\\":\\\"lines\\\",\\\"line\\\":{\\\"color\\\":\\\"#BFBFBF\\\"},\\\"y\\\":[0.9616410136222839,0.9616410136222839,null,0.9616410136222839,0.7635746598243713,null,0.9616410136222839,0.7892481684684753,null],\\\"type\\\":\\\"scatter\\\",\\\"hoverinfo\\\":\\\"skip\\\",\\\"yaxis\\\":\\\"y2\\\",\\\"x\\\":[23.746822340890198,37.85382698414987,null,23.746822340890198,23.746822340890198,null,37.85382698414987,37.85382698414987,null]},{\\\"showlegend\\\":false,\\\"mode\\\":\\\"lines\\\",\\\"line\\\":{\\\"color\\\":\\\"#E15759\\\"},\\\"y\\\":[0.0,0.9660427570343018,0.9660427570343018,0.0],\\\"type\\\":\\\"scatter\\\",\\\"fill\\\":\\\"toself\\\",\\\"hoverinfo\\\":\\\"skip\\\",\\\"yaxis\\\":\\\"y2\\\",\\\"x\\\":[1.0,1.0,7.164414002968976,7.164414002968976]},{\\\"showlegend\\\":false,\\\"mode\\\":\\\"lines\\\",\\\"line\\\":{\\\"color\\\":\\\"#B07AA1\\\"},\\\"y\\\":[0.0,0.19636884331703186,0.19636884331703186,0.0],\\\"type\\\":\\\"scatter\\\",\\\"fill\\\":\\\"toself\\\",\\\"hoverinfo\\\":\\\"skip\\\",\\\"yaxis\\\":\\\"y2\\\",\\\"x\\\":[26.255705817373382,26.255705817373382,27.255705817373382,27.255705817373382]},{\\\"showlegend\\\":false,\\\"mode\\\":\\\"lines\\\",\\\"line\\\":{\\\"color\\\":\\\"#BFBFBF\\\"},\\\"y\\\":[0.7635694742202759,0.7635694742202759,null,0.7635694742202759,0.6688838005065918,null,0.7635694742202759,0.7223665714263916,null],\\\"type\\\":\\\"scatter\\\",\\\"hoverinfo\\\":\\\"skip\\\",\\\"yaxis\\\":\\\"y2\\\",\\\"x\\\":[33.487756624942264,55.684088869341565,null,33.487756624942264,33.487756624942264,null,55.684088869341565,55.684088869341565,null]},{\\\"showlegend\\\":false,\\\"mode\\\":\\\"lines\\\",\\\"line\\\":{\\\"color\\\":\\\"#BFBFBF\\\"},\\\"y\\\":[0.6067352890968323,0.6067352890968323,null,0.6067352890968323,0.19636884331703186,null,0.6067352890968323,0.5578354597091675,null],\\\"type\\\":\\\"scatter\\\",\\\"hoverinfo\\\":\\\"skip\\\",\\\"yaxis\\\":\\\"y2\\\",\\\"x\\\":[26.755705817373382,28.755705817373382,null,26.755705817373382,26.755705817373382,null,28.755705817373382,28.755705817373382,null]},{\\\"showlegend\\\":false,\\\"mode\\\":\\\"lines\\\",\\\"line\\\":{\\\"color\\\":\\\"#BFBFBF\\\"},\\\"y\\\":[0.9983099699020386,0.9983099699020386,null,0.9983099699020386,0.016814660280942917,null,0.9983099699020386,0.9970870018005371,null],\\\"type\\\":\\\"scatter\\\",\\\"hoverinfo\\\":\\\"skip\\\",\\\"yaxis\\\":\\\"y2\\\",\\\"x\\\":[82.21757284789959,85.77823301967942,null,82.21757284789959,82.21757284789959,null,85.77823301967942,85.77823301967942,null]},{\\\"showlegend\\\":false,\\\"mode\\\":\\\"markers\\\",\\\"marker\\\":{\\\"color\\\":[\\\"#E15759\\\",\\\"#BFBFBF\\\",\\\"#BFBFBF\\\",\\\"#BFBFBF\\\",\\\"#BFBFBF\\\",\\\"#D37295\\\",\\\"#B07AA1\\\",\\\"#BFBFBF\\\",\\\"#F28E2B\\\",\\\"#BFBFBF\\\",\\\"#BFBFBF\\\",\\\"#B07AA1\\\",\\\"#B07AA1\\\",\\\"#B6992D\\\",\\\"#B6992D\\\",\\\"#BFBFBF\\\",\\\"#59A14F\\\",\\\"#4E79A7\\\",\\\"#499894\\\",\\\"#BFBFBF\\\",\\\"#9D7660\\\",\\\"#BFBFBF\\\",\\\"#E15759\\\",\\\"#B07AA1\\\",\\\"#BFBFBF\\\",\\\"#BFBFBF\\\",\\\"#BFBFBF\\\"],\\\"size\\\":[8,4,8,4,8,8,8,4,8,8,8,8,8,8,8,8,8,8,8,4,8,8,8,8,4,8,4]},\\\"y\\\":[0.2890969216823578,0.7223665714263916,0.7093522548675537,0.9970870018005371,1.0,0.5578354597091675,0.5688816905021667,0.9998422861099243,0.6194909811019897,0.7635746598243713,0.7892481684684753,0.3657861053943634,0.005434782709926367,0.0005243838531896472,0.49006450176239014,0.5567193627357483,0.20994779467582703,0.34654098749160767,0.016814660280942917,1.0,0.6688838005065918,0.9616410136222839,0.9660427570343018,0.19636884331703186,0.7635694742202759,0.6067352890968323,0.9983099699020386],\\\"type\\\":\\\"scatter\\\",\\\"customdata\\\":[[3,\\\"Gardnerella vaginalis\\\"],[1040,\\\"(mixed)\\\"],[7,\\\"(mixed)\\\"],[8,\\\"(mixed)\\\"],[1221,\\\"(mixed)\\\"],[2,\\\"Neisseria mucosa\\\"],[714,\\\"Neisseria meningitidis\\\"],[1067,\\\"(mixed)\\\"],[115,\\\"Chlamydia trachomatis\\\"],[11,\\\"(mixed)\\\"],[1046,\\\"(mixed)\\\"],[3,\\\"Neisseria meningitidis\\\"],[2,\\\"Neisseria meningitidis\\\"],[2,\\\"Neisseria lactamica\\\"],[4,\\\"Neisseria lactamica\\\"],[4,\\\"(mixed)\\\"],[326,\\\"Neisseria gonorrhoeae\\\"],[5,\\\"Bifidobacterium pseudocatenulatum\\\"],[2,\\\"Granulicoccus phenolivorans\\\"],[1182,\\\"(mixed)\\\"],[2,\\\"Neisseria polysaccharea\\\"],[1057,\\\"(mixed)\\\"],[39,\\\"Gardnerella vaginalis\\\"],[2,\\\"Neisseria meningitidis\\\"],[1042,\\\"(mixed)\\\"],[4,\\\"(mixed)\\\"],[10,\\\"(mixed)\\\"]],\\\"yaxis\\\":\\\"y2\\\",\\\"text\\\":[\\\"2348\\\",\\\"2428\\\",\\\"2427\\\",\\\"2437\\\",\\\"2441\\\",\\\"2415\\\",\\\"2417\\\",\\\"2439\\\",\\\"2421\\\",\\\"2430\\\",\\\"2431\\\",\\\"2372\\\",\\\"1530\\\",\\\"1311\\\",\\\"2408\\\",\\\"2414\\\",\\\"2328\\\",\\\"2365\\\",\\\"1756\\\",\\\"2440\\\",\\\"2426\\\",\\\"2435\\\",\\\"2436\\\",\\\"2321\\\",\\\"2429\\\",\\\"2419\\\",\\\"2438\\\"],\\\"hovertemplate\\\":\\\"<b>%{text}<\\/b><br>\\\\n%{y:.3f}<br>\\\\n%{customdata[0]} genomes<br>\\\\n%{customdata[1]}\\\\n<extra><\\/extra>\\\\n\\\",\\\"x\\\":[84.42467962908614,55.684088869341565,26.15215242678011,85.77823301967942,19.766620232527096,28.755705817373382,67.36654292508089,57.39911379815477,13.50295312898463,23.746822340890198,37.85382698414987,24.548599036186836,22.341492255000286,20.341492255000286,31.121731221157823,21.341492255000286,44.00163481360224,87.13178641027268,82.21757284789959,35.4510334635697,33.487756624942264,30.800324662520033,4.082207001484488,26.755705817373382,44.585922747141915,27.755705817373382,83.9979029337895]},{\\\"colorscale\\\":[[0.0,\\\"#BFBFBF\\\"],[0.05555555555555555,\\\"#4E79A7\\\"],[0.1111111111111111,\\\"#F28E2B\\\"],[0.16666666666666666,\\\"#E15759\\\"],[0.2222222222222222,\\\"#499894\\\"],[0.2777777777777778,\\\"#59A14F\\\"],[0.3333333333333333,\\\"#B6992D\\\"],[0.3888888888888889,\\\"#B07AA1\\\"],[0.4444444444444444,\\\"#D37295\\\"],[0.5,\\\"#9D7660\\\"],[0.5555555555555556,\\\"#A0CBE8\\\"],[0.6111111111111112,\\\"#FFBE7D\\\"],[0.6666666666666666,\\\"#FF9D9A\\\"],[0.7222222222222222,\\\"#86BCB6\\\"],[0.7777777777777778,\\\"#8CD17D\\\"],[0.8333333333333334,\\\"#F1CE63\\\"],[0.8888888888888888,\\\"#D4A6C8\\\"],[0.9444444444444444,\\\"#FABFD2\\\"],[1.0,\\\"#D7B5A6\\\"]],\\\"text\\\":[[\\\"Cluster 2436\\\",\\\"Cluster 2421\\\",\\\"Cluster 1311\\\",\\\"Cluster 1530\\\",\\\"Cluster 2372\\\",\\\"Cluster 2321\\\",\\\"Cluster 2415\\\",\\\"Cluster 2408\\\",\\\"Cluster 2426\\\",\\\"Cluster 2328\\\",\\\"Cluster 2417\\\",\\\"Cluster 1756\\\",\\\"Cluster 2348\\\",\\\"Cluster 2365\\\"]],\\\"showscale\\\":false,\\\"x\\\":[0.5000000000000004,7.664414002968975,19.341492255000286,21.341492255000286,23.341492255000286,25.755705817373382,27.755705817373382,29.755705817373382,32.487756624942264,34.487756624942264,53.51551300226221,81.21757284789959,83.21757284789959,85.63178641027268,88.63178641027268],\\\"customdata\\\":[[[\\\"Gardnerella vaginalis\\\"],[\\\"Chlamydia trachomatis\\\"],[\\\"Neisseria lactamica\\\"],[\\\"Neisseria meningitidis\\\"],[\\\"Neisseria meningitidis\\\"],[\\\"Neisseria meningitidis\\\"],[\\\"Neisseria mucosa\\\"],[\\\"Neisseria lactamica\\\"],[\\\"Neisseria polysaccharea\\\"],[\\\"Neisseria gonorrhoeae\\\"],[\\\"Neisseria meningitidis\\\"],[\\\"Granulicoccus phenolivorans\\\"],[\\\"Gardnerella vaginalis\\\"],[\\\"Bifidobacterium pseudocatenulatum\\\"]]],\\\"zmin\\\":0,\\\"z\\\":[[3,2,6,7,7,7,8,6,9,5,7,4,3,1]],\\\"zmax\\\":18,\\\"type\\\":\\\"heatmap\\\",\\\"xgap\\\":1,\\\"hovertemplate\\\":\\\"<b>%{text}<\\/b><br>\\\\n%{customdata[0]}\\\\n<extra><\\/extra>\\\\n\\\"}],{\\\"showlegend\\\":false,\\\"xaxis\\\":{\\\"visible\\\":false},\\\"hovermode\\\":\\\"closest\\\",\\\"margin\\\":{\\\"l\\\":50,\\\"b\\\":50,\\\"r\\\":50,\\\"t\\\":60},\\\"yaxis\\\":{\\\"visible\\\":false,\\\"domain\\\":[0.0,0.08928571428571429]},\\\"yaxis2\\\":{\\\"rangemode\\\":\\\"nonnegative\\\",\\\"domain\\\":[0.10714285714285714,1.0]}},{}); gd.on(\\\"plotly_hover\\\",(function (data){var filtered_data=WebIO.PlotlyCommands.filterEventData(gd,data,\\\"hover\\\"); return !(filtered_data.isnil) ? (WebIO.setval({\\\"name\\\":\\\"hover\\\",\\\"scope\\\":\\\"6115565141730059430\\\",\\\"id\\\":\\\"8697568628502495305\\\",\\\"type\\\":\\\"observable\\\"},filtered_data.out)) : undefined})); gd.on(\\\"plotly_unhover\\\",(function (){return WebIO.setval({\\\"name\\\":\\\"hover\\\",\\\"scope\\\":\\\"6115565141730059430\\\",\\\"id\\\":\\\"8697568628502495305\\\",\\\"type\\\":\\\"observable\\\"},{})})); gd.on(\\\"plotly_selected\\\",(function (data){var filtered_data=WebIO.PlotlyCommands.filterEventData(gd,data,\\\"selected\\\"); return !(filtered_data.isnil) ? (WebIO.setval({\\\"name\\\":\\\"selected\\\",\\\"scope\\\":\\\"6115565141730059430\\\",\\\"id\\\":\\\"385222040317127554\\\",\\\"type\\\":\\\"observable\\\"},filtered_data.out)) : undefined})); gd.on(\\\"plotly_deselect\\\",(function (){return WebIO.setval({\\\"name\\\":\\\"selected\\\",\\\"scope\\\":\\\"6115565141730059430\\\",\\\"id\\\":\\\"385222040317127554\\\",\\\"type\\\":\\\"observable\\\"},{})})); gd.on(\\\"plotly_relayout\\\",(function (data){var filtered_data=WebIO.PlotlyCommands.filterEventData(gd,data,\\\"relayout\\\"); return !(filtered_data.isnil) ? (WebIO.setval({\\\"name\\\":\\\"relayout\\\",\\\"scope\\\":\\\"6115565141730059430\\\",\\\"id\\\":\\\"1551194205175317205\\\",\\\"type\\\":\\\"observable\\\"},filtered_data.out)) : undefined})); return gd.on(\\\"plotly_click\\\",(function (data){var filtered_data=WebIO.PlotlyCommands.filterEventData(gd,data,\\\"click\\\"); return !(filtered_data.isnil) ? (WebIO.setval({\\\"name\\\":\\\"click\\\",\\\"scope\\\":\\\"6115565141730059430\\\",\\\"id\\\":\\\"1020113529465824330\\\",\\\"type\\\":\\\"observable\\\"},filtered_data.out)) : undefined}))}));\\n    (WebIO.importBlock({\\\"data\\\":[{\\\"name\\\":\\\"Plotly\\\",\\\"type\\\":\\\"js\\\",\\\"url\\\":\\\"\\/assetserver\\/e6903599031aaef8675931dfcd7df98a1aeffbfc-plotly-latest.min.js\\\"},{\\\"name\\\":null,\\\"type\\\":\\\"js\\\",\\\"url\\\":\\\"\\/assetserver\\/74a5dea81f21b0b802ef1ee92f1c8a504eac1a0c-plotly_webio.bundle.js\\\"}],\\\"type\\\":\\\"async_block\\\"})).then((imports) => handler.apply(this, imports));\\n}\\n\"],\"observables\":{\"_toImage\":{\"sync\":false,\"id\":\"12233808514981590178\",\"value\":{}},\"hover\":{\"sync\":false,\"id\":\"8697568628502495305\",\"value\":{}},\"selected\":{\"sync\":false,\"id\":\"385222040317127554\",\"value\":{}},\"__gd_contents\":{\"sync\":false,\"id\":\"4471386756493365663\",\"value\":{}},\"click\":{\"sync\":false,\"id\":\"1020113529465824330\",\"value\":{}},\"image\":{\"sync\":true,\"id\":\"11024650406697368465\",\"value\":\"\"},\"__get_gd_contents\":{\"sync\":false,\"id\":\"14352911501112748566\",\"value\":\"\"},\"_downloadImage\":{\"sync\":false,\"id\":\"11780536366638285986\",\"value\":{}},\"relayout\":{\"sync\":false,\"id\":\"1551194205175317205\",\"value\":{}},\"_commands\":{\"sync\":false,\"id\":\"13115168250861589963\",\"value\":[]}}},\"children\":[{\"props\":{\"id\":\"plot-ec989711-8ac7-497e-9e46-940dfd3ef9c1\"},\"nodeType\":\"DOM\",\"type\":\"node\",\"instanceArgs\":{\"namespace\":\"html\",\"tag\":\"div\"},\"children\":[]}]},\n",
       "            window,\n",
       "        );\n",
       "    } else {\n",
       "        document\n",
       "            .querySelector('[data-webio-mountpoint=\"6793279875739220417\"]')\n",
       "            .innerHTML = (\n",
       "                '<div style=\"padding: 1em; background-color: #f8d6da; border: 1px solid #f5c6cb\">' +\n",
       "                '<p><strong>WebIO not detected.</strong></p>' +\n",
       "                '<p>Please read ' +\n",
       "                '<a href=\"https://juliagizmos.github.io/WebIO.jl/latest/troubleshooting/not-detected/\" target=\"_blank\">the troubleshooting guide</a> ' +\n",
       "                'for more information on how to resolve this issue.</p>' +\n",
       "                '<p><a href=\"https://juliagizmos.github.io/WebIO.jl/latest/troubleshooting/not-detected/\" target=\"_blank\">https://juliagizmos.github.io/WebIO.jl/latest/troubleshooting/not-detected/</a></p>' +\n",
       "                '</div>'\n",
       "            );\n",
       "    }\n",
       "    </script>\n",
       "</div>\n"
      ],
      "text/plain": [
       "data: [\n",
       "  \"scatter with fields fill, hoverinfo, line, mode, showlegend, type, x, y, and yaxis\",\n",
       "  \"scatter with fields hoverinfo, line, mode, showlegend, type, x, y, and yaxis\",\n",
       "  \"scatter with fields hoverinfo, line, mode, showlegend, type, x, y, and yaxis\",\n",
       "  \"scatter with fields hoverinfo, line, mode, showlegend, type, x, y, and yaxis\",\n",
       "  \"scatter with fields hoverinfo, line, mode, showlegend, type, x, y, and yaxis\",\n",
       "  \"scatter with fields fill, hoverinfo, line, mode, showlegend, type, x, y, and yaxis\",\n",
       "  \"scatter with fields fill, hoverinfo, line, mode, showlegend, type, x, y, and yaxis\",\n",
       "  \"scatter with fields hoverinfo, line, mode, showlegend, type, x, y, and yaxis\",\n",
       "  \"scatter with fields hoverinfo, line, mode, showlegend, type, x, y, and yaxis\",\n",
       "  \"scatter with fields hoverinfo, line, mode, showlegend, type, x, y, and yaxis\",\n",
       "  \"scatter with fields fill, hoverinfo, line, mode, showlegend, type, x, y, and yaxis\",\n",
       "  \"scatter with fields fill, hoverinfo, line, mode, showlegend, type, x, y, and yaxis\",\n",
       "  \"scatter with fields fill, hoverinfo, line, mode, showlegend, type, x, y, and yaxis\",\n",
       "  \"scatter with fields fill, hoverinfo, line, mode, showlegend, type, x, y, and yaxis\",\n",
       "  \"scatter with fields fill, hoverinfo, line, mode, showlegend, type, x, y, and yaxis\",\n",
       "  \"scatter with fields hoverinfo, line, mode, showlegend, type, x, y, and yaxis\",\n",
       "  \"scatter with fields fill, hoverinfo, line, mode, showlegend, type, x, y, and yaxis\",\n",
       "  \"scatter with fields fill, hoverinfo, line, mode, showlegend, type, x, y, and yaxis\",\n",
       "  \"scatter with fields fill, hoverinfo, line, mode, showlegend, type, x, y, and yaxis\",\n",
       "  \"scatter with fields hoverinfo, line, mode, showlegend, type, x, y, and yaxis\",\n",
       "  \"scatter with fields fill, hoverinfo, line, mode, showlegend, type, x, y, and yaxis\",\n",
       "  \"scatter with fields hoverinfo, line, mode, showlegend, type, x, y, and yaxis\",\n",
       "  \"scatter with fields fill, hoverinfo, line, mode, showlegend, type, x, y, and yaxis\",\n",
       "  \"scatter with fields fill, hoverinfo, line, mode, showlegend, type, x, y, and yaxis\",\n",
       "  \"scatter with fields hoverinfo, line, mode, showlegend, type, x, y, and yaxis\",\n",
       "  \"scatter with fields hoverinfo, line, mode, showlegend, type, x, y, and yaxis\",\n",
       "  \"scatter with fields hoverinfo, line, mode, showlegend, type, x, y, and yaxis\",\n",
       "  \"scatter with fields customdata, hovertemplate, marker, mode, showlegend, text, type, x, y, and yaxis\",\n",
       "  \"heatmap with fields colorscale, customdata, hovertemplate, showscale, text, type, x, xgap, z, zmax, and zmin\"\n",
       "]\n",
       "\n",
       "layout: \"layout with fields hovermode, margin, showlegend, xaxis, yaxis, and yaxis2\"\n",
       "\n"
      ]
     },
     "execution_count": 34,
     "metadata": {
      "@webio": {
       "kernelId": "7a1d422a-5147-4b6e-b6fc-51aa2c335193"
      }
     },
     "output_type": "execute_result"
    }
   ],
   "source": [
    "let\n",
    "    plt = big_dendrogram(dg_trunc, class_colors_gap=1)\n",
    "    savehtml(plt, string(outdir / \"demo-dendrogram-truncated.html\"), :embed)\n",
    "    plt\n",
    "end"
   ]
  },
  {
   "cell_type": "code",
   "execution_count": 35,
   "metadata": {},
   "outputs": [
    {
     "data": {
      "text/plain": [
       "clustermap (generic function with 1 method)"
      ]
     },
     "execution_count": 35,
     "metadata": {},
     "output_type": "execute_result"
    }
   ],
   "source": [
    "function clustermap(dg; class_colors_gap=0)\n",
    "    # X axes\n",
    "    xaxes = subplot_axes!(\n",
    "        [\n",
    "            attr(\n",
    "                rangemode=:nonnegative,\n",
    "                autorange=:reversed,\n",
    "            ),\n",
    "            attr(\n",
    "                visible=false,\n",
    "            ),\n",
    "            attr(\n",
    "                visible=false,\n",
    "                scaleanchor=:y,\n",
    "            ),\n",
    "        ],\n",
    "        [.4, .05, 1.],\n",
    "        sep=.01,\n",
    "    )\n",
    "    \n",
    "    # Dendrogram\n",
    "    pdg = PlotlyDendrogram(dg, attr(), horizontal=true)\n",
    "    \n",
    "    vector_attrs!(pdg.nodes_trace, pdg.node_ids) do id\n",
    "        node = tree.nodes[id]\n",
    "        c = node_classes[id]\n",
    "        return Dict(\n",
    "            :marker_size => id ∈ strong_clusters ? 8 : 4,\n",
    "            :marker_color => classcolors[c],\n",
    "            :text => string(id),\n",
    "            :customdata => [node.count, classnames[c]],\n",
    "        )\n",
    "    end\n",
    "    \n",
    "    merge!(pdg.nodes_trace, attr(\n",
    "        hovertemplate=\"\"\"\n",
    "        <b>%{text}</b><br>\n",
    "        %{y:.3f}<br>\n",
    "        %{customdata[0]} genomes<br>\n",
    "        %{customdata[1]}\n",
    "        <extra></extra>\n",
    "        \"\"\",\n",
    "    ))\n",
    "    \n",
    "    for (id, trace) in pdg.branch_traces\n",
    "        trace[:line_color] = classcolors[node_classes[id]]\n",
    "    end\n",
    "    \n",
    "    # Common\n",
    "    edges = dgleaf_edges(dg)\n",
    "    leaf_names = [id <= tree.n ? \"Genome $id\" : \"Cluster $id\" for id in dg.leaves]\n",
    "    \n",
    "    # Labels\n",
    "    leaf_classes = [node_classes[i] for i in dg.leaves]\n",
    "    labels_t = class_color_strip(\n",
    "        leaf_classes,\n",
    "        classcolors,\n",
    "        edges=edges,\n",
    "        vertical=true,\n",
    "        text=leaf_names,\n",
    "        customdata=[[classnames[c]] for c in leaf_classes],\n",
    "        hovertemplate=\"\"\"\n",
    "        <b>%{text}</b><br>\n",
    "        %{customdata[0]}\n",
    "        <extra></extra>\n",
    "        \"\"\",\n",
    "        ygap=class_colors_gap,\n",
    "        xaxis=\"x2\",\n",
    "    )\n",
    "    \n",
    "    # Heatmap\n",
    "    hm_leaf_text = [string(n, \": \", classnames[c]) for (n, c) in zip(leaf_names, leaf_classes)]\n",
    "    hm_t = heatmap(\n",
    "        z=hclust_node_dists(tree, dmat, dg.leaves),\n",
    "        x=edges,\n",
    "        y=edges,\n",
    "        customdata=[[t1, t2] for t1 in hm_leaf_text, t2 in hm_leaf_text],\n",
    "        hovertemplate=\"\"\"\n",
    "        %{customdata[0]}<br>\n",
    "        %{customdata[1]}<br>\n",
    "        %{z:.3f}\n",
    "        <extra></extra>\n",
    "        \"\"\",\n",
    "        colorscale=make_colorscale(:magma),\n",
    "        xaxis=\"x3\",\n",
    "    )\n",
    "    \n",
    "    layout = Layout(\n",
    "        yaxis=attr(\n",
    "            visible=false,\n",
    "        ),\n",
    "        showlegend=false,\n",
    "        hovermode=:closest,\n",
    "        width=1000,\n",
    "        height=750,\n",
    "    )\n",
    "    setaxes!(layout, :x, xaxes)\n",
    "    \n",
    "    return plot(vcat(gettraces(pdg), [hm_t, labels_t]), layout)\n",
    "end"
   ]
  },
  {
   "cell_type": "code",
   "execution_count": 36,
   "metadata": {},
   "outputs": [],
   "source": [
    "let\n",
    "    plt = clustermap(dg)\n",
    "    savehtml(plt, string(outdir / \"demo-clustermap-full.html\"), :embed)\n",
    "end"
   ]
  },
  {
   "cell_type": "code",
   "execution_count": 37,
   "metadata": {},
   "outputs": [
    {
     "data": {
      "application/vnd.plotly.v1+json": {
       "data": [
        {
         "fill": "toself",
         "hoverinfo": "skip",
         "line": {
          "color": "#E15759"
         },
         "mode": "lines",
         "showlegend": false,
         "type": "scatter",
         "x": [
          0,
          0.2890969216823578,
          0.2890969216823578,
          0
         ],
         "y": [
          83.71757284789959,
          83.71757284789959,
          85.13178641027268,
          85.13178641027268
         ]
        },
        {
         "hoverinfo": "skip",
         "line": {
          "color": "#BFBFBF"
         },
         "mode": "lines",
         "showlegend": false,
         "type": "scatter",
         "x": [
          0.7223665714263916,
          0.7223665714263916,
          null,
          0.7223665714263916,
          0.20994779467582703,
          null,
          0.7223665714263916,
          0.5688816905021667,
          null
         ],
         "y": [
          44.00163481360224,
          67.36654292508089,
          null,
          44.00163481360224,
          44.00163481360224,
          null,
          67.36654292508089,
          67.36654292508089,
          null
         ]
        },
        {
         "hoverinfo": "skip",
         "line": {
          "color": "#BFBFBF"
         },
         "mode": "lines",
         "showlegend": false,
         "type": "scatter",
         "x": [
          0.7093522548675537,
          0.7093522548675537,
          null,
          0.7093522548675537,
          0.3657861053943634,
          null,
          0.7093522548675537,
          0.6067352890968323,
          null
         ],
         "y": [
          24.548599036186836,
          27.755705817373382,
          null,
          24.548599036186836,
          24.548599036186836,
          null,
          27.755705817373382,
          27.755705817373382,
          null
         ]
        },
        {
         "hoverinfo": "skip",
         "line": {
          "color": "#BFBFBF"
         },
         "mode": "lines",
         "showlegend": false,
         "type": "scatter",
         "x": [
          0.9970870018005371,
          0.9970870018005371,
          null,
          0.9970870018005371,
          0.2890969216823578,
          null,
          0.9970870018005371,
          0.34654098749160767,
          null
         ],
         "y": [
          84.42467962908614,
          87.13178641027268,
          null,
          84.42467962908614,
          84.42467962908614,
          null,
          87.13178641027268,
          87.13178641027268,
          null
         ]
        },
        {
         "hoverinfo": "skip",
         "line": {
          "color": "#BFBFBF"
         },
         "mode": "lines",
         "showlegend": false,
         "type": "scatter",
         "x": [
          1,
          1,
          null,
          1,
          0.9660427570343018,
          null,
          1,
          1,
          null
         ],
         "y": [
          4.082207001484488,
          35.4510334635697,
          null,
          4.082207001484488,
          4.082207001484488,
          null,
          35.4510334635697,
          35.4510334635697,
          null
         ]
        },
        {
         "fill": "toself",
         "hoverinfo": "skip",
         "line": {
          "color": "#D37295"
         },
         "mode": "lines",
         "showlegend": false,
         "type": "scatter",
         "x": [
          0,
          0.5578354597091675,
          0.5578354597091675,
          0
         ],
         "y": [
          28.255705817373382,
          28.255705817373382,
          29.255705817373382,
          29.255705817373382
         ]
        },
        {
         "fill": "toself",
         "hoverinfo": "skip",
         "line": {
          "color": "#B07AA1"
         },
         "mode": "lines",
         "showlegend": false,
         "type": "scatter",
         "x": [
          0,
          0.5688816905021667,
          0.5688816905021667,
          0
         ],
         "y": [
          54.01551300226221,
          54.01551300226221,
          80.71757284789959,
          80.71757284789959
         ]
        },
        {
         "hoverinfo": "skip",
         "line": {
          "color": "#BFBFBF"
         },
         "mode": "lines",
         "showlegend": false,
         "type": "scatter",
         "x": [
          0.9998422861099243,
          0.9998422861099243,
          null,
          0.9998422861099243,
          0.9616410136222839,
          null,
          0.9998422861099243,
          0.9983099699020386,
          null
         ],
         "y": [
          30.800324662520033,
          83.9979029337895,
          null,
          30.800324662520033,
          30.800324662520033,
          null,
          83.9979029337895,
          83.9979029337895,
          null
         ]
        },
        {
         "hoverinfo": "skip",
         "line": {
          "color": "#BFBFBF"
         },
         "mode": "lines",
         "showlegend": false,
         "type": "scatter",
         "x": [
          0.7892481684684753,
          0.7892481684684753,
          null,
          0.7892481684684753,
          0.49006450176239014,
          null,
          0.7892481684684753,
          0.7635694742202759,
          null
         ],
         "y": [
          31.121731221157823,
          44.585922747141915,
          null,
          31.121731221157823,
          31.121731221157823,
          null,
          44.585922747141915,
          44.585922747141915,
          null
         ]
        },
        {
         "hoverinfo": "skip",
         "line": {
          "color": "#BFBFBF"
         },
         "mode": "lines",
         "showlegend": false,
         "type": "scatter",
         "x": [
          0.7635746598243713,
          0.7635746598243713,
          null,
          0.7635746598243713,
          0.5567193627357483,
          null,
          0.7635746598243713,
          0.7093522548675537,
          null
         ],
         "y": [
          21.341492255000286,
          26.15215242678011,
          null,
          21.341492255000286,
          21.341492255000286,
          null,
          26.15215242678011,
          26.15215242678011,
          null
         ]
        },
        {
         "fill": "toself",
         "hoverinfo": "skip",
         "line": {
          "color": "#F28E2B"
         },
         "mode": "lines",
         "showlegend": false,
         "type": "scatter",
         "x": [
          0,
          0.6194909811019897,
          0.6194909811019897,
          0
         ],
         "y": [
          8.164414002968975,
          8.164414002968975,
          18.841492255000286,
          18.841492255000286
         ]
        },
        {
         "fill": "toself",
         "hoverinfo": "skip",
         "line": {
          "color": "#B07AA1"
         },
         "mode": "lines",
         "showlegend": false,
         "type": "scatter",
         "x": [
          0,
          0.3657861053943634,
          0.3657861053943634,
          0
         ],
         "y": [
          23.841492255000286,
          23.841492255000286,
          25.255705817373382,
          25.255705817373382
         ]
        },
        {
         "fill": "toself",
         "hoverinfo": "skip",
         "line": {
          "color": "#B07AA1"
         },
         "mode": "lines",
         "showlegend": false,
         "type": "scatter",
         "x": [
          0,
          0.005434782709926367,
          0.005434782709926367,
          0
         ],
         "y": [
          21.841492255000286,
          21.841492255000286,
          22.841492255000286,
          22.841492255000286
         ]
        },
        {
         "fill": "toself",
         "hoverinfo": "skip",
         "line": {
          "color": "#B6992D"
         },
         "mode": "lines",
         "showlegend": false,
         "type": "scatter",
         "x": [
          0,
          0.0005243838531896472,
          0.0005243838531896472,
          0
         ],
         "y": [
          19.841492255000286,
          19.841492255000286,
          20.841492255000286,
          20.841492255000286
         ]
        },
        {
         "fill": "toself",
         "hoverinfo": "skip",
         "line": {
          "color": "#B6992D"
         },
         "mode": "lines",
         "showlegend": false,
         "type": "scatter",
         "x": [
          0,
          0.49006450176239014,
          0.49006450176239014,
          0
         ],
         "y": [
          30.255705817373382,
          30.255705817373382,
          31.98775662494226,
          31.98775662494226
         ]
        },
        {
         "hoverinfo": "skip",
         "line": {
          "color": "#BFBFBF"
         },
         "mode": "lines",
         "showlegend": false,
         "type": "scatter",
         "x": [
          0.5567193627357483,
          0.5567193627357483,
          null,
          0.5567193627357483,
          0.0005243838531896472,
          null,
          0.5567193627357483,
          0.005434782709926367,
          null
         ],
         "y": [
          20.341492255000286,
          22.341492255000286,
          null,
          20.341492255000286,
          20.341492255000286,
          null,
          22.341492255000286,
          22.341492255000286,
          null
         ]
        },
        {
         "fill": "toself",
         "hoverinfo": "skip",
         "line": {
          "color": "#59A14F"
         },
         "mode": "lines",
         "showlegend": false,
         "type": "scatter",
         "x": [
          0,
          0.20994779467582703,
          0.20994779467582703,
          0
         ],
         "y": [
          34.987756624942264,
          34.987756624942264,
          53.01551300226221,
          53.01551300226221
         ]
        },
        {
         "fill": "toself",
         "hoverinfo": "skip",
         "line": {
          "color": "#4E79A7"
         },
         "mode": "lines",
         "showlegend": false,
         "type": "scatter",
         "x": [
          0,
          0.34654098749160767,
          0.34654098749160767,
          0
         ],
         "y": [
          86.13178641027268,
          86.13178641027268,
          88.13178641027268,
          88.13178641027268
         ]
        },
        {
         "fill": "toself",
         "hoverinfo": "skip",
         "line": {
          "color": "#499894"
         },
         "mode": "lines",
         "showlegend": false,
         "type": "scatter",
         "x": [
          0,
          0.016814660280942917,
          0.016814660280942917,
          0
         ],
         "y": [
          81.71757284789959,
          81.71757284789959,
          82.71757284789959,
          82.71757284789959
         ]
        },
        {
         "hoverinfo": "skip",
         "line": {
          "color": "#BFBFBF"
         },
         "mode": "lines",
         "showlegend": false,
         "type": "scatter",
         "x": [
          1,
          1,
          null,
          1,
          0.6194909811019897,
          null,
          1,
          0.9998422861099243,
          null
         ],
         "y": [
          13.50295312898463,
          57.39911379815477,
          null,
          13.50295312898463,
          13.50295312898463,
          null,
          57.39911379815477,
          57.39911379815477,
          null
         ]
        },
        {
         "fill": "toself",
         "hoverinfo": "skip",
         "line": {
          "color": "#9D7660"
         },
         "mode": "lines",
         "showlegend": false,
         "type": "scatter",
         "x": [
          0,
          0.6688838005065918,
          0.6688838005065918,
          0
         ],
         "y": [
          32.987756624942264,
          32.987756624942264,
          33.987756624942264,
          33.987756624942264
         ]
        },
        {
         "hoverinfo": "skip",
         "line": {
          "color": "#BFBFBF"
         },
         "mode": "lines",
         "showlegend": false,
         "type": "scatter",
         "x": [
          0.9616410136222839,
          0.9616410136222839,
          null,
          0.9616410136222839,
          0.7635746598243713,
          null,
          0.9616410136222839,
          0.7892481684684753,
          null
         ],
         "y": [
          23.746822340890198,
          37.85382698414987,
          null,
          23.746822340890198,
          23.746822340890198,
          null,
          37.85382698414987,
          37.85382698414987,
          null
         ]
        },
        {
         "fill": "toself",
         "hoverinfo": "skip",
         "line": {
          "color": "#E15759"
         },
         "mode": "lines",
         "showlegend": false,
         "type": "scatter",
         "x": [
          0,
          0.9660427570343018,
          0.9660427570343018,
          0
         ],
         "y": [
          1,
          1,
          7.164414002968976,
          7.164414002968976
         ]
        },
        {
         "fill": "toself",
         "hoverinfo": "skip",
         "line": {
          "color": "#B07AA1"
         },
         "mode": "lines",
         "showlegend": false,
         "type": "scatter",
         "x": [
          0,
          0.19636884331703186,
          0.19636884331703186,
          0
         ],
         "y": [
          26.255705817373382,
          26.255705817373382,
          27.255705817373382,
          27.255705817373382
         ]
        },
        {
         "hoverinfo": "skip",
         "line": {
          "color": "#BFBFBF"
         },
         "mode": "lines",
         "showlegend": false,
         "type": "scatter",
         "x": [
          0.7635694742202759,
          0.7635694742202759,
          null,
          0.7635694742202759,
          0.6688838005065918,
          null,
          0.7635694742202759,
          0.7223665714263916,
          null
         ],
         "y": [
          33.487756624942264,
          55.684088869341565,
          null,
          33.487756624942264,
          33.487756624942264,
          null,
          55.684088869341565,
          55.684088869341565,
          null
         ]
        },
        {
         "hoverinfo": "skip",
         "line": {
          "color": "#BFBFBF"
         },
         "mode": "lines",
         "showlegend": false,
         "type": "scatter",
         "x": [
          0.6067352890968323,
          0.6067352890968323,
          null,
          0.6067352890968323,
          0.19636884331703186,
          null,
          0.6067352890968323,
          0.5578354597091675,
          null
         ],
         "y": [
          26.755705817373382,
          28.755705817373382,
          null,
          26.755705817373382,
          26.755705817373382,
          null,
          28.755705817373382,
          28.755705817373382,
          null
         ]
        },
        {
         "hoverinfo": "skip",
         "line": {
          "color": "#BFBFBF"
         },
         "mode": "lines",
         "showlegend": false,
         "type": "scatter",
         "x": [
          0.9983099699020386,
          0.9983099699020386,
          null,
          0.9983099699020386,
          0.016814660280942917,
          null,
          0.9983099699020386,
          0.9970870018005371,
          null
         ],
         "y": [
          82.21757284789959,
          85.77823301967942,
          null,
          82.21757284789959,
          82.21757284789959,
          null,
          85.77823301967942,
          85.77823301967942,
          null
         ]
        },
        {
         "customdata": [
          [
           3,
           "Gardnerella vaginalis"
          ],
          [
           1040,
           "(mixed)"
          ],
          [
           7,
           "(mixed)"
          ],
          [
           8,
           "(mixed)"
          ],
          [
           1221,
           "(mixed)"
          ],
          [
           2,
           "Neisseria mucosa"
          ],
          [
           714,
           "Neisseria meningitidis"
          ],
          [
           1067,
           "(mixed)"
          ],
          [
           115,
           "Chlamydia trachomatis"
          ],
          [
           11,
           "(mixed)"
          ],
          [
           1046,
           "(mixed)"
          ],
          [
           3,
           "Neisseria meningitidis"
          ],
          [
           2,
           "Neisseria meningitidis"
          ],
          [
           2,
           "Neisseria lactamica"
          ],
          [
           4,
           "Neisseria lactamica"
          ],
          [
           4,
           "(mixed)"
          ],
          [
           326,
           "Neisseria gonorrhoeae"
          ],
          [
           5,
           "Bifidobacterium pseudocatenulatum"
          ],
          [
           2,
           "Granulicoccus phenolivorans"
          ],
          [
           1182,
           "(mixed)"
          ],
          [
           2,
           "Neisseria polysaccharea"
          ],
          [
           1057,
           "(mixed)"
          ],
          [
           39,
           "Gardnerella vaginalis"
          ],
          [
           2,
           "Neisseria meningitidis"
          ],
          [
           1042,
           "(mixed)"
          ],
          [
           4,
           "(mixed)"
          ],
          [
           10,
           "(mixed)"
          ]
         ],
         "hovertemplate": "<b>%{text}</b><br>\n%{y:.3f}<br>\n%{customdata[0]} genomes<br>\n%{customdata[1]}\n<extra></extra>\n",
         "marker": {
          "color": [
           "#E15759",
           "#BFBFBF",
           "#BFBFBF",
           "#BFBFBF",
           "#BFBFBF",
           "#D37295",
           "#B07AA1",
           "#BFBFBF",
           "#F28E2B",
           "#BFBFBF",
           "#BFBFBF",
           "#B07AA1",
           "#B07AA1",
           "#B6992D",
           "#B6992D",
           "#BFBFBF",
           "#59A14F",
           "#4E79A7",
           "#499894",
           "#BFBFBF",
           "#9D7660",
           "#BFBFBF",
           "#E15759",
           "#B07AA1",
           "#BFBFBF",
           "#BFBFBF",
           "#BFBFBF"
          ],
          "size": [
           8,
           4,
           8,
           4,
           8,
           8,
           8,
           4,
           8,
           8,
           8,
           8,
           8,
           8,
           8,
           8,
           8,
           8,
           8,
           4,
           8,
           8,
           8,
           8,
           4,
           8,
           4
          ]
         },
         "mode": "markers",
         "showlegend": false,
         "text": [
          "2348",
          "2428",
          "2427",
          "2437",
          "2441",
          "2415",
          "2417",
          "2439",
          "2421",
          "2430",
          "2431",
          "2372",
          "1530",
          "1311",
          "2408",
          "2414",
          "2328",
          "2365",
          "1756",
          "2440",
          "2426",
          "2435",
          "2436",
          "2321",
          "2429",
          "2419",
          "2438"
         ],
         "type": "scatter",
         "x": [
          0.2890969216823578,
          0.7223665714263916,
          0.7093522548675537,
          0.9970870018005371,
          1,
          0.5578354597091675,
          0.5688816905021667,
          0.9998422861099243,
          0.6194909811019897,
          0.7635746598243713,
          0.7892481684684753,
          0.3657861053943634,
          0.005434782709926367,
          0.0005243838531896472,
          0.49006450176239014,
          0.5567193627357483,
          0.20994779467582703,
          0.34654098749160767,
          0.016814660280942917,
          1,
          0.6688838005065918,
          0.9616410136222839,
          0.9660427570343018,
          0.19636884331703186,
          0.7635694742202759,
          0.6067352890968323,
          0.9983099699020386
         ],
         "y": [
          84.42467962908614,
          55.684088869341565,
          26.15215242678011,
          85.77823301967942,
          19.766620232527096,
          28.755705817373382,
          67.36654292508089,
          57.39911379815477,
          13.50295312898463,
          23.746822340890198,
          37.85382698414987,
          24.548599036186836,
          22.341492255000286,
          20.341492255000286,
          31.121731221157823,
          21.341492255000286,
          44.00163481360224,
          87.13178641027268,
          82.21757284789959,
          35.4510334635697,
          33.487756624942264,
          30.800324662520033,
          4.082207001484488,
          26.755705817373382,
          44.585922747141915,
          27.755705817373382,
          83.9979029337895
         ]
        },
        {
         "colorscale": [
          [
           0,
           "#000004"
          ],
          [
           0.00392156862745098,
           "#010005"
          ],
          [
           0.00784313725490196,
           "#010106"
          ],
          [
           0.011764705882352941,
           "#010108"
          ],
          [
           0.01568627450980392,
           "#020109"
          ],
          [
           0.0196078431372549,
           "#02020B"
          ],
          [
           0.023529411764705882,
           "#02020D"
          ],
          [
           0.027450980392156862,
           "#03030F"
          ],
          [
           0.03137254901960784,
           "#030312"
          ],
          [
           0.03529411764705882,
           "#040414"
          ],
          [
           0.0392156862745098,
           "#050416"
          ],
          [
           0.043137254901960784,
           "#060518"
          ],
          [
           0.047058823529411764,
           "#06051A"
          ],
          [
           0.050980392156862744,
           "#07061C"
          ],
          [
           0.054901960784313725,
           "#08071E"
          ],
          [
           0.058823529411764705,
           "#090720"
          ],
          [
           0.06274509803921569,
           "#0A0822"
          ],
          [
           0.06666666666666667,
           "#0B0924"
          ],
          [
           0.07058823529411765,
           "#0C0926"
          ],
          [
           0.07450980392156863,
           "#0D0A29"
          ],
          [
           0.0784313725490196,
           "#0E0B2B"
          ],
          [
           0.08235294117647059,
           "#100B2D"
          ],
          [
           0.08627450980392157,
           "#110C2F"
          ],
          [
           0.09019607843137255,
           "#120D31"
          ],
          [
           0.09411764705882353,
           "#130D34"
          ],
          [
           0.09803921568627451,
           "#140E36"
          ],
          [
           0.10196078431372549,
           "#150E38"
          ],
          [
           0.10588235294117647,
           "#160F3B"
          ],
          [
           0.10980392156862745,
           "#180F3D"
          ],
          [
           0.11372549019607843,
           "#19103F"
          ],
          [
           0.11764705882352941,
           "#1A1042"
          ],
          [
           0.12156862745098039,
           "#1C1044"
          ],
          [
           0.12549019607843137,
           "#1D1147"
          ],
          [
           0.12941176470588237,
           "#1E1149"
          ],
          [
           0.13333333333333333,
           "#20114B"
          ],
          [
           0.13725490196078433,
           "#21114E"
          ],
          [
           0.1411764705882353,
           "#221150"
          ],
          [
           0.1450980392156863,
           "#241253"
          ],
          [
           0.14901960784313725,
           "#251255"
          ],
          [
           0.15294117647058825,
           "#271258"
          ],
          [
           0.1568627450980392,
           "#29115A"
          ],
          [
           0.1607843137254902,
           "#2A115C"
          ],
          [
           0.16470588235294117,
           "#2C115F"
          ],
          [
           0.16862745098039217,
           "#2D1161"
          ],
          [
           0.17254901960784313,
           "#2F1163"
          ],
          [
           0.17647058823529413,
           "#311165"
          ],
          [
           0.1803921568627451,
           "#331067"
          ],
          [
           0.1843137254901961,
           "#341069"
          ],
          [
           0.18823529411764706,
           "#36106B"
          ],
          [
           0.19215686274509805,
           "#38106C"
          ],
          [
           0.19607843137254902,
           "#390F6E"
          ],
          [
           0.2,
           "#3B0F70"
          ],
          [
           0.20392156862745098,
           "#3D0F71"
          ],
          [
           0.20784313725490197,
           "#3F0F72"
          ],
          [
           0.21176470588235294,
           "#400F74"
          ],
          [
           0.21568627450980393,
           "#420F75"
          ],
          [
           0.2196078431372549,
           "#440F76"
          ],
          [
           0.2235294117647059,
           "#451077"
          ],
          [
           0.22745098039215686,
           "#471078"
          ],
          [
           0.23137254901960785,
           "#491078"
          ],
          [
           0.23529411764705882,
           "#4A1079"
          ],
          [
           0.23921568627450981,
           "#4C117A"
          ],
          [
           0.24313725490196078,
           "#4E117B"
          ],
          [
           0.24705882352941178,
           "#4F127B"
          ],
          [
           0.25098039215686274,
           "#51127C"
          ],
          [
           0.2549019607843137,
           "#52137C"
          ],
          [
           0.25882352941176473,
           "#54137D"
          ],
          [
           0.2627450980392157,
           "#56147D"
          ],
          [
           0.26666666666666666,
           "#57157E"
          ],
          [
           0.27058823529411763,
           "#59157E"
          ],
          [
           0.27450980392156865,
           "#5A167E"
          ],
          [
           0.2784313725490196,
           "#5C167F"
          ],
          [
           0.2823529411764706,
           "#5D177F"
          ],
          [
           0.28627450980392155,
           "#5F187F"
          ],
          [
           0.2901960784313726,
           "#601880"
          ],
          [
           0.29411764705882354,
           "#621980"
          ],
          [
           0.2980392156862745,
           "#641A80"
          ],
          [
           0.30196078431372547,
           "#651A80"
          ],
          [
           0.3058823529411765,
           "#671B80"
          ],
          [
           0.30980392156862746,
           "#681C81"
          ],
          [
           0.3137254901960784,
           "#6A1C81"
          ],
          [
           0.3176470588235294,
           "#6B1D81"
          ],
          [
           0.3215686274509804,
           "#6D1D81"
          ],
          [
           0.3254901960784314,
           "#6E1E81"
          ],
          [
           0.32941176470588235,
           "#701F81"
          ],
          [
           0.3333333333333333,
           "#721F81"
          ],
          [
           0.33725490196078434,
           "#732081"
          ],
          [
           0.3411764705882353,
           "#752181"
          ],
          [
           0.34509803921568627,
           "#762181"
          ],
          [
           0.34901960784313724,
           "#782281"
          ],
          [
           0.35294117647058826,
           "#792282"
          ],
          [
           0.3568627450980392,
           "#7B2382"
          ],
          [
           0.3607843137254902,
           "#7C2382"
          ],
          [
           0.36470588235294116,
           "#7E2482"
          ],
          [
           0.3686274509803922,
           "#802582"
          ],
          [
           0.37254901960784315,
           "#812581"
          ],
          [
           0.3764705882352941,
           "#832681"
          ],
          [
           0.3803921568627451,
           "#842681"
          ],
          [
           0.3843137254901961,
           "#862781"
          ],
          [
           0.38823529411764707,
           "#882781"
          ],
          [
           0.39215686274509803,
           "#892881"
          ],
          [
           0.396078431372549,
           "#8B2981"
          ],
          [
           0.4,
           "#8C2981"
          ],
          [
           0.403921568627451,
           "#8E2A81"
          ],
          [
           0.40784313725490196,
           "#902A81"
          ],
          [
           0.4117647058823529,
           "#912B81"
          ],
          [
           0.41568627450980394,
           "#932B80"
          ],
          [
           0.4196078431372549,
           "#942C80"
          ],
          [
           0.4235294117647059,
           "#962C80"
          ],
          [
           0.42745098039215684,
           "#982D80"
          ],
          [
           0.43137254901960786,
           "#992D80"
          ],
          [
           0.43529411764705883,
           "#9B2E7F"
          ],
          [
           0.4392156862745098,
           "#9C2E7F"
          ],
          [
           0.44313725490196076,
           "#9E2F7F"
          ],
          [
           0.4470588235294118,
           "#A02F7F"
          ],
          [
           0.45098039215686275,
           "#A1307E"
          ],
          [
           0.4549019607843137,
           "#A3307E"
          ],
          [
           0.4588235294117647,
           "#A5317E"
          ],
          [
           0.4627450980392157,
           "#A6317D"
          ],
          [
           0.4666666666666667,
           "#A8327D"
          ],
          [
           0.47058823529411764,
           "#AA337D"
          ],
          [
           0.4745098039215686,
           "#AB337C"
          ],
          [
           0.47843137254901963,
           "#AD347C"
          ],
          [
           0.4823529411764706,
           "#AE347B"
          ],
          [
           0.48627450980392156,
           "#B0357B"
          ],
          [
           0.49019607843137253,
           "#B2357B"
          ],
          [
           0.49411764705882355,
           "#B3367A"
          ],
          [
           0.4980392156862745,
           "#B5367A"
          ],
          [
           0.5019607843137255,
           "#B73779"
          ],
          [
           0.5058823529411764,
           "#B83779"
          ],
          [
           0.5098039215686274,
           "#BA3878"
          ],
          [
           0.5137254901960784,
           "#BC3978"
          ],
          [
           0.5176470588235295,
           "#BD3977"
          ],
          [
           0.5215686274509804,
           "#BF3A77"
          ],
          [
           0.5254901960784314,
           "#C03A76"
          ],
          [
           0.5294117647058824,
           "#C23B75"
          ],
          [
           0.5333333333333333,
           "#C43C75"
          ],
          [
           0.5372549019607843,
           "#C53C74"
          ],
          [
           0.5411764705882353,
           "#C73D73"
          ],
          [
           0.5450980392156862,
           "#C83E73"
          ],
          [
           0.5490196078431373,
           "#CA3E72"
          ],
          [
           0.5529411764705883,
           "#CC3F71"
          ],
          [
           0.5568627450980392,
           "#CD4071"
          ],
          [
           0.5607843137254902,
           "#CF4070"
          ],
          [
           0.5647058823529412,
           "#D0416F"
          ],
          [
           0.5686274509803921,
           "#D2426F"
          ],
          [
           0.5725490196078431,
           "#D3436E"
          ],
          [
           0.5764705882352941,
           "#D5446D"
          ],
          [
           0.5803921568627451,
           "#D6456C"
          ],
          [
           0.5843137254901961,
           "#D8456C"
          ],
          [
           0.5882352941176471,
           "#D9466B"
          ],
          [
           0.592156862745098,
           "#DB476A"
          ],
          [
           0.596078431372549,
           "#DC4869"
          ],
          [
           0.6,
           "#DE4968"
          ],
          [
           0.6039215686274509,
           "#DF4A68"
          ],
          [
           0.6078431372549019,
           "#E04C67"
          ],
          [
           0.611764705882353,
           "#E24D66"
          ],
          [
           0.615686274509804,
           "#E34E65"
          ],
          [
           0.6196078431372549,
           "#E44F64"
          ],
          [
           0.6235294117647059,
           "#E55064"
          ],
          [
           0.6274509803921569,
           "#E75263"
          ],
          [
           0.6313725490196078,
           "#E85362"
          ],
          [
           0.6352941176470588,
           "#E95462"
          ],
          [
           0.6392156862745098,
           "#EA5661"
          ],
          [
           0.6431372549019608,
           "#EB5760"
          ],
          [
           0.6470588235294118,
           "#EC5860"
          ],
          [
           0.6509803921568628,
           "#ED5A5F"
          ],
          [
           0.6549019607843137,
           "#EE5B5E"
          ],
          [
           0.6588235294117647,
           "#EF5D5E"
          ],
          [
           0.6627450980392157,
           "#F05F5E"
          ],
          [
           0.6666666666666666,
           "#F1605D"
          ],
          [
           0.6705882352941176,
           "#F2625D"
          ],
          [
           0.6745098039215687,
           "#F2645C"
          ],
          [
           0.6784313725490196,
           "#F3655C"
          ],
          [
           0.6823529411764706,
           "#F4675C"
          ],
          [
           0.6862745098039216,
           "#F4695C"
          ],
          [
           0.6901960784313725,
           "#F56B5C"
          ],
          [
           0.6941176470588235,
           "#F66C5C"
          ],
          [
           0.6980392156862745,
           "#F66E5C"
          ],
          [
           0.7019607843137254,
           "#F7705C"
          ],
          [
           0.7058823529411765,
           "#F7725C"
          ],
          [
           0.7098039215686275,
           "#F8745C"
          ],
          [
           0.7137254901960784,
           "#F8765C"
          ],
          [
           0.7176470588235294,
           "#F9785D"
          ],
          [
           0.7215686274509804,
           "#F9795D"
          ],
          [
           0.7254901960784313,
           "#F97B5D"
          ],
          [
           0.7294117647058823,
           "#FA7D5E"
          ],
          [
           0.7333333333333333,
           "#FA7F5E"
          ],
          [
           0.7372549019607844,
           "#FA815F"
          ],
          [
           0.7411764705882353,
           "#FB835F"
          ],
          [
           0.7450980392156863,
           "#FB8560"
          ],
          [
           0.7490196078431373,
           "#FB8761"
          ],
          [
           0.7529411764705882,
           "#FC8961"
          ],
          [
           0.7568627450980392,
           "#FC8A62"
          ],
          [
           0.7607843137254902,
           "#FC8C63"
          ],
          [
           0.7647058823529411,
           "#FC8E64"
          ],
          [
           0.7686274509803922,
           "#FC9065"
          ],
          [
           0.7725490196078432,
           "#FD9266"
          ],
          [
           0.7764705882352941,
           "#FD9467"
          ],
          [
           0.7803921568627451,
           "#FD9668"
          ],
          [
           0.7843137254901961,
           "#FD9869"
          ],
          [
           0.788235294117647,
           "#FD9A6A"
          ],
          [
           0.792156862745098,
           "#FD9B6B"
          ],
          [
           0.796078431372549,
           "#FE9D6C"
          ],
          [
           0.8,
           "#FE9F6D"
          ],
          [
           0.803921568627451,
           "#FEA16E"
          ],
          [
           0.807843137254902,
           "#FEA36F"
          ],
          [
           0.8117647058823529,
           "#FEA571"
          ],
          [
           0.8156862745098039,
           "#FEA772"
          ],
          [
           0.8196078431372549,
           "#FEA973"
          ],
          [
           0.8235294117647058,
           "#FEAA74"
          ],
          [
           0.8274509803921568,
           "#FEAC76"
          ],
          [
           0.8313725490196079,
           "#FEAE77"
          ],
          [
           0.8352941176470589,
           "#FEB078"
          ],
          [
           0.8392156862745098,
           "#FEB27A"
          ],
          [
           0.8431372549019608,
           "#FEB47B"
          ],
          [
           0.8470588235294118,
           "#FEB67C"
          ],
          [
           0.8509803921568627,
           "#FEB77E"
          ],
          [
           0.8549019607843137,
           "#FEB97F"
          ],
          [
           0.8588235294117647,
           "#FEBB81"
          ],
          [
           0.8627450980392157,
           "#FEBD82"
          ],
          [
           0.8666666666666667,
           "#FEBF84"
          ],
          [
           0.8705882352941177,
           "#FEC185"
          ],
          [
           0.8745098039215686,
           "#FEC287"
          ],
          [
           0.8784313725490196,
           "#FEC488"
          ],
          [
           0.8823529411764706,
           "#FEC68A"
          ],
          [
           0.8862745098039215,
           "#FEC88C"
          ],
          [
           0.8901960784313725,
           "#FECA8D"
          ],
          [
           0.8941176470588236,
           "#FECC8F"
          ],
          [
           0.8980392156862745,
           "#FECD90"
          ],
          [
           0.9019607843137255,
           "#FECF92"
          ],
          [
           0.9058823529411765,
           "#FED194"
          ],
          [
           0.9098039215686274,
           "#FED395"
          ],
          [
           0.9137254901960784,
           "#FED597"
          ],
          [
           0.9176470588235294,
           "#FED799"
          ],
          [
           0.9215686274509803,
           "#FED89A"
          ],
          [
           0.9254901960784314,
           "#FDDA9C"
          ],
          [
           0.9294117647058824,
           "#FDDC9E"
          ],
          [
           0.9333333333333333,
           "#FDDEA0"
          ],
          [
           0.9372549019607843,
           "#FDE0A1"
          ],
          [
           0.9411764705882353,
           "#FDE2A3"
          ],
          [
           0.9450980392156862,
           "#FDE3A5"
          ],
          [
           0.9490196078431372,
           "#FDE5A7"
          ],
          [
           0.9529411764705882,
           "#FDE7A9"
          ],
          [
           0.9568627450980393,
           "#FDE9AA"
          ],
          [
           0.9607843137254902,
           "#FDEBAC"
          ],
          [
           0.9647058823529412,
           "#FCECAE"
          ],
          [
           0.9686274509803922,
           "#FCEEB0"
          ],
          [
           0.9725490196078431,
           "#FCF0B2"
          ],
          [
           0.9764705882352941,
           "#FCF2B4"
          ],
          [
           0.9803921568627451,
           "#FCF4B6"
          ],
          [
           0.984313725490196,
           "#FCF6B8"
          ],
          [
           0.9882352941176471,
           "#FCF7B9"
          ],
          [
           0.9921568627450981,
           "#FCF9BB"
          ],
          [
           0.996078431372549,
           "#FCFBBD"
          ],
          [
           1,
           "#FCFDBF"
          ]
         ],
         "customdata": [
          [
           [
            "Cluster 2436: Gardnerella vaginalis",
            "Cluster 2436: Gardnerella vaginalis"
           ],
           [
            "Cluster 2421: Chlamydia trachomatis",
            "Cluster 2436: Gardnerella vaginalis"
           ],
           [
            "Cluster 1311: Neisseria lactamica",
            "Cluster 2436: Gardnerella vaginalis"
           ],
           [
            "Cluster 1530: Neisseria meningitidis",
            "Cluster 2436: Gardnerella vaginalis"
           ],
           [
            "Cluster 2372: Neisseria meningitidis",
            "Cluster 2436: Gardnerella vaginalis"
           ],
           [
            "Cluster 2321: Neisseria meningitidis",
            "Cluster 2436: Gardnerella vaginalis"
           ],
           [
            "Cluster 2415: Neisseria mucosa",
            "Cluster 2436: Gardnerella vaginalis"
           ],
           [
            "Cluster 2408: Neisseria lactamica",
            "Cluster 2436: Gardnerella vaginalis"
           ],
           [
            "Cluster 2426: Neisseria polysaccharea",
            "Cluster 2436: Gardnerella vaginalis"
           ],
           [
            "Cluster 2328: Neisseria gonorrhoeae",
            "Cluster 2436: Gardnerella vaginalis"
           ],
           [
            "Cluster 2417: Neisseria meningitidis",
            "Cluster 2436: Gardnerella vaginalis"
           ],
           [
            "Cluster 1756: Granulicoccus phenolivorans",
            "Cluster 2436: Gardnerella vaginalis"
           ],
           [
            "Cluster 2348: Gardnerella vaginalis",
            "Cluster 2436: Gardnerella vaginalis"
           ],
           [
            "Cluster 2365: Bifidobacterium pseudocatenulatum",
            "Cluster 2436: Gardnerella vaginalis"
           ]
          ],
          [
           [
            "Cluster 2436: Gardnerella vaginalis",
            "Cluster 2421: Chlamydia trachomatis"
           ],
           [
            "Cluster 2421: Chlamydia trachomatis",
            "Cluster 2421: Chlamydia trachomatis"
           ],
           [
            "Cluster 1311: Neisseria lactamica",
            "Cluster 2421: Chlamydia trachomatis"
           ],
           [
            "Cluster 1530: Neisseria meningitidis",
            "Cluster 2421: Chlamydia trachomatis"
           ],
           [
            "Cluster 2372: Neisseria meningitidis",
            "Cluster 2421: Chlamydia trachomatis"
           ],
           [
            "Cluster 2321: Neisseria meningitidis",
            "Cluster 2421: Chlamydia trachomatis"
           ],
           [
            "Cluster 2415: Neisseria mucosa",
            "Cluster 2421: Chlamydia trachomatis"
           ],
           [
            "Cluster 2408: Neisseria lactamica",
            "Cluster 2421: Chlamydia trachomatis"
           ],
           [
            "Cluster 2426: Neisseria polysaccharea",
            "Cluster 2421: Chlamydia trachomatis"
           ],
           [
            "Cluster 2328: Neisseria gonorrhoeae",
            "Cluster 2421: Chlamydia trachomatis"
           ],
           [
            "Cluster 2417: Neisseria meningitidis",
            "Cluster 2421: Chlamydia trachomatis"
           ],
           [
            "Cluster 1756: Granulicoccus phenolivorans",
            "Cluster 2421: Chlamydia trachomatis"
           ],
           [
            "Cluster 2348: Gardnerella vaginalis",
            "Cluster 2421: Chlamydia trachomatis"
           ],
           [
            "Cluster 2365: Bifidobacterium pseudocatenulatum",
            "Cluster 2421: Chlamydia trachomatis"
           ]
          ],
          [
           [
            "Cluster 2436: Gardnerella vaginalis",
            "Cluster 1311: Neisseria lactamica"
           ],
           [
            "Cluster 2421: Chlamydia trachomatis",
            "Cluster 1311: Neisseria lactamica"
           ],
           [
            "Cluster 1311: Neisseria lactamica",
            "Cluster 1311: Neisseria lactamica"
           ],
           [
            "Cluster 1530: Neisseria meningitidis",
            "Cluster 1311: Neisseria lactamica"
           ],
           [
            "Cluster 2372: Neisseria meningitidis",
            "Cluster 1311: Neisseria lactamica"
           ],
           [
            "Cluster 2321: Neisseria meningitidis",
            "Cluster 1311: Neisseria lactamica"
           ],
           [
            "Cluster 2415: Neisseria mucosa",
            "Cluster 1311: Neisseria lactamica"
           ],
           [
            "Cluster 2408: Neisseria lactamica",
            "Cluster 1311: Neisseria lactamica"
           ],
           [
            "Cluster 2426: Neisseria polysaccharea",
            "Cluster 1311: Neisseria lactamica"
           ],
           [
            "Cluster 2328: Neisseria gonorrhoeae",
            "Cluster 1311: Neisseria lactamica"
           ],
           [
            "Cluster 2417: Neisseria meningitidis",
            "Cluster 1311: Neisseria lactamica"
           ],
           [
            "Cluster 1756: Granulicoccus phenolivorans",
            "Cluster 1311: Neisseria lactamica"
           ],
           [
            "Cluster 2348: Gardnerella vaginalis",
            "Cluster 1311: Neisseria lactamica"
           ],
           [
            "Cluster 2365: Bifidobacterium pseudocatenulatum",
            "Cluster 1311: Neisseria lactamica"
           ]
          ],
          [
           [
            "Cluster 2436: Gardnerella vaginalis",
            "Cluster 1530: Neisseria meningitidis"
           ],
           [
            "Cluster 2421: Chlamydia trachomatis",
            "Cluster 1530: Neisseria meningitidis"
           ],
           [
            "Cluster 1311: Neisseria lactamica",
            "Cluster 1530: Neisseria meningitidis"
           ],
           [
            "Cluster 1530: Neisseria meningitidis",
            "Cluster 1530: Neisseria meningitidis"
           ],
           [
            "Cluster 2372: Neisseria meningitidis",
            "Cluster 1530: Neisseria meningitidis"
           ],
           [
            "Cluster 2321: Neisseria meningitidis",
            "Cluster 1530: Neisseria meningitidis"
           ],
           [
            "Cluster 2415: Neisseria mucosa",
            "Cluster 1530: Neisseria meningitidis"
           ],
           [
            "Cluster 2408: Neisseria lactamica",
            "Cluster 1530: Neisseria meningitidis"
           ],
           [
            "Cluster 2426: Neisseria polysaccharea",
            "Cluster 1530: Neisseria meningitidis"
           ],
           [
            "Cluster 2328: Neisseria gonorrhoeae",
            "Cluster 1530: Neisseria meningitidis"
           ],
           [
            "Cluster 2417: Neisseria meningitidis",
            "Cluster 1530: Neisseria meningitidis"
           ],
           [
            "Cluster 1756: Granulicoccus phenolivorans",
            "Cluster 1530: Neisseria meningitidis"
           ],
           [
            "Cluster 2348: Gardnerella vaginalis",
            "Cluster 1530: Neisseria meningitidis"
           ],
           [
            "Cluster 2365: Bifidobacterium pseudocatenulatum",
            "Cluster 1530: Neisseria meningitidis"
           ]
          ],
          [
           [
            "Cluster 2436: Gardnerella vaginalis",
            "Cluster 2372: Neisseria meningitidis"
           ],
           [
            "Cluster 2421: Chlamydia trachomatis",
            "Cluster 2372: Neisseria meningitidis"
           ],
           [
            "Cluster 1311: Neisseria lactamica",
            "Cluster 2372: Neisseria meningitidis"
           ],
           [
            "Cluster 1530: Neisseria meningitidis",
            "Cluster 2372: Neisseria meningitidis"
           ],
           [
            "Cluster 2372: Neisseria meningitidis",
            "Cluster 2372: Neisseria meningitidis"
           ],
           [
            "Cluster 2321: Neisseria meningitidis",
            "Cluster 2372: Neisseria meningitidis"
           ],
           [
            "Cluster 2415: Neisseria mucosa",
            "Cluster 2372: Neisseria meningitidis"
           ],
           [
            "Cluster 2408: Neisseria lactamica",
            "Cluster 2372: Neisseria meningitidis"
           ],
           [
            "Cluster 2426: Neisseria polysaccharea",
            "Cluster 2372: Neisseria meningitidis"
           ],
           [
            "Cluster 2328: Neisseria gonorrhoeae",
            "Cluster 2372: Neisseria meningitidis"
           ],
           [
            "Cluster 2417: Neisseria meningitidis",
            "Cluster 2372: Neisseria meningitidis"
           ],
           [
            "Cluster 1756: Granulicoccus phenolivorans",
            "Cluster 2372: Neisseria meningitidis"
           ],
           [
            "Cluster 2348: Gardnerella vaginalis",
            "Cluster 2372: Neisseria meningitidis"
           ],
           [
            "Cluster 2365: Bifidobacterium pseudocatenulatum",
            "Cluster 2372: Neisseria meningitidis"
           ]
          ],
          [
           [
            "Cluster 2436: Gardnerella vaginalis",
            "Cluster 2321: Neisseria meningitidis"
           ],
           [
            "Cluster 2421: Chlamydia trachomatis",
            "Cluster 2321: Neisseria meningitidis"
           ],
           [
            "Cluster 1311: Neisseria lactamica",
            "Cluster 2321: Neisseria meningitidis"
           ],
           [
            "Cluster 1530: Neisseria meningitidis",
            "Cluster 2321: Neisseria meningitidis"
           ],
           [
            "Cluster 2372: Neisseria meningitidis",
            "Cluster 2321: Neisseria meningitidis"
           ],
           [
            "Cluster 2321: Neisseria meningitidis",
            "Cluster 2321: Neisseria meningitidis"
           ],
           [
            "Cluster 2415: Neisseria mucosa",
            "Cluster 2321: Neisseria meningitidis"
           ],
           [
            "Cluster 2408: Neisseria lactamica",
            "Cluster 2321: Neisseria meningitidis"
           ],
           [
            "Cluster 2426: Neisseria polysaccharea",
            "Cluster 2321: Neisseria meningitidis"
           ],
           [
            "Cluster 2328: Neisseria gonorrhoeae",
            "Cluster 2321: Neisseria meningitidis"
           ],
           [
            "Cluster 2417: Neisseria meningitidis",
            "Cluster 2321: Neisseria meningitidis"
           ],
           [
            "Cluster 1756: Granulicoccus phenolivorans",
            "Cluster 2321: Neisseria meningitidis"
           ],
           [
            "Cluster 2348: Gardnerella vaginalis",
            "Cluster 2321: Neisseria meningitidis"
           ],
           [
            "Cluster 2365: Bifidobacterium pseudocatenulatum",
            "Cluster 2321: Neisseria meningitidis"
           ]
          ],
          [
           [
            "Cluster 2436: Gardnerella vaginalis",
            "Cluster 2415: Neisseria mucosa"
           ],
           [
            "Cluster 2421: Chlamydia trachomatis",
            "Cluster 2415: Neisseria mucosa"
           ],
           [
            "Cluster 1311: Neisseria lactamica",
            "Cluster 2415: Neisseria mucosa"
           ],
           [
            "Cluster 1530: Neisseria meningitidis",
            "Cluster 2415: Neisseria mucosa"
           ],
           [
            "Cluster 2372: Neisseria meningitidis",
            "Cluster 2415: Neisseria mucosa"
           ],
           [
            "Cluster 2321: Neisseria meningitidis",
            "Cluster 2415: Neisseria mucosa"
           ],
           [
            "Cluster 2415: Neisseria mucosa",
            "Cluster 2415: Neisseria mucosa"
           ],
           [
            "Cluster 2408: Neisseria lactamica",
            "Cluster 2415: Neisseria mucosa"
           ],
           [
            "Cluster 2426: Neisseria polysaccharea",
            "Cluster 2415: Neisseria mucosa"
           ],
           [
            "Cluster 2328: Neisseria gonorrhoeae",
            "Cluster 2415: Neisseria mucosa"
           ],
           [
            "Cluster 2417: Neisseria meningitidis",
            "Cluster 2415: Neisseria mucosa"
           ],
           [
            "Cluster 1756: Granulicoccus phenolivorans",
            "Cluster 2415: Neisseria mucosa"
           ],
           [
            "Cluster 2348: Gardnerella vaginalis",
            "Cluster 2415: Neisseria mucosa"
           ],
           [
            "Cluster 2365: Bifidobacterium pseudocatenulatum",
            "Cluster 2415: Neisseria mucosa"
           ]
          ],
          [
           [
            "Cluster 2436: Gardnerella vaginalis",
            "Cluster 2408: Neisseria lactamica"
           ],
           [
            "Cluster 2421: Chlamydia trachomatis",
            "Cluster 2408: Neisseria lactamica"
           ],
           [
            "Cluster 1311: Neisseria lactamica",
            "Cluster 2408: Neisseria lactamica"
           ],
           [
            "Cluster 1530: Neisseria meningitidis",
            "Cluster 2408: Neisseria lactamica"
           ],
           [
            "Cluster 2372: Neisseria meningitidis",
            "Cluster 2408: Neisseria lactamica"
           ],
           [
            "Cluster 2321: Neisseria meningitidis",
            "Cluster 2408: Neisseria lactamica"
           ],
           [
            "Cluster 2415: Neisseria mucosa",
            "Cluster 2408: Neisseria lactamica"
           ],
           [
            "Cluster 2408: Neisseria lactamica",
            "Cluster 2408: Neisseria lactamica"
           ],
           [
            "Cluster 2426: Neisseria polysaccharea",
            "Cluster 2408: Neisseria lactamica"
           ],
           [
            "Cluster 2328: Neisseria gonorrhoeae",
            "Cluster 2408: Neisseria lactamica"
           ],
           [
            "Cluster 2417: Neisseria meningitidis",
            "Cluster 2408: Neisseria lactamica"
           ],
           [
            "Cluster 1756: Granulicoccus phenolivorans",
            "Cluster 2408: Neisseria lactamica"
           ],
           [
            "Cluster 2348: Gardnerella vaginalis",
            "Cluster 2408: Neisseria lactamica"
           ],
           [
            "Cluster 2365: Bifidobacterium pseudocatenulatum",
            "Cluster 2408: Neisseria lactamica"
           ]
          ],
          [
           [
            "Cluster 2436: Gardnerella vaginalis",
            "Cluster 2426: Neisseria polysaccharea"
           ],
           [
            "Cluster 2421: Chlamydia trachomatis",
            "Cluster 2426: Neisseria polysaccharea"
           ],
           [
            "Cluster 1311: Neisseria lactamica",
            "Cluster 2426: Neisseria polysaccharea"
           ],
           [
            "Cluster 1530: Neisseria meningitidis",
            "Cluster 2426: Neisseria polysaccharea"
           ],
           [
            "Cluster 2372: Neisseria meningitidis",
            "Cluster 2426: Neisseria polysaccharea"
           ],
           [
            "Cluster 2321: Neisseria meningitidis",
            "Cluster 2426: Neisseria polysaccharea"
           ],
           [
            "Cluster 2415: Neisseria mucosa",
            "Cluster 2426: Neisseria polysaccharea"
           ],
           [
            "Cluster 2408: Neisseria lactamica",
            "Cluster 2426: Neisseria polysaccharea"
           ],
           [
            "Cluster 2426: Neisseria polysaccharea",
            "Cluster 2426: Neisseria polysaccharea"
           ],
           [
            "Cluster 2328: Neisseria gonorrhoeae",
            "Cluster 2426: Neisseria polysaccharea"
           ],
           [
            "Cluster 2417: Neisseria meningitidis",
            "Cluster 2426: Neisseria polysaccharea"
           ],
           [
            "Cluster 1756: Granulicoccus phenolivorans",
            "Cluster 2426: Neisseria polysaccharea"
           ],
           [
            "Cluster 2348: Gardnerella vaginalis",
            "Cluster 2426: Neisseria polysaccharea"
           ],
           [
            "Cluster 2365: Bifidobacterium pseudocatenulatum",
            "Cluster 2426: Neisseria polysaccharea"
           ]
          ],
          [
           [
            "Cluster 2436: Gardnerella vaginalis",
            "Cluster 2328: Neisseria gonorrhoeae"
           ],
           [
            "Cluster 2421: Chlamydia trachomatis",
            "Cluster 2328: Neisseria gonorrhoeae"
           ],
           [
            "Cluster 1311: Neisseria lactamica",
            "Cluster 2328: Neisseria gonorrhoeae"
           ],
           [
            "Cluster 1530: Neisseria meningitidis",
            "Cluster 2328: Neisseria gonorrhoeae"
           ],
           [
            "Cluster 2372: Neisseria meningitidis",
            "Cluster 2328: Neisseria gonorrhoeae"
           ],
           [
            "Cluster 2321: Neisseria meningitidis",
            "Cluster 2328: Neisseria gonorrhoeae"
           ],
           [
            "Cluster 2415: Neisseria mucosa",
            "Cluster 2328: Neisseria gonorrhoeae"
           ],
           [
            "Cluster 2408: Neisseria lactamica",
            "Cluster 2328: Neisseria gonorrhoeae"
           ],
           [
            "Cluster 2426: Neisseria polysaccharea",
            "Cluster 2328: Neisseria gonorrhoeae"
           ],
           [
            "Cluster 2328: Neisseria gonorrhoeae",
            "Cluster 2328: Neisseria gonorrhoeae"
           ],
           [
            "Cluster 2417: Neisseria meningitidis",
            "Cluster 2328: Neisseria gonorrhoeae"
           ],
           [
            "Cluster 1756: Granulicoccus phenolivorans",
            "Cluster 2328: Neisseria gonorrhoeae"
           ],
           [
            "Cluster 2348: Gardnerella vaginalis",
            "Cluster 2328: Neisseria gonorrhoeae"
           ],
           [
            "Cluster 2365: Bifidobacterium pseudocatenulatum",
            "Cluster 2328: Neisseria gonorrhoeae"
           ]
          ],
          [
           [
            "Cluster 2436: Gardnerella vaginalis",
            "Cluster 2417: Neisseria meningitidis"
           ],
           [
            "Cluster 2421: Chlamydia trachomatis",
            "Cluster 2417: Neisseria meningitidis"
           ],
           [
            "Cluster 1311: Neisseria lactamica",
            "Cluster 2417: Neisseria meningitidis"
           ],
           [
            "Cluster 1530: Neisseria meningitidis",
            "Cluster 2417: Neisseria meningitidis"
           ],
           [
            "Cluster 2372: Neisseria meningitidis",
            "Cluster 2417: Neisseria meningitidis"
           ],
           [
            "Cluster 2321: Neisseria meningitidis",
            "Cluster 2417: Neisseria meningitidis"
           ],
           [
            "Cluster 2415: Neisseria mucosa",
            "Cluster 2417: Neisseria meningitidis"
           ],
           [
            "Cluster 2408: Neisseria lactamica",
            "Cluster 2417: Neisseria meningitidis"
           ],
           [
            "Cluster 2426: Neisseria polysaccharea",
            "Cluster 2417: Neisseria meningitidis"
           ],
           [
            "Cluster 2328: Neisseria gonorrhoeae",
            "Cluster 2417: Neisseria meningitidis"
           ],
           [
            "Cluster 2417: Neisseria meningitidis",
            "Cluster 2417: Neisseria meningitidis"
           ],
           [
            "Cluster 1756: Granulicoccus phenolivorans",
            "Cluster 2417: Neisseria meningitidis"
           ],
           [
            "Cluster 2348: Gardnerella vaginalis",
            "Cluster 2417: Neisseria meningitidis"
           ],
           [
            "Cluster 2365: Bifidobacterium pseudocatenulatum",
            "Cluster 2417: Neisseria meningitidis"
           ]
          ],
          [
           [
            "Cluster 2436: Gardnerella vaginalis",
            "Cluster 1756: Granulicoccus phenolivorans"
           ],
           [
            "Cluster 2421: Chlamydia trachomatis",
            "Cluster 1756: Granulicoccus phenolivorans"
           ],
           [
            "Cluster 1311: Neisseria lactamica",
            "Cluster 1756: Granulicoccus phenolivorans"
           ],
           [
            "Cluster 1530: Neisseria meningitidis",
            "Cluster 1756: Granulicoccus phenolivorans"
           ],
           [
            "Cluster 2372: Neisseria meningitidis",
            "Cluster 1756: Granulicoccus phenolivorans"
           ],
           [
            "Cluster 2321: Neisseria meningitidis",
            "Cluster 1756: Granulicoccus phenolivorans"
           ],
           [
            "Cluster 2415: Neisseria mucosa",
            "Cluster 1756: Granulicoccus phenolivorans"
           ],
           [
            "Cluster 2408: Neisseria lactamica",
            "Cluster 1756: Granulicoccus phenolivorans"
           ],
           [
            "Cluster 2426: Neisseria polysaccharea",
            "Cluster 1756: Granulicoccus phenolivorans"
           ],
           [
            "Cluster 2328: Neisseria gonorrhoeae",
            "Cluster 1756: Granulicoccus phenolivorans"
           ],
           [
            "Cluster 2417: Neisseria meningitidis",
            "Cluster 1756: Granulicoccus phenolivorans"
           ],
           [
            "Cluster 1756: Granulicoccus phenolivorans",
            "Cluster 1756: Granulicoccus phenolivorans"
           ],
           [
            "Cluster 2348: Gardnerella vaginalis",
            "Cluster 1756: Granulicoccus phenolivorans"
           ],
           [
            "Cluster 2365: Bifidobacterium pseudocatenulatum",
            "Cluster 1756: Granulicoccus phenolivorans"
           ]
          ],
          [
           [
            "Cluster 2436: Gardnerella vaginalis",
            "Cluster 2348: Gardnerella vaginalis"
           ],
           [
            "Cluster 2421: Chlamydia trachomatis",
            "Cluster 2348: Gardnerella vaginalis"
           ],
           [
            "Cluster 1311: Neisseria lactamica",
            "Cluster 2348: Gardnerella vaginalis"
           ],
           [
            "Cluster 1530: Neisseria meningitidis",
            "Cluster 2348: Gardnerella vaginalis"
           ],
           [
            "Cluster 2372: Neisseria meningitidis",
            "Cluster 2348: Gardnerella vaginalis"
           ],
           [
            "Cluster 2321: Neisseria meningitidis",
            "Cluster 2348: Gardnerella vaginalis"
           ],
           [
            "Cluster 2415: Neisseria mucosa",
            "Cluster 2348: Gardnerella vaginalis"
           ],
           [
            "Cluster 2408: Neisseria lactamica",
            "Cluster 2348: Gardnerella vaginalis"
           ],
           [
            "Cluster 2426: Neisseria polysaccharea",
            "Cluster 2348: Gardnerella vaginalis"
           ],
           [
            "Cluster 2328: Neisseria gonorrhoeae",
            "Cluster 2348: Gardnerella vaginalis"
           ],
           [
            "Cluster 2417: Neisseria meningitidis",
            "Cluster 2348: Gardnerella vaginalis"
           ],
           [
            "Cluster 1756: Granulicoccus phenolivorans",
            "Cluster 2348: Gardnerella vaginalis"
           ],
           [
            "Cluster 2348: Gardnerella vaginalis",
            "Cluster 2348: Gardnerella vaginalis"
           ],
           [
            "Cluster 2365: Bifidobacterium pseudocatenulatum",
            "Cluster 2348: Gardnerella vaginalis"
           ]
          ],
          [
           [
            "Cluster 2436: Gardnerella vaginalis",
            "Cluster 2365: Bifidobacterium pseudocatenulatum"
           ],
           [
            "Cluster 2421: Chlamydia trachomatis",
            "Cluster 2365: Bifidobacterium pseudocatenulatum"
           ],
           [
            "Cluster 1311: Neisseria lactamica",
            "Cluster 2365: Bifidobacterium pseudocatenulatum"
           ],
           [
            "Cluster 1530: Neisseria meningitidis",
            "Cluster 2365: Bifidobacterium pseudocatenulatum"
           ],
           [
            "Cluster 2372: Neisseria meningitidis",
            "Cluster 2365: Bifidobacterium pseudocatenulatum"
           ],
           [
            "Cluster 2321: Neisseria meningitidis",
            "Cluster 2365: Bifidobacterium pseudocatenulatum"
           ],
           [
            "Cluster 2415: Neisseria mucosa",
            "Cluster 2365: Bifidobacterium pseudocatenulatum"
           ],
           [
            "Cluster 2408: Neisseria lactamica",
            "Cluster 2365: Bifidobacterium pseudocatenulatum"
           ],
           [
            "Cluster 2426: Neisseria polysaccharea",
            "Cluster 2365: Bifidobacterium pseudocatenulatum"
           ],
           [
            "Cluster 2328: Neisseria gonorrhoeae",
            "Cluster 2365: Bifidobacterium pseudocatenulatum"
           ],
           [
            "Cluster 2417: Neisseria meningitidis",
            "Cluster 2365: Bifidobacterium pseudocatenulatum"
           ],
           [
            "Cluster 1756: Granulicoccus phenolivorans",
            "Cluster 2365: Bifidobacterium pseudocatenulatum"
           ],
           [
            "Cluster 2348: Gardnerella vaginalis",
            "Cluster 2365: Bifidobacterium pseudocatenulatum"
           ],
           [
            "Cluster 2365: Bifidobacterium pseudocatenulatum",
            "Cluster 2365: Bifidobacterium pseudocatenulatum"
           ]
          ]
         ],
         "hovertemplate": "%{customdata[0]}<br>\n%{customdata[1]}<br>\n%{z:.3f}\n<extra></extra>\n",
         "type": "heatmap",
         "x": [
          0.5000000000000004,
          7.664414002968975,
          19.341492255000286,
          21.341492255000286,
          23.341492255000286,
          25.755705817373382,
          27.755705817373382,
          29.755705817373382,
          32.487756624942264,
          34.487756624942264,
          53.51551300226221,
          81.21757284789959,
          83.21757284789959,
          85.63178641027268,
          88.63178641027268
         ],
         "xaxis": "x3",
         "y": [
          0.5000000000000004,
          7.664414002968975,
          19.341492255000286,
          21.341492255000286,
          23.341492255000286,
          25.755705817373382,
          27.755705817373382,
          29.755705817373382,
          32.487756624942264,
          34.487756624942264,
          53.51551300226221,
          81.21757284789959,
          83.21757284789959,
          85.63178641027268,
          88.63178641027268
         ],
         "z": [
          [
           0.96604276,
           0.98375285,
           0.9985596,
           0.9984686,
           0.9979185,
           0.9984581,
           0.9987858,
           0.9987598,
           0.99877226,
           0.96718717,
           0.998363,
           0.99930155,
           0.99466884,
           0.9959202
          ],
          [
           0.98375285,
           0.619491,
           0.999245,
           0.9991197,
           0.99855256,
           0.9987473,
           0.9987238,
           0.99893415,
           0.9995867,
           0.99859774,
           0.99878985,
           0.9994606,
           0.9993351,
           0.99944973
          ],
          [
           0.9985596,
           0.999245,
           0.00052438385,
           0.5565011,
           0.725437,
           0.76225734,
           0.75574183,
           0.95405984,
           0.9489718,
           0.9533789,
           0.9475046,
           0.999224,
           0.99871284,
           0.99809116
          ],
          [
           0.9984686,
           0.9991197,
           0.5565011,
           0.0054347827,
           0.7160714,
           0.74773675,
           0.74108887,
           0.9536091,
           0.9492094,
           0.95331854,
           0.9478372,
           0.9993097,
           0.9990998,
           0.9976671
          ],
          [
           0.9979185,
           0.99855256,
           0.725437,
           0.7160714,
           0.3657861,
           0.6838366,
           0.67368424,
           0.9592391,
           0.9482836,
           0.9553185,
           0.94718885,
           0.9985396,
           0.9988088,
           0.99806666
          ],
          [
           0.9984581,
           0.9987473,
           0.76225734,
           0.74773675,
           0.6838366,
           0.19636884,
           0.58134997,
           0.9566539,
           0.94523734,
           0.94625634,
           0.9449814,
           0.99809206,
           0.999003,
           0.99776036
          ],
          [
           0.9987858,
           0.9987238,
           0.75574183,
           0.74108887,
           0.67368424,
           0.58134997,
           0.55783546,
           0.9547318,
           0.9467765,
           0.95169467,
           0.94708663,
           0.99874514,
           0.99908817,
           0.9978042
          ],
          [
           0.9987598,
           0.99893415,
           0.95405984,
           0.9536091,
           0.9592391,
           0.9566539,
           0.9547318,
           0.4900645,
           0.7283431,
           0.75974154,
           0.73318106,
           0.9986389,
           0.99914265,
           0.9973897
          ],
          [
           0.99877226,
           0.9995867,
           0.9489718,
           0.9492094,
           0.9482836,
           0.94523734,
           0.9467765,
           0.7283431,
           0.6688838,
           0.73327845,
           0.6903253,
           0.9982388,
           0.99935126,
           0.9973095
          ],
          [
           0.96718717,
           0.99859774,
           0.9533789,
           0.95331854,
           0.9553185,
           0.94625634,
           0.95169467,
           0.75974154,
           0.73327845,
           0.2099478,
           0.64918464,
           0.9984896,
           0.9981766,
           0.9968659
          ],
          [
           0.998363,
           0.99878985,
           0.9475046,
           0.9478372,
           0.94718885,
           0.9449814,
           0.94708663,
           0.73318106,
           0.6903253,
           0.64918464,
           0.5688817,
           0.99819756,
           0.99868745,
           0.9975825
          ],
          [
           0.99930155,
           0.9994606,
           0.999224,
           0.9993097,
           0.9985396,
           0.99809206,
           0.99874514,
           0.9986389,
           0.9982388,
           0.9984896,
           0.99819756,
           0.01681466,
           0.9891395,
           0.9965444
          ],
          [
           0.99466884,
           0.9993351,
           0.99871284,
           0.9990998,
           0.9988088,
           0.999003,
           0.99908817,
           0.99914265,
           0.99935126,
           0.9981766,
           0.99868745,
           0.9891395,
           0.28909692,
           0.9966936
          ],
          [
           0.9959202,
           0.99944973,
           0.99809116,
           0.9976671,
           0.99806666,
           0.99776036,
           0.9978042,
           0.9973897,
           0.9973095,
           0.9968659,
           0.9975825,
           0.9965444,
           0.9966936,
           0.346541
          ]
         ]
        },
        {
         "colorscale": [
          [
           0,
           "#BFBFBF"
          ],
          [
           0.05555555555555555,
           "#4E79A7"
          ],
          [
           0.1111111111111111,
           "#F28E2B"
          ],
          [
           0.16666666666666666,
           "#E15759"
          ],
          [
           0.2222222222222222,
           "#499894"
          ],
          [
           0.2777777777777778,
           "#59A14F"
          ],
          [
           0.3333333333333333,
           "#B6992D"
          ],
          [
           0.3888888888888889,
           "#B07AA1"
          ],
          [
           0.4444444444444444,
           "#D37295"
          ],
          [
           0.5,
           "#9D7660"
          ],
          [
           0.5555555555555556,
           "#A0CBE8"
          ],
          [
           0.6111111111111112,
           "#FFBE7D"
          ],
          [
           0.6666666666666666,
           "#FF9D9A"
          ],
          [
           0.7222222222222222,
           "#86BCB6"
          ],
          [
           0.7777777777777778,
           "#8CD17D"
          ],
          [
           0.8333333333333334,
           "#F1CE63"
          ],
          [
           0.8888888888888888,
           "#D4A6C8"
          ],
          [
           0.9444444444444444,
           "#FABFD2"
          ],
          [
           1,
           "#D7B5A6"
          ]
         ],
         "customdata": [
          [
           [
            "Gardnerella vaginalis"
           ]
          ],
          [
           [
            "Chlamydia trachomatis"
           ]
          ],
          [
           [
            "Neisseria lactamica"
           ]
          ],
          [
           [
            "Neisseria meningitidis"
           ]
          ],
          [
           [
            "Neisseria meningitidis"
           ]
          ],
          [
           [
            "Neisseria meningitidis"
           ]
          ],
          [
           [
            "Neisseria mucosa"
           ]
          ],
          [
           [
            "Neisseria lactamica"
           ]
          ],
          [
           [
            "Neisseria polysaccharea"
           ]
          ],
          [
           [
            "Neisseria gonorrhoeae"
           ]
          ],
          [
           [
            "Neisseria meningitidis"
           ]
          ],
          [
           [
            "Granulicoccus phenolivorans"
           ]
          ],
          [
           [
            "Gardnerella vaginalis"
           ]
          ],
          [
           [
            "Bifidobacterium pseudocatenulatum"
           ]
          ]
         ],
         "hovertemplate": "<b>%{text}</b><br>\n%{customdata[0]}\n<extra></extra>\n",
         "showscale": false,
         "text": [
          [
           "Cluster 2436"
          ],
          [
           "Cluster 2421"
          ],
          [
           "Cluster 1311"
          ],
          [
           "Cluster 1530"
          ],
          [
           "Cluster 2372"
          ],
          [
           "Cluster 2321"
          ],
          [
           "Cluster 2415"
          ],
          [
           "Cluster 2408"
          ],
          [
           "Cluster 2426"
          ],
          [
           "Cluster 2328"
          ],
          [
           "Cluster 2417"
          ],
          [
           "Cluster 1756"
          ],
          [
           "Cluster 2348"
          ],
          [
           "Cluster 2365"
          ]
         ],
         "type": "heatmap",
         "xaxis": "x2",
         "y": [
          0.5000000000000004,
          7.664414002968975,
          19.341492255000286,
          21.341492255000286,
          23.341492255000286,
          25.755705817373382,
          27.755705817373382,
          29.755705817373382,
          32.487756624942264,
          34.487756624942264,
          53.51551300226221,
          81.21757284789959,
          83.21757284789959,
          85.63178641027268,
          88.63178641027268
         ],
         "ygap": 1,
         "z": [
          [
           3
          ],
          [
           2
          ],
          [
           6
          ],
          [
           7
          ],
          [
           7
          ],
          [
           7
          ],
          [
           8
          ],
          [
           6
          ],
          [
           9
          ],
          [
           5
          ],
          [
           7
          ],
          [
           4
          ],
          [
           3
          ],
          [
           1
          ]
         ],
         "zmax": 18,
         "zmin": 0
        }
       ],
       "frames": [],
       "layout": {
        "height": 750,
        "hovermode": "closest",
        "margin": {
         "b": 50,
         "l": 50,
         "r": 50,
         "t": 60
        },
        "showlegend": false,
        "width": 1000,
        "xaxis": {
         "autorange": "reversed",
         "domain": [
          0,
          0.272108843537415
         ],
         "rangemode": "nonnegative"
        },
        "xaxis2": {
         "domain": [
          0.27891156462585037,
          0.3129251700680272
         ],
         "visible": false
        },
        "xaxis3": {
         "domain": [
          0.3197278911564626,
          1
         ],
         "scaleanchor": "y",
         "visible": false
        },
        "yaxis": {
         "visible": false
        }
       }
      },
      "application/vnd.webio.node+json": {
       "children": [
        {
         "children": [],
         "instanceArgs": {
          "namespace": "html",
          "tag": "div"
         },
         "nodeType": "DOM",
         "props": {
          "id": "plot-2a4fb56f-1a5d-4143-a51c-4b206d2ff755"
         },
         "type": "node"
        }
       ],
       "instanceArgs": {
        "handlers": {
         "__get_gd_contents": [
          "(function (prop){prop==\"data\" ? (WebIO.setval({\"name\":\"__gd_contents\",\"scope\":\"13925179724236524620\",\"id\":\"18081126273051792779\",\"type\":\"observable\"},this.plotElem.data)) : undefined; return prop==\"layout\" ? (WebIO.setval({\"name\":\"__gd_contents\",\"scope\":\"13925179724236524620\",\"id\":\"18081126273051792779\",\"type\":\"observable\"},this.plotElem.layout)) : undefined})"
         ],
         "_commands": [
          "(function (args){var fn=args.shift(); var elem=this.plotElem; var Plotly=this.Plotly; args.unshift(elem); return Plotly[fn].apply(this,args)})"
         ],
         "_downloadImage": [
          "(function (options){return this.Plotly.downloadImage(this.plotElem,options)})"
         ],
         "_toImage": [
          "(function (options){return this.Plotly.toImage(this.plotElem,options).then((function (data){return WebIO.setval({\"name\":\"image\",\"scope\":\"13925179724236524620\",\"id\":\"7061266256219069128\",\"type\":\"observable\"},data)}))})"
         ]
        },
        "id": "13925179724236524620",
        "imports": {
         "data": [
          {
           "name": "Plotly",
           "type": "js",
           "url": "/assetserver/e6903599031aaef8675931dfcd7df98a1aeffbfc-plotly-latest.min.js"
          },
          {
           "name": null,
           "type": "js",
           "url": "/assetserver/74a5dea81f21b0b802ef1ee92f1c8a504eac1a0c-plotly_webio.bundle.js"
          }
         ],
         "type": "async_block"
        },
        "mount_callbacks": [
         "function () {\n    var handler = ((function (Plotly,PlotlyWebIO){PlotlyWebIO.init(WebIO); var gd=this.dom.querySelector(\"#plot-2a4fb56f-1a5d-4143-a51c-4b206d2ff755\"); this.plotElem=gd; this.Plotly=Plotly; (window.Blink!==undefined) ? (gd.style.width=\"100%\", gd.style.height=\"100vh\", gd.style.marginLeft=\"0%\", gd.style.marginTop=\"0vh\") : undefined; window.onresize=(function (){return Plotly.Plots.resize(gd)}); Plotly.newPlot(gd,[{\"showlegend\":false,\"mode\":\"lines\",\"line\":{\"color\":\"#E15759\"},\"y\":[83.71757284789959,83.71757284789959,85.13178641027268,85.13178641027268],\"type\":\"scatter\",\"fill\":\"toself\",\"hoverinfo\":\"skip\",\"x\":[0.0,0.2890969216823578,0.2890969216823578,0.0]},{\"showlegend\":false,\"mode\":\"lines\",\"line\":{\"color\":\"#BFBFBF\"},\"y\":[44.00163481360224,67.36654292508089,null,44.00163481360224,44.00163481360224,null,67.36654292508089,67.36654292508089,null],\"type\":\"scatter\",\"hoverinfo\":\"skip\",\"x\":[0.7223665714263916,0.7223665714263916,null,0.7223665714263916,0.20994779467582703,null,0.7223665714263916,0.5688816905021667,null]},{\"showlegend\":false,\"mode\":\"lines\",\"line\":{\"color\":\"#BFBFBF\"},\"y\":[24.548599036186836,27.755705817373382,null,24.548599036186836,24.548599036186836,null,27.755705817373382,27.755705817373382,null],\"type\":\"scatter\",\"hoverinfo\":\"skip\",\"x\":[0.7093522548675537,0.7093522548675537,null,0.7093522548675537,0.3657861053943634,null,0.7093522548675537,0.6067352890968323,null]},{\"showlegend\":false,\"mode\":\"lines\",\"line\":{\"color\":\"#BFBFBF\"},\"y\":[84.42467962908614,87.13178641027268,null,84.42467962908614,84.42467962908614,null,87.13178641027268,87.13178641027268,null],\"type\":\"scatter\",\"hoverinfo\":\"skip\",\"x\":[0.9970870018005371,0.9970870018005371,null,0.9970870018005371,0.2890969216823578,null,0.9970870018005371,0.34654098749160767,null]},{\"showlegend\":false,\"mode\":\"lines\",\"line\":{\"color\":\"#BFBFBF\"},\"y\":[4.082207001484488,35.4510334635697,null,4.082207001484488,4.082207001484488,null,35.4510334635697,35.4510334635697,null],\"type\":\"scatter\",\"hoverinfo\":\"skip\",\"x\":[1.0,1.0,null,1.0,0.9660427570343018,null,1.0,1.0,null]},{\"showlegend\":false,\"mode\":\"lines\",\"line\":{\"color\":\"#D37295\"},\"y\":[28.255705817373382,28.255705817373382,29.255705817373382,29.255705817373382],\"type\":\"scatter\",\"fill\":\"toself\",\"hoverinfo\":\"skip\",\"x\":[0.0,0.5578354597091675,0.5578354597091675,0.0]},{\"showlegend\":false,\"mode\":\"lines\",\"line\":{\"color\":\"#B07AA1\"},\"y\":[54.01551300226221,54.01551300226221,80.71757284789959,80.71757284789959],\"type\":\"scatter\",\"fill\":\"toself\",\"hoverinfo\":\"skip\",\"x\":[0.0,0.5688816905021667,0.5688816905021667,0.0]},{\"showlegend\":false,\"mode\":\"lines\",\"line\":{\"color\":\"#BFBFBF\"},\"y\":[30.800324662520033,83.9979029337895,null,30.800324662520033,30.800324662520033,null,83.9979029337895,83.9979029337895,null],\"type\":\"scatter\",\"hoverinfo\":\"skip\",\"x\":[0.9998422861099243,0.9998422861099243,null,0.9998422861099243,0.9616410136222839,null,0.9998422861099243,0.9983099699020386,null]},{\"showlegend\":false,\"mode\":\"lines\",\"line\":{\"color\":\"#BFBFBF\"},\"y\":[31.121731221157823,44.585922747141915,null,31.121731221157823,31.121731221157823,null,44.585922747141915,44.585922747141915,null],\"type\":\"scatter\",\"hoverinfo\":\"skip\",\"x\":[0.7892481684684753,0.7892481684684753,null,0.7892481684684753,0.49006450176239014,null,0.7892481684684753,0.7635694742202759,null]},{\"showlegend\":false,\"mode\":\"lines\",\"line\":{\"color\":\"#BFBFBF\"},\"y\":[21.341492255000286,26.15215242678011,null,21.341492255000286,21.341492255000286,null,26.15215242678011,26.15215242678011,null],\"type\":\"scatter\",\"hoverinfo\":\"skip\",\"x\":[0.7635746598243713,0.7635746598243713,null,0.7635746598243713,0.5567193627357483,null,0.7635746598243713,0.7093522548675537,null]},{\"showlegend\":false,\"mode\":\"lines\",\"line\":{\"color\":\"#F28E2B\"},\"y\":[8.164414002968975,8.164414002968975,18.841492255000286,18.841492255000286],\"type\":\"scatter\",\"fill\":\"toself\",\"hoverinfo\":\"skip\",\"x\":[0.0,0.6194909811019897,0.6194909811019897,0.0]},{\"showlegend\":false,\"mode\":\"lines\",\"line\":{\"color\":\"#B07AA1\"},\"y\":[23.841492255000286,23.841492255000286,25.255705817373382,25.255705817373382],\"type\":\"scatter\",\"fill\":\"toself\",\"hoverinfo\":\"skip\",\"x\":[0.0,0.3657861053943634,0.3657861053943634,0.0]},{\"showlegend\":false,\"mode\":\"lines\",\"line\":{\"color\":\"#B07AA1\"},\"y\":[21.841492255000286,21.841492255000286,22.841492255000286,22.841492255000286],\"type\":\"scatter\",\"fill\":\"toself\",\"hoverinfo\":\"skip\",\"x\":[0.0,0.005434782709926367,0.005434782709926367,0.0]},{\"showlegend\":false,\"mode\":\"lines\",\"line\":{\"color\":\"#B6992D\"},\"y\":[19.841492255000286,19.841492255000286,20.841492255000286,20.841492255000286],\"type\":\"scatter\",\"fill\":\"toself\",\"hoverinfo\":\"skip\",\"x\":[0.0,0.0005243838531896472,0.0005243838531896472,0.0]},{\"showlegend\":false,\"mode\":\"lines\",\"line\":{\"color\":\"#B6992D\"},\"y\":[30.255705817373382,30.255705817373382,31.98775662494226,31.98775662494226],\"type\":\"scatter\",\"fill\":\"toself\",\"hoverinfo\":\"skip\",\"x\":[0.0,0.49006450176239014,0.49006450176239014,0.0]},{\"showlegend\":false,\"mode\":\"lines\",\"line\":{\"color\":\"#BFBFBF\"},\"y\":[20.341492255000286,22.341492255000286,null,20.341492255000286,20.341492255000286,null,22.341492255000286,22.341492255000286,null],\"type\":\"scatter\",\"hoverinfo\":\"skip\",\"x\":[0.5567193627357483,0.5567193627357483,null,0.5567193627357483,0.0005243838531896472,null,0.5567193627357483,0.005434782709926367,null]},{\"showlegend\":false,\"mode\":\"lines\",\"line\":{\"color\":\"#59A14F\"},\"y\":[34.987756624942264,34.987756624942264,53.01551300226221,53.01551300226221],\"type\":\"scatter\",\"fill\":\"toself\",\"hoverinfo\":\"skip\",\"x\":[0.0,0.20994779467582703,0.20994779467582703,0.0]},{\"showlegend\":false,\"mode\":\"lines\",\"line\":{\"color\":\"#4E79A7\"},\"y\":[86.13178641027268,86.13178641027268,88.13178641027268,88.13178641027268],\"type\":\"scatter\",\"fill\":\"toself\",\"hoverinfo\":\"skip\",\"x\":[0.0,0.34654098749160767,0.34654098749160767,0.0]},{\"showlegend\":false,\"mode\":\"lines\",\"line\":{\"color\":\"#499894\"},\"y\":[81.71757284789959,81.71757284789959,82.71757284789959,82.71757284789959],\"type\":\"scatter\",\"fill\":\"toself\",\"hoverinfo\":\"skip\",\"x\":[0.0,0.016814660280942917,0.016814660280942917,0.0]},{\"showlegend\":false,\"mode\":\"lines\",\"line\":{\"color\":\"#BFBFBF\"},\"y\":[13.50295312898463,57.39911379815477,null,13.50295312898463,13.50295312898463,null,57.39911379815477,57.39911379815477,null],\"type\":\"scatter\",\"hoverinfo\":\"skip\",\"x\":[1.0,1.0,null,1.0,0.6194909811019897,null,1.0,0.9998422861099243,null]},{\"showlegend\":false,\"mode\":\"lines\",\"line\":{\"color\":\"#9D7660\"},\"y\":[32.987756624942264,32.987756624942264,33.987756624942264,33.987756624942264],\"type\":\"scatter\",\"fill\":\"toself\",\"hoverinfo\":\"skip\",\"x\":[0.0,0.6688838005065918,0.6688838005065918,0.0]},{\"showlegend\":false,\"mode\":\"lines\",\"line\":{\"color\":\"#BFBFBF\"},\"y\":[23.746822340890198,37.85382698414987,null,23.746822340890198,23.746822340890198,null,37.85382698414987,37.85382698414987,null],\"type\":\"scatter\",\"hoverinfo\":\"skip\",\"x\":[0.9616410136222839,0.9616410136222839,null,0.9616410136222839,0.7635746598243713,null,0.9616410136222839,0.7892481684684753,null]},{\"showlegend\":false,\"mode\":\"lines\",\"line\":{\"color\":\"#E15759\"},\"y\":[1.0,1.0,7.164414002968976,7.164414002968976],\"type\":\"scatter\",\"fill\":\"toself\",\"hoverinfo\":\"skip\",\"x\":[0.0,0.9660427570343018,0.9660427570343018,0.0]},{\"showlegend\":false,\"mode\":\"lines\",\"line\":{\"color\":\"#B07AA1\"},\"y\":[26.255705817373382,26.255705817373382,27.255705817373382,27.255705817373382],\"type\":\"scatter\",\"fill\":\"toself\",\"hoverinfo\":\"skip\",\"x\":[0.0,0.19636884331703186,0.19636884331703186,0.0]},{\"showlegend\":false,\"mode\":\"lines\",\"line\":{\"color\":\"#BFBFBF\"},\"y\":[33.487756624942264,55.684088869341565,null,33.487756624942264,33.487756624942264,null,55.684088869341565,55.684088869341565,null],\"type\":\"scatter\",\"hoverinfo\":\"skip\",\"x\":[0.7635694742202759,0.7635694742202759,null,0.7635694742202759,0.6688838005065918,null,0.7635694742202759,0.7223665714263916,null]},{\"showlegend\":false,\"mode\":\"lines\",\"line\":{\"color\":\"#BFBFBF\"},\"y\":[26.755705817373382,28.755705817373382,null,26.755705817373382,26.755705817373382,null,28.755705817373382,28.755705817373382,null],\"type\":\"scatter\",\"hoverinfo\":\"skip\",\"x\":[0.6067352890968323,0.6067352890968323,null,0.6067352890968323,0.19636884331703186,null,0.6067352890968323,0.5578354597091675,null]},{\"showlegend\":false,\"mode\":\"lines\",\"line\":{\"color\":\"#BFBFBF\"},\"y\":[82.21757284789959,85.77823301967942,null,82.21757284789959,82.21757284789959,null,85.77823301967942,85.77823301967942,null],\"type\":\"scatter\",\"hoverinfo\":\"skip\",\"x\":[0.9983099699020386,0.9983099699020386,null,0.9983099699020386,0.016814660280942917,null,0.9983099699020386,0.9970870018005371,null]},{\"showlegend\":false,\"mode\":\"markers\",\"marker\":{\"color\":[\"#E15759\",\"#BFBFBF\",\"#BFBFBF\",\"#BFBFBF\",\"#BFBFBF\",\"#D37295\",\"#B07AA1\",\"#BFBFBF\",\"#F28E2B\",\"#BFBFBF\",\"#BFBFBF\",\"#B07AA1\",\"#B07AA1\",\"#B6992D\",\"#B6992D\",\"#BFBFBF\",\"#59A14F\",\"#4E79A7\",\"#499894\",\"#BFBFBF\",\"#9D7660\",\"#BFBFBF\",\"#E15759\",\"#B07AA1\",\"#BFBFBF\",\"#BFBFBF\",\"#BFBFBF\"],\"size\":[8,4,8,4,8,8,8,4,8,8,8,8,8,8,8,8,8,8,8,4,8,8,8,8,4,8,4]},\"y\":[84.42467962908614,55.684088869341565,26.15215242678011,85.77823301967942,19.766620232527096,28.755705817373382,67.36654292508089,57.39911379815477,13.50295312898463,23.746822340890198,37.85382698414987,24.548599036186836,22.341492255000286,20.341492255000286,31.121731221157823,21.341492255000286,44.00163481360224,87.13178641027268,82.21757284789959,35.4510334635697,33.487756624942264,30.800324662520033,4.082207001484488,26.755705817373382,44.585922747141915,27.755705817373382,83.9979029337895],\"type\":\"scatter\",\"customdata\":[[3,\"Gardnerella vaginalis\"],[1040,\"(mixed)\"],[7,\"(mixed)\"],[8,\"(mixed)\"],[1221,\"(mixed)\"],[2,\"Neisseria mucosa\"],[714,\"Neisseria meningitidis\"],[1067,\"(mixed)\"],[115,\"Chlamydia trachomatis\"],[11,\"(mixed)\"],[1046,\"(mixed)\"],[3,\"Neisseria meningitidis\"],[2,\"Neisseria meningitidis\"],[2,\"Neisseria lactamica\"],[4,\"Neisseria lactamica\"],[4,\"(mixed)\"],[326,\"Neisseria gonorrhoeae\"],[5,\"Bifidobacterium pseudocatenulatum\"],[2,\"Granulicoccus phenolivorans\"],[1182,\"(mixed)\"],[2,\"Neisseria polysaccharea\"],[1057,\"(mixed)\"],[39,\"Gardnerella vaginalis\"],[2,\"Neisseria meningitidis\"],[1042,\"(mixed)\"],[4,\"(mixed)\"],[10,\"(mixed)\"]],\"text\":[\"2348\",\"2428\",\"2427\",\"2437\",\"2441\",\"2415\",\"2417\",\"2439\",\"2421\",\"2430\",\"2431\",\"2372\",\"1530\",\"1311\",\"2408\",\"2414\",\"2328\",\"2365\",\"1756\",\"2440\",\"2426\",\"2435\",\"2436\",\"2321\",\"2429\",\"2419\",\"2438\"],\"hovertemplate\":\"<b>%{text}</b><br>\\n%{y:.3f}<br>\\n%{customdata[0]} genomes<br>\\n%{customdata[1]}\\n<extra></extra>\\n\",\"x\":[0.2890969216823578,0.7223665714263916,0.7093522548675537,0.9970870018005371,1.0,0.5578354597091675,0.5688816905021667,0.9998422861099243,0.6194909811019897,0.7635746598243713,0.7892481684684753,0.3657861053943634,0.005434782709926367,0.0005243838531896472,0.49006450176239014,0.5567193627357483,0.20994779467582703,0.34654098749160767,0.016814660280942917,1.0,0.6688838005065918,0.9616410136222839,0.9660427570343018,0.19636884331703186,0.7635694742202759,0.6067352890968323,0.9983099699020386]},{\"xaxis\":\"x3\",\"y\":[0.5000000000000004,7.664414002968975,19.341492255000286,21.341492255000286,23.341492255000286,25.755705817373382,27.755705817373382,29.755705817373382,32.487756624942264,34.487756624942264,53.51551300226221,81.21757284789959,83.21757284789959,85.63178641027268,88.63178641027268],\"type\":\"heatmap\",\"customdata\":[[[\"Cluster 2436: Gardnerella vaginalis\",\"Cluster 2436: Gardnerella vaginalis\"],[\"Cluster 2421: Chlamydia trachomatis\",\"Cluster 2436: Gardnerella vaginalis\"],[\"Cluster 1311: Neisseria lactamica\",\"Cluster 2436: Gardnerella vaginalis\"],[\"Cluster 1530: Neisseria meningitidis\",\"Cluster 2436: Gardnerella vaginalis\"],[\"Cluster 2372: Neisseria meningitidis\",\"Cluster 2436: Gardnerella vaginalis\"],[\"Cluster 2321: Neisseria meningitidis\",\"Cluster 2436: Gardnerella vaginalis\"],[\"Cluster 2415: Neisseria mucosa\",\"Cluster 2436: Gardnerella vaginalis\"],[\"Cluster 2408: Neisseria lactamica\",\"Cluster 2436: Gardnerella vaginalis\"],[\"Cluster 2426: Neisseria polysaccharea\",\"Cluster 2436: Gardnerella vaginalis\"],[\"Cluster 2328: Neisseria gonorrhoeae\",\"Cluster 2436: Gardnerella vaginalis\"],[\"Cluster 2417: Neisseria meningitidis\",\"Cluster 2436: Gardnerella vaginalis\"],[\"Cluster 1756: Granulicoccus phenolivorans\",\"Cluster 2436: Gardnerella vaginalis\"],[\"Cluster 2348: Gardnerella vaginalis\",\"Cluster 2436: Gardnerella vaginalis\"],[\"Cluster 2365: Bifidobacterium pseudocatenulatum\",\"Cluster 2436: Gardnerella vaginalis\"]],[[\"Cluster 2436: Gardnerella vaginalis\",\"Cluster 2421: Chlamydia trachomatis\"],[\"Cluster 2421: Chlamydia trachomatis\",\"Cluster 2421: Chlamydia trachomatis\"],[\"Cluster 1311: Neisseria lactamica\",\"Cluster 2421: Chlamydia trachomatis\"],[\"Cluster 1530: Neisseria meningitidis\",\"Cluster 2421: Chlamydia trachomatis\"],[\"Cluster 2372: Neisseria meningitidis\",\"Cluster 2421: Chlamydia trachomatis\"],[\"Cluster 2321: Neisseria meningitidis\",\"Cluster 2421: Chlamydia trachomatis\"],[\"Cluster 2415: Neisseria mucosa\",\"Cluster 2421: Chlamydia trachomatis\"],[\"Cluster 2408: Neisseria lactamica\",\"Cluster 2421: Chlamydia trachomatis\"],[\"Cluster 2426: Neisseria polysaccharea\",\"Cluster 2421: Chlamydia trachomatis\"],[\"Cluster 2328: Neisseria gonorrhoeae\",\"Cluster 2421: Chlamydia trachomatis\"],[\"Cluster 2417: Neisseria meningitidis\",\"Cluster 2421: Chlamydia trachomatis\"],[\"Cluster 1756: Granulicoccus phenolivorans\",\"Cluster 2421: Chlamydia trachomatis\"],[\"Cluster 2348: Gardnerella vaginalis\",\"Cluster 2421: Chlamydia trachomatis\"],[\"Cluster 2365: Bifidobacterium pseudocatenulatum\",\"Cluster 2421: Chlamydia trachomatis\"]],[[\"Cluster 2436: Gardnerella vaginalis\",\"Cluster 1311: Neisseria lactamica\"],[\"Cluster 2421: Chlamydia trachomatis\",\"Cluster 1311: Neisseria lactamica\"],[\"Cluster 1311: Neisseria lactamica\",\"Cluster 1311: Neisseria lactamica\"],[\"Cluster 1530: Neisseria meningitidis\",\"Cluster 1311: Neisseria lactamica\"],[\"Cluster 2372: Neisseria meningitidis\",\"Cluster 1311: Neisseria lactamica\"],[\"Cluster 2321: Neisseria meningitidis\",\"Cluster 1311: Neisseria lactamica\"],[\"Cluster 2415: Neisseria mucosa\",\"Cluster 1311: Neisseria lactamica\"],[\"Cluster 2408: Neisseria lactamica\",\"Cluster 1311: Neisseria lactamica\"],[\"Cluster 2426: Neisseria polysaccharea\",\"Cluster 1311: Neisseria lactamica\"],[\"Cluster 2328: Neisseria gonorrhoeae\",\"Cluster 1311: Neisseria lactamica\"],[\"Cluster 2417: Neisseria meningitidis\",\"Cluster 1311: Neisseria lactamica\"],[\"Cluster 1756: Granulicoccus phenolivorans\",\"Cluster 1311: Neisseria lactamica\"],[\"Cluster 2348: Gardnerella vaginalis\",\"Cluster 1311: Neisseria lactamica\"],[\"Cluster 2365: Bifidobacterium pseudocatenulatum\",\"Cluster 1311: Neisseria lactamica\"]],[[\"Cluster 2436: Gardnerella vaginalis\",\"Cluster 1530: Neisseria meningitidis\"],[\"Cluster 2421: Chlamydia trachomatis\",\"Cluster 1530: Neisseria meningitidis\"],[\"Cluster 1311: Neisseria lactamica\",\"Cluster 1530: Neisseria meningitidis\"],[\"Cluster 1530: Neisseria meningitidis\",\"Cluster 1530: Neisseria meningitidis\"],[\"Cluster 2372: Neisseria meningitidis\",\"Cluster 1530: Neisseria meningitidis\"],[\"Cluster 2321: Neisseria meningitidis\",\"Cluster 1530: Neisseria meningitidis\"],[\"Cluster 2415: Neisseria mucosa\",\"Cluster 1530: Neisseria meningitidis\"],[\"Cluster 2408: Neisseria lactamica\",\"Cluster 1530: Neisseria meningitidis\"],[\"Cluster 2426: Neisseria polysaccharea\",\"Cluster 1530: Neisseria meningitidis\"],[\"Cluster 2328: Neisseria gonorrhoeae\",\"Cluster 1530: Neisseria meningitidis\"],[\"Cluster 2417: Neisseria meningitidis\",\"Cluster 1530: Neisseria meningitidis\"],[\"Cluster 1756: Granulicoccus phenolivorans\",\"Cluster 1530: Neisseria meningitidis\"],[\"Cluster 2348: Gardnerella vaginalis\",\"Cluster 1530: Neisseria meningitidis\"],[\"Cluster 2365: Bifidobacterium pseudocatenulatum\",\"Cluster 1530: Neisseria meningitidis\"]],[[\"Cluster 2436: Gardnerella vaginalis\",\"Cluster 2372: Neisseria meningitidis\"],[\"Cluster 2421: Chlamydia trachomatis\",\"Cluster 2372: Neisseria meningitidis\"],[\"Cluster 1311: Neisseria lactamica\",\"Cluster 2372: Neisseria meningitidis\"],[\"Cluster 1530: Neisseria meningitidis\",\"Cluster 2372: Neisseria meningitidis\"],[\"Cluster 2372: Neisseria meningitidis\",\"Cluster 2372: Neisseria meningitidis\"],[\"Cluster 2321: Neisseria meningitidis\",\"Cluster 2372: Neisseria meningitidis\"],[\"Cluster 2415: Neisseria mucosa\",\"Cluster 2372: Neisseria meningitidis\"],[\"Cluster 2408: Neisseria lactamica\",\"Cluster 2372: Neisseria meningitidis\"],[\"Cluster 2426: Neisseria polysaccharea\",\"Cluster 2372: Neisseria meningitidis\"],[\"Cluster 2328: Neisseria gonorrhoeae\",\"Cluster 2372: Neisseria meningitidis\"],[\"Cluster 2417: Neisseria meningitidis\",\"Cluster 2372: Neisseria meningitidis\"],[\"Cluster 1756: Granulicoccus phenolivorans\",\"Cluster 2372: Neisseria meningitidis\"],[\"Cluster 2348: Gardnerella vaginalis\",\"Cluster 2372: Neisseria meningitidis\"],[\"Cluster 2365: Bifidobacterium pseudocatenulatum\",\"Cluster 2372: Neisseria meningitidis\"]],[[\"Cluster 2436: Gardnerella vaginalis\",\"Cluster 2321: Neisseria meningitidis\"],[\"Cluster 2421: Chlamydia trachomatis\",\"Cluster 2321: Neisseria meningitidis\"],[\"Cluster 1311: Neisseria lactamica\",\"Cluster 2321: Neisseria meningitidis\"],[\"Cluster 1530: Neisseria meningitidis\",\"Cluster 2321: Neisseria meningitidis\"],[\"Cluster 2372: Neisseria meningitidis\",\"Cluster 2321: Neisseria meningitidis\"],[\"Cluster 2321: Neisseria meningitidis\",\"Cluster 2321: Neisseria meningitidis\"],[\"Cluster 2415: Neisseria mucosa\",\"Cluster 2321: Neisseria meningitidis\"],[\"Cluster 2408: Neisseria lactamica\",\"Cluster 2321: Neisseria meningitidis\"],[\"Cluster 2426: Neisseria polysaccharea\",\"Cluster 2321: Neisseria meningitidis\"],[\"Cluster 2328: Neisseria gonorrhoeae\",\"Cluster 2321: Neisseria meningitidis\"],[\"Cluster 2417: Neisseria meningitidis\",\"Cluster 2321: Neisseria meningitidis\"],[\"Cluster 1756: Granulicoccus phenolivorans\",\"Cluster 2321: Neisseria meningitidis\"],[\"Cluster 2348: Gardnerella vaginalis\",\"Cluster 2321: Neisseria meningitidis\"],[\"Cluster 2365: Bifidobacterium pseudocatenulatum\",\"Cluster 2321: Neisseria meningitidis\"]],[[\"Cluster 2436: Gardnerella vaginalis\",\"Cluster 2415: Neisseria mucosa\"],[\"Cluster 2421: Chlamydia trachomatis\",\"Cluster 2415: Neisseria mucosa\"],[\"Cluster 1311: Neisseria lactamica\",\"Cluster 2415: Neisseria mucosa\"],[\"Cluster 1530: Neisseria meningitidis\",\"Cluster 2415: Neisseria mucosa\"],[\"Cluster 2372: Neisseria meningitidis\",\"Cluster 2415: Neisseria mucosa\"],[\"Cluster 2321: Neisseria meningitidis\",\"Cluster 2415: Neisseria mucosa\"],[\"Cluster 2415: Neisseria mucosa\",\"Cluster 2415: Neisseria mucosa\"],[\"Cluster 2408: Neisseria lactamica\",\"Cluster 2415: Neisseria mucosa\"],[\"Cluster 2426: Neisseria polysaccharea\",\"Cluster 2415: Neisseria mucosa\"],[\"Cluster 2328: Neisseria gonorrhoeae\",\"Cluster 2415: Neisseria mucosa\"],[\"Cluster 2417: Neisseria meningitidis\",\"Cluster 2415: Neisseria mucosa\"],[\"Cluster 1756: Granulicoccus phenolivorans\",\"Cluster 2415: Neisseria mucosa\"],[\"Cluster 2348: Gardnerella vaginalis\",\"Cluster 2415: Neisseria mucosa\"],[\"Cluster 2365: Bifidobacterium pseudocatenulatum\",\"Cluster 2415: Neisseria mucosa\"]],[[\"Cluster 2436: Gardnerella vaginalis\",\"Cluster 2408: Neisseria lactamica\"],[\"Cluster 2421: Chlamydia trachomatis\",\"Cluster 2408: Neisseria lactamica\"],[\"Cluster 1311: Neisseria lactamica\",\"Cluster 2408: Neisseria lactamica\"],[\"Cluster 1530: Neisseria meningitidis\",\"Cluster 2408: Neisseria lactamica\"],[\"Cluster 2372: Neisseria meningitidis\",\"Cluster 2408: Neisseria lactamica\"],[\"Cluster 2321: Neisseria meningitidis\",\"Cluster 2408: Neisseria lactamica\"],[\"Cluster 2415: Neisseria mucosa\",\"Cluster 2408: Neisseria lactamica\"],[\"Cluster 2408: Neisseria lactamica\",\"Cluster 2408: Neisseria lactamica\"],[\"Cluster 2426: Neisseria polysaccharea\",\"Cluster 2408: Neisseria lactamica\"],[\"Cluster 2328: Neisseria gonorrhoeae\",\"Cluster 2408: Neisseria lactamica\"],[\"Cluster 2417: Neisseria meningitidis\",\"Cluster 2408: Neisseria lactamica\"],[\"Cluster 1756: Granulicoccus phenolivorans\",\"Cluster 2408: Neisseria lactamica\"],[\"Cluster 2348: Gardnerella vaginalis\",\"Cluster 2408: Neisseria lactamica\"],[\"Cluster 2365: Bifidobacterium pseudocatenulatum\",\"Cluster 2408: Neisseria lactamica\"]],[[\"Cluster 2436: Gardnerella vaginalis\",\"Cluster 2426: Neisseria polysaccharea\"],[\"Cluster 2421: Chlamydia trachomatis\",\"Cluster 2426: Neisseria polysaccharea\"],[\"Cluster 1311: Neisseria lactamica\",\"Cluster 2426: Neisseria polysaccharea\"],[\"Cluster 1530: Neisseria meningitidis\",\"Cluster 2426: Neisseria polysaccharea\"],[\"Cluster 2372: Neisseria meningitidis\",\"Cluster 2426: Neisseria polysaccharea\"],[\"Cluster 2321: Neisseria meningitidis\",\"Cluster 2426: Neisseria polysaccharea\"],[\"Cluster 2415: Neisseria mucosa\",\"Cluster 2426: Neisseria polysaccharea\"],[\"Cluster 2408: Neisseria lactamica\",\"Cluster 2426: Neisseria polysaccharea\"],[\"Cluster 2426: Neisseria polysaccharea\",\"Cluster 2426: Neisseria polysaccharea\"],[\"Cluster 2328: Neisseria gonorrhoeae\",\"Cluster 2426: Neisseria polysaccharea\"],[\"Cluster 2417: Neisseria meningitidis\",\"Cluster 2426: Neisseria polysaccharea\"],[\"Cluster 1756: Granulicoccus phenolivorans\",\"Cluster 2426: Neisseria polysaccharea\"],[\"Cluster 2348: Gardnerella vaginalis\",\"Cluster 2426: Neisseria polysaccharea\"],[\"Cluster 2365: Bifidobacterium pseudocatenulatum\",\"Cluster 2426: Neisseria polysaccharea\"]],[[\"Cluster 2436: Gardnerella vaginalis\",\"Cluster 2328: Neisseria gonorrhoeae\"],[\"Cluster 2421: Chlamydia trachomatis\",\"Cluster 2328: Neisseria gonorrhoeae\"],[\"Cluster 1311: Neisseria lactamica\",\"Cluster 2328: Neisseria gonorrhoeae\"],[\"Cluster 1530: Neisseria meningitidis\",\"Cluster 2328: Neisseria gonorrhoeae\"],[\"Cluster 2372: Neisseria meningitidis\",\"Cluster 2328: Neisseria gonorrhoeae\"],[\"Cluster 2321: Neisseria meningitidis\",\"Cluster 2328: Neisseria gonorrhoeae\"],[\"Cluster 2415: Neisseria mucosa\",\"Cluster 2328: Neisseria gonorrhoeae\"],[\"Cluster 2408: Neisseria lactamica\",\"Cluster 2328: Neisseria gonorrhoeae\"],[\"Cluster 2426: Neisseria polysaccharea\",\"Cluster 2328: Neisseria gonorrhoeae\"],[\"Cluster 2328: Neisseria gonorrhoeae\",\"Cluster 2328: Neisseria gonorrhoeae\"],[\"Cluster 2417: Neisseria meningitidis\",\"Cluster 2328: Neisseria gonorrhoeae\"],[\"Cluster 1756: Granulicoccus phenolivorans\",\"Cluster 2328: Neisseria gonorrhoeae\"],[\"Cluster 2348: Gardnerella vaginalis\",\"Cluster 2328: Neisseria gonorrhoeae\"],[\"Cluster 2365: Bifidobacterium pseudocatenulatum\",\"Cluster 2328: Neisseria gonorrhoeae\"]],[[\"Cluster 2436: Gardnerella vaginalis\",\"Cluster 2417: Neisseria meningitidis\"],[\"Cluster 2421: Chlamydia trachomatis\",\"Cluster 2417: Neisseria meningitidis\"],[\"Cluster 1311: Neisseria lactamica\",\"Cluster 2417: Neisseria meningitidis\"],[\"Cluster 1530: Neisseria meningitidis\",\"Cluster 2417: Neisseria meningitidis\"],[\"Cluster 2372: Neisseria meningitidis\",\"Cluster 2417: Neisseria meningitidis\"],[\"Cluster 2321: Neisseria meningitidis\",\"Cluster 2417: Neisseria meningitidis\"],[\"Cluster 2415: Neisseria mucosa\",\"Cluster 2417: Neisseria meningitidis\"],[\"Cluster 2408: Neisseria lactamica\",\"Cluster 2417: Neisseria meningitidis\"],[\"Cluster 2426: Neisseria polysaccharea\",\"Cluster 2417: Neisseria meningitidis\"],[\"Cluster 2328: Neisseria gonorrhoeae\",\"Cluster 2417: Neisseria meningitidis\"],[\"Cluster 2417: Neisseria meningitidis\",\"Cluster 2417: Neisseria meningitidis\"],[\"Cluster 1756: Granulicoccus phenolivorans\",\"Cluster 2417: Neisseria meningitidis\"],[\"Cluster 2348: Gardnerella vaginalis\",\"Cluster 2417: Neisseria meningitidis\"],[\"Cluster 2365: Bifidobacterium pseudocatenulatum\",\"Cluster 2417: Neisseria meningitidis\"]],[[\"Cluster 2436: Gardnerella vaginalis\",\"Cluster 1756: Granulicoccus phenolivorans\"],[\"Cluster 2421: Chlamydia trachomatis\",\"Cluster 1756: Granulicoccus phenolivorans\"],[\"Cluster 1311: Neisseria lactamica\",\"Cluster 1756: Granulicoccus phenolivorans\"],[\"Cluster 1530: Neisseria meningitidis\",\"Cluster 1756: Granulicoccus phenolivorans\"],[\"Cluster 2372: Neisseria meningitidis\",\"Cluster 1756: Granulicoccus phenolivorans\"],[\"Cluster 2321: Neisseria meningitidis\",\"Cluster 1756: Granulicoccus phenolivorans\"],[\"Cluster 2415: Neisseria mucosa\",\"Cluster 1756: Granulicoccus phenolivorans\"],[\"Cluster 2408: Neisseria lactamica\",\"Cluster 1756: Granulicoccus phenolivorans\"],[\"Cluster 2426: Neisseria polysaccharea\",\"Cluster 1756: Granulicoccus phenolivorans\"],[\"Cluster 2328: Neisseria gonorrhoeae\",\"Cluster 1756: Granulicoccus phenolivorans\"],[\"Cluster 2417: Neisseria meningitidis\",\"Cluster 1756: Granulicoccus phenolivorans\"],[\"Cluster 1756: Granulicoccus phenolivorans\",\"Cluster 1756: Granulicoccus phenolivorans\"],[\"Cluster 2348: Gardnerella vaginalis\",\"Cluster 1756: Granulicoccus phenolivorans\"],[\"Cluster 2365: Bifidobacterium pseudocatenulatum\",\"Cluster 1756: Granulicoccus phenolivorans\"]],[[\"Cluster 2436: Gardnerella vaginalis\",\"Cluster 2348: Gardnerella vaginalis\"],[\"Cluster 2421: Chlamydia trachomatis\",\"Cluster 2348: Gardnerella vaginalis\"],[\"Cluster 1311: Neisseria lactamica\",\"Cluster 2348: Gardnerella vaginalis\"],[\"Cluster 1530: Neisseria meningitidis\",\"Cluster 2348: Gardnerella vaginalis\"],[\"Cluster 2372: Neisseria meningitidis\",\"Cluster 2348: Gardnerella vaginalis\"],[\"Cluster 2321: Neisseria meningitidis\",\"Cluster 2348: Gardnerella vaginalis\"],[\"Cluster 2415: Neisseria mucosa\",\"Cluster 2348: Gardnerella vaginalis\"],[\"Cluster 2408: Neisseria lactamica\",\"Cluster 2348: Gardnerella vaginalis\"],[\"Cluster 2426: Neisseria polysaccharea\",\"Cluster 2348: Gardnerella vaginalis\"],[\"Cluster 2328: Neisseria gonorrhoeae\",\"Cluster 2348: Gardnerella vaginalis\"],[\"Cluster 2417: Neisseria meningitidis\",\"Cluster 2348: Gardnerella vaginalis\"],[\"Cluster 1756: Granulicoccus phenolivorans\",\"Cluster 2348: Gardnerella vaginalis\"],[\"Cluster 2348: Gardnerella vaginalis\",\"Cluster 2348: Gardnerella vaginalis\"],[\"Cluster 2365: Bifidobacterium pseudocatenulatum\",\"Cluster 2348: Gardnerella vaginalis\"]],[[\"Cluster 2436: Gardnerella vaginalis\",\"Cluster 2365: Bifidobacterium pseudocatenulatum\"],[\"Cluster 2421: Chlamydia trachomatis\",\"Cluster 2365: Bifidobacterium pseudocatenulatum\"],[\"Cluster 1311: Neisseria lactamica\",\"Cluster 2365: Bifidobacterium pseudocatenulatum\"],[\"Cluster 1530: Neisseria meningitidis\",\"Cluster 2365: Bifidobacterium pseudocatenulatum\"],[\"Cluster 2372: Neisseria meningitidis\",\"Cluster 2365: Bifidobacterium pseudocatenulatum\"],[\"Cluster 2321: Neisseria meningitidis\",\"Cluster 2365: Bifidobacterium pseudocatenulatum\"],[\"Cluster 2415: Neisseria mucosa\",\"Cluster 2365: Bifidobacterium pseudocatenulatum\"],[\"Cluster 2408: Neisseria lactamica\",\"Cluster 2365: Bifidobacterium pseudocatenulatum\"],[\"Cluster 2426: Neisseria polysaccharea\",\"Cluster 2365: Bifidobacterium pseudocatenulatum\"],[\"Cluster 2328: Neisseria gonorrhoeae\",\"Cluster 2365: Bifidobacterium pseudocatenulatum\"],[\"Cluster 2417: Neisseria meningitidis\",\"Cluster 2365: Bifidobacterium pseudocatenulatum\"],[\"Cluster 1756: Granulicoccus phenolivorans\",\"Cluster 2365: Bifidobacterium pseudocatenulatum\"],[\"Cluster 2348: Gardnerella vaginalis\",\"Cluster 2365: Bifidobacterium pseudocatenulatum\"],[\"Cluster 2365: Bifidobacterium pseudocatenulatum\",\"Cluster 2365: Bifidobacterium pseudocatenulatum\"]]],\"colorscale\":[[0.0,\"#000004\"],[0.00392156862745098,\"#010005\"],[0.00784313725490196,\"#010106\"],[0.011764705882352941,\"#010108\"],[0.01568627450980392,\"#020109\"],[0.0196078431372549,\"#02020B\"],[0.023529411764705882,\"#02020D\"],[0.027450980392156862,\"#03030F\"],[0.03137254901960784,\"#030312\"],[0.03529411764705882,\"#040414\"],[0.0392156862745098,\"#050416\"],[0.043137254901960784,\"#060518\"],[0.047058823529411764,\"#06051A\"],[0.050980392156862744,\"#07061C\"],[0.054901960784313725,\"#08071E\"],[0.058823529411764705,\"#090720\"],[0.06274509803921569,\"#0A0822\"],[0.06666666666666667,\"#0B0924\"],[0.07058823529411765,\"#0C0926\"],[0.07450980392156863,\"#0D0A29\"],[0.0784313725490196,\"#0E0B2B\"],[0.08235294117647059,\"#100B2D\"],[0.08627450980392157,\"#110C2F\"],[0.09019607843137255,\"#120D31\"],[0.09411764705882353,\"#130D34\"],[0.09803921568627451,\"#140E36\"],[0.10196078431372549,\"#150E38\"],[0.10588235294117647,\"#160F3B\"],[0.10980392156862745,\"#180F3D\"],[0.11372549019607843,\"#19103F\"],[0.11764705882352941,\"#1A1042\"],[0.12156862745098039,\"#1C1044\"],[0.12549019607843137,\"#1D1147\"],[0.12941176470588237,\"#1E1149\"],[0.13333333333333333,\"#20114B\"],[0.13725490196078433,\"#21114E\"],[0.1411764705882353,\"#221150\"],[0.1450980392156863,\"#241253\"],[0.14901960784313725,\"#251255\"],[0.15294117647058825,\"#271258\"],[0.1568627450980392,\"#29115A\"],[0.1607843137254902,\"#2A115C\"],[0.16470588235294117,\"#2C115F\"],[0.16862745098039217,\"#2D1161\"],[0.17254901960784313,\"#2F1163\"],[0.17647058823529413,\"#311165\"],[0.1803921568627451,\"#331067\"],[0.1843137254901961,\"#341069\"],[0.18823529411764706,\"#36106B\"],[0.19215686274509805,\"#38106C\"],[0.19607843137254902,\"#390F6E\"],[0.2,\"#3B0F70\"],[0.20392156862745098,\"#3D0F71\"],[0.20784313725490197,\"#3F0F72\"],[0.21176470588235294,\"#400F74\"],[0.21568627450980393,\"#420F75\"],[0.2196078431372549,\"#440F76\"],[0.2235294117647059,\"#451077\"],[0.22745098039215686,\"#471078\"],[0.23137254901960785,\"#491078\"],[0.23529411764705882,\"#4A1079\"],[0.23921568627450981,\"#4C117A\"],[0.24313725490196078,\"#4E117B\"],[0.24705882352941178,\"#4F127B\"],[0.25098039215686274,\"#51127C\"],[0.2549019607843137,\"#52137C\"],[0.25882352941176473,\"#54137D\"],[0.2627450980392157,\"#56147D\"],[0.26666666666666666,\"#57157E\"],[0.27058823529411763,\"#59157E\"],[0.27450980392156865,\"#5A167E\"],[0.2784313725490196,\"#5C167F\"],[0.2823529411764706,\"#5D177F\"],[0.28627450980392155,\"#5F187F\"],[0.2901960784313726,\"#601880\"],[0.29411764705882354,\"#621980\"],[0.2980392156862745,\"#641A80\"],[0.30196078431372547,\"#651A80\"],[0.3058823529411765,\"#671B80\"],[0.30980392156862746,\"#681C81\"],[0.3137254901960784,\"#6A1C81\"],[0.3176470588235294,\"#6B1D81\"],[0.3215686274509804,\"#6D1D81\"],[0.3254901960784314,\"#6E1E81\"],[0.32941176470588235,\"#701F81\"],[0.3333333333333333,\"#721F81\"],[0.33725490196078434,\"#732081\"],[0.3411764705882353,\"#752181\"],[0.34509803921568627,\"#762181\"],[0.34901960784313724,\"#782281\"],[0.35294117647058826,\"#792282\"],[0.3568627450980392,\"#7B2382\"],[0.3607843137254902,\"#7C2382\"],[0.36470588235294116,\"#7E2482\"],[0.3686274509803922,\"#802582\"],[0.37254901960784315,\"#812581\"],[0.3764705882352941,\"#832681\"],[0.3803921568627451,\"#842681\"],[0.3843137254901961,\"#862781\"],[0.38823529411764707,\"#882781\"],[0.39215686274509803,\"#892881\"],[0.396078431372549,\"#8B2981\"],[0.4,\"#8C2981\"],[0.403921568627451,\"#8E2A81\"],[0.40784313725490196,\"#902A81\"],[0.4117647058823529,\"#912B81\"],[0.41568627450980394,\"#932B80\"],[0.4196078431372549,\"#942C80\"],[0.4235294117647059,\"#962C80\"],[0.42745098039215684,\"#982D80\"],[0.43137254901960786,\"#992D80\"],[0.43529411764705883,\"#9B2E7F\"],[0.4392156862745098,\"#9C2E7F\"],[0.44313725490196076,\"#9E2F7F\"],[0.4470588235294118,\"#A02F7F\"],[0.45098039215686275,\"#A1307E\"],[0.4549019607843137,\"#A3307E\"],[0.4588235294117647,\"#A5317E\"],[0.4627450980392157,\"#A6317D\"],[0.4666666666666667,\"#A8327D\"],[0.47058823529411764,\"#AA337D\"],[0.4745098039215686,\"#AB337C\"],[0.47843137254901963,\"#AD347C\"],[0.4823529411764706,\"#AE347B\"],[0.48627450980392156,\"#B0357B\"],[0.49019607843137253,\"#B2357B\"],[0.49411764705882355,\"#B3367A\"],[0.4980392156862745,\"#B5367A\"],[0.5019607843137255,\"#B73779\"],[0.5058823529411764,\"#B83779\"],[0.5098039215686274,\"#BA3878\"],[0.5137254901960784,\"#BC3978\"],[0.5176470588235295,\"#BD3977\"],[0.5215686274509804,\"#BF3A77\"],[0.5254901960784314,\"#C03A76\"],[0.5294117647058824,\"#C23B75\"],[0.5333333333333333,\"#C43C75\"],[0.5372549019607843,\"#C53C74\"],[0.5411764705882353,\"#C73D73\"],[0.5450980392156862,\"#C83E73\"],[0.5490196078431373,\"#CA3E72\"],[0.5529411764705883,\"#CC3F71\"],[0.5568627450980392,\"#CD4071\"],[0.5607843137254902,\"#CF4070\"],[0.5647058823529412,\"#D0416F\"],[0.5686274509803921,\"#D2426F\"],[0.5725490196078431,\"#D3436E\"],[0.5764705882352941,\"#D5446D\"],[0.5803921568627451,\"#D6456C\"],[0.5843137254901961,\"#D8456C\"],[0.5882352941176471,\"#D9466B\"],[0.592156862745098,\"#DB476A\"],[0.596078431372549,\"#DC4869\"],[0.6,\"#DE4968\"],[0.6039215686274509,\"#DF4A68\"],[0.6078431372549019,\"#E04C67\"],[0.611764705882353,\"#E24D66\"],[0.615686274509804,\"#E34E65\"],[0.6196078431372549,\"#E44F64\"],[0.6235294117647059,\"#E55064\"],[0.6274509803921569,\"#E75263\"],[0.6313725490196078,\"#E85362\"],[0.6352941176470588,\"#E95462\"],[0.6392156862745098,\"#EA5661\"],[0.6431372549019608,\"#EB5760\"],[0.6470588235294118,\"#EC5860\"],[0.6509803921568628,\"#ED5A5F\"],[0.6549019607843137,\"#EE5B5E\"],[0.6588235294117647,\"#EF5D5E\"],[0.6627450980392157,\"#F05F5E\"],[0.6666666666666666,\"#F1605D\"],[0.6705882352941176,\"#F2625D\"],[0.6745098039215687,\"#F2645C\"],[0.6784313725490196,\"#F3655C\"],[0.6823529411764706,\"#F4675C\"],[0.6862745098039216,\"#F4695C\"],[0.6901960784313725,\"#F56B5C\"],[0.6941176470588235,\"#F66C5C\"],[0.6980392156862745,\"#F66E5C\"],[0.7019607843137254,\"#F7705C\"],[0.7058823529411765,\"#F7725C\"],[0.7098039215686275,\"#F8745C\"],[0.7137254901960784,\"#F8765C\"],[0.7176470588235294,\"#F9785D\"],[0.7215686274509804,\"#F9795D\"],[0.7254901960784313,\"#F97B5D\"],[0.7294117647058823,\"#FA7D5E\"],[0.7333333333333333,\"#FA7F5E\"],[0.7372549019607844,\"#FA815F\"],[0.7411764705882353,\"#FB835F\"],[0.7450980392156863,\"#FB8560\"],[0.7490196078431373,\"#FB8761\"],[0.7529411764705882,\"#FC8961\"],[0.7568627450980392,\"#FC8A62\"],[0.7607843137254902,\"#FC8C63\"],[0.7647058823529411,\"#FC8E64\"],[0.7686274509803922,\"#FC9065\"],[0.7725490196078432,\"#FD9266\"],[0.7764705882352941,\"#FD9467\"],[0.7803921568627451,\"#FD9668\"],[0.7843137254901961,\"#FD9869\"],[0.788235294117647,\"#FD9A6A\"],[0.792156862745098,\"#FD9B6B\"],[0.796078431372549,\"#FE9D6C\"],[0.8,\"#FE9F6D\"],[0.803921568627451,\"#FEA16E\"],[0.807843137254902,\"#FEA36F\"],[0.8117647058823529,\"#FEA571\"],[0.8156862745098039,\"#FEA772\"],[0.8196078431372549,\"#FEA973\"],[0.8235294117647058,\"#FEAA74\"],[0.8274509803921568,\"#FEAC76\"],[0.8313725490196079,\"#FEAE77\"],[0.8352941176470589,\"#FEB078\"],[0.8392156862745098,\"#FEB27A\"],[0.8431372549019608,\"#FEB47B\"],[0.8470588235294118,\"#FEB67C\"],[0.8509803921568627,\"#FEB77E\"],[0.8549019607843137,\"#FEB97F\"],[0.8588235294117647,\"#FEBB81\"],[0.8627450980392157,\"#FEBD82\"],[0.8666666666666667,\"#FEBF84\"],[0.8705882352941177,\"#FEC185\"],[0.8745098039215686,\"#FEC287\"],[0.8784313725490196,\"#FEC488\"],[0.8823529411764706,\"#FEC68A\"],[0.8862745098039215,\"#FEC88C\"],[0.8901960784313725,\"#FECA8D\"],[0.8941176470588236,\"#FECC8F\"],[0.8980392156862745,\"#FECD90\"],[0.9019607843137255,\"#FECF92\"],[0.9058823529411765,\"#FED194\"],[0.9098039215686274,\"#FED395\"],[0.9137254901960784,\"#FED597\"],[0.9176470588235294,\"#FED799\"],[0.9215686274509803,\"#FED89A\"],[0.9254901960784314,\"#FDDA9C\"],[0.9294117647058824,\"#FDDC9E\"],[0.9333333333333333,\"#FDDEA0\"],[0.9372549019607843,\"#FDE0A1\"],[0.9411764705882353,\"#FDE2A3\"],[0.9450980392156862,\"#FDE3A5\"],[0.9490196078431372,\"#FDE5A7\"],[0.9529411764705882,\"#FDE7A9\"],[0.9568627450980393,\"#FDE9AA\"],[0.9607843137254902,\"#FDEBAC\"],[0.9647058823529412,\"#FCECAE\"],[0.9686274509803922,\"#FCEEB0\"],[0.9725490196078431,\"#FCF0B2\"],[0.9764705882352941,\"#FCF2B4\"],[0.9803921568627451,\"#FCF4B6\"],[0.984313725490196,\"#FCF6B8\"],[0.9882352941176471,\"#FCF7B9\"],[0.9921568627450981,\"#FCF9BB\"],[0.996078431372549,\"#FCFBBD\"],[1.0,\"#FCFDBF\"]],\"z\":[[0.96604276,0.98375285,0.9985596,0.9984686,0.9979185,0.9984581,0.9987858,0.9987598,0.99877226,0.96718717,0.998363,0.99930155,0.99466884,0.9959202],[0.98375285,0.619491,0.999245,0.9991197,0.99855256,0.9987473,0.9987238,0.99893415,0.9995867,0.99859774,0.99878985,0.9994606,0.9993351,0.99944973],[0.9985596,0.999245,0.00052438385,0.5565011,0.725437,0.76225734,0.75574183,0.95405984,0.9489718,0.9533789,0.9475046,0.999224,0.99871284,0.99809116],[0.9984686,0.9991197,0.5565011,0.0054347827,0.7160714,0.74773675,0.74108887,0.9536091,0.9492094,0.95331854,0.9478372,0.9993097,0.9990998,0.9976671],[0.9979185,0.99855256,0.725437,0.7160714,0.3657861,0.6838366,0.67368424,0.9592391,0.9482836,0.9553185,0.94718885,0.9985396,0.9988088,0.99806666],[0.9984581,0.9987473,0.76225734,0.74773675,0.6838366,0.19636884,0.58134997,0.9566539,0.94523734,0.94625634,0.9449814,0.99809206,0.999003,0.99776036],[0.9987858,0.9987238,0.75574183,0.74108887,0.67368424,0.58134997,0.55783546,0.9547318,0.9467765,0.95169467,0.94708663,0.99874514,0.99908817,0.9978042],[0.9987598,0.99893415,0.95405984,0.9536091,0.9592391,0.9566539,0.9547318,0.4900645,0.7283431,0.75974154,0.73318106,0.9986389,0.99914265,0.9973897],[0.99877226,0.9995867,0.9489718,0.9492094,0.9482836,0.94523734,0.9467765,0.7283431,0.6688838,0.73327845,0.6903253,0.9982388,0.99935126,0.9973095],[0.96718717,0.99859774,0.9533789,0.95331854,0.9553185,0.94625634,0.95169467,0.75974154,0.73327845,0.2099478,0.64918464,0.9984896,0.9981766,0.9968659],[0.998363,0.99878985,0.9475046,0.9478372,0.94718885,0.9449814,0.94708663,0.73318106,0.6903253,0.64918464,0.5688817,0.99819756,0.99868745,0.9975825],[0.99930155,0.9994606,0.999224,0.9993097,0.9985396,0.99809206,0.99874514,0.9986389,0.9982388,0.9984896,0.99819756,0.01681466,0.9891395,0.9965444],[0.99466884,0.9993351,0.99871284,0.9990998,0.9988088,0.999003,0.99908817,0.99914265,0.99935126,0.9981766,0.99868745,0.9891395,0.28909692,0.9966936],[0.9959202,0.99944973,0.99809116,0.9976671,0.99806666,0.99776036,0.9978042,0.9973897,0.9973095,0.9968659,0.9975825,0.9965444,0.9966936,0.346541]],\"hovertemplate\":\"%{customdata[0]}<br>\\n%{customdata[1]}<br>\\n%{z:.3f}\\n<extra></extra>\\n\",\"x\":[0.5000000000000004,7.664414002968975,19.341492255000286,21.341492255000286,23.341492255000286,25.755705817373382,27.755705817373382,29.755705817373382,32.487756624942264,34.487756624942264,53.51551300226221,81.21757284789959,83.21757284789959,85.63178641027268,88.63178641027268]},{\"xaxis\":\"x2\",\"colorscale\":[[0.0,\"#BFBFBF\"],[0.05555555555555555,\"#4E79A7\"],[0.1111111111111111,\"#F28E2B\"],[0.16666666666666666,\"#E15759\"],[0.2222222222222222,\"#499894\"],[0.2777777777777778,\"#59A14F\"],[0.3333333333333333,\"#B6992D\"],[0.3888888888888889,\"#B07AA1\"],[0.4444444444444444,\"#D37295\"],[0.5,\"#9D7660\"],[0.5555555555555556,\"#A0CBE8\"],[0.6111111111111112,\"#FFBE7D\"],[0.6666666666666666,\"#FF9D9A\"],[0.7222222222222222,\"#86BCB6\"],[0.7777777777777778,\"#8CD17D\"],[0.8333333333333334,\"#F1CE63\"],[0.8888888888888888,\"#D4A6C8\"],[0.9444444444444444,\"#FABFD2\"],[1.0,\"#D7B5A6\"]],\"text\":[[\"Cluster 2436\"],[\"Cluster 2421\"],[\"Cluster 1311\"],[\"Cluster 1530\"],[\"Cluster 2372\"],[\"Cluster 2321\"],[\"Cluster 2415\"],[\"Cluster 2408\"],[\"Cluster 2426\"],[\"Cluster 2328\"],[\"Cluster 2417\"],[\"Cluster 1756\"],[\"Cluster 2348\"],[\"Cluster 2365\"]],\"showscale\":false,\"customdata\":[[[\"Gardnerella vaginalis\"]],[[\"Chlamydia trachomatis\"]],[[\"Neisseria lactamica\"]],[[\"Neisseria meningitidis\"]],[[\"Neisseria meningitidis\"]],[[\"Neisseria meningitidis\"]],[[\"Neisseria mucosa\"]],[[\"Neisseria lactamica\"]],[[\"Neisseria polysaccharea\"]],[[\"Neisseria gonorrhoeae\"]],[[\"Neisseria meningitidis\"]],[[\"Granulicoccus phenolivorans\"]],[[\"Gardnerella vaginalis\"]],[[\"Bifidobacterium pseudocatenulatum\"]]],\"zmin\":0,\"z\":[[3],[2],[6],[7],[7],[7],[8],[6],[9],[5],[7],[4],[3],[1]],\"ygap\":1,\"zmax\":18,\"y\":[0.5000000000000004,7.664414002968975,19.341492255000286,21.341492255000286,23.341492255000286,25.755705817373382,27.755705817373382,29.755705817373382,32.487756624942264,34.487756624942264,53.51551300226221,81.21757284789959,83.21757284789959,85.63178641027268,88.63178641027268],\"type\":\"heatmap\",\"hovertemplate\":\"<b>%{text}</b><br>\\n%{customdata[0]}\\n<extra></extra>\\n\"}],{\"showlegend\":false,\"xaxis\":{\"rangemode\":\"nonnegative\",\"domain\":[0.0,0.272108843537415],\"autorange\":\"reversed\"},\"hovermode\":\"closest\",\"xaxis2\":{\"visible\":false,\"domain\":[0.27891156462585037,0.3129251700680272]},\"height\":750,\"margin\":{\"l\":50,\"b\":50,\"r\":50,\"t\":60},\"yaxis\":{\"visible\":false},\"xaxis3\":{\"scaleanchor\":\"y\",\"visible\":false,\"domain\":[0.3197278911564626,1.0]},\"width\":1000},{}); gd.on(\"plotly_hover\",(function (data){var filtered_data=WebIO.PlotlyCommands.filterEventData(gd,data,\"hover\"); return !(filtered_data.isnil) ? (WebIO.setval({\"name\":\"hover\",\"scope\":\"13925179724236524620\",\"id\":\"7762498918354160312\",\"type\":\"observable\"},filtered_data.out)) : undefined})); gd.on(\"plotly_unhover\",(function (){return WebIO.setval({\"name\":\"hover\",\"scope\":\"13925179724236524620\",\"id\":\"7762498918354160312\",\"type\":\"observable\"},{})})); gd.on(\"plotly_selected\",(function (data){var filtered_data=WebIO.PlotlyCommands.filterEventData(gd,data,\"selected\"); return !(filtered_data.isnil) ? (WebIO.setval({\"name\":\"selected\",\"scope\":\"13925179724236524620\",\"id\":\"15591980028490563419\",\"type\":\"observable\"},filtered_data.out)) : undefined})); gd.on(\"plotly_deselect\",(function (){return WebIO.setval({\"name\":\"selected\",\"scope\":\"13925179724236524620\",\"id\":\"15591980028490563419\",\"type\":\"observable\"},{})})); gd.on(\"plotly_relayout\",(function (data){var filtered_data=WebIO.PlotlyCommands.filterEventData(gd,data,\"relayout\"); return !(filtered_data.isnil) ? (WebIO.setval({\"name\":\"relayout\",\"scope\":\"13925179724236524620\",\"id\":\"15802813030334744242\",\"type\":\"observable\"},filtered_data.out)) : undefined})); return gd.on(\"plotly_click\",(function (data){var filtered_data=WebIO.PlotlyCommands.filterEventData(gd,data,\"click\"); return !(filtered_data.isnil) ? (WebIO.setval({\"name\":\"click\",\"scope\":\"13925179724236524620\",\"id\":\"6138878057098371540\",\"type\":\"observable\"},filtered_data.out)) : undefined}))}));\n    (WebIO.importBlock({\"data\":[{\"name\":\"Plotly\",\"type\":\"js\",\"url\":\"/assetserver/e6903599031aaef8675931dfcd7df98a1aeffbfc-plotly-latest.min.js\"},{\"name\":null,\"type\":\"js\",\"url\":\"/assetserver/74a5dea81f21b0b802ef1ee92f1c8a504eac1a0c-plotly_webio.bundle.js\"}],\"type\":\"async_block\"})).then((imports) => handler.apply(this, imports));\n}\n"
        ],
        "observables": {
         "__gd_contents": {
          "id": "18081126273051792779",
          "sync": false,
          "value": {}
         },
         "__get_gd_contents": {
          "id": "6392439800951927600",
          "sync": false,
          "value": ""
         },
         "_commands": {
          "id": "1885903002262966398",
          "sync": false,
          "value": []
         },
         "_downloadImage": {
          "id": "9428503077399525589",
          "sync": false,
          "value": {}
         },
         "_toImage": {
          "id": "7718664093415920831",
          "sync": false,
          "value": {}
         },
         "click": {
          "id": "6138878057098371540",
          "sync": false,
          "value": {}
         },
         "hover": {
          "id": "7762498918354160312",
          "sync": false,
          "value": {}
         },
         "image": {
          "id": "7061266256219069128",
          "sync": true,
          "value": ""
         },
         "relayout": {
          "id": "15802813030334744242",
          "sync": false,
          "value": {}
         },
         "selected": {
          "id": "15591980028490563419",
          "sync": false,
          "value": {}
         }
        },
        "systemjs_options": null
       },
       "nodeType": "Scope",
       "props": {},
       "type": "node"
      },
      "image/png": "[encoded data removed]",
      "image/svg+xml": [
       "<svg class=\"main-svg\" xmlns=\"http://www.w3.org/2000/svg\" xmlns:xlink=\"http://www.w3.org/1999/xlink\" width=\"700\" height=\"500\" style=\"\" viewBox=\"0 0 700 500\"><rect x=\"0\" y=\"0\" width=\"700\" height=\"500\" style=\"fill: rgb(255, 255, 255); fill-opacity: 1;\"/><defs id=\"defs-62d2fb\"><g class=\"clips\"><clipPath id=\"clip62d2fbxyplot\" class=\"plotclip\"><rect width=\"152.10884353741497\" height=\"390\"/></clipPath><clipPath id=\"clip62d2fbx2yplot\" class=\"plotclip\"><rect width=\"19.01360544217686\" height=\"390\"/></clipPath><clipPath id=\"clip62d2fbx3yplot\" class=\"plotclip\"><rect width=\"380.2721088435374\" height=\"390\"/></clipPath><clipPath class=\"axesclip\" id=\"clip62d2fbx\"><rect x=\"50\" y=\"0\" width=\"152.10884353741497\" height=\"500\"/></clipPath><clipPath class=\"axesclip\" id=\"clip62d2fby\"><rect x=\"0\" y=\"60\" width=\"700\" height=\"390\"/></clipPath><clipPath class=\"axesclip\" id=\"clip62d2fbxy\"><rect x=\"50\" y=\"60\" width=\"152.10884353741497\" height=\"390\"/></clipPath><clipPath class=\"axesclip\" id=\"clip62d2fbx2\"><rect x=\"205.91156462585036\" y=\"0\" width=\"19.01360544217686\" height=\"500\"/></clipPath><clipPath class=\"axesclip\" id=\"clip62d2fbx2y\"><rect x=\"205.91156462585036\" y=\"60\" width=\"19.01360544217686\" height=\"390\"/></clipPath><clipPath class=\"axesclip\" id=\"clip62d2fbx3\"><rect x=\"228.7278911564626\" y=\"0\" width=\"380.2721088435374\" height=\"500\"/></clipPath><clipPath class=\"axesclip\" id=\"clip62d2fbx3y\"><rect x=\"228.7278911564626\" y=\"60\" width=\"380.2721088435374\" height=\"390\"/></clipPath></g><g class=\"gradients\"><linearGradient x1=\"0\" x2=\"0\" y1=\"1\" y2=\"0\" id=\"g62d2fb-cb634fac\"><stop offset=\"0%\" stop-color=\"rgb(0, 0, 4)\" stop-opacity=\"1\"/><stop offset=\"0.39215686274509803%\" stop-color=\"rgb(1, 0, 5)\" stop-opacity=\"1\"/><stop offset=\"0.7843137254901961%\" stop-color=\"rgb(1, 1, 6)\" stop-opacity=\"1\"/><stop offset=\"1.1764705882352942%\" stop-color=\"rgb(1, 1, 8)\" stop-opacity=\"1\"/><stop offset=\"1.5686274509803921%\" stop-color=\"rgb(2, 1, 9)\" stop-opacity=\"1\"/><stop offset=\"1.9607843137254901%\" stop-color=\"rgb(2, 2, 11)\" stop-opacity=\"1\"/><stop offset=\"2.3529411764705883%\" stop-color=\"rgb(2, 2, 13)\" stop-opacity=\"1\"/><stop offset=\"2.7450980392156863%\" stop-color=\"rgb(3, 3, 15)\" stop-opacity=\"1\"/><stop offset=\"3.1372549019607843%\" stop-color=\"rgb(3, 3, 18)\" stop-opacity=\"1\"/><stop offset=\"3.5294117647058822%\" stop-color=\"rgb(4, 4, 20)\" stop-opacity=\"1\"/><stop offset=\"3.9215686274509802%\" stop-color=\"rgb(5, 4, 22)\" stop-opacity=\"1\"/><stop offset=\"4.313725490196078%\" stop-color=\"rgb(6, 5, 24)\" stop-opacity=\"1\"/><stop offset=\"4.705882352941177%\" stop-color=\"rgb(6, 5, 26)\" stop-opacity=\"1\"/><stop offset=\"5.098039215686274%\" stop-color=\"rgb(7, 6, 28)\" stop-opacity=\"1\"/><stop offset=\"5.490196078431373%\" stop-color=\"rgb(8, 7, 30)\" stop-opacity=\"1\"/><stop offset=\"5.88235294117647%\" stop-color=\"rgb(9, 7, 32)\" stop-opacity=\"1\"/><stop offset=\"6.2745098039215685%\" stop-color=\"rgb(10, 8, 34)\" stop-opacity=\"1\"/><stop offset=\"6.666666666666667%\" stop-color=\"rgb(11, 9, 36)\" stop-opacity=\"1\"/><stop offset=\"7.0588235294117645%\" stop-color=\"rgb(12, 9, 38)\" stop-opacity=\"1\"/><stop offset=\"7.450980392156863%\" stop-color=\"rgb(13, 10, 41)\" stop-opacity=\"1\"/><stop offset=\"7.8431372549019605%\" stop-color=\"rgb(14, 11, 43)\" stop-opacity=\"1\"/><stop offset=\"8.235294117647058%\" stop-color=\"rgb(16, 11, 45)\" stop-opacity=\"1\"/><stop offset=\"8.627450980392156%\" stop-color=\"rgb(17, 12, 47)\" stop-opacity=\"1\"/><stop offset=\"9.019607843137255%\" stop-color=\"rgb(18, 13, 49)\" stop-opacity=\"1\"/><stop offset=\"9.411764705882353%\" stop-color=\"rgb(19, 13, 52)\" stop-opacity=\"1\"/><stop offset=\"9.803921568627452%\" stop-color=\"rgb(20, 14, 54)\" stop-opacity=\"1\"/><stop offset=\"10.196078431372548%\" stop-color=\"rgb(21, 14, 56)\" stop-opacity=\"1\"/><stop offset=\"10.588235294117647%\" stop-color=\"rgb(22, 15, 59)\" stop-opacity=\"1\"/><stop offset=\"10.980392156862745%\" stop-color=\"rgb(24, 15, 61)\" stop-opacity=\"1\"/><stop offset=\"11.372549019607844%\" stop-color=\"rgb(25, 16, 63)\" stop-opacity=\"1\"/><stop offset=\"11.76470588235294%\" stop-color=\"rgb(26, 16, 66)\" stop-opacity=\"1\"/><stop offset=\"12.156862745098039%\" stop-color=\"rgb(28, 16, 68)\" stop-opacity=\"1\"/><stop offset=\"12.549019607843137%\" stop-color=\"rgb(29, 17, 71)\" stop-opacity=\"1\"/><stop offset=\"12.941176470588237%\" stop-color=\"rgb(30, 17, 73)\" stop-opacity=\"1\"/><stop offset=\"13.333333333333334%\" stop-color=\"rgb(32, 17, 75)\" stop-opacity=\"1\"/><stop offset=\"13.725490196078432%\" stop-color=\"rgb(33, 17, 78)\" stop-opacity=\"1\"/><stop offset=\"14.117647058823529%\" stop-color=\"rgb(34, 17, 80)\" stop-opacity=\"1\"/><stop offset=\"14.50980392156863%\" stop-color=\"rgb(36, 18, 83)\" stop-opacity=\"1\"/><stop offset=\"14.901960784313726%\" stop-color=\"rgb(37, 18, 85)\" stop-opacity=\"1\"/><stop offset=\"15.294117647058824%\" stop-color=\"rgb(39, 18, 88)\" stop-opacity=\"1\"/><stop offset=\"15.686274509803921%\" stop-color=\"rgb(41, 17, 90)\" stop-opacity=\"1\"/><stop offset=\"16.07843137254902%\" stop-color=\"rgb(42, 17, 92)\" stop-opacity=\"1\"/><stop offset=\"16.470588235294116%\" stop-color=\"rgb(44, 17, 95)\" stop-opacity=\"1\"/><stop offset=\"16.862745098039216%\" stop-color=\"rgb(45, 17, 97)\" stop-opacity=\"1\"/><stop offset=\"17.254901960784313%\" stop-color=\"rgb(47, 17, 99)\" stop-opacity=\"1\"/><stop offset=\"17.647058823529413%\" stop-color=\"rgb(49, 17, 101)\" stop-opacity=\"1\"/><stop offset=\"18.03921568627451%\" stop-color=\"rgb(51, 16, 103)\" stop-opacity=\"1\"/><stop offset=\"18.43137254901961%\" stop-color=\"rgb(52, 16, 105)\" stop-opacity=\"1\"/><stop offset=\"18.823529411764707%\" stop-color=\"rgb(54, 16, 107)\" stop-opacity=\"1\"/><stop offset=\"19.215686274509807%\" stop-color=\"rgb(56, 16, 108)\" stop-opacity=\"1\"/><stop offset=\"19.607843137254903%\" stop-color=\"rgb(57, 15, 110)\" stop-opacity=\"1\"/><stop offset=\"20%\" stop-color=\"rgb(59, 15, 112)\" stop-opacity=\"1\"/><stop offset=\"20.392156862745097%\" stop-color=\"rgb(61, 15, 113)\" stop-opacity=\"1\"/><stop offset=\"20.784313725490197%\" stop-color=\"rgb(63, 15, 114)\" stop-opacity=\"1\"/><stop offset=\"21.176470588235293%\" stop-color=\"rgb(64, 15, 116)\" stop-opacity=\"1\"/><stop offset=\"21.568627450980394%\" stop-color=\"rgb(66, 15, 117)\" stop-opacity=\"1\"/><stop offset=\"21.96078431372549%\" stop-color=\"rgb(68, 15, 118)\" stop-opacity=\"1\"/><stop offset=\"22.35294117647059%\" stop-color=\"rgb(69, 16, 119)\" stop-opacity=\"1\"/><stop offset=\"22.745098039215687%\" stop-color=\"rgb(71, 16, 120)\" stop-opacity=\"1\"/><stop offset=\"23.137254901960784%\" stop-color=\"rgb(73, 16, 120)\" stop-opacity=\"1\"/><stop offset=\"23.52941176470588%\" stop-color=\"rgb(74, 16, 121)\" stop-opacity=\"1\"/><stop offset=\"23.92156862745098%\" stop-color=\"rgb(76, 17, 122)\" stop-opacity=\"1\"/><stop offset=\"24.313725490196077%\" stop-color=\"rgb(78, 17, 123)\" stop-opacity=\"1\"/><stop offset=\"24.705882352941178%\" stop-color=\"rgb(79, 18, 123)\" stop-opacity=\"1\"/><stop offset=\"25.098039215686274%\" stop-color=\"rgb(81, 18, 124)\" stop-opacity=\"1\"/><stop offset=\"25.49019607843137%\" stop-color=\"rgb(82, 19, 124)\" stop-opacity=\"1\"/><stop offset=\"25.882352941176475%\" stop-color=\"rgb(84, 19, 125)\" stop-opacity=\"1\"/><stop offset=\"26.27450980392157%\" stop-color=\"rgb(86, 20, 125)\" stop-opacity=\"1\"/><stop offset=\"26.666666666666668%\" stop-color=\"rgb(87, 21, 126)\" stop-opacity=\"1\"/><stop offset=\"27.058823529411764%\" stop-color=\"rgb(89, 21, 126)\" stop-opacity=\"1\"/><stop offset=\"27.450980392156865%\" stop-color=\"rgb(90, 22, 126)\" stop-opacity=\"1\"/><stop offset=\"27.84313725490196%\" stop-color=\"rgb(92, 22, 127)\" stop-opacity=\"1\"/><stop offset=\"28.235294117647058%\" stop-color=\"rgb(93, 23, 127)\" stop-opacity=\"1\"/><stop offset=\"28.627450980392155%\" stop-color=\"rgb(95, 24, 127)\" stop-opacity=\"1\"/><stop offset=\"29.01960784313726%\" stop-color=\"rgb(96, 24, 128)\" stop-opacity=\"1\"/><stop offset=\"29.411764705882355%\" stop-color=\"rgb(98, 25, 128)\" stop-opacity=\"1\"/><stop offset=\"29.80392156862745%\" stop-color=\"rgb(100, 26, 128)\" stop-opacity=\"1\"/><stop offset=\"30.19607843137255%\" stop-color=\"rgb(101, 26, 128)\" stop-opacity=\"1\"/><stop offset=\"30.58823529411765%\" stop-color=\"rgb(103, 27, 128)\" stop-opacity=\"1\"/><stop offset=\"30.980392156862745%\" stop-color=\"rgb(104, 28, 129)\" stop-opacity=\"1\"/><stop offset=\"31.372549019607842%\" stop-color=\"rgb(106, 28, 129)\" stop-opacity=\"1\"/><stop offset=\"31.76470588235294%\" stop-color=\"rgb(107, 29, 129)\" stop-opacity=\"1\"/><stop offset=\"32.15686274509804%\" stop-color=\"rgb(109, 29, 129)\" stop-opacity=\"1\"/><stop offset=\"32.549019607843135%\" stop-color=\"rgb(110, 30, 129)\" stop-opacity=\"1\"/><stop offset=\"32.94117647058823%\" stop-color=\"rgb(112, 31, 129)\" stop-opacity=\"1\"/><stop offset=\"33.33333333333333%\" stop-color=\"rgb(114, 31, 129)\" stop-opacity=\"1\"/><stop offset=\"33.72549019607843%\" stop-color=\"rgb(115, 32, 129)\" stop-opacity=\"1\"/><stop offset=\"34.11764705882353%\" stop-color=\"rgb(117, 33, 129)\" stop-opacity=\"1\"/><stop offset=\"34.509803921568626%\" stop-color=\"rgb(118, 33, 129)\" stop-opacity=\"1\"/><stop offset=\"34.90196078431372%\" stop-color=\"rgb(120, 34, 129)\" stop-opacity=\"1\"/><stop offset=\"35.294117647058826%\" stop-color=\"rgb(121, 34, 130)\" stop-opacity=\"1\"/><stop offset=\"35.68627450980392%\" stop-color=\"rgb(123, 35, 130)\" stop-opacity=\"1\"/><stop offset=\"36.07843137254902%\" stop-color=\"rgb(124, 35, 130)\" stop-opacity=\"1\"/><stop offset=\"36.470588235294116%\" stop-color=\"rgb(126, 36, 130)\" stop-opacity=\"1\"/><stop offset=\"36.86274509803922%\" stop-color=\"rgb(128, 37, 130)\" stop-opacity=\"1\"/><stop offset=\"37.254901960784316%\" stop-color=\"rgb(129, 37, 129)\" stop-opacity=\"1\"/><stop offset=\"37.64705882352941%\" stop-color=\"rgb(131, 38, 129)\" stop-opacity=\"1\"/><stop offset=\"38.03921568627451%\" stop-color=\"rgb(132, 38, 129)\" stop-opacity=\"1\"/><stop offset=\"38.43137254901961%\" stop-color=\"rgb(134, 39, 129)\" stop-opacity=\"1\"/><stop offset=\"38.82352941176471%\" stop-color=\"rgb(136, 39, 129)\" stop-opacity=\"1\"/><stop offset=\"39.21568627450981%\" stop-color=\"rgb(137, 40, 129)\" stop-opacity=\"1\"/><stop offset=\"39.6078431372549%\" stop-color=\"rgb(139, 41, 129)\" stop-opacity=\"1\"/><stop offset=\"40%\" stop-color=\"rgb(140, 41, 129)\" stop-opacity=\"1\"/><stop offset=\"40.3921568627451%\" stop-color=\"rgb(142, 42, 129)\" stop-opacity=\"1\"/><stop offset=\"40.78431372549019%\" stop-color=\"rgb(144, 42, 129)\" stop-opacity=\"1\"/><stop offset=\"41.17647058823529%\" stop-color=\"rgb(145, 43, 129)\" stop-opacity=\"1\"/><stop offset=\"41.568627450980394%\" stop-color=\"rgb(147, 43, 128)\" stop-opacity=\"1\"/><stop offset=\"41.96078431372549%\" stop-color=\"rgb(148, 44, 128)\" stop-opacity=\"1\"/><stop offset=\"42.35294117647059%\" stop-color=\"rgb(150, 44, 128)\" stop-opacity=\"1\"/><stop offset=\"42.745098039215684%\" stop-color=\"rgb(152, 45, 128)\" stop-opacity=\"1\"/><stop offset=\"43.13725490196079%\" stop-color=\"rgb(153, 45, 128)\" stop-opacity=\"1\"/><stop offset=\"43.529411764705884%\" stop-color=\"rgb(155, 46, 127)\" stop-opacity=\"1\"/><stop offset=\"43.92156862745098%\" stop-color=\"rgb(156, 46, 127)\" stop-opacity=\"1\"/><stop offset=\"44.31372549019608%\" stop-color=\"rgb(158, 47, 127)\" stop-opacity=\"1\"/><stop offset=\"44.70588235294118%\" stop-color=\"rgb(160, 47, 127)\" stop-opacity=\"1\"/><stop offset=\"45.09803921568628%\" stop-color=\"rgb(161, 48, 126)\" stop-opacity=\"1\"/><stop offset=\"45.490196078431374%\" stop-color=\"rgb(163, 48, 126)\" stop-opacity=\"1\"/><stop offset=\"45.88235294117647%\" stop-color=\"rgb(165, 49, 126)\" stop-opacity=\"1\"/><stop offset=\"46.27450980392157%\" stop-color=\"rgb(166, 49, 125)\" stop-opacity=\"1\"/><stop offset=\"46.666666666666664%\" stop-color=\"rgb(168, 50, 125)\" stop-opacity=\"1\"/><stop offset=\"47.05882352941176%\" stop-color=\"rgb(170, 51, 125)\" stop-opacity=\"1\"/><stop offset=\"47.45098039215686%\" stop-color=\"rgb(171, 51, 124)\" stop-opacity=\"1\"/><stop offset=\"47.84313725490196%\" stop-color=\"rgb(173, 52, 124)\" stop-opacity=\"1\"/><stop offset=\"48.23529411764706%\" stop-color=\"rgb(174, 52, 123)\" stop-opacity=\"1\"/><stop offset=\"48.627450980392155%\" stop-color=\"rgb(176, 53, 123)\" stop-opacity=\"1\"/><stop offset=\"49.01960784313725%\" stop-color=\"rgb(178, 53, 123)\" stop-opacity=\"1\"/><stop offset=\"49.411764705882355%\" stop-color=\"rgb(179, 54, 122)\" stop-opacity=\"1\"/><stop offset=\"49.80392156862745%\" stop-color=\"rgb(181, 54, 122)\" stop-opacity=\"1\"/><stop offset=\"50.19607843137255%\" stop-color=\"rgb(183, 55, 121)\" stop-opacity=\"1\"/><stop offset=\"50.588235294117645%\" stop-color=\"rgb(184, 55, 121)\" stop-opacity=\"1\"/><stop offset=\"50.98039215686274%\" stop-color=\"rgb(186, 56, 120)\" stop-opacity=\"1\"/><stop offset=\"51.37254901960784%\" stop-color=\"rgb(188, 57, 120)\" stop-opacity=\"1\"/><stop offset=\"51.76470588235295%\" stop-color=\"rgb(189, 57, 119)\" stop-opacity=\"1\"/><stop offset=\"52.156862745098046%\" stop-color=\"rgb(191, 58, 119)\" stop-opacity=\"1\"/><stop offset=\"52.54901960784314%\" stop-color=\"rgb(192, 58, 118)\" stop-opacity=\"1\"/><stop offset=\"52.94117647058824%\" stop-color=\"rgb(194, 59, 117)\" stop-opacity=\"1\"/><stop offset=\"53.333333333333336%\" stop-color=\"rgb(196, 60, 117)\" stop-opacity=\"1\"/><stop offset=\"53.72549019607843%\" stop-color=\"rgb(197, 60, 116)\" stop-opacity=\"1\"/><stop offset=\"54.11764705882353%\" stop-color=\"rgb(199, 61, 115)\" stop-opacity=\"1\"/><stop offset=\"54.509803921568626%\" stop-color=\"rgb(200, 62, 115)\" stop-opacity=\"1\"/><stop offset=\"54.90196078431373%\" stop-color=\"rgb(202, 62, 114)\" stop-opacity=\"1\"/><stop offset=\"55.294117647058826%\" stop-color=\"rgb(204, 63, 113)\" stop-opacity=\"1\"/><stop offset=\"55.68627450980392%\" stop-color=\"rgb(205, 64, 113)\" stop-opacity=\"1\"/><stop offset=\"56.07843137254902%\" stop-color=\"rgb(207, 64, 112)\" stop-opacity=\"1\"/><stop offset=\"56.470588235294116%\" stop-color=\"rgb(208, 65, 111)\" stop-opacity=\"1\"/><stop offset=\"56.86274509803921%\" stop-color=\"rgb(210, 66, 111)\" stop-opacity=\"1\"/><stop offset=\"57.25490196078431%\" stop-color=\"rgb(211, 67, 110)\" stop-opacity=\"1\"/><stop offset=\"57.647058823529406%\" stop-color=\"rgb(213, 68, 109)\" stop-opacity=\"1\"/><stop offset=\"58.03921568627452%\" stop-color=\"rgb(214, 69, 108)\" stop-opacity=\"1\"/><stop offset=\"58.43137254901961%\" stop-color=\"rgb(216, 69, 108)\" stop-opacity=\"1\"/><stop offset=\"58.82352941176471%\" stop-color=\"rgb(217, 70, 107)\" stop-opacity=\"1\"/><stop offset=\"59.21568627450981%\" stop-color=\"rgb(219, 71, 106)\" stop-opacity=\"1\"/><stop offset=\"59.6078431372549%\" stop-color=\"rgb(220, 72, 105)\" stop-opacity=\"1\"/><stop offset=\"60%\" stop-color=\"rgb(222, 73, 104)\" stop-opacity=\"1\"/><stop offset=\"60.3921568627451%\" stop-color=\"rgb(223, 74, 104)\" stop-opacity=\"1\"/><stop offset=\"60.78431372549019%\" stop-color=\"rgb(224, 76, 103)\" stop-opacity=\"1\"/><stop offset=\"61.1764705882353%\" stop-color=\"rgb(226, 77, 102)\" stop-opacity=\"1\"/><stop offset=\"61.568627450980394%\" stop-color=\"rgb(227, 78, 101)\" stop-opacity=\"1\"/><stop offset=\"61.96078431372549%\" stop-color=\"rgb(228, 79, 100)\" stop-opacity=\"1\"/><stop offset=\"62.35294117647059%\" stop-color=\"rgb(229, 80, 100)\" stop-opacity=\"1\"/><stop offset=\"62.745098039215684%\" stop-color=\"rgb(231, 82, 99)\" stop-opacity=\"1\"/><stop offset=\"63.13725490196078%\" stop-color=\"rgb(232, 83, 98)\" stop-opacity=\"1\"/><stop offset=\"63.52941176470588%\" stop-color=\"rgb(233, 84, 98)\" stop-opacity=\"1\"/><stop offset=\"63.921568627450974%\" stop-color=\"rgb(234, 86, 97)\" stop-opacity=\"1\"/><stop offset=\"64.31372549019608%\" stop-color=\"rgb(235, 87, 96)\" stop-opacity=\"1\"/><stop offset=\"64.70588235294117%\" stop-color=\"rgb(236, 88, 96)\" stop-opacity=\"1\"/><stop offset=\"65.09803921568627%\" stop-color=\"rgb(237, 90, 95)\" stop-opacity=\"1\"/><stop offset=\"65.49019607843137%\" stop-color=\"rgb(238, 91, 94)\" stop-opacity=\"1\"/><stop offset=\"65.88235294117646%\" stop-color=\"rgb(239, 93, 94)\" stop-opacity=\"1\"/><stop offset=\"66.27450980392156%\" stop-color=\"rgb(240, 95, 94)\" stop-opacity=\"1\"/><stop offset=\"66.66666666666666%\" stop-color=\"rgb(241, 96, 93)\" stop-opacity=\"1\"/><stop offset=\"67.05882352941175%\" stop-color=\"rgb(242, 98, 93)\" stop-opacity=\"1\"/><stop offset=\"67.45098039215686%\" stop-color=\"rgb(242, 100, 92)\" stop-opacity=\"1\"/><stop offset=\"67.84313725490196%\" stop-color=\"rgb(243, 101, 92)\" stop-opacity=\"1\"/><stop offset=\"68.23529411764706%\" stop-color=\"rgb(244, 103, 92)\" stop-opacity=\"1\"/><stop offset=\"68.62745098039215%\" stop-color=\"rgb(244, 105, 92)\" stop-opacity=\"1\"/><stop offset=\"69.01960784313725%\" stop-color=\"rgb(245, 107, 92)\" stop-opacity=\"1\"/><stop offset=\"69.41176470588235%\" stop-color=\"rgb(246, 108, 92)\" stop-opacity=\"1\"/><stop offset=\"69.80392156862744%\" stop-color=\"rgb(246, 110, 92)\" stop-opacity=\"1\"/><stop offset=\"70.19607843137254%\" stop-color=\"rgb(247, 112, 92)\" stop-opacity=\"1\"/><stop offset=\"70.58823529411765%\" stop-color=\"rgb(247, 114, 92)\" stop-opacity=\"1\"/><stop offset=\"70.98039215686275%\" stop-color=\"rgb(248, 116, 92)\" stop-opacity=\"1\"/><stop offset=\"71.37254901960785%\" stop-color=\"rgb(248, 118, 92)\" stop-opacity=\"1\"/><stop offset=\"71.76470588235294%\" stop-color=\"rgb(249, 120, 93)\" stop-opacity=\"1\"/><stop offset=\"72.15686274509804%\" stop-color=\"rgb(249, 121, 93)\" stop-opacity=\"1\"/><stop offset=\"72.54901960784314%\" stop-color=\"rgb(249, 123, 93)\" stop-opacity=\"1\"/><stop offset=\"72.94117647058823%\" stop-color=\"rgb(250, 125, 94)\" stop-opacity=\"1\"/><stop offset=\"73.33333333333333%\" stop-color=\"rgb(250, 127, 94)\" stop-opacity=\"1\"/><stop offset=\"73.72549019607844%\" stop-color=\"rgb(250, 129, 95)\" stop-opacity=\"1\"/><stop offset=\"74.11764705882354%\" stop-color=\"rgb(251, 131, 95)\" stop-opacity=\"1\"/><stop offset=\"74.50980392156863%\" stop-color=\"rgb(251, 133, 96)\" stop-opacity=\"1\"/><stop offset=\"74.90196078431373%\" stop-color=\"rgb(251, 135, 97)\" stop-opacity=\"1\"/><stop offset=\"75.29411764705883%\" stop-color=\"rgb(252, 137, 97)\" stop-opacity=\"1\"/><stop offset=\"75.68627450980392%\" stop-color=\"rgb(252, 138, 98)\" stop-opacity=\"1\"/><stop offset=\"76.07843137254902%\" stop-color=\"rgb(252, 140, 99)\" stop-opacity=\"1\"/><stop offset=\"76.47058823529412%\" stop-color=\"rgb(252, 142, 100)\" stop-opacity=\"1\"/><stop offset=\"76.86274509803923%\" stop-color=\"rgb(252, 144, 101)\" stop-opacity=\"1\"/><stop offset=\"77.25490196078432%\" stop-color=\"rgb(253, 146, 102)\" stop-opacity=\"1\"/><stop offset=\"77.64705882352942%\" stop-color=\"rgb(253, 148, 103)\" stop-opacity=\"1\"/><stop offset=\"78.03921568627452%\" stop-color=\"rgb(253, 150, 104)\" stop-opacity=\"1\"/><stop offset=\"78.43137254901961%\" stop-color=\"rgb(253, 152, 105)\" stop-opacity=\"1\"/><stop offset=\"78.82352941176471%\" stop-color=\"rgb(253, 154, 106)\" stop-opacity=\"1\"/><stop offset=\"79.2156862745098%\" stop-color=\"rgb(253, 155, 107)\" stop-opacity=\"1\"/><stop offset=\"79.6078431372549%\" stop-color=\"rgb(254, 157, 108)\" stop-opacity=\"1\"/><stop offset=\"80%\" stop-color=\"rgb(254, 159, 109)\" stop-opacity=\"1\"/><stop offset=\"80.3921568627451%\" stop-color=\"rgb(254, 161, 110)\" stop-opacity=\"1\"/><stop offset=\"80.7843137254902%\" stop-color=\"rgb(254, 163, 111)\" stop-opacity=\"1\"/><stop offset=\"81.17647058823529%\" stop-color=\"rgb(254, 165, 113)\" stop-opacity=\"1\"/><stop offset=\"81.56862745098039%\" stop-color=\"rgb(254, 167, 114)\" stop-opacity=\"1\"/><stop offset=\"81.96078431372548%\" stop-color=\"rgb(254, 169, 115)\" stop-opacity=\"1\"/><stop offset=\"82.35294117647058%\" stop-color=\"rgb(254, 170, 116)\" stop-opacity=\"1\"/><stop offset=\"82.74509803921568%\" stop-color=\"rgb(254, 172, 118)\" stop-opacity=\"1\"/><stop offset=\"83.13725490196079%\" stop-color=\"rgb(254, 174, 119)\" stop-opacity=\"1\"/><stop offset=\"83.52941176470588%\" stop-color=\"rgb(254, 176, 120)\" stop-opacity=\"1\"/><stop offset=\"83.92156862745098%\" stop-color=\"rgb(254, 178, 122)\" stop-opacity=\"1\"/><stop offset=\"84.31372549019608%\" stop-color=\"rgb(254, 180, 123)\" stop-opacity=\"1\"/><stop offset=\"84.70588235294117%\" stop-color=\"rgb(254, 182, 124)\" stop-opacity=\"1\"/><stop offset=\"85.09803921568627%\" stop-color=\"rgb(254, 183, 126)\" stop-opacity=\"1\"/><stop offset=\"85.49019607843137%\" stop-color=\"rgb(254, 185, 127)\" stop-opacity=\"1\"/><stop offset=\"85.88235294117646%\" stop-color=\"rgb(254, 187, 129)\" stop-opacity=\"1\"/><stop offset=\"86.27450980392157%\" stop-color=\"rgb(254, 189, 130)\" stop-opacity=\"1\"/><stop offset=\"86.66666666666667%\" stop-color=\"rgb(254, 191, 132)\" stop-opacity=\"1\"/><stop offset=\"87.05882352941177%\" stop-color=\"rgb(254, 193, 133)\" stop-opacity=\"1\"/><stop offset=\"87.45098039215686%\" stop-color=\"rgb(254, 194, 135)\" stop-opacity=\"1\"/><stop offset=\"87.84313725490196%\" stop-color=\"rgb(254, 196, 136)\" stop-opacity=\"1\"/><stop offset=\"88.23529411764706%\" stop-color=\"rgb(254, 198, 138)\" stop-opacity=\"1\"/><stop offset=\"88.62745098039215%\" stop-color=\"rgb(254, 200, 140)\" stop-opacity=\"1\"/><stop offset=\"89.01960784313725%\" stop-color=\"rgb(254, 202, 141)\" stop-opacity=\"1\"/><stop offset=\"89.41176470588236%\" stop-color=\"rgb(254, 204, 143)\" stop-opacity=\"1\"/><stop offset=\"89.80392156862746%\" stop-color=\"rgb(254, 205, 144)\" stop-opacity=\"1\"/><stop offset=\"90.19607843137256%\" stop-color=\"rgb(254, 207, 146)\" stop-opacity=\"1\"/><stop offset=\"90.58823529411765%\" stop-color=\"rgb(254, 209, 148)\" stop-opacity=\"1\"/><stop offset=\"90.98039215686275%\" stop-color=\"rgb(254, 211, 149)\" stop-opacity=\"1\"/><stop offset=\"91.37254901960785%\" stop-color=\"rgb(254, 213, 151)\" stop-opacity=\"1\"/><stop offset=\"91.76470588235294%\" stop-color=\"rgb(254, 215, 153)\" stop-opacity=\"1\"/><stop offset=\"92.15686274509804%\" stop-color=\"rgb(254, 216, 154)\" stop-opacity=\"1\"/><stop offset=\"92.54901960784314%\" stop-color=\"rgb(253, 218, 156)\" stop-opacity=\"1\"/><stop offset=\"92.94117647058823%\" stop-color=\"rgb(253, 220, 158)\" stop-opacity=\"1\"/><stop offset=\"93.33333333333333%\" stop-color=\"rgb(253, 222, 160)\" stop-opacity=\"1\"/><stop offset=\"93.72549019607843%\" stop-color=\"rgb(253, 224, 161)\" stop-opacity=\"1\"/><stop offset=\"94.11764705882352%\" stop-color=\"rgb(253, 226, 163)\" stop-opacity=\"1\"/><stop offset=\"94.50980392156862%\" stop-color=\"rgb(253, 227, 165)\" stop-opacity=\"1\"/><stop offset=\"94.90196078431372%\" stop-color=\"rgb(253, 229, 167)\" stop-opacity=\"1\"/><stop offset=\"95.29411764705881%\" stop-color=\"rgb(253, 231, 169)\" stop-opacity=\"1\"/><stop offset=\"95.68627450980392%\" stop-color=\"rgb(253, 233, 170)\" stop-opacity=\"1\"/><stop offset=\"96.07843137254902%\" stop-color=\"rgb(253, 235, 172)\" stop-opacity=\"1\"/><stop offset=\"96.47058823529412%\" stop-color=\"rgb(252, 236, 174)\" stop-opacity=\"1\"/><stop offset=\"96.86274509803921%\" stop-color=\"rgb(252, 238, 176)\" stop-opacity=\"1\"/><stop offset=\"97.25490196078431%\" stop-color=\"rgb(252, 240, 178)\" stop-opacity=\"1\"/><stop offset=\"97.6470588235294%\" stop-color=\"rgb(252, 242, 180)\" stop-opacity=\"1\"/><stop offset=\"98.0392156862745%\" stop-color=\"rgb(252, 244, 182)\" stop-opacity=\"1\"/><stop offset=\"98.4313725490196%\" stop-color=\"rgb(252, 246, 184)\" stop-opacity=\"1\"/><stop offset=\"98.82352941176471%\" stop-color=\"rgb(252, 247, 185)\" stop-opacity=\"1\"/><stop offset=\"99.2156862745098%\" stop-color=\"rgb(252, 249, 187)\" stop-opacity=\"1\"/><stop offset=\"99.6078431372549%\" stop-color=\"rgb(252, 251, 189)\" stop-opacity=\"1\"/><stop offset=\"100%\" stop-color=\"rgb(252, 253, 191)\" stop-opacity=\"1\"/></linearGradient></g></defs><g class=\"bglayer\"/><g class=\"layer-below\"><g class=\"imagelayer\"/><g class=\"shapelayer\"/></g><g class=\"cartesianlayer\"><g class=\"subplot xy\"><g class=\"layer-subplot\"><g class=\"shapelayer\"/><g class=\"imagelayer\"/></g><g class=\"gridlayer\"><g class=\"x\"><path class=\"xgrid crisp\" transform=\"translate(62.61,0)\" d=\"M0,60v390\" style=\"stroke: rgb(238, 238, 238); stroke-opacity: 1; stroke-width: 1px;\"/><path class=\"xgrid crisp\" transform=\"translate(132.36,0)\" d=\"M0,60v390\" style=\"stroke: rgb(238, 238, 238); stroke-opacity: 1; stroke-width: 1px;\"/></g><g class=\"y\"/></g><g class=\"zerolinelayer\"><path class=\"xzl zl crisp\" transform=\"translate(202.11,0)\" d=\"M0,60v390\" style=\"stroke: rgb(68, 68, 68); stroke-opacity: 1; stroke-width: 1px;\"/></g><path class=\"xlines-below\"/><path class=\"ylines-below\"/><g class=\"overlines-below\"/><g class=\"xaxislayer-below\"/><g class=\"yaxislayer-below\"/><g class=\"overaxes-below\"/><g class=\"plot\" transform=\"translate(50, 60)\" clip-path=\"url('#clip62d2fbxyplot')\"><g class=\"scatterlayer mlayer\"><g class=\"trace scatter trace3fa27b\" style=\"stroke-miterlimit: 2; opacity: 1;\"><g class=\"fills\"><g><path class=\"js-fill\" d=\"M152.11,38.22L111.78,38.22L111.78,32.53L152.11,32.53Z\" style=\"fill: rgb(225, 87, 89); fill-opacity: 0.5; stroke-width: 0;\"/></g></g><g class=\"errorbars\"/><g class=\"lines\"><path class=\"js-line\" d=\"M152.11,38.22L111.78,38.22L111.78,32.53L152.11,32.53\" style=\"vector-effect: non-scaling-stroke; fill: none; stroke: rgb(225, 87, 89); stroke-opacity: 1; stroke-width: 2px; opacity: 1;\"/></g><g class=\"points\"/><g class=\"text\"/></g><g class=\"trace scatter tracef91bc5\" style=\"stroke-miterlimit: 2; opacity: 1;\"><g class=\"fills\"/><g class=\"errorbars\"/><g class=\"lines\"><path class=\"js-line\" d=\"M51.34,197.76L51.34,103.9\" style=\"vector-effect: non-scaling-stroke; fill: none; stroke: rgb(191, 191, 191); stroke-opacity: 1; stroke-width: 2px; opacity: 1;\"/><path class=\"js-line\" d=\"M51.34,197.76L122.82,197.76\" style=\"vector-effect: non-scaling-stroke; fill: none; stroke: rgb(191, 191, 191); stroke-opacity: 1; stroke-width: 2px; opacity: 1;\"/><path class=\"js-line\" d=\"M51.34,103.9L72.75,103.9\" style=\"vector-effect: non-scaling-stroke; fill: none; stroke: rgb(191, 191, 191); stroke-opacity: 1; stroke-width: 2px; opacity: 1;\"/></g><g class=\"points\"/><g class=\"text\"/></g><g class=\"trace scatter tracebd6642\" style=\"stroke-miterlimit: 2; opacity: 1;\"><g class=\"fills\"/><g class=\"errorbars\"/><g class=\"lines\"><path class=\"js-line\" d=\"M53.15,275.9L53.15,263.02\" style=\"vector-effect: non-scaling-stroke; fill: none; stroke: rgb(191, 191, 191); stroke-opacity: 1; stroke-width: 2px; opacity: 1;\"/><path class=\"js-line\" d=\"M53.15,275.9L101.08,275.9\" style=\"vector-effect: non-scaling-stroke; fill: none; stroke: rgb(191, 191, 191); stroke-opacity: 1; stroke-width: 2px; opacity: 1;\"/><path class=\"js-line\" d=\"M53.15,263.02L67.47,263.02\" style=\"vector-effect: non-scaling-stroke; fill: none; stroke: rgb(191, 191, 191); stroke-opacity: 1; stroke-width: 2px; opacity: 1;\"/></g><g class=\"points\"/><g class=\"text\"/></g><g class=\"trace scatter trace49265d\" style=\"stroke-miterlimit: 2; opacity: 1;\"><g class=\"fills\"/><g class=\"errorbars\"/><g class=\"lines\"><path class=\"js-line\" d=\"M13.01,35.37L13.01,24.5\" style=\"vector-effect: non-scaling-stroke; fill: none; stroke: rgb(191, 191, 191); stroke-opacity: 1; stroke-width: 2px; opacity: 1;\"/><path class=\"js-line\" d=\"M13.01,35.37L111.78,35.37\" style=\"vector-effect: non-scaling-stroke; fill: none; stroke: rgb(191, 191, 191); stroke-opacity: 1; stroke-width: 2px; opacity: 1;\"/><path class=\"js-line\" d=\"M13.01,24.5L103.77,24.5\" style=\"vector-effect: non-scaling-stroke; fill: none; stroke: rgb(191, 191, 191); stroke-opacity: 1; stroke-width: 2px; opacity: 1;\"/></g><g class=\"points\"/><g class=\"text\"/></g><g class=\"trace scatter trace2cf128\" style=\"stroke-miterlimit: 2; opacity: 1;\"><g class=\"fills\"/><g class=\"errorbars\"/><g class=\"lines\"><path class=\"js-line\" d=\"M12.61,358.12L12.61,232.11\" style=\"vector-effect: non-scaling-stroke; fill: none; stroke: rgb(191, 191, 191); stroke-opacity: 1; stroke-width: 2px; opacity: 1;\"/><path class=\"js-line\" d=\"M12.61,358.12L17.34,358.12\" style=\"vector-effect: non-scaling-stroke; fill: none; stroke: rgb(191, 191, 191); stroke-opacity: 1; stroke-width: 2px; opacity: 1;\"/></g><g class=\"points\"/><g class=\"text\"/></g><g class=\"trace scatter tracef78955\" style=\"stroke-miterlimit: 2; opacity: 1;\"><g class=\"fills\"><g><path class=\"js-fill\" d=\"M152.11,261.01L74.29,261.01L74.29,256.99L152.11,256.99Z\" style=\"fill: rgb(211, 114, 149); fill-opacity: 0.5; stroke-width: 0;\"/></g></g><g class=\"errorbars\"/><g class=\"lines\"><path class=\"js-line\" d=\"M152.11,261.01L74.29,261.01L74.29,256.99L152.11,256.99\" style=\"vector-effect: non-scaling-stroke; fill: none; stroke: rgb(211, 114, 149); stroke-opacity: 1; stroke-width: 2px; opacity: 1;\"/></g><g class=\"points\"/><g class=\"text\"/></g><g class=\"trace scatter trace4d982b\" style=\"stroke-miterlimit: 2; opacity: 1;\"><g class=\"fills\"><g><path class=\"js-fill\" d=\"M152.11,157.53L72.75,157.53L72.75,50.27L152.11,50.27Z\" style=\"fill: rgb(176, 122, 161); fill-opacity: 0.5; stroke-width: 0;\"/></g></g><g class=\"errorbars\"/><g class=\"lines\"><path class=\"js-line\" d=\"M152.11,157.53L72.75,157.53L72.75,50.27L152.11,50.27\" style=\"vector-effect: non-scaling-stroke; fill: none; stroke: rgb(176, 122, 161); stroke-opacity: 1; stroke-width: 2px; opacity: 1;\"/></g><g class=\"points\"/><g class=\"text\"/></g><g class=\"trace scatter trace61341d\" style=\"stroke-miterlimit: 2; opacity: 1;\"><g class=\"fills\"/><g class=\"errorbars\"/><g class=\"lines\"><path class=\"js-line\" d=\"M12.63,250.79L12.63,37.09\" style=\"vector-effect: non-scaling-stroke; fill: none; stroke: rgb(191, 191, 191); stroke-opacity: 1; stroke-width: 2px; opacity: 1;\"/><path class=\"js-line\" d=\"M12.63,250.79L17.96,250.79\" style=\"vector-effect: non-scaling-stroke; fill: none; stroke: rgb(191, 191, 191); stroke-opacity: 1; stroke-width: 2px; opacity: 1;\"/><path class=\"js-line\" d=\"M12.63,37.09L12.84,37.09\" style=\"vector-effect: non-scaling-stroke; fill: none; stroke: rgb(191, 191, 191); stroke-opacity: 1; stroke-width: 2px; opacity: 1;\"/></g><g class=\"points\"/><g class=\"text\"/></g><g class=\"trace scatter traceb7a031\" style=\"stroke-miterlimit: 2; opacity: 1;\"><g class=\"fills\"/><g class=\"errorbars\"/><g class=\"lines\"><path class=\"js-line\" d=\"M42.01,249.5L42.01,195.41\" style=\"vector-effect: non-scaling-stroke; fill: none; stroke: rgb(191, 191, 191); stroke-opacity: 1; stroke-width: 2px; opacity: 1;\"/><path class=\"js-line\" d=\"M42.01,249.5L83.74,249.5\" style=\"vector-effect: non-scaling-stroke; fill: none; stroke: rgb(191, 191, 191); stroke-opacity: 1; stroke-width: 2px; opacity: 1;\"/><path class=\"js-line\" d=\"M42.01,195.41L45.59,195.41\" style=\"vector-effect: non-scaling-stroke; fill: none; stroke: rgb(191, 191, 191); stroke-opacity: 1; stroke-width: 2px; opacity: 1;\"/></g><g class=\"points\"/><g class=\"text\"/></g><g class=\"trace scatter trace9cfc41\" style=\"stroke-miterlimit: 2; opacity: 1;\"><g class=\"fills\"/><g class=\"errorbars\"/><g class=\"lines\"><path class=\"js-line\" d=\"M45.59,288.79L45.59,269.46\" style=\"vector-effect: non-scaling-stroke; fill: none; stroke: rgb(191, 191, 191); stroke-opacity: 1; stroke-width: 2px; opacity: 1;\"/><path class=\"js-line\" d=\"M45.59,288.79L74.44,288.79\" style=\"vector-effect: non-scaling-stroke; fill: none; stroke: rgb(191, 191, 191); stroke-opacity: 1; stroke-width: 2px; opacity: 1;\"/><path class=\"js-line\" d=\"M45.59,269.46L53.15,269.46\" style=\"vector-effect: non-scaling-stroke; fill: none; stroke: rgb(191, 191, 191); stroke-opacity: 1; stroke-width: 2px; opacity: 1;\"/></g><g class=\"points\"/><g class=\"text\"/></g><g class=\"trace scatter tracee7c2d1\" style=\"stroke-miterlimit: 2; opacity: 1;\"><g class=\"fills\"><g><path class=\"js-fill\" d=\"M152.11,341.72L65.69,341.72L65.69,298.83L152.11,298.83Z\" style=\"fill: rgb(242, 142, 43); fill-opacity: 0.5; stroke-width: 0;\"/></g></g><g class=\"errorbars\"/><g class=\"lines\"><path class=\"js-line\" d=\"M152.11,341.72L65.69,341.72L65.69,298.83L152.11,298.83\" style=\"vector-effect: non-scaling-stroke; fill: none; stroke: rgb(242, 142, 43); stroke-opacity: 1; stroke-width: 2px; opacity: 1;\"/></g><g class=\"points\"/><g class=\"text\"/></g><g class=\"trace scatter trace47571e\" style=\"stroke-miterlimit: 2; opacity: 1;\"><g class=\"fills\"><g><path class=\"js-fill\" d=\"M152.11,278.74L101.08,278.74L101.08,273.06L152.11,273.06Z\" style=\"fill: rgb(176, 122, 161); fill-opacity: 0.5; stroke-width: 0;\"/></g></g><g class=\"errorbars\"/><g class=\"lines\"><path class=\"js-line\" d=\"M152.11,278.74L101.08,278.74L101.08,273.06L152.11,273.06\" style=\"vector-effect: non-scaling-stroke; fill: none; stroke: rgb(176, 122, 161); stroke-opacity: 1; stroke-width: 2px; opacity: 1;\"/></g><g class=\"points\"/><g class=\"text\"/></g><g class=\"trace scatter trace8f3bee\" style=\"stroke-miterlimit: 2; opacity: 1;\"><g class=\"fills\"><g><path class=\"js-fill\" d=\"M152.11,286.78L151.35,286.78L151.35,282.76L152.11,282.76Z\" style=\"fill: rgb(176, 122, 161); fill-opacity: 0.5; stroke-width: 0;\"/></g></g><g class=\"errorbars\"/><g class=\"lines\"><path class=\"js-line\" d=\"M152.11,286.78L151.35,286.78L151.35,282.76L152.11,282.76\" style=\"vector-effect: non-scaling-stroke; fill: none; stroke: rgb(176, 122, 161); stroke-opacity: 1; stroke-width: 2px; opacity: 1;\"/></g><g class=\"points\"/><g class=\"text\"/></g><g class=\"trace scatter trace44c76b\" style=\"stroke-miterlimit: 2; opacity: 1;\"><g class=\"fills\"><g><path class=\"js-fill\" d=\"M152.11,294.81L152.04,290.79L152.11,290.79Z\" style=\"fill: rgb(182, 153, 45); fill-opacity: 0.5; stroke-width: 0;\"/></g></g><g class=\"errorbars\"/><g class=\"lines\"><path class=\"js-line\" d=\"M152.11,294.81L152.04,290.79L152.11,290.79\" style=\"vector-effect: non-scaling-stroke; fill: none; stroke: rgb(182, 153, 45); stroke-opacity: 1; stroke-width: 2px; opacity: 1;\"/></g><g class=\"points\"/><g class=\"text\"/></g><g class=\"trace scatter traceac1147\" style=\"stroke-miterlimit: 2; opacity: 1;\"><g class=\"fills\"><g><path class=\"js-fill\" d=\"M152.11,252.98L83.74,252.98L83.74,246.02L152.11,246.02Z\" style=\"fill: rgb(182, 153, 45); fill-opacity: 0.5; stroke-width: 0;\"/></g></g><g class=\"errorbars\"/><g class=\"lines\"><path class=\"js-line\" d=\"M152.11,252.98L83.74,252.98L83.74,246.02L152.11,246.02\" style=\"vector-effect: non-scaling-stroke; fill: none; stroke: rgb(182, 153, 45); stroke-opacity: 1; stroke-width: 2px; opacity: 1;\"/></g><g class=\"points\"/><g class=\"text\"/></g><g class=\"trace scatter traceb8d7fa\" style=\"stroke-miterlimit: 2; opacity: 1;\"><g class=\"fills\"/><g class=\"errorbars\"/><g class=\"lines\"><path class=\"js-line\" d=\"M74.44,292.8L74.44,284.77\" style=\"vector-effect: non-scaling-stroke; fill: none; stroke: rgb(191, 191, 191); stroke-opacity: 1; stroke-width: 2px; opacity: 1;\"/><path class=\"js-line\" d=\"M74.44,292.8L152.04,292.8\" style=\"vector-effect: non-scaling-stroke; fill: none; stroke: rgb(191, 191, 191); stroke-opacity: 1; stroke-width: 2px; opacity: 1;\"/><path class=\"js-line\" d=\"M74.44,284.77L151.35,284.77\" style=\"vector-effect: non-scaling-stroke; fill: none; stroke: rgb(191, 191, 191); stroke-opacity: 1; stroke-width: 2px; opacity: 1;\"/></g><g class=\"points\"/><g class=\"text\"/></g><g class=\"trace scatter trace9d9f55\" style=\"stroke-miterlimit: 2; opacity: 1;\"><g class=\"fills\"><g><path class=\"js-fill\" d=\"M152.11,233.97L122.82,233.97L122.82,161.55L152.11,161.55Z\" style=\"fill: rgb(89, 161, 79); fill-opacity: 0.5; stroke-width: 0;\"/></g></g><g class=\"errorbars\"/><g class=\"lines\"><path class=\"js-line\" d=\"M152.11,233.97L122.82,233.97L122.82,161.55L152.11,161.55\" style=\"vector-effect: non-scaling-stroke; fill: none; stroke: rgb(89, 161, 79); stroke-opacity: 1; stroke-width: 2px; opacity: 1;\"/></g><g class=\"points\"/><g class=\"text\"/></g><g class=\"trace scatter trace431aa3\" style=\"stroke-miterlimit: 2; opacity: 1;\"><g class=\"fills\"><g><path class=\"js-fill\" d=\"M152.11,28.52L103.77,28.52L103.77,20.48L152.11,20.48Z\" style=\"fill: rgb(78, 121, 167); fill-opacity: 0.5; stroke-width: 0;\"/></g></g><g class=\"errorbars\"/><g class=\"lines\"><path class=\"js-line\" d=\"M152.11,28.52L103.77,28.52L103.77,20.48L152.11,20.48\" style=\"vector-effect: non-scaling-stroke; fill: none; stroke: rgb(78, 121, 167); stroke-opacity: 1; stroke-width: 2px; opacity: 1;\"/></g><g class=\"points\"/><g class=\"text\"/></g><g class=\"trace scatter tracef1f749\" style=\"stroke-miterlimit: 2; opacity: 1;\"><g class=\"fills\"><g><path class=\"js-fill\" d=\"M152.11,46.25L149.76,46.25L149.76,42.23L152.11,42.23Z\" style=\"fill: rgb(73, 152, 148); fill-opacity: 0.5; stroke-width: 0;\"/></g></g><g class=\"errorbars\"/><g class=\"lines\"><path class=\"js-line\" d=\"M152.11,46.25L149.76,46.25L149.76,42.23L152.11,42.23\" style=\"vector-effect: non-scaling-stroke; fill: none; stroke: rgb(73, 152, 148); stroke-opacity: 1; stroke-width: 2px; opacity: 1;\"/></g><g class=\"points\"/><g class=\"text\"/></g><g class=\"trace scatter trace4f82ba\" style=\"stroke-miterlimit: 2; opacity: 1;\"><g class=\"fills\"/><g class=\"errorbars\"/><g class=\"lines\"><path class=\"js-line\" d=\"M12.61,320.27L12.61,143.94\" style=\"vector-effect: non-scaling-stroke; fill: none; stroke: rgb(191, 191, 191); stroke-opacity: 1; stroke-width: 2px; opacity: 1;\"/><path class=\"js-line\" d=\"M12.61,320.27L65.69,320.27\" style=\"vector-effect: non-scaling-stroke; fill: none; stroke: rgb(191, 191, 191); stroke-opacity: 1; stroke-width: 2px; opacity: 1;\"/></g><g class=\"points\"/><g class=\"text\"/></g><g class=\"trace scatter trace48e1a4\" style=\"stroke-miterlimit: 2; opacity: 1;\"><g class=\"fills\"><g><path class=\"js-fill\" d=\"M152.11,242L58.8,242L58.8,237.98L152.11,237.98Z\" style=\"fill: rgb(157, 118, 96); fill-opacity: 0.5; stroke-width: 0;\"/></g></g><g class=\"errorbars\"/><g class=\"lines\"><path class=\"js-line\" d=\"M152.11,242L58.8,242L58.8,237.98L152.11,237.98\" style=\"vector-effect: non-scaling-stroke; fill: none; stroke: rgb(157, 118, 96); stroke-opacity: 1; stroke-width: 2px; opacity: 1;\"/></g><g class=\"points\"/><g class=\"text\"/></g><g class=\"trace scatter trace991ca0\" style=\"stroke-miterlimit: 2; opacity: 1;\"><g class=\"fills\"/><g class=\"errorbars\"/><g class=\"lines\"><path class=\"js-line\" d=\"M17.96,279.12L17.96,222.45\" style=\"vector-effect: non-scaling-stroke; fill: none; stroke: rgb(191, 191, 191); stroke-opacity: 1; stroke-width: 2px; opacity: 1;\"/><path class=\"js-line\" d=\"M17.96,279.12L45.59,279.12\" style=\"vector-effect: non-scaling-stroke; fill: none; stroke: rgb(191, 191, 191); stroke-opacity: 1; stroke-width: 2px; opacity: 1;\"/><path class=\"js-line\" d=\"M17.96,222.45L42.01,222.45\" style=\"vector-effect: non-scaling-stroke; fill: none; stroke: rgb(191, 191, 191); stroke-opacity: 1; stroke-width: 2px; opacity: 1;\"/></g><g class=\"points\"/><g class=\"text\"/></g><g class=\"trace scatter trace6f2261\" style=\"stroke-miterlimit: 2; opacity: 1;\"><g class=\"fills\"><g><path class=\"js-fill\" d=\"M152.11,370.5L17.34,370.5L17.34,345.74L152.11,345.74Z\" style=\"fill: rgb(225, 87, 89); fill-opacity: 0.5; stroke-width: 0;\"/></g></g><g class=\"errorbars\"/><g class=\"lines\"><path class=\"js-line\" d=\"M152.11,370.5L17.34,370.5L17.34,345.74L152.11,345.74\" style=\"vector-effect: non-scaling-stroke; fill: none; stroke: rgb(225, 87, 89); stroke-opacity: 1; stroke-width: 2px; opacity: 1;\"/></g><g class=\"points\"/><g class=\"text\"/></g><g class=\"trace scatter tracea6f446\" style=\"stroke-miterlimit: 2; opacity: 1;\"><g class=\"fills\"><g><path class=\"js-fill\" d=\"M152.11,269.05L124.71,269.05L124.71,265.03L152.11,265.03Z\" style=\"fill: rgb(176, 122, 161); fill-opacity: 0.5; stroke-width: 0;\"/></g></g><g class=\"errorbars\"/><g class=\"lines\"><path class=\"js-line\" d=\"M152.11,269.05L124.71,269.05L124.71,265.03L152.11,265.03\" style=\"vector-effect: non-scaling-stroke; fill: none; stroke: rgb(176, 122, 161); stroke-opacity: 1; stroke-width: 2px; opacity: 1;\"/></g><g class=\"points\"/><g class=\"text\"/></g><g class=\"trace scatter trace96773d\" style=\"stroke-miterlimit: 2; opacity: 1;\"><g class=\"fills\"/><g class=\"errorbars\"/><g class=\"lines\"><path class=\"js-line\" d=\"M45.59,239.99L45.59,150.83\" style=\"vector-effect: non-scaling-stroke; fill: none; stroke: rgb(191, 191, 191); stroke-opacity: 1; stroke-width: 2px; opacity: 1;\"/><path class=\"js-line\" d=\"M45.59,239.99L58.8,239.99\" style=\"vector-effect: non-scaling-stroke; fill: none; stroke: rgb(191, 191, 191); stroke-opacity: 1; stroke-width: 2px; opacity: 1;\"/><path class=\"js-line\" d=\"M45.59,150.83L51.34,150.83\" style=\"vector-effect: non-scaling-stroke; fill: none; stroke: rgb(191, 191, 191); stroke-opacity: 1; stroke-width: 2px; opacity: 1;\"/></g><g class=\"points\"/><g class=\"text\"/></g><g class=\"trace scatter traced5809b\" style=\"stroke-miterlimit: 2; opacity: 1;\"><g class=\"fills\"/><g class=\"errorbars\"/><g class=\"lines\"><path class=\"js-line\" d=\"M67.47,267.04L67.47,259\" style=\"vector-effect: non-scaling-stroke; fill: none; stroke: rgb(191, 191, 191); stroke-opacity: 1; stroke-width: 2px; opacity: 1;\"/><path class=\"js-line\" d=\"M67.47,267.04L124.71,267.04\" style=\"vector-effect: non-scaling-stroke; fill: none; stroke: rgb(191, 191, 191); stroke-opacity: 1; stroke-width: 2px; opacity: 1;\"/><path class=\"js-line\" d=\"M67.47,259L74.29,259\" style=\"vector-effect: non-scaling-stroke; fill: none; stroke: rgb(191, 191, 191); stroke-opacity: 1; stroke-width: 2px; opacity: 1;\"/></g><g class=\"points\"/><g class=\"text\"/></g><g class=\"trace scatter traced3ed3a\" style=\"stroke-miterlimit: 2; opacity: 1;\"><g class=\"fills\"/><g class=\"errorbars\"/><g class=\"lines\"><path class=\"js-line\" d=\"M12.84,44.24L12.84,29.94\" style=\"vector-effect: non-scaling-stroke; fill: none; stroke: rgb(191, 191, 191); stroke-opacity: 1; stroke-width: 2px; opacity: 1;\"/><path class=\"js-line\" d=\"M12.84,44.24L149.76,44.24\" style=\"vector-effect: non-scaling-stroke; fill: none; stroke: rgb(191, 191, 191); stroke-opacity: 1; stroke-width: 2px; opacity: 1;\"/><path class=\"js-line\" d=\"M12.84,29.94L13.01,29.94\" style=\"vector-effect: non-scaling-stroke; fill: none; stroke: rgb(191, 191, 191); stroke-opacity: 1; stroke-width: 2px; opacity: 1;\"/></g><g class=\"points\"/><g class=\"text\"/></g><g class=\"trace scatter trace80652e\" style=\"stroke-miterlimit: 2; opacity: 1;\"><g class=\"fills\"/><g class=\"errorbars\"/><g class=\"lines\"/><g class=\"points\"><path class=\"point plotly-customdata\" transform=\"translate(111.78,35.37)\" d=\"M4,0A4,4 0 1,1 0,-4A4,4 0 0,1 4,0Z\" style=\"opacity: 0.7; stroke-width: 1px; fill: rgb(225, 87, 89); fill-opacity: 1; stroke: rgb(255, 255, 255); stroke-opacity: 1;\"/><path class=\"point plotly-customdata\" transform=\"translate(51.34,150.83)\" d=\"M2,0A2,2 0 1,1 0,-2A2,2 0 0,1 2,0Z\" style=\"opacity: 0.7; stroke-width: 1px; fill: rgb(191, 191, 191); fill-opacity: 1; stroke: rgb(255, 255, 255); stroke-opacity: 1;\"/><path class=\"point plotly-customdata\" transform=\"translate(53.15,269.46)\" d=\"M4,0A4,4 0 1,1 0,-4A4,4 0 0,1 4,0Z\" style=\"opacity: 0.7; stroke-width: 1px; fill: rgb(191, 191, 191); fill-opacity: 1; stroke: rgb(255, 255, 255); stroke-opacity: 1;\"/><path class=\"point plotly-customdata\" transform=\"translate(13.01,29.94)\" d=\"M2,0A2,2 0 1,1 0,-2A2,2 0 0,1 2,0Z\" style=\"opacity: 0.7; stroke-width: 1px; fill: rgb(191, 191, 191); fill-opacity: 1; stroke: rgb(255, 255, 255); stroke-opacity: 1;\"/><path class=\"point plotly-customdata\" transform=\"translate(12.61,295.11)\" d=\"M4,0A4,4 0 1,1 0,-4A4,4 0 0,1 4,0Z\" style=\"opacity: 0.7; stroke-width: 1px; fill: rgb(191, 191, 191); fill-opacity: 1; stroke: rgb(255, 255, 255); stroke-opacity: 1;\"/><path class=\"point plotly-customdata\" transform=\"translate(74.29,259)\" d=\"M4,0A4,4 0 1,1 0,-4A4,4 0 0,1 4,0Z\" style=\"opacity: 0.7; stroke-width: 1px; fill: rgb(211, 114, 149); fill-opacity: 1; stroke: rgb(255, 255, 255); stroke-opacity: 1;\"/><path class=\"point plotly-customdata\" transform=\"translate(72.75,103.9)\" d=\"M4,0A4,4 0 1,1 0,-4A4,4 0 0,1 4,0Z\" style=\"opacity: 0.7; stroke-width: 1px; fill: rgb(176, 122, 161); fill-opacity: 1; stroke: rgb(255, 255, 255); stroke-opacity: 1;\"/><path class=\"point plotly-customdata\" transform=\"translate(12.63,143.94)\" d=\"M2,0A2,2 0 1,1 0,-2A2,2 0 0,1 2,0Z\" style=\"opacity: 0.7; stroke-width: 1px; fill: rgb(191, 191, 191); fill-opacity: 1; stroke: rgb(255, 255, 255); stroke-opacity: 1;\"/><path class=\"point plotly-customdata\" transform=\"translate(65.69,320.27)\" d=\"M4,0A4,4 0 1,1 0,-4A4,4 0 0,1 4,0Z\" style=\"opacity: 0.7; stroke-width: 1px; fill: rgb(242, 142, 43); fill-opacity: 1; stroke: rgb(255, 255, 255); stroke-opacity: 1;\"/><path class=\"point plotly-customdata\" transform=\"translate(45.59,279.12)\" d=\"M4,0A4,4 0 1,1 0,-4A4,4 0 0,1 4,0Z\" style=\"opacity: 0.7; stroke-width: 1px; fill: rgb(191, 191, 191); fill-opacity: 1; stroke: rgb(255, 255, 255); stroke-opacity: 1;\"/><path class=\"point plotly-customdata\" transform=\"translate(42.01,222.45)\" d=\"M4,0A4,4 0 1,1 0,-4A4,4 0 0,1 4,0Z\" style=\"opacity: 0.7; stroke-width: 1px; fill: rgb(191, 191, 191); fill-opacity: 1; stroke: rgb(255, 255, 255); stroke-opacity: 1;\"/><path class=\"point plotly-customdata\" transform=\"translate(101.08,275.9)\" d=\"M4,0A4,4 0 1,1 0,-4A4,4 0 0,1 4,0Z\" style=\"opacity: 0.7; stroke-width: 1px; fill: rgb(176, 122, 161); fill-opacity: 1; stroke: rgb(255, 255, 255); stroke-opacity: 1;\"/><path class=\"point plotly-customdata\" transform=\"translate(151.35,284.77)\" d=\"M4,0A4,4 0 1,1 0,-4A4,4 0 0,1 4,0Z\" style=\"opacity: 0.7; stroke-width: 1px; fill: rgb(176, 122, 161); fill-opacity: 1; stroke: rgb(255, 255, 255); stroke-opacity: 1;\"/><path class=\"point plotly-customdata\" transform=\"translate(152.04,292.8)\" d=\"M4,0A4,4 0 1,1 0,-4A4,4 0 0,1 4,0Z\" style=\"opacity: 0.7; stroke-width: 1px; fill: rgb(182, 153, 45); fill-opacity: 1; stroke: rgb(255, 255, 255); stroke-opacity: 1;\"/><path class=\"point plotly-customdata\" transform=\"translate(83.74,249.5)\" d=\"M4,0A4,4 0 1,1 0,-4A4,4 0 0,1 4,0Z\" style=\"opacity: 0.7; stroke-width: 1px; fill: rgb(182, 153, 45); fill-opacity: 1; stroke: rgb(255, 255, 255); stroke-opacity: 1;\"/><path class=\"point plotly-customdata\" transform=\"translate(74.44,288.79)\" d=\"M4,0A4,4 0 1,1 0,-4A4,4 0 0,1 4,0Z\" style=\"opacity: 0.7; stroke-width: 1px; fill: rgb(191, 191, 191); fill-opacity: 1; stroke: rgb(255, 255, 255); stroke-opacity: 1;\"/><path class=\"point plotly-customdata\" transform=\"translate(122.82,197.76)\" d=\"M4,0A4,4 0 1,1 0,-4A4,4 0 0,1 4,0Z\" style=\"opacity: 0.7; stroke-width: 1px; fill: rgb(89, 161, 79); fill-opacity: 1; stroke: rgb(255, 255, 255); stroke-opacity: 1;\"/><path class=\"point plotly-customdata\" transform=\"translate(103.77,24.5)\" d=\"M4,0A4,4 0 1,1 0,-4A4,4 0 0,1 4,0Z\" style=\"opacity: 0.7; stroke-width: 1px; fill: rgb(78, 121, 167); fill-opacity: 1; stroke: rgb(255, 255, 255); stroke-opacity: 1;\"/><path class=\"point plotly-customdata\" transform=\"translate(149.76,44.24)\" d=\"M4,0A4,4 0 1,1 0,-4A4,4 0 0,1 4,0Z\" style=\"opacity: 0.7; stroke-width: 1px; fill: rgb(73, 152, 148); fill-opacity: 1; stroke: rgb(255, 255, 255); stroke-opacity: 1;\"/><path class=\"point plotly-customdata\" transform=\"translate(12.61,232.11)\" d=\"M2,0A2,2 0 1,1 0,-2A2,2 0 0,1 2,0Z\" style=\"opacity: 0.7; stroke-width: 1px; fill: rgb(191, 191, 191); fill-opacity: 1; stroke: rgb(255, 255, 255); stroke-opacity: 1;\"/><path class=\"point plotly-customdata\" transform=\"translate(58.8,239.99)\" d=\"M4,0A4,4 0 1,1 0,-4A4,4 0 0,1 4,0Z\" style=\"opacity: 0.7; stroke-width: 1px; fill: rgb(157, 118, 96); fill-opacity: 1; stroke: rgb(255, 255, 255); stroke-opacity: 1;\"/><path class=\"point plotly-customdata\" transform=\"translate(17.96,250.79)\" d=\"M4,0A4,4 0 1,1 0,-4A4,4 0 0,1 4,0Z\" style=\"opacity: 0.7; stroke-width: 1px; fill: rgb(191, 191, 191); fill-opacity: 1; stroke: rgb(255, 255, 255); stroke-opacity: 1;\"/><path class=\"point plotly-customdata\" transform=\"translate(17.34,358.12)\" d=\"M4,0A4,4 0 1,1 0,-4A4,4 0 0,1 4,0Z\" style=\"opacity: 0.7; stroke-width: 1px; fill: rgb(225, 87, 89); fill-opacity: 1; stroke: rgb(255, 255, 255); stroke-opacity: 1;\"/><path class=\"point plotly-customdata\" transform=\"translate(124.71,267.04)\" d=\"M4,0A4,4 0 1,1 0,-4A4,4 0 0,1 4,0Z\" style=\"opacity: 0.7; stroke-width: 1px; fill: rgb(176, 122, 161); fill-opacity: 1; stroke: rgb(255, 255, 255); stroke-opacity: 1;\"/><path class=\"point plotly-customdata\" transform=\"translate(45.59,195.41)\" d=\"M2,0A2,2 0 1,1 0,-2A2,2 0 0,1 2,0Z\" style=\"opacity: 0.7; stroke-width: 1px; fill: rgb(191, 191, 191); fill-opacity: 1; stroke: rgb(255, 255, 255); stroke-opacity: 1;\"/><path class=\"point plotly-customdata\" transform=\"translate(67.47,263.02)\" d=\"M4,0A4,4 0 1,1 0,-4A4,4 0 0,1 4,0Z\" style=\"opacity: 0.7; stroke-width: 1px; fill: rgb(191, 191, 191); fill-opacity: 1; stroke: rgb(255, 255, 255); stroke-opacity: 1;\"/><path class=\"point plotly-customdata\" transform=\"translate(12.84,37.09)\" d=\"M2,0A2,2 0 1,1 0,-2A2,2 0 0,1 2,0Z\" style=\"opacity: 0.7; stroke-width: 1px; fill: rgb(191, 191, 191); fill-opacity: 1; stroke: rgb(255, 255, 255); stroke-opacity: 1;\"/></g><g class=\"text\"/></g></g></g><g class=\"overplot\"/><path class=\"xlines-above crisp\" d=\"M0,0\" style=\"fill: none;\"/><path class=\"ylines-above crisp\" d=\"M0,0\" style=\"fill: none;\"/><g class=\"overlines-above\"/><g class=\"xaxislayer-above\"><g class=\"xtick\"><text text-anchor=\"middle\" x=\"0\" y=\"463\" transform=\"translate(62.61,0)\" style=\"font-family: 'Open Sans', verdana, arial, sans-serif; font-size: 12px; fill: rgb(68, 68, 68); fill-opacity: 1; white-space: pre;\">1</text></g><g class=\"xtick\"><text text-anchor=\"middle\" x=\"0\" y=\"463\" transform=\"translate(132.36,0)\" style=\"font-family: 'Open Sans', verdana, arial, sans-serif; font-size: 12px; fill: rgb(68, 68, 68); fill-opacity: 1; white-space: pre;\">0.5</text></g><g class=\"xtick\"><text text-anchor=\"middle\" x=\"0\" y=\"463\" transform=\"translate(202.11,0)\" style=\"font-family: 'Open Sans', verdana, arial, sans-serif; font-size: 12px; fill: rgb(68, 68, 68); fill-opacity: 1; white-space: pre;\">0</text></g></g><g class=\"yaxislayer-above\"/><g class=\"overaxes-above\"/></g><g class=\"subplot x2y\"><g class=\"layer-subplot\"><g class=\"shapelayer\"/><g class=\"imagelayer\"/></g><g class=\"gridlayer\"><g class=\"x2\"/><g class=\"y\"/></g><g class=\"zerolinelayer\"/><path class=\"xlines-below\"/><path class=\"ylines-below\"/><g class=\"overlines-below\"/><g class=\"xaxislayer-below\"/><g class=\"yaxislayer-below\"/><g class=\"overaxes-below\"/><g class=\"plot\" transform=\"translate(205.91156462585036, 60)\" clip-path=\"url('#clip62d2fbx2yplot')\"><g class=\"heatmaplayer mlayer\"><g class=\"hm\"><image xmlns=\"http://www.w3.org/2000/svg\" preserveAspectRatio=\"none\" height=\"354\" width=\"19\" x=\"0\" y=\"18.47\" xlink:href=\"data:image/png;base64,iVBORw0KGgoAAAANSUhEUgAAABMAAAFiCAYAAAAUWeMcAAABuklEQVR4Xu2dMW4CQQxFx+eJOEgaUiI6zkARCQ6RKpGgoKCipcpFcoJcIRdIRGo80kOWGLSPeu3VPH//9SxoiPnm9NuKPmEyTFJmGFkbmBlfTB4R34tlXW+aDNfGAmBkLXhIpwOed+91HWAyXJsYlxleSycgzttjnc5MhmtjATCyJjOZJQSUhtJQGj7RWRfoGozX5WqZyUyn1WlZF+gajJdOy3nJTGa+8tJpeRfITGbOtM60rAt0DcbL+YzzkpnMnGl1Wt4FMruBGQ/JI2J5fKkbqUyGa2MBMLImM5llO2EtCGvDdsLItCCOTGYyywhoQVwbMpOZU5CbV9YFugbj9f9u200FhiYzjEydcWQyk1m6qbgBTRoSh9dV3axhMlybgQuA19L7svRzP6vTmclwbUJmd2aGb99rp6/1R107mQzXJsZlhtfS05mnC2CcU/nxBwajzqYijXFdQ9FiAooWIys+l8rRHVdgKtsdDKb3EP55e6rbVJgM1yZkJrPrBJQGVkaTmcwSAkpDaSgNhz3WBboG43W5Wmb3Zsbvn0d4RjmnKTOZZbOGf5OAtWE7YWRNZjJ7PAviNcsj/gCYcnOH/TMRnAAAAABJRU5ErkJggg==\" style=\"opacity: 1;\"/></g></g></g><g class=\"overplot\"/><path class=\"xlines-above crisp\" d=\"M0,0\" style=\"fill: none;\"/><path class=\"ylines-above crisp\" d=\"M0,0\" style=\"fill: none;\"/><g class=\"overlines-above\"/><g class=\"xaxislayer-above\"/><g class=\"yaxislayer-above\"/><g class=\"overaxes-above\"/></g><g class=\"subplot x3y\"><g class=\"layer-subplot\"><g class=\"shapelayer\"/><g class=\"imagelayer\"/></g><g class=\"gridlayer\"><g class=\"x3\"/><g class=\"y\"/></g><g class=\"zerolinelayer\"/><path class=\"xlines-below\"/><path class=\"ylines-below\"/><g class=\"overlines-below\"/><g class=\"xaxislayer-below\"/><g class=\"yaxislayer-below\"/><g class=\"overaxes-below\"/><g class=\"plot\" transform=\"translate(228.7278911564626, 60)\" clip-path=\"url('#clip62d2fbx3yplot')\"><g class=\"heatmaplayer mlayer\"><g class=\"hm\"><image xmlns=\"http://www.w3.org/2000/svg\" preserveAspectRatio=\"none\" height=\"354\" width=\"354\" x=\"13.12\" y=\"18.47\" xlink:href=\"data:image/png;base64,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\" style=\"opacity: 1;\"/></g></g></g><g class=\"overplot\"/><path class=\"xlines-above crisp\" d=\"M0,0\" style=\"fill: none;\"/><path class=\"ylines-above crisp\" d=\"M0,0\" style=\"fill: none;\"/><g class=\"overlines-above\"/><g class=\"xaxislayer-above\"/><g class=\"yaxislayer-above\"/><g class=\"overaxes-above\"/></g></g><g class=\"polarlayer\"/><g class=\"ternarylayer\"/><g class=\"geolayer\"/><g class=\"funnelarealayer\"/><g class=\"pielayer\"/><g class=\"treemaplayer\"/><g class=\"sunburstlayer\"/><g class=\"glimages\"/><defs id=\"topdefs-62d2fb\"><g class=\"clips\"/></defs><g class=\"layer-above\"><g class=\"imagelayer\"/><g class=\"shapelayer\"/></g><g class=\"infolayer\"><g class=\"cb634fac colorbar\" transform=\"translate(50,60)\"><rect class=\"cbbg\" x=\"569.5\" y=\"-0.5\" width=\"68.03125\" height=\"391\" style=\"fill: rgb(0, 0, 0); fill-opacity: 0; stroke: rgb(68, 68, 68); stroke-opacity: 1; stroke-width: 0;\"/><g class=\"cbfills\" transform=\"translate(0,10)\"><rect class=\"cbfill\" x=\"580\" width=\"30\" y=\"0\" height=\"370\" style=\"stroke: none; fill: url('#g62d2fb-cb634fac');\"/></g><g class=\"cblines\" transform=\"translate(0,10)\"/><g class=\"cbaxis crisp\" transform=\"translate(0,-60)\"><g class=\"ycb634factick\"><text text-anchor=\"start\" x=\"613.4\" y=\"4.199999999999999\" transform=\"translate(0,403.16)\" style=\"font-family: 'Open Sans', verdana, arial, sans-serif; font-size: 12px; fill: rgb(68, 68, 68); fill-opacity: 1; white-space: pre;\">0.1</text></g><g class=\"ycb634factick\"><text text-anchor=\"start\" x=\"613.4\" y=\"4.199999999999999\" transform=\"translate(0,366.12)\" style=\"font-family: 'Open Sans', verdana, arial, sans-serif; font-size: 12px; fill: rgb(68, 68, 68); fill-opacity: 1; white-space: pre;\">0.2</text></g><g class=\"ycb634factick\"><text text-anchor=\"start\" x=\"613.4\" y=\"4.199999999999999\" transform=\"translate(0,329.09)\" style=\"font-family: 'Open Sans', verdana, arial, sans-serif; font-size: 12px; fill: rgb(68, 68, 68); fill-opacity: 1; white-space: pre;\">0.3</text></g><g class=\"ycb634factick\"><text text-anchor=\"start\" x=\"613.4\" y=\"4.199999999999999\" transform=\"translate(0,292.06)\" style=\"font-family: 'Open Sans', verdana, arial, sans-serif; font-size: 12px; fill: rgb(68, 68, 68); fill-opacity: 1; white-space: pre;\">0.4</text></g><g class=\"ycb634factick\"><text text-anchor=\"start\" x=\"613.4\" y=\"4.199999999999999\" transform=\"translate(0,255.02)\" style=\"font-family: 'Open Sans', verdana, arial, sans-serif; font-size: 12px; fill: rgb(68, 68, 68); fill-opacity: 1; white-space: pre;\">0.5</text></g><g class=\"ycb634factick\"><text text-anchor=\"start\" x=\"613.4\" y=\"4.199999999999999\" transform=\"translate(0,217.99)\" style=\"font-family: 'Open Sans', verdana, arial, sans-serif; font-size: 12px; fill: rgb(68, 68, 68); fill-opacity: 1; white-space: pre;\">0.6</text></g><g class=\"ycb634factick\"><text text-anchor=\"start\" x=\"613.4\" y=\"4.199999999999999\" transform=\"translate(0,180.95)\" style=\"font-family: 'Open Sans', verdana, arial, sans-serif; font-size: 12px; fill: rgb(68, 68, 68); fill-opacity: 1; white-space: pre;\">0.7</text></g><g class=\"ycb634factick\"><text text-anchor=\"start\" x=\"613.4\" y=\"4.199999999999999\" transform=\"translate(0,143.92000000000002)\" style=\"font-family: 'Open Sans', verdana, arial, sans-serif; font-size: 12px; fill: rgb(68, 68, 68); fill-opacity: 1; white-space: pre;\">0.8</text></g><g class=\"ycb634factick\"><text text-anchor=\"start\" x=\"613.4\" y=\"4.199999999999999\" transform=\"translate(0,106.88)\" style=\"font-family: 'Open Sans', verdana, arial, sans-serif; font-size: 12px; fill: rgb(68, 68, 68); fill-opacity: 1; white-space: pre;\">0.9</text></g></g><g class=\"cbtitleunshift\" transform=\"translate(-50,-60)\"><g class=\"cbtitle\"/></g><rect class=\"cboutline\" x=\"580\" y=\"10\" width=\"30\" height=\"370\" style=\"stroke: rgb(68, 68, 68); stroke-opacity: 1; fill: none; stroke-width: 1;\"/></g><g class=\"g-gtitle\"/><g class=\"g-xtitle\"/></g></svg>"
      ],
      "text/html": [
       "<div\n",
       "    class=\"webio-mountpoint\"\n",
       "    data-webio-mountpoint=\"7424276248530598753\"\n",
       ">\n",
       "    <script>\n",
       "    if (window.require && require.defined && require.defined(\"nbextensions/webio-jupyter-notebook\")) {\n",
       "        console.log(\"Jupyter WebIO extension detected, not mounting.\");\n",
       "    } else if (window.WebIO) {\n",
       "        WebIO.mount(\n",
       "            document.querySelector('[data-webio-mountpoint=\"7424276248530598753\"]'),\n",
       "            {\"props\":{},\"nodeType\":\"Scope\",\"type\":\"node\",\"instanceArgs\":{\"imports\":{\"data\":[{\"name\":\"Plotly\",\"type\":\"js\",\"url\":\"\\/assetserver\\/e6903599031aaef8675931dfcd7df98a1aeffbfc-plotly-latest.min.js\"},{\"name\":null,\"type\":\"js\",\"url\":\"\\/assetserver\\/74a5dea81f21b0b802ef1ee92f1c8a504eac1a0c-plotly_webio.bundle.js\"}],\"type\":\"async_block\"},\"id\":\"13925179724236524620\",\"handlers\":{\"_toImage\":[\"(function (options){return this.Plotly.toImage(this.plotElem,options).then((function (data){return WebIO.setval({\\\"name\\\":\\\"image\\\",\\\"scope\\\":\\\"13925179724236524620\\\",\\\"id\\\":\\\"7061266256219069128\\\",\\\"type\\\":\\\"observable\\\"},data)}))})\"],\"__get_gd_contents\":[\"(function (prop){prop==\\\"data\\\" ? (WebIO.setval({\\\"name\\\":\\\"__gd_contents\\\",\\\"scope\\\":\\\"13925179724236524620\\\",\\\"id\\\":\\\"18081126273051792779\\\",\\\"type\\\":\\\"observable\\\"},this.plotElem.data)) : undefined; return prop==\\\"layout\\\" ? (WebIO.setval({\\\"name\\\":\\\"__gd_contents\\\",\\\"scope\\\":\\\"13925179724236524620\\\",\\\"id\\\":\\\"18081126273051792779\\\",\\\"type\\\":\\\"observable\\\"},this.plotElem.layout)) : undefined})\"],\"_downloadImage\":[\"(function (options){return this.Plotly.downloadImage(this.plotElem,options)})\"],\"_commands\":[\"(function (args){var fn=args.shift(); var elem=this.plotElem; var Plotly=this.Plotly; args.unshift(elem); return Plotly[fn].apply(this,args)})\"]},\"systemjs_options\":null,\"mount_callbacks\":[\"function () {\\n    var handler = ((function (Plotly,PlotlyWebIO){PlotlyWebIO.init(WebIO); var gd=this.dom.querySelector(\\\"#plot-2a4fb56f-1a5d-4143-a51c-4b206d2ff755\\\"); this.plotElem=gd; this.Plotly=Plotly; (window.Blink!==undefined) ? (gd.style.width=\\\"100%\\\", gd.style.height=\\\"100vh\\\", gd.style.marginLeft=\\\"0%\\\", gd.style.marginTop=\\\"0vh\\\") : undefined; window.onresize=(function (){return Plotly.Plots.resize(gd)}); Plotly.newPlot(gd,[{\\\"showlegend\\\":false,\\\"mode\\\":\\\"lines\\\",\\\"line\\\":{\\\"color\\\":\\\"#E15759\\\"},\\\"y\\\":[83.71757284789959,83.71757284789959,85.13178641027268,85.13178641027268],\\\"type\\\":\\\"scatter\\\",\\\"fill\\\":\\\"toself\\\",\\\"hoverinfo\\\":\\\"skip\\\",\\\"x\\\":[0.0,0.2890969216823578,0.2890969216823578,0.0]},{\\\"showlegend\\\":false,\\\"mode\\\":\\\"lines\\\",\\\"line\\\":{\\\"color\\\":\\\"#BFBFBF\\\"},\\\"y\\\":[44.00163481360224,67.36654292508089,null,44.00163481360224,44.00163481360224,null,67.36654292508089,67.36654292508089,null],\\\"type\\\":\\\"scatter\\\",\\\"hoverinfo\\\":\\\"skip\\\",\\\"x\\\":[0.7223665714263916,0.7223665714263916,null,0.7223665714263916,0.20994779467582703,null,0.7223665714263916,0.5688816905021667,null]},{\\\"showlegend\\\":false,\\\"mode\\\":\\\"lines\\\",\\\"line\\\":{\\\"color\\\":\\\"#BFBFBF\\\"},\\\"y\\\":[24.548599036186836,27.755705817373382,null,24.548599036186836,24.548599036186836,null,27.755705817373382,27.755705817373382,null],\\\"type\\\":\\\"scatter\\\",\\\"hoverinfo\\\":\\\"skip\\\",\\\"x\\\":[0.7093522548675537,0.7093522548675537,null,0.7093522548675537,0.3657861053943634,null,0.7093522548675537,0.6067352890968323,null]},{\\\"showlegend\\\":false,\\\"mode\\\":\\\"lines\\\",\\\"line\\\":{\\\"color\\\":\\\"#BFBFBF\\\"},\\\"y\\\":[84.42467962908614,87.13178641027268,null,84.42467962908614,84.42467962908614,null,87.13178641027268,87.13178641027268,null],\\\"type\\\":\\\"scatter\\\",\\\"hoverinfo\\\":\\\"skip\\\",\\\"x\\\":[0.9970870018005371,0.9970870018005371,null,0.9970870018005371,0.2890969216823578,null,0.9970870018005371,0.34654098749160767,null]},{\\\"showlegend\\\":false,\\\"mode\\\":\\\"lines\\\",\\\"line\\\":{\\\"color\\\":\\\"#BFBFBF\\\"},\\\"y\\\":[4.082207001484488,35.4510334635697,null,4.082207001484488,4.082207001484488,null,35.4510334635697,35.4510334635697,null],\\\"type\\\":\\\"scatter\\\",\\\"hoverinfo\\\":\\\"skip\\\",\\\"x\\\":[1.0,1.0,null,1.0,0.9660427570343018,null,1.0,1.0,null]},{\\\"showlegend\\\":false,\\\"mode\\\":\\\"lines\\\",\\\"line\\\":{\\\"color\\\":\\\"#D37295\\\"},\\\"y\\\":[28.255705817373382,28.255705817373382,29.255705817373382,29.255705817373382],\\\"type\\\":\\\"scatter\\\",\\\"fill\\\":\\\"toself\\\",\\\"hoverinfo\\\":\\\"skip\\\",\\\"x\\\":[0.0,0.5578354597091675,0.5578354597091675,0.0]},{\\\"showlegend\\\":false,\\\"mode\\\":\\\"lines\\\",\\\"line\\\":{\\\"color\\\":\\\"#B07AA1\\\"},\\\"y\\\":[54.01551300226221,54.01551300226221,80.71757284789959,80.71757284789959],\\\"type\\\":\\\"scatter\\\",\\\"fill\\\":\\\"toself\\\",\\\"hoverinfo\\\":\\\"skip\\\",\\\"x\\\":[0.0,0.5688816905021667,0.5688816905021667,0.0]},{\\\"showlegend\\\":false,\\\"mode\\\":\\\"lines\\\",\\\"line\\\":{\\\"color\\\":\\\"#BFBFBF\\\"},\\\"y\\\":[30.800324662520033,83.9979029337895,null,30.800324662520033,30.800324662520033,null,83.9979029337895,83.9979029337895,null],\\\"type\\\":\\\"scatter\\\",\\\"hoverinfo\\\":\\\"skip\\\",\\\"x\\\":[0.9998422861099243,0.9998422861099243,null,0.9998422861099243,0.9616410136222839,null,0.9998422861099243,0.9983099699020386,null]},{\\\"showlegend\\\":false,\\\"mode\\\":\\\"lines\\\",\\\"line\\\":{\\\"color\\\":\\\"#BFBFBF\\\"},\\\"y\\\":[31.121731221157823,44.585922747141915,null,31.121731221157823,31.121731221157823,null,44.585922747141915,44.585922747141915,null],\\\"type\\\":\\\"scatter\\\",\\\"hoverinfo\\\":\\\"skip\\\",\\\"x\\\":[0.7892481684684753,0.7892481684684753,null,0.7892481684684753,0.49006450176239014,null,0.7892481684684753,0.7635694742202759,null]},{\\\"showlegend\\\":false,\\\"mode\\\":\\\"lines\\\",\\\"line\\\":{\\\"color\\\":\\\"#BFBFBF\\\"},\\\"y\\\":[21.341492255000286,26.15215242678011,null,21.341492255000286,21.341492255000286,null,26.15215242678011,26.15215242678011,null],\\\"type\\\":\\\"scatter\\\",\\\"hoverinfo\\\":\\\"skip\\\",\\\"x\\\":[0.7635746598243713,0.7635746598243713,null,0.7635746598243713,0.5567193627357483,null,0.7635746598243713,0.7093522548675537,null]},{\\\"showlegend\\\":false,\\\"mode\\\":\\\"lines\\\",\\\"line\\\":{\\\"color\\\":\\\"#F28E2B\\\"},\\\"y\\\":[8.164414002968975,8.164414002968975,18.841492255000286,18.841492255000286],\\\"type\\\":\\\"scatter\\\",\\\"fill\\\":\\\"toself\\\",\\\"hoverinfo\\\":\\\"skip\\\",\\\"x\\\":[0.0,0.6194909811019897,0.6194909811019897,0.0]},{\\\"showlegend\\\":false,\\\"mode\\\":\\\"lines\\\",\\\"line\\\":{\\\"color\\\":\\\"#B07AA1\\\"},\\\"y\\\":[23.841492255000286,23.841492255000286,25.255705817373382,25.255705817373382],\\\"type\\\":\\\"scatter\\\",\\\"fill\\\":\\\"toself\\\",\\\"hoverinfo\\\":\\\"skip\\\",\\\"x\\\":[0.0,0.3657861053943634,0.3657861053943634,0.0]},{\\\"showlegend\\\":false,\\\"mode\\\":\\\"lines\\\",\\\"line\\\":{\\\"color\\\":\\\"#B07AA1\\\"},\\\"y\\\":[21.841492255000286,21.841492255000286,22.841492255000286,22.841492255000286],\\\"type\\\":\\\"scatter\\\",\\\"fill\\\":\\\"toself\\\",\\\"hoverinfo\\\":\\\"skip\\\",\\\"x\\\":[0.0,0.005434782709926367,0.005434782709926367,0.0]},{\\\"showlegend\\\":false,\\\"mode\\\":\\\"lines\\\",\\\"line\\\":{\\\"color\\\":\\\"#B6992D\\\"},\\\"y\\\":[19.841492255000286,19.841492255000286,20.841492255000286,20.841492255000286],\\\"type\\\":\\\"scatter\\\",\\\"fill\\\":\\\"toself\\\",\\\"hoverinfo\\\":\\\"skip\\\",\\\"x\\\":[0.0,0.0005243838531896472,0.0005243838531896472,0.0]},{\\\"showlegend\\\":false,\\\"mode\\\":\\\"lines\\\",\\\"line\\\":{\\\"color\\\":\\\"#B6992D\\\"},\\\"y\\\":[30.255705817373382,30.255705817373382,31.98775662494226,31.98775662494226],\\\"type\\\":\\\"scatter\\\",\\\"fill\\\":\\\"toself\\\",\\\"hoverinfo\\\":\\\"skip\\\",\\\"x\\\":[0.0,0.49006450176239014,0.49006450176239014,0.0]},{\\\"showlegend\\\":false,\\\"mode\\\":\\\"lines\\\",\\\"line\\\":{\\\"color\\\":\\\"#BFBFBF\\\"},\\\"y\\\":[20.341492255000286,22.341492255000286,null,20.341492255000286,20.341492255000286,null,22.341492255000286,22.341492255000286,null],\\\"type\\\":\\\"scatter\\\",\\\"hoverinfo\\\":\\\"skip\\\",\\\"x\\\":[0.5567193627357483,0.5567193627357483,null,0.5567193627357483,0.0005243838531896472,null,0.5567193627357483,0.005434782709926367,null]},{\\\"showlegend\\\":false,\\\"mode\\\":\\\"lines\\\",\\\"line\\\":{\\\"color\\\":\\\"#59A14F\\\"},\\\"y\\\":[34.987756624942264,34.987756624942264,53.01551300226221,53.01551300226221],\\\"type\\\":\\\"scatter\\\",\\\"fill\\\":\\\"toself\\\",\\\"hoverinfo\\\":\\\"skip\\\",\\\"x\\\":[0.0,0.20994779467582703,0.20994779467582703,0.0]},{\\\"showlegend\\\":false,\\\"mode\\\":\\\"lines\\\",\\\"line\\\":{\\\"color\\\":\\\"#4E79A7\\\"},\\\"y\\\":[86.13178641027268,86.13178641027268,88.13178641027268,88.13178641027268],\\\"type\\\":\\\"scatter\\\",\\\"fill\\\":\\\"toself\\\",\\\"hoverinfo\\\":\\\"skip\\\",\\\"x\\\":[0.0,0.34654098749160767,0.34654098749160767,0.0]},{\\\"showlegend\\\":false,\\\"mode\\\":\\\"lines\\\",\\\"line\\\":{\\\"color\\\":\\\"#499894\\\"},\\\"y\\\":[81.71757284789959,81.71757284789959,82.71757284789959,82.71757284789959],\\\"type\\\":\\\"scatter\\\",\\\"fill\\\":\\\"toself\\\",\\\"hoverinfo\\\":\\\"skip\\\",\\\"x\\\":[0.0,0.016814660280942917,0.016814660280942917,0.0]},{\\\"showlegend\\\":false,\\\"mode\\\":\\\"lines\\\",\\\"line\\\":{\\\"color\\\":\\\"#BFBFBF\\\"},\\\"y\\\":[13.50295312898463,57.39911379815477,null,13.50295312898463,13.50295312898463,null,57.39911379815477,57.39911379815477,null],\\\"type\\\":\\\"scatter\\\",\\\"hoverinfo\\\":\\\"skip\\\",\\\"x\\\":[1.0,1.0,null,1.0,0.6194909811019897,null,1.0,0.9998422861099243,null]},{\\\"showlegend\\\":false,\\\"mode\\\":\\\"lines\\\",\\\"line\\\":{\\\"color\\\":\\\"#9D7660\\\"},\\\"y\\\":[32.987756624942264,32.987756624942264,33.987756624942264,33.987756624942264],\\\"type\\\":\\\"scatter\\\",\\\"fill\\\":\\\"toself\\\",\\\"hoverinfo\\\":\\\"skip\\\",\\\"x\\\":[0.0,0.6688838005065918,0.6688838005065918,0.0]},{\\\"showlegend\\\":false,\\\"mode\\\":\\\"lines\\\",\\\"line\\\":{\\\"color\\\":\\\"#BFBFBF\\\"},\\\"y\\\":[23.746822340890198,37.85382698414987,null,23.746822340890198,23.746822340890198,null,37.85382698414987,37.85382698414987,null],\\\"type\\\":\\\"scatter\\\",\\\"hoverinfo\\\":\\\"skip\\\",\\\"x\\\":[0.9616410136222839,0.9616410136222839,null,0.9616410136222839,0.7635746598243713,null,0.9616410136222839,0.7892481684684753,null]},{\\\"showlegend\\\":false,\\\"mode\\\":\\\"lines\\\",\\\"line\\\":{\\\"color\\\":\\\"#E15759\\\"},\\\"y\\\":[1.0,1.0,7.164414002968976,7.164414002968976],\\\"type\\\":\\\"scatter\\\",\\\"fill\\\":\\\"toself\\\",\\\"hoverinfo\\\":\\\"skip\\\",\\\"x\\\":[0.0,0.9660427570343018,0.9660427570343018,0.0]},{\\\"showlegend\\\":false,\\\"mode\\\":\\\"lines\\\",\\\"line\\\":{\\\"color\\\":\\\"#B07AA1\\\"},\\\"y\\\":[26.255705817373382,26.255705817373382,27.255705817373382,27.255705817373382],\\\"type\\\":\\\"scatter\\\",\\\"fill\\\":\\\"toself\\\",\\\"hoverinfo\\\":\\\"skip\\\",\\\"x\\\":[0.0,0.19636884331703186,0.19636884331703186,0.0]},{\\\"showlegend\\\":false,\\\"mode\\\":\\\"lines\\\",\\\"line\\\":{\\\"color\\\":\\\"#BFBFBF\\\"},\\\"y\\\":[33.487756624942264,55.684088869341565,null,33.487756624942264,33.487756624942264,null,55.684088869341565,55.684088869341565,null],\\\"type\\\":\\\"scatter\\\",\\\"hoverinfo\\\":\\\"skip\\\",\\\"x\\\":[0.7635694742202759,0.7635694742202759,null,0.7635694742202759,0.6688838005065918,null,0.7635694742202759,0.7223665714263916,null]},{\\\"showlegend\\\":false,\\\"mode\\\":\\\"lines\\\",\\\"line\\\":{\\\"color\\\":\\\"#BFBFBF\\\"},\\\"y\\\":[26.755705817373382,28.755705817373382,null,26.755705817373382,26.755705817373382,null,28.755705817373382,28.755705817373382,null],\\\"type\\\":\\\"scatter\\\",\\\"hoverinfo\\\":\\\"skip\\\",\\\"x\\\":[0.6067352890968323,0.6067352890968323,null,0.6067352890968323,0.19636884331703186,null,0.6067352890968323,0.5578354597091675,null]},{\\\"showlegend\\\":false,\\\"mode\\\":\\\"lines\\\",\\\"line\\\":{\\\"color\\\":\\\"#BFBFBF\\\"},\\\"y\\\":[82.21757284789959,85.77823301967942,null,82.21757284789959,82.21757284789959,null,85.77823301967942,85.77823301967942,null],\\\"type\\\":\\\"scatter\\\",\\\"hoverinfo\\\":\\\"skip\\\",\\\"x\\\":[0.9983099699020386,0.9983099699020386,null,0.9983099699020386,0.016814660280942917,null,0.9983099699020386,0.9970870018005371,null]},{\\\"showlegend\\\":false,\\\"mode\\\":\\\"markers\\\",\\\"marker\\\":{\\\"color\\\":[\\\"#E15759\\\",\\\"#BFBFBF\\\",\\\"#BFBFBF\\\",\\\"#BFBFBF\\\",\\\"#BFBFBF\\\",\\\"#D37295\\\",\\\"#B07AA1\\\",\\\"#BFBFBF\\\",\\\"#F28E2B\\\",\\\"#BFBFBF\\\",\\\"#BFBFBF\\\",\\\"#B07AA1\\\",\\\"#B07AA1\\\",\\\"#B6992D\\\",\\\"#B6992D\\\",\\\"#BFBFBF\\\",\\\"#59A14F\\\",\\\"#4E79A7\\\",\\\"#499894\\\",\\\"#BFBFBF\\\",\\\"#9D7660\\\",\\\"#BFBFBF\\\",\\\"#E15759\\\",\\\"#B07AA1\\\",\\\"#BFBFBF\\\",\\\"#BFBFBF\\\",\\\"#BFBFBF\\\"],\\\"size\\\":[8,4,8,4,8,8,8,4,8,8,8,8,8,8,8,8,8,8,8,4,8,8,8,8,4,8,4]},\\\"y\\\":[84.42467962908614,55.684088869341565,26.15215242678011,85.77823301967942,19.766620232527096,28.755705817373382,67.36654292508089,57.39911379815477,13.50295312898463,23.746822340890198,37.85382698414987,24.548599036186836,22.341492255000286,20.341492255000286,31.121731221157823,21.341492255000286,44.00163481360224,87.13178641027268,82.21757284789959,35.4510334635697,33.487756624942264,30.800324662520033,4.082207001484488,26.755705817373382,44.585922747141915,27.755705817373382,83.9979029337895],\\\"type\\\":\\\"scatter\\\",\\\"customdata\\\":[[3,\\\"Gardnerella vaginalis\\\"],[1040,\\\"(mixed)\\\"],[7,\\\"(mixed)\\\"],[8,\\\"(mixed)\\\"],[1221,\\\"(mixed)\\\"],[2,\\\"Neisseria mucosa\\\"],[714,\\\"Neisseria meningitidis\\\"],[1067,\\\"(mixed)\\\"],[115,\\\"Chlamydia trachomatis\\\"],[11,\\\"(mixed)\\\"],[1046,\\\"(mixed)\\\"],[3,\\\"Neisseria meningitidis\\\"],[2,\\\"Neisseria meningitidis\\\"],[2,\\\"Neisseria lactamica\\\"],[4,\\\"Neisseria lactamica\\\"],[4,\\\"(mixed)\\\"],[326,\\\"Neisseria gonorrhoeae\\\"],[5,\\\"Bifidobacterium pseudocatenulatum\\\"],[2,\\\"Granulicoccus phenolivorans\\\"],[1182,\\\"(mixed)\\\"],[2,\\\"Neisseria polysaccharea\\\"],[1057,\\\"(mixed)\\\"],[39,\\\"Gardnerella vaginalis\\\"],[2,\\\"Neisseria meningitidis\\\"],[1042,\\\"(mixed)\\\"],[4,\\\"(mixed)\\\"],[10,\\\"(mixed)\\\"]],\\\"text\\\":[\\\"2348\\\",\\\"2428\\\",\\\"2427\\\",\\\"2437\\\",\\\"2441\\\",\\\"2415\\\",\\\"2417\\\",\\\"2439\\\",\\\"2421\\\",\\\"2430\\\",\\\"2431\\\",\\\"2372\\\",\\\"1530\\\",\\\"1311\\\",\\\"2408\\\",\\\"2414\\\",\\\"2328\\\",\\\"2365\\\",\\\"1756\\\",\\\"2440\\\",\\\"2426\\\",\\\"2435\\\",\\\"2436\\\",\\\"2321\\\",\\\"2429\\\",\\\"2419\\\",\\\"2438\\\"],\\\"hovertemplate\\\":\\\"<b>%{text}<\\/b><br>\\\\n%{y:.3f}<br>\\\\n%{customdata[0]} genomes<br>\\\\n%{customdata[1]}\\\\n<extra><\\/extra>\\\\n\\\",\\\"x\\\":[0.2890969216823578,0.7223665714263916,0.7093522548675537,0.9970870018005371,1.0,0.5578354597091675,0.5688816905021667,0.9998422861099243,0.6194909811019897,0.7635746598243713,0.7892481684684753,0.3657861053943634,0.005434782709926367,0.0005243838531896472,0.49006450176239014,0.5567193627357483,0.20994779467582703,0.34654098749160767,0.016814660280942917,1.0,0.6688838005065918,0.9616410136222839,0.9660427570343018,0.19636884331703186,0.7635694742202759,0.6067352890968323,0.9983099699020386]},{\\\"xaxis\\\":\\\"x3\\\",\\\"y\\\":[0.5000000000000004,7.664414002968975,19.341492255000286,21.341492255000286,23.341492255000286,25.755705817373382,27.755705817373382,29.755705817373382,32.487756624942264,34.487756624942264,53.51551300226221,81.21757284789959,83.21757284789959,85.63178641027268,88.63178641027268],\\\"type\\\":\\\"heatmap\\\",\\\"customdata\\\":[[[\\\"Cluster 2436: Gardnerella vaginalis\\\",\\\"Cluster 2436: Gardnerella vaginalis\\\"],[\\\"Cluster 2421: Chlamydia trachomatis\\\",\\\"Cluster 2436: Gardnerella vaginalis\\\"],[\\\"Cluster 1311: Neisseria lactamica\\\",\\\"Cluster 2436: Gardnerella vaginalis\\\"],[\\\"Cluster 1530: Neisseria meningitidis\\\",\\\"Cluster 2436: Gardnerella vaginalis\\\"],[\\\"Cluster 2372: Neisseria meningitidis\\\",\\\"Cluster 2436: Gardnerella vaginalis\\\"],[\\\"Cluster 2321: Neisseria meningitidis\\\",\\\"Cluster 2436: Gardnerella vaginalis\\\"],[\\\"Cluster 2415: Neisseria mucosa\\\",\\\"Cluster 2436: Gardnerella vaginalis\\\"],[\\\"Cluster 2408: Neisseria lactamica\\\",\\\"Cluster 2436: Gardnerella vaginalis\\\"],[\\\"Cluster 2426: Neisseria polysaccharea\\\",\\\"Cluster 2436: Gardnerella vaginalis\\\"],[\\\"Cluster 2328: Neisseria gonorrhoeae\\\",\\\"Cluster 2436: Gardnerella vaginalis\\\"],[\\\"Cluster 2417: Neisseria meningitidis\\\",\\\"Cluster 2436: Gardnerella vaginalis\\\"],[\\\"Cluster 1756: Granulicoccus phenolivorans\\\",\\\"Cluster 2436: Gardnerella vaginalis\\\"],[\\\"Cluster 2348: Gardnerella vaginalis\\\",\\\"Cluster 2436: Gardnerella vaginalis\\\"],[\\\"Cluster 2365: Bifidobacterium pseudocatenulatum\\\",\\\"Cluster 2436: Gardnerella vaginalis\\\"]],[[\\\"Cluster 2436: Gardnerella vaginalis\\\",\\\"Cluster 2421: Chlamydia trachomatis\\\"],[\\\"Cluster 2421: Chlamydia trachomatis\\\",\\\"Cluster 2421: Chlamydia trachomatis\\\"],[\\\"Cluster 1311: Neisseria lactamica\\\",\\\"Cluster 2421: Chlamydia trachomatis\\\"],[\\\"Cluster 1530: Neisseria meningitidis\\\",\\\"Cluster 2421: Chlamydia trachomatis\\\"],[\\\"Cluster 2372: Neisseria meningitidis\\\",\\\"Cluster 2421: Chlamydia trachomatis\\\"],[\\\"Cluster 2321: Neisseria meningitidis\\\",\\\"Cluster 2421: Chlamydia trachomatis\\\"],[\\\"Cluster 2415: Neisseria mucosa\\\",\\\"Cluster 2421: Chlamydia trachomatis\\\"],[\\\"Cluster 2408: Neisseria lactamica\\\",\\\"Cluster 2421: Chlamydia trachomatis\\\"],[\\\"Cluster 2426: Neisseria polysaccharea\\\",\\\"Cluster 2421: Chlamydia trachomatis\\\"],[\\\"Cluster 2328: Neisseria gonorrhoeae\\\",\\\"Cluster 2421: Chlamydia trachomatis\\\"],[\\\"Cluster 2417: Neisseria meningitidis\\\",\\\"Cluster 2421: Chlamydia trachomatis\\\"],[\\\"Cluster 1756: Granulicoccus phenolivorans\\\",\\\"Cluster 2421: Chlamydia trachomatis\\\"],[\\\"Cluster 2348: Gardnerella vaginalis\\\",\\\"Cluster 2421: Chlamydia trachomatis\\\"],[\\\"Cluster 2365: Bifidobacterium pseudocatenulatum\\\",\\\"Cluster 2421: Chlamydia trachomatis\\\"]],[[\\\"Cluster 2436: Gardnerella vaginalis\\\",\\\"Cluster 1311: Neisseria lactamica\\\"],[\\\"Cluster 2421: Chlamydia trachomatis\\\",\\\"Cluster 1311: Neisseria lactamica\\\"],[\\\"Cluster 1311: Neisseria lactamica\\\",\\\"Cluster 1311: Neisseria lactamica\\\"],[\\\"Cluster 1530: Neisseria meningitidis\\\",\\\"Cluster 1311: Neisseria lactamica\\\"],[\\\"Cluster 2372: Neisseria meningitidis\\\",\\\"Cluster 1311: Neisseria lactamica\\\"],[\\\"Cluster 2321: Neisseria meningitidis\\\",\\\"Cluster 1311: Neisseria lactamica\\\"],[\\\"Cluster 2415: Neisseria mucosa\\\",\\\"Cluster 1311: Neisseria lactamica\\\"],[\\\"Cluster 2408: Neisseria lactamica\\\",\\\"Cluster 1311: Neisseria lactamica\\\"],[\\\"Cluster 2426: Neisseria polysaccharea\\\",\\\"Cluster 1311: Neisseria lactamica\\\"],[\\\"Cluster 2328: Neisseria gonorrhoeae\\\",\\\"Cluster 1311: Neisseria lactamica\\\"],[\\\"Cluster 2417: Neisseria meningitidis\\\",\\\"Cluster 1311: Neisseria lactamica\\\"],[\\\"Cluster 1756: Granulicoccus phenolivorans\\\",\\\"Cluster 1311: Neisseria lactamica\\\"],[\\\"Cluster 2348: Gardnerella vaginalis\\\",\\\"Cluster 1311: Neisseria lactamica\\\"],[\\\"Cluster 2365: Bifidobacterium pseudocatenulatum\\\",\\\"Cluster 1311: Neisseria lactamica\\\"]],[[\\\"Cluster 2436: Gardnerella vaginalis\\\",\\\"Cluster 1530: Neisseria meningitidis\\\"],[\\\"Cluster 2421: Chlamydia trachomatis\\\",\\\"Cluster 1530: Neisseria meningitidis\\\"],[\\\"Cluster 1311: Neisseria lactamica\\\",\\\"Cluster 1530: Neisseria meningitidis\\\"],[\\\"Cluster 1530: Neisseria meningitidis\\\",\\\"Cluster 1530: Neisseria meningitidis\\\"],[\\\"Cluster 2372: Neisseria meningitidis\\\",\\\"Cluster 1530: Neisseria meningitidis\\\"],[\\\"Cluster 2321: Neisseria meningitidis\\\",\\\"Cluster 1530: Neisseria meningitidis\\\"],[\\\"Cluster 2415: Neisseria mucosa\\\",\\\"Cluster 1530: Neisseria meningitidis\\\"],[\\\"Cluster 2408: Neisseria lactamica\\\",\\\"Cluster 1530: Neisseria meningitidis\\\"],[\\\"Cluster 2426: Neisseria polysaccharea\\\",\\\"Cluster 1530: Neisseria meningitidis\\\"],[\\\"Cluster 2328: Neisseria gonorrhoeae\\\",\\\"Cluster 1530: Neisseria meningitidis\\\"],[\\\"Cluster 2417: Neisseria meningitidis\\\",\\\"Cluster 1530: Neisseria meningitidis\\\"],[\\\"Cluster 1756: Granulicoccus phenolivorans\\\",\\\"Cluster 1530: Neisseria meningitidis\\\"],[\\\"Cluster 2348: Gardnerella vaginalis\\\",\\\"Cluster 1530: Neisseria meningitidis\\\"],[\\\"Cluster 2365: Bifidobacterium pseudocatenulatum\\\",\\\"Cluster 1530: Neisseria meningitidis\\\"]],[[\\\"Cluster 2436: Gardnerella vaginalis\\\",\\\"Cluster 2372: Neisseria meningitidis\\\"],[\\\"Cluster 2421: Chlamydia trachomatis\\\",\\\"Cluster 2372: Neisseria meningitidis\\\"],[\\\"Cluster 1311: Neisseria lactamica\\\",\\\"Cluster 2372: Neisseria meningitidis\\\"],[\\\"Cluster 1530: Neisseria meningitidis\\\",\\\"Cluster 2372: Neisseria meningitidis\\\"],[\\\"Cluster 2372: Neisseria meningitidis\\\",\\\"Cluster 2372: Neisseria meningitidis\\\"],[\\\"Cluster 2321: Neisseria meningitidis\\\",\\\"Cluster 2372: Neisseria meningitidis\\\"],[\\\"Cluster 2415: Neisseria mucosa\\\",\\\"Cluster 2372: Neisseria meningitidis\\\"],[\\\"Cluster 2408: Neisseria lactamica\\\",\\\"Cluster 2372: Neisseria meningitidis\\\"],[\\\"Cluster 2426: Neisseria polysaccharea\\\",\\\"Cluster 2372: Neisseria meningitidis\\\"],[\\\"Cluster 2328: Neisseria gonorrhoeae\\\",\\\"Cluster 2372: Neisseria meningitidis\\\"],[\\\"Cluster 2417: Neisseria meningitidis\\\",\\\"Cluster 2372: Neisseria meningitidis\\\"],[\\\"Cluster 1756: Granulicoccus phenolivorans\\\",\\\"Cluster 2372: Neisseria meningitidis\\\"],[\\\"Cluster 2348: Gardnerella vaginalis\\\",\\\"Cluster 2372: Neisseria meningitidis\\\"],[\\\"Cluster 2365: Bifidobacterium pseudocatenulatum\\\",\\\"Cluster 2372: Neisseria meningitidis\\\"]],[[\\\"Cluster 2436: Gardnerella vaginalis\\\",\\\"Cluster 2321: Neisseria meningitidis\\\"],[\\\"Cluster 2421: Chlamydia trachomatis\\\",\\\"Cluster 2321: Neisseria meningitidis\\\"],[\\\"Cluster 1311: Neisseria lactamica\\\",\\\"Cluster 2321: Neisseria meningitidis\\\"],[\\\"Cluster 1530: Neisseria meningitidis\\\",\\\"Cluster 2321: Neisseria meningitidis\\\"],[\\\"Cluster 2372: Neisseria meningitidis\\\",\\\"Cluster 2321: Neisseria meningitidis\\\"],[\\\"Cluster 2321: Neisseria meningitidis\\\",\\\"Cluster 2321: Neisseria meningitidis\\\"],[\\\"Cluster 2415: Neisseria mucosa\\\",\\\"Cluster 2321: Neisseria meningitidis\\\"],[\\\"Cluster 2408: Neisseria lactamica\\\",\\\"Cluster 2321: Neisseria meningitidis\\\"],[\\\"Cluster 2426: Neisseria polysaccharea\\\",\\\"Cluster 2321: Neisseria meningitidis\\\"],[\\\"Cluster 2328: Neisseria gonorrhoeae\\\",\\\"Cluster 2321: Neisseria meningitidis\\\"],[\\\"Cluster 2417: Neisseria meningitidis\\\",\\\"Cluster 2321: Neisseria meningitidis\\\"],[\\\"Cluster 1756: Granulicoccus phenolivorans\\\",\\\"Cluster 2321: Neisseria meningitidis\\\"],[\\\"Cluster 2348: Gardnerella vaginalis\\\",\\\"Cluster 2321: Neisseria meningitidis\\\"],[\\\"Cluster 2365: Bifidobacterium pseudocatenulatum\\\",\\\"Cluster 2321: Neisseria meningitidis\\\"]],[[\\\"Cluster 2436: Gardnerella vaginalis\\\",\\\"Cluster 2415: Neisseria mucosa\\\"],[\\\"Cluster 2421: Chlamydia trachomatis\\\",\\\"Cluster 2415: Neisseria mucosa\\\"],[\\\"Cluster 1311: Neisseria lactamica\\\",\\\"Cluster 2415: Neisseria mucosa\\\"],[\\\"Cluster 1530: Neisseria meningitidis\\\",\\\"Cluster 2415: Neisseria mucosa\\\"],[\\\"Cluster 2372: Neisseria meningitidis\\\",\\\"Cluster 2415: Neisseria mucosa\\\"],[\\\"Cluster 2321: Neisseria meningitidis\\\",\\\"Cluster 2415: Neisseria mucosa\\\"],[\\\"Cluster 2415: Neisseria mucosa\\\",\\\"Cluster 2415: Neisseria mucosa\\\"],[\\\"Cluster 2408: Neisseria lactamica\\\",\\\"Cluster 2415: Neisseria mucosa\\\"],[\\\"Cluster 2426: Neisseria polysaccharea\\\",\\\"Cluster 2415: Neisseria mucosa\\\"],[\\\"Cluster 2328: Neisseria gonorrhoeae\\\",\\\"Cluster 2415: Neisseria mucosa\\\"],[\\\"Cluster 2417: Neisseria meningitidis\\\",\\\"Cluster 2415: Neisseria mucosa\\\"],[\\\"Cluster 1756: Granulicoccus phenolivorans\\\",\\\"Cluster 2415: Neisseria mucosa\\\"],[\\\"Cluster 2348: Gardnerella vaginalis\\\",\\\"Cluster 2415: Neisseria mucosa\\\"],[\\\"Cluster 2365: Bifidobacterium pseudocatenulatum\\\",\\\"Cluster 2415: Neisseria mucosa\\\"]],[[\\\"Cluster 2436: Gardnerella vaginalis\\\",\\\"Cluster 2408: Neisseria lactamica\\\"],[\\\"Cluster 2421: Chlamydia trachomatis\\\",\\\"Cluster 2408: Neisseria lactamica\\\"],[\\\"Cluster 1311: Neisseria lactamica\\\",\\\"Cluster 2408: Neisseria lactamica\\\"],[\\\"Cluster 1530: Neisseria meningitidis\\\",\\\"Cluster 2408: Neisseria lactamica\\\"],[\\\"Cluster 2372: Neisseria meningitidis\\\",\\\"Cluster 2408: Neisseria lactamica\\\"],[\\\"Cluster 2321: Neisseria meningitidis\\\",\\\"Cluster 2408: Neisseria lactamica\\\"],[\\\"Cluster 2415: Neisseria mucosa\\\",\\\"Cluster 2408: Neisseria lactamica\\\"],[\\\"Cluster 2408: Neisseria lactamica\\\",\\\"Cluster 2408: Neisseria lactamica\\\"],[\\\"Cluster 2426: Neisseria polysaccharea\\\",\\\"Cluster 2408: Neisseria lactamica\\\"],[\\\"Cluster 2328: Neisseria gonorrhoeae\\\",\\\"Cluster 2408: Neisseria lactamica\\\"],[\\\"Cluster 2417: Neisseria meningitidis\\\",\\\"Cluster 2408: Neisseria lactamica\\\"],[\\\"Cluster 1756: Granulicoccus phenolivorans\\\",\\\"Cluster 2408: Neisseria lactamica\\\"],[\\\"Cluster 2348: Gardnerella vaginalis\\\",\\\"Cluster 2408: Neisseria lactamica\\\"],[\\\"Cluster 2365: Bifidobacterium pseudocatenulatum\\\",\\\"Cluster 2408: Neisseria lactamica\\\"]],[[\\\"Cluster 2436: Gardnerella vaginalis\\\",\\\"Cluster 2426: Neisseria polysaccharea\\\"],[\\\"Cluster 2421: Chlamydia trachomatis\\\",\\\"Cluster 2426: Neisseria polysaccharea\\\"],[\\\"Cluster 1311: Neisseria lactamica\\\",\\\"Cluster 2426: Neisseria polysaccharea\\\"],[\\\"Cluster 1530: Neisseria meningitidis\\\",\\\"Cluster 2426: Neisseria polysaccharea\\\"],[\\\"Cluster 2372: Neisseria meningitidis\\\",\\\"Cluster 2426: Neisseria polysaccharea\\\"],[\\\"Cluster 2321: Neisseria meningitidis\\\",\\\"Cluster 2426: Neisseria polysaccharea\\\"],[\\\"Cluster 2415: Neisseria mucosa\\\",\\\"Cluster 2426: Neisseria polysaccharea\\\"],[\\\"Cluster 2408: Neisseria lactamica\\\",\\\"Cluster 2426: Neisseria polysaccharea\\\"],[\\\"Cluster 2426: Neisseria polysaccharea\\\",\\\"Cluster 2426: Neisseria polysaccharea\\\"],[\\\"Cluster 2328: Neisseria gonorrhoeae\\\",\\\"Cluster 2426: Neisseria polysaccharea\\\"],[\\\"Cluster 2417: Neisseria meningitidis\\\",\\\"Cluster 2426: Neisseria polysaccharea\\\"],[\\\"Cluster 1756: Granulicoccus phenolivorans\\\",\\\"Cluster 2426: Neisseria polysaccharea\\\"],[\\\"Cluster 2348: Gardnerella vaginalis\\\",\\\"Cluster 2426: Neisseria polysaccharea\\\"],[\\\"Cluster 2365: Bifidobacterium pseudocatenulatum\\\",\\\"Cluster 2426: Neisseria polysaccharea\\\"]],[[\\\"Cluster 2436: Gardnerella vaginalis\\\",\\\"Cluster 2328: Neisseria gonorrhoeae\\\"],[\\\"Cluster 2421: Chlamydia trachomatis\\\",\\\"Cluster 2328: Neisseria gonorrhoeae\\\"],[\\\"Cluster 1311: Neisseria lactamica\\\",\\\"Cluster 2328: Neisseria gonorrhoeae\\\"],[\\\"Cluster 1530: Neisseria meningitidis\\\",\\\"Cluster 2328: Neisseria gonorrhoeae\\\"],[\\\"Cluster 2372: Neisseria meningitidis\\\",\\\"Cluster 2328: Neisseria gonorrhoeae\\\"],[\\\"Cluster 2321: Neisseria meningitidis\\\",\\\"Cluster 2328: Neisseria gonorrhoeae\\\"],[\\\"Cluster 2415: Neisseria mucosa\\\",\\\"Cluster 2328: Neisseria gonorrhoeae\\\"],[\\\"Cluster 2408: Neisseria lactamica\\\",\\\"Cluster 2328: Neisseria gonorrhoeae\\\"],[\\\"Cluster 2426: Neisseria polysaccharea\\\",\\\"Cluster 2328: Neisseria gonorrhoeae\\\"],[\\\"Cluster 2328: Neisseria gonorrhoeae\\\",\\\"Cluster 2328: Neisseria gonorrhoeae\\\"],[\\\"Cluster 2417: Neisseria meningitidis\\\",\\\"Cluster 2328: Neisseria gonorrhoeae\\\"],[\\\"Cluster 1756: Granulicoccus phenolivorans\\\",\\\"Cluster 2328: Neisseria gonorrhoeae\\\"],[\\\"Cluster 2348: Gardnerella vaginalis\\\",\\\"Cluster 2328: Neisseria gonorrhoeae\\\"],[\\\"Cluster 2365: Bifidobacterium pseudocatenulatum\\\",\\\"Cluster 2328: Neisseria gonorrhoeae\\\"]],[[\\\"Cluster 2436: Gardnerella vaginalis\\\",\\\"Cluster 2417: Neisseria meningitidis\\\"],[\\\"Cluster 2421: Chlamydia trachomatis\\\",\\\"Cluster 2417: Neisseria meningitidis\\\"],[\\\"Cluster 1311: Neisseria lactamica\\\",\\\"Cluster 2417: Neisseria meningitidis\\\"],[\\\"Cluster 1530: Neisseria meningitidis\\\",\\\"Cluster 2417: Neisseria meningitidis\\\"],[\\\"Cluster 2372: Neisseria meningitidis\\\",\\\"Cluster 2417: Neisseria meningitidis\\\"],[\\\"Cluster 2321: Neisseria meningitidis\\\",\\\"Cluster 2417: Neisseria meningitidis\\\"],[\\\"Cluster 2415: Neisseria mucosa\\\",\\\"Cluster 2417: Neisseria meningitidis\\\"],[\\\"Cluster 2408: Neisseria lactamica\\\",\\\"Cluster 2417: Neisseria meningitidis\\\"],[\\\"Cluster 2426: Neisseria polysaccharea\\\",\\\"Cluster 2417: Neisseria meningitidis\\\"],[\\\"Cluster 2328: Neisseria gonorrhoeae\\\",\\\"Cluster 2417: Neisseria meningitidis\\\"],[\\\"Cluster 2417: Neisseria meningitidis\\\",\\\"Cluster 2417: Neisseria meningitidis\\\"],[\\\"Cluster 1756: Granulicoccus phenolivorans\\\",\\\"Cluster 2417: Neisseria meningitidis\\\"],[\\\"Cluster 2348: Gardnerella vaginalis\\\",\\\"Cluster 2417: Neisseria meningitidis\\\"],[\\\"Cluster 2365: Bifidobacterium pseudocatenulatum\\\",\\\"Cluster 2417: Neisseria meningitidis\\\"]],[[\\\"Cluster 2436: Gardnerella vaginalis\\\",\\\"Cluster 1756: Granulicoccus phenolivorans\\\"],[\\\"Cluster 2421: Chlamydia trachomatis\\\",\\\"Cluster 1756: Granulicoccus phenolivorans\\\"],[\\\"Cluster 1311: Neisseria lactamica\\\",\\\"Cluster 1756: Granulicoccus phenolivorans\\\"],[\\\"Cluster 1530: Neisseria meningitidis\\\",\\\"Cluster 1756: Granulicoccus phenolivorans\\\"],[\\\"Cluster 2372: Neisseria meningitidis\\\",\\\"Cluster 1756: Granulicoccus phenolivorans\\\"],[\\\"Cluster 2321: Neisseria meningitidis\\\",\\\"Cluster 1756: Granulicoccus phenolivorans\\\"],[\\\"Cluster 2415: Neisseria mucosa\\\",\\\"Cluster 1756: Granulicoccus phenolivorans\\\"],[\\\"Cluster 2408: Neisseria lactamica\\\",\\\"Cluster 1756: Granulicoccus phenolivorans\\\"],[\\\"Cluster 2426: Neisseria polysaccharea\\\",\\\"Cluster 1756: Granulicoccus phenolivorans\\\"],[\\\"Cluster 2328: Neisseria gonorrhoeae\\\",\\\"Cluster 1756: Granulicoccus phenolivorans\\\"],[\\\"Cluster 2417: Neisseria meningitidis\\\",\\\"Cluster 1756: Granulicoccus phenolivorans\\\"],[\\\"Cluster 1756: Granulicoccus phenolivorans\\\",\\\"Cluster 1756: Granulicoccus phenolivorans\\\"],[\\\"Cluster 2348: Gardnerella vaginalis\\\",\\\"Cluster 1756: Granulicoccus phenolivorans\\\"],[\\\"Cluster 2365: Bifidobacterium pseudocatenulatum\\\",\\\"Cluster 1756: Granulicoccus phenolivorans\\\"]],[[\\\"Cluster 2436: Gardnerella vaginalis\\\",\\\"Cluster 2348: Gardnerella vaginalis\\\"],[\\\"Cluster 2421: Chlamydia trachomatis\\\",\\\"Cluster 2348: Gardnerella vaginalis\\\"],[\\\"Cluster 1311: Neisseria lactamica\\\",\\\"Cluster 2348: Gardnerella vaginalis\\\"],[\\\"Cluster 1530: Neisseria meningitidis\\\",\\\"Cluster 2348: Gardnerella vaginalis\\\"],[\\\"Cluster 2372: Neisseria meningitidis\\\",\\\"Cluster 2348: Gardnerella vaginalis\\\"],[\\\"Cluster 2321: Neisseria meningitidis\\\",\\\"Cluster 2348: Gardnerella vaginalis\\\"],[\\\"Cluster 2415: Neisseria mucosa\\\",\\\"Cluster 2348: Gardnerella vaginalis\\\"],[\\\"Cluster 2408: Neisseria lactamica\\\",\\\"Cluster 2348: Gardnerella vaginalis\\\"],[\\\"Cluster 2426: Neisseria polysaccharea\\\",\\\"Cluster 2348: Gardnerella vaginalis\\\"],[\\\"Cluster 2328: Neisseria gonorrhoeae\\\",\\\"Cluster 2348: Gardnerella vaginalis\\\"],[\\\"Cluster 2417: Neisseria meningitidis\\\",\\\"Cluster 2348: Gardnerella vaginalis\\\"],[\\\"Cluster 1756: Granulicoccus phenolivorans\\\",\\\"Cluster 2348: Gardnerella vaginalis\\\"],[\\\"Cluster 2348: Gardnerella vaginalis\\\",\\\"Cluster 2348: Gardnerella vaginalis\\\"],[\\\"Cluster 2365: Bifidobacterium pseudocatenulatum\\\",\\\"Cluster 2348: Gardnerella vaginalis\\\"]],[[\\\"Cluster 2436: Gardnerella vaginalis\\\",\\\"Cluster 2365: Bifidobacterium pseudocatenulatum\\\"],[\\\"Cluster 2421: Chlamydia trachomatis\\\",\\\"Cluster 2365: Bifidobacterium pseudocatenulatum\\\"],[\\\"Cluster 1311: Neisseria lactamica\\\",\\\"Cluster 2365: Bifidobacterium pseudocatenulatum\\\"],[\\\"Cluster 1530: Neisseria meningitidis\\\",\\\"Cluster 2365: Bifidobacterium pseudocatenulatum\\\"],[\\\"Cluster 2372: Neisseria meningitidis\\\",\\\"Cluster 2365: Bifidobacterium pseudocatenulatum\\\"],[\\\"Cluster 2321: Neisseria meningitidis\\\",\\\"Cluster 2365: Bifidobacterium pseudocatenulatum\\\"],[\\\"Cluster 2415: Neisseria mucosa\\\",\\\"Cluster 2365: Bifidobacterium pseudocatenulatum\\\"],[\\\"Cluster 2408: Neisseria lactamica\\\",\\\"Cluster 2365: Bifidobacterium pseudocatenulatum\\\"],[\\\"Cluster 2426: Neisseria polysaccharea\\\",\\\"Cluster 2365: Bifidobacterium pseudocatenulatum\\\"],[\\\"Cluster 2328: Neisseria gonorrhoeae\\\",\\\"Cluster 2365: Bifidobacterium pseudocatenulatum\\\"],[\\\"Cluster 2417: Neisseria meningitidis\\\",\\\"Cluster 2365: Bifidobacterium pseudocatenulatum\\\"],[\\\"Cluster 1756: Granulicoccus phenolivorans\\\",\\\"Cluster 2365: Bifidobacterium pseudocatenulatum\\\"],[\\\"Cluster 2348: Gardnerella vaginalis\\\",\\\"Cluster 2365: Bifidobacterium pseudocatenulatum\\\"],[\\\"Cluster 2365: Bifidobacterium pseudocatenulatum\\\",\\\"Cluster 2365: Bifidobacterium pseudocatenulatum\\\"]]],\\\"colorscale\\\":[[0.0,\\\"#000004\\\"],[0.00392156862745098,\\\"#010005\\\"],[0.00784313725490196,\\\"#010106\\\"],[0.011764705882352941,\\\"#010108\\\"],[0.01568627450980392,\\\"#020109\\\"],[0.0196078431372549,\\\"#02020B\\\"],[0.023529411764705882,\\\"#02020D\\\"],[0.027450980392156862,\\\"#03030F\\\"],[0.03137254901960784,\\\"#030312\\\"],[0.03529411764705882,\\\"#040414\\\"],[0.0392156862745098,\\\"#050416\\\"],[0.043137254901960784,\\\"#060518\\\"],[0.047058823529411764,\\\"#06051A\\\"],[0.050980392156862744,\\\"#07061C\\\"],[0.054901960784313725,\\\"#08071E\\\"],[0.058823529411764705,\\\"#090720\\\"],[0.06274509803921569,\\\"#0A0822\\\"],[0.06666666666666667,\\\"#0B0924\\\"],[0.07058823529411765,\\\"#0C0926\\\"],[0.07450980392156863,\\\"#0D0A29\\\"],[0.0784313725490196,\\\"#0E0B2B\\\"],[0.08235294117647059,\\\"#100B2D\\\"],[0.08627450980392157,\\\"#110C2F\\\"],[0.09019607843137255,\\\"#120D31\\\"],[0.09411764705882353,\\\"#130D34\\\"],[0.09803921568627451,\\\"#140E36\\\"],[0.10196078431372549,\\\"#150E38\\\"],[0.10588235294117647,\\\"#160F3B\\\"],[0.10980392156862745,\\\"#180F3D\\\"],[0.11372549019607843,\\\"#19103F\\\"],[0.11764705882352941,\\\"#1A1042\\\"],[0.12156862745098039,\\\"#1C1044\\\"],[0.12549019607843137,\\\"#1D1147\\\"],[0.12941176470588237,\\\"#1E1149\\\"],[0.13333333333333333,\\\"#20114B\\\"],[0.13725490196078433,\\\"#21114E\\\"],[0.1411764705882353,\\\"#221150\\\"],[0.1450980392156863,\\\"#241253\\\"],[0.14901960784313725,\\\"#251255\\\"],[0.15294117647058825,\\\"#271258\\\"],[0.1568627450980392,\\\"#29115A\\\"],[0.1607843137254902,\\\"#2A115C\\\"],[0.16470588235294117,\\\"#2C115F\\\"],[0.16862745098039217,\\\"#2D1161\\\"],[0.17254901960784313,\\\"#2F1163\\\"],[0.17647058823529413,\\\"#311165\\\"],[0.1803921568627451,\\\"#331067\\\"],[0.1843137254901961,\\\"#341069\\\"],[0.18823529411764706,\\\"#36106B\\\"],[0.19215686274509805,\\\"#38106C\\\"],[0.19607843137254902,\\\"#390F6E\\\"],[0.2,\\\"#3B0F70\\\"],[0.20392156862745098,\\\"#3D0F71\\\"],[0.20784313725490197,\\\"#3F0F72\\\"],[0.21176470588235294,\\\"#400F74\\\"],[0.21568627450980393,\\\"#420F75\\\"],[0.2196078431372549,\\\"#440F76\\\"],[0.2235294117647059,\\\"#451077\\\"],[0.22745098039215686,\\\"#471078\\\"],[0.23137254901960785,\\\"#491078\\\"],[0.23529411764705882,\\\"#4A1079\\\"],[0.23921568627450981,\\\"#4C117A\\\"],[0.24313725490196078,\\\"#4E117B\\\"],[0.24705882352941178,\\\"#4F127B\\\"],[0.25098039215686274,\\\"#51127C\\\"],[0.2549019607843137,\\\"#52137C\\\"],[0.25882352941176473,\\\"#54137D\\\"],[0.2627450980392157,\\\"#56147D\\\"],[0.26666666666666666,\\\"#57157E\\\"],[0.27058823529411763,\\\"#59157E\\\"],[0.27450980392156865,\\\"#5A167E\\\"],[0.2784313725490196,\\\"#5C167F\\\"],[0.2823529411764706,\\\"#5D177F\\\"],[0.28627450980392155,\\\"#5F187F\\\"],[0.2901960784313726,\\\"#601880\\\"],[0.29411764705882354,\\\"#621980\\\"],[0.2980392156862745,\\\"#641A80\\\"],[0.30196078431372547,\\\"#651A80\\\"],[0.3058823529411765,\\\"#671B80\\\"],[0.30980392156862746,\\\"#681C81\\\"],[0.3137254901960784,\\\"#6A1C81\\\"],[0.3176470588235294,\\\"#6B1D81\\\"],[0.3215686274509804,\\\"#6D1D81\\\"],[0.3254901960784314,\\\"#6E1E81\\\"],[0.32941176470588235,\\\"#701F81\\\"],[0.3333333333333333,\\\"#721F81\\\"],[0.33725490196078434,\\\"#732081\\\"],[0.3411764705882353,\\\"#752181\\\"],[0.34509803921568627,\\\"#762181\\\"],[0.34901960784313724,\\\"#782281\\\"],[0.35294117647058826,\\\"#792282\\\"],[0.3568627450980392,\\\"#7B2382\\\"],[0.3607843137254902,\\\"#7C2382\\\"],[0.36470588235294116,\\\"#7E2482\\\"],[0.3686274509803922,\\\"#802582\\\"],[0.37254901960784315,\\\"#812581\\\"],[0.3764705882352941,\\\"#832681\\\"],[0.3803921568627451,\\\"#842681\\\"],[0.3843137254901961,\\\"#862781\\\"],[0.38823529411764707,\\\"#882781\\\"],[0.39215686274509803,\\\"#892881\\\"],[0.396078431372549,\\\"#8B2981\\\"],[0.4,\\\"#8C2981\\\"],[0.403921568627451,\\\"#8E2A81\\\"],[0.40784313725490196,\\\"#902A81\\\"],[0.4117647058823529,\\\"#912B81\\\"],[0.41568627450980394,\\\"#932B80\\\"],[0.4196078431372549,\\\"#942C80\\\"],[0.4235294117647059,\\\"#962C80\\\"],[0.42745098039215684,\\\"#982D80\\\"],[0.43137254901960786,\\\"#992D80\\\"],[0.43529411764705883,\\\"#9B2E7F\\\"],[0.4392156862745098,\\\"#9C2E7F\\\"],[0.44313725490196076,\\\"#9E2F7F\\\"],[0.4470588235294118,\\\"#A02F7F\\\"],[0.45098039215686275,\\\"#A1307E\\\"],[0.4549019607843137,\\\"#A3307E\\\"],[0.4588235294117647,\\\"#A5317E\\\"],[0.4627450980392157,\\\"#A6317D\\\"],[0.4666666666666667,\\\"#A8327D\\\"],[0.47058823529411764,\\\"#AA337D\\\"],[0.4745098039215686,\\\"#AB337C\\\"],[0.47843137254901963,\\\"#AD347C\\\"],[0.4823529411764706,\\\"#AE347B\\\"],[0.48627450980392156,\\\"#B0357B\\\"],[0.49019607843137253,\\\"#B2357B\\\"],[0.49411764705882355,\\\"#B3367A\\\"],[0.4980392156862745,\\\"#B5367A\\\"],[0.5019607843137255,\\\"#B73779\\\"],[0.5058823529411764,\\\"#B83779\\\"],[0.5098039215686274,\\\"#BA3878\\\"],[0.5137254901960784,\\\"#BC3978\\\"],[0.5176470588235295,\\\"#BD3977\\\"],[0.5215686274509804,\\\"#BF3A77\\\"],[0.5254901960784314,\\\"#C03A76\\\"],[0.5294117647058824,\\\"#C23B75\\\"],[0.5333333333333333,\\\"#C43C75\\\"],[0.5372549019607843,\\\"#C53C74\\\"],[0.5411764705882353,\\\"#C73D73\\\"],[0.5450980392156862,\\\"#C83E73\\\"],[0.5490196078431373,\\\"#CA3E72\\\"],[0.5529411764705883,\\\"#CC3F71\\\"],[0.5568627450980392,\\\"#CD4071\\\"],[0.5607843137254902,\\\"#CF4070\\\"],[0.5647058823529412,\\\"#D0416F\\\"],[0.5686274509803921,\\\"#D2426F\\\"],[0.5725490196078431,\\\"#D3436E\\\"],[0.5764705882352941,\\\"#D5446D\\\"],[0.5803921568627451,\\\"#D6456C\\\"],[0.5843137254901961,\\\"#D8456C\\\"],[0.5882352941176471,\\\"#D9466B\\\"],[0.592156862745098,\\\"#DB476A\\\"],[0.596078431372549,\\\"#DC4869\\\"],[0.6,\\\"#DE4968\\\"],[0.6039215686274509,\\\"#DF4A68\\\"],[0.6078431372549019,\\\"#E04C67\\\"],[0.611764705882353,\\\"#E24D66\\\"],[0.615686274509804,\\\"#E34E65\\\"],[0.6196078431372549,\\\"#E44F64\\\"],[0.6235294117647059,\\\"#E55064\\\"],[0.6274509803921569,\\\"#E75263\\\"],[0.6313725490196078,\\\"#E85362\\\"],[0.6352941176470588,\\\"#E95462\\\"],[0.6392156862745098,\\\"#EA5661\\\"],[0.6431372549019608,\\\"#EB5760\\\"],[0.6470588235294118,\\\"#EC5860\\\"],[0.6509803921568628,\\\"#ED5A5F\\\"],[0.6549019607843137,\\\"#EE5B5E\\\"],[0.6588235294117647,\\\"#EF5D5E\\\"],[0.6627450980392157,\\\"#F05F5E\\\"],[0.6666666666666666,\\\"#F1605D\\\"],[0.6705882352941176,\\\"#F2625D\\\"],[0.6745098039215687,\\\"#F2645C\\\"],[0.6784313725490196,\\\"#F3655C\\\"],[0.6823529411764706,\\\"#F4675C\\\"],[0.6862745098039216,\\\"#F4695C\\\"],[0.6901960784313725,\\\"#F56B5C\\\"],[0.6941176470588235,\\\"#F66C5C\\\"],[0.6980392156862745,\\\"#F66E5C\\\"],[0.7019607843137254,\\\"#F7705C\\\"],[0.7058823529411765,\\\"#F7725C\\\"],[0.7098039215686275,\\\"#F8745C\\\"],[0.7137254901960784,\\\"#F8765C\\\"],[0.7176470588235294,\\\"#F9785D\\\"],[0.7215686274509804,\\\"#F9795D\\\"],[0.7254901960784313,\\\"#F97B5D\\\"],[0.7294117647058823,\\\"#FA7D5E\\\"],[0.7333333333333333,\\\"#FA7F5E\\\"],[0.7372549019607844,\\\"#FA815F\\\"],[0.7411764705882353,\\\"#FB835F\\\"],[0.7450980392156863,\\\"#FB8560\\\"],[0.7490196078431373,\\\"#FB8761\\\"],[0.7529411764705882,\\\"#FC8961\\\"],[0.7568627450980392,\\\"#FC8A62\\\"],[0.7607843137254902,\\\"#FC8C63\\\"],[0.7647058823529411,\\\"#FC8E64\\\"],[0.7686274509803922,\\\"#FC9065\\\"],[0.7725490196078432,\\\"#FD9266\\\"],[0.7764705882352941,\\\"#FD9467\\\"],[0.7803921568627451,\\\"#FD9668\\\"],[0.7843137254901961,\\\"#FD9869\\\"],[0.788235294117647,\\\"#FD9A6A\\\"],[0.792156862745098,\\\"#FD9B6B\\\"],[0.796078431372549,\\\"#FE9D6C\\\"],[0.8,\\\"#FE9F6D\\\"],[0.803921568627451,\\\"#FEA16E\\\"],[0.807843137254902,\\\"#FEA36F\\\"],[0.8117647058823529,\\\"#FEA571\\\"],[0.8156862745098039,\\\"#FEA772\\\"],[0.8196078431372549,\\\"#FEA973\\\"],[0.8235294117647058,\\\"#FEAA74\\\"],[0.8274509803921568,\\\"#FEAC76\\\"],[0.8313725490196079,\\\"#FEAE77\\\"],[0.8352941176470589,\\\"#FEB078\\\"],[0.8392156862745098,\\\"#FEB27A\\\"],[0.8431372549019608,\\\"#FEB47B\\\"],[0.8470588235294118,\\\"#FEB67C\\\"],[0.8509803921568627,\\\"#FEB77E\\\"],[0.8549019607843137,\\\"#FEB97F\\\"],[0.8588235294117647,\\\"#FEBB81\\\"],[0.8627450980392157,\\\"#FEBD82\\\"],[0.8666666666666667,\\\"#FEBF84\\\"],[0.8705882352941177,\\\"#FEC185\\\"],[0.8745098039215686,\\\"#FEC287\\\"],[0.8784313725490196,\\\"#FEC488\\\"],[0.8823529411764706,\\\"#FEC68A\\\"],[0.8862745098039215,\\\"#FEC88C\\\"],[0.8901960784313725,\\\"#FECA8D\\\"],[0.8941176470588236,\\\"#FECC8F\\\"],[0.8980392156862745,\\\"#FECD90\\\"],[0.9019607843137255,\\\"#FECF92\\\"],[0.9058823529411765,\\\"#FED194\\\"],[0.9098039215686274,\\\"#FED395\\\"],[0.9137254901960784,\\\"#FED597\\\"],[0.9176470588235294,\\\"#FED799\\\"],[0.9215686274509803,\\\"#FED89A\\\"],[0.9254901960784314,\\\"#FDDA9C\\\"],[0.9294117647058824,\\\"#FDDC9E\\\"],[0.9333333333333333,\\\"#FDDEA0\\\"],[0.9372549019607843,\\\"#FDE0A1\\\"],[0.9411764705882353,\\\"#FDE2A3\\\"],[0.9450980392156862,\\\"#FDE3A5\\\"],[0.9490196078431372,\\\"#FDE5A7\\\"],[0.9529411764705882,\\\"#FDE7A9\\\"],[0.9568627450980393,\\\"#FDE9AA\\\"],[0.9607843137254902,\\\"#FDEBAC\\\"],[0.9647058823529412,\\\"#FCECAE\\\"],[0.9686274509803922,\\\"#FCEEB0\\\"],[0.9725490196078431,\\\"#FCF0B2\\\"],[0.9764705882352941,\\\"#FCF2B4\\\"],[0.9803921568627451,\\\"#FCF4B6\\\"],[0.984313725490196,\\\"#FCF6B8\\\"],[0.9882352941176471,\\\"#FCF7B9\\\"],[0.9921568627450981,\\\"#FCF9BB\\\"],[0.996078431372549,\\\"#FCFBBD\\\"],[1.0,\\\"#FCFDBF\\\"]],\\\"z\\\":[[0.96604276,0.98375285,0.9985596,0.9984686,0.9979185,0.9984581,0.9987858,0.9987598,0.99877226,0.96718717,0.998363,0.99930155,0.99466884,0.9959202],[0.98375285,0.619491,0.999245,0.9991197,0.99855256,0.9987473,0.9987238,0.99893415,0.9995867,0.99859774,0.99878985,0.9994606,0.9993351,0.99944973],[0.9985596,0.999245,0.00052438385,0.5565011,0.725437,0.76225734,0.75574183,0.95405984,0.9489718,0.9533789,0.9475046,0.999224,0.99871284,0.99809116],[0.9984686,0.9991197,0.5565011,0.0054347827,0.7160714,0.74773675,0.74108887,0.9536091,0.9492094,0.95331854,0.9478372,0.9993097,0.9990998,0.9976671],[0.9979185,0.99855256,0.725437,0.7160714,0.3657861,0.6838366,0.67368424,0.9592391,0.9482836,0.9553185,0.94718885,0.9985396,0.9988088,0.99806666],[0.9984581,0.9987473,0.76225734,0.74773675,0.6838366,0.19636884,0.58134997,0.9566539,0.94523734,0.94625634,0.9449814,0.99809206,0.999003,0.99776036],[0.9987858,0.9987238,0.75574183,0.74108887,0.67368424,0.58134997,0.55783546,0.9547318,0.9467765,0.95169467,0.94708663,0.99874514,0.99908817,0.9978042],[0.9987598,0.99893415,0.95405984,0.9536091,0.9592391,0.9566539,0.9547318,0.4900645,0.7283431,0.75974154,0.73318106,0.9986389,0.99914265,0.9973897],[0.99877226,0.9995867,0.9489718,0.9492094,0.9482836,0.94523734,0.9467765,0.7283431,0.6688838,0.73327845,0.6903253,0.9982388,0.99935126,0.9973095],[0.96718717,0.99859774,0.9533789,0.95331854,0.9553185,0.94625634,0.95169467,0.75974154,0.73327845,0.2099478,0.64918464,0.9984896,0.9981766,0.9968659],[0.998363,0.99878985,0.9475046,0.9478372,0.94718885,0.9449814,0.94708663,0.73318106,0.6903253,0.64918464,0.5688817,0.99819756,0.99868745,0.9975825],[0.99930155,0.9994606,0.999224,0.9993097,0.9985396,0.99809206,0.99874514,0.9986389,0.9982388,0.9984896,0.99819756,0.01681466,0.9891395,0.9965444],[0.99466884,0.9993351,0.99871284,0.9990998,0.9988088,0.999003,0.99908817,0.99914265,0.99935126,0.9981766,0.99868745,0.9891395,0.28909692,0.9966936],[0.9959202,0.99944973,0.99809116,0.9976671,0.99806666,0.99776036,0.9978042,0.9973897,0.9973095,0.9968659,0.9975825,0.9965444,0.9966936,0.346541]],\\\"hovertemplate\\\":\\\"%{customdata[0]}<br>\\\\n%{customdata[1]}<br>\\\\n%{z:.3f}\\\\n<extra><\\/extra>\\\\n\\\",\\\"x\\\":[0.5000000000000004,7.664414002968975,19.341492255000286,21.341492255000286,23.341492255000286,25.755705817373382,27.755705817373382,29.755705817373382,32.487756624942264,34.487756624942264,53.51551300226221,81.21757284789959,83.21757284789959,85.63178641027268,88.63178641027268]},{\\\"xaxis\\\":\\\"x2\\\",\\\"colorscale\\\":[[0.0,\\\"#BFBFBF\\\"],[0.05555555555555555,\\\"#4E79A7\\\"],[0.1111111111111111,\\\"#F28E2B\\\"],[0.16666666666666666,\\\"#E15759\\\"],[0.2222222222222222,\\\"#499894\\\"],[0.2777777777777778,\\\"#59A14F\\\"],[0.3333333333333333,\\\"#B6992D\\\"],[0.3888888888888889,\\\"#B07AA1\\\"],[0.4444444444444444,\\\"#D37295\\\"],[0.5,\\\"#9D7660\\\"],[0.5555555555555556,\\\"#A0CBE8\\\"],[0.6111111111111112,\\\"#FFBE7D\\\"],[0.6666666666666666,\\\"#FF9D9A\\\"],[0.7222222222222222,\\\"#86BCB6\\\"],[0.7777777777777778,\\\"#8CD17D\\\"],[0.8333333333333334,\\\"#F1CE63\\\"],[0.8888888888888888,\\\"#D4A6C8\\\"],[0.9444444444444444,\\\"#FABFD2\\\"],[1.0,\\\"#D7B5A6\\\"]],\\\"text\\\":[[\\\"Cluster 2436\\\"],[\\\"Cluster 2421\\\"],[\\\"Cluster 1311\\\"],[\\\"Cluster 1530\\\"],[\\\"Cluster 2372\\\"],[\\\"Cluster 2321\\\"],[\\\"Cluster 2415\\\"],[\\\"Cluster 2408\\\"],[\\\"Cluster 2426\\\"],[\\\"Cluster 2328\\\"],[\\\"Cluster 2417\\\"],[\\\"Cluster 1756\\\"],[\\\"Cluster 2348\\\"],[\\\"Cluster 2365\\\"]],\\\"showscale\\\":false,\\\"customdata\\\":[[[\\\"Gardnerella vaginalis\\\"]],[[\\\"Chlamydia trachomatis\\\"]],[[\\\"Neisseria lactamica\\\"]],[[\\\"Neisseria meningitidis\\\"]],[[\\\"Neisseria meningitidis\\\"]],[[\\\"Neisseria meningitidis\\\"]],[[\\\"Neisseria mucosa\\\"]],[[\\\"Neisseria lactamica\\\"]],[[\\\"Neisseria polysaccharea\\\"]],[[\\\"Neisseria gonorrhoeae\\\"]],[[\\\"Neisseria meningitidis\\\"]],[[\\\"Granulicoccus phenolivorans\\\"]],[[\\\"Gardnerella vaginalis\\\"]],[[\\\"Bifidobacterium pseudocatenulatum\\\"]]],\\\"zmin\\\":0,\\\"z\\\":[[3],[2],[6],[7],[7],[7],[8],[6],[9],[5],[7],[4],[3],[1]],\\\"ygap\\\":1,\\\"zmax\\\":18,\\\"y\\\":[0.5000000000000004,7.664414002968975,19.341492255000286,21.341492255000286,23.341492255000286,25.755705817373382,27.755705817373382,29.755705817373382,32.487756624942264,34.487756624942264,53.51551300226221,81.21757284789959,83.21757284789959,85.63178641027268,88.63178641027268],\\\"type\\\":\\\"heatmap\\\",\\\"hovertemplate\\\":\\\"<b>%{text}<\\/b><br>\\\\n%{customdata[0]}\\\\n<extra><\\/extra>\\\\n\\\"}],{\\\"showlegend\\\":false,\\\"xaxis\\\":{\\\"rangemode\\\":\\\"nonnegative\\\",\\\"domain\\\":[0.0,0.272108843537415],\\\"autorange\\\":\\\"reversed\\\"},\\\"hovermode\\\":\\\"closest\\\",\\\"xaxis2\\\":{\\\"visible\\\":false,\\\"domain\\\":[0.27891156462585037,0.3129251700680272]},\\\"height\\\":750,\\\"margin\\\":{\\\"l\\\":50,\\\"b\\\":50,\\\"r\\\":50,\\\"t\\\":60},\\\"yaxis\\\":{\\\"visible\\\":false},\\\"xaxis3\\\":{\\\"scaleanchor\\\":\\\"y\\\",\\\"visible\\\":false,\\\"domain\\\":[0.3197278911564626,1.0]},\\\"width\\\":1000},{}); gd.on(\\\"plotly_hover\\\",(function (data){var filtered_data=WebIO.PlotlyCommands.filterEventData(gd,data,\\\"hover\\\"); return !(filtered_data.isnil) ? (WebIO.setval({\\\"name\\\":\\\"hover\\\",\\\"scope\\\":\\\"13925179724236524620\\\",\\\"id\\\":\\\"7762498918354160312\\\",\\\"type\\\":\\\"observable\\\"},filtered_data.out)) : undefined})); gd.on(\\\"plotly_unhover\\\",(function (){return WebIO.setval({\\\"name\\\":\\\"hover\\\",\\\"scope\\\":\\\"13925179724236524620\\\",\\\"id\\\":\\\"7762498918354160312\\\",\\\"type\\\":\\\"observable\\\"},{})})); gd.on(\\\"plotly_selected\\\",(function (data){var filtered_data=WebIO.PlotlyCommands.filterEventData(gd,data,\\\"selected\\\"); return !(filtered_data.isnil) ? (WebIO.setval({\\\"name\\\":\\\"selected\\\",\\\"scope\\\":\\\"13925179724236524620\\\",\\\"id\\\":\\\"15591980028490563419\\\",\\\"type\\\":\\\"observable\\\"},filtered_data.out)) : undefined})); gd.on(\\\"plotly_deselect\\\",(function (){return WebIO.setval({\\\"name\\\":\\\"selected\\\",\\\"scope\\\":\\\"13925179724236524620\\\",\\\"id\\\":\\\"15591980028490563419\\\",\\\"type\\\":\\\"observable\\\"},{})})); gd.on(\\\"plotly_relayout\\\",(function (data){var filtered_data=WebIO.PlotlyCommands.filterEventData(gd,data,\\\"relayout\\\"); return !(filtered_data.isnil) ? (WebIO.setval({\\\"name\\\":\\\"relayout\\\",\\\"scope\\\":\\\"13925179724236524620\\\",\\\"id\\\":\\\"15802813030334744242\\\",\\\"type\\\":\\\"observable\\\"},filtered_data.out)) : undefined})); return gd.on(\\\"plotly_click\\\",(function (data){var filtered_data=WebIO.PlotlyCommands.filterEventData(gd,data,\\\"click\\\"); return !(filtered_data.isnil) ? (WebIO.setval({\\\"name\\\":\\\"click\\\",\\\"scope\\\":\\\"13925179724236524620\\\",\\\"id\\\":\\\"6138878057098371540\\\",\\\"type\\\":\\\"observable\\\"},filtered_data.out)) : undefined}))}));\\n    (WebIO.importBlock({\\\"data\\\":[{\\\"name\\\":\\\"Plotly\\\",\\\"type\\\":\\\"js\\\",\\\"url\\\":\\\"\\/assetserver\\/e6903599031aaef8675931dfcd7df98a1aeffbfc-plotly-latest.min.js\\\"},{\\\"name\\\":null,\\\"type\\\":\\\"js\\\",\\\"url\\\":\\\"\\/assetserver\\/74a5dea81f21b0b802ef1ee92f1c8a504eac1a0c-plotly_webio.bundle.js\\\"}],\\\"type\\\":\\\"async_block\\\"})).then((imports) => handler.apply(this, imports));\\n}\\n\"],\"observables\":{\"_toImage\":{\"sync\":false,\"id\":\"7718664093415920831\",\"value\":{}},\"hover\":{\"sync\":false,\"id\":\"7762498918354160312\",\"value\":{}},\"selected\":{\"sync\":false,\"id\":\"15591980028490563419\",\"value\":{}},\"__gd_contents\":{\"sync\":false,\"id\":\"18081126273051792779\",\"value\":{}},\"click\":{\"sync\":false,\"id\":\"6138878057098371540\",\"value\":{}},\"image\":{\"sync\":true,\"id\":\"7061266256219069128\",\"value\":\"\"},\"__get_gd_contents\":{\"sync\":false,\"id\":\"6392439800951927600\",\"value\":\"\"},\"_downloadImage\":{\"sync\":false,\"id\":\"9428503077399525589\",\"value\":{}},\"relayout\":{\"sync\":false,\"id\":\"15802813030334744242\",\"value\":{}},\"_commands\":{\"sync\":false,\"id\":\"1885903002262966398\",\"value\":[]}}},\"children\":[{\"props\":{\"id\":\"plot-2a4fb56f-1a5d-4143-a51c-4b206d2ff755\"},\"nodeType\":\"DOM\",\"type\":\"node\",\"instanceArgs\":{\"namespace\":\"html\",\"tag\":\"div\"},\"children\":[]}]},\n",
       "            window,\n",
       "        );\n",
       "    } else {\n",
       "        document\n",
       "            .querySelector('[data-webio-mountpoint=\"7424276248530598753\"]')\n",
       "            .innerHTML = (\n",
       "                '<div style=\"padding: 1em; background-color: #f8d6da; border: 1px solid #f5c6cb\">' +\n",
       "                '<p><strong>WebIO not detected.</strong></p>' +\n",
       "                '<p>Please read ' +\n",
       "                '<a href=\"https://juliagizmos.github.io/WebIO.jl/latest/troubleshooting/not-detected/\" target=\"_blank\">the troubleshooting guide</a> ' +\n",
       "                'for more information on how to resolve this issue.</p>' +\n",
       "                '<p><a href=\"https://juliagizmos.github.io/WebIO.jl/latest/troubleshooting/not-detected/\" target=\"_blank\">https://juliagizmos.github.io/WebIO.jl/latest/troubleshooting/not-detected/</a></p>' +\n",
       "                '</div>'\n",
       "            );\n",
       "    }\n",
       "    </script>\n",
       "</div>\n"
      ],
      "text/plain": [
       "data: [\n",
       "  \"scatter with fields fill, hoverinfo, line, mode, showlegend, type, x, and y\",\n",
       "  \"scatter with fields hoverinfo, line, mode, showlegend, type, x, and y\",\n",
       "  \"scatter with fields hoverinfo, line, mode, showlegend, type, x, and y\",\n",
       "  \"scatter with fields hoverinfo, line, mode, showlegend, type, x, and y\",\n",
       "  \"scatter with fields hoverinfo, line, mode, showlegend, type, x, and y\",\n",
       "  \"scatter with fields fill, hoverinfo, line, mode, showlegend, type, x, and y\",\n",
       "  \"scatter with fields fill, hoverinfo, line, mode, showlegend, type, x, and y\",\n",
       "  \"scatter with fields hoverinfo, line, mode, showlegend, type, x, and y\",\n",
       "  \"scatter with fields hoverinfo, line, mode, showlegend, type, x, and y\",\n",
       "  \"scatter with fields hoverinfo, line, mode, showlegend, type, x, and y\",\n",
       "  \"scatter with fields fill, hoverinfo, line, mode, showlegend, type, x, and y\",\n",
       "  \"scatter with fields fill, hoverinfo, line, mode, showlegend, type, x, and y\",\n",
       "  \"scatter with fields fill, hoverinfo, line, mode, showlegend, type, x, and y\",\n",
       "  \"scatter with fields fill, hoverinfo, line, mode, showlegend, type, x, and y\",\n",
       "  \"scatter with fields fill, hoverinfo, line, mode, showlegend, type, x, and y\",\n",
       "  \"scatter with fields hoverinfo, line, mode, showlegend, type, x, and y\",\n",
       "  \"scatter with fields fill, hoverinfo, line, mode, showlegend, type, x, and y\",\n",
       "  \"scatter with fields fill, hoverinfo, line, mode, showlegend, type, x, and y\",\n",
       "  \"scatter with fields fill, hoverinfo, line, mode, showlegend, type, x, and y\",\n",
       "  \"scatter with fields hoverinfo, line, mode, showlegend, type, x, and y\",\n",
       "  \"scatter with fields fill, hoverinfo, line, mode, showlegend, type, x, and y\",\n",
       "  \"scatter with fields hoverinfo, line, mode, showlegend, type, x, and y\",\n",
       "  \"scatter with fields fill, hoverinfo, line, mode, showlegend, type, x, and y\",\n",
       "  \"scatter with fields fill, hoverinfo, line, mode, showlegend, type, x, and y\",\n",
       "  \"scatter with fields hoverinfo, line, mode, showlegend, type, x, and y\",\n",
       "  \"scatter with fields hoverinfo, line, mode, showlegend, type, x, and y\",\n",
       "  \"scatter with fields hoverinfo, line, mode, showlegend, type, x, and y\",\n",
       "  \"scatter with fields customdata, hovertemplate, marker, mode, showlegend, text, type, x, and y\",\n",
       "  \"heatmap with fields colorscale, customdata, hovertemplate, type, x, xaxis, y, and z\",\n",
       "  \"heatmap with fields colorscale, customdata, hovertemplate, showscale, text, type, xaxis, y, ygap, z, zmax, and zmin\"\n",
       "]\n",
       "\n",
       "layout: \"layout with fields height, hovermode, margin, showlegend, width, xaxis, xaxis2, xaxis3, and yaxis\"\n",
       "\n"
      ]
     },
     "execution_count": 37,
     "metadata": {
      "@webio": {
       "kernelId": "7a1d422a-5147-4b6e-b6fc-51aa2c335193"
      }
     },
     "output_type": "execute_result"
    }
   ],
   "source": [
    "let\n",
    "    plt = clustermap(dg_trunc, class_colors_gap=1)\n",
    "    savehtml(plt, string(outdir / \"demo-clustermap-truncated.html\"), :embed)\n",
    "    plt\n",
    "end"
   ]
  }
 ],
 "metadata": {
  "@webio": {
   "lastCommId": "2371db67-5998-43b3-8ab8-8cb2a355b336",
   "lastKernelId": "7a1d422a-5147-4b6e-b6fc-51aa2c335193"
  },
  "kernelspec": {
   "display_name": "Julia 1.5.1",
   "language": "julia",
   "name": "julia-1.5"
  },
  "language_info": {
   "file_extension": ".jl",
   "mimetype": "application/julia",
   "name": "julia",
   "version": "1.5.1"
  }
 },
 "nbformat": 4,
 "nbformat_minor": 4
}
