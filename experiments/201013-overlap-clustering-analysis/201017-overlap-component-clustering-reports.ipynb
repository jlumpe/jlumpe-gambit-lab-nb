{
 "cells": [
  {
   "cell_type": "markdown",
   "metadata": {},
   "source": [
    "# 201017 Overlap component clustering reports"
   ]
  },
  {
   "cell_type": "code",
   "execution_count": 1,
   "metadata": {},
   "outputs": [],
   "source": [
    "using ProgressMeter\n",
    "using FilePathsBase; using FilePathsBase: /\n",
    "using GZip\n",
    "using JSON\n",
    "using Mmap\n",
    "using DataFrames\n",
    "using CSV\n",
    "using StatsBase\n",
    "using CategoricalArrays\n",
    "using HDF5\n",
    "using Markdown\n",
    "using DataStructures: counter\n",
    "using AbstractTrees\n",
    "using Clustering\n",
    "using Dates"
   ]
  },
  {
   "cell_type": "code",
   "execution_count": 2,
   "metadata": {},
   "outputs": [
    {
     "data": {
      "text/html": [
       "<script>\n",
       "// Immediately-invoked-function-expression to avoid global variables.\n",
       "(function() {\n",
       "    var warning_div = document.getElementById(\"webio-warning-1322052592698447000\");\n",
       "    var hide = function () {\n",
       "        var script = document.getElementById(\"webio-setup-7920146709185753207\");\n",
       "        var parent = script && script.parentElement;\n",
       "        var grandparent = parent && parent.parentElement;\n",
       "        if (grandparent) {\n",
       "            grandparent.style.display = \"none\";\n",
       "        }\n",
       "        warning_div.style.display = \"none\";\n",
       "    };\n",
       "    if (typeof Jupyter !== \"undefined\") {\n",
       "        console.log(\"WebIO detected Jupyter notebook environment.\");\n",
       "        // Jupyter notebook.\n",
       "        var extensions = (\n",
       "            Jupyter\n",
       "            && Jupyter.notebook.config.data\n",
       "            && Jupyter.notebook.config.data.load_extensions\n",
       "        );\n",
       "        if (extensions && extensions[\"webio-jupyter-notebook\"]) {\n",
       "            // Extension already loaded.\n",
       "            console.log(\"Jupyter WebIO nbextension detected; not loading ad-hoc.\");\n",
       "            hide();\n",
       "            return;\n",
       "        }\n",
       "    } else if (window.location.pathname.includes(\"/lab\")) {\n",
       "        // Guessing JupyterLa\n",
       "        console.log(\"Jupyter Lab detected; make sure the @webio/jupyter-lab-provider labextension is installed.\");\n",
       "        hide();\n",
       "        return;\n",
       "    }\n",
       "})();\n",
       "\n",
       "</script>\n",
       "<p\n",
       "    id=\"webio-warning-1322052592698447000\"\n",
       "    class=\"output_text output_stderr\"\n",
       "    style=\"padding: 1em; font-weight: bold;\"\n",
       ">\n",
       "    Unable to load WebIO. Please make sure WebIO works for your Jupyter client.\n",
       "    For troubleshooting, please see <a href=\"https://juliagizmos.github.io/WebIO.jl/latest/providers/ijulia/\">\n",
       "    the WebIO/IJulia documentation</a>.\n",
       "    <!-- TODO: link to installation docs. -->\n",
       "</p>\n"
      ],
      "text/plain": [
       "HTML{String}(\"<script>\\n// Immediately-invoked-function-expression to avoid global variables.\\n(function() {\\n    var warning_div = document.getElementById(\\\"webio-warning-1322052592698447000\\\");\\n    var hide = function () {\\n        var script = document.getElementById(\\\"webio-setup-7920146709185753207\\\");\\n        var parent = script && script.parentElement;\\n        var grandparent = parent && parent.parentElement;\\n        if (grandparent) {\\n            grandparent.style.display = \\\"none\\\";\\n        }\\n        warning_div.style.display = \\\"none\\\";\\n    };\\n    if (typeof Jupyter !== \\\"undefined\\\") {\\n        console.log(\\\"WebIO detected Jupyter notebook environment.\\\");\\n        // Jupyter notebook.\\n        var extensions = (\\n            Jupyter\\n            && Jupyter.notebook.config.data\\n            && Jupyter.notebook.config.data.load_extensions\\n        );\\n        if (extensions && extensions[\\\"webio-jupyter-notebook\\\"]) {\\n            // Extension already loaded.\\n            console.log(\\\"Jupyter WebIO nbextension detected; not loading ad-hoc.\\\");\\n            hide();\\n            return;\\n        }\\n    } else if (window.location.pathname.includes(\\\"/lab\\\")) {\\n        // Guessing JupyterLa\\n        console.log(\\\"Jupyter Lab detected; make sure the @webio/jupyter-lab-provider labextension is installed.\\\");\\n        hide();\\n        return;\\n    }\\n})();\\n\\n</script>\\n<p\\n    id=\\\"webio-warning-1322052592698447000\\\"\\n    class=\\\"output_text output_stderr\\\"\\n    style=\\\"padding: 1em; font-weight: bold;\\\"\\n>\\n    Unable to load WebIO. Please make sure WebIO works for your Jupyter client.\\n    For troubleshooting, please see <a href=\\\"https://juliagizmos.github.io/WebIO.jl/latest/providers/ijulia/\\\">\\n    the WebIO/IJulia documentation</a>.\\n    <!-- TODO: link to installation docs. -->\\n</p>\\n\")"
      ]
     },
     "metadata": {},
     "output_type": "display_data"
    }
   ],
   "source": [
    "using PlotlyJS\n",
    "using Colors\n",
    "using ColorSchemes"
   ]
  },
  {
   "cell_type": "code",
   "execution_count": 3,
   "metadata": {},
   "outputs": [
    {
     "name": "stderr",
     "output_type": "stream",
     "text": [
      "WARNING: could not import ClusterAnalysis.Cluster into ClusterAnalysis\n"
     ]
    }
   ],
   "source": [
    "using Revise\n",
    "\n",
    "using Midas\n",
    "using Midas.Pairwise: npairs\n",
    "\n",
    "using ClusterAnalysis\n",
    "using ClusterAnalysis: leaf_class_counts, find_strong_clusters, hclust_node_dists, subtree_classes\n",
    "\n",
    "using MidasPlots\n",
    "using MidasPlots: Dendrogram, dgleaf_edges, ClassValues\n",
    "using MidasPlots.Plotly: PlotlyDendrogram, subplot_axes, subplot_axes!, gettraces, setaxes!, vector_attrs!, class_color_strip, make_colorscale\n",
    "\n",
    "using TriMatrices"
   ]
  },
  {
   "cell_type": "markdown",
   "metadata": {},
   "source": [
    "## Func defs"
   ]
  },
  {
   "cell_type": "code",
   "execution_count": 4,
   "metadata": {},
   "outputs": [
    {
     "data": {
      "text/plain": [
       "selectclass (generic function with 1 method)"
      ]
     },
     "execution_count": 4,
     "metadata": {},
     "output_type": "execute_result"
    }
   ],
   "source": [
    "findclass(a::CategoricalArray, cls::CategoricalValue) = findall(==(cls), a)\n",
    "findclass(a::CategoricalArray, i::Integer) = findclass(a, a.pool[i])\n",
    "findclass(a::CategoricalArray, clss::AbstractVector{<:CategoricalValue}) = findall(∈(clss), a)\n",
    "findclass(a::CategoricalArray, is::AbstractVector{<:Integer}) = findall(∈(is), a.refs)\n",
    "selectclass(a::AbstractVector, c::CategoricalArray, cls) = a[findclass(c, cls)]"
   ]
  },
  {
   "cell_type": "markdown",
   "metadata": {},
   "source": [
    "## File paths"
   ]
  },
  {
   "cell_type": "code",
   "execution_count": 5,
   "metadata": {},
   "outputs": [],
   "source": [
    "infiles = Dict(\n",
    "    :taxonomy => p\"/home/jared/notebooks/midas/midas-notebooks-2019/build-v1-database/out/3-curated-taxonomy-assignments.csv\",\n",
    "    :distances => p\"../../data/intermediate/200727-find-overlaps/genome-pw-distances.raw-float32\",\n",
    "    :overlaps => p\"../../data/intermediate/200727-find-overlaps/200729-refseq-curated-1.1_beta-species-overlaps.h5\",\n",
    ");"
   ]
  },
  {
   "cell_type": "code",
   "execution_count": 6,
   "metadata": {},
   "outputs": [],
   "source": [
    "out_dirs = Dict(\n",
    "    :intermediate => p\"../../data/intermediate/201013-overlap-clustering-analysis/201017-overlap-component-clustering-reports/\",\n",
    "    :reports => p\"../../reports/201013-overlap-clustering-analysis/201017-overlap-component-clustering-reports/\",\n",
    ")\n",
    "\n",
    "for d in values(out_dirs)\n",
    "    isdir(d) || mkpath(d)\n",
    "end"
   ]
  },
  {
   "cell_type": "markdown",
   "metadata": {},
   "source": [
    "## Load data"
   ]
  },
  {
   "cell_type": "markdown",
   "metadata": {},
   "source": [
    "### Taxonomy"
   ]
  },
  {
   "cell_type": "code",
   "execution_count": 7,
   "metadata": {},
   "outputs": [],
   "source": [
    "taxdf = DataFrame(CSV.File(infiles[:taxonomy]));"
   ]
  },
  {
   "cell_type": "code",
   "execution_count": 8,
   "metadata": {},
   "outputs": [
    {
     "data": {
      "text/plain": [
       "(419, 1438)"
      ]
     },
     "execution_count": 8,
     "metadata": {},
     "output_type": "execute_result"
    }
   ],
   "source": [
    "sig_genera = categorical(taxdf[!, :genus])\n",
    "genera = levels(sig_genera)\n",
    "ngenera = length(genera)\n",
    "\n",
    "sig_species = categorical([(row[:genus], row[:species]) for row in eachrow(taxdf)])\n",
    "species = levels(sig_species)\n",
    "speciesnames = [join(s, \" \") for s in species]\n",
    "nspecies = length(species)\n",
    "\n",
    "ngenera, nspecies"
   ]
  },
  {
   "cell_type": "code",
   "execution_count": 9,
   "metadata": {},
   "outputs": [],
   "source": [
    "genus_counts = counts(sig_genera.refs)\n",
    "species_counts = counts(sig_species.refs)\n",
    ";"
   ]
  },
  {
   "cell_type": "code",
   "execution_count": 10,
   "metadata": {},
   "outputs": [],
   "source": [
    "genome_accs = [last(split(k, \"/\")) for k in taxdf[!, :key]];"
   ]
  },
  {
   "cell_type": "code",
   "execution_count": 11,
   "metadata": {},
   "outputs": [],
   "source": [
    "species_to_genus = [findfirst(==(genus), genera) for (genus, spname) in species];"
   ]
  },
  {
   "cell_type": "code",
   "execution_count": 12,
   "metadata": {},
   "outputs": [
    {
     "data": {
      "text/plain": [
       "50752"
      ]
     },
     "execution_count": 12,
     "metadata": {},
     "output_type": "execute_result"
    }
   ],
   "source": [
    "nsigs = size(taxdf, 1)"
   ]
  },
  {
   "cell_type": "markdown",
   "metadata": {},
   "source": [
    "### Distances"
   ]
  },
  {
   "cell_type": "code",
   "execution_count": 13,
   "metadata": {},
   "outputs": [],
   "source": [
    "pw_data = Mmap.mmap(open(infiles[:distances], \"r\"), Vector{Float32}, (npairs(nsigs),));\n",
    "\n",
    "pw_dists = TriMatrix(TriSymmetric{false}(), nsigs, pw_data);"
   ]
  },
  {
   "cell_type": "code",
   "execution_count": 14,
   "metadata": {},
   "outputs": [],
   "source": [
    "@assert !any(<(0), pw_data)"
   ]
  },
  {
   "cell_type": "markdown",
   "metadata": {},
   "source": [
    "### Overlaps"
   ]
  },
  {
   "cell_type": "code",
   "execution_count": 15,
   "metadata": {},
   "outputs": [],
   "source": [
    "h5open(string(infiles[:overlaps])) do h5\n",
    "    @assert read(h5, \"genome_keys\") == taxdf[!, :key]\n",
    "\n",
    "    global min_inter = collect(zip(read(h5, \"min_inter_indices\"), read(h5, \"min_inter_dists\")))\n",
    "    global max_intra = collect(zip(read(h5, \"max_intra_indices\"), read(h5, \"max_intra_dists\")))\n",
    "\n",
    "    global has_overlap = read(h5, \"has_overlap\")\n",
    "    global overlap_components_vec = read(h5, \"overlap_components\")\n",
    "end;"
   ]
  },
  {
   "cell_type": "code",
   "execution_count": 16,
   "metadata": {},
   "outputs": [],
   "source": [
    "overlap_pairs = [i => min_inter[i][1] for i in has_overlap];"
   ]
  },
  {
   "cell_type": "code",
   "execution_count": 17,
   "metadata": {},
   "outputs": [],
   "source": [
    "overlap_components = [findall(==(i), overlap_components_vec) for i in 1:maximum(overlap_components_vec)];"
   ]
  },
  {
   "cell_type": "code",
   "execution_count": 18,
   "metadata": {},
   "outputs": [],
   "source": [
    "overlap_edges = counter(\n",
    "    Int(sig_species.refs[i]) => Int(sig_species.refs[j])\n",
    "    for (i, j) in overlap_pairs\n",
    ");"
   ]
  },
  {
   "cell_type": "markdown",
   "metadata": {},
   "source": [
    "## Plot and reporting funcs"
   ]
  },
  {
   "cell_type": "code",
   "execution_count": 19,
   "metadata": {},
   "outputs": [
    {
     "data": {
      "image/svg+xml": [
       "<?xml version=\"1.0\" encoding=\"UTF-8\"?>\n",
       "<!DOCTYPE svg PUBLIC \"-//W3C//DTD SVG 1.1//EN\"\n",
       " \"http://www.w3.org/Graphics/SVG/1.1/DTD/svg11.dtd\">\n",
       "<svg xmlns=\"http://www.w3.org/2000/svg\" version=\"1.1\"\n",
       "     width=\"180mm\" height=\"25mm\"\n",
       "     viewBox=\"0 0 19 1\" preserveAspectRatio=\"none\"\n",
       "     shape-rendering=\"crispEdges\" stroke=\"none\">\n",
       "<rect width=\".89\" height=\".96\" x=\"0\" y=\"0\" fill=\"#BFBFBF\" />\n",
       "<rect width=\".89\" height=\".96\" x=\"1\" y=\"0\" fill=\"#4E79A7\" />\n",
       "<rect width=\".89\" height=\".96\" x=\"2\" y=\"0\" fill=\"#F28E2B\" />\n",
       "<rect width=\".89\" height=\".96\" x=\"3\" y=\"0\" fill=\"#E15759\" />\n",
       "<rect width=\".89\" height=\".96\" x=\"4\" y=\"0\" fill=\"#499894\" />\n",
       "<rect width=\".89\" height=\".96\" x=\"5\" y=\"0\" fill=\"#59A14F\" />\n",
       "<rect width=\".89\" height=\".96\" x=\"6\" y=\"0\" fill=\"#B6992D\" />\n",
       "<rect width=\".89\" height=\".96\" x=\"7\" y=\"0\" fill=\"#B07AA1\" />\n",
       "<rect width=\".89\" height=\".96\" x=\"8\" y=\"0\" fill=\"#D37295\" />\n",
       "<rect width=\".89\" height=\".96\" x=\"9\" y=\"0\" fill=\"#9D7660\" />\n",
       "<rect width=\".89\" height=\".96\" x=\"10\" y=\"0\" fill=\"#A0CBE8\" />\n",
       "<rect width=\".89\" height=\".96\" x=\"11\" y=\"0\" fill=\"#FFBE7D\" />\n",
       "<rect width=\".89\" height=\".96\" x=\"12\" y=\"0\" fill=\"#FF9D9A\" />\n",
       "<rect width=\".89\" height=\".96\" x=\"13\" y=\"0\" fill=\"#86BCB6\" />\n",
       "<rect width=\".89\" height=\".96\" x=\"14\" y=\"0\" fill=\"#8CD17D\" />\n",
       "<rect width=\".89\" height=\".96\" x=\"15\" y=\"0\" fill=\"#F1CE63\" />\n",
       "<rect width=\".89\" height=\".96\" x=\"16\" y=\"0\" fill=\"#D4A6C8\" />\n",
       "<rect width=\".89\" height=\".96\" x=\"17\" y=\"0\" fill=\"#FABFD2\" />\n",
       "<rect width=\".89\" height=\".96\" x=\"18\" y=\"0\" fill=\"#D7B5A6\" />\n",
       "</svg>"
      ],
      "text/plain": [
       "19-element ClassValues{Color} with indices 0:18:\n",
       " Gray{Float64}(0.75)\n",
       " RGB{N0f8}(0.306,0.475,0.655)\n",
       " RGB{N0f8}(0.949,0.557,0.169)\n",
       " RGB{N0f8}(0.882,0.341,0.349)\n",
       " RGB{N0f8}(0.286,0.596,0.58)\n",
       " RGB{N0f8}(0.349,0.631,0.31)\n",
       " RGB{N0f8}(0.714,0.6,0.176)\n",
       " RGB{N0f8}(0.69,0.478,0.631)\n",
       " RGB{N0f8}(0.827,0.447,0.584)\n",
       " RGB{N0f8}(0.616,0.463,0.376)\n",
       " RGB{N0f8}(0.627,0.796,0.91)\n",
       " RGB{N0f8}(1.0,0.745,0.49)\n",
       " RGB{N0f8}(1.0,0.616,0.604)\n",
       " RGB{N0f8}(0.525,0.737,0.714)\n",
       " RGB{N0f8}(0.549,0.82,0.49)\n",
       " RGB{N0f8}(0.945,0.808,0.388)\n",
       " RGB{N0f8}(0.831,0.651,0.784)\n",
       " RGB{N0f8}(0.98,0.749,0.824)\n",
       " RGB{N0f8}(0.843,0.71,0.651)"
      ]
     },
     "execution_count": 19,
     "metadata": {},
     "output_type": "execute_result"
    }
   ],
   "source": [
    "pal = collect(colorschemes[:tableau_20].colors)\n",
    "pal = pal[vcat(1:2:17, 2:2:18)]\n",
    "classcolors = ClassValues(pal, Gray(.75))"
   ]
  },
  {
   "cell_type": "code",
   "execution_count": 20,
   "metadata": {},
   "outputs": [
    {
     "data": {
      "text/plain": [
       "@unpack_ns (macro with 1 method)"
      ]
     },
     "execution_count": 20,
     "metadata": {},
     "output_type": "execute_result"
    }
   ],
   "source": [
    "struct Namespace\n",
    "    _fields::Dict{Symbol, Any}\n",
    "end\n",
    "    \n",
    "Namespace(; kw...) = Namespace(Dict(kw))\n",
    "\n",
    "function Base.getproperty(ns::Namespace, p::Symbol)\n",
    "    f = getfield(ns, :_fields)\n",
    "    p == :_fields && return f\n",
    "    try\n",
    "        return f[p]\n",
    "    catch KeyError\n",
    "        error(\"Namespace has no field $p\")\n",
    "    end\n",
    "end\n",
    "\n",
    "function Base.setproperty!(ns::Namespace, p::Symbol, v)\n",
    "    f = getfield(ns, :_fields)\n",
    "    f[p] = v\n",
    "end\n",
    "\n",
    "macro unpack_ns(e, symbols::Symbol...)\n",
    "    x = [Expr(:., :ns, QuoteNode(s)) for s in symbols]\n",
    "    rhs = quote\n",
    "        let ns = $(esc(e))\n",
    "            $(Expr(:tuple, x...))\n",
    "        end\n",
    "    end\n",
    "    return Expr(:(=), Expr(:tuple, esc.(symbols)...), rhs)\n",
    "end"
   ]
  },
  {
   "cell_type": "code",
   "execution_count": 21,
   "metadata": {},
   "outputs": [
    {
     "data": {
      "text/plain": [
       "componentdata (generic function with 1 method)"
      ]
     },
     "execution_count": 21,
     "metadata": {},
     "output_type": "execute_result"
    }
   ],
   "source": [
    "function componentdata(i::Int)\n",
    "    i = i\n",
    "    comp = overlap_components[i]\n",
    "    nspecies = length(comp)\n",
    "    idxs = [findclass(sig_species, c) for c in comp]\n",
    "    idxs_flat = vcat(idxs...)\n",
    "    genera = unique(g for (g, s) in species[comp])\n",
    "    singlegenus = length(genera) == 1\n",
    "    \n",
    "    if singlegenus\n",
    "        genus = only(genera)\n",
    "        groupnames = [s for (g, s) in species[comp]]\n",
    "    else\n",
    "       genus = nothing\n",
    "       groupnames = speciesnames[comp]\n",
    "    end\n",
    "    \n",
    "    classnames = ClassValues(groupnames, \"(mixed)\");\n",
    "    ngenomes = length(idxs_flat)\n",
    "    genome_labels = [l for (l, n) in enumerate(species_counts[comp]) for _ in 1:n];\n",
    "    dmat = pw_dists[idxs_flat, idxs_flat];\n",
    "    \n",
    "    return Namespace(;\n",
    "        i, species=comp, idxs, idxs_flat, genera, singlegenus,\n",
    "        genus, groupnames, classnames, ngenomes, nspecies,\n",
    "        genome_labels, dmat\n",
    "    )\n",
    "end"
   ]
  },
  {
   "cell_type": "code",
   "execution_count": 22,
   "metadata": {},
   "outputs": [
    {
     "data": {
      "text/plain": [
       "do_clustering (generic function with 1 method)"
      ]
     },
     "execution_count": 22,
     "metadata": {},
     "output_type": "execute_result"
    }
   ],
   "source": [
    "function do_clustering(comp)\n",
    "    # Cluster\n",
    "    hc = hclust(comp.dmat, linkage=:complete)\n",
    "    tree = HClustTree(hc)\n",
    "\n",
    "    # Find optimal cut\n",
    "    strong_clusters = find_strong_clusters(tree, comp.dmat);\n",
    "    node_classes = subtree_classes(tree, comp.genome_labels, with_leaves=true);\n",
    "    cut = makecut(node -> node.id ∈ strong_clusters && node_classes[node.id] != 0, tree);\n",
    "    \n",
    "    # Coarsen cut if needed\n",
    "    truncated_from = nothing\n",
    "    max_leaves = 40\n",
    "    \n",
    "    if length(cut) > max_leaves\n",
    "        truncated_from = length(cut)\n",
    "        cut = coarsen_cut(tree, cut, k=max_leaves, accept=node -> node_classes[node.id] != 0);\n",
    "    end\n",
    "    \n",
    "    dg = Dendrogram(tree, trunc=node -> node.id ∈ cut)\n",
    "    leaf_classes = [node_classes[id] for id in dg.leaves]\n",
    "    classnames = ClassValues(comp.groupnames, \"(mixed)\")\n",
    "    \n",
    "    return Namespace(;\n",
    "        tree, dg, cut, strong_clusters, node_classes, truncated_from, leaf_classes,\n",
    "        classnames,\n",
    "    )\n",
    "end"
   ]
  },
  {
   "cell_type": "code",
   "execution_count": 23,
   "metadata": {},
   "outputs": [
    {
     "data": {
      "text/plain": [
       "component_edges_df (generic function with 1 method)"
      ]
     },
     "execution_count": 23,
     "metadata": {},
     "output_type": "execute_result"
    }
   ],
   "source": [
    "function component_species_df(comp)\n",
    "    DataFrame([(genus=species[i][1], species=species[i][2], ngenomes=species_counts[i]) for i in comp.species])\n",
    "end\n",
    "\n",
    "function component_edges_df(comp)\n",
    "    df = DataFrame([String, String, Int, Float64], [:A, :B, :C, :D])\n",
    "    \n",
    "    for ((i, j), c) in overlap_edges\n",
    "        if i ∈ comp.species\n",
    "            push!(df, (\n",
    "                speciesnames[i],\n",
    "                speciesnames[j],\n",
    "                c,\n",
    "                c / (species_counts[i] * species_counts[j])\n",
    "            ))\n",
    "        end\n",
    "    end\n",
    "    \n",
    "    sort!(df, [:A, :B])\n",
    "    rename!(df, [\"Intra Species\", \"Inter Species\", \"Overlapping Pairs\", \"Overlap fraction\"])\n",
    "    \n",
    "    return df\n",
    "end"
   ]
  },
  {
   "cell_type": "code",
   "execution_count": 24,
   "metadata": {},
   "outputs": [
    {
     "data": {
      "text/plain": [
       "species_colors_html (generic function with 1 method)"
      ]
     },
     "execution_count": 24,
     "metadata": {},
     "output_type": "execute_result"
    }
   ],
   "source": [
    "function species_colors_html(comp)\n",
    "    divs = String[]\n",
    "    \n",
    "    for (i, name) in enumerate(comp.groupnames)\n",
    "        color = classcolors[i]\n",
    "        bc = hex(color)\n",
    "        bg = hex(RGBA(color, .5), :RRGGBBAA)\n",
    "        style = \"border-color: #$bc; background-color: #$bg;\"\n",
    "        d = \"<div style=\\\"$style\\\">$name</div>\"\n",
    "        push!(divs, d)\n",
    "    end\n",
    "    \n",
    "    return join(divs, \"\\n\")\n",
    "end"
   ]
  },
  {
   "cell_type": "code",
   "execution_count": 25,
   "metadata": {},
   "outputs": [],
   "source": [
    "REPORT_CSS = \"\"\"\n",
    "\n",
    "body {\n",
    "    padding: 20px;\n",
    "    font-family: sans-serif;\n",
    "}\n",
    "\n",
    "h1 {\n",
    "    margin: 40px 0;\n",
    "}\n",
    "\n",
    "h2 {\n",
    "    margin-top: 40px;\n",
    "    margin-bottom: 25px;\n",
    "}\n",
    "\n",
    "table {\n",
    "    border-collapse: collapse;\n",
    "    margin-bottom: 15px;\n",
    "}\n",
    "\n",
    "td, th {\n",
    "    border: 1px solid black;\n",
    "    padding: 4px .5em;\n",
    "    text-align: left;\n",
    "}\n",
    "\n",
    "div.species-colors > div {\n",
    "    display: inline-block;\n",
    "    border: 2px solid;\n",
    "    margin: 10px;\n",
    "    padding: 5px 10px;\n",
    "}\n",
    "\n",
    "div.plot {\n",
    "    margin: 50px 0;\n",
    "}\n",
    "\n",
    "dl dt {\n",
    "    font-weight: bold;\n",
    "}\n",
    "\"\"\";"
   ]
  },
  {
   "cell_type": "code",
   "execution_count": 26,
   "metadata": {},
   "outputs": [
    {
     "data": {
      "text/plain": [
       "report_template (generic function with 1 method)"
      ]
     },
     "execution_count": 26,
     "metadata": {},
     "output_type": "execute_result"
    }
   ],
   "source": [
    "report_template(;\n",
    "    title,\n",
    "    header,\n",
    "    table1_html,\n",
    "    table2_html,\n",
    "    plt1,\n",
    "    plt2,\n",
    "    species_colors_html,\n",
    "    plot_msg,\n",
    "    timestamp,\n",
    "    ) = \"\"\"\n",
    "    <html>\n",
    "        <head>\n",
    "            <title>$title</title>\n",
    "\n",
    "            <script src=\"https://cdn.plot.ly/plotly-latest.min.js\"></script>\n",
    "\n",
    "            <script>\n",
    "                document.addEventListener(\"DOMContentLoaded\", function(){\n",
    "                    var plt1_json=$(json(plt1));\n",
    "                    var plt2_json=$(json(plt2));\n",
    "\n",
    "                    var plt1_elem = document.getElementById(\"plot1\");\n",
    "                    var plt2_elem = document.getElementById(\"plot2\");\n",
    "\n",
    "                    Plotly.newPlot(plt1_elem, plt1_json);\n",
    "                    Plotly.newPlot(plt2_elem, plt2_json);\n",
    "\n",
    "                    window.onresize = function() {\n",
    "                        Plotly.Plots.resize(plt1_elem);\n",
    "                        Plotly.Plots.resize(plt2_elem);\n",
    "                    };\n",
    "                });\n",
    "\n",
    "            </script>\n",
    "\n",
    "            <style>$REPORT_CSS</style>\n",
    "        </head>\n",
    "\n",
    "        <body>\n",
    "            <h1>$header</h1>\n",
    "\n",
    "            <dl>\n",
    "                <dt>Experiment:</dt>\n",
    "                <dd><code>201017-overlap-component-reports</code></dd>\n",
    "                <dt>Generated:</dt>\n",
    "                <dd>$timestamp</dd>\n",
    "            </dl>\n",
    "\n",
    "            <h2>Species</h2>\n",
    "            $table1_html\n",
    "\n",
    "            <h2>Overlaps</h2>\n",
    "            $table2_html\n",
    "\n",
    "            <h2>Plots</h2>\n",
    "            $plot_msg\n",
    "\n",
    "            <div class=\"species-colors\">$species_colors_html</div>\n",
    "\n",
    "            <div class=\"plot\" id=\"plot1\"></div>\n",
    "            <div class=\"plot\" id=\"plot2\"></div>\n",
    "        </body>\n",
    "    </html>\n",
    "\"\"\""
   ]
  },
  {
   "cell_type": "code",
   "execution_count": 27,
   "metadata": {},
   "outputs": [
    {
     "data": {
      "text/plain": [
       "component_report (generic function with 1 method)"
      ]
     },
     "execution_count": 27,
     "metadata": {},
     "output_type": "execute_result"
    }
   ],
   "source": [
    "function component_report(comp, clust, plt1, plt2)\n",
    "    kw = Dict{Symbol, Any}(\n",
    "        :title => \"Component report $(comp.i)\",\n",
    "        :plt1 => plt1,\n",
    "        :plt2 => plt2,\n",
    "        :species_colors_html => species_colors_html(comp),\n",
    "        :timestamp => Dates.format(Dates.now(), \"yymmdd H:M\"),\n",
    "    )\n",
    "    \n",
    "    kw[:header] =  string(\n",
    "        \"Component $(comp.i): \",\n",
    "        join(comp.genera, \", \"),\n",
    "        \" ($(comp.nspecies) species, $(comp.ngenomes) genomes)\"\n",
    "    )\n",
    "    \n",
    "    if isnothing(clust.truncated_from)\n",
    "        kw[:plot_msg] = \"\"\n",
    "    else\n",
    "        nleaves = length(clust.dg.leaves)\n",
    "        kw[:plot_msg] = \"<p>Optimal truncation of dendrogram had $(clust.truncated_from) leaves, coarsened to $(nleaves) to improve readability.</p>\"\n",
    "    end\n",
    "    \n",
    "    buf = IOBuffer()\n",
    "    \n",
    "    sp_df = component_species_df(comp)\n",
    "    show(buf, MIME\"text/html\"(), sp_df, eltypes=false, summary=false)\n",
    "    kw[:table1_html] = String(take!(buf))\n",
    "    \n",
    "    e_df = component_edges_df(comp)\n",
    "    show(buf, MIME\"text/html\"(), e_df, eltypes=false, summary=false)\n",
    "    kw[:table2_html] = String(take!(buf))\n",
    "        \n",
    "    return report_template(; kw...)\n",
    "end"
   ]
  },
  {
   "cell_type": "code",
   "execution_count": 28,
   "metadata": {},
   "outputs": [
    {
     "data": {
      "text/plain": [
       "plotly_dendrogram (generic function with 2 methods)"
      ]
     },
     "execution_count": 28,
     "metadata": {},
     "output_type": "execute_result"
    }
   ],
   "source": [
    "function plotly_dendrogram(clust, dgattr=attr(); horizontal::Bool=false)\n",
    "    @unpack_ns clust dg tree node_classes strong_clusters classnames\n",
    "    \n",
    "    pdg = PlotlyDendrogram(dg, dgattr, horizontal=horizontal)\n",
    "    \n",
    "    # Node trace attributes\n",
    "    vector_attrs!(pdg.nodes_trace, pdg.node_ids) do id\n",
    "        node = tree.nodes[id]\n",
    "        c = node_classes[id]\n",
    "        return Dict(\n",
    "            :marker_size => id ∈ strong_clusters ? 8 : 4,\n",
    "            :marker_color => classcolors[c],\n",
    "            :text => string(id),\n",
    "            :customdata => [\n",
    "                node.count,\n",
    "                classnames[c],\n",
    "                string(id ∈ strong_clusters ? \"Strong\" : \"Weak\", \" cluster\"),\n",
    "            ],\n",
    "        )\n",
    "    end\n",
    "    \n",
    "    yax = horizontal ? \"x\" : \"y\"\n",
    "    merge!(pdg.nodes_trace, attr(\n",
    "        hovertemplate=\"\"\"\n",
    "        <b>%{text}</b><br>\n",
    "        %{$yax:.3f}<br>\n",
    "        %{customdata[0]} genomes<br>\n",
    "        %{customdata[1]}<br>\n",
    "        %{customdata[2]}\n",
    "        <extra></extra>\n",
    "        \"\"\",\n",
    "    ))\n",
    "    \n",
    "    # Branch trace colors\n",
    "    for (id, trace) in pdg.branch_traces\n",
    "        trace[:line_color] = classcolors[node_classes[id]]\n",
    "    end\n",
    "    \n",
    "    return pdg\n",
    "end"
   ]
  },
  {
   "cell_type": "code",
   "execution_count": 29,
   "metadata": {},
   "outputs": [
    {
     "data": {
      "text/plain": [
       "leaf_color_strip (generic function with 1 method)"
      ]
     },
     "execution_count": 29,
     "metadata": {},
     "output_type": "execute_result"
    }
   ],
   "source": [
    "function leaf_color_strip(clust; vertical::Bool=false, kw...)\n",
    "    @unpack_ns clust dg tree leaf_classes classnames\n",
    "    \n",
    "    edges = dgleaf_edges(dg)\n",
    "    \n",
    "    return class_color_strip(\n",
    "        leaf_classes,\n",
    "        classcolors;\n",
    "        vertical=vertical,\n",
    "        edges=edges,\n",
    "        text=[id <= tree.n ? \"Genome $id\" : \"Cluster $id\" for id in dg.leaves],\n",
    "        customdata=[[classnames[c]] for c in leaf_classes],\n",
    "        hovertemplate=\"\"\"\n",
    "        <b>%{text}</b><br>\n",
    "        %{customdata[0]}\n",
    "        <extra></extra>\n",
    "        \"\"\",\n",
    "        gap=1,\n",
    "        kw...\n",
    "    )\n",
    "end"
   ]
  },
  {
   "cell_type": "code",
   "execution_count": 30,
   "metadata": {},
   "outputs": [
    {
     "data": {
      "text/plain": [
       "big_dendrogram (generic function with 1 method)"
      ]
     },
     "execution_count": 30,
     "metadata": {},
     "output_type": "execute_result"
    }
   ],
   "source": [
    "function big_dendrogram(clust)\n",
    "    # Y axes\n",
    "    yaxes = subplot_axes!(\n",
    "        [\n",
    "            attr(visible=false),\n",
    "            attr(rangemode=:nonnegative),\n",
    "        ],\n",
    "        [.1, 1.0],\n",
    "        sep=0.02\n",
    "    )\n",
    "    \n",
    "    # Dendrogram\n",
    "    pdg = plotly_dendrogram(clust, attr(yaxis=\"y2\"))\n",
    "    \n",
    "    # Labels\n",
    "    labels_t = leaf_color_strip(clust)\n",
    "    \n",
    "    layout = Layout(\n",
    "        xaxis=attr(\n",
    "            visible=false,\n",
    "        ),\n",
    "        showlegend=false,\n",
    "        hovermode=:closest,\n",
    "    )\n",
    "    setaxes!(layout, :y, yaxes)\n",
    "    \n",
    "    return plot(vcat(gettraces(pdg), [labels_t]), layout)\n",
    "end"
   ]
  },
  {
   "cell_type": "code",
   "execution_count": 31,
   "metadata": {},
   "outputs": [
    {
     "data": {
      "text/plain": [
       "clustermap (generic function with 1 method)"
      ]
     },
     "execution_count": 31,
     "metadata": {},
     "output_type": "execute_result"
    }
   ],
   "source": [
    "function clustermap(comp, clust)\n",
    "    @unpack_ns clust tree dg leaf_classes classnames\n",
    "    \n",
    "    # X axes\n",
    "    xaxes = subplot_axes!(\n",
    "        [\n",
    "            attr(\n",
    "                rangemode=:nonnegative,\n",
    "                autorange=:reversed,\n",
    "            ),\n",
    "            attr(\n",
    "                visible=false,\n",
    "            ),\n",
    "            attr(\n",
    "                visible=false,\n",
    "                scaleanchor=:y,\n",
    "            ),\n",
    "        ],\n",
    "        [.4, .05, 1.],\n",
    "        sep=.01,\n",
    "    )\n",
    "    \n",
    "    # Dendrogram\n",
    "    pdg = plotly_dendrogram(clust, horizontal=true)\n",
    "    \n",
    "    # Labels\n",
    "    labels_t = leaf_color_strip(clust, xaxis=\"x2\", vertical=true)\n",
    "    \n",
    "    # Heatmap\n",
    "    edges = dgleaf_edges(dg)\n",
    "    leaf_names = [id <= tree.n ? \"Genome $id\" : \"Cluster $id\" for id in dg.leaves]\n",
    "    hm_leaf_text = [string(n, \": \", classnames[c]) for (n, c) in zip(leaf_names, leaf_classes)]\n",
    "    \n",
    "    hm_t = heatmap(\n",
    "        z=hclust_node_dists(tree, comp.dmat, dg.leaves),\n",
    "        x=edges,\n",
    "        y=edges,\n",
    "        customdata=[[t1, t2] for t1 in hm_leaf_text, t2 in hm_leaf_text],\n",
    "        hovertemplate=\"\"\"\n",
    "        %{customdata[0]}<br>\n",
    "        %{customdata[1]}<br>\n",
    "        %{z:.3f}\n",
    "        <extra></extra>\n",
    "        \"\"\",\n",
    "        colorscale=make_colorscale(:magma),\n",
    "        xaxis=\"x3\",\n",
    "    )\n",
    "    \n",
    "    layout = Layout(\n",
    "        yaxis=attr(\n",
    "            visible=false,\n",
    "        ),\n",
    "        showlegend=false,\n",
    "        hovermode=:closest,\n",
    "        width=1000,\n",
    "        height=800,\n",
    "    )\n",
    "    setaxes!(layout, :x, xaxes)\n",
    "    \n",
    "    return plot(vcat(gettraces(pdg), [hm_t, labels_t]), layout)\n",
    "end"
   ]
  },
  {
   "cell_type": "markdown",
   "metadata": {},
   "source": [
    "## Generate reports"
   ]
  },
  {
   "cell_type": "code",
   "execution_count": 32,
   "metadata": {},
   "outputs": [
    {
     "name": "stderr",
     "output_type": "stream",
     "text": [
      "\u001b[32mProgress:  17%|███████                                  |  ETA: 0:03:03\u001b[39m"
     ]
    },
    {
     "name": "stdout",
     "output_type": "stream",
     "text": [
      "Component 12 has size 22, skipping\n"
     ]
    },
    {
     "name": "stderr",
     "output_type": "stream",
     "text": [
      "\u001b[32mProgress: 100%|█████████████████████████████████████████| Time: 0:00:40\u001b[39m\n"
     ]
    }
   ],
   "source": [
    "@showprogress for ci in 1:length(overlap_components)\n",
    "    comp = componentdata(ci)\n",
    "    \n",
    "    # Skip very large components\n",
    "    max_comp_size = 15\n",
    "    if comp.nspecies > max_comp_size\n",
    "        println(\"Component $(comp.i) has size $(comp.nspecies), skipping\")\n",
    "        continue\n",
    "    end\n",
    "    \n",
    "    # Clustering\n",
    "    clust = do_clustering(comp)\n",
    "    \n",
    "    # Plots\n",
    "    plt1 = big_dendrogram(clust)\n",
    "    plt2 = clustermap(comp, clust)\n",
    "\n",
    "    # Make report\n",
    "    report_html = component_report(comp, clust, plt1, plt2)\n",
    "\n",
    "    # Save report\n",
    "    open(out_dirs[:reports] / \"component-$ci.html\", \"w\") do f\n",
    "        write(f, report_html)\n",
    "    end\n",
    "    \n",
    "    # Save tree and genomes to cross ref with genome/cluster #s in report\n",
    "    open(out_dirs[:intermediate] / \"genomes-$ci.json\", \"w\") do f\n",
    "        JSON.print(f, genome_accs[comp.idxs_flat])\n",
    "    end\n",
    "    \n",
    "    open(out_dirs[:intermediate] / \"tree-$ci.json\", \"w\") do f\n",
    "        JSON.print(f, clust.tree)\n",
    "    end\n",
    "end"
   ]
  }
 ],
 "metadata": {
  "@webio": {
   "lastCommId": "c24d261f-9a28-405c-9f61-178770467a68",
   "lastKernelId": "0ed6448a-79e3-4e30-982a-10e113b13551"
  },
  "kernelspec": {
   "display_name": "Julia 1.5.1",
   "language": "julia",
   "name": "julia-1.5"
  },
  "language_info": {
   "file_extension": ".jl",
   "mimetype": "application/julia",
   "name": "julia",
   "version": "1.5.1"
  }
 },
 "nbformat": 4,
 "nbformat_minor": 4
}
