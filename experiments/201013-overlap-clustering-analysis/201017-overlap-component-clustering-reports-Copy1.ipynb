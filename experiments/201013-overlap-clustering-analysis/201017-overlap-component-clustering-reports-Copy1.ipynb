{
 "cells": [
  {
   "cell_type": "markdown",
   "metadata": {},
   "source": [
    "# 201017 Overlap component clustering reports"
   ]
  },
  {
   "cell_type": "code",
   "execution_count": 1,
   "metadata": {},
   "outputs": [],
   "source": [
    "using ProgressMeter\n",
    "using FilePathsBase; using FilePathsBase: /\n",
    "using GZip\n",
    "using JSON\n",
    "using Mmap\n",
    "using DataFrames\n",
    "using CSV\n",
    "using StatsBase\n",
    "using CategoricalArrays\n",
    "using HDF5\n",
    "using Markdown\n",
    "using DataStructures: counter\n",
    "using AbstractTrees\n",
    "using Clustering\n",
    "using Dates"
   ]
  },
  {
   "cell_type": "code",
   "execution_count": 2,
   "metadata": {},
   "outputs": [
    {
     "data": {
      "text/html": [
       "<script>\n",
       "// Immediately-invoked-function-expression to avoid global variables.\n",
       "(function() {\n",
       "    var warning_div = document.getElementById(\"webio-warning-1865521162928173225\");\n",
       "    var hide = function () {\n",
       "        var script = document.getElementById(\"webio-setup-17895625373820215540\");\n",
       "        var parent = script && script.parentElement;\n",
       "        var grandparent = parent && parent.parentElement;\n",
       "        if (grandparent) {\n",
       "            grandparent.style.display = \"none\";\n",
       "        }\n",
       "        warning_div.style.display = \"none\";\n",
       "    };\n",
       "    if (typeof Jupyter !== \"undefined\") {\n",
       "        console.log(\"WebIO detected Jupyter notebook environment.\");\n",
       "        // Jupyter notebook.\n",
       "        var extensions = (\n",
       "            Jupyter\n",
       "            && Jupyter.notebook.config.data\n",
       "            && Jupyter.notebook.config.data.load_extensions\n",
       "        );\n",
       "        if (extensions && extensions[\"webio-jupyter-notebook\"]) {\n",
       "            // Extension already loaded.\n",
       "            console.log(\"Jupyter WebIO nbextension detected; not loading ad-hoc.\");\n",
       "            hide();\n",
       "            return;\n",
       "        }\n",
       "    } else if (window.location.pathname.includes(\"/lab\")) {\n",
       "        // Guessing JupyterLa\n",
       "        console.log(\"Jupyter Lab detected; make sure the @webio/jupyter-lab-provider labextension is installed.\");\n",
       "        hide();\n",
       "        return;\n",
       "    }\n",
       "})();\n",
       "\n",
       "</script>\n",
       "<p\n",
       "    id=\"webio-warning-1865521162928173225\"\n",
       "    class=\"output_text output_stderr\"\n",
       "    style=\"padding: 1em; font-weight: bold;\"\n",
       ">\n",
       "    Unable to load WebIO. Please make sure WebIO works for your Jupyter client.\n",
       "    For troubleshooting, please see <a href=\"https://juliagizmos.github.io/WebIO.jl/latest/providers/ijulia/\">\n",
       "    the WebIO/IJulia documentation</a>.\n",
       "    <!-- TODO: link to installation docs. -->\n",
       "</p>\n"
      ],
      "text/plain": [
       "HTML{String}(\"<script>\\n// Immediately-invoked-function-expression to avoid global variables.\\n(function() {\\n    var warning_div = document.getElementById(\\\"webio-warning-1865521162928173225\\\");\\n    var hide = function () {\\n        var script = document.getElementById(\\\"webio-setup-17895625373820215540\\\");\\n        var parent = script && script.parentElement;\\n        var grandparent = parent && parent.parentElement;\\n        if (grandparent) {\\n            grandparent.style.display = \\\"none\\\";\\n        }\\n        warning_div.style.display = \\\"none\\\";\\n    };\\n    if (typeof Jupyter !== \\\"undefined\\\") {\\n        console.log(\\\"WebIO detected Jupyter notebook environment.\\\");\\n        // Jupyter notebook.\\n        var extensions = (\\n            Jupyter\\n            && Jupyter.notebook.config.data\\n            && Jupyter.notebook.config.data.load_extensions\\n        );\\n        if (extensions && extensions[\\\"webio-jupyter-notebook\\\"]) {\\n            // Extension already loaded.\\n            console.log(\\\"Jupyter WebIO nbextension detected; not loading ad-hoc.\\\");\\n            hide();\\n            return;\\n        }\\n    } else if (window.location.pathname.includes(\\\"/lab\\\")) {\\n        // Guessing JupyterLa\\n        console.log(\\\"Jupyter Lab detected; make sure the @webio/jupyter-lab-provider labextension is installed.\\\");\\n        hide();\\n        return;\\n    }\\n})();\\n\\n</script>\\n<p\\n    id=\\\"webio-warning-1865521162928173225\\\"\\n    class=\\\"output_text output_stderr\\\"\\n    style=\\\"padding: 1em; font-weight: bold;\\\"\\n>\\n    Unable to load WebIO. Please make sure WebIO works for your Jupyter client.\\n    For troubleshooting, please see <a href=\\\"https://juliagizmos.github.io/WebIO.jl/latest/providers/ijulia/\\\">\\n    the WebIO/IJulia documentation</a>.\\n    <!-- TODO: link to installation docs. -->\\n</p>\\n\")"
      ]
     },
     "metadata": {},
     "output_type": "display_data"
    }
   ],
   "source": [
    "using PlotlyJS\n",
    "using Colors\n",
    "using ColorSchemes"
   ]
  },
  {
   "cell_type": "code",
   "execution_count": 3,
   "metadata": {},
   "outputs": [
    {
     "name": "stderr",
     "output_type": "stream",
     "text": [
      "WARNING: could not import ClusterAnalysis.Cluster into ClusterAnalysis\n"
     ]
    }
   ],
   "source": [
    "using Revise\n",
    "\n",
    "using Midas\n",
    "using Midas.Pairwise: npairs\n",
    "\n",
    "using ClusterAnalysis\n",
    "using ClusterAnalysis: leaf_class_counts, find_strong_clusters, hclust_node_dists, subtree_classes\n",
    "\n",
    "using MidasPlots\n",
    "using MidasPlots: Dendrogram, dgleaf_edges, ClassValues\n",
    "using MidasPlots.Plotly: PlotlyDendrogram, subplot_axes, subplot_axes!, gettraces, setaxes!, vector_attrs!, class_color_strip, make_colorscale\n",
    "\n",
    "using TriMatrices"
   ]
  },
  {
   "cell_type": "markdown",
   "metadata": {},
   "source": [
    "## Func defs"
   ]
  },
  {
   "cell_type": "code",
   "execution_count": 4,
   "metadata": {},
   "outputs": [
    {
     "data": {
      "text/plain": [
       "selectclass (generic function with 1 method)"
      ]
     },
     "execution_count": 4,
     "metadata": {},
     "output_type": "execute_result"
    }
   ],
   "source": [
    "findclass(a::CategoricalArray, cls::CategoricalValue) = findall(==(cls), a)\n",
    "findclass(a::CategoricalArray, i::Integer) = findclass(a, a.pool[i])\n",
    "findclass(a::CategoricalArray, clss::AbstractVector{<:CategoricalValue}) = findall(∈(clss), a)\n",
    "findclass(a::CategoricalArray, is::AbstractVector{<:Integer}) = findall(∈(is), a.refs)\n",
    "selectclass(a::AbstractVector, c::CategoricalArray, cls) = a[findclass(c, cls)]"
   ]
  },
  {
   "cell_type": "markdown",
   "metadata": {},
   "source": [
    "## File paths"
   ]
  },
  {
   "cell_type": "code",
   "execution_count": 5,
   "metadata": {},
   "outputs": [],
   "source": [
    "infiles = Dict(\n",
    "    :taxonomy => p\"/home/jared/notebooks/midas/midas-notebooks-2019/build-v1-database/out/3-curated-taxonomy-assignments.csv\",\n",
    "    :distances => p\"../../data/intermediate/200727-find-overlaps/genome-pw-distances.raw-float32\",\n",
    "    :overlaps => p\"../../data/intermediate/200727-find-overlaps/200729-refseq-curated-1.1_beta-species-overlaps.h5\",\n",
    ");"
   ]
  },
  {
   "cell_type": "code",
   "execution_count": 6,
   "metadata": {},
   "outputs": [],
   "source": [
    "out_dirs = Dict(\n",
    "    :intermediate => p\"../../data/intermediate/201013-overlap-clustering-analysis/201017-overlap-component-clustering-reports/\",\n",
    "    :reports => p\"../../reports/201013-overlap-clustering-analysis/201017-overlap-component-clustering-reports/\",\n",
    ")\n",
    "\n",
    "for d in values(out_dirs)\n",
    "    isdir(d) || mkpath(d)\n",
    "end"
   ]
  },
  {
   "cell_type": "markdown",
   "metadata": {},
   "source": [
    "## Load data"
   ]
  },
  {
   "cell_type": "markdown",
   "metadata": {},
   "source": [
    "### Taxonomy"
   ]
  },
  {
   "cell_type": "code",
   "execution_count": 7,
   "metadata": {},
   "outputs": [],
   "source": [
    "taxdf = DataFrame(CSV.File(infiles[:taxonomy]));"
   ]
  },
  {
   "cell_type": "code",
   "execution_count": 8,
   "metadata": {},
   "outputs": [
    {
     "data": {
      "text/plain": [
       "(419, 1438)"
      ]
     },
     "execution_count": 8,
     "metadata": {},
     "output_type": "execute_result"
    }
   ],
   "source": [
    "sig_genera = categorical(taxdf[!, :genus])\n",
    "genera = levels(sig_genera)\n",
    "ngenera = length(genera)\n",
    "\n",
    "sig_species = categorical([(row[:genus], row[:species]) for row in eachrow(taxdf)])\n",
    "species = levels(sig_species)\n",
    "speciesnames = [join(s, \" \") for s in species]\n",
    "nspecies = length(species)\n",
    "\n",
    "ngenera, nspecies"
   ]
  },
  {
   "cell_type": "code",
   "execution_count": 9,
   "metadata": {},
   "outputs": [],
   "source": [
    "genus_counts = counts(sig_genera.refs)\n",
    "species_counts = counts(sig_species.refs)\n",
    ";"
   ]
  },
  {
   "cell_type": "code",
   "execution_count": 10,
   "metadata": {},
   "outputs": [],
   "source": [
    "genome_accs = [last(split(k, \"/\")) for k in taxdf[!, :key]];"
   ]
  },
  {
   "cell_type": "code",
   "execution_count": 11,
   "metadata": {},
   "outputs": [],
   "source": [
    "species_to_genus = [findfirst(==(genus), genera) for (genus, spname) in species];"
   ]
  },
  {
   "cell_type": "code",
   "execution_count": 12,
   "metadata": {},
   "outputs": [
    {
     "data": {
      "text/plain": [
       "50752"
      ]
     },
     "execution_count": 12,
     "metadata": {},
     "output_type": "execute_result"
    }
   ],
   "source": [
    "nsigs = size(taxdf, 1)"
   ]
  },
  {
   "cell_type": "markdown",
   "metadata": {},
   "source": [
    "### Distances"
   ]
  },
  {
   "cell_type": "code",
   "execution_count": 13,
   "metadata": {},
   "outputs": [],
   "source": [
    "pw_data = Mmap.mmap(open(infiles[:distances], \"r\"), Vector{Float32}, (npairs(nsigs),));\n",
    "\n",
    "pw_dists = TriMatrix(TriSymmetric{false}(), nsigs, pw_data);"
   ]
  },
  {
   "cell_type": "code",
   "execution_count": 14,
   "metadata": {},
   "outputs": [],
   "source": [
    "@assert !any(<(0), pw_data)"
   ]
  },
  {
   "cell_type": "markdown",
   "metadata": {},
   "source": [
    "### Overlaps"
   ]
  },
  {
   "cell_type": "code",
   "execution_count": 15,
   "metadata": {},
   "outputs": [],
   "source": [
    "h5open(string(infiles[:overlaps])) do h5\n",
    "    @assert read(h5, \"genome_keys\") == taxdf[!, :key]\n",
    "\n",
    "    global min_inter = collect(zip(read(h5, \"min_inter_indices\"), read(h5, \"min_inter_dists\")))\n",
    "    global max_intra = collect(zip(read(h5, \"max_intra_indices\"), read(h5, \"max_intra_dists\")))\n",
    "\n",
    "    global has_overlap = read(h5, \"has_overlap\")\n",
    "    global overlap_components_vec = read(h5, \"overlap_components\")\n",
    "end;"
   ]
  },
  {
   "cell_type": "raw",
   "metadata": {},
   "source": [
    "overlap_pairs = [i => min_inter[i][1] for i in has_overlap];"
   ]
  },
  {
   "cell_type": "code",
   "execution_count": 16,
   "metadata": {},
   "outputs": [],
   "source": [
    "overlap_components = [findall(==(i), overlap_components_vec) for i in 1:maximum(overlap_components_vec)];"
   ]
  },
  {
   "cell_type": "raw",
   "metadata": {},
   "source": [
    "overlap_edges = counter(\n",
    "    Int(sig_species.refs[i]) => Int(sig_species.refs[j])\n",
    "    for (i, j) in overlap_pairs\n",
    ");"
   ]
  },
  {
   "cell_type": "markdown",
   "metadata": {},
   "source": [
    "## Plot and reporting funcs"
   ]
  },
  {
   "cell_type": "code",
   "execution_count": 17,
   "metadata": {},
   "outputs": [
    {
     "data": {
      "image/svg+xml": [
       "<?xml version=\"1.0\" encoding=\"UTF-8\"?>\n",
       "<!DOCTYPE svg PUBLIC \"-//W3C//DTD SVG 1.1//EN\"\n",
       " \"http://www.w3.org/Graphics/SVG/1.1/DTD/svg11.dtd\">\n",
       "<svg xmlns=\"http://www.w3.org/2000/svg\" version=\"1.1\"\n",
       "     width=\"180mm\" height=\"25mm\"\n",
       "     viewBox=\"0 0 19 1\" preserveAspectRatio=\"none\"\n",
       "     shape-rendering=\"crispEdges\" stroke=\"none\">\n",
       "<rect width=\".89\" height=\".96\" x=\"0\" y=\"0\" fill=\"#BFBFBF\" />\n",
       "<rect width=\".89\" height=\".96\" x=\"1\" y=\"0\" fill=\"#4E79A7\" />\n",
       "<rect width=\".89\" height=\".96\" x=\"2\" y=\"0\" fill=\"#F28E2B\" />\n",
       "<rect width=\".89\" height=\".96\" x=\"3\" y=\"0\" fill=\"#E15759\" />\n",
       "<rect width=\".89\" height=\".96\" x=\"4\" y=\"0\" fill=\"#499894\" />\n",
       "<rect width=\".89\" height=\".96\" x=\"5\" y=\"0\" fill=\"#59A14F\" />\n",
       "<rect width=\".89\" height=\".96\" x=\"6\" y=\"0\" fill=\"#B6992D\" />\n",
       "<rect width=\".89\" height=\".96\" x=\"7\" y=\"0\" fill=\"#B07AA1\" />\n",
       "<rect width=\".89\" height=\".96\" x=\"8\" y=\"0\" fill=\"#D37295\" />\n",
       "<rect width=\".89\" height=\".96\" x=\"9\" y=\"0\" fill=\"#9D7660\" />\n",
       "<rect width=\".89\" height=\".96\" x=\"10\" y=\"0\" fill=\"#A0CBE8\" />\n",
       "<rect width=\".89\" height=\".96\" x=\"11\" y=\"0\" fill=\"#FFBE7D\" />\n",
       "<rect width=\".89\" height=\".96\" x=\"12\" y=\"0\" fill=\"#FF9D9A\" />\n",
       "<rect width=\".89\" height=\".96\" x=\"13\" y=\"0\" fill=\"#86BCB6\" />\n",
       "<rect width=\".89\" height=\".96\" x=\"14\" y=\"0\" fill=\"#8CD17D\" />\n",
       "<rect width=\".89\" height=\".96\" x=\"15\" y=\"0\" fill=\"#F1CE63\" />\n",
       "<rect width=\".89\" height=\".96\" x=\"16\" y=\"0\" fill=\"#D4A6C8\" />\n",
       "<rect width=\".89\" height=\".96\" x=\"17\" y=\"0\" fill=\"#FABFD2\" />\n",
       "<rect width=\".89\" height=\".96\" x=\"18\" y=\"0\" fill=\"#D7B5A6\" />\n",
       "</svg>"
      ],
      "text/plain": [
       "19-element ClassValues{Color} with indices 0:18:\n",
       " Gray{Float64}(0.75)\n",
       " RGB{N0f8}(0.306,0.475,0.655)\n",
       " RGB{N0f8}(0.949,0.557,0.169)\n",
       " RGB{N0f8}(0.882,0.341,0.349)\n",
       " RGB{N0f8}(0.286,0.596,0.58)\n",
       " RGB{N0f8}(0.349,0.631,0.31)\n",
       " RGB{N0f8}(0.714,0.6,0.176)\n",
       " RGB{N0f8}(0.69,0.478,0.631)\n",
       " RGB{N0f8}(0.827,0.447,0.584)\n",
       " RGB{N0f8}(0.616,0.463,0.376)\n",
       " RGB{N0f8}(0.627,0.796,0.91)\n",
       " RGB{N0f8}(1.0,0.745,0.49)\n",
       " RGB{N0f8}(1.0,0.616,0.604)\n",
       " RGB{N0f8}(0.525,0.737,0.714)\n",
       " RGB{N0f8}(0.549,0.82,0.49)\n",
       " RGB{N0f8}(0.945,0.808,0.388)\n",
       " RGB{N0f8}(0.831,0.651,0.784)\n",
       " RGB{N0f8}(0.98,0.749,0.824)\n",
       " RGB{N0f8}(0.843,0.71,0.651)"
      ]
     },
     "execution_count": 17,
     "metadata": {},
     "output_type": "execute_result"
    }
   ],
   "source": [
    "pal = collect(colorschemes[:tableau_20].colors)\n",
    "pal = pal[vcat(1:2:17, 2:2:18)]\n",
    "classcolors = ClassValues(pal, Gray(.75))"
   ]
  },
  {
   "cell_type": "code",
   "execution_count": 18,
   "metadata": {},
   "outputs": [
    {
     "data": {
      "text/plain": [
       "@unpack_ns (macro with 1 method)"
      ]
     },
     "execution_count": 18,
     "metadata": {},
     "output_type": "execute_result"
    }
   ],
   "source": [
    "struct Namespace\n",
    "    _fields::Dict{Symbol, Any}\n",
    "end\n",
    "    \n",
    "Namespace(; kw...) = Namespace(Dict(kw))\n",
    "\n",
    "function Base.getproperty(ns::Namespace, p::Symbol)\n",
    "    f = getfield(ns, :_fields)\n",
    "    p == :_fields && return f\n",
    "    try\n",
    "        return f[p]\n",
    "    catch KeyError\n",
    "        error(\"Namespace has no field $p\")\n",
    "    end\n",
    "end\n",
    "\n",
    "function Base.setproperty!(ns::Namespace, p::Symbol, v)\n",
    "    f = getfield(ns, :_fields)\n",
    "    f[p] = v\n",
    "end\n",
    "\n",
    "macro unpack_ns(e, symbols::Symbol...)\n",
    "    x = [Expr(:., :ns, QuoteNode(s)) for s in symbols]\n",
    "    rhs = quote\n",
    "        let ns = $(esc(e))\n",
    "            $(Expr(:tuple, x...))\n",
    "        end\n",
    "    end\n",
    "    return Expr(:(=), Expr(:tuple, esc.(symbols)...), rhs)\n",
    "end"
   ]
  },
  {
   "cell_type": "code",
   "execution_count": 19,
   "metadata": {},
   "outputs": [
    {
     "data": {
      "text/plain": [
       "componentdata (generic function with 1 method)"
      ]
     },
     "execution_count": 19,
     "metadata": {},
     "output_type": "execute_result"
    }
   ],
   "source": [
    "function componentdata(i::Int)\n",
    "    i = i\n",
    "    comp = overlap_components[i]\n",
    "    nspecies = length(comp)\n",
    "    idxs = [findclass(sig_species, c) for c in comp]\n",
    "    idxs_flat = vcat(idxs...)\n",
    "    genera = unique(g for (g, s) in species[comp])\n",
    "    singlegenus = length(genera) == 1\n",
    "    \n",
    "    if singlegenus\n",
    "        genus = only(genera)\n",
    "        groupnames = [s for (g, s) in species[comp]]\n",
    "    else\n",
    "       genus = nothing\n",
    "       groupnames = speciesnames[comp]\n",
    "    end\n",
    "    \n",
    "    classnames = ClassValues(groupnames, \"(mixed)\");\n",
    "    ngenomes = length(idxs_flat)\n",
    "    genome_labels = [l for (l, n) in enumerate(species_counts[comp]) for _ in 1:n];\n",
    "    dmat = pw_dists[idxs_flat, idxs_flat];\n",
    "    \n",
    "    return Namespace(;\n",
    "        i, species=comp, idxs, idxs_flat, genera, singlegenus,\n",
    "        genus, groupnames, classnames, ngenomes, nspecies,\n",
    "        genome_labels, dmat\n",
    "    )\n",
    "end"
   ]
  },
  {
   "cell_type": "code",
   "execution_count": null,
   "metadata": {},
   "outputs": [],
   "source": [
    "function do_clustering(comp)\n",
    "    # Cluster\n",
    "    hc = hclust(comp.dmat, linkage=:complete)\n",
    "    tree = HClustTree(hc)\n",
    "\n",
    "    # Find optimal cut\n",
    "    strong_clusters = find_strong_clusters(tree, comp.dmat);\n",
    "    node_classes = subtree_classes(tree, comp.genome_labels, with_leaves=true);\n",
    "    cut = makecut(node -> node.id ∈ strong_clusters && node_classes[node.id] != 0, tree);\n",
    "    \n",
    "    # Coarsen cut if needed\n",
    "    truncated_from = nothing\n",
    "    max_leaves = 40\n",
    "    \n",
    "    if length(cut) > max_leaves\n",
    "        truncated_from = length(cut)\n",
    "        cut = coarsen_cut(tree, cut, k=max_leaves, accept=node -> node_classes[node.id] != 0);\n",
    "    end\n",
    "    \n",
    "    dg = Dendrogram(tree, trunc=node -> node.id ∈ cut)\n",
    "    leaf_classes = [node_classes[id] for id in dg.leaves]\n",
    "    classnames = ClassValues(comp.groupnames, \"(mixed)\")\n",
    "    \n",
    "    return Namespace(;\n",
    "        tree, dg, cut, strong_clusters, node_classes, truncated_from, leaf_classes,\n",
    "        classnames,\n",
    "    )\n",
    "end"
   ]
  },
  {
   "cell_type": "code",
   "execution_count": null,
   "metadata": {},
   "outputs": [],
   "source": [
    "function component_species_df(comp)\n",
    "    DataFrame([(genus=species[i][1], species=species[i][2], ngenomes=species_counts[i]) for i in comp.species])\n",
    "end\n",
    "\n",
    "function component_edges_df(comp)\n",
    "    df = DataFrame([String, String, Int, Float64], [:A, :B, :C, :D])\n",
    "    \n",
    "    for ((i, j), c) in overlap_edges\n",
    "        if i ∈ comp.species\n",
    "            push!(df, (\n",
    "                speciesnames[i],\n",
    "                speciesnames[j],\n",
    "                c,\n",
    "                c / (species_counts[i] * species_counts[j])\n",
    "            ))\n",
    "        end\n",
    "    end\n",
    "    \n",
    "    sort!(df, [:A, :B])\n",
    "    rename!(df, [\"Intra Species\", \"Inter Species\", \"Overlapping Pairs\", \"Overlap fraction\"])\n",
    "    \n",
    "    return df\n",
    "end"
   ]
  },
  {
   "cell_type": "code",
   "execution_count": null,
   "metadata": {},
   "outputs": [],
   "source": [
    "function plotly_dendrogram(clust, dgattr=attr(); horizontal::Bool=false)\n",
    "    @unpack_ns clust dg tree node_classes strong_clusters classnames\n",
    "    \n",
    "    pdg = PlotlyDendrogram(dg, dgattr, horizontal=horizontal)\n",
    "    \n",
    "    # Node trace attributes\n",
    "    vector_attrs!(pdg.nodes_trace, pdg.node_ids) do id\n",
    "        node = tree.nodes[id]\n",
    "        c = node_classes[id]\n",
    "        return Dict(\n",
    "            :marker_size => id ∈ strong_clusters ? 8 : 4,\n",
    "            :marker_color => classcolors[c],\n",
    "            :text => string(id),\n",
    "            :customdata => [\n",
    "                node.count,\n",
    "                classnames[c],\n",
    "                string(id ∈ strong_clusters ? \"Strong\" : \"Weak\", \" cluster\"),\n",
    "            ],\n",
    "        )\n",
    "    end\n",
    "    \n",
    "    yax = horizontal ? \"x\" : \"y\"\n",
    "    merge!(pdg.nodes_trace, attr(\n",
    "        hovertemplate=\"\"\"\n",
    "        <b>%{text}</b><br>\n",
    "        %{$yax:.3f}<br>\n",
    "        %{customdata[0]} genomes<br>\n",
    "        %{customdata[1]}<br>\n",
    "        %{customdata[2]}\n",
    "        <extra></extra>\n",
    "        \"\"\",\n",
    "    ))\n",
    "    \n",
    "    # Branch trace colors\n",
    "    for (id, trace) in pdg.branch_traces\n",
    "        trace[:line_color] = classcolors[node_classes[id]]\n",
    "    end\n",
    "    \n",
    "    return pdg\n",
    "end"
   ]
  },
  {
   "cell_type": "code",
   "execution_count": null,
   "metadata": {},
   "outputs": [],
   "source": [
    "function leaf_color_strip(clust; vertical::Bool=false, kw...)\n",
    "    @unpack_ns clust dg tree leaf_classes classnames\n",
    "    \n",
    "    edges = dgleaf_edges(dg)\n",
    "    \n",
    "    return class_color_strip(\n",
    "        leaf_classes,\n",
    "        classcolors;\n",
    "        vertical=vertical,\n",
    "        edges=edges,\n",
    "        text=[id <= tree.n ? \"Genome $id\" : \"Cluster $id\" for id in dg.leaves],\n",
    "        customdata=[[classnames[c]] for c in leaf_classes],\n",
    "        hovertemplate=\"\"\"\n",
    "        <b>%{text}</b><br>\n",
    "        %{customdata[0]}\n",
    "        <extra></extra>\n",
    "        \"\"\",\n",
    "        gap=1,\n",
    "        kw...\n",
    "    )\n",
    "end"
   ]
  },
  {
   "cell_type": "code",
   "execution_count": null,
   "metadata": {},
   "outputs": [],
   "source": [
    "function big_dendrogram(clust)\n",
    "    # Y axes\n",
    "    yaxes = subplot_axes!(\n",
    "        [\n",
    "            attr(visible=false),\n",
    "            attr(rangemode=:nonnegative),\n",
    "        ],\n",
    "        [.1, 1.0],\n",
    "        sep=0.02\n",
    "    )\n",
    "    \n",
    "    # Dendrogram\n",
    "    pdg = plotly_dendrogram(clust, attr(yaxis=\"y2\"))\n",
    "    \n",
    "    # Labels\n",
    "    labels_t = leaf_color_strip(clust)\n",
    "    \n",
    "    layout = Layout(\n",
    "        xaxis=attr(\n",
    "            visible=false,\n",
    "        ),\n",
    "        showlegend=false,\n",
    "        hovermode=:closest,\n",
    "    )\n",
    "    setaxes!(layout, :y, yaxes)\n",
    "    \n",
    "    return plot(vcat(gettraces(pdg), [labels_t]), layout)\n",
    "end"
   ]
  },
  {
   "cell_type": "code",
   "execution_count": null,
   "metadata": {},
   "outputs": [],
   "source": [
    "function clustermap(comp, clust)\n",
    "    @unpack_ns clust tree dg leaf_classes classnames\n",
    "    \n",
    "    # X axes\n",
    "    xaxes = subplot_axes!(\n",
    "        [\n",
    "            attr(\n",
    "                rangemode=:nonnegative,\n",
    "                autorange=:reversed,\n",
    "            ),\n",
    "            attr(\n",
    "                visible=false,\n",
    "            ),\n",
    "            attr(\n",
    "                visible=false,\n",
    "                scaleanchor=:y,\n",
    "            ),\n",
    "        ],\n",
    "        [.4, .05, 1.],\n",
    "        sep=.01,\n",
    "    )\n",
    "    \n",
    "    # Dendrogram\n",
    "    pdg = plotly_dendrogram(clust, horizontal=true)\n",
    "    \n",
    "    # Labels\n",
    "    labels_t = leaf_color_strip(clust, xaxis=\"x2\", vertical=true)\n",
    "    \n",
    "    # Heatmap\n",
    "    edges = dgleaf_edges(dg)\n",
    "    leaf_names = [id <= tree.n ? \"Genome $id\" : \"Cluster $id\" for id in dg.leaves]\n",
    "    hm_leaf_text = [string(n, \": \", classnames[c]) for (n, c) in zip(leaf_names, leaf_classes)]\n",
    "    \n",
    "    hm_t = heatmap(\n",
    "        z=hclust_node_dists(tree, comp.dmat, dg.leaves),\n",
    "        x=edges,\n",
    "        y=edges,\n",
    "        customdata=[[t1, t2] for t1 in hm_leaf_text, t2 in hm_leaf_text],\n",
    "        hovertemplate=\"\"\"\n",
    "        %{customdata[0]}<br>\n",
    "        %{customdata[1]}<br>\n",
    "        %{z:.3f}\n",
    "        <extra></extra>\n",
    "        \"\"\",\n",
    "        colorscale=make_colorscale(:magma),\n",
    "        xaxis=\"x3\",\n",
    "    )\n",
    "    \n",
    "    layout = Layout(\n",
    "        yaxis=attr(\n",
    "            visible=false,\n",
    "        ),\n",
    "        showlegend=false,\n",
    "        hovermode=:closest,\n",
    "        width=1000,\n",
    "        height=800,\n",
    "    )\n",
    "    setaxes!(layout, :x, xaxes)\n",
    "    \n",
    "    return plot(vcat(gettraces(pdg), [hm_t, labels_t]), layout)\n",
    "end"
   ]
  },
  {
   "cell_type": "markdown",
   "metadata": {},
   "source": [
    "# ?"
   ]
  },
  {
   "cell_type": "code",
   "execution_count": 22,
   "metadata": {},
   "outputs": [
    {
     "data": {
      "text/plain": [
       "3-element Array{String,1}:\n",
       " \"Corynebacterium jeikeium\"\n",
       " \"Corynebacterium urealyticum\"\n",
       " \"Corynebacterium xerosis\""
      ]
     },
     "execution_count": 22,
     "metadata": {},
     "output_type": "execute_result"
    }
   ],
   "source": [
    "comp = componentdata(3)\n",
    "speciesnames[comp.species]"
   ]
  },
  {
   "cell_type": "code",
   "execution_count": 27,
   "metadata": {},
   "outputs": [],
   "source": [
    "Base.propertynames(ns::Namespace) = collect(keys(ns._fields))"
   ]
  },
  {
   "cell_type": "code",
   "execution_count": 28,
   "metadata": {},
   "outputs": [
    {
     "data": {
      "text/plain": [
       "3-element Array{Int64,1}:\n",
       " 19\n",
       "  2\n",
       "  2"
      ]
     },
     "execution_count": 28,
     "metadata": {},
     "output_type": "execute_result"
    }
   ],
   "source": [
    "species_counts[comp.species]"
   ]
  },
  {
   "cell_type": "code",
   "execution_count": 32,
   "metadata": {},
   "outputs": [
    {
     "data": {
      "text/plain": [
       "19×19 Array{Float32,2}:\n",
       " 0.0       0.4546    0.874775  0.702885  …  0.987272  0.733977  0.990717\n",
       " 0.4546    0.0       0.88383   0.735503     0.988205  0.748664  0.991176\n",
       " 0.874775  0.88383   0.0       0.872905     0.989829  0.874631  0.992779\n",
       " 0.702885  0.735503  0.872905  0.0          0.986147  0.654589  0.988645\n",
       " 0.87209   0.879641  0.36697   0.873794     0.992167  0.874491  0.9934\n",
       " 0.869413  0.877073  0.39245   0.869525  …  0.989538  0.868529  0.991414\n",
       " 0.871266  0.880215  0.364455  0.869176     0.989888  0.870993  0.992606\n",
       " 0.868792  0.871983  0.367333  0.870652     0.988046  0.870573  0.990919\n",
       " 0.87333   0.881298  0.366863  0.872271     0.992939  0.872228  0.994414\n",
       " 0.864376  0.876098  0.384172  0.863707     0.992553  0.86347   0.993906\n",
       " 0.85609   0.869248  0.417134  0.863798  …  0.989333  0.869825  0.991205\n",
       " 0.868551  0.878563  0.438181  0.86365      0.992148  0.866066  0.993582\n",
       " 0.73204   0.745507  0.87277   0.630581     0.986875  0.374215  0.988885\n",
       " 0.473976  0.464425  0.874037  0.697499     0.987505  0.738261  0.990704\n",
       " 0.488246  0.483488  0.877971  0.696943     0.987363  0.744202  0.990081\n",
       " 0.985148  0.983896  0.992381  0.983355  …  0.405212  0.984387  0.3852\n",
       " 0.987272  0.988205  0.989829  0.986147     0.0       0.988004  0.335622\n",
       " 0.733977  0.748664  0.874631  0.654589     0.988004  0.0       0.989556\n",
       " 0.990717  0.991176  0.992779  0.988645     0.335622  0.989556  0.0"
      ]
     },
     "execution_count": 32,
     "metadata": {},
     "output_type": "execute_result"
    }
   ],
   "source": [
    "d = let\n",
    "    idxs = comp.idxs[1]\n",
    "    pw_dists[idxs, idxs]\n",
    "end"
   ]
  },
  {
   "cell_type": "code",
   "execution_count": 37,
   "metadata": {},
   "outputs": [
    {
     "data": {
      "text/plain": [
       "Dendrogram with 37 nodes and 19 leaves"
      ]
     },
     "execution_count": 37,
     "metadata": {},
     "output_type": "execute_result"
    }
   ],
   "source": [
    "tree = HClustTree(hclust(d, linkage=:complete))\n",
    "dg = Dendrogram(tree)"
   ]
  },
  {
   "cell_type": "code",
   "execution_count": 47,
   "metadata": {},
   "outputs": [
    {
     "data": {
      "application/vnd.plotly.v1+json": {
       "data": [
        {
         "hoverinfo": "skip",
         "line": {
          "color": "gray"
         },
         "mode": "lines",
         "showlegend": false,
         "type": "scatter",
         "x": [
          0.4705395996570587,
          0.4705395996570587,
          null,
          0.4705395996570587,
          0.42190226912498474,
          null,
          0.4705395996570587,
          0,
          null
         ],
         "y": [
          8.25,
          12,
          null,
          8.25,
          8.25,
          null,
          12,
          12,
          null
         ]
        },
        {
         "hoverinfo": "skip",
         "line": {
          "color": "gray"
         },
         "mode": "lines",
         "showlegend": false,
         "type": "scatter",
         "x": [
          0.29208698868751526,
          0.29208698868751526,
          null,
          0.29208698868751526,
          0,
          null,
          0.29208698868751526,
          0,
          null
         ],
         "y": [
          13,
          14,
          null,
          13,
          13,
          null,
          14,
          14,
          null
         ]
        },
        {
         "hoverinfo": "skip",
         "line": {
          "color": "gray"
         },
         "mode": "lines",
         "showlegend": false,
         "type": "scatter",
         "x": [
          0.37954241037368774,
          0.37954241037368774,
          null,
          0.37954241037368774,
          0.3464493453502655,
          null,
          0.37954241037368774,
          0.3669704496860504,
          null
         ],
         "y": [
          6.5,
          8.5,
          null,
          6.5,
          6.5,
          null,
          8.5,
          8.5,
          null
         ]
        },
        {
         "hoverinfo": "skip",
         "line": {
          "color": "gray"
         },
         "mode": "lines",
         "showlegend": false,
         "type": "scatter",
         "x": [
          0.3742145597934723,
          0.3742145597934723,
          null,
          0.3742145597934723,
          0,
          null,
          0.3742145597934723,
          0,
          null
         ],
         "y": [
          17,
          18,
          null,
          17,
          17,
          null,
          18,
          18,
          null
         ]
        },
        {
         "hoverinfo": "skip",
         "line": {
          "color": "gray"
         },
         "mode": "lines",
         "showlegend": false,
         "type": "scatter",
         "x": [
          0.7486640214920044,
          0.7486640214920044,
          null,
          0.7486640214920044,
          0.4882459342479706,
          null,
          0.7486640214920044,
          0.6545893549919128,
          null
         ],
         "y": [
          14.5,
          18.25,
          null,
          14.5,
          14.5,
          null,
          18.25,
          18.25,
          null
         ]
        },
        {
         "hoverinfo": "skip",
         "line": {
          "color": "gray"
         },
         "mode": "lines",
         "showlegend": false,
         "type": "scatter",
         "x": [
          0.6545893549919128,
          0.6545893549919128,
          null,
          0.6545893549919128,
          0.3742145597934723,
          null,
          0.6545893549919128,
          0,
          null
         ],
         "y": [
          17.5,
          19,
          null,
          17.5,
          17.5,
          null,
          19,
          19,
          null
         ]
        },
        {
         "hoverinfo": "skip",
         "line": {
          "color": "gray"
         },
         "mode": "lines",
         "showlegend": false,
         "type": "scatter",
         "x": [
          0.4052116274833679,
          0.4052116274833679,
          null,
          0.4052116274833679,
          0.3356224298477173,
          null,
          0.4052116274833679,
          0,
          null
         ],
         "y": [
          1.5,
          3,
          null,
          1.5,
          1.5,
          null,
          3,
          3,
          null
         ]
        },
        {
         "hoverinfo": "skip",
         "line": {
          "color": "gray"
         },
         "mode": "lines",
         "showlegend": false,
         "type": "scatter",
         "x": [
          0.3356224298477173,
          0.3356224298477173,
          null,
          0.3356224298477173,
          0,
          null,
          0.3356224298477173,
          0,
          null
         ],
         "y": [
          1,
          2,
          null,
          1,
          1,
          null,
          2,
          2,
          null
         ]
        },
        {
         "hoverinfo": "skip",
         "line": {
          "color": "gray"
         },
         "mode": "lines",
         "showlegend": false,
         "type": "scatter",
         "x": [
          0.3669704496860504,
          0.3669704496860504,
          null,
          0.3669704496860504,
          0,
          null,
          0.3669704496860504,
          0,
          null
         ],
         "y": [
          8,
          9,
          null,
          8,
          8,
          null,
          9,
          9,
          null
         ]
        },
        {
         "hoverinfo": "skip",
         "line": {
          "color": "gray"
         },
         "mode": "lines",
         "showlegend": false,
         "type": "scatter",
         "x": [
          0.9944140315055847,
          0.9944140315055847,
          null,
          0.9944140315055847,
          0.4052116274833679,
          null,
          0.9944140315055847,
          0.8838295340538025,
          null
         ],
         "y": [
          2.25,
          13.25,
          null,
          2.25,
          2.25,
          null,
          13.25,
          13.25,
          null
         ]
        },
        {
         "hoverinfo": "skip",
         "line": {
          "color": "gray"
         },
         "mode": "lines",
         "showlegend": false,
         "type": "scatter",
         "x": [
          0.4024175703525543,
          0.4024175703525543,
          null,
          0.4024175703525543,
          0,
          null,
          0.4024175703525543,
          0,
          null
         ],
         "y": [
          10,
          11,
          null,
          10,
          10,
          null,
          11,
          11,
          null
         ]
        },
        {
         "hoverinfo": "skip",
         "line": {
          "color": "gray"
         },
         "mode": "lines",
         "showlegend": false,
         "type": "scatter",
         "x": [
          0.25350773334503174,
          0.25350773334503174,
          null,
          0.25350773334503174,
          0,
          null,
          0.25350773334503174,
          0,
          null
         ],
         "y": [
          4,
          5,
          null,
          4,
          4,
          null,
          5,
          5,
          null
         ]
        },
        {
         "hoverinfo": "skip",
         "line": {
          "color": "gray"
         },
         "mode": "lines",
         "showlegend": false,
         "type": "scatter",
         "x": [
          0.3464493453502655,
          0.3464493453502655,
          null,
          0.3464493453502655,
          0,
          null,
          0.3464493453502655,
          0,
          null
         ],
         "y": [
          6,
          7,
          null,
          6,
          6,
          null,
          7,
          7,
          null
         ]
        },
        {
         "hoverinfo": "skip",
         "line": {
          "color": "gray"
         },
         "mode": "lines",
         "showlegend": false,
         "type": "scatter",
         "x": [
          0.4545997679233551,
          0.4545997679233551,
          null,
          0.4545997679233551,
          0,
          null,
          0.4545997679233551,
          0,
          null
         ],
         "y": [
          15,
          16,
          null,
          15,
          15,
          null,
          16,
          16,
          null
         ]
        },
        {
         "hoverinfo": "skip",
         "line": {
          "color": "gray"
         },
         "mode": "lines",
         "showlegend": false,
         "type": "scatter",
         "x": [
          0.3961929976940155,
          0.3961929976940155,
          null,
          0.3961929976940155,
          0.25350773334503174,
          null,
          0.3961929976940155,
          0.37954241037368774,
          null
         ],
         "y": [
          4.5,
          7.5,
          null,
          4.5,
          4.5,
          null,
          7.5,
          7.5,
          null
         ]
        },
        {
         "hoverinfo": "skip",
         "line": {
          "color": "gray"
         },
         "mode": "lines",
         "showlegend": false,
         "type": "scatter",
         "x": [
          0.8838295340538025,
          0.8838295340538025,
          null,
          0.8838295340538025,
          0.4705395996570587,
          null,
          0.8838295340538025,
          0.7486640214920044,
          null
         ],
         "y": [
          10.125,
          16.375,
          null,
          10.125,
          10.125,
          null,
          16.375,
          16.375,
          null
         ]
        },
        {
         "hoverinfo": "skip",
         "line": {
          "color": "gray"
         },
         "mode": "lines",
         "showlegend": false,
         "type": "scatter",
         "x": [
          0.4882459342479706,
          0.4882459342479706,
          null,
          0.4882459342479706,
          0.29208698868751526,
          null,
          0.4882459342479706,
          0.4545997679233551,
          null
         ],
         "y": [
          13.5,
          15.5,
          null,
          13.5,
          13.5,
          null,
          15.5,
          15.5,
          null
         ]
        },
        {
         "hoverinfo": "skip",
         "line": {
          "color": "gray"
         },
         "mode": "lines",
         "showlegend": false,
         "type": "scatter",
         "x": [
          0.42190226912498474,
          0.42190226912498474,
          null,
          0.42190226912498474,
          0.3961929976940155,
          null,
          0.42190226912498474,
          0.4024175703525543,
          null
         ],
         "y": [
          6,
          10.5,
          null,
          6,
          6,
          null,
          10.5,
          10.5,
          null
         ]
        },
        {
         "customdata": [
          [
           4
          ],
          [
           9
          ],
          [
           2
          ],
          [
           4
          ],
          [
           7
          ],
          [
           3
          ],
          [
           3
          ],
          [
           2
          ],
          [
           2
          ],
          [
           2
          ],
          [
           19
          ],
          [
           2
          ],
          [
           2
          ],
          [
           2
          ],
          [
           2
          ],
          [
           6
          ],
          [
           16
          ],
          [
           8
          ]
         ],
         "hovertemplate": "<b>%{text}</b><br>\n%{x:.3f}<br>\n%{customdata[0]} genomes\n<extra></extra>\n",
         "marker": {
          "color": "blue"
         },
         "mode": "markers",
         "showlegend": false,
         "text": [
          "33",
          "32",
          "21",
          "26",
          "35",
          "29",
          "34",
          "25",
          "22",
          "24",
          "37",
          "28",
          "20",
          "23",
          "31",
          "27",
          "36",
          "30"
         ],
         "type": "scatter",
         "x": [
          0.4882459342479706,
          0.4705395996570587,
          0.29208698868751526,
          0.37954241037368774,
          0.7486640214920044,
          0.4052116274833679,
          0.6545893549919128,
          0.3742145597934723,
          0.3356224298477173,
          0.3669704496860504,
          0.9944140315055847,
          0.4024175703525543,
          0.25350773334503174,
          0.3464493453502655,
          0.4545997679233551,
          0.3961929976940155,
          0.8838295340538025,
          0.42190226912498474
         ],
         "y": [
          14.5,
          10.125,
          13.5,
          7.5,
          16.375,
          2.25,
          18.25,
          17.5,
          1.5,
          8.5,
          7.75,
          10.5,
          4.5,
          6.5,
          15.5,
          6,
          13.25,
          8.25
         ]
        },
        {
         "colorscale": [
          [
           0,
           "#000004"
          ],
          [
           0.00392156862745098,
           "#010005"
          ],
          [
           0.00784313725490196,
           "#010106"
          ],
          [
           0.011764705882352941,
           "#010108"
          ],
          [
           0.01568627450980392,
           "#020109"
          ],
          [
           0.0196078431372549,
           "#02020B"
          ],
          [
           0.023529411764705882,
           "#02020D"
          ],
          [
           0.027450980392156862,
           "#03030F"
          ],
          [
           0.03137254901960784,
           "#030312"
          ],
          [
           0.03529411764705882,
           "#040414"
          ],
          [
           0.0392156862745098,
           "#050416"
          ],
          [
           0.043137254901960784,
           "#060518"
          ],
          [
           0.047058823529411764,
           "#06051A"
          ],
          [
           0.050980392156862744,
           "#07061C"
          ],
          [
           0.054901960784313725,
           "#08071E"
          ],
          [
           0.058823529411764705,
           "#090720"
          ],
          [
           0.06274509803921569,
           "#0A0822"
          ],
          [
           0.06666666666666667,
           "#0B0924"
          ],
          [
           0.07058823529411765,
           "#0C0926"
          ],
          [
           0.07450980392156863,
           "#0D0A29"
          ],
          [
           0.0784313725490196,
           "#0E0B2B"
          ],
          [
           0.08235294117647059,
           "#100B2D"
          ],
          [
           0.08627450980392157,
           "#110C2F"
          ],
          [
           0.09019607843137255,
           "#120D31"
          ],
          [
           0.09411764705882353,
           "#130D34"
          ],
          [
           0.09803921568627451,
           "#140E36"
          ],
          [
           0.10196078431372549,
           "#150E38"
          ],
          [
           0.10588235294117647,
           "#160F3B"
          ],
          [
           0.10980392156862745,
           "#180F3D"
          ],
          [
           0.11372549019607843,
           "#19103F"
          ],
          [
           0.11764705882352941,
           "#1A1042"
          ],
          [
           0.12156862745098039,
           "#1C1044"
          ],
          [
           0.12549019607843137,
           "#1D1147"
          ],
          [
           0.12941176470588237,
           "#1E1149"
          ],
          [
           0.13333333333333333,
           "#20114B"
          ],
          [
           0.13725490196078433,
           "#21114E"
          ],
          [
           0.1411764705882353,
           "#221150"
          ],
          [
           0.1450980392156863,
           "#241253"
          ],
          [
           0.14901960784313725,
           "#251255"
          ],
          [
           0.15294117647058825,
           "#271258"
          ],
          [
           0.1568627450980392,
           "#29115A"
          ],
          [
           0.1607843137254902,
           "#2A115C"
          ],
          [
           0.16470588235294117,
           "#2C115F"
          ],
          [
           0.16862745098039217,
           "#2D1161"
          ],
          [
           0.17254901960784313,
           "#2F1163"
          ],
          [
           0.17647058823529413,
           "#311165"
          ],
          [
           0.1803921568627451,
           "#331067"
          ],
          [
           0.1843137254901961,
           "#341069"
          ],
          [
           0.18823529411764706,
           "#36106B"
          ],
          [
           0.19215686274509805,
           "#38106C"
          ],
          [
           0.19607843137254902,
           "#390F6E"
          ],
          [
           0.2,
           "#3B0F70"
          ],
          [
           0.20392156862745098,
           "#3D0F71"
          ],
          [
           0.20784313725490197,
           "#3F0F72"
          ],
          [
           0.21176470588235294,
           "#400F74"
          ],
          [
           0.21568627450980393,
           "#420F75"
          ],
          [
           0.2196078431372549,
           "#440F76"
          ],
          [
           0.2235294117647059,
           "#451077"
          ],
          [
           0.22745098039215686,
           "#471078"
          ],
          [
           0.23137254901960785,
           "#491078"
          ],
          [
           0.23529411764705882,
           "#4A1079"
          ],
          [
           0.23921568627450981,
           "#4C117A"
          ],
          [
           0.24313725490196078,
           "#4E117B"
          ],
          [
           0.24705882352941178,
           "#4F127B"
          ],
          [
           0.25098039215686274,
           "#51127C"
          ],
          [
           0.2549019607843137,
           "#52137C"
          ],
          [
           0.25882352941176473,
           "#54137D"
          ],
          [
           0.2627450980392157,
           "#56147D"
          ],
          [
           0.26666666666666666,
           "#57157E"
          ],
          [
           0.27058823529411763,
           "#59157E"
          ],
          [
           0.27450980392156865,
           "#5A167E"
          ],
          [
           0.2784313725490196,
           "#5C167F"
          ],
          [
           0.2823529411764706,
           "#5D177F"
          ],
          [
           0.28627450980392155,
           "#5F187F"
          ],
          [
           0.2901960784313726,
           "#601880"
          ],
          [
           0.29411764705882354,
           "#621980"
          ],
          [
           0.2980392156862745,
           "#641A80"
          ],
          [
           0.30196078431372547,
           "#651A80"
          ],
          [
           0.3058823529411765,
           "#671B80"
          ],
          [
           0.30980392156862746,
           "#681C81"
          ],
          [
           0.3137254901960784,
           "#6A1C81"
          ],
          [
           0.3176470588235294,
           "#6B1D81"
          ],
          [
           0.3215686274509804,
           "#6D1D81"
          ],
          [
           0.3254901960784314,
           "#6E1E81"
          ],
          [
           0.32941176470588235,
           "#701F81"
          ],
          [
           0.3333333333333333,
           "#721F81"
          ],
          [
           0.33725490196078434,
           "#732081"
          ],
          [
           0.3411764705882353,
           "#752181"
          ],
          [
           0.34509803921568627,
           "#762181"
          ],
          [
           0.34901960784313724,
           "#782281"
          ],
          [
           0.35294117647058826,
           "#792282"
          ],
          [
           0.3568627450980392,
           "#7B2382"
          ],
          [
           0.3607843137254902,
           "#7C2382"
          ],
          [
           0.36470588235294116,
           "#7E2482"
          ],
          [
           0.3686274509803922,
           "#802582"
          ],
          [
           0.37254901960784315,
           "#812581"
          ],
          [
           0.3764705882352941,
           "#832681"
          ],
          [
           0.3803921568627451,
           "#842681"
          ],
          [
           0.3843137254901961,
           "#862781"
          ],
          [
           0.38823529411764707,
           "#882781"
          ],
          [
           0.39215686274509803,
           "#892881"
          ],
          [
           0.396078431372549,
           "#8B2981"
          ],
          [
           0.4,
           "#8C2981"
          ],
          [
           0.403921568627451,
           "#8E2A81"
          ],
          [
           0.40784313725490196,
           "#902A81"
          ],
          [
           0.4117647058823529,
           "#912B81"
          ],
          [
           0.41568627450980394,
           "#932B80"
          ],
          [
           0.4196078431372549,
           "#942C80"
          ],
          [
           0.4235294117647059,
           "#962C80"
          ],
          [
           0.42745098039215684,
           "#982D80"
          ],
          [
           0.43137254901960786,
           "#992D80"
          ],
          [
           0.43529411764705883,
           "#9B2E7F"
          ],
          [
           0.4392156862745098,
           "#9C2E7F"
          ],
          [
           0.44313725490196076,
           "#9E2F7F"
          ],
          [
           0.4470588235294118,
           "#A02F7F"
          ],
          [
           0.45098039215686275,
           "#A1307E"
          ],
          [
           0.4549019607843137,
           "#A3307E"
          ],
          [
           0.4588235294117647,
           "#A5317E"
          ],
          [
           0.4627450980392157,
           "#A6317D"
          ],
          [
           0.4666666666666667,
           "#A8327D"
          ],
          [
           0.47058823529411764,
           "#AA337D"
          ],
          [
           0.4745098039215686,
           "#AB337C"
          ],
          [
           0.47843137254901963,
           "#AD347C"
          ],
          [
           0.4823529411764706,
           "#AE347B"
          ],
          [
           0.48627450980392156,
           "#B0357B"
          ],
          [
           0.49019607843137253,
           "#B2357B"
          ],
          [
           0.49411764705882355,
           "#B3367A"
          ],
          [
           0.4980392156862745,
           "#B5367A"
          ],
          [
           0.5019607843137255,
           "#B73779"
          ],
          [
           0.5058823529411764,
           "#B83779"
          ],
          [
           0.5098039215686274,
           "#BA3878"
          ],
          [
           0.5137254901960784,
           "#BC3978"
          ],
          [
           0.5176470588235295,
           "#BD3977"
          ],
          [
           0.5215686274509804,
           "#BF3A77"
          ],
          [
           0.5254901960784314,
           "#C03A76"
          ],
          [
           0.5294117647058824,
           "#C23B75"
          ],
          [
           0.5333333333333333,
           "#C43C75"
          ],
          [
           0.5372549019607843,
           "#C53C74"
          ],
          [
           0.5411764705882353,
           "#C73D73"
          ],
          [
           0.5450980392156862,
           "#C83E73"
          ],
          [
           0.5490196078431373,
           "#CA3E72"
          ],
          [
           0.5529411764705883,
           "#CC3F71"
          ],
          [
           0.5568627450980392,
           "#CD4071"
          ],
          [
           0.5607843137254902,
           "#CF4070"
          ],
          [
           0.5647058823529412,
           "#D0416F"
          ],
          [
           0.5686274509803921,
           "#D2426F"
          ],
          [
           0.5725490196078431,
           "#D3436E"
          ],
          [
           0.5764705882352941,
           "#D5446D"
          ],
          [
           0.5803921568627451,
           "#D6456C"
          ],
          [
           0.5843137254901961,
           "#D8456C"
          ],
          [
           0.5882352941176471,
           "#D9466B"
          ],
          [
           0.592156862745098,
           "#DB476A"
          ],
          [
           0.596078431372549,
           "#DC4869"
          ],
          [
           0.6,
           "#DE4968"
          ],
          [
           0.6039215686274509,
           "#DF4A68"
          ],
          [
           0.6078431372549019,
           "#E04C67"
          ],
          [
           0.611764705882353,
           "#E24D66"
          ],
          [
           0.615686274509804,
           "#E34E65"
          ],
          [
           0.6196078431372549,
           "#E44F64"
          ],
          [
           0.6235294117647059,
           "#E55064"
          ],
          [
           0.6274509803921569,
           "#E75263"
          ],
          [
           0.6313725490196078,
           "#E85362"
          ],
          [
           0.6352941176470588,
           "#E95462"
          ],
          [
           0.6392156862745098,
           "#EA5661"
          ],
          [
           0.6431372549019608,
           "#EB5760"
          ],
          [
           0.6470588235294118,
           "#EC5860"
          ],
          [
           0.6509803921568628,
           "#ED5A5F"
          ],
          [
           0.6549019607843137,
           "#EE5B5E"
          ],
          [
           0.6588235294117647,
           "#EF5D5E"
          ],
          [
           0.6627450980392157,
           "#F05F5E"
          ],
          [
           0.6666666666666666,
           "#F1605D"
          ],
          [
           0.6705882352941176,
           "#F2625D"
          ],
          [
           0.6745098039215687,
           "#F2645C"
          ],
          [
           0.6784313725490196,
           "#F3655C"
          ],
          [
           0.6823529411764706,
           "#F4675C"
          ],
          [
           0.6862745098039216,
           "#F4695C"
          ],
          [
           0.6901960784313725,
           "#F56B5C"
          ],
          [
           0.6941176470588235,
           "#F66C5C"
          ],
          [
           0.6980392156862745,
           "#F66E5C"
          ],
          [
           0.7019607843137254,
           "#F7705C"
          ],
          [
           0.7058823529411765,
           "#F7725C"
          ],
          [
           0.7098039215686275,
           "#F8745C"
          ],
          [
           0.7137254901960784,
           "#F8765C"
          ],
          [
           0.7176470588235294,
           "#F9785D"
          ],
          [
           0.7215686274509804,
           "#F9795D"
          ],
          [
           0.7254901960784313,
           "#F97B5D"
          ],
          [
           0.7294117647058823,
           "#FA7D5E"
          ],
          [
           0.7333333333333333,
           "#FA7F5E"
          ],
          [
           0.7372549019607844,
           "#FA815F"
          ],
          [
           0.7411764705882353,
           "#FB835F"
          ],
          [
           0.7450980392156863,
           "#FB8560"
          ],
          [
           0.7490196078431373,
           "#FB8761"
          ],
          [
           0.7529411764705882,
           "#FC8961"
          ],
          [
           0.7568627450980392,
           "#FC8A62"
          ],
          [
           0.7607843137254902,
           "#FC8C63"
          ],
          [
           0.7647058823529411,
           "#FC8E64"
          ],
          [
           0.7686274509803922,
           "#FC9065"
          ],
          [
           0.7725490196078432,
           "#FD9266"
          ],
          [
           0.7764705882352941,
           "#FD9467"
          ],
          [
           0.7803921568627451,
           "#FD9668"
          ],
          [
           0.7843137254901961,
           "#FD9869"
          ],
          [
           0.788235294117647,
           "#FD9A6A"
          ],
          [
           0.792156862745098,
           "#FD9B6B"
          ],
          [
           0.796078431372549,
           "#FE9D6C"
          ],
          [
           0.8,
           "#FE9F6D"
          ],
          [
           0.803921568627451,
           "#FEA16E"
          ],
          [
           0.807843137254902,
           "#FEA36F"
          ],
          [
           0.8117647058823529,
           "#FEA571"
          ],
          [
           0.8156862745098039,
           "#FEA772"
          ],
          [
           0.8196078431372549,
           "#FEA973"
          ],
          [
           0.8235294117647058,
           "#FEAA74"
          ],
          [
           0.8274509803921568,
           "#FEAC76"
          ],
          [
           0.8313725490196079,
           "#FEAE77"
          ],
          [
           0.8352941176470589,
           "#FEB078"
          ],
          [
           0.8392156862745098,
           "#FEB27A"
          ],
          [
           0.8431372549019608,
           "#FEB47B"
          ],
          [
           0.8470588235294118,
           "#FEB67C"
          ],
          [
           0.8509803921568627,
           "#FEB77E"
          ],
          [
           0.8549019607843137,
           "#FEB97F"
          ],
          [
           0.8588235294117647,
           "#FEBB81"
          ],
          [
           0.8627450980392157,
           "#FEBD82"
          ],
          [
           0.8666666666666667,
           "#FEBF84"
          ],
          [
           0.8705882352941177,
           "#FEC185"
          ],
          [
           0.8745098039215686,
           "#FEC287"
          ],
          [
           0.8784313725490196,
           "#FEC488"
          ],
          [
           0.8823529411764706,
           "#FEC68A"
          ],
          [
           0.8862745098039215,
           "#FEC88C"
          ],
          [
           0.8901960784313725,
           "#FECA8D"
          ],
          [
           0.8941176470588236,
           "#FECC8F"
          ],
          [
           0.8980392156862745,
           "#FECD90"
          ],
          [
           0.9019607843137255,
           "#FECF92"
          ],
          [
           0.9058823529411765,
           "#FED194"
          ],
          [
           0.9098039215686274,
           "#FED395"
          ],
          [
           0.9137254901960784,
           "#FED597"
          ],
          [
           0.9176470588235294,
           "#FED799"
          ],
          [
           0.9215686274509803,
           "#FED89A"
          ],
          [
           0.9254901960784314,
           "#FDDA9C"
          ],
          [
           0.9294117647058824,
           "#FDDC9E"
          ],
          [
           0.9333333333333333,
           "#FDDEA0"
          ],
          [
           0.9372549019607843,
           "#FDE0A1"
          ],
          [
           0.9411764705882353,
           "#FDE2A3"
          ],
          [
           0.9450980392156862,
           "#FDE3A5"
          ],
          [
           0.9490196078431372,
           "#FDE5A7"
          ],
          [
           0.9529411764705882,
           "#FDE7A9"
          ],
          [
           0.9568627450980393,
           "#FDE9AA"
          ],
          [
           0.9607843137254902,
           "#FDEBAC"
          ],
          [
           0.9647058823529412,
           "#FCECAE"
          ],
          [
           0.9686274509803922,
           "#FCEEB0"
          ],
          [
           0.9725490196078431,
           "#FCF0B2"
          ],
          [
           0.9764705882352941,
           "#FCF2B4"
          ],
          [
           0.9803921568627451,
           "#FCF4B6"
          ],
          [
           0.984313725490196,
           "#FCF6B8"
          ],
          [
           0.9882352941176471,
           "#FCF7B9"
          ],
          [
           0.9921568627450981,
           "#FCF9BB"
          ],
          [
           0.996078431372549,
           "#FCFBBD"
          ],
          [
           1,
           "#FCFDBF"
          ]
         ],
         "customdata": [
          [
           [
            "Genome 17",
            "Genome 17"
           ],
           [
            "Genome 19",
            "Genome 17"
           ],
           [
            "Genome 16",
            "Genome 17"
           ],
           [
            "Genome 7",
            "Genome 17"
           ],
           [
            "Genome 10",
            "Genome 17"
           ],
           [
            "Genome 8",
            "Genome 17"
           ],
           [
            "Genome 9",
            "Genome 17"
           ],
           [
            "Genome 3",
            "Genome 17"
           ],
           [
            "Genome 5",
            "Genome 17"
           ],
           [
            "Genome 6",
            "Genome 17"
           ],
           [
            "Genome 11",
            "Genome 17"
           ],
           [
            "Genome 12",
            "Genome 17"
           ],
           [
            "Genome 14",
            "Genome 17"
           ],
           [
            "Genome 15",
            "Genome 17"
           ],
           [
            "Genome 1",
            "Genome 17"
           ],
           [
            "Genome 2",
            "Genome 17"
           ],
           [
            "Genome 13",
            "Genome 17"
           ],
           [
            "Genome 18",
            "Genome 17"
           ],
           [
            "Genome 4",
            "Genome 17"
           ]
          ],
          [
           [
            "Genome 17",
            "Genome 19"
           ],
           [
            "Genome 19",
            "Genome 19"
           ],
           [
            "Genome 16",
            "Genome 19"
           ],
           [
            "Genome 7",
            "Genome 19"
           ],
           [
            "Genome 10",
            "Genome 19"
           ],
           [
            "Genome 8",
            "Genome 19"
           ],
           [
            "Genome 9",
            "Genome 19"
           ],
           [
            "Genome 3",
            "Genome 19"
           ],
           [
            "Genome 5",
            "Genome 19"
           ],
           [
            "Genome 6",
            "Genome 19"
           ],
           [
            "Genome 11",
            "Genome 19"
           ],
           [
            "Genome 12",
            "Genome 19"
           ],
           [
            "Genome 14",
            "Genome 19"
           ],
           [
            "Genome 15",
            "Genome 19"
           ],
           [
            "Genome 1",
            "Genome 19"
           ],
           [
            "Genome 2",
            "Genome 19"
           ],
           [
            "Genome 13",
            "Genome 19"
           ],
           [
            "Genome 18",
            "Genome 19"
           ],
           [
            "Genome 4",
            "Genome 19"
           ]
          ],
          [
           [
            "Genome 17",
            "Genome 16"
           ],
           [
            "Genome 19",
            "Genome 16"
           ],
           [
            "Genome 16",
            "Genome 16"
           ],
           [
            "Genome 7",
            "Genome 16"
           ],
           [
            "Genome 10",
            "Genome 16"
           ],
           [
            "Genome 8",
            "Genome 16"
           ],
           [
            "Genome 9",
            "Genome 16"
           ],
           [
            "Genome 3",
            "Genome 16"
           ],
           [
            "Genome 5",
            "Genome 16"
           ],
           [
            "Genome 6",
            "Genome 16"
           ],
           [
            "Genome 11",
            "Genome 16"
           ],
           [
            "Genome 12",
            "Genome 16"
           ],
           [
            "Genome 14",
            "Genome 16"
           ],
           [
            "Genome 15",
            "Genome 16"
           ],
           [
            "Genome 1",
            "Genome 16"
           ],
           [
            "Genome 2",
            "Genome 16"
           ],
           [
            "Genome 13",
            "Genome 16"
           ],
           [
            "Genome 18",
            "Genome 16"
           ],
           [
            "Genome 4",
            "Genome 16"
           ]
          ],
          [
           [
            "Genome 17",
            "Genome 7"
           ],
           [
            "Genome 19",
            "Genome 7"
           ],
           [
            "Genome 16",
            "Genome 7"
           ],
           [
            "Genome 7",
            "Genome 7"
           ],
           [
            "Genome 10",
            "Genome 7"
           ],
           [
            "Genome 8",
            "Genome 7"
           ],
           [
            "Genome 9",
            "Genome 7"
           ],
           [
            "Genome 3",
            "Genome 7"
           ],
           [
            "Genome 5",
            "Genome 7"
           ],
           [
            "Genome 6",
            "Genome 7"
           ],
           [
            "Genome 11",
            "Genome 7"
           ],
           [
            "Genome 12",
            "Genome 7"
           ],
           [
            "Genome 14",
            "Genome 7"
           ],
           [
            "Genome 15",
            "Genome 7"
           ],
           [
            "Genome 1",
            "Genome 7"
           ],
           [
            "Genome 2",
            "Genome 7"
           ],
           [
            "Genome 13",
            "Genome 7"
           ],
           [
            "Genome 18",
            "Genome 7"
           ],
           [
            "Genome 4",
            "Genome 7"
           ]
          ],
          [
           [
            "Genome 17",
            "Genome 10"
           ],
           [
            "Genome 19",
            "Genome 10"
           ],
           [
            "Genome 16",
            "Genome 10"
           ],
           [
            "Genome 7",
            "Genome 10"
           ],
           [
            "Genome 10",
            "Genome 10"
           ],
           [
            "Genome 8",
            "Genome 10"
           ],
           [
            "Genome 9",
            "Genome 10"
           ],
           [
            "Genome 3",
            "Genome 10"
           ],
           [
            "Genome 5",
            "Genome 10"
           ],
           [
            "Genome 6",
            "Genome 10"
           ],
           [
            "Genome 11",
            "Genome 10"
           ],
           [
            "Genome 12",
            "Genome 10"
           ],
           [
            "Genome 14",
            "Genome 10"
           ],
           [
            "Genome 15",
            "Genome 10"
           ],
           [
            "Genome 1",
            "Genome 10"
           ],
           [
            "Genome 2",
            "Genome 10"
           ],
           [
            "Genome 13",
            "Genome 10"
           ],
           [
            "Genome 18",
            "Genome 10"
           ],
           [
            "Genome 4",
            "Genome 10"
           ]
          ],
          [
           [
            "Genome 17",
            "Genome 8"
           ],
           [
            "Genome 19",
            "Genome 8"
           ],
           [
            "Genome 16",
            "Genome 8"
           ],
           [
            "Genome 7",
            "Genome 8"
           ],
           [
            "Genome 10",
            "Genome 8"
           ],
           [
            "Genome 8",
            "Genome 8"
           ],
           [
            "Genome 9",
            "Genome 8"
           ],
           [
            "Genome 3",
            "Genome 8"
           ],
           [
            "Genome 5",
            "Genome 8"
           ],
           [
            "Genome 6",
            "Genome 8"
           ],
           [
            "Genome 11",
            "Genome 8"
           ],
           [
            "Genome 12",
            "Genome 8"
           ],
           [
            "Genome 14",
            "Genome 8"
           ],
           [
            "Genome 15",
            "Genome 8"
           ],
           [
            "Genome 1",
            "Genome 8"
           ],
           [
            "Genome 2",
            "Genome 8"
           ],
           [
            "Genome 13",
            "Genome 8"
           ],
           [
            "Genome 18",
            "Genome 8"
           ],
           [
            "Genome 4",
            "Genome 8"
           ]
          ],
          [
           [
            "Genome 17",
            "Genome 9"
           ],
           [
            "Genome 19",
            "Genome 9"
           ],
           [
            "Genome 16",
            "Genome 9"
           ],
           [
            "Genome 7",
            "Genome 9"
           ],
           [
            "Genome 10",
            "Genome 9"
           ],
           [
            "Genome 8",
            "Genome 9"
           ],
           [
            "Genome 9",
            "Genome 9"
           ],
           [
            "Genome 3",
            "Genome 9"
           ],
           [
            "Genome 5",
            "Genome 9"
           ],
           [
            "Genome 6",
            "Genome 9"
           ],
           [
            "Genome 11",
            "Genome 9"
           ],
           [
            "Genome 12",
            "Genome 9"
           ],
           [
            "Genome 14",
            "Genome 9"
           ],
           [
            "Genome 15",
            "Genome 9"
           ],
           [
            "Genome 1",
            "Genome 9"
           ],
           [
            "Genome 2",
            "Genome 9"
           ],
           [
            "Genome 13",
            "Genome 9"
           ],
           [
            "Genome 18",
            "Genome 9"
           ],
           [
            "Genome 4",
            "Genome 9"
           ]
          ],
          [
           [
            "Genome 17",
            "Genome 3"
           ],
           [
            "Genome 19",
            "Genome 3"
           ],
           [
            "Genome 16",
            "Genome 3"
           ],
           [
            "Genome 7",
            "Genome 3"
           ],
           [
            "Genome 10",
            "Genome 3"
           ],
           [
            "Genome 8",
            "Genome 3"
           ],
           [
            "Genome 9",
            "Genome 3"
           ],
           [
            "Genome 3",
            "Genome 3"
           ],
           [
            "Genome 5",
            "Genome 3"
           ],
           [
            "Genome 6",
            "Genome 3"
           ],
           [
            "Genome 11",
            "Genome 3"
           ],
           [
            "Genome 12",
            "Genome 3"
           ],
           [
            "Genome 14",
            "Genome 3"
           ],
           [
            "Genome 15",
            "Genome 3"
           ],
           [
            "Genome 1",
            "Genome 3"
           ],
           [
            "Genome 2",
            "Genome 3"
           ],
           [
            "Genome 13",
            "Genome 3"
           ],
           [
            "Genome 18",
            "Genome 3"
           ],
           [
            "Genome 4",
            "Genome 3"
           ]
          ],
          [
           [
            "Genome 17",
            "Genome 5"
           ],
           [
            "Genome 19",
            "Genome 5"
           ],
           [
            "Genome 16",
            "Genome 5"
           ],
           [
            "Genome 7",
            "Genome 5"
           ],
           [
            "Genome 10",
            "Genome 5"
           ],
           [
            "Genome 8",
            "Genome 5"
           ],
           [
            "Genome 9",
            "Genome 5"
           ],
           [
            "Genome 3",
            "Genome 5"
           ],
           [
            "Genome 5",
            "Genome 5"
           ],
           [
            "Genome 6",
            "Genome 5"
           ],
           [
            "Genome 11",
            "Genome 5"
           ],
           [
            "Genome 12",
            "Genome 5"
           ],
           [
            "Genome 14",
            "Genome 5"
           ],
           [
            "Genome 15",
            "Genome 5"
           ],
           [
            "Genome 1",
            "Genome 5"
           ],
           [
            "Genome 2",
            "Genome 5"
           ],
           [
            "Genome 13",
            "Genome 5"
           ],
           [
            "Genome 18",
            "Genome 5"
           ],
           [
            "Genome 4",
            "Genome 5"
           ]
          ],
          [
           [
            "Genome 17",
            "Genome 6"
           ],
           [
            "Genome 19",
            "Genome 6"
           ],
           [
            "Genome 16",
            "Genome 6"
           ],
           [
            "Genome 7",
            "Genome 6"
           ],
           [
            "Genome 10",
            "Genome 6"
           ],
           [
            "Genome 8",
            "Genome 6"
           ],
           [
            "Genome 9",
            "Genome 6"
           ],
           [
            "Genome 3",
            "Genome 6"
           ],
           [
            "Genome 5",
            "Genome 6"
           ],
           [
            "Genome 6",
            "Genome 6"
           ],
           [
            "Genome 11",
            "Genome 6"
           ],
           [
            "Genome 12",
            "Genome 6"
           ],
           [
            "Genome 14",
            "Genome 6"
           ],
           [
            "Genome 15",
            "Genome 6"
           ],
           [
            "Genome 1",
            "Genome 6"
           ],
           [
            "Genome 2",
            "Genome 6"
           ],
           [
            "Genome 13",
            "Genome 6"
           ],
           [
            "Genome 18",
            "Genome 6"
           ],
           [
            "Genome 4",
            "Genome 6"
           ]
          ],
          [
           [
            "Genome 17",
            "Genome 11"
           ],
           [
            "Genome 19",
            "Genome 11"
           ],
           [
            "Genome 16",
            "Genome 11"
           ],
           [
            "Genome 7",
            "Genome 11"
           ],
           [
            "Genome 10",
            "Genome 11"
           ],
           [
            "Genome 8",
            "Genome 11"
           ],
           [
            "Genome 9",
            "Genome 11"
           ],
           [
            "Genome 3",
            "Genome 11"
           ],
           [
            "Genome 5",
            "Genome 11"
           ],
           [
            "Genome 6",
            "Genome 11"
           ],
           [
            "Genome 11",
            "Genome 11"
           ],
           [
            "Genome 12",
            "Genome 11"
           ],
           [
            "Genome 14",
            "Genome 11"
           ],
           [
            "Genome 15",
            "Genome 11"
           ],
           [
            "Genome 1",
            "Genome 11"
           ],
           [
            "Genome 2",
            "Genome 11"
           ],
           [
            "Genome 13",
            "Genome 11"
           ],
           [
            "Genome 18",
            "Genome 11"
           ],
           [
            "Genome 4",
            "Genome 11"
           ]
          ],
          [
           [
            "Genome 17",
            "Genome 12"
           ],
           [
            "Genome 19",
            "Genome 12"
           ],
           [
            "Genome 16",
            "Genome 12"
           ],
           [
            "Genome 7",
            "Genome 12"
           ],
           [
            "Genome 10",
            "Genome 12"
           ],
           [
            "Genome 8",
            "Genome 12"
           ],
           [
            "Genome 9",
            "Genome 12"
           ],
           [
            "Genome 3",
            "Genome 12"
           ],
           [
            "Genome 5",
            "Genome 12"
           ],
           [
            "Genome 6",
            "Genome 12"
           ],
           [
            "Genome 11",
            "Genome 12"
           ],
           [
            "Genome 12",
            "Genome 12"
           ],
           [
            "Genome 14",
            "Genome 12"
           ],
           [
            "Genome 15",
            "Genome 12"
           ],
           [
            "Genome 1",
            "Genome 12"
           ],
           [
            "Genome 2",
            "Genome 12"
           ],
           [
            "Genome 13",
            "Genome 12"
           ],
           [
            "Genome 18",
            "Genome 12"
           ],
           [
            "Genome 4",
            "Genome 12"
           ]
          ],
          [
           [
            "Genome 17",
            "Genome 14"
           ],
           [
            "Genome 19",
            "Genome 14"
           ],
           [
            "Genome 16",
            "Genome 14"
           ],
           [
            "Genome 7",
            "Genome 14"
           ],
           [
            "Genome 10",
            "Genome 14"
           ],
           [
            "Genome 8",
            "Genome 14"
           ],
           [
            "Genome 9",
            "Genome 14"
           ],
           [
            "Genome 3",
            "Genome 14"
           ],
           [
            "Genome 5",
            "Genome 14"
           ],
           [
            "Genome 6",
            "Genome 14"
           ],
           [
            "Genome 11",
            "Genome 14"
           ],
           [
            "Genome 12",
            "Genome 14"
           ],
           [
            "Genome 14",
            "Genome 14"
           ],
           [
            "Genome 15",
            "Genome 14"
           ],
           [
            "Genome 1",
            "Genome 14"
           ],
           [
            "Genome 2",
            "Genome 14"
           ],
           [
            "Genome 13",
            "Genome 14"
           ],
           [
            "Genome 18",
            "Genome 14"
           ],
           [
            "Genome 4",
            "Genome 14"
           ]
          ],
          [
           [
            "Genome 17",
            "Genome 15"
           ],
           [
            "Genome 19",
            "Genome 15"
           ],
           [
            "Genome 16",
            "Genome 15"
           ],
           [
            "Genome 7",
            "Genome 15"
           ],
           [
            "Genome 10",
            "Genome 15"
           ],
           [
            "Genome 8",
            "Genome 15"
           ],
           [
            "Genome 9",
            "Genome 15"
           ],
           [
            "Genome 3",
            "Genome 15"
           ],
           [
            "Genome 5",
            "Genome 15"
           ],
           [
            "Genome 6",
            "Genome 15"
           ],
           [
            "Genome 11",
            "Genome 15"
           ],
           [
            "Genome 12",
            "Genome 15"
           ],
           [
            "Genome 14",
            "Genome 15"
           ],
           [
            "Genome 15",
            "Genome 15"
           ],
           [
            "Genome 1",
            "Genome 15"
           ],
           [
            "Genome 2",
            "Genome 15"
           ],
           [
            "Genome 13",
            "Genome 15"
           ],
           [
            "Genome 18",
            "Genome 15"
           ],
           [
            "Genome 4",
            "Genome 15"
           ]
          ],
          [
           [
            "Genome 17",
            "Genome 1"
           ],
           [
            "Genome 19",
            "Genome 1"
           ],
           [
            "Genome 16",
            "Genome 1"
           ],
           [
            "Genome 7",
            "Genome 1"
           ],
           [
            "Genome 10",
            "Genome 1"
           ],
           [
            "Genome 8",
            "Genome 1"
           ],
           [
            "Genome 9",
            "Genome 1"
           ],
           [
            "Genome 3",
            "Genome 1"
           ],
           [
            "Genome 5",
            "Genome 1"
           ],
           [
            "Genome 6",
            "Genome 1"
           ],
           [
            "Genome 11",
            "Genome 1"
           ],
           [
            "Genome 12",
            "Genome 1"
           ],
           [
            "Genome 14",
            "Genome 1"
           ],
           [
            "Genome 15",
            "Genome 1"
           ],
           [
            "Genome 1",
            "Genome 1"
           ],
           [
            "Genome 2",
            "Genome 1"
           ],
           [
            "Genome 13",
            "Genome 1"
           ],
           [
            "Genome 18",
            "Genome 1"
           ],
           [
            "Genome 4",
            "Genome 1"
           ]
          ],
          [
           [
            "Genome 17",
            "Genome 2"
           ],
           [
            "Genome 19",
            "Genome 2"
           ],
           [
            "Genome 16",
            "Genome 2"
           ],
           [
            "Genome 7",
            "Genome 2"
           ],
           [
            "Genome 10",
            "Genome 2"
           ],
           [
            "Genome 8",
            "Genome 2"
           ],
           [
            "Genome 9",
            "Genome 2"
           ],
           [
            "Genome 3",
            "Genome 2"
           ],
           [
            "Genome 5",
            "Genome 2"
           ],
           [
            "Genome 6",
            "Genome 2"
           ],
           [
            "Genome 11",
            "Genome 2"
           ],
           [
            "Genome 12",
            "Genome 2"
           ],
           [
            "Genome 14",
            "Genome 2"
           ],
           [
            "Genome 15",
            "Genome 2"
           ],
           [
            "Genome 1",
            "Genome 2"
           ],
           [
            "Genome 2",
            "Genome 2"
           ],
           [
            "Genome 13",
            "Genome 2"
           ],
           [
            "Genome 18",
            "Genome 2"
           ],
           [
            "Genome 4",
            "Genome 2"
           ]
          ],
          [
           [
            "Genome 17",
            "Genome 13"
           ],
           [
            "Genome 19",
            "Genome 13"
           ],
           [
            "Genome 16",
            "Genome 13"
           ],
           [
            "Genome 7",
            "Genome 13"
           ],
           [
            "Genome 10",
            "Genome 13"
           ],
           [
            "Genome 8",
            "Genome 13"
           ],
           [
            "Genome 9",
            "Genome 13"
           ],
           [
            "Genome 3",
            "Genome 13"
           ],
           [
            "Genome 5",
            "Genome 13"
           ],
           [
            "Genome 6",
            "Genome 13"
           ],
           [
            "Genome 11",
            "Genome 13"
           ],
           [
            "Genome 12",
            "Genome 13"
           ],
           [
            "Genome 14",
            "Genome 13"
           ],
           [
            "Genome 15",
            "Genome 13"
           ],
           [
            "Genome 1",
            "Genome 13"
           ],
           [
            "Genome 2",
            "Genome 13"
           ],
           [
            "Genome 13",
            "Genome 13"
           ],
           [
            "Genome 18",
            "Genome 13"
           ],
           [
            "Genome 4",
            "Genome 13"
           ]
          ],
          [
           [
            "Genome 17",
            "Genome 18"
           ],
           [
            "Genome 19",
            "Genome 18"
           ],
           [
            "Genome 16",
            "Genome 18"
           ],
           [
            "Genome 7",
            "Genome 18"
           ],
           [
            "Genome 10",
            "Genome 18"
           ],
           [
            "Genome 8",
            "Genome 18"
           ],
           [
            "Genome 9",
            "Genome 18"
           ],
           [
            "Genome 3",
            "Genome 18"
           ],
           [
            "Genome 5",
            "Genome 18"
           ],
           [
            "Genome 6",
            "Genome 18"
           ],
           [
            "Genome 11",
            "Genome 18"
           ],
           [
            "Genome 12",
            "Genome 18"
           ],
           [
            "Genome 14",
            "Genome 18"
           ],
           [
            "Genome 15",
            "Genome 18"
           ],
           [
            "Genome 1",
            "Genome 18"
           ],
           [
            "Genome 2",
            "Genome 18"
           ],
           [
            "Genome 13",
            "Genome 18"
           ],
           [
            "Genome 18",
            "Genome 18"
           ],
           [
            "Genome 4",
            "Genome 18"
           ]
          ],
          [
           [
            "Genome 17",
            "Genome 4"
           ],
           [
            "Genome 19",
            "Genome 4"
           ],
           [
            "Genome 16",
            "Genome 4"
           ],
           [
            "Genome 7",
            "Genome 4"
           ],
           [
            "Genome 10",
            "Genome 4"
           ],
           [
            "Genome 8",
            "Genome 4"
           ],
           [
            "Genome 9",
            "Genome 4"
           ],
           [
            "Genome 3",
            "Genome 4"
           ],
           [
            "Genome 5",
            "Genome 4"
           ],
           [
            "Genome 6",
            "Genome 4"
           ],
           [
            "Genome 11",
            "Genome 4"
           ],
           [
            "Genome 12",
            "Genome 4"
           ],
           [
            "Genome 14",
            "Genome 4"
           ],
           [
            "Genome 15",
            "Genome 4"
           ],
           [
            "Genome 1",
            "Genome 4"
           ],
           [
            "Genome 2",
            "Genome 4"
           ],
           [
            "Genome 13",
            "Genome 4"
           ],
           [
            "Genome 18",
            "Genome 4"
           ],
           [
            "Genome 4",
            "Genome 4"
           ]
          ]
         ],
         "hovertemplate": "%{customdata[0]}<br>\n%{customdata[1]}<br>\n%{z:.3f}\n<extra></extra>\n",
         "type": "heatmap",
         "x": [
          0.5,
          1.5,
          2.5,
          3.5,
          4.5,
          5.5,
          6.5,
          7.5,
          8.5,
          9.5,
          10.5,
          11.5,
          12.5,
          13.5,
          14.5,
          15.5,
          16.5,
          17.5,
          18.5,
          19.5
         ],
         "xaxis": "x2",
         "y": [
          0.5,
          1.5,
          2.5,
          3.5,
          4.5,
          5.5,
          6.5,
          7.5,
          8.5,
          9.5,
          10.5,
          11.5,
          12.5,
          13.5,
          14.5,
          15.5,
          16.5,
          17.5,
          18.5,
          19.5
         ],
         "z": [
          [
           0,
           0.33562243,
           0.40521163,
           0.98988825,
           0.99255264,
           0.98804605,
           0.99293864,
           0.9898287,
           0.9921665,
           0.9895384,
           0.98933303,
           0.9921477,
           0.98750526,
           0.98736346,
           0.98727196,
           0.9882046,
           0.9868755,
           0.9880044,
           0.9861469
          ],
          [
           0.33562243,
           0,
           0.3851998,
           0.9926061,
           0.9939058,
           0.99091905,
           0.99441403,
           0.9927794,
           0.9933997,
           0.99141395,
           0.9912052,
           0.9935822,
           0.9907036,
           0.99008083,
           0.99071705,
           0.9911765,
           0.98888516,
           0.98955584,
           0.98864496
          ],
          [
           0.40521163,
           0.3851998,
           0,
           0.99231905,
           0.9885119,
           0.99033195,
           0.993871,
           0.992381,
           0.9932023,
           0.9909295,
           0.99040204,
           0.99274904,
           0.98529565,
           0.98994493,
           0.9851485,
           0.9838961,
           0.982331,
           0.98438686,
           0.9833547
          ],
          [
           0.98988825,
           0.9926061,
           0.99231905,
           0,
           0.25350773,
           0.35903183,
           0.35032856,
           0.3644552,
           0.3943601,
           0.39517182,
           0.41721997,
           0.45673177,
           0.8692376,
           0.87424606,
           0.8712664,
           0.88021517,
           0.86997485,
           0.8709927,
           0.8691759
          ],
          [
           0.99255264,
           0.9939058,
           0.9885119,
           0.25350773,
           0,
           0.38093087,
           0.34209913,
           0.38417202,
           0.396193,
           0.41043133,
           0.42190227,
           0.45675904,
           0.86340207,
           0.877457,
           0.8643756,
           0.8760983,
           0.8630491,
           0.86346984,
           0.8637072
          ],
          [
           0.98804605,
           0.99091905,
           0.99033195,
           0.35903183,
           0.38093087,
           0,
           0.34644935,
           0.36733317,
           0.3795424,
           0.38216132,
           0.38981915,
           0.44736284,
           0.8675958,
           0.87025267,
           0.8687922,
           0.87198323,
           0.86842954,
           0.8705733,
           0.8706522
          ],
          [
           0.99293864,
           0.99441403,
           0.993871,
           0.35032856,
           0.34209913,
           0.34644935,
           0,
           0.36686257,
           0.3647541,
           0.37884963,
           0.39883876,
           0.43403524,
           0.87293404,
           0.8760664,
           0.87333024,
           0.88129765,
           0.8711974,
           0.87222844,
           0.87227076
          ],
          [
           0.9898287,
           0.9927794,
           0.992381,
           0.3644552,
           0.38417202,
           0.36733317,
           0.36686257,
           0,
           0.36697045,
           0.39244953,
           0.41713423,
           0.43818104,
           0.8740367,
           0.87797123,
           0.87477505,
           0.88382953,
           0.8727703,
           0.8746306,
           0.8729046
          ],
          [
           0.9921665,
           0.9933997,
           0.9932023,
           0.3943601,
           0.396193,
           0.3795424,
           0.3647541,
           0.36697045,
           0,
           0.40398946,
           0.40507436,
           0.44751728,
           0.8712087,
           0.8775137,
           0.8720895,
           0.8796405,
           0.8744053,
           0.8744914,
           0.87379384
          ],
          [
           0.9895384,
           0.99141395,
           0.9909295,
           0.39517182,
           0.41043133,
           0.38216132,
           0.37884963,
           0.39244953,
           0.40398946,
           0,
           0.40241757,
           0.44680405,
           0.86685723,
           0.87104213,
           0.8694132,
           0.87707347,
           0.87034965,
           0.868529,
           0.86952496
          ],
          [
           0.98933303,
           0.9912052,
           0.99040204,
           0.41721997,
           0.42190227,
           0.38981915,
           0.39883876,
           0.41713423,
           0.40507436,
           0.40241757,
           0,
           0.4705396,
           0.8571212,
           0.86094767,
           0.8560897,
           0.869248,
           0.86660266,
           0.8698253,
           0.8637982
          ],
          [
           0.9921477,
           0.9935822,
           0.99274904,
           0.45673177,
           0.45675904,
           0.44736284,
           0.43403524,
           0.43818104,
           0.44751728,
           0.44680405,
           0.4705396,
           0,
           0.8665483,
           0.87150836,
           0.8685509,
           0.8785631,
           0.866226,
           0.86606586,
           0.8636502
          ],
          [
           0.98750526,
           0.9907036,
           0.98529565,
           0.8692376,
           0.86340207,
           0.8675958,
           0.87293404,
           0.8740367,
           0.8712087,
           0.86685723,
           0.8571212,
           0.8665483,
           0,
           0.292087,
           0.47397587,
           0.46442533,
           0.73314947,
           0.73826075,
           0.69749916
          ],
          [
           0.98736346,
           0.99008083,
           0.98994493,
           0.87424606,
           0.877457,
           0.87025267,
           0.8760664,
           0.87797123,
           0.8775137,
           0.87104213,
           0.86094767,
           0.87150836,
           0.292087,
           0,
           0.48824593,
           0.48348823,
           0.7330621,
           0.74420214,
           0.6969431
          ],
          [
           0.98727196,
           0.99071705,
           0.9851485,
           0.8712664,
           0.8643756,
           0.8687922,
           0.87333024,
           0.87477505,
           0.8720895,
           0.8694132,
           0.8560897,
           0.8685509,
           0.47397587,
           0.48824593,
           0,
           0.45459977,
           0.73203987,
           0.73397654,
           0.7028848
          ],
          [
           0.9882046,
           0.9911765,
           0.9838961,
           0.88021517,
           0.8760983,
           0.87198323,
           0.88129765,
           0.88382953,
           0.8796405,
           0.87707347,
           0.869248,
           0.8785631,
           0.46442533,
           0.48348823,
           0.45459977,
           0,
           0.74550694,
           0.748664,
           0.7355031
          ],
          [
           0.9868755,
           0.98888516,
           0.982331,
           0.86997485,
           0.8630491,
           0.86842954,
           0.8711974,
           0.8727703,
           0.8744053,
           0.87034965,
           0.86660266,
           0.866226,
           0.73314947,
           0.7330621,
           0.73203987,
           0.74550694,
           0,
           0.37421456,
           0.63058054
          ],
          [
           0.9880044,
           0.98955584,
           0.98438686,
           0.8709927,
           0.86346984,
           0.8705733,
           0.87222844,
           0.8746306,
           0.8744914,
           0.868529,
           0.8698253,
           0.86606586,
           0.73826075,
           0.74420214,
           0.73397654,
           0.748664,
           0.37421456,
           0,
           0.65458935
          ],
          [
           0.9861469,
           0.98864496,
           0.9833547,
           0.8691759,
           0.8637072,
           0.8706522,
           0.87227076,
           0.8729046,
           0.87379384,
           0.86952496,
           0.8637982,
           0.8636502,
           0.69749916,
           0.6969431,
           0.7028848,
           0.7355031,
           0.63058054,
           0.65458935,
           0
          ]
         ]
        }
       ],
       "frames": [],
       "layout": {
        "height": 800,
        "hovermode": "closest",
        "margin": {
         "b": 50,
         "l": 50,
         "r": 50,
         "t": 60
        },
        "showlegend": false,
        "width": 1000,
        "xaxis": {
         "autorange": "reversed",
         "domain": [
          0,
          0.2836879432624113
         ],
         "rangemode": "nonnegative"
        },
        "xaxis2": {
         "domain": [
          0.2907801418439716,
          1
         ],
         "scaleanchor": "y",
         "visible": false
        },
        "yaxis": {
         "visible": false
        }
       }
      },
      "application/vnd.webio.node+json": {
       "children": [
        {
         "children": [],
         "instanceArgs": {
          "namespace": "html",
          "tag": "div"
         },
         "nodeType": "DOM",
         "props": {
          "id": "plot-a1395eb0-1ba6-416f-964e-1b04d809124a"
         },
         "type": "node"
        }
       ],
       "instanceArgs": {
        "handlers": {
         "__get_gd_contents": [
          "(function (prop){prop==\"data\" ? (WebIO.setval({\"name\":\"__gd_contents\",\"scope\":\"364534108648821215\",\"id\":\"17103382453739547548\",\"type\":\"observable\"},this.plotElem.data)) : undefined; return prop==\"layout\" ? (WebIO.setval({\"name\":\"__gd_contents\",\"scope\":\"364534108648821215\",\"id\":\"17103382453739547548\",\"type\":\"observable\"},this.plotElem.layout)) : undefined})"
         ],
         "_commands": [
          "(function (args){var fn=args.shift(); var elem=this.plotElem; var Plotly=this.Plotly; args.unshift(elem); return Plotly[fn].apply(this,args)})"
         ],
         "_downloadImage": [
          "(function (options){return this.Plotly.downloadImage(this.plotElem,options)})"
         ],
         "_toImage": [
          "(function (options){return this.Plotly.toImage(this.plotElem,options).then((function (data){return WebIO.setval({\"name\":\"image\",\"scope\":\"364534108648821215\",\"id\":\"15873756629404642396\",\"type\":\"observable\"},data)}))})"
         ]
        },
        "id": "364534108648821215",
        "imports": {
         "data": [
          {
           "name": "Plotly",
           "type": "js",
           "url": "/assetserver/e6903599031aaef8675931dfcd7df98a1aeffbfc-plotly-latest.min.js"
          },
          {
           "name": null,
           "type": "js",
           "url": "/assetserver/74a5dea81f21b0b802ef1ee92f1c8a504eac1a0c-plotly_webio.bundle.js"
          }
         ],
         "type": "async_block"
        },
        "mount_callbacks": [
         "function () {\n    var handler = ((function (Plotly,PlotlyWebIO){PlotlyWebIO.init(WebIO); var gd=this.dom.querySelector(\"#plot-a1395eb0-1ba6-416f-964e-1b04d809124a\"); this.plotElem=gd; this.Plotly=Plotly; (window.Blink!==undefined) ? (gd.style.width=\"100%\", gd.style.height=\"100vh\", gd.style.marginLeft=\"0%\", gd.style.marginTop=\"0vh\") : undefined; window.onresize=(function (){return Plotly.Plots.resize(gd)}); Plotly.newPlot(gd,[{\"showlegend\":false,\"mode\":\"lines\",\"line\":{\"color\":\"gray\"},\"y\":[8.25,12.0,null,8.25,8.25,null,12.0,12.0,null],\"type\":\"scatter\",\"hoverinfo\":\"skip\",\"x\":[0.4705395996570587,0.4705395996570587,null,0.4705395996570587,0.42190226912498474,null,0.4705395996570587,0.0,null]},{\"showlegend\":false,\"mode\":\"lines\",\"line\":{\"color\":\"gray\"},\"y\":[13.0,14.0,null,13.0,13.0,null,14.0,14.0,null],\"type\":\"scatter\",\"hoverinfo\":\"skip\",\"x\":[0.29208698868751526,0.29208698868751526,null,0.29208698868751526,0.0,null,0.29208698868751526,0.0,null]},{\"showlegend\":false,\"mode\":\"lines\",\"line\":{\"color\":\"gray\"},\"y\":[6.5,8.5,null,6.5,6.5,null,8.5,8.5,null],\"type\":\"scatter\",\"hoverinfo\":\"skip\",\"x\":[0.37954241037368774,0.37954241037368774,null,0.37954241037368774,0.3464493453502655,null,0.37954241037368774,0.3669704496860504,null]},{\"showlegend\":false,\"mode\":\"lines\",\"line\":{\"color\":\"gray\"},\"y\":[17.0,18.0,null,17.0,17.0,null,18.0,18.0,null],\"type\":\"scatter\",\"hoverinfo\":\"skip\",\"x\":[0.3742145597934723,0.3742145597934723,null,0.3742145597934723,0.0,null,0.3742145597934723,0.0,null]},{\"showlegend\":false,\"mode\":\"lines\",\"line\":{\"color\":\"gray\"},\"y\":[14.5,18.25,null,14.5,14.5,null,18.25,18.25,null],\"type\":\"scatter\",\"hoverinfo\":\"skip\",\"x\":[0.7486640214920044,0.7486640214920044,null,0.7486640214920044,0.4882459342479706,null,0.7486640214920044,0.6545893549919128,null]},{\"showlegend\":false,\"mode\":\"lines\",\"line\":{\"color\":\"gray\"},\"y\":[17.5,19.0,null,17.5,17.5,null,19.0,19.0,null],\"type\":\"scatter\",\"hoverinfo\":\"skip\",\"x\":[0.6545893549919128,0.6545893549919128,null,0.6545893549919128,0.3742145597934723,null,0.6545893549919128,0.0,null]},{\"showlegend\":false,\"mode\":\"lines\",\"line\":{\"color\":\"gray\"},\"y\":[1.5,3.0,null,1.5,1.5,null,3.0,3.0,null],\"type\":\"scatter\",\"hoverinfo\":\"skip\",\"x\":[0.4052116274833679,0.4052116274833679,null,0.4052116274833679,0.3356224298477173,null,0.4052116274833679,0.0,null]},{\"showlegend\":false,\"mode\":\"lines\",\"line\":{\"color\":\"gray\"},\"y\":[1.0,2.0,null,1.0,1.0,null,2.0,2.0,null],\"type\":\"scatter\",\"hoverinfo\":\"skip\",\"x\":[0.3356224298477173,0.3356224298477173,null,0.3356224298477173,0.0,null,0.3356224298477173,0.0,null]},{\"showlegend\":false,\"mode\":\"lines\",\"line\":{\"color\":\"gray\"},\"y\":[8.0,9.0,null,8.0,8.0,null,9.0,9.0,null],\"type\":\"scatter\",\"hoverinfo\":\"skip\",\"x\":[0.3669704496860504,0.3669704496860504,null,0.3669704496860504,0.0,null,0.3669704496860504,0.0,null]},{\"showlegend\":false,\"mode\":\"lines\",\"line\":{\"color\":\"gray\"},\"y\":[2.25,13.25,null,2.25,2.25,null,13.25,13.25,null],\"type\":\"scatter\",\"hoverinfo\":\"skip\",\"x\":[0.9944140315055847,0.9944140315055847,null,0.9944140315055847,0.4052116274833679,null,0.9944140315055847,0.8838295340538025,null]},{\"showlegend\":false,\"mode\":\"lines\",\"line\":{\"color\":\"gray\"},\"y\":[10.0,11.0,null,10.0,10.0,null,11.0,11.0,null],\"type\":\"scatter\",\"hoverinfo\":\"skip\",\"x\":[0.4024175703525543,0.4024175703525543,null,0.4024175703525543,0.0,null,0.4024175703525543,0.0,null]},{\"showlegend\":false,\"mode\":\"lines\",\"line\":{\"color\":\"gray\"},\"y\":[4.0,5.0,null,4.0,4.0,null,5.0,5.0,null],\"type\":\"scatter\",\"hoverinfo\":\"skip\",\"x\":[0.25350773334503174,0.25350773334503174,null,0.25350773334503174,0.0,null,0.25350773334503174,0.0,null]},{\"showlegend\":false,\"mode\":\"lines\",\"line\":{\"color\":\"gray\"},\"y\":[6.0,7.0,null,6.0,6.0,null,7.0,7.0,null],\"type\":\"scatter\",\"hoverinfo\":\"skip\",\"x\":[0.3464493453502655,0.3464493453502655,null,0.3464493453502655,0.0,null,0.3464493453502655,0.0,null]},{\"showlegend\":false,\"mode\":\"lines\",\"line\":{\"color\":\"gray\"},\"y\":[15.0,16.0,null,15.0,15.0,null,16.0,16.0,null],\"type\":\"scatter\",\"hoverinfo\":\"skip\",\"x\":[0.4545997679233551,0.4545997679233551,null,0.4545997679233551,0.0,null,0.4545997679233551,0.0,null]},{\"showlegend\":false,\"mode\":\"lines\",\"line\":{\"color\":\"gray\"},\"y\":[4.5,7.5,null,4.5,4.5,null,7.5,7.5,null],\"type\":\"scatter\",\"hoverinfo\":\"skip\",\"x\":[0.3961929976940155,0.3961929976940155,null,0.3961929976940155,0.25350773334503174,null,0.3961929976940155,0.37954241037368774,null]},{\"showlegend\":false,\"mode\":\"lines\",\"line\":{\"color\":\"gray\"},\"y\":[10.125,16.375,null,10.125,10.125,null,16.375,16.375,null],\"type\":\"scatter\",\"hoverinfo\":\"skip\",\"x\":[0.8838295340538025,0.8838295340538025,null,0.8838295340538025,0.4705395996570587,null,0.8838295340538025,0.7486640214920044,null]},{\"showlegend\":false,\"mode\":\"lines\",\"line\":{\"color\":\"gray\"},\"y\":[13.5,15.5,null,13.5,13.5,null,15.5,15.5,null],\"type\":\"scatter\",\"hoverinfo\":\"skip\",\"x\":[0.4882459342479706,0.4882459342479706,null,0.4882459342479706,0.29208698868751526,null,0.4882459342479706,0.4545997679233551,null]},{\"showlegend\":false,\"mode\":\"lines\",\"line\":{\"color\":\"gray\"},\"y\":[6.0,10.5,null,6.0,6.0,null,10.5,10.5,null],\"type\":\"scatter\",\"hoverinfo\":\"skip\",\"x\":[0.42190226912498474,0.42190226912498474,null,0.42190226912498474,0.3961929976940155,null,0.42190226912498474,0.4024175703525543,null]},{\"showlegend\":false,\"mode\":\"markers\",\"marker\":{\"color\":\"blue\"},\"y\":[14.5,10.125,13.5,7.5,16.375,2.25,18.25,17.5,1.5,8.5,7.75,10.5,4.5,6.5,15.5,6.0,13.25,8.25],\"type\":\"scatter\",\"customdata\":[[4],[9],[2],[4],[7],[3],[3],[2],[2],[2],[19],[2],[2],[2],[2],[6],[16],[8]],\"text\":[\"33\",\"32\",\"21\",\"26\",\"35\",\"29\",\"34\",\"25\",\"22\",\"24\",\"37\",\"28\",\"20\",\"23\",\"31\",\"27\",\"36\",\"30\"],\"hovertemplate\":\"<b>%{text}</b><br>\\n%{x:.3f}<br>\\n%{customdata[0]} genomes\\n<extra></extra>\\n\",\"x\":[0.4882459342479706,0.4705395996570587,0.29208698868751526,0.37954241037368774,0.7486640214920044,0.4052116274833679,0.6545893549919128,0.3742145597934723,0.3356224298477173,0.3669704496860504,0.9944140315055847,0.4024175703525543,0.25350773334503174,0.3464493453502655,0.4545997679233551,0.3961929976940155,0.8838295340538025,0.42190226912498474]},{\"xaxis\":\"x2\",\"y\":[0.5,1.5,2.5,3.5,4.5,5.5,6.5,7.5,8.5,9.5,10.5,11.5,12.5,13.5,14.5,15.5,16.5,17.5,18.5,19.5],\"type\":\"heatmap\",\"customdata\":[[[\"Genome 17\",\"Genome 17\"],[\"Genome 19\",\"Genome 17\"],[\"Genome 16\",\"Genome 17\"],[\"Genome 7\",\"Genome 17\"],[\"Genome 10\",\"Genome 17\"],[\"Genome 8\",\"Genome 17\"],[\"Genome 9\",\"Genome 17\"],[\"Genome 3\",\"Genome 17\"],[\"Genome 5\",\"Genome 17\"],[\"Genome 6\",\"Genome 17\"],[\"Genome 11\",\"Genome 17\"],[\"Genome 12\",\"Genome 17\"],[\"Genome 14\",\"Genome 17\"],[\"Genome 15\",\"Genome 17\"],[\"Genome 1\",\"Genome 17\"],[\"Genome 2\",\"Genome 17\"],[\"Genome 13\",\"Genome 17\"],[\"Genome 18\",\"Genome 17\"],[\"Genome 4\",\"Genome 17\"]],[[\"Genome 17\",\"Genome 19\"],[\"Genome 19\",\"Genome 19\"],[\"Genome 16\",\"Genome 19\"],[\"Genome 7\",\"Genome 19\"],[\"Genome 10\",\"Genome 19\"],[\"Genome 8\",\"Genome 19\"],[\"Genome 9\",\"Genome 19\"],[\"Genome 3\",\"Genome 19\"],[\"Genome 5\",\"Genome 19\"],[\"Genome 6\",\"Genome 19\"],[\"Genome 11\",\"Genome 19\"],[\"Genome 12\",\"Genome 19\"],[\"Genome 14\",\"Genome 19\"],[\"Genome 15\",\"Genome 19\"],[\"Genome 1\",\"Genome 19\"],[\"Genome 2\",\"Genome 19\"],[\"Genome 13\",\"Genome 19\"],[\"Genome 18\",\"Genome 19\"],[\"Genome 4\",\"Genome 19\"]],[[\"Genome 17\",\"Genome 16\"],[\"Genome 19\",\"Genome 16\"],[\"Genome 16\",\"Genome 16\"],[\"Genome 7\",\"Genome 16\"],[\"Genome 10\",\"Genome 16\"],[\"Genome 8\",\"Genome 16\"],[\"Genome 9\",\"Genome 16\"],[\"Genome 3\",\"Genome 16\"],[\"Genome 5\",\"Genome 16\"],[\"Genome 6\",\"Genome 16\"],[\"Genome 11\",\"Genome 16\"],[\"Genome 12\",\"Genome 16\"],[\"Genome 14\",\"Genome 16\"],[\"Genome 15\",\"Genome 16\"],[\"Genome 1\",\"Genome 16\"],[\"Genome 2\",\"Genome 16\"],[\"Genome 13\",\"Genome 16\"],[\"Genome 18\",\"Genome 16\"],[\"Genome 4\",\"Genome 16\"]],[[\"Genome 17\",\"Genome 7\"],[\"Genome 19\",\"Genome 7\"],[\"Genome 16\",\"Genome 7\"],[\"Genome 7\",\"Genome 7\"],[\"Genome 10\",\"Genome 7\"],[\"Genome 8\",\"Genome 7\"],[\"Genome 9\",\"Genome 7\"],[\"Genome 3\",\"Genome 7\"],[\"Genome 5\",\"Genome 7\"],[\"Genome 6\",\"Genome 7\"],[\"Genome 11\",\"Genome 7\"],[\"Genome 12\",\"Genome 7\"],[\"Genome 14\",\"Genome 7\"],[\"Genome 15\",\"Genome 7\"],[\"Genome 1\",\"Genome 7\"],[\"Genome 2\",\"Genome 7\"],[\"Genome 13\",\"Genome 7\"],[\"Genome 18\",\"Genome 7\"],[\"Genome 4\",\"Genome 7\"]],[[\"Genome 17\",\"Genome 10\"],[\"Genome 19\",\"Genome 10\"],[\"Genome 16\",\"Genome 10\"],[\"Genome 7\",\"Genome 10\"],[\"Genome 10\",\"Genome 10\"],[\"Genome 8\",\"Genome 10\"],[\"Genome 9\",\"Genome 10\"],[\"Genome 3\",\"Genome 10\"],[\"Genome 5\",\"Genome 10\"],[\"Genome 6\",\"Genome 10\"],[\"Genome 11\",\"Genome 10\"],[\"Genome 12\",\"Genome 10\"],[\"Genome 14\",\"Genome 10\"],[\"Genome 15\",\"Genome 10\"],[\"Genome 1\",\"Genome 10\"],[\"Genome 2\",\"Genome 10\"],[\"Genome 13\",\"Genome 10\"],[\"Genome 18\",\"Genome 10\"],[\"Genome 4\",\"Genome 10\"]],[[\"Genome 17\",\"Genome 8\"],[\"Genome 19\",\"Genome 8\"],[\"Genome 16\",\"Genome 8\"],[\"Genome 7\",\"Genome 8\"],[\"Genome 10\",\"Genome 8\"],[\"Genome 8\",\"Genome 8\"],[\"Genome 9\",\"Genome 8\"],[\"Genome 3\",\"Genome 8\"],[\"Genome 5\",\"Genome 8\"],[\"Genome 6\",\"Genome 8\"],[\"Genome 11\",\"Genome 8\"],[\"Genome 12\",\"Genome 8\"],[\"Genome 14\",\"Genome 8\"],[\"Genome 15\",\"Genome 8\"],[\"Genome 1\",\"Genome 8\"],[\"Genome 2\",\"Genome 8\"],[\"Genome 13\",\"Genome 8\"],[\"Genome 18\",\"Genome 8\"],[\"Genome 4\",\"Genome 8\"]],[[\"Genome 17\",\"Genome 9\"],[\"Genome 19\",\"Genome 9\"],[\"Genome 16\",\"Genome 9\"],[\"Genome 7\",\"Genome 9\"],[\"Genome 10\",\"Genome 9\"],[\"Genome 8\",\"Genome 9\"],[\"Genome 9\",\"Genome 9\"],[\"Genome 3\",\"Genome 9\"],[\"Genome 5\",\"Genome 9\"],[\"Genome 6\",\"Genome 9\"],[\"Genome 11\",\"Genome 9\"],[\"Genome 12\",\"Genome 9\"],[\"Genome 14\",\"Genome 9\"],[\"Genome 15\",\"Genome 9\"],[\"Genome 1\",\"Genome 9\"],[\"Genome 2\",\"Genome 9\"],[\"Genome 13\",\"Genome 9\"],[\"Genome 18\",\"Genome 9\"],[\"Genome 4\",\"Genome 9\"]],[[\"Genome 17\",\"Genome 3\"],[\"Genome 19\",\"Genome 3\"],[\"Genome 16\",\"Genome 3\"],[\"Genome 7\",\"Genome 3\"],[\"Genome 10\",\"Genome 3\"],[\"Genome 8\",\"Genome 3\"],[\"Genome 9\",\"Genome 3\"],[\"Genome 3\",\"Genome 3\"],[\"Genome 5\",\"Genome 3\"],[\"Genome 6\",\"Genome 3\"],[\"Genome 11\",\"Genome 3\"],[\"Genome 12\",\"Genome 3\"],[\"Genome 14\",\"Genome 3\"],[\"Genome 15\",\"Genome 3\"],[\"Genome 1\",\"Genome 3\"],[\"Genome 2\",\"Genome 3\"],[\"Genome 13\",\"Genome 3\"],[\"Genome 18\",\"Genome 3\"],[\"Genome 4\",\"Genome 3\"]],[[\"Genome 17\",\"Genome 5\"],[\"Genome 19\",\"Genome 5\"],[\"Genome 16\",\"Genome 5\"],[\"Genome 7\",\"Genome 5\"],[\"Genome 10\",\"Genome 5\"],[\"Genome 8\",\"Genome 5\"],[\"Genome 9\",\"Genome 5\"],[\"Genome 3\",\"Genome 5\"],[\"Genome 5\",\"Genome 5\"],[\"Genome 6\",\"Genome 5\"],[\"Genome 11\",\"Genome 5\"],[\"Genome 12\",\"Genome 5\"],[\"Genome 14\",\"Genome 5\"],[\"Genome 15\",\"Genome 5\"],[\"Genome 1\",\"Genome 5\"],[\"Genome 2\",\"Genome 5\"],[\"Genome 13\",\"Genome 5\"],[\"Genome 18\",\"Genome 5\"],[\"Genome 4\",\"Genome 5\"]],[[\"Genome 17\",\"Genome 6\"],[\"Genome 19\",\"Genome 6\"],[\"Genome 16\",\"Genome 6\"],[\"Genome 7\",\"Genome 6\"],[\"Genome 10\",\"Genome 6\"],[\"Genome 8\",\"Genome 6\"],[\"Genome 9\",\"Genome 6\"],[\"Genome 3\",\"Genome 6\"],[\"Genome 5\",\"Genome 6\"],[\"Genome 6\",\"Genome 6\"],[\"Genome 11\",\"Genome 6\"],[\"Genome 12\",\"Genome 6\"],[\"Genome 14\",\"Genome 6\"],[\"Genome 15\",\"Genome 6\"],[\"Genome 1\",\"Genome 6\"],[\"Genome 2\",\"Genome 6\"],[\"Genome 13\",\"Genome 6\"],[\"Genome 18\",\"Genome 6\"],[\"Genome 4\",\"Genome 6\"]],[[\"Genome 17\",\"Genome 11\"],[\"Genome 19\",\"Genome 11\"],[\"Genome 16\",\"Genome 11\"],[\"Genome 7\",\"Genome 11\"],[\"Genome 10\",\"Genome 11\"],[\"Genome 8\",\"Genome 11\"],[\"Genome 9\",\"Genome 11\"],[\"Genome 3\",\"Genome 11\"],[\"Genome 5\",\"Genome 11\"],[\"Genome 6\",\"Genome 11\"],[\"Genome 11\",\"Genome 11\"],[\"Genome 12\",\"Genome 11\"],[\"Genome 14\",\"Genome 11\"],[\"Genome 15\",\"Genome 11\"],[\"Genome 1\",\"Genome 11\"],[\"Genome 2\",\"Genome 11\"],[\"Genome 13\",\"Genome 11\"],[\"Genome 18\",\"Genome 11\"],[\"Genome 4\",\"Genome 11\"]],[[\"Genome 17\",\"Genome 12\"],[\"Genome 19\",\"Genome 12\"],[\"Genome 16\",\"Genome 12\"],[\"Genome 7\",\"Genome 12\"],[\"Genome 10\",\"Genome 12\"],[\"Genome 8\",\"Genome 12\"],[\"Genome 9\",\"Genome 12\"],[\"Genome 3\",\"Genome 12\"],[\"Genome 5\",\"Genome 12\"],[\"Genome 6\",\"Genome 12\"],[\"Genome 11\",\"Genome 12\"],[\"Genome 12\",\"Genome 12\"],[\"Genome 14\",\"Genome 12\"],[\"Genome 15\",\"Genome 12\"],[\"Genome 1\",\"Genome 12\"],[\"Genome 2\",\"Genome 12\"],[\"Genome 13\",\"Genome 12\"],[\"Genome 18\",\"Genome 12\"],[\"Genome 4\",\"Genome 12\"]],[[\"Genome 17\",\"Genome 14\"],[\"Genome 19\",\"Genome 14\"],[\"Genome 16\",\"Genome 14\"],[\"Genome 7\",\"Genome 14\"],[\"Genome 10\",\"Genome 14\"],[\"Genome 8\",\"Genome 14\"],[\"Genome 9\",\"Genome 14\"],[\"Genome 3\",\"Genome 14\"],[\"Genome 5\",\"Genome 14\"],[\"Genome 6\",\"Genome 14\"],[\"Genome 11\",\"Genome 14\"],[\"Genome 12\",\"Genome 14\"],[\"Genome 14\",\"Genome 14\"],[\"Genome 15\",\"Genome 14\"],[\"Genome 1\",\"Genome 14\"],[\"Genome 2\",\"Genome 14\"],[\"Genome 13\",\"Genome 14\"],[\"Genome 18\",\"Genome 14\"],[\"Genome 4\",\"Genome 14\"]],[[\"Genome 17\",\"Genome 15\"],[\"Genome 19\",\"Genome 15\"],[\"Genome 16\",\"Genome 15\"],[\"Genome 7\",\"Genome 15\"],[\"Genome 10\",\"Genome 15\"],[\"Genome 8\",\"Genome 15\"],[\"Genome 9\",\"Genome 15\"],[\"Genome 3\",\"Genome 15\"],[\"Genome 5\",\"Genome 15\"],[\"Genome 6\",\"Genome 15\"],[\"Genome 11\",\"Genome 15\"],[\"Genome 12\",\"Genome 15\"],[\"Genome 14\",\"Genome 15\"],[\"Genome 15\",\"Genome 15\"],[\"Genome 1\",\"Genome 15\"],[\"Genome 2\",\"Genome 15\"],[\"Genome 13\",\"Genome 15\"],[\"Genome 18\",\"Genome 15\"],[\"Genome 4\",\"Genome 15\"]],[[\"Genome 17\",\"Genome 1\"],[\"Genome 19\",\"Genome 1\"],[\"Genome 16\",\"Genome 1\"],[\"Genome 7\",\"Genome 1\"],[\"Genome 10\",\"Genome 1\"],[\"Genome 8\",\"Genome 1\"],[\"Genome 9\",\"Genome 1\"],[\"Genome 3\",\"Genome 1\"],[\"Genome 5\",\"Genome 1\"],[\"Genome 6\",\"Genome 1\"],[\"Genome 11\",\"Genome 1\"],[\"Genome 12\",\"Genome 1\"],[\"Genome 14\",\"Genome 1\"],[\"Genome 15\",\"Genome 1\"],[\"Genome 1\",\"Genome 1\"],[\"Genome 2\",\"Genome 1\"],[\"Genome 13\",\"Genome 1\"],[\"Genome 18\",\"Genome 1\"],[\"Genome 4\",\"Genome 1\"]],[[\"Genome 17\",\"Genome 2\"],[\"Genome 19\",\"Genome 2\"],[\"Genome 16\",\"Genome 2\"],[\"Genome 7\",\"Genome 2\"],[\"Genome 10\",\"Genome 2\"],[\"Genome 8\",\"Genome 2\"],[\"Genome 9\",\"Genome 2\"],[\"Genome 3\",\"Genome 2\"],[\"Genome 5\",\"Genome 2\"],[\"Genome 6\",\"Genome 2\"],[\"Genome 11\",\"Genome 2\"],[\"Genome 12\",\"Genome 2\"],[\"Genome 14\",\"Genome 2\"],[\"Genome 15\",\"Genome 2\"],[\"Genome 1\",\"Genome 2\"],[\"Genome 2\",\"Genome 2\"],[\"Genome 13\",\"Genome 2\"],[\"Genome 18\",\"Genome 2\"],[\"Genome 4\",\"Genome 2\"]],[[\"Genome 17\",\"Genome 13\"],[\"Genome 19\",\"Genome 13\"],[\"Genome 16\",\"Genome 13\"],[\"Genome 7\",\"Genome 13\"],[\"Genome 10\",\"Genome 13\"],[\"Genome 8\",\"Genome 13\"],[\"Genome 9\",\"Genome 13\"],[\"Genome 3\",\"Genome 13\"],[\"Genome 5\",\"Genome 13\"],[\"Genome 6\",\"Genome 13\"],[\"Genome 11\",\"Genome 13\"],[\"Genome 12\",\"Genome 13\"],[\"Genome 14\",\"Genome 13\"],[\"Genome 15\",\"Genome 13\"],[\"Genome 1\",\"Genome 13\"],[\"Genome 2\",\"Genome 13\"],[\"Genome 13\",\"Genome 13\"],[\"Genome 18\",\"Genome 13\"],[\"Genome 4\",\"Genome 13\"]],[[\"Genome 17\",\"Genome 18\"],[\"Genome 19\",\"Genome 18\"],[\"Genome 16\",\"Genome 18\"],[\"Genome 7\",\"Genome 18\"],[\"Genome 10\",\"Genome 18\"],[\"Genome 8\",\"Genome 18\"],[\"Genome 9\",\"Genome 18\"],[\"Genome 3\",\"Genome 18\"],[\"Genome 5\",\"Genome 18\"],[\"Genome 6\",\"Genome 18\"],[\"Genome 11\",\"Genome 18\"],[\"Genome 12\",\"Genome 18\"],[\"Genome 14\",\"Genome 18\"],[\"Genome 15\",\"Genome 18\"],[\"Genome 1\",\"Genome 18\"],[\"Genome 2\",\"Genome 18\"],[\"Genome 13\",\"Genome 18\"],[\"Genome 18\",\"Genome 18\"],[\"Genome 4\",\"Genome 18\"]],[[\"Genome 17\",\"Genome 4\"],[\"Genome 19\",\"Genome 4\"],[\"Genome 16\",\"Genome 4\"],[\"Genome 7\",\"Genome 4\"],[\"Genome 10\",\"Genome 4\"],[\"Genome 8\",\"Genome 4\"],[\"Genome 9\",\"Genome 4\"],[\"Genome 3\",\"Genome 4\"],[\"Genome 5\",\"Genome 4\"],[\"Genome 6\",\"Genome 4\"],[\"Genome 11\",\"Genome 4\"],[\"Genome 12\",\"Genome 4\"],[\"Genome 14\",\"Genome 4\"],[\"Genome 15\",\"Genome 4\"],[\"Genome 1\",\"Genome 4\"],[\"Genome 2\",\"Genome 4\"],[\"Genome 13\",\"Genome 4\"],[\"Genome 18\",\"Genome 4\"],[\"Genome 4\",\"Genome 4\"]]],\"colorscale\":[[0.0,\"#000004\"],[0.00392156862745098,\"#010005\"],[0.00784313725490196,\"#010106\"],[0.011764705882352941,\"#010108\"],[0.01568627450980392,\"#020109\"],[0.0196078431372549,\"#02020B\"],[0.023529411764705882,\"#02020D\"],[0.027450980392156862,\"#03030F\"],[0.03137254901960784,\"#030312\"],[0.03529411764705882,\"#040414\"],[0.0392156862745098,\"#050416\"],[0.043137254901960784,\"#060518\"],[0.047058823529411764,\"#06051A\"],[0.050980392156862744,\"#07061C\"],[0.054901960784313725,\"#08071E\"],[0.058823529411764705,\"#090720\"],[0.06274509803921569,\"#0A0822\"],[0.06666666666666667,\"#0B0924\"],[0.07058823529411765,\"#0C0926\"],[0.07450980392156863,\"#0D0A29\"],[0.0784313725490196,\"#0E0B2B\"],[0.08235294117647059,\"#100B2D\"],[0.08627450980392157,\"#110C2F\"],[0.09019607843137255,\"#120D31\"],[0.09411764705882353,\"#130D34\"],[0.09803921568627451,\"#140E36\"],[0.10196078431372549,\"#150E38\"],[0.10588235294117647,\"#160F3B\"],[0.10980392156862745,\"#180F3D\"],[0.11372549019607843,\"#19103F\"],[0.11764705882352941,\"#1A1042\"],[0.12156862745098039,\"#1C1044\"],[0.12549019607843137,\"#1D1147\"],[0.12941176470588237,\"#1E1149\"],[0.13333333333333333,\"#20114B\"],[0.13725490196078433,\"#21114E\"],[0.1411764705882353,\"#221150\"],[0.1450980392156863,\"#241253\"],[0.14901960784313725,\"#251255\"],[0.15294117647058825,\"#271258\"],[0.1568627450980392,\"#29115A\"],[0.1607843137254902,\"#2A115C\"],[0.16470588235294117,\"#2C115F\"],[0.16862745098039217,\"#2D1161\"],[0.17254901960784313,\"#2F1163\"],[0.17647058823529413,\"#311165\"],[0.1803921568627451,\"#331067\"],[0.1843137254901961,\"#341069\"],[0.18823529411764706,\"#36106B\"],[0.19215686274509805,\"#38106C\"],[0.19607843137254902,\"#390F6E\"],[0.2,\"#3B0F70\"],[0.20392156862745098,\"#3D0F71\"],[0.20784313725490197,\"#3F0F72\"],[0.21176470588235294,\"#400F74\"],[0.21568627450980393,\"#420F75\"],[0.2196078431372549,\"#440F76\"],[0.2235294117647059,\"#451077\"],[0.22745098039215686,\"#471078\"],[0.23137254901960785,\"#491078\"],[0.23529411764705882,\"#4A1079\"],[0.23921568627450981,\"#4C117A\"],[0.24313725490196078,\"#4E117B\"],[0.24705882352941178,\"#4F127B\"],[0.25098039215686274,\"#51127C\"],[0.2549019607843137,\"#52137C\"],[0.25882352941176473,\"#54137D\"],[0.2627450980392157,\"#56147D\"],[0.26666666666666666,\"#57157E\"],[0.27058823529411763,\"#59157E\"],[0.27450980392156865,\"#5A167E\"],[0.2784313725490196,\"#5C167F\"],[0.2823529411764706,\"#5D177F\"],[0.28627450980392155,\"#5F187F\"],[0.2901960784313726,\"#601880\"],[0.29411764705882354,\"#621980\"],[0.2980392156862745,\"#641A80\"],[0.30196078431372547,\"#651A80\"],[0.3058823529411765,\"#671B80\"],[0.30980392156862746,\"#681C81\"],[0.3137254901960784,\"#6A1C81\"],[0.3176470588235294,\"#6B1D81\"],[0.3215686274509804,\"#6D1D81\"],[0.3254901960784314,\"#6E1E81\"],[0.32941176470588235,\"#701F81\"],[0.3333333333333333,\"#721F81\"],[0.33725490196078434,\"#732081\"],[0.3411764705882353,\"#752181\"],[0.34509803921568627,\"#762181\"],[0.34901960784313724,\"#782281\"],[0.35294117647058826,\"#792282\"],[0.3568627450980392,\"#7B2382\"],[0.3607843137254902,\"#7C2382\"],[0.36470588235294116,\"#7E2482\"],[0.3686274509803922,\"#802582\"],[0.37254901960784315,\"#812581\"],[0.3764705882352941,\"#832681\"],[0.3803921568627451,\"#842681\"],[0.3843137254901961,\"#862781\"],[0.38823529411764707,\"#882781\"],[0.39215686274509803,\"#892881\"],[0.396078431372549,\"#8B2981\"],[0.4,\"#8C2981\"],[0.403921568627451,\"#8E2A81\"],[0.40784313725490196,\"#902A81\"],[0.4117647058823529,\"#912B81\"],[0.41568627450980394,\"#932B80\"],[0.4196078431372549,\"#942C80\"],[0.4235294117647059,\"#962C80\"],[0.42745098039215684,\"#982D80\"],[0.43137254901960786,\"#992D80\"],[0.43529411764705883,\"#9B2E7F\"],[0.4392156862745098,\"#9C2E7F\"],[0.44313725490196076,\"#9E2F7F\"],[0.4470588235294118,\"#A02F7F\"],[0.45098039215686275,\"#A1307E\"],[0.4549019607843137,\"#A3307E\"],[0.4588235294117647,\"#A5317E\"],[0.4627450980392157,\"#A6317D\"],[0.4666666666666667,\"#A8327D\"],[0.47058823529411764,\"#AA337D\"],[0.4745098039215686,\"#AB337C\"],[0.47843137254901963,\"#AD347C\"],[0.4823529411764706,\"#AE347B\"],[0.48627450980392156,\"#B0357B\"],[0.49019607843137253,\"#B2357B\"],[0.49411764705882355,\"#B3367A\"],[0.4980392156862745,\"#B5367A\"],[0.5019607843137255,\"#B73779\"],[0.5058823529411764,\"#B83779\"],[0.5098039215686274,\"#BA3878\"],[0.5137254901960784,\"#BC3978\"],[0.5176470588235295,\"#BD3977\"],[0.5215686274509804,\"#BF3A77\"],[0.5254901960784314,\"#C03A76\"],[0.5294117647058824,\"#C23B75\"],[0.5333333333333333,\"#C43C75\"],[0.5372549019607843,\"#C53C74\"],[0.5411764705882353,\"#C73D73\"],[0.5450980392156862,\"#C83E73\"],[0.5490196078431373,\"#CA3E72\"],[0.5529411764705883,\"#CC3F71\"],[0.5568627450980392,\"#CD4071\"],[0.5607843137254902,\"#CF4070\"],[0.5647058823529412,\"#D0416F\"],[0.5686274509803921,\"#D2426F\"],[0.5725490196078431,\"#D3436E\"],[0.5764705882352941,\"#D5446D\"],[0.5803921568627451,\"#D6456C\"],[0.5843137254901961,\"#D8456C\"],[0.5882352941176471,\"#D9466B\"],[0.592156862745098,\"#DB476A\"],[0.596078431372549,\"#DC4869\"],[0.6,\"#DE4968\"],[0.6039215686274509,\"#DF4A68\"],[0.6078431372549019,\"#E04C67\"],[0.611764705882353,\"#E24D66\"],[0.615686274509804,\"#E34E65\"],[0.6196078431372549,\"#E44F64\"],[0.6235294117647059,\"#E55064\"],[0.6274509803921569,\"#E75263\"],[0.6313725490196078,\"#E85362\"],[0.6352941176470588,\"#E95462\"],[0.6392156862745098,\"#EA5661\"],[0.6431372549019608,\"#EB5760\"],[0.6470588235294118,\"#EC5860\"],[0.6509803921568628,\"#ED5A5F\"],[0.6549019607843137,\"#EE5B5E\"],[0.6588235294117647,\"#EF5D5E\"],[0.6627450980392157,\"#F05F5E\"],[0.6666666666666666,\"#F1605D\"],[0.6705882352941176,\"#F2625D\"],[0.6745098039215687,\"#F2645C\"],[0.6784313725490196,\"#F3655C\"],[0.6823529411764706,\"#F4675C\"],[0.6862745098039216,\"#F4695C\"],[0.6901960784313725,\"#F56B5C\"],[0.6941176470588235,\"#F66C5C\"],[0.6980392156862745,\"#F66E5C\"],[0.7019607843137254,\"#F7705C\"],[0.7058823529411765,\"#F7725C\"],[0.7098039215686275,\"#F8745C\"],[0.7137254901960784,\"#F8765C\"],[0.7176470588235294,\"#F9785D\"],[0.7215686274509804,\"#F9795D\"],[0.7254901960784313,\"#F97B5D\"],[0.7294117647058823,\"#FA7D5E\"],[0.7333333333333333,\"#FA7F5E\"],[0.7372549019607844,\"#FA815F\"],[0.7411764705882353,\"#FB835F\"],[0.7450980392156863,\"#FB8560\"],[0.7490196078431373,\"#FB8761\"],[0.7529411764705882,\"#FC8961\"],[0.7568627450980392,\"#FC8A62\"],[0.7607843137254902,\"#FC8C63\"],[0.7647058823529411,\"#FC8E64\"],[0.7686274509803922,\"#FC9065\"],[0.7725490196078432,\"#FD9266\"],[0.7764705882352941,\"#FD9467\"],[0.7803921568627451,\"#FD9668\"],[0.7843137254901961,\"#FD9869\"],[0.788235294117647,\"#FD9A6A\"],[0.792156862745098,\"#FD9B6B\"],[0.796078431372549,\"#FE9D6C\"],[0.8,\"#FE9F6D\"],[0.803921568627451,\"#FEA16E\"],[0.807843137254902,\"#FEA36F\"],[0.8117647058823529,\"#FEA571\"],[0.8156862745098039,\"#FEA772\"],[0.8196078431372549,\"#FEA973\"],[0.8235294117647058,\"#FEAA74\"],[0.8274509803921568,\"#FEAC76\"],[0.8313725490196079,\"#FEAE77\"],[0.8352941176470589,\"#FEB078\"],[0.8392156862745098,\"#FEB27A\"],[0.8431372549019608,\"#FEB47B\"],[0.8470588235294118,\"#FEB67C\"],[0.8509803921568627,\"#FEB77E\"],[0.8549019607843137,\"#FEB97F\"],[0.8588235294117647,\"#FEBB81\"],[0.8627450980392157,\"#FEBD82\"],[0.8666666666666667,\"#FEBF84\"],[0.8705882352941177,\"#FEC185\"],[0.8745098039215686,\"#FEC287\"],[0.8784313725490196,\"#FEC488\"],[0.8823529411764706,\"#FEC68A\"],[0.8862745098039215,\"#FEC88C\"],[0.8901960784313725,\"#FECA8D\"],[0.8941176470588236,\"#FECC8F\"],[0.8980392156862745,\"#FECD90\"],[0.9019607843137255,\"#FECF92\"],[0.9058823529411765,\"#FED194\"],[0.9098039215686274,\"#FED395\"],[0.9137254901960784,\"#FED597\"],[0.9176470588235294,\"#FED799\"],[0.9215686274509803,\"#FED89A\"],[0.9254901960784314,\"#FDDA9C\"],[0.9294117647058824,\"#FDDC9E\"],[0.9333333333333333,\"#FDDEA0\"],[0.9372549019607843,\"#FDE0A1\"],[0.9411764705882353,\"#FDE2A3\"],[0.9450980392156862,\"#FDE3A5\"],[0.9490196078431372,\"#FDE5A7\"],[0.9529411764705882,\"#FDE7A9\"],[0.9568627450980393,\"#FDE9AA\"],[0.9607843137254902,\"#FDEBAC\"],[0.9647058823529412,\"#FCECAE\"],[0.9686274509803922,\"#FCEEB0\"],[0.9725490196078431,\"#FCF0B2\"],[0.9764705882352941,\"#FCF2B4\"],[0.9803921568627451,\"#FCF4B6\"],[0.984313725490196,\"#FCF6B8\"],[0.9882352941176471,\"#FCF7B9\"],[0.9921568627450981,\"#FCF9BB\"],[0.996078431372549,\"#FCFBBD\"],[1.0,\"#FCFDBF\"]],\"z\":[[0.0,0.33562243,0.40521163,0.98988825,0.99255264,0.98804605,0.99293864,0.9898287,0.9921665,0.9895384,0.98933303,0.9921477,0.98750526,0.98736346,0.98727196,0.9882046,0.9868755,0.9880044,0.9861469],[0.33562243,0.0,0.3851998,0.9926061,0.9939058,0.99091905,0.99441403,0.9927794,0.9933997,0.99141395,0.9912052,0.9935822,0.9907036,0.99008083,0.99071705,0.9911765,0.98888516,0.98955584,0.98864496],[0.40521163,0.3851998,0.0,0.99231905,0.9885119,0.99033195,0.993871,0.992381,0.9932023,0.9909295,0.99040204,0.99274904,0.98529565,0.98994493,0.9851485,0.9838961,0.982331,0.98438686,0.9833547],[0.98988825,0.9926061,0.99231905,0.0,0.25350773,0.35903183,0.35032856,0.3644552,0.3943601,0.39517182,0.41721997,0.45673177,0.8692376,0.87424606,0.8712664,0.88021517,0.86997485,0.8709927,0.8691759],[0.99255264,0.9939058,0.9885119,0.25350773,0.0,0.38093087,0.34209913,0.38417202,0.396193,0.41043133,0.42190227,0.45675904,0.86340207,0.877457,0.8643756,0.8760983,0.8630491,0.86346984,0.8637072],[0.98804605,0.99091905,0.99033195,0.35903183,0.38093087,0.0,0.34644935,0.36733317,0.3795424,0.38216132,0.38981915,0.44736284,0.8675958,0.87025267,0.8687922,0.87198323,0.86842954,0.8705733,0.8706522],[0.99293864,0.99441403,0.993871,0.35032856,0.34209913,0.34644935,0.0,0.36686257,0.3647541,0.37884963,0.39883876,0.43403524,0.87293404,0.8760664,0.87333024,0.88129765,0.8711974,0.87222844,0.87227076],[0.9898287,0.9927794,0.992381,0.3644552,0.38417202,0.36733317,0.36686257,0.0,0.36697045,0.39244953,0.41713423,0.43818104,0.8740367,0.87797123,0.87477505,0.88382953,0.8727703,0.8746306,0.8729046],[0.9921665,0.9933997,0.9932023,0.3943601,0.396193,0.3795424,0.3647541,0.36697045,0.0,0.40398946,0.40507436,0.44751728,0.8712087,0.8775137,0.8720895,0.8796405,0.8744053,0.8744914,0.87379384],[0.9895384,0.99141395,0.9909295,0.39517182,0.41043133,0.38216132,0.37884963,0.39244953,0.40398946,0.0,0.40241757,0.44680405,0.86685723,0.87104213,0.8694132,0.87707347,0.87034965,0.868529,0.86952496],[0.98933303,0.9912052,0.99040204,0.41721997,0.42190227,0.38981915,0.39883876,0.41713423,0.40507436,0.40241757,0.0,0.4705396,0.8571212,0.86094767,0.8560897,0.869248,0.86660266,0.8698253,0.8637982],[0.9921477,0.9935822,0.99274904,0.45673177,0.45675904,0.44736284,0.43403524,0.43818104,0.44751728,0.44680405,0.4705396,0.0,0.8665483,0.87150836,0.8685509,0.8785631,0.866226,0.86606586,0.8636502],[0.98750526,0.9907036,0.98529565,0.8692376,0.86340207,0.8675958,0.87293404,0.8740367,0.8712087,0.86685723,0.8571212,0.8665483,0.0,0.292087,0.47397587,0.46442533,0.73314947,0.73826075,0.69749916],[0.98736346,0.99008083,0.98994493,0.87424606,0.877457,0.87025267,0.8760664,0.87797123,0.8775137,0.87104213,0.86094767,0.87150836,0.292087,0.0,0.48824593,0.48348823,0.7330621,0.74420214,0.6969431],[0.98727196,0.99071705,0.9851485,0.8712664,0.8643756,0.8687922,0.87333024,0.87477505,0.8720895,0.8694132,0.8560897,0.8685509,0.47397587,0.48824593,0.0,0.45459977,0.73203987,0.73397654,0.7028848],[0.9882046,0.9911765,0.9838961,0.88021517,0.8760983,0.87198323,0.88129765,0.88382953,0.8796405,0.87707347,0.869248,0.8785631,0.46442533,0.48348823,0.45459977,0.0,0.74550694,0.748664,0.7355031],[0.9868755,0.98888516,0.982331,0.86997485,0.8630491,0.86842954,0.8711974,0.8727703,0.8744053,0.87034965,0.86660266,0.866226,0.73314947,0.7330621,0.73203987,0.74550694,0.0,0.37421456,0.63058054],[0.9880044,0.98955584,0.98438686,0.8709927,0.86346984,0.8705733,0.87222844,0.8746306,0.8744914,0.868529,0.8698253,0.86606586,0.73826075,0.74420214,0.73397654,0.748664,0.37421456,0.0,0.65458935],[0.9861469,0.98864496,0.9833547,0.8691759,0.8637072,0.8706522,0.87227076,0.8729046,0.87379384,0.86952496,0.8637982,0.8636502,0.69749916,0.6969431,0.7028848,0.7355031,0.63058054,0.65458935,0.0]],\"hovertemplate\":\"%{customdata[0]}<br>\\n%{customdata[1]}<br>\\n%{z:.3f}\\n<extra></extra>\\n\",\"x\":[0.5,1.5,2.5,3.5,4.5,5.5,6.5,7.5,8.5,9.5,10.5,11.5,12.5,13.5,14.5,15.5,16.5,17.5,18.5,19.5]}],{\"showlegend\":false,\"xaxis\":{\"rangemode\":\"nonnegative\",\"domain\":[0.0,0.2836879432624113],\"autorange\":\"reversed\"},\"hovermode\":\"closest\",\"xaxis2\":{\"scaleanchor\":\"y\",\"visible\":false,\"domain\":[0.2907801418439716,1.0]},\"height\":800,\"margin\":{\"l\":50,\"b\":50,\"r\":50,\"t\":60},\"yaxis\":{\"visible\":false},\"width\":1000},{}); gd.on(\"plotly_hover\",(function (data){var filtered_data=WebIO.PlotlyCommands.filterEventData(gd,data,\"hover\"); return !(filtered_data.isnil) ? (WebIO.setval({\"name\":\"hover\",\"scope\":\"364534108648821215\",\"id\":\"11632974890091798645\",\"type\":\"observable\"},filtered_data.out)) : undefined})); gd.on(\"plotly_unhover\",(function (){return WebIO.setval({\"name\":\"hover\",\"scope\":\"364534108648821215\",\"id\":\"11632974890091798645\",\"type\":\"observable\"},{})})); gd.on(\"plotly_selected\",(function (data){var filtered_data=WebIO.PlotlyCommands.filterEventData(gd,data,\"selected\"); return !(filtered_data.isnil) ? (WebIO.setval({\"name\":\"selected\",\"scope\":\"364534108648821215\",\"id\":\"7967630146355724850\",\"type\":\"observable\"},filtered_data.out)) : undefined})); gd.on(\"plotly_deselect\",(function (){return WebIO.setval({\"name\":\"selected\",\"scope\":\"364534108648821215\",\"id\":\"7967630146355724850\",\"type\":\"observable\"},{})})); gd.on(\"plotly_relayout\",(function (data){var filtered_data=WebIO.PlotlyCommands.filterEventData(gd,data,\"relayout\"); return !(filtered_data.isnil) ? (WebIO.setval({\"name\":\"relayout\",\"scope\":\"364534108648821215\",\"id\":\"15305231176808189922\",\"type\":\"observable\"},filtered_data.out)) : undefined})); return gd.on(\"plotly_click\",(function (data){var filtered_data=WebIO.PlotlyCommands.filterEventData(gd,data,\"click\"); return !(filtered_data.isnil) ? (WebIO.setval({\"name\":\"click\",\"scope\":\"364534108648821215\",\"id\":\"7000814659475627478\",\"type\":\"observable\"},filtered_data.out)) : undefined}))}));\n    (WebIO.importBlock({\"data\":[{\"name\":\"Plotly\",\"type\":\"js\",\"url\":\"/assetserver/e6903599031aaef8675931dfcd7df98a1aeffbfc-plotly-latest.min.js\"},{\"name\":null,\"type\":\"js\",\"url\":\"/assetserver/74a5dea81f21b0b802ef1ee92f1c8a504eac1a0c-plotly_webio.bundle.js\"}],\"type\":\"async_block\"})).then((imports) => handler.apply(this, imports));\n}\n"
        ],
        "observables": {
         "__gd_contents": {
          "id": "17103382453739547548",
          "sync": false,
          "value": {}
         },
         "__get_gd_contents": {
          "id": "17626426590652005842",
          "sync": false,
          "value": ""
         },
         "_commands": {
          "id": "15017759841502899442",
          "sync": false,
          "value": []
         },
         "_downloadImage": {
          "id": "18382003667282212104",
          "sync": false,
          "value": {}
         },
         "_toImage": {
          "id": "13004366821745642977",
          "sync": false,
          "value": {}
         },
         "click": {
          "id": "7000814659475627478",
          "sync": false,
          "value": {}
         },
         "hover": {
          "id": "11632974890091798645",
          "sync": false,
          "value": {}
         },
         "image": {
          "id": "15873756629404642396",
          "sync": true,
          "value": ""
         },
         "relayout": {
          "id": "15305231176808189922",
          "sync": false,
          "value": {}
         },
         "selected": {
          "id": "7967630146355724850",
          "sync": false,
          "value": {}
         }
        },
        "systemjs_options": null
       },
       "nodeType": "Scope",
       "props": {},
       "type": "node"
      },
      "image/png": "[encoded data removed]",
      "image/svg+xml": [
       "<svg class=\"main-svg\" xmlns=\"http://www.w3.org/2000/svg\" xmlns:xlink=\"http://www.w3.org/1999/xlink\" width=\"700\" height=\"500\" style=\"\" viewBox=\"0 0 700 500\"><rect x=\"0\" y=\"0\" width=\"700\" height=\"500\" style=\"fill: rgb(255, 255, 255); fill-opacity: 1;\"/><defs id=\"defs-a560c2\"><g class=\"clips\"><clipPath id=\"clipa560c2xyplot\" class=\"plotclip\"><rect width=\"158.58156028368793\" height=\"390\"/></clipPath><clipPath id=\"clipa560c2x2yplot\" class=\"plotclip\"><rect width=\"396.45390070921985\" height=\"390\"/></clipPath><clipPath class=\"axesclip\" id=\"clipa560c2x\"><rect x=\"50\" y=\"0\" width=\"158.58156028368793\" height=\"500\"/></clipPath><clipPath class=\"axesclip\" id=\"clipa560c2y\"><rect x=\"0\" y=\"60\" width=\"700\" height=\"390\"/></clipPath><clipPath class=\"axesclip\" id=\"clipa560c2xy\"><rect x=\"50\" y=\"60\" width=\"158.58156028368793\" height=\"390\"/></clipPath><clipPath class=\"axesclip\" id=\"clipa560c2x2\"><rect x=\"212.54609929078012\" y=\"0\" width=\"396.45390070921985\" height=\"500\"/></clipPath><clipPath class=\"axesclip\" id=\"clipa560c2x2y\"><rect x=\"212.54609929078012\" y=\"60\" width=\"396.45390070921985\" height=\"390\"/></clipPath></g><g class=\"gradients\"><linearGradient x1=\"0\" x2=\"0\" y1=\"1\" y2=\"0\" id=\"ga560c2-cb472115\"><stop offset=\"0%\" stop-color=\"rgb(0, 0, 4)\" stop-opacity=\"1\"/><stop offset=\"0.39215686274509803%\" stop-color=\"rgb(1, 0, 5)\" stop-opacity=\"1\"/><stop offset=\"0.7843137254901961%\" stop-color=\"rgb(1, 1, 6)\" stop-opacity=\"1\"/><stop offset=\"1.1764705882352942%\" stop-color=\"rgb(1, 1, 8)\" stop-opacity=\"1\"/><stop offset=\"1.5686274509803921%\" stop-color=\"rgb(2, 1, 9)\" stop-opacity=\"1\"/><stop offset=\"1.9607843137254901%\" stop-color=\"rgb(2, 2, 11)\" stop-opacity=\"1\"/><stop offset=\"2.3529411764705883%\" stop-color=\"rgb(2, 2, 13)\" stop-opacity=\"1\"/><stop offset=\"2.7450980392156863%\" stop-color=\"rgb(3, 3, 15)\" stop-opacity=\"1\"/><stop offset=\"3.1372549019607843%\" stop-color=\"rgb(3, 3, 18)\" stop-opacity=\"1\"/><stop offset=\"3.5294117647058822%\" stop-color=\"rgb(4, 4, 20)\" stop-opacity=\"1\"/><stop offset=\"3.9215686274509802%\" stop-color=\"rgb(5, 4, 22)\" stop-opacity=\"1\"/><stop offset=\"4.313725490196078%\" stop-color=\"rgb(6, 5, 24)\" stop-opacity=\"1\"/><stop offset=\"4.705882352941177%\" stop-color=\"rgb(6, 5, 26)\" stop-opacity=\"1\"/><stop offset=\"5.098039215686274%\" stop-color=\"rgb(7, 6, 28)\" stop-opacity=\"1\"/><stop offset=\"5.490196078431373%\" stop-color=\"rgb(8, 7, 30)\" stop-opacity=\"1\"/><stop offset=\"5.88235294117647%\" stop-color=\"rgb(9, 7, 32)\" stop-opacity=\"1\"/><stop offset=\"6.2745098039215685%\" stop-color=\"rgb(10, 8, 34)\" stop-opacity=\"1\"/><stop offset=\"6.666666666666667%\" stop-color=\"rgb(11, 9, 36)\" stop-opacity=\"1\"/><stop offset=\"7.0588235294117645%\" stop-color=\"rgb(12, 9, 38)\" stop-opacity=\"1\"/><stop offset=\"7.450980392156863%\" stop-color=\"rgb(13, 10, 41)\" stop-opacity=\"1\"/><stop offset=\"7.8431372549019605%\" stop-color=\"rgb(14, 11, 43)\" stop-opacity=\"1\"/><stop offset=\"8.235294117647058%\" stop-color=\"rgb(16, 11, 45)\" stop-opacity=\"1\"/><stop offset=\"8.627450980392156%\" stop-color=\"rgb(17, 12, 47)\" stop-opacity=\"1\"/><stop offset=\"9.019607843137255%\" stop-color=\"rgb(18, 13, 49)\" stop-opacity=\"1\"/><stop offset=\"9.411764705882353%\" stop-color=\"rgb(19, 13, 52)\" stop-opacity=\"1\"/><stop offset=\"9.803921568627452%\" stop-color=\"rgb(20, 14, 54)\" stop-opacity=\"1\"/><stop offset=\"10.196078431372548%\" stop-color=\"rgb(21, 14, 56)\" stop-opacity=\"1\"/><stop offset=\"10.588235294117647%\" stop-color=\"rgb(22, 15, 59)\" stop-opacity=\"1\"/><stop offset=\"10.980392156862745%\" stop-color=\"rgb(24, 15, 61)\" stop-opacity=\"1\"/><stop offset=\"11.372549019607844%\" stop-color=\"rgb(25, 16, 63)\" stop-opacity=\"1\"/><stop offset=\"11.76470588235294%\" stop-color=\"rgb(26, 16, 66)\" stop-opacity=\"1\"/><stop offset=\"12.156862745098039%\" stop-color=\"rgb(28, 16, 68)\" stop-opacity=\"1\"/><stop offset=\"12.549019607843137%\" stop-color=\"rgb(29, 17, 71)\" stop-opacity=\"1\"/><stop offset=\"12.941176470588237%\" stop-color=\"rgb(30, 17, 73)\" stop-opacity=\"1\"/><stop offset=\"13.333333333333334%\" stop-color=\"rgb(32, 17, 75)\" stop-opacity=\"1\"/><stop offset=\"13.725490196078432%\" stop-color=\"rgb(33, 17, 78)\" stop-opacity=\"1\"/><stop offset=\"14.117647058823529%\" stop-color=\"rgb(34, 17, 80)\" stop-opacity=\"1\"/><stop offset=\"14.50980392156863%\" stop-color=\"rgb(36, 18, 83)\" stop-opacity=\"1\"/><stop offset=\"14.901960784313726%\" stop-color=\"rgb(37, 18, 85)\" stop-opacity=\"1\"/><stop offset=\"15.294117647058824%\" stop-color=\"rgb(39, 18, 88)\" stop-opacity=\"1\"/><stop offset=\"15.686274509803921%\" stop-color=\"rgb(41, 17, 90)\" stop-opacity=\"1\"/><stop offset=\"16.07843137254902%\" stop-color=\"rgb(42, 17, 92)\" stop-opacity=\"1\"/><stop offset=\"16.470588235294116%\" stop-color=\"rgb(44, 17, 95)\" stop-opacity=\"1\"/><stop offset=\"16.862745098039216%\" stop-color=\"rgb(45, 17, 97)\" stop-opacity=\"1\"/><stop offset=\"17.254901960784313%\" stop-color=\"rgb(47, 17, 99)\" stop-opacity=\"1\"/><stop offset=\"17.647058823529413%\" stop-color=\"rgb(49, 17, 101)\" stop-opacity=\"1\"/><stop offset=\"18.03921568627451%\" stop-color=\"rgb(51, 16, 103)\" stop-opacity=\"1\"/><stop offset=\"18.43137254901961%\" stop-color=\"rgb(52, 16, 105)\" stop-opacity=\"1\"/><stop offset=\"18.823529411764707%\" stop-color=\"rgb(54, 16, 107)\" stop-opacity=\"1\"/><stop offset=\"19.215686274509807%\" stop-color=\"rgb(56, 16, 108)\" stop-opacity=\"1\"/><stop offset=\"19.607843137254903%\" stop-color=\"rgb(57, 15, 110)\" stop-opacity=\"1\"/><stop offset=\"20%\" stop-color=\"rgb(59, 15, 112)\" stop-opacity=\"1\"/><stop offset=\"20.392156862745097%\" stop-color=\"rgb(61, 15, 113)\" stop-opacity=\"1\"/><stop offset=\"20.784313725490197%\" stop-color=\"rgb(63, 15, 114)\" stop-opacity=\"1\"/><stop offset=\"21.176470588235293%\" stop-color=\"rgb(64, 15, 116)\" stop-opacity=\"1\"/><stop offset=\"21.568627450980394%\" stop-color=\"rgb(66, 15, 117)\" stop-opacity=\"1\"/><stop offset=\"21.96078431372549%\" stop-color=\"rgb(68, 15, 118)\" stop-opacity=\"1\"/><stop offset=\"22.35294117647059%\" stop-color=\"rgb(69, 16, 119)\" stop-opacity=\"1\"/><stop offset=\"22.745098039215687%\" stop-color=\"rgb(71, 16, 120)\" stop-opacity=\"1\"/><stop offset=\"23.137254901960784%\" stop-color=\"rgb(73, 16, 120)\" stop-opacity=\"1\"/><stop offset=\"23.52941176470588%\" stop-color=\"rgb(74, 16, 121)\" stop-opacity=\"1\"/><stop offset=\"23.92156862745098%\" stop-color=\"rgb(76, 17, 122)\" stop-opacity=\"1\"/><stop offset=\"24.313725490196077%\" stop-color=\"rgb(78, 17, 123)\" stop-opacity=\"1\"/><stop offset=\"24.705882352941178%\" stop-color=\"rgb(79, 18, 123)\" stop-opacity=\"1\"/><stop offset=\"25.098039215686274%\" stop-color=\"rgb(81, 18, 124)\" stop-opacity=\"1\"/><stop offset=\"25.49019607843137%\" stop-color=\"rgb(82, 19, 124)\" stop-opacity=\"1\"/><stop offset=\"25.882352941176475%\" stop-color=\"rgb(84, 19, 125)\" stop-opacity=\"1\"/><stop offset=\"26.27450980392157%\" stop-color=\"rgb(86, 20, 125)\" stop-opacity=\"1\"/><stop offset=\"26.666666666666668%\" stop-color=\"rgb(87, 21, 126)\" stop-opacity=\"1\"/><stop offset=\"27.058823529411764%\" stop-color=\"rgb(89, 21, 126)\" stop-opacity=\"1\"/><stop offset=\"27.450980392156865%\" stop-color=\"rgb(90, 22, 126)\" stop-opacity=\"1\"/><stop offset=\"27.84313725490196%\" stop-color=\"rgb(92, 22, 127)\" stop-opacity=\"1\"/><stop offset=\"28.235294117647058%\" stop-color=\"rgb(93, 23, 127)\" stop-opacity=\"1\"/><stop offset=\"28.627450980392155%\" stop-color=\"rgb(95, 24, 127)\" stop-opacity=\"1\"/><stop offset=\"29.01960784313726%\" stop-color=\"rgb(96, 24, 128)\" stop-opacity=\"1\"/><stop offset=\"29.411764705882355%\" stop-color=\"rgb(98, 25, 128)\" stop-opacity=\"1\"/><stop offset=\"29.80392156862745%\" stop-color=\"rgb(100, 26, 128)\" stop-opacity=\"1\"/><stop offset=\"30.19607843137255%\" stop-color=\"rgb(101, 26, 128)\" stop-opacity=\"1\"/><stop offset=\"30.58823529411765%\" stop-color=\"rgb(103, 27, 128)\" stop-opacity=\"1\"/><stop offset=\"30.980392156862745%\" stop-color=\"rgb(104, 28, 129)\" stop-opacity=\"1\"/><stop offset=\"31.372549019607842%\" stop-color=\"rgb(106, 28, 129)\" stop-opacity=\"1\"/><stop offset=\"31.76470588235294%\" stop-color=\"rgb(107, 29, 129)\" stop-opacity=\"1\"/><stop offset=\"32.15686274509804%\" stop-color=\"rgb(109, 29, 129)\" stop-opacity=\"1\"/><stop offset=\"32.549019607843135%\" stop-color=\"rgb(110, 30, 129)\" stop-opacity=\"1\"/><stop offset=\"32.94117647058823%\" stop-color=\"rgb(112, 31, 129)\" stop-opacity=\"1\"/><stop offset=\"33.33333333333333%\" stop-color=\"rgb(114, 31, 129)\" stop-opacity=\"1\"/><stop offset=\"33.72549019607843%\" stop-color=\"rgb(115, 32, 129)\" stop-opacity=\"1\"/><stop offset=\"34.11764705882353%\" stop-color=\"rgb(117, 33, 129)\" stop-opacity=\"1\"/><stop offset=\"34.509803921568626%\" stop-color=\"rgb(118, 33, 129)\" stop-opacity=\"1\"/><stop offset=\"34.90196078431372%\" stop-color=\"rgb(120, 34, 129)\" stop-opacity=\"1\"/><stop offset=\"35.294117647058826%\" stop-color=\"rgb(121, 34, 130)\" stop-opacity=\"1\"/><stop offset=\"35.68627450980392%\" stop-color=\"rgb(123, 35, 130)\" stop-opacity=\"1\"/><stop offset=\"36.07843137254902%\" stop-color=\"rgb(124, 35, 130)\" stop-opacity=\"1\"/><stop offset=\"36.470588235294116%\" stop-color=\"rgb(126, 36, 130)\" stop-opacity=\"1\"/><stop offset=\"36.86274509803922%\" stop-color=\"rgb(128, 37, 130)\" stop-opacity=\"1\"/><stop offset=\"37.254901960784316%\" stop-color=\"rgb(129, 37, 129)\" stop-opacity=\"1\"/><stop offset=\"37.64705882352941%\" stop-color=\"rgb(131, 38, 129)\" stop-opacity=\"1\"/><stop offset=\"38.03921568627451%\" stop-color=\"rgb(132, 38, 129)\" stop-opacity=\"1\"/><stop offset=\"38.43137254901961%\" stop-color=\"rgb(134, 39, 129)\" stop-opacity=\"1\"/><stop offset=\"38.82352941176471%\" stop-color=\"rgb(136, 39, 129)\" stop-opacity=\"1\"/><stop offset=\"39.21568627450981%\" stop-color=\"rgb(137, 40, 129)\" stop-opacity=\"1\"/><stop offset=\"39.6078431372549%\" stop-color=\"rgb(139, 41, 129)\" stop-opacity=\"1\"/><stop offset=\"40%\" stop-color=\"rgb(140, 41, 129)\" stop-opacity=\"1\"/><stop offset=\"40.3921568627451%\" stop-color=\"rgb(142, 42, 129)\" stop-opacity=\"1\"/><stop offset=\"40.78431372549019%\" stop-color=\"rgb(144, 42, 129)\" stop-opacity=\"1\"/><stop offset=\"41.17647058823529%\" stop-color=\"rgb(145, 43, 129)\" stop-opacity=\"1\"/><stop offset=\"41.568627450980394%\" stop-color=\"rgb(147, 43, 128)\" stop-opacity=\"1\"/><stop offset=\"41.96078431372549%\" stop-color=\"rgb(148, 44, 128)\" stop-opacity=\"1\"/><stop offset=\"42.35294117647059%\" stop-color=\"rgb(150, 44, 128)\" stop-opacity=\"1\"/><stop offset=\"42.745098039215684%\" stop-color=\"rgb(152, 45, 128)\" stop-opacity=\"1\"/><stop offset=\"43.13725490196079%\" stop-color=\"rgb(153, 45, 128)\" stop-opacity=\"1\"/><stop offset=\"43.529411764705884%\" stop-color=\"rgb(155, 46, 127)\" stop-opacity=\"1\"/><stop offset=\"43.92156862745098%\" stop-color=\"rgb(156, 46, 127)\" stop-opacity=\"1\"/><stop offset=\"44.31372549019608%\" stop-color=\"rgb(158, 47, 127)\" stop-opacity=\"1\"/><stop offset=\"44.70588235294118%\" stop-color=\"rgb(160, 47, 127)\" stop-opacity=\"1\"/><stop offset=\"45.09803921568628%\" stop-color=\"rgb(161, 48, 126)\" stop-opacity=\"1\"/><stop offset=\"45.490196078431374%\" stop-color=\"rgb(163, 48, 126)\" stop-opacity=\"1\"/><stop offset=\"45.88235294117647%\" stop-color=\"rgb(165, 49, 126)\" stop-opacity=\"1\"/><stop offset=\"46.27450980392157%\" stop-color=\"rgb(166, 49, 125)\" stop-opacity=\"1\"/><stop offset=\"46.666666666666664%\" stop-color=\"rgb(168, 50, 125)\" stop-opacity=\"1\"/><stop offset=\"47.05882352941176%\" stop-color=\"rgb(170, 51, 125)\" stop-opacity=\"1\"/><stop offset=\"47.45098039215686%\" stop-color=\"rgb(171, 51, 124)\" stop-opacity=\"1\"/><stop offset=\"47.84313725490196%\" stop-color=\"rgb(173, 52, 124)\" stop-opacity=\"1\"/><stop offset=\"48.23529411764706%\" stop-color=\"rgb(174, 52, 123)\" stop-opacity=\"1\"/><stop offset=\"48.627450980392155%\" stop-color=\"rgb(176, 53, 123)\" stop-opacity=\"1\"/><stop offset=\"49.01960784313725%\" stop-color=\"rgb(178, 53, 123)\" stop-opacity=\"1\"/><stop offset=\"49.411764705882355%\" stop-color=\"rgb(179, 54, 122)\" stop-opacity=\"1\"/><stop offset=\"49.80392156862745%\" stop-color=\"rgb(181, 54, 122)\" stop-opacity=\"1\"/><stop offset=\"50.19607843137255%\" stop-color=\"rgb(183, 55, 121)\" stop-opacity=\"1\"/><stop offset=\"50.588235294117645%\" stop-color=\"rgb(184, 55, 121)\" stop-opacity=\"1\"/><stop offset=\"50.98039215686274%\" stop-color=\"rgb(186, 56, 120)\" stop-opacity=\"1\"/><stop offset=\"51.37254901960784%\" stop-color=\"rgb(188, 57, 120)\" stop-opacity=\"1\"/><stop offset=\"51.76470588235295%\" stop-color=\"rgb(189, 57, 119)\" stop-opacity=\"1\"/><stop offset=\"52.156862745098046%\" stop-color=\"rgb(191, 58, 119)\" stop-opacity=\"1\"/><stop offset=\"52.54901960784314%\" stop-color=\"rgb(192, 58, 118)\" stop-opacity=\"1\"/><stop offset=\"52.94117647058824%\" stop-color=\"rgb(194, 59, 117)\" stop-opacity=\"1\"/><stop offset=\"53.333333333333336%\" stop-color=\"rgb(196, 60, 117)\" stop-opacity=\"1\"/><stop offset=\"53.72549019607843%\" stop-color=\"rgb(197, 60, 116)\" stop-opacity=\"1\"/><stop offset=\"54.11764705882353%\" stop-color=\"rgb(199, 61, 115)\" stop-opacity=\"1\"/><stop offset=\"54.509803921568626%\" stop-color=\"rgb(200, 62, 115)\" stop-opacity=\"1\"/><stop offset=\"54.90196078431373%\" stop-color=\"rgb(202, 62, 114)\" stop-opacity=\"1\"/><stop offset=\"55.294117647058826%\" stop-color=\"rgb(204, 63, 113)\" stop-opacity=\"1\"/><stop offset=\"55.68627450980392%\" stop-color=\"rgb(205, 64, 113)\" stop-opacity=\"1\"/><stop offset=\"56.07843137254902%\" stop-color=\"rgb(207, 64, 112)\" stop-opacity=\"1\"/><stop offset=\"56.470588235294116%\" stop-color=\"rgb(208, 65, 111)\" stop-opacity=\"1\"/><stop offset=\"56.86274509803921%\" stop-color=\"rgb(210, 66, 111)\" stop-opacity=\"1\"/><stop offset=\"57.25490196078431%\" stop-color=\"rgb(211, 67, 110)\" stop-opacity=\"1\"/><stop offset=\"57.647058823529406%\" stop-color=\"rgb(213, 68, 109)\" stop-opacity=\"1\"/><stop offset=\"58.03921568627452%\" stop-color=\"rgb(214, 69, 108)\" stop-opacity=\"1\"/><stop offset=\"58.43137254901961%\" stop-color=\"rgb(216, 69, 108)\" stop-opacity=\"1\"/><stop offset=\"58.82352941176471%\" stop-color=\"rgb(217, 70, 107)\" stop-opacity=\"1\"/><stop offset=\"59.21568627450981%\" stop-color=\"rgb(219, 71, 106)\" stop-opacity=\"1\"/><stop offset=\"59.6078431372549%\" stop-color=\"rgb(220, 72, 105)\" stop-opacity=\"1\"/><stop offset=\"60%\" stop-color=\"rgb(222, 73, 104)\" stop-opacity=\"1\"/><stop offset=\"60.3921568627451%\" stop-color=\"rgb(223, 74, 104)\" stop-opacity=\"1\"/><stop offset=\"60.78431372549019%\" stop-color=\"rgb(224, 76, 103)\" stop-opacity=\"1\"/><stop offset=\"61.1764705882353%\" stop-color=\"rgb(226, 77, 102)\" stop-opacity=\"1\"/><stop offset=\"61.568627450980394%\" stop-color=\"rgb(227, 78, 101)\" stop-opacity=\"1\"/><stop offset=\"61.96078431372549%\" stop-color=\"rgb(228, 79, 100)\" stop-opacity=\"1\"/><stop offset=\"62.35294117647059%\" stop-color=\"rgb(229, 80, 100)\" stop-opacity=\"1\"/><stop offset=\"62.745098039215684%\" stop-color=\"rgb(231, 82, 99)\" stop-opacity=\"1\"/><stop offset=\"63.13725490196078%\" stop-color=\"rgb(232, 83, 98)\" stop-opacity=\"1\"/><stop offset=\"63.52941176470588%\" stop-color=\"rgb(233, 84, 98)\" stop-opacity=\"1\"/><stop offset=\"63.921568627450974%\" stop-color=\"rgb(234, 86, 97)\" stop-opacity=\"1\"/><stop offset=\"64.31372549019608%\" stop-color=\"rgb(235, 87, 96)\" stop-opacity=\"1\"/><stop offset=\"64.70588235294117%\" stop-color=\"rgb(236, 88, 96)\" stop-opacity=\"1\"/><stop offset=\"65.09803921568627%\" stop-color=\"rgb(237, 90, 95)\" stop-opacity=\"1\"/><stop offset=\"65.49019607843137%\" stop-color=\"rgb(238, 91, 94)\" stop-opacity=\"1\"/><stop offset=\"65.88235294117646%\" stop-color=\"rgb(239, 93, 94)\" stop-opacity=\"1\"/><stop offset=\"66.27450980392156%\" stop-color=\"rgb(240, 95, 94)\" stop-opacity=\"1\"/><stop offset=\"66.66666666666666%\" stop-color=\"rgb(241, 96, 93)\" stop-opacity=\"1\"/><stop offset=\"67.05882352941175%\" stop-color=\"rgb(242, 98, 93)\" stop-opacity=\"1\"/><stop offset=\"67.45098039215686%\" stop-color=\"rgb(242, 100, 92)\" stop-opacity=\"1\"/><stop offset=\"67.84313725490196%\" stop-color=\"rgb(243, 101, 92)\" stop-opacity=\"1\"/><stop offset=\"68.23529411764706%\" stop-color=\"rgb(244, 103, 92)\" stop-opacity=\"1\"/><stop offset=\"68.62745098039215%\" stop-color=\"rgb(244, 105, 92)\" stop-opacity=\"1\"/><stop offset=\"69.01960784313725%\" stop-color=\"rgb(245, 107, 92)\" stop-opacity=\"1\"/><stop offset=\"69.41176470588235%\" stop-color=\"rgb(246, 108, 92)\" stop-opacity=\"1\"/><stop offset=\"69.80392156862744%\" stop-color=\"rgb(246, 110, 92)\" stop-opacity=\"1\"/><stop offset=\"70.19607843137254%\" stop-color=\"rgb(247, 112, 92)\" stop-opacity=\"1\"/><stop offset=\"70.58823529411765%\" stop-color=\"rgb(247, 114, 92)\" stop-opacity=\"1\"/><stop offset=\"70.98039215686275%\" stop-color=\"rgb(248, 116, 92)\" stop-opacity=\"1\"/><stop offset=\"71.37254901960785%\" stop-color=\"rgb(248, 118, 92)\" stop-opacity=\"1\"/><stop offset=\"71.76470588235294%\" stop-color=\"rgb(249, 120, 93)\" stop-opacity=\"1\"/><stop offset=\"72.15686274509804%\" stop-color=\"rgb(249, 121, 93)\" stop-opacity=\"1\"/><stop offset=\"72.54901960784314%\" stop-color=\"rgb(249, 123, 93)\" stop-opacity=\"1\"/><stop offset=\"72.94117647058823%\" stop-color=\"rgb(250, 125, 94)\" stop-opacity=\"1\"/><stop offset=\"73.33333333333333%\" stop-color=\"rgb(250, 127, 94)\" stop-opacity=\"1\"/><stop offset=\"73.72549019607844%\" stop-color=\"rgb(250, 129, 95)\" stop-opacity=\"1\"/><stop offset=\"74.11764705882354%\" stop-color=\"rgb(251, 131, 95)\" stop-opacity=\"1\"/><stop offset=\"74.50980392156863%\" stop-color=\"rgb(251, 133, 96)\" stop-opacity=\"1\"/><stop offset=\"74.90196078431373%\" stop-color=\"rgb(251, 135, 97)\" stop-opacity=\"1\"/><stop offset=\"75.29411764705883%\" stop-color=\"rgb(252, 137, 97)\" stop-opacity=\"1\"/><stop offset=\"75.68627450980392%\" stop-color=\"rgb(252, 138, 98)\" stop-opacity=\"1\"/><stop offset=\"76.07843137254902%\" stop-color=\"rgb(252, 140, 99)\" stop-opacity=\"1\"/><stop offset=\"76.47058823529412%\" stop-color=\"rgb(252, 142, 100)\" stop-opacity=\"1\"/><stop offset=\"76.86274509803923%\" stop-color=\"rgb(252, 144, 101)\" stop-opacity=\"1\"/><stop offset=\"77.25490196078432%\" stop-color=\"rgb(253, 146, 102)\" stop-opacity=\"1\"/><stop offset=\"77.64705882352942%\" stop-color=\"rgb(253, 148, 103)\" stop-opacity=\"1\"/><stop offset=\"78.03921568627452%\" stop-color=\"rgb(253, 150, 104)\" stop-opacity=\"1\"/><stop offset=\"78.43137254901961%\" stop-color=\"rgb(253, 152, 105)\" stop-opacity=\"1\"/><stop offset=\"78.82352941176471%\" stop-color=\"rgb(253, 154, 106)\" stop-opacity=\"1\"/><stop offset=\"79.2156862745098%\" stop-color=\"rgb(253, 155, 107)\" stop-opacity=\"1\"/><stop offset=\"79.6078431372549%\" stop-color=\"rgb(254, 157, 108)\" stop-opacity=\"1\"/><stop offset=\"80%\" stop-color=\"rgb(254, 159, 109)\" stop-opacity=\"1\"/><stop offset=\"80.3921568627451%\" stop-color=\"rgb(254, 161, 110)\" stop-opacity=\"1\"/><stop offset=\"80.7843137254902%\" stop-color=\"rgb(254, 163, 111)\" stop-opacity=\"1\"/><stop offset=\"81.17647058823529%\" stop-color=\"rgb(254, 165, 113)\" stop-opacity=\"1\"/><stop offset=\"81.56862745098039%\" stop-color=\"rgb(254, 167, 114)\" stop-opacity=\"1\"/><stop offset=\"81.96078431372548%\" stop-color=\"rgb(254, 169, 115)\" stop-opacity=\"1\"/><stop offset=\"82.35294117647058%\" stop-color=\"rgb(254, 170, 116)\" stop-opacity=\"1\"/><stop offset=\"82.74509803921568%\" stop-color=\"rgb(254, 172, 118)\" stop-opacity=\"1\"/><stop offset=\"83.13725490196079%\" stop-color=\"rgb(254, 174, 119)\" stop-opacity=\"1\"/><stop offset=\"83.52941176470588%\" stop-color=\"rgb(254, 176, 120)\" stop-opacity=\"1\"/><stop offset=\"83.92156862745098%\" stop-color=\"rgb(254, 178, 122)\" stop-opacity=\"1\"/><stop offset=\"84.31372549019608%\" stop-color=\"rgb(254, 180, 123)\" stop-opacity=\"1\"/><stop offset=\"84.70588235294117%\" stop-color=\"rgb(254, 182, 124)\" stop-opacity=\"1\"/><stop offset=\"85.09803921568627%\" stop-color=\"rgb(254, 183, 126)\" stop-opacity=\"1\"/><stop offset=\"85.49019607843137%\" stop-color=\"rgb(254, 185, 127)\" stop-opacity=\"1\"/><stop offset=\"85.88235294117646%\" stop-color=\"rgb(254, 187, 129)\" stop-opacity=\"1\"/><stop offset=\"86.27450980392157%\" stop-color=\"rgb(254, 189, 130)\" stop-opacity=\"1\"/><stop offset=\"86.66666666666667%\" stop-color=\"rgb(254, 191, 132)\" stop-opacity=\"1\"/><stop offset=\"87.05882352941177%\" stop-color=\"rgb(254, 193, 133)\" stop-opacity=\"1\"/><stop offset=\"87.45098039215686%\" stop-color=\"rgb(254, 194, 135)\" stop-opacity=\"1\"/><stop offset=\"87.84313725490196%\" stop-color=\"rgb(254, 196, 136)\" stop-opacity=\"1\"/><stop offset=\"88.23529411764706%\" stop-color=\"rgb(254, 198, 138)\" stop-opacity=\"1\"/><stop offset=\"88.62745098039215%\" stop-color=\"rgb(254, 200, 140)\" stop-opacity=\"1\"/><stop offset=\"89.01960784313725%\" stop-color=\"rgb(254, 202, 141)\" stop-opacity=\"1\"/><stop offset=\"89.41176470588236%\" stop-color=\"rgb(254, 204, 143)\" stop-opacity=\"1\"/><stop offset=\"89.80392156862746%\" stop-color=\"rgb(254, 205, 144)\" stop-opacity=\"1\"/><stop offset=\"90.19607843137256%\" stop-color=\"rgb(254, 207, 146)\" stop-opacity=\"1\"/><stop offset=\"90.58823529411765%\" stop-color=\"rgb(254, 209, 148)\" stop-opacity=\"1\"/><stop offset=\"90.98039215686275%\" stop-color=\"rgb(254, 211, 149)\" stop-opacity=\"1\"/><stop offset=\"91.37254901960785%\" stop-color=\"rgb(254, 213, 151)\" stop-opacity=\"1\"/><stop offset=\"91.76470588235294%\" stop-color=\"rgb(254, 215, 153)\" stop-opacity=\"1\"/><stop offset=\"92.15686274509804%\" stop-color=\"rgb(254, 216, 154)\" stop-opacity=\"1\"/><stop offset=\"92.54901960784314%\" stop-color=\"rgb(253, 218, 156)\" stop-opacity=\"1\"/><stop offset=\"92.94117647058823%\" stop-color=\"rgb(253, 220, 158)\" stop-opacity=\"1\"/><stop offset=\"93.33333333333333%\" stop-color=\"rgb(253, 222, 160)\" stop-opacity=\"1\"/><stop offset=\"93.72549019607843%\" stop-color=\"rgb(253, 224, 161)\" stop-opacity=\"1\"/><stop offset=\"94.11764705882352%\" stop-color=\"rgb(253, 226, 163)\" stop-opacity=\"1\"/><stop offset=\"94.50980392156862%\" stop-color=\"rgb(253, 227, 165)\" stop-opacity=\"1\"/><stop offset=\"94.90196078431372%\" stop-color=\"rgb(253, 229, 167)\" stop-opacity=\"1\"/><stop offset=\"95.29411764705881%\" stop-color=\"rgb(253, 231, 169)\" stop-opacity=\"1\"/><stop offset=\"95.68627450980392%\" stop-color=\"rgb(253, 233, 170)\" stop-opacity=\"1\"/><stop offset=\"96.07843137254902%\" stop-color=\"rgb(253, 235, 172)\" stop-opacity=\"1\"/><stop offset=\"96.47058823529412%\" stop-color=\"rgb(252, 236, 174)\" stop-opacity=\"1\"/><stop offset=\"96.86274509803921%\" stop-color=\"rgb(252, 238, 176)\" stop-opacity=\"1\"/><stop offset=\"97.25490196078431%\" stop-color=\"rgb(252, 240, 178)\" stop-opacity=\"1\"/><stop offset=\"97.6470588235294%\" stop-color=\"rgb(252, 242, 180)\" stop-opacity=\"1\"/><stop offset=\"98.0392156862745%\" stop-color=\"rgb(252, 244, 182)\" stop-opacity=\"1\"/><stop offset=\"98.4313725490196%\" stop-color=\"rgb(252, 246, 184)\" stop-opacity=\"1\"/><stop offset=\"98.82352941176471%\" stop-color=\"rgb(252, 247, 185)\" stop-opacity=\"1\"/><stop offset=\"99.2156862745098%\" stop-color=\"rgb(252, 249, 187)\" stop-opacity=\"1\"/><stop offset=\"99.6078431372549%\" stop-color=\"rgb(252, 251, 189)\" stop-opacity=\"1\"/><stop offset=\"100%\" stop-color=\"rgb(252, 253, 191)\" stop-opacity=\"1\"/></linearGradient></g></defs><g class=\"bglayer\"/><g class=\"layer-below\"><g class=\"imagelayer\"/><g class=\"shapelayer\"/></g><g class=\"cartesianlayer\"><g class=\"subplot xy\"><g class=\"layer-subplot\"><g class=\"shapelayer\"/><g class=\"imagelayer\"/></g><g class=\"gridlayer\"><g class=\"x\"><path class=\"xgrid crisp\" transform=\"translate(60.85,0)\" d=\"M0,60v390\" style=\"stroke: rgb(238, 238, 238); stroke-opacity: 1; stroke-width: 1px;\"/><path class=\"xgrid crisp\" transform=\"translate(134.72,0)\" d=\"M0,60v390\" style=\"stroke: rgb(238, 238, 238); stroke-opacity: 1; stroke-width: 1px;\"/></g><g class=\"y\"/></g><g class=\"zerolinelayer\"><path class=\"xzl zl crisp\" transform=\"translate(208.58,0)\" d=\"M0,60v390\" style=\"stroke: rgb(68, 68, 68); stroke-opacity: 1; stroke-width: 1px;\"/></g><path class=\"xlines-below\"/><path class=\"ylines-below\"/><g class=\"overlines-below\"/><g class=\"xaxislayer-below\"/><g class=\"yaxislayer-below\"/><g class=\"overaxes-below\"/><g class=\"plot\" transform=\"translate(50, 60)\" clip-path=\"url('#clipa560c2xyplot')\"><g class=\"scatterlayer mlayer\"><g class=\"trace scatter tracea915ce\" style=\"stroke-miterlimit: 2; opacity: 1;\"><g class=\"fills\"/><g class=\"errorbars\"/><g class=\"lines\"><path class=\"js-line\" d=\"M89.07,229.13L89.07,156\" style=\"vector-effect: non-scaling-stroke; fill: none; stroke: rgb(128, 128, 128); stroke-opacity: 1; stroke-width: 2px; opacity: 1;\"/><path class=\"js-line\" d=\"M89.07,229.13L96.25,229.13\" style=\"vector-effect: non-scaling-stroke; fill: none; stroke: rgb(128, 128, 128); stroke-opacity: 1; stroke-width: 2px; opacity: 1;\"/><path class=\"js-line\" d=\"M89.07,156L158.58,156\" style=\"vector-effect: non-scaling-stroke; fill: none; stroke: rgb(128, 128, 128); stroke-opacity: 1; stroke-width: 2px; opacity: 1;\"/></g><g class=\"points\"/><g class=\"text\"/></g><g class=\"trace scatter tracef9853a\" style=\"stroke-miterlimit: 2; opacity: 1;\"><g class=\"fills\"/><g class=\"errorbars\"/><g class=\"lines\"><path class=\"js-line\" d=\"M115.43,136.5L115.43,117\" style=\"vector-effect: non-scaling-stroke; fill: none; stroke: rgb(128, 128, 128); stroke-opacity: 1; stroke-width: 2px; opacity: 1;\"/><path class=\"js-line\" d=\"M115.43,136.5L158.58,136.5\" style=\"vector-effect: non-scaling-stroke; fill: none; stroke: rgb(128, 128, 128); stroke-opacity: 1; stroke-width: 2px; opacity: 1;\"/><path class=\"js-line\" d=\"M115.43,117L158.58,117\" style=\"vector-effect: non-scaling-stroke; fill: none; stroke: rgb(128, 128, 128); stroke-opacity: 1; stroke-width: 2px; opacity: 1;\"/></g><g class=\"points\"/><g class=\"text\"/></g><g class=\"trace scatter trace33db5e\" style=\"stroke-miterlimit: 2; opacity: 1;\"><g class=\"fills\"/><g class=\"errorbars\"/><g class=\"lines\"><path class=\"js-line\" d=\"M102.51,263.25L102.51,224.25\" style=\"vector-effect: non-scaling-stroke; fill: none; stroke: rgb(128, 128, 128); stroke-opacity: 1; stroke-width: 2px; opacity: 1;\"/><path class=\"js-line\" d=\"M102.51,263.25L107.4,263.25\" style=\"vector-effect: non-scaling-stroke; fill: none; stroke: rgb(128, 128, 128); stroke-opacity: 1; stroke-width: 2px; opacity: 1;\"/><path class=\"js-line\" d=\"M102.51,224.25L104.37,224.25\" style=\"vector-effect: non-scaling-stroke; fill: none; stroke: rgb(128, 128, 128); stroke-opacity: 1; stroke-width: 2px; opacity: 1;\"/></g><g class=\"points\"/><g class=\"text\"/></g><g class=\"trace scatter tracea26864\" style=\"stroke-miterlimit: 2; opacity: 1;\"><g class=\"fills\"/><g class=\"errorbars\"/><g class=\"lines\"><path class=\"js-line\" d=\"M103.3,58.5L103.3,39\" style=\"vector-effect: non-scaling-stroke; fill: none; stroke: rgb(128, 128, 128); stroke-opacity: 1; stroke-width: 2px; opacity: 1;\"/><path class=\"js-line\" d=\"M103.3,58.5L158.58,58.5\" style=\"vector-effect: non-scaling-stroke; fill: none; stroke: rgb(128, 128, 128); stroke-opacity: 1; stroke-width: 2px; opacity: 1;\"/><path class=\"js-line\" d=\"M103.3,39L158.58,39\" style=\"vector-effect: non-scaling-stroke; fill: none; stroke: rgb(128, 128, 128); stroke-opacity: 1; stroke-width: 2px; opacity: 1;\"/></g><g class=\"points\"/><g class=\"text\"/></g><g class=\"trace scatter trace6bd842\" style=\"stroke-miterlimit: 2; opacity: 1;\"><g class=\"fills\"/><g class=\"errorbars\"/><g class=\"lines\"><path class=\"js-line\" d=\"M47.98,107.25L47.98,34.13\" style=\"vector-effect: non-scaling-stroke; fill: none; stroke: rgb(128, 128, 128); stroke-opacity: 1; stroke-width: 2px; opacity: 1;\"/><path class=\"js-line\" d=\"M47.98,107.25L86.45,107.25\" style=\"vector-effect: non-scaling-stroke; fill: none; stroke: rgb(128, 128, 128); stroke-opacity: 1; stroke-width: 2px; opacity: 1;\"/><path class=\"js-line\" d=\"M47.98,34.13L61.88,34.13\" style=\"vector-effect: non-scaling-stroke; fill: none; stroke: rgb(128, 128, 128); stroke-opacity: 1; stroke-width: 2px; opacity: 1;\"/></g><g class=\"points\"/><g class=\"text\"/></g><g class=\"trace scatter trace219f72\" style=\"stroke-miterlimit: 2; opacity: 1;\"><g class=\"fills\"/><g class=\"errorbars\"/><g class=\"lines\"><path class=\"js-line\" d=\"M61.88,48.75L61.88,19.5\" style=\"vector-effect: non-scaling-stroke; fill: none; stroke: rgb(128, 128, 128); stroke-opacity: 1; stroke-width: 2px; opacity: 1;\"/><path class=\"js-line\" d=\"M61.88,48.75L103.3,48.75\" style=\"vector-effect: non-scaling-stroke; fill: none; stroke: rgb(128, 128, 128); stroke-opacity: 1; stroke-width: 2px; opacity: 1;\"/><path class=\"js-line\" d=\"M61.88,19.5L158.58,19.5\" style=\"vector-effect: non-scaling-stroke; fill: none; stroke: rgb(128, 128, 128); stroke-opacity: 1; stroke-width: 2px; opacity: 1;\"/></g><g class=\"points\"/><g class=\"text\"/></g><g class=\"trace scatter trace78c7c4\" style=\"stroke-miterlimit: 2; opacity: 1;\"><g class=\"fills\"/><g class=\"errorbars\"/><g class=\"lines\"><path class=\"js-line\" d=\"M98.72,360.75L98.72,331.5\" style=\"vector-effect: non-scaling-stroke; fill: none; stroke: rgb(128, 128, 128); stroke-opacity: 1; stroke-width: 2px; opacity: 1;\"/><path class=\"js-line\" d=\"M98.72,360.75L109,360.75\" style=\"vector-effect: non-scaling-stroke; fill: none; stroke: rgb(128, 128, 128); stroke-opacity: 1; stroke-width: 2px; opacity: 1;\"/><path class=\"js-line\" d=\"M98.72,331.5L158.58,331.5\" style=\"vector-effect: non-scaling-stroke; fill: none; stroke: rgb(128, 128, 128); stroke-opacity: 1; stroke-width: 2px; opacity: 1;\"/></g><g class=\"points\"/><g class=\"text\"/></g><g class=\"trace scatter tracec767d3\" style=\"stroke-miterlimit: 2; opacity: 1;\"><g class=\"fills\"/><g class=\"errorbars\"/><g class=\"lines\"><path class=\"js-line\" d=\"M109,370.5L109,351\" style=\"vector-effect: non-scaling-stroke; fill: none; stroke: rgb(128, 128, 128); stroke-opacity: 1; stroke-width: 2px; opacity: 1;\"/><path class=\"js-line\" d=\"M109,370.5L158.58,370.5\" style=\"vector-effect: non-scaling-stroke; fill: none; stroke: rgb(128, 128, 128); stroke-opacity: 1; stroke-width: 2px; opacity: 1;\"/><path class=\"js-line\" d=\"M109,351L158.58,351\" style=\"vector-effect: non-scaling-stroke; fill: none; stroke: rgb(128, 128, 128); stroke-opacity: 1; stroke-width: 2px; opacity: 1;\"/></g><g class=\"points\"/><g class=\"text\"/></g><g class=\"trace scatter tracec796d9\" style=\"stroke-miterlimit: 2; opacity: 1;\"><g class=\"fills\"/><g class=\"errorbars\"/><g class=\"lines\"><path class=\"js-line\" d=\"M104.37,234L104.37,214.5\" style=\"vector-effect: non-scaling-stroke; fill: none; stroke: rgb(128, 128, 128); stroke-opacity: 1; stroke-width: 2px; opacity: 1;\"/><path class=\"js-line\" d=\"M104.37,234L158.58,234\" style=\"vector-effect: non-scaling-stroke; fill: none; stroke: rgb(128, 128, 128); stroke-opacity: 1; stroke-width: 2px; opacity: 1;\"/><path class=\"js-line\" d=\"M104.37,214.5L158.58,214.5\" style=\"vector-effect: non-scaling-stroke; fill: none; stroke: rgb(128, 128, 128); stroke-opacity: 1; stroke-width: 2px; opacity: 1;\"/></g><g class=\"points\"/><g class=\"text\"/></g><g class=\"trace scatter trace426485\" style=\"stroke-miterlimit: 2; opacity: 1;\"><g class=\"fills\"/><g class=\"errorbars\"/><g class=\"lines\"><path class=\"js-line\" d=\"M11.68,346.13L11.68,131.63\" style=\"vector-effect: non-scaling-stroke; fill: none; stroke: rgb(128, 128, 128); stroke-opacity: 1; stroke-width: 2px; opacity: 1;\"/><path class=\"js-line\" d=\"M11.68,346.13L98.72,346.13\" style=\"vector-effect: non-scaling-stroke; fill: none; stroke: rgb(128, 128, 128); stroke-opacity: 1; stroke-width: 2px; opacity: 1;\"/><path class=\"js-line\" d=\"M11.68,131.63L28.02,131.63\" style=\"vector-effect: non-scaling-stroke; fill: none; stroke: rgb(128, 128, 128); stroke-opacity: 1; stroke-width: 2px; opacity: 1;\"/></g><g class=\"points\"/><g class=\"text\"/></g><g class=\"trace scatter trace17b959\" style=\"stroke-miterlimit: 2; opacity: 1;\"><g class=\"fills\"/><g class=\"errorbars\"/><g class=\"lines\"><path class=\"js-line\" d=\"M99.13,195L99.13,175.5\" style=\"vector-effect: non-scaling-stroke; fill: none; stroke: rgb(128, 128, 128); stroke-opacity: 1; stroke-width: 2px; opacity: 1;\"/><path class=\"js-line\" d=\"M99.13,195L158.58,195\" style=\"vector-effect: non-scaling-stroke; fill: none; stroke: rgb(128, 128, 128); stroke-opacity: 1; stroke-width: 2px; opacity: 1;\"/><path class=\"js-line\" d=\"M99.13,175.5L158.58,175.5\" style=\"vector-effect: non-scaling-stroke; fill: none; stroke: rgb(128, 128, 128); stroke-opacity: 1; stroke-width: 2px; opacity: 1;\"/></g><g class=\"points\"/><g class=\"text\"/></g><g class=\"trace scatter trace61cfa1\" style=\"stroke-miterlimit: 2; opacity: 1;\"><g class=\"fills\"/><g class=\"errorbars\"/><g class=\"lines\"><path class=\"js-line\" d=\"M121.13,312L121.13,292.5\" style=\"vector-effect: non-scaling-stroke; fill: none; stroke: rgb(128, 128, 128); stroke-opacity: 1; stroke-width: 2px; opacity: 1;\"/><path class=\"js-line\" d=\"M121.13,312L158.58,312\" style=\"vector-effect: non-scaling-stroke; fill: none; stroke: rgb(128, 128, 128); stroke-opacity: 1; stroke-width: 2px; opacity: 1;\"/><path class=\"js-line\" d=\"M121.13,292.5L158.58,292.5\" style=\"vector-effect: non-scaling-stroke; fill: none; stroke: rgb(128, 128, 128); stroke-opacity: 1; stroke-width: 2px; opacity: 1;\"/></g><g class=\"points\"/><g class=\"text\"/></g><g class=\"trace scatter tracea1d076\" style=\"stroke-miterlimit: 2; opacity: 1;\"><g class=\"fills\"/><g class=\"errorbars\"/><g class=\"lines\"><path class=\"js-line\" d=\"M107.4,273L107.4,253.5\" style=\"vector-effect: non-scaling-stroke; fill: none; stroke: rgb(128, 128, 128); stroke-opacity: 1; stroke-width: 2px; opacity: 1;\"/><path class=\"js-line\" d=\"M107.4,273L158.58,273\" style=\"vector-effect: non-scaling-stroke; fill: none; stroke: rgb(128, 128, 128); stroke-opacity: 1; stroke-width: 2px; opacity: 1;\"/><path class=\"js-line\" d=\"M107.4,253.5L158.58,253.5\" style=\"vector-effect: non-scaling-stroke; fill: none; stroke: rgb(128, 128, 128); stroke-opacity: 1; stroke-width: 2px; opacity: 1;\"/></g><g class=\"points\"/><g class=\"text\"/></g><g class=\"trace scatter tracee76456\" style=\"stroke-miterlimit: 2; opacity: 1;\"><g class=\"fills\"/><g class=\"errorbars\"/><g class=\"lines\"><path class=\"js-line\" d=\"M91.42,97.5L91.42,78\" style=\"vector-effect: non-scaling-stroke; fill: none; stroke: rgb(128, 128, 128); stroke-opacity: 1; stroke-width: 2px; opacity: 1;\"/><path class=\"js-line\" d=\"M91.42,97.5L158.58,97.5\" style=\"vector-effect: non-scaling-stroke; fill: none; stroke: rgb(128, 128, 128); stroke-opacity: 1; stroke-width: 2px; opacity: 1;\"/><path class=\"js-line\" d=\"M91.42,78L158.58,78\" style=\"vector-effect: non-scaling-stroke; fill: none; stroke: rgb(128, 128, 128); stroke-opacity: 1; stroke-width: 2px; opacity: 1;\"/></g><g class=\"points\"/><g class=\"text\"/></g><g class=\"trace scatter trace6ada38\" style=\"stroke-miterlimit: 2; opacity: 1;\"><g class=\"fills\"/><g class=\"errorbars\"/><g class=\"lines\"><path class=\"js-line\" d=\"M100.05,302.25L100.05,243.75\" style=\"vector-effect: non-scaling-stroke; fill: none; stroke: rgb(128, 128, 128); stroke-opacity: 1; stroke-width: 2px; opacity: 1;\"/><path class=\"js-line\" d=\"M100.05,302.25L121.13,302.25\" style=\"vector-effect: non-scaling-stroke; fill: none; stroke: rgb(128, 128, 128); stroke-opacity: 1; stroke-width: 2px; opacity: 1;\"/><path class=\"js-line\" d=\"M100.05,243.75L102.51,243.75\" style=\"vector-effect: non-scaling-stroke; fill: none; stroke: rgb(128, 128, 128); stroke-opacity: 1; stroke-width: 2px; opacity: 1;\"/></g><g class=\"points\"/><g class=\"text\"/></g><g class=\"trace scatter trace2acfbc\" style=\"stroke-miterlimit: 2; opacity: 1;\"><g class=\"fills\"/><g class=\"errorbars\"/><g class=\"lines\"><path class=\"js-line\" d=\"M28.02,192.56L28.02,70.69\" style=\"vector-effect: non-scaling-stroke; fill: none; stroke: rgb(128, 128, 128); stroke-opacity: 1; stroke-width: 2px; opacity: 1;\"/><path class=\"js-line\" d=\"M28.02,192.56L89.07,192.56\" style=\"vector-effect: non-scaling-stroke; fill: none; stroke: rgb(128, 128, 128); stroke-opacity: 1; stroke-width: 2px; opacity: 1;\"/><path class=\"js-line\" d=\"M28.02,70.69L47.98,70.69\" style=\"vector-effect: non-scaling-stroke; fill: none; stroke: rgb(128, 128, 128); stroke-opacity: 1; stroke-width: 2px; opacity: 1;\"/></g><g class=\"points\"/><g class=\"text\"/></g><g class=\"trace scatter trace6122eb\" style=\"stroke-miterlimit: 2; opacity: 1;\"><g class=\"fills\"/><g class=\"errorbars\"/><g class=\"lines\"><path class=\"js-line\" d=\"M86.45,126.75L86.45,87.75\" style=\"vector-effect: non-scaling-stroke; fill: none; stroke: rgb(128, 128, 128); stroke-opacity: 1; stroke-width: 2px; opacity: 1;\"/><path class=\"js-line\" d=\"M86.45,126.75L115.43,126.75\" style=\"vector-effect: non-scaling-stroke; fill: none; stroke: rgb(128, 128, 128); stroke-opacity: 1; stroke-width: 2px; opacity: 1;\"/><path class=\"js-line\" d=\"M86.45,87.75L91.42,87.75\" style=\"vector-effect: non-scaling-stroke; fill: none; stroke: rgb(128, 128, 128); stroke-opacity: 1; stroke-width: 2px; opacity: 1;\"/></g><g class=\"points\"/><g class=\"text\"/></g><g class=\"trace scatter trace08b127\" style=\"stroke-miterlimit: 2; opacity: 1;\"><g class=\"fills\"/><g class=\"errorbars\"/><g class=\"lines\"><path class=\"js-line\" d=\"M96.25,273L96.25,185.25\" style=\"vector-effect: non-scaling-stroke; fill: none; stroke: rgb(128, 128, 128); stroke-opacity: 1; stroke-width: 2px; opacity: 1;\"/><path class=\"js-line\" d=\"M96.25,273L100.05,273\" style=\"vector-effect: non-scaling-stroke; fill: none; stroke: rgb(128, 128, 128); stroke-opacity: 1; stroke-width: 2px; opacity: 1;\"/><path class=\"js-line\" d=\"M96.25,185.25L99.13,185.25\" style=\"vector-effect: non-scaling-stroke; fill: none; stroke: rgb(128, 128, 128); stroke-opacity: 1; stroke-width: 2px; opacity: 1;\"/></g><g class=\"points\"/><g class=\"text\"/></g><g class=\"trace scatter trace039981\" style=\"stroke-miterlimit: 2; opacity: 1;\"><g class=\"fills\"/><g class=\"errorbars\"/><g class=\"lines\"/><g class=\"points\"><path class=\"point plotly-customdata\" transform=\"translate(86.45,107.25)\" d=\"M3,0A3,3 0 1,1 0,-3A3,3 0 0,1 3,0Z\" style=\"opacity: 1; stroke-width: 0px; fill: rgb(0, 0, 255); fill-opacity: 1;\"/><path class=\"point plotly-customdata\" transform=\"translate(89.07,192.56)\" d=\"M3,0A3,3 0 1,1 0,-3A3,3 0 0,1 3,0Z\" style=\"opacity: 1; stroke-width: 0px; fill: rgb(0, 0, 255); fill-opacity: 1;\"/><path class=\"point plotly-customdata\" transform=\"translate(115.43,126.75)\" d=\"M3,0A3,3 0 1,1 0,-3A3,3 0 0,1 3,0Z\" style=\"opacity: 1; stroke-width: 0px; fill: rgb(0, 0, 255); fill-opacity: 1;\"/><path class=\"point plotly-customdata\" transform=\"translate(102.51,243.75)\" d=\"M3,0A3,3 0 1,1 0,-3A3,3 0 0,1 3,0Z\" style=\"opacity: 1; stroke-width: 0px; fill: rgb(0, 0, 255); fill-opacity: 1;\"/><path class=\"point plotly-customdata\" transform=\"translate(47.98,70.69)\" d=\"M3,0A3,3 0 1,1 0,-3A3,3 0 0,1 3,0Z\" style=\"opacity: 1; stroke-width: 0px; fill: rgb(0, 0, 255); fill-opacity: 1;\"/><path class=\"point plotly-customdata\" transform=\"translate(98.72,346.13)\" d=\"M3,0A3,3 0 1,1 0,-3A3,3 0 0,1 3,0Z\" style=\"opacity: 1; stroke-width: 0px; fill: rgb(0, 0, 255); fill-opacity: 1;\"/><path class=\"point plotly-customdata\" transform=\"translate(61.88,34.13)\" d=\"M3,0A3,3 0 1,1 0,-3A3,3 0 0,1 3,0Z\" style=\"opacity: 1; stroke-width: 0px; fill: rgb(0, 0, 255); fill-opacity: 1;\"/><path class=\"point plotly-customdata\" transform=\"translate(103.3,48.75)\" d=\"M3,0A3,3 0 1,1 0,-3A3,3 0 0,1 3,0Z\" style=\"opacity: 1; stroke-width: 0px; fill: rgb(0, 0, 255); fill-opacity: 1;\"/><path class=\"point plotly-customdata\" transform=\"translate(109,360.75)\" d=\"M3,0A3,3 0 1,1 0,-3A3,3 0 0,1 3,0Z\" style=\"opacity: 1; stroke-width: 0px; fill: rgb(0, 0, 255); fill-opacity: 1;\"/><path class=\"point plotly-customdata\" transform=\"translate(104.37,224.25)\" d=\"M3,0A3,3 0 1,1 0,-3A3,3 0 0,1 3,0Z\" style=\"opacity: 1; stroke-width: 0px; fill: rgb(0, 0, 255); fill-opacity: 1;\"/><path class=\"point plotly-customdata\" transform=\"translate(11.68,238.88)\" d=\"M3,0A3,3 0 1,1 0,-3A3,3 0 0,1 3,0Z\" style=\"opacity: 1; stroke-width: 0px; fill: rgb(0, 0, 255); fill-opacity: 1;\"/><path class=\"point plotly-customdata\" transform=\"translate(99.13,185.25)\" d=\"M3,0A3,3 0 1,1 0,-3A3,3 0 0,1 3,0Z\" style=\"opacity: 1; stroke-width: 0px; fill: rgb(0, 0, 255); fill-opacity: 1;\"/><path class=\"point plotly-customdata\" transform=\"translate(121.13,302.25)\" d=\"M3,0A3,3 0 1,1 0,-3A3,3 0 0,1 3,0Z\" style=\"opacity: 1; stroke-width: 0px; fill: rgb(0, 0, 255); fill-opacity: 1;\"/><path class=\"point plotly-customdata\" transform=\"translate(107.4,263.25)\" d=\"M3,0A3,3 0 1,1 0,-3A3,3 0 0,1 3,0Z\" style=\"opacity: 1; stroke-width: 0px; fill: rgb(0, 0, 255); fill-opacity: 1;\"/><path class=\"point plotly-customdata\" transform=\"translate(91.42,87.75)\" d=\"M3,0A3,3 0 1,1 0,-3A3,3 0 0,1 3,0Z\" style=\"opacity: 1; stroke-width: 0px; fill: rgb(0, 0, 255); fill-opacity: 1;\"/><path class=\"point plotly-customdata\" transform=\"translate(100.05,273)\" d=\"M3,0A3,3 0 1,1 0,-3A3,3 0 0,1 3,0Z\" style=\"opacity: 1; stroke-width: 0px; fill: rgb(0, 0, 255); fill-opacity: 1;\"/><path class=\"point plotly-customdata\" transform=\"translate(28.02,131.63)\" d=\"M3,0A3,3 0 1,1 0,-3A3,3 0 0,1 3,0Z\" style=\"opacity: 1; stroke-width: 0px; fill: rgb(0, 0, 255); fill-opacity: 1;\"/><path class=\"point plotly-customdata\" transform=\"translate(96.25,229.13)\" d=\"M3,0A3,3 0 1,1 0,-3A3,3 0 0,1 3,0Z\" style=\"opacity: 1; stroke-width: 0px; fill: rgb(0, 0, 255); fill-opacity: 1;\"/></g><g class=\"text\"/></g></g></g><g class=\"overplot\"/><path class=\"xlines-above crisp\" d=\"M0,0\" style=\"fill: none;\"/><path class=\"ylines-above crisp\" d=\"M0,0\" style=\"fill: none;\"/><g class=\"overlines-above\"/><g class=\"xaxislayer-above\"><g class=\"xtick\"><text text-anchor=\"middle\" x=\"0\" y=\"463\" transform=\"translate(60.85,0)\" style=\"font-family: 'Open Sans', verdana, arial, sans-serif; font-size: 12px; fill: rgb(68, 68, 68); fill-opacity: 1; white-space: pre;\">1</text></g><g class=\"xtick\"><text text-anchor=\"middle\" x=\"0\" y=\"463\" transform=\"translate(134.72,0)\" style=\"font-family: 'Open Sans', verdana, arial, sans-serif; font-size: 12px; fill: rgb(68, 68, 68); fill-opacity: 1; white-space: pre;\">0.5</text></g><g class=\"xtick\"><text text-anchor=\"middle\" x=\"0\" y=\"463\" transform=\"translate(208.58,0)\" style=\"font-family: 'Open Sans', verdana, arial, sans-serif; font-size: 12px; fill: rgb(68, 68, 68); fill-opacity: 1; white-space: pre;\">0</text></g></g><g class=\"yaxislayer-above\"/><g class=\"overaxes-above\"/></g><g class=\"subplot x2y\"><g class=\"layer-subplot\"><g class=\"shapelayer\"/><g class=\"imagelayer\"/></g><g class=\"gridlayer\"><g class=\"x2\"/><g class=\"y\"/></g><g class=\"zerolinelayer\"/><path class=\"xlines-below\"/><path class=\"ylines-below\"/><g class=\"overlines-below\"/><g class=\"xaxislayer-below\"/><g class=\"yaxislayer-below\"/><g class=\"overaxes-below\"/><g class=\"plot\" transform=\"translate(212.54609929078012, 60)\" clip-path=\"url('#clipa560c2x2yplot')\"><g class=\"heatmaplayer mlayer\"><g class=\"hm\"><image xmlns=\"http://www.w3.org/2000/svg\" preserveAspectRatio=\"none\" height=\"371\" width=\"371\" x=\"12.98\" y=\"9.75\" xlink:href=\"data:image/png;base64,iVBORw0KGgoAAAANSUhEUgAAAXMAAAFzCAYAAADMuumSAAAgAElEQVR4Xu2dS6il2VmG197nkqpGNE0mBhEaISY0GAiSmeLMQRADERsi1sALTnRiItheSjuWmlbQthHEiU4iggpBHNqdpqXjQItOiKCYCGJE0IEX4g3r1D7nyL+PBDSnCvaznop/UU/m38q3n2+t93/7/f86a7O798rlsP632VgrXa1zfq6ut737KW+9C7e3cXTk9TbkOcjLiT90jAtv+46LC7W1Mbze7v3+X7q9ea2NYW7dMcbxW70F//nPvLWWAZze3GlzePpjv62ttSy0Scwhz8QcgpPLEnMGNDFH3BJzhC1nTrGNnDlDlzNn3FzzmzNnU8iZQ25j5MwxOrUwZ85w5swRt5w5wpYzp9hy5pBczpyBy5kjbmXmCNtVUS9AIbxegEJwnv3tBSgbQS9AGbcx+pqFkht9zQLRFbMwcN5zpq9Z2ARGzhyCy5lPgMuZQ3ieYubM2Qhy5oxbzpxyW+r6zpzRy5kzbt5zJmfOJpAzh9zKzGfA5cwhPU8xc+ZsBDlzxi1nTrnlzDm5nDlj5z1ncuZsAjlzyC1nPgMuZw7peYqZM2cjyJkzbjlzyi1nzsnlzBk77zmTM2cTyJlDbjnzGXA5c0jPU8ycORtBzpxxy5lTbjlzTi5nzth5z5mcOZtAzhxyy5nPgMuZQ3qeYubM2Qhy5oxbzpxyy5lzcjlzxs57zuTM2QRy5pBbznwGXM4c0vMUM2fORpAzZ9xy5pRbzpyTy5kzdt5zJmfOJpAzh9xy5jPgcuaQnqeYOXM2gifLmZ+96u241f/VxDfZjriuSr6fdGzFPwptz2Erqvmlt932Y1H/Brn4O5feLr07Rc/f+Jy3d/f/JbjV1rs8837n0tT2htfbR3/jGe13Lgvd/twdbb1/ufVd2lrLQptdYs6AJuaMW2KOuCXmCNtIzBm3xyAzz5mj0ebMEbacOcOWM2fccuaM2xg5c0YuZ4645cwRtpw5w7aENnLmKAvm9m7OHM02Z46w5cwZtpw545YzZ9xy5pRbzhyRy5kjbDlzhi1njrntX+H3NQvi19csCFtfszBsfc3CuOnut5gFDqKYhYHr00TErZgFYevTRIZt6A+anDmcRM6cges7c8QtZ46w+YKZM4eDyJkzcDlzxC1njrDlzBk2/0GTM4eTyJkzcDlzxC1njrD5gpkzh4PImTNwOXPELWeOsOXMGTb/QZMzh5PImTNwOXPELWeOsPmCmTOHg8iZM3A5c8QtZ46w5cwZNv9BkzOHk8iZM3A5c8QtZ46w+YKZM4eDyJkzcDlzxC1njrDlzBk2/0GTM4eTyJkzcDlzxC1njrD5gpkzh4PImTNwOXPELWeOsOXMGTb/QZMzh5PImTNwOXPEbd3O/N4r3j1eq/8TuJ9CA7y26OLcW2tZaetdlaX/KWJ7riY580Jn0UmbP3FZa/e6fG2c2aCnIPuuNm/xzsLJj33M/KXjztff1tb7gXd/Xltrz22XmDOgiTnjZlcl5jbRw9dLzA9nNsZIzBG2q6Lt3Zw5wpczR9jMopw5o5kzZ9weg5uGEnM02sQcYTOLEnNGMzFn3BJzyq3MnJMrZuHsrMpiFkSymAVhK2aZwOY/pKea+T/FiblJk62VmCNuiTnClphPYEvMp+A5xcUsjGMxC+PmH/pz9/O/XoDCwZaZQ3BeWWLOWCbmjFtiTrmVmXNyxSycnVVZzIJIFrMgbMUsE9j8h/RUM2XmJj5lrcQcYUzMEbbEfAJbYj4FzykuZmEci1kYN//Ql5mzSdgZt70e+1XXVxWzmDTZWjlzxC1njrDlzCew+Q/pqWaKWUx8ylqJOcKYmCNsifkEtsR8Cp5TXMzCOBazMG7+oS9mYZOwYxF7PfarillMbuZaOXNEM2eOsOXMJ7D5D+mpZopZTHzKWok5wpiYI2yJ+QS2xHwKnlNczMI4FrMwbv6hL2Zhk7BjEXs99quKWUxu5lo5c0QzZ46w5cwnsPkP6almillMfMpaiTnCmJgjbIn5BLbEfAqeU1zMwjg+WTHL2avec9X+z3E7Zvn0Z9iOuK5KvUh4jGH+45eTY+93LiuZc7W5XXrbd+zcP+w2xDn87g/+qzrTG0cX2nr/vjvS1loW+u5P/7y23v2P3tLW2h8F73rScXnPm8G+t11izoZti1JizuaQmCNuiTnClpgzbGOMnDlDJzrCfQM58//3OeTM2Qhy5oybe+iXHhJzNonEnHErZkHcilkQtmIWhu2qaltmzvDlzBk38aGaM2cjyJkzbjlzym2pKzNn9MrMEbcyc4StzJxhK2bB3ERHWGaOpzD6moWx62sWxq2vWRi3MfqahZGzueXM0Rxy5ghbzpxhy5ljbjlzhq4XoIhbL0ARtl6AMmy9AJ3h1qeJkJ74UO0FKJtBL0AZt16AUm69AOXkilkQu2IWhK2YhWErZsHcREfYC1A8hV6AQnS9AGXgegHKuPUCdC3ccuZoEjlzhC1nzrDlzDG3nDlD1wtQxK0XoAhbL0AZtl6AznDrBSikJz5UewHKZtALUMatF6CUWy9AObliFsSumAVhK2Zh2IpZMDfREfYCFE+hF6AQXS9AGbhegDJuvQBdC7ecOZpEzhxhy5kzbDlzzC1nztD1AhRx6wUowvYIXoDee8W7d2sr3qm08LH/nvndNxn166rO3Sufhsluu/F+57KS+idwve22/5GmMz+773I79a7v+/iH/lPt7XTjzeHb7/6C2ttvvefHtfWee//ntbWuIkdvufMvuNcUbnaJOZtOYs64mX/qNzFnMxhjJOYQXWIOweXMGbicOeOWM0fccuYI28iZM277qm0xC6NXzMK4FbMgbsUsCNsoZmHcxihmYeSKWRC3MnOEbZSZM25DfYm39FDMwiZRzMK4FbMgbsUsCFsxC8N2VVXMAukVszBwxSyIWzELwlbMwrAt/9XQp4mIXTELwlbMgrAVszBsi/XtO/NVsCtmYWMoZkHcilkQtmIWhq2YZYZb/2gI0itmQeCKWRC2YhaGrZgFcytmQeiKWRC2YhaGrZgFc9u/nRUjqmIWNopiFsStmAVhK2Zh2IpZZrgVs0B6xSwIXDELwlbMwrAVs2BuxSwIXTELwlbMwrDJUcHSRP9oiI2imIVxK2ZB3IpZELZiFoatmGWGWzELpFfMgsAVsyBsxSwMWzEL5lbMgtAVsyBsxSwMWzEL5tbXLBxdl1Mgdv09c4StyykgtjJzCq7MnJErM0fcyswRtjJzhq3MfIZbmTmkV2aOwJWZI2wrz8zZb3pg1fZP7normv/IZ+nKvEz4SPwHSEtv5l9N9CZwtZL5xZM5g6W34yPt137/c/e0tZaFfvPvf1Zb7w/e+6PaWstC5p+we9+3/Z3a2+bUO1u7f3DvnF335RTqGMZIzCHQxJyBS8wRt8QcYcuZM2yP4GWv6Qpz5mys5gxy5mwGOXPMLWdO0RWzUHJuXTEL4lnMgrCNYhbGTa8qZoFIi1kYuGIWxK2YBWErZmHYilkwN7swZ46I5swRtpw5w+ZX5cwh05w5A5czR9xy5ghbzpxhy5ljbnZhzhwRzZkjbDlzhs2vyplDpjlzBi5njrjlzBG2nDnDljPH3OzCnDkimjNH2HLmDJtflTOHTHPmDFzOHHHLmSNsOXOGLWeOudmFOXNENGeOsOXMGTa/KmcOmebMGbicOeKWM0fYcuYMW84cc7MLc+aIaM4cYcuZM2x+Vc4cMs2ZM3A5c8QtZ46w5cwZtpw55mYX5swR0Zw5wpYzZ9j8qpw5ZJozZ+By5ohbzhxhy5kzbDlzzM0uzJkjojlzhC1nzrD5VTlzyDRnzsDlzBG3nDnCtnJnbrquxUz/6ZuM0nVVF+feWstKG+86qmFfTmH+0stLc7UxLsT1dju3N1HMt9/y02pv3/v2n9TWe9/XuNx2Fxuttw+8/2+1tfbH1LsJcOz+0dWQdV9OkZizjZiYM26JOeKWmCNsiTnDdlWVM5+hJ9XmzBHInDnCNnLmjNsY9lVqOXM2iZw545YzR9xy5ghbzpxhy5nPcFNrc+YIZ84cYcuZM2yP4HO9nDkbRc6cccuZI245c4QtZ86w5cxnuKm1OXOEM2eOsOXMGbacOea2FPZpIsPXp4mIW58mImx9msiwjTGKWRi6YhbGrZgFcStmQdiKWRi2YpYZbmptMQvCWcyCsBWzMGzFLJhbMQtHV8yC2BWzIGzFLAxbMQvmVszC0BWzIG7FLAhbMQvDVswyw02tLWZBOItZELZiFoatmAVzK2bh6IpZELtiFoStmIVhK2bB3IpZGLpiFsStmAVhK2Zh2IpZZriptcUsCGcxC8JWzMKwFbNgbsUsHF0xC2JXzIKwFbMwbMUsmFsxC0NXzIK4FbMgbMUsDFsxyww3tbaYBeEsZkHYilkYtmIWzK2YhaMrZkHsilkQtpXHLLvXvEsU7Yt/ZRf3O+99nU3wy1C186YwzsQ7FJefLt5OOo634g+V5/LUkXmV8Bjf+eaLWocXf/QRba39QuZFMvI5HScn3m89O/PWsleSuW12ibk9IrReYo6wqUWJOcQpi1JizuaQmDNuelViriM9eMHE/GBkVwWJOQMnc0vM2Rj0qsRcR3rwgon5wcgSc4jsUTwEE/OZYYi1ibkIEy6VmENwssMsZmFzSMwZN70qMdeRHrxgYn4wspw5RJYznwE3xuhrFgawr1kYt75mYdxy5oxbzpxx06ty5jrSgxfMmR+MLGcOkeXMZ8DlzDG9nDlDlzNn3HLmjFvOnHHTq3LmOtKDF8yZH4wsZw6R5cxnwOXMMb2cOUOXM2fccuaMW86ccdOrcuY60oMXzJkfjCxnDpHlzGfA5cwxvZw5Q5czZ9xy5oxbzpxx06ty5jrSgxfMmR+MLGcOkeXMZ8DlzDG9nDlDlzNn3HLmjFvOnHHTq3LmOtKDF8yZH4wsZw6R5cxnwOXMMb2cOUOXM2fccuaMW86ccdOrcuY60oMXzJkfjCxnDpHlzGfA5cwxvZw5Q5czZ9xy5ozbZnf2qnePl31tHPtND6z69fe8oa1oCtzS1L/tNlpvx95S+57ecuRtkZ18pZ150duH/uKONoNlod/7xue19b7jF0+1tfYLmdfGnZtTGGOcitfGXcq9bcSTf+H2lpjDIyKOdN9BYs4GYR6HxJzNYCTmDFxizrgtVTlzxi5nzrjlzBm3nDnjljNn3NQb63PmcAhjjJw5ZFfMwsAVszBudlXOnBHNmTNuOXPGLWfOuOXMGbecOeTWC1AGrhegjNvoBSgE19csEFwvQCm4YhZIrpiFgStmYdzsqmIWRrSYhXErZmHcilkYt2IWxq2YBXIrZmHgilkYt2IWyG0Us1ByfWcOyRWzQHDFLAxcMQvjZlcVszCixSyMWzEL41bMwrgVszBuxSyQWzELA1fMwrgVs0BuxSwUXF+zUHLFLJBcMQsDV8zCuNlVxSyMaDEL41bMwrgVszBuxSyMWzEL5FbMwsAVszBuxSyQWzELBVfMQskVs0ByxSwMXDEL42ZXFbMwosUsjFsxC+NWzMK4FbMwbsUskFsxCwNXzMK4FbNAbsUsFFwxCyVXzALJFbMwcMUsjJtdVczCiBazMG7FLIxbMQvj9kTFLC+9+5OM0jVVp/K9cf+x01obF96VnfumTo+83k7k+0l/WLy385efve390DHG207PtfVuvXxDW2u/0FYchLzfxrG44XbeDK4GYP5YcQZjjMQcHpHEnIFLzBm3xJxxG4k5BLfyP7SVM2dzzZkzbjlzxi1nzrjlzBm3kTNn4HLmjFvOnHHLmUNua/+aJWfOBpszZ9xy5oxbzpxxy5kzbjlzyC1nzsDlzBm3nDnkljOn4MboaxbGrq9ZGLe+ZoHc+pqFgnPrilkYz2IWxq2YhXErZmHcilkYt2IWyK2YhYErZmHcilkgt2IWCq6YhZIrZoHk+kdDEFz/aAiCc8uKWRjPYhbGrZiFcStmYdyKWRi3YhbIrZiFgStmYdyKWSC3YhYKrpiFkitmgeSKWSC4YhYIzi0rZmE8i1kYt2IWxq2YhXErZmHcilkgt2IWBq6YhXErZoHcilkouGIWSq6YBZIrZoHgilkgOLesmIXxLGZh3IpZGLdiFsatmIVxK2aB3IpZGLhiFsatmAVyK2ah4IpZKLliFkiumAWCW3PMsnvN7A4C+vKUvfQNb2j/R+6FT2PcE2+3Ort0uzNXe+GvfkabwbLQS+JVb+bvXHp72rw27ldvqtzGkXg127l5rfYYasxyLh4sdwL6aptdYo6g2gc/MUdjSMwZtpGYU3DrrUvM4WwScwYuZ8643cqZM3A5c8Zt7VXFLGxC5oMrMWczSMwZt5GYQ3ArL0vM2YASc8atzJxxKzNn3IpZGLdhCtzSQpk5G0QvQBm3MnPIbcVliTkcTmLOwBWzMG7FLIxbMQvktvayYhY2IfPBlZizGSTmjFtiDrmtvSwxZxNKzBm3MnPGrcyccStmYdzKzCG3nDkDlzNn3HLmkNvay3LmbEI5c8YtZ8645cwZt5w545Yzh9xy5gxczpxxy5lDbmsvy5mzCeXMGbecOeOWM2fccuaMW84ccsuZM3A5c8YtZw65rb0sZ84mlDNn3HLmjFvOnHHLmTNuOXPILWfOwOXMGbecOeS29rKcOZtQzpxxy5kzbjlzxi1nzrjlzCG3nDkDlzNn3HLmkNvay3LmbEI5c8YtZ8645cwZt5w545Yzh9xy5gxczpxxe7Kc+f1PeHeAbkwPB4f3kLI77/qktuiNIw/b0tS9i/WyMwX4hXf8lDaDZaGnjr05PCXP9ObW6+17fk2+A3S79eZw6f3OfVPHx15v9+97ay0rmRonc9vsEnM07MQcYRuJOeOWmDNuIzGH4MynFmzhYWU5cwY1Z8645cwZt5w545YzZ9xGzpyBy5kzbjlzxi1nDrmpeRLtocxcJ5czZ0hz5oxbzpxxy5kzbjlzyC1nzsDlzBm3nDnkljOn4PqahZLraxZIrq9ZGDjzvWBfs7AZLFW9AGXsilkYt2IWxq2YhXErZmHcilkgt2IWBq6YhXErZoHcilkouGIWSq6YBZIrZmHgilkYN7uqmIURLWZh3IpZGLdiFsatmIVxK2aB3IpZGLhiFsatmAVyK2ah4IpZKLliFkiumIWBK2Zh3OyqYhZGtJiFcStmYdyKWRi3YhbGrZgFcitmYeCKWRi3YhbIrZiFgitmoeSKWSC5YhYGrpiFcbOrilkY0WIWxq2YhXErZmHcilkYt2IWyK2YhYErZmHcilkgt2IWCq6YhZIrZoHkilkYuFXHLLvXvDufzB/KUD+06vY73tBWPZf/SM5WvDXuxb++o/3OZSHTTXub7eonnmy8FW8eqdjGV55caAt+n31tnHlW5bOw6phFv/1X2yLDvdDZ3CDeb/ziSok5g5qYM26JOeOWmDNuiTnjNnLmDJzno3PmbAL/U2Uar5z51Cis4sQckkzMGbjEnHErZmHc9BegxSxwEHJZMQsDWszCuBWzMG7FLIxbzpxxK2aB3HLmDFzOnHHLmUNua/80MWfOBpszZ9xy5oxbzpxxy5kzbjlzyC1nzsDlzBm3nDnkljOn4MboO3PGru/MGTf1rPY1CxyCW5Yzhzz7moWBy5kzbjlzxi1nDrmpT3vaw0PqyswZ1DJzxq3MnHErM2fccuaMW5k55JYzZ+By5oxbzhxyy5lTcGXmlFyZOSTXvwCl4GDdoy/LmUPGZeYMXM6cccuZM245c8gtZ07B5cwpuZw5JJczp+Bg3aMvy5lDxjlzBi5nzrjlzBm3nDnkljOn4HLmlFzOHJLLmVNwsO7Rl+XMIeOcOQOXM2fccuaMW84ccsuZU3A5c0ouZw7J5cwpOFj36Mty5pBxzpyBy5kzbjlzxu3JcuZnr3rny3zaw9k9rOyFd/2xturNYw/b0tRPfNa7t/P5r7ut/c5loRtH3gWlppNeejO3nPgz9/y/+sa5NodbL9/Q1tovZIJzO3N7u/TuYb36md5ZMJfad7ZLzNFWTMwRNvUCZluTEnM2U73KfNAk5nA85hBgCznzMXLmbPMk5oybXmXqSGIOx2MOAbaQmCfmdOsk5pScXGfqSGIOh2MOAbaQmCfmdOsk5pScXGfqSGIOh2MOAbaQmCfmdOsk5pScXGfqSGIOh2MOAbaQmCfmdOsk5pScXGfqSGIOh2MOAbaQmCfmdOsk5pScXGfqSGIOh2MOAbaQmCfmdOsk5pScXGfqSGIOh2MOAbaQmCfmdOsk5pScXGfqSGIOh2MOAbaQmCfmdOsk5pScXGfqSGIOh2MOAbaQmCfmdOsk5pScXGfqSGIOh2MOAbaQmCfmdOsk5pScXGfqSGIOh2MOAbaQmCfmdOsk5pScXGfqSGIOh2MOAbaQmCfmdOsk5pScXGfqSGIOh2MOAbaQmCfmdOsk5pScXGfqSGIOh2MOAbaQmCfmdOsk5pScXGfqSGIOh2MOAbaQmCfmdOsk5pScXGfqSGIOh2MOAbaQmCfmdOsk5pScXGfqyBMl5rvXvPvPzCEs++Pcu3ZrWe65t7+u7bqP/9OL2lrLQj/3Tu+qty+cqa2Np0+99U623lrLSuZ69pV2X3XiXVn2wZfEISzgTsX1zu7LQz321rsv9+Z1pq+07gudE3M08MQcYdOvtEvM2RzGSWJOyCXmhNoYI2fOwJlOOmfOZrCvyplPwFtnaWIO55KYM3CJOeNWzMK4jWIWCK7MHIIrM6fgzIdDmTmcQpk5BOeW5cwhz5w5A2eKbzELm0ExywS3FZcm5nA4iTkDl5gzbsUsjFsxC+Q2ilkouT5NhOTMh0MxCxxCMQsE55blzCHPnDkDZ4pvMQubQTHLBLcVlybmcDiJOQOXmDNuxSyMWzEL5FbMQsH1NQslZz4cilngFIpZIDi3LGcOeebMGThTfItZ2AyKWSa4rbg0MYfDScwZuMSccStmYdyKWSC3YhYKrpiFkjMfDsUscArFLBCcW5Yzhzxz5gycKb7FLGwGxSwT3FZcmpjD4STmDFxizrgVszBuxSyQWzELBVfMQsmZD4diFjiFYhYIzi3LmUOeOXMGzhTfYhY2g2KWCW4rLk3M4XAScwYuMWfcilkYt2IWyK2YhYIrZqHkzIdDMQucQjELBOeWbXb3P7HeO0Dd3zqOj79VW/EDb3teW2tZ6Nm3encynnsTvfovcvHezq84kZsTp3DzyO3tafMO0Jdvir90jLHdeOtdutzGsXlt3M77nctKIrYhY0vM4agTcwYuMWfcPpiYM3D3E3MGzv4TuKyLB1blzBnQnDnjljNn3HLmjFvOnHEbOXMGLmfOuOXMGbeRM4fgcuYQXJk5BicWlplDmGXmDFyZOeO2VBWzMHbFLIxbMQvjVszCuBWzMG7FLJBbMQsDV8zCuBWzQG76d+a0jwfU5cwZ0Jw545YzZ9xy5oxbzpxxy5lDbjlzBi5nzrjlzCG3nDkF1wtQTs6r7AUoZNkLUAauF6CMWy9AObdiFsaumIVxK2Zh3IpZGLdiFsitmIWBK2Zh3IpZILdiFgqumIWT8yqLWSDLYhYGrpiFcStm4dyKWRi7YhbGrZiFcStmYdyKWSC3YhYGrpiFcStmgdyKWSi4YhZOzqssZoEsi1kYuGIWxq2YhXMrZmHsilkYt2IWxq2YhXErZoHcilkYuGIWxq2YBXIrZqHgilk4Oa+ymAWyLGZh4OyY5Vee/Yi25H+ds9/0oKrnP3tHXXC3+0NvvYsLb61lJfPPB2/Fe96W3uzDapJbc2/mTHfyjTlHR94UzuWD73Xm711zpvLe3STmcOck5hCcXCYfCLU78+An5mw09v4wZyr3lpizLTJGYk7JuXXygVCbMw9+Ys5GY+8Pc6Zyb4k52yKJOeVm18kHQm3PPPiJORuNvT/Mmcq9JeZsiyTmlJtdJx8ItT3z4CfmbDT2/jBnKveWmLMtkphTbnadfCDU9syDn5iz0dj7w5yp3FtizrZIYk652XXygVDbMw9+Ys5GY+8Pc6Zyb4k52yKJOeVm18kHQm3PPPiJORuNvT/Mmcq9JeZsiyTmlJtdJx8ItT3z4CfmbDT2/jBnKveWmLMtkphTbnadfCDU9syDn5iz0dj7w5yp3FtizrZIYk652XXygVDbMw9+Ys5GY+8Pc6Zyb4k52yKJOeVm18kHQm3PPPiJORuNvT/Mmcq9JeZsiyTmlJtdJx8ItT3z4CfmbDT2/jBnKveWmLMtkphTbnadfCDU9syDn5iz0dj7w5yp3FtizrZIYk652XXygVDbMw9+Ys5GY+8Pc6Zyb4k52yKJOeVm18kHQm3PPPiJORuNvT/Mmcq9JeZsiyTmlJtdJx8ItT3z4CfmbDT2/jBnKveWmLMtkphTbnadfCDU9syDn5iz0dj7w5yp3FtizrZIYk652XXygVDbMw9+Ys5GY+8Pc6Zyb4k52yKJOeVm18kHQm3PPPiJORuNvT/Mmcq9bT78jHcH6C/9jXtn54vvvM0G+ICqH/nzb/bWM4e6dGXeXNQdoN6cZ1Yy52Duj5nf9LjVyoKp3tUr95aY082ZmFNybp18INTmEnMVJ1rM3h/muZd7S8zRDhlDfULnzOkU/NvXeSdfWpmYmzTZWrJgqude7i0xZ1skMafc7Dr5QKjtJeYqTrSYvT9y5mgMo8yccRumiCwt2AcC/qxry9bcmzmHMnO2a+z9kZizOSTmjFtiDrnZZYm5TfTw9RLzw5ktFX3Nwrjtq0znZYpIzpwP1ZyDuT/4L3r8KhNzNrPEnHFLzCe42Yd1opUvKU3MTZpsLXt/FLOwORSzMG7FLJCbXZaY20QPXy8xP5xZMQtj9sUq8z+jTREpZuGDNedg7g/+ix6/ysSczayYhXErZpngZh/WiVaKWUx40lr2/ihmYYMpZmHcilkgN7ssZ24TPXy9xPxwZsUsjFkxyyQ3+7BOtvO/yhNzkyZby94fOXM2h5w545Yzh9zsssTcJnr4ejeMunsAAAIpSURBVIn54cxy5oxZznySm31YJ9vJmZsAhbXs/ZEzZ0PJmTNuOXPIzS7LmdtED18vMT+cWc6cMcuZT3KzD+tkOzlzE6Cwlr0/cuZsKDlzxi1nDrnZZTlzm+jh6yXmhzPLmTNmOfNJbvZhnWwnZ24CFNay98eanfkYx5cCsv0SH37Gvebta5+yOrta54c+803eguZQl67Mf+FnOsKlN/NArJmbtzuuVjLncH5ud7fe9cw9Yu7dhdiKe9sk5nBPm0NNzOEQ5Icg7+L6ysScETXPVmLOZpAzZ9z2VTlzBs/kxjp4cFVizogm5ohbzhxhk/9zKzGnU3AfgryLnLnJLjFHNBNzhC0xp9jUzNF+COIf9YDCnDkjmpgjbok5wpaYU2yJOSTXC1AGrsyccSszZ9zKzFfCbaKNa0tz5oxozhxxy5kjbDlzii1nDsnlzBm4nDnjljNn3HLmK+E20UbOXISXM0cwc+YIW86cYsuZQ3I5cwYuZ8645cwZt5z5SrhNtJEzF+HlzBHMnDnCljOn2HLmkFzOnIHLmTNuOXPGLWe+Em4TbeTMRXg5cwQzZ46w5cwptpw5JJczZ+By5oxbzpxxy5mvhNtEGzlzEV7OHMHMmSNsOXOKLWcOyeXMGbicOeOWM2fccuYr4TbRRs5chJczRzBz5ghbzpxiy5lDcjlzBi5nzrjlzBm3nPlKuE20kTMX4eXMEcycOcKWM6fYcuaQXM6cgXuCnPl/AwVWXQNrSs8iAAAAAElFTkSuQmCC\" style=\"opacity: 1;\"/></g></g></g><g class=\"overplot\"/><path class=\"xlines-above crisp\" d=\"M0,0\" style=\"fill: none;\"/><path class=\"ylines-above crisp\" d=\"M0,0\" style=\"fill: none;\"/><g class=\"overlines-above\"/><g class=\"xaxislayer-above\"/><g class=\"yaxislayer-above\"/><g class=\"overaxes-above\"/></g></g><g class=\"polarlayer\"/><g class=\"ternarylayer\"/><g class=\"geolayer\"/><g class=\"funnelarealayer\"/><g class=\"pielayer\"/><g class=\"treemaplayer\"/><g class=\"sunburstlayer\"/><g class=\"glimages\"/><defs id=\"topdefs-a560c2\"><g class=\"clips\"/></defs><g class=\"layer-above\"><g class=\"imagelayer\"/><g class=\"shapelayer\"/></g><g class=\"infolayer\"><g class=\"cb472115 colorbar\" transform=\"translate(50,60)\"><rect class=\"cbbg\" x=\"569.5\" y=\"-0.5\" width=\"68.03125\" height=\"391\" style=\"fill: rgb(0, 0, 0); fill-opacity: 0; stroke: rgb(68, 68, 68); stroke-opacity: 1; stroke-width: 0;\"/><g class=\"cbfills\" transform=\"translate(0,10)\"><rect class=\"cbfill\" x=\"580\" width=\"30\" y=\"0\" height=\"370\" style=\"fill: url('#ga560c2-cb472115');\"/></g><g class=\"cblines\" transform=\"translate(0,10)\"/><g class=\"cbaxis crisp\" transform=\"translate(0,-60)\"><g class=\"ycb472115tick\"><text text-anchor=\"start\" x=\"613.4\" y=\"4.199999999999999\" transform=\"translate(0,440)\" style=\"font-family: 'Open Sans', verdana, arial, sans-serif; font-size: 12px; fill: rgb(68, 68, 68); fill-opacity: 1; white-space: pre;\">0</text></g><g class=\"ycb472115tick\"><text text-anchor=\"start\" x=\"613.4\" y=\"4.199999999999999\" transform=\"translate(0,402.79)\" style=\"font-family: 'Open Sans', verdana, arial, sans-serif; font-size: 12px; fill: rgb(68, 68, 68); fill-opacity: 1; white-space: pre;\">0.1</text></g><g class=\"ycb472115tick\"><text text-anchor=\"start\" x=\"613.4\" y=\"4.199999999999999\" transform=\"translate(0,365.58)\" style=\"font-family: 'Open Sans', verdana, arial, sans-serif; font-size: 12px; fill: rgb(68, 68, 68); fill-opacity: 1; white-space: pre;\">0.2</text></g><g class=\"ycb472115tick\"><text text-anchor=\"start\" x=\"613.4\" y=\"4.199999999999999\" transform=\"translate(0,328.38)\" style=\"font-family: 'Open Sans', verdana, arial, sans-serif; font-size: 12px; fill: rgb(68, 68, 68); fill-opacity: 1; white-space: pre;\">0.3</text></g><g class=\"ycb472115tick\"><text text-anchor=\"start\" x=\"613.4\" y=\"4.199999999999999\" transform=\"translate(0,291.16999999999996)\" style=\"font-family: 'Open Sans', verdana, arial, sans-serif; font-size: 12px; fill: rgb(68, 68, 68); fill-opacity: 1; white-space: pre;\">0.4</text></g><g class=\"ycb472115tick\"><text text-anchor=\"start\" x=\"613.4\" y=\"4.199999999999999\" transform=\"translate(0,253.96)\" style=\"font-family: 'Open Sans', verdana, arial, sans-serif; font-size: 12px; fill: rgb(68, 68, 68); fill-opacity: 1; white-space: pre;\">0.5</text></g><g class=\"ycb472115tick\"><text text-anchor=\"start\" x=\"613.4\" y=\"4.199999999999999\" transform=\"translate(0,216.75)\" style=\"font-family: 'Open Sans', verdana, arial, sans-serif; font-size: 12px; fill: rgb(68, 68, 68); fill-opacity: 1; white-space: pre;\">0.6</text></g><g class=\"ycb472115tick\"><text text-anchor=\"start\" x=\"613.4\" y=\"4.199999999999999\" transform=\"translate(0,179.55)\" style=\"font-family: 'Open Sans', verdana, arial, sans-serif; font-size: 12px; fill: rgb(68, 68, 68); fill-opacity: 1; white-space: pre;\">0.7</text></g><g class=\"ycb472115tick\"><text text-anchor=\"start\" x=\"613.4\" y=\"4.199999999999999\" transform=\"translate(0,142.34)\" style=\"font-family: 'Open Sans', verdana, arial, sans-serif; font-size: 12px; fill: rgb(68, 68, 68); fill-opacity: 1; white-space: pre;\">0.8</text></g><g class=\"ycb472115tick\"><text text-anchor=\"start\" x=\"613.4\" y=\"4.199999999999999\" transform=\"translate(0,105.13)\" style=\"font-family: 'Open Sans', verdana, arial, sans-serif; font-size: 12px; fill: rgb(68, 68, 68); fill-opacity: 1; white-space: pre;\">0.9</text></g></g><g class=\"cbtitleunshift\" transform=\"translate(-50,-60)\"><g class=\"cbtitle\"/></g><rect class=\"cboutline\" x=\"580\" y=\"10\" width=\"30\" height=\"370\" style=\"stroke: rgb(68, 68, 68); stroke-opacity: 1; fill: none; stroke-width: 1;\"/></g><g class=\"g-gtitle\"/><g class=\"g-xtitle\"/></g></svg>"
      ],
      "text/html": [
       "<div\n",
       "    class=\"webio-mountpoint\"\n",
       "    data-webio-mountpoint=\"13409671430522881064\"\n",
       ">\n",
       "    <script>\n",
       "    if (window.require && require.defined && require.defined(\"nbextensions/webio-jupyter-notebook\")) {\n",
       "        console.log(\"Jupyter WebIO extension detected, not mounting.\");\n",
       "    } else if (window.WebIO) {\n",
       "        WebIO.mount(\n",
       "            document.querySelector('[data-webio-mountpoint=\"13409671430522881064\"]'),\n",
       "            {\"props\":{},\"nodeType\":\"Scope\",\"type\":\"node\",\"instanceArgs\":{\"imports\":{\"data\":[{\"name\":\"Plotly\",\"type\":\"js\",\"url\":\"\\/assetserver\\/e6903599031aaef8675931dfcd7df98a1aeffbfc-plotly-latest.min.js\"},{\"name\":null,\"type\":\"js\",\"url\":\"\\/assetserver\\/74a5dea81f21b0b802ef1ee92f1c8a504eac1a0c-plotly_webio.bundle.js\"}],\"type\":\"async_block\"},\"id\":\"364534108648821215\",\"handlers\":{\"_toImage\":[\"(function (options){return this.Plotly.toImage(this.plotElem,options).then((function (data){return WebIO.setval({\\\"name\\\":\\\"image\\\",\\\"scope\\\":\\\"364534108648821215\\\",\\\"id\\\":\\\"15873756629404642396\\\",\\\"type\\\":\\\"observable\\\"},data)}))})\"],\"__get_gd_contents\":[\"(function (prop){prop==\\\"data\\\" ? (WebIO.setval({\\\"name\\\":\\\"__gd_contents\\\",\\\"scope\\\":\\\"364534108648821215\\\",\\\"id\\\":\\\"17103382453739547548\\\",\\\"type\\\":\\\"observable\\\"},this.plotElem.data)) : undefined; return prop==\\\"layout\\\" ? (WebIO.setval({\\\"name\\\":\\\"__gd_contents\\\",\\\"scope\\\":\\\"364534108648821215\\\",\\\"id\\\":\\\"17103382453739547548\\\",\\\"type\\\":\\\"observable\\\"},this.plotElem.layout)) : undefined})\"],\"_downloadImage\":[\"(function (options){return this.Plotly.downloadImage(this.plotElem,options)})\"],\"_commands\":[\"(function (args){var fn=args.shift(); var elem=this.plotElem; var Plotly=this.Plotly; args.unshift(elem); return Plotly[fn].apply(this,args)})\"]},\"systemjs_options\":null,\"mount_callbacks\":[\"function () {\\n    var handler = ((function (Plotly,PlotlyWebIO){PlotlyWebIO.init(WebIO); var gd=this.dom.querySelector(\\\"#plot-a1395eb0-1ba6-416f-964e-1b04d809124a\\\"); this.plotElem=gd; this.Plotly=Plotly; (window.Blink!==undefined) ? (gd.style.width=\\\"100%\\\", gd.style.height=\\\"100vh\\\", gd.style.marginLeft=\\\"0%\\\", gd.style.marginTop=\\\"0vh\\\") : undefined; window.onresize=(function (){return Plotly.Plots.resize(gd)}); Plotly.newPlot(gd,[{\\\"showlegend\\\":false,\\\"mode\\\":\\\"lines\\\",\\\"line\\\":{\\\"color\\\":\\\"gray\\\"},\\\"y\\\":[8.25,12.0,null,8.25,8.25,null,12.0,12.0,null],\\\"type\\\":\\\"scatter\\\",\\\"hoverinfo\\\":\\\"skip\\\",\\\"x\\\":[0.4705395996570587,0.4705395996570587,null,0.4705395996570587,0.42190226912498474,null,0.4705395996570587,0.0,null]},{\\\"showlegend\\\":false,\\\"mode\\\":\\\"lines\\\",\\\"line\\\":{\\\"color\\\":\\\"gray\\\"},\\\"y\\\":[13.0,14.0,null,13.0,13.0,null,14.0,14.0,null],\\\"type\\\":\\\"scatter\\\",\\\"hoverinfo\\\":\\\"skip\\\",\\\"x\\\":[0.29208698868751526,0.29208698868751526,null,0.29208698868751526,0.0,null,0.29208698868751526,0.0,null]},{\\\"showlegend\\\":false,\\\"mode\\\":\\\"lines\\\",\\\"line\\\":{\\\"color\\\":\\\"gray\\\"},\\\"y\\\":[6.5,8.5,null,6.5,6.5,null,8.5,8.5,null],\\\"type\\\":\\\"scatter\\\",\\\"hoverinfo\\\":\\\"skip\\\",\\\"x\\\":[0.37954241037368774,0.37954241037368774,null,0.37954241037368774,0.3464493453502655,null,0.37954241037368774,0.3669704496860504,null]},{\\\"showlegend\\\":false,\\\"mode\\\":\\\"lines\\\",\\\"line\\\":{\\\"color\\\":\\\"gray\\\"},\\\"y\\\":[17.0,18.0,null,17.0,17.0,null,18.0,18.0,null],\\\"type\\\":\\\"scatter\\\",\\\"hoverinfo\\\":\\\"skip\\\",\\\"x\\\":[0.3742145597934723,0.3742145597934723,null,0.3742145597934723,0.0,null,0.3742145597934723,0.0,null]},{\\\"showlegend\\\":false,\\\"mode\\\":\\\"lines\\\",\\\"line\\\":{\\\"color\\\":\\\"gray\\\"},\\\"y\\\":[14.5,18.25,null,14.5,14.5,null,18.25,18.25,null],\\\"type\\\":\\\"scatter\\\",\\\"hoverinfo\\\":\\\"skip\\\",\\\"x\\\":[0.7486640214920044,0.7486640214920044,null,0.7486640214920044,0.4882459342479706,null,0.7486640214920044,0.6545893549919128,null]},{\\\"showlegend\\\":false,\\\"mode\\\":\\\"lines\\\",\\\"line\\\":{\\\"color\\\":\\\"gray\\\"},\\\"y\\\":[17.5,19.0,null,17.5,17.5,null,19.0,19.0,null],\\\"type\\\":\\\"scatter\\\",\\\"hoverinfo\\\":\\\"skip\\\",\\\"x\\\":[0.6545893549919128,0.6545893549919128,null,0.6545893549919128,0.3742145597934723,null,0.6545893549919128,0.0,null]},{\\\"showlegend\\\":false,\\\"mode\\\":\\\"lines\\\",\\\"line\\\":{\\\"color\\\":\\\"gray\\\"},\\\"y\\\":[1.5,3.0,null,1.5,1.5,null,3.0,3.0,null],\\\"type\\\":\\\"scatter\\\",\\\"hoverinfo\\\":\\\"skip\\\",\\\"x\\\":[0.4052116274833679,0.4052116274833679,null,0.4052116274833679,0.3356224298477173,null,0.4052116274833679,0.0,null]},{\\\"showlegend\\\":false,\\\"mode\\\":\\\"lines\\\",\\\"line\\\":{\\\"color\\\":\\\"gray\\\"},\\\"y\\\":[1.0,2.0,null,1.0,1.0,null,2.0,2.0,null],\\\"type\\\":\\\"scatter\\\",\\\"hoverinfo\\\":\\\"skip\\\",\\\"x\\\":[0.3356224298477173,0.3356224298477173,null,0.3356224298477173,0.0,null,0.3356224298477173,0.0,null]},{\\\"showlegend\\\":false,\\\"mode\\\":\\\"lines\\\",\\\"line\\\":{\\\"color\\\":\\\"gray\\\"},\\\"y\\\":[8.0,9.0,null,8.0,8.0,null,9.0,9.0,null],\\\"type\\\":\\\"scatter\\\",\\\"hoverinfo\\\":\\\"skip\\\",\\\"x\\\":[0.3669704496860504,0.3669704496860504,null,0.3669704496860504,0.0,null,0.3669704496860504,0.0,null]},{\\\"showlegend\\\":false,\\\"mode\\\":\\\"lines\\\",\\\"line\\\":{\\\"color\\\":\\\"gray\\\"},\\\"y\\\":[2.25,13.25,null,2.25,2.25,null,13.25,13.25,null],\\\"type\\\":\\\"scatter\\\",\\\"hoverinfo\\\":\\\"skip\\\",\\\"x\\\":[0.9944140315055847,0.9944140315055847,null,0.9944140315055847,0.4052116274833679,null,0.9944140315055847,0.8838295340538025,null]},{\\\"showlegend\\\":false,\\\"mode\\\":\\\"lines\\\",\\\"line\\\":{\\\"color\\\":\\\"gray\\\"},\\\"y\\\":[10.0,11.0,null,10.0,10.0,null,11.0,11.0,null],\\\"type\\\":\\\"scatter\\\",\\\"hoverinfo\\\":\\\"skip\\\",\\\"x\\\":[0.4024175703525543,0.4024175703525543,null,0.4024175703525543,0.0,null,0.4024175703525543,0.0,null]},{\\\"showlegend\\\":false,\\\"mode\\\":\\\"lines\\\",\\\"line\\\":{\\\"color\\\":\\\"gray\\\"},\\\"y\\\":[4.0,5.0,null,4.0,4.0,null,5.0,5.0,null],\\\"type\\\":\\\"scatter\\\",\\\"hoverinfo\\\":\\\"skip\\\",\\\"x\\\":[0.25350773334503174,0.25350773334503174,null,0.25350773334503174,0.0,null,0.25350773334503174,0.0,null]},{\\\"showlegend\\\":false,\\\"mode\\\":\\\"lines\\\",\\\"line\\\":{\\\"color\\\":\\\"gray\\\"},\\\"y\\\":[6.0,7.0,null,6.0,6.0,null,7.0,7.0,null],\\\"type\\\":\\\"scatter\\\",\\\"hoverinfo\\\":\\\"skip\\\",\\\"x\\\":[0.3464493453502655,0.3464493453502655,null,0.3464493453502655,0.0,null,0.3464493453502655,0.0,null]},{\\\"showlegend\\\":false,\\\"mode\\\":\\\"lines\\\",\\\"line\\\":{\\\"color\\\":\\\"gray\\\"},\\\"y\\\":[15.0,16.0,null,15.0,15.0,null,16.0,16.0,null],\\\"type\\\":\\\"scatter\\\",\\\"hoverinfo\\\":\\\"skip\\\",\\\"x\\\":[0.4545997679233551,0.4545997679233551,null,0.4545997679233551,0.0,null,0.4545997679233551,0.0,null]},{\\\"showlegend\\\":false,\\\"mode\\\":\\\"lines\\\",\\\"line\\\":{\\\"color\\\":\\\"gray\\\"},\\\"y\\\":[4.5,7.5,null,4.5,4.5,null,7.5,7.5,null],\\\"type\\\":\\\"scatter\\\",\\\"hoverinfo\\\":\\\"skip\\\",\\\"x\\\":[0.3961929976940155,0.3961929976940155,null,0.3961929976940155,0.25350773334503174,null,0.3961929976940155,0.37954241037368774,null]},{\\\"showlegend\\\":false,\\\"mode\\\":\\\"lines\\\",\\\"line\\\":{\\\"color\\\":\\\"gray\\\"},\\\"y\\\":[10.125,16.375,null,10.125,10.125,null,16.375,16.375,null],\\\"type\\\":\\\"scatter\\\",\\\"hoverinfo\\\":\\\"skip\\\",\\\"x\\\":[0.8838295340538025,0.8838295340538025,null,0.8838295340538025,0.4705395996570587,null,0.8838295340538025,0.7486640214920044,null]},{\\\"showlegend\\\":false,\\\"mode\\\":\\\"lines\\\",\\\"line\\\":{\\\"color\\\":\\\"gray\\\"},\\\"y\\\":[13.5,15.5,null,13.5,13.5,null,15.5,15.5,null],\\\"type\\\":\\\"scatter\\\",\\\"hoverinfo\\\":\\\"skip\\\",\\\"x\\\":[0.4882459342479706,0.4882459342479706,null,0.4882459342479706,0.29208698868751526,null,0.4882459342479706,0.4545997679233551,null]},{\\\"showlegend\\\":false,\\\"mode\\\":\\\"lines\\\",\\\"line\\\":{\\\"color\\\":\\\"gray\\\"},\\\"y\\\":[6.0,10.5,null,6.0,6.0,null,10.5,10.5,null],\\\"type\\\":\\\"scatter\\\",\\\"hoverinfo\\\":\\\"skip\\\",\\\"x\\\":[0.42190226912498474,0.42190226912498474,null,0.42190226912498474,0.3961929976940155,null,0.42190226912498474,0.4024175703525543,null]},{\\\"showlegend\\\":false,\\\"mode\\\":\\\"markers\\\",\\\"marker\\\":{\\\"color\\\":\\\"blue\\\"},\\\"y\\\":[14.5,10.125,13.5,7.5,16.375,2.25,18.25,17.5,1.5,8.5,7.75,10.5,4.5,6.5,15.5,6.0,13.25,8.25],\\\"type\\\":\\\"scatter\\\",\\\"customdata\\\":[[4],[9],[2],[4],[7],[3],[3],[2],[2],[2],[19],[2],[2],[2],[2],[6],[16],[8]],\\\"text\\\":[\\\"33\\\",\\\"32\\\",\\\"21\\\",\\\"26\\\",\\\"35\\\",\\\"29\\\",\\\"34\\\",\\\"25\\\",\\\"22\\\",\\\"24\\\",\\\"37\\\",\\\"28\\\",\\\"20\\\",\\\"23\\\",\\\"31\\\",\\\"27\\\",\\\"36\\\",\\\"30\\\"],\\\"hovertemplate\\\":\\\"<b>%{text}<\\/b><br>\\\\n%{x:.3f}<br>\\\\n%{customdata[0]} genomes\\\\n<extra><\\/extra>\\\\n\\\",\\\"x\\\":[0.4882459342479706,0.4705395996570587,0.29208698868751526,0.37954241037368774,0.7486640214920044,0.4052116274833679,0.6545893549919128,0.3742145597934723,0.3356224298477173,0.3669704496860504,0.9944140315055847,0.4024175703525543,0.25350773334503174,0.3464493453502655,0.4545997679233551,0.3961929976940155,0.8838295340538025,0.42190226912498474]},{\\\"xaxis\\\":\\\"x2\\\",\\\"y\\\":[0.5,1.5,2.5,3.5,4.5,5.5,6.5,7.5,8.5,9.5,10.5,11.5,12.5,13.5,14.5,15.5,16.5,17.5,18.5,19.5],\\\"type\\\":\\\"heatmap\\\",\\\"customdata\\\":[[[\\\"Genome 17\\\",\\\"Genome 17\\\"],[\\\"Genome 19\\\",\\\"Genome 17\\\"],[\\\"Genome 16\\\",\\\"Genome 17\\\"],[\\\"Genome 7\\\",\\\"Genome 17\\\"],[\\\"Genome 10\\\",\\\"Genome 17\\\"],[\\\"Genome 8\\\",\\\"Genome 17\\\"],[\\\"Genome 9\\\",\\\"Genome 17\\\"],[\\\"Genome 3\\\",\\\"Genome 17\\\"],[\\\"Genome 5\\\",\\\"Genome 17\\\"],[\\\"Genome 6\\\",\\\"Genome 17\\\"],[\\\"Genome 11\\\",\\\"Genome 17\\\"],[\\\"Genome 12\\\",\\\"Genome 17\\\"],[\\\"Genome 14\\\",\\\"Genome 17\\\"],[\\\"Genome 15\\\",\\\"Genome 17\\\"],[\\\"Genome 1\\\",\\\"Genome 17\\\"],[\\\"Genome 2\\\",\\\"Genome 17\\\"],[\\\"Genome 13\\\",\\\"Genome 17\\\"],[\\\"Genome 18\\\",\\\"Genome 17\\\"],[\\\"Genome 4\\\",\\\"Genome 17\\\"]],[[\\\"Genome 17\\\",\\\"Genome 19\\\"],[\\\"Genome 19\\\",\\\"Genome 19\\\"],[\\\"Genome 16\\\",\\\"Genome 19\\\"],[\\\"Genome 7\\\",\\\"Genome 19\\\"],[\\\"Genome 10\\\",\\\"Genome 19\\\"],[\\\"Genome 8\\\",\\\"Genome 19\\\"],[\\\"Genome 9\\\",\\\"Genome 19\\\"],[\\\"Genome 3\\\",\\\"Genome 19\\\"],[\\\"Genome 5\\\",\\\"Genome 19\\\"],[\\\"Genome 6\\\",\\\"Genome 19\\\"],[\\\"Genome 11\\\",\\\"Genome 19\\\"],[\\\"Genome 12\\\",\\\"Genome 19\\\"],[\\\"Genome 14\\\",\\\"Genome 19\\\"],[\\\"Genome 15\\\",\\\"Genome 19\\\"],[\\\"Genome 1\\\",\\\"Genome 19\\\"],[\\\"Genome 2\\\",\\\"Genome 19\\\"],[\\\"Genome 13\\\",\\\"Genome 19\\\"],[\\\"Genome 18\\\",\\\"Genome 19\\\"],[\\\"Genome 4\\\",\\\"Genome 19\\\"]],[[\\\"Genome 17\\\",\\\"Genome 16\\\"],[\\\"Genome 19\\\",\\\"Genome 16\\\"],[\\\"Genome 16\\\",\\\"Genome 16\\\"],[\\\"Genome 7\\\",\\\"Genome 16\\\"],[\\\"Genome 10\\\",\\\"Genome 16\\\"],[\\\"Genome 8\\\",\\\"Genome 16\\\"],[\\\"Genome 9\\\",\\\"Genome 16\\\"],[\\\"Genome 3\\\",\\\"Genome 16\\\"],[\\\"Genome 5\\\",\\\"Genome 16\\\"],[\\\"Genome 6\\\",\\\"Genome 16\\\"],[\\\"Genome 11\\\",\\\"Genome 16\\\"],[\\\"Genome 12\\\",\\\"Genome 16\\\"],[\\\"Genome 14\\\",\\\"Genome 16\\\"],[\\\"Genome 15\\\",\\\"Genome 16\\\"],[\\\"Genome 1\\\",\\\"Genome 16\\\"],[\\\"Genome 2\\\",\\\"Genome 16\\\"],[\\\"Genome 13\\\",\\\"Genome 16\\\"],[\\\"Genome 18\\\",\\\"Genome 16\\\"],[\\\"Genome 4\\\",\\\"Genome 16\\\"]],[[\\\"Genome 17\\\",\\\"Genome 7\\\"],[\\\"Genome 19\\\",\\\"Genome 7\\\"],[\\\"Genome 16\\\",\\\"Genome 7\\\"],[\\\"Genome 7\\\",\\\"Genome 7\\\"],[\\\"Genome 10\\\",\\\"Genome 7\\\"],[\\\"Genome 8\\\",\\\"Genome 7\\\"],[\\\"Genome 9\\\",\\\"Genome 7\\\"],[\\\"Genome 3\\\",\\\"Genome 7\\\"],[\\\"Genome 5\\\",\\\"Genome 7\\\"],[\\\"Genome 6\\\",\\\"Genome 7\\\"],[\\\"Genome 11\\\",\\\"Genome 7\\\"],[\\\"Genome 12\\\",\\\"Genome 7\\\"],[\\\"Genome 14\\\",\\\"Genome 7\\\"],[\\\"Genome 15\\\",\\\"Genome 7\\\"],[\\\"Genome 1\\\",\\\"Genome 7\\\"],[\\\"Genome 2\\\",\\\"Genome 7\\\"],[\\\"Genome 13\\\",\\\"Genome 7\\\"],[\\\"Genome 18\\\",\\\"Genome 7\\\"],[\\\"Genome 4\\\",\\\"Genome 7\\\"]],[[\\\"Genome 17\\\",\\\"Genome 10\\\"],[\\\"Genome 19\\\",\\\"Genome 10\\\"],[\\\"Genome 16\\\",\\\"Genome 10\\\"],[\\\"Genome 7\\\",\\\"Genome 10\\\"],[\\\"Genome 10\\\",\\\"Genome 10\\\"],[\\\"Genome 8\\\",\\\"Genome 10\\\"],[\\\"Genome 9\\\",\\\"Genome 10\\\"],[\\\"Genome 3\\\",\\\"Genome 10\\\"],[\\\"Genome 5\\\",\\\"Genome 10\\\"],[\\\"Genome 6\\\",\\\"Genome 10\\\"],[\\\"Genome 11\\\",\\\"Genome 10\\\"],[\\\"Genome 12\\\",\\\"Genome 10\\\"],[\\\"Genome 14\\\",\\\"Genome 10\\\"],[\\\"Genome 15\\\",\\\"Genome 10\\\"],[\\\"Genome 1\\\",\\\"Genome 10\\\"],[\\\"Genome 2\\\",\\\"Genome 10\\\"],[\\\"Genome 13\\\",\\\"Genome 10\\\"],[\\\"Genome 18\\\",\\\"Genome 10\\\"],[\\\"Genome 4\\\",\\\"Genome 10\\\"]],[[\\\"Genome 17\\\",\\\"Genome 8\\\"],[\\\"Genome 19\\\",\\\"Genome 8\\\"],[\\\"Genome 16\\\",\\\"Genome 8\\\"],[\\\"Genome 7\\\",\\\"Genome 8\\\"],[\\\"Genome 10\\\",\\\"Genome 8\\\"],[\\\"Genome 8\\\",\\\"Genome 8\\\"],[\\\"Genome 9\\\",\\\"Genome 8\\\"],[\\\"Genome 3\\\",\\\"Genome 8\\\"],[\\\"Genome 5\\\",\\\"Genome 8\\\"],[\\\"Genome 6\\\",\\\"Genome 8\\\"],[\\\"Genome 11\\\",\\\"Genome 8\\\"],[\\\"Genome 12\\\",\\\"Genome 8\\\"],[\\\"Genome 14\\\",\\\"Genome 8\\\"],[\\\"Genome 15\\\",\\\"Genome 8\\\"],[\\\"Genome 1\\\",\\\"Genome 8\\\"],[\\\"Genome 2\\\",\\\"Genome 8\\\"],[\\\"Genome 13\\\",\\\"Genome 8\\\"],[\\\"Genome 18\\\",\\\"Genome 8\\\"],[\\\"Genome 4\\\",\\\"Genome 8\\\"]],[[\\\"Genome 17\\\",\\\"Genome 9\\\"],[\\\"Genome 19\\\",\\\"Genome 9\\\"],[\\\"Genome 16\\\",\\\"Genome 9\\\"],[\\\"Genome 7\\\",\\\"Genome 9\\\"],[\\\"Genome 10\\\",\\\"Genome 9\\\"],[\\\"Genome 8\\\",\\\"Genome 9\\\"],[\\\"Genome 9\\\",\\\"Genome 9\\\"],[\\\"Genome 3\\\",\\\"Genome 9\\\"],[\\\"Genome 5\\\",\\\"Genome 9\\\"],[\\\"Genome 6\\\",\\\"Genome 9\\\"],[\\\"Genome 11\\\",\\\"Genome 9\\\"],[\\\"Genome 12\\\",\\\"Genome 9\\\"],[\\\"Genome 14\\\",\\\"Genome 9\\\"],[\\\"Genome 15\\\",\\\"Genome 9\\\"],[\\\"Genome 1\\\",\\\"Genome 9\\\"],[\\\"Genome 2\\\",\\\"Genome 9\\\"],[\\\"Genome 13\\\",\\\"Genome 9\\\"],[\\\"Genome 18\\\",\\\"Genome 9\\\"],[\\\"Genome 4\\\",\\\"Genome 9\\\"]],[[\\\"Genome 17\\\",\\\"Genome 3\\\"],[\\\"Genome 19\\\",\\\"Genome 3\\\"],[\\\"Genome 16\\\",\\\"Genome 3\\\"],[\\\"Genome 7\\\",\\\"Genome 3\\\"],[\\\"Genome 10\\\",\\\"Genome 3\\\"],[\\\"Genome 8\\\",\\\"Genome 3\\\"],[\\\"Genome 9\\\",\\\"Genome 3\\\"],[\\\"Genome 3\\\",\\\"Genome 3\\\"],[\\\"Genome 5\\\",\\\"Genome 3\\\"],[\\\"Genome 6\\\",\\\"Genome 3\\\"],[\\\"Genome 11\\\",\\\"Genome 3\\\"],[\\\"Genome 12\\\",\\\"Genome 3\\\"],[\\\"Genome 14\\\",\\\"Genome 3\\\"],[\\\"Genome 15\\\",\\\"Genome 3\\\"],[\\\"Genome 1\\\",\\\"Genome 3\\\"],[\\\"Genome 2\\\",\\\"Genome 3\\\"],[\\\"Genome 13\\\",\\\"Genome 3\\\"],[\\\"Genome 18\\\",\\\"Genome 3\\\"],[\\\"Genome 4\\\",\\\"Genome 3\\\"]],[[\\\"Genome 17\\\",\\\"Genome 5\\\"],[\\\"Genome 19\\\",\\\"Genome 5\\\"],[\\\"Genome 16\\\",\\\"Genome 5\\\"],[\\\"Genome 7\\\",\\\"Genome 5\\\"],[\\\"Genome 10\\\",\\\"Genome 5\\\"],[\\\"Genome 8\\\",\\\"Genome 5\\\"],[\\\"Genome 9\\\",\\\"Genome 5\\\"],[\\\"Genome 3\\\",\\\"Genome 5\\\"],[\\\"Genome 5\\\",\\\"Genome 5\\\"],[\\\"Genome 6\\\",\\\"Genome 5\\\"],[\\\"Genome 11\\\",\\\"Genome 5\\\"],[\\\"Genome 12\\\",\\\"Genome 5\\\"],[\\\"Genome 14\\\",\\\"Genome 5\\\"],[\\\"Genome 15\\\",\\\"Genome 5\\\"],[\\\"Genome 1\\\",\\\"Genome 5\\\"],[\\\"Genome 2\\\",\\\"Genome 5\\\"],[\\\"Genome 13\\\",\\\"Genome 5\\\"],[\\\"Genome 18\\\",\\\"Genome 5\\\"],[\\\"Genome 4\\\",\\\"Genome 5\\\"]],[[\\\"Genome 17\\\",\\\"Genome 6\\\"],[\\\"Genome 19\\\",\\\"Genome 6\\\"],[\\\"Genome 16\\\",\\\"Genome 6\\\"],[\\\"Genome 7\\\",\\\"Genome 6\\\"],[\\\"Genome 10\\\",\\\"Genome 6\\\"],[\\\"Genome 8\\\",\\\"Genome 6\\\"],[\\\"Genome 9\\\",\\\"Genome 6\\\"],[\\\"Genome 3\\\",\\\"Genome 6\\\"],[\\\"Genome 5\\\",\\\"Genome 6\\\"],[\\\"Genome 6\\\",\\\"Genome 6\\\"],[\\\"Genome 11\\\",\\\"Genome 6\\\"],[\\\"Genome 12\\\",\\\"Genome 6\\\"],[\\\"Genome 14\\\",\\\"Genome 6\\\"],[\\\"Genome 15\\\",\\\"Genome 6\\\"],[\\\"Genome 1\\\",\\\"Genome 6\\\"],[\\\"Genome 2\\\",\\\"Genome 6\\\"],[\\\"Genome 13\\\",\\\"Genome 6\\\"],[\\\"Genome 18\\\",\\\"Genome 6\\\"],[\\\"Genome 4\\\",\\\"Genome 6\\\"]],[[\\\"Genome 17\\\",\\\"Genome 11\\\"],[\\\"Genome 19\\\",\\\"Genome 11\\\"],[\\\"Genome 16\\\",\\\"Genome 11\\\"],[\\\"Genome 7\\\",\\\"Genome 11\\\"],[\\\"Genome 10\\\",\\\"Genome 11\\\"],[\\\"Genome 8\\\",\\\"Genome 11\\\"],[\\\"Genome 9\\\",\\\"Genome 11\\\"],[\\\"Genome 3\\\",\\\"Genome 11\\\"],[\\\"Genome 5\\\",\\\"Genome 11\\\"],[\\\"Genome 6\\\",\\\"Genome 11\\\"],[\\\"Genome 11\\\",\\\"Genome 11\\\"],[\\\"Genome 12\\\",\\\"Genome 11\\\"],[\\\"Genome 14\\\",\\\"Genome 11\\\"],[\\\"Genome 15\\\",\\\"Genome 11\\\"],[\\\"Genome 1\\\",\\\"Genome 11\\\"],[\\\"Genome 2\\\",\\\"Genome 11\\\"],[\\\"Genome 13\\\",\\\"Genome 11\\\"],[\\\"Genome 18\\\",\\\"Genome 11\\\"],[\\\"Genome 4\\\",\\\"Genome 11\\\"]],[[\\\"Genome 17\\\",\\\"Genome 12\\\"],[\\\"Genome 19\\\",\\\"Genome 12\\\"],[\\\"Genome 16\\\",\\\"Genome 12\\\"],[\\\"Genome 7\\\",\\\"Genome 12\\\"],[\\\"Genome 10\\\",\\\"Genome 12\\\"],[\\\"Genome 8\\\",\\\"Genome 12\\\"],[\\\"Genome 9\\\",\\\"Genome 12\\\"],[\\\"Genome 3\\\",\\\"Genome 12\\\"],[\\\"Genome 5\\\",\\\"Genome 12\\\"],[\\\"Genome 6\\\",\\\"Genome 12\\\"],[\\\"Genome 11\\\",\\\"Genome 12\\\"],[\\\"Genome 12\\\",\\\"Genome 12\\\"],[\\\"Genome 14\\\",\\\"Genome 12\\\"],[\\\"Genome 15\\\",\\\"Genome 12\\\"],[\\\"Genome 1\\\",\\\"Genome 12\\\"],[\\\"Genome 2\\\",\\\"Genome 12\\\"],[\\\"Genome 13\\\",\\\"Genome 12\\\"],[\\\"Genome 18\\\",\\\"Genome 12\\\"],[\\\"Genome 4\\\",\\\"Genome 12\\\"]],[[\\\"Genome 17\\\",\\\"Genome 14\\\"],[\\\"Genome 19\\\",\\\"Genome 14\\\"],[\\\"Genome 16\\\",\\\"Genome 14\\\"],[\\\"Genome 7\\\",\\\"Genome 14\\\"],[\\\"Genome 10\\\",\\\"Genome 14\\\"],[\\\"Genome 8\\\",\\\"Genome 14\\\"],[\\\"Genome 9\\\",\\\"Genome 14\\\"],[\\\"Genome 3\\\",\\\"Genome 14\\\"],[\\\"Genome 5\\\",\\\"Genome 14\\\"],[\\\"Genome 6\\\",\\\"Genome 14\\\"],[\\\"Genome 11\\\",\\\"Genome 14\\\"],[\\\"Genome 12\\\",\\\"Genome 14\\\"],[\\\"Genome 14\\\",\\\"Genome 14\\\"],[\\\"Genome 15\\\",\\\"Genome 14\\\"],[\\\"Genome 1\\\",\\\"Genome 14\\\"],[\\\"Genome 2\\\",\\\"Genome 14\\\"],[\\\"Genome 13\\\",\\\"Genome 14\\\"],[\\\"Genome 18\\\",\\\"Genome 14\\\"],[\\\"Genome 4\\\",\\\"Genome 14\\\"]],[[\\\"Genome 17\\\",\\\"Genome 15\\\"],[\\\"Genome 19\\\",\\\"Genome 15\\\"],[\\\"Genome 16\\\",\\\"Genome 15\\\"],[\\\"Genome 7\\\",\\\"Genome 15\\\"],[\\\"Genome 10\\\",\\\"Genome 15\\\"],[\\\"Genome 8\\\",\\\"Genome 15\\\"],[\\\"Genome 9\\\",\\\"Genome 15\\\"],[\\\"Genome 3\\\",\\\"Genome 15\\\"],[\\\"Genome 5\\\",\\\"Genome 15\\\"],[\\\"Genome 6\\\",\\\"Genome 15\\\"],[\\\"Genome 11\\\",\\\"Genome 15\\\"],[\\\"Genome 12\\\",\\\"Genome 15\\\"],[\\\"Genome 14\\\",\\\"Genome 15\\\"],[\\\"Genome 15\\\",\\\"Genome 15\\\"],[\\\"Genome 1\\\",\\\"Genome 15\\\"],[\\\"Genome 2\\\",\\\"Genome 15\\\"],[\\\"Genome 13\\\",\\\"Genome 15\\\"],[\\\"Genome 18\\\",\\\"Genome 15\\\"],[\\\"Genome 4\\\",\\\"Genome 15\\\"]],[[\\\"Genome 17\\\",\\\"Genome 1\\\"],[\\\"Genome 19\\\",\\\"Genome 1\\\"],[\\\"Genome 16\\\",\\\"Genome 1\\\"],[\\\"Genome 7\\\",\\\"Genome 1\\\"],[\\\"Genome 10\\\",\\\"Genome 1\\\"],[\\\"Genome 8\\\",\\\"Genome 1\\\"],[\\\"Genome 9\\\",\\\"Genome 1\\\"],[\\\"Genome 3\\\",\\\"Genome 1\\\"],[\\\"Genome 5\\\",\\\"Genome 1\\\"],[\\\"Genome 6\\\",\\\"Genome 1\\\"],[\\\"Genome 11\\\",\\\"Genome 1\\\"],[\\\"Genome 12\\\",\\\"Genome 1\\\"],[\\\"Genome 14\\\",\\\"Genome 1\\\"],[\\\"Genome 15\\\",\\\"Genome 1\\\"],[\\\"Genome 1\\\",\\\"Genome 1\\\"],[\\\"Genome 2\\\",\\\"Genome 1\\\"],[\\\"Genome 13\\\",\\\"Genome 1\\\"],[\\\"Genome 18\\\",\\\"Genome 1\\\"],[\\\"Genome 4\\\",\\\"Genome 1\\\"]],[[\\\"Genome 17\\\",\\\"Genome 2\\\"],[\\\"Genome 19\\\",\\\"Genome 2\\\"],[\\\"Genome 16\\\",\\\"Genome 2\\\"],[\\\"Genome 7\\\",\\\"Genome 2\\\"],[\\\"Genome 10\\\",\\\"Genome 2\\\"],[\\\"Genome 8\\\",\\\"Genome 2\\\"],[\\\"Genome 9\\\",\\\"Genome 2\\\"],[\\\"Genome 3\\\",\\\"Genome 2\\\"],[\\\"Genome 5\\\",\\\"Genome 2\\\"],[\\\"Genome 6\\\",\\\"Genome 2\\\"],[\\\"Genome 11\\\",\\\"Genome 2\\\"],[\\\"Genome 12\\\",\\\"Genome 2\\\"],[\\\"Genome 14\\\",\\\"Genome 2\\\"],[\\\"Genome 15\\\",\\\"Genome 2\\\"],[\\\"Genome 1\\\",\\\"Genome 2\\\"],[\\\"Genome 2\\\",\\\"Genome 2\\\"],[\\\"Genome 13\\\",\\\"Genome 2\\\"],[\\\"Genome 18\\\",\\\"Genome 2\\\"],[\\\"Genome 4\\\",\\\"Genome 2\\\"]],[[\\\"Genome 17\\\",\\\"Genome 13\\\"],[\\\"Genome 19\\\",\\\"Genome 13\\\"],[\\\"Genome 16\\\",\\\"Genome 13\\\"],[\\\"Genome 7\\\",\\\"Genome 13\\\"],[\\\"Genome 10\\\",\\\"Genome 13\\\"],[\\\"Genome 8\\\",\\\"Genome 13\\\"],[\\\"Genome 9\\\",\\\"Genome 13\\\"],[\\\"Genome 3\\\",\\\"Genome 13\\\"],[\\\"Genome 5\\\",\\\"Genome 13\\\"],[\\\"Genome 6\\\",\\\"Genome 13\\\"],[\\\"Genome 11\\\",\\\"Genome 13\\\"],[\\\"Genome 12\\\",\\\"Genome 13\\\"],[\\\"Genome 14\\\",\\\"Genome 13\\\"],[\\\"Genome 15\\\",\\\"Genome 13\\\"],[\\\"Genome 1\\\",\\\"Genome 13\\\"],[\\\"Genome 2\\\",\\\"Genome 13\\\"],[\\\"Genome 13\\\",\\\"Genome 13\\\"],[\\\"Genome 18\\\",\\\"Genome 13\\\"],[\\\"Genome 4\\\",\\\"Genome 13\\\"]],[[\\\"Genome 17\\\",\\\"Genome 18\\\"],[\\\"Genome 19\\\",\\\"Genome 18\\\"],[\\\"Genome 16\\\",\\\"Genome 18\\\"],[\\\"Genome 7\\\",\\\"Genome 18\\\"],[\\\"Genome 10\\\",\\\"Genome 18\\\"],[\\\"Genome 8\\\",\\\"Genome 18\\\"],[\\\"Genome 9\\\",\\\"Genome 18\\\"],[\\\"Genome 3\\\",\\\"Genome 18\\\"],[\\\"Genome 5\\\",\\\"Genome 18\\\"],[\\\"Genome 6\\\",\\\"Genome 18\\\"],[\\\"Genome 11\\\",\\\"Genome 18\\\"],[\\\"Genome 12\\\",\\\"Genome 18\\\"],[\\\"Genome 14\\\",\\\"Genome 18\\\"],[\\\"Genome 15\\\",\\\"Genome 18\\\"],[\\\"Genome 1\\\",\\\"Genome 18\\\"],[\\\"Genome 2\\\",\\\"Genome 18\\\"],[\\\"Genome 13\\\",\\\"Genome 18\\\"],[\\\"Genome 18\\\",\\\"Genome 18\\\"],[\\\"Genome 4\\\",\\\"Genome 18\\\"]],[[\\\"Genome 17\\\",\\\"Genome 4\\\"],[\\\"Genome 19\\\",\\\"Genome 4\\\"],[\\\"Genome 16\\\",\\\"Genome 4\\\"],[\\\"Genome 7\\\",\\\"Genome 4\\\"],[\\\"Genome 10\\\",\\\"Genome 4\\\"],[\\\"Genome 8\\\",\\\"Genome 4\\\"],[\\\"Genome 9\\\",\\\"Genome 4\\\"],[\\\"Genome 3\\\",\\\"Genome 4\\\"],[\\\"Genome 5\\\",\\\"Genome 4\\\"],[\\\"Genome 6\\\",\\\"Genome 4\\\"],[\\\"Genome 11\\\",\\\"Genome 4\\\"],[\\\"Genome 12\\\",\\\"Genome 4\\\"],[\\\"Genome 14\\\",\\\"Genome 4\\\"],[\\\"Genome 15\\\",\\\"Genome 4\\\"],[\\\"Genome 1\\\",\\\"Genome 4\\\"],[\\\"Genome 2\\\",\\\"Genome 4\\\"],[\\\"Genome 13\\\",\\\"Genome 4\\\"],[\\\"Genome 18\\\",\\\"Genome 4\\\"],[\\\"Genome 4\\\",\\\"Genome 4\\\"]]],\\\"colorscale\\\":[[0.0,\\\"#000004\\\"],[0.00392156862745098,\\\"#010005\\\"],[0.00784313725490196,\\\"#010106\\\"],[0.011764705882352941,\\\"#010108\\\"],[0.01568627450980392,\\\"#020109\\\"],[0.0196078431372549,\\\"#02020B\\\"],[0.023529411764705882,\\\"#02020D\\\"],[0.027450980392156862,\\\"#03030F\\\"],[0.03137254901960784,\\\"#030312\\\"],[0.03529411764705882,\\\"#040414\\\"],[0.0392156862745098,\\\"#050416\\\"],[0.043137254901960784,\\\"#060518\\\"],[0.047058823529411764,\\\"#06051A\\\"],[0.050980392156862744,\\\"#07061C\\\"],[0.054901960784313725,\\\"#08071E\\\"],[0.058823529411764705,\\\"#090720\\\"],[0.06274509803921569,\\\"#0A0822\\\"],[0.06666666666666667,\\\"#0B0924\\\"],[0.07058823529411765,\\\"#0C0926\\\"],[0.07450980392156863,\\\"#0D0A29\\\"],[0.0784313725490196,\\\"#0E0B2B\\\"],[0.08235294117647059,\\\"#100B2D\\\"],[0.08627450980392157,\\\"#110C2F\\\"],[0.09019607843137255,\\\"#120D31\\\"],[0.09411764705882353,\\\"#130D34\\\"],[0.09803921568627451,\\\"#140E36\\\"],[0.10196078431372549,\\\"#150E38\\\"],[0.10588235294117647,\\\"#160F3B\\\"],[0.10980392156862745,\\\"#180F3D\\\"],[0.11372549019607843,\\\"#19103F\\\"],[0.11764705882352941,\\\"#1A1042\\\"],[0.12156862745098039,\\\"#1C1044\\\"],[0.12549019607843137,\\\"#1D1147\\\"],[0.12941176470588237,\\\"#1E1149\\\"],[0.13333333333333333,\\\"#20114B\\\"],[0.13725490196078433,\\\"#21114E\\\"],[0.1411764705882353,\\\"#221150\\\"],[0.1450980392156863,\\\"#241253\\\"],[0.14901960784313725,\\\"#251255\\\"],[0.15294117647058825,\\\"#271258\\\"],[0.1568627450980392,\\\"#29115A\\\"],[0.1607843137254902,\\\"#2A115C\\\"],[0.16470588235294117,\\\"#2C115F\\\"],[0.16862745098039217,\\\"#2D1161\\\"],[0.17254901960784313,\\\"#2F1163\\\"],[0.17647058823529413,\\\"#311165\\\"],[0.1803921568627451,\\\"#331067\\\"],[0.1843137254901961,\\\"#341069\\\"],[0.18823529411764706,\\\"#36106B\\\"],[0.19215686274509805,\\\"#38106C\\\"],[0.19607843137254902,\\\"#390F6E\\\"],[0.2,\\\"#3B0F70\\\"],[0.20392156862745098,\\\"#3D0F71\\\"],[0.20784313725490197,\\\"#3F0F72\\\"],[0.21176470588235294,\\\"#400F74\\\"],[0.21568627450980393,\\\"#420F75\\\"],[0.2196078431372549,\\\"#440F76\\\"],[0.2235294117647059,\\\"#451077\\\"],[0.22745098039215686,\\\"#471078\\\"],[0.23137254901960785,\\\"#491078\\\"],[0.23529411764705882,\\\"#4A1079\\\"],[0.23921568627450981,\\\"#4C117A\\\"],[0.24313725490196078,\\\"#4E117B\\\"],[0.24705882352941178,\\\"#4F127B\\\"],[0.25098039215686274,\\\"#51127C\\\"],[0.2549019607843137,\\\"#52137C\\\"],[0.25882352941176473,\\\"#54137D\\\"],[0.2627450980392157,\\\"#56147D\\\"],[0.26666666666666666,\\\"#57157E\\\"],[0.27058823529411763,\\\"#59157E\\\"],[0.27450980392156865,\\\"#5A167E\\\"],[0.2784313725490196,\\\"#5C167F\\\"],[0.2823529411764706,\\\"#5D177F\\\"],[0.28627450980392155,\\\"#5F187F\\\"],[0.2901960784313726,\\\"#601880\\\"],[0.29411764705882354,\\\"#621980\\\"],[0.2980392156862745,\\\"#641A80\\\"],[0.30196078431372547,\\\"#651A80\\\"],[0.3058823529411765,\\\"#671B80\\\"],[0.30980392156862746,\\\"#681C81\\\"],[0.3137254901960784,\\\"#6A1C81\\\"],[0.3176470588235294,\\\"#6B1D81\\\"],[0.3215686274509804,\\\"#6D1D81\\\"],[0.3254901960784314,\\\"#6E1E81\\\"],[0.32941176470588235,\\\"#701F81\\\"],[0.3333333333333333,\\\"#721F81\\\"],[0.33725490196078434,\\\"#732081\\\"],[0.3411764705882353,\\\"#752181\\\"],[0.34509803921568627,\\\"#762181\\\"],[0.34901960784313724,\\\"#782281\\\"],[0.35294117647058826,\\\"#792282\\\"],[0.3568627450980392,\\\"#7B2382\\\"],[0.3607843137254902,\\\"#7C2382\\\"],[0.36470588235294116,\\\"#7E2482\\\"],[0.3686274509803922,\\\"#802582\\\"],[0.37254901960784315,\\\"#812581\\\"],[0.3764705882352941,\\\"#832681\\\"],[0.3803921568627451,\\\"#842681\\\"],[0.3843137254901961,\\\"#862781\\\"],[0.38823529411764707,\\\"#882781\\\"],[0.39215686274509803,\\\"#892881\\\"],[0.396078431372549,\\\"#8B2981\\\"],[0.4,\\\"#8C2981\\\"],[0.403921568627451,\\\"#8E2A81\\\"],[0.40784313725490196,\\\"#902A81\\\"],[0.4117647058823529,\\\"#912B81\\\"],[0.41568627450980394,\\\"#932B80\\\"],[0.4196078431372549,\\\"#942C80\\\"],[0.4235294117647059,\\\"#962C80\\\"],[0.42745098039215684,\\\"#982D80\\\"],[0.43137254901960786,\\\"#992D80\\\"],[0.43529411764705883,\\\"#9B2E7F\\\"],[0.4392156862745098,\\\"#9C2E7F\\\"],[0.44313725490196076,\\\"#9E2F7F\\\"],[0.4470588235294118,\\\"#A02F7F\\\"],[0.45098039215686275,\\\"#A1307E\\\"],[0.4549019607843137,\\\"#A3307E\\\"],[0.4588235294117647,\\\"#A5317E\\\"],[0.4627450980392157,\\\"#A6317D\\\"],[0.4666666666666667,\\\"#A8327D\\\"],[0.47058823529411764,\\\"#AA337D\\\"],[0.4745098039215686,\\\"#AB337C\\\"],[0.47843137254901963,\\\"#AD347C\\\"],[0.4823529411764706,\\\"#AE347B\\\"],[0.48627450980392156,\\\"#B0357B\\\"],[0.49019607843137253,\\\"#B2357B\\\"],[0.49411764705882355,\\\"#B3367A\\\"],[0.4980392156862745,\\\"#B5367A\\\"],[0.5019607843137255,\\\"#B73779\\\"],[0.5058823529411764,\\\"#B83779\\\"],[0.5098039215686274,\\\"#BA3878\\\"],[0.5137254901960784,\\\"#BC3978\\\"],[0.5176470588235295,\\\"#BD3977\\\"],[0.5215686274509804,\\\"#BF3A77\\\"],[0.5254901960784314,\\\"#C03A76\\\"],[0.5294117647058824,\\\"#C23B75\\\"],[0.5333333333333333,\\\"#C43C75\\\"],[0.5372549019607843,\\\"#C53C74\\\"],[0.5411764705882353,\\\"#C73D73\\\"],[0.5450980392156862,\\\"#C83E73\\\"],[0.5490196078431373,\\\"#CA3E72\\\"],[0.5529411764705883,\\\"#CC3F71\\\"],[0.5568627450980392,\\\"#CD4071\\\"],[0.5607843137254902,\\\"#CF4070\\\"],[0.5647058823529412,\\\"#D0416F\\\"],[0.5686274509803921,\\\"#D2426F\\\"],[0.5725490196078431,\\\"#D3436E\\\"],[0.5764705882352941,\\\"#D5446D\\\"],[0.5803921568627451,\\\"#D6456C\\\"],[0.5843137254901961,\\\"#D8456C\\\"],[0.5882352941176471,\\\"#D9466B\\\"],[0.592156862745098,\\\"#DB476A\\\"],[0.596078431372549,\\\"#DC4869\\\"],[0.6,\\\"#DE4968\\\"],[0.6039215686274509,\\\"#DF4A68\\\"],[0.6078431372549019,\\\"#E04C67\\\"],[0.611764705882353,\\\"#E24D66\\\"],[0.615686274509804,\\\"#E34E65\\\"],[0.6196078431372549,\\\"#E44F64\\\"],[0.6235294117647059,\\\"#E55064\\\"],[0.6274509803921569,\\\"#E75263\\\"],[0.6313725490196078,\\\"#E85362\\\"],[0.6352941176470588,\\\"#E95462\\\"],[0.6392156862745098,\\\"#EA5661\\\"],[0.6431372549019608,\\\"#EB5760\\\"],[0.6470588235294118,\\\"#EC5860\\\"],[0.6509803921568628,\\\"#ED5A5F\\\"],[0.6549019607843137,\\\"#EE5B5E\\\"],[0.6588235294117647,\\\"#EF5D5E\\\"],[0.6627450980392157,\\\"#F05F5E\\\"],[0.6666666666666666,\\\"#F1605D\\\"],[0.6705882352941176,\\\"#F2625D\\\"],[0.6745098039215687,\\\"#F2645C\\\"],[0.6784313725490196,\\\"#F3655C\\\"],[0.6823529411764706,\\\"#F4675C\\\"],[0.6862745098039216,\\\"#F4695C\\\"],[0.6901960784313725,\\\"#F56B5C\\\"],[0.6941176470588235,\\\"#F66C5C\\\"],[0.6980392156862745,\\\"#F66E5C\\\"],[0.7019607843137254,\\\"#F7705C\\\"],[0.7058823529411765,\\\"#F7725C\\\"],[0.7098039215686275,\\\"#F8745C\\\"],[0.7137254901960784,\\\"#F8765C\\\"],[0.7176470588235294,\\\"#F9785D\\\"],[0.7215686274509804,\\\"#F9795D\\\"],[0.7254901960784313,\\\"#F97B5D\\\"],[0.7294117647058823,\\\"#FA7D5E\\\"],[0.7333333333333333,\\\"#FA7F5E\\\"],[0.7372549019607844,\\\"#FA815F\\\"],[0.7411764705882353,\\\"#FB835F\\\"],[0.7450980392156863,\\\"#FB8560\\\"],[0.7490196078431373,\\\"#FB8761\\\"],[0.7529411764705882,\\\"#FC8961\\\"],[0.7568627450980392,\\\"#FC8A62\\\"],[0.7607843137254902,\\\"#FC8C63\\\"],[0.7647058823529411,\\\"#FC8E64\\\"],[0.7686274509803922,\\\"#FC9065\\\"],[0.7725490196078432,\\\"#FD9266\\\"],[0.7764705882352941,\\\"#FD9467\\\"],[0.7803921568627451,\\\"#FD9668\\\"],[0.7843137254901961,\\\"#FD9869\\\"],[0.788235294117647,\\\"#FD9A6A\\\"],[0.792156862745098,\\\"#FD9B6B\\\"],[0.796078431372549,\\\"#FE9D6C\\\"],[0.8,\\\"#FE9F6D\\\"],[0.803921568627451,\\\"#FEA16E\\\"],[0.807843137254902,\\\"#FEA36F\\\"],[0.8117647058823529,\\\"#FEA571\\\"],[0.8156862745098039,\\\"#FEA772\\\"],[0.8196078431372549,\\\"#FEA973\\\"],[0.8235294117647058,\\\"#FEAA74\\\"],[0.8274509803921568,\\\"#FEAC76\\\"],[0.8313725490196079,\\\"#FEAE77\\\"],[0.8352941176470589,\\\"#FEB078\\\"],[0.8392156862745098,\\\"#FEB27A\\\"],[0.8431372549019608,\\\"#FEB47B\\\"],[0.8470588235294118,\\\"#FEB67C\\\"],[0.8509803921568627,\\\"#FEB77E\\\"],[0.8549019607843137,\\\"#FEB97F\\\"],[0.8588235294117647,\\\"#FEBB81\\\"],[0.8627450980392157,\\\"#FEBD82\\\"],[0.8666666666666667,\\\"#FEBF84\\\"],[0.8705882352941177,\\\"#FEC185\\\"],[0.8745098039215686,\\\"#FEC287\\\"],[0.8784313725490196,\\\"#FEC488\\\"],[0.8823529411764706,\\\"#FEC68A\\\"],[0.8862745098039215,\\\"#FEC88C\\\"],[0.8901960784313725,\\\"#FECA8D\\\"],[0.8941176470588236,\\\"#FECC8F\\\"],[0.8980392156862745,\\\"#FECD90\\\"],[0.9019607843137255,\\\"#FECF92\\\"],[0.9058823529411765,\\\"#FED194\\\"],[0.9098039215686274,\\\"#FED395\\\"],[0.9137254901960784,\\\"#FED597\\\"],[0.9176470588235294,\\\"#FED799\\\"],[0.9215686274509803,\\\"#FED89A\\\"],[0.9254901960784314,\\\"#FDDA9C\\\"],[0.9294117647058824,\\\"#FDDC9E\\\"],[0.9333333333333333,\\\"#FDDEA0\\\"],[0.9372549019607843,\\\"#FDE0A1\\\"],[0.9411764705882353,\\\"#FDE2A3\\\"],[0.9450980392156862,\\\"#FDE3A5\\\"],[0.9490196078431372,\\\"#FDE5A7\\\"],[0.9529411764705882,\\\"#FDE7A9\\\"],[0.9568627450980393,\\\"#FDE9AA\\\"],[0.9607843137254902,\\\"#FDEBAC\\\"],[0.9647058823529412,\\\"#FCECAE\\\"],[0.9686274509803922,\\\"#FCEEB0\\\"],[0.9725490196078431,\\\"#FCF0B2\\\"],[0.9764705882352941,\\\"#FCF2B4\\\"],[0.9803921568627451,\\\"#FCF4B6\\\"],[0.984313725490196,\\\"#FCF6B8\\\"],[0.9882352941176471,\\\"#FCF7B9\\\"],[0.9921568627450981,\\\"#FCF9BB\\\"],[0.996078431372549,\\\"#FCFBBD\\\"],[1.0,\\\"#FCFDBF\\\"]],\\\"z\\\":[[0.0,0.33562243,0.40521163,0.98988825,0.99255264,0.98804605,0.99293864,0.9898287,0.9921665,0.9895384,0.98933303,0.9921477,0.98750526,0.98736346,0.98727196,0.9882046,0.9868755,0.9880044,0.9861469],[0.33562243,0.0,0.3851998,0.9926061,0.9939058,0.99091905,0.99441403,0.9927794,0.9933997,0.99141395,0.9912052,0.9935822,0.9907036,0.99008083,0.99071705,0.9911765,0.98888516,0.98955584,0.98864496],[0.40521163,0.3851998,0.0,0.99231905,0.9885119,0.99033195,0.993871,0.992381,0.9932023,0.9909295,0.99040204,0.99274904,0.98529565,0.98994493,0.9851485,0.9838961,0.982331,0.98438686,0.9833547],[0.98988825,0.9926061,0.99231905,0.0,0.25350773,0.35903183,0.35032856,0.3644552,0.3943601,0.39517182,0.41721997,0.45673177,0.8692376,0.87424606,0.8712664,0.88021517,0.86997485,0.8709927,0.8691759],[0.99255264,0.9939058,0.9885119,0.25350773,0.0,0.38093087,0.34209913,0.38417202,0.396193,0.41043133,0.42190227,0.45675904,0.86340207,0.877457,0.8643756,0.8760983,0.8630491,0.86346984,0.8637072],[0.98804605,0.99091905,0.99033195,0.35903183,0.38093087,0.0,0.34644935,0.36733317,0.3795424,0.38216132,0.38981915,0.44736284,0.8675958,0.87025267,0.8687922,0.87198323,0.86842954,0.8705733,0.8706522],[0.99293864,0.99441403,0.993871,0.35032856,0.34209913,0.34644935,0.0,0.36686257,0.3647541,0.37884963,0.39883876,0.43403524,0.87293404,0.8760664,0.87333024,0.88129765,0.8711974,0.87222844,0.87227076],[0.9898287,0.9927794,0.992381,0.3644552,0.38417202,0.36733317,0.36686257,0.0,0.36697045,0.39244953,0.41713423,0.43818104,0.8740367,0.87797123,0.87477505,0.88382953,0.8727703,0.8746306,0.8729046],[0.9921665,0.9933997,0.9932023,0.3943601,0.396193,0.3795424,0.3647541,0.36697045,0.0,0.40398946,0.40507436,0.44751728,0.8712087,0.8775137,0.8720895,0.8796405,0.8744053,0.8744914,0.87379384],[0.9895384,0.99141395,0.9909295,0.39517182,0.41043133,0.38216132,0.37884963,0.39244953,0.40398946,0.0,0.40241757,0.44680405,0.86685723,0.87104213,0.8694132,0.87707347,0.87034965,0.868529,0.86952496],[0.98933303,0.9912052,0.99040204,0.41721997,0.42190227,0.38981915,0.39883876,0.41713423,0.40507436,0.40241757,0.0,0.4705396,0.8571212,0.86094767,0.8560897,0.869248,0.86660266,0.8698253,0.8637982],[0.9921477,0.9935822,0.99274904,0.45673177,0.45675904,0.44736284,0.43403524,0.43818104,0.44751728,0.44680405,0.4705396,0.0,0.8665483,0.87150836,0.8685509,0.8785631,0.866226,0.86606586,0.8636502],[0.98750526,0.9907036,0.98529565,0.8692376,0.86340207,0.8675958,0.87293404,0.8740367,0.8712087,0.86685723,0.8571212,0.8665483,0.0,0.292087,0.47397587,0.46442533,0.73314947,0.73826075,0.69749916],[0.98736346,0.99008083,0.98994493,0.87424606,0.877457,0.87025267,0.8760664,0.87797123,0.8775137,0.87104213,0.86094767,0.87150836,0.292087,0.0,0.48824593,0.48348823,0.7330621,0.74420214,0.6969431],[0.98727196,0.99071705,0.9851485,0.8712664,0.8643756,0.8687922,0.87333024,0.87477505,0.8720895,0.8694132,0.8560897,0.8685509,0.47397587,0.48824593,0.0,0.45459977,0.73203987,0.73397654,0.7028848],[0.9882046,0.9911765,0.9838961,0.88021517,0.8760983,0.87198323,0.88129765,0.88382953,0.8796405,0.87707347,0.869248,0.8785631,0.46442533,0.48348823,0.45459977,0.0,0.74550694,0.748664,0.7355031],[0.9868755,0.98888516,0.982331,0.86997485,0.8630491,0.86842954,0.8711974,0.8727703,0.8744053,0.87034965,0.86660266,0.866226,0.73314947,0.7330621,0.73203987,0.74550694,0.0,0.37421456,0.63058054],[0.9880044,0.98955584,0.98438686,0.8709927,0.86346984,0.8705733,0.87222844,0.8746306,0.8744914,0.868529,0.8698253,0.86606586,0.73826075,0.74420214,0.73397654,0.748664,0.37421456,0.0,0.65458935],[0.9861469,0.98864496,0.9833547,0.8691759,0.8637072,0.8706522,0.87227076,0.8729046,0.87379384,0.86952496,0.8637982,0.8636502,0.69749916,0.6969431,0.7028848,0.7355031,0.63058054,0.65458935,0.0]],\\\"hovertemplate\\\":\\\"%{customdata[0]}<br>\\\\n%{customdata[1]}<br>\\\\n%{z:.3f}\\\\n<extra><\\/extra>\\\\n\\\",\\\"x\\\":[0.5,1.5,2.5,3.5,4.5,5.5,6.5,7.5,8.5,9.5,10.5,11.5,12.5,13.5,14.5,15.5,16.5,17.5,18.5,19.5]}],{\\\"showlegend\\\":false,\\\"xaxis\\\":{\\\"rangemode\\\":\\\"nonnegative\\\",\\\"domain\\\":[0.0,0.2836879432624113],\\\"autorange\\\":\\\"reversed\\\"},\\\"hovermode\\\":\\\"closest\\\",\\\"xaxis2\\\":{\\\"scaleanchor\\\":\\\"y\\\",\\\"visible\\\":false,\\\"domain\\\":[0.2907801418439716,1.0]},\\\"height\\\":800,\\\"margin\\\":{\\\"l\\\":50,\\\"b\\\":50,\\\"r\\\":50,\\\"t\\\":60},\\\"yaxis\\\":{\\\"visible\\\":false},\\\"width\\\":1000},{}); gd.on(\\\"plotly_hover\\\",(function (data){var filtered_data=WebIO.PlotlyCommands.filterEventData(gd,data,\\\"hover\\\"); return !(filtered_data.isnil) ? (WebIO.setval({\\\"name\\\":\\\"hover\\\",\\\"scope\\\":\\\"364534108648821215\\\",\\\"id\\\":\\\"11632974890091798645\\\",\\\"type\\\":\\\"observable\\\"},filtered_data.out)) : undefined})); gd.on(\\\"plotly_unhover\\\",(function (){return WebIO.setval({\\\"name\\\":\\\"hover\\\",\\\"scope\\\":\\\"364534108648821215\\\",\\\"id\\\":\\\"11632974890091798645\\\",\\\"type\\\":\\\"observable\\\"},{})})); gd.on(\\\"plotly_selected\\\",(function (data){var filtered_data=WebIO.PlotlyCommands.filterEventData(gd,data,\\\"selected\\\"); return !(filtered_data.isnil) ? (WebIO.setval({\\\"name\\\":\\\"selected\\\",\\\"scope\\\":\\\"364534108648821215\\\",\\\"id\\\":\\\"7967630146355724850\\\",\\\"type\\\":\\\"observable\\\"},filtered_data.out)) : undefined})); gd.on(\\\"plotly_deselect\\\",(function (){return WebIO.setval({\\\"name\\\":\\\"selected\\\",\\\"scope\\\":\\\"364534108648821215\\\",\\\"id\\\":\\\"7967630146355724850\\\",\\\"type\\\":\\\"observable\\\"},{})})); gd.on(\\\"plotly_relayout\\\",(function (data){var filtered_data=WebIO.PlotlyCommands.filterEventData(gd,data,\\\"relayout\\\"); return !(filtered_data.isnil) ? (WebIO.setval({\\\"name\\\":\\\"relayout\\\",\\\"scope\\\":\\\"364534108648821215\\\",\\\"id\\\":\\\"15305231176808189922\\\",\\\"type\\\":\\\"observable\\\"},filtered_data.out)) : undefined})); return gd.on(\\\"plotly_click\\\",(function (data){var filtered_data=WebIO.PlotlyCommands.filterEventData(gd,data,\\\"click\\\"); return !(filtered_data.isnil) ? (WebIO.setval({\\\"name\\\":\\\"click\\\",\\\"scope\\\":\\\"364534108648821215\\\",\\\"id\\\":\\\"7000814659475627478\\\",\\\"type\\\":\\\"observable\\\"},filtered_data.out)) : undefined}))}));\\n    (WebIO.importBlock({\\\"data\\\":[{\\\"name\\\":\\\"Plotly\\\",\\\"type\\\":\\\"js\\\",\\\"url\\\":\\\"\\/assetserver\\/e6903599031aaef8675931dfcd7df98a1aeffbfc-plotly-latest.min.js\\\"},{\\\"name\\\":null,\\\"type\\\":\\\"js\\\",\\\"url\\\":\\\"\\/assetserver\\/74a5dea81f21b0b802ef1ee92f1c8a504eac1a0c-plotly_webio.bundle.js\\\"}],\\\"type\\\":\\\"async_block\\\"})).then((imports) => handler.apply(this, imports));\\n}\\n\"],\"observables\":{\"_toImage\":{\"sync\":false,\"id\":\"13004366821745642977\",\"value\":{}},\"hover\":{\"sync\":false,\"id\":\"11632974890091798645\",\"value\":{}},\"selected\":{\"sync\":false,\"id\":\"7967630146355724850\",\"value\":{}},\"__gd_contents\":{\"sync\":false,\"id\":\"17103382453739547548\",\"value\":{}},\"click\":{\"sync\":false,\"id\":\"7000814659475627478\",\"value\":{}},\"image\":{\"sync\":true,\"id\":\"15873756629404642396\",\"value\":\"\"},\"__get_gd_contents\":{\"sync\":false,\"id\":\"17626426590652005842\",\"value\":\"\"},\"_downloadImage\":{\"sync\":false,\"id\":\"18382003667282212104\",\"value\":{}},\"relayout\":{\"sync\":false,\"id\":\"15305231176808189922\",\"value\":{}},\"_commands\":{\"sync\":false,\"id\":\"15017759841502899442\",\"value\":[]}}},\"children\":[{\"props\":{\"id\":\"plot-a1395eb0-1ba6-416f-964e-1b04d809124a\"},\"nodeType\":\"DOM\",\"type\":\"node\",\"instanceArgs\":{\"namespace\":\"html\",\"tag\":\"div\"},\"children\":[]}]},\n",
       "            window,\n",
       "        );\n",
       "    } else {\n",
       "        document\n",
       "            .querySelector('[data-webio-mountpoint=\"13409671430522881064\"]')\n",
       "            .innerHTML = (\n",
       "                '<div style=\"padding: 1em; background-color: #f8d6da; border: 1px solid #f5c6cb\">' +\n",
       "                '<p><strong>WebIO not detected.</strong></p>' +\n",
       "                '<p>Please read ' +\n",
       "                '<a href=\"https://juliagizmos.github.io/WebIO.jl/latest/troubleshooting/not-detected/\" target=\"_blank\">the troubleshooting guide</a> ' +\n",
       "                'for more information on how to resolve this issue.</p>' +\n",
       "                '<p><a href=\"https://juliagizmos.github.io/WebIO.jl/latest/troubleshooting/not-detected/\" target=\"_blank\">https://juliagizmos.github.io/WebIO.jl/latest/troubleshooting/not-detected/</a></p>' +\n",
       "                '</div>'\n",
       "            );\n",
       "    }\n",
       "    </script>\n",
       "</div>\n"
      ],
      "text/plain": [
       "data: [\n",
       "  \"scatter with fields hoverinfo, line, mode, showlegend, type, x, and y\",\n",
       "  \"scatter with fields hoverinfo, line, mode, showlegend, type, x, and y\",\n",
       "  \"scatter with fields hoverinfo, line, mode, showlegend, type, x, and y\",\n",
       "  \"scatter with fields hoverinfo, line, mode, showlegend, type, x, and y\",\n",
       "  \"scatter with fields hoverinfo, line, mode, showlegend, type, x, and y\",\n",
       "  \"scatter with fields hoverinfo, line, mode, showlegend, type, x, and y\",\n",
       "  \"scatter with fields hoverinfo, line, mode, showlegend, type, x, and y\",\n",
       "  \"scatter with fields hoverinfo, line, mode, showlegend, type, x, and y\",\n",
       "  \"scatter with fields hoverinfo, line, mode, showlegend, type, x, and y\",\n",
       "  \"scatter with fields hoverinfo, line, mode, showlegend, type, x, and y\",\n",
       "  \"scatter with fields hoverinfo, line, mode, showlegend, type, x, and y\",\n",
       "  \"scatter with fields hoverinfo, line, mode, showlegend, type, x, and y\",\n",
       "  \"scatter with fields hoverinfo, line, mode, showlegend, type, x, and y\",\n",
       "  \"scatter with fields hoverinfo, line, mode, showlegend, type, x, and y\",\n",
       "  \"scatter with fields hoverinfo, line, mode, showlegend, type, x, and y\",\n",
       "  \"scatter with fields hoverinfo, line, mode, showlegend, type, x, and y\",\n",
       "  \"scatter with fields hoverinfo, line, mode, showlegend, type, x, and y\",\n",
       "  \"scatter with fields hoverinfo, line, mode, showlegend, type, x, and y\",\n",
       "  \"scatter with fields customdata, hovertemplate, marker, mode, showlegend, text, type, x, and y\",\n",
       "  \"heatmap with fields colorscale, customdata, hovertemplate, type, x, xaxis, y, and z\"\n",
       "]\n",
       "\n",
       "layout: \"layout with fields height, hovermode, margin, showlegend, width, xaxis, xaxis2, and yaxis\"\n",
       "\n"
      ]
     },
     "execution_count": 47,
     "metadata": {
      "@webio": {
       "kernelId": "3ebffe02-9971-46bb-a883-43a190711b66"
      }
     },
     "output_type": "execute_result"
    }
   ],
   "source": [
    "let\n",
    "    # X axes\n",
    "    xaxes = subplot_axes!(\n",
    "        [\n",
    "            attr(\n",
    "                rangemode=:nonnegative,\n",
    "                autorange=:reversed,\n",
    "            ),\n",
    "            attr(\n",
    "                visible=false,\n",
    "                scaleanchor=:y,\n",
    "            ),\n",
    "        ],\n",
    "        [.4, 1.],\n",
    "        sep=.01,\n",
    "    )\n",
    "    \n",
    "    # Dendrogram\n",
    "    pdg = PlotlyDendrogram(dg, horizontal=true, branch_attr=attr(line_color=:gray))\n",
    "    \n",
    "    vector_attrs!(pdg.nodes_trace, pdg.node_ids) do id\n",
    "        node = tree.nodes[id]\n",
    "        return Dict(\n",
    "            :text => string(id),\n",
    "            :customdata => [\n",
    "                node.count,\n",
    "            ],\n",
    "        )\n",
    "    end\n",
    "    \n",
    "    merge!(pdg.nodes_trace, attr(\n",
    "        hovertemplate=\"\"\"\n",
    "        <b>%{text}</b><br>\n",
    "        %{x:.3f}<br>\n",
    "        %{customdata[0]} genomes\n",
    "        <extra></extra>\n",
    "        \"\"\",\n",
    "        marker_color=:blue,\n",
    "            \n",
    "    ))\n",
    "    \n",
    "    # Heatmap\n",
    "    edges = dgleaf_edges(dg)\n",
    "    leaf_names = [id <= tree.n ? \"Genome $id\" : \"Cluster $id\" for id in dg.leaves]\n",
    "    \n",
    "    hm_t = heatmap(\n",
    "        z=hclust_node_dists(tree, d, dg.leaves),\n",
    "        x=edges,\n",
    "        y=edges,\n",
    "        customdata=[[t1, t2] for t1 in leaf_names, t2 in leaf_names],\n",
    "        hovertemplate=\"\"\"\n",
    "        %{customdata[0]}<br>\n",
    "        %{customdata[1]}<br>\n",
    "        %{z:.3f}\n",
    "        <extra></extra>\n",
    "        \"\"\",\n",
    "        colorscale=make_colorscale(:magma),\n",
    "        xaxis=\"x2\",\n",
    "    )\n",
    "    \n",
    "    layout = Layout(\n",
    "        yaxis=attr(\n",
    "            visible=false,\n",
    "        ),\n",
    "        showlegend=false,\n",
    "        hovermode=:closest,\n",
    "        width=1000,\n",
    "        height=800,\n",
    "    )\n",
    "    setaxes!(layout, :x, xaxes)\n",
    "    \n",
    "    return plot(vcat(gettraces(pdg), [hm_t]), layout)\n",
    "end"
   ]
  },
  {
   "cell_type": "code",
   "execution_count": 52,
   "metadata": {},
   "outputs": [],
   "source": [
    "magma = make_colorscale(:magma);"
   ]
  },
  {
   "cell_type": "code",
   "execution_count": 57,
   "metadata": {},
   "outputs": [
    {
     "data": {
      "text/plain": [
       "19×19 Array{Float32,2}:\n",
       " 0.0  0.335622  0.405212  0.986147  0.986875  …  0.992167  0.992553  0.992939\n",
       " 0.0  0.335622  0.3852    0.988645  0.988885     0.993582  0.993906  0.994414\n",
       " 0.0  0.3852    0.405212  0.982331  0.983355     0.992749  0.993202  0.993871\n",
       " 0.0  0.253508  0.350329  0.359032  0.364455     0.989888  0.992319  0.992606\n",
       " 0.0  0.253508  0.342099  0.380931  0.384172     0.988512  0.992553  0.993906\n",
       " 0.0  0.346449  0.359032  0.367333  0.379542  …  0.988046  0.990332  0.990919\n",
       " 0.0  0.342099  0.346449  0.350329  0.364754     0.992939  0.993871  0.994414\n",
       " 0.0  0.364455  0.366863  0.36697   0.367333     0.989829  0.992381  0.992779\n",
       " 0.0  0.364754  0.36697   0.379542  0.39436      0.992167  0.993202  0.9934\n",
       " 0.0  0.37885   0.382161  0.39245   0.395172     0.989538  0.990929  0.991414\n",
       " 0.0  0.389819  0.398839  0.402418  0.405074  …  0.989333  0.990402  0.991205\n",
       " 0.0  0.434035  0.438181  0.446804  0.447363     0.992148  0.992749  0.993582\n",
       " 0.0  0.292087  0.464425  0.473976  0.697499     0.985296  0.987505  0.990704\n",
       " 0.0  0.292087  0.483488  0.488246  0.696943     0.987363  0.989945  0.990081\n",
       " 0.0  0.4546    0.473976  0.488246  0.702885     0.985148  0.987272  0.990717\n",
       " 0.0  0.4546    0.464425  0.483488  0.735503  …  0.983896  0.988205  0.991176\n",
       " 0.0  0.374215  0.630581  0.73204   0.733062     0.982331  0.986875  0.988885\n",
       " 0.0  0.374215  0.654589  0.733977  0.738261     0.984387  0.988004  0.989556\n",
       " 0.0  0.630581  0.654589  0.696943  0.697499     0.983355  0.986147  0.988645"
      ]
     },
     "execution_count": 57,
     "metadata": {},
     "output_type": "execute_result"
    }
   ],
   "source": [
    "d2 = d[dg.leaves, :]\n",
    "sort!(d2, dims=2)"
   ]
  },
  {
   "cell_type": "code",
   "execution_count": 60,
   "metadata": {},
   "outputs": [
    {
     "data": {
      "application/vnd.plotly.v1+json": {
       "data": [
        {
         "colorscale": [
          [
           0,
           "#000004"
          ],
          [
           0.00392156862745098,
           "#010005"
          ],
          [
           0.00784313725490196,
           "#010106"
          ],
          [
           0.011764705882352941,
           "#010108"
          ],
          [
           0.01568627450980392,
           "#020109"
          ],
          [
           0.0196078431372549,
           "#02020B"
          ],
          [
           0.023529411764705882,
           "#02020D"
          ],
          [
           0.027450980392156862,
           "#03030F"
          ],
          [
           0.03137254901960784,
           "#030312"
          ],
          [
           0.03529411764705882,
           "#040414"
          ],
          [
           0.0392156862745098,
           "#050416"
          ],
          [
           0.043137254901960784,
           "#060518"
          ],
          [
           0.047058823529411764,
           "#06051A"
          ],
          [
           0.050980392156862744,
           "#07061C"
          ],
          [
           0.054901960784313725,
           "#08071E"
          ],
          [
           0.058823529411764705,
           "#090720"
          ],
          [
           0.06274509803921569,
           "#0A0822"
          ],
          [
           0.06666666666666667,
           "#0B0924"
          ],
          [
           0.07058823529411765,
           "#0C0926"
          ],
          [
           0.07450980392156863,
           "#0D0A29"
          ],
          [
           0.0784313725490196,
           "#0E0B2B"
          ],
          [
           0.08235294117647059,
           "#100B2D"
          ],
          [
           0.08627450980392157,
           "#110C2F"
          ],
          [
           0.09019607843137255,
           "#120D31"
          ],
          [
           0.09411764705882353,
           "#130D34"
          ],
          [
           0.09803921568627451,
           "#140E36"
          ],
          [
           0.10196078431372549,
           "#150E38"
          ],
          [
           0.10588235294117647,
           "#160F3B"
          ],
          [
           0.10980392156862745,
           "#180F3D"
          ],
          [
           0.11372549019607843,
           "#19103F"
          ],
          [
           0.11764705882352941,
           "#1A1042"
          ],
          [
           0.12156862745098039,
           "#1C1044"
          ],
          [
           0.12549019607843137,
           "#1D1147"
          ],
          [
           0.12941176470588237,
           "#1E1149"
          ],
          [
           0.13333333333333333,
           "#20114B"
          ],
          [
           0.13725490196078433,
           "#21114E"
          ],
          [
           0.1411764705882353,
           "#221150"
          ],
          [
           0.1450980392156863,
           "#241253"
          ],
          [
           0.14901960784313725,
           "#251255"
          ],
          [
           0.15294117647058825,
           "#271258"
          ],
          [
           0.1568627450980392,
           "#29115A"
          ],
          [
           0.1607843137254902,
           "#2A115C"
          ],
          [
           0.16470588235294117,
           "#2C115F"
          ],
          [
           0.16862745098039217,
           "#2D1161"
          ],
          [
           0.17254901960784313,
           "#2F1163"
          ],
          [
           0.17647058823529413,
           "#311165"
          ],
          [
           0.1803921568627451,
           "#331067"
          ],
          [
           0.1843137254901961,
           "#341069"
          ],
          [
           0.18823529411764706,
           "#36106B"
          ],
          [
           0.19215686274509805,
           "#38106C"
          ],
          [
           0.19607843137254902,
           "#390F6E"
          ],
          [
           0.2,
           "#3B0F70"
          ],
          [
           0.20392156862745098,
           "#3D0F71"
          ],
          [
           0.20784313725490197,
           "#3F0F72"
          ],
          [
           0.21176470588235294,
           "#400F74"
          ],
          [
           0.21568627450980393,
           "#420F75"
          ],
          [
           0.2196078431372549,
           "#440F76"
          ],
          [
           0.2235294117647059,
           "#451077"
          ],
          [
           0.22745098039215686,
           "#471078"
          ],
          [
           0.23137254901960785,
           "#491078"
          ],
          [
           0.23529411764705882,
           "#4A1079"
          ],
          [
           0.23921568627450981,
           "#4C117A"
          ],
          [
           0.24313725490196078,
           "#4E117B"
          ],
          [
           0.24705882352941178,
           "#4F127B"
          ],
          [
           0.25098039215686274,
           "#51127C"
          ],
          [
           0.2549019607843137,
           "#52137C"
          ],
          [
           0.25882352941176473,
           "#54137D"
          ],
          [
           0.2627450980392157,
           "#56147D"
          ],
          [
           0.26666666666666666,
           "#57157E"
          ],
          [
           0.27058823529411763,
           "#59157E"
          ],
          [
           0.27450980392156865,
           "#5A167E"
          ],
          [
           0.2784313725490196,
           "#5C167F"
          ],
          [
           0.2823529411764706,
           "#5D177F"
          ],
          [
           0.28627450980392155,
           "#5F187F"
          ],
          [
           0.2901960784313726,
           "#601880"
          ],
          [
           0.29411764705882354,
           "#621980"
          ],
          [
           0.2980392156862745,
           "#641A80"
          ],
          [
           0.30196078431372547,
           "#651A80"
          ],
          [
           0.3058823529411765,
           "#671B80"
          ],
          [
           0.30980392156862746,
           "#681C81"
          ],
          [
           0.3137254901960784,
           "#6A1C81"
          ],
          [
           0.3176470588235294,
           "#6B1D81"
          ],
          [
           0.3215686274509804,
           "#6D1D81"
          ],
          [
           0.3254901960784314,
           "#6E1E81"
          ],
          [
           0.32941176470588235,
           "#701F81"
          ],
          [
           0.3333333333333333,
           "#721F81"
          ],
          [
           0.33725490196078434,
           "#732081"
          ],
          [
           0.3411764705882353,
           "#752181"
          ],
          [
           0.34509803921568627,
           "#762181"
          ],
          [
           0.34901960784313724,
           "#782281"
          ],
          [
           0.35294117647058826,
           "#792282"
          ],
          [
           0.3568627450980392,
           "#7B2382"
          ],
          [
           0.3607843137254902,
           "#7C2382"
          ],
          [
           0.36470588235294116,
           "#7E2482"
          ],
          [
           0.3686274509803922,
           "#802582"
          ],
          [
           0.37254901960784315,
           "#812581"
          ],
          [
           0.3764705882352941,
           "#832681"
          ],
          [
           0.3803921568627451,
           "#842681"
          ],
          [
           0.3843137254901961,
           "#862781"
          ],
          [
           0.38823529411764707,
           "#882781"
          ],
          [
           0.39215686274509803,
           "#892881"
          ],
          [
           0.396078431372549,
           "#8B2981"
          ],
          [
           0.4,
           "#8C2981"
          ],
          [
           0.403921568627451,
           "#8E2A81"
          ],
          [
           0.40784313725490196,
           "#902A81"
          ],
          [
           0.4117647058823529,
           "#912B81"
          ],
          [
           0.41568627450980394,
           "#932B80"
          ],
          [
           0.4196078431372549,
           "#942C80"
          ],
          [
           0.4235294117647059,
           "#962C80"
          ],
          [
           0.42745098039215684,
           "#982D80"
          ],
          [
           0.43137254901960786,
           "#992D80"
          ],
          [
           0.43529411764705883,
           "#9B2E7F"
          ],
          [
           0.4392156862745098,
           "#9C2E7F"
          ],
          [
           0.44313725490196076,
           "#9E2F7F"
          ],
          [
           0.4470588235294118,
           "#A02F7F"
          ],
          [
           0.45098039215686275,
           "#A1307E"
          ],
          [
           0.4549019607843137,
           "#A3307E"
          ],
          [
           0.4588235294117647,
           "#A5317E"
          ],
          [
           0.4627450980392157,
           "#A6317D"
          ],
          [
           0.4666666666666667,
           "#A8327D"
          ],
          [
           0.47058823529411764,
           "#AA337D"
          ],
          [
           0.4745098039215686,
           "#AB337C"
          ],
          [
           0.47843137254901963,
           "#AD347C"
          ],
          [
           0.4823529411764706,
           "#AE347B"
          ],
          [
           0.48627450980392156,
           "#B0357B"
          ],
          [
           0.49019607843137253,
           "#B2357B"
          ],
          [
           0.49411764705882355,
           "#B3367A"
          ],
          [
           0.4980392156862745,
           "#B5367A"
          ],
          [
           0.5019607843137255,
           "#B73779"
          ],
          [
           0.5058823529411764,
           "#B83779"
          ],
          [
           0.5098039215686274,
           "#BA3878"
          ],
          [
           0.5137254901960784,
           "#BC3978"
          ],
          [
           0.5176470588235295,
           "#BD3977"
          ],
          [
           0.5215686274509804,
           "#BF3A77"
          ],
          [
           0.5254901960784314,
           "#C03A76"
          ],
          [
           0.5294117647058824,
           "#C23B75"
          ],
          [
           0.5333333333333333,
           "#C43C75"
          ],
          [
           0.5372549019607843,
           "#C53C74"
          ],
          [
           0.5411764705882353,
           "#C73D73"
          ],
          [
           0.5450980392156862,
           "#C83E73"
          ],
          [
           0.5490196078431373,
           "#CA3E72"
          ],
          [
           0.5529411764705883,
           "#CC3F71"
          ],
          [
           0.5568627450980392,
           "#CD4071"
          ],
          [
           0.5607843137254902,
           "#CF4070"
          ],
          [
           0.5647058823529412,
           "#D0416F"
          ],
          [
           0.5686274509803921,
           "#D2426F"
          ],
          [
           0.5725490196078431,
           "#D3436E"
          ],
          [
           0.5764705882352941,
           "#D5446D"
          ],
          [
           0.5803921568627451,
           "#D6456C"
          ],
          [
           0.5843137254901961,
           "#D8456C"
          ],
          [
           0.5882352941176471,
           "#D9466B"
          ],
          [
           0.592156862745098,
           "#DB476A"
          ],
          [
           0.596078431372549,
           "#DC4869"
          ],
          [
           0.6,
           "#DE4968"
          ],
          [
           0.6039215686274509,
           "#DF4A68"
          ],
          [
           0.6078431372549019,
           "#E04C67"
          ],
          [
           0.611764705882353,
           "#E24D66"
          ],
          [
           0.615686274509804,
           "#E34E65"
          ],
          [
           0.6196078431372549,
           "#E44F64"
          ],
          [
           0.6235294117647059,
           "#E55064"
          ],
          [
           0.6274509803921569,
           "#E75263"
          ],
          [
           0.6313725490196078,
           "#E85362"
          ],
          [
           0.6352941176470588,
           "#E95462"
          ],
          [
           0.6392156862745098,
           "#EA5661"
          ],
          [
           0.6431372549019608,
           "#EB5760"
          ],
          [
           0.6470588235294118,
           "#EC5860"
          ],
          [
           0.6509803921568628,
           "#ED5A5F"
          ],
          [
           0.6549019607843137,
           "#EE5B5E"
          ],
          [
           0.6588235294117647,
           "#EF5D5E"
          ],
          [
           0.6627450980392157,
           "#F05F5E"
          ],
          [
           0.6666666666666666,
           "#F1605D"
          ],
          [
           0.6705882352941176,
           "#F2625D"
          ],
          [
           0.6745098039215687,
           "#F2645C"
          ],
          [
           0.6784313725490196,
           "#F3655C"
          ],
          [
           0.6823529411764706,
           "#F4675C"
          ],
          [
           0.6862745098039216,
           "#F4695C"
          ],
          [
           0.6901960784313725,
           "#F56B5C"
          ],
          [
           0.6941176470588235,
           "#F66C5C"
          ],
          [
           0.6980392156862745,
           "#F66E5C"
          ],
          [
           0.7019607843137254,
           "#F7705C"
          ],
          [
           0.7058823529411765,
           "#F7725C"
          ],
          [
           0.7098039215686275,
           "#F8745C"
          ],
          [
           0.7137254901960784,
           "#F8765C"
          ],
          [
           0.7176470588235294,
           "#F9785D"
          ],
          [
           0.7215686274509804,
           "#F9795D"
          ],
          [
           0.7254901960784313,
           "#F97B5D"
          ],
          [
           0.7294117647058823,
           "#FA7D5E"
          ],
          [
           0.7333333333333333,
           "#FA7F5E"
          ],
          [
           0.7372549019607844,
           "#FA815F"
          ],
          [
           0.7411764705882353,
           "#FB835F"
          ],
          [
           0.7450980392156863,
           "#FB8560"
          ],
          [
           0.7490196078431373,
           "#FB8761"
          ],
          [
           0.7529411764705882,
           "#FC8961"
          ],
          [
           0.7568627450980392,
           "#FC8A62"
          ],
          [
           0.7607843137254902,
           "#FC8C63"
          ],
          [
           0.7647058823529411,
           "#FC8E64"
          ],
          [
           0.7686274509803922,
           "#FC9065"
          ],
          [
           0.7725490196078432,
           "#FD9266"
          ],
          [
           0.7764705882352941,
           "#FD9467"
          ],
          [
           0.7803921568627451,
           "#FD9668"
          ],
          [
           0.7843137254901961,
           "#FD9869"
          ],
          [
           0.788235294117647,
           "#FD9A6A"
          ],
          [
           0.792156862745098,
           "#FD9B6B"
          ],
          [
           0.796078431372549,
           "#FE9D6C"
          ],
          [
           0.8,
           "#FE9F6D"
          ],
          [
           0.803921568627451,
           "#FEA16E"
          ],
          [
           0.807843137254902,
           "#FEA36F"
          ],
          [
           0.8117647058823529,
           "#FEA571"
          ],
          [
           0.8156862745098039,
           "#FEA772"
          ],
          [
           0.8196078431372549,
           "#FEA973"
          ],
          [
           0.8235294117647058,
           "#FEAA74"
          ],
          [
           0.8274509803921568,
           "#FEAC76"
          ],
          [
           0.8313725490196079,
           "#FEAE77"
          ],
          [
           0.8352941176470589,
           "#FEB078"
          ],
          [
           0.8392156862745098,
           "#FEB27A"
          ],
          [
           0.8431372549019608,
           "#FEB47B"
          ],
          [
           0.8470588235294118,
           "#FEB67C"
          ],
          [
           0.8509803921568627,
           "#FEB77E"
          ],
          [
           0.8549019607843137,
           "#FEB97F"
          ],
          [
           0.8588235294117647,
           "#FEBB81"
          ],
          [
           0.8627450980392157,
           "#FEBD82"
          ],
          [
           0.8666666666666667,
           "#FEBF84"
          ],
          [
           0.8705882352941177,
           "#FEC185"
          ],
          [
           0.8745098039215686,
           "#FEC287"
          ],
          [
           0.8784313725490196,
           "#FEC488"
          ],
          [
           0.8823529411764706,
           "#FEC68A"
          ],
          [
           0.8862745098039215,
           "#FEC88C"
          ],
          [
           0.8901960784313725,
           "#FECA8D"
          ],
          [
           0.8941176470588236,
           "#FECC8F"
          ],
          [
           0.8980392156862745,
           "#FECD90"
          ],
          [
           0.9019607843137255,
           "#FECF92"
          ],
          [
           0.9058823529411765,
           "#FED194"
          ],
          [
           0.9098039215686274,
           "#FED395"
          ],
          [
           0.9137254901960784,
           "#FED597"
          ],
          [
           0.9176470588235294,
           "#FED799"
          ],
          [
           0.9215686274509803,
           "#FED89A"
          ],
          [
           0.9254901960784314,
           "#FDDA9C"
          ],
          [
           0.9294117647058824,
           "#FDDC9E"
          ],
          [
           0.9333333333333333,
           "#FDDEA0"
          ],
          [
           0.9372549019607843,
           "#FDE0A1"
          ],
          [
           0.9411764705882353,
           "#FDE2A3"
          ],
          [
           0.9450980392156862,
           "#FDE3A5"
          ],
          [
           0.9490196078431372,
           "#FDE5A7"
          ],
          [
           0.9529411764705882,
           "#FDE7A9"
          ],
          [
           0.9568627450980393,
           "#FDE9AA"
          ],
          [
           0.9607843137254902,
           "#FDEBAC"
          ],
          [
           0.9647058823529412,
           "#FCECAE"
          ],
          [
           0.9686274509803922,
           "#FCEEB0"
          ],
          [
           0.9725490196078431,
           "#FCF0B2"
          ],
          [
           0.9764705882352941,
           "#FCF2B4"
          ],
          [
           0.9803921568627451,
           "#FCF4B6"
          ],
          [
           0.984313725490196,
           "#FCF6B8"
          ],
          [
           0.9882352941176471,
           "#FCF7B9"
          ],
          [
           0.9921568627450981,
           "#FCF9BB"
          ],
          [
           0.996078431372549,
           "#FCFBBD"
          ],
          [
           1,
           "#FCFDBF"
          ]
         ],
         "transpose": true,
         "type": "heatmap",
         "z": [
          [
           0,
           0,
           0,
           0,
           0,
           0,
           0,
           0,
           0,
           0,
           0,
           0,
           0,
           0,
           0,
           0,
           0,
           0,
           0
          ],
          [
           0.33562243,
           0.33562243,
           0.3851998,
           0.25350773,
           0.25350773,
           0.34644935,
           0.34209913,
           0.3644552,
           0.3647541,
           0.37884963,
           0.38981915,
           0.43403524,
           0.292087,
           0.292087,
           0.45459977,
           0.45459977,
           0.37421456,
           0.37421456,
           0.63058054
          ],
          [
           0.40521163,
           0.3851998,
           0.40521163,
           0.35032856,
           0.34209913,
           0.35903183,
           0.34644935,
           0.36686257,
           0.36697045,
           0.38216132,
           0.39883876,
           0.43818104,
           0.46442533,
           0.48348823,
           0.47397587,
           0.46442533,
           0.63058054,
           0.65458935,
           0.65458935
          ],
          [
           0.9861469,
           0.98864496,
           0.982331,
           0.35903183,
           0.38093087,
           0.36733317,
           0.35032856,
           0.36697045,
           0.3795424,
           0.39244953,
           0.40241757,
           0.44680405,
           0.47397587,
           0.48824593,
           0.48824593,
           0.48348823,
           0.73203987,
           0.73397654,
           0.6969431
          ],
          [
           0.9868755,
           0.98888516,
           0.9833547,
           0.3644552,
           0.38417202,
           0.3795424,
           0.3647541,
           0.36733317,
           0.3943601,
           0.39517182,
           0.40507436,
           0.44736284,
           0.69749916,
           0.6969431,
           0.7028848,
           0.7355031,
           0.7330621,
           0.73826075,
           0.69749916
          ],
          [
           0.98727196,
           0.98955584,
           0.9838961,
           0.3943601,
           0.396193,
           0.38093087,
           0.36686257,
           0.38417202,
           0.396193,
           0.40241757,
           0.41713423,
           0.44751728,
           0.73314947,
           0.7330621,
           0.73203987,
           0.74550694,
           0.73314947,
           0.74420214,
           0.7028848
          ],
          [
           0.98736346,
           0.99008083,
           0.98438686,
           0.39517182,
           0.41043133,
           0.38216132,
           0.37884963,
           0.39244953,
           0.40398946,
           0.40398946,
           0.41721997,
           0.45673177,
           0.73826075,
           0.74420214,
           0.73397654,
           0.748664,
           0.74550694,
           0.748664,
           0.7355031
          ],
          [
           0.98750526,
           0.9907036,
           0.9851485,
           0.41721997,
           0.42190227,
           0.38981915,
           0.39883876,
           0.41713423,
           0.40507436,
           0.41043133,
           0.42190227,
           0.45675904,
           0.8571212,
           0.86094767,
           0.8560897,
           0.869248,
           0.8630491,
           0.86346984,
           0.8636502
          ],
          [
           0.9880044,
           0.99071705,
           0.98529565,
           0.45673177,
           0.45675904,
           0.44736284,
           0.43403524,
           0.43818104,
           0.44751728,
           0.44680405,
           0.4705396,
           0.4705396,
           0.86340207,
           0.87025267,
           0.8643756,
           0.87198323,
           0.866226,
           0.86606586,
           0.8637072
          ],
          [
           0.98804605,
           0.99091905,
           0.9885119,
           0.8691759,
           0.8630491,
           0.8675958,
           0.8711974,
           0.8727703,
           0.8712087,
           0.86685723,
           0.8560897,
           0.8636502,
           0.8665483,
           0.87104213,
           0.8685509,
           0.8760983,
           0.86660266,
           0.868529,
           0.8637982
          ],
          [
           0.9882046,
           0.9911765,
           0.98994493,
           0.8692376,
           0.86340207,
           0.86842954,
           0.87222844,
           0.8729046,
           0.8720895,
           0.868529,
           0.8571212,
           0.86606586,
           0.86685723,
           0.87150836,
           0.8687922,
           0.87707347,
           0.86842954,
           0.8698253,
           0.8691759
          ],
          [
           0.98933303,
           0.9912052,
           0.99033195,
           0.86997485,
           0.86346984,
           0.8687922,
           0.87227076,
           0.8740367,
           0.87379384,
           0.8694132,
           0.86094767,
           0.866226,
           0.8675958,
           0.87424606,
           0.8694132,
           0.8785631,
           0.86997485,
           0.8705733,
           0.86952496
          ],
          [
           0.9895384,
           0.99141395,
           0.99040204,
           0.8709927,
           0.8637072,
           0.87025267,
           0.87293404,
           0.8746306,
           0.8744053,
           0.86952496,
           0.8637982,
           0.8665483,
           0.8692376,
           0.8760664,
           0.8712664,
           0.8796405,
           0.87034965,
           0.8709927,
           0.8706522
          ],
          [
           0.9898287,
           0.9926061,
           0.9909295,
           0.8712664,
           0.8643756,
           0.8705733,
           0.87333024,
           0.87477505,
           0.8744914,
           0.87034965,
           0.86660266,
           0.8685509,
           0.8712087,
           0.877457,
           0.8720895,
           0.88021517,
           0.8711974,
           0.87222844,
           0.87227076
          ],
          [
           0.98988825,
           0.9927794,
           0.99231905,
           0.87424606,
           0.8760983,
           0.8706522,
           0.8760664,
           0.87797123,
           0.8775137,
           0.87104213,
           0.869248,
           0.87150836,
           0.87293404,
           0.8775137,
           0.87333024,
           0.88129765,
           0.8727703,
           0.8744914,
           0.8729046
          ],
          [
           0.9921477,
           0.9933997,
           0.992381,
           0.88021517,
           0.877457,
           0.87198323,
           0.88129765,
           0.88382953,
           0.8796405,
           0.87707347,
           0.8698253,
           0.8785631,
           0.8740367,
           0.87797123,
           0.87477505,
           0.88382953,
           0.8744053,
           0.8746306,
           0.87379384
          ],
          [
           0.9921665,
           0.9935822,
           0.99274904,
           0.98988825,
           0.9885119,
           0.98804605,
           0.99293864,
           0.9898287,
           0.9921665,
           0.9895384,
           0.98933303,
           0.9921477,
           0.98529565,
           0.98736346,
           0.9851485,
           0.9838961,
           0.982331,
           0.98438686,
           0.9833547
          ],
          [
           0.99255264,
           0.9939058,
           0.9932023,
           0.99231905,
           0.99255264,
           0.99033195,
           0.993871,
           0.992381,
           0.9932023,
           0.9909295,
           0.99040204,
           0.99274904,
           0.98750526,
           0.98994493,
           0.98727196,
           0.9882046,
           0.9868755,
           0.9880044,
           0.9861469
          ],
          [
           0.99293864,
           0.99441403,
           0.993871,
           0.9926061,
           0.9939058,
           0.99091905,
           0.99441403,
           0.9927794,
           0.9933997,
           0.99141395,
           0.9912052,
           0.9935822,
           0.9907036,
           0.99008083,
           0.99071705,
           0.9911765,
           0.98888516,
           0.98955584,
           0.98864496
          ]
         ]
        }
       ],
       "frames": [],
       "layout": {
        "margin": {
         "b": 50,
         "l": 50,
         "r": 50,
         "t": 60
        }
       }
      },
      "application/vnd.webio.node+json": {
       "children": [
        {
         "children": [],
         "instanceArgs": {
          "namespace": "html",
          "tag": "div"
         },
         "nodeType": "DOM",
         "props": {
          "id": "plot-5abb2891-fa58-473d-ab28-9dd9e947a942"
         },
         "type": "node"
        }
       ],
       "instanceArgs": {
        "handlers": {
         "__get_gd_contents": [
          "(function (prop){prop==\"data\" ? (WebIO.setval({\"name\":\"__gd_contents\",\"scope\":\"2738905143384193307\",\"id\":\"15005396695019204371\",\"type\":\"observable\"},this.plotElem.data)) : undefined; return prop==\"layout\" ? (WebIO.setval({\"name\":\"__gd_contents\",\"scope\":\"2738905143384193307\",\"id\":\"15005396695019204371\",\"type\":\"observable\"},this.plotElem.layout)) : undefined})"
         ],
         "_commands": [
          "(function (args){var fn=args.shift(); var elem=this.plotElem; var Plotly=this.Plotly; args.unshift(elem); return Plotly[fn].apply(this,args)})"
         ],
         "_downloadImage": [
          "(function (options){return this.Plotly.downloadImage(this.plotElem,options)})"
         ],
         "_toImage": [
          "(function (options){return this.Plotly.toImage(this.plotElem,options).then((function (data){return WebIO.setval({\"name\":\"image\",\"scope\":\"2738905143384193307\",\"id\":\"16524587391371643542\",\"type\":\"observable\"},data)}))})"
         ]
        },
        "id": "2738905143384193307",
        "imports": {
         "data": [
          {
           "name": "Plotly",
           "type": "js",
           "url": "/assetserver/e6903599031aaef8675931dfcd7df98a1aeffbfc-plotly-latest.min.js"
          },
          {
           "name": null,
           "type": "js",
           "url": "/assetserver/74a5dea81f21b0b802ef1ee92f1c8a504eac1a0c-plotly_webio.bundle.js"
          }
         ],
         "type": "async_block"
        },
        "mount_callbacks": [
         "function () {\n    var handler = ((function (Plotly,PlotlyWebIO){PlotlyWebIO.init(WebIO); var gd=this.dom.querySelector(\"#plot-5abb2891-fa58-473d-ab28-9dd9e947a942\"); this.plotElem=gd; this.Plotly=Plotly; (window.Blink!==undefined) ? (gd.style.width=\"100%\", gd.style.height=\"100vh\", gd.style.marginLeft=\"0%\", gd.style.marginTop=\"0vh\") : undefined; window.onresize=(function (){return Plotly.Plots.resize(gd)}); Plotly.newPlot(gd,[{\"type\":\"heatmap\",\"colorscale\":[[0.0,\"#000004\"],[0.00392156862745098,\"#010005\"],[0.00784313725490196,\"#010106\"],[0.011764705882352941,\"#010108\"],[0.01568627450980392,\"#020109\"],[0.0196078431372549,\"#02020B\"],[0.023529411764705882,\"#02020D\"],[0.027450980392156862,\"#03030F\"],[0.03137254901960784,\"#030312\"],[0.03529411764705882,\"#040414\"],[0.0392156862745098,\"#050416\"],[0.043137254901960784,\"#060518\"],[0.047058823529411764,\"#06051A\"],[0.050980392156862744,\"#07061C\"],[0.054901960784313725,\"#08071E\"],[0.058823529411764705,\"#090720\"],[0.06274509803921569,\"#0A0822\"],[0.06666666666666667,\"#0B0924\"],[0.07058823529411765,\"#0C0926\"],[0.07450980392156863,\"#0D0A29\"],[0.0784313725490196,\"#0E0B2B\"],[0.08235294117647059,\"#100B2D\"],[0.08627450980392157,\"#110C2F\"],[0.09019607843137255,\"#120D31\"],[0.09411764705882353,\"#130D34\"],[0.09803921568627451,\"#140E36\"],[0.10196078431372549,\"#150E38\"],[0.10588235294117647,\"#160F3B\"],[0.10980392156862745,\"#180F3D\"],[0.11372549019607843,\"#19103F\"],[0.11764705882352941,\"#1A1042\"],[0.12156862745098039,\"#1C1044\"],[0.12549019607843137,\"#1D1147\"],[0.12941176470588237,\"#1E1149\"],[0.13333333333333333,\"#20114B\"],[0.13725490196078433,\"#21114E\"],[0.1411764705882353,\"#221150\"],[0.1450980392156863,\"#241253\"],[0.14901960784313725,\"#251255\"],[0.15294117647058825,\"#271258\"],[0.1568627450980392,\"#29115A\"],[0.1607843137254902,\"#2A115C\"],[0.16470588235294117,\"#2C115F\"],[0.16862745098039217,\"#2D1161\"],[0.17254901960784313,\"#2F1163\"],[0.17647058823529413,\"#311165\"],[0.1803921568627451,\"#331067\"],[0.1843137254901961,\"#341069\"],[0.18823529411764706,\"#36106B\"],[0.19215686274509805,\"#38106C\"],[0.19607843137254902,\"#390F6E\"],[0.2,\"#3B0F70\"],[0.20392156862745098,\"#3D0F71\"],[0.20784313725490197,\"#3F0F72\"],[0.21176470588235294,\"#400F74\"],[0.21568627450980393,\"#420F75\"],[0.2196078431372549,\"#440F76\"],[0.2235294117647059,\"#451077\"],[0.22745098039215686,\"#471078\"],[0.23137254901960785,\"#491078\"],[0.23529411764705882,\"#4A1079\"],[0.23921568627450981,\"#4C117A\"],[0.24313725490196078,\"#4E117B\"],[0.24705882352941178,\"#4F127B\"],[0.25098039215686274,\"#51127C\"],[0.2549019607843137,\"#52137C\"],[0.25882352941176473,\"#54137D\"],[0.2627450980392157,\"#56147D\"],[0.26666666666666666,\"#57157E\"],[0.27058823529411763,\"#59157E\"],[0.27450980392156865,\"#5A167E\"],[0.2784313725490196,\"#5C167F\"],[0.2823529411764706,\"#5D177F\"],[0.28627450980392155,\"#5F187F\"],[0.2901960784313726,\"#601880\"],[0.29411764705882354,\"#621980\"],[0.2980392156862745,\"#641A80\"],[0.30196078431372547,\"#651A80\"],[0.3058823529411765,\"#671B80\"],[0.30980392156862746,\"#681C81\"],[0.3137254901960784,\"#6A1C81\"],[0.3176470588235294,\"#6B1D81\"],[0.3215686274509804,\"#6D1D81\"],[0.3254901960784314,\"#6E1E81\"],[0.32941176470588235,\"#701F81\"],[0.3333333333333333,\"#721F81\"],[0.33725490196078434,\"#732081\"],[0.3411764705882353,\"#752181\"],[0.34509803921568627,\"#762181\"],[0.34901960784313724,\"#782281\"],[0.35294117647058826,\"#792282\"],[0.3568627450980392,\"#7B2382\"],[0.3607843137254902,\"#7C2382\"],[0.36470588235294116,\"#7E2482\"],[0.3686274509803922,\"#802582\"],[0.37254901960784315,\"#812581\"],[0.3764705882352941,\"#832681\"],[0.3803921568627451,\"#842681\"],[0.3843137254901961,\"#862781\"],[0.38823529411764707,\"#882781\"],[0.39215686274509803,\"#892881\"],[0.396078431372549,\"#8B2981\"],[0.4,\"#8C2981\"],[0.403921568627451,\"#8E2A81\"],[0.40784313725490196,\"#902A81\"],[0.4117647058823529,\"#912B81\"],[0.41568627450980394,\"#932B80\"],[0.4196078431372549,\"#942C80\"],[0.4235294117647059,\"#962C80\"],[0.42745098039215684,\"#982D80\"],[0.43137254901960786,\"#992D80\"],[0.43529411764705883,\"#9B2E7F\"],[0.4392156862745098,\"#9C2E7F\"],[0.44313725490196076,\"#9E2F7F\"],[0.4470588235294118,\"#A02F7F\"],[0.45098039215686275,\"#A1307E\"],[0.4549019607843137,\"#A3307E\"],[0.4588235294117647,\"#A5317E\"],[0.4627450980392157,\"#A6317D\"],[0.4666666666666667,\"#A8327D\"],[0.47058823529411764,\"#AA337D\"],[0.4745098039215686,\"#AB337C\"],[0.47843137254901963,\"#AD347C\"],[0.4823529411764706,\"#AE347B\"],[0.48627450980392156,\"#B0357B\"],[0.49019607843137253,\"#B2357B\"],[0.49411764705882355,\"#B3367A\"],[0.4980392156862745,\"#B5367A\"],[0.5019607843137255,\"#B73779\"],[0.5058823529411764,\"#B83779\"],[0.5098039215686274,\"#BA3878\"],[0.5137254901960784,\"#BC3978\"],[0.5176470588235295,\"#BD3977\"],[0.5215686274509804,\"#BF3A77\"],[0.5254901960784314,\"#C03A76\"],[0.5294117647058824,\"#C23B75\"],[0.5333333333333333,\"#C43C75\"],[0.5372549019607843,\"#C53C74\"],[0.5411764705882353,\"#C73D73\"],[0.5450980392156862,\"#C83E73\"],[0.5490196078431373,\"#CA3E72\"],[0.5529411764705883,\"#CC3F71\"],[0.5568627450980392,\"#CD4071\"],[0.5607843137254902,\"#CF4070\"],[0.5647058823529412,\"#D0416F\"],[0.5686274509803921,\"#D2426F\"],[0.5725490196078431,\"#D3436E\"],[0.5764705882352941,\"#D5446D\"],[0.5803921568627451,\"#D6456C\"],[0.5843137254901961,\"#D8456C\"],[0.5882352941176471,\"#D9466B\"],[0.592156862745098,\"#DB476A\"],[0.596078431372549,\"#DC4869\"],[0.6,\"#DE4968\"],[0.6039215686274509,\"#DF4A68\"],[0.6078431372549019,\"#E04C67\"],[0.611764705882353,\"#E24D66\"],[0.615686274509804,\"#E34E65\"],[0.6196078431372549,\"#E44F64\"],[0.6235294117647059,\"#E55064\"],[0.6274509803921569,\"#E75263\"],[0.6313725490196078,\"#E85362\"],[0.6352941176470588,\"#E95462\"],[0.6392156862745098,\"#EA5661\"],[0.6431372549019608,\"#EB5760\"],[0.6470588235294118,\"#EC5860\"],[0.6509803921568628,\"#ED5A5F\"],[0.6549019607843137,\"#EE5B5E\"],[0.6588235294117647,\"#EF5D5E\"],[0.6627450980392157,\"#F05F5E\"],[0.6666666666666666,\"#F1605D\"],[0.6705882352941176,\"#F2625D\"],[0.6745098039215687,\"#F2645C\"],[0.6784313725490196,\"#F3655C\"],[0.6823529411764706,\"#F4675C\"],[0.6862745098039216,\"#F4695C\"],[0.6901960784313725,\"#F56B5C\"],[0.6941176470588235,\"#F66C5C\"],[0.6980392156862745,\"#F66E5C\"],[0.7019607843137254,\"#F7705C\"],[0.7058823529411765,\"#F7725C\"],[0.7098039215686275,\"#F8745C\"],[0.7137254901960784,\"#F8765C\"],[0.7176470588235294,\"#F9785D\"],[0.7215686274509804,\"#F9795D\"],[0.7254901960784313,\"#F97B5D\"],[0.7294117647058823,\"#FA7D5E\"],[0.7333333333333333,\"#FA7F5E\"],[0.7372549019607844,\"#FA815F\"],[0.7411764705882353,\"#FB835F\"],[0.7450980392156863,\"#FB8560\"],[0.7490196078431373,\"#FB8761\"],[0.7529411764705882,\"#FC8961\"],[0.7568627450980392,\"#FC8A62\"],[0.7607843137254902,\"#FC8C63\"],[0.7647058823529411,\"#FC8E64\"],[0.7686274509803922,\"#FC9065\"],[0.7725490196078432,\"#FD9266\"],[0.7764705882352941,\"#FD9467\"],[0.7803921568627451,\"#FD9668\"],[0.7843137254901961,\"#FD9869\"],[0.788235294117647,\"#FD9A6A\"],[0.792156862745098,\"#FD9B6B\"],[0.796078431372549,\"#FE9D6C\"],[0.8,\"#FE9F6D\"],[0.803921568627451,\"#FEA16E\"],[0.807843137254902,\"#FEA36F\"],[0.8117647058823529,\"#FEA571\"],[0.8156862745098039,\"#FEA772\"],[0.8196078431372549,\"#FEA973\"],[0.8235294117647058,\"#FEAA74\"],[0.8274509803921568,\"#FEAC76\"],[0.8313725490196079,\"#FEAE77\"],[0.8352941176470589,\"#FEB078\"],[0.8392156862745098,\"#FEB27A\"],[0.8431372549019608,\"#FEB47B\"],[0.8470588235294118,\"#FEB67C\"],[0.8509803921568627,\"#FEB77E\"],[0.8549019607843137,\"#FEB97F\"],[0.8588235294117647,\"#FEBB81\"],[0.8627450980392157,\"#FEBD82\"],[0.8666666666666667,\"#FEBF84\"],[0.8705882352941177,\"#FEC185\"],[0.8745098039215686,\"#FEC287\"],[0.8784313725490196,\"#FEC488\"],[0.8823529411764706,\"#FEC68A\"],[0.8862745098039215,\"#FEC88C\"],[0.8901960784313725,\"#FECA8D\"],[0.8941176470588236,\"#FECC8F\"],[0.8980392156862745,\"#FECD90\"],[0.9019607843137255,\"#FECF92\"],[0.9058823529411765,\"#FED194\"],[0.9098039215686274,\"#FED395\"],[0.9137254901960784,\"#FED597\"],[0.9176470588235294,\"#FED799\"],[0.9215686274509803,\"#FED89A\"],[0.9254901960784314,\"#FDDA9C\"],[0.9294117647058824,\"#FDDC9E\"],[0.9333333333333333,\"#FDDEA0\"],[0.9372549019607843,\"#FDE0A1\"],[0.9411764705882353,\"#FDE2A3\"],[0.9450980392156862,\"#FDE3A5\"],[0.9490196078431372,\"#FDE5A7\"],[0.9529411764705882,\"#FDE7A9\"],[0.9568627450980393,\"#FDE9AA\"],[0.9607843137254902,\"#FDEBAC\"],[0.9647058823529412,\"#FCECAE\"],[0.9686274509803922,\"#FCEEB0\"],[0.9725490196078431,\"#FCF0B2\"],[0.9764705882352941,\"#FCF2B4\"],[0.9803921568627451,\"#FCF4B6\"],[0.984313725490196,\"#FCF6B8\"],[0.9882352941176471,\"#FCF7B9\"],[0.9921568627450981,\"#FCF9BB\"],[0.996078431372549,\"#FCFBBD\"],[1.0,\"#FCFDBF\"]],\"z\":[[0.0,0.0,0.0,0.0,0.0,0.0,0.0,0.0,0.0,0.0,0.0,0.0,0.0,0.0,0.0,0.0,0.0,0.0,0.0],[0.33562243,0.33562243,0.3851998,0.25350773,0.25350773,0.34644935,0.34209913,0.3644552,0.3647541,0.37884963,0.38981915,0.43403524,0.292087,0.292087,0.45459977,0.45459977,0.37421456,0.37421456,0.63058054],[0.40521163,0.3851998,0.40521163,0.35032856,0.34209913,0.35903183,0.34644935,0.36686257,0.36697045,0.38216132,0.39883876,0.43818104,0.46442533,0.48348823,0.47397587,0.46442533,0.63058054,0.65458935,0.65458935],[0.9861469,0.98864496,0.982331,0.35903183,0.38093087,0.36733317,0.35032856,0.36697045,0.3795424,0.39244953,0.40241757,0.44680405,0.47397587,0.48824593,0.48824593,0.48348823,0.73203987,0.73397654,0.6969431],[0.9868755,0.98888516,0.9833547,0.3644552,0.38417202,0.3795424,0.3647541,0.36733317,0.3943601,0.39517182,0.40507436,0.44736284,0.69749916,0.6969431,0.7028848,0.7355031,0.7330621,0.73826075,0.69749916],[0.98727196,0.98955584,0.9838961,0.3943601,0.396193,0.38093087,0.36686257,0.38417202,0.396193,0.40241757,0.41713423,0.44751728,0.73314947,0.7330621,0.73203987,0.74550694,0.73314947,0.74420214,0.7028848],[0.98736346,0.99008083,0.98438686,0.39517182,0.41043133,0.38216132,0.37884963,0.39244953,0.40398946,0.40398946,0.41721997,0.45673177,0.73826075,0.74420214,0.73397654,0.748664,0.74550694,0.748664,0.7355031],[0.98750526,0.9907036,0.9851485,0.41721997,0.42190227,0.38981915,0.39883876,0.41713423,0.40507436,0.41043133,0.42190227,0.45675904,0.8571212,0.86094767,0.8560897,0.869248,0.8630491,0.86346984,0.8636502],[0.9880044,0.99071705,0.98529565,0.45673177,0.45675904,0.44736284,0.43403524,0.43818104,0.44751728,0.44680405,0.4705396,0.4705396,0.86340207,0.87025267,0.8643756,0.87198323,0.866226,0.86606586,0.8637072],[0.98804605,0.99091905,0.9885119,0.8691759,0.8630491,0.8675958,0.8711974,0.8727703,0.8712087,0.86685723,0.8560897,0.8636502,0.8665483,0.87104213,0.8685509,0.8760983,0.86660266,0.868529,0.8637982],[0.9882046,0.9911765,0.98994493,0.8692376,0.86340207,0.86842954,0.87222844,0.8729046,0.8720895,0.868529,0.8571212,0.86606586,0.86685723,0.87150836,0.8687922,0.87707347,0.86842954,0.8698253,0.8691759],[0.98933303,0.9912052,0.99033195,0.86997485,0.86346984,0.8687922,0.87227076,0.8740367,0.87379384,0.8694132,0.86094767,0.866226,0.8675958,0.87424606,0.8694132,0.8785631,0.86997485,0.8705733,0.86952496],[0.9895384,0.99141395,0.99040204,0.8709927,0.8637072,0.87025267,0.87293404,0.8746306,0.8744053,0.86952496,0.8637982,0.8665483,0.8692376,0.8760664,0.8712664,0.8796405,0.87034965,0.8709927,0.8706522],[0.9898287,0.9926061,0.9909295,0.8712664,0.8643756,0.8705733,0.87333024,0.87477505,0.8744914,0.87034965,0.86660266,0.8685509,0.8712087,0.877457,0.8720895,0.88021517,0.8711974,0.87222844,0.87227076],[0.98988825,0.9927794,0.99231905,0.87424606,0.8760983,0.8706522,0.8760664,0.87797123,0.8775137,0.87104213,0.869248,0.87150836,0.87293404,0.8775137,0.87333024,0.88129765,0.8727703,0.8744914,0.8729046],[0.9921477,0.9933997,0.992381,0.88021517,0.877457,0.87198323,0.88129765,0.88382953,0.8796405,0.87707347,0.8698253,0.8785631,0.8740367,0.87797123,0.87477505,0.88382953,0.8744053,0.8746306,0.87379384],[0.9921665,0.9935822,0.99274904,0.98988825,0.9885119,0.98804605,0.99293864,0.9898287,0.9921665,0.9895384,0.98933303,0.9921477,0.98529565,0.98736346,0.9851485,0.9838961,0.982331,0.98438686,0.9833547],[0.99255264,0.9939058,0.9932023,0.99231905,0.99255264,0.99033195,0.993871,0.992381,0.9932023,0.9909295,0.99040204,0.99274904,0.98750526,0.98994493,0.98727196,0.9882046,0.9868755,0.9880044,0.9861469],[0.99293864,0.99441403,0.993871,0.9926061,0.9939058,0.99091905,0.99441403,0.9927794,0.9933997,0.99141395,0.9912052,0.9935822,0.9907036,0.99008083,0.99071705,0.9911765,0.98888516,0.98955584,0.98864496]],\"transpose\":true}],{\"margin\":{\"l\":50,\"b\":50,\"r\":50,\"t\":60}},{}); gd.on(\"plotly_hover\",(function (data){var filtered_data=WebIO.PlotlyCommands.filterEventData(gd,data,\"hover\"); return !(filtered_data.isnil) ? (WebIO.setval({\"name\":\"hover\",\"scope\":\"2738905143384193307\",\"id\":\"13849442640167893966\",\"type\":\"observable\"},filtered_data.out)) : undefined})); gd.on(\"plotly_unhover\",(function (){return WebIO.setval({\"name\":\"hover\",\"scope\":\"2738905143384193307\",\"id\":\"13849442640167893966\",\"type\":\"observable\"},{})})); gd.on(\"plotly_selected\",(function (data){var filtered_data=WebIO.PlotlyCommands.filterEventData(gd,data,\"selected\"); return !(filtered_data.isnil) ? (WebIO.setval({\"name\":\"selected\",\"scope\":\"2738905143384193307\",\"id\":\"11347269980982344405\",\"type\":\"observable\"},filtered_data.out)) : undefined})); gd.on(\"plotly_deselect\",(function (){return WebIO.setval({\"name\":\"selected\",\"scope\":\"2738905143384193307\",\"id\":\"11347269980982344405\",\"type\":\"observable\"},{})})); gd.on(\"plotly_relayout\",(function (data){var filtered_data=WebIO.PlotlyCommands.filterEventData(gd,data,\"relayout\"); return !(filtered_data.isnil) ? (WebIO.setval({\"name\":\"relayout\",\"scope\":\"2738905143384193307\",\"id\":\"3430284731829882428\",\"type\":\"observable\"},filtered_data.out)) : undefined})); return gd.on(\"plotly_click\",(function (data){var filtered_data=WebIO.PlotlyCommands.filterEventData(gd,data,\"click\"); return !(filtered_data.isnil) ? (WebIO.setval({\"name\":\"click\",\"scope\":\"2738905143384193307\",\"id\":\"15381390896928925875\",\"type\":\"observable\"},filtered_data.out)) : undefined}))}));\n    (WebIO.importBlock({\"data\":[{\"name\":\"Plotly\",\"type\":\"js\",\"url\":\"/assetserver/e6903599031aaef8675931dfcd7df98a1aeffbfc-plotly-latest.min.js\"},{\"name\":null,\"type\":\"js\",\"url\":\"/assetserver/74a5dea81f21b0b802ef1ee92f1c8a504eac1a0c-plotly_webio.bundle.js\"}],\"type\":\"async_block\"})).then((imports) => handler.apply(this, imports));\n}\n"
        ],
        "observables": {
         "__gd_contents": {
          "id": "15005396695019204371",
          "sync": false,
          "value": {}
         },
         "__get_gd_contents": {
          "id": "12275004029262106112",
          "sync": false,
          "value": ""
         },
         "_commands": {
          "id": "3650500186373308776",
          "sync": false,
          "value": []
         },
         "_downloadImage": {
          "id": "11000581653059385372",
          "sync": false,
          "value": {}
         },
         "_toImage": {
          "id": "18115200842679263145",
          "sync": false,
          "value": {}
         },
         "click": {
          "id": "15381390896928925875",
          "sync": false,
          "value": {}
         },
         "hover": {
          "id": "13849442640167893966",
          "sync": false,
          "value": {}
         },
         "image": {
          "id": "16524587391371643542",
          "sync": true,
          "value": ""
         },
         "relayout": {
          "id": "3430284731829882428",
          "sync": false,
          "value": {}
         },
         "selected": {
          "id": "11347269980982344405",
          "sync": false,
          "value": {}
         }
        },
        "systemjs_options": null
       },
       "nodeType": "Scope",
       "props": {},
       "type": "node"
      },
      "image/png": "[encoded data removed]",
      "image/svg+xml": [
       "<svg class=\"main-svg\" xmlns=\"http://www.w3.org/2000/svg\" xmlns:xlink=\"http://www.w3.org/1999/xlink\" width=\"700\" height=\"500\" style=\"\" viewBox=\"0 0 700 500\"><rect x=\"0\" y=\"0\" width=\"700\" height=\"500\" style=\"fill: rgb(255, 255, 255); fill-opacity: 1;\"/><defs id=\"defs-79505d\"><g class=\"clips\"><clipPath id=\"clip79505dxyplot\" class=\"plotclip\"><rect width=\"559\" height=\"390\"/></clipPath><clipPath class=\"axesclip\" id=\"clip79505dx\"><rect x=\"50\" y=\"0\" width=\"559\" height=\"500\"/></clipPath><clipPath class=\"axesclip\" id=\"clip79505dy\"><rect x=\"0\" y=\"60\" width=\"700\" height=\"390\"/></clipPath><clipPath class=\"axesclip\" id=\"clip79505dxy\"><rect x=\"50\" y=\"60\" width=\"559\" height=\"390\"/></clipPath></g><g class=\"gradients\"><linearGradient x1=\"0\" x2=\"0\" y1=\"1\" y2=\"0\" id=\"g79505d-cbca9e67\"><stop offset=\"0%\" stop-color=\"rgb(0, 0, 4)\" stop-opacity=\"1\"/><stop offset=\"0.39215686274509803%\" stop-color=\"rgb(1, 0, 5)\" stop-opacity=\"1\"/><stop offset=\"0.7843137254901961%\" stop-color=\"rgb(1, 1, 6)\" stop-opacity=\"1\"/><stop offset=\"1.1764705882352942%\" stop-color=\"rgb(1, 1, 8)\" stop-opacity=\"1\"/><stop offset=\"1.5686274509803921%\" stop-color=\"rgb(2, 1, 9)\" stop-opacity=\"1\"/><stop offset=\"1.9607843137254901%\" stop-color=\"rgb(2, 2, 11)\" stop-opacity=\"1\"/><stop offset=\"2.3529411764705883%\" stop-color=\"rgb(2, 2, 13)\" stop-opacity=\"1\"/><stop offset=\"2.7450980392156863%\" stop-color=\"rgb(3, 3, 15)\" stop-opacity=\"1\"/><stop offset=\"3.1372549019607843%\" stop-color=\"rgb(3, 3, 18)\" stop-opacity=\"1\"/><stop offset=\"3.5294117647058822%\" stop-color=\"rgb(4, 4, 20)\" stop-opacity=\"1\"/><stop offset=\"3.9215686274509802%\" stop-color=\"rgb(5, 4, 22)\" stop-opacity=\"1\"/><stop offset=\"4.313725490196078%\" stop-color=\"rgb(6, 5, 24)\" stop-opacity=\"1\"/><stop offset=\"4.705882352941177%\" stop-color=\"rgb(6, 5, 26)\" stop-opacity=\"1\"/><stop offset=\"5.098039215686274%\" stop-color=\"rgb(7, 6, 28)\" stop-opacity=\"1\"/><stop offset=\"5.490196078431373%\" stop-color=\"rgb(8, 7, 30)\" stop-opacity=\"1\"/><stop offset=\"5.88235294117647%\" stop-color=\"rgb(9, 7, 32)\" stop-opacity=\"1\"/><stop offset=\"6.2745098039215685%\" stop-color=\"rgb(10, 8, 34)\" stop-opacity=\"1\"/><stop offset=\"6.666666666666667%\" stop-color=\"rgb(11, 9, 36)\" stop-opacity=\"1\"/><stop offset=\"7.0588235294117645%\" stop-color=\"rgb(12, 9, 38)\" stop-opacity=\"1\"/><stop offset=\"7.450980392156863%\" stop-color=\"rgb(13, 10, 41)\" stop-opacity=\"1\"/><stop offset=\"7.8431372549019605%\" stop-color=\"rgb(14, 11, 43)\" stop-opacity=\"1\"/><stop offset=\"8.235294117647058%\" stop-color=\"rgb(16, 11, 45)\" stop-opacity=\"1\"/><stop offset=\"8.627450980392156%\" stop-color=\"rgb(17, 12, 47)\" stop-opacity=\"1\"/><stop offset=\"9.019607843137255%\" stop-color=\"rgb(18, 13, 49)\" stop-opacity=\"1\"/><stop offset=\"9.411764705882353%\" stop-color=\"rgb(19, 13, 52)\" stop-opacity=\"1\"/><stop offset=\"9.803921568627452%\" stop-color=\"rgb(20, 14, 54)\" stop-opacity=\"1\"/><stop offset=\"10.196078431372548%\" stop-color=\"rgb(21, 14, 56)\" stop-opacity=\"1\"/><stop offset=\"10.588235294117647%\" stop-color=\"rgb(22, 15, 59)\" stop-opacity=\"1\"/><stop offset=\"10.980392156862745%\" stop-color=\"rgb(24, 15, 61)\" stop-opacity=\"1\"/><stop offset=\"11.372549019607844%\" stop-color=\"rgb(25, 16, 63)\" stop-opacity=\"1\"/><stop offset=\"11.76470588235294%\" stop-color=\"rgb(26, 16, 66)\" stop-opacity=\"1\"/><stop offset=\"12.156862745098039%\" stop-color=\"rgb(28, 16, 68)\" stop-opacity=\"1\"/><stop offset=\"12.549019607843137%\" stop-color=\"rgb(29, 17, 71)\" stop-opacity=\"1\"/><stop offset=\"12.941176470588237%\" stop-color=\"rgb(30, 17, 73)\" stop-opacity=\"1\"/><stop offset=\"13.333333333333334%\" stop-color=\"rgb(32, 17, 75)\" stop-opacity=\"1\"/><stop offset=\"13.725490196078432%\" stop-color=\"rgb(33, 17, 78)\" stop-opacity=\"1\"/><stop offset=\"14.117647058823529%\" stop-color=\"rgb(34, 17, 80)\" stop-opacity=\"1\"/><stop offset=\"14.50980392156863%\" stop-color=\"rgb(36, 18, 83)\" stop-opacity=\"1\"/><stop offset=\"14.901960784313726%\" stop-color=\"rgb(37, 18, 85)\" stop-opacity=\"1\"/><stop offset=\"15.294117647058824%\" stop-color=\"rgb(39, 18, 88)\" stop-opacity=\"1\"/><stop offset=\"15.686274509803921%\" stop-color=\"rgb(41, 17, 90)\" stop-opacity=\"1\"/><stop offset=\"16.07843137254902%\" stop-color=\"rgb(42, 17, 92)\" stop-opacity=\"1\"/><stop offset=\"16.470588235294116%\" stop-color=\"rgb(44, 17, 95)\" stop-opacity=\"1\"/><stop offset=\"16.862745098039216%\" stop-color=\"rgb(45, 17, 97)\" stop-opacity=\"1\"/><stop offset=\"17.254901960784313%\" stop-color=\"rgb(47, 17, 99)\" stop-opacity=\"1\"/><stop offset=\"17.647058823529413%\" stop-color=\"rgb(49, 17, 101)\" stop-opacity=\"1\"/><stop offset=\"18.03921568627451%\" stop-color=\"rgb(51, 16, 103)\" stop-opacity=\"1\"/><stop offset=\"18.43137254901961%\" stop-color=\"rgb(52, 16, 105)\" stop-opacity=\"1\"/><stop offset=\"18.823529411764707%\" stop-color=\"rgb(54, 16, 107)\" stop-opacity=\"1\"/><stop offset=\"19.215686274509807%\" stop-color=\"rgb(56, 16, 108)\" stop-opacity=\"1\"/><stop offset=\"19.607843137254903%\" stop-color=\"rgb(57, 15, 110)\" stop-opacity=\"1\"/><stop offset=\"20%\" stop-color=\"rgb(59, 15, 112)\" stop-opacity=\"1\"/><stop offset=\"20.392156862745097%\" stop-color=\"rgb(61, 15, 113)\" stop-opacity=\"1\"/><stop offset=\"20.784313725490197%\" stop-color=\"rgb(63, 15, 114)\" stop-opacity=\"1\"/><stop offset=\"21.176470588235293%\" stop-color=\"rgb(64, 15, 116)\" stop-opacity=\"1\"/><stop offset=\"21.568627450980394%\" stop-color=\"rgb(66, 15, 117)\" stop-opacity=\"1\"/><stop offset=\"21.96078431372549%\" stop-color=\"rgb(68, 15, 118)\" stop-opacity=\"1\"/><stop offset=\"22.35294117647059%\" stop-color=\"rgb(69, 16, 119)\" stop-opacity=\"1\"/><stop offset=\"22.745098039215687%\" stop-color=\"rgb(71, 16, 120)\" stop-opacity=\"1\"/><stop offset=\"23.137254901960784%\" stop-color=\"rgb(73, 16, 120)\" stop-opacity=\"1\"/><stop offset=\"23.52941176470588%\" stop-color=\"rgb(74, 16, 121)\" stop-opacity=\"1\"/><stop offset=\"23.92156862745098%\" stop-color=\"rgb(76, 17, 122)\" stop-opacity=\"1\"/><stop offset=\"24.313725490196077%\" stop-color=\"rgb(78, 17, 123)\" stop-opacity=\"1\"/><stop offset=\"24.705882352941178%\" stop-color=\"rgb(79, 18, 123)\" stop-opacity=\"1\"/><stop offset=\"25.098039215686274%\" stop-color=\"rgb(81, 18, 124)\" stop-opacity=\"1\"/><stop offset=\"25.49019607843137%\" stop-color=\"rgb(82, 19, 124)\" stop-opacity=\"1\"/><stop offset=\"25.882352941176475%\" stop-color=\"rgb(84, 19, 125)\" stop-opacity=\"1\"/><stop offset=\"26.27450980392157%\" stop-color=\"rgb(86, 20, 125)\" stop-opacity=\"1\"/><stop offset=\"26.666666666666668%\" stop-color=\"rgb(87, 21, 126)\" stop-opacity=\"1\"/><stop offset=\"27.058823529411764%\" stop-color=\"rgb(89, 21, 126)\" stop-opacity=\"1\"/><stop offset=\"27.450980392156865%\" stop-color=\"rgb(90, 22, 126)\" stop-opacity=\"1\"/><stop offset=\"27.84313725490196%\" stop-color=\"rgb(92, 22, 127)\" stop-opacity=\"1\"/><stop offset=\"28.235294117647058%\" stop-color=\"rgb(93, 23, 127)\" stop-opacity=\"1\"/><stop offset=\"28.627450980392155%\" stop-color=\"rgb(95, 24, 127)\" stop-opacity=\"1\"/><stop offset=\"29.01960784313726%\" stop-color=\"rgb(96, 24, 128)\" stop-opacity=\"1\"/><stop offset=\"29.411764705882355%\" stop-color=\"rgb(98, 25, 128)\" stop-opacity=\"1\"/><stop offset=\"29.80392156862745%\" stop-color=\"rgb(100, 26, 128)\" stop-opacity=\"1\"/><stop offset=\"30.19607843137255%\" stop-color=\"rgb(101, 26, 128)\" stop-opacity=\"1\"/><stop offset=\"30.58823529411765%\" stop-color=\"rgb(103, 27, 128)\" stop-opacity=\"1\"/><stop offset=\"30.980392156862745%\" stop-color=\"rgb(104, 28, 129)\" stop-opacity=\"1\"/><stop offset=\"31.372549019607842%\" stop-color=\"rgb(106, 28, 129)\" stop-opacity=\"1\"/><stop offset=\"31.76470588235294%\" stop-color=\"rgb(107, 29, 129)\" stop-opacity=\"1\"/><stop offset=\"32.15686274509804%\" stop-color=\"rgb(109, 29, 129)\" stop-opacity=\"1\"/><stop offset=\"32.549019607843135%\" stop-color=\"rgb(110, 30, 129)\" stop-opacity=\"1\"/><stop offset=\"32.94117647058823%\" stop-color=\"rgb(112, 31, 129)\" stop-opacity=\"1\"/><stop offset=\"33.33333333333333%\" stop-color=\"rgb(114, 31, 129)\" stop-opacity=\"1\"/><stop offset=\"33.72549019607843%\" stop-color=\"rgb(115, 32, 129)\" stop-opacity=\"1\"/><stop offset=\"34.11764705882353%\" stop-color=\"rgb(117, 33, 129)\" stop-opacity=\"1\"/><stop offset=\"34.509803921568626%\" stop-color=\"rgb(118, 33, 129)\" stop-opacity=\"1\"/><stop offset=\"34.90196078431372%\" stop-color=\"rgb(120, 34, 129)\" stop-opacity=\"1\"/><stop offset=\"35.294117647058826%\" stop-color=\"rgb(121, 34, 130)\" stop-opacity=\"1\"/><stop offset=\"35.68627450980392%\" stop-color=\"rgb(123, 35, 130)\" stop-opacity=\"1\"/><stop offset=\"36.07843137254902%\" stop-color=\"rgb(124, 35, 130)\" stop-opacity=\"1\"/><stop offset=\"36.470588235294116%\" stop-color=\"rgb(126, 36, 130)\" stop-opacity=\"1\"/><stop offset=\"36.86274509803922%\" stop-color=\"rgb(128, 37, 130)\" stop-opacity=\"1\"/><stop offset=\"37.254901960784316%\" stop-color=\"rgb(129, 37, 129)\" stop-opacity=\"1\"/><stop offset=\"37.64705882352941%\" stop-color=\"rgb(131, 38, 129)\" stop-opacity=\"1\"/><stop offset=\"38.03921568627451%\" stop-color=\"rgb(132, 38, 129)\" stop-opacity=\"1\"/><stop offset=\"38.43137254901961%\" stop-color=\"rgb(134, 39, 129)\" stop-opacity=\"1\"/><stop offset=\"38.82352941176471%\" stop-color=\"rgb(136, 39, 129)\" stop-opacity=\"1\"/><stop offset=\"39.21568627450981%\" stop-color=\"rgb(137, 40, 129)\" stop-opacity=\"1\"/><stop offset=\"39.6078431372549%\" stop-color=\"rgb(139, 41, 129)\" stop-opacity=\"1\"/><stop offset=\"40%\" stop-color=\"rgb(140, 41, 129)\" stop-opacity=\"1\"/><stop offset=\"40.3921568627451%\" stop-color=\"rgb(142, 42, 129)\" stop-opacity=\"1\"/><stop offset=\"40.78431372549019%\" stop-color=\"rgb(144, 42, 129)\" stop-opacity=\"1\"/><stop offset=\"41.17647058823529%\" stop-color=\"rgb(145, 43, 129)\" stop-opacity=\"1\"/><stop offset=\"41.568627450980394%\" stop-color=\"rgb(147, 43, 128)\" stop-opacity=\"1\"/><stop offset=\"41.96078431372549%\" stop-color=\"rgb(148, 44, 128)\" stop-opacity=\"1\"/><stop offset=\"42.35294117647059%\" stop-color=\"rgb(150, 44, 128)\" stop-opacity=\"1\"/><stop offset=\"42.745098039215684%\" stop-color=\"rgb(152, 45, 128)\" stop-opacity=\"1\"/><stop offset=\"43.13725490196079%\" stop-color=\"rgb(153, 45, 128)\" stop-opacity=\"1\"/><stop offset=\"43.529411764705884%\" stop-color=\"rgb(155, 46, 127)\" stop-opacity=\"1\"/><stop offset=\"43.92156862745098%\" stop-color=\"rgb(156, 46, 127)\" stop-opacity=\"1\"/><stop offset=\"44.31372549019608%\" stop-color=\"rgb(158, 47, 127)\" stop-opacity=\"1\"/><stop offset=\"44.70588235294118%\" stop-color=\"rgb(160, 47, 127)\" stop-opacity=\"1\"/><stop offset=\"45.09803921568628%\" stop-color=\"rgb(161, 48, 126)\" stop-opacity=\"1\"/><stop offset=\"45.490196078431374%\" stop-color=\"rgb(163, 48, 126)\" stop-opacity=\"1\"/><stop offset=\"45.88235294117647%\" stop-color=\"rgb(165, 49, 126)\" stop-opacity=\"1\"/><stop offset=\"46.27450980392157%\" stop-color=\"rgb(166, 49, 125)\" stop-opacity=\"1\"/><stop offset=\"46.666666666666664%\" stop-color=\"rgb(168, 50, 125)\" stop-opacity=\"1\"/><stop offset=\"47.05882352941176%\" stop-color=\"rgb(170, 51, 125)\" stop-opacity=\"1\"/><stop offset=\"47.45098039215686%\" stop-color=\"rgb(171, 51, 124)\" stop-opacity=\"1\"/><stop offset=\"47.84313725490196%\" stop-color=\"rgb(173, 52, 124)\" stop-opacity=\"1\"/><stop offset=\"48.23529411764706%\" stop-color=\"rgb(174, 52, 123)\" stop-opacity=\"1\"/><stop offset=\"48.627450980392155%\" stop-color=\"rgb(176, 53, 123)\" stop-opacity=\"1\"/><stop offset=\"49.01960784313725%\" stop-color=\"rgb(178, 53, 123)\" stop-opacity=\"1\"/><stop offset=\"49.411764705882355%\" stop-color=\"rgb(179, 54, 122)\" stop-opacity=\"1\"/><stop offset=\"49.80392156862745%\" stop-color=\"rgb(181, 54, 122)\" stop-opacity=\"1\"/><stop offset=\"50.19607843137255%\" stop-color=\"rgb(183, 55, 121)\" stop-opacity=\"1\"/><stop offset=\"50.588235294117645%\" stop-color=\"rgb(184, 55, 121)\" stop-opacity=\"1\"/><stop offset=\"50.98039215686274%\" stop-color=\"rgb(186, 56, 120)\" stop-opacity=\"1\"/><stop offset=\"51.37254901960784%\" stop-color=\"rgb(188, 57, 120)\" stop-opacity=\"1\"/><stop offset=\"51.76470588235295%\" stop-color=\"rgb(189, 57, 119)\" stop-opacity=\"1\"/><stop offset=\"52.156862745098046%\" stop-color=\"rgb(191, 58, 119)\" stop-opacity=\"1\"/><stop offset=\"52.54901960784314%\" stop-color=\"rgb(192, 58, 118)\" stop-opacity=\"1\"/><stop offset=\"52.94117647058824%\" stop-color=\"rgb(194, 59, 117)\" stop-opacity=\"1\"/><stop offset=\"53.333333333333336%\" stop-color=\"rgb(196, 60, 117)\" stop-opacity=\"1\"/><stop offset=\"53.72549019607843%\" stop-color=\"rgb(197, 60, 116)\" stop-opacity=\"1\"/><stop offset=\"54.11764705882353%\" stop-color=\"rgb(199, 61, 115)\" stop-opacity=\"1\"/><stop offset=\"54.509803921568626%\" stop-color=\"rgb(200, 62, 115)\" stop-opacity=\"1\"/><stop offset=\"54.90196078431373%\" stop-color=\"rgb(202, 62, 114)\" stop-opacity=\"1\"/><stop offset=\"55.294117647058826%\" stop-color=\"rgb(204, 63, 113)\" stop-opacity=\"1\"/><stop offset=\"55.68627450980392%\" stop-color=\"rgb(205, 64, 113)\" stop-opacity=\"1\"/><stop offset=\"56.07843137254902%\" stop-color=\"rgb(207, 64, 112)\" stop-opacity=\"1\"/><stop offset=\"56.470588235294116%\" stop-color=\"rgb(208, 65, 111)\" stop-opacity=\"1\"/><stop offset=\"56.86274509803921%\" stop-color=\"rgb(210, 66, 111)\" stop-opacity=\"1\"/><stop offset=\"57.25490196078431%\" stop-color=\"rgb(211, 67, 110)\" stop-opacity=\"1\"/><stop offset=\"57.647058823529406%\" stop-color=\"rgb(213, 68, 109)\" stop-opacity=\"1\"/><stop offset=\"58.03921568627452%\" stop-color=\"rgb(214, 69, 108)\" stop-opacity=\"1\"/><stop offset=\"58.43137254901961%\" stop-color=\"rgb(216, 69, 108)\" stop-opacity=\"1\"/><stop offset=\"58.82352941176471%\" stop-color=\"rgb(217, 70, 107)\" stop-opacity=\"1\"/><stop offset=\"59.21568627450981%\" stop-color=\"rgb(219, 71, 106)\" stop-opacity=\"1\"/><stop offset=\"59.6078431372549%\" stop-color=\"rgb(220, 72, 105)\" stop-opacity=\"1\"/><stop offset=\"60%\" stop-color=\"rgb(222, 73, 104)\" stop-opacity=\"1\"/><stop offset=\"60.3921568627451%\" stop-color=\"rgb(223, 74, 104)\" stop-opacity=\"1\"/><stop offset=\"60.78431372549019%\" stop-color=\"rgb(224, 76, 103)\" stop-opacity=\"1\"/><stop offset=\"61.1764705882353%\" stop-color=\"rgb(226, 77, 102)\" stop-opacity=\"1\"/><stop offset=\"61.568627450980394%\" stop-color=\"rgb(227, 78, 101)\" stop-opacity=\"1\"/><stop offset=\"61.96078431372549%\" stop-color=\"rgb(228, 79, 100)\" stop-opacity=\"1\"/><stop offset=\"62.35294117647059%\" stop-color=\"rgb(229, 80, 100)\" stop-opacity=\"1\"/><stop offset=\"62.745098039215684%\" stop-color=\"rgb(231, 82, 99)\" stop-opacity=\"1\"/><stop offset=\"63.13725490196078%\" stop-color=\"rgb(232, 83, 98)\" stop-opacity=\"1\"/><stop offset=\"63.52941176470588%\" stop-color=\"rgb(233, 84, 98)\" stop-opacity=\"1\"/><stop offset=\"63.921568627450974%\" stop-color=\"rgb(234, 86, 97)\" stop-opacity=\"1\"/><stop offset=\"64.31372549019608%\" stop-color=\"rgb(235, 87, 96)\" stop-opacity=\"1\"/><stop offset=\"64.70588235294117%\" stop-color=\"rgb(236, 88, 96)\" stop-opacity=\"1\"/><stop offset=\"65.09803921568627%\" stop-color=\"rgb(237, 90, 95)\" stop-opacity=\"1\"/><stop offset=\"65.49019607843137%\" stop-color=\"rgb(238, 91, 94)\" stop-opacity=\"1\"/><stop offset=\"65.88235294117646%\" stop-color=\"rgb(239, 93, 94)\" stop-opacity=\"1\"/><stop offset=\"66.27450980392156%\" stop-color=\"rgb(240, 95, 94)\" stop-opacity=\"1\"/><stop offset=\"66.66666666666666%\" stop-color=\"rgb(241, 96, 93)\" stop-opacity=\"1\"/><stop offset=\"67.05882352941175%\" stop-color=\"rgb(242, 98, 93)\" stop-opacity=\"1\"/><stop offset=\"67.45098039215686%\" stop-color=\"rgb(242, 100, 92)\" stop-opacity=\"1\"/><stop offset=\"67.84313725490196%\" stop-color=\"rgb(243, 101, 92)\" stop-opacity=\"1\"/><stop offset=\"68.23529411764706%\" stop-color=\"rgb(244, 103, 92)\" stop-opacity=\"1\"/><stop offset=\"68.62745098039215%\" stop-color=\"rgb(244, 105, 92)\" stop-opacity=\"1\"/><stop offset=\"69.01960784313725%\" stop-color=\"rgb(245, 107, 92)\" stop-opacity=\"1\"/><stop offset=\"69.41176470588235%\" stop-color=\"rgb(246, 108, 92)\" stop-opacity=\"1\"/><stop offset=\"69.80392156862744%\" stop-color=\"rgb(246, 110, 92)\" stop-opacity=\"1\"/><stop offset=\"70.19607843137254%\" stop-color=\"rgb(247, 112, 92)\" stop-opacity=\"1\"/><stop offset=\"70.58823529411765%\" stop-color=\"rgb(247, 114, 92)\" stop-opacity=\"1\"/><stop offset=\"70.98039215686275%\" stop-color=\"rgb(248, 116, 92)\" stop-opacity=\"1\"/><stop offset=\"71.37254901960785%\" stop-color=\"rgb(248, 118, 92)\" stop-opacity=\"1\"/><stop offset=\"71.76470588235294%\" stop-color=\"rgb(249, 120, 93)\" stop-opacity=\"1\"/><stop offset=\"72.15686274509804%\" stop-color=\"rgb(249, 121, 93)\" stop-opacity=\"1\"/><stop offset=\"72.54901960784314%\" stop-color=\"rgb(249, 123, 93)\" stop-opacity=\"1\"/><stop offset=\"72.94117647058823%\" stop-color=\"rgb(250, 125, 94)\" stop-opacity=\"1\"/><stop offset=\"73.33333333333333%\" stop-color=\"rgb(250, 127, 94)\" stop-opacity=\"1\"/><stop offset=\"73.72549019607844%\" stop-color=\"rgb(250, 129, 95)\" stop-opacity=\"1\"/><stop offset=\"74.11764705882354%\" stop-color=\"rgb(251, 131, 95)\" stop-opacity=\"1\"/><stop offset=\"74.50980392156863%\" stop-color=\"rgb(251, 133, 96)\" stop-opacity=\"1\"/><stop offset=\"74.90196078431373%\" stop-color=\"rgb(251, 135, 97)\" stop-opacity=\"1\"/><stop offset=\"75.29411764705883%\" stop-color=\"rgb(252, 137, 97)\" stop-opacity=\"1\"/><stop offset=\"75.68627450980392%\" stop-color=\"rgb(252, 138, 98)\" stop-opacity=\"1\"/><stop offset=\"76.07843137254902%\" stop-color=\"rgb(252, 140, 99)\" stop-opacity=\"1\"/><stop offset=\"76.47058823529412%\" stop-color=\"rgb(252, 142, 100)\" stop-opacity=\"1\"/><stop offset=\"76.86274509803923%\" stop-color=\"rgb(252, 144, 101)\" stop-opacity=\"1\"/><stop offset=\"77.25490196078432%\" stop-color=\"rgb(253, 146, 102)\" stop-opacity=\"1\"/><stop offset=\"77.64705882352942%\" stop-color=\"rgb(253, 148, 103)\" stop-opacity=\"1\"/><stop offset=\"78.03921568627452%\" stop-color=\"rgb(253, 150, 104)\" stop-opacity=\"1\"/><stop offset=\"78.43137254901961%\" stop-color=\"rgb(253, 152, 105)\" stop-opacity=\"1\"/><stop offset=\"78.82352941176471%\" stop-color=\"rgb(253, 154, 106)\" stop-opacity=\"1\"/><stop offset=\"79.2156862745098%\" stop-color=\"rgb(253, 155, 107)\" stop-opacity=\"1\"/><stop offset=\"79.6078431372549%\" stop-color=\"rgb(254, 157, 108)\" stop-opacity=\"1\"/><stop offset=\"80%\" stop-color=\"rgb(254, 159, 109)\" stop-opacity=\"1\"/><stop offset=\"80.3921568627451%\" stop-color=\"rgb(254, 161, 110)\" stop-opacity=\"1\"/><stop offset=\"80.7843137254902%\" stop-color=\"rgb(254, 163, 111)\" stop-opacity=\"1\"/><stop offset=\"81.17647058823529%\" stop-color=\"rgb(254, 165, 113)\" stop-opacity=\"1\"/><stop offset=\"81.56862745098039%\" stop-color=\"rgb(254, 167, 114)\" stop-opacity=\"1\"/><stop offset=\"81.96078431372548%\" stop-color=\"rgb(254, 169, 115)\" stop-opacity=\"1\"/><stop offset=\"82.35294117647058%\" stop-color=\"rgb(254, 170, 116)\" stop-opacity=\"1\"/><stop offset=\"82.74509803921568%\" stop-color=\"rgb(254, 172, 118)\" stop-opacity=\"1\"/><stop offset=\"83.13725490196079%\" stop-color=\"rgb(254, 174, 119)\" stop-opacity=\"1\"/><stop offset=\"83.52941176470588%\" stop-color=\"rgb(254, 176, 120)\" stop-opacity=\"1\"/><stop offset=\"83.92156862745098%\" stop-color=\"rgb(254, 178, 122)\" stop-opacity=\"1\"/><stop offset=\"84.31372549019608%\" stop-color=\"rgb(254, 180, 123)\" stop-opacity=\"1\"/><stop offset=\"84.70588235294117%\" stop-color=\"rgb(254, 182, 124)\" stop-opacity=\"1\"/><stop offset=\"85.09803921568627%\" stop-color=\"rgb(254, 183, 126)\" stop-opacity=\"1\"/><stop offset=\"85.49019607843137%\" stop-color=\"rgb(254, 185, 127)\" stop-opacity=\"1\"/><stop offset=\"85.88235294117646%\" stop-color=\"rgb(254, 187, 129)\" stop-opacity=\"1\"/><stop offset=\"86.27450980392157%\" stop-color=\"rgb(254, 189, 130)\" stop-opacity=\"1\"/><stop offset=\"86.66666666666667%\" stop-color=\"rgb(254, 191, 132)\" stop-opacity=\"1\"/><stop offset=\"87.05882352941177%\" stop-color=\"rgb(254, 193, 133)\" stop-opacity=\"1\"/><stop offset=\"87.45098039215686%\" stop-color=\"rgb(254, 194, 135)\" stop-opacity=\"1\"/><stop offset=\"87.84313725490196%\" stop-color=\"rgb(254, 196, 136)\" stop-opacity=\"1\"/><stop offset=\"88.23529411764706%\" stop-color=\"rgb(254, 198, 138)\" stop-opacity=\"1\"/><stop offset=\"88.62745098039215%\" stop-color=\"rgb(254, 200, 140)\" stop-opacity=\"1\"/><stop offset=\"89.01960784313725%\" stop-color=\"rgb(254, 202, 141)\" stop-opacity=\"1\"/><stop offset=\"89.41176470588236%\" stop-color=\"rgb(254, 204, 143)\" stop-opacity=\"1\"/><stop offset=\"89.80392156862746%\" stop-color=\"rgb(254, 205, 144)\" stop-opacity=\"1\"/><stop offset=\"90.19607843137256%\" stop-color=\"rgb(254, 207, 146)\" stop-opacity=\"1\"/><stop offset=\"90.58823529411765%\" stop-color=\"rgb(254, 209, 148)\" stop-opacity=\"1\"/><stop offset=\"90.98039215686275%\" stop-color=\"rgb(254, 211, 149)\" stop-opacity=\"1\"/><stop offset=\"91.37254901960785%\" stop-color=\"rgb(254, 213, 151)\" stop-opacity=\"1\"/><stop offset=\"91.76470588235294%\" stop-color=\"rgb(254, 215, 153)\" stop-opacity=\"1\"/><stop offset=\"92.15686274509804%\" stop-color=\"rgb(254, 216, 154)\" stop-opacity=\"1\"/><stop offset=\"92.54901960784314%\" stop-color=\"rgb(253, 218, 156)\" stop-opacity=\"1\"/><stop offset=\"92.94117647058823%\" stop-color=\"rgb(253, 220, 158)\" stop-opacity=\"1\"/><stop offset=\"93.33333333333333%\" stop-color=\"rgb(253, 222, 160)\" stop-opacity=\"1\"/><stop offset=\"93.72549019607843%\" stop-color=\"rgb(253, 224, 161)\" stop-opacity=\"1\"/><stop offset=\"94.11764705882352%\" stop-color=\"rgb(253, 226, 163)\" stop-opacity=\"1\"/><stop offset=\"94.50980392156862%\" stop-color=\"rgb(253, 227, 165)\" stop-opacity=\"1\"/><stop offset=\"94.90196078431372%\" stop-color=\"rgb(253, 229, 167)\" stop-opacity=\"1\"/><stop offset=\"95.29411764705881%\" stop-color=\"rgb(253, 231, 169)\" stop-opacity=\"1\"/><stop offset=\"95.68627450980392%\" stop-color=\"rgb(253, 233, 170)\" stop-opacity=\"1\"/><stop offset=\"96.07843137254902%\" stop-color=\"rgb(253, 235, 172)\" stop-opacity=\"1\"/><stop offset=\"96.47058823529412%\" stop-color=\"rgb(252, 236, 174)\" stop-opacity=\"1\"/><stop offset=\"96.86274509803921%\" stop-color=\"rgb(252, 238, 176)\" stop-opacity=\"1\"/><stop offset=\"97.25490196078431%\" stop-color=\"rgb(252, 240, 178)\" stop-opacity=\"1\"/><stop offset=\"97.6470588235294%\" stop-color=\"rgb(252, 242, 180)\" stop-opacity=\"1\"/><stop offset=\"98.0392156862745%\" stop-color=\"rgb(252, 244, 182)\" stop-opacity=\"1\"/><stop offset=\"98.4313725490196%\" stop-color=\"rgb(252, 246, 184)\" stop-opacity=\"1\"/><stop offset=\"98.82352941176471%\" stop-color=\"rgb(252, 247, 185)\" stop-opacity=\"1\"/><stop offset=\"99.2156862745098%\" stop-color=\"rgb(252, 249, 187)\" stop-opacity=\"1\"/><stop offset=\"99.6078431372549%\" stop-color=\"rgb(252, 251, 189)\" stop-opacity=\"1\"/><stop offset=\"100%\" stop-color=\"rgb(252, 253, 191)\" stop-opacity=\"1\"/></linearGradient></g></defs><g class=\"bglayer\"/><g class=\"layer-below\"><g class=\"imagelayer\"/><g class=\"shapelayer\"/></g><g class=\"cartesianlayer\"><g class=\"subplot xy\"><g class=\"layer-subplot\"><g class=\"shapelayer\"/><g class=\"imagelayer\"/></g><g class=\"gridlayer\"><g class=\"x\"><path class=\"xgrid crisp\" transform=\"translate(211.82,0)\" d=\"M0,60v390\" style=\"stroke: rgb(238, 238, 238); stroke-opacity: 1; stroke-width: 1px;\"/><path class=\"xgrid crisp\" transform=\"translate(358.92,0)\" d=\"M0,60v390\" style=\"stroke: rgb(238, 238, 238); stroke-opacity: 1; stroke-width: 1px;\"/><path class=\"xgrid crisp\" transform=\"translate(506.03,0)\" d=\"M0,60v390\" style=\"stroke: rgb(238, 238, 238); stroke-opacity: 1; stroke-width: 1px;\"/></g><g class=\"y\"><path class=\"ygrid crisp\" transform=\"translate(0,398.68)\" d=\"M50,0h559\" style=\"stroke: rgb(238, 238, 238); stroke-opacity: 1; stroke-width: 1px;\"/><path class=\"ygrid crisp\" transform=\"translate(0,357.63)\" d=\"M50,0h559\" style=\"stroke: rgb(238, 238, 238); stroke-opacity: 1; stroke-width: 1px;\"/><path class=\"ygrid crisp\" transform=\"translate(0,316.58)\" d=\"M50,0h559\" style=\"stroke: rgb(238, 238, 238); stroke-opacity: 1; stroke-width: 1px;\"/><path class=\"ygrid crisp\" transform=\"translate(0,275.53)\" d=\"M50,0h559\" style=\"stroke: rgb(238, 238, 238); stroke-opacity: 1; stroke-width: 1px;\"/><path class=\"ygrid crisp\" transform=\"translate(0,234.47)\" d=\"M50,0h559\" style=\"stroke: rgb(238, 238, 238); stroke-opacity: 1; stroke-width: 1px;\"/><path class=\"ygrid crisp\" transform=\"translate(0,193.42)\" d=\"M50,0h559\" style=\"stroke: rgb(238, 238, 238); stroke-opacity: 1; stroke-width: 1px;\"/><path class=\"ygrid crisp\" transform=\"translate(0,152.37)\" d=\"M50,0h559\" style=\"stroke: rgb(238, 238, 238); stroke-opacity: 1; stroke-width: 1px;\"/><path class=\"ygrid crisp\" transform=\"translate(0,111.32)\" d=\"M50,0h559\" style=\"stroke: rgb(238, 238, 238); stroke-opacity: 1; stroke-width: 1px;\"/><path class=\"ygrid crisp\" transform=\"translate(0,70.26)\" d=\"M50,0h559\" style=\"stroke: rgb(238, 238, 238); stroke-opacity: 1; stroke-width: 1px;\"/></g></g><g class=\"zerolinelayer\"><path class=\"xzl zl crisp\" transform=\"translate(64.71000000000001,0)\" d=\"M0,60v390\" style=\"stroke: rgb(68, 68, 68); stroke-opacity: 1; stroke-width: 1px;\"/><path class=\"yzl zl crisp\" transform=\"translate(0,439.74)\" d=\"M50,0h559\" style=\"stroke: rgb(68, 68, 68); stroke-opacity: 1; stroke-width: 1px;\"/></g><path class=\"xlines-below\"/><path class=\"ylines-below\"/><g class=\"overlines-below\"/><g class=\"xaxislayer-below\"/><g class=\"yaxislayer-below\"/><g class=\"overaxes-below\"/><g class=\"plot\" transform=\"translate(50, 60)\" clip-path=\"url('#clip79505dxyplot')\"><g class=\"heatmaplayer mlayer\"><g class=\"hm\"><image xmlns=\"http://www.w3.org/2000/svg\" preserveAspectRatio=\"none\" height=\"390\" width=\"559\" x=\"0\" y=\"0\" xlink:href=\"data:image/png;base64,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\" style=\"opacity: 1;\"/></g></g></g><g class=\"overplot\"/><path class=\"xlines-above crisp\" d=\"\" style=\"fill: none; stroke-width: 1px; stroke: rgb(0, 0, 0); stroke-opacity: 0;\"/><path class=\"ylines-above crisp\" d=\"\" style=\"fill: none; stroke-width: 1px; stroke: rgb(0, 0, 0); stroke-opacity: 0;\"/><g class=\"overlines-above\"/><g class=\"xaxislayer-above\"><path class=\"xtick ticks crisp\" d=\"M0,451v5\" transform=\"translate(64.71000000000001,0)\" style=\"stroke: rgb(68, 68, 68); stroke-opacity: 1; stroke-width: 1px;\"/><path class=\"xtick ticks crisp\" d=\"M0,451v5\" transform=\"translate(211.82,0)\" style=\"stroke: rgb(68, 68, 68); stroke-opacity: 1; stroke-width: 1px;\"/><path class=\"xtick ticks crisp\" d=\"M0,451v5\" transform=\"translate(358.92,0)\" style=\"stroke: rgb(68, 68, 68); stroke-opacity: 1; stroke-width: 1px;\"/><path class=\"xtick ticks crisp\" d=\"M0,451v5\" transform=\"translate(506.03,0)\" style=\"stroke: rgb(68, 68, 68); stroke-opacity: 1; stroke-width: 1px;\"/><g class=\"xtick\"><text text-anchor=\"middle\" x=\"0\" y=\"470.4\" transform=\"translate(64.71000000000001,0)\" style=\"font-family: 'Open Sans', verdana, arial, sans-serif; font-size: 12px; fill: rgb(68, 68, 68); fill-opacity: 1; white-space: pre;\">0</text></g><g class=\"xtick\"><text text-anchor=\"middle\" x=\"0\" y=\"470.4\" transform=\"translate(211.82,0)\" style=\"font-family: 'Open Sans', verdana, arial, sans-serif; font-size: 12px; fill: rgb(68, 68, 68); fill-opacity: 1; white-space: pre;\">5</text></g><g class=\"xtick\"><text text-anchor=\"middle\" x=\"0\" y=\"470.4\" transform=\"translate(358.92,0)\" style=\"font-family: 'Open Sans', verdana, arial, sans-serif; font-size: 12px; fill: rgb(68, 68, 68); fill-opacity: 1; white-space: pre;\">10</text></g><g class=\"xtick\"><text text-anchor=\"middle\" x=\"0\" y=\"470.4\" transform=\"translate(506.03,0)\" style=\"font-family: 'Open Sans', verdana, arial, sans-serif; font-size: 12px; fill: rgb(68, 68, 68); fill-opacity: 1; white-space: pre;\">15</text></g></g><g class=\"yaxislayer-above\"><path class=\"ytick ticks crisp\" d=\"M49,0h-5\" transform=\"translate(0,439.74)\" style=\"stroke: rgb(68, 68, 68); stroke-opacity: 1; stroke-width: 1px;\"/><path class=\"ytick ticks crisp\" d=\"M49,0h-5\" transform=\"translate(0,398.68)\" style=\"stroke: rgb(68, 68, 68); stroke-opacity: 1; stroke-width: 1px;\"/><path class=\"ytick ticks crisp\" d=\"M49,0h-5\" transform=\"translate(0,357.63)\" style=\"stroke: rgb(68, 68, 68); stroke-opacity: 1; stroke-width: 1px;\"/><path class=\"ytick ticks crisp\" d=\"M49,0h-5\" transform=\"translate(0,316.58)\" style=\"stroke: rgb(68, 68, 68); stroke-opacity: 1; stroke-width: 1px;\"/><path class=\"ytick ticks crisp\" d=\"M49,0h-5\" transform=\"translate(0,275.53)\" style=\"stroke: rgb(68, 68, 68); stroke-opacity: 1; stroke-width: 1px;\"/><path class=\"ytick ticks crisp\" d=\"M49,0h-5\" transform=\"translate(0,234.47)\" style=\"stroke: rgb(68, 68, 68); stroke-opacity: 1; stroke-width: 1px;\"/><path class=\"ytick ticks crisp\" d=\"M49,0h-5\" transform=\"translate(0,193.42)\" style=\"stroke: rgb(68, 68, 68); stroke-opacity: 1; stroke-width: 1px;\"/><path class=\"ytick ticks crisp\" d=\"M49,0h-5\" transform=\"translate(0,152.37)\" style=\"stroke: rgb(68, 68, 68); stroke-opacity: 1; stroke-width: 1px;\"/><path class=\"ytick ticks crisp\" d=\"M49,0h-5\" transform=\"translate(0,111.32)\" style=\"stroke: rgb(68, 68, 68); stroke-opacity: 1; stroke-width: 1px;\"/><path class=\"ytick ticks crisp\" d=\"M49,0h-5\" transform=\"translate(0,70.26)\" style=\"stroke: rgb(68, 68, 68); stroke-opacity: 1; stroke-width: 1px;\"/><g class=\"ytick\"><text text-anchor=\"end\" x=\"41.6\" y=\"4.199999999999999\" transform=\"translate(0,439.74)\" style=\"font-family: 'Open Sans', verdana, arial, sans-serif; font-size: 12px; fill: rgb(68, 68, 68); fill-opacity: 1; white-space: pre;\">0</text></g><g class=\"ytick\"><text text-anchor=\"end\" x=\"41.6\" y=\"4.199999999999999\" transform=\"translate(0,398.68)\" style=\"font-family: 'Open Sans', verdana, arial, sans-serif; font-size: 12px; fill: rgb(68, 68, 68); fill-opacity: 1; white-space: pre;\">2</text></g><g class=\"ytick\"><text text-anchor=\"end\" x=\"41.6\" y=\"4.199999999999999\" transform=\"translate(0,357.63)\" style=\"font-family: 'Open Sans', verdana, arial, sans-serif; font-size: 12px; fill: rgb(68, 68, 68); fill-opacity: 1; white-space: pre;\">4</text></g><g class=\"ytick\"><text text-anchor=\"end\" x=\"41.6\" y=\"4.199999999999999\" transform=\"translate(0,316.58)\" style=\"font-family: 'Open Sans', verdana, arial, sans-serif; font-size: 12px; fill: rgb(68, 68, 68); fill-opacity: 1; white-space: pre;\">6</text></g><g class=\"ytick\"><text text-anchor=\"end\" x=\"41.6\" y=\"4.199999999999999\" transform=\"translate(0,275.53)\" style=\"font-family: 'Open Sans', verdana, arial, sans-serif; font-size: 12px; fill: rgb(68, 68, 68); fill-opacity: 1; white-space: pre;\">8</text></g><g class=\"ytick\"><text text-anchor=\"end\" x=\"41.6\" y=\"4.199999999999999\" transform=\"translate(0,234.47)\" style=\"font-family: 'Open Sans', verdana, arial, sans-serif; font-size: 12px; fill: rgb(68, 68, 68); fill-opacity: 1; white-space: pre;\">10</text></g><g class=\"ytick\"><text text-anchor=\"end\" x=\"41.6\" y=\"4.199999999999999\" transform=\"translate(0,193.42)\" style=\"font-family: 'Open Sans', verdana, arial, sans-serif; font-size: 12px; fill: rgb(68, 68, 68); fill-opacity: 1; white-space: pre;\">12</text></g><g class=\"ytick\"><text text-anchor=\"end\" x=\"41.6\" y=\"4.199999999999999\" transform=\"translate(0,152.37)\" style=\"font-family: 'Open Sans', verdana, arial, sans-serif; font-size: 12px; fill: rgb(68, 68, 68); fill-opacity: 1; white-space: pre;\">14</text></g><g class=\"ytick\"><text text-anchor=\"end\" x=\"41.6\" y=\"4.199999999999999\" transform=\"translate(0,111.32)\" style=\"font-family: 'Open Sans', verdana, arial, sans-serif; font-size: 12px; fill: rgb(68, 68, 68); fill-opacity: 1; white-space: pre;\">16</text></g><g class=\"ytick\"><text text-anchor=\"end\" x=\"41.6\" y=\"4.199999999999999\" transform=\"translate(0,70.26)\" style=\"font-family: 'Open Sans', verdana, arial, sans-serif; font-size: 12px; fill: rgb(68, 68, 68); fill-opacity: 1; white-space: pre;\">18</text></g></g><g class=\"overaxes-above\"/></g></g><g class=\"polarlayer\"/><g class=\"ternarylayer\"/><g class=\"geolayer\"/><g class=\"funnelarealayer\"/><g class=\"pielayer\"/><g class=\"treemaplayer\"/><g class=\"sunburstlayer\"/><g class=\"glimages\"/><defs id=\"topdefs-79505d\"><g class=\"clips\"/></defs><g class=\"layer-above\"><g class=\"imagelayer\"/><g class=\"shapelayer\"/></g><g class=\"infolayer\"><g class=\"cbca9e67 colorbar\" transform=\"translate(50,60)\"><rect class=\"cbbg\" x=\"569.5\" y=\"-0.5\" width=\"68.03125\" height=\"391\" style=\"fill: rgb(0, 0, 0); fill-opacity: 0; stroke: rgb(68, 68, 68); stroke-opacity: 1; stroke-width: 0;\"/><g class=\"cbfills\" transform=\"translate(0,10)\"><rect class=\"cbfill\" x=\"580\" width=\"30\" y=\"0\" height=\"370\" style=\"fill: url('#g79505d-cbca9e67');\"/></g><g class=\"cblines\" transform=\"translate(0,10)\"/><g class=\"cbaxis crisp\" transform=\"translate(0,-60)\"><g class=\"ycbca9e67tick\"><text text-anchor=\"start\" x=\"613.4\" y=\"4.199999999999999\" transform=\"translate(0,440)\" style=\"font-family: 'Open Sans', verdana, arial, sans-serif; font-size: 12px; fill: rgb(68, 68, 68); fill-opacity: 1; white-space: pre;\">0</text></g><g class=\"ycbca9e67tick\"><text text-anchor=\"start\" x=\"613.4\" y=\"4.199999999999999\" transform=\"translate(0,402.79)\" style=\"font-family: 'Open Sans', verdana, arial, sans-serif; font-size: 12px; fill: rgb(68, 68, 68); fill-opacity: 1; white-space: pre;\">0.1</text></g><g class=\"ycbca9e67tick\"><text text-anchor=\"start\" x=\"613.4\" y=\"4.199999999999999\" transform=\"translate(0,365.58)\" style=\"font-family: 'Open Sans', verdana, arial, sans-serif; font-size: 12px; fill: rgb(68, 68, 68); fill-opacity: 1; white-space: pre;\">0.2</text></g><g class=\"ycbca9e67tick\"><text text-anchor=\"start\" x=\"613.4\" y=\"4.199999999999999\" transform=\"translate(0,328.38)\" style=\"font-family: 'Open Sans', verdana, arial, sans-serif; font-size: 12px; fill: rgb(68, 68, 68); fill-opacity: 1; white-space: pre;\">0.3</text></g><g class=\"ycbca9e67tick\"><text text-anchor=\"start\" x=\"613.4\" y=\"4.199999999999999\" transform=\"translate(0,291.16999999999996)\" style=\"font-family: 'Open Sans', verdana, arial, sans-serif; font-size: 12px; fill: rgb(68, 68, 68); fill-opacity: 1; white-space: pre;\">0.4</text></g><g class=\"ycbca9e67tick\"><text text-anchor=\"start\" x=\"613.4\" y=\"4.199999999999999\" transform=\"translate(0,253.96)\" style=\"font-family: 'Open Sans', verdana, arial, sans-serif; font-size: 12px; fill: rgb(68, 68, 68); fill-opacity: 1; white-space: pre;\">0.5</text></g><g class=\"ycbca9e67tick\"><text text-anchor=\"start\" x=\"613.4\" y=\"4.199999999999999\" transform=\"translate(0,216.75)\" style=\"font-family: 'Open Sans', verdana, arial, sans-serif; font-size: 12px; fill: rgb(68, 68, 68); fill-opacity: 1; white-space: pre;\">0.6</text></g><g class=\"ycbca9e67tick\"><text text-anchor=\"start\" x=\"613.4\" y=\"4.199999999999999\" transform=\"translate(0,179.55)\" style=\"font-family: 'Open Sans', verdana, arial, sans-serif; font-size: 12px; fill: rgb(68, 68, 68); fill-opacity: 1; white-space: pre;\">0.7</text></g><g class=\"ycbca9e67tick\"><text text-anchor=\"start\" x=\"613.4\" y=\"4.199999999999999\" transform=\"translate(0,142.34)\" style=\"font-family: 'Open Sans', verdana, arial, sans-serif; font-size: 12px; fill: rgb(68, 68, 68); fill-opacity: 1; white-space: pre;\">0.8</text></g><g class=\"ycbca9e67tick\"><text text-anchor=\"start\" x=\"613.4\" y=\"4.199999999999999\" transform=\"translate(0,105.13)\" style=\"font-family: 'Open Sans', verdana, arial, sans-serif; font-size: 12px; fill: rgb(68, 68, 68); fill-opacity: 1; white-space: pre;\">0.9</text></g></g><g class=\"cbtitleunshift\" transform=\"translate(-50,-60)\"><g class=\"cbtitle\"/></g><rect class=\"cboutline\" x=\"580\" y=\"10\" width=\"30\" height=\"370\" style=\"stroke: rgb(68, 68, 68); stroke-opacity: 1; fill: none; stroke-width: 1;\"/></g><g class=\"g-gtitle\"/><g class=\"g-xtitle\"/><g class=\"g-ytitle\"/></g></svg>"
      ],
      "text/html": [
       "<div\n",
       "    class=\"webio-mountpoint\"\n",
       "    data-webio-mountpoint=\"17955065756493839288\"\n",
       ">\n",
       "    <script>\n",
       "    if (window.require && require.defined && require.defined(\"nbextensions/webio-jupyter-notebook\")) {\n",
       "        console.log(\"Jupyter WebIO extension detected, not mounting.\");\n",
       "    } else if (window.WebIO) {\n",
       "        WebIO.mount(\n",
       "            document.querySelector('[data-webio-mountpoint=\"17955065756493839288\"]'),\n",
       "            {\"props\":{},\"nodeType\":\"Scope\",\"type\":\"node\",\"instanceArgs\":{\"imports\":{\"data\":[{\"name\":\"Plotly\",\"type\":\"js\",\"url\":\"\\/assetserver\\/e6903599031aaef8675931dfcd7df98a1aeffbfc-plotly-latest.min.js\"},{\"name\":null,\"type\":\"js\",\"url\":\"\\/assetserver\\/74a5dea81f21b0b802ef1ee92f1c8a504eac1a0c-plotly_webio.bundle.js\"}],\"type\":\"async_block\"},\"id\":\"2738905143384193307\",\"handlers\":{\"_toImage\":[\"(function (options){return this.Plotly.toImage(this.plotElem,options).then((function (data){return WebIO.setval({\\\"name\\\":\\\"image\\\",\\\"scope\\\":\\\"2738905143384193307\\\",\\\"id\\\":\\\"16524587391371643542\\\",\\\"type\\\":\\\"observable\\\"},data)}))})\"],\"__get_gd_contents\":[\"(function (prop){prop==\\\"data\\\" ? (WebIO.setval({\\\"name\\\":\\\"__gd_contents\\\",\\\"scope\\\":\\\"2738905143384193307\\\",\\\"id\\\":\\\"15005396695019204371\\\",\\\"type\\\":\\\"observable\\\"},this.plotElem.data)) : undefined; return prop==\\\"layout\\\" ? (WebIO.setval({\\\"name\\\":\\\"__gd_contents\\\",\\\"scope\\\":\\\"2738905143384193307\\\",\\\"id\\\":\\\"15005396695019204371\\\",\\\"type\\\":\\\"observable\\\"},this.plotElem.layout)) : undefined})\"],\"_downloadImage\":[\"(function (options){return this.Plotly.downloadImage(this.plotElem,options)})\"],\"_commands\":[\"(function (args){var fn=args.shift(); var elem=this.plotElem; var Plotly=this.Plotly; args.unshift(elem); return Plotly[fn].apply(this,args)})\"]},\"systemjs_options\":null,\"mount_callbacks\":[\"function () {\\n    var handler = ((function (Plotly,PlotlyWebIO){PlotlyWebIO.init(WebIO); var gd=this.dom.querySelector(\\\"#plot-5abb2891-fa58-473d-ab28-9dd9e947a942\\\"); this.plotElem=gd; this.Plotly=Plotly; (window.Blink!==undefined) ? (gd.style.width=\\\"100%\\\", gd.style.height=\\\"100vh\\\", gd.style.marginLeft=\\\"0%\\\", gd.style.marginTop=\\\"0vh\\\") : undefined; window.onresize=(function (){return Plotly.Plots.resize(gd)}); Plotly.newPlot(gd,[{\\\"type\\\":\\\"heatmap\\\",\\\"colorscale\\\":[[0.0,\\\"#000004\\\"],[0.00392156862745098,\\\"#010005\\\"],[0.00784313725490196,\\\"#010106\\\"],[0.011764705882352941,\\\"#010108\\\"],[0.01568627450980392,\\\"#020109\\\"],[0.0196078431372549,\\\"#02020B\\\"],[0.023529411764705882,\\\"#02020D\\\"],[0.027450980392156862,\\\"#03030F\\\"],[0.03137254901960784,\\\"#030312\\\"],[0.03529411764705882,\\\"#040414\\\"],[0.0392156862745098,\\\"#050416\\\"],[0.043137254901960784,\\\"#060518\\\"],[0.047058823529411764,\\\"#06051A\\\"],[0.050980392156862744,\\\"#07061C\\\"],[0.054901960784313725,\\\"#08071E\\\"],[0.058823529411764705,\\\"#090720\\\"],[0.06274509803921569,\\\"#0A0822\\\"],[0.06666666666666667,\\\"#0B0924\\\"],[0.07058823529411765,\\\"#0C0926\\\"],[0.07450980392156863,\\\"#0D0A29\\\"],[0.0784313725490196,\\\"#0E0B2B\\\"],[0.08235294117647059,\\\"#100B2D\\\"],[0.08627450980392157,\\\"#110C2F\\\"],[0.09019607843137255,\\\"#120D31\\\"],[0.09411764705882353,\\\"#130D34\\\"],[0.09803921568627451,\\\"#140E36\\\"],[0.10196078431372549,\\\"#150E38\\\"],[0.10588235294117647,\\\"#160F3B\\\"],[0.10980392156862745,\\\"#180F3D\\\"],[0.11372549019607843,\\\"#19103F\\\"],[0.11764705882352941,\\\"#1A1042\\\"],[0.12156862745098039,\\\"#1C1044\\\"],[0.12549019607843137,\\\"#1D1147\\\"],[0.12941176470588237,\\\"#1E1149\\\"],[0.13333333333333333,\\\"#20114B\\\"],[0.13725490196078433,\\\"#21114E\\\"],[0.1411764705882353,\\\"#221150\\\"],[0.1450980392156863,\\\"#241253\\\"],[0.14901960784313725,\\\"#251255\\\"],[0.15294117647058825,\\\"#271258\\\"],[0.1568627450980392,\\\"#29115A\\\"],[0.1607843137254902,\\\"#2A115C\\\"],[0.16470588235294117,\\\"#2C115F\\\"],[0.16862745098039217,\\\"#2D1161\\\"],[0.17254901960784313,\\\"#2F1163\\\"],[0.17647058823529413,\\\"#311165\\\"],[0.1803921568627451,\\\"#331067\\\"],[0.1843137254901961,\\\"#341069\\\"],[0.18823529411764706,\\\"#36106B\\\"],[0.19215686274509805,\\\"#38106C\\\"],[0.19607843137254902,\\\"#390F6E\\\"],[0.2,\\\"#3B0F70\\\"],[0.20392156862745098,\\\"#3D0F71\\\"],[0.20784313725490197,\\\"#3F0F72\\\"],[0.21176470588235294,\\\"#400F74\\\"],[0.21568627450980393,\\\"#420F75\\\"],[0.2196078431372549,\\\"#440F76\\\"],[0.2235294117647059,\\\"#451077\\\"],[0.22745098039215686,\\\"#471078\\\"],[0.23137254901960785,\\\"#491078\\\"],[0.23529411764705882,\\\"#4A1079\\\"],[0.23921568627450981,\\\"#4C117A\\\"],[0.24313725490196078,\\\"#4E117B\\\"],[0.24705882352941178,\\\"#4F127B\\\"],[0.25098039215686274,\\\"#51127C\\\"],[0.2549019607843137,\\\"#52137C\\\"],[0.25882352941176473,\\\"#54137D\\\"],[0.2627450980392157,\\\"#56147D\\\"],[0.26666666666666666,\\\"#57157E\\\"],[0.27058823529411763,\\\"#59157E\\\"],[0.27450980392156865,\\\"#5A167E\\\"],[0.2784313725490196,\\\"#5C167F\\\"],[0.2823529411764706,\\\"#5D177F\\\"],[0.28627450980392155,\\\"#5F187F\\\"],[0.2901960784313726,\\\"#601880\\\"],[0.29411764705882354,\\\"#621980\\\"],[0.2980392156862745,\\\"#641A80\\\"],[0.30196078431372547,\\\"#651A80\\\"],[0.3058823529411765,\\\"#671B80\\\"],[0.30980392156862746,\\\"#681C81\\\"],[0.3137254901960784,\\\"#6A1C81\\\"],[0.3176470588235294,\\\"#6B1D81\\\"],[0.3215686274509804,\\\"#6D1D81\\\"],[0.3254901960784314,\\\"#6E1E81\\\"],[0.32941176470588235,\\\"#701F81\\\"],[0.3333333333333333,\\\"#721F81\\\"],[0.33725490196078434,\\\"#732081\\\"],[0.3411764705882353,\\\"#752181\\\"],[0.34509803921568627,\\\"#762181\\\"],[0.34901960784313724,\\\"#782281\\\"],[0.35294117647058826,\\\"#792282\\\"],[0.3568627450980392,\\\"#7B2382\\\"],[0.3607843137254902,\\\"#7C2382\\\"],[0.36470588235294116,\\\"#7E2482\\\"],[0.3686274509803922,\\\"#802582\\\"],[0.37254901960784315,\\\"#812581\\\"],[0.3764705882352941,\\\"#832681\\\"],[0.3803921568627451,\\\"#842681\\\"],[0.3843137254901961,\\\"#862781\\\"],[0.38823529411764707,\\\"#882781\\\"],[0.39215686274509803,\\\"#892881\\\"],[0.396078431372549,\\\"#8B2981\\\"],[0.4,\\\"#8C2981\\\"],[0.403921568627451,\\\"#8E2A81\\\"],[0.40784313725490196,\\\"#902A81\\\"],[0.4117647058823529,\\\"#912B81\\\"],[0.41568627450980394,\\\"#932B80\\\"],[0.4196078431372549,\\\"#942C80\\\"],[0.4235294117647059,\\\"#962C80\\\"],[0.42745098039215684,\\\"#982D80\\\"],[0.43137254901960786,\\\"#992D80\\\"],[0.43529411764705883,\\\"#9B2E7F\\\"],[0.4392156862745098,\\\"#9C2E7F\\\"],[0.44313725490196076,\\\"#9E2F7F\\\"],[0.4470588235294118,\\\"#A02F7F\\\"],[0.45098039215686275,\\\"#A1307E\\\"],[0.4549019607843137,\\\"#A3307E\\\"],[0.4588235294117647,\\\"#A5317E\\\"],[0.4627450980392157,\\\"#A6317D\\\"],[0.4666666666666667,\\\"#A8327D\\\"],[0.47058823529411764,\\\"#AA337D\\\"],[0.4745098039215686,\\\"#AB337C\\\"],[0.47843137254901963,\\\"#AD347C\\\"],[0.4823529411764706,\\\"#AE347B\\\"],[0.48627450980392156,\\\"#B0357B\\\"],[0.49019607843137253,\\\"#B2357B\\\"],[0.49411764705882355,\\\"#B3367A\\\"],[0.4980392156862745,\\\"#B5367A\\\"],[0.5019607843137255,\\\"#B73779\\\"],[0.5058823529411764,\\\"#B83779\\\"],[0.5098039215686274,\\\"#BA3878\\\"],[0.5137254901960784,\\\"#BC3978\\\"],[0.5176470588235295,\\\"#BD3977\\\"],[0.5215686274509804,\\\"#BF3A77\\\"],[0.5254901960784314,\\\"#C03A76\\\"],[0.5294117647058824,\\\"#C23B75\\\"],[0.5333333333333333,\\\"#C43C75\\\"],[0.5372549019607843,\\\"#C53C74\\\"],[0.5411764705882353,\\\"#C73D73\\\"],[0.5450980392156862,\\\"#C83E73\\\"],[0.5490196078431373,\\\"#CA3E72\\\"],[0.5529411764705883,\\\"#CC3F71\\\"],[0.5568627450980392,\\\"#CD4071\\\"],[0.5607843137254902,\\\"#CF4070\\\"],[0.5647058823529412,\\\"#D0416F\\\"],[0.5686274509803921,\\\"#D2426F\\\"],[0.5725490196078431,\\\"#D3436E\\\"],[0.5764705882352941,\\\"#D5446D\\\"],[0.5803921568627451,\\\"#D6456C\\\"],[0.5843137254901961,\\\"#D8456C\\\"],[0.5882352941176471,\\\"#D9466B\\\"],[0.592156862745098,\\\"#DB476A\\\"],[0.596078431372549,\\\"#DC4869\\\"],[0.6,\\\"#DE4968\\\"],[0.6039215686274509,\\\"#DF4A68\\\"],[0.6078431372549019,\\\"#E04C67\\\"],[0.611764705882353,\\\"#E24D66\\\"],[0.615686274509804,\\\"#E34E65\\\"],[0.6196078431372549,\\\"#E44F64\\\"],[0.6235294117647059,\\\"#E55064\\\"],[0.6274509803921569,\\\"#E75263\\\"],[0.6313725490196078,\\\"#E85362\\\"],[0.6352941176470588,\\\"#E95462\\\"],[0.6392156862745098,\\\"#EA5661\\\"],[0.6431372549019608,\\\"#EB5760\\\"],[0.6470588235294118,\\\"#EC5860\\\"],[0.6509803921568628,\\\"#ED5A5F\\\"],[0.6549019607843137,\\\"#EE5B5E\\\"],[0.6588235294117647,\\\"#EF5D5E\\\"],[0.6627450980392157,\\\"#F05F5E\\\"],[0.6666666666666666,\\\"#F1605D\\\"],[0.6705882352941176,\\\"#F2625D\\\"],[0.6745098039215687,\\\"#F2645C\\\"],[0.6784313725490196,\\\"#F3655C\\\"],[0.6823529411764706,\\\"#F4675C\\\"],[0.6862745098039216,\\\"#F4695C\\\"],[0.6901960784313725,\\\"#F56B5C\\\"],[0.6941176470588235,\\\"#F66C5C\\\"],[0.6980392156862745,\\\"#F66E5C\\\"],[0.7019607843137254,\\\"#F7705C\\\"],[0.7058823529411765,\\\"#F7725C\\\"],[0.7098039215686275,\\\"#F8745C\\\"],[0.7137254901960784,\\\"#F8765C\\\"],[0.7176470588235294,\\\"#F9785D\\\"],[0.7215686274509804,\\\"#F9795D\\\"],[0.7254901960784313,\\\"#F97B5D\\\"],[0.7294117647058823,\\\"#FA7D5E\\\"],[0.7333333333333333,\\\"#FA7F5E\\\"],[0.7372549019607844,\\\"#FA815F\\\"],[0.7411764705882353,\\\"#FB835F\\\"],[0.7450980392156863,\\\"#FB8560\\\"],[0.7490196078431373,\\\"#FB8761\\\"],[0.7529411764705882,\\\"#FC8961\\\"],[0.7568627450980392,\\\"#FC8A62\\\"],[0.7607843137254902,\\\"#FC8C63\\\"],[0.7647058823529411,\\\"#FC8E64\\\"],[0.7686274509803922,\\\"#FC9065\\\"],[0.7725490196078432,\\\"#FD9266\\\"],[0.7764705882352941,\\\"#FD9467\\\"],[0.7803921568627451,\\\"#FD9668\\\"],[0.7843137254901961,\\\"#FD9869\\\"],[0.788235294117647,\\\"#FD9A6A\\\"],[0.792156862745098,\\\"#FD9B6B\\\"],[0.796078431372549,\\\"#FE9D6C\\\"],[0.8,\\\"#FE9F6D\\\"],[0.803921568627451,\\\"#FEA16E\\\"],[0.807843137254902,\\\"#FEA36F\\\"],[0.8117647058823529,\\\"#FEA571\\\"],[0.8156862745098039,\\\"#FEA772\\\"],[0.8196078431372549,\\\"#FEA973\\\"],[0.8235294117647058,\\\"#FEAA74\\\"],[0.8274509803921568,\\\"#FEAC76\\\"],[0.8313725490196079,\\\"#FEAE77\\\"],[0.8352941176470589,\\\"#FEB078\\\"],[0.8392156862745098,\\\"#FEB27A\\\"],[0.8431372549019608,\\\"#FEB47B\\\"],[0.8470588235294118,\\\"#FEB67C\\\"],[0.8509803921568627,\\\"#FEB77E\\\"],[0.8549019607843137,\\\"#FEB97F\\\"],[0.8588235294117647,\\\"#FEBB81\\\"],[0.8627450980392157,\\\"#FEBD82\\\"],[0.8666666666666667,\\\"#FEBF84\\\"],[0.8705882352941177,\\\"#FEC185\\\"],[0.8745098039215686,\\\"#FEC287\\\"],[0.8784313725490196,\\\"#FEC488\\\"],[0.8823529411764706,\\\"#FEC68A\\\"],[0.8862745098039215,\\\"#FEC88C\\\"],[0.8901960784313725,\\\"#FECA8D\\\"],[0.8941176470588236,\\\"#FECC8F\\\"],[0.8980392156862745,\\\"#FECD90\\\"],[0.9019607843137255,\\\"#FECF92\\\"],[0.9058823529411765,\\\"#FED194\\\"],[0.9098039215686274,\\\"#FED395\\\"],[0.9137254901960784,\\\"#FED597\\\"],[0.9176470588235294,\\\"#FED799\\\"],[0.9215686274509803,\\\"#FED89A\\\"],[0.9254901960784314,\\\"#FDDA9C\\\"],[0.9294117647058824,\\\"#FDDC9E\\\"],[0.9333333333333333,\\\"#FDDEA0\\\"],[0.9372549019607843,\\\"#FDE0A1\\\"],[0.9411764705882353,\\\"#FDE2A3\\\"],[0.9450980392156862,\\\"#FDE3A5\\\"],[0.9490196078431372,\\\"#FDE5A7\\\"],[0.9529411764705882,\\\"#FDE7A9\\\"],[0.9568627450980393,\\\"#FDE9AA\\\"],[0.9607843137254902,\\\"#FDEBAC\\\"],[0.9647058823529412,\\\"#FCECAE\\\"],[0.9686274509803922,\\\"#FCEEB0\\\"],[0.9725490196078431,\\\"#FCF0B2\\\"],[0.9764705882352941,\\\"#FCF2B4\\\"],[0.9803921568627451,\\\"#FCF4B6\\\"],[0.984313725490196,\\\"#FCF6B8\\\"],[0.9882352941176471,\\\"#FCF7B9\\\"],[0.9921568627450981,\\\"#FCF9BB\\\"],[0.996078431372549,\\\"#FCFBBD\\\"],[1.0,\\\"#FCFDBF\\\"]],\\\"z\\\":[[0.0,0.0,0.0,0.0,0.0,0.0,0.0,0.0,0.0,0.0,0.0,0.0,0.0,0.0,0.0,0.0,0.0,0.0,0.0],[0.33562243,0.33562243,0.3851998,0.25350773,0.25350773,0.34644935,0.34209913,0.3644552,0.3647541,0.37884963,0.38981915,0.43403524,0.292087,0.292087,0.45459977,0.45459977,0.37421456,0.37421456,0.63058054],[0.40521163,0.3851998,0.40521163,0.35032856,0.34209913,0.35903183,0.34644935,0.36686257,0.36697045,0.38216132,0.39883876,0.43818104,0.46442533,0.48348823,0.47397587,0.46442533,0.63058054,0.65458935,0.65458935],[0.9861469,0.98864496,0.982331,0.35903183,0.38093087,0.36733317,0.35032856,0.36697045,0.3795424,0.39244953,0.40241757,0.44680405,0.47397587,0.48824593,0.48824593,0.48348823,0.73203987,0.73397654,0.6969431],[0.9868755,0.98888516,0.9833547,0.3644552,0.38417202,0.3795424,0.3647541,0.36733317,0.3943601,0.39517182,0.40507436,0.44736284,0.69749916,0.6969431,0.7028848,0.7355031,0.7330621,0.73826075,0.69749916],[0.98727196,0.98955584,0.9838961,0.3943601,0.396193,0.38093087,0.36686257,0.38417202,0.396193,0.40241757,0.41713423,0.44751728,0.73314947,0.7330621,0.73203987,0.74550694,0.73314947,0.74420214,0.7028848],[0.98736346,0.99008083,0.98438686,0.39517182,0.41043133,0.38216132,0.37884963,0.39244953,0.40398946,0.40398946,0.41721997,0.45673177,0.73826075,0.74420214,0.73397654,0.748664,0.74550694,0.748664,0.7355031],[0.98750526,0.9907036,0.9851485,0.41721997,0.42190227,0.38981915,0.39883876,0.41713423,0.40507436,0.41043133,0.42190227,0.45675904,0.8571212,0.86094767,0.8560897,0.869248,0.8630491,0.86346984,0.8636502],[0.9880044,0.99071705,0.98529565,0.45673177,0.45675904,0.44736284,0.43403524,0.43818104,0.44751728,0.44680405,0.4705396,0.4705396,0.86340207,0.87025267,0.8643756,0.87198323,0.866226,0.86606586,0.8637072],[0.98804605,0.99091905,0.9885119,0.8691759,0.8630491,0.8675958,0.8711974,0.8727703,0.8712087,0.86685723,0.8560897,0.8636502,0.8665483,0.87104213,0.8685509,0.8760983,0.86660266,0.868529,0.8637982],[0.9882046,0.9911765,0.98994493,0.8692376,0.86340207,0.86842954,0.87222844,0.8729046,0.8720895,0.868529,0.8571212,0.86606586,0.86685723,0.87150836,0.8687922,0.87707347,0.86842954,0.8698253,0.8691759],[0.98933303,0.9912052,0.99033195,0.86997485,0.86346984,0.8687922,0.87227076,0.8740367,0.87379384,0.8694132,0.86094767,0.866226,0.8675958,0.87424606,0.8694132,0.8785631,0.86997485,0.8705733,0.86952496],[0.9895384,0.99141395,0.99040204,0.8709927,0.8637072,0.87025267,0.87293404,0.8746306,0.8744053,0.86952496,0.8637982,0.8665483,0.8692376,0.8760664,0.8712664,0.8796405,0.87034965,0.8709927,0.8706522],[0.9898287,0.9926061,0.9909295,0.8712664,0.8643756,0.8705733,0.87333024,0.87477505,0.8744914,0.87034965,0.86660266,0.8685509,0.8712087,0.877457,0.8720895,0.88021517,0.8711974,0.87222844,0.87227076],[0.98988825,0.9927794,0.99231905,0.87424606,0.8760983,0.8706522,0.8760664,0.87797123,0.8775137,0.87104213,0.869248,0.87150836,0.87293404,0.8775137,0.87333024,0.88129765,0.8727703,0.8744914,0.8729046],[0.9921477,0.9933997,0.992381,0.88021517,0.877457,0.87198323,0.88129765,0.88382953,0.8796405,0.87707347,0.8698253,0.8785631,0.8740367,0.87797123,0.87477505,0.88382953,0.8744053,0.8746306,0.87379384],[0.9921665,0.9935822,0.99274904,0.98988825,0.9885119,0.98804605,0.99293864,0.9898287,0.9921665,0.9895384,0.98933303,0.9921477,0.98529565,0.98736346,0.9851485,0.9838961,0.982331,0.98438686,0.9833547],[0.99255264,0.9939058,0.9932023,0.99231905,0.99255264,0.99033195,0.993871,0.992381,0.9932023,0.9909295,0.99040204,0.99274904,0.98750526,0.98994493,0.98727196,0.9882046,0.9868755,0.9880044,0.9861469],[0.99293864,0.99441403,0.993871,0.9926061,0.9939058,0.99091905,0.99441403,0.9927794,0.9933997,0.99141395,0.9912052,0.9935822,0.9907036,0.99008083,0.99071705,0.9911765,0.98888516,0.98955584,0.98864496]],\\\"transpose\\\":true}],{\\\"margin\\\":{\\\"l\\\":50,\\\"b\\\":50,\\\"r\\\":50,\\\"t\\\":60}},{}); gd.on(\\\"plotly_hover\\\",(function (data){var filtered_data=WebIO.PlotlyCommands.filterEventData(gd,data,\\\"hover\\\"); return !(filtered_data.isnil) ? (WebIO.setval({\\\"name\\\":\\\"hover\\\",\\\"scope\\\":\\\"2738905143384193307\\\",\\\"id\\\":\\\"13849442640167893966\\\",\\\"type\\\":\\\"observable\\\"},filtered_data.out)) : undefined})); gd.on(\\\"plotly_unhover\\\",(function (){return WebIO.setval({\\\"name\\\":\\\"hover\\\",\\\"scope\\\":\\\"2738905143384193307\\\",\\\"id\\\":\\\"13849442640167893966\\\",\\\"type\\\":\\\"observable\\\"},{})})); gd.on(\\\"plotly_selected\\\",(function (data){var filtered_data=WebIO.PlotlyCommands.filterEventData(gd,data,\\\"selected\\\"); return !(filtered_data.isnil) ? (WebIO.setval({\\\"name\\\":\\\"selected\\\",\\\"scope\\\":\\\"2738905143384193307\\\",\\\"id\\\":\\\"11347269980982344405\\\",\\\"type\\\":\\\"observable\\\"},filtered_data.out)) : undefined})); gd.on(\\\"plotly_deselect\\\",(function (){return WebIO.setval({\\\"name\\\":\\\"selected\\\",\\\"scope\\\":\\\"2738905143384193307\\\",\\\"id\\\":\\\"11347269980982344405\\\",\\\"type\\\":\\\"observable\\\"},{})})); gd.on(\\\"plotly_relayout\\\",(function (data){var filtered_data=WebIO.PlotlyCommands.filterEventData(gd,data,\\\"relayout\\\"); return !(filtered_data.isnil) ? (WebIO.setval({\\\"name\\\":\\\"relayout\\\",\\\"scope\\\":\\\"2738905143384193307\\\",\\\"id\\\":\\\"3430284731829882428\\\",\\\"type\\\":\\\"observable\\\"},filtered_data.out)) : undefined})); return gd.on(\\\"plotly_click\\\",(function (data){var filtered_data=WebIO.PlotlyCommands.filterEventData(gd,data,\\\"click\\\"); return !(filtered_data.isnil) ? (WebIO.setval({\\\"name\\\":\\\"click\\\",\\\"scope\\\":\\\"2738905143384193307\\\",\\\"id\\\":\\\"15381390896928925875\\\",\\\"type\\\":\\\"observable\\\"},filtered_data.out)) : undefined}))}));\\n    (WebIO.importBlock({\\\"data\\\":[{\\\"name\\\":\\\"Plotly\\\",\\\"type\\\":\\\"js\\\",\\\"url\\\":\\\"\\/assetserver\\/e6903599031aaef8675931dfcd7df98a1aeffbfc-plotly-latest.min.js\\\"},{\\\"name\\\":null,\\\"type\\\":\\\"js\\\",\\\"url\\\":\\\"\\/assetserver\\/74a5dea81f21b0b802ef1ee92f1c8a504eac1a0c-plotly_webio.bundle.js\\\"}],\\\"type\\\":\\\"async_block\\\"})).then((imports) => handler.apply(this, imports));\\n}\\n\"],\"observables\":{\"_toImage\":{\"sync\":false,\"id\":\"18115200842679263145\",\"value\":{}},\"hover\":{\"sync\":false,\"id\":\"13849442640167893966\",\"value\":{}},\"selected\":{\"sync\":false,\"id\":\"11347269980982344405\",\"value\":{}},\"__gd_contents\":{\"sync\":false,\"id\":\"15005396695019204371\",\"value\":{}},\"click\":{\"sync\":false,\"id\":\"15381390896928925875\",\"value\":{}},\"image\":{\"sync\":true,\"id\":\"16524587391371643542\",\"value\":\"\"},\"__get_gd_contents\":{\"sync\":false,\"id\":\"12275004029262106112\",\"value\":\"\"},\"_downloadImage\":{\"sync\":false,\"id\":\"11000581653059385372\",\"value\":{}},\"relayout\":{\"sync\":false,\"id\":\"3430284731829882428\",\"value\":{}},\"_commands\":{\"sync\":false,\"id\":\"3650500186373308776\",\"value\":[]}}},\"children\":[{\"props\":{\"id\":\"plot-5abb2891-fa58-473d-ab28-9dd9e947a942\"},\"nodeType\":\"DOM\",\"type\":\"node\",\"instanceArgs\":{\"namespace\":\"html\",\"tag\":\"div\"},\"children\":[]}]},\n",
       "            window,\n",
       "        );\n",
       "    } else {\n",
       "        document\n",
       "            .querySelector('[data-webio-mountpoint=\"17955065756493839288\"]')\n",
       "            .innerHTML = (\n",
       "                '<div style=\"padding: 1em; background-color: #f8d6da; border: 1px solid #f5c6cb\">' +\n",
       "                '<p><strong>WebIO not detected.</strong></p>' +\n",
       "                '<p>Please read ' +\n",
       "                '<a href=\"https://juliagizmos.github.io/WebIO.jl/latest/troubleshooting/not-detected/\" target=\"_blank\">the troubleshooting guide</a> ' +\n",
       "                'for more information on how to resolve this issue.</p>' +\n",
       "                '<p><a href=\"https://juliagizmos.github.io/WebIO.jl/latest/troubleshooting/not-detected/\" target=\"_blank\">https://juliagizmos.github.io/WebIO.jl/latest/troubleshooting/not-detected/</a></p>' +\n",
       "                '</div>'\n",
       "            );\n",
       "    }\n",
       "    </script>\n",
       "</div>\n"
      ],
      "text/plain": [
       "data: [\n",
       "  \"heatmap with fields colorscale, transpose, type, and z\"\n",
       "]\n",
       "\n",
       "layout: \"layout with field margin\"\n",
       "\n"
      ]
     },
     "execution_count": 60,
     "metadata": {
      "@webio": {
       "kernelId": "3ebffe02-9971-46bb-a883-43a190711b66"
      }
     },
     "output_type": "execute_result"
    }
   ],
   "source": [
    "plot([heatmap(z=d2, transpose=true, colorscale=magma)])"
   ]
  }
 ],
 "metadata": {
  "@webio": {
   "lastCommId": "14637a39-ea54-4b67-9bed-46b9ee62681f",
   "lastKernelId": "425dca28-bff2-4f4e-91b3-48b0d15fb297"
  },
  "kernelspec": {
   "display_name": "Julia 1.5.1",
   "language": "julia",
   "name": "julia-1.5"
  },
  "language_info": {
   "file_extension": ".jl",
   "mimetype": "application/julia",
   "name": "julia",
   "version": "1.5.1"
  }
 },
 "nbformat": 4,
 "nbformat_minor": 4
}
