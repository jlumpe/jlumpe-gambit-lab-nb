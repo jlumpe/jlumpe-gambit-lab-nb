{
 "cells": [
  {
   "cell_type": "markdown",
   "id": "2e98b26f",
   "metadata": {},
   "source": [
    "# 210719 Build genome database"
   ]
  },
  {
   "cell_type": "code",
   "execution_count": 1,
   "id": "03526c81",
   "metadata": {},
   "outputs": [],
   "source": [
    "from pathlib import Path\n",
    "import json"
   ]
  },
  {
   "cell_type": "code",
   "execution_count": 2,
   "id": "0d8b277e",
   "metadata": {},
   "outputs": [],
   "source": [
    "import numpy as np\n",
    "import pandas as pd\n",
    "from tqdm import tqdm\n",
    "from sqlalchemy import create_engine\n",
    "from sqlalchemy.orm import sessionmaker"
   ]
  },
  {
   "cell_type": "code",
   "execution_count": 3,
   "id": "1537f543",
   "metadata": {},
   "outputs": [],
   "source": [
    "from gambit.db.models import *\n",
    "from gambit.db.migrate import init_db"
   ]
  },
  {
   "cell_type": "code",
   "execution_count": 4,
   "id": "e1fb696d",
   "metadata": {},
   "outputs": [],
   "source": [
    "from gambit_legacy.db.models import models_2_3"
   ]
  },
  {
   "cell_type": "markdown",
   "id": "aa807880",
   "metadata": {},
   "source": [
    "## Setup"
   ]
  },
  {
   "cell_type": "code",
   "execution_count": 5,
   "id": "5af636af",
   "metadata": {},
   "outputs": [],
   "source": [
    "DATESTR = '210719'\n",
    "NBNAME = DATESTR + '-build-genome-database'\n",
    "DATESTR_ISO = '2021-07-19'"
   ]
  },
  {
   "cell_type": "code",
   "execution_count": 6,
   "id": "794f8981",
   "metadata": {},
   "outputs": [],
   "source": [
    "infiles = dict(\n",
    "    taxonomy=Path('data-intermediate/210718-compile-edits/'),\n",
    "    db_v12=Path('/home/jared/projects/gambit/data/databases/refseq-curated/midas-1.2/refseq-curated-1.2a-201221.db'),\n",
    "    thresholds=Path('data-intermediate/210719-set-thresholds/thresholds.csv'),\n",
    "    genomes=Path('../../data/intermediate/210303-database-v2-overlaps/210303-format-data/genomes-v1.1.csv'),\n",
    ")"
   ]
  },
  {
   "cell_type": "code",
   "execution_count": 7,
   "id": "d6e9fe81",
   "metadata": {},
   "outputs": [],
   "source": [
    "intermediate_out = Path('data-intermediate') / NBNAME\n",
    "if not intermediate_out.is_dir():\n",
    "    intermediate_out.mkdir()"
   ]
  },
  {
   "cell_type": "code",
   "execution_count": 8,
   "id": "f1771c9c",
   "metadata": {},
   "outputs": [],
   "source": [
    "db_out = Path(f'/home/jared/projects/gambit/data/databases/refseq-curated/1.0-beta1/gambit-genomes-1.0b1-{DATESTR}.db')"
   ]
  },
  {
   "cell_type": "markdown",
   "id": "e8be4256",
   "metadata": {},
   "source": [
    "## Load data"
   ]
  },
  {
   "cell_type": "markdown",
   "id": "e32f4d64",
   "metadata": {},
   "source": [
    "### Genomes"
   ]
  },
  {
   "cell_type": "code",
   "execution_count": 9,
   "id": "a34ccabf",
   "metadata": {},
   "outputs": [],
   "source": [
    "genomes_df = pd.read_csv(infiles['genomes'])"
   ]
  },
  {
   "cell_type": "code",
   "execution_count": 10,
   "id": "f47ddaa6",
   "metadata": {},
   "outputs": [
    {
     "data": {
      "text/plain": [
       "50752"
      ]
     },
     "execution_count": 10,
     "metadata": {},
     "output_type": "execute_result"
    }
   ],
   "source": [
    "genomes_df.shape[0]"
   ]
  },
  {
   "cell_type": "markdown",
   "id": "12dffd33",
   "metadata": {},
   "source": [
    "### Updated taxonomy"
   ]
  },
  {
   "cell_type": "code",
   "execution_count": 11,
   "id": "914d749a",
   "metadata": {},
   "outputs": [],
   "source": [
    "taxa = pd.read_csv(infiles['taxonomy'] / 'taxa.csv')\n",
    "taxa.set_index('id', inplace=True)"
   ]
  },
  {
   "cell_type": "code",
   "execution_count": 12,
   "id": "c0948cbe",
   "metadata": {},
   "outputs": [],
   "source": [
    "with open(infiles['taxonomy'] / 'genome-assignments.json') as f:\n",
    "    genome_assignments_array = json.load(f)"
   ]
  },
  {
   "cell_type": "code",
   "execution_count": 13,
   "id": "32a5e885",
   "metadata": {},
   "outputs": [],
   "source": [
    "assert len(genome_assignments_array) == genomes_df.shape[0]\n",
    "\n",
    "genome_assignments = {acc: tid for acc, tid in zip(genomes_df['accession'], genome_assignments_array) if tid != 0}"
   ]
  },
  {
   "cell_type": "code",
   "execution_count": 14,
   "id": "dd09a58d",
   "metadata": {},
   "outputs": [
    {
     "data": {
      "text/plain": [
       "48224"
      ]
     },
     "execution_count": 14,
     "metadata": {},
     "output_type": "execute_result"
    }
   ],
   "source": [
    "len(genome_assignments)"
   ]
  },
  {
   "cell_type": "markdown",
   "id": "adec8490",
   "metadata": {},
   "source": [
    "### Thresholds"
   ]
  },
  {
   "cell_type": "code",
   "execution_count": 15,
   "id": "b20973e4",
   "metadata": {},
   "outputs": [],
   "source": [
    "thresholds_df = pd.read_csv(infiles['thresholds'])\n",
    "thresholds_df.set_index('id', inplace=True)\n",
    "\n",
    "assert np.all(taxa.index == thresholds_df.index)"
   ]
  },
  {
   "cell_type": "code",
   "execution_count": 16,
   "id": "bfe45cb6",
   "metadata": {},
   "outputs": [],
   "source": [
    "taxa = pd.concat([taxa, thresholds_df], axis=1)"
   ]
  },
  {
   "cell_type": "markdown",
   "id": "f424e898",
   "metadata": {},
   "source": [
    "### MIDAS 1.2a Database"
   ]
  },
  {
   "cell_type": "code",
   "execution_count": 17,
   "id": "49543193",
   "metadata": {},
   "outputs": [],
   "source": [
    "engine_v12 = create_engine(f'sqlite:///{infiles[\"db_v12\"]}')"
   ]
  },
  {
   "cell_type": "code",
   "execution_count": 18,
   "id": "2e865bcc",
   "metadata": {},
   "outputs": [],
   "source": [
    "session_v12 = sessionmaker(engine_v12)()"
   ]
  },
  {
   "cell_type": "code",
   "execution_count": 19,
   "id": "6c6bc368",
   "metadata": {},
   "outputs": [],
   "source": [
    "gset_v12 = session_v12.query(models_2_3.ReferenceGenomeSet).one()"
   ]
  },
  {
   "cell_type": "code",
   "execution_count": 20,
   "id": "9d32267b",
   "metadata": {},
   "outputs": [
    {
     "data": {
      "text/plain": [
       "{'_sa_instance_state': <sqlalchemy.orm.state.InstanceState at 0x7ffada338ca0>,\n",
       " 'key': 'midas/assembly/curated',\n",
       " 'name': 'refseq_curated_1.2a1',\n",
       " 'extra': {'date_created': '201221',\n",
       "  'parent': {'key': 'midas/assembly/curated',\n",
       "   'version': '1.1',\n",
       "   'description': 'Created 2020-05-26 by filtering version 0.9 by inclusion in refseq/assembly/all 1.1',\n",
       "   'notes': 'Also an intermediate development version not intended for use, but version number not marked as such. A more appropriate version number would have been 1.1a1, but retroactively altering it would likely just lead to more confusion.'}},\n",
       " 'id': 1,\n",
       " 'version': '1.2a1',\n",
       " 'description': 'Migration of version 1.1 from v1.x library format/schema to schema for newest v2.2 software release. This is an intermediate/development version not intended for full use, notably it does not yet have thresholds set. Incremented minor version number because previous version number was not properly marked as alpha/pre-release, and also due to the schema change. Apart from migrating to the new schema, this version is updated to include the latest information downloaded from the NCBI assembly and taxonomy databases (the initial version of the database was based on information downloaded in 2016). Some additional curation was performed based on the changes to the NCBI data between then and now.'}"
      ]
     },
     "execution_count": 20,
     "metadata": {},
     "output_type": "execute_result"
    }
   ],
   "source": [
    "gset_v12.__dict__"
   ]
  },
  {
   "cell_type": "code",
   "execution_count": 21,
   "id": "14be67b3",
   "metadata": {},
   "outputs": [
    {
     "data": {
      "text/plain": [
       "50741"
      ]
     },
     "execution_count": 21,
     "metadata": {},
     "output_type": "execute_result"
    }
   ],
   "source": [
    "gset_v12.genomes.count()"
   ]
  },
  {
   "cell_type": "markdown",
   "id": "d0299c61",
   "metadata": {},
   "source": [
    "## Init"
   ]
  },
  {
   "cell_type": "code",
   "execution_count": 22,
   "id": "7ca03038",
   "metadata": {},
   "outputs": [],
   "source": [
    "if db_out.is_file():\n",
    "    db_out.unlink()"
   ]
  },
  {
   "cell_type": "code",
   "execution_count": 23,
   "id": "794413d4",
   "metadata": {},
   "outputs": [],
   "source": [
    "engine = create_engine(f'sqlite:///{db_out}')"
   ]
  },
  {
   "cell_type": "code",
   "execution_count": 24,
   "id": "30017532",
   "metadata": {},
   "outputs": [],
   "source": [
    "init_db(engine)"
   ]
  },
  {
   "cell_type": "code",
   "execution_count": 25,
   "id": "4bd870bb",
   "metadata": {},
   "outputs": [],
   "source": [
    "Session = sessionmaker(engine)\n",
    "session = Session()"
   ]
  },
  {
   "cell_type": "markdown",
   "id": "842deab2",
   "metadata": {},
   "source": [
    "## Genome set"
   ]
  },
  {
   "cell_type": "code",
   "execution_count": 26,
   "id": "b997ec16",
   "metadata": {},
   "outputs": [],
   "source": [
    "gset = ReferenceGenomeSet(\n",
    "    key='gambit/refseq-curated',\n",
    "    version='1.0b1',\n",
    "    name='GAMBIT curated RefSeq genomes version 1.0b1',\n",
    "    description='Curated genome database derived from NCBI RefSeq. Beta version.',\n",
    "    extra=dict(\n",
    "        author='Jared Lumpe',\n",
    "        revision=dict(\n",
    "            num=1,\n",
    "            date=DATESTR_ISO,\n",
    "            description='Initial revision.'\n",
    "        ),\n",
    "    ),\n",
    ")"
   ]
  },
  {
   "cell_type": "code",
   "execution_count": 27,
   "id": "46450674",
   "metadata": {},
   "outputs": [],
   "source": [
    "session.add(gset)\n",
    "session.commit()"
   ]
  },
  {
   "cell_type": "markdown",
   "id": "7c0f7dae",
   "metadata": {},
   "source": [
    "## Taxa"
   ]
  },
  {
   "cell_type": "code",
   "execution_count": 28,
   "id": "ae2d46cf",
   "metadata": {},
   "outputs": [],
   "source": [
    "old_id_to_taxon = dict()"
   ]
  },
  {
   "cell_type": "code",
   "execution_count": 29,
   "id": "389b4430",
   "metadata": {},
   "outputs": [],
   "source": [
    "for row in taxa.itertuples():\n",
    "    taxon = Taxon(\n",
    "        genome_set=gset,\n",
    "        key=row.key,\n",
    "        ncbi_id=None if pd.isnull(row.ncbi_id) else int(row.ncbi_id),\n",
    "        name=row.name,\n",
    "        rank=None if pd.isnull(row.rank) else row.rank,\n",
    "        report=row.report,\n",
    "        distance_threshold=row.final_threshold,\n",
    "    )\n",
    "    old_id_to_taxon[row.Index] = taxon\n",
    "    session.add(taxon)"
   ]
  },
  {
   "cell_type": "code",
   "execution_count": 30,
   "id": "e932c79e",
   "metadata": {},
   "outputs": [],
   "source": [
    "# Assign parents\n",
    "for row in taxa.itertuples():\n",
    "    if not pd.isnull(row.parent_id):\n",
    "        taxon = old_id_to_taxon[row.Index]\n",
    "        taxon.parent = old_id_to_taxon[int(row.parent_id)]"
   ]
  },
  {
   "cell_type": "code",
   "execution_count": 31,
   "id": "0aed17ed",
   "metadata": {},
   "outputs": [],
   "source": [
    "session.commit()"
   ]
  },
  {
   "cell_type": "markdown",
   "id": "67a8f41e",
   "metadata": {},
   "source": [
    "## Genomes"
   ]
  },
  {
   "cell_type": "code",
   "execution_count": 32,
   "id": "49e27ca9",
   "metadata": {},
   "outputs": [],
   "source": [
    "from gambit.query.classify import reportable_taxon"
   ]
  },
  {
   "cell_type": "code",
   "execution_count": 33,
   "id": "fb2e96f0",
   "metadata": {},
   "outputs": [
    {
     "name": "stderr",
     "output_type": "stream",
     "text": [
      "100%|██████████| 50741/50741 [00:38<00:00, 1307.19it/s]\n"
     ]
    }
   ],
   "source": [
    "for old in tqdm(gset_v12.genomes, total=gset_v12.genomes.count()):\n",
    "    acc = old.genome.refseq_acc\n",
    "    try:\n",
    "        taxon_id = genome_assignments[acc]\n",
    "    except KeyError:\n",
    "        continue\n",
    "\n",
    "    taxon = old_id_to_taxon[taxon_id]\n",
    "    reportable = reportable_taxon(taxon)\n",
    "    \n",
    "    assert old.genome.description.startswith('[' + acc + '] ')\n",
    "    \n",
    "    genome = Genome(\n",
    "        key=old.genome.key,\n",
    "        description=old.genome.description,\n",
    "        ncbi_db=old.genome.entrez_db,\n",
    "        ncbi_id=old.genome.entrez_id,\n",
    "        refseq_acc=old.genome.refseq_acc,\n",
    "        genbank_acc=old.genome.genbank_acc,\n",
    "    )\n",
    "    session.add(genome)\n",
    "    \n",
    "    annotated = AnnotatedGenome(\n",
    "        genome_set=gset,\n",
    "        genome=genome,\n",
    "        taxon=taxon,\n",
    "        organism=reportable.name,\n",
    "    )\n",
    "    session.add(annotated)"
   ]
  },
  {
   "cell_type": "code",
   "execution_count": 34,
   "id": "33e52345",
   "metadata": {},
   "outputs": [],
   "source": [
    "assert gset.genomes.count() == len(genome_assignments)"
   ]
  },
  {
   "cell_type": "code",
   "execution_count": 35,
   "id": "9eb2d836",
   "metadata": {},
   "outputs": [],
   "source": [
    "session.commit()"
   ]
  },
  {
   "cell_type": "markdown",
   "id": "47b17873",
   "metadata": {},
   "source": [
    "## Save additional data"
   ]
  },
  {
   "cell_type": "code",
   "execution_count": 36,
   "id": "8c0c2224",
   "metadata": {},
   "outputs": [],
   "source": [
    "_data = [(old_id, taxon.id) for old_id, taxon in old_id_to_taxon.items()]\n",
    "\n",
    "with open(intermediate_out / 'old-tid-to-new.json', 'w') as f:\n",
    "    json.dump(_data, f)"
   ]
  }
 ],
 "metadata": {
  "kernelspec": {
   "display_name": "GAMBIT",
   "language": "python",
   "name": "gambit"
  },
  "language_info": {
   "codemirror_mode": {
    "name": "ipython",
    "version": 3
   },
   "file_extension": ".py",
   "mimetype": "text/x-python",
   "name": "python",
   "nbconvert_exporter": "python",
   "pygments_lexer": "ipython3",
   "version": "3.9.5"
  }
 },
 "nbformat": 4,
 "nbformat_minor": 5
}
