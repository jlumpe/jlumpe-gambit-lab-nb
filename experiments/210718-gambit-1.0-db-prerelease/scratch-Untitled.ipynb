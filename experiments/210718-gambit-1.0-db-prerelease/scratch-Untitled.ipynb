{
 "cells": [
  {
   "cell_type": "code",
   "execution_count": 1,
   "id": "2fb1633b",
   "metadata": {},
   "outputs": [],
   "source": [
    "import json\n",
    "from pathlib import Path\n",
    "import pandas as pd"
   ]
  },
  {
   "cell_type": "code",
   "execution_count": 12,
   "id": "d0cebfae",
   "metadata": {},
   "outputs": [],
   "source": [
    "from IPython.display import JSON"
   ]
  },
  {
   "cell_type": "markdown",
   "id": "09109300",
   "metadata": {},
   "source": [
    "## Load results"
   ]
  },
  {
   "cell_type": "code",
   "execution_count": 2,
   "id": "c074ba92",
   "metadata": {},
   "outputs": [],
   "source": [
    "d = Path('/home/jared/projects/gambit/data/validation/200817-gold-standard-seqs/')"
   ]
  },
  {
   "cell_type": "code",
   "execution_count": 3,
   "id": "78dd8234",
   "metadata": {},
   "outputs": [],
   "source": [
    "with open(d / 'results6.json') as f:\n",
    "    results1 = json.load(f)"
   ]
  },
  {
   "cell_type": "code",
   "execution_count": 4,
   "id": "7b40ec02",
   "metadata": {},
   "outputs": [],
   "source": [
    "with open(d / 'results4.json') as f:\n",
    "    results2 = json.load(f)"
   ]
  },
  {
   "cell_type": "code",
   "execution_count": 13,
   "id": "31ae14e5",
   "metadata": {},
   "outputs": [
    {
     "data": {
      "application/json": {
       "genomeset": {
        "description": "Curated genome database derived from NCBI RefSeq. Beta version.",
        "id": 1,
        "key": "gambit/refseq-curated",
        "name": "GAMBIT curated RefSeq genomes version 1.0b1",
        "version": "1.0b1"
       },
       "items": [
        {
         "closest_match": {
          "distance": 0.3374033570289612,
          "genome": {
           "description": "[GCF_000145115.1] Cutibacterium acnes HL030PA1 (high GC Gram+)",
           "genbank_acc": "GCA_000145115.1",
           "id": 41824,
           "key": "refseq/assembly/GCF_000145115.1",
           "ncbi_db": "assembly",
           "ncbi_id": 460428,
           "organism": "Cutibacterium acnes",
           "refseq_acc": "GCF_000145115.1",
           "taxon": {
            "distance_threshold": 0.553530752658844,
            "id": 1527,
            "key": "ncbi/taxonomy/1747",
            "name": "Cutibacterium acnes",
            "ncbi_id": 1747
           }
          },
          "matching_taxon": {
           "distance_threshold": 0.553530752658844,
           "id": 1527,
           "key": "ncbi/taxonomy/1747",
           "name": "Cutibacterium acnes",
           "ncbi_id": 1747
          }
         },
         "error": "Matched taxa have no common ancestor.",
         "input": {
          "file": {
           "compression": null,
           "format": "fasta",
           "path": "16AC1611140BCAP_S11_L001_R1_001.fasta"
          },
          "label": "16AC1611140BCAP_S11_L001_R1_001.fasta"
         },
         "predicted_taxon": null,
         "primary_match": null,
         "report_taxon": null,
         "success": false,
         "warnings": [
          "Query matched 3 inconsistent taxa: 353:Cutibacterium, 1527:Cutibacterium acnes, 317:Staphylococcus. Reporting lowest common ancestor of this set."
         ]
        },
        {
         "closest_match": {
          "distance": 0.01477271318435669,
          "genome": {
           "description": "[GCF_000556585.1] Staphylococcus aureus M0483 (firmicutes)",
           "genbank_acc": "GCA_000556585.1",
           "id": 9229,
           "key": "refseq/assembly/GCF_000556585.1",
           "ncbi_db": "assembly",
           "ncbi_id": 110781,
           "organism": "Staphylococcus aureus",
           "refseq_acc": "GCF_000556585.1",
           "taxon": {
            "distance_threshold": 0.7127200961112976,
            "id": 1349,
            "key": "ncbi/taxonomy/1280",
            "name": "Staphylococcus aureus",
            "ncbi_id": 1280
           }
          },
          "matching_taxon": {
           "distance_threshold": 0.7127200961112976,
           "id": 1349,
           "key": "ncbi/taxonomy/1280",
           "name": "Staphylococcus aureus",
           "ncbi_id": 1280
          }
         },
         "error": null,
         "input": {
          "file": {
           "compression": null,
           "format": "fasta",
           "path": "17AC0001411B_S10_L001_R1_001.fasta"
          },
          "label": "17AC0001411B_S10_L001_R1_001.fasta"
         },
         "predicted_taxon": {
          "distance_threshold": 0.7127200961112976,
          "id": 1349,
          "key": "ncbi/taxonomy/1280",
          "name": "Staphylococcus aureus",
          "ncbi_id": 1280
         },
         "primary_match": {
          "distance": 0.01477271318435669,
          "genome": {
           "description": "[GCF_000556585.1] Staphylococcus aureus M0483 (firmicutes)",
           "genbank_acc": "GCA_000556585.1",
           "id": 9229,
           "key": "refseq/assembly/GCF_000556585.1",
           "ncbi_db": "assembly",
           "ncbi_id": 110781,
           "organism": "Staphylococcus aureus",
           "refseq_acc": "GCF_000556585.1",
           "taxon": {
            "distance_threshold": 0.7127200961112976,
            "id": 1349,
            "key": "ncbi/taxonomy/1280",
            "name": "Staphylococcus aureus",
            "ncbi_id": 1280
           }
          },
          "matching_taxon": {
           "distance_threshold": 0.7127200961112976,
           "id": 1349,
           "key": "ncbi/taxonomy/1280",
           "name": "Staphylococcus aureus",
           "ncbi_id": 1280
          }
         },
         "report_taxon": {
          "distance_threshold": 0.7127200961112976,
          "id": 1349,
          "key": "ncbi/taxonomy/1280",
          "name": "Staphylococcus aureus",
          "ncbi_id": 1280
         },
         "success": true,
         "warnings": []
        },
        {
         "closest_match": {
          "distance": 0.07473129034042358,
          "genome": {
           "description": "[GCF_000276305.1] Staphylococcus epidermidis NIHLM023 (firmicutes)",
           "genbank_acc": "GCA_000276305.1",
           "id": 30359,
           "key": "refseq/assembly/GCF_000276305.1",
           "ncbi_db": "assembly",
           "ncbi_id": 484908,
           "organism": "Staphylococcus epidermidis",
           "refseq_acc": "GCF_000276305.1",
           "taxon": {
            "distance_threshold": 0.6631258130073547,
            "id": 1351,
            "key": "ncbi/taxonomy/1282",
            "name": "Staphylococcus epidermidis",
            "ncbi_id": 1282
           }
          },
          "matching_taxon": {
           "distance_threshold": 0.6631258130073547,
           "id": 1351,
           "key": "ncbi/taxonomy/1282",
           "name": "Staphylococcus epidermidis",
           "ncbi_id": 1282
          }
         },
         "error": null,
         "input": {
          "file": {
           "compression": null,
           "format": "fasta",
           "path": "17AC0006312-1_S21_L001_R1_001.fasta"
          },
          "label": "17AC0006312-1_S21_L001_R1_001.fasta"
         },
         "predicted_taxon": {
          "distance_threshold": 0.6631258130073547,
          "id": 1351,
          "key": "ncbi/taxonomy/1282",
          "name": "Staphylococcus epidermidis",
          "ncbi_id": 1282
         },
         "primary_match": {
          "distance": 0.07473129034042358,
          "genome": {
           "description": "[GCF_000276305.1] Staphylococcus epidermidis NIHLM023 (firmicutes)",
           "genbank_acc": "GCA_000276305.1",
           "id": 30359,
           "key": "refseq/assembly/GCF_000276305.1",
           "ncbi_db": "assembly",
           "ncbi_id": 484908,
           "organism": "Staphylococcus epidermidis",
           "refseq_acc": "GCF_000276305.1",
           "taxon": {
            "distance_threshold": 0.6631258130073547,
            "id": 1351,
            "key": "ncbi/taxonomy/1282",
            "name": "Staphylococcus epidermidis",
            "ncbi_id": 1282
           }
          },
          "matching_taxon": {
           "distance_threshold": 0.6631258130073547,
           "id": 1351,
           "key": "ncbi/taxonomy/1282",
           "name": "Staphylococcus epidermidis",
           "ncbi_id": 1282
          }
         },
         "report_taxon": {
          "distance_threshold": 0.6631258130073547,
          "id": 1351,
          "key": "ncbi/taxonomy/1282",
          "name": "Staphylococcus epidermidis",
          "ncbi_id": 1282
         },
         "success": true,
         "warnings": []
        },
        {
         "closest_match": {
          "distance": 0.912588357925415,
          "genome": {
           "description": "[GCF_000024945.1] Veillonella parvula DSM 2008 (firmicutes)",
           "genbank_acc": "GCA_000024945.1",
           "id": 21826,
           "key": "refseq/assembly/GCF_000024945.1",
           "ncbi_db": "assembly",
           "ncbi_id": 105128,
           "organism": "Veillonella parvula",
           "refseq_acc": "GCF_000024945.1",
           "taxon": {
            "distance_threshold": 0.6693333387374878,
            "id": 1041,
            "key": "ncbi/taxonomy/29466",
            "name": "Veillonella parvula",
            "ncbi_id": 29466
           }
          },
          "matching_taxon": {
           "distance_threshold": 0.9438587993383408,
           "id": 196,
           "key": "ncbi/taxonomy/29465",
           "name": "Veillonella",
           "ncbi_id": 29465
          }
         },
         "error": null,
         "input": {
          "file": {
           "compression": null,
           "format": "fasta",
           "path": "17AC0006313-1_S23_L001_R1_001.fasta"
          },
          "label": "17AC0006313-1_S23_L001_R1_001.fasta"
         },
         "predicted_taxon": {
          "distance_threshold": 0.9438587993383408,
          "id": 196,
          "key": "ncbi/taxonomy/29465",
          "name": "Veillonella",
          "ncbi_id": 29465
         },
         "primary_match": {
          "distance": 0.912588357925415,
          "genome": {
           "description": "[GCF_000024945.1] Veillonella parvula DSM 2008 (firmicutes)",
           "genbank_acc": "GCA_000024945.1",
           "id": 21826,
           "key": "refseq/assembly/GCF_000024945.1",
           "ncbi_db": "assembly",
           "ncbi_id": 105128,
           "organism": "Veillonella parvula",
           "refseq_acc": "GCF_000024945.1",
           "taxon": {
            "distance_threshold": 0.6693333387374878,
            "id": 1041,
            "key": "ncbi/taxonomy/29466",
            "name": "Veillonella parvula",
            "ncbi_id": 29466
           }
          },
          "matching_taxon": {
           "distance_threshold": 0.9438587993383408,
           "id": 196,
           "key": "ncbi/taxonomy/29465",
           "name": "Veillonella",
           "ncbi_id": 29465
          }
         },
         "report_taxon": {
          "distance_threshold": 0.9438587993383408,
          "id": 196,
          "key": "ncbi/taxonomy/29465",
          "name": "Veillonella",
          "ncbi_id": 29465
         },
         "success": true,
         "warnings": []
        },
        {
         "closest_match": {
          "distance": 0.8862513899803162,
          "genome": {
           "description": "[GCF_001586215.1] Corynebacterium simulans (high GC Gram+)",
           "genbank_acc": "GCA_001586215.1",
           "id": 32592,
           "key": "refseq/assembly/GCF_001586215.1",
           "ncbi_db": "assembly",
           "ncbi_id": 659541,
           "organism": "Corynebacterium simulans",
           "refseq_acc": "GCF_001586215.1",
           "taxon": {
            "distance_threshold": 0.4532075524330139,
            "id": 1706,
            "key": "ncbi/taxonomy/146827",
            "name": "Corynebacterium simulans",
            "ncbi_id": 146827
           }
          },
          "matching_taxon": {
           "distance_threshold": 0.9278043061494828,
           "id": 402,
           "key": "ncbi/taxonomy/1716",
           "name": "Corynebacterium",
           "ncbi_id": 1716
          }
         },
         "error": null,
         "input": {
          "file": {
           "compression": null,
           "format": "fasta",
           "path": "17AC0012453_S1_L001_R1_001.fasta"
          },
          "label": "17AC0012453_S1_L001_R1_001.fasta"
         },
         "predicted_taxon": {
          "distance_threshold": 0.9278043061494828,
          "id": 402,
          "key": "ncbi/taxonomy/1716",
          "name": "Corynebacterium",
          "ncbi_id": 1716
         },
         "primary_match": {
          "distance": 0.8862513899803162,
          "genome": {
           "description": "[GCF_001586215.1] Corynebacterium simulans (high GC Gram+)",
           "genbank_acc": "GCA_001586215.1",
           "id": 32592,
           "key": "refseq/assembly/GCF_001586215.1",
           "ncbi_db": "assembly",
           "ncbi_id": 659541,
           "organism": "Corynebacterium simulans",
           "refseq_acc": "GCF_001586215.1",
           "taxon": {
            "distance_threshold": 0.4532075524330139,
            "id": 1706,
            "key": "ncbi/taxonomy/146827",
            "name": "Corynebacterium simulans",
            "ncbi_id": 146827
           }
          },
          "matching_taxon": {
           "distance_threshold": 0.9278043061494828,
           "id": 402,
           "key": "ncbi/taxonomy/1716",
           "name": "Corynebacterium",
           "ncbi_id": 1716
          }
         },
         "report_taxon": {
          "distance_threshold": 0.9278043061494828,
          "id": 402,
          "key": "ncbi/taxonomy/1716",
          "name": "Corynebacterium",
          "ncbi_id": 1716
         },
         "success": true,
         "warnings": []
        },
        {
         "closest_match": {
          "distance": 0.01889967918395996,
          "genome": {
           "description": "[GCF_000178435.1] Aerococcus viridans ATCC 11563 = CCUG 4311 (firmicutes)",
           "genbank_acc": "GCA_000178435.1",
           "id": 29875,
           "key": "refseq/assembly/GCF_000178435.1",
           "ncbi_db": "assembly",
           "ncbi_id": 224838,
           "organism": "Aerococcus viridans",
           "refseq_acc": "GCF_000178435.1",
           "taxon": {
            "distance_threshold": 0.0093023255467414,
            "id": 1466,
            "key": "ncbi/taxonomy/1377",
            "name": "Aerococcus viridans",
            "ncbi_id": 1377
           }
          },
          "matching_taxon": {
           "distance_threshold": 0.9374521434307098,
           "id": 336,
           "key": "ncbi/taxonomy/1375",
           "name": "Aerococcus",
           "ncbi_id": 1375
          }
         },
         "error": null,
         "input": {
          "file": {
           "compression": null,
           "format": "fasta",
           "path": "17AC0012454_S2_L001_R1_001.fasta"
          },
          "label": "17AC0012454_S2_L001_R1_001.fasta"
         },
         "predicted_taxon": {
          "distance_threshold": 0.9374521434307098,
          "id": 336,
          "key": "ncbi/taxonomy/1375",
          "name": "Aerococcus",
          "ncbi_id": 1375
         },
         "primary_match": {
          "distance": 0.01889967918395996,
          "genome": {
           "description": "[GCF_000178435.1] Aerococcus viridans ATCC 11563 = CCUG 4311 (firmicutes)",
           "genbank_acc": "GCA_000178435.1",
           "id": 29875,
           "key": "refseq/assembly/GCF_000178435.1",
           "ncbi_db": "assembly",
           "ncbi_id": 224838,
           "organism": "Aerococcus viridans",
           "refseq_acc": "GCF_000178435.1",
           "taxon": {
            "distance_threshold": 0.0093023255467414,
            "id": 1466,
            "key": "ncbi/taxonomy/1377",
            "name": "Aerococcus viridans",
            "ncbi_id": 1377
           }
          },
          "matching_taxon": {
           "distance_threshold": 0.9374521434307098,
           "id": 336,
           "key": "ncbi/taxonomy/1375",
           "name": "Aerococcus",
           "ncbi_id": 1375
          }
         },
         "report_taxon": {
          "distance_threshold": 0.9374521434307098,
          "id": 336,
          "key": "ncbi/taxonomy/1375",
          "name": "Aerococcus",
          "ncbi_id": 1375
         },
         "success": true,
         "warnings": []
        },
        {
         "closest_match": {
          "distance": 0.5569235682487488,
          "genome": {
           "description": "[GCF_000257785.1] Streptococcus constellatus subsp. constellatus SK53 (firmicutes)",
           "genbank_acc": "GCA_000257785.1",
           "id": 5338,
           "key": "refseq/assembly/GCF_000257785.1",
           "ncbi_db": "assembly",
           "ncbi_id": 477128,
           "organism": "Streptococcus constellatus",
           "refseq_acc": "GCF_000257785.1",
           "taxon": {
            "distance_threshold": 0.5655580759048462,
            "id": 1423,
            "key": "ncbi/taxonomy/76860",
            "name": "Streptococcus constellatus",
            "ncbi_id": 76860
           }
          },
          "matching_taxon": {
           "distance_threshold": 0.5655580759048462,
           "id": 1423,
           "key": "ncbi/taxonomy/76860",
           "name": "Streptococcus constellatus",
           "ncbi_id": 76860
          }
         },
         "error": null,
         "input": {
          "file": {
           "compression": null,
           "format": "fasta",
           "path": "17AC0012455-1A_S1_L001_R1_001.fasta"
          },
          "label": "17AC0012455-1A_S1_L001_R1_001.fasta"
         },
         "predicted_taxon": {
          "distance_threshold": 0.5655580759048462,
          "id": 1423,
          "key": "ncbi/taxonomy/76860",
          "name": "Streptococcus constellatus",
          "ncbi_id": 76860
         },
         "primary_match": {
          "distance": 0.5569235682487488,
          "genome": {
           "description": "[GCF_000257785.1] Streptococcus constellatus subsp. constellatus SK53 (firmicutes)",
           "genbank_acc": "GCA_000257785.1",
           "id": 5338,
           "key": "refseq/assembly/GCF_000257785.1",
           "ncbi_db": "assembly",
           "ncbi_id": 477128,
           "organism": "Streptococcus constellatus",
           "refseq_acc": "GCF_000257785.1",
           "taxon": {
            "distance_threshold": 0.5655580759048462,
            "id": 1423,
            "key": "ncbi/taxonomy/76860",
            "name": "Streptococcus constellatus",
            "ncbi_id": 76860
           }
          },
          "matching_taxon": {
           "distance_threshold": 0.5655580759048462,
           "id": 1423,
           "key": "ncbi/taxonomy/76860",
           "name": "Streptococcus constellatus",
           "ncbi_id": 76860
          }
         },
         "report_taxon": {
          "distance_threshold": 0.5655580759048462,
          "id": 1423,
          "key": "ncbi/taxonomy/76860",
          "name": "Streptococcus constellatus",
          "ncbi_id": 76860
         },
         "success": true,
         "warnings": []
        },
        {
         "closest_match": {
          "distance": 0.008396804332733154,
          "genome": {
           "description": "[GCF_000367325.1] Elizabethkingia meningoseptica ATCC 13253 = NBRC 12535 (CFB group bacteria)",
           "genbank_acc": "GCA_000367325.1",
           "id": 21509,
           "key": "refseq/assembly/GCF_000367325.1",
           "ncbi_db": "assembly",
           "ncbi_id": 640478,
           "organism": "Elizabethkingia meningoseptica",
           "refseq_acc": "GCF_000367325.1",
           "taxon": {
            "distance_threshold": 0.0187207479029893,
            "id": 1637,
            "key": "ncbi/taxonomy/238",
            "name": "Elizabethkingia meningoseptica",
            "ncbi_id": 238
           }
          },
          "matching_taxon": {
           "distance_threshold": 0.0187207479029893,
           "id": 1637,
           "key": "ncbi/taxonomy/238",
           "name": "Elizabethkingia meningoseptica",
           "ncbi_id": 238
          }
         },
         "error": null,
         "input": {
          "file": {
           "compression": null,
           "format": "fasta",
           "path": "17AC0012456-2_S8_L001_R1_001.fasta"
          },
          "label": "17AC0012456-2_S8_L001_R1_001.fasta"
         },
         "predicted_taxon": {
          "distance_threshold": 0.0187207479029893,
          "id": 1637,
          "key": "ncbi/taxonomy/238",
          "name": "Elizabethkingia meningoseptica",
          "ncbi_id": 238
         },
         "primary_match": {
          "distance": 0.008396804332733154,
          "genome": {
           "description": "[GCF_000367325.1] Elizabethkingia meningoseptica ATCC 13253 = NBRC 12535 (CFB group bacteria)",
           "genbank_acc": "GCA_000367325.1",
           "id": 21509,
           "key": "refseq/assembly/GCF_000367325.1",
           "ncbi_db": "assembly",
           "ncbi_id": 640478,
           "organism": "Elizabethkingia meningoseptica",
           "refseq_acc": "GCF_000367325.1",
           "taxon": {
            "distance_threshold": 0.0187207479029893,
            "id": 1637,
            "key": "ncbi/taxonomy/238",
            "name": "Elizabethkingia meningoseptica",
            "ncbi_id": 238
           }
          },
          "matching_taxon": {
           "distance_threshold": 0.0187207479029893,
           "id": 1637,
           "key": "ncbi/taxonomy/238",
           "name": "Elizabethkingia meningoseptica",
           "ncbi_id": 238
          }
         },
         "report_taxon": {
          "distance_threshold": 0.0187207479029893,
          "id": 1637,
          "key": "ncbi/taxonomy/238",
          "name": "Elizabethkingia meningoseptica",
          "ncbi_id": 238
         },
         "success": true,
         "warnings": []
        },
        {
         "closest_match": {
          "distance": 0.020720958709716797,
          "genome": {
           "description": "[GCF_000556585.1] Staphylococcus aureus M0483 (firmicutes)",
           "genbank_acc": "GCA_000556585.1",
           "id": 9229,
           "key": "refseq/assembly/GCF_000556585.1",
           "ncbi_db": "assembly",
           "ncbi_id": 110781,
           "organism": "Staphylococcus aureus",
           "refseq_acc": "GCF_000556585.1",
           "taxon": {
            "distance_threshold": 0.7127200961112976,
            "id": 1349,
            "key": "ncbi/taxonomy/1280",
            "name": "Staphylococcus aureus",
            "ncbi_id": 1280
           }
          },
          "matching_taxon": {
           "distance_threshold": 0.7127200961112976,
           "id": 1349,
           "key": "ncbi/taxonomy/1280",
           "name": "Staphylococcus aureus",
           "ncbi_id": 1280
          }
         },
         "error": null,
         "input": {
          "file": {
           "compression": null,
           "format": "fasta",
           "path": "17AC0012457-1_S9_L001_R1_001.fasta"
          },
          "label": "17AC0012457-1_S9_L001_R1_001.fasta"
         },
         "predicted_taxon": {
          "distance_threshold": 0.7127200961112976,
          "id": 1349,
          "key": "ncbi/taxonomy/1280",
          "name": "Staphylococcus aureus",
          "ncbi_id": 1280
         },
         "primary_match": {
          "distance": 0.020720958709716797,
          "genome": {
           "description": "[GCF_000556585.1] Staphylococcus aureus M0483 (firmicutes)",
           "genbank_acc": "GCA_000556585.1",
           "id": 9229,
           "key": "refseq/assembly/GCF_000556585.1",
           "ncbi_db": "assembly",
           "ncbi_id": 110781,
           "organism": "Staphylococcus aureus",
           "refseq_acc": "GCF_000556585.1",
           "taxon": {
            "distance_threshold": 0.7127200961112976,
            "id": 1349,
            "key": "ncbi/taxonomy/1280",
            "name": "Staphylococcus aureus",
            "ncbi_id": 1280
           }
          },
          "matching_taxon": {
           "distance_threshold": 0.7127200961112976,
           "id": 1349,
           "key": "ncbi/taxonomy/1280",
           "name": "Staphylococcus aureus",
           "ncbi_id": 1280
          }
         },
         "report_taxon": {
          "distance_threshold": 0.7127200961112976,
          "id": 1349,
          "key": "ncbi/taxonomy/1280",
          "name": "Staphylococcus aureus",
          "ncbi_id": 1280
         },
         "success": true,
         "warnings": []
        },
        {
         "closest_match": {
          "distance": 0.04282289743423462,
          "genome": {
           "description": "[GCF_000276305.1] Staphylococcus epidermidis NIHLM023 (firmicutes)",
           "genbank_acc": "GCA_000276305.1",
           "id": 30359,
           "key": "refseq/assembly/GCF_000276305.1",
           "ncbi_db": "assembly",
           "ncbi_id": 484908,
           "organism": "Staphylococcus epidermidis",
           "refseq_acc": "GCF_000276305.1",
           "taxon": {
            "distance_threshold": 0.6631258130073547,
            "id": 1351,
            "key": "ncbi/taxonomy/1282",
            "name": "Staphylococcus epidermidis",
            "ncbi_id": 1282
           }
          },
          "matching_taxon": {
           "distance_threshold": 0.6631258130073547,
           "id": 1351,
           "key": "ncbi/taxonomy/1282",
           "name": "Staphylococcus epidermidis",
           "ncbi_id": 1282
          }
         },
         "error": null,
         "input": {
          "file": {
           "compression": null,
           "format": "fasta",
           "path": "17AC0012457-2_S10_L001_R1_001.fasta"
          },
          "label": "17AC0012457-2_S10_L001_R1_001.fasta"
         },
         "predicted_taxon": {
          "distance_threshold": 0.6631258130073547,
          "id": 1351,
          "key": "ncbi/taxonomy/1282",
          "name": "Staphylococcus epidermidis",
          "ncbi_id": 1282
         },
         "primary_match": {
          "distance": 0.04282289743423462,
          "genome": {
           "description": "[GCF_000276305.1] Staphylococcus epidermidis NIHLM023 (firmicutes)",
           "genbank_acc": "GCA_000276305.1",
           "id": 30359,
           "key": "refseq/assembly/GCF_000276305.1",
           "ncbi_db": "assembly",
           "ncbi_id": 484908,
           "organism": "Staphylococcus epidermidis",
           "refseq_acc": "GCF_000276305.1",
           "taxon": {
            "distance_threshold": 0.6631258130073547,
            "id": 1351,
            "key": "ncbi/taxonomy/1282",
            "name": "Staphylococcus epidermidis",
            "ncbi_id": 1282
           }
          },
          "matching_taxon": {
           "distance_threshold": 0.6631258130073547,
           "id": 1351,
           "key": "ncbi/taxonomy/1282",
           "name": "Staphylococcus epidermidis",
           "ncbi_id": 1282
          }
         },
         "report_taxon": {
          "distance_threshold": 0.6631258130073547,
          "id": 1351,
          "key": "ncbi/taxonomy/1282",
          "name": "Staphylococcus epidermidis",
          "ncbi_id": 1282
         },
         "success": true,
         "warnings": []
        },
        {
         "closest_match": {
          "distance": 0.4849236011505127,
          "genome": {
           "description": "[GCF_000158615.1] Eikenella corrodens ATCC 23834 (b-proteobacteria)",
           "genbank_acc": "GCA_000158615.1",
           "id": 39301,
           "key": "refseq/assembly/GCF_000158615.1",
           "ncbi_db": "assembly",
           "ncbi_id": 188138,
           "organism": "Eikenella corrodens",
           "refseq_acc": "GCF_000158615.1",
           "taxon": {
            "distance_threshold": 0.6616402864456177,
            "id": 840,
            "key": "ncbi/taxonomy/539",
            "name": "Eikenella corrodens",
            "ncbi_id": 539
           }
          },
          "matching_taxon": {
           "distance_threshold": 0.6616402864456177,
           "id": 840,
           "key": "ncbi/taxonomy/539",
           "name": "Eikenella corrodens",
           "ncbi_id": 539
          }
         },
         "error": null,
         "input": {
          "file": {
           "compression": null,
           "format": "fasta",
           "path": "18AC0002824_S8_L001_R1_001.fasta"
          },
          "label": "18AC0002824_S8_L001_R1_001.fasta"
         },
         "predicted_taxon": {
          "distance_threshold": 0.6616402864456177,
          "id": 840,
          "key": "ncbi/taxonomy/539",
          "name": "Eikenella corrodens",
          "ncbi_id": 539
         },
         "primary_match": {
          "distance": 0.4849236011505127,
          "genome": {
           "description": "[GCF_000158615.1] Eikenella corrodens ATCC 23834 (b-proteobacteria)",
           "genbank_acc": "GCA_000158615.1",
           "id": 39301,
           "key": "refseq/assembly/GCF_000158615.1",
           "ncbi_db": "assembly",
           "ncbi_id": 188138,
           "organism": "Eikenella corrodens",
           "refseq_acc": "GCF_000158615.1",
           "taxon": {
            "distance_threshold": 0.6616402864456177,
            "id": 840,
            "key": "ncbi/taxonomy/539",
            "name": "Eikenella corrodens",
            "ncbi_id": 539
           }
          },
          "matching_taxon": {
           "distance_threshold": 0.6616402864456177,
           "id": 840,
           "key": "ncbi/taxonomy/539",
           "name": "Eikenella corrodens",
           "ncbi_id": 539
          }
         },
         "report_taxon": {
          "distance_threshold": 0.6616402864456177,
          "id": 840,
          "key": "ncbi/taxonomy/539",
          "name": "Eikenella corrodens",
          "ncbi_id": 539
         },
         "success": true,
         "warnings": []
        },
        {
         "closest_match": {
          "distance": 0.4772801995277405,
          "genome": {
           "description": "[GCF_000708065.1] Aeromonas hydrophila (g-proteobacteria)",
           "genbank_acc": "GCA_000708065.1",
           "id": 25383,
           "key": "refseq/assembly/GCF_000708065.1",
           "ncbi_db": "assembly",
           "ncbi_id": 187211,
           "organism": "Aeromonas hydrophila",
           "refseq_acc": "GCF_000708065.1",
           "taxon": {
            "distance_threshold": 0.589419424533844,
            "id": 913,
            "key": "ncbi/taxonomy/644",
            "name": "Aeromonas hydrophila",
            "ncbi_id": 644
           }
          },
          "matching_taxon": {
           "distance_threshold": 0.589419424533844,
           "id": 913,
           "key": "ncbi/taxonomy/644",
           "name": "Aeromonas hydrophila",
           "ncbi_id": 644
          }
         },
         "error": null,
         "input": {
          "file": {
           "compression": null,
           "format": "fasta",
           "path": "18AC0002825-1_S9_L001_R1_001.fasta"
          },
          "label": "18AC0002825-1_S9_L001_R1_001.fasta"
         },
         "predicted_taxon": {
          "distance_threshold": 0.589419424533844,
          "id": 913,
          "key": "ncbi/taxonomy/644",
          "name": "Aeromonas hydrophila",
          "ncbi_id": 644
         },
         "primary_match": {
          "distance": 0.4772801995277405,
          "genome": {
           "description": "[GCF_000708065.1] Aeromonas hydrophila (g-proteobacteria)",
           "genbank_acc": "GCA_000708065.1",
           "id": 25383,
           "key": "refseq/assembly/GCF_000708065.1",
           "ncbi_db": "assembly",
           "ncbi_id": 187211,
           "organism": "Aeromonas hydrophila",
           "refseq_acc": "GCF_000708065.1",
           "taxon": {
            "distance_threshold": 0.589419424533844,
            "id": 913,
            "key": "ncbi/taxonomy/644",
            "name": "Aeromonas hydrophila",
            "ncbi_id": 644
           }
          },
          "matching_taxon": {
           "distance_threshold": 0.589419424533844,
           "id": 913,
           "key": "ncbi/taxonomy/644",
           "name": "Aeromonas hydrophila",
           "ncbi_id": 644
          }
         },
         "report_taxon": {
          "distance_threshold": 0.589419424533844,
          "id": 913,
          "key": "ncbi/taxonomy/644",
          "name": "Aeromonas hydrophila",
          "ncbi_id": 644
         },
         "success": true,
         "warnings": []
        },
        {
         "closest_match": {
          "distance": 0.14453727006912231,
          "genome": {
           "description": "[GCF_000276305.1] Staphylococcus epidermidis NIHLM023 (firmicutes)",
           "genbank_acc": "GCA_000276305.1",
           "id": 30359,
           "key": "refseq/assembly/GCF_000276305.1",
           "ncbi_db": "assembly",
           "ncbi_id": 484908,
           "organism": "Staphylococcus epidermidis",
           "refseq_acc": "GCF_000276305.1",
           "taxon": {
            "distance_threshold": 0.6631258130073547,
            "id": 1351,
            "key": "ncbi/taxonomy/1282",
            "name": "Staphylococcus epidermidis",
            "ncbi_id": 1282
           }
          },
          "matching_taxon": {
           "distance_threshold": 0.6631258130073547,
           "id": 1351,
           "key": "ncbi/taxonomy/1282",
           "name": "Staphylococcus epidermidis",
           "ncbi_id": 1282
          }
         },
         "error": null,
         "input": {
          "file": {
           "compression": null,
           "format": "fasta",
           "path": "18AC0002825-2_S10_L001_R1_001.fasta"
          },
          "label": "18AC0002825-2_S10_L001_R1_001.fasta"
         },
         "predicted_taxon": {
          "distance_threshold": 0.6631258130073547,
          "id": 1351,
          "key": "ncbi/taxonomy/1282",
          "name": "Staphylococcus epidermidis",
          "ncbi_id": 1282
         },
         "primary_match": {
          "distance": 0.14453727006912231,
          "genome": {
           "description": "[GCF_000276305.1] Staphylococcus epidermidis NIHLM023 (firmicutes)",
           "genbank_acc": "GCA_000276305.1",
           "id": 30359,
           "key": "refseq/assembly/GCF_000276305.1",
           "ncbi_db": "assembly",
           "ncbi_id": 484908,
           "organism": "Staphylococcus epidermidis",
           "refseq_acc": "GCF_000276305.1",
           "taxon": {
            "distance_threshold": 0.6631258130073547,
            "id": 1351,
            "key": "ncbi/taxonomy/1282",
            "name": "Staphylococcus epidermidis",
            "ncbi_id": 1282
           }
          },
          "matching_taxon": {
           "distance_threshold": 0.6631258130073547,
           "id": 1351,
           "key": "ncbi/taxonomy/1282",
           "name": "Staphylococcus epidermidis",
           "ncbi_id": 1282
          }
         },
         "report_taxon": {
          "distance_threshold": 0.6631258130073547,
          "id": 1351,
          "key": "ncbi/taxonomy/1282",
          "name": "Staphylococcus epidermidis",
          "ncbi_id": 1282
         },
         "success": true,
         "warnings": []
        },
        {
         "closest_match": {
          "distance": 0.015843451023101807,
          "genome": {
           "description": "[GCF_001218205.1] Streptococcus agalactiae (firmicutes)",
           "genbank_acc": "GCA_001218205.1",
           "id": 37028,
           "key": "refseq/assembly/GCF_001218205.1",
           "ncbi_db": "assembly",
           "ncbi_id": 446461,
           "organism": "Streptococcus agalactiae",
           "refseq_acc": "GCF_001218205.1",
           "taxon": {
            "distance_threshold": 0.468765377998352,
            "id": 1406,
            "key": "ncbi/taxonomy/1311",
            "name": "Streptococcus agalactiae",
            "ncbi_id": 1311
           }
          },
          "matching_taxon": {
           "distance_threshold": 0.468765377998352,
           "id": 1406,
           "key": "ncbi/taxonomy/1311",
           "name": "Streptococcus agalactiae",
           "ncbi_id": 1311
          }
         },
         "error": null,
         "input": {
          "file": {
           "compression": null,
           "format": "fasta",
           "path": "18AC0002826_S11_L001_R1_001.fasta"
          },
          "label": "18AC0002826_S11_L001_R1_001.fasta"
         },
         "predicted_taxon": {
          "distance_threshold": 0.468765377998352,
          "id": 1406,
          "key": "ncbi/taxonomy/1311",
          "name": "Streptococcus agalactiae",
          "ncbi_id": 1311
         },
         "primary_match": {
          "distance": 0.015843451023101807,
          "genome": {
           "description": "[GCF_001218205.1] Streptococcus agalactiae (firmicutes)",
           "genbank_acc": "GCA_001218205.1",
           "id": 37028,
           "key": "refseq/assembly/GCF_001218205.1",
           "ncbi_db": "assembly",
           "ncbi_id": 446461,
           "organism": "Streptococcus agalactiae",
           "refseq_acc": "GCF_001218205.1",
           "taxon": {
            "distance_threshold": 0.468765377998352,
            "id": 1406,
            "key": "ncbi/taxonomy/1311",
            "name": "Streptococcus agalactiae",
            "ncbi_id": 1311
           }
          },
          "matching_taxon": {
           "distance_threshold": 0.468765377998352,
           "id": 1406,
           "key": "ncbi/taxonomy/1311",
           "name": "Streptococcus agalactiae",
           "ncbi_id": 1311
          }
         },
         "report_taxon": {
          "distance_threshold": 0.468765377998352,
          "id": 1406,
          "key": "ncbi/taxonomy/1311",
          "name": "Streptococcus agalactiae",
          "ncbi_id": 1311
         },
         "success": true,
         "warnings": []
        },
        {
         "closest_match": {
          "distance": 0.045384764671325684,
          "genome": {
           "description": "[GCF_000276305.1] Staphylococcus epidermidis NIHLM023 (firmicutes)",
           "genbank_acc": "GCA_000276305.1",
           "id": 30359,
           "key": "refseq/assembly/GCF_000276305.1",
           "ncbi_db": "assembly",
           "ncbi_id": 484908,
           "organism": "Staphylococcus epidermidis",
           "refseq_acc": "GCF_000276305.1",
           "taxon": {
            "distance_threshold": 0.6631258130073547,
            "id": 1351,
            "key": "ncbi/taxonomy/1282",
            "name": "Staphylococcus epidermidis",
            "ncbi_id": 1282
           }
          },
          "matching_taxon": {
           "distance_threshold": 0.6631258130073547,
           "id": 1351,
           "key": "ncbi/taxonomy/1282",
           "name": "Staphylococcus epidermidis",
           "ncbi_id": 1282
          }
         },
         "error": null,
         "input": {
          "file": {
           "compression": null,
           "format": "fasta",
           "path": "18AC0012151C2_S8_L001_R1_001.fasta"
          },
          "label": "18AC0012151C2_S8_L001_R1_001.fasta"
         },
         "predicted_taxon": {
          "distance_threshold": 0.6631258130073547,
          "id": 1351,
          "key": "ncbi/taxonomy/1282",
          "name": "Staphylococcus epidermidis",
          "ncbi_id": 1282
         },
         "primary_match": {
          "distance": 0.045384764671325684,
          "genome": {
           "description": "[GCF_000276305.1] Staphylococcus epidermidis NIHLM023 (firmicutes)",
           "genbank_acc": "GCA_000276305.1",
           "id": 30359,
           "key": "refseq/assembly/GCF_000276305.1",
           "ncbi_db": "assembly",
           "ncbi_id": 484908,
           "organism": "Staphylococcus epidermidis",
           "refseq_acc": "GCF_000276305.1",
           "taxon": {
            "distance_threshold": 0.6631258130073547,
            "id": 1351,
            "key": "ncbi/taxonomy/1282",
            "name": "Staphylococcus epidermidis",
            "ncbi_id": 1282
           }
          },
          "matching_taxon": {
           "distance_threshold": 0.6631258130073547,
           "id": 1351,
           "key": "ncbi/taxonomy/1282",
           "name": "Staphylococcus epidermidis",
           "ncbi_id": 1282
          }
         },
         "report_taxon": {
          "distance_threshold": 0.6631258130073547,
          "id": 1351,
          "key": "ncbi/taxonomy/1282",
          "name": "Staphylococcus epidermidis",
          "ncbi_id": 1282
         },
         "success": true,
         "warnings": []
        },
        {
         "closest_match": {
          "distance": 0.2824692130088806,
          "genome": {
           "description": "[GCF_001546375.1] Enterococcus faecium (firmicutes)",
           "genbank_acc": "GCA_001546375.1",
           "id": 46599,
           "key": "refseq/assembly/GCF_001546375.1",
           "ncbi_db": "assembly",
           "ncbi_id": 634741,
           "organism": "Enterococcus faecium",
           "refseq_acc": "GCF_001546375.1",
           "taxon": {
            "distance_threshold": 0.7720698118209839,
            "id": 1443,
            "key": "ncbi/taxonomy/1352",
            "name": "Enterococcus faecium",
            "ncbi_id": 1352
           }
          },
          "matching_taxon": {
           "distance_threshold": 0.7720698118209839,
           "id": 1443,
           "key": "ncbi/taxonomy/1352",
           "name": "Enterococcus faecium",
           "ncbi_id": 1352
          }
         },
         "error": null,
         "input": {
          "file": {
           "compression": null,
           "format": "fasta",
           "path": "18AC0012153B1_S11_L001_R1_001.fasta"
          },
          "label": "18AC0012153B1_S11_L001_R1_001.fasta"
         },
         "predicted_taxon": {
          "distance_threshold": 0.7720698118209839,
          "id": 1443,
          "key": "ncbi/taxonomy/1352",
          "name": "Enterococcus faecium",
          "ncbi_id": 1352
         },
         "primary_match": {
          "distance": 0.2824692130088806,
          "genome": {
           "description": "[GCF_001546375.1] Enterococcus faecium (firmicutes)",
           "genbank_acc": "GCA_001546375.1",
           "id": 46599,
           "key": "refseq/assembly/GCF_001546375.1",
           "ncbi_db": "assembly",
           "ncbi_id": 634741,
           "organism": "Enterococcus faecium",
           "refseq_acc": "GCF_001546375.1",
           "taxon": {
            "distance_threshold": 0.7720698118209839,
            "id": 1443,
            "key": "ncbi/taxonomy/1352",
            "name": "Enterococcus faecium",
            "ncbi_id": 1352
           }
          },
          "matching_taxon": {
           "distance_threshold": 0.7720698118209839,
           "id": 1443,
           "key": "ncbi/taxonomy/1352",
           "name": "Enterococcus faecium",
           "ncbi_id": 1352
          }
         },
         "report_taxon": {
          "distance_threshold": 0.7720698118209839,
          "id": 1443,
          "key": "ncbi/taxonomy/1352",
          "name": "Enterococcus faecium",
          "ncbi_id": 1352
         },
         "success": true,
         "warnings": []
        },
        {
         "closest_match": {
          "distance": 0.16120493412017822,
          "genome": {
           "description": "[GCF_000351725.1] Escherichia coli KTE77 (E. coli)",
           "genbank_acc": "GCA_000351725.1",
           "id": 36109,
           "key": "refseq/assembly/GCF_000351725.1",
           "ncbi_db": "assembly",
           "ncbi_id": 576688,
           "organism": "Escherichia coli/Shigella",
           "refseq_acc": "GCF_000351725.1",
           "taxon": {
            "distance_threshold": 0.346642592549324,
            "id": 1893,
            "key": "gambit/refseq-curated/Escherichia-coli-subgroup-2",
            "name": "Escherichia coli subgroup 2",
            "ncbi_id": null
           }
          },
          "matching_taxon": {
           "distance_threshold": 0.346642592549324,
           "id": 1893,
           "key": "gambit/refseq-curated/Escherichia-coli-subgroup-2",
           "name": "Escherichia coli subgroup 2",
           "ncbi_id": null
          }
         },
         "error": null,
         "input": {
          "file": {
           "compression": null,
           "format": "fasta",
           "path": "18AC0012153M_S10_L001_R1_001.fasta"
          },
          "label": "18AC0012153M_S10_L001_R1_001.fasta"
         },
         "predicted_taxon": {
          "distance_threshold": 0.346642592549324,
          "id": 1893,
          "key": "gambit/refseq-curated/Escherichia-coli-subgroup-2",
          "name": "Escherichia coli subgroup 2",
          "ncbi_id": null
         },
         "primary_match": {
          "distance": 0.16120493412017822,
          "genome": {
           "description": "[GCF_000351725.1] Escherichia coli KTE77 (E. coli)",
           "genbank_acc": "GCA_000351725.1",
           "id": 36109,
           "key": "refseq/assembly/GCF_000351725.1",
           "ncbi_db": "assembly",
           "ncbi_id": 576688,
           "organism": "Escherichia coli/Shigella",
           "refseq_acc": "GCF_000351725.1",
           "taxon": {
            "distance_threshold": 0.346642592549324,
            "id": 1893,
            "key": "gambit/refseq-curated/Escherichia-coli-subgroup-2",
            "name": "Escherichia coli subgroup 2",
            "ncbi_id": null
           }
          },
          "matching_taxon": {
           "distance_threshold": 0.346642592549324,
           "id": 1893,
           "key": "gambit/refseq-curated/Escherichia-coli-subgroup-2",
           "name": "Escherichia coli subgroup 2",
           "ncbi_id": null
          }
         },
         "report_taxon": {
          "distance_threshold": 0.6825377941131592,
          "id": 1862,
          "key": "gambit/refseq-curated/Escherichia_coli_Shigella",
          "name": "Escherichia coli/Shigella",
          "ncbi_id": null
         },
         "success": true,
         "warnings": []
        },
        {
         "closest_match": {
          "distance": 0.16062933206558228,
          "genome": {
           "description": "[GCF_000351725.1] Escherichia coli KTE77 (E. coli)",
           "genbank_acc": "GCA_000351725.1",
           "id": 36109,
           "key": "refseq/assembly/GCF_000351725.1",
           "ncbi_db": "assembly",
           "ncbi_id": 576688,
           "organism": "Escherichia coli/Shigella",
           "refseq_acc": "GCF_000351725.1",
           "taxon": {
            "distance_threshold": 0.346642592549324,
            "id": 1893,
            "key": "gambit/refseq-curated/Escherichia-coli-subgroup-2",
            "name": "Escherichia coli subgroup 2",
            "ncbi_id": null
           }
          },
          "matching_taxon": {
           "distance_threshold": 0.346642592549324,
           "id": 1893,
           "key": "gambit/refseq-curated/Escherichia-coli-subgroup-2",
           "name": "Escherichia coli subgroup 2",
           "ncbi_id": null
          }
         },
         "error": null,
         "input": {
          "file": {
           "compression": null,
           "format": "fasta",
           "path": "18AC0012154-B_S7_L001_R1_001.fasta"
          },
          "label": "18AC0012154-B_S7_L001_R1_001.fasta"
         },
         "predicted_taxon": {
          "distance_threshold": 0.346642592549324,
          "id": 1893,
          "key": "gambit/refseq-curated/Escherichia-coli-subgroup-2",
          "name": "Escherichia coli subgroup 2",
          "ncbi_id": null
         },
         "primary_match": {
          "distance": 0.16062933206558228,
          "genome": {
           "description": "[GCF_000351725.1] Escherichia coli KTE77 (E. coli)",
           "genbank_acc": "GCA_000351725.1",
           "id": 36109,
           "key": "refseq/assembly/GCF_000351725.1",
           "ncbi_db": "assembly",
           "ncbi_id": 576688,
           "organism": "Escherichia coli/Shigella",
           "refseq_acc": "GCF_000351725.1",
           "taxon": {
            "distance_threshold": 0.346642592549324,
            "id": 1893,
            "key": "gambit/refseq-curated/Escherichia-coli-subgroup-2",
            "name": "Escherichia coli subgroup 2",
            "ncbi_id": null
           }
          },
          "matching_taxon": {
           "distance_threshold": 0.346642592549324,
           "id": 1893,
           "key": "gambit/refseq-curated/Escherichia-coli-subgroup-2",
           "name": "Escherichia coli subgroup 2",
           "ncbi_id": null
          }
         },
         "report_taxon": {
          "distance_threshold": 0.6825377941131592,
          "id": 1862,
          "key": "gambit/refseq-curated/Escherichia_coli_Shigella",
          "name": "Escherichia coli/Shigella",
          "ncbi_id": null
         },
         "success": true,
         "warnings": []
        }
       ],
       "signaturesmeta": {
        "description": "Signatures for curated genome database derived from NCBI RefSeq. Beta version.",
        "extra": {},
        "id": "gambit/refseq-curated",
        "id_attr": "refseq_acc",
        "name": "GAMBIT curated RefSeq genomes version 1.0b1",
        "version": "1.0-beta1"
       },
       "timestamp": "2021-07-18T16:32:07.297435"
      },
      "text/plain": [
       "<IPython.core.display.JSON object>"
      ]
     },
     "execution_count": 13,
     "metadata": {
      "application/json": {
       "expanded": false,
       "root": "root"
      }
     },
     "output_type": "execute_result"
    }
   ],
   "source": [
    "JSON(results1)"
   ]
  },
  {
   "cell_type": "markdown",
   "id": "d6acfeba",
   "metadata": {},
   "source": [
    "## Compare"
   ]
  },
  {
   "cell_type": "code",
   "execution_count": 7,
   "id": "b9df2ca9",
   "metadata": {},
   "outputs": [],
   "source": [
    "items1 = {item['input']['label']: item for item in results1['items']}"
   ]
  },
  {
   "cell_type": "code",
   "execution_count": 8,
   "id": "523e3b07",
   "metadata": {},
   "outputs": [],
   "source": [
    "items2 = {item['input']['name']: item for item in results2['items']}"
   ]
  },
  {
   "cell_type": "code",
   "execution_count": 9,
   "id": "7c120e27",
   "metadata": {},
   "outputs": [],
   "source": [
    "assert items1.keys() == items2.keys()"
   ]
  },
  {
   "cell_type": "code",
   "execution_count": 10,
   "id": "829f4e65",
   "metadata": {},
   "outputs": [],
   "source": [
    "keys = list(items1)"
   ]
  },
  {
   "cell_type": "code",
   "execution_count": 11,
   "id": "9044883f",
   "metadata": {},
   "outputs": [
    {
     "data": {
      "text/html": [
       "<div>\n",
       "<style scoped>\n",
       "    .dataframe tbody tr th:only-of-type {\n",
       "        vertical-align: middle;\n",
       "    }\n",
       "\n",
       "    .dataframe tbody tr th {\n",
       "        vertical-align: top;\n",
       "    }\n",
       "\n",
       "    .dataframe thead th {\n",
       "        text-align: right;\n",
       "    }\n",
       "</style>\n",
       "<table border=\"1\" class=\"dataframe\">\n",
       "  <thead>\n",
       "    <tr style=\"text-align: right;\">\n",
       "      <th></th>\n",
       "      <th>key</th>\n",
       "      <th>predicted_name_1</th>\n",
       "      <th>predicted_id_1</th>\n",
       "      <th>predicted_thresh_1</th>\n",
       "      <th>predicted_name_2</th>\n",
       "      <th>predicted_id_2</th>\n",
       "      <th>predicted_thresh_2</th>\n",
       "      <th>closest_desc_1</th>\n",
       "      <th>closest_dist_1</th>\n",
       "      <th>closest_desc_2</th>\n",
       "      <th>closest_dist_2</th>\n",
       "      <th>warnings</th>\n",
       "      <th>error</th>\n",
       "    </tr>\n",
       "  </thead>\n",
       "  <tbody>\n",
       "    <tr>\n",
       "      <th>0</th>\n",
       "      <td>16AC1611140BCAP_S11_L001_R1_001.fasta</td>\n",
       "      <td>(none)</td>\n",
       "      <td>0</td>\n",
       "      <td>0.000000</td>\n",
       "      <td>Propionibacterium acnes</td>\n",
       "      <td>1747</td>\n",
       "      <td>0.553531</td>\n",
       "      <td>[GCF_000145115.1] Cutibacterium acnes HL030PA1...</td>\n",
       "      <td>0.337403</td>\n",
       "      <td>[GCF_000145115.1] Propionibacterium acnes HL03...</td>\n",
       "      <td>0.337403</td>\n",
       "      <td>['Query matched 3 inconsistent taxa: 353:Cutib...</td>\n",
       "      <td>Matched taxa have no common ancestor.</td>\n",
       "    </tr>\n",
       "    <tr>\n",
       "      <th>1</th>\n",
       "      <td>17AC0001411B_S10_L001_R1_001.fasta</td>\n",
       "      <td>Staphylococcus aureus</td>\n",
       "      <td>1280</td>\n",
       "      <td>0.712720</td>\n",
       "      <td>Staphylococcus aureus</td>\n",
       "      <td>1280</td>\n",
       "      <td>0.712720</td>\n",
       "      <td>[GCF_000556585.1] Staphylococcus aureus M0483 ...</td>\n",
       "      <td>0.014773</td>\n",
       "      <td>[GCF_000556585.1] Staphylococcus aureus M0483 ...</td>\n",
       "      <td>0.014773</td>\n",
       "      <td>[]</td>\n",
       "      <td>None</td>\n",
       "    </tr>\n",
       "    <tr>\n",
       "      <th>2</th>\n",
       "      <td>17AC0006312-1_S21_L001_R1_001.fasta</td>\n",
       "      <td>Staphylococcus epidermidis</td>\n",
       "      <td>1282</td>\n",
       "      <td>0.663126</td>\n",
       "      <td>Staphylococcus epidermidis</td>\n",
       "      <td>1282</td>\n",
       "      <td>0.671921</td>\n",
       "      <td>[GCF_000276305.1] Staphylococcus epidermidis N...</td>\n",
       "      <td>0.074731</td>\n",
       "      <td>[GCF_000276305.1] Staphylococcus epidermidis N...</td>\n",
       "      <td>0.074731</td>\n",
       "      <td>[]</td>\n",
       "      <td>None</td>\n",
       "    </tr>\n",
       "    <tr>\n",
       "      <th>3</th>\n",
       "      <td>17AC0006313-1_S23_L001_R1_001.fasta</td>\n",
       "      <td>Veillonella</td>\n",
       "      <td>29465</td>\n",
       "      <td>0.943859</td>\n",
       "      <td>(none)</td>\n",
       "      <td>0</td>\n",
       "      <td>0.000000</td>\n",
       "      <td>[GCF_000024945.1] Veillonella parvula DSM 2008...</td>\n",
       "      <td>0.912588</td>\n",
       "      <td>[GCF_001553315.1] Veillonella dispar (firmicutes)</td>\n",
       "      <td>0.842430</td>\n",
       "      <td>[]</td>\n",
       "      <td>None</td>\n",
       "    </tr>\n",
       "    <tr>\n",
       "      <th>4</th>\n",
       "      <td>17AC0012453_S1_L001_R1_001.fasta</td>\n",
       "      <td>Corynebacterium</td>\n",
       "      <td>1716</td>\n",
       "      <td>0.927804</td>\n",
       "      <td>Corynebacterium striatum</td>\n",
       "      <td>43770</td>\n",
       "      <td>0.381523</td>\n",
       "      <td>[GCF_001586215.1] Corynebacterium simulans (hi...</td>\n",
       "      <td>0.886251</td>\n",
       "      <td>[GCF_001055405.1] Corynebacterium striatum (hi...</td>\n",
       "      <td>0.208305</td>\n",
       "      <td>[]</td>\n",
       "      <td>None</td>\n",
       "    </tr>\n",
       "    <tr>\n",
       "      <th>5</th>\n",
       "      <td>17AC0012454_S2_L001_R1_001.fasta</td>\n",
       "      <td>Aerococcus</td>\n",
       "      <td>1375</td>\n",
       "      <td>0.937452</td>\n",
       "      <td>Aerococcus</td>\n",
       "      <td>1375</td>\n",
       "      <td>0.794376</td>\n",
       "      <td>[GCF_000178435.1] Aerococcus viridans ATCC 115...</td>\n",
       "      <td>0.018900</td>\n",
       "      <td>[GCF_000178435.1] Aerococcus viridans ATCC 115...</td>\n",
       "      <td>0.018900</td>\n",
       "      <td>[]</td>\n",
       "      <td>None</td>\n",
       "    </tr>\n",
       "    <tr>\n",
       "      <th>6</th>\n",
       "      <td>17AC0012455-1A_S1_L001_R1_001.fasta</td>\n",
       "      <td>Streptococcus constellatus</td>\n",
       "      <td>76860</td>\n",
       "      <td>0.565558</td>\n",
       "      <td>Streptococcus constellatus</td>\n",
       "      <td>76860</td>\n",
       "      <td>0.588796</td>\n",
       "      <td>[GCF_000257785.1] Streptococcus constellatus s...</td>\n",
       "      <td>0.556924</td>\n",
       "      <td>[GCF_001074375.1] Streptococcus constellatus (...</td>\n",
       "      <td>0.477015</td>\n",
       "      <td>[]</td>\n",
       "      <td>None</td>\n",
       "    </tr>\n",
       "    <tr>\n",
       "      <th>7</th>\n",
       "      <td>17AC0012456-2_S8_L001_R1_001.fasta</td>\n",
       "      <td>Elizabethkingia meningoseptica</td>\n",
       "      <td>238</td>\n",
       "      <td>0.018721</td>\n",
       "      <td>Elizabethkingia meningoseptica</td>\n",
       "      <td>238</td>\n",
       "      <td>0.354066</td>\n",
       "      <td>[GCF_000367325.1] Elizabethkingia meningosepti...</td>\n",
       "      <td>0.008397</td>\n",
       "      <td>[GCF_000367325.1] Elizabethkingia meningosepti...</td>\n",
       "      <td>0.008397</td>\n",
       "      <td>[]</td>\n",
       "      <td>None</td>\n",
       "    </tr>\n",
       "    <tr>\n",
       "      <th>8</th>\n",
       "      <td>17AC0012457-1_S9_L001_R1_001.fasta</td>\n",
       "      <td>Staphylococcus aureus</td>\n",
       "      <td>1280</td>\n",
       "      <td>0.712720</td>\n",
       "      <td>Staphylococcus aureus</td>\n",
       "      <td>1280</td>\n",
       "      <td>0.712720</td>\n",
       "      <td>[GCF_000556585.1] Staphylococcus aureus M0483 ...</td>\n",
       "      <td>0.020721</td>\n",
       "      <td>[GCF_000556585.1] Staphylococcus aureus M0483 ...</td>\n",
       "      <td>0.020721</td>\n",
       "      <td>[]</td>\n",
       "      <td>None</td>\n",
       "    </tr>\n",
       "    <tr>\n",
       "      <th>9</th>\n",
       "      <td>17AC0012457-2_S10_L001_R1_001.fasta</td>\n",
       "      <td>Staphylococcus epidermidis</td>\n",
       "      <td>1282</td>\n",
       "      <td>0.663126</td>\n",
       "      <td>Staphylococcus epidermidis</td>\n",
       "      <td>1282</td>\n",
       "      <td>0.671921</td>\n",
       "      <td>[GCF_000276305.1] Staphylococcus epidermidis N...</td>\n",
       "      <td>0.042823</td>\n",
       "      <td>[GCF_000276305.1] Staphylococcus epidermidis N...</td>\n",
       "      <td>0.042823</td>\n",
       "      <td>[]</td>\n",
       "      <td>None</td>\n",
       "    </tr>\n",
       "    <tr>\n",
       "      <th>10</th>\n",
       "      <td>18AC0002824_S8_L001_R1_001.fasta</td>\n",
       "      <td>Eikenella corrodens</td>\n",
       "      <td>539</td>\n",
       "      <td>0.661640</td>\n",
       "      <td>Eikenella corrodens</td>\n",
       "      <td>539</td>\n",
       "      <td>0.705464</td>\n",
       "      <td>[GCF_000158615.1] Eikenella corrodens ATCC 238...</td>\n",
       "      <td>0.484924</td>\n",
       "      <td>[GCF_000158615.1] Eikenella corrodens ATCC 238...</td>\n",
       "      <td>0.484924</td>\n",
       "      <td>[]</td>\n",
       "      <td>None</td>\n",
       "    </tr>\n",
       "    <tr>\n",
       "      <th>11</th>\n",
       "      <td>18AC0002825-1_S9_L001_R1_001.fasta</td>\n",
       "      <td>Aeromonas hydrophila</td>\n",
       "      <td>644</td>\n",
       "      <td>0.589419</td>\n",
       "      <td>Aeromonas hydrophila</td>\n",
       "      <td>644</td>\n",
       "      <td>0.770192</td>\n",
       "      <td>[GCF_000708065.1] Aeromonas hydrophila (g-prot...</td>\n",
       "      <td>0.477280</td>\n",
       "      <td>[GCF_000708065.1] Aeromonas hydrophila (g-prot...</td>\n",
       "      <td>0.477280</td>\n",
       "      <td>[]</td>\n",
       "      <td>None</td>\n",
       "    </tr>\n",
       "    <tr>\n",
       "      <th>12</th>\n",
       "      <td>18AC0002825-2_S10_L001_R1_001.fasta</td>\n",
       "      <td>Staphylococcus epidermidis</td>\n",
       "      <td>1282</td>\n",
       "      <td>0.663126</td>\n",
       "      <td>Staphylococcus epidermidis</td>\n",
       "      <td>1282</td>\n",
       "      <td>0.671921</td>\n",
       "      <td>[GCF_000276305.1] Staphylococcus epidermidis N...</td>\n",
       "      <td>0.144537</td>\n",
       "      <td>[GCF_000276305.1] Staphylococcus epidermidis N...</td>\n",
       "      <td>0.144537</td>\n",
       "      <td>[]</td>\n",
       "      <td>None</td>\n",
       "    </tr>\n",
       "    <tr>\n",
       "      <th>13</th>\n",
       "      <td>18AC0002826_S11_L001_R1_001.fasta</td>\n",
       "      <td>Streptococcus agalactiae</td>\n",
       "      <td>1311</td>\n",
       "      <td>0.468765</td>\n",
       "      <td>Streptococcus agalactiae</td>\n",
       "      <td>1311</td>\n",
       "      <td>0.468765</td>\n",
       "      <td>[GCF_001218205.1] Streptococcus agalactiae (fi...</td>\n",
       "      <td>0.015843</td>\n",
       "      <td>[GCF_001218205.1] Streptococcus agalactiae (fi...</td>\n",
       "      <td>0.015843</td>\n",
       "      <td>[]</td>\n",
       "      <td>None</td>\n",
       "    </tr>\n",
       "    <tr>\n",
       "      <th>14</th>\n",
       "      <td>18AC0012151C2_S8_L001_R1_001.fasta</td>\n",
       "      <td>Staphylococcus epidermidis</td>\n",
       "      <td>1282</td>\n",
       "      <td>0.663126</td>\n",
       "      <td>Staphylococcus epidermidis</td>\n",
       "      <td>1282</td>\n",
       "      <td>0.671921</td>\n",
       "      <td>[GCF_000276305.1] Staphylococcus epidermidis N...</td>\n",
       "      <td>0.045385</td>\n",
       "      <td>[GCF_000276305.1] Staphylococcus epidermidis N...</td>\n",
       "      <td>0.045385</td>\n",
       "      <td>[]</td>\n",
       "      <td>None</td>\n",
       "    </tr>\n",
       "    <tr>\n",
       "      <th>15</th>\n",
       "      <td>18AC0012153B1_S11_L001_R1_001.fasta</td>\n",
       "      <td>Enterococcus faecium</td>\n",
       "      <td>1352</td>\n",
       "      <td>0.772070</td>\n",
       "      <td>Enterococcus faecium</td>\n",
       "      <td>1352</td>\n",
       "      <td>0.782361</td>\n",
       "      <td>[GCF_001546375.1] Enterococcus faecium (firmic...</td>\n",
       "      <td>0.282469</td>\n",
       "      <td>[GCF_001546375.1] Enterococcus faecium (firmic...</td>\n",
       "      <td>0.282469</td>\n",
       "      <td>[]</td>\n",
       "      <td>None</td>\n",
       "    </tr>\n",
       "    <tr>\n",
       "      <th>16</th>\n",
       "      <td>18AC0012153M_S10_L001_R1_001.fasta</td>\n",
       "      <td>Escherichia coli subgroup 2</td>\n",
       "      <td>0</td>\n",
       "      <td>0.346643</td>\n",
       "      <td>Escherichia coli / Shigella</td>\n",
       "      <td>0</td>\n",
       "      <td>0.521211</td>\n",
       "      <td>[GCF_000351725.1] Escherichia coli KTE77 (E. c...</td>\n",
       "      <td>0.161205</td>\n",
       "      <td>[GCF_000351725.1] Escherichia coli KTE77 (E. c...</td>\n",
       "      <td>0.161205</td>\n",
       "      <td>[]</td>\n",
       "      <td>None</td>\n",
       "    </tr>\n",
       "    <tr>\n",
       "      <th>17</th>\n",
       "      <td>18AC0012154-B_S7_L001_R1_001.fasta</td>\n",
       "      <td>Escherichia coli subgroup 2</td>\n",
       "      <td>0</td>\n",
       "      <td>0.346643</td>\n",
       "      <td>Escherichia coli / Shigella</td>\n",
       "      <td>0</td>\n",
       "      <td>0.521211</td>\n",
       "      <td>[GCF_000351725.1] Escherichia coli KTE77 (E. c...</td>\n",
       "      <td>0.160629</td>\n",
       "      <td>[GCF_000351725.1] Escherichia coli KTE77 (E. c...</td>\n",
       "      <td>0.160629</td>\n",
       "      <td>[]</td>\n",
       "      <td>None</td>\n",
       "    </tr>\n",
       "  </tbody>\n",
       "</table>\n",
       "</div>"
      ],
      "text/plain": [
       "                                      key                predicted_name_1  \\\n",
       "0   16AC1611140BCAP_S11_L001_R1_001.fasta                          (none)   \n",
       "1      17AC0001411B_S10_L001_R1_001.fasta           Staphylococcus aureus   \n",
       "2     17AC0006312-1_S21_L001_R1_001.fasta      Staphylococcus epidermidis   \n",
       "3     17AC0006313-1_S23_L001_R1_001.fasta                     Veillonella   \n",
       "4        17AC0012453_S1_L001_R1_001.fasta                 Corynebacterium   \n",
       "5        17AC0012454_S2_L001_R1_001.fasta                      Aerococcus   \n",
       "6     17AC0012455-1A_S1_L001_R1_001.fasta      Streptococcus constellatus   \n",
       "7      17AC0012456-2_S8_L001_R1_001.fasta  Elizabethkingia meningoseptica   \n",
       "8      17AC0012457-1_S9_L001_R1_001.fasta           Staphylococcus aureus   \n",
       "9     17AC0012457-2_S10_L001_R1_001.fasta      Staphylococcus epidermidis   \n",
       "10       18AC0002824_S8_L001_R1_001.fasta             Eikenella corrodens   \n",
       "11     18AC0002825-1_S9_L001_R1_001.fasta            Aeromonas hydrophila   \n",
       "12    18AC0002825-2_S10_L001_R1_001.fasta      Staphylococcus epidermidis   \n",
       "13      18AC0002826_S11_L001_R1_001.fasta        Streptococcus agalactiae   \n",
       "14     18AC0012151C2_S8_L001_R1_001.fasta      Staphylococcus epidermidis   \n",
       "15    18AC0012153B1_S11_L001_R1_001.fasta            Enterococcus faecium   \n",
       "16     18AC0012153M_S10_L001_R1_001.fasta     Escherichia coli subgroup 2   \n",
       "17     18AC0012154-B_S7_L001_R1_001.fasta     Escherichia coli subgroup 2   \n",
       "\n",
       "    predicted_id_1  predicted_thresh_1                predicted_name_2  \\\n",
       "0                0            0.000000         Propionibacterium acnes   \n",
       "1             1280            0.712720           Staphylococcus aureus   \n",
       "2             1282            0.663126      Staphylococcus epidermidis   \n",
       "3            29465            0.943859                          (none)   \n",
       "4             1716            0.927804        Corynebacterium striatum   \n",
       "5             1375            0.937452                      Aerococcus   \n",
       "6            76860            0.565558      Streptococcus constellatus   \n",
       "7              238            0.018721  Elizabethkingia meningoseptica   \n",
       "8             1280            0.712720           Staphylococcus aureus   \n",
       "9             1282            0.663126      Staphylococcus epidermidis   \n",
       "10             539            0.661640             Eikenella corrodens   \n",
       "11             644            0.589419            Aeromonas hydrophila   \n",
       "12            1282            0.663126      Staphylococcus epidermidis   \n",
       "13            1311            0.468765        Streptococcus agalactiae   \n",
       "14            1282            0.663126      Staphylococcus epidermidis   \n",
       "15            1352            0.772070            Enterococcus faecium   \n",
       "16               0            0.346643     Escherichia coli / Shigella   \n",
       "17               0            0.346643     Escherichia coli / Shigella   \n",
       "\n",
       "    predicted_id_2  predicted_thresh_2  \\\n",
       "0             1747            0.553531   \n",
       "1             1280            0.712720   \n",
       "2             1282            0.671921   \n",
       "3                0            0.000000   \n",
       "4            43770            0.381523   \n",
       "5             1375            0.794376   \n",
       "6            76860            0.588796   \n",
       "7              238            0.354066   \n",
       "8             1280            0.712720   \n",
       "9             1282            0.671921   \n",
       "10             539            0.705464   \n",
       "11             644            0.770192   \n",
       "12            1282            0.671921   \n",
       "13            1311            0.468765   \n",
       "14            1282            0.671921   \n",
       "15            1352            0.782361   \n",
       "16               0            0.521211   \n",
       "17               0            0.521211   \n",
       "\n",
       "                                       closest_desc_1  closest_dist_1  \\\n",
       "0   [GCF_000145115.1] Cutibacterium acnes HL030PA1...        0.337403   \n",
       "1   [GCF_000556585.1] Staphylococcus aureus M0483 ...        0.014773   \n",
       "2   [GCF_000276305.1] Staphylococcus epidermidis N...        0.074731   \n",
       "3   [GCF_000024945.1] Veillonella parvula DSM 2008...        0.912588   \n",
       "4   [GCF_001586215.1] Corynebacterium simulans (hi...        0.886251   \n",
       "5   [GCF_000178435.1] Aerococcus viridans ATCC 115...        0.018900   \n",
       "6   [GCF_000257785.1] Streptococcus constellatus s...        0.556924   \n",
       "7   [GCF_000367325.1] Elizabethkingia meningosepti...        0.008397   \n",
       "8   [GCF_000556585.1] Staphylococcus aureus M0483 ...        0.020721   \n",
       "9   [GCF_000276305.1] Staphylococcus epidermidis N...        0.042823   \n",
       "10  [GCF_000158615.1] Eikenella corrodens ATCC 238...        0.484924   \n",
       "11  [GCF_000708065.1] Aeromonas hydrophila (g-prot...        0.477280   \n",
       "12  [GCF_000276305.1] Staphylococcus epidermidis N...        0.144537   \n",
       "13  [GCF_001218205.1] Streptococcus agalactiae (fi...        0.015843   \n",
       "14  [GCF_000276305.1] Staphylococcus epidermidis N...        0.045385   \n",
       "15  [GCF_001546375.1] Enterococcus faecium (firmic...        0.282469   \n",
       "16  [GCF_000351725.1] Escherichia coli KTE77 (E. c...        0.161205   \n",
       "17  [GCF_000351725.1] Escherichia coli KTE77 (E. c...        0.160629   \n",
       "\n",
       "                                       closest_desc_2  closest_dist_2  \\\n",
       "0   [GCF_000145115.1] Propionibacterium acnes HL03...        0.337403   \n",
       "1   [GCF_000556585.1] Staphylococcus aureus M0483 ...        0.014773   \n",
       "2   [GCF_000276305.1] Staphylococcus epidermidis N...        0.074731   \n",
       "3   [GCF_001553315.1] Veillonella dispar (firmicutes)        0.842430   \n",
       "4   [GCF_001055405.1] Corynebacterium striatum (hi...        0.208305   \n",
       "5   [GCF_000178435.1] Aerococcus viridans ATCC 115...        0.018900   \n",
       "6   [GCF_001074375.1] Streptococcus constellatus (...        0.477015   \n",
       "7   [GCF_000367325.1] Elizabethkingia meningosepti...        0.008397   \n",
       "8   [GCF_000556585.1] Staphylococcus aureus M0483 ...        0.020721   \n",
       "9   [GCF_000276305.1] Staphylococcus epidermidis N...        0.042823   \n",
       "10  [GCF_000158615.1] Eikenella corrodens ATCC 238...        0.484924   \n",
       "11  [GCF_000708065.1] Aeromonas hydrophila (g-prot...        0.477280   \n",
       "12  [GCF_000276305.1] Staphylococcus epidermidis N...        0.144537   \n",
       "13  [GCF_001218205.1] Streptococcus agalactiae (fi...        0.015843   \n",
       "14  [GCF_000276305.1] Staphylococcus epidermidis N...        0.045385   \n",
       "15  [GCF_001546375.1] Enterococcus faecium (firmic...        0.282469   \n",
       "16  [GCF_000351725.1] Escherichia coli KTE77 (E. c...        0.161205   \n",
       "17  [GCF_000351725.1] Escherichia coli KTE77 (E. c...        0.160629   \n",
       "\n",
       "                                             warnings  \\\n",
       "0   ['Query matched 3 inconsistent taxa: 353:Cutib...   \n",
       "1                                                  []   \n",
       "2                                                  []   \n",
       "3                                                  []   \n",
       "4                                                  []   \n",
       "5                                                  []   \n",
       "6                                                  []   \n",
       "7                                                  []   \n",
       "8                                                  []   \n",
       "9                                                  []   \n",
       "10                                                 []   \n",
       "11                                                 []   \n",
       "12                                                 []   \n",
       "13                                                 []   \n",
       "14                                                 []   \n",
       "15                                                 []   \n",
       "16                                                 []   \n",
       "17                                                 []   \n",
       "\n",
       "                                    error  \n",
       "0   Matched taxa have no common ancestor.  \n",
       "1                                    None  \n",
       "2                                    None  \n",
       "3                                    None  \n",
       "4                                    None  \n",
       "5                                    None  \n",
       "6                                    None  \n",
       "7                                    None  \n",
       "8                                    None  \n",
       "9                                    None  \n",
       "10                                   None  \n",
       "11                                   None  \n",
       "12                                   None  \n",
       "13                                   None  \n",
       "14                                   None  \n",
       "15                                   None  \n",
       "16                                   None  \n",
       "17                                   None  "
      ]
     },
     "execution_count": 11,
     "metadata": {},
     "output_type": "execute_result"
    }
   ],
   "source": [
    "_rows = []\n",
    "\n",
    "for key in keys:\n",
    "    item1 = items1[key]\n",
    "    item2 = items2[key]\n",
    "    predicted1 = item1['predicted_taxon']\n",
    "    predicted2 = item2['predicted_taxon']\n",
    "    closest1 = item1['closest_match']\n",
    "    closest2 = item2['nn'][0]\n",
    "    \n",
    "    _rows.append((\n",
    "        key,\n",
    "        '(none)' if predicted1 is None else predicted1['name'],\n",
    "        0 if predicted1 is None else (predicted1['ncbi_id'] or 0),\n",
    "        0 if predicted1 is None else predicted1['distance_threshold'],\n",
    "        '(none)' if predicted2 is None else predicted2['name'],\n",
    "        0 if predicted2 is None else (predicted2['ncbi_taxid'] or 0),\n",
    "        0 if predicted2 is None else predicted2['distance_threshold'],\n",
    "        closest1['genome']['description'],\n",
    "        closest1['distance'],\n",
    "        closest2['genome']['description'],\n",
    "        closest2['distance'],\n",
    "        repr(item1['warnings']),\n",
    "        item1['error'],\n",
    "    ))\n",
    "    \n",
    "pd.DataFrame.from_records(_rows, columns=[\n",
    "    'key',\n",
    "    'predicted_name_1',\n",
    "    'predicted_id_1',\n",
    "    'predicted_thresh_1',\n",
    "    'predicted_name_2',\n",
    "    'predicted_id_2',\n",
    "    'predicted_thresh_2',\n",
    "    'closest_desc_1',\n",
    "    'closest_dist_1',\n",
    "    'closest_desc_2',\n",
    "    'closest_dist_2',\n",
    "    'warnings',\n",
    "    'error',\n",
    "])"
   ]
  },
  {
   "cell_type": "markdown",
   "id": "98119ccc",
   "metadata": {},
   "source": [
    "## Rerun"
   ]
  },
  {
   "cell_type": "code",
   "execution_count": 28,
   "id": "d7e6f5e9",
   "metadata": {},
   "outputs": [],
   "source": [
    "from gambit.db.fromfile import load_database_from_dir\n",
    "from gambit.io.seq import SequenceFile, find_kmers_in_files\n",
    "from gambit.metric import jaccard_sparse_matrix\n",
    "from gambit.query.classify import find_matches, consensus_taxon"
   ]
  },
  {
   "cell_type": "code",
   "execution_count": 32,
   "id": "748c531b",
   "metadata": {},
   "outputs": [],
   "source": [
    "db = load_database_from_dir('/home/jared/projects/gambit/data/databases/refseq-curated/1.0-beta1/')"
   ]
  },
  {
   "cell_type": "code",
   "execution_count": 21,
   "id": "158446f5",
   "metadata": {},
   "outputs": [
    {
     "data": {
      "text/plain": [
       "18"
      ]
     },
     "execution_count": 21,
     "metadata": {},
     "output_type": "execute_result"
    }
   ],
   "source": [
    "query_files = SequenceFile.from_paths(Path('/home/jared/projects/gambit/data/validation/200817-gold-standard-seqs/').glob('*.fasta'), 'fasta')\n",
    "len(query_files)"
   ]
  },
  {
   "cell_type": "code",
   "execution_count": 22,
   "id": "cead0e4f",
   "metadata": {},
   "outputs": [],
   "source": [
    "query_sigs = find_kmers_in_files(db.signatures.kmerspec, query_files)"
   ]
  },
  {
   "cell_type": "code",
   "execution_count": 26,
   "id": "2945a144",
   "metadata": {},
   "outputs": [],
   "source": [
    "dmat = jaccard_sparse_matrix(query_sigs, db.signatures, ref_indices=db.sig_indices, distance=True, chunksize=1000)"
   ]
  },
  {
   "cell_type": "code",
   "execution_count": 30,
   "id": "37666cdf",
   "metadata": {},
   "outputs": [],
   "source": [
    "i = 17\n",
    "dists = dmat[i, :]"
   ]
  },
  {
   "cell_type": "code",
   "execution_count": 33,
   "id": "3f15a542",
   "metadata": {},
   "outputs": [],
   "source": [
    "matches = find_matches(zip(db.genomes, dists))"
   ]
  },
  {
   "cell_type": "code",
   "execution_count": 34,
   "id": "996a9c30",
   "metadata": {},
   "outputs": [
    {
     "data": {
      "text/plain": [
       "(None,\n",
       " {<Taxon:1527 'Cutibacterium acnes'>,\n",
       "  <Taxon:317 'Staphylococcus'>,\n",
       "  <Taxon:353 'Cutibacterium'>})"
      ]
     },
     "execution_count": 34,
     "metadata": {},
     "output_type": "execute_result"
    }
   ],
   "source": [
    "consensus_taxon(matches)"
   ]
  },
  {
   "cell_type": "code",
   "execution_count": 45,
   "id": "dfc4940b",
   "metadata": {},
   "outputs": [],
   "source": [
    "staph = db.genomeset.taxa.filter_by(id=317).one()"
   ]
  },
  {
   "cell_type": "code",
   "execution_count": 46,
   "id": "e74f372f",
   "metadata": {},
   "outputs": [
    {
     "data": {
      "text/plain": [
       "1747"
      ]
     },
     "execution_count": 46,
     "metadata": {},
     "output_type": "execute_result"
    }
   ],
   "source": [
    "db.genomeset.taxa.filter_by(id=1527).one().ncbi_id"
   ]
  },
  {
   "cell_type": "code",
   "execution_count": 39,
   "id": "f53cbff4",
   "metadata": {},
   "outputs": [
    {
     "data": {
      "text/plain": [
       "0.8025270968675613"
      ]
     },
     "execution_count": 39,
     "metadata": {},
     "output_type": "execute_result"
    }
   ],
   "source": [
    "staph.distance_threshold"
   ]
  },
  {
   "cell_type": "code",
   "execution_count": 38,
   "id": "0d7c8302",
   "metadata": {},
   "outputs": [
    {
     "data": {
      "text/plain": [
       "[23651, 23652, 23653, 23654, 23655, 23656, 23657, 23658, 23659, 23660, 23661]"
      ]
     },
     "execution_count": 38,
     "metadata": {},
     "output_type": "execute_result"
    }
   ],
   "source": [
    "matches[staph]"
   ]
  },
  {
   "cell_type": "code",
   "execution_count": 40,
   "id": "8faa1eee",
   "metadata": {},
   "outputs": [
    {
     "data": {
      "text/plain": [
       "array([0.7412573 , 0.74233127, 0.7461767 , 0.746814  , 0.7427975 ,\n",
       "       0.7449437 , 0.7481282 , 0.74402225, 0.74712336, 0.747584  ,\n",
       "       0.741356  ], dtype=float32)"
      ]
     },
     "execution_count": 40,
     "metadata": {},
     "output_type": "execute_result"
    }
   ],
   "source": [
    "dists[matches[staph]]"
   ]
  },
  {
   "cell_type": "code",
   "execution_count": 42,
   "id": "20cb06b6",
   "metadata": {},
   "outputs": [
    {
     "data": {
      "text/plain": [
       "[<AnnotatedGenome:1:2209 'gambit/refseq-curated'/'refseq/assembly/GCF_000025085.1'>,\n",
       " <AnnotatedGenome:1:4642 'gambit/refseq-curated'/'refseq/assembly/GCF_000316075.2'>,\n",
       " <AnnotatedGenome:1:5717 'gambit/refseq-curated'/'refseq/assembly/GCF_000185485.1'>,\n",
       " <AnnotatedGenome:1:9601 'gambit/refseq-curated'/'refseq/assembly/GCF_000649125.1'>,\n",
       " <AnnotatedGenome:1:11374 'gambit/refseq-curated'/'refseq/assembly/GCF_000270465.1'>,\n",
       " <AnnotatedGenome:1:15804 'gambit/refseq-curated'/'refseq/assembly/GCF_001546615.1'>,\n",
       " <AnnotatedGenome:1:28525 'gambit/refseq-curated'/'refseq/assembly/GCF_000542395.1'>,\n",
       " <AnnotatedGenome:1:36679 'gambit/refseq-curated'/'refseq/assembly/GCF_000649085.1'>,\n",
       " <AnnotatedGenome:1:40867 'gambit/refseq-curated'/'refseq/assembly/GCF_000247225.1'>,\n",
       " <AnnotatedGenome:1:40893 'gambit/refseq-curated'/'refseq/assembly/GCF_001558775.1'>,\n",
       " <AnnotatedGenome:1:43740 'gambit/refseq-curated'/'refseq/assembly/GCF_001558815.1'>]"
      ]
     },
     "execution_count": 42,
     "metadata": {},
     "output_type": "execute_result"
    }
   ],
   "source": [
    "[db.genomes[i] for i in matches[staph]]"
   ]
  },
  {
   "cell_type": "code",
   "execution_count": 43,
   "id": "9a8a05ce",
   "metadata": {},
   "outputs": [
    {
     "data": {
      "text/plain": [
       "[('GCF_000025085.1',\n",
       "  '[GCF_000025085.1] Staphylococcus lugdunensis HKU09-01 (firmicutes)',\n",
       "  'Staphylococcus lugdunensis'),\n",
       " ('GCF_000316075.2',\n",
       "  '[GCF_000316075.2] Staphylococcus lugdunensis ACS-027-V-Sch2 (firmicutes)',\n",
       "  'Staphylococcus lugdunensis'),\n",
       " ('GCF_000185485.1',\n",
       "  '[GCF_000185485.1] Staphylococcus lugdunensis M23590 (firmicutes)',\n",
       "  'Staphylococcus lugdunensis'),\n",
       " ('GCF_000649125.1',\n",
       "  '[GCF_000649125.1] Staphylococcus lugdunensis VCU148 (firmicutes)',\n",
       "  'Staphylococcus lugdunensis'),\n",
       " ('GCF_000270465.1',\n",
       "  '[GCF_000270465.1] Staphylococcus lugdunensis N920143 (firmicutes)',\n",
       "  'Staphylococcus lugdunensis'),\n",
       " ('GCF_001546615.1',\n",
       "  '[GCF_001546615.1] Staphylococcus lugdunensis (firmicutes)',\n",
       "  'Staphylococcus lugdunensis'),\n",
       " ('GCF_000542395.1',\n",
       "  '[GCF_000542395.1] Staphylococcus lugdunensis UCIM6116 (firmicutes)',\n",
       "  'Staphylococcus lugdunensis'),\n",
       " ('GCF_000649085.1',\n",
       "  '[GCF_000649085.1] Staphylococcus lugdunensis VCU150 (firmicutes)',\n",
       "  'Staphylococcus lugdunensis'),\n",
       " ('GCF_000247225.1',\n",
       "  '[GCF_000247225.1] Staphylococcus lugdunensis VCU139 (firmicutes)',\n",
       "  'Staphylococcus lugdunensis'),\n",
       " ('GCF_001558775.1',\n",
       "  '[GCF_001558775.1] Staphylococcus lugdunensis (firmicutes)',\n",
       "  'Staphylococcus lugdunensis'),\n",
       " ('GCF_001558815.1',\n",
       "  '[GCF_001558815.1] Staphylococcus lugdunensis (firmicutes)',\n",
       "  'Staphylococcus lugdunensis')]"
      ]
     },
     "execution_count": 43,
     "metadata": {},
     "output_type": "execute_result"
    }
   ],
   "source": [
    "[(g.refseq_acc, g.description, g.organism) for g in _]"
   ]
  },
  {
   "cell_type": "code",
   "execution_count": null,
   "id": "f648131f",
   "metadata": {},
   "outputs": [],
   "source": []
  },
  {
   "cell_type": "code",
   "execution_count": null,
   "id": "0d6d32df",
   "metadata": {},
   "outputs": [],
   "source": []
  },
  {
   "cell_type": "code",
   "execution_count": 52,
   "id": "818bd042",
   "metadata": {},
   "outputs": [],
   "source": [
    "z = zip(range(10))"
   ]
  },
  {
   "cell_type": "code",
   "execution_count": null,
   "id": "01d414a3",
   "metadata": {},
   "outputs": [],
   "source": []
  }
 ],
 "metadata": {
  "kernelspec": {
   "display_name": "GAMBIT",
   "language": "python",
   "name": "gambit"
  },
  "language_info": {
   "codemirror_mode": {
    "name": "ipython",
    "version": 3
   },
   "file_extension": ".py",
   "mimetype": "text/x-python",
   "name": "python",
   "nbconvert_exporter": "python",
   "pygments_lexer": "ipython3",
   "version": "3.9.5"
  }
 },
 "nbformat": 4,
 "nbformat_minor": 5
}
