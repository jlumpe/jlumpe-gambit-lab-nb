{
 "cells": [
  {
   "cell_type": "markdown",
   "id": "af67d24b",
   "metadata": {},
   "source": [
    "# 210730 validation"
   ]
  },
  {
   "cell_type": "code",
   "execution_count": 1,
   "id": "d605885e",
   "metadata": {},
   "outputs": [],
   "source": [
    "from pathlib import Path\n",
    "import json"
   ]
  },
  {
   "cell_type": "code",
   "execution_count": 2,
   "id": "28261b72",
   "metadata": {},
   "outputs": [],
   "source": [
    "import numpy as np\n",
    "import pandas as pd\n",
    "from tqdm import tqdm"
   ]
  },
  {
   "cell_type": "code",
   "execution_count": 3,
   "id": "70538b29",
   "metadata": {},
   "outputs": [],
   "source": [
    "from gambit.db.fromfile import load_database_from_dir\n",
    "from gambit.io.seq import SequenceFile, find_kmers_in_files\n",
    "from gambit.metric import jaccard_sparse_matrix\n",
    "from gambit.db.models import Taxon\n",
    "from gambit.classify import classify, find_matches, GenomeMatch\n",
    "from gambit.export.json import JSONResultsExporter\n",
    "from gambit.util.dev import install_info"
   ]
  },
  {
   "cell_type": "code",
   "execution_count": 4,
   "id": "9544f56d",
   "metadata": {},
   "outputs": [
    {
     "data": {
      "text/plain": [
       "{'pkg_dir': PosixPath('/home/jared/git/gambit/gambit/gambit'),\n",
       " 'repo_dir': PosixPath('/home/jared/git/gambit/gambit'),\n",
       " 'commit': {'hash': 'c4d923b324948c5a4fea7ca3a8dc5099c77798c8',\n",
       "  'author': 'Jared Lumpe <mjlumpe@gmail.com>',\n",
       "  'author_date': '2021-07-28T22:00:47-06:00',\n",
       "  'commit': 'Jared Lumpe <mjlumpe@gmail.com>',\n",
       "  'commit_date': '2021-07-28T22:00:47-06:00',\n",
       "  'subject': 'Edits to consensus_taxon() implementation, docstring, and test'},\n",
       " 'status': 'Git info retrieved successfully.'}"
      ]
     },
     "execution_count": 4,
     "metadata": {},
     "output_type": "execute_result"
    }
   ],
   "source": [
    "install_info()"
   ]
  },
  {
   "cell_type": "markdown",
   "id": "5fca8983",
   "metadata": {},
   "source": [
    "## Setup"
   ]
  },
  {
   "cell_type": "code",
   "execution_count": 5,
   "id": "0985bcd7",
   "metadata": {},
   "outputs": [],
   "source": [
    "DATESTR = '210730'\n",
    "NBNAME = DATESTR + '-validation'"
   ]
  },
  {
   "cell_type": "code",
   "execution_count": 6,
   "id": "91e8e4c3",
   "metadata": {},
   "outputs": [],
   "source": [
    "infiles = dict(\n",
    "    db=Path('/home/jared/projects/gambit/data/databases/refseq-curated/1.0-beta1/'),\n",
    "    validation=Path('/home/jared/projects/gambit/data/validation/200726-gold-standard-seqs/'),\n",
    ")"
   ]
  },
  {
   "cell_type": "code",
   "execution_count": 7,
   "id": "32119280",
   "metadata": {},
   "outputs": [],
   "source": [
    "intermediate_out = Path('data-intermediate') / NBNAME\n",
    "if not intermediate_out.is_dir():\n",
    "    intermediate_out.mkdir()"
   ]
  },
  {
   "cell_type": "code",
   "execution_count": 8,
   "id": "4e3ee117",
   "metadata": {},
   "outputs": [],
   "source": [
    "processed_out = Path('data-processed') / NBNAME\n",
    "if not processed_out.is_dir():\n",
    "    processed_out.mkdir()"
   ]
  },
  {
   "cell_type": "markdown",
   "id": "8cbab329",
   "metadata": {},
   "source": [
    "## Load data"
   ]
  },
  {
   "cell_type": "markdown",
   "id": "f7ba9271",
   "metadata": {},
   "source": [
    "### Database"
   ]
  },
  {
   "cell_type": "code",
   "execution_count": 9,
   "id": "15fd0598",
   "metadata": {},
   "outputs": [],
   "source": [
    "db = load_database_from_dir(infiles['db'])"
   ]
  },
  {
   "cell_type": "markdown",
   "id": "fff27e6e",
   "metadata": {},
   "source": [
    "### Query files"
   ]
  },
  {
   "cell_type": "code",
   "execution_count": 10,
   "id": "1029e0a9",
   "metadata": {},
   "outputs": [],
   "source": [
    "query_df = pd.read_csv(infiles['validation'] / 'files.csv')"
   ]
  },
  {
   "cell_type": "code",
   "execution_count": 11,
   "id": "00b60d69",
   "metadata": {},
   "outputs": [],
   "source": [
    "query_files = SequenceFile.from_paths([infiles['validation'] / 'fasta' / (name + '.fasta') for name in query_df['name']], 'fasta')"
   ]
  },
  {
   "cell_type": "code",
   "execution_count": 12,
   "id": "86bcc566",
   "metadata": {},
   "outputs": [
    {
     "data": {
      "text/plain": [
       "98"
      ]
     },
     "execution_count": 12,
     "metadata": {},
     "output_type": "execute_result"
    }
   ],
   "source": [
    "nqueries = len(query_files)\n",
    "nqueries"
   ]
  },
  {
   "cell_type": "markdown",
   "id": "9914f965",
   "metadata": {},
   "source": [
    "## Run query"
   ]
  },
  {
   "cell_type": "code",
   "execution_count": 13,
   "id": "9455e6d6",
   "metadata": {},
   "outputs": [
    {
     "name": "stderr",
     "output_type": "stream",
     "text": [
      "100%|██████████| 98/98 [01:06<00:00,  1.46it/s]\n"
     ]
    }
   ],
   "source": [
    "query_sigs = find_kmers_in_files(db.signatures.kmerspec, query_files, progress=True)"
   ]
  },
  {
   "cell_type": "code",
   "execution_count": 14,
   "id": "4ec76647",
   "metadata": {},
   "outputs": [
    {
     "name": "stderr",
     "output_type": "stream",
     "text": [
      "4802000it [00:48, 99240.49it/s]                              \n"
     ]
    }
   ],
   "source": [
    "dmat = jaccard_sparse_matrix(query_sigs, db.signatures, ref_indices=db.sig_indices, distance=True, chunksize=1000, progress=True)"
   ]
  },
  {
   "cell_type": "code",
   "execution_count": 15,
   "id": "8a129016",
   "metadata": {},
   "outputs": [
    {
     "name": "stderr",
     "output_type": "stream",
     "text": [
      "100%|██████████| 98/98 [00:27<00:00,  3.60it/s]\n"
     ]
    }
   ],
   "source": [
    "results = [classify(db.genomes, dmat[i, :], strict=True) for i in tqdm(range(nqueries))]"
   ]
  },
  {
   "cell_type": "markdown",
   "id": "c65c6f2f",
   "metadata": {},
   "source": [
    "## Analysis"
   ]
  },
  {
   "cell_type": "markdown",
   "id": "3164019b",
   "metadata": {},
   "source": [
    "### Results with warnings/errors"
   ]
  },
  {
   "cell_type": "code",
   "execution_count": 16,
   "id": "0cc36650",
   "metadata": {},
   "outputs": [
    {
     "data": {
      "text/plain": [
       "[6, 39, 42, 48, 56, 58, 80]"
      ]
     },
     "execution_count": 16,
     "metadata": {},
     "output_type": "execute_result"
    }
   ],
   "source": [
    "no_prediction = [i for i, item in enumerate(results) if item.predicted_taxon is None]\n",
    "no_prediction"
   ]
  },
  {
   "cell_type": "code",
   "execution_count": 17,
   "id": "420f68e2",
   "metadata": {},
   "outputs": [
    {
     "data": {
      "text/plain": [
       "[6, 56, 80]"
      ]
     },
     "execution_count": 17,
     "metadata": {},
     "output_type": "execute_result"
    }
   ],
   "source": [
    "has_problem = [i for i, item in enumerate(results) if item.warnings or item.error]\n",
    "has_problem"
   ]
  },
  {
   "cell_type": "code",
   "execution_count": 18,
   "id": "1329dc49",
   "metadata": {},
   "outputs": [
    {
     "name": "stdout",
     "output_type": "stream",
     "text": [
      "\n",
      "6 17AC0001409_S8\n",
      "\twarnings:\n",
      "\t\tQuery matched 3 inconsistent taxa: 115:Neisseria, 1412:Streptococcus dysgalactiae, 323:Streptococcus. Reporting lowest common ancestor of this set.\n",
      "\terror: Matched taxa have no common ancestor.\n",
      "\n",
      "56 19AC0011209-1_S9\n",
      "\twarnings:\n",
      "\t\tQuery matched 3 inconsistent taxa: 319:Burkholderia, 1386:Burkholderia cenocepacia, 323:Streptococcus. Reporting lowest common ancestor of this set.\n",
      "\terror: Matched taxa have no common ancestor.\n",
      "\n",
      "80 16AC1611140BCAP_S11\n",
      "\twarnings:\n",
      "\t\tQuery matched 3 inconsistent taxa: 1527:Cutibacterium acnes, 353:Cutibacterium, 317:Staphylococcus. Reporting lowest common ancestor of this set.\n",
      "\terror: Matched taxa have no common ancestor.\n"
     ]
    }
   ],
   "source": [
    "for i in has_problem:\n",
    "    item = results[i]\n",
    "    \n",
    "    print()\n",
    "    print(i, query_df.loc[i, 'name'])\n",
    "    \n",
    "    print('\\twarnings:')\n",
    "    for w in item.warnings:\n",
    "        print('\\t\\t' + w)\n",
    "    print('\\terror:', item.error)"
   ]
  },
  {
   "cell_type": "markdown",
   "id": "a8a2c26f",
   "metadata": {},
   "source": [
    "### Alternate predictions"
   ]
  },
  {
   "cell_type": "code",
   "execution_count": 19,
   "id": "2a584a19",
   "metadata": {},
   "outputs": [],
   "source": [
    "alt_taxids = {\n",
    "    6: 115,\n",
    "    56: 323,\n",
    "    80: 317,\n",
    "}"
   ]
  },
  {
   "cell_type": "code",
   "execution_count": 20,
   "id": "94dcbe67",
   "metadata": {},
   "outputs": [],
   "source": [
    "alt_matches = dict()\n",
    "\n",
    "for row, taxid in alt_taxids.items():\n",
    "    taxon = db.session.query(Taxon).get(taxid)\n",
    "    all_matches = find_matches(zip(db.genomes, dmat[row, :]))\n",
    "    matches = all_matches[taxon]\n",
    "    \n",
    "    top_i = matches[np.argmin(dmat[row, matches])]\n",
    "    \n",
    "    alt_matches[row] = GenomeMatch(\n",
    "        genome=db.genomes[top_i],\n",
    "        distance=dmat[row, top_i],\n",
    "        matched_taxon=taxon,\n",
    "    )"
   ]
  },
  {
   "cell_type": "code",
   "execution_count": 21,
   "id": "9b6bddaf",
   "metadata": {},
   "outputs": [
    {
     "data": {
      "text/plain": [
       "{6: GenomeMatch(genome=<AnnotatedGenome:1:1252 'gambit/refseq-curated'/'refseq/assembly/GCF_000763635.1'>, distance=0.7966102, matched_taxon=<Taxon:115 'Neisseria'>),\n",
       " 56: GenomeMatch(genome=<AnnotatedGenome:1:4289 'gambit/refseq-curated'/'refseq/assembly/GCF_001069445.1'>, distance=0.7654679, matched_taxon=<Taxon:323 'Streptococcus'>),\n",
       " 80: GenomeMatch(genome=<AnnotatedGenome:1:2209 'gambit/refseq-curated'/'refseq/assembly/GCF_000025085.1'>, distance=0.7412573, matched_taxon=<Taxon:317 'Staphylococcus'>)}"
      ]
     },
     "execution_count": 21,
     "metadata": {},
     "output_type": "execute_result"
    }
   ],
   "source": [
    "alt_matches"
   ]
  },
  {
   "cell_type": "markdown",
   "id": "1ee76e49",
   "metadata": {},
   "source": [
    "## Output"
   ]
  },
  {
   "cell_type": "markdown",
   "id": "f894c191",
   "metadata": {},
   "source": [
    "### JSON"
   ]
  },
  {
   "cell_type": "code",
   "execution_count": 22,
   "id": "e54d3613",
   "metadata": {},
   "outputs": [],
   "source": [
    "json_data = []\n",
    "\n",
    "for query, item in zip(query_df.itertuples(), results):\n",
    "    data = dict(\n",
    "        query=query.name,\n",
    "        classifier_result=item,\n",
    "        alt_match=alt_matches.get(query.Index),\n",
    "    )\n",
    "    json_data.append(data)"
   ]
  },
  {
   "cell_type": "code",
   "execution_count": 23,
   "id": "dbbfa71f",
   "metadata": {},
   "outputs": [],
   "source": [
    "exporter = JSONResultsExporter()"
   ]
  },
  {
   "cell_type": "code",
   "execution_count": 24,
   "id": "955675b7",
   "metadata": {},
   "outputs": [],
   "source": [
    "with open(intermediate_out / 'result-data.json', 'wt') as f:\n",
    "    exporter.export(f, json_data)"
   ]
  },
  {
   "cell_type": "markdown",
   "id": "da7ad2be",
   "metadata": {},
   "source": [
    "### CSV"
   ]
  },
  {
   "cell_type": "code",
   "execution_count": 25,
   "id": "1548ae66",
   "metadata": {},
   "outputs": [],
   "source": [
    "def int_or_none(values):\n",
    "    values2 = [None if pd.isnull(v) else int(v) for v in values]\n",
    "    return pd.Series(values2, dtype=object)\n",
    "\n",
    "def set_int_or_none(df, column):\n",
    "    df[column] = int_or_none(df[column])"
   ]
  },
  {
   "cell_type": "code",
   "execution_count": 26,
   "id": "36c459fe",
   "metadata": {},
   "outputs": [],
   "source": [
    "_rows = []\n",
    "\n",
    "for query, item in zip(query_df.itertuples(), results):\n",
    "    closest = item.closest_match\n",
    "    predicted = closest.matched_taxon\n",
    "    \n",
    "    row = (\n",
    "        query.set,\n",
    "        query.name,\n",
    "        None if predicted is None else predicted.name,\n",
    "        None if predicted is None else predicted.ncbi_id,\n",
    "        None if predicted is None else predicted.rank,\n",
    "        None if predicted is None else predicted.distance_threshold,\n",
    "        closest.distance,\n",
    "        closest.genome.description,\n",
    "        closest.genome.taxon.ncbi_id,\n",
    "        closest.genome.taxon.name,\n",
    "        closest.genome.taxon.distance_threshold,\n",
    "    )\n",
    "    \n",
    "    _rows.append(row)\n",
    "    \n",
    "cols = [\n",
    "    'set',\n",
    "    'name',\n",
    "    'predicted.name',\n",
    "    'predicted.ncbi_id',\n",
    "    'predicted.rank',\n",
    "    'predicted.threshold',\n",
    "    'closest_genome.distance',\n",
    "    'closest_genome.description',\n",
    "    'closest_genome.taxon.ncbi_id',\n",
    "    'closest_genome.taxon.name',\n",
    "    'closest_genome.taxon.threshold',\n",
    "]\n",
    "\n",
    "main_df = pd.DataFrame.from_records(_rows, columns=cols)\n",
    "\n",
    "set_int_or_none(main_df, 'predicted.ncbi_id')\n",
    "set_int_or_none(main_df, 'closest_genome.taxon.ncbi_id')"
   ]
  },
  {
   "cell_type": "code",
   "execution_count": 27,
   "id": "39df264f",
   "metadata": {},
   "outputs": [],
   "source": [
    "_rows = []\n",
    "\n",
    "for i, alt_match in alt_matches.items():\n",
    "    query = query_df.loc[i]\n",
    "    item = results[i]\n",
    "    closest = item.closest_match\n",
    "    predicted = closest.matched_taxon\n",
    "    \n",
    "    row = (\n",
    "        query['set'],\n",
    "        query['name'],\n",
    "        alt_match.matched_taxon.name,\n",
    "        alt_match.matched_taxon.ncbi_id,\n",
    "        alt_match.matched_taxon.rank,\n",
    "        alt_match.matched_taxon.distance_threshold,\n",
    "        alt_match.distance,\n",
    "        alt_match.genome.description,\n",
    "        alt_match.genome.taxon.name,\n",
    "        alt_match.genome.taxon.ncbi_id,\n",
    "        alt_match.genome.taxon.distance_threshold,\n",
    "    )\n",
    "    \n",
    "    _rows.append(row)\n",
    "    \n",
    "cols = [\n",
    "    'set',\n",
    "    'name',\n",
    "    'alt_prediction.name',\n",
    "    'alt_prediction.ncbi_id',\n",
    "    'alt_prediction.rank',\n",
    "    'alt_prediction.threshold',\n",
    "    'alt_genome.distance',\n",
    "    'alt_genome.description',\n",
    "    'alt_genome.taxon.name',\n",
    "    'alt_genome.taxon.ncbi_id',\n",
    "    'alt_genome.taxon.threshold',\n",
    "]\n",
    "\n",
    "alt_df = pd.DataFrame.from_records(_rows, columns=cols)\n",
    "\n",
    "set_int_or_none(alt_df, 'alt_prediction.ncbi_id')\n",
    "set_int_or_none(alt_df, 'alt_genome.taxon.ncbi_id')"
   ]
  },
  {
   "cell_type": "code",
   "execution_count": 28,
   "id": "48457a1f",
   "metadata": {},
   "outputs": [],
   "source": [
    "_rows = []\n",
    "\n",
    "for query, item in zip(query_df.itertuples(), results):\n",
    "    closest = item.closest_match\n",
    "    if closest.matched_taxon is not None:\n",
    "        continue\n",
    "\n",
    "    genus = closest.genome.taxon.root()\n",
    "    assert genus.rank == 'genus'\n",
    "    \n",
    "    row = (\n",
    "        query.set,\n",
    "        query.name,\n",
    "        closest.distance,\n",
    "        closest.genome.description,\n",
    "        closest.genome.taxon.ncbi_id,\n",
    "        closest.genome.taxon.name,\n",
    "        closest.genome.taxon.distance_threshold,\n",
    "        genus.ncbi_id,\n",
    "        genus.name,\n",
    "        genus.distance_threshold,\n",
    "    )\n",
    "    \n",
    "    _rows.append(row)\n",
    "    \n",
    "cols = [\n",
    "    'set',\n",
    "    'name',\n",
    "    'closest_genome.distance',\n",
    "    'closest_genome.description',\n",
    "    'closest_genome.taxon.ncbi_id',\n",
    "    'closest_genome.taxon.name',\n",
    "    'closest_genome.taxon.threshold',\n",
    "    'closest_genome.genus.ncbi_id',\n",
    "    'closest_genome.genus.name',\n",
    "    'closest_genome.genus.threshold',\n",
    "]\n",
    "\n",
    "missing_df = pd.DataFrame.from_records(_rows, columns=cols)\n",
    "\n",
    "set_int_or_none(missing_df, 'closest_genome.taxon.ncbi_id')\n",
    "set_int_or_none(missing_df, 'closest_genome.genus.ncbi_id')"
   ]
  },
  {
   "cell_type": "code",
   "execution_count": 29,
   "id": "572943b7",
   "metadata": {},
   "outputs": [],
   "source": [
    "main_df.to_csv(processed_out / f'{DATESTR}-1.0b-validation-primary-matches.csv', index=False)\n",
    "alt_df.to_csv(processed_out / f'{DATESTR}-1.0b-validation-alternate-matches.csv', index=False)\n",
    "missing_df.to_csv(processed_out / f'{DATESTR}-1.0b-validation-unmatched-genus-info.csv', index=False)"
   ]
  }
 ],
 "metadata": {
  "kernelspec": {
   "display_name": "GAMBIT",
   "language": "python",
   "name": "gambit"
  },
  "language_info": {
   "codemirror_mode": {
    "name": "ipython",
    "version": 3
   },
   "file_extension": ".py",
   "mimetype": "text/x-python",
   "name": "python",
   "nbconvert_exporter": "python",
   "pygments_lexer": "ipython3",
   "version": "3.9.5"
  }
 },
 "nbformat": 4,
 "nbformat_minor": 5
}
