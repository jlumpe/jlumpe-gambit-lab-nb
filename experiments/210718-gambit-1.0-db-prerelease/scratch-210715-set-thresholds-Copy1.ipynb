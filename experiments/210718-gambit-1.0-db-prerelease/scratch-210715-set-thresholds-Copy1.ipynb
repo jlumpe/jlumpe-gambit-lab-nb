{
 "cells": [
  {
   "cell_type": "markdown",
   "id": "f216dfb5",
   "metadata": {},
   "source": [
    "# 210712 Find max intra outliers"
   ]
  },
  {
   "cell_type": "code",
   "execution_count": 26,
   "id": "27232575",
   "metadata": {},
   "outputs": [],
   "source": [
    "using Mmap"
   ]
  },
  {
   "cell_type": "code",
   "execution_count": 2,
   "id": "e64be6a9",
   "metadata": {},
   "outputs": [
    {
     "data": {
      "text/html": [
       "<script>\n",
       "// Immediately-invoked-function-expression to avoid global variables.\n",
       "(function() {\n",
       "    var warning_div = document.getElementById(\"webio-warning-4180975106462005854\");\n",
       "    var hide = function () {\n",
       "        var script = document.getElementById(\"webio-setup-5414650177540618666\");\n",
       "        var parent = script && script.parentElement;\n",
       "        var grandparent = parent && parent.parentElement;\n",
       "        if (grandparent) {\n",
       "            grandparent.style.display = \"none\";\n",
       "        }\n",
       "        warning_div.style.display = \"none\";\n",
       "    };\n",
       "    if (typeof Jupyter !== \"undefined\") {\n",
       "        console.log(\"WebIO detected Jupyter notebook environment.\");\n",
       "        // Jupyter notebook.\n",
       "        var extensions = (\n",
       "            Jupyter\n",
       "            && Jupyter.notebook.config.data\n",
       "            && Jupyter.notebook.config.data.load_extensions\n",
       "        );\n",
       "        if (extensions && extensions[\"webio-jupyter-notebook\"]) {\n",
       "            // Extension already loaded.\n",
       "            console.log(\"Jupyter WebIO nbextension detected; not loading ad-hoc.\");\n",
       "            hide();\n",
       "            return;\n",
       "        }\n",
       "    } else if (window.location.pathname.includes(\"/lab\")) {\n",
       "        // Guessing JupyterLa\n",
       "        console.log(\"Jupyter Lab detected; make sure the @webio/jupyter-lab-provider labextension is installed.\");\n",
       "        hide();\n",
       "        return;\n",
       "    }\n",
       "})();\n",
       "\n",
       "</script>\n",
       "<p\n",
       "    id=\"webio-warning-4180975106462005854\"\n",
       "    class=\"output_text output_stderr\"\n",
       "    style=\"padding: 1em; font-weight: bold;\"\n",
       ">\n",
       "    Unable to load WebIO. Please make sure WebIO works for your Jupyter client.\n",
       "    For troubleshooting, please see <a href=\"https://juliagizmos.github.io/WebIO.jl/latest/providers/ijulia/\">\n",
       "    the WebIO/IJulia documentation</a>.\n",
       "    <!-- TODO: link to installation docs. -->\n",
       "</p>\n"
      ],
      "text/plain": [
       "HTML{String}(\"<script>\\n// Immediately-invoked-function-expression to avoid global variables.\\n(function() {\\n    var warning_div = document.getElementById(\\\"webio-warning-4180975106462005854\\\");\\n    var hide = function () {\\n        var script = document.getElementById(\\\"webio-setup-5414650177540618666\\\");\\n        var parent = script && script.parentElement;\\n        var grandparent = parent && parent.parentElement;\\n        if (grandparent) {\\n            grandparent.style.display = \\\"none\\\";\\n        }\\n        warning_div.style.display = \\\"none\\\";\\n    };\\n    if (typeof Jupyter !== \\\"undefined\\\") {\\n        console.log(\\\"WebIO detected Jupyter notebook environment.\\\");\\n        // Jupyter notebook.\\n        var extensions = (\\n            Jupyter\\n            && Jupyter.notebook.config.data\\n            && Jupyter.notebook.config.data.load_extensions\\n        );\\n        if (extensions && extensions[\\\"webio-jupyter-notebook\\\"]) {\\n            // Extension already loaded.\\n            console.log(\\\"Jupyter WebIO nbextension detected; not loading ad-hoc.\\\");\\n            hide();\\n            return;\\n        }\\n    } else if (window.location.pathname.includes(\\\"/lab\\\")) {\\n        // Guessing JupyterLa\\n        console.log(\\\"Jupyter Lab detected; make sure the @webio/jupyter-lab-provider labextension is installed.\\\");\\n        hide();\\n        return;\\n    }\\n})();\\n\\n</script>\\n<p\\n    id=\\\"webio-warning-4180975106462005854\\\"\\n    class=\\\"output_text output_stderr\\\"\\n    style=\\\"padding: 1em; font-weight: bold;\\\"\\n>\\n    Unable to load WebIO. Please make sure WebIO works for your Jupyter client.\\n    For troubleshooting, please see <a href=\\\"https://juliagizmos.github.io/WebIO.jl/latest/providers/ijulia/\\\">\\n    the WebIO/IJulia documentation</a>.\\n    <!-- TODO: link to installation docs. -->\\n</p>\\n\")"
      ]
     },
     "metadata": {},
     "output_type": "display_data"
    }
   ],
   "source": [
    "using JSON\n",
    "using DataFrames\n",
    "using FilePathsBase\n",
    "using FilePathsBase: /\n",
    "using Arrow\n",
    "using HDF5\n",
    "using PlotlyJS"
   ]
  },
  {
   "cell_type": "code",
   "execution_count": 27,
   "id": "2a1a2268",
   "metadata": {},
   "outputs": [],
   "source": [
    "using Midas.Pairwise: npairs, iterpairs\n",
    "using TriMatrices"
   ]
  },
  {
   "cell_type": "markdown",
   "id": "03d35b74",
   "metadata": {},
   "source": [
    "## Setup"
   ]
  },
  {
   "cell_type": "code",
   "execution_count": 3,
   "id": "094cfbb2",
   "metadata": {},
   "outputs": [
    {
     "data": {
      "text/plain": [
       "100"
      ]
     },
     "execution_count": 3,
     "metadata": {},
     "output_type": "execute_result"
    }
   ],
   "source": [
    "ENV[\"COLUMNS\"] = 400\n",
    "ENV[\"LINES\"] = 100"
   ]
  },
  {
   "cell_type": "code",
   "execution_count": 4,
   "id": "1ad92a17",
   "metadata": {},
   "outputs": [
    {
     "data": {
      "text/plain": [
       "\"210715-set-thresholds\""
      ]
     },
     "execution_count": 4,
     "metadata": {},
     "output_type": "execute_result"
    }
   ],
   "source": [
    "DATESTR = \"210715\"\n",
    "NBNAME = \"$DATESTR-set-thresholds\""
   ]
  },
  {
   "cell_type": "code",
   "execution_count": 30,
   "id": "b4695aff",
   "metadata": {},
   "outputs": [],
   "source": [
    "infiles = Dict(\n",
    "    :distances => p\"../../data/intermediate/200727-find-overlaps/genome-pw-distances.raw-float32\",\n",
    "#     :db => p\"data-intermediate/210713-compile-edits/\",\n",
    "    :data => p\"data-intermediate/210715-calculate-additional-data/\",\n",
    ");"
   ]
  },
  {
   "cell_type": "markdown",
   "id": "24d92194",
   "metadata": {},
   "source": [
    "## Load data"
   ]
  },
  {
   "cell_type": "markdown",
   "id": "2337bffc",
   "metadata": {},
   "source": [
    "### Taxonomy"
   ]
  },
  {
   "cell_type": "code",
   "execution_count": 6,
   "id": "3fab01e3",
   "metadata": {},
   "outputs": [],
   "source": [
    "taxa = DataFrame(Arrow.Table(string(infiles[:data] / \"taxa.arrow\")));"
   ]
  },
  {
   "cell_type": "code",
   "execution_count": 7,
   "id": "dd31cb55",
   "metadata": {},
   "outputs": [
    {
     "data": {
      "text/plain": [
       "50752"
      ]
     },
     "execution_count": 7,
     "metadata": {},
     "output_type": "execute_result"
    }
   ],
   "source": [
    "genome_assignments = Vector{Int}(open(JSON.parse, infiles[:db] / \"genome-assignments.json\"))\n",
    "ngenomes = length(genome_assignments)"
   ]
  },
  {
   "cell_type": "code",
   "execution_count": 8,
   "id": "ca4eb30c",
   "metadata": {},
   "outputs": [
    {
     "data": {
      "text/plain": [
       "lookup_tid (generic function with 2 methods)"
      ]
     },
     "execution_count": 8,
     "metadata": {},
     "output_type": "execute_result"
    }
   ],
   "source": [
    "tid_to_tidx = Dict(id => i for (i, id) in enumerate(taxa[!, :id]))\n",
    "\n",
    "taxon_index(tid::Integer) = tid_to_tidx[tid]\n",
    "taxon_index(tids::AbstractVector{<:Integer}) = taxon_index.(tids)\n",
    "\n",
    "lookup_tid(tid, cols=:) = taxa[taxon_index(tid), cols]"
   ]
  },
  {
   "cell_type": "code",
   "execution_count": 29,
   "id": "cba4566a",
   "metadata": {},
   "outputs": [],
   "source": [
    "SUMMARY_COLS = [:id, :ncbi_id, :name, :rank, :parent_id, :in_v12, :manual_threshold, :report, :key, :is_leaf, :nleaves, :ngenomes, :diameter, :min_inter_src, :min_inter_dst, :min_inter_dist];"
   ]
  },
  {
   "cell_type": "markdown",
   "id": "dcbdcecc",
   "metadata": {},
   "source": [
    "### Distances"
   ]
  },
  {
   "cell_type": "code",
   "execution_count": 31,
   "id": "7e5a526d",
   "metadata": {},
   "outputs": [],
   "source": [
    "pw_data = Mmap.mmap(open(infiles[:distances]), Vector{Float32}, (npairs(ngenomes),));\n",
    "\n",
    "pw_dists = TriMatrix(TriSymmetric{false}(), ngenomes, pw_data);"
   ]
  },
  {
   "cell_type": "markdown",
   "id": "33d72360",
   "metadata": {},
   "source": [
    "## Plots"
   ]
  },
  {
   "cell_type": "code",
   "execution_count": 9,
   "id": "a0445e87",
   "metadata": {},
   "outputs": [],
   "source": [
    "@assert !any(row.min_inter_dist <= row.manual_threshold for row in eachrow(taxa) if !isnan(row.manual_threshold))"
   ]
  },
  {
   "cell_type": "code",
   "execution_count": 39,
   "id": "32d4be05",
   "metadata": {},
   "outputs": [],
   "source": [
    "taxa[!, :coverage_at_min_inter] = [\n",
    "    count(<=(row.min_inter_dist), view(pw_dists, row.genomes, row.genomes)) / row.ngenomes ^ 2\n",
    "    for row in eachrow(taxa)\n",
    "];"
   ]
  },
  {
   "cell_type": "code",
   "execution_count": 45,
   "id": "7a6500d1",
   "metadata": {},
   "outputs": [
    {
     "data": {
      "application/vnd.plotly.v1+json": {
       "data": [
        {
         "line": {
          "color": "gray",
          "dash": "dash"
         },
         "type": "scatter",
         "x": [
          0,
          1
         ],
         "y": [
          1,
          1
         ]
        },
        {
         "customdata": [
          [
           0.9878954,
           0.5918367346938775,
           "1106 Mobiluncus mulieris",
           "1688 Actinobaculum massiliense"
          ],
          [
           0.9745936,
           0.7638888888888888,
           "1794 Gordonia amicalis",
           "1478 Nocardia farcinica"
          ],
          [
           0.98535514,
           1,
           "540 Meiothermus ruber",
           "1868 Thermus oshimai"
          ],
          [
           0.8617246,
           0.5555555555555556,
           "1079 Kitasatospora aureofaciens",
           "1206 Streptomyces pyridomyceticus"
          ],
          [
           0.99322957,
           0.9506172839506173,
           "467 Shewanella putrefaciens",
           "1460 Salmonella enterica"
          ],
          [
           0.9954239,
           1,
           "1118 Sporolactobacillus vineae",
           "577 Neorhizobium galegae"
          ],
          [
           0.98204195,
           1,
           "1110 Dyella japonica",
           "1276 Rhodanobacter denitrificans"
          ],
          [
           0.96385735,
           1,
           "470 Myxococcus xanthus",
           "471 Stigmatella aurantiaca"
          ],
          [
           0.96385735,
           1,
           "471 Stigmatella aurantiaca",
           "470 Myxococcus xanthus"
          ],
          [
           0.9839599,
           0.14501755333513366,
           "1148 Mycoplasma yeatsii",
           "1141 Mesoplasma florum"
          ],
          [
           0.995471,
           1,
           "1030 Candidatus Portiera aleyrodidarum",
           "464 Buchnera aphidicola"
          ],
          [
           0.98434055,
           1,
           "1438 Thalassobius mediterraneus",
           "1700 Phaeobacter italicus"
          ],
          [
           0.9629976,
           1,
           "1683 Flavonifractor plautii",
           "1294 Intestinimonas butyriciproducens"
          ],
          [
           0.9736541,
           0.5918367346938775,
           "1733 Lysobacter defluvii",
           "1309 Pseudoxanthomonas suwonensis"
          ],
          [
           0.99469227,
           1,
           "988 Fructobacillus fructosus",
           "800 Leuconostoc pseudomesenteroides"
          ],
          [
           0.9767677,
           1,
           "1398 Caulobacter henricii",
           "550 Brevundimonas diminuta"
          ],
          [
           0.994287,
           1,
           "1370 Jeotgalibaca dankookensis",
           "1259 Enterococcus dispar"
          ],
          [
           0.9758441,
           1,
           "1134 Ureaplasma urealyticum",
           "528 Anaerococcus hydrogenalis"
          ],
          [
           0.98681056,
           1,
           "1136 Spiroplasma melliferum",
           "598 Neisseria gonorrhoeae"
          ],
          [
           0.9424508,
           0.3656,
           "1175 Pantoea dispersa",
           "1525 Enterobacter ludwigii"
          ],
          [
           0.9751524,
           1,
           "1474 Cupriavidus metallidurans",
           "1387 Achromobacter xylosoxidans"
          ],
          [
           0.9813103,
           1,
           "1900 Nitratireductor aquibiodomus",
           "1761 Mesorhizobium ciceri"
          ],
          [
           0.9273399,
           0.5,
           "1003 Schaalia odontolytica",
           "829 Kytococcus sedentarius"
          ],
          [
           0.996656,
           1,
           "480 Oligella urethralis",
           "1197 Taylorella asinigenitalis"
          ],
          [
           0.98641086,
           1,
           "482 Borrelia hermsii",
           "1564 Borreliella garinii"
          ],
          [
           0.9948507,
           1,
           "1029 Richelia intracellularis",
           "1213 Dolichospermum circinale"
          ],
          [
           0.9840475,
           1,
           "1146 Eggerthella lenta",
           "1376 Amycolatopsis vancoresmycina"
          ],
          [
           0.987777,
           1,
           "1507 Paenarthrobacter nicotinovorans",
           "1086 Streptomyces hygroscopicus"
          ],
          [
           0.99566513,
           1,
           "489 Spirochaeta thermophila",
           "1094 Nocardiopsis dassonvillei"
          ],
          [
           0.9765163,
           1,
           "706 Rodentibacter pneumotropicus",
           "693 Haemophilus influenzae"
          ],
          [
           0.9761768,
           0.54,
           "1716 Kocuria palustris",
           "1593 Rothia kristinae"
          ],
          [
           0.98118806,
           1,
           "636 Collimonas pratensis",
           "752 Herbaspirillum seropedicae"
          ],
          [
           0.9273399,
           1,
           "829 Kytococcus sedentarius",
           "1003 Schaalia odontolytica"
          ],
          [
           0.99398285,
           0.41609977324263037,
           "1450 Treponema socranskii",
           "1400 Burkholderia pseudomallei"
          ],
          [
           0.9941222,
           1,
           "494 Catabacter hongkongensis",
           "1275 Streptococcus constellatus"
          ],
          [
           0.99344856,
           1,
           "1583 Sulfurimonas gotlandica",
           "1372 Arcobacter butzleri"
          ],
          [
           0.9888995,
           1,
           "1229 Salinivibrio socompensis",
           "669 Vibrio cholerae"
          ],
          [
           0.9893584,
           0.9603068352695595,
           "1365 Leptospira noguchii",
           "834 Staphylococcus epidermidis"
          ],
          [
           0.9960396,
           1,
           "1727 Leptospirillum ferriphilum",
           "1466 Mesorhizobium plurifarium"
          ],
          [
           0.99712974,
           1,
           "501 Candidatus Moranella endobia",
           "464 Buchnera aphidicola"
          ],
          [
           0.99265665,
           1,
           "855 Oblitimonas alkaliphila",
           "634 Morganella morganii"
          ],
          [
           0.9796503,
           1,
           "627 Shimwellia blattae",
           "1405 Cronobacter turicensis"
          ],
          [
           0.9743722,
           1,
           "1414 Azospirillum thiophilum",
           "1466 Mesorhizobium plurifarium"
          ],
          [
           0.99469537,
           1,
           "755 Saccharicrinis fermentans",
           "914 Bacillus thuringiensis"
          ],
          [
           0.98408306,
           0.9073318909822193,
           "505 Campylobacter coli",
           "1261 Helicobacter pullorum"
          ],
          [
           0.99656945,
           1,
           "1709 Ferrimicrobium acidiphilum",
           "575 Rhizobium leguminosarum"
          ],
          [
           0.9600985,
           0.9963269054178145,
           "1153 Mannheimia haemolytica",
           "1748 Bibersteinia trehalosi"
          ],
          [
           0.9796193,
           0.8700562945964359,
           "511 Helicobacter pylori",
           "600 Neisseria meningitidis"
          ],
          [
           0.99611765,
           1,
           "1459 Hydrogenovibrio marinus",
           "1704 Acinetobacter gerneri"
          ],
          [
           0.94514495,
           1,
           "1387 Achromobacter xylosoxidans",
           "606 Bordetella bronchiseptica"
          ],
          [
           0.9884257,
           1,
           "941 Thermoanaerobacterium thermosaccharolyticum",
           "1512 Thermoanaerobacter thermocopriae"
          ],
          [
           0.9866526,
           0.6818181818181818,
           "1238 Alteromonas mediterranea",
           "669 Vibrio cholerae"
          ],
          [
           0.8879187,
           0.9784971644612477,
           "1470 Brucella intermedia",
           "610 Ochrobactrum anthropi"
          ],
          [
           0.98555666,
           0.5335169880624426,
           "1694 Flavobacterium psychrophilum",
           "1521 Bacillus safensis"
          ],
          [
           0.97797745,
           1,
           "1648 Parageobacillus toebii",
           "911 Geobacillus stearothermophilus"
          ],
          [
           0.99437946,
           1,
           "1340 Francisella philomiragia",
           "935 Paeniclostridium sordellii"
          ],
          [
           0.97494483,
           1,
           "1566 Paracoccus sanguinis",
           "771 Rhodobacter sphaeroides"
          ],
          [
           0.98535514,
           1,
           "1868 Thermus oshimai",
           "540 Meiothermus ruber"
          ],
          [
           0.97474533,
           0.76,
           "1518 Comamonas aquatica",
           "1847 Alicycliphilus denitrificans"
          ],
          [
           0.96939194,
           0.6867402685667023,
           "546 Pseudomonas aeruginosa",
           "1387 Achromobacter xylosoxidans"
          ],
          [
           0.99767023,
           1,
           "1162 Thermotoga neapolitana",
           "484 Pseudothermotoga hypogea"
          ],
          [
           0.9809359,
           1,
           "1169 Thauera linaloolentis",
           "1649 Rubrivivax benzoatilyticus"
          ],
          [
           0.975658,
           1,
           "1186 Roseomonas mucosa",
           "1103 Aurantimonas coralicida"
          ],
          [
           0.9904294,
           1,
           "1673 Marinagarivorans algicola",
           "669 Vibrio cholerae"
          ],
          [
           0.9869974,
           1,
           "740 Desulfocurvibacter africanus",
           "741 Desulfovibrio gigas"
          ],
          [
           0.97797745,
           1,
           "911 Geobacillus stearothermophilus",
           "1648 Parageobacillus toebii"
          ],
          [
           0.9767677,
           1,
           "550 Brevundimonas diminuta",
           "1398 Caulobacter henricii"
          ],
          [
           0.97050333,
           1,
           "524 Hydrogenophaga intermedia",
           "1847 Alicycliphilus denitrificans"
          ],
          [
           0.97056776,
           1,
           "687 Chania multitudinisentens",
           "1766 Serratia fonticola"
          ],
          [
           0.9944711,
           1,
           "1166 Akkermansia muciniphila",
           "1094 Nocardiopsis dassonvillei"
          ],
          [
           0.9956932,
           1,
           "1682 Sulfurospirillum cavolei",
           "511 Helicobacter pylori"
          ],
          [
           0.9943929,
           1,
           "1167 Xylella fastidiosa",
           "1666 Stenotrophomonas acidaminiphila"
          ],
          [
           0.98072875,
           0.22263717322608445,
           "976 Limosilactobacillus fermentum",
           "965 Lactiplantibacillus plantarum"
          ],
          [
           0.9939956,
           1,
           "1168 Sporomusa ovata",
           "936 Clostridium sporogenes"
          ],
          [
           0.962195,
           0.7642666572744323,
           "1815 Xanthomonas sacchari",
           "1309 Pseudoxanthomonas suwonensis"
          ],
          [
           0.9908654,
           1,
           "761 Bergeyella zoohelcum",
           "1368 Capnocytophaga canimorsus"
          ],
          [
           0.9602677,
           0.4462809917355372,
           "1581 Phocaeicola dorei",
           "1558 Bacteroides salyersiae"
          ],
          [
           0.99559724,
           1,
           "757 Marinilabilia salmonicolor",
           "755 Saccharicrinis fermentans"
          ],
          [
           0.9714851,
           1,
           "1171 Kutzneria albida",
           "1376 Amycolatopsis vancoresmycina"
          ],
          [
           0.9734181,
           1,
           "566 Azotobacter vinelandii",
           "1138 Pseudomonas thermotolerans"
          ],
          [
           0.96971333,
           1,
           "569 Agrobacterium tumefaciens",
           "1537 Rhizobium etli"
          ],
          [
           0.99495304,
           1,
           "1173 Thermosipho africanus",
           "1512 Thermoanaerobacter thermocopriae"
          ],
          [
           0.9832098,
           1,
           "1426 Terrisporobacter glycolicus",
           "935 Paeniclostridium sordellii"
          ],
          [
           0.9742743,
           1,
           "942 Bradyrhizobium yuanmingense",
           "1466 Mesorhizobium plurifarium"
          ],
          [
           0.9768791,
           1,
           "1643 Wenxinia marina",
           "1566 Paracoccus sanguinis"
          ],
          [
           0.9957272,
           1,
           "1174 Teredinibacter turnerae",
           "1790 Herbaspirillum rubrisubalbicans"
          ],
          [
           0.9623865,
           0.8861340679522498,
           "1537 Rhizobium etli",
           "573 Sinorhizobium fredii"
          ],
          [
           0.97209406,
           1,
           "1224 Caballeronia zhejiangensis",
           "891 Paraburkholderia caribensis"
          ],
          [
           0.9928997,
           1,
           "523 Propionimicrobium lymphophilum",
           "1849 Propionibacterium acidifaciens"
          ],
          [
           0.98304677,
           1,
           "945 [Clostridium] innocuum",
           "1734 Faecalitalea cylindroides"
          ],
          [
           0.989938,
           1,
           "1695 Caldibacillus debilis",
           "911 Geobacillus stearothermophilus"
          ],
          [
           0.96681434,
           1,
           "1847 Alicycliphilus denitrificans",
           "1795 Acidovorax avenae"
          ],
          [
           0.98448545,
           1,
           "1188 Anaerostipes hadrus",
           "1736 Dorea formicigenerans"
          ],
          [
           0.96247417,
           0.5,
           "1826 Methylobacterium radiotolerans",
           "579 Methylorubrum extorquens"
          ],
          [
           0.97757477,
           1,
           "807 Komagataeibacter europaeus",
           "808 Gluconacetobacter diazotrophicus"
          ],
          [
           0.9879025,
           1,
           "580 Methylococcus capsulatus",
           "1327 Rubrivivax gelatinosus"
          ],
          [
           0.9801495,
           1,
           "1471 Fulvimarina pelagi",
           "1103 Aurantimonas coralicida"
          ],
          [
           0.9944047,
           1,
           "865 Methylobacter tundripaludum",
           "1943 Pseudomonas syringae subgroup 3"
          ],
          [
           0.9936314,
           1,
           "1465 Lawsonella clevelandensis",
           "1508 Corynebacterium otitidis"
          ],
          [
           0.994416,
           0.625,
           "1221 Pontibacillus marinus",
           "1934 Bacillus pumilus subgroup 1"
          ],
          [
           0.976356,
           0.37,
           "582 Acetobacter aceti",
           "1821 Gluconobacter albidus"
          ],
          [
           0.9922009,
           1,
           "1876 Oceanobacillus picturae",
           "926 Virgibacillus halodenitrificans"
          ],
          [
           0.9922009,
           1,
           "926 Virgibacillus halodenitrificans",
           "1876 Oceanobacillus picturae"
          ],
          [
           0.9907763,
           1,
           "1004 Trueperella pyogenes",
           "1097 Curtobacterium flaccumfaciens"
          ],
          [
           0.99229586,
           1,
           "1142 Actinotignum schaalii",
           "1688 Actinobaculum massiliense"
          ],
          [
           0.976356,
           0.673469387755102,
           "1821 Gluconobacter albidus",
           "582 Acetobacter aceti"
          ],
          [
           0.94732356,
           0.8934376798881609,
           "1332 Legionella cherrii",
           "594 Fluoribacter dumoffii"
          ],
          [
           0.94732356,
           1,
           "594 Fluoribacter dumoffii",
           "1332 Legionella cherrii"
          ],
          [
           0.99175096,
           1,
           "593 Tatlockia micdadei",
           "591 Legionella pneumophila"
          ],
          [
           0.99150497,
           1,
           "1184 Tetragenococcus halophilus",
           "878 Enterococcus faecium"
          ],
          [
           0.96542567,
           0.8573924506000895,
           "1334 Acinetobacter lwoffii",
           "1424 Mycobacteroides abscessus"
          ],
          [
           0.99380076,
           1,
           "597 Moraxella catarrhalis",
           "1436 Enhydrobacter aerosaccus"
          ],
          [
           0.95789886,
           1,
           "931 Paraclostridium bifermentans",
           "935 Paeniclostridium sordellii"
          ],
          [
           0.9957806,
           1,
           "513 Fannyhessea vaginae",
           "893 Atopobium minutum"
          ],
          [
           0.965453,
           0.9913850316897901,
           "603 Neisseria elongata",
           "613 Eikenella corrodens"
          ],
          [
           0.995927,
           1,
           "1262 Mariprofundus ferrooxydans",
           "1842 Stenotrophomonas maltophilia"
          ],
          [
           0.95789886,
           1,
           "935 Paeniclostridium sordellii",
           "931 Paraclostridium bifermentans"
          ],
          [
           0.98859054,
           1,
           "1396 Solobacterium moorei",
           "878 Enterococcus faecium"
          ],
          [
           0.96582,
           0.5,
           "535 Peptoniphilus lacrimalis",
           "530 Anaerococcus lactolyticus"
          ],
          [
           0.99484736,
           1,
           "1526 Psychrobacter phenylpyruvicus",
           "1436 Enhydrobacter aerosaccus"
          ],
          [
           0.9937436,
           1,
           "691 Planomicrobium glaciei",
           "792 Geobacillus thermoleovorans"
          ],
          [
           0.9654817,
           0.355,
           "785 Parabacteroides goldsteinii",
           "723 Bacteroides fragilis"
          ],
          [
           0.98715234,
           1,
           "605 Alcaligenes faecalis",
           "546 Pseudomonas aeruginosa"
          ],
          [
           0.9863281,
           0.5,
           "504 Mycoplasmopsis columbina",
           "1575 Mycoplasma meleagridis"
          ],
          [
           0.94514495,
           0.826307050329289,
           "606 Bordetella bronchiseptica",
           "1387 Achromobacter xylosoxidans"
          ],
          [
           0.96990645,
           1,
           "820 Finegoldia magna",
           "528 Anaerococcus hydrogenalis"
          ],
          [
           0.9887186,
           1,
           "1336 Robbsia andropogonis",
           "1588 Burkholderia contaminans"
          ],
          [
           0.9826547,
           1,
           "1514 Acidiphilium multivorum",
           "1466 Mesorhizobium plurifarium"
          ],
          [
           0.8879187,
           1,
           "610 Ochrobactrum anthropi",
           "1470 Brucella intermedia"
          ],
          [
           0.9924237,
           1,
           "1485 Ardenticatena maritima",
           "606 Bordetella bronchiseptica"
          ],
          [
           0.98846084,
           1,
           "1492 Laribacter hongkongensis",
           "1387 Achromobacter xylosoxidans"
          ],
          [
           0.9838951,
           1,
           "1677 Chromobacterium subtsugae",
           "1387 Achromobacter xylosoxidans"
          ],
          [
           0.965453,
           1,
           "613 Eikenella corrodens",
           "603 Neisseria elongata"
          ],
          [
           0.99205416,
           1,
           "614 Zymomonas mobilis",
           "1625 Sphingobium yanoikuyae"
          ],
          [
           0.99136025,
           1,
           "902 Cytobacillus firmus",
           "924 Bacillus methanolicus"
          ],
          [
           0.9248329,
           0.6572222222222223,
           "617 Citrobacter freundii",
           "1915 Enterobacter hormaechei subgroup 2"
          ],
          [
           0.97528654,
           1,
           "1778 Pannonibacter phragmitetus",
           "1846 Tistrella mobilis"
          ],
          [
           0.99395084,
           0.5,
           "1687 Alkalihalobacillus clausii",
           "1934 Bacillus pumilus subgroup 1"
          ],
          [
           0.9248329,
           0.9847337278106509,
           "1915 Enterobacter hormaechei subgroup 2",
           "617 Citrobacter freundii"
          ],
          [
           0.9932146,
           1,
           "1857 Neobacillus vireti",
           "902 Cytobacillus firmus"
          ],
          [
           0.99048406,
           1,
           "1494 Varibaculum cambriense",
           "1105 Mobiluncus curtisii"
          ],
          [
           0.97261614,
           0.5537190082644629,
           "1126 Erwinia billingiae",
           "619 Pantoea agglomerans"
          ],
          [
           0.98533815,
           1,
           "629 Hafnia alvei",
           "1919 Enterobacter cloacae subgroup 2"
          ],
          [
           0.9876843,
           1,
           "1496 Thalassobacter stenotrophicus",
           "1345 Phaeobacter gallaeciensis"
          ],
          [
           0.92821676,
           0.8683544790465205,
           "631 Klebsiella pneumoniae",
           "1914 Enterobacter hormaechei subgroup 1"
          ],
          [
           0.9891247,
           1,
           "1102 Pseudoleptotrichia goodfellowii",
           "1100 Leptotrichia hofstadii"
          ],
          [
           0.9795897,
           1,
           "634 Morganella morganii",
           "631 Klebsiella pneumoniae"
          ],
          [
           0.96096545,
           1,
           "635 Proteus mirabilis",
           "639 Providencia stuartii"
          ],
          [
           0.96096545,
           0.42592592592592593,
           "639 Providencia stuartii",
           "635 Proteus mirabilis"
          ],
          [
           0.92634374,
           1,
           "1460 Salmonella enterica",
           "1932 Escherichia coli subgroup 2"
          ],
          [
           0.98688364,
           1,
           "531 Parvimonas micra",
           "1275 Streptococcus constellatus"
          ],
          [
           0.99571514,
           1,
           "756 Pedobacter heparinus",
           "527 Sphingobacterium spiritivorum"
          ],
          [
           0.94122505,
           0.8427781727127078,
           "643 Serratia marcescens",
           "1915 Enterobacter hormaechei subgroup 2"
          ],
          [
           0.9669298,
           1,
           "1383 Verrucosispora maris",
           "1527 Salinispora arenicola"
          ],
          [
           0.9826457,
           1,
           "649 Xenorhabdus nematophila",
           "781 Photorhabdus temperata"
          ],
          [
           0.96681434,
           0.625,
           "1795 Acidovorax avenae",
           "1847 Alicycliphilus denitrificans"
          ],
          [
           0.9723371,
           0.9667991368901999,
           "653 Yersinia pestis",
           "618 Klebsiella aerogenes"
          ],
          [
           0.9841382,
           1,
           "1300 Edwardsiella anguillarum",
           "1458 Serratia rubidaea"
          ],
          [
           0.9779489,
           1,
           "1183 Epibacterium mobile",
           "1700 Phaeobacter italicus"
          ],
          [
           0.9772901,
           1,
           "658 Aeromonas salmonicida",
           "669 Vibrio cholerae"
          ],
          [
           0.96718717,
           1,
           "1201 Gardnerella vaginalis",
           "598 Neisseria gonorrhoeae"
          ],
          [
           0.9493953,
           1,
           "1574 Franconibacter helveticus",
           "1918 Enterobacter cloacae subgroup 1"
          ],
          [
           0.99121183,
           0.8828125,
           "1780 Photobacterium iliopiscarium",
           "670 Aliivibrio fischeri"
          ],
          [
           0.9596689,
           0.3756940597106802,
           "672 Vibrio parahaemolyticus",
           "1460 Salmonella enterica"
          ],
          [
           0.98304677,
           1,
           "1734 Faecalitalea cylindroides",
           "945 [Clostridium] innocuum"
          ],
          [
           0.97707736,
           1,
           "1756 Leucobacter chromiiresistens",
           "1783 Curtobacterium oceanosedimentum"
          ],
          [
           0.9731774,
           1,
           "488 Aureimonas ureilytica",
           "1421 Aurantimonas manganoxydans"
          ],
          [
           0.99374825,
           1,
           "1207 Jonquetella anthropi",
           "503 Azospirillum brasilense"
          ],
          [
           0.9945955,
           1,
           "937 Thermoclostridium stercorarium",
           "940 Hungateiclostridium thermocellum"
          ],
          [
           0.9901627,
           1,
           "1152 Hungateiclostridium clariflavum",
           "1512 Thermoanaerobacter thermocopriae"
          ],
          [
           0.9927606,
           1,
           "1208 Marinobacter hydrocarbonoclasticus",
           "546 Pseudomonas aeruginosa"
          ],
          [
           0.9896964,
           1,
           "1513 Jejuia pallidilutea",
           "1891 Algibacter lectus"
          ],
          [
           0.99157304,
           1,
           "1493 Halomonas anticariensis",
           "1846 Tistrella mobilis"
          ],
          [
           0.9912374,
           0.6111111111111112,
           "1210 Carnobacterium maltaromaticum",
           "877 Enterococcus faecalis"
          ],
          [
           0.9924541,
           1,
           "684 Plesiomonas shigelloides",
           "1151 Edwardsiella ictaluri"
          ],
          [
           0.9686004,
           1,
           "1466 Mesorhizobium plurifarium",
           "1537 Rhizobium etli"
          ],
          [
           0.993986,
           1,
           "647 Moritella marina",
           "670 Aliivibrio fischeri"
          ],
          [
           0.9939459,
           1,
           "1212 Brochothrix thermosphacta",
           "1896 Enterococcus moraviensis"
          ],
          [
           0.9771529,
           1,
           "690 Actinobacillus suis",
           "1325 Mannheimia varigena"
          ],
          [
           0.97073233,
           0.8781065088757396,
           "695 Haemophilus parainfluenzae",
           "698 Aggregatibacter aphrophilus"
          ],
          [
           0.98819256,
           1,
           "1282 Altererythrobacter marensis",
           "544 Sphingopyxis terrae"
          ],
          [
           0.9747883,
           1,
           "475 Sorangium cellulosum",
           "918 Streptomyces ruber"
          ],
          [
           0.9857713,
           1,
           "1074 Anoxybacillus gonensis",
           "919 Geobacillus kaustophilus"
          ],
          [
           0.9852026,
           0.5,
           "844 Sulfitobacter mediterraneus",
           "1438 Thalassobius mediterraneus"
          ],
          [
           0.9730617,
           1,
           "704 Pasteurella multocida",
           "693 Haemophilus influenzae"
          ],
          [
           0.99516606,
           1,
           "1292 Endozoicomonas montiporae",
           "1208 Marinobacter hydrocarbonoclasticus"
          ],
          [
           0.9669298,
           1,
           "1527 Salinispora arenicola",
           "1383 Verrucosispora maris"
          ],
          [
           0.9973288,
           0.6143250688705234,
           "749 Anaplasma phagocytophilum",
           "712 Ehrlichia ruminantium"
          ],
          [
           0.9716797,
           1,
           "709 Glycomyces tenuis",
           "1090 Streptomyces viridochromogenes"
          ],
          [
           0.98104787,
           1,
           "1785 Smaragdicoccus niigatensis",
           "1479 Nocardia seriolae"
          ],
          [
           0.99572325,
           0.9714532871972318,
           "1810 Bartonella clarridgeiae",
           "1746 Candidatus Liberibacter americanus"
          ],
          [
           0.9971802,
           1,
           "711 Coxiella burnetii",
           "885 Lactococcus lactis"
          ],
          [
           0.98726314,
           1,
           "805 Rickettsia bellii",
           "1111 Mycoplasma arginini"
          ],
          [
           0.99520767,
           1,
           "1674 Candidatus Profftella armatura",
           "1116 Mycoplasma hyopneumoniae"
          ],
          [
           0.98270047,
           1,
           "1222 Ketogulonicigenium vulgare",
           "592 Paracoccus pantotrophus"
          ],
          [
           0.9935356,
           0.8016528925619835,
           "1773 Veillonella atypica",
           "834 Staphylococcus epidermidis"
          ],
          [
           0.9877877,
           1,
           "1874 Ruegeria atlantica",
           "1700 Phaeobacter italicus"
          ],
          [
           0.99465793,
           1,
           "1545 Pelosinus fermentans",
           "1168 Sporomusa ovata"
          ],
          [
           0.9888597,
           1,
           "1226 Olsenella uli",
           "782 Brevibacterium casei"
          ],
          [
           0.98375285,
           0.45953125,
           "722 Chlamydia trachomatis",
           "1201 Gardnerella vaginalis"
          ],
          [
           0.9826457,
           1,
           "781 Photorhabdus temperata",
           "649 Xenorhabdus nematophila"
          ],
          [
           0.9602677,
           0.39734375,
           "1558 Bacteroides salyersiae",
           "1581 Phocaeicola dorei"
          ],
          [
           0.98532176,
           1,
           "1730 Hungatella hathewayi",
           "938 [Clostridium] symbiosum"
          ],
          [
           0.96542567,
           1,
           "1424 Mycobacteroides abscessus",
           "1334 Acinetobacter lwoffii"
          ],
          [
           0.99498093,
           1,
           "1895 Bellilinea caldifistulae",
           "606 Bordetella bronchiseptica"
          ],
          [
           0.9963466,
           1,
           "615 Leptolinea tardivitalis",
           "649 Xenorhabdus nematophila"
          ],
          [
           0.99472266,
           1,
           "729 Butyrivibrio fibrisolvens",
           "588 Blautia wexlerae"
          ],
          [
           0.9957187,
           1,
           "730 Fibrobacter succinogenes",
           "575 Rhizobium leguminosarum"
          ],
          [
           0.9873035,
           0.3646449704142012,
           "732 Porphyromonas gingivalis",
           "1342 Tannerella forsythia"
          ],
          [
           0.9880597,
           0.1889868373384857,
           "1232 Prevotella saccharolytica",
           "1484 Porphyromonas gulae"
          ],
          [
           0.996269,
           1,
           "1862 Wohlfahrtiimonas chitiniclastica",
           "1714 Vibrio anguillarum"
          ],
          [
           0.9828629,
           1,
           "570 Roseburia inulinivorans",
           "1736 Dorea formicigenerans"
          ],
          [
           0.987603,
           1,
           "1835 Sanguibacteroides justesenii",
           "1558 Bacteroides salyersiae"
          ],
          [
           0.9881423,
           0.48319941563184804,
           "734 Fusobacterium gonidiaformans",
           "821 Peptostreptococcus anaerobius"
          ],
          [
           0.992044,
           1,
           "491 Brachyspira hyodysenteriae",
           "1426 Terrisporobacter glycolicus"
          ],
          [
           0.95303506,
           1,
           "1231 Mycetocola saprophilus",
           "1088 Streptomyces rimosus"
          ],
          [
           0.995362,
           1,
           "739 Dichelobacter nodosus",
           "604 Kingella kingae"
          ],
          [
           0.9869974,
           0.25925925925925924,
           "741 Desulfovibrio gigas",
           "740 Desulfocurvibacter africanus"
          ],
          [
           0.99203926,
           1,
           "1569 Rhodothermus marinus",
           "709 Glycomyces tenuis"
          ],
          [
           0.98861283,
           1,
           "1305 Labrenzia alexandrii",
           "1778 Pannonibacter phragmitetus"
          ],
          [
           0.9866795,
           1,
           "1197 Taylorella asinigenitalis",
           "843 Deinococcus radiodurans"
          ],
          [
           0.99379843,
           1,
           "1784 Acidaminococcus intestini",
           "743 Megasphaera elsdenii"
          ],
          [
           0.9907752,
           1,
           "1892 Mageeibacillus indolicus",
           "1644 Aerococcus christensenii"
          ],
          [
           0.9913442,
           1,
           "743 Megasphaera elsdenii",
           "1466 Mesorhizobium plurifarium"
          ],
          [
           0.9817913,
           1,
           "1710 Janthinobacterium agaricidamnosum",
           "752 Herbaspirillum seropedicae"
          ],
          [
           0.9943712,
           1,
           "1654 Nonlabens ulvanivorans",
           "1228 Cellulophaga baltica"
          ],
          [
           0.97185916,
           1,
           "1736 Dorea formicigenerans",
           "1606 [Ruminococcus] lactaris"
          ],
          [
           0.9333671,
           1,
           "1589 Raoultella ornithinolytica",
           "630 Klebsiella oxytoca"
          ],
          [
           0.9901566,
           1,
           "748 Ehrlichia chaffeensis",
           "1111 Mycoplasma arginini"
          ],
          [
           0.9965482,
           1,
           "840 Wolbachia endosymbiont of Culex quinquefasciatus",
           "1134 Ureaplasma urealyticum"
          ],
          [
           0.9954811,
           1,
           "750 Rhodonellum psychrophilum",
           "1934 Bacillus pumilus subgroup 1"
          ],
          [
           0.97879386,
           1,
           "752 Herbaspirillum seropedicae",
           "1387 Achromobacter xylosoxidans"
          ],
          [
           0.98231363,
           1,
           "703 Glaesserella parasuis",
           "1153 Mannheimia haemolytica"
          ],
          [
           0.9874062,
           0.8125,
           "1767 Selenomonas bovis",
           "475 Sorangium cellulosum"
          ],
          [
           0.9961134,
           1,
           "1246 Prolixibacter bellariivorans",
           "723 Bacteroides fragilis"
          ],
          [
           0.98711175,
           1,
           "758 Candidatus Microthrix parvicella",
           "788 Amycolatopsis mediterranei"
          ],
          [
           0.98072875,
           0.9565711400075748,
           "965 Lactiplantibacillus plantarum",
           "976 Limosilactobacillus fermentum"
          ],
          [
           0.9903173,
           1,
           "1858 Thalassospira xiamenensis",
           "575 Rhizobium leguminosarum"
          ],
          [
           0.9932399,
           1,
           "1587 Simiduia agarivorans",
           "1387 Achromobacter xylosoxidans"
          ],
          [
           0.9928792,
           1,
           "1399 Arthrospira platensis",
           "1594 Planktothrix prolifica"
          ],
          [
           0.9887046,
           1,
           "1265 Bilophila wadsworthia",
           "475 Sorangium cellulosum"
          ],
          [
           0.9908654,
           0.6088888888888889,
           "1368 Capnocytophaga canimorsus",
           "761 Bergeyella zoohelcum"
          ],
          [
           0.99285716,
           1,
           "1616 Agrilactobacillus composti",
           "1538 Lactobacillus parabuchneri"
          ],
          [
           0.99475104,
           1,
           "884 Lactobacillus kunkeei",
           "976 Limosilactobacillus fermentum"
          ],
          [
           0.99197966,
           1,
           "1822 Lactobacillus crustorum",
           "965 Lactiplantibacillus plantarum"
          ],
          [
           0.98591155,
           0.3472222222222222,
           "1455 Lactobacillus lindneri",
           "1181 Pediococcus damnosus"
          ],
          [
           0.99384373,
           1,
           "1005 Lactobacillus rossiae",
           "1279 Lactobacillus paraplantarum"
          ],
          [
           0.99461925,
           1,
           "1836 Lactobacillus floricola",
           "983 Ligilactobacillus salivarius"
          ],
          [
           0.99135137,
           1,
           "1679 Dialister micraerophilus",
           "535 Peptoniphilus lacrimalis"
          ],
          [
           0.98543954,
           1,
           "1318 Lactobacillus curvatus",
           "1796 Lactobacillus acidipiscis"
          ],
          [
           0.98019725,
           0.4706994328922495,
           "957 Lactobacillus brevis",
           "1609 Lactobacillus senmaizukei"
          ],
          [
           0.98543954,
           0.1704,
           "1796 Lactobacillus acidipiscis",
           "1318 Lactobacillus curvatus"
          ],
          [
           0.9880152,
           0.34375,
           "587 Liquorilactobacillus vini",
           "1604 Lactobacillus hokkaidonensis"
          ],
          [
           0.9820667,
           1,
           "974 Lactobacillus coryniformis",
           "965 Lactiplantibacillus plantarum"
          ],
          [
           0.9880152,
           0.5,
           "1604 Lactobacillus hokkaidonensis",
           "587 Liquorilactobacillus vini"
          ],
          [
           0.99304795,
           1,
           "779 Lactobacillus harbinensis",
           "1742 Lactobacillus rhamnosus"
          ],
          [
           0.981632,
           0.4074074074074074,
           "1449 Lactobacillus malefermentans",
           "1181 Pediococcus damnosus"
          ],
          [
           0.98587936,
           0.6678200692041523,
           "1538 Lactobacillus parabuchneri",
           "1181 Pediococcus damnosus"
          ],
          [
           0.9840733,
           1,
           "518 Winkia neuii",
           "1688 Actinobaculum massiliense"
          ],
          [
           0.9901667,
           1,
           "1658 Erythrobacter marinus",
           "1282 Altererythrobacter marensis"
          ],
          [
           0.97942775,
           1,
           "1065 Dietzia cinnamea",
           "1376 Amycolatopsis vancoresmycina"
          ],
          [
           0.96247417,
           1,
           "579 Methylorubrum extorquens",
           "1826 Methylobacterium radiotolerans"
          ],
          [
           0.9938202,
           1,
           "1270 Myroides odoratimimus",
           "943 Clostridium beijerinckii"
          ],
          [
           0.99138635,
           1,
           "1594 Planktothrix prolifica",
           "784 Microcystis aeruginosa"
          ],
          [
           0.9816413,
           1,
           "1273 Pandoraea pnomenusa",
           "1400 Burkholderia pseudomallei"
          ],
          [
           0.9840733,
           1,
           "1688 Actinobaculum massiliense",
           "518 Winkia neuii"
          ],
          [
           0.98936945,
           1,
           "769 Leminorella grimontii",
           "643 Serratia marcescens"
          ],
          [
           0.97494483,
           0.5078125,
           "771 Rhodobacter sphaeroides",
           "1566 Paracoccus sanguinis"
          ],
          [
           0.99046105,
           1,
           "772 Tatumella ptyseos",
           "619 Pantoea agglomerans"
          ],
          [
           0.96322274,
           1,
           "1791 Streptacidiphilus albus",
           "1109 Kitasatospora setae"
          ],
          [
           0.9596024,
           0.3956602031394275,
           "1742 Lactobacillus rhamnosus",
           "1879 Lactobacillus zeae"
          ],
          [
           0.9813592,
           1,
           "776 Rhodospirillum rubrum",
           "503 Azospirillum brasilense"
          ],
          [
           0.96612275,
           1,
           "1194 Lentzea aerocolonigenes",
           "788 Amycolatopsis mediterranei"
          ],
          [
           0.97311425,
           0.5,
           "1137 Arenimonas composti",
           "1309 Pseudoxanthomonas suwonensis"
          ],
          [
           0.9852358,
           1,
           "674 Grimontia hollisae",
           "1882 Enterovibrio norvegicus"
          ],
          [
           0.97258234,
           1,
           "1301 Microbacterium oleivorans",
           "1097 Curtobacterium flaccumfaciens"
          ],
          [
           0.9867935,
           1,
           "1307 Asticcacaulis benevestitus",
           "1466 Mesorhizobium plurifarium"
          ],
          [
           0.9914744,
           1,
           "1690 Rathayibacter toxicus",
           "1783 Curtobacterium oceanosedimentum"
          ],
          [
           0.97810024,
           0.5,
           "588 Blautia wexlerae",
           "1736 Dorea formicigenerans"
          ],
          [
           0.98687595,
           1,
           "783 Chlorogloeopsis fritschii",
           "1605 Nodularia spumigena"
          ],
          [
           0.99583256,
           1,
           "1809 Thalassolituus oleivorans",
           "635 Proteus mirabilis"
          ],
          [
           0.99138635,
           1,
           "784 Microcystis aeruginosa",
           "1594 Planktothrix prolifica"
          ],
          [
           0.9964463,
           1,
           "1834 Synechococcus elongatus",
           "892 Methyloversatilis universalis"
          ],
          [
           0.9859037,
           1,
           "1281 Moellerella wisconsensis",
           "639 Providencia stuartii"
          ],
          [
           0.9580058,
           1,
           "1264 Trabulsiella odontotermitis",
           "1288 Yokenella regensburgei"
          ],
          [
           0.9635912,
           0.26038781163434904,
           "1047 Mycolicibacterium phlei",
           "1042 Mycobacterium avium"
          ],
          [
           0.9952,
           1,
           "1172 Candidatus Phytoplasma australiense",
           "1121 Mycoplasma mycoides"
          ],
          [
           0.97073233,
           1,
           "698 Aggregatibacter aphrophilus",
           "695 Haemophilus parainfluenzae"
          ],
          [
           0.9329486,
           1,
           "794 Aphanizomenon flos-aquae",
           "1213 Dolichospermum circinale"
          ],
          [
           0.9580058,
           1,
           "1288 Yokenella regensburgei",
           "1264 Trabulsiella odontotermitis"
          ],
          [
           0.9839599,
           1,
           "1141 Mesoplasma florum",
           "1148 Mycoplasma yeatsii"
          ],
          [
           0.9931591,
           0.8512396694214877,
           "548 Acidithiobacillus caldus",
           "1414 Azospirillum thiophilum"
          ],
          [
           0.9963547,
           1,
           "1413 Thermacetogenium phaeum",
           "1152 Hungateiclostridium clariflavum"
          ],
          [
           0.99299556,
           1,
           "814 Oenococcus oeni",
           "885 Lactococcus lactis"
          ],
          [
           0.8679434,
           0.23875432525951557,
           "978 Weissella halotolerans",
           "817 Pediococcus pentosaceus"
          ],
          [
           0.99222153,
           1,
           "801 Melissococcus plutonius",
           "1896 Enterococcus moraviensis"
          ],
          [
           0.98846835,
           1,
           "1295 Pseudorhodobacter ferrugineus",
           "770 Rhodobacter capsulatus"
          ],
          [
           0.99406457,
           0.4934601664684899,
           "1901 Prochlorococcus marinus subgroup 1",
           "1372 Arcobacter butzleri"
          ],
          [
           0.9911097,
           0.9444444444444444,
           "950 Exiguobacterium chiriqhucha",
           "782 Brevibacterium casei"
          ],
          [
           0.98166865,
           1,
           "1820 Oligotropha carboxidovorans",
           "942 Bradyrhizobium yuanmingense"
          ],
          [
           0.9968702,
           1,
           "809 Nitrosococcus oceani",
           "778 Pseudomonas balearica"
          ],
          [
           0.9943316,
           1,
           "810 Piscirickettsia salmonis",
           "1932 Escherichia coli subgroup 2"
          ],
          [
           0.97580457,
           1,
           "1255 Rhodovulum sulfidophilum",
           "592 Paracoccus pantotrophus"
          ],
          [
           0.98800653,
           0.19452706722189173,
           "1452 Paenibacillus mucilaginosus",
           "1093 Streptosporangium roseum"
          ],
          [
           0.99048144,
           0.9310344827586207,
           "812 Leuconostoc mesenteroides",
           "819 Weissella koreensis"
          ],
          [
           0.9329486,
           1,
           "1213 Dolichospermum circinale",
           "794 Aphanizomenon flos-aquae"
          ],
          [
           0.99572325,
           0.889273356401384,
           "1746 Candidatus Liberibacter americanus",
           "1810 Bartonella clarridgeiae"
          ],
          [
           0.9950412,
           1,
           "946 Moorella thermoacetica",
           "788 Amycolatopsis mediterranei"
          ],
          [
           0.8679434,
           0.2896,
           "817 Pediococcus pentosaceus",
           "978 Weissella halotolerans"
          ],
          [
           0.9871064,
           1,
           "1824 Singulisphaera acidiphila",
           "475 Sorangium cellulosum"
          ],
          [
           0.98585445,
           1,
           "821 Peptostreptococcus anaerobius",
           "857 Streptococcus agalactiae"
          ],
          [
           0.99520147,
           0.5555555555555556,
           "1759 Ruminococcus champanellensis",
           "1683 Flavonifractor plautii"
          ],
          [
           0.9785031,
           1,
           "825 Micrococcus luteus",
           "859 Streptococcus pneumoniae"
          ],
          [
           0.98011166,
           1,
           "826 Rahnella aquatilis",
           "774 Serratia plymuthica"
          ],
          [
           0.98532176,
           0.5,
           "938 [Clostridium] symbiosum",
           "1730 Hungatella hathewayi"
          ],
          [
           0.98938143,
           0.7688888888888888,
           "1678 Lysinibacillus odysseyi",
           "1274 Solibacillus silvestris"
          ],
          [
           0.84476537,
           0.8559163524564469,
           "834 Staphylococcus epidermidis",
           "1931 Escherichia coli subgroup 1"
          ],
          [
           0.9804581,
           1,
           "1829 Dickeya dianthicola",
           "702 Pectobacterium brasiliense"
          ],
          [
           0.9723962,
           0.9996586688746754,
           "1617 Burkholderia cenocepacia",
           "1224 Caballeronia zhejiangensis"
          ],
          [
           0.9868017,
           1,
           "1689 Facklamia hominis",
           "663 Streptococcus pseudoporcinus"
          ],
          [
           0.9923576,
           1,
           "1157 Rhodopirellula europaea",
           "1389 Bradyrhizobium diazoefficiens"
          ],
          [
           0.9866795,
           1,
           "843 Deinococcus radiodurans",
           "1197 Taylorella asinigenitalis"
          ],
          [
           0.9392439,
           0.5886004642351025,
           "859 Streptococcus pneumoniae",
           "839 Staphylococcus warneri"
          ],
          [
           0.9919959,
           1,
           "846 Kordiimonas gwangyangensis",
           "1778 Pannonibacter phragmitetus"
          ],
          [
           0.9720659,
           1,
           "1845 Variovorax paradoxus",
           "1327 Rubrivivax gelatinosus"
          ],
          [
           0.9915658,
           1,
           "861 Riemerella anatipestifer",
           "761 Bergeyella zoohelcum"
          ],
          [
           0.995321,
           1,
           "1884 Dysgonomonas mossii",
           "930 Clostridium butyricum"
          ],
          [
           0.99100614,
           1,
           "932 Ruminiclostridium josui",
           "1152 Hungateiclostridium clariflavum"
          ],
          [
           0.99449116,
           1,
           "1850 Glaciecola pallidula",
           "1782 Paraglaciecola psychrophila"
          ],
          [
           0.9891247,
           1,
           "1100 Leptotrichia hofstadii",
           "1102 Pseudoleptotrichia goodfellowii"
          ],
          [
           0.98300225,
           0.4551986475063398,
           "877 Enterococcus faecalis",
           "857 Streptococcus agalactiae"
          ],
          [
           0.9874135,
           0.7893827160493827,
           "887 Lactococcus garvieae",
           "878 Enterococcus faecium"
          ],
          [
           0.9828875,
           1,
           "1684 Lonsdalea quercina",
           "1828 Dickeya dadantii"
          ],
          [
           0.9928952,
           1,
           "886 Lachnobacterium bovis",
           "1324 Lachnospira multipara"
          ],
          [
           0.99339795,
           1,
           "888 Crocosphaera watsonii",
           "784 Microcystis aeruginosa"
          ],
          [
           0.98679173,
           0.38,
           "1644 Aerococcus christensenii",
           "562 Lactobacillus iners"
          ],
          [
           0.9796412,
           1,
           "1620 Methyloversatilis discipulorum",
           "1327 Rubrivivax gelatinosus"
          ],
          [
           0.9939551,
           1,
           "1149 Gemella sanguinis",
           "951 Clostridium novyi"
          ],
          [
           0.99169374,
           1,
           "893 Atopobium minutum",
           "878 Enterococcus faecium"
          ],
          [
           0.9431743,
           0.29259699652089666,
           "912 Bacillus subtilis",
           "817 Pediococcus pentosaceus"
          ],
          [
           0.9873035,
           1,
           "1342 Tannerella forsythia",
           "732 Porphyromonas gingivalis"
          ],
          [
           0.9600985,
           1,
           "1748 Bibersteinia trehalosi",
           "1153 Mannheimia haemolytica"
          ],
          [
           0.9361022,
           1,
           "1457 Pluralibacter gergoviae",
           "631 Klebsiella pneumoniae"
          ],
          [
           0.9507273,
           1,
           "1595 Kosakonia radicincitans",
           "617 Citrobacter freundii"
          ],
          [
           0.9669876,
           0.5625,
           "1590 Sphingomonas wittichii",
           "1625 Sphingobium yanoikuyae"
          ],
          [
           0.98641086,
           1,
           "1564 Borreliella garinii",
           "482 Borrelia hermsii"
          ],
          [
           0.99638176,
           1,
           "1314 Sulfobacillus thermosulfidooxidans",
           "575 Rhizobium leguminosarum"
          ],
          [
           0.96335757,
           0.972943829036369,
           "1666 Stenotrophomonas acidaminiphila",
           "1309 Pseudoxanthomonas suwonensis"
          ],
          [
           0.9928952,
           1,
           "1324 Lachnospira multipara",
           "886 Lachnobacterium bovis"
          ],
          [
           0.9917506,
           1,
           "1692 Eremococcus coleocola",
           "1689 Facklamia hominis"
          ],
          [
           0.9779489,
           1,
           "1700 Phaeobacter italicus",
           "1183 Epibacterium mobile"
          ],
          [
           0.9795422,
           1,
           "1037 Acidipropionibacterium acidipropionici",
           "520 Cutibacterium avidum"
          ],
          [
           0.9795422,
           0.9662809917355372,
           "520 Cutibacterium avidum",
           "1037 Acidipropionibacterium acidipropionici"
          ],
          [
           0.98714495,
           1,
           "1038 Pseudopropionibacterium propionicum",
           "1061 Streptomyces californicus"
          ],
          [
           0.9867501,
           1,
           "1823 Eggerthia catenaformis",
           "1147 Oribacterium parvum"
          ],
          [
           0.993785,
           1,
           "987 Kandleria vitulina",
           "1823 Eggerthia catenaformis"
          ],
          [
           0.9720659,
           1,
           "1327 Rubrivivax gelatinosus",
           "1845 Variovorax paradoxus"
          ],
          [
           0.9804581,
           1,
           "702 Pectobacterium brasiliense",
           "1829 Dickeya dianthicola"
          ],
          [
           0.9737221,
           1,
           "1846 Tistrella mobilis",
           "1387 Achromobacter xylosoxidans"
          ],
          [
           0.9952994,
           0.5,
           "1638 Pseudothermotoga elfii",
           "1173 Thermosipho africanus"
          ],
          [
           0.9954064,
           1,
           "464 Buchnera aphidicola",
           "735 Fusobacterium nucleatum"
          ],
          [
           0.9623865,
           1,
           "573 Sinorhizobium fredii",
           "1537 Rhizobium etli"
          ],
          [
           0.9859606,
           0.23914322125281834,
           "1122 Clostridium haemolyticum",
           "897 Bacillus anthracis"
          ],
          [
           0.9761768,
           0.39100346020761245,
           "1593 Rothia kristinae",
           "1716 Kocuria palustris"
          ],
          [
           0.9827276,
           1,
           "1605 Nodularia spumigena",
           "794 Aphanizomenon flos-aquae"
          ],
          [
           0.9905703,
           1,
           "1851 Salinibacter ruber",
           "1254 Streptomyces albulus"
          ],
          [
           0.97757477,
           1,
           "808 Gluconacetobacter diazotrophicus",
           "807 Komagataeibacter europaeus"
          ],
          [
           0.99468535,
           1,
           "707 Scardovia wiggsiae",
           "1473 Parascardovia denticolens"
          ],
          [
           0.9917649,
           1,
           "1473 Parascardovia denticolens",
           "1015 Bifidobacterium indicum"
          ],
          [
           0.9918499,
           1,
           "604 Kingella kingae",
           "1335 Neisseria weaveri"
          ],
          [
           0.99496555,
           1,
           "1163 Candidatus Protochlamydia amoebophila",
           "989 Parachlamydia acanthamoebae"
          ],
          [
           0.9970431,
           1,
           "954 Desulfotomaculum nigrificans",
           "902 Cytobacillus firmus"
          ],
          [
           0.99555504,
           1,
           "1859 Tepidanaerobacter acetatoxydans",
           "933 Clostridium pasteurianum"
          ],
          [
           0.99449116,
           1,
           "1782 Paraglaciecola psychrophila",
           "1850 Glaciecola pallidula"
          ],
          [
           0.9919939,
           1,
           "1372 Arcobacter butzleri",
           "1906 Clostridium botulinum subgroup 2"
          ],
          [
           0.9596024,
           0.122008840115836,
           "1879 Lactobacillus zeae",
           "1742 Lactobacillus rhamnosus"
          ],
          [
           0.9961296,
           1,
           "474 Snodgrassella alvi",
           "603 Neisseria elongata"
          ],
          [
           0.98204195,
           1,
           "1276 Rhodanobacter denitrificans",
           "1110 Dyella japonica"
          ],
          [
           0.9896149,
           1,
           "1215 Geobacter sulfurreducens",
           "1093 Streptosporangium roseum"
          ],
          [
           0.97600365,
           1,
           "1464 Tepidimonas taiwanensis",
           "1649 Rubrivivax benzoatilyticus"
          ],
          [
           0.98580325,
           1,
           "1381 Enterocloster bolteae",
           "1730 Hungatella hathewayi"
          ],
          [
           0.9940673,
           1,
           "532 Lachnoanaerobaculum saburreum",
           "531 Parvimonas micra"
          ],
          [
           0.99061275,
           1,
           "1380 Ornithobacterium rhinotracheale",
           "1347 Prevotella bivia"
          ],
          [
           0.99496555,
           1,
           "989 Parachlamydia acanthamoebae",
           "1163 Candidatus Protochlamydia amoebophila"
          ],
          [
           0.98938143,
           1,
           "1274 Solibacillus silvestris",
           "1678 Lysinibacillus odysseyi"
          ],
          [
           0.9940454,
           1,
           "1865 Sutterella wadsworthensis",
           "575 Rhizobium leguminosarum"
          ],
          [
           0.9867781,
           0.9709494696422979,
           "999 Listeria monocytogenes",
           "832 Staphylococcus aureus"
          ],
          [
           0.99527895,
           1,
           "1446 Thermodesulfovibrio aggregans",
           "738 Fusobacterium ulcerans"
          ],
          [
           0.99439186,
           1,
           "1001 Candidatus Pelagibacter ubique",
           "1121 Mycoplasma mycoides"
          ],
          [
           0.99667335,
           1,
           "920 Candidatus Ruthia magnifica",
           "936 Clostridium sporogenes"
          ],
          [
           0.9829042,
           1,
           "1002 Erysipelothrix rhusiopathiae",
           "1134 Ureaplasma urealyticum"
          ],
          [
           0.98112535,
           0.68,
           "1408 Actinomyces oris",
           "1849 Propionibacterium acidifaciens"
          ],
          [
           0.96549755,
           1,
           "577 Neorhizobium galegae",
           "575 Rhizobium leguminosarum"
          ],
          [
           0.9931908,
           1,
           "1339 Elizabethkingia anophelis",
           "527 Sphingobacterium spiritivorum"
          ],
          [
           0.9745858,
           1,
           "694 Avibacterium paragallinarum",
           "705 Gallibacterium anatis"
          ],
          [
           0.97562987,
           0.2795225552137634,
           "1393 Bifidobacterium longum",
           "860 Streptococcus pyogenes"
          ],
          [
           0.9923591,
           1,
           "1769 Candidatus Hamiltonella defensa",
           "1771 Candidatus Regiella insecticola"
          ],
          [
           0.9923591,
           1,
           "1771 Candidatus Regiella insecticola",
           "1769 Candidatus Hamiltonella defensa"
          ],
          [
           0.97493565,
           1,
           "782 Brevibacterium casei",
           "709 Glycomyces tenuis"
          ],
          [
           0.962195,
           1,
           "1309 Pseudoxanthomonas suwonensis",
           "1815 Xanthomonas sacchari"
          ],
          [
           0.98550075,
           1,
           "1500 Granulicoccus phenolivorans",
           "1086 Streptomyces hygroscopicus"
          ],
          [
           0.9766361,
           0.1610976454293629,
           "1508 Corynebacterium otitidis",
           "637 Demequina rhizosphaerae"
          ],
          [
           0.9659331,
           1,
           "1050 Caldanaerobacter subterraneus",
           "1039 Thermoanaerobacter ethanolicus"
          ],
          [
           0.9905387,
           1,
           "1793 Aliivibrio wodanis",
           "1768 Vibrio cyclitrophicus"
          ],
          [
           0.9896964,
           1,
           "1891 Algibacter lectus",
           "1513 Jejuia pallidilutea"
          ],
          [
           0.9399254,
           1,
           "1032 Leclercia adecarboxylata",
           "1915 Enterobacter hormaechei subgroup 2"
          ],
          [
           0.9928368,
           1,
           "1034 Thermodesulfobacterium commune",
           "1932 Escherichia coli subgroup 2"
          ],
          [
           0.9768868,
           0.8528,
           "1849 Propionibacterium acidifaciens",
           "709 Glycomyces tenuis"
          ],
          [
           0.9659331,
           1,
           "1039 Thermoanaerobacter ethanolicus",
           "1050 Caldanaerobacter subterraneus"
          ],
          [
           0.97871834,
           1,
           "1095 Thermobifida fusca",
           "1094 Nocardiopsis dassonvillei"
          ],
          [
           0.9635912,
           0.9273431783766745,
           "1042 Mycobacterium avium",
           "1047 Mycolicibacterium phlei"
          ],
          [
           0.9852358,
           1,
           "1882 Enterovibrio norvegicus",
           "674 Grimontia hollisae"
          ],
          [
           0.97185916,
           0.52,
           "1606 [Ruminococcus] lactaris",
           "1736 Dorea formicigenerans"
          ],
          [
           0.9867501,
           1,
           "1147 Oribacterium parvum",
           "1823 Eggerthia catenaformis"
          ],
          [
           0.97209406,
           0.5502958579881657,
           "891 Paraburkholderia caribensis",
           "1224 Caballeronia zhejiangensis"
          ],
          [
           0.9973115,
           1,
           "864 Methylacidiphilum fumariolicum",
           "738 Fusobacterium ulcerans"
          ],
          [
           0.9629976,
           1,
           "1294 Intestinimonas butyriciproducens",
           "1683 Flavonifractor plautii"
          ],
          [
           0.96612275,
           0.9444444444444444,
           "788 Amycolatopsis mediterranei",
           "1194 Lentzea aerocolonigenes"
          ],
          [
           0.9741991,
           0.7229916897506925,
           "1063 Nocardia otitidiscaviarum",
           "788 Amycolatopsis mediterranei"
          ],
          [
           0.96388274,
           0.3044889129259059,
           "1757 Rhodococcus qingshengii",
           "1932 Escherichia coli subgroup 2"
          ],
          [
           0.9931908,
           1,
           "527 Sphingobacterium spiritivorum",
           "1339 Elizabethkingia anophelis"
          ],
          [
           0.9948511,
           1,
           "1724 Aneurinibacillus migulanus",
           "906 Bacillus mycoides"
          ],
          [
           0.98733425,
           0.41836734693877553,
           "1092 Brevibacillus agri",
           "617 Citrobacter freundii"
          ],
          [
           0.96857333,
           0.52,
           "1068 Saccharopolyspora erythraea",
           "1376 Amycolatopsis vancoresmycina"
          ],
          [
           0.99231154,
           1,
           "1436 Enhydrobacter aerosaccus",
           "1316 Acinetobacter parvus"
          ],
          [
           0.9531402,
           0.9444897959183673,
           "1360 Cronobacter sakazakii",
           "1574 Franconibacter helveticus"
          ],
          [
           0.97323775,
           1,
           "468 Saccharomonospora azurea",
           "1060 Amycolatopsis methanolica"
          ],
          [
           0.9669876,
           0.9822222222222222,
           "1625 Sphingobium yanoikuyae",
           "1590 Sphingomonas wittichii"
          ],
          [
           0.9798049,
           0.5555555555555556,
           "1883 Novosphingobium subterraneum",
           "1625 Sphingobium yanoikuyae"
          ],
          [
           0.97129947,
           1,
           "544 Sphingopyxis terrae",
           "1602 Sphingomonas melonis"
          ],
          [
           0.9935315,
           1,
           "754 Cellulophaga lytica",
           "1891 Algibacter lectus"
          ],
          [
           0.8617246,
           0.08905080933052961,
           "1206 Streptomyces pyridomyceticus",
           "1079 Kitasatospora aureofaciens"
          ],
          [
           0.9945777,
           1,
           "716 Orientia tsutsugamushi",
           "953 Clostridium baratii"
          ],
          [
           0.9745858,
           1,
           "705 Gallibacterium anatis",
           "694 Avibacterium paragallinarum"
          ],
          [
           0.99209505,
           1,
           "1415 Granulibacter bethesdensis",
           "807 Komagataeibacter europaeus"
          ],
          [
           0.9761846,
           1,
           "697 Histophilus somni",
           "704 Pasteurella multocida"
          ],
          [
           0.989651,
           1,
           "1416 Dermabacter hominis",
           "782 Brevibacterium casei"
          ],
          [
           0.9934803,
           1,
           "1263 Pseudobacteroides cellulosolvens",
           "1418 Clostridium saccharoperbutylacetonicum"
          ],
          [
           0.9830298,
           1,
           "775 Blastochloris viridis",
           "579 Methylorubrum extorquens"
          ],
          [
           0.96582,
           0.3333333333333333,
           "530 Anaerococcus lactolyticus",
           "535 Peptoniphilus lacrimalis"
          ],
          [
           0.9757976,
           1,
           "637 Demequina rhizosphaerae",
           "709 Glycomyces tenuis"
          ],
          [
           0.969,
           1,
           "1093 Streptosporangium roseum",
           "1088 Streptomyces rimosus"
          ],
          [
           0.9745784,
           1,
           "1894 Actinoalloteichus cyanogriseus",
           "1376 Amycolatopsis vancoresmycina"
          ],
          [
           0.97023374,
           1,
           "1094 Nocardiopsis dassonvillei",
           "1076 Streptomyces albus"
          ],
          [
           0.97258234,
           1,
           "1097 Curtobacterium flaccumfaciens",
           "1301 Microbacterium oleivorans"
          ],
          [
           0.99601,
           1,
           "1686 Waddlia chondrophila",
           "989 Parachlamydia acanthamoebae"
          ],
          [
           0.9934331,
           1,
           "502 Desulfitobacterium hafniense",
           "1294 Intestinimonas butyriciproducens"
          ],
          [
           0.99749374,
           1,
           "1099 Tropheryma whipplei",
           "1123 Mycoplasma leachii"
          ],
          [
           0.9972777,
           1,
           "1428 Dehalococcoides mccartyi",
           "1204 Rothia mucilaginosa"
          ],
          [
           0.9731774,
           1,
           "1421 Aurantimonas manganoxydans",
           "488 Aureimonas ureilytica"
          ],
          [
           0.9944332,
           0.9944598337950139,
           "1787 Pseudoalteromonas porphyrae",
           "666 Photobacterium angustum"
          ],
          [
           0.9621496,
           1,
           "966 Lacticaseibacillus paracasei",
           "1879 Lactobacillus zeae"
          ],
          [
           0.84476537,
           0.985538668767516,
           "1931 Escherichia coli subgroup 1",
           "834 Staphylococcus epidermidis"
          ],
          [
           0.81874716,
           1,
           "1932 Escherichia coli subgroup 2",
           "628 Escherichia fergusonii"
          ]
         ],
         "hovertemplate": "(%{x:.3f}, %{customdata[0]:.3f}, %{customdata[1]:.1%})<br>%{text}<br>%{customdata[2]}<br>%{customdata[3]}<extra></extra>",
         "marker": {
          "color": [
           0.5918367346938775,
           0.7638888888888888,
           1,
           0.5555555555555556,
           0.9506172839506173,
           1,
           1,
           1,
           1,
           0.14501755333513366,
           1,
           1,
           1,
           0.5918367346938775,
           1,
           1,
           1,
           1,
           1,
           0.3656,
           1,
           1,
           0.5,
           1,
           1,
           1,
           1,
           1,
           1,
           1,
           0.54,
           1,
           1,
           0.41609977324263037,
           1,
           1,
           1,
           0.9603068352695595,
           1,
           1,
           1,
           1,
           1,
           1,
           0.9073318909822193,
           1,
           0.9963269054178145,
           0.8700562945964359,
           1,
           1,
           1,
           0.6818181818181818,
           0.9784971644612477,
           0.5335169880624426,
           1,
           1,
           1,
           1,
           0.76,
           0.6867402685667023,
           1,
           1,
           1,
           1,
           1,
           1,
           1,
           1,
           1,
           1,
           1,
           1,
           0.22263717322608445,
           1,
           0.7642666572744323,
           1,
           0.4462809917355372,
           1,
           1,
           1,
           1,
           1,
           1,
           1,
           1,
           1,
           0.8861340679522498,
           1,
           1,
           1,
           1,
           1,
           1,
           0.5,
           1,
           1,
           1,
           1,
           1,
           0.625,
           0.37,
           1,
           1,
           1,
           1,
           0.673469387755102,
           0.8934376798881609,
           1,
           1,
           1,
           0.8573924506000895,
           1,
           1,
           1,
           0.9913850316897901,
           1,
           1,
           1,
           0.5,
           1,
           1,
           0.355,
           1,
           0.5,
           0.826307050329289,
           1,
           1,
           1,
           1,
           1,
           1,
           1,
           1,
           1,
           1,
           0.6572222222222223,
           1,
           0.5,
           0.9847337278106509,
           1,
           1,
           0.5537190082644629,
           1,
           1,
           0.8683544790465205,
           1,
           1,
           1,
           0.42592592592592593,
           1,
           1,
           1,
           0.8427781727127078,
           1,
           1,
           0.625,
           0.9667991368901999,
           1,
           1,
           1,
           1,
           1,
           0.8828125,
           0.3756940597106802,
           1,
           1,
           1,
           1,
           1,
           1,
           1,
           1,
           1,
           0.6111111111111112,
           1,
           1,
           1,
           1,
           1,
           0.8781065088757396,
           1,
           1,
           1,
           0.5,
           1,
           1,
           1,
           0.6143250688705234,
           1,
           1,
           0.9714532871972318,
           1,
           1,
           1,
           1,
           0.8016528925619835,
           1,
           1,
           1,
           0.45953125,
           1,
           0.39734375,
           1,
           1,
           1,
           1,
           1,
           1,
           0.3646449704142012,
           0.1889868373384857,
           1,
           1,
           1,
           0.48319941563184804,
           1,
           1,
           1,
           0.25925925925925924,
           1,
           1,
           1,
           1,
           1,
           1,
           1,
           1,
           1,
           1,
           1,
           1,
           1,
           1,
           1,
           0.8125,
           1,
           1,
           0.9565711400075748,
           1,
           1,
           1,
           1,
           0.6088888888888889,
           1,
           1,
           1,
           0.3472222222222222,
           1,
           1,
           1,
           1,
           0.4706994328922495,
           0.1704,
           0.34375,
           1,
           0.5,
           1,
           0.4074074074074074,
           0.6678200692041523,
           1,
           1,
           1,
           1,
           1,
           1,
           1,
           1,
           1,
           0.5078125,
           1,
           1,
           0.3956602031394275,
           1,
           1,
           0.5,
           1,
           1,
           1,
           1,
           0.5,
           1,
           1,
           1,
           1,
           1,
           1,
           0.26038781163434904,
           1,
           1,
           1,
           1,
           1,
           0.8512396694214877,
           1,
           1,
           0.23875432525951557,
           1,
           1,
           0.4934601664684899,
           0.9444444444444444,
           1,
           1,
           1,
           1,
           0.19452706722189173,
           0.9310344827586207,
           1,
           0.889273356401384,
           1,
           0.2896,
           1,
           1,
           0.5555555555555556,
           1,
           1,
           0.5,
           0.7688888888888888,
           0.8559163524564469,
           1,
           0.9996586688746754,
           1,
           1,
           1,
           0.5886004642351025,
           1,
           1,
           1,
           1,
           1,
           1,
           1,
           0.4551986475063398,
           0.7893827160493827,
           1,
           1,
           1,
           0.38,
           1,
           1,
           1,
           0.29259699652089666,
           1,
           1,
           1,
           1,
           0.5625,
           1,
           1,
           0.972943829036369,
           1,
           1,
           1,
           1,
           0.9662809917355372,
           1,
           1,
           1,
           1,
           1,
           1,
           0.5,
           1,
           1,
           0.23914322125281834,
           0.39100346020761245,
           1,
           1,
           1,
           1,
           1,
           1,
           1,
           1,
           1,
           1,
           1,
           0.122008840115836,
           1,
           1,
           1,
           1,
           1,
           1,
           1,
           1,
           1,
           1,
           0.9709494696422979,
           1,
           1,
           1,
           1,
           0.68,
           1,
           1,
           1,
           0.2795225552137634,
           1,
           1,
           1,
           1,
           1,
           0.1610976454293629,
           1,
           1,
           1,
           1,
           1,
           0.8528,
           1,
           1,
           0.9273431783766745,
           1,
           0.52,
           1,
           0.5502958579881657,
           1,
           1,
           0.9444444444444444,
           0.7229916897506925,
           0.3044889129259059,
           1,
           1,
           0.41836734693877553,
           0.52,
           1,
           0.9444897959183673,
           1,
           0.9822222222222222,
           0.5555555555555556,
           1,
           1,
           0.08905080933052961,
           1,
           1,
           1,
           1,
           1,
           1,
           1,
           0.3333333333333333,
           1,
           1,
           1,
           1,
           1,
           1,
           1,
           1,
           1,
           1,
           0.9944598337950139,
           1,
           0.985538668767516,
           1
          ],
          "colorscale": "Viridis"
         },
         "mode": "markers",
         "text": [
          "1 Mobiluncus",
          "2 Gordonia",
          "3 Meiothermus",
          "4 Kitasatospora",
          "5 Shewanella",
          "6 Sporolactobacillus",
          "7 Dyella",
          "8 Myxococcus",
          "9 Stigmatella",
          "10 Mycoplasma",
          "11 Candidatus Portiera",
          "12 Thalassobius",
          "13 Flavonifractor",
          "14 Lysobacter",
          "15 Fructobacillus",
          "16 Caulobacter",
          "17 Jeotgalibaca",
          "18 Ureaplasma",
          "19 Spiroplasma",
          "20 Pantoea",
          "21 Cupriavidus",
          "22 Nitratireductor",
          "23 Schaalia",
          "24 Oligella",
          "25 Borrelia",
          "26 Richelia",
          "27 Eggerthella",
          "28 Paenarthrobacter",
          "29 Spirochaeta",
          "30 Rodentibacter",
          "31 Kocuria",
          "32 Collimonas",
          "33 Kytococcus",
          "34 Treponema",
          "35 Catabacter",
          "36 Sulfurimonas",
          "37 Salinivibrio",
          "38 Leptospira",
          "39 Leptospirillum",
          "40 Candidatus Moranella",
          "41 Oblitimonas",
          "42 Shimwellia",
          "43 Azospirillum",
          "44 Saccharicrinis",
          "45 Campylobacter",
          "46 Ferrimicrobium",
          "47 Mannheimia",
          "48 Helicobacter",
          "49 Hydrogenovibrio",
          "50 Achromobacter",
          "51 Thermoanaerobacterium",
          "52 Alteromonas",
          "53 Brucella",
          "54 Flavobacterium",
          "55 Parageobacillus",
          "57 Francisella",
          "58 Paracoccus",
          "59 Thermus",
          "60 Comamonas",
          "61 Pseudomonas",
          "63 Thermotoga",
          "64 Thauera",
          "65 Roseomonas",
          "66 Marinagarivorans",
          "67 Desulfocurvibacter",
          "68 Geobacillus",
          "69 Brevundimonas",
          "70 Hydrogenophaga",
          "71 Chania",
          "72 Akkermansia",
          "73 Sulfurospirillum",
          "74 Xylella",
          "75 Limosilactobacillus",
          "76 Sporomusa",
          "77 Xanthomonas",
          "79 Bergeyella",
          "80 Phocaeicola",
          "81 Marinilabilia",
          "82 Kutzneria",
          "83 Azotobacter",
          "84 Agrobacterium",
          "85 Thermosipho",
          "86 Terrisporobacter",
          "87 Bradyrhizobium",
          "88 Wenxinia",
          "89 Teredinibacter",
          "90 Rhizobium",
          "91 Caballeronia",
          "92 Propionimicrobium",
          "93 Erysipelatoclostridium",
          "94 Caldibacillus",
          "95 Alicycliphilus",
          "96 Anaerostipes",
          "97 Methylobacterium",
          "99 Komagataeibacter",
          "100 Methylococcus",
          "101 Fulvimarina",
          "102 Methylobacter",
          "103 Lawsonella",
          "104 Pontibacillus",
          "105 Acetobacter",
          "106 Oceanobacillus",
          "107 Virgibacillus",
          "108 Trueperella",
          "109 Actinotignum",
          "110 Gluconobacter",
          "111 Legionella",
          "112 Fluoribacter",
          "113 Tatlockia",
          "114 Tetragenococcus",
          "115 Acinetobacter",
          "116 Moraxella",
          "117 Paraclostridium",
          "118 Fannyhessea",
          "119 Neisseria",
          "120 Mariprofundus",
          "121 Paeniclostridium",
          "122 Solobacterium",
          "123 Peptoniphilus",
          "124 Psychrobacter",
          "125 Planomicrobium",
          "126 Parabacteroides",
          "128 Alcaligenes",
          "129 Mycoplasmopsis",
          "130 Bordetella",
          "131 Finegoldia",
          "132 Robbsia",
          "133 Acidiphilium",
          "134 Ochrobactrum",
          "135 Ardenticatena",
          "136 Laribacter",
          "137 Chromobacterium",
          "138 Eikenella",
          "139 Zymomonas",
          "140 Cytobacillus",
          "142 Citrobacter",
          "143 Pannonibacter",
          "144 Alkalihalobacillus",
          "145 Enterobacter",
          "146 Neobacillus",
          "147 Varibaculum",
          "148 Erwinia",
          "150 Hafnia",
          "151 Thalassobacter",
          "152 Klebsiella",
          "153 Pseudoleptotrichia",
          "154 Morganella",
          "155 Proteus",
          "156 Providencia",
          "157 Salmonella",
          "158 Parvimonas",
          "159 Pedobacter",
          "160 Serratia",
          "162 Verrucosispora",
          "163 Xenorhabdus",
          "164 Acidovorax",
          "165 Yersinia",
          "166 Edwardsiella",
          "167 Epibacterium",
          "168 Aeromonas",
          "169 Gardnerella",
          "170 Franconibacter",
          "171 Photobacterium",
          "172 Vibrio",
          "173 Faecalitalea",
          "174 Leucobacter",
          "175 Aureimonas",
          "176 Jonquetella",
          "177 Thermoclostridium",
          "178 Hungateiclostridium",
          "179 Marinobacter",
          "180 Jejuia",
          "181 Halomonas",
          "182 Carnobacterium",
          "183 Plesiomonas",
          "184 Mesorhizobium",
          "185 Moritella",
          "186 Brochothrix",
          "187 Actinobacillus",
          "188 Haemophilus",
          "189 Altererythrobacter",
          "190 Sorangium",
          "191 Anoxybacillus",
          "192 Sulfitobacter",
          "193 Pasteurella",
          "194 Endozoicomonas",
          "196 Salinispora",
          "197 Anaplasma",
          "198 Glycomyces",
          "199 Smaragdicoccus",
          "200 Bartonella",
          "201 Coxiella",
          "202 Rickettsia",
          "203 Candidatus Profftella",
          "204 Ketogulonicigenium",
          "205 Veillonella",
          "206 Ruegeria",
          "207 Pelosinus",
          "208 Olsenella",
          "209 Chlamydia",
          "210 Photorhabdus",
          "211 Bacteroides",
          "212 Hungatella",
          "213 Mycobacteroides",
          "214 Bellilinea",
          "215 Leptolinea",
          "216 Butyrivibrio",
          "217 Fibrobacter",
          "218 Porphyromonas",
          "219 Prevotella",
          "220 Wohlfahrtiimonas",
          "221 Roseburia",
          "222 Sanguibacteroides",
          "223 Fusobacterium",
          "224 Brachyspira",
          "225 Mycetocola",
          "226 Dichelobacter",
          "227 Desulfovibrio",
          "228 Rhodothermus",
          "229 Labrenzia",
          "230 Taylorella",
          "231 Acidaminococcus",
          "232 Mageeibacillus",
          "233 Megasphaera",
          "234 Janthinobacterium",
          "235 Nonlabens",
          "236 Dorea",
          "237 Raoultella",
          "239 Ehrlichia",
          "240 Wolbachia",
          "241 Rhodonellum",
          "242 Herbaspirillum",
          "243 Glaesserella",
          "244 Selenomonas",
          "245 Prolixibacter",
          "246 Candidatus Microthrix",
          "247 Lactiplantibacillus",
          "248 Thalassospira",
          "249 Simiduia",
          "250 Arthrospira",
          "251 Bilophila",
          "252 Capnocytophaga",
          "253 Agrilactobacillus",
          "254 Apilactobacillus",
          "255 Companilactobacillus",
          "256 Fructilactobacillus",
          "257 Furfurilactobacillus",
          "258 Holzapfelia",
          "259 Dialister",
          "260 Latilactobacillus",
          "261 Levilactobacillus",
          "262 Ligilactobacillus",
          "263 Liquorilactobacillus",
          "264 Loigolactobacillus",
          "265 Paucilactobacillus",
          "266 Schleiferilactobacillus",
          "267 Secundilactobacillus",
          "268 Lentilactobacillus",
          "269 Winkia",
          "270 Erythrobacter",
          "271 Dietzia",
          "272 Methylorubrum",
          "273 Myroides",
          "274 Planktothrix",
          "275 Pandoraea",
          "276 Actinobaculum",
          "277 Leminorella",
          "278 Rhodobacter",
          "279 Tatumella",
          "280 Streptacidiphilus",
          "281 Lacticaseibacillus",
          "282 Rhodospirillum",
          "283 Lechevalieria",
          "284 Arenimonas",
          "285 Grimontia",
          "286 Microbacterium",
          "287 Asticcacaulis",
          "288 Rathayibacter",
          "289 Blautia",
          "290 Chlorogloeopsis",
          "291 Thalassolituus",
          "292 Microcystis",
          "293 Synechococcus",
          "294 Moellerella",
          "295 Trabulsiella",
          "296 Mycolicibacterium",
          "297 Candidatus Phytoplasma",
          "298 Aggregatibacter",
          "299 Aphanizomenon",
          "300 Yokenella",
          "301 Mesoplasma",
          "302 Acidithiobacillus",
          "303 Thermacetogenium",
          "304 Oenococcus",
          "305 Weissella",
          "306 Melissococcus",
          "307 Pseudorhodobacter",
          "308 Prochlorococcus",
          "309 Exiguobacterium",
          "310 Oligotropha",
          "311 Nitrosococcus",
          "312 Piscirickettsia",
          "313 Rhodovulum",
          "314 Paenibacillus",
          "315 Leuconostoc",
          "316 Dolichospermum",
          "317 Liberibacter",
          "318 Moorella",
          "319 Pediococcus",
          "320 Singulisphaera",
          "321 Peptostreptococcus",
          "322 Ruminococcus",
          "323 Micrococcus",
          "324 Rahnella",
          "325 Lachnoclostridium",
          "326 Lysinibacillus",
          "327 Staphylococcus",
          "328 Dickeya",
          "329 Burkholderia",
          "330 Facklamia",
          "331 Rhodopirellula",
          "332 Deinococcus",
          "333 Streptococcus",
          "334 Kordiimonas",
          "335 Variovorax",
          "336 Riemerella",
          "337 Dysgonomonas",
          "338 Ruminiclostridium",
          "339 Glaciecola",
          "340 Leptotrichia",
          "341 Enterococcus",
          "342 Lactococcus",
          "343 Lonsdalea",
          "344 Lachnobacterium",
          "345 Crocosphaera",
          "346 Aerococcus",
          "347 Methyloversatilis",
          "348 Gemella",
          "349 Atopobium",
          "350 Bacillus",
          "351 Tannerella",
          "352 Bibersteinia",
          "353 Pluralibacter",
          "354 Kosakonia",
          "355 Sphingomonas",
          "356 Borreliella",
          "357 Sulfobacillus",
          "358 Stenotrophomonas",
          "359 Lachnospira",
          "360 Eremococcus",
          "361 Phaeobacter",
          "362 Acidipropionibacterium",
          "363 Cutibacterium",
          "364 Pseudopropionibacterium",
          "365 Eggerthia",
          "366 Kandleria",
          "367 Rubrivivax",
          "368 Pectobacterium",
          "369 Tistrella",
          "370 Pseudothermotoga",
          "371 Buchnera",
          "372 Sinorhizobium",
          "373 Clostridium",
          "374 Rothia",
          "375 Nodularia",
          "376 Salinibacter",
          "377 Gluconacetobacter",
          "378 Scardovia",
          "379 Parascardovia",
          "380 Kingella",
          "381 Candidatus Protochlamydia",
          "382 Desulfotomaculum",
          "383 Tepidanaerobacter",
          "384 Paraglaciecola",
          "385 Arcobacter",
          "386 Lactobacillus",
          "387 Snodgrassella",
          "388 Rhodanobacter",
          "389 Geobacter",
          "390 Tepidimonas",
          "391 Enterocloster",
          "392 Lachnoanaerobaculum",
          "394 Ornithobacterium",
          "395 Parachlamydia",
          "396 Solibacillus",
          "397 Sutterella",
          "398 Listeria",
          "399 Thermodesulfovibrio",
          "400 Candidatus Pelagibacter",
          "401 Candidatus Ruthia",
          "402 Erysipelothrix",
          "403 Actinomyces",
          "404 Neorhizobium",
          "405 Elizabethkingia",
          "406 Avibacterium",
          "407 Bifidobacterium",
          "408 Candidatus Hamiltonella",
          "409 Candidatus Regiella",
          "410 Brevibacterium",
          "411 Pseudoxanthomonas",
          "412 Granulicoccus",
          "413 Corynebacterium",
          "414 Caldanaerobacter",
          "415 Aliivibrio",
          "416 Algibacter",
          "417 Leclercia",
          "418 Thermodesulfobacterium",
          "419 Propionibacterium",
          "420 Thermoanaerobacter",
          "421 Thermobifida",
          "422 Mycobacterium",
          "423 Enterovibrio",
          "424 Mediterraneibacter",
          "425 Oribacterium",
          "426 Paraburkholderia",
          "427 Methylacidiphilum",
          "428 Intestinimonas",
          "429 Amycolatopsis",
          "430 Nocardia",
          "431 Rhodococcus",
          "432 Sphingobacterium",
          "433 Aneurinibacillus",
          "434 Brevibacillus",
          "435 Saccharopolyspora",
          "436 Enhydrobacter",
          "437 Cronobacter",
          "438 Saccharomonospora",
          "439 Sphingobium",
          "440 Novosphingobium",
          "441 Sphingopyxis",
          "442 Cellulophaga",
          "443 Streptomyces",
          "444 Orientia",
          "445 Gallibacterium",
          "446 Granulibacter",
          "447 Histophilus",
          "448 Dermabacter",
          "449 Pseudobacteroides",
          "450 Blastochloris",
          "451 Anaerococcus",
          "452 Demequina",
          "453 Streptosporangium",
          "454 Actinoalloteichus",
          "455 Nocardiopsis",
          "456 Curtobacterium",
          "457 Waddlia",
          "458 Desulfitobacterium",
          "459 Tropheryma",
          "460 Dehalococcoides",
          "461 Aurantimonas",
          "462 Pseudoalteromonas",
          "1948 Lacticaseibacillus casei/paracasei",
          "1949 Escherichia/Shigella",
          "1950 Escherichia coli/Shigella"
         ],
         "type": "scatter",
         "x": [
          0.99180126,
          0.9789365,
          0.2079285,
          0.9470835,
          0.9955059,
          0.9952208,
          0.0062548867,
          0.012629652,
          0.012571359,
          1,
          0.04109589,
          0.023280092,
          0.47705576,
          0.9836249,
          0.011296396,
          0.9560158,
          0.24565972,
          0.8897143,
          0.9862934,
          0.9992281,
          0.971282,
          0.40932602,
          0.9718252,
          0.4133103,
          0.9782766,
          0.64772534,
          0.26961666,
          0.31771094,
          0.65222996,
          0.0076923077,
          0.98080635,
          0.955429,
          0.57459503,
          0.9987957,
          0.33827025,
          0.006045949,
          0.26512167,
          0.99856085,
          0.42754892,
          0.008465609,
          0.41984564,
          0.009786209,
          0.9530471,
          0.009228375,
          0.9990478,
          0.02257484,
          0.96179575,
          0.9990564,
          0.009449071,
          0.9315043,
          0.56311464,
          0.98972297,
          0.95969623,
          0.99726176,
          0.95610374,
          0.96783215,
          0.9682774,
          0.94217163,
          0.979642,
          0.9918033,
          0.9367951,
          0.004160666,
          0.37623763,
          0.2114579,
          0.64289635,
          0.95925117,
          0.45568824,
          0.033665657,
          0.0005545082,
          0.2524214,
          0.67622817,
          0.598002,
          0.99800825,
          0.0076793605,
          0.9843814,
          0.4764421,
          0.9927323,
          0.006437768,
          0.0070178905,
          0.21330988,
          0.9270978,
          0.35563973,
          0.01045947,
          0.9669746,
          0.0048148762,
          0.8020897,
          0.9713598,
          0.12763001,
          0.45460263,
          0.51274985,
          0.36277643,
          0.43141645,
          0.5115272,
          0.96592236,
          0.973221,
          0.2949492,
          0.0016273393,
          0.6630165,
          0.13575482,
          0.99537444,
          0.99456984,
          0.38668403,
          0.38234165,
          0.4151515,
          0.003991403,
          0.9800242,
          0.99875635,
          0.22060767,
          0.00034287674,
          0.9724988,
          0.9918111,
          0.95658773,
          0.6112057,
          0.6447668,
          0.9895186,
          0.46475163,
          0.5796024,
          0.5262083,
          0.9835469,
          0.022768434,
          0.36329553,
          0.9930426,
          0.90902114,
          0.99423176,
          0.9778782,
          0.5955998,
          0.16934296,
          0.012114686,
          0.52934337,
          0.00447669,
          0.28044233,
          0.97242725,
          0.6616403,
          0.5145901,
          0.77339524,
          0.965135,
          0.40860775,
          0.9963921,
          0.98847836,
          0.0022087775,
          0.35966736,
          0.9888502,
          0.94035167,
          0.5994478,
          0.95557266,
          0.46896553,
          0.83185625,
          0.5902292,
          0.98362255,
          0.8868819,
          0.5219907,
          0.00029312618,
          0.98677874,
          0.010695893,
          0.9690404,
          0.9761799,
          0.9809267,
          0.95268095,
          0.0006908122,
          0.9732014,
          0.96604276,
          0.9093285,
          0.9943813,
          0.9950455,
          0.5708502,
          0.68577874,
          0.92015254,
          0.1421848,
          0.00056264066,
          0.98645025,
          0.5909497,
          0.012923077,
          0.9889514,
          0.9933448,
          0.5021989,
          0.93815964,
          0.0030734842,
          0.011829492,
          0.8921292,
          0.99111515,
          0.00048297513,
          0.8719926,
          0.005272634,
          0.987211,
          0.41198567,
          0.9927835,
          0.92298895,
          0.99817765,
          0.0060706404,
          0.0009460738,
          0.99626017,
          0.19435655,
          0.9845281,
          0.004640371,
          0.0039726878,
          0.9950471,
          0.6421458,
          0.1677151,
          0.29681924,
          0.9980769,
          0.9364655,
          0.9985372,
          0.28876635,
          0.92375404,
          0.00232423,
          0.00076345593,
          0.9904613,
          0.0013723068,
          0.99905366,
          0.99860495,
          0.52683336,
          0.5377451,
          0.1674231,
          0.99639595,
          0.96068597,
          0.00052863435,
          0.11776609,
          0.99790955,
          0.6356813,
          0.9867543,
          0.975625,
          0.14530864,
          0.25663716,
          0.44280577,
          0.0056119147,
          0.8363452,
          0.6018953,
          0.67279553,
          0.9863412,
          0.93779653,
          0.0062506623,
          0.9614106,
          0.7350064,
          0.9895248,
          0.0051716547,
          0.29250458,
          0.98614836,
          0.48136592,
          0.0038548452,
          0.14475785,
          0.36317968,
          0.996836,
          0.010473052,
          0.7693008,
          0.99054956,
          0.996337,
          0.018041888,
          0.07041767,
          0.49891695,
          0.98135555,
          0.9906623,
          0.9977082,
          0.9938224,
          0.4983555,
          0.9919196,
          0.007704785,
          0.9953592,
          0.9905377,
          0.09480997,
          0.00075287034,
          0.64962167,
          0.6406655,
          0.99108845,
          0.007203842,
          0.9359975,
          0.021134594,
          0.004819591,
          0.983015,
          0.001726718,
          0.0064199395,
          0.9974763,
          0.014364124,
          0.0018578352,
          0.98103195,
          0.0048956755,
          0.96749264,
          0.009010374,
          0.07858911,
          0.9939115,
          0.020869717,
          0.38191158,
          0.7228184,
          0.038693234,
          0.5605036,
          0.86970335,
          0.97904634,
          0.20561798,
          0.9664019,
          0.612089,
          0.28461748,
          0.4089904,
          0.9942595,
          0.013585638,
          0.99206,
          0.99648815,
          0.19820325,
          0.00554624,
          0.9989671,
          0.99116164,
          0.053829152,
          0.43224066,
          0.639969,
          0.5104927,
          0.99803936,
          0.9923149,
          0.5598432,
          0.9961355,
          0.35971802,
          0.9976779,
          0.007868207,
          0.32651892,
          0.9971069,
          0.60762143,
          0.29848495,
          0.9972246,
          0.9920577,
          0.99437934,
          0.94001895,
          0.973689,
          0.45289788,
          0.87946314,
          0.9251794,
          0.9975079,
          0.005816413,
          0.93795663,
          0.6946423,
          0.0029213072,
          0.013058619,
          0.00250339,
          0.938363,
          0.99637604,
          0.9926661,
          0.004694323,
          0.24641266,
          0.36940476,
          0.99743307,
          0.9057473,
          0.59409076,
          0.19304039,
          0.99851656,
          0.32440925,
          0.40052426,
          0.5174957,
          0.68637025,
          0.9779738,
          0.89015543,
          0.38653892,
          0.9686774,
          0.325226,
          0.301212,
          0.9633652,
          0.39161864,
          0.9870799,
          0.251853,
          0.30161208,
          0.30530012,
          0.77218705,
          0.8974128,
          0.6129395,
          0.99739414,
          0.9566603,
          0.9607785,
          0.9974943,
          0.99702185,
          0.020229504,
          0.36213374,
          0.25812477,
          0.0003468609,
          0.3080418,
          0.40525433,
          0.4296131,
          0.31610885,
          0.0002365744,
          0.007621411,
          0.9614165,
          0.9995572,
          0.2027127,
          0.9017094,
          0.97513676,
          0.47759235,
          0.9786741,
          0.50314903,
          0.060881417,
          0.16396867,
          0.3630303,
          0.40537542,
          0.9942442,
          0.028428735,
          0.55331415,
          0.015284854,
          0.25228035,
          0.9942877,
          0.8460531,
          0.9725194,
          0.5280899,
          0.99614763,
          0.59299713,
          0.67882955,
          0.9484094,
          0.5725244,
          0.01681466,
          0.9979624,
          0.50986344,
          0.9584655,
          0.36437717,
          0.33479077,
          0.0063653723,
          0.98496306,
          0.8430044,
          0.06317654,
          0.9915034,
          0.9792365,
          0.9890091,
          0.1099182,
          0.97992045,
          0.008116429,
          0.43318123,
          0.96699286,
          0.9837941,
          0.9836676,
          0.6966828,
          0.30787182,
          0.99753475,
          0.9712949,
          0.6025867,
          0.97344977,
          0.95186454,
          0.9690752,
          0.98381,
          0.94997746,
          0.99242276,
          0.98209864,
          0.7536488,
          0.6035242,
          0.42223322,
          0.43069088,
          0.6480367,
          0.006305977,
          0.0009044862,
          0.9919933,
          0.7972683,
          0.6853183,
          0.14658804,
          0.9405711,
          0.9110988,
          0.006198929,
          0.5962594,
          0.1351527,
          0.92796147,
          0.6483333,
          0.9946755,
          0.47451088,
          0.9106814,
          0.6825378
         ],
         "y": [
          0.99606186,
          0.9955636,
          4.7389135,
          0.9098719,
          0.9977134,
          1.0002041,
          157.00395,
          76.31702,
          76.6709,
          0.9839599,
          24.223127,
          42.282505,
          2.018627,
          0.9898632,
          88.05395,
          1.0217067,
          4.0474157,
          1.0968062,
          1.0005244,
          0.94317883,
          1.0039848,
          2.3973808,
          0.954225,
          2.411399,
          1.0083148,
          1.5359144,
          3.6498022,
          3.1090431,
          1.5265553,
          126.94712,
          0.99527985,
          1.0269607,
          1.6139017,
          0.9951814,
          2.9388402,
          164.31639,
          3.7299838,
          0.9907843,
          2.3296506,
          117.78595,
          2.3643372,
          100.10519,
          1.0223757,
          107.78662,
          0.985021,
          44.145138,
          0.99823534,
          0.98054457,
          105.41964,
          1.0146437,
          1.7552832,
          0.99689776,
          0.9252081,
          0.9882628,
          1.0228779,
          1.0274297,
          1.0068859,
          1.0458341,
          0.9950016,
          0.97740346,
          1.0649823,
          235.76416,
          2.5931962,
          4.683814,
          1.5352356,
          1.0195218,
          2.1434999,
          28.827696,
          1750.3218,
          3.9397256,
          1.472422,
          1.6628587,
          0.982686,
          129.43729,
          0.9774616,
          2.0797184,
          0.9672978,
          154.64944,
          138.42978,
          4.563399,
          1.0459666,
          2.7976432,
          94.00188,
          1.0075489,
          202.8877,
          1.2414162,
          0.9907621,
          7.616501,
          2.1841047,
          1.9172053,
          2.7287827,
          2.2410233,
          1.9246005,
          0.99643016,
          1.0044736,
          3.3493989,
          602.3019,
          1.4998189,
          7.3193083,
          0.9990371,
          0.9816868,
          2.5659215,
          2.5950637,
          2.3865416,
          248.60828,
          0.99625707,
          0.9485032,
          4.294155,
          2892.4417,
          1.0195436,
          0.9733967,
          1.0389018,
          1.5672283,
          1.5444043,
          0.9756795,
          2.142923,
          1.6526827,
          1.8787057,
          0.98197657,
          43.69415,
          2.7353587,
          0.972246,
          1.085951,
          0.9920505,
          0.9665262,
          1.6284534,
          5.8385572,
          81.112686,
          1.6773965,
          221.68694,
          3.5246491,
          1.011793,
          1.4591812,
          1.9278532,
          1.2818288,
          0.958242,
          2.3868527,
          0.99754995,
          0.9356127,
          449.6671,
          2.753889,
          0.9835829,
          1.0478401,
          1.6476569,
          0.97137225,
          2.109163,
          1.1775949,
          1.6281224,
          0.97696567,
          1.0444951,
          1.8906153,
          3396.8823,
          0.95383596,
          90.40197,
          1.01404,
          0.9904059,
          0.9912434,
          1.0330197,
          1415.6509,
          1.0042013,
          1.0011846,
          1.0440619,
          0.99681264,
          0.96444726,
          1.7220749,
          1.4247706,
          1.0576261,
          6.9891315,
          1767.7278,
          1.0037634,
          1.6799409,
          76.58365,
          1.002651,
          0.9978785,
          1.9762173,
          1.0324473,
          323.40692,
          84.022705,
          1.0953043,
          0.97943443,
          2046.0527,
          1.117886,
          186.95993,
          0.9979656,
          2.3618824,
          1.0023999,
          1.0476071,
          0.9991496,
          160.06213,
          1036.9677,
          0.99946105,
          5.130675,
          1.002778,
          214.46725,
          247.36414,
          0.998481,
          1.5382608,
          5.93064,
          3.3315215,
          0.98564833,
          1.0493133,
          0.96167445,
          3.4121764,
          1.0451112,
          428.09055,
          1305.048,
          1.0043024,
          725.58026,
          0.9882387,
          0.98944,
          1.8910514,
          1.8277487,
          5.8988457,
          0.9917165,
          1.0326413,
          1802.8247,
          8.452025,
          0.989065,
          1.5605923,
          1.0018835,
          1.0113307,
          6.8392243,
          3.8606071,
          2.2387788,
          174.94766,
          1.1889483,
          1.6146649,
          1.3872968,
          1.0038682,
          1.0626487,
          159.2601,
          1.0180811,
          1.3364695,
          0.997859,
          192.6102,
          3.3746881,
          0.9945043,
          2.0573065,
          257.66013,
          6.858897,
          2.7223566,
          0.99401045,
          94.80113,
          1.2930586,
          1.0014437,
          0.9895362,
          55.08535,
          14.124569,
          1.9870068,
          1.0041616,
          0.9894363,
          0.98770314,
          0.99415666,
          1.9706147,
          0.99606377,
          128.88718,
          0.9862088,
          0.99529713,
          10.379428,
          1315.189,
          1.5076895,
          1.5023038,
          1.0027564,
          137.61911,
          1.0487648,
          46.562202,
          205.28079,
          0.9917904,
          573.609,
          150.03612,
          0.9620303,
          68.32015,
          520.02606,
          0.99192923,
          201.24614,
          1.0052607,
          109.517494,
          12.615926,
          0.9840919,
          47.28746,
          2.607495,
          1.3715566,
          25.752468,
          1.7589605,
          1.1015316,
          0.9842141,
          4.8400435,
          1.004481,
          1.5242043,
          3.3659415,
          2.4058263,
          0.99889326,
          73.33882,
          1.0009431,
          0.87100226,
          5.006081,
          178.22314,
          0.9950924,
          0.9999476,
          18.236748,
          2.3062851,
          1.5537184,
          1.9114957,
          0.98994744,
          0.9981524,
          1.6664463,
          0.99958616,
          2.76617,
          0.8699635,
          125.45506,
          3.0192873,
          0.998089,
          1.6103828,
          3.2836218,
          0.988064,
          0.99730235,
          0.84954035,
          1.0430195,
          0.99867225,
          2.1788614,
          1.1283675,
          1.0664737,
          0.9415904,
          170.55113,
          1.0363655,
          1.427448,
          340.71082,
          75.889046,
          397.25778,
          1.054096,
          0.9865776,
          0.9947086,
          209.3779,
          4.0294,
          2.6891856,
          0.9893313,
          1.0815834,
          1.6730694,
          5.1372347,
          0.94457555,
          3.0433888,
          2.3971045,
          1.8089082,
          1.3851522,
          0.9887664,
          1.1081333,
          2.577701,
          0.99450815,
          3.0529392,
          3.2925334,
          1.0151383,
          2.5012655,
          0.99236363,
          3.9195285,
          3.271587,
          3.2551086,
          1.2588477,
          1.0925386,
          1.5886105,
          0.9978998,
          1.0405015,
          1.0016737,
          0.98843735,
          0.97909266,
          48.578926,
          2.7353716,
          3.787218,
          2867.678,
          3.2195787,
          2.4474752,
          2.315957,
          3.154113,
          4208.2114,
          130.4865,
          1.0318046,
          0.9600275,
          4.9139967,
          1.0890892,
          1.0148473,
          2.0435915,
          1.0072845,
          1.9756916,
          16.271185,
          6.0680223,
          2.725341,
          2.45216,
          0.99249065,
          35.00961,
          1.797156,
          65.2066,
          3.896079,
          0.986762,
          1.1411784,
          1.0212555,
          1.8454922,
          0.9794029,
          1.6734636,
          1.4618678,
          1.0279692,
          1.6806182,
          58.609615,
          0.9786301,
          1.8944937,
          1.0334631,
          2.7161317,
          2.8075008,
          155.97466,
          0.9918004,
          1.145822,
          15.491799,
          0.9718486,
          1.0061265,
          0.98265946,
          8.977132,
          0.9920132,
          122.87565,
          2.2230825,
          0.9991002,
          0.99024695,
          0.97988665,
          1.4255997,
          3.231381,
          0.9897743,
          0.99719805,
          1.6467532,
          0.9791365,
          1.022454,
          0.99784577,
          0.99592894,
          1.0224447,
          1.0011172,
          0.8774318,
          1.3196832,
          1.6148247,
          2.3496375,
          2.266555,
          1.5271527,
          157.54582,
          1086.8378,
          0.97361547,
          1.2239263,
          1.4139415,
          6.6484165,
          1.0315368,
          1.0674828,
          160.67453,
          1.6661088,
          7.3804946,
          1.0746973,
          1.5010449,
          0.9997564,
          2.027666,
          0.927619,
          1.1995631
         ]
        }
       ],
       "frames": [],
       "layout": {
        "autosize": true,
        "coloraxis": {
         "colorscale": "Viridis"
        },
        "hovermode": "closest",
        "margin": {
         "b": 50,
         "l": 50,
         "r": 50,
         "t": 60
        },
        "xaxis": {
         "autorange": false,
         "range": [
          0.9065036525974026,
          1
         ],
         "title": {
          "text": "Diameter"
         },
         "type": "linear"
        },
        "yaxis": {
         "autorange": false,
         "range": [
          0.801923076923077,
          1.1557692307692307
         ],
         "title": {
          "text": "Min-inter / Diameter"
         },
         "type": "linear"
        }
       }
      },
      "application/vnd.webio.node+json": {
       "children": [
        {
         "children": [],
         "instanceArgs": {
          "namespace": "html",
          "tag": "div"
         },
         "nodeType": "DOM",
         "props": {
          "id": "plot-9524a216-a974-44a8-a4c3-75fefb934c8a"
         },
         "type": "node"
        }
       ],
       "instanceArgs": {
        "handlers": {
         "__get_gd_contents": [
          "(function (prop){prop==\"data\" ? (WebIO.setval({\"name\":\"__gd_contents\",\"scope\":\"13082927617177373117\",\"id\":\"2146587767778899084\",\"type\":\"observable\"},this.plotElem.data)) : undefined; return prop==\"layout\" ? (WebIO.setval({\"name\":\"__gd_contents\",\"scope\":\"13082927617177373117\",\"id\":\"2146587767778899084\",\"type\":\"observable\"},this.plotElem.layout)) : undefined})"
         ],
         "_commands": [
          "(function (args){var fn=args.shift(); var elem=this.plotElem; var Plotly=this.Plotly; args.unshift(elem); return Plotly[fn].apply(this,args)})"
         ],
         "_downloadImage": [
          "(function (options){return this.Plotly.downloadImage(this.plotElem,options)})"
         ],
         "_toImage": [
          "(function (options){return this.Plotly.toImage(this.plotElem,options).then((function (data){return WebIO.setval({\"name\":\"image\",\"scope\":\"13082927617177373117\",\"id\":\"8269567824404110490\",\"type\":\"observable\"},data)}))})"
         ]
        },
        "id": "13082927617177373117",
        "imports": {
         "data": [
          {
           "name": "Plotly",
           "type": "js",
           "url": "/assetserver/2178a8d06f9a8c65d859d06b4046edd396027e54-plotly.min.js"
          },
          {
           "name": null,
           "type": "js",
           "url": "/assetserver/bfdea5073d48cb1c02a6ebf79fdeb36320854e28-plotly_webio.bundle.js"
          }
         ],
         "type": "async_block"
        },
        "mount_callbacks": [
         "function () {\n    var handler = ((function (Plotly,PlotlyWebIO){PlotlyWebIO.init(WebIO); var gd=this.dom.querySelector(\"#plot-9524a216-a974-44a8-a4c3-75fefb934c8a\"); this.plotElem=gd; this.Plotly=Plotly; (window.Blink!==undefined) ? (gd.style.width=\"100%\", gd.style.height=\"100vh\", gd.style.marginLeft=\"0%\", gd.style.marginTop=\"0vh\") : undefined; window.onresize=(function (){return Plotly.Plots.resize(gd)}); Plotly.newPlot(gd,[{\"line\":{\"color\":\"gray\",\"dash\":\"dash\"},\"y\":[1,1],\"type\":\"scatter\",\"x\":[0,1]},{\"marker\":{\"color\":[0.5918367346938775,0.7638888888888888,1.0,0.5555555555555556,0.9506172839506173,1.0,1.0,1.0,1.0,0.14501755333513366,1.0,1.0,1.0,0.5918367346938775,1.0,1.0,1.0,1.0,1.0,0.3656,1.0,1.0,0.5,1.0,1.0,1.0,1.0,1.0,1.0,1.0,0.54,1.0,1.0,0.41609977324263037,1.0,1.0,1.0,0.9603068352695595,1.0,1.0,1.0,1.0,1.0,1.0,0.9073318909822193,1.0,0.9963269054178145,0.8700562945964359,1.0,1.0,1.0,0.6818181818181818,0.9784971644612477,0.5335169880624426,1.0,1.0,1.0,1.0,0.76,0.6867402685667023,1.0,1.0,1.0,1.0,1.0,1.0,1.0,1.0,1.0,1.0,1.0,1.0,0.22263717322608445,1.0,0.7642666572744323,1.0,0.4462809917355372,1.0,1.0,1.0,1.0,1.0,1.0,1.0,1.0,1.0,0.8861340679522498,1.0,1.0,1.0,1.0,1.0,1.0,0.5,1.0,1.0,1.0,1.0,1.0,0.625,0.37,1.0,1.0,1.0,1.0,0.673469387755102,0.8934376798881609,1.0,1.0,1.0,0.8573924506000895,1.0,1.0,1.0,0.9913850316897901,1.0,1.0,1.0,0.5,1.0,1.0,0.355,1.0,0.5,0.826307050329289,1.0,1.0,1.0,1.0,1.0,1.0,1.0,1.0,1.0,1.0,0.6572222222222223,1.0,0.5,0.9847337278106509,1.0,1.0,0.5537190082644629,1.0,1.0,0.8683544790465205,1.0,1.0,1.0,0.42592592592592593,1.0,1.0,1.0,0.8427781727127078,1.0,1.0,0.625,0.9667991368901999,1.0,1.0,1.0,1.0,1.0,0.8828125,0.3756940597106802,1.0,1.0,1.0,1.0,1.0,1.0,1.0,1.0,1.0,0.6111111111111112,1.0,1.0,1.0,1.0,1.0,0.8781065088757396,1.0,1.0,1.0,0.5,1.0,1.0,1.0,0.6143250688705234,1.0,1.0,0.9714532871972318,1.0,1.0,1.0,1.0,0.8016528925619835,1.0,1.0,1.0,0.45953125,1.0,0.39734375,1.0,1.0,1.0,1.0,1.0,1.0,0.3646449704142012,0.1889868373384857,1.0,1.0,1.0,0.48319941563184804,1.0,1.0,1.0,0.25925925925925924,1.0,1.0,1.0,1.0,1.0,1.0,1.0,1.0,1.0,1.0,1.0,1.0,1.0,1.0,1.0,0.8125,1.0,1.0,0.9565711400075748,1.0,1.0,1.0,1.0,0.6088888888888889,1.0,1.0,1.0,0.3472222222222222,1.0,1.0,1.0,1.0,0.4706994328922495,0.1704,0.34375,1.0,0.5,1.0,0.4074074074074074,0.6678200692041523,1.0,1.0,1.0,1.0,1.0,1.0,1.0,1.0,1.0,0.5078125,1.0,1.0,0.3956602031394275,1.0,1.0,0.5,1.0,1.0,1.0,1.0,0.5,1.0,1.0,1.0,1.0,1.0,1.0,0.26038781163434904,1.0,1.0,1.0,1.0,1.0,0.8512396694214877,1.0,1.0,0.23875432525951557,1.0,1.0,0.4934601664684899,0.9444444444444444,1.0,1.0,1.0,1.0,0.19452706722189173,0.9310344827586207,1.0,0.889273356401384,1.0,0.2896,1.0,1.0,0.5555555555555556,1.0,1.0,0.5,0.7688888888888888,0.8559163524564469,1.0,0.9996586688746754,1.0,1.0,1.0,0.5886004642351025,1.0,1.0,1.0,1.0,1.0,1.0,1.0,0.4551986475063398,0.7893827160493827,1.0,1.0,1.0,0.38,1.0,1.0,1.0,0.29259699652089666,1.0,1.0,1.0,1.0,0.5625,1.0,1.0,0.972943829036369,1.0,1.0,1.0,1.0,0.9662809917355372,1.0,1.0,1.0,1.0,1.0,1.0,0.5,1.0,1.0,0.23914322125281834,0.39100346020761245,1.0,1.0,1.0,1.0,1.0,1.0,1.0,1.0,1.0,1.0,1.0,0.122008840115836,1.0,1.0,1.0,1.0,1.0,1.0,1.0,1.0,1.0,1.0,0.9709494696422979,1.0,1.0,1.0,1.0,0.68,1.0,1.0,1.0,0.2795225552137634,1.0,1.0,1.0,1.0,1.0,0.1610976454293629,1.0,1.0,1.0,1.0,1.0,0.8528,1.0,1.0,0.9273431783766745,1.0,0.52,1.0,0.5502958579881657,1.0,1.0,0.9444444444444444,0.7229916897506925,0.3044889129259059,1.0,1.0,0.41836734693877553,0.52,1.0,0.9444897959183673,1.0,0.9822222222222222,0.5555555555555556,1.0,1.0,0.08905080933052961,1.0,1.0,1.0,1.0,1.0,1.0,1.0,0.3333333333333333,1.0,1.0,1.0,1.0,1.0,1.0,1.0,1.0,1.0,1.0,0.9944598337950139,1.0,0.985538668767516,1.0],\"colorscale\":\"Viridis\"},\"mode\":\"markers\",\"y\":[0.99606186,0.9955636,4.7389135,0.9098719,0.9977134,1.0002041,157.00395,76.31702,76.6709,0.9839599,24.223127,42.282505,2.018627,0.9898632,88.05395,1.0217067,4.0474157,1.0968062,1.0005244,0.94317883,1.0039848,2.3973808,0.954225,2.411399,1.0083148,1.5359144,3.6498022,3.1090431,1.5265553,126.94712,0.99527985,1.0269607,1.6139017,0.9951814,2.9388402,164.31639,3.7299838,0.9907843,2.3296506,117.78595,2.3643372,100.10519,1.0223757,107.78662,0.985021,44.145138,0.99823534,0.98054457,105.41964,1.0146437,1.7552832,0.99689776,0.9252081,0.9882628,1.0228779,1.0274297,1.0068859,1.0458341,0.9950016,0.97740346,1.0649823,235.76416,2.5931962,4.683814,1.5352356,1.0195218,2.1434999,28.827696,1750.3218,3.9397256,1.472422,1.6628587,0.982686,129.43729,0.9774616,2.0797184,0.9672978,154.64944,138.42978,4.563399,1.0459666,2.7976432,94.00188,1.0075489,202.8877,1.2414162,0.9907621,7.616501,2.1841047,1.9172053,2.7287827,2.2410233,1.9246005,0.99643016,1.0044736,3.3493989,602.3019,1.4998189,7.3193083,0.9990371,0.9816868,2.5659215,2.5950637,2.3865416,248.60828,0.99625707,0.9485032,4.294155,2892.4417,1.0195436,0.9733967,1.0389018,1.5672283,1.5444043,0.9756795,2.142923,1.6526827,1.8787057,0.98197657,43.69415,2.7353587,0.972246,1.085951,0.9920505,0.9665262,1.6284534,5.8385572,81.112686,1.6773965,221.68694,3.5246491,1.011793,1.4591812,1.9278532,1.2818288,0.958242,2.3868527,0.99754995,0.9356127,449.6671,2.753889,0.9835829,1.0478401,1.6476569,0.97137225,2.109163,1.1775949,1.6281224,0.97696567,1.0444951,1.8906153,3396.8823,0.95383596,90.40197,1.01404,0.9904059,0.9912434,1.0330197,1415.6509,1.0042013,1.0011846,1.0440619,0.99681264,0.96444726,1.7220749,1.4247706,1.0576261,6.9891315,1767.7278,1.0037634,1.6799409,76.58365,1.002651,0.9978785,1.9762173,1.0324473,323.40692,84.022705,1.0953043,0.97943443,2046.0527,1.117886,186.95993,0.9979656,2.3618824,1.0023999,1.0476071,0.9991496,160.06213,1036.9677,0.99946105,5.130675,1.002778,214.46725,247.36414,0.998481,1.5382608,5.93064,3.3315215,0.98564833,1.0493133,0.96167445,3.4121764,1.0451112,428.09055,1305.048,1.0043024,725.58026,0.9882387,0.98944,1.8910514,1.8277487,5.8988457,0.9917165,1.0326413,1802.8247,8.452025,0.989065,1.5605923,1.0018835,1.0113307,6.8392243,3.8606071,2.2387788,174.94766,1.1889483,1.6146649,1.3872968,1.0038682,1.0626487,159.2601,1.0180811,1.3364695,0.997859,192.6102,3.3746881,0.9945043,2.0573065,257.66013,6.858897,2.7223566,0.99401045,94.80113,1.2930586,1.0014437,0.9895362,55.08535,14.124569,1.9870068,1.0041616,0.9894363,0.98770314,0.99415666,1.9706147,0.99606377,128.88718,0.9862088,0.99529713,10.379428,1315.189,1.5076895,1.5023038,1.0027564,137.61911,1.0487648,46.562202,205.28079,0.9917904,573.609,150.03612,0.9620303,68.32015,520.02606,0.99192923,201.24614,1.0052607,109.517494,12.615926,0.9840919,47.28746,2.607495,1.3715566,25.752468,1.7589605,1.1015316,0.9842141,4.8400435,1.004481,1.5242043,3.3659415,2.4058263,0.99889326,73.33882,1.0009431,0.87100226,5.006081,178.22314,0.9950924,0.9999476,18.236748,2.3062851,1.5537184,1.9114957,0.98994744,0.9981524,1.6664463,0.99958616,2.76617,0.8699635,125.45506,3.0192873,0.998089,1.6103828,3.2836218,0.988064,0.99730235,0.84954035,1.0430195,0.99867225,2.1788614,1.1283675,1.0664737,0.9415904,170.55113,1.0363655,1.427448,340.71082,75.889046,397.25778,1.054096,0.9865776,0.9947086,209.3779,4.0294,2.6891856,0.9893313,1.0815834,1.6730694,5.1372347,0.94457555,3.0433888,2.3971045,1.8089082,1.3851522,0.9887664,1.1081333,2.577701,0.99450815,3.0529392,3.2925334,1.0151383,2.5012655,0.99236363,3.9195285,3.271587,3.2551086,1.2588477,1.0925386,1.5886105,0.9978998,1.0405015,1.0016737,0.98843735,0.97909266,48.578926,2.7353716,3.787218,2867.678,3.2195787,2.4474752,2.315957,3.154113,4208.2114,130.4865,1.0318046,0.9600275,4.9139967,1.0890892,1.0148473,2.0435915,1.0072845,1.9756916,16.271185,6.0680223,2.725341,2.45216,0.99249065,35.00961,1.797156,65.2066,3.896079,0.986762,1.1411784,1.0212555,1.8454922,0.9794029,1.6734636,1.4618678,1.0279692,1.6806182,58.609615,0.9786301,1.8944937,1.0334631,2.7161317,2.8075008,155.97466,0.9918004,1.145822,15.491799,0.9718486,1.0061265,0.98265946,8.977132,0.9920132,122.87565,2.2230825,0.9991002,0.99024695,0.97988665,1.4255997,3.231381,0.9897743,0.99719805,1.6467532,0.9791365,1.022454,0.99784577,0.99592894,1.0224447,1.0011172,0.8774318,1.3196832,1.6148247,2.3496375,2.266555,1.5271527,157.54582,1086.8378,0.97361547,1.2239263,1.4139415,6.6484165,1.0315368,1.0674828,160.67453,1.6661088,7.3804946,1.0746973,1.5010449,0.9997564,2.027666,0.927619,1.1995631],\"type\":\"scatter\",\"customdata\":[[0.9878954,0.5918367346938775,\"1106 Mobiluncus mulieris\",\"1688 Actinobaculum massiliense\"],[0.9745936,0.7638888888888888,\"1794 Gordonia amicalis\",\"1478 Nocardia farcinica\"],[0.98535514,1.0,\"540 Meiothermus ruber\",\"1868 Thermus oshimai\"],[0.8617246,0.5555555555555556,\"1079 Kitasatospora aureofaciens\",\"1206 Streptomyces pyridomyceticus\"],[0.99322957,0.9506172839506173,\"467 Shewanella putrefaciens\",\"1460 Salmonella enterica\"],[0.9954239,1.0,\"1118 Sporolactobacillus vineae\",\"577 Neorhizobium galegae\"],[0.98204195,1.0,\"1110 Dyella japonica\",\"1276 Rhodanobacter denitrificans\"],[0.96385735,1.0,\"470 Myxococcus xanthus\",\"471 Stigmatella aurantiaca\"],[0.96385735,1.0,\"471 Stigmatella aurantiaca\",\"470 Myxococcus xanthus\"],[0.9839599,0.14501755333513366,\"1148 Mycoplasma yeatsii\",\"1141 Mesoplasma florum\"],[0.995471,1.0,\"1030 Candidatus Portiera aleyrodidarum\",\"464 Buchnera aphidicola\"],[0.98434055,1.0,\"1438 Thalassobius mediterraneus\",\"1700 Phaeobacter italicus\"],[0.9629976,1.0,\"1683 Flavonifractor plautii\",\"1294 Intestinimonas butyriciproducens\"],[0.9736541,0.5918367346938775,\"1733 Lysobacter defluvii\",\"1309 Pseudoxanthomonas suwonensis\"],[0.99469227,1.0,\"988 Fructobacillus fructosus\",\"800 Leuconostoc pseudomesenteroides\"],[0.9767677,1.0,\"1398 Caulobacter henricii\",\"550 Brevundimonas diminuta\"],[0.994287,1.0,\"1370 Jeotgalibaca dankookensis\",\"1259 Enterococcus dispar\"],[0.9758441,1.0,\"1134 Ureaplasma urealyticum\",\"528 Anaerococcus hydrogenalis\"],[0.98681056,1.0,\"1136 Spiroplasma melliferum\",\"598 Neisseria gonorrhoeae\"],[0.9424508,0.3656,\"1175 Pantoea dispersa\",\"1525 Enterobacter ludwigii\"],[0.9751524,1.0,\"1474 Cupriavidus metallidurans\",\"1387 Achromobacter xylosoxidans\"],[0.9813103,1.0,\"1900 Nitratireductor aquibiodomus\",\"1761 Mesorhizobium ciceri\"],[0.9273399,0.5,\"1003 Schaalia odontolytica\",\"829 Kytococcus sedentarius\"],[0.996656,1.0,\"480 Oligella urethralis\",\"1197 Taylorella asinigenitalis\"],[0.98641086,1.0,\"482 Borrelia hermsii\",\"1564 Borreliella garinii\"],[0.9948507,1.0,\"1029 Richelia intracellularis\",\"1213 Dolichospermum circinale\"],[0.9840475,1.0,\"1146 Eggerthella lenta\",\"1376 Amycolatopsis vancoresmycina\"],[0.987777,1.0,\"1507 Paenarthrobacter nicotinovorans\",\"1086 Streptomyces hygroscopicus\"],[0.99566513,1.0,\"489 Spirochaeta thermophila\",\"1094 Nocardiopsis dassonvillei\"],[0.9765163,1.0,\"706 Rodentibacter pneumotropicus\",\"693 Haemophilus influenzae\"],[0.9761768,0.54,\"1716 Kocuria palustris\",\"1593 Rothia kristinae\"],[0.98118806,1.0,\"636 Collimonas pratensis\",\"752 Herbaspirillum seropedicae\"],[0.9273399,1.0,\"829 Kytococcus sedentarius\",\"1003 Schaalia odontolytica\"],[0.99398285,0.41609977324263037,\"1450 Treponema socranskii\",\"1400 Burkholderia pseudomallei\"],[0.9941222,1.0,\"494 Catabacter hongkongensis\",\"1275 Streptococcus constellatus\"],[0.99344856,1.0,\"1583 Sulfurimonas gotlandica\",\"1372 Arcobacter butzleri\"],[0.9888995,1.0,\"1229 Salinivibrio socompensis\",\"669 Vibrio cholerae\"],[0.9893584,0.9603068352695595,\"1365 Leptospira noguchii\",\"834 Staphylococcus epidermidis\"],[0.9960396,1.0,\"1727 Leptospirillum ferriphilum\",\"1466 Mesorhizobium plurifarium\"],[0.99712974,1.0,\"501 Candidatus Moranella endobia\",\"464 Buchnera aphidicola\"],[0.99265665,1.0,\"855 Oblitimonas alkaliphila\",\"634 Morganella morganii\"],[0.9796503,1.0,\"627 Shimwellia blattae\",\"1405 Cronobacter turicensis\"],[0.9743722,1.0,\"1414 Azospirillum thiophilum\",\"1466 Mesorhizobium plurifarium\"],[0.99469537,1.0,\"755 Saccharicrinis fermentans\",\"914 Bacillus thuringiensis\"],[0.98408306,0.9073318909822193,\"505 Campylobacter coli\",\"1261 Helicobacter pullorum\"],[0.99656945,1.0,\"1709 Ferrimicrobium acidiphilum\",\"575 Rhizobium leguminosarum\"],[0.9600985,0.9963269054178145,\"1153 Mannheimia haemolytica\",\"1748 Bibersteinia trehalosi\"],[0.9796193,0.8700562945964359,\"511 Helicobacter pylori\",\"600 Neisseria meningitidis\"],[0.99611765,1.0,\"1459 Hydrogenovibrio marinus\",\"1704 Acinetobacter gerneri\"],[0.94514495,1.0,\"1387 Achromobacter xylosoxidans\",\"606 Bordetella bronchiseptica\"],[0.9884257,1.0,\"941 Thermoanaerobacterium thermosaccharolyticum\",\"1512 Thermoanaerobacter thermocopriae\"],[0.9866526,0.6818181818181818,\"1238 Alteromonas mediterranea\",\"669 Vibrio cholerae\"],[0.8879187,0.9784971644612477,\"1470 Brucella intermedia\",\"610 Ochrobactrum anthropi\"],[0.98555666,0.5335169880624426,\"1694 Flavobacterium psychrophilum\",\"1521 Bacillus safensis\"],[0.97797745,1.0,\"1648 Parageobacillus toebii\",\"911 Geobacillus stearothermophilus\"],[0.99437946,1.0,\"1340 Francisella philomiragia\",\"935 Paeniclostridium sordellii\"],[0.97494483,1.0,\"1566 Paracoccus sanguinis\",\"771 Rhodobacter sphaeroides\"],[0.98535514,1.0,\"1868 Thermus oshimai\",\"540 Meiothermus ruber\"],[0.97474533,0.76,\"1518 Comamonas aquatica\",\"1847 Alicycliphilus denitrificans\"],[0.96939194,0.6867402685667023,\"546 Pseudomonas aeruginosa\",\"1387 Achromobacter xylosoxidans\"],[0.99767023,1.0,\"1162 Thermotoga neapolitana\",\"484 Pseudothermotoga hypogea\"],[0.9809359,1.0,\"1169 Thauera linaloolentis\",\"1649 Rubrivivax benzoatilyticus\"],[0.975658,1.0,\"1186 Roseomonas mucosa\",\"1103 Aurantimonas coralicida\"],[0.9904294,1.0,\"1673 Marinagarivorans algicola\",\"669 Vibrio cholerae\"],[0.9869974,1.0,\"740 Desulfocurvibacter africanus\",\"741 Desulfovibrio gigas\"],[0.97797745,1.0,\"911 Geobacillus stearothermophilus\",\"1648 Parageobacillus toebii\"],[0.9767677,1.0,\"550 Brevundimonas diminuta\",\"1398 Caulobacter henricii\"],[0.97050333,1.0,\"524 Hydrogenophaga intermedia\",\"1847 Alicycliphilus denitrificans\"],[0.97056776,1.0,\"687 Chania multitudinisentens\",\"1766 Serratia fonticola\"],[0.9944711,1.0,\"1166 Akkermansia muciniphila\",\"1094 Nocardiopsis dassonvillei\"],[0.9956932,1.0,\"1682 Sulfurospirillum cavolei\",\"511 Helicobacter pylori\"],[0.9943929,1.0,\"1167 Xylella fastidiosa\",\"1666 Stenotrophomonas acidaminiphila\"],[0.98072875,0.22263717322608445,\"976 Limosilactobacillus fermentum\",\"965 Lactiplantibacillus plantarum\"],[0.9939956,1.0,\"1168 Sporomusa ovata\",\"936 Clostridium sporogenes\"],[0.962195,0.7642666572744323,\"1815 Xanthomonas sacchari\",\"1309 Pseudoxanthomonas suwonensis\"],[0.9908654,1.0,\"761 Bergeyella zoohelcum\",\"1368 Capnocytophaga canimorsus\"],[0.9602677,0.4462809917355372,\"1581 Phocaeicola dorei\",\"1558 Bacteroides salyersiae\"],[0.99559724,1.0,\"757 Marinilabilia salmonicolor\",\"755 Saccharicrinis fermentans\"],[0.9714851,1.0,\"1171 Kutzneria albida\",\"1376 Amycolatopsis vancoresmycina\"],[0.9734181,1.0,\"566 Azotobacter vinelandii\",\"1138 Pseudomonas thermotolerans\"],[0.96971333,1.0,\"569 Agrobacterium tumefaciens\",\"1537 Rhizobium etli\"],[0.99495304,1.0,\"1173 Thermosipho africanus\",\"1512 Thermoanaerobacter thermocopriae\"],[0.9832098,1.0,\"1426 Terrisporobacter glycolicus\",\"935 Paeniclostridium sordellii\"],[0.9742743,1.0,\"942 Bradyrhizobium yuanmingense\",\"1466 Mesorhizobium plurifarium\"],[0.9768791,1.0,\"1643 Wenxinia marina\",\"1566 Paracoccus sanguinis\"],[0.9957272,1.0,\"1174 Teredinibacter turnerae\",\"1790 Herbaspirillum rubrisubalbicans\"],[0.9623865,0.8861340679522498,\"1537 Rhizobium etli\",\"573 Sinorhizobium fredii\"],[0.97209406,1.0,\"1224 Caballeronia zhejiangensis\",\"891 Paraburkholderia caribensis\"],[0.9928997,1.0,\"523 Propionimicrobium lymphophilum\",\"1849 Propionibacterium acidifaciens\"],[0.98304677,1.0,\"945 [Clostridium] innocuum\",\"1734 Faecalitalea cylindroides\"],[0.989938,1.0,\"1695 Caldibacillus debilis\",\"911 Geobacillus stearothermophilus\"],[0.96681434,1.0,\"1847 Alicycliphilus denitrificans\",\"1795 Acidovorax avenae\"],[0.98448545,1.0,\"1188 Anaerostipes hadrus\",\"1736 Dorea formicigenerans\"],[0.96247417,0.5,\"1826 Methylobacterium radiotolerans\",\"579 Methylorubrum extorquens\"],[0.97757477,1.0,\"807 Komagataeibacter europaeus\",\"808 Gluconacetobacter diazotrophicus\"],[0.9879025,1.0,\"580 Methylococcus capsulatus\",\"1327 Rubrivivax gelatinosus\"],[0.9801495,1.0,\"1471 Fulvimarina pelagi\",\"1103 Aurantimonas coralicida\"],[0.9944047,1.0,\"865 Methylobacter tundripaludum\",\"1943 Pseudomonas syringae subgroup 3\"],[0.9936314,1.0,\"1465 Lawsonella clevelandensis\",\"1508 Corynebacterium otitidis\"],[0.994416,0.625,\"1221 Pontibacillus marinus\",\"1934 Bacillus pumilus subgroup 1\"],[0.976356,0.37,\"582 Acetobacter aceti\",\"1821 Gluconobacter albidus\"],[0.9922009,1.0,\"1876 Oceanobacillus picturae\",\"926 Virgibacillus halodenitrificans\"],[0.9922009,1.0,\"926 Virgibacillus halodenitrificans\",\"1876 Oceanobacillus picturae\"],[0.9907763,1.0,\"1004 Trueperella pyogenes\",\"1097 Curtobacterium flaccumfaciens\"],[0.99229586,1.0,\"1142 Actinotignum schaalii\",\"1688 Actinobaculum massiliense\"],[0.976356,0.673469387755102,\"1821 Gluconobacter albidus\",\"582 Acetobacter aceti\"],[0.94732356,0.8934376798881609,\"1332 Legionella cherrii\",\"594 Fluoribacter dumoffii\"],[0.94732356,1.0,\"594 Fluoribacter dumoffii\",\"1332 Legionella cherrii\"],[0.99175096,1.0,\"593 Tatlockia micdadei\",\"591 Legionella pneumophila\"],[0.99150497,1.0,\"1184 Tetragenococcus halophilus\",\"878 Enterococcus faecium\"],[0.96542567,0.8573924506000895,\"1334 Acinetobacter lwoffii\",\"1424 Mycobacteroides abscessus\"],[0.99380076,1.0,\"597 Moraxella catarrhalis\",\"1436 Enhydrobacter aerosaccus\"],[0.95789886,1.0,\"931 Paraclostridium bifermentans\",\"935 Paeniclostridium sordellii\"],[0.9957806,1.0,\"513 Fannyhessea vaginae\",\"893 Atopobium minutum\"],[0.965453,0.9913850316897901,\"603 Neisseria elongata\",\"613 Eikenella corrodens\"],[0.995927,1.0,\"1262 Mariprofundus ferrooxydans\",\"1842 Stenotrophomonas maltophilia\"],[0.95789886,1.0,\"935 Paeniclostridium sordellii\",\"931 Paraclostridium bifermentans\"],[0.98859054,1.0,\"1396 Solobacterium moorei\",\"878 Enterococcus faecium\"],[0.96582,0.5,\"535 Peptoniphilus lacrimalis\",\"530 Anaerococcus lactolyticus\"],[0.99484736,1.0,\"1526 Psychrobacter phenylpyruvicus\",\"1436 Enhydrobacter aerosaccus\"],[0.9937436,1.0,\"691 Planomicrobium glaciei\",\"792 Geobacillus thermoleovorans\"],[0.9654817,0.355,\"785 Parabacteroides goldsteinii\",\"723 Bacteroides fragilis\"],[0.98715234,1.0,\"605 Alcaligenes faecalis\",\"546 Pseudomonas aeruginosa\"],[0.9863281,0.5,\"504 Mycoplasmopsis columbina\",\"1575 Mycoplasma meleagridis\"],[0.94514495,0.826307050329289,\"606 Bordetella bronchiseptica\",\"1387 Achromobacter xylosoxidans\"],[0.96990645,1.0,\"820 Finegoldia magna\",\"528 Anaerococcus hydrogenalis\"],[0.9887186,1.0,\"1336 Robbsia andropogonis\",\"1588 Burkholderia contaminans\"],[0.9826547,1.0,\"1514 Acidiphilium multivorum\",\"1466 Mesorhizobium plurifarium\"],[0.8879187,1.0,\"610 Ochrobactrum anthropi\",\"1470 Brucella intermedia\"],[0.9924237,1.0,\"1485 Ardenticatena maritima\",\"606 Bordetella bronchiseptica\"],[0.98846084,1.0,\"1492 Laribacter hongkongensis\",\"1387 Achromobacter xylosoxidans\"],[0.9838951,1.0,\"1677 Chromobacterium subtsugae\",\"1387 Achromobacter xylosoxidans\"],[0.965453,1.0,\"613 Eikenella corrodens\",\"603 Neisseria elongata\"],[0.99205416,1.0,\"614 Zymomonas mobilis\",\"1625 Sphingobium yanoikuyae\"],[0.99136025,1.0,\"902 Cytobacillus firmus\",\"924 Bacillus methanolicus\"],[0.9248329,0.6572222222222223,\"617 Citrobacter freundii\",\"1915 Enterobacter hormaechei subgroup 2\"],[0.97528654,1.0,\"1778 Pannonibacter phragmitetus\",\"1846 Tistrella mobilis\"],[0.99395084,0.5,\"1687 Alkalihalobacillus clausii\",\"1934 Bacillus pumilus subgroup 1\"],[0.9248329,0.9847337278106509,\"1915 Enterobacter hormaechei subgroup 2\",\"617 Citrobacter freundii\"],[0.9932146,1.0,\"1857 Neobacillus vireti\",\"902 Cytobacillus firmus\"],[0.99048406,1.0,\"1494 Varibaculum cambriense\",\"1105 Mobiluncus curtisii\"],[0.97261614,0.5537190082644629,\"1126 Erwinia billingiae\",\"619 Pantoea agglomerans\"],[0.98533815,1.0,\"629 Hafnia alvei\",\"1919 Enterobacter cloacae subgroup 2\"],[0.9876843,1.0,\"1496 Thalassobacter stenotrophicus\",\"1345 Phaeobacter gallaeciensis\"],[0.92821676,0.8683544790465205,\"631 Klebsiella pneumoniae\",\"1914 Enterobacter hormaechei subgroup 1\"],[0.9891247,1.0,\"1102 Pseudoleptotrichia goodfellowii\",\"1100 Leptotrichia hofstadii\"],[0.9795897,1.0,\"634 Morganella morganii\",\"631 Klebsiella pneumoniae\"],[0.96096545,1.0,\"635 Proteus mirabilis\",\"639 Providencia stuartii\"],[0.96096545,0.42592592592592593,\"639 Providencia stuartii\",\"635 Proteus mirabilis\"],[0.92634374,1.0,\"1460 Salmonella enterica\",\"1932 Escherichia coli subgroup 2\"],[0.98688364,1.0,\"531 Parvimonas micra\",\"1275 Streptococcus constellatus\"],[0.99571514,1.0,\"756 Pedobacter heparinus\",\"527 Sphingobacterium spiritivorum\"],[0.94122505,0.8427781727127078,\"643 Serratia marcescens\",\"1915 Enterobacter hormaechei subgroup 2\"],[0.9669298,1.0,\"1383 Verrucosispora maris\",\"1527 Salinispora arenicola\"],[0.9826457,1.0,\"649 Xenorhabdus nematophila\",\"781 Photorhabdus temperata\"],[0.96681434,0.625,\"1795 Acidovorax avenae\",\"1847 Alicycliphilus denitrificans\"],[0.9723371,0.9667991368901999,\"653 Yersinia pestis\",\"618 Klebsiella aerogenes\"],[0.9841382,1.0,\"1300 Edwardsiella anguillarum\",\"1458 Serratia rubidaea\"],[0.9779489,1.0,\"1183 Epibacterium mobile\",\"1700 Phaeobacter italicus\"],[0.9772901,1.0,\"658 Aeromonas salmonicida\",\"669 Vibrio cholerae\"],[0.96718717,1.0,\"1201 Gardnerella vaginalis\",\"598 Neisseria gonorrhoeae\"],[0.9493953,1.0,\"1574 Franconibacter helveticus\",\"1918 Enterobacter cloacae subgroup 1\"],[0.99121183,0.8828125,\"1780 Photobacterium iliopiscarium\",\"670 Aliivibrio fischeri\"],[0.9596689,0.3756940597106802,\"672 Vibrio parahaemolyticus\",\"1460 Salmonella enterica\"],[0.98304677,1.0,\"1734 Faecalitalea cylindroides\",\"945 [Clostridium] innocuum\"],[0.97707736,1.0,\"1756 Leucobacter chromiiresistens\",\"1783 Curtobacterium oceanosedimentum\"],[0.9731774,1.0,\"488 Aureimonas ureilytica\",\"1421 Aurantimonas manganoxydans\"],[0.99374825,1.0,\"1207 Jonquetella anthropi\",\"503 Azospirillum brasilense\"],[0.9945955,1.0,\"937 Thermoclostridium stercorarium\",\"940 Hungateiclostridium thermocellum\"],[0.9901627,1.0,\"1152 Hungateiclostridium clariflavum\",\"1512 Thermoanaerobacter thermocopriae\"],[0.9927606,1.0,\"1208 Marinobacter hydrocarbonoclasticus\",\"546 Pseudomonas aeruginosa\"],[0.9896964,1.0,\"1513 Jejuia pallidilutea\",\"1891 Algibacter lectus\"],[0.99157304,1.0,\"1493 Halomonas anticariensis\",\"1846 Tistrella mobilis\"],[0.9912374,0.6111111111111112,\"1210 Carnobacterium maltaromaticum\",\"877 Enterococcus faecalis\"],[0.9924541,1.0,\"684 Plesiomonas shigelloides\",\"1151 Edwardsiella ictaluri\"],[0.9686004,1.0,\"1466 Mesorhizobium plurifarium\",\"1537 Rhizobium etli\"],[0.993986,1.0,\"647 Moritella marina\",\"670 Aliivibrio fischeri\"],[0.9939459,1.0,\"1212 Brochothrix thermosphacta\",\"1896 Enterococcus moraviensis\"],[0.9771529,1.0,\"690 Actinobacillus suis\",\"1325 Mannheimia varigena\"],[0.97073233,0.8781065088757396,\"695 Haemophilus parainfluenzae\",\"698 Aggregatibacter aphrophilus\"],[0.98819256,1.0,\"1282 Altererythrobacter marensis\",\"544 Sphingopyxis terrae\"],[0.9747883,1.0,\"475 Sorangium cellulosum\",\"918 Streptomyces ruber\"],[0.9857713,1.0,\"1074 Anoxybacillus gonensis\",\"919 Geobacillus kaustophilus\"],[0.9852026,0.5,\"844 Sulfitobacter mediterraneus\",\"1438 Thalassobius mediterraneus\"],[0.9730617,1.0,\"704 Pasteurella multocida\",\"693 Haemophilus influenzae\"],[0.99516606,1.0,\"1292 Endozoicomonas montiporae\",\"1208 Marinobacter hydrocarbonoclasticus\"],[0.9669298,1.0,\"1527 Salinispora arenicola\",\"1383 Verrucosispora maris\"],[0.9973288,0.6143250688705234,\"749 Anaplasma phagocytophilum\",\"712 Ehrlichia ruminantium\"],[0.9716797,1.0,\"709 Glycomyces tenuis\",\"1090 Streptomyces viridochromogenes\"],[0.98104787,1.0,\"1785 Smaragdicoccus niigatensis\",\"1479 Nocardia seriolae\"],[0.99572325,0.9714532871972318,\"1810 Bartonella clarridgeiae\",\"1746 Candidatus Liberibacter americanus\"],[0.9971802,1.0,\"711 Coxiella burnetii\",\"885 Lactococcus lactis\"],[0.98726314,1.0,\"805 Rickettsia bellii\",\"1111 Mycoplasma arginini\"],[0.99520767,1.0,\"1674 Candidatus Profftella armatura\",\"1116 Mycoplasma hyopneumoniae\"],[0.98270047,1.0,\"1222 Ketogulonicigenium vulgare\",\"592 Paracoccus pantotrophus\"],[0.9935356,0.8016528925619835,\"1773 Veillonella atypica\",\"834 Staphylococcus epidermidis\"],[0.9877877,1.0,\"1874 Ruegeria atlantica\",\"1700 Phaeobacter italicus\"],[0.99465793,1.0,\"1545 Pelosinus fermentans\",\"1168 Sporomusa ovata\"],[0.9888597,1.0,\"1226 Olsenella uli\",\"782 Brevibacterium casei\"],[0.98375285,0.45953125,\"722 Chlamydia trachomatis\",\"1201 Gardnerella vaginalis\"],[0.9826457,1.0,\"781 Photorhabdus temperata\",\"649 Xenorhabdus nematophila\"],[0.9602677,0.39734375,\"1558 Bacteroides salyersiae\",\"1581 Phocaeicola dorei\"],[0.98532176,1.0,\"1730 Hungatella hathewayi\",\"938 [Clostridium] symbiosum\"],[0.96542567,1.0,\"1424 Mycobacteroides abscessus\",\"1334 Acinetobacter lwoffii\"],[0.99498093,1.0,\"1895 Bellilinea caldifistulae\",\"606 Bordetella bronchiseptica\"],[0.9963466,1.0,\"615 Leptolinea tardivitalis\",\"649 Xenorhabdus nematophila\"],[0.99472266,1.0,\"729 Butyrivibrio fibrisolvens\",\"588 Blautia wexlerae\"],[0.9957187,1.0,\"730 Fibrobacter succinogenes\",\"575 Rhizobium leguminosarum\"],[0.9873035,0.3646449704142012,\"732 Porphyromonas gingivalis\",\"1342 Tannerella forsythia\"],[0.9880597,0.1889868373384857,\"1232 Prevotella saccharolytica\",\"1484 Porphyromonas gulae\"],[0.996269,1.0,\"1862 Wohlfahrtiimonas chitiniclastica\",\"1714 Vibrio anguillarum\"],[0.9828629,1.0,\"570 Roseburia inulinivorans\",\"1736 Dorea formicigenerans\"],[0.987603,1.0,\"1835 Sanguibacteroides justesenii\",\"1558 Bacteroides salyersiae\"],[0.9881423,0.48319941563184804,\"734 Fusobacterium gonidiaformans\",\"821 Peptostreptococcus anaerobius\"],[0.992044,1.0,\"491 Brachyspira hyodysenteriae\",\"1426 Terrisporobacter glycolicus\"],[0.95303506,1.0,\"1231 Mycetocola saprophilus\",\"1088 Streptomyces rimosus\"],[0.995362,1.0,\"739 Dichelobacter nodosus\",\"604 Kingella kingae\"],[0.9869974,0.25925925925925924,\"741 Desulfovibrio gigas\",\"740 Desulfocurvibacter africanus\"],[0.99203926,1.0,\"1569 Rhodothermus marinus\",\"709 Glycomyces tenuis\"],[0.98861283,1.0,\"1305 Labrenzia alexandrii\",\"1778 Pannonibacter phragmitetus\"],[0.9866795,1.0,\"1197 Taylorella asinigenitalis\",\"843 Deinococcus radiodurans\"],[0.99379843,1.0,\"1784 Acidaminococcus intestini\",\"743 Megasphaera elsdenii\"],[0.9907752,1.0,\"1892 Mageeibacillus indolicus\",\"1644 Aerococcus christensenii\"],[0.9913442,1.0,\"743 Megasphaera elsdenii\",\"1466 Mesorhizobium plurifarium\"],[0.9817913,1.0,\"1710 Janthinobacterium agaricidamnosum\",\"752 Herbaspirillum seropedicae\"],[0.9943712,1.0,\"1654 Nonlabens ulvanivorans\",\"1228 Cellulophaga baltica\"],[0.97185916,1.0,\"1736 Dorea formicigenerans\",\"1606 [Ruminococcus] lactaris\"],[0.9333671,1.0,\"1589 Raoultella ornithinolytica\",\"630 Klebsiella oxytoca\"],[0.9901566,1.0,\"748 Ehrlichia chaffeensis\",\"1111 Mycoplasma arginini\"],[0.9965482,1.0,\"840 Wolbachia endosymbiont of Culex quinquefasciatus\",\"1134 Ureaplasma urealyticum\"],[0.9954811,1.0,\"750 Rhodonellum psychrophilum\",\"1934 Bacillus pumilus subgroup 1\"],[0.97879386,1.0,\"752 Herbaspirillum seropedicae\",\"1387 Achromobacter xylosoxidans\"],[0.98231363,1.0,\"703 Glaesserella parasuis\",\"1153 Mannheimia haemolytica\"],[0.9874062,0.8125,\"1767 Selenomonas bovis\",\"475 Sorangium cellulosum\"],[0.9961134,1.0,\"1246 Prolixibacter bellariivorans\",\"723 Bacteroides fragilis\"],[0.98711175,1.0,\"758 Candidatus Microthrix parvicella\",\"788 Amycolatopsis mediterranei\"],[0.98072875,0.9565711400075748,\"965 Lactiplantibacillus plantarum\",\"976 Limosilactobacillus fermentum\"],[0.9903173,1.0,\"1858 Thalassospira xiamenensis\",\"575 Rhizobium leguminosarum\"],[0.9932399,1.0,\"1587 Simiduia agarivorans\",\"1387 Achromobacter xylosoxidans\"],[0.9928792,1.0,\"1399 Arthrospira platensis\",\"1594 Planktothrix prolifica\"],[0.9887046,1.0,\"1265 Bilophila wadsworthia\",\"475 Sorangium cellulosum\"],[0.9908654,0.6088888888888889,\"1368 Capnocytophaga canimorsus\",\"761 Bergeyella zoohelcum\"],[0.99285716,1.0,\"1616 Agrilactobacillus composti\",\"1538 Lactobacillus parabuchneri\"],[0.99475104,1.0,\"884 Lactobacillus kunkeei\",\"976 Limosilactobacillus fermentum\"],[0.99197966,1.0,\"1822 Lactobacillus crustorum\",\"965 Lactiplantibacillus plantarum\"],[0.98591155,0.3472222222222222,\"1455 Lactobacillus lindneri\",\"1181 Pediococcus damnosus\"],[0.99384373,1.0,\"1005 Lactobacillus rossiae\",\"1279 Lactobacillus paraplantarum\"],[0.99461925,1.0,\"1836 Lactobacillus floricola\",\"983 Ligilactobacillus salivarius\"],[0.99135137,1.0,\"1679 Dialister micraerophilus\",\"535 Peptoniphilus lacrimalis\"],[0.98543954,1.0,\"1318 Lactobacillus curvatus\",\"1796 Lactobacillus acidipiscis\"],[0.98019725,0.4706994328922495,\"957 Lactobacillus brevis\",\"1609 Lactobacillus senmaizukei\"],[0.98543954,0.1704,\"1796 Lactobacillus acidipiscis\",\"1318 Lactobacillus curvatus\"],[0.9880152,0.34375,\"587 Liquorilactobacillus vini\",\"1604 Lactobacillus hokkaidonensis\"],[0.9820667,1.0,\"974 Lactobacillus coryniformis\",\"965 Lactiplantibacillus plantarum\"],[0.9880152,0.5,\"1604 Lactobacillus hokkaidonensis\",\"587 Liquorilactobacillus vini\"],[0.99304795,1.0,\"779 Lactobacillus harbinensis\",\"1742 Lactobacillus rhamnosus\"],[0.981632,0.4074074074074074,\"1449 Lactobacillus malefermentans\",\"1181 Pediococcus damnosus\"],[0.98587936,0.6678200692041523,\"1538 Lactobacillus parabuchneri\",\"1181 Pediococcus damnosus\"],[0.9840733,1.0,\"518 Winkia neuii\",\"1688 Actinobaculum massiliense\"],[0.9901667,1.0,\"1658 Erythrobacter marinus\",\"1282 Altererythrobacter marensis\"],[0.97942775,1.0,\"1065 Dietzia cinnamea\",\"1376 Amycolatopsis vancoresmycina\"],[0.96247417,1.0,\"579 Methylorubrum extorquens\",\"1826 Methylobacterium radiotolerans\"],[0.9938202,1.0,\"1270 Myroides odoratimimus\",\"943 Clostridium beijerinckii\"],[0.99138635,1.0,\"1594 Planktothrix prolifica\",\"784 Microcystis aeruginosa\"],[0.9816413,1.0,\"1273 Pandoraea pnomenusa\",\"1400 Burkholderia pseudomallei\"],[0.9840733,1.0,\"1688 Actinobaculum massiliense\",\"518 Winkia neuii\"],[0.98936945,1.0,\"769 Leminorella grimontii\",\"643 Serratia marcescens\"],[0.97494483,0.5078125,\"771 Rhodobacter sphaeroides\",\"1566 Paracoccus sanguinis\"],[0.99046105,1.0,\"772 Tatumella ptyseos\",\"619 Pantoea agglomerans\"],[0.96322274,1.0,\"1791 Streptacidiphilus albus\",\"1109 Kitasatospora setae\"],[0.9596024,0.3956602031394275,\"1742 Lactobacillus rhamnosus\",\"1879 Lactobacillus zeae\"],[0.9813592,1.0,\"776 Rhodospirillum rubrum\",\"503 Azospirillum brasilense\"],[0.96612275,1.0,\"1194 Lentzea aerocolonigenes\",\"788 Amycolatopsis mediterranei\"],[0.97311425,0.5,\"1137 Arenimonas composti\",\"1309 Pseudoxanthomonas suwonensis\"],[0.9852358,1.0,\"674 Grimontia hollisae\",\"1882 Enterovibrio norvegicus\"],[0.97258234,1.0,\"1301 Microbacterium oleivorans\",\"1097 Curtobacterium flaccumfaciens\"],[0.9867935,1.0,\"1307 Asticcacaulis benevestitus\",\"1466 Mesorhizobium plurifarium\"],[0.9914744,1.0,\"1690 Rathayibacter toxicus\",\"1783 Curtobacterium oceanosedimentum\"],[0.97810024,0.5,\"588 Blautia wexlerae\",\"1736 Dorea formicigenerans\"],[0.98687595,1.0,\"783 Chlorogloeopsis fritschii\",\"1605 Nodularia spumigena\"],[0.99583256,1.0,\"1809 Thalassolituus oleivorans\",\"635 Proteus mirabilis\"],[0.99138635,1.0,\"784 Microcystis aeruginosa\",\"1594 Planktothrix prolifica\"],[0.9964463,1.0,\"1834 Synechococcus elongatus\",\"892 Methyloversatilis universalis\"],[0.9859037,1.0,\"1281 Moellerella wisconsensis\",\"639 Providencia stuartii\"],[0.9580058,1.0,\"1264 Trabulsiella odontotermitis\",\"1288 Yokenella regensburgei\"],[0.9635912,0.26038781163434904,\"1047 Mycolicibacterium phlei\",\"1042 Mycobacterium avium\"],[0.9952,1.0,\"1172 Candidatus Phytoplasma australiense\",\"1121 Mycoplasma mycoides\"],[0.97073233,1.0,\"698 Aggregatibacter aphrophilus\",\"695 Haemophilus parainfluenzae\"],[0.9329486,1.0,\"794 Aphanizomenon flos-aquae\",\"1213 Dolichospermum circinale\"],[0.9580058,1.0,\"1288 Yokenella regensburgei\",\"1264 Trabulsiella odontotermitis\"],[0.9839599,1.0,\"1141 Mesoplasma florum\",\"1148 Mycoplasma yeatsii\"],[0.9931591,0.8512396694214877,\"548 Acidithiobacillus caldus\",\"1414 Azospirillum thiophilum\"],[0.9963547,1.0,\"1413 Thermacetogenium phaeum\",\"1152 Hungateiclostridium clariflavum\"],[0.99299556,1.0,\"814 Oenococcus oeni\",\"885 Lactococcus lactis\"],[0.8679434,0.23875432525951557,\"978 Weissella halotolerans\",\"817 Pediococcus pentosaceus\"],[0.99222153,1.0,\"801 Melissococcus plutonius\",\"1896 Enterococcus moraviensis\"],[0.98846835,1.0,\"1295 Pseudorhodobacter ferrugineus\",\"770 Rhodobacter capsulatus\"],[0.99406457,0.4934601664684899,\"1901 Prochlorococcus marinus subgroup 1\",\"1372 Arcobacter butzleri\"],[0.9911097,0.9444444444444444,\"950 Exiguobacterium chiriqhucha\",\"782 Brevibacterium casei\"],[0.98166865,1.0,\"1820 Oligotropha carboxidovorans\",\"942 Bradyrhizobium yuanmingense\"],[0.9968702,1.0,\"809 Nitrosococcus oceani\",\"778 Pseudomonas balearica\"],[0.9943316,1.0,\"810 Piscirickettsia salmonis\",\"1932 Escherichia coli subgroup 2\"],[0.97580457,1.0,\"1255 Rhodovulum sulfidophilum\",\"592 Paracoccus pantotrophus\"],[0.98800653,0.19452706722189173,\"1452 Paenibacillus mucilaginosus\",\"1093 Streptosporangium roseum\"],[0.99048144,0.9310344827586207,\"812 Leuconostoc mesenteroides\",\"819 Weissella koreensis\"],[0.9329486,1.0,\"1213 Dolichospermum circinale\",\"794 Aphanizomenon flos-aquae\"],[0.99572325,0.889273356401384,\"1746 Candidatus Liberibacter americanus\",\"1810 Bartonella clarridgeiae\"],[0.9950412,1.0,\"946 Moorella thermoacetica\",\"788 Amycolatopsis mediterranei\"],[0.8679434,0.2896,\"817 Pediococcus pentosaceus\",\"978 Weissella halotolerans\"],[0.9871064,1.0,\"1824 Singulisphaera acidiphila\",\"475 Sorangium cellulosum\"],[0.98585445,1.0,\"821 Peptostreptococcus anaerobius\",\"857 Streptococcus agalactiae\"],[0.99520147,0.5555555555555556,\"1759 Ruminococcus champanellensis\",\"1683 Flavonifractor plautii\"],[0.9785031,1.0,\"825 Micrococcus luteus\",\"859 Streptococcus pneumoniae\"],[0.98011166,1.0,\"826 Rahnella aquatilis\",\"774 Serratia plymuthica\"],[0.98532176,0.5,\"938 [Clostridium] symbiosum\",\"1730 Hungatella hathewayi\"],[0.98938143,0.7688888888888888,\"1678 Lysinibacillus odysseyi\",\"1274 Solibacillus silvestris\"],[0.84476537,0.8559163524564469,\"834 Staphylococcus epidermidis\",\"1931 Escherichia coli subgroup 1\"],[0.9804581,1.0,\"1829 Dickeya dianthicola\",\"702 Pectobacterium brasiliense\"],[0.9723962,0.9996586688746754,\"1617 Burkholderia cenocepacia\",\"1224 Caballeronia zhejiangensis\"],[0.9868017,1.0,\"1689 Facklamia hominis\",\"663 Streptococcus pseudoporcinus\"],[0.9923576,1.0,\"1157 Rhodopirellula europaea\",\"1389 Bradyrhizobium diazoefficiens\"],[0.9866795,1.0,\"843 Deinococcus radiodurans\",\"1197 Taylorella asinigenitalis\"],[0.9392439,0.5886004642351025,\"859 Streptococcus pneumoniae\",\"839 Staphylococcus warneri\"],[0.9919959,1.0,\"846 Kordiimonas gwangyangensis\",\"1778 Pannonibacter phragmitetus\"],[0.9720659,1.0,\"1845 Variovorax paradoxus\",\"1327 Rubrivivax gelatinosus\"],[0.9915658,1.0,\"861 Riemerella anatipestifer\",\"761 Bergeyella zoohelcum\"],[0.995321,1.0,\"1884 Dysgonomonas mossii\",\"930 Clostridium butyricum\"],[0.99100614,1.0,\"932 Ruminiclostridium josui\",\"1152 Hungateiclostridium clariflavum\"],[0.99449116,1.0,\"1850 Glaciecola pallidula\",\"1782 Paraglaciecola psychrophila\"],[0.9891247,1.0,\"1100 Leptotrichia hofstadii\",\"1102 Pseudoleptotrichia goodfellowii\"],[0.98300225,0.4551986475063398,\"877 Enterococcus faecalis\",\"857 Streptococcus agalactiae\"],[0.9874135,0.7893827160493827,\"887 Lactococcus garvieae\",\"878 Enterococcus faecium\"],[0.9828875,1.0,\"1684 Lonsdalea quercina\",\"1828 Dickeya dadantii\"],[0.9928952,1.0,\"886 Lachnobacterium bovis\",\"1324 Lachnospira multipara\"],[0.99339795,1.0,\"888 Crocosphaera watsonii\",\"784 Microcystis aeruginosa\"],[0.98679173,0.38,\"1644 Aerococcus christensenii\",\"562 Lactobacillus iners\"],[0.9796412,1.0,\"1620 Methyloversatilis discipulorum\",\"1327 Rubrivivax gelatinosus\"],[0.9939551,1.0,\"1149 Gemella sanguinis\",\"951 Clostridium novyi\"],[0.99169374,1.0,\"893 Atopobium minutum\",\"878 Enterococcus faecium\"],[0.9431743,0.29259699652089666,\"912 Bacillus subtilis\",\"817 Pediococcus pentosaceus\"],[0.9873035,1.0,\"1342 Tannerella forsythia\",\"732 Porphyromonas gingivalis\"],[0.9600985,1.0,\"1748 Bibersteinia trehalosi\",\"1153 Mannheimia haemolytica\"],[0.9361022,1.0,\"1457 Pluralibacter gergoviae\",\"631 Klebsiella pneumoniae\"],[0.9507273,1.0,\"1595 Kosakonia radicincitans\",\"617 Citrobacter freundii\"],[0.9669876,0.5625,\"1590 Sphingomonas wittichii\",\"1625 Sphingobium yanoikuyae\"],[0.98641086,1.0,\"1564 Borreliella garinii\",\"482 Borrelia hermsii\"],[0.99638176,1.0,\"1314 Sulfobacillus thermosulfidooxidans\",\"575 Rhizobium leguminosarum\"],[0.96335757,0.972943829036369,\"1666 Stenotrophomonas acidaminiphila\",\"1309 Pseudoxanthomonas suwonensis\"],[0.9928952,1.0,\"1324 Lachnospira multipara\",\"886 Lachnobacterium bovis\"],[0.9917506,1.0,\"1692 Eremococcus coleocola\",\"1689 Facklamia hominis\"],[0.9779489,1.0,\"1700 Phaeobacter italicus\",\"1183 Epibacterium mobile\"],[0.9795422,1.0,\"1037 Acidipropionibacterium acidipropionici\",\"520 Cutibacterium avidum\"],[0.9795422,0.9662809917355372,\"520 Cutibacterium avidum\",\"1037 Acidipropionibacterium acidipropionici\"],[0.98714495,1.0,\"1038 Pseudopropionibacterium propionicum\",\"1061 Streptomyces californicus\"],[0.9867501,1.0,\"1823 Eggerthia catenaformis\",\"1147 Oribacterium parvum\"],[0.993785,1.0,\"987 Kandleria vitulina\",\"1823 Eggerthia catenaformis\"],[0.9720659,1.0,\"1327 Rubrivivax gelatinosus\",\"1845 Variovorax paradoxus\"],[0.9804581,1.0,\"702 Pectobacterium brasiliense\",\"1829 Dickeya dianthicola\"],[0.9737221,1.0,\"1846 Tistrella mobilis\",\"1387 Achromobacter xylosoxidans\"],[0.9952994,0.5,\"1638 Pseudothermotoga elfii\",\"1173 Thermosipho africanus\"],[0.9954064,1.0,\"464 Buchnera aphidicola\",\"735 Fusobacterium nucleatum\"],[0.9623865,1.0,\"573 Sinorhizobium fredii\",\"1537 Rhizobium etli\"],[0.9859606,0.23914322125281834,\"1122 Clostridium haemolyticum\",\"897 Bacillus anthracis\"],[0.9761768,0.39100346020761245,\"1593 Rothia kristinae\",\"1716 Kocuria palustris\"],[0.9827276,1.0,\"1605 Nodularia spumigena\",\"794 Aphanizomenon flos-aquae\"],[0.9905703,1.0,\"1851 Salinibacter ruber\",\"1254 Streptomyces albulus\"],[0.97757477,1.0,\"808 Gluconacetobacter diazotrophicus\",\"807 Komagataeibacter europaeus\"],[0.99468535,1.0,\"707 Scardovia wiggsiae\",\"1473 Parascardovia denticolens\"],[0.9917649,1.0,\"1473 Parascardovia denticolens\",\"1015 Bifidobacterium indicum\"],[0.9918499,1.0,\"604 Kingella kingae\",\"1335 Neisseria weaveri\"],[0.99496555,1.0,\"1163 Candidatus Protochlamydia amoebophila\",\"989 Parachlamydia acanthamoebae\"],[0.9970431,1.0,\"954 Desulfotomaculum nigrificans\",\"902 Cytobacillus firmus\"],[0.99555504,1.0,\"1859 Tepidanaerobacter acetatoxydans\",\"933 Clostridium pasteurianum\"],[0.99449116,1.0,\"1782 Paraglaciecola psychrophila\",\"1850 Glaciecola pallidula\"],[0.9919939,1.0,\"1372 Arcobacter butzleri\",\"1906 Clostridium botulinum subgroup 2\"],[0.9596024,0.122008840115836,\"1879 Lactobacillus zeae\",\"1742 Lactobacillus rhamnosus\"],[0.9961296,1.0,\"474 Snodgrassella alvi\",\"603 Neisseria elongata\"],[0.98204195,1.0,\"1276 Rhodanobacter denitrificans\",\"1110 Dyella japonica\"],[0.9896149,1.0,\"1215 Geobacter sulfurreducens\",\"1093 Streptosporangium roseum\"],[0.97600365,1.0,\"1464 Tepidimonas taiwanensis\",\"1649 Rubrivivax benzoatilyticus\"],[0.98580325,1.0,\"1381 Enterocloster bolteae\",\"1730 Hungatella hathewayi\"],[0.9940673,1.0,\"532 Lachnoanaerobaculum saburreum\",\"531 Parvimonas micra\"],[0.99061275,1.0,\"1380 Ornithobacterium rhinotracheale\",\"1347 Prevotella bivia\"],[0.99496555,1.0,\"989 Parachlamydia acanthamoebae\",\"1163 Candidatus Protochlamydia amoebophila\"],[0.98938143,1.0,\"1274 Solibacillus silvestris\",\"1678 Lysinibacillus odysseyi\"],[0.9940454,1.0,\"1865 Sutterella wadsworthensis\",\"575 Rhizobium leguminosarum\"],[0.9867781,0.9709494696422979,\"999 Listeria monocytogenes\",\"832 Staphylococcus aureus\"],[0.99527895,1.0,\"1446 Thermodesulfovibrio aggregans\",\"738 Fusobacterium ulcerans\"],[0.99439186,1.0,\"1001 Candidatus Pelagibacter ubique\",\"1121 Mycoplasma mycoides\"],[0.99667335,1.0,\"920 Candidatus Ruthia magnifica\",\"936 Clostridium sporogenes\"],[0.9829042,1.0,\"1002 Erysipelothrix rhusiopathiae\",\"1134 Ureaplasma urealyticum\"],[0.98112535,0.68,\"1408 Actinomyces oris\",\"1849 Propionibacterium acidifaciens\"],[0.96549755,1.0,\"577 Neorhizobium galegae\",\"575 Rhizobium leguminosarum\"],[0.9931908,1.0,\"1339 Elizabethkingia anophelis\",\"527 Sphingobacterium spiritivorum\"],[0.9745858,1.0,\"694 Avibacterium paragallinarum\",\"705 Gallibacterium anatis\"],[0.97562987,0.2795225552137634,\"1393 Bifidobacterium longum\",\"860 Streptococcus pyogenes\"],[0.9923591,1.0,\"1769 Candidatus Hamiltonella defensa\",\"1771 Candidatus Regiella insecticola\"],[0.9923591,1.0,\"1771 Candidatus Regiella insecticola\",\"1769 Candidatus Hamiltonella defensa\"],[0.97493565,1.0,\"782 Brevibacterium casei\",\"709 Glycomyces tenuis\"],[0.962195,1.0,\"1309 Pseudoxanthomonas suwonensis\",\"1815 Xanthomonas sacchari\"],[0.98550075,1.0,\"1500 Granulicoccus phenolivorans\",\"1086 Streptomyces hygroscopicus\"],[0.9766361,0.1610976454293629,\"1508 Corynebacterium otitidis\",\"637 Demequina rhizosphaerae\"],[0.9659331,1.0,\"1050 Caldanaerobacter subterraneus\",\"1039 Thermoanaerobacter ethanolicus\"],[0.9905387,1.0,\"1793 Aliivibrio wodanis\",\"1768 Vibrio cyclitrophicus\"],[0.9896964,1.0,\"1891 Algibacter lectus\",\"1513 Jejuia pallidilutea\"],[0.9399254,1.0,\"1032 Leclercia adecarboxylata\",\"1915 Enterobacter hormaechei subgroup 2\"],[0.9928368,1.0,\"1034 Thermodesulfobacterium commune\",\"1932 Escherichia coli subgroup 2\"],[0.9768868,0.8528,\"1849 Propionibacterium acidifaciens\",\"709 Glycomyces tenuis\"],[0.9659331,1.0,\"1039 Thermoanaerobacter ethanolicus\",\"1050 Caldanaerobacter subterraneus\"],[0.97871834,1.0,\"1095 Thermobifida fusca\",\"1094 Nocardiopsis dassonvillei\"],[0.9635912,0.9273431783766745,\"1042 Mycobacterium avium\",\"1047 Mycolicibacterium phlei\"],[0.9852358,1.0,\"1882 Enterovibrio norvegicus\",\"674 Grimontia hollisae\"],[0.97185916,0.52,\"1606 [Ruminococcus] lactaris\",\"1736 Dorea formicigenerans\"],[0.9867501,1.0,\"1147 Oribacterium parvum\",\"1823 Eggerthia catenaformis\"],[0.97209406,0.5502958579881657,\"891 Paraburkholderia caribensis\",\"1224 Caballeronia zhejiangensis\"],[0.9973115,1.0,\"864 Methylacidiphilum fumariolicum\",\"738 Fusobacterium ulcerans\"],[0.9629976,1.0,\"1294 Intestinimonas butyriciproducens\",\"1683 Flavonifractor plautii\"],[0.96612275,0.9444444444444444,\"788 Amycolatopsis mediterranei\",\"1194 Lentzea aerocolonigenes\"],[0.9741991,0.7229916897506925,\"1063 Nocardia otitidiscaviarum\",\"788 Amycolatopsis mediterranei\"],[0.96388274,0.3044889129259059,\"1757 Rhodococcus qingshengii\",\"1932 Escherichia coli subgroup 2\"],[0.9931908,1.0,\"527 Sphingobacterium spiritivorum\",\"1339 Elizabethkingia anophelis\"],[0.9948511,1.0,\"1724 Aneurinibacillus migulanus\",\"906 Bacillus mycoides\"],[0.98733425,0.41836734693877553,\"1092 Brevibacillus agri\",\"617 Citrobacter freundii\"],[0.96857333,0.52,\"1068 Saccharopolyspora erythraea\",\"1376 Amycolatopsis vancoresmycina\"],[0.99231154,1.0,\"1436 Enhydrobacter aerosaccus\",\"1316 Acinetobacter parvus\"],[0.9531402,0.9444897959183673,\"1360 Cronobacter sakazakii\",\"1574 Franconibacter helveticus\"],[0.97323775,1.0,\"468 Saccharomonospora azurea\",\"1060 Amycolatopsis methanolica\"],[0.9669876,0.9822222222222222,\"1625 Sphingobium yanoikuyae\",\"1590 Sphingomonas wittichii\"],[0.9798049,0.5555555555555556,\"1883 Novosphingobium subterraneum\",\"1625 Sphingobium yanoikuyae\"],[0.97129947,1.0,\"544 Sphingopyxis terrae\",\"1602 Sphingomonas melonis\"],[0.9935315,1.0,\"754 Cellulophaga lytica\",\"1891 Algibacter lectus\"],[0.8617246,0.08905080933052961,\"1206 Streptomyces pyridomyceticus\",\"1079 Kitasatospora aureofaciens\"],[0.9945777,1.0,\"716 Orientia tsutsugamushi\",\"953 Clostridium baratii\"],[0.9745858,1.0,\"705 Gallibacterium anatis\",\"694 Avibacterium paragallinarum\"],[0.99209505,1.0,\"1415 Granulibacter bethesdensis\",\"807 Komagataeibacter europaeus\"],[0.9761846,1.0,\"697 Histophilus somni\",\"704 Pasteurella multocida\"],[0.989651,1.0,\"1416 Dermabacter hominis\",\"782 Brevibacterium casei\"],[0.9934803,1.0,\"1263 Pseudobacteroides cellulosolvens\",\"1418 Clostridium saccharoperbutylacetonicum\"],[0.9830298,1.0,\"775 Blastochloris viridis\",\"579 Methylorubrum extorquens\"],[0.96582,0.3333333333333333,\"530 Anaerococcus lactolyticus\",\"535 Peptoniphilus lacrimalis\"],[0.9757976,1.0,\"637 Demequina rhizosphaerae\",\"709 Glycomyces tenuis\"],[0.969,1.0,\"1093 Streptosporangium roseum\",\"1088 Streptomyces rimosus\"],[0.9745784,1.0,\"1894 Actinoalloteichus cyanogriseus\",\"1376 Amycolatopsis vancoresmycina\"],[0.97023374,1.0,\"1094 Nocardiopsis dassonvillei\",\"1076 Streptomyces albus\"],[0.97258234,1.0,\"1097 Curtobacterium flaccumfaciens\",\"1301 Microbacterium oleivorans\"],[0.99601,1.0,\"1686 Waddlia chondrophila\",\"989 Parachlamydia acanthamoebae\"],[0.9934331,1.0,\"502 Desulfitobacterium hafniense\",\"1294 Intestinimonas butyriciproducens\"],[0.99749374,1.0,\"1099 Tropheryma whipplei\",\"1123 Mycoplasma leachii\"],[0.9972777,1.0,\"1428 Dehalococcoides mccartyi\",\"1204 Rothia mucilaginosa\"],[0.9731774,1.0,\"1421 Aurantimonas manganoxydans\",\"488 Aureimonas ureilytica\"],[0.9944332,0.9944598337950139,\"1787 Pseudoalteromonas porphyrae\",\"666 Photobacterium angustum\"],[0.9621496,1.0,\"966 Lacticaseibacillus paracasei\",\"1879 Lactobacillus zeae\"],[0.84476537,0.985538668767516,\"1931 Escherichia coli subgroup 1\",\"834 Staphylococcus epidermidis\"],[0.81874716,1.0,\"1932 Escherichia coli subgroup 2\",\"628 Escherichia fergusonii\"]],\"text\":[\"1 Mobiluncus\",\"2 Gordonia\",\"3 Meiothermus\",\"4 Kitasatospora\",\"5 Shewanella\",\"6 Sporolactobacillus\",\"7 Dyella\",\"8 Myxococcus\",\"9 Stigmatella\",\"10 Mycoplasma\",\"11 Candidatus Portiera\",\"12 Thalassobius\",\"13 Flavonifractor\",\"14 Lysobacter\",\"15 Fructobacillus\",\"16 Caulobacter\",\"17 Jeotgalibaca\",\"18 Ureaplasma\",\"19 Spiroplasma\",\"20 Pantoea\",\"21 Cupriavidus\",\"22 Nitratireductor\",\"23 Schaalia\",\"24 Oligella\",\"25 Borrelia\",\"26 Richelia\",\"27 Eggerthella\",\"28 Paenarthrobacter\",\"29 Spirochaeta\",\"30 Rodentibacter\",\"31 Kocuria\",\"32 Collimonas\",\"33 Kytococcus\",\"34 Treponema\",\"35 Catabacter\",\"36 Sulfurimonas\",\"37 Salinivibrio\",\"38 Leptospira\",\"39 Leptospirillum\",\"40 Candidatus Moranella\",\"41 Oblitimonas\",\"42 Shimwellia\",\"43 Azospirillum\",\"44 Saccharicrinis\",\"45 Campylobacter\",\"46 Ferrimicrobium\",\"47 Mannheimia\",\"48 Helicobacter\",\"49 Hydrogenovibrio\",\"50 Achromobacter\",\"51 Thermoanaerobacterium\",\"52 Alteromonas\",\"53 Brucella\",\"54 Flavobacterium\",\"55 Parageobacillus\",\"57 Francisella\",\"58 Paracoccus\",\"59 Thermus\",\"60 Comamonas\",\"61 Pseudomonas\",\"63 Thermotoga\",\"64 Thauera\",\"65 Roseomonas\",\"66 Marinagarivorans\",\"67 Desulfocurvibacter\",\"68 Geobacillus\",\"69 Brevundimonas\",\"70 Hydrogenophaga\",\"71 Chania\",\"72 Akkermansia\",\"73 Sulfurospirillum\",\"74 Xylella\",\"75 Limosilactobacillus\",\"76 Sporomusa\",\"77 Xanthomonas\",\"79 Bergeyella\",\"80 Phocaeicola\",\"81 Marinilabilia\",\"82 Kutzneria\",\"83 Azotobacter\",\"84 Agrobacterium\",\"85 Thermosipho\",\"86 Terrisporobacter\",\"87 Bradyrhizobium\",\"88 Wenxinia\",\"89 Teredinibacter\",\"90 Rhizobium\",\"91 Caballeronia\",\"92 Propionimicrobium\",\"93 Erysipelatoclostridium\",\"94 Caldibacillus\",\"95 Alicycliphilus\",\"96 Anaerostipes\",\"97 Methylobacterium\",\"99 Komagataeibacter\",\"100 Methylococcus\",\"101 Fulvimarina\",\"102 Methylobacter\",\"103 Lawsonella\",\"104 Pontibacillus\",\"105 Acetobacter\",\"106 Oceanobacillus\",\"107 Virgibacillus\",\"108 Trueperella\",\"109 Actinotignum\",\"110 Gluconobacter\",\"111 Legionella\",\"112 Fluoribacter\",\"113 Tatlockia\",\"114 Tetragenococcus\",\"115 Acinetobacter\",\"116 Moraxella\",\"117 Paraclostridium\",\"118 Fannyhessea\",\"119 Neisseria\",\"120 Mariprofundus\",\"121 Paeniclostridium\",\"122 Solobacterium\",\"123 Peptoniphilus\",\"124 Psychrobacter\",\"125 Planomicrobium\",\"126 Parabacteroides\",\"128 Alcaligenes\",\"129 Mycoplasmopsis\",\"130 Bordetella\",\"131 Finegoldia\",\"132 Robbsia\",\"133 Acidiphilium\",\"134 Ochrobactrum\",\"135 Ardenticatena\",\"136 Laribacter\",\"137 Chromobacterium\",\"138 Eikenella\",\"139 Zymomonas\",\"140 Cytobacillus\",\"142 Citrobacter\",\"143 Pannonibacter\",\"144 Alkalihalobacillus\",\"145 Enterobacter\",\"146 Neobacillus\",\"147 Varibaculum\",\"148 Erwinia\",\"150 Hafnia\",\"151 Thalassobacter\",\"152 Klebsiella\",\"153 Pseudoleptotrichia\",\"154 Morganella\",\"155 Proteus\",\"156 Providencia\",\"157 Salmonella\",\"158 Parvimonas\",\"159 Pedobacter\",\"160 Serratia\",\"162 Verrucosispora\",\"163 Xenorhabdus\",\"164 Acidovorax\",\"165 Yersinia\",\"166 Edwardsiella\",\"167 Epibacterium\",\"168 Aeromonas\",\"169 Gardnerella\",\"170 Franconibacter\",\"171 Photobacterium\",\"172 Vibrio\",\"173 Faecalitalea\",\"174 Leucobacter\",\"175 Aureimonas\",\"176 Jonquetella\",\"177 Thermoclostridium\",\"178 Hungateiclostridium\",\"179 Marinobacter\",\"180 Jejuia\",\"181 Halomonas\",\"182 Carnobacterium\",\"183 Plesiomonas\",\"184 Mesorhizobium\",\"185 Moritella\",\"186 Brochothrix\",\"187 Actinobacillus\",\"188 Haemophilus\",\"189 Altererythrobacter\",\"190 Sorangium\",\"191 Anoxybacillus\",\"192 Sulfitobacter\",\"193 Pasteurella\",\"194 Endozoicomonas\",\"196 Salinispora\",\"197 Anaplasma\",\"198 Glycomyces\",\"199 Smaragdicoccus\",\"200 Bartonella\",\"201 Coxiella\",\"202 Rickettsia\",\"203 Candidatus Profftella\",\"204 Ketogulonicigenium\",\"205 Veillonella\",\"206 Ruegeria\",\"207 Pelosinus\",\"208 Olsenella\",\"209 Chlamydia\",\"210 Photorhabdus\",\"211 Bacteroides\",\"212 Hungatella\",\"213 Mycobacteroides\",\"214 Bellilinea\",\"215 Leptolinea\",\"216 Butyrivibrio\",\"217 Fibrobacter\",\"218 Porphyromonas\",\"219 Prevotella\",\"220 Wohlfahrtiimonas\",\"221 Roseburia\",\"222 Sanguibacteroides\",\"223 Fusobacterium\",\"224 Brachyspira\",\"225 Mycetocola\",\"226 Dichelobacter\",\"227 Desulfovibrio\",\"228 Rhodothermus\",\"229 Labrenzia\",\"230 Taylorella\",\"231 Acidaminococcus\",\"232 Mageeibacillus\",\"233 Megasphaera\",\"234 Janthinobacterium\",\"235 Nonlabens\",\"236 Dorea\",\"237 Raoultella\",\"239 Ehrlichia\",\"240 Wolbachia\",\"241 Rhodonellum\",\"242 Herbaspirillum\",\"243 Glaesserella\",\"244 Selenomonas\",\"245 Prolixibacter\",\"246 Candidatus Microthrix\",\"247 Lactiplantibacillus\",\"248 Thalassospira\",\"249 Simiduia\",\"250 Arthrospira\",\"251 Bilophila\",\"252 Capnocytophaga\",\"253 Agrilactobacillus\",\"254 Apilactobacillus\",\"255 Companilactobacillus\",\"256 Fructilactobacillus\",\"257 Furfurilactobacillus\",\"258 Holzapfelia\",\"259 Dialister\",\"260 Latilactobacillus\",\"261 Levilactobacillus\",\"262 Ligilactobacillus\",\"263 Liquorilactobacillus\",\"264 Loigolactobacillus\",\"265 Paucilactobacillus\",\"266 Schleiferilactobacillus\",\"267 Secundilactobacillus\",\"268 Lentilactobacillus\",\"269 Winkia\",\"270 Erythrobacter\",\"271 Dietzia\",\"272 Methylorubrum\",\"273 Myroides\",\"274 Planktothrix\",\"275 Pandoraea\",\"276 Actinobaculum\",\"277 Leminorella\",\"278 Rhodobacter\",\"279 Tatumella\",\"280 Streptacidiphilus\",\"281 Lacticaseibacillus\",\"282 Rhodospirillum\",\"283 Lechevalieria\",\"284 Arenimonas\",\"285 Grimontia\",\"286 Microbacterium\",\"287 Asticcacaulis\",\"288 Rathayibacter\",\"289 Blautia\",\"290 Chlorogloeopsis\",\"291 Thalassolituus\",\"292 Microcystis\",\"293 Synechococcus\",\"294 Moellerella\",\"295 Trabulsiella\",\"296 Mycolicibacterium\",\"297 Candidatus Phytoplasma\",\"298 Aggregatibacter\",\"299 Aphanizomenon\",\"300 Yokenella\",\"301 Mesoplasma\",\"302 Acidithiobacillus\",\"303 Thermacetogenium\",\"304 Oenococcus\",\"305 Weissella\",\"306 Melissococcus\",\"307 Pseudorhodobacter\",\"308 Prochlorococcus\",\"309 Exiguobacterium\",\"310 Oligotropha\",\"311 Nitrosococcus\",\"312 Piscirickettsia\",\"313 Rhodovulum\",\"314 Paenibacillus\",\"315 Leuconostoc\",\"316 Dolichospermum\",\"317 Liberibacter\",\"318 Moorella\",\"319 Pediococcus\",\"320 Singulisphaera\",\"321 Peptostreptococcus\",\"322 Ruminococcus\",\"323 Micrococcus\",\"324 Rahnella\",\"325 Lachnoclostridium\",\"326 Lysinibacillus\",\"327 Staphylococcus\",\"328 Dickeya\",\"329 Burkholderia\",\"330 Facklamia\",\"331 Rhodopirellula\",\"332 Deinococcus\",\"333 Streptococcus\",\"334 Kordiimonas\",\"335 Variovorax\",\"336 Riemerella\",\"337 Dysgonomonas\",\"338 Ruminiclostridium\",\"339 Glaciecola\",\"340 Leptotrichia\",\"341 Enterococcus\",\"342 Lactococcus\",\"343 Lonsdalea\",\"344 Lachnobacterium\",\"345 Crocosphaera\",\"346 Aerococcus\",\"347 Methyloversatilis\",\"348 Gemella\",\"349 Atopobium\",\"350 Bacillus\",\"351 Tannerella\",\"352 Bibersteinia\",\"353 Pluralibacter\",\"354 Kosakonia\",\"355 Sphingomonas\",\"356 Borreliella\",\"357 Sulfobacillus\",\"358 Stenotrophomonas\",\"359 Lachnospira\",\"360 Eremococcus\",\"361 Phaeobacter\",\"362 Acidipropionibacterium\",\"363 Cutibacterium\",\"364 Pseudopropionibacterium\",\"365 Eggerthia\",\"366 Kandleria\",\"367 Rubrivivax\",\"368 Pectobacterium\",\"369 Tistrella\",\"370 Pseudothermotoga\",\"371 Buchnera\",\"372 Sinorhizobium\",\"373 Clostridium\",\"374 Rothia\",\"375 Nodularia\",\"376 Salinibacter\",\"377 Gluconacetobacter\",\"378 Scardovia\",\"379 Parascardovia\",\"380 Kingella\",\"381 Candidatus Protochlamydia\",\"382 Desulfotomaculum\",\"383 Tepidanaerobacter\",\"384 Paraglaciecola\",\"385 Arcobacter\",\"386 Lactobacillus\",\"387 Snodgrassella\",\"388 Rhodanobacter\",\"389 Geobacter\",\"390 Tepidimonas\",\"391 Enterocloster\",\"392 Lachnoanaerobaculum\",\"394 Ornithobacterium\",\"395 Parachlamydia\",\"396 Solibacillus\",\"397 Sutterella\",\"398 Listeria\",\"399 Thermodesulfovibrio\",\"400 Candidatus Pelagibacter\",\"401 Candidatus Ruthia\",\"402 Erysipelothrix\",\"403 Actinomyces\",\"404 Neorhizobium\",\"405 Elizabethkingia\",\"406 Avibacterium\",\"407 Bifidobacterium\",\"408 Candidatus Hamiltonella\",\"409 Candidatus Regiella\",\"410 Brevibacterium\",\"411 Pseudoxanthomonas\",\"412 Granulicoccus\",\"413 Corynebacterium\",\"414 Caldanaerobacter\",\"415 Aliivibrio\",\"416 Algibacter\",\"417 Leclercia\",\"418 Thermodesulfobacterium\",\"419 Propionibacterium\",\"420 Thermoanaerobacter\",\"421 Thermobifida\",\"422 Mycobacterium\",\"423 Enterovibrio\",\"424 Mediterraneibacter\",\"425 Oribacterium\",\"426 Paraburkholderia\",\"427 Methylacidiphilum\",\"428 Intestinimonas\",\"429 Amycolatopsis\",\"430 Nocardia\",\"431 Rhodococcus\",\"432 Sphingobacterium\",\"433 Aneurinibacillus\",\"434 Brevibacillus\",\"435 Saccharopolyspora\",\"436 Enhydrobacter\",\"437 Cronobacter\",\"438 Saccharomonospora\",\"439 Sphingobium\",\"440 Novosphingobium\",\"441 Sphingopyxis\",\"442 Cellulophaga\",\"443 Streptomyces\",\"444 Orientia\",\"445 Gallibacterium\",\"446 Granulibacter\",\"447 Histophilus\",\"448 Dermabacter\",\"449 Pseudobacteroides\",\"450 Blastochloris\",\"451 Anaerococcus\",\"452 Demequina\",\"453 Streptosporangium\",\"454 Actinoalloteichus\",\"455 Nocardiopsis\",\"456 Curtobacterium\",\"457 Waddlia\",\"458 Desulfitobacterium\",\"459 Tropheryma\",\"460 Dehalococcoides\",\"461 Aurantimonas\",\"462 Pseudoalteromonas\",\"1948 Lacticaseibacillus casei/paracasei\",\"1949 Escherichia/Shigella\",\"1950 Escherichia coli/Shigella\"],\"hovertemplate\":\"(%{x:.3f}, %{customdata[0]:.3f}, %{customdata[1]:.1%})<br>%{text}<br>%{customdata[2]}<br>%{customdata[3]}<extra></extra>\",\"x\":[0.99180126,0.9789365,0.2079285,0.9470835,0.9955059,0.9952208,0.0062548867,0.012629652,0.012571359,1.0,0.04109589,0.023280092,0.47705576,0.9836249,0.011296396,0.9560158,0.24565972,0.8897143,0.9862934,0.9992281,0.971282,0.40932602,0.9718252,0.4133103,0.9782766,0.64772534,0.26961666,0.31771094,0.65222996,0.0076923077,0.98080635,0.955429,0.57459503,0.9987957,0.33827025,0.006045949,0.26512167,0.99856085,0.42754892,0.008465609,0.41984564,0.009786209,0.9530471,0.009228375,0.9990478,0.02257484,0.96179575,0.9990564,0.009449071,0.9315043,0.56311464,0.98972297,0.95969623,0.99726176,0.95610374,0.96783215,0.9682774,0.94217163,0.979642,0.9918033,0.9367951,0.004160666,0.37623763,0.2114579,0.64289635,0.95925117,0.45568824,0.033665657,0.0005545082,0.2524214,0.67622817,0.598002,0.99800825,0.0076793605,0.9843814,0.4764421,0.9927323,0.006437768,0.0070178905,0.21330988,0.9270978,0.35563973,0.01045947,0.9669746,0.0048148762,0.8020897,0.9713598,0.12763001,0.45460263,0.51274985,0.36277643,0.43141645,0.5115272,0.96592236,0.973221,0.2949492,0.0016273393,0.6630165,0.13575482,0.99537444,0.99456984,0.38668403,0.38234165,0.4151515,0.003991403,0.9800242,0.99875635,0.22060767,0.00034287674,0.9724988,0.9918111,0.95658773,0.6112057,0.6447668,0.9895186,0.46475163,0.5796024,0.5262083,0.9835469,0.022768434,0.36329553,0.9930426,0.90902114,0.99423176,0.9778782,0.5955998,0.16934296,0.012114686,0.52934337,0.00447669,0.28044233,0.97242725,0.6616403,0.5145901,0.77339524,0.965135,0.40860775,0.9963921,0.98847836,0.0022087775,0.35966736,0.9888502,0.94035167,0.5994478,0.95557266,0.46896553,0.83185625,0.5902292,0.98362255,0.8868819,0.5219907,0.00029312618,0.98677874,0.010695893,0.9690404,0.9761799,0.9809267,0.95268095,0.0006908122,0.9732014,0.96604276,0.9093285,0.9943813,0.9950455,0.5708502,0.68577874,0.92015254,0.1421848,0.00056264066,0.98645025,0.5909497,0.012923077,0.9889514,0.9933448,0.5021989,0.93815964,0.0030734842,0.011829492,0.8921292,0.99111515,0.00048297513,0.8719926,0.005272634,0.987211,0.41198567,0.9927835,0.92298895,0.99817765,0.0060706404,0.0009460738,0.99626017,0.19435655,0.9845281,0.004640371,0.0039726878,0.9950471,0.6421458,0.1677151,0.29681924,0.9980769,0.9364655,0.9985372,0.28876635,0.92375404,0.00232423,0.00076345593,0.9904613,0.0013723068,0.99905366,0.99860495,0.52683336,0.5377451,0.1674231,0.99639595,0.96068597,0.00052863435,0.11776609,0.99790955,0.6356813,0.9867543,0.975625,0.14530864,0.25663716,0.44280577,0.0056119147,0.8363452,0.6018953,0.67279553,0.9863412,0.93779653,0.0062506623,0.9614106,0.7350064,0.9895248,0.0051716547,0.29250458,0.98614836,0.48136592,0.0038548452,0.14475785,0.36317968,0.996836,0.010473052,0.7693008,0.99054956,0.996337,0.018041888,0.07041767,0.49891695,0.98135555,0.9906623,0.9977082,0.9938224,0.4983555,0.9919196,0.007704785,0.9953592,0.9905377,0.09480997,0.00075287034,0.64962167,0.6406655,0.99108845,0.007203842,0.9359975,0.021134594,0.004819591,0.983015,0.001726718,0.0064199395,0.9974763,0.014364124,0.0018578352,0.98103195,0.0048956755,0.96749264,0.009010374,0.07858911,0.9939115,0.020869717,0.38191158,0.7228184,0.038693234,0.5605036,0.86970335,0.97904634,0.20561798,0.9664019,0.612089,0.28461748,0.4089904,0.9942595,0.013585638,0.99206,0.99648815,0.19820325,0.00554624,0.9989671,0.99116164,0.053829152,0.43224066,0.639969,0.5104927,0.99803936,0.9923149,0.5598432,0.9961355,0.35971802,0.9976779,0.007868207,0.32651892,0.9971069,0.60762143,0.29848495,0.9972246,0.9920577,0.99437934,0.94001895,0.973689,0.45289788,0.87946314,0.9251794,0.9975079,0.005816413,0.93795663,0.6946423,0.0029213072,0.013058619,0.00250339,0.938363,0.99637604,0.9926661,0.004694323,0.24641266,0.36940476,0.99743307,0.9057473,0.59409076,0.19304039,0.99851656,0.32440925,0.40052426,0.5174957,0.68637025,0.9779738,0.89015543,0.38653892,0.9686774,0.325226,0.301212,0.9633652,0.39161864,0.9870799,0.251853,0.30161208,0.30530012,0.77218705,0.8974128,0.6129395,0.99739414,0.9566603,0.9607785,0.9974943,0.99702185,0.020229504,0.36213374,0.25812477,0.0003468609,0.3080418,0.40525433,0.4296131,0.31610885,0.0002365744,0.007621411,0.9614165,0.9995572,0.2027127,0.9017094,0.97513676,0.47759235,0.9786741,0.50314903,0.060881417,0.16396867,0.3630303,0.40537542,0.9942442,0.028428735,0.55331415,0.015284854,0.25228035,0.9942877,0.8460531,0.9725194,0.5280899,0.99614763,0.59299713,0.67882955,0.9484094,0.5725244,0.01681466,0.9979624,0.50986344,0.9584655,0.36437717,0.33479077,0.0063653723,0.98496306,0.8430044,0.06317654,0.9915034,0.9792365,0.9890091,0.1099182,0.97992045,0.008116429,0.43318123,0.96699286,0.9837941,0.9836676,0.6966828,0.30787182,0.99753475,0.9712949,0.6025867,0.97344977,0.95186454,0.9690752,0.98381,0.94997746,0.99242276,0.98209864,0.7536488,0.6035242,0.42223322,0.43069088,0.6480367,0.006305977,0.0009044862,0.9919933,0.7972683,0.6853183,0.14658804,0.9405711,0.9110988,0.006198929,0.5962594,0.1351527,0.92796147,0.6483333,0.9946755,0.47451088,0.9106814,0.6825378]}],{\"coloraxis\":{\"colorscale\":\"Viridis\"},\"xaxis\":{\"title\":\"Diameter\",\"range\":[0.5,1.0]},\"hovermode\":\"closest\",\"margin\":{\"l\":50,\"b\":50,\"r\":50,\"t\":60},\"yaxis\":{\"title\":\"Min-inter / Diameter\",\"range\":[0,2]}},{}); gd.on(\"plotly_hover\",(function (data){var filtered_data=WebIO.PlotlyCommands.filterEventData(gd,data,\"hover\"); return !(filtered_data.isnil) ? (WebIO.setval({\"name\":\"hover\",\"scope\":\"13082927617177373117\",\"id\":\"15931613036042091437\",\"type\":\"observable\"},filtered_data.out)) : undefined})); gd.on(\"plotly_unhover\",(function (){return WebIO.setval({\"name\":\"hover\",\"scope\":\"13082927617177373117\",\"id\":\"15931613036042091437\",\"type\":\"observable\"},{})})); gd.on(\"plotly_selected\",(function (data){var filtered_data=WebIO.PlotlyCommands.filterEventData(gd,data,\"selected\"); return !(filtered_data.isnil) ? (WebIO.setval({\"name\":\"selected\",\"scope\":\"13082927617177373117\",\"id\":\"3656881901082526470\",\"type\":\"observable\"},filtered_data.out)) : undefined})); gd.on(\"plotly_deselect\",(function (){return WebIO.setval({\"name\":\"selected\",\"scope\":\"13082927617177373117\",\"id\":\"3656881901082526470\",\"type\":\"observable\"},{})})); gd.on(\"plotly_relayout\",(function (data){var filtered_data=WebIO.PlotlyCommands.filterEventData(gd,data,\"relayout\"); return !(filtered_data.isnil) ? (WebIO.setval({\"name\":\"relayout\",\"scope\":\"13082927617177373117\",\"id\":\"8624702871238524457\",\"type\":\"observable\"},filtered_data.out)) : undefined})); return gd.on(\"plotly_click\",(function (data){var filtered_data=WebIO.PlotlyCommands.filterEventData(gd,data,\"click\"); return !(filtered_data.isnil) ? (WebIO.setval({\"name\":\"click\",\"scope\":\"13082927617177373117\",\"id\":\"6698994432810927811\",\"type\":\"observable\"},filtered_data.out)) : undefined}))}));\n    (WebIO.importBlock({\"data\":[{\"name\":\"Plotly\",\"type\":\"js\",\"url\":\"/assetserver/2178a8d06f9a8c65d859d06b4046edd396027e54-plotly.min.js\"},{\"name\":null,\"type\":\"js\",\"url\":\"/assetserver/bfdea5073d48cb1c02a6ebf79fdeb36320854e28-plotly_webio.bundle.js\"}],\"type\":\"async_block\"})).then((imports) => handler.apply(this, imports));\n}\n"
        ],
        "observables": {
         "__gd_contents": {
          "id": "2146587767778899084",
          "sync": false,
          "value": {}
         },
         "__get_gd_contents": {
          "id": "14747927758179587851",
          "sync": false,
          "value": ""
         },
         "_commands": {
          "id": "1755799937558265588",
          "sync": false,
          "value": []
         },
         "_downloadImage": {
          "id": "11343643719660074592",
          "sync": false,
          "value": {}
         },
         "_toImage": {
          "id": "17471156107098492273",
          "sync": false,
          "value": {}
         },
         "click": {
          "id": "6698994432810927811",
          "sync": false,
          "value": {}
         },
         "hover": {
          "id": "15931613036042091437",
          "sync": false,
          "value": {}
         },
         "image": {
          "id": "8269567824404110490",
          "sync": true,
          "value": ""
         },
         "relayout": {
          "id": "8624702871238524457",
          "sync": false,
          "value": {}
         },
         "selected": {
          "id": "3656881901082526470",
          "sync": false,
          "value": {}
         }
        },
        "systemjs_options": null
       },
       "nodeType": "Scope",
       "props": {},
       "type": "node"
      },
      "image/png": "[encoded data removed]",
      "image/svg+xml": [
       "<svg class=\"main-svg\" xmlns=\"http://www.w3.org/2000/svg\" xmlns:xlink=\"http://www.w3.org/1999/xlink\" width=\"700\" height=\"500\" style=\"\" viewBox=\"0 0 700 500\"><rect x=\"0\" y=\"0\" width=\"700\" height=\"500\" style=\"fill: rgb(255, 255, 255); fill-opacity: 1;\"/><defs id=\"defs-d3dfaf\"><g class=\"clips\"><clipPath id=\"clipd3dfafxyplot\" class=\"plotclip\"><rect width=\"544\" height=\"390\"/></clipPath><clipPath class=\"axesclip\" id=\"clipd3dfafx\"><rect x=\"50\" y=\"0\" width=\"544\" height=\"500\"/></clipPath><clipPath class=\"axesclip\" id=\"clipd3dfafy\"><rect x=\"0\" y=\"60\" width=\"700\" height=\"390\"/></clipPath><clipPath class=\"axesclip\" id=\"clipd3dfafxy\"><rect x=\"50\" y=\"60\" width=\"544\" height=\"390\"/></clipPath></g><g class=\"gradients\"/></defs><g class=\"bglayer\"/><g class=\"layer-below\"><g class=\"imagelayer\"/><g class=\"shapelayer\"/></g><g class=\"cartesianlayer\"><g class=\"subplot xy\"><g class=\"layer-subplot\"><g class=\"shapelayer\"/><g class=\"imagelayer\"/></g><g class=\"gridlayer\"><g class=\"x\"><path class=\"xgrid crisp\" transform=\"translate(158.8,0)\" d=\"M0,60v390\" style=\"stroke: rgb(238, 238, 238); stroke-opacity: 1; stroke-width: 1px;\"/><path class=\"xgrid crisp\" transform=\"translate(267.6,0)\" d=\"M0,60v390\" style=\"stroke: rgb(238, 238, 238); stroke-opacity: 1; stroke-width: 1px;\"/><path class=\"xgrid crisp\" transform=\"translate(376.4,0)\" d=\"M0,60v390\" style=\"stroke: rgb(238, 238, 238); stroke-opacity: 1; stroke-width: 1px;\"/><path class=\"xgrid crisp\" transform=\"translate(485.2,0)\" d=\"M0,60v390\" style=\"stroke: rgb(238, 238, 238); stroke-opacity: 1; stroke-width: 1px;\"/></g><g class=\"y\"><path class=\"ygrid crisp\" transform=\"translate(0,352.5)\" d=\"M50,0h544\" style=\"stroke: rgb(238, 238, 238); stroke-opacity: 1; stroke-width: 1px;\"/><path class=\"ygrid crisp\" transform=\"translate(0,255)\" d=\"M50,0h544\" style=\"stroke: rgb(238, 238, 238); stroke-opacity: 1; stroke-width: 1px;\"/><path class=\"ygrid crisp\" transform=\"translate(0,157.5)\" d=\"M50,0h544\" style=\"stroke: rgb(238, 238, 238); stroke-opacity: 1; stroke-width: 1px;\"/></g></g><g class=\"zerolinelayer\"><path class=\"yzl zl crisp\" transform=\"translate(0,450)\" d=\"M50,0h544\" style=\"stroke: rgb(68, 68, 68); stroke-opacity: 1; stroke-width: 1px;\"/></g><path class=\"xlines-below\"/><path class=\"ylines-below\"/><g class=\"overlines-below\"/><g class=\"xaxislayer-below\"/><g class=\"yaxislayer-below\"/><g class=\"overaxes-below\"/><g class=\"plot\" transform=\"translate(50,60)\" clip-path=\"url('#clipd3dfafxyplot')\"><g class=\"scatterlayer mlayer\"><g class=\"trace scatter trace5d569b\" style=\"stroke-miterlimit: 2; opacity: 1;\"><g class=\"fills\"/><g class=\"errorbars\"/><g class=\"lines\"><path class=\"js-line\" d=\"M-544,195L544,195\" style=\"vector-effect: non-scaling-stroke; fill: none; stroke: rgb(128, 128, 128); stroke-opacity: 1; stroke-width: 2px; opacity: 1; stroke-dasharray: 9px, 9px;\"/></g><g class=\"points\"><path class=\"point\" transform=\"translate(-544,195)\" d=\"M3,0A3,3 0 1,1 0,-3A3,3 0 0,1 3,0Z\" style=\"opacity: 1; stroke-width: 0px; fill: rgb(128, 128, 128); fill-opacity: 1;\"/><path class=\"point\" transform=\"translate(544,195)\" d=\"M3,0A3,3 0 1,1 0,-3A3,3 0 0,1 3,0Z\" style=\"opacity: 1; stroke-width: 0px; fill: rgb(128, 128, 128); fill-opacity: 1;\"/></g><g class=\"text\"/></g><g class=\"trace scatter trace80263c\" style=\"stroke-miterlimit: 2; opacity: 1;\"><g class=\"fills\"/><g class=\"errorbars\"/><g class=\"lines\"/><g class=\"points\"><path class=\"point plotly-customdata\" transform=\"translate(535.08,195.77)\" d=\"M3,0A3,3 0 1,1 0,-3A3,3 0 0,1 3,0Z\" style=\"opacity: 1; stroke-width: 0px; fill: rgb(31, 157, 137); fill-opacity: 1;\"/><path class=\"point plotly-customdata\" transform=\"translate(521.08,195.87)\" d=\"M3,0A3,3 0 1,1 0,-3A3,3 0 0,1 3,0Z\" style=\"opacity: 1; stroke-width: 0px; fill: rgb(88, 198, 101); fill-opacity: 1;\"/><path class=\"point plotly-customdata\" transform=\"translate(-317.77,-534.09)\" d=\"M3,0A3,3 0 1,1 0,-3A3,3 0 0,1 3,0Z\" style=\"opacity: 1; stroke-width: 0px; fill: rgb(253, 231, 37); fill-opacity: 1;\"/><path class=\"point plotly-customdata\" transform=\"translate(486.43,212.57)\" d=\"M3,0A3,3 0 1,1 0,-3A3,3 0 0,1 3,0Z\" style=\"opacity: 1; stroke-width: 0px; fill: rgb(33, 147, 139); fill-opacity: 1;\"/><path class=\"point plotly-customdata\" transform=\"translate(539.11,195.45)\" d=\"M3,0A3,3 0 1,1 0,-3A3,3 0 0,1 3,0Z\" style=\"opacity: 1; stroke-width: 0px; fill: rgb(219, 226, 26); fill-opacity: 1;\"/><path class=\"point plotly-customdata\" transform=\"translate(538.8,194.96)\" d=\"M3,0A3,3 0 1,1 0,-3A3,3 0 0,1 3,0Z\" style=\"opacity: 1; stroke-width: 0px; fill: rgb(253, 231, 37); fill-opacity: 1;\"/><path class=\"point plotly-customdata\" transform=\"translate(-537.19,-30225.77)\" d=\"M3,0A3,3 0 1,1 0,-3A3,3 0 0,1 3,0Z\" style=\"opacity: 1; stroke-width: 0px; fill: rgb(253, 231, 37); fill-opacity: 1;\"/><path class=\"point plotly-customdata\" transform=\"translate(-530.26,-14491.82)\" d=\"M3,0A3,3 0 1,1 0,-3A3,3 0 0,1 3,0Z\" style=\"opacity: 1; stroke-width: 0px; fill: rgb(253, 231, 37); fill-opacity: 1;\"/><path class=\"point plotly-customdata\" transform=\"translate(-530.32,-14560.83)\" d=\"M3,0A3,3 0 1,1 0,-3A3,3 0 0,1 3,0Z\" style=\"opacity: 1; stroke-width: 0px; fill: rgb(253, 231, 37); fill-opacity: 1;\"/><path class=\"point plotly-customdata\" transform=\"translate(544,198.13)\" d=\"M3,0A3,3 0 1,1 0,-3A3,3 0 0,1 3,0Z\" style=\"opacity: 1; stroke-width: 0px; fill: rgb(72, 24, 106); fill-opacity: 1;\"/><path class=\"point plotly-customdata\" transform=\"translate(-499.29,-4333.51)\" d=\"M3,0A3,3 0 1,1 0,-3A3,3 0 0,1 3,0Z\" style=\"opacity: 1; stroke-width: 0px; fill: rgb(253, 231, 37); fill-opacity: 1;\"/><path class=\"point plotly-customdata\" transform=\"translate(-518.67,-7855.09)\" d=\"M3,0A3,3 0 1,1 0,-3A3,3 0 0,1 3,0Z\" style=\"opacity: 1; stroke-width: 0px; fill: rgb(253, 231, 37); fill-opacity: 1;\"/><path class=\"point plotly-customdata\" transform=\"translate(-24.96,-3.63)\" d=\"M3,0A3,3 0 1,1 0,-3A3,3 0 0,1 3,0Z\" style=\"opacity: 1; stroke-width: 0px; fill: rgb(253, 231, 37); fill-opacity: 1;\"/><path class=\"point plotly-customdata\" transform=\"translate(526.18,196.98)\" d=\"M3,0A3,3 0 1,1 0,-3A3,3 0 0,1 3,0Z\" style=\"opacity: 1; stroke-width: 0px; fill: rgb(31, 157, 137); fill-opacity: 1;\"/><path class=\"point plotly-customdata\" transform=\"translate(-531.71,-16780.52)\" d=\"M3,0A3,3 0 1,1 0,-3A3,3 0 0,1 3,0Z\" style=\"opacity: 1; stroke-width: 0px; fill: rgb(253, 231, 37); fill-opacity: 1;\"/><path class=\"point plotly-customdata\" transform=\"translate(496.15,190.77)\" d=\"M3,0A3,3 0 1,1 0,-3A3,3 0 0,1 3,0Z\" style=\"opacity: 1; stroke-width: 0px; fill: rgb(253, 231, 37); fill-opacity: 1;\"/><path class=\"point plotly-customdata\" transform=\"translate(-276.72,-399.25)\" d=\"M3,0A3,3 0 1,1 0,-3A3,3 0 0,1 3,0Z\" style=\"opacity: 1; stroke-width: 0px; fill: rgb(253, 231, 37); fill-opacity: 1;\"/><path class=\"point plotly-customdata\" transform=\"translate(424.01,176.12)\" d=\"M3,0A3,3 0 1,1 0,-3A3,3 0 0,1 3,0Z\" style=\"opacity: 1; stroke-width: 0px; fill: rgb(253, 231, 37); fill-opacity: 1;\"/><path class=\"point plotly-customdata\" transform=\"translate(529.09,194.9)\" d=\"M3,0A3,3 0 1,1 0,-3A3,3 0 0,1 3,0Z\" style=\"opacity: 1; stroke-width: 0px; fill: rgb(253, 231, 37); fill-opacity: 1;\"/><path class=\"point plotly-customdata\" transform=\"translate(543.16,206.08)\" d=\"M3,0A3,3 0 1,1 0,-3A3,3 0 0,1 3,0Z\" style=\"opacity: 1; stroke-width: 0px; fill: rgb(52, 96, 141); fill-opacity: 1;\"/><path class=\"point plotly-customdata\" transform=\"translate(512.75,194.22)\" d=\"M3,0A3,3 0 1,1 0,-3A3,3 0 0,1 3,0Z\" style=\"opacity: 1; stroke-width: 0px; fill: rgb(253, 231, 37); fill-opacity: 1;\"/><path class=\"point plotly-customdata\" transform=\"translate(-98.65,-77.49)\" d=\"M3,0A3,3 0 1,1 0,-3A3,3 0 0,1 3,0Z\" style=\"opacity: 1; stroke-width: 0px; fill: rgb(253, 231, 37); fill-opacity: 1;\"/><path class=\"point plotly-customdata\" transform=\"translate(513.35,203.93)\" d=\"M3,0A3,3 0 1,1 0,-3A3,3 0 0,1 3,0Z\" style=\"opacity: 1; stroke-width: 0px; fill: rgb(37, 133, 142); fill-opacity: 1;\"/><path class=\"point plotly-customdata\" transform=\"translate(-94.32,-80.22)\" d=\"M3,0A3,3 0 1,1 0,-3A3,3 0 0,1 3,0Z\" style=\"opacity: 1; stroke-width: 0px; fill: rgb(253, 231, 37); fill-opacity: 1;\"/><path class=\"point plotly-customdata\" transform=\"translate(520.36,193.38)\" d=\"M3,0A3,3 0 1,1 0,-3A3,3 0 0,1 3,0Z\" style=\"opacity: 1; stroke-width: 0px; fill: rgb(253, 231, 37); fill-opacity: 1;\"/><path class=\"point plotly-customdata\" transform=\"translate(160.73,90.5)\" d=\"M3,0A3,3 0 1,1 0,-3A3,3 0 0,1 3,0Z\" style=\"opacity: 1; stroke-width: 0px; fill: rgb(253, 231, 37); fill-opacity: 1;\"/><path class=\"point plotly-customdata\" transform=\"translate(-250.66,-321.71)\" d=\"M3,0A3,3 0 1,1 0,-3A3,3 0 0,1 3,0Z\" style=\"opacity: 1; stroke-width: 0px; fill: rgb(253, 231, 37); fill-opacity: 1;\"/><path class=\"point plotly-customdata\" transform=\"translate(-198.33,-216.26)\" d=\"M3,0A3,3 0 1,1 0,-3A3,3 0 0,1 3,0Z\" style=\"opacity: 1; stroke-width: 0px; fill: rgb(253, 231, 37); fill-opacity: 1;\"/><path class=\"point plotly-customdata\" transform=\"translate(165.63,92.32)\" d=\"M3,0A3,3 0 1,1 0,-3A3,3 0 0,1 3,0Z\" style=\"opacity: 1; stroke-width: 0px; fill: rgb(253, 231, 37); fill-opacity: 1;\"/><path class=\"point plotly-customdata\" transform=\"translate(-535.63,-24364.69)\" d=\"M3,0A3,3 0 1,1 0,-3A3,3 0 0,1 3,0Z\" style=\"opacity: 1; stroke-width: 0px; fill: rgb(253, 231, 37); fill-opacity: 1;\"/><path class=\"point plotly-customdata\" transform=\"translate(523.12,195.92)\" d=\"M3,0A3,3 0 1,1 0,-3A3,3 0 0,1 3,0Z\" style=\"opacity: 1; stroke-width: 0px; fill: rgb(34, 143, 140); fill-opacity: 1;\"/><path class=\"point plotly-customdata\" transform=\"translate(495.51,189.74)\" d=\"M3,0A3,3 0 1,1 0,-3A3,3 0 0,1 3,0Z\" style=\"opacity: 1; stroke-width: 0px; fill: rgb(253, 231, 37); fill-opacity: 1;\"/><path class=\"point plotly-customdata\" transform=\"translate(81.16,75.29)\" d=\"M3,0A3,3 0 1,1 0,-3A3,3 0 0,1 3,0Z\" style=\"opacity: 1; stroke-width: 0px; fill: rgb(253, 231, 37); fill-opacity: 1;\"/><path class=\"point plotly-customdata\" transform=\"translate(542.69,195.94)\" d=\"M3,0A3,3 0 1,1 0,-3A3,3 0 0,1 3,0Z\" style=\"opacity: 1; stroke-width: 0px; fill: rgb(46, 110, 142); fill-opacity: 1;\"/><path class=\"point plotly-customdata\" transform=\"translate(-175.96,-183.07)\" d=\"M3,0A3,3 0 1,1 0,-3A3,3 0 0,1 3,0Z\" style=\"opacity: 1; stroke-width: 0px; fill: rgb(253, 231, 37); fill-opacity: 1;\"/><path class=\"point plotly-customdata\" transform=\"translate(-537.42,-31651.7)\" d=\"M3,0A3,3 0 1,1 0,-3A3,3 0 0,1 3,0Z\" style=\"opacity: 1; stroke-width: 0px; fill: rgb(253, 231, 37); fill-opacity: 1;\"/><path class=\"point plotly-customdata\" transform=\"translate(-255.55,-337.35)\" d=\"M3,0A3,3 0 1,1 0,-3A3,3 0 0,1 3,0Z\" style=\"opacity: 1; stroke-width: 0px; fill: rgb(253, 231, 37); fill-opacity: 1;\"/><path class=\"point plotly-customdata\" transform=\"translate(542.43,196.8)\" d=\"M3,0A3,3 0 1,1 0,-3A3,3 0 0,1 3,0Z\" style=\"opacity: 1; stroke-width: 0px; fill: rgb(226, 227, 28); fill-opacity: 1;\"/><path class=\"point plotly-customdata\" transform=\"translate(-78.83,-64.28)\" d=\"M3,0A3,3 0 1,1 0,-3A3,3 0 0,1 3,0Z\" style=\"opacity: 1; stroke-width: 0px; fill: rgb(253, 231, 37); fill-opacity: 1;\"/><path class=\"point plotly-customdata\" transform=\"translate(-534.79,-22578.26)\" d=\"M3,0A3,3 0 1,1 0,-3A3,3 0 0,1 3,0Z\" style=\"opacity: 1; stroke-width: 0px; fill: rgb(253, 231, 37); fill-opacity: 1;\"/><path class=\"point plotly-customdata\" transform=\"translate(-87.21,-71.05)\" d=\"M3,0A3,3 0 1,1 0,-3A3,3 0 0,1 3,0Z\" style=\"opacity: 1; stroke-width: 0px; fill: rgb(253, 231, 37); fill-opacity: 1;\"/><path class=\"point plotly-customdata\" transform=\"translate(-533.35,-19130.51)\" d=\"M3,0A3,3 0 1,1 0,-3A3,3 0 0,1 3,0Z\" style=\"opacity: 1; stroke-width: 0px; fill: rgb(253, 231, 37); fill-opacity: 1;\"/><path class=\"point plotly-customdata\" transform=\"translate(492.92,190.64)\" d=\"M3,0A3,3 0 1,1 0,-3A3,3 0 0,1 3,0Z\" style=\"opacity: 1; stroke-width: 0px; fill: rgb(253, 231, 37); fill-opacity: 1;\"/><path class=\"point plotly-customdata\" transform=\"translate(-533.96,-20628.39)\" d=\"M3,0A3,3 0 1,1 0,-3A3,3 0 0,1 3,0Z\" style=\"opacity: 1; stroke-width: 0px; fill: rgb(253, 231, 37); fill-opacity: 1;\"/><path class=\"point plotly-customdata\" transform=\"translate(542.96,197.92)\" d=\"M3,0A3,3 0 1,1 0,-3A3,3 0 0,1 3,0Z\" style=\"opacity: 1; stroke-width: 0px; fill: rgb(187, 222, 41); fill-opacity: 1;\"/><path class=\"point plotly-customdata\" transform=\"translate(-519.44,-8218.3)\" d=\"M3,0A3,3 0 1,1 0,-3A3,3 0 0,1 3,0Z\" style=\"opacity: 1; stroke-width: 0px; fill: rgb(253, 231, 37); fill-opacity: 1;\"/><path class=\"point plotly-customdata\" transform=\"translate(502.43,195.34)\" d=\"M3,0A3,3 0 1,1 0,-3A3,3 0 0,1 3,0Z\" style=\"opacity: 1; stroke-width: 0px; fill: rgb(250, 231, 36); fill-opacity: 1;\"/><path class=\"point plotly-customdata\" transform=\"translate(542.97,198.79)\" d=\"M3,0A3,3 0 1,1 0,-3A3,3 0 0,1 3,0Z\" style=\"opacity: 1; stroke-width: 0px; fill: rgb(159, 217, 57); fill-opacity: 1;\"/><path class=\"point plotly-customdata\" transform=\"translate(-533.72,-20166.83)\" d=\"M3,0A3,3 0 1,1 0,-3A3,3 0 0,1 3,0Z\" style=\"opacity: 1; stroke-width: 0px; fill: rgb(253, 231, 37); fill-opacity: 1;\"/><path class=\"point plotly-customdata\" transform=\"translate(469.48,192.14)\" d=\"M3,0A3,3 0 1,1 0,-3A3,3 0 0,1 3,0Z\" style=\"opacity: 1; stroke-width: 0px; fill: rgb(253, 231, 37); fill-opacity: 1;\"/><path class=\"point plotly-customdata\" transform=\"translate(68.67,47.72)\" d=\"M3,0A3,3 0 1,1 0,-3A3,3 0 0,1 3,0Z\" style=\"opacity: 1; stroke-width: 0px; fill: rgb(253, 231, 37); fill-opacity: 1;\"/><path class=\"point plotly-customdata\" transform=\"translate(532.82,195.6)\" d=\"M3,0A3,3 0 1,1 0,-3A3,3 0 0,1 3,0Z\" style=\"opacity: 1; stroke-width: 0px; fill: rgb(49, 179, 123); fill-opacity: 1;\"/><path class=\"point plotly-customdata\" transform=\"translate(500.15,209.58)\" d=\"M3,0A3,3 0 1,1 0,-3A3,3 0 0,1 3,0Z\" style=\"opacity: 1; stroke-width: 0px; fill: rgb(238, 229, 32); fill-opacity: 1;\"/><path class=\"point plotly-customdata\" transform=\"translate(541.02,197.29)\" d=\"M3,0A3,3 0 1,1 0,-3A3,3 0 0,1 3,0Z\" style=\"opacity: 1; stroke-width: 0px; fill: rgb(34, 142, 140); fill-opacity: 1;\"/><path class=\"point plotly-customdata\" transform=\"translate(496.24,190.54)\" d=\"M3,0A3,3 0 1,1 0,-3A3,3 0 0,1 3,0Z\" style=\"opacity: 1; stroke-width: 0px; fill: rgb(253, 231, 37); fill-opacity: 1;\"/><path class=\"point plotly-customdata\" transform=\"translate(509,189.65)\" d=\"M3,0A3,3 0 1,1 0,-3A3,3 0 0,1 3,0Z\" style=\"opacity: 1; stroke-width: 0px; fill: rgb(253, 231, 37); fill-opacity: 1;\"/><path class=\"point plotly-customdata\" transform=\"translate(509.49,193.66)\" d=\"M3,0A3,3 0 1,1 0,-3A3,3 0 0,1 3,0Z\" style=\"opacity: 1; stroke-width: 0px; fill: rgb(253, 231, 37); fill-opacity: 1;\"/><path class=\"point plotly-customdata\" transform=\"translate(481.08,186.06)\" d=\"M3,0A3,3 0 1,1 0,-3A3,3 0 0,1 3,0Z\" style=\"opacity: 1; stroke-width: 0px; fill: rgb(253, 231, 37); fill-opacity: 1;\"/><path class=\"point plotly-customdata\" transform=\"translate(521.85,195.97)\" d=\"M3,0A3,3 0 1,1 0,-3A3,3 0 0,1 3,0Z\" style=\"opacity: 1; stroke-width: 0px; fill: rgb(86, 198, 102); fill-opacity: 1;\"/><path class=\"point plotly-customdata\" transform=\"translate(535.08,199.41)\" d=\"M3,0A3,3 0 1,1 0,-3A3,3 0 0,1 3,0Z\" style=\"opacity: 1; stroke-width: 0px; fill: rgb(51, 180, 122); fill-opacity: 1;\"/><path class=\"point plotly-customdata\" transform=\"translate(475.23,182.33)\" d=\"M3,0A3,3 0 1,1 0,-3A3,3 0 0,1 3,0Z\" style=\"opacity: 1; stroke-width: 0px; fill: rgb(253, 231, 37); fill-opacity: 1;\"/><path class=\"point plotly-customdata\" transform=\"translate(-539.47,-45584.01)\" d=\"M3,0A3,3 0 1,1 0,-3A3,3 0 0,1 3,0Z\" style=\"opacity: 1; stroke-width: 0px; fill: rgb(253, 231, 37); fill-opacity: 1;\"/><path class=\"point plotly-customdata\" transform=\"translate(-134.65,-115.67)\" d=\"M3,0A3,3 0 1,1 0,-3A3,3 0 0,1 3,0Z\" style=\"opacity: 1; stroke-width: 0px; fill: rgb(253, 231, 37); fill-opacity: 1;\"/><path class=\"point plotly-customdata\" transform=\"translate(-313.93,-523.34)\" d=\"M3,0A3,3 0 1,1 0,-3A3,3 0 0,1 3,0Z\" style=\"opacity: 1; stroke-width: 0px; fill: rgb(253, 231, 37); fill-opacity: 1;\"/><path class=\"point plotly-customdata\" transform=\"translate(155.47,90.63)\" d=\"M3,0A3,3 0 1,1 0,-3A3,3 0 0,1 3,0Z\" style=\"opacity: 1; stroke-width: 0px; fill: rgb(253, 231, 37); fill-opacity: 1;\"/><path class=\"point plotly-customdata\" transform=\"translate(499.67,191.19)\" d=\"M3,0A3,3 0 1,1 0,-3A3,3 0 0,1 3,0Z\" style=\"opacity: 1; stroke-width: 0px; fill: rgb(253, 231, 37); fill-opacity: 1;\"/><path class=\"point plotly-customdata\" transform=\"translate(-48.21,-27.98)\" d=\"M3,0A3,3 0 1,1 0,-3A3,3 0 0,1 3,0Z\" style=\"opacity: 1; stroke-width: 0px; fill: rgb(253, 231, 37); fill-opacity: 1;\"/><path class=\"point plotly-customdata\" transform=\"translate(-507.37,-5231.4)\" d=\"M3,0A3,3 0 1,1 0,-3A3,3 0 0,1 3,0Z\" style=\"opacity: 1; stroke-width: 0px; fill: rgb(253, 231, 37); fill-opacity: 1;\"/><path class=\"point plotly-customdata\" transform=\"translate(-543.4,-340922.75)\" d=\"M3,0A3,3 0 1,1 0,-3A3,3 0 0,1 3,0Z\" style=\"opacity: 1; stroke-width: 0px; fill: rgb(253, 231, 37); fill-opacity: 1;\"/><path class=\"point plotly-customdata\" transform=\"translate(-269.37,-378.25)\" d=\"M3,0A3,3 0 1,1 0,-3A3,3 0 0,1 3,0Z\" style=\"opacity: 1; stroke-width: 0px; fill: rgb(253, 231, 37); fill-opacity: 1;\"/><path class=\"point plotly-customdata\" transform=\"translate(191.74,102.88)\" d=\"M3,0A3,3 0 1,1 0,-3A3,3 0 0,1 3,0Z\" style=\"opacity: 1; stroke-width: 0px; fill: rgb(253, 231, 37); fill-opacity: 1;\"/><path class=\"point plotly-customdata\" transform=\"translate(106.63,65.74)\" d=\"M3,0A3,3 0 1,1 0,-3A3,3 0 0,1 3,0Z\" style=\"opacity: 1; stroke-width: 0px; fill: rgb(253, 231, 37); fill-opacity: 1;\"/><path class=\"point plotly-customdata\" transform=\"translate(541.83,198.38)\" d=\"M3,0A3,3 0 1,1 0,-3A3,3 0 0,1 3,0Z\" style=\"opacity: 1; stroke-width: 0px; fill: rgb(69, 51, 127); fill-opacity: 1;\"/><path class=\"point plotly-customdata\" transform=\"translate(-535.64,-24850.27)\" d=\"M3,0A3,3 0 1,1 0,-3A3,3 0 0,1 3,0Z\" style=\"opacity: 1; stroke-width: 0px; fill: rgb(253, 231, 37); fill-opacity: 1;\"/><path class=\"point plotly-customdata\" transform=\"translate(527.01,199.39)\" d=\"M3,0A3,3 0 1,1 0,-3A3,3 0 0,1 3,0Z\" style=\"opacity: 1; stroke-width: 0px; fill: rgb(88, 199, 101); fill-opacity: 1;\"/><path class=\"point plotly-customdata\" transform=\"translate(-25.63,-15.55)\" d=\"M3,0A3,3 0 1,1 0,-3A3,3 0 0,1 3,0Z\" style=\"opacity: 1; stroke-width: 0px; fill: rgb(253, 231, 37); fill-opacity: 1;\"/><path class=\"point plotly-customdata\" transform=\"translate(536.09,201.38)\" d=\"M3,0A3,3 0 1,1 0,-3A3,3 0 0,1 3,0Z\" style=\"opacity: 1; stroke-width: 0px; fill: rgb(43, 118, 142); fill-opacity: 1;\"/><path class=\"point plotly-customdata\" transform=\"translate(-537,-29766.64)\" d=\"M3,0A3,3 0 1,1 0,-3A3,3 0 0,1 3,0Z\" style=\"opacity: 1; stroke-width: 0px; fill: rgb(253, 231, 37); fill-opacity: 1;\"/><path class=\"point plotly-customdata\" transform=\"translate(-536.36,-26603.81)\" d=\"M3,0A3,3 0 1,1 0,-3A3,3 0 0,1 3,0Z\" style=\"opacity: 1; stroke-width: 0px; fill: rgb(253, 231, 37); fill-opacity: 1;\"/><path class=\"point plotly-customdata\" transform=\"translate(-311.92,-499.86)\" d=\"M3,0A3,3 0 1,1 0,-3A3,3 0 0,1 3,0Z\" style=\"opacity: 1; stroke-width: 0px; fill: rgb(253, 231, 37); fill-opacity: 1;\"/><path class=\"point plotly-customdata\" transform=\"translate(464.68,186.04)\" d=\"M3,0A3,3 0 1,1 0,-3A3,3 0 0,1 3,0Z\" style=\"opacity: 1; stroke-width: 0px; fill: rgb(253, 231, 37); fill-opacity: 1;\"/><path class=\"point plotly-customdata\" transform=\"translate(-157.06,-155.54)\" d=\"M3,0A3,3 0 1,1 0,-3A3,3 0 0,1 3,0Z\" style=\"opacity: 1; stroke-width: 0px; fill: rgb(253, 231, 37); fill-opacity: 1;\"/><path class=\"point plotly-customdata\" transform=\"translate(-532.62,-17940.37)\" d=\"M3,0A3,3 0 1,1 0,-3A3,3 0 0,1 3,0Z\" style=\"opacity: 1; stroke-width: 0px; fill: rgb(253, 231, 37); fill-opacity: 1;\"/><path class=\"point plotly-customdata\" transform=\"translate(508.07,193.53)\" d=\"M3,0A3,3 0 1,1 0,-3A3,3 0 0,1 3,0Z\" style=\"opacity: 1; stroke-width: 0px; fill: rgb(253, 231, 37); fill-opacity: 1;\"/><path class=\"point plotly-customdata\" transform=\"translate(-538.76,-39173.1)\" d=\"M3,0A3,3 0 1,1 0,-3A3,3 0 0,1 3,0Z\" style=\"opacity: 1; stroke-width: 0px; fill: rgb(253, 231, 37); fill-opacity: 1;\"/><path class=\"point plotly-customdata\" transform=\"translate(328.67,147.92)\" d=\"M3,0A3,3 0 1,1 0,-3A3,3 0 0,1 3,0Z\" style=\"opacity: 1; stroke-width: 0px; fill: rgb(253, 231, 37); fill-opacity: 1;\"/><path class=\"point plotly-customdata\" transform=\"translate(512.84,196.8)\" d=\"M3,0A3,3 0 1,1 0,-3A3,3 0 0,1 3,0Z\" style=\"opacity: 1; stroke-width: 0px; fill: rgb(171, 220, 49); fill-opacity: 1;\"/><path class=\"point plotly-customdata\" transform=\"translate(-405.14,-1095.22)\" d=\"M3,0A3,3 0 1,1 0,-3A3,3 0 0,1 3,0Z\" style=\"opacity: 1; stroke-width: 0px; fill: rgb(253, 231, 37); fill-opacity: 1;\"/><path class=\"point plotly-customdata\" transform=\"translate(-49.39,-35.9)\" d=\"M3,0A3,3 0 1,1 0,-3A3,3 0 0,1 3,0Z\" style=\"opacity: 1; stroke-width: 0px; fill: rgb(253, 231, 37); fill-opacity: 1;\"/><path class=\"point plotly-customdata\" transform=\"translate(13.87,16.14)\" d=\"M3,0A3,3 0 1,1 0,-3A3,3 0 0,1 3,0Z\" style=\"opacity: 1; stroke-width: 0px; fill: rgb(253, 231, 37); fill-opacity: 1;\"/><path class=\"point plotly-customdata\" transform=\"translate(-149.3,-142.11)\" d=\"M3,0A3,3 0 1,1 0,-3A3,3 0 0,1 3,0Z\" style=\"opacity: 1; stroke-width: 0px; fill: rgb(253, 231, 37); fill-opacity: 1;\"/><path class=\"point plotly-customdata\" transform=\"translate(-74.62,-47)\" d=\"M3,0A3,3 0 1,1 0,-3A3,3 0 0,1 3,0Z\" style=\"opacity: 1; stroke-width: 0px; fill: rgb(253, 231, 37); fill-opacity: 1;\"/><path class=\"point plotly-customdata\" transform=\"translate(12.54,14.7)\" d=\"M3,0A3,3 0 1,1 0,-3A3,3 0 0,1 3,0Z\" style=\"opacity: 1; stroke-width: 0px; fill: rgb(253, 231, 37); fill-opacity: 1;\"/><path class=\"point plotly-customdata\" transform=\"translate(506.92,195.7)\" d=\"M3,0A3,3 0 1,1 0,-3A3,3 0 0,1 3,0Z\" style=\"opacity: 1; stroke-width: 0px; fill: rgb(37, 133, 142); fill-opacity: 1;\"/><path class=\"point plotly-customdata\" transform=\"translate(514.86,194.13)\" d=\"M3,0A3,3 0 1,1 0,-3A3,3 0 0,1 3,0Z\" style=\"opacity: 1; stroke-width: 0px; fill: rgb(253, 231, 37); fill-opacity: 1;\"/><path class=\"point plotly-customdata\" transform=\"translate(-223.1,-263.13)\" d=\"M3,0A3,3 0 1,1 0,-3A3,3 0 0,1 3,0Z\" style=\"opacity: 1; stroke-width: 0px; fill: rgb(253, 231, 37); fill-opacity: 1;\"/><path class=\"point plotly-customdata\" transform=\"translate(-542.23,-117058.87)\" d=\"M3,0A3,3 0 1,1 0,-3A3,3 0 0,1 3,0Z\" style=\"opacity: 1; stroke-width: 0px; fill: rgb(253, 231, 37); fill-opacity: 1;\"/><path class=\"point plotly-customdata\" transform=\"translate(177.36,97.54)\" d=\"M3,0A3,3 0 1,1 0,-3A3,3 0 0,1 3,0Z\" style=\"opacity: 1; stroke-width: 0px; fill: rgb(253, 231, 37); fill-opacity: 1;\"/><path class=\"point plotly-customdata\" transform=\"translate(-396.3,-1037.27)\" d=\"M3,0A3,3 0 1,1 0,-3A3,3 0 0,1 3,0Z\" style=\"opacity: 1; stroke-width: 0px; fill: rgb(253, 231, 37); fill-opacity: 1;\"/><path class=\"point plotly-customdata\" transform=\"translate(538.97,195.19)\" d=\"M3,0A3,3 0 1,1 0,-3A3,3 0 0,1 3,0Z\" style=\"opacity: 1; stroke-width: 0px; fill: rgb(34, 165, 133); fill-opacity: 1;\"/><path class=\"point plotly-customdata\" transform=\"translate(538.09,198.57)\" d=\"M3,0A3,3 0 1,1 0,-3A3,3 0 0,1 3,0Z\" style=\"opacity: 1; stroke-width: 0px; fill: rgb(52, 98, 141); fill-opacity: 1;\"/><path class=\"point plotly-customdata\" transform=\"translate(-123.29,-110.35)\" d=\"M3,0A3,3 0 1,1 0,-3A3,3 0 0,1 3,0Z\" style=\"opacity: 1; stroke-width: 0px; fill: rgb(253, 231, 37); fill-opacity: 1;\"/><path class=\"point plotly-customdata\" transform=\"translate(-128.01,-116.04)\" d=\"M3,0A3,3 0 1,1 0,-3A3,3 0 0,1 3,0Z\" style=\"opacity: 1; stroke-width: 0px; fill: rgb(253, 231, 37); fill-opacity: 1;\"/><path class=\"point plotly-customdata\" transform=\"translate(-92.32,-75.38)\" d=\"M3,0A3,3 0 1,1 0,-3A3,3 0 0,1 3,0Z\" style=\"opacity: 1; stroke-width: 0px; fill: rgb(253, 231, 37); fill-opacity: 1;\"/><path class=\"point plotly-customdata\" transform=\"translate(-539.66,-48088.61)\" d=\"M3,0A3,3 0 1,1 0,-3A3,3 0 0,1 3,0Z\" style=\"opacity: 1; stroke-width: 0px; fill: rgb(253, 231, 37); fill-opacity: 1;\"/><path class=\"point plotly-customdata\" transform=\"translate(522.27,195.73)\" d=\"M3,0A3,3 0 1,1 0,-3A3,3 0 0,1 3,0Z\" style=\"opacity: 1; stroke-width: 0px; fill: rgb(45, 177, 125); fill-opacity: 1;\"/><path class=\"point plotly-customdata\" transform=\"translate(542.65,205.04)\" d=\"M3,0A3,3 0 1,1 0,-3A3,3 0 0,1 3,0Z\" style=\"opacity: 1; stroke-width: 0px; fill: rgb(176, 220, 46); fill-opacity: 1;\"/><path class=\"point plotly-customdata\" transform=\"translate(-303.98,-447.36)\" d=\"M3,0A3,3 0 1,1 0,-3A3,3 0 0,1 3,0Z\" style=\"opacity: 1; stroke-width: 0px; fill: rgb(253, 231, 37); fill-opacity: 1;\"/><path class=\"point plotly-customdata\" transform=\"translate(-543.63,-563636.13)\" d=\"M3,0A3,3 0 1,1 0,-3A3,3 0 0,1 3,0Z\" style=\"opacity: 1; stroke-width: 0px; fill: rgb(253, 231, 37); fill-opacity: 1;\"/><path class=\"point plotly-customdata\" transform=\"translate(514.08,191.19)\" d=\"M3,0A3,3 0 1,1 0,-3A3,3 0 0,1 3,0Z\" style=\"opacity: 1; stroke-width: 0px; fill: rgb(253, 231, 37); fill-opacity: 1;\"/><path class=\"point plotly-customdata\" transform=\"translate(535.09,200.19)\" d=\"M3,0A3,3 0 1,1 0,-3A3,3 0 0,1 3,0Z\" style=\"opacity: 1; stroke-width: 0px; fill: rgb(150, 216, 63); fill-opacity: 1;\"/><path class=\"point plotly-customdata\" transform=\"translate(496.77,187.41)\" d=\"M3,0A3,3 0 1,1 0,-3A3,3 0 0,1 3,0Z\" style=\"opacity: 1; stroke-width: 0px; fill: rgb(253, 231, 37); fill-opacity: 1;\"/><path class=\"point plotly-customdata\" transform=\"translate(120.99,84.39)\" d=\"M3,0A3,3 0 1,1 0,-3A3,3 0 0,1 3,0Z\" style=\"opacity: 1; stroke-width: 0px; fill: rgb(253, 231, 37); fill-opacity: 1;\"/><path class=\"point plotly-customdata\" transform=\"translate(157.51,88.84)\" d=\"M3,0A3,3 0 1,1 0,-3A3,3 0 0,1 3,0Z\" style=\"opacity: 1; stroke-width: 0px; fill: rgb(253, 231, 37); fill-opacity: 1;\"/><path class=\"point plotly-customdata\" transform=\"translate(532.6,199.74)\" d=\"M3,0A3,3 0 1,1 0,-3A3,3 0 0,1 3,0Z\" style=\"opacity: 1; stroke-width: 0px; fill: rgb(247, 230, 35); fill-opacity: 1;\"/><path class=\"point plotly-customdata\" transform=\"translate(-38.35,-27.87)\" d=\"M3,0A3,3 0 1,1 0,-3A3,3 0 0,1 3,0Z\" style=\"opacity: 1; stroke-width: 0px; fill: rgb(253, 231, 37); fill-opacity: 1;\"/><path class=\"point plotly-customdata\" transform=\"translate(86.61,67.73)\" d=\"M3,0A3,3 0 1,1 0,-3A3,3 0 0,1 3,0Z\" style=\"opacity: 1; stroke-width: 0px; fill: rgb(253, 231, 37); fill-opacity: 1;\"/><path class=\"point plotly-customdata\" transform=\"translate(28.51,23.65)\" d=\"M3,0A3,3 0 1,1 0,-3A3,3 0 0,1 3,0Z\" style=\"opacity: 1; stroke-width: 0px; fill: rgb(253, 231, 37); fill-opacity: 1;\"/><path class=\"point plotly-customdata\" transform=\"translate(526.1,198.51)\" d=\"M3,0A3,3 0 1,1 0,-3A3,3 0 0,1 3,0Z\" style=\"opacity: 1; stroke-width: 0px; fill: rgb(37, 133, 142); fill-opacity: 1;\"/><path class=\"point plotly-customdata\" transform=\"translate(-519.23,-8130.36)\" d=\"M3,0A3,3 0 1,1 0,-3A3,3 0 0,1 3,0Z\" style=\"opacity: 1; stroke-width: 0px; fill: rgb(253, 231, 37); fill-opacity: 1;\"/><path class=\"point plotly-customdata\" transform=\"translate(-148.73,-143.39)\" d=\"M3,0A3,3 0 1,1 0,-3A3,3 0 0,1 3,0Z\" style=\"opacity: 1; stroke-width: 0px; fill: rgb(253, 231, 37); fill-opacity: 1;\"/><path class=\"point plotly-customdata\" transform=\"translate(536.43,200.41)\" d=\"M3,0A3,3 0 1,1 0,-3A3,3 0 0,1 3,0Z\" style=\"opacity: 1; stroke-width: 0px; fill: rgb(54, 93, 140); fill-opacity: 1;\"/><path class=\"point plotly-customdata\" transform=\"translate(445.02,178.24)\" d=\"M3,0A3,3 0 1,1 0,-3A3,3 0 0,1 3,0Z\" style=\"opacity: 1; stroke-width: 0px; fill: rgb(253, 231, 37); fill-opacity: 1;\"/><path class=\"point plotly-customdata\" transform=\"translate(537.72,196.55)\" d=\"M3,0A3,3 0 1,1 0,-3A3,3 0 0,1 3,0Z\" style=\"opacity: 1; stroke-width: 0px; fill: rgb(37, 133, 142); fill-opacity: 1;\"/><path class=\"point plotly-customdata\" transform=\"translate(519.93,201.53)\" d=\"M3,0A3,3 0 1,1 0,-3A3,3 0 0,1 3,0Z\" style=\"opacity: 1; stroke-width: 0px; fill: rgb(128, 211, 77); fill-opacity: 1;\"/><path class=\"point plotly-customdata\" transform=\"translate(104.01,72.45)\" d=\"M3,0A3,3 0 1,1 0,-3A3,3 0 0,1 3,0Z\" style=\"opacity: 1; stroke-width: 0px; fill: rgb(253, 231, 37); fill-opacity: 1;\"/><path class=\"point plotly-customdata\" transform=\"translate(-359.75,-748.52)\" d=\"M3,0A3,3 0 1,1 0,-3A3,3 0 0,1 3,0Z\" style=\"opacity: 1; stroke-width: 0px; fill: rgb(253, 231, 37); fill-opacity: 1;\"/><path class=\"point plotly-customdata\" transform=\"translate(-530.82,-15426.97)\" d=\"M3,0A3,3 0 1,1 0,-3A3,3 0 0,1 3,0Z\" style=\"opacity: 1; stroke-width: 0px; fill: rgb(253, 231, 37); fill-opacity: 1;\"/><path class=\"point plotly-customdata\" transform=\"translate(31.93,62.91)\" d=\"M3,0A3,3 0 1,1 0,-3A3,3 0 0,1 3,0Z\" style=\"opacity: 1; stroke-width: 0px; fill: rgb(253, 231, 37); fill-opacity: 1;\"/><path class=\"point plotly-customdata\" transform=\"translate(-539.13,-42838.95)\" d=\"M3,0A3,3 0 1,1 0,-3A3,3 0 0,1 3,0Z\" style=\"opacity: 1; stroke-width: 0px; fill: rgb(253, 231, 37); fill-opacity: 1;\"/><path class=\"point plotly-customdata\" transform=\"translate(-238.88,-297.31)\" d=\"M3,0A3,3 0 1,1 0,-3A3,3 0 0,1 3,0Z\" style=\"opacity: 1; stroke-width: 0px; fill: rgb(253, 231, 37); fill-opacity: 1;\"/><path class=\"point plotly-customdata\" transform=\"translate(514,192.7)\" d=\"M3,0A3,3 0 1,1 0,-3A3,3 0 0,1 3,0Z\" style=\"opacity: 1; stroke-width: 0px; fill: rgb(253, 231, 37); fill-opacity: 1;\"/><path class=\"point plotly-customdata\" transform=\"translate(175.86,105.46)\" d=\"M3,0A3,3 0 1,1 0,-3A3,3 0 0,1 3,0Z\" style=\"opacity: 1; stroke-width: 0px; fill: rgb(253, 231, 37); fill-opacity: 1;\"/><path class=\"point plotly-customdata\" transform=\"translate(15.87,14.07)\" d=\"M3,0A3,3 0 1,1 0,-3A3,3 0 0,1 3,0Z\" style=\"opacity: 1; stroke-width: 0px; fill: rgb(253, 231, 37); fill-opacity: 1;\"/><path class=\"point plotly-customdata\" transform=\"translate(297.45,140.04)\" d=\"M3,0A3,3 0 1,1 0,-3A3,3 0 0,1 3,0Z\" style=\"opacity: 1; stroke-width: 0px; fill: rgb(253, 231, 37); fill-opacity: 1;\"/><path class=\"point plotly-customdata\" transform=\"translate(506.07,203.14)\" d=\"M3,0A3,3 0 1,1 0,-3A3,3 0 0,1 3,0Z\" style=\"opacity: 1; stroke-width: 0px; fill: rgb(39, 173, 128); fill-opacity: 1;\"/><path class=\"point plotly-customdata\" transform=\"translate(-99.43,-75.44)\" d=\"M3,0A3,3 0 1,1 0,-3A3,3 0 0,1 3,0Z\" style=\"opacity: 1; stroke-width: 0px; fill: rgb(253, 231, 37); fill-opacity: 1;\"/><path class=\"point plotly-customdata\" transform=\"translate(540.07,195.48)\" d=\"M3,0A3,3 0 1,1 0,-3A3,3 0 0,1 3,0Z\" style=\"opacity: 1; stroke-width: 0px; fill: rgb(37, 133, 142); fill-opacity: 1;\"/><path class=\"point plotly-customdata\" transform=\"translate(531.46,207.56)\" d=\"M3,0A3,3 0 1,1 0,-3A3,3 0 0,1 3,0Z\" style=\"opacity: 1; stroke-width: 0px; fill: rgb(242, 230, 34); fill-opacity: 1;\"/><path class=\"point plotly-customdata\" transform=\"translate(-541.6,-87295.08)\" d=\"M3,0A3,3 0 1,1 0,-3A3,3 0 0,1 3,0Z\" style=\"opacity: 1; stroke-width: 0px; fill: rgb(253, 231, 37); fill-opacity: 1;\"/><path class=\"point plotly-customdata\" transform=\"translate(-152.68,-147.01)\" d=\"M3,0A3,3 0 1,1 0,-3A3,3 0 0,1 3,0Z\" style=\"opacity: 1; stroke-width: 0px; fill: rgb(253, 231, 37); fill-opacity: 1;\"/><path class=\"point plotly-customdata\" transform=\"translate(531.87,198.2)\" d=\"M3,0A3,3 0 1,1 0,-3A3,3 0 0,1 3,0Z\" style=\"opacity: 1; stroke-width: 0px; fill: rgb(33, 147, 139); fill-opacity: 1;\"/><path class=\"point plotly-customdata\" transform=\"translate(479.1,185.67)\" d=\"M3,0A3,3 0 1,1 0,-3A3,3 0 0,1 3,0Z\" style=\"opacity: 1; stroke-width: 0px; fill: rgb(253, 231, 37); fill-opacity: 1;\"/><path class=\"point plotly-customdata\" transform=\"translate(108.2,68.71)\" d=\"M3,0A3,3 0 1,1 0,-3A3,3 0 0,1 3,0Z\" style=\"opacity: 1; stroke-width: 0px; fill: rgb(253, 231, 37); fill-opacity: 1;\"/><path class=\"point plotly-customdata\" transform=\"translate(495.66,200.58)\" d=\"M3,0A3,3 0 1,1 0,-3A3,3 0 0,1 3,0Z\" style=\"opacity: 1; stroke-width: 0px; fill: rgb(158, 217, 58); fill-opacity: 1;\"/><path class=\"point plotly-customdata\" transform=\"translate(-33.77,-21.29)\" d=\"M3,0A3,3 0 1,1 0,-3A3,3 0 0,1 3,0Z\" style=\"opacity: 1; stroke-width: 0px; fill: rgb(253, 231, 37); fill-opacity: 1;\"/><path class=\"point plotly-customdata\" transform=\"translate(361.06,160.37)\" d=\"M3,0A3,3 0 1,1 0,-3A3,3 0 0,1 3,0Z\" style=\"opacity: 1; stroke-width: 0px; fill: rgb(253, 231, 37); fill-opacity: 1;\"/><path class=\"point plotly-customdata\" transform=\"translate(98.17,72.52)\" d=\"M3,0A3,3 0 1,1 0,-3A3,3 0 0,1 3,0Z\" style=\"opacity: 1; stroke-width: 0px; fill: rgb(253, 231, 37); fill-opacity: 1;\"/><path class=\"point plotly-customdata\" transform=\"translate(526.18,199.49)\" d=\"M3,0A3,3 0 1,1 0,-3A3,3 0 0,1 3,0Z\" style=\"opacity: 1; stroke-width: 0px; fill: rgb(45, 112, 142); fill-opacity: 1;\"/><path class=\"point plotly-customdata\" transform=\"translate(420.93,186.32)\" d=\"M3,0A3,3 0 1,1 0,-3A3,3 0 0,1 3,0Z\" style=\"opacity: 1; stroke-width: 0px; fill: rgb(253, 231, 37); fill-opacity: 1;\"/><path class=\"point plotly-customdata\" transform=\"translate(23.93,21.33)\" d=\"M3,0A3,3 0 1,1 0,-3A3,3 0 0,1 3,0Z\" style=\"opacity: 1; stroke-width: 0px; fill: rgb(253, 231, 37); fill-opacity: 1;\"/><path class=\"point plotly-customdata\" transform=\"translate(-543.68,-662002.05)\" d=\"M3,0A3,3 0 1,1 0,-3A3,3 0 0,1 3,0Z\" style=\"opacity: 1; stroke-width: 0px; fill: rgb(253, 231, 37); fill-opacity: 1;\"/><path class=\"point plotly-customdata\" transform=\"translate(529.62,204)\" d=\"M3,0A3,3 0 1,1 0,-3A3,3 0 0,1 3,0Z\" style=\"opacity: 1; stroke-width: 0px; fill: rgb(140, 213, 70); fill-opacity: 1;\"/><path class=\"point plotly-customdata\" transform=\"translate(-532.36,-17238.38)\" d=\"M3,0A3,3 0 1,1 0,-3A3,3 0 0,1 3,0Z\" style=\"opacity: 1; stroke-width: 0px; fill: rgb(253, 231, 37); fill-opacity: 1;\"/><path class=\"point plotly-customdata\" transform=\"translate(510.32,192.26)\" d=\"M3,0A3,3 0 1,1 0,-3A3,3 0 0,1 3,0Z\" style=\"opacity: 1; stroke-width: 0px; fill: rgb(253, 231, 37); fill-opacity: 1;\"/><path class=\"point plotly-customdata\" transform=\"translate(518.08,196.87)\" d=\"M3,0A3,3 0 1,1 0,-3A3,3 0 0,1 3,0Z\" style=\"opacity: 1; stroke-width: 0px; fill: rgb(34, 165, 133); fill-opacity: 1;\"/><path class=\"point plotly-customdata\" transform=\"translate(523.25,196.71)\" d=\"M3,0A3,3 0 1,1 0,-3A3,3 0 0,1 3,0Z\" style=\"opacity: 1; stroke-width: 0px; fill: rgb(230, 228, 30); fill-opacity: 1;\"/><path class=\"point plotly-customdata\" transform=\"translate(492.52,188.56)\" d=\"M3,0A3,3 0 1,1 0,-3A3,3 0 0,1 3,0Z\" style=\"opacity: 1; stroke-width: 0px; fill: rgb(253, 231, 37); fill-opacity: 1;\"/><path class=\"point plotly-customdata\" transform=\"translate(-543.25,-275661.93)\" d=\"M3,0A3,3 0 1,1 0,-3A3,3 0 0,1 3,0Z\" style=\"opacity: 1; stroke-width: 0px; fill: rgb(253, 231, 37); fill-opacity: 1;\"/><path class=\"point plotly-customdata\" transform=\"translate(514.84,194.18)\" d=\"M3,0A3,3 0 1,1 0,-3A3,3 0 0,1 3,0Z\" style=\"opacity: 1; stroke-width: 0px; fill: rgb(253, 231, 37); fill-opacity: 1;\"/><path class=\"point plotly-customdata\" transform=\"translate(507.05,194.77)\" d=\"M3,0A3,3 0 1,1 0,-3A3,3 0 0,1 3,0Z\" style=\"opacity: 1; stroke-width: 0px; fill: rgb(253, 231, 37); fill-opacity: 1;\"/><path class=\"point plotly-customdata\" transform=\"translate(445.35,186.41)\" d=\"M3,0A3,3 0 1,1 0,-3A3,3 0 0,1 3,0Z\" style=\"opacity: 1; stroke-width: 0px; fill: rgb(253, 231, 37); fill-opacity: 1;\"/><path class=\"point plotly-customdata\" transform=\"translate(537.89,195.62)\" d=\"M3,0A3,3 0 1,1 0,-3A3,3 0 0,1 3,0Z\" style=\"opacity: 1; stroke-width: 0px; fill: rgb(168, 219, 51); fill-opacity: 1;\"/><path class=\"point plotly-customdata\" transform=\"translate(538.61,201.93)\" d=\"M3,0A3,3 0 1,1 0,-3A3,3 0 0,1 3,0Z\" style=\"opacity: 1; stroke-width: 0px; fill: rgb(51, 99, 141); fill-opacity: 1;\"/><path class=\"point plotly-customdata\" transform=\"translate(77.09,54.2)\" d=\"M3,0A3,3 0 1,1 0,-3A3,3 0 0,1 3,0Z\" style=\"opacity: 1; stroke-width: 0px; fill: rgb(253, 231, 37); fill-opacity: 1;\"/><path class=\"point plotly-customdata\" transform=\"translate(202.13,112.17)\" d=\"M3,0A3,3 0 1,1 0,-3A3,3 0 0,1 3,0Z\" style=\"opacity: 1; stroke-width: 0px; fill: rgb(253, 231, 37); fill-opacity: 1;\"/><path class=\"point plotly-customdata\" transform=\"translate(457.13,183.76)\" d=\"M3,0A3,3 0 1,1 0,-3A3,3 0 0,1 3,0Z\" style=\"opacity: 1; stroke-width: 0px; fill: rgb(253, 231, 37); fill-opacity: 1;\"/><path class=\"point plotly-customdata\" transform=\"translate(-389.3,-972.88)\" d=\"M3,0A3,3 0 1,1 0,-3A3,3 0 0,1 3,0Z\" style=\"opacity: 1; stroke-width: 0px; fill: rgb(253, 231, 37); fill-opacity: 1;\"/><path class=\"point plotly-customdata\" transform=\"translate(-543.39,-344316.92)\" d=\"M3,0A3,3 0 1,1 0,-3A3,3 0 0,1 3,0Z\" style=\"opacity: 1; stroke-width: 0px; fill: rgb(253, 231, 37); fill-opacity: 1;\"/><path class=\"point plotly-customdata\" transform=\"translate(529.26,194.27)\" d=\"M3,0A3,3 0 1,1 0,-3A3,3 0 0,1 3,0Z\" style=\"opacity: 1; stroke-width: 0px; fill: rgb(253, 231, 37); fill-opacity: 1;\"/><path class=\"point plotly-customdata\" transform=\"translate(98.95,62.41)\" d=\"M3,0A3,3 0 1,1 0,-3A3,3 0 0,1 3,0Z\" style=\"opacity: 1; stroke-width: 0px; fill: rgb(253, 231, 37); fill-opacity: 1;\"/><path class=\"point plotly-customdata\" transform=\"translate(-529.94,-14543.81)\" d=\"M3,0A3,3 0 1,1 0,-3A3,3 0 0,1 3,0Z\" style=\"opacity: 1; stroke-width: 0px; fill: rgb(253, 231, 37); fill-opacity: 1;\"/><path class=\"point plotly-customdata\" transform=\"translate(531.98,194.48)\" d=\"M3,0A3,3 0 1,1 0,-3A3,3 0 0,1 3,0Z\" style=\"opacity: 1; stroke-width: 0px; fill: rgb(253, 231, 37); fill-opacity: 1;\"/><path class=\"point plotly-customdata\" transform=\"translate(536.76,195.41)\" d=\"M3,0A3,3 0 1,1 0,-3A3,3 0 0,1 3,0Z\" style=\"opacity: 1; stroke-width: 0px; fill: rgb(32, 162, 135); fill-opacity: 1;\"/><path class=\"point plotly-customdata\" transform=\"translate(2.39,4.64)\" d=\"M3,0A3,3 0 1,1 0,-3A3,3 0 0,1 3,0Z\" style=\"opacity: 1; stroke-width: 0px; fill: rgb(253, 231, 37); fill-opacity: 1;\"/><path class=\"point plotly-customdata\" transform=\"translate(476.72,188.67)\" d=\"M3,0A3,3 0 1,1 0,-3A3,3 0 0,1 3,0Z\" style=\"opacity: 1; stroke-width: 0px; fill: rgb(253, 231, 37); fill-opacity: 1;\"/><path class=\"point plotly-customdata\" transform=\"translate(-540.66,-62674.35)\" d=\"M3,0A3,3 0 1,1 0,-3A3,3 0 0,1 3,0Z\" style=\"opacity: 1; stroke-width: 0px; fill: rgb(253, 231, 37); fill-opacity: 1;\"/><path class=\"point plotly-customdata\" transform=\"translate(-531.13,-15994.43)\" d=\"M3,0A3,3 0 1,1 0,-3A3,3 0 0,1 3,0Z\" style=\"opacity: 1; stroke-width: 0px; fill: rgb(253, 231, 37); fill-opacity: 1;\"/><path class=\"point plotly-customdata\" transform=\"translate(426.64,176.42)\" d=\"M3,0A3,3 0 1,1 0,-3A3,3 0 0,1 3,0Z\" style=\"opacity: 1; stroke-width: 0px; fill: rgb(253, 231, 37); fill-opacity: 1;\"/><path class=\"point plotly-customdata\" transform=\"translate(534.33,199.01)\" d=\"M3,0A3,3 0 1,1 0,-3A3,3 0 0,1 3,0Z\" style=\"opacity: 1; stroke-width: 0px; fill: rgb(165, 218, 53); fill-opacity: 1;\"/><path class=\"point plotly-customdata\" transform=\"translate(-543.47,-398590.28)\" d=\"M3,0A3,3 0 1,1 0,-3A3,3 0 0,1 3,0Z\" style=\"opacity: 1; stroke-width: 0px; fill: rgb(253, 231, 37); fill-opacity: 1;\"/><path class=\"point plotly-customdata\" transform=\"translate(404.73,172.01)\" d=\"M3,0A3,3 0 1,1 0,-3A3,3 0 0,1 3,0Z\" style=\"opacity: 1; stroke-width: 0px; fill: rgb(253, 231, 37); fill-opacity: 1;\"/><path class=\"point plotly-customdata\" transform=\"translate(-538.26,-36067.19)\" d=\"M3,0A3,3 0 1,1 0,-3A3,3 0 0,1 3,0Z\" style=\"opacity: 1; stroke-width: 0px; fill: rgb(253, 231, 37); fill-opacity: 1;\"/><path class=\"point plotly-customdata\" transform=\"translate(530.09,195.4)\" d=\"M3,0A3,3 0 1,1 0,-3A3,3 0 0,1 3,0Z\" style=\"opacity: 1; stroke-width: 0px; fill: rgb(37, 133, 142); fill-opacity: 1;\"/><path class=\"point plotly-customdata\" transform=\"translate(-95.76,-70.57)\" d=\"M3,0A3,3 0 1,1 0,-3A3,3 0 0,1 3,0Z\" style=\"opacity: 1; stroke-width: 0px; fill: rgb(253, 231, 37); fill-opacity: 1;\"/><path class=\"point plotly-customdata\" transform=\"translate(536.15,194.53)\" d=\"M3,0A3,3 0 1,1 0,-3A3,3 0 0,1 3,0Z\" style=\"opacity: 1; stroke-width: 0px; fill: rgb(253, 231, 37); fill-opacity: 1;\"/><path class=\"point plotly-customdata\" transform=\"translate(460.21,185.72)\" d=\"M3,0A3,3 0 1,1 0,-3A3,3 0 0,1 3,0Z\" style=\"opacity: 1; stroke-width: 0px; fill: rgb(253, 231, 37); fill-opacity: 1;\"/><path class=\"point plotly-customdata\" transform=\"translate(542.02,195.17)\" d=\"M3,0A3,3 0 1,1 0,-3A3,3 0 0,1 3,0Z\" style=\"opacity: 1; stroke-width: 0px; fill: rgb(33, 163, 134); fill-opacity: 1;\"/><path class=\"point plotly-customdata\" transform=\"translate(-537.4,-30822.12)\" d=\"M3,0A3,3 0 1,1 0,-3A3,3 0 0,1 3,0Z\" style=\"opacity: 1; stroke-width: 0px; fill: rgb(253, 231, 37); fill-opacity: 1;\"/><path class=\"point plotly-customdata\" transform=\"translate(-542.97,-201818.7)\" d=\"M3,0A3,3 0 1,1 0,-3A3,3 0 0,1 3,0Z\" style=\"opacity: 1; stroke-width: 0px; fill: rgb(253, 231, 37); fill-opacity: 1;\"/><path class=\"point plotly-customdata\" transform=\"translate(539.93,195.11)\" d=\"M3,0A3,3 0 1,1 0,-3A3,3 0 0,1 3,0Z\" style=\"opacity: 1; stroke-width: 0px; fill: rgb(233, 228, 31); fill-opacity: 1;\"/><path class=\"point plotly-customdata\" transform=\"translate(-332.54,-610.48)\" d=\"M3,0A3,3 0 1,1 0,-3A3,3 0 0,1 3,0Z\" style=\"opacity: 1; stroke-width: 0px; fill: rgb(253, 231, 37); fill-opacity: 1;\"/><path class=\"point plotly-customdata\" transform=\"translate(527.17,194.46)\" d=\"M3,0A3,3 0 1,1 0,-3A3,3 0 0,1 3,0Z\" style=\"opacity: 1; stroke-width: 0px; fill: rgb(253, 231, 37); fill-opacity: 1;\"/><path class=\"point plotly-customdata\" transform=\"translate(-538.95,-41431.11)\" d=\"M3,0A3,3 0 1,1 0,-3A3,3 0 0,1 3,0Z\" style=\"opacity: 1; stroke-width: 0px; fill: rgb(253, 231, 37); fill-opacity: 1;\"/><path class=\"point plotly-customdata\" transform=\"translate(-539.68,-47846.01)\" d=\"M3,0A3,3 0 1,1 0,-3A3,3 0 0,1 3,0Z\" style=\"opacity: 1; stroke-width: 0px; fill: rgb(253, 231, 37); fill-opacity: 1;\"/><path class=\"point plotly-customdata\" transform=\"translate(538.61,195.3)\" d=\"M3,0A3,3 0 1,1 0,-3A3,3 0 0,1 3,0Z\" style=\"opacity: 1; stroke-width: 0px; fill: rgb(112, 206, 87); fill-opacity: 1;\"/><path class=\"point plotly-customdata\" transform=\"translate(154.65,90.04)\" d=\"M3,0A3,3 0 1,1 0,-3A3,3 0 0,1 3,0Z\" style=\"opacity: 1; stroke-width: 0px; fill: rgb(253, 231, 37); fill-opacity: 1;\"/><path class=\"point plotly-customdata\" transform=\"translate(-361.53,-766.47)\" d=\"M3,0A3,3 0 1,1 0,-3A3,3 0 0,1 3,0Z\" style=\"opacity: 1; stroke-width: 0px; fill: rgb(253, 231, 37); fill-opacity: 1;\"/><path class=\"point plotly-customdata\" transform=\"translate(-221.06,-259.65)\" d=\"M3,0A3,3 0 1,1 0,-3A3,3 0 0,1 3,0Z\" style=\"opacity: 1; stroke-width: 0px; fill: rgb(253, 231, 37); fill-opacity: 1;\"/><path class=\"point plotly-customdata\" transform=\"translate(541.91,197.8)\" d=\"M3,0A3,3 0 1,1 0,-3A3,3 0 0,1 3,0Z\" style=\"opacity: 1; stroke-width: 0px; fill: rgb(41, 122, 142); fill-opacity: 1;\"/><path class=\"point plotly-customdata\" transform=\"translate(474.87,185.38)\" d=\"M3,0A3,3 0 1,1 0,-3A3,3 0 0,1 3,0Z\" style=\"opacity: 1; stroke-width: 0px; fill: rgb(253, 231, 37); fill-opacity: 1;\"/><path class=\"point plotly-customdata\" transform=\"translate(542.41,202.47)\" d=\"M3,0A3,3 0 1,1 0,-3A3,3 0 0,1 3,0Z\" style=\"opacity: 1; stroke-width: 0px; fill: rgb(48, 105, 141); fill-opacity: 1;\"/><path class=\"point plotly-customdata\" transform=\"translate(-229.82,-275.37)\" d=\"M3,0A3,3 0 1,1 0,-3A3,3 0 0,1 3,0Z\" style=\"opacity: 1; stroke-width: 0px; fill: rgb(253, 231, 37); fill-opacity: 1;\"/><path class=\"point plotly-customdata\" transform=\"translate(461.04,186.2)\" d=\"M3,0A3,3 0 1,1 0,-3A3,3 0 0,1 3,0Z\" style=\"opacity: 1; stroke-width: 0px; fill: rgb(253, 231, 37); fill-opacity: 1;\"/><path class=\"point plotly-customdata\" transform=\"translate(-541.47,-83087.66)\" d=\"M3,0A3,3 0 1,1 0,-3A3,3 0 0,1 3,0Z\" style=\"opacity: 1; stroke-width: 0px; fill: rgb(253, 231, 37); fill-opacity: 1;\"/><path class=\"point plotly-customdata\" transform=\"translate(-543.17,-254094.36)\" d=\"M3,0A3,3 0 1,1 0,-3A3,3 0 0,1 3,0Z\" style=\"opacity: 1; stroke-width: 0px; fill: rgb(253, 231, 37); fill-opacity: 1;\"/><path class=\"point plotly-customdata\" transform=\"translate(533.62,194.16)\" d=\"M3,0A3,3 0 1,1 0,-3A3,3 0 0,1 3,0Z\" style=\"opacity: 1; stroke-width: 0px; fill: rgb(253, 231, 37); fill-opacity: 1;\"/><path class=\"point plotly-customdata\" transform=\"translate(-542.51,-141098.15)\" d=\"M3,0A3,3 0 1,1 0,-3A3,3 0 0,1 3,0Z\" style=\"opacity: 1; stroke-width: 0px; fill: rgb(253, 231, 37); fill-opacity: 1;\"/><path class=\"point plotly-customdata\" transform=\"translate(542.97,197.29)\" d=\"M3,0A3,3 0 1,1 0,-3A3,3 0 0,1 3,0Z\" style=\"opacity: 1; stroke-width: 0px; fill: rgb(52, 96, 141); fill-opacity: 1;\"/><path class=\"point plotly-customdata\" transform=\"translate(542.48,197.06)\" d=\"M3,0A3,3 0 1,1 0,-3A3,3 0 0,1 3,0Z\" style=\"opacity: 1; stroke-width: 0px; fill: rgb(71, 40, 119); fill-opacity: 1;\"/><path class=\"point plotly-customdata\" transform=\"translate(29.19,21.24)\" d=\"M3,0A3,3 0 1,1 0,-3A3,3 0 0,1 3,0Z\" style=\"opacity: 1; stroke-width: 0px; fill: rgb(253, 231, 37); fill-opacity: 1;\"/><path class=\"point plotly-customdata\" transform=\"translate(41.07,33.59)\" d=\"M3,0A3,3 0 1,1 0,-3A3,3 0 0,1 3,0Z\" style=\"opacity: 1; stroke-width: 0px; fill: rgb(253, 231, 37); fill-opacity: 1;\"/><path class=\"point plotly-customdata\" transform=\"translate(-361.84,-760.27)\" d=\"M3,0A3,3 0 1,1 0,-3A3,3 0 0,1 3,0Z\" style=\"opacity: 1; stroke-width: 0px; fill: rgb(253, 231, 37); fill-opacity: 1;\"/><path class=\"point plotly-customdata\" transform=\"translate(540.08,196.62)\" d=\"M3,0A3,3 0 1,1 0,-3A3,3 0 0,1 3,0Z\" style=\"opacity: 1; stroke-width: 0px; fill: rgb(39, 128, 142); fill-opacity: 1;\"/><path class=\"point plotly-customdata\" transform=\"translate(501.23,188.63)\" d=\"M3,0A3,3 0 1,1 0,-3A3,3 0 0,1 3,0Z\" style=\"opacity: 1; stroke-width: 0px; fill: rgb(253, 231, 37); fill-opacity: 1;\"/><path class=\"point plotly-customdata\" transform=\"translate(-543.42,-351160.82)\" d=\"M3,0A3,3 0 1,1 0,-3A3,3 0 0,1 3,0Z\" style=\"opacity: 1; stroke-width: 0px; fill: rgb(253, 231, 37); fill-opacity: 1;\"/><path class=\"point plotly-customdata\" transform=\"translate(-415.87,-1258.14)\" d=\"M3,0A3,3 0 1,1 0,-3A3,3 0 0,1 3,0Z\" style=\"opacity: 1; stroke-width: 0px; fill: rgb(253, 231, 37); fill-opacity: 1;\"/><path class=\"point plotly-customdata\" transform=\"translate(541.73,197.13)\" d=\"M3,0A3,3 0 1,1 0,-3A3,3 0 0,1 3,0Z\" style=\"opacity: 1; stroke-width: 0px; fill: rgb(66, 64, 134); fill-opacity: 1;\"/><path class=\"point plotly-customdata\" transform=\"translate(147.62,85.68)\" d=\"M3,0A3,3 0 1,1 0,-3A3,3 0 0,1 3,0Z\" style=\"opacity: 1; stroke-width: 0px; fill: rgb(253, 231, 37); fill-opacity: 1;\"/><path class=\"point plotly-customdata\" transform=\"translate(529.59,194.63)\" d=\"M3,0A3,3 0 1,1 0,-3A3,3 0 0,1 3,0Z\" style=\"opacity: 1; stroke-width: 0px; fill: rgb(253, 231, 37); fill-opacity: 1;\"/><path class=\"point plotly-customdata\" transform=\"translate(517.48,192.79)\" d=\"M3,0A3,3 0 1,1 0,-3A3,3 0 0,1 3,0Z\" style=\"opacity: 1; stroke-width: 0px; fill: rgb(253, 231, 37); fill-opacity: 1;\"/><path class=\"point plotly-customdata\" transform=\"translate(-385.9,-943.65)\" d=\"M3,0A3,3 0 1,1 0,-3A3,3 0 0,1 3,0Z\" style=\"opacity: 1; stroke-width: 0px; fill: rgb(253, 231, 37); fill-opacity: 1;\"/><path class=\"point plotly-customdata\" transform=\"translate(-264.78,-362.82)\" d=\"M3,0A3,3 0 1,1 0,-3A3,3 0 0,1 3,0Z\" style=\"opacity: 1; stroke-width: 0px; fill: rgb(253, 231, 37); fill-opacity: 1;\"/><path class=\"point plotly-customdata\" transform=\"translate(-62.23,-46.56)\" d=\"M3,0A3,3 0 1,1 0,-3A3,3 0 0,1 3,0Z\" style=\"opacity: 1; stroke-width: 0px; fill: rgb(253, 231, 37); fill-opacity: 1;\"/><path class=\"point plotly-customdata\" transform=\"translate(-537.89,-33724.79)\" d=\"M3,0A3,3 0 1,1 0,-3A3,3 0 0,1 3,0Z\" style=\"opacity: 1; stroke-width: 0px; fill: rgb(253, 231, 37); fill-opacity: 1;\"/><path class=\"point plotly-customdata\" transform=\"translate(365.94,158.16)\" d=\"M3,0A3,3 0 1,1 0,-3A3,3 0 0,1 3,0Z\" style=\"opacity: 1; stroke-width: 0px; fill: rgb(253, 231, 37); fill-opacity: 1;\"/><path class=\"point plotly-customdata\" transform=\"translate(110.86,75.14)\" d=\"M3,0A3,3 0 1,1 0,-3A3,3 0 0,1 3,0Z\" style=\"opacity: 1; stroke-width: 0px; fill: rgb(253, 231, 37); fill-opacity: 1;\"/><path class=\"point plotly-customdata\" transform=\"translate(188,119.48)\" d=\"M3,0A3,3 0 1,1 0,-3A3,3 0 0,1 3,0Z\" style=\"opacity: 1; stroke-width: 0px; fill: rgb(253, 231, 37); fill-opacity: 1;\"/><path class=\"point plotly-customdata\" transform=\"translate(529.14,194.25)\" d=\"M3,0A3,3 0 1,1 0,-3A3,3 0 0,1 3,0Z\" style=\"opacity: 1; stroke-width: 0px; fill: rgb(253, 231, 37); fill-opacity: 1;\"/><path class=\"point plotly-customdata\" transform=\"translate(476.32,182.78)\" d=\"M3,0A3,3 0 1,1 0,-3A3,3 0 0,1 3,0Z\" style=\"opacity: 1; stroke-width: 0px; fill: rgb(253, 231, 37); fill-opacity: 1;\"/><path class=\"point plotly-customdata\" transform=\"translate(-537.2,-30665.72)\" d=\"M3,0A3,3 0 1,1 0,-3A3,3 0 0,1 3,0Z\" style=\"opacity: 1; stroke-width: 0px; fill: rgb(253, 231, 37); fill-opacity: 1;\"/><path class=\"point plotly-customdata\" transform=\"translate(502.01,191.47)\" d=\"M3,0A3,3 0 1,1 0,-3A3,3 0 0,1 3,0Z\" style=\"opacity: 1; stroke-width: 0px; fill: rgb(253, 231, 37); fill-opacity: 1;\"/><path class=\"point plotly-customdata\" transform=\"translate(255.69,129.39)\" d=\"M3,0A3,3 0 1,1 0,-3A3,3 0 0,1 3,0Z\" style=\"opacity: 1; stroke-width: 0px; fill: rgb(253, 231, 37); fill-opacity: 1;\"/><path class=\"point plotly-customdata\" transform=\"translate(532.6,195.42)\" d=\"M3,0A3,3 0 1,1 0,-3A3,3 0 0,1 3,0Z\" style=\"opacity: 1; stroke-width: 0px; fill: rgb(119, 208, 83); fill-opacity: 1;\"/><path class=\"point plotly-customdata\" transform=\"translate(-538.37,-37168.99)\" d=\"M3,0A3,3 0 1,1 0,-3A3,3 0 0,1 3,0Z\" style=\"opacity: 1; stroke-width: 0px; fill: rgb(253, 231, 37); fill-opacity: 1;\"/><path class=\"point plotly-customdata\" transform=\"translate(-225.76,-268.06)\" d=\"M3,0A3,3 0 1,1 0,-3A3,3 0 0,1 3,0Z\" style=\"opacity: 1; stroke-width: 0px; fill: rgb(253, 231, 37); fill-opacity: 1;\"/><path class=\"point plotly-customdata\" transform=\"translate(528.93,196.07)\" d=\"M3,0A3,3 0 1,1 0,-3A3,3 0 0,1 3,0Z\" style=\"opacity: 1; stroke-width: 0px; fill: rgb(223, 227, 27); fill-opacity: 1;\"/><path class=\"point plotly-customdata\" transform=\"translate(-20.27,-11.17)\" d=\"M3,0A3,3 0 1,1 0,-3A3,3 0 0,1 3,0Z\" style=\"opacity: 1; stroke-width: 0px; fill: rgb(253, 231, 37); fill-opacity: 1;\"/><path class=\"point plotly-customdata\" transform=\"translate(-539.81,-49853.73)\" d=\"M3,0A3,3 0 1,1 0,-3A3,3 0 0,1 3,0Z\" style=\"opacity: 1; stroke-width: 0px; fill: rgb(253, 231, 37); fill-opacity: 1;\"/><path class=\"point plotly-customdata\" transform=\"translate(-386.5,-947.48)\" d=\"M3,0A3,3 0 1,1 0,-3A3,3 0 0,1 3,0Z\" style=\"opacity: 1; stroke-width: 0px; fill: rgb(253, 231, 37); fill-opacity: 1;\"/><path class=\"point plotly-customdata\" transform=\"translate(-148.86,-140.86)\" d=\"M3,0A3,3 0 1,1 0,-3A3,3 0 0,1 3,0Z\" style=\"opacity: 1; stroke-width: 0px; fill: rgb(253, 231, 37); fill-opacity: 1;\"/><path class=\"point plotly-customdata\" transform=\"translate(540.56,196.17)\" d=\"M3,0A3,3 0 1,1 0,-3A3,3 0 0,1 3,0Z\" style=\"opacity: 1; stroke-width: 0px; fill: rgb(32, 161, 135); fill-opacity: 1;\"/><path class=\"point plotly-customdata\" transform=\"translate(-532.61,-18096.22)\" d=\"M3,0A3,3 0 1,1 0,-3A3,3 0 0,1 3,0Z\" style=\"opacity: 1; stroke-width: 0px; fill: rgb(253, 231, 37); fill-opacity: 1;\"/><path class=\"point plotly-customdata\" transform=\"translate(293,137.85)\" d=\"M3,0A3,3 0 1,1 0,-3A3,3 0 0,1 3,0Z\" style=\"opacity: 1; stroke-width: 0px; fill: rgb(253, 231, 37); fill-opacity: 1;\"/><path class=\"point plotly-customdata\" transform=\"translate(533.72,194.72)\" d=\"M3,0A3,3 0 1,1 0,-3A3,3 0 0,1 3,0Z\" style=\"opacity: 1; stroke-width: 0px; fill: rgb(253, 231, 37); fill-opacity: 1;\"/><path class=\"point plotly-customdata\" transform=\"translate(540.01,197.04)\" d=\"M3,0A3,3 0 1,1 0,-3A3,3 0 0,1 3,0Z\" style=\"opacity: 1; stroke-width: 0px; fill: rgb(55, 91, 140); fill-opacity: 1;\"/><path class=\"point plotly-customdata\" transform=\"translate(-524.37,-10351.64)\" d=\"M3,0A3,3 0 1,1 0,-3A3,3 0 0,1 3,0Z\" style=\"opacity: 1; stroke-width: 0px; fill: rgb(253, 231, 37); fill-opacity: 1;\"/><path class=\"point plotly-customdata\" transform=\"translate(-467.39,-2364.29)\" d=\"M3,0A3,3 0 1,1 0,-3A3,3 0 0,1 3,0Z\" style=\"opacity: 1; stroke-width: 0px; fill: rgb(253, 231, 37); fill-opacity: 1;\"/><path class=\"point plotly-customdata\" transform=\"translate(-1.18,2.53)\" d=\"M3,0A3,3 0 1,1 0,-3A3,3 0 0,1 3,0Z\" style=\"opacity: 1; stroke-width: 0px; fill: rgb(253, 231, 37); fill-opacity: 1;\"/><path class=\"point plotly-customdata\" transform=\"translate(523.71,194.19)\" d=\"M3,0A3,3 0 1,1 0,-3A3,3 0 0,1 3,0Z\" style=\"opacity: 1; stroke-width: 0px; fill: rgb(253, 231, 37); fill-opacity: 1;\"/><path class=\"point plotly-customdata\" transform=\"translate(533.84,197.06)\" d=\"M3,0A3,3 0 1,1 0,-3A3,3 0 0,1 3,0Z\" style=\"opacity: 1; stroke-width: 0px; fill: rgb(40, 125, 142); fill-opacity: 1;\"/><path class=\"point plotly-customdata\" transform=\"translate(541.51,197.4)\" d=\"M3,0A3,3 0 1,1 0,-3A3,3 0 0,1 3,0Z\" style=\"opacity: 1; stroke-width: 0px; fill: rgb(72, 33, 113); fill-opacity: 1;\"/><path class=\"point plotly-customdata\" transform=\"translate(537.28,196.14)\" d=\"M3,0A3,3 0 1,1 0,-3A3,3 0 0,1 3,0Z\" style=\"opacity: 1; stroke-width: 0px; fill: rgb(55, 90, 140); fill-opacity: 1;\"/><path class=\"point plotly-customdata\" transform=\"translate(-1.79,5.73)\" d=\"M3,0A3,3 0 1,1 0,-3A3,3 0 0,1 3,0Z\" style=\"opacity: 1; stroke-width: 0px; fill: rgb(253, 231, 37); fill-opacity: 1;\"/><path class=\"point plotly-customdata\" transform=\"translate(535.21,195.77)\" d=\"M3,0A3,3 0 1,1 0,-3A3,3 0 0,1 3,0Z\" style=\"opacity: 1; stroke-width: 0px; fill: rgb(37, 133, 142); fill-opacity: 1;\"/><path class=\"point plotly-customdata\" transform=\"translate(-535.62,-24743)\" d=\"M3,0A3,3 0 1,1 0,-3A3,3 0 0,1 3,0Z\" style=\"opacity: 1; stroke-width: 0px; fill: rgb(253, 231, 37); fill-opacity: 1;\"/><path class=\"point plotly-customdata\" transform=\"translate(538.95,197.69)\" d=\"M3,0A3,3 0 1,1 0,-3A3,3 0 0,1 3,0Z\" style=\"opacity: 1; stroke-width: 0px; fill: rgb(47, 108, 142); fill-opacity: 1;\"/><path class=\"point plotly-customdata\" transform=\"translate(533.71,195.92)\" d=\"M3,0A3,3 0 1,1 0,-3A3,3 0 0,1 3,0Z\" style=\"opacity: 1; stroke-width: 0px; fill: rgb(43, 176, 126); fill-opacity: 1;\"/><path class=\"point plotly-customdata\" transform=\"translate(-440.85,-1633.99)\" d=\"M3,0A3,3 0 1,1 0,-3A3,3 0 0,1 3,0Z\" style=\"opacity: 1; stroke-width: 0px; fill: rgb(253, 231, 37); fill-opacity: 1;\"/><path class=\"point plotly-customdata\" transform=\"translate(-543.18,-256071.85)\" d=\"M3,0A3,3 0 1,1 0,-3A3,3 0 0,1 3,0Z\" style=\"opacity: 1; stroke-width: 0px; fill: rgb(253, 231, 37); fill-opacity: 1;\"/><path class=\"point plotly-customdata\" transform=\"translate(162.79,96)\" d=\"M3,0A3,3 0 1,1 0,-3A3,3 0 0,1 3,0Z\" style=\"opacity: 1; stroke-width: 0px; fill: rgb(253, 231, 37); fill-opacity: 1;\"/><path class=\"point plotly-customdata\" transform=\"translate(153.04,97.05)\" d=\"M3,0A3,3 0 1,1 0,-3A3,3 0 0,1 3,0Z\" style=\"opacity: 1; stroke-width: 0px; fill: rgb(253, 231, 37); fill-opacity: 1;\"/><path class=\"point plotly-customdata\" transform=\"translate(534.3,194.46)\" d=\"M3,0A3,3 0 1,1 0,-3A3,3 0 0,1 3,0Z\" style=\"opacity: 1; stroke-width: 0px; fill: rgb(253, 231, 37); fill-opacity: 1;\"/><path class=\"point plotly-customdata\" transform=\"translate(-536.16,-26445.73)\" d=\"M3,0A3,3 0 1,1 0,-3A3,3 0 0,1 3,0Z\" style=\"opacity: 1; stroke-width: 0px; fill: rgb(253, 231, 37); fill-opacity: 1;\"/><path class=\"point plotly-customdata\" transform=\"translate(474.37,185.49)\" d=\"M3,0A3,3 0 1,1 0,-3A3,3 0 0,1 3,0Z\" style=\"opacity: 1; stroke-width: 0px; fill: rgb(253, 231, 37); fill-opacity: 1;\"/><path class=\"point plotly-customdata\" transform=\"translate(-521.01,-8689.63)\" d=\"M3,0A3,3 0 1,1 0,-3A3,3 0 0,1 3,0Z\" style=\"opacity: 1; stroke-width: 0px; fill: rgb(253, 231, 37); fill-opacity: 1;\"/><path class=\"point plotly-customdata\" transform=\"translate(-538.76,-39639.75)\" d=\"M3,0A3,3 0 1,1 0,-3A3,3 0 0,1 3,0Z\" style=\"opacity: 1; stroke-width: 0px; fill: rgb(253, 231, 37); fill-opacity: 1;\"/><path class=\"point plotly-customdata\" transform=\"translate(525.52,196.6)\" d=\"M3,0A3,3 0 1,1 0,-3A3,3 0 0,1 3,0Z\" style=\"opacity: 1; stroke-width: 0px; fill: rgb(36, 135, 141); fill-opacity: 1;\"/><path class=\"point plotly-customdata\" transform=\"translate(-542.12,-111463.75)\" d=\"M3,0A3,3 0 1,1 0,-3A3,3 0 0,1 3,0Z\" style=\"opacity: 1; stroke-width: 0px; fill: rgb(253, 231, 37); fill-opacity: 1;\"/><path class=\"point plotly-customdata\" transform=\"translate(-537.02,-28867.04)\" d=\"M3,0A3,3 0 1,1 0,-3A3,3 0 0,1 3,0Z\" style=\"opacity: 1; stroke-width: 0px; fill: rgb(253, 231, 37); fill-opacity: 1;\"/><path class=\"point plotly-customdata\" transform=\"translate(541.25,202.4)\" d=\"M3,0A3,3 0 1,1 0,-3A3,3 0 0,1 3,0Z\" style=\"opacity: 1; stroke-width: 0px; fill: rgb(48, 104, 141); fill-opacity: 1;\"/><path class=\"point plotly-customdata\" transform=\"translate(-528.37,-12932.43)\" d=\"M3,0A3,3 0 1,1 0,-3A3,3 0 0,1 3,0Z\" style=\"opacity: 1; stroke-width: 0px; fill: rgb(253, 231, 37); fill-opacity: 1;\"/><path class=\"point plotly-customdata\" transform=\"translate(-541.98,-101015.08)\" d=\"M3,0A3,3 0 1,1 0,-3A3,3 0 0,1 3,0Z\" style=\"opacity: 1; stroke-width: 0px; fill: rgb(253, 231, 37); fill-opacity: 1;\"/><path class=\"point plotly-customdata\" transform=\"translate(523.36,196.57)\" d=\"M3,0A3,3 0 1,1 0,-3A3,3 0 0,1 3,0Z\" style=\"opacity: 1; stroke-width: 0px; fill: rgb(37, 133, 142); fill-opacity: 1;\"/><path class=\"point plotly-customdata\" transform=\"translate(-538.67,-38853)\" d=\"M3,0A3,3 0 1,1 0,-3A3,3 0 0,1 3,0Z\" style=\"opacity: 1; stroke-width: 0px; fill: rgb(253, 231, 37); fill-opacity: 1;\"/><path class=\"point plotly-customdata\" transform=\"translate(508.63,193.97)\" d=\"M3,0A3,3 0 1,1 0,-3A3,3 0 0,1 3,0Z\" style=\"opacity: 1; stroke-width: 0px; fill: rgb(253, 231, 37); fill-opacity: 1;\"/><path class=\"point plotly-customdata\" transform=\"translate(-534.2,-20965.91)\" d=\"M3,0A3,3 0 1,1 0,-3A3,3 0 0,1 3,0Z\" style=\"opacity: 1; stroke-width: 0px; fill: rgb(253, 231, 37); fill-opacity: 1;\"/><path class=\"point plotly-customdata\" transform=\"translate(-458.5,-2070.11)\" d=\"M3,0A3,3 0 1,1 0,-3A3,3 0 0,1 3,0Z\" style=\"opacity: 1; stroke-width: 0px; fill: rgb(253, 231, 37); fill-opacity: 1;\"/><path class=\"point plotly-customdata\" transform=\"translate(537.38,198.1)\" d=\"M3,0A3,3 0 1,1 0,-3A3,3 0 0,1 3,0Z\" style=\"opacity: 1; stroke-width: 0px; fill: rgb(37, 133, 142); fill-opacity: 1;\"/><path class=\"point plotly-customdata\" transform=\"translate(-521.29,-8831.05)\" d=\"M3,0A3,3 0 1,1 0,-3A3,3 0 0,1 3,0Z\" style=\"opacity: 1; stroke-width: 0px; fill: rgb(253, 231, 37); fill-opacity: 1;\"/><path class=\"point plotly-customdata\" transform=\"translate(-128.48,-118.46)\" d=\"M3,0A3,3 0 1,1 0,-3A3,3 0 0,1 3,0Z\" style=\"opacity: 1; stroke-width: 0px; fill: rgb(253, 231, 37); fill-opacity: 1;\"/><path class=\"point plotly-customdata\" transform=\"translate(242.43,122.55)\" d=\"M3,0A3,3 0 1,1 0,-3A3,3 0 0,1 3,0Z\" style=\"opacity: 1; stroke-width: 0px; fill: rgb(253, 231, 37); fill-opacity: 1;\"/><path class=\"point plotly-customdata\" transform=\"translate(-501.9,-4631.73)\" d=\"M3,0A3,3 0 1,1 0,-3A3,3 0 0,1 3,0Z\" style=\"opacity: 1; stroke-width: 0px; fill: rgb(253, 231, 37); fill-opacity: 1;\"/><path class=\"point plotly-customdata\" transform=\"translate(65.83,47)\" d=\"M3,0A3,3 0 1,1 0,-3A3,3 0 0,1 3,0Z\" style=\"opacity: 1; stroke-width: 0px; fill: rgb(253, 231, 37); fill-opacity: 1;\"/><path class=\"point plotly-customdata\" transform=\"translate(402.24,175.2)\" d=\"M3,0A3,3 0 1,1 0,-3A3,3 0 0,1 3,0Z\" style=\"opacity: 1; stroke-width: 0px; fill: rgb(253, 231, 37); fill-opacity: 1;\"/><path class=\"point plotly-customdata\" transform=\"translate(521.2,198.08)\" d=\"M3,0A3,3 0 1,1 0,-3A3,3 0 0,1 3,0Z\" style=\"opacity: 1; stroke-width: 0px; fill: rgb(66, 64, 134); fill-opacity: 1;\"/><path class=\"point plotly-customdata\" transform=\"translate(-320.29,-553.81)\" d=\"M3,0A3,3 0 1,1 0,-3A3,3 0 0,1 3,0Z\" style=\"opacity: 1; stroke-width: 0px; fill: rgb(253, 231, 37); fill-opacity: 1;\"/><path class=\"point plotly-customdata\" transform=\"translate(507.45,194.13)\" d=\"M3,0A3,3 0 1,1 0,-3A3,3 0 0,1 3,0Z\" style=\"opacity: 1; stroke-width: 0px; fill: rgb(253, 231, 37); fill-opacity: 1;\"/><path class=\"point plotly-customdata\" transform=\"translate(121.95,92.78)\" d=\"M3,0A3,3 0 1,1 0,-3A3,3 0 0,1 3,0Z\" style=\"opacity: 1; stroke-width: 0px; fill: rgb(253, 231, 37); fill-opacity: 1;\"/><path class=\"point plotly-customdata\" transform=\"translate(-234.34,-266.36)\" d=\"M3,0A3,3 0 1,1 0,-3A3,3 0 0,1 3,0Z\" style=\"opacity: 1; stroke-width: 0px; fill: rgb(253, 231, 37); fill-opacity: 1;\"/><path class=\"point plotly-customdata\" transform=\"translate(-99.02,-79.14)\" d=\"M3,0A3,3 0 1,1 0,-3A3,3 0 0,1 3,0Z\" style=\"opacity: 1; stroke-width: 0px; fill: rgb(253, 231, 37); fill-opacity: 1;\"/><path class=\"point plotly-customdata\" transform=\"translate(537.75,195.22)\" d=\"M3,0A3,3 0 1,1 0,-3A3,3 0 0,1 3,0Z\" style=\"opacity: 1; stroke-width: 0px; fill: rgb(146, 215, 66); fill-opacity: 1;\"/><path class=\"point plotly-customdata\" transform=\"translate(-529.22,-13911.07)\" d=\"M3,0A3,3 0 1,1 0,-3A3,3 0 0,1 3,0Z\" style=\"opacity: 1; stroke-width: 0px; fill: rgb(253, 231, 37); fill-opacity: 1;\"/><path class=\"point plotly-customdata\" transform=\"translate(535.36,194.82)\" d=\"M3,0A3,3 0 1,1 0,-3A3,3 0 0,1 3,0Z\" style=\"opacity: 1; stroke-width: 0px; fill: rgb(253, 231, 37); fill-opacity: 1;\"/><path class=\"point plotly-customdata\" transform=\"translate(540.18,220.15)\" d=\"M3,0A3,3 0 1,1 0,-3A3,3 0 0,1 3,0Z\" style=\"opacity: 1; stroke-width: 0px; fill: rgb(68, 57, 130); fill-opacity: 1;\"/><path class=\"point plotly-customdata\" transform=\"translate(-328.35,-586.19)\" d=\"M3,0A3,3 0 1,1 0,-3A3,3 0 0,1 3,0Z\" style=\"opacity: 1; stroke-width: 0px; fill: rgb(253, 231, 37); fill-opacity: 1;\"/><path class=\"point plotly-customdata\" transform=\"translate(-537.97,-34363.51)\" d=\"M3,0A3,3 0 1,1 0,-3A3,3 0 0,1 3,0Z\" style=\"opacity: 1; stroke-width: 0px; fill: rgb(253, 231, 37); fill-opacity: 1;\"/><path class=\"point plotly-customdata\" transform=\"translate(542.88,195.96)\" d=\"M3,0A3,3 0 1,1 0,-3A3,3 0 0,1 3,0Z\" style=\"opacity: 1; stroke-width: 0px; fill: rgb(38, 131, 142); fill-opacity: 1;\"/><path class=\"point plotly-customdata\" transform=\"translate(534.38,195.01)\" d=\"M3,0A3,3 0 1,1 0,-3A3,3 0 0,1 3,0Z\" style=\"opacity: 1; stroke-width: 0px; fill: rgb(215, 226, 26); fill-opacity: 1;\"/><path class=\"point plotly-customdata\" transform=\"translate(-485.43,-3166.17)\" d=\"M3,0A3,3 0 1,1 0,-3A3,3 0 0,1 3,0Z\" style=\"opacity: 1; stroke-width: 0px; fill: rgb(253, 231, 37); fill-opacity: 1;\"/><path class=\"point plotly-customdata\" transform=\"translate(-73.72,-59.73)\" d=\"M3,0A3,3 0 1,1 0,-3A3,3 0 0,1 3,0Z\" style=\"opacity: 1; stroke-width: 0px; fill: rgb(253, 231, 37); fill-opacity: 1;\"/><path class=\"point plotly-customdata\" transform=\"translate(152.29,87.02)\" d=\"M3,0A3,3 0 1,1 0,-3A3,3 0 0,1 3,0Z\" style=\"opacity: 1; stroke-width: 0px; fill: rgb(253, 231, 37); fill-opacity: 1;\"/><path class=\"point plotly-customdata\" transform=\"translate(11.42,17.26)\" d=\"M3,0A3,3 0 1,1 0,-3A3,3 0 0,1 3,0Z\" style=\"opacity: 1; stroke-width: 0px; fill: rgb(253, 231, 37); fill-opacity: 1;\"/><path class=\"point plotly-customdata\" transform=\"translate(541.87,196.96)\" d=\"M3,0A3,3 0 1,1 0,-3A3,3 0 0,1 3,0Z\" style=\"opacity: 1; stroke-width: 0px; fill: rgb(71, 42, 120); fill-opacity: 1;\"/><path class=\"point plotly-customdata\" transform=\"translate(535.64,195.36)\" d=\"M3,0A3,3 0 1,1 0,-3A3,3 0 0,1 3,0Z\" style=\"opacity: 1; stroke-width: 0px; fill: rgb(204, 224, 31); fill-opacity: 1;\"/><path class=\"point plotly-customdata\" transform=\"translate(65.11,65.04)\" d=\"M3,0A3,3 0 1,1 0,-3A3,3 0 0,1 3,0Z\" style=\"opacity: 1; stroke-width: 0px; fill: rgb(253, 231, 37); fill-opacity: 1;\"/><path class=\"point plotly-customdata\" transform=\"translate(539.8,195.08)\" d=\"M3,0A3,3 0 1,1 0,-3A3,3 0 0,1 3,0Z\" style=\"opacity: 1; stroke-width: 0px; fill: rgb(173, 220, 48); fill-opacity: 1;\"/><path class=\"point plotly-customdata\" transform=\"translate(-152.63,-149.4)\" d=\"M3,0A3,3 0 1,1 0,-3A3,3 0 0,1 3,0Z\" style=\"opacity: 1; stroke-width: 0px; fill: rgb(253, 231, 37); fill-opacity: 1;\"/><path class=\"point plotly-customdata\" transform=\"translate(541.47,220.36)\" d=\"M3,0A3,3 0 1,1 0,-3A3,3 0 0,1 3,0Z\" style=\"opacity: 1; stroke-width: 0px; fill: rgb(62, 73, 137); fill-opacity: 1;\"/><path class=\"point plotly-customdata\" transform=\"translate(-535.44,-24073.74)\" d=\"M3,0A3,3 0 1,1 0,-3A3,3 0 0,1 3,0Z\" style=\"opacity: 1; stroke-width: 0px; fill: rgb(253, 231, 37); fill-opacity: 1;\"/><path class=\"point plotly-customdata\" transform=\"translate(-188.75,-198.76)\" d=\"M3,0A3,3 0 1,1 0,-3A3,3 0 0,1 3,0Z\" style=\"opacity: 1; stroke-width: 0px; fill: rgb(253, 231, 37); fill-opacity: 1;\"/><path class=\"point plotly-customdata\" transform=\"translate(540.85,195.37)\" d=\"M3,0A3,3 0 1,1 0,-3A3,3 0 0,1 3,0Z\" style=\"opacity: 1; stroke-width: 0px; fill: rgb(33, 147, 139); fill-opacity: 1;\"/><path class=\"point plotly-customdata\" transform=\"translate(117.09,75.98)\" d=\"M3,0A3,3 0 1,1 0,-3A3,3 0 0,1 3,0Z\" style=\"opacity: 1; stroke-width: 0px; fill: rgb(253, 231, 37); fill-opacity: 1;\"/><path class=\"point plotly-customdata\" transform=\"translate(-219.25,-250.31)\" d=\"M3,0A3,3 0 1,1 0,-3A3,3 0 0,1 3,0Z\" style=\"opacity: 1; stroke-width: 0px; fill: rgb(253, 231, 37); fill-opacity: 1;\"/><path class=\"point plotly-customdata\" transform=\"translate(540.98,197.33)\" d=\"M3,0A3,3 0 1,1 0,-3A3,3 0 0,1 3,0Z\" style=\"opacity: 1; stroke-width: 0px; fill: rgb(37, 133, 142); fill-opacity: 1;\"/><path class=\"point plotly-customdata\" transform=\"translate(535.36,195.53)\" d=\"M3,0A3,3 0 1,1 0,-3A3,3 0 0,1 3,0Z\" style=\"opacity: 1; stroke-width: 0px; fill: rgb(91, 200, 100); fill-opacity: 1;\"/><path class=\"point plotly-customdata\" transform=\"translate(537.88,224.34)\" d=\"M3,0A3,3 0 1,1 0,-3A3,3 0 0,1 3,0Z\" style=\"opacity: 1; stroke-width: 0px; fill: rgb(149, 215, 64); fill-opacity: 1;\"/><path class=\"point plotly-customdata\" transform=\"translate(478.74,186.61)\" d=\"M3,0A3,3 0 1,1 0,-3A3,3 0 0,1 3,0Z\" style=\"opacity: 1; stroke-width: 0px; fill: rgb(253, 231, 37); fill-opacity: 1;\"/><path class=\"point plotly-customdata\" transform=\"translate(515.37,195.26)\" d=\"M3,0A3,3 0 1,1 0,-3A3,3 0 0,1 3,0Z\" style=\"opacity: 1; stroke-width: 0px; fill: rgb(253, 231, 37); fill-opacity: 1;\"/><path class=\"point plotly-customdata\" transform=\"translate(-51.25,-34.88)\" d=\"M3,0A3,3 0 1,1 0,-3A3,3 0 0,1 3,0Z\" style=\"opacity: 1; stroke-width: 0px; fill: rgb(253, 231, 37); fill-opacity: 1;\"/><path class=\"point plotly-customdata\" transform=\"translate(412.86,169.97)\" d=\"M3,0A3,3 0 1,1 0,-3A3,3 0 0,1 3,0Z\" style=\"opacity: 1; stroke-width: 0px; fill: rgb(253, 231, 37); fill-opacity: 1;\"/><path class=\"point plotly-customdata\" transform=\"translate(462.6,182.04)\" d=\"M3,0A3,3 0 1,1 0,-3A3,3 0 0,1 3,0Z\" style=\"opacity: 1; stroke-width: 0px; fill: rgb(253, 231, 37); fill-opacity: 1;\"/><path class=\"point plotly-customdata\" transform=\"translate(541.29,206.39)\" d=\"M3,0A3,3 0 1,1 0,-3A3,3 0 0,1 3,0Z\" style=\"opacity: 1; stroke-width: 0px; fill: rgb(32, 156, 137); fill-opacity: 1;\"/><path class=\"point plotly-customdata\" transform=\"translate(-537.67,-32867.47)\" d=\"M3,0A3,3 0 1,1 0,-3A3,3 0 0,1 3,0Z\" style=\"opacity: 1; stroke-width: 0px; fill: rgb(253, 231, 37); fill-opacity: 1;\"/><path class=\"point plotly-customdata\" transform=\"translate(476.5,187.91)\" d=\"M3,0A3,3 0 1,1 0,-3A3,3 0 0,1 3,0Z\" style=\"opacity: 1; stroke-width: 0px; fill: rgb(253, 231, 37); fill-opacity: 1;\"/><path class=\"point plotly-customdata\" transform=\"translate(211.77,111.65)\" d=\"M3,0A3,3 0 1,1 0,-3A3,3 0 0,1 3,0Z\" style=\"opacity: 1; stroke-width: 0px; fill: rgb(253, 231, 37); fill-opacity: 1;\"/><path class=\"point plotly-customdata\" transform=\"translate(-540.82,-66048.61)\" d=\"M3,0A3,3 0 1,1 0,-3A3,3 0 0,1 3,0Z\" style=\"opacity: 1; stroke-width: 0px; fill: rgb(253, 231, 37); fill-opacity: 1;\"/><path class=\"point plotly-customdata\" transform=\"translate(-529.79,-14408.36)\" d=\"M3,0A3,3 0 1,1 0,-3A3,3 0 0,1 3,0Z\" style=\"opacity: 1; stroke-width: 0px; fill: rgb(253, 231, 37); fill-opacity: 1;\"/><path class=\"point plotly-customdata\" transform=\"translate(-541.28,-77075.27)\" d=\"M3,0A3,3 0 1,1 0,-3A3,3 0 0,1 3,0Z\" style=\"opacity: 1; stroke-width: 0px; fill: rgb(253, 231, 37); fill-opacity: 1;\"/><path class=\"point plotly-customdata\" transform=\"translate(476.94,184.45)\" d=\"M3,0A3,3 0 1,1 0,-3A3,3 0 0,1 3,0Z\" style=\"opacity: 1; stroke-width: 0px; fill: rgb(253, 231, 37); fill-opacity: 1;\"/><path class=\"point plotly-customdata\" transform=\"translate(540.06,197.62)\" d=\"M3,0A3,3 0 1,1 0,-3A3,3 0 0,1 3,0Z\" style=\"opacity: 1; stroke-width: 0px; fill: rgb(42, 120, 142); fill-opacity: 1;\"/><path class=\"point plotly-customdata\" transform=\"translate(536.02,196.03)\" d=\"M3,0A3,3 0 1,1 0,-3A3,3 0 0,1 3,0Z\" style=\"opacity: 1; stroke-width: 0px; fill: rgb(104, 204, 92); fill-opacity: 1;\"/><path class=\"point plotly-customdata\" transform=\"translate(-538.89,-40438.69)\" d=\"M3,0A3,3 0 1,1 0,-3A3,3 0 0,1 3,0Z\" style=\"opacity: 1; stroke-width: 0px; fill: rgb(253, 231, 37); fill-opacity: 1;\"/><path class=\"point plotly-customdata\" transform=\"translate(-275.9,-395.73)\" d=\"M3,0A3,3 0 1,1 0,-3A3,3 0 0,1 3,0Z\" style=\"opacity: 1; stroke-width: 0px; fill: rgb(253, 231, 37); fill-opacity: 1;\"/><path class=\"point plotly-customdata\" transform=\"translate(-142.09,-134.39)\" d=\"M3,0A3,3 0 1,1 0,-3A3,3 0 0,1 3,0Z\" style=\"opacity: 1; stroke-width: 0px; fill: rgb(253, 231, 37); fill-opacity: 1;\"/><path class=\"point plotly-customdata\" transform=\"translate(541.21,197.08)\" d=\"M3,0A3,3 0 1,1 0,-3A3,3 0 0,1 3,0Z\" style=\"opacity: 1; stroke-width: 0px; fill: rgb(50, 100, 141); fill-opacity: 1;\"/><path class=\"point plotly-customdata\" transform=\"translate(441.45,179.09)\" d=\"M3,0A3,3 0 1,1 0,-3A3,3 0 0,1 3,0Z\" style=\"opacity: 1; stroke-width: 0px; fill: rgb(253, 231, 37); fill-opacity: 1;\"/><path class=\"point plotly-customdata\" transform=\"translate(102.37,63.75)\" d=\"M3,0A3,3 0 1,1 0,-3A3,3 0 0,1 3,0Z\" style=\"opacity: 1; stroke-width: 0px; fill: rgb(253, 231, 37); fill-opacity: 1;\"/><path class=\"point plotly-customdata\" transform=\"translate(-333.97,-611.76)\" d=\"M3,0A3,3 0 1,1 0,-3A3,3 0 0,1 3,0Z\" style=\"opacity: 1; stroke-width: 0px; fill: rgb(253, 231, 37); fill-opacity: 1;\"/><path class=\"point plotly-customdata\" transform=\"translate(542.39,205.81)\" d=\"M3,0A3,3 0 1,1 0,-3A3,3 0 0,1 3,0Z\" style=\"opacity: 1; stroke-width: 0px; fill: rgb(62, 74, 137); fill-opacity: 1;\"/><path class=\"point plotly-customdata\" transform=\"translate(-191.04,-203.46)\" d=\"M3,0A3,3 0 1,1 0,-3A3,3 0 0,1 3,0Z\" style=\"opacity: 1; stroke-width: 0px; fill: rgb(253, 231, 37); fill-opacity: 1;\"/><path class=\"point plotly-customdata\" transform=\"translate(-108.23,-77.44)\" d=\"M3,0A3,3 0 1,1 0,-3A3,3 0 0,1 3,0Z\" style=\"opacity: 1; stroke-width: 0px; fill: rgb(253, 231, 37); fill-opacity: 1;\"/><path class=\"point plotly-customdata\" transform=\"translate(19.04,37.26)\" d=\"M3,0A3,3 0 1,1 0,-3A3,3 0 0,1 3,0Z\" style=\"opacity: 1; stroke-width: 0px; fill: rgb(253, 231, 37); fill-opacity: 1;\"/><path class=\"point plotly-customdata\" transform=\"translate(202.77,119.9)\" d=\"M3,0A3,3 0 1,1 0,-3A3,3 0 0,1 3,0Z\" style=\"opacity: 1; stroke-width: 0px; fill: rgb(253, 231, 37); fill-opacity: 1;\"/><path class=\"point plotly-customdata\" transform=\"translate(520.04,197.19)\" d=\"M3,0A3,3 0 1,1 0,-3A3,3 0 0,1 3,0Z\" style=\"opacity: 1; stroke-width: 0px; fill: rgb(32, 149, 139); fill-opacity: 1;\"/><path class=\"point plotly-customdata\" transform=\"translate(424.49,173.91)\" d=\"M3,0A3,3 0 1,1 0,-3A3,3 0 0,1 3,0Z\" style=\"opacity: 1; stroke-width: 0px; fill: rgb(253, 231, 37); fill-opacity: 1;\"/><path class=\"point plotly-customdata\" transform=\"translate(-123.45,-112.65)\" d=\"M3,0A3,3 0 1,1 0,-3A3,3 0 0,1 3,0Z\" style=\"opacity: 1; stroke-width: 0px; fill: rgb(253, 231, 37); fill-opacity: 1;\"/><path class=\"point plotly-customdata\" transform=\"translate(509.92,196.07)\" d=\"M3,0A3,3 0 1,1 0,-3A3,3 0 0,1 3,0Z\" style=\"opacity: 1; stroke-width: 0px; fill: rgb(234, 228, 31); fill-opacity: 1;\"/><path class=\"point plotly-customdata\" transform=\"translate(-190.15,-205.32)\" d=\"M3,0A3,3 0 1,1 0,-3A3,3 0 0,1 3,0Z\" style=\"opacity: 1; stroke-width: 0px; fill: rgb(253, 231, 37); fill-opacity: 1;\"/><path class=\"point plotly-customdata\" transform=\"translate(-216.28,-252.04)\" d=\"M3,0A3,3 0 1,1 0,-3A3,3 0 0,1 3,0Z\" style=\"opacity: 1; stroke-width: 0px; fill: rgb(253, 231, 37); fill-opacity: 1;\"/><path class=\"point plotly-customdata\" transform=\"translate(504.14,192.05)\" d=\"M3,0A3,3 0 1,1 0,-3A3,3 0 0,1 3,0Z\" style=\"opacity: 1; stroke-width: 0px; fill: rgb(253, 231, 37); fill-opacity: 1;\"/><path class=\"point plotly-customdata\" transform=\"translate(-117.92,-97.75)\" d=\"M3,0A3,3 0 1,1 0,-3A3,3 0 0,1 3,0Z\" style=\"opacity: 1; stroke-width: 0px; fill: rgb(253, 231, 37); fill-opacity: 1;\"/><path class=\"point plotly-customdata\" transform=\"translate(529.94,196.49)\" d=\"M3,0A3,3 0 1,1 0,-3A3,3 0 0,1 3,0Z\" style=\"opacity: 1; stroke-width: 0px; fill: rgb(230, 228, 29); fill-opacity: 1;\"/><path class=\"point plotly-customdata\" transform=\"translate(-269.98,-374.31)\" d=\"M3,0A3,3 0 1,1 0,-3A3,3 0 0,1 3,0Z\" style=\"opacity: 1; stroke-width: 0px; fill: rgb(253, 231, 37); fill-opacity: 1;\"/><path class=\"point plotly-customdata\" transform=\"translate(-215.85,-247.96)\" d=\"M3,0A3,3 0 1,1 0,-3A3,3 0 0,1 3,0Z\" style=\"opacity: 1; stroke-width: 0px; fill: rgb(253, 231, 37); fill-opacity: 1;\"/><path class=\"point plotly-customdata\" transform=\"translate(-211.83,-244.75)\" d=\"M3,0A3,3 0 1,1 0,-3A3,3 0 0,1 3,0Z\" style=\"opacity: 1; stroke-width: 0px; fill: rgb(253, 231, 37); fill-opacity: 1;\"/><path class=\"point plotly-customdata\" transform=\"translate(296.14,144.52)\" d=\"M3,0A3,3 0 1,1 0,-3A3,3 0 0,1 3,0Z\" style=\"opacity: 1; stroke-width: 0px; fill: rgb(253, 231, 37); fill-opacity: 1;\"/><path class=\"point plotly-customdata\" transform=\"translate(432.39,176.95)\" d=\"M3,0A3,3 0 1,1 0,-3A3,3 0 0,1 3,0Z\" style=\"opacity: 1; stroke-width: 0px; fill: rgb(253, 231, 37); fill-opacity: 1;\"/><path class=\"point plotly-customdata\" transform=\"translate(122.88,80.22)\" d=\"M3,0A3,3 0 1,1 0,-3A3,3 0 0,1 3,0Z\" style=\"opacity: 1; stroke-width: 0px; fill: rgb(253, 231, 37); fill-opacity: 1;\"/><path class=\"point plotly-customdata\" transform=\"translate(541.16,195.41)\" d=\"M3,0A3,3 0 1,1 0,-3A3,3 0 0,1 3,0Z\" style=\"opacity: 1; stroke-width: 0px; fill: rgb(37, 133, 142); fill-opacity: 1;\"/><path class=\"point plotly-customdata\" transform=\"translate(496.85,187.1)\" d=\"M3,0A3,3 0 1,1 0,-3A3,3 0 0,1 3,0Z\" style=\"opacity: 1; stroke-width: 0px; fill: rgb(253, 231, 37); fill-opacity: 1;\"/><path class=\"point plotly-customdata\" transform=\"translate(501.33,194.67)\" d=\"M3,0A3,3 0 1,1 0,-3A3,3 0 0,1 3,0Z\" style=\"opacity: 1; stroke-width: 0px; fill: rgb(253, 231, 37); fill-opacity: 1;\"/><path class=\"point plotly-customdata\" transform=\"translate(541.27,197.25)\" d=\"M3,0A3,3 0 1,1 0,-3A3,3 0 0,1 3,0Z\" style=\"opacity: 1; stroke-width: 0px; fill: rgb(68, 57, 130); fill-opacity: 1;\"/><path class=\"point plotly-customdata\" transform=\"translate(540.76,199.08)\" d=\"M3,0A3,3 0 1,1 0,-3A3,3 0 0,1 3,0Z\" style=\"opacity: 1; stroke-width: 0px; fill: rgb(49, 103, 141); fill-opacity: 1;\"/><path class=\"point plotly-customdata\" transform=\"translate(-521.99,-9082.89)\" d=\"M3,0A3,3 0 1,1 0,-3A3,3 0 0,1 3,0Z\" style=\"opacity: 1; stroke-width: 0px; fill: rgb(253, 231, 37); fill-opacity: 1;\"/><path class=\"point plotly-customdata\" transform=\"translate(-150,-143.4)\" d=\"M3,0A3,3 0 1,1 0,-3A3,3 0 0,1 3,0Z\" style=\"opacity: 1; stroke-width: 0px; fill: rgb(253, 231, 37); fill-opacity: 1;\"/><path class=\"point plotly-customdata\" transform=\"translate(-263.16,-348.51)\" d=\"M3,0A3,3 0 1,1 0,-3A3,3 0 0,1 3,0Z\" style=\"opacity: 1; stroke-width: 0px; fill: rgb(253, 231, 37); fill-opacity: 1;\"/><path class=\"point plotly-customdata\" transform=\"translate(-543.62,-558807.21)\" d=\"M3,0A3,3 0 1,1 0,-3A3,3 0 0,1 3,0Z\" style=\"opacity: 1; stroke-width: 0px; fill: rgb(253, 231, 37); fill-opacity: 1;\"/><path class=\"point plotly-customdata\" transform=\"translate(-208.85,-237.82)\" d=\"M3,0A3,3 0 1,1 0,-3A3,3 0 0,1 3,0Z\" style=\"opacity: 1; stroke-width: 0px; fill: rgb(253, 231, 37); fill-opacity: 1;\"/><path class=\"point plotly-customdata\" transform=\"translate(-103.08,-87.26)\" d=\"M3,0A3,3 0 1,1 0,-3A3,3 0 0,1 3,0Z\" style=\"opacity: 1; stroke-width: 0px; fill: rgb(253, 231, 37); fill-opacity: 1;\"/><path class=\"point plotly-customdata\" transform=\"translate(-76.58,-61.61)\" d=\"M3,0A3,3 0 1,1 0,-3A3,3 0 0,1 3,0Z\" style=\"opacity: 1; stroke-width: 0px; fill: rgb(253, 231, 37); fill-opacity: 1;\"/><path class=\"point plotly-customdata\" transform=\"translate(-200.07,-225.05)\" d=\"M3,0A3,3 0 1,1 0,-3A3,3 0 0,1 3,0Z\" style=\"opacity: 1; stroke-width: 0px; fill: rgb(253, 231, 37); fill-opacity: 1;\"/><path class=\"point plotly-customdata\" transform=\"translate(-543.74,-820211.22)\" d=\"M3,0A3,3 0 1,1 0,-3A3,3 0 0,1 3,0Z\" style=\"opacity: 1; stroke-width: 0px; fill: rgb(253, 231, 37); fill-opacity: 1;\"/><path class=\"point plotly-customdata\" transform=\"translate(-535.71,-25054.87)\" d=\"M3,0A3,3 0 1,1 0,-3A3,3 0 0,1 3,0Z\" style=\"opacity: 1; stroke-width: 0px; fill: rgb(253, 231, 37); fill-opacity: 1;\"/><path class=\"point plotly-customdata\" transform=\"translate(502.02,188.8)\" d=\"M3,0A3,3 0 1,1 0,-3A3,3 0 0,1 3,0Z\" style=\"opacity: 1; stroke-width: 0px; fill: rgb(253, 231, 37); fill-opacity: 1;\"/><path class=\"point plotly-customdata\" transform=\"translate(543.52,202.79)\" d=\"M3,0A3,3 0 1,1 0,-3A3,3 0 0,1 3,0Z\" style=\"opacity: 1; stroke-width: 0px; fill: rgb(70, 14, 97); fill-opacity: 1;\"/><path class=\"point plotly-customdata\" transform=\"translate(-323.45,-568.23)\" d=\"M3,0A3,3 0 1,1 0,-3A3,3 0 0,1 3,0Z\" style=\"opacity: 1; stroke-width: 0px; fill: rgb(253, 231, 37); fill-opacity: 1;\"/><path class=\"point plotly-customdata\" transform=\"translate(437.06,177.63)\" d=\"M3,0A3,3 0 1,1 0,-3A3,3 0 0,1 3,0Z\" style=\"opacity: 1; stroke-width: 0px; fill: rgb(253, 231, 37); fill-opacity: 1;\"/><path class=\"point plotly-customdata\" transform=\"translate(516.95,192.1)\" d=\"M3,0A3,3 0 1,1 0,-3A3,3 0 0,1 3,0Z\" style=\"opacity: 1; stroke-width: 0px; fill: rgb(253, 231, 37); fill-opacity: 1;\"/><path class=\"point plotly-customdata\" transform=\"translate(-24.38,-8.5)\" d=\"M3,0A3,3 0 1,1 0,-3A3,3 0 0,1 3,0Z\" style=\"opacity: 1; stroke-width: 0px; fill: rgb(253, 231, 37); fill-opacity: 1;\"/><path class=\"point plotly-customdata\" transform=\"translate(520.8,193.58)\" d=\"M3,0A3,3 0 1,1 0,-3A3,3 0 0,1 3,0Z\" style=\"opacity: 1; stroke-width: 0px; fill: rgb(253, 231, 37); fill-opacity: 1;\"/><path class=\"point plotly-customdata\" transform=\"translate(3.43,4.74)\" d=\"M3,0A3,3 0 1,1 0,-3A3,3 0 0,1 3,0Z\" style=\"opacity: 1; stroke-width: 0px; fill: rgb(253, 231, 37); fill-opacity: 1;\"/><path class=\"point plotly-customdata\" transform=\"translate(-477.76,-2782.88)\" d=\"M3,0A3,3 0 1,1 0,-3A3,3 0 0,1 3,0Z\" style=\"opacity: 1; stroke-width: 0px; fill: rgb(253, 231, 37); fill-opacity: 1;\"/><path class=\"point plotly-customdata\" transform=\"translate(-365.6,-793.26)\" d=\"M3,0A3,3 0 1,1 0,-3A3,3 0 0,1 3,0Z\" style=\"opacity: 1; stroke-width: 0px; fill: rgb(253, 231, 37); fill-opacity: 1;\"/><path class=\"point plotly-customdata\" transform=\"translate(-149.02,-141.44)\" d=\"M3,0A3,3 0 1,1 0,-3A3,3 0 0,1 3,0Z\" style=\"opacity: 1; stroke-width: 0px; fill: rgb(253, 231, 37); fill-opacity: 1;\"/><path class=\"point plotly-customdata\" transform=\"translate(-102.95,-88.17)\" d=\"M3,0A3,3 0 1,1 0,-3A3,3 0 0,1 3,0Z\" style=\"opacity: 1; stroke-width: 0px; fill: rgb(253, 231, 37); fill-opacity: 1;\"/><path class=\"point plotly-customdata\" transform=\"translate(537.74,196.46)\" d=\"M3,0A3,3 0 1,1 0,-3A3,3 0 0,1 3,0Z\" style=\"opacity: 1; stroke-width: 0px; fill: rgb(233, 228, 30); fill-opacity: 1;\"/><path class=\"point plotly-customdata\" transform=\"translate(-513.07,-6436.87)\" d=\"M3,0A3,3 0 1,1 0,-3A3,3 0 0,1 3,0Z\" style=\"opacity: 1; stroke-width: 0px; fill: rgb(253, 231, 37); fill-opacity: 1;\"/><path class=\"point plotly-customdata\" transform=\"translate(58.01,39.55)\" d=\"M3,0A3,3 0 1,1 0,-3A3,3 0 0,1 3,0Z\" style=\"opacity: 1; stroke-width: 0px; fill: rgb(253, 231, 37); fill-opacity: 1;\"/><path class=\"point plotly-customdata\" transform=\"translate(-527.37,-12325.29)\" d=\"M3,0A3,3 0 1,1 0,-3A3,3 0 0,1 3,0Z\" style=\"opacity: 1; stroke-width: 0px; fill: rgb(253, 231, 37); fill-opacity: 1;\"/><path class=\"point plotly-customdata\" transform=\"translate(-269.52,-369.74)\" d=\"M3,0A3,3 0 1,1 0,-3A3,3 0 0,1 3,0Z\" style=\"opacity: 1; stroke-width: 0px; fill: rgb(253, 231, 37); fill-opacity: 1;\"/><path class=\"point plotly-customdata\" transform=\"translate(537.79,197.58)\" d=\"M3,0A3,3 0 1,1 0,-3A3,3 0 0,1 3,0Z\" style=\"opacity: 1; stroke-width: 0px; fill: rgb(48, 179, 124); fill-opacity: 1;\"/><path class=\"point plotly-customdata\" transform=\"translate(376.51,167.47)\" d=\"M3,0A3,3 0 1,1 0,-3A3,3 0 0,1 3,0Z\" style=\"opacity: 1; stroke-width: 0px; fill: rgb(253, 231, 37); fill-opacity: 1;\"/><path class=\"point plotly-customdata\" transform=\"translate(514.1,190.86)\" d=\"M3,0A3,3 0 1,1 0,-3A3,3 0 0,1 3,0Z\" style=\"opacity: 1; stroke-width: 0px; fill: rgb(253, 231, 37); fill-opacity: 1;\"/><path class=\"point plotly-customdata\" transform=\"translate(30.56,30.13)\" d=\"M3,0A3,3 0 1,1 0,-3A3,3 0 0,1 3,0Z\" style=\"opacity: 1; stroke-width: 0px; fill: rgb(253, 231, 37); fill-opacity: 1;\"/><path class=\"point plotly-customdata\" transform=\"translate(539.81,199.02)\" d=\"M3,0A3,3 0 1,1 0,-3A3,3 0 0,1 3,0Z\" style=\"opacity: 1; stroke-width: 0px; fill: rgb(64, 70, 136); fill-opacity: 1;\"/><path class=\"point plotly-customdata\" transform=\"translate(101.18,63.67)\" d=\"M3,0A3,3 0 1,1 0,-3A3,3 0 0,1 3,0Z\" style=\"opacity: 1; stroke-width: 0px; fill: rgb(253, 231, 37); fill-opacity: 1;\"/><path class=\"point plotly-customdata\" transform=\"translate(194.57,104.94)\" d=\"M3,0A3,3 0 1,1 0,-3A3,3 0 0,1 3,0Z\" style=\"opacity: 1; stroke-width: 0px; fill: rgb(253, 231, 37); fill-opacity: 1;\"/><path class=\"point plotly-customdata\" transform=\"translate(487.87,189.55)\" d=\"M3,0A3,3 0 1,1 0,-3A3,3 0 0,1 3,0Z\" style=\"opacity: 1; stroke-width: 0px; fill: rgb(253, 231, 37); fill-opacity: 1;\"/><path class=\"point plotly-customdata\" transform=\"translate(78.91,62.28)\" d=\"M3,0A3,3 0 1,1 0,-3A3,3 0 0,1 3,0Z\" style=\"opacity: 1; stroke-width: 0px; fill: rgb(253, 231, 37); fill-opacity: 1;\"/><path class=\"point plotly-customdata\" transform=\"translate(-525.71,-11038.87)\" d=\"M3,0A3,3 0 1,1 0,-3A3,3 0 0,1 3,0Z\" style=\"opacity: 1; stroke-width: 0px; fill: rgb(253, 231, 37); fill-opacity: 1;\"/><path class=\"point plotly-customdata\" transform=\"translate(541.78,199.17)\" d=\"M3,0A3,3 0 1,1 0,-3A3,3 0 0,1 3,0Z\" style=\"opacity: 1; stroke-width: 0px; fill: rgb(72, 29, 110); fill-opacity: 1;\"/><path class=\"point plotly-customdata\" transform=\"translate(10.73,20.57)\" d=\"M3,0A3,3 0 1,1 0,-3A3,3 0 0,1 3,0Z\" style=\"opacity: 1; stroke-width: 0px; fill: rgb(253, 231, 37); fill-opacity: 1;\"/><path class=\"point plotly-customdata\" transform=\"translate(498.81,188.47)\" d=\"M3,0A3,3 0 1,1 0,-3A3,3 0 0,1 3,0Z\" style=\"opacity: 1; stroke-width: 0px; fill: rgb(253, 231, 37); fill-opacity: 1;\"/><path class=\"point plotly-customdata\" transform=\"translate(-147.56,-139.65)\" d=\"M3,0A3,3 0 1,1 0,-3A3,3 0 0,1 3,0Z\" style=\"opacity: 1; stroke-width: 0px; fill: rgb(253, 231, 37); fill-opacity: 1;\"/><path class=\"point plotly-customdata\" transform=\"translate(-179.75,-157.46)\" d=\"M3,0A3,3 0 1,1 0,-3A3,3 0 0,1 3,0Z\" style=\"opacity: 1; stroke-width: 0px; fill: rgb(253, 231, 37); fill-opacity: 1;\"/><path class=\"point plotly-customdata\" transform=\"translate(-537.07,-30025.06)\" d=\"M3,0A3,3 0 1,1 0,-3A3,3 0 0,1 3,0Z\" style=\"opacity: 1; stroke-width: 0px; fill: rgb(253, 231, 37); fill-opacity: 1;\"/><path class=\"point plotly-customdata\" transform=\"translate(527.64,196.6)\" d=\"M3,0A3,3 0 1,1 0,-3A3,3 0 0,1 3,0Z\" style=\"opacity: 1; stroke-width: 0px; fill: rgb(147, 215, 65); fill-opacity: 1;\"/><path class=\"point plotly-customdata\" transform=\"translate(373.19,166.56)\" d=\"M3,0A3,3 0 1,1 0,-3A3,3 0 0,1 3,0Z\" style=\"opacity: 1; stroke-width: 0px; fill: rgb(253, 231, 37); fill-opacity: 1;\"/><path class=\"point plotly-customdata\" transform=\"translate(-475.26,-2630.9)\" d=\"M3,0A3,3 0 1,1 0,-3A3,3 0 0,1 3,0Z\" style=\"opacity: 1; stroke-width: 0px; fill: rgb(253, 231, 37); fill-opacity: 1;\"/><path class=\"point plotly-customdata\" transform=\"translate(534.76,200.49)\" d=\"M3,0A3,3 0 1,1 0,-3A3,3 0 0,1 3,0Z\" style=\"opacity: 1; stroke-width: 0px; fill: rgb(202, 224, 33); fill-opacity: 1;\"/><path class=\"point plotly-customdata\" transform=\"translate(521.41,193.81)\" d=\"M3,0A3,3 0 1,1 0,-3A3,3 0 0,1 3,0Z\" style=\"opacity: 1; stroke-width: 0px; fill: rgb(253, 231, 37); fill-opacity: 1;\"/><path class=\"point plotly-customdata\" transform=\"translate(532.04,198.38)\" d=\"M3,0A3,3 0 1,1 0,-3A3,3 0 0,1 3,0Z\" style=\"opacity: 1; stroke-width: 0px; fill: rgb(35, 138, 141); fill-opacity: 1;\"/><path class=\"point plotly-customdata\" transform=\"translate(-424.41,-1360.54)\" d=\"M3,0A3,3 0 1,1 0,-3A3,3 0 0,1 3,0Z\" style=\"opacity: 1; stroke-width: 0px; fill: rgb(253, 231, 37); fill-opacity: 1;\"/><path class=\"point plotly-customdata\" transform=\"translate(522.15,196.56)\" d=\"M3,0A3,3 0 1,1 0,-3A3,3 0 0,1 3,0Z\" style=\"opacity: 1; stroke-width: 0px; fill: rgb(33, 146, 140); fill-opacity: 1;\"/><path class=\"point plotly-customdata\" transform=\"translate(-535.17,-23570.75)\" d=\"M3,0A3,3 0 1,1 0,-3A3,3 0 0,1 3,0Z\" style=\"opacity: 1; stroke-width: 0px; fill: rgb(253, 231, 37); fill-opacity: 1;\"/><path class=\"point plotly-customdata\" transform=\"translate(-72.7,-43.5)\" d=\"M3,0A3,3 0 1,1 0,-3A3,3 0 0,1 3,0Z\" style=\"opacity: 1; stroke-width: 0px; fill: rgb(253, 231, 37); fill-opacity: 1;\"/><path class=\"point plotly-customdata\" transform=\"translate(508.09,195.18)\" d=\"M3,0A3,3 0 1,1 0,-3A3,3 0 0,1 3,0Z\" style=\"opacity: 1; stroke-width: 0px; fill: rgb(215, 226, 26); fill-opacity: 1;\"/><path class=\"point plotly-customdata\" transform=\"translate(526.37,196.9)\" d=\"M3,0A3,3 0 1,1 0,-3A3,3 0 0,1 3,0Z\" style=\"opacity: 1; stroke-width: 0px; fill: rgb(66, 189, 113); fill-opacity: 1;\"/><path class=\"point plotly-customdata\" transform=\"translate(526.23,198.92)\" d=\"M3,0A3,3 0 1,1 0,-3A3,3 0 0,1 3,0Z\" style=\"opacity: 1; stroke-width: 0px; fill: rgb(61, 78, 138); fill-opacity: 1;\"/><path class=\"point plotly-customdata\" transform=\"translate(213.99,112.01)\" d=\"M3,0A3,3 0 1,1 0,-3A3,3 0 0,1 3,0Z\" style=\"opacity: 1; stroke-width: 0px; fill: rgb(253, 231, 37); fill-opacity: 1;\"/><path class=\"point plotly-customdata\" transform=\"translate(-209.04,-240.12)\" d=\"M3,0A3,3 0 1,1 0,-3A3,3 0 0,1 3,0Z\" style=\"opacity: 1; stroke-width: 0px; fill: rgb(253, 231, 37); fill-opacity: 1;\"/><path class=\"point plotly-customdata\" transform=\"translate(541.32,196.99)\" d=\"M3,0A3,3 0 1,1 0,-3A3,3 0 0,1 3,0Z\" style=\"opacity: 1; stroke-width: 0px; fill: rgb(46, 110, 142); fill-opacity: 1;\"/><path class=\"point plotly-customdata\" transform=\"translate(512.77,195.55)\" d=\"M3,0A3,3 0 1,1 0,-3A3,3 0 0,1 3,0Z\" style=\"opacity: 1; stroke-width: 0px; fill: rgb(35, 138, 141); fill-opacity: 1;\"/><path class=\"point plotly-customdata\" transform=\"translate(111.61,68.88)\" d=\"M3,0A3,3 0 1,1 0,-3A3,3 0 0,1 3,0Z\" style=\"opacity: 1; stroke-width: 0px; fill: rgb(253, 231, 37); fill-opacity: 1;\"/><path class=\"point plotly-customdata\" transform=\"translate(515.11,199.07)\" d=\"M3,0A3,3 0 1,1 0,-3A3,3 0 0,1 3,0Z\" style=\"opacity: 1; stroke-width: 0px; fill: rgb(215, 226, 26); fill-opacity: 1;\"/><path class=\"point plotly-customdata\" transform=\"translate(491.63,190.62)\" d=\"M3,0A3,3 0 1,1 0,-3A3,3 0 0,1 3,0Z\" style=\"opacity: 1; stroke-width: 0px; fill: rgb(253, 231, 37); fill-opacity: 1;\"/><path class=\"point plotly-customdata\" transform=\"translate(510.35,195.42)\" d=\"M3,0A3,3 0 1,1 0,-3A3,3 0 0,1 3,0Z\" style=\"opacity: 1; stroke-width: 0px; fill: rgb(241, 229, 33); fill-opacity: 1;\"/><path class=\"point plotly-customdata\" transform=\"translate(526.39,195.79)\" d=\"M3,0A3,3 0 1,1 0,-3A3,3 0 0,1 3,0Z\" style=\"opacity: 1; stroke-width: 0px; fill: rgb(33, 147, 139); fill-opacity: 1;\"/><path class=\"point plotly-customdata\" transform=\"translate(489.58,190.62)\" d=\"M3,0A3,3 0 1,1 0,-3A3,3 0 0,1 3,0Z\" style=\"opacity: 1; stroke-width: 0px; fill: rgb(253, 231, 37); fill-opacity: 1;\"/><path class=\"point plotly-customdata\" transform=\"translate(535.76,194.78)\" d=\"M3,0A3,3 0 1,1 0,-3A3,3 0 0,1 3,0Z\" style=\"opacity: 1; stroke-width: 0px; fill: rgb(253, 231, 37); fill-opacity: 1;\"/><path class=\"point plotly-customdata\" transform=\"translate(524.52,218.9)\" d=\"M3,0A3,3 0 1,1 0,-3A3,3 0 0,1 3,0Z\" style=\"opacity: 1; stroke-width: 0px; fill: rgb(68, 1, 84); fill-opacity: 1;\"/><path class=\"point plotly-customdata\" transform=\"translate(275.97,132.66)\" d=\"M3,0A3,3 0 1,1 0,-3A3,3 0 0,1 3,0Z\" style=\"opacity: 1; stroke-width: 0px; fill: rgb(253, 231, 37); fill-opacity: 1;\"/><path class=\"point plotly-customdata\" transform=\"translate(112.63,75.11)\" d=\"M3,0A3,3 0 1,1 0,-3A3,3 0 0,1 3,0Z\" style=\"opacity: 1; stroke-width: 0px; fill: rgb(253, 231, 37); fill-opacity: 1;\"/><path class=\"point plotly-customdata\" transform=\"translate(-84.61,-68.18)\" d=\"M3,0A3,3 0 1,1 0,-3A3,3 0 0,1 3,0Z\" style=\"opacity: 1; stroke-width: 0px; fill: rgb(253, 231, 37); fill-opacity: 1;\"/><path class=\"point plotly-customdata\" transform=\"translate(-75.41,-51.98)\" d=\"M3,0A3,3 0 1,1 0,-3A3,3 0 0,1 3,0Z\" style=\"opacity: 1; stroke-width: 0px; fill: rgb(253, 231, 37); fill-opacity: 1;\"/><path class=\"point plotly-customdata\" transform=\"translate(161.06,92.21)\" d=\"M3,0A3,3 0 1,1 0,-3A3,3 0 0,1 3,0Z\" style=\"opacity: 1; stroke-width: 0px; fill: rgb(253, 231, 37); fill-opacity: 1;\"/><path class=\"point plotly-customdata\" transform=\"translate(-537.14,-30331.43)\" d=\"M3,0A3,3 0 1,1 0,-3A3,3 0 0,1 3,0Z\" style=\"opacity: 1; stroke-width: 0px; fill: rgb(253, 231, 37); fill-opacity: 1;\"/><path class=\"point plotly-customdata\" transform=\"translate(-543.02,-211543.37)\" d=\"M3,0A3,3 0 1,1 0,-3A3,3 0 0,1 3,0Z\" style=\"opacity: 1; stroke-width: 0px; fill: rgb(253, 231, 37); fill-opacity: 1;\"/><path class=\"point plotly-customdata\" transform=\"translate(535.29,200.14)\" d=\"M3,0A3,3 0 1,1 0,-3A3,3 0 0,1 3,0Z\" style=\"opacity: 1; stroke-width: 0px; fill: rgb(57, 87, 140); fill-opacity: 1;\"/><path class=\"point plotly-customdata\" transform=\"translate(323.43,151.33)\" d=\"M3,0A3,3 0 1,1 0,-3A3,3 0 0,1 3,0Z\" style=\"opacity: 1; stroke-width: 0px; fill: rgb(253, 231, 37); fill-opacity: 1;\"/><path class=\"point plotly-customdata\" transform=\"translate(201.63,114.28)\" d=\"M3,0A3,3 0 1,1 0,-3A3,3 0 0,1 3,0Z\" style=\"opacity: 1; stroke-width: 0px; fill: rgb(253, 231, 37); fill-opacity: 1;\"/><path class=\"point plotly-customdata\" transform=\"translate(-384.51,-906.44)\" d=\"M3,0A3,3 0 1,1 0,-3A3,3 0 0,1 3,0Z\" style=\"opacity: 1; stroke-width: 0px; fill: rgb(253, 231, 37); fill-opacity: 1;\"/><path class=\"point plotly-customdata\" transform=\"translate(479.34,188.85)\" d=\"M3,0A3,3 0 1,1 0,-3A3,3 0 0,1 3,0Z\" style=\"opacity: 1; stroke-width: 0px; fill: rgb(253, 231, 37); fill-opacity: 1;\"/><path class=\"point plotly-customdata\" transform=\"translate(447.28,181.84)\" d=\"M3,0A3,3 0 1,1 0,-3A3,3 0 0,1 3,0Z\" style=\"opacity: 1; stroke-width: 0px; fill: rgb(253, 231, 37); fill-opacity: 1;\"/><path class=\"point plotly-customdata\" transform=\"translate(-537.26,-30941.53)\" d=\"M3,0A3,3 0 1,1 0,-3A3,3 0 0,1 3,0Z\" style=\"opacity: 1; stroke-width: 0px; fill: rgb(253, 231, 37); fill-opacity: 1;\"/><path class=\"point plotly-customdata\" transform=\"translate(104.73,65.11)\" d=\"M3,0A3,3 0 1,1 0,-3A3,3 0 0,1 3,0Z\" style=\"opacity: 1; stroke-width: 0px; fill: rgb(253, 231, 37); fill-opacity: 1;\"/><path class=\"point plotly-customdata\" transform=\"translate(-396.95,-1049.2)\" d=\"M3,0A3,3 0 1,1 0,-3A3,3 0 0,1 3,0Z\" style=\"opacity: 1; stroke-width: 0px; fill: rgb(253, 231, 37); fill-opacity: 1;\"/><path class=\"point plotly-customdata\" transform=\"translate(465.62,180.43)\" d=\"M3,0A3,3 0 1,1 0,-3A3,3 0 0,1 3,0Z\" style=\"opacity: 1; stroke-width: 0px; fill: rgb(253, 231, 37); fill-opacity: 1;\"/><path class=\"point plotly-customdata\" transform=\"translate(161.39,97.3)\" d=\"M3,0A3,3 0 1,1 0,-3A3,3 0 0,1 3,0Z\" style=\"opacity: 1; stroke-width: 0px; fill: rgb(253, 231, 37); fill-opacity: 1;\"/><path class=\"point plotly-customdata\" transform=\"translate(538.21,195.05)\" d=\"M3,0A3,3 0 1,1 0,-3A3,3 0 0,1 3,0Z\" style=\"opacity: 1; stroke-width: 0px; fill: rgb(249, 230, 36); fill-opacity: 1;\"/><path class=\"point plotly-customdata\" transform=\"translate(-27.73,-5.39)\" d=\"M3,0A3,3 0 1,1 0,-3A3,3 0 0,1 3,0Z\" style=\"opacity: 1; stroke-width: 0px; fill: rgb(253, 231, 37); fill-opacity: 1;\"/><path class=\"point plotly-customdata\" transform=\"translate(446.82,209.11)\" d=\"M3,0A3,3 0 1,1 0,-3A3,3 0 0,1 3,0Z\" style=\"opacity: 1; stroke-width: 0px; fill: rgb(243, 230, 34); fill-opacity: 1;\"/><path class=\"point plotly-customdata\" transform=\"translate(198.6,156.09)\" d=\"M3,0A3,3 0 1,1 0,-3A3,3 0 0,1 3,0Z\" style=\"opacity: 1; stroke-width: 0px; fill: rgb(253, 231, 37); fill-opacity: 1;\"/></g><g class=\"text\"/></g></g></g><g class=\"overplot\"/><path class=\"xlines-above crisp\" d=\"M0,0\" style=\"fill: none;\"/><path class=\"ylines-above crisp\" d=\"M0,0\" style=\"fill: none;\"/><g class=\"overlines-above\"/><g class=\"xaxislayer-above\"><g class=\"xtick\"><text text-anchor=\"middle\" x=\"0\" y=\"463\" transform=\"translate(50,0)\" style=\"font-family: 'Open Sans', verdana, arial, sans-serif; font-size: 12px; fill: rgb(68, 68, 68); fill-opacity: 1; white-space: pre;\">0.5</text></g><g class=\"xtick\"><text text-anchor=\"middle\" x=\"0\" y=\"463\" transform=\"translate(158.8,0)\" style=\"font-family: 'Open Sans', verdana, arial, sans-serif; font-size: 12px; fill: rgb(68, 68, 68); fill-opacity: 1; white-space: pre;\">0.6</text></g><g class=\"xtick\"><text text-anchor=\"middle\" x=\"0\" y=\"463\" transform=\"translate(267.6,0)\" style=\"font-family: 'Open Sans', verdana, arial, sans-serif; font-size: 12px; fill: rgb(68, 68, 68); fill-opacity: 1; white-space: pre;\">0.7</text></g><g class=\"xtick\"><text text-anchor=\"middle\" x=\"0\" y=\"463\" transform=\"translate(376.4,0)\" style=\"font-family: 'Open Sans', verdana, arial, sans-serif; font-size: 12px; fill: rgb(68, 68, 68); fill-opacity: 1; white-space: pre;\">0.8</text></g><g class=\"xtick\"><text text-anchor=\"middle\" x=\"0\" y=\"463\" transform=\"translate(485.2,0)\" style=\"font-family: 'Open Sans', verdana, arial, sans-serif; font-size: 12px; fill: rgb(68, 68, 68); fill-opacity: 1; white-space: pre;\">0.9</text></g><g class=\"xtick\"><text text-anchor=\"middle\" x=\"0\" y=\"463\" transform=\"translate(594,0)\" style=\"font-family: 'Open Sans', verdana, arial, sans-serif; font-size: 12px; fill: rgb(68, 68, 68); fill-opacity: 1; white-space: pre;\">1</text></g></g><g class=\"yaxislayer-above\"><g class=\"ytick\"><text text-anchor=\"end\" x=\"49\" y=\"4.199999999999999\" transform=\"translate(0,450)\" style=\"font-family: 'Open Sans', verdana, arial, sans-serif; font-size: 12px; fill: rgb(68, 68, 68); fill-opacity: 1; white-space: pre;\">0</text></g><g class=\"ytick\"><text text-anchor=\"end\" x=\"49\" y=\"4.199999999999999\" transform=\"translate(0,352.5)\" style=\"font-family: 'Open Sans', verdana, arial, sans-serif; font-size: 12px; fill: rgb(68, 68, 68); fill-opacity: 1; white-space: pre;\">0.5</text></g><g class=\"ytick\"><text text-anchor=\"end\" x=\"49\" y=\"4.199999999999999\" transform=\"translate(0,255)\" style=\"font-family: 'Open Sans', verdana, arial, sans-serif; font-size: 12px; fill: rgb(68, 68, 68); fill-opacity: 1; white-space: pre;\">1</text></g><g class=\"ytick\"><text text-anchor=\"end\" x=\"49\" y=\"4.199999999999999\" transform=\"translate(0,157.5)\" style=\"font-family: 'Open Sans', verdana, arial, sans-serif; font-size: 12px; fill: rgb(68, 68, 68); fill-opacity: 1; white-space: pre;\">1.5</text></g><g class=\"ytick\"><text text-anchor=\"end\" x=\"49\" y=\"4.199999999999999\" transform=\"translate(0,60)\" style=\"font-family: 'Open Sans', verdana, arial, sans-serif; font-size: 12px; fill: rgb(68, 68, 68); fill-opacity: 1; white-space: pre;\">2</text></g></g><g class=\"overaxes-above\"/></g></g><g class=\"polarlayer\"/><g class=\"ternarylayer\"/><g class=\"geolayer\"/><g class=\"funnelarealayer\"/><g class=\"pielayer\"/><g class=\"treemaplayer\"/><g class=\"sunburstlayer\"/><g class=\"glimages\"/><defs id=\"topdefs-d3dfaf\"><g class=\"clips\"/><clipPath id=\"legendd3dfaf\"><rect width=\"83\" height=\"48\" x=\"0\" y=\"0\"/></clipPath></defs><g class=\"layer-above\"><g class=\"imagelayer\"/><g class=\"shapelayer\"/></g><g class=\"infolayer\"><g class=\"legend\" pointer-events=\"all\" transform=\"translate(604.88,60)\"><rect class=\"bg\" shape-rendering=\"crispEdges\" width=\"83\" height=\"48\" x=\"0\" y=\"0\" style=\"stroke: rgb(68, 68, 68); stroke-opacity: 1; fill: rgb(255, 255, 255); fill-opacity: 1; stroke-width: 0px;\"/><g class=\"scrollbox\" transform=\"\" clip-path=\"url('#legendd3dfaf')\"><g class=\"groups\"><g class=\"traces\" transform=\"translate(0,14.5)\" style=\"opacity: 1;\"><text class=\"legendtext\" text-anchor=\"start\" x=\"40\" y=\"4.680000000000001\" style=\"font-family: 'Open Sans', verdana, arial, sans-serif; font-size: 12px; fill: rgb(68, 68, 68); fill-opacity: 1; white-space: pre;\">trace 0</text><g class=\"layers\" style=\"opacity: 1;\"><g class=\"legendfill\"/><g class=\"legendlines\"><path class=\"js-line\" d=\"M5,0h30\" style=\"fill: none; stroke: rgb(128, 128, 128); stroke-opacity: 1; stroke-dasharray: 9px, 9px; stroke-width: 2px;\"/></g><g class=\"legendsymbols\"><g class=\"legendpoints\"><path class=\"scatterpts\" transform=\"translate(20,0)\" d=\"M3,0A3,3 0 1,1 0,-3A3,3 0 0,1 3,0Z\" style=\"opacity: 1; stroke-width: 0px; fill: rgb(128, 128, 128); fill-opacity: 1;\"/></g></g></g><rect class=\"legendtoggle\" x=\"0\" y=\"-9.5\" width=\"77.015625\" height=\"19\" style=\"fill: rgb(0, 0, 0); fill-opacity: 0;\"/></g><g class=\"traces\" transform=\"translate(0,33.5)\" style=\"opacity: 1;\"><text class=\"legendtext\" text-anchor=\"start\" x=\"40\" y=\"4.680000000000001\" style=\"font-family: 'Open Sans', verdana, arial, sans-serif; font-size: 12px; fill: rgb(68, 68, 68); fill-opacity: 1; white-space: pre;\">trace 1</text><g class=\"layers\" style=\"opacity: 1;\"><g class=\"legendfill\"/><g class=\"legendlines\"/><g class=\"legendsymbols\"><g class=\"legendpoints\"><path class=\"scatterpts\" transform=\"translate(20,0)\" d=\"M3,0A3,3 0 1,1 0,-3A3,3 0 0,1 3,0Z\" style=\"opacity: 1; stroke-width: 0px; fill: rgb(31, 157, 137); fill-opacity: 1;\"/></g></g></g><rect class=\"legendtoggle\" x=\"0\" y=\"-9.5\" width=\"77.015625\" height=\"19\" style=\"fill: rgb(0, 0, 0); fill-opacity: 0;\"/></g></g></g><rect class=\"scrollbar\" rx=\"20\" ry=\"3\" width=\"0\" height=\"0\" x=\"0\" y=\"0\" style=\"fill: rgb(128, 139, 164); fill-opacity: 1;\"/></g><g class=\"g-gtitle\"/><g class=\"g-xtitle\" transform=\"translate(0,-5)\"><text class=\"xtitle\" x=\"322\" y=\"502\" text-anchor=\"middle\" style=\"font-family: 'Open Sans', verdana, arial, sans-serif; font-size: 14px; fill: rgb(68, 68, 68); opacity: 1; font-weight: normal; white-space: pre;\">Diameter</text></g><g class=\"g-ytitle\" transform=\"translate(1,0)\"><text class=\"ytitle\" transform=\"rotate(-90,12,255)\" x=\"12\" y=\"255\" text-anchor=\"middle\" style=\"font-family: 'Open Sans', verdana, arial, sans-serif; font-size: 14px; fill: rgb(68, 68, 68); opacity: 1; font-weight: normal; white-space: pre;\">Min-inter / Diameter</text></g></g></svg>"
      ],
      "text/html": [
       "<div\n",
       "    class=\"webio-mountpoint\"\n",
       "    data-webio-mountpoint=\"12544182108747577161\"\n",
       ">\n",
       "    <script>\n",
       "    if (window.require && require.defined && require.defined(\"nbextensions/webio-jupyter-notebook\")) {\n",
       "        console.log(\"Jupyter WebIO extension detected, not mounting.\");\n",
       "    } else if (window.WebIO) {\n",
       "        WebIO.mount(\n",
       "            document.querySelector('[data-webio-mountpoint=\"12544182108747577161\"]'),\n",
       "            {\"props\":{},\"nodeType\":\"Scope\",\"type\":\"node\",\"instanceArgs\":{\"imports\":{\"data\":[{\"name\":\"Plotly\",\"type\":\"js\",\"url\":\"\\/assetserver\\/2178a8d06f9a8c65d859d06b4046edd396027e54-plotly.min.js\"},{\"name\":null,\"type\":\"js\",\"url\":\"\\/assetserver\\/bfdea5073d48cb1c02a6ebf79fdeb36320854e28-plotly_webio.bundle.js\"}],\"type\":\"async_block\"},\"id\":\"13082927617177373117\",\"handlers\":{\"_toImage\":[\"(function (options){return this.Plotly.toImage(this.plotElem,options).then((function (data){return WebIO.setval({\\\"name\\\":\\\"image\\\",\\\"scope\\\":\\\"13082927617177373117\\\",\\\"id\\\":\\\"8269567824404110490\\\",\\\"type\\\":\\\"observable\\\"},data)}))})\"],\"__get_gd_contents\":[\"(function (prop){prop==\\\"data\\\" ? (WebIO.setval({\\\"name\\\":\\\"__gd_contents\\\",\\\"scope\\\":\\\"13082927617177373117\\\",\\\"id\\\":\\\"2146587767778899084\\\",\\\"type\\\":\\\"observable\\\"},this.plotElem.data)) : undefined; return prop==\\\"layout\\\" ? (WebIO.setval({\\\"name\\\":\\\"__gd_contents\\\",\\\"scope\\\":\\\"13082927617177373117\\\",\\\"id\\\":\\\"2146587767778899084\\\",\\\"type\\\":\\\"observable\\\"},this.plotElem.layout)) : undefined})\"],\"_downloadImage\":[\"(function (options){return this.Plotly.downloadImage(this.plotElem,options)})\"],\"_commands\":[\"(function (args){var fn=args.shift(); var elem=this.plotElem; var Plotly=this.Plotly; args.unshift(elem); return Plotly[fn].apply(this,args)})\"]},\"systemjs_options\":null,\"mount_callbacks\":[\"function () {\\n    var handler = ((function (Plotly,PlotlyWebIO){PlotlyWebIO.init(WebIO); var gd=this.dom.querySelector(\\\"#plot-9524a216-a974-44a8-a4c3-75fefb934c8a\\\"); this.plotElem=gd; this.Plotly=Plotly; (window.Blink!==undefined) ? (gd.style.width=\\\"100%\\\", gd.style.height=\\\"100vh\\\", gd.style.marginLeft=\\\"0%\\\", gd.style.marginTop=\\\"0vh\\\") : undefined; window.onresize=(function (){return Plotly.Plots.resize(gd)}); Plotly.newPlot(gd,[{\\\"line\\\":{\\\"color\\\":\\\"gray\\\",\\\"dash\\\":\\\"dash\\\"},\\\"y\\\":[1,1],\\\"type\\\":\\\"scatter\\\",\\\"x\\\":[0,1]},{\\\"marker\\\":{\\\"color\\\":[0.5918367346938775,0.7638888888888888,1.0,0.5555555555555556,0.9506172839506173,1.0,1.0,1.0,1.0,0.14501755333513366,1.0,1.0,1.0,0.5918367346938775,1.0,1.0,1.0,1.0,1.0,0.3656,1.0,1.0,0.5,1.0,1.0,1.0,1.0,1.0,1.0,1.0,0.54,1.0,1.0,0.41609977324263037,1.0,1.0,1.0,0.9603068352695595,1.0,1.0,1.0,1.0,1.0,1.0,0.9073318909822193,1.0,0.9963269054178145,0.8700562945964359,1.0,1.0,1.0,0.6818181818181818,0.9784971644612477,0.5335169880624426,1.0,1.0,1.0,1.0,0.76,0.6867402685667023,1.0,1.0,1.0,1.0,1.0,1.0,1.0,1.0,1.0,1.0,1.0,1.0,0.22263717322608445,1.0,0.7642666572744323,1.0,0.4462809917355372,1.0,1.0,1.0,1.0,1.0,1.0,1.0,1.0,1.0,0.8861340679522498,1.0,1.0,1.0,1.0,1.0,1.0,0.5,1.0,1.0,1.0,1.0,1.0,0.625,0.37,1.0,1.0,1.0,1.0,0.673469387755102,0.8934376798881609,1.0,1.0,1.0,0.8573924506000895,1.0,1.0,1.0,0.9913850316897901,1.0,1.0,1.0,0.5,1.0,1.0,0.355,1.0,0.5,0.826307050329289,1.0,1.0,1.0,1.0,1.0,1.0,1.0,1.0,1.0,1.0,0.6572222222222223,1.0,0.5,0.9847337278106509,1.0,1.0,0.5537190082644629,1.0,1.0,0.8683544790465205,1.0,1.0,1.0,0.42592592592592593,1.0,1.0,1.0,0.8427781727127078,1.0,1.0,0.625,0.9667991368901999,1.0,1.0,1.0,1.0,1.0,0.8828125,0.3756940597106802,1.0,1.0,1.0,1.0,1.0,1.0,1.0,1.0,1.0,0.6111111111111112,1.0,1.0,1.0,1.0,1.0,0.8781065088757396,1.0,1.0,1.0,0.5,1.0,1.0,1.0,0.6143250688705234,1.0,1.0,0.9714532871972318,1.0,1.0,1.0,1.0,0.8016528925619835,1.0,1.0,1.0,0.45953125,1.0,0.39734375,1.0,1.0,1.0,1.0,1.0,1.0,0.3646449704142012,0.1889868373384857,1.0,1.0,1.0,0.48319941563184804,1.0,1.0,1.0,0.25925925925925924,1.0,1.0,1.0,1.0,1.0,1.0,1.0,1.0,1.0,1.0,1.0,1.0,1.0,1.0,1.0,0.8125,1.0,1.0,0.9565711400075748,1.0,1.0,1.0,1.0,0.6088888888888889,1.0,1.0,1.0,0.3472222222222222,1.0,1.0,1.0,1.0,0.4706994328922495,0.1704,0.34375,1.0,0.5,1.0,0.4074074074074074,0.6678200692041523,1.0,1.0,1.0,1.0,1.0,1.0,1.0,1.0,1.0,0.5078125,1.0,1.0,0.3956602031394275,1.0,1.0,0.5,1.0,1.0,1.0,1.0,0.5,1.0,1.0,1.0,1.0,1.0,1.0,0.26038781163434904,1.0,1.0,1.0,1.0,1.0,0.8512396694214877,1.0,1.0,0.23875432525951557,1.0,1.0,0.4934601664684899,0.9444444444444444,1.0,1.0,1.0,1.0,0.19452706722189173,0.9310344827586207,1.0,0.889273356401384,1.0,0.2896,1.0,1.0,0.5555555555555556,1.0,1.0,0.5,0.7688888888888888,0.8559163524564469,1.0,0.9996586688746754,1.0,1.0,1.0,0.5886004642351025,1.0,1.0,1.0,1.0,1.0,1.0,1.0,0.4551986475063398,0.7893827160493827,1.0,1.0,1.0,0.38,1.0,1.0,1.0,0.29259699652089666,1.0,1.0,1.0,1.0,0.5625,1.0,1.0,0.972943829036369,1.0,1.0,1.0,1.0,0.9662809917355372,1.0,1.0,1.0,1.0,1.0,1.0,0.5,1.0,1.0,0.23914322125281834,0.39100346020761245,1.0,1.0,1.0,1.0,1.0,1.0,1.0,1.0,1.0,1.0,1.0,0.122008840115836,1.0,1.0,1.0,1.0,1.0,1.0,1.0,1.0,1.0,1.0,0.9709494696422979,1.0,1.0,1.0,1.0,0.68,1.0,1.0,1.0,0.2795225552137634,1.0,1.0,1.0,1.0,1.0,0.1610976454293629,1.0,1.0,1.0,1.0,1.0,0.8528,1.0,1.0,0.9273431783766745,1.0,0.52,1.0,0.5502958579881657,1.0,1.0,0.9444444444444444,0.7229916897506925,0.3044889129259059,1.0,1.0,0.41836734693877553,0.52,1.0,0.9444897959183673,1.0,0.9822222222222222,0.5555555555555556,1.0,1.0,0.08905080933052961,1.0,1.0,1.0,1.0,1.0,1.0,1.0,0.3333333333333333,1.0,1.0,1.0,1.0,1.0,1.0,1.0,1.0,1.0,1.0,0.9944598337950139,1.0,0.985538668767516,1.0],\\\"colorscale\\\":\\\"Viridis\\\"},\\\"mode\\\":\\\"markers\\\",\\\"y\\\":[0.99606186,0.9955636,4.7389135,0.9098719,0.9977134,1.0002041,157.00395,76.31702,76.6709,0.9839599,24.223127,42.282505,2.018627,0.9898632,88.05395,1.0217067,4.0474157,1.0968062,1.0005244,0.94317883,1.0039848,2.3973808,0.954225,2.411399,1.0083148,1.5359144,3.6498022,3.1090431,1.5265553,126.94712,0.99527985,1.0269607,1.6139017,0.9951814,2.9388402,164.31639,3.7299838,0.9907843,2.3296506,117.78595,2.3643372,100.10519,1.0223757,107.78662,0.985021,44.145138,0.99823534,0.98054457,105.41964,1.0146437,1.7552832,0.99689776,0.9252081,0.9882628,1.0228779,1.0274297,1.0068859,1.0458341,0.9950016,0.97740346,1.0649823,235.76416,2.5931962,4.683814,1.5352356,1.0195218,2.1434999,28.827696,1750.3218,3.9397256,1.472422,1.6628587,0.982686,129.43729,0.9774616,2.0797184,0.9672978,154.64944,138.42978,4.563399,1.0459666,2.7976432,94.00188,1.0075489,202.8877,1.2414162,0.9907621,7.616501,2.1841047,1.9172053,2.7287827,2.2410233,1.9246005,0.99643016,1.0044736,3.3493989,602.3019,1.4998189,7.3193083,0.9990371,0.9816868,2.5659215,2.5950637,2.3865416,248.60828,0.99625707,0.9485032,4.294155,2892.4417,1.0195436,0.9733967,1.0389018,1.5672283,1.5444043,0.9756795,2.142923,1.6526827,1.8787057,0.98197657,43.69415,2.7353587,0.972246,1.085951,0.9920505,0.9665262,1.6284534,5.8385572,81.112686,1.6773965,221.68694,3.5246491,1.011793,1.4591812,1.9278532,1.2818288,0.958242,2.3868527,0.99754995,0.9356127,449.6671,2.753889,0.9835829,1.0478401,1.6476569,0.97137225,2.109163,1.1775949,1.6281224,0.97696567,1.0444951,1.8906153,3396.8823,0.95383596,90.40197,1.01404,0.9904059,0.9912434,1.0330197,1415.6509,1.0042013,1.0011846,1.0440619,0.99681264,0.96444726,1.7220749,1.4247706,1.0576261,6.9891315,1767.7278,1.0037634,1.6799409,76.58365,1.002651,0.9978785,1.9762173,1.0324473,323.40692,84.022705,1.0953043,0.97943443,2046.0527,1.117886,186.95993,0.9979656,2.3618824,1.0023999,1.0476071,0.9991496,160.06213,1036.9677,0.99946105,5.130675,1.002778,214.46725,247.36414,0.998481,1.5382608,5.93064,3.3315215,0.98564833,1.0493133,0.96167445,3.4121764,1.0451112,428.09055,1305.048,1.0043024,725.58026,0.9882387,0.98944,1.8910514,1.8277487,5.8988457,0.9917165,1.0326413,1802.8247,8.452025,0.989065,1.5605923,1.0018835,1.0113307,6.8392243,3.8606071,2.2387788,174.94766,1.1889483,1.6146649,1.3872968,1.0038682,1.0626487,159.2601,1.0180811,1.3364695,0.997859,192.6102,3.3746881,0.9945043,2.0573065,257.66013,6.858897,2.7223566,0.99401045,94.80113,1.2930586,1.0014437,0.9895362,55.08535,14.124569,1.9870068,1.0041616,0.9894363,0.98770314,0.99415666,1.9706147,0.99606377,128.88718,0.9862088,0.99529713,10.379428,1315.189,1.5076895,1.5023038,1.0027564,137.61911,1.0487648,46.562202,205.28079,0.9917904,573.609,150.03612,0.9620303,68.32015,520.02606,0.99192923,201.24614,1.0052607,109.517494,12.615926,0.9840919,47.28746,2.607495,1.3715566,25.752468,1.7589605,1.1015316,0.9842141,4.8400435,1.004481,1.5242043,3.3659415,2.4058263,0.99889326,73.33882,1.0009431,0.87100226,5.006081,178.22314,0.9950924,0.9999476,18.236748,2.3062851,1.5537184,1.9114957,0.98994744,0.9981524,1.6664463,0.99958616,2.76617,0.8699635,125.45506,3.0192873,0.998089,1.6103828,3.2836218,0.988064,0.99730235,0.84954035,1.0430195,0.99867225,2.1788614,1.1283675,1.0664737,0.9415904,170.55113,1.0363655,1.427448,340.71082,75.889046,397.25778,1.054096,0.9865776,0.9947086,209.3779,4.0294,2.6891856,0.9893313,1.0815834,1.6730694,5.1372347,0.94457555,3.0433888,2.3971045,1.8089082,1.3851522,0.9887664,1.1081333,2.577701,0.99450815,3.0529392,3.2925334,1.0151383,2.5012655,0.99236363,3.9195285,3.271587,3.2551086,1.2588477,1.0925386,1.5886105,0.9978998,1.0405015,1.0016737,0.98843735,0.97909266,48.578926,2.7353716,3.787218,2867.678,3.2195787,2.4474752,2.315957,3.154113,4208.2114,130.4865,1.0318046,0.9600275,4.9139967,1.0890892,1.0148473,2.0435915,1.0072845,1.9756916,16.271185,6.0680223,2.725341,2.45216,0.99249065,35.00961,1.797156,65.2066,3.896079,0.986762,1.1411784,1.0212555,1.8454922,0.9794029,1.6734636,1.4618678,1.0279692,1.6806182,58.609615,0.9786301,1.8944937,1.0334631,2.7161317,2.8075008,155.97466,0.9918004,1.145822,15.491799,0.9718486,1.0061265,0.98265946,8.977132,0.9920132,122.87565,2.2230825,0.9991002,0.99024695,0.97988665,1.4255997,3.231381,0.9897743,0.99719805,1.6467532,0.9791365,1.022454,0.99784577,0.99592894,1.0224447,1.0011172,0.8774318,1.3196832,1.6148247,2.3496375,2.266555,1.5271527,157.54582,1086.8378,0.97361547,1.2239263,1.4139415,6.6484165,1.0315368,1.0674828,160.67453,1.6661088,7.3804946,1.0746973,1.5010449,0.9997564,2.027666,0.927619,1.1995631],\\\"type\\\":\\\"scatter\\\",\\\"customdata\\\":[[0.9878954,0.5918367346938775,\\\"1106 Mobiluncus mulieris\\\",\\\"1688 Actinobaculum massiliense\\\"],[0.9745936,0.7638888888888888,\\\"1794 Gordonia amicalis\\\",\\\"1478 Nocardia farcinica\\\"],[0.98535514,1.0,\\\"540 Meiothermus ruber\\\",\\\"1868 Thermus oshimai\\\"],[0.8617246,0.5555555555555556,\\\"1079 Kitasatospora aureofaciens\\\",\\\"1206 Streptomyces pyridomyceticus\\\"],[0.99322957,0.9506172839506173,\\\"467 Shewanella putrefaciens\\\",\\\"1460 Salmonella enterica\\\"],[0.9954239,1.0,\\\"1118 Sporolactobacillus vineae\\\",\\\"577 Neorhizobium galegae\\\"],[0.98204195,1.0,\\\"1110 Dyella japonica\\\",\\\"1276 Rhodanobacter denitrificans\\\"],[0.96385735,1.0,\\\"470 Myxococcus xanthus\\\",\\\"471 Stigmatella aurantiaca\\\"],[0.96385735,1.0,\\\"471 Stigmatella aurantiaca\\\",\\\"470 Myxococcus xanthus\\\"],[0.9839599,0.14501755333513366,\\\"1148 Mycoplasma yeatsii\\\",\\\"1141 Mesoplasma florum\\\"],[0.995471,1.0,\\\"1030 Candidatus Portiera aleyrodidarum\\\",\\\"464 Buchnera aphidicola\\\"],[0.98434055,1.0,\\\"1438 Thalassobius mediterraneus\\\",\\\"1700 Phaeobacter italicus\\\"],[0.9629976,1.0,\\\"1683 Flavonifractor plautii\\\",\\\"1294 Intestinimonas butyriciproducens\\\"],[0.9736541,0.5918367346938775,\\\"1733 Lysobacter defluvii\\\",\\\"1309 Pseudoxanthomonas suwonensis\\\"],[0.99469227,1.0,\\\"988 Fructobacillus fructosus\\\",\\\"800 Leuconostoc pseudomesenteroides\\\"],[0.9767677,1.0,\\\"1398 Caulobacter henricii\\\",\\\"550 Brevundimonas diminuta\\\"],[0.994287,1.0,\\\"1370 Jeotgalibaca dankookensis\\\",\\\"1259 Enterococcus dispar\\\"],[0.9758441,1.0,\\\"1134 Ureaplasma urealyticum\\\",\\\"528 Anaerococcus hydrogenalis\\\"],[0.98681056,1.0,\\\"1136 Spiroplasma melliferum\\\",\\\"598 Neisseria gonorrhoeae\\\"],[0.9424508,0.3656,\\\"1175 Pantoea dispersa\\\",\\\"1525 Enterobacter ludwigii\\\"],[0.9751524,1.0,\\\"1474 Cupriavidus metallidurans\\\",\\\"1387 Achromobacter xylosoxidans\\\"],[0.9813103,1.0,\\\"1900 Nitratireductor aquibiodomus\\\",\\\"1761 Mesorhizobium ciceri\\\"],[0.9273399,0.5,\\\"1003 Schaalia odontolytica\\\",\\\"829 Kytococcus sedentarius\\\"],[0.996656,1.0,\\\"480 Oligella urethralis\\\",\\\"1197 Taylorella asinigenitalis\\\"],[0.98641086,1.0,\\\"482 Borrelia hermsii\\\",\\\"1564 Borreliella garinii\\\"],[0.9948507,1.0,\\\"1029 Richelia intracellularis\\\",\\\"1213 Dolichospermum circinale\\\"],[0.9840475,1.0,\\\"1146 Eggerthella lenta\\\",\\\"1376 Amycolatopsis vancoresmycina\\\"],[0.987777,1.0,\\\"1507 Paenarthrobacter nicotinovorans\\\",\\\"1086 Streptomyces hygroscopicus\\\"],[0.99566513,1.0,\\\"489 Spirochaeta thermophila\\\",\\\"1094 Nocardiopsis dassonvillei\\\"],[0.9765163,1.0,\\\"706 Rodentibacter pneumotropicus\\\",\\\"693 Haemophilus influenzae\\\"],[0.9761768,0.54,\\\"1716 Kocuria palustris\\\",\\\"1593 Rothia kristinae\\\"],[0.98118806,1.0,\\\"636 Collimonas pratensis\\\",\\\"752 Herbaspirillum seropedicae\\\"],[0.9273399,1.0,\\\"829 Kytococcus sedentarius\\\",\\\"1003 Schaalia odontolytica\\\"],[0.99398285,0.41609977324263037,\\\"1450 Treponema socranskii\\\",\\\"1400 Burkholderia pseudomallei\\\"],[0.9941222,1.0,\\\"494 Catabacter hongkongensis\\\",\\\"1275 Streptococcus constellatus\\\"],[0.99344856,1.0,\\\"1583 Sulfurimonas gotlandica\\\",\\\"1372 Arcobacter butzleri\\\"],[0.9888995,1.0,\\\"1229 Salinivibrio socompensis\\\",\\\"669 Vibrio cholerae\\\"],[0.9893584,0.9603068352695595,\\\"1365 Leptospira noguchii\\\",\\\"834 Staphylococcus epidermidis\\\"],[0.9960396,1.0,\\\"1727 Leptospirillum ferriphilum\\\",\\\"1466 Mesorhizobium plurifarium\\\"],[0.99712974,1.0,\\\"501 Candidatus Moranella endobia\\\",\\\"464 Buchnera aphidicola\\\"],[0.99265665,1.0,\\\"855 Oblitimonas alkaliphila\\\",\\\"634 Morganella morganii\\\"],[0.9796503,1.0,\\\"627 Shimwellia blattae\\\",\\\"1405 Cronobacter turicensis\\\"],[0.9743722,1.0,\\\"1414 Azospirillum thiophilum\\\",\\\"1466 Mesorhizobium plurifarium\\\"],[0.99469537,1.0,\\\"755 Saccharicrinis fermentans\\\",\\\"914 Bacillus thuringiensis\\\"],[0.98408306,0.9073318909822193,\\\"505 Campylobacter coli\\\",\\\"1261 Helicobacter pullorum\\\"],[0.99656945,1.0,\\\"1709 Ferrimicrobium acidiphilum\\\",\\\"575 Rhizobium leguminosarum\\\"],[0.9600985,0.9963269054178145,\\\"1153 Mannheimia haemolytica\\\",\\\"1748 Bibersteinia trehalosi\\\"],[0.9796193,0.8700562945964359,\\\"511 Helicobacter pylori\\\",\\\"600 Neisseria meningitidis\\\"],[0.99611765,1.0,\\\"1459 Hydrogenovibrio marinus\\\",\\\"1704 Acinetobacter gerneri\\\"],[0.94514495,1.0,\\\"1387 Achromobacter xylosoxidans\\\",\\\"606 Bordetella bronchiseptica\\\"],[0.9884257,1.0,\\\"941 Thermoanaerobacterium thermosaccharolyticum\\\",\\\"1512 Thermoanaerobacter thermocopriae\\\"],[0.9866526,0.6818181818181818,\\\"1238 Alteromonas mediterranea\\\",\\\"669 Vibrio cholerae\\\"],[0.8879187,0.9784971644612477,\\\"1470 Brucella intermedia\\\",\\\"610 Ochrobactrum anthropi\\\"],[0.98555666,0.5335169880624426,\\\"1694 Flavobacterium psychrophilum\\\",\\\"1521 Bacillus safensis\\\"],[0.97797745,1.0,\\\"1648 Parageobacillus toebii\\\",\\\"911 Geobacillus stearothermophilus\\\"],[0.99437946,1.0,\\\"1340 Francisella philomiragia\\\",\\\"935 Paeniclostridium sordellii\\\"],[0.97494483,1.0,\\\"1566 Paracoccus sanguinis\\\",\\\"771 Rhodobacter sphaeroides\\\"],[0.98535514,1.0,\\\"1868 Thermus oshimai\\\",\\\"540 Meiothermus ruber\\\"],[0.97474533,0.76,\\\"1518 Comamonas aquatica\\\",\\\"1847 Alicycliphilus denitrificans\\\"],[0.96939194,0.6867402685667023,\\\"546 Pseudomonas aeruginosa\\\",\\\"1387 Achromobacter xylosoxidans\\\"],[0.99767023,1.0,\\\"1162 Thermotoga neapolitana\\\",\\\"484 Pseudothermotoga hypogea\\\"],[0.9809359,1.0,\\\"1169 Thauera linaloolentis\\\",\\\"1649 Rubrivivax benzoatilyticus\\\"],[0.975658,1.0,\\\"1186 Roseomonas mucosa\\\",\\\"1103 Aurantimonas coralicida\\\"],[0.9904294,1.0,\\\"1673 Marinagarivorans algicola\\\",\\\"669 Vibrio cholerae\\\"],[0.9869974,1.0,\\\"740 Desulfocurvibacter africanus\\\",\\\"741 Desulfovibrio gigas\\\"],[0.97797745,1.0,\\\"911 Geobacillus stearothermophilus\\\",\\\"1648 Parageobacillus toebii\\\"],[0.9767677,1.0,\\\"550 Brevundimonas diminuta\\\",\\\"1398 Caulobacter henricii\\\"],[0.97050333,1.0,\\\"524 Hydrogenophaga intermedia\\\",\\\"1847 Alicycliphilus denitrificans\\\"],[0.97056776,1.0,\\\"687 Chania multitudinisentens\\\",\\\"1766 Serratia fonticola\\\"],[0.9944711,1.0,\\\"1166 Akkermansia muciniphila\\\",\\\"1094 Nocardiopsis dassonvillei\\\"],[0.9956932,1.0,\\\"1682 Sulfurospirillum cavolei\\\",\\\"511 Helicobacter pylori\\\"],[0.9943929,1.0,\\\"1167 Xylella fastidiosa\\\",\\\"1666 Stenotrophomonas acidaminiphila\\\"],[0.98072875,0.22263717322608445,\\\"976 Limosilactobacillus fermentum\\\",\\\"965 Lactiplantibacillus plantarum\\\"],[0.9939956,1.0,\\\"1168 Sporomusa ovata\\\",\\\"936 Clostridium sporogenes\\\"],[0.962195,0.7642666572744323,\\\"1815 Xanthomonas sacchari\\\",\\\"1309 Pseudoxanthomonas suwonensis\\\"],[0.9908654,1.0,\\\"761 Bergeyella zoohelcum\\\",\\\"1368 Capnocytophaga canimorsus\\\"],[0.9602677,0.4462809917355372,\\\"1581 Phocaeicola dorei\\\",\\\"1558 Bacteroides salyersiae\\\"],[0.99559724,1.0,\\\"757 Marinilabilia salmonicolor\\\",\\\"755 Saccharicrinis fermentans\\\"],[0.9714851,1.0,\\\"1171 Kutzneria albida\\\",\\\"1376 Amycolatopsis vancoresmycina\\\"],[0.9734181,1.0,\\\"566 Azotobacter vinelandii\\\",\\\"1138 Pseudomonas thermotolerans\\\"],[0.96971333,1.0,\\\"569 Agrobacterium tumefaciens\\\",\\\"1537 Rhizobium etli\\\"],[0.99495304,1.0,\\\"1173 Thermosipho africanus\\\",\\\"1512 Thermoanaerobacter thermocopriae\\\"],[0.9832098,1.0,\\\"1426 Terrisporobacter glycolicus\\\",\\\"935 Paeniclostridium sordellii\\\"],[0.9742743,1.0,\\\"942 Bradyrhizobium yuanmingense\\\",\\\"1466 Mesorhizobium plurifarium\\\"],[0.9768791,1.0,\\\"1643 Wenxinia marina\\\",\\\"1566 Paracoccus sanguinis\\\"],[0.9957272,1.0,\\\"1174 Teredinibacter turnerae\\\",\\\"1790 Herbaspirillum rubrisubalbicans\\\"],[0.9623865,0.8861340679522498,\\\"1537 Rhizobium etli\\\",\\\"573 Sinorhizobium fredii\\\"],[0.97209406,1.0,\\\"1224 Caballeronia zhejiangensis\\\",\\\"891 Paraburkholderia caribensis\\\"],[0.9928997,1.0,\\\"523 Propionimicrobium lymphophilum\\\",\\\"1849 Propionibacterium acidifaciens\\\"],[0.98304677,1.0,\\\"945 [Clostridium] innocuum\\\",\\\"1734 Faecalitalea cylindroides\\\"],[0.989938,1.0,\\\"1695 Caldibacillus debilis\\\",\\\"911 Geobacillus stearothermophilus\\\"],[0.96681434,1.0,\\\"1847 Alicycliphilus denitrificans\\\",\\\"1795 Acidovorax avenae\\\"],[0.98448545,1.0,\\\"1188 Anaerostipes hadrus\\\",\\\"1736 Dorea formicigenerans\\\"],[0.96247417,0.5,\\\"1826 Methylobacterium radiotolerans\\\",\\\"579 Methylorubrum extorquens\\\"],[0.97757477,1.0,\\\"807 Komagataeibacter europaeus\\\",\\\"808 Gluconacetobacter diazotrophicus\\\"],[0.9879025,1.0,\\\"580 Methylococcus capsulatus\\\",\\\"1327 Rubrivivax gelatinosus\\\"],[0.9801495,1.0,\\\"1471 Fulvimarina pelagi\\\",\\\"1103 Aurantimonas coralicida\\\"],[0.9944047,1.0,\\\"865 Methylobacter tundripaludum\\\",\\\"1943 Pseudomonas syringae subgroup 3\\\"],[0.9936314,1.0,\\\"1465 Lawsonella clevelandensis\\\",\\\"1508 Corynebacterium otitidis\\\"],[0.994416,0.625,\\\"1221 Pontibacillus marinus\\\",\\\"1934 Bacillus pumilus subgroup 1\\\"],[0.976356,0.37,\\\"582 Acetobacter aceti\\\",\\\"1821 Gluconobacter albidus\\\"],[0.9922009,1.0,\\\"1876 Oceanobacillus picturae\\\",\\\"926 Virgibacillus halodenitrificans\\\"],[0.9922009,1.0,\\\"926 Virgibacillus halodenitrificans\\\",\\\"1876 Oceanobacillus picturae\\\"],[0.9907763,1.0,\\\"1004 Trueperella pyogenes\\\",\\\"1097 Curtobacterium flaccumfaciens\\\"],[0.99229586,1.0,\\\"1142 Actinotignum schaalii\\\",\\\"1688 Actinobaculum massiliense\\\"],[0.976356,0.673469387755102,\\\"1821 Gluconobacter albidus\\\",\\\"582 Acetobacter aceti\\\"],[0.94732356,0.8934376798881609,\\\"1332 Legionella cherrii\\\",\\\"594 Fluoribacter dumoffii\\\"],[0.94732356,1.0,\\\"594 Fluoribacter dumoffii\\\",\\\"1332 Legionella cherrii\\\"],[0.99175096,1.0,\\\"593 Tatlockia micdadei\\\",\\\"591 Legionella pneumophila\\\"],[0.99150497,1.0,\\\"1184 Tetragenococcus halophilus\\\",\\\"878 Enterococcus faecium\\\"],[0.96542567,0.8573924506000895,\\\"1334 Acinetobacter lwoffii\\\",\\\"1424 Mycobacteroides abscessus\\\"],[0.99380076,1.0,\\\"597 Moraxella catarrhalis\\\",\\\"1436 Enhydrobacter aerosaccus\\\"],[0.95789886,1.0,\\\"931 Paraclostridium bifermentans\\\",\\\"935 Paeniclostridium sordellii\\\"],[0.9957806,1.0,\\\"513 Fannyhessea vaginae\\\",\\\"893 Atopobium minutum\\\"],[0.965453,0.9913850316897901,\\\"603 Neisseria elongata\\\",\\\"613 Eikenella corrodens\\\"],[0.995927,1.0,\\\"1262 Mariprofundus ferrooxydans\\\",\\\"1842 Stenotrophomonas maltophilia\\\"],[0.95789886,1.0,\\\"935 Paeniclostridium sordellii\\\",\\\"931 Paraclostridium bifermentans\\\"],[0.98859054,1.0,\\\"1396 Solobacterium moorei\\\",\\\"878 Enterococcus faecium\\\"],[0.96582,0.5,\\\"535 Peptoniphilus lacrimalis\\\",\\\"530 Anaerococcus lactolyticus\\\"],[0.99484736,1.0,\\\"1526 Psychrobacter phenylpyruvicus\\\",\\\"1436 Enhydrobacter aerosaccus\\\"],[0.9937436,1.0,\\\"691 Planomicrobium glaciei\\\",\\\"792 Geobacillus thermoleovorans\\\"],[0.9654817,0.355,\\\"785 Parabacteroides goldsteinii\\\",\\\"723 Bacteroides fragilis\\\"],[0.98715234,1.0,\\\"605 Alcaligenes faecalis\\\",\\\"546 Pseudomonas aeruginosa\\\"],[0.9863281,0.5,\\\"504 Mycoplasmopsis columbina\\\",\\\"1575 Mycoplasma meleagridis\\\"],[0.94514495,0.826307050329289,\\\"606 Bordetella bronchiseptica\\\",\\\"1387 Achromobacter xylosoxidans\\\"],[0.96990645,1.0,\\\"820 Finegoldia magna\\\",\\\"528 Anaerococcus hydrogenalis\\\"],[0.9887186,1.0,\\\"1336 Robbsia andropogonis\\\",\\\"1588 Burkholderia contaminans\\\"],[0.9826547,1.0,\\\"1514 Acidiphilium multivorum\\\",\\\"1466 Mesorhizobium plurifarium\\\"],[0.8879187,1.0,\\\"610 Ochrobactrum anthropi\\\",\\\"1470 Brucella intermedia\\\"],[0.9924237,1.0,\\\"1485 Ardenticatena maritima\\\",\\\"606 Bordetella bronchiseptica\\\"],[0.98846084,1.0,\\\"1492 Laribacter hongkongensis\\\",\\\"1387 Achromobacter xylosoxidans\\\"],[0.9838951,1.0,\\\"1677 Chromobacterium subtsugae\\\",\\\"1387 Achromobacter xylosoxidans\\\"],[0.965453,1.0,\\\"613 Eikenella corrodens\\\",\\\"603 Neisseria elongata\\\"],[0.99205416,1.0,\\\"614 Zymomonas mobilis\\\",\\\"1625 Sphingobium yanoikuyae\\\"],[0.99136025,1.0,\\\"902 Cytobacillus firmus\\\",\\\"924 Bacillus methanolicus\\\"],[0.9248329,0.6572222222222223,\\\"617 Citrobacter freundii\\\",\\\"1915 Enterobacter hormaechei subgroup 2\\\"],[0.97528654,1.0,\\\"1778 Pannonibacter phragmitetus\\\",\\\"1846 Tistrella mobilis\\\"],[0.99395084,0.5,\\\"1687 Alkalihalobacillus clausii\\\",\\\"1934 Bacillus pumilus subgroup 1\\\"],[0.9248329,0.9847337278106509,\\\"1915 Enterobacter hormaechei subgroup 2\\\",\\\"617 Citrobacter freundii\\\"],[0.9932146,1.0,\\\"1857 Neobacillus vireti\\\",\\\"902 Cytobacillus firmus\\\"],[0.99048406,1.0,\\\"1494 Varibaculum cambriense\\\",\\\"1105 Mobiluncus curtisii\\\"],[0.97261614,0.5537190082644629,\\\"1126 Erwinia billingiae\\\",\\\"619 Pantoea agglomerans\\\"],[0.98533815,1.0,\\\"629 Hafnia alvei\\\",\\\"1919 Enterobacter cloacae subgroup 2\\\"],[0.9876843,1.0,\\\"1496 Thalassobacter stenotrophicus\\\",\\\"1345 Phaeobacter gallaeciensis\\\"],[0.92821676,0.8683544790465205,\\\"631 Klebsiella pneumoniae\\\",\\\"1914 Enterobacter hormaechei subgroup 1\\\"],[0.9891247,1.0,\\\"1102 Pseudoleptotrichia goodfellowii\\\",\\\"1100 Leptotrichia hofstadii\\\"],[0.9795897,1.0,\\\"634 Morganella morganii\\\",\\\"631 Klebsiella pneumoniae\\\"],[0.96096545,1.0,\\\"635 Proteus mirabilis\\\",\\\"639 Providencia stuartii\\\"],[0.96096545,0.42592592592592593,\\\"639 Providencia stuartii\\\",\\\"635 Proteus mirabilis\\\"],[0.92634374,1.0,\\\"1460 Salmonella enterica\\\",\\\"1932 Escherichia coli subgroup 2\\\"],[0.98688364,1.0,\\\"531 Parvimonas micra\\\",\\\"1275 Streptococcus constellatus\\\"],[0.99571514,1.0,\\\"756 Pedobacter heparinus\\\",\\\"527 Sphingobacterium spiritivorum\\\"],[0.94122505,0.8427781727127078,\\\"643 Serratia marcescens\\\",\\\"1915 Enterobacter hormaechei subgroup 2\\\"],[0.9669298,1.0,\\\"1383 Verrucosispora maris\\\",\\\"1527 Salinispora arenicola\\\"],[0.9826457,1.0,\\\"649 Xenorhabdus nematophila\\\",\\\"781 Photorhabdus temperata\\\"],[0.96681434,0.625,\\\"1795 Acidovorax avenae\\\",\\\"1847 Alicycliphilus denitrificans\\\"],[0.9723371,0.9667991368901999,\\\"653 Yersinia pestis\\\",\\\"618 Klebsiella aerogenes\\\"],[0.9841382,1.0,\\\"1300 Edwardsiella anguillarum\\\",\\\"1458 Serratia rubidaea\\\"],[0.9779489,1.0,\\\"1183 Epibacterium mobile\\\",\\\"1700 Phaeobacter italicus\\\"],[0.9772901,1.0,\\\"658 Aeromonas salmonicida\\\",\\\"669 Vibrio cholerae\\\"],[0.96718717,1.0,\\\"1201 Gardnerella vaginalis\\\",\\\"598 Neisseria gonorrhoeae\\\"],[0.9493953,1.0,\\\"1574 Franconibacter helveticus\\\",\\\"1918 Enterobacter cloacae subgroup 1\\\"],[0.99121183,0.8828125,\\\"1780 Photobacterium iliopiscarium\\\",\\\"670 Aliivibrio fischeri\\\"],[0.9596689,0.3756940597106802,\\\"672 Vibrio parahaemolyticus\\\",\\\"1460 Salmonella enterica\\\"],[0.98304677,1.0,\\\"1734 Faecalitalea cylindroides\\\",\\\"945 [Clostridium] innocuum\\\"],[0.97707736,1.0,\\\"1756 Leucobacter chromiiresistens\\\",\\\"1783 Curtobacterium oceanosedimentum\\\"],[0.9731774,1.0,\\\"488 Aureimonas ureilytica\\\",\\\"1421 Aurantimonas manganoxydans\\\"],[0.99374825,1.0,\\\"1207 Jonquetella anthropi\\\",\\\"503 Azospirillum brasilense\\\"],[0.9945955,1.0,\\\"937 Thermoclostridium stercorarium\\\",\\\"940 Hungateiclostridium thermocellum\\\"],[0.9901627,1.0,\\\"1152 Hungateiclostridium clariflavum\\\",\\\"1512 Thermoanaerobacter thermocopriae\\\"],[0.9927606,1.0,\\\"1208 Marinobacter hydrocarbonoclasticus\\\",\\\"546 Pseudomonas aeruginosa\\\"],[0.9896964,1.0,\\\"1513 Jejuia pallidilutea\\\",\\\"1891 Algibacter lectus\\\"],[0.99157304,1.0,\\\"1493 Halomonas anticariensis\\\",\\\"1846 Tistrella mobilis\\\"],[0.9912374,0.6111111111111112,\\\"1210 Carnobacterium maltaromaticum\\\",\\\"877 Enterococcus faecalis\\\"],[0.9924541,1.0,\\\"684 Plesiomonas shigelloides\\\",\\\"1151 Edwardsiella ictaluri\\\"],[0.9686004,1.0,\\\"1466 Mesorhizobium plurifarium\\\",\\\"1537 Rhizobium etli\\\"],[0.993986,1.0,\\\"647 Moritella marina\\\",\\\"670 Aliivibrio fischeri\\\"],[0.9939459,1.0,\\\"1212 Brochothrix thermosphacta\\\",\\\"1896 Enterococcus moraviensis\\\"],[0.9771529,1.0,\\\"690 Actinobacillus suis\\\",\\\"1325 Mannheimia varigena\\\"],[0.97073233,0.8781065088757396,\\\"695 Haemophilus parainfluenzae\\\",\\\"698 Aggregatibacter aphrophilus\\\"],[0.98819256,1.0,\\\"1282 Altererythrobacter marensis\\\",\\\"544 Sphingopyxis terrae\\\"],[0.9747883,1.0,\\\"475 Sorangium cellulosum\\\",\\\"918 Streptomyces ruber\\\"],[0.9857713,1.0,\\\"1074 Anoxybacillus gonensis\\\",\\\"919 Geobacillus kaustophilus\\\"],[0.9852026,0.5,\\\"844 Sulfitobacter mediterraneus\\\",\\\"1438 Thalassobius mediterraneus\\\"],[0.9730617,1.0,\\\"704 Pasteurella multocida\\\",\\\"693 Haemophilus influenzae\\\"],[0.99516606,1.0,\\\"1292 Endozoicomonas montiporae\\\",\\\"1208 Marinobacter hydrocarbonoclasticus\\\"],[0.9669298,1.0,\\\"1527 Salinispora arenicola\\\",\\\"1383 Verrucosispora maris\\\"],[0.9973288,0.6143250688705234,\\\"749 Anaplasma phagocytophilum\\\",\\\"712 Ehrlichia ruminantium\\\"],[0.9716797,1.0,\\\"709 Glycomyces tenuis\\\",\\\"1090 Streptomyces viridochromogenes\\\"],[0.98104787,1.0,\\\"1785 Smaragdicoccus niigatensis\\\",\\\"1479 Nocardia seriolae\\\"],[0.99572325,0.9714532871972318,\\\"1810 Bartonella clarridgeiae\\\",\\\"1746 Candidatus Liberibacter americanus\\\"],[0.9971802,1.0,\\\"711 Coxiella burnetii\\\",\\\"885 Lactococcus lactis\\\"],[0.98726314,1.0,\\\"805 Rickettsia bellii\\\",\\\"1111 Mycoplasma arginini\\\"],[0.99520767,1.0,\\\"1674 Candidatus Profftella armatura\\\",\\\"1116 Mycoplasma hyopneumoniae\\\"],[0.98270047,1.0,\\\"1222 Ketogulonicigenium vulgare\\\",\\\"592 Paracoccus pantotrophus\\\"],[0.9935356,0.8016528925619835,\\\"1773 Veillonella atypica\\\",\\\"834 Staphylococcus epidermidis\\\"],[0.9877877,1.0,\\\"1874 Ruegeria atlantica\\\",\\\"1700 Phaeobacter italicus\\\"],[0.99465793,1.0,\\\"1545 Pelosinus fermentans\\\",\\\"1168 Sporomusa ovata\\\"],[0.9888597,1.0,\\\"1226 Olsenella uli\\\",\\\"782 Brevibacterium casei\\\"],[0.98375285,0.45953125,\\\"722 Chlamydia trachomatis\\\",\\\"1201 Gardnerella vaginalis\\\"],[0.9826457,1.0,\\\"781 Photorhabdus temperata\\\",\\\"649 Xenorhabdus nematophila\\\"],[0.9602677,0.39734375,\\\"1558 Bacteroides salyersiae\\\",\\\"1581 Phocaeicola dorei\\\"],[0.98532176,1.0,\\\"1730 Hungatella hathewayi\\\",\\\"938 [Clostridium] symbiosum\\\"],[0.96542567,1.0,\\\"1424 Mycobacteroides abscessus\\\",\\\"1334 Acinetobacter lwoffii\\\"],[0.99498093,1.0,\\\"1895 Bellilinea caldifistulae\\\",\\\"606 Bordetella bronchiseptica\\\"],[0.9963466,1.0,\\\"615 Leptolinea tardivitalis\\\",\\\"649 Xenorhabdus nematophila\\\"],[0.99472266,1.0,\\\"729 Butyrivibrio fibrisolvens\\\",\\\"588 Blautia wexlerae\\\"],[0.9957187,1.0,\\\"730 Fibrobacter succinogenes\\\",\\\"575 Rhizobium leguminosarum\\\"],[0.9873035,0.3646449704142012,\\\"732 Porphyromonas gingivalis\\\",\\\"1342 Tannerella forsythia\\\"],[0.9880597,0.1889868373384857,\\\"1232 Prevotella saccharolytica\\\",\\\"1484 Porphyromonas gulae\\\"],[0.996269,1.0,\\\"1862 Wohlfahrtiimonas chitiniclastica\\\",\\\"1714 Vibrio anguillarum\\\"],[0.9828629,1.0,\\\"570 Roseburia inulinivorans\\\",\\\"1736 Dorea formicigenerans\\\"],[0.987603,1.0,\\\"1835 Sanguibacteroides justesenii\\\",\\\"1558 Bacteroides salyersiae\\\"],[0.9881423,0.48319941563184804,\\\"734 Fusobacterium gonidiaformans\\\",\\\"821 Peptostreptococcus anaerobius\\\"],[0.992044,1.0,\\\"491 Brachyspira hyodysenteriae\\\",\\\"1426 Terrisporobacter glycolicus\\\"],[0.95303506,1.0,\\\"1231 Mycetocola saprophilus\\\",\\\"1088 Streptomyces rimosus\\\"],[0.995362,1.0,\\\"739 Dichelobacter nodosus\\\",\\\"604 Kingella kingae\\\"],[0.9869974,0.25925925925925924,\\\"741 Desulfovibrio gigas\\\",\\\"740 Desulfocurvibacter africanus\\\"],[0.99203926,1.0,\\\"1569 Rhodothermus marinus\\\",\\\"709 Glycomyces tenuis\\\"],[0.98861283,1.0,\\\"1305 Labrenzia alexandrii\\\",\\\"1778 Pannonibacter phragmitetus\\\"],[0.9866795,1.0,\\\"1197 Taylorella asinigenitalis\\\",\\\"843 Deinococcus radiodurans\\\"],[0.99379843,1.0,\\\"1784 Acidaminococcus intestini\\\",\\\"743 Megasphaera elsdenii\\\"],[0.9907752,1.0,\\\"1892 Mageeibacillus indolicus\\\",\\\"1644 Aerococcus christensenii\\\"],[0.9913442,1.0,\\\"743 Megasphaera elsdenii\\\",\\\"1466 Mesorhizobium plurifarium\\\"],[0.9817913,1.0,\\\"1710 Janthinobacterium agaricidamnosum\\\",\\\"752 Herbaspirillum seropedicae\\\"],[0.9943712,1.0,\\\"1654 Nonlabens ulvanivorans\\\",\\\"1228 Cellulophaga baltica\\\"],[0.97185916,1.0,\\\"1736 Dorea formicigenerans\\\",\\\"1606 [Ruminococcus] lactaris\\\"],[0.9333671,1.0,\\\"1589 Raoultella ornithinolytica\\\",\\\"630 Klebsiella oxytoca\\\"],[0.9901566,1.0,\\\"748 Ehrlichia chaffeensis\\\",\\\"1111 Mycoplasma arginini\\\"],[0.9965482,1.0,\\\"840 Wolbachia endosymbiont of Culex quinquefasciatus\\\",\\\"1134 Ureaplasma urealyticum\\\"],[0.9954811,1.0,\\\"750 Rhodonellum psychrophilum\\\",\\\"1934 Bacillus pumilus subgroup 1\\\"],[0.97879386,1.0,\\\"752 Herbaspirillum seropedicae\\\",\\\"1387 Achromobacter xylosoxidans\\\"],[0.98231363,1.0,\\\"703 Glaesserella parasuis\\\",\\\"1153 Mannheimia haemolytica\\\"],[0.9874062,0.8125,\\\"1767 Selenomonas bovis\\\",\\\"475 Sorangium cellulosum\\\"],[0.9961134,1.0,\\\"1246 Prolixibacter bellariivorans\\\",\\\"723 Bacteroides fragilis\\\"],[0.98711175,1.0,\\\"758 Candidatus Microthrix parvicella\\\",\\\"788 Amycolatopsis mediterranei\\\"],[0.98072875,0.9565711400075748,\\\"965 Lactiplantibacillus plantarum\\\",\\\"976 Limosilactobacillus fermentum\\\"],[0.9903173,1.0,\\\"1858 Thalassospira xiamenensis\\\",\\\"575 Rhizobium leguminosarum\\\"],[0.9932399,1.0,\\\"1587 Simiduia agarivorans\\\",\\\"1387 Achromobacter xylosoxidans\\\"],[0.9928792,1.0,\\\"1399 Arthrospira platensis\\\",\\\"1594 Planktothrix prolifica\\\"],[0.9887046,1.0,\\\"1265 Bilophila wadsworthia\\\",\\\"475 Sorangium cellulosum\\\"],[0.9908654,0.6088888888888889,\\\"1368 Capnocytophaga canimorsus\\\",\\\"761 Bergeyella zoohelcum\\\"],[0.99285716,1.0,\\\"1616 Agrilactobacillus composti\\\",\\\"1538 Lactobacillus parabuchneri\\\"],[0.99475104,1.0,\\\"884 Lactobacillus kunkeei\\\",\\\"976 Limosilactobacillus fermentum\\\"],[0.99197966,1.0,\\\"1822 Lactobacillus crustorum\\\",\\\"965 Lactiplantibacillus plantarum\\\"],[0.98591155,0.3472222222222222,\\\"1455 Lactobacillus lindneri\\\",\\\"1181 Pediococcus damnosus\\\"],[0.99384373,1.0,\\\"1005 Lactobacillus rossiae\\\",\\\"1279 Lactobacillus paraplantarum\\\"],[0.99461925,1.0,\\\"1836 Lactobacillus floricola\\\",\\\"983 Ligilactobacillus salivarius\\\"],[0.99135137,1.0,\\\"1679 Dialister micraerophilus\\\",\\\"535 Peptoniphilus lacrimalis\\\"],[0.98543954,1.0,\\\"1318 Lactobacillus curvatus\\\",\\\"1796 Lactobacillus acidipiscis\\\"],[0.98019725,0.4706994328922495,\\\"957 Lactobacillus brevis\\\",\\\"1609 Lactobacillus senmaizukei\\\"],[0.98543954,0.1704,\\\"1796 Lactobacillus acidipiscis\\\",\\\"1318 Lactobacillus curvatus\\\"],[0.9880152,0.34375,\\\"587 Liquorilactobacillus vini\\\",\\\"1604 Lactobacillus hokkaidonensis\\\"],[0.9820667,1.0,\\\"974 Lactobacillus coryniformis\\\",\\\"965 Lactiplantibacillus plantarum\\\"],[0.9880152,0.5,\\\"1604 Lactobacillus hokkaidonensis\\\",\\\"587 Liquorilactobacillus vini\\\"],[0.99304795,1.0,\\\"779 Lactobacillus harbinensis\\\",\\\"1742 Lactobacillus rhamnosus\\\"],[0.981632,0.4074074074074074,\\\"1449 Lactobacillus malefermentans\\\",\\\"1181 Pediococcus damnosus\\\"],[0.98587936,0.6678200692041523,\\\"1538 Lactobacillus parabuchneri\\\",\\\"1181 Pediococcus damnosus\\\"],[0.9840733,1.0,\\\"518 Winkia neuii\\\",\\\"1688 Actinobaculum massiliense\\\"],[0.9901667,1.0,\\\"1658 Erythrobacter marinus\\\",\\\"1282 Altererythrobacter marensis\\\"],[0.97942775,1.0,\\\"1065 Dietzia cinnamea\\\",\\\"1376 Amycolatopsis vancoresmycina\\\"],[0.96247417,1.0,\\\"579 Methylorubrum extorquens\\\",\\\"1826 Methylobacterium radiotolerans\\\"],[0.9938202,1.0,\\\"1270 Myroides odoratimimus\\\",\\\"943 Clostridium beijerinckii\\\"],[0.99138635,1.0,\\\"1594 Planktothrix prolifica\\\",\\\"784 Microcystis aeruginosa\\\"],[0.9816413,1.0,\\\"1273 Pandoraea pnomenusa\\\",\\\"1400 Burkholderia pseudomallei\\\"],[0.9840733,1.0,\\\"1688 Actinobaculum massiliense\\\",\\\"518 Winkia neuii\\\"],[0.98936945,1.0,\\\"769 Leminorella grimontii\\\",\\\"643 Serratia marcescens\\\"],[0.97494483,0.5078125,\\\"771 Rhodobacter sphaeroides\\\",\\\"1566 Paracoccus sanguinis\\\"],[0.99046105,1.0,\\\"772 Tatumella ptyseos\\\",\\\"619 Pantoea agglomerans\\\"],[0.96322274,1.0,\\\"1791 Streptacidiphilus albus\\\",\\\"1109 Kitasatospora setae\\\"],[0.9596024,0.3956602031394275,\\\"1742 Lactobacillus rhamnosus\\\",\\\"1879 Lactobacillus zeae\\\"],[0.9813592,1.0,\\\"776 Rhodospirillum rubrum\\\",\\\"503 Azospirillum brasilense\\\"],[0.96612275,1.0,\\\"1194 Lentzea aerocolonigenes\\\",\\\"788 Amycolatopsis mediterranei\\\"],[0.97311425,0.5,\\\"1137 Arenimonas composti\\\",\\\"1309 Pseudoxanthomonas suwonensis\\\"],[0.9852358,1.0,\\\"674 Grimontia hollisae\\\",\\\"1882 Enterovibrio norvegicus\\\"],[0.97258234,1.0,\\\"1301 Microbacterium oleivorans\\\",\\\"1097 Curtobacterium flaccumfaciens\\\"],[0.9867935,1.0,\\\"1307 Asticcacaulis benevestitus\\\",\\\"1466 Mesorhizobium plurifarium\\\"],[0.9914744,1.0,\\\"1690 Rathayibacter toxicus\\\",\\\"1783 Curtobacterium oceanosedimentum\\\"],[0.97810024,0.5,\\\"588 Blautia wexlerae\\\",\\\"1736 Dorea formicigenerans\\\"],[0.98687595,1.0,\\\"783 Chlorogloeopsis fritschii\\\",\\\"1605 Nodularia spumigena\\\"],[0.99583256,1.0,\\\"1809 Thalassolituus oleivorans\\\",\\\"635 Proteus mirabilis\\\"],[0.99138635,1.0,\\\"784 Microcystis aeruginosa\\\",\\\"1594 Planktothrix prolifica\\\"],[0.9964463,1.0,\\\"1834 Synechococcus elongatus\\\",\\\"892 Methyloversatilis universalis\\\"],[0.9859037,1.0,\\\"1281 Moellerella wisconsensis\\\",\\\"639 Providencia stuartii\\\"],[0.9580058,1.0,\\\"1264 Trabulsiella odontotermitis\\\",\\\"1288 Yokenella regensburgei\\\"],[0.9635912,0.26038781163434904,\\\"1047 Mycolicibacterium phlei\\\",\\\"1042 Mycobacterium avium\\\"],[0.9952,1.0,\\\"1172 Candidatus Phytoplasma australiense\\\",\\\"1121 Mycoplasma mycoides\\\"],[0.97073233,1.0,\\\"698 Aggregatibacter aphrophilus\\\",\\\"695 Haemophilus parainfluenzae\\\"],[0.9329486,1.0,\\\"794 Aphanizomenon flos-aquae\\\",\\\"1213 Dolichospermum circinale\\\"],[0.9580058,1.0,\\\"1288 Yokenella regensburgei\\\",\\\"1264 Trabulsiella odontotermitis\\\"],[0.9839599,1.0,\\\"1141 Mesoplasma florum\\\",\\\"1148 Mycoplasma yeatsii\\\"],[0.9931591,0.8512396694214877,\\\"548 Acidithiobacillus caldus\\\",\\\"1414 Azospirillum thiophilum\\\"],[0.9963547,1.0,\\\"1413 Thermacetogenium phaeum\\\",\\\"1152 Hungateiclostridium clariflavum\\\"],[0.99299556,1.0,\\\"814 Oenococcus oeni\\\",\\\"885 Lactococcus lactis\\\"],[0.8679434,0.23875432525951557,\\\"978 Weissella halotolerans\\\",\\\"817 Pediococcus pentosaceus\\\"],[0.99222153,1.0,\\\"801 Melissococcus plutonius\\\",\\\"1896 Enterococcus moraviensis\\\"],[0.98846835,1.0,\\\"1295 Pseudorhodobacter ferrugineus\\\",\\\"770 Rhodobacter capsulatus\\\"],[0.99406457,0.4934601664684899,\\\"1901 Prochlorococcus marinus subgroup 1\\\",\\\"1372 Arcobacter butzleri\\\"],[0.9911097,0.9444444444444444,\\\"950 Exiguobacterium chiriqhucha\\\",\\\"782 Brevibacterium casei\\\"],[0.98166865,1.0,\\\"1820 Oligotropha carboxidovorans\\\",\\\"942 Bradyrhizobium yuanmingense\\\"],[0.9968702,1.0,\\\"809 Nitrosococcus oceani\\\",\\\"778 Pseudomonas balearica\\\"],[0.9943316,1.0,\\\"810 Piscirickettsia salmonis\\\",\\\"1932 Escherichia coli subgroup 2\\\"],[0.97580457,1.0,\\\"1255 Rhodovulum sulfidophilum\\\",\\\"592 Paracoccus pantotrophus\\\"],[0.98800653,0.19452706722189173,\\\"1452 Paenibacillus mucilaginosus\\\",\\\"1093 Streptosporangium roseum\\\"],[0.99048144,0.9310344827586207,\\\"812 Leuconostoc mesenteroides\\\",\\\"819 Weissella koreensis\\\"],[0.9329486,1.0,\\\"1213 Dolichospermum circinale\\\",\\\"794 Aphanizomenon flos-aquae\\\"],[0.99572325,0.889273356401384,\\\"1746 Candidatus Liberibacter americanus\\\",\\\"1810 Bartonella clarridgeiae\\\"],[0.9950412,1.0,\\\"946 Moorella thermoacetica\\\",\\\"788 Amycolatopsis mediterranei\\\"],[0.8679434,0.2896,\\\"817 Pediococcus pentosaceus\\\",\\\"978 Weissella halotolerans\\\"],[0.9871064,1.0,\\\"1824 Singulisphaera acidiphila\\\",\\\"475 Sorangium cellulosum\\\"],[0.98585445,1.0,\\\"821 Peptostreptococcus anaerobius\\\",\\\"857 Streptococcus agalactiae\\\"],[0.99520147,0.5555555555555556,\\\"1759 Ruminococcus champanellensis\\\",\\\"1683 Flavonifractor plautii\\\"],[0.9785031,1.0,\\\"825 Micrococcus luteus\\\",\\\"859 Streptococcus pneumoniae\\\"],[0.98011166,1.0,\\\"826 Rahnella aquatilis\\\",\\\"774 Serratia plymuthica\\\"],[0.98532176,0.5,\\\"938 [Clostridium] symbiosum\\\",\\\"1730 Hungatella hathewayi\\\"],[0.98938143,0.7688888888888888,\\\"1678 Lysinibacillus odysseyi\\\",\\\"1274 Solibacillus silvestris\\\"],[0.84476537,0.8559163524564469,\\\"834 Staphylococcus epidermidis\\\",\\\"1931 Escherichia coli subgroup 1\\\"],[0.9804581,1.0,\\\"1829 Dickeya dianthicola\\\",\\\"702 Pectobacterium brasiliense\\\"],[0.9723962,0.9996586688746754,\\\"1617 Burkholderia cenocepacia\\\",\\\"1224 Caballeronia zhejiangensis\\\"],[0.9868017,1.0,\\\"1689 Facklamia hominis\\\",\\\"663 Streptococcus pseudoporcinus\\\"],[0.9923576,1.0,\\\"1157 Rhodopirellula europaea\\\",\\\"1389 Bradyrhizobium diazoefficiens\\\"],[0.9866795,1.0,\\\"843 Deinococcus radiodurans\\\",\\\"1197 Taylorella asinigenitalis\\\"],[0.9392439,0.5886004642351025,\\\"859 Streptococcus pneumoniae\\\",\\\"839 Staphylococcus warneri\\\"],[0.9919959,1.0,\\\"846 Kordiimonas gwangyangensis\\\",\\\"1778 Pannonibacter phragmitetus\\\"],[0.9720659,1.0,\\\"1845 Variovorax paradoxus\\\",\\\"1327 Rubrivivax gelatinosus\\\"],[0.9915658,1.0,\\\"861 Riemerella anatipestifer\\\",\\\"761 Bergeyella zoohelcum\\\"],[0.995321,1.0,\\\"1884 Dysgonomonas mossii\\\",\\\"930 Clostridium butyricum\\\"],[0.99100614,1.0,\\\"932 Ruminiclostridium josui\\\",\\\"1152 Hungateiclostridium clariflavum\\\"],[0.99449116,1.0,\\\"1850 Glaciecola pallidula\\\",\\\"1782 Paraglaciecola psychrophila\\\"],[0.9891247,1.0,\\\"1100 Leptotrichia hofstadii\\\",\\\"1102 Pseudoleptotrichia goodfellowii\\\"],[0.98300225,0.4551986475063398,\\\"877 Enterococcus faecalis\\\",\\\"857 Streptococcus agalactiae\\\"],[0.9874135,0.7893827160493827,\\\"887 Lactococcus garvieae\\\",\\\"878 Enterococcus faecium\\\"],[0.9828875,1.0,\\\"1684 Lonsdalea quercina\\\",\\\"1828 Dickeya dadantii\\\"],[0.9928952,1.0,\\\"886 Lachnobacterium bovis\\\",\\\"1324 Lachnospira multipara\\\"],[0.99339795,1.0,\\\"888 Crocosphaera watsonii\\\",\\\"784 Microcystis aeruginosa\\\"],[0.98679173,0.38,\\\"1644 Aerococcus christensenii\\\",\\\"562 Lactobacillus iners\\\"],[0.9796412,1.0,\\\"1620 Methyloversatilis discipulorum\\\",\\\"1327 Rubrivivax gelatinosus\\\"],[0.9939551,1.0,\\\"1149 Gemella sanguinis\\\",\\\"951 Clostridium novyi\\\"],[0.99169374,1.0,\\\"893 Atopobium minutum\\\",\\\"878 Enterococcus faecium\\\"],[0.9431743,0.29259699652089666,\\\"912 Bacillus subtilis\\\",\\\"817 Pediococcus pentosaceus\\\"],[0.9873035,1.0,\\\"1342 Tannerella forsythia\\\",\\\"732 Porphyromonas gingivalis\\\"],[0.9600985,1.0,\\\"1748 Bibersteinia trehalosi\\\",\\\"1153 Mannheimia haemolytica\\\"],[0.9361022,1.0,\\\"1457 Pluralibacter gergoviae\\\",\\\"631 Klebsiella pneumoniae\\\"],[0.9507273,1.0,\\\"1595 Kosakonia radicincitans\\\",\\\"617 Citrobacter freundii\\\"],[0.9669876,0.5625,\\\"1590 Sphingomonas wittichii\\\",\\\"1625 Sphingobium yanoikuyae\\\"],[0.98641086,1.0,\\\"1564 Borreliella garinii\\\",\\\"482 Borrelia hermsii\\\"],[0.99638176,1.0,\\\"1314 Sulfobacillus thermosulfidooxidans\\\",\\\"575 Rhizobium leguminosarum\\\"],[0.96335757,0.972943829036369,\\\"1666 Stenotrophomonas acidaminiphila\\\",\\\"1309 Pseudoxanthomonas suwonensis\\\"],[0.9928952,1.0,\\\"1324 Lachnospira multipara\\\",\\\"886 Lachnobacterium bovis\\\"],[0.9917506,1.0,\\\"1692 Eremococcus coleocola\\\",\\\"1689 Facklamia hominis\\\"],[0.9779489,1.0,\\\"1700 Phaeobacter italicus\\\",\\\"1183 Epibacterium mobile\\\"],[0.9795422,1.0,\\\"1037 Acidipropionibacterium acidipropionici\\\",\\\"520 Cutibacterium avidum\\\"],[0.9795422,0.9662809917355372,\\\"520 Cutibacterium avidum\\\",\\\"1037 Acidipropionibacterium acidipropionici\\\"],[0.98714495,1.0,\\\"1038 Pseudopropionibacterium propionicum\\\",\\\"1061 Streptomyces californicus\\\"],[0.9867501,1.0,\\\"1823 Eggerthia catenaformis\\\",\\\"1147 Oribacterium parvum\\\"],[0.993785,1.0,\\\"987 Kandleria vitulina\\\",\\\"1823 Eggerthia catenaformis\\\"],[0.9720659,1.0,\\\"1327 Rubrivivax gelatinosus\\\",\\\"1845 Variovorax paradoxus\\\"],[0.9804581,1.0,\\\"702 Pectobacterium brasiliense\\\",\\\"1829 Dickeya dianthicola\\\"],[0.9737221,1.0,\\\"1846 Tistrella mobilis\\\",\\\"1387 Achromobacter xylosoxidans\\\"],[0.9952994,0.5,\\\"1638 Pseudothermotoga elfii\\\",\\\"1173 Thermosipho africanus\\\"],[0.9954064,1.0,\\\"464 Buchnera aphidicola\\\",\\\"735 Fusobacterium nucleatum\\\"],[0.9623865,1.0,\\\"573 Sinorhizobium fredii\\\",\\\"1537 Rhizobium etli\\\"],[0.9859606,0.23914322125281834,\\\"1122 Clostridium haemolyticum\\\",\\\"897 Bacillus anthracis\\\"],[0.9761768,0.39100346020761245,\\\"1593 Rothia kristinae\\\",\\\"1716 Kocuria palustris\\\"],[0.9827276,1.0,\\\"1605 Nodularia spumigena\\\",\\\"794 Aphanizomenon flos-aquae\\\"],[0.9905703,1.0,\\\"1851 Salinibacter ruber\\\",\\\"1254 Streptomyces albulus\\\"],[0.97757477,1.0,\\\"808 Gluconacetobacter diazotrophicus\\\",\\\"807 Komagataeibacter europaeus\\\"],[0.99468535,1.0,\\\"707 Scardovia wiggsiae\\\",\\\"1473 Parascardovia denticolens\\\"],[0.9917649,1.0,\\\"1473 Parascardovia denticolens\\\",\\\"1015 Bifidobacterium indicum\\\"],[0.9918499,1.0,\\\"604 Kingella kingae\\\",\\\"1335 Neisseria weaveri\\\"],[0.99496555,1.0,\\\"1163 Candidatus Protochlamydia amoebophila\\\",\\\"989 Parachlamydia acanthamoebae\\\"],[0.9970431,1.0,\\\"954 Desulfotomaculum nigrificans\\\",\\\"902 Cytobacillus firmus\\\"],[0.99555504,1.0,\\\"1859 Tepidanaerobacter acetatoxydans\\\",\\\"933 Clostridium pasteurianum\\\"],[0.99449116,1.0,\\\"1782 Paraglaciecola psychrophila\\\",\\\"1850 Glaciecola pallidula\\\"],[0.9919939,1.0,\\\"1372 Arcobacter butzleri\\\",\\\"1906 Clostridium botulinum subgroup 2\\\"],[0.9596024,0.122008840115836,\\\"1879 Lactobacillus zeae\\\",\\\"1742 Lactobacillus rhamnosus\\\"],[0.9961296,1.0,\\\"474 Snodgrassella alvi\\\",\\\"603 Neisseria elongata\\\"],[0.98204195,1.0,\\\"1276 Rhodanobacter denitrificans\\\",\\\"1110 Dyella japonica\\\"],[0.9896149,1.0,\\\"1215 Geobacter sulfurreducens\\\",\\\"1093 Streptosporangium roseum\\\"],[0.97600365,1.0,\\\"1464 Tepidimonas taiwanensis\\\",\\\"1649 Rubrivivax benzoatilyticus\\\"],[0.98580325,1.0,\\\"1381 Enterocloster bolteae\\\",\\\"1730 Hungatella hathewayi\\\"],[0.9940673,1.0,\\\"532 Lachnoanaerobaculum saburreum\\\",\\\"531 Parvimonas micra\\\"],[0.99061275,1.0,\\\"1380 Ornithobacterium rhinotracheale\\\",\\\"1347 Prevotella bivia\\\"],[0.99496555,1.0,\\\"989 Parachlamydia acanthamoebae\\\",\\\"1163 Candidatus Protochlamydia amoebophila\\\"],[0.98938143,1.0,\\\"1274 Solibacillus silvestris\\\",\\\"1678 Lysinibacillus odysseyi\\\"],[0.9940454,1.0,\\\"1865 Sutterella wadsworthensis\\\",\\\"575 Rhizobium leguminosarum\\\"],[0.9867781,0.9709494696422979,\\\"999 Listeria monocytogenes\\\",\\\"832 Staphylococcus aureus\\\"],[0.99527895,1.0,\\\"1446 Thermodesulfovibrio aggregans\\\",\\\"738 Fusobacterium ulcerans\\\"],[0.99439186,1.0,\\\"1001 Candidatus Pelagibacter ubique\\\",\\\"1121 Mycoplasma mycoides\\\"],[0.99667335,1.0,\\\"920 Candidatus Ruthia magnifica\\\",\\\"936 Clostridium sporogenes\\\"],[0.9829042,1.0,\\\"1002 Erysipelothrix rhusiopathiae\\\",\\\"1134 Ureaplasma urealyticum\\\"],[0.98112535,0.68,\\\"1408 Actinomyces oris\\\",\\\"1849 Propionibacterium acidifaciens\\\"],[0.96549755,1.0,\\\"577 Neorhizobium galegae\\\",\\\"575 Rhizobium leguminosarum\\\"],[0.9931908,1.0,\\\"1339 Elizabethkingia anophelis\\\",\\\"527 Sphingobacterium spiritivorum\\\"],[0.9745858,1.0,\\\"694 Avibacterium paragallinarum\\\",\\\"705 Gallibacterium anatis\\\"],[0.97562987,0.2795225552137634,\\\"1393 Bifidobacterium longum\\\",\\\"860 Streptococcus pyogenes\\\"],[0.9923591,1.0,\\\"1769 Candidatus Hamiltonella defensa\\\",\\\"1771 Candidatus Regiella insecticola\\\"],[0.9923591,1.0,\\\"1771 Candidatus Regiella insecticola\\\",\\\"1769 Candidatus Hamiltonella defensa\\\"],[0.97493565,1.0,\\\"782 Brevibacterium casei\\\",\\\"709 Glycomyces tenuis\\\"],[0.962195,1.0,\\\"1309 Pseudoxanthomonas suwonensis\\\",\\\"1815 Xanthomonas sacchari\\\"],[0.98550075,1.0,\\\"1500 Granulicoccus phenolivorans\\\",\\\"1086 Streptomyces hygroscopicus\\\"],[0.9766361,0.1610976454293629,\\\"1508 Corynebacterium otitidis\\\",\\\"637 Demequina rhizosphaerae\\\"],[0.9659331,1.0,\\\"1050 Caldanaerobacter subterraneus\\\",\\\"1039 Thermoanaerobacter ethanolicus\\\"],[0.9905387,1.0,\\\"1793 Aliivibrio wodanis\\\",\\\"1768 Vibrio cyclitrophicus\\\"],[0.9896964,1.0,\\\"1891 Algibacter lectus\\\",\\\"1513 Jejuia pallidilutea\\\"],[0.9399254,1.0,\\\"1032 Leclercia adecarboxylata\\\",\\\"1915 Enterobacter hormaechei subgroup 2\\\"],[0.9928368,1.0,\\\"1034 Thermodesulfobacterium commune\\\",\\\"1932 Escherichia coli subgroup 2\\\"],[0.9768868,0.8528,\\\"1849 Propionibacterium acidifaciens\\\",\\\"709 Glycomyces tenuis\\\"],[0.9659331,1.0,\\\"1039 Thermoanaerobacter ethanolicus\\\",\\\"1050 Caldanaerobacter subterraneus\\\"],[0.97871834,1.0,\\\"1095 Thermobifida fusca\\\",\\\"1094 Nocardiopsis dassonvillei\\\"],[0.9635912,0.9273431783766745,\\\"1042 Mycobacterium avium\\\",\\\"1047 Mycolicibacterium phlei\\\"],[0.9852358,1.0,\\\"1882 Enterovibrio norvegicus\\\",\\\"674 Grimontia hollisae\\\"],[0.97185916,0.52,\\\"1606 [Ruminococcus] lactaris\\\",\\\"1736 Dorea formicigenerans\\\"],[0.9867501,1.0,\\\"1147 Oribacterium parvum\\\",\\\"1823 Eggerthia catenaformis\\\"],[0.97209406,0.5502958579881657,\\\"891 Paraburkholderia caribensis\\\",\\\"1224 Caballeronia zhejiangensis\\\"],[0.9973115,1.0,\\\"864 Methylacidiphilum fumariolicum\\\",\\\"738 Fusobacterium ulcerans\\\"],[0.9629976,1.0,\\\"1294 Intestinimonas butyriciproducens\\\",\\\"1683 Flavonifractor plautii\\\"],[0.96612275,0.9444444444444444,\\\"788 Amycolatopsis mediterranei\\\",\\\"1194 Lentzea aerocolonigenes\\\"],[0.9741991,0.7229916897506925,\\\"1063 Nocardia otitidiscaviarum\\\",\\\"788 Amycolatopsis mediterranei\\\"],[0.96388274,0.3044889129259059,\\\"1757 Rhodococcus qingshengii\\\",\\\"1932 Escherichia coli subgroup 2\\\"],[0.9931908,1.0,\\\"527 Sphingobacterium spiritivorum\\\",\\\"1339 Elizabethkingia anophelis\\\"],[0.9948511,1.0,\\\"1724 Aneurinibacillus migulanus\\\",\\\"906 Bacillus mycoides\\\"],[0.98733425,0.41836734693877553,\\\"1092 Brevibacillus agri\\\",\\\"617 Citrobacter freundii\\\"],[0.96857333,0.52,\\\"1068 Saccharopolyspora erythraea\\\",\\\"1376 Amycolatopsis vancoresmycina\\\"],[0.99231154,1.0,\\\"1436 Enhydrobacter aerosaccus\\\",\\\"1316 Acinetobacter parvus\\\"],[0.9531402,0.9444897959183673,\\\"1360 Cronobacter sakazakii\\\",\\\"1574 Franconibacter helveticus\\\"],[0.97323775,1.0,\\\"468 Saccharomonospora azurea\\\",\\\"1060 Amycolatopsis methanolica\\\"],[0.9669876,0.9822222222222222,\\\"1625 Sphingobium yanoikuyae\\\",\\\"1590 Sphingomonas wittichii\\\"],[0.9798049,0.5555555555555556,\\\"1883 Novosphingobium subterraneum\\\",\\\"1625 Sphingobium yanoikuyae\\\"],[0.97129947,1.0,\\\"544 Sphingopyxis terrae\\\",\\\"1602 Sphingomonas melonis\\\"],[0.9935315,1.0,\\\"754 Cellulophaga lytica\\\",\\\"1891 Algibacter lectus\\\"],[0.8617246,0.08905080933052961,\\\"1206 Streptomyces pyridomyceticus\\\",\\\"1079 Kitasatospora aureofaciens\\\"],[0.9945777,1.0,\\\"716 Orientia tsutsugamushi\\\",\\\"953 Clostridium baratii\\\"],[0.9745858,1.0,\\\"705 Gallibacterium anatis\\\",\\\"694 Avibacterium paragallinarum\\\"],[0.99209505,1.0,\\\"1415 Granulibacter bethesdensis\\\",\\\"807 Komagataeibacter europaeus\\\"],[0.9761846,1.0,\\\"697 Histophilus somni\\\",\\\"704 Pasteurella multocida\\\"],[0.989651,1.0,\\\"1416 Dermabacter hominis\\\",\\\"782 Brevibacterium casei\\\"],[0.9934803,1.0,\\\"1263 Pseudobacteroides cellulosolvens\\\",\\\"1418 Clostridium saccharoperbutylacetonicum\\\"],[0.9830298,1.0,\\\"775 Blastochloris viridis\\\",\\\"579 Methylorubrum extorquens\\\"],[0.96582,0.3333333333333333,\\\"530 Anaerococcus lactolyticus\\\",\\\"535 Peptoniphilus lacrimalis\\\"],[0.9757976,1.0,\\\"637 Demequina rhizosphaerae\\\",\\\"709 Glycomyces tenuis\\\"],[0.969,1.0,\\\"1093 Streptosporangium roseum\\\",\\\"1088 Streptomyces rimosus\\\"],[0.9745784,1.0,\\\"1894 Actinoalloteichus cyanogriseus\\\",\\\"1376 Amycolatopsis vancoresmycina\\\"],[0.97023374,1.0,\\\"1094 Nocardiopsis dassonvillei\\\",\\\"1076 Streptomyces albus\\\"],[0.97258234,1.0,\\\"1097 Curtobacterium flaccumfaciens\\\",\\\"1301 Microbacterium oleivorans\\\"],[0.99601,1.0,\\\"1686 Waddlia chondrophila\\\",\\\"989 Parachlamydia acanthamoebae\\\"],[0.9934331,1.0,\\\"502 Desulfitobacterium hafniense\\\",\\\"1294 Intestinimonas butyriciproducens\\\"],[0.99749374,1.0,\\\"1099 Tropheryma whipplei\\\",\\\"1123 Mycoplasma leachii\\\"],[0.9972777,1.0,\\\"1428 Dehalococcoides mccartyi\\\",\\\"1204 Rothia mucilaginosa\\\"],[0.9731774,1.0,\\\"1421 Aurantimonas manganoxydans\\\",\\\"488 Aureimonas ureilytica\\\"],[0.9944332,0.9944598337950139,\\\"1787 Pseudoalteromonas porphyrae\\\",\\\"666 Photobacterium angustum\\\"],[0.9621496,1.0,\\\"966 Lacticaseibacillus paracasei\\\",\\\"1879 Lactobacillus zeae\\\"],[0.84476537,0.985538668767516,\\\"1931 Escherichia coli subgroup 1\\\",\\\"834 Staphylococcus epidermidis\\\"],[0.81874716,1.0,\\\"1932 Escherichia coli subgroup 2\\\",\\\"628 Escherichia fergusonii\\\"]],\\\"text\\\":[\\\"1 Mobiluncus\\\",\\\"2 Gordonia\\\",\\\"3 Meiothermus\\\",\\\"4 Kitasatospora\\\",\\\"5 Shewanella\\\",\\\"6 Sporolactobacillus\\\",\\\"7 Dyella\\\",\\\"8 Myxococcus\\\",\\\"9 Stigmatella\\\",\\\"10 Mycoplasma\\\",\\\"11 Candidatus Portiera\\\",\\\"12 Thalassobius\\\",\\\"13 Flavonifractor\\\",\\\"14 Lysobacter\\\",\\\"15 Fructobacillus\\\",\\\"16 Caulobacter\\\",\\\"17 Jeotgalibaca\\\",\\\"18 Ureaplasma\\\",\\\"19 Spiroplasma\\\",\\\"20 Pantoea\\\",\\\"21 Cupriavidus\\\",\\\"22 Nitratireductor\\\",\\\"23 Schaalia\\\",\\\"24 Oligella\\\",\\\"25 Borrelia\\\",\\\"26 Richelia\\\",\\\"27 Eggerthella\\\",\\\"28 Paenarthrobacter\\\",\\\"29 Spirochaeta\\\",\\\"30 Rodentibacter\\\",\\\"31 Kocuria\\\",\\\"32 Collimonas\\\",\\\"33 Kytococcus\\\",\\\"34 Treponema\\\",\\\"35 Catabacter\\\",\\\"36 Sulfurimonas\\\",\\\"37 Salinivibrio\\\",\\\"38 Leptospira\\\",\\\"39 Leptospirillum\\\",\\\"40 Candidatus Moranella\\\",\\\"41 Oblitimonas\\\",\\\"42 Shimwellia\\\",\\\"43 Azospirillum\\\",\\\"44 Saccharicrinis\\\",\\\"45 Campylobacter\\\",\\\"46 Ferrimicrobium\\\",\\\"47 Mannheimia\\\",\\\"48 Helicobacter\\\",\\\"49 Hydrogenovibrio\\\",\\\"50 Achromobacter\\\",\\\"51 Thermoanaerobacterium\\\",\\\"52 Alteromonas\\\",\\\"53 Brucella\\\",\\\"54 Flavobacterium\\\",\\\"55 Parageobacillus\\\",\\\"57 Francisella\\\",\\\"58 Paracoccus\\\",\\\"59 Thermus\\\",\\\"60 Comamonas\\\",\\\"61 Pseudomonas\\\",\\\"63 Thermotoga\\\",\\\"64 Thauera\\\",\\\"65 Roseomonas\\\",\\\"66 Marinagarivorans\\\",\\\"67 Desulfocurvibacter\\\",\\\"68 Geobacillus\\\",\\\"69 Brevundimonas\\\",\\\"70 Hydrogenophaga\\\",\\\"71 Chania\\\",\\\"72 Akkermansia\\\",\\\"73 Sulfurospirillum\\\",\\\"74 Xylella\\\",\\\"75 Limosilactobacillus\\\",\\\"76 Sporomusa\\\",\\\"77 Xanthomonas\\\",\\\"79 Bergeyella\\\",\\\"80 Phocaeicola\\\",\\\"81 Marinilabilia\\\",\\\"82 Kutzneria\\\",\\\"83 Azotobacter\\\",\\\"84 Agrobacterium\\\",\\\"85 Thermosipho\\\",\\\"86 Terrisporobacter\\\",\\\"87 Bradyrhizobium\\\",\\\"88 Wenxinia\\\",\\\"89 Teredinibacter\\\",\\\"90 Rhizobium\\\",\\\"91 Caballeronia\\\",\\\"92 Propionimicrobium\\\",\\\"93 Erysipelatoclostridium\\\",\\\"94 Caldibacillus\\\",\\\"95 Alicycliphilus\\\",\\\"96 Anaerostipes\\\",\\\"97 Methylobacterium\\\",\\\"99 Komagataeibacter\\\",\\\"100 Methylococcus\\\",\\\"101 Fulvimarina\\\",\\\"102 Methylobacter\\\",\\\"103 Lawsonella\\\",\\\"104 Pontibacillus\\\",\\\"105 Acetobacter\\\",\\\"106 Oceanobacillus\\\",\\\"107 Virgibacillus\\\",\\\"108 Trueperella\\\",\\\"109 Actinotignum\\\",\\\"110 Gluconobacter\\\",\\\"111 Legionella\\\",\\\"112 Fluoribacter\\\",\\\"113 Tatlockia\\\",\\\"114 Tetragenococcus\\\",\\\"115 Acinetobacter\\\",\\\"116 Moraxella\\\",\\\"117 Paraclostridium\\\",\\\"118 Fannyhessea\\\",\\\"119 Neisseria\\\",\\\"120 Mariprofundus\\\",\\\"121 Paeniclostridium\\\",\\\"122 Solobacterium\\\",\\\"123 Peptoniphilus\\\",\\\"124 Psychrobacter\\\",\\\"125 Planomicrobium\\\",\\\"126 Parabacteroides\\\",\\\"128 Alcaligenes\\\",\\\"129 Mycoplasmopsis\\\",\\\"130 Bordetella\\\",\\\"131 Finegoldia\\\",\\\"132 Robbsia\\\",\\\"133 Acidiphilium\\\",\\\"134 Ochrobactrum\\\",\\\"135 Ardenticatena\\\",\\\"136 Laribacter\\\",\\\"137 Chromobacterium\\\",\\\"138 Eikenella\\\",\\\"139 Zymomonas\\\",\\\"140 Cytobacillus\\\",\\\"142 Citrobacter\\\",\\\"143 Pannonibacter\\\",\\\"144 Alkalihalobacillus\\\",\\\"145 Enterobacter\\\",\\\"146 Neobacillus\\\",\\\"147 Varibaculum\\\",\\\"148 Erwinia\\\",\\\"150 Hafnia\\\",\\\"151 Thalassobacter\\\",\\\"152 Klebsiella\\\",\\\"153 Pseudoleptotrichia\\\",\\\"154 Morganella\\\",\\\"155 Proteus\\\",\\\"156 Providencia\\\",\\\"157 Salmonella\\\",\\\"158 Parvimonas\\\",\\\"159 Pedobacter\\\",\\\"160 Serratia\\\",\\\"162 Verrucosispora\\\",\\\"163 Xenorhabdus\\\",\\\"164 Acidovorax\\\",\\\"165 Yersinia\\\",\\\"166 Edwardsiella\\\",\\\"167 Epibacterium\\\",\\\"168 Aeromonas\\\",\\\"169 Gardnerella\\\",\\\"170 Franconibacter\\\",\\\"171 Photobacterium\\\",\\\"172 Vibrio\\\",\\\"173 Faecalitalea\\\",\\\"174 Leucobacter\\\",\\\"175 Aureimonas\\\",\\\"176 Jonquetella\\\",\\\"177 Thermoclostridium\\\",\\\"178 Hungateiclostridium\\\",\\\"179 Marinobacter\\\",\\\"180 Jejuia\\\",\\\"181 Halomonas\\\",\\\"182 Carnobacterium\\\",\\\"183 Plesiomonas\\\",\\\"184 Mesorhizobium\\\",\\\"185 Moritella\\\",\\\"186 Brochothrix\\\",\\\"187 Actinobacillus\\\",\\\"188 Haemophilus\\\",\\\"189 Altererythrobacter\\\",\\\"190 Sorangium\\\",\\\"191 Anoxybacillus\\\",\\\"192 Sulfitobacter\\\",\\\"193 Pasteurella\\\",\\\"194 Endozoicomonas\\\",\\\"196 Salinispora\\\",\\\"197 Anaplasma\\\",\\\"198 Glycomyces\\\",\\\"199 Smaragdicoccus\\\",\\\"200 Bartonella\\\",\\\"201 Coxiella\\\",\\\"202 Rickettsia\\\",\\\"203 Candidatus Profftella\\\",\\\"204 Ketogulonicigenium\\\",\\\"205 Veillonella\\\",\\\"206 Ruegeria\\\",\\\"207 Pelosinus\\\",\\\"208 Olsenella\\\",\\\"209 Chlamydia\\\",\\\"210 Photorhabdus\\\",\\\"211 Bacteroides\\\",\\\"212 Hungatella\\\",\\\"213 Mycobacteroides\\\",\\\"214 Bellilinea\\\",\\\"215 Leptolinea\\\",\\\"216 Butyrivibrio\\\",\\\"217 Fibrobacter\\\",\\\"218 Porphyromonas\\\",\\\"219 Prevotella\\\",\\\"220 Wohlfahrtiimonas\\\",\\\"221 Roseburia\\\",\\\"222 Sanguibacteroides\\\",\\\"223 Fusobacterium\\\",\\\"224 Brachyspira\\\",\\\"225 Mycetocola\\\",\\\"226 Dichelobacter\\\",\\\"227 Desulfovibrio\\\",\\\"228 Rhodothermus\\\",\\\"229 Labrenzia\\\",\\\"230 Taylorella\\\",\\\"231 Acidaminococcus\\\",\\\"232 Mageeibacillus\\\",\\\"233 Megasphaera\\\",\\\"234 Janthinobacterium\\\",\\\"235 Nonlabens\\\",\\\"236 Dorea\\\",\\\"237 Raoultella\\\",\\\"239 Ehrlichia\\\",\\\"240 Wolbachia\\\",\\\"241 Rhodonellum\\\",\\\"242 Herbaspirillum\\\",\\\"243 Glaesserella\\\",\\\"244 Selenomonas\\\",\\\"245 Prolixibacter\\\",\\\"246 Candidatus Microthrix\\\",\\\"247 Lactiplantibacillus\\\",\\\"248 Thalassospira\\\",\\\"249 Simiduia\\\",\\\"250 Arthrospira\\\",\\\"251 Bilophila\\\",\\\"252 Capnocytophaga\\\",\\\"253 Agrilactobacillus\\\",\\\"254 Apilactobacillus\\\",\\\"255 Companilactobacillus\\\",\\\"256 Fructilactobacillus\\\",\\\"257 Furfurilactobacillus\\\",\\\"258 Holzapfelia\\\",\\\"259 Dialister\\\",\\\"260 Latilactobacillus\\\",\\\"261 Levilactobacillus\\\",\\\"262 Ligilactobacillus\\\",\\\"263 Liquorilactobacillus\\\",\\\"264 Loigolactobacillus\\\",\\\"265 Paucilactobacillus\\\",\\\"266 Schleiferilactobacillus\\\",\\\"267 Secundilactobacillus\\\",\\\"268 Lentilactobacillus\\\",\\\"269 Winkia\\\",\\\"270 Erythrobacter\\\",\\\"271 Dietzia\\\",\\\"272 Methylorubrum\\\",\\\"273 Myroides\\\",\\\"274 Planktothrix\\\",\\\"275 Pandoraea\\\",\\\"276 Actinobaculum\\\",\\\"277 Leminorella\\\",\\\"278 Rhodobacter\\\",\\\"279 Tatumella\\\",\\\"280 Streptacidiphilus\\\",\\\"281 Lacticaseibacillus\\\",\\\"282 Rhodospirillum\\\",\\\"283 Lechevalieria\\\",\\\"284 Arenimonas\\\",\\\"285 Grimontia\\\",\\\"286 Microbacterium\\\",\\\"287 Asticcacaulis\\\",\\\"288 Rathayibacter\\\",\\\"289 Blautia\\\",\\\"290 Chlorogloeopsis\\\",\\\"291 Thalassolituus\\\",\\\"292 Microcystis\\\",\\\"293 Synechococcus\\\",\\\"294 Moellerella\\\",\\\"295 Trabulsiella\\\",\\\"296 Mycolicibacterium\\\",\\\"297 Candidatus Phytoplasma\\\",\\\"298 Aggregatibacter\\\",\\\"299 Aphanizomenon\\\",\\\"300 Yokenella\\\",\\\"301 Mesoplasma\\\",\\\"302 Acidithiobacillus\\\",\\\"303 Thermacetogenium\\\",\\\"304 Oenococcus\\\",\\\"305 Weissella\\\",\\\"306 Melissococcus\\\",\\\"307 Pseudorhodobacter\\\",\\\"308 Prochlorococcus\\\",\\\"309 Exiguobacterium\\\",\\\"310 Oligotropha\\\",\\\"311 Nitrosococcus\\\",\\\"312 Piscirickettsia\\\",\\\"313 Rhodovulum\\\",\\\"314 Paenibacillus\\\",\\\"315 Leuconostoc\\\",\\\"316 Dolichospermum\\\",\\\"317 Liberibacter\\\",\\\"318 Moorella\\\",\\\"319 Pediococcus\\\",\\\"320 Singulisphaera\\\",\\\"321 Peptostreptococcus\\\",\\\"322 Ruminococcus\\\",\\\"323 Micrococcus\\\",\\\"324 Rahnella\\\",\\\"325 Lachnoclostridium\\\",\\\"326 Lysinibacillus\\\",\\\"327 Staphylococcus\\\",\\\"328 Dickeya\\\",\\\"329 Burkholderia\\\",\\\"330 Facklamia\\\",\\\"331 Rhodopirellula\\\",\\\"332 Deinococcus\\\",\\\"333 Streptococcus\\\",\\\"334 Kordiimonas\\\",\\\"335 Variovorax\\\",\\\"336 Riemerella\\\",\\\"337 Dysgonomonas\\\",\\\"338 Ruminiclostridium\\\",\\\"339 Glaciecola\\\",\\\"340 Leptotrichia\\\",\\\"341 Enterococcus\\\",\\\"342 Lactococcus\\\",\\\"343 Lonsdalea\\\",\\\"344 Lachnobacterium\\\",\\\"345 Crocosphaera\\\",\\\"346 Aerococcus\\\",\\\"347 Methyloversatilis\\\",\\\"348 Gemella\\\",\\\"349 Atopobium\\\",\\\"350 Bacillus\\\",\\\"351 Tannerella\\\",\\\"352 Bibersteinia\\\",\\\"353 Pluralibacter\\\",\\\"354 Kosakonia\\\",\\\"355 Sphingomonas\\\",\\\"356 Borreliella\\\",\\\"357 Sulfobacillus\\\",\\\"358 Stenotrophomonas\\\",\\\"359 Lachnospira\\\",\\\"360 Eremococcus\\\",\\\"361 Phaeobacter\\\",\\\"362 Acidipropionibacterium\\\",\\\"363 Cutibacterium\\\",\\\"364 Pseudopropionibacterium\\\",\\\"365 Eggerthia\\\",\\\"366 Kandleria\\\",\\\"367 Rubrivivax\\\",\\\"368 Pectobacterium\\\",\\\"369 Tistrella\\\",\\\"370 Pseudothermotoga\\\",\\\"371 Buchnera\\\",\\\"372 Sinorhizobium\\\",\\\"373 Clostridium\\\",\\\"374 Rothia\\\",\\\"375 Nodularia\\\",\\\"376 Salinibacter\\\",\\\"377 Gluconacetobacter\\\",\\\"378 Scardovia\\\",\\\"379 Parascardovia\\\",\\\"380 Kingella\\\",\\\"381 Candidatus Protochlamydia\\\",\\\"382 Desulfotomaculum\\\",\\\"383 Tepidanaerobacter\\\",\\\"384 Paraglaciecola\\\",\\\"385 Arcobacter\\\",\\\"386 Lactobacillus\\\",\\\"387 Snodgrassella\\\",\\\"388 Rhodanobacter\\\",\\\"389 Geobacter\\\",\\\"390 Tepidimonas\\\",\\\"391 Enterocloster\\\",\\\"392 Lachnoanaerobaculum\\\",\\\"394 Ornithobacterium\\\",\\\"395 Parachlamydia\\\",\\\"396 Solibacillus\\\",\\\"397 Sutterella\\\",\\\"398 Listeria\\\",\\\"399 Thermodesulfovibrio\\\",\\\"400 Candidatus Pelagibacter\\\",\\\"401 Candidatus Ruthia\\\",\\\"402 Erysipelothrix\\\",\\\"403 Actinomyces\\\",\\\"404 Neorhizobium\\\",\\\"405 Elizabethkingia\\\",\\\"406 Avibacterium\\\",\\\"407 Bifidobacterium\\\",\\\"408 Candidatus Hamiltonella\\\",\\\"409 Candidatus Regiella\\\",\\\"410 Brevibacterium\\\",\\\"411 Pseudoxanthomonas\\\",\\\"412 Granulicoccus\\\",\\\"413 Corynebacterium\\\",\\\"414 Caldanaerobacter\\\",\\\"415 Aliivibrio\\\",\\\"416 Algibacter\\\",\\\"417 Leclercia\\\",\\\"418 Thermodesulfobacterium\\\",\\\"419 Propionibacterium\\\",\\\"420 Thermoanaerobacter\\\",\\\"421 Thermobifida\\\",\\\"422 Mycobacterium\\\",\\\"423 Enterovibrio\\\",\\\"424 Mediterraneibacter\\\",\\\"425 Oribacterium\\\",\\\"426 Paraburkholderia\\\",\\\"427 Methylacidiphilum\\\",\\\"428 Intestinimonas\\\",\\\"429 Amycolatopsis\\\",\\\"430 Nocardia\\\",\\\"431 Rhodococcus\\\",\\\"432 Sphingobacterium\\\",\\\"433 Aneurinibacillus\\\",\\\"434 Brevibacillus\\\",\\\"435 Saccharopolyspora\\\",\\\"436 Enhydrobacter\\\",\\\"437 Cronobacter\\\",\\\"438 Saccharomonospora\\\",\\\"439 Sphingobium\\\",\\\"440 Novosphingobium\\\",\\\"441 Sphingopyxis\\\",\\\"442 Cellulophaga\\\",\\\"443 Streptomyces\\\",\\\"444 Orientia\\\",\\\"445 Gallibacterium\\\",\\\"446 Granulibacter\\\",\\\"447 Histophilus\\\",\\\"448 Dermabacter\\\",\\\"449 Pseudobacteroides\\\",\\\"450 Blastochloris\\\",\\\"451 Anaerococcus\\\",\\\"452 Demequina\\\",\\\"453 Streptosporangium\\\",\\\"454 Actinoalloteichus\\\",\\\"455 Nocardiopsis\\\",\\\"456 Curtobacterium\\\",\\\"457 Waddlia\\\",\\\"458 Desulfitobacterium\\\",\\\"459 Tropheryma\\\",\\\"460 Dehalococcoides\\\",\\\"461 Aurantimonas\\\",\\\"462 Pseudoalteromonas\\\",\\\"1948 Lacticaseibacillus casei\\/paracasei\\\",\\\"1949 Escherichia\\/Shigella\\\",\\\"1950 Escherichia coli\\/Shigella\\\"],\\\"hovertemplate\\\":\\\"(%{x:.3f}, %{customdata[0]:.3f}, %{customdata[1]:.1%})<br>%{text}<br>%{customdata[2]}<br>%{customdata[3]}<extra><\\/extra>\\\",\\\"x\\\":[0.99180126,0.9789365,0.2079285,0.9470835,0.9955059,0.9952208,0.0062548867,0.012629652,0.012571359,1.0,0.04109589,0.023280092,0.47705576,0.9836249,0.011296396,0.9560158,0.24565972,0.8897143,0.9862934,0.9992281,0.971282,0.40932602,0.9718252,0.4133103,0.9782766,0.64772534,0.26961666,0.31771094,0.65222996,0.0076923077,0.98080635,0.955429,0.57459503,0.9987957,0.33827025,0.006045949,0.26512167,0.99856085,0.42754892,0.008465609,0.41984564,0.009786209,0.9530471,0.009228375,0.9990478,0.02257484,0.96179575,0.9990564,0.009449071,0.9315043,0.56311464,0.98972297,0.95969623,0.99726176,0.95610374,0.96783215,0.9682774,0.94217163,0.979642,0.9918033,0.9367951,0.004160666,0.37623763,0.2114579,0.64289635,0.95925117,0.45568824,0.033665657,0.0005545082,0.2524214,0.67622817,0.598002,0.99800825,0.0076793605,0.9843814,0.4764421,0.9927323,0.006437768,0.0070178905,0.21330988,0.9270978,0.35563973,0.01045947,0.9669746,0.0048148762,0.8020897,0.9713598,0.12763001,0.45460263,0.51274985,0.36277643,0.43141645,0.5115272,0.96592236,0.973221,0.2949492,0.0016273393,0.6630165,0.13575482,0.99537444,0.99456984,0.38668403,0.38234165,0.4151515,0.003991403,0.9800242,0.99875635,0.22060767,0.00034287674,0.9724988,0.9918111,0.95658773,0.6112057,0.6447668,0.9895186,0.46475163,0.5796024,0.5262083,0.9835469,0.022768434,0.36329553,0.9930426,0.90902114,0.99423176,0.9778782,0.5955998,0.16934296,0.012114686,0.52934337,0.00447669,0.28044233,0.97242725,0.6616403,0.5145901,0.77339524,0.965135,0.40860775,0.9963921,0.98847836,0.0022087775,0.35966736,0.9888502,0.94035167,0.5994478,0.95557266,0.46896553,0.83185625,0.5902292,0.98362255,0.8868819,0.5219907,0.00029312618,0.98677874,0.010695893,0.9690404,0.9761799,0.9809267,0.95268095,0.0006908122,0.9732014,0.96604276,0.9093285,0.9943813,0.9950455,0.5708502,0.68577874,0.92015254,0.1421848,0.00056264066,0.98645025,0.5909497,0.012923077,0.9889514,0.9933448,0.5021989,0.93815964,0.0030734842,0.011829492,0.8921292,0.99111515,0.00048297513,0.8719926,0.005272634,0.987211,0.41198567,0.9927835,0.92298895,0.99817765,0.0060706404,0.0009460738,0.99626017,0.19435655,0.9845281,0.004640371,0.0039726878,0.9950471,0.6421458,0.1677151,0.29681924,0.9980769,0.9364655,0.9985372,0.28876635,0.92375404,0.00232423,0.00076345593,0.9904613,0.0013723068,0.99905366,0.99860495,0.52683336,0.5377451,0.1674231,0.99639595,0.96068597,0.00052863435,0.11776609,0.99790955,0.6356813,0.9867543,0.975625,0.14530864,0.25663716,0.44280577,0.0056119147,0.8363452,0.6018953,0.67279553,0.9863412,0.93779653,0.0062506623,0.9614106,0.7350064,0.9895248,0.0051716547,0.29250458,0.98614836,0.48136592,0.0038548452,0.14475785,0.36317968,0.996836,0.010473052,0.7693008,0.99054956,0.996337,0.018041888,0.07041767,0.49891695,0.98135555,0.9906623,0.9977082,0.9938224,0.4983555,0.9919196,0.007704785,0.9953592,0.9905377,0.09480997,0.00075287034,0.64962167,0.6406655,0.99108845,0.007203842,0.9359975,0.021134594,0.004819591,0.983015,0.001726718,0.0064199395,0.9974763,0.014364124,0.0018578352,0.98103195,0.0048956755,0.96749264,0.009010374,0.07858911,0.9939115,0.020869717,0.38191158,0.7228184,0.038693234,0.5605036,0.86970335,0.97904634,0.20561798,0.9664019,0.612089,0.28461748,0.4089904,0.9942595,0.013585638,0.99206,0.99648815,0.19820325,0.00554624,0.9989671,0.99116164,0.053829152,0.43224066,0.639969,0.5104927,0.99803936,0.9923149,0.5598432,0.9961355,0.35971802,0.9976779,0.007868207,0.32651892,0.9971069,0.60762143,0.29848495,0.9972246,0.9920577,0.99437934,0.94001895,0.973689,0.45289788,0.87946314,0.9251794,0.9975079,0.005816413,0.93795663,0.6946423,0.0029213072,0.013058619,0.00250339,0.938363,0.99637604,0.9926661,0.004694323,0.24641266,0.36940476,0.99743307,0.9057473,0.59409076,0.19304039,0.99851656,0.32440925,0.40052426,0.5174957,0.68637025,0.9779738,0.89015543,0.38653892,0.9686774,0.325226,0.301212,0.9633652,0.39161864,0.9870799,0.251853,0.30161208,0.30530012,0.77218705,0.8974128,0.6129395,0.99739414,0.9566603,0.9607785,0.9974943,0.99702185,0.020229504,0.36213374,0.25812477,0.0003468609,0.3080418,0.40525433,0.4296131,0.31610885,0.0002365744,0.007621411,0.9614165,0.9995572,0.2027127,0.9017094,0.97513676,0.47759235,0.9786741,0.50314903,0.060881417,0.16396867,0.3630303,0.40537542,0.9942442,0.028428735,0.55331415,0.015284854,0.25228035,0.9942877,0.8460531,0.9725194,0.5280899,0.99614763,0.59299713,0.67882955,0.9484094,0.5725244,0.01681466,0.9979624,0.50986344,0.9584655,0.36437717,0.33479077,0.0063653723,0.98496306,0.8430044,0.06317654,0.9915034,0.9792365,0.9890091,0.1099182,0.97992045,0.008116429,0.43318123,0.96699286,0.9837941,0.9836676,0.6966828,0.30787182,0.99753475,0.9712949,0.6025867,0.97344977,0.95186454,0.9690752,0.98381,0.94997746,0.99242276,0.98209864,0.7536488,0.6035242,0.42223322,0.43069088,0.6480367,0.006305977,0.0009044862,0.9919933,0.7972683,0.6853183,0.14658804,0.9405711,0.9110988,0.006198929,0.5962594,0.1351527,0.92796147,0.6483333,0.9946755,0.47451088,0.9106814,0.6825378]}],{\\\"coloraxis\\\":{\\\"colorscale\\\":\\\"Viridis\\\"},\\\"xaxis\\\":{\\\"title\\\":\\\"Diameter\\\",\\\"range\\\":[0.5,1.0]},\\\"hovermode\\\":\\\"closest\\\",\\\"margin\\\":{\\\"l\\\":50,\\\"b\\\":50,\\\"r\\\":50,\\\"t\\\":60},\\\"yaxis\\\":{\\\"title\\\":\\\"Min-inter \\/ Diameter\\\",\\\"range\\\":[0,2]}},{}); gd.on(\\\"plotly_hover\\\",(function (data){var filtered_data=WebIO.PlotlyCommands.filterEventData(gd,data,\\\"hover\\\"); return !(filtered_data.isnil) ? (WebIO.setval({\\\"name\\\":\\\"hover\\\",\\\"scope\\\":\\\"13082927617177373117\\\",\\\"id\\\":\\\"15931613036042091437\\\",\\\"type\\\":\\\"observable\\\"},filtered_data.out)) : undefined})); gd.on(\\\"plotly_unhover\\\",(function (){return WebIO.setval({\\\"name\\\":\\\"hover\\\",\\\"scope\\\":\\\"13082927617177373117\\\",\\\"id\\\":\\\"15931613036042091437\\\",\\\"type\\\":\\\"observable\\\"},{})})); gd.on(\\\"plotly_selected\\\",(function (data){var filtered_data=WebIO.PlotlyCommands.filterEventData(gd,data,\\\"selected\\\"); return !(filtered_data.isnil) ? (WebIO.setval({\\\"name\\\":\\\"selected\\\",\\\"scope\\\":\\\"13082927617177373117\\\",\\\"id\\\":\\\"3656881901082526470\\\",\\\"type\\\":\\\"observable\\\"},filtered_data.out)) : undefined})); gd.on(\\\"plotly_deselect\\\",(function (){return WebIO.setval({\\\"name\\\":\\\"selected\\\",\\\"scope\\\":\\\"13082927617177373117\\\",\\\"id\\\":\\\"3656881901082526470\\\",\\\"type\\\":\\\"observable\\\"},{})})); gd.on(\\\"plotly_relayout\\\",(function (data){var filtered_data=WebIO.PlotlyCommands.filterEventData(gd,data,\\\"relayout\\\"); return !(filtered_data.isnil) ? (WebIO.setval({\\\"name\\\":\\\"relayout\\\",\\\"scope\\\":\\\"13082927617177373117\\\",\\\"id\\\":\\\"8624702871238524457\\\",\\\"type\\\":\\\"observable\\\"},filtered_data.out)) : undefined})); return gd.on(\\\"plotly_click\\\",(function (data){var filtered_data=WebIO.PlotlyCommands.filterEventData(gd,data,\\\"click\\\"); return !(filtered_data.isnil) ? (WebIO.setval({\\\"name\\\":\\\"click\\\",\\\"scope\\\":\\\"13082927617177373117\\\",\\\"id\\\":\\\"6698994432810927811\\\",\\\"type\\\":\\\"observable\\\"},filtered_data.out)) : undefined}))}));\\n    (WebIO.importBlock({\\\"data\\\":[{\\\"name\\\":\\\"Plotly\\\",\\\"type\\\":\\\"js\\\",\\\"url\\\":\\\"\\/assetserver\\/2178a8d06f9a8c65d859d06b4046edd396027e54-plotly.min.js\\\"},{\\\"name\\\":null,\\\"type\\\":\\\"js\\\",\\\"url\\\":\\\"\\/assetserver\\/bfdea5073d48cb1c02a6ebf79fdeb36320854e28-plotly_webio.bundle.js\\\"}],\\\"type\\\":\\\"async_block\\\"})).then((imports) => handler.apply(this, imports));\\n}\\n\"],\"observables\":{\"_toImage\":{\"sync\":false,\"id\":\"17471156107098492273\",\"value\":{}},\"hover\":{\"sync\":false,\"id\":\"15931613036042091437\",\"value\":{}},\"selected\":{\"sync\":false,\"id\":\"3656881901082526470\",\"value\":{}},\"__gd_contents\":{\"sync\":false,\"id\":\"2146587767778899084\",\"value\":{}},\"click\":{\"sync\":false,\"id\":\"6698994432810927811\",\"value\":{}},\"image\":{\"sync\":true,\"id\":\"8269567824404110490\",\"value\":\"\"},\"__get_gd_contents\":{\"sync\":false,\"id\":\"14747927758179587851\",\"value\":\"\"},\"_downloadImage\":{\"sync\":false,\"id\":\"11343643719660074592\",\"value\":{}},\"relayout\":{\"sync\":false,\"id\":\"8624702871238524457\",\"value\":{}},\"_commands\":{\"sync\":false,\"id\":\"1755799937558265588\",\"value\":[]}}},\"children\":[{\"props\":{\"id\":\"plot-9524a216-a974-44a8-a4c3-75fefb934c8a\"},\"nodeType\":\"DOM\",\"type\":\"node\",\"instanceArgs\":{\"namespace\":\"html\",\"tag\":\"div\"},\"children\":[]}]},\n",
       "            window,\n",
       "        );\n",
       "    } else {\n",
       "        document\n",
       "            .querySelector('[data-webio-mountpoint=\"12544182108747577161\"]')\n",
       "            .innerHTML = (\n",
       "                '<div style=\"padding: 1em; background-color: #f8d6da; border: 1px solid #f5c6cb\">' +\n",
       "                '<p><strong>WebIO not detected.</strong></p>' +\n",
       "                '<p>Please read ' +\n",
       "                '<a href=\"https://juliagizmos.github.io/WebIO.jl/latest/troubleshooting/not-detected/\" target=\"_blank\">the troubleshooting guide</a> ' +\n",
       "                'for more information on how to resolve this issue.</p>' +\n",
       "                '<p><a href=\"https://juliagizmos.github.io/WebIO.jl/latest/troubleshooting/not-detected/\" target=\"_blank\">https://juliagizmos.github.io/WebIO.jl/latest/troubleshooting/not-detected/</a></p>' +\n",
       "                '</div>'\n",
       "            );\n",
       "    }\n",
       "    </script>\n",
       "</div>\n"
      ],
      "text/plain": [
       "data: [\n",
       "  \"scatter with fields line, type, x, and y\",\n",
       "  \"scatter with fields customdata, hovertemplate, marker, mode, text, type, x, and y\"\n",
       "]\n",
       "\n",
       "layout: \"layout with fields coloraxis, hovermode, margin, xaxis, and yaxis\"\n",
       "\n"
      ]
     },
     "execution_count": 45,
     "metadata": {},
     "output_type": "execute_result"
    }
   ],
   "source": [
    "let\n",
    "    inds = .!taxa.is_leaf .& isnan.(taxa.manual_threshold)\n",
    "    \n",
    "    traces = GenericTrace[]\n",
    "    \n",
    "    push!(traces, scatter(\n",
    "        x=[0, 1],\n",
    "        y=[1, 1],\n",
    "        line=attr(\n",
    "            color=:gray,\n",
    "            dash=:dash,\n",
    "        ),\n",
    "    ))\n",
    "    \n",
    "    push!(traces, scatter(\n",
    "        x=taxa[inds, :diameter],\n",
    "        y=taxa[inds, :min_inter_dist] ./ taxa[inds, :diameter],\n",
    "        text=taxa[inds, :plot_label],\n",
    "        customdata=[\n",
    "            [\n",
    "                    row.min_inter_dist,\n",
    "                    row.coverage_at_min_inter,\n",
    "                    lookup_tid(row.min_inter_src, :plot_label),\n",
    "                    lookup_tid(row.min_inter_dst, :plot_label),\n",
    "            ]\n",
    "            for row in eachrow(taxa[inds, :])\n",
    "        ],\n",
    "        mode=:markers,\n",
    "        marker_color=coverage_at_min_inter[inds],\n",
    "        marker_colorscale=\"Viridis\",\n",
    "        hovertemplate=\"(%{x:.3f}, %{customdata[0]:.3f}, %{customdata[1]:.1%})<br>%{text}<br>%{customdata[2]}<br>%{customdata[3]}<extra></extra>\",\n",
    "    ))\n",
    "    \n",
    "    layout = Layout(\n",
    "        hovermode=:closest,\n",
    "        xaxis=attr(\n",
    "            title=\"Diameter\",\n",
    "            range=[0.5, 1.],\n",
    "        ),\n",
    "        yaxis=attr(\n",
    "            title=\"Min-inter / Diameter\",\n",
    "            range=[0, 2],\n",
    "        ),\n",
    "        coloraxis=attr(\n",
    "            colorscale=\"Viridis\",\n",
    "        ),\n",
    "    )\n",
    "    \n",
    "    plot(traces, layout)\n",
    "end"
   ]
  },
  {
   "cell_type": "code",
   "execution_count": 44,
   "id": "0da5efc5",
   "metadata": {},
   "outputs": [],
   "source": [
    "using MidasPlots.Plotly"
   ]
  },
  {
   "cell_type": "code",
   "execution_count": 46,
   "id": "5aff01c2",
   "metadata": {},
   "outputs": [],
   "source": [
    "margins = [0.00, 0.05, 0.10];"
   ]
  },
  {
   "cell_type": "code",
   "execution_count": 50,
   "id": "d8c81c50",
   "metadata": {},
   "outputs": [],
   "source": [
    "taxa[!, :base_threshold] = [isnan(row.manual_threshold) ? row.diameter : row.manual_threshold for row in eachrow(taxa)];"
   ]
  },
  {
   "cell_type": "code",
   "execution_count": 51,
   "id": "5a74677c",
   "metadata": {},
   "outputs": [
    {
     "data": {
      "text/plain": [
       "252"
      ]
     },
     "execution_count": 51,
     "metadata": {},
     "output_type": "execute_result"
    }
   ],
   "source": [
    "select_taxa_idxs = findall(taxa.min_inter_dist .* (1 - maximum(margins)) .<= taxa.base_threshold);\n",
    "sort!(select_taxa_idxs, by=i -> ccj)\n",
    "length(select_taxa_idxs)"
   ]
  },
  {
   "cell_type": "code",
   "execution_count": null,
   "id": "21df3a57",
   "metadata": {},
   "outputs": [],
   "source": [
    "let\n",
    "    ga = GridAxes(1, length(margins) + 1, sharey=true)\n",
    "    \n",
    "    let taxon = lookup_tid(1949)\n",
    "        \n",
    "    end\n",
    "end"
   ]
  }
 ],
 "metadata": {
  "kernelspec": {
   "display_name": "Julia 1.5.1",
   "language": "julia",
   "name": "julia-1.5"
  },
  "language_info": {
   "file_extension": ".jl",
   "mimetype": "application/julia",
   "name": "julia",
   "version": "1.5.1"
  }
 },
 "nbformat": 4,
 "nbformat_minor": 5
}
