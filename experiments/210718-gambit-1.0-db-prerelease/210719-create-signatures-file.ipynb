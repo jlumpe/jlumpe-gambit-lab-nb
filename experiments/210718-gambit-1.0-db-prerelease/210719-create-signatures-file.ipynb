{
 "cells": [
  {
   "cell_type": "markdown",
   "id": "5fef4fae",
   "metadata": {},
   "source": [
    "# 210719 Create signatures file"
   ]
  },
  {
   "cell_type": "code",
   "execution_count": 1,
   "id": "fc986d83",
   "metadata": {},
   "outputs": [],
   "source": [
    "from pathlib import Path\n",
    "import json\n",
    "from gzip import GzipFile"
   ]
  },
  {
   "cell_type": "code",
   "execution_count": 2,
   "id": "f0e62643",
   "metadata": {},
   "outputs": [],
   "source": [
    "import numpy as np\n",
    "import pandas as pd\n",
    "from tqdm import tqdm\n",
    "from sqlalchemy import create_engine\n",
    "from sqlalchemy.orm import sessionmaker\n",
    "import h5py as h5"
   ]
  },
  {
   "cell_type": "code",
   "execution_count": 3,
   "id": "1de3d529",
   "metadata": {},
   "outputs": [],
   "source": [
    "from gambit.db.models import *\n",
    "from gambit.kmers import KmerSpec\n",
    "from gambit.signatures import SignaturesMeta\n",
    "from gambit.signatures.hdf5 import HDF5Signatures\n",
    "from gambit_legacy.io.signaturefile import SignatureFile\n",
    "import gambit.io.json as gjson"
   ]
  },
  {
   "cell_type": "markdown",
   "id": "ecc80440",
   "metadata": {},
   "source": [
    "## Setup"
   ]
  },
  {
   "cell_type": "code",
   "execution_count": 4,
   "id": "d52aeb19",
   "metadata": {},
   "outputs": [],
   "source": [
    "DATESTR = '210719'\n",
    "NBNAME = DATESTR + '-create-signatures-file'\n",
    "DATESTR_ISO = '2021-07-19'"
   ]
  },
  {
   "cell_type": "code",
   "execution_count": 5,
   "id": "00154301",
   "metadata": {},
   "outputs": [],
   "source": [
    "infiles = dict(\n",
    "    db=Path('/home/jared/projects/gambit/data/databases/refseq-curated/1.0-beta1/gambit-genomes-1.0b1-210719.db'),\n",
    "    signatures_in=Path('/home/jared/projects/gambit/data/databases/refseq-curated/midas-1.1/refseq_curated-1.1beta-210718.midas-signatures.gz'),\n",
    ")"
   ]
  },
  {
   "cell_type": "raw",
   "id": "b963e11c",
   "metadata": {},
   "source": [
    "intermediate_out = Path('data-intermediate') / NBNAME\n",
    "if not intermediate_out.is_dir():\n",
    "    intermediate_out.mkdir()"
   ]
  },
  {
   "cell_type": "code",
   "execution_count": 6,
   "id": "a11e008c",
   "metadata": {},
   "outputs": [],
   "source": [
    "signatures_out_path = Path(f'/home/jared/projects/gambit/data/databases/refseq-curated/1.0-beta1/gambit-signatures-1.0b1-{DATESTR}.h5')"
   ]
  },
  {
   "cell_type": "markdown",
   "id": "c5f35dd5",
   "metadata": {},
   "source": [
    "## Load data"
   ]
  },
  {
   "cell_type": "markdown",
   "id": "24fa7c95",
   "metadata": {},
   "source": [
    "### Genomes database"
   ]
  },
  {
   "cell_type": "code",
   "execution_count": 7,
   "id": "a5f13b76",
   "metadata": {},
   "outputs": [],
   "source": [
    "engine = create_engine(f'sqlite:///{infiles[\"db\"]}')"
   ]
  },
  {
   "cell_type": "code",
   "execution_count": 8,
   "id": "f38dfd96",
   "metadata": {},
   "outputs": [],
   "source": [
    "session = sessionmaker(engine)()"
   ]
  },
  {
   "cell_type": "code",
   "execution_count": 9,
   "id": "5ca16f8a",
   "metadata": {},
   "outputs": [],
   "source": [
    "gset = session.query(ReferenceGenomeSet).one()"
   ]
  },
  {
   "cell_type": "markdown",
   "id": "39a07a61",
   "metadata": {},
   "source": [
    "### Input signatures file"
   ]
  },
  {
   "cell_type": "code",
   "execution_count": 10,
   "id": "e43d054b",
   "metadata": {},
   "outputs": [],
   "source": [
    "signatures_in = SignatureFile(GzipFile(infiles['signatures_in']))"
   ]
  },
  {
   "cell_type": "code",
   "execution_count": 11,
   "id": "319007ae",
   "metadata": {},
   "outputs": [],
   "source": [
    "acc_to_index = {acc: i for i, acc in enumerate(signatures_in.ids)}"
   ]
  },
  {
   "cell_type": "code",
   "execution_count": 12,
   "id": "5939be01",
   "metadata": {},
   "outputs": [],
   "source": [
    "meta_in = signatures_in.get_metadata()"
   ]
  },
  {
   "cell_type": "code",
   "execution_count": 13,
   "id": "a06eccc4",
   "metadata": {},
   "outputs": [
    {
     "data": {
      "text/plain": [
       "KmerSpec(11, 'ATGAC')"
      ]
     },
     "execution_count": 13,
     "metadata": {},
     "output_type": "execute_result"
    }
   ],
   "source": [
    "kspec = gjson.from_json(meta_in['kmer_spec'], KmerSpec)\n",
    "kspec"
   ]
  },
  {
   "cell_type": "markdown",
   "id": "bc13703c",
   "metadata": {},
   "source": [
    "## Find genome order\n",
    "\n",
    "Order by taxonomy instead of accession # this time. Assemble full list of genomes by traversing taxonomy tree, ordering children by NCBI ID."
   ]
  },
  {
   "cell_type": "code",
   "execution_count": 14,
   "id": "b1716981",
   "metadata": {},
   "outputs": [],
   "source": [
    "sort_key = lambda taxon: (1, taxon.ncbi_id) if taxon.ncbi_id is not None else (2, taxon.id)"
   ]
  },
  {
   "cell_type": "code",
   "execution_count": 15,
   "id": "16935a9a",
   "metadata": {},
   "outputs": [],
   "source": [
    "accs_ordered = []"
   ]
  },
  {
   "cell_type": "code",
   "execution_count": 16,
   "id": "5933fd75",
   "metadata": {},
   "outputs": [],
   "source": [
    "def add_genomes(taxon):\n",
    "    accs_ordered.extend([genome.refseq_acc for genome in taxon.genomes])\n",
    "    for child in sorted(taxon.children, key=sort_key):\n",
    "        add_genomes(child)"
   ]
  },
  {
   "cell_type": "code",
   "execution_count": 17,
   "id": "8a589caa",
   "metadata": {},
   "outputs": [
    {
     "name": "stderr",
     "output_type": "stream",
     "text": [
      "100%|██████████| 453/453 [00:15<00:00, 28.71it/s] \n"
     ]
    }
   ],
   "source": [
    "for taxon in tqdm(sorted(gset.root_taxa(), key=sort_key)):\n",
    "    add_genomes(taxon)"
   ]
  },
  {
   "cell_type": "code",
   "execution_count": 18,
   "id": "25de5172",
   "metadata": {},
   "outputs": [],
   "source": [
    "assert len(accs_ordered) == gset.genomes.count()"
   ]
  },
  {
   "cell_type": "markdown",
   "id": "7e6b59c6",
   "metadata": {},
   "source": [
    "## Read signatures in order"
   ]
  },
  {
   "cell_type": "code",
   "execution_count": 19,
   "id": "b1d86963",
   "metadata": {},
   "outputs": [],
   "source": [
    "indices = [acc_to_index[acc] for acc in accs_ordered]"
   ]
  },
  {
   "cell_type": "code",
   "execution_count": 20,
   "id": "74c8bfbe",
   "metadata": {},
   "outputs": [],
   "source": [
    "sigs = signatures_in.get_array(indices)"
   ]
  },
  {
   "cell_type": "code",
   "execution_count": 21,
   "id": "655a5832",
   "metadata": {},
   "outputs": [
    {
     "data": {
      "text/plain": [
       "dtype('uint32')"
      ]
     },
     "execution_count": 21,
     "metadata": {},
     "output_type": "execute_result"
    }
   ],
   "source": [
    "sigs.dtype"
   ]
  },
  {
   "cell_type": "markdown",
   "id": "7030e68e",
   "metadata": {},
   "source": [
    "## Create output file"
   ]
  },
  {
   "cell_type": "code",
   "execution_count": 22,
   "id": "401f5bcf",
   "metadata": {},
   "outputs": [],
   "source": [
    "meta = SignaturesMeta(\n",
    "    id='gambit/refseq-curated',\n",
    "    version='1.0b1',\n",
    "    name='GAMBIT curated RefSeq genomes version 1.0b1',\n",
    "    description='Signatures for curated genome database derived from NCBI RefSeq. Beta version.',\n",
    "    id_attr='refseq_acc',\n",
    "    extra=dict(\n",
    "        author='Jared Lumpe',\n",
    "        revision=dict(\n",
    "            num=1,\n",
    "            date=DATESTR_ISO,\n",
    "            description='Initial revision.'\n",
    "        ),\n",
    "    ),\n",
    ")"
   ]
  },
  {
   "cell_type": "code",
   "execution_count": 23,
   "id": "b22e00e4",
   "metadata": {},
   "outputs": [],
   "source": [
    "with h5.File(signatures_out_path, 'w') as f:\n",
    "    HDF5Signatures.create(f, kspec, sigs, accs_ordered, meta)"
   ]
  }
 ],
 "metadata": {
  "kernelspec": {
   "display_name": "GAMBIT",
   "language": "python",
   "name": "gambit"
  },
  "language_info": {
   "codemirror_mode": {
    "name": "ipython",
    "version": 3
   },
   "file_extension": ".py",
   "mimetype": "text/x-python",
   "name": "python",
   "nbconvert_exporter": "python",
   "pygments_lexer": "ipython3",
   "version": "3.9.5"
  }
 },
 "nbformat": 4,
 "nbformat_minor": 5
}
