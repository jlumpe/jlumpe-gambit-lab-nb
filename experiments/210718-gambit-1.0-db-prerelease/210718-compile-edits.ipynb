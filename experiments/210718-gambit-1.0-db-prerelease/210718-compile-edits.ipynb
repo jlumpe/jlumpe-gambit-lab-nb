{
 "cells": [
  {
   "cell_type": "markdown",
   "id": "eba83456",
   "metadata": {},
   "source": [
    "# 210718 Compile edits"
   ]
  },
  {
   "cell_type": "code",
   "execution_count": 1,
   "id": "e4626cd2",
   "metadata": {},
   "outputs": [],
   "source": [
    "using JSON\n",
    "using DataFrames\n",
    "using FilePathsBase\n",
    "using FilePathsBase: /\n",
    "using CSV"
   ]
  },
  {
   "cell_type": "markdown",
   "id": "5131c6a7",
   "metadata": {},
   "source": [
    "## Setup"
   ]
  },
  {
   "cell_type": "code",
   "execution_count": 2,
   "id": "714d2f46",
   "metadata": {},
   "outputs": [
    {
     "data": {
      "text/plain": [
       "100"
      ]
     },
     "execution_count": 2,
     "metadata": {},
     "output_type": "execute_result"
    }
   ],
   "source": [
    "ENV[\"COLUMNS\"] = 400\n",
    "ENV[\"LINES\"] = 100"
   ]
  },
  {
   "cell_type": "code",
   "execution_count": 3,
   "id": "bb57614b",
   "metadata": {},
   "outputs": [
    {
     "data": {
      "text/plain": [
       "\"210718-compile-edits\""
      ]
     },
     "execution_count": 3,
     "metadata": {},
     "output_type": "execute_result"
    }
   ],
   "source": [
    "DATESTR = \"210718\"\n",
    "NBNAME = \"$DATESTR-compile-edits\""
   ]
  },
  {
   "cell_type": "code",
   "execution_count": 4,
   "id": "fb5abb76",
   "metadata": {},
   "outputs": [],
   "source": [
    "infiles = Dict(\n",
    "    :db => p\"../../data/intermediate/210401-database-v2-fix-species-overlaps/210424-compile-fixes/\",\n",
    "    :_210710_removed_genomes => p\"../../data/processed/210428-database-v1.2-fix-remaining-overlaps/210710-remove-min-inter-outliers/210710-removed-genomes.csv\",\n",
    ");"
   ]
  },
  {
   "cell_type": "code",
   "execution_count": 5,
   "id": "3f7f192a",
   "metadata": {},
   "outputs": [
    {
     "data": {
      "text/plain": [
       "true"
      ]
     },
     "execution_count": 5,
     "metadata": {},
     "output_type": "execute_result"
    }
   ],
   "source": [
    "intermediate_out = p\"data-intermediate\" / NBNAME\n",
    "isdir(intermediate_out) || mkdir(intermediate_out)"
   ]
  },
  {
   "cell_type": "markdown",
   "id": "f4ea89d6",
   "metadata": {},
   "source": [
    "## Load data"
   ]
  },
  {
   "cell_type": "markdown",
   "id": "be2c77ff",
   "metadata": {},
   "source": [
    "### Taxonomy"
   ]
  },
  {
   "cell_type": "code",
   "execution_count": 6,
   "id": "0c975b79",
   "metadata": {},
   "outputs": [],
   "source": [
    "taxa = DataFrame(CSV.File(string(infiles[:db] / \"taxa.csv\")));"
   ]
  },
  {
   "cell_type": "code",
   "execution_count": 7,
   "id": "cb0449e8",
   "metadata": {},
   "outputs": [
    {
     "data": {
      "text/plain": [
       "50752"
      ]
     },
     "execution_count": 7,
     "metadata": {},
     "output_type": "execute_result"
    }
   ],
   "source": [
    "genome_assignments = Vector{Int}(open(JSON.parse, infiles[:db] / \"genome-taxon-assignments.json\"))\n",
    "ngenomes = length(genome_assignments)"
   ]
  },
  {
   "cell_type": "code",
   "execution_count": 8,
   "id": "fe43468d",
   "metadata": {},
   "outputs": [
    {
     "data": {
      "text/plain": [
       "lookup_tid (generic function with 2 methods)"
      ]
     },
     "execution_count": 8,
     "metadata": {},
     "output_type": "execute_result"
    }
   ],
   "source": [
    "tid_to_tidx = Dict(id => i for (i, id) in enumerate(taxa[!, :id]))\n",
    "\n",
    "taxon_index(tid::Integer) = tid_to_tidx[tid]\n",
    "taxon_index(tids::AbstractVector{<:Integer}) = taxon_index.(tids)\n",
    "\n",
    "lookup_tid(tid, cols=:) = taxa[taxon_index(tid), cols]"
   ]
  },
  {
   "cell_type": "markdown",
   "id": "5bb38c96",
   "metadata": {},
   "source": [
    "### 210710-remove-min-inter-outliers removed genomes"
   ]
  },
  {
   "cell_type": "code",
   "execution_count": 9,
   "id": "00e7d9ef",
   "metadata": {},
   "outputs": [],
   "source": [
    "removed_genomes_210710 = DataFrame(CSV.File(infiles[:_210710_removed_genomes]));"
   ]
  },
  {
   "cell_type": "markdown",
   "id": "8fa85c8e",
   "metadata": {},
   "source": [
    "## Init new taxonomy data"
   ]
  },
  {
   "cell_type": "code",
   "execution_count": 10,
   "id": "c0943218",
   "metadata": {},
   "outputs": [],
   "source": [
    "new_taxa = taxa[:, [:id, :ncbi_id, :name, :rank, :parent_id, :in_v12, :manual_threshold, :report]];"
   ]
  },
  {
   "cell_type": "code",
   "execution_count": 11,
   "id": "9058cafa",
   "metadata": {},
   "outputs": [],
   "source": [
    "genome_assignments_new = copy(genome_assignments);"
   ]
  },
  {
   "cell_type": "code",
   "execution_count": 12,
   "id": "65a5de95",
   "metadata": {},
   "outputs": [
    {
     "data": {
      "text/plain": [
       "new_taxid (generic function with 1 method)"
      ]
     },
     "execution_count": 12,
     "metadata": {},
     "output_type": "execute_result"
    }
   ],
   "source": [
    "# Next ID not in taxa_new\n",
    "new_taxid() = maximum(new_taxa[!, :id]) + 1"
   ]
  },
  {
   "cell_type": "code",
   "execution_count": 13,
   "id": "0efae42d",
   "metadata": {},
   "outputs": [],
   "source": [
    "TAXON_DEFAULTS = (ncbi_id=missing, rank=missing, parent_id=missing, in_v12=false, manual_threshold=NaN, report=true);"
   ]
  },
  {
   "cell_type": "code",
   "execution_count": 14,
   "id": "35205122",
   "metadata": {},
   "outputs": [
    {
     "data": {
      "text/plain": [
       "new_taxon"
      ]
     },
     "execution_count": 14,
     "metadata": {},
     "output_type": "execute_result"
    }
   ],
   "source": [
    "\"\"\"Add new row to new_taxa table.\"\"\"\n",
    "function new_taxon(; kw...)\n",
    "    id = new_taxid()\n",
    "    values = merge((id=id,), TAXON_DEFAULTS, NamedTuple(kw))\n",
    "    push!(new_taxa, values)\n",
    "    return values\n",
    "end"
   ]
  },
  {
   "cell_type": "code",
   "execution_count": 15,
   "id": "83fb1952",
   "metadata": {},
   "outputs": [
    {
     "data": {
      "text/plain": [
       "taxon_index_new (generic function with 2 methods)"
      ]
     },
     "execution_count": 15,
     "metadata": {},
     "output_type": "execute_result"
    }
   ],
   "source": [
    "taxon_index_new(tid::Integer) = only(findall(==(tid), new_taxa[!, :id]))\n",
    "taxon_index_new(tids::AbstractVector{<:Integer}) = taxon_index_new.(tids)"
   ]
  },
  {
   "cell_type": "code",
   "execution_count": 16,
   "id": "6b829463",
   "metadata": {},
   "outputs": [
    {
     "data": {
      "text/plain": [
       "Dict{Int64,Any}()"
      ]
     },
     "execution_count": 16,
     "metadata": {},
     "output_type": "execute_result"
    }
   ],
   "source": [
    "taxon_extra = Dict{Int, Any}()"
   ]
  },
  {
   "cell_type": "markdown",
   "id": "b21e22ad",
   "metadata": {},
   "source": [
    "## Assign taxon keys"
   ]
  },
  {
   "cell_type": "code",
   "execution_count": 17,
   "id": "fba7ce30",
   "metadata": {},
   "outputs": [
    {
     "data": {
      "text/plain": [
       "\"gambit/refseq-curated\""
      ]
     },
     "execution_count": 17,
     "metadata": {},
     "output_type": "execute_result"
    }
   ],
   "source": [
    "KEY_PREFIX = \"gambit/refseq-curated\""
   ]
  },
  {
   "cell_type": "markdown",
   "id": "0a60fa62",
   "metadata": {},
   "source": [
    "### NCBI taxa"
   ]
  },
  {
   "cell_type": "code",
   "execution_count": 18,
   "id": "8a56a11c",
   "metadata": {},
   "outputs": [],
   "source": [
    "new_taxa[!, :key] = [ismissing(ncbi_id) ? missing : \"ncbi/taxonomy/$ncbi_id\" for ncbi_id in new_taxa.ncbi_id];"
   ]
  },
  {
   "cell_type": "markdown",
   "id": "06ebe821",
   "metadata": {},
   "source": [
    "### Subgroup taxa"
   ]
  },
  {
   "cell_type": "code",
   "execution_count": 19,
   "id": "199a917f",
   "metadata": {},
   "outputs": [],
   "source": [
    "for row in eachrow(new_taxa)\n",
    "    if ismissing(row.ncbi_id) && !isnothing(match(r\".* subgroup \\d\", row.name))\n",
    "        row.key = string(KEY_PREFIX, \"/\", replace(row.name, \" \" => \"-\"))\n",
    "    end\n",
    "end"
   ]
  },
  {
   "cell_type": "markdown",
   "id": "752eff67",
   "metadata": {},
   "source": [
    "### Remaining"
   ]
  },
  {
   "cell_type": "code",
   "execution_count": 20,
   "id": "142aab79",
   "metadata": {},
   "outputs": [
    {
     "data": {
      "text/html": [
       "<div class=\"data-frame\"><p>1 rows × 9 columns</p><table class=\"data-frame\"><thead><tr><th></th><th>id</th><th>ncbi_id</th><th>name</th><th>rank</th><th>parent_id</th><th>in_v12</th><th>manual_threshold</th><th>report</th><th>key</th></tr><tr><th></th><th title=\"Int64\">Int64</th><th title=\"Union{Missing, Int64}\">Int64?</th><th title=\"String\">String</th><th title=\"Union{Missing, String}\">String?</th><th title=\"Union{Missing, Int64}\">Int64?</th><th title=\"Bool\">Bool</th><th title=\"Float64\">Float64</th><th title=\"Bool\">Bool</th><th title=\"Union{Missing, String}\">String?</th></tr></thead><tbody><tr><th>1</th><td>1948</td><td><em>missing</em></td><td>Lacticaseibacillus casei/paracasei</td><td><em>missing</em></td><td>281</td><td>0</td><td>NaN</td><td>1</td><td><em>missing</em></td></tr></tbody></table></div>"
      ],
      "text/latex": [
       "\\begin{tabular}{r|ccccccccc}\n",
       "\t& id & ncbi\\_id & name & rank & parent\\_id & in\\_v12 & manual\\_threshold & report & key\\\\\n",
       "\t\\hline\n",
       "\t& Int64 & Int64? & String & String? & Int64? & Bool & Float64 & Bool & String?\\\\\n",
       "\t\\hline\n",
       "\t1 & 1948 & \\emph{missing} & Lacticaseibacillus casei/paracasei & \\emph{missing} & 281 & 0 & NaN & 1 & \\emph{missing} \\\\\n",
       "\\end{tabular}\n"
      ],
      "text/plain": [
       "\u001b[1m1×9 DataFrame\u001b[0m\n",
       "\u001b[1m Row \u001b[0m│\u001b[1m id    \u001b[0m\u001b[1m ncbi_id \u001b[0m\u001b[1m name                              \u001b[0m\u001b[1m rank    \u001b[0m\u001b[1m parent_id \u001b[0m\u001b[1m in_v12 \u001b[0m\u001b[1m manual_threshold \u001b[0m\u001b[1m report \u001b[0m\u001b[1m key     \u001b[0m\n",
       "\u001b[1m     \u001b[0m│\u001b[90m Int64 \u001b[0m\u001b[90m Int64?  \u001b[0m\u001b[90m String                            \u001b[0m\u001b[90m String? \u001b[0m\u001b[90m Int64?    \u001b[0m\u001b[90m Bool   \u001b[0m\u001b[90m Float64          \u001b[0m\u001b[90m Bool   \u001b[0m\u001b[90m String? \u001b[0m\n",
       "─────┼──────────────────────────────────────────────────────────────────────────────────────────────────────────────────\n",
       "   1 │  1948 \u001b[90m missing \u001b[0m Lacticaseibacillus casei/paracas… \u001b[90m missing \u001b[0m       281   false               NaN    true \u001b[90m missing \u001b[0m"
      ]
     },
     "execution_count": 20,
     "metadata": {},
     "output_type": "execute_result"
    }
   ],
   "source": [
    "new_taxa[ismissing.(new_taxa.key), :]"
   ]
  },
  {
   "cell_type": "code",
   "execution_count": 21,
   "id": "95aed71d",
   "metadata": {},
   "outputs": [
    {
     "data": {
      "text/plain": [
       "\"gambit/refseq-curated/Lacticaseibacillus-casei_paracasei\""
      ]
     },
     "execution_count": 21,
     "metadata": {},
     "output_type": "execute_result"
    }
   ],
   "source": [
    "new_taxa[taxon_index_new(1948), :key] = \"$KEY_PREFIX/Lacticaseibacillus-casei_paracasei\""
   ]
  },
  {
   "cell_type": "markdown",
   "id": "7a078c52",
   "metadata": {},
   "source": [
    "## Integrate 210710-remove-min-inter-outliers"
   ]
  },
  {
   "cell_type": "code",
   "execution_count": 22,
   "id": "3a2073f2",
   "metadata": {},
   "outputs": [],
   "source": [
    "for row in eachrow(removed_genomes_210710)\n",
    "    @assert genome_assignments[row.genome_index] == row.taxon_id\n",
    "    genome_assignments_new[row.genome_index] = 0\n",
    "end"
   ]
  },
  {
   "cell_type": "markdown",
   "id": "36dc3daa",
   "metadata": {},
   "source": [
    "## Escherichia / Shigella\n",
    "\n",
    "\n",
    "\n",
    "* Escherishia / Shigella (genus)\n",
    "    * E. coli / Shigella (species)\n",
    "        * E. coli subgroups...\n",
    "        * Shigella (No rank)\n",
    "            * Shigella species...\n",
    "    * Other Escherishia species..."
   ]
  },
  {
   "cell_type": "markdown",
   "id": "5d69f39d",
   "metadata": {},
   "source": [
    "### Remove old Escherichia and E. coli taxa"
   ]
  },
  {
   "cell_type": "code",
   "execution_count": 23,
   "id": "8f4a46eb",
   "metadata": {},
   "outputs": [],
   "source": [
    "escherichia_old = only(filter(row -> row.name == \"Escherichia\", eachrow(taxa)))\n",
    "\n",
    "delete!(new_taxa, new_taxa[!, :id] .== escherichia_old.id);"
   ]
  },
  {
   "cell_type": "code",
   "execution_count": 24,
   "id": "0a69e074",
   "metadata": {},
   "outputs": [],
   "source": [
    "# Remove old E. coli\n",
    "ecoli_old = only(filter(row -> row.name == \"Escherichia coli\", eachrow(taxa)))\n",
    "\n",
    "delete!(new_taxa, new_taxa[!, :id] .== ecoli_old.id);"
   ]
  },
  {
   "cell_type": "code",
   "execution_count": 25,
   "id": "4822eb93",
   "metadata": {},
   "outputs": [],
   "source": [
    "# Assert no genomes to reassign\n",
    "@assert !any(==(escherichia_old), genome_assignments_new)\n",
    "@assert !any(==(ecoli_old), genome_assignments_new)"
   ]
  },
  {
   "cell_type": "markdown",
   "id": "da71a018",
   "metadata": {},
   "source": [
    "### Create new taxa"
   ]
  },
  {
   "cell_type": "code",
   "execution_count": 26,
   "id": "52487bae",
   "metadata": {},
   "outputs": [
    {
     "data": {
      "text/plain": [
       "(id = 1949, ncbi_id = missing, rank = \"genus\", parent_id = missing, in_v12 = false, manual_threshold = NaN, report = true, key = \"gambit/refseq-curated/Escherichia_Shigella\", name = \"Escherichia/Shigella\")"
      ]
     },
     "execution_count": 26,
     "metadata": {},
     "output_type": "execute_result"
    }
   ],
   "source": [
    "# New Escherichia/Shigella genus\n",
    "escherichia_shigella = new_taxon(key=\"$KEY_PREFIX/Escherichia_Shigella\", name=\"Escherichia/Shigella\", rank=\"genus\")"
   ]
  },
  {
   "cell_type": "code",
   "execution_count": 27,
   "id": "f7750173",
   "metadata": {},
   "outputs": [
    {
     "data": {
      "text/plain": [
       "(id = 1950, ncbi_id = missing, rank = \"species\", parent_id = 1949, in_v12 = false, manual_threshold = NaN, report = true, key = \"gambit/refseq-curated/Escherichia_coli_Shigella\", name = \"Escherichia coli/Shigella\")"
      ]
     },
     "execution_count": 27,
     "metadata": {},
     "output_type": "execute_result"
    }
   ],
   "source": [
    "# New E. coli/Shigella species\n",
    "ecoli_shigella = new_taxon(key=\"$KEY_PREFIX/Escherichia_coli_Shigella\", name=\"Escherichia coli/Shigella\", rank=\"species\", parent_id=escherichia_shigella.id)"
   ]
  },
  {
   "cell_type": "markdown",
   "id": "41d499bc",
   "metadata": {},
   "source": [
    "### Reassign taxon parents"
   ]
  },
  {
   "cell_type": "code",
   "execution_count": 28,
   "id": "1f2f8f10",
   "metadata": {},
   "outputs": [
    {
     "name": "stdout",
     "output_type": "stream",
     "text": [
      "628 Escherichia fergusonii\n",
      "1440 Escherichia albertii\n"
     ]
    }
   ],
   "source": [
    "# Reassign children of Escherichia -> new Escherichia/Shigella\n",
    "for row in filter(row -> isequal(row.parent_id, escherichia_old.id), eachrow(new_taxa))\n",
    "    println(\"$(row.id) $(row.name)\")\n",
    "    row.parent_id = escherichia_shigella.id\n",
    "end"
   ]
  },
  {
   "cell_type": "code",
   "execution_count": 29,
   "id": "15b78731",
   "metadata": {},
   "outputs": [
    {
     "name": "stdout",
     "output_type": "stream",
     "text": [
      "1931 Escherichia coli subgroup 1\n",
      "1932 Escherichia coli subgroup 2\n",
      "1933 Escherichia coli subgroup 3\n"
     ]
    }
   ],
   "source": [
    "# Reassign children of E. coli -> new E. coli/Shigella\n",
    "for row in filter(row -> isequal(row.parent_id, ecoli_old.id), eachrow(new_taxa))\n",
    "    println(\"$(row.id) $(row.name)\")\n",
    "    row.parent_id = ecoli_shigella.id\n",
    "end"
   ]
  },
  {
   "cell_type": "markdown",
   "id": "8bd7b6b0",
   "metadata": {},
   "source": [
    "### Update Shigella"
   ]
  },
  {
   "cell_type": "code",
   "execution_count": 30,
   "id": "935bad33",
   "metadata": {},
   "outputs": [
    {
     "data": {
      "text/html": [
       "<p>DataFrameRow (9 columns)</p><div class=\"data-frame\"><table class=\"data-frame\"><thead><tr><th></th><th>id</th><th>ncbi_id</th><th>name</th><th>rank</th><th>parent_id</th><th>in_v12</th><th>manual_threshold</th><th>report</th><th>key</th></tr><tr><th></th><th title=\"Int64\">Int64</th><th title=\"Union{Missing, Int64}\">Int64?</th><th title=\"String\">String</th><th title=\"Union{Missing, String}\">String?</th><th title=\"Union{Missing, Int64}\">Int64?</th><th title=\"Bool\">Bool</th><th title=\"Float64\">Float64</th><th title=\"Bool\">Bool</th><th title=\"Union{Missing, String}\">String?</th></tr></thead><tbody><tr><th>154</th><td>161</td><td>620</td><td>Shigella</td><td>genus</td><td><em>missing</em></td><td>1</td><td>NaN</td><td>1</td><td>ncbi/taxonomy/620</td></tr></tbody></table></div>"
      ],
      "text/latex": [
       "\\begin{tabular}{r|ccccccccc}\n",
       "\t& id & ncbi\\_id & name & rank & parent\\_id & in\\_v12 & manual\\_threshold & report & key\\\\\n",
       "\t\\hline\n",
       "\t& Int64 & Int64? & String & String? & Int64? & Bool & Float64 & Bool & String?\\\\\n",
       "\t\\hline\n",
       "\t154 & 161 & 620 & Shigella & genus & \\emph{missing} & 1 & NaN & 1 & ncbi/taxonomy/620 \\\\\n",
       "\\end{tabular}\n"
      ],
      "text/plain": [
       "\u001b[1mDataFrameRow\u001b[0m\n",
       "\u001b[1m Row \u001b[0m│\u001b[1m id    \u001b[0m\u001b[1m ncbi_id \u001b[0m\u001b[1m name     \u001b[0m\u001b[1m rank    \u001b[0m\u001b[1m parent_id \u001b[0m\u001b[1m in_v12 \u001b[0m\u001b[1m manual_threshold \u001b[0m\u001b[1m report \u001b[0m\u001b[1m key               \u001b[0m\n",
       "\u001b[1m     \u001b[0m│\u001b[90m Int64 \u001b[0m\u001b[90m Int64?  \u001b[0m\u001b[90m String   \u001b[0m\u001b[90m String? \u001b[0m\u001b[90m Int64?    \u001b[0m\u001b[90m Bool   \u001b[0m\u001b[90m Float64          \u001b[0m\u001b[90m Bool   \u001b[0m\u001b[90m String?           \u001b[0m\n",
       "─────┼───────────────────────────────────────────────────────────────────────────────────────────────────\n",
       " 154 │   161      620  Shigella  genus   \u001b[90m   missing \u001b[0m   true               NaN    true  ncbi/taxonomy/620"
      ]
     },
     "execution_count": 30,
     "metadata": {},
     "output_type": "execute_result"
    }
   ],
   "source": [
    "shigella = only(filter(row -> row.name == \"Shigella\", eachrow(new_taxa)))"
   ]
  },
  {
   "cell_type": "code",
   "execution_count": 31,
   "id": "d61ded51",
   "metadata": {},
   "outputs": [],
   "source": [
    "shigella.parent_id = ecoli_shigella.id\n",
    "shigella.rank = missing\n",
    "shigella.manual_threshold = 0\n",
    ";"
   ]
  },
  {
   "cell_type": "markdown",
   "id": "2a808087",
   "metadata": {},
   "source": [
    "## Additional taxon data"
   ]
  },
  {
   "cell_type": "code",
   "execution_count": 32,
   "id": "9b2ca536",
   "metadata": {},
   "outputs": [],
   "source": [
    "@assert !any(ismissing, new_taxa.key)"
   ]
  },
  {
   "cell_type": "code",
   "execution_count": 33,
   "id": "2308717c",
   "metadata": {},
   "outputs": [],
   "source": [
    "let\n",
    "    parent_id_values = unique(skipmissing(new_taxa.parent_id))\n",
    "    new_taxa[!, :is_leaf] = map(!∈(parent_id_values), new_taxa.id)\n",
    "end;"
   ]
  },
  {
   "cell_type": "code",
   "execution_count": 34,
   "id": "73b2c637",
   "metadata": {},
   "outputs": [],
   "source": [
    "new_taxa[!, :plot_label] = string.(new_taxa.id, \" \", new_taxa.name);"
   ]
  },
  {
   "cell_type": "markdown",
   "id": "a6a5c8f7",
   "metadata": {},
   "source": [
    "## Review custom taxa"
   ]
  },
  {
   "cell_type": "code",
   "execution_count": 35,
   "id": "60af149a",
   "metadata": {},
   "outputs": [
    {
     "data": {
      "text/html": [
       "<div class=\"data-frame\"><p>50 rows × 11 columns</p><table class=\"data-frame\"><thead><tr><th></th><th>id</th><th>ncbi_id</th><th>name</th><th>rank</th><th>parent_id</th><th>in_v12</th><th>manual_threshold</th><th>report</th><th>key</th><th>is_leaf</th><th>plot_label</th></tr><tr><th></th><th title=\"Int64\">Int64</th><th title=\"Union{Missing, Int64}\">Int64?</th><th title=\"String\">String</th><th title=\"Union{Missing, String}\">String?</th><th title=\"Union{Missing, Int64}\">Int64?</th><th title=\"Bool\">Bool</th><th title=\"Float64\">Float64</th><th title=\"Bool\">Bool</th><th title=\"Union{Missing, String}\">String?</th><th title=\"Bool\">Bool</th><th title=\"String\">String</th></tr></thead><tbody><tr><th>1</th><td>1901</td><td><em>missing</em></td><td>Prochlorococcus marinus subgroup 1</td><td><em>missing</em></td><td>803</td><td>0</td><td>NaN</td><td>0</td><td>gambit/refseq-curated/Prochlorococcus-marinus-subgroup-1</td><td>1</td><td>1901 Prochlorococcus marinus subgroup 1</td></tr><tr><th>2</th><td>1902</td><td><em>missing</em></td><td>Prochlorococcus marinus subgroup 2</td><td><em>missing</em></td><td>803</td><td>0</td><td>NaN</td><td>0</td><td>gambit/refseq-curated/Prochlorococcus-marinus-subgroup-2</td><td>1</td><td>1902 Prochlorococcus marinus subgroup 2</td></tr><tr><th>3</th><td>1903</td><td><em>missing</em></td><td>Prochlorococcus marinus subgroup 3</td><td><em>missing</em></td><td>803</td><td>0</td><td>NaN</td><td>0</td><td>gambit/refseq-curated/Prochlorococcus-marinus-subgroup-3</td><td>1</td><td>1903 Prochlorococcus marinus subgroup 3</td></tr><tr><th>4</th><td>1904</td><td><em>missing</em></td><td>Prochlorococcus marinus subgroup 4</td><td><em>missing</em></td><td>803</td><td>0</td><td>NaN</td><td>0</td><td>gambit/refseq-curated/Prochlorococcus-marinus-subgroup-4</td><td>1</td><td>1904 Prochlorococcus marinus subgroup 4</td></tr><tr><th>5</th><td>1905</td><td><em>missing</em></td><td>Clostridium botulinum subgroup 1</td><td><em>missing</em></td><td>929</td><td>0</td><td>NaN</td><td>0</td><td>gambit/refseq-curated/Clostridium-botulinum-subgroup-1</td><td>1</td><td>1905 Clostridium botulinum subgroup 1</td></tr><tr><th>6</th><td>1906</td><td><em>missing</em></td><td>Clostridium botulinum subgroup 2</td><td><em>missing</em></td><td>929</td><td>0</td><td>NaN</td><td>0</td><td>gambit/refseq-curated/Clostridium-botulinum-subgroup-2</td><td>1</td><td>1906 Clostridium botulinum subgroup 2</td></tr><tr><th>7</th><td>1907</td><td><em>missing</em></td><td>Clostridium botulinum subgroup 3</td><td><em>missing</em></td><td>929</td><td>0</td><td>NaN</td><td>0</td><td>gambit/refseq-curated/Clostridium-botulinum-subgroup-3</td><td>1</td><td>1907 Clostridium botulinum subgroup 3</td></tr><tr><th>8</th><td>1908</td><td><em>missing</em></td><td>Bacillus cereus subgroup 1</td><td><em>missing</em></td><td>899</td><td>0</td><td>0.6</td><td>0</td><td>gambit/refseq-curated/Bacillus-cereus-subgroup-1</td><td>1</td><td>1908 Bacillus cereus subgroup 1</td></tr><tr><th>9</th><td>1909</td><td><em>missing</em></td><td>Bacillus cereus subgroup 2</td><td><em>missing</em></td><td>899</td><td>0</td><td>0.55</td><td>0</td><td>gambit/refseq-curated/Bacillus-cereus-subgroup-2</td><td>1</td><td>1909 Bacillus cereus subgroup 2</td></tr><tr><th>10</th><td>1910</td><td><em>missing</em></td><td>Bacillus cereus subgroup 3</td><td><em>missing</em></td><td>899</td><td>0</td><td>NaN</td><td>0</td><td>gambit/refseq-curated/Bacillus-cereus-subgroup-3</td><td>1</td><td>1910 Bacillus cereus subgroup 3</td></tr><tr><th>11</th><td>1911</td><td><em>missing</em></td><td>Bacillus cereus subgroup 4</td><td><em>missing</em></td><td>899</td><td>0</td><td>NaN</td><td>0</td><td>gambit/refseq-curated/Bacillus-cereus-subgroup-4</td><td>1</td><td>1911 Bacillus cereus subgroup 4</td></tr><tr><th>12</th><td>1912</td><td><em>missing</em></td><td>Bacillus amyloliquefaciens subgroup 1</td><td><em>missing</em></td><td>895</td><td>0</td><td>NaN</td><td>0</td><td>gambit/refseq-curated/Bacillus-amyloliquefaciens-subgroup-1</td><td>1</td><td>1912 Bacillus amyloliquefaciens subgroup 1</td></tr><tr><th>13</th><td>1913</td><td><em>missing</em></td><td>Bacillus amyloliquefaciens subgroup 2</td><td><em>missing</em></td><td>895</td><td>0</td><td>NaN</td><td>0</td><td>gambit/refseq-curated/Bacillus-amyloliquefaciens-subgroup-2</td><td>1</td><td>1913 Bacillus amyloliquefaciens subgroup 2</td></tr><tr><th>14</th><td>1914</td><td><em>missing</em></td><td>Enterobacter hormaechei subgroup 1</td><td><em>missing</em></td><td>1280</td><td>0</td><td>NaN</td><td>0</td><td>gambit/refseq-curated/Enterobacter-hormaechei-subgroup-1</td><td>1</td><td>1914 Enterobacter hormaechei subgroup 1</td></tr><tr><th>15</th><td>1915</td><td><em>missing</em></td><td>Enterobacter hormaechei subgroup 2</td><td><em>missing</em></td><td>1280</td><td>0</td><td>0.25</td><td>0</td><td>gambit/refseq-curated/Enterobacter-hormaechei-subgroup-2</td><td>1</td><td>1915 Enterobacter hormaechei subgroup 2</td></tr><tr><th>16</th><td>1916</td><td><em>missing</em></td><td>Brucella suis subgroup 1</td><td><em>missing</em></td><td>1542</td><td>0</td><td>NaN</td><td>0</td><td>gambit/refseq-curated/Brucella-suis-subgroup-1</td><td>1</td><td>1916 Brucella suis subgroup 1</td></tr><tr><th>17</th><td>1917</td><td><em>missing</em></td><td>Brucella suis subgroup 2</td><td><em>missing</em></td><td>1542</td><td>0</td><td>NaN</td><td>0</td><td>gambit/refseq-curated/Brucella-suis-subgroup-2</td><td>1</td><td>1917 Brucella suis subgroup 2</td></tr><tr><th>18</th><td>1918</td><td><em>missing</em></td><td>Enterobacter cloacae subgroup 1</td><td><em>missing</em></td><td>620</td><td>0</td><td>NaN</td><td>0</td><td>gambit/refseq-curated/Enterobacter-cloacae-subgroup-1</td><td>1</td><td>1918 Enterobacter cloacae subgroup 1</td></tr><tr><th>19</th><td>1919</td><td><em>missing</em></td><td>Enterobacter cloacae subgroup 2</td><td><em>missing</em></td><td>620</td><td>0</td><td>NaN</td><td>0</td><td>gambit/refseq-curated/Enterobacter-cloacae-subgroup-2</td><td>1</td><td>1919 Enterobacter cloacae subgroup 2</td></tr><tr><th>20</th><td>1920</td><td><em>missing</em></td><td>Enterobacter cloacae subgroup 3</td><td><em>missing</em></td><td>620</td><td>0</td><td>NaN</td><td>0</td><td>gambit/refseq-curated/Enterobacter-cloacae-subgroup-3</td><td>1</td><td>1920 Enterobacter cloacae subgroup 3</td></tr><tr><th>21</th><td>1921</td><td><em>missing</em></td><td>Enterobacter cloacae subgroup 4</td><td><em>missing</em></td><td>620</td><td>0</td><td>NaN</td><td>0</td><td>gambit/refseq-curated/Enterobacter-cloacae-subgroup-4</td><td>1</td><td>1921 Enterobacter cloacae subgroup 4</td></tr><tr><th>22</th><td>1922</td><td><em>missing</em></td><td>Shigella boydii subgroup 1</td><td><em>missing</em></td><td>644</td><td>0</td><td>NaN</td><td>0</td><td>gambit/refseq-curated/Shigella-boydii-subgroup-1</td><td>1</td><td>1922 Shigella boydii subgroup 1</td></tr><tr><th>23</th><td>1923</td><td><em>missing</em></td><td>Shigella boydii subgroup 2</td><td><em>missing</em></td><td>644</td><td>0</td><td>NaN</td><td>0</td><td>gambit/refseq-curated/Shigella-boydii-subgroup-2</td><td>1</td><td>1923 Shigella boydii subgroup 2</td></tr><tr><th>24</th><td>1924</td><td><em>missing</em></td><td>Shigella dysenteriae subgroup 1</td><td><em>missing</em></td><td>645</td><td>0</td><td>NaN</td><td>0</td><td>gambit/refseq-curated/Shigella-dysenteriae-subgroup-1</td><td>1</td><td>1924 Shigella dysenteriae subgroup 1</td></tr><tr><th>25</th><td>1925</td><td><em>missing</em></td><td>Shigella dysenteriae subgroup 2</td><td><em>missing</em></td><td>645</td><td>0</td><td>NaN</td><td>0</td><td>gambit/refseq-curated/Shigella-dysenteriae-subgroup-2</td><td>1</td><td>1925 Shigella dysenteriae subgroup 2</td></tr><tr><th>26</th><td>1926</td><td><em>missing</em></td><td>Pseudomonas putida subgroup 1</td><td><em>missing</em></td><td>555</td><td>0</td><td>NaN</td><td>0</td><td>gambit/refseq-curated/Pseudomonas-putida-subgroup-1</td><td>1</td><td>1926 Pseudomonas putida subgroup 1</td></tr><tr><th>27</th><td>1927</td><td><em>missing</em></td><td>Pseudomonas putida subgroup 2</td><td><em>missing</em></td><td>555</td><td>0</td><td>NaN</td><td>0</td><td>gambit/refseq-curated/Pseudomonas-putida-subgroup-2</td><td>1</td><td>1927 Pseudomonas putida subgroup 2</td></tr><tr><th>28</th><td>1928</td><td><em>missing</em></td><td>Pseudomonas putida subgroup 3</td><td><em>missing</em></td><td>555</td><td>0</td><td>NaN</td><td>0</td><td>gambit/refseq-curated/Pseudomonas-putida-subgroup-3</td><td>1</td><td>1928 Pseudomonas putida subgroup 3</td></tr><tr><th>29</th><td>1929</td><td><em>missing</em></td><td>Pseudomonas savastanoi subgroup 1</td><td><em>missing</em></td><td>1530</td><td>0</td><td>NaN</td><td>0</td><td>gambit/refseq-curated/Pseudomonas-savastanoi-subgroup-1</td><td>1</td><td>1929 Pseudomonas savastanoi subgroup 1</td></tr><tr><th>30</th><td>1930</td><td><em>missing</em></td><td>Pseudomonas savastanoi subgroup 2</td><td><em>missing</em></td><td>1530</td><td>0</td><td>NaN</td><td>0</td><td>gambit/refseq-curated/Pseudomonas-savastanoi-subgroup-2</td><td>1</td><td>1930 Pseudomonas savastanoi subgroup 2</td></tr><tr><th>31</th><td>1931</td><td><em>missing</em></td><td>Escherichia coli subgroup 1</td><td><em>missing</em></td><td>1950</td><td>0</td><td>0.4</td><td>0</td><td>gambit/refseq-curated/Escherichia-coli-subgroup-1</td><td>1</td><td>1931 Escherichia coli subgroup 1</td></tr><tr><th>32</th><td>1932</td><td><em>missing</em></td><td>Escherichia coli subgroup 2</td><td><em>missing</em></td><td>1950</td><td>0</td><td>0.35</td><td>0</td><td>gambit/refseq-curated/Escherichia-coli-subgroup-2</td><td>1</td><td>1932 Escherichia coli subgroup 2</td></tr><tr><th>33</th><td>1933</td><td><em>missing</em></td><td>Escherichia coli subgroup 3</td><td><em>missing</em></td><td>1950</td><td>0</td><td>0.35</td><td>0</td><td>gambit/refseq-curated/Escherichia-coli-subgroup-3</td><td>1</td><td>1933 Escherichia coli subgroup 3</td></tr><tr><th>34</th><td>1934</td><td><em>missing</em></td><td>Bacillus pumilus subgroup 1</td><td><em>missing</em></td><td>908</td><td>0</td><td>NaN</td><td>0</td><td>gambit/refseq-curated/Bacillus-pumilus-subgroup-1</td><td>1</td><td>1934 Bacillus pumilus subgroup 1</td></tr><tr><th>35</th><td>1935</td><td><em>missing</em></td><td>Bacillus pumilus subgroup 2</td><td><em>missing</em></td><td>908</td><td>0</td><td>NaN</td><td>0</td><td>gambit/refseq-curated/Bacillus-pumilus-subgroup-2</td><td>1</td><td>1935 Bacillus pumilus subgroup 2</td></tr><tr><th>36</th><td>1936</td><td><em>missing</em></td><td>Pseudomonas amygdali subgroup 1</td><td><em>missing</em></td><td>1762</td><td>0</td><td>NaN</td><td>0</td><td>gambit/refseq-curated/Pseudomonas-amygdali-subgroup-1</td><td>1</td><td>1936 Pseudomonas amygdali subgroup 1</td></tr><tr><th>37</th><td>1937</td><td><em>missing</em></td><td>Pseudomonas amygdali subgroup 2</td><td><em>missing</em></td><td>1762</td><td>0</td><td>0.25</td><td>0</td><td>gambit/refseq-curated/Pseudomonas-amygdali-subgroup-2</td><td>1</td><td>1937 Pseudomonas amygdali subgroup 2</td></tr><tr><th>38</th><td>1938</td><td><em>missing</em></td><td>Pseudomonas amygdali subgroup 3</td><td><em>missing</em></td><td>1762</td><td>0</td><td>NaN</td><td>0</td><td>gambit/refseq-curated/Pseudomonas-amygdali-subgroup-3</td><td>1</td><td>1938 Pseudomonas amygdali subgroup 3</td></tr><tr><th>39</th><td>1939</td><td><em>missing</em></td><td>Streptococcus pseudopneumoniae subgroup 1</td><td><em>missing</em></td><td>1391</td><td>0</td><td>NaN</td><td>0</td><td>gambit/refseq-curated/Streptococcus-pseudopneumoniae-subgroup-1</td><td>1</td><td>1939 Streptococcus pseudopneumoniae subgroup 1</td></tr><tr><th>40</th><td>1940</td><td><em>missing</em></td><td>Streptococcus pseudopneumoniae subgroup 2</td><td><em>missing</em></td><td>1391</td><td>0</td><td>0.5</td><td>0</td><td>gambit/refseq-curated/Streptococcus-pseudopneumoniae-subgroup-2</td><td>1</td><td>1940 Streptococcus pseudopneumoniae subgroup 2</td></tr><tr><th>41</th><td>1941</td><td><em>missing</em></td><td>Pseudomonas syringae subgroup 1</td><td><em>missing</em></td><td>557</td><td>0</td><td>NaN</td><td>0</td><td>gambit/refseq-curated/Pseudomonas-syringae-subgroup-1</td><td>1</td><td>1941 Pseudomonas syringae subgroup 1</td></tr><tr><th>42</th><td>1942</td><td><em>missing</em></td><td>Pseudomonas syringae subgroup 2</td><td><em>missing</em></td><td>557</td><td>0</td><td>NaN</td><td>0</td><td>gambit/refseq-curated/Pseudomonas-syringae-subgroup-2</td><td>1</td><td>1942 Pseudomonas syringae subgroup 2</td></tr><tr><th>43</th><td>1943</td><td><em>missing</em></td><td>Pseudomonas syringae subgroup 3</td><td><em>missing</em></td><td>557</td><td>0</td><td>NaN</td><td>0</td><td>gambit/refseq-curated/Pseudomonas-syringae-subgroup-3</td><td>1</td><td>1943 Pseudomonas syringae subgroup 3</td></tr><tr><th>44</th><td>1944</td><td><em>missing</em></td><td>Pseudomonas syringae subgroup 4</td><td><em>missing</em></td><td>557</td><td>0</td><td>0.25</td><td>0</td><td>gambit/refseq-curated/Pseudomonas-syringae-subgroup-4</td><td>1</td><td>1944 Pseudomonas syringae subgroup 4</td></tr><tr><th>45</th><td>1945</td><td><em>missing</em></td><td>Salinispora pacifica subgroup 1</td><td><em>missing</em></td><td>1792</td><td>0</td><td>NaN</td><td>0</td><td>gambit/refseq-curated/Salinispora-pacifica-subgroup-1</td><td>1</td><td>1945 Salinispora pacifica subgroup 1</td></tr><tr><th>46</th><td>1946</td><td><em>missing</em></td><td>Salinispora pacifica subgroup 2</td><td><em>missing</em></td><td>1792</td><td>0</td><td>NaN</td><td>0</td><td>gambit/refseq-curated/Salinispora-pacifica-subgroup-2</td><td>1</td><td>1946 Salinispora pacifica subgroup 2</td></tr><tr><th>47</th><td>1947</td><td><em>missing</em></td><td>Salinispora pacifica subgroup 3</td><td><em>missing</em></td><td>1792</td><td>0</td><td>NaN</td><td>0</td><td>gambit/refseq-curated/Salinispora-pacifica-subgroup-3</td><td>1</td><td>1947 Salinispora pacifica subgroup 3</td></tr><tr><th>48</th><td>1948</td><td><em>missing</em></td><td>Lacticaseibacillus casei/paracasei</td><td><em>missing</em></td><td>281</td><td>0</td><td>NaN</td><td>1</td><td>gambit/refseq-curated/Lacticaseibacillus-casei_paracasei</td><td>0</td><td>1948 Lacticaseibacillus casei/paracasei</td></tr><tr><th>49</th><td>1949</td><td><em>missing</em></td><td>Escherichia/Shigella</td><td>genus</td><td><em>missing</em></td><td>0</td><td>NaN</td><td>1</td><td>gambit/refseq-curated/Escherichia_Shigella</td><td>0</td><td>1949 Escherichia/Shigella</td></tr><tr><th>50</th><td>1950</td><td><em>missing</em></td><td>Escherichia coli/Shigella</td><td>species</td><td>1949</td><td>0</td><td>NaN</td><td>1</td><td>gambit/refseq-curated/Escherichia_coli_Shigella</td><td>0</td><td>1950 Escherichia coli/Shigella</td></tr></tbody></table></div>"
      ],
      "text/latex": [
       "\\begin{tabular}{r|ccccccccccc}\n",
       "\t& id & ncbi\\_id & name & rank & parent\\_id & in\\_v12 & manual\\_threshold & report & key & is\\_leaf & plot\\_label\\\\\n",
       "\t\\hline\n",
       "\t& Int64 & Int64? & String & String? & Int64? & Bool & Float64 & Bool & String? & Bool & String\\\\\n",
       "\t\\hline\n",
       "\t1 & 1901 & \\emph{missing} & Prochlorococcus marinus subgroup 1 & \\emph{missing} & 803 & 0 & NaN & 0 & gambit/refseq-curated/Prochlorococcus-marinus-subgroup-1 & 1 & 1901 Prochlorococcus marinus subgroup 1 \\\\\n",
       "\t2 & 1902 & \\emph{missing} & Prochlorococcus marinus subgroup 2 & \\emph{missing} & 803 & 0 & NaN & 0 & gambit/refseq-curated/Prochlorococcus-marinus-subgroup-2 & 1 & 1902 Prochlorococcus marinus subgroup 2 \\\\\n",
       "\t3 & 1903 & \\emph{missing} & Prochlorococcus marinus subgroup 3 & \\emph{missing} & 803 & 0 & NaN & 0 & gambit/refseq-curated/Prochlorococcus-marinus-subgroup-3 & 1 & 1903 Prochlorococcus marinus subgroup 3 \\\\\n",
       "\t4 & 1904 & \\emph{missing} & Prochlorococcus marinus subgroup 4 & \\emph{missing} & 803 & 0 & NaN & 0 & gambit/refseq-curated/Prochlorococcus-marinus-subgroup-4 & 1 & 1904 Prochlorococcus marinus subgroup 4 \\\\\n",
       "\t5 & 1905 & \\emph{missing} & Clostridium botulinum subgroup 1 & \\emph{missing} & 929 & 0 & NaN & 0 & gambit/refseq-curated/Clostridium-botulinum-subgroup-1 & 1 & 1905 Clostridium botulinum subgroup 1 \\\\\n",
       "\t6 & 1906 & \\emph{missing} & Clostridium botulinum subgroup 2 & \\emph{missing} & 929 & 0 & NaN & 0 & gambit/refseq-curated/Clostridium-botulinum-subgroup-2 & 1 & 1906 Clostridium botulinum subgroup 2 \\\\\n",
       "\t7 & 1907 & \\emph{missing} & Clostridium botulinum subgroup 3 & \\emph{missing} & 929 & 0 & NaN & 0 & gambit/refseq-curated/Clostridium-botulinum-subgroup-3 & 1 & 1907 Clostridium botulinum subgroup 3 \\\\\n",
       "\t8 & 1908 & \\emph{missing} & Bacillus cereus subgroup 1 & \\emph{missing} & 899 & 0 & 0.6 & 0 & gambit/refseq-curated/Bacillus-cereus-subgroup-1 & 1 & 1908 Bacillus cereus subgroup 1 \\\\\n",
       "\t9 & 1909 & \\emph{missing} & Bacillus cereus subgroup 2 & \\emph{missing} & 899 & 0 & 0.55 & 0 & gambit/refseq-curated/Bacillus-cereus-subgroup-2 & 1 & 1909 Bacillus cereus subgroup 2 \\\\\n",
       "\t10 & 1910 & \\emph{missing} & Bacillus cereus subgroup 3 & \\emph{missing} & 899 & 0 & NaN & 0 & gambit/refseq-curated/Bacillus-cereus-subgroup-3 & 1 & 1910 Bacillus cereus subgroup 3 \\\\\n",
       "\t11 & 1911 & \\emph{missing} & Bacillus cereus subgroup 4 & \\emph{missing} & 899 & 0 & NaN & 0 & gambit/refseq-curated/Bacillus-cereus-subgroup-4 & 1 & 1911 Bacillus cereus subgroup 4 \\\\\n",
       "\t12 & 1912 & \\emph{missing} & Bacillus amyloliquefaciens subgroup 1 & \\emph{missing} & 895 & 0 & NaN & 0 & gambit/refseq-curated/Bacillus-amyloliquefaciens-subgroup-1 & 1 & 1912 Bacillus amyloliquefaciens subgroup 1 \\\\\n",
       "\t13 & 1913 & \\emph{missing} & Bacillus amyloliquefaciens subgroup 2 & \\emph{missing} & 895 & 0 & NaN & 0 & gambit/refseq-curated/Bacillus-amyloliquefaciens-subgroup-2 & 1 & 1913 Bacillus amyloliquefaciens subgroup 2 \\\\\n",
       "\t14 & 1914 & \\emph{missing} & Enterobacter hormaechei subgroup 1 & \\emph{missing} & 1280 & 0 & NaN & 0 & gambit/refseq-curated/Enterobacter-hormaechei-subgroup-1 & 1 & 1914 Enterobacter hormaechei subgroup 1 \\\\\n",
       "\t15 & 1915 & \\emph{missing} & Enterobacter hormaechei subgroup 2 & \\emph{missing} & 1280 & 0 & 0.25 & 0 & gambit/refseq-curated/Enterobacter-hormaechei-subgroup-2 & 1 & 1915 Enterobacter hormaechei subgroup 2 \\\\\n",
       "\t16 & 1916 & \\emph{missing} & Brucella suis subgroup 1 & \\emph{missing} & 1542 & 0 & NaN & 0 & gambit/refseq-curated/Brucella-suis-subgroup-1 & 1 & 1916 Brucella suis subgroup 1 \\\\\n",
       "\t17 & 1917 & \\emph{missing} & Brucella suis subgroup 2 & \\emph{missing} & 1542 & 0 & NaN & 0 & gambit/refseq-curated/Brucella-suis-subgroup-2 & 1 & 1917 Brucella suis subgroup 2 \\\\\n",
       "\t18 & 1918 & \\emph{missing} & Enterobacter cloacae subgroup 1 & \\emph{missing} & 620 & 0 & NaN & 0 & gambit/refseq-curated/Enterobacter-cloacae-subgroup-1 & 1 & 1918 Enterobacter cloacae subgroup 1 \\\\\n",
       "\t19 & 1919 & \\emph{missing} & Enterobacter cloacae subgroup 2 & \\emph{missing} & 620 & 0 & NaN & 0 & gambit/refseq-curated/Enterobacter-cloacae-subgroup-2 & 1 & 1919 Enterobacter cloacae subgroup 2 \\\\\n",
       "\t20 & 1920 & \\emph{missing} & Enterobacter cloacae subgroup 3 & \\emph{missing} & 620 & 0 & NaN & 0 & gambit/refseq-curated/Enterobacter-cloacae-subgroup-3 & 1 & 1920 Enterobacter cloacae subgroup 3 \\\\\n",
       "\t21 & 1921 & \\emph{missing} & Enterobacter cloacae subgroup 4 & \\emph{missing} & 620 & 0 & NaN & 0 & gambit/refseq-curated/Enterobacter-cloacae-subgroup-4 & 1 & 1921 Enterobacter cloacae subgroup 4 \\\\\n",
       "\t22 & 1922 & \\emph{missing} & Shigella boydii subgroup 1 & \\emph{missing} & 644 & 0 & NaN & 0 & gambit/refseq-curated/Shigella-boydii-subgroup-1 & 1 & 1922 Shigella boydii subgroup 1 \\\\\n",
       "\t23 & 1923 & \\emph{missing} & Shigella boydii subgroup 2 & \\emph{missing} & 644 & 0 & NaN & 0 & gambit/refseq-curated/Shigella-boydii-subgroup-2 & 1 & 1923 Shigella boydii subgroup 2 \\\\\n",
       "\t24 & 1924 & \\emph{missing} & Shigella dysenteriae subgroup 1 & \\emph{missing} & 645 & 0 & NaN & 0 & gambit/refseq-curated/Shigella-dysenteriae-subgroup-1 & 1 & 1924 Shigella dysenteriae subgroup 1 \\\\\n",
       "\t25 & 1925 & \\emph{missing} & Shigella dysenteriae subgroup 2 & \\emph{missing} & 645 & 0 & NaN & 0 & gambit/refseq-curated/Shigella-dysenteriae-subgroup-2 & 1 & 1925 Shigella dysenteriae subgroup 2 \\\\\n",
       "\t26 & 1926 & \\emph{missing} & Pseudomonas putida subgroup 1 & \\emph{missing} & 555 & 0 & NaN & 0 & gambit/refseq-curated/Pseudomonas-putida-subgroup-1 & 1 & 1926 Pseudomonas putida subgroup 1 \\\\\n",
       "\t27 & 1927 & \\emph{missing} & Pseudomonas putida subgroup 2 & \\emph{missing} & 555 & 0 & NaN & 0 & gambit/refseq-curated/Pseudomonas-putida-subgroup-2 & 1 & 1927 Pseudomonas putida subgroup 2 \\\\\n",
       "\t28 & 1928 & \\emph{missing} & Pseudomonas putida subgroup 3 & \\emph{missing} & 555 & 0 & NaN & 0 & gambit/refseq-curated/Pseudomonas-putida-subgroup-3 & 1 & 1928 Pseudomonas putida subgroup 3 \\\\\n",
       "\t29 & 1929 & \\emph{missing} & Pseudomonas savastanoi subgroup 1 & \\emph{missing} & 1530 & 0 & NaN & 0 & gambit/refseq-curated/Pseudomonas-savastanoi-subgroup-1 & 1 & 1929 Pseudomonas savastanoi subgroup 1 \\\\\n",
       "\t30 & 1930 & \\emph{missing} & Pseudomonas savastanoi subgroup 2 & \\emph{missing} & 1530 & 0 & NaN & 0 & gambit/refseq-curated/Pseudomonas-savastanoi-subgroup-2 & 1 & 1930 Pseudomonas savastanoi subgroup 2 \\\\\n",
       "\t31 & 1931 & \\emph{missing} & Escherichia coli subgroup 1 & \\emph{missing} & 1950 & 0 & 0.4 & 0 & gambit/refseq-curated/Escherichia-coli-subgroup-1 & 1 & 1931 Escherichia coli subgroup 1 \\\\\n",
       "\t32 & 1932 & \\emph{missing} & Escherichia coli subgroup 2 & \\emph{missing} & 1950 & 0 & 0.35 & 0 & gambit/refseq-curated/Escherichia-coli-subgroup-2 & 1 & 1932 Escherichia coli subgroup 2 \\\\\n",
       "\t33 & 1933 & \\emph{missing} & Escherichia coli subgroup 3 & \\emph{missing} & 1950 & 0 & 0.35 & 0 & gambit/refseq-curated/Escherichia-coli-subgroup-3 & 1 & 1933 Escherichia coli subgroup 3 \\\\\n",
       "\t34 & 1934 & \\emph{missing} & Bacillus pumilus subgroup 1 & \\emph{missing} & 908 & 0 & NaN & 0 & gambit/refseq-curated/Bacillus-pumilus-subgroup-1 & 1 & 1934 Bacillus pumilus subgroup 1 \\\\\n",
       "\t35 & 1935 & \\emph{missing} & Bacillus pumilus subgroup 2 & \\emph{missing} & 908 & 0 & NaN & 0 & gambit/refseq-curated/Bacillus-pumilus-subgroup-2 & 1 & 1935 Bacillus pumilus subgroup 2 \\\\\n",
       "\t36 & 1936 & \\emph{missing} & Pseudomonas amygdali subgroup 1 & \\emph{missing} & 1762 & 0 & NaN & 0 & gambit/refseq-curated/Pseudomonas-amygdali-subgroup-1 & 1 & 1936 Pseudomonas amygdali subgroup 1 \\\\\n",
       "\t37 & 1937 & \\emph{missing} & Pseudomonas amygdali subgroup 2 & \\emph{missing} & 1762 & 0 & 0.25 & 0 & gambit/refseq-curated/Pseudomonas-amygdali-subgroup-2 & 1 & 1937 Pseudomonas amygdali subgroup 2 \\\\\n",
       "\t38 & 1938 & \\emph{missing} & Pseudomonas amygdali subgroup 3 & \\emph{missing} & 1762 & 0 & NaN & 0 & gambit/refseq-curated/Pseudomonas-amygdali-subgroup-3 & 1 & 1938 Pseudomonas amygdali subgroup 3 \\\\\n",
       "\t39 & 1939 & \\emph{missing} & Streptococcus pseudopneumoniae subgroup 1 & \\emph{missing} & 1391 & 0 & NaN & 0 & gambit/refseq-curated/Streptococcus-pseudopneumoniae-subgroup-1 & 1 & 1939 Streptococcus pseudopneumoniae subgroup 1 \\\\\n",
       "\t40 & 1940 & \\emph{missing} & Streptococcus pseudopneumoniae subgroup 2 & \\emph{missing} & 1391 & 0 & 0.5 & 0 & gambit/refseq-curated/Streptococcus-pseudopneumoniae-subgroup-2 & 1 & 1940 Streptococcus pseudopneumoniae subgroup 2 \\\\\n",
       "\t41 & 1941 & \\emph{missing} & Pseudomonas syringae subgroup 1 & \\emph{missing} & 557 & 0 & NaN & 0 & gambit/refseq-curated/Pseudomonas-syringae-subgroup-1 & 1 & 1941 Pseudomonas syringae subgroup 1 \\\\\n",
       "\t42 & 1942 & \\emph{missing} & Pseudomonas syringae subgroup 2 & \\emph{missing} & 557 & 0 & NaN & 0 & gambit/refseq-curated/Pseudomonas-syringae-subgroup-2 & 1 & 1942 Pseudomonas syringae subgroup 2 \\\\\n",
       "\t43 & 1943 & \\emph{missing} & Pseudomonas syringae subgroup 3 & \\emph{missing} & 557 & 0 & NaN & 0 & gambit/refseq-curated/Pseudomonas-syringae-subgroup-3 & 1 & 1943 Pseudomonas syringae subgroup 3 \\\\\n",
       "\t44 & 1944 & \\emph{missing} & Pseudomonas syringae subgroup 4 & \\emph{missing} & 557 & 0 & 0.25 & 0 & gambit/refseq-curated/Pseudomonas-syringae-subgroup-4 & 1 & 1944 Pseudomonas syringae subgroup 4 \\\\\n",
       "\t45 & 1945 & \\emph{missing} & Salinispora pacifica subgroup 1 & \\emph{missing} & 1792 & 0 & NaN & 0 & gambit/refseq-curated/Salinispora-pacifica-subgroup-1 & 1 & 1945 Salinispora pacifica subgroup 1 \\\\\n",
       "\t46 & 1946 & \\emph{missing} & Salinispora pacifica subgroup 2 & \\emph{missing} & 1792 & 0 & NaN & 0 & gambit/refseq-curated/Salinispora-pacifica-subgroup-2 & 1 & 1946 Salinispora pacifica subgroup 2 \\\\\n",
       "\t47 & 1947 & \\emph{missing} & Salinispora pacifica subgroup 3 & \\emph{missing} & 1792 & 0 & NaN & 0 & gambit/refseq-curated/Salinispora-pacifica-subgroup-3 & 1 & 1947 Salinispora pacifica subgroup 3 \\\\\n",
       "\t48 & 1948 & \\emph{missing} & Lacticaseibacillus casei/paracasei & \\emph{missing} & 281 & 0 & NaN & 1 & gambit/refseq-curated/Lacticaseibacillus-casei\\_paracasei & 0 & 1948 Lacticaseibacillus casei/paracasei \\\\\n",
       "\t49 & 1949 & \\emph{missing} & Escherichia/Shigella & genus & \\emph{missing} & 0 & NaN & 1 & gambit/refseq-curated/Escherichia\\_Shigella & 0 & 1949 Escherichia/Shigella \\\\\n",
       "\t50 & 1950 & \\emph{missing} & Escherichia coli/Shigella & species & 1949 & 0 & NaN & 1 & gambit/refseq-curated/Escherichia\\_coli\\_Shigella & 0 & 1950 Escherichia coli/Shigella \\\\\n",
       "\\end{tabular}\n"
      ],
      "text/plain": [
       "\u001b[1m50×11 DataFrame\u001b[0m\n",
       "\u001b[1m Row \u001b[0m│\u001b[1m id    \u001b[0m\u001b[1m ncbi_id \u001b[0m\u001b[1m name                              \u001b[0m\u001b[1m rank    \u001b[0m\u001b[1m parent_id \u001b[0m\u001b[1m in_v12 \u001b[0m\u001b[1m manual_threshold \u001b[0m\u001b[1m report \u001b[0m\u001b[1m key                               \u001b[0m\u001b[1m is_leaf \u001b[0m\u001b[1m plot_label                        \u001b[0m\n",
       "\u001b[1m     \u001b[0m│\u001b[90m Int64 \u001b[0m\u001b[90m Int64?  \u001b[0m\u001b[90m String                            \u001b[0m\u001b[90m String? \u001b[0m\u001b[90m Int64?    \u001b[0m\u001b[90m Bool   \u001b[0m\u001b[90m Float64          \u001b[0m\u001b[90m Bool   \u001b[0m\u001b[90m String?                           \u001b[0m\u001b[90m Bool    \u001b[0m\u001b[90m String                            \u001b[0m\n",
       "─────┼────────────────────────────────────────────────────────────────────────────────────────────────────────────────────────────────────────────────────────────────────────────────────────\n",
       "   1 │  1901 \u001b[90m missing \u001b[0m Prochlorococcus marinus subgroup… \u001b[90m missing \u001b[0m       803   false            NaN      false  gambit/refseq-curated/Prochloroc…     true  1901 Prochlorococcus marinus sub…\n",
       "   2 │  1902 \u001b[90m missing \u001b[0m Prochlorococcus marinus subgroup… \u001b[90m missing \u001b[0m       803   false            NaN      false  gambit/refseq-curated/Prochloroc…     true  1902 Prochlorococcus marinus sub…\n",
       "   3 │  1903 \u001b[90m missing \u001b[0m Prochlorococcus marinus subgroup… \u001b[90m missing \u001b[0m       803   false            NaN      false  gambit/refseq-curated/Prochloroc…     true  1903 Prochlorococcus marinus sub…\n",
       "   4 │  1904 \u001b[90m missing \u001b[0m Prochlorococcus marinus subgroup… \u001b[90m missing \u001b[0m       803   false            NaN      false  gambit/refseq-curated/Prochloroc…     true  1904 Prochlorococcus marinus sub…\n",
       "   5 │  1905 \u001b[90m missing \u001b[0m Clostridium botulinum subgroup 1  \u001b[90m missing \u001b[0m       929   false            NaN      false  gambit/refseq-curated/Clostridiu…     true  1905 Clostridium botulinum subgr…\n",
       "   6 │  1906 \u001b[90m missing \u001b[0m Clostridium botulinum subgroup 2  \u001b[90m missing \u001b[0m       929   false            NaN      false  gambit/refseq-curated/Clostridiu…     true  1906 Clostridium botulinum subgr…\n",
       "   7 │  1907 \u001b[90m missing \u001b[0m Clostridium botulinum subgroup 3  \u001b[90m missing \u001b[0m       929   false            NaN      false  gambit/refseq-curated/Clostridiu…     true  1907 Clostridium botulinum subgr…\n",
       "   8 │  1908 \u001b[90m missing \u001b[0m Bacillus cereus subgroup 1        \u001b[90m missing \u001b[0m       899   false              0.6    false  gambit/refseq-curated/Bacillus-c…     true  1908 Bacillus cereus subgroup 1\n",
       "   9 │  1909 \u001b[90m missing \u001b[0m Bacillus cereus subgroup 2        \u001b[90m missing \u001b[0m       899   false              0.55   false  gambit/refseq-curated/Bacillus-c…     true  1909 Bacillus cereus subgroup 2\n",
       "  10 │  1910 \u001b[90m missing \u001b[0m Bacillus cereus subgroup 3        \u001b[90m missing \u001b[0m       899   false            NaN      false  gambit/refseq-curated/Bacillus-c…     true  1910 Bacillus cereus subgroup 3\n",
       "  11 │  1911 \u001b[90m missing \u001b[0m Bacillus cereus subgroup 4        \u001b[90m missing \u001b[0m       899   false            NaN      false  gambit/refseq-curated/Bacillus-c…     true  1911 Bacillus cereus subgroup 4\n",
       "  12 │  1912 \u001b[90m missing \u001b[0m Bacillus amyloliquefaciens subgr… \u001b[90m missing \u001b[0m       895   false            NaN      false  gambit/refseq-curated/Bacillus-a…     true  1912 Bacillus amyloliquefaciens …\n",
       "  13 │  1913 \u001b[90m missing \u001b[0m Bacillus amyloliquefaciens subgr… \u001b[90m missing \u001b[0m       895   false            NaN      false  gambit/refseq-curated/Bacillus-a…     true  1913 Bacillus amyloliquefaciens …\n",
       "  14 │  1914 \u001b[90m missing \u001b[0m Enterobacter hormaechei subgroup… \u001b[90m missing \u001b[0m      1280   false            NaN      false  gambit/refseq-curated/Enterobact…     true  1914 Enterobacter hormaechei sub…\n",
       "  15 │  1915 \u001b[90m missing \u001b[0m Enterobacter hormaechei subgroup… \u001b[90m missing \u001b[0m      1280   false              0.25   false  gambit/refseq-curated/Enterobact…     true  1915 Enterobacter hormaechei sub…\n",
       "  16 │  1916 \u001b[90m missing \u001b[0m Brucella suis subgroup 1          \u001b[90m missing \u001b[0m      1542   false            NaN      false  gambit/refseq-curated/Brucella-s…     true  1916 Brucella suis subgroup 1\n",
       "  17 │  1917 \u001b[90m missing \u001b[0m Brucella suis subgroup 2          \u001b[90m missing \u001b[0m      1542   false            NaN      false  gambit/refseq-curated/Brucella-s…     true  1917 Brucella suis subgroup 2\n",
       "  18 │  1918 \u001b[90m missing \u001b[0m Enterobacter cloacae subgroup 1   \u001b[90m missing \u001b[0m       620   false            NaN      false  gambit/refseq-curated/Enterobact…     true  1918 Enterobacter cloacae subgro…\n",
       "  19 │  1919 \u001b[90m missing \u001b[0m Enterobacter cloacae subgroup 2   \u001b[90m missing \u001b[0m       620   false            NaN      false  gambit/refseq-curated/Enterobact…     true  1919 Enterobacter cloacae subgro…\n",
       "  20 │  1920 \u001b[90m missing \u001b[0m Enterobacter cloacae subgroup 3   \u001b[90m missing \u001b[0m       620   false            NaN      false  gambit/refseq-curated/Enterobact…     true  1920 Enterobacter cloacae subgro…\n",
       "  21 │  1921 \u001b[90m missing \u001b[0m Enterobacter cloacae subgroup 4   \u001b[90m missing \u001b[0m       620   false            NaN      false  gambit/refseq-curated/Enterobact…     true  1921 Enterobacter cloacae subgro…\n",
       "  22 │  1922 \u001b[90m missing \u001b[0m Shigella boydii subgroup 1        \u001b[90m missing \u001b[0m       644   false            NaN      false  gambit/refseq-curated/Shigella-b…     true  1922 Shigella boydii subgroup 1\n",
       "  23 │  1923 \u001b[90m missing \u001b[0m Shigella boydii subgroup 2        \u001b[90m missing \u001b[0m       644   false            NaN      false  gambit/refseq-curated/Shigella-b…     true  1923 Shigella boydii subgroup 2\n",
       "  24 │  1924 \u001b[90m missing \u001b[0m Shigella dysenteriae subgroup 1   \u001b[90m missing \u001b[0m       645   false            NaN      false  gambit/refseq-curated/Shigella-d…     true  1924 Shigella dysenteriae subgro…\n",
       "  25 │  1925 \u001b[90m missing \u001b[0m Shigella dysenteriae subgroup 2   \u001b[90m missing \u001b[0m       645   false            NaN      false  gambit/refseq-curated/Shigella-d…     true  1925 Shigella dysenteriae subgro…\n",
       "  26 │  1926 \u001b[90m missing \u001b[0m Pseudomonas putida subgroup 1     \u001b[90m missing \u001b[0m       555   false            NaN      false  gambit/refseq-curated/Pseudomona…     true  1926 Pseudomonas putida subgroup…\n",
       "  27 │  1927 \u001b[90m missing \u001b[0m Pseudomonas putida subgroup 2     \u001b[90m missing \u001b[0m       555   false            NaN      false  gambit/refseq-curated/Pseudomona…     true  1927 Pseudomonas putida subgroup…\n",
       "  28 │  1928 \u001b[90m missing \u001b[0m Pseudomonas putida subgroup 3     \u001b[90m missing \u001b[0m       555   false            NaN      false  gambit/refseq-curated/Pseudomona…     true  1928 Pseudomonas putida subgroup…\n",
       "  29 │  1929 \u001b[90m missing \u001b[0m Pseudomonas savastanoi subgroup 1 \u001b[90m missing \u001b[0m      1530   false            NaN      false  gambit/refseq-curated/Pseudomona…     true  1929 Pseudomonas savastanoi subg…\n",
       "  30 │  1930 \u001b[90m missing \u001b[0m Pseudomonas savastanoi subgroup 2 \u001b[90m missing \u001b[0m      1530   false            NaN      false  gambit/refseq-curated/Pseudomona…     true  1930 Pseudomonas savastanoi subg…\n",
       "  31 │  1931 \u001b[90m missing \u001b[0m Escherichia coli subgroup 1       \u001b[90m missing \u001b[0m      1950   false              0.4    false  gambit/refseq-curated/Escherichi…     true  1931 Escherichia coli subgroup 1\n",
       "  32 │  1932 \u001b[90m missing \u001b[0m Escherichia coli subgroup 2       \u001b[90m missing \u001b[0m      1950   false              0.35   false  gambit/refseq-curated/Escherichi…     true  1932 Escherichia coli subgroup 2\n",
       "  33 │  1933 \u001b[90m missing \u001b[0m Escherichia coli subgroup 3       \u001b[90m missing \u001b[0m      1950   false              0.35   false  gambit/refseq-curated/Escherichi…     true  1933 Escherichia coli subgroup 3\n",
       "  34 │  1934 \u001b[90m missing \u001b[0m Bacillus pumilus subgroup 1       \u001b[90m missing \u001b[0m       908   false            NaN      false  gambit/refseq-curated/Bacillus-p…     true  1934 Bacillus pumilus subgroup 1\n",
       "  35 │  1935 \u001b[90m missing \u001b[0m Bacillus pumilus subgroup 2       \u001b[90m missing \u001b[0m       908   false            NaN      false  gambit/refseq-curated/Bacillus-p…     true  1935 Bacillus pumilus subgroup 2\n",
       "  36 │  1936 \u001b[90m missing \u001b[0m Pseudomonas amygdali subgroup 1   \u001b[90m missing \u001b[0m      1762   false            NaN      false  gambit/refseq-curated/Pseudomona…     true  1936 Pseudomonas amygdali subgro…\n",
       "  37 │  1937 \u001b[90m missing \u001b[0m Pseudomonas amygdali subgroup 2   \u001b[90m missing \u001b[0m      1762   false              0.25   false  gambit/refseq-curated/Pseudomona…     true  1937 Pseudomonas amygdali subgro…\n",
       "  38 │  1938 \u001b[90m missing \u001b[0m Pseudomonas amygdali subgroup 3   \u001b[90m missing \u001b[0m      1762   false            NaN      false  gambit/refseq-curated/Pseudomona…     true  1938 Pseudomonas amygdali subgro…\n",
       "  39 │  1939 \u001b[90m missing \u001b[0m Streptococcus pseudopneumoniae s… \u001b[90m missing \u001b[0m      1391   false            NaN      false  gambit/refseq-curated/Streptococ…     true  1939 Streptococcus pseudopneumon…\n",
       "  40 │  1940 \u001b[90m missing \u001b[0m Streptococcus pseudopneumoniae s… \u001b[90m missing \u001b[0m      1391   false              0.5    false  gambit/refseq-curated/Streptococ…     true  1940 Streptococcus pseudopneumon…\n",
       "  41 │  1941 \u001b[90m missing \u001b[0m Pseudomonas syringae subgroup 1   \u001b[90m missing \u001b[0m       557   false            NaN      false  gambit/refseq-curated/Pseudomona…     true  1941 Pseudomonas syringae subgro…\n",
       "  42 │  1942 \u001b[90m missing \u001b[0m Pseudomonas syringae subgroup 2   \u001b[90m missing \u001b[0m       557   false            NaN      false  gambit/refseq-curated/Pseudomona…     true  1942 Pseudomonas syringae subgro…\n",
       "  43 │  1943 \u001b[90m missing \u001b[0m Pseudomonas syringae subgroup 3   \u001b[90m missing \u001b[0m       557   false            NaN      false  gambit/refseq-curated/Pseudomona…     true  1943 Pseudomonas syringae subgro…\n",
       "  44 │  1944 \u001b[90m missing \u001b[0m Pseudomonas syringae subgroup 4   \u001b[90m missing \u001b[0m       557   false              0.25   false  gambit/refseq-curated/Pseudomona…     true  1944 Pseudomonas syringae subgro…\n",
       "  45 │  1945 \u001b[90m missing \u001b[0m Salinispora pacifica subgroup 1   \u001b[90m missing \u001b[0m      1792   false            NaN      false  gambit/refseq-curated/Salinispor…     true  1945 Salinispora pacifica subgro…\n",
       "  46 │  1946 \u001b[90m missing \u001b[0m Salinispora pacifica subgroup 2   \u001b[90m missing \u001b[0m      1792   false            NaN      false  gambit/refseq-curated/Salinispor…     true  1946 Salinispora pacifica subgro…\n",
       "  47 │  1947 \u001b[90m missing \u001b[0m Salinispora pacifica subgroup 3   \u001b[90m missing \u001b[0m      1792   false            NaN      false  gambit/refseq-curated/Salinispor…     true  1947 Salinispora pacifica subgro…\n",
       "  48 │  1948 \u001b[90m missing \u001b[0m Lacticaseibacillus casei/paracas… \u001b[90m missing \u001b[0m       281   false            NaN       true  gambit/refseq-curated/Lacticasei…    false  1948 Lacticaseibacillus casei/pa…\n",
       "  49 │  1949 \u001b[90m missing \u001b[0m Escherichia/Shigella               genus   \u001b[90m   missing \u001b[0m  false            NaN       true  gambit/refseq-curated/Escherichi…    false  1949 Escherichia/Shigella\n",
       "  50 │  1950 \u001b[90m missing \u001b[0m Escherichia coli/Shigella          species       1949   false            NaN       true  gambit/refseq-curated/Escherichi…    false  1950 Escherichia coli/Shigella"
      ]
     },
     "execution_count": 35,
     "metadata": {},
     "output_type": "execute_result"
    }
   ],
   "source": [
    "new_taxa[ismissing.(new_taxa.ncbi_id), :]"
   ]
  },
  {
   "cell_type": "markdown",
   "id": "84a1b14e",
   "metadata": {},
   "source": [
    "## Write output"
   ]
  },
  {
   "cell_type": "code",
   "execution_count": 36,
   "id": "d1df9fb7",
   "metadata": {},
   "outputs": [
    {
     "data": {
      "text/plain": [
       "p\"data-intermediate/210718-compile-edits/taxa.csv\""
      ]
     },
     "execution_count": 36,
     "metadata": {},
     "output_type": "execute_result"
    }
   ],
   "source": [
    "CSV.write(intermediate_out / \"taxa.csv\", new_taxa)"
   ]
  },
  {
   "cell_type": "code",
   "execution_count": 37,
   "id": "60208e25",
   "metadata": {},
   "outputs": [],
   "source": [
    "open(intermediate_out / \"genome-assignments.json\", \"w\") do f\n",
    "    JSON.print(f, genome_assignments_new)\n",
    "end"
   ]
  }
 ],
 "metadata": {
  "kernelspec": {
   "display_name": "Julia 1.5.1",
   "language": "julia",
   "name": "julia-1.5"
  },
  "language_info": {
   "file_extension": ".jl",
   "mimetype": "application/julia",
   "name": "julia",
   "version": "1.5.1"
  }
 },
 "nbformat": 4,
 "nbformat_minor": 5
}
