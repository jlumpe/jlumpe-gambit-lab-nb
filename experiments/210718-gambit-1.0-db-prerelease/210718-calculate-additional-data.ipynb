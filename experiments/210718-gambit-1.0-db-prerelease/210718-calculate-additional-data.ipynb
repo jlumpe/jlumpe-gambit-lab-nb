{
 "cells": [
  {
   "cell_type": "markdown",
   "id": "f8f6791f",
   "metadata": {},
   "source": [
    "# 210718 calculate additional data"
   ]
  },
  {
   "cell_type": "code",
   "execution_count": 1,
   "id": "18e78a81",
   "metadata": {},
   "outputs": [],
   "source": [
    "using Mmap\n",
    "using Statistics"
   ]
  },
  {
   "cell_type": "code",
   "execution_count": 2,
   "id": "d51f6403",
   "metadata": {},
   "outputs": [],
   "source": [
    "using JSON\n",
    "using DataFrames\n",
    "using FilePathsBase\n",
    "using FilePathsBase: /\n",
    "using CSV\n",
    "using Arrow\n",
    "using HDF5\n",
    "using ProgressMeter"
   ]
  },
  {
   "cell_type": "code",
   "execution_count": 3,
   "id": "c18eb70c",
   "metadata": {},
   "outputs": [],
   "source": [
    "using Midas.Pairwise: npairs, iterpairs\n",
    "using TriMatrices"
   ]
  },
  {
   "cell_type": "markdown",
   "id": "0926bfd8",
   "metadata": {},
   "source": [
    "## Setup"
   ]
  },
  {
   "cell_type": "code",
   "execution_count": 4,
   "id": "37c6f4d9",
   "metadata": {},
   "outputs": [
    {
     "data": {
      "text/plain": [
       "100"
      ]
     },
     "execution_count": 4,
     "metadata": {},
     "output_type": "execute_result"
    }
   ],
   "source": [
    "ENV[\"COLUMNS\"] = 400\n",
    "ENV[\"LINES\"] = 100"
   ]
  },
  {
   "cell_type": "code",
   "execution_count": 5,
   "id": "276b1469",
   "metadata": {},
   "outputs": [
    {
     "data": {
      "text/plain": [
       "\"210718-calculate-additional-data\""
      ]
     },
     "execution_count": 5,
     "metadata": {},
     "output_type": "execute_result"
    }
   ],
   "source": [
    "DATESTR = \"210718\"\n",
    "NBNAME = \"$DATESTR-calculate-additional-data\""
   ]
  },
  {
   "cell_type": "code",
   "execution_count": 6,
   "id": "ca6c4ee6",
   "metadata": {},
   "outputs": [],
   "source": [
    "infiles = Dict(\n",
    "    :distances => p\"../../data/intermediate/200727-find-overlaps/genome-pw-distances.raw-float32\",\n",
    "    :db => p\"data-intermediate/210718-compile-edits/\",\n",
    ");"
   ]
  },
  {
   "cell_type": "code",
   "execution_count": 7,
   "id": "ee0f51e4",
   "metadata": {},
   "outputs": [
    {
     "data": {
      "text/plain": [
       "true"
      ]
     },
     "execution_count": 7,
     "metadata": {},
     "output_type": "execute_result"
    }
   ],
   "source": [
    "intermediate_out = p\"data-intermediate\" / NBNAME\n",
    "isdir(intermediate_out) || mkdir(intermediate_out)"
   ]
  },
  {
   "cell_type": "markdown",
   "id": "161015d5",
   "metadata": {},
   "source": [
    "## Load data"
   ]
  },
  {
   "cell_type": "markdown",
   "id": "875aeab4",
   "metadata": {},
   "source": [
    "### Database"
   ]
  },
  {
   "cell_type": "code",
   "execution_count": 8,
   "id": "7ea138a7",
   "metadata": {},
   "outputs": [],
   "source": [
    "taxa = DataFrame(CSV.File(string(infiles[:db] / \"taxa.csv\")));"
   ]
  },
  {
   "cell_type": "code",
   "execution_count": 9,
   "id": "7ddb639f",
   "metadata": {},
   "outputs": [
    {
     "data": {
      "text/plain": [
       "50752"
      ]
     },
     "execution_count": 9,
     "metadata": {},
     "output_type": "execute_result"
    }
   ],
   "source": [
    "genome_assignments = Vector{Int}(open(JSON.parse, infiles[:db] / \"genome-assignments.json\"))\n",
    "ngenomes = length(genome_assignments)"
   ]
  },
  {
   "cell_type": "code",
   "execution_count": 10,
   "id": "337bf459",
   "metadata": {},
   "outputs": [
    {
     "data": {
      "text/plain": [
       "lookup_tid (generic function with 2 methods)"
      ]
     },
     "execution_count": 10,
     "metadata": {},
     "output_type": "execute_result"
    }
   ],
   "source": [
    "tid_to_tidx = Dict(id => i for (i, id) in enumerate(taxa[!, :id]))\n",
    "\n",
    "taxon_index(tid::Integer) = tid_to_tidx[tid]\n",
    "taxon_index(tids::AbstractVector{<:Integer}) = taxon_index.(tids)\n",
    "\n",
    "lookup_tid(tid, cols=:) = taxa[taxon_index(tid), cols]"
   ]
  },
  {
   "cell_type": "markdown",
   "id": "e1785335",
   "metadata": {},
   "source": [
    "### Distances"
   ]
  },
  {
   "cell_type": "code",
   "execution_count": 11,
   "id": "7306b9a6",
   "metadata": {},
   "outputs": [],
   "source": [
    "pw_data = Mmap.mmap(open(infiles[:distances]), Vector{Float32}, (npairs(ngenomes),));\n",
    "\n",
    "pw_dists = TriMatrix(TriSymmetric{false}(), ngenomes, pw_data);"
   ]
  },
  {
   "cell_type": "markdown",
   "id": "5da3ae67",
   "metadata": {},
   "source": [
    "## Taxonomy tree"
   ]
  },
  {
   "cell_type": "markdown",
   "id": "efdb8d60",
   "metadata": {},
   "source": [
    "### Child list"
   ]
  },
  {
   "cell_type": "code",
   "execution_count": 12,
   "id": "28565ec0",
   "metadata": {},
   "outputs": [],
   "source": [
    "taxa[!, :children] = [Int[] for _ in 1:nrow(taxa)]\n",
    "\n",
    "for row in eachrow(taxa)\n",
    "    ismissing(row.parent_id) || push!(lookup_tid(row.parent_id, :children), row.id)\n",
    "end"
   ]
  },
  {
   "cell_type": "markdown",
   "id": "f22356a4",
   "metadata": {},
   "source": [
    "### Leaves"
   ]
  },
  {
   "cell_type": "code",
   "execution_count": 13,
   "id": "8d73ffaf",
   "metadata": {},
   "outputs": [
    {
     "data": {
      "text/plain": [
       "1445"
      ]
     },
     "execution_count": 13,
     "metadata": {},
     "output_type": "execute_result"
    }
   ],
   "source": [
    "leaf_tidxs = findall(taxa.is_leaf)\n",
    "leaf_tids = taxa[leaf_tidxs, :id]\n",
    "nleaves = length(leaf_tidxs)"
   ]
  },
  {
   "cell_type": "code",
   "execution_count": 14,
   "id": "0f3911da",
   "metadata": {},
   "outputs": [],
   "source": [
    "@assert all(id -> id == 0 || id ∈ leaf_tids, genome_assignments)"
   ]
  },
  {
   "cell_type": "code",
   "execution_count": 15,
   "id": "63588c4f",
   "metadata": {},
   "outputs": [],
   "source": [
    "let\n",
    "    leaves_map = Dict(tid => [idx] for (idx, tid) in enumerate(leaf_tids))\n",
    "    function _getleaves(id)\n",
    "        if !haskey(leaves_map, id)\n",
    "            leaves_map[id] = collect(Iterators.flatten(_getleaves(child_id) for child_id in lookup_tid(id, :children)))\n",
    "        end\n",
    "        return leaves_map[id]\n",
    "    end\n",
    "    taxa[!, :leaf_idxs] = _getleaves.(taxa[!, :id])\n",
    "end;"
   ]
  },
  {
   "cell_type": "code",
   "execution_count": 16,
   "id": "08325cad",
   "metadata": {},
   "outputs": [],
   "source": [
    "taxa[!, :leaves] = [leaf_tids[idxs] for idxs in taxa.leaf_idxs];"
   ]
  },
  {
   "cell_type": "code",
   "execution_count": 17,
   "id": "637f229b",
   "metadata": {},
   "outputs": [],
   "source": [
    "@assert all(leaves -> issubset(leaves, leaf_tids), taxa.leaves)\n",
    "@assert !any(isempty, taxa.leaves)"
   ]
  },
  {
   "cell_type": "code",
   "execution_count": 18,
   "id": "2a5009a5",
   "metadata": {},
   "outputs": [],
   "source": [
    "taxa[!, :nleaves] = length.(taxa.leaves);"
   ]
  },
  {
   "cell_type": "markdown",
   "id": "72f7d499",
   "metadata": {},
   "source": [
    "### Genomes"
   ]
  },
  {
   "cell_type": "code",
   "execution_count": 19,
   "id": "cbd5fb69",
   "metadata": {},
   "outputs": [],
   "source": [
    "let\n",
    "    leaf_genomes = Dict(id => Int[] for id in leaf_tids)\n",
    "    for (gi, leaf_id) in enumerate(genome_assignments)\n",
    "        leaf_id == 0 || push!(leaf_genomes[leaf_id], gi)\n",
    "    end\n",
    "    \n",
    "    taxa[!, :genomes] = [\n",
    "        collect(Iterators.flatten(leaf_genomes[leaf_id] for leaf_id in row.leaves))\n",
    "        for row in eachrow(taxa)\n",
    "    ]\n",
    "end;"
   ]
  },
  {
   "cell_type": "code",
   "execution_count": 20,
   "id": "88e34921",
   "metadata": {},
   "outputs": [],
   "source": [
    "taxa[!, :ngenomes] = length.(taxa.genomes);"
   ]
  },
  {
   "cell_type": "markdown",
   "id": "93b2ce7f",
   "metadata": {},
   "source": [
    "## Distance data"
   ]
  },
  {
   "cell_type": "markdown",
   "id": "1786d21c",
   "metadata": {},
   "source": [
    "### Leaf distances"
   ]
  },
  {
   "cell_type": "code",
   "execution_count": 21,
   "id": "8570dc39",
   "metadata": {},
   "outputs": [
    {
     "name": "stderr",
     "output_type": "stream",
     "text": [
      "\u001b[32mProgress: 100%|█████████████████████████████████████████████████████████████████████████████████████████████████████████████████████████████████████████████████████████████████████████████████████████████████████████████████████████████████████████████████████████████████████████████████████████████████████████████████████████████████████████████████████████████████████████| Time: 0:00:55\u001b[39m:51\u001b[39m\n"
     ]
    }
   ],
   "source": [
    "leaf_pw_min_dists = Array{eltype(pw_dists)}(undef, nleaves, nleaves)\n",
    "leaf_pw_max_dists = similar(leaf_pw_min_dists)\n",
    "leaf_pw_mean_dists = similar(leaf_pw_min_dists)\n",
    "\n",
    "@showprogress for (i, j) in iterpairs(nleaves, true)\n",
    "    genomes_i = lookup_tid(leaf_tids[i], :genomes)\n",
    "    genomes_j = lookup_tid(leaf_tids[j], :genomes)\n",
    "    dmat = view(pw_dists, genomes_i, genomes_j)\n",
    "    \n",
    "    for (m, f) in [(leaf_pw_min_dists, minimum), (leaf_pw_max_dists, maximum), (leaf_pw_mean_dists, mean)]\n",
    "        m[i, j] = m[j, i] = f(dmat)\n",
    "    end\n",
    "end"
   ]
  },
  {
   "cell_type": "markdown",
   "id": "4b019f24",
   "metadata": {},
   "source": [
    "### Diameters"
   ]
  },
  {
   "cell_type": "code",
   "execution_count": 22,
   "id": "78c2f660",
   "metadata": {},
   "outputs": [],
   "source": [
    "taxa[!, :diameter] = [\n",
    "    maximum(view(leaf_pw_max_dists, idxs, idxs))\n",
    "    for idxs in taxa.leaf_idxs\n",
    "];"
   ]
  },
  {
   "cell_type": "markdown",
   "id": "dcb52f53",
   "metadata": {},
   "source": [
    "### Min-inter values"
   ]
  },
  {
   "cell_type": "code",
   "execution_count": 23,
   "id": "e1289e3d",
   "metadata": {},
   "outputs": [],
   "source": [
    "let\n",
    "    src_vals = Int[]\n",
    "    dst_vals = Int[]\n",
    "    dist_vals = eltype(pw_dists)[]\n",
    "    \n",
    "    for row in eachrow(taxa)\n",
    "        others = setdiff(1:nleaves, row.leaf_idxs)\n",
    "        \n",
    "        best = nothing\n",
    "        for src_i in row.leaf_idxs, dst_i in others\n",
    "            d = leaf_pw_min_dists[src_i, dst_i]\n",
    "            if isnothing(best) || d < best[1]\n",
    "                best = (d, src_i, dst_i)\n",
    "            end\n",
    "        end\n",
    "        \n",
    "        push!(dist_vals, best[1])\n",
    "        push!(src_vals, leaf_tids[best[2]])\n",
    "        push!(dst_vals, leaf_tids[best[3]])\n",
    "    end\n",
    "    \n",
    "    taxa[!, :min_inter_src] = src_vals\n",
    "    taxa[!, :min_inter_dst] = dst_vals\n",
    "    taxa[!, :min_inter_dist] = dist_vals\n",
    "end;"
   ]
  },
  {
   "cell_type": "markdown",
   "id": "4e3dd5ec",
   "metadata": {},
   "source": [
    "## Write output"
   ]
  },
  {
   "cell_type": "code",
   "execution_count": 24,
   "id": "5ad7dc5e",
   "metadata": {},
   "outputs": [
    {
     "data": {
      "text/plain": [
       "\"data-intermediate/210718-calculate-additional-data/taxa.arrow\""
      ]
     },
     "execution_count": 24,
     "metadata": {},
     "output_type": "execute_result"
    }
   ],
   "source": [
    "Arrow.write(string(intermediate_out / \"taxa.arrow\"), taxa)"
   ]
  },
  {
   "cell_type": "code",
   "execution_count": 25,
   "id": "8753e34e",
   "metadata": {},
   "outputs": [],
   "source": [
    "h5open(string(intermediate_out / \"leaf-data.h5\"), \"w\") do f\n",
    "    f[\"ids\"] = leaf_tids\n",
    "    f[\"idxs\"] = leaf_tidxs\n",
    "    f[\"pw_min_dists\"] = leaf_pw_min_dists\n",
    "    f[\"pw_max_dists\"] = leaf_pw_max_dists\n",
    "    f[\"pw_mean_dists\"] = leaf_pw_mean_dists\n",
    "end;"
   ]
  }
 ],
 "metadata": {
  "kernelspec": {
   "display_name": "Julia 1.5.1",
   "language": "julia",
   "name": "julia-1.5"
  },
  "language_info": {
   "file_extension": ".jl",
   "mimetype": "application/julia",
   "name": "julia",
   "version": "1.5.1"
  }
 },
 "nbformat": 4,
 "nbformat_minor": 5
}
