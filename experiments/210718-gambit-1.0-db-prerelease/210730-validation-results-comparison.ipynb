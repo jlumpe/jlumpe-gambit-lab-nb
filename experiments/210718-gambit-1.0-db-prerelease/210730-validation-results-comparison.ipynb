{
 "cells": [
  {
   "cell_type": "markdown",
   "id": "38b1091a",
   "metadata": {},
   "source": [
    "# 210730 validation results comparison"
   ]
  },
  {
   "cell_type": "code",
   "execution_count": 1,
   "id": "c942d90b",
   "metadata": {},
   "outputs": [],
   "source": [
    "from pathlib import Path"
   ]
  },
  {
   "cell_type": "code",
   "execution_count": 2,
   "id": "2a4e66a7",
   "metadata": {},
   "outputs": [],
   "source": [
    "import pandas as pd"
   ]
  },
  {
   "cell_type": "markdown",
   "id": "b71b5bde",
   "metadata": {},
   "source": [
    "## Setup"
   ]
  },
  {
   "cell_type": "code",
   "execution_count": 3,
   "id": "6403a1e1",
   "metadata": {},
   "outputs": [],
   "source": [
    "DATESTR = '210730'\n",
    "NBNAME = DATESTR + '-validation-results-comparison'"
   ]
  },
  {
   "cell_type": "code",
   "execution_count": 4,
   "id": "0d659ca9",
   "metadata": {},
   "outputs": [],
   "source": [
    "infiles = dict(\n",
    "    old_results=Path('data-input/210730-validation-results-comparison/original-results.csv'),\n",
    "    new_results=Path('data-processed/210730-validation/210730-1.0b-validation-primary-matches.csv'),\n",
    "    join=Path('data-input/210730-validation-results-comparison/210730-validation-results-join.csv'),\n",
    ")"
   ]
  },
  {
   "cell_type": "code",
   "execution_count": 5,
   "id": "ebe216f4-7565-49e7-bccb-dd3dbcc38762",
   "metadata": {},
   "outputs": [],
   "source": [
    "processed_out = Path('data-processed') / NBNAME\n",
    "if not processed_out.is_dir():\n",
    "    processed_out.mkdir()"
   ]
  },
  {
   "cell_type": "markdown",
   "id": "340f1aeb",
   "metadata": {},
   "source": [
    "## Load data"
   ]
  },
  {
   "cell_type": "code",
   "execution_count": 6,
   "id": "06cbd63e-83b1-4a0b-b8bd-ae3897d430e7",
   "metadata": {},
   "outputs": [],
   "source": [
    "old_results = pd.read_csv(infiles['old_results'])"
   ]
  },
  {
   "cell_type": "code",
   "execution_count": 7,
   "id": "07a2404a-6e34-4631-9bbd-223ab3024cb9",
   "metadata": {},
   "outputs": [],
   "source": [
    "new_results = pd.read_csv(infiles['new_results'])"
   ]
  },
  {
   "cell_type": "code",
   "execution_count": 8,
   "id": "8127eea5-e10a-43eb-bd1b-bb8ef6240281",
   "metadata": {},
   "outputs": [],
   "source": [
    "join_df = pd.read_csv(infiles['join'])"
   ]
  },
  {
   "cell_type": "markdown",
   "id": "c64937be-2745-462f-be3e-0a0103556928",
   "metadata": {},
   "source": [
    "### Duplicate rows in old results"
   ]
  },
  {
   "cell_type": "code",
   "execution_count": 9,
   "id": "d1b0196f-beb1-4eb9-9ae2-9f065dae0b8d",
   "metadata": {},
   "outputs": [
    {
     "data": {
      "text/html": [
       "<div>\n",
       "<style scoped>\n",
       "    .dataframe tbody tr th:only-of-type {\n",
       "        vertical-align: middle;\n",
       "    }\n",
       "\n",
       "    .dataframe tbody tr th {\n",
       "        vertical-align: top;\n",
       "    }\n",
       "\n",
       "    .dataframe thead th {\n",
       "        text-align: right;\n",
       "    }\n",
       "</style>\n",
       "<table border=\"1\" class=\"dataframe\">\n",
       "  <thead>\n",
       "    <tr style=\"text-align: right;\">\n",
       "      <th></th>\n",
       "      <th>Date of WGS run</th>\n",
       "      <th>Class of PT</th>\n",
       "      <th>query_file</th>\n",
       "      <th>top_score</th>\n",
       "      <th>predicted_genus</th>\n",
       "      <th>predicted_species</th>\n",
       "      <th>top_genus</th>\n",
       "      <th>genus_threshold</th>\n",
       "      <th>top_species</th>\n",
       "      <th>species_threshold</th>\n",
       "      <th>top_strain</th>\n",
       "      <th>top_description</th>\n",
       "      <th>top_accession</th>\n",
       "    </tr>\n",
       "  </thead>\n",
       "  <tbody>\n",
       "    <tr>\n",
       "      <th>83</th>\n",
       "      <td>10/17/2019</td>\n",
       "      <td>BACT3_2019</td>\n",
       "      <td>19AC0016708</td>\n",
       "      <td>0.673881</td>\n",
       "      <td>Pseudomonas</td>\n",
       "      <td>NaN</td>\n",
       "      <td>Pseudomonas</td>\n",
       "      <td>0.2</td>\n",
       "      <td>monteilii</td>\n",
       "      <td>0.994141</td>\n",
       "      <td>NBRC 103158</td>\n",
       "      <td>[GCF_000730605.1] Pseudomonas monteilii NBRC 1...</td>\n",
       "      <td>GCF_000730605.1</td>\n",
       "    </tr>\n",
       "    <tr>\n",
       "      <th>88</th>\n",
       "      <td>10/24/2019</td>\n",
       "      <td>BACT3_2019</td>\n",
       "      <td>19AC0016708</td>\n",
       "      <td>0.670990</td>\n",
       "      <td>Pseudomonas</td>\n",
       "      <td>NaN</td>\n",
       "      <td>Pseudomonas</td>\n",
       "      <td>0.2</td>\n",
       "      <td>monteilii</td>\n",
       "      <td>0.994141</td>\n",
       "      <td>NBRC 103158</td>\n",
       "      <td>[GCF_000730605.1] Pseudomonas monteilii NBRC 1...</td>\n",
       "      <td>GCF_000730605.1</td>\n",
       "    </tr>\n",
       "  </tbody>\n",
       "</table>\n",
       "</div>"
      ],
      "text/plain": [
       "   Date of WGS run  Class of PT   query_file  top_score predicted_genus  \\\n",
       "83       10/17/2019  BACT3_2019  19AC0016708   0.673881     Pseudomonas   \n",
       "88       10/24/2019  BACT3_2019  19AC0016708   0.670990     Pseudomonas   \n",
       "\n",
       "   predicted_species    top_genus  genus_threshold top_species  \\\n",
       "83               NaN  Pseudomonas              0.2   monteilii   \n",
       "88               NaN  Pseudomonas              0.2   monteilii   \n",
       "\n",
       "    species_threshold   top_strain  \\\n",
       "83           0.994141  NBRC 103158   \n",
       "88           0.994141  NBRC 103158   \n",
       "\n",
       "                                      top_description    top_accession  \n",
       "83  [GCF_000730605.1] Pseudomonas monteilii NBRC 1...  GCF_000730605.1  \n",
       "88  [GCF_000730605.1] Pseudomonas monteilii NBRC 1...  GCF_000730605.1  "
      ]
     },
     "execution_count": 9,
     "metadata": {},
     "output_type": "execute_result"
    }
   ],
   "source": [
    "old_results[old_results.duplicated(['query_file'], keep=False)]"
   ]
  },
  {
   "cell_type": "markdown",
   "id": "d6782d47-d7da-4e3b-877b-ac78c0f50fda",
   "metadata": {},
   "source": [
    "Not precisely the same, but close enough. Remove 2nd row."
   ]
  },
  {
   "cell_type": "code",
   "execution_count": 10,
   "id": "520b373a-a18e-4d33-86ee-5dde5c4b08b8",
   "metadata": {},
   "outputs": [],
   "source": [
    "old_results.drop_duplicates('query_file', inplace=True)"
   ]
  },
  {
   "cell_type": "markdown",
   "id": "56d94be9-28d6-41d1-bed5-6d504d6ebd24",
   "metadata": {},
   "source": [
    "### Change scores to distances in old results"
   ]
  },
  {
   "cell_type": "code",
   "execution_count": 11,
   "id": "b9ce49a0-ae4a-40a5-98ea-65f11243a7b3",
   "metadata": {},
   "outputs": [],
   "source": [
    "for col in ['top_score', 'genus_threshold', 'species_threshold']:\n",
    "    old_results[col] = 1 - old_results[col]"
   ]
  },
  {
   "cell_type": "code",
   "execution_count": 12,
   "id": "61fec7c5-3544-49d5-839b-1af423cb543a",
   "metadata": {},
   "outputs": [],
   "source": [
    "old_results.rename(columns=dict(top_score='top_distance'), inplace=True)"
   ]
  },
  {
   "cell_type": "markdown",
   "id": "38c7160a-ad92-4bdf-9aaa-ed19efa5b348",
   "metadata": {},
   "source": [
    "## Merge"
   ]
  },
  {
   "cell_type": "code",
   "execution_count": 13,
   "id": "529e2963-1b72-4036-870d-1f6aae0ce753",
   "metadata": {},
   "outputs": [],
   "source": [
    "df = pd.merge(\n",
    "    join_df,\n",
    "    new_results.rename(columns=lambda c: 'new.' + c),\n",
    "    how='left',\n",
    "    left_on='new_file',\n",
    "    right_on='new.name',\n",
    "    validate='m:1',\n",
    ")\n",
    "del df['new.name']"
   ]
  },
  {
   "cell_type": "code",
   "execution_count": 14,
   "id": "19a555e2-ec9d-4f7f-9316-64946f702ad3",
   "metadata": {},
   "outputs": [],
   "source": [
    "df = pd.merge(\n",
    "    df,\n",
    "    old_results.rename(columns=lambda c: 'old.' + c),\n",
    "    how='left',\n",
    "    left_on='old_file',\n",
    "    right_on='old.query_file',\n",
    "    validate='m:1',\n",
    ")\n",
    "del df['old.query_file']"
   ]
  },
  {
   "cell_type": "code",
   "execution_count": 15,
   "id": "195a9f30-4225-4a58-9991-770f97f7cfe0",
   "metadata": {},
   "outputs": [],
   "source": [
    "merge_ok = ~pd.isnull(df['new_file']) & ~pd.isnull(df['old_file'])"
   ]
  },
  {
   "cell_type": "markdown",
   "id": "f94caa41-243d-458b-ade9-f015ea2bb888",
   "metadata": {},
   "source": [
    "## Additional annotations"
   ]
  },
  {
   "cell_type": "code",
   "execution_count": 16,
   "id": "fe73c23b-1f8d-4f23-b59f-6706f2beabc8",
   "metadata": {},
   "outputs": [],
   "source": [
    "def set_int_or_none(df, col):\n",
    "    df[col] = pd.Series([None if pd.isnull(v) else int(v) for v in df[col]], dtype=object)"
   ]
  },
  {
   "cell_type": "code",
   "execution_count": 17,
   "id": "c3971ef3-4d5d-45ee-9828-658337fd96d1",
   "metadata": {},
   "outputs": [],
   "source": [
    "def insertcol(name, values):\n",
    "    if name in df.columns:\n",
    "        df[name] = values\n",
    "    else:\n",
    "        i = list(df.columns).index('new.set')\n",
    "        df.insert(i, name, values)"
   ]
  },
  {
   "cell_type": "code",
   "execution_count": 18,
   "id": "cef6b273-d19d-4153-a816-b4d700be8219",
   "metadata": {},
   "outputs": [],
   "source": [
    "set_int_or_none(df, 'new.set')\n",
    "set_int_or_none(df, 'new.predicted.ncbi_id')\n",
    "set_int_or_none(df, 'new.closest_genome.taxon.ncbi_id')"
   ]
  },
  {
   "cell_type": "code",
   "execution_count": 19,
   "id": "c8545ba8-3c4a-4db7-bd5c-d90c77dbb767",
   "metadata": {},
   "outputs": [],
   "source": [
    "insertcol(\n",
    "    'new_prediction_level',\n",
    "    [\n",
    "        None if pd.isnull(row['new_file']) else\n",
    "            'none' if pd.isnull(row['new.predicted.name']) else\n",
    "            'species' if pd.isnull(row['new.predicted.rank']) else\n",
    "            row['new.predicted.rank']\n",
    "        for i, row in df.iterrows()\n",
    "    ],\n",
    ")"
   ]
  },
  {
   "cell_type": "code",
   "execution_count": 20,
   "id": "3b6336ab-4499-45e4-a125-8a2e66248b4a",
   "metadata": {},
   "outputs": [],
   "source": [
    "insertcol(\n",
    "    'old_prediction_level',\n",
    "    [\n",
    "        None if pd.isnull(row['old_file']) else\n",
    "            'none' if pd.isnull(row['old.predicted_genus']) else\n",
    "            'genus' if pd.isnull(row['old.predicted_species']) else\n",
    "            'species'\n",
    "        for i, row in df.iterrows()\n",
    "    ],\n",
    ")"
   ]
  },
  {
   "cell_type": "code",
   "execution_count": 21,
   "id": "13e43d9b-c2ea-472b-942c-d9d7134b4c8e",
   "metadata": {},
   "outputs": [],
   "source": [
    "insertcol('notes', None)"
   ]
  },
  {
   "cell_type": "markdown",
   "id": "864db04a-d925-463b-88f3-fa65057c744c",
   "metadata": {},
   "source": [
    "## Compare"
   ]
  },
  {
   "cell_type": "markdown",
   "id": "e5aefa91-a958-43c0-b0bb-6fdcf04ce514",
   "metadata": {},
   "source": [
    "### Automatic"
   ]
  },
  {
   "cell_type": "code",
   "execution_count": 22,
   "id": "07561e88-028c-46b2-9131-6d24548b272d",
   "metadata": {},
   "outputs": [],
   "source": [
    "consistent = []\n",
    "\n",
    "for i, row in df.iterrows():\n",
    "    newlevel = row['new_prediction_level']\n",
    "    oldlevel = row['old_prediction_level']\n",
    "    \n",
    "    if newlevel in [None, 'none'] or oldlevel in [None, 'none']:\n",
    "        consistent.append(None)\n",
    "        continue\n",
    "        \n",
    "    assert newlevel in ['genus', 'species']\n",
    "    assert oldlevel in ['genus', 'species']\n",
    "        \n",
    "    # Custom taxon, needs manual check\n",
    "    if pd.isnull(row['new.predicted.ncbi_id']):\n",
    "        consistent.append('unknown')\n",
    "        continue\n",
    "        \n",
    "    if newlevel == 'genus':\n",
    "        new_genus = row['new.predicted.name']\n",
    "        value = new_genus == row['old.predicted_genus']\n",
    "        \n",
    "    else:\n",
    "        new_genus, new_species = row['new.predicted.name'].split(' ', 1)\n",
    "        genus_match = new_genus == row['old.predicted_genus']\n",
    "        \n",
    "        if oldlevel == 'genus':\n",
    "            value = genus_match\n",
    "        else:\n",
    "            value = genus_match and new_species == row['old.predicted_species']\n",
    "        \n",
    "    consistent.append(value)\n",
    "    \n",
    "insertcol('predictions_consistent', consistent)"
   ]
  },
  {
   "cell_type": "code",
   "execution_count": 23,
   "id": "0bc9dec6-2169-493d-bf9f-593299a5f6ce",
   "metadata": {},
   "outputs": [
    {
     "data": {
      "text/plain": [
       "True       75\n",
       "NaN        13\n",
       "unknown     8\n",
       "False       4\n",
       "dtype: int64"
      ]
     },
     "execution_count": 23,
     "metadata": {},
     "output_type": "execute_result"
    }
   ],
   "source": [
    "pd.value_counts(consistent, dropna=False)"
   ]
  },
  {
   "cell_type": "markdown",
   "id": "7a70db23-548f-438e-9586-932a3fcc9bf2",
   "metadata": {},
   "source": [
    "### Inspect inconsistencies"
   ]
  },
  {
   "cell_type": "code",
   "execution_count": 24,
   "id": "a2d02b98-d70f-4899-9c72-4dbc125e312e",
   "metadata": {},
   "outputs": [
    {
     "data": {
      "text/html": [
       "<div>\n",
       "<style scoped>\n",
       "    .dataframe tbody tr th:only-of-type {\n",
       "        vertical-align: middle;\n",
       "    }\n",
       "\n",
       "    .dataframe tbody tr th {\n",
       "        vertical-align: top;\n",
       "    }\n",
       "\n",
       "    .dataframe thead th {\n",
       "        text-align: right;\n",
       "    }\n",
       "</style>\n",
       "<table border=\"1\" class=\"dataframe\">\n",
       "  <thead>\n",
       "    <tr style=\"text-align: right;\">\n",
       "      <th></th>\n",
       "      <th>new_file</th>\n",
       "      <th>old_file</th>\n",
       "      <th>file_match_ok</th>\n",
       "      <th>new_prediction_level</th>\n",
       "      <th>old_prediction_level</th>\n",
       "      <th>notes</th>\n",
       "      <th>predictions_consistent</th>\n",
       "      <th>new.set</th>\n",
       "      <th>new.predicted.name</th>\n",
       "      <th>new.predicted.ncbi_id</th>\n",
       "      <th>...</th>\n",
       "      <th>old.top_distance</th>\n",
       "      <th>old.predicted_genus</th>\n",
       "      <th>old.predicted_species</th>\n",
       "      <th>old.top_genus</th>\n",
       "      <th>old.genus_threshold</th>\n",
       "      <th>old.top_species</th>\n",
       "      <th>old.species_threshold</th>\n",
       "      <th>old.top_strain</th>\n",
       "      <th>old.top_description</th>\n",
       "      <th>old.top_accession</th>\n",
       "    </tr>\n",
       "  </thead>\n",
       "  <tbody>\n",
       "    <tr>\n",
       "      <th>4</th>\n",
       "      <td>16AC1611140BCAP_S11</td>\n",
       "      <td>16AC1611140B-CAP</td>\n",
       "      <td>NaN</td>\n",
       "      <td>species</td>\n",
       "      <td>genus</td>\n",
       "      <td>None</td>\n",
       "      <td>False</td>\n",
       "      <td>200817</td>\n",
       "      <td>Cutibacterium acnes</td>\n",
       "      <td>1747</td>\n",
       "      <td>...</td>\n",
       "      <td>0.329300</td>\n",
       "      <td>Propionibacterium</td>\n",
       "      <td>NaN</td>\n",
       "      <td>acnes</td>\n",
       "      <td>NaN</td>\n",
       "      <td>NaN</td>\n",
       "      <td>0.085357</td>\n",
       "      <td>NaN</td>\n",
       "      <td>Propionibacterium acnes</td>\n",
       "      <td>NaN</td>\n",
       "    </tr>\n",
       "    <tr>\n",
       "      <th>22</th>\n",
       "      <td>17AC0006313-1_S23_unpaired</td>\n",
       "      <td>17AC0006313-1_S23.fasta</td>\n",
       "      <td>NaN</td>\n",
       "      <td>genus</td>\n",
       "      <td>genus</td>\n",
       "      <td>None</td>\n",
       "      <td>False</td>\n",
       "      <td>200817</td>\n",
       "      <td>Veillonella</td>\n",
       "      <td>29465</td>\n",
       "      <td>...</td>\n",
       "      <td>0.912754</td>\n",
       "      <td>(16S, 99% match V.parvula)</td>\n",
       "      <td>NaN</td>\n",
       "      <td>Veillonella</td>\n",
       "      <td>0.8</td>\n",
       "      <td>parvula</td>\n",
       "      <td>0.607411</td>\n",
       "      <td>NaN</td>\n",
       "      <td>NaN</td>\n",
       "      <td>NaN</td>\n",
       "    </tr>\n",
       "    <tr>\n",
       "      <th>68</th>\n",
       "      <td>19AC0002349_S5</td>\n",
       "      <td>19AC0002349</td>\n",
       "      <td>NaN</td>\n",
       "      <td>species</td>\n",
       "      <td>species</td>\n",
       "      <td>None</td>\n",
       "      <td>False</td>\n",
       "      <td>200726</td>\n",
       "      <td>Klebsiella aerogenes</td>\n",
       "      <td>548</td>\n",
       "      <td>...</td>\n",
       "      <td>0.043698</td>\n",
       "      <td>Klebsiella</td>\n",
       "      <td>[Enterobacter] aerogenes</td>\n",
       "      <td>Klebsiella</td>\n",
       "      <td>0.8</td>\n",
       "      <td>[Enterobacter] aerogenes</td>\n",
       "      <td>0.371182</td>\n",
       "      <td>170_EAER</td>\n",
       "      <td>[GCF_001055555.1] [Enterobacter] aerogenes (en...</td>\n",
       "      <td>GCF_001055555.1</td>\n",
       "    </tr>\n",
       "    <tr>\n",
       "      <th>70</th>\n",
       "      <td>19AC0002349B2_S11</td>\n",
       "      <td>19AC0002349B2</td>\n",
       "      <td>NaN</td>\n",
       "      <td>species</td>\n",
       "      <td>species</td>\n",
       "      <td>None</td>\n",
       "      <td>False</td>\n",
       "      <td>200726</td>\n",
       "      <td>Klebsiella aerogenes</td>\n",
       "      <td>548</td>\n",
       "      <td>...</td>\n",
       "      <td>0.044881</td>\n",
       "      <td>Klebsiella</td>\n",
       "      <td>[Enterobacter] aerogenes</td>\n",
       "      <td>Klebsiella</td>\n",
       "      <td>0.8</td>\n",
       "      <td>[Enterobacter] aerogenes</td>\n",
       "      <td>0.371182</td>\n",
       "      <td>170_EAER</td>\n",
       "      <td>[GCF_001055555.1] [Enterobacter] aerogenes (en...</td>\n",
       "      <td>GCF_001055555.1</td>\n",
       "    </tr>\n",
       "  </tbody>\n",
       "</table>\n",
       "<p>4 rows × 29 columns</p>\n",
       "</div>"
      ],
      "text/plain": [
       "                      new_file                 old_file file_match_ok  \\\n",
       "4          16AC1611140BCAP_S11         16AC1611140B-CAP           NaN   \n",
       "22  17AC0006313-1_S23_unpaired  17AC0006313-1_S23.fasta           NaN   \n",
       "68              19AC0002349_S5              19AC0002349           NaN   \n",
       "70           19AC0002349B2_S11            19AC0002349B2           NaN   \n",
       "\n",
       "   new_prediction_level old_prediction_level notes predictions_consistent  \\\n",
       "4               species                genus  None                  False   \n",
       "22                genus                genus  None                  False   \n",
       "68              species              species  None                  False   \n",
       "70              species              species  None                  False   \n",
       "\n",
       "   new.set    new.predicted.name new.predicted.ncbi_id  ... old.top_distance  \\\n",
       "4   200817   Cutibacterium acnes                  1747  ...         0.329300   \n",
       "22  200817           Veillonella                 29465  ...         0.912754   \n",
       "68  200726  Klebsiella aerogenes                   548  ...         0.043698   \n",
       "70  200726  Klebsiella aerogenes                   548  ...         0.044881   \n",
       "\n",
       "           old.predicted_genus     old.predicted_species old.top_genus  \\\n",
       "4            Propionibacterium                       NaN         acnes   \n",
       "22  (16S, 99% match V.parvula)                       NaN   Veillonella   \n",
       "68                  Klebsiella  [Enterobacter] aerogenes    Klebsiella   \n",
       "70                  Klebsiella  [Enterobacter] aerogenes    Klebsiella   \n",
       "\n",
       "   old.genus_threshold           old.top_species  old.species_threshold  \\\n",
       "4                  NaN                       NaN               0.085357   \n",
       "22                 0.8                   parvula               0.607411   \n",
       "68                 0.8  [Enterobacter] aerogenes               0.371182   \n",
       "70                 0.8  [Enterobacter] aerogenes               0.371182   \n",
       "\n",
       "   old.top_strain                                old.top_description  \\\n",
       "4             NaN                            Propionibacterium acnes   \n",
       "22            NaN                                                NaN   \n",
       "68       170_EAER  [GCF_001055555.1] [Enterobacter] aerogenes (en...   \n",
       "70       170_EAER  [GCF_001055555.1] [Enterobacter] aerogenes (en...   \n",
       "\n",
       "    old.top_accession  \n",
       "4                 NaN  \n",
       "22                NaN  \n",
       "68    GCF_001055555.1  \n",
       "70    GCF_001055555.1  \n",
       "\n",
       "[4 rows x 29 columns]"
      ]
     },
     "execution_count": 24,
     "metadata": {},
     "output_type": "execute_result"
    }
   ],
   "source": [
    "df[df['predictions_consistent'] == False]"
   ]
  },
  {
   "cell_type": "markdown",
   "id": "64b3b16f-38c3-48b2-ac7a-fe112c4037f2",
   "metadata": {},
   "source": [
    "These are all actually fine."
   ]
  },
  {
   "cell_type": "code",
   "execution_count": 25,
   "id": "00eee802-5c0e-4336-9923-45ef5ba2fd10",
   "metadata": {},
   "outputs": [],
   "source": [
    "df.loc[4, 'notes'] = '\"Propionibacterium acnes\" is homotypic genbank synonym of \"Cutibacterium acnes\"'"
   ]
  },
  {
   "cell_type": "code",
   "execution_count": 26,
   "id": "ac30c15c-0d2c-4a2a-9514-51f5defd4a67",
   "metadata": {},
   "outputs": [],
   "source": [
    "df.loc[[4, 22, 68, 70], 'predictions_consistent'] = True"
   ]
  },
  {
   "cell_type": "markdown",
   "id": "038e6e42-7242-4e40-bfe6-9d713f686956",
   "metadata": {},
   "source": [
    "### Manually check instances where new match is to subgroup taxon"
   ]
  },
  {
   "cell_type": "code",
   "execution_count": 27,
   "id": "e1a5ec40-a0a1-40cb-ad98-bb7f21d21514",
   "metadata": {},
   "outputs": [
    {
     "data": {
      "text/html": [
       "<div>\n",
       "<style scoped>\n",
       "    .dataframe tbody tr th:only-of-type {\n",
       "        vertical-align: middle;\n",
       "    }\n",
       "\n",
       "    .dataframe tbody tr th {\n",
       "        vertical-align: top;\n",
       "    }\n",
       "\n",
       "    .dataframe thead th {\n",
       "        text-align: right;\n",
       "    }\n",
       "</style>\n",
       "<table border=\"1\" class=\"dataframe\">\n",
       "  <thead>\n",
       "    <tr style=\"text-align: right;\">\n",
       "      <th></th>\n",
       "      <th>new_file</th>\n",
       "      <th>old_file</th>\n",
       "      <th>file_match_ok</th>\n",
       "      <th>new_prediction_level</th>\n",
       "      <th>old_prediction_level</th>\n",
       "      <th>notes</th>\n",
       "      <th>predictions_consistent</th>\n",
       "      <th>new.set</th>\n",
       "      <th>new.predicted.name</th>\n",
       "      <th>new.predicted.ncbi_id</th>\n",
       "      <th>...</th>\n",
       "      <th>old.top_distance</th>\n",
       "      <th>old.predicted_genus</th>\n",
       "      <th>old.predicted_species</th>\n",
       "      <th>old.top_genus</th>\n",
       "      <th>old.genus_threshold</th>\n",
       "      <th>old.top_species</th>\n",
       "      <th>old.species_threshold</th>\n",
       "      <th>old.top_strain</th>\n",
       "      <th>old.top_description</th>\n",
       "      <th>old.top_accession</th>\n",
       "    </tr>\n",
       "  </thead>\n",
       "  <tbody>\n",
       "    <tr>\n",
       "      <th>1</th>\n",
       "      <td>16AC1611138-CAP_S13</td>\n",
       "      <td>16AC1611138-CAP</td>\n",
       "      <td>NaN</td>\n",
       "      <td>species</td>\n",
       "      <td>species</td>\n",
       "      <td>None</td>\n",
       "      <td>unknown</td>\n",
       "      <td>200726</td>\n",
       "      <td>Escherichia coli subgroup 2</td>\n",
       "      <td>None</td>\n",
       "      <td>...</td>\n",
       "      <td>0.159100</td>\n",
       "      <td>Escherichia</td>\n",
       "      <td>coli</td>\n",
       "      <td>Escherichia</td>\n",
       "      <td>0.8</td>\n",
       "      <td>coli</td>\n",
       "      <td>0.346300</td>\n",
       "      <td>NaN</td>\n",
       "      <td>Escherichia coli KTE77</td>\n",
       "      <td>NaN</td>\n",
       "    </tr>\n",
       "    <tr>\n",
       "      <th>8</th>\n",
       "      <td>17AC0001410_S9</td>\n",
       "      <td>17AC0001410.fasta</td>\n",
       "      <td>NaN</td>\n",
       "      <td>species</td>\n",
       "      <td>species</td>\n",
       "      <td>None</td>\n",
       "      <td>unknown</td>\n",
       "      <td>200726</td>\n",
       "      <td>Escherichia coli subgroup 2</td>\n",
       "      <td>None</td>\n",
       "      <td>...</td>\n",
       "      <td>0.159920</td>\n",
       "      <td>Escherichia</td>\n",
       "      <td>coli</td>\n",
       "      <td>Escherichia</td>\n",
       "      <td>0.8</td>\n",
       "      <td>coli</td>\n",
       "      <td>0.346256</td>\n",
       "      <td>KTE77</td>\n",
       "      <td>[GCF_000351725.1] Escherichia coli KTE77 (E. c...</td>\n",
       "      <td>GCF_000351725.1</td>\n",
       "    </tr>\n",
       "    <tr>\n",
       "      <th>18</th>\n",
       "      <td>17AC0006310_S6</td>\n",
       "      <td>17AC0006310.fasta</td>\n",
       "      <td>NaN</td>\n",
       "      <td>species</td>\n",
       "      <td>species</td>\n",
       "      <td>None</td>\n",
       "      <td>unknown</td>\n",
       "      <td>200726</td>\n",
       "      <td>Bacillus cereus subgroup 1</td>\n",
       "      <td>None</td>\n",
       "      <td>...</td>\n",
       "      <td>0.104813</td>\n",
       "      <td>Bacillus</td>\n",
       "      <td>cereus</td>\n",
       "      <td>Bacillus</td>\n",
       "      <td>0.8</td>\n",
       "      <td>cereus</td>\n",
       "      <td>0.314048</td>\n",
       "      <td>B4116</td>\n",
       "      <td>[GCF_001619385.1] Bacillus cereus (firmicutes)</td>\n",
       "      <td>GCF_001619385.1</td>\n",
       "    </tr>\n",
       "    <tr>\n",
       "      <th>40</th>\n",
       "      <td>18AC0007008CHO_S3</td>\n",
       "      <td>18AC0007008CHO_S3s.fasta</td>\n",
       "      <td>NaN</td>\n",
       "      <td>species</td>\n",
       "      <td>species</td>\n",
       "      <td>None</td>\n",
       "      <td>unknown</td>\n",
       "      <td>200726</td>\n",
       "      <td>Escherichia coli subgroup 2</td>\n",
       "      <td>None</td>\n",
       "      <td>...</td>\n",
       "      <td>0.159698</td>\n",
       "      <td>Escherichia</td>\n",
       "      <td>coli</td>\n",
       "      <td>Escherichia</td>\n",
       "      <td>0.8</td>\n",
       "      <td>coli</td>\n",
       "      <td>0.346256</td>\n",
       "      <td>KTE77</td>\n",
       "      <td>[GCF_000351725.1] Escherichia coli KTE77 (E. c...</td>\n",
       "      <td>GCF_000351725.1</td>\n",
       "    </tr>\n",
       "    <tr>\n",
       "      <th>51</th>\n",
       "      <td>18AC0012153M_S10</td>\n",
       "      <td>18AC0012153M</td>\n",
       "      <td>NaN</td>\n",
       "      <td>species</td>\n",
       "      <td>species</td>\n",
       "      <td>None</td>\n",
       "      <td>unknown</td>\n",
       "      <td>200817</td>\n",
       "      <td>Escherichia coli subgroup 2</td>\n",
       "      <td>None</td>\n",
       "      <td>...</td>\n",
       "      <td>0.161072</td>\n",
       "      <td>Escherichia</td>\n",
       "      <td>coli</td>\n",
       "      <td>Escherichia</td>\n",
       "      <td>0.8</td>\n",
       "      <td>coli</td>\n",
       "      <td>0.346256</td>\n",
       "      <td>KTE77</td>\n",
       "      <td>[GCF_000351725.1] Escherichia coli KTE77 (E. c...</td>\n",
       "      <td>GCF_000351725.1</td>\n",
       "    </tr>\n",
       "    <tr>\n",
       "      <th>52</th>\n",
       "      <td>18AC0012154-B_S7</td>\n",
       "      <td>18AC0012154-B</td>\n",
       "      <td>NaN</td>\n",
       "      <td>species</td>\n",
       "      <td>species</td>\n",
       "      <td>None</td>\n",
       "      <td>unknown</td>\n",
       "      <td>200817</td>\n",
       "      <td>Escherichia coli subgroup 2</td>\n",
       "      <td>None</td>\n",
       "      <td>...</td>\n",
       "      <td>0.160598</td>\n",
       "      <td>Escherichia</td>\n",
       "      <td>coli</td>\n",
       "      <td>Escherichia</td>\n",
       "      <td>0.8</td>\n",
       "      <td>coli</td>\n",
       "      <td>0.346256</td>\n",
       "      <td>KTE77</td>\n",
       "      <td>[GCF_000351725.1] Escherichia coli KTE77 (E. c...</td>\n",
       "      <td>GCF_000351725.1</td>\n",
       "    </tr>\n",
       "    <tr>\n",
       "      <th>65</th>\n",
       "      <td>18AC0018938-1_S14</td>\n",
       "      <td>18AC0018938-1</td>\n",
       "      <td>NaN</td>\n",
       "      <td>species</td>\n",
       "      <td>species</td>\n",
       "      <td>None</td>\n",
       "      <td>unknown</td>\n",
       "      <td>200726</td>\n",
       "      <td>Escherichia coli subgroup 1</td>\n",
       "      <td>None</td>\n",
       "      <td>...</td>\n",
       "      <td>0.108660</td>\n",
       "      <td>Escherichia</td>\n",
       "      <td>coli</td>\n",
       "      <td>Escherichia</td>\n",
       "      <td>0.8</td>\n",
       "      <td>coli</td>\n",
       "      <td>0.346256</td>\n",
       "      <td>TOP2396-3</td>\n",
       "      <td>[GCF_000397565.1] Escherichia coli TOP2396-3 (...</td>\n",
       "      <td>GCF_000397565.1</td>\n",
       "    </tr>\n",
       "    <tr>\n",
       "      <th>83</th>\n",
       "      <td>19AC0011213_S10</td>\n",
       "      <td>19AC0011213</td>\n",
       "      <td>NaN</td>\n",
       "      <td>species</td>\n",
       "      <td>species</td>\n",
       "      <td>None</td>\n",
       "      <td>unknown</td>\n",
       "      <td>200726</td>\n",
       "      <td>Escherichia coli subgroup 2</td>\n",
       "      <td>None</td>\n",
       "      <td>...</td>\n",
       "      <td>0.167595</td>\n",
       "      <td>Escherichia</td>\n",
       "      <td>coli</td>\n",
       "      <td>Escherichia</td>\n",
       "      <td>0.8</td>\n",
       "      <td>coli</td>\n",
       "      <td>0.346256</td>\n",
       "      <td>KTE77</td>\n",
       "      <td>[GCF_000351725.1] Escherichia coli KTE77 (E. c...</td>\n",
       "      <td>GCF_000351725.1</td>\n",
       "    </tr>\n",
       "  </tbody>\n",
       "</table>\n",
       "<p>8 rows × 29 columns</p>\n",
       "</div>"
      ],
      "text/plain": [
       "               new_file                  old_file file_match_ok  \\\n",
       "1   16AC1611138-CAP_S13           16AC1611138-CAP           NaN   \n",
       "8        17AC0001410_S9         17AC0001410.fasta           NaN   \n",
       "18       17AC0006310_S6         17AC0006310.fasta           NaN   \n",
       "40    18AC0007008CHO_S3  18AC0007008CHO_S3s.fasta           NaN   \n",
       "51     18AC0012153M_S10              18AC0012153M           NaN   \n",
       "52     18AC0012154-B_S7             18AC0012154-B           NaN   \n",
       "65    18AC0018938-1_S14             18AC0018938-1           NaN   \n",
       "83      19AC0011213_S10               19AC0011213           NaN   \n",
       "\n",
       "   new_prediction_level old_prediction_level notes predictions_consistent  \\\n",
       "1               species              species  None                unknown   \n",
       "8               species              species  None                unknown   \n",
       "18              species              species  None                unknown   \n",
       "40              species              species  None                unknown   \n",
       "51              species              species  None                unknown   \n",
       "52              species              species  None                unknown   \n",
       "65              species              species  None                unknown   \n",
       "83              species              species  None                unknown   \n",
       "\n",
       "   new.set           new.predicted.name new.predicted.ncbi_id  ...  \\\n",
       "1   200726  Escherichia coli subgroup 2                  None  ...   \n",
       "8   200726  Escherichia coli subgroup 2                  None  ...   \n",
       "18  200726   Bacillus cereus subgroup 1                  None  ...   \n",
       "40  200726  Escherichia coli subgroup 2                  None  ...   \n",
       "51  200817  Escherichia coli subgroup 2                  None  ...   \n",
       "52  200817  Escherichia coli subgroup 2                  None  ...   \n",
       "65  200726  Escherichia coli subgroup 1                  None  ...   \n",
       "83  200726  Escherichia coli subgroup 2                  None  ...   \n",
       "\n",
       "   old.top_distance  old.predicted_genus  old.predicted_species old.top_genus  \\\n",
       "1          0.159100          Escherichia                   coli   Escherichia   \n",
       "8          0.159920          Escherichia                   coli   Escherichia   \n",
       "18         0.104813             Bacillus                 cereus      Bacillus   \n",
       "40         0.159698          Escherichia                   coli   Escherichia   \n",
       "51         0.161072          Escherichia                   coli   Escherichia   \n",
       "52         0.160598          Escherichia                   coli   Escherichia   \n",
       "65         0.108660          Escherichia                   coli   Escherichia   \n",
       "83         0.167595          Escherichia                   coli   Escherichia   \n",
       "\n",
       "   old.genus_threshold old.top_species  old.species_threshold old.top_strain  \\\n",
       "1                  0.8            coli               0.346300            NaN   \n",
       "8                  0.8            coli               0.346256          KTE77   \n",
       "18                 0.8          cereus               0.314048          B4116   \n",
       "40                 0.8            coli               0.346256          KTE77   \n",
       "51                 0.8            coli               0.346256          KTE77   \n",
       "52                 0.8            coli               0.346256          KTE77   \n",
       "65                 0.8            coli               0.346256      TOP2396-3   \n",
       "83                 0.8            coli               0.346256          KTE77   \n",
       "\n",
       "                                  old.top_description  old.top_accession  \n",
       "1                             Escherichia coli KTE77                 NaN  \n",
       "8   [GCF_000351725.1] Escherichia coli KTE77 (E. c...    GCF_000351725.1  \n",
       "18     [GCF_001619385.1] Bacillus cereus (firmicutes)    GCF_001619385.1  \n",
       "40  [GCF_000351725.1] Escherichia coli KTE77 (E. c...    GCF_000351725.1  \n",
       "51  [GCF_000351725.1] Escherichia coli KTE77 (E. c...    GCF_000351725.1  \n",
       "52  [GCF_000351725.1] Escherichia coli KTE77 (E. c...    GCF_000351725.1  \n",
       "65  [GCF_000397565.1] Escherichia coli TOP2396-3 (...    GCF_000397565.1  \n",
       "83  [GCF_000351725.1] Escherichia coli KTE77 (E. c...    GCF_000351725.1  \n",
       "\n",
       "[8 rows x 29 columns]"
      ]
     },
     "execution_count": 27,
     "metadata": {},
     "output_type": "execute_result"
    }
   ],
   "source": [
    "df[df['predictions_consistent'] == 'unknown']"
   ]
  },
  {
   "cell_type": "markdown",
   "id": "d5f04f1a-6494-4d6a-9057-cd078c111118",
   "metadata": {},
   "source": [
    "All good."
   ]
  },
  {
   "cell_type": "code",
   "execution_count": 28,
   "id": "8f93c5fa-03fe-41b9-98fb-aaf3cc1b8bc2",
   "metadata": {},
   "outputs": [],
   "source": [
    "df.loc[df['predictions_consistent'] == 'unknown', 'predictions_consistent'] = True"
   ]
  },
  {
   "cell_type": "markdown",
   "id": "34f8b9e4-21a8-4f9f-8cba-3e0c70b673ec",
   "metadata": {},
   "source": [
    "### Check closest genome identical\n",
    "\n",
    "Seems to be the case in many instances."
   ]
  },
  {
   "cell_type": "code",
   "execution_count": 29,
   "id": "47ee4b65-8c3a-4545-a8c1-ba5e89a7c60f",
   "metadata": {},
   "outputs": [],
   "source": [
    "new_accession = df['new.closest_genome.description'].str.extract(r'\\[(GCF_\\d+\\.\\d)\\].*', expand=False)"
   ]
  },
  {
   "cell_type": "code",
   "execution_count": 30,
   "id": "90737994-cc7c-445d-b30d-6d796c501d84",
   "metadata": {},
   "outputs": [],
   "source": [
    "insertcol('closest_genome_identical', (new_accession == df['old.top_accession']).astype(object))"
   ]
  },
  {
   "cell_type": "code",
   "execution_count": 31,
   "id": "5e92ea87-60e5-49d1-babc-2e8e806ce94d",
   "metadata": {},
   "outputs": [],
   "source": [
    "df.loc[~merge_ok, 'closest_genome_identical'] = None"
   ]
  },
  {
   "cell_type": "code",
   "execution_count": 32,
   "id": "653fbd43-10cf-476c-bec0-9fd98d1e0e93",
   "metadata": {},
   "outputs": [
    {
     "data": {
      "text/plain": [
       "True     78\n",
       "False    15\n",
       "NaN       7\n",
       "Name: closest_genome_identical, dtype: int64"
      ]
     },
     "execution_count": 32,
     "metadata": {},
     "output_type": "execute_result"
    }
   ],
   "source": [
    "df['closest_genome_identical'].value_counts(dropna=False)"
   ]
  },
  {
   "cell_type": "markdown",
   "id": "fb7c9746-e08d-46a8-8280-8bc7c0be5047",
   "metadata": {},
   "source": [
    "### Check closest genome species matches\n",
    "\n",
    "Only need to check cases where predictions are not both at the species level."
   ]
  },
  {
   "cell_type": "code",
   "execution_count": 33,
   "id": "fccfc9eb-a160-49f6-8a1b-158163de16f0",
   "metadata": {},
   "outputs": [
    {
     "data": {
      "text/html": [
       "<div>\n",
       "<style scoped>\n",
       "    .dataframe tbody tr th:only-of-type {\n",
       "        vertical-align: middle;\n",
       "    }\n",
       "\n",
       "    .dataframe tbody tr th {\n",
       "        vertical-align: top;\n",
       "    }\n",
       "\n",
       "    .dataframe thead th {\n",
       "        text-align: right;\n",
       "    }\n",
       "</style>\n",
       "<table border=\"1\" class=\"dataframe\">\n",
       "  <thead>\n",
       "    <tr style=\"text-align: right;\">\n",
       "      <th></th>\n",
       "      <th>new_file</th>\n",
       "      <th>old_file</th>\n",
       "      <th>closest_genome_identical</th>\n",
       "      <th>new.predicted.name</th>\n",
       "      <th>old.predicted_genus</th>\n",
       "      <th>old.predicted_species</th>\n",
       "      <th>new.closest_genome.distance</th>\n",
       "      <th>new.closest_genome.description</th>\n",
       "      <th>new.closest_genome.taxon.name</th>\n",
       "      <th>new.closest_genome.taxon.ncbi_id</th>\n",
       "      <th>old.top_distance</th>\n",
       "      <th>old.top_genus</th>\n",
       "      <th>old.top_species</th>\n",
       "      <th>old.top_description</th>\n",
       "    </tr>\n",
       "  </thead>\n",
       "  <tbody>\n",
       "    <tr>\n",
       "      <th>22</th>\n",
       "      <td>17AC0006313-1_S23_unpaired</td>\n",
       "      <td>17AC0006313-1_S23.fasta</td>\n",
       "      <td>False</td>\n",
       "      <td>Veillonella</td>\n",
       "      <td>(16S, 99% match V.parvula)</td>\n",
       "      <td>NaN</td>\n",
       "      <td>0.912588</td>\n",
       "      <td>[GCF_000024945.1] Veillonella parvula DSM 2008...</td>\n",
       "      <td>Veillonella parvula</td>\n",
       "      <td>29466</td>\n",
       "      <td>0.912754</td>\n",
       "      <td>Veillonella</td>\n",
       "      <td>parvula</td>\n",
       "      <td>NaN</td>\n",
       "    </tr>\n",
       "    <tr>\n",
       "      <th>24</th>\n",
       "      <td>17AC0006313ANBLD_S10</td>\n",
       "      <td>17AC0006313ANBLD.fasta</td>\n",
       "      <td>True</td>\n",
       "      <td>Veillonella</td>\n",
       "      <td>NaN</td>\n",
       "      <td>NaN</td>\n",
       "      <td>0.912617</td>\n",
       "      <td>[GCF_000024945.1] Veillonella parvula DSM 2008...</td>\n",
       "      <td>Veillonella parvula</td>\n",
       "      <td>29466</td>\n",
       "      <td>0.912658</td>\n",
       "      <td>Veillonella</td>\n",
       "      <td>parvula</td>\n",
       "      <td>[GCF_000024945.1] Veillonella parvula DSM 2008...</td>\n",
       "    </tr>\n",
       "    <tr>\n",
       "      <th>26</th>\n",
       "      <td>17AC0012453_S1_unpaired</td>\n",
       "      <td>17AC0012453_S1.fasta</td>\n",
       "      <td>True</td>\n",
       "      <td>Corynebacterium</td>\n",
       "      <td>NaN</td>\n",
       "      <td>NaN</td>\n",
       "      <td>0.886251</td>\n",
       "      <td>[GCF_001586215.1] Corynebacterium simulans (hi...</td>\n",
       "      <td>Corynebacterium simulans</td>\n",
       "      <td>146827</td>\n",
       "      <td>0.886297</td>\n",
       "      <td>Corynebacterium</td>\n",
       "      <td>simulans</td>\n",
       "      <td>[GCF_001586215.1] Corynebacterium simulans (hi...</td>\n",
       "    </tr>\n",
       "    <tr>\n",
       "      <th>27</th>\n",
       "      <td>17AC0012454_S2_unpaired</td>\n",
       "      <td>17AC0012454_S2.fasta</td>\n",
       "      <td>True</td>\n",
       "      <td>Aerococcus</td>\n",
       "      <td>Aerococcus</td>\n",
       "      <td>NaN</td>\n",
       "      <td>0.018900</td>\n",
       "      <td>[GCF_000178435.1] Aerococcus viridans ATCC 115...</td>\n",
       "      <td>Aerococcus viridans</td>\n",
       "      <td>1377</td>\n",
       "      <td>0.022655</td>\n",
       "      <td>Aerococcus</td>\n",
       "      <td>viridans</td>\n",
       "      <td>[GCF_000178435.1] Aerococcus viridans ATCC 115...</td>\n",
       "    </tr>\n",
       "    <tr>\n",
       "      <th>59</th>\n",
       "      <td>18AC0018936-1_S12</td>\n",
       "      <td>18AC0018936-1</td>\n",
       "      <td>True</td>\n",
       "      <td>NaN</td>\n",
       "      <td>NaN</td>\n",
       "      <td>NaN</td>\n",
       "      <td>0.939734</td>\n",
       "      <td>[GCF_000276305.1] Staphylococcus epidermidis N...</td>\n",
       "      <td>Staphylococcus epidermidis</td>\n",
       "      <td>1282</td>\n",
       "      <td>0.947987</td>\n",
       "      <td>Staphylococcus</td>\n",
       "      <td>epidermidis</td>\n",
       "      <td>[GCF_000276305.1] Staphylococcus epidermidis N...</td>\n",
       "    </tr>\n",
       "    <tr>\n",
       "      <th>64</th>\n",
       "      <td>18AC0018937-BAP_S11</td>\n",
       "      <td>18AC0018937-BAP</td>\n",
       "      <td>True</td>\n",
       "      <td>NaN</td>\n",
       "      <td>NaN</td>\n",
       "      <td>NaN</td>\n",
       "      <td>0.941886</td>\n",
       "      <td>[GCF_000784015.1] Proteus mirabilis (enterobac...</td>\n",
       "      <td>Proteus mirabilis</td>\n",
       "      <td>584</td>\n",
       "      <td>0.941817</td>\n",
       "      <td>Proteus</td>\n",
       "      <td>mirabilis</td>\n",
       "      <td>[GCF_000784015.1] Proteus mirabilis (enterobac...</td>\n",
       "    </tr>\n",
       "    <tr>\n",
       "      <th>69</th>\n",
       "      <td>19AC0002349B1_S10</td>\n",
       "      <td>19AC0002349B1</td>\n",
       "      <td>False</td>\n",
       "      <td>NaN</td>\n",
       "      <td>NaN</td>\n",
       "      <td>NaN</td>\n",
       "      <td>0.991803</td>\n",
       "      <td>[GCF_000009685.1] Clostridium perfringens str....</td>\n",
       "      <td>Clostridium perfringens</td>\n",
       "      <td>1502</td>\n",
       "      <td>0.991757</td>\n",
       "      <td>Clostridium</td>\n",
       "      <td>baratii</td>\n",
       "      <td>[GCF_000789395.1] Clostridium baratii str. Sul...</td>\n",
       "    </tr>\n",
       "    <tr>\n",
       "      <th>78</th>\n",
       "      <td>19AC0011210_S5</td>\n",
       "      <td>19AC0011210-W1</td>\n",
       "      <td>True</td>\n",
       "      <td>NaN</td>\n",
       "      <td>NaN</td>\n",
       "      <td>NaN</td>\n",
       "      <td>0.991926</td>\n",
       "      <td>[GCF_000169595.1] Ureaplasma urealyticum serov...</td>\n",
       "      <td>Ureaplasma urealyticum</td>\n",
       "      <td>2130</td>\n",
       "      <td>0.991939</td>\n",
       "      <td>Ureaplasma</td>\n",
       "      <td>urealyticum</td>\n",
       "      <td>[GCF_000169595.1] Ureaplasma urealyticum serov...</td>\n",
       "    </tr>\n",
       "    <tr>\n",
       "      <th>87</th>\n",
       "      <td>19AC0016708_S8</td>\n",
       "      <td>19AC0016708</td>\n",
       "      <td>True</td>\n",
       "      <td>Pseudomonas</td>\n",
       "      <td>Pseudomonas</td>\n",
       "      <td>NaN</td>\n",
       "      <td>0.325084</td>\n",
       "      <td>[GCF_000730605.1] Pseudomonas monteilii NBRC 1...</td>\n",
       "      <td>Pseudomonas monteilii</td>\n",
       "      <td>76759</td>\n",
       "      <td>0.326119</td>\n",
       "      <td>Pseudomonas</td>\n",
       "      <td>monteilii</td>\n",
       "      <td>[GCF_000730605.1] Pseudomonas monteilii NBRC 1...</td>\n",
       "    </tr>\n",
       "  </tbody>\n",
       "</table>\n",
       "</div>"
      ],
      "text/plain": [
       "                      new_file                 old_file  \\\n",
       "22  17AC0006313-1_S23_unpaired  17AC0006313-1_S23.fasta   \n",
       "24        17AC0006313ANBLD_S10   17AC0006313ANBLD.fasta   \n",
       "26     17AC0012453_S1_unpaired     17AC0012453_S1.fasta   \n",
       "27     17AC0012454_S2_unpaired     17AC0012454_S2.fasta   \n",
       "59           18AC0018936-1_S12            18AC0018936-1   \n",
       "64         18AC0018937-BAP_S11          18AC0018937-BAP   \n",
       "69           19AC0002349B1_S10            19AC0002349B1   \n",
       "78              19AC0011210_S5           19AC0011210-W1   \n",
       "87              19AC0016708_S8              19AC0016708   \n",
       "\n",
       "   closest_genome_identical new.predicted.name         old.predicted_genus  \\\n",
       "22                    False        Veillonella  (16S, 99% match V.parvula)   \n",
       "24                     True        Veillonella                         NaN   \n",
       "26                     True    Corynebacterium                         NaN   \n",
       "27                     True         Aerococcus                  Aerococcus   \n",
       "59                     True                NaN                         NaN   \n",
       "64                     True                NaN                         NaN   \n",
       "69                    False                NaN                         NaN   \n",
       "78                     True                NaN                         NaN   \n",
       "87                     True        Pseudomonas                 Pseudomonas   \n",
       "\n",
       "   old.predicted_species  new.closest_genome.distance  \\\n",
       "22                   NaN                     0.912588   \n",
       "24                   NaN                     0.912617   \n",
       "26                   NaN                     0.886251   \n",
       "27                   NaN                     0.018900   \n",
       "59                   NaN                     0.939734   \n",
       "64                   NaN                     0.941886   \n",
       "69                   NaN                     0.991803   \n",
       "78                   NaN                     0.991926   \n",
       "87                   NaN                     0.325084   \n",
       "\n",
       "                       new.closest_genome.description  \\\n",
       "22  [GCF_000024945.1] Veillonella parvula DSM 2008...   \n",
       "24  [GCF_000024945.1] Veillonella parvula DSM 2008...   \n",
       "26  [GCF_001586215.1] Corynebacterium simulans (hi...   \n",
       "27  [GCF_000178435.1] Aerococcus viridans ATCC 115...   \n",
       "59  [GCF_000276305.1] Staphylococcus epidermidis N...   \n",
       "64  [GCF_000784015.1] Proteus mirabilis (enterobac...   \n",
       "69  [GCF_000009685.1] Clostridium perfringens str....   \n",
       "78  [GCF_000169595.1] Ureaplasma urealyticum serov...   \n",
       "87  [GCF_000730605.1] Pseudomonas monteilii NBRC 1...   \n",
       "\n",
       "   new.closest_genome.taxon.name new.closest_genome.taxon.ncbi_id  \\\n",
       "22           Veillonella parvula                            29466   \n",
       "24           Veillonella parvula                            29466   \n",
       "26      Corynebacterium simulans                           146827   \n",
       "27           Aerococcus viridans                             1377   \n",
       "59    Staphylococcus epidermidis                             1282   \n",
       "64             Proteus mirabilis                              584   \n",
       "69       Clostridium perfringens                             1502   \n",
       "78        Ureaplasma urealyticum                             2130   \n",
       "87         Pseudomonas monteilii                            76759   \n",
       "\n",
       "    old.top_distance    old.top_genus old.top_species  \\\n",
       "22          0.912754      Veillonella         parvula   \n",
       "24          0.912658      Veillonella         parvula   \n",
       "26          0.886297  Corynebacterium        simulans   \n",
       "27          0.022655       Aerococcus        viridans   \n",
       "59          0.947987   Staphylococcus     epidermidis   \n",
       "64          0.941817          Proteus       mirabilis   \n",
       "69          0.991757      Clostridium         baratii   \n",
       "78          0.991939       Ureaplasma     urealyticum   \n",
       "87          0.326119      Pseudomonas       monteilii   \n",
       "\n",
       "                                  old.top_description  \n",
       "22                                                NaN  \n",
       "24  [GCF_000024945.1] Veillonella parvula DSM 2008...  \n",
       "26  [GCF_001586215.1] Corynebacterium simulans (hi...  \n",
       "27  [GCF_000178435.1] Aerococcus viridans ATCC 115...  \n",
       "59  [GCF_000276305.1] Staphylococcus epidermidis N...  \n",
       "64  [GCF_000784015.1] Proteus mirabilis (enterobac...  \n",
       "69  [GCF_000789395.1] Clostridium baratii str. Sul...  \n",
       "78  [GCF_000169595.1] Ureaplasma urealyticum serov...  \n",
       "87  [GCF_000730605.1] Pseudomonas monteilii NBRC 1...  "
      ]
     },
     "execution_count": 33,
     "metadata": {},
     "output_type": "execute_result"
    }
   ],
   "source": [
    "df.loc[\n",
    "    df['new_prediction_level'].isin(['genus', 'none']) & df['old_prediction_level'].isin(['genus', 'none']),\n",
    "    [\n",
    "        'new_file',\n",
    "        'old_file',\n",
    "        'closest_genome_identical',\n",
    "        'new.predicted.name',\n",
    "        'old.predicted_genus',\n",
    "        'old.predicted_species',\n",
    "        'new.closest_genome.distance',\n",
    "        'new.closest_genome.description',\n",
    "        'new.closest_genome.taxon.name',\n",
    "        'new.closest_genome.taxon.ncbi_id',\n",
    "        'old.top_distance',\n",
    "        'old.top_genus',\n",
    "        'old.top_species',\n",
    "        'old.top_description',\n",
    "    ]\n",
    "]"
   ]
  },
  {
   "cell_type": "markdown",
   "id": "98eb42e9-1405-493b-ab67-3f7b70c8dc38",
   "metadata": {},
   "source": [
    "Looks like only 69 differs, Clostridium perfringens in new vs baratii in old."
   ]
  },
  {
   "cell_type": "code",
   "execution_count": 34,
   "id": "c26f9423-7c09-48f8-955e-f06887fbf11e",
   "metadata": {},
   "outputs": [],
   "source": [
    "insertcol('closest_genome_species_identical', None)\n",
    "df.loc[merge_ok, 'closest_genome_species_identical'] = True\n",
    "df.loc[69, 'closest_genome_species_identical'] = False"
   ]
  },
  {
   "cell_type": "markdown",
   "id": "b74ad0c7-539f-419b-9536-1e16354c7ad8",
   "metadata": {},
   "source": [
    "## Stats"
   ]
  },
  {
   "cell_type": "code",
   "execution_count": 35,
   "id": "7878e319-87e3-43a5-8415-916a3ce92212",
   "metadata": {},
   "outputs": [
    {
     "data": {
      "text/plain": [
       "file_match_ok\n",
       "?            6\n",
       "new_only     5\n",
       "old_only     2\n",
       "NaN         87\n",
       "dtype: int64"
      ]
     },
     "execution_count": 35,
     "metadata": {},
     "output_type": "execute_result"
    }
   ],
   "source": [
    "df.groupby(['file_match_ok'], dropna=False).size()"
   ]
  },
  {
   "cell_type": "code",
   "execution_count": 36,
   "id": "14209d24-9380-43b8-8cd1-a8da63e135e2",
   "metadata": {},
   "outputs": [
    {
     "data": {
      "text/plain": [
       "old_prediction_level  new_prediction_level\n",
       "genus                 genus                    3\n",
       "                      species                  7\n",
       "none                  genus                    2\n",
       "                      none                     4\n",
       "species               species                 77\n",
       "dtype: int64"
      ]
     },
     "execution_count": 36,
     "metadata": {},
     "output_type": "execute_result"
    }
   ],
   "source": [
    "df.groupby(['old_prediction_level', 'new_prediction_level']).size()"
   ]
  },
  {
   "cell_type": "code",
   "execution_count": 37,
   "id": "f0ef951b-8754-40dc-8528-d04d75a29191",
   "metadata": {},
   "outputs": [
    {
     "data": {
      "text/plain": [
       "True    87\n",
       "NaN      6\n",
       "Name: predictions_consistent, dtype: int64"
      ]
     },
     "execution_count": 37,
     "metadata": {},
     "output_type": "execute_result"
    }
   ],
   "source": [
    "df.loc[merge_ok, 'predictions_consistent'].value_counts(dropna=False)"
   ]
  },
  {
   "cell_type": "code",
   "execution_count": 38,
   "id": "b70082e9-3a5f-47de-b593-3c18891cdd80",
   "metadata": {},
   "outputs": [
    {
     "data": {
      "text/plain": [
       "True     78\n",
       "False    15\n",
       "Name: closest_genome_identical, dtype: int64"
      ]
     },
     "execution_count": 38,
     "metadata": {},
     "output_type": "execute_result"
    }
   ],
   "source": [
    "df.loc[merge_ok, 'closest_genome_identical'].value_counts(dropna=False)"
   ]
  },
  {
   "cell_type": "code",
   "execution_count": 39,
   "id": "85a7e34f-ea26-4167-8bca-13a59bdf5012",
   "metadata": {},
   "outputs": [
    {
     "data": {
      "text/plain": [
       "True     92\n",
       "False     1\n",
       "Name: closest_genome_species_identical, dtype: int64"
      ]
     },
     "execution_count": 39,
     "metadata": {},
     "output_type": "execute_result"
    }
   ],
   "source": [
    "df.loc[merge_ok, 'closest_genome_species_identical'].value_counts(dropna=False)"
   ]
  },
  {
   "cell_type": "markdown",
   "id": "99c6a3d9-abb3-41ad-9e03-22b80924456a",
   "metadata": {},
   "source": [
    "## Save"
   ]
  },
  {
   "cell_type": "code",
   "execution_count": 40,
   "id": "f27231d6-6b7f-46f2-9bb8-3b2a6efd3808",
   "metadata": {},
   "outputs": [],
   "source": [
    "df.to_csv(processed_out / f'{DATESTR}-1.0b-validation-results-comparison.csv')"
   ]
  }
 ],
 "metadata": {
  "kernelspec": {
   "display_name": "GAMBIT",
   "language": "python",
   "name": "gambit"
  },
  "language_info": {
   "codemirror_mode": {
    "name": "ipython",
    "version": 3
   },
   "file_extension": ".py",
   "mimetype": "text/x-python",
   "name": "python",
   "nbconvert_exporter": "python",
   "pygments_lexer": "ipython3",
   "version": "3.9.5"
  }
 },
 "nbformat": 4,
 "nbformat_minor": 5
}
