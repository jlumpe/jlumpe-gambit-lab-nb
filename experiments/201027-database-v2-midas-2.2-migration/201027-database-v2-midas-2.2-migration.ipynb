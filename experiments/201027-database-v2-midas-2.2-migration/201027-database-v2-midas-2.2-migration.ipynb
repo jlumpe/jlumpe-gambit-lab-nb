{
 "cells": [
  {
   "cell_type": "code",
   "execution_count": 1,
   "metadata": {},
   "outputs": [],
   "source": [
    "import midas\n",
    "import json\n",
    "from pathlib import Path"
   ]
  },
  {
   "cell_type": "code",
   "execution_count": 2,
   "metadata": {},
   "outputs": [],
   "source": [
    "from midas.db.migrate import get_alembic_config"
   ]
  },
  {
   "cell_type": "code",
   "execution_count": 3,
   "metadata": {},
   "outputs": [],
   "source": [
    "from sqlalchemy import create_engine\n",
    "import alembic.command as cmds"
   ]
  },
  {
   "cell_type": "code",
   "execution_count": 4,
   "metadata": {},
   "outputs": [],
   "source": [
    "from tqdm import tqdm"
   ]
  },
  {
   "cell_type": "markdown",
   "metadata": {},
   "source": [
    "# Files"
   ]
  },
  {
   "cell_type": "code",
   "execution_count": 5,
   "metadata": {},
   "outputs": [],
   "source": [
    "db1 = '/home/jared/projects/midas/data/reference-db-v2/midas-reference-v2.db'\n",
    "db2 = '/home/jared/projects/midas/data/reference-db-v2/midas-reference-v2-d961d0698083.db'"
   ]
  },
  {
   "cell_type": "code",
   "execution_count": 6,
   "metadata": {},
   "outputs": [],
   "source": [
    "! cp {db1} {db2}"
   ]
  },
  {
   "cell_type": "markdown",
   "metadata": {},
   "source": [
    "# Connect"
   ]
  },
  {
   "cell_type": "code",
   "execution_count": 7,
   "metadata": {},
   "outputs": [],
   "source": [
    "engine1 = create_engine('sqlite:///' + db1)\n",
    "engine2 = create_engine('sqlite:///' + db2)"
   ]
  },
  {
   "cell_type": "markdown",
   "metadata": {},
   "source": [
    "# Migrate\n",
    "\n",
    "This takes a while..."
   ]
  },
  {
   "cell_type": "code",
   "execution_count": 8,
   "metadata": {},
   "outputs": [],
   "source": [
    "aconf = get_alembic_config(engine2)"
   ]
  },
  {
   "cell_type": "code",
   "execution_count": 9,
   "metadata": {},
   "outputs": [
    {
     "name": "stderr",
     "output_type": "stream",
     "text": [
      "INFO  [alembic.runtime.migration] Context impl SQLiteImpl.\n",
      "INFO  [alembic.runtime.migration] Will assume non-transactional DDL.\n",
      "INFO  [alembic.runtime.migration] Running upgrade 4815cccfb01b -> d961d0698083, Remove unneeded columns\n"
     ]
    }
   ],
   "source": [
    "cmds.upgrade(aconf, 'd961d0698083')"
   ]
  },
  {
   "cell_type": "markdown",
   "metadata": {},
   "source": [
    "# Check"
   ]
  },
  {
   "cell_type": "code",
   "execution_count": 10,
   "metadata": {},
   "outputs": [],
   "source": [
    "import sqlalchemy as sa\n",
    "from sqlalchemy import sql\n",
    "from midas.db import sqla"
   ]
  },
  {
   "cell_type": "code",
   "execution_count": 11,
   "metadata": {},
   "outputs": [],
   "source": [
    "genomes = sql.table(\n",
    "    'genomes',\n",
    "    sa.Column('id', sa.Integer(), primary_key=True),\n",
    "    sa.Column('is_assembled', sa.Boolean()),\n",
    "    sa.Column('ncbi_taxid', sa.Integer(), index=True),\n",
    "    sa.Column('entrez_summary', sqla.JsonType),\n",
    "    sa.Column('extra', sqla.JsonType),\n",
    ")\n",
    "\n",
    "reference_genome_sets = sql.table(\n",
    "    'reference_genome_sets',\n",
    "    sa.Column('id', sa.Integer(), primary_key=True),\n",
    "    sa.Column('signatureset_key', sa.String()),\n",
    "    sa.Column('signatureset_version', sa.String()),\n",
    "    sa.Column('extra', sqla.JsonType),\n",
    ")\n",
    "\n",
    "taxa = sql.table(\n",
    "    'taxa',\n",
    "    sa.Column('id', sa.Integer(), primary_key=True),\n",
    "    sa.Column('entrez_data', sqla.JsonType),\n",
    "    sa.Column('extra', sqla.JsonType),\n",
    ")"
   ]
  },
  {
   "cell_type": "code",
   "execution_count": 12,
   "metadata": {},
   "outputs": [],
   "source": [
    "conn1 = engine1.connect()\n",
    "conn2 = engine2.connect()"
   ]
  },
  {
   "cell_type": "markdown",
   "metadata": {},
   "source": [
    "## Validate genomes"
   ]
  },
  {
   "cell_type": "code",
   "execution_count": 13,
   "metadata": {},
   "outputs": [
    {
     "name": "stderr",
     "output_type": "stream",
     "text": [
      "74160it [00:35, 2094.88it/s]\n"
     ]
    }
   ],
   "source": [
    "for row in tqdm(conn1.execute(genomes.select())):\n",
    "    extra1 = row.extra.as_builtin()\n",
    "    \n",
    "    extra2, = conn2.execute(sql.select([genomes.c.extra]).where(genomes.c.id==row.id)).fetchone()\n",
    "    extra2 = extra2.as_builtin()\n",
    "    \n",
    "    assert extra2['is_assembled'] == row.is_assembled\n",
    "    assert extra2['ncbi_taxid'] == row.ncbi_taxid\n",
    "    assert extra2['entrez_summary'] == row.entrez_summary.as_builtin()\n",
    "    \n",
    "    for k, v in extra1.items():\n",
    "        assert extra2[k] == v"
   ]
  },
  {
   "cell_type": "markdown",
   "metadata": {},
   "source": [
    "## Validate taxa"
   ]
  },
  {
   "cell_type": "code",
   "execution_count": 15,
   "metadata": {},
   "outputs": [
    {
     "name": "stderr",
     "output_type": "stream",
     "text": [
      "2424it [00:00, 3158.01it/s]\n"
     ]
    }
   ],
   "source": [
    "for row in tqdm(conn1.execute(taxa.select())):\n",
    "    extra1 = row.extra.as_builtin()\n",
    "    \n",
    "    extra2, = conn2.execute(sql.select([taxa.c.extra]).where(taxa.c.id==row.id)).fetchone()\n",
    "    extra2 = extra2.as_builtin()\n",
    "    \n",
    "    assert extra2.get('entrez_data') == (None if row.entrez_data is None else row.entrez_data.as_builtin())\n",
    "    \n",
    "    for k, v in extra1.items():\n",
    "        assert extra2[k] == v"
   ]
  }
 ],
 "metadata": {
  "kernelspec": {
   "display_name": "MIDAS 2",
   "language": "python",
   "name": "midas2"
  },
  "language_info": {
   "codemirror_mode": {
    "name": "ipython",
    "version": 3
   },
   "file_extension": ".py",
   "mimetype": "text/x-python",
   "name": "python",
   "nbconvert_exporter": "python",
   "pygments_lexer": "ipython3",
   "version": "3.6.12"
  }
 },
 "nbformat": 4,
 "nbformat_minor": 4
}
