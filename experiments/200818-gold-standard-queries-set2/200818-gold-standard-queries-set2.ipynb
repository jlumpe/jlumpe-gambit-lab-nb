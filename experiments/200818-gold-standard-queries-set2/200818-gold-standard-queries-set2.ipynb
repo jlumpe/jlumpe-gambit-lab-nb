{
 "cells": [
  {
   "cell_type": "markdown",
   "metadata": {},
   "source": [
    "# 200818 Gold standard queries set 2"
   ]
  },
  {
   "cell_type": "code",
   "execution_count": 1,
   "metadata": {},
   "outputs": [],
   "source": [
    "from pathlib import Path\n",
    "import pickle\n",
    "from gzip import GzipFile\n",
    "\n",
    "from tqdm import tqdm\n",
    "import pandas as pd"
   ]
  },
  {
   "cell_type": "code",
   "execution_count": 2,
   "metadata": {},
   "outputs": [],
   "source": [
    "from midas.kmers import KmerSpec\n",
    "from midas.database.basicdatabase import BasicDatabase\n",
    "from midas.backports.signaturefile import SignatureFile\n",
    "\n",
    "from midas_cli.query import query_coords_concurrent, format_query_results"
   ]
  },
  {
   "cell_type": "markdown",
   "metadata": {},
   "source": [
    "## Notebook config"
   ]
  },
  {
   "cell_type": "code",
   "execution_count": 3,
   "metadata": {},
   "outputs": [],
   "source": [
    "_data_dir = Path('/Users/student/projects/midas/data/')\n",
    "\n",
    "in_files = {\n",
    "    'database': _data_dir / '2019_20/refseq_curated_1.1_beta_200525_db',\n",
    "    'signatures': _data_dir / '2019_20/refseq_curated_1.1beta_200604.midas-signatures.gz',\n",
    "    'seqs': _data_dir / '2019_20/gold_standard_seqs_200817/',\n",
    "    'species_thresholds': _data_dir / 'v1/thresholds/species_thresholds_160901.pickle',\n",
    "    'genus_thresholds': _data_dir / 'v1/thresholds/genus_thresholds_0.2_160906.pickle',\n",
    "}"
   ]
  },
  {
   "cell_type": "code",
   "execution_count": 4,
   "metadata": {},
   "outputs": [],
   "source": [
    "out_dir = Path('../../data/processed/200818-gold-standard-queries-set2/')\n",
    "out_dir.mkdir(exist_ok=True)\n",
    "\n",
    "out_files = {\n",
    "    'results': out_dir / '200818-refseq-curated-1.1_beta-gold-standard-queries-set2-results.csv',\n",
    "}"
   ]
  },
  {
   "cell_type": "markdown",
   "metadata": {},
   "source": [
    "## Read files"
   ]
  },
  {
   "cell_type": "markdown",
   "metadata": {},
   "source": [
    "### Signatures"
   ]
  },
  {
   "cell_type": "code",
   "execution_count": 5,
   "metadata": {},
   "outputs": [],
   "source": [
    "sigfile = SignatureFile(GzipFile(in_files['signatures']))"
   ]
  },
  {
   "cell_type": "code",
   "execution_count": 6,
   "metadata": {},
   "outputs": [
    {
     "data": {
      "text/plain": [
       "{'genome_set': {'name': 'refseq_curated_2020',\n",
       "  'description': 'Created 2020-05-26 by filtering version 0.9 by inclusion in refseq/assembly/all 1.1',\n",
       "  'meta': {'parent': {'key_version': '0.9', 'key': 'midas/assembly/curated'},\n",
       "   'date_created': '2020-05-26'},\n",
       "  'key_version': '1.1',\n",
       "  'key': 'midas/assembly/curated'},\n",
       " 'date_created': '2020-06-04',\n",
       " 'kmer_spec': {'k': 11, 'prefix': 'ATGAC'},\n",
       " 'description': 'Signatures for version 1.1 of curated genome set'}"
      ]
     },
     "execution_count": 6,
     "metadata": {},
     "output_type": "execute_result"
    }
   ],
   "source": [
    "sigfile.get_metadata()"
   ]
  },
  {
   "cell_type": "code",
   "execution_count": 7,
   "metadata": {},
   "outputs": [],
   "source": [
    "sigs = sigfile.get_coords_collection()"
   ]
  },
  {
   "cell_type": "markdown",
   "metadata": {},
   "source": [
    "### Database"
   ]
  },
  {
   "cell_type": "code",
   "execution_count": 8,
   "metadata": {},
   "outputs": [],
   "source": [
    "db = BasicDatabase(in_files['database'])"
   ]
  },
  {
   "cell_type": "code",
   "execution_count": 9,
   "metadata": {},
   "outputs": [],
   "source": [
    "session = db.get_session()"
   ]
  },
  {
   "cell_type": "code",
   "execution_count": 10,
   "metadata": {},
   "outputs": [
    {
     "data": {
      "text/plain": [
       "{'parent': {'key_version': '0.9', 'key': 'midas/assembly/curated'}, 'date_created': '2020-05-26'}"
      ]
     },
     "execution_count": 10,
     "metadata": {},
     "output_type": "execute_result"
    }
   ],
   "source": [
    "gset = session.query(db.GenomeSet).filter_by(key='midas/assembly/curated', key_version='1.1').one()\n",
    "gset.meta"
   ]
  },
  {
   "cell_type": "code",
   "execution_count": 11,
   "metadata": {},
   "outputs": [
    {
     "name": "stderr",
     "output_type": "stream",
     "text": [
      "50752it [00:41, 1222.05it/s]\n"
     ]
    }
   ],
   "source": [
    "annotations_dict = {a.genome.key: a for a in tqdm(gset.annotations)}"
   ]
  },
  {
   "cell_type": "code",
   "execution_count": 12,
   "metadata": {},
   "outputs": [],
   "source": [
    "annotations = [annotations_dict[k] for k in sigfile.ids]"
   ]
  },
  {
   "cell_type": "markdown",
   "metadata": {},
   "source": [
    "### Thresholds"
   ]
  },
  {
   "cell_type": "code",
   "execution_count": 13,
   "metadata": {},
   "outputs": [],
   "source": [
    "species_thresholds = pickle.load(in_files['species_thresholds'].open('rb'))\n",
    "genus_thresholds = pickle.load(in_files['genus_thresholds'].open('rb'))"
   ]
  },
  {
   "cell_type": "markdown",
   "metadata": {},
   "source": [
    "## Query"
   ]
  },
  {
   "cell_type": "code",
   "execution_count": 14,
   "metadata": {},
   "outputs": [],
   "source": [
    "kspec = KmerSpec(11, b'ATGAC')"
   ]
  },
  {
   "cell_type": "code",
   "execution_count": 15,
   "metadata": {},
   "outputs": [
    {
     "data": {
      "text/plain": [
       "18"
      ]
     },
     "execution_count": 15,
     "metadata": {},
     "output_type": "execute_result"
    }
   ],
   "source": [
    "query_files = sorted(in_files['seqs'].glob('*.fasta'))\n",
    "len(query_files)"
   ]
  },
  {
   "cell_type": "code",
   "execution_count": 16,
   "metadata": {},
   "outputs": [
    {
     "name": "stderr",
     "output_type": "stream",
     "text": [
      "100%|██████████| 18/18 [00:30<00:00,  1.68s/it]\n"
     ]
    }
   ],
   "source": [
    "with tqdm(total=len(query_files)) as pbar:\n",
    "    scores = query_coords_concurrent(kspec, query_files, sigs, callback=lambda i: pbar.update())"
   ]
  },
  {
   "cell_type": "markdown",
   "metadata": {},
   "source": [
    "### Format results"
   ]
  },
  {
   "cell_type": "code",
   "execution_count": 17,
   "metadata": {},
   "outputs": [],
   "source": [
    "results = format_query_results(query_files, scores, annotations, species_thresholds, genus_thresholds)"
   ]
  },
  {
   "cell_type": "code",
   "execution_count": 18,
   "metadata": {},
   "outputs": [],
   "source": [
    "results['query_file'] = results['query_file'].apply(lambda p: p.stem)"
   ]
  },
  {
   "cell_type": "code",
   "execution_count": 19,
   "metadata": {},
   "outputs": [],
   "source": [
    "results.to_csv(out_files['results'], index=False)"
   ]
  },
  {
   "cell_type": "markdown",
   "metadata": {},
   "source": [
    "## Review results"
   ]
  },
  {
   "cell_type": "markdown",
   "metadata": {},
   "source": [
    "Queries without a predicted genus or species:"
   ]
  },
  {
   "cell_type": "code",
   "execution_count": 20,
   "metadata": {},
   "outputs": [
    {
     "data": {
      "text/html": [
       "<div>\n",
       "<style scoped>\n",
       "    .dataframe tbody tr th:only-of-type {\n",
       "        vertical-align: middle;\n",
       "    }\n",
       "\n",
       "    .dataframe tbody tr th {\n",
       "        vertical-align: top;\n",
       "    }\n",
       "\n",
       "    .dataframe thead th {\n",
       "        text-align: right;\n",
       "    }\n",
       "</style>\n",
       "<table border=\"1\" class=\"dataframe\">\n",
       "  <thead>\n",
       "    <tr style=\"text-align: right;\">\n",
       "      <th></th>\n",
       "      <th>query_file</th>\n",
       "      <th>top_score</th>\n",
       "      <th>predicted_genus</th>\n",
       "      <th>predicted_species</th>\n",
       "      <th>top_genus</th>\n",
       "      <th>genus_threshold</th>\n",
       "      <th>top_species</th>\n",
       "      <th>species_threshold</th>\n",
       "      <th>top_strain</th>\n",
       "      <th>top_description</th>\n",
       "      <th>top_accession</th>\n",
       "    </tr>\n",
       "  </thead>\n",
       "  <tbody>\n",
       "    <tr>\n",
       "      <th>0</th>\n",
       "      <td>16AC1611140BCAP_S11_L001_R1_001</td>\n",
       "      <td>0.662597</td>\n",
       "      <td>Propionibacterium</td>\n",
       "      <td>None</td>\n",
       "      <td>Propionibacterium</td>\n",
       "      <td>0.2</td>\n",
       "      <td>acnes</td>\n",
       "      <td>0.914643</td>\n",
       "      <td>HL030PA1</td>\n",
       "      <td>[GCF_000145115.1] Cutibacterium acnes HL030PA1...</td>\n",
       "      <td>GCF_000145115.1</td>\n",
       "    </tr>\n",
       "    <tr>\n",
       "      <th>3</th>\n",
       "      <td>17AC0006313-1_S23_L001_R1_001</td>\n",
       "      <td>0.087412</td>\n",
       "      <td>None</td>\n",
       "      <td>None</td>\n",
       "      <td>Veillonella</td>\n",
       "      <td>0.2</td>\n",
       "      <td>parvula</td>\n",
       "      <td>0.392589</td>\n",
       "      <td>DSM 2008</td>\n",
       "      <td>[GCF_000024945.1] Veillonella parvula DSM 2008...</td>\n",
       "      <td>GCF_000024945.1</td>\n",
       "    </tr>\n",
       "    <tr>\n",
       "      <th>4</th>\n",
       "      <td>17AC0012453_S1_L001_R1_001</td>\n",
       "      <td>0.113749</td>\n",
       "      <td>None</td>\n",
       "      <td>None</td>\n",
       "      <td>Corynebacterium</td>\n",
       "      <td>0.2</td>\n",
       "      <td>simulans</td>\n",
       "      <td>0.575528</td>\n",
       "      <td>PES1</td>\n",
       "      <td>[GCF_001586215.1] Corynebacterium simulans (hi...</td>\n",
       "      <td>GCF_001586215.1</td>\n",
       "    </tr>\n",
       "    <tr>\n",
       "      <th>5</th>\n",
       "      <td>17AC0012454_S2_L001_R1_001</td>\n",
       "      <td>0.981100</td>\n",
       "      <td>Aerococcus</td>\n",
       "      <td>None</td>\n",
       "      <td>Aerococcus</td>\n",
       "      <td>0.2</td>\n",
       "      <td>viridans</td>\n",
       "      <td>0.990698</td>\n",
       "      <td>ATCC 11563</td>\n",
       "      <td>[GCF_000178435.1] Aerococcus viridans ATCC 115...</td>\n",
       "      <td>GCF_000178435.1</td>\n",
       "    </tr>\n",
       "    <tr>\n",
       "      <th>6</th>\n",
       "      <td>17AC0012455-1A_S1_L001_R1_001</td>\n",
       "      <td>0.443076</td>\n",
       "      <td>Streptococcus</td>\n",
       "      <td>None</td>\n",
       "      <td>Streptococcus</td>\n",
       "      <td>0.2</td>\n",
       "      <td>constellatus</td>\n",
       "      <td>0.947005</td>\n",
       "      <td>SK53</td>\n",
       "      <td>[GCF_000257785.1] Streptococcus constellatus s...</td>\n",
       "      <td>GCF_000257785.1</td>\n",
       "    </tr>\n",
       "  </tbody>\n",
       "</table>\n",
       "</div>"
      ],
      "text/plain": [
       "                        query_file  top_score    predicted_genus  \\\n",
       "0  16AC1611140BCAP_S11_L001_R1_001   0.662597  Propionibacterium   \n",
       "3    17AC0006313-1_S23_L001_R1_001   0.087412               None   \n",
       "4       17AC0012453_S1_L001_R1_001   0.113749               None   \n",
       "5       17AC0012454_S2_L001_R1_001   0.981100         Aerococcus   \n",
       "6    17AC0012455-1A_S1_L001_R1_001   0.443076      Streptococcus   \n",
       "\n",
       "  predicted_species          top_genus  genus_threshold   top_species  \\\n",
       "0              None  Propionibacterium              0.2         acnes   \n",
       "3              None        Veillonella              0.2       parvula   \n",
       "4              None    Corynebacterium              0.2      simulans   \n",
       "5              None         Aerococcus              0.2      viridans   \n",
       "6              None      Streptococcus              0.2  constellatus   \n",
       "\n",
       "   species_threshold  top_strain  \\\n",
       "0           0.914643    HL030PA1   \n",
       "3           0.392589    DSM 2008   \n",
       "4           0.575528        PES1   \n",
       "5           0.990698  ATCC 11563   \n",
       "6           0.947005        SK53   \n",
       "\n",
       "                                     top_description    top_accession  \n",
       "0  [GCF_000145115.1] Cutibacterium acnes HL030PA1...  GCF_000145115.1  \n",
       "3  [GCF_000024945.1] Veillonella parvula DSM 2008...  GCF_000024945.1  \n",
       "4  [GCF_001586215.1] Corynebacterium simulans (hi...  GCF_001586215.1  \n",
       "5  [GCF_000178435.1] Aerococcus viridans ATCC 115...  GCF_000178435.1  \n",
       "6  [GCF_000257785.1] Streptococcus constellatus s...  GCF_000257785.1  "
      ]
     },
     "execution_count": 20,
     "metadata": {},
     "output_type": "execute_result"
    }
   ],
   "source": [
    "results[pd.isnull(results['predicted_genus']) | pd.isnull(results['predicted_species'])]"
   ]
  }
 ],
 "metadata": {
  "kernelspec": {
   "display_name": "MIDAS v1",
   "language": "python",
   "name": "midas1"
  },
  "language_info": {
   "codemirror_mode": {
    "name": "ipython",
    "version": 3
   },
   "file_extension": ".py",
   "mimetype": "text/x-python",
   "name": "python",
   "nbconvert_exporter": "python",
   "pygments_lexer": "ipython3",
   "version": "3.6.10"
  }
 },
 "nbformat": 4,
 "nbformat_minor": 4
}
