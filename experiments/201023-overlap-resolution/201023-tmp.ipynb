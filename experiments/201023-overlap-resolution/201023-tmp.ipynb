{
 "cells": [
  {
   "cell_type": "markdown",
   "metadata": {},
   "source": [
    "# 201017 Simple overlap component resolutions"
   ]
  },
  {
   "cell_type": "code",
   "execution_count": null,
   "metadata": {},
   "outputs": [],
   "source": [
    "using ProgressMeter\n",
    "using FilePathsBase; using FilePathsBase: /\n",
    "using GZip\n",
    "using JSON\n",
    "using Mmap\n",
    "using DataFrames\n",
    "using CSV\n",
    "using StatsBase\n",
    "using CategoricalArrays\n",
    "using HDF5\n",
    "using DataStructures: counter\n",
    "using AbstractTrees"
   ]
  },
  {
   "cell_type": "code",
   "execution_count": null,
   "metadata": {},
   "outputs": [],
   "source": [
    "using PlotlyJS\n",
    "using Colors\n",
    "using ColorSchemes"
   ]
  },
  {
   "cell_type": "code",
   "execution_count": null,
   "metadata": {},
   "outputs": [],
   "source": [
    "using Revise\n",
    "\n",
    "using Midas\n",
    "using Midas.Pairwise: npairs\n",
    "\n",
    "using ClusterAnalysis\n",
    "using ClusterAnalysis: hclusttree_from_json\n",
    "\n",
    "using MidasPlots\n",
    "using MidasPlots: Dendrogram, dgleaf_edges, ClassValues\n",
    "using MidasPlots.Plotly: PlotlyDendrogram, subplot_axes, subplot_axes!, gettraces, setaxes!, vector_attrs!, class_color_strip, make_colorscale\n",
    "\n",
    "using TriMatrices"
   ]
  },
  {
   "cell_type": "markdown",
   "metadata": {},
   "source": [
    "## Func defs"
   ]
  },
  {
   "cell_type": "code",
   "execution_count": null,
   "metadata": {},
   "outputs": [],
   "source": [
    "findclass(a::CategoricalArray, cls::CategoricalValue) = findall(==(cls), a)\n",
    "findclass(a::CategoricalArray, i::Integer) = findclass(a, a.pool[i])\n",
    "findclass(a::CategoricalArray, clss::AbstractVector{<:CategoricalValue}) = findall(∈(clss), a)\n",
    "findclass(a::CategoricalArray, is::AbstractVector{<:Integer}) = findall(∈(is), a.refs)\n",
    "selectclass(a::AbstractVector, c::CategoricalArray, cls) = a[findclass(c, cls)]"
   ]
  },
  {
   "cell_type": "code",
   "execution_count": null,
   "metadata": {},
   "outputs": [],
   "source": [
    "struct Namespace\n",
    "    _fields::Dict{Symbol, Any}\n",
    "end\n",
    "    \n",
    "Namespace(; kw...) = Namespace(Dict(kw))\n",
    "\n",
    "function Base.getproperty(ns::Namespace, p::Symbol)\n",
    "    f = getfield(ns, :_fields)\n",
    "    p == :_fields && return f\n",
    "    try\n",
    "        return f[p]\n",
    "    catch KeyError\n",
    "        error(\"Namespace has no field $p\")\n",
    "    end\n",
    "end\n",
    "\n",
    "function Base.setproperty!(ns::Namespace, p::Symbol, v)\n",
    "    f = getfield(ns, :_fields)\n",
    "    f[p] = v\n",
    "end\n",
    "\n",
    "macro unpack_ns(e, symbols::Symbol...)\n",
    "    x = [Expr(:., :ns, QuoteNode(s)) for s in symbols]\n",
    "    rhs = quote\n",
    "        let ns = $(esc(e))\n",
    "            $(Expr(:tuple, x...))\n",
    "        end\n",
    "    end\n",
    "    return Expr(:(=), Expr(:tuple, esc.(symbols)...), rhs)\n",
    "end\n",
    "\n",
    "Base.propertynames(ns::Namespace) = collect(keys(ns._fields))"
   ]
  },
  {
   "cell_type": "markdown",
   "metadata": {},
   "source": [
    "## File paths"
   ]
  },
  {
   "cell_type": "code",
   "execution_count": null,
   "metadata": {},
   "outputs": [],
   "source": [
    "infiles = Dict(\n",
    "    :taxonomy => p\"/home/jared/notebooks/midas/midas-notebooks-2019/build-v1-database/out/3-curated-taxonomy-assignments.csv\",\n",
    "    :distances => p\"../../data/intermediate/200727-find-overlaps/genome-pw-distances.raw-float32\",\n",
    "    :overlaps => p\"../../data/intermediate/200727-find-overlaps/200729-refseq-curated-1.1_beta-species-overlaps.h5\",\n",
    "    :trees => p\"../../data/intermediate/201013-overlap-clustering-analysis/201017-overlap-component-clustering-reports/\",\n",
    ");"
   ]
  },
  {
   "cell_type": "markdown",
   "metadata": {},
   "source": [
    "## Load data"
   ]
  },
  {
   "cell_type": "markdown",
   "metadata": {},
   "source": [
    "### Taxonomy"
   ]
  },
  {
   "cell_type": "code",
   "execution_count": null,
   "metadata": {},
   "outputs": [],
   "source": [
    "taxdf = DataFrame(CSV.File(infiles[:taxonomy]));"
   ]
  },
  {
   "cell_type": "code",
   "execution_count": null,
   "metadata": {},
   "outputs": [],
   "source": [
    "sig_genera = categorical(taxdf[!, :genus])\n",
    "genera = levels(sig_genera)\n",
    "ngenera = length(genera)\n",
    "\n",
    "sig_species = categorical([(row[:genus], row[:species]) for row in eachrow(taxdf)])\n",
    "species = levels(sig_species)\n",
    "speciesnames = [join(s, \" \") for s in species]\n",
    "nspecies = length(species)\n",
    "\n",
    "ngenera, nspecies"
   ]
  },
  {
   "cell_type": "code",
   "execution_count": null,
   "metadata": {},
   "outputs": [],
   "source": [
    "genus_counts = counts(sig_genera.refs)\n",
    "species_counts = counts(sig_species.refs)\n",
    ";"
   ]
  },
  {
   "cell_type": "code",
   "execution_count": null,
   "metadata": {},
   "outputs": [],
   "source": [
    "genome_accs = [last(split(k, \"/\")) for k in taxdf[!, :key]];"
   ]
  },
  {
   "cell_type": "code",
   "execution_count": null,
   "metadata": {},
   "outputs": [],
   "source": [
    "species_to_genus = [findfirst(==(genus), genera) for (genus, spname) in species];"
   ]
  },
  {
   "cell_type": "code",
   "execution_count": null,
   "metadata": {},
   "outputs": [],
   "source": [
    "nsigs = size(taxdf, 1)"
   ]
  },
  {
   "cell_type": "markdown",
   "metadata": {},
   "source": [
    "### Distances"
   ]
  },
  {
   "cell_type": "code",
   "execution_count": null,
   "metadata": {},
   "outputs": [],
   "source": [
    "pw_data = Mmap.mmap(open(infiles[:distances], \"r\"), Vector{Float32}, (npairs(nsigs),));\n",
    "\n",
    "pw_dists = TriMatrix(TriSymmetric{false}(), nsigs, pw_data);"
   ]
  },
  {
   "cell_type": "code",
   "execution_count": null,
   "metadata": {},
   "outputs": [],
   "source": [
    "@assert !any(<(0), pw_data)"
   ]
  },
  {
   "cell_type": "markdown",
   "metadata": {},
   "source": [
    "### Overlaps"
   ]
  },
  {
   "cell_type": "code",
   "execution_count": null,
   "metadata": {},
   "outputs": [],
   "source": [
    "h5open(string(infiles[:overlaps])) do h5\n",
    "    @assert read(h5, \"genome_keys\") == taxdf[!, :key]\n",
    "\n",
    "    global min_inter = collect(zip(read(h5, \"min_inter_indices\"), read(h5, \"min_inter_dists\")))\n",
    "    global max_intra = collect(zip(read(h5, \"max_intra_indices\"), read(h5, \"max_intra_dists\")))\n",
    "\n",
    "    global has_overlap = read(h5, \"has_overlap\")\n",
    "    global overlap_components_vec = read(h5, \"overlap_components\")\n",
    "end;"
   ]
  },
  {
   "cell_type": "raw",
   "metadata": {},
   "source": [
    "overlap_pairs = [i => min_inter[i][1] for i in has_overlap];"
   ]
  },
  {
   "cell_type": "code",
   "execution_count": null,
   "metadata": {},
   "outputs": [],
   "source": [
    "overlap_components = [findall(==(i), overlap_components_vec) for i in 1:maximum(overlap_components_vec)];"
   ]
  },
  {
   "cell_type": "raw",
   "metadata": {},
   "source": [
    "overlap_edges = counter(\n",
    "    Int(sig_species.refs[i]) => Int(sig_species.refs[j])\n",
    "    for (i, j) in overlap_pairs\n",
    ");"
   ]
  },
  {
   "cell_type": "code",
   "execution_count": null,
   "metadata": {},
   "outputs": [],
   "source": [
    "function componentdata(i::Int)\n",
    "    i = i\n",
    "    comp = overlap_components[i]\n",
    "    nspecies = length(comp)\n",
    "    idxs = [findclass(sig_species, c) for c in comp]\n",
    "    idxs_flat = vcat(idxs...)\n",
    "    genera = unique(g for (g, s) in species[comp])\n",
    "    singlegenus = length(genera) == 1\n",
    "    \n",
    "    if singlegenus\n",
    "        genus = only(genera)\n",
    "        groupnames = [s for (g, s) in species[comp]]\n",
    "    else\n",
    "       genus = nothing\n",
    "       groupnames = speciesnames[comp]\n",
    "    end\n",
    "    \n",
    "    classnames = ClassValues(groupnames, \"(mixed)\");\n",
    "    ngenomes = length(idxs_flat)\n",
    "    genome_labels = [l for (l, n) in enumerate(species_counts[comp]) for _ in 1:n];\n",
    "    dmat = pw_dists[idxs_flat, idxs_flat];\n",
    "    \n",
    "    treedata = open(JSON.parse, infiles[:trees] / \"tree-$i.json\")\n",
    "    tree = hclusttree_from_json(treedata)\n",
    "    \n",
    "    accs = open(JSON.parse, infiles[:trees] / \"genomes-$i.json\")\n",
    "    @assert accs == genome_accs[idxs_flat]\n",
    "    \n",
    "    return Namespace(;\n",
    "        i, species=comp, idxs, idxs_flat, genera, singlegenus,\n",
    "        genus, groupnames, classnames, ngenomes, nspecies,\n",
    "        genome_labels, dmat, tree\n",
    "    )\n",
    "end"
   ]
  },
  {
   "cell_type": "markdown",
   "metadata": {},
   "source": [
    "# ?"
   ]
  },
  {
   "cell_type": "code",
   "execution_count": null,
   "metadata": {},
   "outputs": [],
   "source": [
    "comp = componentdata(3)\n",
    "speciesnames[comp.species]"
   ]
  },
  {
   "cell_type": "code",
   "execution_count": null,
   "metadata": {},
   "outputs": [],
   "source": [
    "comp.tree"
   ]
  }
 ],
 "metadata": {
  "@webio": {
   "lastCommId": "630253a2-26c7-455f-b6e6-d4492efb0de8",
   "lastKernelId": "b265df0d-2c28-41fd-b303-92b7508dbbde"
  },
  "kernelspec": {
   "display_name": "Julia 1.5.1",
   "language": "julia",
   "name": "julia-1.5"
  },
  "language_info": {
   "file_extension": ".jl",
   "mimetype": "application/julia",
   "name": "julia",
   "version": "1.5.1"
  }
 },
 "nbformat": 4,
 "nbformat_minor": 4
}
