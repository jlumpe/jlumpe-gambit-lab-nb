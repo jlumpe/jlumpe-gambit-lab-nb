{
 "cells": [
  {
   "cell_type": "markdown",
   "id": "2195bec5-ddef-4f30-aa9d-a184315e9265",
   "metadata": {},
   "source": [
    "# 210902 Mash distances"
   ]
  },
  {
   "cell_type": "code",
   "execution_count": 1,
   "id": "38c9e0e9-4183-4db1-8761-882c5d106c47",
   "metadata": {},
   "outputs": [],
   "source": [
    "from pathlib import Path\n",
    "import json\n",
    "from subprocess import run, PIPE\n",
    "import sys"
   ]
  },
  {
   "cell_type": "code",
   "execution_count": 2,
   "id": "c82dab84-2aa0-40bd-a49f-b8d87949463c",
   "metadata": {},
   "outputs": [],
   "source": [
    "import numpy as np\n",
    "import pandas as pd\n",
    "from tqdm import tqdm\n",
    "import h5py as h5"
   ]
  },
  {
   "cell_type": "markdown",
   "id": "e7563b82-8ece-4adf-b9c0-d344867c47d8",
   "metadata": {},
   "source": [
    "## Setup"
   ]
  },
  {
   "cell_type": "code",
   "execution_count": 3,
   "id": "a06ab0fb-9b21-46e8-bd45-ef0bf054992b",
   "metadata": {},
   "outputs": [],
   "source": [
    "DATESTR = '210902'\n",
    "NBNAME = DATESTR + '-mash-distances'"
   ]
  },
  {
   "cell_type": "code",
   "execution_count": 4,
   "id": "86daf368-86bf-4610-8add-cdd1230c29fa",
   "metadata": {},
   "outputs": [],
   "source": [
    "MASH_CMD = '/home/jared/opt/anaconda3/envs/gambit-bioconda/bin/mash'"
   ]
  },
  {
   "cell_type": "markdown",
   "id": "20450c2b-6595-4e15-93a0-cc1b53b19a19",
   "metadata": {},
   "source": [
    "### Paths"
   ]
  },
  {
   "cell_type": "code",
   "execution_count": 5,
   "id": "e6273b1f-22a8-4d1c-bc61-05d2c0233eda",
   "metadata": {},
   "outputs": [],
   "source": [
    "infiles = dict(\n",
    "    genomes=Path('data-intermediate/210902-get-genomes/genomes.csv'),\n",
    ")"
   ]
  },
  {
   "cell_type": "code",
   "execution_count": 6,
   "id": "254767d5-25f5-42be-8171-e1148f997947",
   "metadata": {
    "tags": []
   },
   "outputs": [],
   "source": [
    "tmpdir = Path('tmp')"
   ]
  },
  {
   "cell_type": "code",
   "execution_count": 7,
   "id": "14ea4949-f881-4a65-8a1b-a8d88fe7ba22",
   "metadata": {
    "tags": []
   },
   "outputs": [],
   "source": [
    "mash_dir = tmpdir / 'mash'\n",
    "mash_dir.mkdir(exist_ok=True)\n",
    "\n",
    "dists_dir = mash_dir / 'distances'\n",
    "dists_dir.mkdir(exist_ok=True)"
   ]
  },
  {
   "cell_type": "code",
   "execution_count": 8,
   "id": "bba19be9-ab15-4a7f-afaa-581e0130bb01",
   "metadata": {},
   "outputs": [],
   "source": [
    "INPUTS_FILE = mash_dir / 'files.txt'"
   ]
  },
  {
   "cell_type": "code",
   "execution_count": 9,
   "id": "95c4b055-7ab8-4e47-95b9-4105050d0a87",
   "metadata": {},
   "outputs": [],
   "source": [
    "intermediate_out = Path('data-intermediate') / NBNAME\n",
    "intermediate_out.mkdir(exist_ok=True)"
   ]
  },
  {
   "cell_type": "markdown",
   "id": "7fdbb2ef-f016-4756-8089-44ed81e21d38",
   "metadata": {},
   "source": [
    "## Load data"
   ]
  },
  {
   "cell_type": "code",
   "execution_count": 10,
   "id": "ad48f1dc-ec7f-47af-83c4-03b44586fe32",
   "metadata": {},
   "outputs": [],
   "source": [
    "genomes = pd.read_csv(infiles['genomes'], index_col='index')"
   ]
  },
  {
   "cell_type": "code",
   "execution_count": 11,
   "id": "48bedcd1-cd27-45dd-8b28-0c06ced3d445",
   "metadata": {},
   "outputs": [],
   "source": [
    "ngenomes = genomes.shape[0]"
   ]
  },
  {
   "cell_type": "code",
   "execution_count": 12,
   "id": "b20986cd-98a1-4441-9aa2-d7a9257de68e",
   "metadata": {},
   "outputs": [],
   "source": [
    "genome_files = [tmpdir / 'genomes' / (acc + '.fa.gz') for acc in genomes['assembly_accession']]"
   ]
  },
  {
   "cell_type": "markdown",
   "id": "004b74e3-390a-446c-ac83-753c38fd8e2d",
   "metadata": {},
   "source": [
    "## Parameters"
   ]
  },
  {
   "cell_type": "code",
   "execution_count": 13,
   "id": "e07167b2-6f92-402f-9d3b-7061768ca85e",
   "metadata": {},
   "outputs": [],
   "source": [
    "SKETCH_SIZES = [500, 1000, 5_000, 10_000]\n",
    "K_VALS = range(11, 32, 2)"
   ]
  },
  {
   "cell_type": "code",
   "execution_count": 14,
   "id": "ad18d92e-4ee3-49df-bd42-8b59406cfb7f",
   "metadata": {},
   "outputs": [],
   "source": [
    "PARAM_VALS = [(s, k) for s in SKETCH_SIZES for k in K_VALS]"
   ]
  },
  {
   "cell_type": "markdown",
   "id": "3b13f2ec-8712-41a1-b671-0d920d01dded",
   "metadata": {},
   "source": [
    "## Calculate distances"
   ]
  },
  {
   "cell_type": "code",
   "execution_count": 15,
   "id": "86819e20-f7a3-45b2-9592-5b3d26279692",
   "metadata": {},
   "outputs": [],
   "source": [
    "with open(INPUTS_FILE, 'w') as f:\n",
    "    for path in genome_files:\n",
    "        print(path, file=f)"
   ]
  },
  {
   "cell_type": "code",
   "execution_count": 16,
   "id": "11b31a75-8adb-46ba-87be-30f4cbb227a9",
   "metadata": {},
   "outputs": [],
   "source": [
    "dist_files = {(s, k): dists_dir / f's{s}-k{k}' for s, k in PARAM_VALS}"
   ]
  },
  {
   "cell_type": "code",
   "execution_count": 17,
   "id": "7ed51ed6-f180-4027-a73b-7d506d366674",
   "metadata": {},
   "outputs": [
    {
     "name": "stderr",
     "output_type": "stream",
     "text": [
      "100%|██████████| 44/44 [00:00<00:00, 27004.59it/s]\n"
     ]
    }
   ],
   "source": [
    "for (s, k), file in tqdm(dist_files.items()):\n",
    "    if file.is_file():\n",
    "        continue\n",
    "\n",
    "    cmd = [\n",
    "        MASH_CMD,\n",
    "        'triangle',\n",
    "        '-l', INPUTS_FILE,\n",
    "        '-s', s,\n",
    "        '-k', k,\n",
    "        '-p', 6,\n",
    "    ]\n",
    "    cmd = list(map(str, cmd))\n",
    "    \n",
    "    with open(file, 'w') as out:\n",
    "        result = run(cmd, stdout=out, stderr=PIPE)\n",
    "        \n",
    "    try:\n",
    "        result.check_returncode()\n",
    "    except:\n",
    "        file.unlink(missing_ok=True)\n",
    "        print(result.stderr.decode('ascii'))\n",
    "        raise\n",
    "    \n",
    "    with open(file.parent / (file.name + '.stderr'), 'wb') as f:\n",
    "        f.write(result.stderr)"
   ]
  },
  {
   "cell_type": "markdown",
   "id": "f75aeddb-297d-4975-bba9-2ec587309a95",
   "metadata": {},
   "source": [
    "## Assemble data"
   ]
  },
  {
   "cell_type": "code",
   "execution_count": 18,
   "id": "76e18974-dfc0-40d8-a61b-d8db6980c883",
   "metadata": {},
   "outputs": [],
   "source": [
    "def parse_phylip_matrix(f):\n",
    "    line = f.readline()\n",
    "    n = int(line.strip())\n",
    "    \n",
    "    for i, line in enumerate(f.readlines()):\n",
    "        id_, *values = line.strip().split('\\t')\n",
    "        assert len(values) == i\n",
    "        values = list(map(float, values))\n",
    "        yield id_, values"
   ]
  },
  {
   "cell_type": "code",
   "execution_count": 19,
   "id": "86740457-1708-4d90-ab95-712f2c33b87e",
   "metadata": {},
   "outputs": [],
   "source": [
    "npairs = ngenomes * (ngenomes - 1) // 2"
   ]
  },
  {
   "cell_type": "code",
   "execution_count": 20,
   "id": "eca4054a-8e31-4381-bdf0-40d2a2e98dad",
   "metadata": {},
   "outputs": [],
   "source": [
    "index1 = []\n",
    "index2 = []\n",
    "\n",
    "for i in range(ngenomes):\n",
    "    for j in range(i):\n",
    "        index1.append(i + 1)\n",
    "        index2.append(j + 1)\n",
    "        \n",
    "assert len(index1) == len(index2) == npairs"
   ]
  },
  {
   "cell_type": "code",
   "execution_count": 21,
   "id": "ef2244fc-899a-41fb-964b-44c9219178c7",
   "metadata": {},
   "outputs": [
    {
     "name": "stderr",
     "output_type": "stream",
     "text": [
      "100%|██████████| 44/44 [00:00<00:00, 46.88it/s]\n"
     ]
    }
   ],
   "source": [
    "dists = np.empty(shape=(len(PARAM_VALS), npairs), dtype=np.float32)\n",
    "\n",
    "for i, params in enumerate(tqdm(PARAM_VALS)):\n",
    "    with open(dist_files[params]) as f:\n",
    "        start = 0\n",
    "\n",
    "        for j, (id_, vals) in enumerate(parse_phylip_matrix(f)):\n",
    "            assert genomes.loc[j + 1, 'assembly_accession'] in id_\n",
    "\n",
    "            if j > 0:\n",
    "                dists[i, start:start+j] = vals\n",
    "\n",
    "            start += j\n",
    "\n",
    "        assert start == npairs"
   ]
  },
  {
   "cell_type": "code",
   "execution_count": 22,
   "id": "2b6f4c96-bf25-4964-80fe-3f950bf3f70e",
   "metadata": {},
   "outputs": [],
   "source": [
    "dists_df = pd.DataFrame(dists.T)\n",
    "\n",
    "params_to_col = {(s, k): f's{s}-k{k}' for (s, k) in PARAM_VALS}\n",
    "dists_df.columns = [params_to_col[p] for p in PARAM_VALS]"
   ]
  },
  {
   "cell_type": "markdown",
   "id": "b3d5734f-2871-4ee7-9f8c-64c7f6a3d291",
   "metadata": {},
   "source": [
    "## Copy data to HDF5 file"
   ]
  },
  {
   "cell_type": "code",
   "execution_count": 23,
   "id": "2af1f466-0004-4c3c-a5c0-a8434689f4b5",
   "metadata": {},
   "outputs": [],
   "source": [
    "with h5.File(str(intermediate_out / 'mash-distances.h5'), 'w') as f:\n",
    "    f.create_dataset('k', dtype=int, data=[k for (s, k) in PARAM_VALS])\n",
    "    f.create_dataset('sketch_size', dtype=int, data=[s for (s, k) in PARAM_VALS])\n",
    "    \n",
    "    f.create_dataset('index1', dtype=int, data=index1)\n",
    "    f.create_dataset('index2', dtype=int, data=index2)\n",
    "    \n",
    "    f.create_dataset('distances', dtype=np.float32, data=dists)"
   ]
  }
 ],
 "metadata": {
  "kernelspec": {
   "display_name": "GAMBIT",
   "language": "python",
   "name": "gambit"
  },
  "language_info": {
   "codemirror_mode": {
    "name": "ipython",
    "version": 3
   },
   "file_extension": ".py",
   "mimetype": "text/x-python",
   "name": "python",
   "nbconvert_exporter": "python",
   "pygments_lexer": "ipython3",
   "version": "3.9.5"
  }
 },
 "nbformat": 4,
 "nbformat_minor": 5
}
