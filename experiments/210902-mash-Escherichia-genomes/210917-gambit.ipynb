{
 "cells": [
  {
   "cell_type": "markdown",
   "id": "2195bec5-ddef-4f30-aa9d-a184315e9265",
   "metadata": {},
   "source": [
    "# 210917 Gambit"
   ]
  },
  {
   "cell_type": "code",
   "execution_count": 1,
   "id": "38c9e0e9-4183-4db1-8761-882c5d106c47",
   "metadata": {},
   "outputs": [],
   "source": [
    "from pathlib import Path"
   ]
  },
  {
   "cell_type": "code",
   "execution_count": 2,
   "id": "c82dab84-2aa0-40bd-a49f-b8d87949463c",
   "metadata": {},
   "outputs": [],
   "source": [
    "import numpy as np\n",
    "import pandas as pd\n",
    "import h5py as h5\n",
    "from tqdm import tqdm"
   ]
  },
  {
   "cell_type": "code",
   "execution_count": 3,
   "id": "e1c73d28-c101-4664-835d-5e4a82b1b47e",
   "metadata": {},
   "outputs": [],
   "source": [
    "from gambit.kmers import KmerSpec\n",
    "from gambit.search import calc_file_signatures\n",
    "from gambit.io.seq import SequenceFile\n",
    "from gambit.signatures import SignatureArray\n",
    "from gambit.signatures.hdf5 import HDF5Signatures\n",
    "from gambit.metric import jaccard_sparse_matrix\n",
    "from gambit.test import random_seq"
   ]
  },
  {
   "cell_type": "markdown",
   "id": "e7563b82-8ece-4adf-b9c0-d344867c47d8",
   "metadata": {},
   "source": [
    "## Setup"
   ]
  },
  {
   "cell_type": "code",
   "execution_count": 4,
   "id": "3c421530-9244-4bc4-b419-6fe6839b57cf",
   "metadata": {},
   "outputs": [],
   "source": [
    "DATESTR = '210917'\n",
    "NBNAME = DATESTR + '-gambit'"
   ]
  },
  {
   "cell_type": "code",
   "execution_count": 5,
   "id": "34c90aa8-c9fc-4bb2-b2e0-b2c1460ebdc9",
   "metadata": {
    "tags": []
   },
   "outputs": [],
   "source": [
    "tmpdir = Path('tmp')\n",
    "\n",
    "gambit_dir = tmpdir / 'gambit'\n",
    "gambit_dir.mkdir(exist_ok=True)\n",
    "\n",
    "signatures_dir = gambit_dir / 'signatures'\n",
    "signatures_dir.mkdir(exist_ok=True)"
   ]
  },
  {
   "cell_type": "code",
   "execution_count": 6,
   "id": "4488761a-6342-4cd3-adaa-015e8da75c3f",
   "metadata": {},
   "outputs": [],
   "source": [
    "infiles = dict(\n",
    "    genomes=Path('data-processed/210902-get-genomes/210902-mash-genomes-filtered.csv'),\n",
    ")"
   ]
  },
  {
   "cell_type": "code",
   "execution_count": 7,
   "id": "14837839-f147-4cc5-b362-d27d5aced236",
   "metadata": {},
   "outputs": [],
   "source": [
    "intermediate_out = Path('data-intermediate') / NBNAME\n",
    "intermediate_out.mkdir(exist_ok=True)"
   ]
  },
  {
   "cell_type": "markdown",
   "id": "e6ada79b-13da-4cf7-a23b-659a66902b0a",
   "metadata": {},
   "source": [
    "## Load data"
   ]
  },
  {
   "cell_type": "code",
   "execution_count": 8,
   "id": "9fb8e064-02f3-44b4-931f-fb636712bea8",
   "metadata": {},
   "outputs": [],
   "source": [
    "genomes_df = pd.read_csv(infiles['genomes'], index_col='index')"
   ]
  },
  {
   "cell_type": "code",
   "execution_count": 9,
   "id": "2328ec67-86d4-4f94-ac61-8da9bc328416",
   "metadata": {},
   "outputs": [],
   "source": [
    "genome_paths = [tmpdir / f'genomes/{acc}.fa.gz' for acc in genomes_df['assembly_accession']]\n",
    "genome_files = SequenceFile.from_paths(genome_paths, 'fasta', 'gzip')"
   ]
  },
  {
   "cell_type": "code",
   "execution_count": 10,
   "id": "d7c8e84a-bc86-443e-9d70-54add6d0551e",
   "metadata": {},
   "outputs": [],
   "source": [
    "ngenomes = genomes_df.shape[0]"
   ]
  },
  {
   "cell_type": "markdown",
   "id": "f61928ad-f8d6-4996-a353-d8860366fd32",
   "metadata": {},
   "source": [
    "## Parameters"
   ]
  },
  {
   "cell_type": "code",
   "execution_count": 11,
   "id": "94896fdc-0cdc-4481-866c-d705af98f4ec",
   "metadata": {},
   "outputs": [],
   "source": [
    "PREFIX_LENGTHS = range(4, 8)"
   ]
  },
  {
   "cell_type": "code",
   "execution_count": 12,
   "id": "b1629f6a-44a3-4214-befa-df88af13f57d",
   "metadata": {},
   "outputs": [],
   "source": [
    "K_VALS = range(7, 18, 2)"
   ]
  },
  {
   "cell_type": "code",
   "execution_count": 13,
   "id": "8b6fdc79-553a-4dc5-86b0-04231a762fd8",
   "metadata": {},
   "outputs": [
    {
     "data": {
      "text/plain": [
       "[b'ATGACTG',\n",
       " b'ATCATTT',\n",
       " b'TCTCGAT',\n",
       " b'GAAAGCG',\n",
       " b'TTGACCC',\n",
       " b'CACATAT',\n",
       " b'CGTTAGT',\n",
       " b'ACTCTTG']"
      ]
     },
     "execution_count": 13,
     "metadata": {},
     "output_type": "execute_result"
    }
   ],
   "source": [
    "BASE_PREFIXES = [b'ATGACTG']\n",
    "\n",
    "np.random.seed(0)\n",
    "for i in range(7):\n",
    "    BASE_PREFIXES.append(random_seq(len(BASE_PREFIXES[0])))\n",
    "    \n",
    "BASE_PREFIXES"
   ]
  },
  {
   "cell_type": "markdown",
   "id": "2eaa22b6-d2af-4ec6-ae1c-20d61df4e6af",
   "metadata": {},
   "source": [
    "### Combine"
   ]
  },
  {
   "cell_type": "code",
   "execution_count": 14,
   "id": "1dd7a837-b717-482c-a37c-5055fc8ecd84",
   "metadata": {},
   "outputs": [],
   "source": [
    "_rows = []\n",
    "\n",
    "for k in K_VALS:\n",
    "    for l in PREFIX_LENGTHS:\n",
    "        for (i, base_prefix) in enumerate(BASE_PREFIXES):\n",
    "            _rows.append((l, i, base_prefix[:l].decode('ascii'), k))\n",
    "            \n",
    "params_df = pd.DataFrame.from_records(_rows, columns=['prefix_len', 'prefix_version', 'prefix', 'k'])"
   ]
  },
  {
   "cell_type": "code",
   "execution_count": 15,
   "id": "69af9674-9740-4f0d-8bf0-77e35584dfc3",
   "metadata": {},
   "outputs": [
    {
     "data": {
      "text/html": [
       "<div>\n",
       "<style scoped>\n",
       "    .dataframe tbody tr th:only-of-type {\n",
       "        vertical-align: middle;\n",
       "    }\n",
       "\n",
       "    .dataframe tbody tr th {\n",
       "        vertical-align: top;\n",
       "    }\n",
       "\n",
       "    .dataframe thead th {\n",
       "        text-align: right;\n",
       "    }\n",
       "</style>\n",
       "<table border=\"1\" class=\"dataframe\">\n",
       "  <thead>\n",
       "    <tr style=\"text-align: right;\">\n",
       "      <th></th>\n",
       "      <th>prefix_len</th>\n",
       "      <th>prefix_version</th>\n",
       "      <th>prefix</th>\n",
       "      <th>k</th>\n",
       "    </tr>\n",
       "  </thead>\n",
       "  <tbody>\n",
       "    <tr>\n",
       "      <th>0</th>\n",
       "      <td>4</td>\n",
       "      <td>0</td>\n",
       "      <td>ATGA</td>\n",
       "      <td>7</td>\n",
       "    </tr>\n",
       "    <tr>\n",
       "      <th>1</th>\n",
       "      <td>4</td>\n",
       "      <td>1</td>\n",
       "      <td>ATCA</td>\n",
       "      <td>7</td>\n",
       "    </tr>\n",
       "    <tr>\n",
       "      <th>2</th>\n",
       "      <td>4</td>\n",
       "      <td>2</td>\n",
       "      <td>TCTC</td>\n",
       "      <td>7</td>\n",
       "    </tr>\n",
       "    <tr>\n",
       "      <th>3</th>\n",
       "      <td>4</td>\n",
       "      <td>3</td>\n",
       "      <td>GAAA</td>\n",
       "      <td>7</td>\n",
       "    </tr>\n",
       "    <tr>\n",
       "      <th>4</th>\n",
       "      <td>4</td>\n",
       "      <td>4</td>\n",
       "      <td>TTGA</td>\n",
       "      <td>7</td>\n",
       "    </tr>\n",
       "    <tr>\n",
       "      <th>...</th>\n",
       "      <td>...</td>\n",
       "      <td>...</td>\n",
       "      <td>...</td>\n",
       "      <td>...</td>\n",
       "    </tr>\n",
       "    <tr>\n",
       "      <th>187</th>\n",
       "      <td>7</td>\n",
       "      <td>3</td>\n",
       "      <td>GAAAGCG</td>\n",
       "      <td>17</td>\n",
       "    </tr>\n",
       "    <tr>\n",
       "      <th>188</th>\n",
       "      <td>7</td>\n",
       "      <td>4</td>\n",
       "      <td>TTGACCC</td>\n",
       "      <td>17</td>\n",
       "    </tr>\n",
       "    <tr>\n",
       "      <th>189</th>\n",
       "      <td>7</td>\n",
       "      <td>5</td>\n",
       "      <td>CACATAT</td>\n",
       "      <td>17</td>\n",
       "    </tr>\n",
       "    <tr>\n",
       "      <th>190</th>\n",
       "      <td>7</td>\n",
       "      <td>6</td>\n",
       "      <td>CGTTAGT</td>\n",
       "      <td>17</td>\n",
       "    </tr>\n",
       "    <tr>\n",
       "      <th>191</th>\n",
       "      <td>7</td>\n",
       "      <td>7</td>\n",
       "      <td>ACTCTTG</td>\n",
       "      <td>17</td>\n",
       "    </tr>\n",
       "  </tbody>\n",
       "</table>\n",
       "<p>192 rows × 4 columns</p>\n",
       "</div>"
      ],
      "text/plain": [
       "     prefix_len  prefix_version   prefix   k\n",
       "0             4               0     ATGA   7\n",
       "1             4               1     ATCA   7\n",
       "2             4               2     TCTC   7\n",
       "3             4               3     GAAA   7\n",
       "4             4               4     TTGA   7\n",
       "..          ...             ...      ...  ..\n",
       "187           7               3  GAAAGCG  17\n",
       "188           7               4  TTGACCC  17\n",
       "189           7               5  CACATAT  17\n",
       "190           7               6  CGTTAGT  17\n",
       "191           7               7  ACTCTTG  17\n",
       "\n",
       "[192 rows x 4 columns]"
      ]
     },
     "execution_count": 15,
     "metadata": {},
     "output_type": "execute_result"
    }
   ],
   "source": [
    "params_df"
   ]
  },
  {
   "cell_type": "code",
   "execution_count": 16,
   "id": "9d17d084-2e66-419c-8375-0d8e2473cf03",
   "metadata": {
    "tags": []
   },
   "outputs": [],
   "source": [
    "KSPECS = [KmerSpec(row.k, row.prefix) for row in params_df.itertuples()]"
   ]
  },
  {
   "cell_type": "code",
   "execution_count": 17,
   "id": "eb931bf7-a5ce-4490-90f1-a4eb03ba79f6",
   "metadata": {},
   "outputs": [
    {
     "data": {
      "text/plain": [
       "192"
      ]
     },
     "execution_count": 17,
     "metadata": {},
     "output_type": "execute_result"
    }
   ],
   "source": [
    "len(KSPECS)"
   ]
  },
  {
   "cell_type": "markdown",
   "id": "422fa322-c706-4204-8fac-862af15635b7",
   "metadata": {},
   "source": [
    "## Calculate signatures"
   ]
  },
  {
   "cell_type": "code",
   "execution_count": 18,
   "id": "abd644c3-0d29-4cbb-bf6a-c6e80894a8bd",
   "metadata": {},
   "outputs": [],
   "source": [
    "signature_files = {kspec: signatures_dir / f'{kspec.k}-{kspec.prefix_str}.h5' for kspec in KSPECS}"
   ]
  },
  {
   "cell_type": "code",
   "execution_count": 19,
   "id": "22895bf0-7f6d-4629-a517-ae46d763ed48",
   "metadata": {},
   "outputs": [],
   "source": [
    "for i, kspec in enumerate(KSPECS):\n",
    "    file = signature_files[kspec]\n",
    "    if file.is_file():\n",
    "        continue\n",
    "        \n",
    "    print(i, kspec.k, kspec.prefix_str)\n",
    "    sigs = calc_file_signatures(kspec, genome_files, progress='tqdm', concurrency='processes', max_workers=12)\n",
    "    sigs = SignatureArray(sigs, dtype=kspec.index_dtype)\n",
    "    \n",
    "    with h5.File(file, 'w') as f:\n",
    "        HDF5Signatures.create(f, kspec, sigs, genomes_df['assembly_accession'])"
   ]
  },
  {
   "cell_type": "markdown",
   "id": "2b610762-0964-49b2-85d1-cf3e4cf11d5a",
   "metadata": {},
   "source": [
    "## Pairwise distances"
   ]
  },
  {
   "cell_type": "code",
   "execution_count": 20,
   "id": "1e6adf0a-5033-4013-88a0-d68b99395b5a",
   "metadata": {},
   "outputs": [],
   "source": [
    "gi1, gi2 = np.tril_indices(ngenomes, -1)\n",
    "npairs = len(gi1)"
   ]
  },
  {
   "cell_type": "code",
   "execution_count": 21,
   "id": "839f4d64-2219-4f45-9c8a-8b818d96e783",
   "metadata": {},
   "outputs": [],
   "source": [
    "dists_square = np.empty((ngenomes, ngenomes), dtype=np.float32)\n",
    "dists_flat = np.empty((len(KSPECS), npairs), dtype=np.float32)\n",
    "kmer_counts = np.empty((len(KSPECS), ngenomes), dtype=int)"
   ]
  },
  {
   "cell_type": "code",
   "execution_count": 22,
   "id": "f2938692-a316-482e-8805-c43637548168",
   "metadata": {},
   "outputs": [
    {
     "name": "stderr",
     "output_type": "stream",
     "text": [
      "100%|██████████| 192/192 [08:21<00:00,  2.61s/it]\n"
     ]
    }
   ],
   "source": [
    "for i, kspec in enumerate(tqdm(KSPECS)):\n",
    "    with HDF5Signatures.open(signature_files[kspec]) as h5sigs:\n",
    "        sigs = h5sigs[:]\n",
    "\n",
    "    jaccard_sparse_matrix(sigs, sigs, out=dists_square, distance=True)\n",
    "    dists_flat[i, :] = dists_square[gi1, gi2]\n",
    "    \n",
    "    kmer_counts[i, :] = sigs.sizes()"
   ]
  },
  {
   "cell_type": "markdown",
   "id": "c66a7ecc-e4c6-46b1-852b-214240ace188",
   "metadata": {},
   "source": [
    "## Save"
   ]
  },
  {
   "cell_type": "code",
   "execution_count": 23,
   "id": "959df7a3-130a-426b-ae33-4359cc6db99f",
   "metadata": {},
   "outputs": [],
   "source": [
    "params_df.to_csv(intermediate_out / 'params.csv', index=False)"
   ]
  },
  {
   "cell_type": "code",
   "execution_count": 25,
   "id": "8d32cc27-1c7f-4b8d-a202-048ad426e568",
   "metadata": {},
   "outputs": [],
   "source": [
    "with h5.File(intermediate_out / 'pairwise-dists.h5', 'w') as f:\n",
    "    f.create_dataset('genome1', data=gi1 + 1)\n",
    "    f.create_dataset('genome2', data=gi2 + 1)\n",
    "    f.create_dataset('pw_dists', data=dists_flat)\n",
    "    f.create_dataset('kmer_counts', data=kmer_counts)"
   ]
  }
 ],
 "metadata": {
  "kernelspec": {
   "display_name": "GAMBIT",
   "language": "python",
   "name": "gambit"
  },
  "language_info": {
   "codemirror_mode": {
    "name": "ipython",
    "version": 3
   },
   "file_extension": ".py",
   "mimetype": "text/x-python",
   "name": "python",
   "nbconvert_exporter": "python",
   "pygments_lexer": "ipython3",
   "version": "3.9.5"
  }
 },
 "nbformat": 4,
 "nbformat_minor": 5
}
