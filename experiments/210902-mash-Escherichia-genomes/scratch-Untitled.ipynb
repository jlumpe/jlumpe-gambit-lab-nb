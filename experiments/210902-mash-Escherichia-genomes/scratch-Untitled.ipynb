{
 "cells": [
  {
   "cell_type": "code",
   "execution_count": 1,
   "id": "4d9db1a7-e11b-4a7f-8a8c-139a0228c690",
   "metadata": {},
   "outputs": [],
   "source": [
    "from pathlib import Path"
   ]
  },
  {
   "cell_type": "code",
   "execution_count": 50,
   "id": "ce35ea4e-20b6-4a8c-aee3-4eb62df3e1ab",
   "metadata": {},
   "outputs": [],
   "source": [
    "import numpy as np\n",
    "import matplotlib.pyplot as plt\n",
    "import seaborn as sns"
   ]
  },
  {
   "cell_type": "code",
   "execution_count": 19,
   "id": "bdd5412b-591e-49c6-a656-969f3c233b3d",
   "metadata": {},
   "outputs": [],
   "source": [
    "from gambit.kmers import index_to_kmer\n",
    "\n",
    "from gambit.signatures.hdf5 import HDF5Signatures"
   ]
  },
  {
   "cell_type": "code",
   "execution_count": 51,
   "id": "4fc1b97e-3d41-402f-91b2-1989be4a28eb",
   "metadata": {},
   "outputs": [],
   "source": [
    "%matplotlib inline"
   ]
  },
  {
   "cell_type": "markdown",
   "id": "089d3b9a-adde-4a1b-bbc5-f19d49078a6f",
   "metadata": {},
   "source": [
    "## Load data"
   ]
  },
  {
   "cell_type": "code",
   "execution_count": 4,
   "id": "21d6ba6c-1812-4cf8-b110-fbe00018e989",
   "metadata": {},
   "outputs": [],
   "source": [
    "sigs = HDF5Signatures.open('tmp/gambit/signatures/11-ATGAC.h5')"
   ]
  },
  {
   "cell_type": "markdown",
   "id": "0c703db5-f040-4901-8418-ad82afbf32c3",
   "metadata": {},
   "source": [
    "## Funcs"
   ]
  },
  {
   "cell_type": "code",
   "execution_count": 37,
   "id": "baf8d211-68df-474b-b90c-4ae6e10e48bc",
   "metadata": {},
   "outputs": [],
   "source": [
    "def get_kmer_nuccodes(index, out):\n",
    "    k = len(out)\n",
    "    for i in reversed(range(k)):\n",
    "        out[i] = index & 0b11\n",
    "        index >>= 2\n",
    "    return out"
   ]
  },
  {
   "cell_type": "code",
   "execution_count": 56,
   "id": "a27003fa-69ca-4429-ab59-563b8b5f322d",
   "metadata": {},
   "outputs": [],
   "source": [
    "def count_nuccodes(sig, k, counts=None):\n",
    "    if counts is None:\n",
    "        counts = np.zeros((4, k), dtype=int)\n",
    "        \n",
    "    codes = np.zeros(k, dtype=np.uint8)\n",
    "    \n",
    "    for index in sig:\n",
    "        get_kmer_nuccodes(index, codes)\n",
    "        counts[codes, range(k)] += 1\n",
    "        \n",
    "    return counts"
   ]
  },
  {
   "cell_type": "markdown",
   "id": "22284493-45b4-4b16-aace-c2266e05481a",
   "metadata": {},
   "source": [
    "## ?"
   ]
  },
  {
   "cell_type": "code",
   "execution_count": 26,
   "id": "84354204-6ac3-44d7-b95d-f73eac2307df",
   "metadata": {},
   "outputs": [],
   "source": [
    "k = 11\n",
    "a = np.zeros(k, dtype=np.uint8)"
   ]
  },
  {
   "cell_type": "code",
   "execution_count": 58,
   "id": "714fd4b5-d1b9-4b73-ae98-0990fb90bc7a",
   "metadata": {},
   "outputs": [
    {
     "data": {
      "text/plain": [
       "<AxesSubplot:>"
      ]
     },
     "execution_count": 58,
     "metadata": {},
     "output_type": "execute_result"
    },
    {
     "data": {
      "image/png": "[encoded data removed]",
      "text/plain": [
       "<Figure size 576x432 with 2 Axes>"
      ]
     },
     "metadata": {
      "needs_background": "light"
     },
     "output_type": "display_data"
    }
   ],
   "source": [
    "_sig = sigs[0]\n",
    "counts = get_nuc_counts(_sig, k)\n",
    "sns.heatmap(counts / len(_sig), cmap='RdBu', center=.25)"
   ]
  },
  {
   "cell_type": "code",
   "execution_count": 60,
   "id": "ea622501-a234-428e-a7d7-e6d2011cf3d4",
   "metadata": {},
   "outputs": [
    {
     "data": {
      "text/plain": [
       "<AxesSubplot:>"
      ]
     },
     "execution_count": 60,
     "metadata": {},
     "output_type": "execute_result"
    },
    {
     "data": {
      "image/png": "[encoded data removed]",
      "text/plain": [
       "<Figure size 576x432 with 2 Axes>"
      ]
     },
     "metadata": {
      "needs_background": "light"
     },
     "output_type": "display_data"
    }
   ],
   "source": [
    "_sig = sigs[1]\n",
    "counts = get_nuc_counts(_sig, k)\n",
    "sns.heatmap(counts / len(_sig), cmap='RdBu', center=.25)"
   ]
  },
  {
   "cell_type": "code",
   "execution_count": null,
   "id": "22a7ba19-33dd-4c36-b603-176bddccc11d",
   "metadata": {},
   "outputs": [],
   "source": []
  },
  {
   "cell_type": "code",
   "execution_count": null,
   "id": "2278f6ca-d6d4-4bc0-959a-12f9e85d09f8",
   "metadata": {},
   "outputs": [],
   "source": []
  },
  {
   "cell_type": "code",
   "execution_count": null,
   "id": "7713e6b0-56b6-40d7-862f-8e387f736847",
   "metadata": {},
   "outputs": [],
   "source": []
  }
 ],
 "metadata": {
  "kernelspec": {
   "display_name": "GAMBIT",
   "language": "python",
   "name": "gambit"
  },
  "language_info": {
   "codemirror_mode": {
    "name": "ipython",
    "version": 3
   },
   "file_extension": ".py",
   "mimetype": "text/x-python",
   "name": "python",
   "nbconvert_exporter": "python",
   "pygments_lexer": "ipython3",
   "version": "3.9.7"
  }
 },
 "nbformat": 4,
 "nbformat_minor": 5
}
