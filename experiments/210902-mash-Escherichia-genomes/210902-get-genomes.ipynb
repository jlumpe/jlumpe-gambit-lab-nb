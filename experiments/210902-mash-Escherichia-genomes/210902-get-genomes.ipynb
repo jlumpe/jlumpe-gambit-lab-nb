{
 "cells": [
  {
   "cell_type": "code",
   "execution_count": 1,
   "id": "68600ca5-729f-441a-a992-0fa20a9b2ff3",
   "metadata": {},
   "outputs": [],
   "source": [
    "from pathlib import Path\n",
    "import json\n",
    "import re\n",
    "from urllib.request import urlretrieve"
   ]
  },
  {
   "cell_type": "code",
   "execution_count": 2,
   "id": "2fc61f04-98a8-4bdd-8894-15b515b955ee",
   "metadata": {},
   "outputs": [],
   "source": [
    "import pandas as pd\n",
    "import numpy as np\n",
    "from tqdm import tqdm"
   ]
  },
  {
   "cell_type": "code",
   "execution_count": 3,
   "id": "ad3f6373-879a-461a-8801-b519a57ab93f",
   "metadata": {},
   "outputs": [],
   "source": [
    "from Bio import Entrez\n",
    "\n",
    "Entrez.email = 'mjlumpe@gmail.com'"
   ]
  },
  {
   "cell_type": "markdown",
   "id": "791233d3-0cfc-44ca-bce3-b1a7709c5784",
   "metadata": {},
   "source": [
    "## Setup"
   ]
  },
  {
   "cell_type": "code",
   "execution_count": 4,
   "id": "5c5d747e-24a9-4f70-9ee8-fab5f6d6d1af",
   "metadata": {},
   "outputs": [],
   "source": [
    "DATESTR = '210902'\n",
    "NBNAME = DATESTR + '-get-genomes'"
   ]
  },
  {
   "cell_type": "code",
   "execution_count": 5,
   "id": "fa40d8aa-458c-48ff-a126-7a1f3316b331",
   "metadata": {},
   "outputs": [],
   "source": [
    "infiles = dict(\n",
    "    ids=Path('/home/jared/projects/gambit/data/external/mash/Escherichia/ids.txt'),\n",
    ")"
   ]
  },
  {
   "cell_type": "code",
   "execution_count": 6,
   "id": "a6f1b246-9aae-4ca6-97fa-66446789c242",
   "metadata": {},
   "outputs": [],
   "source": [
    "processed_out = Path('data-processed') / NBNAME\n",
    "processed_out.mkdir(exist_ok=True)"
   ]
  },
  {
   "cell_type": "code",
   "execution_count": 7,
   "id": "0a49723a-e784-4dd8-97be-5f96c6de1a44",
   "metadata": {},
   "outputs": [],
   "source": [
    "intermediate_out = Path('data-intermediate') / NBNAME\n",
    "intermediate_out.mkdir(exist_ok=True)"
   ]
  },
  {
   "cell_type": "code",
   "execution_count": 8,
   "id": "ba2cf27d-34eb-46e4-9fc4-fdfb410882d2",
   "metadata": {},
   "outputs": [],
   "source": [
    "# Shared between notebooks\n",
    "tmpdir = Path('tmp')\n",
    "tmpdir.mkdir(exist_ok=True)"
   ]
  },
  {
   "cell_type": "code",
   "execution_count": 9,
   "id": "83322c73-bb86-480c-89d7-8c4bc11be9e9",
   "metadata": {},
   "outputs": [],
   "source": [
    "# For this notebook only\n",
    "nb_tmpdir = tmpdir / 'notebooks' / NBNAME\n",
    "nb_tmpdir.mkdir(exist_ok=True, parents=True)"
   ]
  },
  {
   "cell_type": "markdown",
   "id": "0adfbfe3-b230-4634-a665-dc6cdcb70641",
   "metadata": {},
   "source": [
    "## Load and format data"
   ]
  },
  {
   "cell_type": "code",
   "execution_count": 10,
   "id": "ab9cdc20-0a2b-4861-8a8c-aabf2d072b03",
   "metadata": {},
   "outputs": [],
   "source": [
    "_rows = []\n",
    "\n",
    "with open(infiles['ids']) as f:\n",
    "    for i, line in enumerate(f):\n",
    "        m = re.fullmatch(r'^(\\d+)\\trefseq-(.*).fna\\n$', line)\n",
    "        index = int(m.group(1))\n",
    "        rest = m.group(2).split('-')\n",
    "        \n",
    "        assert index == i + 1\n",
    "        _rows.append((index, *rest))\n",
    "\n",
    "df = pd.DataFrame.from_records(_rows, columns=['index', 'col1', 'col2', 'col3-bioproject', 'col4-biosample', 'col5', 'col6', 'col7-organism'])\n",
    "df.set_index('index', inplace=True)"
   ]
  },
  {
   "cell_type": "markdown",
   "id": "1a506a81-9b35-463f-91c3-1733fe1f5d2f",
   "metadata": {},
   "source": [
    "Dots are used for nulls?"
   ]
  },
  {
   "cell_type": "code",
   "execution_count": 11,
   "id": "775ada60-4983-478b-84a9-7a1c907ff88a",
   "metadata": {},
   "outputs": [],
   "source": [
    "df[df == '.'] = None"
   ]
  },
  {
   "cell_type": "markdown",
   "id": "d571a0bf-227a-43e8-b53f-2b3a60ee45cc",
   "metadata": {},
   "source": [
    "This column seems to be all dots"
   ]
  },
  {
   "cell_type": "code",
   "execution_count": 12,
   "id": "239d28ee-ec9c-405f-8876-bbd743776234",
   "metadata": {},
   "outputs": [],
   "source": [
    "assert all(value is None for value in df['col6'])\n",
    "del df['col6']"
   ]
  },
  {
   "cell_type": "markdown",
   "id": "a49bee0d-8ffd-4f90-9535-e1303481b2c3",
   "metadata": {},
   "source": [
    "Identify assembly accessions from column 5"
   ]
  },
  {
   "cell_type": "code",
   "execution_count": 13,
   "id": "6183ce4e-4b90-446e-8cae-d2eb9aaf8003",
   "metadata": {},
   "outputs": [],
   "source": [
    "df['col5_is_acc'] = df['col5'].str.match('GCF_', na=False)"
   ]
  },
  {
   "cell_type": "markdown",
   "id": "f62f0f87-a962-456a-9f04-2f81f6769ede",
   "metadata": {},
   "source": [
    "### Summary"
   ]
  },
  {
   "cell_type": "code",
   "execution_count": 14,
   "id": "d4bb75c5-7ff1-4fd9-b830-c088135f9433",
   "metadata": {},
   "outputs": [
    {
     "data": {
      "text/plain": [
       "col1               500\n",
       "col2               500\n",
       "col3-bioproject    499\n",
       "col4-biosample     489\n",
       "col5               494\n",
       "col7-organism      500\n",
       "col5_is_acc        500\n",
       "dtype: int64"
      ]
     },
     "execution_count": 14,
     "metadata": {},
     "output_type": "execute_result"
    }
   ],
   "source": [
    "df.aggregate('count')"
   ]
  },
  {
   "cell_type": "code",
   "execution_count": 15,
   "id": "03df0a49-b75e-48e2-a829-7c36c517d8d8",
   "metadata": {},
   "outputs": [
    {
     "data": {
      "text/html": [
       "<div>\n",
       "<style scoped>\n",
       "    .dataframe tbody tr th:only-of-type {\n",
       "        vertical-align: middle;\n",
       "    }\n",
       "\n",
       "    .dataframe tbody tr th {\n",
       "        vertical-align: top;\n",
       "    }\n",
       "\n",
       "    .dataframe thead th {\n",
       "        text-align: right;\n",
       "    }\n",
       "</style>\n",
       "<table border=\"1\" class=\"dataframe\">\n",
       "  <thead>\n",
       "    <tr style=\"text-align: right;\">\n",
       "      <th></th>\n",
       "      <th>col1</th>\n",
       "      <th>col2</th>\n",
       "      <th>col3-bioproject</th>\n",
       "      <th>col4-biosample</th>\n",
       "      <th>col5</th>\n",
       "      <th>col7-organism</th>\n",
       "      <th>col5_is_acc</th>\n",
       "    </tr>\n",
       "    <tr>\n",
       "      <th>index</th>\n",
       "      <th></th>\n",
       "      <th></th>\n",
       "      <th></th>\n",
       "      <th></th>\n",
       "      <th></th>\n",
       "      <th></th>\n",
       "      <th></th>\n",
       "    </tr>\n",
       "  </thead>\n",
       "  <tbody>\n",
       "    <tr>\n",
       "      <th>1</th>\n",
       "      <td>NZ</td>\n",
       "      <td>1115511</td>\n",
       "      <td>PRJNA224116</td>\n",
       "      <td>SAMD00019863</td>\n",
       "      <td>GCF_000759775.1</td>\n",
       "      <td>Escherichia_albertii_NBRC_107761</td>\n",
       "      <td>True</td>\n",
       "    </tr>\n",
       "    <tr>\n",
       "      <th>2</th>\n",
       "      <td>NZ</td>\n",
       "      <td>1115512</td>\n",
       "      <td>PRJNA224116</td>\n",
       "      <td>None</td>\n",
       "      <td>NZ_BAFF</td>\n",
       "      <td>Escherichia_hermannii_NBRC_105704</td>\n",
       "      <td>False</td>\n",
       "    </tr>\n",
       "    <tr>\n",
       "      <th>3</th>\n",
       "      <td>NZ</td>\n",
       "      <td>1115515</td>\n",
       "      <td>PRJNA224116</td>\n",
       "      <td>SAMD00018687</td>\n",
       "      <td>GCF_000759795.1</td>\n",
       "      <td>Escherichia_vulneris_NBRC_102420</td>\n",
       "      <td>True</td>\n",
       "    </tr>\n",
       "    <tr>\n",
       "      <th>4</th>\n",
       "      <td>NZ</td>\n",
       "      <td>1169321</td>\n",
       "      <td>PRJNA224116</td>\n",
       "      <td>SAMN00847639</td>\n",
       "      <td>GCF_000407765.1</td>\n",
       "      <td>Escherichia_sp._KTE114</td>\n",
       "      <td>True</td>\n",
       "    </tr>\n",
       "    <tr>\n",
       "      <th>5</th>\n",
       "      <td>NZ</td>\n",
       "      <td>1169331</td>\n",
       "      <td>PRJNA224116</td>\n",
       "      <td>SAMN00847649</td>\n",
       "      <td>GCF_000350705.1</td>\n",
       "      <td>Escherichia_sp._KTE11</td>\n",
       "      <td>True</td>\n",
       "    </tr>\n",
       "    <tr>\n",
       "      <th>...</th>\n",
       "      <td>...</td>\n",
       "      <td>...</td>\n",
       "      <td>...</td>\n",
       "      <td>...</td>\n",
       "      <td>...</td>\n",
       "      <td>...</td>\n",
       "      <td>...</td>\n",
       "    </tr>\n",
       "    <tr>\n",
       "      <th>496</th>\n",
       "      <td>NZ</td>\n",
       "      <td>869672</td>\n",
       "      <td>PRJNA179711</td>\n",
       "      <td>SAMN02436638</td>\n",
       "      <td>NZ_AEZL</td>\n",
       "      <td>Escherichia_coli_97.0259</td>\n",
       "      <td>False</td>\n",
       "    </tr>\n",
       "    <tr>\n",
       "      <th>497</th>\n",
       "      <td>NZ</td>\n",
       "      <td>869679</td>\n",
       "      <td>PRJNA179715</td>\n",
       "      <td>SAMN02436332</td>\n",
       "      <td>NZ_AEZS</td>\n",
       "      <td>Escherichia_coli_3.2608</td>\n",
       "      <td>False</td>\n",
       "    </tr>\n",
       "    <tr>\n",
       "      <th>498</th>\n",
       "      <td>NZ</td>\n",
       "      <td>869687</td>\n",
       "      <td>PRJNA224116</td>\n",
       "      <td>SAMN02436474</td>\n",
       "      <td>GCF_000194495.1</td>\n",
       "      <td>Escherichia_coli_4.0967</td>\n",
       "      <td>True</td>\n",
       "    </tr>\n",
       "    <tr>\n",
       "      <th>499</th>\n",
       "      <td>NZ</td>\n",
       "      <td>869693</td>\n",
       "      <td>PRJNA179728</td>\n",
       "      <td>SAMN00116811</td>\n",
       "      <td>NZ_AFAG</td>\n",
       "      <td>Escherichia_coli_TW07793</td>\n",
       "      <td>False</td>\n",
       "    </tr>\n",
       "    <tr>\n",
       "      <th>500</th>\n",
       "      <td>NZ</td>\n",
       "      <td>997825</td>\n",
       "      <td>PRJNA179639</td>\n",
       "      <td>SAMN02472080</td>\n",
       "      <td>NZ_AERR</td>\n",
       "      <td>Escherichia_coli_O157_H7_str._1125</td>\n",
       "      <td>False</td>\n",
       "    </tr>\n",
       "  </tbody>\n",
       "</table>\n",
       "<p>500 rows × 7 columns</p>\n",
       "</div>"
      ],
      "text/plain": [
       "      col1     col2 col3-bioproject col4-biosample             col5  \\\n",
       "index                                                                 \n",
       "1       NZ  1115511     PRJNA224116   SAMD00019863  GCF_000759775.1   \n",
       "2       NZ  1115512     PRJNA224116           None          NZ_BAFF   \n",
       "3       NZ  1115515     PRJNA224116   SAMD00018687  GCF_000759795.1   \n",
       "4       NZ  1169321     PRJNA224116   SAMN00847639  GCF_000407765.1   \n",
       "5       NZ  1169331     PRJNA224116   SAMN00847649  GCF_000350705.1   \n",
       "...    ...      ...             ...            ...              ...   \n",
       "496     NZ   869672     PRJNA179711   SAMN02436638          NZ_AEZL   \n",
       "497     NZ   869679     PRJNA179715   SAMN02436332          NZ_AEZS   \n",
       "498     NZ   869687     PRJNA224116   SAMN02436474  GCF_000194495.1   \n",
       "499     NZ   869693     PRJNA179728   SAMN00116811          NZ_AFAG   \n",
       "500     NZ   997825     PRJNA179639   SAMN02472080          NZ_AERR   \n",
       "\n",
       "                            col7-organism  col5_is_acc  \n",
       "index                                                   \n",
       "1        Escherichia_albertii_NBRC_107761         True  \n",
       "2       Escherichia_hermannii_NBRC_105704        False  \n",
       "3        Escherichia_vulneris_NBRC_102420         True  \n",
       "4                  Escherichia_sp._KTE114         True  \n",
       "5                   Escherichia_sp._KTE11         True  \n",
       "...                                   ...          ...  \n",
       "496              Escherichia_coli_97.0259        False  \n",
       "497               Escherichia_coli_3.2608        False  \n",
       "498               Escherichia_coli_4.0967         True  \n",
       "499              Escherichia_coli_TW07793        False  \n",
       "500    Escherichia_coli_O157_H7_str._1125        False  \n",
       "\n",
       "[500 rows x 7 columns]"
      ]
     },
     "execution_count": 15,
     "metadata": {},
     "output_type": "execute_result"
    }
   ],
   "source": [
    "df"
   ]
  },
  {
   "cell_type": "markdown",
   "id": "22c6c5f3-9cb2-40e9-b9ac-ac647a5f6e34",
   "metadata": {},
   "source": [
    "## Get biosample UIDs\n",
    "\n",
    "Biosample seems to be the most present ID value, but ELink won't accept the accession # for some reason. Get the biosample UIDs from the accession #s."
   ]
  },
  {
   "cell_type": "code",
   "execution_count": 16,
   "id": "98f1d643-092b-496b-ab78-6119d56edb11",
   "metadata": {},
   "outputs": [],
   "source": [
    "_file = nb_tmpdir / 'biosample-acc-to-uid.json'\n",
    "\n",
    "if _file.is_file():\n",
    "    with _file.open() as f:\n",
    "        biosample_acc_to_uid = json.load(f)\n",
    "        \n",
    "else:\n",
    "    biosample_acc_to_uid = dict()\n",
    "\n",
    "    for acc in tqdm(df['col4-biosample']):\n",
    "        if pd.isnull(acc) or acc in biosample_acc_to_uid:\n",
    "            continue\n",
    "\n",
    "        result = Entrez.read(Entrez.esearch(db='biosample', term=acc, field='accession'))\n",
    "        ids = result['IdList']\n",
    "        assert len(ids) == 1\n",
    "\n",
    "        biosample_acc_to_uid[acc] = int(ids[0])\n",
    "        \n",
    "    with _file.open('w') as f:\n",
    "        json.dump(biosample_acc_to_uid, f)"
   ]
  },
  {
   "cell_type": "code",
   "execution_count": 17,
   "id": "88313212-82fc-4dc6-b7a7-856ceef11082",
   "metadata": {},
   "outputs": [],
   "source": [
    "df['biosample_uid'] = np.asarray([None if acc is None else biosample_acc_to_uid[acc] for acc in df['col4-biosample']], dtype=object)"
   ]
  },
  {
   "cell_type": "markdown",
   "id": "a892311c-888c-4a57-bf27-b99d703e6b2a",
   "metadata": {},
   "source": [
    "## Link biosamples to assembly"
   ]
  },
  {
   "cell_type": "code",
   "execution_count": 18,
   "id": "5961c463-8db2-45f7-999c-00c5c381bef1",
   "metadata": {},
   "outputs": [],
   "source": [
    "biosample_to_assembly_file = nb_tmpdir / 'biosample-to-assembly.xml'\n",
    "\n",
    "if not biosample_to_assembly_file.is_file():\n",
    "    ids = [uid for uid in df['biosample_uid'] if uid is not None]\n",
    "    _data = Entrez.elink(dbfrom='biosample', db='assembly', id=ids).read()\n",
    "    \n",
    "    with biosample_to_assembly_file.open('wb') as f:\n",
    "        f.write(_data)"
   ]
  },
  {
   "cell_type": "code",
   "execution_count": 19,
   "id": "b8f48c6b-054d-4d1c-8bda-baaaf05540b9",
   "metadata": {},
   "outputs": [],
   "source": [
    "with open(biosample_to_assembly_file, 'rb') as f:\n",
    "    results = Entrez.read(f)\n",
    "\n",
    "biosample_to_assembly_list = dict()\n",
    "\n",
    "for item in results:\n",
    "    assert len(item['IdList']) == 1\n",
    "    assert len(item['LinkSetDb']) == 1\n",
    "\n",
    "    idfrom = int(item['IdList'][0])\n",
    "    idto = [int(link['Id']) for link in item['LinkSetDb'][0]['Link']]\n",
    "\n",
    "    assert idfrom in df['biosample_uid'].values\n",
    "    assert idfrom not in biosample_to_assembly_list\n",
    "\n",
    "    biosample_to_assembly_list[idfrom] = idto"
   ]
  },
  {
   "cell_type": "markdown",
   "id": "f8192574-fb7e-475d-855b-38a498fb5c99",
   "metadata": {},
   "source": [
    "### Resolve"
   ]
  },
  {
   "cell_type": "code",
   "execution_count": 20,
   "id": "020bc3c1-fefa-4a2b-a2bd-69687365aa1b",
   "metadata": {},
   "outputs": [
    {
     "data": {
      "text/plain": [
       "{1894029: [691078, 690978]}"
      ]
     },
     "execution_count": 20,
     "metadata": {},
     "output_type": "execute_result"
    }
   ],
   "source": [
    "{k: v for k, v in biosample_to_assembly_list.items() if len(v) != 1}"
   ]
  },
  {
   "cell_type": "code",
   "execution_count": 21,
   "id": "d939d3e1-b3e9-4ab2-ac62-078c3a46c380",
   "metadata": {},
   "outputs": [
    {
     "data": {
      "text/html": [
       "<div>\n",
       "<style scoped>\n",
       "    .dataframe tbody tr th:only-of-type {\n",
       "        vertical-align: middle;\n",
       "    }\n",
       "\n",
       "    .dataframe tbody tr th {\n",
       "        vertical-align: top;\n",
       "    }\n",
       "\n",
       "    .dataframe thead th {\n",
       "        text-align: right;\n",
       "    }\n",
       "</style>\n",
       "<table border=\"1\" class=\"dataframe\">\n",
       "  <thead>\n",
       "    <tr style=\"text-align: right;\">\n",
       "      <th></th>\n",
       "      <th>col1</th>\n",
       "      <th>col2</th>\n",
       "      <th>col3-bioproject</th>\n",
       "      <th>col4-biosample</th>\n",
       "      <th>col5</th>\n",
       "      <th>col7-organism</th>\n",
       "      <th>col5_is_acc</th>\n",
       "      <th>biosample_uid</th>\n",
       "    </tr>\n",
       "    <tr>\n",
       "      <th>index</th>\n",
       "      <th></th>\n",
       "      <th></th>\n",
       "      <th></th>\n",
       "      <th></th>\n",
       "      <th></th>\n",
       "      <th></th>\n",
       "      <th></th>\n",
       "      <th></th>\n",
       "    </tr>\n",
       "  </thead>\n",
       "  <tbody>\n",
       "    <tr>\n",
       "      <th>319</th>\n",
       "      <td>NZ</td>\n",
       "      <td>1286350</td>\n",
       "      <td>PRJNA203638</td>\n",
       "      <td>SAMN01894029</td>\n",
       "      <td>NZ_AORA</td>\n",
       "      <td>Escherichia_coli_TOP2652</td>\n",
       "      <td>False</td>\n",
       "      <td>1894029</td>\n",
       "    </tr>\n",
       "  </tbody>\n",
       "</table>\n",
       "</div>"
      ],
      "text/plain": [
       "      col1     col2 col3-bioproject col4-biosample     col5  \\\n",
       "index                                                         \n",
       "319     NZ  1286350     PRJNA203638   SAMN01894029  NZ_AORA   \n",
       "\n",
       "                  col7-organism  col5_is_acc biosample_uid  \n",
       "index                                                       \n",
       "319    Escherichia_coli_TOP2652        False       1894029  "
      ]
     },
     "execution_count": 21,
     "metadata": {},
     "output_type": "execute_result"
    }
   ],
   "source": [
    "df[df['biosample_uid'] == 1894029]"
   ]
  },
  {
   "cell_type": "markdown",
   "id": "aad88778-dc40-43e1-9eee-877cb16bd6a5",
   "metadata": {},
   "source": [
    "Both are assemblies of the same biosample submitted the same day, 690978 has assembly method \"Velvet v. 0.7\" with 90x coverage and 691078 has assembly method \"MIRA v. 3.4.0\" and 20x coverage. Go with the former."
   ]
  },
  {
   "cell_type": "markdown",
   "id": "a011e5a9-a1aa-40e4-a80e-5b95f14614de",
   "metadata": {},
   "source": [
    "### Add to table"
   ]
  },
  {
   "cell_type": "code",
   "execution_count": 22,
   "id": "0a7114aa-5029-4403-8aeb-c1534758e4e5",
   "metadata": {},
   "outputs": [],
   "source": [
    "biosample_to_assembly = {k: v[0] for k, v in biosample_to_assembly_list.items() if len(v) == 1}\n",
    "biosample_to_assembly[1894029] = 690978"
   ]
  },
  {
   "cell_type": "code",
   "execution_count": 23,
   "id": "f14b22c1-3fd1-4abb-9d31-8278147f3429",
   "metadata": {},
   "outputs": [],
   "source": [
    "df['assembly_uid'] = np.asarray([None if uid is None else biosample_to_assembly[uid] for uid in df['biosample_uid']], dtype=object)"
   ]
  },
  {
   "cell_type": "code",
   "execution_count": 24,
   "id": "f0c0d5d9-903b-42f7-be82-63192f00b999",
   "metadata": {},
   "outputs": [],
   "source": [
    "assert all(pd.isnull(df['biosample_uid']) == pd.isnull(df['assembly_uid']))"
   ]
  },
  {
   "cell_type": "code",
   "execution_count": 25,
   "id": "fcba1581-3e6c-4e0d-b57b-96d0c1d4abfb",
   "metadata": {},
   "outputs": [
    {
     "data": {
      "text/html": [
       "<div>\n",
       "<style scoped>\n",
       "    .dataframe tbody tr th:only-of-type {\n",
       "        vertical-align: middle;\n",
       "    }\n",
       "\n",
       "    .dataframe tbody tr th {\n",
       "        vertical-align: top;\n",
       "    }\n",
       "\n",
       "    .dataframe thead th {\n",
       "        text-align: right;\n",
       "    }\n",
       "</style>\n",
       "<table border=\"1\" class=\"dataframe\">\n",
       "  <thead>\n",
       "    <tr style=\"text-align: right;\">\n",
       "      <th></th>\n",
       "      <th>col1</th>\n",
       "      <th>col2</th>\n",
       "      <th>col3-bioproject</th>\n",
       "      <th>col4-biosample</th>\n",
       "      <th>col5</th>\n",
       "      <th>col7-organism</th>\n",
       "      <th>col5_is_acc</th>\n",
       "      <th>biosample_uid</th>\n",
       "      <th>assembly_uid</th>\n",
       "    </tr>\n",
       "    <tr>\n",
       "      <th>index</th>\n",
       "      <th></th>\n",
       "      <th></th>\n",
       "      <th></th>\n",
       "      <th></th>\n",
       "      <th></th>\n",
       "      <th></th>\n",
       "      <th></th>\n",
       "      <th></th>\n",
       "      <th></th>\n",
       "    </tr>\n",
       "  </thead>\n",
       "  <tbody>\n",
       "    <tr>\n",
       "      <th>2</th>\n",
       "      <td>NZ</td>\n",
       "      <td>1115512</td>\n",
       "      <td>PRJNA224116</td>\n",
       "      <td>None</td>\n",
       "      <td>NZ_BAFF</td>\n",
       "      <td>Escherichia_hermannii_NBRC_105704</td>\n",
       "      <td>False</td>\n",
       "      <td>None</td>\n",
       "      <td>None</td>\n",
       "    </tr>\n",
       "    <tr>\n",
       "      <th>30</th>\n",
       "      <td>NC</td>\n",
       "      <td>198214</td>\n",
       "      <td>PRJNA62907</td>\n",
       "      <td>None</td>\n",
       "      <td>None</td>\n",
       "      <td>Shigella_flexneri_2a_str._301</td>\n",
       "      <td>False</td>\n",
       "      <td>None</td>\n",
       "      <td>None</td>\n",
       "    </tr>\n",
       "    <tr>\n",
       "      <th>31</th>\n",
       "      <td>NC</td>\n",
       "      <td>216599</td>\n",
       "      <td>PRJNA224116</td>\n",
       "      <td>None</td>\n",
       "      <td>GCF_000283715.1</td>\n",
       "      <td>Shigella_sonnei_53G</td>\n",
       "      <td>True</td>\n",
       "      <td>None</td>\n",
       "      <td>None</td>\n",
       "    </tr>\n",
       "    <tr>\n",
       "      <th>32</th>\n",
       "      <td>NC</td>\n",
       "      <td>300267</td>\n",
       "      <td>PRJNA58213</td>\n",
       "      <td>None</td>\n",
       "      <td>None</td>\n",
       "      <td>Shigella_dysenteriae_Sd197</td>\n",
       "      <td>False</td>\n",
       "      <td>None</td>\n",
       "      <td>None</td>\n",
       "    </tr>\n",
       "    <tr>\n",
       "      <th>160</th>\n",
       "      <td>NC</td>\n",
       "      <td>316401</td>\n",
       "      <td>PRJNA224116</td>\n",
       "      <td>None</td>\n",
       "      <td>GCF_000210475.1</td>\n",
       "      <td>Escherichia_coli_ETEC_H10407</td>\n",
       "      <td>True</td>\n",
       "      <td>None</td>\n",
       "      <td>None</td>\n",
       "    </tr>\n",
       "    <tr>\n",
       "      <th>162</th>\n",
       "      <td>NC</td>\n",
       "      <td>386585</td>\n",
       "      <td>PRJNA57781</td>\n",
       "      <td>None</td>\n",
       "      <td>None</td>\n",
       "      <td>Escherichia_coli_O157_H7_str._Sakai</td>\n",
       "      <td>False</td>\n",
       "      <td>None</td>\n",
       "      <td>None</td>\n",
       "    </tr>\n",
       "    <tr>\n",
       "      <th>164</th>\n",
       "      <td>NC</td>\n",
       "      <td>431946</td>\n",
       "      <td>PRJNA224116</td>\n",
       "      <td>None</td>\n",
       "      <td>GCF_000010485.1</td>\n",
       "      <td>Escherichia_coli_SE15</td>\n",
       "      <td>True</td>\n",
       "      <td>None</td>\n",
       "      <td>None</td>\n",
       "    </tr>\n",
       "    <tr>\n",
       "      <th>165</th>\n",
       "      <td>NC</td>\n",
       "      <td>585057</td>\n",
       "      <td>PRJNA59381</td>\n",
       "      <td>None</td>\n",
       "      <td>None</td>\n",
       "      <td>Escherichia_coli_IAI39</td>\n",
       "      <td>False</td>\n",
       "      <td>None</td>\n",
       "      <td>None</td>\n",
       "    </tr>\n",
       "    <tr>\n",
       "      <th>280</th>\n",
       "      <td>NZ</td>\n",
       "      <td>1268238</td>\n",
       "      <td>PRJNA186642</td>\n",
       "      <td>None</td>\n",
       "      <td>NZ_CAPL</td>\n",
       "      <td>Escherichia_coli_O5_K4_L_H4_str._ATCC_23502</td>\n",
       "      <td>False</td>\n",
       "      <td>None</td>\n",
       "      <td>None</td>\n",
       "    </tr>\n",
       "    <tr>\n",
       "      <th>341</th>\n",
       "      <td>NZ</td>\n",
       "      <td>1433129</td>\n",
       "      <td>PRJNA224116</td>\n",
       "      <td>None</td>\n",
       "      <td>NZ_CBWB</td>\n",
       "      <td>Escherichia_coli_IS5</td>\n",
       "      <td>False</td>\n",
       "      <td>None</td>\n",
       "      <td>None</td>\n",
       "    </tr>\n",
       "    <tr>\n",
       "      <th>401</th>\n",
       "      <td>NZ</td>\n",
       "      <td>511145</td>\n",
       "      <td>None</td>\n",
       "      <td>None</td>\n",
       "      <td>NZ_AKBV</td>\n",
       "      <td>Escherichia_coli_str._K_12_substr._MG1655</td>\n",
       "      <td>False</td>\n",
       "      <td>None</td>\n",
       "      <td>None</td>\n",
       "    </tr>\n",
       "  </tbody>\n",
       "</table>\n",
       "</div>"
      ],
      "text/plain": [
       "      col1     col2 col3-bioproject col4-biosample             col5  \\\n",
       "index                                                                 \n",
       "2       NZ  1115512     PRJNA224116           None          NZ_BAFF   \n",
       "30      NC   198214      PRJNA62907           None             None   \n",
       "31      NC   216599     PRJNA224116           None  GCF_000283715.1   \n",
       "32      NC   300267      PRJNA58213           None             None   \n",
       "160     NC   316401     PRJNA224116           None  GCF_000210475.1   \n",
       "162     NC   386585      PRJNA57781           None             None   \n",
       "164     NC   431946     PRJNA224116           None  GCF_000010485.1   \n",
       "165     NC   585057      PRJNA59381           None             None   \n",
       "280     NZ  1268238     PRJNA186642           None          NZ_CAPL   \n",
       "341     NZ  1433129     PRJNA224116           None          NZ_CBWB   \n",
       "401     NZ   511145            None           None          NZ_AKBV   \n",
       "\n",
       "                                     col7-organism  col5_is_acc biosample_uid  \\\n",
       "index                                                                           \n",
       "2                Escherichia_hermannii_NBRC_105704        False          None   \n",
       "30                   Shigella_flexneri_2a_str._301        False          None   \n",
       "31                             Shigella_sonnei_53G         True          None   \n",
       "32                      Shigella_dysenteriae_Sd197        False          None   \n",
       "160                   Escherichia_coli_ETEC_H10407         True          None   \n",
       "162            Escherichia_coli_O157_H7_str._Sakai        False          None   \n",
       "164                          Escherichia_coli_SE15         True          None   \n",
       "165                         Escherichia_coli_IAI39        False          None   \n",
       "280    Escherichia_coli_O5_K4_L_H4_str._ATCC_23502        False          None   \n",
       "341                           Escherichia_coli_IS5        False          None   \n",
       "401      Escherichia_coli_str._K_12_substr._MG1655        False          None   \n",
       "\n",
       "      assembly_uid  \n",
       "index               \n",
       "2             None  \n",
       "30            None  \n",
       "31            None  \n",
       "32            None  \n",
       "160           None  \n",
       "162           None  \n",
       "164           None  \n",
       "165           None  \n",
       "280           None  \n",
       "341           None  \n",
       "401           None  "
      ]
     },
     "execution_count": 25,
     "metadata": {},
     "output_type": "execute_result"
    }
   ],
   "source": [
    "df[df['assembly_uid'].isnull()]"
   ]
  },
  {
   "cell_type": "markdown",
   "id": "ef30ef29-f8cc-461c-8e39-e00cfc90d671",
   "metadata": {
    "tags": []
   },
   "source": [
    "## Find remaining assembly UIDs by accession\n",
    "\n",
    "There are a few rows which have an assembly accession in column 5 but no biosample and so no linked assembly UID."
   ]
  },
  {
   "cell_type": "code",
   "execution_count": 26,
   "id": "297ee580-a772-4e2a-9423-a3de911b50f3",
   "metadata": {
    "tags": []
   },
   "outputs": [
    {
     "data": {
      "text/html": [
       "<div>\n",
       "<style scoped>\n",
       "    .dataframe tbody tr th:only-of-type {\n",
       "        vertical-align: middle;\n",
       "    }\n",
       "\n",
       "    .dataframe tbody tr th {\n",
       "        vertical-align: top;\n",
       "    }\n",
       "\n",
       "    .dataframe thead th {\n",
       "        text-align: right;\n",
       "    }\n",
       "</style>\n",
       "<table border=\"1\" class=\"dataframe\">\n",
       "  <thead>\n",
       "    <tr style=\"text-align: right;\">\n",
       "      <th></th>\n",
       "      <th>col1</th>\n",
       "      <th>col2</th>\n",
       "      <th>col3-bioproject</th>\n",
       "      <th>col4-biosample</th>\n",
       "      <th>col5</th>\n",
       "      <th>col7-organism</th>\n",
       "      <th>col5_is_acc</th>\n",
       "      <th>biosample_uid</th>\n",
       "      <th>assembly_uid</th>\n",
       "    </tr>\n",
       "    <tr>\n",
       "      <th>index</th>\n",
       "      <th></th>\n",
       "      <th></th>\n",
       "      <th></th>\n",
       "      <th></th>\n",
       "      <th></th>\n",
       "      <th></th>\n",
       "      <th></th>\n",
       "      <th></th>\n",
       "      <th></th>\n",
       "    </tr>\n",
       "  </thead>\n",
       "  <tbody>\n",
       "    <tr>\n",
       "      <th>31</th>\n",
       "      <td>NC</td>\n",
       "      <td>216599</td>\n",
       "      <td>PRJNA224116</td>\n",
       "      <td>None</td>\n",
       "      <td>GCF_000283715.1</td>\n",
       "      <td>Shigella_sonnei_53G</td>\n",
       "      <td>True</td>\n",
       "      <td>None</td>\n",
       "      <td>None</td>\n",
       "    </tr>\n",
       "    <tr>\n",
       "      <th>160</th>\n",
       "      <td>NC</td>\n",
       "      <td>316401</td>\n",
       "      <td>PRJNA224116</td>\n",
       "      <td>None</td>\n",
       "      <td>GCF_000210475.1</td>\n",
       "      <td>Escherichia_coli_ETEC_H10407</td>\n",
       "      <td>True</td>\n",
       "      <td>None</td>\n",
       "      <td>None</td>\n",
       "    </tr>\n",
       "    <tr>\n",
       "      <th>164</th>\n",
       "      <td>NC</td>\n",
       "      <td>431946</td>\n",
       "      <td>PRJNA224116</td>\n",
       "      <td>None</td>\n",
       "      <td>GCF_000010485.1</td>\n",
       "      <td>Escherichia_coli_SE15</td>\n",
       "      <td>True</td>\n",
       "      <td>None</td>\n",
       "      <td>None</td>\n",
       "    </tr>\n",
       "  </tbody>\n",
       "</table>\n",
       "</div>"
      ],
      "text/plain": [
       "      col1    col2 col3-bioproject col4-biosample             col5  \\\n",
       "index                                                                \n",
       "31      NC  216599     PRJNA224116           None  GCF_000283715.1   \n",
       "160     NC  316401     PRJNA224116           None  GCF_000210475.1   \n",
       "164     NC  431946     PRJNA224116           None  GCF_000010485.1   \n",
       "\n",
       "                      col7-organism  col5_is_acc biosample_uid assembly_uid  \n",
       "index                                                                        \n",
       "31              Shigella_sonnei_53G         True          None         None  \n",
       "160    Escherichia_coli_ETEC_H10407         True          None         None  \n",
       "164           Escherichia_coli_SE15         True          None         None  "
      ]
     },
     "execution_count": 26,
     "metadata": {},
     "output_type": "execute_result"
    }
   ],
   "source": [
    "assembly_acc_no_uid = df['col5_is_acc'] & pd.isnull(df['assembly_uid'])\n",
    "df[assembly_acc_no_uid]"
   ]
  },
  {
   "cell_type": "markdown",
   "id": "07aa3819-6598-4c91-93b1-9dd786b33728",
   "metadata": {},
   "source": [
    "Search by versionless accession, to find the latest version."
   ]
  },
  {
   "cell_type": "code",
   "execution_count": 27,
   "id": "39c44981-031a-4e8d-966d-591540ad231f",
   "metadata": {},
   "outputs": [],
   "source": [
    "_file = nb_tmpdir / 'assembly-acc-to-uids.json'\n",
    "        \n",
    "        \n",
    "if _file.is_file():\n",
    "    with open(_file) as f:\n",
    "        assembly_acc_to_uids = json.load(f)\n",
    "\n",
    "\n",
    "else:\n",
    "    assembly_acc_to_uids = dict()\n",
    "    \n",
    "    for acc in tqdm(df.loc[assembly_acc_no_uid, 'col5']):\n",
    "        acc2 = acc.split('.')[0]\n",
    "        \n",
    "        with Entrez.esearch(db='assembly', term=acc2, field='Assembly Accession') as response:\n",
    "            data = Entrez.read(response)\n",
    "            \n",
    "        ids = list(map(int, data['IdList']))\n",
    "        assert ids\n",
    "        \n",
    "        assembly_acc_to_uids[acc2] = ids\n",
    "        \n",
    "    with open(_file, 'w') as f:\n",
    "        json.dump(assembly_acc_to_uids, f)"
   ]
  },
  {
   "cell_type": "code",
   "execution_count": 28,
   "id": "c9bc343a-57ed-40fe-aced-a3ecf0cd7f7b",
   "metadata": {},
   "outputs": [
    {
     "data": {
      "text/plain": [
       "{'GCF_000283715': [406998],\n",
       " 'GCF_000210475': [379808],\n",
       " 'GCF_000010485': [380618]}"
      ]
     },
     "execution_count": 28,
     "metadata": {},
     "output_type": "execute_result"
    }
   ],
   "source": [
    "assembly_acc_to_uids"
   ]
  },
  {
   "cell_type": "markdown",
   "id": "de59a4c6-b234-4b97-8b5f-a6d3ba0d26e2",
   "metadata": {},
   "source": [
    "These are all unique, assign."
   ]
  },
  {
   "cell_type": "code",
   "execution_count": 29,
   "id": "5f8cfb0b-1218-4144-bf40-d753619a486d",
   "metadata": {},
   "outputs": [],
   "source": [
    "for idx in df.index[assembly_acc_no_uid]:\n",
    "    acc = df.loc[idx, 'col5']\n",
    "    uids = assembly_acc_to_uids[acc.split('.')[0]]\n",
    "    assert len(uids) == 1\n",
    "    df.loc[idx, 'assembly_uid'] = uids[0]"
   ]
  },
  {
   "cell_type": "markdown",
   "id": "f6b7b19b-7358-4f43-9863-e6b46d0268e9",
   "metadata": {},
   "source": [
    "## Get assembly summaries"
   ]
  },
  {
   "cell_type": "code",
   "execution_count": 30,
   "id": "a1c30fd0-6cfb-4620-8553-6432b429805d",
   "metadata": {},
   "outputs": [],
   "source": [
    "summaries_dir = tmpdir / 'assembly-summaries'\n",
    "summaries_dir.mkdir(exist_ok=True)"
   ]
  },
  {
   "cell_type": "code",
   "execution_count": 31,
   "id": "6e141453-2e39-4206-8921-27ae8c4502c6",
   "metadata": {
    "tags": []
   },
   "outputs": [
    {
     "name": "stderr",
     "output_type": "stream",
     "text": [
      "100%|██████████| 500/500 [00:00<00:00, 106714.43it/s]\n"
     ]
    }
   ],
   "source": [
    "for uid in tqdm(df['assembly_uid']):\n",
    "    if uid is None:\n",
    "        continue\n",
    "        \n",
    "    file = summaries_dir / f'{uid}.json'\n",
    "    if file.is_file():\n",
    "        continue\n",
    "        \n",
    "    with Entrez.esummary(db='assembly', id=uid, retmode='json') as response:\n",
    "        data = json.load(response)\n",
    "    \n",
    "    assert data['result']['uids'] == [str(uid)]\n",
    "    data2 = data['result'][str(uid)]\n",
    "    \n",
    "    with file.open('wt') as f:\n",
    "        json.dump(data2, f)"
   ]
  },
  {
   "cell_type": "code",
   "execution_count": 32,
   "id": "74783608-9f9b-495d-bf53-673475549e55",
   "metadata": {},
   "outputs": [],
   "source": [
    "summary_data = dict()\n",
    "\n",
    "for idx, uid in df['assembly_uid'].iteritems():\n",
    "    if uid is None:\n",
    "        continue\n",
    "\n",
    "    with open(summaries_dir / f'{uid}.json') as f:\n",
    "        summary_data[uid] = json.load(f)"
   ]
  },
  {
   "cell_type": "markdown",
   "id": "1f9739b0-a1e7-498c-b8db-acbafad874ed",
   "metadata": {},
   "source": [
    "## Extract information from summary data"
   ]
  },
  {
   "cell_type": "code",
   "execution_count": 33,
   "id": "3629644e-b4ec-4e88-b571-f4cc6614a0e8",
   "metadata": {},
   "outputs": [],
   "source": [
    "_accs = []\n",
    "_urls = []\n",
    "_organisms = []\n",
    "\n",
    "for uid in df['assembly_uid']:\n",
    "    if uid is None:\n",
    "        _accs.append(None)\n",
    "        _urls.append(None)\n",
    "        _organisms.append(None)\n",
    "        \n",
    "    else:\n",
    "        data = summary_data[uid]\n",
    "\n",
    "        ftp_dir = data['ftppath_refseq']\n",
    "        url = ftp_dir + '/' + ftp_dir.rsplit('/', 1)[1] + '_genomic.fna.gz'\n",
    "        \n",
    "        _accs.append(data['assemblyaccession'])\n",
    "        _urls.append(url)\n",
    "        _organisms.append(data['organism'])\n",
    "        \n",
    "df['assembly_accession'] = np.asarray(_accs)\n",
    "df['url'] = np.asarray(_urls)\n",
    "df['organism'] = np.asarray(_organisms)"
   ]
  },
  {
   "cell_type": "markdown",
   "id": "a9aa9fea-e617-4fce-aeb9-80c2caf849fe",
   "metadata": {},
   "source": [
    "### Check where accessions don't match column 5"
   ]
  },
  {
   "cell_type": "code",
   "execution_count": 34,
   "id": "065845e3-fab3-4df3-b313-c0de50ed9b1a",
   "metadata": {},
   "outputs": [
    {
     "data": {
      "text/plain": [
       "24"
      ]
     },
     "execution_count": 34,
     "metadata": {},
     "output_type": "execute_result"
    }
   ],
   "source": [
    "acc_changed = df['col5_is_acc'] & (df['col5'] != df['assembly_accession'])\n",
    "acc_changed.sum()"
   ]
  },
  {
   "cell_type": "markdown",
   "id": "55233701-7c09-4504-89c8-3e2cb74b02fd",
   "metadata": {},
   "source": [
    "Check they are upgraded versions:"
   ]
  },
  {
   "cell_type": "code",
   "execution_count": 35,
   "id": "2b339d92-af73-4978-99ef-2b0d78ad04dd",
   "metadata": {},
   "outputs": [],
   "source": [
    "for idx in df.index[acc_changed]:\n",
    "    acc1 = df.loc[idx, 'col5']\n",
    "    a1, v1 = acc1.split('.')\n",
    "    \n",
    "    acc2 = df.loc[idx, 'assembly_accession']\n",
    "    a2, v2 = acc2.split('.')\n",
    "    \n",
    "    assert a1 == a2\n",
    "    assert int(v1) < int(v2)"
   ]
  },
  {
   "cell_type": "markdown",
   "id": "eeaab4c8-ca98-40e0-a367-884af41abfe9",
   "metadata": {},
   "source": [
    "## Download genomes"
   ]
  },
  {
   "cell_type": "code",
   "execution_count": 36,
   "id": "3af21445-2559-4b56-8fa7-d8126833a279",
   "metadata": {},
   "outputs": [
    {
     "data": {
      "text/plain": [
       "8"
      ]
     },
     "execution_count": 36,
     "metadata": {},
     "output_type": "execute_result"
    }
   ],
   "source": [
    "pd.isnull(df['url']).sum()"
   ]
  },
  {
   "cell_type": "code",
   "execution_count": 37,
   "id": "c9a88543-cac7-4e88-a158-565eb290e6e7",
   "metadata": {},
   "outputs": [],
   "source": [
    "genomes_dir = tmpdir / 'genomes'\n",
    "genomes_dir.mkdir(exist_ok=True)"
   ]
  },
  {
   "cell_type": "code",
   "execution_count": 38,
   "id": "b201f738-b6e5-468f-800a-a10544acd659",
   "metadata": {
    "tags": []
   },
   "outputs": [
    {
     "name": "stderr",
     "output_type": "stream",
     "text": [
      "500it [00:00, 49471.63it/s]\n"
     ]
    }
   ],
   "source": [
    "for row in tqdm(df.itertuples()):\n",
    "    if row.url is None:\n",
    "        continue\n",
    "        \n",
    "    file = genomes_dir / (row.assembly_accession + '.fa.gz')\n",
    "    if not file.is_file():\n",
    "        urlretrieve(row.url, file)"
   ]
  },
  {
   "cell_type": "markdown",
   "id": "0839a6a5-fd77-4539-b01d-9ec420c0db1c",
   "metadata": {},
   "source": [
    "## Save data"
   ]
  },
  {
   "cell_type": "code",
   "execution_count": 39,
   "id": "e616ec39-31a2-4274-9da5-71e2f30369d2",
   "metadata": {},
   "outputs": [],
   "source": [
    "df.to_csv(processed_out / f'{DATESTR}-mash-genomes.csv')"
   ]
  },
  {
   "cell_type": "code",
   "execution_count": 40,
   "id": "cd7c6116-116d-4614-ae55-e9067454e0b6",
   "metadata": {},
   "outputs": [],
   "source": [
    "df2 = df[['assembly_accession', 'assembly_uid', 'organism', 'url']]\n",
    "\n",
    "df2.insert(0, 'mash_index', df2.index)\n",
    "\n",
    "df2 = df2[pd.notnull(df2['assembly_accession'])]\n",
    "\n",
    "df2.reset_index(drop=True, inplace=True)\n",
    "\n",
    "df2.index = range(1, df2.shape[0] + 1)\n",
    "df2.index.name = 'index'\n",
    "\n",
    "df2.to_csv(processed_out / f'{DATESTR}-mash-genomes-filtered.csv')"
   ]
  }
 ],
 "metadata": {
  "kernelspec": {
   "display_name": "GAMBIT",
   "language": "python",
   "name": "gambit"
  },
  "language_info": {
   "codemirror_mode": {
    "name": "ipython",
    "version": 3
   },
   "file_extension": ".py",
   "mimetype": "text/x-python",
   "name": "python",
   "nbconvert_exporter": "python",
   "pygments_lexer": "ipython3",
   "version": "3.9.5"
  }
 },
 "nbformat": 4,
 "nbformat_minor": 5
}
