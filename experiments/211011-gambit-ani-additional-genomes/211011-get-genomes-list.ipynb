{
 "cells": [
  {
   "cell_type": "markdown",
   "id": "dc2d29a6-a210-4f28-b6ba-32ed9f41c4be",
   "metadata": {},
   "source": [
    "# 211011 get genomes list"
   ]
  },
  {
   "cell_type": "code",
   "execution_count": 1,
   "id": "5ecf73b8-395f-48a5-9efb-cc02844adf42",
   "metadata": {},
   "outputs": [],
   "source": [
    "from pathlib import Path\n",
    "import json\n",
    "import sys"
   ]
  },
  {
   "cell_type": "code",
   "execution_count": 2,
   "id": "1a103a46-2543-4aba-8cd4-4ebda668e391",
   "metadata": {},
   "outputs": [],
   "source": [
    "import pandas as pd\n",
    "from Bio import Entrez\n",
    "from tqdm.notebook import tqdm"
   ]
  },
  {
   "cell_type": "code",
   "execution_count": 3,
   "id": "756a3957-46c4-4f6a-9765-70190fc48d17",
   "metadata": {},
   "outputs": [],
   "source": [
    "from gambit.util.progress import iter_progress\n",
    "import entrez_tools as ez"
   ]
  },
  {
   "cell_type": "code",
   "execution_count": 4,
   "id": "d3e5e6d6-ead0-4786-b5aa-92f0b89229a1",
   "metadata": {},
   "outputs": [],
   "source": [
    "sys.path.insert(0, './src')\n",
    "\n",
    "from esummary_store import BasicEsummaryStore"
   ]
  },
  {
   "cell_type": "markdown",
   "id": "4ad0ce24-b824-4b7c-a5c1-9de58bbceecd",
   "metadata": {},
   "source": [
    "## Setup"
   ]
  },
  {
   "cell_type": "code",
   "execution_count": 5,
   "id": "3f5243ce-65b1-470c-8080-582c7ca1b7cd",
   "metadata": {},
   "outputs": [],
   "source": [
    "Entrez.email = 'mjlumpe@gmail.com'\n",
    "Entrez.api_key = 'adea2a53e6e44c3cc42c932f9ba4bdffa809'"
   ]
  },
  {
   "cell_type": "code",
   "execution_count": 6,
   "id": "1689384a-90e9-411a-b8ae-177536352f9f",
   "metadata": {},
   "outputs": [],
   "source": [
    "DATESTR = '211011'\n",
    "NBNAME = DATESTR + '-get-genomes-list'"
   ]
  },
  {
   "cell_type": "code",
   "execution_count": 7,
   "id": "77e57657-6302-4cda-a542-82a03bb709e9",
   "metadata": {},
   "outputs": [],
   "source": [
    "infiles = dict(\n",
    "    konstantinidis_2005=Path('../../data/external/konstaninidis-2005/210910-genomes.csv'),\n",
    "    snitkin_2012=Path('../../data/processed/211010-snitkin-2012-genomes/211010-snitkin-2012-genomes/211010-snitkin-2012-genomes.csv'),\n",
    "    assembly_esummary=Path('/home/jared/projects/gambit/data/ncbi/assembly/esummary/')\n",
    ")"
   ]
  },
  {
   "cell_type": "code",
   "execution_count": 8,
   "id": "136903b8-1115-47eb-90b1-253aa778e554",
   "metadata": {},
   "outputs": [],
   "source": [
    "data_processed = Path('data-processed') / NBNAME\n",
    "data_processed.mkdir(exist_ok=True)"
   ]
  },
  {
   "cell_type": "code",
   "execution_count": 9,
   "id": "7b78a9a7-586d-4afe-a4cb-ffe01985264a",
   "metadata": {},
   "outputs": [],
   "source": [
    "outfiles = dict(\n",
    "    genomes_list=data_processed / f'{DATESTR}-gambit-ani-additional-genomes.csv',\n",
    ")"
   ]
  },
  {
   "cell_type": "markdown",
   "id": "7e44b747-100e-4fd0-bb3e-82772a1cbc12",
   "metadata": {},
   "source": [
    "## Get list of genomes"
   ]
  },
  {
   "cell_type": "code",
   "execution_count": 10,
   "id": "175cb3c5-ac83-42a3-9eb0-67077f1b6735",
   "metadata": {},
   "outputs": [],
   "source": [
    "genome_chunks = dict()"
   ]
  },
  {
   "cell_type": "markdown",
   "id": "f66029a0-71f8-4a06-a615-04b081b95bf5",
   "metadata": {},
   "source": [
    "### Konstantinidis 2005"
   ]
  },
  {
   "cell_type": "code",
   "execution_count": 11,
   "id": "24fefcf5-db7f-42cb-90d6-fb9c51750a46",
   "metadata": {},
   "outputs": [],
   "source": [
    "konstantinidis_2005 = pd.read_csv(infiles['konstantinidis_2005'])"
   ]
  },
  {
   "cell_type": "code",
   "execution_count": 12,
   "id": "71850168-8279-47bf-b650-586071361ed9",
   "metadata": {},
   "outputs": [],
   "source": [
    "konstantinidis_2005 = konstantinidis_2005[['description', 'assembly']].copy()\n",
    "konstantinidis_2005.index.name = 'ds_index'\n",
    "\n",
    "konstantinidis_2005.insert(0, 'id', konstantinidis_2005['assembly'])\n",
    "konstantinidis_2005.rename(columns=dict(assembly='assembly_accession'), inplace=True)"
   ]
  },
  {
   "cell_type": "code",
   "execution_count": 13,
   "id": "a7ce05ee-b83f-40ee-9dc9-6d0ccc75e3b2",
   "metadata": {},
   "outputs": [],
   "source": [
    "genome_chunks['konstantinidis_2005'] = konstantinidis_2005"
   ]
  },
  {
   "cell_type": "markdown",
   "id": "0c48c179-2d65-4ccd-bff5-f2e9a40210ee",
   "metadata": {},
   "source": [
    "### Snitkin 2012"
   ]
  },
  {
   "cell_type": "code",
   "execution_count": 14,
   "id": "345a4446-0a55-4f78-acfc-10586462841c",
   "metadata": {},
   "outputs": [],
   "source": [
    "snitkin_2012 = pd.read_csv(infiles['snitkin_2012'])"
   ]
  },
  {
   "cell_type": "code",
   "execution_count": 15,
   "id": "9309cdc8-3b5a-4141-9873-738aa6b53a61",
   "metadata": {},
   "outputs": [],
   "source": [
    "snitkin_2012 = snitkin_2012[['description', 'assembly_acc']].copy()\n",
    "snitkin_2012.index.name = 'ds_index'\n",
    "snitkin_2012.insert(0, 'id', snitkin_2012['assembly_acc'])\n",
    "snitkin_2012.rename(columns=dict(assembly_acc='assembly_accession'), inplace=True)"
   ]
  },
  {
   "cell_type": "code",
   "execution_count": 16,
   "id": "661e99cd-0c32-4dc6-ba64-98955ded697d",
   "metadata": {},
   "outputs": [],
   "source": [
    "genome_chunks['snitkin_2012'] = snitkin_2012"
   ]
  },
  {
   "cell_type": "markdown",
   "id": "f877ecdf-56bc-41b9-b768-0841c4e317db",
   "metadata": {},
   "source": [
    "### Combine"
   ]
  },
  {
   "cell_type": "code",
   "execution_count": 17,
   "id": "1de2c181-794d-42a5-98d5-008a595ebec5",
   "metadata": {},
   "outputs": [],
   "source": [
    "genomes = pd.concat(genome_chunks.values(), keys=genome_chunks.keys(), names=['data_set'])"
   ]
  },
  {
   "cell_type": "code",
   "execution_count": 18,
   "id": "74c29c20-9519-41b3-b040-4ca4a3a97ea5",
   "metadata": {},
   "outputs": [
    {
     "data": {
      "text/html": [
       "<div>\n",
       "<style scoped>\n",
       "    .dataframe tbody tr th:only-of-type {\n",
       "        vertical-align: middle;\n",
       "    }\n",
       "\n",
       "    .dataframe tbody tr th {\n",
       "        vertical-align: top;\n",
       "    }\n",
       "\n",
       "    .dataframe thead th {\n",
       "        text-align: right;\n",
       "    }\n",
       "</style>\n",
       "<table border=\"1\" class=\"dataframe\">\n",
       "  <thead>\n",
       "    <tr style=\"text-align: right;\">\n",
       "      <th></th>\n",
       "      <th></th>\n",
       "      <th>id</th>\n",
       "      <th>description</th>\n",
       "      <th>assembly_accession</th>\n",
       "    </tr>\n",
       "    <tr>\n",
       "      <th>data_set</th>\n",
       "      <th>ds_index</th>\n",
       "      <th></th>\n",
       "      <th></th>\n",
       "      <th></th>\n",
       "    </tr>\n",
       "  </thead>\n",
       "  <tbody>\n",
       "    <tr>\n",
       "      <th rowspan=\"5\" valign=\"top\">konstantinidis_2005</th>\n",
       "      <th>0</th>\n",
       "      <td>GCF_000008865.2</td>\n",
       "      <td>Escherichia coli O157:H7 str. Sakai DNA, compl...</td>\n",
       "      <td>GCF_000008865.2</td>\n",
       "    </tr>\n",
       "    <tr>\n",
       "      <th>1</th>\n",
       "      <td>GCF_000732965.1</td>\n",
       "      <td>Escherichia coli O157:H7 str. EDL933 chromosom...</td>\n",
       "      <td>GCF_000732965.1</td>\n",
       "    </tr>\n",
       "    <tr>\n",
       "      <th>2</th>\n",
       "      <td>GCF_000005845.2</td>\n",
       "      <td>Escherichia coli str. K-12 substr. MG1655, com...</td>\n",
       "      <td>GCF_000005845.2</td>\n",
       "    </tr>\n",
       "    <tr>\n",
       "      <th>3</th>\n",
       "      <td>GCF_014262945.1</td>\n",
       "      <td>Escherichia coli CFT073 (E. coli)</td>\n",
       "      <td>GCF_014262945.1</td>\n",
       "    </tr>\n",
       "    <tr>\n",
       "      <th>4</th>\n",
       "      <td>GCF_000007405.1</td>\n",
       "      <td>Shigella flexneri 2a str. 2457T</td>\n",
       "      <td>GCF_000007405.1</td>\n",
       "    </tr>\n",
       "    <tr>\n",
       "      <th>...</th>\n",
       "      <th>...</th>\n",
       "      <td>...</td>\n",
       "      <td>...</td>\n",
       "      <td>...</td>\n",
       "    </tr>\n",
       "    <tr>\n",
       "      <th rowspan=\"5\" valign=\"top\">snitkin_2012</th>\n",
       "      <th>15</th>\n",
       "      <td>GCF_000281615.1</td>\n",
       "      <td>Klebsiella pneumoniae subsp. pneumoniae KPNIH19</td>\n",
       "      <td>GCF_000281615.1</td>\n",
       "    </tr>\n",
       "    <tr>\n",
       "      <th>16</th>\n",
       "      <td>GCF_000281375.1</td>\n",
       "      <td>Klebsiella pneumoniae subsp. pneumoniae KPNIH20</td>\n",
       "      <td>GCF_000281375.1</td>\n",
       "    </tr>\n",
       "    <tr>\n",
       "      <th>17</th>\n",
       "      <td>GCF_000281495.1</td>\n",
       "      <td>Klebsiella pneumoniae subsp. pneumoniae KPNIH21</td>\n",
       "      <td>GCF_000281495.1</td>\n",
       "    </tr>\n",
       "    <tr>\n",
       "      <th>18</th>\n",
       "      <td>GCF_000281515.1</td>\n",
       "      <td>Klebsiella pneumoniae subsp. pneumoniae KPNIH22</td>\n",
       "      <td>GCF_000281515.1</td>\n",
       "    </tr>\n",
       "    <tr>\n",
       "      <th>19</th>\n",
       "      <td>GCF_000281635.1</td>\n",
       "      <td>Klebsiella pneumoniae subsp. pneumoniae KPNIH23</td>\n",
       "      <td>GCF_000281635.1</td>\n",
       "    </tr>\n",
       "  </tbody>\n",
       "</table>\n",
       "<p>90 rows × 3 columns</p>\n",
       "</div>"
      ],
      "text/plain": [
       "                                           id  \\\n",
       "data_set            ds_index                    \n",
       "konstantinidis_2005 0         GCF_000008865.2   \n",
       "                    1         GCF_000732965.1   \n",
       "                    2         GCF_000005845.2   \n",
       "                    3         GCF_014262945.1   \n",
       "                    4         GCF_000007405.1   \n",
       "...                                       ...   \n",
       "snitkin_2012        15        GCF_000281615.1   \n",
       "                    16        GCF_000281375.1   \n",
       "                    17        GCF_000281495.1   \n",
       "                    18        GCF_000281515.1   \n",
       "                    19        GCF_000281635.1   \n",
       "\n",
       "                                                                    description  \\\n",
       "data_set            ds_index                                                      \n",
       "konstantinidis_2005 0         Escherichia coli O157:H7 str. Sakai DNA, compl...   \n",
       "                    1         Escherichia coli O157:H7 str. EDL933 chromosom...   \n",
       "                    2         Escherichia coli str. K-12 substr. MG1655, com...   \n",
       "                    3                         Escherichia coli CFT073 (E. coli)   \n",
       "                    4                           Shigella flexneri 2a str. 2457T   \n",
       "...                                                                         ...   \n",
       "snitkin_2012        15          Klebsiella pneumoniae subsp. pneumoniae KPNIH19   \n",
       "                    16          Klebsiella pneumoniae subsp. pneumoniae KPNIH20   \n",
       "                    17          Klebsiella pneumoniae subsp. pneumoniae KPNIH21   \n",
       "                    18          Klebsiella pneumoniae subsp. pneumoniae KPNIH22   \n",
       "                    19          Klebsiella pneumoniae subsp. pneumoniae KPNIH23   \n",
       "\n",
       "                             assembly_accession  \n",
       "data_set            ds_index                     \n",
       "konstantinidis_2005 0           GCF_000008865.2  \n",
       "                    1           GCF_000732965.1  \n",
       "                    2           GCF_000005845.2  \n",
       "                    3           GCF_014262945.1  \n",
       "                    4           GCF_000007405.1  \n",
       "...                                         ...  \n",
       "snitkin_2012        15          GCF_000281615.1  \n",
       "                    16          GCF_000281375.1  \n",
       "                    17          GCF_000281495.1  \n",
       "                    18          GCF_000281515.1  \n",
       "                    19          GCF_000281635.1  \n",
       "\n",
       "[90 rows x 3 columns]"
      ]
     },
     "execution_count": 18,
     "metadata": {},
     "output_type": "execute_result"
    }
   ],
   "source": [
    "genomes"
   ]
  },
  {
   "cell_type": "markdown",
   "id": "8f67b9e5-7929-4baf-93a4-0f323deb744f",
   "metadata": {},
   "source": [
    "## Get Assembly UIDs and ESummary data"
   ]
  },
  {
   "cell_type": "code",
   "execution_count": 19,
   "id": "89f026d4-5ad5-4e3e-afb4-744990ce7637",
   "metadata": {},
   "outputs": [],
   "source": [
    "esummaries = BasicEsummaryStore('assembly', infiles['assembly_esummary'])"
   ]
  },
  {
   "cell_type": "code",
   "execution_count": 20,
   "id": "10dda56f-5f31-4484-93b7-12e7e8c900ee",
   "metadata": {},
   "outputs": [],
   "source": [
    "genomes['assembly_uid'] = [esummaries.acc_to_uid(acc) for acc in genomes['assembly_accession']]"
   ]
  },
  {
   "cell_type": "markdown",
   "id": "cb50bf7f-bc9b-4e83-9460-6e17f1cab3fb",
   "metadata": {},
   "source": [
    "### Lookup missing UIDs"
   ]
  },
  {
   "cell_type": "code",
   "execution_count": 21,
   "id": "725b2435-d61b-43ad-8cba-8f31e9e855f1",
   "metadata": {},
   "outputs": [
    {
     "data": {
      "application/vnd.jupyter.widget-view+json": {
       "model_id": "8c6303b13a9c4087a2183eac8dff9a64",
       "version_major": 2,
       "version_minor": 0
      },
      "text/plain": [
       "0it [00:00, ?it/s]"
      ]
     },
     "metadata": {},
     "output_type": "display_data"
    }
   ],
   "source": [
    "missing_uid = pd.isnull(genomes['assembly_uid'])\n",
    "\n",
    "for ix in tqdm(genomes.index[missing_uid]):\n",
    "    genomes.loc[ix, 'assembly_uid'] = ez.esearch_accession('assembly', genomes.loc[ix, 'assembly_accession'])"
   ]
  },
  {
   "cell_type": "code",
   "execution_count": 22,
   "id": "dbcd62d2-3d47-4465-90b6-61610718ffe2",
   "metadata": {},
   "outputs": [],
   "source": [
    "assert not any(pd.isnull(genomes['assembly_uid']))"
   ]
  },
  {
   "cell_type": "markdown",
   "id": "02e0b9a4-ee36-4f56-902c-2281b8999fbc",
   "metadata": {},
   "source": [
    "### Download missing summaries"
   ]
  },
  {
   "cell_type": "code",
   "execution_count": 23,
   "id": "f62b7344-b8d4-41bc-8894-e3a1cc189c1c",
   "metadata": {},
   "outputs": [],
   "source": [
    "missing_summary = [uid for uid in genomes['assembly_uid'] if uid not in esummaries]"
   ]
  },
  {
   "cell_type": "code",
   "execution_count": 24,
   "id": "09b83a6c-1bd2-4cfe-88be-5c5894b9a8a8",
   "metadata": {},
   "outputs": [
    {
     "data": {
      "application/vnd.jupyter.widget-view+json": {
       "model_id": "7d36e18fbf7e4b58ade274f67de5fe58",
       "version_major": 2,
       "version_minor": 0
      },
      "text/plain": [
       "0it [00:00, ?it/s]"
      ]
     },
     "metadata": {},
     "output_type": "display_data"
    }
   ],
   "source": [
    "for uid in tqdm(missing_summary):\n",
    "    with Entrez.esummary(db='assembly', id=uid, retmode='json') as f:\n",
    "        data = json.load(f)\n",
    "    summary = ez.get_esummary_result_json(data)\n",
    "    esummaries.add(summary)"
   ]
  },
  {
   "cell_type": "markdown",
   "id": "781eef41-3a60-4d17-a4e2-cc3a2d00615a",
   "metadata": {},
   "source": [
    "## Done"
   ]
  },
  {
   "cell_type": "code",
   "execution_count": 25,
   "id": "430e4317-ff7b-485b-af4a-cc39b2955164",
   "metadata": {},
   "outputs": [],
   "source": [
    "genomes.to_csv(outfiles['genomes_list'])"
   ]
  }
 ],
 "metadata": {
  "kernelspec": {
   "display_name": "GAMBIT",
   "language": "python",
   "name": "gambit"
  },
  "language_info": {
   "codemirror_mode": {
    "name": "ipython",
    "version": 3
   },
   "file_extension": ".py",
   "mimetype": "text/x-python",
   "name": "python",
   "nbconvert_exporter": "python",
   "pygments_lexer": "ipython3",
   "version": "3.9.7"
  }
 },
 "nbformat": 4,
 "nbformat_minor": 5
}
