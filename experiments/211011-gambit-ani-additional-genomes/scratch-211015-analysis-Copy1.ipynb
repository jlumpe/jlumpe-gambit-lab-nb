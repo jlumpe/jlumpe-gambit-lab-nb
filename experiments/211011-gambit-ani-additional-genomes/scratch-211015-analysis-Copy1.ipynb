{
 "cells": [
  {
   "cell_type": "markdown",
   "id": "2195bec5-ddef-4f30-aa9d-a184315e9265",
   "metadata": {},
   "source": [
    "# 211013 Analysis"
   ]
  },
  {
   "cell_type": "code",
   "execution_count": 1,
   "id": "38c9e0e9-4183-4db1-8761-882c5d106c47",
   "metadata": {},
   "outputs": [],
   "source": [
    "from pathlib import Path"
   ]
  },
  {
   "cell_type": "code",
   "execution_count": 2,
   "id": "c82dab84-2aa0-40bd-a49f-b8d87949463c",
   "metadata": {},
   "outputs": [],
   "source": [
    "import numpy as np\n",
    "import pandas as pd\n",
    "import xarray as xr\n",
    "import h5py as h5\n",
    "from tqdm import tqdm"
   ]
  },
  {
   "cell_type": "code",
   "execution_count": 3,
   "id": "7bf7531d-d69e-4100-ad4d-5cbd7c5083d1",
   "metadata": {},
   "outputs": [],
   "source": [
    "import matplotlib.pyplot as plt\n",
    "import seaborn as sns\n",
    "\n",
    "%matplotlib inline"
   ]
  },
  {
   "cell_type": "markdown",
   "id": "e7563b82-8ece-4adf-b9c0-d344867c47d8",
   "metadata": {},
   "source": [
    "## Setup"
   ]
  },
  {
   "cell_type": "raw",
   "id": "864d6340-e062-4b72-b4c6-60b4964417e9",
   "metadata": {},
   "source": [
    "DATESTR = '211012'\n",
    "NBNAME = DATESTR + '-gambit'"
   ]
  },
  {
   "cell_type": "raw",
   "id": "cc07de11-adbb-42b8-8ccc-544d6fe88a1c",
   "metadata": {
    "tags": []
   },
   "source": [
    "tmpdir = Path('tmp')"
   ]
  },
  {
   "cell_type": "code",
   "execution_count": 4,
   "id": "9c8c7399-ad22-4838-947b-39a9e6eca7c3",
   "metadata": {},
   "outputs": [],
   "source": [
    "infiles = dict(\n",
    "    genomes=Path('data-processed/211015-combine-data/211015-gambit-ani-genomes.csv'),\n",
    "    data=Path('data-intermediate/211015-combine-data/data.nc'),\n",
    ")"
   ]
  },
  {
   "cell_type": "raw",
   "id": "d41193b8-4389-4254-91e5-07a67a295749",
   "metadata": {},
   "source": [
    "intermediate_out = Path('data-intermediate') / NBNAME\n",
    "intermediate_out.mkdir(exist_ok=True)"
   ]
  },
  {
   "cell_type": "markdown",
   "id": "65feb6c7-7ffd-4e71-8dd0-ba49a9972f59",
   "metadata": {},
   "source": [
    "## Code"
   ]
  },
  {
   "cell_type": "code",
   "execution_count": 5,
   "id": "da0039a8-3ff4-4329-9e94-af671bbcef46",
   "metadata": {},
   "outputs": [],
   "source": [
    "def get_datasets(group):\n",
    "    return {name: child[:] for name, child in group.items()}"
   ]
  },
  {
   "cell_type": "code",
   "execution_count": 6,
   "id": "cca8aa3c-9a57-488a-8456-8c04a5c41ce9",
   "metadata": {},
   "outputs": [],
   "source": [
    "def with_dims(ds, dims):\n",
    "    todrop = ds.dims.keys() - dims\n",
    "    return ds.drop_dims(todrop)"
   ]
  },
  {
   "cell_type": "code",
   "execution_count": 7,
   "id": "e7e79c7b-0bac-45e8-ab9b-9ade3e2102f2",
   "metadata": {},
   "outputs": [],
   "source": [
    "def pairs_to_matrix(xa, dim1, dim2):\n",
    "    assert xa.ndim == 1\n",
    "    g1 = xa.coords['g1']\n",
    "    g2 = xa.coords['g2']\n",
    "    n = g1.max().item() + 1\n",
    "    \n",
    "    mat = np.empty((n, n), dtype=xa.dtype)\n",
    "    mat[g1, g2] = xa.values\n",
    "    mat[g2, g1] = xa.values\n",
    "    \n",
    "    return xr.DataArray(mat, dims=[dim1, dim2])"
   ]
  },
  {
   "cell_type": "code",
   "execution_count": 8,
   "id": "56c3e2d8-78a1-4982-84da-0359b73a72ce",
   "metadata": {},
   "outputs": [],
   "source": [
    "def pairs2_to_matrix(xa1, xa2, dim1, dim2):\n",
    "    assert xa1.ndim == 1\n",
    "    assert xa2.ndim == 1\n",
    "    g1 = xa1.coords['g1']\n",
    "    g2 = xa1.coords['g2']\n",
    "    n = g1.max().item() + 1\n",
    "    \n",
    "    mat = np.empty((n, n), dtype=xa1.dtype)\n",
    "    mat[g1, g2] = xa1.values\n",
    "    mat[g2, g1] = xa2.values\n",
    "    \n",
    "    return xr.DataArray(mat, dims=[dim1, dim2])"
   ]
  },
  {
   "cell_type": "code",
   "execution_count": 9,
   "id": "1676de22-76ca-4db4-84e6-fbe3e913ed1f",
   "metadata": {},
   "outputs": [],
   "source": [
    "def leaf_order(link):\n",
    "    return dendrogram(link, no_plot=True)['leaves']\n",
    "\n",
    "def order_dmat(dmat, link):\n",
    "    leaves = leaf_order(link)\n",
    "    return dmat[np.ix_(leaves, leaves)]"
   ]
  },
  {
   "cell_type": "code",
   "execution_count": 10,
   "id": "53ba2da8-e1ca-493e-b30b-f8953d77d72a",
   "metadata": {
    "tags": []
   },
   "outputs": [],
   "source": [
    "def connected_components(edges):\n",
    "    components = dict()\n",
    "    cmap = dict()\n",
    "    cnext = 0\n",
    "    \n",
    "    for a, b in edges:\n",
    "        ac = cmap.get(a)\n",
    "        bc = cmap.get(b)\n",
    "        \n",
    "        if ac is None and bc is None:\n",
    "            components[cnext] = {a, b}\n",
    "            cmap[a] = cnext\n",
    "            cmap[b] = cnext\n",
    "            cnext += 1\n",
    "            \n",
    "        elif ac is None:\n",
    "            cmap[a] = bc\n",
    "            components[bc].add(a)\n",
    "            \n",
    "        elif bc is None:\n",
    "            cmap[b] = ac\n",
    "            components[ac].add(b)\n",
    "            \n",
    "        elif ac != bc:\n",
    "            for x in components[bc]:\n",
    "                cmap[x] = ac\n",
    "            components[ac] |= components[bc]\n",
    "            del components[bc]\n",
    "            \n",
    "    for c, nodes in components.items():\n",
    "        for x in nodes:\n",
    "            assert cmap[x] == c\n",
    "            \n",
    "    return list(components.values())"
   ]
  },
  {
   "cell_type": "markdown",
   "id": "e6ada79b-13da-4cf7-a23b-659a66902b0a",
   "metadata": {},
   "source": [
    "## Load data"
   ]
  },
  {
   "cell_type": "markdown",
   "id": "e81a3edd-f2a1-4800-9c94-da2f49906532",
   "metadata": {},
   "source": [
    "### Genomes"
   ]
  },
  {
   "cell_type": "code",
   "execution_count": 11,
   "id": "b32d4e7d-0fc2-48f2-bc76-39e2913be527",
   "metadata": {},
   "outputs": [],
   "source": [
    "genomes = pd.read_csv(infiles['genomes'], index_col=[0, 1])"
   ]
  },
  {
   "cell_type": "markdown",
   "id": "f8f54d37-fbf3-408b-b4bd-813397073d9e",
   "metadata": {},
   "source": [
    "### Common"
   ]
  },
  {
   "cell_type": "code",
   "execution_count": 12,
   "id": "63459a31-3d1f-42f8-8de1-157357ebc967",
   "metadata": {},
   "outputs": [],
   "source": [
    "common_ds = xr.load_dataset(infiles['data'], group='common')\n",
    "\n",
    "common_df = common_ds.to_dataframe(['data_set', 'param'])"
   ]
  },
  {
   "cell_type": "code",
   "execution_count": 13,
   "id": "68318ef5-2254-4dec-83c8-e035eabaff96",
   "metadata": {},
   "outputs": [],
   "source": [
    "gsets = common_ds.indexes['data_set']\n",
    "ngsets = len(gsets)"
   ]
  },
  {
   "cell_type": "markdown",
   "id": "44ef7fb1-0f09-4c12-a0f1-1320b09ca715",
   "metadata": {},
   "source": [
    "### Params"
   ]
  },
  {
   "cell_type": "code",
   "execution_count": 14,
   "id": "29834dc0-2de3-4629-98fb-4aa211e43a49",
   "metadata": {},
   "outputs": [],
   "source": [
    "params_df = common_ds \\\n",
    "    .drop_dims('data_set') \\\n",
    "    .to_dataframe() \\\n",
    "    .set_index(['prefix_len', 'prefix_version', 'k'], drop=True)"
   ]
  },
  {
   "cell_type": "code",
   "execution_count": 15,
   "id": "20d67094-f15c-4eab-b243-3f820c63ce29",
   "metadata": {},
   "outputs": [],
   "source": [
    "def get_param(prefix_len, prefix_version, k):\n",
    "    return params_df.index.get_loc((prefix_len, prefix_version, k))"
   ]
  },
  {
   "cell_type": "code",
   "execution_count": 16,
   "id": "35b0f13e-1462-42a2-8bd0-0b9f6f372953",
   "metadata": {},
   "outputs": [],
   "source": [
    "gambitdb_param = get_param(5, 0, 11)"
   ]
  },
  {
   "cell_type": "markdown",
   "id": "3380e0cb-6ff9-426e-bf33-d2dbae63a47a",
   "metadata": {},
   "source": [
    "### By genome"
   ]
  },
  {
   "cell_type": "code",
   "execution_count": 17,
   "id": "0b84fa25-e139-4d9a-8e8e-47a37baa30fd",
   "metadata": {},
   "outputs": [],
   "source": [
    "genome_dss = {gset: xr.load_dataset(infiles['data'], group='genome/' + gset) for gset in gsets}"
   ]
  },
  {
   "cell_type": "markdown",
   "id": "bc3236b4-e068-4924-84c7-a42ac8b6dd9e",
   "metadata": {},
   "source": [
    "## ANI unreported"
   ]
  },
  {
   "cell_type": "code",
   "execution_count": 18,
   "id": "e994e22d-6eb3-41b4-b346-df374c12cff6",
   "metadata": {},
   "outputs": [
    {
     "data": {
      "text/plain": [
       "['200726_gold_standard', 'konstantinidis_2005']"
      ]
     },
     "execution_count": 18,
     "metadata": {},
     "output_type": "execute_result"
    }
   ],
   "source": [
    "has_unreported = [k for k, ds in genome_dss.items() if not ds.reported_both.all()]\n",
    "has_unreported"
   ]
  },
  {
   "cell_type": "markdown",
   "id": "92614f25-ec99-4897-b735-3d5a3583a8ac",
   "metadata": {},
   "source": [
    "### Connected components"
   ]
  },
  {
   "cell_type": "code",
   "execution_count": 19,
   "id": "87b86c3d-14d8-44b5-b81a-f31eda974a8e",
   "metadata": {},
   "outputs": [],
   "source": [
    "for ds in genome_dss.values():\n",
    "    ds['reported_either'] = ds.reported_q1r2 | ds.reported_q2r1"
   ]
  },
  {
   "cell_type": "code",
   "execution_count": 20,
   "id": "36bc9602-52fe-4af8-ac02-96607a64a66c",
   "metadata": {},
   "outputs": [],
   "source": [
    "for gset in has_unreported:\n",
    "    ds = genome_dss[gset]\n",
    "\n",
    "    edges = zip(ds.g1[ds.reported_either].values, ds.g2[ds.reported_either].values)\n",
    "    ccs = connected_components(edges)\n",
    "    ccs = [sorted(cc) for cc in ccs if len(cc) > 1]\n",
    "    ccs.sort(key=len, reverse=True)\n",
    "\n",
    "    gcs = ds['genome_comp'] = xr.Variable(['genome'], np.zeros(ds.dims['genome'], dtype=int))\n",
    "    pcs = ds['pair_comp'] = xr.Variable(['pair'], np.zeros(ds.dims['pair'], dtype=int))\n",
    "    \n",
    "    for i, cc in enumerate(ccs):\n",
    "        idx = ds['genome'].isin(cc)\n",
    "        assert np.all(gcs[idx] == 0)\n",
    "        gcs[idx] == i + 1\n",
    "        \n",
    "        idx2 = ds.g1.isin(cc) & ds.reported_either\n",
    "        assert np.all(pcs[idx2] == 0)\n",
    "        pcs[idx2] = i + 1\n",
    "        \n",
    "    # Distance is one for all inter-component pairs\n",
    "    assert not np.any(ds['reported_either'].sel(pair=(ds['pair_comp'] == 0) & (ds.g1 != ds.g2)))"
   ]
  },
  {
   "cell_type": "code",
   "execution_count": 21,
   "id": "658b9353-de61-47cf-9e38-4f4648ffdbe9",
   "metadata": {},
   "outputs": [],
   "source": [
    "_dfs = []\n",
    "\n",
    "for gset in has_unreported:\n",
    "    ds = genome_dss[gset]\n",
    "    \n",
    "    _df = ds[['dist', 'reported_either']] \\\n",
    "        .sel(param=gambitdb_param) \\\n",
    "        .sel(pair=ds.g1 != ds.g2) \\\n",
    "        .to_dataframe()\n",
    "\n",
    "    _df['score'] = 1 - _df['dist']\n",
    "\n",
    "    _df['component'] = 0\n",
    "    _df['pair'] = 'inter'\n",
    "    for i, cc in enumerate(ccs):\n",
    "        if len(cc) < 5:\n",
    "            break\n",
    "        \n",
    "        idx = _df.g1.isin(cc) & _df.reported_either\n",
    "        _df.loc[idx, 'component'] = i + 1\n",
    "        _df.loc[idx, 'pair'] = f'within {i + 1}'\n",
    "        \n",
    "    # Zero scores are all for inter-component pairs\n",
    "    assert np.all(_df.loc[_df['score'] == 0, 'component'] == 0)\n",
    "        \n",
    "    _dfs.append(_df)"
   ]
  },
  {
   "cell_type": "code",
   "execution_count": 22,
   "id": "c4257a6b-b63d-4cb4-97b6-9d635b0a3289",
   "metadata": {},
   "outputs": [
    {
     "data": {
      "image/png": "[encoded data removed]",
      "text/plain": [
       "<Figure size 1296x864 with 2 Axes>"
      ]
     },
     "metadata": {
      "needs_background": "light"
     },
     "output_type": "display_data"
    }
   ],
   "source": [
    "fig, axs = plt.subplots(2, 1, figsize=(18, 12), sharex=True)\n",
    "\n",
    "for _df, ax, gset in zip(_dfs, axs, has_unreported):\n",
    "    sns.histplot(\n",
    "        ax=ax,\n",
    "        data=_df[_df['score'] != 0],\n",
    "        x='score',\n",
    "        hue='component',\n",
    "        stat='percent',\n",
    "        bins=50,\n",
    "    #     element='step',\n",
    "        log_scale=True,\n",
    "        multiple='stack',\n",
    "        common_norm=False,\n",
    "        palette='Set1',\n",
    "    )\n",
    "    \n",
    "    ax.set_title(gset)"
   ]
  },
  {
   "cell_type": "markdown",
   "id": "211f0429-bf3a-46d5-a0ad-5f554394e066",
   "metadata": {},
   "source": [
    "## ?"
   ]
  },
  {
   "cell_type": "code",
   "execution_count": 49,
   "id": "b0615291-7942-45fc-9c4c-4ad9c5790d22",
   "metadata": {},
   "outputs": [],
   "source": [
    "from src.esummary_store import BasicEsummaryStore"
   ]
  },
  {
   "cell_type": "code",
   "execution_count": 50,
   "id": "f0dfdf5a-3d3f-453b-a1f0-a1802af595d5",
   "metadata": {},
   "outputs": [],
   "source": [
    "esummaries = BasicEsummaryStore('assembly', '/home/jared/projects/gambit/data/ncbi/assembly/esummary/')"
   ]
  },
  {
   "cell_type": "code",
   "execution_count": 52,
   "id": "7e3c752d-b9de-46d3-a664-9c90bd369937",
   "metadata": {},
   "outputs": [
    {
     "data": {
      "text/plain": [
       "{'uid': '467788',\n",
       " 'rsuid': '467788',\n",
       " 'gbuid': '316998',\n",
       " 'assemblyaccession': 'GCF_000235225.1',\n",
       " 'lastmajorreleaseaccession': 'GCF_000235225.1',\n",
       " 'latestaccession': '',\n",
       " 'chainid': '235225',\n",
       " 'assemblyname': 'Esch_coli_09-7901_V2',\n",
       " 'ucscname': '',\n",
       " 'ensemblname': '',\n",
       " 'taxid': '1048266',\n",
       " 'organism': 'Escherichia coli O104:H4 str. 09-7901 (E. coli)',\n",
       " 'speciestaxid': '562',\n",
       " 'speciesname': 'Escherichia coli',\n",
       " 'assemblytype': 'haploid',\n",
       " 'assemblyclass': 'haploid',\n",
       " 'assemblystatus': 'Scaffold',\n",
       " 'assemblystatussort': 5,\n",
       " 'wgs': 'AFRK01',\n",
       " 'gb_bioprojects': [{'bioprojectaccn': 'PRJNA68213', 'bioprojectid': 68213}],\n",
       " 'gb_projects': [],\n",
       " 'rs_bioprojects': [{'bioprojectaccn': 'PRJNA224116', 'bioprojectid': 224116}],\n",
       " 'rs_projects': [],\n",
       " 'biosampleaccn': 'SAMN00715302',\n",
       " 'biosampleid': '715302',\n",
       " 'biosource': {'infraspecieslist': [{'sub_type': 'strain',\n",
       "    'sub_value': '09-7901'}],\n",
       "  'sex': '',\n",
       "  'isolate': ''},\n",
       " 'coverage': '214',\n",
       " 'partialgenomerepresentation': 'false',\n",
       " 'primary': '467778',\n",
       " 'assemblydescription': '',\n",
       " 'releaselevel': 'Major',\n",
       " 'releasetype': 'Major',\n",
       " 'asmreleasedate_genbank': '2011/11/18 00:00',\n",
       " 'asmreleasedate_refseq': '2012/11/23 00:00',\n",
       " 'seqreleasedate': '2011/11/18 00:00',\n",
       " 'asmupdatedate': '2014/10/02 00:00',\n",
       " 'submissiondate': '2011/11/18 00:00',\n",
       " 'lastupdatedate': '2014/10/02 00:00',\n",
       " 'submitterorganization': 'Broad Institute',\n",
       " 'refseq_category': 'na',\n",
       " 'anomalouslist': [],\n",
       " 'exclfromrefseq': [],\n",
       " 'propertylist': ['full-genome-representation',\n",
       "  'genbank_has_annotation',\n",
       "  'has_annotation',\n",
       "  'latest',\n",
       "  'latest_genbank',\n",
       "  'latest_refseq',\n",
       "  'refseq_has_annotation',\n",
       "  'wgs'],\n",
       " 'fromtype': '',\n",
       " 'synonym': {'genbank': 'GCA_000235225.1',\n",
       "  'refseq': 'GCF_000235225.1',\n",
       "  'similarity': 'identical'},\n",
       " 'contign50': 1058150,\n",
       " 'scaffoldn50': 1589325,\n",
       " 'ftppath_genbank': 'ftp://ftp.ncbi.nlm.nih.gov/genomes/all/GCA/000/235/225/GCA_000235225.1_Esch_coli_09-7901_V2',\n",
       " 'ftppath_refseq': 'ftp://ftp.ncbi.nlm.nih.gov/genomes/all/GCF/000/235/225/GCF_000235225.1_Esch_coli_09-7901_V2',\n",
       " 'ftppath_assembly_rpt': 'ftp://ftp.ncbi.nlm.nih.gov/genomes/all/GCF/000/235/225/GCF_000235225.1_Esch_coli_09-7901_V2/GCF_000235225.1_Esch_coli_09-7901_V2_assembly_report.txt',\n",
       " 'ftppath_stats_rpt': 'ftp://ftp.ncbi.nlm.nih.gov/genomes/all/GCF/000/235/225/GCF_000235225.1_Esch_coli_09-7901_V2/GCF_000235225.1_Esch_coli_09-7901_V2_assembly_stats.txt',\n",
       " 'ftppath_regions_rpt': '',\n",
       " 'busco': {'refseqannotationrelease': '',\n",
       "  'buscolineage': '',\n",
       "  'buscover': '',\n",
       "  'complete': '',\n",
       "  'singlecopy': '',\n",
       "  'duplicated': '',\n",
       "  'fragmented': '',\n",
       "  'missing': '',\n",
       "  'totalcount': ''},\n",
       " 'sortorder': '5C5X05FF9989418490002352259898',\n",
       " 'meta': ' <Stats> <Stat category=\"alt_loci_count\" sequence_tag=\"all\">0</Stat> <Stat category=\"chromosome_count\" sequence_tag=\"all\">0</Stat> <Stat category=\"contig_count\" sequence_tag=\"all\">17</Stat> <Stat category=\"contig_l50\" sequence_tag=\"all\">3</Stat> <Stat category=\"contig_n50\" sequence_tag=\"all\">1058150</Stat> <Stat category=\"non_chromosome_replicon_count\" sequence_tag=\"all\">0</Stat> <Stat category=\"replicon_count\" sequence_tag=\"all\">0</Stat> <Stat category=\"scaffold_count\" sequence_tag=\"all\">10</Stat> <Stat category=\"scaffold_count\" sequence_tag=\"placed\">0</Stat> <Stat category=\"scaffold_count\" sequence_tag=\"unlocalized\">0</Stat> <Stat category=\"scaffold_count\" sequence_tag=\"unplaced\">10</Stat> <Stat category=\"scaffold_l50\" sequence_tag=\"all\">2</Stat> <Stat category=\"scaffold_n50\" sequence_tag=\"all\">1589325</Stat> <Stat category=\"total_length\" sequence_tag=\"all\">5300068</Stat> <Stat category=\"ungapped_length\" sequence_tag=\"all\">5288048</Stat> </Stats> <FtpSites>   <FtpPath type=\"Assembly_rpt\">ftp://ftp.ncbi.nlm.nih.gov/genomes/all/GCF/000/235/225/GCF_000235225.1_Esch_coli_09-7901_V2/GCF_000235225.1_Esch_coli_09-7901_V2_assembly_report.txt</FtpPath>   <FtpPath type=\"GenBank\">ftp://ftp.ncbi.nlm.nih.gov/genomes/all/GCA/000/235/225/GCA_000235225.1_Esch_coli_09-7901_V2</FtpPath>   <FtpPath type=\"RefSeq\">ftp://ftp.ncbi.nlm.nih.gov/genomes/all/GCF/000/235/225/GCF_000235225.1_Esch_coli_09-7901_V2</FtpPath>   <FtpPath type=\"Stats_rpt\">ftp://ftp.ncbi.nlm.nih.gov/genomes/all/GCF/000/235/225/GCF_000235225.1_Esch_coli_09-7901_V2/GCF_000235225.1_Esch_coli_09-7901_V2_assembly_stats.txt</FtpPath> </FtpSites> <assembly-level>2</assembly-level> <assembly-status>Scaffold</assembly-status> <representative-status>na</representative-status> <submitter-organization>Broad Institute</submitter-organization> <taxonomy-check-status>OK</taxonomy-check-status>    '}"
      ]
     },
     "execution_count": 52,
     "metadata": {},
     "output_type": "execute_result"
    }
   ],
   "source": [
    "next(iter(esummaries.values()))"
   ]
  },
  {
   "cell_type": "code",
   "execution_count": 26,
   "id": "b3c24adf-753f-40aa-b91c-a056effc16f0",
   "metadata": {},
   "outputs": [],
   "source": [
    "from Bio import Entrez"
   ]
  },
  {
   "cell_type": "code",
   "execution_count": 32,
   "id": "386f85b0-b2e7-462b-bcb5-8dbd326b8fad",
   "metadata": {},
   "outputs": [],
   "source": [
    "import json"
   ]
  },
  {
   "cell_type": "code",
   "execution_count": 28,
   "id": "86501908-95de-4e1e-b31c-ab275120f663",
   "metadata": {},
   "outputs": [],
   "source": [
    "Entrez.email = 'mjlumpe@gmail.com'\n",
    "Entrez.api_key = 'adea2a53e6e44c3cc42c932f9ba4bdffa809'"
   ]
  },
  {
   "cell_type": "code",
   "execution_count": 53,
   "id": "1e76051c-5cdf-4fb2-8422-058c3fe619d5",
   "metadata": {},
   "outputs": [],
   "source": [
    "with Entrez.esummary(db='taxonomy', id=1048266, retmode='json') as f:\n",
    "    data = json.load(f)"
   ]
  },
  {
   "cell_type": "code",
   "execution_count": 55,
   "id": "f656f826-b6e5-4a81-a654-c0304446b756",
   "metadata": {},
   "outputs": [],
   "source": [
    "data = Entrez.read(Entrez.efetch(db='taxonomy', id=1048266))"
   ]
  },
  {
   "cell_type": "code",
   "execution_count": 56,
   "id": "33306b72-52b5-45f3-b6dc-6d99599e61b4",
   "metadata": {},
   "outputs": [
    {
     "data": {
      "text/plain": [
       "{'TaxId': '1048266', 'ScientificName': 'Escherichia coli O104:H4 str. 09-7901', 'OtherNames': {'GenbankAnamorph': [], 'Misnomer': [], 'Synonym': [], 'Teleomorph': [], 'Acronym': [], 'CommonName': [], 'Misspelling': [], 'Inpart': [], 'Name': [], 'Anamorph': [], 'EquivalentName': ['Escherichia coli O104:H4 strain 09-7901'], 'GenbankSynonym': [], 'Includes': []}, 'ParentTaxId': '1038927', 'Rank': 'strain', 'Division': 'Bacteria', 'GeneticCode': {'GCId': '11', 'GCName': 'Bacterial, Archaeal and Plant Plastid'}, 'MitoGeneticCode': {'MGCId': '0', 'MGCName': 'Unspecified'}, 'Lineage': 'cellular organisms; Bacteria; Proteobacteria; Gammaproteobacteria; Enterobacterales; Enterobacteriaceae; Escherichia; Escherichia coli; Escherichia coli O104:H4', 'LineageEx': [{'TaxId': '131567', 'ScientificName': 'cellular organisms', 'Rank': 'no rank'}, {'TaxId': '2', 'ScientificName': 'Bacteria', 'Rank': 'superkingdom'}, {'TaxId': '1224', 'ScientificName': 'Proteobacteria', 'Rank': 'phylum'}, {'TaxId': '1236', 'ScientificName': 'Gammaproteobacteria', 'Rank': 'class'}, {'TaxId': '91347', 'ScientificName': 'Enterobacterales', 'Rank': 'order'}, {'TaxId': '543', 'ScientificName': 'Enterobacteriaceae', 'Rank': 'family'}, {'TaxId': '561', 'ScientificName': 'Escherichia', 'Rank': 'genus'}, {'TaxId': '562', 'ScientificName': 'Escherichia coli', 'Rank': 'species'}, {'TaxId': '1038927', 'ScientificName': 'Escherichia coli O104:H4', 'Rank': 'serotype'}], 'CreateDate': '2011/06/20 17:26:45', 'UpdateDate': '2018/11/23 17:31:12', 'PubDate': '2011/09/03 18:00:30'}"
      ]
     },
     "execution_count": 56,
     "metadata": {},
     "output_type": "execute_result"
    }
   ],
   "source": [
    "data[0]"
   ]
  },
  {
   "cell_type": "code",
   "execution_count": 57,
   "id": "bad719f2-c335-4b3f-b76d-e896ca51ee56",
   "metadata": {},
   "outputs": [
    {
     "data": {
      "text/plain": [
       "[{'TaxId': '131567', 'ScientificName': 'cellular organisms', 'Rank': 'no rank'},\n",
       " {'TaxId': '2', 'ScientificName': 'Bacteria', 'Rank': 'superkingdom'},\n",
       " {'TaxId': '1224', 'ScientificName': 'Proteobacteria', 'Rank': 'phylum'},\n",
       " {'TaxId': '1236', 'ScientificName': 'Gammaproteobacteria', 'Rank': 'class'},\n",
       " {'TaxId': '91347', 'ScientificName': 'Enterobacterales', 'Rank': 'order'},\n",
       " {'TaxId': '543', 'ScientificName': 'Enterobacteriaceae', 'Rank': 'family'},\n",
       " {'TaxId': '561', 'ScientificName': 'Escherichia', 'Rank': 'genus'},\n",
       " {'TaxId': '562', 'ScientificName': 'Escherichia coli', 'Rank': 'species'},\n",
       " {'TaxId': '1038927', 'ScientificName': 'Escherichia coli O104:H4', 'Rank': 'serotype'}]"
      ]
     },
     "execution_count": 57,
     "metadata": {},
     "output_type": "execute_result"
    }
   ],
   "source": [
    "list(data[0]['LineageEx'])"
   ]
  },
  {
   "cell_type": "code",
   "execution_count": 48,
   "id": "67baadd0-d679-49ce-ae91-aa08dfd624ed",
   "metadata": {},
   "outputs": [
    {
     "name": "stdout",
     "output_type": "stream",
     "text": [
      "fastani  gambit  genomes\n"
     ]
    }
   ],
   "source": [
    "!ls tmp"
   ]
  },
  {
   "cell_type": "code",
   "execution_count": 45,
   "id": "2f3f138b-4edd-43a9-867a-6f2df5ded837",
   "metadata": {},
   "outputs": [
    {
     "data": {
      "text/plain": [
       "{'TaxId': '1755381',\n",
       " 'ScientificName': 'Norovirus Hu/GII.4_variant Sydney 2012/NZ13729/2013/NZ',\n",
       " 'ParentTaxId': '489821',\n",
       " 'Rank': 'no rank',\n",
       " 'Division': 'Viruses',\n",
       " 'GeneticCode': {'GCId': '1', 'GCName': 'Standard'},\n",
       " 'MitoGeneticCode': {'MGCId': '0', 'MGCName': 'Unspecified'},\n",
       " 'Lineage': 'Viruses; Riboviria; Orthornavirae; Pisuviricota; Pisoniviricetes; Picornavirales; Caliciviridae; Norovirus; Norwalk virus; Norovirus GII; Norovirus GII.4',\n",
       " 'LineageEx': [{'TaxId': '10239', 'ScientificName': 'Viruses', 'Rank': 'superkingdom'}, {'TaxId': '2559587', 'ScientificName': 'Riboviria', 'Rank': 'clade'}, {'TaxId': '2732396', 'ScientificName': 'Orthornavirae', 'Rank': 'kingdom'}, {'TaxId': '2732408', 'ScientificName': 'Pisuviricota', 'Rank': 'phylum'}, {'TaxId': '2732506', 'ScientificName': 'Pisoniviricetes', 'Rank': 'class'}, {'TaxId': '464095', 'ScientificName': 'Picornavirales', 'Rank': 'order'}, {'TaxId': '11974', 'ScientificName': 'Caliciviridae', 'Rank': 'family'}, {'TaxId': '142786', 'ScientificName': 'Norovirus', 'Rank': 'genus'}, {'TaxId': '11983', 'ScientificName': 'Norwalk virus', 'Rank': 'species'}, {'TaxId': '122929', 'ScientificName': 'Norovirus GII', 'Rank': 'clade'}, {'TaxId': '489821', 'ScientificName': 'Norovirus GII.4', 'Rank': 'clade'}],\n",
       " 'CreateDate': '2015/11/12 14:10:55',\n",
       " 'UpdateDate': '2015/11/20 01:45:12',\n",
       " 'PubDate': '2015/11/20 01:05:27'}"
      ]
     },
     "execution_count": 45,
     "metadata": {},
     "output_type": "execute_result"
    }
   ],
   "source": [
    "dict(_)"
   ]
  },
  {
   "cell_type": "code",
   "execution_count": 41,
   "id": "e45a345f-8904-4540-abb7-379f05c3848a",
   "metadata": {},
   "outputs": [
    {
     "data": {
      "text/plain": [
       "b'1755381\\n'"
      ]
     },
     "execution_count": 41,
     "metadata": {},
     "output_type": "execute_result"
    }
   ],
   "source": [
    "data2"
   ]
  },
  {
   "cell_type": "code",
   "execution_count": 37,
   "id": "50fd3e16-bb12-4858-b1d0-eda168ebc8cc",
   "metadata": {},
   "outputs": [],
   "source": [
    "with Entrez.esummary(db='taxonomy', id=1755381) as f:\n",
    "    data3 = f.read()"
   ]
  },
  {
   "cell_type": "code",
   "execution_count": 39,
   "id": "9e9a9063-415c-4188-b275-8611ac22335e",
   "metadata": {},
   "outputs": [
    {
     "name": "stdout",
     "output_type": "stream",
     "text": [
      "<?xml version=\"1.0\" encoding=\"UTF-8\" ?>\n",
      "<!DOCTYPE eSummaryResult PUBLIC \"-//NLM//DTD esummary v1 20041029//EN\" \"https://eutils.ncbi.nlm.nih.gov/eutils/dtd/20041029/esummary-v1.dtd\">\n",
      "<eSummaryResult>\n",
      "<DocSum>\n",
      "\t<Id>1755381</Id>\n",
      "\t<Item Name=\"Status\" Type=\"String\">active</Item>\n",
      "\t<Item Name=\"Rank\" Type=\"String\">isolate</Item>\n",
      "\t<Item Name=\"Division\" Type=\"String\">viruses</Item>\n",
      "\t<Item Name=\"ScientificName\" Type=\"String\">Norovirus Hu/GII.4_variant Sydney 2012/NZ13729/2013/NZ</Item>\n",
      "\t<Item Name=\"CommonName\" Type=\"String\"></Item>\n",
      "\t<Item Name=\"TaxId\" Type=\"Integer\">1755381</Item>\n",
      "\t<Item Name=\"AkaTaxId\" Type=\"Integer\">0</Item>\n",
      "\t<Item Name=\"Genus\" Type=\"String\"></Item>\n",
      "\t<Item Name=\"Species\" Type=\"String\"></Item>\n",
      "\t<Item Name=\"Subsp\" Type=\"String\"></Item>\n",
      "\t<Item Name=\"ModificationDate\" Type=\"Date\">2015/11/20 00:00</Item>\n",
      "</DocSum>\n",
      "\n",
      "</eSummaryResult>\n",
      "\n"
     ]
    }
   ],
   "source": [
    "print(data3.decode())"
   ]
  },
  {
   "cell_type": "code",
   "execution_count": null,
   "id": "1d468894-75af-4e38-a927-30ce0f542abb",
   "metadata": {},
   "outputs": [],
   "source": [
    "print(data2.decode())"
   ]
  },
  {
   "cell_type": "code",
   "execution_count": null,
   "id": "377f84d3-f23f-42ca-a200-f2b99d6d581a",
   "metadata": {},
   "outputs": [],
   "source": []
  },
  {
   "cell_type": "code",
   "execution_count": null,
   "id": "366eec16-1829-43a6-8c20-96cf5b721aef",
   "metadata": {},
   "outputs": [],
   "source": [
    "esummaries['1755381']"
   ]
  }
 ],
 "metadata": {
  "kernelspec": {
   "display_name": "GAMBIT",
   "language": "python",
   "name": "gambit"
  },
  "language_info": {
   "codemirror_mode": {
    "name": "ipython",
    "version": 3
   },
   "file_extension": ".py",
   "mimetype": "text/x-python",
   "name": "python",
   "nbconvert_exporter": "python",
   "pygments_lexer": "ipython3",
   "version": "3.9.7"
  }
 },
 "nbformat": 4,
 "nbformat_minor": 5
}
