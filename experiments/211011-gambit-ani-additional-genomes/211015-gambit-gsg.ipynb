{
 "cells": [
  {
   "cell_type": "markdown",
   "id": "2195bec5-ddef-4f30-aa9d-a184315e9265",
   "metadata": {},
   "source": [
    "# 211015 Gambit gold standard genomes"
   ]
  },
  {
   "cell_type": "code",
   "execution_count": 1,
   "id": "38c9e0e9-4183-4db1-8761-882c5d106c47",
   "metadata": {},
   "outputs": [],
   "source": [
    "from pathlib import Path"
   ]
  },
  {
   "cell_type": "code",
   "execution_count": 2,
   "id": "c82dab84-2aa0-40bd-a49f-b8d87949463c",
   "metadata": {},
   "outputs": [],
   "source": [
    "import numpy as np\n",
    "import pandas as pd\n",
    "import h5py as h5\n",
    "from tqdm import tqdm"
   ]
  },
  {
   "cell_type": "code",
   "execution_count": 3,
   "id": "e1c73d28-c101-4664-835d-5e4a82b1b47e",
   "metadata": {},
   "outputs": [],
   "source": [
    "from gambit.kmers import KmerSpec\n",
    "from gambit.signatures.calc import calc_file_signatures\n",
    "from gambit.io.seq import SequenceFile\n",
    "from gambit.signatures import SignatureArray\n",
    "from gambit.signatures.hdf5 import HDF5Signatures\n",
    "from gambit.metric import jaccarddist_matrix"
   ]
  },
  {
   "cell_type": "markdown",
   "id": "e7563b82-8ece-4adf-b9c0-d344867c47d8",
   "metadata": {},
   "source": [
    "## Setup"
   ]
  },
  {
   "cell_type": "code",
   "execution_count": 4,
   "id": "3c421530-9244-4bc4-b419-6fe6839b57cf",
   "metadata": {},
   "outputs": [],
   "source": [
    "DATESTR = '211015'\n",
    "NBNAME = DATESTR + '-gambit-gsg'"
   ]
  },
  {
   "cell_type": "code",
   "execution_count": 5,
   "id": "5c9f10fa-bf06-4c33-9691-e126ba230969",
   "metadata": {},
   "outputs": [],
   "source": [
    "DATASET = '200726_gold_standard'"
   ]
  },
  {
   "cell_type": "code",
   "execution_count": 6,
   "id": "34c90aa8-c9fc-4bb2-b2e0-b2c1460ebdc9",
   "metadata": {
    "tags": []
   },
   "outputs": [],
   "source": [
    "tmpdir = Path('tmp')\n",
    "\n",
    "signatures_dir = tmpdir / 'gambit' / DATASET\n",
    "signatures_dir.mkdir(exist_ok=True)"
   ]
  },
  {
   "cell_type": "code",
   "execution_count": 7,
   "id": "4488761a-6342-4cd3-adaa-015e8da75c3f",
   "metadata": {},
   "outputs": [],
   "source": [
    "infiles = dict(\n",
    "    genomes=Path('/home/jared/projects/gambit/data/validation/200726-gold-standard-seqs/files.csv'),\n",
    "    genomes_dir=Path('/home/jared/projects/gambit/data/validation/200726-gold-standard-seqs/fasta/'),\n",
    "    params=Path('../../data/intermediate/210902-mash-Escherichia-genomes/210917-gambit/params.csv')\n",
    ")"
   ]
  },
  {
   "cell_type": "code",
   "execution_count": 16,
   "id": "14837839-f147-4cc5-b362-d27d5aced236",
   "metadata": {},
   "outputs": [],
   "source": [
    "intermediate_out = Path('data-intermediate') / NBNAME\n",
    "intermediate_out.mkdir(exist_ok=True)\n",
    "\n",
    "outfile = intermediate_out / f'{DATASET}.h5'"
   ]
  },
  {
   "cell_type": "markdown",
   "id": "e6ada79b-13da-4cf7-a23b-659a66902b0a",
   "metadata": {},
   "source": [
    "## Load data"
   ]
  },
  {
   "cell_type": "code",
   "execution_count": 9,
   "id": "d500eb70-dfeb-43b6-b179-50de1b60687c",
   "metadata": {},
   "outputs": [
    {
     "data": {
      "text/plain": [
       "80"
      ]
     },
     "execution_count": 9,
     "metadata": {},
     "output_type": "execute_result"
    }
   ],
   "source": [
    "genomes_all = pd.read_csv(infiles['genomes'])\n",
    "\n",
    "# Exclude 200817 set\n",
    "genomes = genomes_all.loc[genomes_all['set'] == 200726, 'name']\n",
    "\n",
    "ngenomes = len(genomes)\n",
    "ngenomes"
   ]
  },
  {
   "cell_type": "code",
   "execution_count": 10,
   "id": "2eface1c-b73c-4910-b05a-142ce407a47c",
   "metadata": {},
   "outputs": [
    {
     "data": {
      "text/plain": [
       "192"
      ]
     },
     "execution_count": 10,
     "metadata": {},
     "output_type": "execute_result"
    }
   ],
   "source": [
    "params_df = pd.read_csv(infiles['params'], index_col=['prefix_len', 'prefix_version', 'k'])\n",
    "\n",
    "params_df['kspec'] = [KmerSpec(row.k, row.prefix) for i, row in params_df.reset_index().iterrows()]\n",
    "\n",
    "nparams = params_df.shape[0]\n",
    "nparams"
   ]
  },
  {
   "cell_type": "markdown",
   "id": "422fa322-c706-4204-8fac-862af15635b7",
   "metadata": {},
   "source": [
    "## Calculate signatures"
   ]
  },
  {
   "cell_type": "code",
   "execution_count": 11,
   "id": "d0fa1b38-7d69-4af5-9e79-d26a0a2bda2c",
   "metadata": {},
   "outputs": [],
   "source": [
    "genome_files = SequenceFile.from_paths((infiles['genomes_dir'] / f'{name}.fasta.gz' for name in genomes), 'fasta', 'gzip')"
   ]
  },
  {
   "cell_type": "code",
   "execution_count": 12,
   "id": "abd644c3-0d29-4cbb-bf6a-c6e80894a8bd",
   "metadata": {},
   "outputs": [],
   "source": [
    "signature_files = {kspec: signatures_dir / f'{kspec.k}-{kspec.prefix_str}.h5' for kspec in params_df['kspec']}"
   ]
  },
  {
   "cell_type": "code",
   "execution_count": 13,
   "id": "22895bf0-7f6d-4629-a517-ae46d763ed48",
   "metadata": {},
   "outputs": [
    {
     "name": "stderr",
     "output_type": "stream",
     "text": [
      "100%|██████████| 192/192 [00:00<00:00, 97778.82it/s]\n"
     ]
    }
   ],
   "source": [
    "for kspec in tqdm(params_df['kspec']):\n",
    "    file = signature_files[kspec]\n",
    "    if file.is_file():\n",
    "        continue\n",
    "\n",
    "    sigs = calc_file_signatures(kspec, genome_files, concurrency='processes', max_workers=12)\n",
    "\n",
    "    with h5.File(file, 'w') as f:\n",
    "        HDF5Signatures.create(f, sigs, genomes)"
   ]
  },
  {
   "cell_type": "markdown",
   "id": "2b610762-0964-49b2-85d1-cf3e4cf11d5a",
   "metadata": {},
   "source": [
    "## Pairwise distances"
   ]
  },
  {
   "cell_type": "code",
   "execution_count": 14,
   "id": "9b7177c4-8938-4217-b843-d49d8e99aa99",
   "metadata": {},
   "outputs": [
    {
     "name": "stderr",
     "output_type": "stream",
     "text": [
      "100%|██████████| 192/192 [00:45<00:00,  4.20it/s]\n"
     ]
    }
   ],
   "source": [
    "gi1, gi2 = np.tril_indices(ngenomes)\n",
    "npairs = len(gi1)\n",
    "\n",
    "dists_square = np.empty((ngenomes, ngenomes), dtype=np.float32)\n",
    "dists_flat = np.empty((nparams, npairs), dtype=np.float32)\n",
    "kmer_counts = np.empty((nparams, ngenomes), dtype=int)\n",
    "\n",
    "for i, kspec in enumerate(tqdm(params_df['kspec'])):\n",
    "    with HDF5Signatures.open(signature_files[kspec]) as h5sigs:\n",
    "        sigs = h5sigs[:]\n",
    "\n",
    "    jaccarddist_matrix(sigs, sigs, out=dists_square)\n",
    "    dists_flat[i, :] = dists_square[gi1, gi2]\n",
    "\n",
    "    kmer_counts[i, :] = sigs.sizes()"
   ]
  },
  {
   "cell_type": "code",
   "execution_count": 18,
   "id": "b6699376-3a00-4687-bafb-a20cbc012fa4",
   "metadata": {},
   "outputs": [],
   "source": [
    "with h5.File(outfile, 'w') as f:\n",
    "    f.create_dataset('genome1', data=gi1)\n",
    "    f.create_dataset('genome2', data=gi2)\n",
    "    f.create_dataset('pw_dists', data=dists_flat)\n",
    "    f.create_dataset('kmer_counts', data=kmer_counts)"
   ]
  }
 ],
 "metadata": {
  "kernelspec": {
   "display_name": "GAMBIT",
   "language": "python",
   "name": "gambit"
  },
  "language_info": {
   "codemirror_mode": {
    "name": "ipython",
    "version": 3
   },
   "file_extension": ".py",
   "mimetype": "text/x-python",
   "name": "python",
   "nbconvert_exporter": "python",
   "pygments_lexer": "ipython3",
   "version": "3.9.7"
  }
 },
 "nbformat": 4,
 "nbformat_minor": 5
}
