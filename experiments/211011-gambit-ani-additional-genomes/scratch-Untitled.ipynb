{
 "cells": [
  {
   "cell_type": "code",
   "execution_count": 1,
   "id": "3d22d974-8842-43d9-84f2-b1042c4c761c",
   "metadata": {},
   "outputs": [
    {
     "name": "stderr",
     "output_type": "stream",
     "text": [
      "┌ Info: Precompiling NCDatasets [85f8d34a-cbdd-5861-8df4-14fed0d494ab]\n",
      "└ @ Base loading.jl:1317\n"
     ]
    }
   ],
   "source": [
    "using NCDatasets"
   ]
  },
  {
   "cell_type": "code",
   "execution_count": 29,
   "id": "9e35758f-a280-4dc1-8e9d-325301596cd5",
   "metadata": {},
   "outputs": [],
   "source": [
    "root = NCDataset(\"data-intermediate/211015-combine-data/data.nc\");\n",
    "genome_dss = root.group[\"genome\"].group;"
   ]
  },
  {
   "cell_type": "code",
   "execution_count": 35,
   "id": "c27c0933-8d4c-4711-b562-cc1c7bfa637e",
   "metadata": {},
   "outputs": [],
   "source": [
    "gsets = collect(keys(genome_dss));"
   ]
  },
  {
   "cell_type": "code",
   "execution_count": 38,
   "id": "097fe30d-e644-44d1-b357-f844fc478f77",
   "metadata": {},
   "outputs": [],
   "source": [
    "gset = \"konstantinidis_2005\"\n",
    "ds = genome_dss[gset];"
   ]
  },
  {
   "cell_type": "code",
   "execution_count": 43,
   "id": "ae598967-053f-46a1-892e-138bf8201157",
   "metadata": {},
   "outputs": [
    {
     "data": {
      "text/plain": [
       "3-element Vector{Any}:\n",
       "   \"pair\" => 2485\n",
       "  \"param\" => 192\n",
       " \"genome\" => 70"
      ]
     },
     "execution_count": 43,
     "metadata": {},
     "output_type": "execute_result"
    }
   ],
   "source": [
    "collect(ds.dim)"
   ]
  },
  {
   "cell_type": "code",
   "execution_count": 45,
   "id": "71fbe362-fa4c-4565-853b-9f7cc031d797",
   "metadata": {},
   "outputs": [
    {
     "data": {
      "text/plain": [
       "\u001b[32mani_mean\u001b[39m (2485)\n",
       "  Datatype:    Float64\n",
       "  Dimensions:  pair\n",
       "  Attributes:\n",
       "   _FillValue           = \u001b[36mNaN\u001b[39m\n",
       "   coordinates          = \u001b[36mg1 g2\u001b[39m\n"
      ]
     },
     "execution_count": 45,
     "metadata": {},
     "output_type": "execute_result"
    }
   ],
   "source": [
    "ds[\"ani_mean\"]"
   ]
  },
  {
   "cell_type": "code",
   "execution_count": 47,
   "id": "204e742a-ffbd-4d0b-abc5-29b4efa7733c",
   "metadata": {},
   "outputs": [
    {
     "data": {
      "text/plain": [
       "NCDatasets.CFVariable{Union{Missing, Float64}, 1, NCDatasets.Variable{Float64, 1, NCDataset{NCDataset{NCDataset{Nothing}}}}, NCDatasets.Attributes{NCDataset{NCDataset{NCDataset{Nothing}}}}, NamedTuple{(:fillvalue, :scale_factor, :add_offset, :calendar, :time_origin, :time_factor), Tuple{Float64, Nothing, Nothing, Nothing, Nothing, Nothing}}}"
      ]
     },
     "execution_count": 47,
     "metadata": {},
     "output_type": "execute_result"
    }
   ],
   "source": [
    "typeof(ans)"
   ]
  },
  {
   "cell_type": "code",
   "execution_count": null,
   "id": "2f861397-3efd-4bc1-b271-ad55b808c483",
   "metadata": {},
   "outputs": [],
   "source": []
  }
 ],
 "metadata": {
  "kernelspec": {
   "display_name": "Julia 1.6.0",
   "language": "julia",
   "name": "julia-1.6"
  },
  "language_info": {
   "file_extension": ".jl",
   "mimetype": "application/julia",
   "name": "julia",
   "version": "1.6.0"
  }
 },
 "nbformat": 4,
 "nbformat_minor": 5
}
