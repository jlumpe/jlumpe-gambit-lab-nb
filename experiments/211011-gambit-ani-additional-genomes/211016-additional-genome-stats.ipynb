{
 "cells": [
  {
   "cell_type": "markdown",
   "id": "c5f89d48-2328-4429-ba12-49a889d91416",
   "metadata": {},
   "source": [
    "# 211016 additional genome stats"
   ]
  },
  {
   "cell_type": "code",
   "execution_count": 1,
   "id": "5021bebc-7b87-4bcb-ae04-5cae97a54751",
   "metadata": {},
   "outputs": [],
   "source": [
    "from pathlib import Path\n",
    "import json\n",
    "import sys"
   ]
  },
  {
   "cell_type": "code",
   "execution_count": 2,
   "id": "5c9525b9-e2be-41ff-99c0-dcc1563921b8",
   "metadata": {},
   "outputs": [],
   "source": [
    "import numpy as np\n",
    "import pandas as pd\n",
    "from tqdm.notebook import tqdm\n",
    "from Bio import Entrez"
   ]
  },
  {
   "cell_type": "code",
   "execution_count": 3,
   "id": "88bcf2c6-f1b3-4834-8e66-b73cccf9ea30",
   "metadata": {},
   "outputs": [],
   "source": [
    "from gambit.io.seq import SequenceFile\n",
    "import entrez_tools as ez\n",
    "from entrez_tools.db import assembly"
   ]
  },
  {
   "cell_type": "code",
   "execution_count": 4,
   "id": "e714b43d-8e06-4a74-836b-8b668e4dbb55",
   "metadata": {},
   "outputs": [],
   "source": [
    "sys.path.insert(0, './src')\n",
    "from esummary_store import BasicEsummaryStore"
   ]
  },
  {
   "cell_type": "markdown",
   "id": "d878283d-6143-41a2-b43f-e5f014084490",
   "metadata": {},
   "source": [
    "## Setup"
   ]
  },
  {
   "cell_type": "code",
   "execution_count": 5,
   "id": "c7bde044-3096-4723-a5a4-a54865a4865d",
   "metadata": {},
   "outputs": [],
   "source": [
    "DATESTR = '211016'\n",
    "NBNAME = DATESTR + '-additional-genome-stats'"
   ]
  },
  {
   "cell_type": "code",
   "execution_count": 6,
   "id": "3787527a-6bf1-4c32-bfc3-28aa7b41d70e",
   "metadata": {},
   "outputs": [],
   "source": [
    "tmpdir = Path('tmp')\n",
    "\n",
    "infiles = dict(\n",
    "    genomes=Path('data-processed/211015-combine-data/211015-gambit-ani-genomes.csv'),\n",
    "    assembly_summaries=Path('/home/jared/projects/gambit/data/ncbi/assembly/esummary/'),\n",
    "    assembly_seqs=Path('/home/jared/projects/gambit/data/ncbi/assembly/seqs/'),\n",
    "    gsg_seqs=Path('/home/jared/projects/gambit/data/validation/200726-gold-standard-seqs/fasta'),\n",
    ")"
   ]
  },
  {
   "cell_type": "code",
   "execution_count": 7,
   "id": "e9b5497d-0392-4eec-b24f-9894ff3dccaf",
   "metadata": {},
   "outputs": [],
   "source": [
    "data_processed = Path('data-processed') / NBNAME\n",
    "data_processed.mkdir(exist_ok=True)\n",
    "\n",
    "outfiles = dict(\n",
    "    meta=data_processed / f'{DATESTR}-ncbi-assembly-meta.csv',\n",
    "    stats=data_processed / f'{DATESTR}-assembly-stats.csv',\n",
    ")"
   ]
  },
  {
   "cell_type": "code",
   "execution_count": 8,
   "id": "66987183-6bb3-4ce4-9bcd-f564779ae6d0",
   "metadata": {},
   "outputs": [],
   "source": [
    "Entrez.email = 'mjlumpe@gmail.com'\n",
    "Entrez.api_key = 'adea2a53e6e44c3cc42c932f9ba4bdffa809'"
   ]
  },
  {
   "cell_type": "markdown",
   "id": "de6ceaf6-6fcf-40fa-b8c8-9c245d2afa0a",
   "metadata": {},
   "source": [
    "## Code"
   ]
  },
  {
   "cell_type": "code",
   "execution_count": 9,
   "id": "b7251566-a5b5-4fba-ba41-8b78161e5f12",
   "metadata": {},
   "outputs": [],
   "source": [
    "def contig_stats(lengths):\n",
    "    \"\"\"Calculate n50 and l50.\"\"\"\n",
    "    lengths = sorted(lengths, reverse=True)\n",
    "    nnucs = sum(lengths)\n",
    "    mid = nnucs / 2\n",
    "    total = 0\n",
    "    \n",
    "    for i, l in enumerate(lengths):\n",
    "        total += l\n",
    "        if total < mid:\n",
    "            continue\n",
    "\n",
    "        if total == mid:\n",
    "            n50 = (l + lengths[i+1]) / 2\n",
    "        elif total > mid:\n",
    "            n50 = l\n",
    "            \n",
    "        return nnucs, len(lengths), n50, i + 1\n",
    "    \n",
    "    assert 0"
   ]
  },
  {
   "cell_type": "markdown",
   "id": "66df08a2-073d-4eed-8137-5d1265c399f9",
   "metadata": {},
   "source": [
    "## Load data"
   ]
  },
  {
   "cell_type": "code",
   "execution_count": 10,
   "id": "50c0e7b0-9411-465b-bbd6-857f8a29f0e6",
   "metadata": {},
   "outputs": [],
   "source": [
    "genomes = pd.read_csv(infiles['genomes'], index_col=[0, 1], dtype=dict(assembly_uid=str))"
   ]
  },
  {
   "cell_type": "code",
   "execution_count": 11,
   "id": "ba8b33e6-efaf-4664-809f-b714fd62eeb0",
   "metadata": {},
   "outputs": [],
   "source": [
    "in_gsg = genomes.index.get_level_values(0).to_series() == '200726_gold_standard'\n",
    "in_gsg.index = genomes.index"
   ]
  },
  {
   "cell_type": "code",
   "execution_count": 12,
   "id": "0c8c69e1-9d67-4559-a4a2-f2473de2f51b",
   "metadata": {},
   "outputs": [],
   "source": [
    "genomes['file'] = None\n",
    "\n",
    "_paths1 = [infiles['assembly_seqs'] / f'{acc}.fasta.gz' for acc in genomes.loc[~in_gsg, 'assembly_accession']]\n",
    "genomes.loc[~in_gsg, 'file'] = SequenceFile.from_paths(_paths1, 'fasta', 'gzip')\n",
    "\n",
    "_paths2 = [infiles['gsg_seqs'] / f'{name}.fasta.gz' for name in genomes.loc[in_gsg, 'id']]\n",
    "genomes.loc[in_gsg, 'file'] = SequenceFile.from_paths(_paths2, 'fasta', 'gzip')\n",
    "\n",
    "assert all(f.path.is_file() for f in genomes['file'])"
   ]
  },
  {
   "cell_type": "markdown",
   "id": "cb92d32f-9d9f-4527-908c-8f210f4ae804",
   "metadata": {},
   "source": [
    "## Get assembly ESummary data"
   ]
  },
  {
   "cell_type": "code",
   "execution_count": 13,
   "id": "9ffa831a-89ea-444b-8425-0ff73d1d01dd",
   "metadata": {},
   "outputs": [],
   "source": [
    "esummaries = BasicEsummaryStore('assembly', '/home/jared/projects/gambit/data/ncbi/assembly/esummary/')"
   ]
  },
  {
   "cell_type": "markdown",
   "id": "f8ab0f3b-36df-4473-8b71-694f029c8dc0",
   "metadata": {},
   "source": [
    "### Download missing"
   ]
  },
  {
   "cell_type": "code",
   "execution_count": 14,
   "id": "98be4812-6b34-4cfd-a3b3-caa4e8d85c37",
   "metadata": {},
   "outputs": [
    {
     "data": {
      "application/vnd.jupyter.widget-view+json": {
       "model_id": "ae978420c6724a0dacc3b1462c7b3f5a",
       "version_major": 2,
       "version_minor": 0
      },
      "text/plain": [
       "0it [00:00, ?it/s]"
      ]
     },
     "metadata": {},
     "output_type": "display_data"
    }
   ],
   "source": [
    "_to_download = set(genomes.loc[~in_gsg, 'assembly_uid']) - set(esummaries)\n",
    "\n",
    "for uid in tqdm(_to_download):\n",
    "    with Entrez.esummary(db='assembly', id=uid, retmode='json') as f:\n",
    "        data = json.load(f)\n",
    "    summary = ez.get_esummary_result_json(data)\n",
    "    esummaries.add(summary)"
   ]
  },
  {
   "cell_type": "markdown",
   "id": "63b9879b-ecdd-4641-b562-632cd77e738a",
   "metadata": {},
   "source": [
    "### Extract assembly metadata"
   ]
  },
  {
   "cell_type": "code",
   "execution_count": 15,
   "id": "0de15f1b-4a5c-44e4-bf42-81a9f258accf",
   "metadata": {},
   "outputs": [],
   "source": [
    "meta_df = pd.DataFrame.from_records(\n",
    "    [assembly.format_summary_meta(esummaries[uid]['meta']) for uid in genomes.loc[~in_gsg, 'assembly_uid']],\n",
    "    index=genomes.index[~in_gsg],\n",
    ")"
   ]
  },
  {
   "cell_type": "code",
   "execution_count": 16,
   "id": "d13fea76-2e72-4961-97ad-8c7e60188dbe",
   "metadata": {},
   "outputs": [],
   "source": [
    "meta_numeric = meta_df.select_dtypes(include=int).melt(ignore_index=False)"
   ]
  },
  {
   "cell_type": "markdown",
   "id": "0b0988b0-2f13-465d-81f3-41b41b8d94fd",
   "metadata": {},
   "source": [
    "## Calculate stats from sequence files"
   ]
  },
  {
   "cell_type": "code",
   "execution_count": 17,
   "id": "e605c57e-f949-44fb-8819-58b93e0b1fdc",
   "metadata": {},
   "outputs": [
    {
     "data": {
      "application/vnd.jupyter.widget-view+json": {
       "model_id": "cd5c025e9b584125b803fc25e2a46c96",
       "version_major": 2,
       "version_minor": 0
      },
      "text/plain": [
       "  0%|          | 0/662 [00:00<?, ?it/s]"
      ]
     },
     "metadata": {},
     "output_type": "display_data"
    }
   ],
   "source": [
    "contig_lengths = []\n",
    "\n",
    "for file in tqdm(genomes['file']):\n",
    "    with file.parse() as records:\n",
    "        contig_lengths.append([len(rec.seq) for rec in records])"
   ]
  },
  {
   "cell_type": "code",
   "execution_count": 18,
   "id": "74c59505-10c0-4942-9319-994e2901c304",
   "metadata": {},
   "outputs": [],
   "source": [
    "stats_df = pd.DataFrame.from_records(\n",
    "    map(contig_stats, contig_lengths),\n",
    "    columns=['size', 'ncontigs', 'n50', 'l50'], \n",
    "    index=genomes.index,\n",
    ")"
   ]
  },
  {
   "cell_type": "markdown",
   "id": "449f9f92-d3bf-479f-bb9e-817ae8b74958",
   "metadata": {},
   "source": [
    "### Check against NCBI metadata"
   ]
  },
  {
   "cell_type": "code",
   "execution_count": 19,
   "id": "8ab7b85d-cfcf-4137-8604-6aed3a7a03ab",
   "metadata": {},
   "outputs": [
    {
     "data": {
      "text/plain": [
       "True"
      ]
     },
     "execution_count": 19,
     "metadata": {},
     "output_type": "execute_result"
    }
   ],
   "source": [
    "n_matches = stats_df.loc[~in_gsg, 'ncontigs'] == meta_df['scaffold_count']\n",
    "all(n_matches)"
   ]
  },
  {
   "cell_type": "code",
   "execution_count": 20,
   "id": "8c96a593-89ca-4198-8667-b917b18daadd",
   "metadata": {},
   "outputs": [
    {
     "data": {
      "text/plain": [
       "True"
      ]
     },
     "execution_count": 20,
     "metadata": {},
     "output_type": "execute_result"
    }
   ],
   "source": [
    "n50_matches = stats_df.loc[~in_gsg, 'n50'] == meta_df['scaffold_n50']\n",
    "all(n50_matches)"
   ]
  },
  {
   "cell_type": "code",
   "execution_count": 21,
   "id": "b6009aa0-134f-4abd-9820-9e49fc1f6886",
   "metadata": {},
   "outputs": [
    {
     "data": {
      "text/plain": [
       "False"
      ]
     },
     "execution_count": 21,
     "metadata": {},
     "output_type": "execute_result"
    }
   ],
   "source": [
    "l50_matches = stats_df.loc[~in_gsg, 'l50'] == meta_df['scaffold_l50']\n",
    "all(l50_matches)"
   ]
  },
  {
   "cell_type": "markdown",
   "id": "180863b1-3bdd-4301-aa5f-997241596dbb",
   "metadata": {},
   "source": [
    "Have mismatches, inspect:"
   ]
  },
  {
   "cell_type": "code",
   "execution_count": 22,
   "id": "e2e1d257-2b18-46a9-a408-ee30b7a6cba8",
   "metadata": {},
   "outputs": [
    {
     "data": {
      "text/html": [
       "<div>\n",
       "<style scoped>\n",
       "    .dataframe tbody tr th:only-of-type {\n",
       "        vertical-align: middle;\n",
       "    }\n",
       "\n",
       "    .dataframe tbody tr th {\n",
       "        vertical-align: top;\n",
       "    }\n",
       "\n",
       "    .dataframe thead th {\n",
       "        text-align: right;\n",
       "    }\n",
       "</style>\n",
       "<table border=\"1\" class=\"dataframe\">\n",
       "  <thead>\n",
       "    <tr style=\"text-align: right;\">\n",
       "      <th></th>\n",
       "      <th></th>\n",
       "      <th>scaffold_n50</th>\n",
       "      <th>scaffold_l50</th>\n",
       "    </tr>\n",
       "    <tr>\n",
       "      <th>data_set</th>\n",
       "      <th>ds_index</th>\n",
       "      <th></th>\n",
       "      <th></th>\n",
       "    </tr>\n",
       "  </thead>\n",
       "  <tbody>\n",
       "    <tr>\n",
       "      <th>ondov_2016</th>\n",
       "      <th>414</th>\n",
       "      <td>5549</td>\n",
       "      <td>318</td>\n",
       "    </tr>\n",
       "  </tbody>\n",
       "</table>\n",
       "</div>"
      ],
      "text/plain": [
       "                     scaffold_n50  scaffold_l50\n",
       "data_set   ds_index                            \n",
       "ondov_2016 414               5549           318"
      ]
     },
     "execution_count": 22,
     "metadata": {},
     "output_type": "execute_result"
    }
   ],
   "source": [
    "meta_df.loc[~l50_matches, ['scaffold_n50', 'scaffold_l50']]"
   ]
  },
  {
   "cell_type": "code",
   "execution_count": 23,
   "id": "7ea8695b-e703-4f96-9556-e5ed56ae89b6",
   "metadata": {},
   "outputs": [
    {
     "data": {
      "text/html": [
       "<div>\n",
       "<style scoped>\n",
       "    .dataframe tbody tr th:only-of-type {\n",
       "        vertical-align: middle;\n",
       "    }\n",
       "\n",
       "    .dataframe tbody tr th {\n",
       "        vertical-align: top;\n",
       "    }\n",
       "\n",
       "    .dataframe thead th {\n",
       "        text-align: right;\n",
       "    }\n",
       "</style>\n",
       "<table border=\"1\" class=\"dataframe\">\n",
       "  <thead>\n",
       "    <tr style=\"text-align: right;\">\n",
       "      <th></th>\n",
       "      <th></th>\n",
       "      <th>size</th>\n",
       "      <th>ncontigs</th>\n",
       "      <th>n50</th>\n",
       "      <th>l50</th>\n",
       "    </tr>\n",
       "    <tr>\n",
       "      <th>data_set</th>\n",
       "      <th>ds_index</th>\n",
       "      <th></th>\n",
       "      <th></th>\n",
       "      <th></th>\n",
       "      <th></th>\n",
       "    </tr>\n",
       "  </thead>\n",
       "  <tbody>\n",
       "    <tr>\n",
       "      <th>ondov_2016</th>\n",
       "      <th>414</th>\n",
       "      <td>9030472</td>\n",
       "      <td>2606</td>\n",
       "      <td>5549</td>\n",
       "      <td>317</td>\n",
       "    </tr>\n",
       "  </tbody>\n",
       "</table>\n",
       "</div>"
      ],
      "text/plain": [
       "                        size  ncontigs   n50  l50\n",
       "data_set   ds_index                              \n",
       "ondov_2016 414       9030472      2606  5549  317"
      ]
     },
     "execution_count": 23,
     "metadata": {},
     "output_type": "execute_result"
    }
   ],
   "source": [
    "stats_df[~in_gsg][~l50_matches]"
   ]
  },
  {
   "cell_type": "markdown",
   "id": "b21d253c-7f37-414a-b460-d787e56c61b8",
   "metadata": {},
   "source": [
    "The l50 is off by one here, not sure why but all others match."
   ]
  },
  {
   "cell_type": "markdown",
   "id": "c107438f-3a70-4b75-a885-997a370726b5",
   "metadata": {},
   "source": [
    "## Write output"
   ]
  },
  {
   "cell_type": "code",
   "execution_count": 24,
   "id": "0a365eef-009f-4de0-8e36-902ca282527e",
   "metadata": {},
   "outputs": [],
   "source": [
    "meta_df.to_csv(outfiles['meta'])"
   ]
  },
  {
   "cell_type": "code",
   "execution_count": 25,
   "id": "5c700109-16c0-4850-bfd5-83621c910c79",
   "metadata": {},
   "outputs": [],
   "source": [
    "stats_df.to_csv(outfiles['stats'])"
   ]
  }
 ],
 "metadata": {
  "kernelspec": {
   "display_name": "GAMBIT",
   "language": "python",
   "name": "gambit"
  },
  "language_info": {
   "codemirror_mode": {
    "name": "ipython",
    "version": 3
   },
   "file_extension": ".py",
   "mimetype": "text/x-python",
   "name": "python",
   "nbconvert_exporter": "python",
   "pygments_lexer": "ipython3",
   "version": "3.9.7"
  }
 },
 "nbformat": 4,
 "nbformat_minor": 5
}
