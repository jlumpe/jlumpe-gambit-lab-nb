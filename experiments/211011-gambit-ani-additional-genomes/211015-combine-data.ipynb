{
 "cells": [
  {
   "cell_type": "markdown",
   "id": "2195bec5-ddef-4f30-aa9d-a184315e9265",
   "metadata": {},
   "source": [
    "# 211015 Combine data"
   ]
  },
  {
   "cell_type": "code",
   "execution_count": 1,
   "id": "38c9e0e9-4183-4db1-8761-882c5d106c47",
   "metadata": {},
   "outputs": [],
   "source": [
    "from pathlib import Path\n",
    "import json\n",
    "import re"
   ]
  },
  {
   "cell_type": "code",
   "execution_count": 2,
   "id": "c82dab84-2aa0-40bd-a49f-b8d87949463c",
   "metadata": {},
   "outputs": [],
   "source": [
    "import numpy as np\n",
    "import pandas as pd\n",
    "import xarray as xr\n",
    "import h5py as h5\n",
    "from tqdm import tqdm\n",
    "from scipy.stats import pearsonr, spearmanr, kendalltau"
   ]
  },
  {
   "cell_type": "markdown",
   "id": "e7563b82-8ece-4adf-b9c0-d344867c47d8",
   "metadata": {},
   "source": [
    "## Setup"
   ]
  },
  {
   "cell_type": "code",
   "execution_count": 3,
   "id": "686cfe44-286d-4519-8560-17f1391d8baa",
   "metadata": {},
   "outputs": [],
   "source": [
    "DATESTR = '211015'\n",
    "NBNAME = DATESTR + '-combine-data'"
   ]
  },
  {
   "cell_type": "code",
   "execution_count": 4,
   "id": "4488761a-6342-4cd3-adaa-015e8da75c3f",
   "metadata": {},
   "outputs": [],
   "source": [
    "infiles = dict(\n",
    "    genomes=Path('data-processed/211011-get-genomes-list/211011-gambit-ani-additional-genomes.csv'),\n",
    "    genomes_ondov=Path('../../data/processed/210902-mash-Escherichia-genomes/210902-get-genomes/210902-mash-genomes-filtered.csv'),\n",
    "    genomes_gsg=Path('/home/jared/projects/gambit/data/validation/200726-gold-standard-seqs/files.csv'),\n",
    "    genomes_gsg_results=Path('/home/jared/projects/gambit/data/validation/200726-gold-standard-seqs/results/211015-1.0b1.csv'),\n",
    "    fastani={\n",
    "        'konstantinidis_2005': Path('data-intermediate/211012-fastani/konstantinidis_2005.h5'),\n",
    "        'snitkin_2012': Path('data-intermediate/211012-fastani/snitkin_2012.h5'),\n",
    "        'ondov_2016': Path('../../data/intermediate/210902-mash-Escherichia-genomes/210904-fastani/ani-pairwise.h5'),\n",
    "        '200726_gold_standard': Path('data-intermediate/211015-fastani-gsg/200726_gold_standard.h5'),\n",
    "    },\n",
    "    gambit_params=Path('../../data/intermediate/210902-mash-Escherichia-genomes/210917-gambit/params.csv'),\n",
    "    gambit_dists={\n",
    "        'konstantinidis_2005': Path('data-intermediate/211012-gambit/konstantinidis_2005.h5'),\n",
    "        'snitkin_2012': Path('data-intermediate/211012-gambit/snitkin_2012.h5'),\n",
    "        'ondov_2016': Path('../../data/intermediate/210902-mash-Escherichia-genomes/210917-gambit/pairwise-dists.h5'),\n",
    "        '200726_gold_standard': Path('data-intermediate/211015-gambit-gsg/200726_gold_standard.h5'),\n",
    "    },\n",
    ")"
   ]
  },
  {
   "cell_type": "code",
   "execution_count": 5,
   "id": "01507803-437f-4f70-9d43-be5dc194248b",
   "metadata": {},
   "outputs": [],
   "source": [
    "intermediate_out = Path('data-intermediate') / NBNAME\n",
    "intermediate_out.mkdir(exist_ok=True)\n",
    "\n",
    "processed_out = Path('data-processed') / NBNAME\n",
    "processed_out.mkdir(exist_ok=True)\n",
    "\n",
    "outfiles = dict(\n",
    "    genomes=processed_out / f'{DATESTR}-gambit-ani-genomes.csv',\n",
    "    data=intermediate_out / 'data.nc',\n",
    ")"
   ]
  },
  {
   "cell_type": "markdown",
   "id": "65feb6c7-7ffd-4e71-8dd0-ba49a9972f59",
   "metadata": {},
   "source": [
    "## Code"
   ]
  },
  {
   "cell_type": "code",
   "execution_count": 6,
   "id": "da0039a8-3ff4-4329-9e94-af671bbcef46",
   "metadata": {},
   "outputs": [],
   "source": [
    "def get_h5_datasets(group):\n",
    "    return {name: child[:] for name, child in group.items()}"
   ]
  },
  {
   "cell_type": "markdown",
   "id": "7a5c0114-ba2d-401c-b31f-f8870113ec2f",
   "metadata": {},
   "source": [
    "## Genomes table"
   ]
  },
  {
   "cell_type": "code",
   "execution_count": 7,
   "id": "bdb0ab7c-c983-4fd3-9f14-3d7fa59d5177",
   "metadata": {},
   "outputs": [],
   "source": [
    "genomes = pd.read_csv(\n",
    "    infiles['genomes'],\n",
    "    index_col=[0, 1],\n",
    "    dtype=dict(assembly_uid=str),\n",
    ")"
   ]
  },
  {
   "cell_type": "markdown",
   "id": "47df35aa-0034-476a-8fa5-2488f47c2a2d",
   "metadata": {},
   "source": [
    "### Add ondov-2016"
   ]
  },
  {
   "cell_type": "code",
   "execution_count": 8,
   "id": "16834c7c-42a3-4572-8e51-3b1e695e1f98",
   "metadata": {},
   "outputs": [],
   "source": [
    "_ondov = pd.read_csv(infiles['genomes_ondov']) \\\n",
    "    .rename(columns=dict(index='ds_index', organism='description')) \\\n",
    "    .drop(columns=(['mash_index', 'url']))\n",
    "\n",
    "_ondov['id'] = _ondov['assembly_accession']\n",
    "_ondov['data_set'] = 'ondov_2016'\n",
    "_ondov.set_index(['data_set', 'ds_index'], inplace=True)\n",
    "\n",
    "genomes = genomes.append(_ondov)"
   ]
  },
  {
   "cell_type": "markdown",
   "id": "4ffb1191-1c98-4939-a4a2-2316634ee1d5",
   "metadata": {},
   "source": [
    "### Add 200726 gold standard"
   ]
  },
  {
   "cell_type": "code",
   "execution_count": 9,
   "id": "a85f0e39-0a51-4930-acb6-c56dd4ff5b9b",
   "metadata": {},
   "outputs": [],
   "source": [
    "_gsg = pd.read_csv(infiles['genomes_gsg'])\n",
    "\n",
    "_gsg = _gsg.loc[_gsg['set'] == 200726, ['name']]\n",
    "\n",
    "_gsg.rename(columns=dict(name='id'), inplace=True)\n",
    "\n",
    "_gsg.index.name = 'ds_index'\n",
    "_gsg.reset_index(inplace=True)\n",
    "_gsg['data_set'] = '200726_gold_standard'\n",
    "_gsg.set_index(['data_set', 'ds_index'], inplace=True)"
   ]
  },
  {
   "cell_type": "markdown",
   "id": "6bc2bdf7-8676-4d2a-8834-dcebb5d4d304",
   "metadata": {},
   "source": [
    "Use recent GAMBIT query results on genomes to get estimated species"
   ]
  },
  {
   "cell_type": "code",
   "execution_count": 10,
   "id": "d0503a8f-bf7a-48ed-aed1-f9cdfd7e6175",
   "metadata": {},
   "outputs": [],
   "source": [
    "_gsg_name2index = {name: i for i, name in enumerate(_gsg['id'])}\n",
    "_gsg_result2row = dict()\n",
    "_gsg_row2result = dict()\n",
    "_gsg_assigned = {}\n",
    "\n",
    "_gsg_results = pd.read_csv(infiles['genomes_gsg_results'])\n",
    "\n",
    "for i, row in _gsg_results.iterrows():\n",
    "    try:\n",
    "        name = re.sub(r'\\.fasta$', '', row['query.name'])\n",
    "        j = _gsg_name2index[name]\n",
    "    except KeyError:\n",
    "        continue\n",
    "        \n",
    "    assert j not in _gsg_row2result\n",
    "    _gsg_row2result[j] = i\n",
    "    assert i not in _gsg_result2row\n",
    "    _gsg_result2row[i] = j\n",
    "    \n",
    "assert len(_gsg_result2row) == _gsg.shape[0]\n",
    "assert len(_gsg_row2result) == _gsg.shape[0]"
   ]
  },
  {
   "cell_type": "markdown",
   "id": "2ee9a7c8-a12e-4ddb-bd36-a1684eb8e65b",
   "metadata": {},
   "source": [
    "Use description of closest genome where no prediction was made"
   ]
  },
  {
   "cell_type": "code",
   "execution_count": 11,
   "id": "7bcb996c-ef6e-467a-bc98-32ee4eb7630a",
   "metadata": {},
   "outputs": [],
   "source": [
    "_gsg['description'] = None\n",
    "\n",
    "for i, j in _gsg_row2result.items():\n",
    "    _res = _gsg_results.iloc[j]\n",
    "    desc = _res['predicted.name']\n",
    "    \n",
    "    if pd.isnull(desc):\n",
    "        species = re.fullmatch(r'\\[.*\\] (\\w+ \\w+).*', _res['closest.description']).group(1)\n",
    "        desc = f'[closest] {species}'\n",
    "    else:\n",
    "        desc = f'[predicted] {desc}'\n",
    "        \n",
    "    _gsg['description'].iloc[i] = desc"
   ]
  },
  {
   "cell_type": "code",
   "execution_count": 12,
   "id": "cda266d5-5010-4f1b-a156-c757859967db",
   "metadata": {},
   "outputs": [],
   "source": [
    "genomes = genomes.append(_gsg)"
   ]
  },
  {
   "cell_type": "markdown",
   "id": "28322ae0-badc-4dcd-ab55-d9aa8e3bb53a",
   "metadata": {},
   "source": [
    "### Finish"
   ]
  },
  {
   "cell_type": "code",
   "execution_count": 13,
   "id": "5a9988cb-5522-4b19-bc29-73b8b75ef642",
   "metadata": {},
   "outputs": [],
   "source": [
    "gsets = genomes.index.levels[0]\n",
    "ngs = len(gsets)"
   ]
  },
  {
   "cell_type": "code",
   "execution_count": 14,
   "id": "ab9c7f31-6b46-4c6d-ab99-c93782e0f15c",
   "metadata": {},
   "outputs": [
    {
     "data": {
      "text/plain": [
       "{'200726_gold_standard': 80,\n",
       " 'konstantinidis_2005': 70,\n",
       " 'ondov_2016': 492,\n",
       " 'snitkin_2012': 20}"
      ]
     },
     "execution_count": 14,
     "metadata": {},
     "output_type": "execute_result"
    }
   ],
   "source": [
    "ngenomes = {k: df.shape[0] for k, df in genomes.groupby('data_set')}\n",
    "ngenomes"
   ]
  },
  {
   "cell_type": "markdown",
   "id": "4d9d5fa8-97b8-4bb5-b13a-13bf7a2c4a43",
   "metadata": {},
   "source": [
    "## Load data"
   ]
  },
  {
   "cell_type": "markdown",
   "id": "7738ce4a-15e6-43a0-a4d3-5c23bb282037",
   "metadata": {},
   "source": [
    "### FastANI"
   ]
  },
  {
   "cell_type": "code",
   "execution_count": 15,
   "id": "7eba7b24-deb9-4aad-8653-12b7a2e0e188",
   "metadata": {
    "tags": []
   },
   "outputs": [],
   "source": [
    "fastani_data = dict()\n",
    "\n",
    "for gset in gsets:\n",
    "    with h5.File(infiles['fastani'][gset]) as f:\n",
    "        # Ondov did not have \"pw\" and \"matrix\" subgroups\n",
    "        grp = f if gset == 'ondov_2016' else f['pw']\n",
    "        fastani_data[gset] = get_h5_datasets(grp)"
   ]
  },
  {
   "cell_type": "markdown",
   "id": "2b4ec495-6584-4902-bdc2-07a8c7786ae8",
   "metadata": {},
   "source": [
    "### GAMBIT"
   ]
  },
  {
   "cell_type": "code",
   "execution_count": 16,
   "id": "687f17f8-35a7-4336-8259-e4b9bd1a6612",
   "metadata": {},
   "outputs": [],
   "source": [
    "params_df = pd.read_csv(infiles['gambit_params'])\n",
    "params_df.index.name = 'param'\n",
    "\n",
    "nparams = params_df.shape[0]"
   ]
  },
  {
   "cell_type": "code",
   "execution_count": 17,
   "id": "58d3de19-612c-4399-9ea6-75d1f18ec850",
   "metadata": {},
   "outputs": [],
   "source": [
    "(gambitdb_param,) = np.flatnonzero((params_df['prefix'] == 'ATGAC') & (params_df['k'] == 11))"
   ]
  },
  {
   "cell_type": "code",
   "execution_count": 18,
   "id": "fba22fc3-dc4e-4298-8c4f-2c0663f018ff",
   "metadata": {},
   "outputs": [],
   "source": [
    "gambit_data = dict()\n",
    "\n",
    "for gset in gsets:\n",
    "    with h5.File(infiles['gambit_dists'][gset]) as f:\n",
    "        gambit_data[gset] = get_h5_datasets(f)"
   ]
  },
  {
   "cell_type": "markdown",
   "id": "5f0310ae-44f5-4dde-b0a8-4de88860b2d5",
   "metadata": {},
   "source": [
    "## Combine data sets"
   ]
  },
  {
   "cell_type": "code",
   "execution_count": 19,
   "id": "f105b090-e015-41c4-a1d6-51b444a05583",
   "metadata": {},
   "outputs": [],
   "source": [
    "common_ds = xr.Dataset.from_dataframe(params_df)"
   ]
  },
  {
   "cell_type": "code",
   "execution_count": 20,
   "id": "5c7d6762-431c-40f5-9ec7-85c26b1ab8a9",
   "metadata": {},
   "outputs": [],
   "source": [
    "# Separate Datasets for storing per-genome information\n",
    "genome_dss = dict()\n",
    "\n",
    "for gset in gsets:\n",
    "    ad = fastani_data[gset]\n",
    "    gd = gambit_data[gset]\n",
    "    ng = ngenomes[gset]\n",
    "    \n",
    "    # ANI data\n",
    "    adf = pd.DataFrame.from_dict(ad)\n",
    "    adf.set_index(['genome1', 'genome2'], inplace=True)\n",
    "    adf.index.names = ['g1', 'g2']\n",
    "    adf.index.name = 'pair'\n",
    "    ds = xr.Dataset(adf)\n",
    "    \n",
    "    if gset == 'ondov_2016':\n",
    "        # Missing these variables\n",
    "        reported = xr.DataArray(np.ones(ds.dims['pair'], dtype=bool), dims=['pair'])\n",
    "        ds['reported_both'] = reported\n",
    "        ds['reported_q1r2'] = reported\n",
    "        ds['reported_q2r1'] = reported\n",
    "        \n",
    "    else:\n",
    "        # ANI is in percent\n",
    "        for name, var in ds.data_vars.items():\n",
    "            if name.startswith('ani_'):\n",
    "                var /= 100\n",
    "    \n",
    "    # Genome indices\n",
    "    g1 = ds['g1']\n",
    "    g2 = ds['g2']\n",
    "    assert len(g1) == len(g2) == ng * (ng + 1) // 2\n",
    "    \n",
    "    # GAMBIT data\n",
    "    ds['kmer_count'] = xr.Variable(['param', 'genome'], gd['kmer_counts'])\n",
    "    \n",
    "    gdists = gd['pw_dists']\n",
    "    gg1 = gd['genome1']\n",
    "    gg2 = gd['genome2']\n",
    "    \n",
    "    # Ondov-2016 gambit data formatted differently\n",
    "    if gset == 'ondov_2016':\n",
    "        # Saved with 1-based indexing\n",
    "        gg1 = gg1 - 1\n",
    "        gg2 = gg2 - 1\n",
    "        \n",
    "        # Doesn't contain pairs on the diagonal - need to reindex\n",
    "        gdists = xr.DataArray(\n",
    "            gdists,\n",
    "            dims=['param', 'pair'],\n",
    "            coords=dict(pair=pd.MultiIndex.from_arrays([gg1, gg2], names=['g1', 'g2'])),\n",
    "        )\n",
    "        ds['dist'] = gdists.reindex(pair=ds.indexes['pair'], fill_value=1)\n",
    "\n",
    "    else:\n",
    "        assert np.array_equal(g1, gg1)\n",
    "        assert np.array_equal(g2, gg2)\n",
    "        ds['dist'] = xr.Variable(['param', 'pair'], gdists)\n",
    "        \n",
    "    # Attributes\n",
    "    ds.attrs['data_set'] = gset\n",
    "    \n",
    "    genome_dss[gset] = ds"
   ]
  },
  {
   "cell_type": "markdown",
   "id": "163781eb-42ec-4f31-8674-ee398f09dd95",
   "metadata": {},
   "source": [
    "## GAMBIT-ANI correlation"
   ]
  },
  {
   "cell_type": "code",
   "execution_count": 21,
   "id": "360478ce-0a1c-4f38-85ed-ae48d842a0a6",
   "metadata": {},
   "outputs": [
    {
     "name": "stderr",
     "output_type": "stream",
     "text": [
      "100%|██████████| 4/4 [00:14<00:00,  3.61s/it]\n"
     ]
    }
   ],
   "source": [
    "_pcorr = []\n",
    "_scorr = []\n",
    "_kcorr = []\n",
    "\n",
    "for gset in tqdm(gsets):\n",
    "    ds = genome_dss[gset]\n",
    "    mask = ds['corr_mask'] = (ds['g1'] != ds['g2']) & ds['reported_both']\n",
    "    y = -ds['ani_mean'][mask]\n",
    "    \n",
    "    gb = ds['dist'].groupby('param')\n",
    "    _pcorr.append(gb.map(lambda x: xr.DataArray(pearsonr(x[mask], y)[0])))\n",
    "    _scorr.append(gb.map(lambda x: xr.DataArray(spearmanr(x[mask], y)[0])))\n",
    "    _kcorr.append(gb.map(lambda x: xr.DataArray(kendalltau(x[mask], y)[0])))"
   ]
  },
  {
   "cell_type": "code",
   "execution_count": 22,
   "id": "e6ded787-9284-4966-9e3b-b302b79e4dd5",
   "metadata": {},
   "outputs": [],
   "source": [
    "common_ds['ani_pearson'] = xr.concat(_pcorr, gsets)\n",
    "common_ds['ani_spearman'] = xr.concat(_scorr, gsets)\n",
    "common_ds['ani_kendalltau'] = xr.concat(_kcorr, gsets)"
   ]
  },
  {
   "cell_type": "markdown",
   "id": "40014034-e019-4149-bfd6-5eefaf94bacd",
   "metadata": {},
   "source": [
    "## Save"
   ]
  },
  {
   "cell_type": "markdown",
   "id": "2da942de-4fe0-4f3e-881a-6c9d09ead574",
   "metadata": {},
   "source": [
    "### Genomes"
   ]
  },
  {
   "cell_type": "code",
   "execution_count": 23,
   "id": "7fba51d5-9946-4370-8ab0-8f16cd27c60e",
   "metadata": {},
   "outputs": [],
   "source": [
    "genomes.to_csv(outfiles['genomes'])"
   ]
  },
  {
   "cell_type": "markdown",
   "id": "0a47e828-96fa-4d08-a76b-9578c638f7f9",
   "metadata": {},
   "source": [
    "### Main data"
   ]
  },
  {
   "cell_type": "code",
   "execution_count": 24,
   "id": "2544acb1-b9eb-4914-8fd6-bca7f84da006",
   "metadata": {},
   "outputs": [],
   "source": [
    "save_kw = dict(format='NETCDF4')"
   ]
  },
  {
   "cell_type": "code",
   "execution_count": 25,
   "id": "07121a13-896e-42ff-bec8-ad99058c2095",
   "metadata": {},
   "outputs": [],
   "source": [
    "common_ds.to_netcdf(outfiles['data'], 'w', group='common', **save_kw)"
   ]
  },
  {
   "cell_type": "code",
   "execution_count": 26,
   "id": "b0582e22-96ba-45ad-93d8-ed15aa7d48d4",
   "metadata": {},
   "outputs": [],
   "source": [
    "for gset, ds in genome_dss.items():\n",
    "    ds = ds.reset_index('pair')\n",
    "    ds.to_netcdf(outfiles['data'], 'a', group=f'genome/{gset}', **save_kw)"
   ]
  }
 ],
 "metadata": {
  "kernelspec": {
   "display_name": "GAMBIT",
   "language": "python",
   "name": "gambit"
  },
  "language_info": {
   "codemirror_mode": {
    "name": "ipython",
    "version": 3
   },
   "file_extension": ".py",
   "mimetype": "text/x-python",
   "name": "python",
   "nbconvert_exporter": "python",
   "pygments_lexer": "ipython3",
   "version": "3.9.7"
  }
 },
 "nbformat": 4,
 "nbformat_minor": 5
}
