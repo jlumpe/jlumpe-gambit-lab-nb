{
 "cells": [
  {
   "cell_type": "markdown",
   "id": "2195bec5-ddef-4f30-aa9d-a184315e9265",
   "metadata": {},
   "source": [
    "# 211019 Get taxonomy tree"
   ]
  },
  {
   "cell_type": "code",
   "execution_count": 1,
   "id": "6764213c-d807-4d4b-a0de-fef0e49c16c5",
   "metadata": {},
   "outputs": [],
   "source": [
    "from pathlib import Path\n",
    "from shutil import copyfileobj\n",
    "\n",
    "import numpy as np\n",
    "import pandas as pd\n",
    "from tqdm import tqdm\n",
    "from Bio import Entrez"
   ]
  },
  {
   "cell_type": "code",
   "execution_count": 2,
   "id": "81525b0e-313f-470a-8979-9fd172df25b3",
   "metadata": {},
   "outputs": [],
   "source": [
    "from src.esummary_store import BasicEsummaryStore"
   ]
  },
  {
   "cell_type": "markdown",
   "id": "e7563b82-8ece-4adf-b9c0-d344867c47d8",
   "metadata": {},
   "source": [
    "## Setup"
   ]
  },
  {
   "cell_type": "code",
   "execution_count": 3,
   "id": "b02f65b1-e0b5-45fb-ae08-aec3d865ed7d",
   "metadata": {},
   "outputs": [],
   "source": [
    "DATESTR = '211019'\n",
    "NBNAME = DATESTR + '-get-taxonomy-tree'"
   ]
  },
  {
   "cell_type": "code",
   "execution_count": 4,
   "id": "83af49d7-e50f-4fc2-8a99-76fe028c5f48",
   "metadata": {},
   "outputs": [],
   "source": [
    "Entrez.email = 'mjlumpe@gmail.com'\n",
    "Entrez.api_key = 'adea2a53e6e44c3cc42c932f9ba4bdffa809'"
   ]
  },
  {
   "cell_type": "code",
   "execution_count": 5,
   "id": "9c8c7399-ad22-4838-947b-39a9e6eca7c3",
   "metadata": {},
   "outputs": [],
   "source": [
    "infiles = dict(\n",
    "    genomes=Path('data-processed/211015-combine-data/211015-gambit-ani-genomes.csv'),\n",
    ")"
   ]
  },
  {
   "cell_type": "code",
   "execution_count": 6,
   "id": "64704167-5f5d-4c23-a724-01a23d719c4b",
   "metadata": {
    "tags": []
   },
   "outputs": [],
   "source": [
    "tmpdir = Path('tmp')\n",
    "\n",
    "taxa_dir = tmpdir / 'taxa'\n",
    "taxa_dir.mkdir(exist_ok=True)"
   ]
  },
  {
   "cell_type": "code",
   "execution_count": 7,
   "id": "03a54b92-eeff-48f3-9f86-6d8a43aa6730",
   "metadata": {},
   "outputs": [],
   "source": [
    "intermediate_out = Path('data-intermediate') / NBNAME\n",
    "intermediate_out.mkdir(exist_ok=True)\n",
    "\n",
    "outfiles = dict(\n",
    "    genome_taxids=intermediate_out / 'genome-taxids.csv',\n",
    "    taxa=intermediate_out / 'taxa.csv',\n",
    ")"
   ]
  },
  {
   "cell_type": "markdown",
   "id": "e6ada79b-13da-4cf7-a23b-659a66902b0a",
   "metadata": {},
   "source": [
    "## Load data"
   ]
  },
  {
   "cell_type": "code",
   "execution_count": 8,
   "id": "b32d4e7d-0fc2-48f2-bc76-39e2913be527",
   "metadata": {},
   "outputs": [],
   "source": [
    "genomes = pd.read_csv(infiles['genomes'], index_col=[0, 1], dtype=dict(assembly_uid=str))"
   ]
  },
  {
   "cell_type": "markdown",
   "id": "253e58db-b7f3-4261-9581-4f450695d814",
   "metadata": {},
   "source": [
    "## Fetch taxonomy data"
   ]
  },
  {
   "cell_type": "code",
   "execution_count": 9,
   "id": "7efe0f74-1c7c-4037-9251-82ec6ca13e58",
   "metadata": {},
   "outputs": [],
   "source": [
    "esummaries = BasicEsummaryStore('assembly', '/home/jared/projects/gambit/data/ncbi/assembly/esummary/')"
   ]
  },
  {
   "cell_type": "code",
   "execution_count": 10,
   "id": "97a3eacd-b6e5-44cd-8852-b833e7f619a4",
   "metadata": {},
   "outputs": [],
   "source": [
    "genomes['taxid'] = None\n",
    "\n",
    "for ix, uid in genomes['assembly_uid'].dropna().iteritems():\n",
    "    genomes.loc[ix, 'taxid'] = esummaries[uid]['taxid']"
   ]
  },
  {
   "cell_type": "code",
   "execution_count": 11,
   "id": "36f4398c-f368-4e0d-aa0b-6dec1db1dc10",
   "metadata": {},
   "outputs": [
    {
     "name": "stderr",
     "output_type": "stream",
     "text": [
      "100%|██████████| 499/499 [00:00<00:00, 1738.69it/s]\n"
     ]
    }
   ],
   "source": [
    "taxon_xml = dict()\n",
    "\n",
    "for taxid in tqdm(set(genomes['taxid'].dropna())):\n",
    "    file = taxa_dir / f'{taxid}.xml'\n",
    "    \n",
    "    if not file.is_file():\n",
    "        with Entrez.efetch(db='taxonomy', id=taxid) as src:\n",
    "            with open(file, 'wb') as dst:\n",
    "                copyfileobj(src, dst)\n",
    "                \n",
    "    with open(file, 'rb') as f:\n",
    "        data = Entrez.read(f)\n",
    "        \n",
    "    assert len(data) == 1\n",
    "    taxon = data[0]\n",
    "    assert taxon['TaxId'] == taxid\n",
    "    taxon_xml[taxid] = taxon"
   ]
  },
  {
   "cell_type": "markdown",
   "id": "2333561e-6ee9-41b3-a4ee-823afb44d2e5",
   "metadata": {},
   "source": [
    "## Format data"
   ]
  },
  {
   "cell_type": "code",
   "execution_count": 12,
   "id": "b590fc74-39c3-430e-b94d-f241db47a308",
   "metadata": {},
   "outputs": [],
   "source": [
    "taxa = dict()\n",
    "\n",
    "for txml in taxon_xml.values():\n",
    "    lineage = [\n",
    "        dict(taxid=t['TaxId'], name=t['ScientificName'], rank=t['Rank'], parent=None)\n",
    "        for t in [*txml['LineageEx'], txml]\n",
    "    ]\n",
    "    \n",
    "    for i, taxon in enumerate(lineage):\n",
    "        if i > 0:\n",
    "            taxon['parent'] = lineage[i - 1]['taxid']\n",
    "            \n",
    "        tid = taxon['taxid']\n",
    "        if tid in taxa:\n",
    "            assert taxa[tid] == taxon\n",
    "        else:\n",
    "            taxa[tid] = taxon"
   ]
  },
  {
   "cell_type": "code",
   "execution_count": 13,
   "id": "82a9cf0e-1ab6-40ef-a632-e86177e78e49",
   "metadata": {},
   "outputs": [],
   "source": [
    "taxa_df = pd.DataFrame.from_records(list(taxa.values()), columns=['taxid', 'name', 'rank', 'parent']).set_index('taxid')"
   ]
  },
  {
   "cell_type": "markdown",
   "id": "d8e4cb46-c1ac-4e97-8cf1-dc49a47390d1",
   "metadata": {},
   "source": [
    "## Save"
   ]
  },
  {
   "cell_type": "code",
   "execution_count": 15,
   "id": "8ae73dbe-4d85-443b-a685-eed739542187",
   "metadata": {},
   "outputs": [],
   "source": [
    "genomes[['taxid']].to_csv(outfiles['genome_taxids'])"
   ]
  },
  {
   "cell_type": "code",
   "execution_count": 16,
   "id": "b01954f0-15a1-4ae1-9843-8a8c3c0b588e",
   "metadata": {},
   "outputs": [],
   "source": [
    "taxa_df.to_csv(outfiles['taxa'])"
   ]
  }
 ],
 "metadata": {
  "kernelspec": {
   "display_name": "GAMBIT",
   "language": "python",
   "name": "gambit"
  },
  "language_info": {
   "codemirror_mode": {
    "name": "ipython",
    "version": 3
   },
   "file_extension": ".py",
   "mimetype": "text/x-python",
   "name": "python",
   "nbconvert_exporter": "python",
   "pygments_lexer": "ipython3",
   "version": "3.9.7"
  }
 },
 "nbformat": 4,
 "nbformat_minor": 5
}
