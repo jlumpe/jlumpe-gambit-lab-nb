{
 "cells": [
  {
   "cell_type": "markdown",
   "id": "2195bec5-ddef-4f30-aa9d-a184315e9265",
   "metadata": {},
   "source": [
    "# 211012 FastANI"
   ]
  },
  {
   "cell_type": "code",
   "execution_count": 1,
   "id": "38c9e0e9-4183-4db1-8761-882c5d106c47",
   "metadata": {},
   "outputs": [],
   "source": [
    "from pathlib import Path\n",
    "import json\n",
    "from subprocess import run, PIPE"
   ]
  },
  {
   "cell_type": "code",
   "execution_count": 2,
   "id": "c82dab84-2aa0-40bd-a49f-b8d87949463c",
   "metadata": {},
   "outputs": [],
   "source": [
    "import numpy as np\n",
    "import pandas as pd\n",
    "from tqdm import tqdm\n",
    "import h5py as h5"
   ]
  },
  {
   "cell_type": "markdown",
   "id": "e7563b82-8ece-4adf-b9c0-d344867c47d8",
   "metadata": {},
   "source": [
    "## Setup"
   ]
  },
  {
   "cell_type": "code",
   "execution_count": 3,
   "id": "a06ab0fb-9b21-46e8-bd45-ef0bf054992b",
   "metadata": {},
   "outputs": [],
   "source": [
    "DATESTR = '211012'\n",
    "NBNAME = DATESTR + '-fastani'"
   ]
  },
  {
   "cell_type": "code",
   "execution_count": 4,
   "id": "86daf368-86bf-4610-8add-cdd1230c29fa",
   "metadata": {},
   "outputs": [],
   "source": [
    "FASTANI_CMD = '/home/jared/opt/anaconda3/envs/fastani/bin/fastANI'"
   ]
  },
  {
   "cell_type": "code",
   "execution_count": 5,
   "id": "1d055a29-cdc2-4244-ad77-ca72a953bad0",
   "metadata": {},
   "outputs": [],
   "source": [
    "NTHREADS = 12"
   ]
  },
  {
   "cell_type": "markdown",
   "id": "20450c2b-6595-4e15-93a0-cc1b53b19a19",
   "metadata": {},
   "source": [
    "### Paths"
   ]
  },
  {
   "cell_type": "code",
   "execution_count": 6,
   "id": "633fa75b-a488-44ac-b04c-8a8d02d0781c",
   "metadata": {},
   "outputs": [],
   "source": [
    "infiles = dict(\n",
    "    genomes=Path('data-processed/211011-get-genomes-list/211011-gambit-ani-additional-genomes.csv'),\n",
    ")"
   ]
  },
  {
   "cell_type": "code",
   "execution_count": 7,
   "id": "5adfb675-672a-4ee5-96bb-7daa669d1fab",
   "metadata": {
    "tags": []
   },
   "outputs": [],
   "source": [
    "tmpdir = Path('tmp')\n",
    "\n",
    "genomes_dir = tmpdir / 'genomes'\n",
    "\n",
    "fastani_dir = tmpdir / 'fastani'\n",
    "fastani_dir.mkdir(exist_ok=True)"
   ]
  },
  {
   "cell_type": "code",
   "execution_count": 8,
   "id": "95c4b055-7ab8-4e47-95b9-4105050d0a87",
   "metadata": {},
   "outputs": [],
   "source": [
    "intermediate_out = Path('data-intermediate') / NBNAME\n",
    "intermediate_out.mkdir(exist_ok=True)"
   ]
  },
  {
   "cell_type": "markdown",
   "id": "7fdbb2ef-f016-4756-8089-44ed81e21d38",
   "metadata": {},
   "source": [
    "## Load data"
   ]
  },
  {
   "cell_type": "code",
   "execution_count": 9,
   "id": "4a798b4d-c180-41c3-ad82-e7e5f32cd8c6",
   "metadata": {},
   "outputs": [],
   "source": [
    "genomes_df = pd.read_csv(infiles['genomes'], index_col=[0, 1])\n",
    "\n",
    "ngenomes = genomes_df.shape[0]"
   ]
  },
  {
   "cell_type": "code",
   "execution_count": 10,
   "id": "b20986cd-98a1-4441-9aa2-d7a9257de68e",
   "metadata": {},
   "outputs": [],
   "source": [
    "genomes_df['file'] = [genomes_dir / (acc + '.fasta.gz') for acc in genomes_df['assembly_accession']]"
   ]
  },
  {
   "cell_type": "code",
   "execution_count": 11,
   "id": "84f58925-c3b7-48c3-97de-622d3ab48a92",
   "metadata": {},
   "outputs": [],
   "source": [
    "data_sets = genomes_df.index.levels[0]"
   ]
  },
  {
   "cell_type": "markdown",
   "id": "3b13f2ec-8712-41a1-b671-0d920d01dded",
   "metadata": {},
   "source": [
    "## Calculate pairwise ANIs"
   ]
  },
  {
   "cell_type": "code",
   "execution_count": 12,
   "id": "58d0fee1-8893-4635-ad41-ed7b7682ebac",
   "metadata": {},
   "outputs": [],
   "source": [
    "list_files = dict()\n",
    "\n",
    "for ds, chunk in genomes_df.groupby('data_set'):\n",
    "    lf = list_files[ds] = fastani_dir / f'{ds}.txt'\n",
    "    with open(lf, 'w') as f:\n",
    "        for gf in chunk['file']:\n",
    "            print(gf, file=f)"
   ]
  },
  {
   "cell_type": "code",
   "execution_count": 13,
   "id": "91e33466-c70d-44f3-afad-1dfa46f8ac68",
   "metadata": {},
   "outputs": [],
   "source": [
    "result_files = {ds: fastani_dir / f'{ds}.tsv' for ds in data_sets}"
   ]
  },
  {
   "cell_type": "code",
   "execution_count": 14,
   "id": "f9d00007-9569-4fd9-914c-531cc6d06512",
   "metadata": {},
   "outputs": [
    {
     "name": "stderr",
     "output_type": "stream",
     "text": [
      "100%|██████████| 2/2 [00:00<00:00, 5526.09it/s]\n"
     ]
    }
   ],
   "source": [
    "for ds, result_file in tqdm(result_files.items()):\n",
    "    if result_file.is_file():\n",
    "        continue\n",
    "\n",
    "    list_file = list_files[ds]\n",
    "    cmd = [\n",
    "        FASTANI_CMD,\n",
    "        '-t', NTHREADS,\n",
    "        '--rl', list_file,\n",
    "        '--ql', list_file,\n",
    "        '-o', result_file,\n",
    "    ]\n",
    "    cmd = list(map(str, cmd))\n",
    "\n",
    "    result = run(cmd, stdout=PIPE, stderr=PIPE)\n",
    "\n",
    "    try:\n",
    "        result.check_returncode()\n",
    "    except:\n",
    "        result_file.unlink(missing_ok=True)\n",
    "        print(result.stderr.decode('ascii'))\n",
    "        raise"
   ]
  },
  {
   "cell_type": "markdown",
   "id": "e1e2a249-b26c-4c2b-a398-2080cd7cc3e4",
   "metadata": {},
   "source": [
    "## Assemble data"
   ]
  },
  {
   "cell_type": "markdown",
   "id": "afafa321-7f87-425a-94ec-5e91aed9d25f",
   "metadata": {},
   "source": [
    "### Read result matrices"
   ]
  },
  {
   "cell_type": "code",
   "execution_count": 15,
   "id": "f66673aa-ebd0-4c70-af2d-a530adf3403b",
   "metadata": {},
   "outputs": [],
   "source": [
    "file_to_index = {\n",
    "    ds: {str(row.file): i for (ds, i), row in chunk.iterrows()}\n",
    "    for ds, chunk in genomes_df.groupby('data_set')\n",
    "}"
   ]
  },
  {
   "cell_type": "code",
   "execution_count": 16,
   "id": "b339fb4f-9783-465d-84a6-f6843cf4f9c6",
   "metadata": {},
   "outputs": [],
   "source": [
    "stats_matrix = dict()\n",
    "\n",
    "for ds in data_sets:\n",
    "    f2i = file_to_index[ds]\n",
    "    ng = len(f2i)\n",
    "    results = pd.read_csv(result_files[ds], sep='\\t', names=['query', 'reference', 'ani', 'mapped', 'query_fragments'])\n",
    "    \n",
    "    reported = np.zeros((ng, ng), dtype=bool)\n",
    "    \n",
    "    arrays = dict(\n",
    "        ani=np.zeros((ng, ng)),\n",
    "        mapped=np.zeros((ng, ng), dtype=int),\n",
    "        query_fragments=np.zeros((ng, ng), dtype=int),\n",
    "    )\n",
    "    \n",
    "    for i, row in results.iterrows():\n",
    "        q = f2i[row.query]\n",
    "        r = f2i[row.reference]\n",
    "        assert not reported[q, r]\n",
    "        reported[q, r] = True\n",
    "            \n",
    "        for k, a in arrays.items():\n",
    "            a[q, r] = row[k]\n",
    "            \n",
    "    stats_matrix[ds] = dict(reported=reported, **arrays)"
   ]
  },
  {
   "cell_type": "code",
   "execution_count": 19,
   "id": "325f2c06-07e5-45d5-8a18-311f05ae08f4",
   "metadata": {},
   "outputs": [
    {
     "data": {
      "text/plain": [
       "{'konstantinidis_2005': 0.06918367346938775, 'snitkin_2012': 1.0}"
      ]
     },
     "execution_count": 19,
     "metadata": {},
     "output_type": "execute_result"
    }
   ],
   "source": [
    "{ds: s['reported'].mean() for ds, s in stats_matrix.items()}"
   ]
  },
  {
   "cell_type": "markdown",
   "id": "20f77a43-8f92-4667-a21f-13a1fba9dd2b",
   "metadata": {},
   "source": [
    "### Convert to pair format"
   ]
  },
  {
   "cell_type": "code",
   "execution_count": 17,
   "id": "049b243f-78c6-441f-b1af-8b630cefb81d",
   "metadata": {},
   "outputs": [],
   "source": [
    "stats_pw = dict()\n",
    "\n",
    "for ds in data_sets:\n",
    "    mat = stats_matrix[ds]\n",
    "    \n",
    "    ng = mat['reported'].shape[0]\n",
    "    g1, g2 = np.tril_indices(ng)\n",
    "    \n",
    "    pw = stats_pw[ds] = dict(genome1=g1, genome2=g2)\n",
    "    \n",
    "    for k in ['reported', 'ani', 'mapped', 'query_fragments']:\n",
    "        a = mat[k]\n",
    "        q1r2 = pw[k + '_q1r2'] = a[g1, g2]\n",
    "        q2r1 = pw[k + '_q2r1'] = a[g2, g1]\n",
    "        if k == 'reported':\n",
    "            pw['reported_both'] = q1r2 & q2r1\n",
    "        else:\n",
    "            pw[k + '_mean'] = (q1r2 + q2r1) / 2"
   ]
  },
  {
   "cell_type": "markdown",
   "id": "dff7341d-001d-46cf-9c8d-584462250b70",
   "metadata": {},
   "source": [
    "## Write to HDF5 files"
   ]
  },
  {
   "cell_type": "code",
   "execution_count": 18,
   "id": "649bdf4e-9340-466e-b1de-12a9a589a033",
   "metadata": {},
   "outputs": [],
   "source": [
    "for ds in data_sets:\n",
    "    with h5.File(str(intermediate_out / f'{ds}.h5'), 'w') as f:\n",
    "        mat_grp = f.create_group('matrix')\n",
    "        for k, a in stats_matrix[ds].items():\n",
    "            mat_grp.create_dataset(k, data=a)\n",
    "            \n",
    "        pw_grp = f.create_group('pw')\n",
    "        for k, a in stats_pw[ds].items():\n",
    "            pw_grp.create_dataset(k, data=a)"
   ]
  }
 ],
 "metadata": {
  "kernelspec": {
   "display_name": "GAMBIT",
   "language": "python",
   "name": "gambit"
  },
  "language_info": {
   "codemirror_mode": {
    "name": "ipython",
    "version": 3
   },
   "file_extension": ".py",
   "mimetype": "text/x-python",
   "name": "python",
   "nbconvert_exporter": "python",
   "pygments_lexer": "ipython3",
   "version": "3.9.7"
  }
 },
 "nbformat": 4,
 "nbformat_minor": 5
}
