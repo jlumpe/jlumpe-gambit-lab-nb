{
 "cells": [
  {
   "cell_type": "markdown",
   "id": "dc2d29a6-a210-4f28-b6ba-32ed9f41c4be",
   "metadata": {},
   "source": [
    "# 211011 get genome seqs"
   ]
  },
  {
   "cell_type": "code",
   "execution_count": 1,
   "id": "5bc3b705-b70f-46f0-a265-b321e89b8d11",
   "metadata": {},
   "outputs": [],
   "source": [
    "from pathlib import Path\n",
    "import json\n",
    "import sys\n",
    "from urllib.request import urlretrieve"
   ]
  },
  {
   "cell_type": "code",
   "execution_count": 2,
   "id": "1a103a46-2543-4aba-8cd4-4ebda668e391",
   "metadata": {},
   "outputs": [],
   "source": [
    "import pandas as pd\n",
    "from Bio import Entrez\n",
    "from tqdm.notebook import tqdm"
   ]
  },
  {
   "cell_type": "code",
   "execution_count": 3,
   "id": "756a3957-46c4-4f6a-9765-70190fc48d17",
   "metadata": {},
   "outputs": [],
   "source": [
    "from entrez_tools.misc import assembly_seq_url_from_esummary"
   ]
  },
  {
   "cell_type": "code",
   "execution_count": 4,
   "id": "d3e5e6d6-ead0-4786-b5aa-92f0b89229a1",
   "metadata": {},
   "outputs": [],
   "source": [
    "sys.path.insert(0, './src')\n",
    "\n",
    "from esummary_store import BasicEsummaryStore"
   ]
  },
  {
   "cell_type": "markdown",
   "id": "4ad0ce24-b824-4b7c-a5c1-9de58bbceecd",
   "metadata": {},
   "source": [
    "## Setup"
   ]
  },
  {
   "cell_type": "code",
   "execution_count": 5,
   "id": "3f5243ce-65b1-470c-8080-582c7ca1b7cd",
   "metadata": {},
   "outputs": [],
   "source": [
    "Entrez.email = 'mjlumpe@gmail.com'\n",
    "Entrez.api_key = 'adea2a53e6e44c3cc42c932f9ba4bdffa809'"
   ]
  },
  {
   "cell_type": "code",
   "execution_count": 6,
   "id": "1689384a-90e9-411a-b8ae-177536352f9f",
   "metadata": {},
   "outputs": [],
   "source": [
    "DATESTR = '211011'\n",
    "NBNAME = DATESTR + '-get-genome-seqs'"
   ]
  },
  {
   "cell_type": "code",
   "execution_count": 7,
   "id": "77e57657-6302-4cda-a542-82a03bb709e9",
   "metadata": {},
   "outputs": [],
   "source": [
    "infiles = dict(\n",
    "    genomes=Path('data-processed/211011-get-genomes-list/211011-gambit-ani-additional-genomes.csv'),\n",
    "    assembly_esummary=Path('/home/jared/projects/gambit/data/ncbi/assembly/esummary/')\n",
    ")"
   ]
  },
  {
   "cell_type": "code",
   "execution_count": 8,
   "id": "235b753d-b441-424b-8443-e7fdd655567a",
   "metadata": {},
   "outputs": [],
   "source": [
    "tmpdir = Path('tmp')\n",
    "tmpdir.mkdir(exist_ok=True)"
   ]
  },
  {
   "cell_type": "code",
   "execution_count": 9,
   "id": "ded95826-8612-458e-80f8-51bf071266d5",
   "metadata": {},
   "outputs": [],
   "source": [
    "genomes_dir = tmpdir / 'genomes'\n",
    "genomes_dir.mkdir(exist_ok=True)"
   ]
  },
  {
   "cell_type": "markdown",
   "id": "7e44b747-100e-4fd0-bb3e-82772a1cbc12",
   "metadata": {},
   "source": [
    "## Load data"
   ]
  },
  {
   "cell_type": "code",
   "execution_count": 10,
   "id": "1b1ba75a-6b55-40ce-a081-f8442097afe3",
   "metadata": {},
   "outputs": [],
   "source": [
    "genomes = pd.read_csv(infiles['genomes'], index_col=[0, 1])"
   ]
  },
  {
   "cell_type": "code",
   "execution_count": 11,
   "id": "9f4bed94-169b-4c1e-8bd3-3f050da9b251",
   "metadata": {},
   "outputs": [],
   "source": [
    "accs = genomes['assembly_accession']"
   ]
  },
  {
   "cell_type": "code",
   "execution_count": 12,
   "id": "95034943-b921-48c7-b17c-c5d3431d303a",
   "metadata": {},
   "outputs": [],
   "source": [
    "esummaries = BasicEsummaryStore('assembly', infiles['assembly_esummary'])"
   ]
  },
  {
   "cell_type": "markdown",
   "id": "2f1acf46-3d89-4666-b3a9-6b164b503144",
   "metadata": {},
   "source": [
    "## Get FTP URLs"
   ]
  },
  {
   "cell_type": "code",
   "execution_count": 13,
   "id": "fae529d1-ab86-4f29-b706-cf05d5289dfb",
   "metadata": {},
   "outputs": [],
   "source": [
    "urls = dict()\n",
    "\n",
    "for acc in accs:\n",
    "    summary = esummaries.by_acc[acc]\n",
    "    urls[acc] = assembly_seq_url_from_esummary(summary)"
   ]
  },
  {
   "cell_type": "markdown",
   "id": "39523bb5-01c2-417f-bb9d-6a7f6d93ffb9",
   "metadata": {},
   "source": [
    "## Download seqs"
   ]
  },
  {
   "cell_type": "code",
   "execution_count": 14,
   "id": "ccf31358-bef1-47f9-b48f-90e1ee57e415",
   "metadata": {},
   "outputs": [],
   "source": [
    "seq_files = {acc: genomes_dir / f'{acc}.fasta.gz' for acc in accs}"
   ]
  },
  {
   "cell_type": "code",
   "execution_count": 15,
   "id": "e6b1fa9c-c5c8-4cc1-a316-40bab4a7c15a",
   "metadata": {},
   "outputs": [
    {
     "data": {
      "application/vnd.jupyter.widget-view+json": {
       "model_id": "19f8f0d7f6a64186b8693b0701bc2d0b",
       "version_major": 2,
       "version_minor": 0
      },
      "text/plain": [
       "0it [00:00, ?it/s]"
      ]
     },
     "metadata": {},
     "output_type": "display_data"
    }
   ],
   "source": [
    "_missing = [acc for acc, file in seq_files.items() if not file.is_file()]\n",
    "\n",
    "for acc in tqdm(_missing):\n",
    "    urlretrieve(urls[acc], seq_files[acc])\n",
    "    file = seq_files[acc]"
   ]
  }
 ],
 "metadata": {
  "kernelspec": {
   "display_name": "GAMBIT",
   "language": "python",
   "name": "gambit"
  },
  "language_info": {
   "codemirror_mode": {
    "name": "ipython",
    "version": 3
   },
   "file_extension": ".py",
   "mimetype": "text/x-python",
   "name": "python",
   "nbconvert_exporter": "python",
   "pygments_lexer": "ipython3",
   "version": "3.9.7"
  }
 },
 "nbformat": 4,
 "nbformat_minor": 5
}
