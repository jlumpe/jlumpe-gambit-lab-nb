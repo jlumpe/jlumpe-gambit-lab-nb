{
 "cells": [
  {
   "cell_type": "code",
   "execution_count": 10,
   "id": "764e1703-d013-41d2-993d-d79446d7f1c4",
   "metadata": {},
   "outputs": [
    {
     "name": "stderr",
     "output_type": "stream",
     "text": [
      "\u001b[32m\u001b[1m  Activating\u001b[22m\u001b[39m environment at `~/projects/gambit/notebooks/labnb/experiments/211011-gambit-ani-additional-genomes/Project.toml`\n"
     ]
    }
   ],
   "source": [
    "]activate ."
   ]
  },
  {
   "cell_type": "code",
   "execution_count": 11,
   "id": "99553f90-f257-4f0f-abb1-a637ca7c5f22",
   "metadata": {
    "scrolled": true
   },
   "outputs": [
    {
     "data": {
      "application/vnd.webio.node+json": {
       "children": [],
       "instanceArgs": {
        "namespace": "html",
        "tag": "div"
       },
       "nodeType": "DOM",
       "props": {},
       "type": "node"
      },
      "text/html": [
       "<div style=\"padding: 1em; background-color: #f8d6da; border: 1px solid #f5c6cb; font-weight: bold;\">\n",
       "<p>The WebIO Jupyter extension was not detected. See the\n",
       "<a href=\"https://juliagizmos.github.io/WebIO.jl/latest/providers/ijulia/\" target=\"_blank\">\n",
       "    WebIO Jupyter integration documentation\n",
       "</a>\n",
       "for more information.\n",
       "</div>\n"
      ],
      "text/plain": [
       "WebIO._IJuliaInit()"
      ]
     },
     "metadata": {
      "@webio": {
       "kernelId": "47315b1e-3e2b-4e79-85d4-e8dfb971197b"
      }
     },
     "output_type": "display_data"
    }
   ],
   "source": [
    "using ProgressMeter\n",
    "using FilePathsBase; using FilePathsBase: /\n",
    "using NCDatasets\n",
    "# using GZip\n",
    "# using JSON\n",
    "# using Mmap\n",
    "using DataFrames\n",
    "using CSV\n",
    "# using StatsBase\n",
    "# using CategoricalArrays\n",
    "# using HDF5\n",
    "# using Markdown\n",
    "# using DataStructures: counter\n",
    "using AbstractTrees\n",
    "using Clustering\n",
    "\n",
    "using PlotlyJS\n",
    "using Colors\n",
    "using ColorSchemes"
   ]
  },
  {
   "cell_type": "code",
   "execution_count": 12,
   "id": "a04b8876-669d-42cc-8c76-4b926d6e5b5d",
   "metadata": {},
   "outputs": [],
   "source": [
    "using ClusterAnalysis"
   ]
  },
  {
   "cell_type": "raw",
   "id": "2dca9be3-a7a7-4a7f-a62a-e9c55e5cf8a0",
   "metadata": {},
   "source": [
    "using Revise\n",
    "\n",
    "using Midas\n",
    "using Midas.Pairwise: npairs\n",
    "using Midas.ClusterAnalysis\n",
    "using Midas.ClusterAnalysis: leaf_class_counts, find_strong_clusters, hclust_node_dists, makecut\n",
    "\n",
    "using MidasPlots\n",
    "using MidasPlots: Dendrogram, dgleaf_edges, ClassValues\n",
    "using MidasPlots.Plotly: PlotlyDendrogram, subplot_axes, subplot_axes!, gettraces, setaxes!, vector_attrs!, class_color_strip, make_colorscale\n",
    "\n",
    "using TriMatrices"
   ]
  },
  {
   "cell_type": "code",
   "execution_count": 13,
   "id": "434be30f",
   "metadata": {
    "scrolled": true
   },
   "outputs": [],
   "source": [
    "using MidasPlots\n",
    "using MidasPlots.Plotly"
   ]
  },
  {
   "cell_type": "markdown",
   "id": "e0cc97e0",
   "metadata": {},
   "source": [
    "## Setup"
   ]
  },
  {
   "cell_type": "code",
   "execution_count": 14,
   "id": "e15fbbdc-8246-4e97-aed1-9a6b5ace4944",
   "metadata": {},
   "outputs": [
    {
     "data": {
      "text/plain": [
       "200"
      ]
     },
     "execution_count": 14,
     "metadata": {},
     "output_type": "execute_result"
    }
   ],
   "source": [
    "ENV[\"COLUMNS\"] = 200"
   ]
  },
  {
   "cell_type": "code",
   "execution_count": 15,
   "id": "01a95f23-d11b-4e33-82ac-04a044d7f3f8",
   "metadata": {},
   "outputs": [],
   "source": [
    "infiles = Dict(\n",
    "    :genomes => p\"data-processed/211015-combine-data/211015-gambit-ani-genomes.csv\",\n",
    "    :genome_taxids => p\"data-intermediate/211019-get-taxonomy-tree/genome-taxids.csv\",\n",
    "    :taxa => p\"data-intermediate/211019-get-taxonomy-tree/taxa.csv\",\n",
    "    :data => p\"data-intermediate/211015-combine-data/data.nc\",\n",
    ");"
   ]
  },
  {
   "cell_type": "markdown",
   "id": "d8859e59-6476-4258-a37e-59cf3d170032",
   "metadata": {},
   "source": [
    "## Load data"
   ]
  },
  {
   "cell_type": "code",
   "execution_count": 16,
   "id": "425adc78",
   "metadata": {},
   "outputs": [],
   "source": [
    "genomes = DataFrame(CSV.File(infiles[:genomes]));"
   ]
  },
  {
   "cell_type": "code",
   "execution_count": 17,
   "id": "cc628e00-73c0-47b7-b672-60e0f9fa7e09",
   "metadata": {},
   "outputs": [
    {
     "data": {
      "text/plain": [
       "4-element Vector{String}:\n",
       " \"konstantinidis_2005\"\n",
       " \"snitkin_2012\"\n",
       " \"ondov_2016\"\n",
       " \"200726_gold_standard\""
      ]
     },
     "execution_count": 17,
     "metadata": {},
     "output_type": "execute_result"
    }
   ],
   "source": [
    "gsets = string.(unique(genomes[!, :data_set]))"
   ]
  },
  {
   "cell_type": "code",
   "execution_count": 18,
   "id": "11acfbbd-5a02-4c5e-8468-10cecb93ec5f",
   "metadata": {},
   "outputs": [],
   "source": [
    "let\n",
    "    taxid_df = DataFrame(CSV.File(infiles[:genome_taxids]))\n",
    "    @assert taxid_df[!, [:data_set, :ds_index]] == genomes[!, [:data_set, :ds_index]]\n",
    "    genomes[!, :taxid] = taxid_df[!, :taxid]\n",
    "end;"
   ]
  },
  {
   "cell_type": "code",
   "execution_count": 19,
   "id": "3a8c8877-bde7-4c14-a091-c9bfa1b2a72c",
   "metadata": {},
   "outputs": [],
   "source": [
    "taxa_df = DataFrame(CSV.File(infiles[:taxa]));"
   ]
  },
  {
   "cell_type": "code",
   "execution_count": 20,
   "id": "b94cd981-53c1-4224-b773-7f6afd3d294d",
   "metadata": {},
   "outputs": [],
   "source": [
    "root_ds = Dataset(string(infiles[:data]))\n",
    "\n",
    "common_ds = root_ds.group[\"common\"]\n",
    "genome_dss = Dict(gset => root_ds.group[\"genome\"].group[gset] for gset in gsets);"
   ]
  },
  {
   "cell_type": "markdown",
   "id": "3473d0d6-977f-4e53-a6d6-aac2681648b1",
   "metadata": {},
   "source": [
    "## Taxonomy tree"
   ]
  },
  {
   "cell_type": "markdown",
   "id": "4698d5e5-e334-4026-9aa9-2c1bba597db8",
   "metadata": {},
   "source": [
    "### Defs"
   ]
  },
  {
   "cell_type": "code",
   "execution_count": 126,
   "id": "7053db88-f5b1-4114-8598-c0067e2b4c09",
   "metadata": {},
   "outputs": [
    {
     "data": {
      "text/plain": [
       "find_lca (generic function with 1 method)"
      ]
     },
     "execution_count": 126,
     "metadata": {},
     "output_type": "execute_result"
    }
   ],
   "source": [
    "function find_lca(nodes)\n",
    "    it = iterate(nodes)\n",
    "    isnothing(it) && return nothing\n",
    "    t, state = it\n",
    "    trunk = collect(ancestors(t, incself=true))\n",
    "\n",
    "    for t in Iterators.rest(nodes, state)\n",
    "        found = false\n",
    "        \n",
    "        for a in ancestors(t, incself=true)\n",
    "            i = findfirst(isequal(a), trunk)\n",
    "            \n",
    "            if !isnothing(i)\n",
    "                trunk = @view trunk[i:end]\n",
    "                found = true\n",
    "                break\n",
    "            end\n",
    "        end\n",
    "        \n",
    "        found || return nothing\n",
    "    end\n",
    "    \n",
    "    return first(trunk)\n",
    "end"
   ]
  },
  {
   "cell_type": "code",
   "execution_count": 226,
   "id": "43158130-143d-489b-a0a4-9226c30fe524",
   "metadata": {},
   "outputs": [
    {
     "data": {
      "text/plain": [
       "genomes_pw_to_matrix (generic function with 2 methods)"
      ]
     },
     "execution_count": 226,
     "metadata": {},
     "output_type": "execute_result"
    }
   ],
   "source": [
    "function genomes_pw_to_matrix(ds::NCDataset, values::AbstractVector)\n",
    "    ng = ds.dim[\"genome\"]\n",
    "    g1 = ds[\"g1\"] .+ 1\n",
    "    g2 = ds[\"g2\"] .+ 1\n",
    "    \n",
    "    pair_idxs_lower = CartesianIndex.(zip(g1, g2))\n",
    "    pair_idxs_upper = CartesianIndex.(zip(g2, g1))\n",
    "    \n",
    "    T = nonmissingtype(eltype(values))\n",
    "    mat = Matrix{T}(undef, ng, ng);\n",
    "    mat[pair_idxs_lower] = values\n",
    "    mat[pair_idxs_upper] = values\n",
    "    \n",
    "    return mat\n",
    "end"
   ]
  },
  {
   "cell_type": "code",
   "execution_count": 83,
   "id": "4347b472-c510-4b4b-9e13-ed3f79e64a9f",
   "metadata": {},
   "outputs": [],
   "source": [
    "function ClusterAnalysis.nodeattrs!(ta::TreeAnnotations, col::Symbol, id::Integer, value)\n",
    "    ta.node_attrs[ta.node_lookup[id], col] = value\n",
    "end"
   ]
  },
  {
   "cell_type": "markdown",
   "id": "8a6d2db1-ae88-4b53-aa6b-1caeb1c037a4",
   "metadata": {},
   "source": [
    "### Assemble"
   ]
  },
  {
   "cell_type": "code",
   "execution_count": 2,
   "id": "13a02c90-4a43-4232-90f6-4a02b4804115",
   "metadata": {},
   "outputs": [],
   "source": [
    "using Revise"
   ]
  },
  {
   "cell_type": "code",
   "execution_count": 43,
   "id": "72a864a3-c631-466e-b76e-10378d84df78",
   "metadata": {},
   "outputs": [],
   "source": [
    "using AbstractTreesDev.ParentAPI\n",
    "using AbstractTreesDev.IDTrees: IDTree, IDNode, addnode!, finalize!"
   ]
  },
  {
   "cell_type": "code",
   "execution_count": 44,
   "id": "2ea5dbd4-aa96-4327-9b37-f17f79d71294",
   "metadata": {},
   "outputs": [],
   "source": [
    "TaxonData = @NamedTuple{name::String, rank::String};\n",
    "AbstractTrees.printnode(io::IO, node::IDNode{<:Any, TaxonData}) = print(io, \"[$(node.id)] $(node.val.name) ($(node.val.rank))\")"
   ]
  },
  {
   "cell_type": "code",
   "execution_count": 24,
   "id": "1d9f22aa-ba38-4d08-9659-b083148136ce",
   "metadata": {},
   "outputs": [],
   "source": [
    "taxa = IDTree{Int}(TaxonData);\n",
    "\n",
    "for row in eachrow(taxa_df)\n",
    "    addnode!(taxa, row.taxid, coalesce(row.parent, nothing), TaxonData((row.name, row.rank)))\n",
    "end\n",
    "\n",
    "finalize!(taxa)"
   ]
  },
  {
   "cell_type": "code",
   "execution_count": 222,
   "id": "c34d74bb-916e-483e-8244-b747b1c78119",
   "metadata": {},
   "outputs": [
    {
     "data": {
      "text/plain": [
       "nonmissingtype (generic function with 1 method)"
      ]
     },
     "execution_count": 222,
     "metadata": {},
     "output_type": "execute_result"
    }
   ],
   "source": [
    "nonmissingtype"
   ]
  },
  {
   "cell_type": "markdown",
   "id": "eaa585ba-37eb-4267-97b8-072aa727527f",
   "metadata": {},
   "source": [
    "## Konstantinidis"
   ]
  },
  {
   "cell_type": "code",
   "execution_count": 77,
   "id": "b45346f6-f33c-4ab9-ade0-89e5b51bb1f5",
   "metadata": {},
   "outputs": [],
   "source": [
    "gset = \"konstantinidis_2005\"\n",
    "ds = genome_dss[gset];"
   ]
  },
  {
   "cell_type": "code",
   "execution_count": 78,
   "id": "5f91f930-7d5c-49cd-89e3-3d12e43da23d",
   "metadata": {},
   "outputs": [
    {
     "data": {
      "text/plain": [
       "70"
      ]
     },
     "execution_count": 78,
     "metadata": {},
     "output_type": "execute_result"
    }
   ],
   "source": [
    "ng = ds.dim[\"genome\"]"
   ]
  },
  {
   "cell_type": "code",
   "execution_count": 79,
   "id": "9a431580-c175-4a79-a042-30468e14b393",
   "metadata": {},
   "outputs": [],
   "source": [
    "gset_genomes = genomes[genomes.data_set .== gset, :]\n",
    "@assert issorted(gset_genomes.ds_index)"
   ]
  },
  {
   "cell_type": "markdown",
   "id": "7dfd2f1e-9860-4d74-b5db-349b1ea531f6",
   "metadata": {},
   "source": [
    "### Cluster"
   ]
  },
  {
   "cell_type": "raw",
   "id": "6f3e1ef3-bdc9-46ed-ad7c-a0bf24b3a43e",
   "metadata": {},
   "source": [
    "ani = genomes_pw_to_matrix(ds, ds\"ani_mean\")\n",
    "dmat = 1 .- ani;"
   ]
  },
  {
   "cell_type": "code",
   "execution_count": 228,
   "id": "a2dcbdfc-e9ba-47e2-9e76-efca223c6d6c",
   "metadata": {},
   "outputs": [],
   "source": [
    "dmat = genomes_pw_to_matrix(ds, ds[\"dist\"][:, 73]);"
   ]
  },
  {
   "cell_type": "code",
   "execution_count": 229,
   "id": "14ca36e8-8640-46ce-a4f1-b7fad290f2e5",
   "metadata": {},
   "outputs": [],
   "source": [
    "tree = ClusterAnalysis.hclust(dmat, linkage=:average);"
   ]
  },
  {
   "cell_type": "code",
   "execution_count": 230,
   "id": "9fb5a70b-68ab-4e73-b0fe-9572a4bffcbe",
   "metadata": {},
   "outputs": [],
   "source": [
    "ta = TreeAnnotations(tree, :dmat => ani_dist)\n",
    "\n",
    "ta.node_attrs[!, :lca] .= 0;"
   ]
  },
  {
   "cell_type": "code",
   "execution_count": 231,
   "id": "3861d1c7-747e-4c91-861d-72513724b966",
   "metadata": {},
   "outputs": [
    {
     "data": {
      "text/plain": [
       "hc_nodeid (generic function with 2 methods)"
      ]
     },
     "execution_count": 231,
     "metadata": {},
     "output_type": "execute_result"
    }
   ],
   "source": [
    "hc_nodeid(i::Integer) = i\n",
    "hc_nodeid(n::ClusterAnalysis.HClustNode) = n.id"
   ]
  },
  {
   "cell_type": "code",
   "execution_count": 232,
   "id": "7ea81756-704c-4f4c-abe4-ae8731cc9316",
   "metadata": {},
   "outputs": [],
   "source": [
    "for node in PostOrderDFS(tree.root)\n",
    "    id = hc_nodeid(node)\n",
    "    cids = map(hc_nodeid, children(node))\n",
    "    \n",
    "    lca = if isempty(cids)\n",
    "        gset_genomes[id, :taxid]\n",
    "    else\n",
    "        child_lcas = nodeattrs(ta, cids, :lca)\n",
    "        lca_tax = find_lca(taxa[id] for id in child_lcas)\n",
    "        @assert !isnothing(lca_tax) child_lcas\n",
    "        lca_tax.id\n",
    "    end\n",
    "        \n",
    "    nodeattrs!(ta, :lca, id, lca)\n",
    "end"
   ]
  },
  {
   "cell_type": "markdown",
   "id": "0ae7aa66-e6d8-4d47-b3a7-177fdec5ec62",
   "metadata": {},
   "source": [
    "### Dendrogram"
   ]
  },
  {
   "cell_type": "code",
   "execution_count": 233,
   "id": "afbc4916-7434-44e4-98f0-07d88c20187f",
   "metadata": {},
   "outputs": [
    {
     "data": {
      "text/plain": [
       "Dendrogram with 139 nodes and 70 leaves"
      ]
     },
     "execution_count": 233,
     "metadata": {},
     "output_type": "execute_result"
    }
   ],
   "source": [
    "dg = Dendrogram(tree)"
   ]
  },
  {
   "cell_type": "code",
   "execution_count": 234,
   "id": "470aeed8-e74a-487e-b16a-be3cca661b10",
   "metadata": {},
   "outputs": [
    {
     "data": {
      "application/vnd.plotly.v1+json": {
       "data": [
        {
         "hoverinfo": "skip",
         "line": {
          "color": "gray"
         },
         "mode": "lines",
         "showlegend": false,
         "type": "scatter",
         "x": [
          16.125,
          20.1875,
          null,
          16.125,
          16.125,
          null,
          20.1875,
          20.1875,
          null
         ],
         "y": [
          0.9916363954544067,
          0.9916363954544067,
          null,
          0.9916363954544067,
          0.9716590046882629,
          null,
          0.9916363954544067,
          0.9907206296920776,
          null
         ]
        },
        {
         "hoverinfo": "skip",
         "line": {
          "color": "gray"
         },
         "mode": "lines",
         "showlegend": false,
         "type": "scatter",
         "x": [
          15.25,
          17,
          null,
          15.25,
          15.25,
          null,
          17,
          17,
          null
         ],
         "y": [
          0.9716590046882629,
          0.9716590046882629,
          null,
          0.9716590046882629,
          0.045276038348674774,
          null,
          0.9716590046882629,
          0,
          null
         ]
        },
        {
         "hoverinfo": "skip",
         "line": {
          "color": "gray"
         },
         "mode": "lines",
         "showlegend": false,
         "type": "scatter",
         "x": [
          18,
          19,
          null,
          18,
          18,
          null,
          19,
          19,
          null
         ],
         "y": [
          0.934910774230957,
          0.934910774230957,
          null,
          0.934910774230957,
          0,
          null,
          0.934910774230957,
          0,
          null
         ]
        },
        {
         "hoverinfo": "skip",
         "line": {
          "color": "gray"
         },
         "mode": "lines",
         "showlegend": false,
         "type": "scatter",
         "x": [
          67.5,
          69.5,
          null,
          67.5,
          67.5,
          null,
          69.5,
          69.5,
          null
         ],
         "y": [
          0.9982056617736816,
          0.9982056617736816,
          null,
          0.9982056617736816,
          0.7071014642715454,
          null,
          0.9982056617736816,
          0.9520471096038818,
          null
         ]
        },
        {
         "hoverinfo": "skip",
         "line": {
          "color": "gray"
         },
         "mode": "lines",
         "showlegend": false,
         "type": "scatter",
         "x": [
          60.5,
          64.75,
          null,
          60.5,
          60.5,
          null,
          64.75,
          64.75,
          null
         ],
         "y": [
          0.9816662073135376,
          0.9816662073135376,
          null,
          0.9816662073135376,
          0.235430508852005,
          null,
          0.9816662073135376,
          0.42010676860809326,
          null
         ]
        },
        {
         "hoverinfo": "skip",
         "line": {
          "color": "gray"
         },
         "mode": "lines",
         "showlegend": false,
         "type": "scatter",
         "x": [
          14,
          15,
          null,
          14,
          14,
          null,
          15,
          15,
          null
         ],
         "y": [
          0.014471392147243023,
          0.014471392147243023,
          null,
          0.014471392147243023,
          0,
          null,
          0.014471392147243023,
          0,
          null
         ]
        },
        {
         "hoverinfo": "skip",
         "line": {
          "color": "gray"
         },
         "mode": "lines",
         "showlegend": false,
         "type": "scatter",
         "x": [
          44.5,
          48.125,
          null,
          44.5,
          44.5,
          null,
          48.125,
          48.125,
          null
         ],
         "y": [
          0.9778701663017273,
          0.9778701663017273,
          null,
          0.9778701663017273,
          0.2947348356246948,
          null,
          0.9778701663017273,
          0.3153366148471832,
          null
         ]
        },
        {
         "hoverinfo": "skip",
         "line": {
          "color": "gray"
         },
         "mode": "lines",
         "showlegend": false,
         "type": "scatter",
         "x": [
          28.25,
          30,
          null,
          28.25,
          28.25,
          null,
          30,
          30,
          null
         ],
         "y": [
          0.9639829993247986,
          0.9639829993247986,
          null,
          0.9639829993247986,
          0.03323237597942352,
          null,
          0.9639829993247986,
          0,
          null
         ]
        },
        {
         "hoverinfo": "skip",
         "line": {
          "color": "gray"
         },
         "mode": "lines",
         "showlegend": false,
         "type": "scatter",
         "x": [
          20,
          21,
          null,
          20,
          20,
          null,
          21,
          21,
          null
         ],
         "y": [
          0.3452591598033905,
          0.3452591598033905,
          null,
          0.3452591598033905,
          0,
          null,
          0.3452591598033905,
          0,
          null
         ]
        },
        {
         "hoverinfo": "skip",
         "line": {
          "color": "gray"
         },
         "mode": "lines",
         "showlegend": false,
         "type": "scatter",
         "x": [
          1.5,
          34.043701171875,
          null,
          1.5,
          1.5,
          null,
          34.043701171875,
          34.043701171875,
          null
         ],
         "y": [
          0.9995874166488647,
          0.9995874166488647,
          null,
          0.9995874166488647,
          0.10177281498908997,
          null,
          0.9995874166488647,
          0.9991055130958557,
          null
         ]
        },
        {
         "hoverinfo": "skip",
         "line": {
          "color": "gray"
         },
         "mode": "lines",
         "showlegend": false,
         "type": "scatter",
         "x": [
          22,
          23,
          null,
          22,
          22,
          null,
          23,
          23,
          null
         ],
         "y": [
          0.26297613978385925,
          0.26297613978385925,
          null,
          0.26297613978385925,
          0,
          null,
          0.26297613978385925,
          0,
          null
         ]
        },
        {
         "hoverinfo": "skip",
         "line": {
          "color": "gray"
         },
         "mode": "lines",
         "showlegend": false,
         "type": "scatter",
         "x": [
          32.875,
          36,
          null,
          32.875,
          32.875,
          null,
          36,
          36,
          null
         ],
         "y": [
          0.6244302988052368,
          0.6244302988052368,
          null,
          0.6244302988052368,
          0.5317713618278503,
          null,
          0.6244302988052368,
          0,
          null
         ]
        },
        {
         "hoverinfo": "skip",
         "line": {
          "color": "gray"
         },
         "mode": "lines",
         "showlegend": false,
         "type": "scatter",
         "x": [
          54,
          55,
          null,
          54,
          54,
          null,
          55,
          55,
          null
         ],
         "y": [
          0.39860501885414124,
          0.39860501885414124,
          null,
          0.39860501885414124,
          0,
          null,
          0.39860501885414124,
          0,
          null
         ]
        },
        {
         "hoverinfo": "skip",
         "line": {
          "color": "gray"
         },
         "mode": "lines",
         "showlegend": false,
         "type": "scatter",
         "x": [
          46.3125,
          50,
          null,
          46.3125,
          46.3125,
          null,
          50,
          50,
          null
         ],
         "y": [
          0.991387665271759,
          0.991387665271759,
          null,
          0.991387665271759,
          0.9778701663017273,
          null,
          0.991387665271759,
          0,
          null
         ]
        },
        {
         "hoverinfo": "skip",
         "line": {
          "color": "gray"
         },
         "mode": "lines",
         "showlegend": false,
         "type": "scatter",
         "x": [
          27,
          28,
          null,
          27,
          27,
          null,
          28,
          28,
          null
         ],
         "y": [
          0.02585447020828724,
          0.02585447020828724,
          null,
          0.02585447020828724,
          0,
          null,
          0.02585447020828724,
          0,
          null
         ]
        },
        {
         "hoverinfo": "skip",
         "line": {
          "color": "gray"
         },
         "mode": "lines",
         "showlegend": false,
         "type": "scatter",
         "x": [
          69,
          70,
          null,
          69,
          69,
          null,
          70,
          70,
          null
         ],
         "y": [
          0.9520471096038818,
          0.9520471096038818,
          null,
          0.9520471096038818,
          0,
          null,
          0.9520471096038818,
          0,
          null
         ]
        },
        {
         "hoverinfo": "skip",
         "line": {
          "color": "gray"
         },
         "mode": "lines",
         "showlegend": false,
         "type": "scatter",
         "x": [
          37.5,
          39,
          null,
          37.5,
          37.5,
          null,
          39,
          39,
          null
         ],
         "y": [
          0.40723323822021484,
          0.40723323822021484,
          null,
          0.40723323822021484,
          0.004472782835364342,
          null,
          0.40723323822021484,
          0,
          null
         ]
        },
        {
         "hoverinfo": "skip",
         "line": {
          "color": "gray"
         },
         "mode": "lines",
         "showlegend": false,
         "type": "scatter",
         "x": [
          33.5,
          35,
          null,
          33.5,
          33.5,
          null,
          35,
          35,
          null
         ],
         "y": [
          0.4591154456138611,
          0.4591154456138611,
          null,
          0.4591154456138611,
          0.05057865381240845,
          null,
          0.4591154456138611,
          0,
          null
         ]
        },
        {
         "hoverinfo": "skip",
         "line": {
          "color": "gray"
         },
         "mode": "lines",
         "showlegend": false,
         "type": "scatter",
         "x": [
          1,
          2,
          null,
          1,
          1,
          null,
          2,
          2,
          null
         ],
         "y": [
          0.10177281498908997,
          0.10177281498908997,
          null,
          0.10177281498908997,
          0,
          null,
          0.10177281498908997,
          0,
          null
         ]
        },
        {
         "hoverinfo": "skip",
         "line": {
          "color": "gray"
         },
         "mode": "lines",
         "showlegend": false,
         "type": "scatter",
         "x": [
          42,
          43,
          null,
          42,
          42,
          null,
          43,
          43,
          null
         ],
         "y": [
          0.25340378284454346,
          0.25340378284454346,
          null,
          0.25340378284454346,
          0,
          null,
          0.25340378284454346,
          0,
          null
         ]
        },
        {
         "hoverinfo": "skip",
         "line": {
          "color": "gray"
         },
         "mode": "lines",
         "showlegend": false,
         "type": "scatter",
         "x": [
          11.5,
          13,
          null,
          11.5,
          11.5,
          null,
          13,
          13,
          null
         ],
         "y": [
          0.9852635264396667,
          0.9852635264396667,
          null,
          0.9852635264396667,
          0.9788056015968323,
          null,
          0.9852635264396667,
          0,
          null
         ]
        },
        {
         "hoverinfo": "skip",
         "line": {
          "color": "gray"
         },
         "mode": "lines",
         "showlegend": false,
         "type": "scatter",
         "x": [
          12.25,
          18.15625,
          null,
          12.25,
          12.25,
          null,
          18.15625,
          18.15625,
          null
         ],
         "y": [
          0.9930856823921204,
          0.9930856823921204,
          null,
          0.9930856823921204,
          0.9852635264396667,
          null,
          0.9930856823921204,
          0.9916363954544067,
          null
         ]
        },
        {
         "hoverinfo": "skip",
         "line": {
          "color": "gray"
         },
         "mode": "lines",
         "showlegend": false,
         "type": "scatter",
         "x": [
          20.5,
          23.25,
          null,
          20.5,
          20.5,
          null,
          23.25,
          23.25,
          null
         ],
         "y": [
          0.9874668121337891,
          0.9874668121337891,
          null,
          0.9874668121337891,
          0.3452591598033905,
          null,
          0.9874668121337891,
          0.4249081015586853,
          null
         ]
        },
        {
         "hoverinfo": "skip",
         "line": {
          "color": "gray"
         },
         "mode": "lines",
         "showlegend": false,
         "type": "scatter",
         "x": [
          25.5,
          34.0078125,
          null,
          25.5,
          25.5,
          null,
          34.0078125,
          34.0078125,
          null
         ],
         "y": [
          0.9967931509017944,
          0.9967931509017944,
          null,
          0.9967931509017944,
          0.4191717803478241,
          null,
          0.9967931509017944,
          0.9923674464225769,
          null
         ]
        },
        {
         "hoverinfo": "skip",
         "line": {
          "color": "gray"
         },
         "mode": "lines",
         "showlegend": false,
         "type": "scatter",
         "x": [
          62.5,
          64.5,
          null,
          62.5,
          62.5,
          null,
          64.5,
          64.5,
          null
         ],
         "y": [
          0.2514660358428955,
          0.2514660358428955,
          null,
          0.2514660358428955,
          0.03593067452311516,
          null,
          0.2514660358428955,
          0.04964734986424446,
          null
         ]
        },
        {
         "hoverinfo": "skip",
         "line": {
          "color": "gray"
         },
         "mode": "lines",
         "showlegend": false,
         "type": "scatter",
         "x": [
          62,
          63,
          null,
          62,
          62,
          null,
          63,
          63,
          null
         ],
         "y": [
          0.03593067452311516,
          0.03593067452311516,
          null,
          0.03593067452311516,
          0,
          null,
          0.03593067452311516,
          0,
          null
         ]
        },
        {
         "hoverinfo": "skip",
         "line": {
          "color": "gray"
         },
         "mode": "lines",
         "showlegend": false,
         "type": "scatter",
         "x": [
          22.5,
          24,
          null,
          22.5,
          22.5,
          null,
          24,
          24,
          null
         ],
         "y": [
          0.4249081015586853,
          0.4249081015586853,
          null,
          0.4249081015586853,
          0.26297613978385925,
          null,
          0.4249081015586853,
          0,
          null
         ]
        },
        {
         "hoverinfo": "skip",
         "line": {
          "color": "gray"
         },
         "mode": "lines",
         "showlegend": false,
         "type": "scatter",
         "x": [
          42.5,
          48.15625,
          null,
          42.5,
          42.5,
          null,
          48.15625,
          48.15625,
          null
         ],
         "y": [
          0.9934521913528442,
          0.9934521913528442,
          null,
          0.9934521913528442,
          0.25340378284454346,
          null,
          0.9934521913528442,
          0.991387665271759,
          null
         ]
        },
        {
         "hoverinfo": "skip",
         "line": {
          "color": "gray"
         },
         "mode": "lines",
         "showlegend": false,
         "type": "scatter",
         "x": [
          57.25,
          59,
          null,
          57.25,
          57.25,
          null,
          59,
          59,
          null
         ],
         "y": [
          0.8232181072235107,
          0.8232181072235107,
          null,
          0.8232181072235107,
          0.726937472820282,
          null,
          0.8232181072235107,
          0,
          null
         ]
        },
        {
         "hoverinfo": "skip",
         "line": {
          "color": "gray"
         },
         "mode": "lines",
         "showlegend": false,
         "type": "scatter",
         "x": [
          46,
          47,
          null,
          46,
          46,
          null,
          47,
          47,
          null
         ],
         "y": [
          0.0021459227427840233,
          0.0021459227427840233,
          null,
          0.0021459227427840233,
          0,
          null,
          0.0021459227427840233,
          0,
          null
         ]
        },
        {
         "hoverinfo": "skip",
         "line": {
          "color": "gray"
         },
         "mode": "lines",
         "showlegend": false,
         "type": "scatter",
         "x": [
          3,
          4,
          null,
          3,
          3,
          null,
          4,
          4,
          null
         ],
         "y": [
          0.5875521898269653,
          0.5875521898269653,
          null,
          0.5875521898269653,
          0,
          null,
          0.5875521898269653,
          0,
          null
         ]
        },
        {
         "hoverinfo": "skip",
         "line": {
          "color": "gray"
         },
         "mode": "lines",
         "showlegend": false,
         "type": "scatter",
         "x": [
          27.5,
          29,
          null,
          27.5,
          27.5,
          null,
          29,
          29,
          null
         ],
         "y": [
          0.03323237597942352,
          0.03323237597942352,
          null,
          0.03323237597942352,
          0.02585447020828724,
          null,
          0.03323237597942352,
          0,
          null
         ]
        },
        {
         "hoverinfo": "skip",
         "line": {
          "color": "gray"
         },
         "mode": "lines",
         "showlegend": false,
         "type": "scatter",
         "x": [
          25,
          26,
          null,
          25,
          25,
          null,
          26,
          26,
          null
         ],
         "y": [
          0.4191717803478241,
          0.4191717803478241,
          null,
          0.4191717803478241,
          0,
          null,
          0.4191717803478241,
          0,
          null
         ]
        },
        {
         "hoverinfo": "skip",
         "line": {
          "color": "gray"
         },
         "mode": "lines",
         "showlegend": false,
         "type": "scatter",
         "x": [
          29.125,
          38.890625,
          null,
          29.125,
          29.125,
          null,
          38.890625,
          38.890625,
          null
         ],
         "y": [
          0.9923674464225769,
          0.9923674464225769,
          null,
          0.9923674464225769,
          0.9639829993247986,
          null,
          0.9923674464225769,
          0.990268886089325,
          null
         ]
        },
        {
         "hoverinfo": "skip",
         "line": {
          "color": "gray"
         },
         "mode": "lines",
         "showlegend": false,
         "type": "scatter",
         "x": [
          44,
          45,
          null,
          44,
          44,
          null,
          45,
          45,
          null
         ],
         "y": [
          0.2947348356246948,
          0.2947348356246948,
          null,
          0.2947348356246948,
          0,
          null,
          0.2947348356246948,
          0,
          null
         ]
        },
        {
         "hoverinfo": "skip",
         "line": {
          "color": "gray"
         },
         "mode": "lines",
         "showlegend": false,
         "type": "scatter",
         "x": [
          9.5,
          15.203125,
          null,
          9.5,
          9.5,
          null,
          15.203125,
          15.203125,
          null
         ],
         "y": [
          0.995292067527771,
          0.995292067527771,
          null,
          0.995292067527771,
          0.0889119952917099,
          null,
          0.995292067527771,
          0.9930856823921204,
          null
         ]
        },
        {
         "hoverinfo": "skip",
         "line": {
          "color": "gray"
         },
         "mode": "lines",
         "showlegend": false,
         "type": "scatter",
         "x": [
          11,
          12,
          null,
          11,
          11,
          null,
          12,
          12,
          null
         ],
         "y": [
          0.9788056015968323,
          0.9788056015968323,
          null,
          0.9788056015968323,
          0,
          null,
          0.9788056015968323,
          0,
          null
         ]
        },
        {
         "hoverinfo": "skip",
         "line": {
          "color": "gray"
         },
         "mode": "lines",
         "showlegend": false,
         "type": "scatter",
         "x": [
          31.5,
          34.25,
          null,
          31.5,
          31.5,
          null,
          34.25,
          34.25,
          null
         ],
         "y": [
          0.5317713618278503,
          0.5317713618278503,
          null,
          0.5317713618278503,
          0.015783440321683884,
          null,
          0.5317713618278503,
          0.4591154456138611,
          null
         ]
        },
        {
         "hoverinfo": "skip",
         "line": {
          "color": "gray"
         },
         "mode": "lines",
         "showlegend": false,
         "type": "scatter",
         "x": [
          45.328125,
          54.84375,
          null,
          45.328125,
          45.328125,
          null,
          54.84375,
          54.84375,
          null
         ],
         "y": [
          0.9971560835838318,
          0.9971560835838318,
          null,
          0.9971560835838318,
          0.9934521913528442,
          null,
          0.9971560835838318,
          0.996930718421936,
          null
         ]
        },
        {
         "hoverinfo": "skip",
         "line": {
          "color": "gray"
         },
         "mode": "lines",
         "showlegend": false,
         "type": "scatter",
         "x": [
          64,
          65,
          null,
          64,
          64,
          null,
          65,
          65,
          null
         ],
         "y": [
          0.04964734986424446,
          0.04964734986424446,
          null,
          0.04964734986424446,
          0,
          null,
          0.04964734986424446,
          0,
          null
         ]
        },
        {
         "hoverinfo": "skip",
         "line": {
          "color": "gray"
         },
         "mode": "lines",
         "showlegend": false,
         "type": "scatter",
         "x": [
          9,
          10,
          null,
          9,
          9,
          null,
          10,
          10,
          null
         ],
         "y": [
          0.0889119952917099,
          0.0889119952917099,
          null,
          0.0889119952917099,
          0,
          null,
          0.0889119952917099,
          0,
          null
         ]
        },
        {
         "hoverinfo": "skip",
         "line": {
          "color": "gray"
         },
         "mode": "lines",
         "showlegend": false,
         "type": "scatter",
         "x": [
          3.5,
          14.0888671875,
          null,
          3.5,
          3.5,
          null,
          14.0888671875,
          14.0888671875,
          null
         ],
         "y": [
          0.9981513023376465,
          0.9981513023376465,
          null,
          0.9981513023376465,
          0.5875521898269653,
          null,
          0.9981513023376465,
          0.9979547262191772,
          null
         ]
        },
        {
         "hoverinfo": "skip",
         "line": {
          "color": "gray"
         },
         "mode": "lines",
         "showlegend": false,
         "type": "scatter",
         "x": [
          31,
          32,
          null,
          31,
          31,
          null,
          32,
          32,
          null
         ],
         "y": [
          0.015783440321683884,
          0.015783440321683884,
          null,
          0.015783440321683884,
          0,
          null,
          0.015783440321683884,
          0,
          null
         ]
        },
        {
         "hoverinfo": "skip",
         "line": {
          "color": "gray"
         },
         "mode": "lines",
         "showlegend": false,
         "type": "scatter",
         "x": [
          8.79443359375,
          59.29296875,
          null,
          8.79443359375,
          8.79443359375,
          null,
          59.29296875,
          59.29296875,
          null
         ],
         "y": [
          0.9991055130958557,
          0.9991055130958557,
          null,
          0.9991055130958557,
          0.9981513023376465,
          null,
          0.9991055130958557,
          0.998504102230072,
          null
         ]
        },
        {
         "hoverinfo": "skip",
         "line": {
          "color": "gray"
         },
         "mode": "lines",
         "showlegend": false,
         "type": "scatter",
         "x": [
          67,
          68,
          null,
          67,
          67,
          null,
          68,
          68,
          null
         ],
         "y": [
          0.7071014642715454,
          0.7071014642715454,
          null,
          0.7071014642715454,
          0,
          null,
          0.7071014642715454,
          0,
          null
         ]
        },
        {
         "hoverinfo": "skip",
         "line": {
          "color": "gray"
         },
         "mode": "lines",
         "showlegend": false,
         "type": "scatter",
         "x": [
          38.25,
          40,
          null,
          38.25,
          38.25,
          null,
          40,
          40,
          null
         ],
         "y": [
          0.8738513588905334,
          0.8738513588905334,
          null,
          0.8738513588905334,
          0.40723323822021484,
          null,
          0.8738513588905334,
          0,
          null
         ]
        },
        {
         "hoverinfo": "skip",
         "line": {
          "color": "gray"
         },
         "mode": "lines",
         "showlegend": false,
         "type": "scatter",
         "x": [
          63.5,
          66,
          null,
          63.5,
          63.5,
          null,
          66,
          66,
          null
         ],
         "y": [
          0.42010676860809326,
          0.42010676860809326,
          null,
          0.42010676860809326,
          0.2514660358428955,
          null,
          0.42010676860809326,
          0,
          null
         ]
        },
        {
         "hoverinfo": "skip",
         "line": {
          "color": "gray"
         },
         "mode": "lines",
         "showlegend": false,
         "type": "scatter",
         "x": [
          56.5,
          58,
          null,
          56.5,
          56.5,
          null,
          58,
          58,
          null
         ],
         "y": [
          0.726937472820282,
          0.726937472820282,
          null,
          0.726937472820282,
          0.5136206746101379,
          null,
          0.726937472820282,
          0,
          null
         ]
        },
        {
         "hoverinfo": "skip",
         "line": {
          "color": "gray"
         },
         "mode": "lines",
         "showlegend": false,
         "type": "scatter",
         "x": [
          51.5,
          53,
          null,
          51.5,
          51.5,
          null,
          53,
          53,
          null
         ],
         "y": [
          0.5873085260391235,
          0.5873085260391235,
          null,
          0.5873085260391235,
          0.5338645577430725,
          null,
          0.5873085260391235,
          0,
          null
         ]
        },
        {
         "hoverinfo": "skip",
         "line": {
          "color": "gray"
         },
         "mode": "lines",
         "showlegend": false,
         "type": "scatter",
         "x": [
          58.125,
          62.625,
          null,
          58.125,
          58.125,
          null,
          62.625,
          62.625,
          null
         ],
         "y": [
          0.9955407977104187,
          0.9955407977104187,
          null,
          0.9955407977104187,
          0.8232181072235107,
          null,
          0.9955407977104187,
          0.9816662073135376,
          null
         ]
        },
        {
         "hoverinfo": "skip",
         "line": {
          "color": "gray"
         },
         "mode": "lines",
         "showlegend": false,
         "type": "scatter",
         "x": [
          46.5,
          48,
          null,
          46.5,
          46.5,
          null,
          48,
          48,
          null
         ],
         "y": [
          0.3025515377521515,
          0.3025515377521515,
          null,
          0.3025515377521515,
          0.0021459227427840233,
          null,
          0.3025515377521515,
          0,
          null
         ]
        },
        {
         "hoverinfo": "skip",
         "line": {
          "color": "gray"
         },
         "mode": "lines",
         "showlegend": false,
         "type": "scatter",
         "x": [
          54.5,
          60.375,
          null,
          54.5,
          54.5,
          null,
          60.375,
          60.375,
          null
         ],
         "y": [
          0.9965395927429199,
          0.9965395927429199,
          null,
          0.9965395927429199,
          0.39860501885414124,
          null,
          0.9965395927429199,
          0.9955407977104187,
          null
         ]
        },
        {
         "hoverinfo": "skip",
         "line": {
          "color": "gray"
         },
         "mode": "lines",
         "showlegend": false,
         "type": "scatter",
         "x": [
          52.25,
          57.4375,
          null,
          52.25,
          52.25,
          null,
          57.4375,
          57.4375,
          null
         ],
         "y": [
          0.996930718421936,
          0.996930718421936,
          null,
          0.996930718421936,
          0.5873085260391235,
          null,
          0.996930718421936,
          0.9965395927429199,
          null
         ]
        },
        {
         "hoverinfo": "skip",
         "line": {
          "color": "gray"
         },
         "mode": "lines",
         "showlegend": false,
         "type": "scatter",
         "x": [
          36.78125,
          41,
          null,
          36.78125,
          36.78125,
          null,
          41,
          41,
          null
         ],
         "y": [
          0.990268886089325,
          0.990268886089325,
          null,
          0.990268886089325,
          0.9680444598197937,
          null,
          0.990268886089325,
          0,
          null
         ]
        },
        {
         "hoverinfo": "skip",
         "line": {
          "color": "gray"
         },
         "mode": "lines",
         "showlegend": false,
         "type": "scatter",
         "x": [
          51,
          52,
          null,
          51,
          51,
          null,
          52,
          52,
          null
         ],
         "y": [
          0.5338645577430725,
          0.5338645577430725,
          null,
          0.5338645577430725,
          0,
          null,
          0.5338645577430725,
          0,
          null
         ]
        },
        {
         "hoverinfo": "skip",
         "line": {
          "color": "gray"
         },
         "mode": "lines",
         "showlegend": false,
         "type": "scatter",
         "x": [
          14.5,
          16,
          null,
          14.5,
          14.5,
          null,
          16,
          16,
          null
         ],
         "y": [
          0.045276038348674774,
          0.045276038348674774,
          null,
          0.045276038348674774,
          0.014471392147243023,
          null,
          0.045276038348674774,
          0,
          null
         ]
        },
        {
         "hoverinfo": "skip",
         "line": {
          "color": "gray"
         },
         "mode": "lines",
         "showlegend": false,
         "type": "scatter",
         "x": [
          6.25,
          8,
          null,
          6.25,
          6.25,
          null,
          8,
          8,
          null
         ],
         "y": [
          0.6697421669960022,
          0.6697421669960022,
          null,
          0.6697421669960022,
          0.4398430585861206,
          null,
          0.6697421669960022,
          0,
          null
         ]
        },
        {
         "hoverinfo": "skip",
         "line": {
          "color": "gray"
         },
         "mode": "lines",
         "showlegend": false,
         "type": "scatter",
         "x": [
          12.3515625,
          29.75390625,
          null,
          12.3515625,
          12.3515625,
          null,
          29.75390625,
          29.75390625,
          null
         ],
         "y": [
          0.9971703290939331,
          0.9971703290939331,
          null,
          0.9971703290939331,
          0.995292067527771,
          null,
          0.9971703290939331,
          0.9967931509017944,
          null
         ]
        },
        {
         "hoverinfo": "skip",
         "line": {
          "color": "gray"
         },
         "mode": "lines",
         "showlegend": false,
         "type": "scatter",
         "x": [
          37,
          38,
          null,
          37,
          37,
          null,
          38,
          38,
          null
         ],
         "y": [
          0.004472782835364342,
          0.004472782835364342,
          null,
          0.004472782835364342,
          0,
          null,
          0.004472782835364342,
          0,
          null
         ]
        },
        {
         "hoverinfo": "skip",
         "line": {
          "color": "gray"
         },
         "mode": "lines",
         "showlegend": false,
         "type": "scatter",
         "x": [
          50.0859375,
          68.5,
          null,
          50.0859375,
          50.0859375,
          null,
          68.5,
          68.5,
          null
         ],
         "y": [
          0.998504102230072,
          0.998504102230072,
          null,
          0.998504102230072,
          0.9971560835838318,
          null,
          0.998504102230072,
          0.9982056617736816,
          null
         ]
        },
        {
         "hoverinfo": "skip",
         "line": {
          "color": "gray"
         },
         "mode": "lines",
         "showlegend": false,
         "type": "scatter",
         "x": [
          60,
          61,
          null,
          60,
          60,
          null,
          61,
          61,
          null
         ],
         "y": [
          0.235430508852005,
          0.235430508852005,
          null,
          0.235430508852005,
          0,
          null,
          0.235430508852005,
          0,
          null
         ]
        },
        {
         "hoverinfo": "skip",
         "line": {
          "color": "gray"
         },
         "mode": "lines",
         "showlegend": false,
         "type": "scatter",
         "x": [
          56,
          57,
          null,
          56,
          56,
          null,
          57,
          57,
          null
         ],
         "y": [
          0.5136206746101379,
          0.5136206746101379,
          null,
          0.5136206746101379,
          0,
          null,
          0.5136206746101379,
          0,
          null
         ]
        },
        {
         "hoverinfo": "skip",
         "line": {
          "color": "gray"
         },
         "mode": "lines",
         "showlegend": false,
         "type": "scatter",
         "x": [
          18.5,
          21.875,
          null,
          18.5,
          18.5,
          null,
          21.875,
          21.875,
          null
         ],
         "y": [
          0.9907206296920776,
          0.9907206296920776,
          null,
          0.9907206296920776,
          0.934910774230957,
          null,
          0.9907206296920776,
          0.9874668121337891,
          null
         ]
        },
        {
         "hoverinfo": "skip",
         "line": {
          "color": "gray"
         },
         "mode": "lines",
         "showlegend": false,
         "type": "scatter",
         "x": [
          47.25,
          49,
          null,
          47.25,
          47.25,
          null,
          49,
          49,
          null
         ],
         "y": [
          0.3153366148471832,
          0.3153366148471832,
          null,
          0.3153366148471832,
          0.3025515377521515,
          null,
          0.3153366148471832,
          0,
          null
         ]
        },
        {
         "hoverinfo": "skip",
         "line": {
          "color": "gray"
         },
         "mode": "lines",
         "showlegend": false,
         "type": "scatter",
         "x": [
          33,
          34,
          null,
          33,
          33,
          null,
          34,
          34,
          null
         ],
         "y": [
          0.05057865381240845,
          0.05057865381240845,
          null,
          0.05057865381240845,
          0,
          null,
          0.05057865381240845,
          0,
          null
         ]
        },
        {
         "hoverinfo": "skip",
         "line": {
          "color": "gray"
         },
         "mode": "lines",
         "showlegend": false,
         "type": "scatter",
         "x": [
          5,
          6,
          null,
          5,
          5,
          null,
          6,
          6,
          null
         ],
         "y": [
          0.4256359934806824,
          0.4256359934806824,
          null,
          0.4256359934806824,
          0,
          null,
          0.4256359934806824,
          0,
          null
         ]
        },
        {
         "hoverinfo": "skip",
         "line": {
          "color": "gray"
         },
         "mode": "lines",
         "showlegend": false,
         "type": "scatter",
         "x": [
          34.4375,
          39.125,
          null,
          34.4375,
          34.4375,
          null,
          39.125,
          39.125,
          null
         ],
         "y": [
          0.9680444598197937,
          0.9680444598197937,
          null,
          0.9680444598197937,
          0.6244302988052368,
          null,
          0.9680444598197937,
          0.8738513588905334,
          null
         ]
        },
        {
         "hoverinfo": "skip",
         "line": {
          "color": "gray"
         },
         "mode": "lines",
         "showlegend": false,
         "type": "scatter",
         "x": [
          5.5,
          7,
          null,
          5.5,
          5.5,
          null,
          7,
          7,
          null
         ],
         "y": [
          0.4398430585861206,
          0.4398430585861206,
          null,
          0.4398430585861206,
          0.4256359934806824,
          null,
          0.4398430585861206,
          0,
          null
         ]
        },
        {
         "hoverinfo": "skip",
         "line": {
          "color": "gray"
         },
         "mode": "lines",
         "showlegend": false,
         "type": "scatter",
         "x": [
          7.125,
          21.052734375,
          null,
          7.125,
          7.125,
          null,
          21.052734375,
          21.052734375,
          null
         ],
         "y": [
          0.9979547262191772,
          0.9979547262191772,
          null,
          0.9979547262191772,
          0.6697421669960022,
          null,
          0.9979547262191772,
          0.9971703290939331,
          null
         ]
        },
        {
         "hovertemplate": "%{text}<br>%{y}<extra></extra>",
         "marker": {
          "color": "gray"
         },
         "mode": "markers",
         "showlegend": false,
         "text": [
          "Bacteria",
          "Mycobacterium",
          "Xanthomonas",
          "Staphylococcus",
          "Proteobacteria",
          "Mycobacterium tuberculosis",
          "Streptococcus",
          "Yersinia",
          "pseudomallei group",
          "Bacteria",
          "Bordetella",
          "Enterobacteriaceae",
          "Clostridium perfringens",
          "Streptococcus",
          "Yersinia pestis",
          "Rickettsia",
          "Salmonella enterica subsp. enterica",
          "Enterobacteriaceae",
          "Tropheryma whipplei",
          "Streptococcus pneumoniae",
          "Pseudomonas",
          "Bacteria",
          "Burkholderiales",
          "Gammaproteobacteria",
          "Staphylococcus aureus",
          "Staphylococcus aureus",
          "Bordetella",
          "Streptococcus",
          "Bacillus cereus group",
          "Streptococcus pyogenes serotype M3",
          "Xylella fastidiosa",
          "Yersinia pestis",
          "Vibrio vulnificus",
          "Enterobacterales",
          "Streptococcus agalactiae",
          "Bacteria",
          "Pseudomonas",
          "Enterobacteriaceae",
          "Bacteria",
          "Staphylococcus aureus",
          "Brucella",
          "Bacteria",
          "Escherichia coli O157:H7",
          "Bacteria",
          "Helicobacter pylori",
          "Salmonella",
          "Staphylococcus aureus",
          "Bacillus cereus group",
          "Legionella pneumophila",
          "Bacillales",
          "Streptococcus pyogenes",
          "Firmicutes",
          "Bacteria",
          "Enterobacterales",
          "Legionella pneumophila",
          "Mycobacterium tuberculosis",
          "Neisseria",
          "Bacteria",
          "Salmonella enterica subsp. enterica serovar Typhi",
          "Bacteria",
          "Staphylococcus epidermidis",
          "Bacillus cereus group",
          "Proteobacteria",
          "Streptococcus pyogenes",
          "Shigella flexneri 2a",
          "Neisseria meningitidis",
          "Enterobacteriaceae",
          "Neisseria meningitidis",
          "Bacteria"
         ],
         "type": "scatter",
         "x": [
          18.15625,
          16.125,
          18.5,
          62.625,
          68.5,
          14.5,
          46.3125,
          29.125,
          20.5,
          17.7718505859375,
          22.5,
          34.4375,
          54.5,
          48.15625,
          27.5,
          69.5,
          38.25,
          34.25,
          1.5,
          42.5,
          12.25,
          15.203125,
          21.875,
          29.75390625,
          63.5,
          62.5,
          23.25,
          45.328125,
          58.125,
          46.5,
          3.5,
          28.25,
          25.5,
          34.0078125,
          44.5,
          12.3515625,
          11.5,
          32.875,
          50.0859375,
          64.5,
          9.5,
          8.79443359375,
          31.5,
          34.043701171875,
          67.5,
          39.125,
          64.75,
          57.25,
          52.25,
          60.375,
          47.25,
          57.4375,
          54.84375,
          38.890625,
          51.5,
          15.25,
          7.125,
          21.052734375,
          37.5,
          59.29296875,
          60.5,
          56.5,
          20.1875,
          48.125,
          33.5,
          5.5,
          36.78125,
          6.25,
          14.0888671875
         ],
         "y": [
          0.9916363954544067,
          0.9716590046882629,
          0.934910774230957,
          0.9816662073135376,
          0.9982056617736816,
          0.014471392147243023,
          0.9778701663017273,
          0.9639829993247986,
          0.3452591598033905,
          0.9995874166488647,
          0.26297613978385925,
          0.6244302988052368,
          0.39860501885414124,
          0.991387665271759,
          0.02585447020828724,
          0.9520471096038818,
          0.40723323822021484,
          0.4591154456138611,
          0.10177281498908997,
          0.25340378284454346,
          0.9852635264396667,
          0.9930856823921204,
          0.9874668121337891,
          0.9967931509017944,
          0.2514660358428955,
          0.03593067452311516,
          0.4249081015586853,
          0.9934521913528442,
          0.8232181072235107,
          0.0021459227427840233,
          0.5875521898269653,
          0.03323237597942352,
          0.4191717803478241,
          0.9923674464225769,
          0.2947348356246948,
          0.995292067527771,
          0.9788056015968323,
          0.5317713618278503,
          0.9971560835838318,
          0.04964734986424446,
          0.0889119952917099,
          0.9981513023376465,
          0.015783440321683884,
          0.9991055130958557,
          0.7071014642715454,
          0.8738513588905334,
          0.42010676860809326,
          0.726937472820282,
          0.5873085260391235,
          0.9955407977104187,
          0.3025515377521515,
          0.9965395927429199,
          0.996930718421936,
          0.990268886089325,
          0.5338645577430725,
          0.045276038348674774,
          0.6697421669960022,
          0.9971703290939331,
          0.004472782835364342,
          0.998504102230072,
          0.235430508852005,
          0.5136206746101379,
          0.9907206296920776,
          0.3153366148471832,
          0.05057865381240845,
          0.4256359934806824,
          0.9680444598197937,
          0.4398430585861206,
          0.9979547262191772
         ]
        }
       ],
       "frames": [],
       "layout": {
        "autosize": true,
        "hovermode": "closest",
        "margin": {
         "b": 50,
         "l": 50,
         "r": 50,
         "t": 60
        },
        "xaxis": {
         "autorange": true,
         "range": [
          -2.560714999001398,
          73.56071499900139
         ],
         "type": "linear"
        },
        "yaxis": {
         "autorange": true,
         "range": [
          -0.06536649278361009,
          1.067099832175259
         ],
         "type": "linear"
        }
       }
      },
      "application/vnd.webio.node+json": {
       "children": [
        {
         "children": [],
         "instanceArgs": {
          "namespace": "html",
          "tag": "div"
         },
         "nodeType": "DOM",
         "props": {
          "id": "plot-fcdd860d-f1ec-4b76-8497-b1dead40284a"
         },
         "type": "node"
        }
       ],
       "instanceArgs": {
        "handlers": {
         "__get_gd_contents": [
          "(function (prop){prop==\"data\" ? (WebIO.setval({\"name\":\"__gd_contents\",\"scope\":\"14531529895801320264\",\"id\":\"16873684992738385581\",\"type\":\"observable\"},this.plotElem.data)) : undefined; return prop==\"layout\" ? (WebIO.setval({\"name\":\"__gd_contents\",\"scope\":\"14531529895801320264\",\"id\":\"16873684992738385581\",\"type\":\"observable\"},this.plotElem.layout)) : undefined})"
         ],
         "_commands": [
          "(function (args){var fn=args.shift(); var elem=this.plotElem; var Plotly=this.Plotly; args.unshift(elem); return Plotly[fn].apply(this,args)})"
         ],
         "_downloadImage": [
          "(function (options){return this.Plotly.downloadImage(this.plotElem,options)})"
         ],
         "_toImage": [
          "(function (options){return this.Plotly.toImage(this.plotElem,options).then((function (data){return WebIO.setval({\"name\":\"image\",\"scope\":\"14531529895801320264\",\"id\":\"10081136364184332108\",\"type\":\"observable\"},data)}))})"
         ]
        },
        "id": "14531529895801320264",
        "imports": {
         "data": [
          {
           "name": "Plotly",
           "type": "js",
           "url": "/assetserver/2178a8d06f9a8c65d859d06b4046edd396027e54-plotly.min.js"
          },
          {
           "name": null,
           "type": "js",
           "url": "/assetserver/bfdea5073d48cb1c02a6ebf79fdeb36320854e28-plotly_webio.bundle.js"
          }
         ],
         "type": "async_block"
        },
        "mount_callbacks": [
         "function () {\n    var handler = ((function (Plotly,PlotlyWebIO){PlotlyWebIO.init(WebIO); var gd=this.dom.querySelector(\"#plot-fcdd860d-f1ec-4b76-8497-b1dead40284a\"); this.plotElem=gd; this.Plotly=Plotly; (window.Blink!==undefined) ? (gd.style.width=\"100%\", gd.style.height=\"100vh\", gd.style.marginLeft=\"0%\", gd.style.marginTop=\"0vh\") : undefined; window.onresize=(function (){return Plotly.Plots.resize(gd)}); Plotly.newPlot(gd,[{\"showlegend\":false,\"mode\":\"lines\",\"line\":{\"color\":\"gray\"},\"y\":[0.9916363954544067,0.9916363954544067,null,0.9916363954544067,0.9716590046882629,null,0.9916363954544067,0.9907206296920776,null],\"type\":\"scatter\",\"hoverinfo\":\"skip\",\"x\":[16.125,20.1875,null,16.125,16.125,null,20.1875,20.1875,null]},{\"showlegend\":false,\"mode\":\"lines\",\"line\":{\"color\":\"gray\"},\"y\":[0.9716590046882629,0.9716590046882629,null,0.9716590046882629,0.045276038348674774,null,0.9716590046882629,0.0,null],\"type\":\"scatter\",\"hoverinfo\":\"skip\",\"x\":[15.25,17.0,null,15.25,15.25,null,17.0,17.0,null]},{\"showlegend\":false,\"mode\":\"lines\",\"line\":{\"color\":\"gray\"},\"y\":[0.934910774230957,0.934910774230957,null,0.934910774230957,0.0,null,0.934910774230957,0.0,null],\"type\":\"scatter\",\"hoverinfo\":\"skip\",\"x\":[18.0,19.0,null,18.0,18.0,null,19.0,19.0,null]},{\"showlegend\":false,\"mode\":\"lines\",\"line\":{\"color\":\"gray\"},\"y\":[0.9982056617736816,0.9982056617736816,null,0.9982056617736816,0.7071014642715454,null,0.9982056617736816,0.9520471096038818,null],\"type\":\"scatter\",\"hoverinfo\":\"skip\",\"x\":[67.5,69.5,null,67.5,67.5,null,69.5,69.5,null]},{\"showlegend\":false,\"mode\":\"lines\",\"line\":{\"color\":\"gray\"},\"y\":[0.9816662073135376,0.9816662073135376,null,0.9816662073135376,0.235430508852005,null,0.9816662073135376,0.42010676860809326,null],\"type\":\"scatter\",\"hoverinfo\":\"skip\",\"x\":[60.5,64.75,null,60.5,60.5,null,64.75,64.75,null]},{\"showlegend\":false,\"mode\":\"lines\",\"line\":{\"color\":\"gray\"},\"y\":[0.014471392147243023,0.014471392147243023,null,0.014471392147243023,0.0,null,0.014471392147243023,0.0,null],\"type\":\"scatter\",\"hoverinfo\":\"skip\",\"x\":[14.0,15.0,null,14.0,14.0,null,15.0,15.0,null]},{\"showlegend\":false,\"mode\":\"lines\",\"line\":{\"color\":\"gray\"},\"y\":[0.9778701663017273,0.9778701663017273,null,0.9778701663017273,0.2947348356246948,null,0.9778701663017273,0.3153366148471832,null],\"type\":\"scatter\",\"hoverinfo\":\"skip\",\"x\":[44.5,48.125,null,44.5,44.5,null,48.125,48.125,null]},{\"showlegend\":false,\"mode\":\"lines\",\"line\":{\"color\":\"gray\"},\"y\":[0.9639829993247986,0.9639829993247986,null,0.9639829993247986,0.03323237597942352,null,0.9639829993247986,0.0,null],\"type\":\"scatter\",\"hoverinfo\":\"skip\",\"x\":[28.25,30.0,null,28.25,28.25,null,30.0,30.0,null]},{\"showlegend\":false,\"mode\":\"lines\",\"line\":{\"color\":\"gray\"},\"y\":[0.3452591598033905,0.3452591598033905,null,0.3452591598033905,0.0,null,0.3452591598033905,0.0,null],\"type\":\"scatter\",\"hoverinfo\":\"skip\",\"x\":[20.0,21.0,null,20.0,20.0,null,21.0,21.0,null]},{\"showlegend\":false,\"mode\":\"lines\",\"line\":{\"color\":\"gray\"},\"y\":[0.9995874166488647,0.9995874166488647,null,0.9995874166488647,0.10177281498908997,null,0.9995874166488647,0.9991055130958557,null],\"type\":\"scatter\",\"hoverinfo\":\"skip\",\"x\":[1.5,34.043701171875,null,1.5,1.5,null,34.043701171875,34.043701171875,null]},{\"showlegend\":false,\"mode\":\"lines\",\"line\":{\"color\":\"gray\"},\"y\":[0.26297613978385925,0.26297613978385925,null,0.26297613978385925,0.0,null,0.26297613978385925,0.0,null],\"type\":\"scatter\",\"hoverinfo\":\"skip\",\"x\":[22.0,23.0,null,22.0,22.0,null,23.0,23.0,null]},{\"showlegend\":false,\"mode\":\"lines\",\"line\":{\"color\":\"gray\"},\"y\":[0.6244302988052368,0.6244302988052368,null,0.6244302988052368,0.5317713618278503,null,0.6244302988052368,0.0,null],\"type\":\"scatter\",\"hoverinfo\":\"skip\",\"x\":[32.875,36.0,null,32.875,32.875,null,36.0,36.0,null]},{\"showlegend\":false,\"mode\":\"lines\",\"line\":{\"color\":\"gray\"},\"y\":[0.39860501885414124,0.39860501885414124,null,0.39860501885414124,0.0,null,0.39860501885414124,0.0,null],\"type\":\"scatter\",\"hoverinfo\":\"skip\",\"x\":[54.0,55.0,null,54.0,54.0,null,55.0,55.0,null]},{\"showlegend\":false,\"mode\":\"lines\",\"line\":{\"color\":\"gray\"},\"y\":[0.991387665271759,0.991387665271759,null,0.991387665271759,0.9778701663017273,null,0.991387665271759,0.0,null],\"type\":\"scatter\",\"hoverinfo\":\"skip\",\"x\":[46.3125,50.0,null,46.3125,46.3125,null,50.0,50.0,null]},{\"showlegend\":false,\"mode\":\"lines\",\"line\":{\"color\":\"gray\"},\"y\":[0.02585447020828724,0.02585447020828724,null,0.02585447020828724,0.0,null,0.02585447020828724,0.0,null],\"type\":\"scatter\",\"hoverinfo\":\"skip\",\"x\":[27.0,28.0,null,27.0,27.0,null,28.0,28.0,null]},{\"showlegend\":false,\"mode\":\"lines\",\"line\":{\"color\":\"gray\"},\"y\":[0.9520471096038818,0.9520471096038818,null,0.9520471096038818,0.0,null,0.9520471096038818,0.0,null],\"type\":\"scatter\",\"hoverinfo\":\"skip\",\"x\":[69.0,70.0,null,69.0,69.0,null,70.0,70.0,null]},{\"showlegend\":false,\"mode\":\"lines\",\"line\":{\"color\":\"gray\"},\"y\":[0.40723323822021484,0.40723323822021484,null,0.40723323822021484,0.004472782835364342,null,0.40723323822021484,0.0,null],\"type\":\"scatter\",\"hoverinfo\":\"skip\",\"x\":[37.5,39.0,null,37.5,37.5,null,39.0,39.0,null]},{\"showlegend\":false,\"mode\":\"lines\",\"line\":{\"color\":\"gray\"},\"y\":[0.4591154456138611,0.4591154456138611,null,0.4591154456138611,0.05057865381240845,null,0.4591154456138611,0.0,null],\"type\":\"scatter\",\"hoverinfo\":\"skip\",\"x\":[33.5,35.0,null,33.5,33.5,null,35.0,35.0,null]},{\"showlegend\":false,\"mode\":\"lines\",\"line\":{\"color\":\"gray\"},\"y\":[0.10177281498908997,0.10177281498908997,null,0.10177281498908997,0.0,null,0.10177281498908997,0.0,null],\"type\":\"scatter\",\"hoverinfo\":\"skip\",\"x\":[1.0,2.0,null,1.0,1.0,null,2.0,2.0,null]},{\"showlegend\":false,\"mode\":\"lines\",\"line\":{\"color\":\"gray\"},\"y\":[0.25340378284454346,0.25340378284454346,null,0.25340378284454346,0.0,null,0.25340378284454346,0.0,null],\"type\":\"scatter\",\"hoverinfo\":\"skip\",\"x\":[42.0,43.0,null,42.0,42.0,null,43.0,43.0,null]},{\"showlegend\":false,\"mode\":\"lines\",\"line\":{\"color\":\"gray\"},\"y\":[0.9852635264396667,0.9852635264396667,null,0.9852635264396667,0.9788056015968323,null,0.9852635264396667,0.0,null],\"type\":\"scatter\",\"hoverinfo\":\"skip\",\"x\":[11.5,13.0,null,11.5,11.5,null,13.0,13.0,null]},{\"showlegend\":false,\"mode\":\"lines\",\"line\":{\"color\":\"gray\"},\"y\":[0.9930856823921204,0.9930856823921204,null,0.9930856823921204,0.9852635264396667,null,0.9930856823921204,0.9916363954544067,null],\"type\":\"scatter\",\"hoverinfo\":\"skip\",\"x\":[12.25,18.15625,null,12.25,12.25,null,18.15625,18.15625,null]},{\"showlegend\":false,\"mode\":\"lines\",\"line\":{\"color\":\"gray\"},\"y\":[0.9874668121337891,0.9874668121337891,null,0.9874668121337891,0.3452591598033905,null,0.9874668121337891,0.4249081015586853,null],\"type\":\"scatter\",\"hoverinfo\":\"skip\",\"x\":[20.5,23.25,null,20.5,20.5,null,23.25,23.25,null]},{\"showlegend\":false,\"mode\":\"lines\",\"line\":{\"color\":\"gray\"},\"y\":[0.9967931509017944,0.9967931509017944,null,0.9967931509017944,0.4191717803478241,null,0.9967931509017944,0.9923674464225769,null],\"type\":\"scatter\",\"hoverinfo\":\"skip\",\"x\":[25.5,34.0078125,null,25.5,25.5,null,34.0078125,34.0078125,null]},{\"showlegend\":false,\"mode\":\"lines\",\"line\":{\"color\":\"gray\"},\"y\":[0.2514660358428955,0.2514660358428955,null,0.2514660358428955,0.03593067452311516,null,0.2514660358428955,0.04964734986424446,null],\"type\":\"scatter\",\"hoverinfo\":\"skip\",\"x\":[62.5,64.5,null,62.5,62.5,null,64.5,64.5,null]},{\"showlegend\":false,\"mode\":\"lines\",\"line\":{\"color\":\"gray\"},\"y\":[0.03593067452311516,0.03593067452311516,null,0.03593067452311516,0.0,null,0.03593067452311516,0.0,null],\"type\":\"scatter\",\"hoverinfo\":\"skip\",\"x\":[62.0,63.0,null,62.0,62.0,null,63.0,63.0,null]},{\"showlegend\":false,\"mode\":\"lines\",\"line\":{\"color\":\"gray\"},\"y\":[0.4249081015586853,0.4249081015586853,null,0.4249081015586853,0.26297613978385925,null,0.4249081015586853,0.0,null],\"type\":\"scatter\",\"hoverinfo\":\"skip\",\"x\":[22.5,24.0,null,22.5,22.5,null,24.0,24.0,null]},{\"showlegend\":false,\"mode\":\"lines\",\"line\":{\"color\":\"gray\"},\"y\":[0.9934521913528442,0.9934521913528442,null,0.9934521913528442,0.25340378284454346,null,0.9934521913528442,0.991387665271759,null],\"type\":\"scatter\",\"hoverinfo\":\"skip\",\"x\":[42.5,48.15625,null,42.5,42.5,null,48.15625,48.15625,null]},{\"showlegend\":false,\"mode\":\"lines\",\"line\":{\"color\":\"gray\"},\"y\":[0.8232181072235107,0.8232181072235107,null,0.8232181072235107,0.726937472820282,null,0.8232181072235107,0.0,null],\"type\":\"scatter\",\"hoverinfo\":\"skip\",\"x\":[57.25,59.0,null,57.25,57.25,null,59.0,59.0,null]},{\"showlegend\":false,\"mode\":\"lines\",\"line\":{\"color\":\"gray\"},\"y\":[0.0021459227427840233,0.0021459227427840233,null,0.0021459227427840233,0.0,null,0.0021459227427840233,0.0,null],\"type\":\"scatter\",\"hoverinfo\":\"skip\",\"x\":[46.0,47.0,null,46.0,46.0,null,47.0,47.0,null]},{\"showlegend\":false,\"mode\":\"lines\",\"line\":{\"color\":\"gray\"},\"y\":[0.5875521898269653,0.5875521898269653,null,0.5875521898269653,0.0,null,0.5875521898269653,0.0,null],\"type\":\"scatter\",\"hoverinfo\":\"skip\",\"x\":[3.0,4.0,null,3.0,3.0,null,4.0,4.0,null]},{\"showlegend\":false,\"mode\":\"lines\",\"line\":{\"color\":\"gray\"},\"y\":[0.03323237597942352,0.03323237597942352,null,0.03323237597942352,0.02585447020828724,null,0.03323237597942352,0.0,null],\"type\":\"scatter\",\"hoverinfo\":\"skip\",\"x\":[27.5,29.0,null,27.5,27.5,null,29.0,29.0,null]},{\"showlegend\":false,\"mode\":\"lines\",\"line\":{\"color\":\"gray\"},\"y\":[0.4191717803478241,0.4191717803478241,null,0.4191717803478241,0.0,null,0.4191717803478241,0.0,null],\"type\":\"scatter\",\"hoverinfo\":\"skip\",\"x\":[25.0,26.0,null,25.0,25.0,null,26.0,26.0,null]},{\"showlegend\":false,\"mode\":\"lines\",\"line\":{\"color\":\"gray\"},\"y\":[0.9923674464225769,0.9923674464225769,null,0.9923674464225769,0.9639829993247986,null,0.9923674464225769,0.990268886089325,null],\"type\":\"scatter\",\"hoverinfo\":\"skip\",\"x\":[29.125,38.890625,null,29.125,29.125,null,38.890625,38.890625,null]},{\"showlegend\":false,\"mode\":\"lines\",\"line\":{\"color\":\"gray\"},\"y\":[0.2947348356246948,0.2947348356246948,null,0.2947348356246948,0.0,null,0.2947348356246948,0.0,null],\"type\":\"scatter\",\"hoverinfo\":\"skip\",\"x\":[44.0,45.0,null,44.0,44.0,null,45.0,45.0,null]},{\"showlegend\":false,\"mode\":\"lines\",\"line\":{\"color\":\"gray\"},\"y\":[0.995292067527771,0.995292067527771,null,0.995292067527771,0.0889119952917099,null,0.995292067527771,0.9930856823921204,null],\"type\":\"scatter\",\"hoverinfo\":\"skip\",\"x\":[9.5,15.203125,null,9.5,9.5,null,15.203125,15.203125,null]},{\"showlegend\":false,\"mode\":\"lines\",\"line\":{\"color\":\"gray\"},\"y\":[0.9788056015968323,0.9788056015968323,null,0.9788056015968323,0.0,null,0.9788056015968323,0.0,null],\"type\":\"scatter\",\"hoverinfo\":\"skip\",\"x\":[11.0,12.0,null,11.0,11.0,null,12.0,12.0,null]},{\"showlegend\":false,\"mode\":\"lines\",\"line\":{\"color\":\"gray\"},\"y\":[0.5317713618278503,0.5317713618278503,null,0.5317713618278503,0.015783440321683884,null,0.5317713618278503,0.4591154456138611,null],\"type\":\"scatter\",\"hoverinfo\":\"skip\",\"x\":[31.5,34.25,null,31.5,31.5,null,34.25,34.25,null]},{\"showlegend\":false,\"mode\":\"lines\",\"line\":{\"color\":\"gray\"},\"y\":[0.9971560835838318,0.9971560835838318,null,0.9971560835838318,0.9934521913528442,null,0.9971560835838318,0.996930718421936,null],\"type\":\"scatter\",\"hoverinfo\":\"skip\",\"x\":[45.328125,54.84375,null,45.328125,45.328125,null,54.84375,54.84375,null]},{\"showlegend\":false,\"mode\":\"lines\",\"line\":{\"color\":\"gray\"},\"y\":[0.04964734986424446,0.04964734986424446,null,0.04964734986424446,0.0,null,0.04964734986424446,0.0,null],\"type\":\"scatter\",\"hoverinfo\":\"skip\",\"x\":[64.0,65.0,null,64.0,64.0,null,65.0,65.0,null]},{\"showlegend\":false,\"mode\":\"lines\",\"line\":{\"color\":\"gray\"},\"y\":[0.0889119952917099,0.0889119952917099,null,0.0889119952917099,0.0,null,0.0889119952917099,0.0,null],\"type\":\"scatter\",\"hoverinfo\":\"skip\",\"x\":[9.0,10.0,null,9.0,9.0,null,10.0,10.0,null]},{\"showlegend\":false,\"mode\":\"lines\",\"line\":{\"color\":\"gray\"},\"y\":[0.9981513023376465,0.9981513023376465,null,0.9981513023376465,0.5875521898269653,null,0.9981513023376465,0.9979547262191772,null],\"type\":\"scatter\",\"hoverinfo\":\"skip\",\"x\":[3.5,14.0888671875,null,3.5,3.5,null,14.0888671875,14.0888671875,null]},{\"showlegend\":false,\"mode\":\"lines\",\"line\":{\"color\":\"gray\"},\"y\":[0.015783440321683884,0.015783440321683884,null,0.015783440321683884,0.0,null,0.015783440321683884,0.0,null],\"type\":\"scatter\",\"hoverinfo\":\"skip\",\"x\":[31.0,32.0,null,31.0,31.0,null,32.0,32.0,null]},{\"showlegend\":false,\"mode\":\"lines\",\"line\":{\"color\":\"gray\"},\"y\":[0.9991055130958557,0.9991055130958557,null,0.9991055130958557,0.9981513023376465,null,0.9991055130958557,0.998504102230072,null],\"type\":\"scatter\",\"hoverinfo\":\"skip\",\"x\":[8.79443359375,59.29296875,null,8.79443359375,8.79443359375,null,59.29296875,59.29296875,null]},{\"showlegend\":false,\"mode\":\"lines\",\"line\":{\"color\":\"gray\"},\"y\":[0.7071014642715454,0.7071014642715454,null,0.7071014642715454,0.0,null,0.7071014642715454,0.0,null],\"type\":\"scatter\",\"hoverinfo\":\"skip\",\"x\":[67.0,68.0,null,67.0,67.0,null,68.0,68.0,null]},{\"showlegend\":false,\"mode\":\"lines\",\"line\":{\"color\":\"gray\"},\"y\":[0.8738513588905334,0.8738513588905334,null,0.8738513588905334,0.40723323822021484,null,0.8738513588905334,0.0,null],\"type\":\"scatter\",\"hoverinfo\":\"skip\",\"x\":[38.25,40.0,null,38.25,38.25,null,40.0,40.0,null]},{\"showlegend\":false,\"mode\":\"lines\",\"line\":{\"color\":\"gray\"},\"y\":[0.42010676860809326,0.42010676860809326,null,0.42010676860809326,0.2514660358428955,null,0.42010676860809326,0.0,null],\"type\":\"scatter\",\"hoverinfo\":\"skip\",\"x\":[63.5,66.0,null,63.5,63.5,null,66.0,66.0,null]},{\"showlegend\":false,\"mode\":\"lines\",\"line\":{\"color\":\"gray\"},\"y\":[0.726937472820282,0.726937472820282,null,0.726937472820282,0.5136206746101379,null,0.726937472820282,0.0,null],\"type\":\"scatter\",\"hoverinfo\":\"skip\",\"x\":[56.5,58.0,null,56.5,56.5,null,58.0,58.0,null]},{\"showlegend\":false,\"mode\":\"lines\",\"line\":{\"color\":\"gray\"},\"y\":[0.5873085260391235,0.5873085260391235,null,0.5873085260391235,0.5338645577430725,null,0.5873085260391235,0.0,null],\"type\":\"scatter\",\"hoverinfo\":\"skip\",\"x\":[51.5,53.0,null,51.5,51.5,null,53.0,53.0,null]},{\"showlegend\":false,\"mode\":\"lines\",\"line\":{\"color\":\"gray\"},\"y\":[0.9955407977104187,0.9955407977104187,null,0.9955407977104187,0.8232181072235107,null,0.9955407977104187,0.9816662073135376,null],\"type\":\"scatter\",\"hoverinfo\":\"skip\",\"x\":[58.125,62.625,null,58.125,58.125,null,62.625,62.625,null]},{\"showlegend\":false,\"mode\":\"lines\",\"line\":{\"color\":\"gray\"},\"y\":[0.3025515377521515,0.3025515377521515,null,0.3025515377521515,0.0021459227427840233,null,0.3025515377521515,0.0,null],\"type\":\"scatter\",\"hoverinfo\":\"skip\",\"x\":[46.5,48.0,null,46.5,46.5,null,48.0,48.0,null]},{\"showlegend\":false,\"mode\":\"lines\",\"line\":{\"color\":\"gray\"},\"y\":[0.9965395927429199,0.9965395927429199,null,0.9965395927429199,0.39860501885414124,null,0.9965395927429199,0.9955407977104187,null],\"type\":\"scatter\",\"hoverinfo\":\"skip\",\"x\":[54.5,60.375,null,54.5,54.5,null,60.375,60.375,null]},{\"showlegend\":false,\"mode\":\"lines\",\"line\":{\"color\":\"gray\"},\"y\":[0.996930718421936,0.996930718421936,null,0.996930718421936,0.5873085260391235,null,0.996930718421936,0.9965395927429199,null],\"type\":\"scatter\",\"hoverinfo\":\"skip\",\"x\":[52.25,57.4375,null,52.25,52.25,null,57.4375,57.4375,null]},{\"showlegend\":false,\"mode\":\"lines\",\"line\":{\"color\":\"gray\"},\"y\":[0.990268886089325,0.990268886089325,null,0.990268886089325,0.9680444598197937,null,0.990268886089325,0.0,null],\"type\":\"scatter\",\"hoverinfo\":\"skip\",\"x\":[36.78125,41.0,null,36.78125,36.78125,null,41.0,41.0,null]},{\"showlegend\":false,\"mode\":\"lines\",\"line\":{\"color\":\"gray\"},\"y\":[0.5338645577430725,0.5338645577430725,null,0.5338645577430725,0.0,null,0.5338645577430725,0.0,null],\"type\":\"scatter\",\"hoverinfo\":\"skip\",\"x\":[51.0,52.0,null,51.0,51.0,null,52.0,52.0,null]},{\"showlegend\":false,\"mode\":\"lines\",\"line\":{\"color\":\"gray\"},\"y\":[0.045276038348674774,0.045276038348674774,null,0.045276038348674774,0.014471392147243023,null,0.045276038348674774,0.0,null],\"type\":\"scatter\",\"hoverinfo\":\"skip\",\"x\":[14.5,16.0,null,14.5,14.5,null,16.0,16.0,null]},{\"showlegend\":false,\"mode\":\"lines\",\"line\":{\"color\":\"gray\"},\"y\":[0.6697421669960022,0.6697421669960022,null,0.6697421669960022,0.4398430585861206,null,0.6697421669960022,0.0,null],\"type\":\"scatter\",\"hoverinfo\":\"skip\",\"x\":[6.25,8.0,null,6.25,6.25,null,8.0,8.0,null]},{\"showlegend\":false,\"mode\":\"lines\",\"line\":{\"color\":\"gray\"},\"y\":[0.9971703290939331,0.9971703290939331,null,0.9971703290939331,0.995292067527771,null,0.9971703290939331,0.9967931509017944,null],\"type\":\"scatter\",\"hoverinfo\":\"skip\",\"x\":[12.3515625,29.75390625,null,12.3515625,12.3515625,null,29.75390625,29.75390625,null]},{\"showlegend\":false,\"mode\":\"lines\",\"line\":{\"color\":\"gray\"},\"y\":[0.004472782835364342,0.004472782835364342,null,0.004472782835364342,0.0,null,0.004472782835364342,0.0,null],\"type\":\"scatter\",\"hoverinfo\":\"skip\",\"x\":[37.0,38.0,null,37.0,37.0,null,38.0,38.0,null]},{\"showlegend\":false,\"mode\":\"lines\",\"line\":{\"color\":\"gray\"},\"y\":[0.998504102230072,0.998504102230072,null,0.998504102230072,0.9971560835838318,null,0.998504102230072,0.9982056617736816,null],\"type\":\"scatter\",\"hoverinfo\":\"skip\",\"x\":[50.0859375,68.5,null,50.0859375,50.0859375,null,68.5,68.5,null]},{\"showlegend\":false,\"mode\":\"lines\",\"line\":{\"color\":\"gray\"},\"y\":[0.235430508852005,0.235430508852005,null,0.235430508852005,0.0,null,0.235430508852005,0.0,null],\"type\":\"scatter\",\"hoverinfo\":\"skip\",\"x\":[60.0,61.0,null,60.0,60.0,null,61.0,61.0,null]},{\"showlegend\":false,\"mode\":\"lines\",\"line\":{\"color\":\"gray\"},\"y\":[0.5136206746101379,0.5136206746101379,null,0.5136206746101379,0.0,null,0.5136206746101379,0.0,null],\"type\":\"scatter\",\"hoverinfo\":\"skip\",\"x\":[56.0,57.0,null,56.0,56.0,null,57.0,57.0,null]},{\"showlegend\":false,\"mode\":\"lines\",\"line\":{\"color\":\"gray\"},\"y\":[0.9907206296920776,0.9907206296920776,null,0.9907206296920776,0.934910774230957,null,0.9907206296920776,0.9874668121337891,null],\"type\":\"scatter\",\"hoverinfo\":\"skip\",\"x\":[18.5,21.875,null,18.5,18.5,null,21.875,21.875,null]},{\"showlegend\":false,\"mode\":\"lines\",\"line\":{\"color\":\"gray\"},\"y\":[0.3153366148471832,0.3153366148471832,null,0.3153366148471832,0.3025515377521515,null,0.3153366148471832,0.0,null],\"type\":\"scatter\",\"hoverinfo\":\"skip\",\"x\":[47.25,49.0,null,47.25,47.25,null,49.0,49.0,null]},{\"showlegend\":false,\"mode\":\"lines\",\"line\":{\"color\":\"gray\"},\"y\":[0.05057865381240845,0.05057865381240845,null,0.05057865381240845,0.0,null,0.05057865381240845,0.0,null],\"type\":\"scatter\",\"hoverinfo\":\"skip\",\"x\":[33.0,34.0,null,33.0,33.0,null,34.0,34.0,null]},{\"showlegend\":false,\"mode\":\"lines\",\"line\":{\"color\":\"gray\"},\"y\":[0.4256359934806824,0.4256359934806824,null,0.4256359934806824,0.0,null,0.4256359934806824,0.0,null],\"type\":\"scatter\",\"hoverinfo\":\"skip\",\"x\":[5.0,6.0,null,5.0,5.0,null,6.0,6.0,null]},{\"showlegend\":false,\"mode\":\"lines\",\"line\":{\"color\":\"gray\"},\"y\":[0.9680444598197937,0.9680444598197937,null,0.9680444598197937,0.6244302988052368,null,0.9680444598197937,0.8738513588905334,null],\"type\":\"scatter\",\"hoverinfo\":\"skip\",\"x\":[34.4375,39.125,null,34.4375,34.4375,null,39.125,39.125,null]},{\"showlegend\":false,\"mode\":\"lines\",\"line\":{\"color\":\"gray\"},\"y\":[0.4398430585861206,0.4398430585861206,null,0.4398430585861206,0.4256359934806824,null,0.4398430585861206,0.0,null],\"type\":\"scatter\",\"hoverinfo\":\"skip\",\"x\":[5.5,7.0,null,5.5,5.5,null,7.0,7.0,null]},{\"showlegend\":false,\"mode\":\"lines\",\"line\":{\"color\":\"gray\"},\"y\":[0.9979547262191772,0.9979547262191772,null,0.9979547262191772,0.6697421669960022,null,0.9979547262191772,0.9971703290939331,null],\"type\":\"scatter\",\"hoverinfo\":\"skip\",\"x\":[7.125,21.052734375,null,7.125,7.125,null,21.052734375,21.052734375,null]},{\"showlegend\":false,\"mode\":\"markers\",\"marker\":{\"color\":\"gray\"},\"y\":[0.9916363954544067,0.9716590046882629,0.934910774230957,0.9816662073135376,0.9982056617736816,0.014471392147243023,0.9778701663017273,0.9639829993247986,0.3452591598033905,0.9995874166488647,0.26297613978385925,0.6244302988052368,0.39860501885414124,0.991387665271759,0.02585447020828724,0.9520471096038818,0.40723323822021484,0.4591154456138611,0.10177281498908997,0.25340378284454346,0.9852635264396667,0.9930856823921204,0.9874668121337891,0.9967931509017944,0.2514660358428955,0.03593067452311516,0.4249081015586853,0.9934521913528442,0.8232181072235107,0.0021459227427840233,0.5875521898269653,0.03323237597942352,0.4191717803478241,0.9923674464225769,0.2947348356246948,0.995292067527771,0.9788056015968323,0.5317713618278503,0.9971560835838318,0.04964734986424446,0.0889119952917099,0.9981513023376465,0.015783440321683884,0.9991055130958557,0.7071014642715454,0.8738513588905334,0.42010676860809326,0.726937472820282,0.5873085260391235,0.9955407977104187,0.3025515377521515,0.9965395927429199,0.996930718421936,0.990268886089325,0.5338645577430725,0.045276038348674774,0.6697421669960022,0.9971703290939331,0.004472782835364342,0.998504102230072,0.235430508852005,0.5136206746101379,0.9907206296920776,0.3153366148471832,0.05057865381240845,0.4256359934806824,0.9680444598197937,0.4398430585861206,0.9979547262191772],\"type\":\"scatter\",\"text\":[\"Bacteria\",\"Mycobacterium\",\"Xanthomonas\",\"Staphylococcus\",\"Proteobacteria\",\"Mycobacterium tuberculosis\",\"Streptococcus\",\"Yersinia\",\"pseudomallei group\",\"Bacteria\",\"Bordetella\",\"Enterobacteriaceae\",\"Clostridium perfringens\",\"Streptococcus\",\"Yersinia pestis\",\"Rickettsia\",\"Salmonella enterica subsp. enterica\",\"Enterobacteriaceae\",\"Tropheryma whipplei\",\"Streptococcus pneumoniae\",\"Pseudomonas\",\"Bacteria\",\"Burkholderiales\",\"Gammaproteobacteria\",\"Staphylococcus aureus\",\"Staphylococcus aureus\",\"Bordetella\",\"Streptococcus\",\"Bacillus cereus group\",\"Streptococcus pyogenes serotype M3\",\"Xylella fastidiosa\",\"Yersinia pestis\",\"Vibrio vulnificus\",\"Enterobacterales\",\"Streptococcus agalactiae\",\"Bacteria\",\"Pseudomonas\",\"Enterobacteriaceae\",\"Bacteria\",\"Staphylococcus aureus\",\"Brucella\",\"Bacteria\",\"Escherichia coli O157:H7\",\"Bacteria\",\"Helicobacter pylori\",\"Salmonella\",\"Staphylococcus aureus\",\"Bacillus cereus group\",\"Legionella pneumophila\",\"Bacillales\",\"Streptococcus pyogenes\",\"Firmicutes\",\"Bacteria\",\"Enterobacterales\",\"Legionella pneumophila\",\"Mycobacterium tuberculosis\",\"Neisseria\",\"Bacteria\",\"Salmonella enterica subsp. enterica serovar Typhi\",\"Bacteria\",\"Staphylococcus epidermidis\",\"Bacillus cereus group\",\"Proteobacteria\",\"Streptococcus pyogenes\",\"Shigella flexneri 2a\",\"Neisseria meningitidis\",\"Enterobacteriaceae\",\"Neisseria meningitidis\",\"Bacteria\"],\"hovertemplate\":\"%{text}<br>%{y}<extra></extra>\",\"x\":[18.15625,16.125,18.5,62.625,68.5,14.5,46.3125,29.125,20.5,17.7718505859375,22.5,34.4375,54.5,48.15625,27.5,69.5,38.25,34.25,1.5,42.5,12.25,15.203125,21.875,29.75390625,63.5,62.5,23.25,45.328125,58.125,46.5,3.5,28.25,25.5,34.0078125,44.5,12.3515625,11.5,32.875,50.0859375,64.5,9.5,8.79443359375,31.5,34.043701171875,67.5,39.125,64.75,57.25,52.25,60.375,47.25,57.4375,54.84375,38.890625,51.5,15.25,7.125,21.052734375,37.5,59.29296875,60.5,56.5,20.1875,48.125,33.5,5.5,36.78125,6.25,14.0888671875]}],{\"hovermode\":\"closest\",\"margin\":{\"l\":50,\"b\":50,\"r\":50,\"t\":60}},{}); gd.on(\"plotly_hover\",(function (data){var filtered_data=WebIO.PlotlyCommands.filterEventData(gd,data,\"hover\"); return !(filtered_data.isnil) ? (WebIO.setval({\"name\":\"hover\",\"scope\":\"14531529895801320264\",\"id\":\"3324506087582277645\",\"type\":\"observable\"},filtered_data.out)) : undefined})); gd.on(\"plotly_unhover\",(function (){return WebIO.setval({\"name\":\"hover\",\"scope\":\"14531529895801320264\",\"id\":\"3324506087582277645\",\"type\":\"observable\"},{})})); gd.on(\"plotly_selected\",(function (data){var filtered_data=WebIO.PlotlyCommands.filterEventData(gd,data,\"selected\"); return !(filtered_data.isnil) ? (WebIO.setval({\"name\":\"selected\",\"scope\":\"14531529895801320264\",\"id\":\"13159083120192782544\",\"type\":\"observable\"},filtered_data.out)) : undefined})); gd.on(\"plotly_deselect\",(function (){return WebIO.setval({\"name\":\"selected\",\"scope\":\"14531529895801320264\",\"id\":\"13159083120192782544\",\"type\":\"observable\"},{})})); gd.on(\"plotly_relayout\",(function (data){var filtered_data=WebIO.PlotlyCommands.filterEventData(gd,data,\"relayout\"); return !(filtered_data.isnil) ? (WebIO.setval({\"name\":\"relayout\",\"scope\":\"14531529895801320264\",\"id\":\"1495825614013241554\",\"type\":\"observable\"},filtered_data.out)) : undefined})); return gd.on(\"plotly_click\",(function (data){var filtered_data=WebIO.PlotlyCommands.filterEventData(gd,data,\"click\"); return !(filtered_data.isnil) ? (WebIO.setval({\"name\":\"click\",\"scope\":\"14531529895801320264\",\"id\":\"64848557357517124\",\"type\":\"observable\"},filtered_data.out)) : undefined}))}));\n    (WebIO.importBlock({\"data\":[{\"name\":\"Plotly\",\"type\":\"js\",\"url\":\"/assetserver/2178a8d06f9a8c65d859d06b4046edd396027e54-plotly.min.js\"},{\"name\":null,\"type\":\"js\",\"url\":\"/assetserver/bfdea5073d48cb1c02a6ebf79fdeb36320854e28-plotly_webio.bundle.js\"}],\"type\":\"async_block\"})).then((imports) => handler.apply(this, imports));\n}\n"
        ],
        "observables": {
         "__gd_contents": {
          "id": "16873684992738385581",
          "sync": false,
          "value": {}
         },
         "__get_gd_contents": {
          "id": "2022153296374682932",
          "sync": false,
          "value": ""
         },
         "_commands": {
          "id": "15083392707098449331",
          "sync": false,
          "value": []
         },
         "_downloadImage": {
          "id": "2608047813620095947",
          "sync": false,
          "value": {}
         },
         "_toImage": {
          "id": "9591132244611775367",
          "sync": false,
          "value": {}
         },
         "click": {
          "id": "64848557357517124",
          "sync": false,
          "value": {}
         },
         "hover": {
          "id": "3324506087582277645",
          "sync": false,
          "value": {}
         },
         "image": {
          "id": "10081136364184332108",
          "sync": true,
          "value": ""
         },
         "relayout": {
          "id": "1495825614013241554",
          "sync": false,
          "value": {}
         },
         "selected": {
          "id": "13159083120192782544",
          "sync": false,
          "value": {}
         }
        },
        "systemjs_options": null
       },
       "nodeType": "Scope",
       "props": {},
       "type": "node"
      },
      "image/png": "[encoded data removed]",
      "image/svg+xml": [
       "<svg class=\"main-svg\" xmlns=\"http://www.w3.org/2000/svg\" xmlns:xlink=\"http://www.w3.org/1999/xlink\" width=\"700\" height=\"500\" style=\"\" viewBox=\"0 0 700 500\"><rect x=\"0\" y=\"0\" width=\"700\" height=\"500\" style=\"fill: rgb(255, 255, 255); fill-opacity: 1;\"/><defs id=\"defs-cb1ea6\"><g class=\"clips\"><clipPath id=\"clipcb1ea6xyplot\" class=\"plotclip\"><rect width=\"600\" height=\"390\"/></clipPath><clipPath class=\"axesclip\" id=\"clipcb1ea6x\"><rect x=\"50\" y=\"0\" width=\"600\" height=\"500\"/></clipPath><clipPath class=\"axesclip\" id=\"clipcb1ea6y\"><rect x=\"0\" y=\"60\" width=\"700\" height=\"390\"/></clipPath><clipPath class=\"axesclip\" id=\"clipcb1ea6xy\"><rect x=\"50\" y=\"60\" width=\"600\" height=\"390\"/></clipPath></g><g class=\"gradients\"/></defs><g class=\"bglayer\"/><g class=\"layer-below\"><g class=\"imagelayer\"/><g class=\"shapelayer\"/></g><g class=\"cartesianlayer\"><g class=\"subplot xy\"><g class=\"layer-subplot\"><g class=\"shapelayer\"/><g class=\"imagelayer\"/></g><g class=\"gridlayer\"><g class=\"x\"><path class=\"xgrid crisp\" transform=\"translate(150.31,0)\" d=\"M0,60v390\" style=\"stroke: rgb(238, 238, 238); stroke-opacity: 1; stroke-width: 1px;\"/><path class=\"xgrid crisp\" transform=\"translate(228.62,0)\" d=\"M0,60v390\" style=\"stroke: rgb(238, 238, 238); stroke-opacity: 1; stroke-width: 1px;\"/><path class=\"xgrid crisp\" transform=\"translate(306.93,0)\" d=\"M0,60v390\" style=\"stroke: rgb(238, 238, 238); stroke-opacity: 1; stroke-width: 1px;\"/><path class=\"xgrid crisp\" transform=\"translate(385.24,0)\" d=\"M0,60v390\" style=\"stroke: rgb(238, 238, 238); stroke-opacity: 1; stroke-width: 1px;\"/><path class=\"xgrid crisp\" transform=\"translate(463.55,0)\" d=\"M0,60v390\" style=\"stroke: rgb(238, 238, 238); stroke-opacity: 1; stroke-width: 1px;\"/><path class=\"xgrid crisp\" transform=\"translate(541.86,0)\" d=\"M0,60v390\" style=\"stroke: rgb(238, 238, 238); stroke-opacity: 1; stroke-width: 1px;\"/><path class=\"xgrid crisp\" transform=\"translate(620.17,0)\" d=\"M0,60v390\" style=\"stroke: rgb(238, 238, 238); stroke-opacity: 1; stroke-width: 1px;\"/></g><g class=\"y\"><path class=\"ygrid crisp\" transform=\"translate(0,358.61)\" d=\"M50,0h600\" style=\"stroke: rgb(238, 238, 238); stroke-opacity: 1; stroke-width: 1px;\"/><path class=\"ygrid crisp\" transform=\"translate(0,289.74)\" d=\"M50,0h600\" style=\"stroke: rgb(238, 238, 238); stroke-opacity: 1; stroke-width: 1px;\"/><path class=\"ygrid crisp\" transform=\"translate(0,220.86)\" d=\"M50,0h600\" style=\"stroke: rgb(238, 238, 238); stroke-opacity: 1; stroke-width: 1px;\"/><path class=\"ygrid crisp\" transform=\"translate(0,151.98000000000002)\" d=\"M50,0h600\" style=\"stroke: rgb(238, 238, 238); stroke-opacity: 1; stroke-width: 1px;\"/><path class=\"ygrid crisp\" transform=\"translate(0,83.11)\" d=\"M50,0h600\" style=\"stroke: rgb(238, 238, 238); stroke-opacity: 1; stroke-width: 1px;\"/></g></g><g class=\"zerolinelayer\"><path class=\"xzl zl crisp\" transform=\"translate(72,0)\" d=\"M0,60v390\" style=\"stroke: rgb(68, 68, 68); stroke-opacity: 1; stroke-width: 1px;\"/><path class=\"yzl zl crisp\" transform=\"translate(0,427.49)\" d=\"M50,0h600\" style=\"stroke: rgb(68, 68, 68); stroke-opacity: 1; stroke-width: 1px;\"/></g><path class=\"xlines-below\"/><path class=\"ylines-below\"/><g class=\"overlines-below\"/><g class=\"xaxislayer-below\"/><g class=\"yaxislayer-below\"/><g class=\"overaxes-below\"/><g class=\"plot\" transform=\"translate(50,60)\" clip-path=\"url('#clipcb1ea6xyplot')\"><g class=\"scatterlayer mlayer\"><g class=\"trace scatter tracea220e3\" style=\"stroke-miterlimit: 2; opacity: 1;\"><g class=\"fills\"/><g class=\"errorbars\"/><g class=\"lines\"><path class=\"js-line\" d=\"M148.28,25.99L180.09,25.99\" style=\"vector-effect: non-scaling-stroke; fill: none; stroke: rgb(128, 128, 128); stroke-opacity: 1; stroke-width: 2px; opacity: 1;\"/><path class=\"js-line\" d=\"M148.28,25.99L148.28,32.87\" style=\"vector-effect: non-scaling-stroke; fill: none; stroke: rgb(128, 128, 128); stroke-opacity: 1; stroke-width: 2px; opacity: 1;\"/><path class=\"js-line\" d=\"M180.09,25.99L180.09,26.3\" style=\"vector-effect: non-scaling-stroke; fill: none; stroke: rgb(128, 128, 128); stroke-opacity: 1; stroke-width: 2px; opacity: 1;\"/></g><g class=\"points\"/><g class=\"text\"/></g><g class=\"trace scatter tracef271c5\" style=\"stroke-miterlimit: 2; opacity: 1;\"><g class=\"fills\"/><g class=\"errorbars\"/><g class=\"lines\"><path class=\"js-line\" d=\"M141.42,32.87L155.13,32.87\" style=\"vector-effect: non-scaling-stroke; fill: none; stroke: rgb(128, 128, 128); stroke-opacity: 1; stroke-width: 2px; opacity: 1;\"/><path class=\"js-line\" d=\"M141.42,32.87L141.42,351.9\" style=\"vector-effect: non-scaling-stroke; fill: none; stroke: rgb(128, 128, 128); stroke-opacity: 1; stroke-width: 2px; opacity: 1;\"/><path class=\"js-line\" d=\"M155.13,32.87L155.13,367.49\" style=\"vector-effect: non-scaling-stroke; fill: none; stroke: rgb(128, 128, 128); stroke-opacity: 1; stroke-width: 2px; opacity: 1;\"/></g><g class=\"points\"/><g class=\"text\"/></g><g class=\"trace scatter traceebe0ba\" style=\"stroke-miterlimit: 2; opacity: 1;\"><g class=\"fills\"/><g class=\"errorbars\"/><g class=\"lines\"><path class=\"js-line\" d=\"M162.96,45.52L170.79,45.52\" style=\"vector-effect: non-scaling-stroke; fill: none; stroke: rgb(128, 128, 128); stroke-opacity: 1; stroke-width: 2px; opacity: 1;\"/><path class=\"js-line\" d=\"M162.96,45.52L162.96,367.49\" style=\"vector-effect: non-scaling-stroke; fill: none; stroke: rgb(128, 128, 128); stroke-opacity: 1; stroke-width: 2px; opacity: 1;\"/><path class=\"js-line\" d=\"M170.79,45.52L170.79,367.49\" style=\"vector-effect: non-scaling-stroke; fill: none; stroke: rgb(128, 128, 128); stroke-opacity: 1; stroke-width: 2px; opacity: 1;\"/></g><g class=\"points\"/><g class=\"text\"/></g><g class=\"trace scatter trace8f426d\" style=\"stroke-miterlimit: 2; opacity: 1;\"><g class=\"fills\"/><g class=\"errorbars\"/><g class=\"lines\"><path class=\"js-line\" d=\"M550.59,23.73L566.25,23.73\" style=\"vector-effect: non-scaling-stroke; fill: none; stroke: rgb(128, 128, 128); stroke-opacity: 1; stroke-width: 2px; opacity: 1;\"/><path class=\"js-line\" d=\"M550.59,23.73L550.59,123.98\" style=\"vector-effect: non-scaling-stroke; fill: none; stroke: rgb(128, 128, 128); stroke-opacity: 1; stroke-width: 2px; opacity: 1;\"/><path class=\"js-line\" d=\"M566.25,23.73L566.25,39.62\" style=\"vector-effect: non-scaling-stroke; fill: none; stroke: rgb(128, 128, 128); stroke-opacity: 1; stroke-width: 2px; opacity: 1;\"/></g><g class=\"points\"/><g class=\"text\"/></g><g class=\"trace scatter trace64565e\" style=\"stroke-miterlimit: 2; opacity: 1;\"><g class=\"fills\"/><g class=\"errorbars\"/><g class=\"lines\"><path class=\"js-line\" d=\"M495.77,29.42L529.05,29.42\" style=\"vector-effect: non-scaling-stroke; fill: none; stroke: rgb(128, 128, 128); stroke-opacity: 1; stroke-width: 2px; opacity: 1;\"/><path class=\"js-line\" d=\"M495.77,29.42L495.77,286.41\" style=\"vector-effect: non-scaling-stroke; fill: none; stroke: rgb(128, 128, 128); stroke-opacity: 1; stroke-width: 2px; opacity: 1;\"/><path class=\"js-line\" d=\"M529.05,29.42L529.05,222.81\" style=\"vector-effect: non-scaling-stroke; fill: none; stroke: rgb(128, 128, 128); stroke-opacity: 1; stroke-width: 2px; opacity: 1;\"/></g><g class=\"points\"/><g class=\"text\"/></g><g class=\"trace scatter trace0b183c\" style=\"stroke-miterlimit: 2; opacity: 1;\"><g class=\"fills\"/><g class=\"errorbars\"/><g class=\"lines\"><path class=\"js-line\" d=\"M131.64,362.51L139.47,362.51\" style=\"vector-effect: non-scaling-stroke; fill: none; stroke: rgb(128, 128, 128); stroke-opacity: 1; stroke-width: 2px; opacity: 1;\"/><path class=\"js-line\" d=\"M131.64,362.51L131.64,367.49\" style=\"vector-effect: non-scaling-stroke; fill: none; stroke: rgb(128, 128, 128); stroke-opacity: 1; stroke-width: 2px; opacity: 1;\"/><path class=\"js-line\" d=\"M139.47,362.51L139.47,367.49\" style=\"vector-effect: non-scaling-stroke; fill: none; stroke: rgb(128, 128, 128); stroke-opacity: 1; stroke-width: 2px; opacity: 1;\"/></g><g class=\"points\"/><g class=\"text\"/></g><g class=\"trace scatter traceb253e4\" style=\"stroke-miterlimit: 2; opacity: 1;\"><g class=\"fills\"/><g class=\"errorbars\"/><g class=\"lines\"><path class=\"js-line\" d=\"M370.48,30.73L398.86,30.73\" style=\"vector-effect: non-scaling-stroke; fill: none; stroke: rgb(128, 128, 128); stroke-opacity: 1; stroke-width: 2px; opacity: 1;\"/><path class=\"js-line\" d=\"M370.48,30.73L370.48,265.99\" style=\"vector-effect: non-scaling-stroke; fill: none; stroke: rgb(128, 128, 128); stroke-opacity: 1; stroke-width: 2px; opacity: 1;\"/><path class=\"js-line\" d=\"M398.86,30.73L398.86,258.89\" style=\"vector-effect: non-scaling-stroke; fill: none; stroke: rgb(128, 128, 128); stroke-opacity: 1; stroke-width: 2px; opacity: 1;\"/></g><g class=\"points\"/><g class=\"text\"/></g><g class=\"trace scatter trace171b99\" style=\"stroke-miterlimit: 2; opacity: 1;\"><g class=\"fills\"/><g class=\"errorbars\"/><g class=\"lines\"><path class=\"js-line\" d=\"M243.23,35.51L256.93,35.51\" style=\"vector-effect: non-scaling-stroke; fill: none; stroke: rgb(128, 128, 128); stroke-opacity: 1; stroke-width: 2px; opacity: 1;\"/><path class=\"js-line\" d=\"M243.23,35.51L243.23,356.04\" style=\"vector-effect: non-scaling-stroke; fill: none; stroke: rgb(128, 128, 128); stroke-opacity: 1; stroke-width: 2px; opacity: 1;\"/><path class=\"js-line\" d=\"M256.93,35.51L256.93,367.49\" style=\"vector-effect: non-scaling-stroke; fill: none; stroke: rgb(128, 128, 128); stroke-opacity: 1; stroke-width: 2px; opacity: 1;\"/></g><g class=\"points\"/><g class=\"text\"/></g><g class=\"trace scatter trace543ecc\" style=\"stroke-miterlimit: 2; opacity: 1;\"><g class=\"fills\"/><g class=\"errorbars\"/><g class=\"lines\"><path class=\"js-line\" d=\"M178.62,248.59L186.45,248.59\" style=\"vector-effect: non-scaling-stroke; fill: none; stroke: rgb(128, 128, 128); stroke-opacity: 1; stroke-width: 2px; opacity: 1;\"/><path class=\"js-line\" d=\"M178.62,248.59L178.62,367.49\" style=\"vector-effect: non-scaling-stroke; fill: none; stroke: rgb(128, 128, 128); stroke-opacity: 1; stroke-width: 2px; opacity: 1;\"/><path class=\"js-line\" d=\"M186.45,248.59L186.45,367.49\" style=\"vector-effect: non-scaling-stroke; fill: none; stroke: rgb(128, 128, 128); stroke-opacity: 1; stroke-width: 2px; opacity: 1;\"/></g><g class=\"points\"/><g class=\"text\"/></g><g class=\"trace scatter tracee73cba\" style=\"stroke-miterlimit: 2; opacity: 1;\"><g class=\"fills\"/><g class=\"errorbars\"/><g class=\"lines\"><path class=\"js-line\" d=\"M33.75,23.25L288.6,23.25\" style=\"vector-effect: non-scaling-stroke; fill: none; stroke: rgb(128, 128, 128); stroke-opacity: 1; stroke-width: 2px; opacity: 1;\"/><path class=\"js-line\" d=\"M33.75,23.25L33.75,332.44\" style=\"vector-effect: non-scaling-stroke; fill: none; stroke: rgb(128, 128, 128); stroke-opacity: 1; stroke-width: 2px; opacity: 1;\"/><path class=\"js-line\" d=\"M288.6,23.25L288.6,23.42\" style=\"vector-effect: non-scaling-stroke; fill: none; stroke: rgb(128, 128, 128); stroke-opacity: 1; stroke-width: 2px; opacity: 1;\"/></g><g class=\"points\"/><g class=\"text\"/></g><g class=\"trace scatter traceaa6be4\" style=\"stroke-miterlimit: 2; opacity: 1;\"><g class=\"fills\"/><g class=\"errorbars\"/><g class=\"lines\"><path class=\"js-line\" d=\"M194.28,276.93L202.11,276.93\" style=\"vector-effect: non-scaling-stroke; fill: none; stroke: rgb(128, 128, 128); stroke-opacity: 1; stroke-width: 2px; opacity: 1;\"/><path class=\"js-line\" d=\"M194.28,276.93L194.28,367.49\" style=\"vector-effect: non-scaling-stroke; fill: none; stroke: rgb(128, 128, 128); stroke-opacity: 1; stroke-width: 2px; opacity: 1;\"/><path class=\"js-line\" d=\"M202.11,276.93L202.11,367.49\" style=\"vector-effect: non-scaling-stroke; fill: none; stroke: rgb(128, 128, 128); stroke-opacity: 1; stroke-width: 2px; opacity: 1;\"/></g><g class=\"points\"/><g class=\"text\"/></g><g class=\"trace scatter tracee010bd\" style=\"stroke-miterlimit: 2; opacity: 1;\"><g class=\"fills\"/><g class=\"errorbars\"/><g class=\"lines\"><path class=\"js-line\" d=\"M279.44,152.45L303.92,152.45\" style=\"vector-effect: non-scaling-stroke; fill: none; stroke: rgb(128, 128, 128); stroke-opacity: 1; stroke-width: 2px; opacity: 1;\"/><path class=\"js-line\" d=\"M279.44,152.45L279.44,184.36\" style=\"vector-effect: non-scaling-stroke; fill: none; stroke: rgb(128, 128, 128); stroke-opacity: 1; stroke-width: 2px; opacity: 1;\"/><path class=\"js-line\" d=\"M303.92,152.45L303.92,367.49\" style=\"vector-effect: non-scaling-stroke; fill: none; stroke: rgb(128, 128, 128); stroke-opacity: 1; stroke-width: 2px; opacity: 1;\"/></g><g class=\"points\"/><g class=\"text\"/></g><g class=\"trace scatter tracec2e8a3\" style=\"stroke-miterlimit: 2; opacity: 1;\"><g class=\"fills\"/><g class=\"errorbars\"/><g class=\"lines\"><path class=\"js-line\" d=\"M444.87,230.22L452.7,230.22\" style=\"vector-effect: non-scaling-stroke; fill: none; stroke: rgb(128, 128, 128); stroke-opacity: 1; stroke-width: 2px; opacity: 1;\"/><path class=\"js-line\" d=\"M444.87,230.22L444.87,367.49\" style=\"vector-effect: non-scaling-stroke; fill: none; stroke: rgb(128, 128, 128); stroke-opacity: 1; stroke-width: 2px; opacity: 1;\"/><path class=\"js-line\" d=\"M452.7,230.22L452.7,367.49\" style=\"vector-effect: non-scaling-stroke; fill: none; stroke: rgb(128, 128, 128); stroke-opacity: 1; stroke-width: 2px; opacity: 1;\"/></g><g class=\"points\"/><g class=\"text\"/></g><g class=\"trace scatter trace609585\" style=\"stroke-miterlimit: 2; opacity: 1;\"><g class=\"fills\"/><g class=\"errorbars\"/><g class=\"lines\"><path class=\"js-line\" d=\"M384.67,26.07L413.55,26.07\" style=\"vector-effect: non-scaling-stroke; fill: none; stroke: rgb(128, 128, 128); stroke-opacity: 1; stroke-width: 2px; opacity: 1;\"/><path class=\"js-line\" d=\"M384.67,26.07L384.67,30.73\" style=\"vector-effect: non-scaling-stroke; fill: none; stroke: rgb(128, 128, 128); stroke-opacity: 1; stroke-width: 2px; opacity: 1;\"/><path class=\"js-line\" d=\"M413.55,26.07L413.55,367.49\" style=\"vector-effect: non-scaling-stroke; fill: none; stroke: rgb(128, 128, 128); stroke-opacity: 1; stroke-width: 2px; opacity: 1;\"/></g><g class=\"points\"/><g class=\"text\"/></g><g class=\"trace scatter tracef2595e\" style=\"stroke-miterlimit: 2; opacity: 1;\"><g class=\"fills\"/><g class=\"errorbars\"/><g class=\"lines\"><path class=\"js-line\" d=\"M233.44,358.59L241.27,358.59\" style=\"vector-effect: non-scaling-stroke; fill: none; stroke: rgb(128, 128, 128); stroke-opacity: 1; stroke-width: 2px; opacity: 1;\"/><path class=\"js-line\" d=\"M233.44,358.59L233.44,367.49\" style=\"vector-effect: non-scaling-stroke; fill: none; stroke: rgb(128, 128, 128); stroke-opacity: 1; stroke-width: 2px; opacity: 1;\"/><path class=\"js-line\" d=\"M241.27,358.59L241.27,367.49\" style=\"vector-effect: non-scaling-stroke; fill: none; stroke: rgb(128, 128, 128); stroke-opacity: 1; stroke-width: 2px; opacity: 1;\"/></g><g class=\"points\"/><g class=\"text\"/></g><g class=\"trace scatter trace8c506e\" style=\"stroke-miterlimit: 2; opacity: 1;\"><g class=\"fills\"/><g class=\"errorbars\"/><g class=\"lines\"><path class=\"js-line\" d=\"M562.33,39.62L570.17,39.62\" style=\"vector-effect: non-scaling-stroke; fill: none; stroke: rgb(128, 128, 128); stroke-opacity: 1; stroke-width: 2px; opacity: 1;\"/><path class=\"js-line\" d=\"M562.33,39.62L562.33,367.49\" style=\"vector-effect: non-scaling-stroke; fill: none; stroke: rgb(128, 128, 128); stroke-opacity: 1; stroke-width: 2px; opacity: 1;\"/><path class=\"js-line\" d=\"M570.17,39.62L570.17,367.49\" style=\"vector-effect: non-scaling-stroke; fill: none; stroke: rgb(128, 128, 128); stroke-opacity: 1; stroke-width: 2px; opacity: 1;\"/></g><g class=\"points\"/><g class=\"text\"/></g><g class=\"trace scatter trace391cfc\" style=\"stroke-miterlimit: 2; opacity: 1;\"><g class=\"fills\"/><g class=\"errorbars\"/><g class=\"lines\"><path class=\"js-line\" d=\"M315.66,227.25L327.41,227.25\" style=\"vector-effect: non-scaling-stroke; fill: none; stroke: rgb(128, 128, 128); stroke-opacity: 1; stroke-width: 2px; opacity: 1;\"/><path class=\"js-line\" d=\"M315.66,227.25L315.66,365.95\" style=\"vector-effect: non-scaling-stroke; fill: none; stroke: rgb(128, 128, 128); stroke-opacity: 1; stroke-width: 2px; opacity: 1;\"/><path class=\"js-line\" d=\"M327.41,227.25L327.41,367.49\" style=\"vector-effect: non-scaling-stroke; fill: none; stroke: rgb(128, 128, 128); stroke-opacity: 1; stroke-width: 2px; opacity: 1;\"/></g><g class=\"points\"/><g class=\"text\"/></g><g class=\"trace scatter tracea9443d\" style=\"stroke-miterlimit: 2; opacity: 1;\"><g class=\"fills\"/><g class=\"errorbars\"/><g class=\"lines\"><path class=\"js-line\" d=\"M284.34,209.38L296.08,209.38\" style=\"vector-effect: non-scaling-stroke; fill: none; stroke: rgb(128, 128, 128); stroke-opacity: 1; stroke-width: 2px; opacity: 1;\"/><path class=\"js-line\" d=\"M284.34,209.38L284.34,350.07\" style=\"vector-effect: non-scaling-stroke; fill: none; stroke: rgb(128, 128, 128); stroke-opacity: 1; stroke-width: 2px; opacity: 1;\"/><path class=\"js-line\" d=\"M296.08,209.38L296.08,367.49\" style=\"vector-effect: non-scaling-stroke; fill: none; stroke: rgb(128, 128, 128); stroke-opacity: 1; stroke-width: 2px; opacity: 1;\"/></g><g class=\"points\"/><g class=\"text\"/></g><g class=\"trace scatter tracea9eca4\" style=\"stroke-miterlimit: 2; opacity: 1;\"><g class=\"fills\"/><g class=\"errorbars\"/><g class=\"lines\"><path class=\"js-line\" d=\"M29.83,332.44L37.67,332.44\" style=\"vector-effect: non-scaling-stroke; fill: none; stroke: rgb(128, 128, 128); stroke-opacity: 1; stroke-width: 2px; opacity: 1;\"/><path class=\"js-line\" d=\"M29.83,332.44L29.83,367.49\" style=\"vector-effect: non-scaling-stroke; fill: none; stroke: rgb(128, 128, 128); stroke-opacity: 1; stroke-width: 2px; opacity: 1;\"/><path class=\"js-line\" d=\"M37.67,332.44L37.67,367.49\" style=\"vector-effect: non-scaling-stroke; fill: none; stroke: rgb(128, 128, 128); stroke-opacity: 1; stroke-width: 2px; opacity: 1;\"/></g><g class=\"points\"/><g class=\"text\"/></g><g class=\"trace scatter trace43a40b\" style=\"stroke-miterlimit: 2; opacity: 1;\"><g class=\"fills\"/><g class=\"errorbars\"/><g class=\"lines\"><path class=\"js-line\" d=\"M350.9,280.22L358.73,280.22\" style=\"vector-effect: non-scaling-stroke; fill: none; stroke: rgb(128, 128, 128); stroke-opacity: 1; stroke-width: 2px; opacity: 1;\"/><path class=\"js-line\" d=\"M350.9,280.22L350.9,367.49\" style=\"vector-effect: non-scaling-stroke; fill: none; stroke: rgb(128, 128, 128); stroke-opacity: 1; stroke-width: 2px; opacity: 1;\"/><path class=\"js-line\" d=\"M358.73,280.22L358.73,367.49\" style=\"vector-effect: non-scaling-stroke; fill: none; stroke: rgb(128, 128, 128); stroke-opacity: 1; stroke-width: 2px; opacity: 1;\"/></g><g class=\"points\"/><g class=\"text\"/></g><g class=\"trace scatter trace7af7b3\" style=\"stroke-miterlimit: 2; opacity: 1;\"><g class=\"fills\"/><g class=\"errorbars\"/><g class=\"lines\"><path class=\"js-line\" d=\"M112.06,28.18L123.81,28.18\" style=\"vector-effect: non-scaling-stroke; fill: none; stroke: rgb(128, 128, 128); stroke-opacity: 1; stroke-width: 2px; opacity: 1;\"/><path class=\"js-line\" d=\"M112.06,28.18L112.06,30.41\" style=\"vector-effect: non-scaling-stroke; fill: none; stroke: rgb(128, 128, 128); stroke-opacity: 1; stroke-width: 2px; opacity: 1;\"/><path class=\"js-line\" d=\"M123.81,28.18L123.81,367.49\" style=\"vector-effect: non-scaling-stroke; fill: none; stroke: rgb(128, 128, 128); stroke-opacity: 1; stroke-width: 2px; opacity: 1;\"/></g><g class=\"points\"/><g class=\"text\"/></g><g class=\"trace scatter tracef36f30\" style=\"stroke-miterlimit: 2; opacity: 1;\"><g class=\"fills\"/><g class=\"errorbars\"/><g class=\"lines\"><path class=\"js-line\" d=\"M117.93,25.49L164.18,25.49\" style=\"vector-effect: non-scaling-stroke; fill: none; stroke: rgb(128, 128, 128); stroke-opacity: 1; stroke-width: 2px; opacity: 1;\"/><path class=\"js-line\" d=\"M117.93,25.49L117.93,28.18\" style=\"vector-effect: non-scaling-stroke; fill: none; stroke: rgb(128, 128, 128); stroke-opacity: 1; stroke-width: 2px; opacity: 1;\"/><path class=\"js-line\" d=\"M164.18,25.49L164.18,25.99\" style=\"vector-effect: non-scaling-stroke; fill: none; stroke: rgb(128, 128, 128); stroke-opacity: 1; stroke-width: 2px; opacity: 1;\"/></g><g class=\"points\"/><g class=\"text\"/></g><g class=\"trace scatter trace3cec6f\" style=\"stroke-miterlimit: 2; opacity: 1;\"><g class=\"fills\"/><g class=\"errorbars\"/><g class=\"lines\"><path class=\"js-line\" d=\"M182.54,27.42L204.07,27.42\" style=\"vector-effect: non-scaling-stroke; fill: none; stroke: rgb(128, 128, 128); stroke-opacity: 1; stroke-width: 2px; opacity: 1;\"/><path class=\"js-line\" d=\"M182.54,27.42L182.54,248.59\" style=\"vector-effect: non-scaling-stroke; fill: none; stroke: rgb(128, 128, 128); stroke-opacity: 1; stroke-width: 2px; opacity: 1;\"/><path class=\"js-line\" d=\"M204.07,27.42L204.07,221.16\" style=\"vector-effect: non-scaling-stroke; fill: none; stroke: rgb(128, 128, 128); stroke-opacity: 1; stroke-width: 2px; opacity: 1;\"/></g><g class=\"points\"/><g class=\"text\"/></g><g class=\"trace scatter trace2fc8eb\" style=\"stroke-miterlimit: 2; opacity: 1;\"><g class=\"fills\"/><g class=\"errorbars\"/><g class=\"lines\"><path class=\"js-line\" d=\"M221.69,24.21L288.31,24.21\" style=\"vector-effect: non-scaling-stroke; fill: none; stroke: rgb(128, 128, 128); stroke-opacity: 1; stroke-width: 2px; opacity: 1;\"/><path class=\"js-line\" d=\"M221.69,24.21L221.69,223.13\" style=\"vector-effect: non-scaling-stroke; fill: none; stroke: rgb(128, 128, 128); stroke-opacity: 1; stroke-width: 2px; opacity: 1;\"/><path class=\"js-line\" d=\"M288.31,24.21L288.31,25.74\" style=\"vector-effect: non-scaling-stroke; fill: none; stroke: rgb(128, 128, 128); stroke-opacity: 1; stroke-width: 2px; opacity: 1;\"/></g><g class=\"points\"/><g class=\"text\"/></g><g class=\"trace scatter trace7698bd\" style=\"stroke-miterlimit: 2; opacity: 1;\"><g class=\"fills\"/><g class=\"errorbars\"/><g class=\"lines\"><path class=\"js-line\" d=\"M511.43,280.89L527.1,280.89\" style=\"vector-effect: non-scaling-stroke; fill: none; stroke: rgb(128, 128, 128); stroke-opacity: 1; stroke-width: 2px; opacity: 1;\"/><path class=\"js-line\" d=\"M511.43,280.89L511.43,355.12\" style=\"vector-effect: non-scaling-stroke; fill: none; stroke: rgb(128, 128, 128); stroke-opacity: 1; stroke-width: 2px; opacity: 1;\"/><path class=\"js-line\" d=\"M527.1,280.89L527.1,350.39\" style=\"vector-effect: non-scaling-stroke; fill: none; stroke: rgb(128, 128, 128); stroke-opacity: 1; stroke-width: 2px; opacity: 1;\"/></g><g class=\"points\"/><g class=\"text\"/></g><g class=\"trace scatter trace4f4f90\" style=\"stroke-miterlimit: 2; opacity: 1;\"><g class=\"fills\"/><g class=\"errorbars\"/><g class=\"lines\"><path class=\"js-line\" d=\"M507.52,355.12L515.35,355.12\" style=\"vector-effect: non-scaling-stroke; fill: none; stroke: rgb(128, 128, 128); stroke-opacity: 1; stroke-width: 2px; opacity: 1;\"/><path class=\"js-line\" d=\"M507.52,355.12L507.52,367.49\" style=\"vector-effect: non-scaling-stroke; fill: none; stroke: rgb(128, 128, 128); stroke-opacity: 1; stroke-width: 2px; opacity: 1;\"/><path class=\"js-line\" d=\"M515.35,355.12L515.35,367.49\" style=\"vector-effect: non-scaling-stroke; fill: none; stroke: rgb(128, 128, 128); stroke-opacity: 1; stroke-width: 2px; opacity: 1;\"/></g><g class=\"points\"/><g class=\"text\"/></g><g class=\"trace scatter trace2f041f\" style=\"stroke-miterlimit: 2; opacity: 1;\"><g class=\"fills\"/><g class=\"errorbars\"/><g class=\"lines\"><path class=\"js-line\" d=\"M198.2,221.16L209.94,221.16\" style=\"vector-effect: non-scaling-stroke; fill: none; stroke: rgb(128, 128, 128); stroke-opacity: 1; stroke-width: 2px; opacity: 1;\"/><path class=\"js-line\" d=\"M198.2,221.16L198.2,276.93\" style=\"vector-effect: non-scaling-stroke; fill: none; stroke: rgb(128, 128, 128); stroke-opacity: 1; stroke-width: 2px; opacity: 1;\"/><path class=\"js-line\" d=\"M209.94,221.16L209.94,367.49\" style=\"vector-effect: non-scaling-stroke; fill: none; stroke: rgb(128, 128, 128); stroke-opacity: 1; stroke-width: 2px; opacity: 1;\"/></g><g class=\"points\"/><g class=\"text\"/></g><g class=\"trace scatter tracea51aa7\" style=\"stroke-miterlimit: 2; opacity: 1;\"><g class=\"fills\"/><g class=\"errorbars\"/><g class=\"lines\"><path class=\"js-line\" d=\"M354.82,25.36L399.11,25.36\" style=\"vector-effect: non-scaling-stroke; fill: none; stroke: rgb(128, 128, 128); stroke-opacity: 1; stroke-width: 2px; opacity: 1;\"/><path class=\"js-line\" d=\"M354.82,25.36L354.82,280.22\" style=\"vector-effect: non-scaling-stroke; fill: none; stroke: rgb(128, 128, 128); stroke-opacity: 1; stroke-width: 2px; opacity: 1;\"/><path class=\"js-line\" d=\"M399.11,25.36L399.11,26.07\" style=\"vector-effect: non-scaling-stroke; fill: none; stroke: rgb(128, 128, 128); stroke-opacity: 1; stroke-width: 2px; opacity: 1;\"/></g><g class=\"points\"/><g class=\"text\"/></g><g class=\"trace scatter trace28f88f\" style=\"stroke-miterlimit: 2; opacity: 1;\"><g class=\"fills\"/><g class=\"errorbars\"/><g class=\"lines\"><path class=\"js-line\" d=\"M470.32,83.99L484.03,83.99\" style=\"vector-effect: non-scaling-stroke; fill: none; stroke: rgb(128, 128, 128); stroke-opacity: 1; stroke-width: 2px; opacity: 1;\"/><path class=\"js-line\" d=\"M470.32,83.99L470.32,117.15\" style=\"vector-effect: non-scaling-stroke; fill: none; stroke: rgb(128, 128, 128); stroke-opacity: 1; stroke-width: 2px; opacity: 1;\"/><path class=\"js-line\" d=\"M484.03,83.99L484.03,367.49\" style=\"vector-effect: non-scaling-stroke; fill: none; stroke: rgb(128, 128, 128); stroke-opacity: 1; stroke-width: 2px; opacity: 1;\"/></g><g class=\"points\"/><g class=\"text\"/></g><g class=\"trace scatter trace908bfe\" style=\"stroke-miterlimit: 2; opacity: 1;\"><g class=\"fills\"/><g class=\"errorbars\"/><g class=\"lines\"><path class=\"js-line\" d=\"M382.22,366.75L390.06,366.75\" style=\"vector-effect: non-scaling-stroke; fill: none; stroke: rgb(128, 128, 128); stroke-opacity: 1; stroke-width: 2px; opacity: 1;\"/><path class=\"js-line\" d=\"M382.22,366.75L382.22,367.49\" style=\"vector-effect: non-scaling-stroke; fill: none; stroke: rgb(128, 128, 128); stroke-opacity: 1; stroke-width: 2px; opacity: 1;\"/><path class=\"js-line\" d=\"M390.06,366.75L390.06,367.49\" style=\"vector-effect: non-scaling-stroke; fill: none; stroke: rgb(128, 128, 128); stroke-opacity: 1; stroke-width: 2px; opacity: 1;\"/></g><g class=\"points\"/><g class=\"text\"/></g><g class=\"trace scatter tracec3c2f0\" style=\"stroke-miterlimit: 2; opacity: 1;\"><g class=\"fills\"/><g class=\"errorbars\"/><g class=\"lines\"><path class=\"js-line\" d=\"M45.5,165.15L53.33,165.15\" style=\"vector-effect: non-scaling-stroke; fill: none; stroke: rgb(128, 128, 128); stroke-opacity: 1; stroke-width: 2px; opacity: 1;\"/><path class=\"js-line\" d=\"M45.5,165.15L45.5,367.49\" style=\"vector-effect: non-scaling-stroke; fill: none; stroke: rgb(128, 128, 128); stroke-opacity: 1; stroke-width: 2px; opacity: 1;\"/><path class=\"js-line\" d=\"M53.33,165.15L53.33,367.49\" style=\"vector-effect: non-scaling-stroke; fill: none; stroke: rgb(128, 128, 128); stroke-opacity: 1; stroke-width: 2px; opacity: 1;\"/></g><g class=\"points\"/><g class=\"text\"/></g><g class=\"trace scatter trace111da5\" style=\"stroke-miterlimit: 2; opacity: 1;\"><g class=\"fills\"/><g class=\"errorbars\"/><g class=\"lines\"><path class=\"js-line\" d=\"M237.35,356.04L249.1,356.04\" style=\"vector-effect: non-scaling-stroke; fill: none; stroke: rgb(128, 128, 128); stroke-opacity: 1; stroke-width: 2px; opacity: 1;\"/><path class=\"js-line\" d=\"M237.35,356.04L237.35,358.59\" style=\"vector-effect: non-scaling-stroke; fill: none; stroke: rgb(128, 128, 128); stroke-opacity: 1; stroke-width: 2px; opacity: 1;\"/><path class=\"js-line\" d=\"M249.1,356.04L249.1,367.49\" style=\"vector-effect: non-scaling-stroke; fill: none; stroke: rgb(128, 128, 128); stroke-opacity: 1; stroke-width: 2px; opacity: 1;\"/></g><g class=\"points\"/><g class=\"text\"/></g><g class=\"trace scatter trace45813d\" style=\"stroke-miterlimit: 2; opacity: 1;\"><g class=\"fills\"/><g class=\"errorbars\"/><g class=\"lines\"><path class=\"js-line\" d=\"M217.78,223.13L225.61,223.13\" style=\"vector-effect: non-scaling-stroke; fill: none; stroke: rgb(128, 128, 128); stroke-opacity: 1; stroke-width: 2px; opacity: 1;\"/><path class=\"js-line\" d=\"M217.78,223.13L217.78,367.49\" style=\"vector-effect: non-scaling-stroke; fill: none; stroke: rgb(128, 128, 128); stroke-opacity: 1; stroke-width: 2px; opacity: 1;\"/><path class=\"js-line\" d=\"M225.61,223.13L225.61,367.49\" style=\"vector-effect: non-scaling-stroke; fill: none; stroke: rgb(128, 128, 128); stroke-opacity: 1; stroke-width: 2px; opacity: 1;\"/></g><g class=\"points\"/><g class=\"text\"/></g><g class=\"trace scatter trace6ce589\" style=\"stroke-miterlimit: 2; opacity: 1;\"><g class=\"fills\"/><g class=\"errorbars\"/><g class=\"lines\"><path class=\"js-line\" d=\"M250.08,25.74L326.55,25.74\" style=\"vector-effect: non-scaling-stroke; fill: none; stroke: rgb(128, 128, 128); stroke-opacity: 1; stroke-width: 2px; opacity: 1;\"/><path class=\"js-line\" d=\"M250.08,25.74L250.08,35.51\" style=\"vector-effect: non-scaling-stroke; fill: none; stroke: rgb(128, 128, 128); stroke-opacity: 1; stroke-width: 2px; opacity: 1;\"/><path class=\"js-line\" d=\"M326.55,25.74L326.55,26.46\" style=\"vector-effect: non-scaling-stroke; fill: none; stroke: rgb(128, 128, 128); stroke-opacity: 1; stroke-width: 2px; opacity: 1;\"/></g><g class=\"points\"/><g class=\"text\"/></g><g class=\"trace scatter trace0459d3\" style=\"stroke-miterlimit: 2; opacity: 1;\"><g class=\"fills\"/><g class=\"errorbars\"/><g class=\"lines\"><path class=\"js-line\" d=\"M366.56,265.99L374.39,265.99\" style=\"vector-effect: non-scaling-stroke; fill: none; stroke: rgb(128, 128, 128); stroke-opacity: 1; stroke-width: 2px; opacity: 1;\"/><path class=\"js-line\" d=\"M366.56,265.99L366.56,367.49\" style=\"vector-effect: non-scaling-stroke; fill: none; stroke: rgb(128, 128, 128); stroke-opacity: 1; stroke-width: 2px; opacity: 1;\"/><path class=\"js-line\" d=\"M374.39,265.99L374.39,367.49\" style=\"vector-effect: non-scaling-stroke; fill: none; stroke: rgb(128, 128, 128); stroke-opacity: 1; stroke-width: 2px; opacity: 1;\"/></g><g class=\"points\"/><g class=\"text\"/></g><g class=\"trace scatter tracec2fdde\" style=\"stroke-miterlimit: 2; opacity: 1;\"><g class=\"fills\"/><g class=\"errorbars\"/><g class=\"lines\"><path class=\"js-line\" d=\"M96.4,24.73L141.06,24.73\" style=\"vector-effect: non-scaling-stroke; fill: none; stroke: rgb(128, 128, 128); stroke-opacity: 1; stroke-width: 2px; opacity: 1;\"/><path class=\"js-line\" d=\"M96.4,24.73L96.4,336.87\" style=\"vector-effect: non-scaling-stroke; fill: none; stroke: rgb(128, 128, 128); stroke-opacity: 1; stroke-width: 2px; opacity: 1;\"/><path class=\"js-line\" d=\"M141.06,24.73L141.06,25.49\" style=\"vector-effect: non-scaling-stroke; fill: none; stroke: rgb(128, 128, 128); stroke-opacity: 1; stroke-width: 2px; opacity: 1;\"/></g><g class=\"points\"/><g class=\"text\"/></g><g class=\"trace scatter tracea684c9\" style=\"stroke-miterlimit: 2; opacity: 1;\"><g class=\"fills\"/><g class=\"errorbars\"/><g class=\"lines\"><path class=\"js-line\" d=\"M108.14,30.41L115.97,30.41\" style=\"vector-effect: non-scaling-stroke; fill: none; stroke: rgb(128, 128, 128); stroke-opacity: 1; stroke-width: 2px; opacity: 1;\"/><path class=\"js-line\" d=\"M108.14,30.41L108.14,367.49\" style=\"vector-effect: non-scaling-stroke; fill: none; stroke: rgb(128, 128, 128); stroke-opacity: 1; stroke-width: 2px; opacity: 1;\"/><path class=\"js-line\" d=\"M115.97,30.41L115.97,367.49\" style=\"vector-effect: non-scaling-stroke; fill: none; stroke: rgb(128, 128, 128); stroke-opacity: 1; stroke-width: 2px; opacity: 1;\"/></g><g class=\"points\"/><g class=\"text\"/></g><g class=\"trace scatter trace1a8bba\" style=\"stroke-miterlimit: 2; opacity: 1;\"><g class=\"fills\"/><g class=\"errorbars\"/><g class=\"lines\"><path class=\"js-line\" d=\"M268.68,184.36L290.21,184.36\" style=\"vector-effect: non-scaling-stroke; fill: none; stroke: rgb(128, 128, 128); stroke-opacity: 1; stroke-width: 2px; opacity: 1;\"/><path class=\"js-line\" d=\"M268.68,184.36L268.68,362.05\" style=\"vector-effect: non-scaling-stroke; fill: none; stroke: rgb(128, 128, 128); stroke-opacity: 1; stroke-width: 2px; opacity: 1;\"/><path class=\"js-line\" d=\"M290.21,184.36L290.21,209.38\" style=\"vector-effect: non-scaling-stroke; fill: none; stroke: rgb(128, 128, 128); stroke-opacity: 1; stroke-width: 2px; opacity: 1;\"/></g><g class=\"points\"/><g class=\"text\"/></g><g class=\"trace scatter trace818e51\" style=\"stroke-miterlimit: 2; opacity: 1;\"><g class=\"fills\"/><g class=\"errorbars\"/><g class=\"lines\"><path class=\"js-line\" d=\"M376.96,24.09L451.48,24.09\" style=\"vector-effect: non-scaling-stroke; fill: none; stroke: rgb(128, 128, 128); stroke-opacity: 1; stroke-width: 2px; opacity: 1;\"/><path class=\"js-line\" d=\"M376.96,24.09L376.96,25.36\" style=\"vector-effect: non-scaling-stroke; fill: none; stroke: rgb(128, 128, 128); stroke-opacity: 1; stroke-width: 2px; opacity: 1;\"/></g><g class=\"points\"/><g class=\"text\"/></g><g class=\"trace scatter tracee9c005\" style=\"stroke-miterlimit: 2; opacity: 1;\"><g class=\"fills\"/><g class=\"errorbars\"/><g class=\"lines\"><path class=\"js-line\" d=\"M523.18,350.39L531.01,350.39\" style=\"vector-effect: non-scaling-stroke; fill: none; stroke: rgb(128, 128, 128); stroke-opacity: 1; stroke-width: 2px; opacity: 1;\"/><path class=\"js-line\" d=\"M523.18,350.39L523.18,367.49\" style=\"vector-effect: non-scaling-stroke; fill: none; stroke: rgb(128, 128, 128); stroke-opacity: 1; stroke-width: 2px; opacity: 1;\"/><path class=\"js-line\" d=\"M531.01,350.39L531.01,367.49\" style=\"vector-effect: non-scaling-stroke; fill: none; stroke: rgb(128, 128, 128); stroke-opacity: 1; stroke-width: 2px; opacity: 1;\"/></g><g class=\"points\"/><g class=\"text\"/></g><g class=\"trace scatter traceb13ec4\" style=\"stroke-miterlimit: 2; opacity: 1;\"><g class=\"fills\"/><g class=\"errorbars\"/><g class=\"lines\"><path class=\"js-line\" d=\"M92.48,336.87L100.31,336.87\" style=\"vector-effect: non-scaling-stroke; fill: none; stroke: rgb(128, 128, 128); stroke-opacity: 1; stroke-width: 2px; opacity: 1;\"/><path class=\"js-line\" d=\"M92.48,336.87L92.48,367.49\" style=\"vector-effect: non-scaling-stroke; fill: none; stroke: rgb(128, 128, 128); stroke-opacity: 1; stroke-width: 2px; opacity: 1;\"/><path class=\"js-line\" d=\"M100.31,336.87L100.31,367.49\" style=\"vector-effect: non-scaling-stroke; fill: none; stroke: rgb(128, 128, 128); stroke-opacity: 1; stroke-width: 2px; opacity: 1;\"/></g><g class=\"points\"/><g class=\"text\"/></g><g class=\"trace scatter trace83dd18\" style=\"stroke-miterlimit: 2; opacity: 1;\"><g class=\"fills\"/><g class=\"errorbars\"/><g class=\"lines\"><path class=\"js-line\" d=\"M49.41,23.74L132.33,23.74\" style=\"vector-effect: non-scaling-stroke; fill: none; stroke: rgb(128, 128, 128); stroke-opacity: 1; stroke-width: 2px; opacity: 1;\"/><path class=\"js-line\" d=\"M49.41,23.74L49.41,165.15\" style=\"vector-effect: non-scaling-stroke; fill: none; stroke: rgb(128, 128, 128); stroke-opacity: 1; stroke-width: 2px; opacity: 1;\"/></g><g class=\"points\"/><g class=\"text\"/></g><g class=\"trace scatter tracecba465\" style=\"stroke-miterlimit: 2; opacity: 1;\"><g class=\"fills\"/><g class=\"errorbars\"/><g class=\"lines\"><path class=\"js-line\" d=\"M264.76,362.05L272.59,362.05\" style=\"vector-effect: non-scaling-stroke; fill: none; stroke: rgb(128, 128, 128); stroke-opacity: 1; stroke-width: 2px; opacity: 1;\"/><path class=\"js-line\" d=\"M264.76,362.05L264.76,367.49\" style=\"vector-effect: non-scaling-stroke; fill: none; stroke: rgb(128, 128, 128); stroke-opacity: 1; stroke-width: 2px; opacity: 1;\"/><path class=\"js-line\" d=\"M272.59,362.05L272.59,367.49\" style=\"vector-effect: non-scaling-stroke; fill: none; stroke: rgb(128, 128, 128); stroke-opacity: 1; stroke-width: 2px; opacity: 1;\"/></g><g class=\"points\"/><g class=\"text\"/></g><g class=\"trace scatter tracea11d27\" style=\"stroke-miterlimit: 2; opacity: 1;\"><g class=\"fills\"/><g class=\"errorbars\"/><g class=\"lines\"><path class=\"js-line\" d=\"M90.87,23.42L486.32,23.42\" style=\"vector-effect: non-scaling-stroke; fill: none; stroke: rgb(128, 128, 128); stroke-opacity: 1; stroke-width: 2px; opacity: 1;\"/><path class=\"js-line\" d=\"M90.87,23.42L90.87,23.74\" style=\"vector-effect: non-scaling-stroke; fill: none; stroke: rgb(128, 128, 128); stroke-opacity: 1; stroke-width: 2px; opacity: 1;\"/><path class=\"js-line\" d=\"M486.32,23.42L486.32,23.62\" style=\"vector-effect: non-scaling-stroke; fill: none; stroke: rgb(128, 128, 128); stroke-opacity: 1; stroke-width: 2px; opacity: 1;\"/></g><g class=\"points\"/><g class=\"text\"/></g><g class=\"trace scatter trace990de0\" style=\"stroke-miterlimit: 2; opacity: 1;\"><g class=\"fills\"/><g class=\"errorbars\"/><g class=\"lines\"><path class=\"js-line\" d=\"M546.67,123.98L554.5,123.98\" style=\"vector-effect: non-scaling-stroke; fill: none; stroke: rgb(128, 128, 128); stroke-opacity: 1; stroke-width: 2px; opacity: 1;\"/><path class=\"js-line\" d=\"M546.67,123.98L546.67,367.49\" style=\"vector-effect: non-scaling-stroke; fill: none; stroke: rgb(128, 128, 128); stroke-opacity: 1; stroke-width: 2px; opacity: 1;\"/><path class=\"js-line\" d=\"M554.5,123.98L554.5,367.49\" style=\"vector-effect: non-scaling-stroke; fill: none; stroke: rgb(128, 128, 128); stroke-opacity: 1; stroke-width: 2px; opacity: 1;\"/></g><g class=\"points\"/><g class=\"text\"/></g><g class=\"trace scatter tracebe2ab8\" style=\"stroke-miterlimit: 2; opacity: 1;\"><g class=\"fills\"/><g class=\"errorbars\"/><g class=\"lines\"><path class=\"js-line\" d=\"M321.53,66.55L335.24,66.55\" style=\"vector-effect: non-scaling-stroke; fill: none; stroke: rgb(128, 128, 128); stroke-opacity: 1; stroke-width: 2px; opacity: 1;\"/><path class=\"js-line\" d=\"M321.53,66.55L321.53,227.25\" style=\"vector-effect: non-scaling-stroke; fill: none; stroke: rgb(128, 128, 128); stroke-opacity: 1; stroke-width: 2px; opacity: 1;\"/><path class=\"js-line\" d=\"M335.24,66.55L335.24,367.49\" style=\"vector-effect: non-scaling-stroke; fill: none; stroke: rgb(128, 128, 128); stroke-opacity: 1; stroke-width: 2px; opacity: 1;\"/></g><g class=\"points\"/><g class=\"text\"/></g><g class=\"trace scatter trace846c28\" style=\"stroke-miterlimit: 2; opacity: 1;\"><g class=\"fills\"/><g class=\"errorbars\"/><g class=\"lines\"><path class=\"js-line\" d=\"M519.26,222.81L538.84,222.81\" style=\"vector-effect: non-scaling-stroke; fill: none; stroke: rgb(128, 128, 128); stroke-opacity: 1; stroke-width: 2px; opacity: 1;\"/><path class=\"js-line\" d=\"M519.26,222.81L519.26,280.89\" style=\"vector-effect: non-scaling-stroke; fill: none; stroke: rgb(128, 128, 128); stroke-opacity: 1; stroke-width: 2px; opacity: 1;\"/><path class=\"js-line\" d=\"M538.84,222.81L538.84,367.49\" style=\"vector-effect: non-scaling-stroke; fill: none; stroke: rgb(128, 128, 128); stroke-opacity: 1; stroke-width: 2px; opacity: 1;\"/></g><g class=\"points\"/><g class=\"text\"/></g><g class=\"trace scatter trace85ccc6\" style=\"stroke-miterlimit: 2; opacity: 1;\"><g class=\"fills\"/><g class=\"errorbars\"/><g class=\"lines\"><path class=\"js-line\" d=\"M464.45,117.15L476.19,117.15\" style=\"vector-effect: non-scaling-stroke; fill: none; stroke: rgb(128, 128, 128); stroke-opacity: 1; stroke-width: 2px; opacity: 1;\"/><path class=\"js-line\" d=\"M464.45,117.15L464.45,190.61\" style=\"vector-effect: non-scaling-stroke; fill: none; stroke: rgb(128, 128, 128); stroke-opacity: 1; stroke-width: 2px; opacity: 1;\"/><path class=\"js-line\" d=\"M476.19,117.15L476.19,367.49\" style=\"vector-effect: non-scaling-stroke; fill: none; stroke: rgb(128, 128, 128); stroke-opacity: 1; stroke-width: 2px; opacity: 1;\"/></g><g class=\"points\"/><g class=\"text\"/></g><g class=\"trace scatter trace5cae2d\" style=\"stroke-miterlimit: 2; opacity: 1;\"><g class=\"fills\"/><g class=\"errorbars\"/><g class=\"lines\"><path class=\"js-line\" d=\"M425.29,165.23L437.04,165.23\" style=\"vector-effect: non-scaling-stroke; fill: none; stroke: rgb(128, 128, 128); stroke-opacity: 1; stroke-width: 2px; opacity: 1;\"/><path class=\"js-line\" d=\"M425.29,165.23L425.29,183.64\" style=\"vector-effect: non-scaling-stroke; fill: none; stroke: rgb(128, 128, 128); stroke-opacity: 1; stroke-width: 2px; opacity: 1;\"/><path class=\"js-line\" d=\"M437.04,165.23L437.04,367.49\" style=\"vector-effect: non-scaling-stroke; fill: none; stroke: rgb(128, 128, 128); stroke-opacity: 1; stroke-width: 2px; opacity: 1;\"/></g><g class=\"points\"/><g class=\"text\"/></g><g class=\"trace scatter trace3ad4d8\" style=\"stroke-miterlimit: 2; opacity: 1;\"><g class=\"fills\"/><g class=\"errorbars\"/><g class=\"lines\"><path class=\"js-line\" d=\"M477.17,24.64L512.41,24.64\" style=\"vector-effect: non-scaling-stroke; fill: none; stroke: rgb(128, 128, 128); stroke-opacity: 1; stroke-width: 2px; opacity: 1;\"/><path class=\"js-line\" d=\"M477.17,24.64L477.17,83.99\" style=\"vector-effect: non-scaling-stroke; fill: none; stroke: rgb(128, 128, 128); stroke-opacity: 1; stroke-width: 2px; opacity: 1;\"/><path class=\"js-line\" d=\"M512.41,24.64L512.41,29.42\" style=\"vector-effect: non-scaling-stroke; fill: none; stroke: rgb(128, 128, 128); stroke-opacity: 1; stroke-width: 2px; opacity: 1;\"/></g><g class=\"points\"/><g class=\"text\"/></g><g class=\"trace scatter trace9b018e\" style=\"stroke-miterlimit: 2; opacity: 1;\"><g class=\"fills\"/><g class=\"errorbars\"/><g class=\"lines\"><path class=\"js-line\" d=\"M386.14,263.3L397.89,263.3\" style=\"vector-effect: non-scaling-stroke; fill: none; stroke: rgb(128, 128, 128); stroke-opacity: 1; stroke-width: 2px; opacity: 1;\"/><path class=\"js-line\" d=\"M386.14,263.3L386.14,366.75\" style=\"vector-effect: non-scaling-stroke; fill: none; stroke: rgb(128, 128, 128); stroke-opacity: 1; stroke-width: 2px; opacity: 1;\"/><path class=\"js-line\" d=\"M397.89,263.3L397.89,367.49\" style=\"vector-effect: non-scaling-stroke; fill: none; stroke: rgb(128, 128, 128); stroke-opacity: 1; stroke-width: 2px; opacity: 1;\"/></g><g class=\"points\"/><g class=\"text\"/></g><g class=\"trace scatter tracef66f73\" style=\"stroke-miterlimit: 2; opacity: 1;\"><g class=\"fills\"/><g class=\"errorbars\"/><g class=\"lines\"><path class=\"js-line\" d=\"M448.79,24.3L494.79,24.3\" style=\"vector-effect: non-scaling-stroke; fill: none; stroke: rgb(128, 128, 128); stroke-opacity: 1; stroke-width: 2px; opacity: 1;\"/><path class=\"js-line\" d=\"M448.79,24.3L448.79,230.22\" style=\"vector-effect: non-scaling-stroke; fill: none; stroke: rgb(128, 128, 128); stroke-opacity: 1; stroke-width: 2px; opacity: 1;\"/><path class=\"js-line\" d=\"M494.79,24.3L494.79,24.64\" style=\"vector-effect: non-scaling-stroke; fill: none; stroke: rgb(128, 128, 128); stroke-opacity: 1; stroke-width: 2px; opacity: 1;\"/></g><g class=\"points\"/><g class=\"text\"/></g><g class=\"trace scatter trace3ecf75\" style=\"stroke-miterlimit: 2; opacity: 1;\"><g class=\"fills\"/><g class=\"errorbars\"/><g class=\"lines\"><path class=\"js-line\" d=\"M431.17,24.16L471.79,24.16\" style=\"vector-effect: non-scaling-stroke; fill: none; stroke: rgb(128, 128, 128); stroke-opacity: 1; stroke-width: 2px; opacity: 1;\"/><path class=\"js-line\" d=\"M431.17,24.16L431.17,165.23\" style=\"vector-effect: non-scaling-stroke; fill: none; stroke: rgb(128, 128, 128); stroke-opacity: 1; stroke-width: 2px; opacity: 1;\"/></g><g class=\"points\"/><g class=\"text\"/></g><g class=\"trace scatter tracea8dbb1\" style=\"stroke-miterlimit: 2; opacity: 1;\"><g class=\"fills\"/><g class=\"errorbars\"/><g class=\"lines\"><path class=\"js-line\" d=\"M310.03,26.46L343.07,26.46\" style=\"vector-effect: non-scaling-stroke; fill: none; stroke: rgb(128, 128, 128); stroke-opacity: 1; stroke-width: 2px; opacity: 1;\"/><path class=\"js-line\" d=\"M310.03,26.46L310.03,34.11\" style=\"vector-effect: non-scaling-stroke; fill: none; stroke: rgb(128, 128, 128); stroke-opacity: 1; stroke-width: 2px; opacity: 1;\"/><path class=\"js-line\" d=\"M343.07,26.46L343.07,367.49\" style=\"vector-effect: non-scaling-stroke; fill: none; stroke: rgb(128, 128, 128); stroke-opacity: 1; stroke-width: 2px; opacity: 1;\"/></g><g class=\"points\"/><g class=\"text\"/></g><g class=\"trace scatter trace1ece17\" style=\"stroke-miterlimit: 2; opacity: 1;\"><g class=\"fills\"/><g class=\"errorbars\"/><g class=\"lines\"><path class=\"js-line\" d=\"M421.38,183.64L429.21,183.64\" style=\"vector-effect: non-scaling-stroke; fill: none; stroke: rgb(128, 128, 128); stroke-opacity: 1; stroke-width: 2px; opacity: 1;\"/><path class=\"js-line\" d=\"M421.38,183.64L421.38,367.49\" style=\"vector-effect: non-scaling-stroke; fill: none; stroke: rgb(128, 128, 128); stroke-opacity: 1; stroke-width: 2px; opacity: 1;\"/><path class=\"js-line\" d=\"M429.21,183.64L429.21,367.49\" style=\"vector-effect: non-scaling-stroke; fill: none; stroke: rgb(128, 128, 128); stroke-opacity: 1; stroke-width: 2px; opacity: 1;\"/></g><g class=\"points\"/><g class=\"text\"/></g><g class=\"trace scatter traceaea6f4\" style=\"stroke-miterlimit: 2; opacity: 1;\"><g class=\"fills\"/><g class=\"errorbars\"/><g class=\"lines\"><path class=\"js-line\" d=\"M135.55,351.9L147.3,351.9\" style=\"vector-effect: non-scaling-stroke; fill: none; stroke: rgb(128, 128, 128); stroke-opacity: 1; stroke-width: 2px; opacity: 1;\"/><path class=\"js-line\" d=\"M135.55,351.9L135.55,362.51\" style=\"vector-effect: non-scaling-stroke; fill: none; stroke: rgb(128, 128, 128); stroke-opacity: 1; stroke-width: 2px; opacity: 1;\"/><path class=\"js-line\" d=\"M147.3,351.9L147.3,367.49\" style=\"vector-effect: non-scaling-stroke; fill: none; stroke: rgb(128, 128, 128); stroke-opacity: 1; stroke-width: 2px; opacity: 1;\"/></g><g class=\"points\"/><g class=\"text\"/></g><g class=\"trace scatter tracefda9e0\" style=\"stroke-miterlimit: 2; opacity: 1;\"><g class=\"fills\"/><g class=\"errorbars\"/><g class=\"lines\"><path class=\"js-line\" d=\"M70.95,136.84L84.65,136.84\" style=\"vector-effect: non-scaling-stroke; fill: none; stroke: rgb(128, 128, 128); stroke-opacity: 1; stroke-width: 2px; opacity: 1;\"/><path class=\"js-line\" d=\"M70.95,136.84L70.95,216.02\" style=\"vector-effect: non-scaling-stroke; fill: none; stroke: rgb(128, 128, 128); stroke-opacity: 1; stroke-width: 2px; opacity: 1;\"/><path class=\"js-line\" d=\"M84.65,136.84L84.65,367.49\" style=\"vector-effect: non-scaling-stroke; fill: none; stroke: rgb(128, 128, 128); stroke-opacity: 1; stroke-width: 2px; opacity: 1;\"/></g><g class=\"points\"/><g class=\"text\"/></g><g class=\"trace scatter tracea76b23\" style=\"stroke-miterlimit: 2; opacity: 1;\"><g class=\"fills\"/><g class=\"errorbars\"/><g class=\"lines\"><path class=\"js-line\" d=\"M118.73,24.08L255,24.08\" style=\"vector-effect: non-scaling-stroke; fill: none; stroke: rgb(128, 128, 128); stroke-opacity: 1; stroke-width: 2px; opacity: 1;\"/><path class=\"js-line\" d=\"M118.73,24.08L118.73,24.73\" style=\"vector-effect: non-scaling-stroke; fill: none; stroke: rgb(128, 128, 128); stroke-opacity: 1; stroke-width: 2px; opacity: 1;\"/></g><g class=\"points\"/><g class=\"text\"/></g><g class=\"trace scatter tracece2f7f\" style=\"stroke-miterlimit: 2; opacity: 1;\"><g class=\"fills\"/><g class=\"errorbars\"/><g class=\"lines\"><path class=\"js-line\" d=\"M311.75,365.95L319.58,365.95\" style=\"vector-effect: non-scaling-stroke; fill: none; stroke: rgb(128, 128, 128); stroke-opacity: 1; stroke-width: 2px; opacity: 1;\"/><path class=\"js-line\" d=\"M311.75,365.95L311.75,367.49\" style=\"vector-effect: non-scaling-stroke; fill: none; stroke: rgb(128, 128, 128); stroke-opacity: 1; stroke-width: 2px; opacity: 1;\"/><path class=\"js-line\" d=\"M319.58,365.95L319.58,367.49\" style=\"vector-effect: non-scaling-stroke; fill: none; stroke: rgb(128, 128, 128); stroke-opacity: 1; stroke-width: 2px; opacity: 1;\"/></g><g class=\"points\"/><g class=\"text\"/></g><g class=\"trace scatter trace5e91e3\" style=\"stroke-miterlimit: 2; opacity: 1;\"><g class=\"fills\"/><g class=\"errorbars\"/><g class=\"lines\"><path class=\"js-line\" d=\"M414.22,23.62L558.42,23.62\" style=\"vector-effect: non-scaling-stroke; fill: none; stroke: rgb(128, 128, 128); stroke-opacity: 1; stroke-width: 2px; opacity: 1;\"/><path class=\"js-line\" d=\"M414.22,23.62L414.22,24.09\" style=\"vector-effect: non-scaling-stroke; fill: none; stroke: rgb(128, 128, 128); stroke-opacity: 1; stroke-width: 2px; opacity: 1;\"/></g><g class=\"points\"/><g class=\"text\"/></g><g class=\"trace scatter trace390b39\" style=\"stroke-miterlimit: 2; opacity: 1;\"><g class=\"fills\"/><g class=\"errorbars\"/><g class=\"lines\"><path class=\"js-line\" d=\"M491.86,286.41L499.69,286.41\" style=\"vector-effect: non-scaling-stroke; fill: none; stroke: rgb(128, 128, 128); stroke-opacity: 1; stroke-width: 2px; opacity: 1;\"/><path class=\"js-line\" d=\"M491.86,286.41L491.86,367.49\" style=\"vector-effect: non-scaling-stroke; fill: none; stroke: rgb(128, 128, 128); stroke-opacity: 1; stroke-width: 2px; opacity: 1;\"/><path class=\"js-line\" d=\"M499.69,286.41L499.69,367.49\" style=\"vector-effect: non-scaling-stroke; fill: none; stroke: rgb(128, 128, 128); stroke-opacity: 1; stroke-width: 2px; opacity: 1;\"/></g><g class=\"points\"/><g class=\"text\"/></g><g class=\"trace scatter tracebda4fd\" style=\"stroke-miterlimit: 2; opacity: 1;\"><g class=\"fills\"/><g class=\"errorbars\"/><g class=\"lines\"><path class=\"js-line\" d=\"M460.53,190.61L468.36,190.61\" style=\"vector-effect: non-scaling-stroke; fill: none; stroke: rgb(128, 128, 128); stroke-opacity: 1; stroke-width: 2px; opacity: 1;\"/><path class=\"js-line\" d=\"M460.53,190.61L460.53,367.49\" style=\"vector-effect: non-scaling-stroke; fill: none; stroke: rgb(128, 128, 128); stroke-opacity: 1; stroke-width: 2px; opacity: 1;\"/><path class=\"js-line\" d=\"M468.36,190.61L468.36,367.49\" style=\"vector-effect: non-scaling-stroke; fill: none; stroke: rgb(128, 128, 128); stroke-opacity: 1; stroke-width: 2px; opacity: 1;\"/></g><g class=\"points\"/><g class=\"text\"/></g><g class=\"trace scatter trace5342f2\" style=\"stroke-miterlimit: 2; opacity: 1;\"><g class=\"fills\"/><g class=\"errorbars\"/><g class=\"lines\"><path class=\"js-line\" d=\"M166.87,26.3L193.3,26.3\" style=\"vector-effect: non-scaling-stroke; fill: none; stroke: rgb(128, 128, 128); stroke-opacity: 1; stroke-width: 2px; opacity: 1;\"/><path class=\"js-line\" d=\"M166.87,26.3L166.87,45.52\" style=\"vector-effect: non-scaling-stroke; fill: none; stroke: rgb(128, 128, 128); stroke-opacity: 1; stroke-width: 2px; opacity: 1;\"/><path class=\"js-line\" d=\"M193.3,26.3L193.3,27.42\" style=\"vector-effect: non-scaling-stroke; fill: none; stroke: rgb(128, 128, 128); stroke-opacity: 1; stroke-width: 2px; opacity: 1;\"/></g><g class=\"points\"/><g class=\"text\"/></g><g class=\"trace scatter traced820cc\" style=\"stroke-miterlimit: 2; opacity: 1;\"><g class=\"fills\"/><g class=\"errorbars\"/><g class=\"lines\"><path class=\"js-line\" d=\"M392.01,258.89L405.72,258.89\" style=\"vector-effect: non-scaling-stroke; fill: none; stroke: rgb(128, 128, 128); stroke-opacity: 1; stroke-width: 2px; opacity: 1;\"/><path class=\"js-line\" d=\"M392.01,258.89L392.01,263.3\" style=\"vector-effect: non-scaling-stroke; fill: none; stroke: rgb(128, 128, 128); stroke-opacity: 1; stroke-width: 2px; opacity: 1;\"/><path class=\"js-line\" d=\"M405.72,258.89L405.72,367.49\" style=\"vector-effect: non-scaling-stroke; fill: none; stroke: rgb(128, 128, 128); stroke-opacity: 1; stroke-width: 2px; opacity: 1;\"/></g><g class=\"points\"/><g class=\"text\"/></g><g class=\"trace scatter trace00538c\" style=\"stroke-miterlimit: 2; opacity: 1;\"><g class=\"fills\"/><g class=\"errorbars\"/><g class=\"lines\"><path class=\"js-line\" d=\"M280.42,350.07L288.25,350.07\" style=\"vector-effect: non-scaling-stroke; fill: none; stroke: rgb(128, 128, 128); stroke-opacity: 1; stroke-width: 2px; opacity: 1;\"/><path class=\"js-line\" d=\"M280.42,350.07L280.42,367.49\" style=\"vector-effect: non-scaling-stroke; fill: none; stroke: rgb(128, 128, 128); stroke-opacity: 1; stroke-width: 2px; opacity: 1;\"/><path class=\"js-line\" d=\"M288.25,350.07L288.25,367.49\" style=\"vector-effect: non-scaling-stroke; fill: none; stroke: rgb(128, 128, 128); stroke-opacity: 1; stroke-width: 2px; opacity: 1;\"/></g><g class=\"points\"/><g class=\"text\"/></g><g class=\"trace scatter trace4a3eaa\" style=\"stroke-miterlimit: 2; opacity: 1;\"><g class=\"fills\"/><g class=\"errorbars\"/><g class=\"lines\"><path class=\"js-line\" d=\"M61.16,220.91L68.99,220.91\" style=\"vector-effect: non-scaling-stroke; fill: none; stroke: rgb(128, 128, 128); stroke-opacity: 1; stroke-width: 2px; opacity: 1;\"/><path class=\"js-line\" d=\"M61.16,220.91L61.16,367.49\" style=\"vector-effect: non-scaling-stroke; fill: none; stroke: rgb(128, 128, 128); stroke-opacity: 1; stroke-width: 2px; opacity: 1;\"/><path class=\"js-line\" d=\"M68.99,220.91L68.99,367.49\" style=\"vector-effect: non-scaling-stroke; fill: none; stroke: rgb(128, 128, 128); stroke-opacity: 1; stroke-width: 2px; opacity: 1;\"/></g><g class=\"points\"/><g class=\"text\"/></g><g class=\"trace scatter tracedb537d\" style=\"stroke-miterlimit: 2; opacity: 1;\"><g class=\"fills\"/><g class=\"errorbars\"/><g class=\"lines\"><path class=\"js-line\" d=\"M291.68,34.11L328.39,34.11\" style=\"vector-effect: non-scaling-stroke; fill: none; stroke: rgb(128, 128, 128); stroke-opacity: 1; stroke-width: 2px; opacity: 1;\"/><path class=\"js-line\" d=\"M291.68,34.11L291.68,152.45\" style=\"vector-effect: non-scaling-stroke; fill: none; stroke: rgb(128, 128, 128); stroke-opacity: 1; stroke-width: 2px; opacity: 1;\"/><path class=\"js-line\" d=\"M328.39,34.11L328.39,66.55\" style=\"vector-effect: non-scaling-stroke; fill: none; stroke: rgb(128, 128, 128); stroke-opacity: 1; stroke-width: 2px; opacity: 1;\"/></g><g class=\"points\"/><g class=\"text\"/></g><g class=\"trace scatter tracea06da5\" style=\"stroke-miterlimit: 2; opacity: 1;\"><g class=\"fills\"/><g class=\"errorbars\"/><g class=\"lines\"><path class=\"js-line\" d=\"M65.07,216.02L76.82,216.02\" style=\"vector-effect: non-scaling-stroke; fill: none; stroke: rgb(128, 128, 128); stroke-opacity: 1; stroke-width: 2px; opacity: 1;\"/><path class=\"js-line\" d=\"M65.07,216.02L65.07,220.91\" style=\"vector-effect: non-scaling-stroke; fill: none; stroke: rgb(128, 128, 128); stroke-opacity: 1; stroke-width: 2px; opacity: 1;\"/><path class=\"js-line\" d=\"M76.82,216.02L76.82,367.49\" style=\"vector-effect: non-scaling-stroke; fill: none; stroke: rgb(128, 128, 128); stroke-opacity: 1; stroke-width: 2px; opacity: 1;\"/></g><g class=\"points\"/><g class=\"text\"/></g><g class=\"trace scatter traceb3d465\" style=\"stroke-miterlimit: 2; opacity: 1;\"><g class=\"fills\"/><g class=\"errorbars\"/><g class=\"lines\"><path class=\"js-line\" d=\"M77.8,23.81L186.87,23.81\" style=\"vector-effect: non-scaling-stroke; fill: none; stroke: rgb(128, 128, 128); stroke-opacity: 1; stroke-width: 2px; opacity: 1;\"/><path class=\"js-line\" d=\"M77.8,23.81L77.8,136.84\" style=\"vector-effect: non-scaling-stroke; fill: none; stroke: rgb(128, 128, 128); stroke-opacity: 1; stroke-width: 2px; opacity: 1;\"/><path class=\"js-line\" d=\"M186.87,23.81L186.87,24.08\" style=\"vector-effect: non-scaling-stroke; fill: none; stroke: rgb(128, 128, 128); stroke-opacity: 1; stroke-width: 2px; opacity: 1;\"/></g><g class=\"points\"/><g class=\"text\"/></g><g class=\"trace scatter trace5fc27e\" style=\"stroke-miterlimit: 2; opacity: 1;\"><g class=\"fills\"/><g class=\"errorbars\"/><g class=\"lines\"/><g class=\"points\"><path class=\"point\" transform=\"translate(164.18,25.99)\" d=\"M3,0A3,3 0 1,1 0,-3A3,3 0 0,1 3,0Z\" style=\"opacity: 1; stroke-width: 0px; fill: rgb(128, 128, 128); fill-opacity: 1;\"/><path class=\"point\" transform=\"translate(148.28,32.87)\" d=\"M3,0A3,3 0 1,1 0,-3A3,3 0 0,1 3,0Z\" style=\"opacity: 1; stroke-width: 0px; fill: rgb(128, 128, 128); fill-opacity: 1;\"/><path class=\"point\" transform=\"translate(166.87,45.52)\" d=\"M3,0A3,3 0 1,1 0,-3A3,3 0 0,1 3,0Z\" style=\"opacity: 1; stroke-width: 0px; fill: rgb(128, 128, 128); fill-opacity: 1;\"/><path class=\"point\" transform=\"translate(512.41,29.42)\" d=\"M3,0A3,3 0 1,1 0,-3A3,3 0 0,1 3,0Z\" style=\"opacity: 1; stroke-width: 0px; fill: rgb(128, 128, 128); fill-opacity: 1;\"/><path class=\"point\" transform=\"translate(558.42,23.73)\" d=\"M3,0A3,3 0 1,1 0,-3A3,3 0 0,1 3,0Z\" style=\"opacity: 1; stroke-width: 0px; fill: rgb(128, 128, 128); fill-opacity: 1;\"/><path class=\"point\" transform=\"translate(135.55,362.51)\" d=\"M3,0A3,3 0 1,1 0,-3A3,3 0 0,1 3,0Z\" style=\"opacity: 1; stroke-width: 0px; fill: rgb(128, 128, 128); fill-opacity: 1;\"/><path class=\"point\" transform=\"translate(384.67,30.73)\" d=\"M3,0A3,3 0 1,1 0,-3A3,3 0 0,1 3,0Z\" style=\"opacity: 1; stroke-width: 0px; fill: rgb(128, 128, 128); fill-opacity: 1;\"/><path class=\"point\" transform=\"translate(250.08,35.51)\" d=\"M3,0A3,3 0 1,1 0,-3A3,3 0 0,1 3,0Z\" style=\"opacity: 1; stroke-width: 0px; fill: rgb(128, 128, 128); fill-opacity: 1;\"/><path class=\"point\" transform=\"translate(182.54,248.59)\" d=\"M3,0A3,3 0 1,1 0,-3A3,3 0 0,1 3,0Z\" style=\"opacity: 1; stroke-width: 0px; fill: rgb(128, 128, 128); fill-opacity: 1;\"/><path class=\"point\" transform=\"translate(161.17,23.25)\" d=\"M3,0A3,3 0 1,1 0,-3A3,3 0 0,1 3,0Z\" style=\"opacity: 1; stroke-width: 0px; fill: rgb(128, 128, 128); fill-opacity: 1;\"/><path class=\"point\" transform=\"translate(198.2,276.93)\" d=\"M3,0A3,3 0 1,1 0,-3A3,3 0 0,1 3,0Z\" style=\"opacity: 1; stroke-width: 0px; fill: rgb(128, 128, 128); fill-opacity: 1;\"/><path class=\"point\" transform=\"translate(291.68,152.45)\" d=\"M3,0A3,3 0 1,1 0,-3A3,3 0 0,1 3,0Z\" style=\"opacity: 1; stroke-width: 0px; fill: rgb(128, 128, 128); fill-opacity: 1;\"/><path class=\"point\" transform=\"translate(448.79,230.22)\" d=\"M3,0A3,3 0 1,1 0,-3A3,3 0 0,1 3,0Z\" style=\"opacity: 1; stroke-width: 0px; fill: rgb(128, 128, 128); fill-opacity: 1;\"/><path class=\"point\" transform=\"translate(399.11,26.07)\" d=\"M3,0A3,3 0 1,1 0,-3A3,3 0 0,1 3,0Z\" style=\"opacity: 1; stroke-width: 0px; fill: rgb(128, 128, 128); fill-opacity: 1;\"/><path class=\"point\" transform=\"translate(237.35,358.59)\" d=\"M3,0A3,3 0 1,1 0,-3A3,3 0 0,1 3,0Z\" style=\"opacity: 1; stroke-width: 0px; fill: rgb(128, 128, 128); fill-opacity: 1;\"/><path class=\"point\" transform=\"translate(566.25,39.62)\" d=\"M3,0A3,3 0 1,1 0,-3A3,3 0 0,1 3,0Z\" style=\"opacity: 1; stroke-width: 0px; fill: rgb(128, 128, 128); fill-opacity: 1;\"/><path class=\"point\" transform=\"translate(321.53,227.25)\" d=\"M3,0A3,3 0 1,1 0,-3A3,3 0 0,1 3,0Z\" style=\"opacity: 1; stroke-width: 0px; fill: rgb(128, 128, 128); fill-opacity: 1;\"/><path class=\"point\" transform=\"translate(290.21,209.38)\" d=\"M3,0A3,3 0 1,1 0,-3A3,3 0 0,1 3,0Z\" style=\"opacity: 1; stroke-width: 0px; fill: rgb(128, 128, 128); fill-opacity: 1;\"/><path class=\"point\" transform=\"translate(33.75,332.44)\" d=\"M3,0A3,3 0 1,1 0,-3A3,3 0 0,1 3,0Z\" style=\"opacity: 1; stroke-width: 0px; fill: rgb(128, 128, 128); fill-opacity: 1;\"/><path class=\"point\" transform=\"translate(354.82,280.22)\" d=\"M3,0A3,3 0 1,1 0,-3A3,3 0 0,1 3,0Z\" style=\"opacity: 1; stroke-width: 0px; fill: rgb(128, 128, 128); fill-opacity: 1;\"/><path class=\"point\" transform=\"translate(117.93,28.18)\" d=\"M3,0A3,3 0 1,1 0,-3A3,3 0 0,1 3,0Z\" style=\"opacity: 1; stroke-width: 0px; fill: rgb(128, 128, 128); fill-opacity: 1;\"/><path class=\"point\" transform=\"translate(141.06,25.49)\" d=\"M3,0A3,3 0 1,1 0,-3A3,3 0 0,1 3,0Z\" style=\"opacity: 1; stroke-width: 0px; fill: rgb(128, 128, 128); fill-opacity: 1;\"/><path class=\"point\" transform=\"translate(193.3,27.42)\" d=\"M3,0A3,3 0 1,1 0,-3A3,3 0 0,1 3,0Z\" style=\"opacity: 1; stroke-width: 0px; fill: rgb(128, 128, 128); fill-opacity: 1;\"/><path class=\"point\" transform=\"translate(255,24.21)\" d=\"M3,0A3,3 0 1,1 0,-3A3,3 0 0,1 3,0Z\" style=\"opacity: 1; stroke-width: 0px; fill: rgb(128, 128, 128); fill-opacity: 1;\"/><path class=\"point\" transform=\"translate(519.26,280.89)\" d=\"M3,0A3,3 0 1,1 0,-3A3,3 0 0,1 3,0Z\" style=\"opacity: 1; stroke-width: 0px; fill: rgb(128, 128, 128); fill-opacity: 1;\"/><path class=\"point\" transform=\"translate(511.43,355.12)\" d=\"M3,0A3,3 0 1,1 0,-3A3,3 0 0,1 3,0Z\" style=\"opacity: 1; stroke-width: 0px; fill: rgb(128, 128, 128); fill-opacity: 1;\"/><path class=\"point\" transform=\"translate(204.07,221.16)\" d=\"M3,0A3,3 0 1,1 0,-3A3,3 0 0,1 3,0Z\" style=\"opacity: 1; stroke-width: 0px; fill: rgb(128, 128, 128); fill-opacity: 1;\"/><path class=\"point\" transform=\"translate(376.96,25.36)\" d=\"M3,0A3,3 0 1,1 0,-3A3,3 0 0,1 3,0Z\" style=\"opacity: 1; stroke-width: 0px; fill: rgb(128, 128, 128); fill-opacity: 1;\"/><path class=\"point\" transform=\"translate(477.17,83.99)\" d=\"M3,0A3,3 0 1,1 0,-3A3,3 0 0,1 3,0Z\" style=\"opacity: 1; stroke-width: 0px; fill: rgb(128, 128, 128); fill-opacity: 1;\"/><path class=\"point\" transform=\"translate(386.14,366.75)\" d=\"M3,0A3,3 0 1,1 0,-3A3,3 0 0,1 3,0Z\" style=\"opacity: 1; stroke-width: 0px; fill: rgb(128, 128, 128); fill-opacity: 1;\"/><path class=\"point\" transform=\"translate(49.41,165.15)\" d=\"M3,0A3,3 0 1,1 0,-3A3,3 0 0,1 3,0Z\" style=\"opacity: 1; stroke-width: 0px; fill: rgb(128, 128, 128); fill-opacity: 1;\"/><path class=\"point\" transform=\"translate(243.23,356.04)\" d=\"M3,0A3,3 0 1,1 0,-3A3,3 0 0,1 3,0Z\" style=\"opacity: 1; stroke-width: 0px; fill: rgb(128, 128, 128); fill-opacity: 1;\"/><path class=\"point\" transform=\"translate(221.69,223.13)\" d=\"M3,0A3,3 0 1,1 0,-3A3,3 0 0,1 3,0Z\" style=\"opacity: 1; stroke-width: 0px; fill: rgb(128, 128, 128); fill-opacity: 1;\"/><path class=\"point\" transform=\"translate(288.31,25.74)\" d=\"M3,0A3,3 0 1,1 0,-3A3,3 0 0,1 3,0Z\" style=\"opacity: 1; stroke-width: 0px; fill: rgb(128, 128, 128); fill-opacity: 1;\"/><path class=\"point\" transform=\"translate(370.48,265.99)\" d=\"M3,0A3,3 0 1,1 0,-3A3,3 0 0,1 3,0Z\" style=\"opacity: 1; stroke-width: 0px; fill: rgb(128, 128, 128); fill-opacity: 1;\"/><path class=\"point\" transform=\"translate(118.73,24.73)\" d=\"M3,0A3,3 0 1,1 0,-3A3,3 0 0,1 3,0Z\" style=\"opacity: 1; stroke-width: 0px; fill: rgb(128, 128, 128); fill-opacity: 1;\"/><path class=\"point\" transform=\"translate(112.06,30.41)\" d=\"M3,0A3,3 0 1,1 0,-3A3,3 0 0,1 3,0Z\" style=\"opacity: 1; stroke-width: 0px; fill: rgb(128, 128, 128); fill-opacity: 1;\"/><path class=\"point\" transform=\"translate(279.44,184.36)\" d=\"M3,0A3,3 0 1,1 0,-3A3,3 0 0,1 3,0Z\" style=\"opacity: 1; stroke-width: 0px; fill: rgb(128, 128, 128); fill-opacity: 1;\"/><path class=\"point\" transform=\"translate(414.22,24.09)\" d=\"M3,0A3,3 0 1,1 0,-3A3,3 0 0,1 3,0Z\" style=\"opacity: 1; stroke-width: 0px; fill: rgb(128, 128, 128); fill-opacity: 1;\"/><path class=\"point\" transform=\"translate(527.1,350.39)\" d=\"M3,0A3,3 0 1,1 0,-3A3,3 0 0,1 3,0Z\" style=\"opacity: 1; stroke-width: 0px; fill: rgb(128, 128, 128); fill-opacity: 1;\"/><path class=\"point\" transform=\"translate(96.4,336.87)\" d=\"M3,0A3,3 0 1,1 0,-3A3,3 0 0,1 3,0Z\" style=\"opacity: 1; stroke-width: 0px; fill: rgb(128, 128, 128); fill-opacity: 1;\"/><path class=\"point\" transform=\"translate(90.87,23.74)\" d=\"M3,0A3,3 0 1,1 0,-3A3,3 0 0,1 3,0Z\" style=\"opacity: 1; stroke-width: 0px; fill: rgb(128, 128, 128); fill-opacity: 1;\"/><path class=\"point\" transform=\"translate(268.68,362.05)\" d=\"M3,0A3,3 0 1,1 0,-3A3,3 0 0,1 3,0Z\" style=\"opacity: 1; stroke-width: 0px; fill: rgb(128, 128, 128); fill-opacity: 1;\"/><path class=\"point\" transform=\"translate(288.6,23.42)\" d=\"M3,0A3,3 0 1,1 0,-3A3,3 0 0,1 3,0Z\" style=\"opacity: 1; stroke-width: 0px; fill: rgb(128, 128, 128); fill-opacity: 1;\"/><path class=\"point\" transform=\"translate(550.59,123.98)\" d=\"M3,0A3,3 0 1,1 0,-3A3,3 0 0,1 3,0Z\" style=\"opacity: 1; stroke-width: 0px; fill: rgb(128, 128, 128); fill-opacity: 1;\"/><path class=\"point\" transform=\"translate(328.39,66.55)\" d=\"M3,0A3,3 0 1,1 0,-3A3,3 0 0,1 3,0Z\" style=\"opacity: 1; stroke-width: 0px; fill: rgb(128, 128, 128); fill-opacity: 1;\"/><path class=\"point\" transform=\"translate(529.05,222.81)\" d=\"M3,0A3,3 0 1,1 0,-3A3,3 0 0,1 3,0Z\" style=\"opacity: 1; stroke-width: 0px; fill: rgb(128, 128, 128); fill-opacity: 1;\"/><path class=\"point\" transform=\"translate(470.32,117.15)\" d=\"M3,0A3,3 0 1,1 0,-3A3,3 0 0,1 3,0Z\" style=\"opacity: 1; stroke-width: 0px; fill: rgb(128, 128, 128); fill-opacity: 1;\"/><path class=\"point\" transform=\"translate(431.17,165.23)\" d=\"M3,0A3,3 0 1,1 0,-3A3,3 0 0,1 3,0Z\" style=\"opacity: 1; stroke-width: 0px; fill: rgb(128, 128, 128); fill-opacity: 1;\"/><path class=\"point\" transform=\"translate(494.79,24.64)\" d=\"M3,0A3,3 0 1,1 0,-3A3,3 0 0,1 3,0Z\" style=\"opacity: 1; stroke-width: 0px; fill: rgb(128, 128, 128); fill-opacity: 1;\"/><path class=\"point\" transform=\"translate(392.01,263.3)\" d=\"M3,0A3,3 0 1,1 0,-3A3,3 0 0,1 3,0Z\" style=\"opacity: 1; stroke-width: 0px; fill: rgb(128, 128, 128); fill-opacity: 1;\"/><path class=\"point\" transform=\"translate(471.79,24.3)\" d=\"M3,0A3,3 0 1,1 0,-3A3,3 0 0,1 3,0Z\" style=\"opacity: 1; stroke-width: 0px; fill: rgb(128, 128, 128); fill-opacity: 1;\"/><path class=\"point\" transform=\"translate(451.48,24.16)\" d=\"M3,0A3,3 0 1,1 0,-3A3,3 0 0,1 3,0Z\" style=\"opacity: 1; stroke-width: 0px; fill: rgb(128, 128, 128); fill-opacity: 1;\"/><path class=\"point\" transform=\"translate(326.55,26.46)\" d=\"M3,0A3,3 0 1,1 0,-3A3,3 0 0,1 3,0Z\" style=\"opacity: 1; stroke-width: 0px; fill: rgb(128, 128, 128); fill-opacity: 1;\"/><path class=\"point\" transform=\"translate(425.29,183.64)\" d=\"M3,0A3,3 0 1,1 0,-3A3,3 0 0,1 3,0Z\" style=\"opacity: 1; stroke-width: 0px; fill: rgb(128, 128, 128); fill-opacity: 1;\"/><path class=\"point\" transform=\"translate(141.42,351.9)\" d=\"M3,0A3,3 0 1,1 0,-3A3,3 0 0,1 3,0Z\" style=\"opacity: 1; stroke-width: 0px; fill: rgb(128, 128, 128); fill-opacity: 1;\"/><path class=\"point\" transform=\"translate(77.8,136.84)\" d=\"M3,0A3,3 0 1,1 0,-3A3,3 0 0,1 3,0Z\" style=\"opacity: 1; stroke-width: 0px; fill: rgb(128, 128, 128); fill-opacity: 1;\"/><path class=\"point\" transform=\"translate(186.87,24.08)\" d=\"M3,0A3,3 0 1,1 0,-3A3,3 0 0,1 3,0Z\" style=\"opacity: 1; stroke-width: 0px; fill: rgb(128, 128, 128); fill-opacity: 1;\"/><path class=\"point\" transform=\"translate(315.66,365.95)\" d=\"M3,0A3,3 0 1,1 0,-3A3,3 0 0,1 3,0Z\" style=\"opacity: 1; stroke-width: 0px; fill: rgb(128, 128, 128); fill-opacity: 1;\"/><path class=\"point\" transform=\"translate(486.32,23.62)\" d=\"M3,0A3,3 0 1,1 0,-3A3,3 0 0,1 3,0Z\" style=\"opacity: 1; stroke-width: 0px; fill: rgb(128, 128, 128); fill-opacity: 1;\"/><path class=\"point\" transform=\"translate(495.77,286.41)\" d=\"M3,0A3,3 0 1,1 0,-3A3,3 0 0,1 3,0Z\" style=\"opacity: 1; stroke-width: 0px; fill: rgb(128, 128, 128); fill-opacity: 1;\"/><path class=\"point\" transform=\"translate(464.45,190.61)\" d=\"M3,0A3,3 0 1,1 0,-3A3,3 0 0,1 3,0Z\" style=\"opacity: 1; stroke-width: 0px; fill: rgb(128, 128, 128); fill-opacity: 1;\"/><path class=\"point\" transform=\"translate(180.09,26.3)\" d=\"M3,0A3,3 0 1,1 0,-3A3,3 0 0,1 3,0Z\" style=\"opacity: 1; stroke-width: 0px; fill: rgb(128, 128, 128); fill-opacity: 1;\"/><path class=\"point\" transform=\"translate(398.86,258.89)\" d=\"M3,0A3,3 0 1,1 0,-3A3,3 0 0,1 3,0Z\" style=\"opacity: 1; stroke-width: 0px; fill: rgb(128, 128, 128); fill-opacity: 1;\"/><path class=\"point\" transform=\"translate(284.34,350.07)\" d=\"M3,0A3,3 0 1,1 0,-3A3,3 0 0,1 3,0Z\" style=\"opacity: 1; stroke-width: 0px; fill: rgb(128, 128, 128); fill-opacity: 1;\"/><path class=\"point\" transform=\"translate(65.07,220.91)\" d=\"M3,0A3,3 0 1,1 0,-3A3,3 0 0,1 3,0Z\" style=\"opacity: 1; stroke-width: 0px; fill: rgb(128, 128, 128); fill-opacity: 1;\"/><path class=\"point\" transform=\"translate(310.03,34.11)\" d=\"M3,0A3,3 0 1,1 0,-3A3,3 0 0,1 3,0Z\" style=\"opacity: 1; stroke-width: 0px; fill: rgb(128, 128, 128); fill-opacity: 1;\"/><path class=\"point\" transform=\"translate(70.95,216.02)\" d=\"M3,0A3,3 0 1,1 0,-3A3,3 0 0,1 3,0Z\" style=\"opacity: 1; stroke-width: 0px; fill: rgb(128, 128, 128); fill-opacity: 1;\"/><path class=\"point\" transform=\"translate(132.33,23.81)\" d=\"M3,0A3,3 0 1,1 0,-3A3,3 0 0,1 3,0Z\" style=\"opacity: 1; stroke-width: 0px; fill: rgb(128, 128, 128); fill-opacity: 1;\"/></g><g class=\"text\"/></g></g></g><g class=\"overplot\"/><path class=\"xlines-above crisp\" d=\"M0,0\" style=\"fill: none;\"/><path class=\"ylines-above crisp\" d=\"M0,0\" style=\"fill: none;\"/><g class=\"overlines-above\"/><g class=\"xaxislayer-above\"><g class=\"xtick\"><text text-anchor=\"middle\" x=\"0\" y=\"463\" transform=\"translate(72,0)\" style=\"font-family: 'Open Sans', verdana, arial, sans-serif; font-size: 12px; fill: rgb(68, 68, 68); fill-opacity: 1; white-space: pre;\">0</text></g><g class=\"xtick\"><text text-anchor=\"middle\" x=\"0\" y=\"463\" transform=\"translate(150.31,0)\" style=\"font-family: 'Open Sans', verdana, arial, sans-serif; font-size: 12px; fill: rgb(68, 68, 68); fill-opacity: 1; white-space: pre;\">10</text></g><g class=\"xtick\"><text text-anchor=\"middle\" x=\"0\" y=\"463\" transform=\"translate(228.62,0)\" style=\"font-family: 'Open Sans', verdana, arial, sans-serif; font-size: 12px; fill: rgb(68, 68, 68); fill-opacity: 1; white-space: pre;\">20</text></g><g class=\"xtick\"><text text-anchor=\"middle\" x=\"0\" y=\"463\" transform=\"translate(306.93,0)\" style=\"font-family: 'Open Sans', verdana, arial, sans-serif; font-size: 12px; fill: rgb(68, 68, 68); fill-opacity: 1; white-space: pre;\">30</text></g><g class=\"xtick\"><text text-anchor=\"middle\" x=\"0\" y=\"463\" transform=\"translate(385.24,0)\" style=\"font-family: 'Open Sans', verdana, arial, sans-serif; font-size: 12px; fill: rgb(68, 68, 68); fill-opacity: 1; white-space: pre;\">40</text></g><g class=\"xtick\"><text text-anchor=\"middle\" x=\"0\" y=\"463\" transform=\"translate(463.55,0)\" style=\"font-family: 'Open Sans', verdana, arial, sans-serif; font-size: 12px; fill: rgb(68, 68, 68); fill-opacity: 1; white-space: pre;\">50</text></g><g class=\"xtick\"><text text-anchor=\"middle\" x=\"0\" y=\"463\" transform=\"translate(541.86,0)\" style=\"font-family: 'Open Sans', verdana, arial, sans-serif; font-size: 12px; fill: rgb(68, 68, 68); fill-opacity: 1; white-space: pre;\">60</text></g><g class=\"xtick\"><text text-anchor=\"middle\" x=\"0\" y=\"463\" transform=\"translate(620.17,0)\" style=\"font-family: 'Open Sans', verdana, arial, sans-serif; font-size: 12px; fill: rgb(68, 68, 68); fill-opacity: 1; white-space: pre;\">70</text></g></g><g class=\"yaxislayer-above\"><g class=\"ytick\"><text text-anchor=\"end\" x=\"49\" y=\"4.199999999999999\" transform=\"translate(0,427.49)\" style=\"font-family: 'Open Sans', verdana, arial, sans-serif; font-size: 12px; fill: rgb(68, 68, 68); fill-opacity: 1; white-space: pre;\">0</text></g><g class=\"ytick\"><text text-anchor=\"end\" x=\"49\" y=\"4.199999999999999\" transform=\"translate(0,358.61)\" style=\"font-family: 'Open Sans', verdana, arial, sans-serif; font-size: 12px; fill: rgb(68, 68, 68); fill-opacity: 1; white-space: pre;\">0.2</text></g><g class=\"ytick\"><text text-anchor=\"end\" x=\"49\" y=\"4.199999999999999\" transform=\"translate(0,289.74)\" style=\"font-family: 'Open Sans', verdana, arial, sans-serif; font-size: 12px; fill: rgb(68, 68, 68); fill-opacity: 1; white-space: pre;\">0.4</text></g><g class=\"ytick\"><text text-anchor=\"end\" x=\"49\" y=\"4.199999999999999\" transform=\"translate(0,220.86)\" style=\"font-family: 'Open Sans', verdana, arial, sans-serif; font-size: 12px; fill: rgb(68, 68, 68); fill-opacity: 1; white-space: pre;\">0.6</text></g><g class=\"ytick\"><text text-anchor=\"end\" x=\"49\" y=\"4.199999999999999\" transform=\"translate(0,151.98000000000002)\" style=\"font-family: 'Open Sans', verdana, arial, sans-serif; font-size: 12px; fill: rgb(68, 68, 68); fill-opacity: 1; white-space: pre;\">0.8</text></g><g class=\"ytick\"><text text-anchor=\"end\" x=\"49\" y=\"4.199999999999999\" transform=\"translate(0,83.11)\" style=\"font-family: 'Open Sans', verdana, arial, sans-serif; font-size: 12px; fill: rgb(68, 68, 68); fill-opacity: 1; white-space: pre;\">1</text></g></g><g class=\"overaxes-above\"/></g></g><g class=\"polarlayer\"/><g class=\"ternarylayer\"/><g class=\"geolayer\"/><g class=\"funnelarealayer\"/><g class=\"pielayer\"/><g class=\"treemaplayer\"/><g class=\"sunburstlayer\"/><g class=\"glimages\"/><defs id=\"topdefs-cb1ea6\"><g class=\"clips\"/></defs><g class=\"layer-above\"><g class=\"imagelayer\"/><g class=\"shapelayer\"/></g><g class=\"infolayer\"><g class=\"g-gtitle\"/><g class=\"g-xtitle\"/><g class=\"g-ytitle\"/></g></svg>"
      ],
      "text/html": [
       "<div\n",
       "    class=\"webio-mountpoint\"\n",
       "    data-webio-mountpoint=\"8532587879496934677\"\n",
       ">\n",
       "    <script>\n",
       "    (function(){\n",
       "    // Some integrations (namely, IJulia/Jupyter) use an alternate render pathway than\n",
       "    // just putting the html on the page. If WebIO isn't defined, then it's pretty likely\n",
       "    // that we're in one of those situations and the integration just isn't installed\n",
       "    // correctly.\n",
       "    if (typeof window.WebIO === \"undefined\") {\n",
       "        document\n",
       "            .querySelector('[data-webio-mountpoint=\"8532587879496934677\"]')\n",
       "            .innerHTML = (\n",
       "                '<div style=\"padding: 1em; background-color: #f8d6da; border: 1px solid #f5c6cb; font-weight: bold;\">' +\n",
       "                '<p><strong>WebIO not detected.</strong></p>' +\n",
       "                '<p>Please read ' +\n",
       "                '<a href=\"https://juliagizmos.github.io/WebIO.jl/latest/troubleshooting/not-detected/\" target=\"_blank\">the troubleshooting guide</a> ' +\n",
       "                'for more information on how to resolve this issue.</p>' +\n",
       "                '<p><a href=\"https://juliagizmos.github.io/WebIO.jl/latest/troubleshooting/not-detected/\" target=\"_blank\">https://juliagizmos.github.io/WebIO.jl/latest/troubleshooting/not-detected/</a></p>' +\n",
       "                '</div>'\n",
       "            );\n",
       "        return;\n",
       "    }\n",
       "    WebIO.mount(\n",
       "        document.querySelector('[data-webio-mountpoint=\"8532587879496934677\"]'),\n",
       "        {\"props\":{},\"nodeType\":\"Scope\",\"type\":\"node\",\"instanceArgs\":{\"imports\":{\"data\":[{\"name\":\"Plotly\",\"type\":\"js\",\"url\":\"\\/assetserver\\/2178a8d06f9a8c65d859d06b4046edd396027e54-plotly.min.js\"},{\"name\":null,\"type\":\"js\",\"url\":\"\\/assetserver\\/bfdea5073d48cb1c02a6ebf79fdeb36320854e28-plotly_webio.bundle.js\"}],\"type\":\"async_block\"},\"id\":\"14531529895801320264\",\"handlers\":{\"_toImage\":[\"(function (options){return this.Plotly.toImage(this.plotElem,options).then((function (data){return WebIO.setval({\\\"name\\\":\\\"image\\\",\\\"scope\\\":\\\"14531529895801320264\\\",\\\"id\\\":\\\"10081136364184332108\\\",\\\"type\\\":\\\"observable\\\"},data)}))})\"],\"__get_gd_contents\":[\"(function (prop){prop==\\\"data\\\" ? (WebIO.setval({\\\"name\\\":\\\"__gd_contents\\\",\\\"scope\\\":\\\"14531529895801320264\\\",\\\"id\\\":\\\"16873684992738385581\\\",\\\"type\\\":\\\"observable\\\"},this.plotElem.data)) : undefined; return prop==\\\"layout\\\" ? (WebIO.setval({\\\"name\\\":\\\"__gd_contents\\\",\\\"scope\\\":\\\"14531529895801320264\\\",\\\"id\\\":\\\"16873684992738385581\\\",\\\"type\\\":\\\"observable\\\"},this.plotElem.layout)) : undefined})\"],\"_downloadImage\":[\"(function (options){return this.Plotly.downloadImage(this.plotElem,options)})\"],\"_commands\":[\"(function (args){var fn=args.shift(); var elem=this.plotElem; var Plotly=this.Plotly; args.unshift(elem); return Plotly[fn].apply(this,args)})\"]},\"systemjs_options\":null,\"mount_callbacks\":[\"function () {\\n    var handler = ((function (Plotly,PlotlyWebIO){PlotlyWebIO.init(WebIO); var gd=this.dom.querySelector(\\\"#plot-fcdd860d-f1ec-4b76-8497-b1dead40284a\\\"); this.plotElem=gd; this.Plotly=Plotly; (window.Blink!==undefined) ? (gd.style.width=\\\"100%\\\", gd.style.height=\\\"100vh\\\", gd.style.marginLeft=\\\"0%\\\", gd.style.marginTop=\\\"0vh\\\") : undefined; window.onresize=(function (){return Plotly.Plots.resize(gd)}); Plotly.newPlot(gd,[{\\\"showlegend\\\":false,\\\"mode\\\":\\\"lines\\\",\\\"line\\\":{\\\"color\\\":\\\"gray\\\"},\\\"y\\\":[0.9916363954544067,0.9916363954544067,null,0.9916363954544067,0.9716590046882629,null,0.9916363954544067,0.9907206296920776,null],\\\"type\\\":\\\"scatter\\\",\\\"hoverinfo\\\":\\\"skip\\\",\\\"x\\\":[16.125,20.1875,null,16.125,16.125,null,20.1875,20.1875,null]},{\\\"showlegend\\\":false,\\\"mode\\\":\\\"lines\\\",\\\"line\\\":{\\\"color\\\":\\\"gray\\\"},\\\"y\\\":[0.9716590046882629,0.9716590046882629,null,0.9716590046882629,0.045276038348674774,null,0.9716590046882629,0.0,null],\\\"type\\\":\\\"scatter\\\",\\\"hoverinfo\\\":\\\"skip\\\",\\\"x\\\":[15.25,17.0,null,15.25,15.25,null,17.0,17.0,null]},{\\\"showlegend\\\":false,\\\"mode\\\":\\\"lines\\\",\\\"line\\\":{\\\"color\\\":\\\"gray\\\"},\\\"y\\\":[0.934910774230957,0.934910774230957,null,0.934910774230957,0.0,null,0.934910774230957,0.0,null],\\\"type\\\":\\\"scatter\\\",\\\"hoverinfo\\\":\\\"skip\\\",\\\"x\\\":[18.0,19.0,null,18.0,18.0,null,19.0,19.0,null]},{\\\"showlegend\\\":false,\\\"mode\\\":\\\"lines\\\",\\\"line\\\":{\\\"color\\\":\\\"gray\\\"},\\\"y\\\":[0.9982056617736816,0.9982056617736816,null,0.9982056617736816,0.7071014642715454,null,0.9982056617736816,0.9520471096038818,null],\\\"type\\\":\\\"scatter\\\",\\\"hoverinfo\\\":\\\"skip\\\",\\\"x\\\":[67.5,69.5,null,67.5,67.5,null,69.5,69.5,null]},{\\\"showlegend\\\":false,\\\"mode\\\":\\\"lines\\\",\\\"line\\\":{\\\"color\\\":\\\"gray\\\"},\\\"y\\\":[0.9816662073135376,0.9816662073135376,null,0.9816662073135376,0.235430508852005,null,0.9816662073135376,0.42010676860809326,null],\\\"type\\\":\\\"scatter\\\",\\\"hoverinfo\\\":\\\"skip\\\",\\\"x\\\":[60.5,64.75,null,60.5,60.5,null,64.75,64.75,null]},{\\\"showlegend\\\":false,\\\"mode\\\":\\\"lines\\\",\\\"line\\\":{\\\"color\\\":\\\"gray\\\"},\\\"y\\\":[0.014471392147243023,0.014471392147243023,null,0.014471392147243023,0.0,null,0.014471392147243023,0.0,null],\\\"type\\\":\\\"scatter\\\",\\\"hoverinfo\\\":\\\"skip\\\",\\\"x\\\":[14.0,15.0,null,14.0,14.0,null,15.0,15.0,null]},{\\\"showlegend\\\":false,\\\"mode\\\":\\\"lines\\\",\\\"line\\\":{\\\"color\\\":\\\"gray\\\"},\\\"y\\\":[0.9778701663017273,0.9778701663017273,null,0.9778701663017273,0.2947348356246948,null,0.9778701663017273,0.3153366148471832,null],\\\"type\\\":\\\"scatter\\\",\\\"hoverinfo\\\":\\\"skip\\\",\\\"x\\\":[44.5,48.125,null,44.5,44.5,null,48.125,48.125,null]},{\\\"showlegend\\\":false,\\\"mode\\\":\\\"lines\\\",\\\"line\\\":{\\\"color\\\":\\\"gray\\\"},\\\"y\\\":[0.9639829993247986,0.9639829993247986,null,0.9639829993247986,0.03323237597942352,null,0.9639829993247986,0.0,null],\\\"type\\\":\\\"scatter\\\",\\\"hoverinfo\\\":\\\"skip\\\",\\\"x\\\":[28.25,30.0,null,28.25,28.25,null,30.0,30.0,null]},{\\\"showlegend\\\":false,\\\"mode\\\":\\\"lines\\\",\\\"line\\\":{\\\"color\\\":\\\"gray\\\"},\\\"y\\\":[0.3452591598033905,0.3452591598033905,null,0.3452591598033905,0.0,null,0.3452591598033905,0.0,null],\\\"type\\\":\\\"scatter\\\",\\\"hoverinfo\\\":\\\"skip\\\",\\\"x\\\":[20.0,21.0,null,20.0,20.0,null,21.0,21.0,null]},{\\\"showlegend\\\":false,\\\"mode\\\":\\\"lines\\\",\\\"line\\\":{\\\"color\\\":\\\"gray\\\"},\\\"y\\\":[0.9995874166488647,0.9995874166488647,null,0.9995874166488647,0.10177281498908997,null,0.9995874166488647,0.9991055130958557,null],\\\"type\\\":\\\"scatter\\\",\\\"hoverinfo\\\":\\\"skip\\\",\\\"x\\\":[1.5,34.043701171875,null,1.5,1.5,null,34.043701171875,34.043701171875,null]},{\\\"showlegend\\\":false,\\\"mode\\\":\\\"lines\\\",\\\"line\\\":{\\\"color\\\":\\\"gray\\\"},\\\"y\\\":[0.26297613978385925,0.26297613978385925,null,0.26297613978385925,0.0,null,0.26297613978385925,0.0,null],\\\"type\\\":\\\"scatter\\\",\\\"hoverinfo\\\":\\\"skip\\\",\\\"x\\\":[22.0,23.0,null,22.0,22.0,null,23.0,23.0,null]},{\\\"showlegend\\\":false,\\\"mode\\\":\\\"lines\\\",\\\"line\\\":{\\\"color\\\":\\\"gray\\\"},\\\"y\\\":[0.6244302988052368,0.6244302988052368,null,0.6244302988052368,0.5317713618278503,null,0.6244302988052368,0.0,null],\\\"type\\\":\\\"scatter\\\",\\\"hoverinfo\\\":\\\"skip\\\",\\\"x\\\":[32.875,36.0,null,32.875,32.875,null,36.0,36.0,null]},{\\\"showlegend\\\":false,\\\"mode\\\":\\\"lines\\\",\\\"line\\\":{\\\"color\\\":\\\"gray\\\"},\\\"y\\\":[0.39860501885414124,0.39860501885414124,null,0.39860501885414124,0.0,null,0.39860501885414124,0.0,null],\\\"type\\\":\\\"scatter\\\",\\\"hoverinfo\\\":\\\"skip\\\",\\\"x\\\":[54.0,55.0,null,54.0,54.0,null,55.0,55.0,null]},{\\\"showlegend\\\":false,\\\"mode\\\":\\\"lines\\\",\\\"line\\\":{\\\"color\\\":\\\"gray\\\"},\\\"y\\\":[0.991387665271759,0.991387665271759,null,0.991387665271759,0.9778701663017273,null,0.991387665271759,0.0,null],\\\"type\\\":\\\"scatter\\\",\\\"hoverinfo\\\":\\\"skip\\\",\\\"x\\\":[46.3125,50.0,null,46.3125,46.3125,null,50.0,50.0,null]},{\\\"showlegend\\\":false,\\\"mode\\\":\\\"lines\\\",\\\"line\\\":{\\\"color\\\":\\\"gray\\\"},\\\"y\\\":[0.02585447020828724,0.02585447020828724,null,0.02585447020828724,0.0,null,0.02585447020828724,0.0,null],\\\"type\\\":\\\"scatter\\\",\\\"hoverinfo\\\":\\\"skip\\\",\\\"x\\\":[27.0,28.0,null,27.0,27.0,null,28.0,28.0,null]},{\\\"showlegend\\\":false,\\\"mode\\\":\\\"lines\\\",\\\"line\\\":{\\\"color\\\":\\\"gray\\\"},\\\"y\\\":[0.9520471096038818,0.9520471096038818,null,0.9520471096038818,0.0,null,0.9520471096038818,0.0,null],\\\"type\\\":\\\"scatter\\\",\\\"hoverinfo\\\":\\\"skip\\\",\\\"x\\\":[69.0,70.0,null,69.0,69.0,null,70.0,70.0,null]},{\\\"showlegend\\\":false,\\\"mode\\\":\\\"lines\\\",\\\"line\\\":{\\\"color\\\":\\\"gray\\\"},\\\"y\\\":[0.40723323822021484,0.40723323822021484,null,0.40723323822021484,0.004472782835364342,null,0.40723323822021484,0.0,null],\\\"type\\\":\\\"scatter\\\",\\\"hoverinfo\\\":\\\"skip\\\",\\\"x\\\":[37.5,39.0,null,37.5,37.5,null,39.0,39.0,null]},{\\\"showlegend\\\":false,\\\"mode\\\":\\\"lines\\\",\\\"line\\\":{\\\"color\\\":\\\"gray\\\"},\\\"y\\\":[0.4591154456138611,0.4591154456138611,null,0.4591154456138611,0.05057865381240845,null,0.4591154456138611,0.0,null],\\\"type\\\":\\\"scatter\\\",\\\"hoverinfo\\\":\\\"skip\\\",\\\"x\\\":[33.5,35.0,null,33.5,33.5,null,35.0,35.0,null]},{\\\"showlegend\\\":false,\\\"mode\\\":\\\"lines\\\",\\\"line\\\":{\\\"color\\\":\\\"gray\\\"},\\\"y\\\":[0.10177281498908997,0.10177281498908997,null,0.10177281498908997,0.0,null,0.10177281498908997,0.0,null],\\\"type\\\":\\\"scatter\\\",\\\"hoverinfo\\\":\\\"skip\\\",\\\"x\\\":[1.0,2.0,null,1.0,1.0,null,2.0,2.0,null]},{\\\"showlegend\\\":false,\\\"mode\\\":\\\"lines\\\",\\\"line\\\":{\\\"color\\\":\\\"gray\\\"},\\\"y\\\":[0.25340378284454346,0.25340378284454346,null,0.25340378284454346,0.0,null,0.25340378284454346,0.0,null],\\\"type\\\":\\\"scatter\\\",\\\"hoverinfo\\\":\\\"skip\\\",\\\"x\\\":[42.0,43.0,null,42.0,42.0,null,43.0,43.0,null]},{\\\"showlegend\\\":false,\\\"mode\\\":\\\"lines\\\",\\\"line\\\":{\\\"color\\\":\\\"gray\\\"},\\\"y\\\":[0.9852635264396667,0.9852635264396667,null,0.9852635264396667,0.9788056015968323,null,0.9852635264396667,0.0,null],\\\"type\\\":\\\"scatter\\\",\\\"hoverinfo\\\":\\\"skip\\\",\\\"x\\\":[11.5,13.0,null,11.5,11.5,null,13.0,13.0,null]},{\\\"showlegend\\\":false,\\\"mode\\\":\\\"lines\\\",\\\"line\\\":{\\\"color\\\":\\\"gray\\\"},\\\"y\\\":[0.9930856823921204,0.9930856823921204,null,0.9930856823921204,0.9852635264396667,null,0.9930856823921204,0.9916363954544067,null],\\\"type\\\":\\\"scatter\\\",\\\"hoverinfo\\\":\\\"skip\\\",\\\"x\\\":[12.25,18.15625,null,12.25,12.25,null,18.15625,18.15625,null]},{\\\"showlegend\\\":false,\\\"mode\\\":\\\"lines\\\",\\\"line\\\":{\\\"color\\\":\\\"gray\\\"},\\\"y\\\":[0.9874668121337891,0.9874668121337891,null,0.9874668121337891,0.3452591598033905,null,0.9874668121337891,0.4249081015586853,null],\\\"type\\\":\\\"scatter\\\",\\\"hoverinfo\\\":\\\"skip\\\",\\\"x\\\":[20.5,23.25,null,20.5,20.5,null,23.25,23.25,null]},{\\\"showlegend\\\":false,\\\"mode\\\":\\\"lines\\\",\\\"line\\\":{\\\"color\\\":\\\"gray\\\"},\\\"y\\\":[0.9967931509017944,0.9967931509017944,null,0.9967931509017944,0.4191717803478241,null,0.9967931509017944,0.9923674464225769,null],\\\"type\\\":\\\"scatter\\\",\\\"hoverinfo\\\":\\\"skip\\\",\\\"x\\\":[25.5,34.0078125,null,25.5,25.5,null,34.0078125,34.0078125,null]},{\\\"showlegend\\\":false,\\\"mode\\\":\\\"lines\\\",\\\"line\\\":{\\\"color\\\":\\\"gray\\\"},\\\"y\\\":[0.2514660358428955,0.2514660358428955,null,0.2514660358428955,0.03593067452311516,null,0.2514660358428955,0.04964734986424446,null],\\\"type\\\":\\\"scatter\\\",\\\"hoverinfo\\\":\\\"skip\\\",\\\"x\\\":[62.5,64.5,null,62.5,62.5,null,64.5,64.5,null]},{\\\"showlegend\\\":false,\\\"mode\\\":\\\"lines\\\",\\\"line\\\":{\\\"color\\\":\\\"gray\\\"},\\\"y\\\":[0.03593067452311516,0.03593067452311516,null,0.03593067452311516,0.0,null,0.03593067452311516,0.0,null],\\\"type\\\":\\\"scatter\\\",\\\"hoverinfo\\\":\\\"skip\\\",\\\"x\\\":[62.0,63.0,null,62.0,62.0,null,63.0,63.0,null]},{\\\"showlegend\\\":false,\\\"mode\\\":\\\"lines\\\",\\\"line\\\":{\\\"color\\\":\\\"gray\\\"},\\\"y\\\":[0.4249081015586853,0.4249081015586853,null,0.4249081015586853,0.26297613978385925,null,0.4249081015586853,0.0,null],\\\"type\\\":\\\"scatter\\\",\\\"hoverinfo\\\":\\\"skip\\\",\\\"x\\\":[22.5,24.0,null,22.5,22.5,null,24.0,24.0,null]},{\\\"showlegend\\\":false,\\\"mode\\\":\\\"lines\\\",\\\"line\\\":{\\\"color\\\":\\\"gray\\\"},\\\"y\\\":[0.9934521913528442,0.9934521913528442,null,0.9934521913528442,0.25340378284454346,null,0.9934521913528442,0.991387665271759,null],\\\"type\\\":\\\"scatter\\\",\\\"hoverinfo\\\":\\\"skip\\\",\\\"x\\\":[42.5,48.15625,null,42.5,42.5,null,48.15625,48.15625,null]},{\\\"showlegend\\\":false,\\\"mode\\\":\\\"lines\\\",\\\"line\\\":{\\\"color\\\":\\\"gray\\\"},\\\"y\\\":[0.8232181072235107,0.8232181072235107,null,0.8232181072235107,0.726937472820282,null,0.8232181072235107,0.0,null],\\\"type\\\":\\\"scatter\\\",\\\"hoverinfo\\\":\\\"skip\\\",\\\"x\\\":[57.25,59.0,null,57.25,57.25,null,59.0,59.0,null]},{\\\"showlegend\\\":false,\\\"mode\\\":\\\"lines\\\",\\\"line\\\":{\\\"color\\\":\\\"gray\\\"},\\\"y\\\":[0.0021459227427840233,0.0021459227427840233,null,0.0021459227427840233,0.0,null,0.0021459227427840233,0.0,null],\\\"type\\\":\\\"scatter\\\",\\\"hoverinfo\\\":\\\"skip\\\",\\\"x\\\":[46.0,47.0,null,46.0,46.0,null,47.0,47.0,null]},{\\\"showlegend\\\":false,\\\"mode\\\":\\\"lines\\\",\\\"line\\\":{\\\"color\\\":\\\"gray\\\"},\\\"y\\\":[0.5875521898269653,0.5875521898269653,null,0.5875521898269653,0.0,null,0.5875521898269653,0.0,null],\\\"type\\\":\\\"scatter\\\",\\\"hoverinfo\\\":\\\"skip\\\",\\\"x\\\":[3.0,4.0,null,3.0,3.0,null,4.0,4.0,null]},{\\\"showlegend\\\":false,\\\"mode\\\":\\\"lines\\\",\\\"line\\\":{\\\"color\\\":\\\"gray\\\"},\\\"y\\\":[0.03323237597942352,0.03323237597942352,null,0.03323237597942352,0.02585447020828724,null,0.03323237597942352,0.0,null],\\\"type\\\":\\\"scatter\\\",\\\"hoverinfo\\\":\\\"skip\\\",\\\"x\\\":[27.5,29.0,null,27.5,27.5,null,29.0,29.0,null]},{\\\"showlegend\\\":false,\\\"mode\\\":\\\"lines\\\",\\\"line\\\":{\\\"color\\\":\\\"gray\\\"},\\\"y\\\":[0.4191717803478241,0.4191717803478241,null,0.4191717803478241,0.0,null,0.4191717803478241,0.0,null],\\\"type\\\":\\\"scatter\\\",\\\"hoverinfo\\\":\\\"skip\\\",\\\"x\\\":[25.0,26.0,null,25.0,25.0,null,26.0,26.0,null]},{\\\"showlegend\\\":false,\\\"mode\\\":\\\"lines\\\",\\\"line\\\":{\\\"color\\\":\\\"gray\\\"},\\\"y\\\":[0.9923674464225769,0.9923674464225769,null,0.9923674464225769,0.9639829993247986,null,0.9923674464225769,0.990268886089325,null],\\\"type\\\":\\\"scatter\\\",\\\"hoverinfo\\\":\\\"skip\\\",\\\"x\\\":[29.125,38.890625,null,29.125,29.125,null,38.890625,38.890625,null]},{\\\"showlegend\\\":false,\\\"mode\\\":\\\"lines\\\",\\\"line\\\":{\\\"color\\\":\\\"gray\\\"},\\\"y\\\":[0.2947348356246948,0.2947348356246948,null,0.2947348356246948,0.0,null,0.2947348356246948,0.0,null],\\\"type\\\":\\\"scatter\\\",\\\"hoverinfo\\\":\\\"skip\\\",\\\"x\\\":[44.0,45.0,null,44.0,44.0,null,45.0,45.0,null]},{\\\"showlegend\\\":false,\\\"mode\\\":\\\"lines\\\",\\\"line\\\":{\\\"color\\\":\\\"gray\\\"},\\\"y\\\":[0.995292067527771,0.995292067527771,null,0.995292067527771,0.0889119952917099,null,0.995292067527771,0.9930856823921204,null],\\\"type\\\":\\\"scatter\\\",\\\"hoverinfo\\\":\\\"skip\\\",\\\"x\\\":[9.5,15.203125,null,9.5,9.5,null,15.203125,15.203125,null]},{\\\"showlegend\\\":false,\\\"mode\\\":\\\"lines\\\",\\\"line\\\":{\\\"color\\\":\\\"gray\\\"},\\\"y\\\":[0.9788056015968323,0.9788056015968323,null,0.9788056015968323,0.0,null,0.9788056015968323,0.0,null],\\\"type\\\":\\\"scatter\\\",\\\"hoverinfo\\\":\\\"skip\\\",\\\"x\\\":[11.0,12.0,null,11.0,11.0,null,12.0,12.0,null]},{\\\"showlegend\\\":false,\\\"mode\\\":\\\"lines\\\",\\\"line\\\":{\\\"color\\\":\\\"gray\\\"},\\\"y\\\":[0.5317713618278503,0.5317713618278503,null,0.5317713618278503,0.015783440321683884,null,0.5317713618278503,0.4591154456138611,null],\\\"type\\\":\\\"scatter\\\",\\\"hoverinfo\\\":\\\"skip\\\",\\\"x\\\":[31.5,34.25,null,31.5,31.5,null,34.25,34.25,null]},{\\\"showlegend\\\":false,\\\"mode\\\":\\\"lines\\\",\\\"line\\\":{\\\"color\\\":\\\"gray\\\"},\\\"y\\\":[0.9971560835838318,0.9971560835838318,null,0.9971560835838318,0.9934521913528442,null,0.9971560835838318,0.996930718421936,null],\\\"type\\\":\\\"scatter\\\",\\\"hoverinfo\\\":\\\"skip\\\",\\\"x\\\":[45.328125,54.84375,null,45.328125,45.328125,null,54.84375,54.84375,null]},{\\\"showlegend\\\":false,\\\"mode\\\":\\\"lines\\\",\\\"line\\\":{\\\"color\\\":\\\"gray\\\"},\\\"y\\\":[0.04964734986424446,0.04964734986424446,null,0.04964734986424446,0.0,null,0.04964734986424446,0.0,null],\\\"type\\\":\\\"scatter\\\",\\\"hoverinfo\\\":\\\"skip\\\",\\\"x\\\":[64.0,65.0,null,64.0,64.0,null,65.0,65.0,null]},{\\\"showlegend\\\":false,\\\"mode\\\":\\\"lines\\\",\\\"line\\\":{\\\"color\\\":\\\"gray\\\"},\\\"y\\\":[0.0889119952917099,0.0889119952917099,null,0.0889119952917099,0.0,null,0.0889119952917099,0.0,null],\\\"type\\\":\\\"scatter\\\",\\\"hoverinfo\\\":\\\"skip\\\",\\\"x\\\":[9.0,10.0,null,9.0,9.0,null,10.0,10.0,null]},{\\\"showlegend\\\":false,\\\"mode\\\":\\\"lines\\\",\\\"line\\\":{\\\"color\\\":\\\"gray\\\"},\\\"y\\\":[0.9981513023376465,0.9981513023376465,null,0.9981513023376465,0.5875521898269653,null,0.9981513023376465,0.9979547262191772,null],\\\"type\\\":\\\"scatter\\\",\\\"hoverinfo\\\":\\\"skip\\\",\\\"x\\\":[3.5,14.0888671875,null,3.5,3.5,null,14.0888671875,14.0888671875,null]},{\\\"showlegend\\\":false,\\\"mode\\\":\\\"lines\\\",\\\"line\\\":{\\\"color\\\":\\\"gray\\\"},\\\"y\\\":[0.015783440321683884,0.015783440321683884,null,0.015783440321683884,0.0,null,0.015783440321683884,0.0,null],\\\"type\\\":\\\"scatter\\\",\\\"hoverinfo\\\":\\\"skip\\\",\\\"x\\\":[31.0,32.0,null,31.0,31.0,null,32.0,32.0,null]},{\\\"showlegend\\\":false,\\\"mode\\\":\\\"lines\\\",\\\"line\\\":{\\\"color\\\":\\\"gray\\\"},\\\"y\\\":[0.9991055130958557,0.9991055130958557,null,0.9991055130958557,0.9981513023376465,null,0.9991055130958557,0.998504102230072,null],\\\"type\\\":\\\"scatter\\\",\\\"hoverinfo\\\":\\\"skip\\\",\\\"x\\\":[8.79443359375,59.29296875,null,8.79443359375,8.79443359375,null,59.29296875,59.29296875,null]},{\\\"showlegend\\\":false,\\\"mode\\\":\\\"lines\\\",\\\"line\\\":{\\\"color\\\":\\\"gray\\\"},\\\"y\\\":[0.7071014642715454,0.7071014642715454,null,0.7071014642715454,0.0,null,0.7071014642715454,0.0,null],\\\"type\\\":\\\"scatter\\\",\\\"hoverinfo\\\":\\\"skip\\\",\\\"x\\\":[67.0,68.0,null,67.0,67.0,null,68.0,68.0,null]},{\\\"showlegend\\\":false,\\\"mode\\\":\\\"lines\\\",\\\"line\\\":{\\\"color\\\":\\\"gray\\\"},\\\"y\\\":[0.8738513588905334,0.8738513588905334,null,0.8738513588905334,0.40723323822021484,null,0.8738513588905334,0.0,null],\\\"type\\\":\\\"scatter\\\",\\\"hoverinfo\\\":\\\"skip\\\",\\\"x\\\":[38.25,40.0,null,38.25,38.25,null,40.0,40.0,null]},{\\\"showlegend\\\":false,\\\"mode\\\":\\\"lines\\\",\\\"line\\\":{\\\"color\\\":\\\"gray\\\"},\\\"y\\\":[0.42010676860809326,0.42010676860809326,null,0.42010676860809326,0.2514660358428955,null,0.42010676860809326,0.0,null],\\\"type\\\":\\\"scatter\\\",\\\"hoverinfo\\\":\\\"skip\\\",\\\"x\\\":[63.5,66.0,null,63.5,63.5,null,66.0,66.0,null]},{\\\"showlegend\\\":false,\\\"mode\\\":\\\"lines\\\",\\\"line\\\":{\\\"color\\\":\\\"gray\\\"},\\\"y\\\":[0.726937472820282,0.726937472820282,null,0.726937472820282,0.5136206746101379,null,0.726937472820282,0.0,null],\\\"type\\\":\\\"scatter\\\",\\\"hoverinfo\\\":\\\"skip\\\",\\\"x\\\":[56.5,58.0,null,56.5,56.5,null,58.0,58.0,null]},{\\\"showlegend\\\":false,\\\"mode\\\":\\\"lines\\\",\\\"line\\\":{\\\"color\\\":\\\"gray\\\"},\\\"y\\\":[0.5873085260391235,0.5873085260391235,null,0.5873085260391235,0.5338645577430725,null,0.5873085260391235,0.0,null],\\\"type\\\":\\\"scatter\\\",\\\"hoverinfo\\\":\\\"skip\\\",\\\"x\\\":[51.5,53.0,null,51.5,51.5,null,53.0,53.0,null]},{\\\"showlegend\\\":false,\\\"mode\\\":\\\"lines\\\",\\\"line\\\":{\\\"color\\\":\\\"gray\\\"},\\\"y\\\":[0.9955407977104187,0.9955407977104187,null,0.9955407977104187,0.8232181072235107,null,0.9955407977104187,0.9816662073135376,null],\\\"type\\\":\\\"scatter\\\",\\\"hoverinfo\\\":\\\"skip\\\",\\\"x\\\":[58.125,62.625,null,58.125,58.125,null,62.625,62.625,null]},{\\\"showlegend\\\":false,\\\"mode\\\":\\\"lines\\\",\\\"line\\\":{\\\"color\\\":\\\"gray\\\"},\\\"y\\\":[0.3025515377521515,0.3025515377521515,null,0.3025515377521515,0.0021459227427840233,null,0.3025515377521515,0.0,null],\\\"type\\\":\\\"scatter\\\",\\\"hoverinfo\\\":\\\"skip\\\",\\\"x\\\":[46.5,48.0,null,46.5,46.5,null,48.0,48.0,null]},{\\\"showlegend\\\":false,\\\"mode\\\":\\\"lines\\\",\\\"line\\\":{\\\"color\\\":\\\"gray\\\"},\\\"y\\\":[0.9965395927429199,0.9965395927429199,null,0.9965395927429199,0.39860501885414124,null,0.9965395927429199,0.9955407977104187,null],\\\"type\\\":\\\"scatter\\\",\\\"hoverinfo\\\":\\\"skip\\\",\\\"x\\\":[54.5,60.375,null,54.5,54.5,null,60.375,60.375,null]},{\\\"showlegend\\\":false,\\\"mode\\\":\\\"lines\\\",\\\"line\\\":{\\\"color\\\":\\\"gray\\\"},\\\"y\\\":[0.996930718421936,0.996930718421936,null,0.996930718421936,0.5873085260391235,null,0.996930718421936,0.9965395927429199,null],\\\"type\\\":\\\"scatter\\\",\\\"hoverinfo\\\":\\\"skip\\\",\\\"x\\\":[52.25,57.4375,null,52.25,52.25,null,57.4375,57.4375,null]},{\\\"showlegend\\\":false,\\\"mode\\\":\\\"lines\\\",\\\"line\\\":{\\\"color\\\":\\\"gray\\\"},\\\"y\\\":[0.990268886089325,0.990268886089325,null,0.990268886089325,0.9680444598197937,null,0.990268886089325,0.0,null],\\\"type\\\":\\\"scatter\\\",\\\"hoverinfo\\\":\\\"skip\\\",\\\"x\\\":[36.78125,41.0,null,36.78125,36.78125,null,41.0,41.0,null]},{\\\"showlegend\\\":false,\\\"mode\\\":\\\"lines\\\",\\\"line\\\":{\\\"color\\\":\\\"gray\\\"},\\\"y\\\":[0.5338645577430725,0.5338645577430725,null,0.5338645577430725,0.0,null,0.5338645577430725,0.0,null],\\\"type\\\":\\\"scatter\\\",\\\"hoverinfo\\\":\\\"skip\\\",\\\"x\\\":[51.0,52.0,null,51.0,51.0,null,52.0,52.0,null]},{\\\"showlegend\\\":false,\\\"mode\\\":\\\"lines\\\",\\\"line\\\":{\\\"color\\\":\\\"gray\\\"},\\\"y\\\":[0.045276038348674774,0.045276038348674774,null,0.045276038348674774,0.014471392147243023,null,0.045276038348674774,0.0,null],\\\"type\\\":\\\"scatter\\\",\\\"hoverinfo\\\":\\\"skip\\\",\\\"x\\\":[14.5,16.0,null,14.5,14.5,null,16.0,16.0,null]},{\\\"showlegend\\\":false,\\\"mode\\\":\\\"lines\\\",\\\"line\\\":{\\\"color\\\":\\\"gray\\\"},\\\"y\\\":[0.6697421669960022,0.6697421669960022,null,0.6697421669960022,0.4398430585861206,null,0.6697421669960022,0.0,null],\\\"type\\\":\\\"scatter\\\",\\\"hoverinfo\\\":\\\"skip\\\",\\\"x\\\":[6.25,8.0,null,6.25,6.25,null,8.0,8.0,null]},{\\\"showlegend\\\":false,\\\"mode\\\":\\\"lines\\\",\\\"line\\\":{\\\"color\\\":\\\"gray\\\"},\\\"y\\\":[0.9971703290939331,0.9971703290939331,null,0.9971703290939331,0.995292067527771,null,0.9971703290939331,0.9967931509017944,null],\\\"type\\\":\\\"scatter\\\",\\\"hoverinfo\\\":\\\"skip\\\",\\\"x\\\":[12.3515625,29.75390625,null,12.3515625,12.3515625,null,29.75390625,29.75390625,null]},{\\\"showlegend\\\":false,\\\"mode\\\":\\\"lines\\\",\\\"line\\\":{\\\"color\\\":\\\"gray\\\"},\\\"y\\\":[0.004472782835364342,0.004472782835364342,null,0.004472782835364342,0.0,null,0.004472782835364342,0.0,null],\\\"type\\\":\\\"scatter\\\",\\\"hoverinfo\\\":\\\"skip\\\",\\\"x\\\":[37.0,38.0,null,37.0,37.0,null,38.0,38.0,null]},{\\\"showlegend\\\":false,\\\"mode\\\":\\\"lines\\\",\\\"line\\\":{\\\"color\\\":\\\"gray\\\"},\\\"y\\\":[0.998504102230072,0.998504102230072,null,0.998504102230072,0.9971560835838318,null,0.998504102230072,0.9982056617736816,null],\\\"type\\\":\\\"scatter\\\",\\\"hoverinfo\\\":\\\"skip\\\",\\\"x\\\":[50.0859375,68.5,null,50.0859375,50.0859375,null,68.5,68.5,null]},{\\\"showlegend\\\":false,\\\"mode\\\":\\\"lines\\\",\\\"line\\\":{\\\"color\\\":\\\"gray\\\"},\\\"y\\\":[0.235430508852005,0.235430508852005,null,0.235430508852005,0.0,null,0.235430508852005,0.0,null],\\\"type\\\":\\\"scatter\\\",\\\"hoverinfo\\\":\\\"skip\\\",\\\"x\\\":[60.0,61.0,null,60.0,60.0,null,61.0,61.0,null]},{\\\"showlegend\\\":false,\\\"mode\\\":\\\"lines\\\",\\\"line\\\":{\\\"color\\\":\\\"gray\\\"},\\\"y\\\":[0.5136206746101379,0.5136206746101379,null,0.5136206746101379,0.0,null,0.5136206746101379,0.0,null],\\\"type\\\":\\\"scatter\\\",\\\"hoverinfo\\\":\\\"skip\\\",\\\"x\\\":[56.0,57.0,null,56.0,56.0,null,57.0,57.0,null]},{\\\"showlegend\\\":false,\\\"mode\\\":\\\"lines\\\",\\\"line\\\":{\\\"color\\\":\\\"gray\\\"},\\\"y\\\":[0.9907206296920776,0.9907206296920776,null,0.9907206296920776,0.934910774230957,null,0.9907206296920776,0.9874668121337891,null],\\\"type\\\":\\\"scatter\\\",\\\"hoverinfo\\\":\\\"skip\\\",\\\"x\\\":[18.5,21.875,null,18.5,18.5,null,21.875,21.875,null]},{\\\"showlegend\\\":false,\\\"mode\\\":\\\"lines\\\",\\\"line\\\":{\\\"color\\\":\\\"gray\\\"},\\\"y\\\":[0.3153366148471832,0.3153366148471832,null,0.3153366148471832,0.3025515377521515,null,0.3153366148471832,0.0,null],\\\"type\\\":\\\"scatter\\\",\\\"hoverinfo\\\":\\\"skip\\\",\\\"x\\\":[47.25,49.0,null,47.25,47.25,null,49.0,49.0,null]},{\\\"showlegend\\\":false,\\\"mode\\\":\\\"lines\\\",\\\"line\\\":{\\\"color\\\":\\\"gray\\\"},\\\"y\\\":[0.05057865381240845,0.05057865381240845,null,0.05057865381240845,0.0,null,0.05057865381240845,0.0,null],\\\"type\\\":\\\"scatter\\\",\\\"hoverinfo\\\":\\\"skip\\\",\\\"x\\\":[33.0,34.0,null,33.0,33.0,null,34.0,34.0,null]},{\\\"showlegend\\\":false,\\\"mode\\\":\\\"lines\\\",\\\"line\\\":{\\\"color\\\":\\\"gray\\\"},\\\"y\\\":[0.4256359934806824,0.4256359934806824,null,0.4256359934806824,0.0,null,0.4256359934806824,0.0,null],\\\"type\\\":\\\"scatter\\\",\\\"hoverinfo\\\":\\\"skip\\\",\\\"x\\\":[5.0,6.0,null,5.0,5.0,null,6.0,6.0,null]},{\\\"showlegend\\\":false,\\\"mode\\\":\\\"lines\\\",\\\"line\\\":{\\\"color\\\":\\\"gray\\\"},\\\"y\\\":[0.9680444598197937,0.9680444598197937,null,0.9680444598197937,0.6244302988052368,null,0.9680444598197937,0.8738513588905334,null],\\\"type\\\":\\\"scatter\\\",\\\"hoverinfo\\\":\\\"skip\\\",\\\"x\\\":[34.4375,39.125,null,34.4375,34.4375,null,39.125,39.125,null]},{\\\"showlegend\\\":false,\\\"mode\\\":\\\"lines\\\",\\\"line\\\":{\\\"color\\\":\\\"gray\\\"},\\\"y\\\":[0.4398430585861206,0.4398430585861206,null,0.4398430585861206,0.4256359934806824,null,0.4398430585861206,0.0,null],\\\"type\\\":\\\"scatter\\\",\\\"hoverinfo\\\":\\\"skip\\\",\\\"x\\\":[5.5,7.0,null,5.5,5.5,null,7.0,7.0,null]},{\\\"showlegend\\\":false,\\\"mode\\\":\\\"lines\\\",\\\"line\\\":{\\\"color\\\":\\\"gray\\\"},\\\"y\\\":[0.9979547262191772,0.9979547262191772,null,0.9979547262191772,0.6697421669960022,null,0.9979547262191772,0.9971703290939331,null],\\\"type\\\":\\\"scatter\\\",\\\"hoverinfo\\\":\\\"skip\\\",\\\"x\\\":[7.125,21.052734375,null,7.125,7.125,null,21.052734375,21.052734375,null]},{\\\"showlegend\\\":false,\\\"mode\\\":\\\"markers\\\",\\\"marker\\\":{\\\"color\\\":\\\"gray\\\"},\\\"y\\\":[0.9916363954544067,0.9716590046882629,0.934910774230957,0.9816662073135376,0.9982056617736816,0.014471392147243023,0.9778701663017273,0.9639829993247986,0.3452591598033905,0.9995874166488647,0.26297613978385925,0.6244302988052368,0.39860501885414124,0.991387665271759,0.02585447020828724,0.9520471096038818,0.40723323822021484,0.4591154456138611,0.10177281498908997,0.25340378284454346,0.9852635264396667,0.9930856823921204,0.9874668121337891,0.9967931509017944,0.2514660358428955,0.03593067452311516,0.4249081015586853,0.9934521913528442,0.8232181072235107,0.0021459227427840233,0.5875521898269653,0.03323237597942352,0.4191717803478241,0.9923674464225769,0.2947348356246948,0.995292067527771,0.9788056015968323,0.5317713618278503,0.9971560835838318,0.04964734986424446,0.0889119952917099,0.9981513023376465,0.015783440321683884,0.9991055130958557,0.7071014642715454,0.8738513588905334,0.42010676860809326,0.726937472820282,0.5873085260391235,0.9955407977104187,0.3025515377521515,0.9965395927429199,0.996930718421936,0.990268886089325,0.5338645577430725,0.045276038348674774,0.6697421669960022,0.9971703290939331,0.004472782835364342,0.998504102230072,0.235430508852005,0.5136206746101379,0.9907206296920776,0.3153366148471832,0.05057865381240845,0.4256359934806824,0.9680444598197937,0.4398430585861206,0.9979547262191772],\\\"type\\\":\\\"scatter\\\",\\\"text\\\":[\\\"Bacteria\\\",\\\"Mycobacterium\\\",\\\"Xanthomonas\\\",\\\"Staphylococcus\\\",\\\"Proteobacteria\\\",\\\"Mycobacterium tuberculosis\\\",\\\"Streptococcus\\\",\\\"Yersinia\\\",\\\"pseudomallei group\\\",\\\"Bacteria\\\",\\\"Bordetella\\\",\\\"Enterobacteriaceae\\\",\\\"Clostridium perfringens\\\",\\\"Streptococcus\\\",\\\"Yersinia pestis\\\",\\\"Rickettsia\\\",\\\"Salmonella enterica subsp. enterica\\\",\\\"Enterobacteriaceae\\\",\\\"Tropheryma whipplei\\\",\\\"Streptococcus pneumoniae\\\",\\\"Pseudomonas\\\",\\\"Bacteria\\\",\\\"Burkholderiales\\\",\\\"Gammaproteobacteria\\\",\\\"Staphylococcus aureus\\\",\\\"Staphylococcus aureus\\\",\\\"Bordetella\\\",\\\"Streptococcus\\\",\\\"Bacillus cereus group\\\",\\\"Streptococcus pyogenes serotype M3\\\",\\\"Xylella fastidiosa\\\",\\\"Yersinia pestis\\\",\\\"Vibrio vulnificus\\\",\\\"Enterobacterales\\\",\\\"Streptococcus agalactiae\\\",\\\"Bacteria\\\",\\\"Pseudomonas\\\",\\\"Enterobacteriaceae\\\",\\\"Bacteria\\\",\\\"Staphylococcus aureus\\\",\\\"Brucella\\\",\\\"Bacteria\\\",\\\"Escherichia coli O157:H7\\\",\\\"Bacteria\\\",\\\"Helicobacter pylori\\\",\\\"Salmonella\\\",\\\"Staphylococcus aureus\\\",\\\"Bacillus cereus group\\\",\\\"Legionella pneumophila\\\",\\\"Bacillales\\\",\\\"Streptococcus pyogenes\\\",\\\"Firmicutes\\\",\\\"Bacteria\\\",\\\"Enterobacterales\\\",\\\"Legionella pneumophila\\\",\\\"Mycobacterium tuberculosis\\\",\\\"Neisseria\\\",\\\"Bacteria\\\",\\\"Salmonella enterica subsp. enterica serovar Typhi\\\",\\\"Bacteria\\\",\\\"Staphylococcus epidermidis\\\",\\\"Bacillus cereus group\\\",\\\"Proteobacteria\\\",\\\"Streptococcus pyogenes\\\",\\\"Shigella flexneri 2a\\\",\\\"Neisseria meningitidis\\\",\\\"Enterobacteriaceae\\\",\\\"Neisseria meningitidis\\\",\\\"Bacteria\\\"],\\\"hovertemplate\\\":\\\"%{text}<br>%{y}<extra><\\/extra>\\\",\\\"x\\\":[18.15625,16.125,18.5,62.625,68.5,14.5,46.3125,29.125,20.5,17.7718505859375,22.5,34.4375,54.5,48.15625,27.5,69.5,38.25,34.25,1.5,42.5,12.25,15.203125,21.875,29.75390625,63.5,62.5,23.25,45.328125,58.125,46.5,3.5,28.25,25.5,34.0078125,44.5,12.3515625,11.5,32.875,50.0859375,64.5,9.5,8.79443359375,31.5,34.043701171875,67.5,39.125,64.75,57.25,52.25,60.375,47.25,57.4375,54.84375,38.890625,51.5,15.25,7.125,21.052734375,37.5,59.29296875,60.5,56.5,20.1875,48.125,33.5,5.5,36.78125,6.25,14.0888671875]}],{\\\"hovermode\\\":\\\"closest\\\",\\\"margin\\\":{\\\"l\\\":50,\\\"b\\\":50,\\\"r\\\":50,\\\"t\\\":60}},{}); gd.on(\\\"plotly_hover\\\",(function (data){var filtered_data=WebIO.PlotlyCommands.filterEventData(gd,data,\\\"hover\\\"); return !(filtered_data.isnil) ? (WebIO.setval({\\\"name\\\":\\\"hover\\\",\\\"scope\\\":\\\"14531529895801320264\\\",\\\"id\\\":\\\"3324506087582277645\\\",\\\"type\\\":\\\"observable\\\"},filtered_data.out)) : undefined})); gd.on(\\\"plotly_unhover\\\",(function (){return WebIO.setval({\\\"name\\\":\\\"hover\\\",\\\"scope\\\":\\\"14531529895801320264\\\",\\\"id\\\":\\\"3324506087582277645\\\",\\\"type\\\":\\\"observable\\\"},{})})); gd.on(\\\"plotly_selected\\\",(function (data){var filtered_data=WebIO.PlotlyCommands.filterEventData(gd,data,\\\"selected\\\"); return !(filtered_data.isnil) ? (WebIO.setval({\\\"name\\\":\\\"selected\\\",\\\"scope\\\":\\\"14531529895801320264\\\",\\\"id\\\":\\\"13159083120192782544\\\",\\\"type\\\":\\\"observable\\\"},filtered_data.out)) : undefined})); gd.on(\\\"plotly_deselect\\\",(function (){return WebIO.setval({\\\"name\\\":\\\"selected\\\",\\\"scope\\\":\\\"14531529895801320264\\\",\\\"id\\\":\\\"13159083120192782544\\\",\\\"type\\\":\\\"observable\\\"},{})})); gd.on(\\\"plotly_relayout\\\",(function (data){var filtered_data=WebIO.PlotlyCommands.filterEventData(gd,data,\\\"relayout\\\"); return !(filtered_data.isnil) ? (WebIO.setval({\\\"name\\\":\\\"relayout\\\",\\\"scope\\\":\\\"14531529895801320264\\\",\\\"id\\\":\\\"1495825614013241554\\\",\\\"type\\\":\\\"observable\\\"},filtered_data.out)) : undefined})); return gd.on(\\\"plotly_click\\\",(function (data){var filtered_data=WebIO.PlotlyCommands.filterEventData(gd,data,\\\"click\\\"); return !(filtered_data.isnil) ? (WebIO.setval({\\\"name\\\":\\\"click\\\",\\\"scope\\\":\\\"14531529895801320264\\\",\\\"id\\\":\\\"64848557357517124\\\",\\\"type\\\":\\\"observable\\\"},filtered_data.out)) : undefined}))}));\\n    (WebIO.importBlock({\\\"data\\\":[{\\\"name\\\":\\\"Plotly\\\",\\\"type\\\":\\\"js\\\",\\\"url\\\":\\\"\\/assetserver\\/2178a8d06f9a8c65d859d06b4046edd396027e54-plotly.min.js\\\"},{\\\"name\\\":null,\\\"type\\\":\\\"js\\\",\\\"url\\\":\\\"\\/assetserver\\/bfdea5073d48cb1c02a6ebf79fdeb36320854e28-plotly_webio.bundle.js\\\"}],\\\"type\\\":\\\"async_block\\\"})).then((imports) => handler.apply(this, imports));\\n}\\n\"],\"observables\":{\"_toImage\":{\"sync\":false,\"id\":\"9591132244611775367\",\"value\":{}},\"hover\":{\"sync\":false,\"id\":\"3324506087582277645\",\"value\":{}},\"selected\":{\"sync\":false,\"id\":\"13159083120192782544\",\"value\":{}},\"__gd_contents\":{\"sync\":false,\"id\":\"16873684992738385581\",\"value\":{}},\"click\":{\"sync\":false,\"id\":\"64848557357517124\",\"value\":{}},\"image\":{\"sync\":true,\"id\":\"10081136364184332108\",\"value\":\"\"},\"__get_gd_contents\":{\"sync\":false,\"id\":\"2022153296374682932\",\"value\":\"\"},\"_downloadImage\":{\"sync\":false,\"id\":\"2608047813620095947\",\"value\":{}},\"relayout\":{\"sync\":false,\"id\":\"1495825614013241554\",\"value\":{}},\"_commands\":{\"sync\":false,\"id\":\"15083392707098449331\",\"value\":[]}}},\"children\":[{\"props\":{\"id\":\"plot-fcdd860d-f1ec-4b76-8497-b1dead40284a\"},\"nodeType\":\"DOM\",\"type\":\"node\",\"instanceArgs\":{\"namespace\":\"html\",\"tag\":\"div\"},\"children\":[]}]},\n",
       "        window,\n",
       "    );\n",
       "    })()\n",
       "    </script>\n",
       "</div>\n"
      ],
      "text/plain": [
       "data: [\n",
       "  \"scatter with fields hoverinfo, line, mode, showlegend, type, x, and y\",\n",
       "  \"scatter with fields hoverinfo, line, mode, showlegend, type, x, and y\",\n",
       "  \"scatter with fields hoverinfo, line, mode, showlegend, type, x, and y\",\n",
       "  \"scatter with fields hoverinfo, line, mode, showlegend, type, x, and y\",\n",
       "  \"scatter with fields hoverinfo, line, mode, showlegend, type, x, and y\",\n",
       "  \"scatter with fields hoverinfo, line, mode, showlegend, type, x, and y\",\n",
       "  \"scatter with fields hoverinfo, line, mode, showlegend, type, x, and y\",\n",
       "  \"scatter with fields hoverinfo, line, mode, showlegend, type, x, and y\",\n",
       "  \"scatter with fields hoverinfo, line, mode, showlegend, type, x, and y\",\n",
       "  \"scatter with fields hoverinfo, line, mode, showlegend, type, x, and y\",\n",
       "  \"scatter with fields hoverinfo, line, mode, showlegend, type, x, and y\",\n",
       "  \"scatter with fields hoverinfo, line, mode, showlegend, type, x, and y\",\n",
       "  \"scatter with fields hoverinfo, line, mode, showlegend, type, x, and y\",\n",
       "  \"scatter with fields hoverinfo, line, mode, showlegend, type, x, and y\",\n",
       "  \"scatter with fields hoverinfo, line, mode, showlegend, type, x, and y\",\n",
       "  \"scatter with fields hoverinfo, line, mode, showlegend, type, x, and y\",\n",
       "  \"scatter with fields hoverinfo, line, mode, showlegend, type, x, and y\",\n",
       "  \"scatter with fields hoverinfo, line, mode, showlegend, type, x, and y\",\n",
       "  \"scatter with fields hoverinfo, line, mode, showlegend, type, x, and y\",\n",
       "  \"scatter with fields hoverinfo, line, mode, showlegend, type, x, and y\",\n",
       "  \"scatter with fields hoverinfo, line, mode, showlegend, type, x, and y\",\n",
       "  \"scatter with fields hoverinfo, line, mode, showlegend, type, x, and y\",\n",
       "  \"scatter with fields hoverinfo, line, mode, showlegend, type, x, and y\",\n",
       "  \"scatter with fields hoverinfo, line, mode, showlegend, type, x, and y\",\n",
       "  \"scatter with fields hoverinfo, line, mode, showlegend, type, x, and y\",\n",
       "  \"scatter with fields hoverinfo, line, mode, showlegend, type, x, and y\",\n",
       "  \"scatter with fields hoverinfo, line, mode, showlegend, type, x, and y\",\n",
       "  \"scatter with fields hoverinfo, line, mode, showlegend, type, x, and y\",\n",
       "  \"scatter with fields hoverinfo, line, mode, showlegend, type, x, and y\",\n",
       "  \"scatter with fields hoverinfo, line, mode, showlegend, type, x, and y\",\n",
       "  \"scatter with fields hoverinfo, line, mode, showlegend, type, x, and y\",\n",
       "  \"scatter with fields hoverinfo, line, mode, showlegend, type, x, and y\",\n",
       "  \"scatter with fields hoverinfo, line, mode, showlegend, type, x, and y\",\n",
       "  \"scatter with fields hoverinfo, line, mode, showlegend, type, x, and y\",\n",
       "  \"scatter with fields hoverinfo, line, mode, showlegend, type, x, and y\",\n",
       "  \"scatter with fields hoverinfo, line, mode, showlegend, type, x, and y\",\n",
       "  \"scatter with fields hoverinfo, line, mode, showlegend, type, x, and y\",\n",
       "  \"scatter with fields hoverinfo, line, mode, showlegend, type, x, and y\",\n",
       "  \"scatter with fields hoverinfo, line, mode, showlegend, type, x, and y\",\n",
       "  \"scatter with fields hoverinfo, line, mode, showlegend, type, x, and y\",\n",
       "  \"scatter with fields hoverinfo, line, mode, showlegend, type, x, and y\",\n",
       "  \"scatter with fields hoverinfo, line, mode, showlegend, type, x, and y\",\n",
       "  \"scatter with fields hoverinfo, line, mode, showlegend, type, x, and y\",\n",
       "  \"scatter with fields hoverinfo, line, mode, showlegend, type, x, and y\",\n",
       "  \"scatter with fields hoverinfo, line, mode, showlegend, type, x, and y\",\n",
       "  \"scatter with fields hoverinfo, line, mode, showlegend, type, x, and y\",\n",
       "  \"scatter with fields hoverinfo, line, mode, showlegend, type, x, and y\",\n",
       "  \"scatter with fields hoverinfo, line, mode, showlegend, type, x, and y\",\n",
       "  \"scatter with fields hoverinfo, line, mode, showlegend, type, x, and y\",\n",
       "  \"scatter with fields hoverinfo, line, mode, showlegend, type, x, and y\",\n",
       "  \"scatter with fields hoverinfo, line, mode, showlegend, type, x, and y\",\n",
       "  \"scatter with fields hoverinfo, line, mode, showlegend, type, x, and y\",\n",
       "  \"scatter with fields hoverinfo, line, mode, showlegend, type, x, and y\",\n",
       "  \"scatter with fields hoverinfo, line, mode, showlegend, type, x, and y\",\n",
       "  \"scatter with fields hoverinfo, line, mode, showlegend, type, x, and y\",\n",
       "  \"scatter with fields hoverinfo, line, mode, showlegend, type, x, and y\",\n",
       "  \"scatter with fields hoverinfo, line, mode, showlegend, type, x, and y\",\n",
       "  \"scatter with fields hoverinfo, line, mode, showlegend, type, x, and y\",\n",
       "  \"scatter with fields hoverinfo, line, mode, showlegend, type, x, and y\",\n",
       "  \"scatter with fields hoverinfo, line, mode, showlegend, type, x, and y\",\n",
       "  \"scatter with fields hoverinfo, line, mode, showlegend, type, x, and y\",\n",
       "  \"scatter with fields hoverinfo, line, mode, showlegend, type, x, and y\",\n",
       "  \"scatter with fields hoverinfo, line, mode, showlegend, type, x, and y\",\n",
       "  \"scatter with fields hoverinfo, line, mode, showlegend, type, x, and y\",\n",
       "  \"scatter with fields hoverinfo, line, mode, showlegend, type, x, and y\",\n",
       "  \"scatter with fields hoverinfo, line, mode, showlegend, type, x, and y\",\n",
       "  \"scatter with fields hoverinfo, line, mode, showlegend, type, x, and y\",\n",
       "  \"scatter with fields hoverinfo, line, mode, showlegend, type, x, and y\",\n",
       "  \"scatter with fields hoverinfo, line, mode, showlegend, type, x, and y\",\n",
       "  \"scatter with fields hovertemplate, marker, mode, showlegend, text, type, x, and y\"\n",
       "]\n",
       "\n",
       "layout: \"layout with fields hovermode and margin\"\n",
       "\n"
      ]
     },
     "execution_count": 234,
     "metadata": {},
     "output_type": "execute_result"
    }
   ],
   "source": [
    "pdg = PlotlyDendrogram(dg)\n",
    "\n",
    "vector_attrs!(pdg.nodes_trace, pdg.node_ids) do id\n",
    "    row = nodeattrs(ta, id)\n",
    "    taxon = taxa[row.lca]\n",
    "    Dict(\n",
    "        :text => taxon.val.name\n",
    "    )\n",
    "end\n",
    "\n",
    "pdg.nodes_trace[:hovertemplate] = \"%{text}<br>%{y}<extra></extra>\"\n",
    "\n",
    "plot(pdg)"
   ]
  },
  {
   "cell_type": "code",
   "execution_count": null,
   "id": "303ad56d-40fa-4310-b08e-79080904a085",
   "metadata": {},
   "outputs": [],
   "source": []
  },
  {
   "cell_type": "code",
   "execution_count": null,
   "id": "e0624120-820e-4fe9-a061-a1870b7494cf",
   "metadata": {},
   "outputs": [],
   "source": []
  }
 ],
 "metadata": {
  "@webio": {
   "lastCommId": "10c13d73-17ef-4e15-ac7d-5fa651ccc45f",
   "lastKernelId": "01f987f4-0dab-498b-b8a6-8aac34dfe49c"
  },
  "kernelspec": {
   "display_name": "Julia 1.6.0",
   "language": "julia",
   "name": "julia-1.6"
  },
  "language_info": {
   "file_extension": ".jl",
   "mimetype": "application/julia",
   "name": "julia",
   "version": "1.6.0"
  }
 },
 "nbformat": 4,
 "nbformat_minor": 5
}
