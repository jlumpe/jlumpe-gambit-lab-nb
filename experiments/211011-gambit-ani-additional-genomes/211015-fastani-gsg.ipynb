{
 "cells": [
  {
   "cell_type": "markdown",
   "id": "2195bec5-ddef-4f30-aa9d-a184315e9265",
   "metadata": {},
   "source": [
    "# 211015 FastANI Gold Standard Genome"
   ]
  },
  {
   "cell_type": "code",
   "execution_count": 1,
   "id": "38c9e0e9-4183-4db1-8761-882c5d106c47",
   "metadata": {},
   "outputs": [],
   "source": [
    "from pathlib import Path\n",
    "import json\n",
    "from subprocess import run, PIPE"
   ]
  },
  {
   "cell_type": "code",
   "execution_count": 2,
   "id": "c82dab84-2aa0-40bd-a49f-b8d87949463c",
   "metadata": {},
   "outputs": [],
   "source": [
    "import numpy as np\n",
    "import pandas as pd\n",
    "from tqdm import tqdm\n",
    "import h5py as h5"
   ]
  },
  {
   "cell_type": "markdown",
   "id": "e7563b82-8ece-4adf-b9c0-d344867c47d8",
   "metadata": {},
   "source": [
    "## Setup"
   ]
  },
  {
   "cell_type": "code",
   "execution_count": 3,
   "id": "a06ab0fb-9b21-46e8-bd45-ef0bf054992b",
   "metadata": {},
   "outputs": [],
   "source": [
    "DATESTR = '211015'\n",
    "NBNAME = DATESTR + '-fastani-gsg'"
   ]
  },
  {
   "cell_type": "code",
   "execution_count": 4,
   "id": "86daf368-86bf-4610-8add-cdd1230c29fa",
   "metadata": {},
   "outputs": [],
   "source": [
    "FASTANI_CMD = '/home/jared/opt/anaconda3/envs/fastani/bin/fastANI'"
   ]
  },
  {
   "cell_type": "code",
   "execution_count": 5,
   "id": "1d055a29-cdc2-4244-ad77-ca72a953bad0",
   "metadata": {},
   "outputs": [],
   "source": [
    "NTHREADS = 12"
   ]
  },
  {
   "cell_type": "code",
   "execution_count": 6,
   "id": "a9064aa5-740b-4b8c-9e8f-2091fdd03704",
   "metadata": {},
   "outputs": [],
   "source": [
    "DATASET = '200726_gold_standard'"
   ]
  },
  {
   "cell_type": "markdown",
   "id": "20450c2b-6595-4e15-93a0-cc1b53b19a19",
   "metadata": {},
   "source": [
    "### Paths"
   ]
  },
  {
   "cell_type": "code",
   "execution_count": 7,
   "id": "633fa75b-a488-44ac-b04c-8a8d02d0781c",
   "metadata": {},
   "outputs": [],
   "source": [
    "infiles = dict(\n",
    "    genomes=Path('/home/jared/projects/gambit/data/validation/200726-gold-standard-seqs/files.csv'),\n",
    "    genomes_dir=Path('/home/jared/projects/gambit/data/validation/200726-gold-standard-seqs/fasta/'),\n",
    ")"
   ]
  },
  {
   "cell_type": "code",
   "execution_count": 8,
   "id": "5adfb675-672a-4ee5-96bb-7daa669d1fab",
   "metadata": {
    "tags": []
   },
   "outputs": [],
   "source": [
    "tmpdir = Path('tmp')\n",
    "\n",
    "fastani_dir = tmpdir / 'fastani' / DATASET\n",
    "fastani_dir.mkdir(exist_ok=True)"
   ]
  },
  {
   "cell_type": "code",
   "execution_count": 9,
   "id": "95c4b055-7ab8-4e47-95b9-4105050d0a87",
   "metadata": {},
   "outputs": [],
   "source": [
    "intermediate_out = Path('data-intermediate') / NBNAME\n",
    "intermediate_out.mkdir(exist_ok=True)\n",
    "\n",
    "outfile = intermediate_out / f'{DATASET}.h5'"
   ]
  },
  {
   "cell_type": "markdown",
   "id": "7fdbb2ef-f016-4756-8089-44ed81e21d38",
   "metadata": {},
   "source": [
    "## Load data"
   ]
  },
  {
   "cell_type": "code",
   "execution_count": 10,
   "id": "5dd7357f-9630-400c-85dc-c5639a790fbe",
   "metadata": {},
   "outputs": [
    {
     "data": {
      "text/plain": [
       "80"
      ]
     },
     "execution_count": 10,
     "metadata": {},
     "output_type": "execute_result"
    }
   ],
   "source": [
    "genomes_all = pd.read_csv(infiles['genomes'])\n",
    "\n",
    "# Exclude 200817 set\n",
    "genomes = genomes_all.loc[genomes_all['set'] == 200726, 'name']\n",
    "\n",
    "ngenomes = len(genomes)\n",
    "ngenomes"
   ]
  },
  {
   "cell_type": "code",
   "execution_count": 11,
   "id": "6c4b4fb0-88f1-427f-b535-66b9b911cb71",
   "metadata": {},
   "outputs": [],
   "source": [
    "genome_files = [infiles['genomes_dir'] / f'{name}.fasta.gz' for name in genomes]"
   ]
  },
  {
   "cell_type": "markdown",
   "id": "3b13f2ec-8712-41a1-b671-0d920d01dded",
   "metadata": {},
   "source": [
    "## Calculate pairwise ANIs"
   ]
  },
  {
   "cell_type": "code",
   "execution_count": 12,
   "id": "58d0fee1-8893-4635-ad41-ed7b7682ebac",
   "metadata": {},
   "outputs": [],
   "source": [
    "list_file = fastani_dir / f'{DATASET}.txt'\n",
    "\n",
    "with open(list_file, 'w') as f:\n",
    "    for gf in genome_files:\n",
    "        print(gf, file=f)"
   ]
  },
  {
   "cell_type": "code",
   "execution_count": 13,
   "id": "91e33466-c70d-44f3-afad-1dfa46f8ac68",
   "metadata": {},
   "outputs": [],
   "source": [
    "result_file = fastani_dir / f'{DATASET}.tsv'"
   ]
  },
  {
   "cell_type": "code",
   "execution_count": 14,
   "id": "f9d00007-9569-4fd9-914c-531cc6d06512",
   "metadata": {},
   "outputs": [],
   "source": [
    "if not result_file.is_file():\n",
    "\n",
    "    cmd = [\n",
    "        FASTANI_CMD,\n",
    "        '-t', NTHREADS,\n",
    "        '--rl', list_file,\n",
    "        '--ql', list_file,\n",
    "        '-o', result_file,\n",
    "    ]\n",
    "    cmd = list(map(str, cmd))\n",
    "\n",
    "    result = run(cmd, stdout=PIPE, stderr=PIPE)\n",
    "\n",
    "    try:\n",
    "        result.check_returncode()\n",
    "    except:\n",
    "        result_file.unlink(missing_ok=True)\n",
    "        print(result.stderr.decode('ascii'))\n",
    "        raise"
   ]
  },
  {
   "cell_type": "markdown",
   "id": "e1e2a249-b26c-4c2b-a398-2080cd7cc3e4",
   "metadata": {},
   "source": [
    "## Assemble data"
   ]
  },
  {
   "cell_type": "markdown",
   "id": "afafa321-7f87-425a-94ec-5e91aed9d25f",
   "metadata": {},
   "source": [
    "### Read result matrices"
   ]
  },
  {
   "cell_type": "code",
   "execution_count": 15,
   "id": "f66673aa-ebd0-4c70-af2d-a530adf3403b",
   "metadata": {},
   "outputs": [],
   "source": [
    "file_to_index = {str(file): i for i, file in enumerate(genome_files)}"
   ]
  },
  {
   "cell_type": "code",
   "execution_count": 16,
   "id": "b339fb4f-9783-465d-84a6-f6843cf4f9c6",
   "metadata": {},
   "outputs": [],
   "source": [
    "results = pd.read_csv(result_file, sep='\\t', names=['query', 'reference', 'ani', 'mapped', 'query_fragments'])\n",
    "\n",
    "reported = np.zeros((ngenomes, ngenomes), dtype=bool)\n",
    "\n",
    "arrays = dict(\n",
    "    ani=np.zeros((ngenomes, ngenomes)),\n",
    "    mapped=np.zeros((ngenomes, ngenomes), dtype=int),\n",
    "    query_fragments=np.zeros((ngenomes, ngenomes), dtype=int),\n",
    ")\n",
    "\n",
    "for i, row in results.iterrows():\n",
    "    q = file_to_index[row.query]\n",
    "    r = file_to_index[row.reference]\n",
    "    assert not reported[q, r]\n",
    "    reported[q, r] = True\n",
    "\n",
    "    for k, a in arrays.items():\n",
    "        a[q, r] = row[k]\n",
    "\n",
    "stats_matrix = dict(reported=reported, **arrays)"
   ]
  },
  {
   "cell_type": "code",
   "execution_count": 17,
   "id": "c3657ed6-edf8-46b3-bf69-da9b5f5775cf",
   "metadata": {},
   "outputs": [
    {
     "data": {
      "text/plain": [
       "0.07921875"
      ]
     },
     "execution_count": 17,
     "metadata": {},
     "output_type": "execute_result"
    }
   ],
   "source": [
    "reported.mean()"
   ]
  },
  {
   "cell_type": "markdown",
   "id": "20f77a43-8f92-4667-a21f-13a1fba9dd2b",
   "metadata": {},
   "source": [
    "### Convert to pair format"
   ]
  },
  {
   "cell_type": "code",
   "execution_count": 18,
   "id": "049b243f-78c6-441f-b1af-8b630cefb81d",
   "metadata": {},
   "outputs": [],
   "source": [
    "g1, g2 = np.tril_indices(ngenomes)\n",
    "\n",
    "stats_pw = dict(genome1=g1, genome2=g2)\n",
    "\n",
    "for k in ['reported', 'ani', 'mapped', 'query_fragments']:\n",
    "    a = stats_matrix[k]\n",
    "    q1r2 = stats_pw[k + '_q1r2'] = a[g1, g2]\n",
    "    q2r1 = stats_pw[k + '_q2r1'] = a[g2, g1]\n",
    "    if k == 'reported':\n",
    "        stats_pw['reported_both'] = q1r2 & q2r1\n",
    "    else:\n",
    "        stats_pw[k + '_mean'] = (q1r2 + q2r1) / 2"
   ]
  },
  {
   "cell_type": "markdown",
   "id": "dff7341d-001d-46cf-9c8d-584462250b70",
   "metadata": {},
   "source": [
    "## Write to HDF5 files"
   ]
  },
  {
   "cell_type": "code",
   "execution_count": 19,
   "id": "649bdf4e-9340-466e-b1de-12a9a589a033",
   "metadata": {},
   "outputs": [],
   "source": [
    "with h5.File(outfile, 'w') as f:\n",
    "    mat_grp = f.create_group('matrix')\n",
    "    for k, a in stats_matrix.items():\n",
    "        mat_grp.create_dataset(k, data=a)\n",
    "\n",
    "    pw_grp = f.create_group('pw')\n",
    "    for k, a in stats_pw.items():\n",
    "        pw_grp.create_dataset(k, data=a)"
   ]
  }
 ],
 "metadata": {
  "kernelspec": {
   "display_name": "GAMBIT",
   "language": "python",
   "name": "gambit"
  },
  "language_info": {
   "codemirror_mode": {
    "name": "ipython",
    "version": 3
   },
   "file_extension": ".py",
   "mimetype": "text/x-python",
   "name": "python",
   "nbconvert_exporter": "python",
   "pygments_lexer": "ipython3",
   "version": "3.9.7"
  }
 },
 "nbformat": 4,
 "nbformat_minor": 5
}
