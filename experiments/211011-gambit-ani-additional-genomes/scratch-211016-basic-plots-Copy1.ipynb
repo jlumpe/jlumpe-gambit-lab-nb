{
 "cells": [
  {
   "cell_type": "markdown",
   "id": "2195bec5-ddef-4f30-aa9d-a184315e9265",
   "metadata": {},
   "source": [
    "# 211016 Basic Plots"
   ]
  },
  {
   "cell_type": "code",
   "execution_count": 3,
   "id": "38c9e0e9-4183-4db1-8761-882c5d106c47",
   "metadata": {},
   "outputs": [],
   "source": [
    "from pathlib import Path"
   ]
  },
  {
   "cell_type": "code",
   "execution_count": 4,
   "id": "c82dab84-2aa0-40bd-a49f-b8d87949463c",
   "metadata": {},
   "outputs": [],
   "source": [
    "import numpy as np\n",
    "import pandas as pd\n",
    "import xarray as xr\n",
    "import h5py as h5\n",
    "from tqdm import tqdm"
   ]
  },
  {
   "cell_type": "code",
   "execution_count": 5,
   "id": "7bf7531d-d69e-4100-ad4d-5cbd7c5083d1",
   "metadata": {},
   "outputs": [],
   "source": [
    "import matplotlib.pyplot as plt\n",
    "import seaborn as sns\n",
    "\n",
    "%matplotlib inline"
   ]
  },
  {
   "cell_type": "markdown",
   "id": "e7563b82-8ece-4adf-b9c0-d344867c47d8",
   "metadata": {},
   "source": [
    "## Setup"
   ]
  },
  {
   "cell_type": "code",
   "execution_count": 6,
   "id": "d8a88488-c339-469e-8f9b-5373aff94f7f",
   "metadata": {},
   "outputs": [],
   "source": [
    "DATESTR = '211016'\n",
    "NBNAME = DATESTR + '-basic-plots'"
   ]
  },
  {
   "cell_type": "code",
   "execution_count": 7,
   "id": "9c8c7399-ad22-4838-947b-39a9e6eca7c3",
   "metadata": {},
   "outputs": [],
   "source": [
    "infiles = dict(\n",
    "    genomes=Path('data-processed/211015-combine-data/211015-gambit-ani-genomes.csv'),\n",
    "    data=Path('data-intermediate/211015-combine-data/data.nc'),\n",
    "    assembly_stats=Path('data-processed/211016-additional-genome-stats/211016-assembly-stats.csv'),\n",
    ")"
   ]
  },
  {
   "cell_type": "code",
   "execution_count": 8,
   "id": "2f6843cb-4802-42c9-ae00-ff47e496505a",
   "metadata": {},
   "outputs": [],
   "source": [
    "outfiles = dict(\n",
    "    gambit_ani_scatter=f'reports/{DATESTR}-gambit-vs-ani.png',\n",
    "    gambit_ani_spearman=f'reports/{DATESTR}-gambit-ani-spearman.png',\n",
    ")"
   ]
  },
  {
   "cell_type": "markdown",
   "id": "65feb6c7-7ffd-4e71-8dd0-ba49a9972f59",
   "metadata": {},
   "source": [
    "## Code"
   ]
  },
  {
   "cell_type": "code",
   "execution_count": 9,
   "id": "da0039a8-3ff4-4329-9e94-af671bbcef46",
   "metadata": {},
   "outputs": [],
   "source": [
    "def get_datasets(group):\n",
    "    return {name: child[:] for name, child in group.items()}"
   ]
  },
  {
   "cell_type": "markdown",
   "id": "e6ada79b-13da-4cf7-a23b-659a66902b0a",
   "metadata": {},
   "source": [
    "## Load data"
   ]
  },
  {
   "cell_type": "markdown",
   "id": "e81a3edd-f2a1-4800-9c94-da2f49906532",
   "metadata": {},
   "source": [
    "### Genomes"
   ]
  },
  {
   "cell_type": "code",
   "execution_count": 10,
   "id": "b32d4e7d-0fc2-48f2-bc76-39e2913be527",
   "metadata": {},
   "outputs": [],
   "source": [
    "genomes = pd.read_csv(infiles['genomes'], index_col=[0, 1])"
   ]
  },
  {
   "cell_type": "code",
   "execution_count": 11,
   "id": "9cf059ee-35a1-48a6-8159-895f2a956554",
   "metadata": {},
   "outputs": [],
   "source": [
    "_stats = pd.read_csv(infiles['assembly_stats'], index_col=[0, 1])\n",
    "genomes = pd.concat([genomes, _stats], axis=1)"
   ]
  },
  {
   "cell_type": "markdown",
   "id": "f8f54d37-fbf3-408b-b4bd-813397073d9e",
   "metadata": {},
   "source": [
    "### Common"
   ]
  },
  {
   "cell_type": "code",
   "execution_count": 12,
   "id": "63459a31-3d1f-42f8-8de1-157357ebc967",
   "metadata": {},
   "outputs": [],
   "source": [
    "common_ds = xr.load_dataset(infiles['data'], group='common')\n",
    "\n",
    "common_df = common_ds.to_dataframe(['data_set', 'param'])"
   ]
  },
  {
   "cell_type": "code",
   "execution_count": 13,
   "id": "68318ef5-2254-4dec-83c8-e035eabaff96",
   "metadata": {},
   "outputs": [],
   "source": [
    "gsets = common_ds.indexes['data_set']\n",
    "ngsets = len(gsets)"
   ]
  },
  {
   "cell_type": "markdown",
   "id": "44ef7fb1-0f09-4c12-a0f1-1320b09ca715",
   "metadata": {},
   "source": [
    "### Params"
   ]
  },
  {
   "cell_type": "code",
   "execution_count": 14,
   "id": "29834dc0-2de3-4629-98fb-4aa211e43a49",
   "metadata": {},
   "outputs": [],
   "source": [
    "params_df = common_ds \\\n",
    "    .drop_dims('data_set') \\\n",
    "    .to_dataframe() \\\n",
    "    .set_index(['prefix_len', 'prefix_version', 'k'], drop=True)"
   ]
  },
  {
   "cell_type": "code",
   "execution_count": 15,
   "id": "20d67094-f15c-4eab-b243-3f820c63ce29",
   "metadata": {},
   "outputs": [],
   "source": [
    "def get_param(prefix_len, prefix_version, k):\n",
    "    return params_df.index.get_loc((prefix_len, prefix_version, k))"
   ]
  },
  {
   "cell_type": "code",
   "execution_count": 16,
   "id": "35b0f13e-1462-42a2-8bd0-0b9f6f372953",
   "metadata": {},
   "outputs": [],
   "source": [
    "gambitdb_param = get_param(5, 0, 11)"
   ]
  },
  {
   "cell_type": "markdown",
   "id": "3380e0cb-6ff9-426e-bf33-d2dbae63a47a",
   "metadata": {},
   "source": [
    "### By genome"
   ]
  },
  {
   "cell_type": "code",
   "execution_count": 17,
   "id": "0b84fa25-e139-4d9a-8e8e-47a37baa30fd",
   "metadata": {},
   "outputs": [],
   "source": [
    "genome_dss = {gset: xr.load_dataset(infiles['data'], group='genome/' + gset) for gset in gsets}"
   ]
  },
  {
   "cell_type": "markdown",
   "id": "47859faf-b92e-4d2f-ab10-b70c4a78ccad",
   "metadata": {},
   "source": [
    "## ?"
   ]
  },
  {
   "cell_type": "code",
   "execution_count": 20,
   "id": "43f07d09-11fa-4c8b-82b0-2812c2f1890c",
   "metadata": {},
   "outputs": [],
   "source": [
    "df = genomes.loc['konstantinidis_2005']"
   ]
  },
  {
   "cell_type": "code",
   "execution_count": 21,
   "id": "28a9a2f5-3ec3-404b-b28e-9ccae794431b",
   "metadata": {},
   "outputs": [
    {
     "data": {
      "text/plain": [
       "<AxesSubplot:xlabel='ncontigs', ylabel='Count'>"
      ]
     },
     "execution_count": 21,
     "metadata": {},
     "output_type": "execute_result"
    },
    {
     "data": {
      "image/png": "[encoded data removed]",
      "text/plain": [
       "<Figure size 576x432 with 1 Axes>"
      ]
     },
     "metadata": {
      "needs_background": "light"
     },
     "output_type": "display_data"
    }
   ],
   "source": [
    "sns.histplot(df['ncontigs'])"
   ]
  }
 ],
 "metadata": {
  "kernelspec": {
   "display_name": "GAMBIT",
   "language": "python",
   "name": "gambit"
  },
  "language_info": {
   "codemirror_mode": {
    "name": "ipython",
    "version": 3
   },
   "file_extension": ".py",
   "mimetype": "text/x-python",
   "name": "python",
   "nbconvert_exporter": "python",
   "pygments_lexer": "ipython3",
   "version": "3.9.7"
  }
 },
 "nbformat": 4,
 "nbformat_minor": 5
}
