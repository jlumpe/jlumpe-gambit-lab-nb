{
 "cells": [
  {
   "cell_type": "markdown",
   "metadata": {},
   "source": [
    "# 200801 Gold standard queries"
   ]
  },
  {
   "cell_type": "code",
   "execution_count": 2,
   "metadata": {},
   "outputs": [],
   "source": [
    "from pathlib import Path\n",
    "import pickle\n",
    "from gzip import GzipFile\n",
    "\n",
    "from tqdm import tqdm\n",
    "import pandas as pd"
   ]
  },
  {
   "cell_type": "code",
   "execution_count": 3,
   "metadata": {},
   "outputs": [],
   "source": [
    "from midas.kmers import KmerSpec\n",
    "from midas.database.basicdatabase import BasicDatabase\n",
    "from midas.backports.signaturefile import SignatureFile\n",
    "\n",
    "from midas_cli.query import query_coords_concurrent, format_query_results"
   ]
  },
  {
   "cell_type": "markdown",
   "metadata": {},
   "source": [
    "## Notebook config"
   ]
  },
  {
   "cell_type": "code",
   "execution_count": 4,
   "metadata": {},
   "outputs": [],
   "source": [
    "_data_dir = Path('/Users/student/projects/midas/data/')\n",
    "\n",
    "in_files = {\n",
    "    'database': _data_dir / '2019_20/refseq_curated_1.1_beta_200525_db',\n",
    "    'signatures': _data_dir / '2019_20/refseq_curated_1.1beta_200604.midas-signatures.gz',\n",
    "    'seqs': _data_dir / 'gold_standard_seqs_200726/',\n",
    "    'species_thresholds': _data_dir / 'v1/thresholds/species_thresholds_160901.pickle',\n",
    "    'genus_thresholds': _data_dir / 'v1/thresholds/genus_thresholds_0.2_160906.pickle',\n",
    "}"
   ]
  },
  {
   "cell_type": "code",
   "execution_count": 5,
   "metadata": {},
   "outputs": [],
   "source": [
    "out_dir = Path('../../data/processed/200801-gold-standard-queries/')\n",
    "out_dir.mkdir(exist_ok=True)\n",
    "\n",
    "out_files = {\n",
    "    'results': out_dir / '200801-refseq-curated-1.1_beta-gold-standard-query-results.csv',\n",
    "}"
   ]
  },
  {
   "cell_type": "markdown",
   "metadata": {},
   "source": [
    "## Read files"
   ]
  },
  {
   "cell_type": "markdown",
   "metadata": {},
   "source": [
    "### Signatures"
   ]
  },
  {
   "cell_type": "code",
   "execution_count": 6,
   "metadata": {},
   "outputs": [],
   "source": [
    "sigfile = SignatureFile(GzipFile(in_files['signatures']))"
   ]
  },
  {
   "cell_type": "code",
   "execution_count": 7,
   "metadata": {},
   "outputs": [
    {
     "data": {
      "text/plain": [
       "{'genome_set': {'name': 'refseq_curated_2020',\n",
       "  'description': 'Created 2020-05-26 by filtering version 0.9 by inclusion in refseq/assembly/all 1.1',\n",
       "  'meta': {'parent': {'key_version': '0.9', 'key': 'midas/assembly/curated'},\n",
       "   'date_created': '2020-05-26'},\n",
       "  'key_version': '1.1',\n",
       "  'key': 'midas/assembly/curated'},\n",
       " 'date_created': '2020-06-04',\n",
       " 'kmer_spec': {'k': 11, 'prefix': 'ATGAC'},\n",
       " 'description': 'Signatures for version 1.1 of curated genome set'}"
      ]
     },
     "execution_count": 7,
     "metadata": {},
     "output_type": "execute_result"
    }
   ],
   "source": [
    "sigfile.get_metadata()"
   ]
  },
  {
   "cell_type": "code",
   "execution_count": 8,
   "metadata": {},
   "outputs": [],
   "source": [
    "sigs = sigfile.get_coords_collection()"
   ]
  },
  {
   "cell_type": "markdown",
   "metadata": {},
   "source": [
    "### Database"
   ]
  },
  {
   "cell_type": "code",
   "execution_count": 9,
   "metadata": {},
   "outputs": [],
   "source": [
    "db = BasicDatabase(in_files['database'])"
   ]
  },
  {
   "cell_type": "code",
   "execution_count": 10,
   "metadata": {},
   "outputs": [],
   "source": [
    "session = db.get_session()"
   ]
  },
  {
   "cell_type": "code",
   "execution_count": 11,
   "metadata": {},
   "outputs": [
    {
     "data": {
      "text/plain": [
       "{'parent': {'key_version': '0.9', 'key': 'midas/assembly/curated'}, 'date_created': '2020-05-26'}"
      ]
     },
     "execution_count": 11,
     "metadata": {},
     "output_type": "execute_result"
    }
   ],
   "source": [
    "gset = session.query(db.GenomeSet).filter_by(key='midas/assembly/curated', key_version='1.1').one()\n",
    "gset.meta"
   ]
  },
  {
   "cell_type": "code",
   "execution_count": 12,
   "metadata": {},
   "outputs": [
    {
     "name": "stderr",
     "output_type": "stream",
     "text": [
      "50752it [00:57, 885.82it/s] \n"
     ]
    }
   ],
   "source": [
    "annotations_dict = {a.genome.key: a for a in tqdm(gset.annotations)}"
   ]
  },
  {
   "cell_type": "code",
   "execution_count": 13,
   "metadata": {},
   "outputs": [],
   "source": [
    "annotations = [annotations_dict[k] for k in sigfile.ids]"
   ]
  },
  {
   "cell_type": "markdown",
   "metadata": {},
   "source": [
    "### Thresholds"
   ]
  },
  {
   "cell_type": "code",
   "execution_count": 14,
   "metadata": {},
   "outputs": [],
   "source": [
    "species_thresholds = pickle.load(in_files['species_thresholds'].open('rb'))\n",
    "genus_thresholds = pickle.load(in_files['genus_thresholds'].open('rb'))"
   ]
  },
  {
   "cell_type": "markdown",
   "metadata": {},
   "source": [
    "## Query"
   ]
  },
  {
   "cell_type": "code",
   "execution_count": 15,
   "metadata": {},
   "outputs": [],
   "source": [
    "kspec = KmerSpec(11, b'ATGAC')"
   ]
  },
  {
   "cell_type": "code",
   "execution_count": 16,
   "metadata": {},
   "outputs": [
    {
     "data": {
      "text/plain": [
       "80"
      ]
     },
     "execution_count": 16,
     "metadata": {},
     "output_type": "execute_result"
    }
   ],
   "source": [
    "query_files = sorted(in_files['seqs'].glob('*.fasta'))\n",
    "len(query_files)"
   ]
  },
  {
   "cell_type": "code",
   "execution_count": 17,
   "metadata": {},
   "outputs": [
    {
     "name": "stderr",
     "output_type": "stream",
     "text": [
      "100%|██████████| 80/80 [02:40<00:00,  2.00s/it]\n"
     ]
    }
   ],
   "source": [
    "with tqdm(total=len(query_files)) as pbar:\n",
    "    scores = query_coords_concurrent(kspec, query_files, sigs, callback=lambda i: pbar.update())"
   ]
  },
  {
   "cell_type": "markdown",
   "metadata": {},
   "source": [
    "### Format results"
   ]
  },
  {
   "cell_type": "code",
   "execution_count": 18,
   "metadata": {},
   "outputs": [],
   "source": [
    "results = format_query_results(query_files, scores, annotations, species_thresholds, genus_thresholds)"
   ]
  },
  {
   "cell_type": "code",
   "execution_count": 19,
   "metadata": {},
   "outputs": [],
   "source": [
    "results['query_file'] = results['query_file'].apply(lambda p: p.name)"
   ]
  },
  {
   "cell_type": "code",
   "execution_count": 20,
   "metadata": {},
   "outputs": [],
   "source": [
    "results.to_csv(out_files['results'], index=False)"
   ]
  },
  {
   "cell_type": "markdown",
   "metadata": {},
   "source": [
    "## Review results"
   ]
  },
  {
   "cell_type": "markdown",
   "metadata": {},
   "source": [
    "Queries without a predicted genus or species:"
   ]
  },
  {
   "cell_type": "code",
   "execution_count": 26,
   "metadata": {},
   "outputs": [
    {
     "data": {
      "text/html": [
       "<div>\n",
       "<style scoped>\n",
       "    .dataframe tbody tr th:only-of-type {\n",
       "        vertical-align: middle;\n",
       "    }\n",
       "\n",
       "    .dataframe tbody tr th {\n",
       "        vertical-align: top;\n",
       "    }\n",
       "\n",
       "    .dataframe thead th {\n",
       "        text-align: right;\n",
       "    }\n",
       "</style>\n",
       "<table border=\"1\" class=\"dataframe\">\n",
       "  <thead>\n",
       "    <tr style=\"text-align: right;\">\n",
       "      <th></th>\n",
       "      <th>query_file</th>\n",
       "      <th>top_score</th>\n",
       "      <th>predicted_genus</th>\n",
       "      <th>predicted_species</th>\n",
       "      <th>top_genus</th>\n",
       "      <th>genus_threshold</th>\n",
       "      <th>top_species</th>\n",
       "      <th>species_threshold</th>\n",
       "      <th>top_strain</th>\n",
       "      <th>top_description</th>\n",
       "      <th>top_accession</th>\n",
       "    </tr>\n",
       "  </thead>\n",
       "  <tbody>\n",
       "    <tr>\n",
       "      <th>3</th>\n",
       "      <td>16AC1611140-CAP_S15_L001_R1_001 Assembly Conti...</td>\n",
       "      <td>0.847769</td>\n",
       "      <td>Staphylococcus</td>\n",
       "      <td>None</td>\n",
       "      <td>Staphylococcus</td>\n",
       "      <td>0.2</td>\n",
       "      <td>lugdunensis</td>\n",
       "      <td>0.853163</td>\n",
       "      <td>HKU09-01</td>\n",
       "      <td>[GCF_000025085.1] Staphylococcus lugdunensis H...</td>\n",
       "      <td>GCF_000025085.1</td>\n",
       "    </tr>\n",
       "    <tr>\n",
       "      <th>19</th>\n",
       "      <td>17AC0006313ANBLD_S10_L001_R1_001 Assembly Cont...</td>\n",
       "      <td>0.087383</td>\n",
       "      <td>None</td>\n",
       "      <td>None</td>\n",
       "      <td>Veillonella</td>\n",
       "      <td>0.2</td>\n",
       "      <td>parvula</td>\n",
       "      <td>0.392589</td>\n",
       "      <td>DSM 2008</td>\n",
       "      <td>[GCF_000024945.1] Veillonella parvula DSM 2008...</td>\n",
       "      <td>GCF_000024945.1</td>\n",
       "    </tr>\n",
       "    <tr>\n",
       "      <th>21</th>\n",
       "      <td>17AC0006314_S11_L001_R1_001 Assembly Contigs.f...</td>\n",
       "      <td>0.873626</td>\n",
       "      <td>Pseudomonas</td>\n",
       "      <td>None</td>\n",
       "      <td>Pseudomonas</td>\n",
       "      <td>0.2</td>\n",
       "      <td>denitrificans</td>\n",
       "      <td>0.982552</td>\n",
       "      <td>576_PAER</td>\n",
       "      <td>[GCF_001065515.1] Pseudomonas aeruginosa (g-pr...</td>\n",
       "      <td>GCF_001065515.1</td>\n",
       "    </tr>\n",
       "    <tr>\n",
       "      <th>22</th>\n",
       "      <td>17AC0012455-1AN_S5_L001_R1_001 Assembly Contig...</td>\n",
       "      <td>0.515890</td>\n",
       "      <td>Streptococcus</td>\n",
       "      <td>None</td>\n",
       "      <td>Streptococcus</td>\n",
       "      <td>0.2</td>\n",
       "      <td>constellatus</td>\n",
       "      <td>0.947005</td>\n",
       "      <td>SK53</td>\n",
       "      <td>[GCF_000257785.1] Streptococcus constellatus s...</td>\n",
       "      <td>GCF_000257785.1</td>\n",
       "    </tr>\n",
       "    <tr>\n",
       "      <th>23</th>\n",
       "      <td>17AC0012455-1A_S1_L001_R1_001 Assembly Contigs...</td>\n",
       "      <td>0.443076</td>\n",
       "      <td>Streptococcus</td>\n",
       "      <td>None</td>\n",
       "      <td>Streptococcus</td>\n",
       "      <td>0.2</td>\n",
       "      <td>constellatus</td>\n",
       "      <td>0.947005</td>\n",
       "      <td>SK53</td>\n",
       "      <td>[GCF_000257785.1] Streptococcus constellatus s...</td>\n",
       "      <td>GCF_000257785.1</td>\n",
       "    </tr>\n",
       "    <tr>\n",
       "      <th>39</th>\n",
       "      <td>18AC0018936-1_S12_L001_R1_001 Assembly Contigs...</td>\n",
       "      <td>0.060266</td>\n",
       "      <td>None</td>\n",
       "      <td>None</td>\n",
       "      <td>Staphylococcus</td>\n",
       "      <td>0.2</td>\n",
       "      <td>epidermidis</td>\n",
       "      <td>0.689851</td>\n",
       "      <td>NIHLM023</td>\n",
       "      <td>[GCF_000276305.1] Staphylococcus epidermidis N...</td>\n",
       "      <td>GCF_000276305.1</td>\n",
       "    </tr>\n",
       "    <tr>\n",
       "      <th>42</th>\n",
       "      <td>18AC0018937-BAP_S11_L001_R1_001 Assembly Conti...</td>\n",
       "      <td>0.058114</td>\n",
       "      <td>None</td>\n",
       "      <td>None</td>\n",
       "      <td>Proteus</td>\n",
       "      <td>0.2</td>\n",
       "      <td>mirabilis</td>\n",
       "      <td>0.449309</td>\n",
       "      <td>FDAARGOS_60</td>\n",
       "      <td>[GCF_000784015.1] Proteus mirabilis (enterobac...</td>\n",
       "      <td>GCF_000784015.1</td>\n",
       "    </tr>\n",
       "    <tr>\n",
       "      <th>46</th>\n",
       "      <td>19AC0002347_S3_L001_R1_001 Assembly Contigs.fasta</td>\n",
       "      <td>0.269556</td>\n",
       "      <td>Stenotrophomonas</td>\n",
       "      <td>None</td>\n",
       "      <td>Stenotrophomonas</td>\n",
       "      <td>0.2</td>\n",
       "      <td>maltophilia</td>\n",
       "      <td>0.418237</td>\n",
       "      <td>305_SMAL</td>\n",
       "      <td>[GCF_001072195.1] Stenotrophomonas maltophilia...</td>\n",
       "      <td>GCF_001072195.1</td>\n",
       "    </tr>\n",
       "    <tr>\n",
       "      <th>48</th>\n",
       "      <td>19AC0002349B1_S10_L001_R1_001 Assembly Contigs...</td>\n",
       "      <td>0.008197</td>\n",
       "      <td>None</td>\n",
       "      <td>None</td>\n",
       "      <td>Clostridium</td>\n",
       "      <td>0.2</td>\n",
       "      <td>perfringens</td>\n",
       "      <td>0.414225</td>\n",
       "      <td>13</td>\n",
       "      <td>[GCF_000009685.1] Clostridium perfringens str....</td>\n",
       "      <td>GCF_000009685.1</td>\n",
       "    </tr>\n",
       "    <tr>\n",
       "      <th>56</th>\n",
       "      <td>19AC0011209-1_S9_L001_R1_001 Assembly Contigs....</td>\n",
       "      <td>0.314936</td>\n",
       "      <td>Burkholderia</td>\n",
       "      <td>None</td>\n",
       "      <td>Burkholderia</td>\n",
       "      <td>0.2</td>\n",
       "      <td>cenocepacia</td>\n",
       "      <td>0.832753</td>\n",
       "      <td>HI2424</td>\n",
       "      <td>[GCF_000203955.1] Burkholderia cenocepacia HI2...</td>\n",
       "      <td>GCF_000203955.1</td>\n",
       "    </tr>\n",
       "    <tr>\n",
       "      <th>58</th>\n",
       "      <td>19AC0011210_S5_L001_R1_001 Assembly Contigs.fasta</td>\n",
       "      <td>0.008074</td>\n",
       "      <td>None</td>\n",
       "      <td>None</td>\n",
       "      <td>Ureaplasma</td>\n",
       "      <td>0.2</td>\n",
       "      <td>urealyticum</td>\n",
       "      <td>0.791523</td>\n",
       "      <td>ATCC 33175</td>\n",
       "      <td>[GCF_000169595.1] Ureaplasma urealyticum serov...</td>\n",
       "      <td>GCF_000169595.1</td>\n",
       "    </tr>\n",
       "    <tr>\n",
       "      <th>67</th>\n",
       "      <td>19AC0016708_S8_L001_R1_001 Assembly Contigs.fasta</td>\n",
       "      <td>0.674916</td>\n",
       "      <td>Pseudomonas</td>\n",
       "      <td>None</td>\n",
       "      <td>Pseudomonas</td>\n",
       "      <td>0.2</td>\n",
       "      <td>monteilii</td>\n",
       "      <td>0.994141</td>\n",
       "      <td>NBRC 103158</td>\n",
       "      <td>[GCF_000730605.1] Pseudomonas monteilii NBRC 1...</td>\n",
       "      <td>GCF_000730605.1</td>\n",
       "    </tr>\n",
       "  </tbody>\n",
       "</table>\n",
       "</div>"
      ],
      "text/plain": [
       "                                           query_file  top_score  \\\n",
       "3   16AC1611140-CAP_S15_L001_R1_001 Assembly Conti...   0.847769   \n",
       "19  17AC0006313ANBLD_S10_L001_R1_001 Assembly Cont...   0.087383   \n",
       "21  17AC0006314_S11_L001_R1_001 Assembly Contigs.f...   0.873626   \n",
       "22  17AC0012455-1AN_S5_L001_R1_001 Assembly Contig...   0.515890   \n",
       "23  17AC0012455-1A_S1_L001_R1_001 Assembly Contigs...   0.443076   \n",
       "39  18AC0018936-1_S12_L001_R1_001 Assembly Contigs...   0.060266   \n",
       "42  18AC0018937-BAP_S11_L001_R1_001 Assembly Conti...   0.058114   \n",
       "46  19AC0002347_S3_L001_R1_001 Assembly Contigs.fasta   0.269556   \n",
       "48  19AC0002349B1_S10_L001_R1_001 Assembly Contigs...   0.008197   \n",
       "56  19AC0011209-1_S9_L001_R1_001 Assembly Contigs....   0.314936   \n",
       "58  19AC0011210_S5_L001_R1_001 Assembly Contigs.fasta   0.008074   \n",
       "67  19AC0016708_S8_L001_R1_001 Assembly Contigs.fasta   0.674916   \n",
       "\n",
       "     predicted_genus predicted_species         top_genus  genus_threshold  \\\n",
       "3     Staphylococcus              None    Staphylococcus              0.2   \n",
       "19              None              None       Veillonella              0.2   \n",
       "21       Pseudomonas              None       Pseudomonas              0.2   \n",
       "22     Streptococcus              None     Streptococcus              0.2   \n",
       "23     Streptococcus              None     Streptococcus              0.2   \n",
       "39              None              None    Staphylococcus              0.2   \n",
       "42              None              None           Proteus              0.2   \n",
       "46  Stenotrophomonas              None  Stenotrophomonas              0.2   \n",
       "48              None              None       Clostridium              0.2   \n",
       "56      Burkholderia              None      Burkholderia              0.2   \n",
       "58              None              None        Ureaplasma              0.2   \n",
       "67       Pseudomonas              None       Pseudomonas              0.2   \n",
       "\n",
       "      top_species  species_threshold   top_strain  \\\n",
       "3     lugdunensis           0.853163     HKU09-01   \n",
       "19        parvula           0.392589     DSM 2008   \n",
       "21  denitrificans           0.982552     576_PAER   \n",
       "22   constellatus           0.947005         SK53   \n",
       "23   constellatus           0.947005         SK53   \n",
       "39    epidermidis           0.689851     NIHLM023   \n",
       "42      mirabilis           0.449309  FDAARGOS_60   \n",
       "46    maltophilia           0.418237     305_SMAL   \n",
       "48    perfringens           0.414225           13   \n",
       "56    cenocepacia           0.832753       HI2424   \n",
       "58    urealyticum           0.791523   ATCC 33175   \n",
       "67      monteilii           0.994141  NBRC 103158   \n",
       "\n",
       "                                      top_description    top_accession  \n",
       "3   [GCF_000025085.1] Staphylococcus lugdunensis H...  GCF_000025085.1  \n",
       "19  [GCF_000024945.1] Veillonella parvula DSM 2008...  GCF_000024945.1  \n",
       "21  [GCF_001065515.1] Pseudomonas aeruginosa (g-pr...  GCF_001065515.1  \n",
       "22  [GCF_000257785.1] Streptococcus constellatus s...  GCF_000257785.1  \n",
       "23  [GCF_000257785.1] Streptococcus constellatus s...  GCF_000257785.1  \n",
       "39  [GCF_000276305.1] Staphylococcus epidermidis N...  GCF_000276305.1  \n",
       "42  [GCF_000784015.1] Proteus mirabilis (enterobac...  GCF_000784015.1  \n",
       "46  [GCF_001072195.1] Stenotrophomonas maltophilia...  GCF_001072195.1  \n",
       "48  [GCF_000009685.1] Clostridium perfringens str....  GCF_000009685.1  \n",
       "56  [GCF_000203955.1] Burkholderia cenocepacia HI2...  GCF_000203955.1  \n",
       "58  [GCF_000169595.1] Ureaplasma urealyticum serov...  GCF_000169595.1  \n",
       "67  [GCF_000730605.1] Pseudomonas monteilii NBRC 1...  GCF_000730605.1  "
      ]
     },
     "execution_count": 26,
     "metadata": {},
     "output_type": "execute_result"
    }
   ],
   "source": [
    "results[pd.isnull(results['predicted_genus']) | pd.isnull(results['predicted_species'])]"
   ]
  }
 ],
 "metadata": {
  "kernelspec": {
   "display_name": "MIDAS v1",
   "language": "python",
   "name": "midas1"
  },
  "language_info": {
   "codemirror_mode": {
    "name": "ipython",
    "version": 3
   },
   "file_extension": ".py",
   "mimetype": "text/x-python",
   "name": "python",
   "nbconvert_exporter": "python",
   "pygments_lexer": "ipython3",
   "version": "3.6.10"
  }
 },
 "nbformat": 4,
 "nbformat_minor": 4
}
