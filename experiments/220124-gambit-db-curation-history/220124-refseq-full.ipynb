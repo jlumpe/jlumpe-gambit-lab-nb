{
 "cells": [
  {
   "cell_type": "code",
   "execution_count": 1,
   "id": "4c6eed19-ab11-4411-bdf5-2bb863eb6250",
   "metadata": {},
   "outputs": [],
   "source": [
    "from pathlib import Path\n",
    "from gzip import GzipFile\n",
    "import re"
   ]
  },
  {
   "cell_type": "code",
   "execution_count": 2,
   "id": "3952f02c-1d44-41d1-83dc-7ceb07d25819",
   "metadata": {},
   "outputs": [],
   "source": [
    "from tqdm import tqdm"
   ]
  },
  {
   "cell_type": "code",
   "execution_count": 3,
   "id": "cf8d8d07-ca91-4d0c-923a-2d78fc9e0e72",
   "metadata": {},
   "outputs": [],
   "source": [
    "from gambit_legacy.midas1.archive import Midas1Archive"
   ]
  },
  {
   "cell_type": "code",
   "execution_count": null,
   "id": "8a3339a8-c891-4fff-aef0-4ea3b0944b40",
   "metadata": {},
   "outputs": [],
   "source": []
  },
  {
   "cell_type": "markdown",
   "id": "cbb920e3-dac8-4076-a4be-eeeeb8661d8b",
   "metadata": {},
   "source": [
    "## Setup"
   ]
  },
  {
   "cell_type": "code",
   "execution_count": 4,
   "id": "100e7243-7240-4ce4-a593-c20982a7c68b",
   "metadata": {},
   "outputs": [],
   "source": [
    "keys = [\n",
    "    'refseq_1.0_160823',\n",
    "    'refseq_1.0_160906',\n",
    "    'refseq_1.1_beta_200521',\n",
    "]\n",
    "\n",
    "archive_files = [\n",
    "    Path('/home/jared/projects/gambit/data/databases/midas/v1/archives/' + k + '.midas-archive.gz')\n",
    "    for k in keys\n",
    "]"
   ]
  },
  {
   "cell_type": "markdown",
   "id": "2522bae2-d915-49fa-8d9f-719cb8a35737",
   "metadata": {},
   "source": [
    "## Load data"
   ]
  },
  {
   "cell_type": "code",
   "execution_count": 5,
   "id": "28fbbc21-7bc1-4586-998c-9c7a3212be0e",
   "metadata": {},
   "outputs": [
    {
     "name": "stderr",
     "output_type": "stream",
     "text": [
      "100%|██████████| 3/3 [00:24<00:00,  8.14s/it]\n"
     ]
    }
   ],
   "source": [
    "gsets = []\n",
    "gset_genomes = []\n",
    "\n",
    "for path in tqdm(archive_files):\n",
    "    gz = GzipFile(path)\n",
    "\n",
    "    archive = Midas1Archive(gz)\n",
    "\n",
    "    (gset_key,) = archive.list_genome_sets()\n",
    "\n",
    "    gset, genomes = archive.get_genome_set(gset_key)\n",
    "    \n",
    "    gsets.append(gset)\n",
    "    gset_genomes.append(genomes)"
   ]
  },
  {
   "cell_type": "code",
   "execution_count": 6,
   "id": "e84b4324-56c7-43bb-9c62-85339159aee3",
   "metadata": {},
   "outputs": [
    {
     "data": {
      "text/plain": [
       "[{'description': 'All bacterial RefSeq entries in assembly database',\n",
       "  'key_version': '1.0',\n",
       "  'key': 'refseq/assembly/all',\n",
       "  'name': 'refseq',\n",
       "  'meta': None},\n",
       " {'meta': None,\n",
       "  'name': 'refseq',\n",
       "  'key': 'refseq/assembly/all',\n",
       "  'key_version': '1.0',\n",
       "  'description': 'All bacterial RefSeq entries in assembly database'},\n",
       " {'key_version': '1.1',\n",
       "  'description': 'All bacterial RefSeq entries in assembly database, updated with newest ESummary data 2020-05-20.',\n",
       "  'meta': {'parent': {'key_version': '1.0', 'key': 'refseq/assembly/all'},\n",
       "   'date_created': '2020-05-20'},\n",
       "  'key': 'refseq/assembly/all',\n",
       "  'name': 'refseq 1.1'}]"
      ]
     },
     "execution_count": 6,
     "metadata": {},
     "output_type": "execute_result"
    }
   ],
   "source": [
    "gsets"
   ]
  },
  {
   "cell_type": "code",
   "execution_count": 7,
   "id": "0bf31e2e-20e3-4ca0-9314-05ce79842cbb",
   "metadata": {},
   "outputs": [
    {
     "data": {
      "text/plain": [
       "{'refseq_1.0_160823': 65563,\n",
       " 'refseq_1.0_160906': 65561,\n",
       " 'refseq_1.1_beta_200521': 65556}"
      ]
     },
     "execution_count": 7,
     "metadata": {},
     "output_type": "execute_result"
    }
   ],
   "source": [
    "{k: len(g) for k, g in zip(keys, gset_genomes)}"
   ]
  },
  {
   "cell_type": "markdown",
   "id": "35f3943c-efd4-4d0e-a1ce-c7b08469d408",
   "metadata": {},
   "source": [
    "## Compare"
   ]
  },
  {
   "cell_type": "markdown",
   "id": "3fcdcbe1-1839-4eea-b260-588d60a9ff4c",
   "metadata": {},
   "source": [
    "## 160823 $\\to$ 160906"
   ]
  },
  {
   "cell_type": "code",
   "execution_count": 8,
   "id": "eaa3e15a-a263-442e-879e-084193b96a5b",
   "metadata": {},
   "outputs": [
    {
     "data": {
      "text/plain": [
       "True"
      ]
     },
     "execution_count": 8,
     "metadata": {},
     "output_type": "execute_result"
    }
   ],
   "source": [
    "gsets[0] == gsets[1]"
   ]
  },
  {
   "cell_type": "code",
   "execution_count": 9,
   "id": "b7c97a1e-7c52-4aee-b5e3-a25a5b6e77af",
   "metadata": {},
   "outputs": [],
   "source": [
    "assert set(gset_genomes[0]) >= set(gset_genomes[1])"
   ]
  },
  {
   "cell_type": "code",
   "execution_count": 10,
   "id": "68aea59c-ffd0-471b-930b-21ade343548e",
   "metadata": {},
   "outputs": [
    {
     "data": {
      "text/plain": [
       "{'refseq/assembly/GCF_900021165.1', 'refseq/assembly/GCF_900069005.1'}"
      ]
     },
     "execution_count": 10,
     "metadata": {},
     "output_type": "execute_result"
    }
   ],
   "source": [
    "missing_160906 = set(gset_genomes[0]) - set(gset_genomes[1])\n",
    "missing_160906"
   ]
  },
  {
   "cell_type": "code",
   "execution_count": 11,
   "id": "1c0457e6-6689-48c9-8c2d-a8dca936836b",
   "metadata": {},
   "outputs": [],
   "source": [
    "for k, g in gset_genomes[1].items():\n",
    "    assert g == gset_genomes[0][k]"
   ]
  },
  {
   "cell_type": "code",
   "execution_count": 12,
   "id": "e7da5d65-c1d0-47f0-8fc3-ccc691bd2d8e",
   "metadata": {},
   "outputs": [
    {
     "data": {
      "text/plain": [
       "{'refseq/assembly/GCF_900069005.1': {'tax_strain': 'GM2',\n",
       "  'tax_species': 'sp. GM2',\n",
       "  'organism': 'Paenibacillus sp. GM2 (firmicutes)',\n",
       "  'tax_genus': 'Paenibacillus'},\n",
       " 'refseq/assembly/GCF_900021165.1': {'tax_strain': 'MT24',\n",
       "  'tax_species': 'sp. MT24',\n",
       "  'organism': 'Paenibacillus sp. MT24 (firmicutes)',\n",
       "  'tax_genus': 'Paenibacillus'}}"
      ]
     },
     "execution_count": 12,
     "metadata": {},
     "output_type": "execute_result"
    }
   ],
   "source": [
    "{k: gset_genomes[0][k] for k in missing_160906}"
   ]
  },
  {
   "cell_type": "markdown",
   "id": "e627b414-e7e4-434a-9fdb-ca31b9a8b6b7",
   "metadata": {},
   "source": [
    "## 160906 $\\to$ 200521"
   ]
  },
  {
   "cell_type": "code",
   "execution_count": 13,
   "id": "56c3ff7a-a87d-411a-ae90-e8749492859f",
   "metadata": {},
   "outputs": [],
   "source": [
    "assert set(gset_genomes[1]) >= set(gset_genomes[2])"
   ]
  },
  {
   "cell_type": "code",
   "execution_count": 14,
   "id": "2e923e8f-87aa-48a0-8147-15aede1f3f96",
   "metadata": {},
   "outputs": [
    {
     "data": {
      "text/plain": [
       "{'refseq/assembly/GCF_000026325.1',\n",
       " 'refseq/assembly/GCF_000220025.2',\n",
       " 'refseq/assembly/GCF_000367945.1',\n",
       " 'refseq/assembly/GCF_000487935.1',\n",
       " 'refseq/assembly/GCF_000542635.1'}"
      ]
     },
     "execution_count": 14,
     "metadata": {},
     "output_type": "execute_result"
    }
   ],
   "source": [
    "missing_200521 = set(gset_genomes[1]) - set(gset_genomes[2])\n",
    "missing_200521"
   ]
  },
  {
   "cell_type": "code",
   "execution_count": 15,
   "id": "0a122715-5341-44c4-9af0-104aa305a93a",
   "metadata": {},
   "outputs": [
    {
     "data": {
      "text/plain": [
       "{'refseq/assembly/GCF_000220025.2': {'tax_strain': 'AES-1R',\n",
       "  'tax_genus': 'Pseudomonas',\n",
       "  'organism': 'Pseudomonas aeruginosa AES-1R (g-proteobacteria)',\n",
       "  'tax_species': 'aeruginosa'},\n",
       " 'refseq/assembly/GCF_000367945.1': {'tax_strain': 'NIPH 809',\n",
       "  'tax_genus': 'Acinetobacter',\n",
       "  'organism': 'Acinetobacter sp. NIPH 809 (g-proteobacteria)',\n",
       "  'tax_species': 'sp. NIPH 809'},\n",
       " 'refseq/assembly/GCF_000487935.1': {'tax_strain': 'CFSAN000624',\n",
       "  'tax_genus': 'Salmonella',\n",
       "  'organism': 'Salmonella enterica subsp. enterica serovar Stanleyville str. CFSAN000624 (enterobacteria)',\n",
       "  'tax_species': 'enterica'},\n",
       " 'refseq/assembly/GCF_000026325.1': {'tax_strain': 'UMN026',\n",
       "  'tax_genus': 'Escherichia',\n",
       "  'organism': 'Escherichia coli UMN026 (E. coli)',\n",
       "  'tax_species': 'coli'},\n",
       " 'refseq/assembly/GCF_000542635.1': {'tax_strain': 'GGMC6027',\n",
       "  'tax_genus': 'Staphylococcus',\n",
       "  'organism': 'Staphylococcus aureus GGMC6027 (firmicutes)',\n",
       "  'tax_species': 'aureus'}}"
      ]
     },
     "execution_count": 15,
     "metadata": {},
     "output_type": "execute_result"
    }
   ],
   "source": [
    "{k: gset_genomes[1][k] for k in missing_200521}"
   ]
  },
  {
   "cell_type": "markdown",
   "id": "ce4ce0b3-8cf1-43eb-8caf-b8ffd6b98bdd",
   "metadata": {},
   "source": [
    "## Compile"
   ]
  },
  {
   "cell_type": "code",
   "execution_count": null,
   "id": "da5393ea-23d4-44a8-b0be-d2ffd57da781",
   "metadata": {},
   "outputs": [],
   "source": []
  }
 ],
 "metadata": {
  "kernelspec": {
   "display_name": "GAMBIT",
   "language": "python",
   "name": "gambit"
  },
  "language_info": {
   "codemirror_mode": {
    "name": "ipython",
    "version": 3
   },
   "file_extension": ".py",
   "mimetype": "text/x-python",
   "name": "python",
   "nbconvert_exporter": "python",
   "pygments_lexer": "ipython3",
   "version": "3.9.10"
  }
 },
 "nbformat": 4,
 "nbformat_minor": 5
}
